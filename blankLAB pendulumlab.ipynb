{
 "cells": [
  {
   "cell_type": "markdown",
   "id": "1e8e19e5-7af8-4693-a59a-5a4107da16c9",
   "metadata": {},
   "source": [
    "# Lab -- Period of a Pendulum"
   ]
  },
  {
   "cell_type": "markdown",
   "id": "1447d112-32a8-4d1c-b23c-cc8f9b6ff4fb",
   "metadata": {},
   "source": [
    "**Please write your name in this box**"
   ]
  },
  {
   "cell_type": "markdown",
   "id": "95f01f00-715f-419a-b764-053461b08478",
   "metadata": {},
   "source": []
  },
  {
   "cell_type": "markdown",
   "id": "412ab45f-b532-4f66-b9ee-4cecdf012975",
   "metadata": {},
   "source": [
    "*We encourage you to work together, and seek whatever help you need in completing this lab.  Please list all people who you worked with or received help from*"
   ]
  },
  {
   "cell_type": "markdown",
   "id": "5de09c25-13e2-4782-968a-ceb3b66af3af",
   "metadata": {},
   "source": []
  },
  {
   "cell_type": "markdown",
   "id": "893aacf8-9f29-498d-9652-1004b0b79fcc",
   "metadata": {},
   "source": [
    "*We encourage you to use any online resources that you find useful. Please list any URL's that you consulted*"
   ]
  },
  {
   "cell_type": "markdown",
   "id": "bf1758ba-ca80-4588-b6bc-0392b9bd3688",
   "metadata": {},
   "source": []
  },
  {
   "cell_type": "markdown",
   "id": "d43d4969-349c-41e1-a4e9-bcba9b1a647c",
   "metadata": {},
   "source": [
    "*We encourage you to use AI resources if you find them useful.  If you made use of AI, please list the platform and the prompts which you made use of*"
   ]
  },
  {
   "cell_type": "markdown",
   "id": "8b0df1dc-547e-4c33-a07e-7b130c706ac2",
   "metadata": {},
   "source": []
  },
  {
   "cell_type": "markdown",
   "id": "6e8ab850",
   "metadata": {},
   "source": [
    "This is a Jupyter notebook:  it is an interactive interface with Julia, which is similar to Mathematica.  \n",
    "\n",
    "There are two types of cells: *Markdown* and *code*.  Markdown cells understand $\\LaTeX$ -- and you can insert arbitrary html commants in them -- meaning that if you upload an image to your Google Drive, and make it world readible, you can insert it into the cell.  Markdown cells also accept standard *Markdown* syntax.\n",
    "\n",
    "In code cells, but not markdown cells, you can type Greek letters by typing their LaTeX name -- such as `\\alpha` and then hit`tab`.  Subscripts, $f_j$, can be written as `f\\_j` followed by `tab`."
   ]
  },
  {
   "cell_type": "markdown",
   "id": "92f9f7f1",
   "metadata": {},
   "source": [
    "You click on a markdown cell to edit it -- typeset it with a \"shift-enter\".  To run a code cell type shift-enter on it. "
   ]
  },
  {
   "cell_type": "markdown",
   "id": "7030e315",
   "metadata": {},
   "source": [
    "Here are some useful links:\n",
    "- [Getting Started with Julia](https://computationalthinking.mit.edu/Spring21/basic_syntax/)\n",
    "- [Fasttrack to Julia](https://juliadocs.github.io/Julia-Cheat-Sheet/)\n",
    "- [MATLAB-Julia-Python comparison](https://cheatsheets.quantecon.org/)\n",
    "- [Plots.jl cheatsheet](https://github.com/sswatson/cheatsheets/blob/master/plotsjl-cheatsheet.pdf)"
   ]
  },
  {
   "cell_type": "markdown",
   "id": "2955c888-c5a3-4600-8e8e-adaadf5428d9",
   "metadata": {},
   "source": [
    "Rather than spending time teaching you a bunch of syntax in the abstract -- we will try to pick up syntax on-the-go.  It is great practice to use google and stack overflow to figure out notation"
   ]
  },
  {
   "cell_type": "markdown",
   "id": "a4a6d618",
   "metadata": {},
   "source": [
    "<h3 style=\"border: 2px solid #000; border-radius: 10px; padding: 20px; background-color:blue; color:white;\" >warm-up on data entry</h3>"
   ]
  },
  {
   "cell_type": "markdown",
   "id": "c8c06889",
   "metadata": {},
   "source": [
    "**Hit shift-enter on each of these lines sequentially to run the code.  Then change $\\alpha$ to $\\beta$, change the numbers, and rerun**  "
   ]
  },
  {
   "cell_type": "code",
   "execution_count": 1,
   "id": "a64b4f77",
   "metadata": {},
   "outputs": [
    {
     "data": {
      "text/plain": [
       "1"
      ]
     },
     "execution_count": 1,
     "metadata": {},
     "output_type": "execute_result"
    }
   ],
   "source": [
    "α=1"
   ]
  },
  {
   "cell_type": "code",
   "execution_count": 2,
   "id": "e0f047cd",
   "metadata": {},
   "outputs": [
    {
     "data": {
      "text/plain": [
       "4"
      ]
     },
     "execution_count": 2,
     "metadata": {},
     "output_type": "execute_result"
    }
   ],
   "source": [
    "α+3"
   ]
  },
  {
   "cell_type": "markdown",
   "id": "5673a246",
   "metadata": {},
   "source": [
    "### Getting Help"
   ]
  },
  {
   "cell_type": "markdown",
   "id": "adaf1ca8",
   "metadata": {},
   "source": [
    "Want to know what a symbol means?  For example, what is does the `length` command do?  Type `?length` and then shift-enter. "
   ]
  },
  {
   "cell_type": "code",
   "execution_count": 3,
   "id": "32e275f6",
   "metadata": {
    "scrolled": true
   },
   "outputs": [
    {
     "name": "stdout",
     "output_type": "stream",
     "text": [
      "search: \u001b[0m\u001b[1ml\u001b[22m\u001b[0m\u001b[1me\u001b[22m\u001b[0m\u001b[1mn\u001b[22m\u001b[0m\u001b[1mg\u001b[22m\u001b[0m\u001b[1mt\u001b[22m\u001b[0m\u001b[1mh\u001b[22m\n",
      "\n"
     ]
    },
    {
     "data": {
      "text/latex": [
       "\\begin{verbatim}\n",
       "length(collection) -> Integer\n",
       "\\end{verbatim}\n",
       "Return the number of elements in the collection.\n",
       "\n",
       "Use \\href{@ref}{\\texttt{lastindex}} to get the last valid index of an indexable collection.\n",
       "\n",
       "See also: \\href{@ref}{\\texttt{size}}, \\href{@ref}{\\texttt{ndims}}, \\href{@ref}{\\texttt{eachindex}}.\n",
       "\n",
       "\\section{Examples}\n",
       "\\begin{verbatim}\n",
       "julia> length(1:5)\n",
       "5\n",
       "\n",
       "julia> length([1, 2, 3, 4])\n",
       "4\n",
       "\n",
       "julia> length([1 2; 3 4])\n",
       "4\n",
       "\\end{verbatim}\n",
       "\\rule{\\textwidth}{1pt}\n",
       "\\begin{verbatim}\n",
       "length(A::AbstractArray)\n",
       "\\end{verbatim}\n",
       "Return the number of elements in the array, defaults to \\texttt{prod(size(A))}.\n",
       "\n",
       "\\section{Examples}\n",
       "\\begin{verbatim}\n",
       "julia> length([1, 2, 3, 4])\n",
       "4\n",
       "\n",
       "julia> length([1 2; 3 4])\n",
       "4\n",
       "\\end{verbatim}\n",
       "\\rule{\\textwidth}{1pt}\n",
       "\\begin{verbatim}\n",
       "length(s::AbstractString) -> Int\n",
       "length(s::AbstractString, i::Integer, j::Integer) -> Int\n",
       "\\end{verbatim}\n",
       "Return the number of characters in string \\texttt{s} from indices \\texttt{i} through \\texttt{j}.\n",
       "\n",
       "This is computed as the number of code unit indices from \\texttt{i} to \\texttt{j} which are valid character indices. With only a single string argument, this computes the number of characters in the entire string. With \\texttt{i} and \\texttt{j} arguments it computes the number of indices between \\texttt{i} and \\texttt{j} inclusive that are valid indices in the string \\texttt{s}. In addition to in-bounds values, \\texttt{i} may take the out-of-bounds value \\texttt{ncodeunits(s) + 1} and \\texttt{j} may take the out-of-bounds value \\texttt{0}.\n",
       "\n",
       "\\begin{quote}\n",
       "\\textbf{note}\n",
       "\n",
       "Note\n",
       "\n",
       "The time complexity of this operation is linear in general. That is, it will take the time proportional to the number of bytes or characters in the string because it counts the value on the fly. This is in contrast to the method for arrays, which is a constant-time operation.\n",
       "\n",
       "\\end{quote}\n",
       "See also \\href{@ref}{\\texttt{isvalid}}, \\href{@ref}{\\texttt{ncodeunits}}, \\href{@ref}{\\texttt{lastindex}}, \\href{@ref}{\\texttt{thisind}}, \\href{@ref}{\\texttt{nextind}}, \\href{@ref}{\\texttt{prevind}}.\n",
       "\n",
       "\\section{Examples}\n",
       "\\begin{verbatim}\n",
       "julia> length(\"jμΛIα\")\n",
       "5\n",
       "\\end{verbatim}\n"
      ],
      "text/markdown": [
       "```\n",
       "length(collection) -> Integer\n",
       "```\n",
       "\n",
       "Return the number of elements in the collection.\n",
       "\n",
       "Use [`lastindex`](@ref) to get the last valid index of an indexable collection.\n",
       "\n",
       "See also: [`size`](@ref), [`ndims`](@ref), [`eachindex`](@ref).\n",
       "\n",
       "# Examples\n",
       "\n",
       "```jldoctest\n",
       "julia> length(1:5)\n",
       "5\n",
       "\n",
       "julia> length([1, 2, 3, 4])\n",
       "4\n",
       "\n",
       "julia> length([1 2; 3 4])\n",
       "4\n",
       "```\n",
       "\n",
       "---\n",
       "\n",
       "```\n",
       "length(A::AbstractArray)\n",
       "```\n",
       "\n",
       "Return the number of elements in the array, defaults to `prod(size(A))`.\n",
       "\n",
       "# Examples\n",
       "\n",
       "```jldoctest\n",
       "julia> length([1, 2, 3, 4])\n",
       "4\n",
       "\n",
       "julia> length([1 2; 3 4])\n",
       "4\n",
       "```\n",
       "\n",
       "---\n",
       "\n",
       "```\n",
       "length(s::AbstractString) -> Int\n",
       "length(s::AbstractString, i::Integer, j::Integer) -> Int\n",
       "```\n",
       "\n",
       "Return the number of characters in string `s` from indices `i` through `j`.\n",
       "\n",
       "This is computed as the number of code unit indices from `i` to `j` which are valid character indices. With only a single string argument, this computes the number of characters in the entire string. With `i` and `j` arguments it computes the number of indices between `i` and `j` inclusive that are valid indices in the string `s`. In addition to in-bounds values, `i` may take the out-of-bounds value `ncodeunits(s) + 1` and `j` may take the out-of-bounds value `0`.\n",
       "\n",
       "!!! note\n",
       "    The time complexity of this operation is linear in general. That is, it will take the time proportional to the number of bytes or characters in the string because it counts the value on the fly. This is in contrast to the method for arrays, which is a constant-time operation.\n",
       "\n",
       "\n",
       "See also [`isvalid`](@ref), [`ncodeunits`](@ref), [`lastindex`](@ref), [`thisind`](@ref), [`nextind`](@ref), [`prevind`](@ref).\n",
       "\n",
       "# Examples\n",
       "\n",
       "```jldoctest\n",
       "julia> length(\"jμΛIα\")\n",
       "5\n",
       "```\n"
      ],
      "text/plain": [
       "\u001b[36m  length(collection) -> Integer\u001b[39m\n",
       "\n",
       "  Return the number of elements in the collection.\n",
       "\n",
       "  Use \u001b[36mlastindex\u001b[39m to get the last valid index of an indexable collection.\n",
       "\n",
       "  See also: \u001b[36msize\u001b[39m, \u001b[36mndims\u001b[39m, \u001b[36meachindex\u001b[39m.\n",
       "\n",
       "\u001b[1m  Examples\u001b[22m\n",
       "\u001b[1m  ≡≡≡≡≡≡≡≡\u001b[22m\n",
       "\n",
       "\u001b[36m  julia> length(1:5)\u001b[39m\n",
       "\u001b[36m  5\u001b[39m\n",
       "\u001b[36m  \u001b[39m\n",
       "\u001b[36m  julia> length([1, 2, 3, 4])\u001b[39m\n",
       "\u001b[36m  4\u001b[39m\n",
       "\u001b[36m  \u001b[39m\n",
       "\u001b[36m  julia> length([1 2; 3 4])\u001b[39m\n",
       "\u001b[36m  4\u001b[39m\n",
       "\n",
       "  ────────────────────────────────────────────────────────────────────────────\n",
       "\n",
       "\u001b[36m  length(A::AbstractArray)\u001b[39m\n",
       "\n",
       "  Return the number of elements in the array, defaults to \u001b[36mprod(size(A))\u001b[39m.\n",
       "\n",
       "\u001b[1m  Examples\u001b[22m\n",
       "\u001b[1m  ≡≡≡≡≡≡≡≡\u001b[22m\n",
       "\n",
       "\u001b[36m  julia> length([1, 2, 3, 4])\u001b[39m\n",
       "\u001b[36m  4\u001b[39m\n",
       "\u001b[36m  \u001b[39m\n",
       "\u001b[36m  julia> length([1 2; 3 4])\u001b[39m\n",
       "\u001b[36m  4\u001b[39m\n",
       "\n",
       "  ────────────────────────────────────────────────────────────────────────────\n",
       "\n",
       "\u001b[36m  length(s::AbstractString) -> Int\u001b[39m\n",
       "\u001b[36m  length(s::AbstractString, i::Integer, j::Integer) -> Int\u001b[39m\n",
       "\n",
       "  Return the number of characters in string \u001b[36ms\u001b[39m from indices \u001b[36mi\u001b[39m through \u001b[36mj\u001b[39m.\n",
       "\n",
       "  This is computed as the number of code unit indices from \u001b[36mi\u001b[39m to \u001b[36mj\u001b[39m which are\n",
       "  valid character indices. With only a single string argument, this computes\n",
       "  the number of characters in the entire string. With \u001b[36mi\u001b[39m and \u001b[36mj\u001b[39m arguments it\n",
       "  computes the number of indices between \u001b[36mi\u001b[39m and \u001b[36mj\u001b[39m inclusive that are valid\n",
       "  indices in the string \u001b[36ms\u001b[39m. In addition to in-bounds values, \u001b[36mi\u001b[39m may take the\n",
       "  out-of-bounds value \u001b[36mncodeunits(s) + 1\u001b[39m and \u001b[36mj\u001b[39m may take the out-of-bounds value\n",
       "  \u001b[36m0\u001b[39m.\n",
       "\n",
       "\u001b[36m\u001b[1m  │ \u001b[22m\u001b[39m\u001b[36m\u001b[1mNote\u001b[22m\u001b[39m\n",
       "\u001b[36m\u001b[1m  │\u001b[22m\u001b[39m\n",
       "\u001b[36m\u001b[1m  │\u001b[22m\u001b[39m  The time complexity of this operation is linear in general. That\n",
       "\u001b[36m\u001b[1m  │\u001b[22m\u001b[39m  is, it will take the time proportional to the number of bytes or\n",
       "\u001b[36m\u001b[1m  │\u001b[22m\u001b[39m  characters in the string because it counts the value on the fly.\n",
       "\u001b[36m\u001b[1m  │\u001b[22m\u001b[39m  This is in contrast to the method for arrays, which is a\n",
       "\u001b[36m\u001b[1m  │\u001b[22m\u001b[39m  constant-time operation.\n",
       "\n",
       "  See also \u001b[36misvalid\u001b[39m, \u001b[36mncodeunits\u001b[39m, \u001b[36mlastindex\u001b[39m, \u001b[36mthisind\u001b[39m, \u001b[36mnextind\u001b[39m, \u001b[36mprevind\u001b[39m.\n",
       "\n",
       "\u001b[1m  Examples\u001b[22m\n",
       "\u001b[1m  ≡≡≡≡≡≡≡≡\u001b[22m\n",
       "\n",
       "\u001b[36m  julia> length(\"jμΛIα\")\u001b[39m\n",
       "\u001b[36m  5\u001b[39m"
      ]
     },
     "execution_count": 3,
     "metadata": {},
     "output_type": "execute_result"
    }
   ],
   "source": [
    "?length"
   ]
  },
  {
   "cell_type": "markdown",
   "id": "5b5f8565-1550-499f-8ec5-f8ec822d40ab",
   "metadata": {},
   "source": [
    "Here is a quick intro to `logging` in Julia, as a way to help your coding."
   ]
  },
  {
   "cell_type": "code",
   "execution_count": 4,
   "id": "2e743d96-3ac4-4f0e-bd6f-297f120dfabe",
   "metadata": {},
   "outputs": [],
   "source": [
    "# Set up a logger, which we can use for debug messages\n",
    "using Logging\n",
    "debug_logger=ConsoleLogger(stderr, Logging.Debug);"
   ]
  },
  {
   "cell_type": "code",
   "execution_count": 5,
   "id": "6bf4e820-6782-4601-add5-d8ad337a43de",
   "metadata": {},
   "outputs": [
    {
     "data": {
      "text/plain": [
       "addnumbers (generic function with 1 method)"
      ]
     },
     "execution_count": 5,
     "metadata": {},
     "output_type": "execute_result"
    }
   ],
   "source": [
    "function addnumbers(a,b)\n",
    "    @debug \"addnumbers called with arguments\" a b\n",
    "    result=a+b\n",
    "    @debug \"calculated result as\" result\n",
    "    return result\n",
    "end"
   ]
  },
  {
   "cell_type": "markdown",
   "id": "04fcf74a-ae7f-4669-827c-dd495a3254de",
   "metadata": {},
   "source": [
    "Under normal evaluation those `@debug` statements are essentially ignored.  They should not greatly affect the code speed, so feel free to liberally add them.  You can always remove them later."
   ]
  },
  {
   "cell_type": "code",
   "execution_count": 6,
   "id": "e0e12907-38ca-49f7-a135-f91ae7a0fdcd",
   "metadata": {},
   "outputs": [
    {
     "data": {
      "text/plain": [
       "5"
      ]
     },
     "execution_count": 6,
     "metadata": {},
     "output_type": "execute_result"
    }
   ],
   "source": [
    "addnumbers(2,3)"
   ]
  },
  {
   "cell_type": "markdown",
   "id": "905d4c62-650a-4e4c-b088-18bbf5f91c01",
   "metadata": {},
   "source": [
    "When you wrap your code inside a `with_logger` environment the debug messages are sent to `stderr` -- which in a Jupyter notebook appears in a red box."
   ]
  },
  {
   "cell_type": "code",
   "execution_count": 7,
   "id": "e72b6b80-3ca3-477c-bab4-edd4477b648c",
   "metadata": {},
   "outputs": [
    {
     "name": "stderr",
     "output_type": "stream",
     "text": [
      "\u001b[34m\u001b[1m┌ \u001b[22m\u001b[39m\u001b[34m\u001b[1mDebug: \u001b[22m\u001b[39maddnumbers called with arguments\n",
      "\u001b[34m\u001b[1m│ \u001b[22m\u001b[39m  a = 2\n",
      "\u001b[34m\u001b[1m│ \u001b[22m\u001b[39m  b = 3\n",
      "\u001b[34m\u001b[1m└ \u001b[22m\u001b[39m\u001b[90m@ Main In[5]:2\u001b[39m\n",
      "\u001b[34m\u001b[1m┌ \u001b[22m\u001b[39m\u001b[34m\u001b[1mDebug: \u001b[22m\u001b[39mcalculated result as\n",
      "\u001b[34m\u001b[1m│ \u001b[22m\u001b[39m  result = 5\n",
      "\u001b[34m\u001b[1m└ \u001b[22m\u001b[39m\u001b[90m@ Main In[5]:4\u001b[39m\n"
     ]
    },
    {
     "data": {
      "text/plain": [
       "5"
      ]
     },
     "execution_count": 7,
     "metadata": {},
     "output_type": "execute_result"
    }
   ],
   "source": [
    "with_logger(debug_logger) do # Enable the debug logger locally\n",
    "    addnumbers(2,3)\n",
    "end"
   ]
  },
  {
   "cell_type": "markdown",
   "id": "1e1615a5-e647-41ab-a209-e2981005c7fb",
   "metadata": {},
   "source": [
    "You can turn on/off the display line numbers with the option in the `View` menu"
   ]
  },
  {
   "cell_type": "markdown",
   "id": "675a4de3-3e75-44ee-8408-bba6cd2735b1",
   "metadata": {},
   "source": [
    "Another useful technique is to use `println`"
   ]
  },
  {
   "cell_type": "code",
   "execution_count": 8,
   "id": "a252de54-53ec-40b0-8e93-0fe905a6c882",
   "metadata": {},
   "outputs": [
    {
     "data": {
      "text/plain": [
       "addnumbers (generic function with 1 method)"
      ]
     },
     "execution_count": 8,
     "metadata": {},
     "output_type": "execute_result"
    }
   ],
   "source": [
    "function addnumbers(a,b)\n",
    "    println(\"addnumbers called with arguments $a and $b\")\n",
    "    result=a+b\n",
    "    println(\"calculated result as $result\")\n",
    "    return result\n",
    "end"
   ]
  },
  {
   "cell_type": "code",
   "execution_count": 9,
   "id": "aa082827-a0cc-4809-9a78-f1d81f98d143",
   "metadata": {},
   "outputs": [
    {
     "name": "stdout",
     "output_type": "stream",
     "text": [
      "addnumbers called with arguments 2 and 3\n",
      "calculated result as 5\n"
     ]
    },
    {
     "data": {
      "text/plain": [
       "5"
      ]
     },
     "execution_count": 9,
     "metadata": {},
     "output_type": "execute_result"
    }
   ],
   "source": [
    "addnumbers(2,3)"
   ]
  },
  {
   "cell_type": "markdown",
   "id": "ad7d9ac0-85c9-4025-bbd8-ade5c3ab79fa",
   "metadata": {},
   "source": [
    "It is also useful to add return statements to exit prematurely"
   ]
  },
  {
   "cell_type": "code",
   "execution_count": 10,
   "id": "cda1b0ae-1189-4906-a575-9a496fc8681a",
   "metadata": {},
   "outputs": [
    {
     "data": {
      "text/plain": [
       "addnumbers (generic function with 1 method)"
      ]
     },
     "execution_count": 10,
     "metadata": {},
     "output_type": "execute_result"
    }
   ],
   "source": [
    "function addnumbers(a,b)\n",
    "    println(\"addnumbers called with arguments $a and $b\")\n",
    "    return (a,b) #exit prematurely, and return (a,b)\n",
    "    result=a+b\n",
    "    println(\"calculated result as $result\")\n",
    "    return result\n",
    "end"
   ]
  },
  {
   "cell_type": "code",
   "execution_count": 11,
   "id": "5ab478c8-70c7-47c6-aa7d-f72381a92e58",
   "metadata": {},
   "outputs": [
    {
     "name": "stdout",
     "output_type": "stream",
     "text": [
      "addnumbers called with arguments 2 and 3\n"
     ]
    },
    {
     "data": {
      "text/plain": [
       "(2, 3)"
      ]
     },
     "execution_count": 11,
     "metadata": {},
     "output_type": "execute_result"
    }
   ],
   "source": [
    "addnumbers(2,3)"
   ]
  },
  {
   "cell_type": "markdown",
   "id": "457a260b-7781-4057-8e25-e1858bc63fbb",
   "metadata": {},
   "source": [
    "### Group Debugging"
   ]
  },
  {
   "cell_type": "markdown",
   "id": "c405d07a-6b42-4c42-af21-ee3ff201f201",
   "metadata": {},
   "source": [
    "Having trouble with some code?  I will circulate to help you.  Post the problem code to *Ed Discussions* (linked through the Canvas site), and we can debug it as a class. This is a great way to work on debugging skills."
   ]
  },
  {
   "cell_type": "markdown",
   "id": "623da562",
   "metadata": {},
   "source": [
    "In our first lecture we developed tools for numerical integration, with the goal of being able to calculate the period of the pendulum using\n",
    "\n",
    "$$\n",
    "\\bar T =\\frac{T}{T_0}=\\frac{\\sqrt{2}}{\\pi}\\int_0^{\\theta_m}\\frac{d\\theta}{\\sqrt{\\cos(\\theta)-\\cos(\\theta_m)}}\n",
    "$$\n",
    "where\n",
    "$$\n",
    "T_{0}=2\\pi \\frac{L}{g}.\n",
    "$$\n",
    "\n",
    "We developed tools to use the Trapezoid Rule to carry out integration like this.  Unfortunately these tools will not directly work here, because the integrand diverges.  In this lab you will explore two complementary ways to get around this problem:\n",
    "\n",
    "1. **Midpoint Rule:**  You will develop code which will calculate the period using an algorithm that does not require evaluating the integrand at the end points.\n",
    "2. **Change of variables:** You will introduce a change of variables which eliminates the divergence.\n",
    "\n",
    "By itself, using the midpoint rule will not suffice to solve our problems, as the resulting numerical integral will converge very slowly.  The change of variables, however, will accelerate convergence.  \n",
    "\n",
    "After solving the technical problems, you will try to understand the behavior of period."
   ]
  },
  {
   "cell_type": "code",
   "execution_count": 12,
   "id": "67ffae66",
   "metadata": {},
   "outputs": [],
   "source": [
    "using Plots,LaTeXStrings #load in visualization software"
   ]
  },
  {
   "cell_type": "markdown",
   "id": "c71cbf8b",
   "metadata": {},
   "source": [
    "The midpoint rule involves breaking an integral into a series of rectangles.  Here is some code that generates an illustrative diagram"
   ]
  },
  {
   "cell_type": "code",
   "execution_count": 13,
   "id": "1117f7ea",
   "metadata": {},
   "outputs": [
    {
     "data": {
      "text/plain": [
       "showmidpoint"
      ]
     },
     "execution_count": 13,
     "metadata": {},
     "output_type": "execute_result"
    }
   ],
   "source": [
    "\"\"\"\n",
    "    showmidpoint(f,range=(0,1),n=5;opts...)\n",
    "\n",
    "Illustrates midpoint rule by plotting the function `f` over the range specified by `range`.\n",
    "Show `n` rectangles overlayed.  Passes on options `opts` to the plot command.\n",
    "\"\"\"\n",
    "function showmidpoint(f,range=(0,1),n=5;opts...)\n",
    "    # define variables\n",
    "    xmin=range[1]\n",
    "    xmax=range[2]\n",
    "    # Create basic plot of function\n",
    "    plt=plot(f,xmin,xmax,xlabel=\"x\",ylabel=\"f\",legend=false,show=false,opts...)\n",
    "    #\n",
    "    # Draw rectangles\n",
    "    #\n",
    "    function rectangle(j)\n",
    "        width=(xmax-xmin)/n\n",
    "        x1=(j-1)*width\n",
    "        x2=j*width\n",
    "        y1=f((x1+x2)/2)\n",
    "        y2=y1\n",
    "        Shape([x1, x1, x2, x2],[0,y1,y2,0])\n",
    "    end\n",
    "    for j in 1:n\n",
    "        plot!(rectangle(j),opacity=0.2)\n",
    "    end\n",
    "    plt\n",
    "end"
   ]
  },
  {
   "cell_type": "code",
   "execution_count": 14,
   "id": "3fc9dea1",
   "metadata": {},
   "outputs": [
    {
     "data": {
      "image/png": "[encoded data removed]",
      "image/svg+xml": [
       "<?xml version=\"1.0\" encoding=\"utf-8\"?>\n",
       "<svg xmlns=\"http://www.w3.org/2000/svg\" xmlns:xlink=\"http://www.w3.org/1999/xlink\" width=\"600\" height=\"400\" viewBox=\"0 0 2400 1600\">\n",
       "<defs>\n",
       "  <clipPath id=\"clip770\">\n",
       "    <rect x=\"0\" y=\"0\" width=\"2400\" height=\"1600\"/>\n",
       "  </clipPath>\n",
       "</defs>\n",
       "<path clip-path=\"url(#clip770)\" d=\"M0 1600 L2400 1600 L2400 8.88178e-14 L0 8.88178e-14  Z\" fill=\"#ffffff\" fill-rule=\"evenodd\" fill-opacity=\"1\"/>\n",
       "<defs>\n",
       "  <clipPath id=\"clip771\">\n",
       "    <rect x=\"480\" y=\"0\" width=\"1681\" height=\"1600\"/>\n",
       "  </clipPath>\n",
       "</defs>\n",
       "<path clip-path=\"url(#clip770)\" d=\"M249.542 1423.18 L2352.76 1423.18 L2352.76 47.2441 L249.542 47.2441  Z\" fill=\"#ffffff\" fill-rule=\"evenodd\" fill-opacity=\"1\"/>\n",
       "<defs>\n",
       "  <clipPath id=\"clip772\">\n",
       "    <rect x=\"249\" y=\"47\" width=\"2104\" height=\"1377\"/>\n",
       "  </clipPath>\n",
       "</defs>\n",
       "<polyline clip-path=\"url(#clip772)\" style=\"stroke:#000000; stroke-linecap:round; stroke-linejoin:round; stroke-width:2; stroke-opacity:0.1; fill:none\" points=\"309.067,1423.18 309.067,47.2441 \"/>\n",
       "<polyline clip-path=\"url(#clip772)\" style=\"stroke:#000000; stroke-linecap:round; stroke-linejoin:round; stroke-width:2; stroke-opacity:0.1; fill:none\" points=\"805.108,1423.18 805.108,47.2441 \"/>\n",
       "<polyline clip-path=\"url(#clip772)\" style=\"stroke:#000000; stroke-linecap:round; stroke-linejoin:round; stroke-width:2; stroke-opacity:0.1; fill:none\" points=\"1301.15,1423.18 1301.15,47.2441 \"/>\n",
       "<polyline clip-path=\"url(#clip772)\" style=\"stroke:#000000; stroke-linecap:round; stroke-linejoin:round; stroke-width:2; stroke-opacity:0.1; fill:none\" points=\"1797.19,1423.18 1797.19,47.2441 \"/>\n",
       "<polyline clip-path=\"url(#clip772)\" style=\"stroke:#000000; stroke-linecap:round; stroke-linejoin:round; stroke-width:2; stroke-opacity:0.1; fill:none\" points=\"2293.23,1423.18 2293.23,47.2441 \"/>\n",
       "<polyline clip-path=\"url(#clip772)\" style=\"stroke:#000000; stroke-linecap:round; stroke-linejoin:round; stroke-width:2; stroke-opacity:0.1; fill:none\" points=\"249.542,1384.24 2352.76,1384.24 \"/>\n",
       "<polyline clip-path=\"url(#clip772)\" style=\"stroke:#000000; stroke-linecap:round; stroke-linejoin:round; stroke-width:2; stroke-opacity:0.1; fill:none\" points=\"249.542,1059.73 2352.76,1059.73 \"/>\n",
       "<polyline clip-path=\"url(#clip772)\" style=\"stroke:#000000; stroke-linecap:round; stroke-linejoin:round; stroke-width:2; stroke-opacity:0.1; fill:none\" points=\"249.542,735.212 2352.76,735.212 \"/>\n",
       "<polyline clip-path=\"url(#clip772)\" style=\"stroke:#000000; stroke-linecap:round; stroke-linejoin:round; stroke-width:2; stroke-opacity:0.1; fill:none\" points=\"249.542,410.699 2352.76,410.699 \"/>\n",
       "<polyline clip-path=\"url(#clip772)\" style=\"stroke:#000000; stroke-linecap:round; stroke-linejoin:round; stroke-width:2; stroke-opacity:0.1; fill:none\" points=\"249.542,86.1857 2352.76,86.1857 \"/>\n",
       "<polyline clip-path=\"url(#clip770)\" style=\"stroke:#000000; stroke-linecap:round; stroke-linejoin:round; stroke-width:4; stroke-opacity:1; fill:none\" points=\"249.542,1423.18 2352.76,1423.18 \"/>\n",
       "<polyline clip-path=\"url(#clip770)\" style=\"stroke:#000000; stroke-linecap:round; stroke-linejoin:round; stroke-width:4; stroke-opacity:1; fill:none\" points=\"309.067,1423.18 309.067,1404.28 \"/>\n",
       "<polyline clip-path=\"url(#clip770)\" style=\"stroke:#000000; stroke-linecap:round; stroke-linejoin:round; stroke-width:4; stroke-opacity:1; fill:none\" points=\"805.108,1423.18 805.108,1404.28 \"/>\n",
       "<polyline clip-path=\"url(#clip770)\" style=\"stroke:#000000; stroke-linecap:round; stroke-linejoin:round; stroke-width:4; stroke-opacity:1; fill:none\" points=\"1301.15,1423.18 1301.15,1404.28 \"/>\n",
       "<polyline clip-path=\"url(#clip770)\" style=\"stroke:#000000; stroke-linecap:round; stroke-linejoin:round; stroke-width:4; stroke-opacity:1; fill:none\" points=\"1797.19,1423.18 1797.19,1404.28 \"/>\n",
       "<polyline clip-path=\"url(#clip770)\" style=\"stroke:#000000; stroke-linecap:round; stroke-linejoin:round; stroke-width:4; stroke-opacity:1; fill:none\" points=\"2293.23,1423.18 2293.23,1404.28 \"/>\n",
       "<path clip-path=\"url(#clip770)\" d=\"M271.37 1454.1 Q267.759 1454.1 265.931 1457.66 Q264.125 1461.2 264.125 1468.33 Q264.125 1475.44 265.931 1479.01 Q267.759 1482.55 271.37 1482.55 Q275.005 1482.55 276.81 1479.01 Q278.639 1475.44 278.639 1468.33 Q278.639 1461.2 276.81 1457.66 Q275.005 1454.1 271.37 1454.1 M271.37 1450.39 Q277.181 1450.39 280.236 1455 Q283.315 1459.58 283.315 1468.33 Q283.315 1477.06 280.236 1481.67 Q277.181 1486.25 271.37 1486.25 Q265.56 1486.25 262.482 1481.67 Q259.426 1477.06 259.426 1468.33 Q259.426 1459.58 262.482 1455 Q265.56 1450.39 271.37 1450.39 Z\" fill=\"#000000\" fill-rule=\"nonzero\" fill-opacity=\"1\" /><path clip-path=\"url(#clip770)\" d=\"M291.532 1479.7 L296.417 1479.7 L296.417 1485.58 L291.532 1485.58 L291.532 1479.7 Z\" fill=\"#000000\" fill-rule=\"nonzero\" fill-opacity=\"1\" /><path clip-path=\"url(#clip770)\" d=\"M316.602 1454.1 Q312.991 1454.1 311.162 1457.66 Q309.356 1461.2 309.356 1468.33 Q309.356 1475.44 311.162 1479.01 Q312.991 1482.55 316.602 1482.55 Q320.236 1482.55 322.041 1479.01 Q323.87 1475.44 323.87 1468.33 Q323.87 1461.2 322.041 1457.66 Q320.236 1454.1 316.602 1454.1 M316.602 1450.39 Q322.412 1450.39 325.467 1455 Q328.546 1459.58 328.546 1468.33 Q328.546 1477.06 325.467 1481.67 Q322.412 1486.25 316.602 1486.25 Q310.791 1486.25 307.713 1481.67 Q304.657 1477.06 304.657 1468.33 Q304.657 1459.58 307.713 1455 Q310.791 1450.39 316.602 1450.39 Z\" fill=\"#000000\" fill-rule=\"nonzero\" fill-opacity=\"1\" /><path clip-path=\"url(#clip770)\" d=\"M346.764 1454.1 Q343.152 1454.1 341.324 1457.66 Q339.518 1461.2 339.518 1468.33 Q339.518 1475.44 341.324 1479.01 Q343.152 1482.55 346.764 1482.55 Q350.398 1482.55 352.203 1479.01 Q354.032 1475.44 354.032 1468.33 Q354.032 1461.2 352.203 1457.66 Q350.398 1454.1 346.764 1454.1 M346.764 1450.39 Q352.574 1450.39 355.629 1455 Q358.708 1459.58 358.708 1468.33 Q358.708 1477.06 355.629 1481.67 Q352.574 1486.25 346.764 1486.25 Q340.953 1486.25 337.875 1481.67 Q334.819 1477.06 334.819 1468.33 Q334.819 1459.58 337.875 1455 Q340.953 1450.39 346.764 1450.39 Z\" fill=\"#000000\" fill-rule=\"nonzero\" fill-opacity=\"1\" /><path clip-path=\"url(#clip770)\" d=\"M767.909 1454.1 Q764.298 1454.1 762.469 1457.66 Q760.664 1461.2 760.664 1468.33 Q760.664 1475.44 762.469 1479.01 Q764.298 1482.55 767.909 1482.55 Q771.543 1482.55 773.349 1479.01 Q775.178 1475.44 775.178 1468.33 Q775.178 1461.2 773.349 1457.66 Q771.543 1454.1 767.909 1454.1 M767.909 1450.39 Q773.719 1450.39 776.775 1455 Q779.853 1459.58 779.853 1468.33 Q779.853 1477.06 776.775 1481.67 Q773.719 1486.25 767.909 1486.25 Q762.099 1486.25 759.02 1481.67 Q755.965 1477.06 755.965 1468.33 Q755.965 1459.58 759.02 1455 Q762.099 1450.39 767.909 1450.39 Z\" fill=\"#000000\" fill-rule=\"nonzero\" fill-opacity=\"1\" /><path clip-path=\"url(#clip770)\" d=\"M788.071 1479.7 L792.955 1479.7 L792.955 1485.58 L788.071 1485.58 L788.071 1479.7 Z\" fill=\"#000000\" fill-rule=\"nonzero\" fill-opacity=\"1\" /><path clip-path=\"url(#clip770)\" d=\"M807.168 1481.64 L823.487 1481.64 L823.487 1485.58 L801.543 1485.58 L801.543 1481.64 Q804.205 1478.89 808.788 1474.26 Q813.395 1469.61 814.576 1468.27 Q816.821 1465.74 817.7 1464.01 Q818.603 1462.25 818.603 1460.56 Q818.603 1457.8 816.659 1456.07 Q814.738 1454.33 811.636 1454.33 Q809.437 1454.33 806.983 1455.09 Q804.552 1455.86 801.775 1457.41 L801.775 1452.69 Q804.599 1451.55 807.052 1450.97 Q809.506 1450.39 811.543 1450.39 Q816.913 1450.39 820.108 1453.08 Q823.302 1455.77 823.302 1460.26 Q823.302 1462.39 822.492 1464.31 Q821.705 1466.2 819.599 1468.8 Q819.02 1469.47 815.918 1472.69 Q812.816 1475.88 807.168 1481.64 Z\" fill=\"#000000\" fill-rule=\"nonzero\" fill-opacity=\"1\" /><path clip-path=\"url(#clip770)\" d=\"M833.349 1451.02 L851.705 1451.02 L851.705 1454.96 L837.631 1454.96 L837.631 1463.43 Q838.649 1463.08 839.668 1462.92 Q840.686 1462.73 841.705 1462.73 Q847.492 1462.73 850.872 1465.9 Q854.251 1469.08 854.251 1474.49 Q854.251 1480.07 850.779 1483.17 Q847.307 1486.25 840.987 1486.25 Q838.811 1486.25 836.543 1485.88 Q834.298 1485.51 831.89 1484.77 L831.89 1480.07 Q833.974 1481.2 836.196 1481.76 Q838.418 1482.32 840.895 1482.32 Q844.899 1482.32 847.237 1480.21 Q849.575 1478.1 849.575 1474.49 Q849.575 1470.88 847.237 1468.77 Q844.899 1466.67 840.895 1466.67 Q839.02 1466.67 837.145 1467.08 Q835.293 1467.5 833.349 1468.38 L833.349 1451.02 Z\" fill=\"#000000\" fill-rule=\"nonzero\" fill-opacity=\"1\" /><path clip-path=\"url(#clip770)\" d=\"M1263.45 1454.1 Q1259.84 1454.1 1258.01 1457.66 Q1256.21 1461.2 1256.21 1468.33 Q1256.21 1475.44 1258.01 1479.01 Q1259.84 1482.55 1263.45 1482.55 Q1267.09 1482.55 1268.89 1479.01 Q1270.72 1475.44 1270.72 1468.33 Q1270.72 1461.2 1268.89 1457.66 Q1267.09 1454.1 1263.45 1454.1 M1263.45 1450.39 Q1269.26 1450.39 1272.32 1455 Q1275.4 1459.58 1275.4 1468.33 Q1275.4 1477.06 1272.32 1481.67 Q1269.26 1486.25 1263.45 1486.25 Q1257.64 1486.25 1254.56 1481.67 Q1251.51 1477.06 1251.51 1468.33 Q1251.51 1459.58 1254.56 1455 Q1257.64 1450.39 1263.45 1450.39 Z\" fill=\"#000000\" fill-rule=\"nonzero\" fill-opacity=\"1\" /><path clip-path=\"url(#clip770)\" d=\"M1283.61 1479.7 L1288.5 1479.7 L1288.5 1485.58 L1283.61 1485.58 L1283.61 1479.7 Z\" fill=\"#000000\" fill-rule=\"nonzero\" fill-opacity=\"1\" /><path clip-path=\"url(#clip770)\" d=\"M1298.73 1451.02 L1317.09 1451.02 L1317.09 1454.96 L1303.01 1454.96 L1303.01 1463.43 Q1304.03 1463.08 1305.05 1462.92 Q1306.07 1462.73 1307.09 1462.73 Q1312.87 1462.73 1316.25 1465.9 Q1319.63 1469.08 1319.63 1474.49 Q1319.63 1480.07 1316.16 1483.17 Q1312.69 1486.25 1306.37 1486.25 Q1304.19 1486.25 1301.92 1485.88 Q1299.68 1485.51 1297.27 1484.77 L1297.27 1480.07 Q1299.35 1481.2 1301.58 1481.76 Q1303.8 1482.32 1306.28 1482.32 Q1310.28 1482.32 1312.62 1480.21 Q1314.96 1478.1 1314.96 1474.49 Q1314.96 1470.88 1312.62 1468.77 Q1310.28 1466.67 1306.28 1466.67 Q1304.4 1466.67 1302.53 1467.08 Q1300.67 1467.5 1298.73 1468.38 L1298.73 1451.02 Z\" fill=\"#000000\" fill-rule=\"nonzero\" fill-opacity=\"1\" /><path clip-path=\"url(#clip770)\" d=\"M1338.85 1454.1 Q1335.23 1454.1 1333.41 1457.66 Q1331.6 1461.2 1331.6 1468.33 Q1331.6 1475.44 1333.41 1479.01 Q1335.23 1482.55 1338.85 1482.55 Q1342.48 1482.55 1344.29 1479.01 Q1346.11 1475.44 1346.11 1468.33 Q1346.11 1461.2 1344.29 1457.66 Q1342.48 1454.1 1338.85 1454.1 M1338.85 1450.39 Q1344.66 1450.39 1347.71 1455 Q1350.79 1459.58 1350.79 1468.33 Q1350.79 1477.06 1347.71 1481.67 Q1344.66 1486.25 1338.85 1486.25 Q1333.04 1486.25 1329.96 1481.67 Q1326.9 1477.06 1326.9 1468.33 Q1326.9 1459.58 1329.96 1455 Q1333.04 1450.39 1338.85 1450.39 Z\" fill=\"#000000\" fill-rule=\"nonzero\" fill-opacity=\"1\" /><path clip-path=\"url(#clip770)\" d=\"M1759.99 1454.1 Q1756.38 1454.1 1754.55 1457.66 Q1752.75 1461.2 1752.75 1468.33 Q1752.75 1475.44 1754.55 1479.01 Q1756.38 1482.55 1759.99 1482.55 Q1763.63 1482.55 1765.43 1479.01 Q1767.26 1475.44 1767.26 1468.33 Q1767.26 1461.2 1765.43 1457.66 Q1763.63 1454.1 1759.99 1454.1 M1759.99 1450.39 Q1765.8 1450.39 1768.86 1455 Q1771.94 1459.58 1771.94 1468.33 Q1771.94 1477.06 1768.86 1481.67 Q1765.8 1486.25 1759.99 1486.25 Q1754.18 1486.25 1751.1 1481.67 Q1748.05 1477.06 1748.05 1468.33 Q1748.05 1459.58 1751.1 1455 Q1754.18 1450.39 1759.99 1450.39 Z\" fill=\"#000000\" fill-rule=\"nonzero\" fill-opacity=\"1\" /><path clip-path=\"url(#clip770)\" d=\"M1780.15 1479.7 L1785.04 1479.7 L1785.04 1485.58 L1780.15 1485.58 L1780.15 1479.7 Z\" fill=\"#000000\" fill-rule=\"nonzero\" fill-opacity=\"1\" /><path clip-path=\"url(#clip770)\" d=\"M1794.04 1451.02 L1816.26 1451.02 L1816.26 1453.01 L1803.72 1485.58 L1798.83 1485.58 L1810.64 1454.96 L1794.04 1454.96 L1794.04 1451.02 Z\" fill=\"#000000\" fill-rule=\"nonzero\" fill-opacity=\"1\" /><path clip-path=\"url(#clip770)\" d=\"M1825.43 1451.02 L1843.79 1451.02 L1843.79 1454.96 L1829.71 1454.96 L1829.71 1463.43 Q1830.73 1463.08 1831.75 1462.92 Q1832.77 1462.73 1833.79 1462.73 Q1839.57 1462.73 1842.95 1465.9 Q1846.33 1469.08 1846.33 1474.49 Q1846.33 1480.07 1842.86 1483.17 Q1839.39 1486.25 1833.07 1486.25 Q1830.89 1486.25 1828.62 1485.88 Q1826.38 1485.51 1823.97 1484.77 L1823.97 1480.07 Q1826.06 1481.2 1828.28 1481.76 Q1830.5 1482.32 1832.98 1482.32 Q1836.98 1482.32 1839.32 1480.21 Q1841.66 1478.1 1841.66 1474.49 Q1841.66 1470.88 1839.32 1468.77 Q1836.98 1466.67 1832.98 1466.67 Q1831.1 1466.67 1829.23 1467.08 Q1827.38 1467.5 1825.43 1468.38 L1825.43 1451.02 Z\" fill=\"#000000\" fill-rule=\"nonzero\" fill-opacity=\"1\" /><path clip-path=\"url(#clip770)\" d=\"M2245.3 1481.64 L2252.94 1481.64 L2252.94 1455.28 L2244.63 1456.95 L2244.63 1452.69 L2252.9 1451.02 L2257.57 1451.02 L2257.57 1481.64 L2265.21 1481.64 L2265.21 1485.58 L2245.3 1485.58 L2245.3 1481.64 Z\" fill=\"#000000\" fill-rule=\"nonzero\" fill-opacity=\"1\" /><path clip-path=\"url(#clip770)\" d=\"M2274.65 1479.7 L2279.54 1479.7 L2279.54 1485.58 L2274.65 1485.58 L2274.65 1479.7 Z\" fill=\"#000000\" fill-rule=\"nonzero\" fill-opacity=\"1\" /><path clip-path=\"url(#clip770)\" d=\"M2299.72 1454.1 Q2296.11 1454.1 2294.28 1457.66 Q2292.48 1461.2 2292.48 1468.33 Q2292.48 1475.44 2294.28 1479.01 Q2296.11 1482.55 2299.72 1482.55 Q2303.36 1482.55 2305.16 1479.01 Q2306.99 1475.44 2306.99 1468.33 Q2306.99 1461.2 2305.16 1457.66 Q2303.36 1454.1 2299.72 1454.1 M2299.72 1450.39 Q2305.53 1450.39 2308.59 1455 Q2311.67 1459.58 2311.67 1468.33 Q2311.67 1477.06 2308.59 1481.67 Q2305.53 1486.25 2299.72 1486.25 Q2293.91 1486.25 2290.84 1481.67 Q2287.78 1477.06 2287.78 1468.33 Q2287.78 1459.58 2290.84 1455 Q2293.91 1450.39 2299.72 1450.39 Z\" fill=\"#000000\" fill-rule=\"nonzero\" fill-opacity=\"1\" /><path clip-path=\"url(#clip770)\" d=\"M2329.89 1454.1 Q2326.27 1454.1 2324.45 1457.66 Q2322.64 1461.2 2322.64 1468.33 Q2322.64 1475.44 2324.45 1479.01 Q2326.27 1482.55 2329.89 1482.55 Q2333.52 1482.55 2335.33 1479.01 Q2337.15 1475.44 2337.15 1468.33 Q2337.15 1461.2 2335.33 1457.66 Q2333.52 1454.1 2329.89 1454.1 M2329.89 1450.39 Q2335.7 1450.39 2338.75 1455 Q2341.83 1459.58 2341.83 1468.33 Q2341.83 1477.06 2338.75 1481.67 Q2335.7 1486.25 2329.89 1486.25 Q2324.08 1486.25 2321 1481.67 Q2317.94 1477.06 2317.94 1468.33 Q2317.94 1459.58 2321 1455 Q2324.08 1450.39 2329.89 1450.39 Z\" fill=\"#000000\" fill-rule=\"nonzero\" fill-opacity=\"1\" /><path clip-path=\"url(#clip770)\" d=\"M1317.76 1532.4 L1304.87 1549.74 L1318.43 1568.04 L1311.53 1568.04 L1301.15 1554.04 L1290.77 1568.04 L1283.87 1568.04 L1297.71 1549.39 L1285.04 1532.4 L1291.95 1532.4 L1301.4 1545.1 L1310.86 1532.4 L1317.76 1532.4 Z\" fill=\"#000000\" fill-rule=\"nonzero\" fill-opacity=\"1\" /><polyline clip-path=\"url(#clip770)\" style=\"stroke:#000000; stroke-linecap:round; stroke-linejoin:round; stroke-width:4; stroke-opacity:1; fill:none\" points=\"249.542,1423.18 249.542,47.2441 \"/>\n",
       "<polyline clip-path=\"url(#clip770)\" style=\"stroke:#000000; stroke-linecap:round; stroke-linejoin:round; stroke-width:4; stroke-opacity:1; fill:none\" points=\"249.542,1384.24 268.44,1384.24 \"/>\n",
       "<polyline clip-path=\"url(#clip770)\" style=\"stroke:#000000; stroke-linecap:round; stroke-linejoin:round; stroke-width:4; stroke-opacity:1; fill:none\" points=\"249.542,1059.73 268.44,1059.73 \"/>\n",
       "<polyline clip-path=\"url(#clip770)\" style=\"stroke:#000000; stroke-linecap:round; stroke-linejoin:round; stroke-width:4; stroke-opacity:1; fill:none\" points=\"249.542,735.212 268.44,735.212 \"/>\n",
       "<polyline clip-path=\"url(#clip770)\" style=\"stroke:#000000; stroke-linecap:round; stroke-linejoin:round; stroke-width:4; stroke-opacity:1; fill:none\" points=\"249.542,410.699 268.44,410.699 \"/>\n",
       "<polyline clip-path=\"url(#clip770)\" style=\"stroke:#000000; stroke-linecap:round; stroke-linejoin:round; stroke-width:4; stroke-opacity:1; fill:none\" points=\"249.542,86.1857 268.44,86.1857 \"/>\n",
       "<path clip-path=\"url(#clip770)\" d=\"M126.205 1370.04 Q122.593 1370.04 120.765 1373.6 Q118.959 1377.14 118.959 1384.27 Q118.959 1391.38 120.765 1394.94 Q122.593 1398.49 126.205 1398.49 Q129.839 1398.49 131.644 1394.94 Q133.473 1391.38 133.473 1384.27 Q133.473 1377.14 131.644 1373.6 Q129.839 1370.04 126.205 1370.04 M126.205 1366.33 Q132.015 1366.33 135.07 1370.94 Q138.149 1375.52 138.149 1384.27 Q138.149 1393 135.07 1397.61 Q132.015 1402.19 126.205 1402.19 Q120.394 1402.19 117.316 1397.61 Q114.26 1393 114.26 1384.27 Q114.26 1375.52 117.316 1370.94 Q120.394 1366.33 126.205 1366.33 Z\" fill=\"#000000\" fill-rule=\"nonzero\" fill-opacity=\"1\" /><path clip-path=\"url(#clip770)\" d=\"M146.366 1395.64 L151.251 1395.64 L151.251 1401.52 L146.366 1401.52 L146.366 1395.64 Z\" fill=\"#000000\" fill-rule=\"nonzero\" fill-opacity=\"1\" /><path clip-path=\"url(#clip770)\" d=\"M171.436 1370.04 Q167.825 1370.04 165.996 1373.6 Q164.19 1377.14 164.19 1384.27 Q164.19 1391.38 165.996 1394.94 Q167.825 1398.49 171.436 1398.49 Q175.07 1398.49 176.876 1394.94 Q178.704 1391.38 178.704 1384.27 Q178.704 1377.14 176.876 1373.6 Q175.07 1370.04 171.436 1370.04 M171.436 1366.33 Q177.246 1366.33 180.301 1370.94 Q183.38 1375.52 183.38 1384.27 Q183.38 1393 180.301 1397.61 Q177.246 1402.19 171.436 1402.19 Q165.626 1402.19 162.547 1397.61 Q159.491 1393 159.491 1384.27 Q159.491 1375.52 162.547 1370.94 Q165.626 1366.33 171.436 1366.33 Z\" fill=\"#000000\" fill-rule=\"nonzero\" fill-opacity=\"1\" /><path clip-path=\"url(#clip770)\" d=\"M201.598 1370.04 Q197.987 1370.04 196.158 1373.6 Q194.352 1377.14 194.352 1384.27 Q194.352 1391.38 196.158 1394.94 Q197.987 1398.49 201.598 1398.49 Q205.232 1398.49 207.037 1394.94 Q208.866 1391.38 208.866 1384.27 Q208.866 1377.14 207.037 1373.6 Q205.232 1370.04 201.598 1370.04 M201.598 1366.33 Q207.408 1366.33 210.463 1370.94 Q213.542 1375.52 213.542 1384.27 Q213.542 1393 210.463 1397.61 Q207.408 1402.19 201.598 1402.19 Q195.787 1402.19 192.709 1397.61 Q189.653 1393 189.653 1384.27 Q189.653 1375.52 192.709 1370.94 Q195.787 1366.33 201.598 1366.33 Z\" fill=\"#000000\" fill-rule=\"nonzero\" fill-opacity=\"1\" /><path clip-path=\"url(#clip770)\" d=\"M127.2 1045.52 Q123.589 1045.52 121.76 1049.09 Q119.955 1052.63 119.955 1059.76 Q119.955 1066.87 121.76 1070.43 Q123.589 1073.97 127.2 1073.97 Q130.834 1073.97 132.64 1070.43 Q134.468 1066.87 134.468 1059.76 Q134.468 1052.63 132.64 1049.09 Q130.834 1045.52 127.2 1045.52 M127.2 1041.82 Q133.01 1041.82 136.066 1046.43 Q139.144 1051.01 139.144 1059.76 Q139.144 1068.49 136.066 1073.09 Q133.01 1077.68 127.2 1077.68 Q121.39 1077.68 118.311 1073.09 Q115.256 1068.49 115.256 1059.76 Q115.256 1051.01 118.311 1046.43 Q121.39 1041.82 127.2 1041.82 Z\" fill=\"#000000\" fill-rule=\"nonzero\" fill-opacity=\"1\" /><path clip-path=\"url(#clip770)\" d=\"M147.362 1071.13 L152.246 1071.13 L152.246 1077.01 L147.362 1077.01 L147.362 1071.13 Z\" fill=\"#000000\" fill-rule=\"nonzero\" fill-opacity=\"1\" /><path clip-path=\"url(#clip770)\" d=\"M166.459 1073.07 L182.778 1073.07 L182.778 1077.01 L160.834 1077.01 L160.834 1073.07 Q163.496 1070.32 168.079 1065.69 Q172.686 1061.03 173.866 1059.69 Q176.112 1057.17 176.991 1055.43 Q177.894 1053.67 177.894 1051.98 Q177.894 1049.23 175.95 1047.49 Q174.028 1045.76 170.927 1045.76 Q168.727 1045.76 166.274 1046.52 Q163.843 1047.28 161.065 1048.83 L161.065 1044.11 Q163.89 1042.98 166.343 1042.4 Q168.797 1041.82 170.834 1041.82 Q176.204 1041.82 179.399 1044.51 Q182.593 1047.19 182.593 1051.68 Q182.593 1053.81 181.783 1055.73 Q180.996 1057.63 178.889 1060.22 Q178.311 1060.89 175.209 1064.11 Q172.107 1067.31 166.459 1073.07 Z\" fill=\"#000000\" fill-rule=\"nonzero\" fill-opacity=\"1\" /><path clip-path=\"url(#clip770)\" d=\"M192.639 1042.45 L210.996 1042.45 L210.996 1046.38 L196.922 1046.38 L196.922 1054.85 Q197.94 1054.51 198.959 1054.34 Q199.977 1054.16 200.996 1054.16 Q206.783 1054.16 210.162 1057.33 Q213.542 1060.5 213.542 1065.92 Q213.542 1071.5 210.07 1074.6 Q206.598 1077.68 200.278 1077.68 Q198.102 1077.68 195.834 1077.31 Q193.588 1076.94 191.181 1076.19 L191.181 1071.5 Q193.264 1072.63 195.487 1073.19 Q197.709 1073.74 200.186 1073.74 Q204.19 1073.74 206.528 1071.63 Q208.866 1069.53 208.866 1065.92 Q208.866 1062.31 206.528 1060.2 Q204.19 1058.09 200.186 1058.09 Q198.311 1058.09 196.436 1058.51 Q194.584 1058.93 192.639 1059.81 L192.639 1042.45 Z\" fill=\"#000000\" fill-rule=\"nonzero\" fill-opacity=\"1\" /><path clip-path=\"url(#clip770)\" d=\"M126.205 721.011 Q122.593 721.011 120.765 724.575 Q118.959 728.117 118.959 735.247 Q118.959 742.353 120.765 745.918 Q122.593 749.46 126.205 749.46 Q129.839 749.46 131.644 745.918 Q133.473 742.353 133.473 735.247 Q133.473 728.117 131.644 724.575 Q129.839 721.011 126.205 721.011 M126.205 717.307 Q132.015 717.307 135.07 721.913 Q138.149 726.497 138.149 735.247 Q138.149 743.973 135.07 748.58 Q132.015 753.163 126.205 753.163 Q120.394 753.163 117.316 748.58 Q114.26 743.973 114.26 735.247 Q114.26 726.497 117.316 721.913 Q120.394 717.307 126.205 717.307 Z\" fill=\"#000000\" fill-rule=\"nonzero\" fill-opacity=\"1\" /><path clip-path=\"url(#clip770)\" d=\"M146.366 746.612 L151.251 746.612 L151.251 752.492 L146.366 752.492 L146.366 746.612 Z\" fill=\"#000000\" fill-rule=\"nonzero\" fill-opacity=\"1\" /><path clip-path=\"url(#clip770)\" d=\"M161.482 717.932 L179.839 717.932 L179.839 721.867 L165.765 721.867 L165.765 730.339 Q166.783 729.992 167.802 729.83 Q168.82 729.645 169.839 729.645 Q175.626 729.645 179.005 732.816 Q182.385 735.987 182.385 741.404 Q182.385 746.983 178.913 750.085 Q175.44 753.163 169.121 753.163 Q166.945 753.163 164.677 752.793 Q162.431 752.423 160.024 751.682 L160.024 746.983 Q162.107 748.117 164.329 748.673 Q166.552 749.228 169.028 749.228 Q173.033 749.228 175.371 747.122 Q177.709 745.015 177.709 741.404 Q177.709 737.793 175.371 735.687 Q173.033 733.58 169.028 733.58 Q167.153 733.58 165.278 733.997 Q163.427 734.413 161.482 735.293 L161.482 717.932 Z\" fill=\"#000000\" fill-rule=\"nonzero\" fill-opacity=\"1\" /><path clip-path=\"url(#clip770)\" d=\"M201.598 721.011 Q197.987 721.011 196.158 724.575 Q194.352 728.117 194.352 735.247 Q194.352 742.353 196.158 745.918 Q197.987 749.46 201.598 749.46 Q205.232 749.46 207.037 745.918 Q208.866 742.353 208.866 735.247 Q208.866 728.117 207.037 724.575 Q205.232 721.011 201.598 721.011 M201.598 717.307 Q207.408 717.307 210.463 721.913 Q213.542 726.497 213.542 735.247 Q213.542 743.973 210.463 748.58 Q207.408 753.163 201.598 753.163 Q195.787 753.163 192.709 748.58 Q189.653 743.973 189.653 735.247 Q189.653 726.497 192.709 721.913 Q195.787 717.307 201.598 717.307 Z\" fill=\"#000000\" fill-rule=\"nonzero\" fill-opacity=\"1\" /><path clip-path=\"url(#clip770)\" d=\"M127.2 396.498 Q123.589 396.498 121.76 400.062 Q119.955 403.604 119.955 410.734 Q119.955 417.84 121.76 421.405 Q123.589 424.946 127.2 424.946 Q130.834 424.946 132.64 421.405 Q134.468 417.84 134.468 410.734 Q134.468 403.604 132.64 400.062 Q130.834 396.498 127.2 396.498 M127.2 392.794 Q133.01 392.794 136.066 397.4 Q139.144 401.984 139.144 410.734 Q139.144 419.46 136.066 424.067 Q133.01 428.65 127.2 428.65 Q121.39 428.65 118.311 424.067 Q115.256 419.46 115.256 410.734 Q115.256 401.984 118.311 397.4 Q121.39 392.794 127.2 392.794 Z\" fill=\"#000000\" fill-rule=\"nonzero\" fill-opacity=\"1\" /><path clip-path=\"url(#clip770)\" d=\"M147.362 422.099 L152.246 422.099 L152.246 427.979 L147.362 427.979 L147.362 422.099 Z\" fill=\"#000000\" fill-rule=\"nonzero\" fill-opacity=\"1\" /><path clip-path=\"url(#clip770)\" d=\"M161.251 393.419 L183.473 393.419 L183.473 395.41 L170.927 427.979 L166.042 427.979 L177.848 397.354 L161.251 397.354 L161.251 393.419 Z\" fill=\"#000000\" fill-rule=\"nonzero\" fill-opacity=\"1\" /><path clip-path=\"url(#clip770)\" d=\"M192.639 393.419 L210.996 393.419 L210.996 397.354 L196.922 397.354 L196.922 405.826 Q197.94 405.479 198.959 405.317 Q199.977 405.132 200.996 405.132 Q206.783 405.132 210.162 408.303 Q213.542 411.474 213.542 416.891 Q213.542 422.47 210.07 425.571 Q206.598 428.65 200.278 428.65 Q198.102 428.65 195.834 428.28 Q193.588 427.909 191.181 427.169 L191.181 422.47 Q193.264 423.604 195.487 424.159 Q197.709 424.715 200.186 424.715 Q204.19 424.715 206.528 422.608 Q208.866 420.502 208.866 416.891 Q208.866 413.28 206.528 411.173 Q204.19 409.067 200.186 409.067 Q198.311 409.067 196.436 409.484 Q194.584 409.9 192.639 410.78 L192.639 393.419 Z\" fill=\"#000000\" fill-rule=\"nonzero\" fill-opacity=\"1\" /><path clip-path=\"url(#clip770)\" d=\"M117.015 99.5305 L124.654 99.5305 L124.654 73.1649 L116.343 74.8316 L116.343 70.5723 L124.607 68.9057 L129.283 68.9057 L129.283 99.5305 L136.922 99.5305 L136.922 103.466 L117.015 103.466 L117.015 99.5305 Z\" fill=\"#000000\" fill-rule=\"nonzero\" fill-opacity=\"1\" /><path clip-path=\"url(#clip770)\" d=\"M146.366 97.5861 L151.251 97.5861 L151.251 103.466 L146.366 103.466 L146.366 97.5861 Z\" fill=\"#000000\" fill-rule=\"nonzero\" fill-opacity=\"1\" /><path clip-path=\"url(#clip770)\" d=\"M171.436 71.9844 Q167.825 71.9844 165.996 75.5492 Q164.19 79.0908 164.19 86.2204 Q164.19 93.3268 165.996 96.8916 Q167.825 100.433 171.436 100.433 Q175.07 100.433 176.876 96.8916 Q178.704 93.3268 178.704 86.2204 Q178.704 79.0908 176.876 75.5492 Q175.07 71.9844 171.436 71.9844 M171.436 68.2807 Q177.246 68.2807 180.301 72.8871 Q183.38 77.4704 183.38 86.2204 Q183.38 94.9472 180.301 99.5537 Q177.246 104.137 171.436 104.137 Q165.626 104.137 162.547 99.5537 Q159.491 94.9472 159.491 86.2204 Q159.491 77.4704 162.547 72.8871 Q165.626 68.2807 171.436 68.2807 Z\" fill=\"#000000\" fill-rule=\"nonzero\" fill-opacity=\"1\" /><path clip-path=\"url(#clip770)\" d=\"M201.598 71.9844 Q197.987 71.9844 196.158 75.5492 Q194.352 79.0908 194.352 86.2204 Q194.352 93.3268 196.158 96.8916 Q197.987 100.433 201.598 100.433 Q205.232 100.433 207.037 96.8916 Q208.866 93.3268 208.866 86.2204 Q208.866 79.0908 207.037 75.5492 Q205.232 71.9844 201.598 71.9844 M201.598 68.2807 Q207.408 68.2807 210.463 72.8871 Q213.542 77.4704 213.542 86.2204 Q213.542 94.9472 210.463 99.5537 Q207.408 104.137 201.598 104.137 Q195.787 104.137 192.709 99.5537 Q189.653 94.9472 189.653 86.2204 Q189.653 77.4704 192.709 72.8871 Q195.787 68.2807 201.598 68.2807 Z\" fill=\"#000000\" fill-rule=\"nonzero\" fill-opacity=\"1\" /><path clip-path=\"url(#clip770)\" d=\"M14.479 723.865 L19.3487 723.865 L19.3487 729.467 Q19.3487 732.618 20.6219 733.859 Q21.895 735.069 25.2052 735.069 L28.3562 735.069 L28.3562 725.425 L32.9077 725.425 L32.9077 735.069 L64.0042 735.069 L64.0042 740.957 L32.9077 740.957 L32.9077 746.559 L28.3562 746.559 L28.3562 740.957 L25.8736 740.957 Q19.9216 740.957 17.2162 738.188 Q14.479 735.419 14.479 729.403 L14.479 723.865 Z\" fill=\"#000000\" fill-rule=\"nonzero\" fill-opacity=\"1\" /><polyline clip-path=\"url(#clip772)\" style=\"stroke:#009af9; stroke-linecap:round; stroke-linejoin:round; stroke-width:4; stroke-opacity:1; fill:none\" points=\"309.067,86.1857 319.309,86.2203 329.551,86.324 389.537,88.3207 449.523,92.6903 477.429,95.5317 505.335,98.8866 542.738,104.189 580.142,110.414 641.957,122.723 699.438,136.431 771.596,156.723 836.323,177.846 910.412,205.415 965.793,228.388 1036.63,260.717 1101.28,293.113 1174.86,333.336 1233.18,367.759 1305.65,413.65 1361.15,451.136 1439.39,507.437 1497.86,552.145 1564.35,605.728 1630.2,661.667 1702.65,726.513 1757.99,778.376 1827.82,846.705 1892.4,912.764 1959.01,983.774 2026.53,1058.74 2061.78,1099.07 2097.03,1140.22 2124.8,1173.21 2152.57,1206.72 2215.8,1284.91 2279.04,1365.74 2286.14,1374.97 2293.23,1384.24 \"/>\n",
       "<path clip-path=\"url(#clip772)\" d=\"M309.067 1384.24 L309.067 99.1662 L705.9 99.1662 L705.9 1384.24 L309.067 1384.24  Z\" fill=\"#e26f46\" fill-rule=\"evenodd\" fill-opacity=\"0.2\"/>\n",
       "<polyline clip-path=\"url(#clip772)\" style=\"stroke:#000000; stroke-linecap:round; stroke-linejoin:round; stroke-width:4; stroke-opacity:0.2; fill:none\" points=\"309.067,1384.24 309.067,99.1662 705.9,99.1662 705.9,1384.24 309.067,1384.24 \"/>\n",
       "<path clip-path=\"url(#clip772)\" d=\"M705.9 1384.24 L705.9 203.01 L1102.73 203.01 L1102.73 1384.24 L705.9 1384.24  Z\" fill=\"#3da44d\" fill-rule=\"evenodd\" fill-opacity=\"0.2\"/>\n",
       "<polyline clip-path=\"url(#clip772)\" style=\"stroke:#000000; stroke-linecap:round; stroke-linejoin:round; stroke-width:4; stroke-opacity:0.2; fill:none\" points=\"705.9,1384.24 705.9,203.01 1102.73,203.01 1102.73,1384.24 705.9,1384.24 \"/>\n",
       "<path clip-path=\"url(#clip772)\" d=\"M1102.73 1384.24 L1102.73 410.699 L1499.57 410.699 L1499.57 1384.24 L1102.73 1384.24  Z\" fill=\"#c271d2\" fill-rule=\"evenodd\" fill-opacity=\"0.2\"/>\n",
       "<polyline clip-path=\"url(#clip772)\" style=\"stroke:#000000; stroke-linecap:round; stroke-linejoin:round; stroke-width:4; stroke-opacity:0.2; fill:none\" points=\"1102.73,1384.24 1102.73,410.699 1499.57,410.699 1499.57,1384.24 1102.73,1384.24 \"/>\n",
       "<path clip-path=\"url(#clip772)\" d=\"M1499.57 1384.24 L1499.57 722.231 L1896.4 722.231 L1896.4 1384.24 L1499.57 1384.24  Z\" fill=\"#ac8d18\" fill-rule=\"evenodd\" fill-opacity=\"0.2\"/>\n",
       "<polyline clip-path=\"url(#clip772)\" style=\"stroke:#000000; stroke-linecap:round; stroke-linejoin:round; stroke-width:4; stroke-opacity:0.2; fill:none\" points=\"1499.57,1384.24 1499.57,722.231 1896.4,722.231 1896.4,1384.24 1499.57,1384.24 \"/>\n",
       "<path clip-path=\"url(#clip772)\" d=\"M1896.4 1384.24 L1896.4 1137.61 L2293.23 1137.61 L2293.23 1384.24 L1896.4 1384.24  Z\" fill=\"#00a9ad\" fill-rule=\"evenodd\" fill-opacity=\"0.2\"/>\n",
       "<polyline clip-path=\"url(#clip772)\" style=\"stroke:#000000; stroke-linecap:round; stroke-linejoin:round; stroke-width:4; stroke-opacity:0.2; fill:none\" points=\"1896.4,1384.24 1896.4,1137.61 2293.23,1137.61 2293.23,1384.24 1896.4,1384.24 \"/>\n",
       "</svg>\n"
      ],
      "text/html": [
       "<img src=\"data:image/png;base64,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\" />"
      ]
     },
     "execution_count": 14,
     "metadata": {},
     "output_type": "execute_result"
    }
   ],
   "source": [
    "showmidpoint(x->1-x^2,(0,1),5)"
   ]
  },
  {
   "cell_type": "markdown",
   "id": "ab582558",
   "metadata": {},
   "source": [
    "<h2 style=\"border: 2px solid #000; border-radius: 10px; padding: 20px; background-color:red; color:white;\" >\n",
    "## Activity 1\n",
    "</h2>"
   ]
  },
  {
   "cell_type": "markdown",
   "id": "28e07046",
   "metadata": {
    "editable": true,
    "slideshow": {
     "slide_type": ""
    },
    "tags": []
   },
   "source": [
    "Looking back at the lecture notes, create a function `naive_midpoint` which is called with `naive_midpoint(f,(a,b),n)`.  This approximates the integral of `f` on the interval `(a,b)`, using the midpoint rule with `n` rectangles.\n",
    "\n",
    "Add as many cells as needed.  Test it on some simple functions: flat, linear, quadratic, cubic.  Make sure to also Clean up the notebook, but leave all your tests in, so that you have a record of checking it.  Add markdown cells as needed to document what you are doing."
   ]
  },
  {
   "cell_type": "code",
   "execution_count": null,
   "id": "f579361b",
   "metadata": {},
   "outputs": [],
   "source": []
  },
  {
   "cell_type": "code",
   "execution_count": null,
   "id": "ee653844-f7fc-4f82-80f5-b13df47e2513",
   "metadata": {},
   "outputs": [],
   "source": []
  },
  {
   "cell_type": "code",
   "execution_count": null,
   "id": "52956053",
   "metadata": {},
   "outputs": [],
   "source": []
  },
  {
   "cell_type": "code",
   "execution_count": null,
   "id": "ea67575b",
   "metadata": {},
   "outputs": [],
   "source": []
  },
  {
   "cell_type": "code",
   "execution_count": null,
   "id": "e140f3ba-abef-47b0-a85d-96b69b02c62a",
   "metadata": {},
   "outputs": [],
   "source": []
  },
  {
   "cell_type": "markdown",
   "id": "1fc378f8",
   "metadata": {},
   "source": [
    "<h2 style=\"border: 2px solid #000; border-radius: 10px; padding: 20px; background-color:red; color:white;\" >\n",
    "## Activity 2\n",
    "</h2>"
   ]
  },
  {
   "cell_type": "markdown",
   "id": "c6408516",
   "metadata": {},
   "source": [
    "We want to know how the error varies with `n`.  Following the procedure we did in lecture (or another sensible approach), take a sample function and plot the error vs `n`.  Rescale axes to demonstrate that it is a power law, and find the power law.  Label your axes.  Add extra cells as needed."
   ]
  },
  {
   "cell_type": "code",
   "execution_count": null,
   "id": "cbd2cd6c",
   "metadata": {},
   "outputs": [],
   "source": []
  },
  {
   "cell_type": "code",
   "execution_count": null,
   "id": "6d8e3ce5-3af2-4128-9122-f09046976cdd",
   "metadata": {},
   "outputs": [],
   "source": []
  },
  {
   "cell_type": "code",
   "execution_count": null,
   "id": "fc27db82-c579-44aa-9902-fc4947508d6c",
   "metadata": {},
   "outputs": [],
   "source": []
  },
  {
   "cell_type": "code",
   "execution_count": null,
   "id": "89d3e9a2-afd2-4c0f-8db0-a60ed47a9014",
   "metadata": {},
   "outputs": [],
   "source": []
  },
  {
   "cell_type": "code",
   "execution_count": null,
   "id": "1cdc428c-fb52-4b8f-90b1-73e3165ee62e",
   "metadata": {},
   "outputs": [],
   "source": []
  },
  {
   "cell_type": "markdown",
   "id": "7ce0c394",
   "metadata": {},
   "source": [
    "<h2 style=\"border: 2px solid #000; border-radius: 10px; padding: 20px; background-color:red; color:white;\" >\n",
    "## Activity 3\n",
    "</h2>"
   ]
  },
  {
   "cell_type": "markdown",
   "id": "53980e30",
   "metadata": {},
   "source": [
    "As with the trapezoid rule, it would be nice not to have to give the integrator the parameter `n`.  We can use the same strategy for subdividing.  One small change is that if you double the number of rectangles, none of the midpoints are the same.  On the other hand, if you triple the number of rectangles, then you can reuse the old data."
   ]
  },
  {
   "cell_type": "code",
   "execution_count": 15,
   "id": "2f9c968e-f483-4ff2-bd97-9a9b8e81579d",
   "metadata": {},
   "outputs": [
    {
     "data": {
      "image/png": "[encoded data removed]",
      "image/svg+xml": [
       "<?xml version=\"1.0\" encoding=\"utf-8\"?>\n",
       "<svg xmlns=\"http://www.w3.org/2000/svg\" xmlns:xlink=\"http://www.w3.org/1999/xlink\" width=\"600\" height=\"400\" viewBox=\"0 0 2400 1600\">\n",
       "<defs>\n",
       "  <clipPath id=\"clip830\">\n",
       "    <rect x=\"0\" y=\"0\" width=\"2400\" height=\"1600\"/>\n",
       "  </clipPath>\n",
       "</defs>\n",
       "<path clip-path=\"url(#clip830)\" d=\"M0 1600 L2400 1600 L2400 8.88178e-14 L0 8.88178e-14  Z\" fill=\"#ffffff\" fill-rule=\"evenodd\" fill-opacity=\"1\"/>\n",
       "<defs>\n",
       "  <clipPath id=\"clip831\">\n",
       "    <rect x=\"480\" y=\"0\" width=\"1681\" height=\"1600\"/>\n",
       "  </clipPath>\n",
       "</defs>\n",
       "<path clip-path=\"url(#clip830)\" d=\"M249.542 1423.18 L2352.76 1423.18 L2352.76 47.2441 L249.542 47.2441  Z\" fill=\"#ffffff\" fill-rule=\"evenodd\" fill-opacity=\"1\"/>\n",
       "<defs>\n",
       "  <clipPath id=\"clip832\">\n",
       "    <rect x=\"249\" y=\"47\" width=\"2104\" height=\"1377\"/>\n",
       "  </clipPath>\n",
       "</defs>\n",
       "<polyline clip-path=\"url(#clip832)\" style=\"stroke:#000000; stroke-linecap:round; stroke-linejoin:round; stroke-width:2; stroke-opacity:0.1; fill:none\" points=\"309.067,1423.18 309.067,47.2441 \"/>\n",
       "<polyline clip-path=\"url(#clip832)\" style=\"stroke:#000000; stroke-linecap:round; stroke-linejoin:round; stroke-width:2; stroke-opacity:0.1; fill:none\" points=\"805.108,1423.18 805.108,47.2441 \"/>\n",
       "<polyline clip-path=\"url(#clip832)\" style=\"stroke:#000000; stroke-linecap:round; stroke-linejoin:round; stroke-width:2; stroke-opacity:0.1; fill:none\" points=\"1301.15,1423.18 1301.15,47.2441 \"/>\n",
       "<polyline clip-path=\"url(#clip832)\" style=\"stroke:#000000; stroke-linecap:round; stroke-linejoin:round; stroke-width:2; stroke-opacity:0.1; fill:none\" points=\"1797.19,1423.18 1797.19,47.2441 \"/>\n",
       "<polyline clip-path=\"url(#clip832)\" style=\"stroke:#000000; stroke-linecap:round; stroke-linejoin:round; stroke-width:2; stroke-opacity:0.1; fill:none\" points=\"2293.23,1423.18 2293.23,47.2441 \"/>\n",
       "<polyline clip-path=\"url(#clip832)\" style=\"stroke:#000000; stroke-linecap:round; stroke-linejoin:round; stroke-width:2; stroke-opacity:0.1; fill:none\" points=\"249.542,1384.24 2352.76,1384.24 \"/>\n",
       "<polyline clip-path=\"url(#clip832)\" style=\"stroke:#000000; stroke-linecap:round; stroke-linejoin:round; stroke-width:2; stroke-opacity:0.1; fill:none\" points=\"249.542,1059.73 2352.76,1059.73 \"/>\n",
       "<polyline clip-path=\"url(#clip832)\" style=\"stroke:#000000; stroke-linecap:round; stroke-linejoin:round; stroke-width:2; stroke-opacity:0.1; fill:none\" points=\"249.542,735.212 2352.76,735.212 \"/>\n",
       "<polyline clip-path=\"url(#clip832)\" style=\"stroke:#000000; stroke-linecap:round; stroke-linejoin:round; stroke-width:2; stroke-opacity:0.1; fill:none\" points=\"249.542,410.699 2352.76,410.699 \"/>\n",
       "<polyline clip-path=\"url(#clip832)\" style=\"stroke:#000000; stroke-linecap:round; stroke-linejoin:round; stroke-width:2; stroke-opacity:0.1; fill:none\" points=\"249.542,86.1857 2352.76,86.1857 \"/>\n",
       "<polyline clip-path=\"url(#clip830)\" style=\"stroke:#000000; stroke-linecap:round; stroke-linejoin:round; stroke-width:4; stroke-opacity:1; fill:none\" points=\"249.542,1423.18 2352.76,1423.18 \"/>\n",
       "<polyline clip-path=\"url(#clip830)\" style=\"stroke:#000000; stroke-linecap:round; stroke-linejoin:round; stroke-width:4; stroke-opacity:1; fill:none\" points=\"309.067,1423.18 309.067,1404.28 \"/>\n",
       "<polyline clip-path=\"url(#clip830)\" style=\"stroke:#000000; stroke-linecap:round; stroke-linejoin:round; stroke-width:4; stroke-opacity:1; fill:none\" points=\"805.108,1423.18 805.108,1404.28 \"/>\n",
       "<polyline clip-path=\"url(#clip830)\" style=\"stroke:#000000; stroke-linecap:round; stroke-linejoin:round; stroke-width:4; stroke-opacity:1; fill:none\" points=\"1301.15,1423.18 1301.15,1404.28 \"/>\n",
       "<polyline clip-path=\"url(#clip830)\" style=\"stroke:#000000; stroke-linecap:round; stroke-linejoin:round; stroke-width:4; stroke-opacity:1; fill:none\" points=\"1797.19,1423.18 1797.19,1404.28 \"/>\n",
       "<polyline clip-path=\"url(#clip830)\" style=\"stroke:#000000; stroke-linecap:round; stroke-linejoin:round; stroke-width:4; stroke-opacity:1; fill:none\" points=\"2293.23,1423.18 2293.23,1404.28 \"/>\n",
       "<path clip-path=\"url(#clip830)\" d=\"M271.37 1454.1 Q267.759 1454.1 265.931 1457.66 Q264.125 1461.2 264.125 1468.33 Q264.125 1475.44 265.931 1479.01 Q267.759 1482.55 271.37 1482.55 Q275.005 1482.55 276.81 1479.01 Q278.639 1475.44 278.639 1468.33 Q278.639 1461.2 276.81 1457.66 Q275.005 1454.1 271.37 1454.1 M271.37 1450.39 Q277.181 1450.39 280.236 1455 Q283.315 1459.58 283.315 1468.33 Q283.315 1477.06 280.236 1481.67 Q277.181 1486.25 271.37 1486.25 Q265.56 1486.25 262.482 1481.67 Q259.426 1477.06 259.426 1468.33 Q259.426 1459.58 262.482 1455 Q265.56 1450.39 271.37 1450.39 Z\" fill=\"#000000\" fill-rule=\"nonzero\" fill-opacity=\"1\" /><path clip-path=\"url(#clip830)\" d=\"M291.532 1479.7 L296.417 1479.7 L296.417 1485.58 L291.532 1485.58 L291.532 1479.7 Z\" fill=\"#000000\" fill-rule=\"nonzero\" fill-opacity=\"1\" /><path clip-path=\"url(#clip830)\" d=\"M316.602 1454.1 Q312.991 1454.1 311.162 1457.66 Q309.356 1461.2 309.356 1468.33 Q309.356 1475.44 311.162 1479.01 Q312.991 1482.55 316.602 1482.55 Q320.236 1482.55 322.041 1479.01 Q323.87 1475.44 323.87 1468.33 Q323.87 1461.2 322.041 1457.66 Q320.236 1454.1 316.602 1454.1 M316.602 1450.39 Q322.412 1450.39 325.467 1455 Q328.546 1459.58 328.546 1468.33 Q328.546 1477.06 325.467 1481.67 Q322.412 1486.25 316.602 1486.25 Q310.791 1486.25 307.713 1481.67 Q304.657 1477.06 304.657 1468.33 Q304.657 1459.58 307.713 1455 Q310.791 1450.39 316.602 1450.39 Z\" fill=\"#000000\" fill-rule=\"nonzero\" fill-opacity=\"1\" /><path clip-path=\"url(#clip830)\" d=\"M346.764 1454.1 Q343.152 1454.1 341.324 1457.66 Q339.518 1461.2 339.518 1468.33 Q339.518 1475.44 341.324 1479.01 Q343.152 1482.55 346.764 1482.55 Q350.398 1482.55 352.203 1479.01 Q354.032 1475.44 354.032 1468.33 Q354.032 1461.2 352.203 1457.66 Q350.398 1454.1 346.764 1454.1 M346.764 1450.39 Q352.574 1450.39 355.629 1455 Q358.708 1459.58 358.708 1468.33 Q358.708 1477.06 355.629 1481.67 Q352.574 1486.25 346.764 1486.25 Q340.953 1486.25 337.875 1481.67 Q334.819 1477.06 334.819 1468.33 Q334.819 1459.58 337.875 1455 Q340.953 1450.39 346.764 1450.39 Z\" fill=\"#000000\" fill-rule=\"nonzero\" fill-opacity=\"1\" /><path clip-path=\"url(#clip830)\" d=\"M767.909 1454.1 Q764.298 1454.1 762.469 1457.66 Q760.664 1461.2 760.664 1468.33 Q760.664 1475.44 762.469 1479.01 Q764.298 1482.55 767.909 1482.55 Q771.543 1482.55 773.349 1479.01 Q775.178 1475.44 775.178 1468.33 Q775.178 1461.2 773.349 1457.66 Q771.543 1454.1 767.909 1454.1 M767.909 1450.39 Q773.719 1450.39 776.775 1455 Q779.853 1459.58 779.853 1468.33 Q779.853 1477.06 776.775 1481.67 Q773.719 1486.25 767.909 1486.25 Q762.099 1486.25 759.02 1481.67 Q755.965 1477.06 755.965 1468.33 Q755.965 1459.58 759.02 1455 Q762.099 1450.39 767.909 1450.39 Z\" fill=\"#000000\" fill-rule=\"nonzero\" fill-opacity=\"1\" /><path clip-path=\"url(#clip830)\" d=\"M788.071 1479.7 L792.955 1479.7 L792.955 1485.58 L788.071 1485.58 L788.071 1479.7 Z\" fill=\"#000000\" fill-rule=\"nonzero\" fill-opacity=\"1\" /><path clip-path=\"url(#clip830)\" d=\"M807.168 1481.64 L823.487 1481.64 L823.487 1485.58 L801.543 1485.58 L801.543 1481.64 Q804.205 1478.89 808.788 1474.26 Q813.395 1469.61 814.576 1468.27 Q816.821 1465.74 817.7 1464.01 Q818.603 1462.25 818.603 1460.56 Q818.603 1457.8 816.659 1456.07 Q814.738 1454.33 811.636 1454.33 Q809.437 1454.33 806.983 1455.09 Q804.552 1455.86 801.775 1457.41 L801.775 1452.69 Q804.599 1451.55 807.052 1450.97 Q809.506 1450.39 811.543 1450.39 Q816.913 1450.39 820.108 1453.08 Q823.302 1455.77 823.302 1460.26 Q823.302 1462.39 822.492 1464.31 Q821.705 1466.2 819.599 1468.8 Q819.02 1469.47 815.918 1472.69 Q812.816 1475.88 807.168 1481.64 Z\" fill=\"#000000\" fill-rule=\"nonzero\" fill-opacity=\"1\" /><path clip-path=\"url(#clip830)\" d=\"M833.349 1451.02 L851.705 1451.02 L851.705 1454.96 L837.631 1454.96 L837.631 1463.43 Q838.649 1463.08 839.668 1462.92 Q840.686 1462.73 841.705 1462.73 Q847.492 1462.73 850.872 1465.9 Q854.251 1469.08 854.251 1474.49 Q854.251 1480.07 850.779 1483.17 Q847.307 1486.25 840.987 1486.25 Q838.811 1486.25 836.543 1485.88 Q834.298 1485.51 831.89 1484.77 L831.89 1480.07 Q833.974 1481.2 836.196 1481.76 Q838.418 1482.32 840.895 1482.32 Q844.899 1482.32 847.237 1480.21 Q849.575 1478.1 849.575 1474.49 Q849.575 1470.88 847.237 1468.77 Q844.899 1466.67 840.895 1466.67 Q839.02 1466.67 837.145 1467.08 Q835.293 1467.5 833.349 1468.38 L833.349 1451.02 Z\" fill=\"#000000\" fill-rule=\"nonzero\" fill-opacity=\"1\" /><path clip-path=\"url(#clip830)\" d=\"M1263.45 1454.1 Q1259.84 1454.1 1258.01 1457.66 Q1256.21 1461.2 1256.21 1468.33 Q1256.21 1475.44 1258.01 1479.01 Q1259.84 1482.55 1263.45 1482.55 Q1267.09 1482.55 1268.89 1479.01 Q1270.72 1475.44 1270.72 1468.33 Q1270.72 1461.2 1268.89 1457.66 Q1267.09 1454.1 1263.45 1454.1 M1263.45 1450.39 Q1269.26 1450.39 1272.32 1455 Q1275.4 1459.58 1275.4 1468.33 Q1275.4 1477.06 1272.32 1481.67 Q1269.26 1486.25 1263.45 1486.25 Q1257.64 1486.25 1254.56 1481.67 Q1251.51 1477.06 1251.51 1468.33 Q1251.51 1459.58 1254.56 1455 Q1257.64 1450.39 1263.45 1450.39 Z\" fill=\"#000000\" fill-rule=\"nonzero\" fill-opacity=\"1\" /><path clip-path=\"url(#clip830)\" d=\"M1283.61 1479.7 L1288.5 1479.7 L1288.5 1485.58 L1283.61 1485.58 L1283.61 1479.7 Z\" fill=\"#000000\" fill-rule=\"nonzero\" fill-opacity=\"1\" /><path clip-path=\"url(#clip830)\" d=\"M1298.73 1451.02 L1317.09 1451.02 L1317.09 1454.96 L1303.01 1454.96 L1303.01 1463.43 Q1304.03 1463.08 1305.05 1462.92 Q1306.07 1462.73 1307.09 1462.73 Q1312.87 1462.73 1316.25 1465.9 Q1319.63 1469.08 1319.63 1474.49 Q1319.63 1480.07 1316.16 1483.17 Q1312.69 1486.25 1306.37 1486.25 Q1304.19 1486.25 1301.92 1485.88 Q1299.68 1485.51 1297.27 1484.77 L1297.27 1480.07 Q1299.35 1481.2 1301.58 1481.76 Q1303.8 1482.32 1306.28 1482.32 Q1310.28 1482.32 1312.62 1480.21 Q1314.96 1478.1 1314.96 1474.49 Q1314.96 1470.88 1312.62 1468.77 Q1310.28 1466.67 1306.28 1466.67 Q1304.4 1466.67 1302.53 1467.08 Q1300.67 1467.5 1298.73 1468.38 L1298.73 1451.02 Z\" fill=\"#000000\" fill-rule=\"nonzero\" fill-opacity=\"1\" /><path clip-path=\"url(#clip830)\" d=\"M1338.85 1454.1 Q1335.23 1454.1 1333.41 1457.66 Q1331.6 1461.2 1331.6 1468.33 Q1331.6 1475.44 1333.41 1479.01 Q1335.23 1482.55 1338.85 1482.55 Q1342.48 1482.55 1344.29 1479.01 Q1346.11 1475.44 1346.11 1468.33 Q1346.11 1461.2 1344.29 1457.66 Q1342.48 1454.1 1338.85 1454.1 M1338.85 1450.39 Q1344.66 1450.39 1347.71 1455 Q1350.79 1459.58 1350.79 1468.33 Q1350.79 1477.06 1347.71 1481.67 Q1344.66 1486.25 1338.85 1486.25 Q1333.04 1486.25 1329.96 1481.67 Q1326.9 1477.06 1326.9 1468.33 Q1326.9 1459.58 1329.96 1455 Q1333.04 1450.39 1338.85 1450.39 Z\" fill=\"#000000\" fill-rule=\"nonzero\" fill-opacity=\"1\" /><path clip-path=\"url(#clip830)\" d=\"M1759.99 1454.1 Q1756.38 1454.1 1754.55 1457.66 Q1752.75 1461.2 1752.75 1468.33 Q1752.75 1475.44 1754.55 1479.01 Q1756.38 1482.55 1759.99 1482.55 Q1763.63 1482.55 1765.43 1479.01 Q1767.26 1475.44 1767.26 1468.33 Q1767.26 1461.2 1765.43 1457.66 Q1763.63 1454.1 1759.99 1454.1 M1759.99 1450.39 Q1765.8 1450.39 1768.86 1455 Q1771.94 1459.58 1771.94 1468.33 Q1771.94 1477.06 1768.86 1481.67 Q1765.8 1486.25 1759.99 1486.25 Q1754.18 1486.25 1751.1 1481.67 Q1748.05 1477.06 1748.05 1468.33 Q1748.05 1459.58 1751.1 1455 Q1754.18 1450.39 1759.99 1450.39 Z\" fill=\"#000000\" fill-rule=\"nonzero\" fill-opacity=\"1\" /><path clip-path=\"url(#clip830)\" d=\"M1780.15 1479.7 L1785.04 1479.7 L1785.04 1485.58 L1780.15 1485.58 L1780.15 1479.7 Z\" fill=\"#000000\" fill-rule=\"nonzero\" fill-opacity=\"1\" /><path clip-path=\"url(#clip830)\" d=\"M1794.04 1451.02 L1816.26 1451.02 L1816.26 1453.01 L1803.72 1485.58 L1798.83 1485.58 L1810.64 1454.96 L1794.04 1454.96 L1794.04 1451.02 Z\" fill=\"#000000\" fill-rule=\"nonzero\" fill-opacity=\"1\" /><path clip-path=\"url(#clip830)\" d=\"M1825.43 1451.02 L1843.79 1451.02 L1843.79 1454.96 L1829.71 1454.96 L1829.71 1463.43 Q1830.73 1463.08 1831.75 1462.92 Q1832.77 1462.73 1833.79 1462.73 Q1839.57 1462.73 1842.95 1465.9 Q1846.33 1469.08 1846.33 1474.49 Q1846.33 1480.07 1842.86 1483.17 Q1839.39 1486.25 1833.07 1486.25 Q1830.89 1486.25 1828.62 1485.88 Q1826.38 1485.51 1823.97 1484.77 L1823.97 1480.07 Q1826.06 1481.2 1828.28 1481.76 Q1830.5 1482.32 1832.98 1482.32 Q1836.98 1482.32 1839.32 1480.21 Q1841.66 1478.1 1841.66 1474.49 Q1841.66 1470.88 1839.32 1468.77 Q1836.98 1466.67 1832.98 1466.67 Q1831.1 1466.67 1829.23 1467.08 Q1827.38 1467.5 1825.43 1468.38 L1825.43 1451.02 Z\" fill=\"#000000\" fill-rule=\"nonzero\" fill-opacity=\"1\" /><path clip-path=\"url(#clip830)\" d=\"M2245.3 1481.64 L2252.94 1481.64 L2252.94 1455.28 L2244.63 1456.95 L2244.63 1452.69 L2252.9 1451.02 L2257.57 1451.02 L2257.57 1481.64 L2265.21 1481.64 L2265.21 1485.58 L2245.3 1485.58 L2245.3 1481.64 Z\" fill=\"#000000\" fill-rule=\"nonzero\" fill-opacity=\"1\" /><path clip-path=\"url(#clip830)\" d=\"M2274.65 1479.7 L2279.54 1479.7 L2279.54 1485.58 L2274.65 1485.58 L2274.65 1479.7 Z\" fill=\"#000000\" fill-rule=\"nonzero\" fill-opacity=\"1\" /><path clip-path=\"url(#clip830)\" d=\"M2299.72 1454.1 Q2296.11 1454.1 2294.28 1457.66 Q2292.48 1461.2 2292.48 1468.33 Q2292.48 1475.44 2294.28 1479.01 Q2296.11 1482.55 2299.72 1482.55 Q2303.36 1482.55 2305.16 1479.01 Q2306.99 1475.44 2306.99 1468.33 Q2306.99 1461.2 2305.16 1457.66 Q2303.36 1454.1 2299.72 1454.1 M2299.72 1450.39 Q2305.53 1450.39 2308.59 1455 Q2311.67 1459.58 2311.67 1468.33 Q2311.67 1477.06 2308.59 1481.67 Q2305.53 1486.25 2299.72 1486.25 Q2293.91 1486.25 2290.84 1481.67 Q2287.78 1477.06 2287.78 1468.33 Q2287.78 1459.58 2290.84 1455 Q2293.91 1450.39 2299.72 1450.39 Z\" fill=\"#000000\" fill-rule=\"nonzero\" fill-opacity=\"1\" /><path clip-path=\"url(#clip830)\" d=\"M2329.89 1454.1 Q2326.27 1454.1 2324.45 1457.66 Q2322.64 1461.2 2322.64 1468.33 Q2322.64 1475.44 2324.45 1479.01 Q2326.27 1482.55 2329.89 1482.55 Q2333.52 1482.55 2335.33 1479.01 Q2337.15 1475.44 2337.15 1468.33 Q2337.15 1461.2 2335.33 1457.66 Q2333.52 1454.1 2329.89 1454.1 M2329.89 1450.39 Q2335.7 1450.39 2338.75 1455 Q2341.83 1459.58 2341.83 1468.33 Q2341.83 1477.06 2338.75 1481.67 Q2335.7 1486.25 2329.89 1486.25 Q2324.08 1486.25 2321 1481.67 Q2317.94 1477.06 2317.94 1468.33 Q2317.94 1459.58 2321 1455 Q2324.08 1450.39 2329.89 1450.39 Z\" fill=\"#000000\" fill-rule=\"nonzero\" fill-opacity=\"1\" /><path clip-path=\"url(#clip830)\" d=\"M1317.76 1532.4 L1304.87 1549.74 L1318.43 1568.04 L1311.53 1568.04 L1301.15 1554.04 L1290.77 1568.04 L1283.87 1568.04 L1297.71 1549.39 L1285.04 1532.4 L1291.95 1532.4 L1301.4 1545.1 L1310.86 1532.4 L1317.76 1532.4 Z\" fill=\"#000000\" fill-rule=\"nonzero\" fill-opacity=\"1\" /><polyline clip-path=\"url(#clip830)\" style=\"stroke:#000000; stroke-linecap:round; stroke-linejoin:round; stroke-width:4; stroke-opacity:1; fill:none\" points=\"249.542,1423.18 249.542,47.2441 \"/>\n",
       "<polyline clip-path=\"url(#clip830)\" style=\"stroke:#000000; stroke-linecap:round; stroke-linejoin:round; stroke-width:4; stroke-opacity:1; fill:none\" points=\"249.542,1384.24 268.44,1384.24 \"/>\n",
       "<polyline clip-path=\"url(#clip830)\" style=\"stroke:#000000; stroke-linecap:round; stroke-linejoin:round; stroke-width:4; stroke-opacity:1; fill:none\" points=\"249.542,1059.73 268.44,1059.73 \"/>\n",
       "<polyline clip-path=\"url(#clip830)\" style=\"stroke:#000000; stroke-linecap:round; stroke-linejoin:round; stroke-width:4; stroke-opacity:1; fill:none\" points=\"249.542,735.212 268.44,735.212 \"/>\n",
       "<polyline clip-path=\"url(#clip830)\" style=\"stroke:#000000; stroke-linecap:round; stroke-linejoin:round; stroke-width:4; stroke-opacity:1; fill:none\" points=\"249.542,410.699 268.44,410.699 \"/>\n",
       "<polyline clip-path=\"url(#clip830)\" style=\"stroke:#000000; stroke-linecap:round; stroke-linejoin:round; stroke-width:4; stroke-opacity:1; fill:none\" points=\"249.542,86.1857 268.44,86.1857 \"/>\n",
       "<path clip-path=\"url(#clip830)\" d=\"M126.205 1370.04 Q122.593 1370.04 120.765 1373.6 Q118.959 1377.14 118.959 1384.27 Q118.959 1391.38 120.765 1394.94 Q122.593 1398.49 126.205 1398.49 Q129.839 1398.49 131.644 1394.94 Q133.473 1391.38 133.473 1384.27 Q133.473 1377.14 131.644 1373.6 Q129.839 1370.04 126.205 1370.04 M126.205 1366.33 Q132.015 1366.33 135.07 1370.94 Q138.149 1375.52 138.149 1384.27 Q138.149 1393 135.07 1397.61 Q132.015 1402.19 126.205 1402.19 Q120.394 1402.19 117.316 1397.61 Q114.26 1393 114.26 1384.27 Q114.26 1375.52 117.316 1370.94 Q120.394 1366.33 126.205 1366.33 Z\" fill=\"#000000\" fill-rule=\"nonzero\" fill-opacity=\"1\" /><path clip-path=\"url(#clip830)\" d=\"M146.366 1395.64 L151.251 1395.64 L151.251 1401.52 L146.366 1401.52 L146.366 1395.64 Z\" fill=\"#000000\" fill-rule=\"nonzero\" fill-opacity=\"1\" /><path clip-path=\"url(#clip830)\" d=\"M171.436 1370.04 Q167.825 1370.04 165.996 1373.6 Q164.19 1377.14 164.19 1384.27 Q164.19 1391.38 165.996 1394.94 Q167.825 1398.49 171.436 1398.49 Q175.07 1398.49 176.876 1394.94 Q178.704 1391.38 178.704 1384.27 Q178.704 1377.14 176.876 1373.6 Q175.07 1370.04 171.436 1370.04 M171.436 1366.33 Q177.246 1366.33 180.301 1370.94 Q183.38 1375.52 183.38 1384.27 Q183.38 1393 180.301 1397.61 Q177.246 1402.19 171.436 1402.19 Q165.626 1402.19 162.547 1397.61 Q159.491 1393 159.491 1384.27 Q159.491 1375.52 162.547 1370.94 Q165.626 1366.33 171.436 1366.33 Z\" fill=\"#000000\" fill-rule=\"nonzero\" fill-opacity=\"1\" /><path clip-path=\"url(#clip830)\" d=\"M201.598 1370.04 Q197.987 1370.04 196.158 1373.6 Q194.352 1377.14 194.352 1384.27 Q194.352 1391.38 196.158 1394.94 Q197.987 1398.49 201.598 1398.49 Q205.232 1398.49 207.037 1394.94 Q208.866 1391.38 208.866 1384.27 Q208.866 1377.14 207.037 1373.6 Q205.232 1370.04 201.598 1370.04 M201.598 1366.33 Q207.408 1366.33 210.463 1370.94 Q213.542 1375.52 213.542 1384.27 Q213.542 1393 210.463 1397.61 Q207.408 1402.19 201.598 1402.19 Q195.787 1402.19 192.709 1397.61 Q189.653 1393 189.653 1384.27 Q189.653 1375.52 192.709 1370.94 Q195.787 1366.33 201.598 1366.33 Z\" fill=\"#000000\" fill-rule=\"nonzero\" fill-opacity=\"1\" /><path clip-path=\"url(#clip830)\" d=\"M127.2 1045.52 Q123.589 1045.52 121.76 1049.09 Q119.955 1052.63 119.955 1059.76 Q119.955 1066.87 121.76 1070.43 Q123.589 1073.97 127.2 1073.97 Q130.834 1073.97 132.64 1070.43 Q134.468 1066.87 134.468 1059.76 Q134.468 1052.63 132.64 1049.09 Q130.834 1045.52 127.2 1045.52 M127.2 1041.82 Q133.01 1041.82 136.066 1046.43 Q139.144 1051.01 139.144 1059.76 Q139.144 1068.49 136.066 1073.09 Q133.01 1077.68 127.2 1077.68 Q121.39 1077.68 118.311 1073.09 Q115.256 1068.49 115.256 1059.76 Q115.256 1051.01 118.311 1046.43 Q121.39 1041.82 127.2 1041.82 Z\" fill=\"#000000\" fill-rule=\"nonzero\" fill-opacity=\"1\" /><path clip-path=\"url(#clip830)\" d=\"M147.362 1071.13 L152.246 1071.13 L152.246 1077.01 L147.362 1077.01 L147.362 1071.13 Z\" fill=\"#000000\" fill-rule=\"nonzero\" fill-opacity=\"1\" /><path clip-path=\"url(#clip830)\" d=\"M166.459 1073.07 L182.778 1073.07 L182.778 1077.01 L160.834 1077.01 L160.834 1073.07 Q163.496 1070.32 168.079 1065.69 Q172.686 1061.03 173.866 1059.69 Q176.112 1057.17 176.991 1055.43 Q177.894 1053.67 177.894 1051.98 Q177.894 1049.23 175.95 1047.49 Q174.028 1045.76 170.927 1045.76 Q168.727 1045.76 166.274 1046.52 Q163.843 1047.28 161.065 1048.83 L161.065 1044.11 Q163.89 1042.98 166.343 1042.4 Q168.797 1041.82 170.834 1041.82 Q176.204 1041.82 179.399 1044.51 Q182.593 1047.19 182.593 1051.68 Q182.593 1053.81 181.783 1055.73 Q180.996 1057.63 178.889 1060.22 Q178.311 1060.89 175.209 1064.11 Q172.107 1067.31 166.459 1073.07 Z\" fill=\"#000000\" fill-rule=\"nonzero\" fill-opacity=\"1\" /><path clip-path=\"url(#clip830)\" d=\"M192.639 1042.45 L210.996 1042.45 L210.996 1046.38 L196.922 1046.38 L196.922 1054.85 Q197.94 1054.51 198.959 1054.34 Q199.977 1054.16 200.996 1054.16 Q206.783 1054.16 210.162 1057.33 Q213.542 1060.5 213.542 1065.92 Q213.542 1071.5 210.07 1074.6 Q206.598 1077.68 200.278 1077.68 Q198.102 1077.68 195.834 1077.31 Q193.588 1076.94 191.181 1076.19 L191.181 1071.5 Q193.264 1072.63 195.487 1073.19 Q197.709 1073.74 200.186 1073.74 Q204.19 1073.74 206.528 1071.63 Q208.866 1069.53 208.866 1065.92 Q208.866 1062.31 206.528 1060.2 Q204.19 1058.09 200.186 1058.09 Q198.311 1058.09 196.436 1058.51 Q194.584 1058.93 192.639 1059.81 L192.639 1042.45 Z\" fill=\"#000000\" fill-rule=\"nonzero\" fill-opacity=\"1\" /><path clip-path=\"url(#clip830)\" d=\"M126.205 721.011 Q122.593 721.011 120.765 724.575 Q118.959 728.117 118.959 735.247 Q118.959 742.353 120.765 745.918 Q122.593 749.46 126.205 749.46 Q129.839 749.46 131.644 745.918 Q133.473 742.353 133.473 735.247 Q133.473 728.117 131.644 724.575 Q129.839 721.011 126.205 721.011 M126.205 717.307 Q132.015 717.307 135.07 721.913 Q138.149 726.497 138.149 735.247 Q138.149 743.973 135.07 748.58 Q132.015 753.163 126.205 753.163 Q120.394 753.163 117.316 748.58 Q114.26 743.973 114.26 735.247 Q114.26 726.497 117.316 721.913 Q120.394 717.307 126.205 717.307 Z\" fill=\"#000000\" fill-rule=\"nonzero\" fill-opacity=\"1\" /><path clip-path=\"url(#clip830)\" d=\"M146.366 746.612 L151.251 746.612 L151.251 752.492 L146.366 752.492 L146.366 746.612 Z\" fill=\"#000000\" fill-rule=\"nonzero\" fill-opacity=\"1\" /><path clip-path=\"url(#clip830)\" d=\"M161.482 717.932 L179.839 717.932 L179.839 721.867 L165.765 721.867 L165.765 730.339 Q166.783 729.992 167.802 729.83 Q168.82 729.645 169.839 729.645 Q175.626 729.645 179.005 732.816 Q182.385 735.987 182.385 741.404 Q182.385 746.983 178.913 750.085 Q175.44 753.163 169.121 753.163 Q166.945 753.163 164.677 752.793 Q162.431 752.423 160.024 751.682 L160.024 746.983 Q162.107 748.117 164.329 748.673 Q166.552 749.228 169.028 749.228 Q173.033 749.228 175.371 747.122 Q177.709 745.015 177.709 741.404 Q177.709 737.793 175.371 735.687 Q173.033 733.58 169.028 733.58 Q167.153 733.58 165.278 733.997 Q163.427 734.413 161.482 735.293 L161.482 717.932 Z\" fill=\"#000000\" fill-rule=\"nonzero\" fill-opacity=\"1\" /><path clip-path=\"url(#clip830)\" d=\"M201.598 721.011 Q197.987 721.011 196.158 724.575 Q194.352 728.117 194.352 735.247 Q194.352 742.353 196.158 745.918 Q197.987 749.46 201.598 749.46 Q205.232 749.46 207.037 745.918 Q208.866 742.353 208.866 735.247 Q208.866 728.117 207.037 724.575 Q205.232 721.011 201.598 721.011 M201.598 717.307 Q207.408 717.307 210.463 721.913 Q213.542 726.497 213.542 735.247 Q213.542 743.973 210.463 748.58 Q207.408 753.163 201.598 753.163 Q195.787 753.163 192.709 748.58 Q189.653 743.973 189.653 735.247 Q189.653 726.497 192.709 721.913 Q195.787 717.307 201.598 717.307 Z\" fill=\"#000000\" fill-rule=\"nonzero\" fill-opacity=\"1\" /><path clip-path=\"url(#clip830)\" d=\"M127.2 396.498 Q123.589 396.498 121.76 400.062 Q119.955 403.604 119.955 410.734 Q119.955 417.84 121.76 421.405 Q123.589 424.946 127.2 424.946 Q130.834 424.946 132.64 421.405 Q134.468 417.84 134.468 410.734 Q134.468 403.604 132.64 400.062 Q130.834 396.498 127.2 396.498 M127.2 392.794 Q133.01 392.794 136.066 397.4 Q139.144 401.984 139.144 410.734 Q139.144 419.46 136.066 424.067 Q133.01 428.65 127.2 428.65 Q121.39 428.65 118.311 424.067 Q115.256 419.46 115.256 410.734 Q115.256 401.984 118.311 397.4 Q121.39 392.794 127.2 392.794 Z\" fill=\"#000000\" fill-rule=\"nonzero\" fill-opacity=\"1\" /><path clip-path=\"url(#clip830)\" d=\"M147.362 422.099 L152.246 422.099 L152.246 427.979 L147.362 427.979 L147.362 422.099 Z\" fill=\"#000000\" fill-rule=\"nonzero\" fill-opacity=\"1\" /><path clip-path=\"url(#clip830)\" d=\"M161.251 393.419 L183.473 393.419 L183.473 395.41 L170.927 427.979 L166.042 427.979 L177.848 397.354 L161.251 397.354 L161.251 393.419 Z\" fill=\"#000000\" fill-rule=\"nonzero\" fill-opacity=\"1\" /><path clip-path=\"url(#clip830)\" d=\"M192.639 393.419 L210.996 393.419 L210.996 397.354 L196.922 397.354 L196.922 405.826 Q197.94 405.479 198.959 405.317 Q199.977 405.132 200.996 405.132 Q206.783 405.132 210.162 408.303 Q213.542 411.474 213.542 416.891 Q213.542 422.47 210.07 425.571 Q206.598 428.65 200.278 428.65 Q198.102 428.65 195.834 428.28 Q193.588 427.909 191.181 427.169 L191.181 422.47 Q193.264 423.604 195.487 424.159 Q197.709 424.715 200.186 424.715 Q204.19 424.715 206.528 422.608 Q208.866 420.502 208.866 416.891 Q208.866 413.28 206.528 411.173 Q204.19 409.067 200.186 409.067 Q198.311 409.067 196.436 409.484 Q194.584 409.9 192.639 410.78 L192.639 393.419 Z\" fill=\"#000000\" fill-rule=\"nonzero\" fill-opacity=\"1\" /><path clip-path=\"url(#clip830)\" d=\"M117.015 99.5305 L124.654 99.5305 L124.654 73.1649 L116.343 74.8316 L116.343 70.5723 L124.607 68.9057 L129.283 68.9057 L129.283 99.5305 L136.922 99.5305 L136.922 103.466 L117.015 103.466 L117.015 99.5305 Z\" fill=\"#000000\" fill-rule=\"nonzero\" fill-opacity=\"1\" /><path clip-path=\"url(#clip830)\" d=\"M146.366 97.5861 L151.251 97.5861 L151.251 103.466 L146.366 103.466 L146.366 97.5861 Z\" fill=\"#000000\" fill-rule=\"nonzero\" fill-opacity=\"1\" /><path clip-path=\"url(#clip830)\" d=\"M171.436 71.9844 Q167.825 71.9844 165.996 75.5492 Q164.19 79.0908 164.19 86.2204 Q164.19 93.3268 165.996 96.8916 Q167.825 100.433 171.436 100.433 Q175.07 100.433 176.876 96.8916 Q178.704 93.3268 178.704 86.2204 Q178.704 79.0908 176.876 75.5492 Q175.07 71.9844 171.436 71.9844 M171.436 68.2807 Q177.246 68.2807 180.301 72.8871 Q183.38 77.4704 183.38 86.2204 Q183.38 94.9472 180.301 99.5537 Q177.246 104.137 171.436 104.137 Q165.626 104.137 162.547 99.5537 Q159.491 94.9472 159.491 86.2204 Q159.491 77.4704 162.547 72.8871 Q165.626 68.2807 171.436 68.2807 Z\" fill=\"#000000\" fill-rule=\"nonzero\" fill-opacity=\"1\" /><path clip-path=\"url(#clip830)\" d=\"M201.598 71.9844 Q197.987 71.9844 196.158 75.5492 Q194.352 79.0908 194.352 86.2204 Q194.352 93.3268 196.158 96.8916 Q197.987 100.433 201.598 100.433 Q205.232 100.433 207.037 96.8916 Q208.866 93.3268 208.866 86.2204 Q208.866 79.0908 207.037 75.5492 Q205.232 71.9844 201.598 71.9844 M201.598 68.2807 Q207.408 68.2807 210.463 72.8871 Q213.542 77.4704 213.542 86.2204 Q213.542 94.9472 210.463 99.5537 Q207.408 104.137 201.598 104.137 Q195.787 104.137 192.709 99.5537 Q189.653 94.9472 189.653 86.2204 Q189.653 77.4704 192.709 72.8871 Q195.787 68.2807 201.598 68.2807 Z\" fill=\"#000000\" fill-rule=\"nonzero\" fill-opacity=\"1\" /><path clip-path=\"url(#clip830)\" d=\"M14.479 723.865 L19.3487 723.865 L19.3487 729.467 Q19.3487 732.618 20.6219 733.859 Q21.895 735.069 25.2052 735.069 L28.3562 735.069 L28.3562 725.425 L32.9077 725.425 L32.9077 735.069 L64.0042 735.069 L64.0042 740.957 L32.9077 740.957 L32.9077 746.559 L28.3562 746.559 L28.3562 740.957 L25.8736 740.957 Q19.9216 740.957 17.2162 738.188 Q14.479 735.419 14.479 729.403 L14.479 723.865 Z\" fill=\"#000000\" fill-rule=\"nonzero\" fill-opacity=\"1\" /><polyline clip-path=\"url(#clip832)\" style=\"stroke:#009af9; stroke-linecap:round; stroke-linejoin:round; stroke-width:4; stroke-opacity:1; fill:none\" points=\"309.067,86.1857 319.309,86.2203 329.551,86.324 389.537,88.3207 449.523,92.6903 477.429,95.5317 505.335,98.8866 542.738,104.189 580.142,110.414 641.957,122.723 699.438,136.431 771.596,156.723 836.323,177.846 910.412,205.415 965.793,228.388 1036.63,260.717 1101.28,293.113 1174.86,333.336 1233.18,367.759 1305.65,413.65 1361.15,451.136 1439.39,507.437 1497.86,552.145 1564.35,605.728 1630.2,661.667 1702.65,726.513 1757.99,778.376 1827.82,846.705 1892.4,912.764 1959.01,983.774 2026.53,1058.74 2061.78,1099.07 2097.03,1140.22 2124.8,1173.21 2152.57,1206.72 2215.8,1284.91 2279.04,1365.74 2286.14,1374.97 2293.23,1384.24 \"/>\n",
       "<path clip-path=\"url(#clip832)\" d=\"M309.067 1384.24 L309.067 410.699 L2293.23 410.699 L2293.23 1384.24 L309.067 1384.24  Z\" fill=\"#e26f46\" fill-rule=\"evenodd\" fill-opacity=\"0.2\"/>\n",
       "<polyline clip-path=\"url(#clip832)\" style=\"stroke:#000000; stroke-linecap:round; stroke-linejoin:round; stroke-width:4; stroke-opacity:0.2; fill:none\" points=\"309.067,1384.24 309.067,410.699 2293.23,410.699 2293.23,1384.24 309.067,1384.24 \"/>\n",
       "</svg>\n"
      ],
      "text/html": [
       "<img src=\"data:image/png;base64,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\" />"
      ]
     },
     "execution_count": 15,
     "metadata": {},
     "output_type": "execute_result"
    }
   ],
   "source": [
    "showmidpoint(x->1-x^2,(0,1),1)"
   ]
  },
  {
   "cell_type": "code",
   "execution_count": 16,
   "id": "fb56128f-b49b-47e2-a3eb-3835e8941bba",
   "metadata": {},
   "outputs": [
    {
     "data": {
      "image/png": "[encoded data removed]",
      "image/svg+xml": [
       "<?xml version=\"1.0\" encoding=\"utf-8\"?>\n",
       "<svg xmlns=\"http://www.w3.org/2000/svg\" xmlns:xlink=\"http://www.w3.org/1999/xlink\" width=\"600\" height=\"400\" viewBox=\"0 0 2400 1600\">\n",
       "<defs>\n",
       "  <clipPath id=\"clip890\">\n",
       "    <rect x=\"0\" y=\"0\" width=\"2400\" height=\"1600\"/>\n",
       "  </clipPath>\n",
       "</defs>\n",
       "<path clip-path=\"url(#clip890)\" d=\"M0 1600 L2400 1600 L2400 8.88178e-14 L0 8.88178e-14  Z\" fill=\"#ffffff\" fill-rule=\"evenodd\" fill-opacity=\"1\"/>\n",
       "<defs>\n",
       "  <clipPath id=\"clip891\">\n",
       "    <rect x=\"480\" y=\"0\" width=\"1681\" height=\"1600\"/>\n",
       "  </clipPath>\n",
       "</defs>\n",
       "<path clip-path=\"url(#clip890)\" d=\"M249.542 1423.18 L2352.76 1423.18 L2352.76 47.2441 L249.542 47.2441  Z\" fill=\"#ffffff\" fill-rule=\"evenodd\" fill-opacity=\"1\"/>\n",
       "<defs>\n",
       "  <clipPath id=\"clip892\">\n",
       "    <rect x=\"249\" y=\"47\" width=\"2104\" height=\"1377\"/>\n",
       "  </clipPath>\n",
       "</defs>\n",
       "<polyline clip-path=\"url(#clip892)\" style=\"stroke:#000000; stroke-linecap:round; stroke-linejoin:round; stroke-width:2; stroke-opacity:0.1; fill:none\" points=\"309.067,1423.18 309.067,47.2441 \"/>\n",
       "<polyline clip-path=\"url(#clip892)\" style=\"stroke:#000000; stroke-linecap:round; stroke-linejoin:round; stroke-width:2; stroke-opacity:0.1; fill:none\" points=\"805.108,1423.18 805.108,47.2441 \"/>\n",
       "<polyline clip-path=\"url(#clip892)\" style=\"stroke:#000000; stroke-linecap:round; stroke-linejoin:round; stroke-width:2; stroke-opacity:0.1; fill:none\" points=\"1301.15,1423.18 1301.15,47.2441 \"/>\n",
       "<polyline clip-path=\"url(#clip892)\" style=\"stroke:#000000; stroke-linecap:round; stroke-linejoin:round; stroke-width:2; stroke-opacity:0.1; fill:none\" points=\"1797.19,1423.18 1797.19,47.2441 \"/>\n",
       "<polyline clip-path=\"url(#clip892)\" style=\"stroke:#000000; stroke-linecap:round; stroke-linejoin:round; stroke-width:2; stroke-opacity:0.1; fill:none\" points=\"2293.23,1423.18 2293.23,47.2441 \"/>\n",
       "<polyline clip-path=\"url(#clip892)\" style=\"stroke:#000000; stroke-linecap:round; stroke-linejoin:round; stroke-width:2; stroke-opacity:0.1; fill:none\" points=\"249.542,1384.24 2352.76,1384.24 \"/>\n",
       "<polyline clip-path=\"url(#clip892)\" style=\"stroke:#000000; stroke-linecap:round; stroke-linejoin:round; stroke-width:2; stroke-opacity:0.1; fill:none\" points=\"249.542,1059.73 2352.76,1059.73 \"/>\n",
       "<polyline clip-path=\"url(#clip892)\" style=\"stroke:#000000; stroke-linecap:round; stroke-linejoin:round; stroke-width:2; stroke-opacity:0.1; fill:none\" points=\"249.542,735.212 2352.76,735.212 \"/>\n",
       "<polyline clip-path=\"url(#clip892)\" style=\"stroke:#000000; stroke-linecap:round; stroke-linejoin:round; stroke-width:2; stroke-opacity:0.1; fill:none\" points=\"249.542,410.699 2352.76,410.699 \"/>\n",
       "<polyline clip-path=\"url(#clip892)\" style=\"stroke:#000000; stroke-linecap:round; stroke-linejoin:round; stroke-width:2; stroke-opacity:0.1; fill:none\" points=\"249.542,86.1857 2352.76,86.1857 \"/>\n",
       "<polyline clip-path=\"url(#clip890)\" style=\"stroke:#000000; stroke-linecap:round; stroke-linejoin:round; stroke-width:4; stroke-opacity:1; fill:none\" points=\"249.542,1423.18 2352.76,1423.18 \"/>\n",
       "<polyline clip-path=\"url(#clip890)\" style=\"stroke:#000000; stroke-linecap:round; stroke-linejoin:round; stroke-width:4; stroke-opacity:1; fill:none\" points=\"309.067,1423.18 309.067,1404.28 \"/>\n",
       "<polyline clip-path=\"url(#clip890)\" style=\"stroke:#000000; stroke-linecap:round; stroke-linejoin:round; stroke-width:4; stroke-opacity:1; fill:none\" points=\"805.108,1423.18 805.108,1404.28 \"/>\n",
       "<polyline clip-path=\"url(#clip890)\" style=\"stroke:#000000; stroke-linecap:round; stroke-linejoin:round; stroke-width:4; stroke-opacity:1; fill:none\" points=\"1301.15,1423.18 1301.15,1404.28 \"/>\n",
       "<polyline clip-path=\"url(#clip890)\" style=\"stroke:#000000; stroke-linecap:round; stroke-linejoin:round; stroke-width:4; stroke-opacity:1; fill:none\" points=\"1797.19,1423.18 1797.19,1404.28 \"/>\n",
       "<polyline clip-path=\"url(#clip890)\" style=\"stroke:#000000; stroke-linecap:round; stroke-linejoin:round; stroke-width:4; stroke-opacity:1; fill:none\" points=\"2293.23,1423.18 2293.23,1404.28 \"/>\n",
       "<path clip-path=\"url(#clip890)\" d=\"M271.37 1454.1 Q267.759 1454.1 265.931 1457.66 Q264.125 1461.2 264.125 1468.33 Q264.125 1475.44 265.931 1479.01 Q267.759 1482.55 271.37 1482.55 Q275.005 1482.55 276.81 1479.01 Q278.639 1475.44 278.639 1468.33 Q278.639 1461.2 276.81 1457.66 Q275.005 1454.1 271.37 1454.1 M271.37 1450.39 Q277.181 1450.39 280.236 1455 Q283.315 1459.58 283.315 1468.33 Q283.315 1477.06 280.236 1481.67 Q277.181 1486.25 271.37 1486.25 Q265.56 1486.25 262.482 1481.67 Q259.426 1477.06 259.426 1468.33 Q259.426 1459.58 262.482 1455 Q265.56 1450.39 271.37 1450.39 Z\" fill=\"#000000\" fill-rule=\"nonzero\" fill-opacity=\"1\" /><path clip-path=\"url(#clip890)\" d=\"M291.532 1479.7 L296.417 1479.7 L296.417 1485.58 L291.532 1485.58 L291.532 1479.7 Z\" fill=\"#000000\" fill-rule=\"nonzero\" fill-opacity=\"1\" /><path clip-path=\"url(#clip890)\" d=\"M316.602 1454.1 Q312.991 1454.1 311.162 1457.66 Q309.356 1461.2 309.356 1468.33 Q309.356 1475.44 311.162 1479.01 Q312.991 1482.55 316.602 1482.55 Q320.236 1482.55 322.041 1479.01 Q323.87 1475.44 323.87 1468.33 Q323.87 1461.2 322.041 1457.66 Q320.236 1454.1 316.602 1454.1 M316.602 1450.39 Q322.412 1450.39 325.467 1455 Q328.546 1459.58 328.546 1468.33 Q328.546 1477.06 325.467 1481.67 Q322.412 1486.25 316.602 1486.25 Q310.791 1486.25 307.713 1481.67 Q304.657 1477.06 304.657 1468.33 Q304.657 1459.58 307.713 1455 Q310.791 1450.39 316.602 1450.39 Z\" fill=\"#000000\" fill-rule=\"nonzero\" fill-opacity=\"1\" /><path clip-path=\"url(#clip890)\" d=\"M346.764 1454.1 Q343.152 1454.1 341.324 1457.66 Q339.518 1461.2 339.518 1468.33 Q339.518 1475.44 341.324 1479.01 Q343.152 1482.55 346.764 1482.55 Q350.398 1482.55 352.203 1479.01 Q354.032 1475.44 354.032 1468.33 Q354.032 1461.2 352.203 1457.66 Q350.398 1454.1 346.764 1454.1 M346.764 1450.39 Q352.574 1450.39 355.629 1455 Q358.708 1459.58 358.708 1468.33 Q358.708 1477.06 355.629 1481.67 Q352.574 1486.25 346.764 1486.25 Q340.953 1486.25 337.875 1481.67 Q334.819 1477.06 334.819 1468.33 Q334.819 1459.58 337.875 1455 Q340.953 1450.39 346.764 1450.39 Z\" fill=\"#000000\" fill-rule=\"nonzero\" fill-opacity=\"1\" /><path clip-path=\"url(#clip890)\" d=\"M767.909 1454.1 Q764.298 1454.1 762.469 1457.66 Q760.664 1461.2 760.664 1468.33 Q760.664 1475.44 762.469 1479.01 Q764.298 1482.55 767.909 1482.55 Q771.543 1482.55 773.349 1479.01 Q775.178 1475.44 775.178 1468.33 Q775.178 1461.2 773.349 1457.66 Q771.543 1454.1 767.909 1454.1 M767.909 1450.39 Q773.719 1450.39 776.775 1455 Q779.853 1459.58 779.853 1468.33 Q779.853 1477.06 776.775 1481.67 Q773.719 1486.25 767.909 1486.25 Q762.099 1486.25 759.02 1481.67 Q755.965 1477.06 755.965 1468.33 Q755.965 1459.58 759.02 1455 Q762.099 1450.39 767.909 1450.39 Z\" fill=\"#000000\" fill-rule=\"nonzero\" fill-opacity=\"1\" /><path clip-path=\"url(#clip890)\" d=\"M788.071 1479.7 L792.955 1479.7 L792.955 1485.58 L788.071 1485.58 L788.071 1479.7 Z\" fill=\"#000000\" fill-rule=\"nonzero\" fill-opacity=\"1\" /><path clip-path=\"url(#clip890)\" d=\"M807.168 1481.64 L823.487 1481.64 L823.487 1485.58 L801.543 1485.58 L801.543 1481.64 Q804.205 1478.89 808.788 1474.26 Q813.395 1469.61 814.576 1468.27 Q816.821 1465.74 817.7 1464.01 Q818.603 1462.25 818.603 1460.56 Q818.603 1457.8 816.659 1456.07 Q814.738 1454.33 811.636 1454.33 Q809.437 1454.33 806.983 1455.09 Q804.552 1455.86 801.775 1457.41 L801.775 1452.69 Q804.599 1451.55 807.052 1450.97 Q809.506 1450.39 811.543 1450.39 Q816.913 1450.39 820.108 1453.08 Q823.302 1455.77 823.302 1460.26 Q823.302 1462.39 822.492 1464.31 Q821.705 1466.2 819.599 1468.8 Q819.02 1469.47 815.918 1472.69 Q812.816 1475.88 807.168 1481.64 Z\" fill=\"#000000\" fill-rule=\"nonzero\" fill-opacity=\"1\" /><path clip-path=\"url(#clip890)\" d=\"M833.349 1451.02 L851.705 1451.02 L851.705 1454.96 L837.631 1454.96 L837.631 1463.43 Q838.649 1463.08 839.668 1462.92 Q840.686 1462.73 841.705 1462.73 Q847.492 1462.73 850.872 1465.9 Q854.251 1469.08 854.251 1474.49 Q854.251 1480.07 850.779 1483.17 Q847.307 1486.25 840.987 1486.25 Q838.811 1486.25 836.543 1485.88 Q834.298 1485.51 831.89 1484.77 L831.89 1480.07 Q833.974 1481.2 836.196 1481.76 Q838.418 1482.32 840.895 1482.32 Q844.899 1482.32 847.237 1480.21 Q849.575 1478.1 849.575 1474.49 Q849.575 1470.88 847.237 1468.77 Q844.899 1466.67 840.895 1466.67 Q839.02 1466.67 837.145 1467.08 Q835.293 1467.5 833.349 1468.38 L833.349 1451.02 Z\" fill=\"#000000\" fill-rule=\"nonzero\" fill-opacity=\"1\" /><path clip-path=\"url(#clip890)\" d=\"M1263.45 1454.1 Q1259.84 1454.1 1258.01 1457.66 Q1256.21 1461.2 1256.21 1468.33 Q1256.21 1475.44 1258.01 1479.01 Q1259.84 1482.55 1263.45 1482.55 Q1267.09 1482.55 1268.89 1479.01 Q1270.72 1475.44 1270.72 1468.33 Q1270.72 1461.2 1268.89 1457.66 Q1267.09 1454.1 1263.45 1454.1 M1263.45 1450.39 Q1269.26 1450.39 1272.32 1455 Q1275.4 1459.58 1275.4 1468.33 Q1275.4 1477.06 1272.32 1481.67 Q1269.26 1486.25 1263.45 1486.25 Q1257.64 1486.25 1254.56 1481.67 Q1251.51 1477.06 1251.51 1468.33 Q1251.51 1459.58 1254.56 1455 Q1257.64 1450.39 1263.45 1450.39 Z\" fill=\"#000000\" fill-rule=\"nonzero\" fill-opacity=\"1\" /><path clip-path=\"url(#clip890)\" d=\"M1283.61 1479.7 L1288.5 1479.7 L1288.5 1485.58 L1283.61 1485.58 L1283.61 1479.7 Z\" fill=\"#000000\" fill-rule=\"nonzero\" fill-opacity=\"1\" /><path clip-path=\"url(#clip890)\" d=\"M1298.73 1451.02 L1317.09 1451.02 L1317.09 1454.96 L1303.01 1454.96 L1303.01 1463.43 Q1304.03 1463.08 1305.05 1462.92 Q1306.07 1462.73 1307.09 1462.73 Q1312.87 1462.73 1316.25 1465.9 Q1319.63 1469.08 1319.63 1474.49 Q1319.63 1480.07 1316.16 1483.17 Q1312.69 1486.25 1306.37 1486.25 Q1304.19 1486.25 1301.92 1485.88 Q1299.68 1485.51 1297.27 1484.77 L1297.27 1480.07 Q1299.35 1481.2 1301.58 1481.76 Q1303.8 1482.32 1306.28 1482.32 Q1310.28 1482.32 1312.62 1480.21 Q1314.96 1478.1 1314.96 1474.49 Q1314.96 1470.88 1312.62 1468.77 Q1310.28 1466.67 1306.28 1466.67 Q1304.4 1466.67 1302.53 1467.08 Q1300.67 1467.5 1298.73 1468.38 L1298.73 1451.02 Z\" fill=\"#000000\" fill-rule=\"nonzero\" fill-opacity=\"1\" /><path clip-path=\"url(#clip890)\" d=\"M1338.85 1454.1 Q1335.23 1454.1 1333.41 1457.66 Q1331.6 1461.2 1331.6 1468.33 Q1331.6 1475.44 1333.41 1479.01 Q1335.23 1482.55 1338.85 1482.55 Q1342.48 1482.55 1344.29 1479.01 Q1346.11 1475.44 1346.11 1468.33 Q1346.11 1461.2 1344.29 1457.66 Q1342.48 1454.1 1338.85 1454.1 M1338.85 1450.39 Q1344.66 1450.39 1347.71 1455 Q1350.79 1459.58 1350.79 1468.33 Q1350.79 1477.06 1347.71 1481.67 Q1344.66 1486.25 1338.85 1486.25 Q1333.04 1486.25 1329.96 1481.67 Q1326.9 1477.06 1326.9 1468.33 Q1326.9 1459.58 1329.96 1455 Q1333.04 1450.39 1338.85 1450.39 Z\" fill=\"#000000\" fill-rule=\"nonzero\" fill-opacity=\"1\" /><path clip-path=\"url(#clip890)\" d=\"M1759.99 1454.1 Q1756.38 1454.1 1754.55 1457.66 Q1752.75 1461.2 1752.75 1468.33 Q1752.75 1475.44 1754.55 1479.01 Q1756.38 1482.55 1759.99 1482.55 Q1763.63 1482.55 1765.43 1479.01 Q1767.26 1475.44 1767.26 1468.33 Q1767.26 1461.2 1765.43 1457.66 Q1763.63 1454.1 1759.99 1454.1 M1759.99 1450.39 Q1765.8 1450.39 1768.86 1455 Q1771.94 1459.58 1771.94 1468.33 Q1771.94 1477.06 1768.86 1481.67 Q1765.8 1486.25 1759.99 1486.25 Q1754.18 1486.25 1751.1 1481.67 Q1748.05 1477.06 1748.05 1468.33 Q1748.05 1459.58 1751.1 1455 Q1754.18 1450.39 1759.99 1450.39 Z\" fill=\"#000000\" fill-rule=\"nonzero\" fill-opacity=\"1\" /><path clip-path=\"url(#clip890)\" d=\"M1780.15 1479.7 L1785.04 1479.7 L1785.04 1485.58 L1780.15 1485.58 L1780.15 1479.7 Z\" fill=\"#000000\" fill-rule=\"nonzero\" fill-opacity=\"1\" /><path clip-path=\"url(#clip890)\" d=\"M1794.04 1451.02 L1816.26 1451.02 L1816.26 1453.01 L1803.72 1485.58 L1798.83 1485.58 L1810.64 1454.96 L1794.04 1454.96 L1794.04 1451.02 Z\" fill=\"#000000\" fill-rule=\"nonzero\" fill-opacity=\"1\" /><path clip-path=\"url(#clip890)\" d=\"M1825.43 1451.02 L1843.79 1451.02 L1843.79 1454.96 L1829.71 1454.96 L1829.71 1463.43 Q1830.73 1463.08 1831.75 1462.92 Q1832.77 1462.73 1833.79 1462.73 Q1839.57 1462.73 1842.95 1465.9 Q1846.33 1469.08 1846.33 1474.49 Q1846.33 1480.07 1842.86 1483.17 Q1839.39 1486.25 1833.07 1486.25 Q1830.89 1486.25 1828.62 1485.88 Q1826.38 1485.51 1823.97 1484.77 L1823.97 1480.07 Q1826.06 1481.2 1828.28 1481.76 Q1830.5 1482.32 1832.98 1482.32 Q1836.98 1482.32 1839.32 1480.21 Q1841.66 1478.1 1841.66 1474.49 Q1841.66 1470.88 1839.32 1468.77 Q1836.98 1466.67 1832.98 1466.67 Q1831.1 1466.67 1829.23 1467.08 Q1827.38 1467.5 1825.43 1468.38 L1825.43 1451.02 Z\" fill=\"#000000\" fill-rule=\"nonzero\" fill-opacity=\"1\" /><path clip-path=\"url(#clip890)\" d=\"M2245.3 1481.64 L2252.94 1481.64 L2252.94 1455.28 L2244.63 1456.95 L2244.63 1452.69 L2252.9 1451.02 L2257.57 1451.02 L2257.57 1481.64 L2265.21 1481.64 L2265.21 1485.58 L2245.3 1485.58 L2245.3 1481.64 Z\" fill=\"#000000\" fill-rule=\"nonzero\" fill-opacity=\"1\" /><path clip-path=\"url(#clip890)\" d=\"M2274.65 1479.7 L2279.54 1479.7 L2279.54 1485.58 L2274.65 1485.58 L2274.65 1479.7 Z\" fill=\"#000000\" fill-rule=\"nonzero\" fill-opacity=\"1\" /><path clip-path=\"url(#clip890)\" d=\"M2299.72 1454.1 Q2296.11 1454.1 2294.28 1457.66 Q2292.48 1461.2 2292.48 1468.33 Q2292.48 1475.44 2294.28 1479.01 Q2296.11 1482.55 2299.72 1482.55 Q2303.36 1482.55 2305.16 1479.01 Q2306.99 1475.44 2306.99 1468.33 Q2306.99 1461.2 2305.16 1457.66 Q2303.36 1454.1 2299.72 1454.1 M2299.72 1450.39 Q2305.53 1450.39 2308.59 1455 Q2311.67 1459.58 2311.67 1468.33 Q2311.67 1477.06 2308.59 1481.67 Q2305.53 1486.25 2299.72 1486.25 Q2293.91 1486.25 2290.84 1481.67 Q2287.78 1477.06 2287.78 1468.33 Q2287.78 1459.58 2290.84 1455 Q2293.91 1450.39 2299.72 1450.39 Z\" fill=\"#000000\" fill-rule=\"nonzero\" fill-opacity=\"1\" /><path clip-path=\"url(#clip890)\" d=\"M2329.89 1454.1 Q2326.27 1454.1 2324.45 1457.66 Q2322.64 1461.2 2322.64 1468.33 Q2322.64 1475.44 2324.45 1479.01 Q2326.27 1482.55 2329.89 1482.55 Q2333.52 1482.55 2335.33 1479.01 Q2337.15 1475.44 2337.15 1468.33 Q2337.15 1461.2 2335.33 1457.66 Q2333.52 1454.1 2329.89 1454.1 M2329.89 1450.39 Q2335.7 1450.39 2338.75 1455 Q2341.83 1459.58 2341.83 1468.33 Q2341.83 1477.06 2338.75 1481.67 Q2335.7 1486.25 2329.89 1486.25 Q2324.08 1486.25 2321 1481.67 Q2317.94 1477.06 2317.94 1468.33 Q2317.94 1459.58 2321 1455 Q2324.08 1450.39 2329.89 1450.39 Z\" fill=\"#000000\" fill-rule=\"nonzero\" fill-opacity=\"1\" /><path clip-path=\"url(#clip890)\" d=\"M1317.76 1532.4 L1304.87 1549.74 L1318.43 1568.04 L1311.53 1568.04 L1301.15 1554.04 L1290.77 1568.04 L1283.87 1568.04 L1297.71 1549.39 L1285.04 1532.4 L1291.95 1532.4 L1301.4 1545.1 L1310.86 1532.4 L1317.76 1532.4 Z\" fill=\"#000000\" fill-rule=\"nonzero\" fill-opacity=\"1\" /><polyline clip-path=\"url(#clip890)\" style=\"stroke:#000000; stroke-linecap:round; stroke-linejoin:round; stroke-width:4; stroke-opacity:1; fill:none\" points=\"249.542,1423.18 249.542,47.2441 \"/>\n",
       "<polyline clip-path=\"url(#clip890)\" style=\"stroke:#000000; stroke-linecap:round; stroke-linejoin:round; stroke-width:4; stroke-opacity:1; fill:none\" points=\"249.542,1384.24 268.44,1384.24 \"/>\n",
       "<polyline clip-path=\"url(#clip890)\" style=\"stroke:#000000; stroke-linecap:round; stroke-linejoin:round; stroke-width:4; stroke-opacity:1; fill:none\" points=\"249.542,1059.73 268.44,1059.73 \"/>\n",
       "<polyline clip-path=\"url(#clip890)\" style=\"stroke:#000000; stroke-linecap:round; stroke-linejoin:round; stroke-width:4; stroke-opacity:1; fill:none\" points=\"249.542,735.212 268.44,735.212 \"/>\n",
       "<polyline clip-path=\"url(#clip890)\" style=\"stroke:#000000; stroke-linecap:round; stroke-linejoin:round; stroke-width:4; stroke-opacity:1; fill:none\" points=\"249.542,410.699 268.44,410.699 \"/>\n",
       "<polyline clip-path=\"url(#clip890)\" style=\"stroke:#000000; stroke-linecap:round; stroke-linejoin:round; stroke-width:4; stroke-opacity:1; fill:none\" points=\"249.542,86.1857 268.44,86.1857 \"/>\n",
       "<path clip-path=\"url(#clip890)\" d=\"M126.205 1370.04 Q122.593 1370.04 120.765 1373.6 Q118.959 1377.14 118.959 1384.27 Q118.959 1391.38 120.765 1394.94 Q122.593 1398.49 126.205 1398.49 Q129.839 1398.49 131.644 1394.94 Q133.473 1391.38 133.473 1384.27 Q133.473 1377.14 131.644 1373.6 Q129.839 1370.04 126.205 1370.04 M126.205 1366.33 Q132.015 1366.33 135.07 1370.94 Q138.149 1375.52 138.149 1384.27 Q138.149 1393 135.07 1397.61 Q132.015 1402.19 126.205 1402.19 Q120.394 1402.19 117.316 1397.61 Q114.26 1393 114.26 1384.27 Q114.26 1375.52 117.316 1370.94 Q120.394 1366.33 126.205 1366.33 Z\" fill=\"#000000\" fill-rule=\"nonzero\" fill-opacity=\"1\" /><path clip-path=\"url(#clip890)\" d=\"M146.366 1395.64 L151.251 1395.64 L151.251 1401.52 L146.366 1401.52 L146.366 1395.64 Z\" fill=\"#000000\" fill-rule=\"nonzero\" fill-opacity=\"1\" /><path clip-path=\"url(#clip890)\" d=\"M171.436 1370.04 Q167.825 1370.04 165.996 1373.6 Q164.19 1377.14 164.19 1384.27 Q164.19 1391.38 165.996 1394.94 Q167.825 1398.49 171.436 1398.49 Q175.07 1398.49 176.876 1394.94 Q178.704 1391.38 178.704 1384.27 Q178.704 1377.14 176.876 1373.6 Q175.07 1370.04 171.436 1370.04 M171.436 1366.33 Q177.246 1366.33 180.301 1370.94 Q183.38 1375.52 183.38 1384.27 Q183.38 1393 180.301 1397.61 Q177.246 1402.19 171.436 1402.19 Q165.626 1402.19 162.547 1397.61 Q159.491 1393 159.491 1384.27 Q159.491 1375.52 162.547 1370.94 Q165.626 1366.33 171.436 1366.33 Z\" fill=\"#000000\" fill-rule=\"nonzero\" fill-opacity=\"1\" /><path clip-path=\"url(#clip890)\" d=\"M201.598 1370.04 Q197.987 1370.04 196.158 1373.6 Q194.352 1377.14 194.352 1384.27 Q194.352 1391.38 196.158 1394.94 Q197.987 1398.49 201.598 1398.49 Q205.232 1398.49 207.037 1394.94 Q208.866 1391.38 208.866 1384.27 Q208.866 1377.14 207.037 1373.6 Q205.232 1370.04 201.598 1370.04 M201.598 1366.33 Q207.408 1366.33 210.463 1370.94 Q213.542 1375.52 213.542 1384.27 Q213.542 1393 210.463 1397.61 Q207.408 1402.19 201.598 1402.19 Q195.787 1402.19 192.709 1397.61 Q189.653 1393 189.653 1384.27 Q189.653 1375.52 192.709 1370.94 Q195.787 1366.33 201.598 1366.33 Z\" fill=\"#000000\" fill-rule=\"nonzero\" fill-opacity=\"1\" /><path clip-path=\"url(#clip890)\" d=\"M127.2 1045.52 Q123.589 1045.52 121.76 1049.09 Q119.955 1052.63 119.955 1059.76 Q119.955 1066.87 121.76 1070.43 Q123.589 1073.97 127.2 1073.97 Q130.834 1073.97 132.64 1070.43 Q134.468 1066.87 134.468 1059.76 Q134.468 1052.63 132.64 1049.09 Q130.834 1045.52 127.2 1045.52 M127.2 1041.82 Q133.01 1041.82 136.066 1046.43 Q139.144 1051.01 139.144 1059.76 Q139.144 1068.49 136.066 1073.09 Q133.01 1077.68 127.2 1077.68 Q121.39 1077.68 118.311 1073.09 Q115.256 1068.49 115.256 1059.76 Q115.256 1051.01 118.311 1046.43 Q121.39 1041.82 127.2 1041.82 Z\" fill=\"#000000\" fill-rule=\"nonzero\" fill-opacity=\"1\" /><path clip-path=\"url(#clip890)\" d=\"M147.362 1071.13 L152.246 1071.13 L152.246 1077.01 L147.362 1077.01 L147.362 1071.13 Z\" fill=\"#000000\" fill-rule=\"nonzero\" fill-opacity=\"1\" /><path clip-path=\"url(#clip890)\" d=\"M166.459 1073.07 L182.778 1073.07 L182.778 1077.01 L160.834 1077.01 L160.834 1073.07 Q163.496 1070.32 168.079 1065.69 Q172.686 1061.03 173.866 1059.69 Q176.112 1057.17 176.991 1055.43 Q177.894 1053.67 177.894 1051.98 Q177.894 1049.23 175.95 1047.49 Q174.028 1045.76 170.927 1045.76 Q168.727 1045.76 166.274 1046.52 Q163.843 1047.28 161.065 1048.83 L161.065 1044.11 Q163.89 1042.98 166.343 1042.4 Q168.797 1041.82 170.834 1041.82 Q176.204 1041.82 179.399 1044.51 Q182.593 1047.19 182.593 1051.68 Q182.593 1053.81 181.783 1055.73 Q180.996 1057.63 178.889 1060.22 Q178.311 1060.89 175.209 1064.11 Q172.107 1067.31 166.459 1073.07 Z\" fill=\"#000000\" fill-rule=\"nonzero\" fill-opacity=\"1\" /><path clip-path=\"url(#clip890)\" d=\"M192.639 1042.45 L210.996 1042.45 L210.996 1046.38 L196.922 1046.38 L196.922 1054.85 Q197.94 1054.51 198.959 1054.34 Q199.977 1054.16 200.996 1054.16 Q206.783 1054.16 210.162 1057.33 Q213.542 1060.5 213.542 1065.92 Q213.542 1071.5 210.07 1074.6 Q206.598 1077.68 200.278 1077.68 Q198.102 1077.68 195.834 1077.31 Q193.588 1076.94 191.181 1076.19 L191.181 1071.5 Q193.264 1072.63 195.487 1073.19 Q197.709 1073.74 200.186 1073.74 Q204.19 1073.74 206.528 1071.63 Q208.866 1069.53 208.866 1065.92 Q208.866 1062.31 206.528 1060.2 Q204.19 1058.09 200.186 1058.09 Q198.311 1058.09 196.436 1058.51 Q194.584 1058.93 192.639 1059.81 L192.639 1042.45 Z\" fill=\"#000000\" fill-rule=\"nonzero\" fill-opacity=\"1\" /><path clip-path=\"url(#clip890)\" d=\"M126.205 721.011 Q122.593 721.011 120.765 724.575 Q118.959 728.117 118.959 735.247 Q118.959 742.353 120.765 745.918 Q122.593 749.46 126.205 749.46 Q129.839 749.46 131.644 745.918 Q133.473 742.353 133.473 735.247 Q133.473 728.117 131.644 724.575 Q129.839 721.011 126.205 721.011 M126.205 717.307 Q132.015 717.307 135.07 721.913 Q138.149 726.497 138.149 735.247 Q138.149 743.973 135.07 748.58 Q132.015 753.163 126.205 753.163 Q120.394 753.163 117.316 748.58 Q114.26 743.973 114.26 735.247 Q114.26 726.497 117.316 721.913 Q120.394 717.307 126.205 717.307 Z\" fill=\"#000000\" fill-rule=\"nonzero\" fill-opacity=\"1\" /><path clip-path=\"url(#clip890)\" d=\"M146.366 746.612 L151.251 746.612 L151.251 752.492 L146.366 752.492 L146.366 746.612 Z\" fill=\"#000000\" fill-rule=\"nonzero\" fill-opacity=\"1\" /><path clip-path=\"url(#clip890)\" d=\"M161.482 717.932 L179.839 717.932 L179.839 721.867 L165.765 721.867 L165.765 730.339 Q166.783 729.992 167.802 729.83 Q168.82 729.645 169.839 729.645 Q175.626 729.645 179.005 732.816 Q182.385 735.987 182.385 741.404 Q182.385 746.983 178.913 750.085 Q175.44 753.163 169.121 753.163 Q166.945 753.163 164.677 752.793 Q162.431 752.423 160.024 751.682 L160.024 746.983 Q162.107 748.117 164.329 748.673 Q166.552 749.228 169.028 749.228 Q173.033 749.228 175.371 747.122 Q177.709 745.015 177.709 741.404 Q177.709 737.793 175.371 735.687 Q173.033 733.58 169.028 733.58 Q167.153 733.58 165.278 733.997 Q163.427 734.413 161.482 735.293 L161.482 717.932 Z\" fill=\"#000000\" fill-rule=\"nonzero\" fill-opacity=\"1\" /><path clip-path=\"url(#clip890)\" d=\"M201.598 721.011 Q197.987 721.011 196.158 724.575 Q194.352 728.117 194.352 735.247 Q194.352 742.353 196.158 745.918 Q197.987 749.46 201.598 749.46 Q205.232 749.46 207.037 745.918 Q208.866 742.353 208.866 735.247 Q208.866 728.117 207.037 724.575 Q205.232 721.011 201.598 721.011 M201.598 717.307 Q207.408 717.307 210.463 721.913 Q213.542 726.497 213.542 735.247 Q213.542 743.973 210.463 748.58 Q207.408 753.163 201.598 753.163 Q195.787 753.163 192.709 748.58 Q189.653 743.973 189.653 735.247 Q189.653 726.497 192.709 721.913 Q195.787 717.307 201.598 717.307 Z\" fill=\"#000000\" fill-rule=\"nonzero\" fill-opacity=\"1\" /><path clip-path=\"url(#clip890)\" d=\"M127.2 396.498 Q123.589 396.498 121.76 400.062 Q119.955 403.604 119.955 410.734 Q119.955 417.84 121.76 421.405 Q123.589 424.946 127.2 424.946 Q130.834 424.946 132.64 421.405 Q134.468 417.84 134.468 410.734 Q134.468 403.604 132.64 400.062 Q130.834 396.498 127.2 396.498 M127.2 392.794 Q133.01 392.794 136.066 397.4 Q139.144 401.984 139.144 410.734 Q139.144 419.46 136.066 424.067 Q133.01 428.65 127.2 428.65 Q121.39 428.65 118.311 424.067 Q115.256 419.46 115.256 410.734 Q115.256 401.984 118.311 397.4 Q121.39 392.794 127.2 392.794 Z\" fill=\"#000000\" fill-rule=\"nonzero\" fill-opacity=\"1\" /><path clip-path=\"url(#clip890)\" d=\"M147.362 422.099 L152.246 422.099 L152.246 427.979 L147.362 427.979 L147.362 422.099 Z\" fill=\"#000000\" fill-rule=\"nonzero\" fill-opacity=\"1\" /><path clip-path=\"url(#clip890)\" d=\"M161.251 393.419 L183.473 393.419 L183.473 395.41 L170.927 427.979 L166.042 427.979 L177.848 397.354 L161.251 397.354 L161.251 393.419 Z\" fill=\"#000000\" fill-rule=\"nonzero\" fill-opacity=\"1\" /><path clip-path=\"url(#clip890)\" d=\"M192.639 393.419 L210.996 393.419 L210.996 397.354 L196.922 397.354 L196.922 405.826 Q197.94 405.479 198.959 405.317 Q199.977 405.132 200.996 405.132 Q206.783 405.132 210.162 408.303 Q213.542 411.474 213.542 416.891 Q213.542 422.47 210.07 425.571 Q206.598 428.65 200.278 428.65 Q198.102 428.65 195.834 428.28 Q193.588 427.909 191.181 427.169 L191.181 422.47 Q193.264 423.604 195.487 424.159 Q197.709 424.715 200.186 424.715 Q204.19 424.715 206.528 422.608 Q208.866 420.502 208.866 416.891 Q208.866 413.28 206.528 411.173 Q204.19 409.067 200.186 409.067 Q198.311 409.067 196.436 409.484 Q194.584 409.9 192.639 410.78 L192.639 393.419 Z\" fill=\"#000000\" fill-rule=\"nonzero\" fill-opacity=\"1\" /><path clip-path=\"url(#clip890)\" d=\"M117.015 99.5305 L124.654 99.5305 L124.654 73.1649 L116.343 74.8316 L116.343 70.5723 L124.607 68.9057 L129.283 68.9057 L129.283 99.5305 L136.922 99.5305 L136.922 103.466 L117.015 103.466 L117.015 99.5305 Z\" fill=\"#000000\" fill-rule=\"nonzero\" fill-opacity=\"1\" /><path clip-path=\"url(#clip890)\" d=\"M146.366 97.5861 L151.251 97.5861 L151.251 103.466 L146.366 103.466 L146.366 97.5861 Z\" fill=\"#000000\" fill-rule=\"nonzero\" fill-opacity=\"1\" /><path clip-path=\"url(#clip890)\" d=\"M171.436 71.9844 Q167.825 71.9844 165.996 75.5492 Q164.19 79.0908 164.19 86.2204 Q164.19 93.3268 165.996 96.8916 Q167.825 100.433 171.436 100.433 Q175.07 100.433 176.876 96.8916 Q178.704 93.3268 178.704 86.2204 Q178.704 79.0908 176.876 75.5492 Q175.07 71.9844 171.436 71.9844 M171.436 68.2807 Q177.246 68.2807 180.301 72.8871 Q183.38 77.4704 183.38 86.2204 Q183.38 94.9472 180.301 99.5537 Q177.246 104.137 171.436 104.137 Q165.626 104.137 162.547 99.5537 Q159.491 94.9472 159.491 86.2204 Q159.491 77.4704 162.547 72.8871 Q165.626 68.2807 171.436 68.2807 Z\" fill=\"#000000\" fill-rule=\"nonzero\" fill-opacity=\"1\" /><path clip-path=\"url(#clip890)\" d=\"M201.598 71.9844 Q197.987 71.9844 196.158 75.5492 Q194.352 79.0908 194.352 86.2204 Q194.352 93.3268 196.158 96.8916 Q197.987 100.433 201.598 100.433 Q205.232 100.433 207.037 96.8916 Q208.866 93.3268 208.866 86.2204 Q208.866 79.0908 207.037 75.5492 Q205.232 71.9844 201.598 71.9844 M201.598 68.2807 Q207.408 68.2807 210.463 72.8871 Q213.542 77.4704 213.542 86.2204 Q213.542 94.9472 210.463 99.5537 Q207.408 104.137 201.598 104.137 Q195.787 104.137 192.709 99.5537 Q189.653 94.9472 189.653 86.2204 Q189.653 77.4704 192.709 72.8871 Q195.787 68.2807 201.598 68.2807 Z\" fill=\"#000000\" fill-rule=\"nonzero\" fill-opacity=\"1\" /><path clip-path=\"url(#clip890)\" d=\"M14.479 723.865 L19.3487 723.865 L19.3487 729.467 Q19.3487 732.618 20.6219 733.859 Q21.895 735.069 25.2052 735.069 L28.3562 735.069 L28.3562 725.425 L32.9077 725.425 L32.9077 735.069 L64.0042 735.069 L64.0042 740.957 L32.9077 740.957 L32.9077 746.559 L28.3562 746.559 L28.3562 740.957 L25.8736 740.957 Q19.9216 740.957 17.2162 738.188 Q14.479 735.419 14.479 729.403 L14.479 723.865 Z\" fill=\"#000000\" fill-rule=\"nonzero\" fill-opacity=\"1\" /><polyline clip-path=\"url(#clip892)\" style=\"stroke:#009af9; stroke-linecap:round; stroke-linejoin:round; stroke-width:4; stroke-opacity:1; fill:none\" points=\"309.067,86.1857 319.309,86.2203 329.551,86.324 389.537,88.3207 449.523,92.6903 477.429,95.5317 505.335,98.8866 542.738,104.189 580.142,110.414 641.957,122.723 699.438,136.431 771.596,156.723 836.323,177.846 910.412,205.415 965.793,228.388 1036.63,260.717 1101.28,293.113 1174.86,333.336 1233.18,367.759 1305.65,413.65 1361.15,451.136 1439.39,507.437 1497.86,552.145 1564.35,605.728 1630.2,661.667 1702.65,726.513 1757.99,778.376 1827.82,846.705 1892.4,912.764 1959.01,983.774 2026.53,1058.74 2061.78,1099.07 2097.03,1140.22 2124.8,1173.21 2152.57,1206.72 2215.8,1284.91 2279.04,1365.74 2286.14,1374.97 2293.23,1384.24 \"/>\n",
       "<path clip-path=\"url(#clip892)\" d=\"M309.067 1384.24 L309.067 122.243 L970.455 122.243 L970.455 1384.24 L309.067 1384.24  Z\" fill=\"#e26f46\" fill-rule=\"evenodd\" fill-opacity=\"0.2\"/>\n",
       "<polyline clip-path=\"url(#clip892)\" style=\"stroke:#000000; stroke-linecap:round; stroke-linejoin:round; stroke-width:4; stroke-opacity:0.2; fill:none\" points=\"309.067,1384.24 309.067,122.243 970.455,122.243 970.455,1384.24 309.067,1384.24 \"/>\n",
       "<path clip-path=\"url(#clip892)\" d=\"M970.455 1384.24 L970.455 410.699 L1631.84 410.699 L1631.84 1384.24 L970.455 1384.24  Z\" fill=\"#3da44d\" fill-rule=\"evenodd\" fill-opacity=\"0.2\"/>\n",
       "<polyline clip-path=\"url(#clip892)\" style=\"stroke:#000000; stroke-linecap:round; stroke-linejoin:round; stroke-width:4; stroke-opacity:0.2; fill:none\" points=\"970.455,1384.24 970.455,410.699 1631.84,410.699 1631.84,1384.24 970.455,1384.24 \"/>\n",
       "<path clip-path=\"url(#clip892)\" d=\"M1631.84 1384.24 L1631.84 987.611 L2293.23 987.611 L2293.23 1384.24 L1631.84 1384.24  Z\" fill=\"#c271d2\" fill-rule=\"evenodd\" fill-opacity=\"0.2\"/>\n",
       "<polyline clip-path=\"url(#clip892)\" style=\"stroke:#000000; stroke-linecap:round; stroke-linejoin:round; stroke-width:4; stroke-opacity:0.2; fill:none\" points=\"1631.84,1384.24 1631.84,987.611 2293.23,987.611 2293.23,1384.24 1631.84,1384.24 \"/>\n",
       "</svg>\n"
      ],
      "text/html": [
       "<img src=\"data:image/png;base64,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\" />"
      ]
     },
     "execution_count": 16,
     "metadata": {},
     "output_type": "execute_result"
    }
   ],
   "source": [
    "showmidpoint(x->1-x^2,(0,1),3)"
   ]
  },
  {
   "cell_type": "code",
   "execution_count": 17,
   "id": "c873f2e2-a3be-4f93-8a0f-737793a814c3",
   "metadata": {},
   "outputs": [
    {
     "data": {
      "image/png": "[encoded data removed]",
      "image/svg+xml": [
       "<?xml version=\"1.0\" encoding=\"utf-8\"?>\n",
       "<svg xmlns=\"http://www.w3.org/2000/svg\" xmlns:xlink=\"http://www.w3.org/1999/xlink\" width=\"600\" height=\"400\" viewBox=\"0 0 2400 1600\">\n",
       "<defs>\n",
       "  <clipPath id=\"clip950\">\n",
       "    <rect x=\"0\" y=\"0\" width=\"2400\" height=\"1600\"/>\n",
       "  </clipPath>\n",
       "</defs>\n",
       "<path clip-path=\"url(#clip950)\" d=\"M0 1600 L2400 1600 L2400 8.88178e-14 L0 8.88178e-14  Z\" fill=\"#ffffff\" fill-rule=\"evenodd\" fill-opacity=\"1\"/>\n",
       "<defs>\n",
       "  <clipPath id=\"clip951\">\n",
       "    <rect x=\"480\" y=\"0\" width=\"1681\" height=\"1600\"/>\n",
       "  </clipPath>\n",
       "</defs>\n",
       "<path clip-path=\"url(#clip950)\" d=\"M249.542 1423.18 L2352.76 1423.18 L2352.76 47.2441 L249.542 47.2441  Z\" fill=\"#ffffff\" fill-rule=\"evenodd\" fill-opacity=\"1\"/>\n",
       "<defs>\n",
       "  <clipPath id=\"clip952\">\n",
       "    <rect x=\"249\" y=\"47\" width=\"2104\" height=\"1377\"/>\n",
       "  </clipPath>\n",
       "</defs>\n",
       "<polyline clip-path=\"url(#clip952)\" style=\"stroke:#000000; stroke-linecap:round; stroke-linejoin:round; stroke-width:2; stroke-opacity:0.1; fill:none\" points=\"309.067,1423.18 309.067,47.2441 \"/>\n",
       "<polyline clip-path=\"url(#clip952)\" style=\"stroke:#000000; stroke-linecap:round; stroke-linejoin:round; stroke-width:2; stroke-opacity:0.1; fill:none\" points=\"805.108,1423.18 805.108,47.2441 \"/>\n",
       "<polyline clip-path=\"url(#clip952)\" style=\"stroke:#000000; stroke-linecap:round; stroke-linejoin:round; stroke-width:2; stroke-opacity:0.1; fill:none\" points=\"1301.15,1423.18 1301.15,47.2441 \"/>\n",
       "<polyline clip-path=\"url(#clip952)\" style=\"stroke:#000000; stroke-linecap:round; stroke-linejoin:round; stroke-width:2; stroke-opacity:0.1; fill:none\" points=\"1797.19,1423.18 1797.19,47.2441 \"/>\n",
       "<polyline clip-path=\"url(#clip952)\" style=\"stroke:#000000; stroke-linecap:round; stroke-linejoin:round; stroke-width:2; stroke-opacity:0.1; fill:none\" points=\"2293.23,1423.18 2293.23,47.2441 \"/>\n",
       "<polyline clip-path=\"url(#clip952)\" style=\"stroke:#000000; stroke-linecap:round; stroke-linejoin:round; stroke-width:2; stroke-opacity:0.1; fill:none\" points=\"249.542,1384.24 2352.76,1384.24 \"/>\n",
       "<polyline clip-path=\"url(#clip952)\" style=\"stroke:#000000; stroke-linecap:round; stroke-linejoin:round; stroke-width:2; stroke-opacity:0.1; fill:none\" points=\"249.542,1059.73 2352.76,1059.73 \"/>\n",
       "<polyline clip-path=\"url(#clip952)\" style=\"stroke:#000000; stroke-linecap:round; stroke-linejoin:round; stroke-width:2; stroke-opacity:0.1; fill:none\" points=\"249.542,735.212 2352.76,735.212 \"/>\n",
       "<polyline clip-path=\"url(#clip952)\" style=\"stroke:#000000; stroke-linecap:round; stroke-linejoin:round; stroke-width:2; stroke-opacity:0.1; fill:none\" points=\"249.542,410.699 2352.76,410.699 \"/>\n",
       "<polyline clip-path=\"url(#clip952)\" style=\"stroke:#000000; stroke-linecap:round; stroke-linejoin:round; stroke-width:2; stroke-opacity:0.1; fill:none\" points=\"249.542,86.1857 2352.76,86.1857 \"/>\n",
       "<polyline clip-path=\"url(#clip950)\" style=\"stroke:#000000; stroke-linecap:round; stroke-linejoin:round; stroke-width:4; stroke-opacity:1; fill:none\" points=\"249.542,1423.18 2352.76,1423.18 \"/>\n",
       "<polyline clip-path=\"url(#clip950)\" style=\"stroke:#000000; stroke-linecap:round; stroke-linejoin:round; stroke-width:4; stroke-opacity:1; fill:none\" points=\"309.067,1423.18 309.067,1404.28 \"/>\n",
       "<polyline clip-path=\"url(#clip950)\" style=\"stroke:#000000; stroke-linecap:round; stroke-linejoin:round; stroke-width:4; stroke-opacity:1; fill:none\" points=\"805.108,1423.18 805.108,1404.28 \"/>\n",
       "<polyline clip-path=\"url(#clip950)\" style=\"stroke:#000000; stroke-linecap:round; stroke-linejoin:round; stroke-width:4; stroke-opacity:1; fill:none\" points=\"1301.15,1423.18 1301.15,1404.28 \"/>\n",
       "<polyline clip-path=\"url(#clip950)\" style=\"stroke:#000000; stroke-linecap:round; stroke-linejoin:round; stroke-width:4; stroke-opacity:1; fill:none\" points=\"1797.19,1423.18 1797.19,1404.28 \"/>\n",
       "<polyline clip-path=\"url(#clip950)\" style=\"stroke:#000000; stroke-linecap:round; stroke-linejoin:round; stroke-width:4; stroke-opacity:1; fill:none\" points=\"2293.23,1423.18 2293.23,1404.28 \"/>\n",
       "<path clip-path=\"url(#clip950)\" d=\"M271.37 1454.1 Q267.759 1454.1 265.931 1457.66 Q264.125 1461.2 264.125 1468.33 Q264.125 1475.44 265.931 1479.01 Q267.759 1482.55 271.37 1482.55 Q275.005 1482.55 276.81 1479.01 Q278.639 1475.44 278.639 1468.33 Q278.639 1461.2 276.81 1457.66 Q275.005 1454.1 271.37 1454.1 M271.37 1450.39 Q277.181 1450.39 280.236 1455 Q283.315 1459.58 283.315 1468.33 Q283.315 1477.06 280.236 1481.67 Q277.181 1486.25 271.37 1486.25 Q265.56 1486.25 262.482 1481.67 Q259.426 1477.06 259.426 1468.33 Q259.426 1459.58 262.482 1455 Q265.56 1450.39 271.37 1450.39 Z\" fill=\"#000000\" fill-rule=\"nonzero\" fill-opacity=\"1\" /><path clip-path=\"url(#clip950)\" d=\"M291.532 1479.7 L296.417 1479.7 L296.417 1485.58 L291.532 1485.58 L291.532 1479.7 Z\" fill=\"#000000\" fill-rule=\"nonzero\" fill-opacity=\"1\" /><path clip-path=\"url(#clip950)\" d=\"M316.602 1454.1 Q312.991 1454.1 311.162 1457.66 Q309.356 1461.2 309.356 1468.33 Q309.356 1475.44 311.162 1479.01 Q312.991 1482.55 316.602 1482.55 Q320.236 1482.55 322.041 1479.01 Q323.87 1475.44 323.87 1468.33 Q323.87 1461.2 322.041 1457.66 Q320.236 1454.1 316.602 1454.1 M316.602 1450.39 Q322.412 1450.39 325.467 1455 Q328.546 1459.58 328.546 1468.33 Q328.546 1477.06 325.467 1481.67 Q322.412 1486.25 316.602 1486.25 Q310.791 1486.25 307.713 1481.67 Q304.657 1477.06 304.657 1468.33 Q304.657 1459.58 307.713 1455 Q310.791 1450.39 316.602 1450.39 Z\" fill=\"#000000\" fill-rule=\"nonzero\" fill-opacity=\"1\" /><path clip-path=\"url(#clip950)\" d=\"M346.764 1454.1 Q343.152 1454.1 341.324 1457.66 Q339.518 1461.2 339.518 1468.33 Q339.518 1475.44 341.324 1479.01 Q343.152 1482.55 346.764 1482.55 Q350.398 1482.55 352.203 1479.01 Q354.032 1475.44 354.032 1468.33 Q354.032 1461.2 352.203 1457.66 Q350.398 1454.1 346.764 1454.1 M346.764 1450.39 Q352.574 1450.39 355.629 1455 Q358.708 1459.58 358.708 1468.33 Q358.708 1477.06 355.629 1481.67 Q352.574 1486.25 346.764 1486.25 Q340.953 1486.25 337.875 1481.67 Q334.819 1477.06 334.819 1468.33 Q334.819 1459.58 337.875 1455 Q340.953 1450.39 346.764 1450.39 Z\" fill=\"#000000\" fill-rule=\"nonzero\" fill-opacity=\"1\" /><path clip-path=\"url(#clip950)\" d=\"M767.909 1454.1 Q764.298 1454.1 762.469 1457.66 Q760.664 1461.2 760.664 1468.33 Q760.664 1475.44 762.469 1479.01 Q764.298 1482.55 767.909 1482.55 Q771.543 1482.55 773.349 1479.01 Q775.178 1475.44 775.178 1468.33 Q775.178 1461.2 773.349 1457.66 Q771.543 1454.1 767.909 1454.1 M767.909 1450.39 Q773.719 1450.39 776.775 1455 Q779.853 1459.58 779.853 1468.33 Q779.853 1477.06 776.775 1481.67 Q773.719 1486.25 767.909 1486.25 Q762.099 1486.25 759.02 1481.67 Q755.965 1477.06 755.965 1468.33 Q755.965 1459.58 759.02 1455 Q762.099 1450.39 767.909 1450.39 Z\" fill=\"#000000\" fill-rule=\"nonzero\" fill-opacity=\"1\" /><path clip-path=\"url(#clip950)\" d=\"M788.071 1479.7 L792.955 1479.7 L792.955 1485.58 L788.071 1485.58 L788.071 1479.7 Z\" fill=\"#000000\" fill-rule=\"nonzero\" fill-opacity=\"1\" /><path clip-path=\"url(#clip950)\" d=\"M807.168 1481.64 L823.487 1481.64 L823.487 1485.58 L801.543 1485.58 L801.543 1481.64 Q804.205 1478.89 808.788 1474.26 Q813.395 1469.61 814.576 1468.27 Q816.821 1465.74 817.7 1464.01 Q818.603 1462.25 818.603 1460.56 Q818.603 1457.8 816.659 1456.07 Q814.738 1454.33 811.636 1454.33 Q809.437 1454.33 806.983 1455.09 Q804.552 1455.86 801.775 1457.41 L801.775 1452.69 Q804.599 1451.55 807.052 1450.97 Q809.506 1450.39 811.543 1450.39 Q816.913 1450.39 820.108 1453.08 Q823.302 1455.77 823.302 1460.26 Q823.302 1462.39 822.492 1464.31 Q821.705 1466.2 819.599 1468.8 Q819.02 1469.47 815.918 1472.69 Q812.816 1475.88 807.168 1481.64 Z\" fill=\"#000000\" fill-rule=\"nonzero\" fill-opacity=\"1\" /><path clip-path=\"url(#clip950)\" d=\"M833.349 1451.02 L851.705 1451.02 L851.705 1454.96 L837.631 1454.96 L837.631 1463.43 Q838.649 1463.08 839.668 1462.92 Q840.686 1462.73 841.705 1462.73 Q847.492 1462.73 850.872 1465.9 Q854.251 1469.08 854.251 1474.49 Q854.251 1480.07 850.779 1483.17 Q847.307 1486.25 840.987 1486.25 Q838.811 1486.25 836.543 1485.88 Q834.298 1485.51 831.89 1484.77 L831.89 1480.07 Q833.974 1481.2 836.196 1481.76 Q838.418 1482.32 840.895 1482.32 Q844.899 1482.32 847.237 1480.21 Q849.575 1478.1 849.575 1474.49 Q849.575 1470.88 847.237 1468.77 Q844.899 1466.67 840.895 1466.67 Q839.02 1466.67 837.145 1467.08 Q835.293 1467.5 833.349 1468.38 L833.349 1451.02 Z\" fill=\"#000000\" fill-rule=\"nonzero\" fill-opacity=\"1\" /><path clip-path=\"url(#clip950)\" d=\"M1263.45 1454.1 Q1259.84 1454.1 1258.01 1457.66 Q1256.21 1461.2 1256.21 1468.33 Q1256.21 1475.44 1258.01 1479.01 Q1259.84 1482.55 1263.45 1482.55 Q1267.09 1482.55 1268.89 1479.01 Q1270.72 1475.44 1270.72 1468.33 Q1270.72 1461.2 1268.89 1457.66 Q1267.09 1454.1 1263.45 1454.1 M1263.45 1450.39 Q1269.26 1450.39 1272.32 1455 Q1275.4 1459.58 1275.4 1468.33 Q1275.4 1477.06 1272.32 1481.67 Q1269.26 1486.25 1263.45 1486.25 Q1257.64 1486.25 1254.56 1481.67 Q1251.51 1477.06 1251.51 1468.33 Q1251.51 1459.58 1254.56 1455 Q1257.64 1450.39 1263.45 1450.39 Z\" fill=\"#000000\" fill-rule=\"nonzero\" fill-opacity=\"1\" /><path clip-path=\"url(#clip950)\" d=\"M1283.61 1479.7 L1288.5 1479.7 L1288.5 1485.58 L1283.61 1485.58 L1283.61 1479.7 Z\" fill=\"#000000\" fill-rule=\"nonzero\" fill-opacity=\"1\" /><path clip-path=\"url(#clip950)\" d=\"M1298.73 1451.02 L1317.09 1451.02 L1317.09 1454.96 L1303.01 1454.96 L1303.01 1463.43 Q1304.03 1463.08 1305.05 1462.92 Q1306.07 1462.73 1307.09 1462.73 Q1312.87 1462.73 1316.25 1465.9 Q1319.63 1469.08 1319.63 1474.49 Q1319.63 1480.07 1316.16 1483.17 Q1312.69 1486.25 1306.37 1486.25 Q1304.19 1486.25 1301.92 1485.88 Q1299.68 1485.51 1297.27 1484.77 L1297.27 1480.07 Q1299.35 1481.2 1301.58 1481.76 Q1303.8 1482.32 1306.28 1482.32 Q1310.28 1482.32 1312.62 1480.21 Q1314.96 1478.1 1314.96 1474.49 Q1314.96 1470.88 1312.62 1468.77 Q1310.28 1466.67 1306.28 1466.67 Q1304.4 1466.67 1302.53 1467.08 Q1300.67 1467.5 1298.73 1468.38 L1298.73 1451.02 Z\" fill=\"#000000\" fill-rule=\"nonzero\" fill-opacity=\"1\" /><path clip-path=\"url(#clip950)\" d=\"M1338.85 1454.1 Q1335.23 1454.1 1333.41 1457.66 Q1331.6 1461.2 1331.6 1468.33 Q1331.6 1475.44 1333.41 1479.01 Q1335.23 1482.55 1338.85 1482.55 Q1342.48 1482.55 1344.29 1479.01 Q1346.11 1475.44 1346.11 1468.33 Q1346.11 1461.2 1344.29 1457.66 Q1342.48 1454.1 1338.85 1454.1 M1338.85 1450.39 Q1344.66 1450.39 1347.71 1455 Q1350.79 1459.58 1350.79 1468.33 Q1350.79 1477.06 1347.71 1481.67 Q1344.66 1486.25 1338.85 1486.25 Q1333.04 1486.25 1329.96 1481.67 Q1326.9 1477.06 1326.9 1468.33 Q1326.9 1459.58 1329.96 1455 Q1333.04 1450.39 1338.85 1450.39 Z\" fill=\"#000000\" fill-rule=\"nonzero\" fill-opacity=\"1\" /><path clip-path=\"url(#clip950)\" d=\"M1759.99 1454.1 Q1756.38 1454.1 1754.55 1457.66 Q1752.75 1461.2 1752.75 1468.33 Q1752.75 1475.44 1754.55 1479.01 Q1756.38 1482.55 1759.99 1482.55 Q1763.63 1482.55 1765.43 1479.01 Q1767.26 1475.44 1767.26 1468.33 Q1767.26 1461.2 1765.43 1457.66 Q1763.63 1454.1 1759.99 1454.1 M1759.99 1450.39 Q1765.8 1450.39 1768.86 1455 Q1771.94 1459.58 1771.94 1468.33 Q1771.94 1477.06 1768.86 1481.67 Q1765.8 1486.25 1759.99 1486.25 Q1754.18 1486.25 1751.1 1481.67 Q1748.05 1477.06 1748.05 1468.33 Q1748.05 1459.58 1751.1 1455 Q1754.18 1450.39 1759.99 1450.39 Z\" fill=\"#000000\" fill-rule=\"nonzero\" fill-opacity=\"1\" /><path clip-path=\"url(#clip950)\" d=\"M1780.15 1479.7 L1785.04 1479.7 L1785.04 1485.58 L1780.15 1485.58 L1780.15 1479.7 Z\" fill=\"#000000\" fill-rule=\"nonzero\" fill-opacity=\"1\" /><path clip-path=\"url(#clip950)\" d=\"M1794.04 1451.02 L1816.26 1451.02 L1816.26 1453.01 L1803.72 1485.58 L1798.83 1485.58 L1810.64 1454.96 L1794.04 1454.96 L1794.04 1451.02 Z\" fill=\"#000000\" fill-rule=\"nonzero\" fill-opacity=\"1\" /><path clip-path=\"url(#clip950)\" d=\"M1825.43 1451.02 L1843.79 1451.02 L1843.79 1454.96 L1829.71 1454.96 L1829.71 1463.43 Q1830.73 1463.08 1831.75 1462.92 Q1832.77 1462.73 1833.79 1462.73 Q1839.57 1462.73 1842.95 1465.9 Q1846.33 1469.08 1846.33 1474.49 Q1846.33 1480.07 1842.86 1483.17 Q1839.39 1486.25 1833.07 1486.25 Q1830.89 1486.25 1828.62 1485.88 Q1826.38 1485.51 1823.97 1484.77 L1823.97 1480.07 Q1826.06 1481.2 1828.28 1481.76 Q1830.5 1482.32 1832.98 1482.32 Q1836.98 1482.32 1839.32 1480.21 Q1841.66 1478.1 1841.66 1474.49 Q1841.66 1470.88 1839.32 1468.77 Q1836.98 1466.67 1832.98 1466.67 Q1831.1 1466.67 1829.23 1467.08 Q1827.38 1467.5 1825.43 1468.38 L1825.43 1451.02 Z\" fill=\"#000000\" fill-rule=\"nonzero\" fill-opacity=\"1\" /><path clip-path=\"url(#clip950)\" d=\"M2245.3 1481.64 L2252.94 1481.64 L2252.94 1455.28 L2244.63 1456.95 L2244.63 1452.69 L2252.9 1451.02 L2257.57 1451.02 L2257.57 1481.64 L2265.21 1481.64 L2265.21 1485.58 L2245.3 1485.58 L2245.3 1481.64 Z\" fill=\"#000000\" fill-rule=\"nonzero\" fill-opacity=\"1\" /><path clip-path=\"url(#clip950)\" d=\"M2274.65 1479.7 L2279.54 1479.7 L2279.54 1485.58 L2274.65 1485.58 L2274.65 1479.7 Z\" fill=\"#000000\" fill-rule=\"nonzero\" fill-opacity=\"1\" /><path clip-path=\"url(#clip950)\" d=\"M2299.72 1454.1 Q2296.11 1454.1 2294.28 1457.66 Q2292.48 1461.2 2292.48 1468.33 Q2292.48 1475.44 2294.28 1479.01 Q2296.11 1482.55 2299.72 1482.55 Q2303.36 1482.55 2305.16 1479.01 Q2306.99 1475.44 2306.99 1468.33 Q2306.99 1461.2 2305.16 1457.66 Q2303.36 1454.1 2299.72 1454.1 M2299.72 1450.39 Q2305.53 1450.39 2308.59 1455 Q2311.67 1459.58 2311.67 1468.33 Q2311.67 1477.06 2308.59 1481.67 Q2305.53 1486.25 2299.72 1486.25 Q2293.91 1486.25 2290.84 1481.67 Q2287.78 1477.06 2287.78 1468.33 Q2287.78 1459.58 2290.84 1455 Q2293.91 1450.39 2299.72 1450.39 Z\" fill=\"#000000\" fill-rule=\"nonzero\" fill-opacity=\"1\" /><path clip-path=\"url(#clip950)\" d=\"M2329.89 1454.1 Q2326.27 1454.1 2324.45 1457.66 Q2322.64 1461.2 2322.64 1468.33 Q2322.64 1475.44 2324.45 1479.01 Q2326.27 1482.55 2329.89 1482.55 Q2333.52 1482.55 2335.33 1479.01 Q2337.15 1475.44 2337.15 1468.33 Q2337.15 1461.2 2335.33 1457.66 Q2333.52 1454.1 2329.89 1454.1 M2329.89 1450.39 Q2335.7 1450.39 2338.75 1455 Q2341.83 1459.58 2341.83 1468.33 Q2341.83 1477.06 2338.75 1481.67 Q2335.7 1486.25 2329.89 1486.25 Q2324.08 1486.25 2321 1481.67 Q2317.94 1477.06 2317.94 1468.33 Q2317.94 1459.58 2321 1455 Q2324.08 1450.39 2329.89 1450.39 Z\" fill=\"#000000\" fill-rule=\"nonzero\" fill-opacity=\"1\" /><path clip-path=\"url(#clip950)\" d=\"M1317.76 1532.4 L1304.87 1549.74 L1318.43 1568.04 L1311.53 1568.04 L1301.15 1554.04 L1290.77 1568.04 L1283.87 1568.04 L1297.71 1549.39 L1285.04 1532.4 L1291.95 1532.4 L1301.4 1545.1 L1310.86 1532.4 L1317.76 1532.4 Z\" fill=\"#000000\" fill-rule=\"nonzero\" fill-opacity=\"1\" /><polyline clip-path=\"url(#clip950)\" style=\"stroke:#000000; stroke-linecap:round; stroke-linejoin:round; stroke-width:4; stroke-opacity:1; fill:none\" points=\"249.542,1423.18 249.542,47.2441 \"/>\n",
       "<polyline clip-path=\"url(#clip950)\" style=\"stroke:#000000; stroke-linecap:round; stroke-linejoin:round; stroke-width:4; stroke-opacity:1; fill:none\" points=\"249.542,1384.24 268.44,1384.24 \"/>\n",
       "<polyline clip-path=\"url(#clip950)\" style=\"stroke:#000000; stroke-linecap:round; stroke-linejoin:round; stroke-width:4; stroke-opacity:1; fill:none\" points=\"249.542,1059.73 268.44,1059.73 \"/>\n",
       "<polyline clip-path=\"url(#clip950)\" style=\"stroke:#000000; stroke-linecap:round; stroke-linejoin:round; stroke-width:4; stroke-opacity:1; fill:none\" points=\"249.542,735.212 268.44,735.212 \"/>\n",
       "<polyline clip-path=\"url(#clip950)\" style=\"stroke:#000000; stroke-linecap:round; stroke-linejoin:round; stroke-width:4; stroke-opacity:1; fill:none\" points=\"249.542,410.699 268.44,410.699 \"/>\n",
       "<polyline clip-path=\"url(#clip950)\" style=\"stroke:#000000; stroke-linecap:round; stroke-linejoin:round; stroke-width:4; stroke-opacity:1; fill:none\" points=\"249.542,86.1857 268.44,86.1857 \"/>\n",
       "<path clip-path=\"url(#clip950)\" d=\"M126.205 1370.04 Q122.593 1370.04 120.765 1373.6 Q118.959 1377.14 118.959 1384.27 Q118.959 1391.38 120.765 1394.94 Q122.593 1398.49 126.205 1398.49 Q129.839 1398.49 131.644 1394.94 Q133.473 1391.38 133.473 1384.27 Q133.473 1377.14 131.644 1373.6 Q129.839 1370.04 126.205 1370.04 M126.205 1366.33 Q132.015 1366.33 135.07 1370.94 Q138.149 1375.52 138.149 1384.27 Q138.149 1393 135.07 1397.61 Q132.015 1402.19 126.205 1402.19 Q120.394 1402.19 117.316 1397.61 Q114.26 1393 114.26 1384.27 Q114.26 1375.52 117.316 1370.94 Q120.394 1366.33 126.205 1366.33 Z\" fill=\"#000000\" fill-rule=\"nonzero\" fill-opacity=\"1\" /><path clip-path=\"url(#clip950)\" d=\"M146.366 1395.64 L151.251 1395.64 L151.251 1401.52 L146.366 1401.52 L146.366 1395.64 Z\" fill=\"#000000\" fill-rule=\"nonzero\" fill-opacity=\"1\" /><path clip-path=\"url(#clip950)\" d=\"M171.436 1370.04 Q167.825 1370.04 165.996 1373.6 Q164.19 1377.14 164.19 1384.27 Q164.19 1391.38 165.996 1394.94 Q167.825 1398.49 171.436 1398.49 Q175.07 1398.49 176.876 1394.94 Q178.704 1391.38 178.704 1384.27 Q178.704 1377.14 176.876 1373.6 Q175.07 1370.04 171.436 1370.04 M171.436 1366.33 Q177.246 1366.33 180.301 1370.94 Q183.38 1375.52 183.38 1384.27 Q183.38 1393 180.301 1397.61 Q177.246 1402.19 171.436 1402.19 Q165.626 1402.19 162.547 1397.61 Q159.491 1393 159.491 1384.27 Q159.491 1375.52 162.547 1370.94 Q165.626 1366.33 171.436 1366.33 Z\" fill=\"#000000\" fill-rule=\"nonzero\" fill-opacity=\"1\" /><path clip-path=\"url(#clip950)\" d=\"M201.598 1370.04 Q197.987 1370.04 196.158 1373.6 Q194.352 1377.14 194.352 1384.27 Q194.352 1391.38 196.158 1394.94 Q197.987 1398.49 201.598 1398.49 Q205.232 1398.49 207.037 1394.94 Q208.866 1391.38 208.866 1384.27 Q208.866 1377.14 207.037 1373.6 Q205.232 1370.04 201.598 1370.04 M201.598 1366.33 Q207.408 1366.33 210.463 1370.94 Q213.542 1375.52 213.542 1384.27 Q213.542 1393 210.463 1397.61 Q207.408 1402.19 201.598 1402.19 Q195.787 1402.19 192.709 1397.61 Q189.653 1393 189.653 1384.27 Q189.653 1375.52 192.709 1370.94 Q195.787 1366.33 201.598 1366.33 Z\" fill=\"#000000\" fill-rule=\"nonzero\" fill-opacity=\"1\" /><path clip-path=\"url(#clip950)\" d=\"M127.2 1045.52 Q123.589 1045.52 121.76 1049.09 Q119.955 1052.63 119.955 1059.76 Q119.955 1066.87 121.76 1070.43 Q123.589 1073.97 127.2 1073.97 Q130.834 1073.97 132.64 1070.43 Q134.468 1066.87 134.468 1059.76 Q134.468 1052.63 132.64 1049.09 Q130.834 1045.52 127.2 1045.52 M127.2 1041.82 Q133.01 1041.82 136.066 1046.43 Q139.144 1051.01 139.144 1059.76 Q139.144 1068.49 136.066 1073.09 Q133.01 1077.68 127.2 1077.68 Q121.39 1077.68 118.311 1073.09 Q115.256 1068.49 115.256 1059.76 Q115.256 1051.01 118.311 1046.43 Q121.39 1041.82 127.2 1041.82 Z\" fill=\"#000000\" fill-rule=\"nonzero\" fill-opacity=\"1\" /><path clip-path=\"url(#clip950)\" d=\"M147.362 1071.13 L152.246 1071.13 L152.246 1077.01 L147.362 1077.01 L147.362 1071.13 Z\" fill=\"#000000\" fill-rule=\"nonzero\" fill-opacity=\"1\" /><path clip-path=\"url(#clip950)\" d=\"M166.459 1073.07 L182.778 1073.07 L182.778 1077.01 L160.834 1077.01 L160.834 1073.07 Q163.496 1070.32 168.079 1065.69 Q172.686 1061.03 173.866 1059.69 Q176.112 1057.17 176.991 1055.43 Q177.894 1053.67 177.894 1051.98 Q177.894 1049.23 175.95 1047.49 Q174.028 1045.76 170.927 1045.76 Q168.727 1045.76 166.274 1046.52 Q163.843 1047.28 161.065 1048.83 L161.065 1044.11 Q163.89 1042.98 166.343 1042.4 Q168.797 1041.82 170.834 1041.82 Q176.204 1041.82 179.399 1044.51 Q182.593 1047.19 182.593 1051.68 Q182.593 1053.81 181.783 1055.73 Q180.996 1057.63 178.889 1060.22 Q178.311 1060.89 175.209 1064.11 Q172.107 1067.31 166.459 1073.07 Z\" fill=\"#000000\" fill-rule=\"nonzero\" fill-opacity=\"1\" /><path clip-path=\"url(#clip950)\" d=\"M192.639 1042.45 L210.996 1042.45 L210.996 1046.38 L196.922 1046.38 L196.922 1054.85 Q197.94 1054.51 198.959 1054.34 Q199.977 1054.16 200.996 1054.16 Q206.783 1054.16 210.162 1057.33 Q213.542 1060.5 213.542 1065.92 Q213.542 1071.5 210.07 1074.6 Q206.598 1077.68 200.278 1077.68 Q198.102 1077.68 195.834 1077.31 Q193.588 1076.94 191.181 1076.19 L191.181 1071.5 Q193.264 1072.63 195.487 1073.19 Q197.709 1073.74 200.186 1073.74 Q204.19 1073.74 206.528 1071.63 Q208.866 1069.53 208.866 1065.92 Q208.866 1062.31 206.528 1060.2 Q204.19 1058.09 200.186 1058.09 Q198.311 1058.09 196.436 1058.51 Q194.584 1058.93 192.639 1059.81 L192.639 1042.45 Z\" fill=\"#000000\" fill-rule=\"nonzero\" fill-opacity=\"1\" /><path clip-path=\"url(#clip950)\" d=\"M126.205 721.011 Q122.593 721.011 120.765 724.575 Q118.959 728.117 118.959 735.247 Q118.959 742.353 120.765 745.918 Q122.593 749.46 126.205 749.46 Q129.839 749.46 131.644 745.918 Q133.473 742.353 133.473 735.247 Q133.473 728.117 131.644 724.575 Q129.839 721.011 126.205 721.011 M126.205 717.307 Q132.015 717.307 135.07 721.913 Q138.149 726.497 138.149 735.247 Q138.149 743.973 135.07 748.58 Q132.015 753.163 126.205 753.163 Q120.394 753.163 117.316 748.58 Q114.26 743.973 114.26 735.247 Q114.26 726.497 117.316 721.913 Q120.394 717.307 126.205 717.307 Z\" fill=\"#000000\" fill-rule=\"nonzero\" fill-opacity=\"1\" /><path clip-path=\"url(#clip950)\" d=\"M146.366 746.612 L151.251 746.612 L151.251 752.492 L146.366 752.492 L146.366 746.612 Z\" fill=\"#000000\" fill-rule=\"nonzero\" fill-opacity=\"1\" /><path clip-path=\"url(#clip950)\" d=\"M161.482 717.932 L179.839 717.932 L179.839 721.867 L165.765 721.867 L165.765 730.339 Q166.783 729.992 167.802 729.83 Q168.82 729.645 169.839 729.645 Q175.626 729.645 179.005 732.816 Q182.385 735.987 182.385 741.404 Q182.385 746.983 178.913 750.085 Q175.44 753.163 169.121 753.163 Q166.945 753.163 164.677 752.793 Q162.431 752.423 160.024 751.682 L160.024 746.983 Q162.107 748.117 164.329 748.673 Q166.552 749.228 169.028 749.228 Q173.033 749.228 175.371 747.122 Q177.709 745.015 177.709 741.404 Q177.709 737.793 175.371 735.687 Q173.033 733.58 169.028 733.58 Q167.153 733.58 165.278 733.997 Q163.427 734.413 161.482 735.293 L161.482 717.932 Z\" fill=\"#000000\" fill-rule=\"nonzero\" fill-opacity=\"1\" /><path clip-path=\"url(#clip950)\" d=\"M201.598 721.011 Q197.987 721.011 196.158 724.575 Q194.352 728.117 194.352 735.247 Q194.352 742.353 196.158 745.918 Q197.987 749.46 201.598 749.46 Q205.232 749.46 207.037 745.918 Q208.866 742.353 208.866 735.247 Q208.866 728.117 207.037 724.575 Q205.232 721.011 201.598 721.011 M201.598 717.307 Q207.408 717.307 210.463 721.913 Q213.542 726.497 213.542 735.247 Q213.542 743.973 210.463 748.58 Q207.408 753.163 201.598 753.163 Q195.787 753.163 192.709 748.58 Q189.653 743.973 189.653 735.247 Q189.653 726.497 192.709 721.913 Q195.787 717.307 201.598 717.307 Z\" fill=\"#000000\" fill-rule=\"nonzero\" fill-opacity=\"1\" /><path clip-path=\"url(#clip950)\" d=\"M127.2 396.498 Q123.589 396.498 121.76 400.062 Q119.955 403.604 119.955 410.734 Q119.955 417.84 121.76 421.405 Q123.589 424.946 127.2 424.946 Q130.834 424.946 132.64 421.405 Q134.468 417.84 134.468 410.734 Q134.468 403.604 132.64 400.062 Q130.834 396.498 127.2 396.498 M127.2 392.794 Q133.01 392.794 136.066 397.4 Q139.144 401.984 139.144 410.734 Q139.144 419.46 136.066 424.067 Q133.01 428.65 127.2 428.65 Q121.39 428.65 118.311 424.067 Q115.256 419.46 115.256 410.734 Q115.256 401.984 118.311 397.4 Q121.39 392.794 127.2 392.794 Z\" fill=\"#000000\" fill-rule=\"nonzero\" fill-opacity=\"1\" /><path clip-path=\"url(#clip950)\" d=\"M147.362 422.099 L152.246 422.099 L152.246 427.979 L147.362 427.979 L147.362 422.099 Z\" fill=\"#000000\" fill-rule=\"nonzero\" fill-opacity=\"1\" /><path clip-path=\"url(#clip950)\" d=\"M161.251 393.419 L183.473 393.419 L183.473 395.41 L170.927 427.979 L166.042 427.979 L177.848 397.354 L161.251 397.354 L161.251 393.419 Z\" fill=\"#000000\" fill-rule=\"nonzero\" fill-opacity=\"1\" /><path clip-path=\"url(#clip950)\" d=\"M192.639 393.419 L210.996 393.419 L210.996 397.354 L196.922 397.354 L196.922 405.826 Q197.94 405.479 198.959 405.317 Q199.977 405.132 200.996 405.132 Q206.783 405.132 210.162 408.303 Q213.542 411.474 213.542 416.891 Q213.542 422.47 210.07 425.571 Q206.598 428.65 200.278 428.65 Q198.102 428.65 195.834 428.28 Q193.588 427.909 191.181 427.169 L191.181 422.47 Q193.264 423.604 195.487 424.159 Q197.709 424.715 200.186 424.715 Q204.19 424.715 206.528 422.608 Q208.866 420.502 208.866 416.891 Q208.866 413.28 206.528 411.173 Q204.19 409.067 200.186 409.067 Q198.311 409.067 196.436 409.484 Q194.584 409.9 192.639 410.78 L192.639 393.419 Z\" fill=\"#000000\" fill-rule=\"nonzero\" fill-opacity=\"1\" /><path clip-path=\"url(#clip950)\" d=\"M117.015 99.5305 L124.654 99.5305 L124.654 73.1649 L116.343 74.8316 L116.343 70.5723 L124.607 68.9057 L129.283 68.9057 L129.283 99.5305 L136.922 99.5305 L136.922 103.466 L117.015 103.466 L117.015 99.5305 Z\" fill=\"#000000\" fill-rule=\"nonzero\" fill-opacity=\"1\" /><path clip-path=\"url(#clip950)\" d=\"M146.366 97.5861 L151.251 97.5861 L151.251 103.466 L146.366 103.466 L146.366 97.5861 Z\" fill=\"#000000\" fill-rule=\"nonzero\" fill-opacity=\"1\" /><path clip-path=\"url(#clip950)\" d=\"M171.436 71.9844 Q167.825 71.9844 165.996 75.5492 Q164.19 79.0908 164.19 86.2204 Q164.19 93.3268 165.996 96.8916 Q167.825 100.433 171.436 100.433 Q175.07 100.433 176.876 96.8916 Q178.704 93.3268 178.704 86.2204 Q178.704 79.0908 176.876 75.5492 Q175.07 71.9844 171.436 71.9844 M171.436 68.2807 Q177.246 68.2807 180.301 72.8871 Q183.38 77.4704 183.38 86.2204 Q183.38 94.9472 180.301 99.5537 Q177.246 104.137 171.436 104.137 Q165.626 104.137 162.547 99.5537 Q159.491 94.9472 159.491 86.2204 Q159.491 77.4704 162.547 72.8871 Q165.626 68.2807 171.436 68.2807 Z\" fill=\"#000000\" fill-rule=\"nonzero\" fill-opacity=\"1\" /><path clip-path=\"url(#clip950)\" d=\"M201.598 71.9844 Q197.987 71.9844 196.158 75.5492 Q194.352 79.0908 194.352 86.2204 Q194.352 93.3268 196.158 96.8916 Q197.987 100.433 201.598 100.433 Q205.232 100.433 207.037 96.8916 Q208.866 93.3268 208.866 86.2204 Q208.866 79.0908 207.037 75.5492 Q205.232 71.9844 201.598 71.9844 M201.598 68.2807 Q207.408 68.2807 210.463 72.8871 Q213.542 77.4704 213.542 86.2204 Q213.542 94.9472 210.463 99.5537 Q207.408 104.137 201.598 104.137 Q195.787 104.137 192.709 99.5537 Q189.653 94.9472 189.653 86.2204 Q189.653 77.4704 192.709 72.8871 Q195.787 68.2807 201.598 68.2807 Z\" fill=\"#000000\" fill-rule=\"nonzero\" fill-opacity=\"1\" /><path clip-path=\"url(#clip950)\" d=\"M14.479 723.865 L19.3487 723.865 L19.3487 729.467 Q19.3487 732.618 20.6219 733.859 Q21.895 735.069 25.2052 735.069 L28.3562 735.069 L28.3562 725.425 L32.9077 725.425 L32.9077 735.069 L64.0042 735.069 L64.0042 740.957 L32.9077 740.957 L32.9077 746.559 L28.3562 746.559 L28.3562 740.957 L25.8736 740.957 Q19.9216 740.957 17.2162 738.188 Q14.479 735.419 14.479 729.403 L14.479 723.865 Z\" fill=\"#000000\" fill-rule=\"nonzero\" fill-opacity=\"1\" /><polyline clip-path=\"url(#clip952)\" style=\"stroke:#009af9; stroke-linecap:round; stroke-linejoin:round; stroke-width:4; stroke-opacity:1; fill:none\" points=\"309.067,86.1857 319.309,86.2203 329.551,86.324 389.537,88.3207 449.523,92.6903 477.429,95.5317 505.335,98.8866 542.738,104.189 580.142,110.414 641.957,122.723 699.438,136.431 771.596,156.723 836.323,177.846 910.412,205.415 965.793,228.388 1036.63,260.717 1101.28,293.113 1174.86,333.336 1233.18,367.759 1305.65,413.65 1361.15,451.136 1439.39,507.437 1497.86,552.145 1564.35,605.728 1630.2,661.667 1702.65,726.513 1757.99,778.376 1827.82,846.705 1892.4,912.764 1959.01,983.774 2026.53,1058.74 2061.78,1099.07 2097.03,1140.22 2124.8,1173.21 2152.57,1206.72 2215.8,1284.91 2279.04,1365.74 2286.14,1374.97 2293.23,1384.24 \"/>\n",
       "<path clip-path=\"url(#clip952)\" d=\"M309.067 1384.24 L309.067 90.192 L529.53 90.192 L529.53 1384.24 L309.067 1384.24  Z\" fill=\"#e26f46\" fill-rule=\"evenodd\" fill-opacity=\"0.2\"/>\n",
       "<polyline clip-path=\"url(#clip952)\" style=\"stroke:#000000; stroke-linecap:round; stroke-linejoin:round; stroke-width:4; stroke-opacity:0.2; fill:none\" points=\"309.067,1384.24 309.067,90.192 529.53,90.192 529.53,1384.24 309.067,1384.24 \"/>\n",
       "<path clip-path=\"url(#clip952)\" d=\"M529.53 1384.24 L529.53 122.243 L749.992 122.243 L749.992 1384.24 L529.53 1384.24  Z\" fill=\"#3da44d\" fill-rule=\"evenodd\" fill-opacity=\"0.2\"/>\n",
       "<polyline clip-path=\"url(#clip952)\" style=\"stroke:#000000; stroke-linecap:round; stroke-linejoin:round; stroke-width:4; stroke-opacity:0.2; fill:none\" points=\"529.53,1384.24 529.53,122.243 749.992,122.243 749.992,1384.24 529.53,1384.24 \"/>\n",
       "<path clip-path=\"url(#clip952)\" d=\"M749.992 1384.24 L749.992 186.344 L970.455 186.344 L970.455 1384.24 L749.992 1384.24  Z\" fill=\"#c271d2\" fill-rule=\"evenodd\" fill-opacity=\"0.2\"/>\n",
       "<polyline clip-path=\"url(#clip952)\" style=\"stroke:#000000; stroke-linecap:round; stroke-linejoin:round; stroke-width:4; stroke-opacity:0.2; fill:none\" points=\"749.992,1384.24 749.992,186.344 970.455,186.344 970.455,1384.24 749.992,1384.24 \"/>\n",
       "<path clip-path=\"url(#clip952)\" d=\"M970.455 1384.24 L970.455 282.496 L1190.92 282.496 L1190.92 1384.24 L970.455 1384.24  Z\" fill=\"#ac8d18\" fill-rule=\"evenodd\" fill-opacity=\"0.2\"/>\n",
       "<polyline clip-path=\"url(#clip952)\" style=\"stroke:#000000; stroke-linecap:round; stroke-linejoin:round; stroke-width:4; stroke-opacity:0.2; fill:none\" points=\"970.455,1384.24 970.455,282.496 1190.92,282.496 1190.92,1384.24 970.455,1384.24 \"/>\n",
       "<path clip-path=\"url(#clip952)\" d=\"M1190.92 1384.24 L1190.92 410.699 L1411.38 410.699 L1411.38 1384.24 L1190.92 1384.24  Z\" fill=\"#00a9ad\" fill-rule=\"evenodd\" fill-opacity=\"0.2\"/>\n",
       "<polyline clip-path=\"url(#clip952)\" style=\"stroke:#000000; stroke-linecap:round; stroke-linejoin:round; stroke-width:4; stroke-opacity:0.2; fill:none\" points=\"1190.92,1384.24 1190.92,410.699 1411.38,410.699 1411.38,1384.24 1190.92,1384.24 \"/>\n",
       "<path clip-path=\"url(#clip952)\" d=\"M1411.38 1384.24 L1411.38 570.952 L1631.84 570.952 L1631.84 1384.24 L1411.38 1384.24  Z\" fill=\"#ed5d92\" fill-rule=\"evenodd\" fill-opacity=\"0.2\"/>\n",
       "<polyline clip-path=\"url(#clip952)\" style=\"stroke:#000000; stroke-linecap:round; stroke-linejoin:round; stroke-width:4; stroke-opacity:0.2; fill:none\" points=\"1411.38,1384.24 1411.38,570.952 1631.84,570.952 1631.84,1384.24 1411.38,1384.24 \"/>\n",
       "<path clip-path=\"url(#clip952)\" d=\"M1631.84 1384.24 L1631.84 763.256 L1852.31 763.256 L1852.31 1384.24 L1631.84 1384.24  Z\" fill=\"#c68125\" fill-rule=\"evenodd\" fill-opacity=\"0.2\"/>\n",
       "<polyline clip-path=\"url(#clip952)\" style=\"stroke:#000000; stroke-linecap:round; stroke-linejoin:round; stroke-width:4; stroke-opacity:0.2; fill:none\" points=\"1631.84,1384.24 1631.84,763.256 1852.31,763.256 1852.31,1384.24 1631.84,1384.24 \"/>\n",
       "<path clip-path=\"url(#clip952)\" d=\"M1852.31 1384.24 L1852.31 987.611 L2072.77 987.611 L2072.77 1384.24 L1852.31 1384.24  Z\" fill=\"#00a98d\" fill-rule=\"evenodd\" fill-opacity=\"0.2\"/>\n",
       "<polyline clip-path=\"url(#clip952)\" style=\"stroke:#000000; stroke-linecap:round; stroke-linejoin:round; stroke-width:4; stroke-opacity:0.2; fill:none\" points=\"1852.31,1384.24 1852.31,987.611 2072.77,987.611 2072.77,1384.24 1852.31,1384.24 \"/>\n",
       "<path clip-path=\"url(#clip952)\" d=\"M2072.77 1384.24 L2072.77 1244.02 L2293.23 1244.02 L2293.23 1384.24 L2072.77 1384.24  Z\" fill=\"#8e971d\" fill-rule=\"evenodd\" fill-opacity=\"0.2\"/>\n",
       "<polyline clip-path=\"url(#clip952)\" style=\"stroke:#000000; stroke-linecap:round; stroke-linejoin:round; stroke-width:4; stroke-opacity:0.2; fill:none\" points=\"2072.77,1384.24 2072.77,1244.02 2293.23,1244.02 2293.23,1384.24 2072.77,1384.24 \"/>\n",
       "</svg>\n"
      ],
      "text/html": [
       "<img src=\"data:image/png;base64,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\" />"
      ]
     },
     "execution_count": 17,
     "metadata": {},
     "output_type": "execute_result"
    }
   ],
   "source": [
    "showmidpoint(x->1-x^2,(0,1),9)"
   ]
  },
  {
   "cell_type": "markdown",
   "id": "72cf19ef-1e28-4876-8a26-a31aa0ab1d33",
   "metadata": {},
   "source": [
    "Thus it is natural to use a data structure `mid_data`"
   ]
  },
  {
   "cell_type": "code",
   "execution_count": 18,
   "id": "051e2cd1",
   "metadata": {},
   "outputs": [
    {
     "data": {
      "text/plain": [
       "subdivide! (generic function with 1 method)"
      ]
     },
     "execution_count": 18,
     "metadata": {},
     "output_type": "execute_result"
    }
   ],
   "source": [
    "\"\"\"\n",
    "    mid_data(f,range)\n",
    "\n",
    "stores the intermediate information for our midpoint rule. \n",
    "\n",
    "Fields:\n",
    "    f       # store the function we are integrating\n",
    "    range   # store the range (a,b)\n",
    "    val     # midpoint rule integral at current depth, m\n",
    "    oldval  # midpoint rule integral at previous depth, m-1\n",
    "    m       # depth -- number of rectangles = 3ᵐ\n",
    "\n",
    "To increase the depth use command `subdivide!`.\n",
    "\n",
    "\"\"\"\n",
    "mutable struct mid_data\n",
    "    f       # store the function we are integrating\n",
    "    range   # store the range (a,b)\n",
    "    val     # midpoint rule integral at current depth, m\n",
    "    m ::Integer      # depth -- number of rectangles = 3ᵐ\n",
    "    function mid_data(f,range)\n",
    "        x=(range[1]+range[2])/2\n",
    "        dx=range[2]-range[1]\n",
    "        val=f(x)*dx\n",
    "        new(f,range,val,0)\n",
    "    end\n",
    "end\n",
    "\n",
    "function subdivide!(data ::mid_data)\n",
    "    # Extract needed info from `data`\n",
    "    f=data.f\n",
    "    m=data.m+1\n",
    "    result=zero(data.val)\n",
    "    (a,b)=data.range\n",
    "    # Width of new rectangles\n",
    "    dx=(b-a)/3^m   \n",
    "    # Width of old rectangles\n",
    "    olddx=3*dx\n",
    "    # Step through old rectangles\n",
    "    for x in a+olddx/2:olddx:b #\n",
    "        result+=(f(x-dx)+f(x+dx)) # for each old rectangle there are 2 new ones to add\n",
    "    end\n",
    "    result=result*dx+data.val/3\n",
    "    # Update data\n",
    "    data.m=m\n",
    "    data.val=result\n",
    "end"
   ]
  },
  {
   "cell_type": "markdown",
   "id": "d4a977e2-b67a-40a7-b7cb-bd17ef32432b",
   "metadata": {},
   "source": [
    "To test/debug this object, we first instantiate it"
   ]
  },
  {
   "cell_type": "code",
   "execution_count": 19,
   "id": "8add21e2",
   "metadata": {},
   "outputs": [
    {
     "data": {
      "text/plain": [
       "mid_data(var\"#13#14\"(), (1.0, 5.0), 36.0, 0)"
      ]
     },
     "execution_count": 19,
     "metadata": {},
     "output_type": "execute_result"
    }
   ],
   "source": [
    "m1=mid_data(x->x^2,(1.,5.))"
   ]
  },
  {
   "cell_type": "markdown",
   "id": "dfb80c0e-d960-47cf-9dc2-fe48c76342f6",
   "metadata": {},
   "source": [
    "Next we create a `tuple` consisting of 3 values: \n",
    "- the current value of the integral, as calculated with mid_data\n",
    "- the value of the integral, as calculated by naive_midpoint\n",
    "- the value of m (how many iterations we have gone through)"
   ]
  },
  {
   "cell_type": "code",
   "execution_count": 20,
   "id": "648a497d",
   "metadata": {},
   "outputs": [
    {
     "ename": "LoadError",
     "evalue": "UndefVarError: `naive_midpoint` not defined",
     "output_type": "error",
     "traceback": [
      "UndefVarError: `naive_midpoint` not defined",
      "",
      "Stacktrace:",
      " [1] top-level scope",
      "\u001b[90m   @\u001b[39m \u001b[90m\u001b[4mIn[20]:1\u001b[24m\u001b[39m"
     ]
    }
   ],
   "source": [
    "(m1.val,naive_midpoint(m1.f,m1.range,3^(m1.m)),\"m=$(m1.m)\")"
   ]
  },
  {
   "cell_type": "code",
   "execution_count": 21,
   "id": "03ffb83d",
   "metadata": {},
   "outputs": [
    {
     "ename": "LoadError",
     "evalue": "UndefVarError: `naive_midpoint` not defined",
     "output_type": "error",
     "traceback": [
      "UndefVarError: `naive_midpoint` not defined",
      "",
      "Stacktrace:",
      " [1] top-level scope",
      "\u001b[90m   @\u001b[39m \u001b[90m\u001b[4mIn[21]:2\u001b[24m\u001b[39m"
     ]
    }
   ],
   "source": [
    "r1=subdivide!(m1)\n",
    "r2=naive_midpoint(m1.f,m1.range,3^(m1.m))\n",
    "(r1,r2,r1-r2,\"m=\"*string(m1.m))"
   ]
  },
  {
   "cell_type": "code",
   "execution_count": 22,
   "id": "8f2cd621",
   "metadata": {},
   "outputs": [
    {
     "ename": "LoadError",
     "evalue": "UndefVarError: `naive_midpoint` not defined",
     "output_type": "error",
     "traceback": [
      "UndefVarError: `naive_midpoint` not defined",
      "",
      "Stacktrace:",
      " [1] top-level scope",
      "\u001b[90m   @\u001b[39m \u001b[90m\u001b[4mIn[22]:2\u001b[24m\u001b[39m"
     ]
    }
   ],
   "source": [
    "r1=subdivide!(m1)\n",
    "r2=naive_midpoint(m1.f,m1.range,3^(m1.m))\n",
    "(r1,r2,r1-r2,\"m=\"*string(m1.m))"
   ]
  },
  {
   "cell_type": "code",
   "execution_count": 23,
   "id": "ecdddfad",
   "metadata": {},
   "outputs": [
    {
     "ename": "LoadError",
     "evalue": "UndefVarError: `naive_midpoint` not defined",
     "output_type": "error",
     "traceback": [
      "UndefVarError: `naive_midpoint` not defined",
      "",
      "Stacktrace:",
      " [1] top-level scope",
      "\u001b[90m   @\u001b[39m \u001b[90m\u001b[4mIn[23]:2\u001b[24m\u001b[39m"
     ]
    }
   ],
   "source": [
    "r1=subdivide!(m1)\n",
    "r2=naive_midpoint(m1.f,m1.range,3^(m1.m))\n",
    "(r1,r2,r1-r2,\"m=\"*string(m1.m))"
   ]
  },
  {
   "cell_type": "code",
   "execution_count": 24,
   "id": "2deaac76-de24-4fcd-82db-817740ab66e2",
   "metadata": {},
   "outputs": [
    {
     "ename": "LoadError",
     "evalue": "UndefVarError: `naive_midpoint` not defined",
     "output_type": "error",
     "traceback": [
      "UndefVarError: `naive_midpoint` not defined",
      "",
      "Stacktrace:",
      " [1] top-level scope",
      "\u001b[90m   @\u001b[39m \u001b[90m\u001b[4mIn[24]:2\u001b[24m\u001b[39m"
     ]
    }
   ],
   "source": [
    "r1=subdivide!(m1)\n",
    "r2=naive_midpoint(m1.f,m1.range,3^(m1.m))\n",
    "(r1,r2,r1-r2,\"m=\"*string(m1.m))"
   ]
  },
  {
   "cell_type": "code",
   "execution_count": 25,
   "id": "e23ded08-9a7d-44a2-8d6d-341341819c62",
   "metadata": {},
   "outputs": [
    {
     "ename": "LoadError",
     "evalue": "UndefVarError: `naive_midpoint` not defined",
     "output_type": "error",
     "traceback": [
      "UndefVarError: `naive_midpoint` not defined",
      "",
      "Stacktrace:",
      " [1] top-level scope",
      "\u001b[90m   @\u001b[39m \u001b[90m\u001b[4mIn[25]:2\u001b[24m\u001b[39m"
     ]
    }
   ],
   "source": [
    "r1=subdivide!(m1)\n",
    "r2=naive_midpoint(m1.f,m1.range,3^(m1.m))\n",
    "(r1,r2,r1-r2,\"m=\"*string(m1.m))"
   ]
  },
  {
   "cell_type": "code",
   "execution_count": 26,
   "id": "c4e3f107-474e-4f7b-9e30-afdb710dd9d0",
   "metadata": {},
   "outputs": [
    {
     "ename": "LoadError",
     "evalue": "UndefVarError: `naive_midpoint` not defined",
     "output_type": "error",
     "traceback": [
      "UndefVarError: `naive_midpoint` not defined",
      "",
      "Stacktrace:",
      " [1] top-level scope",
      "\u001b[90m   @\u001b[39m \u001b[90m\u001b[4mIn[26]:2\u001b[24m\u001b[39m"
     ]
    }
   ],
   "source": [
    "r1=subdivide!(m1)\n",
    "r2=naive_midpoint(m1.f,m1.range,3^(m1.m))\n",
    "(r1,r2,r1-r2,\"m=\"*string(m1.m))"
   ]
  },
  {
   "cell_type": "code",
   "execution_count": 27,
   "id": "50fcee5d-cac7-44a1-b3a8-0895e8a228d0",
   "metadata": {},
   "outputs": [
    {
     "ename": "LoadError",
     "evalue": "UndefVarError: `naive_midpoint` not defined",
     "output_type": "error",
     "traceback": [
      "UndefVarError: `naive_midpoint` not defined",
      "",
      "Stacktrace:",
      " [1] top-level scope",
      "\u001b[90m   @\u001b[39m \u001b[90m\u001b[4mIn[27]:2\u001b[24m\u001b[39m"
     ]
    }
   ],
   "source": [
    "r1=subdivide!(m1)\n",
    "r2=naive_midpoint(m1.f,m1.range,3^(m1.m))\n",
    "(r1,r2,r1-r2,\"m=\"*string(m1.m))"
   ]
  },
  {
   "cell_type": "code",
   "execution_count": 28,
   "id": "8b7ac856-2303-4431-85e9-0f8b0a0b1f95",
   "metadata": {},
   "outputs": [
    {
     "ename": "LoadError",
     "evalue": "UndefVarError: `naive_midpoint` not defined",
     "output_type": "error",
     "traceback": [
      "UndefVarError: `naive_midpoint` not defined",
      "",
      "Stacktrace:",
      " [1] top-level scope",
      "\u001b[90m   @\u001b[39m \u001b[90m\u001b[4mIn[28]:2\u001b[24m\u001b[39m"
     ]
    }
   ],
   "source": [
    "r1=subdivide!(m1)\n",
    "r2=naive_midpoint(m1.f,m1.range,3^(m1.m))\n",
    "(r1,r2,r1-r2,\"m=\"*string(m1.m))"
   ]
  },
  {
   "cell_type": "markdown",
   "id": "e44381b4-e321-4194-b91f-20d92bf7f828",
   "metadata": {},
   "source": [
    "Create a function `nrmidpoint` which is based off of the `nrtrap` function that we made in lecture.  It uses the `mid_data` object that we just defined.  Test to make sure it works.  Leave the tests in the notebook."
   ]
  },
  {
   "cell_type": "code",
   "execution_count": 29,
   "id": "0066fbec",
   "metadata": {},
   "outputs": [
    {
     "data": {
      "text/plain": [
       "nrmidpoint"
      ]
     },
     "execution_count": 29,
     "metadata": {},
     "output_type": "execute_result"
    }
   ],
   "source": [
    "\"\"\"\n",
    "`nrmidpoint(f,range;namedargs...)`\n",
    "\n",
    "Uses the midpoint rule algorithm from Numerical Recipies to calculate ``\\\\int_a^b f(x) dx``\n",
    "where `range=(a,b)`.\n",
    "\n",
    "`namedargs`\n",
    "- `eps=1E-10`: algorithm terminates when relative change in integral falls below `eps`\n",
    "- `max_divisions=20`: make no more than `max_divisions` subdivisions\n",
    "- `debug=false`: set to `true` to see debug informations\n",
    "\n",
    "\"\"\"\n",
    "function nrmidpoint(f,range;eps=1E-6,max_divisions=13,debug=false)\n",
    "    # Fill in code\n",
    "    # -- hint: start by copying `nrtrap`, and then look for lines which need to be changed\n",
    "    # You will find that remarkably little needs to be changed\n",
    "end"
   ]
  },
  {
   "cell_type": "code",
   "execution_count": null,
   "id": "a5d8c9cd-326e-4b99-9862-458b3f7fb71b",
   "metadata": {},
   "outputs": [],
   "source": []
  },
  {
   "cell_type": "code",
   "execution_count": null,
   "id": "6793b6ab-019f-4567-a081-f48518351fe7",
   "metadata": {},
   "outputs": [],
   "source": []
  },
  {
   "cell_type": "code",
   "execution_count": null,
   "id": "2d3166dd-b54d-4f68-bc09-3344ebbe1608",
   "metadata": {},
   "outputs": [],
   "source": []
  },
  {
   "cell_type": "markdown",
   "id": "205fad4c-315f-49f5-9cd8-6aa407f54b3b",
   "metadata": {},
   "source": [
    "<h2 style=\"border: 2px solid #000; border-radius: 10px; padding: 20px; background-color:red; color:white;\" >\n",
    "## Activity 4\n",
    "</h2>"
   ]
  },
  {
   "cell_type": "markdown",
   "id": "db5544d3-aaa2-42dc-a3a1-711fc5bd93fa",
   "metadata": {},
   "source": [
    "We are almost ready to do the integral\n",
    "\n",
    "$$\n",
    "\\bar T =\\frac{T}{T_0}=\\frac{\\sqrt{2}}{\\pi}\\int_0^{\\theta_m}\\frac{d\\theta}{\\sqrt{\\cos(\\theta)-\\cos(\\theta_m)}}\n",
    "$$\n",
    "\n",
    "Whenever you do an integral, the first thing to do is plot the integrand.\n",
    "\n",
    "Plot the integrand for $\\theta_m=0.001$.  Label the axes"
   ]
  },
  {
   "cell_type": "code",
   "execution_count": null,
   "id": "5fb4f6c8-3cc3-44c0-a2e7-8d617164dbbc",
   "metadata": {},
   "outputs": [],
   "source": []
  },
  {
   "cell_type": "code",
   "execution_count": null,
   "id": "ae721a46-ffcf-4194-b20b-fb3db86c778a",
   "metadata": {},
   "outputs": [],
   "source": []
  },
  {
   "cell_type": "markdown",
   "id": "b01c6dd3-2378-4dea-ab07-b0c350c7fe5b",
   "metadata": {},
   "source": [
    "<h2 style=\"border: 2px solid #000; border-radius: 10px; padding: 20px; background-color:red; color:white;\" >\n",
    "## Activity 5\n",
    "</h2>"
   ]
  },
  {
   "cell_type": "markdown",
   "id": "befe0f61-57a1-4d7e-a124-401125dc390f",
   "metadata": {},
   "source": [
    "The graph you just made has a singularity at $\\theta=\\theta_m$.  It turns out this means that our previous analysis of the convergence with $n$ is incorrect.  Repeat it for this integrand, at $\\theta_m=0.001$, using the fact that for small angles the scaled period should be 1.\n",
    "\n",
    "That is, we define $\\bar T_n(\\theta_m)$ as the integral evaluated with the midpoint rule with $n$ rectangles.  Plot $\\mathrm{err}_n=1-\\bar T_n(\\theta_m)$ vs $n$ for $\\theta_m=0.001$.  Either rescale the axes, or use a log-log plot to find out how $\\mathrm{err}_n$ scales with $n$.\n",
    "\n",
    "Note:  You may find it convenient to first define a function `tbar(thetam,n)` which calls `naive_midpoint` with the right arguments."
   ]
  },
  {
   "cell_type": "code",
   "execution_count": null,
   "id": "f0482762-c7df-42d5-bead-089524a01319",
   "metadata": {},
   "outputs": [],
   "source": []
  },
  {
   "cell_type": "code",
   "execution_count": null,
   "id": "c184b52b-0fdb-4621-9aa5-65c5e73ee44e",
   "metadata": {},
   "outputs": [],
   "source": []
  },
  {
   "cell_type": "markdown",
   "id": "3e996242-da2e-4df9-8ad6-6c89cd11cd75",
   "metadata": {},
   "source": [
    "<h2 style=\"border: 2px solid #000; border-radius: 10px; padding: 20px; background-color:red; color:white;\" >\n",
    "## Activity 6\n",
    "</h2>"
   ]
  },
  {
   "cell_type": "markdown",
   "id": "887b3403-b7f9-476b-a3c5-541b898b2394",
   "metadata": {},
   "source": [
    "Estimate what size of $n$ you would need to evaluate the integral with an accuracy of 1 part in $10^{-6}$?  Do this by fitting your error to a power law."
   ]
  },
  {
   "cell_type": "code",
   "execution_count": null,
   "id": "8a103c1b-1118-46dc-b2be-feccc4f00cfd",
   "metadata": {},
   "outputs": [],
   "source": []
  },
  {
   "cell_type": "code",
   "execution_count": null,
   "id": "e6489c29-86b2-4f4f-a925-212d5face04a",
   "metadata": {},
   "outputs": [],
   "source": []
  },
  {
   "cell_type": "code",
   "execution_count": null,
   "id": "ed89889a-085c-4cbe-be60-a4af19ec1c00",
   "metadata": {},
   "outputs": [],
   "source": []
  },
  {
   "cell_type": "markdown",
   "id": "cc47353d-fb88-45b0-903d-1c65087c6f9a",
   "metadata": {},
   "source": [
    "Given the large number of evaluations that it would take to use the midpoint rule to evaluate this integral, it makes sense to do something smarter algorithmically.  We could try some sort of Richardson extrapolation, but there is a simpler approach:  A change of variables."
   ]
  },
  {
   "cell_type": "markdown",
   "id": "4e73c7b3-685e-43eb-8ee9-e7afed12dea0",
   "metadata": {},
   "source": [
    "A good practice with any numerical integral is to first do a change of variable to get rid of any singularities."
   ]
  },
  {
   "cell_type": "markdown",
   "id": "319ac6e2-ac60-4968-a1fd-4ba191748f26",
   "metadata": {},
   "source": [
    "In our case we want to evaluate the integral\n",
    "\n",
    "$$\n",
    "\\bar T =\\frac{\\sqrt{2}}{\\pi}\\int_0^{\\theta_m}\\frac{d\\theta}{\\sqrt{\\cos(\\theta)-\\cos(\\theta_m)}}\n",
    "$$"
   ]
  },
  {
   "cell_type": "markdown",
   "id": "29cea858-2e36-4d25-8afd-777458936cd5",
   "metadata": {},
   "source": [
    "The integrand scales as $1/\\sqrt{\\theta_m-\\theta}$ as $\\theta\\to\\theta_m$.  Here are two different changes of variables which will eliminate that divergence:\n",
    "\\begin{align}\n",
    "x &= \\frac{\\sqrt{\\theta_m-\\theta}}{\\sqrt{\\theta_m}}\\\\\n",
    "\\theta &= \\theta_m \\sin(z)\n",
    "\\end{align}"
   ]
  },
  {
   "cell_type": "markdown",
   "id": "2e3a76b7-9914-4365-a260-b2969fd13478",
   "metadata": {},
   "source": [
    "<h2 style=\"border: 2px solid #000; border-radius: 10px; padding: 20px; background-color:red; color:white;\" >\n",
    "## Activity 7\n",
    "</h2>"
   ]
  },
  {
   "cell_type": "markdown",
   "id": "755acdb0-9b7f-4834-98fc-309c5a8e90b1",
   "metadata": {},
   "source": [
    "1. Use one of these changes of variables (or another one that comes to mind for you), to transform this integral into one in which the integrand never diverges.  Do the arithmetic on a piece of paper, then make a function which corresponds to the integrand -- for example `integrandx(x,θₘ)` or `integrandz(z,θₘ)`.  Also make functions which return the upper and lower limits of the integral: `minx(θₘ)` and `maxx(θₘ)` or `minz(θₘ)` and `maxz(θₘ)`\n",
    "2. Plot the integrand to verify that it is non-singular.  Try a few different values of `θₘ`.  Be sure to label the graphs, including a legend which tells you which value of `θₘ` each curve is showing"
   ]
  },
  {
   "cell_type": "code",
   "execution_count": null,
   "id": "62b05730-a557-49dc-878e-70c704bcd32d",
   "metadata": {},
   "outputs": [],
   "source": []
  },
  {
   "cell_type": "code",
   "execution_count": null,
   "id": "b9bbf0ca-daff-4baa-a565-54d2c3dae256",
   "metadata": {
    "scrolled": true
   },
   "outputs": [],
   "source": []
  },
  {
   "cell_type": "code",
   "execution_count": null,
   "id": "b930150b-a5a5-42e2-8aec-8ad8d70fa152",
   "metadata": {},
   "outputs": [],
   "source": []
  },
  {
   "cell_type": "markdown",
   "id": "8afd898f-45d0-4814-861a-aa2130da369e",
   "metadata": {},
   "source": [
    "<h2 style=\"border: 2px solid #000; border-radius: 10px; padding: 20px; background-color:red; color:white;\" >\n",
    "## Activity 8\n",
    "</h2>"
   ]
  },
  {
   "cell_type": "markdown",
   "id": "c363915e-d125-4fdb-bbdb-dcd9ccd81264",
   "metadata": {},
   "source": [
    "Make a function which takes `θₘ` and the number of rectangles `n`, and approximates our integral by calling `naive_midpoint`.  We will use this to check its convergence properties.\n",
    "\n",
    "Verify that the function runs and gives sensible values."
   ]
  },
  {
   "cell_type": "code",
   "execution_count": null,
   "id": "a9c3b6fe-b08e-4871-a7b4-b1f521255905",
   "metadata": {},
   "outputs": [],
   "source": []
  },
  {
   "cell_type": "code",
   "execution_count": null,
   "id": "12d1e470-9c44-4e1b-91fe-0748b47d89fb",
   "metadata": {},
   "outputs": [],
   "source": []
  },
  {
   "cell_type": "markdown",
   "id": "c8fcbfa3-4f5f-41f3-9dff-6b8b26f2977e",
   "metadata": {},
   "source": [
    "<h2 style=\"border: 2px solid #000; border-radius: 10px; padding: 20px; background-color:red; color:white;\" >\n",
    "## Activity 9\n",
    "</h2>"
   ]
  },
  {
   "cell_type": "markdown",
   "id": "547c5d5c-fc17-460a-a3c6-34b03186bfe7",
   "metadata": {},
   "source": [
    "Now we want to check the convergence properties of the numerical integral. Lets do this convergence check at  `θₘ=pi/2`.  Unfortunately we don't know the exact value of the integral at this point, so we can't just plot the error vs `n`, as we did before."
   ]
  },
  {
   "cell_type": "markdown",
   "id": "eb6629d6-b849-4faf-afaa-2285c16b3e01",
   "metadata": {},
   "source": [
    "The solution is that we look at differences between successive approximations to the integral.  In particular, we look at $I_n-I_{n/2}$.  If $I_n\\sim a+b n^{\\alpha}$ then \n",
    "$$\n",
    "I_n-I_{n/2}=b n^{\\alpha} \\left(1-\\frac{1}{2^\\alpha}\\right)\n",
    "$$\n",
    "Thus a log-log plot of the successive differences will reveal the leading power with which the series is converging.\n",
    "\n",
    "Note this also works with other ratios, not just factors of 2.  For example, if we use our `mid_data` object we naturally produce approximants for which `n` differs by powers of 3. "
   ]
  },
  {
   "cell_type": "markdown",
   "id": "70255b85-ccd1-46b6-9233-533d41e905cf",
   "metadata": {},
   "source": [
    "1. Create the sequence $I_1,I_2,I_4,\\cdots,I_{2^N}$, with $N$ of order $10$.  Feel free to use powers of 3 instead of powers of 2 if you like.\n",
    "2. Create the sequence of differences $I_2-I_1,I_4-I_2,\\cdots$.\n",
    "3. Plot the log of the difference vs log(n).  Is it a straight line?  If so extract the power law.  If it is not a straight line, explain what is going on?  Be sure to label your axes.\n",
    "\n",
    "Hint:  For step 2 you may find it useful to use the notation \n",
    "`dif=ilist[2:end]-ilist[1:end-1]` or the more direct `dif=[ilist[j+1]-ilist[j] for j in 1:length(ilist)-1]`.\n",
    "\n",
    "Note:  The convergence properties will depend on which tranform you use."
   ]
  },
  {
   "cell_type": "code",
   "execution_count": null,
   "id": "4b008fb8-2c82-4329-acbc-ab643db03476",
   "metadata": {},
   "outputs": [],
   "source": []
  },
  {
   "cell_type": "code",
   "execution_count": null,
   "id": "c8547eff-6f36-455c-afb8-e45545d0ac17",
   "metadata": {},
   "outputs": [],
   "source": []
  },
  {
   "cell_type": "code",
   "execution_count": null,
   "id": "50144c18-cf86-4cca-8714-efb9d95bb203",
   "metadata": {},
   "outputs": [],
   "source": []
  },
  {
   "cell_type": "markdown",
   "id": "a6d63d4c-a30a-4c4b-b83f-545857804819",
   "metadata": {},
   "source": [
    "<h2 style=\"border: 2px solid #000; border-radius: 10px; padding: 20px; background-color:red; color:white;\" >\n",
    "## Activity 10\n",
    "</h2>"
   ]
  },
  {
   "cell_type": "markdown",
   "id": "457c2647-00f8-4c9b-a691-4464b04a2438",
   "metadata": {},
   "source": [
    "Having established that the numerics are reliable, we can now do some physics."
   ]
  },
  {
   "cell_type": "markdown",
   "id": "8992c2d2-11d7-481b-b204-42511e2d3ca6",
   "metadata": {},
   "source": [
    "Write a function which calls `nrmidpoint` to find the period as a function of `θₘ`.  Use that function to plot the period of a pendulum as a function of its maximum angle."
   ]
  },
  {
   "cell_type": "code",
   "execution_count": null,
   "id": "073c3ca7-b6a6-4a5f-8ec8-60b7e70ca21a",
   "metadata": {},
   "outputs": [],
   "source": []
  },
  {
   "cell_type": "code",
   "execution_count": null,
   "id": "af02cdcf-8af8-4b0c-9b0b-f1f41be77961",
   "metadata": {},
   "outputs": [],
   "source": []
  },
  {
   "cell_type": "markdown",
   "id": "c655f325-58c9-4bb1-94ef-cf3eb4f32fbd",
   "metadata": {},
   "source": [
    "<h2 style=\"border: 2px solid #000; border-radius: 10px; padding: 20px; background-color:red; color:white;\" >\n",
    "## Activity 11\n",
    "</h2>"
   ]
  },
  {
   "cell_type": "markdown",
   "id": "1cac68c3-0e6f-4878-ac94-fb31b16089a1",
   "metadata": {},
   "source": [
    "The period of a pendulum should diverge as $\\theta_m\\to \\pi$.  Lets see if we can use our numerical experiment to figure out the form of the divergence."
   ]
  },
  {
   "cell_type": "markdown",
   "id": "c33b8e50-f54a-4a5c-a68f-9c12e43b2007",
   "metadata": {},
   "source": [
    "Plot $\\log(\\bar T)$ as a function of $\\log(\\pi-\\theta_m)$.  Is the result consistent with a power law?  If so, what is the power."
   ]
  },
  {
   "cell_type": "code",
   "execution_count": null,
   "id": "26c8cb51-7972-427b-91ba-6d1cac0f893e",
   "metadata": {},
   "outputs": [],
   "source": []
  },
  {
   "cell_type": "markdown",
   "id": "dd06dd7a-e2ef-456a-9a7a-ad3fd24c66b0",
   "metadata": {},
   "source": [
    "<h2 style=\"border: 2px solid #000; border-radius: 10px; padding: 20px; background-color:red; color:white;\" >\n",
    "## Activity 12\n",
    "</h2>"
   ]
  },
  {
   "cell_type": "markdown",
   "id": "765c36bd-7482-462a-8afc-b218d34fe2a3",
   "metadata": {},
   "source": [
    "You should have found that the divergence was not consistent with a power law.  It is in fact slower than any power law.  A good thing to try is a logarithm.  Plot $\\bar T$ as a function of $\\log(\\pi-\\theta_m)$.  Is the divergence logarithmic?"
   ]
  },
  {
   "cell_type": "code",
   "execution_count": null,
   "id": "9bc417ba-9b45-4feb-9f5c-f15a406b96f5",
   "metadata": {},
   "outputs": [],
   "source": []
  },
  {
   "cell_type": "markdown",
   "id": "95f6c578-d344-49a5-b18b-ff56e66eb6e8",
   "metadata": {},
   "source": [
    "These activities have had several goals:\n",
    "1. Learning how to write code in Julia\n",
    "2. Learning about numerical integration\n",
    "3. Learning how to work with numerical data, and draw conclusions from it\n",
    "4. Learning about pendula\n",
    "\n",
    "What, if any thoughts do you have about its success at these?  Was anything surprising?  Are you frustrated?  Was this exciting?\n",
    "\n",
    "Write a paragraph below, expressing your thoughts.  Then make sure to scroll to the top and fill out the information about what resources you used."
   ]
  },
  {
   "cell_type": "markdown",
   "id": "bd209e67-a296-4699-a965-0c9dce245878",
   "metadata": {},
   "source": []
  },
  {
   "cell_type": "markdown",
   "id": "bd5ca807",
   "metadata": {},
   "source": [
    "This is a Jupyter notebook:  it is an interactive interface with Julia, which is similar to Mathematica.  \n",
    "\n",
    "There are two types of cells: *Markdown* and *code*.  Markdown cells understand $\\LaTeX$ -- and you can insert arbitrary html commants in them -- meaning that if you upload an image to your Google Drive, and make it world readible, you can insert it into the cell.  Markdown cells also accept standard *Markdown* syntax.\n",
    "\n",
    "In code cells, but not markdown cells, you can type Greek letters by typing their LaTeX name -- such as `\\alpha` and then hit`tab`.  Subscripts, $f_j$, can be written as `f\\_j` followed by `tab`."
   ]
  },
  {
   "cell_type": "markdown",
   "id": "1cb6f2f9",
   "metadata": {},
   "source": [
    "You click on a markdown cell to edit it -- typeset it with a \"shift-enter\".  To run a code cell type shift-enter on it. "
   ]
  },
  {
   "cell_type": "markdown",
   "id": "952306a7",
   "metadata": {},
   "source": [
    "Here are some useful links:\n",
    "- [Getting Started with Julia](https://computationalthinking.mit.edu/Spring21/basic_syntax/)\n",
    "- [Fasttrack to Julia](https://juliadocs.github.io/Julia-Cheat-Sheet/)\n",
    "- [MATLAB-Julia-Python comparison](https://cheatsheets.quantecon.org/)\n",
    "- [Plots.jl cheatsheet](https://github.com/sswatson/cheatsheets/blob/master/plotsjl-cheatsheet.pdf)"
   ]
  },
  {
   "cell_type": "markdown",
   "id": "1afab8dd",
   "metadata": {},
   "source": [
    "Rather than spending time teaching you a bunch of syntax in the abstract -- we will try to pick up syntax on-the-go.  It is great practice to use google and stack overflow to figure out notation"
   ]
  },
  {
   "cell_type": "markdown",
   "id": "36b69286",
   "metadata": {},
   "source": [
    "<h3 style=\"border: 2px solid #000; border-radius: 10px; padding: 20px; background-color:blue; color:white;\" >warm-up on data entry</h3>"
   ]
  },
  {
   "cell_type": "markdown",
   "id": "e2cba792",
   "metadata": {},
   "source": [
    "**Hit shift-enter on each of these lines sequentially to run the code.  Then change $\\alpha$ to $\\beta$, change the numbers, and rerun**  "
   ]
  },
  {
   "cell_type": "code",
   "execution_count": 1,
   "id": "13ef96bc",
   "metadata": {},
   "outputs": [
    {
     "data": {
      "text/plain": [
       "1"
      ]
     },
     "execution_count": 1,
     "metadata": {},
     "output_type": "execute_result"
    }
   ],
   "source": [
    "α=1"
   ]
  },
  {
   "cell_type": "code",
   "execution_count": 2,
   "id": "cf7a9f39",
   "metadata": {},
   "outputs": [
    {
     "data": {
      "text/plain": [
       "4"
      ]
     },
     "execution_count": 2,
     "metadata": {},
     "output_type": "execute_result"
    }
   ],
   "source": [
    "α+3"
   ]
  },
  {
   "cell_type": "markdown",
   "id": "e128d58c",
   "metadata": {},
   "source": [
    "### Getting Help"
   ]
  },
  {
   "cell_type": "markdown",
   "id": "ef454634",
   "metadata": {},
   "source": [
    "Want to know what a symbol means?  For example, what is does the `length` command do?  Type `?length` and then shift-enter. "
   ]
  },
  {
   "cell_type": "code",
   "execution_count": 3,
   "id": "b2b7b1cd",
   "metadata": {},
   "outputs": [
    {
     "name": "stdout",
     "output_type": "stream",
     "text": [
      "search: \u001b[0m\u001b[1ml\u001b[22m\u001b[0m\u001b[1me\u001b[22m\u001b[0m\u001b[1mn\u001b[22m\u001b[0m\u001b[1mg\u001b[22m\u001b[0m\u001b[1mt\u001b[22m\u001b[0m\u001b[1mh\u001b[22m\n",
      "\n"
     ]
    },
    {
     "data": {
      "text/latex": [
       "\\begin{verbatim}\n",
       "length(collection) -> Integer\n",
       "\\end{verbatim}\n",
       "Return the number of elements in the collection.\n",
       "\n",
       "Use \\href{@ref}{\\texttt{lastindex}} to get the last valid index of an indexable collection.\n",
       "\n",
       "See also: \\href{@ref}{\\texttt{size}}, \\href{@ref}{\\texttt{ndims}}, \\href{@ref}{\\texttt{eachindex}}.\n",
       "\n",
       "\\section{Examples}\n",
       "\\begin{verbatim}\n",
       "julia> length(1:5)\n",
       "5\n",
       "\n",
       "julia> length([1, 2, 3, 4])\n",
       "4\n",
       "\n",
       "julia> length([1 2; 3 4])\n",
       "4\n",
       "\\end{verbatim}\n",
       "\\rule{\\textwidth}{1pt}\n",
       "\\begin{verbatim}\n",
       "length(A::AbstractArray)\n",
       "\\end{verbatim}\n",
       "Return the number of elements in the array, defaults to \\texttt{prod(size(A))}.\n",
       "\n",
       "\\section{Examples}\n",
       "\\begin{verbatim}\n",
       "julia> length([1, 2, 3, 4])\n",
       "4\n",
       "\n",
       "julia> length([1 2; 3 4])\n",
       "4\n",
       "\\end{verbatim}\n",
       "\\rule{\\textwidth}{1pt}\n",
       "\\begin{verbatim}\n",
       "length(s::AbstractString) -> Int\n",
       "length(s::AbstractString, i::Integer, j::Integer) -> Int\n",
       "\\end{verbatim}\n",
       "Return the number of characters in string \\texttt{s} from indices \\texttt{i} through \\texttt{j}.\n",
       "\n",
       "This is computed as the number of code unit indices from \\texttt{i} to \\texttt{j} which are valid character indices. With only a single string argument, this computes the number of characters in the entire string. With \\texttt{i} and \\texttt{j} arguments it computes the number of indices between \\texttt{i} and \\texttt{j} inclusive that are valid indices in the string \\texttt{s}. In addition to in-bounds values, \\texttt{i} may take the out-of-bounds value \\texttt{ncodeunits(s) + 1} and \\texttt{j} may take the out-of-bounds value \\texttt{0}.\n",
       "\n",
       "\\begin{quote}\n",
       "\\textbf{note}\n",
       "\n",
       "Note\n",
       "\n",
       "The time complexity of this operation is linear in general. That is, it will take the time proportional to the number of bytes or characters in the string because it counts the value on the fly. This is in contrast to the method for arrays, which is a constant-time operation.\n",
       "\n",
       "\\end{quote}\n",
       "See also \\href{@ref}{\\texttt{isvalid}}, \\href{@ref}{\\texttt{ncodeunits}}, \\href{@ref}{\\texttt{lastindex}}, \\href{@ref}{\\texttt{thisind}}, \\href{@ref}{\\texttt{nextind}}, \\href{@ref}{\\texttt{prevind}}.\n",
       "\n",
       "\\section{Examples}\n",
       "\\begin{verbatim}\n",
       "julia> length(\"jμΛIα\")\n",
       "5\n",
       "\\end{verbatim}\n"
      ],
      "text/markdown": [
       "```\n",
       "length(collection) -> Integer\n",
       "```\n",
       "\n",
       "Return the number of elements in the collection.\n",
       "\n",
       "Use [`lastindex`](@ref) to get the last valid index of an indexable collection.\n",
       "\n",
       "See also: [`size`](@ref), [`ndims`](@ref), [`eachindex`](@ref).\n",
       "\n",
       "# Examples\n",
       "\n",
       "```jldoctest\n",
       "julia> length(1:5)\n",
       "5\n",
       "\n",
       "julia> length([1, 2, 3, 4])\n",
       "4\n",
       "\n",
       "julia> length([1 2; 3 4])\n",
       "4\n",
       "```\n",
       "\n",
       "---\n",
       "\n",
       "```\n",
       "length(A::AbstractArray)\n",
       "```\n",
       "\n",
       "Return the number of elements in the array, defaults to `prod(size(A))`.\n",
       "\n",
       "# Examples\n",
       "\n",
       "```jldoctest\n",
       "julia> length([1, 2, 3, 4])\n",
       "4\n",
       "\n",
       "julia> length([1 2; 3 4])\n",
       "4\n",
       "```\n",
       "\n",
       "---\n",
       "\n",
       "```\n",
       "length(s::AbstractString) -> Int\n",
       "length(s::AbstractString, i::Integer, j::Integer) -> Int\n",
       "```\n",
       "\n",
       "Return the number of characters in string `s` from indices `i` through `j`.\n",
       "\n",
       "This is computed as the number of code unit indices from `i` to `j` which are valid character indices. With only a single string argument, this computes the number of characters in the entire string. With `i` and `j` arguments it computes the number of indices between `i` and `j` inclusive that are valid indices in the string `s`. In addition to in-bounds values, `i` may take the out-of-bounds value `ncodeunits(s) + 1` and `j` may take the out-of-bounds value `0`.\n",
       "\n",
       "!!! note\n",
       "    The time complexity of this operation is linear in general. That is, it will take the time proportional to the number of bytes or characters in the string because it counts the value on the fly. This is in contrast to the method for arrays, which is a constant-time operation.\n",
       "\n",
       "\n",
       "See also [`isvalid`](@ref), [`ncodeunits`](@ref), [`lastindex`](@ref), [`thisind`](@ref), [`nextind`](@ref), [`prevind`](@ref).\n",
       "\n",
       "# Examples\n",
       "\n",
       "```jldoctest\n",
       "julia> length(\"jμΛIα\")\n",
       "5\n",
       "```\n"
      ],
      "text/plain": [
       "\u001b[36m  length(collection) -> Integer\u001b[39m\n",
       "\n",
       "  Return the number of elements in the collection.\n",
       "\n",
       "  Use \u001b[36mlastindex\u001b[39m to get the last valid index of an indexable collection.\n",
       "\n",
       "  See also: \u001b[36msize\u001b[39m, \u001b[36mndims\u001b[39m, \u001b[36meachindex\u001b[39m.\n",
       "\n",
       "\u001b[1m  Examples\u001b[22m\n",
       "\u001b[1m  ≡≡≡≡≡≡≡≡\u001b[22m\n",
       "\n",
       "\u001b[36m  julia> length(1:5)\u001b[39m\n",
       "\u001b[36m  5\u001b[39m\n",
       "\u001b[36m  \u001b[39m\n",
       "\u001b[36m  julia> length([1, 2, 3, 4])\u001b[39m\n",
       "\u001b[36m  4\u001b[39m\n",
       "\u001b[36m  \u001b[39m\n",
       "\u001b[36m  julia> length([1 2; 3 4])\u001b[39m\n",
       "\u001b[36m  4\u001b[39m\n",
       "\n",
       "  ────────────────────────────────────────────────────────────────────────────\n",
       "\n",
       "\u001b[36m  length(A::AbstractArray)\u001b[39m\n",
       "\n",
       "  Return the number of elements in the array, defaults to \u001b[36mprod(size(A))\u001b[39m.\n",
       "\n",
       "\u001b[1m  Examples\u001b[22m\n",
       "\u001b[1m  ≡≡≡≡≡≡≡≡\u001b[22m\n",
       "\n",
       "\u001b[36m  julia> length([1, 2, 3, 4])\u001b[39m\n",
       "\u001b[36m  4\u001b[39m\n",
       "\u001b[36m  \u001b[39m\n",
       "\u001b[36m  julia> length([1 2; 3 4])\u001b[39m\n",
       "\u001b[36m  4\u001b[39m\n",
       "\n",
       "  ────────────────────────────────────────────────────────────────────────────\n",
       "\n",
       "\u001b[36m  length(s::AbstractString) -> Int\u001b[39m\n",
       "\u001b[36m  length(s::AbstractString, i::Integer, j::Integer) -> Int\u001b[39m\n",
       "\n",
       "  Return the number of characters in string \u001b[36ms\u001b[39m from indices \u001b[36mi\u001b[39m through \u001b[36mj\u001b[39m.\n",
       "\n",
       "  This is computed as the number of code unit indices from \u001b[36mi\u001b[39m to \u001b[36mj\u001b[39m which are\n",
       "  valid character indices. With only a single string argument, this computes\n",
       "  the number of characters in the entire string. With \u001b[36mi\u001b[39m and \u001b[36mj\u001b[39m arguments it\n",
       "  computes the number of indices between \u001b[36mi\u001b[39m and \u001b[36mj\u001b[39m inclusive that are valid\n",
       "  indices in the string \u001b[36ms\u001b[39m. In addition to in-bounds values, \u001b[36mi\u001b[39m may take the\n",
       "  out-of-bounds value \u001b[36mncodeunits(s) + 1\u001b[39m and \u001b[36mj\u001b[39m may take the out-of-bounds value\n",
       "  \u001b[36m0\u001b[39m.\n",
       "\n",
       "\u001b[36m\u001b[1m  │ \u001b[22m\u001b[39m\u001b[36m\u001b[1mNote\u001b[22m\u001b[39m\n",
       "\u001b[36m\u001b[1m  │\u001b[22m\u001b[39m\n",
       "\u001b[36m\u001b[1m  │\u001b[22m\u001b[39m  The time complexity of this operation is linear in general. That\n",
       "\u001b[36m\u001b[1m  │\u001b[22m\u001b[39m  is, it will take the time proportional to the number of bytes or\n",
       "\u001b[36m\u001b[1m  │\u001b[22m\u001b[39m  characters in the string because it counts the value on the fly.\n",
       "\u001b[36m\u001b[1m  │\u001b[22m\u001b[39m  This is in contrast to the method for arrays, which is a\n",
       "\u001b[36m\u001b[1m  │\u001b[22m\u001b[39m  constant-time operation.\n",
       "\n",
       "  See also \u001b[36misvalid\u001b[39m, \u001b[36mncodeunits\u001b[39m, \u001b[36mlastindex\u001b[39m, \u001b[36mthisind\u001b[39m, \u001b[36mnextind\u001b[39m, \u001b[36mprevind\u001b[39m.\n",
       "\n",
       "\u001b[1m  Examples\u001b[22m\n",
       "\u001b[1m  ≡≡≡≡≡≡≡≡\u001b[22m\n",
       "\n",
       "\u001b[36m  julia> length(\"jμΛIα\")\u001b[39m\n",
       "\u001b[36m  5\u001b[39m"
      ]
     },
     "execution_count": 3,
     "metadata": {},
     "output_type": "execute_result"
    }
   ],
   "source": [
    "?length"
   ]
  },
  {
   "cell_type": "markdown",
   "id": "c59cd232",
   "metadata": {},
   "source": [
    "Here is a quick intro to `logging` in Julia, as a way to help your coding."
   ]
  },
  {
   "cell_type": "code",
   "execution_count": 4,
   "id": "461b8278",
   "metadata": {},
   "outputs": [],
   "source": [
    "# Set up a logger, which we can use for debug messages\n",
    "using Logging\n",
    "debug_logger=ConsoleLogger(stderr, Logging.Debug);"
   ]
  },
  {
   "cell_type": "code",
   "execution_count": 5,
   "id": "77895de2",
   "metadata": {},
   "outputs": [
    {
     "data": {
      "text/plain": [
       "addnumbers (generic function with 1 method)"
      ]
     },
     "execution_count": 5,
     "metadata": {},
     "output_type": "execute_result"
    }
   ],
   "source": [
    "function addnumbers(a,b)\n",
    "    @debug \"addnumbers called with arguments\" a b\n",
    "    result=a+b\n",
    "    @debug \"calculated result as\" result\n",
    "    return result\n",
    "end"
   ]
  },
  {
   "cell_type": "markdown",
   "id": "d9b8c15e",
   "metadata": {},
   "source": [
    "Under normal evaluation those `@debug` statements are essentially ignored.  They should not greatly affect the code speed, so feel free to liberally add them.  You can always remove them later."
   ]
  },
  {
   "cell_type": "code",
   "execution_count": 6,
   "id": "95f90738",
   "metadata": {},
   "outputs": [
    {
     "data": {
      "text/plain": [
       "5"
      ]
     },
     "execution_count": 6,
     "metadata": {},
     "output_type": "execute_result"
    }
   ],
   "source": [
    "addnumbers(2,3)"
   ]
  },
  {
   "cell_type": "markdown",
   "id": "b0f93e29",
   "metadata": {},
   "source": [
    "When you wrap your code inside a `with_logger` environment the debug messages are sent to `stderr` -- which in a Jupyter notebook appears in a red box."
   ]
  },
  {
   "cell_type": "code",
   "execution_count": 7,
   "id": "a64c7482",
   "metadata": {},
   "outputs": [
    {
     "name": "stderr",
     "output_type": "stream",
     "text": [
      "\u001b[34m\u001b[1m┌ \u001b[22m\u001b[39m\u001b[34m\u001b[1mDebug: \u001b[22m\u001b[39maddnumbers called with arguments\n",
      "\u001b[34m\u001b[1m│ \u001b[22m\u001b[39m  a = 2\n",
      "\u001b[34m\u001b[1m│ \u001b[22m\u001b[39m  b = 3\n",
      "\u001b[34m\u001b[1m└ \u001b[22m\u001b[39m\u001b[90m@ Main In[5]:2\u001b[39m\n",
      "\u001b[34m\u001b[1m┌ \u001b[22m\u001b[39m\u001b[34m\u001b[1mDebug: \u001b[22m\u001b[39mcalculated result as\n",
      "\u001b[34m\u001b[1m│ \u001b[22m\u001b[39m  result = 5\n",
      "\u001b[34m\u001b[1m└ \u001b[22m\u001b[39m\u001b[90m@ Main In[5]:4\u001b[39m\n"
     ]
    },
    {
     "data": {
      "text/plain": [
       "5"
      ]
     },
     "execution_count": 7,
     "metadata": {},
     "output_type": "execute_result"
    }
   ],
   "source": [
    "with_logger(debug_logger) do # Enable the debug logger locally\n",
    "    addnumbers(2,3)\n",
    "end"
   ]
  },
  {
   "cell_type": "markdown",
   "id": "6a08237c",
   "metadata": {},
   "source": [
    "You can turn on/off the display line numbers with the option in the `View` menu"
   ]
  },
  {
   "cell_type": "markdown",
   "id": "95ca8082",
   "metadata": {},
   "source": [
    "Another useful technique is to use `println`"
   ]
  },
  {
   "cell_type": "code",
   "execution_count": 8,
   "id": "ed237c24",
   "metadata": {},
   "outputs": [
    {
     "data": {
      "text/plain": [
       "addnumbers (generic function with 1 method)"
      ]
     },
     "execution_count": 8,
     "metadata": {},
     "output_type": "execute_result"
    }
   ],
   "source": [
    "function addnumbers(a,b)\n",
    "    println(\"addnumbers called with arguments $a and $b\")\n",
    "    result=a+b\n",
    "    println(\"calculated result as $result\")\n",
    "    return result\n",
    "end"
   ]
  },
  {
   "cell_type": "code",
   "execution_count": 9,
   "id": "58a5a324",
   "metadata": {},
   "outputs": [
    {
     "name": "stdout",
     "output_type": "stream",
     "text": [
      "addnumbers called with arguments 2 and 3\n",
      "calculated result as 5\n"
     ]
    },
    {
     "data": {
      "text/plain": [
       "5"
      ]
     },
     "execution_count": 9,
     "metadata": {},
     "output_type": "execute_result"
    }
   ],
   "source": [
    "addnumbers(2,3)"
   ]
  },
  {
   "cell_type": "markdown",
   "id": "21b16920",
   "metadata": {},
   "source": [
    "It is also useful to add return statements to exit prematurely"
   ]
  },
  {
   "cell_type": "code",
   "execution_count": 10,
   "id": "d9d1e991",
   "metadata": {},
   "outputs": [
    {
     "data": {
      "text/plain": [
       "addnumbers (generic function with 1 method)"
      ]
     },
     "execution_count": 10,
     "metadata": {},
     "output_type": "execute_result"
    }
   ],
   "source": [
    "function addnumbers(a,b)\n",
    "    println(\"addnumbers called with arguments $a and $b\")\n",
    "    return (a,b) #exit prematurely, and return (a,b)\n",
    "    result=a+b\n",
    "    println(\"calculated result as $result\")\n",
    "    return result\n",
    "end"
   ]
  },
  {
   "cell_type": "code",
   "execution_count": 11,
   "id": "fc813a87",
   "metadata": {},
   "outputs": [
    {
     "name": "stdout",
     "output_type": "stream",
     "text": [
      "addnumbers called with arguments 2 and 3\n"
     ]
    },
    {
     "data": {
      "text/plain": [
       "(2, 3)"
      ]
     },
     "execution_count": 11,
     "metadata": {},
     "output_type": "execute_result"
    }
   ],
   "source": [
    "addnumbers(2,3)"
   ]
  },
  {
   "cell_type": "markdown",
   "id": "4f69ba97",
   "metadata": {},
   "source": [
    "### Group Debugging"
   ]
  },
  {
   "cell_type": "markdown",
   "id": "c5a6469a",
   "metadata": {},
   "source": [
    "Having trouble with some code?  I will circulate to help you.  Post the problem code to *Ed Discussions* (linked through the Canvas site), and we can debug it as a class. This is a great way to work on debugging skills."
   ]
  },
  {
   "cell_type": "markdown",
   "id": "474352e0",
   "metadata": {},
   "source": [
    "In our first lecture we developed tools for numerical integration, with the goal of being able to calculate the period of the pendulum using\n",
    "\n",
    "$$\n",
    "\\bar T =\\frac{T}{T_0}=\\frac{\\sqrt{2}}{\\pi}\\int_0^{\\theta_m}\\frac{d\\theta}{\\sqrt{\\cos(\\theta)-\\cos(\\theta_m)}}\n",
    "$$\n",
    "where\n",
    "$$\n",
    "T_{0}=2\\pi \\frac{L}{g}.\n",
    "$$\n",
    "\n",
    "We developed tools to use the Trapezoid Rule to carry out integration like this.  Unfortunately these tools will not directly work here, because the integrand diverges.  In this lab you will explore two complementary ways to get around this problem:\n",
    "\n",
    "1. **Midpoint Rule:**  You will develop code which will calculate the period using an algorithm that does not require evaluating the integrand at the end points.\n",
    "2. **Change of variables:** You will introduce a change of variables which eliminates the divergence.\n",
    "\n",
    "By itself, using the midpoint rule will not suffice to solve our problems, as the resulting numerical integral will converge very slowly.  The change of variables, however, will accelerate convergence.  \n",
    "\n",
    "After solving the technical problems, you will try to understand the behavior of period."
   ]
  },
  {
   "cell_type": "code",
   "execution_count": 12,
   "id": "a5ff5a20",
   "metadata": {},
   "outputs": [],
   "source": [
    "using Plots,LaTeXStrings #load in visualization software"
   ]
  },
  {
   "cell_type": "markdown",
   "id": "c74182eb",
   "metadata": {},
   "source": [
    "The midpoint rule involves breaking an integral into a series of rectangles.  Here is some code that generates an illustrative diagram"
   ]
  },
  {
   "cell_type": "code",
   "execution_count": 13,
   "id": "0bc14451",
   "metadata": {},
   "outputs": [
    {
     "data": {
      "text/plain": [
       "showmidpoint"
      ]
     },
     "execution_count": 13,
     "metadata": {},
     "output_type": "execute_result"
    }
   ],
   "source": [
    "\"\"\"\n",
    "    showmidpoint(f,range=(0,1),n=5;opts...)\n",
    "\n",
    "Illustrates midpoint rule by plotting the function `f` over the range specified by `range`.\n",
    "Show `n` rectangles overlayed.  Passes on options `opts` to the plot command.\n",
    "\"\"\"\n",
    "function showmidpoint(f,range=(0,1),n=5;opts...)\n",
    "    # define variables\n",
    "    xmin=range[1]\n",
    "    xmax=range[2]\n",
    "    # Create basic plot of function\n",
    "    plt=plot(f,xmin,xmax,xlabel=\"x\",ylabel=\"f\",legend=false,show=false,opts...)\n",
    "    #\n",
    "    # Draw rectangles\n",
    "    #\n",
    "    function rectangle(j)\n",
    "        width=(xmax-xmin)/n\n",
    "        x1=(j-1)*width\n",
    "        x2=j*width\n",
    "        y1=f((x1+x2)/2)\n",
    "        y2=y1\n",
    "        Shape([x1, x1, x2, x2],[0,y1,y2,0])\n",
    "    end\n",
    "    for j in 1:n\n",
    "        plot!(rectangle(j),opacity=0.2)\n",
    "    end\n",
    "    plt\n",
    "end"
   ]
  },
  {
   "cell_type": "code",
   "execution_count": 14,
   "id": "a279921f",
   "metadata": {
    "scrolled": true
   },
   "outputs": [
    {
     "data": {
      "image/png": "[encoded data removed]",
      "image/svg+xml": [
       "<?xml version=\"1.0\" encoding=\"utf-8\"?>\n",
       "<svg xmlns=\"http://www.w3.org/2000/svg\" xmlns:xlink=\"http://www.w3.org/1999/xlink\" width=\"600\" height=\"400\" viewBox=\"0 0 2400 1600\">\n",
       "<defs>\n",
       "  <clipPath id=\"clip770\">\n",
       "    <rect x=\"0\" y=\"0\" width=\"2400\" height=\"1600\"/>\n",
       "  </clipPath>\n",
       "</defs>\n",
       "<path clip-path=\"url(#clip770)\" d=\"M0 1600 L2400 1600 L2400 8.88178e-14 L0 8.88178e-14  Z\" fill=\"#ffffff\" fill-rule=\"evenodd\" fill-opacity=\"1\"/>\n",
       "<defs>\n",
       "  <clipPath id=\"clip771\">\n",
       "    <rect x=\"480\" y=\"0\" width=\"1681\" height=\"1600\"/>\n",
       "  </clipPath>\n",
       "</defs>\n",
       "<path clip-path=\"url(#clip770)\" d=\"M249.542 1423.18 L2352.76 1423.18 L2352.76 47.2441 L249.542 47.2441  Z\" fill=\"#ffffff\" fill-rule=\"evenodd\" fill-opacity=\"1\"/>\n",
       "<defs>\n",
       "  <clipPath id=\"clip772\">\n",
       "    <rect x=\"249\" y=\"47\" width=\"2104\" height=\"1377\"/>\n",
       "  </clipPath>\n",
       "</defs>\n",
       "<polyline clip-path=\"url(#clip772)\" style=\"stroke:#000000; stroke-linecap:round; stroke-linejoin:round; stroke-width:2; stroke-opacity:0.1; fill:none\" points=\"309.067,1423.18 309.067,47.2441 \"/>\n",
       "<polyline clip-path=\"url(#clip772)\" style=\"stroke:#000000; stroke-linecap:round; stroke-linejoin:round; stroke-width:2; stroke-opacity:0.1; fill:none\" points=\"805.108,1423.18 805.108,47.2441 \"/>\n",
       "<polyline clip-path=\"url(#clip772)\" style=\"stroke:#000000; stroke-linecap:round; stroke-linejoin:round; stroke-width:2; stroke-opacity:0.1; fill:none\" points=\"1301.15,1423.18 1301.15,47.2441 \"/>\n",
       "<polyline clip-path=\"url(#clip772)\" style=\"stroke:#000000; stroke-linecap:round; stroke-linejoin:round; stroke-width:2; stroke-opacity:0.1; fill:none\" points=\"1797.19,1423.18 1797.19,47.2441 \"/>\n",
       "<polyline clip-path=\"url(#clip772)\" style=\"stroke:#000000; stroke-linecap:round; stroke-linejoin:round; stroke-width:2; stroke-opacity:0.1; fill:none\" points=\"2293.23,1423.18 2293.23,47.2441 \"/>\n",
       "<polyline clip-path=\"url(#clip772)\" style=\"stroke:#000000; stroke-linecap:round; stroke-linejoin:round; stroke-width:2; stroke-opacity:0.1; fill:none\" points=\"249.542,1384.24 2352.76,1384.24 \"/>\n",
       "<polyline clip-path=\"url(#clip772)\" style=\"stroke:#000000; stroke-linecap:round; stroke-linejoin:round; stroke-width:2; stroke-opacity:0.1; fill:none\" points=\"249.542,1059.73 2352.76,1059.73 \"/>\n",
       "<polyline clip-path=\"url(#clip772)\" style=\"stroke:#000000; stroke-linecap:round; stroke-linejoin:round; stroke-width:2; stroke-opacity:0.1; fill:none\" points=\"249.542,735.212 2352.76,735.212 \"/>\n",
       "<polyline clip-path=\"url(#clip772)\" style=\"stroke:#000000; stroke-linecap:round; stroke-linejoin:round; stroke-width:2; stroke-opacity:0.1; fill:none\" points=\"249.542,410.699 2352.76,410.699 \"/>\n",
       "<polyline clip-path=\"url(#clip772)\" style=\"stroke:#000000; stroke-linecap:round; stroke-linejoin:round; stroke-width:2; stroke-opacity:0.1; fill:none\" points=\"249.542,86.1857 2352.76,86.1857 \"/>\n",
       "<polyline clip-path=\"url(#clip770)\" style=\"stroke:#000000; stroke-linecap:round; stroke-linejoin:round; stroke-width:4; stroke-opacity:1; fill:none\" points=\"249.542,1423.18 2352.76,1423.18 \"/>\n",
       "<polyline clip-path=\"url(#clip770)\" style=\"stroke:#000000; stroke-linecap:round; stroke-linejoin:round; stroke-width:4; stroke-opacity:1; fill:none\" points=\"309.067,1423.18 309.067,1404.28 \"/>\n",
       "<polyline clip-path=\"url(#clip770)\" style=\"stroke:#000000; stroke-linecap:round; stroke-linejoin:round; stroke-width:4; stroke-opacity:1; fill:none\" points=\"805.108,1423.18 805.108,1404.28 \"/>\n",
       "<polyline clip-path=\"url(#clip770)\" style=\"stroke:#000000; stroke-linecap:round; stroke-linejoin:round; stroke-width:4; stroke-opacity:1; fill:none\" points=\"1301.15,1423.18 1301.15,1404.28 \"/>\n",
       "<polyline clip-path=\"url(#clip770)\" style=\"stroke:#000000; stroke-linecap:round; stroke-linejoin:round; stroke-width:4; stroke-opacity:1; fill:none\" points=\"1797.19,1423.18 1797.19,1404.28 \"/>\n",
       "<polyline clip-path=\"url(#clip770)\" style=\"stroke:#000000; stroke-linecap:round; stroke-linejoin:round; stroke-width:4; stroke-opacity:1; fill:none\" points=\"2293.23,1423.18 2293.23,1404.28 \"/>\n",
       "<path clip-path=\"url(#clip770)\" d=\"M271.37 1454.1 Q267.759 1454.1 265.931 1457.66 Q264.125 1461.2 264.125 1468.33 Q264.125 1475.44 265.931 1479.01 Q267.759 1482.55 271.37 1482.55 Q275.005 1482.55 276.81 1479.01 Q278.639 1475.44 278.639 1468.33 Q278.639 1461.2 276.81 1457.66 Q275.005 1454.1 271.37 1454.1 M271.37 1450.39 Q277.181 1450.39 280.236 1455 Q283.315 1459.58 283.315 1468.33 Q283.315 1477.06 280.236 1481.67 Q277.181 1486.25 271.37 1486.25 Q265.56 1486.25 262.482 1481.67 Q259.426 1477.06 259.426 1468.33 Q259.426 1459.58 262.482 1455 Q265.56 1450.39 271.37 1450.39 Z\" fill=\"#000000\" fill-rule=\"nonzero\" fill-opacity=\"1\" /><path clip-path=\"url(#clip770)\" d=\"M291.532 1479.7 L296.417 1479.7 L296.417 1485.58 L291.532 1485.58 L291.532 1479.7 Z\" fill=\"#000000\" fill-rule=\"nonzero\" fill-opacity=\"1\" /><path clip-path=\"url(#clip770)\" d=\"M316.602 1454.1 Q312.991 1454.1 311.162 1457.66 Q309.356 1461.2 309.356 1468.33 Q309.356 1475.44 311.162 1479.01 Q312.991 1482.55 316.602 1482.55 Q320.236 1482.55 322.041 1479.01 Q323.87 1475.44 323.87 1468.33 Q323.87 1461.2 322.041 1457.66 Q320.236 1454.1 316.602 1454.1 M316.602 1450.39 Q322.412 1450.39 325.467 1455 Q328.546 1459.58 328.546 1468.33 Q328.546 1477.06 325.467 1481.67 Q322.412 1486.25 316.602 1486.25 Q310.791 1486.25 307.713 1481.67 Q304.657 1477.06 304.657 1468.33 Q304.657 1459.58 307.713 1455 Q310.791 1450.39 316.602 1450.39 Z\" fill=\"#000000\" fill-rule=\"nonzero\" fill-opacity=\"1\" /><path clip-path=\"url(#clip770)\" d=\"M346.764 1454.1 Q343.152 1454.1 341.324 1457.66 Q339.518 1461.2 339.518 1468.33 Q339.518 1475.44 341.324 1479.01 Q343.152 1482.55 346.764 1482.55 Q350.398 1482.55 352.203 1479.01 Q354.032 1475.44 354.032 1468.33 Q354.032 1461.2 352.203 1457.66 Q350.398 1454.1 346.764 1454.1 M346.764 1450.39 Q352.574 1450.39 355.629 1455 Q358.708 1459.58 358.708 1468.33 Q358.708 1477.06 355.629 1481.67 Q352.574 1486.25 346.764 1486.25 Q340.953 1486.25 337.875 1481.67 Q334.819 1477.06 334.819 1468.33 Q334.819 1459.58 337.875 1455 Q340.953 1450.39 346.764 1450.39 Z\" fill=\"#000000\" fill-rule=\"nonzero\" fill-opacity=\"1\" /><path clip-path=\"url(#clip770)\" d=\"M767.909 1454.1 Q764.298 1454.1 762.469 1457.66 Q760.664 1461.2 760.664 1468.33 Q760.664 1475.44 762.469 1479.01 Q764.298 1482.55 767.909 1482.55 Q771.543 1482.55 773.349 1479.01 Q775.178 1475.44 775.178 1468.33 Q775.178 1461.2 773.349 1457.66 Q771.543 1454.1 767.909 1454.1 M767.909 1450.39 Q773.719 1450.39 776.775 1455 Q779.853 1459.58 779.853 1468.33 Q779.853 1477.06 776.775 1481.67 Q773.719 1486.25 767.909 1486.25 Q762.099 1486.25 759.02 1481.67 Q755.965 1477.06 755.965 1468.33 Q755.965 1459.58 759.02 1455 Q762.099 1450.39 767.909 1450.39 Z\" fill=\"#000000\" fill-rule=\"nonzero\" fill-opacity=\"1\" /><path clip-path=\"url(#clip770)\" d=\"M788.071 1479.7 L792.955 1479.7 L792.955 1485.58 L788.071 1485.58 L788.071 1479.7 Z\" fill=\"#000000\" fill-rule=\"nonzero\" fill-opacity=\"1\" /><path clip-path=\"url(#clip770)\" d=\"M807.168 1481.64 L823.487 1481.64 L823.487 1485.58 L801.543 1485.58 L801.543 1481.64 Q804.205 1478.89 808.788 1474.26 Q813.395 1469.61 814.576 1468.27 Q816.821 1465.74 817.7 1464.01 Q818.603 1462.25 818.603 1460.56 Q818.603 1457.8 816.659 1456.07 Q814.738 1454.33 811.636 1454.33 Q809.437 1454.33 806.983 1455.09 Q804.552 1455.86 801.775 1457.41 L801.775 1452.69 Q804.599 1451.55 807.052 1450.97 Q809.506 1450.39 811.543 1450.39 Q816.913 1450.39 820.108 1453.08 Q823.302 1455.77 823.302 1460.26 Q823.302 1462.39 822.492 1464.31 Q821.705 1466.2 819.599 1468.8 Q819.02 1469.47 815.918 1472.69 Q812.816 1475.88 807.168 1481.64 Z\" fill=\"#000000\" fill-rule=\"nonzero\" fill-opacity=\"1\" /><path clip-path=\"url(#clip770)\" d=\"M833.349 1451.02 L851.705 1451.02 L851.705 1454.96 L837.631 1454.96 L837.631 1463.43 Q838.649 1463.08 839.668 1462.92 Q840.686 1462.73 841.705 1462.73 Q847.492 1462.73 850.872 1465.9 Q854.251 1469.08 854.251 1474.49 Q854.251 1480.07 850.779 1483.17 Q847.307 1486.25 840.987 1486.25 Q838.811 1486.25 836.543 1485.88 Q834.298 1485.51 831.89 1484.77 L831.89 1480.07 Q833.974 1481.2 836.196 1481.76 Q838.418 1482.32 840.895 1482.32 Q844.899 1482.32 847.237 1480.21 Q849.575 1478.1 849.575 1474.49 Q849.575 1470.88 847.237 1468.77 Q844.899 1466.67 840.895 1466.67 Q839.02 1466.67 837.145 1467.08 Q835.293 1467.5 833.349 1468.38 L833.349 1451.02 Z\" fill=\"#000000\" fill-rule=\"nonzero\" fill-opacity=\"1\" /><path clip-path=\"url(#clip770)\" d=\"M1263.45 1454.1 Q1259.84 1454.1 1258.01 1457.66 Q1256.21 1461.2 1256.21 1468.33 Q1256.21 1475.44 1258.01 1479.01 Q1259.84 1482.55 1263.45 1482.55 Q1267.09 1482.55 1268.89 1479.01 Q1270.72 1475.44 1270.72 1468.33 Q1270.72 1461.2 1268.89 1457.66 Q1267.09 1454.1 1263.45 1454.1 M1263.45 1450.39 Q1269.26 1450.39 1272.32 1455 Q1275.4 1459.58 1275.4 1468.33 Q1275.4 1477.06 1272.32 1481.67 Q1269.26 1486.25 1263.45 1486.25 Q1257.64 1486.25 1254.56 1481.67 Q1251.51 1477.06 1251.51 1468.33 Q1251.51 1459.58 1254.56 1455 Q1257.64 1450.39 1263.45 1450.39 Z\" fill=\"#000000\" fill-rule=\"nonzero\" fill-opacity=\"1\" /><path clip-path=\"url(#clip770)\" d=\"M1283.61 1479.7 L1288.5 1479.7 L1288.5 1485.58 L1283.61 1485.58 L1283.61 1479.7 Z\" fill=\"#000000\" fill-rule=\"nonzero\" fill-opacity=\"1\" /><path clip-path=\"url(#clip770)\" d=\"M1298.73 1451.02 L1317.09 1451.02 L1317.09 1454.96 L1303.01 1454.96 L1303.01 1463.43 Q1304.03 1463.08 1305.05 1462.92 Q1306.07 1462.73 1307.09 1462.73 Q1312.87 1462.73 1316.25 1465.9 Q1319.63 1469.08 1319.63 1474.49 Q1319.63 1480.07 1316.16 1483.17 Q1312.69 1486.25 1306.37 1486.25 Q1304.19 1486.25 1301.92 1485.88 Q1299.68 1485.51 1297.27 1484.77 L1297.27 1480.07 Q1299.35 1481.2 1301.58 1481.76 Q1303.8 1482.32 1306.28 1482.32 Q1310.28 1482.32 1312.62 1480.21 Q1314.96 1478.1 1314.96 1474.49 Q1314.96 1470.88 1312.62 1468.77 Q1310.28 1466.67 1306.28 1466.67 Q1304.4 1466.67 1302.53 1467.08 Q1300.67 1467.5 1298.73 1468.38 L1298.73 1451.02 Z\" fill=\"#000000\" fill-rule=\"nonzero\" fill-opacity=\"1\" /><path clip-path=\"url(#clip770)\" d=\"M1338.85 1454.1 Q1335.23 1454.1 1333.41 1457.66 Q1331.6 1461.2 1331.6 1468.33 Q1331.6 1475.44 1333.41 1479.01 Q1335.23 1482.55 1338.85 1482.55 Q1342.48 1482.55 1344.29 1479.01 Q1346.11 1475.44 1346.11 1468.33 Q1346.11 1461.2 1344.29 1457.66 Q1342.48 1454.1 1338.85 1454.1 M1338.85 1450.39 Q1344.66 1450.39 1347.71 1455 Q1350.79 1459.58 1350.79 1468.33 Q1350.79 1477.06 1347.71 1481.67 Q1344.66 1486.25 1338.85 1486.25 Q1333.04 1486.25 1329.96 1481.67 Q1326.9 1477.06 1326.9 1468.33 Q1326.9 1459.58 1329.96 1455 Q1333.04 1450.39 1338.85 1450.39 Z\" fill=\"#000000\" fill-rule=\"nonzero\" fill-opacity=\"1\" /><path clip-path=\"url(#clip770)\" d=\"M1759.99 1454.1 Q1756.38 1454.1 1754.55 1457.66 Q1752.75 1461.2 1752.75 1468.33 Q1752.75 1475.44 1754.55 1479.01 Q1756.38 1482.55 1759.99 1482.55 Q1763.63 1482.55 1765.43 1479.01 Q1767.26 1475.44 1767.26 1468.33 Q1767.26 1461.2 1765.43 1457.66 Q1763.63 1454.1 1759.99 1454.1 M1759.99 1450.39 Q1765.8 1450.39 1768.86 1455 Q1771.94 1459.58 1771.94 1468.33 Q1771.94 1477.06 1768.86 1481.67 Q1765.8 1486.25 1759.99 1486.25 Q1754.18 1486.25 1751.1 1481.67 Q1748.05 1477.06 1748.05 1468.33 Q1748.05 1459.58 1751.1 1455 Q1754.18 1450.39 1759.99 1450.39 Z\" fill=\"#000000\" fill-rule=\"nonzero\" fill-opacity=\"1\" /><path clip-path=\"url(#clip770)\" d=\"M1780.15 1479.7 L1785.04 1479.7 L1785.04 1485.58 L1780.15 1485.58 L1780.15 1479.7 Z\" fill=\"#000000\" fill-rule=\"nonzero\" fill-opacity=\"1\" /><path clip-path=\"url(#clip770)\" d=\"M1794.04 1451.02 L1816.26 1451.02 L1816.26 1453.01 L1803.72 1485.58 L1798.83 1485.58 L1810.64 1454.96 L1794.04 1454.96 L1794.04 1451.02 Z\" fill=\"#000000\" fill-rule=\"nonzero\" fill-opacity=\"1\" /><path clip-path=\"url(#clip770)\" d=\"M1825.43 1451.02 L1843.79 1451.02 L1843.79 1454.96 L1829.71 1454.96 L1829.71 1463.43 Q1830.73 1463.08 1831.75 1462.92 Q1832.77 1462.73 1833.79 1462.73 Q1839.57 1462.73 1842.95 1465.9 Q1846.33 1469.08 1846.33 1474.49 Q1846.33 1480.07 1842.86 1483.17 Q1839.39 1486.25 1833.07 1486.25 Q1830.89 1486.25 1828.62 1485.88 Q1826.38 1485.51 1823.97 1484.77 L1823.97 1480.07 Q1826.06 1481.2 1828.28 1481.76 Q1830.5 1482.32 1832.98 1482.32 Q1836.98 1482.32 1839.32 1480.21 Q1841.66 1478.1 1841.66 1474.49 Q1841.66 1470.88 1839.32 1468.77 Q1836.98 1466.67 1832.98 1466.67 Q1831.1 1466.67 1829.23 1467.08 Q1827.38 1467.5 1825.43 1468.38 L1825.43 1451.02 Z\" fill=\"#000000\" fill-rule=\"nonzero\" fill-opacity=\"1\" /><path clip-path=\"url(#clip770)\" d=\"M2245.3 1481.64 L2252.94 1481.64 L2252.94 1455.28 L2244.63 1456.95 L2244.63 1452.69 L2252.9 1451.02 L2257.57 1451.02 L2257.57 1481.64 L2265.21 1481.64 L2265.21 1485.58 L2245.3 1485.58 L2245.3 1481.64 Z\" fill=\"#000000\" fill-rule=\"nonzero\" fill-opacity=\"1\" /><path clip-path=\"url(#clip770)\" d=\"M2274.65 1479.7 L2279.54 1479.7 L2279.54 1485.58 L2274.65 1485.58 L2274.65 1479.7 Z\" fill=\"#000000\" fill-rule=\"nonzero\" fill-opacity=\"1\" /><path clip-path=\"url(#clip770)\" d=\"M2299.72 1454.1 Q2296.11 1454.1 2294.28 1457.66 Q2292.48 1461.2 2292.48 1468.33 Q2292.48 1475.44 2294.28 1479.01 Q2296.11 1482.55 2299.72 1482.55 Q2303.36 1482.55 2305.16 1479.01 Q2306.99 1475.44 2306.99 1468.33 Q2306.99 1461.2 2305.16 1457.66 Q2303.36 1454.1 2299.72 1454.1 M2299.72 1450.39 Q2305.53 1450.39 2308.59 1455 Q2311.67 1459.58 2311.67 1468.33 Q2311.67 1477.06 2308.59 1481.67 Q2305.53 1486.25 2299.72 1486.25 Q2293.91 1486.25 2290.84 1481.67 Q2287.78 1477.06 2287.78 1468.33 Q2287.78 1459.58 2290.84 1455 Q2293.91 1450.39 2299.72 1450.39 Z\" fill=\"#000000\" fill-rule=\"nonzero\" fill-opacity=\"1\" /><path clip-path=\"url(#clip770)\" d=\"M2329.89 1454.1 Q2326.27 1454.1 2324.45 1457.66 Q2322.64 1461.2 2322.64 1468.33 Q2322.64 1475.44 2324.45 1479.01 Q2326.27 1482.55 2329.89 1482.55 Q2333.52 1482.55 2335.33 1479.01 Q2337.15 1475.44 2337.15 1468.33 Q2337.15 1461.2 2335.33 1457.66 Q2333.52 1454.1 2329.89 1454.1 M2329.89 1450.39 Q2335.7 1450.39 2338.75 1455 Q2341.83 1459.58 2341.83 1468.33 Q2341.83 1477.06 2338.75 1481.67 Q2335.7 1486.25 2329.89 1486.25 Q2324.08 1486.25 2321 1481.67 Q2317.94 1477.06 2317.94 1468.33 Q2317.94 1459.58 2321 1455 Q2324.08 1450.39 2329.89 1450.39 Z\" fill=\"#000000\" fill-rule=\"nonzero\" fill-opacity=\"1\" /><path clip-path=\"url(#clip770)\" d=\"M1317.76 1532.4 L1304.87 1549.74 L1318.43 1568.04 L1311.53 1568.04 L1301.15 1554.04 L1290.77 1568.04 L1283.87 1568.04 L1297.71 1549.39 L1285.04 1532.4 L1291.95 1532.4 L1301.4 1545.1 L1310.86 1532.4 L1317.76 1532.4 Z\" fill=\"#000000\" fill-rule=\"nonzero\" fill-opacity=\"1\" /><polyline clip-path=\"url(#clip770)\" style=\"stroke:#000000; stroke-linecap:round; stroke-linejoin:round; stroke-width:4; stroke-opacity:1; fill:none\" points=\"249.542,1423.18 249.542,47.2441 \"/>\n",
       "<polyline clip-path=\"url(#clip770)\" style=\"stroke:#000000; stroke-linecap:round; stroke-linejoin:round; stroke-width:4; stroke-opacity:1; fill:none\" points=\"249.542,1384.24 268.44,1384.24 \"/>\n",
       "<polyline clip-path=\"url(#clip770)\" style=\"stroke:#000000; stroke-linecap:round; stroke-linejoin:round; stroke-width:4; stroke-opacity:1; fill:none\" points=\"249.542,1059.73 268.44,1059.73 \"/>\n",
       "<polyline clip-path=\"url(#clip770)\" style=\"stroke:#000000; stroke-linecap:round; stroke-linejoin:round; stroke-width:4; stroke-opacity:1; fill:none\" points=\"249.542,735.212 268.44,735.212 \"/>\n",
       "<polyline clip-path=\"url(#clip770)\" style=\"stroke:#000000; stroke-linecap:round; stroke-linejoin:round; stroke-width:4; stroke-opacity:1; fill:none\" points=\"249.542,410.699 268.44,410.699 \"/>\n",
       "<polyline clip-path=\"url(#clip770)\" style=\"stroke:#000000; stroke-linecap:round; stroke-linejoin:round; stroke-width:4; stroke-opacity:1; fill:none\" points=\"249.542,86.1857 268.44,86.1857 \"/>\n",
       "<path clip-path=\"url(#clip770)\" d=\"M126.205 1370.04 Q122.593 1370.04 120.765 1373.6 Q118.959 1377.14 118.959 1384.27 Q118.959 1391.38 120.765 1394.94 Q122.593 1398.49 126.205 1398.49 Q129.839 1398.49 131.644 1394.94 Q133.473 1391.38 133.473 1384.27 Q133.473 1377.14 131.644 1373.6 Q129.839 1370.04 126.205 1370.04 M126.205 1366.33 Q132.015 1366.33 135.07 1370.94 Q138.149 1375.52 138.149 1384.27 Q138.149 1393 135.07 1397.61 Q132.015 1402.19 126.205 1402.19 Q120.394 1402.19 117.316 1397.61 Q114.26 1393 114.26 1384.27 Q114.26 1375.52 117.316 1370.94 Q120.394 1366.33 126.205 1366.33 Z\" fill=\"#000000\" fill-rule=\"nonzero\" fill-opacity=\"1\" /><path clip-path=\"url(#clip770)\" d=\"M146.366 1395.64 L151.251 1395.64 L151.251 1401.52 L146.366 1401.52 L146.366 1395.64 Z\" fill=\"#000000\" fill-rule=\"nonzero\" fill-opacity=\"1\" /><path clip-path=\"url(#clip770)\" d=\"M171.436 1370.04 Q167.825 1370.04 165.996 1373.6 Q164.19 1377.14 164.19 1384.27 Q164.19 1391.38 165.996 1394.94 Q167.825 1398.49 171.436 1398.49 Q175.07 1398.49 176.876 1394.94 Q178.704 1391.38 178.704 1384.27 Q178.704 1377.14 176.876 1373.6 Q175.07 1370.04 171.436 1370.04 M171.436 1366.33 Q177.246 1366.33 180.301 1370.94 Q183.38 1375.52 183.38 1384.27 Q183.38 1393 180.301 1397.61 Q177.246 1402.19 171.436 1402.19 Q165.626 1402.19 162.547 1397.61 Q159.491 1393 159.491 1384.27 Q159.491 1375.52 162.547 1370.94 Q165.626 1366.33 171.436 1366.33 Z\" fill=\"#000000\" fill-rule=\"nonzero\" fill-opacity=\"1\" /><path clip-path=\"url(#clip770)\" d=\"M201.598 1370.04 Q197.987 1370.04 196.158 1373.6 Q194.352 1377.14 194.352 1384.27 Q194.352 1391.38 196.158 1394.94 Q197.987 1398.49 201.598 1398.49 Q205.232 1398.49 207.037 1394.94 Q208.866 1391.38 208.866 1384.27 Q208.866 1377.14 207.037 1373.6 Q205.232 1370.04 201.598 1370.04 M201.598 1366.33 Q207.408 1366.33 210.463 1370.94 Q213.542 1375.52 213.542 1384.27 Q213.542 1393 210.463 1397.61 Q207.408 1402.19 201.598 1402.19 Q195.787 1402.19 192.709 1397.61 Q189.653 1393 189.653 1384.27 Q189.653 1375.52 192.709 1370.94 Q195.787 1366.33 201.598 1366.33 Z\" fill=\"#000000\" fill-rule=\"nonzero\" fill-opacity=\"1\" /><path clip-path=\"url(#clip770)\" d=\"M127.2 1045.52 Q123.589 1045.52 121.76 1049.09 Q119.955 1052.63 119.955 1059.76 Q119.955 1066.87 121.76 1070.43 Q123.589 1073.97 127.2 1073.97 Q130.834 1073.97 132.64 1070.43 Q134.468 1066.87 134.468 1059.76 Q134.468 1052.63 132.64 1049.09 Q130.834 1045.52 127.2 1045.52 M127.2 1041.82 Q133.01 1041.82 136.066 1046.43 Q139.144 1051.01 139.144 1059.76 Q139.144 1068.49 136.066 1073.09 Q133.01 1077.68 127.2 1077.68 Q121.39 1077.68 118.311 1073.09 Q115.256 1068.49 115.256 1059.76 Q115.256 1051.01 118.311 1046.43 Q121.39 1041.82 127.2 1041.82 Z\" fill=\"#000000\" fill-rule=\"nonzero\" fill-opacity=\"1\" /><path clip-path=\"url(#clip770)\" d=\"M147.362 1071.13 L152.246 1071.13 L152.246 1077.01 L147.362 1077.01 L147.362 1071.13 Z\" fill=\"#000000\" fill-rule=\"nonzero\" fill-opacity=\"1\" /><path clip-path=\"url(#clip770)\" d=\"M166.459 1073.07 L182.778 1073.07 L182.778 1077.01 L160.834 1077.01 L160.834 1073.07 Q163.496 1070.32 168.079 1065.69 Q172.686 1061.03 173.866 1059.69 Q176.112 1057.17 176.991 1055.43 Q177.894 1053.67 177.894 1051.98 Q177.894 1049.23 175.95 1047.49 Q174.028 1045.76 170.927 1045.76 Q168.727 1045.76 166.274 1046.52 Q163.843 1047.28 161.065 1048.83 L161.065 1044.11 Q163.89 1042.98 166.343 1042.4 Q168.797 1041.82 170.834 1041.82 Q176.204 1041.82 179.399 1044.51 Q182.593 1047.19 182.593 1051.68 Q182.593 1053.81 181.783 1055.73 Q180.996 1057.63 178.889 1060.22 Q178.311 1060.89 175.209 1064.11 Q172.107 1067.31 166.459 1073.07 Z\" fill=\"#000000\" fill-rule=\"nonzero\" fill-opacity=\"1\" /><path clip-path=\"url(#clip770)\" d=\"M192.639 1042.45 L210.996 1042.45 L210.996 1046.38 L196.922 1046.38 L196.922 1054.85 Q197.94 1054.51 198.959 1054.34 Q199.977 1054.16 200.996 1054.16 Q206.783 1054.16 210.162 1057.33 Q213.542 1060.5 213.542 1065.92 Q213.542 1071.5 210.07 1074.6 Q206.598 1077.68 200.278 1077.68 Q198.102 1077.68 195.834 1077.31 Q193.588 1076.94 191.181 1076.19 L191.181 1071.5 Q193.264 1072.63 195.487 1073.19 Q197.709 1073.74 200.186 1073.74 Q204.19 1073.74 206.528 1071.63 Q208.866 1069.53 208.866 1065.92 Q208.866 1062.31 206.528 1060.2 Q204.19 1058.09 200.186 1058.09 Q198.311 1058.09 196.436 1058.51 Q194.584 1058.93 192.639 1059.81 L192.639 1042.45 Z\" fill=\"#000000\" fill-rule=\"nonzero\" fill-opacity=\"1\" /><path clip-path=\"url(#clip770)\" d=\"M126.205 721.011 Q122.593 721.011 120.765 724.575 Q118.959 728.117 118.959 735.247 Q118.959 742.353 120.765 745.918 Q122.593 749.46 126.205 749.46 Q129.839 749.46 131.644 745.918 Q133.473 742.353 133.473 735.247 Q133.473 728.117 131.644 724.575 Q129.839 721.011 126.205 721.011 M126.205 717.307 Q132.015 717.307 135.07 721.913 Q138.149 726.497 138.149 735.247 Q138.149 743.973 135.07 748.58 Q132.015 753.163 126.205 753.163 Q120.394 753.163 117.316 748.58 Q114.26 743.973 114.26 735.247 Q114.26 726.497 117.316 721.913 Q120.394 717.307 126.205 717.307 Z\" fill=\"#000000\" fill-rule=\"nonzero\" fill-opacity=\"1\" /><path clip-path=\"url(#clip770)\" d=\"M146.366 746.612 L151.251 746.612 L151.251 752.492 L146.366 752.492 L146.366 746.612 Z\" fill=\"#000000\" fill-rule=\"nonzero\" fill-opacity=\"1\" /><path clip-path=\"url(#clip770)\" d=\"M161.482 717.932 L179.839 717.932 L179.839 721.867 L165.765 721.867 L165.765 730.339 Q166.783 729.992 167.802 729.83 Q168.82 729.645 169.839 729.645 Q175.626 729.645 179.005 732.816 Q182.385 735.987 182.385 741.404 Q182.385 746.983 178.913 750.085 Q175.44 753.163 169.121 753.163 Q166.945 753.163 164.677 752.793 Q162.431 752.423 160.024 751.682 L160.024 746.983 Q162.107 748.117 164.329 748.673 Q166.552 749.228 169.028 749.228 Q173.033 749.228 175.371 747.122 Q177.709 745.015 177.709 741.404 Q177.709 737.793 175.371 735.687 Q173.033 733.58 169.028 733.58 Q167.153 733.58 165.278 733.997 Q163.427 734.413 161.482 735.293 L161.482 717.932 Z\" fill=\"#000000\" fill-rule=\"nonzero\" fill-opacity=\"1\" /><path clip-path=\"url(#clip770)\" d=\"M201.598 721.011 Q197.987 721.011 196.158 724.575 Q194.352 728.117 194.352 735.247 Q194.352 742.353 196.158 745.918 Q197.987 749.46 201.598 749.46 Q205.232 749.46 207.037 745.918 Q208.866 742.353 208.866 735.247 Q208.866 728.117 207.037 724.575 Q205.232 721.011 201.598 721.011 M201.598 717.307 Q207.408 717.307 210.463 721.913 Q213.542 726.497 213.542 735.247 Q213.542 743.973 210.463 748.58 Q207.408 753.163 201.598 753.163 Q195.787 753.163 192.709 748.58 Q189.653 743.973 189.653 735.247 Q189.653 726.497 192.709 721.913 Q195.787 717.307 201.598 717.307 Z\" fill=\"#000000\" fill-rule=\"nonzero\" fill-opacity=\"1\" /><path clip-path=\"url(#clip770)\" d=\"M127.2 396.498 Q123.589 396.498 121.76 400.062 Q119.955 403.604 119.955 410.734 Q119.955 417.84 121.76 421.405 Q123.589 424.946 127.2 424.946 Q130.834 424.946 132.64 421.405 Q134.468 417.84 134.468 410.734 Q134.468 403.604 132.64 400.062 Q130.834 396.498 127.2 396.498 M127.2 392.794 Q133.01 392.794 136.066 397.4 Q139.144 401.984 139.144 410.734 Q139.144 419.46 136.066 424.067 Q133.01 428.65 127.2 428.65 Q121.39 428.65 118.311 424.067 Q115.256 419.46 115.256 410.734 Q115.256 401.984 118.311 397.4 Q121.39 392.794 127.2 392.794 Z\" fill=\"#000000\" fill-rule=\"nonzero\" fill-opacity=\"1\" /><path clip-path=\"url(#clip770)\" d=\"M147.362 422.099 L152.246 422.099 L152.246 427.979 L147.362 427.979 L147.362 422.099 Z\" fill=\"#000000\" fill-rule=\"nonzero\" fill-opacity=\"1\" /><path clip-path=\"url(#clip770)\" d=\"M161.251 393.419 L183.473 393.419 L183.473 395.41 L170.927 427.979 L166.042 427.979 L177.848 397.354 L161.251 397.354 L161.251 393.419 Z\" fill=\"#000000\" fill-rule=\"nonzero\" fill-opacity=\"1\" /><path clip-path=\"url(#clip770)\" d=\"M192.639 393.419 L210.996 393.419 L210.996 397.354 L196.922 397.354 L196.922 405.826 Q197.94 405.479 198.959 405.317 Q199.977 405.132 200.996 405.132 Q206.783 405.132 210.162 408.303 Q213.542 411.474 213.542 416.891 Q213.542 422.47 210.07 425.571 Q206.598 428.65 200.278 428.65 Q198.102 428.65 195.834 428.28 Q193.588 427.909 191.181 427.169 L191.181 422.47 Q193.264 423.604 195.487 424.159 Q197.709 424.715 200.186 424.715 Q204.19 424.715 206.528 422.608 Q208.866 420.502 208.866 416.891 Q208.866 413.28 206.528 411.173 Q204.19 409.067 200.186 409.067 Q198.311 409.067 196.436 409.484 Q194.584 409.9 192.639 410.78 L192.639 393.419 Z\" fill=\"#000000\" fill-rule=\"nonzero\" fill-opacity=\"1\" /><path clip-path=\"url(#clip770)\" d=\"M117.015 99.5305 L124.654 99.5305 L124.654 73.1649 L116.343 74.8316 L116.343 70.5723 L124.607 68.9057 L129.283 68.9057 L129.283 99.5305 L136.922 99.5305 L136.922 103.466 L117.015 103.466 L117.015 99.5305 Z\" fill=\"#000000\" fill-rule=\"nonzero\" fill-opacity=\"1\" /><path clip-path=\"url(#clip770)\" d=\"M146.366 97.5861 L151.251 97.5861 L151.251 103.466 L146.366 103.466 L146.366 97.5861 Z\" fill=\"#000000\" fill-rule=\"nonzero\" fill-opacity=\"1\" /><path clip-path=\"url(#clip770)\" d=\"M171.436 71.9844 Q167.825 71.9844 165.996 75.5492 Q164.19 79.0908 164.19 86.2204 Q164.19 93.3268 165.996 96.8916 Q167.825 100.433 171.436 100.433 Q175.07 100.433 176.876 96.8916 Q178.704 93.3268 178.704 86.2204 Q178.704 79.0908 176.876 75.5492 Q175.07 71.9844 171.436 71.9844 M171.436 68.2807 Q177.246 68.2807 180.301 72.8871 Q183.38 77.4704 183.38 86.2204 Q183.38 94.9472 180.301 99.5537 Q177.246 104.137 171.436 104.137 Q165.626 104.137 162.547 99.5537 Q159.491 94.9472 159.491 86.2204 Q159.491 77.4704 162.547 72.8871 Q165.626 68.2807 171.436 68.2807 Z\" fill=\"#000000\" fill-rule=\"nonzero\" fill-opacity=\"1\" /><path clip-path=\"url(#clip770)\" d=\"M201.598 71.9844 Q197.987 71.9844 196.158 75.5492 Q194.352 79.0908 194.352 86.2204 Q194.352 93.3268 196.158 96.8916 Q197.987 100.433 201.598 100.433 Q205.232 100.433 207.037 96.8916 Q208.866 93.3268 208.866 86.2204 Q208.866 79.0908 207.037 75.5492 Q205.232 71.9844 201.598 71.9844 M201.598 68.2807 Q207.408 68.2807 210.463 72.8871 Q213.542 77.4704 213.542 86.2204 Q213.542 94.9472 210.463 99.5537 Q207.408 104.137 201.598 104.137 Q195.787 104.137 192.709 99.5537 Q189.653 94.9472 189.653 86.2204 Q189.653 77.4704 192.709 72.8871 Q195.787 68.2807 201.598 68.2807 Z\" fill=\"#000000\" fill-rule=\"nonzero\" fill-opacity=\"1\" /><path clip-path=\"url(#clip770)\" d=\"M14.479 723.865 L19.3487 723.865 L19.3487 729.467 Q19.3487 732.618 20.6219 733.859 Q21.895 735.069 25.2052 735.069 L28.3562 735.069 L28.3562 725.425 L32.9077 725.425 L32.9077 735.069 L64.0042 735.069 L64.0042 740.957 L32.9077 740.957 L32.9077 746.559 L28.3562 746.559 L28.3562 740.957 L25.8736 740.957 Q19.9216 740.957 17.2162 738.188 Q14.479 735.419 14.479 729.403 L14.479 723.865 Z\" fill=\"#000000\" fill-rule=\"nonzero\" fill-opacity=\"1\" /><polyline clip-path=\"url(#clip772)\" style=\"stroke:#009af9; stroke-linecap:round; stroke-linejoin:round; stroke-width:4; stroke-opacity:1; fill:none\" points=\"309.067,86.1857 319.309,86.2203 329.551,86.324 389.537,88.3207 449.523,92.6903 477.429,95.5317 505.335,98.8866 542.738,104.189 580.142,110.414 641.957,122.723 699.438,136.431 771.596,156.723 836.323,177.846 910.412,205.415 965.793,228.388 1036.63,260.717 1101.28,293.113 1174.86,333.336 1233.18,367.759 1305.65,413.65 1361.15,451.136 1439.39,507.437 1497.86,552.145 1564.35,605.728 1630.2,661.667 1702.65,726.513 1757.99,778.376 1827.82,846.705 1892.4,912.764 1959.01,983.774 2026.53,1058.74 2061.78,1099.07 2097.03,1140.22 2124.8,1173.21 2152.57,1206.72 2215.8,1284.91 2279.04,1365.74 2286.14,1374.97 2293.23,1384.24 \"/>\n",
       "<path clip-path=\"url(#clip772)\" d=\"M309.067 1384.24 L309.067 99.1662 L705.9 99.1662 L705.9 1384.24 L309.067 1384.24  Z\" fill=\"#e26f46\" fill-rule=\"evenodd\" fill-opacity=\"0.2\"/>\n",
       "<polyline clip-path=\"url(#clip772)\" style=\"stroke:#000000; stroke-linecap:round; stroke-linejoin:round; stroke-width:4; stroke-opacity:0.2; fill:none\" points=\"309.067,1384.24 309.067,99.1662 705.9,99.1662 705.9,1384.24 309.067,1384.24 \"/>\n",
       "<path clip-path=\"url(#clip772)\" d=\"M705.9 1384.24 L705.9 203.01 L1102.73 203.01 L1102.73 1384.24 L705.9 1384.24  Z\" fill=\"#3da44d\" fill-rule=\"evenodd\" fill-opacity=\"0.2\"/>\n",
       "<polyline clip-path=\"url(#clip772)\" style=\"stroke:#000000; stroke-linecap:round; stroke-linejoin:round; stroke-width:4; stroke-opacity:0.2; fill:none\" points=\"705.9,1384.24 705.9,203.01 1102.73,203.01 1102.73,1384.24 705.9,1384.24 \"/>\n",
       "<path clip-path=\"url(#clip772)\" d=\"M1102.73 1384.24 L1102.73 410.699 L1499.57 410.699 L1499.57 1384.24 L1102.73 1384.24  Z\" fill=\"#c271d2\" fill-rule=\"evenodd\" fill-opacity=\"0.2\"/>\n",
       "<polyline clip-path=\"url(#clip772)\" style=\"stroke:#000000; stroke-linecap:round; stroke-linejoin:round; stroke-width:4; stroke-opacity:0.2; fill:none\" points=\"1102.73,1384.24 1102.73,410.699 1499.57,410.699 1499.57,1384.24 1102.73,1384.24 \"/>\n",
       "<path clip-path=\"url(#clip772)\" d=\"M1499.57 1384.24 L1499.57 722.231 L1896.4 722.231 L1896.4 1384.24 L1499.57 1384.24  Z\" fill=\"#ac8d18\" fill-rule=\"evenodd\" fill-opacity=\"0.2\"/>\n",
       "<polyline clip-path=\"url(#clip772)\" style=\"stroke:#000000; stroke-linecap:round; stroke-linejoin:round; stroke-width:4; stroke-opacity:0.2; fill:none\" points=\"1499.57,1384.24 1499.57,722.231 1896.4,722.231 1896.4,1384.24 1499.57,1384.24 \"/>\n",
       "<path clip-path=\"url(#clip772)\" d=\"M1896.4 1384.24 L1896.4 1137.61 L2293.23 1137.61 L2293.23 1384.24 L1896.4 1384.24  Z\" fill=\"#00a9ad\" fill-rule=\"evenodd\" fill-opacity=\"0.2\"/>\n",
       "<polyline clip-path=\"url(#clip772)\" style=\"stroke:#000000; stroke-linecap:round; stroke-linejoin:round; stroke-width:4; stroke-opacity:0.2; fill:none\" points=\"1896.4,1384.24 1896.4,1137.61 2293.23,1137.61 2293.23,1384.24 1896.4,1384.24 \"/>\n",
       "</svg>\n"
      ],
      "text/html": [
       "<img src=\"data:image/png;base64,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\" />"
      ]
     },
     "execution_count": 14,
     "metadata": {},
     "output_type": "execute_result"
    }
   ],
   "source": [
    "showmidpoint(x->1-x^2,(0,1),5)"
   ]
  },
  {
   "cell_type": "code",
   "execution_count": null,
   "id": "52ac500d-edb0-4eec-9694-db4cb5acdbee",
   "metadata": {},
   "outputs": [],
   "source": []
  }
 ],
 "metadata": {
  "@webio": {
   "lastCommId": "0c78ea02d5d64884b5ff535fe1babe71",
   "lastKernelId": "44036cd5-e89f-4e47-80fe-96b66a1b5cca"
  },
  "kernelspec": {
   "display_name": "Julia 1.10.4",
   "language": "julia",
   "name": "julia-1.10"
  },
  "language_info": {
   "file_extension": ".jl",
   "mimetype": "application/julia",
   "name": "julia",
   "version": "1.10.4"
  }
 },
 "nbformat": 4,
 "nbformat_minor": 5
}
