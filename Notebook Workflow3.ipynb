{
 "cells": [
  {
   "cell_type": "markdown",
   "id": "30181b83-6781-43cf-b276-9e9304f70b59",
   "metadata": {},
   "source": [
    "# Notebook Workflow"
   ]
  },
  {
   "cell_type": "markdown",
   "id": "31e4f323",
   "metadata": {},
   "source": [
    "In this course I set things up using **Jupyter Notebooks**.  I will use these for lectures and assignments.  I find that this is a good workflow for scientific computing.  For a big project I will use notebooks in several different ways."
   ]
  },
  {
   "cell_type": "markdown",
   "id": "c949d79c",
   "metadata": {},
   "source": [
    "# Development notebooks"
   ]
  },
  {
   "cell_type": "markdown",
   "id": "431c5fda",
   "metadata": {},
   "source": [
    "These are like lab notebooks.  You use them as scratch space to try out ideas.  Once you have working code, you encapsulate it in functions.  You then leave a record of testing the functions."
   ]
  },
  {
   "cell_type": "markdown",
   "id": "2ed5cc1b",
   "metadata": {},
   "source": [
    "After the development is complete, and you are ready for production, you either copy the code into a new production notebook, or you copy it into a text file \"whatever.jl\".  You can load that code into your production notebook with `include(\"whatever.jl\")`.  If it is a more sophisticated set of tools, you can turn it into a <a href=\"https://docs.julialang.org/en/v1/manual/modules/#modules\">package</a> and import using `typing whatever`.  "
   ]
  },
  {
   "cell_type": "markdown",
   "id": "1fc9ee92",
   "metadata": {},
   "source": [
    "You can extract the code from a development notebook by clicking on `File`, and selecting `Download as .jl`."
   ]
  },
  {
   "cell_type": "markdown",
   "id": "dede8d65",
   "metadata": {},
   "source": [
    "Some people like to have both a text editor and a notebook open at one time.  They make edits to the `.jl` file, and lode it in with `include`.  They then do all of their interactive debugging in the notebook."
   ]
  },
  {
   "cell_type": "markdown",
   "id": "c76324dc",
   "metadata": {},
   "source": [
    "Every once and a while you need to clean up your development notebook -- or even copy it over to a completely new notebook to get rid of all the dead ends.  It is good practice, however, to leave in place the work you did to verify that everything is working correctly.  That way if you make a change you can run the same tests.  This is an informal version of the \"unit test\" paradigm."
   ]
  },
  {
   "cell_type": "markdown",
   "id": "9ee2f7e4",
   "metadata": {},
   "source": [
    "# Presentation notebooks"
   ]
  },
  {
   "cell_type": "markdown",
   "id": "ebd2f189",
   "metadata": {},
   "source": [
    "You often want to share your code and results with collaborators.  One strategy is to use **presentation notebooks**.  This is similar to my lectures.  You put fully debugged code (or `include` it from text files), and run the relevant parts of it to illustrate the physics.  One can tweak it on the fly to do further explorations."
   ]
  },
  {
   "cell_type": "markdown",
   "id": "64413038",
   "metadata": {},
   "source": [
    "Static views of the notebook can be shared by using <a href=\"https://nbviewer.org\">nbviewer</a>.  Dynamic views can be shared using web services like <a href=\"https://mybinder.org\">binder</a>."
   ]
  },
  {
   "cell_type": "markdown",
   "id": "d6d9d8ab",
   "metadata": {},
   "source": [
    "# Production notebooks"
   ]
  },
  {
   "cell_type": "markdown",
   "id": "450f0eb6",
   "metadata": {},
   "source": [
    "Once you have working code, you often want to keep the production runs separate from the development work.  For code that runs relatively quickly (minutes to hours), you can comfortably do this from notebooks.  Make sure that any data which takes more than a couple minutes to produce is saved to disk.  Don't rely on the notebook's record as a way to save data.\n",
    "\n",
    "Either copy your development code to the production notebook, or load it in with `include`."
   ]
  },
  {
   "cell_type": "markdown",
   "id": "64278091",
   "metadata": {},
   "source": [
    "# Scripts"
   ]
  },
  {
   "cell_type": "markdown",
   "id": "105ce5d6",
   "metadata": {},
   "source": [
    "If you are going to be running code overnight, or you might be running on multiple machines, then it is convenient to use scripts instead of a notebook.  Put all of the code in a `whatever.jl` file, and run it with `julia whatever.jl`.  Make sure that any data is saved to a file.  If you are using a Unix environment (including linux or Mac OSX), you can redirect standard output and standard error into text files by `julia code.jl >code.out 2>code.err`.  I would recommend against using standard output for results."
   ]
  },
  {
   "cell_type": "markdown",
   "id": "39ea24e2",
   "metadata": {},
   "source": [
    "# Jupyterlab"
   ]
  },
  {
   "cell_type": "markdown",
   "id": "a0e9038a",
   "metadata": {},
   "source": [
    "You may also want to explore the environment called \"Jupyterlab\".  It provides a graphical interface with Jupyter notebooks, text files, interactive sessions and output windows.  It can be used as part of the workflow."
   ]
  }
 ],
 "metadata": {
  "kernelspec": {
   "display_name": "Julia 1.9.1",
   "language": "julia",
   "name": "julia-1.9"
  },
  "language_info": {
   "file_extension": ".jl",
   "mimetype": "application/julia",
   "name": "julia",
   "version": "1.9.1"
  }
 },
 "nbformat": 4,
 "nbformat_minor": 5
}
