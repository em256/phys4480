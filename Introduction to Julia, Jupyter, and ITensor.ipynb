{
 "cells": [
  {
   "cell_type": "markdown",
   "id": "e1cab0fb",
   "metadata": {},
   "source": [
    "# Introduction to Julia, Jupyter, and ITensor"
   ]
  },
  {
   "cell_type": "markdown",
   "id": "6e8ab850",
   "metadata": {},
   "source": [
    "This is a Jupyter notebook:  it is an interactive interface with Julia, which is similar to Mathematica.  \n",
    "\n",
    "There are two types of cells: *Markdown* and *code*.  Markdown cells understand $\\LaTeX$ -- and you can insert arbitrary html commants in them -- meaning that if you upload an image to your Google Drive, and make it world readible, you can insert it into the cell.  Markdown cells also accept standard *Markdown* syntax.\n",
    "\n",
    "In code cells, but not markdown cells, you can type Greek letters by typing their LaTeX name -- such as `\\alpha` and then hit`tab`.  Subscripts, $f_j$, can be written as `f\\_j` followed by `tab`."
   ]
  },
  {
   "cell_type": "markdown",
   "id": "92f9f7f1",
   "metadata": {},
   "source": [
    "Click on a markdown cell to edit it -- typeset it with a \"shift-enter\".  To run a code cell type shift-enter on it. "
   ]
  },
  {
   "cell_type": "markdown",
   "id": "1889c65b",
   "metadata": {},
   "source": [
    "A typical workflow is that you will use ba notebook to interactively write and debug your code.  It is good practice to then turn that code into a function -- which you can run for production.  Often you will put that production code in a \"whatever.jl\" file, and run it with \"julia whatever.jl\".  You can also do production runs within Jupyter.  There is another system, called \"Jupyterlab\" which some people like the workflow of better.  You can also use Jupyter in conjunction with some IDE's."
   ]
  },
  {
   "cell_type": "markdown",
   "id": "7030e315",
   "metadata": {},
   "source": [
    "Here are some useful links:\n",
    "- [Getting Started with Julia](https://computationalthinking.mit.edu/Spring21/basic_syntax/)\n",
    "- [Fasttrack to Julia](https://juliadocs.github.io/Julia-Cheat-Sheet/)\n",
    "- [MATLAB-Julia-Python comparison](https://cheatsheets.quantecon.org/)\n",
    "- [Plots.jl cheatsheet](https://github.com/sswatson/cheatsheets/blob/master/plotsjl-cheatsheet.pdf)"
   ]
  },
  {
   "cell_type": "markdown",
   "id": "a4a6d618",
   "metadata": {},
   "source": [
    "<h3 style=\"border: 2px solid #000; border-radius: 10px; padding: 20px; background-color:red; color:white;\" >Problems</h3>"
   ]
  },
  {
   "cell_type": "markdown",
   "id": "c8c06889",
   "metadata": {},
   "source": [
    "**Hit shift-enter on each of these lines sequentially to run the code.  Then change $\\alpha$ to $\\beta$, change the numbers, and rerun**  "
   ]
  },
  {
   "cell_type": "code",
   "execution_count": 1,
   "id": "a64b4f77",
   "metadata": {},
   "outputs": [
    {
     "data": {
      "text/plain": [
       "1"
      ]
     },
     "execution_count": 1,
     "metadata": {},
     "output_type": "execute_result"
    }
   ],
   "source": [
    "α=1"
   ]
  },
  {
   "cell_type": "code",
   "execution_count": 2,
   "id": "e0f047cd",
   "metadata": {},
   "outputs": [
    {
     "data": {
      "text/plain": [
       "4"
      ]
     },
     "execution_count": 2,
     "metadata": {},
     "output_type": "execute_result"
    }
   ],
   "source": [
    "α+3"
   ]
  },
  {
   "cell_type": "markdown",
   "id": "2ad5557b",
   "metadata": {},
   "source": [
    "<h3 style=\"border: 2px solid #000; border-radius: 10px; padding: 20px; background-color:red; color:white;\" >End Problems</h3>"
   ]
  },
  {
   "cell_type": "markdown",
   "id": "5673a246",
   "metadata": {},
   "source": [
    "## Getting Help"
   ]
  },
  {
   "cell_type": "markdown",
   "id": "adaf1ca8",
   "metadata": {},
   "source": [
    "Want to know what a symbol means?  For example, what is an `Array`?  Type `?Array` and then shift-enter."
   ]
  },
  {
   "cell_type": "code",
   "execution_count": null,
   "id": "32e275f6",
   "metadata": {},
   "outputs": [],
   "source": [
    "?Array"
   ]
  },
  {
   "cell_type": "markdown",
   "id": "5ac78c0b",
   "metadata": {},
   "source": [
    "# Matrix Product States"
   ]
  },
  {
   "cell_type": "markdown",
   "id": "bd2c32cd",
   "metadata": {},
   "source": [
    "Here is a light-weight object to help us manipulate and visualize matrix product states -- further in the notebook we will use the ITensor library -- but even so, it will be helpful to have this.  "
   ]
  },
  {
   "cell_type": "code",
   "execution_count": 3,
   "id": "c03a927b",
   "metadata": {},
   "outputs": [
    {
     "data": {
      "text/plain": [
       "tabledisplay (generic function with 1 method)"
      ]
     },
     "execution_count": 3,
     "metadata": {},
     "output_type": "execute_result"
    }
   ],
   "source": [
    "# Don't worry too much about this code -- just hit shift-enter on the cell\n",
    "#\n",
    "#Import commands to overload\n",
    "import Base: *,+,-,/,keys,iterate,length,getindex,show,repr,zero\n",
    "#\n",
    "# Define ket class\n",
    "\"\"\"ket is a formal representation of a quantum state.\n",
    "\n",
    "Instantiate with ket(statename::String)\n",
    "\n",
    "You can add them together and multiply by numbers\n",
    "\n",
    "Multiplying two kets formally gives the outer product\n",
    "\"\"\"\n",
    "mutable struct ket <:Number\n",
    "    storage::Dict\n",
    "end\n",
    "#\n",
    "# Singleton constructor\n",
    "ket(state)=ket(Dict(string(state)=>1))\n",
    "#\n",
    "# Empty state\n",
    "zero(::ket)=ket(Dict())\n",
    "ket()=ket(Dict())\n",
    "#\n",
    "# Iteration and indexing\n",
    "iterate(k::ket)=iterate(k.storage)\n",
    "iterate(k::ket,n)=iterate(k.storage,n)\n",
    "length(k::ket)=length(k.storage)\n",
    "keys(k::ket) = keys(k.storage)\n",
    "getindex(k::ket,val)=getindex(k.storage,val)\n",
    "#\n",
    "# Multiplication as outer product\n",
    "*(k1::ket,k2::ket) = ket(Dict([v1*v2=>s1*s2 for (v1,s1) in k1 for (v2,s2) in k2 ]))\n",
    "# Multiplication with scalar\n",
    "*(c::Number,k::ket)=ket(Dict([v=>c*s for (v,s) in k]))\n",
    "*(k::ket,c::Number)=c*k\n",
    "/(k::ket,c::Number)=(1/c)*k\n",
    "#\n",
    "# Sums\n",
    "function +(k1::ket,k2::ket) \n",
    "    d=copy(k1.storage)\n",
    "    for key in keys(k2) \n",
    "        if (key in keys(k1))\n",
    "            d[key]+=k2[key]\n",
    "        else\n",
    "            d[key]=k2[key]\n",
    "        end\n",
    "        if d[key]===zero(d[key])\n",
    "            delete!(d,key)\n",
    "        end\n",
    "    end\n",
    "    return ket(d)\n",
    "end\n",
    "function -(k1::ket,k2::ket) \n",
    "    d=copy(k1.storage)\n",
    "    for key in keys(k2) \n",
    "        if (key in keys(k1))\n",
    "            d[key]-=k2[key]\n",
    "        else\n",
    "            d[key]=-k2[key]\n",
    "        end\n",
    "        if d[key]===zero(d[key])\n",
    "            delete!(d,key)\n",
    "        end\n",
    "    end\n",
    "    return ket(d)\n",
    "end\n",
    "# Displaying functions\n",
    "function show(io::IO,::MIME\"text/latex\",k::ket)\n",
    "    len=length(k)\n",
    "    j=1\n",
    "    outputstring=\"\\$\\$\"\n",
    "    for (label,val) in k\n",
    "        if val===1\n",
    "            if j>1\n",
    "                outputstring *=\"+\"\n",
    "            end\n",
    "        else\n",
    "            try\n",
    "                sn=sign(val)\n",
    "                if sn>0\n",
    "                    if j>1\n",
    "                        outputstring *=\"+\"\n",
    "                    end    \n",
    "                    outputstring*=string(val)\n",
    "                elseif sn<0\n",
    "                    outputstring*=string(val)\n",
    "                else\n",
    "                    if j>1\n",
    "                        outputstring *=\"+\"\n",
    "                    end\n",
    "                    outputstring*=\"(\"*string(val)*\")\"\n",
    "                end\n",
    "            catch er #probably a comparison with zero problem\n",
    "                if j>1\n",
    "                        outputstring *=\"+\"\n",
    "                end\n",
    "                outputstring*=\"(\"*string(val)*\")\"\n",
    "            end\n",
    "        end\n",
    "        outputstring*=\"|\"*string(label)*\"\\\\rangle\"\n",
    "        j+=1\n",
    "    end\n",
    "    outputstring*=\"\\$\\$\"\n",
    "    print(io,outputstring)\n",
    "end\n",
    "function repr(k::ket)\n",
    "    len=length(k)\n",
    "    j=1\n",
    "    outputstring=\"\"\n",
    "    for (label,val) in k\n",
    "        if val===1\n",
    "            if j>1\n",
    "                outputstring *=\"+\"\n",
    "            end\n",
    "        else\n",
    "            try\n",
    "                sn=sign(val)\n",
    "                if sn>0\n",
    "                    if j>1\n",
    "                        outputstring *=\"+\"\n",
    "                    end    \n",
    "                    outputstring*=string(val)\n",
    "                elseif sn<0\n",
    "                    outputstring*=string(val)\n",
    "                else\n",
    "                    if j>1\n",
    "                        outputstring *=\"+\"\n",
    "                    end\n",
    "                    outputstring*=\"(\"*string(val)*\")\"\n",
    "                end\n",
    "            catch er #probably a comparison with zero problem\n",
    "                if j>1\n",
    "                        outputstring *=\"+\"\n",
    "                end\n",
    "                outputstring*=\"(\"*string(val)*\")\"\n",
    "            end\n",
    "        end\n",
    "        outputstring*=\"|\"*string(label)*\"⟩\"\n",
    "        j+=1\n",
    "    end\n",
    "    return outputstring\n",
    "end\n",
    "function show(io::IO,k::ket)\n",
    "    outputstring=repr(k)\n",
    "    print(io,outputstring)\n",
    "end\n",
    "# self-type conversion\n",
    "ket(k::ket)=k\n",
    "# alternate display\n",
    "function tabledisplay(k::ket)\n",
    "    for pair in k\n",
    "        println(pair[1]*\" \"*string(pair[2]))\n",
    "    end\n",
    "end"
   ]
  },
  {
   "cell_type": "markdown",
   "id": "a7e753b5",
   "metadata": {},
   "source": [
    "Here are some examples of using this"
   ]
  },
  {
   "cell_type": "code",
   "execution_count": 4,
   "id": "3cdaa69a",
   "metadata": {},
   "outputs": [
    {
     "data": {
      "text/latex": [
       "$$|↑\\rangle$$"
      ],
      "text/plain": [
       "|↑⟩"
      ]
     },
     "execution_count": 4,
     "metadata": {},
     "output_type": "execute_result"
    }
   ],
   "source": [
    "up=ket(\"↑\")"
   ]
  },
  {
   "cell_type": "code",
   "execution_count": 5,
   "id": "f430b846",
   "metadata": {},
   "outputs": [
    {
     "data": {
      "text/latex": [
       "$$|↓\\rangle$$"
      ],
      "text/plain": [
       "|↓⟩"
      ]
     },
     "execution_count": 5,
     "metadata": {},
     "output_type": "execute_result"
    }
   ],
   "source": [
    "dn=ket(\"↓\")"
   ]
  },
  {
   "cell_type": "code",
   "execution_count": null,
   "id": "c47b0503",
   "metadata": {},
   "outputs": [],
   "source": [
    "phi=(1.0 +3.0im)up-0.2dn"
   ]
  },
  {
   "cell_type": "code",
   "execution_count": null,
   "id": "1bc87ae9",
   "metadata": {},
   "outputs": [],
   "source": [
    "psi=-0.5up+0.4dn"
   ]
  },
  {
   "cell_type": "markdown",
   "id": "054d7088",
   "metadata": {},
   "source": [
    "Alternate display format:"
   ]
  },
  {
   "cell_type": "code",
   "execution_count": null,
   "id": "5be4a71f",
   "metadata": {},
   "outputs": [],
   "source": [
    "tabledisplay(psi)"
   ]
  },
  {
   "cell_type": "markdown",
   "id": "ff648fd9",
   "metadata": {},
   "source": [
    "We can do outer products"
   ]
  },
  {
   "cell_type": "code",
   "execution_count": null,
   "id": "cb753a23",
   "metadata": {},
   "outputs": [],
   "source": [
    "up*up*up+dn*dn*dn"
   ]
  },
  {
   "cell_type": "code",
   "execution_count": null,
   "id": "d479c76b",
   "metadata": {},
   "outputs": [],
   "source": [
    "tabledisplay(up*up*up+dn*dn*dn)"
   ]
  },
  {
   "cell_type": "markdown",
   "id": "2a21a9f1",
   "metadata": {},
   "source": [
    "You can use LaTeX commands in the names.  For example, you can use that to make colored arrows"
   ]
  },
  {
   "cell_type": "code",
   "execution_count": null,
   "id": "201e56c1",
   "metadata": {},
   "outputs": [],
   "source": [
    "ket(\"\\\\color{red}\\\\uparrow\")*ket(\"\\\\color{blue}\\\\downarrow\")"
   ]
  },
  {
   "cell_type": "markdown",
   "id": "fbf6b3d9",
   "metadata": {},
   "source": [
    "The whole point of doing this is that I want to be able to make vectors/matrices of these states, and multiply out matrix product states.  For example, here is how you make a Bell state.  In Julia, `*` is matrix multiplication."
   ]
  },
  {
   "cell_type": "code",
   "execution_count": null,
   "id": "c52b1b08",
   "metadata": {},
   "outputs": [],
   "source": [
    "[ up dn ]*[up ; dn]"
   ]
  },
  {
   "cell_type": "code",
   "execution_count": null,
   "id": "8dd21241",
   "metadata": {},
   "outputs": [],
   "source": [
    "[ up dn ]"
   ]
  },
  {
   "cell_type": "code",
   "execution_count": null,
   "id": "5f1259a0",
   "metadata": {},
   "outputs": [],
   "source": [
    "[up ; dn]"
   ]
  },
  {
   "cell_type": "markdown",
   "id": "115299fa",
   "metadata": {},
   "source": [
    "We can do a GHZ state as"
   ]
  },
  {
   "cell_type": "code",
   "execution_count": null,
   "id": "ea34d475",
   "metadata": {},
   "outputs": [],
   "source": [
    "GHZ=[up dn]*[up 0; 0 dn]*[up 0; 0 dn]*[up 0; 0 dn]*[up ; dn]"
   ]
  },
  {
   "cell_type": "markdown",
   "id": "8e1a5d7c",
   "metadata": {},
   "source": [
    "Note:  That returns a length-1 vector of kets.  To turn it into a `ket` we need to use the keyword `only`.  So if we want to use `tabledisplay` we need to write:"
   ]
  },
  {
   "cell_type": "code",
   "execution_count": null,
   "id": "1f72720e",
   "metadata": {},
   "outputs": [],
   "source": [
    "tabledisplay(only(GHZ))"
   ]
  },
  {
   "cell_type": "markdown",
   "id": "2b36f67d",
   "metadata": {},
   "source": [
    "We can also do spin-1 states, where the basis is $|0\\rangle,|+\\rangle,|-\\rangle$."
   ]
  },
  {
   "cell_type": "code",
   "execution_count": null,
   "id": "898cd4e7",
   "metadata": {},
   "outputs": [],
   "source": [
    "wf1=ket(-)ket(+)-2ket(0)ket(0)"
   ]
  },
  {
   "cell_type": "code",
   "execution_count": null,
   "id": "02a83320",
   "metadata": {},
   "outputs": [],
   "source": [
    "tabledisplay(wf1)"
   ]
  },
  {
   "cell_type": "markdown",
   "id": "e174d984",
   "metadata": {},
   "source": [
    "<h3 style=\"border: 2px solid #000; border-radius: 10px; padding: 20px; background-color:red; color:white;\" >Problems</h3>"
   ]
  },
  {
   "cell_type": "markdown",
   "id": "301570ee",
   "metadata": {},
   "source": [
    "**Create and multiply matrices to generate the W state \n",
    "$$|W\\rangle=|\\uparrow\\downarrow\\downarrow\\downarrow\\downarrow\\rangle\n",
    "+ |\\downarrow\\uparrow\\downarrow\\downarrow\\downarrow\\rangle\n",
    "+ |\\downarrow\\downarrow\\uparrow\\downarrow\\downarrow\\rangle\n",
    "+ |\\downarrow\\downarrow\\downarrow\\uparrow\\downarrow\\rangle\n",
    "+|\\downarrow\\downarrow\\downarrow\\downarrow\\uparrow\\rangle\n",
    "$$**"
   ]
  },
  {
   "cell_type": "code",
   "execution_count": null,
   "id": "8c602c77",
   "metadata": {},
   "outputs": [],
   "source": []
  },
  {
   "cell_type": "markdown",
   "id": "7b05fef7",
   "metadata": {},
   "source": [
    "**We will encounter the AKLT state -- which is described by a MPS of the form $\\psi=ABBBBB\\cdots C$, with\n",
    "$A=\\left(\n",
    "\\begin{array}{cc}\n",
    "\\frac{-1}{\\sqrt{3}} |0\\rangle & \\sqrt{\\frac{2}{3}}|+\\rangle\n",
    "\\end{array}\n",
    "\\right)$, \n",
    "$B=\\left(\n",
    "\\begin{array}{cc}\n",
    "\\frac{-1}{\\sqrt{3}} |0\\rangle & \\sqrt{\\frac{2}{3}}|+\\rangle\\\\\n",
    "- \\sqrt{\\frac{2}{3}}|-\\rangle&\\frac{1}{\\sqrt{3}} |0\\rangle\n",
    "\\end{array}\n",
    "\\right)$,\n",
    "$C=\\left(\n",
    "\\begin{array}{cc}\n",
    "\\frac{-1}{\\sqrt{3}} |0\\rangle \\\\\n",
    "- \\sqrt{\\frac{2}{3}}|-\\rangle\n",
    "\\end{array}\n",
    "\\right)$.  Construct these matrices, and multiply them out to produce the 5-site AKLT state.  This should illustrate the compactness of the MPS notation.  It takes fewer numbers to encode the matrices than it does to encode their product.**"
   ]
  },
  {
   "cell_type": "code",
   "execution_count": null,
   "id": "3486c9e5",
   "metadata": {},
   "outputs": [],
   "source": []
  },
  {
   "cell_type": "code",
   "execution_count": null,
   "id": "38808269",
   "metadata": {},
   "outputs": [],
   "source": []
  },
  {
   "cell_type": "code",
   "execution_count": null,
   "id": "77c9d9f0",
   "metadata": {},
   "outputs": [],
   "source": []
  },
  {
   "cell_type": "code",
   "execution_count": null,
   "id": "86b99899",
   "metadata": {},
   "outputs": [],
   "source": []
  },
  {
   "cell_type": "markdown",
   "id": "3bf7ec64",
   "metadata": {},
   "source": [
    "**Which basis state has the largest square amplitude?  You will problably find that `tabledisplay` helps for parsing things.**"
   ]
  },
  {
   "cell_type": "code",
   "execution_count": null,
   "id": "f765fd71",
   "metadata": {},
   "outputs": [],
   "source": []
  },
  {
   "cell_type": "markdown",
   "id": "6a26f207",
   "metadata": {},
   "source": [
    "<h3 style=\"border: 2px solid #000; border-radius: 10px; padding: 20px; background-color:red; color:white;\" >End Problems</h3>"
   ]
  },
  {
   "cell_type": "markdown",
   "id": "83254407",
   "metadata": {},
   "source": [
    "### Symbolic Arithmetic"
   ]
  },
  {
   "cell_type": "code",
   "execution_count": 6,
   "id": "e4c71985",
   "metadata": {},
   "outputs": [],
   "source": [
    "using Symbolics"
   ]
  },
  {
   "cell_type": "code",
   "execution_count": 7,
   "id": "0bad14e3",
   "metadata": {},
   "outputs": [
    {
     "data": {
      "text/plain": [
       "/ (generic function with 299 methods)"
      ]
     },
     "execution_count": 7,
     "metadata": {},
     "output_type": "execute_result"
    }
   ],
   "source": [
    "# Routines to get our kets to act properly here\n",
    "*(c::Num,k::ket)=ket(Dict([v=>c*s for (v,s) in k]))\n",
    "*(k::ket,c::Num)=c*k\n",
    "/(k::ket,c::Num)=(1/c)*k"
   ]
  },
  {
   "cell_type": "code",
   "execution_count": 8,
   "id": "276cbed1",
   "metadata": {},
   "outputs": [
    {
     "data": {
      "text/latex": [
       "$$ \\begin{equation}\n",
       "\\left[\n",
       "\\begin{array}{c}\n",
       "a \\\\\n",
       "b \\\\\n",
       "c \\\\\n",
       "d \\\\\n",
       "e \\\\\n",
       "\\end{array}\n",
       "\\right]\n",
       "\\end{equation}\n",
       " $$"
      ],
      "text/plain": [
       "5-element Vector{Num}:\n",
       " a\n",
       " b\n",
       " c\n",
       " d\n",
       "  e"
      ]
     },
     "execution_count": 8,
     "metadata": {},
     "output_type": "execute_result"
    }
   ],
   "source": [
    "@variables a,b,c,d,e # defines symbolic variables"
   ]
  },
  {
   "cell_type": "code",
   "execution_count": 9,
   "id": "91806e5f",
   "metadata": {},
   "outputs": [
    {
     "data": {
      "text/latex": [
       "$$$$"
      ],
      "text/plain": []
     },
     "execution_count": 9,
     "metadata": {},
     "output_type": "execute_result"
    }
   ],
   "source": [
    "empty=ket(\"⭕️\") #represents an empty site\n",
    "full=ket(\"🔵\") #represents a full site\n",
    "kz=ket() # the 'zero' ket"
   ]
  },
  {
   "cell_type": "code",
   "execution_count": 10,
   "id": "367da348",
   "metadata": {},
   "outputs": [
    {
     "data": {
      "text/plain": [
       "1-element Vector{ket}:\n",
       " (b)|⭕️🔵⭕️⭕️⟩+(d)|⭕️⭕️⭕️🔵⟩+(c)|⭕️⭕️🔵⭕️⟩+(a)|🔵⭕️⭕️⭕️⟩"
      ]
     },
     "execution_count": 10,
     "metadata": {},
     "output_type": "execute_result"
    }
   ],
   "source": [
    "mps1=[empty a*full]*[empty b*full;kz empty]*[empty c*full;kz empty]*[d*full ; empty]"
   ]
  },
  {
   "cell_type": "code",
   "execution_count": 11,
   "id": "2bcbde7e",
   "metadata": {},
   "outputs": [
    {
     "name": "stdout",
     "output_type": "stream",
     "text": [
      "⭕️🔵⭕️⭕️ b\n",
      "⭕️⭕️⭕️🔵 d\n",
      "⭕️⭕️🔵⭕️ c\n",
      "🔵⭕️⭕️⭕️ a\n"
     ]
    }
   ],
   "source": [
    "tabledisplay(mps1[1])"
   ]
  },
  {
   "cell_type": "markdown",
   "id": "388d6a8d",
   "metadata": {},
   "source": [
    "<h3 style=\"border: 2px solid #000; border-radius: 10px; padding: 20px; background-color:red; color:white;\" >Problems</h3>"
   ]
  },
  {
   "cell_type": "markdown",
   "id": "a84e381b",
   "metadata": {},
   "source": [
    "**Generate and multiply out this matrix product state that was introduced in class.  Verify that it is a representation of a generic hard-core 2-body wavefunction**\n",
    "\\begin{eqnarray}\n",
    "|\\psi\\rangle &=& \\left( \\begin{array}{cc} |⭕️\\rangle &  |🔵\\rangle\\end{array}\n",
    "\\right)\n",
    "\\left( \\begin{array}{cccc} |⭕️\\rangle & |🔵\\rangle\\\\\n",
    "&&|⭕️\\rangle&\\psi_{12} |🔵\\rangle\n",
    "\\end{array}\n",
    "\\right)\n",
    "\\left( \\begin{array}{ccccc} |⭕️\\rangle &|🔵\\rangle\\\\\n",
    "&&|⭕️\\rangle &&\\psi_{23}|🔵\\rangle\\\\\n",
    "&&&|⭕️\\rangle &\\psi_{13}|🔵\\rangle\\\\\n",
    "&&&&|⭕️\\rangle \\\\\n",
    "\\end{array}\n",
    "\\right)\\\\\n",
    "&&\\times\n",
    "\\left( \\begin{array}{ccccc} |🔵\\rangle\\\\\n",
    "&|⭕️\\rangle& &&\\psi\n",
    "_{34}|🔵\\rangle\\\\\n",
    "&&|⭕️\\rangle&&\\psi_{24}|🔵\\rangle\\\\\n",
    "&&&|⭕️\\rangle&\\psi_{14}|🔵\\rangle\\\\\n",
    "&&&&|⭕️\\rangle\n",
    "\\end{array}\n",
    "\\right)\n",
    "\\left( \\begin{array}{cc} \\psi_{45} |🔵\\rangle\\\\\n",
    "\\psi_{35}|🔵\\rangle\\\\\n",
    "\\psi_{25}|🔵\\rangle\\\\\n",
    "\\psi_{15}|🔵\\rangle\\\\\n",
    "|⭕️\\rangle\n",
    "\\end{array}\n",
    "\\right)\n",
    "\\end{eqnarray}"
   ]
  },
  {
   "cell_type": "code",
   "execution_count": null,
   "id": "b0e2828f",
   "metadata": {},
   "outputs": [],
   "source": []
  },
  {
   "cell_type": "code",
   "execution_count": null,
   "id": "ab04c3fc",
   "metadata": {},
   "outputs": [],
   "source": []
  },
  {
   "cell_type": "code",
   "execution_count": null,
   "id": "1df8a27c",
   "metadata": {},
   "outputs": [],
   "source": []
  },
  {
   "cell_type": "markdown",
   "id": "42219461",
   "metadata": {},
   "source": [
    "<h3 style=\"border: 2px solid #000; border-radius: 10px; padding: 20px; background-color:red; color:white;\" >End Problems</h3>"
   ]
  },
  {
   "cell_type": "markdown",
   "id": "bd2a79f9",
   "metadata": {},
   "source": [
    "<h1 style=\"border: 2px solid #000; border-radius: 10px; padding: 20px; background-color:blue; color:white;\" >Checkpoint 1</h1>"
   ]
  },
  {
   "cell_type": "markdown",
   "id": "35c84cd4",
   "metadata": {},
   "source": [
    "# ITensor"
   ]
  },
  {
   "cell_type": "markdown",
   "id": "834206de",
   "metadata": {},
   "source": [
    "ITensor is a package for manipulating tensors. Everything we do in this class can be done with boring out-of-the-box arrays, but this package allows our computer syntax to better match how we write things on paper. This means fewer bugs, and the code is faster to write."
   ]
  },
  {
   "cell_type": "markdown",
   "id": "812809bb",
   "metadata": {},
   "source": [
    "We first load in ITensors"
   ]
  },
  {
   "cell_type": "code",
   "execution_count": 12,
   "id": "42899c34",
   "metadata": {},
   "outputs": [],
   "source": [
    "using ITensors"
   ]
  },
  {
   "cell_type": "code",
   "execution_count": 13,
   "id": "b7b02f08",
   "metadata": {},
   "outputs": [],
   "source": [
    "ITensors.enable_debug_checks()"
   ]
  },
  {
   "cell_type": "markdown",
   "id": "191bbb13",
   "metadata": {},
   "source": [
    "## Basics of ITensor"
   ]
  },
  {
   "cell_type": "markdown",
   "id": "d543e047",
   "metadata": {},
   "source": [
    "### Indices"
   ]
  },
  {
   "cell_type": "markdown",
   "id": "7965d4af",
   "metadata": {},
   "source": [
    "To define a tensor, we first need to make the labeled indices. We will make two indices: i and j, that both take on the values 1 and 2"
   ]
  },
  {
   "cell_type": "code",
   "execution_count": null,
   "id": "2b7096f8",
   "metadata": {},
   "outputs": [],
   "source": [
    "i=Index(2,\"i\")"
   ]
  },
  {
   "cell_type": "code",
   "execution_count": null,
   "id": "153e4d6f",
   "metadata": {},
   "outputs": [],
   "source": [
    "j=Index(2,\"j\")"
   ]
  },
  {
   "cell_type": "markdown",
   "id": "97c86015",
   "metadata": {},
   "source": [
    "The label `\"i\"` and `\"j\"` are un-necessary. They are useful for readability though. It will let us keep track of the indices"
   ]
  },
  {
   "cell_type": "markdown",
   "id": "0cd74f7d",
   "metadata": {},
   "source": [
    "The `Index` objects know how many values they can take on `dim=2`, they have a unique id `id=??` and they have a set of 'tags' -- in this case `i` and `j`."
   ]
  },
  {
   "cell_type": "markdown",
   "id": "5624c6e3",
   "metadata": {},
   "source": [
    "The purpose of the `Index` is that it will represent one of the legs on a tensor.  For example, we might have a vector with one leg\n",
    "    \n",
    "      i\n",
    "    A---\n",
    "    \n",
    "I have labeled the leg `i` to indicate what space the vector lives in.  \n",
    "\n",
    "A 2x2 matrix could instead be\n",
    "\n",
    "      i       j\n",
    "    ---- B ------\n",
    "    \n",
    "We can loop over the \"values\" of an index with"
   ]
  },
  {
   "cell_type": "code",
   "execution_count": null,
   "id": "aa1ecdbd",
   "metadata": {},
   "outputs": [],
   "source": [
    "for val in i\n",
    "    println(val)\n",
    "end"
   ]
  },
  {
   "cell_type": "markdown",
   "id": "25b7256e",
   "metadata": {},
   "source": [
    "These tell both what kind of index we are setting, and what it's value is"
   ]
  },
  {
   "cell_type": "markdown",
   "id": "8da5f1f1",
   "metadata": {},
   "source": [
    "### Constructing Tensors"
   ]
  },
  {
   "cell_type": "markdown",
   "id": "fecfaf2f",
   "metadata": {},
   "source": [
    "We can then make a 2x2 matrix,\n",
    "$$\\sigma_z=\\left(\\begin{array}{cc}1&0\\\\0&-1\\end{array}\\right)$$"
   ]
  },
  {
   "cell_type": "markdown",
   "id": "de7ce590",
   "metadata": {},
   "source": [
    "The column index will be `i`, and the row index will be `j`.  We can use the `@show` command to give us the representation of the tensor"
   ]
  },
  {
   "cell_type": "code",
   "execution_count": null,
   "id": "e0f1a9e2",
   "metadata": {},
   "outputs": [],
   "source": [
    "sigz=ITensor(i,j)\n",
    "sigz[i=>1,j=>1]=1\n",
    "sigz[i=>2,j=>2]=-1\n",
    "@show sigz;"
   ]
  },
  {
   "cell_type": "markdown",
   "id": "f2b39087",
   "metadata": {},
   "source": [
    "Here is how to parse that readout:\n",
    "\n",
    "\"ord=2\" -- rank 2 tensor\n",
    "\n",
    "\"Dim 1:\" -- Description of first index\n",
    "\n",
    "  \"(dim=2|id=??|\"i\")\" -- the \"dim\" is the number of elements that index runs over, and \"id\" is a number which is assigned to each index,  If you scroll up to where we defined \"i\" you will see that this was the id assigned to that variable.  \n",
    "\n",
    "\"NDTensors.Dense{Int64, Vector{Int64}}\" tells about the internal storage\n",
    "\n",
    "The rest should be clear as a representation of the matrix"
   ]
  },
  {
   "cell_type": "markdown",
   "id": "7591d7b6",
   "metadata": {},
   "source": [
    "The notation should be reminiscent of writing\n",
    "\n",
    "        A(i=1,j=1)=1\n",
    "        A(i=2,j=2)=-1"
   ]
  },
  {
   "cell_type": "markdown",
   "id": "3b77800e",
   "metadata": {},
   "source": [
    "We can also extract the array and the indices separately"
   ]
  },
  {
   "cell_type": "code",
   "execution_count": null,
   "id": "9433eb01",
   "metadata": {},
   "outputs": [],
   "source": [
    "array(sigz) "
   ]
  },
  {
   "cell_type": "code",
   "execution_count": null,
   "id": "14b875bd",
   "metadata": {},
   "outputs": [],
   "source": [
    "inds(sigz)"
   ]
  },
  {
   "cell_type": "markdown",
   "id": "a0545181",
   "metadata": {},
   "source": [
    "### Alternative construction"
   ]
  },
  {
   "cell_type": "markdown",
   "id": "a02149cb",
   "metadata": {},
   "source": [
    "Here is $\\sigma_x$ -- illustrating an alternative way to construct tensors.  (Clearly you do not need the @show -- this  just prints out the details)"
   ]
  },
  {
   "cell_type": "code",
   "execution_count": null,
   "id": "0f61428e",
   "metadata": {},
   "outputs": [],
   "source": [
    "@show sigx=ITensor([0 1; 1 0],i,j)"
   ]
  },
  {
   "cell_type": "markdown",
   "id": "1f6bc313",
   "metadata": {},
   "source": [
    "And $\\sigma_y$ -- this example also shows how to input complex numbers."
   ]
  },
  {
   "cell_type": "code",
   "execution_count": null,
   "id": "7553e0a0",
   "metadata": {},
   "outputs": [],
   "source": [
    "@show sigy=ITensor([0 -1im; 1im 0],i,j)"
   ]
  },
  {
   "cell_type": "markdown",
   "id": "13919f8e",
   "metadata": {},
   "source": [
    "<h3 style=\"border: 2px solid #000; border-radius: 10px; padding: 20px; background-color:red; color:white;\" >Problems</h3>"
   ]
  },
  {
   "cell_type": "markdown",
   "id": "974edf39",
   "metadata": {},
   "source": [
    "**Make a rank-3 ITensor object which represents**\n",
    "$$A=\\left(\\begin{array}{cc}1. |\\uparrow\\rangle&0.1 |\\downarrow\\rangle\\\\\n",
    "0.1|\\uparrow\\rangle&1. |\\downarrow\\rangle\\end{array}\n",
    "\\right)$$\n",
    "\n",
    "**You will need to create a third index object.  Give it a sensible name like `spin` or `mz` so your code remains readible.**"
   ]
  },
  {
   "cell_type": "code",
   "execution_count": null,
   "id": "e0266bfc",
   "metadata": {},
   "outputs": [],
   "source": []
  },
  {
   "cell_type": "code",
   "execution_count": null,
   "id": "b7a07b0d",
   "metadata": {},
   "outputs": [],
   "source": []
  },
  {
   "cell_type": "code",
   "execution_count": null,
   "id": "dab6308c",
   "metadata": {},
   "outputs": [],
   "source": []
  },
  {
   "cell_type": "markdown",
   "id": "558f1bc1",
   "metadata": {},
   "source": [
    "<h3 style=\"border: 2px solid #000; border-radius: 10px; padding: 20px; background-color:red; color:white;\" >End Problems</h3>"
   ]
  },
  {
   "cell_type": "markdown",
   "id": "7f84da04",
   "metadata": {},
   "source": [
    "### A simple visualization tool"
   ]
  },
  {
   "cell_type": "markdown",
   "id": "e13d3b27",
   "metadata": {},
   "source": [
    "For rank 3 tensors (which we will use a lot) we can make a simple visualization tool"
   ]
  },
  {
   "cell_type": "markdown",
   "id": "da0ab26f",
   "metadata": {},
   "source": [
    "For example, consider the rank three tensor:\n",
    "$R=\\left(\\begin{array}{cc}|\\uparrow\\rangle&|\\downarrow\\rangle\\\\\n",
    "|\\downarrow\\rangle&|\\uparrow\\rangle\\end{array}\\right)$\n",
    "\n",
    "We can generate it with"
   ]
  },
  {
   "cell_type": "code",
   "execution_count": 14,
   "id": "9c16d85f",
   "metadata": {},
   "outputs": [
    {
     "name": "stdout",
     "output_type": "stream",
     "text": [
      "R = ITensor ord=3\n",
      "Dim 1: (dim=2|id=572|\"left\")\n",
      "Dim 2: (dim=2|id=85|\"right\")\n",
      "Dim 3: (dim=2|id=489|\"spin\")\n",
      "NDTensors.Dense{Float64, Vector{Float64}}\n",
      " 2×2×2\n",
      "[:, :, 1] =\n",
      " 1.0  0.0\n",
      " 0.0  1.0\n",
      "\n",
      "[:, :, 2] =\n",
      " 0.0  1.0\n",
      " 1.0  0.0\n"
     ]
    },
    {
     "data": {
      "text/plain": [
       "ITensor ord=3 (dim=2|id=572|\"left\") (dim=2|id=85|\"right\") (dim=2|id=489|\"spin\")\n",
       "NDTensors.Dense{Float64, Vector{Float64}}"
      ]
     },
     "execution_count": 14,
     "metadata": {},
     "output_type": "execute_result"
    }
   ],
   "source": [
    "leftindex=Index(2,\"left\")\n",
    "rightindex=Index(2,\"right\")\n",
    "spinindex=Index(2,\"spin\")\n",
    "R=ITensor(0.,leftindex,rightindex,spinindex)\n",
    "R[leftindex=>:,rightindex=>:,spinindex=>1]=[1 0;0 1]\n",
    "R[leftindex=>:,rightindex=>:,spinindex=>2]=[0 1;1 0]\n",
    "@show R"
   ]
  },
  {
   "cell_type": "markdown",
   "id": "adf0616f",
   "metadata": {},
   "source": [
    "Note -- you may want to look carefully at the slick *slicing* notation that I used to input the tensor:  I told it what the spin-up component was, and what the spin-down component was"
   ]
  },
  {
   "cell_type": "markdown",
   "id": "f8e58336",
   "metadata": {},
   "source": [
    "Here is a quick routine to pretty-print this tensor in a simpler form  (pp stands for \"pretty print\").  You done need to worry about the details of the code -- but it is pretty simple"
   ]
  },
  {
   "cell_type": "code",
   "execution_count": 15,
   "id": "65426f7e",
   "metadata": {},
   "outputs": [
    {
     "data": {
      "text/plain": [
       "simplepp"
      ]
     },
     "execution_count": 15,
     "metadata": {},
     "output_type": "execute_result"
    }
   ],
   "source": [
    "\"\"\"\n",
    "    simplepp(t::ITensor,localbasis::Array,leftind::Index,rightind::Index,siteind::Index)\n",
    "\n",
    "`simplepp` takes a rank 3 itensor `t`, and a vector of kets `localbasis`, \n",
    "and returns an array of kets which represents the same tensor.\n",
    "\n",
    "You also need to tell it what the indices are\n",
    "\n",
    "There is no error checking, so use at your own risk.\n",
    "\n",
    "Example:\n",
    "```julia-repl\n",
    "    leftindex=Index(2,\"left\")\n",
    "    rightindex=Index(2,\"right\")\n",
    "    spinindex=Index(2,\"spin\")\n",
    "    R=ITensor(0.,leftindex,rightindex,spinindex)\n",
    "    R[leftindex=>:,rightindex=>:,spinindex=>1]=[1 0;0 1]\n",
    "    R[leftindex=>:,rightindex=>:,spinindex=>2]=[0 1;1 0]\n",
    "    pptensor(R,[ket(\"↑\") ket(\"↓\")],leftindex,rightindex,spinindex)\n",
    "```\n",
    "\n",
    "\"\"\"\n",
    "function simplepp(t::ITensor,localbasis::Array,leftind::Index,rightind::Index,siteind::Index)\n",
    "    Rp=fill(ket(),(dim(leftind),dim(rightind))) # construct an empty array\n",
    "    for l in leftind\n",
    "        for r in rightind\n",
    "            for s in siteind\n",
    "                Rp[l[2],r[2]]+=t[l,r,s]*localbasis[s[2]]\n",
    "            end\n",
    "        end\n",
    "    end\n",
    "    Rp\n",
    "end"
   ]
  },
  {
   "cell_type": "code",
   "execution_count": 16,
   "id": "7369ce79",
   "metadata": {},
   "outputs": [
    {
     "data": {
      "text/plain": [
       "2×2 Matrix{ket}:\n",
       " 1.0|↑⟩  1.0|↓⟩\n",
       " 1.0|↓⟩  1.0|↑⟩"
      ]
     },
     "execution_count": 16,
     "metadata": {},
     "output_type": "execute_result"
    }
   ],
   "source": [
    "simplepp(R,[ket(\"↑\") ket(\"↓\")],leftindex,rightindex,spinindex)"
   ]
  },
  {
   "cell_type": "markdown",
   "id": "31c00019",
   "metadata": {},
   "source": [
    "<h3 style=\"border: 2px solid #000; border-radius: 10px; padding: 20px; background-color:red; color:white;\" >Problems</h3>"
   ]
  },
  {
   "cell_type": "markdown",
   "id": "0a8cd8ea",
   "metadata": {},
   "source": [
    "**Generate an ITensor which represents the matrix\n",
    "$$B=\\left(\n",
    "\\begin{array}{cc}\n",
    "\\frac{-1}{\\sqrt{3}} |0\\rangle & \\sqrt{\\frac{2}{3}}|+\\rangle\\\\\n",
    "- \\sqrt{\\frac{2}{3}}|-\\rangle&\\frac{1}{\\sqrt{3}} |0\\rangle\n",
    "\\end{array}\n",
    "\\right)$$**\n",
    "\n",
    "**Then use `pptensor` to pretty-print it***"
   ]
  },
  {
   "cell_type": "code",
   "execution_count": null,
   "id": "b75c53f5",
   "metadata": {},
   "outputs": [],
   "source": []
  },
  {
   "cell_type": "code",
   "execution_count": null,
   "id": "a1e132af",
   "metadata": {},
   "outputs": [],
   "source": []
  },
  {
   "cell_type": "code",
   "execution_count": null,
   "id": "64c82476",
   "metadata": {},
   "outputs": [],
   "source": []
  },
  {
   "cell_type": "markdown",
   "id": "e7101513",
   "metadata": {},
   "source": [
    "<h3 style=\"border: 2px solid #000; border-radius: 10px; padding: 20px; background-color:red; color:white;\" >End Problems</h3>"
   ]
  },
  {
   "cell_type": "markdown",
   "id": "4a0b06da",
   "metadata": {},
   "source": [
    "### Inner and Outer Products"
   ]
  },
  {
   "cell_type": "markdown",
   "id": "f9a03964",
   "metadata": {},
   "source": [
    "Matrix multiplication uses the standard muliplication symbol, \"*\".  Repeated indices are contracted, while unique indices result in an outer product.\n",
    "\n",
    "For example, if you had two vectors\n",
    "\n",
    "      i         i\n",
    "    A---      B----\n",
    "\n",
    "Multiplying them would give a scalar\n",
    "\n",
    "    A--B\n",
    "\n",
    "Conversely, if you had\n",
    "\n",
    "      i          j\n",
    "    A---       C---\n",
    "\n",
    "Multiplying them would give the outer product\n",
    "\n",
    "     i     j\n",
    "    ---A C---"
   ]
  },
  {
   "cell_type": "code",
   "execution_count": null,
   "id": "0af704cc",
   "metadata": {},
   "outputs": [],
   "source": [
    "@variables a1,a2,b1,b2,c1,c2;"
   ]
  },
  {
   "cell_type": "code",
   "execution_count": null,
   "id": "e4815aac",
   "metadata": {},
   "outputs": [],
   "source": [
    "A=ITensor([a1 a2],i)\n",
    "B=ITensor([b1 b2],i)\n",
    "C=ITensor([c1 c2],j);"
   ]
  },
  {
   "cell_type": "code",
   "execution_count": null,
   "id": "a42910cb",
   "metadata": {},
   "outputs": [],
   "source": [
    "@show A*B;"
   ]
  },
  {
   "cell_type": "code",
   "execution_count": null,
   "id": "3a008e8c",
   "metadata": {},
   "outputs": [],
   "source": [
    "@show A*C;"
   ]
  },
  {
   "cell_type": "markdown",
   "id": "fa10c3e6",
   "metadata": {},
   "source": [
    "Note `A*B` was a 'order zero' tensor -- which is equivalent to a scalar.  We can strip all of the `ITensor` features with `only`"
   ]
  },
  {
   "cell_type": "code",
   "execution_count": null,
   "id": "a9eff641",
   "metadata": {},
   "outputs": [],
   "source": [
    "only(A*B)"
   ]
  },
  {
   "cell_type": "markdown",
   "id": "3154fb08",
   "metadata": {},
   "source": [
    "which should be contrasted with"
   ]
  },
  {
   "cell_type": "code",
   "execution_count": null,
   "id": "ce1af2fa",
   "metadata": {},
   "outputs": [],
   "source": [
    "A*B"
   ]
  },
  {
   "cell_type": "markdown",
   "id": "7d1709d9",
   "metadata": {},
   "source": [
    "Here is an example with numbers. We construct vectors $v_1=(1,2)$ and $v_2=(3,4)$, we can form their outer product\n",
    "\n",
    "$\\left(\\begin{array}{c}1\\\\2\\end{array}\\right)\\left(\\begin{array}{cc}3&4\\end{array}\\right)=\\left(\\begin{array}{cc}3&4\\\\6&8\\end{array}\\right)$\n",
    "Recall:  You can type subscripts as \"v\\_1\" then hit tab"
   ]
  },
  {
   "cell_type": "code",
   "execution_count": null,
   "id": "50758bd0",
   "metadata": {
    "scrolled": true
   },
   "outputs": [],
   "source": [
    "v₁=itensor([1 2],i)\n",
    "v₂=itensor([3 4],j)\n",
    "v12=v₁*v₂\n",
    "@show v12"
   ]
  },
  {
   "cell_type": "markdown",
   "id": "c49c60ec",
   "metadata": {},
   "source": [
    "The same works for higher rank objects.  Consider the following rank 2 tensors\n",
    "\n",
    "     i   j       i   j      j   k\n",
    "    ---M---     ---N---    ---L---\n",
    "\n",
    "    \n",
    "`M*N` will give a scalar -- as both the `i` and `j` indices will be contracted\n",
    "\n",
    "\n",
    "      --M--\n",
    "    i|     |j\n",
    "      --N--\n",
    "\n",
    "You can think of it like Einstein notation:\n",
    "$$M*N=\\sum_{ij} M_{ij} N_{ij}$$\n",
    "\n",
    "`M*L` is instead a rank-2  tensor\n",
    "\n",
    "     i       k\n",
    "    ---M---L---\n"
   ]
  },
  {
   "cell_type": "code",
   "execution_count": null,
   "id": "6342e3b8",
   "metadata": {},
   "outputs": [],
   "source": [
    "@variables m11,m12,m21,m22,n11,n12,n21,n22,l11,l12,l21,l22;"
   ]
  },
  {
   "cell_type": "code",
   "execution_count": null,
   "id": "ee084c67",
   "metadata": {},
   "outputs": [],
   "source": [
    "k=Index(2,\"k\")\n",
    "M=ITensor([m11 m12;m21 m22],i,j)\n",
    "N=ITensor([n11 n12;n21 n22],i,j)\n",
    "L=ITensor([l11 l12;l21 l22],j,k);"
   ]
  },
  {
   "cell_type": "code",
   "execution_count": null,
   "id": "cdc2dbc6",
   "metadata": {},
   "outputs": [],
   "source": [
    "@show M*N"
   ]
  },
  {
   "cell_type": "code",
   "execution_count": null,
   "id": "2acc232b",
   "metadata": {},
   "outputs": [],
   "source": [
    "@show M*L"
   ]
  },
  {
   "cell_type": "markdown",
   "id": "567cb740",
   "metadata": {},
   "source": [
    "<h3 style=\"border: 2px solid #000; border-radius: 10px; padding: 20px; background-color:red; color:white;\" >Problems</h3>"
   ]
  },
  {
   "cell_type": "markdown",
   "id": "00992251",
   "metadata": {},
   "source": [
    "**Create itensors which represent the vectors (1,1) and (1,-1) -- and construct their dot-product.  These are rank 1 tensors, so they have only one index.  The indices should be the same so that it is contracted.**"
   ]
  },
  {
   "cell_type": "code",
   "execution_count": null,
   "id": "8c9df47e",
   "metadata": {},
   "outputs": [],
   "source": []
  },
  {
   "cell_type": "code",
   "execution_count": null,
   "id": "982ea030",
   "metadata": {},
   "outputs": [],
   "source": []
  },
  {
   "cell_type": "markdown",
   "id": "fe826e88",
   "metadata": {},
   "source": [
    "**Now construct the outer product of the same two vectors -- you will need to redefine one of them to have a different index**"
   ]
  },
  {
   "cell_type": "code",
   "execution_count": null,
   "id": "036a48e9",
   "metadata": {},
   "outputs": [],
   "source": []
  },
  {
   "cell_type": "code",
   "execution_count": null,
   "id": "c7a03281",
   "metadata": {},
   "outputs": [],
   "source": []
  },
  {
   "cell_type": "markdown",
   "id": "faf597f4",
   "metadata": {},
   "source": [
    "**Find ${\\rm Tr} \\sigma_z^2$ by contracting two $\\sigma_z$ matrices**"
   ]
  },
  {
   "cell_type": "code",
   "execution_count": null,
   "id": "36da8ba2",
   "metadata": {},
   "outputs": [],
   "source": []
  },
  {
   "cell_type": "code",
   "execution_count": null,
   "id": "361f3230",
   "metadata": {},
   "outputs": [],
   "source": []
  },
  {
   "cell_type": "markdown",
   "id": "34cc7c99",
   "metadata": {},
   "source": [
    "<h3 style=\"border: 2px solid #000; border-radius: 10px; padding: 20px; background-color:red; color:white;\" >End Problems</h3>"
   ]
  },
  {
   "cell_type": "markdown",
   "id": "bd5688a9",
   "metadata": {},
   "source": [
    "### Changing indices of an existing tensor"
   ]
  },
  {
   "cell_type": "markdown",
   "id": "548629f4",
   "metadata": {},
   "source": [
    "If we want to multiply two matrices to get a third one we want the indices to look like:\n",
    "\n",
    "$$C_{ij}=\\sum_j A_{ik} B_{kj}$$\n",
    "\n",
    "It would be very unweildy if we needed to reconstruct our tensors to get the indices right.  There is, of course, a function to change the index.  Lets take the Pauli matrices that we defined, and try to calculate the commutator os $\\sigma_x$ and $\\sigma_y$.  \n",
    "\n",
    "As a first step, I'll just refresh the definitions, to make sure that they have not been modified in the notebook."
   ]
  },
  {
   "cell_type": "code",
   "execution_count": null,
   "id": "e2019d54",
   "metadata": {},
   "outputs": [],
   "source": [
    "i=Index(2,\"i\")\n",
    "j=Index(2,\"j\")\n",
    "sigz=ITensor([1 0;0 1],i,j)\n",
    "sigx=ITensor([0 1;1 0],i,j)\n",
    "sigy=ITensor([0 -1im;1im 0],i,j)"
   ]
  },
  {
   "cell_type": "markdown",
   "id": "8eecef04",
   "metadata": {},
   "source": [
    "Next we need the new index that we will contract over"
   ]
  },
  {
   "cell_type": "code",
   "execution_count": null,
   "id": "0c8afb43",
   "metadata": {},
   "outputs": [],
   "source": [
    "k=Index(2,\"k\") #Generate a new index"
   ]
  },
  {
   "cell_type": "markdown",
   "id": "16c7e4f9",
   "metadata": {},
   "source": [
    "There are two ways of changing an index.  The first is in-place"
   ]
  },
  {
   "cell_type": "code",
   "execution_count": null,
   "id": "61977130",
   "metadata": {},
   "outputs": [],
   "source": [
    "replaceinds!(sigx,j=>k)\n",
    "@show sigx"
   ]
  },
  {
   "cell_type": "markdown",
   "id": "a32387ea",
   "metadata": {},
   "source": [
    "The second way is to create a new view"
   ]
  },
  {
   "cell_type": "code",
   "execution_count": null,
   "id": "6bd22267",
   "metadata": {},
   "outputs": [],
   "source": [
    "newsigy=replaceinds(sigy,i=>k)"
   ]
  },
  {
   "cell_type": "markdown",
   "id": "0c37f5ae",
   "metadata": {},
   "source": [
    "We can see that the original is unchanged"
   ]
  },
  {
   "cell_type": "code",
   "execution_count": null,
   "id": "d5c9aaf0",
   "metadata": {},
   "outputs": [],
   "source": [
    "sigy"
   ]
  },
  {
   "cell_type": "markdown",
   "id": "b90ffbc5",
   "metadata": {},
   "source": [
    "We can now multiply the two"
   ]
  },
  {
   "cell_type": "code",
   "execution_count": null,
   "id": "09d8b8c1",
   "metadata": {},
   "outputs": [],
   "source": [
    "@show sigx*newsigy"
   ]
  },
  {
   "cell_type": "markdown",
   "id": "d3fad71b",
   "metadata": {},
   "source": [
    "We can also do this inline"
   ]
  },
  {
   "cell_type": "code",
   "execution_count": null,
   "id": "fec2c44a",
   "metadata": {},
   "outputs": [],
   "source": [
    "sigz=ITensor([1 0;0 1],i,j)\n",
    "sigx=ITensor([0 1;1 0],i,j)\n",
    "sigy=ITensor([0 -1im;1im 0],i,j)\n",
    "@show replaceinds(sigx,j=>k)*replaceinds(sigy,i=>k)"
   ]
  },
  {
   "cell_type": "markdown",
   "id": "32a9fb54",
   "metadata": {},
   "source": [
    "<h3 style=\"border: 2px solid #000; border-radius: 10px; padding: 20px; background-color:red; color:white;\" >Problems</h3>"
   ]
  },
  {
   "cell_type": "markdown",
   "id": "6a74af9a",
   "metadata": {},
   "source": [
    "Calculate the commutator of $\\sigma_x$ and $\\sigma_y$ using ITensors"
   ]
  },
  {
   "cell_type": "code",
   "execution_count": null,
   "id": "e2505fc6",
   "metadata": {},
   "outputs": [],
   "source": []
  },
  {
   "cell_type": "markdown",
   "id": "834f2029",
   "metadata": {},
   "source": [
    "<h3 style=\"border: 2px solid #000; border-radius: 10px; padding: 20px; background-color:red; color:white;\" >End Problems</h3>"
   ]
  },
  {
   "cell_type": "markdown",
   "id": "509721e7",
   "metadata": {},
   "source": [
    "### Prime levels"
   ]
  },
  {
   "cell_type": "markdown",
   "id": "afc2c7cf",
   "metadata": {},
   "source": [
    "If we have a bunch of indices, which are really just copies of the same thing, it is good to have notation to suggest that.  For example, in the Pauli matrices, `i`, `j`, and `k` had the same meaning.  The label was just to know which to contract.  In such cases, rather than introducing new indices, we can use 'primes' -- which you indicate by simply putting a tick mark after the index"
   ]
  },
  {
   "cell_type": "code",
   "execution_count": null,
   "id": "321b06d2",
   "metadata": {},
   "outputs": [],
   "source": [
    "@show mat1=itensor([0 1;0 0],i,i')"
   ]
  },
  {
   "cell_type": "markdown",
   "id": "baf9f0fe",
   "metadata": {},
   "source": [
    "We can create views with changed prime levels"
   ]
  },
  {
   "cell_type": "code",
   "execution_count": null,
   "id": "a1b1a609",
   "metadata": {},
   "outputs": [],
   "source": [
    "mat1b=replaceprime(mat1,1=>3)"
   ]
  },
  {
   "cell_type": "markdown",
   "id": "33702367",
   "metadata": {},
   "source": [
    "This leaves mat1 unchanged"
   ]
  },
  {
   "cell_type": "code",
   "execution_count": null,
   "id": "644168c8",
   "metadata": {},
   "outputs": [],
   "source": [
    "mat1"
   ]
  },
  {
   "cell_type": "markdown",
   "id": "8996379f",
   "metadata": {},
   "source": [
    "Finally we can add or subtract some number of prime levels from all indices"
   ]
  },
  {
   "cell_type": "code",
   "execution_count": null,
   "id": "bdc03fc9",
   "metadata": {},
   "outputs": [],
   "source": [
    "prime(mat1)"
   ]
  },
  {
   "cell_type": "code",
   "execution_count": null,
   "id": "a9a3d02f",
   "metadata": {},
   "outputs": [],
   "source": [
    "mat2=prime(mat1,3)"
   ]
  },
  {
   "cell_type": "code",
   "execution_count": null,
   "id": "92c618ea",
   "metadata": {},
   "outputs": [],
   "source": [
    "mat3=prime(mat2,-1)"
   ]
  },
  {
   "cell_type": "markdown",
   "id": "7ba9e99b",
   "metadata": {},
   "source": [
    "There is also an in-place version"
   ]
  },
  {
   "cell_type": "code",
   "execution_count": null,
   "id": "d7e82119",
   "metadata": {},
   "outputs": [],
   "source": [
    "prime!(mat2,-2)\n",
    "mat2"
   ]
  },
  {
   "cell_type": "markdown",
   "id": "e0136f65",
   "metadata": {},
   "source": [
    "This makes matrix multiplication easy"
   ]
  },
  {
   "cell_type": "code",
   "execution_count": null,
   "id": "1abb2206",
   "metadata": {},
   "outputs": [],
   "source": [
    "sigx=ITensor([0 1;1 0],i,i')\n",
    "sigy=ITensor([0 -1im;1im 0],i,i')\n",
    "prodxy=replaceprime(sigx*prime(sigy),2=>1)\n",
    "@show prodxy"
   ]
  },
  {
   "cell_type": "markdown",
   "id": "076809e6",
   "metadata": {},
   "source": [
    "<h3 style=\"border: 2px solid #000; border-radius: 10px; padding: 20px; background-color:red; color:white;\" >Problems</h3>"
   ]
  },
  {
   "cell_type": "markdown",
   "id": "d14f2f66",
   "metadata": {},
   "source": [
    "**Again calculate the commutator of $\\sigma_x$ and $\\sigma_y$ -- but this time using primes** "
   ]
  },
  {
   "cell_type": "code",
   "execution_count": null,
   "id": "2844ab70",
   "metadata": {},
   "outputs": [],
   "source": []
  },
  {
   "cell_type": "markdown",
   "id": "0360bec2",
   "metadata": {},
   "source": [
    "<h3 style=\"border: 2px solid #000; border-radius: 10px; padding: 20px; background-color:red; color:white;\" >End \n",
    "   Problems</h3>"
   ]
  },
  {
   "cell_type": "markdown",
   "id": "03ea0d5e",
   "metadata": {},
   "source": [
    "<h1 style=\"border: 2px solid #000; border-radius: 10px; padding: 20px; background-color:blue; color:white;\" >Checkpoint 2</h1>"
   ]
  },
  {
   "cell_type": "markdown",
   "id": "837c5aef",
   "metadata": {},
   "source": [
    "### Singular value decomposition"
   ]
  },
  {
   "cell_type": "markdown",
   "id": "4c7e2caf",
   "metadata": {},
   "source": [
    "Given a wavefunction, say $|\\psi\\rangle=|\\uparrow\\uparrow\\uparrow\\uparrow\\downarrow\\rangle+|\\uparrow\\uparrow\\uparrow\\downarrow\\uparrow\\rangle+|\\uparrow\\uparrow\\downarrow\\uparrow\\uparrow\\rangle+\n",
    "|\\uparrow\\downarrow\\uparrow\\uparrow\\uparrow\\rangle+|\\downarrow\\uparrow\\uparrow\\uparrow\\uparrow\\rangle$, we want to write this as\n",
    "$$\n",
    "|\\psi\\rangle=\\sum_\\alpha \\lambda_\\alpha |\\alpha\\rangle_{12} |\\alpha\\rangle_{345} \n",
    "$$\n",
    "where $|\\alpha\\rangle_{12}$ is a state involving sites 1 and 2, while $|\\alpha\\rangle_{345}$ involves sites 3,4,5.\n",
    "\n",
    "The states $|\\alpha\\rangle_{12}$ and $|\\beta\\rangle_{345}$ act on different Hilbert spaces and cannot be compared.  Those acting on the same space should be orthonormal:\n",
    "$_{12}\\langle\\alpha|\\beta\\rangle_{12}=\\delta_{\\alpha\\beta}$ and \n",
    "$_{345}\\langle\\alpha|\\beta\\rangle_{345}=\\delta_{\\alpha\\beta}$.\n",
    "\n",
    "This is referred to as the Schmidt decomposition.  The non-negative real coefficients $\\lambda_\\alpha$ are the Schmidt values, and they define what is meant by entanglement.  The {\\em entanglement entropy} is defined as\n",
    "$$\n",
    "S=-\\sum_\\alpha \\lambda_\\alpha^2\\ln  \\lambda_\\alpha^2.\n",
    "$$\n",
    "It tells you how much information you get about the right half of the system from measuring the left.\n",
    "\n",
    "The mathematical operation to calculate the Schmidt decomposition is the Singular Value Decomposition"
   ]
  },
  {
   "cell_type": "markdown",
   "id": "f14e2d69",
   "metadata": {},
   "source": [
    "Lets generate this state.  First we need the index objects for each of the five sites:"
   ]
  },
  {
   "cell_type": "code",
   "execution_count": 18,
   "id": "df844f22",
   "metadata": {},
   "outputs": [
    {
     "data": {
      "text/plain": [
       "5-element Vector{Index{Int64}}:\n",
       " (dim=2|id=300|\"1,site\")\n",
       " (dim=2|id=695|\"2,site\")\n",
       " (dim=2|id=86|\"3,site\")\n",
       " (dim=2|id=453|\"4,site\")\n",
       " (dim=2|id=817|\"5,site\")"
      ]
     },
     "execution_count": 18,
     "metadata": {},
     "output_type": "execute_result"
    }
   ],
   "source": [
    "spinindices=[Index(2,\"site,\"*string(j)) for j in 1:5]"
   ]
  },
  {
   "cell_type": "code",
   "execution_count": 19,
   "id": "a9b64d46",
   "metadata": {},
   "outputs": [
    {
     "data": {
      "text/plain": [
       "ITensor ord=5 (dim=2|id=300|\"1,site\") (dim=2|id=695|\"2,site\") (dim=2|id=86|\"3,site\") (dim=2|id=453|\"4,site\") (dim=2|id=817|\"5,site\")\n",
       "NDTensors.EmptyStorage{NDTensors.EmptyNumber, NDTensors.Dense{NDTensors.EmptyNumber, Vector{NDTensors.EmptyNumber}}}"
      ]
     },
     "execution_count": 19,
     "metadata": {},
     "output_type": "execute_result"
    }
   ],
   "source": [
    "psi5=ITensor(spinindices)"
   ]
  },
  {
   "cell_type": "code",
   "execution_count": 20,
   "id": "08f26f1b",
   "metadata": {},
   "outputs": [
    {
     "name": "stdout",
     "output_type": "stream",
     "text": [
      "indlist = Pair{Index{Int64}, Int64}[(dim=2|id=300|\"1,site\") => 1, (dim=2|id=695|\"2,site\") => 1, (dim=2|id=86|\"3,site\") => 1, (dim=2|id=453|\"4,site\") => 1, (dim=2|id=817|\"5,site\") => 1]\n"
     ]
    },
    {
     "data": {
      "text/plain": [
       "5-element Vector{Pair{Index{Int64}, Int64}}:\n",
       " (dim=2|id=300|\"1,site\") => 1\n",
       " (dim=2|id=695|\"2,site\") => 1\n",
       "  (dim=2|id=86|\"3,site\") => 1\n",
       " (dim=2|id=453|\"4,site\") => 1\n",
       " (dim=2|id=817|\"5,site\") => 1"
      ]
     },
     "execution_count": 20,
     "metadata": {},
     "output_type": "execute_result"
    }
   ],
   "source": [
    "indlist=[spinindices[j]=>1 for j in 1:5]\n",
    "@show (indlist)"
   ]
  },
  {
   "cell_type": "code",
   "execution_count": 21,
   "id": "01f39a71",
   "metadata": {},
   "outputs": [],
   "source": [
    "indlist=[spinindices[j]=>1 for j in 1:5] # make a list which sets the spin indices\n",
    "for s in 1:5 # s is the site which is down\n",
    "    for t in 1:5\n",
    "        if t==s\n",
    "            indlist[t]=(spinindices[t]=>2)\n",
    "        else\n",
    "            indlist[t]=(spinindices[t]=>1)\n",
    "        end\n",
    "    end \n",
    "    psi5[indlist...]=1\n",
    "end "
   ]
  },
  {
   "cell_type": "markdown",
   "id": "f72be370",
   "metadata": {},
   "source": [
    "Our regular way of displaying the wavefunction is uninformative, so lets write a new pretty printing command.  For simplicity this command assumes that the indices of `T` are all identical site indices, and they are arranged in the order of the sites."
   ]
  },
  {
   "cell_type": "code",
   "execution_count": 17,
   "id": "434ef727",
   "metadata": {},
   "outputs": [
    {
     "data": {
      "text/plain": [
       "scalarpp (generic function with 1 method)"
      ]
     },
     "execution_count": 17,
     "metadata": {},
     "output_type": "execute_result"
    }
   ],
   "source": [
    "function scalarpp(T::ITensor,localstates::Array{ket})\n",
    "    ar=array(T) #unpack raw tensor -- as it is easier to work with\n",
    "    result=ket() #empty ket to use as result\n",
    "    for ci in CartesianIndices(ar) #loop over indices of the array\n",
    "        nonzero=true\n",
    "        try\n",
    "            if abs(ar[ci])<1E-6 # only do something if the array's entry is above a threshold\n",
    "                nonzero=false\n",
    "            end\n",
    "        catch\n",
    "            nonzero=true\n",
    "        end\n",
    "        if nonzero\n",
    "            newterm=ket(\"\") # create trivial ket\n",
    "            for site in ci.I\n",
    "                newterm=newterm*localstates[site]  # add site information to ket\n",
    "            end\n",
    "            result+= ar[ci]*newterm # add ket to result\n",
    "        end\n",
    "    end\n",
    "    result\n",
    "end"
   ]
  },
  {
   "cell_type": "code",
   "execution_count": 22,
   "id": "02a6b6ff",
   "metadata": {},
   "outputs": [
    {
     "data": {
      "text/latex": [
       "$$|↓↑↑↑↑\\rangle+|↑↓↑↑↑\\rangle+|↑↑↓↑↑\\rangle+|↑↑↑↓↑\\rangle+|↑↑↑↑↓\\rangle$$"
      ],
      "text/plain": [
       "|↓↑↑↑↑⟩+|↑↓↑↑↑⟩+|↑↑↓↑↑⟩+|↑↑↑↓↑⟩+|↑↑↑↑↓⟩"
      ]
     },
     "execution_count": 22,
     "metadata": {},
     "output_type": "execute_result"
    }
   ],
   "source": [
    "scalarpp(psi5,[ket(\"↑\"),ket(\"↓\")])"
   ]
  },
  {
   "cell_type": "markdown",
   "id": "6e577a64",
   "metadata": {},
   "source": [
    "We can perform an SVD"
   ]
  },
  {
   "cell_type": "code",
   "execution_count": null,
   "id": "d34b4a84",
   "metadata": {},
   "outputs": [],
   "source": [
    "(u,s,v)=svd(psi5,spinindices[1:2]);"
   ]
  },
  {
   "cell_type": "markdown",
   "id": "1b959822",
   "metadata": {},
   "source": [
    "The Schmidt values are stored in s"
   ]
  },
  {
   "cell_type": "code",
   "execution_count": null,
   "id": "cbf93565",
   "metadata": {},
   "outputs": [],
   "source": [
    "@show s"
   ]
  },
  {
   "cell_type": "code",
   "execution_count": null,
   "id": "bce4e251",
   "metadata": {},
   "outputs": [],
   "source": [
    "s[1,1]^2+s[2,2]^2"
   ]
  },
  {
   "cell_type": "markdown",
   "id": "a759a08b",
   "metadata": {},
   "source": [
    "If our state was properly normalized, the squares of the Schmidt values should add to 1.  Normalizing them"
   ]
  },
  {
   "cell_type": "code",
   "execution_count": null,
   "id": "270333cc",
   "metadata": {},
   "outputs": [],
   "source": [
    "normedSchmidts=[s[1,1]/sqrt(5),s[2,2]/sqrt(5)]"
   ]
  },
  {
   "cell_type": "markdown",
   "id": "51eee97f",
   "metadata": {},
   "source": [
    "the indices `'Link,u'` and `'Link,v'` are the $\\alpha$'s -- they label the basis states on each part of the system"
   ]
  },
  {
   "cell_type": "markdown",
   "id": "7a77fd07",
   "metadata": {},
   "source": [
    "Here are the basis states for the left two sites"
   ]
  },
  {
   "cell_type": "code",
   "execution_count": null,
   "id": "ec0a1704",
   "metadata": {},
   "outputs": [],
   "source": [
    "uind=commonindex(u,s)"
   ]
  },
  {
   "cell_type": "code",
   "execution_count": null,
   "id": "3db24cf8",
   "metadata": {},
   "outputs": [],
   "source": [
    "u1=u*onehot(uind=>1)\n",
    "scalarpp(u1,[ket(\"↑\"),ket(\"↓\")])"
   ]
  },
  {
   "cell_type": "code",
   "execution_count": null,
   "id": "17651764",
   "metadata": {},
   "outputs": [],
   "source": [
    "u2=u*onehot(uind=>2)\n",
    "scalarpp(u2,[ket(\"↑\"),ket(\"↓\")])"
   ]
  },
  {
   "cell_type": "markdown",
   "id": "caa89351",
   "metadata": {},
   "source": [
    "And here are the basis states for the right 3"
   ]
  },
  {
   "cell_type": "code",
   "execution_count": null,
   "id": "aaca7ddf",
   "metadata": {},
   "outputs": [],
   "source": [
    "vind=commonindex(v,s)"
   ]
  },
  {
   "cell_type": "code",
   "execution_count": null,
   "id": "566ff3a4",
   "metadata": {},
   "outputs": [],
   "source": [
    "v1=v*onehot(vind=>1)\n",
    "v1k=scalarpp(v1,[ket(\"↑\"),ket(\"↓\")])"
   ]
  },
  {
   "cell_type": "code",
   "execution_count": null,
   "id": "8e58fdb9",
   "metadata": {},
   "outputs": [],
   "source": [
    "v2=v*onehot(vind=>2)\n",
    "v2k=scalarpp(v2,[ket(\"↑\"),ket(\"↓\")])"
   ]
  },
  {
   "cell_type": "code",
   "execution_count": null,
   "id": "4479e8a6",
   "metadata": {},
   "outputs": [],
   "source": [
    "tabledisplay(v1k)"
   ]
  },
  {
   "cell_type": "markdown",
   "id": "70ef6a0e",
   "metadata": {},
   "source": [
    "<h3 style=\"border: 2px solid #000; border-radius: 10px; padding: 20px; background-color:red; color:white;\" >Problems</h3>"
   ]
  },
  {
   "cell_type": "markdown",
   "id": "d9145f29",
   "metadata": {},
   "source": [
    "**Find the entanglement entropy of that state when we break it between the second and third site.  (This just requires using the normalized Schmidt values.)**"
   ]
  },
  {
   "cell_type": "code",
   "execution_count": null,
   "id": "9648874d",
   "metadata": {},
   "outputs": [],
   "source": []
  },
  {
   "cell_type": "markdown",
   "id": "deb30212",
   "metadata": {},
   "source": [
    "**Find the entanglement entropy if you break it between the first and second site**"
   ]
  },
  {
   "cell_type": "code",
   "execution_count": null,
   "id": "51bb6bb3",
   "metadata": {},
   "outputs": [],
   "source": []
  },
  {
   "cell_type": "code",
   "execution_count": null,
   "id": "ceee9823",
   "metadata": {},
   "outputs": [],
   "source": []
  },
  {
   "cell_type": "code",
   "execution_count": null,
   "id": "67a43297",
   "metadata": {},
   "outputs": [],
   "source": []
  },
  {
   "cell_type": "markdown",
   "id": "15ed328b",
   "metadata": {},
   "source": [
    "<h3 style=\"border: 2px solid #000; border-radius: 10px; padding: 20px; background-color:red; color:white;\" >End Problems</h3>"
   ]
  },
  {
   "cell_type": "markdown",
   "id": "5a515d0c",
   "metadata": {},
   "source": [
    "<h3 style=\"border: 2px solid #000; border-radius: 10px; padding: 20px; background-color:yellow; color:black;\" >Aside: More visualization</h3>"
   ]
  },
  {
   "cell_type": "markdown",
   "id": "ea8d3eb8",
   "metadata": {},
   "source": [
    "Here are functions to pretty print Tensors with any number of site indices, and either one or two bond indices."
   ]
  },
  {
   "cell_type": "code",
   "execution_count": 23,
   "id": "ab5fed7f",
   "metadata": {},
   "outputs": [
    {
     "data": {
      "text/plain": [
       "vectorpp (generic function with 1 method)"
      ]
     },
     "execution_count": 23,
     "metadata": {},
     "output_type": "execute_result"
    }
   ],
   "source": [
    "vectorpp(T::ITensor,bondindex::Index,localstates::Array{ket})=\n",
    "    [scalarpp(T*onehot(bondval),localstates) for bondval in eachindval(bondindex)]"
   ]
  },
  {
   "cell_type": "code",
   "execution_count": 24,
   "id": "b48a5e49",
   "metadata": {},
   "outputs": [
    {
     "data": {
      "text/plain": [
       "matrixpp (generic function with 1 method)"
      ]
     },
     "execution_count": 24,
     "metadata": {},
     "output_type": "execute_result"
    }
   ],
   "source": [
    "matrixpp(T::ITensor,leftbondindex::Index,rightbondindex::Index,localstates::Array{ket})=\n",
    "    [scalarpp(T*onehot(leftbondval,rightbondval),localstates) for \n",
    "            leftbondval in eachindval(leftbondindex),\n",
    "            rightbondval in eachindval(rightbondindex)]"
   ]
  },
  {
   "cell_type": "code",
   "execution_count": 25,
   "id": "71d13b2f",
   "metadata": {},
   "outputs": [
    {
     "ename": "LoadError",
     "evalue": "UndefVarError: `u` not defined",
     "output_type": "error",
     "traceback": [
      "UndefVarError: `u` not defined",
      "",
      "Stacktrace:",
      " [1] top-level scope",
      "   @ In[25]:1"
     ]
    }
   ],
   "source": [
    "vectorpp(u,uind,[ket(\"↑\") ket(\"↓\")])"
   ]
  },
  {
   "cell_type": "code",
   "execution_count": 26,
   "id": "586cb342",
   "metadata": {},
   "outputs": [
    {
     "ename": "LoadError",
     "evalue": "UndefVarError: `v` not defined",
     "output_type": "error",
     "traceback": [
      "UndefVarError: `v` not defined",
      "",
      "Stacktrace:",
      " [1] top-level scope",
      "   @ In[26]:1"
     ]
    }
   ],
   "source": [
    "vectorpp(v,vind,[ket(\"↑\") ket(\"↓\")])"
   ]
  },
  {
   "cell_type": "code",
   "execution_count": 27,
   "id": "a8ce9da8",
   "metadata": {},
   "outputs": [
    {
     "data": {
      "text/plain": [
       "2×2 Matrix{ket}:\n",
       " 1.0|↑⟩  1.0|↓⟩\n",
       " 1.0|↓⟩  1.0|↑⟩"
      ]
     },
     "execution_count": 27,
     "metadata": {},
     "output_type": "execute_result"
    }
   ],
   "source": [
    "leftindex=Index(2,\"left\")\n",
    "rightindex=Index(2,\"right\")\n",
    "spinindex=Index(2,\"spin\")\n",
    "R=ITensor(0.,leftindex,rightindex,spinindex)\n",
    "R[leftindex=>:,rightindex=>:,spinindex=>1]=[1 0;0 1]\n",
    "R[leftindex=>:,rightindex=>:,spinindex=>2]=[0 1;1 0]\n",
    "matrixpp(R,leftindex,rightindex,[ket(\"↑\") ket(\"↓\")])"
   ]
  },
  {
   "cell_type": "markdown",
   "id": "3e589171",
   "metadata": {},
   "source": [
    "<h3 style=\"border: 2px solid #000; border-radius: 10px; padding: 20px; background-color:yellow; color:black;\" >End Aside</h3>"
   ]
  },
  {
   "cell_type": "markdown",
   "id": "07b90f71",
   "metadata": {},
   "source": [
    "### Constructing Matrix Product States from arbitrary wavefunctions"
   ]
  },
  {
   "cell_type": "markdown",
   "id": "1bb797fb",
   "metadata": {},
   "source": [
    "We now have the tools required to convert `psi5` into a matrix product state"
   ]
  },
  {
   "cell_type": "markdown",
   "id": "e310b1b5",
   "metadata": {},
   "source": [
    "Step 1 create the far left matrix, A1 by doing a SVD on the entire state"
   ]
  },
  {
   "cell_type": "code",
   "execution_count": null,
   "id": "689f8515",
   "metadata": {},
   "outputs": [],
   "source": [
    "(u1,s1,v1)=svd(psi5,spinindices[1])\n",
    "uind1=commoninds(u1,s1)[1]\n",
    "swaptags!(u1,uind1.tags,\"link,1\") #change tags on link index\n",
    "swaptags!(s1,uind1.tags,\"link,1\") #change tags on link index\n",
    "bond1=settags(uind1,\"link,1\")\n",
    "A1=u1\n",
    "rest1=s1*v1;"
   ]
  },
  {
   "cell_type": "code",
   "execution_count": null,
   "id": "b91d718b",
   "metadata": {},
   "outputs": [],
   "source": [
    "vectorpp(A1,bond1,[up dn])"
   ]
  },
  {
   "cell_type": "code",
   "execution_count": null,
   "id": "9694091e",
   "metadata": {},
   "outputs": [],
   "source": [
    "vectorpp(rest1,bond1,[up dn])"
   ]
  },
  {
   "cell_type": "markdown",
   "id": "d8d17d61",
   "metadata": {},
   "source": [
    "Step 2: create A2 by doing a SVD on rest1"
   ]
  },
  {
   "cell_type": "code",
   "execution_count": null,
   "id": "f649e7a5",
   "metadata": {},
   "outputs": [],
   "source": [
    "(u2,s2,v2)=svd(rest1,spinindices[2],bond1)\n",
    "uind2=commoninds(u2,s2)[1]\n",
    "swaptags!(u2,uind2.tags,\"link,2\") #change tags on link index\n",
    "swaptags!(s2,uind2.tags,\"link,2\") #change tags on link index\n",
    "bond2=settags(uind2,\"link,2\")\n",
    "A2=u2\n",
    "rest2=s2*v2;"
   ]
  },
  {
   "cell_type": "code",
   "execution_count": null,
   "id": "3fbf93cf",
   "metadata": {},
   "outputs": [],
   "source": [
    "println(inds(A2))\n",
    "matrixpp(A2,bond1,bond2,[up dn])"
   ]
  },
  {
   "cell_type": "code",
   "execution_count": null,
   "id": "55f5b40e",
   "metadata": {},
   "outputs": [],
   "source": [
    "vectorpp(rest2,bond2,[up dn])"
   ]
  },
  {
   "cell_type": "markdown",
   "id": "30e483f0",
   "metadata": {},
   "source": [
    "<h3 style=\"border: 2px solid #000; border-radius: 10px; padding: 20px; background-color:red; color:white;\" >Problems</h3>"
   ]
  },
  {
   "cell_type": "markdown",
   "id": "ef490a7b",
   "metadata": {},
   "source": [
    "**Keep going, and generate A3, A4, A5.  Clearly it would be easy to encapsulate this, making a function which generates the MPS representation of a generic wavefunction -- but you do not need to make that function (unless you think it would be fun)**"
   ]
  },
  {
   "cell_type": "code",
   "execution_count": null,
   "id": "456edf79",
   "metadata": {},
   "outputs": [],
   "source": []
  },
  {
   "cell_type": "code",
   "execution_count": null,
   "id": "ee46e157",
   "metadata": {},
   "outputs": [],
   "source": []
  },
  {
   "cell_type": "code",
   "execution_count": null,
   "id": "b9c160a5",
   "metadata": {},
   "outputs": [],
   "source": []
  },
  {
   "cell_type": "code",
   "execution_count": null,
   "id": "8ffa4769",
   "metadata": {},
   "outputs": [],
   "source": []
  },
  {
   "cell_type": "markdown",
   "id": "8740c338",
   "metadata": {},
   "source": [
    "<h3 style=\"border: 2px solid #000; border-radius: 10px; padding: 20px; background-color:red; color:white;\" >End Problems</h3>"
   ]
  },
  {
   "cell_type": "markdown",
   "id": "047d85cf",
   "metadata": {},
   "source": [
    "### Transfer Matrices"
   ]
  },
  {
   "cell_type": "markdown",
   "id": "ce6b0619",
   "metadata": {},
   "source": [
    "In calculating expectation values of matrix product states we need to construct *transfer matrices*.  For example imagine that we have a rank 3 tensor $$A=\\left(\\begin{array}{cc}1. |\\uparrow\\rangle&0.1 |\\downarrow\\rangle\\\\\n",
    "0.1|\\uparrow\\rangle&1. |\\downarrow\\rangle\\end{array}\n",
    "\\right)$$\n",
    "The transfer matrix is a rank 4 tensor formed by contracting the site indices between two copies of $A$ -- or more correctly a copy of $A$ and a copy of $A^*$,\n",
    "<img src=\"https://docs.google.com/drawings/d/e/2PACX-1vSdoSIOG6aebpmhwCLcKJpyEITEQntmegz-W1I0pxt3P9cYadTVfnIKddsEWaT-9wlzX6Vtyz9ZL4JV/pub?w=374&amp;h=448\" width=200>\n",
    "\n",
    "The one new thing that we need is taking complex conjugates.  The command which does that in ITensor is `dag`-- which is short for 'dagger' -- meaning the operation which changes column vectors into row vectors, and simultaneously complex conjugation.  In our formalism there is no difference between row and column vectors, so 'dagger' is simply complex conjugation.  (When we talk about conservation laws it will do some extra things.)"
   ]
  },
  {
   "cell_type": "code",
   "execution_count": null,
   "id": "dbe33fdd",
   "metadata": {},
   "outputs": [],
   "source": [
    "s=Index(2,\"s\")\n",
    "@show psi=ITensor([0.1+0.2im,0.3-0.4im],s)"
   ]
  },
  {
   "cell_type": "code",
   "execution_count": null,
   "id": "d38db59c",
   "metadata": {},
   "outputs": [],
   "source": [
    "@show dag(psi)"
   ]
  },
  {
   "cell_type": "markdown",
   "id": "f4db5712",
   "metadata": {},
   "source": [
    "<h3 style=\"border: 2px solid #000; border-radius: 10px; padding: 20px; background-color:red; color:white;\" >Problems</h3>"
   ]
  },
  {
   "cell_type": "markdown",
   "id": "260f8dc2",
   "metadata": {},
   "source": [
    "**Generate the tensor $$A=\\left(\\begin{array}{cc}1. |\\uparrow\\rangle&0.1 |\\downarrow\\rangle\\\\\n",
    "0.1|\\uparrow\\rangle&1. |\\downarrow\\rangle\\end{array}\n",
    "\\right)$$ and use it to construct the transfer matrix \n",
    "<img src=\"https://docs.google.com/drawings/d/e/2PACX-1vSdoSIOG6aebpmhwCLcKJpyEITEQntmegz-W1I0pxt3P9cYadTVfnIKddsEWaT-9wlzX6Vtyz9ZL4JV/pub?w=374&amp;h=448\" width=200>\n",
    "as a 2x2x2x2 tensor with indices `l`, `l'`, `r`, `r'`**"
   ]
  },
  {
   "cell_type": "code",
   "execution_count": null,
   "id": "507ef887",
   "metadata": {},
   "outputs": [],
   "source": []
  },
  {
   "cell_type": "code",
   "execution_count": null,
   "id": "45eb06e8",
   "metadata": {},
   "outputs": [],
   "source": []
  },
  {
   "cell_type": "code",
   "execution_count": null,
   "id": "510af7e4",
   "metadata": {},
   "outputs": [],
   "source": []
  },
  {
   "cell_type": "code",
   "execution_count": null,
   "id": "0ae8ceb1",
   "metadata": {},
   "outputs": [],
   "source": []
  },
  {
   "cell_type": "code",
   "execution_count": null,
   "id": "1e6f84fc",
   "metadata": {},
   "outputs": [],
   "source": []
  },
  {
   "cell_type": "markdown",
   "id": "31e74eca",
   "metadata": {},
   "source": [
    "<h3 style=\"border: 2px solid #000; border-radius: 10px; padding: 20px; background-color:red; color:white;\" >End Problems</h3>"
   ]
  },
  {
   "cell_type": "markdown",
   "id": "0c143d30",
   "metadata": {},
   "source": [
    "### Combining Indices"
   ]
  },
  {
   "cell_type": "markdown",
   "id": "0ebe478f",
   "metadata": {},
   "source": [
    "It is often useful to combine indices.  For example, consider a two-spin wavefunction, such as the Bell state \n",
    "$|\\psi\\rangle=|\\uparrow\\uparrow\\rangle+|\\downarrow\\downarrow\\rangle$.  We can think of the coefficients of this wavefunction as a $2\\times 2$ matrix\n",
    "$$\n",
    "|\\psi\\rangle =\\left(\\begin{array}{cc}|\\uparrow\\rangle& |\\downarrow\\rangle\\end{array}\\right)\n",
    "\\left(\\begin{array}{cc}1&0\\\\0&1\\end{array}\\right)\\left(\\begin{array}{c}|\\uparrow\\rangle\\\\|\\downarrow\\rangle\\end{array}\\right)\n",
    "$$\n",
    "or a length 4 vector\n",
    "$$\n",
    "|\\psi\\rangle =\\left(\\begin{array}{cccc}1&0&0&1\\end{array}\\right)\n",
    "\\left(\\begin{array}{c}|\\uparrow\\uparrow\\rangle\\\\ |\\uparrow\\downarrow\\rangle\\\\\n",
    "|\\downarrow\\uparrow\\rangle\\\\ |\\downarrow\\downarrow\\rangle\n",
    "\\end{array}\\right)\n",
    "$$"
   ]
  },
  {
   "cell_type": "markdown",
   "id": "fec2200f",
   "metadata": {},
   "source": [
    "Here is an example of that procedure."
   ]
  },
  {
   "cell_type": "code",
   "execution_count": null,
   "id": "4d10c3c9",
   "metadata": {},
   "outputs": [],
   "source": [
    "s1=Index(2,\"s1\")\n",
    "s2=Index(2,\"s2\")\n",
    "@show bell=ITensor([1 0;0 1],s1,s2)"
   ]
  },
  {
   "cell_type": "code",
   "execution_count": null,
   "id": "6d4fbafe",
   "metadata": {},
   "outputs": [],
   "source": [
    "c12=combiner(s1,s2,tags=\"s12\")\n",
    "@show newbell=c12*bell"
   ]
  },
  {
   "cell_type": "markdown",
   "id": "246ca9e5",
   "metadata": {},
   "source": [
    "The object  `c12` can be interpreted as a rank 3 tensor with legs `s1`, `s2`, and `s12`"
   ]
  },
  {
   "cell_type": "code",
   "execution_count": null,
   "id": "efe19826",
   "metadata": {},
   "outputs": [],
   "source": [
    "@show c12"
   ]
  },
  {
   "cell_type": "markdown",
   "id": "792ef5cf",
   "metadata": {},
   "source": [
    "<h3 style=\"border: 2px solid #000; border-radius: 10px; padding: 20px; background-color:red; color:white;\" >Problems</h3>"
   ]
  },
  {
   "cell_type": "markdown",
   "id": "f88073c5",
   "metadata": {},
   "source": [
    "**Use a combiner to combine the `l` and `l'` indices of our transfer matrix.  \n",
    "<img src=\"https://docs.google.com/drawings/d/e/2PACX-1vSdoSIOG6aebpmhwCLcKJpyEITEQntmegz-W1I0pxt3P9cYadTVfnIKddsEWaT-9wlzX6Vtyz9ZL4JV/pub?w=374&amp;h=448\" width=200>\n",
    "Also combine the `r` and `r'` indices -- making a $4\\times 4$ matrix:\n",
    "<img src=\"https://docs.google.com/drawings/d/e/2PACX-1vQ-jKt1qXoXR_b0TE2TJTGlzV6Y4V0wgDUilRnRceG6ANVulu2fDmDBVdZegQGH6pFNX11Y0lt-pjZQ/pub?w=1431&amp;h=653\" width=400>**"
   ]
  },
  {
   "cell_type": "code",
   "execution_count": null,
   "id": "3a1866cb",
   "metadata": {},
   "outputs": [],
   "source": []
  },
  {
   "cell_type": "code",
   "execution_count": null,
   "id": "81beefc7",
   "metadata": {},
   "outputs": [],
   "source": []
  },
  {
   "cell_type": "code",
   "execution_count": null,
   "id": "36e3451c",
   "metadata": {},
   "outputs": [],
   "source": []
  },
  {
   "cell_type": "code",
   "execution_count": null,
   "id": "372089ae",
   "metadata": {},
   "outputs": [],
   "source": []
  },
  {
   "cell_type": "markdown",
   "id": "2e078b82",
   "metadata": {},
   "source": [
    "<h3 style=\"border: 2px solid #000; border-radius: 10px; padding: 20px; background-color:red; color:white;\" >End Problems</h3>"
   ]
  },
  {
   "cell_type": "markdown",
   "id": "d473fa1a",
   "metadata": {},
   "source": [
    "### Functions"
   ]
  },
  {
   "cell_type": "markdown",
   "id": "2550923f",
   "metadata": {},
   "source": [
    "There are a number of ways of writing functions in Julia.  Here is one notation, that will generate a rotation matrix. "
   ]
  },
  {
   "cell_type": "code",
   "execution_count": null,
   "id": "6ccfe617",
   "metadata": {},
   "outputs": [],
   "source": [
    "function rotmat(angle)\n",
    "    i=Index(2,\"i\")\n",
    "    ITensor([cos(angle) sin(angle) ; -sin(angle) cos(angle)],i,i')\n",
    "end"
   ]
  },
  {
   "cell_type": "code",
   "execution_count": null,
   "id": "7c5b80f5",
   "metadata": {},
   "outputs": [],
   "source": [
    "@show rotmat(pi/4)"
   ]
  },
  {
   "cell_type": "markdown",
   "id": "2b95dd32",
   "metadata": {},
   "source": [
    "<h3 style=\"border: 2px solid #000; border-radius: 10px; padding: 20px; background-color:red; color:white;\" >Problems</h3>"
   ]
  },
  {
   "cell_type": "markdown",
   "id": "de3753fa",
   "metadata": {},
   "source": [
    "**Write a function which is called with a number, `eps` -- and returns the $4\\times4$ transfer matrix corresponding to $A=\\left(\\begin{array}{cc}|\\uparrow\\rangle&\\epsilon |\\downarrow\\rangle\\\\\n",
    "\\epsilon |\\uparrow\\rangle&|\\downarrow\\rangle\\end{array}\\right)$.**\n",
    "\n",
    "**Verify that it works by checking to see if it gives the same answer as we got when we set $\\epsilon=0.1$.**"
   ]
  },
  {
   "cell_type": "code",
   "execution_count": null,
   "id": "62e43f5c",
   "metadata": {},
   "outputs": [],
   "source": []
  },
  {
   "cell_type": "code",
   "execution_count": null,
   "id": "396ddf3c",
   "metadata": {},
   "outputs": [],
   "source": []
  },
  {
   "cell_type": "markdown",
   "id": "1cf511e2",
   "metadata": {},
   "source": [
    "<h3 style=\"border: 2px solid #000; border-radius: 10px; padding: 20px; background-color:red; color:white;\" >End Problems</h3>"
   ]
  },
  {
   "cell_type": "markdown",
   "id": "5bd9a1c8",
   "metadata": {},
   "source": [
    "### Symbolic Transfer Matrix"
   ]
  },
  {
   "cell_type": "markdown",
   "id": "de86067f",
   "metadata": {},
   "source": [
    "We can also symbolically manipulate ITensors"
   ]
  },
  {
   "cell_type": "code",
   "execution_count": 28,
   "id": "fcd29876",
   "metadata": {},
   "outputs": [
    {
     "data": {
      "text/latex": [
       "$$ \\begin{equation}\n",
       "\\left[\n",
       "\\begin{array}{c}\n",
       "\\epsilon \\\\\n",
       "\\end{array}\n",
       "\\right]\n",
       "\\end{equation}\n",
       " $$"
      ],
      "text/plain": [
       "1-element Vector{Num}:\n",
       " ϵ"
      ]
     },
     "execution_count": 28,
     "metadata": {},
     "output_type": "execute_result"
    }
   ],
   "source": [
    "@variables ϵ"
   ]
  },
  {
   "cell_type": "code",
   "execution_count": 29,
   "id": "efec6ca1",
   "metadata": {},
   "outputs": [
    {
     "data": {
      "text/plain": [
       "ITensor ord=3 (dim=2|id=108|\"l\") (dim=2|id=526|\"r\") (dim=2|id=375|\"s\")\n",
       "NDTensors.EmptyStorage{NDTensors.EmptyNumber, NDTensors.Dense{NDTensors.EmptyNumber, Vector{NDTensors.EmptyNumber}}}"
      ]
     },
     "execution_count": 29,
     "metadata": {},
     "output_type": "execute_result"
    }
   ],
   "source": [
    "l=Index(2,\"l\")\n",
    "r=Index(2,\"r\")\n",
    "s=Index(2,\"s\")\n",
    "As=ITensor(l,r,s)"
   ]
  },
  {
   "cell_type": "code",
   "execution_count": 30,
   "id": "23c723b9",
   "metadata": {},
   "outputs": [
    {
     "data": {
      "text/plain": [
       "2×2 Matrix{ket}:\n",
       " 1.0|↑⟩  (ϵ)|↓⟩\n",
       " (ϵ)|↓⟩  1.0|↑⟩"
      ]
     },
     "execution_count": 30,
     "metadata": {},
     "output_type": "execute_result"
    }
   ],
   "source": [
    "As[l=>1,r=>2,s=>2]=ϵ #Do this assignment first, so that it sets \"Type\" appropriately\n",
    "As[l=>2,r=>1,s=>2]=ϵ\n",
    "As[l=>1,r=>1,s=>1]=1\n",
    "As[l=>2,r=>2,s=>1]=1\n",
    "matrixpp(As,l,r,[up dn])"
   ]
  },
  {
   "cell_type": "markdown",
   "id": "338d4d97",
   "metadata": {},
   "source": [
    "<h3 style=\"border: 2px solid #000; border-radius: 10px; padding: 20px; background-color:red; color:white;\" >Problems</h3>"
   ]
  },
  {
   "cell_type": "markdown",
   "id": "84627ee9",
   "metadata": {},
   "source": [
    "**Make a symbolic representation of the $4\\times4$ transfer matrix associated with this the tensor we just created -- combining the two left indices, and combining the two right indices.**"
   ]
  },
  {
   "cell_type": "code",
   "execution_count": null,
   "id": "39e5b296",
   "metadata": {},
   "outputs": [],
   "source": []
  },
  {
   "cell_type": "code",
   "execution_count": null,
   "id": "13dbbaea",
   "metadata": {},
   "outputs": [],
   "source": []
  },
  {
   "cell_type": "code",
   "execution_count": null,
   "id": "126e298a",
   "metadata": {},
   "outputs": [],
   "source": []
  },
  {
   "cell_type": "markdown",
   "id": "090ad286",
   "metadata": {},
   "source": [
    "**Symbolically construct the $4\\times4$ transfer matrix\n",
    "<img src=\"https://docs.google.com/drawings/d/e/2PACX-1vTPq2IVjT0j3XrEmXlqt0gOcRqwF_RbXYN53o6yKwWAlJD8PEjP03mScBLBrol_2UxCUpyd5Qgqzh-6/pub?w=638&amp;h=1067\" width=200>\n",
    "-- (but add combiners to write it as a 4x4 matrix).**\n",
    "\n",
    "**Here $X$ is the $\\sigma_x$ operator.**"
   ]
  },
  {
   "cell_type": "code",
   "execution_count": null,
   "id": "c7245b5a",
   "metadata": {},
   "outputs": [],
   "source": []
  },
  {
   "cell_type": "code",
   "execution_count": null,
   "id": "e615651d",
   "metadata": {},
   "outputs": [],
   "source": []
  },
  {
   "cell_type": "markdown",
   "id": "d34318cc",
   "metadata": {},
   "source": [
    "<h3 style=\"border: 2px solid #000; border-radius: 10px; padding: 20px; background-color:red; color:white;\" >Problems</h3>"
   ]
  },
  {
   "cell_type": "markdown",
   "id": "5e372d72",
   "metadata": {},
   "source": [
    "### Dense Eigensolver"
   ]
  },
  {
   "cell_type": "markdown",
   "id": "a1f06853",
   "metadata": {},
   "source": [
    "Consider a system of three spin-1/2's with Hamiltonian $H=\\sigma_x^{(1)}+\\sigma_x^{(2)}+\\sigma_x^{(3)}$.  We will construct the $8\\times8$ matrix Hamiltonian, and find its eigenvalues"
   ]
  },
  {
   "cell_type": "code",
   "execution_count": 31,
   "id": "6e67eec2",
   "metadata": {},
   "outputs": [
    {
     "data": {
      "text/plain": [
       "(dim=2|id=613|\"s1\")"
      ]
     },
     "execution_count": 31,
     "metadata": {},
     "output_type": "execute_result"
    }
   ],
   "source": [
    "s1=Index(2,\"s1\")\n",
    "s2=Index(2,\"s2\")\n",
    "s3=Index(2,\"s1\")"
   ]
  },
  {
   "cell_type": "markdown",
   "id": "05268edb",
   "metadata": {},
   "source": [
    "Here is one construction method"
   ]
  },
  {
   "cell_type": "code",
   "execution_count": 32,
   "id": "49495fe0",
   "metadata": {},
   "outputs": [
    {
     "data": {
      "text/plain": [
       "ITensor ord=6 (dim=2|id=474|\"s1\") (dim=2|id=474|\"s1\")' (dim=2|id=985|\"s2\") (dim=2|id=985|\"s2\")' (dim=2|id=613|\"s1\") (dim=2|id=613|\"s1\")'\n",
       "NDTensors.Dense{Float64, Vector{Float64}}"
      ]
     },
     "execution_count": 32,
     "metadata": {},
     "output_type": "execute_result"
    }
   ],
   "source": [
    "sigx1=ITensor([0 1;1 0],s1,s1')\n",
    "id1=ITensor([1 0;0 1],s1,s1')\n",
    "sigx2=ITensor([0 1;1 0],s2,s2')\n",
    "id2=ITensor([1 0;0 1],s2,s2')\n",
    "sigx3=ITensor([0 1;1 0],s3,s3')\n",
    "id3=ITensor([1 0;0 1],s3,s3')\n",
    "SpinHam1=sigx1*id2*id3+id1*sigx2*id3+id1*id2*sigx3"
   ]
  },
  {
   "cell_type": "markdown",
   "id": "5aa2694f",
   "metadata": {},
   "source": [
    "As you can see, this creates the Hamiltonian as a 2x2x2x2x2x2 tensor.  Maybe a more conventional representation is to combine all the spin indices together to make an $8\\times8$ matrix."
   ]
  },
  {
   "cell_type": "code",
   "execution_count": 33,
   "id": "55ee637c",
   "metadata": {},
   "outputs": [
    {
     "data": {
      "text/plain": [
       "ITensor ord=4 (dim=8|id=338|\"s123\") (dim=2|id=474|\"s1\") (dim=2|id=985|\"s2\") (dim=2|id=613|\"s1\")\n",
       "NDTensors.Combiner"
      ]
     },
     "execution_count": 33,
     "metadata": {},
     "output_type": "execute_result"
    }
   ],
   "source": [
    "c8=combiner(s1,s2,s3;tags=\"s123\")"
   ]
  },
  {
   "cell_type": "code",
   "execution_count": 34,
   "id": "1e9edd6d",
   "metadata": {},
   "outputs": [
    {
     "name": "stdout",
     "output_type": "stream",
     "text": [
      "c8 * SpinHam1 * prime(c8) = ITensor ord=2\n",
      "Dim 1: (dim=8|id=338|\"s123\")\n",
      "Dim 2: (dim=8|id=338|\"s123\")'\n",
      "NDTensors.Dense{Float64, Vector{Float64}}\n",
      " 8×8\n",
      " 0.0  1.0  1.0  0.0  1.0  0.0  0.0  0.0\n",
      " 1.0  0.0  0.0  1.0  0.0  1.0  0.0  0.0\n",
      " 1.0  0.0  0.0  1.0  0.0  0.0  1.0  0.0\n",
      " 0.0  1.0  1.0  0.0  0.0  0.0  0.0  1.0\n",
      " 1.0  0.0  0.0  0.0  0.0  1.0  1.0  0.0\n",
      " 0.0  1.0  0.0  0.0  1.0  0.0  0.0  1.0\n",
      " 0.0  0.0  1.0  0.0  1.0  0.0  0.0  1.0\n",
      " 0.0  0.0  0.0  1.0  0.0  1.0  1.0  0.0\n"
     ]
    },
    {
     "data": {
      "text/plain": [
       "ITensor ord=2 (dim=8|id=338|\"s123\") (dim=8|id=338|\"s123\")'\n",
       "NDTensors.Dense{Float64, Vector{Float64}}"
      ]
     },
     "execution_count": 34,
     "metadata": {},
     "output_type": "execute_result"
    }
   ],
   "source": [
    "@show c8*SpinHam1*prime(c8)"
   ]
  },
  {
   "cell_type": "markdown",
   "id": "ca0e286e",
   "metadata": {},
   "source": [
    "Here are the 'labels' for those 3-site basis states.  You can verify that the 1's are in the right places"
   ]
  },
  {
   "cell_type": "code",
   "execution_count": 35,
   "id": "f10ff9f0",
   "metadata": {},
   "outputs": [
    {
     "data": {
      "text/plain": [
       "1×8 Matrix{ket}:\n",
       " |↑↑↑⟩  |↑↑↓⟩  |↑↓↑⟩  |↑↓↓⟩  |↓↑↑⟩  |↓↑↓⟩  |↓↓↑⟩  |↓↓↓⟩"
      ]
     },
     "execution_count": 35,
     "metadata": {},
     "output_type": "execute_result"
    }
   ],
   "source": [
    "basis8=kron([up dn],[up dn],[up dn])"
   ]
  },
  {
   "cell_type": "markdown",
   "id": "b89f69d9",
   "metadata": {},
   "source": [
    "Here is how to diagonalize it:  D will be a diagonal matrix of the eigenvalues, and U will be the matrix which diagonalizes it: $H=U D U^{-1}$ -- or $HU=UD$.  Thus the columns of $U$ are the *right* eigenvectors of $H$."
   ]
  },
  {
   "cell_type": "code",
   "execution_count": 36,
   "id": "20f6cb80",
   "metadata": {},
   "outputs": [],
   "source": [
    "D1,U1=eigen(SpinHam1,(s1',s2',s3'),(s1,s2,s3));"
   ]
  },
  {
   "cell_type": "markdown",
   "id": "7876c099",
   "metadata": {},
   "source": [
    "The eigenvalues are just the net x-magnetization"
   ]
  },
  {
   "cell_type": "code",
   "execution_count": null,
   "id": "e30a9276",
   "metadata": {},
   "outputs": [],
   "source": [
    "diagsize=dims(D1)\n",
    "[D1[i,i] for i in 1:diagsize[1]]"
   ]
  },
  {
   "cell_type": "markdown",
   "id": "8db4bd7f",
   "metadata": {},
   "source": [
    "Here is the wavefunction for the highest energy state:  It corresponds to all spins pointing in the +x direction.  In the z-basis, this means it is a linear combination of all basis states with equal weights."
   ]
  },
  {
   "cell_type": "code",
   "execution_count": null,
   "id": "51884aa0",
   "metadata": {},
   "outputs": [],
   "source": [
    "linkind=commonind(D1,U1)\n",
    "tabledisplay(scalarpp(U1*onehot(linkind=>8),[up dn]))"
   ]
  },
  {
   "cell_type": "markdown",
   "id": "2e3e81db",
   "metadata": {},
   "source": [
    "Here is the lowest energy state -- corresponding to all spins in the -x direction"
   ]
  },
  {
   "cell_type": "code",
   "execution_count": null,
   "id": "4c6976d5",
   "metadata": {},
   "outputs": [],
   "source": [
    "linkind=commonind(D1,U1)\n",
    "tabledisplay(scalarpp(U1*onehot(linkind=>1),[up dn]))"
   ]
  },
  {
   "cell_type": "markdown",
   "id": "3c798151",
   "metadata": {},
   "source": [
    "<h3 style=\"border: 2px solid #000; border-radius: 10px; padding: 20px; background-color:red; color:white;\" >Problems</h3>"
   ]
  },
  {
   "cell_type": "markdown",
   "id": "ca79ee1d",
   "metadata": {},
   "source": [
    "**Earlier you wrote a function which would generate the numerical $4\\times4$ transfer matrix for a simple infinite matrix product state.  Numerically find its eigenvalues when $\\epsilon=0.1$. (The eignevalue solver only works with numerical matrices -- as far as I know there is not a good Julia package for symbolic eigenvalues)**"
   ]
  },
  {
   "cell_type": "code",
   "execution_count": null,
   "id": "40a35df7",
   "metadata": {},
   "outputs": [],
   "source": []
  },
  {
   "cell_type": "code",
   "execution_count": null,
   "id": "f5db53dd",
   "metadata": {},
   "outputs": [],
   "source": []
  },
  {
   "cell_type": "markdown",
   "id": "6df53afb",
   "metadata": {},
   "source": [
    "<h3 style=\"border: 2px solid #000; border-radius: 10px; padding: 20px; background-color:red; color:white;\" >End Problems</h3>"
   ]
  },
  {
   "cell_type": "markdown",
   "id": "5fcba975",
   "metadata": {},
   "source": [
    "### Types (Object/Structs)"
   ]
  },
  {
   "cell_type": "markdown",
   "id": "2520faa5",
   "metadata": {},
   "source": [
    "In addition to knowing how to construct 'functions', the 'verbs' of programming, we need to know how to construct 'objects', the 'nouns'.  We have seen a few nice examples here:  Built-in types like \"Arrays\", \"Complex Numbers\", library types like \"ITensors\" or \"Index\" objects, or even the \"ket\" object.  "
   ]
  },
  {
   "cell_type": "markdown",
   "id": "14074102",
   "metadata": {},
   "source": [
    "One thing that it would be useful to have is an object which encapsulates an ITensor, and makes it act like a square matrix:  When you multiply a vector by it, you get a new vector with the same indices."
   ]
  },
  {
   "cell_type": "markdown",
   "id": "6c193459",
   "metadata": {},
   "source": [
    "We first define the container:"
   ]
  },
  {
   "cell_type": "code",
   "execution_count": null,
   "id": "71139980",
   "metadata": {},
   "outputs": [],
   "source": [
    "mutable struct it_matrix \n",
    "    storage::ITensor\n",
    "end"
   ]
  },
  {
   "cell_type": "markdown",
   "id": "7ed523ba",
   "metadata": {},
   "source": [
    "Next we define a couple functions (aka methods) which tell how these objects act"
   ]
  },
  {
   "cell_type": "code",
   "execution_count": null,
   "id": "a9fde499",
   "metadata": {},
   "outputs": [],
   "source": [
    "*(M::it_matrix,v::ITensor)=noprime(M.storage*v) # multiplication\n",
    "(M::it_matrix)(v::ITensor)=M*v  #evaluation"
   ]
  },
  {
   "cell_type": "markdown",
   "id": "a88eff50",
   "metadata": {},
   "source": [
    "Here is how we create an `it_matrix` object:"
   ]
  },
  {
   "cell_type": "code",
   "execution_count": null,
   "id": "bdd972ec",
   "metadata": {},
   "outputs": [],
   "source": [
    "i=Index(2,\"i\")\n",
    "sigx=ITensor([0. 1. ; 1. 0.],i,i')\n",
    "sigxmat=it_matrix(sigx)"
   ]
  },
  {
   "cell_type": "markdown",
   "id": "057609a7",
   "metadata": {},
   "source": [
    "And here is an example of multiplying a vector"
   ]
  },
  {
   "cell_type": "code",
   "execution_count": null,
   "id": "5dd784a2",
   "metadata": {},
   "outputs": [],
   "source": [
    "vec1=ITensor([1. 0.],i)\n",
    "@show sigxmat*vec1"
   ]
  },
  {
   "cell_type": "markdown",
   "id": "21654230",
   "metadata": {},
   "source": [
    "We have also defined a method which allows us to use it like"
   ]
  },
  {
   "cell_type": "code",
   "execution_count": null,
   "id": "4914e0e8",
   "metadata": {},
   "outputs": [],
   "source": [
    "@show sigxmat(vec1)"
   ]
  },
  {
   "cell_type": "markdown",
   "id": "23bbc6e2",
   "metadata": {},
   "source": [
    "Here is a fancier version of the multiply 'method' which does some error checking"
   ]
  },
  {
   "cell_type": "code",
   "execution_count": null,
   "id": "741990f6",
   "metadata": {},
   "outputs": [],
   "source": [
    "function *(M::it_matrix,v::ITensor)\n",
    "    Mv=M.storage*v\n",
    "    if order(Mv) !=order(v)\n",
    "        error(\n",
    "            string(\"Matrix and vector act on different spaces, and cannot be multiplied\\n\",\n",
    "                \"This may be a problem with using the wrong indices\\n\\n\",\n",
    "                \"M*v indices: $(inds(Mv)) \\n\\n\",\n",
    "                \"v indices: $(inds(v))\"),)\n",
    "    end\n",
    "    return noprime(Mv)\n",
    "end"
   ]
  },
  {
   "cell_type": "markdown",
   "id": "c16c3e4a",
   "metadata": {},
   "source": [
    "Here is an example which will trigger this error"
   ]
  },
  {
   "cell_type": "code",
   "execution_count": null,
   "id": "8e1df18a",
   "metadata": {},
   "outputs": [],
   "source": [
    "j=Index(2,\"j\")\n",
    "sigx2=ITensor([0 1;1 0],j,j')\n",
    "sigxmat*sigx2"
   ]
  },
  {
   "cell_type": "markdown",
   "id": "b9366c34",
   "metadata": {},
   "source": [
    "<h3 style=\"border: 2px solid #000; border-radius: 10px; padding: 20px; background-color:red; color:white;\" >Problems</h3>"
   ]
  },
  {
   "cell_type": "markdown",
   "id": "266f19c8",
   "metadata": {},
   "source": [
    "**Complete the following code, which will create a generalization of `it_matrix`, which will store an array of `ITensor` objects, and acts like the sum of them.**\n",
    "\n",
    "**For example, we can use this to make a *sparse* representation of the Hamiltonian $H=\\sigma_x^{(1)}+\\sigma_x^{(2)}+\\sigma_x^{(3)}$ that we worked with recently.  Given a vector $v$, we can construct $Hv$ as the sum $\\sigma_x^{(1)} v+\\sigma_x^{(2)}v+\\sigma_x^{(3)}v$.  Since $H$ is an $8\\times 8$ matrix, and $v$ is length $8$ -- the naive multiplication requires 64 multiplications. Multiplying by $\\sigma_x^{(1)}$ only requires 16 operations.  Thus the \"lazy sum\" approach ends up using 48 operations.  For larger matrices this becomes a significant improvement**"
   ]
  },
  {
   "cell_type": "code",
   "execution_count": null,
   "id": "d4cd5ce0",
   "metadata": {},
   "outputs": [],
   "source": [
    "# This is the full container object\n",
    "mutable struct it_summatrix \n",
    "    storage::Array{ITensor}\n",
    "end\n",
    "# Define the multiplication function\n",
    "function *(M::it_summatrix,v::ITensor)\n",
    "    result=noprime(M.storage[1]*v) # first term in the sum\n",
    "    numterms=length(M.storage)\n",
    "    ## now complete the function by looping over the rest of the terms, each time adding\n",
    "    ## noprime(M.storage[j]*v)\n",
    "    #\n",
    "    #\n",
    "    \n",
    "    \n",
    "    #\n",
    "end\n",
    "#Define evaluate\n",
    "(M::it_summatrix)(v::ITensor)=M*v  #evaluation"
   ]
  },
  {
   "cell_type": "code",
   "execution_count": null,
   "id": "22910fde",
   "metadata": {},
   "outputs": [],
   "source": []
  },
  {
   "cell_type": "code",
   "execution_count": null,
   "id": "e2a5c8f3",
   "metadata": {},
   "outputs": [],
   "source": []
  },
  {
   "cell_type": "markdown",
   "id": "c5fd4654",
   "metadata": {},
   "source": [
    "Test it out on"
   ]
  },
  {
   "cell_type": "code",
   "execution_count": null,
   "id": "836803cd",
   "metadata": {},
   "outputs": [],
   "source": [
    "s1=Index(2,\"s1\")\n",
    "s2=Index(2,\"s2\")\n",
    "s3=Index(2,\"s1\")\n",
    "sigx1=ITensor([0 1;1 0],s1,s1')\n",
    "sigx2=ITensor([0 1;1 0],s2,s2')\n",
    "sigx3=ITensor([0 1;1 0],s3,s3')\n",
    "lazyH=it_summatrix([sigx1 sigx2 sigx3])\n",
    "v=ITensor(s1,s2,s3)\n",
    "v(s1=>1,s2=>1,s3=>1)=1\n",
    "w=lazyH*v;"
   ]
  },
  {
   "cell_type": "code",
   "execution_count": null,
   "id": "a3dc3c5e",
   "metadata": {},
   "outputs": [],
   "source": [
    "scalarpp(v,[up dn])"
   ]
  },
  {
   "cell_type": "code",
   "execution_count": null,
   "id": "272804b0",
   "metadata": {},
   "outputs": [],
   "source": [
    "scalarpp(w, [up dn])"
   ]
  },
  {
   "cell_type": "markdown",
   "id": "d28f0869",
   "metadata": {},
   "source": [
    "<h3 style=\"border: 2px solid #000; border-radius: 10px; padding: 20px; background-color:red; color:white;\" >End Problems</h3>"
   ]
  },
  {
   "cell_type": "markdown",
   "id": "eb6bdc76",
   "metadata": {},
   "source": [
    "### Sparse Eigensolver"
   ]
  },
  {
   "cell_type": "markdown",
   "id": "cda2cef1",
   "metadata": {},
   "source": [
    "We are going to be using large tensors/matrices -- and numerically finding all of their eigenvalues will be expensive.  There are, however, efficient iterative routines for calculating just a few eigenvalues and eigenvectors."
   ]
  },
  {
   "cell_type": "code",
   "execution_count": null,
   "id": "9cf4ebf7",
   "metadata": {},
   "outputs": [],
   "source": [
    "using KrylovKit"
   ]
  },
  {
   "cell_type": "markdown",
   "id": "adccb870",
   "metadata": {},
   "source": [
    "First we generate an `it_matrix` object -- which has the right properties to work with the eigensolver"
   ]
  },
  {
   "cell_type": "code",
   "execution_count": null,
   "id": "b204ed9b",
   "metadata": {},
   "outputs": [],
   "source": [
    "sigx1=ITensor([0 1;1 0],s1,s1')\n",
    "id1=ITensor([1 0;0 1],s1,s1')\n",
    "sigx2=ITensor([0 1;1 0],s2,s2')\n",
    "id2=ITensor([1 0;0 1],s2,s2')\n",
    "sigx3=ITensor([0 1;1 0],s3,s3')\n",
    "id3=ITensor([1 0;0 1],s3,s3')\n",
    "SpinHam1=sigx1*id2*id3+id1*sigx2*id3+id1*id2*sigx3\n",
    "it_SpinHam1=it_matrix(SpinHam1);"
   ]
  },
  {
   "cell_type": "markdown",
   "id": "12072385",
   "metadata": {},
   "source": [
    "Next, since it is an iterative method, we need a starting vector.  The closer this is to the desired eigenvector, the better.  Here we will just use a random vector."
   ]
  },
  {
   "cell_type": "code",
   "execution_count": null,
   "id": "f86da6d7",
   "metadata": {},
   "outputs": [],
   "source": [
    "startv=randomITensor(s1,s2,s3)\n",
    "scalarpp(startv, [up dn])"
   ]
  },
  {
   "cell_type": "markdown",
   "id": "ad4bfcd7",
   "metadata": {},
   "source": [
    "Here is the syntax for using the solver.  The number `1` asks for at least one eigenvector.  The `:SR` asks for the most negative eigenvector.  `ishermitian=true` tells the algorithm that we are working with a Hermitian matrix, which simplifies some of the arithmetic that it uses.  (Essentially, it can take advantage of the fact that the eigenvectors are orthogonal to one-another)"
   ]
  },
  {
   "cell_type": "code",
   "execution_count": null,
   "id": "b1636811",
   "metadata": {},
   "outputs": [],
   "source": [
    "vals,vecs,info=eigsolve(it_SpinHam1,startv,1,:SR;ishermitian=true);"
   ]
  },
  {
   "cell_type": "markdown",
   "id": "f644add0",
   "metadata": {},
   "source": [
    "Even though we only asked for one eigenvalue, it found 4 of them.  Essentially the other 3 were 'free', so it went ahead and reported them."
   ]
  },
  {
   "cell_type": "code",
   "execution_count": null,
   "id": "46496271",
   "metadata": {},
   "outputs": [],
   "source": [
    "vals"
   ]
  },
  {
   "cell_type": "code",
   "execution_count": null,
   "id": "b160f302",
   "metadata": {},
   "outputs": [],
   "source": [
    "scalarpp(vecs[1], [up dn])"
   ]
  },
  {
   "cell_type": "code",
   "execution_count": null,
   "id": "e1bc4207",
   "metadata": {},
   "outputs": [],
   "source": [
    "info"
   ]
  },
  {
   "cell_type": "markdown",
   "id": "f5d874d8",
   "metadata": {},
   "source": [
    "<h3 style=\"border: 2px solid #000; border-radius: 10px; padding: 20px; background-color:red; color:white;\" >Problems</h3>"
   ]
  },
  {
   "cell_type": "markdown",
   "id": "79aa9456",
   "metadata": {},
   "source": [
    "**Create a function which when given $J$ and $h$, numerically finds the lowest two energy states of the Hamiltonian:\n",
    "$H=-J \\left[(\\sigma_z)_1 (\\sigma_z)_2 \n",
    "+ (\\sigma_z)_2 (\\sigma_z)_3 \n",
    "\\right] -h\\left[(\\sigma_x)_1+(\\sigma_x)_2+(\\sigma_x)_3\\right]$.  Make two versions:  One that uses the dense eigensolver, and the other that uses the iterative eigensolver.  Make sure the answers agree at the following three points:  $(J,h)=(1,0),(0,1),(1,1)$.**  \n",
    "\n",
    "**Note, the iterative eigensolver might have trouble when $h=0$ -- so you may want to also try using a very small $h$. at that point.  The issue has to do with how degeneracies are handled by the algorithm.**"
   ]
  },
  {
   "cell_type": "code",
   "execution_count": null,
   "id": "1a8517ef",
   "metadata": {},
   "outputs": [],
   "source": []
  },
  {
   "cell_type": "code",
   "execution_count": null,
   "id": "cdd85c92",
   "metadata": {},
   "outputs": [],
   "source": []
  },
  {
   "cell_type": "code",
   "execution_count": null,
   "id": "8e74c7d6",
   "metadata": {},
   "outputs": [],
   "source": []
  },
  {
   "cell_type": "markdown",
   "id": "0d8e8e54",
   "metadata": {},
   "source": [
    "<h3 style=\"border: 2px solid #000; border-radius: 10px; padding: 20px; background-color:red; color:white;\" >End Problems</h3>"
   ]
  },
  {
   "cell_type": "markdown",
   "id": "594b6627",
   "metadata": {},
   "source": [
    "# Not in notebook for in-class.   Solutions to Homework 3"
   ]
  },
  {
   "cell_type": "markdown",
   "id": "732e8675",
   "metadata": {},
   "source": [
    "**Write a program which will take in the matrix describing a uniform infinite matrix product state, and give you the transfer matrix, and its eigenvalues.  Test it with with the wavefunctions from section~\\ref{special} of this chapter.  Verify the single-particle wavefunction yields a non-diagonalizable transfer matrix, and the chiral state yields one with complex eigenvalues.**"
   ]
  },
  {
   "cell_type": "code",
   "execution_count": 61,
   "id": "40b7e6e3",
   "metadata": {},
   "outputs": [
    {
     "data": {
      "text/plain": [
       "MakeTransfer (generic function with 1 method)"
      ]
     },
     "execution_count": 61,
     "metadata": {},
     "output_type": "execute_result"
    }
   ],
   "source": [
    "function MakeTransfer(tensor::ITensor,leftindex::Index,rightindex::Index,siteindex::Index)\n",
    "    t=prime(dag(tensor),(leftindex,rightindex))*tensor\n",
    "    leftcombiner=combiner(leftindex,leftindex',tags=\"lc\")\n",
    "    rightcombiner=combiner(rightindex,rightindex',tags=\"rc\")\n",
    "    t*leftcombiner*rightcombiner\n",
    "end"
   ]
  },
  {
   "cell_type": "code",
   "execution_count": 59,
   "id": "a7c9cdbe",
   "metadata": {},
   "outputs": [
    {
     "data": {
      "text/plain": [
       "ITensor ord=2 (dim=4|id=109|\"lc\") (dim=4|id=715|\"rc\")\n",
       "NDTensors.Dense{Num, Vector{Num}}"
      ]
     },
     "execution_count": 59,
     "metadata": {},
     "output_type": "execute_result"
    }
   ],
   "source": [
    "TAs=MakeTransfer(As,left,right,site)"
   ]
  },
  {
   "cell_type": "code",
   "execution_count": 62,
   "id": "a10bed8c",
   "metadata": {},
   "outputs": [
    {
     "data": {
      "text/latex": [
       "$$ \\begin{equation}\n",
       "\\left[\n",
       "\\begin{array}{cccc}\n",
       "1 & 0 & 0 & \\epsilon^{2} \\\\\n",
       "0 & 1 & \\epsilon^{2} & 0 \\\\\n",
       "0 & \\epsilon^{2} & 1 & 0 \\\\\n",
       "\\epsilon^{2} & 0 & 0 & 1 \\\\\n",
       "\\end{array}\n",
       "\\right]\n",
       "\\end{equation}\n",
       " $$"
      ],
      "text/plain": [
       "4×4 Matrix{Num}:\n",
       "   1    0    0  ϵ^2\n",
       "   0    1  ϵ^2    0\n",
       "   0  ϵ^2    1    0\n",
       " ϵ^2    0    0    1"
      ]
     },
     "execution_count": 62,
     "metadata": {},
     "output_type": "execute_result"
    }
   ],
   "source": [
    "array(TAs)"
   ]
  },
  {
   "cell_type": "code",
   "execution_count": 63,
   "id": "7fd4a5dc",
   "metadata": {},
   "outputs": [
    {
     "data": {
      "text/plain": [
       "ITensor ord=3 (dim=2|id=318|\"l\") (dim=2|id=614|\"r\") (dim=2|id=512|\"s\")\n",
       "NDTensors.EmptyStorage{NDTensors.EmptyNumber, NDTensors.Dense{NDTensors.EmptyNumber, Vector{NDTensors.EmptyNumber}}}"
      ]
     },
     "execution_count": 63,
     "metadata": {},
     "output_type": "execute_result"
    }
   ],
   "source": [
    "l=Index(2,\"l\")\n",
    "r=Index(2,\"r\")\n",
    "s=Index(2,\"s\")\n",
    "As2=ITensor(l,r,s)"
   ]
  },
  {
   "cell_type": "code",
   "execution_count": 64,
   "id": "0efce27e",
   "metadata": {},
   "outputs": [
    {
     "data": {
      "text/plain": [
       "2×2 Matrix{ket}:\n",
       " 1.0|↑⟩  (ϵ)|↓⟩\n",
       " (ϵ)|↑⟩  1.0|↓⟩"
      ]
     },
     "execution_count": 64,
     "metadata": {},
     "output_type": "execute_result"
    }
   ],
   "source": [
    "As2[l=>1,r=>2,s=>2]=ϵ #Do this assignment first, so that it sets \"Type\" appropriately\n",
    "As2[l=>2,r=>1,s=>1]=ϵ\n",
    "As2[l=>1,r=>1,s=>1]=1\n",
    "As2[l=>2,r=>2,s=>2]=1\n",
    "matrixpp(As2,l,r,[up dn])"
   ]
  },
  {
   "cell_type": "code",
   "execution_count": 66,
   "id": "d0e09b55",
   "metadata": {},
   "outputs": [
    {
     "data": {
      "text/plain": [
       "ITensor ord=2 (dim=4|id=897|\"lc\") (dim=4|id=781|\"rc\")\n",
       "NDTensors.Dense{Num, Vector{Num}}"
      ]
     },
     "execution_count": 66,
     "metadata": {},
     "output_type": "execute_result"
    }
   ],
   "source": [
    "TAs2=MakeTransfer(As2,l,r,s)"
   ]
  },
  {
   "cell_type": "code",
   "execution_count": 67,
   "id": "14e53699",
   "metadata": {},
   "outputs": [
    {
     "data": {
      "text/latex": [
       "$$ \\begin{equation}\n",
       "\\left[\n",
       "\\begin{array}{cccc}\n",
       "1 & 0 & 0 & \\epsilon^{2} \\\\\n",
       "\\epsilon & 0 & 0 & \\epsilon \\\\\n",
       "\\epsilon & 0 & 0 & \\epsilon \\\\\n",
       "\\epsilon^{2} & 0 & 0 & 1 \\\\\n",
       "\\end{array}\n",
       "\\right]\n",
       "\\end{equation}\n",
       " $$"
      ],
      "text/plain": [
       "4×4 Matrix{Num}:\n",
       "   1  0  0  ϵ^2\n",
       "   ϵ  0  0    ϵ\n",
       "   ϵ  0  0    ϵ\n",
       " ϵ^2  0  0    1"
      ]
     },
     "execution_count": 67,
     "metadata": {},
     "output_type": "execute_result"
    }
   ],
   "source": [
    "array(TAs2)"
   ]
  },
  {
   "cell_type": "code",
   "execution_count": 85,
   "id": "4c19a51d",
   "metadata": {},
   "outputs": [
    {
     "data": {
      "text/plain": [
       "Teig (generic function with 1 method)"
      ]
     },
     "execution_count": 85,
     "metadata": {},
     "output_type": "execute_result"
    }
   ],
   "source": [
    "function Teig(mat::ITensor)\n",
    "    leftinds=findinds(mat,\"lc\")\n",
    "    rightinds=findinds(mat,\"rc\")\n",
    "    D,U=eigen(mat,leftinds,rightinds)\n",
    "    [D[j,j] for j in 1:dims(D)[1]]\n",
    "end"
   ]
  },
  {
   "cell_type": "code",
   "execution_count": 74,
   "id": "f3a7552e",
   "metadata": {},
   "outputs": [
    {
     "data": {
      "text/plain": [
       "ITensor ord=3 (dim=2|id=512|\"s\") (dim=2|id=318|\"l\") (dim=2|id=614|\"r\")\n",
       "NDTensors.Dense{Float64, Vector{Float64}}"
      ]
     },
     "execution_count": 74,
     "metadata": {},
     "output_type": "execute_result"
    }
   ],
   "source": [
    "freeA=onehot(s=>1)*ITensor([1 0;0 1],l,r)+onehot(s=>2)*ITensor([0 0.1;0 0],l,r)"
   ]
  },
  {
   "cell_type": "code",
   "execution_count": 92,
   "id": "8042f46c",
   "metadata": {},
   "outputs": [
    {
     "data": {
      "text/plain": [
       "ITensor ord=3 (dim=2|id=512|\"s\") (dim=2|id=318|\"l\") (dim=2|id=614|\"r\")\n",
       "NDTensors.Dense{Num, Vector{Num}}"
      ]
     },
     "execution_count": 92,
     "metadata": {},
     "output_type": "execute_result"
    }
   ],
   "source": [
    "anA=onehot(s=>2,l=>1,r=>2)*ϵ+onehot(s=>1)*ITensor([1 0;0 1],l,r)"
   ]
  },
  {
   "cell_type": "code",
   "execution_count": 93,
   "id": "80c042f1",
   "metadata": {},
   "outputs": [
    {
     "data": {
      "text/plain": [
       "2×2 Matrix{ket}:\n",
       " 1.0|.⟩  (ϵ)|X⟩\n",
       "         1.0|.⟩"
      ]
     },
     "execution_count": 93,
     "metadata": {},
     "output_type": "execute_result"
    }
   ],
   "source": [
    "matrixpp(anA,l,r,[ket(\".\") ket(\"X\")])"
   ]
  },
  {
   "cell_type": "code",
   "execution_count": 75,
   "id": "016b9388",
   "metadata": {},
   "outputs": [
    {
     "data": {
      "text/plain": [
       "2×2 Matrix{ket}:\n",
       " 1.0|.⟩  0.1|X⟩\n",
       "         1.0|.⟩"
      ]
     },
     "execution_count": 75,
     "metadata": {},
     "output_type": "execute_result"
    }
   ],
   "source": [
    "matrixpp(freeA,l,r,[ket(\".\") ket(\"X\")])"
   ]
  },
  {
   "cell_type": "code",
   "execution_count": 94,
   "id": "692b5bb4",
   "metadata": {},
   "outputs": [
    {
     "data": {
      "text/plain": [
       "ITensor ord=2 (dim=4|id=25|\"lc\") (dim=4|id=23|\"rc\")\n",
       "NDTensors.Dense{Num, Vector{Num}}"
      ]
     },
     "execution_count": 94,
     "metadata": {},
     "output_type": "execute_result"
    }
   ],
   "source": [
    "freeT=MakeTransfer(anA,l,r,s)"
   ]
  },
  {
   "cell_type": "code",
   "execution_count": 95,
   "id": "52442db0",
   "metadata": {},
   "outputs": [
    {
     "data": {
      "text/latex": [
       "$$ \\begin{equation}\n",
       "\\left[\n",
       "\\begin{array}{cccc}\n",
       "1 & 0 & 0 & \\epsilon^{2} \\\\\n",
       "0 & 1 & 0 & 0 \\\\\n",
       "0 & 0 & 1 & 0 \\\\\n",
       "0 & 0 & 0 & 1 \\\\\n",
       "\\end{array}\n",
       "\\right]\n",
       "\\end{equation}\n",
       " $$"
      ],
      "text/plain": [
       "4×4 Matrix{Num}:\n",
       " 1.0  0.0  0.0  ϵ^2\n",
       " 0.0  1.0  0.0    0.0\n",
       " 0.0  0.0  1.0    0.0\n",
       " 0.0  0.0  0.0    1.0"
      ]
     },
     "execution_count": 95,
     "metadata": {},
     "output_type": "execute_result"
    }
   ],
   "source": [
    "array(freeT)"
   ]
  },
  {
   "cell_type": "code",
   "execution_count": 86,
   "id": "9681c88c",
   "metadata": {},
   "outputs": [
    {
     "name": "stdout",
     "output_type": "stream",
     "text": [
      "D = ITensor ord=2\n",
      "Dim 1: (dim=4|id=556|\"Link,eigen\")'\n",
      "Dim 2: (dim=4|id=556|\"Link,eigen\")\n",
      "NDTensors.Diag{ComplexF64, Vector{ComplexF64}}\n",
      " 4×4\n",
      " 1.0 + 0.0im  0.0 + 0.0im  0.0 + 0.0im  0.0 + 0.0im\n",
      " 0.0 + 0.0im  1.0 + 0.0im  0.0 + 0.0im  0.0 + 0.0im\n",
      " 0.0 + 0.0im  0.0 + 0.0im  1.0 + 0.0im  0.0 + 0.0im\n",
      " 0.0 + 0.0im  0.0 + 0.0im  0.0 + 0.0im  1.0 + 0.0im\n"
     ]
    },
    {
     "data": {
      "text/plain": [
       "4-element Vector{ComplexF64}:\n",
       " 1.0 + 0.0im\n",
       " 1.0 + 0.0im\n",
       " 1.0 + 0.0im\n",
       " 1.0 + 0.0im"
      ]
     },
     "execution_count": 86,
     "metadata": {},
     "output_type": "execute_result"
    }
   ],
   "source": [
    "Teig(freeT)"
   ]
  },
  {
   "cell_type": "code",
   "execution_count": 84,
   "id": "5356881b",
   "metadata": {},
   "outputs": [
    {
     "data": {
      "text/plain": [
       "4"
      ]
     },
     "execution_count": 84,
     "metadata": {},
     "output_type": "execute_result"
    }
   ],
   "source": [
    "dims(freeT)[1]"
   ]
  },
  {
   "cell_type": "code",
   "execution_count": null,
   "id": "bfa6875c",
   "metadata": {},
   "outputs": [],
   "source": []
  },
  {
   "cell_type": "code",
   "execution_count": null,
   "id": "2855bbf2",
   "metadata": {},
   "outputs": [],
   "source": [
    "D1,U1=eigen(SpinHam1,(s1',s2',s3'),(s1,s2,s3));"
   ]
  },
  {
   "cell_type": "code",
   "execution_count": 37,
   "id": "46e3ac29",
   "metadata": {},
   "outputs": [
    {
     "data": {
      "text/plain": [
       "ITensor ord=3 (dim=2|id=108|\"l\") (dim=2|id=526|\"r\") (dim=2|id=375|\"s\")\n",
       "NDTensors.Dense{Num, Vector{Num}}"
      ]
     },
     "execution_count": 37,
     "metadata": {},
     "output_type": "execute_result"
    }
   ],
   "source": [
    "As"
   ]
  },
  {
   "cell_type": "code",
   "execution_count": 49,
   "id": "47ec6cb5",
   "metadata": {},
   "outputs": [
    {
     "data": {
      "text/plain": [
       "(dim=2|id=375|\"s\")"
      ]
     },
     "execution_count": 49,
     "metadata": {},
     "output_type": "execute_result"
    }
   ],
   "source": [
    "left=findindex(As,\"l\")\n",
    "right=findindex(As,\"r\")\n",
    "site=findindex(As,\"s\")"
   ]
  },
  {
   "cell_type": "code",
   "execution_count": 52,
   "id": "6d015fb6",
   "metadata": {},
   "outputs": [
    {
     "data": {
      "text/plain": [
       "ITensor ord=3 (dim=2|id=108|\"l\")' (dim=2|id=526|\"r\")' (dim=2|id=375|\"s\")\n",
       "NDTensors.Dense{Num, Vector{Num}}"
      ]
     },
     "execution_count": 52,
     "metadata": {},
     "output_type": "execute_result"
    }
   ],
   "source": [
    "prime(As,(left,right))"
   ]
  },
  {
   "cell_type": "code",
   "execution_count": 56,
   "id": "de1c6b24",
   "metadata": {},
   "outputs": [
    {
     "data": {
      "text/plain": [
       "ITensor ord=3 (dim=4|id=263|\"lc\") (dim=2|id=108|\"l\") (dim=2|id=108|\"l\")'\n",
       "NDTensors.Combiner"
      ]
     },
     "execution_count": 56,
     "metadata": {},
     "output_type": "execute_result"
    }
   ],
   "source": [
    "combiner(left,left',tags=\"lc\")"
   ]
  },
  {
   "cell_type": "code",
   "execution_count": 54,
   "id": "71adb79e",
   "metadata": {},
   "outputs": [
    {
     "data": {
      "text/plain": [
       "\"l\""
      ]
     },
     "execution_count": 54,
     "metadata": {},
     "output_type": "execute_result"
    }
   ],
   "source": [
    "tags(left)"
   ]
  },
  {
   "cell_type": "code",
   "execution_count": 98,
   "id": "66550bbe",
   "metadata": {},
   "outputs": [
    {
     "data": {
      "text/plain": [
       "3×3 Matrix{ket}:\n",
       "         1.0|C⟩        \n",
       "                 1.0|A⟩\n",
       " 1.0|B⟩                "
      ]
     },
     "execution_count": 98,
     "metadata": {},
     "output_type": "execute_result"
    }
   ],
   "source": [
    "l3=Index(3,\"l\")\n",
    "r3=Index(3,\"r\")\n",
    "s3=Index(3,\"s\")\n",
    "chiralA=onehot(l3=>1,r3=>2,s3=>3)+onehot(l3=>2,r3=>3,s3=>1)+onehot(l3=>3,r3=>1,s3=>2)\n",
    "matrixpp(chiralA,l3,r3,[ket(\"A\") ket(\"B\") ket(\"C\")])"
   ]
  },
  {
   "cell_type": "code",
   "execution_count": 99,
   "id": "2cf62702",
   "metadata": {},
   "outputs": [
    {
     "data": {
      "text/plain": [
       "ITensor ord=2 (dim=9|id=157|\"lc\") (dim=9|id=989|\"rc\")\n",
       "NDTensors.Dense{Float64, Vector{Float64}}"
      ]
     },
     "execution_count": 99,
     "metadata": {},
     "output_type": "execute_result"
    }
   ],
   "source": [
    "chiralT=MakeTransfer(chiralA,l3,r3,s3)"
   ]
  },
  {
   "cell_type": "code",
   "execution_count": 100,
   "id": "9f2654e8",
   "metadata": {},
   "outputs": [
    {
     "data": {
      "text/plain": [
       "9×9 Matrix{Float64}:\n",
       " 0.0  0.0  0.0  0.0  1.0  0.0  0.0  0.0  0.0\n",
       " 0.0  0.0  0.0  0.0  0.0  0.0  0.0  0.0  0.0\n",
       " 0.0  0.0  0.0  0.0  0.0  0.0  0.0  0.0  0.0\n",
       " 0.0  0.0  0.0  0.0  0.0  0.0  0.0  0.0  0.0\n",
       " 0.0  0.0  0.0  0.0  0.0  0.0  0.0  0.0  1.0\n",
       " 0.0  0.0  0.0  0.0  0.0  0.0  0.0  0.0  0.0\n",
       " 0.0  0.0  0.0  0.0  0.0  0.0  0.0  0.0  0.0\n",
       " 0.0  0.0  0.0  0.0  0.0  0.0  0.0  0.0  0.0\n",
       " 1.0  0.0  0.0  0.0  0.0  0.0  0.0  0.0  0.0"
      ]
     },
     "execution_count": 100,
     "metadata": {},
     "output_type": "execute_result"
    }
   ],
   "source": [
    "array(chiralT)"
   ]
  },
  {
   "cell_type": "code",
   "execution_count": 101,
   "id": "99aba9c8",
   "metadata": {},
   "outputs": [
    {
     "name": "stdout",
     "output_type": "stream",
     "text": [
      "D = ITensor ord=2\n",
      "Dim 1: (dim=9|id=957|\"Link,eigen\")'\n",
      "Dim 2: (dim=9|id=957|\"Link,eigen\")\n",
      "NDTensors.Diag{ComplexF64, Vector{ComplexF64}}\n",
      " 9×9\n",
      " -0.4999999999999999 - 0.8660254037844388im                  0.0 + 0.0im                 0.0 + 0.0im  0.0 + 0.0im  0.0 + 0.0im  0.0 + 0.0im  0.0 + 0.0im  0.0 + 0.0im                 0.0 + 0.0im\n",
      "                 0.0 + 0.0im                 -0.4999999999999999 + 0.8660254037844388im  0.0 + 0.0im  0.0 + 0.0im  0.0 + 0.0im  0.0 + 0.0im  0.0 + 0.0im  0.0 + 0.0im                 0.0 + 0.0im\n",
      "                 0.0 + 0.0im                                 0.0 + 0.0im                 0.0 + 0.0im  0.0 + 0.0im  0.0 + 0.0im  0.0 + 0.0im  0.0 + 0.0im  0.0 + 0.0im                 0.0 + 0.0im\n",
      "                 0.0 + 0.0im                                 0.0 + 0.0im                 0.0 + 0.0im  0.0 + 0.0im  0.0 + 0.0im  0.0 + 0.0im  0.0 + 0.0im  0.0 + 0.0im                 0.0 + 0.0im\n",
      "                 0.0 + 0.0im                                 0.0 + 0.0im                 0.0 + 0.0im  0.0 + 0.0im  0.0 + 0.0im  0.0 + 0.0im  0.0 + 0.0im  0.0 + 0.0im                 0.0 + 0.0im\n",
      "                 0.0 + 0.0im                                 0.0 + 0.0im                 0.0 + 0.0im  0.0 + 0.0im  0.0 + 0.0im  0.0 + 0.0im  0.0 + 0.0im  0.0 + 0.0im                 0.0 + 0.0im\n",
      "                 0.0 + 0.0im                                 0.0 + 0.0im                 0.0 + 0.0im  0.0 + 0.0im  0.0 + 0.0im  0.0 + 0.0im  0.0 + 0.0im  0.0 + 0.0im                 0.0 + 0.0im\n",
      "                 0.0 + 0.0im                                 0.0 + 0.0im                 0.0 + 0.0im  0.0 + 0.0im  0.0 + 0.0im  0.0 + 0.0im  0.0 + 0.0im  0.0 + 0.0im                 0.0 + 0.0im\n",
      "                 0.0 + 0.0im                                 0.0 + 0.0im                 0.0 + 0.0im  0.0 + 0.0im  0.0 + 0.0im  0.0 + 0.0im  0.0 + 0.0im  0.0 + 0.0im  0.9999999999999998 + 0.0im\n"
     ]
    },
    {
     "data": {
      "text/plain": [
       "9-element Vector{ComplexF64}:\n",
       " -0.4999999999999999 - 0.8660254037844388im\n",
       " -0.4999999999999999 + 0.8660254037844388im\n",
       "                 0.0 + 0.0im\n",
       "                 0.0 + 0.0im\n",
       "                 0.0 + 0.0im\n",
       "                 0.0 + 0.0im\n",
       "                 0.0 + 0.0im\n",
       "                 0.0 + 0.0im\n",
       "  0.9999999999999998 + 0.0im"
      ]
     },
     "execution_count": 101,
     "metadata": {},
     "output_type": "execute_result"
    }
   ],
   "source": [
    "Teig(chiralT)"
   ]
  },
  {
   "cell_type": "code",
   "execution_count": null,
   "id": "ed3b984e",
   "metadata": {},
   "outputs": [],
   "source": []
  }
 ],
 "metadata": {
  "kernelspec": {
   "display_name": "Julia 1.9.1",
   "language": "julia",
   "name": "julia-1.9"
  },
  "language_info": {
   "file_extension": ".jl",
   "mimetype": "application/julia",
   "name": "julia",
   "version": "1.9.1"
  }
 },
 "nbformat": 4,
 "nbformat_minor": 5
}
