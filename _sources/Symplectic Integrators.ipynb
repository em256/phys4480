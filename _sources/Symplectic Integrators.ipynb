{
 "cells": [
  {
   "cell_type": "markdown",
   "id": "cbbef316-8d85-4ab0-858f-6e8eaa9a351c",
   "metadata": {},
   "source": [
    "# Symmetry Constraints"
   ]
  },
  {
   "cell_type": "markdown",
   "id": "da2599f2-aebb-449a-ba42-8cf83d65a0bb",
   "metadata": {},
   "source": [
    "## Geometry of Classical Mechanics"
   ]
  },
  {
   "cell_type": "markdown",
   "id": "0e9d4bee-0b09-4dd1-83f1-0076e344fd3e",
   "metadata": {},
   "source": [
    "It turns out that we can use the geometric structure of classic mechanics to make a better differential equation solver.  Note, it will only work for mechanics problems, since we are using that structure.  These are referred to as *Symplectic Methods*."
   ]
  },
  {
   "cell_type": "markdown",
   "id": "888d55e0-8968-419b-8c1f-cf0b819ed629",
   "metadata": {},
   "source": [
    "To understand that phrase, we need to dive into some advanced classical mechanics -- sometimes referred to as *Analytical Mechanics*.  You are probably aware that Newton's equations can be expressed as a variational method.  We define the action\n",
    "\n",
    "$$\n",
    "S=\\int \\mathcal{L}(x,\\dot{x},t)\\,dt\n",
    "$$\n",
    "\n",
    "where the Lagrangian is the difference between the kinetic and potential energy,\n",
    "\n",
    "$$\n",
    "\\mathcal{L} = T-V.\n",
    "$$\n",
    "\n",
    "Newton's equations correspond to finding the paths $(x(t),v(t))$ which make the action stationary.\n",
    "\n",
    "We will not work directly with $\\mathcal{L}$.  Rather we work with the Hamiltonian.  The Hamiltonian is defined in terms of the coordinates and the Cannonical Momenta.  The latter are defined by\n",
    "\n",
    "$$\n",
    "p=\\frac{\\delta S}{\\delta \\dot{x}}\n",
    "$$\n",
    "\n",
    "The Hamiltonian is then constructed as\n",
    "\n",
    "$$\n",
    "H=p\\dot{x}-\\mathcal{L},\n",
    "$$\n",
    "\n",
    "written in terms of $x$ and $p$.\n",
    "\n",
    "For example, consider a pendulum.  In phase space coordinates the kinetic energy is\n",
    "\\begin{align}\n",
    "T &= \\frac{1}{2}m v^2\\\\\n",
    "  &= \\frac{1}{2}m L^2 \\dot{\\theta}^2\n",
    "\\end{align}\n",
    "The potential energy is\n",
    "\\begin{align}\n",
    "V &= m g h\\\\\n",
    "  &= -m g L \\cos(\\theta).\n",
    "\\end{align}\n",
    "The coordinate is $\\theta$, so the canonical momentum is\n",
    "\\begin{align}\n",
    "p_\\theta &= \\frac{\\partial \\mathcal{L}}{\\partial \\theta}\\\\\n",
    "&=m L^2 \\dot{\\theta}\n",
    "\\end{align}\n",
    "The Hamilonian is then\n",
    "\\begin{align}\n",
    "H=\\frac{1}{2 m L^2} p_\\theta^2 -m g L \\cos(\\theta),\n",
    "\\end{align}\n",
    "which is simply the energy, written in the cannonical variables."
   ]
  },
  {
   "cell_type": "markdown",
   "id": "e000e2e1-ce38-43fd-9f5f-3b24654d11e5",
   "metadata": {},
   "source": [
    "The utility of the Hamiltonian is that Newton's laws take on a highly structures form\n",
    "\\begin{align}\n",
    "\\partial_t x &= \\partial_p H\\\\\n",
    "\\partial_t p &= -\\partial_x H\n",
    "\\end{align}\n",
    "The equations of motion in this form are often referred to as *Hamilton's Equations*.  They imply a number of important properties -- most notably, energy conservation and the conservation of canonical phase space volume (Liouville's theorem).  One can think of this as a symmetry, and try to produce a numerical integrator which respects the symmetry."
   ]
  },
  {
   "cell_type": "markdown",
   "id": "aba8476f-6f7d-4ec3-bb5a-0c75e5051ccf",
   "metadata": {},
   "source": [
    "Note -- I wrote this as if $x$ was a scalar -- but in general it is a vector containing all of the dynamical variables."
   ]
  },
  {
   "cell_type": "markdown",
   "id": "0dbfc6e3-04a2-4de1-aec7-c8f012ac88e3",
   "metadata": {},
   "source": [
    "### Energy Conservation and phase space volume"
   ]
  },
  {
   "cell_type": "markdown",
   "id": "d32ee054-3d0b-48a3-9a11-20d9b2724fa9",
   "metadata": {},
   "source": [
    "Within the Hamiltonian framework, energy conservation is trivial\n",
    "\\begin{align}\n",
    "\\partial_t H = \\partial_x H \\partial_t x + \\partial_p H \\partial_t p\n",
    "\\end{align}\n",
    "which vanishes by Hamilton's equations. "
   ]
  },
  {
   "cell_type": "markdown",
   "id": "01dfdec8-5ea8-4c7e-8d49-2bdd3a18ecf3",
   "metadata": {},
   "source": [
    "To understand the conservation of phase space volume, lets begin with a 1-dimensional case, where $x$ and $p$ are scalars.  In that case imagine the small triangle in phase space, with corners $(x_1,p_1)=(x,p)$, $(x_2,p_2)=(x+dx,p)$, $(x_3,p_3)=(x,p+dp)$.  That patch of phase space has area $A=dx\\times dp/2$.  If we define $\\vec{R}=(x,p)$, then that area can also be written as a cross product, ie $A=|(\\vec{R_3}-\\vec{R_1})\\times(\\vec{R_2}-\\vec{R_1})|/2$.  Liouville's theorem states that the area of that triangle is preserved under time evolution.  Any geometric shape can be made by piecing together triangles -- so any phase space volume is preserved.  Moreover, when generalized to higher dimensions the same feature persists.  The hypervolume of any geometric shape is preserved.\n",
    "\n",
    "In the 1D case we can prove this by imagining that we numerically evolve our differential equation via the Euler method.\n",
    "After evolving for some small time $\\delta t$, the first corner will have moved as\n",
    "\\begin{align}\n",
    "x&\\to x+\\frac{\\partial H}{\\partial p} \\delta t\\\\\n",
    "p&\\to p-\\frac{\\partial H}{\\partial x} \\delta t.\n",
    "\\end{align}\n",
    "Here we have evaluated $H$ at the point $(x,p)$.\n",
    "The second corner moves as\n",
    "\\begin{align}\n",
    "x+dx&\\to x+ dx+\\frac{\\partial H}{\\partial p} \\delta t+\\frac{\\partial^2 H}{\\partial x\\partial p} dx \\delta t\\\\\n",
    "p &\\to p-\\frac{\\partial H}{\\partial x} \\delta t-\\frac{\\partial^2 H}{\\partial x^2} dx \\delta t.\n",
    "\\end{align}\n",
    "Again, we are evaluating $H$ at the first point -- and hence the extra terms.\n",
    "The third corner moves as\n",
    "\\begin{align}\n",
    "x&\\to x+\\frac{\\partial H}{\\partial p} \\delta t+\\frac{\\partial^2 H}{\\partial p^2} dp \\delta t\\\\\n",
    "p+dp &\\to p+dp-\\frac{\\partial H}{\\partial x}  \\delta t-\\frac{\\partial^2 H}{\\partial x\\partial p}  dp \\delta t\n",
    "\\end{align}"
   ]
  },
  {
   "cell_type": "markdown",
   "id": "565abec9-5c08-431e-aba2-199742a87db9",
   "metadata": {},
   "source": [
    "The differences between the points are then\n",
    "\\begin{align}\n",
    "x_2-x_1&= dx\\left(1+ \\frac{\\partial^2 H}{\\partial x\\partial p} \\delta t\\right)\\\\\n",
    "p_2-p_1&= -dx \\frac{\\partial^2 H}{\\partial x^2} \\delta t\\\\\n",
    "x_3-x_1&= dp \\frac{\\partial^2 H}{\\partial x\\partial p} \\delta t\\\\\n",
    "p_2-p_1&= -dp \\left(1+\\frac{\\partial^2 H}{\\partial x\\partial p} \\delta t\\right)\n",
    "\\end{align}"
   ]
  },
  {
   "cell_type": "markdown",
   "id": "ee6bdab4-885a-44d6-ac72-0befe4a9ec82",
   "metadata": {},
   "source": [
    "You can then take the cross-product, and you will see that to order $\\delta t$, the phase space volume is preserved."
   ]
  },
  {
   "cell_type": "markdown",
   "id": "271d6999-bbd3-4c40-a760-bbacae98ca12",
   "metadata": {},
   "source": [
    "Note that for the Euler method, this area preservation is only true to leading order in $\\delta t$.  For analytic work, you then imagine taking the limit $\\delta t \\to 0$. "
   ]
  },
  {
   "cell_type": "markdown",
   "id": "b6f4d91b-8c0f-4ecc-832f-f541708dfc93",
   "metadata": {},
   "source": [
    "## Symplectic Structure"
   ]
  },
  {
   "cell_type": "markdown",
   "id": "f24f78d1-9345-47c6-899e-7798dd1fabb4",
   "metadata": {},
   "source": [
    "I probably will not go over this in class -- but you might be curious about why we refer to the structure of Hamilton's equations as Symplectic."
   ]
  },
  {
   "cell_type": "markdown",
   "id": "14e214f8-9f29-45c2-851b-9f08a47427af",
   "metadata": {},
   "source": [
    "To get at this structure we make a vector $\\vec{R}=(x,p)$.  Hamilton's equations are then \n",
    "\n",
    "$$\n",
    "\\partial_t R= J \\frac{\\partial H}{\\partial R}\n",
    "$$\n",
    "\n",
    "where $J$ is a block matrix\n",
    "\\begin{equation}\n",
    "J=\\left(\n",
    "\\begin{array}{cc}\n",
    "0&1\\\\\n",
    "-1&0\\end{array}\n",
    "\\right)\n",
    "\\end{equation}"
   ]
  },
  {
   "cell_type": "markdown",
   "id": "e8b0b1fb-aff3-47c2-8327-a3577554c852",
   "metadata": {},
   "source": [
    "If I apply a linear transformation, defining $\\bar R_i=\\sum_j K_{ij} R_j$, then\n",
    "\\begin{align}\n",
    "\\partial_t \\bar R_i &=\\sum_{jk} K_{ij} J_{jk} \\frac{\\partial H}{\\partial R_k}\\\\\n",
    "&= \\sum_{jkl} K_{ij} J_{jk} \\frac{\\partial{\\bar R}_l}{\\partial R_k} \\frac{\\partial H}{\\partial {\\bar R}_l}\\\\\n",
    "&= \\sum_{jkl} K_{ij} J_{jk} K^{t}_{kl} \\frac{\\partial H}{\\partial {\\bar R}_l}\n",
    "\\end{align}\n",
    "This will have the same form as the original equation if \n",
    "\n",
    "$$\n",
    "J=KJK^t\n",
    "$$\n",
    "\n",
    "which defines $K$ to be a Symplectic matrix.  This is a generalization of an Orthogonal matrix (which has this same form, but with $J=I$."
   ]
  },
  {
   "cell_type": "markdown",
   "id": "3e74baea-0431-44e4-b8e7-8cdd0c48e368",
   "metadata": {},
   "source": [
    "Thus the form of Hamilton's equations is invarient under a symplectic transformation.  A special case of this is time-evolution, which is a map $(x(t),p(t))\\to (x(t'),p(t'))$.  This map must be symplectic."
   ]
  },
  {
   "cell_type": "markdown",
   "id": "aedcff69-3f81-4a1b-8f07-7771373345dc",
   "metadata": {},
   "source": [
    "## Symplectic Integrators"
   ]
  },
  {
   "cell_type": "markdown",
   "id": "57de6d08-7fb3-428f-b715-9b362e6665a1",
   "metadata": {},
   "source": [
    "The simplest symplectic integrator is the leapfrog method.  It is based upon using a different grid for the x-points and the p-points.  We use central differences for the derivatives, so\n",
    "\\begin{align}\n",
    "\\partial_t x&= \\partial_p H\\\\\n",
    "\\partial_t x&= -\\partial_x H\n",
    "\\end{align}\n",
    "becomes\n",
    "\\begin{align}\n",
    "x_{i+1}-x_i&= \\left(\\partial_p H\\right)_{i+1/2} \\delta t\\\\\n",
    "p_{i+1/2}-p_{i-1/2}&= -\\left(\\partial_x H\\right)_{i} \\delta t\n",
    "\\end{align}\n",
    "I'll prove that this is symplectic later, but here is a simple implementation, where we assume $\\partial_p H$ is only a function of $x$ and $\\partial_x H$ is only a function of $p$."
   ]
  },
  {
   "cell_type": "code",
   "execution_count": 8,
   "id": "deab6eb9-e813-499f-9214-10f2d0a13182",
   "metadata": {},
   "outputs": [
    {
     "data": {
      "text/plain": [
       "leapfrogevolve (generic function with 2 methods)"
      ]
     },
     "execution_count": 8,
     "metadata": {},
     "output_type": "execute_result"
    }
   ],
   "source": [
    "# Stepping Rules\n",
    "xstep(x,p,dHdp,t,deltat)=x+ dHdp(p,t)*deltat\n",
    "pstep(x,p,dHdx,t,deltat)=p- dHdx(x,t)*deltat\n",
    "\n",
    "# Allows calling by keywords\n",
    "xstep(;x,p,dHdp,t,deltat)=xstep(x,p,dHdp,t,deltat)\n",
    "pstep(;x,p,dHdx,t,deltat)=pstep(x,p,dHdx,t,deltat)\n",
    "\n",
    "function leapfrogevolve(x0,p1,dHdx,dHdp,timerange)\n",
    "    ti,tf,dt=timerange\n",
    "    numsteps=floor(Int,(tf-ti)/dt)\n",
    "    x=collect(x0) #converts to a vector\n",
    "                  #works fine without \"collect\" if you restrict input to vectors\n",
    "    p=collect(p1)\n",
    "    xresult=Array{typeof(x)}(undef,numsteps+1)\n",
    "    presult=Array{typeof(p)}(undef,numsteps+1)\n",
    "    xresult[1]=x\n",
    "    presult[1]=p\n",
    "    t=ti\n",
    "    for j in 1:numsteps\n",
    "        x=xstep(x,p,dHdp,t,deltat)\n",
    "        xresult[j+1]=x\n",
    "        p=pstep(x,p,dHdx,t+deltat/2,deltat)\n",
    "        presult[j+1]=p\n",
    "        t+=dt\n",
    "    end\n",
    "    return (x=xresult,p=presult,xt=xtimes,pt=ptimes)\n",
    "end\n",
    "\n",
    "leapfrogevolve(;x0,p1,dHdx,dHdp,timerange)=leapfrogevolve(x0,p1,dHdx,dHdp,timerange)"
   ]
  },
  {
   "cell_type": "markdown",
   "id": "dcfde519-3cd8-4378-a7c4-f530a4caaa3b",
   "metadata": {},
   "source": [
    "Note, the output of our function is a `NamedTuple`.  This is a data structure which is convenient for shuffling information around.  Here is an example of how it works."
   ]
  },
  {
   "cell_type": "code",
   "execution_count": 1,
   "id": "c0c90250-c8ed-4b3a-aeeb-31a9fd2e9209",
   "metadata": {},
   "outputs": [
    {
     "data": {
      "text/plain": [
       "(a = 10, b = 5)"
      ]
     },
     "execution_count": 1,
     "metadata": {},
     "output_type": "execute_result"
    }
   ],
   "source": [
    "data=(a=10,b=5) # create the NamedTuple"
   ]
  },
  {
   "cell_type": "code",
   "execution_count": 2,
   "id": "fde035d2-31b1-4954-a99a-55fe4b414b65",
   "metadata": {},
   "outputs": [
    {
     "data": {
      "text/plain": [
       "10"
      ]
     },
     "execution_count": 2,
     "metadata": {},
     "output_type": "execute_result"
    }
   ],
   "source": [
    "data[1] # Access entries like you would a normal Tuple"
   ]
  },
  {
   "cell_type": "code",
   "execution_count": 5,
   "id": "06602c75-d78d-42a7-bba8-fdcb68aba857",
   "metadata": {},
   "outputs": [
    {
     "data": {
      "text/plain": [
       "10"
      ]
     },
     "execution_count": 5,
     "metadata": {},
     "output_type": "execute_result"
    }
   ],
   "source": [
    "data[:a] # Access entries as a look-up table"
   ]
  },
  {
   "cell_type": "code",
   "execution_count": 6,
   "id": "75458c93-9175-4c10-b045-b2ae828ae897",
   "metadata": {},
   "outputs": [
    {
     "data": {
      "text/plain": [
       "10"
      ]
     },
     "execution_count": 6,
     "metadata": {},
     "output_type": "execute_result"
    }
   ],
   "source": [
    "data.a # Access entries as a `struct`"
   ]
  },
  {
   "cell_type": "code",
   "execution_count": 7,
   "id": "b2c25568-2d50-4e0d-82f7-09503a8d61a7",
   "metadata": {},
   "outputs": [
    {
     "data": {
      "text/plain": [
       "(:a, :b)"
      ]
     },
     "execution_count": 7,
     "metadata": {},
     "output_type": "execute_result"
    }
   ],
   "source": [
    "keys(data) # Get the names of the elements"
   ]
  },
  {
   "cell_type": "markdown",
   "id": "7e1849f8-cbe7-4fd0-87cc-1828e2d4b4b0",
   "metadata": {},
   "source": [
    "We can demonstrate this with our pendulum Hamiltonian.  Here the canonical position is θ, and the conjugate momentum is "
   ]
  },
  {
   "cell_type": "code",
   "execution_count": null,
   "id": "05cee812-8579-48f8-b052-fbe9d05b29c3",
   "metadata": {},
   "outputs": [],
   "source": [
    "pendulum_dHdx(θ"
   ]
  },
  {
   "cell_type": "code",
   "execution_count": null,
   "id": "1a16ddec-3d08-495d-8c49-2d72a5569c9d",
   "metadata": {},
   "outputs": [],
   "source": []
  },
  {
   "cell_type": "code",
   "execution_count": null,
   "id": "6aad6751-9645-42fb-b537-1fd6bb1de1ce",
   "metadata": {},
   "outputs": [],
   "source": []
  },
  {
   "cell_type": "code",
   "execution_count": 12,
   "id": "0e33fea6-5f97-4ed8-bd00-391cdacdddac",
   "metadata": {},
   "outputs": [
    {
     "data": {
      "text/plain": [
       "10-element Vector{Tuple{Int64, Int64}}:\n",
       " (1, 3)\n",
       " (2, 2)\n",
       " (3, 3)\n",
       " (4, 2)\n",
       " (5, 3)\n",
       " (6, 2)\n",
       " (7, 3)\n",
       " (8, 2)\n",
       " (9, 3)\n",
       " (10, 2)"
      ]
     },
     "execution_count": 12,
     "metadata": {},
     "output_type": "execute_result"
    }
   ],
   "source": [
    "[(j,mod(j,2:3)) for j in 1:10]"
   ]
  },
  {
   "cell_type": "code",
   "execution_count": 11,
   "id": "a376594b-ce6a-434c-8ba0-3c6d4e23c6de",
   "metadata": {},
   "outputs": [
    {
     "data": {
      "text/plain": [
       "10-element Vector{Tuple{Int64, Int64}}:\n",
       " (1, 1)\n",
       " (2, 2)\n",
       " (3, 3)\n",
       " (4, 1)\n",
       " (5, 2)\n",
       " (6, 3)\n",
       " (7, 1)\n",
       " (8, 2)\n",
       " (9, 3)\n",
       " (10, 1)"
      ]
     },
     "execution_count": 11,
     "metadata": {},
     "output_type": "execute_result"
    }
   ],
   "source": [
    "[(j,mod1(j,3)) for j in 1:10]"
   ]
  },
  {
   "cell_type": "code",
   "execution_count": null,
   "id": "366ddbb7-9433-429f-9949-88bc783bdf51",
   "metadata": {},
   "outputs": [],
   "source": []
  }
 ],
 "metadata": {
  "kernelspec": {
   "display_name": "Julia 1.10.4",
   "language": "julia",
   "name": "julia-1.10"
  },
  "language_info": {
   "file_extension": ".jl",
   "mimetype": "application/julia",
   "name": "julia",
   "version": "1.10.4"
  }
 },
 "nbformat": 4,
 "nbformat_minor": 5
}
