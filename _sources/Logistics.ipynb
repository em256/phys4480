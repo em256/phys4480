{
 "cells": [
  {
   "cell_type": "markdown",
   "id": "b93c8b00-0aff-4e49-ab35-9c7374032137",
   "metadata": {},
   "source": [
    "# Logistics"
   ]
  },
  {
   "cell_type": "markdown",
   "id": "17aa3b74-eb15-4410-a443-2ed6437fe0f6",
   "metadata": {},
   "source": [
    "## Grading"
   ]
  },
  {
   "cell_type": "markdown",
   "id": "dc36b878-c1c2-4cdd-ba71-9b5b51fa1660",
   "metadata": {},
   "source": [
    "The course will be assessed pass-fail.   This is an relatively new curriculum, so I am still figuring out how much time needs to be devoted to the various elements of the course.  At this point I am not able to give a full map of the activities and their due dates.  \n",
    "\n",
    "Nonetheless, here is my rough set of required activities:\n",
    "- Module 1: Quadrature\n",
    "    - Lab -- Period of a Pendulum\n",
    "    - HW 1\n",
    "- Module 2: Ordinary Differential Equations\n",
    "    - Lab - Projectile Motion\n",
    "    - HW 2\n",
    "- Module 3: Classical Mechanics\n",
    "    - Lab - Chaos\n",
    "    - HW 3\n",
    "    - LAB - Animating the Duffing Oscillator\n",
    "- Module 4: Dynamical Systems\n",
    "    - Lab - Kinetic Theory\n",
    "    - HW 4\n",
    "- Module 5: Stochastic Methods\n",
    "    - Lab - Ising Model\n",
    "    - HW 5\n",
    "\n",
    "I also have some ideas for some modules on machine learning, quantum mechanics, and E&M.  I am open to adjusting where we go based upon student interest.  Last year we did the five modules listed above, and it worked pretty well.\n",
    "\n",
    "Regardless -- you should expect to have some assigned activity every week, either a lab or a homework.  We will spend some class time on the labs -- as having some help will be useful.  I'll probably also try to do some \"pair programming\" activities.\n",
    "\n",
    "You should budget 3-4 hours to complete the assigned activities in addition to the 3-hours per week of class time.  If you add some reading/thinking time that will take us up to the state mandated 9 hours per week of work for a 3 credit course. Students taking the course as PHYS 7680 or ASTRO 7690 will have an additional project that they will need to complete.  There are no exams.\n",
    "\n",
    "I'd like to have the 7680/7690 students present their project in-class during the final week."
   ]
  },
  {
   "cell_type": "markdown",
   "id": "4dcc2467-5f97-462d-bc8c-ca6c3a58ee06",
   "metadata": {},
   "source": [
    "My current plan is to largely assess progress in-class.  During lab periods I will circulate and ask you to go over your activities with me.  I will also ask you to upload your notebooks to Canvas."
   ]
  },
  {
   "cell_type": "markdown",
   "id": "463163f7-89f8-4c66-bdaf-6c3aaed6638c",
   "metadata": {},
   "source": [
    "## Projects"
   ]
  },
  {
   "cell_type": "markdown",
   "id": "eedfd484-131d-4a42-b2cf-bf45744c39e5",
   "metadata": {},
   "source": [
    "Students taking the class as PHYS 7680 or ASTRO 7690 will need to do a project.  I will talk to you one-on-one to find a project of the right scope.  Ideally it should be something that would help you with your (future) research.  For example, you might write a DMRG code, analyze CMB data...  \n",
    "\n",
    "You do not need to write a report -- instead I'd like to see you make a Jupyter Notebook, which goes through the project.  I'd like to have you give a short presentation in class.  You can either use the notebook (like I do for my lectures) or powerpoint.  I am not going to mandate a length/time requirement -- but please try to keep it concise.  It is better to have it short and leaving people wanting more than it is to make it long and put people to sleep.  If you are needing more than 10 minutes, then you are probably giving more details than anyone in the class wants.\n",
    "\n",
    "If we have 12 Grad Students in the class, and have 3 presentations per class, it will take 4 classes for the presentations.  This would be Nov 20, 25, Dec 2, 4.\n",
    "\n",
    "I'd like to start meeting with students next week to start brainstorming projects.  It is good to get started early, as it might take a little work to come up with something that fits."
   ]
  },
  {
   "cell_type": "markdown",
   "id": "c60c5884-313b-4943-8b24-a9fd60f7d2e1",
   "metadata": {},
   "source": [
    "# Office Hours"
   ]
  },
  {
   "cell_type": "markdown",
   "id": "228cd5b2-c224-4bb7-8253-13dec3474628",
   "metadata": {},
   "source": [
    "I'll block off some office hours in my schedule.  What time works?"
   ]
  },
  {
   "cell_type": "code",
   "execution_count": null,
   "id": "9014151a-954d-4bc5-aeaf-693aff0cef7f",
   "metadata": {},
   "outputs": [],
   "source": []
  }
 ],
 "metadata": {
  "kernelspec": {
   "display_name": "Julia 1.9.1",
   "language": "julia",
   "name": "julia-1.9"
  },
  "language_info": {
   "file_extension": ".jl",
   "mimetype": "application/julia",
   "name": "julia",
   "version": "1.9.1"
  }
 },
 "nbformat": 4,
 "nbformat_minor": 5
}
