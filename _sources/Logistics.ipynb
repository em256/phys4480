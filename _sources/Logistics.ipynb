{
 "cells": [
  {
   "cell_type": "markdown",
   "id": "b93c8b00-0aff-4e49-ab35-9c7374032137",
   "metadata": {},
   "source": [
    "# Logistics"
   ]
  },
  {
   "cell_type": "markdown",
   "id": "17aa3b74-eb15-4410-a443-2ed6437fe0f6",
   "metadata": {},
   "source": [
    "## Grading"
   ]
  },
  {
   "cell_type": "markdown",
   "id": "dc36b878-c1c2-4cdd-ba71-9b5b51fa1660",
   "metadata": {},
   "source": [
    "The course will be assessed pass-fail.   This is an entirely new curriculum, so I am still figuring out how much time needs to be devoted to the various elements of the course.  At this point I am not able to give a full map of the activities and their due dates.  You should expect to have some assigned activity every week, and should budget 3-4 hours to complete it, in addition to the 3-hours per week of class time.  If you add some reading/thinking time that will take us up to the state mandated 9 hours per week of work for a 3 credit course. Students taking the course as PHYS 7680 or ASTRO 7690 will have an additional project that they will need to complete.  There are no exams."
   ]
  },
  {
   "cell_type": "markdown",
   "id": "4dcc2467-5f97-462d-bc8c-ca6c3a58ee06",
   "metadata": {},
   "source": [
    "My current plan is to assess progress in-class.  During lab periods I will circulate and ask you to go over your activities with me.  I honestly do not know how effective that will be.  If it ends up not working, then I will likely ask you to upload your notebooks to Canvas."
   ]
  },
  {
   "cell_type": "markdown",
   "id": "463163f7-89f8-4c66-bdaf-6c3aaed6638c",
   "metadata": {},
   "source": [
    "## Projects"
   ]
  },
  {
   "cell_type": "markdown",
   "id": "eedfd484-131d-4a42-b2cf-bf45744c39e5",
   "metadata": {},
   "source": [
    "Graduate students taking the class as PHYS 7680 or ASTRO 7690 will need to do a project.  I will talk to you one-on-one to find a project of the right scope.  Ideally it should be something that would help you with your (future) research.  For example, you might write a DMRG code, analyze CMB data..."
   ]
  }
 ],
 "metadata": {
  "kernelspec": {
   "display_name": "Julia 1.9.1",
   "language": "julia",
   "name": "julia-1.9"
  },
  "language_info": {
   "file_extension": ".jl",
   "mimetype": "application/julia",
   "name": "julia",
   "version": "1.9.1"
  }
 },
 "nbformat": 4,
 "nbformat_minor": 5
}
