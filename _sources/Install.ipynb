{
 "cells": [
  {
   "cell_type": "markdown",
   "id": "4367e266-7520-4791-b5de-2aca2e050f19",
   "metadata": {},
   "source": [
    "# Installing Julia"
   ]
  },
  {
   "cell_type": "markdown",
   "id": "38cd9bd4-f98c-4e95-95e3-3709fc3ed62a",
   "metadata": {},
   "source": [
    "1. Go to https://julialang.org/downloads. and download the current stable release, Julia x.yy.z, using the correct version for your operating system (Linux x86, Mac, Windows, etc).\n",
    "\n",
    "2. After installing, make sure that you can run Julia. On some systems, this means searching for the \"Julia x.yy.z\" program installed on your computer; in others, it means running the command `julia` in a terminal.\n",
    "\n",
    "This puts you in the **Julia REPL** -- an interface which lets you line-by-line run Julia commands.  Test it out by typing `1+1` and then \"enter.\"  Hint: If everything is working you should get `2`\n",
    "\n",
    "3. Inside the Julia REPL type `]` (closing square bracket)\n",
    "    \n",
    "The Julia prompt should change to \"pkg>\" and turn blue, telling you that you are now in package manager mode. This mode allows you to do operations on packages (also called libraries).\n",
    "\n",
    "To install Jupyter, run the following (case sensitive) command to add (install) the package to your system by downloading it from the internet. You should only need to do this once for each installation of Julia:\n",
    "\n",
    "    add IJulia\n",
    "\n",
    "Note: the `IJ` should be capitalized.\n",
    "\n",
    "4. Exit the package manager by hitting back-space or delete\n",
    "\n",
    "5. To start Jupyter in Notebook mode type `using IJulia; notebook()`.  Alternatively, to start it in Jupyterlab mode type  `using IJulia; lab()`.  It may ask if you want to install some software using `conda`.  Respond with `y`.\n",
    "\n",
    "Note:  If you already have Jupyter installed (for example via Anaconda) then I believe the command `add IJulia` adds the Julia kernel to your existing install.\n",
    "\n",
    "7. In the future you should be able to start Jupyter from the **REPL**, or from a terminal command line.  If you install Jupyter through Anaconda, you will also get an icon you can click to start it."
   ]
  },
  {
   "cell_type": "markdown",
   "id": "045e177b-dfdd-4f8f-9edd-1edea25956aa",
   "metadata": {},
   "source": [
    "Some more help with getting Julia to work with [an existing Jupyter installation](https://discourse.julialang.org/t/using-ijulia-with-existing-jupyter-installation-outwith-anaconda/38832)."
   ]
  },
  {
   "cell_type": "markdown",
   "id": "7c923676-84c1-4916-92a6-d9c0faf3ab29",
   "metadata": {},
   "source": [
    "## VSCode"
   ]
  },
  {
   "cell_type": "markdown",
   "id": "a86c3a64-86e2-41f0-af1b-171f90142979",
   "metadata": {},
   "source": [
    "You can also install Julia through VSCode.  I recommend against doing this for your main Julia interface for this course.  I set things up to work with Jupyter, and I can't guarentee they will work with the VSCode notebook viewer.  (Of course -- feel free to play with it.  It may work great, but it also may be frustrating.)"
   ]
  },
  {
   "cell_type": "markdown",
   "id": "0840cd28-5424-47cb-85a0-b196334fe50f",
   "metadata": {},
   "source": [
    "Here are some links to instructions to [make the code highlight properly](https://code.visualstudio.com/docs/languages/julia)\n",
    "and [make the greek letters work](https://marketplace.visualstudio.com/items?itemName=andyljones.tablatex)"
   ]
  },
  {
   "cell_type": "code",
   "execution_count": null,
   "id": "4805829b-7cfb-4303-b6af-371a1a624443",
   "metadata": {},
   "outputs": [],
   "source": []
  }
 ],
 "metadata": {
  "kernelspec": {
   "display_name": "Julia 1.10.4",
   "language": "julia",
   "name": "julia-1.10"
  },
  "language_info": {
   "file_extension": ".jl",
   "mimetype": "application/julia",
   "name": "julia",
   "version": "1.10.4"
  }
 },
 "nbformat": 4,
 "nbformat_minor": 5
}
