{
 "cells": [
  {
   "cell_type": "markdown",
   "id": "915898f0-8335-428d-bc71-3095f675a65f",
   "metadata": {},
   "source": [
    "# Automatic Differentiation"
   ]
  },
  {
   "cell_type": "code",
   "execution_count": 1,
   "id": "152b133e-14e0-4930-af5b-2f7241482b68",
   "metadata": {},
   "outputs": [],
   "source": [
    "using Plots"
   ]
  },
  {
   "cell_type": "markdown",
   "id": "5aa8a8df-ab86-4b3b-9db3-50995937f08c",
   "metadata": {},
   "source": [
    "## How to find derivatives of functions"
   ]
  },
  {
   "cell_type": "markdown",
   "id": "154a7a61-c865-4cc5-afcd-e83710ef5b13",
   "metadata": {},
   "source": [
    "Suppose we want to find the slope of a function"
   ]
  },
  {
   "cell_type": "code",
   "execution_count": 2,
   "id": "293a8040-d7ab-4a48-9c73-37d2c13709dc",
   "metadata": {},
   "outputs": [
    {
     "data": {
      "image/png": "[encoded data removed]",
      "image/svg+xml": [
       "<?xml version=\"1.0\" encoding=\"utf-8\"?>\n",
       "<svg xmlns=\"http://www.w3.org/2000/svg\" xmlns:xlink=\"http://www.w3.org/1999/xlink\" width=\"600\" height=\"400\" viewBox=\"0 0 2400 1600\">\n",
       "<defs>\n",
       "  <clipPath id=\"clip920\">\n",
       "    <rect x=\"0\" y=\"0\" width=\"2400\" height=\"1600\"/>\n",
       "  </clipPath>\n",
       "</defs>\n",
       "<path clip-path=\"url(#clip920)\" d=\"M0 1600 L2400 1600 L2400 8.88178e-14 L0 8.88178e-14  Z\" fill=\"#ffffff\" fill-rule=\"evenodd\" fill-opacity=\"1\"/>\n",
       "<defs>\n",
       "  <clipPath id=\"clip921\">\n",
       "    <rect x=\"480\" y=\"0\" width=\"1681\" height=\"1600\"/>\n",
       "  </clipPath>\n",
       "</defs>\n",
       "<path clip-path=\"url(#clip920)\" d=\"M147.478 1486.45 L2352.76 1486.45 L2352.76 47.2441 L147.478 47.2441  Z\" fill=\"#ffffff\" fill-rule=\"evenodd\" fill-opacity=\"1\"/>\n",
       "<defs>\n",
       "  <clipPath id=\"clip922\">\n",
       "    <rect x=\"147\" y=\"47\" width=\"2206\" height=\"1440\"/>\n",
       "  </clipPath>\n",
       "</defs>\n",
       "<polyline clip-path=\"url(#clip922)\" style=\"stroke:#000000; stroke-linecap:round; stroke-linejoin:round; stroke-width:2; stroke-opacity:0.1; fill:none\" points=\"491.033,1486.45 491.033,47.2441 \"/>\n",
       "<polyline clip-path=\"url(#clip922)\" style=\"stroke:#000000; stroke-linecap:round; stroke-linejoin:round; stroke-width:2; stroke-opacity:0.1; fill:none\" points=\"1053.32,1486.45 1053.32,47.2441 \"/>\n",
       "<polyline clip-path=\"url(#clip922)\" style=\"stroke:#000000; stroke-linecap:round; stroke-linejoin:round; stroke-width:2; stroke-opacity:0.1; fill:none\" points=\"1615.6,1486.45 1615.6,47.2441 \"/>\n",
       "<polyline clip-path=\"url(#clip922)\" style=\"stroke:#000000; stroke-linecap:round; stroke-linejoin:round; stroke-width:2; stroke-opacity:0.1; fill:none\" points=\"2177.89,1486.45 2177.89,47.2441 \"/>\n",
       "<polyline clip-path=\"url(#clip920)\" style=\"stroke:#000000; stroke-linecap:round; stroke-linejoin:round; stroke-width:4; stroke-opacity:1; fill:none\" points=\"147.478,1486.45 2352.76,1486.45 \"/>\n",
       "<polyline clip-path=\"url(#clip920)\" style=\"stroke:#000000; stroke-linecap:round; stroke-linejoin:round; stroke-width:4; stroke-opacity:1; fill:none\" points=\"491.033,1486.45 491.033,1467.55 \"/>\n",
       "<polyline clip-path=\"url(#clip920)\" style=\"stroke:#000000; stroke-linecap:round; stroke-linejoin:round; stroke-width:4; stroke-opacity:1; fill:none\" points=\"1053.32,1486.45 1053.32,1467.55 \"/>\n",
       "<polyline clip-path=\"url(#clip920)\" style=\"stroke:#000000; stroke-linecap:round; stroke-linejoin:round; stroke-width:4; stroke-opacity:1; fill:none\" points=\"1615.6,1486.45 1615.6,1467.55 \"/>\n",
       "<polyline clip-path=\"url(#clip920)\" style=\"stroke:#000000; stroke-linecap:round; stroke-linejoin:round; stroke-width:4; stroke-opacity:1; fill:none\" points=\"2177.89,1486.45 2177.89,1467.55 \"/>\n",
       "<path clip-path=\"url(#clip920)\" d=\"M460.791 1532.02 L490.466 1532.02 L490.466 1535.95 L460.791 1535.95 L460.791 1532.02 Z\" fill=\"#000000\" fill-rule=\"nonzero\" fill-opacity=\"1\" /><path clip-path=\"url(#clip920)\" d=\"M501.369 1544.91 L509.008 1544.91 L509.008 1518.55 L500.698 1520.21 L500.698 1515.95 L508.962 1514.29 L513.638 1514.29 L513.638 1544.91 L521.276 1544.91 L521.276 1548.85 L501.369 1548.85 L501.369 1544.91 Z\" fill=\"#000000\" fill-rule=\"nonzero\" fill-opacity=\"1\" /><path clip-path=\"url(#clip920)\" d=\"M1053.32 1517.37 Q1049.71 1517.37 1047.88 1520.93 Q1046.07 1524.47 1046.07 1531.6 Q1046.07 1538.71 1047.88 1542.27 Q1049.71 1545.82 1053.32 1545.82 Q1056.95 1545.82 1058.76 1542.27 Q1060.59 1538.71 1060.59 1531.6 Q1060.59 1524.47 1058.76 1520.93 Q1056.95 1517.37 1053.32 1517.37 M1053.32 1513.66 Q1059.13 1513.66 1062.18 1518.27 Q1065.26 1522.85 1065.26 1531.6 Q1065.26 1540.33 1062.18 1544.94 Q1059.13 1549.52 1053.32 1549.52 Q1047.51 1549.52 1044.43 1544.94 Q1041.37 1540.33 1041.37 1531.6 Q1041.37 1522.85 1044.43 1518.27 Q1047.51 1513.66 1053.32 1513.66 Z\" fill=\"#000000\" fill-rule=\"nonzero\" fill-opacity=\"1\" /><path clip-path=\"url(#clip920)\" d=\"M1605.98 1544.91 L1613.62 1544.91 L1613.62 1518.55 L1605.31 1520.21 L1605.31 1515.95 L1613.58 1514.29 L1618.25 1514.29 L1618.25 1544.91 L1625.89 1544.91 L1625.89 1548.85 L1605.98 1548.85 L1605.98 1544.91 Z\" fill=\"#000000\" fill-rule=\"nonzero\" fill-opacity=\"1\" /><path clip-path=\"url(#clip920)\" d=\"M2172.54 1544.91 L2188.86 1544.91 L2188.86 1548.85 L2166.91 1548.85 L2166.91 1544.91 Q2169.58 1542.16 2174.16 1537.53 Q2178.77 1532.88 2179.95 1531.53 Q2182.19 1529.01 2183.07 1527.27 Q2183.97 1525.51 2183.97 1523.82 Q2183.97 1521.07 2182.03 1519.33 Q2180.11 1517.6 2177.01 1517.6 Q2174.81 1517.6 2172.35 1518.36 Q2169.92 1519.13 2167.14 1520.68 L2167.14 1515.95 Q2169.97 1514.82 2172.42 1514.24 Q2174.88 1513.66 2176.91 1513.66 Q2182.28 1513.66 2185.48 1516.35 Q2188.67 1519.03 2188.67 1523.52 Q2188.67 1525.65 2187.86 1527.57 Q2187.08 1529.47 2184.97 1532.07 Q2184.39 1532.74 2181.29 1535.95 Q2178.19 1539.15 2172.54 1544.91 Z\" fill=\"#000000\" fill-rule=\"nonzero\" fill-opacity=\"1\" /><polyline clip-path=\"url(#clip922)\" style=\"stroke:#000000; stroke-linecap:round; stroke-linejoin:round; stroke-width:2; stroke-opacity:0.1; fill:none\" points=\"147.478,1235.3 2352.76,1235.3 \"/>\n",
       "<polyline clip-path=\"url(#clip922)\" style=\"stroke:#000000; stroke-linecap:round; stroke-linejoin:round; stroke-width:2; stroke-opacity:0.1; fill:none\" points=\"147.478,898.647 2352.76,898.647 \"/>\n",
       "<polyline clip-path=\"url(#clip922)\" style=\"stroke:#000000; stroke-linecap:round; stroke-linejoin:round; stroke-width:2; stroke-opacity:0.1; fill:none\" points=\"147.478,561.99 2352.76,561.99 \"/>\n",
       "<polyline clip-path=\"url(#clip922)\" style=\"stroke:#000000; stroke-linecap:round; stroke-linejoin:round; stroke-width:2; stroke-opacity:0.1; fill:none\" points=\"147.478,225.333 2352.76,225.333 \"/>\n",
       "<polyline clip-path=\"url(#clip920)\" style=\"stroke:#000000; stroke-linecap:round; stroke-linejoin:round; stroke-width:4; stroke-opacity:1; fill:none\" points=\"147.478,1486.45 147.478,47.2441 \"/>\n",
       "<polyline clip-path=\"url(#clip920)\" style=\"stroke:#000000; stroke-linecap:round; stroke-linejoin:round; stroke-width:4; stroke-opacity:1; fill:none\" points=\"147.478,1235.3 166.376,1235.3 \"/>\n",
       "<polyline clip-path=\"url(#clip920)\" style=\"stroke:#000000; stroke-linecap:round; stroke-linejoin:round; stroke-width:4; stroke-opacity:1; fill:none\" points=\"147.478,898.647 166.376,898.647 \"/>\n",
       "<polyline clip-path=\"url(#clip920)\" style=\"stroke:#000000; stroke-linecap:round; stroke-linejoin:round; stroke-width:4; stroke-opacity:1; fill:none\" points=\"147.478,561.99 166.376,561.99 \"/>\n",
       "<polyline clip-path=\"url(#clip920)\" style=\"stroke:#000000; stroke-linecap:round; stroke-linejoin:round; stroke-width:4; stroke-opacity:1; fill:none\" points=\"147.478,225.333 166.376,225.333 \"/>\n",
       "<path clip-path=\"url(#clip920)\" d=\"M51.3625 1235.76 L81.0383 1235.76 L81.0383 1239.69 L51.3625 1239.69 L51.3625 1235.76 Z\" fill=\"#000000\" fill-rule=\"nonzero\" fill-opacity=\"1\" /><path clip-path=\"url(#clip920)\" d=\"M95.1586 1248.65 L111.478 1248.65 L111.478 1252.58 L89.5336 1252.58 L89.5336 1248.65 Q92.1956 1245.9 96.7789 1241.27 Q101.385 1236.61 102.566 1235.27 Q104.811 1232.75 105.691 1231.01 Q106.594 1229.25 106.594 1227.56 Q106.594 1224.81 104.649 1223.07 Q102.728 1221.33 99.6261 1221.33 Q97.4271 1221.33 94.9734 1222.1 Q92.5428 1222.86 89.7651 1224.41 L89.7651 1219.69 Q92.5891 1218.56 95.0428 1217.98 Q97.4965 1217.4 99.5335 1217.4 Q104.904 1217.4 108.098 1220.08 Q111.293 1222.77 111.293 1227.26 Q111.293 1229.39 110.483 1231.31 Q109.696 1233.21 107.589 1235.8 Q107.01 1236.47 103.909 1239.69 Q100.807 1242.89 95.1586 1248.65 Z\" fill=\"#000000\" fill-rule=\"nonzero\" fill-opacity=\"1\" /><path clip-path=\"url(#clip920)\" d=\"M50.9921 899.099 L80.6679 899.099 L80.6679 903.034 L50.9921 903.034 L50.9921 899.099 Z\" fill=\"#000000\" fill-rule=\"nonzero\" fill-opacity=\"1\" /><path clip-path=\"url(#clip920)\" d=\"M91.5706 911.992 L99.2095 911.992 L99.2095 885.627 L90.8993 887.293 L90.8993 883.034 L99.1632 881.367 L103.839 881.367 L103.839 911.992 L111.478 911.992 L111.478 915.927 L91.5706 915.927 L91.5706 911.992 Z\" fill=\"#000000\" fill-rule=\"nonzero\" fill-opacity=\"1\" /><path clip-path=\"url(#clip920)\" d=\"M99.5335 547.789 Q95.9224 547.789 94.0937 551.353 Q92.2882 554.895 92.2882 562.025 Q92.2882 569.131 94.0937 572.696 Q95.9224 576.238 99.5335 576.238 Q103.168 576.238 104.973 572.696 Q106.802 569.131 106.802 562.025 Q106.802 554.895 104.973 551.353 Q103.168 547.789 99.5335 547.789 M99.5335 544.085 Q105.344 544.085 108.399 548.691 Q111.478 553.275 111.478 562.025 Q111.478 570.751 108.399 575.358 Q105.344 579.941 99.5335 579.941 Q93.7234 579.941 90.6447 575.358 Q87.5892 570.751 87.5892 562.025 Q87.5892 553.275 90.6447 548.691 Q93.7234 544.085 99.5335 544.085 Z\" fill=\"#000000\" fill-rule=\"nonzero\" fill-opacity=\"1\" /><path clip-path=\"url(#clip920)\" d=\"M91.5706 238.677 L99.2095 238.677 L99.2095 212.312 L90.8993 213.978 L90.8993 209.719 L99.1632 208.053 L103.839 208.053 L103.839 238.677 L111.478 238.677 L111.478 242.613 L91.5706 242.613 L91.5706 238.677 Z\" fill=\"#000000\" fill-rule=\"nonzero\" fill-opacity=\"1\" /><polyline clip-path=\"url(#clip922)\" style=\"stroke:#009af9; stroke-linecap:round; stroke-linejoin:round; stroke-width:4; stroke-opacity:1; fill:none\" points=\"209.891,1445.72 213.278,1430.07 216.664,1414.56 220.05,1399.18 223.436,1383.93 239.092,1315.17 254.747,1249.19 270.402,1185.96 286.057,1125.43 301.712,1067.56 317.368,1012.31 333.023,959.622 348.678,909.465 367.494,852.465 386.311,798.978 405.127,748.928 423.943,702.24 439.852,665.332 455.761,630.728 471.67,598.381 487.579,568.246 504.861,537.963 522.142,510.177 539.424,484.83 556.705,461.863 572.637,442.748 588.569,425.559 604.502,410.251 620.434,396.778 637.514,384.319 654.595,373.861 671.676,365.345 688.757,358.716 708.547,353.32 728.337,350.293 748.127,349.545 767.917,350.99 785.503,354.042 803.09,358.695 820.677,364.885 838.264,372.552 853.686,380.441 869.108,389.376 884.53,399.315 899.953,410.218 916.767,423.152 933.581,437.127 950.395,452.089 967.21,467.983 1001.04,502.568 1034.87,540.27 1072.27,585.052 1109.67,632.512 1145.26,679.612 1180.84,728.086 1254.85,831.06 1317.14,917.25 1355.17,968.384 1393.2,1017.64 1428.03,1060.57 1462.87,1100.93 1495.04,1135.49 1527.22,1167.06 1543.51,1181.78 1559.81,1195.6 1576.1,1208.45 1592.4,1220.29 1610.66,1232.29 1628.92,1242.9 1647.19,1252.03 1665.45,1259.62 1682,1265.12 1698.55,1269.23 1715.1,1271.93 1731.64,1273.15 1750.59,1272.66 1769.54,1270.1 1788.49,1265.38 1807.43,1258.42 1824.98,1249.92 1842.52,1239.38 1860.06,1226.73 1877.61,1211.92 1894.9,1195.14 1912.2,1176.13 1929.5,1154.84 1946.79,1131.21 1963.58,1105.97 1980.38,1078.42 1997.17,1048.49 2013.96,1016.14 2031.18,980.411 2048.39,942.016 2065.61,900.901 2082.82,857.009 2092.25,831.766 2101.68,805.663 2111.11,778.689 2120.54,750.836 2129.97,722.094 2139.4,692.454 2148.83,661.905 2158.27,630.439 2171.96,583.075 2185.66,533.726 2199.36,482.361 2213.06,428.952 2226.76,373.47 2240.46,315.885 2254.16,256.169 2267.86,194.291 2273.48,168.271 2279.1,141.879 2284.72,115.115 2290.34,87.9763 \"/>\n",
       "<path clip-path=\"url(#clip920)\" d=\"M220.987 198.898 L493.945 198.898 L493.945 95.2176 L220.987 95.2176  Z\" fill=\"#ffffff\" fill-rule=\"evenodd\" fill-opacity=\"1\"/>\n",
       "<polyline clip-path=\"url(#clip920)\" style=\"stroke:#000000; stroke-linecap:round; stroke-linejoin:round; stroke-width:4; stroke-opacity:1; fill:none\" points=\"220.987,198.898 493.945,198.898 493.945,95.2176 220.987,95.2176 220.987,198.898 \"/>\n",
       "<polyline clip-path=\"url(#clip920)\" style=\"stroke:#009af9; stroke-linecap:round; stroke-linejoin:round; stroke-width:4; stroke-opacity:1; fill:none\" points=\"245.49,147.058 392.509,147.058 \"/>\n",
       "<path clip-path=\"url(#clip920)\" d=\"M430.854 166.745 Q429.049 171.375 427.336 172.787 Q425.623 174.199 422.753 174.199 L419.35 174.199 L419.35 170.634 L421.85 170.634 Q423.609 170.634 424.581 169.8 Q425.554 168.967 426.734 165.865 L427.498 163.921 L417.012 138.412 L421.526 138.412 L429.628 158.689 L437.729 138.412 L442.243 138.412 L430.854 166.745 Z\" fill=\"#000000\" fill-rule=\"nonzero\" fill-opacity=\"1\" /><path clip-path=\"url(#clip920)\" d=\"M449.535 160.402 L457.174 160.402 L457.174 134.037 L448.864 135.703 L448.864 131.444 L457.127 129.778 L461.803 129.778 L461.803 160.402 L469.442 160.402 L469.442 164.338 L449.535 164.338 L449.535 160.402 Z\" fill=\"#000000\" fill-rule=\"nonzero\" fill-opacity=\"1\" /></svg>\n"
      ],
      "text/html": [
       "<?xml version=\"1.0\" encoding=\"utf-8\"?>\n",
       "<svg xmlns=\"http://www.w3.org/2000/svg\" xmlns:xlink=\"http://www.w3.org/1999/xlink\" width=\"600\" height=\"400\" viewBox=\"0 0 2400 1600\">\n",
       "<defs>\n",
       "  <clipPath id=\"clip970\">\n",
       "    <rect x=\"0\" y=\"0\" width=\"2400\" height=\"1600\"/>\n",
       "  </clipPath>\n",
       "</defs>\n",
       "<path clip-path=\"url(#clip970)\" d=\"M0 1600 L2400 1600 L2400 8.88178e-14 L0 8.88178e-14  Z\" fill=\"#ffffff\" fill-rule=\"evenodd\" fill-opacity=\"1\"/>\n",
       "<defs>\n",
       "  <clipPath id=\"clip971\">\n",
       "    <rect x=\"480\" y=\"0\" width=\"1681\" height=\"1600\"/>\n",
       "  </clipPath>\n",
       "</defs>\n",
       "<path clip-path=\"url(#clip970)\" d=\"M147.478 1486.45 L2352.76 1486.45 L2352.76 47.2441 L147.478 47.2441  Z\" fill=\"#ffffff\" fill-rule=\"evenodd\" fill-opacity=\"1\"/>\n",
       "<defs>\n",
       "  <clipPath id=\"clip972\">\n",
       "    <rect x=\"147\" y=\"47\" width=\"2206\" height=\"1440\"/>\n",
       "  </clipPath>\n",
       "</defs>\n",
       "<polyline clip-path=\"url(#clip972)\" style=\"stroke:#000000; stroke-linecap:round; stroke-linejoin:round; stroke-width:2; stroke-opacity:0.1; fill:none\" points=\"491.033,1486.45 491.033,47.2441 \"/>\n",
       "<polyline clip-path=\"url(#clip972)\" style=\"stroke:#000000; stroke-linecap:round; stroke-linejoin:round; stroke-width:2; stroke-opacity:0.1; fill:none\" points=\"1053.32,1486.45 1053.32,47.2441 \"/>\n",
       "<polyline clip-path=\"url(#clip972)\" style=\"stroke:#000000; stroke-linecap:round; stroke-linejoin:round; stroke-width:2; stroke-opacity:0.1; fill:none\" points=\"1615.6,1486.45 1615.6,47.2441 \"/>\n",
       "<polyline clip-path=\"url(#clip972)\" style=\"stroke:#000000; stroke-linecap:round; stroke-linejoin:round; stroke-width:2; stroke-opacity:0.1; fill:none\" points=\"2177.89,1486.45 2177.89,47.2441 \"/>\n",
       "<polyline clip-path=\"url(#clip970)\" style=\"stroke:#000000; stroke-linecap:round; stroke-linejoin:round; stroke-width:4; stroke-opacity:1; fill:none\" points=\"147.478,1486.45 2352.76,1486.45 \"/>\n",
       "<polyline clip-path=\"url(#clip970)\" style=\"stroke:#000000; stroke-linecap:round; stroke-linejoin:round; stroke-width:4; stroke-opacity:1; fill:none\" points=\"491.033,1486.45 491.033,1467.55 \"/>\n",
       "<polyline clip-path=\"url(#clip970)\" style=\"stroke:#000000; stroke-linecap:round; stroke-linejoin:round; stroke-width:4; stroke-opacity:1; fill:none\" points=\"1053.32,1486.45 1053.32,1467.55 \"/>\n",
       "<polyline clip-path=\"url(#clip970)\" style=\"stroke:#000000; stroke-linecap:round; stroke-linejoin:round; stroke-width:4; stroke-opacity:1; fill:none\" points=\"1615.6,1486.45 1615.6,1467.55 \"/>\n",
       "<polyline clip-path=\"url(#clip970)\" style=\"stroke:#000000; stroke-linecap:round; stroke-linejoin:round; stroke-width:4; stroke-opacity:1; fill:none\" points=\"2177.89,1486.45 2177.89,1467.55 \"/>\n",
       "<path clip-path=\"url(#clip970)\" d=\"M460.791 1532.02 L490.466 1532.02 L490.466 1535.95 L460.791 1535.95 L460.791 1532.02 Z\" fill=\"#000000\" fill-rule=\"nonzero\" fill-opacity=\"1\" /><path clip-path=\"url(#clip970)\" d=\"M501.369 1544.91 L509.008 1544.91 L509.008 1518.55 L500.698 1520.21 L500.698 1515.95 L508.962 1514.29 L513.638 1514.29 L513.638 1544.91 L521.276 1544.91 L521.276 1548.85 L501.369 1548.85 L501.369 1544.91 Z\" fill=\"#000000\" fill-rule=\"nonzero\" fill-opacity=\"1\" /><path clip-path=\"url(#clip970)\" d=\"M1053.32 1517.37 Q1049.71 1517.37 1047.88 1520.93 Q1046.07 1524.47 1046.07 1531.6 Q1046.07 1538.71 1047.88 1542.27 Q1049.71 1545.82 1053.32 1545.82 Q1056.95 1545.82 1058.76 1542.27 Q1060.59 1538.71 1060.59 1531.6 Q1060.59 1524.47 1058.76 1520.93 Q1056.95 1517.37 1053.32 1517.37 M1053.32 1513.66 Q1059.13 1513.66 1062.18 1518.27 Q1065.26 1522.85 1065.26 1531.6 Q1065.26 1540.33 1062.18 1544.94 Q1059.13 1549.52 1053.32 1549.52 Q1047.51 1549.52 1044.43 1544.94 Q1041.37 1540.33 1041.37 1531.6 Q1041.37 1522.85 1044.43 1518.27 Q1047.51 1513.66 1053.32 1513.66 Z\" fill=\"#000000\" fill-rule=\"nonzero\" fill-opacity=\"1\" /><path clip-path=\"url(#clip970)\" d=\"M1605.98 1544.91 L1613.62 1544.91 L1613.62 1518.55 L1605.31 1520.21 L1605.31 1515.95 L1613.58 1514.29 L1618.25 1514.29 L1618.25 1544.91 L1625.89 1544.91 L1625.89 1548.85 L1605.98 1548.85 L1605.98 1544.91 Z\" fill=\"#000000\" fill-rule=\"nonzero\" fill-opacity=\"1\" /><path clip-path=\"url(#clip970)\" d=\"M2172.54 1544.91 L2188.86 1544.91 L2188.86 1548.85 L2166.91 1548.85 L2166.91 1544.91 Q2169.58 1542.16 2174.16 1537.53 Q2178.77 1532.88 2179.95 1531.53 Q2182.19 1529.01 2183.07 1527.27 Q2183.97 1525.51 2183.97 1523.82 Q2183.97 1521.07 2182.03 1519.33 Q2180.11 1517.6 2177.01 1517.6 Q2174.81 1517.6 2172.35 1518.36 Q2169.92 1519.13 2167.14 1520.68 L2167.14 1515.95 Q2169.97 1514.82 2172.42 1514.24 Q2174.88 1513.66 2176.91 1513.66 Q2182.28 1513.66 2185.48 1516.35 Q2188.67 1519.03 2188.67 1523.52 Q2188.67 1525.65 2187.86 1527.57 Q2187.08 1529.47 2184.97 1532.07 Q2184.39 1532.74 2181.29 1535.95 Q2178.19 1539.15 2172.54 1544.91 Z\" fill=\"#000000\" fill-rule=\"nonzero\" fill-opacity=\"1\" /><polyline clip-path=\"url(#clip972)\" style=\"stroke:#000000; stroke-linecap:round; stroke-linejoin:round; stroke-width:2; stroke-opacity:0.1; fill:none\" points=\"147.478,1235.3 2352.76,1235.3 \"/>\n",
       "<polyline clip-path=\"url(#clip972)\" style=\"stroke:#000000; stroke-linecap:round; stroke-linejoin:round; stroke-width:2; stroke-opacity:0.1; fill:none\" points=\"147.478,898.647 2352.76,898.647 \"/>\n",
       "<polyline clip-path=\"url(#clip972)\" style=\"stroke:#000000; stroke-linecap:round; stroke-linejoin:round; stroke-width:2; stroke-opacity:0.1; fill:none\" points=\"147.478,561.99 2352.76,561.99 \"/>\n",
       "<polyline clip-path=\"url(#clip972)\" style=\"stroke:#000000; stroke-linecap:round; stroke-linejoin:round; stroke-width:2; stroke-opacity:0.1; fill:none\" points=\"147.478,225.333 2352.76,225.333 \"/>\n",
       "<polyline clip-path=\"url(#clip970)\" style=\"stroke:#000000; stroke-linecap:round; stroke-linejoin:round; stroke-width:4; stroke-opacity:1; fill:none\" points=\"147.478,1486.45 147.478,47.2441 \"/>\n",
       "<polyline clip-path=\"url(#clip970)\" style=\"stroke:#000000; stroke-linecap:round; stroke-linejoin:round; stroke-width:4; stroke-opacity:1; fill:none\" points=\"147.478,1235.3 166.376,1235.3 \"/>\n",
       "<polyline clip-path=\"url(#clip970)\" style=\"stroke:#000000; stroke-linecap:round; stroke-linejoin:round; stroke-width:4; stroke-opacity:1; fill:none\" points=\"147.478,898.647 166.376,898.647 \"/>\n",
       "<polyline clip-path=\"url(#clip970)\" style=\"stroke:#000000; stroke-linecap:round; stroke-linejoin:round; stroke-width:4; stroke-opacity:1; fill:none\" points=\"147.478,561.99 166.376,561.99 \"/>\n",
       "<polyline clip-path=\"url(#clip970)\" style=\"stroke:#000000; stroke-linecap:round; stroke-linejoin:round; stroke-width:4; stroke-opacity:1; fill:none\" points=\"147.478,225.333 166.376,225.333 \"/>\n",
       "<path clip-path=\"url(#clip970)\" d=\"M51.3625 1235.76 L81.0383 1235.76 L81.0383 1239.69 L51.3625 1239.69 L51.3625 1235.76 Z\" fill=\"#000000\" fill-rule=\"nonzero\" fill-opacity=\"1\" /><path clip-path=\"url(#clip970)\" d=\"M95.1586 1248.65 L111.478 1248.65 L111.478 1252.58 L89.5336 1252.58 L89.5336 1248.65 Q92.1956 1245.9 96.7789 1241.27 Q101.385 1236.61 102.566 1235.27 Q104.811 1232.75 105.691 1231.01 Q106.594 1229.25 106.594 1227.56 Q106.594 1224.81 104.649 1223.07 Q102.728 1221.33 99.6261 1221.33 Q97.4271 1221.33 94.9734 1222.1 Q92.5428 1222.86 89.7651 1224.41 L89.7651 1219.69 Q92.5891 1218.56 95.0428 1217.98 Q97.4965 1217.4 99.5335 1217.4 Q104.904 1217.4 108.098 1220.08 Q111.293 1222.77 111.293 1227.26 Q111.293 1229.39 110.483 1231.31 Q109.696 1233.21 107.589 1235.8 Q107.01 1236.47 103.909 1239.69 Q100.807 1242.89 95.1586 1248.65 Z\" fill=\"#000000\" fill-rule=\"nonzero\" fill-opacity=\"1\" /><path clip-path=\"url(#clip970)\" d=\"M50.9921 899.099 L80.6679 899.099 L80.6679 903.034 L50.9921 903.034 L50.9921 899.099 Z\" fill=\"#000000\" fill-rule=\"nonzero\" fill-opacity=\"1\" /><path clip-path=\"url(#clip970)\" d=\"M91.5706 911.992 L99.2095 911.992 L99.2095 885.627 L90.8993 887.293 L90.8993 883.034 L99.1632 881.367 L103.839 881.367 L103.839 911.992 L111.478 911.992 L111.478 915.927 L91.5706 915.927 L91.5706 911.992 Z\" fill=\"#000000\" fill-rule=\"nonzero\" fill-opacity=\"1\" /><path clip-path=\"url(#clip970)\" d=\"M99.5335 547.789 Q95.9224 547.789 94.0937 551.353 Q92.2882 554.895 92.2882 562.025 Q92.2882 569.131 94.0937 572.696 Q95.9224 576.238 99.5335 576.238 Q103.168 576.238 104.973 572.696 Q106.802 569.131 106.802 562.025 Q106.802 554.895 104.973 551.353 Q103.168 547.789 99.5335 547.789 M99.5335 544.085 Q105.344 544.085 108.399 548.691 Q111.478 553.275 111.478 562.025 Q111.478 570.751 108.399 575.358 Q105.344 579.941 99.5335 579.941 Q93.7234 579.941 90.6447 575.358 Q87.5892 570.751 87.5892 562.025 Q87.5892 553.275 90.6447 548.691 Q93.7234 544.085 99.5335 544.085 Z\" fill=\"#000000\" fill-rule=\"nonzero\" fill-opacity=\"1\" /><path clip-path=\"url(#clip970)\" d=\"M91.5706 238.677 L99.2095 238.677 L99.2095 212.312 L90.8993 213.978 L90.8993 209.719 L99.1632 208.053 L103.839 208.053 L103.839 238.677 L111.478 238.677 L111.478 242.613 L91.5706 242.613 L91.5706 238.677 Z\" fill=\"#000000\" fill-rule=\"nonzero\" fill-opacity=\"1\" /><polyline clip-path=\"url(#clip972)\" style=\"stroke:#009af9; stroke-linecap:round; stroke-linejoin:round; stroke-width:4; stroke-opacity:1; fill:none\" points=\"209.891,1445.72 213.278,1430.07 216.664,1414.56 220.05,1399.18 223.436,1383.93 239.092,1315.17 254.747,1249.19 270.402,1185.96 286.057,1125.43 301.712,1067.56 317.368,1012.31 333.023,959.622 348.678,909.465 367.494,852.465 386.311,798.978 405.127,748.928 423.943,702.24 439.852,665.332 455.761,630.728 471.67,598.381 487.579,568.246 504.861,537.963 522.142,510.177 539.424,484.83 556.705,461.863 572.637,442.748 588.569,425.559 604.502,410.251 620.434,396.778 637.514,384.319 654.595,373.861 671.676,365.345 688.757,358.716 708.547,353.32 728.337,350.293 748.127,349.545 767.917,350.99 785.503,354.042 803.09,358.695 820.677,364.885 838.264,372.552 853.686,380.441 869.108,389.376 884.53,399.315 899.953,410.218 916.767,423.152 933.581,437.127 950.395,452.089 967.21,467.983 1001.04,502.568 1034.87,540.27 1072.27,585.052 1109.67,632.512 1145.26,679.612 1180.84,728.086 1254.85,831.06 1317.14,917.25 1355.17,968.384 1393.2,1017.64 1428.03,1060.57 1462.87,1100.93 1495.04,1135.49 1527.22,1167.06 1543.51,1181.78 1559.81,1195.6 1576.1,1208.45 1592.4,1220.29 1610.66,1232.29 1628.92,1242.9 1647.19,1252.03 1665.45,1259.62 1682,1265.12 1698.55,1269.23 1715.1,1271.93 1731.64,1273.15 1750.59,1272.66 1769.54,1270.1 1788.49,1265.38 1807.43,1258.42 1824.98,1249.92 1842.52,1239.38 1860.06,1226.73 1877.61,1211.92 1894.9,1195.14 1912.2,1176.13 1929.5,1154.84 1946.79,1131.21 1963.58,1105.97 1980.38,1078.42 1997.17,1048.49 2013.96,1016.14 2031.18,980.411 2048.39,942.016 2065.61,900.901 2082.82,857.009 2092.25,831.766 2101.68,805.663 2111.11,778.689 2120.54,750.836 2129.97,722.094 2139.4,692.454 2148.83,661.905 2158.27,630.439 2171.96,583.075 2185.66,533.726 2199.36,482.361 2213.06,428.952 2226.76,373.47 2240.46,315.885 2254.16,256.169 2267.86,194.291 2273.48,168.271 2279.1,141.879 2284.72,115.115 2290.34,87.9763 \"/>\n",
       "<path clip-path=\"url(#clip970)\" d=\"M220.987 198.898 L493.945 198.898 L493.945 95.2176 L220.987 95.2176  Z\" fill=\"#ffffff\" fill-rule=\"evenodd\" fill-opacity=\"1\"/>\n",
       "<polyline clip-path=\"url(#clip970)\" style=\"stroke:#000000; stroke-linecap:round; stroke-linejoin:round; stroke-width:4; stroke-opacity:1; fill:none\" points=\"220.987,198.898 493.945,198.898 493.945,95.2176 220.987,95.2176 220.987,198.898 \"/>\n",
       "<polyline clip-path=\"url(#clip970)\" style=\"stroke:#009af9; stroke-linecap:round; stroke-linejoin:round; stroke-width:4; stroke-opacity:1; fill:none\" points=\"245.49,147.058 392.509,147.058 \"/>\n",
       "<path clip-path=\"url(#clip970)\" d=\"M430.854 166.745 Q429.049 171.375 427.336 172.787 Q425.623 174.199 422.753 174.199 L419.35 174.199 L419.35 170.634 L421.85 170.634 Q423.609 170.634 424.581 169.8 Q425.554 168.967 426.734 165.865 L427.498 163.921 L417.012 138.412 L421.526 138.412 L429.628 158.689 L437.729 138.412 L442.243 138.412 L430.854 166.745 Z\" fill=\"#000000\" fill-rule=\"nonzero\" fill-opacity=\"1\" /><path clip-path=\"url(#clip970)\" d=\"M449.535 160.402 L457.174 160.402 L457.174 134.037 L448.864 135.703 L448.864 131.444 L457.127 129.778 L461.803 129.778 L461.803 160.402 L469.442 160.402 L469.442 164.338 L449.535 164.338 L449.535 160.402 Z\" fill=\"#000000\" fill-rule=\"nonzero\" fill-opacity=\"1\" /></svg>\n"
      ]
     },
     "execution_count": 2,
     "metadata": {},
     "output_type": "execute_result"
    }
   ],
   "source": [
    "f(x)=(x+1)*x*(x-2)\n",
    "plot(f,-1.5,2.2)"
   ]
  },
  {
   "cell_type": "markdown",
   "id": "4f7f0fc6-a094-48d6-a222-d4505c410702",
   "metadata": {},
   "source": [
    "In this particular case, we can do it analytically.  "
   ]
  },
  {
   "cell_type": "code",
   "execution_count": 3,
   "id": "9cf414ee-0adc-4de3-946b-d3202ac404bd",
   "metadata": {},
   "outputs": [
    {
     "data": {
      "image/png": "[encoded data removed]",
      "image/svg+xml": [
       "<?xml version=\"1.0\" encoding=\"utf-8\"?>\n",
       "<svg xmlns=\"http://www.w3.org/2000/svg\" xmlns:xlink=\"http://www.w3.org/1999/xlink\" width=\"600\" height=\"400\" viewBox=\"0 0 2400 1600\">\n",
       "<defs>\n",
       "  <clipPath id=\"clip010\">\n",
       "    <rect x=\"0\" y=\"0\" width=\"2400\" height=\"1600\"/>\n",
       "  </clipPath>\n",
       "</defs>\n",
       "<path clip-path=\"url(#clip010)\" d=\"M0 1600 L2400 1600 L2400 8.88178e-14 L0 8.88178e-14  Z\" fill=\"#ffffff\" fill-rule=\"evenodd\" fill-opacity=\"1\"/>\n",
       "<defs>\n",
       "  <clipPath id=\"clip011\">\n",
       "    <rect x=\"480\" y=\"0\" width=\"1681\" height=\"1600\"/>\n",
       "  </clipPath>\n",
       "</defs>\n",
       "<path clip-path=\"url(#clip010)\" d=\"M147.108 1486.45 L2352.76 1486.45 L2352.76 47.2441 L147.108 47.2441  Z\" fill=\"#ffffff\" fill-rule=\"evenodd\" fill-opacity=\"1\"/>\n",
       "<defs>\n",
       "  <clipPath id=\"clip012\">\n",
       "    <rect x=\"147\" y=\"47\" width=\"2207\" height=\"1440\"/>\n",
       "  </clipPath>\n",
       "</defs>\n",
       "<polyline clip-path=\"url(#clip012)\" style=\"stroke:#000000; stroke-linecap:round; stroke-linejoin:round; stroke-width:2; stroke-opacity:0.1; fill:none\" points=\"490.721,1486.45 490.721,47.2441 \"/>\n",
       "<polyline clip-path=\"url(#clip012)\" style=\"stroke:#000000; stroke-linecap:round; stroke-linejoin:round; stroke-width:2; stroke-opacity:0.1; fill:none\" points=\"1053.1,1486.45 1053.1,47.2441 \"/>\n",
       "<polyline clip-path=\"url(#clip012)\" style=\"stroke:#000000; stroke-linecap:round; stroke-linejoin:round; stroke-width:2; stroke-opacity:0.1; fill:none\" points=\"1615.48,1486.45 1615.48,47.2441 \"/>\n",
       "<polyline clip-path=\"url(#clip012)\" style=\"stroke:#000000; stroke-linecap:round; stroke-linejoin:round; stroke-width:2; stroke-opacity:0.1; fill:none\" points=\"2177.86,1486.45 2177.86,47.2441 \"/>\n",
       "<polyline clip-path=\"url(#clip010)\" style=\"stroke:#000000; stroke-linecap:round; stroke-linejoin:round; stroke-width:4; stroke-opacity:1; fill:none\" points=\"147.108,1486.45 2352.76,1486.45 \"/>\n",
       "<polyline clip-path=\"url(#clip010)\" style=\"stroke:#000000; stroke-linecap:round; stroke-linejoin:round; stroke-width:4; stroke-opacity:1; fill:none\" points=\"490.721,1486.45 490.721,1467.55 \"/>\n",
       "<polyline clip-path=\"url(#clip010)\" style=\"stroke:#000000; stroke-linecap:round; stroke-linejoin:round; stroke-width:4; stroke-opacity:1; fill:none\" points=\"1053.1,1486.45 1053.1,1467.55 \"/>\n",
       "<polyline clip-path=\"url(#clip010)\" style=\"stroke:#000000; stroke-linecap:round; stroke-linejoin:round; stroke-width:4; stroke-opacity:1; fill:none\" points=\"1615.48,1486.45 1615.48,1467.55 \"/>\n",
       "<polyline clip-path=\"url(#clip010)\" style=\"stroke:#000000; stroke-linecap:round; stroke-linejoin:round; stroke-width:4; stroke-opacity:1; fill:none\" points=\"2177.86,1486.45 2177.86,1467.55 \"/>\n",
       "<path clip-path=\"url(#clip010)\" d=\"M460.478 1532.02 L490.154 1532.02 L490.154 1535.95 L460.478 1535.95 L460.478 1532.02 Z\" fill=\"#000000\" fill-rule=\"nonzero\" fill-opacity=\"1\" /><path clip-path=\"url(#clip010)\" d=\"M501.056 1544.91 L508.695 1544.91 L508.695 1518.55 L500.385 1520.21 L500.385 1515.95 L508.649 1514.29 L513.325 1514.29 L513.325 1544.91 L520.964 1544.91 L520.964 1548.85 L501.056 1548.85 L501.056 1544.91 Z\" fill=\"#000000\" fill-rule=\"nonzero\" fill-opacity=\"1\" /><path clip-path=\"url(#clip010)\" d=\"M1053.1 1517.37 Q1049.49 1517.37 1047.66 1520.93 Q1045.85 1524.47 1045.85 1531.6 Q1045.85 1538.71 1047.66 1542.27 Q1049.49 1545.82 1053.1 1545.82 Q1056.73 1545.82 1058.54 1542.27 Q1060.37 1538.71 1060.37 1531.6 Q1060.37 1524.47 1058.54 1520.93 Q1056.73 1517.37 1053.1 1517.37 M1053.1 1513.66 Q1058.91 1513.66 1061.96 1518.27 Q1065.04 1522.85 1065.04 1531.6 Q1065.04 1540.33 1061.96 1544.94 Q1058.91 1549.52 1053.1 1549.52 Q1047.29 1549.52 1044.21 1544.94 Q1041.15 1540.33 1041.15 1531.6 Q1041.15 1522.85 1044.21 1518.27 Q1047.29 1513.66 1053.1 1513.66 Z\" fill=\"#000000\" fill-rule=\"nonzero\" fill-opacity=\"1\" /><path clip-path=\"url(#clip010)\" d=\"M1605.86 1544.91 L1613.5 1544.91 L1613.5 1518.55 L1605.19 1520.21 L1605.19 1515.95 L1613.45 1514.29 L1618.13 1514.29 L1618.13 1544.91 L1625.77 1544.91 L1625.77 1548.85 L1605.86 1548.85 L1605.86 1544.91 Z\" fill=\"#000000\" fill-rule=\"nonzero\" fill-opacity=\"1\" /><path clip-path=\"url(#clip010)\" d=\"M2172.51 1544.91 L2188.83 1544.91 L2188.83 1548.85 L2166.88 1548.85 L2166.88 1544.91 Q2169.55 1542.16 2174.13 1537.53 Q2178.74 1532.88 2179.92 1531.53 Q2182.16 1529.01 2183.04 1527.27 Q2183.94 1525.51 2183.94 1523.82 Q2183.94 1521.07 2182 1519.33 Q2180.08 1517.6 2176.98 1517.6 Q2174.78 1517.6 2172.32 1518.36 Q2169.89 1519.13 2167.12 1520.68 L2167.12 1515.95 Q2169.94 1514.82 2172.39 1514.24 Q2174.85 1513.66 2176.88 1513.66 Q2182.25 1513.66 2185.45 1516.35 Q2188.64 1519.03 2188.64 1523.52 Q2188.64 1525.65 2187.83 1527.57 Q2187.05 1529.47 2184.94 1532.07 Q2184.36 1532.74 2181.26 1535.95 Q2178.16 1539.15 2172.51 1544.91 Z\" fill=\"#000000\" fill-rule=\"nonzero\" fill-opacity=\"1\" /><polyline clip-path=\"url(#clip012)\" style=\"stroke:#000000; stroke-linecap:round; stroke-linejoin:round; stroke-width:2; stroke-opacity:0.1; fill:none\" points=\"147.108,1347.33 2352.76,1347.33 \"/>\n",
       "<polyline clip-path=\"url(#clip012)\" style=\"stroke:#000000; stroke-linecap:round; stroke-linejoin:round; stroke-width:2; stroke-opacity:0.1; fill:none\" points=\"147.108,1032.49 2352.76,1032.49 \"/>\n",
       "<polyline clip-path=\"url(#clip012)\" style=\"stroke:#000000; stroke-linecap:round; stroke-linejoin:round; stroke-width:2; stroke-opacity:0.1; fill:none\" points=\"147.108,717.653 2352.76,717.653 \"/>\n",
       "<polyline clip-path=\"url(#clip012)\" style=\"stroke:#000000; stroke-linecap:round; stroke-linejoin:round; stroke-width:2; stroke-opacity:0.1; fill:none\" points=\"147.108,402.814 2352.76,402.814 \"/>\n",
       "<polyline clip-path=\"url(#clip012)\" style=\"stroke:#000000; stroke-linecap:round; stroke-linejoin:round; stroke-width:2; stroke-opacity:0.1; fill:none\" points=\"147.108,87.9763 2352.76,87.9763 \"/>\n",
       "<polyline clip-path=\"url(#clip010)\" style=\"stroke:#000000; stroke-linecap:round; stroke-linejoin:round; stroke-width:4; stroke-opacity:1; fill:none\" points=\"147.108,1486.45 147.108,47.2441 \"/>\n",
       "<polyline clip-path=\"url(#clip010)\" style=\"stroke:#000000; stroke-linecap:round; stroke-linejoin:round; stroke-width:4; stroke-opacity:1; fill:none\" points=\"147.108,1347.33 166.005,1347.33 \"/>\n",
       "<polyline clip-path=\"url(#clip010)\" style=\"stroke:#000000; stroke-linecap:round; stroke-linejoin:round; stroke-width:4; stroke-opacity:1; fill:none\" points=\"147.108,1032.49 166.005,1032.49 \"/>\n",
       "<polyline clip-path=\"url(#clip010)\" style=\"stroke:#000000; stroke-linecap:round; stroke-linejoin:round; stroke-width:4; stroke-opacity:1; fill:none\" points=\"147.108,717.653 166.005,717.653 \"/>\n",
       "<polyline clip-path=\"url(#clip010)\" style=\"stroke:#000000; stroke-linecap:round; stroke-linejoin:round; stroke-width:4; stroke-opacity:1; fill:none\" points=\"147.108,402.814 166.005,402.814 \"/>\n",
       "<polyline clip-path=\"url(#clip010)\" style=\"stroke:#000000; stroke-linecap:round; stroke-linejoin:round; stroke-width:4; stroke-opacity:1; fill:none\" points=\"147.108,87.9763 166.005,87.9763 \"/>\n",
       "<path clip-path=\"url(#clip010)\" d=\"M50.9921 1347.78 L80.6679 1347.78 L80.6679 1351.72 L50.9921 1351.72 L50.9921 1347.78 Z\" fill=\"#000000\" fill-rule=\"nonzero\" fill-opacity=\"1\" /><path clip-path=\"url(#clip010)\" d=\"M94.7882 1360.67 L111.108 1360.67 L111.108 1364.61 L89.1632 1364.61 L89.1632 1360.67 Q91.8252 1357.92 96.4085 1353.29 Q101.015 1348.64 102.196 1347.29 Q104.441 1344.77 105.321 1343.03 Q106.223 1341.28 106.223 1339.59 Q106.223 1336.83 104.279 1335.1 Q102.358 1333.36 99.2558 1333.36 Q97.0567 1333.36 94.603 1334.12 Q92.1725 1334.89 89.3947 1336.44 L89.3947 1331.72 Q92.2188 1330.58 94.6724 1330 Q97.1261 1329.42 99.1632 1329.42 Q104.534 1329.42 107.728 1332.11 Q110.922 1334.79 110.922 1339.28 Q110.922 1341.41 110.112 1343.34 Q109.325 1345.23 107.219 1347.83 Q106.64 1348.5 103.538 1351.72 Q100.436 1354.91 94.7882 1360.67 Z\" fill=\"#000000\" fill-rule=\"nonzero\" fill-opacity=\"1\" /><path clip-path=\"url(#clip010)\" d=\"M99.1632 1018.29 Q95.5521 1018.29 93.7234 1021.85 Q91.9178 1025.4 91.9178 1032.53 Q91.9178 1039.63 93.7234 1043.2 Q95.5521 1046.74 99.1632 1046.74 Q102.797 1046.74 104.603 1043.2 Q106.432 1039.63 106.432 1032.53 Q106.432 1025.4 104.603 1021.85 Q102.797 1018.29 99.1632 1018.29 M99.1632 1014.59 Q104.973 1014.59 108.029 1019.19 Q111.108 1023.78 111.108 1032.53 Q111.108 1041.25 108.029 1045.86 Q104.973 1050.44 99.1632 1050.44 Q93.353 1050.44 90.2743 1045.86 Q87.2188 1041.25 87.2188 1032.53 Q87.2188 1023.78 90.2743 1019.19 Q93.353 1014.59 99.1632 1014.59 Z\" fill=\"#000000\" fill-rule=\"nonzero\" fill-opacity=\"1\" /><path clip-path=\"url(#clip010)\" d=\"M94.7882 730.997 L111.108 730.997 L111.108 734.933 L89.1632 734.933 L89.1632 730.997 Q91.8252 728.243 96.4085 723.613 Q101.015 718.96 102.196 717.618 Q104.441 715.095 105.321 713.359 Q106.223 711.599 106.223 709.91 Q106.223 707.155 104.279 705.419 Q102.358 703.683 99.2558 703.683 Q97.0567 703.683 94.603 704.447 Q92.1725 705.21 89.3947 706.761 L89.3947 702.039 Q92.2188 700.905 94.6724 700.326 Q97.1261 699.748 99.1632 699.748 Q104.534 699.748 107.728 702.433 Q110.922 705.118 110.922 709.609 Q110.922 711.738 110.112 713.659 Q109.325 715.558 107.219 718.15 Q106.64 718.822 103.538 722.039 Q100.436 725.234 94.7882 730.997 Z\" fill=\"#000000\" fill-rule=\"nonzero\" fill-opacity=\"1\" /><path clip-path=\"url(#clip010)\" d=\"M101.524 389.608 L89.7188 408.057 L101.524 408.057 L101.524 389.608 M100.297 385.534 L106.177 385.534 L106.177 408.057 L111.108 408.057 L111.108 411.946 L106.177 411.946 L106.177 420.094 L101.524 420.094 L101.524 411.946 L85.9225 411.946 L85.9225 407.432 L100.297 385.534 Z\" fill=\"#000000\" fill-rule=\"nonzero\" fill-opacity=\"1\" /><path clip-path=\"url(#clip010)\" d=\"M99.5798 86.1129 Q96.4317 86.1129 94.5799 88.2656 Q92.7512 90.4184 92.7512 94.1684 Q92.7512 97.8952 94.5799 100.071 Q96.4317 102.224 99.5798 102.224 Q102.728 102.224 104.557 100.071 Q106.408 97.8952 106.408 94.1684 Q106.408 90.4184 104.557 88.2656 Q102.728 86.1129 99.5798 86.1129 M108.862 71.4602 L108.862 75.7194 Q107.103 74.8861 105.297 74.4463 Q103.515 74.0064 101.756 74.0064 Q97.1261 74.0064 94.6724 77.1314 Q92.2419 80.2564 91.8947 86.5758 Q93.2604 84.5619 95.3206 83.4971 Q97.3808 82.4092 99.8576 82.4092 Q105.066 82.4092 108.075 85.5805 Q111.108 88.7286 111.108 94.1684 Q111.108 99.4924 107.959 102.71 Q104.811 105.928 99.5798 105.928 Q93.5845 105.928 90.4132 101.344 Q87.2419 96.7378 87.2419 88.011 Q87.2419 79.8166 91.1308 74.9555 Q95.0197 70.0713 101.571 70.0713 Q103.33 70.0713 105.112 70.4185 Q106.918 70.7657 108.862 71.4602 Z\" fill=\"#000000\" fill-rule=\"nonzero\" fill-opacity=\"1\" /><polyline clip-path=\"url(#clip012)\" style=\"stroke:#009af9; stroke-linecap:round; stroke-linejoin:round; stroke-width:4; stroke-opacity:1; fill:none\" points=\"209.532,1445.72 212.918,1438.4 216.305,1431.15 219.692,1423.96 223.079,1416.83 238.737,1384.67 254.394,1353.82 270.052,1324.26 285.71,1295.95 301.368,1268.89 317.026,1243.06 332.684,1218.42 348.342,1194.97 367.161,1168.32 385.981,1143.3 404.8,1119.9 423.619,1098.07 439.531,1080.81 455.443,1064.63 471.354,1049.51 487.266,1035.42 504.55,1021.26 521.835,1008.26 539.119,996.411 556.404,985.672 572.338,976.734 588.273,968.696 604.208,961.538 620.143,955.238 637.226,949.413 654.31,944.523 671.394,940.541 688.478,937.441 708.271,934.918 728.064,933.502 747.857,933.153 767.65,933.828 785.24,935.256 802.83,937.431 820.42,940.326 838.01,943.91 853.434,947.599 868.859,951.777 884.284,956.425 899.709,961.523 916.526,967.571 933.343,974.105 950.16,981.101 966.977,988.534 1000.81,1004.71 1034.64,1022.33 1072.05,1043.27 1109.46,1065.47 1145.05,1087.49 1180.65,1110.16 1254.66,1158.31 1316.97,1198.61 1355,1222.52 1393.04,1245.55 1427.88,1265.63 1462.72,1284.49 1494.9,1300.65 1527.08,1315.42 1543.38,1322.3 1559.67,1328.76 1575.97,1334.77 1592.27,1340.31 1610.54,1345.92 1628.8,1350.88 1647.07,1355.15 1665.33,1358.7 1681.88,1361.27 1698.44,1363.19 1714.99,1364.45 1731.54,1365.02 1750.49,1364.8 1769.44,1363.6 1788.39,1361.39 1807.34,1358.14 1824.89,1354.16 1842.43,1349.23 1859.98,1343.32 1877.53,1336.39 1894.83,1328.55 1912.13,1319.66 1929.42,1309.7 1946.72,1298.66 1963.52,1286.85 1980.31,1273.97 1997.11,1259.98 2013.91,1244.85 2031.12,1228.14 2048.34,1210.19 2065.56,1190.96 2082.78,1170.44 2092.21,1158.64 2101.64,1146.43 2111.07,1133.82 2120.5,1120.79 2129.94,1107.35 2139.37,1093.49 2148.8,1079.21 2158.23,1064.5 2171.93,1042.35 2185.64,1019.27 2199.34,995.257 2213.04,970.283 2226.74,944.34 2240.44,917.414 2254.14,889.49 2267.84,860.557 2273.47,848.39 2279.09,836.049 2284.71,823.535 2290.33,810.845 \"/>\n",
       "<polyline clip-path=\"url(#clip012)\" style=\"stroke:#e26f46; stroke-linecap:round; stroke-linejoin:round; stroke-width:4; stroke-opacity:1; fill:none\" points=\"490.721,560.233 493.467,566.372 496.213,572.487 498.959,578.58 501.705,584.651 527.096,639.714 552.487,692.852 577.878,744.065 603.27,793.353 633.788,850.044 664.306,903.955 690.108,947.365 715.911,988.787 743.94,1031.53 771.968,1071.93 797.809,1107.09 823.649,1140.26 851.352,1173.61 879.055,1204.66 911.152,1237.78 943.25,1267.81 971.774,1291.92 1000.3,1313.61 1025.31,1330.62 1050.32,1345.76 1077.59,1360.15 1104.87,1372.31 1132.3,1382.3 1159.73,1390.05 1190.06,1395.99 1220.39,1399.19 1249.25,1399.69 1278.11,1397.7 1308.12,1392.99 1338.12,1385.59 1363.38,1377.28 1388.64,1367.06 1419.48,1352 1450.32,1334.1 1478.57,1315.21 1506.82,1293.94 1532.91,1272.18 1559,1248.38 1585.43,1222.2 1611.86,1193.94 1641.48,1159.79 1671.1,1123.01 1697.94,1087.42 1724.78,1049.69 1755.51,1003.84 1786.24,955.167 1814.7,907.589 1843.15,857.593 1871.2,805.935 1899.25,751.928 1926.49,697.243 1953.73,640.342 1981.65,579.712 2009.57,516.754 2040.16,445.103 2070.75,370.658 2092.97,314.834 2115.19,257.536 2137.4,198.764 2159.62,138.517 2164.18,125.975 2168.74,113.371 2173.3,100.704 2177.86,87.9763 \"/>\n",
       "<path clip-path=\"url(#clip010)\" d=\"M220.629 250.738 L629.735 250.738 L629.735 95.2176 L220.629 95.2176  Z\" fill=\"#ffffff\" fill-rule=\"evenodd\" fill-opacity=\"1\"/>\n",
       "<polyline clip-path=\"url(#clip010)\" style=\"stroke:#000000; stroke-linecap:round; stroke-linejoin:round; stroke-width:4; stroke-opacity:1; fill:none\" points=\"220.629,250.738 629.735,250.738 629.735,95.2176 220.629,95.2176 220.629,250.738 \"/>\n",
       "<polyline clip-path=\"url(#clip010)\" style=\"stroke:#009af9; stroke-linecap:round; stroke-linejoin:round; stroke-width:4; stroke-opacity:1; fill:none\" points=\"245.136,147.058 392.18,147.058 \"/>\n",
       "<path clip-path=\"url(#clip010)\" d=\"M433.191 128.319 L433.191 131.861 L429.117 131.861 Q426.826 131.861 425.923 132.787 Q425.043 133.713 425.043 136.12 L425.043 138.412 L432.057 138.412 L432.057 141.722 L425.043 141.722 L425.043 164.338 L420.761 164.338 L420.761 141.722 L416.687 141.722 L416.687 138.412 L420.761 138.412 L420.761 136.606 Q420.761 132.278 422.775 130.31 Q424.789 128.319 429.164 128.319 L433.191 128.319 Z\" fill=\"#000000\" fill-rule=\"nonzero\" fill-opacity=\"1\" /><path clip-path=\"url(#clip010)\" d=\"M436.316 154.106 L436.316 138.412 L440.576 138.412 L440.576 153.944 Q440.576 157.625 442.011 159.476 Q443.446 161.305 446.316 161.305 Q449.765 161.305 451.756 159.106 Q453.77 156.907 453.77 153.111 L453.77 138.412 L458.029 138.412 L458.029 164.338 L453.77 164.338 L453.77 160.356 Q452.219 162.717 450.159 163.875 Q448.122 165.009 445.413 165.009 Q440.946 165.009 438.631 162.231 Q436.316 159.453 436.316 154.106 M447.034 137.787 L447.034 137.787 Z\" fill=\"#000000\" fill-rule=\"nonzero\" fill-opacity=\"1\" /><path clip-path=\"url(#clip010)\" d=\"M488.353 148.689 L488.353 164.338 L484.094 164.338 L484.094 148.828 Q484.094 145.148 482.659 143.319 Q481.223 141.49 478.353 141.49 Q474.904 141.49 472.913 143.69 Q470.923 145.889 470.923 149.685 L470.923 164.338 L466.64 164.338 L466.64 138.412 L470.923 138.412 L470.923 142.44 Q472.45 140.102 474.511 138.944 Q476.594 137.787 479.302 137.787 Q483.77 137.787 486.061 140.565 Q488.353 143.319 488.353 148.689 Z\" fill=\"#000000\" fill-rule=\"nonzero\" fill-opacity=\"1\" /><path clip-path=\"url(#clip010)\" d=\"M515.506 139.407 L515.506 143.389 Q513.7 142.393 511.871 141.907 Q510.066 141.398 508.214 141.398 Q504.071 141.398 501.779 144.037 Q499.487 146.652 499.487 151.398 Q499.487 156.143 501.779 158.782 Q504.071 161.398 508.214 161.398 Q510.066 161.398 511.871 160.912 Q513.7 160.402 515.506 159.407 L515.506 163.342 Q513.723 164.176 511.802 164.592 Q509.904 165.009 507.751 165.009 Q501.895 165.009 498.446 161.328 Q494.997 157.648 494.997 151.398 Q494.997 145.055 498.469 141.421 Q501.964 137.787 508.029 137.787 Q509.996 137.787 511.871 138.203 Q513.746 138.597 515.506 139.407 Z\" fill=\"#000000\" fill-rule=\"nonzero\" fill-opacity=\"1\" /><path clip-path=\"url(#clip010)\" d=\"M527.126 131.051 L527.126 138.412 L535.899 138.412 L535.899 141.722 L527.126 141.722 L527.126 155.796 Q527.126 158.967 527.982 159.87 Q528.862 160.773 531.524 160.773 L535.899 160.773 L535.899 164.338 L531.524 164.338 Q526.594 164.338 524.719 162.509 Q522.844 160.657 522.844 155.796 L522.844 141.722 L519.719 141.722 L519.719 138.412 L522.844 138.412 L522.844 131.051 L527.126 131.051 Z\" fill=\"#000000\" fill-rule=\"nonzero\" fill-opacity=\"1\" /><path clip-path=\"url(#clip010)\" d=\"M541.501 138.412 L545.76 138.412 L545.76 164.338 L541.501 164.338 L541.501 138.412 M541.501 128.319 L545.76 128.319 L545.76 133.713 L541.501 133.713 L541.501 128.319 Z\" fill=\"#000000\" fill-rule=\"nonzero\" fill-opacity=\"1\" /><path clip-path=\"url(#clip010)\" d=\"M564.718 141.398 Q561.292 141.398 559.302 144.083 Q557.311 146.745 557.311 151.398 Q557.311 156.051 559.279 158.736 Q561.269 161.398 564.718 161.398 Q568.121 161.398 570.112 158.713 Q572.103 156.027 572.103 151.398 Q572.103 146.791 570.112 144.106 Q568.121 141.398 564.718 141.398 M564.718 137.787 Q570.274 137.787 573.445 141.398 Q576.616 145.009 576.616 151.398 Q576.616 157.764 573.445 161.398 Q570.274 165.009 564.718 165.009 Q559.14 165.009 555.968 161.398 Q552.82 157.764 552.82 151.398 Q552.82 145.009 555.968 141.398 Q559.14 137.787 564.718 137.787 Z\" fill=\"#000000\" fill-rule=\"nonzero\" fill-opacity=\"1\" /><path clip-path=\"url(#clip010)\" d=\"M605.227 148.689 L605.227 164.338 L600.968 164.338 L600.968 148.828 Q600.968 145.148 599.533 143.319 Q598.098 141.49 595.227 141.49 Q591.778 141.49 589.788 143.69 Q587.797 145.889 587.797 149.685 L587.797 164.338 L583.515 164.338 L583.515 138.412 L587.797 138.412 L587.797 142.44 Q589.325 140.102 591.385 138.944 Q593.468 137.787 596.177 137.787 Q600.644 137.787 602.936 140.565 Q605.227 143.319 605.227 148.689 Z\" fill=\"#000000\" fill-rule=\"nonzero\" fill-opacity=\"1\" /><polyline clip-path=\"url(#clip010)\" style=\"stroke:#e26f46; stroke-linecap:round; stroke-linejoin:round; stroke-width:4; stroke-opacity:1; fill:none\" points=\"245.136,198.898 392.18,198.898 \"/>\n",
       "<path clip-path=\"url(#clip010)\" d=\"M435.113 191.016 L435.113 195.043 Q433.307 194.117 431.363 193.655 Q429.418 193.192 427.335 193.192 Q424.164 193.192 422.566 194.164 Q420.992 195.136 420.992 197.08 Q420.992 198.562 422.127 199.418 Q423.261 200.252 426.687 201.016 L428.145 201.34 Q432.682 202.312 434.58 204.094 Q436.501 205.854 436.501 209.025 Q436.501 212.636 433.631 214.742 Q430.784 216.849 425.784 216.849 Q423.701 216.849 421.432 216.432 Q419.187 216.039 416.687 215.228 L416.687 210.83 Q419.048 212.057 421.34 212.682 Q423.631 213.284 425.877 213.284 Q428.886 213.284 430.506 212.266 Q432.127 211.224 432.127 209.349 Q432.127 207.613 430.946 206.687 Q429.789 205.761 425.83 204.904 L424.349 204.557 Q420.39 203.724 418.631 202.011 Q416.872 200.275 416.872 197.266 Q416.872 193.608 419.465 191.618 Q422.057 189.627 426.826 189.627 Q429.187 189.627 431.27 189.974 Q433.353 190.321 435.113 191.016 Z\" fill=\"#000000\" fill-rule=\"nonzero\" fill-opacity=\"1\" /><path clip-path=\"url(#clip010)\" d=\"M443.284 180.159 L447.543 180.159 L447.543 216.178 L443.284 216.178 L443.284 180.159 Z\" fill=\"#000000\" fill-rule=\"nonzero\" fill-opacity=\"1\" /><path clip-path=\"url(#clip010)\" d=\"M466.501 193.238 Q463.075 193.238 461.085 195.923 Q459.094 198.585 459.094 203.238 Q459.094 207.891 461.062 210.576 Q463.052 213.238 466.501 213.238 Q469.904 213.238 471.895 210.553 Q473.886 207.867 473.886 203.238 Q473.886 198.631 471.895 195.946 Q469.904 193.238 466.501 193.238 M466.501 189.627 Q472.057 189.627 475.228 193.238 Q478.399 196.849 478.399 203.238 Q478.399 209.604 475.228 213.238 Q472.057 216.849 466.501 216.849 Q460.923 216.849 457.751 213.238 Q454.603 209.604 454.603 203.238 Q454.603 196.849 457.751 193.238 Q460.923 189.627 466.501 189.627 Z\" fill=\"#000000\" fill-rule=\"nonzero\" fill-opacity=\"1\" /><path clip-path=\"url(#clip010)\" d=\"M489.58 212.289 L489.58 226.039 L485.298 226.039 L485.298 190.252 L489.58 190.252 L489.58 194.187 Q490.923 191.872 492.96 190.761 Q495.02 189.627 497.867 189.627 Q502.589 189.627 505.529 193.377 Q508.492 197.127 508.492 203.238 Q508.492 209.349 505.529 213.099 Q502.589 216.849 497.867 216.849 Q495.02 216.849 492.96 215.738 Q490.923 214.603 489.58 212.289 M504.071 203.238 Q504.071 198.539 502.126 195.877 Q500.205 193.192 496.825 193.192 Q493.446 193.192 491.501 195.877 Q489.58 198.539 489.58 203.238 Q489.58 207.937 491.501 210.622 Q493.446 213.284 496.825 213.284 Q500.205 213.284 502.126 210.622 Q504.071 207.937 504.071 203.238 Z\" fill=\"#000000\" fill-rule=\"nonzero\" fill-opacity=\"1\" /><path clip-path=\"url(#clip010)\" d=\"M537.728 202.15 L537.728 204.233 L518.145 204.233 Q518.422 208.631 520.783 210.946 Q523.168 213.238 527.404 213.238 Q529.857 213.238 532.149 212.636 Q534.464 212.034 536.732 210.83 L536.732 214.858 Q534.441 215.83 532.033 216.34 Q529.626 216.849 527.149 216.849 Q520.945 216.849 517.311 213.238 Q513.7 209.627 513.7 203.469 Q513.7 197.104 517.126 193.377 Q520.575 189.627 526.408 189.627 Q531.64 189.627 534.672 193.006 Q537.728 196.363 537.728 202.15 M533.469 200.9 Q533.422 197.405 531.501 195.321 Q529.603 193.238 526.455 193.238 Q522.89 193.238 520.737 195.252 Q518.608 197.266 518.283 200.923 L533.469 200.9 Z\" fill=\"#000000\" fill-rule=\"nonzero\" fill-opacity=\"1\" /></svg>\n"
      ],
      "text/html": [
       "<?xml version=\"1.0\" encoding=\"utf-8\"?>\n",
       "<svg xmlns=\"http://www.w3.org/2000/svg\" xmlns:xlink=\"http://www.w3.org/1999/xlink\" width=\"600\" height=\"400\" viewBox=\"0 0 2400 1600\">\n",
       "<defs>\n",
       "  <clipPath id=\"clip060\">\n",
       "    <rect x=\"0\" y=\"0\" width=\"2400\" height=\"1600\"/>\n",
       "  </clipPath>\n",
       "</defs>\n",
       "<path clip-path=\"url(#clip060)\" d=\"M0 1600 L2400 1600 L2400 8.88178e-14 L0 8.88178e-14  Z\" fill=\"#ffffff\" fill-rule=\"evenodd\" fill-opacity=\"1\"/>\n",
       "<defs>\n",
       "  <clipPath id=\"clip061\">\n",
       "    <rect x=\"480\" y=\"0\" width=\"1681\" height=\"1600\"/>\n",
       "  </clipPath>\n",
       "</defs>\n",
       "<path clip-path=\"url(#clip060)\" d=\"M147.108 1486.45 L2352.76 1486.45 L2352.76 47.2441 L147.108 47.2441  Z\" fill=\"#ffffff\" fill-rule=\"evenodd\" fill-opacity=\"1\"/>\n",
       "<defs>\n",
       "  <clipPath id=\"clip062\">\n",
       "    <rect x=\"147\" y=\"47\" width=\"2207\" height=\"1440\"/>\n",
       "  </clipPath>\n",
       "</defs>\n",
       "<polyline clip-path=\"url(#clip062)\" style=\"stroke:#000000; stroke-linecap:round; stroke-linejoin:round; stroke-width:2; stroke-opacity:0.1; fill:none\" points=\"490.721,1486.45 490.721,47.2441 \"/>\n",
       "<polyline clip-path=\"url(#clip062)\" style=\"stroke:#000000; stroke-linecap:round; stroke-linejoin:round; stroke-width:2; stroke-opacity:0.1; fill:none\" points=\"1053.1,1486.45 1053.1,47.2441 \"/>\n",
       "<polyline clip-path=\"url(#clip062)\" style=\"stroke:#000000; stroke-linecap:round; stroke-linejoin:round; stroke-width:2; stroke-opacity:0.1; fill:none\" points=\"1615.48,1486.45 1615.48,47.2441 \"/>\n",
       "<polyline clip-path=\"url(#clip062)\" style=\"stroke:#000000; stroke-linecap:round; stroke-linejoin:round; stroke-width:2; stroke-opacity:0.1; fill:none\" points=\"2177.86,1486.45 2177.86,47.2441 \"/>\n",
       "<polyline clip-path=\"url(#clip060)\" style=\"stroke:#000000; stroke-linecap:round; stroke-linejoin:round; stroke-width:4; stroke-opacity:1; fill:none\" points=\"147.108,1486.45 2352.76,1486.45 \"/>\n",
       "<polyline clip-path=\"url(#clip060)\" style=\"stroke:#000000; stroke-linecap:round; stroke-linejoin:round; stroke-width:4; stroke-opacity:1; fill:none\" points=\"490.721,1486.45 490.721,1467.55 \"/>\n",
       "<polyline clip-path=\"url(#clip060)\" style=\"stroke:#000000; stroke-linecap:round; stroke-linejoin:round; stroke-width:4; stroke-opacity:1; fill:none\" points=\"1053.1,1486.45 1053.1,1467.55 \"/>\n",
       "<polyline clip-path=\"url(#clip060)\" style=\"stroke:#000000; stroke-linecap:round; stroke-linejoin:round; stroke-width:4; stroke-opacity:1; fill:none\" points=\"1615.48,1486.45 1615.48,1467.55 \"/>\n",
       "<polyline clip-path=\"url(#clip060)\" style=\"stroke:#000000; stroke-linecap:round; stroke-linejoin:round; stroke-width:4; stroke-opacity:1; fill:none\" points=\"2177.86,1486.45 2177.86,1467.55 \"/>\n",
       "<path clip-path=\"url(#clip060)\" d=\"M460.478 1532.02 L490.154 1532.02 L490.154 1535.95 L460.478 1535.95 L460.478 1532.02 Z\" fill=\"#000000\" fill-rule=\"nonzero\" fill-opacity=\"1\" /><path clip-path=\"url(#clip060)\" d=\"M501.056 1544.91 L508.695 1544.91 L508.695 1518.55 L500.385 1520.21 L500.385 1515.95 L508.649 1514.29 L513.325 1514.29 L513.325 1544.91 L520.964 1544.91 L520.964 1548.85 L501.056 1548.85 L501.056 1544.91 Z\" fill=\"#000000\" fill-rule=\"nonzero\" fill-opacity=\"1\" /><path clip-path=\"url(#clip060)\" d=\"M1053.1 1517.37 Q1049.49 1517.37 1047.66 1520.93 Q1045.85 1524.47 1045.85 1531.6 Q1045.85 1538.71 1047.66 1542.27 Q1049.49 1545.82 1053.1 1545.82 Q1056.73 1545.82 1058.54 1542.27 Q1060.37 1538.71 1060.37 1531.6 Q1060.37 1524.47 1058.54 1520.93 Q1056.73 1517.37 1053.1 1517.37 M1053.1 1513.66 Q1058.91 1513.66 1061.96 1518.27 Q1065.04 1522.85 1065.04 1531.6 Q1065.04 1540.33 1061.96 1544.94 Q1058.91 1549.52 1053.1 1549.52 Q1047.29 1549.52 1044.21 1544.94 Q1041.15 1540.33 1041.15 1531.6 Q1041.15 1522.85 1044.21 1518.27 Q1047.29 1513.66 1053.1 1513.66 Z\" fill=\"#000000\" fill-rule=\"nonzero\" fill-opacity=\"1\" /><path clip-path=\"url(#clip060)\" d=\"M1605.86 1544.91 L1613.5 1544.91 L1613.5 1518.55 L1605.19 1520.21 L1605.19 1515.95 L1613.45 1514.29 L1618.13 1514.29 L1618.13 1544.91 L1625.77 1544.91 L1625.77 1548.85 L1605.86 1548.85 L1605.86 1544.91 Z\" fill=\"#000000\" fill-rule=\"nonzero\" fill-opacity=\"1\" /><path clip-path=\"url(#clip060)\" d=\"M2172.51 1544.91 L2188.83 1544.91 L2188.83 1548.85 L2166.88 1548.85 L2166.88 1544.91 Q2169.55 1542.16 2174.13 1537.53 Q2178.74 1532.88 2179.92 1531.53 Q2182.16 1529.01 2183.04 1527.27 Q2183.94 1525.51 2183.94 1523.82 Q2183.94 1521.07 2182 1519.33 Q2180.08 1517.6 2176.98 1517.6 Q2174.78 1517.6 2172.32 1518.36 Q2169.89 1519.13 2167.12 1520.68 L2167.12 1515.95 Q2169.94 1514.82 2172.39 1514.24 Q2174.85 1513.66 2176.88 1513.66 Q2182.25 1513.66 2185.45 1516.35 Q2188.64 1519.03 2188.64 1523.52 Q2188.64 1525.65 2187.83 1527.57 Q2187.05 1529.47 2184.94 1532.07 Q2184.36 1532.74 2181.26 1535.95 Q2178.16 1539.15 2172.51 1544.91 Z\" fill=\"#000000\" fill-rule=\"nonzero\" fill-opacity=\"1\" /><polyline clip-path=\"url(#clip062)\" style=\"stroke:#000000; stroke-linecap:round; stroke-linejoin:round; stroke-width:2; stroke-opacity:0.1; fill:none\" points=\"147.108,1347.33 2352.76,1347.33 \"/>\n",
       "<polyline clip-path=\"url(#clip062)\" style=\"stroke:#000000; stroke-linecap:round; stroke-linejoin:round; stroke-width:2; stroke-opacity:0.1; fill:none\" points=\"147.108,1032.49 2352.76,1032.49 \"/>\n",
       "<polyline clip-path=\"url(#clip062)\" style=\"stroke:#000000; stroke-linecap:round; stroke-linejoin:round; stroke-width:2; stroke-opacity:0.1; fill:none\" points=\"147.108,717.653 2352.76,717.653 \"/>\n",
       "<polyline clip-path=\"url(#clip062)\" style=\"stroke:#000000; stroke-linecap:round; stroke-linejoin:round; stroke-width:2; stroke-opacity:0.1; fill:none\" points=\"147.108,402.814 2352.76,402.814 \"/>\n",
       "<polyline clip-path=\"url(#clip062)\" style=\"stroke:#000000; stroke-linecap:round; stroke-linejoin:round; stroke-width:2; stroke-opacity:0.1; fill:none\" points=\"147.108,87.9763 2352.76,87.9763 \"/>\n",
       "<polyline clip-path=\"url(#clip060)\" style=\"stroke:#000000; stroke-linecap:round; stroke-linejoin:round; stroke-width:4; stroke-opacity:1; fill:none\" points=\"147.108,1486.45 147.108,47.2441 \"/>\n",
       "<polyline clip-path=\"url(#clip060)\" style=\"stroke:#000000; stroke-linecap:round; stroke-linejoin:round; stroke-width:4; stroke-opacity:1; fill:none\" points=\"147.108,1347.33 166.005,1347.33 \"/>\n",
       "<polyline clip-path=\"url(#clip060)\" style=\"stroke:#000000; stroke-linecap:round; stroke-linejoin:round; stroke-width:4; stroke-opacity:1; fill:none\" points=\"147.108,1032.49 166.005,1032.49 \"/>\n",
       "<polyline clip-path=\"url(#clip060)\" style=\"stroke:#000000; stroke-linecap:round; stroke-linejoin:round; stroke-width:4; stroke-opacity:1; fill:none\" points=\"147.108,717.653 166.005,717.653 \"/>\n",
       "<polyline clip-path=\"url(#clip060)\" style=\"stroke:#000000; stroke-linecap:round; stroke-linejoin:round; stroke-width:4; stroke-opacity:1; fill:none\" points=\"147.108,402.814 166.005,402.814 \"/>\n",
       "<polyline clip-path=\"url(#clip060)\" style=\"stroke:#000000; stroke-linecap:round; stroke-linejoin:round; stroke-width:4; stroke-opacity:1; fill:none\" points=\"147.108,87.9763 166.005,87.9763 \"/>\n",
       "<path clip-path=\"url(#clip060)\" d=\"M50.9921 1347.78 L80.6679 1347.78 L80.6679 1351.72 L50.9921 1351.72 L50.9921 1347.78 Z\" fill=\"#000000\" fill-rule=\"nonzero\" fill-opacity=\"1\" /><path clip-path=\"url(#clip060)\" d=\"M94.7882 1360.67 L111.108 1360.67 L111.108 1364.61 L89.1632 1364.61 L89.1632 1360.67 Q91.8252 1357.92 96.4085 1353.29 Q101.015 1348.64 102.196 1347.29 Q104.441 1344.77 105.321 1343.03 Q106.223 1341.28 106.223 1339.59 Q106.223 1336.83 104.279 1335.1 Q102.358 1333.36 99.2558 1333.36 Q97.0567 1333.36 94.603 1334.12 Q92.1725 1334.89 89.3947 1336.44 L89.3947 1331.72 Q92.2188 1330.58 94.6724 1330 Q97.1261 1329.42 99.1632 1329.42 Q104.534 1329.42 107.728 1332.11 Q110.922 1334.79 110.922 1339.28 Q110.922 1341.41 110.112 1343.34 Q109.325 1345.23 107.219 1347.83 Q106.64 1348.5 103.538 1351.72 Q100.436 1354.91 94.7882 1360.67 Z\" fill=\"#000000\" fill-rule=\"nonzero\" fill-opacity=\"1\" /><path clip-path=\"url(#clip060)\" d=\"M99.1632 1018.29 Q95.5521 1018.29 93.7234 1021.85 Q91.9178 1025.4 91.9178 1032.53 Q91.9178 1039.63 93.7234 1043.2 Q95.5521 1046.74 99.1632 1046.74 Q102.797 1046.74 104.603 1043.2 Q106.432 1039.63 106.432 1032.53 Q106.432 1025.4 104.603 1021.85 Q102.797 1018.29 99.1632 1018.29 M99.1632 1014.59 Q104.973 1014.59 108.029 1019.19 Q111.108 1023.78 111.108 1032.53 Q111.108 1041.25 108.029 1045.86 Q104.973 1050.44 99.1632 1050.44 Q93.353 1050.44 90.2743 1045.86 Q87.2188 1041.25 87.2188 1032.53 Q87.2188 1023.78 90.2743 1019.19 Q93.353 1014.59 99.1632 1014.59 Z\" fill=\"#000000\" fill-rule=\"nonzero\" fill-opacity=\"1\" /><path clip-path=\"url(#clip060)\" d=\"M94.7882 730.997 L111.108 730.997 L111.108 734.933 L89.1632 734.933 L89.1632 730.997 Q91.8252 728.243 96.4085 723.613 Q101.015 718.96 102.196 717.618 Q104.441 715.095 105.321 713.359 Q106.223 711.599 106.223 709.91 Q106.223 707.155 104.279 705.419 Q102.358 703.683 99.2558 703.683 Q97.0567 703.683 94.603 704.447 Q92.1725 705.21 89.3947 706.761 L89.3947 702.039 Q92.2188 700.905 94.6724 700.326 Q97.1261 699.748 99.1632 699.748 Q104.534 699.748 107.728 702.433 Q110.922 705.118 110.922 709.609 Q110.922 711.738 110.112 713.659 Q109.325 715.558 107.219 718.15 Q106.64 718.822 103.538 722.039 Q100.436 725.234 94.7882 730.997 Z\" fill=\"#000000\" fill-rule=\"nonzero\" fill-opacity=\"1\" /><path clip-path=\"url(#clip060)\" d=\"M101.524 389.608 L89.7188 408.057 L101.524 408.057 L101.524 389.608 M100.297 385.534 L106.177 385.534 L106.177 408.057 L111.108 408.057 L111.108 411.946 L106.177 411.946 L106.177 420.094 L101.524 420.094 L101.524 411.946 L85.9225 411.946 L85.9225 407.432 L100.297 385.534 Z\" fill=\"#000000\" fill-rule=\"nonzero\" fill-opacity=\"1\" /><path clip-path=\"url(#clip060)\" d=\"M99.5798 86.1129 Q96.4317 86.1129 94.5799 88.2656 Q92.7512 90.4184 92.7512 94.1684 Q92.7512 97.8952 94.5799 100.071 Q96.4317 102.224 99.5798 102.224 Q102.728 102.224 104.557 100.071 Q106.408 97.8952 106.408 94.1684 Q106.408 90.4184 104.557 88.2656 Q102.728 86.1129 99.5798 86.1129 M108.862 71.4602 L108.862 75.7194 Q107.103 74.8861 105.297 74.4463 Q103.515 74.0064 101.756 74.0064 Q97.1261 74.0064 94.6724 77.1314 Q92.2419 80.2564 91.8947 86.5758 Q93.2604 84.5619 95.3206 83.4971 Q97.3808 82.4092 99.8576 82.4092 Q105.066 82.4092 108.075 85.5805 Q111.108 88.7286 111.108 94.1684 Q111.108 99.4924 107.959 102.71 Q104.811 105.928 99.5798 105.928 Q93.5845 105.928 90.4132 101.344 Q87.2419 96.7378 87.2419 88.011 Q87.2419 79.8166 91.1308 74.9555 Q95.0197 70.0713 101.571 70.0713 Q103.33 70.0713 105.112 70.4185 Q106.918 70.7657 108.862 71.4602 Z\" fill=\"#000000\" fill-rule=\"nonzero\" fill-opacity=\"1\" /><polyline clip-path=\"url(#clip062)\" style=\"stroke:#009af9; stroke-linecap:round; stroke-linejoin:round; stroke-width:4; stroke-opacity:1; fill:none\" points=\"209.532,1445.72 212.918,1438.4 216.305,1431.15 219.692,1423.96 223.079,1416.83 238.737,1384.67 254.394,1353.82 270.052,1324.26 285.71,1295.95 301.368,1268.89 317.026,1243.06 332.684,1218.42 348.342,1194.97 367.161,1168.32 385.981,1143.3 404.8,1119.9 423.619,1098.07 439.531,1080.81 455.443,1064.63 471.354,1049.51 487.266,1035.42 504.55,1021.26 521.835,1008.26 539.119,996.411 556.404,985.672 572.338,976.734 588.273,968.696 604.208,961.538 620.143,955.238 637.226,949.413 654.31,944.523 671.394,940.541 688.478,937.441 708.271,934.918 728.064,933.502 747.857,933.153 767.65,933.828 785.24,935.256 802.83,937.431 820.42,940.326 838.01,943.91 853.434,947.599 868.859,951.777 884.284,956.425 899.709,961.523 916.526,967.571 933.343,974.105 950.16,981.101 966.977,988.534 1000.81,1004.71 1034.64,1022.33 1072.05,1043.27 1109.46,1065.47 1145.05,1087.49 1180.65,1110.16 1254.66,1158.31 1316.97,1198.61 1355,1222.52 1393.04,1245.55 1427.88,1265.63 1462.72,1284.49 1494.9,1300.65 1527.08,1315.42 1543.38,1322.3 1559.67,1328.76 1575.97,1334.77 1592.27,1340.31 1610.54,1345.92 1628.8,1350.88 1647.07,1355.15 1665.33,1358.7 1681.88,1361.27 1698.44,1363.19 1714.99,1364.45 1731.54,1365.02 1750.49,1364.8 1769.44,1363.6 1788.39,1361.39 1807.34,1358.14 1824.89,1354.16 1842.43,1349.23 1859.98,1343.32 1877.53,1336.39 1894.83,1328.55 1912.13,1319.66 1929.42,1309.7 1946.72,1298.66 1963.52,1286.85 1980.31,1273.97 1997.11,1259.98 2013.91,1244.85 2031.12,1228.14 2048.34,1210.19 2065.56,1190.96 2082.78,1170.44 2092.21,1158.64 2101.64,1146.43 2111.07,1133.82 2120.5,1120.79 2129.94,1107.35 2139.37,1093.49 2148.8,1079.21 2158.23,1064.5 2171.93,1042.35 2185.64,1019.27 2199.34,995.257 2213.04,970.283 2226.74,944.34 2240.44,917.414 2254.14,889.49 2267.84,860.557 2273.47,848.39 2279.09,836.049 2284.71,823.535 2290.33,810.845 \"/>\n",
       "<polyline clip-path=\"url(#clip062)\" style=\"stroke:#e26f46; stroke-linecap:round; stroke-linejoin:round; stroke-width:4; stroke-opacity:1; fill:none\" points=\"490.721,560.233 493.467,566.372 496.213,572.487 498.959,578.58 501.705,584.651 527.096,639.714 552.487,692.852 577.878,744.065 603.27,793.353 633.788,850.044 664.306,903.955 690.108,947.365 715.911,988.787 743.94,1031.53 771.968,1071.93 797.809,1107.09 823.649,1140.26 851.352,1173.61 879.055,1204.66 911.152,1237.78 943.25,1267.81 971.774,1291.92 1000.3,1313.61 1025.31,1330.62 1050.32,1345.76 1077.59,1360.15 1104.87,1372.31 1132.3,1382.3 1159.73,1390.05 1190.06,1395.99 1220.39,1399.19 1249.25,1399.69 1278.11,1397.7 1308.12,1392.99 1338.12,1385.59 1363.38,1377.28 1388.64,1367.06 1419.48,1352 1450.32,1334.1 1478.57,1315.21 1506.82,1293.94 1532.91,1272.18 1559,1248.38 1585.43,1222.2 1611.86,1193.94 1641.48,1159.79 1671.1,1123.01 1697.94,1087.42 1724.78,1049.69 1755.51,1003.84 1786.24,955.167 1814.7,907.589 1843.15,857.593 1871.2,805.935 1899.25,751.928 1926.49,697.243 1953.73,640.342 1981.65,579.712 2009.57,516.754 2040.16,445.103 2070.75,370.658 2092.97,314.834 2115.19,257.536 2137.4,198.764 2159.62,138.517 2164.18,125.975 2168.74,113.371 2173.3,100.704 2177.86,87.9763 \"/>\n",
       "<path clip-path=\"url(#clip060)\" d=\"M220.629 250.738 L629.735 250.738 L629.735 95.2176 L220.629 95.2176  Z\" fill=\"#ffffff\" fill-rule=\"evenodd\" fill-opacity=\"1\"/>\n",
       "<polyline clip-path=\"url(#clip060)\" style=\"stroke:#000000; stroke-linecap:round; stroke-linejoin:round; stroke-width:4; stroke-opacity:1; fill:none\" points=\"220.629,250.738 629.735,250.738 629.735,95.2176 220.629,95.2176 220.629,250.738 \"/>\n",
       "<polyline clip-path=\"url(#clip060)\" style=\"stroke:#009af9; stroke-linecap:round; stroke-linejoin:round; stroke-width:4; stroke-opacity:1; fill:none\" points=\"245.136,147.058 392.18,147.058 \"/>\n",
       "<path clip-path=\"url(#clip060)\" d=\"M433.191 128.319 L433.191 131.861 L429.117 131.861 Q426.826 131.861 425.923 132.787 Q425.043 133.713 425.043 136.12 L425.043 138.412 L432.057 138.412 L432.057 141.722 L425.043 141.722 L425.043 164.338 L420.761 164.338 L420.761 141.722 L416.687 141.722 L416.687 138.412 L420.761 138.412 L420.761 136.606 Q420.761 132.278 422.775 130.31 Q424.789 128.319 429.164 128.319 L433.191 128.319 Z\" fill=\"#000000\" fill-rule=\"nonzero\" fill-opacity=\"1\" /><path clip-path=\"url(#clip060)\" d=\"M436.316 154.106 L436.316 138.412 L440.576 138.412 L440.576 153.944 Q440.576 157.625 442.011 159.476 Q443.446 161.305 446.316 161.305 Q449.765 161.305 451.756 159.106 Q453.77 156.907 453.77 153.111 L453.77 138.412 L458.029 138.412 L458.029 164.338 L453.77 164.338 L453.77 160.356 Q452.219 162.717 450.159 163.875 Q448.122 165.009 445.413 165.009 Q440.946 165.009 438.631 162.231 Q436.316 159.453 436.316 154.106 M447.034 137.787 L447.034 137.787 Z\" fill=\"#000000\" fill-rule=\"nonzero\" fill-opacity=\"1\" /><path clip-path=\"url(#clip060)\" d=\"M488.353 148.689 L488.353 164.338 L484.094 164.338 L484.094 148.828 Q484.094 145.148 482.659 143.319 Q481.223 141.49 478.353 141.49 Q474.904 141.49 472.913 143.69 Q470.923 145.889 470.923 149.685 L470.923 164.338 L466.64 164.338 L466.64 138.412 L470.923 138.412 L470.923 142.44 Q472.45 140.102 474.511 138.944 Q476.594 137.787 479.302 137.787 Q483.77 137.787 486.061 140.565 Q488.353 143.319 488.353 148.689 Z\" fill=\"#000000\" fill-rule=\"nonzero\" fill-opacity=\"1\" /><path clip-path=\"url(#clip060)\" d=\"M515.506 139.407 L515.506 143.389 Q513.7 142.393 511.871 141.907 Q510.066 141.398 508.214 141.398 Q504.071 141.398 501.779 144.037 Q499.487 146.652 499.487 151.398 Q499.487 156.143 501.779 158.782 Q504.071 161.398 508.214 161.398 Q510.066 161.398 511.871 160.912 Q513.7 160.402 515.506 159.407 L515.506 163.342 Q513.723 164.176 511.802 164.592 Q509.904 165.009 507.751 165.009 Q501.895 165.009 498.446 161.328 Q494.997 157.648 494.997 151.398 Q494.997 145.055 498.469 141.421 Q501.964 137.787 508.029 137.787 Q509.996 137.787 511.871 138.203 Q513.746 138.597 515.506 139.407 Z\" fill=\"#000000\" fill-rule=\"nonzero\" fill-opacity=\"1\" /><path clip-path=\"url(#clip060)\" d=\"M527.126 131.051 L527.126 138.412 L535.899 138.412 L535.899 141.722 L527.126 141.722 L527.126 155.796 Q527.126 158.967 527.982 159.87 Q528.862 160.773 531.524 160.773 L535.899 160.773 L535.899 164.338 L531.524 164.338 Q526.594 164.338 524.719 162.509 Q522.844 160.657 522.844 155.796 L522.844 141.722 L519.719 141.722 L519.719 138.412 L522.844 138.412 L522.844 131.051 L527.126 131.051 Z\" fill=\"#000000\" fill-rule=\"nonzero\" fill-opacity=\"1\" /><path clip-path=\"url(#clip060)\" d=\"M541.501 138.412 L545.76 138.412 L545.76 164.338 L541.501 164.338 L541.501 138.412 M541.501 128.319 L545.76 128.319 L545.76 133.713 L541.501 133.713 L541.501 128.319 Z\" fill=\"#000000\" fill-rule=\"nonzero\" fill-opacity=\"1\" /><path clip-path=\"url(#clip060)\" d=\"M564.718 141.398 Q561.292 141.398 559.302 144.083 Q557.311 146.745 557.311 151.398 Q557.311 156.051 559.279 158.736 Q561.269 161.398 564.718 161.398 Q568.121 161.398 570.112 158.713 Q572.103 156.027 572.103 151.398 Q572.103 146.791 570.112 144.106 Q568.121 141.398 564.718 141.398 M564.718 137.787 Q570.274 137.787 573.445 141.398 Q576.616 145.009 576.616 151.398 Q576.616 157.764 573.445 161.398 Q570.274 165.009 564.718 165.009 Q559.14 165.009 555.968 161.398 Q552.82 157.764 552.82 151.398 Q552.82 145.009 555.968 141.398 Q559.14 137.787 564.718 137.787 Z\" fill=\"#000000\" fill-rule=\"nonzero\" fill-opacity=\"1\" /><path clip-path=\"url(#clip060)\" d=\"M605.227 148.689 L605.227 164.338 L600.968 164.338 L600.968 148.828 Q600.968 145.148 599.533 143.319 Q598.098 141.49 595.227 141.49 Q591.778 141.49 589.788 143.69 Q587.797 145.889 587.797 149.685 L587.797 164.338 L583.515 164.338 L583.515 138.412 L587.797 138.412 L587.797 142.44 Q589.325 140.102 591.385 138.944 Q593.468 137.787 596.177 137.787 Q600.644 137.787 602.936 140.565 Q605.227 143.319 605.227 148.689 Z\" fill=\"#000000\" fill-rule=\"nonzero\" fill-opacity=\"1\" /><polyline clip-path=\"url(#clip060)\" style=\"stroke:#e26f46; stroke-linecap:round; stroke-linejoin:round; stroke-width:4; stroke-opacity:1; fill:none\" points=\"245.136,198.898 392.18,198.898 \"/>\n",
       "<path clip-path=\"url(#clip060)\" d=\"M435.113 191.016 L435.113 195.043 Q433.307 194.117 431.363 193.655 Q429.418 193.192 427.335 193.192 Q424.164 193.192 422.566 194.164 Q420.992 195.136 420.992 197.08 Q420.992 198.562 422.127 199.418 Q423.261 200.252 426.687 201.016 L428.145 201.34 Q432.682 202.312 434.58 204.094 Q436.501 205.854 436.501 209.025 Q436.501 212.636 433.631 214.742 Q430.784 216.849 425.784 216.849 Q423.701 216.849 421.432 216.432 Q419.187 216.039 416.687 215.228 L416.687 210.83 Q419.048 212.057 421.34 212.682 Q423.631 213.284 425.877 213.284 Q428.886 213.284 430.506 212.266 Q432.127 211.224 432.127 209.349 Q432.127 207.613 430.946 206.687 Q429.789 205.761 425.83 204.904 L424.349 204.557 Q420.39 203.724 418.631 202.011 Q416.872 200.275 416.872 197.266 Q416.872 193.608 419.465 191.618 Q422.057 189.627 426.826 189.627 Q429.187 189.627 431.27 189.974 Q433.353 190.321 435.113 191.016 Z\" fill=\"#000000\" fill-rule=\"nonzero\" fill-opacity=\"1\" /><path clip-path=\"url(#clip060)\" d=\"M443.284 180.159 L447.543 180.159 L447.543 216.178 L443.284 216.178 L443.284 180.159 Z\" fill=\"#000000\" fill-rule=\"nonzero\" fill-opacity=\"1\" /><path clip-path=\"url(#clip060)\" d=\"M466.501 193.238 Q463.075 193.238 461.085 195.923 Q459.094 198.585 459.094 203.238 Q459.094 207.891 461.062 210.576 Q463.052 213.238 466.501 213.238 Q469.904 213.238 471.895 210.553 Q473.886 207.867 473.886 203.238 Q473.886 198.631 471.895 195.946 Q469.904 193.238 466.501 193.238 M466.501 189.627 Q472.057 189.627 475.228 193.238 Q478.399 196.849 478.399 203.238 Q478.399 209.604 475.228 213.238 Q472.057 216.849 466.501 216.849 Q460.923 216.849 457.751 213.238 Q454.603 209.604 454.603 203.238 Q454.603 196.849 457.751 193.238 Q460.923 189.627 466.501 189.627 Z\" fill=\"#000000\" fill-rule=\"nonzero\" fill-opacity=\"1\" /><path clip-path=\"url(#clip060)\" d=\"M489.58 212.289 L489.58 226.039 L485.298 226.039 L485.298 190.252 L489.58 190.252 L489.58 194.187 Q490.923 191.872 492.96 190.761 Q495.02 189.627 497.867 189.627 Q502.589 189.627 505.529 193.377 Q508.492 197.127 508.492 203.238 Q508.492 209.349 505.529 213.099 Q502.589 216.849 497.867 216.849 Q495.02 216.849 492.96 215.738 Q490.923 214.603 489.58 212.289 M504.071 203.238 Q504.071 198.539 502.126 195.877 Q500.205 193.192 496.825 193.192 Q493.446 193.192 491.501 195.877 Q489.58 198.539 489.58 203.238 Q489.58 207.937 491.501 210.622 Q493.446 213.284 496.825 213.284 Q500.205 213.284 502.126 210.622 Q504.071 207.937 504.071 203.238 Z\" fill=\"#000000\" fill-rule=\"nonzero\" fill-opacity=\"1\" /><path clip-path=\"url(#clip060)\" d=\"M537.728 202.15 L537.728 204.233 L518.145 204.233 Q518.422 208.631 520.783 210.946 Q523.168 213.238 527.404 213.238 Q529.857 213.238 532.149 212.636 Q534.464 212.034 536.732 210.83 L536.732 214.858 Q534.441 215.83 532.033 216.34 Q529.626 216.849 527.149 216.849 Q520.945 216.849 517.311 213.238 Q513.7 209.627 513.7 203.469 Q513.7 197.104 517.126 193.377 Q520.575 189.627 526.408 189.627 Q531.64 189.627 534.672 193.006 Q537.728 196.363 537.728 202.15 M533.469 200.9 Q533.422 197.405 531.501 195.321 Q529.603 193.238 526.455 193.238 Q522.89 193.238 520.737 195.252 Q518.608 197.266 518.283 200.923 L533.469 200.9 Z\" fill=\"#000000\" fill-rule=\"nonzero\" fill-opacity=\"1\" /></svg>\n"
      ]
     },
     "execution_count": 3,
     "metadata": {},
     "output_type": "execute_result"
    }
   ],
   "source": [
    "dfdx(x)=3*x^2-2*x-2\n",
    "plot(f,-1.5,2.2,label=\"function\")\n",
    "plot!(dfdx,-1,2,label=\"slope\")"
   ]
  },
  {
   "cell_type": "markdown",
   "id": "05f1c655-c773-4f14-bf22-692f8b20a02c",
   "metadata": {},
   "source": [
    "An obvious numerical approach, is to use finite differences\n",
    "\\begin{equation}\n",
    "\\frac{df}{dx} \\approx \\frac{f(x+\\delta)-f(x)}{\\delta}+O(\\delta^2)\n",
    "\\end{equation}\n",
    "One just makes $\\delta$ small enough and one should approximate the derivative.  A better approximation is\n",
    "\\begin{equation}\n",
    "\\frac{df}{dx} \\approx \\frac{f(x+\\delta)-f(x-\\delta)}{2\\delta}+O(\\delta^3)\n",
    "\\end{equation}"
   ]
  },
  {
   "cell_type": "code",
   "execution_count": 5,
   "id": "11017a4d-792a-4c24-a31e-bb853d92f872",
   "metadata": {},
   "outputs": [
    {
     "data": {
      "image/png": "[encoded data removed]",
      "image/svg+xml": [
       "<?xml version=\"1.0\" encoding=\"utf-8\"?>\n",
       "<svg xmlns=\"http://www.w3.org/2000/svg\" xmlns:xlink=\"http://www.w3.org/1999/xlink\" width=\"600\" height=\"400\" viewBox=\"0 0 2400 1600\">\n",
       "<defs>\n",
       "  <clipPath id=\"clip190\">\n",
       "    <rect x=\"0\" y=\"0\" width=\"2400\" height=\"1600\"/>\n",
       "  </clipPath>\n",
       "</defs>\n",
       "<path clip-path=\"url(#clip190)\" d=\"M0 1600 L2400 1600 L2400 8.88178e-14 L0 8.88178e-14  Z\" fill=\"#ffffff\" fill-rule=\"evenodd\" fill-opacity=\"1\"/>\n",
       "<defs>\n",
       "  <clipPath id=\"clip191\">\n",
       "    <rect x=\"480\" y=\"0\" width=\"1681\" height=\"1600\"/>\n",
       "  </clipPath>\n",
       "</defs>\n",
       "<path clip-path=\"url(#clip190)\" d=\"M276.876 1410.9 L2352.76 1410.9 L2352.76 47.2441 L276.876 47.2441  Z\" fill=\"#ffffff\" fill-rule=\"evenodd\" fill-opacity=\"1\"/>\n",
       "<defs>\n",
       "  <clipPath id=\"clip192\">\n",
       "    <rect x=\"276\" y=\"47\" width=\"2077\" height=\"1365\"/>\n",
       "  </clipPath>\n",
       "</defs>\n",
       "<polyline clip-path=\"url(#clip192)\" style=\"stroke:#000000; stroke-linecap:round; stroke-linejoin:round; stroke-width:2; stroke-opacity:0.1; fill:none\" points=\"335.627,1410.9 335.627,47.2441 \"/>\n",
       "<polyline clip-path=\"url(#clip192)\" style=\"stroke:#000000; stroke-linecap:round; stroke-linejoin:round; stroke-width:2; stroke-opacity:0.1; fill:none\" points=\"1366.35,1410.9 1366.35,47.2441 \"/>\n",
       "<polyline clip-path=\"url(#clip190)\" style=\"stroke:#000000; stroke-linecap:round; stroke-linejoin:round; stroke-width:4; stroke-opacity:1; fill:none\" points=\"276.876,1410.9 2352.76,1410.9 \"/>\n",
       "<polyline clip-path=\"url(#clip190)\" style=\"stroke:#000000; stroke-linecap:round; stroke-linejoin:round; stroke-width:4; stroke-opacity:1; fill:none\" points=\"335.627,1410.9 335.627,1392 \"/>\n",
       "<polyline clip-path=\"url(#clip190)\" style=\"stroke:#000000; stroke-linecap:round; stroke-linejoin:round; stroke-width:4; stroke-opacity:1; fill:none\" points=\"1366.35,1410.9 1366.35,1392 \"/>\n",
       "<path clip-path=\"url(#clip190)\" d=\"M272.99 1485.02 L280.629 1485.02 L280.629 1458.66 L272.319 1460.32 L272.319 1456.06 L280.583 1454.4 L285.259 1454.4 L285.259 1485.02 L292.898 1485.02 L292.898 1488.96 L272.99 1488.96 L272.99 1485.02 Z\" fill=\"#000000\" fill-rule=\"nonzero\" fill-opacity=\"1\" /><path clip-path=\"url(#clip190)\" d=\"M312.342 1457.48 Q308.731 1457.48 306.902 1461.04 Q305.097 1464.58 305.097 1471.71 Q305.097 1478.82 306.902 1482.38 Q308.731 1485.92 312.342 1485.92 Q315.976 1485.92 317.782 1482.38 Q319.611 1478.82 319.611 1471.71 Q319.611 1464.58 317.782 1461.04 Q315.976 1457.48 312.342 1457.48 M312.342 1453.77 Q318.152 1453.77 321.208 1458.38 Q324.286 1462.96 324.286 1471.71 Q324.286 1480.44 321.208 1485.04 Q318.152 1489.63 312.342 1489.63 Q306.532 1489.63 303.453 1485.04 Q300.398 1480.44 300.398 1471.71 Q300.398 1462.96 303.453 1458.38 Q306.532 1453.77 312.342 1453.77 Z\" fill=\"#000000\" fill-rule=\"nonzero\" fill-opacity=\"1\" /><path clip-path=\"url(#clip190)\" d=\"M324.286 1447.87 L348.398 1447.87 L348.398 1451.07 L324.286 1451.07 L324.286 1447.87 Z\" fill=\"#000000\" fill-rule=\"nonzero\" fill-opacity=\"1\" /><path clip-path=\"url(#clip190)\" d=\"M359.871 1458.35 L373.13 1458.35 L373.13 1461.55 L355.3 1461.55 L355.3 1458.35 Q357.463 1456.11 361.187 1452.35 Q364.93 1448.57 365.889 1447.48 Q367.714 1445.43 368.428 1444.02 Q369.162 1442.59 369.162 1441.22 Q369.162 1438.98 367.582 1437.57 Q366.021 1436.16 363.501 1436.16 Q361.714 1436.16 359.72 1436.78 Q357.746 1437.4 355.489 1438.66 L355.489 1434.82 Q357.783 1433.9 359.777 1433.43 Q361.77 1432.96 363.425 1432.96 Q367.789 1432.96 370.384 1435.14 Q372.98 1437.32 372.98 1440.97 Q372.98 1442.7 372.322 1444.26 Q371.682 1445.8 369.971 1447.91 Q369.5 1448.46 366.98 1451.07 Q364.46 1453.67 359.871 1458.35 Z\" fill=\"#000000\" fill-rule=\"nonzero\" fill-opacity=\"1\" /><path clip-path=\"url(#clip190)\" d=\"M389.23 1435.97 Q386.296 1435.97 384.81 1438.86 Q383.343 1441.74 383.343 1447.53 Q383.343 1453.31 384.81 1456.2 Q386.296 1459.08 389.23 1459.08 Q392.183 1459.08 393.65 1456.2 Q395.135 1453.31 395.135 1447.53 Q395.135 1441.74 393.65 1438.86 Q392.183 1435.97 389.23 1435.97 M389.23 1432.96 Q393.95 1432.96 396.433 1436.7 Q398.935 1440.43 398.935 1447.53 Q398.935 1454.62 396.433 1458.37 Q393.95 1462.09 389.23 1462.09 Q384.509 1462.09 382.008 1458.37 Q379.525 1454.62 379.525 1447.53 Q379.525 1440.43 382.008 1436.7 Q384.509 1432.96 389.23 1432.96 Z\" fill=\"#000000\" fill-rule=\"nonzero\" fill-opacity=\"1\" /><path clip-path=\"url(#clip190)\" d=\"M1303.72 1485.02 L1311.35 1485.02 L1311.35 1458.66 L1303.04 1460.32 L1303.04 1456.06 L1311.31 1454.4 L1315.98 1454.4 L1315.98 1485.02 L1323.62 1485.02 L1323.62 1488.96 L1303.72 1488.96 L1303.72 1485.02 Z\" fill=\"#000000\" fill-rule=\"nonzero\" fill-opacity=\"1\" /><path clip-path=\"url(#clip190)\" d=\"M1343.07 1457.48 Q1339.46 1457.48 1337.63 1461.04 Q1335.82 1464.58 1335.82 1471.71 Q1335.82 1478.82 1337.63 1482.38 Q1339.46 1485.92 1343.07 1485.92 Q1346.7 1485.92 1348.51 1482.38 Q1350.34 1478.82 1350.34 1471.71 Q1350.34 1464.58 1348.51 1461.04 Q1346.7 1457.48 1343.07 1457.48 M1343.07 1453.77 Q1348.88 1453.77 1351.93 1458.38 Q1355.01 1462.96 1355.01 1471.71 Q1355.01 1480.44 1351.93 1485.04 Q1348.88 1489.63 1343.07 1489.63 Q1337.26 1489.63 1334.18 1485.04 Q1331.12 1480.44 1331.12 1471.71 Q1331.12 1462.96 1334.18 1458.38 Q1337.26 1453.77 1343.07 1453.77 Z\" fill=\"#000000\" fill-rule=\"nonzero\" fill-opacity=\"1\" /><path clip-path=\"url(#clip190)\" d=\"M1355.01 1447.87 L1379.12 1447.87 L1379.12 1451.07 L1355.01 1451.07 L1355.01 1447.87 Z\" fill=\"#000000\" fill-rule=\"nonzero\" fill-opacity=\"1\" /><path clip-path=\"url(#clip190)\" d=\"M1387.98 1458.35 L1394.19 1458.35 L1394.19 1436.93 L1387.44 1438.28 L1387.44 1434.82 L1394.15 1433.47 L1397.95 1433.47 L1397.95 1458.35 L1404.16 1458.35 L1404.16 1461.55 L1387.98 1461.55 L1387.98 1458.35 Z\" fill=\"#000000\" fill-rule=\"nonzero\" fill-opacity=\"1\" /><path clip-path=\"url(#clip190)\" d=\"M1419.95 1435.97 Q1417.02 1435.97 1415.54 1438.86 Q1414.07 1441.74 1414.07 1447.53 Q1414.07 1453.31 1415.54 1456.2 Q1417.02 1459.08 1419.95 1459.08 Q1422.91 1459.08 1424.37 1456.2 Q1425.86 1453.31 1425.86 1447.53 Q1425.86 1441.74 1424.37 1438.86 Q1422.91 1435.97 1419.95 1435.97 M1419.95 1432.96 Q1424.68 1432.96 1427.16 1436.7 Q1429.66 1440.43 1429.66 1447.53 Q1429.66 1454.62 1427.16 1458.37 Q1424.68 1462.09 1419.95 1462.09 Q1415.23 1462.09 1412.73 1458.37 Q1410.25 1454.62 1410.25 1447.53 Q1410.25 1440.43 1412.73 1436.7 Q1415.23 1432.96 1419.95 1432.96 Z\" fill=\"#000000\" fill-rule=\"nonzero\" fill-opacity=\"1\" /><path clip-path=\"url(#clip190)\" d=\"M1326.82 1532.9 Q1323.57 1530.68 1315.96 1530.68 Q1307.91 1530.68 1307.91 1534.4 Q1307.91 1537.33 1316.31 1538.86 Q1322.93 1540.03 1326.66 1543.6 Q1331.18 1547.9 1331.18 1556.71 Q1331.18 1565.15 1326.82 1570.11 Q1322.45 1575.11 1314.82 1575.11 Q1307.21 1575.11 1302.82 1570.11 Q1298.46 1565.15 1298.46 1556.39 Q1298.46 1549.9 1302.82 1544.65 Q1304.5 1542.61 1306.89 1541.47 Q1301.93 1538.95 1301.93 1534.46 Q1301.93 1525.81 1315.96 1525.81 Q1323 1525.81 1326.82 1528.03 L1326.82 1532.9 M1311.28 1543.06 Q1309.12 1543.98 1307.37 1546.3 Q1304.63 1549.9 1304.63 1556.39 Q1304.63 1562.85 1307.34 1566.48 Q1310.07 1570.14 1314.82 1570.14 Q1319.49 1570.14 1322.23 1566.45 Q1324.97 1562.76 1324.97 1556.71 Q1324.97 1550.38 1322.07 1547.32 Q1318.99 1544.04 1314.97 1543.69 Q1312.94 1543.5 1311.28 1543.06 Z\" fill=\"#000000\" fill-rule=\"nonzero\" fill-opacity=\"1\" /><polyline clip-path=\"url(#clip192)\" style=\"stroke:#000000; stroke-linecap:round; stroke-linejoin:round; stroke-width:2; stroke-opacity:0.1; fill:none\" points=\"276.876,1374.75 2352.76,1374.75 \"/>\n",
       "<polyline clip-path=\"url(#clip192)\" style=\"stroke:#000000; stroke-linecap:round; stroke-linejoin:round; stroke-width:2; stroke-opacity:0.1; fill:none\" points=\"276.876,730.295 2352.76,730.295 \"/>\n",
       "<polyline clip-path=\"url(#clip192)\" style=\"stroke:#000000; stroke-linecap:round; stroke-linejoin:round; stroke-width:2; stroke-opacity:0.1; fill:none\" points=\"276.876,85.838 2352.76,85.838 \"/>\n",
       "<polyline clip-path=\"url(#clip190)\" style=\"stroke:#000000; stroke-linecap:round; stroke-linejoin:round; stroke-width:4; stroke-opacity:1; fill:none\" points=\"276.876,1410.9 276.876,47.2441 \"/>\n",
       "<polyline clip-path=\"url(#clip190)\" style=\"stroke:#000000; stroke-linecap:round; stroke-linejoin:round; stroke-width:4; stroke-opacity:1; fill:none\" points=\"276.876,1374.75 295.773,1374.75 \"/>\n",
       "<polyline clip-path=\"url(#clip190)\" style=\"stroke:#000000; stroke-linecap:round; stroke-linejoin:round; stroke-width:4; stroke-opacity:1; fill:none\" points=\"276.876,730.295 295.773,730.295 \"/>\n",
       "<polyline clip-path=\"url(#clip190)\" style=\"stroke:#000000; stroke-linecap:round; stroke-linejoin:round; stroke-width:4; stroke-opacity:1; fill:none\" points=\"276.876,85.838 295.773,85.838 \"/>\n",
       "<path clip-path=\"url(#clip190)\" d=\"M114.931 1394.54 L122.57 1394.54 L122.57 1368.18 L114.26 1369.84 L114.26 1365.59 L122.524 1363.92 L127.2 1363.92 L127.2 1394.54 L134.839 1394.54 L134.839 1398.48 L114.931 1398.48 L114.931 1394.54 Z\" fill=\"#000000\" fill-rule=\"nonzero\" fill-opacity=\"1\" /><path clip-path=\"url(#clip190)\" d=\"M154.283 1367 Q150.672 1367 148.843 1370.56 Q147.038 1374.1 147.038 1381.23 Q147.038 1388.34 148.843 1391.9 Q150.672 1395.45 154.283 1395.45 Q157.917 1395.45 159.723 1391.9 Q161.552 1388.34 161.552 1381.23 Q161.552 1374.1 159.723 1370.56 Q157.917 1367 154.283 1367 M154.283 1363.29 Q160.093 1363.29 163.149 1367.9 Q166.227 1372.48 166.227 1381.23 Q166.227 1389.96 163.149 1394.57 Q160.093 1399.15 154.283 1399.15 Q148.473 1399.15 145.394 1394.57 Q142.339 1389.96 142.339 1381.23 Q142.339 1372.48 145.394 1367.9 Q148.473 1363.29 154.283 1363.29 Z\" fill=\"#000000\" fill-rule=\"nonzero\" fill-opacity=\"1\" /><path clip-path=\"url(#clip190)\" d=\"M166.227 1357.4 L190.339 1357.4 L190.339 1360.59 L166.227 1360.59 L166.227 1357.4 Z\" fill=\"#000000\" fill-rule=\"nonzero\" fill-opacity=\"1\" /><path clip-path=\"url(#clip190)\" d=\"M199.197 1367.87 L205.404 1367.87 L205.404 1346.45 L198.652 1347.8 L198.652 1344.34 L205.366 1342.99 L209.166 1342.99 L209.166 1367.87 L215.372 1367.87 L215.372 1371.07 L199.197 1371.07 L199.197 1367.87 Z\" fill=\"#000000\" fill-rule=\"nonzero\" fill-opacity=\"1\" /><path clip-path=\"url(#clip190)\" d=\"M231.171 1345.49 Q228.237 1345.49 226.751 1348.39 Q225.284 1351.26 225.284 1357.06 Q225.284 1362.83 226.751 1365.73 Q228.237 1368.6 231.171 1368.6 Q234.124 1368.6 235.591 1365.73 Q237.076 1362.83 237.076 1357.06 Q237.076 1351.26 235.591 1348.39 Q234.124 1345.49 231.171 1345.49 M231.171 1342.48 Q235.891 1342.48 238.374 1346.22 Q240.876 1349.95 240.876 1357.06 Q240.876 1364.15 238.374 1367.89 Q235.891 1371.61 231.171 1371.61 Q226.45 1371.61 223.949 1367.89 Q221.466 1364.15 221.466 1357.06 Q221.466 1349.95 223.949 1346.22 Q226.45 1342.48 231.171 1342.48 Z\" fill=\"#000000\" fill-rule=\"nonzero\" fill-opacity=\"1\" /><path clip-path=\"url(#clip190)\" d=\"M140.247 750.087 L147.886 750.087 L147.886 723.721 L139.575 725.388 L139.575 721.129 L147.839 719.462 L152.515 719.462 L152.515 750.087 L160.154 750.087 L160.154 754.022 L140.247 754.022 L140.247 750.087 Z\" fill=\"#000000\" fill-rule=\"nonzero\" fill-opacity=\"1\" /><path clip-path=\"url(#clip190)\" d=\"M179.598 722.541 Q175.987 722.541 174.159 726.106 Q172.353 729.647 172.353 736.777 Q172.353 743.883 174.159 747.448 Q175.987 750.99 179.598 750.99 Q183.233 750.99 185.038 747.448 Q186.867 743.883 186.867 736.777 Q186.867 729.647 185.038 726.106 Q183.233 722.541 179.598 722.541 M179.598 718.837 Q185.409 718.837 188.464 723.444 Q191.543 728.027 191.543 736.777 Q191.543 745.504 188.464 750.11 Q185.409 754.694 179.598 754.694 Q173.788 754.694 170.71 750.11 Q167.654 745.504 167.654 736.777 Q167.654 728.027 170.71 723.444 Q173.788 718.837 179.598 718.837 Z\" fill=\"#000000\" fill-rule=\"nonzero\" fill-opacity=\"1\" /><path clip-path=\"url(#clip190)\" d=\"M191.543 712.939 L215.654 712.939 L215.654 716.136 L191.543 716.136 L191.543 712.939 Z\" fill=\"#000000\" fill-rule=\"nonzero\" fill-opacity=\"1\" /><path clip-path=\"url(#clip190)\" d=\"M223.892 698.532 L238.807 698.532 L238.807 701.729 L227.372 701.729 L227.372 708.613 Q228.199 708.331 229.027 708.199 Q229.854 708.049 230.682 708.049 Q235.384 708.049 238.13 710.625 Q240.876 713.202 240.876 717.603 Q240.876 722.136 238.054 724.656 Q235.233 727.157 230.099 727.157 Q228.331 727.157 226.488 726.856 Q224.663 726.555 222.707 725.954 L222.707 722.136 Q224.4 723.057 226.205 723.509 Q228.011 723.96 230.023 723.96 Q233.277 723.96 235.177 722.248 Q237.076 720.537 237.076 717.603 Q237.076 714.669 235.177 712.957 Q233.277 711.246 230.023 711.246 Q228.5 711.246 226.977 711.584 Q225.472 711.923 223.892 712.638 L223.892 698.532 Z\" fill=\"#000000\" fill-rule=\"nonzero\" fill-opacity=\"1\" /><path clip-path=\"url(#clip190)\" d=\"M170.17 105.63 L177.809 105.63 L177.809 79.2649 L169.499 80.9315 L169.499 76.6723 L177.762 75.0056 L182.438 75.0056 L182.438 105.63 L190.077 105.63 L190.077 109.566 L170.17 109.566 L170.17 105.63 Z\" fill=\"#000000\" fill-rule=\"nonzero\" fill-opacity=\"1\" /><path clip-path=\"url(#clip190)\" d=\"M209.522 78.0843 Q205.91 78.0843 204.082 81.6491 Q202.276 85.1908 202.276 92.3204 Q202.276 99.4268 204.082 102.992 Q205.91 106.533 209.522 106.533 Q213.156 106.533 214.961 102.992 Q216.79 99.4268 216.79 92.3204 Q216.79 85.1908 214.961 81.6491 Q213.156 78.0843 209.522 78.0843 M209.522 74.3806 Q215.332 74.3806 218.387 78.9871 Q221.466 83.5704 221.466 92.3204 Q221.466 101.047 218.387 105.654 Q215.332 110.237 209.522 110.237 Q203.711 110.237 200.633 105.654 Q197.577 101.047 197.577 92.3204 Q197.577 83.5704 200.633 78.9871 Q203.711 74.3806 209.522 74.3806 Z\" fill=\"#000000\" fill-rule=\"nonzero\" fill-opacity=\"1\" /><path clip-path=\"url(#clip190)\" d=\"M231.171 56.5767 Q228.237 56.5767 226.751 59.4731 Q225.284 62.3507 225.284 68.1434 Q225.284 73.9174 226.751 76.8138 Q228.237 79.6914 231.171 79.6914 Q234.124 79.6914 235.591 76.8138 Q237.076 73.9174 237.076 68.1434 Q237.076 62.3507 235.591 59.4731 Q234.124 56.5767 231.171 56.5767 M231.171 53.5674 Q235.891 53.5674 238.374 57.3102 Q240.876 61.0341 240.876 68.1434 Q240.876 75.234 238.374 78.9767 Q235.891 82.7007 231.171 82.7007 Q226.45 82.7007 223.949 78.9767 Q221.466 75.234 221.466 68.1434 Q221.466 61.0341 223.949 57.3102 Q226.45 53.5674 231.171 53.5674 Z\" fill=\"#000000\" fill-rule=\"nonzero\" fill-opacity=\"1\" /><path clip-path=\"url(#clip190)\" d=\"M44.7161 985.465 L47.5806 985.465 L47.5806 1012.39 Q53.6281 1012.01 56.8109 1008.76 Q59.9619 1005.49 59.9619 999.661 Q59.9619 996.287 59.1344 993.136 Q58.3069 989.953 56.6518 986.834 L62.1899 986.834 Q63.5267 989.985 64.227 993.295 Q64.9272 996.605 64.9272 1000.01 Q64.9272 1008.54 59.9619 1013.54 Q54.9967 1018.5 46.5303 1018.5 Q37.7774 1018.5 32.6531 1013.79 Q27.4968 1009.05 27.4968 1001.03 Q27.4968 993.836 32.1438 989.666 Q36.7589 985.465 44.7161 985.465 M42.9973 991.322 Q38.1912 991.385 35.3266 994.027 Q32.4621 996.637 32.4621 1000.97 Q32.4621 1005.87 35.2312 1008.83 Q38.0002 1011.76 43.0292 1012.2 L42.9973 991.322 Z\" fill=\"#000000\" fill-rule=\"nonzero\" fill-opacity=\"1\" /><path clip-path=\"url(#clip190)\" d=\"M33.8307 955.196 Q33.2578 956.183 33.0032 957.361 Q32.7167 958.506 32.7167 959.907 Q32.7167 964.872 35.9632 967.546 Q39.1779 970.187 45.2253 970.187 L64.0042 970.187 L64.0042 976.076 L28.3562 976.076 L28.3562 970.187 L33.8944 970.187 Q30.6479 968.341 29.0883 965.381 Q27.4968 962.421 27.4968 958.188 Q27.4968 957.583 27.5923 956.851 Q27.656 956.119 27.8151 955.228 L33.8307 955.196 Z\" fill=\"#000000\" fill-rule=\"nonzero\" fill-opacity=\"1\" /><path clip-path=\"url(#clip190)\" d=\"M33.8307 929.542 Q33.2578 930.529 33.0032 931.707 Q32.7167 932.853 32.7167 934.253 Q32.7167 939.218 35.9632 941.892 Q39.1779 944.534 45.2253 944.534 L64.0042 944.534 L64.0042 950.422 L28.3562 950.422 L28.3562 944.534 L33.8944 944.534 Q30.6479 942.688 29.0883 939.728 Q27.4968 936.767 27.4968 932.534 Q27.4968 931.93 27.5923 931.197 Q27.656 930.465 27.8151 929.574 L33.8307 929.542 Z\" fill=\"#000000\" fill-rule=\"nonzero\" fill-opacity=\"1\" /><path clip-path=\"url(#clip190)\" d=\"M32.4621 911.018 Q32.4621 915.729 36.1542 918.466 Q39.8145 921.203 46.212 921.203 Q52.6095 921.203 56.3017 918.498 Q59.9619 915.761 59.9619 911.018 Q59.9619 906.339 56.2698 903.602 Q52.5777 900.865 46.212 900.865 Q39.8781 900.865 36.186 903.602 Q32.4621 906.339 32.4621 911.018 M27.4968 911.018 Q27.4968 903.379 32.4621 899.019 Q37.4273 894.658 46.212 894.658 Q54.9649 894.658 59.9619 899.019 Q64.9272 903.379 64.9272 911.018 Q64.9272 918.689 59.9619 923.049 Q54.9649 927.378 46.212 927.378 Q37.4273 927.378 32.4621 923.049 Q27.4968 918.689 27.4968 911.018 Z\" fill=\"#000000\" fill-rule=\"nonzero\" fill-opacity=\"1\" /><path clip-path=\"url(#clip190)\" d=\"M33.8307 864.294 Q33.2578 865.281 33.0032 866.458 Q32.7167 867.604 32.7167 869.005 Q32.7167 873.97 35.9632 876.643 Q39.1779 879.285 45.2253 879.285 L64.0042 879.285 L64.0042 885.173 L28.3562 885.173 L28.3562 879.285 L33.8944 879.285 Q30.6479 877.439 29.0883 874.479 Q27.4968 871.519 27.4968 867.286 Q27.4968 866.681 27.5923 865.949 Q27.656 865.217 27.8151 864.326 L33.8307 864.294 Z\" fill=\"#000000\" fill-rule=\"nonzero\" fill-opacity=\"1\" /><path clip-path=\"url(#clip190)\" d=\"M28.3562 837.431 L28.3562 831.574 L64.0042 831.574 L64.0042 837.431 L28.3562 837.431 M14.479 837.431 L14.479 831.574 L21.895 831.574 L21.895 837.431 L14.479 837.431 Z\" fill=\"#000000\" fill-rule=\"nonzero\" fill-opacity=\"1\" /><path clip-path=\"url(#clip190)\" d=\"M42.4881 789.688 L64.0042 789.688 L64.0042 795.544 L42.679 795.544 Q37.6183 795.544 35.1038 797.518 Q32.5894 799.491 32.5894 803.438 Q32.5894 808.18 35.6131 810.917 Q38.6368 813.655 43.8567 813.655 L64.0042 813.655 L64.0042 819.543 L28.3562 819.543 L28.3562 813.655 L33.8944 813.655 Q30.6797 811.554 29.0883 808.721 Q27.4968 805.857 27.4968 802.133 Q27.4968 795.99 31.3163 792.839 Q35.1038 789.688 42.4881 789.688 Z\" fill=\"#000000\" fill-rule=\"nonzero\" fill-opacity=\"1\" /><path clip-path=\"url(#clip190)\" d=\"M33.7671 733.829 L14.479 733.829 L14.479 727.972 L64.0042 727.972 L64.0042 733.829 L58.657 733.829 Q61.8398 735.675 63.3994 738.508 Q64.9272 741.308 64.9272 745.255 Q64.9272 751.716 59.771 755.79 Q54.6147 759.833 46.212 759.833 Q37.8093 759.833 32.6531 755.79 Q27.4968 751.716 27.4968 745.255 Q27.4968 741.308 29.0564 738.508 Q30.5842 735.675 33.7671 733.829 M46.212 753.785 Q52.6732 753.785 56.3653 751.143 Q60.0256 748.47 60.0256 743.823 Q60.0256 739.176 56.3653 736.502 Q52.6732 733.829 46.212 733.829 Q39.7508 733.829 36.0905 736.502 Q32.3984 739.176 32.3984 743.823 Q32.3984 748.47 36.0905 751.143 Q39.7508 753.785 46.212 753.785 Z\" fill=\"#000000\" fill-rule=\"nonzero\" fill-opacity=\"1\" /><path clip-path=\"url(#clip190)\" d=\"M44.7161 685.418 L47.5806 685.418 L47.5806 712.344 Q53.6281 711.963 56.8109 708.716 Q59.9619 705.438 59.9619 699.613 Q59.9619 696.239 59.1344 693.088 Q58.3069 689.905 56.6518 686.786 L62.1899 686.786 Q63.5267 689.937 64.227 693.247 Q64.9272 696.558 64.9272 699.963 Q64.9272 708.493 59.9619 713.49 Q54.9967 718.456 46.5303 718.456 Q37.7774 718.456 32.6531 713.745 Q27.4968 709.002 27.4968 700.982 Q27.4968 693.788 32.1438 689.619 Q36.7589 685.418 44.7161 685.418 M42.9973 691.274 Q38.1912 691.338 35.3266 693.979 Q32.4621 696.589 32.4621 700.918 Q32.4621 705.82 35.2312 708.78 Q38.0002 711.708 43.0292 712.154 L42.9973 691.274 Z\" fill=\"#000000\" fill-rule=\"nonzero\" fill-opacity=\"1\" /><path clip-path=\"url(#clip190)\" d=\"M33.8307 655.149 Q33.2578 656.135 33.0032 657.313 Q32.7167 658.459 32.7167 659.859 Q32.7167 664.824 35.9632 667.498 Q39.1779 670.14 45.2253 670.14 L64.0042 670.14 L64.0042 676.028 L28.3562 676.028 L28.3562 670.14 L33.8944 670.14 Q30.6479 668.294 29.0883 665.334 Q27.4968 662.374 27.4968 658.14 Q27.4968 657.536 27.5923 656.804 Q27.656 656.072 27.8151 655.18 L33.8307 655.149 Z\" fill=\"#000000\" fill-rule=\"nonzero\" fill-opacity=\"1\" /><path clip-path=\"url(#clip190)\" d=\"M28.3562 649.006 L28.3562 643.149 L64.0042 643.149 L64.0042 649.006 L28.3562 649.006 M14.479 649.006 L14.479 643.149 L21.895 643.149 L21.895 649.006 L14.479 649.006 Z\" fill=\"#000000\" fill-rule=\"nonzero\" fill-opacity=\"1\" /><path clip-path=\"url(#clip190)\" d=\"M28.3562 635.097 L28.3562 628.89 L58.275 617.75 L28.3562 606.61 L28.3562 600.404 L64.0042 613.772 L64.0042 621.729 L28.3562 635.097 Z\" fill=\"#000000\" fill-rule=\"nonzero\" fill-opacity=\"1\" /><path clip-path=\"url(#clip190)\" d=\"M46.0847 576.118 Q46.0847 583.216 47.7079 585.953 Q49.3312 588.691 53.2461 588.691 Q56.3653 588.691 58.2114 586.654 Q60.0256 584.585 60.0256 581.052 Q60.0256 576.182 56.5881 573.254 Q53.1188 570.294 47.3897 570.294 L46.0847 570.294 L46.0847 576.118 M43.6657 564.437 L64.0042 564.437 L64.0042 570.294 L58.5933 570.294 Q61.8398 572.299 63.3994 575.291 Q64.9272 578.283 64.9272 582.611 Q64.9272 588.086 61.8716 591.332 Q58.7843 594.547 53.6281 594.547 Q47.6125 594.547 44.5569 590.537 Q41.5014 586.494 41.5014 578.505 L41.5014 570.294 L40.9285 570.294 Q36.8862 570.294 34.6901 572.967 Q32.4621 575.609 32.4621 580.415 Q32.4621 583.471 33.1941 586.367 Q33.9262 589.264 35.3903 591.937 L29.9795 591.937 Q28.7381 588.722 28.1334 585.699 Q27.4968 582.675 27.4968 579.81 Q27.4968 572.076 31.5072 568.257 Q35.5176 564.437 43.6657 564.437 Z\" fill=\"#000000\" fill-rule=\"nonzero\" fill-opacity=\"1\" /><path clip-path=\"url(#clip190)\" d=\"M18.2347 546.581 L28.3562 546.581 L28.3562 534.518 L32.9077 534.518 L32.9077 546.581 L52.2594 546.581 Q56.6199 546.581 57.8613 545.404 Q59.1026 544.194 59.1026 540.534 L59.1026 534.518 L64.0042 534.518 L64.0042 540.534 Q64.0042 547.314 61.4897 549.892 Q58.9434 552.47 52.2594 552.47 L32.9077 552.47 L32.9077 556.767 L28.3562 556.767 L28.3562 552.47 L18.2347 552.47 L18.2347 546.581 Z\" fill=\"#000000\" fill-rule=\"nonzero\" fill-opacity=\"1\" /><path clip-path=\"url(#clip190)\" d=\"M28.3562 526.816 L28.3562 520.96 L64.0042 520.96 L64.0042 526.816 L28.3562 526.816 M14.479 526.816 L14.479 520.96 L21.895 520.96 L21.895 526.816 L14.479 526.816 Z\" fill=\"#000000\" fill-rule=\"nonzero\" fill-opacity=\"1\" /><path clip-path=\"url(#clip190)\" d=\"M28.3562 512.907 L28.3562 506.7 L58.275 495.56 L28.3562 484.42 L28.3562 478.214 L64.0042 491.582 L64.0042 499.539 L28.3562 512.907 Z\" fill=\"#000000\" fill-rule=\"nonzero\" fill-opacity=\"1\" /><path clip-path=\"url(#clip190)\" d=\"M44.7161 439.638 L47.5806 439.638 L47.5806 466.565 Q53.6281 466.183 56.8109 462.936 Q59.9619 459.658 59.9619 453.833 Q59.9619 450.459 59.1344 447.308 Q58.3069 444.125 56.6518 441.006 L62.1899 441.006 Q63.5267 444.157 64.227 447.467 Q64.9272 450.778 64.9272 454.183 Q64.9272 462.713 59.9619 467.71 Q54.9967 472.676 46.5303 472.676 Q37.7774 472.676 32.6531 467.965 Q27.4968 463.223 27.4968 455.202 Q27.4968 448.009 32.1438 443.839 Q36.7589 439.638 44.7161 439.638 M42.9973 445.494 Q38.1912 445.558 35.3266 448.199 Q32.4621 450.809 32.4621 455.138 Q32.4621 460.04 35.2312 463 Q38.0002 465.928 43.0292 466.374 L42.9973 445.494 Z\" fill=\"#000000\" fill-rule=\"nonzero\" fill-opacity=\"1\" /><circle clip-path=\"url(#clip192)\" cx=\"2294\" cy=\"173.198\" r=\"14.4\" fill=\"#009af9\" fill-rule=\"evenodd\" fill-opacity=\"1\" stroke=\"#000000\" stroke-opacity=\"1\" stroke-width=\"3.2\"/>\n",
       "<circle clip-path=\"url(#clip192)\" cx=\"2190.93\" cy=\"304.541\" r=\"14.4\" fill=\"#009af9\" fill-rule=\"evenodd\" fill-opacity=\"1\" stroke=\"#000000\" stroke-opacity=\"1\" stroke-width=\"3.2\"/>\n",
       "<circle clip-path=\"url(#clip192)\" cx=\"2087.86\" cy=\"433.684\" r=\"14.4\" fill=\"#009af9\" fill-rule=\"evenodd\" fill-opacity=\"1\" stroke=\"#000000\" stroke-opacity=\"1\" stroke-width=\"3.2\"/>\n",
       "<circle clip-path=\"url(#clip192)\" cx=\"1984.79\" cy=\"562.6\" r=\"14.4\" fill=\"#009af9\" fill-rule=\"evenodd\" fill-opacity=\"1\" stroke=\"#000000\" stroke-opacity=\"1\" stroke-width=\"3.2\"/>\n",
       "<circle clip-path=\"url(#clip192)\" cx=\"1881.71\" cy=\"691.494\" r=\"14.4\" fill=\"#009af9\" fill-rule=\"evenodd\" fill-opacity=\"1\" stroke=\"#000000\" stroke-opacity=\"1\" stroke-width=\"3.2\"/>\n",
       "<circle clip-path=\"url(#clip192)\" cx=\"1778.64\" cy=\"820.397\" r=\"14.4\" fill=\"#009af9\" fill-rule=\"evenodd\" fill-opacity=\"1\" stroke=\"#000000\" stroke-opacity=\"1\" stroke-width=\"3.2\"/>\n",
       "<circle clip-path=\"url(#clip192)\" cx=\"1675.57\" cy=\"950.113\" r=\"14.4\" fill=\"#009af9\" fill-rule=\"evenodd\" fill-opacity=\"1\" stroke=\"#000000\" stroke-opacity=\"1\" stroke-width=\"3.2\"/>\n",
       "<circle clip-path=\"url(#clip192)\" cx=\"1572.5\" cy=\"1026.34\" r=\"14.4\" fill=\"#009af9\" fill-rule=\"evenodd\" fill-opacity=\"1\" stroke=\"#000000\" stroke-opacity=\"1\" stroke-width=\"3.2\"/>\n",
       "<circle clip-path=\"url(#clip192)\" cx=\"1469.42\" cy=\"998.683\" r=\"14.4\" fill=\"#009af9\" fill-rule=\"evenodd\" fill-opacity=\"1\" stroke=\"#000000\" stroke-opacity=\"1\" stroke-width=\"3.2\"/>\n",
       "<circle clip-path=\"url(#clip192)\" cx=\"1366.35\" cy=\"998.683\" r=\"14.4\" fill=\"#009af9\" fill-rule=\"evenodd\" fill-opacity=\"1\" stroke=\"#000000\" stroke-opacity=\"1\" stroke-width=\"3.2\"/>\n",
       "<circle clip-path=\"url(#clip192)\" cx=\"1263.28\" cy=\"998.683\" r=\"14.4\" fill=\"#009af9\" fill-rule=\"evenodd\" fill-opacity=\"1\" stroke=\"#000000\" stroke-opacity=\"1\" stroke-width=\"3.2\"/>\n",
       "<circle clip-path=\"url(#clip192)\" cx=\"1160.21\" cy=\"607.989\" r=\"14.4\" fill=\"#009af9\" fill-rule=\"evenodd\" fill-opacity=\"1\" stroke=\"#000000\" stroke-opacity=\"1\" stroke-width=\"3.2\"/>\n",
       "<circle clip-path=\"url(#clip192)\" cx=\"1057.13\" cy=\"485.053\" r=\"14.4\" fill=\"#009af9\" fill-rule=\"evenodd\" fill-opacity=\"1\" stroke=\"#000000\" stroke-opacity=\"1\" stroke-width=\"3.2\"/>\n",
       "<circle clip-path=\"url(#clip192)\" cx=\"954.062\" cy=\"296.988\" r=\"14.4\" fill=\"#009af9\" fill-rule=\"evenodd\" fill-opacity=\"1\" stroke=\"#000000\" stroke-opacity=\"1\" stroke-width=\"3.2\"/>\n",
       "<circle clip-path=\"url(#clip192)\" cx=\"850.989\" cy=\"208.475\" r=\"14.4\" fill=\"#009af9\" fill-rule=\"evenodd\" fill-opacity=\"1\" stroke=\"#000000\" stroke-opacity=\"1\" stroke-width=\"3.2\"/>\n",
       "<circle clip-path=\"url(#clip192)\" cx=\"747.917\" cy=\"85.838\" r=\"14.4\" fill=\"#009af9\" fill-rule=\"evenodd\" fill-opacity=\"1\" stroke=\"#000000\" stroke-opacity=\"1\" stroke-width=\"3.2\"/>\n",
       "<circle clip-path=\"url(#clip192)\" cx=\"644.844\" cy=\"85.838\" r=\"14.4\" fill=\"#009af9\" fill-rule=\"evenodd\" fill-opacity=\"1\" stroke=\"#000000\" stroke-opacity=\"1\" stroke-width=\"3.2\"/>\n",
       "<circle clip-path=\"url(#clip192)\" cx=\"541.772\" cy=\"85.838\" r=\"14.4\" fill=\"#009af9\" fill-rule=\"evenodd\" fill-opacity=\"1\" stroke=\"#000000\" stroke-opacity=\"1\" stroke-width=\"3.2\"/>\n",
       "<circle clip-path=\"url(#clip192)\" cx=\"438.699\" cy=\"85.838\" r=\"14.4\" fill=\"#009af9\" fill-rule=\"evenodd\" fill-opacity=\"1\" stroke=\"#000000\" stroke-opacity=\"1\" stroke-width=\"3.2\"/>\n",
       "<circle clip-path=\"url(#clip192)\" cx=\"335.627\" cy=\"85.838\" r=\"14.4\" fill=\"#009af9\" fill-rule=\"evenodd\" fill-opacity=\"1\" stroke=\"#000000\" stroke-opacity=\"1\" stroke-width=\"3.2\"/>\n",
       "<circle clip-path=\"url(#clip192)\" cx=\"2294\" cy=\"343.621\" r=\"14.4\" fill=\"#e26f46\" fill-rule=\"evenodd\" fill-opacity=\"1\" stroke=\"#000000\" stroke-opacity=\"1\" stroke-width=\"3.2\"/>\n",
       "<circle clip-path=\"url(#clip192)\" cx=\"2190.93\" cy=\"601.403\" r=\"14.4\" fill=\"#e26f46\" fill-rule=\"evenodd\" fill-opacity=\"1\" stroke=\"#000000\" stroke-opacity=\"1\" stroke-width=\"3.2\"/>\n",
       "<circle clip-path=\"url(#clip192)\" cx=\"2087.86\" cy=\"859.186\" r=\"14.4\" fill=\"#e26f46\" fill-rule=\"evenodd\" fill-opacity=\"1\" stroke=\"#000000\" stroke-opacity=\"1\" stroke-width=\"3.2\"/>\n",
       "<circle clip-path=\"url(#clip192)\" cx=\"1984.79\" cy=\"1116.96\" r=\"14.4\" fill=\"#e26f46\" fill-rule=\"evenodd\" fill-opacity=\"1\" stroke=\"#000000\" stroke-opacity=\"1\" stroke-width=\"3.2\"/>\n",
       "<circle clip-path=\"url(#clip192)\" cx=\"1881.71\" cy=\"1372.3\" r=\"14.4\" fill=\"#e26f46\" fill-rule=\"evenodd\" fill-opacity=\"1\" stroke=\"#000000\" stroke-opacity=\"1\" stroke-width=\"3.2\"/>\n",
       "<circle clip-path=\"url(#clip192)\" cx=\"1778.64\" cy=\"1356.01\" r=\"14.4\" fill=\"#e26f46\" fill-rule=\"evenodd\" fill-opacity=\"1\" stroke=\"#000000\" stroke-opacity=\"1\" stroke-width=\"3.2\"/>\n",
       "<circle clip-path=\"url(#clip192)\" cx=\"1675.57\" cy=\"1216.35\" r=\"14.4\" fill=\"#e26f46\" fill-rule=\"evenodd\" fill-opacity=\"1\" stroke=\"#000000\" stroke-opacity=\"1\" stroke-width=\"3.2\"/>\n",
       "<circle clip-path=\"url(#clip192)\" cx=\"1572.5\" cy=\"1144.84\" r=\"14.4\" fill=\"#e26f46\" fill-rule=\"evenodd\" fill-opacity=\"1\" stroke=\"#000000\" stroke-opacity=\"1\" stroke-width=\"3.2\"/>\n",
       "<circle clip-path=\"url(#clip192)\" cx=\"1469.42\" cy=\"1058.77\" r=\"14.4\" fill=\"#e26f46\" fill-rule=\"evenodd\" fill-opacity=\"1\" stroke=\"#000000\" stroke-opacity=\"1\" stroke-width=\"3.2\"/>\n",
       "<circle clip-path=\"url(#clip192)\" cx=\"1366.35\" cy=\"998.683\" r=\"14.4\" fill=\"#e26f46\" fill-rule=\"evenodd\" fill-opacity=\"1\" stroke=\"#000000\" stroke-opacity=\"1\" stroke-width=\"3.2\"/>\n",
       "<circle clip-path=\"url(#clip192)\" cx=\"1263.28\" cy=\"998.683\" r=\"14.4\" fill=\"#e26f46\" fill-rule=\"evenodd\" fill-opacity=\"1\" stroke=\"#000000\" stroke-opacity=\"1\" stroke-width=\"3.2\"/>\n",
       "<circle clip-path=\"url(#clip192)\" cx=\"1160.21\" cy=\"685.85\" r=\"14.4\" fill=\"#e26f46\" fill-rule=\"evenodd\" fill-opacity=\"1\" stroke=\"#000000\" stroke-opacity=\"1\" stroke-width=\"3.2\"/>\n",
       "<circle clip-path=\"url(#clip192)\" cx=\"1057.13\" cy=\"537.901\" r=\"14.4\" fill=\"#e26f46\" fill-rule=\"evenodd\" fill-opacity=\"1\" stroke=\"#000000\" stroke-opacity=\"1\" stroke-width=\"3.2\"/>\n",
       "<circle clip-path=\"url(#clip192)\" cx=\"954.062\" cy=\"333.876\" r=\"14.4\" fill=\"#e26f46\" fill-rule=\"evenodd\" fill-opacity=\"1\" stroke=\"#000000\" stroke-opacity=\"1\" stroke-width=\"3.2\"/>\n",
       "<circle clip-path=\"url(#clip192)\" cx=\"850.989\" cy=\"485.053\" r=\"14.4\" fill=\"#e26f46\" fill-rule=\"evenodd\" fill-opacity=\"1\" stroke=\"#000000\" stroke-opacity=\"1\" stroke-width=\"3.2\"/>\n",
       "<circle clip-path=\"url(#clip192)\" cx=\"747.917\" cy=\"209.281\" r=\"14.4\" fill=\"#e26f46\" fill-rule=\"evenodd\" fill-opacity=\"1\" stroke=\"#000000\" stroke-opacity=\"1\" stroke-width=\"3.2\"/>\n",
       "<circle clip-path=\"url(#clip192)\" cx=\"644.844\" cy=\"85.838\" r=\"14.4\" fill=\"#e26f46\" fill-rule=\"evenodd\" fill-opacity=\"1\" stroke=\"#000000\" stroke-opacity=\"1\" stroke-width=\"3.2\"/>\n",
       "<circle clip-path=\"url(#clip192)\" cx=\"541.772\" cy=\"85.838\" r=\"14.4\" fill=\"#e26f46\" fill-rule=\"evenodd\" fill-opacity=\"1\" stroke=\"#000000\" stroke-opacity=\"1\" stroke-width=\"3.2\"/>\n",
       "<circle clip-path=\"url(#clip192)\" cx=\"438.699\" cy=\"85.838\" r=\"14.4\" fill=\"#e26f46\" fill-rule=\"evenodd\" fill-opacity=\"1\" stroke=\"#000000\" stroke-opacity=\"1\" stroke-width=\"3.2\"/>\n",
       "<circle clip-path=\"url(#clip192)\" cx=\"335.627\" cy=\"85.838\" r=\"14.4\" fill=\"#e26f46\" fill-rule=\"evenodd\" fill-opacity=\"1\" stroke=\"#000000\" stroke-opacity=\"1\" stroke-width=\"3.2\"/>\n",
       "<path clip-path=\"url(#clip190)\" d=\"M1829.89 248.219 L2283.56 248.219 L2283.56 92.6992 L1829.89 92.6992  Z\" fill=\"#ffffff\" fill-rule=\"evenodd\" fill-opacity=\"1\"/>\n",
       "<polyline clip-path=\"url(#clip190)\" style=\"stroke:#000000; stroke-linecap:round; stroke-linejoin:round; stroke-width:4; stroke-opacity:1; fill:none\" points=\"1829.89,248.219 2283.56,248.219 2283.56,92.6992 1829.89,92.6992 1829.89,248.219 \"/>\n",
       "<circle clip-path=\"url(#clip190)\" cx=\"1922.15\" cy=\"144.539\" r=\"20.48\" fill=\"#009af9\" fill-rule=\"evenodd\" fill-opacity=\"1\" stroke=\"#000000\" stroke-opacity=\"1\" stroke-width=\"4.55111\"/>\n",
       "<path clip-path=\"url(#clip190)\" d=\"M2030.91 125.801 L2030.91 129.343 L2026.84 129.343 Q2024.55 129.343 2023.64 130.268 Q2022.76 131.194 2022.76 133.602 L2022.76 135.893 L2029.78 135.893 L2029.78 139.204 L2022.76 139.204 L2022.76 161.819 L2018.48 161.819 L2018.48 139.204 L2014.41 139.204 L2014.41 135.893 L2018.48 135.893 L2018.48 134.088 Q2018.48 129.759 2020.5 127.792 Q2022.51 125.801 2026.88 125.801 L2030.91 125.801 Z\" fill=\"#000000\" fill-rule=\"nonzero\" fill-opacity=\"1\" /><path clip-path=\"url(#clip190)\" d=\"M2044.52 138.879 Q2041.1 138.879 2039.11 141.565 Q2037.12 144.227 2037.12 148.879 Q2037.12 153.532 2039.08 156.217 Q2041.07 158.879 2044.52 158.879 Q2047.93 158.879 2049.92 156.194 Q2051.91 153.509 2051.91 148.879 Q2051.91 144.273 2049.92 141.588 Q2047.93 138.879 2044.52 138.879 M2044.52 135.268 Q2050.08 135.268 2053.25 138.879 Q2056.42 142.491 2056.42 148.879 Q2056.42 155.245 2053.25 158.879 Q2050.08 162.49 2044.52 162.49 Q2038.94 162.49 2035.77 158.879 Q2032.63 155.245 2032.63 148.879 Q2032.63 142.491 2035.77 138.879 Q2038.94 135.268 2044.52 135.268 Z\" fill=\"#000000\" fill-rule=\"nonzero\" fill-opacity=\"1\" /><path clip-path=\"url(#clip190)\" d=\"M2078.5 139.875 Q2077.79 139.458 2076.93 139.273 Q2076.1 139.065 2075.08 139.065 Q2071.47 139.065 2069.52 141.426 Q2067.6 143.764 2067.6 148.162 L2067.6 161.819 L2063.32 161.819 L2063.32 135.893 L2067.6 135.893 L2067.6 139.921 Q2068.94 137.56 2071.1 136.426 Q2073.25 135.268 2076.33 135.268 Q2076.77 135.268 2077.3 135.338 Q2077.83 135.384 2078.48 135.5 L2078.5 139.875 Z\" fill=\"#000000\" fill-rule=\"nonzero\" fill-opacity=\"1\" /><path clip-path=\"url(#clip190)\" d=\"M2080.5 135.893 L2084.75 135.893 L2090.08 156.125 L2095.38 135.893 L2100.4 135.893 L2105.73 156.125 L2111.03 135.893 L2115.29 135.893 L2108.5 161.819 L2103.48 161.819 L2097.9 140.569 L2092.3 161.819 L2087.28 161.819 L2080.5 135.893 Z\" fill=\"#000000\" fill-rule=\"nonzero\" fill-opacity=\"1\" /><path clip-path=\"url(#clip190)\" d=\"M2133.53 148.787 Q2128.37 148.787 2126.37 149.967 Q2124.38 151.148 2124.38 153.995 Q2124.38 156.264 2125.87 157.606 Q2127.37 158.926 2129.94 158.926 Q2133.48 158.926 2135.61 156.426 Q2137.76 153.903 2137.76 149.736 L2137.76 148.787 L2133.53 148.787 M2142.02 147.028 L2142.02 161.819 L2137.76 161.819 L2137.76 157.884 Q2136.31 160.245 2134.13 161.379 Q2131.95 162.49 2128.81 162.49 Q2124.82 162.49 2122.46 160.268 Q2120.12 158.023 2120.12 154.273 Q2120.12 149.898 2123.04 147.676 Q2125.98 145.454 2131.79 145.454 L2137.76 145.454 L2137.76 145.037 Q2137.76 142.097 2135.82 140.5 Q2133.9 138.879 2130.4 138.879 Q2128.18 138.879 2126.07 139.412 Q2123.97 139.944 2122.02 141.009 L2122.02 137.074 Q2124.36 136.171 2126.56 135.731 Q2128.76 135.268 2130.84 135.268 Q2136.47 135.268 2139.25 138.185 Q2142.02 141.102 2142.02 147.028 Z\" fill=\"#000000\" fill-rule=\"nonzero\" fill-opacity=\"1\" /><path clip-path=\"url(#clip190)\" d=\"M2165.82 139.875 Q2165.1 139.458 2164.25 139.273 Q2163.41 139.065 2162.39 139.065 Q2158.78 139.065 2156.84 141.426 Q2154.92 143.764 2154.92 148.162 L2154.92 161.819 L2150.63 161.819 L2150.63 135.893 L2154.92 135.893 L2154.92 139.921 Q2156.26 137.56 2158.41 136.426 Q2160.56 135.268 2163.64 135.268 Q2164.08 135.268 2164.62 135.338 Q2165.15 135.384 2165.8 135.5 L2165.82 139.875 Z\" fill=\"#000000\" fill-rule=\"nonzero\" fill-opacity=\"1\" /><path clip-path=\"url(#clip190)\" d=\"M2186.51 139.829 L2186.51 125.801 L2190.77 125.801 L2190.77 161.819 L2186.51 161.819 L2186.51 157.93 Q2185.17 160.245 2183.11 161.379 Q2181.07 162.49 2178.2 162.49 Q2173.5 162.49 2170.54 158.74 Q2167.6 154.991 2167.6 148.879 Q2167.6 142.768 2170.54 139.018 Q2173.5 135.268 2178.2 135.268 Q2181.07 135.268 2183.11 136.403 Q2185.17 137.514 2186.51 139.829 M2172 148.879 Q2172 153.578 2173.92 156.264 Q2175.87 158.926 2179.24 158.926 Q2182.62 158.926 2184.57 156.264 Q2186.51 153.578 2186.51 148.879 Q2186.51 144.18 2184.57 141.518 Q2182.62 138.833 2179.24 138.833 Q2175.87 138.833 2173.92 141.518 Q2172 144.18 2172 148.879 Z\" fill=\"#000000\" fill-rule=\"nonzero\" fill-opacity=\"1\" /><circle clip-path=\"url(#clip190)\" cx=\"1922.15\" cy=\"196.379\" r=\"20.48\" fill=\"#e26f46\" fill-rule=\"evenodd\" fill-opacity=\"1\" stroke=\"#000000\" stroke-opacity=\"1\" stroke-width=\"4.55111\"/>\n",
       "<path clip-path=\"url(#clip190)\" d=\"M2032.83 188.497 L2032.83 192.525 Q2031.03 191.599 2029.08 191.136 Q2027.14 190.673 2025.06 190.673 Q2021.88 190.673 2020.29 191.645 Q2018.71 192.618 2018.71 194.562 Q2018.71 196.044 2019.85 196.9 Q2020.98 197.733 2024.41 198.497 L2025.87 198.821 Q2030.4 199.794 2032.3 201.576 Q2034.22 203.335 2034.22 206.506 Q2034.22 210.118 2031.35 212.224 Q2028.51 214.33 2023.51 214.33 Q2021.42 214.33 2019.15 213.914 Q2016.91 213.52 2014.41 212.71 L2014.41 208.312 Q2016.77 209.539 2019.06 210.164 Q2021.35 210.766 2023.6 210.766 Q2026.61 210.766 2028.23 209.747 Q2029.85 208.706 2029.85 206.831 Q2029.85 205.094 2028.67 204.168 Q2027.51 203.243 2023.55 202.386 L2022.07 202.039 Q2018.11 201.206 2016.35 199.493 Q2014.59 197.756 2014.59 194.747 Q2014.59 191.09 2017.19 189.099 Q2019.78 187.108 2024.55 187.108 Q2026.91 187.108 2028.99 187.456 Q2031.07 187.803 2032.83 188.497 Z\" fill=\"#000000\" fill-rule=\"nonzero\" fill-opacity=\"1\" /><path clip-path=\"url(#clip190)\" d=\"M2051.79 216.067 Q2049.99 220.696 2048.27 222.108 Q2046.56 223.52 2043.69 223.52 L2040.29 223.52 L2040.29 219.955 L2042.79 219.955 Q2044.55 219.955 2045.52 219.122 Q2046.49 218.289 2047.67 215.187 L2048.44 213.243 L2037.95 187.733 L2042.46 187.733 L2050.57 208.011 L2058.67 187.733 L2063.18 187.733 L2051.79 216.067 Z\" fill=\"#000000\" fill-rule=\"nonzero\" fill-opacity=\"1\" /><path clip-path=\"url(#clip190)\" d=\"M2089.25 192.71 Q2090.84 189.84 2093.06 188.474 Q2095.29 187.108 2098.3 187.108 Q2102.35 187.108 2104.55 189.956 Q2106.75 192.78 2106.75 198.011 L2106.75 213.659 L2102.46 213.659 L2102.46 198.15 Q2102.46 194.423 2101.14 192.618 Q2099.82 190.812 2097.12 190.812 Q2093.81 190.812 2091.88 193.011 Q2089.96 195.21 2089.96 199.006 L2089.96 213.659 L2085.68 213.659 L2085.68 198.15 Q2085.68 194.4 2084.36 192.618 Q2083.04 190.812 2080.29 190.812 Q2077.02 190.812 2075.1 193.034 Q2073.18 195.233 2073.18 199.006 L2073.18 213.659 L2068.9 213.659 L2068.9 187.733 L2073.18 187.733 L2073.18 191.761 Q2074.64 189.377 2076.68 188.243 Q2078.71 187.108 2081.51 187.108 Q2084.34 187.108 2086.31 188.544 Q2088.3 189.979 2089.25 192.71 Z\" fill=\"#000000\" fill-rule=\"nonzero\" fill-opacity=\"1\" /><path clip-path=\"url(#clip190)\" d=\"M2135.43 192.71 Q2137.02 189.84 2139.25 188.474 Q2141.47 187.108 2144.48 187.108 Q2148.53 187.108 2150.73 189.956 Q2152.93 192.78 2152.93 198.011 L2152.93 213.659 L2148.64 213.659 L2148.64 198.15 Q2148.64 194.423 2147.32 192.618 Q2146 190.812 2143.3 190.812 Q2139.99 190.812 2138.06 193.011 Q2136.14 195.21 2136.14 199.006 L2136.14 213.659 L2131.86 213.659 L2131.86 198.15 Q2131.86 194.4 2130.54 192.618 Q2129.22 190.812 2126.47 190.812 Q2123.2 190.812 2121.28 193.034 Q2119.36 195.233 2119.36 199.006 L2119.36 213.659 L2115.08 213.659 L2115.08 187.733 L2119.36 187.733 L2119.36 191.761 Q2120.82 189.377 2122.86 188.243 Q2124.89 187.108 2127.69 187.108 Q2130.52 187.108 2132.49 188.544 Q2134.48 189.979 2135.43 192.71 Z\" fill=\"#000000\" fill-rule=\"nonzero\" fill-opacity=\"1\" /><path clip-path=\"url(#clip190)\" d=\"M2183.6 199.631 L2183.6 201.715 L2164.01 201.715 Q2164.29 206.113 2166.65 208.428 Q2169.04 210.719 2173.27 210.719 Q2175.73 210.719 2178.02 210.118 Q2180.33 209.516 2182.6 208.312 L2182.6 212.34 Q2180.31 213.312 2177.9 213.821 Q2175.5 214.33 2173.02 214.33 Q2166.81 214.33 2163.18 210.719 Q2159.57 207.108 2159.57 200.951 Q2159.57 194.585 2163 190.858 Q2166.44 187.108 2172.28 187.108 Q2177.51 187.108 2180.54 190.488 Q2183.6 193.844 2183.6 199.631 M2179.34 198.381 Q2179.29 194.886 2177.37 192.803 Q2175.47 190.719 2172.32 190.719 Q2168.76 190.719 2166.61 192.733 Q2164.48 194.747 2164.15 198.405 L2179.34 198.381 Z\" fill=\"#000000\" fill-rule=\"nonzero\" fill-opacity=\"1\" /><path clip-path=\"url(#clip190)\" d=\"M2194.8 180.372 L2194.8 187.733 L2203.57 187.733 L2203.57 191.044 L2194.8 191.044 L2194.8 205.118 Q2194.8 208.289 2195.66 209.192 Q2196.54 210.094 2199.2 210.094 L2203.57 210.094 L2203.57 213.659 L2199.2 213.659 Q2194.27 213.659 2192.39 211.83 Q2190.52 209.979 2190.52 205.118 L2190.52 191.044 L2187.39 191.044 L2187.39 187.733 L2190.52 187.733 L2190.52 180.372 L2194.8 180.372 Z\" fill=\"#000000\" fill-rule=\"nonzero\" fill-opacity=\"1\" /><path clip-path=\"url(#clip190)\" d=\"M2224.2 191.715 Q2223.48 191.298 2222.62 191.113 Q2221.79 190.905 2220.77 190.905 Q2217.16 190.905 2215.22 193.266 Q2213.3 195.604 2213.3 200.002 L2213.3 213.659 L2209.01 213.659 L2209.01 187.733 L2213.3 187.733 L2213.3 191.761 Q2214.64 189.4 2216.79 188.266 Q2218.94 187.108 2222.02 187.108 Q2222.46 187.108 2222.99 187.178 Q2223.53 187.224 2224.18 187.34 L2224.2 191.715 Z\" fill=\"#000000\" fill-rule=\"nonzero\" fill-opacity=\"1\" /><path clip-path=\"url(#clip190)\" d=\"M2228.67 187.733 L2232.93 187.733 L2232.93 213.659 L2228.67 213.659 L2228.67 187.733 M2228.67 177.641 L2232.93 177.641 L2232.93 183.034 L2228.67 183.034 L2228.67 177.641 Z\" fill=\"#000000\" fill-rule=\"nonzero\" fill-opacity=\"1\" /><path clip-path=\"url(#clip190)\" d=\"M2260.49 188.729 L2260.49 192.71 Q2258.69 191.715 2256.86 191.229 Q2255.05 190.719 2253.2 190.719 Q2249.06 190.719 2246.77 193.358 Q2244.48 195.974 2244.48 200.719 Q2244.48 205.465 2246.77 208.104 Q2249.06 210.719 2253.2 210.719 Q2255.05 210.719 2256.86 210.233 Q2258.69 209.724 2260.49 208.729 L2260.49 212.664 Q2258.71 213.497 2256.79 213.914 Q2254.89 214.33 2252.74 214.33 Q2246.88 214.33 2243.43 210.65 Q2239.99 206.969 2239.99 200.719 Q2239.99 194.377 2243.46 190.743 Q2246.95 187.108 2253.02 187.108 Q2254.99 187.108 2256.86 187.525 Q2258.74 187.919 2260.49 188.729 Z\" fill=\"#000000\" fill-rule=\"nonzero\" fill-opacity=\"1\" /></svg>\n"
      ],
      "text/html": [
       "<?xml version=\"1.0\" encoding=\"utf-8\"?>\n",
       "<svg xmlns=\"http://www.w3.org/2000/svg\" xmlns:xlink=\"http://www.w3.org/1999/xlink\" width=\"600\" height=\"400\" viewBox=\"0 0 2400 1600\">\n",
       "<defs>\n",
       "  <clipPath id=\"clip240\">\n",
       "    <rect x=\"0\" y=\"0\" width=\"2400\" height=\"1600\"/>\n",
       "  </clipPath>\n",
       "</defs>\n",
       "<path clip-path=\"url(#clip240)\" d=\"M0 1600 L2400 1600 L2400 8.88178e-14 L0 8.88178e-14  Z\" fill=\"#ffffff\" fill-rule=\"evenodd\" fill-opacity=\"1\"/>\n",
       "<defs>\n",
       "  <clipPath id=\"clip241\">\n",
       "    <rect x=\"480\" y=\"0\" width=\"1681\" height=\"1600\"/>\n",
       "  </clipPath>\n",
       "</defs>\n",
       "<path clip-path=\"url(#clip240)\" d=\"M276.876 1410.9 L2352.76 1410.9 L2352.76 47.2441 L276.876 47.2441  Z\" fill=\"#ffffff\" fill-rule=\"evenodd\" fill-opacity=\"1\"/>\n",
       "<defs>\n",
       "  <clipPath id=\"clip242\">\n",
       "    <rect x=\"276\" y=\"47\" width=\"2077\" height=\"1365\"/>\n",
       "  </clipPath>\n",
       "</defs>\n",
       "<polyline clip-path=\"url(#clip242)\" style=\"stroke:#000000; stroke-linecap:round; stroke-linejoin:round; stroke-width:2; stroke-opacity:0.1; fill:none\" points=\"335.627,1410.9 335.627,47.2441 \"/>\n",
       "<polyline clip-path=\"url(#clip242)\" style=\"stroke:#000000; stroke-linecap:round; stroke-linejoin:round; stroke-width:2; stroke-opacity:0.1; fill:none\" points=\"1366.35,1410.9 1366.35,47.2441 \"/>\n",
       "<polyline clip-path=\"url(#clip240)\" style=\"stroke:#000000; stroke-linecap:round; stroke-linejoin:round; stroke-width:4; stroke-opacity:1; fill:none\" points=\"276.876,1410.9 2352.76,1410.9 \"/>\n",
       "<polyline clip-path=\"url(#clip240)\" style=\"stroke:#000000; stroke-linecap:round; stroke-linejoin:round; stroke-width:4; stroke-opacity:1; fill:none\" points=\"335.627,1410.9 335.627,1392 \"/>\n",
       "<polyline clip-path=\"url(#clip240)\" style=\"stroke:#000000; stroke-linecap:round; stroke-linejoin:round; stroke-width:4; stroke-opacity:1; fill:none\" points=\"1366.35,1410.9 1366.35,1392 \"/>\n",
       "<path clip-path=\"url(#clip240)\" d=\"M272.99 1485.02 L280.629 1485.02 L280.629 1458.66 L272.319 1460.32 L272.319 1456.06 L280.583 1454.4 L285.259 1454.4 L285.259 1485.02 L292.898 1485.02 L292.898 1488.96 L272.99 1488.96 L272.99 1485.02 Z\" fill=\"#000000\" fill-rule=\"nonzero\" fill-opacity=\"1\" /><path clip-path=\"url(#clip240)\" d=\"M312.342 1457.48 Q308.731 1457.48 306.902 1461.04 Q305.097 1464.58 305.097 1471.71 Q305.097 1478.82 306.902 1482.38 Q308.731 1485.92 312.342 1485.92 Q315.976 1485.92 317.782 1482.38 Q319.611 1478.82 319.611 1471.71 Q319.611 1464.58 317.782 1461.04 Q315.976 1457.48 312.342 1457.48 M312.342 1453.77 Q318.152 1453.77 321.208 1458.38 Q324.286 1462.96 324.286 1471.71 Q324.286 1480.44 321.208 1485.04 Q318.152 1489.63 312.342 1489.63 Q306.532 1489.63 303.453 1485.04 Q300.398 1480.44 300.398 1471.71 Q300.398 1462.96 303.453 1458.38 Q306.532 1453.77 312.342 1453.77 Z\" fill=\"#000000\" fill-rule=\"nonzero\" fill-opacity=\"1\" /><path clip-path=\"url(#clip240)\" d=\"M324.286 1447.87 L348.398 1447.87 L348.398 1451.07 L324.286 1451.07 L324.286 1447.87 Z\" fill=\"#000000\" fill-rule=\"nonzero\" fill-opacity=\"1\" /><path clip-path=\"url(#clip240)\" d=\"M359.871 1458.35 L373.13 1458.35 L373.13 1461.55 L355.3 1461.55 L355.3 1458.35 Q357.463 1456.11 361.187 1452.35 Q364.93 1448.57 365.889 1447.48 Q367.714 1445.43 368.428 1444.02 Q369.162 1442.59 369.162 1441.22 Q369.162 1438.98 367.582 1437.57 Q366.021 1436.16 363.501 1436.16 Q361.714 1436.16 359.72 1436.78 Q357.746 1437.4 355.489 1438.66 L355.489 1434.82 Q357.783 1433.9 359.777 1433.43 Q361.77 1432.96 363.425 1432.96 Q367.789 1432.96 370.384 1435.14 Q372.98 1437.32 372.98 1440.97 Q372.98 1442.7 372.322 1444.26 Q371.682 1445.8 369.971 1447.91 Q369.5 1448.46 366.98 1451.07 Q364.46 1453.67 359.871 1458.35 Z\" fill=\"#000000\" fill-rule=\"nonzero\" fill-opacity=\"1\" /><path clip-path=\"url(#clip240)\" d=\"M389.23 1435.97 Q386.296 1435.97 384.81 1438.86 Q383.343 1441.74 383.343 1447.53 Q383.343 1453.31 384.81 1456.2 Q386.296 1459.08 389.23 1459.08 Q392.183 1459.08 393.65 1456.2 Q395.135 1453.31 395.135 1447.53 Q395.135 1441.74 393.65 1438.86 Q392.183 1435.97 389.23 1435.97 M389.23 1432.96 Q393.95 1432.96 396.433 1436.7 Q398.935 1440.43 398.935 1447.53 Q398.935 1454.62 396.433 1458.37 Q393.95 1462.09 389.23 1462.09 Q384.509 1462.09 382.008 1458.37 Q379.525 1454.62 379.525 1447.53 Q379.525 1440.43 382.008 1436.7 Q384.509 1432.96 389.23 1432.96 Z\" fill=\"#000000\" fill-rule=\"nonzero\" fill-opacity=\"1\" /><path clip-path=\"url(#clip240)\" d=\"M1303.72 1485.02 L1311.35 1485.02 L1311.35 1458.66 L1303.04 1460.32 L1303.04 1456.06 L1311.31 1454.4 L1315.98 1454.4 L1315.98 1485.02 L1323.62 1485.02 L1323.62 1488.96 L1303.72 1488.96 L1303.72 1485.02 Z\" fill=\"#000000\" fill-rule=\"nonzero\" fill-opacity=\"1\" /><path clip-path=\"url(#clip240)\" d=\"M1343.07 1457.48 Q1339.46 1457.48 1337.63 1461.04 Q1335.82 1464.58 1335.82 1471.71 Q1335.82 1478.82 1337.63 1482.38 Q1339.46 1485.92 1343.07 1485.92 Q1346.7 1485.92 1348.51 1482.38 Q1350.34 1478.82 1350.34 1471.71 Q1350.34 1464.58 1348.51 1461.04 Q1346.7 1457.48 1343.07 1457.48 M1343.07 1453.77 Q1348.88 1453.77 1351.93 1458.38 Q1355.01 1462.96 1355.01 1471.71 Q1355.01 1480.44 1351.93 1485.04 Q1348.88 1489.63 1343.07 1489.63 Q1337.26 1489.63 1334.18 1485.04 Q1331.12 1480.44 1331.12 1471.71 Q1331.12 1462.96 1334.18 1458.38 Q1337.26 1453.77 1343.07 1453.77 Z\" fill=\"#000000\" fill-rule=\"nonzero\" fill-opacity=\"1\" /><path clip-path=\"url(#clip240)\" d=\"M1355.01 1447.87 L1379.12 1447.87 L1379.12 1451.07 L1355.01 1451.07 L1355.01 1447.87 Z\" fill=\"#000000\" fill-rule=\"nonzero\" fill-opacity=\"1\" /><path clip-path=\"url(#clip240)\" d=\"M1387.98 1458.35 L1394.19 1458.35 L1394.19 1436.93 L1387.44 1438.28 L1387.44 1434.82 L1394.15 1433.47 L1397.95 1433.47 L1397.95 1458.35 L1404.16 1458.35 L1404.16 1461.55 L1387.98 1461.55 L1387.98 1458.35 Z\" fill=\"#000000\" fill-rule=\"nonzero\" fill-opacity=\"1\" /><path clip-path=\"url(#clip240)\" d=\"M1419.95 1435.97 Q1417.02 1435.97 1415.54 1438.86 Q1414.07 1441.74 1414.07 1447.53 Q1414.07 1453.31 1415.54 1456.2 Q1417.02 1459.08 1419.95 1459.08 Q1422.91 1459.08 1424.37 1456.2 Q1425.86 1453.31 1425.86 1447.53 Q1425.86 1441.74 1424.37 1438.86 Q1422.91 1435.97 1419.95 1435.97 M1419.95 1432.96 Q1424.68 1432.96 1427.16 1436.7 Q1429.66 1440.43 1429.66 1447.53 Q1429.66 1454.62 1427.16 1458.37 Q1424.68 1462.09 1419.95 1462.09 Q1415.23 1462.09 1412.73 1458.37 Q1410.25 1454.62 1410.25 1447.53 Q1410.25 1440.43 1412.73 1436.7 Q1415.23 1432.96 1419.95 1432.96 Z\" fill=\"#000000\" fill-rule=\"nonzero\" fill-opacity=\"1\" /><path clip-path=\"url(#clip240)\" d=\"M1326.82 1532.9 Q1323.57 1530.68 1315.96 1530.68 Q1307.91 1530.68 1307.91 1534.4 Q1307.91 1537.33 1316.31 1538.86 Q1322.93 1540.03 1326.66 1543.6 Q1331.18 1547.9 1331.18 1556.71 Q1331.18 1565.15 1326.82 1570.11 Q1322.45 1575.11 1314.82 1575.11 Q1307.21 1575.11 1302.82 1570.11 Q1298.46 1565.15 1298.46 1556.39 Q1298.46 1549.9 1302.82 1544.65 Q1304.5 1542.61 1306.89 1541.47 Q1301.93 1538.95 1301.93 1534.46 Q1301.93 1525.81 1315.96 1525.81 Q1323 1525.81 1326.82 1528.03 L1326.82 1532.9 M1311.28 1543.06 Q1309.12 1543.98 1307.37 1546.3 Q1304.63 1549.9 1304.63 1556.39 Q1304.63 1562.85 1307.34 1566.48 Q1310.07 1570.14 1314.82 1570.14 Q1319.49 1570.14 1322.23 1566.45 Q1324.97 1562.76 1324.97 1556.71 Q1324.97 1550.38 1322.07 1547.32 Q1318.99 1544.04 1314.97 1543.69 Q1312.94 1543.5 1311.28 1543.06 Z\" fill=\"#000000\" fill-rule=\"nonzero\" fill-opacity=\"1\" /><polyline clip-path=\"url(#clip242)\" style=\"stroke:#000000; stroke-linecap:round; stroke-linejoin:round; stroke-width:2; stroke-opacity:0.1; fill:none\" points=\"276.876,1374.75 2352.76,1374.75 \"/>\n",
       "<polyline clip-path=\"url(#clip242)\" style=\"stroke:#000000; stroke-linecap:round; stroke-linejoin:round; stroke-width:2; stroke-opacity:0.1; fill:none\" points=\"276.876,730.295 2352.76,730.295 \"/>\n",
       "<polyline clip-path=\"url(#clip242)\" style=\"stroke:#000000; stroke-linecap:round; stroke-linejoin:round; stroke-width:2; stroke-opacity:0.1; fill:none\" points=\"276.876,85.838 2352.76,85.838 \"/>\n",
       "<polyline clip-path=\"url(#clip240)\" style=\"stroke:#000000; stroke-linecap:round; stroke-linejoin:round; stroke-width:4; stroke-opacity:1; fill:none\" points=\"276.876,1410.9 276.876,47.2441 \"/>\n",
       "<polyline clip-path=\"url(#clip240)\" style=\"stroke:#000000; stroke-linecap:round; stroke-linejoin:round; stroke-width:4; stroke-opacity:1; fill:none\" points=\"276.876,1374.75 295.773,1374.75 \"/>\n",
       "<polyline clip-path=\"url(#clip240)\" style=\"stroke:#000000; stroke-linecap:round; stroke-linejoin:round; stroke-width:4; stroke-opacity:1; fill:none\" points=\"276.876,730.295 295.773,730.295 \"/>\n",
       "<polyline clip-path=\"url(#clip240)\" style=\"stroke:#000000; stroke-linecap:round; stroke-linejoin:round; stroke-width:4; stroke-opacity:1; fill:none\" points=\"276.876,85.838 295.773,85.838 \"/>\n",
       "<path clip-path=\"url(#clip240)\" d=\"M114.931 1394.54 L122.57 1394.54 L122.57 1368.18 L114.26 1369.84 L114.26 1365.59 L122.524 1363.92 L127.2 1363.92 L127.2 1394.54 L134.839 1394.54 L134.839 1398.48 L114.931 1398.48 L114.931 1394.54 Z\" fill=\"#000000\" fill-rule=\"nonzero\" fill-opacity=\"1\" /><path clip-path=\"url(#clip240)\" d=\"M154.283 1367 Q150.672 1367 148.843 1370.56 Q147.038 1374.1 147.038 1381.23 Q147.038 1388.34 148.843 1391.9 Q150.672 1395.45 154.283 1395.45 Q157.917 1395.45 159.723 1391.9 Q161.552 1388.34 161.552 1381.23 Q161.552 1374.1 159.723 1370.56 Q157.917 1367 154.283 1367 M154.283 1363.29 Q160.093 1363.29 163.149 1367.9 Q166.227 1372.48 166.227 1381.23 Q166.227 1389.96 163.149 1394.57 Q160.093 1399.15 154.283 1399.15 Q148.473 1399.15 145.394 1394.57 Q142.339 1389.96 142.339 1381.23 Q142.339 1372.48 145.394 1367.9 Q148.473 1363.29 154.283 1363.29 Z\" fill=\"#000000\" fill-rule=\"nonzero\" fill-opacity=\"1\" /><path clip-path=\"url(#clip240)\" d=\"M166.227 1357.4 L190.339 1357.4 L190.339 1360.59 L166.227 1360.59 L166.227 1357.4 Z\" fill=\"#000000\" fill-rule=\"nonzero\" fill-opacity=\"1\" /><path clip-path=\"url(#clip240)\" d=\"M199.197 1367.87 L205.404 1367.87 L205.404 1346.45 L198.652 1347.8 L198.652 1344.34 L205.366 1342.99 L209.166 1342.99 L209.166 1367.87 L215.372 1367.87 L215.372 1371.07 L199.197 1371.07 L199.197 1367.87 Z\" fill=\"#000000\" fill-rule=\"nonzero\" fill-opacity=\"1\" /><path clip-path=\"url(#clip240)\" d=\"M231.171 1345.49 Q228.237 1345.49 226.751 1348.39 Q225.284 1351.26 225.284 1357.06 Q225.284 1362.83 226.751 1365.73 Q228.237 1368.6 231.171 1368.6 Q234.124 1368.6 235.591 1365.73 Q237.076 1362.83 237.076 1357.06 Q237.076 1351.26 235.591 1348.39 Q234.124 1345.49 231.171 1345.49 M231.171 1342.48 Q235.891 1342.48 238.374 1346.22 Q240.876 1349.95 240.876 1357.06 Q240.876 1364.15 238.374 1367.89 Q235.891 1371.61 231.171 1371.61 Q226.45 1371.61 223.949 1367.89 Q221.466 1364.15 221.466 1357.06 Q221.466 1349.95 223.949 1346.22 Q226.45 1342.48 231.171 1342.48 Z\" fill=\"#000000\" fill-rule=\"nonzero\" fill-opacity=\"1\" /><path clip-path=\"url(#clip240)\" d=\"M140.247 750.087 L147.886 750.087 L147.886 723.721 L139.575 725.388 L139.575 721.129 L147.839 719.462 L152.515 719.462 L152.515 750.087 L160.154 750.087 L160.154 754.022 L140.247 754.022 L140.247 750.087 Z\" fill=\"#000000\" fill-rule=\"nonzero\" fill-opacity=\"1\" /><path clip-path=\"url(#clip240)\" d=\"M179.598 722.541 Q175.987 722.541 174.159 726.106 Q172.353 729.647 172.353 736.777 Q172.353 743.883 174.159 747.448 Q175.987 750.99 179.598 750.99 Q183.233 750.99 185.038 747.448 Q186.867 743.883 186.867 736.777 Q186.867 729.647 185.038 726.106 Q183.233 722.541 179.598 722.541 M179.598 718.837 Q185.409 718.837 188.464 723.444 Q191.543 728.027 191.543 736.777 Q191.543 745.504 188.464 750.11 Q185.409 754.694 179.598 754.694 Q173.788 754.694 170.71 750.11 Q167.654 745.504 167.654 736.777 Q167.654 728.027 170.71 723.444 Q173.788 718.837 179.598 718.837 Z\" fill=\"#000000\" fill-rule=\"nonzero\" fill-opacity=\"1\" /><path clip-path=\"url(#clip240)\" d=\"M191.543 712.939 L215.654 712.939 L215.654 716.136 L191.543 716.136 L191.543 712.939 Z\" fill=\"#000000\" fill-rule=\"nonzero\" fill-opacity=\"1\" /><path clip-path=\"url(#clip240)\" d=\"M223.892 698.532 L238.807 698.532 L238.807 701.729 L227.372 701.729 L227.372 708.613 Q228.199 708.331 229.027 708.199 Q229.854 708.049 230.682 708.049 Q235.384 708.049 238.13 710.625 Q240.876 713.202 240.876 717.603 Q240.876 722.136 238.054 724.656 Q235.233 727.157 230.099 727.157 Q228.331 727.157 226.488 726.856 Q224.663 726.555 222.707 725.954 L222.707 722.136 Q224.4 723.057 226.205 723.509 Q228.011 723.96 230.023 723.96 Q233.277 723.96 235.177 722.248 Q237.076 720.537 237.076 717.603 Q237.076 714.669 235.177 712.957 Q233.277 711.246 230.023 711.246 Q228.5 711.246 226.977 711.584 Q225.472 711.923 223.892 712.638 L223.892 698.532 Z\" fill=\"#000000\" fill-rule=\"nonzero\" fill-opacity=\"1\" /><path clip-path=\"url(#clip240)\" d=\"M170.17 105.63 L177.809 105.63 L177.809 79.2649 L169.499 80.9315 L169.499 76.6723 L177.762 75.0056 L182.438 75.0056 L182.438 105.63 L190.077 105.63 L190.077 109.566 L170.17 109.566 L170.17 105.63 Z\" fill=\"#000000\" fill-rule=\"nonzero\" fill-opacity=\"1\" /><path clip-path=\"url(#clip240)\" d=\"M209.522 78.0843 Q205.91 78.0843 204.082 81.6491 Q202.276 85.1908 202.276 92.3204 Q202.276 99.4268 204.082 102.992 Q205.91 106.533 209.522 106.533 Q213.156 106.533 214.961 102.992 Q216.79 99.4268 216.79 92.3204 Q216.79 85.1908 214.961 81.6491 Q213.156 78.0843 209.522 78.0843 M209.522 74.3806 Q215.332 74.3806 218.387 78.9871 Q221.466 83.5704 221.466 92.3204 Q221.466 101.047 218.387 105.654 Q215.332 110.237 209.522 110.237 Q203.711 110.237 200.633 105.654 Q197.577 101.047 197.577 92.3204 Q197.577 83.5704 200.633 78.9871 Q203.711 74.3806 209.522 74.3806 Z\" fill=\"#000000\" fill-rule=\"nonzero\" fill-opacity=\"1\" /><path clip-path=\"url(#clip240)\" d=\"M231.171 56.5767 Q228.237 56.5767 226.751 59.4731 Q225.284 62.3507 225.284 68.1434 Q225.284 73.9174 226.751 76.8138 Q228.237 79.6914 231.171 79.6914 Q234.124 79.6914 235.591 76.8138 Q237.076 73.9174 237.076 68.1434 Q237.076 62.3507 235.591 59.4731 Q234.124 56.5767 231.171 56.5767 M231.171 53.5674 Q235.891 53.5674 238.374 57.3102 Q240.876 61.0341 240.876 68.1434 Q240.876 75.234 238.374 78.9767 Q235.891 82.7007 231.171 82.7007 Q226.45 82.7007 223.949 78.9767 Q221.466 75.234 221.466 68.1434 Q221.466 61.0341 223.949 57.3102 Q226.45 53.5674 231.171 53.5674 Z\" fill=\"#000000\" fill-rule=\"nonzero\" fill-opacity=\"1\" /><path clip-path=\"url(#clip240)\" d=\"M44.7161 985.465 L47.5806 985.465 L47.5806 1012.39 Q53.6281 1012.01 56.8109 1008.76 Q59.9619 1005.49 59.9619 999.661 Q59.9619 996.287 59.1344 993.136 Q58.3069 989.953 56.6518 986.834 L62.1899 986.834 Q63.5267 989.985 64.227 993.295 Q64.9272 996.605 64.9272 1000.01 Q64.9272 1008.54 59.9619 1013.54 Q54.9967 1018.5 46.5303 1018.5 Q37.7774 1018.5 32.6531 1013.79 Q27.4968 1009.05 27.4968 1001.03 Q27.4968 993.836 32.1438 989.666 Q36.7589 985.465 44.7161 985.465 M42.9973 991.322 Q38.1912 991.385 35.3266 994.027 Q32.4621 996.637 32.4621 1000.97 Q32.4621 1005.87 35.2312 1008.83 Q38.0002 1011.76 43.0292 1012.2 L42.9973 991.322 Z\" fill=\"#000000\" fill-rule=\"nonzero\" fill-opacity=\"1\" /><path clip-path=\"url(#clip240)\" d=\"M33.8307 955.196 Q33.2578 956.183 33.0032 957.361 Q32.7167 958.506 32.7167 959.907 Q32.7167 964.872 35.9632 967.546 Q39.1779 970.187 45.2253 970.187 L64.0042 970.187 L64.0042 976.076 L28.3562 976.076 L28.3562 970.187 L33.8944 970.187 Q30.6479 968.341 29.0883 965.381 Q27.4968 962.421 27.4968 958.188 Q27.4968 957.583 27.5923 956.851 Q27.656 956.119 27.8151 955.228 L33.8307 955.196 Z\" fill=\"#000000\" fill-rule=\"nonzero\" fill-opacity=\"1\" /><path clip-path=\"url(#clip240)\" d=\"M33.8307 929.542 Q33.2578 930.529 33.0032 931.707 Q32.7167 932.853 32.7167 934.253 Q32.7167 939.218 35.9632 941.892 Q39.1779 944.534 45.2253 944.534 L64.0042 944.534 L64.0042 950.422 L28.3562 950.422 L28.3562 944.534 L33.8944 944.534 Q30.6479 942.688 29.0883 939.728 Q27.4968 936.767 27.4968 932.534 Q27.4968 931.93 27.5923 931.197 Q27.656 930.465 27.8151 929.574 L33.8307 929.542 Z\" fill=\"#000000\" fill-rule=\"nonzero\" fill-opacity=\"1\" /><path clip-path=\"url(#clip240)\" d=\"M32.4621 911.018 Q32.4621 915.729 36.1542 918.466 Q39.8145 921.203 46.212 921.203 Q52.6095 921.203 56.3017 918.498 Q59.9619 915.761 59.9619 911.018 Q59.9619 906.339 56.2698 903.602 Q52.5777 900.865 46.212 900.865 Q39.8781 900.865 36.186 903.602 Q32.4621 906.339 32.4621 911.018 M27.4968 911.018 Q27.4968 903.379 32.4621 899.019 Q37.4273 894.658 46.212 894.658 Q54.9649 894.658 59.9619 899.019 Q64.9272 903.379 64.9272 911.018 Q64.9272 918.689 59.9619 923.049 Q54.9649 927.378 46.212 927.378 Q37.4273 927.378 32.4621 923.049 Q27.4968 918.689 27.4968 911.018 Z\" fill=\"#000000\" fill-rule=\"nonzero\" fill-opacity=\"1\" /><path clip-path=\"url(#clip240)\" d=\"M33.8307 864.294 Q33.2578 865.281 33.0032 866.458 Q32.7167 867.604 32.7167 869.005 Q32.7167 873.97 35.9632 876.643 Q39.1779 879.285 45.2253 879.285 L64.0042 879.285 L64.0042 885.173 L28.3562 885.173 L28.3562 879.285 L33.8944 879.285 Q30.6479 877.439 29.0883 874.479 Q27.4968 871.519 27.4968 867.286 Q27.4968 866.681 27.5923 865.949 Q27.656 865.217 27.8151 864.326 L33.8307 864.294 Z\" fill=\"#000000\" fill-rule=\"nonzero\" fill-opacity=\"1\" /><path clip-path=\"url(#clip240)\" d=\"M28.3562 837.431 L28.3562 831.574 L64.0042 831.574 L64.0042 837.431 L28.3562 837.431 M14.479 837.431 L14.479 831.574 L21.895 831.574 L21.895 837.431 L14.479 837.431 Z\" fill=\"#000000\" fill-rule=\"nonzero\" fill-opacity=\"1\" /><path clip-path=\"url(#clip240)\" d=\"M42.4881 789.688 L64.0042 789.688 L64.0042 795.544 L42.679 795.544 Q37.6183 795.544 35.1038 797.518 Q32.5894 799.491 32.5894 803.438 Q32.5894 808.18 35.6131 810.917 Q38.6368 813.655 43.8567 813.655 L64.0042 813.655 L64.0042 819.543 L28.3562 819.543 L28.3562 813.655 L33.8944 813.655 Q30.6797 811.554 29.0883 808.721 Q27.4968 805.857 27.4968 802.133 Q27.4968 795.99 31.3163 792.839 Q35.1038 789.688 42.4881 789.688 Z\" fill=\"#000000\" fill-rule=\"nonzero\" fill-opacity=\"1\" /><path clip-path=\"url(#clip240)\" d=\"M33.7671 733.829 L14.479 733.829 L14.479 727.972 L64.0042 727.972 L64.0042 733.829 L58.657 733.829 Q61.8398 735.675 63.3994 738.508 Q64.9272 741.308 64.9272 745.255 Q64.9272 751.716 59.771 755.79 Q54.6147 759.833 46.212 759.833 Q37.8093 759.833 32.6531 755.79 Q27.4968 751.716 27.4968 745.255 Q27.4968 741.308 29.0564 738.508 Q30.5842 735.675 33.7671 733.829 M46.212 753.785 Q52.6732 753.785 56.3653 751.143 Q60.0256 748.47 60.0256 743.823 Q60.0256 739.176 56.3653 736.502 Q52.6732 733.829 46.212 733.829 Q39.7508 733.829 36.0905 736.502 Q32.3984 739.176 32.3984 743.823 Q32.3984 748.47 36.0905 751.143 Q39.7508 753.785 46.212 753.785 Z\" fill=\"#000000\" fill-rule=\"nonzero\" fill-opacity=\"1\" /><path clip-path=\"url(#clip240)\" d=\"M44.7161 685.418 L47.5806 685.418 L47.5806 712.344 Q53.6281 711.963 56.8109 708.716 Q59.9619 705.438 59.9619 699.613 Q59.9619 696.239 59.1344 693.088 Q58.3069 689.905 56.6518 686.786 L62.1899 686.786 Q63.5267 689.937 64.227 693.247 Q64.9272 696.558 64.9272 699.963 Q64.9272 708.493 59.9619 713.49 Q54.9967 718.456 46.5303 718.456 Q37.7774 718.456 32.6531 713.745 Q27.4968 709.002 27.4968 700.982 Q27.4968 693.788 32.1438 689.619 Q36.7589 685.418 44.7161 685.418 M42.9973 691.274 Q38.1912 691.338 35.3266 693.979 Q32.4621 696.589 32.4621 700.918 Q32.4621 705.82 35.2312 708.78 Q38.0002 711.708 43.0292 712.154 L42.9973 691.274 Z\" fill=\"#000000\" fill-rule=\"nonzero\" fill-opacity=\"1\" /><path clip-path=\"url(#clip240)\" d=\"M33.8307 655.149 Q33.2578 656.135 33.0032 657.313 Q32.7167 658.459 32.7167 659.859 Q32.7167 664.824 35.9632 667.498 Q39.1779 670.14 45.2253 670.14 L64.0042 670.14 L64.0042 676.028 L28.3562 676.028 L28.3562 670.14 L33.8944 670.14 Q30.6479 668.294 29.0883 665.334 Q27.4968 662.374 27.4968 658.14 Q27.4968 657.536 27.5923 656.804 Q27.656 656.072 27.8151 655.18 L33.8307 655.149 Z\" fill=\"#000000\" fill-rule=\"nonzero\" fill-opacity=\"1\" /><path clip-path=\"url(#clip240)\" d=\"M28.3562 649.006 L28.3562 643.149 L64.0042 643.149 L64.0042 649.006 L28.3562 649.006 M14.479 649.006 L14.479 643.149 L21.895 643.149 L21.895 649.006 L14.479 649.006 Z\" fill=\"#000000\" fill-rule=\"nonzero\" fill-opacity=\"1\" /><path clip-path=\"url(#clip240)\" d=\"M28.3562 635.097 L28.3562 628.89 L58.275 617.75 L28.3562 606.61 L28.3562 600.404 L64.0042 613.772 L64.0042 621.729 L28.3562 635.097 Z\" fill=\"#000000\" fill-rule=\"nonzero\" fill-opacity=\"1\" /><path clip-path=\"url(#clip240)\" d=\"M46.0847 576.118 Q46.0847 583.216 47.7079 585.953 Q49.3312 588.691 53.2461 588.691 Q56.3653 588.691 58.2114 586.654 Q60.0256 584.585 60.0256 581.052 Q60.0256 576.182 56.5881 573.254 Q53.1188 570.294 47.3897 570.294 L46.0847 570.294 L46.0847 576.118 M43.6657 564.437 L64.0042 564.437 L64.0042 570.294 L58.5933 570.294 Q61.8398 572.299 63.3994 575.291 Q64.9272 578.283 64.9272 582.611 Q64.9272 588.086 61.8716 591.332 Q58.7843 594.547 53.6281 594.547 Q47.6125 594.547 44.5569 590.537 Q41.5014 586.494 41.5014 578.505 L41.5014 570.294 L40.9285 570.294 Q36.8862 570.294 34.6901 572.967 Q32.4621 575.609 32.4621 580.415 Q32.4621 583.471 33.1941 586.367 Q33.9262 589.264 35.3903 591.937 L29.9795 591.937 Q28.7381 588.722 28.1334 585.699 Q27.4968 582.675 27.4968 579.81 Q27.4968 572.076 31.5072 568.257 Q35.5176 564.437 43.6657 564.437 Z\" fill=\"#000000\" fill-rule=\"nonzero\" fill-opacity=\"1\" /><path clip-path=\"url(#clip240)\" d=\"M18.2347 546.581 L28.3562 546.581 L28.3562 534.518 L32.9077 534.518 L32.9077 546.581 L52.2594 546.581 Q56.6199 546.581 57.8613 545.404 Q59.1026 544.194 59.1026 540.534 L59.1026 534.518 L64.0042 534.518 L64.0042 540.534 Q64.0042 547.314 61.4897 549.892 Q58.9434 552.47 52.2594 552.47 L32.9077 552.47 L32.9077 556.767 L28.3562 556.767 L28.3562 552.47 L18.2347 552.47 L18.2347 546.581 Z\" fill=\"#000000\" fill-rule=\"nonzero\" fill-opacity=\"1\" /><path clip-path=\"url(#clip240)\" d=\"M28.3562 526.816 L28.3562 520.96 L64.0042 520.96 L64.0042 526.816 L28.3562 526.816 M14.479 526.816 L14.479 520.96 L21.895 520.96 L21.895 526.816 L14.479 526.816 Z\" fill=\"#000000\" fill-rule=\"nonzero\" fill-opacity=\"1\" /><path clip-path=\"url(#clip240)\" d=\"M28.3562 512.907 L28.3562 506.7 L58.275 495.56 L28.3562 484.42 L28.3562 478.214 L64.0042 491.582 L64.0042 499.539 L28.3562 512.907 Z\" fill=\"#000000\" fill-rule=\"nonzero\" fill-opacity=\"1\" /><path clip-path=\"url(#clip240)\" d=\"M44.7161 439.638 L47.5806 439.638 L47.5806 466.565 Q53.6281 466.183 56.8109 462.936 Q59.9619 459.658 59.9619 453.833 Q59.9619 450.459 59.1344 447.308 Q58.3069 444.125 56.6518 441.006 L62.1899 441.006 Q63.5267 444.157 64.227 447.467 Q64.9272 450.778 64.9272 454.183 Q64.9272 462.713 59.9619 467.71 Q54.9967 472.676 46.5303 472.676 Q37.7774 472.676 32.6531 467.965 Q27.4968 463.223 27.4968 455.202 Q27.4968 448.009 32.1438 443.839 Q36.7589 439.638 44.7161 439.638 M42.9973 445.494 Q38.1912 445.558 35.3266 448.199 Q32.4621 450.809 32.4621 455.138 Q32.4621 460.04 35.2312 463 Q38.0002 465.928 43.0292 466.374 L42.9973 445.494 Z\" fill=\"#000000\" fill-rule=\"nonzero\" fill-opacity=\"1\" /><circle clip-path=\"url(#clip242)\" cx=\"2294\" cy=\"173.198\" r=\"14.4\" fill=\"#009af9\" fill-rule=\"evenodd\" fill-opacity=\"1\" stroke=\"#000000\" stroke-opacity=\"1\" stroke-width=\"3.2\"/>\n",
       "<circle clip-path=\"url(#clip242)\" cx=\"2190.93\" cy=\"304.541\" r=\"14.4\" fill=\"#009af9\" fill-rule=\"evenodd\" fill-opacity=\"1\" stroke=\"#000000\" stroke-opacity=\"1\" stroke-width=\"3.2\"/>\n",
       "<circle clip-path=\"url(#clip242)\" cx=\"2087.86\" cy=\"433.684\" r=\"14.4\" fill=\"#009af9\" fill-rule=\"evenodd\" fill-opacity=\"1\" stroke=\"#000000\" stroke-opacity=\"1\" stroke-width=\"3.2\"/>\n",
       "<circle clip-path=\"url(#clip242)\" cx=\"1984.79\" cy=\"562.6\" r=\"14.4\" fill=\"#009af9\" fill-rule=\"evenodd\" fill-opacity=\"1\" stroke=\"#000000\" stroke-opacity=\"1\" stroke-width=\"3.2\"/>\n",
       "<circle clip-path=\"url(#clip242)\" cx=\"1881.71\" cy=\"691.494\" r=\"14.4\" fill=\"#009af9\" fill-rule=\"evenodd\" fill-opacity=\"1\" stroke=\"#000000\" stroke-opacity=\"1\" stroke-width=\"3.2\"/>\n",
       "<circle clip-path=\"url(#clip242)\" cx=\"1778.64\" cy=\"820.397\" r=\"14.4\" fill=\"#009af9\" fill-rule=\"evenodd\" fill-opacity=\"1\" stroke=\"#000000\" stroke-opacity=\"1\" stroke-width=\"3.2\"/>\n",
       "<circle clip-path=\"url(#clip242)\" cx=\"1675.57\" cy=\"950.113\" r=\"14.4\" fill=\"#009af9\" fill-rule=\"evenodd\" fill-opacity=\"1\" stroke=\"#000000\" stroke-opacity=\"1\" stroke-width=\"3.2\"/>\n",
       "<circle clip-path=\"url(#clip242)\" cx=\"1572.5\" cy=\"1026.34\" r=\"14.4\" fill=\"#009af9\" fill-rule=\"evenodd\" fill-opacity=\"1\" stroke=\"#000000\" stroke-opacity=\"1\" stroke-width=\"3.2\"/>\n",
       "<circle clip-path=\"url(#clip242)\" cx=\"1469.42\" cy=\"998.683\" r=\"14.4\" fill=\"#009af9\" fill-rule=\"evenodd\" fill-opacity=\"1\" stroke=\"#000000\" stroke-opacity=\"1\" stroke-width=\"3.2\"/>\n",
       "<circle clip-path=\"url(#clip242)\" cx=\"1366.35\" cy=\"998.683\" r=\"14.4\" fill=\"#009af9\" fill-rule=\"evenodd\" fill-opacity=\"1\" stroke=\"#000000\" stroke-opacity=\"1\" stroke-width=\"3.2\"/>\n",
       "<circle clip-path=\"url(#clip242)\" cx=\"1263.28\" cy=\"998.683\" r=\"14.4\" fill=\"#009af9\" fill-rule=\"evenodd\" fill-opacity=\"1\" stroke=\"#000000\" stroke-opacity=\"1\" stroke-width=\"3.2\"/>\n",
       "<circle clip-path=\"url(#clip242)\" cx=\"1160.21\" cy=\"607.989\" r=\"14.4\" fill=\"#009af9\" fill-rule=\"evenodd\" fill-opacity=\"1\" stroke=\"#000000\" stroke-opacity=\"1\" stroke-width=\"3.2\"/>\n",
       "<circle clip-path=\"url(#clip242)\" cx=\"1057.13\" cy=\"485.053\" r=\"14.4\" fill=\"#009af9\" fill-rule=\"evenodd\" fill-opacity=\"1\" stroke=\"#000000\" stroke-opacity=\"1\" stroke-width=\"3.2\"/>\n",
       "<circle clip-path=\"url(#clip242)\" cx=\"954.062\" cy=\"296.988\" r=\"14.4\" fill=\"#009af9\" fill-rule=\"evenodd\" fill-opacity=\"1\" stroke=\"#000000\" stroke-opacity=\"1\" stroke-width=\"3.2\"/>\n",
       "<circle clip-path=\"url(#clip242)\" cx=\"850.989\" cy=\"208.475\" r=\"14.4\" fill=\"#009af9\" fill-rule=\"evenodd\" fill-opacity=\"1\" stroke=\"#000000\" stroke-opacity=\"1\" stroke-width=\"3.2\"/>\n",
       "<circle clip-path=\"url(#clip242)\" cx=\"747.917\" cy=\"85.838\" r=\"14.4\" fill=\"#009af9\" fill-rule=\"evenodd\" fill-opacity=\"1\" stroke=\"#000000\" stroke-opacity=\"1\" stroke-width=\"3.2\"/>\n",
       "<circle clip-path=\"url(#clip242)\" cx=\"644.844\" cy=\"85.838\" r=\"14.4\" fill=\"#009af9\" fill-rule=\"evenodd\" fill-opacity=\"1\" stroke=\"#000000\" stroke-opacity=\"1\" stroke-width=\"3.2\"/>\n",
       "<circle clip-path=\"url(#clip242)\" cx=\"541.772\" cy=\"85.838\" r=\"14.4\" fill=\"#009af9\" fill-rule=\"evenodd\" fill-opacity=\"1\" stroke=\"#000000\" stroke-opacity=\"1\" stroke-width=\"3.2\"/>\n",
       "<circle clip-path=\"url(#clip242)\" cx=\"438.699\" cy=\"85.838\" r=\"14.4\" fill=\"#009af9\" fill-rule=\"evenodd\" fill-opacity=\"1\" stroke=\"#000000\" stroke-opacity=\"1\" stroke-width=\"3.2\"/>\n",
       "<circle clip-path=\"url(#clip242)\" cx=\"335.627\" cy=\"85.838\" r=\"14.4\" fill=\"#009af9\" fill-rule=\"evenodd\" fill-opacity=\"1\" stroke=\"#000000\" stroke-opacity=\"1\" stroke-width=\"3.2\"/>\n",
       "<circle clip-path=\"url(#clip242)\" cx=\"2294\" cy=\"343.621\" r=\"14.4\" fill=\"#e26f46\" fill-rule=\"evenodd\" fill-opacity=\"1\" stroke=\"#000000\" stroke-opacity=\"1\" stroke-width=\"3.2\"/>\n",
       "<circle clip-path=\"url(#clip242)\" cx=\"2190.93\" cy=\"601.403\" r=\"14.4\" fill=\"#e26f46\" fill-rule=\"evenodd\" fill-opacity=\"1\" stroke=\"#000000\" stroke-opacity=\"1\" stroke-width=\"3.2\"/>\n",
       "<circle clip-path=\"url(#clip242)\" cx=\"2087.86\" cy=\"859.186\" r=\"14.4\" fill=\"#e26f46\" fill-rule=\"evenodd\" fill-opacity=\"1\" stroke=\"#000000\" stroke-opacity=\"1\" stroke-width=\"3.2\"/>\n",
       "<circle clip-path=\"url(#clip242)\" cx=\"1984.79\" cy=\"1116.96\" r=\"14.4\" fill=\"#e26f46\" fill-rule=\"evenodd\" fill-opacity=\"1\" stroke=\"#000000\" stroke-opacity=\"1\" stroke-width=\"3.2\"/>\n",
       "<circle clip-path=\"url(#clip242)\" cx=\"1881.71\" cy=\"1372.3\" r=\"14.4\" fill=\"#e26f46\" fill-rule=\"evenodd\" fill-opacity=\"1\" stroke=\"#000000\" stroke-opacity=\"1\" stroke-width=\"3.2\"/>\n",
       "<circle clip-path=\"url(#clip242)\" cx=\"1778.64\" cy=\"1356.01\" r=\"14.4\" fill=\"#e26f46\" fill-rule=\"evenodd\" fill-opacity=\"1\" stroke=\"#000000\" stroke-opacity=\"1\" stroke-width=\"3.2\"/>\n",
       "<circle clip-path=\"url(#clip242)\" cx=\"1675.57\" cy=\"1216.35\" r=\"14.4\" fill=\"#e26f46\" fill-rule=\"evenodd\" fill-opacity=\"1\" stroke=\"#000000\" stroke-opacity=\"1\" stroke-width=\"3.2\"/>\n",
       "<circle clip-path=\"url(#clip242)\" cx=\"1572.5\" cy=\"1144.84\" r=\"14.4\" fill=\"#e26f46\" fill-rule=\"evenodd\" fill-opacity=\"1\" stroke=\"#000000\" stroke-opacity=\"1\" stroke-width=\"3.2\"/>\n",
       "<circle clip-path=\"url(#clip242)\" cx=\"1469.42\" cy=\"1058.77\" r=\"14.4\" fill=\"#e26f46\" fill-rule=\"evenodd\" fill-opacity=\"1\" stroke=\"#000000\" stroke-opacity=\"1\" stroke-width=\"3.2\"/>\n",
       "<circle clip-path=\"url(#clip242)\" cx=\"1366.35\" cy=\"998.683\" r=\"14.4\" fill=\"#e26f46\" fill-rule=\"evenodd\" fill-opacity=\"1\" stroke=\"#000000\" stroke-opacity=\"1\" stroke-width=\"3.2\"/>\n",
       "<circle clip-path=\"url(#clip242)\" cx=\"1263.28\" cy=\"998.683\" r=\"14.4\" fill=\"#e26f46\" fill-rule=\"evenodd\" fill-opacity=\"1\" stroke=\"#000000\" stroke-opacity=\"1\" stroke-width=\"3.2\"/>\n",
       "<circle clip-path=\"url(#clip242)\" cx=\"1160.21\" cy=\"685.85\" r=\"14.4\" fill=\"#e26f46\" fill-rule=\"evenodd\" fill-opacity=\"1\" stroke=\"#000000\" stroke-opacity=\"1\" stroke-width=\"3.2\"/>\n",
       "<circle clip-path=\"url(#clip242)\" cx=\"1057.13\" cy=\"537.901\" r=\"14.4\" fill=\"#e26f46\" fill-rule=\"evenodd\" fill-opacity=\"1\" stroke=\"#000000\" stroke-opacity=\"1\" stroke-width=\"3.2\"/>\n",
       "<circle clip-path=\"url(#clip242)\" cx=\"954.062\" cy=\"333.876\" r=\"14.4\" fill=\"#e26f46\" fill-rule=\"evenodd\" fill-opacity=\"1\" stroke=\"#000000\" stroke-opacity=\"1\" stroke-width=\"3.2\"/>\n",
       "<circle clip-path=\"url(#clip242)\" cx=\"850.989\" cy=\"485.053\" r=\"14.4\" fill=\"#e26f46\" fill-rule=\"evenodd\" fill-opacity=\"1\" stroke=\"#000000\" stroke-opacity=\"1\" stroke-width=\"3.2\"/>\n",
       "<circle clip-path=\"url(#clip242)\" cx=\"747.917\" cy=\"209.281\" r=\"14.4\" fill=\"#e26f46\" fill-rule=\"evenodd\" fill-opacity=\"1\" stroke=\"#000000\" stroke-opacity=\"1\" stroke-width=\"3.2\"/>\n",
       "<circle clip-path=\"url(#clip242)\" cx=\"644.844\" cy=\"85.838\" r=\"14.4\" fill=\"#e26f46\" fill-rule=\"evenodd\" fill-opacity=\"1\" stroke=\"#000000\" stroke-opacity=\"1\" stroke-width=\"3.2\"/>\n",
       "<circle clip-path=\"url(#clip242)\" cx=\"541.772\" cy=\"85.838\" r=\"14.4\" fill=\"#e26f46\" fill-rule=\"evenodd\" fill-opacity=\"1\" stroke=\"#000000\" stroke-opacity=\"1\" stroke-width=\"3.2\"/>\n",
       "<circle clip-path=\"url(#clip242)\" cx=\"438.699\" cy=\"85.838\" r=\"14.4\" fill=\"#e26f46\" fill-rule=\"evenodd\" fill-opacity=\"1\" stroke=\"#000000\" stroke-opacity=\"1\" stroke-width=\"3.2\"/>\n",
       "<circle clip-path=\"url(#clip242)\" cx=\"335.627\" cy=\"85.838\" r=\"14.4\" fill=\"#e26f46\" fill-rule=\"evenodd\" fill-opacity=\"1\" stroke=\"#000000\" stroke-opacity=\"1\" stroke-width=\"3.2\"/>\n",
       "<path clip-path=\"url(#clip240)\" d=\"M1829.89 248.219 L2283.56 248.219 L2283.56 92.6992 L1829.89 92.6992  Z\" fill=\"#ffffff\" fill-rule=\"evenodd\" fill-opacity=\"1\"/>\n",
       "<polyline clip-path=\"url(#clip240)\" style=\"stroke:#000000; stroke-linecap:round; stroke-linejoin:round; stroke-width:4; stroke-opacity:1; fill:none\" points=\"1829.89,248.219 2283.56,248.219 2283.56,92.6992 1829.89,92.6992 1829.89,248.219 \"/>\n",
       "<circle clip-path=\"url(#clip240)\" cx=\"1922.15\" cy=\"144.539\" r=\"20.48\" fill=\"#009af9\" fill-rule=\"evenodd\" fill-opacity=\"1\" stroke=\"#000000\" stroke-opacity=\"1\" stroke-width=\"4.55111\"/>\n",
       "<path clip-path=\"url(#clip240)\" d=\"M2030.91 125.801 L2030.91 129.343 L2026.84 129.343 Q2024.55 129.343 2023.64 130.268 Q2022.76 131.194 2022.76 133.602 L2022.76 135.893 L2029.78 135.893 L2029.78 139.204 L2022.76 139.204 L2022.76 161.819 L2018.48 161.819 L2018.48 139.204 L2014.41 139.204 L2014.41 135.893 L2018.48 135.893 L2018.48 134.088 Q2018.48 129.759 2020.5 127.792 Q2022.51 125.801 2026.88 125.801 L2030.91 125.801 Z\" fill=\"#000000\" fill-rule=\"nonzero\" fill-opacity=\"1\" /><path clip-path=\"url(#clip240)\" d=\"M2044.52 138.879 Q2041.1 138.879 2039.11 141.565 Q2037.12 144.227 2037.12 148.879 Q2037.12 153.532 2039.08 156.217 Q2041.07 158.879 2044.52 158.879 Q2047.93 158.879 2049.92 156.194 Q2051.91 153.509 2051.91 148.879 Q2051.91 144.273 2049.92 141.588 Q2047.93 138.879 2044.52 138.879 M2044.52 135.268 Q2050.08 135.268 2053.25 138.879 Q2056.42 142.491 2056.42 148.879 Q2056.42 155.245 2053.25 158.879 Q2050.08 162.49 2044.52 162.49 Q2038.94 162.49 2035.77 158.879 Q2032.63 155.245 2032.63 148.879 Q2032.63 142.491 2035.77 138.879 Q2038.94 135.268 2044.52 135.268 Z\" fill=\"#000000\" fill-rule=\"nonzero\" fill-opacity=\"1\" /><path clip-path=\"url(#clip240)\" d=\"M2078.5 139.875 Q2077.79 139.458 2076.93 139.273 Q2076.1 139.065 2075.08 139.065 Q2071.47 139.065 2069.52 141.426 Q2067.6 143.764 2067.6 148.162 L2067.6 161.819 L2063.32 161.819 L2063.32 135.893 L2067.6 135.893 L2067.6 139.921 Q2068.94 137.56 2071.1 136.426 Q2073.25 135.268 2076.33 135.268 Q2076.77 135.268 2077.3 135.338 Q2077.83 135.384 2078.48 135.5 L2078.5 139.875 Z\" fill=\"#000000\" fill-rule=\"nonzero\" fill-opacity=\"1\" /><path clip-path=\"url(#clip240)\" d=\"M2080.5 135.893 L2084.75 135.893 L2090.08 156.125 L2095.38 135.893 L2100.4 135.893 L2105.73 156.125 L2111.03 135.893 L2115.29 135.893 L2108.5 161.819 L2103.48 161.819 L2097.9 140.569 L2092.3 161.819 L2087.28 161.819 L2080.5 135.893 Z\" fill=\"#000000\" fill-rule=\"nonzero\" fill-opacity=\"1\" /><path clip-path=\"url(#clip240)\" d=\"M2133.53 148.787 Q2128.37 148.787 2126.37 149.967 Q2124.38 151.148 2124.38 153.995 Q2124.38 156.264 2125.87 157.606 Q2127.37 158.926 2129.94 158.926 Q2133.48 158.926 2135.61 156.426 Q2137.76 153.903 2137.76 149.736 L2137.76 148.787 L2133.53 148.787 M2142.02 147.028 L2142.02 161.819 L2137.76 161.819 L2137.76 157.884 Q2136.31 160.245 2134.13 161.379 Q2131.95 162.49 2128.81 162.49 Q2124.82 162.49 2122.46 160.268 Q2120.12 158.023 2120.12 154.273 Q2120.12 149.898 2123.04 147.676 Q2125.98 145.454 2131.79 145.454 L2137.76 145.454 L2137.76 145.037 Q2137.76 142.097 2135.82 140.5 Q2133.9 138.879 2130.4 138.879 Q2128.18 138.879 2126.07 139.412 Q2123.97 139.944 2122.02 141.009 L2122.02 137.074 Q2124.36 136.171 2126.56 135.731 Q2128.76 135.268 2130.84 135.268 Q2136.47 135.268 2139.25 138.185 Q2142.02 141.102 2142.02 147.028 Z\" fill=\"#000000\" fill-rule=\"nonzero\" fill-opacity=\"1\" /><path clip-path=\"url(#clip240)\" d=\"M2165.82 139.875 Q2165.1 139.458 2164.25 139.273 Q2163.41 139.065 2162.39 139.065 Q2158.78 139.065 2156.84 141.426 Q2154.92 143.764 2154.92 148.162 L2154.92 161.819 L2150.63 161.819 L2150.63 135.893 L2154.92 135.893 L2154.92 139.921 Q2156.26 137.56 2158.41 136.426 Q2160.56 135.268 2163.64 135.268 Q2164.08 135.268 2164.62 135.338 Q2165.15 135.384 2165.8 135.5 L2165.82 139.875 Z\" fill=\"#000000\" fill-rule=\"nonzero\" fill-opacity=\"1\" /><path clip-path=\"url(#clip240)\" d=\"M2186.51 139.829 L2186.51 125.801 L2190.77 125.801 L2190.77 161.819 L2186.51 161.819 L2186.51 157.93 Q2185.17 160.245 2183.11 161.379 Q2181.07 162.49 2178.2 162.49 Q2173.5 162.49 2170.54 158.74 Q2167.6 154.991 2167.6 148.879 Q2167.6 142.768 2170.54 139.018 Q2173.5 135.268 2178.2 135.268 Q2181.07 135.268 2183.11 136.403 Q2185.17 137.514 2186.51 139.829 M2172 148.879 Q2172 153.578 2173.92 156.264 Q2175.87 158.926 2179.24 158.926 Q2182.62 158.926 2184.57 156.264 Q2186.51 153.578 2186.51 148.879 Q2186.51 144.18 2184.57 141.518 Q2182.62 138.833 2179.24 138.833 Q2175.87 138.833 2173.92 141.518 Q2172 144.18 2172 148.879 Z\" fill=\"#000000\" fill-rule=\"nonzero\" fill-opacity=\"1\" /><circle clip-path=\"url(#clip240)\" cx=\"1922.15\" cy=\"196.379\" r=\"20.48\" fill=\"#e26f46\" fill-rule=\"evenodd\" fill-opacity=\"1\" stroke=\"#000000\" stroke-opacity=\"1\" stroke-width=\"4.55111\"/>\n",
       "<path clip-path=\"url(#clip240)\" d=\"M2032.83 188.497 L2032.83 192.525 Q2031.03 191.599 2029.08 191.136 Q2027.14 190.673 2025.06 190.673 Q2021.88 190.673 2020.29 191.645 Q2018.71 192.618 2018.71 194.562 Q2018.71 196.044 2019.85 196.9 Q2020.98 197.733 2024.41 198.497 L2025.87 198.821 Q2030.4 199.794 2032.3 201.576 Q2034.22 203.335 2034.22 206.506 Q2034.22 210.118 2031.35 212.224 Q2028.51 214.33 2023.51 214.33 Q2021.42 214.33 2019.15 213.914 Q2016.91 213.52 2014.41 212.71 L2014.41 208.312 Q2016.77 209.539 2019.06 210.164 Q2021.35 210.766 2023.6 210.766 Q2026.61 210.766 2028.23 209.747 Q2029.85 208.706 2029.85 206.831 Q2029.85 205.094 2028.67 204.168 Q2027.51 203.243 2023.55 202.386 L2022.07 202.039 Q2018.11 201.206 2016.35 199.493 Q2014.59 197.756 2014.59 194.747 Q2014.59 191.09 2017.19 189.099 Q2019.78 187.108 2024.55 187.108 Q2026.91 187.108 2028.99 187.456 Q2031.07 187.803 2032.83 188.497 Z\" fill=\"#000000\" fill-rule=\"nonzero\" fill-opacity=\"1\" /><path clip-path=\"url(#clip240)\" d=\"M2051.79 216.067 Q2049.99 220.696 2048.27 222.108 Q2046.56 223.52 2043.69 223.52 L2040.29 223.52 L2040.29 219.955 L2042.79 219.955 Q2044.55 219.955 2045.52 219.122 Q2046.49 218.289 2047.67 215.187 L2048.44 213.243 L2037.95 187.733 L2042.46 187.733 L2050.57 208.011 L2058.67 187.733 L2063.18 187.733 L2051.79 216.067 Z\" fill=\"#000000\" fill-rule=\"nonzero\" fill-opacity=\"1\" /><path clip-path=\"url(#clip240)\" d=\"M2089.25 192.71 Q2090.84 189.84 2093.06 188.474 Q2095.29 187.108 2098.3 187.108 Q2102.35 187.108 2104.55 189.956 Q2106.75 192.78 2106.75 198.011 L2106.75 213.659 L2102.46 213.659 L2102.46 198.15 Q2102.46 194.423 2101.14 192.618 Q2099.82 190.812 2097.12 190.812 Q2093.81 190.812 2091.88 193.011 Q2089.96 195.21 2089.96 199.006 L2089.96 213.659 L2085.68 213.659 L2085.68 198.15 Q2085.68 194.4 2084.36 192.618 Q2083.04 190.812 2080.29 190.812 Q2077.02 190.812 2075.1 193.034 Q2073.18 195.233 2073.18 199.006 L2073.18 213.659 L2068.9 213.659 L2068.9 187.733 L2073.18 187.733 L2073.18 191.761 Q2074.64 189.377 2076.68 188.243 Q2078.71 187.108 2081.51 187.108 Q2084.34 187.108 2086.31 188.544 Q2088.3 189.979 2089.25 192.71 Z\" fill=\"#000000\" fill-rule=\"nonzero\" fill-opacity=\"1\" /><path clip-path=\"url(#clip240)\" d=\"M2135.43 192.71 Q2137.02 189.84 2139.25 188.474 Q2141.47 187.108 2144.48 187.108 Q2148.53 187.108 2150.73 189.956 Q2152.93 192.78 2152.93 198.011 L2152.93 213.659 L2148.64 213.659 L2148.64 198.15 Q2148.64 194.423 2147.32 192.618 Q2146 190.812 2143.3 190.812 Q2139.99 190.812 2138.06 193.011 Q2136.14 195.21 2136.14 199.006 L2136.14 213.659 L2131.86 213.659 L2131.86 198.15 Q2131.86 194.4 2130.54 192.618 Q2129.22 190.812 2126.47 190.812 Q2123.2 190.812 2121.28 193.034 Q2119.36 195.233 2119.36 199.006 L2119.36 213.659 L2115.08 213.659 L2115.08 187.733 L2119.36 187.733 L2119.36 191.761 Q2120.82 189.377 2122.86 188.243 Q2124.89 187.108 2127.69 187.108 Q2130.52 187.108 2132.49 188.544 Q2134.48 189.979 2135.43 192.71 Z\" fill=\"#000000\" fill-rule=\"nonzero\" fill-opacity=\"1\" /><path clip-path=\"url(#clip240)\" d=\"M2183.6 199.631 L2183.6 201.715 L2164.01 201.715 Q2164.29 206.113 2166.65 208.428 Q2169.04 210.719 2173.27 210.719 Q2175.73 210.719 2178.02 210.118 Q2180.33 209.516 2182.6 208.312 L2182.6 212.34 Q2180.31 213.312 2177.9 213.821 Q2175.5 214.33 2173.02 214.33 Q2166.81 214.33 2163.18 210.719 Q2159.57 207.108 2159.57 200.951 Q2159.57 194.585 2163 190.858 Q2166.44 187.108 2172.28 187.108 Q2177.51 187.108 2180.54 190.488 Q2183.6 193.844 2183.6 199.631 M2179.34 198.381 Q2179.29 194.886 2177.37 192.803 Q2175.47 190.719 2172.32 190.719 Q2168.76 190.719 2166.61 192.733 Q2164.48 194.747 2164.15 198.405 L2179.34 198.381 Z\" fill=\"#000000\" fill-rule=\"nonzero\" fill-opacity=\"1\" /><path clip-path=\"url(#clip240)\" d=\"M2194.8 180.372 L2194.8 187.733 L2203.57 187.733 L2203.57 191.044 L2194.8 191.044 L2194.8 205.118 Q2194.8 208.289 2195.66 209.192 Q2196.54 210.094 2199.2 210.094 L2203.57 210.094 L2203.57 213.659 L2199.2 213.659 Q2194.27 213.659 2192.39 211.83 Q2190.52 209.979 2190.52 205.118 L2190.52 191.044 L2187.39 191.044 L2187.39 187.733 L2190.52 187.733 L2190.52 180.372 L2194.8 180.372 Z\" fill=\"#000000\" fill-rule=\"nonzero\" fill-opacity=\"1\" /><path clip-path=\"url(#clip240)\" d=\"M2224.2 191.715 Q2223.48 191.298 2222.62 191.113 Q2221.79 190.905 2220.77 190.905 Q2217.16 190.905 2215.22 193.266 Q2213.3 195.604 2213.3 200.002 L2213.3 213.659 L2209.01 213.659 L2209.01 187.733 L2213.3 187.733 L2213.3 191.761 Q2214.64 189.4 2216.79 188.266 Q2218.94 187.108 2222.02 187.108 Q2222.46 187.108 2222.99 187.178 Q2223.53 187.224 2224.18 187.34 L2224.2 191.715 Z\" fill=\"#000000\" fill-rule=\"nonzero\" fill-opacity=\"1\" /><path clip-path=\"url(#clip240)\" d=\"M2228.67 187.733 L2232.93 187.733 L2232.93 213.659 L2228.67 213.659 L2228.67 187.733 M2228.67 177.641 L2232.93 177.641 L2232.93 183.034 L2228.67 183.034 L2228.67 177.641 Z\" fill=\"#000000\" fill-rule=\"nonzero\" fill-opacity=\"1\" /><path clip-path=\"url(#clip240)\" d=\"M2260.49 188.729 L2260.49 192.71 Q2258.69 191.715 2256.86 191.229 Q2255.05 190.719 2253.2 190.719 Q2249.06 190.719 2246.77 193.358 Q2244.48 195.974 2244.48 200.719 Q2244.48 205.465 2246.77 208.104 Q2249.06 210.719 2253.2 210.719 Q2255.05 210.719 2256.86 210.233 Q2258.69 209.724 2260.49 208.729 L2260.49 212.664 Q2258.71 213.497 2256.79 213.914 Q2254.89 214.33 2252.74 214.33 Q2246.88 214.33 2243.43 210.65 Q2239.99 206.969 2239.99 200.719 Q2239.99 194.377 2243.46 190.743 Q2246.95 187.108 2253.02 187.108 Q2254.99 187.108 2256.86 187.525 Q2258.74 187.919 2260.49 188.729 Z\" fill=\"#000000\" fill-rule=\"nonzero\" fill-opacity=\"1\" /></svg>\n"
      ]
     },
     "execution_count": 5,
     "metadata": {},
     "output_type": "execute_result"
    }
   ],
   "source": [
    "approxder1(func,x,delta)=(func(x+delta)-func(x))/(delta)\n",
    "approxder2(func,x,delta)=(func(x+delta)-func(x-delta))/(2*delta)\n",
    "deltalist=[(10.)^-s for s in 1:20]\n",
    "derlist1=[abs(approxder1(f,1.,delta)-dfdx(1)) for delta in deltalist]\n",
    "derlist2=[abs(approxder2(f,1.,delta)-dfdx(1)) for delta in deltalist]\n",
    "scatter(deltalist,derlist1,xscale=:log10,yscale=:log10,xlabel=\"δ\",ylabel=\"error in derivative\",label=\"forward\")\n",
    "scatter!(deltalist,derlist2,label=\"symmetric\")"
   ]
  },
  {
   "cell_type": "markdown",
   "id": "f03c19a8-e363-4363-955a-58aeb5fd5f3e",
   "metadata": {},
   "source": [
    "Indeed, the symmetric derivative formula is orders of magnitude better than the forward formula, but the error is actually non-monotonic in the difference $\\delta$.  The reason for this is round-off error.  There are tricks to mitigate this error, for example"
   ]
  },
  {
   "cell_type": "code",
   "execution_count": 6,
   "id": "4390b869-0aeb-493a-b286-dc9f5355d60c",
   "metadata": {},
   "outputs": [
    {
     "data": {
      "text/plain": [
       "20-element Vector{Float64}:\n",
       "   0.009999999999999454\n",
       "   9.999999999177334e-5\n",
       "   9.999999162069173e-7\n",
       "   1.000088900582341e-8\n",
       "   1.0547118733938987e-10\n",
       "   1.6653345369377348e-10\n",
       "   1.6653345369377348e-9\n",
       "   5.551115123125783e-9\n",
       "   5.551114967694559e-8\n",
       "   0.0\n",
       "   0.0\n",
       "   5.5509297807398994e-5\n",
       "   0.0005552470849528035\n",
       "   0.011111111111111072\n",
       "   0.052631578947368474\n",
       "   1.0\n",
       " NaN\n",
       " NaN\n",
       " NaN\n",
       " NaN"
      ]
     },
     "execution_count": 6,
     "metadata": {},
     "output_type": "execute_result"
    }
   ],
   "source": [
    "function approxder3(func,x,delta)\n",
    "    x2=x+delta\n",
    "    x1=x-delta\n",
    "    return (func(x2)-func(x1))/(x2-x1)\n",
    "end\n",
    "\n",
    "derlist3=[abs(approxder3(f,1.,delta)-dfdx(1)) for delta in deltalist]\n",
    "derlist3"
   ]
  },
  {
   "cell_type": "markdown",
   "id": "82871ebf-077d-4511-9117-514deb8146df",
   "metadata": {},
   "source": [
    "As you can see, we actually got the exact result (to machine precision) with that trick, with the appropriate $\\delta$.  The reason this trick helped is that with round-off error $(x+\\delta)-(x-\\delta)$ is not exactly equal to $2\\delta$.  The `NaN`'s in the end mean \"Not a Number\".  That came from dividing by zero -- for those really small $\\delta$'s $x+\\delta=x-\\delta$. "
   ]
  },
  {
   "cell_type": "markdown",
   "id": "e392baa3-3241-46da-aa7b-9311aba0543b",
   "metadata": {},
   "source": [
    "The problem with using finite diferences for derivatives is that it is expensive.  We needed 2 function evaluations to approximate the derivative.  If we have a function of $N$ variables, we would need $2*N$ evaluations to find the gradient. "
   ]
  },
  {
   "cell_type": "markdown",
   "id": "840e807f-f1bf-4a11-916c-802895e3b2d4",
   "metadata": {},
   "source": [
    "You will find code out there that uses finite differences to approximate derivatives.  The modern solution, however, is *Automatic Differentiation*, where we algorithmically step through a program, calculating the derivatives as we go."
   ]
  },
  {
   "cell_type": "markdown",
   "id": "dfdf6f57-cd34-4f29-bbc4-93ada8006c55",
   "metadata": {},
   "source": [
    "There are two flavors of Automatic Differentiation:  *Forward* and *backward*.  I'll mainly focus on the Forward method in this lecture."
   ]
  },
  {
   "cell_type": "markdown",
   "id": "69df1c79-ba73-48cc-a50c-f1eabdd60007",
   "metadata": {},
   "source": [
    "## Dispatch, methods, types and overloading"
   ]
  },
  {
   "cell_type": "markdown",
   "id": "be4010f3-2675-4502-b6e9-26d6813e1a7c",
   "metadata": {},
   "source": [
    "Every object in any programming language has a type"
   ]
  },
  {
   "cell_type": "code",
   "execution_count": 7,
   "id": "461b53b6-d58f-4b29-876d-bd1aed16e554",
   "metadata": {},
   "outputs": [
    {
     "name": "stdout",
     "output_type": "stream",
     "text": [
      "typeof(1.2) = Float64\n",
      "typeof(1) = Int64\n",
      "typeof(sin) = typeof(sin)\n",
      "typeof([1, 2, 3]) = Vector{Int64}\n",
      "typeof(1:5) = UnitRange{Int64}\n"
     ]
    }
   ],
   "source": [
    "@show typeof(1.2)\n",
    "@show typeof(1)\n",
    "@show typeof(sin)\n",
    "@show typeof([1,2,3])\n",
    "@show typeof(1:5);"
   ]
  },
  {
   "cell_type": "markdown",
   "id": "c33952f5-380a-485e-867d-633ac84f916e",
   "metadata": {},
   "source": [
    "Julia combines features of dynamically typed languages (like Python) and statically typed languages (like C).  So far we have essentially been treating it as if it is solely dynamically typed.  We are, now, going to take advantage of the fact that we can make functions (called `methods`) which behave differently, depending on the type of the object which they are called with.  This programming strategy is called *multiple dispatch*.  For example, here is a function which returns `1` when called with an integer, and `0` if called by a floating point number. "
   ]
  },
  {
   "cell_type": "code",
   "execution_count": 8,
   "id": "eceb11f8-0ee9-4122-90c1-12ec36b02728",
   "metadata": {},
   "outputs": [
    {
     "data": {
      "text/plain": [
       "real_or_int (generic function with 2 methods)"
      ]
     },
     "execution_count": 8,
     "metadata": {},
     "output_type": "execute_result"
    }
   ],
   "source": [
    "real_or_int(x::Int64)=1\n",
    "real_or_int(x::Float64)=0"
   ]
  },
  {
   "cell_type": "code",
   "execution_count": 9,
   "id": "881910be-974a-414c-a49c-f9ca62d08b65",
   "metadata": {},
   "outputs": [
    {
     "name": "stdout",
     "output_type": "stream",
     "text": [
      "real_or_int(1.2) = 0\n",
      "real_or_int(3) = 1\n"
     ]
    }
   ],
   "source": [
    "@show real_or_int(1.2)\n",
    "@show real_or_int(3);"
   ]
  },
  {
   "cell_type": "markdown",
   "id": "6c6a9f49-75a4-41c1-9300-10055a70d3ee",
   "metadata": {},
   "source": [
    "This is particularly useful when defining our own data types.  It allows us to overload the standard arithmetic operations:"
   ]
  },
  {
   "cell_type": "code",
   "execution_count": 10,
   "id": "2627659e-d32d-43f5-9c5b-d935ef409052",
   "metadata": {},
   "outputs": [],
   "source": [
    "struct quaternion\n",
    "    a\n",
    "    i\n",
    "    j\n",
    "    k\n",
    "end"
   ]
  },
  {
   "cell_type": "code",
   "execution_count": 11,
   "id": "d87e80bd-18a2-4f7c-a012-474e28453bfc",
   "metadata": {},
   "outputs": [
    {
     "data": {
      "text/plain": [
       "quaternion(1, 2, 3, 4)"
      ]
     },
     "execution_count": 11,
     "metadata": {},
     "output_type": "execute_result"
    }
   ],
   "source": [
    "q=quaternion(1,2,3,4)"
   ]
  },
  {
   "cell_type": "code",
   "execution_count": 12,
   "id": "67e8ea6e-3283-4339-b36b-fb48d701c2f1",
   "metadata": {},
   "outputs": [
    {
     "data": {
      "text/plain": [
       "4"
      ]
     },
     "execution_count": 12,
     "metadata": {},
     "output_type": "execute_result"
    }
   ],
   "source": [
    "q.k"
   ]
  },
  {
   "cell_type": "code",
   "execution_count": 13,
   "id": "55232b9d-7838-4bae-9944-497a1aaa69dc",
   "metadata": {},
   "outputs": [],
   "source": [
    "struct quaternion\n",
    "    a\n",
    "    i\n",
    "    j\n",
    "    k\n",
    "end\n",
    "\n",
    "Base.:+(a::quaternion,b::quaternion)=quaternion(a.a+b.a,a.i+b.i,a.j+b.j,a.k+b.k)\n",
    "Base.:-(a::quaternion,b::quaternion)=quaternion(a.a-b.a,a.i-b.i,a.j-b.j,a.k-b.k)\n",
    "Base.:*(a::quaternion,b::quaternion)=quaternion(\n",
    "    a.a*b.a-a.i*b.i-a.k*b.k,\n",
    "    a.a*b.i+a.i*b.a+a.j*b.k-a.k*b.j,\n",
    "    a.a*b.j+a.j*b.a+ a.k*b.i-a.i*b.k,\n",
    "    a.a*b.k+a.k*b.a+a.i*b.j-a.j*b.i)\n",
    "\n",
    "function Base.show(io::IO,::MIME\"text/latex\",x::quaternion)\n",
    "    outputstring=\"\\$(\"*string(x.a)*\") + (\"*string(x.i)*\")i +(\"*string(x.j)*\")j +(\"*string(x.k)*\")k\\$\"\n",
    "    print(io,outputstring)\n",
    "end"
   ]
  },
  {
   "cell_type": "code",
   "execution_count": 14,
   "id": "383b1d1f-3315-4f73-9159-a2ac8460dced",
   "metadata": {},
   "outputs": [
    {
     "data": {
      "text/latex": [
       "$(0) + (2)i +(0)j +(0)k$"
      ],
      "text/plain": [
       "quaternion(0, 2, 0, 0)"
      ]
     },
     "execution_count": 14,
     "metadata": {},
     "output_type": "execute_result"
    }
   ],
   "source": [
    "quaternion(1,1,0,0)*quaternion(1,1,0,0)"
   ]
  },
  {
   "cell_type": "code",
   "execution_count": 15,
   "id": "7b323972-b47f-46e7-a530-b21a16dc7bd7",
   "metadata": {},
   "outputs": [
    {
     "data": {
      "text/latex": [
       "$(2) + (2)i +(0)j +(2)k$"
      ],
      "text/plain": [
       "quaternion(2, 2, 0, 2)"
      ]
     },
     "execution_count": 15,
     "metadata": {},
     "output_type": "execute_result"
    }
   ],
   "source": [
    "quaternion(1,1,0,0)+quaternion(1,1,0,2)"
   ]
  },
  {
   "cell_type": "code",
   "execution_count": 16,
   "id": "a0d51ac2-6167-47d7-ac40-ddff6fe1dde3",
   "metadata": {},
   "outputs": [
    {
     "data": {
      "text/plain": [
       "0 + 2im"
      ]
     },
     "execution_count": 16,
     "metadata": {},
     "output_type": "execute_result"
    }
   ],
   "source": [
    "(1+1im)*(1+1im)"
   ]
  },
  {
   "cell_type": "markdown",
   "id": "a1d47351-0f2d-4b01-b8cf-c006d7a495cc",
   "metadata": {},
   "source": [
    "## Forward Automatic Differentiation"
   ]
  },
  {
   "cell_type": "markdown",
   "id": "6d132c6e-b58f-4e8e-97e6-87212e6255e4",
   "metadata": {},
   "source": [
    "We now introduce `dual` numbers, which are going to keep track of both their value, and their derivative with respect to `x`."
   ]
  },
  {
   "cell_type": "code",
   "execution_count": 18,
   "id": "6374a776-59b8-4f29-b43d-6266532ed556",
   "metadata": {},
   "outputs": [],
   "source": [
    "struct dual\n",
    "    val\n",
    "    deriv\n",
    "end"
   ]
  },
  {
   "cell_type": "markdown",
   "id": "2d2b81d1-c850-45da-ad2b-bd1454f14be7",
   "metadata": {},
   "source": [
    "We then teach the dual numbers how to update non only the value, but also the derivative.  For example,\n",
    "\\begin{equation}\n",
    "\\frac{d}{dx} (2*y)=2*\\frac{dy}{dx}\n",
    "\\end{equation}"
   ]
  },
  {
   "cell_type": "code",
   "execution_count": 19,
   "id": "7da2410b-bb87-4178-a910-e7677bf7b31e",
   "metadata": {},
   "outputs": [],
   "source": [
    "Base.:*(a::dual,b)=dual(a.val*b,a.deriv*b)\n",
    "Base.:*(b,a::dual)=dual(b*a.val,b*a.deriv)"
   ]
  },
  {
   "cell_type": "code",
   "execution_count": 23,
   "id": "0cb74cbb-e8f9-4b86-9774-85bc14a85763",
   "metadata": {},
   "outputs": [
    {
     "data": {
      "text/plain": [
       "dual(4.0, 2.0)"
      ]
     },
     "execution_count": 23,
     "metadata": {},
     "output_type": "execute_result"
    }
   ],
   "source": [
    "x=dual(2.,1.)\n",
    "2*x"
   ]
  },
  {
   "cell_type": "markdown",
   "id": "ae566a64-df35-4911-9f02-3668f7aefef8",
   "metadata": {},
   "source": [
    "We then introduce the product rule\n",
    "\\begin{equation}\n",
    "\\frac{d}{dx}(y*z)=y*\\frac{dz}{dx}+\\frac{dy}{dx}*z\n",
    "\\end{equation}"
   ]
  },
  {
   "cell_type": "code",
   "execution_count": 21,
   "id": "ba753e4b-64e7-46f8-b80b-3782f4c072f6",
   "metadata": {},
   "outputs": [],
   "source": [
    "Base.:*(a::dual,b::dual)=dual(a.val*b.val,a.deriv*b.val+a.val*b.deriv)"
   ]
  },
  {
   "cell_type": "code",
   "execution_count": 24,
   "id": "431ea39b-6a3e-4221-9c29-747f1671746b",
   "metadata": {},
   "outputs": [
    {
     "data": {
      "text/plain": [
       "dual(4.0, 4.0)"
      ]
     },
     "execution_count": 24,
     "metadata": {},
     "output_type": "execute_result"
    }
   ],
   "source": [
    "x*x"
   ]
  },
  {
   "cell_type": "markdown",
   "id": "b616a4d2-6f60-44d4-89de-b3b179aa28d2",
   "metadata": {},
   "source": [
    "Finally we need to deal with addition and subtraction"
   ]
  },
  {
   "cell_type": "code",
   "execution_count": 25,
   "id": "2cf5562c-709a-4714-8c6e-cbc375b42c01",
   "metadata": {},
   "outputs": [],
   "source": [
    "Base.:+(a::dual,b)=dual(a.val+b,a.deriv)\n",
    "Base.:+(b,a::dual)=dual(b+a.val,a.deriv)\n",
    "Base.:+(a::dual,b::dual)=dual(a.val+b.val,a.deriv+b.deriv)\n",
    "\n",
    "Base.:-(a::dual,b)=dual(a.val-b,a.deriv)\n",
    "Base.:-(b,a::dual)=dual(b-a.val,-a.deriv)\n",
    "Base.:-(a::dual,b::dual)=dual(a.val-b.val,a.deriv-b.deriv)"
   ]
  },
  {
   "cell_type": "code",
   "execution_count": null,
   "id": "d26072f1-61b9-4312-bddd-ee33c1ee78a5",
   "metadata": {},
   "outputs": [],
   "source": [
    "f(x)=(x+1)*x*(x-2)"
   ]
  },
  {
   "cell_type": "code",
   "execution_count": 26,
   "id": "8a7589d2-269e-4c05-b721-8c836ea8b0f3",
   "metadata": {},
   "outputs": [
    {
     "name": "stdout",
     "output_type": "stream",
     "text": [
      "f(dual(x, 1)) = dual(0.0, 3.0)\n",
      "         f(x) = 0.0\n",
      "      dfdx(x) = 3.0\n",
      "***************************************************************\n",
      "f(dual(x, 1)) = dual(0.26099999999999995, 2.23)\n",
      "         f(x) = 0.26099999999999995\n",
      "      dfdx(x) = 2.2300000000000004\n",
      "***************************************************************\n",
      "f(dual(x, 1)) = dual(0.4479999999999999, 1.5200000000000002)\n",
      "         f(x) = 0.4479999999999999\n",
      "      dfdx(x) = 1.5200000000000005\n",
      "***************************************************************\n",
      "f(dual(x, 1)) = dual(0.5670000000000001, 0.8699999999999999)\n",
      "         f(x) = 0.5670000000000001\n",
      "      dfdx(x) = 0.8699999999999997\n",
      "***************************************************************\n",
      "f(dual(x, 1)) = dual(0.624, 0.2799999999999999)\n",
      "         f(x) = 0.624\n",
      "      dfdx(x) = 0.28000000000000025\n",
      "***************************************************************\n",
      "f(dual(x, 1)) = dual(0.625, -0.25)\n",
      "         f(x) = 0.625\n",
      "      dfdx(x) = -0.25\n",
      "***************************************************************\n",
      "f(dual(x, 1)) = dual(0.576, -0.7199999999999999)\n",
      "         f(x) = 0.576\n",
      "      dfdx(x) = -0.7199999999999998\n",
      "***************************************************************\n",
      "f(dual(x, 1)) = dual(0.48299999999999993, -1.13)\n",
      "         f(x) = 0.48299999999999993\n",
      "      dfdx(x) = -1.13\n",
      "***************************************************************\n",
      "f(dual(x, 1)) = dual(0.3520000000000001, -1.4800000000000004)\n",
      "         f(x) = 0.3520000000000001\n",
      "      dfdx(x) = -1.48\n",
      "***************************************************************\n",
      "f(dual(x, 1)) = dual(0.18900000000000003, -1.7700000000000002)\n",
      "         f(x) = 0.18900000000000003\n",
      "      dfdx(x) = -1.77\n",
      "***************************************************************\n",
      "f(dual(x, 1)) = dual(-0.0, -2.0)\n",
      "         f(x) = -0.0\n",
      "      dfdx(x) = -2.0\n",
      "***************************************************************\n",
      "f(dual(x, 1)) = dual(-0.20900000000000002, -2.1700000000000004)\n",
      "         f(x) = -0.20900000000000002\n",
      "      dfdx(x) = -2.17\n",
      "***************************************************************\n",
      "f(dual(x, 1)) = dual(-0.432, -2.2800000000000002)\n",
      "         f(x) = -0.432\n",
      "      dfdx(x) = -2.2800000000000002\n",
      "***************************************************************\n",
      "f(dual(x, 1)) = dual(-0.663, -2.33)\n",
      "         f(x) = -0.663\n",
      "      dfdx(x) = -2.33\n",
      "***************************************************************\n",
      "f(dual(x, 1)) = dual(-0.8959999999999999, -2.32)\n",
      "         f(x) = -0.8959999999999999\n",
      "      dfdx(x) = -2.32\n",
      "***************************************************************\n",
      "f(dual(x, 1)) = dual(-1.125, -2.25)\n",
      "         f(x) = -1.125\n",
      "      dfdx(x) = -2.25\n",
      "***************************************************************\n",
      "f(dual(x, 1)) = dual(-1.3439999999999999, -2.12)\n",
      "         f(x) = -1.3439999999999999\n",
      "      dfdx(x) = -2.12\n",
      "***************************************************************\n",
      "f(dual(x, 1)) = dual(-1.547, -1.9300000000000002)\n",
      "         f(x) = -1.547\n",
      "      dfdx(x) = -1.9300000000000002\n",
      "***************************************************************\n",
      "f(dual(x, 1)) = dual(-1.7280000000000002, -1.68)\n",
      "         f(x) = -1.7280000000000002\n",
      "      dfdx(x) = -1.6799999999999997\n",
      "***************************************************************\n",
      "f(dual(x, 1)) = dual(-1.881, -1.37)\n",
      "         f(x) = -1.881\n",
      "      dfdx(x) = -1.3699999999999999\n",
      "***************************************************************\n",
      "f(dual(x, 1)) = dual(-2.0, -1.0)\n",
      "         f(x) = -2.0\n",
      "      dfdx(x) = -1.0\n",
      "***************************************************************\n"
     ]
    }
   ],
   "source": [
    "for x in -1:0.1:1\n",
    "    @show f(dual(x,1))\n",
    "    print(\"         \")\n",
    "    @show f(x)\n",
    "    print(\"      \")\n",
    "    @show dfdx(x)\n",
    "    println(\"***************************************************************\")\n",
    "end"
   ]
  },
  {
   "cell_type": "markdown",
   "id": "5bcc5fa7-818c-4d84-ac57-a5bca9b7d04d",
   "metadata": {},
   "source": [
    "To better see what is going on under the hood, we can add some logging"
   ]
  },
  {
   "cell_type": "code",
   "execution_count": 27,
   "id": "83fb48e2-dc8f-4a21-9d30-03315849d4ac",
   "metadata": {},
   "outputs": [
    {
     "data": {
      "text/plain": [
       "ConsoleLogger(IJulia.IJuliaStdio{Base.PipeEndpoint}(IOContext(Base.PipeEndpoint(RawFD(45) open, 0 bytes waiting))), Info, Logging.default_metafmt, true, 0, Dict{Any, Int64}())"
      ]
     },
     "execution_count": 27,
     "metadata": {},
     "output_type": "execute_result"
    }
   ],
   "source": [
    "using Logging\n",
    "default_logger=global_logger()\n",
    "debug_logger=ConsoleLogger(stderr, Logging.Debug); # set up logger\n",
    "global_logger(debug_logger)"
   ]
  },
  {
   "cell_type": "code",
   "execution_count": 28,
   "id": "58a4c426-6bd3-4a85-9482-097ba32d9044",
   "metadata": {},
   "outputs": [],
   "source": [
    "function Base.:*(a::dual,b)\n",
    "    result=dual(a.val*b,a.deriv*b)\n",
    "    @debug \"a*b\" a b result\n",
    "    return result\n",
    "end\n",
    "\n",
    "function Base.:*(b,a::dual)\n",
    "    result=dual(b*a.val,b*a.deriv)\n",
    "    @debug \"b*a\" b a result\n",
    "    return result\n",
    "end\n",
    "\n",
    "function Base.:*(a::dual,b::dual)\n",
    "    result=dual(a.val*b.val,a.deriv*b.val+a.val*b.deriv)\n",
    "    @debug \"a*b\" a b result\n",
    "    return result\n",
    "end\n",
    "\n",
    "function Base.:+(a::dual,b)\n",
    "    result=dual(a.val+b,a.deriv)\n",
    "    @debug \"a+b\" a b result\n",
    "    return result\n",
    "end\n",
    "\n",
    "function Base.:+(b,a::dual)\n",
    "    result=dual(b+a.val,a.deriv)\n",
    "    @debug \"b+a\" b a result\n",
    "    return result\n",
    "end\n",
    "\n",
    "function Base.:+(a::dual,b::dual)\n",
    "    result=dual(a.val+b.val,a.deriv+b.deriv)\n",
    "    @debug \"a+b\" a b result\n",
    "    return result\n",
    "end\n",
    "    \n",
    "function Base.:-(a::dual,b)\n",
    "    result=dual(a.val-b,a.deriv)\n",
    "    @debug \"a-b\" a b result\n",
    "    return result\n",
    "end\n",
    "\n",
    "function Base.:-(b,a::dual)\n",
    "    result=dual(b-a.val,-a.deriv)\n",
    "    @debug \"b-a\" b a result\n",
    "    return result\n",
    "end\n",
    "\n",
    "function Base.:-(a::dual,b::dual)\n",
    "    result=dual(a.val-b.val,a.deriv-b.deriv)\n",
    "    @debug \"a-b\" a b result\n",
    "    return result\n",
    "end"
   ]
  },
  {
   "cell_type": "code",
   "execution_count": 29,
   "id": "c9780038-8e4c-4b29-acc1-0939f2225af5",
   "metadata": {},
   "outputs": [
    {
     "name": "stderr",
     "output_type": "stream",
     "text": [
      "\u001b[34m\u001b[1m┌ \u001b[22m\u001b[39m\u001b[34m\u001b[1mDebug: \u001b[22m\u001b[39ma+b\n",
      "\u001b[34m\u001b[1m│ \u001b[22m\u001b[39m  a = dual(1, 1)\n",
      "\u001b[34m\u001b[1m│ \u001b[22m\u001b[39m  b = 1\n",
      "\u001b[34m\u001b[1m│ \u001b[22m\u001b[39m  result = dual(2, 1)\n",
      "\u001b[34m\u001b[1m└ \u001b[22m\u001b[39m\u001b[90m@ Main In[28]:21\u001b[39m\n",
      "\u001b[34m\u001b[1m┌ \u001b[22m\u001b[39m\u001b[34m\u001b[1mDebug: \u001b[22m\u001b[39ma-b\n",
      "\u001b[34m\u001b[1m│ \u001b[22m\u001b[39m  a = dual(1, 1)\n",
      "\u001b[34m\u001b[1m│ \u001b[22m\u001b[39m  b = 2\n",
      "\u001b[34m\u001b[1m│ \u001b[22m\u001b[39m  result = dual(-1, 1)\n",
      "\u001b[34m\u001b[1m└ \u001b[22m\u001b[39m\u001b[90m@ Main In[28]:39\u001b[39m\n",
      "\u001b[34m\u001b[1m┌ \u001b[22m\u001b[39m\u001b[34m\u001b[1mDebug: \u001b[22m\u001b[39ma*b\n",
      "\u001b[34m\u001b[1m│ \u001b[22m\u001b[39m  a = dual(2, 1)\n",
      "\u001b[34m\u001b[1m│ \u001b[22m\u001b[39m  b = dual(1, 1)\n",
      "\u001b[34m\u001b[1m│ \u001b[22m\u001b[39m  result = dual(2, 3)\n",
      "\u001b[34m\u001b[1m└ \u001b[22m\u001b[39m\u001b[90m@ Main In[28]:15\u001b[39m\n",
      "\u001b[34m\u001b[1m┌ \u001b[22m\u001b[39m\u001b[34m\u001b[1mDebug: \u001b[22m\u001b[39ma*b\n",
      "\u001b[34m\u001b[1m│ \u001b[22m\u001b[39m  a = dual(2, 3)\n",
      "\u001b[34m\u001b[1m│ \u001b[22m\u001b[39m  b = dual(-1, 1)\n",
      "\u001b[34m\u001b[1m│ \u001b[22m\u001b[39m  result = dual(-2, -1)\n",
      "\u001b[34m\u001b[1m└ \u001b[22m\u001b[39m\u001b[90m@ Main In[28]:15\u001b[39m\n"
     ]
    },
    {
     "data": {
      "text/plain": [
       "dual(-2, -1)"
      ]
     },
     "execution_count": 29,
     "metadata": {},
     "output_type": "execute_result"
    }
   ],
   "source": [
    "f(x)=(x+1)*x*(x-2)\n",
    "f(dual(1,1))"
   ]
  },
  {
   "cell_type": "code",
   "execution_count": 30,
   "id": "962ff899-2934-499e-b020-2ebf28c88ccf",
   "metadata": {},
   "outputs": [
    {
     "data": {
      "text/plain": [
       "ConsoleLogger(IJulia.IJuliaStdio{Base.PipeEndpoint}(IOContext(Base.PipeEndpoint(RawFD(45) open, 0 bytes waiting))), Debug, Logging.default_metafmt, true, 0, Dict{Any, Int64}())"
      ]
     },
     "execution_count": 30,
     "metadata": {},
     "output_type": "execute_result"
    }
   ],
   "source": [
    "#turn off the debug logger\n",
    "global_logger(default_logger)"
   ]
  },
  {
   "cell_type": "markdown",
   "id": "7ac7e813-597f-4615-b1e2-1c60d527bbda",
   "metadata": {},
   "source": [
    "## Application: What is the derivative of the range of a projectile with respect to the launch angle?"
   ]
  },
  {
   "cell_type": "markdown",
   "id": "9702819e-fc04-4f07-9b7f-2ec9ec223cf4",
   "metadata": {},
   "source": [
    "In your lab you created a function which gives the distance that a projectile travels.  We can use our Automatic Differentiation scheme to calculate the derivative of the distance with respect to a parameter"
   ]
  },
  {
   "cell_type": "code",
   "execution_count": 31,
   "id": "3210c2b6-3f22-4ebc-b394-8255a1718e02",
   "metadata": {},
   "outputs": [
    {
     "data": {
      "text/plain": [
       "distance (generic function with 2 methods)"
      ]
     },
     "execution_count": 31,
     "metadata": {},
     "output_type": "execute_result"
    }
   ],
   "source": [
    "include(\"Projectilelab.jl\")"
   ]
  },
  {
   "cell_type": "code",
   "execution_count": 34,
   "id": "da38fe9d-5e01-4851-9364-240f467ab3ab",
   "metadata": {},
   "outputs": [
    {
     "data": {
      "image/png": "[encoded data removed]",
      "image/svg+xml": [
       "<?xml version=\"1.0\" encoding=\"utf-8\"?>\n",
       "<svg xmlns=\"http://www.w3.org/2000/svg\" xmlns:xlink=\"http://www.w3.org/1999/xlink\" width=\"600\" height=\"400\" viewBox=\"0 0 2400 1600\">\n",
       "<defs>\n",
       "  <clipPath id=\"clip460\">\n",
       "    <rect x=\"0\" y=\"0\" width=\"2400\" height=\"1600\"/>\n",
       "  </clipPath>\n",
       "</defs>\n",
       "<path clip-path=\"url(#clip460)\" d=\"M0 1600 L2400 1600 L2400 8.88178e-14 L0 8.88178e-14  Z\" fill=\"#ffffff\" fill-rule=\"evenodd\" fill-opacity=\"1\"/>\n",
       "<defs>\n",
       "  <clipPath id=\"clip461\">\n",
       "    <rect x=\"480\" y=\"0\" width=\"1681\" height=\"1600\"/>\n",
       "  </clipPath>\n",
       "</defs>\n",
       "<path clip-path=\"url(#clip460)\" d=\"M279.704 1423.18 L2352.76 1423.18 L2352.76 47.2441 L279.704 47.2441  Z\" fill=\"#ffffff\" fill-rule=\"evenodd\" fill-opacity=\"1\"/>\n",
       "<defs>\n",
       "  <clipPath id=\"clip462\">\n",
       "    <rect x=\"279\" y=\"47\" width=\"2074\" height=\"1377\"/>\n",
       "  </clipPath>\n",
       "</defs>\n",
       "<polyline clip-path=\"url(#clip462)\" style=\"stroke:#000000; stroke-linecap:round; stroke-linejoin:round; stroke-width:2; stroke-opacity:0.1; fill:none\" points=\"603.185,1423.18 603.185,47.2441 \"/>\n",
       "<polyline clip-path=\"url(#clip462)\" style=\"stroke:#000000; stroke-linecap:round; stroke-linejoin:round; stroke-width:2; stroke-opacity:0.1; fill:none\" points=\"956.89,1423.18 956.89,47.2441 \"/>\n",
       "<polyline clip-path=\"url(#clip462)\" style=\"stroke:#000000; stroke-linecap:round; stroke-linejoin:round; stroke-width:2; stroke-opacity:0.1; fill:none\" points=\"1310.6,1423.18 1310.6,47.2441 \"/>\n",
       "<polyline clip-path=\"url(#clip462)\" style=\"stroke:#000000; stroke-linecap:round; stroke-linejoin:round; stroke-width:2; stroke-opacity:0.1; fill:none\" points=\"1664.3,1423.18 1664.3,47.2441 \"/>\n",
       "<polyline clip-path=\"url(#clip462)\" style=\"stroke:#000000; stroke-linecap:round; stroke-linejoin:round; stroke-width:2; stroke-opacity:0.1; fill:none\" points=\"2018.01,1423.18 2018.01,47.2441 \"/>\n",
       "<polyline clip-path=\"url(#clip460)\" style=\"stroke:#000000; stroke-linecap:round; stroke-linejoin:round; stroke-width:4; stroke-opacity:1; fill:none\" points=\"279.704,1423.18 2352.76,1423.18 \"/>\n",
       "<polyline clip-path=\"url(#clip460)\" style=\"stroke:#000000; stroke-linecap:round; stroke-linejoin:round; stroke-width:4; stroke-opacity:1; fill:none\" points=\"603.185,1423.18 603.185,1404.28 \"/>\n",
       "<polyline clip-path=\"url(#clip460)\" style=\"stroke:#000000; stroke-linecap:round; stroke-linejoin:round; stroke-width:4; stroke-opacity:1; fill:none\" points=\"956.89,1423.18 956.89,1404.28 \"/>\n",
       "<polyline clip-path=\"url(#clip460)\" style=\"stroke:#000000; stroke-linecap:round; stroke-linejoin:round; stroke-width:4; stroke-opacity:1; fill:none\" points=\"1310.6,1423.18 1310.6,1404.28 \"/>\n",
       "<polyline clip-path=\"url(#clip460)\" style=\"stroke:#000000; stroke-linecap:round; stroke-linejoin:round; stroke-width:4; stroke-opacity:1; fill:none\" points=\"1664.3,1423.18 1664.3,1404.28 \"/>\n",
       "<polyline clip-path=\"url(#clip460)\" style=\"stroke:#000000; stroke-linecap:round; stroke-linejoin:round; stroke-width:4; stroke-opacity:1; fill:none\" points=\"2018.01,1423.18 2018.01,1404.28 \"/>\n",
       "<path clip-path=\"url(#clip460)\" d=\"M565.986 1454.1 Q562.375 1454.1 560.546 1457.66 Q558.741 1461.2 558.741 1468.33 Q558.741 1475.44 560.546 1479.01 Q562.375 1482.55 565.986 1482.55 Q569.62 1482.55 571.426 1479.01 Q573.254 1475.44 573.254 1468.33 Q573.254 1461.2 571.426 1457.66 Q569.62 1454.1 565.986 1454.1 M565.986 1450.39 Q571.796 1450.39 574.852 1455 Q577.93 1459.58 577.93 1468.33 Q577.93 1477.06 574.852 1481.67 Q571.796 1486.25 565.986 1486.25 Q560.176 1486.25 557.097 1481.67 Q554.042 1477.06 554.042 1468.33 Q554.042 1459.58 557.097 1455 Q560.176 1450.39 565.986 1450.39 Z\" fill=\"#000000\" fill-rule=\"nonzero\" fill-opacity=\"1\" /><path clip-path=\"url(#clip460)\" d=\"M586.148 1479.7 L591.032 1479.7 L591.032 1485.58 L586.148 1485.58 L586.148 1479.7 Z\" fill=\"#000000\" fill-rule=\"nonzero\" fill-opacity=\"1\" /><path clip-path=\"url(#clip460)\" d=\"M605.245 1481.64 L621.564 1481.64 L621.564 1485.58 L599.62 1485.58 L599.62 1481.64 Q602.282 1478.89 606.865 1474.26 Q611.472 1469.61 612.652 1468.27 Q614.898 1465.74 615.777 1464.01 Q616.68 1462.25 616.68 1460.56 Q616.68 1457.8 614.736 1456.07 Q612.814 1454.33 609.713 1454.33 Q607.513 1454.33 605.06 1455.09 Q602.629 1455.86 599.851 1457.41 L599.851 1452.69 Q602.676 1451.55 605.129 1450.97 Q607.583 1450.39 609.62 1450.39 Q614.99 1450.39 618.185 1453.08 Q621.379 1455.77 621.379 1460.26 Q621.379 1462.39 620.569 1464.31 Q619.782 1466.2 617.675 1468.8 Q617.097 1469.47 613.995 1472.69 Q610.893 1475.88 605.245 1481.64 Z\" fill=\"#000000\" fill-rule=\"nonzero\" fill-opacity=\"1\" /><path clip-path=\"url(#clip460)\" d=\"M631.425 1451.02 L649.782 1451.02 L649.782 1454.96 L635.708 1454.96 L635.708 1463.43 Q636.726 1463.08 637.745 1462.92 Q638.763 1462.73 639.782 1462.73 Q645.569 1462.73 648.948 1465.9 Q652.328 1469.08 652.328 1474.49 Q652.328 1480.07 648.856 1483.17 Q645.384 1486.25 639.064 1486.25 Q636.888 1486.25 634.62 1485.88 Q632.374 1485.51 629.967 1484.77 L629.967 1480.07 Q632.05 1481.2 634.273 1481.76 Q636.495 1482.32 638.972 1482.32 Q642.976 1482.32 645.314 1480.21 Q647.652 1478.1 647.652 1474.49 Q647.652 1470.88 645.314 1468.77 Q642.976 1466.67 638.972 1466.67 Q637.097 1466.67 635.222 1467.08 Q633.37 1467.5 631.425 1468.38 L631.425 1451.02 Z\" fill=\"#000000\" fill-rule=\"nonzero\" fill-opacity=\"1\" /><path clip-path=\"url(#clip460)\" d=\"M919.194 1454.1 Q915.583 1454.1 913.754 1457.66 Q911.948 1461.2 911.948 1468.33 Q911.948 1475.44 913.754 1479.01 Q915.583 1482.55 919.194 1482.55 Q922.828 1482.55 924.633 1479.01 Q926.462 1475.44 926.462 1468.33 Q926.462 1461.2 924.633 1457.66 Q922.828 1454.1 919.194 1454.1 M919.194 1450.39 Q925.004 1450.39 928.059 1455 Q931.138 1459.58 931.138 1468.33 Q931.138 1477.06 928.059 1481.67 Q925.004 1486.25 919.194 1486.25 Q913.384 1486.25 910.305 1481.67 Q907.249 1477.06 907.249 1468.33 Q907.249 1459.58 910.305 1455 Q913.384 1450.39 919.194 1450.39 Z\" fill=\"#000000\" fill-rule=\"nonzero\" fill-opacity=\"1\" /><path clip-path=\"url(#clip460)\" d=\"M939.356 1479.7 L944.24 1479.7 L944.24 1485.58 L939.356 1485.58 L939.356 1479.7 Z\" fill=\"#000000\" fill-rule=\"nonzero\" fill-opacity=\"1\" /><path clip-path=\"url(#clip460)\" d=\"M954.471 1451.02 L972.828 1451.02 L972.828 1454.96 L958.754 1454.96 L958.754 1463.43 Q959.772 1463.08 960.791 1462.92 Q961.809 1462.73 962.828 1462.73 Q968.615 1462.73 971.994 1465.9 Q975.374 1469.08 975.374 1474.49 Q975.374 1480.07 971.902 1483.17 Q968.43 1486.25 962.11 1486.25 Q959.934 1486.25 957.666 1485.88 Q955.42 1485.51 953.013 1484.77 L953.013 1480.07 Q955.096 1481.2 957.319 1481.76 Q959.541 1482.32 962.018 1482.32 Q966.022 1482.32 968.36 1480.21 Q970.698 1478.1 970.698 1474.49 Q970.698 1470.88 968.36 1468.77 Q966.022 1466.67 962.018 1466.67 Q960.143 1466.67 958.268 1467.08 Q956.416 1467.5 954.471 1468.38 L954.471 1451.02 Z\" fill=\"#000000\" fill-rule=\"nonzero\" fill-opacity=\"1\" /><path clip-path=\"url(#clip460)\" d=\"M994.587 1454.1 Q990.976 1454.1 989.147 1457.66 Q987.341 1461.2 987.341 1468.33 Q987.341 1475.44 989.147 1479.01 Q990.976 1482.55 994.587 1482.55 Q998.221 1482.55 1000.03 1479.01 Q1001.86 1475.44 1001.86 1468.33 Q1001.86 1461.2 1000.03 1457.66 Q998.221 1454.1 994.587 1454.1 M994.587 1450.39 Q1000.4 1450.39 1003.45 1455 Q1006.53 1459.58 1006.53 1468.33 Q1006.53 1477.06 1003.45 1481.67 Q1000.4 1486.25 994.587 1486.25 Q988.777 1486.25 985.698 1481.67 Q982.642 1477.06 982.642 1468.33 Q982.642 1459.58 985.698 1455 Q988.777 1450.39 994.587 1450.39 Z\" fill=\"#000000\" fill-rule=\"nonzero\" fill-opacity=\"1\" /><path clip-path=\"url(#clip460)\" d=\"M1273.4 1454.1 Q1269.79 1454.1 1267.96 1457.66 Q1266.15 1461.2 1266.15 1468.33 Q1266.15 1475.44 1267.96 1479.01 Q1269.79 1482.55 1273.4 1482.55 Q1277.03 1482.55 1278.84 1479.01 Q1280.67 1475.44 1280.67 1468.33 Q1280.67 1461.2 1278.84 1457.66 Q1277.03 1454.1 1273.4 1454.1 M1273.4 1450.39 Q1279.21 1450.39 1282.26 1455 Q1285.34 1459.58 1285.34 1468.33 Q1285.34 1477.06 1282.26 1481.67 Q1279.21 1486.25 1273.4 1486.25 Q1267.59 1486.25 1264.51 1481.67 Q1261.45 1477.06 1261.45 1468.33 Q1261.45 1459.58 1264.51 1455 Q1267.59 1450.39 1273.4 1450.39 Z\" fill=\"#000000\" fill-rule=\"nonzero\" fill-opacity=\"1\" /><path clip-path=\"url(#clip460)\" d=\"M1293.56 1479.7 L1298.44 1479.7 L1298.44 1485.58 L1293.56 1485.58 L1293.56 1479.7 Z\" fill=\"#000000\" fill-rule=\"nonzero\" fill-opacity=\"1\" /><path clip-path=\"url(#clip460)\" d=\"M1307.45 1451.02 L1329.67 1451.02 L1329.67 1453.01 L1317.12 1485.58 L1312.24 1485.58 L1324.04 1454.96 L1307.45 1454.96 L1307.45 1451.02 Z\" fill=\"#000000\" fill-rule=\"nonzero\" fill-opacity=\"1\" /><path clip-path=\"url(#clip460)\" d=\"M1338.84 1451.02 L1357.19 1451.02 L1357.19 1454.96 L1343.12 1454.96 L1343.12 1463.43 Q1344.14 1463.08 1345.16 1462.92 Q1346.17 1462.73 1347.19 1462.73 Q1352.98 1462.73 1356.36 1465.9 Q1359.74 1469.08 1359.74 1474.49 Q1359.74 1480.07 1356.27 1483.17 Q1352.79 1486.25 1346.48 1486.25 Q1344.3 1486.25 1342.03 1485.88 Q1339.79 1485.51 1337.38 1484.77 L1337.38 1480.07 Q1339.46 1481.2 1341.68 1481.76 Q1343.91 1482.32 1346.38 1482.32 Q1350.39 1482.32 1352.73 1480.21 Q1355.06 1478.1 1355.06 1474.49 Q1355.06 1470.88 1352.73 1468.77 Q1350.39 1466.67 1346.38 1466.67 Q1344.51 1466.67 1342.63 1467.08 Q1340.78 1467.5 1338.84 1468.38 L1338.84 1451.02 Z\" fill=\"#000000\" fill-rule=\"nonzero\" fill-opacity=\"1\" /><path clip-path=\"url(#clip460)\" d=\"M1616.37 1481.64 L1624.01 1481.64 L1624.01 1455.28 L1615.7 1456.95 L1615.7 1452.69 L1623.97 1451.02 L1628.64 1451.02 L1628.64 1481.64 L1636.28 1481.64 L1636.28 1485.58 L1616.37 1485.58 L1616.37 1481.64 Z\" fill=\"#000000\" fill-rule=\"nonzero\" fill-opacity=\"1\" /><path clip-path=\"url(#clip460)\" d=\"M1645.72 1479.7 L1650.61 1479.7 L1650.61 1485.58 L1645.72 1485.58 L1645.72 1479.7 Z\" fill=\"#000000\" fill-rule=\"nonzero\" fill-opacity=\"1\" /><path clip-path=\"url(#clip460)\" d=\"M1670.79 1454.1 Q1667.18 1454.1 1665.35 1457.66 Q1663.55 1461.2 1663.55 1468.33 Q1663.55 1475.44 1665.35 1479.01 Q1667.18 1482.55 1670.79 1482.55 Q1674.43 1482.55 1676.23 1479.01 Q1678.06 1475.44 1678.06 1468.33 Q1678.06 1461.2 1676.23 1457.66 Q1674.43 1454.1 1670.79 1454.1 M1670.79 1450.39 Q1676.6 1450.39 1679.66 1455 Q1682.74 1459.58 1682.74 1468.33 Q1682.74 1477.06 1679.66 1481.67 Q1676.6 1486.25 1670.79 1486.25 Q1664.98 1486.25 1661.91 1481.67 Q1658.85 1477.06 1658.85 1468.33 Q1658.85 1459.58 1661.91 1455 Q1664.98 1450.39 1670.79 1450.39 Z\" fill=\"#000000\" fill-rule=\"nonzero\" fill-opacity=\"1\" /><path clip-path=\"url(#clip460)\" d=\"M1700.96 1454.1 Q1697.35 1454.1 1695.52 1457.66 Q1693.71 1461.2 1693.71 1468.33 Q1693.71 1475.44 1695.52 1479.01 Q1697.35 1482.55 1700.96 1482.55 Q1704.59 1482.55 1706.4 1479.01 Q1708.22 1475.44 1708.22 1468.33 Q1708.22 1461.2 1706.4 1457.66 Q1704.59 1454.1 1700.96 1454.1 M1700.96 1450.39 Q1706.77 1450.39 1709.82 1455 Q1712.9 1459.58 1712.9 1468.33 Q1712.9 1477.06 1709.82 1481.67 Q1706.77 1486.25 1700.96 1486.25 Q1695.15 1486.25 1692.07 1481.67 Q1689.01 1477.06 1689.01 1468.33 Q1689.01 1459.58 1692.07 1455 Q1695.15 1450.39 1700.96 1450.39 Z\" fill=\"#000000\" fill-rule=\"nonzero\" fill-opacity=\"1\" /><path clip-path=\"url(#clip460)\" d=\"M1970.58 1481.64 L1978.22 1481.64 L1978.22 1455.28 L1969.91 1456.95 L1969.91 1452.69 L1978.17 1451.02 L1982.84 1451.02 L1982.84 1481.64 L1990.48 1481.64 L1990.48 1485.58 L1970.58 1485.58 L1970.58 1481.64 Z\" fill=\"#000000\" fill-rule=\"nonzero\" fill-opacity=\"1\" /><path clip-path=\"url(#clip460)\" d=\"M1999.93 1479.7 L2004.81 1479.7 L2004.81 1485.58 L1999.93 1485.58 L1999.93 1479.7 Z\" fill=\"#000000\" fill-rule=\"nonzero\" fill-opacity=\"1\" /><path clip-path=\"url(#clip460)\" d=\"M2019.03 1481.64 L2035.34 1481.64 L2035.34 1485.58 L2013.4 1485.58 L2013.4 1481.64 Q2016.06 1478.89 2020.65 1474.26 Q2025.25 1469.61 2026.43 1468.27 Q2028.68 1465.74 2029.56 1464.01 Q2030.46 1462.25 2030.46 1460.56 Q2030.46 1457.8 2028.52 1456.07 Q2026.59 1454.33 2023.49 1454.33 Q2021.29 1454.33 2018.84 1455.09 Q2016.41 1455.86 2013.63 1457.41 L2013.63 1452.69 Q2016.46 1451.55 2018.91 1450.97 Q2021.36 1450.39 2023.4 1450.39 Q2028.77 1450.39 2031.96 1453.08 Q2035.16 1455.77 2035.16 1460.26 Q2035.16 1462.39 2034.35 1464.31 Q2033.56 1466.2 2031.46 1468.8 Q2030.88 1469.47 2027.78 1472.69 Q2024.67 1475.88 2019.03 1481.64 Z\" fill=\"#000000\" fill-rule=\"nonzero\" fill-opacity=\"1\" /><path clip-path=\"url(#clip460)\" d=\"M2045.21 1451.02 L2063.56 1451.02 L2063.56 1454.96 L2049.49 1454.96 L2049.49 1463.43 Q2050.51 1463.08 2051.53 1462.92 Q2052.54 1462.73 2053.56 1462.73 Q2059.35 1462.73 2062.73 1465.9 Q2066.11 1469.08 2066.11 1474.49 Q2066.11 1480.07 2062.64 1483.17 Q2059.16 1486.25 2052.84 1486.25 Q2050.67 1486.25 2048.4 1485.88 Q2046.15 1485.51 2043.75 1484.77 L2043.75 1480.07 Q2045.83 1481.2 2048.05 1481.76 Q2050.28 1482.32 2052.75 1482.32 Q2056.76 1482.32 2059.09 1480.21 Q2061.43 1478.1 2061.43 1474.49 Q2061.43 1470.88 2059.09 1468.77 Q2056.76 1466.67 2052.75 1466.67 Q2050.88 1466.67 2049 1467.08 Q2047.15 1467.5 2045.21 1468.38 L2045.21 1451.02 Z\" fill=\"#000000\" fill-rule=\"nonzero\" fill-opacity=\"1\" /><path clip-path=\"url(#clip460)\" d=\"M1326.35 1545.45 L1306.08 1545.45 Q1306.55 1554.96 1308.75 1559 Q1311.49 1563.97 1316.23 1563.97 Q1321 1563.97 1323.65 1558.97 Q1325.97 1554.58 1326.35 1545.45 M1326.26 1540.03 Q1325.36 1531 1323.65 1527.81 Q1320.91 1522.78 1316.23 1522.78 Q1311.36 1522.78 1308.78 1527.75 Q1306.75 1531.76 1306.14 1540.03 L1326.26 1540.03 M1316.23 1518.01 Q1323.87 1518.01 1328.23 1524.76 Q1332.59 1531.47 1332.59 1543.38 Q1332.59 1555.25 1328.23 1562 Q1323.87 1568.78 1316.23 1568.78 Q1308.56 1568.78 1304.23 1562 Q1299.87 1555.25 1299.87 1543.38 Q1299.87 1531.47 1304.23 1524.76 Q1308.56 1518.01 1316.23 1518.01 Z\" fill=\"#000000\" fill-rule=\"nonzero\" fill-opacity=\"1\" /><polyline clip-path=\"url(#clip462)\" style=\"stroke:#000000; stroke-linecap:round; stroke-linejoin:round; stroke-width:2; stroke-opacity:0.1; fill:none\" points=\"279.704,1234.64 2352.76,1234.64 \"/>\n",
       "<polyline clip-path=\"url(#clip462)\" style=\"stroke:#000000; stroke-linecap:round; stroke-linejoin:round; stroke-width:2; stroke-opacity:0.1; fill:none\" points=\"279.704,976.346 2352.76,976.346 \"/>\n",
       "<polyline clip-path=\"url(#clip462)\" style=\"stroke:#000000; stroke-linecap:round; stroke-linejoin:round; stroke-width:2; stroke-opacity:0.1; fill:none\" points=\"279.704,718.048 2352.76,718.048 \"/>\n",
       "<polyline clip-path=\"url(#clip462)\" style=\"stroke:#000000; stroke-linecap:round; stroke-linejoin:round; stroke-width:2; stroke-opacity:0.1; fill:none\" points=\"279.704,459.75 2352.76,459.75 \"/>\n",
       "<polyline clip-path=\"url(#clip462)\" style=\"stroke:#000000; stroke-linecap:round; stroke-linejoin:round; stroke-width:2; stroke-opacity:0.1; fill:none\" points=\"279.704,201.451 2352.76,201.451 \"/>\n",
       "<polyline clip-path=\"url(#clip460)\" style=\"stroke:#000000; stroke-linecap:round; stroke-linejoin:round; stroke-width:4; stroke-opacity:1; fill:none\" points=\"279.704,1423.18 279.704,47.2441 \"/>\n",
       "<polyline clip-path=\"url(#clip460)\" style=\"stroke:#000000; stroke-linecap:round; stroke-linejoin:round; stroke-width:4; stroke-opacity:1; fill:none\" points=\"279.704,1234.64 298.602,1234.64 \"/>\n",
       "<polyline clip-path=\"url(#clip460)\" style=\"stroke:#000000; stroke-linecap:round; stroke-linejoin:round; stroke-width:4; stroke-opacity:1; fill:none\" points=\"279.704,976.346 298.602,976.346 \"/>\n",
       "<polyline clip-path=\"url(#clip460)\" style=\"stroke:#000000; stroke-linecap:round; stroke-linejoin:round; stroke-width:4; stroke-opacity:1; fill:none\" points=\"279.704,718.048 298.602,718.048 \"/>\n",
       "<polyline clip-path=\"url(#clip460)\" style=\"stroke:#000000; stroke-linecap:round; stroke-linejoin:round; stroke-width:4; stroke-opacity:1; fill:none\" points=\"279.704,459.75 298.602,459.75 \"/>\n",
       "<polyline clip-path=\"url(#clip460)\" style=\"stroke:#000000; stroke-linecap:round; stroke-linejoin:round; stroke-width:4; stroke-opacity:1; fill:none\" points=\"279.704,201.451 298.602,201.451 \"/>\n",
       "<path clip-path=\"url(#clip460)\" d=\"M126.205 1220.44 Q122.593 1220.44 120.765 1224.01 Q118.959 1227.55 118.959 1234.68 Q118.959 1241.79 120.765 1245.35 Q122.593 1248.89 126.205 1248.89 Q129.839 1248.89 131.644 1245.35 Q133.473 1241.79 133.473 1234.68 Q133.473 1227.55 131.644 1224.01 Q129.839 1220.44 126.205 1220.44 M126.205 1216.74 Q132.015 1216.74 135.07 1221.35 Q138.149 1225.93 138.149 1234.68 Q138.149 1243.41 135.07 1248.01 Q132.015 1252.6 126.205 1252.6 Q120.394 1252.6 117.316 1248.01 Q114.26 1243.41 114.26 1234.68 Q114.26 1225.93 117.316 1221.35 Q120.394 1216.74 126.205 1216.74 Z\" fill=\"#000000\" fill-rule=\"nonzero\" fill-opacity=\"1\" /><path clip-path=\"url(#clip460)\" d=\"M146.366 1246.05 L151.251 1246.05 L151.251 1251.92 L146.366 1251.92 L146.366 1246.05 Z\" fill=\"#000000\" fill-rule=\"nonzero\" fill-opacity=\"1\" /><path clip-path=\"url(#clip460)\" d=\"M171.436 1220.44 Q167.825 1220.44 165.996 1224.01 Q164.19 1227.55 164.19 1234.68 Q164.19 1241.79 165.996 1245.35 Q167.825 1248.89 171.436 1248.89 Q175.07 1248.89 176.876 1245.35 Q178.704 1241.79 178.704 1234.68 Q178.704 1227.55 176.876 1224.01 Q175.07 1220.44 171.436 1220.44 M171.436 1216.74 Q177.246 1216.74 180.301 1221.35 Q183.38 1225.93 183.38 1234.68 Q183.38 1243.41 180.301 1248.01 Q177.246 1252.6 171.436 1252.6 Q165.626 1252.6 162.547 1248.01 Q159.491 1243.41 159.491 1234.68 Q159.491 1225.93 162.547 1221.35 Q165.626 1216.74 171.436 1216.74 Z\" fill=\"#000000\" fill-rule=\"nonzero\" fill-opacity=\"1\" /><path clip-path=\"url(#clip460)\" d=\"M191.644 1217.36 L210 1217.36 L210 1221.3 L195.926 1221.3 L195.926 1229.77 Q196.945 1229.42 197.963 1229.26 Q198.982 1229.08 200 1229.08 Q205.787 1229.08 209.167 1232.25 Q212.547 1235.42 212.547 1240.84 Q212.547 1246.42 209.074 1249.52 Q205.602 1252.6 199.283 1252.6 Q197.107 1252.6 194.838 1252.23 Q192.593 1251.86 190.186 1251.11 L190.186 1246.42 Q192.269 1247.55 194.491 1248.11 Q196.713 1248.66 199.19 1248.66 Q203.195 1248.66 205.533 1246.55 Q207.871 1244.45 207.871 1240.84 Q207.871 1237.23 205.533 1235.12 Q203.195 1233.01 199.19 1233.01 Q197.315 1233.01 195.44 1233.43 Q193.588 1233.85 191.644 1234.73 L191.644 1217.36 Z\" fill=\"#000000\" fill-rule=\"nonzero\" fill-opacity=\"1\" /><path clip-path=\"url(#clip460)\" d=\"M231.76 1220.44 Q228.148 1220.44 226.32 1224.01 Q224.514 1227.55 224.514 1234.68 Q224.514 1241.79 226.32 1245.35 Q228.148 1248.89 231.76 1248.89 Q235.394 1248.89 237.199 1245.35 Q239.028 1241.79 239.028 1234.68 Q239.028 1227.55 237.199 1224.01 Q235.394 1220.44 231.76 1220.44 M231.76 1216.74 Q237.57 1216.74 240.625 1221.35 Q243.704 1225.93 243.704 1234.68 Q243.704 1243.41 240.625 1248.01 Q237.57 1252.6 231.76 1252.6 Q225.949 1252.6 222.871 1248.01 Q219.815 1243.41 219.815 1234.68 Q219.815 1225.93 222.871 1221.35 Q225.949 1216.74 231.76 1216.74 Z\" fill=\"#000000\" fill-rule=\"nonzero\" fill-opacity=\"1\" /><path clip-path=\"url(#clip460)\" d=\"M127.2 962.145 Q123.589 962.145 121.76 965.71 Q119.955 969.252 119.955 976.381 Q119.955 983.488 121.76 987.052 Q123.589 990.594 127.2 990.594 Q130.834 990.594 132.64 987.052 Q134.468 983.488 134.468 976.381 Q134.468 969.252 132.64 965.71 Q130.834 962.145 127.2 962.145 M127.2 958.441 Q133.01 958.441 136.066 963.048 Q139.144 967.631 139.144 976.381 Q139.144 985.108 136.066 989.714 Q133.01 994.298 127.2 994.298 Q121.39 994.298 118.311 989.714 Q115.256 985.108 115.256 976.381 Q115.256 967.631 118.311 963.048 Q121.39 958.441 127.2 958.441 Z\" fill=\"#000000\" fill-rule=\"nonzero\" fill-opacity=\"1\" /><path clip-path=\"url(#clip460)\" d=\"M147.362 987.747 L152.246 987.747 L152.246 993.626 L147.362 993.626 L147.362 987.747 Z\" fill=\"#000000\" fill-rule=\"nonzero\" fill-opacity=\"1\" /><path clip-path=\"url(#clip460)\" d=\"M172.431 962.145 Q168.82 962.145 166.991 965.71 Q165.186 969.252 165.186 976.381 Q165.186 983.488 166.991 987.052 Q168.82 990.594 172.431 990.594 Q176.065 990.594 177.871 987.052 Q179.7 983.488 179.7 976.381 Q179.7 969.252 177.871 965.71 Q176.065 962.145 172.431 962.145 M172.431 958.441 Q178.241 958.441 181.297 963.048 Q184.376 967.631 184.376 976.381 Q184.376 985.108 181.297 989.714 Q178.241 994.298 172.431 994.298 Q166.621 994.298 163.542 989.714 Q160.487 985.108 160.487 976.381 Q160.487 967.631 163.542 963.048 Q166.621 958.441 172.431 958.441 Z\" fill=\"#000000\" fill-rule=\"nonzero\" fill-opacity=\"1\" /><path clip-path=\"url(#clip460)\" d=\"M191.413 959.066 L213.635 959.066 L213.635 961.057 L201.088 993.626 L196.204 993.626 L208.01 963.002 L191.413 963.002 L191.413 959.066 Z\" fill=\"#000000\" fill-rule=\"nonzero\" fill-opacity=\"1\" /><path clip-path=\"url(#clip460)\" d=\"M222.801 959.066 L241.158 959.066 L241.158 963.002 L227.084 963.002 L227.084 971.474 Q228.102 971.127 229.121 970.965 Q230.139 970.779 231.158 970.779 Q236.945 970.779 240.324 973.951 Q243.704 977.122 243.704 982.539 Q243.704 988.117 240.232 991.219 Q236.76 994.298 230.44 994.298 Q228.264 994.298 225.996 993.927 Q223.75 993.557 221.343 992.816 L221.343 988.117 Q223.426 989.251 225.648 989.807 Q227.871 990.363 230.347 990.363 Q234.352 990.363 236.69 988.256 Q239.028 986.15 239.028 982.539 Q239.028 978.927 236.69 976.821 Q234.352 974.715 230.347 974.715 Q228.473 974.715 226.598 975.131 Q224.746 975.548 222.801 976.427 L222.801 959.066 Z\" fill=\"#000000\" fill-rule=\"nonzero\" fill-opacity=\"1\" /><path clip-path=\"url(#clip460)\" d=\"M126.205 703.847 Q122.593 703.847 120.765 707.412 Q118.959 710.953 118.959 718.083 Q118.959 725.189 120.765 728.754 Q122.593 732.296 126.205 732.296 Q129.839 732.296 131.644 728.754 Q133.473 725.189 133.473 718.083 Q133.473 710.953 131.644 707.412 Q129.839 703.847 126.205 703.847 M126.205 700.143 Q132.015 700.143 135.07 704.75 Q138.149 709.333 138.149 718.083 Q138.149 726.81 135.07 731.416 Q132.015 735.999 126.205 735.999 Q120.394 735.999 117.316 731.416 Q114.26 726.81 114.26 718.083 Q114.26 709.333 117.316 704.75 Q120.394 700.143 126.205 700.143 Z\" fill=\"#000000\" fill-rule=\"nonzero\" fill-opacity=\"1\" /><path clip-path=\"url(#clip460)\" d=\"M146.366 729.449 L151.251 729.449 L151.251 735.328 L146.366 735.328 L146.366 729.449 Z\" fill=\"#000000\" fill-rule=\"nonzero\" fill-opacity=\"1\" /><path clip-path=\"url(#clip460)\" d=\"M162.246 731.393 L169.885 731.393 L169.885 705.027 L161.575 706.694 L161.575 702.435 L169.839 700.768 L174.514 700.768 L174.514 731.393 L182.153 731.393 L182.153 735.328 L162.246 735.328 L162.246 731.393 Z\" fill=\"#000000\" fill-rule=\"nonzero\" fill-opacity=\"1\" /><path clip-path=\"url(#clip460)\" d=\"M201.598 703.847 Q197.987 703.847 196.158 707.412 Q194.352 710.953 194.352 718.083 Q194.352 725.189 196.158 728.754 Q197.987 732.296 201.598 732.296 Q205.232 732.296 207.037 728.754 Q208.866 725.189 208.866 718.083 Q208.866 710.953 207.037 707.412 Q205.232 703.847 201.598 703.847 M201.598 700.143 Q207.408 700.143 210.463 704.75 Q213.542 709.333 213.542 718.083 Q213.542 726.81 210.463 731.416 Q207.408 735.999 201.598 735.999 Q195.787 735.999 192.709 731.416 Q189.653 726.81 189.653 718.083 Q189.653 709.333 192.709 704.75 Q195.787 700.143 201.598 700.143 Z\" fill=\"#000000\" fill-rule=\"nonzero\" fill-opacity=\"1\" /><path clip-path=\"url(#clip460)\" d=\"M231.76 703.847 Q228.148 703.847 226.32 707.412 Q224.514 710.953 224.514 718.083 Q224.514 725.189 226.32 728.754 Q228.148 732.296 231.76 732.296 Q235.394 732.296 237.199 728.754 Q239.028 725.189 239.028 718.083 Q239.028 710.953 237.199 707.412 Q235.394 703.847 231.76 703.847 M231.76 700.143 Q237.57 700.143 240.625 704.75 Q243.704 709.333 243.704 718.083 Q243.704 726.81 240.625 731.416 Q237.57 735.999 231.76 735.999 Q225.949 735.999 222.871 731.416 Q219.815 726.81 219.815 718.083 Q219.815 709.333 222.871 704.75 Q225.949 700.143 231.76 700.143 Z\" fill=\"#000000\" fill-rule=\"nonzero\" fill-opacity=\"1\" /><path clip-path=\"url(#clip460)\" d=\"M127.2 445.548 Q123.589 445.548 121.76 449.113 Q119.955 452.655 119.955 459.784 Q119.955 466.891 121.76 470.456 Q123.589 473.997 127.2 473.997 Q130.834 473.997 132.64 470.456 Q134.468 466.891 134.468 459.784 Q134.468 452.655 132.64 449.113 Q130.834 445.548 127.2 445.548 M127.2 441.845 Q133.01 441.845 136.066 446.451 Q139.144 451.035 139.144 459.784 Q139.144 468.511 136.066 473.118 Q133.01 477.701 127.2 477.701 Q121.39 477.701 118.311 473.118 Q115.256 468.511 115.256 459.784 Q115.256 451.035 118.311 446.451 Q121.39 441.845 127.2 441.845 Z\" fill=\"#000000\" fill-rule=\"nonzero\" fill-opacity=\"1\" /><path clip-path=\"url(#clip460)\" d=\"M147.362 471.15 L152.246 471.15 L152.246 477.03 L147.362 477.03 L147.362 471.15 Z\" fill=\"#000000\" fill-rule=\"nonzero\" fill-opacity=\"1\" /><path clip-path=\"url(#clip460)\" d=\"M163.241 473.095 L170.88 473.095 L170.88 446.729 L162.57 448.396 L162.57 444.136 L170.834 442.47 L175.51 442.47 L175.51 473.095 L183.149 473.095 L183.149 477.03 L163.241 477.03 L163.241 473.095 Z\" fill=\"#000000\" fill-rule=\"nonzero\" fill-opacity=\"1\" /><path clip-path=\"url(#clip460)\" d=\"M196.621 473.095 L212.94 473.095 L212.94 477.03 L190.996 477.03 L190.996 473.095 Q193.658 470.34 198.241 465.71 Q202.848 461.058 204.028 459.715 Q206.274 457.192 207.153 455.456 Q208.056 453.697 208.056 452.007 Q208.056 449.252 206.112 447.516 Q204.19 445.78 201.088 445.78 Q198.889 445.78 196.436 446.544 Q194.005 447.308 191.227 448.859 L191.227 444.136 Q194.051 443.002 196.505 442.423 Q198.959 441.845 200.996 441.845 Q206.366 441.845 209.561 444.53 Q212.755 447.215 212.755 451.706 Q212.755 453.835 211.945 455.757 Q211.158 457.655 209.051 460.247 Q208.473 460.919 205.371 464.136 Q202.269 467.331 196.621 473.095 Z\" fill=\"#000000\" fill-rule=\"nonzero\" fill-opacity=\"1\" /><path clip-path=\"url(#clip460)\" d=\"M222.801 442.47 L241.158 442.47 L241.158 446.405 L227.084 446.405 L227.084 454.877 Q228.102 454.53 229.121 454.368 Q230.139 454.183 231.158 454.183 Q236.945 454.183 240.324 457.354 Q243.704 460.525 243.704 465.942 Q243.704 471.521 240.232 474.622 Q236.76 477.701 230.44 477.701 Q228.264 477.701 225.996 477.331 Q223.75 476.96 221.343 476.22 L221.343 471.521 Q223.426 472.655 225.648 473.21 Q227.871 473.766 230.347 473.766 Q234.352 473.766 236.69 471.659 Q239.028 469.553 239.028 465.942 Q239.028 462.331 236.69 460.224 Q234.352 458.118 230.347 458.118 Q228.473 458.118 226.598 458.534 Q224.746 458.951 222.801 459.831 L222.801 442.47 Z\" fill=\"#000000\" fill-rule=\"nonzero\" fill-opacity=\"1\" /><path clip-path=\"url(#clip460)\" d=\"M126.205 187.25 Q122.593 187.25 120.765 190.815 Q118.959 194.357 118.959 201.486 Q118.959 208.593 120.765 212.157 Q122.593 215.699 126.205 215.699 Q129.839 215.699 131.644 212.157 Q133.473 208.593 133.473 201.486 Q133.473 194.357 131.644 190.815 Q129.839 187.25 126.205 187.25 M126.205 183.546 Q132.015 183.546 135.07 188.153 Q138.149 192.736 138.149 201.486 Q138.149 210.213 135.07 214.819 Q132.015 219.403 126.205 219.403 Q120.394 219.403 117.316 214.819 Q114.26 210.213 114.26 201.486 Q114.26 192.736 117.316 188.153 Q120.394 183.546 126.205 183.546 Z\" fill=\"#000000\" fill-rule=\"nonzero\" fill-opacity=\"1\" /><path clip-path=\"url(#clip460)\" d=\"M146.366 212.852 L151.251 212.852 L151.251 218.731 L146.366 218.731 L146.366 212.852 Z\" fill=\"#000000\" fill-rule=\"nonzero\" fill-opacity=\"1\" /><path clip-path=\"url(#clip460)\" d=\"M162.246 214.796 L169.885 214.796 L169.885 188.431 L161.575 190.097 L161.575 185.838 L169.839 184.171 L174.514 184.171 L174.514 214.796 L182.153 214.796 L182.153 218.731 L162.246 218.731 L162.246 214.796 Z\" fill=\"#000000\" fill-rule=\"nonzero\" fill-opacity=\"1\" /><path clip-path=\"url(#clip460)\" d=\"M191.644 184.171 L210 184.171 L210 188.107 L195.926 188.107 L195.926 196.579 Q196.945 196.232 197.963 196.069 Q198.982 195.884 200 195.884 Q205.787 195.884 209.167 199.056 Q212.547 202.227 212.547 207.644 Q212.547 213.222 209.074 216.324 Q205.602 219.403 199.283 219.403 Q197.107 219.403 194.838 219.032 Q192.593 218.662 190.186 217.921 L190.186 213.222 Q192.269 214.356 194.491 214.912 Q196.713 215.468 199.19 215.468 Q203.195 215.468 205.533 213.361 Q207.871 211.255 207.871 207.644 Q207.871 204.032 205.533 201.926 Q203.195 199.819 199.19 199.819 Q197.315 199.819 195.44 200.236 Q193.588 200.653 191.644 201.532 L191.644 184.171 Z\" fill=\"#000000\" fill-rule=\"nonzero\" fill-opacity=\"1\" /><path clip-path=\"url(#clip460)\" d=\"M231.76 187.25 Q228.148 187.25 226.32 190.815 Q224.514 194.357 224.514 201.486 Q224.514 208.593 226.32 212.157 Q228.148 215.699 231.76 215.699 Q235.394 215.699 237.199 212.157 Q239.028 208.593 239.028 201.486 Q239.028 194.357 237.199 190.815 Q235.394 187.25 231.76 187.25 M231.76 183.546 Q237.57 183.546 240.625 188.153 Q243.704 192.736 243.704 201.486 Q243.704 210.213 240.625 214.819 Q237.57 219.403 231.76 219.403 Q225.949 219.403 222.871 214.819 Q219.815 210.213 219.815 201.486 Q219.815 192.736 222.871 188.153 Q225.949 183.546 231.76 183.546 Z\" fill=\"#000000\" fill-rule=\"nonzero\" fill-opacity=\"1\" /><path clip-path=\"url(#clip460)\" d=\"M33.7671 725.138 L14.479 725.138 L14.479 719.282 L64.0042 719.282 L64.0042 725.138 L58.657 725.138 Q61.8398 726.984 63.3994 729.817 Q64.9272 732.618 64.9272 736.565 Q64.9272 743.026 59.771 747.1 Q54.6147 751.142 46.212 751.142 Q37.8093 751.142 32.6531 747.1 Q27.4968 743.026 27.4968 736.565 Q27.4968 732.618 29.0564 729.817 Q30.5842 726.984 33.7671 725.138 M46.212 745.095 Q52.6732 745.095 56.3653 742.453 Q60.0256 739.779 60.0256 735.132 Q60.0256 730.485 56.3653 727.812 Q52.6732 725.138 46.212 725.138 Q39.7508 725.138 36.0905 727.812 Q32.3984 730.485 32.3984 735.132 Q32.3984 739.779 36.0905 742.453 Q39.7508 745.095 46.212 745.095 Z\" fill=\"#000000\" fill-rule=\"nonzero\" fill-opacity=\"1\" /><circle clip-path=\"url(#clip462)\" cx=\"338.375\" cy=\"1059.68\" r=\"14.4\" fill=\"#009af9\" fill-rule=\"evenodd\" fill-opacity=\"1\" stroke=\"#000000\" stroke-opacity=\"1\" stroke-width=\"3.2\"/>\n",
       "<circle clip-path=\"url(#clip462)\" cx=\"427.271\" cy=\"770.041\" r=\"14.4\" fill=\"#009af9\" fill-rule=\"evenodd\" fill-opacity=\"1\" stroke=\"#000000\" stroke-opacity=\"1\" stroke-width=\"3.2\"/>\n",
       "<circle clip-path=\"url(#clip462)\" cx=\"516.167\" cy=\"540.789\" r=\"14.4\" fill=\"#009af9\" fill-rule=\"evenodd\" fill-opacity=\"1\" stroke=\"#000000\" stroke-opacity=\"1\" stroke-width=\"3.2\"/>\n",
       "<circle clip-path=\"url(#clip462)\" cx=\"605.063\" cy=\"368.618\" r=\"14.4\" fill=\"#009af9\" fill-rule=\"evenodd\" fill-opacity=\"1\" stroke=\"#000000\" stroke-opacity=\"1\" stroke-width=\"3.2\"/>\n",
       "<circle clip-path=\"url(#clip462)\" cx=\"693.959\" cy=\"264.19\" r=\"14.4\" fill=\"#009af9\" fill-rule=\"evenodd\" fill-opacity=\"1\" stroke=\"#000000\" stroke-opacity=\"1\" stroke-width=\"3.2\"/>\n",
       "<circle clip-path=\"url(#clip462)\" cx=\"782.855\" cy=\"183.718\" r=\"14.4\" fill=\"#009af9\" fill-rule=\"evenodd\" fill-opacity=\"1\" stroke=\"#000000\" stroke-opacity=\"1\" stroke-width=\"3.2\"/>\n",
       "<circle clip-path=\"url(#clip462)\" cx=\"871.75\" cy=\"129.903\" r=\"14.4\" fill=\"#009af9\" fill-rule=\"evenodd\" fill-opacity=\"1\" stroke=\"#000000\" stroke-opacity=\"1\" stroke-width=\"3.2\"/>\n",
       "<circle clip-path=\"url(#clip462)\" cx=\"960.646\" cy=\"98.4346\" r=\"14.4\" fill=\"#009af9\" fill-rule=\"evenodd\" fill-opacity=\"1\" stroke=\"#000000\" stroke-opacity=\"1\" stroke-width=\"3.2\"/>\n",
       "<circle clip-path=\"url(#clip462)\" cx=\"1049.54\" cy=\"86.1857\" r=\"14.4\" fill=\"#009af9\" fill-rule=\"evenodd\" fill-opacity=\"1\" stroke=\"#000000\" stroke-opacity=\"1\" stroke-width=\"3.2\"/>\n",
       "<circle clip-path=\"url(#clip462)\" cx=\"1138.44\" cy=\"88.0746\" r=\"14.4\" fill=\"#009af9\" fill-rule=\"evenodd\" fill-opacity=\"1\" stroke=\"#000000\" stroke-opacity=\"1\" stroke-width=\"3.2\"/>\n",
       "<circle clip-path=\"url(#clip462)\" cx=\"1227.33\" cy=\"110.579\" r=\"14.4\" fill=\"#009af9\" fill-rule=\"evenodd\" fill-opacity=\"1\" stroke=\"#000000\" stroke-opacity=\"1\" stroke-width=\"3.2\"/>\n",
       "<circle clip-path=\"url(#clip462)\" cx=\"1316.23\" cy=\"141.729\" r=\"14.4\" fill=\"#009af9\" fill-rule=\"evenodd\" fill-opacity=\"1\" stroke=\"#000000\" stroke-opacity=\"1\" stroke-width=\"3.2\"/>\n",
       "<circle clip-path=\"url(#clip462)\" cx=\"1405.13\" cy=\"192.85\" r=\"14.4\" fill=\"#009af9\" fill-rule=\"evenodd\" fill-opacity=\"1\" stroke=\"#000000\" stroke-opacity=\"1\" stroke-width=\"3.2\"/>\n",
       "<circle clip-path=\"url(#clip462)\" cx=\"1494.02\" cy=\"255.554\" r=\"14.4\" fill=\"#009af9\" fill-rule=\"evenodd\" fill-opacity=\"1\" stroke=\"#000000\" stroke-opacity=\"1\" stroke-width=\"3.2\"/>\n",
       "<circle clip-path=\"url(#clip462)\" cx=\"1582.92\" cy=\"328.83\" r=\"14.4\" fill=\"#009af9\" fill-rule=\"evenodd\" fill-opacity=\"1\" stroke=\"#000000\" stroke-opacity=\"1\" stroke-width=\"3.2\"/>\n",
       "<circle clip-path=\"url(#clip462)\" cx=\"1671.81\" cy=\"419.016\" r=\"14.4\" fill=\"#009af9\" fill-rule=\"evenodd\" fill-opacity=\"1\" stroke=\"#000000\" stroke-opacity=\"1\" stroke-width=\"3.2\"/>\n",
       "<circle clip-path=\"url(#clip462)\" cx=\"1760.71\" cy=\"520.906\" r=\"14.4\" fill=\"#009af9\" fill-rule=\"evenodd\" fill-opacity=\"1\" stroke=\"#000000\" stroke-opacity=\"1\" stroke-width=\"3.2\"/>\n",
       "<circle clip-path=\"url(#clip462)\" cx=\"1849.61\" cy=\"634.307\" r=\"14.4\" fill=\"#009af9\" fill-rule=\"evenodd\" fill-opacity=\"1\" stroke=\"#000000\" stroke-opacity=\"1\" stroke-width=\"3.2\"/>\n",
       "<circle clip-path=\"url(#clip462)\" cx=\"1938.5\" cy=\"759.626\" r=\"14.4\" fill=\"#009af9\" fill-rule=\"evenodd\" fill-opacity=\"1\" stroke=\"#000000\" stroke-opacity=\"1\" stroke-width=\"3.2\"/>\n",
       "<circle clip-path=\"url(#clip462)\" cx=\"2027.4\" cy=\"899.129\" r=\"14.4\" fill=\"#009af9\" fill-rule=\"evenodd\" fill-opacity=\"1\" stroke=\"#000000\" stroke-opacity=\"1\" stroke-width=\"3.2\"/>\n",
       "<circle clip-path=\"url(#clip462)\" cx=\"2116.29\" cy=\"1050.04\" r=\"14.4\" fill=\"#009af9\" fill-rule=\"evenodd\" fill-opacity=\"1\" stroke=\"#000000\" stroke-opacity=\"1\" stroke-width=\"3.2\"/>\n",
       "<circle clip-path=\"url(#clip462)\" cx=\"2205.19\" cy=\"1212.02\" r=\"14.4\" fill=\"#009af9\" fill-rule=\"evenodd\" fill-opacity=\"1\" stroke=\"#000000\" stroke-opacity=\"1\" stroke-width=\"3.2\"/>\n",
       "<circle clip-path=\"url(#clip462)\" cx=\"2294.08\" cy=\"1384.24\" r=\"14.4\" fill=\"#009af9\" fill-rule=\"evenodd\" fill-opacity=\"1\" stroke=\"#000000\" stroke-opacity=\"1\" stroke-width=\"3.2\"/>\n",
       "<path clip-path=\"url(#clip460)\" d=\"M1982.3 196.789 L2283.65 196.789 L2283.65 93.1086 L1982.3 93.1086  Z\" fill=\"#ffffff\" fill-rule=\"evenodd\" fill-opacity=\"1\"/>\n",
       "<polyline clip-path=\"url(#clip460)\" style=\"stroke:#000000; stroke-linecap:round; stroke-linejoin:round; stroke-width:4; stroke-opacity:1; fill:none\" points=\"1982.3,196.789 2283.65,196.789 2283.65,93.1086 1982.3,93.1086 1982.3,196.789 \"/>\n",
       "<circle clip-path=\"url(#clip460)\" cx=\"2074.43\" cy=\"144.949\" r=\"20.48\" fill=\"#009af9\" fill-rule=\"evenodd\" fill-opacity=\"1\" stroke=\"#000000\" stroke-opacity=\"1\" stroke-width=\"4.55111\"/>\n",
       "<path clip-path=\"url(#clip460)\" d=\"M2174.19 140.377 L2179.86 156.395 L2187.96 136.303 L2192.47 136.303 L2181.99 162.229 L2181.99 172.09 L2177.73 172.09 L2177.73 162.229 L2170.92 142.877 Q2169.9 139.96 2167.7 139.96 L2166.57 139.96 L2166.57 136.303 L2168.19 136.303 Q2172.75 136.303 2174.19 140.377 Z\" fill=\"#000000\" fill-rule=\"nonzero\" fill-opacity=\"1\" /><path clip-path=\"url(#clip460)\" d=\"M2198.91 140.701 L2228.58 140.701 L2228.58 144.59 L2198.91 144.59 L2198.91 140.701 M2198.91 150.145 L2228.58 150.145 L2228.58 154.081 L2198.91 154.081 L2198.91 150.145 Z\" fill=\"#000000\" fill-rule=\"nonzero\" fill-opacity=\"1\" /><path clip-path=\"url(#clip460)\" d=\"M2248.68 130.747 Q2245.06 130.747 2243.24 134.312 Q2241.43 137.854 2241.43 144.983 Q2241.43 152.09 2243.24 155.655 Q2245.06 159.196 2248.68 159.196 Q2252.31 159.196 2254.12 155.655 Q2255.94 152.09 2255.94 144.983 Q2255.94 137.854 2254.12 134.312 Q2252.31 130.747 2248.68 130.747 M2248.68 127.044 Q2254.49 127.044 2257.54 131.65 Q2260.62 136.233 2260.62 144.983 Q2260.62 153.71 2257.54 158.317 Q2254.49 162.9 2248.68 162.9 Q2242.87 162.9 2239.79 158.317 Q2236.73 153.71 2236.73 144.983 Q2236.73 136.233 2239.79 131.65 Q2242.87 127.044 2248.68 127.044 Z\" fill=\"#000000\" fill-rule=\"nonzero\" fill-opacity=\"1\" /></svg>\n"
      ],
      "text/html": [
       "<?xml version=\"1.0\" encoding=\"utf-8\"?>\n",
       "<svg xmlns=\"http://www.w3.org/2000/svg\" xmlns:xlink=\"http://www.w3.org/1999/xlink\" width=\"600\" height=\"400\" viewBox=\"0 0 2400 1600\">\n",
       "<defs>\n",
       "  <clipPath id=\"clip510\">\n",
       "    <rect x=\"0\" y=\"0\" width=\"2400\" height=\"1600\"/>\n",
       "  </clipPath>\n",
       "</defs>\n",
       "<path clip-path=\"url(#clip510)\" d=\"M0 1600 L2400 1600 L2400 8.88178e-14 L0 8.88178e-14  Z\" fill=\"#ffffff\" fill-rule=\"evenodd\" fill-opacity=\"1\"/>\n",
       "<defs>\n",
       "  <clipPath id=\"clip511\">\n",
       "    <rect x=\"480\" y=\"0\" width=\"1681\" height=\"1600\"/>\n",
       "  </clipPath>\n",
       "</defs>\n",
       "<path clip-path=\"url(#clip510)\" d=\"M279.704 1423.18 L2352.76 1423.18 L2352.76 47.2441 L279.704 47.2441  Z\" fill=\"#ffffff\" fill-rule=\"evenodd\" fill-opacity=\"1\"/>\n",
       "<defs>\n",
       "  <clipPath id=\"clip512\">\n",
       "    <rect x=\"279\" y=\"47\" width=\"2074\" height=\"1377\"/>\n",
       "  </clipPath>\n",
       "</defs>\n",
       "<polyline clip-path=\"url(#clip512)\" style=\"stroke:#000000; stroke-linecap:round; stroke-linejoin:round; stroke-width:2; stroke-opacity:0.1; fill:none\" points=\"603.185,1423.18 603.185,47.2441 \"/>\n",
       "<polyline clip-path=\"url(#clip512)\" style=\"stroke:#000000; stroke-linecap:round; stroke-linejoin:round; stroke-width:2; stroke-opacity:0.1; fill:none\" points=\"956.89,1423.18 956.89,47.2441 \"/>\n",
       "<polyline clip-path=\"url(#clip512)\" style=\"stroke:#000000; stroke-linecap:round; stroke-linejoin:round; stroke-width:2; stroke-opacity:0.1; fill:none\" points=\"1310.6,1423.18 1310.6,47.2441 \"/>\n",
       "<polyline clip-path=\"url(#clip512)\" style=\"stroke:#000000; stroke-linecap:round; stroke-linejoin:round; stroke-width:2; stroke-opacity:0.1; fill:none\" points=\"1664.3,1423.18 1664.3,47.2441 \"/>\n",
       "<polyline clip-path=\"url(#clip512)\" style=\"stroke:#000000; stroke-linecap:round; stroke-linejoin:round; stroke-width:2; stroke-opacity:0.1; fill:none\" points=\"2018.01,1423.18 2018.01,47.2441 \"/>\n",
       "<polyline clip-path=\"url(#clip510)\" style=\"stroke:#000000; stroke-linecap:round; stroke-linejoin:round; stroke-width:4; stroke-opacity:1; fill:none\" points=\"279.704,1423.18 2352.76,1423.18 \"/>\n",
       "<polyline clip-path=\"url(#clip510)\" style=\"stroke:#000000; stroke-linecap:round; stroke-linejoin:round; stroke-width:4; stroke-opacity:1; fill:none\" points=\"603.185,1423.18 603.185,1404.28 \"/>\n",
       "<polyline clip-path=\"url(#clip510)\" style=\"stroke:#000000; stroke-linecap:round; stroke-linejoin:round; stroke-width:4; stroke-opacity:1; fill:none\" points=\"956.89,1423.18 956.89,1404.28 \"/>\n",
       "<polyline clip-path=\"url(#clip510)\" style=\"stroke:#000000; stroke-linecap:round; stroke-linejoin:round; stroke-width:4; stroke-opacity:1; fill:none\" points=\"1310.6,1423.18 1310.6,1404.28 \"/>\n",
       "<polyline clip-path=\"url(#clip510)\" style=\"stroke:#000000; stroke-linecap:round; stroke-linejoin:round; stroke-width:4; stroke-opacity:1; fill:none\" points=\"1664.3,1423.18 1664.3,1404.28 \"/>\n",
       "<polyline clip-path=\"url(#clip510)\" style=\"stroke:#000000; stroke-linecap:round; stroke-linejoin:round; stroke-width:4; stroke-opacity:1; fill:none\" points=\"2018.01,1423.18 2018.01,1404.28 \"/>\n",
       "<path clip-path=\"url(#clip510)\" d=\"M565.986 1454.1 Q562.375 1454.1 560.546 1457.66 Q558.741 1461.2 558.741 1468.33 Q558.741 1475.44 560.546 1479.01 Q562.375 1482.55 565.986 1482.55 Q569.62 1482.55 571.426 1479.01 Q573.254 1475.44 573.254 1468.33 Q573.254 1461.2 571.426 1457.66 Q569.62 1454.1 565.986 1454.1 M565.986 1450.39 Q571.796 1450.39 574.852 1455 Q577.93 1459.58 577.93 1468.33 Q577.93 1477.06 574.852 1481.67 Q571.796 1486.25 565.986 1486.25 Q560.176 1486.25 557.097 1481.67 Q554.042 1477.06 554.042 1468.33 Q554.042 1459.58 557.097 1455 Q560.176 1450.39 565.986 1450.39 Z\" fill=\"#000000\" fill-rule=\"nonzero\" fill-opacity=\"1\" /><path clip-path=\"url(#clip510)\" d=\"M586.148 1479.7 L591.032 1479.7 L591.032 1485.58 L586.148 1485.58 L586.148 1479.7 Z\" fill=\"#000000\" fill-rule=\"nonzero\" fill-opacity=\"1\" /><path clip-path=\"url(#clip510)\" d=\"M605.245 1481.64 L621.564 1481.64 L621.564 1485.58 L599.62 1485.58 L599.62 1481.64 Q602.282 1478.89 606.865 1474.26 Q611.472 1469.61 612.652 1468.27 Q614.898 1465.74 615.777 1464.01 Q616.68 1462.25 616.68 1460.56 Q616.68 1457.8 614.736 1456.07 Q612.814 1454.33 609.713 1454.33 Q607.513 1454.33 605.06 1455.09 Q602.629 1455.86 599.851 1457.41 L599.851 1452.69 Q602.676 1451.55 605.129 1450.97 Q607.583 1450.39 609.62 1450.39 Q614.99 1450.39 618.185 1453.08 Q621.379 1455.77 621.379 1460.26 Q621.379 1462.39 620.569 1464.31 Q619.782 1466.2 617.675 1468.8 Q617.097 1469.47 613.995 1472.69 Q610.893 1475.88 605.245 1481.64 Z\" fill=\"#000000\" fill-rule=\"nonzero\" fill-opacity=\"1\" /><path clip-path=\"url(#clip510)\" d=\"M631.425 1451.02 L649.782 1451.02 L649.782 1454.96 L635.708 1454.96 L635.708 1463.43 Q636.726 1463.08 637.745 1462.92 Q638.763 1462.73 639.782 1462.73 Q645.569 1462.73 648.948 1465.9 Q652.328 1469.08 652.328 1474.49 Q652.328 1480.07 648.856 1483.17 Q645.384 1486.25 639.064 1486.25 Q636.888 1486.25 634.62 1485.88 Q632.374 1485.51 629.967 1484.77 L629.967 1480.07 Q632.05 1481.2 634.273 1481.76 Q636.495 1482.32 638.972 1482.32 Q642.976 1482.32 645.314 1480.21 Q647.652 1478.1 647.652 1474.49 Q647.652 1470.88 645.314 1468.77 Q642.976 1466.67 638.972 1466.67 Q637.097 1466.67 635.222 1467.08 Q633.37 1467.5 631.425 1468.38 L631.425 1451.02 Z\" fill=\"#000000\" fill-rule=\"nonzero\" fill-opacity=\"1\" /><path clip-path=\"url(#clip510)\" d=\"M919.194 1454.1 Q915.583 1454.1 913.754 1457.66 Q911.948 1461.2 911.948 1468.33 Q911.948 1475.44 913.754 1479.01 Q915.583 1482.55 919.194 1482.55 Q922.828 1482.55 924.633 1479.01 Q926.462 1475.44 926.462 1468.33 Q926.462 1461.2 924.633 1457.66 Q922.828 1454.1 919.194 1454.1 M919.194 1450.39 Q925.004 1450.39 928.059 1455 Q931.138 1459.58 931.138 1468.33 Q931.138 1477.06 928.059 1481.67 Q925.004 1486.25 919.194 1486.25 Q913.384 1486.25 910.305 1481.67 Q907.249 1477.06 907.249 1468.33 Q907.249 1459.58 910.305 1455 Q913.384 1450.39 919.194 1450.39 Z\" fill=\"#000000\" fill-rule=\"nonzero\" fill-opacity=\"1\" /><path clip-path=\"url(#clip510)\" d=\"M939.356 1479.7 L944.24 1479.7 L944.24 1485.58 L939.356 1485.58 L939.356 1479.7 Z\" fill=\"#000000\" fill-rule=\"nonzero\" fill-opacity=\"1\" /><path clip-path=\"url(#clip510)\" d=\"M954.471 1451.02 L972.828 1451.02 L972.828 1454.96 L958.754 1454.96 L958.754 1463.43 Q959.772 1463.08 960.791 1462.92 Q961.809 1462.73 962.828 1462.73 Q968.615 1462.73 971.994 1465.9 Q975.374 1469.08 975.374 1474.49 Q975.374 1480.07 971.902 1483.17 Q968.43 1486.25 962.11 1486.25 Q959.934 1486.25 957.666 1485.88 Q955.42 1485.51 953.013 1484.77 L953.013 1480.07 Q955.096 1481.2 957.319 1481.76 Q959.541 1482.32 962.018 1482.32 Q966.022 1482.32 968.36 1480.21 Q970.698 1478.1 970.698 1474.49 Q970.698 1470.88 968.36 1468.77 Q966.022 1466.67 962.018 1466.67 Q960.143 1466.67 958.268 1467.08 Q956.416 1467.5 954.471 1468.38 L954.471 1451.02 Z\" fill=\"#000000\" fill-rule=\"nonzero\" fill-opacity=\"1\" /><path clip-path=\"url(#clip510)\" d=\"M994.587 1454.1 Q990.976 1454.1 989.147 1457.66 Q987.341 1461.2 987.341 1468.33 Q987.341 1475.44 989.147 1479.01 Q990.976 1482.55 994.587 1482.55 Q998.221 1482.55 1000.03 1479.01 Q1001.86 1475.44 1001.86 1468.33 Q1001.86 1461.2 1000.03 1457.66 Q998.221 1454.1 994.587 1454.1 M994.587 1450.39 Q1000.4 1450.39 1003.45 1455 Q1006.53 1459.58 1006.53 1468.33 Q1006.53 1477.06 1003.45 1481.67 Q1000.4 1486.25 994.587 1486.25 Q988.777 1486.25 985.698 1481.67 Q982.642 1477.06 982.642 1468.33 Q982.642 1459.58 985.698 1455 Q988.777 1450.39 994.587 1450.39 Z\" fill=\"#000000\" fill-rule=\"nonzero\" fill-opacity=\"1\" /><path clip-path=\"url(#clip510)\" d=\"M1273.4 1454.1 Q1269.79 1454.1 1267.96 1457.66 Q1266.15 1461.2 1266.15 1468.33 Q1266.15 1475.44 1267.96 1479.01 Q1269.79 1482.55 1273.4 1482.55 Q1277.03 1482.55 1278.84 1479.01 Q1280.67 1475.44 1280.67 1468.33 Q1280.67 1461.2 1278.84 1457.66 Q1277.03 1454.1 1273.4 1454.1 M1273.4 1450.39 Q1279.21 1450.39 1282.26 1455 Q1285.34 1459.58 1285.34 1468.33 Q1285.34 1477.06 1282.26 1481.67 Q1279.21 1486.25 1273.4 1486.25 Q1267.59 1486.25 1264.51 1481.67 Q1261.45 1477.06 1261.45 1468.33 Q1261.45 1459.58 1264.51 1455 Q1267.59 1450.39 1273.4 1450.39 Z\" fill=\"#000000\" fill-rule=\"nonzero\" fill-opacity=\"1\" /><path clip-path=\"url(#clip510)\" d=\"M1293.56 1479.7 L1298.44 1479.7 L1298.44 1485.58 L1293.56 1485.58 L1293.56 1479.7 Z\" fill=\"#000000\" fill-rule=\"nonzero\" fill-opacity=\"1\" /><path clip-path=\"url(#clip510)\" d=\"M1307.45 1451.02 L1329.67 1451.02 L1329.67 1453.01 L1317.12 1485.58 L1312.24 1485.58 L1324.04 1454.96 L1307.45 1454.96 L1307.45 1451.02 Z\" fill=\"#000000\" fill-rule=\"nonzero\" fill-opacity=\"1\" /><path clip-path=\"url(#clip510)\" d=\"M1338.84 1451.02 L1357.19 1451.02 L1357.19 1454.96 L1343.12 1454.96 L1343.12 1463.43 Q1344.14 1463.08 1345.16 1462.92 Q1346.17 1462.73 1347.19 1462.73 Q1352.98 1462.73 1356.36 1465.9 Q1359.74 1469.08 1359.74 1474.49 Q1359.74 1480.07 1356.27 1483.17 Q1352.79 1486.25 1346.48 1486.25 Q1344.3 1486.25 1342.03 1485.88 Q1339.79 1485.51 1337.38 1484.77 L1337.38 1480.07 Q1339.46 1481.2 1341.68 1481.76 Q1343.91 1482.32 1346.38 1482.32 Q1350.39 1482.32 1352.73 1480.21 Q1355.06 1478.1 1355.06 1474.49 Q1355.06 1470.88 1352.73 1468.77 Q1350.39 1466.67 1346.38 1466.67 Q1344.51 1466.67 1342.63 1467.08 Q1340.78 1467.5 1338.84 1468.38 L1338.84 1451.02 Z\" fill=\"#000000\" fill-rule=\"nonzero\" fill-opacity=\"1\" /><path clip-path=\"url(#clip510)\" d=\"M1616.37 1481.64 L1624.01 1481.64 L1624.01 1455.28 L1615.7 1456.95 L1615.7 1452.69 L1623.97 1451.02 L1628.64 1451.02 L1628.64 1481.64 L1636.28 1481.64 L1636.28 1485.58 L1616.37 1485.58 L1616.37 1481.64 Z\" fill=\"#000000\" fill-rule=\"nonzero\" fill-opacity=\"1\" /><path clip-path=\"url(#clip510)\" d=\"M1645.72 1479.7 L1650.61 1479.7 L1650.61 1485.58 L1645.72 1485.58 L1645.72 1479.7 Z\" fill=\"#000000\" fill-rule=\"nonzero\" fill-opacity=\"1\" /><path clip-path=\"url(#clip510)\" d=\"M1670.79 1454.1 Q1667.18 1454.1 1665.35 1457.66 Q1663.55 1461.2 1663.55 1468.33 Q1663.55 1475.44 1665.35 1479.01 Q1667.18 1482.55 1670.79 1482.55 Q1674.43 1482.55 1676.23 1479.01 Q1678.06 1475.44 1678.06 1468.33 Q1678.06 1461.2 1676.23 1457.66 Q1674.43 1454.1 1670.79 1454.1 M1670.79 1450.39 Q1676.6 1450.39 1679.66 1455 Q1682.74 1459.58 1682.74 1468.33 Q1682.74 1477.06 1679.66 1481.67 Q1676.6 1486.25 1670.79 1486.25 Q1664.98 1486.25 1661.91 1481.67 Q1658.85 1477.06 1658.85 1468.33 Q1658.85 1459.58 1661.91 1455 Q1664.98 1450.39 1670.79 1450.39 Z\" fill=\"#000000\" fill-rule=\"nonzero\" fill-opacity=\"1\" /><path clip-path=\"url(#clip510)\" d=\"M1700.96 1454.1 Q1697.35 1454.1 1695.52 1457.66 Q1693.71 1461.2 1693.71 1468.33 Q1693.71 1475.44 1695.52 1479.01 Q1697.35 1482.55 1700.96 1482.55 Q1704.59 1482.55 1706.4 1479.01 Q1708.22 1475.44 1708.22 1468.33 Q1708.22 1461.2 1706.4 1457.66 Q1704.59 1454.1 1700.96 1454.1 M1700.96 1450.39 Q1706.77 1450.39 1709.82 1455 Q1712.9 1459.58 1712.9 1468.33 Q1712.9 1477.06 1709.82 1481.67 Q1706.77 1486.25 1700.96 1486.25 Q1695.15 1486.25 1692.07 1481.67 Q1689.01 1477.06 1689.01 1468.33 Q1689.01 1459.58 1692.07 1455 Q1695.15 1450.39 1700.96 1450.39 Z\" fill=\"#000000\" fill-rule=\"nonzero\" fill-opacity=\"1\" /><path clip-path=\"url(#clip510)\" d=\"M1970.58 1481.64 L1978.22 1481.64 L1978.22 1455.28 L1969.91 1456.95 L1969.91 1452.69 L1978.17 1451.02 L1982.84 1451.02 L1982.84 1481.64 L1990.48 1481.64 L1990.48 1485.58 L1970.58 1485.58 L1970.58 1481.64 Z\" fill=\"#000000\" fill-rule=\"nonzero\" fill-opacity=\"1\" /><path clip-path=\"url(#clip510)\" d=\"M1999.93 1479.7 L2004.81 1479.7 L2004.81 1485.58 L1999.93 1485.58 L1999.93 1479.7 Z\" fill=\"#000000\" fill-rule=\"nonzero\" fill-opacity=\"1\" /><path clip-path=\"url(#clip510)\" d=\"M2019.03 1481.64 L2035.34 1481.64 L2035.34 1485.58 L2013.4 1485.58 L2013.4 1481.64 Q2016.06 1478.89 2020.65 1474.26 Q2025.25 1469.61 2026.43 1468.27 Q2028.68 1465.74 2029.56 1464.01 Q2030.46 1462.25 2030.46 1460.56 Q2030.46 1457.8 2028.52 1456.07 Q2026.59 1454.33 2023.49 1454.33 Q2021.29 1454.33 2018.84 1455.09 Q2016.41 1455.86 2013.63 1457.41 L2013.63 1452.69 Q2016.46 1451.55 2018.91 1450.97 Q2021.36 1450.39 2023.4 1450.39 Q2028.77 1450.39 2031.96 1453.08 Q2035.16 1455.77 2035.16 1460.26 Q2035.16 1462.39 2034.35 1464.31 Q2033.56 1466.2 2031.46 1468.8 Q2030.88 1469.47 2027.78 1472.69 Q2024.67 1475.88 2019.03 1481.64 Z\" fill=\"#000000\" fill-rule=\"nonzero\" fill-opacity=\"1\" /><path clip-path=\"url(#clip510)\" d=\"M2045.21 1451.02 L2063.56 1451.02 L2063.56 1454.96 L2049.49 1454.96 L2049.49 1463.43 Q2050.51 1463.08 2051.53 1462.92 Q2052.54 1462.73 2053.56 1462.73 Q2059.35 1462.73 2062.73 1465.9 Q2066.11 1469.08 2066.11 1474.49 Q2066.11 1480.07 2062.64 1483.17 Q2059.16 1486.25 2052.84 1486.25 Q2050.67 1486.25 2048.4 1485.88 Q2046.15 1485.51 2043.75 1484.77 L2043.75 1480.07 Q2045.83 1481.2 2048.05 1481.76 Q2050.28 1482.32 2052.75 1482.32 Q2056.76 1482.32 2059.09 1480.21 Q2061.43 1478.1 2061.43 1474.49 Q2061.43 1470.88 2059.09 1468.77 Q2056.76 1466.67 2052.75 1466.67 Q2050.88 1466.67 2049 1467.08 Q2047.15 1467.5 2045.21 1468.38 L2045.21 1451.02 Z\" fill=\"#000000\" fill-rule=\"nonzero\" fill-opacity=\"1\" /><path clip-path=\"url(#clip510)\" d=\"M1326.35 1545.45 L1306.08 1545.45 Q1306.55 1554.96 1308.75 1559 Q1311.49 1563.97 1316.23 1563.97 Q1321 1563.97 1323.65 1558.97 Q1325.97 1554.58 1326.35 1545.45 M1326.26 1540.03 Q1325.36 1531 1323.65 1527.81 Q1320.91 1522.78 1316.23 1522.78 Q1311.36 1522.78 1308.78 1527.75 Q1306.75 1531.76 1306.14 1540.03 L1326.26 1540.03 M1316.23 1518.01 Q1323.87 1518.01 1328.23 1524.76 Q1332.59 1531.47 1332.59 1543.38 Q1332.59 1555.25 1328.23 1562 Q1323.87 1568.78 1316.23 1568.78 Q1308.56 1568.78 1304.23 1562 Q1299.87 1555.25 1299.87 1543.38 Q1299.87 1531.47 1304.23 1524.76 Q1308.56 1518.01 1316.23 1518.01 Z\" fill=\"#000000\" fill-rule=\"nonzero\" fill-opacity=\"1\" /><polyline clip-path=\"url(#clip512)\" style=\"stroke:#000000; stroke-linecap:round; stroke-linejoin:round; stroke-width:2; stroke-opacity:0.1; fill:none\" points=\"279.704,1234.64 2352.76,1234.64 \"/>\n",
       "<polyline clip-path=\"url(#clip512)\" style=\"stroke:#000000; stroke-linecap:round; stroke-linejoin:round; stroke-width:2; stroke-opacity:0.1; fill:none\" points=\"279.704,976.346 2352.76,976.346 \"/>\n",
       "<polyline clip-path=\"url(#clip512)\" style=\"stroke:#000000; stroke-linecap:round; stroke-linejoin:round; stroke-width:2; stroke-opacity:0.1; fill:none\" points=\"279.704,718.048 2352.76,718.048 \"/>\n",
       "<polyline clip-path=\"url(#clip512)\" style=\"stroke:#000000; stroke-linecap:round; stroke-linejoin:round; stroke-width:2; stroke-opacity:0.1; fill:none\" points=\"279.704,459.75 2352.76,459.75 \"/>\n",
       "<polyline clip-path=\"url(#clip512)\" style=\"stroke:#000000; stroke-linecap:round; stroke-linejoin:round; stroke-width:2; stroke-opacity:0.1; fill:none\" points=\"279.704,201.451 2352.76,201.451 \"/>\n",
       "<polyline clip-path=\"url(#clip510)\" style=\"stroke:#000000; stroke-linecap:round; stroke-linejoin:round; stroke-width:4; stroke-opacity:1; fill:none\" points=\"279.704,1423.18 279.704,47.2441 \"/>\n",
       "<polyline clip-path=\"url(#clip510)\" style=\"stroke:#000000; stroke-linecap:round; stroke-linejoin:round; stroke-width:4; stroke-opacity:1; fill:none\" points=\"279.704,1234.64 298.602,1234.64 \"/>\n",
       "<polyline clip-path=\"url(#clip510)\" style=\"stroke:#000000; stroke-linecap:round; stroke-linejoin:round; stroke-width:4; stroke-opacity:1; fill:none\" points=\"279.704,976.346 298.602,976.346 \"/>\n",
       "<polyline clip-path=\"url(#clip510)\" style=\"stroke:#000000; stroke-linecap:round; stroke-linejoin:round; stroke-width:4; stroke-opacity:1; fill:none\" points=\"279.704,718.048 298.602,718.048 \"/>\n",
       "<polyline clip-path=\"url(#clip510)\" style=\"stroke:#000000; stroke-linecap:round; stroke-linejoin:round; stroke-width:4; stroke-opacity:1; fill:none\" points=\"279.704,459.75 298.602,459.75 \"/>\n",
       "<polyline clip-path=\"url(#clip510)\" style=\"stroke:#000000; stroke-linecap:round; stroke-linejoin:round; stroke-width:4; stroke-opacity:1; fill:none\" points=\"279.704,201.451 298.602,201.451 \"/>\n",
       "<path clip-path=\"url(#clip510)\" d=\"M126.205 1220.44 Q122.593 1220.44 120.765 1224.01 Q118.959 1227.55 118.959 1234.68 Q118.959 1241.79 120.765 1245.35 Q122.593 1248.89 126.205 1248.89 Q129.839 1248.89 131.644 1245.35 Q133.473 1241.79 133.473 1234.68 Q133.473 1227.55 131.644 1224.01 Q129.839 1220.44 126.205 1220.44 M126.205 1216.74 Q132.015 1216.74 135.07 1221.35 Q138.149 1225.93 138.149 1234.68 Q138.149 1243.41 135.07 1248.01 Q132.015 1252.6 126.205 1252.6 Q120.394 1252.6 117.316 1248.01 Q114.26 1243.41 114.26 1234.68 Q114.26 1225.93 117.316 1221.35 Q120.394 1216.74 126.205 1216.74 Z\" fill=\"#000000\" fill-rule=\"nonzero\" fill-opacity=\"1\" /><path clip-path=\"url(#clip510)\" d=\"M146.366 1246.05 L151.251 1246.05 L151.251 1251.92 L146.366 1251.92 L146.366 1246.05 Z\" fill=\"#000000\" fill-rule=\"nonzero\" fill-opacity=\"1\" /><path clip-path=\"url(#clip510)\" d=\"M171.436 1220.44 Q167.825 1220.44 165.996 1224.01 Q164.19 1227.55 164.19 1234.68 Q164.19 1241.79 165.996 1245.35 Q167.825 1248.89 171.436 1248.89 Q175.07 1248.89 176.876 1245.35 Q178.704 1241.79 178.704 1234.68 Q178.704 1227.55 176.876 1224.01 Q175.07 1220.44 171.436 1220.44 M171.436 1216.74 Q177.246 1216.74 180.301 1221.35 Q183.38 1225.93 183.38 1234.68 Q183.38 1243.41 180.301 1248.01 Q177.246 1252.6 171.436 1252.6 Q165.626 1252.6 162.547 1248.01 Q159.491 1243.41 159.491 1234.68 Q159.491 1225.93 162.547 1221.35 Q165.626 1216.74 171.436 1216.74 Z\" fill=\"#000000\" fill-rule=\"nonzero\" fill-opacity=\"1\" /><path clip-path=\"url(#clip510)\" d=\"M191.644 1217.36 L210 1217.36 L210 1221.3 L195.926 1221.3 L195.926 1229.77 Q196.945 1229.42 197.963 1229.26 Q198.982 1229.08 200 1229.08 Q205.787 1229.08 209.167 1232.25 Q212.547 1235.42 212.547 1240.84 Q212.547 1246.42 209.074 1249.52 Q205.602 1252.6 199.283 1252.6 Q197.107 1252.6 194.838 1252.23 Q192.593 1251.86 190.186 1251.11 L190.186 1246.42 Q192.269 1247.55 194.491 1248.11 Q196.713 1248.66 199.19 1248.66 Q203.195 1248.66 205.533 1246.55 Q207.871 1244.45 207.871 1240.84 Q207.871 1237.23 205.533 1235.12 Q203.195 1233.01 199.19 1233.01 Q197.315 1233.01 195.44 1233.43 Q193.588 1233.85 191.644 1234.73 L191.644 1217.36 Z\" fill=\"#000000\" fill-rule=\"nonzero\" fill-opacity=\"1\" /><path clip-path=\"url(#clip510)\" d=\"M231.76 1220.44 Q228.148 1220.44 226.32 1224.01 Q224.514 1227.55 224.514 1234.68 Q224.514 1241.79 226.32 1245.35 Q228.148 1248.89 231.76 1248.89 Q235.394 1248.89 237.199 1245.35 Q239.028 1241.79 239.028 1234.68 Q239.028 1227.55 237.199 1224.01 Q235.394 1220.44 231.76 1220.44 M231.76 1216.74 Q237.57 1216.74 240.625 1221.35 Q243.704 1225.93 243.704 1234.68 Q243.704 1243.41 240.625 1248.01 Q237.57 1252.6 231.76 1252.6 Q225.949 1252.6 222.871 1248.01 Q219.815 1243.41 219.815 1234.68 Q219.815 1225.93 222.871 1221.35 Q225.949 1216.74 231.76 1216.74 Z\" fill=\"#000000\" fill-rule=\"nonzero\" fill-opacity=\"1\" /><path clip-path=\"url(#clip510)\" d=\"M127.2 962.145 Q123.589 962.145 121.76 965.71 Q119.955 969.252 119.955 976.381 Q119.955 983.488 121.76 987.052 Q123.589 990.594 127.2 990.594 Q130.834 990.594 132.64 987.052 Q134.468 983.488 134.468 976.381 Q134.468 969.252 132.64 965.71 Q130.834 962.145 127.2 962.145 M127.2 958.441 Q133.01 958.441 136.066 963.048 Q139.144 967.631 139.144 976.381 Q139.144 985.108 136.066 989.714 Q133.01 994.298 127.2 994.298 Q121.39 994.298 118.311 989.714 Q115.256 985.108 115.256 976.381 Q115.256 967.631 118.311 963.048 Q121.39 958.441 127.2 958.441 Z\" fill=\"#000000\" fill-rule=\"nonzero\" fill-opacity=\"1\" /><path clip-path=\"url(#clip510)\" d=\"M147.362 987.747 L152.246 987.747 L152.246 993.626 L147.362 993.626 L147.362 987.747 Z\" fill=\"#000000\" fill-rule=\"nonzero\" fill-opacity=\"1\" /><path clip-path=\"url(#clip510)\" d=\"M172.431 962.145 Q168.82 962.145 166.991 965.71 Q165.186 969.252 165.186 976.381 Q165.186 983.488 166.991 987.052 Q168.82 990.594 172.431 990.594 Q176.065 990.594 177.871 987.052 Q179.7 983.488 179.7 976.381 Q179.7 969.252 177.871 965.71 Q176.065 962.145 172.431 962.145 M172.431 958.441 Q178.241 958.441 181.297 963.048 Q184.376 967.631 184.376 976.381 Q184.376 985.108 181.297 989.714 Q178.241 994.298 172.431 994.298 Q166.621 994.298 163.542 989.714 Q160.487 985.108 160.487 976.381 Q160.487 967.631 163.542 963.048 Q166.621 958.441 172.431 958.441 Z\" fill=\"#000000\" fill-rule=\"nonzero\" fill-opacity=\"1\" /><path clip-path=\"url(#clip510)\" d=\"M191.413 959.066 L213.635 959.066 L213.635 961.057 L201.088 993.626 L196.204 993.626 L208.01 963.002 L191.413 963.002 L191.413 959.066 Z\" fill=\"#000000\" fill-rule=\"nonzero\" fill-opacity=\"1\" /><path clip-path=\"url(#clip510)\" d=\"M222.801 959.066 L241.158 959.066 L241.158 963.002 L227.084 963.002 L227.084 971.474 Q228.102 971.127 229.121 970.965 Q230.139 970.779 231.158 970.779 Q236.945 970.779 240.324 973.951 Q243.704 977.122 243.704 982.539 Q243.704 988.117 240.232 991.219 Q236.76 994.298 230.44 994.298 Q228.264 994.298 225.996 993.927 Q223.75 993.557 221.343 992.816 L221.343 988.117 Q223.426 989.251 225.648 989.807 Q227.871 990.363 230.347 990.363 Q234.352 990.363 236.69 988.256 Q239.028 986.15 239.028 982.539 Q239.028 978.927 236.69 976.821 Q234.352 974.715 230.347 974.715 Q228.473 974.715 226.598 975.131 Q224.746 975.548 222.801 976.427 L222.801 959.066 Z\" fill=\"#000000\" fill-rule=\"nonzero\" fill-opacity=\"1\" /><path clip-path=\"url(#clip510)\" d=\"M126.205 703.847 Q122.593 703.847 120.765 707.412 Q118.959 710.953 118.959 718.083 Q118.959 725.189 120.765 728.754 Q122.593 732.296 126.205 732.296 Q129.839 732.296 131.644 728.754 Q133.473 725.189 133.473 718.083 Q133.473 710.953 131.644 707.412 Q129.839 703.847 126.205 703.847 M126.205 700.143 Q132.015 700.143 135.07 704.75 Q138.149 709.333 138.149 718.083 Q138.149 726.81 135.07 731.416 Q132.015 735.999 126.205 735.999 Q120.394 735.999 117.316 731.416 Q114.26 726.81 114.26 718.083 Q114.26 709.333 117.316 704.75 Q120.394 700.143 126.205 700.143 Z\" fill=\"#000000\" fill-rule=\"nonzero\" fill-opacity=\"1\" /><path clip-path=\"url(#clip510)\" d=\"M146.366 729.449 L151.251 729.449 L151.251 735.328 L146.366 735.328 L146.366 729.449 Z\" fill=\"#000000\" fill-rule=\"nonzero\" fill-opacity=\"1\" /><path clip-path=\"url(#clip510)\" d=\"M162.246 731.393 L169.885 731.393 L169.885 705.027 L161.575 706.694 L161.575 702.435 L169.839 700.768 L174.514 700.768 L174.514 731.393 L182.153 731.393 L182.153 735.328 L162.246 735.328 L162.246 731.393 Z\" fill=\"#000000\" fill-rule=\"nonzero\" fill-opacity=\"1\" /><path clip-path=\"url(#clip510)\" d=\"M201.598 703.847 Q197.987 703.847 196.158 707.412 Q194.352 710.953 194.352 718.083 Q194.352 725.189 196.158 728.754 Q197.987 732.296 201.598 732.296 Q205.232 732.296 207.037 728.754 Q208.866 725.189 208.866 718.083 Q208.866 710.953 207.037 707.412 Q205.232 703.847 201.598 703.847 M201.598 700.143 Q207.408 700.143 210.463 704.75 Q213.542 709.333 213.542 718.083 Q213.542 726.81 210.463 731.416 Q207.408 735.999 201.598 735.999 Q195.787 735.999 192.709 731.416 Q189.653 726.81 189.653 718.083 Q189.653 709.333 192.709 704.75 Q195.787 700.143 201.598 700.143 Z\" fill=\"#000000\" fill-rule=\"nonzero\" fill-opacity=\"1\" /><path clip-path=\"url(#clip510)\" d=\"M231.76 703.847 Q228.148 703.847 226.32 707.412 Q224.514 710.953 224.514 718.083 Q224.514 725.189 226.32 728.754 Q228.148 732.296 231.76 732.296 Q235.394 732.296 237.199 728.754 Q239.028 725.189 239.028 718.083 Q239.028 710.953 237.199 707.412 Q235.394 703.847 231.76 703.847 M231.76 700.143 Q237.57 700.143 240.625 704.75 Q243.704 709.333 243.704 718.083 Q243.704 726.81 240.625 731.416 Q237.57 735.999 231.76 735.999 Q225.949 735.999 222.871 731.416 Q219.815 726.81 219.815 718.083 Q219.815 709.333 222.871 704.75 Q225.949 700.143 231.76 700.143 Z\" fill=\"#000000\" fill-rule=\"nonzero\" fill-opacity=\"1\" /><path clip-path=\"url(#clip510)\" d=\"M127.2 445.548 Q123.589 445.548 121.76 449.113 Q119.955 452.655 119.955 459.784 Q119.955 466.891 121.76 470.456 Q123.589 473.997 127.2 473.997 Q130.834 473.997 132.64 470.456 Q134.468 466.891 134.468 459.784 Q134.468 452.655 132.64 449.113 Q130.834 445.548 127.2 445.548 M127.2 441.845 Q133.01 441.845 136.066 446.451 Q139.144 451.035 139.144 459.784 Q139.144 468.511 136.066 473.118 Q133.01 477.701 127.2 477.701 Q121.39 477.701 118.311 473.118 Q115.256 468.511 115.256 459.784 Q115.256 451.035 118.311 446.451 Q121.39 441.845 127.2 441.845 Z\" fill=\"#000000\" fill-rule=\"nonzero\" fill-opacity=\"1\" /><path clip-path=\"url(#clip510)\" d=\"M147.362 471.15 L152.246 471.15 L152.246 477.03 L147.362 477.03 L147.362 471.15 Z\" fill=\"#000000\" fill-rule=\"nonzero\" fill-opacity=\"1\" /><path clip-path=\"url(#clip510)\" d=\"M163.241 473.095 L170.88 473.095 L170.88 446.729 L162.57 448.396 L162.57 444.136 L170.834 442.47 L175.51 442.47 L175.51 473.095 L183.149 473.095 L183.149 477.03 L163.241 477.03 L163.241 473.095 Z\" fill=\"#000000\" fill-rule=\"nonzero\" fill-opacity=\"1\" /><path clip-path=\"url(#clip510)\" d=\"M196.621 473.095 L212.94 473.095 L212.94 477.03 L190.996 477.03 L190.996 473.095 Q193.658 470.34 198.241 465.71 Q202.848 461.058 204.028 459.715 Q206.274 457.192 207.153 455.456 Q208.056 453.697 208.056 452.007 Q208.056 449.252 206.112 447.516 Q204.19 445.78 201.088 445.78 Q198.889 445.78 196.436 446.544 Q194.005 447.308 191.227 448.859 L191.227 444.136 Q194.051 443.002 196.505 442.423 Q198.959 441.845 200.996 441.845 Q206.366 441.845 209.561 444.53 Q212.755 447.215 212.755 451.706 Q212.755 453.835 211.945 455.757 Q211.158 457.655 209.051 460.247 Q208.473 460.919 205.371 464.136 Q202.269 467.331 196.621 473.095 Z\" fill=\"#000000\" fill-rule=\"nonzero\" fill-opacity=\"1\" /><path clip-path=\"url(#clip510)\" d=\"M222.801 442.47 L241.158 442.47 L241.158 446.405 L227.084 446.405 L227.084 454.877 Q228.102 454.53 229.121 454.368 Q230.139 454.183 231.158 454.183 Q236.945 454.183 240.324 457.354 Q243.704 460.525 243.704 465.942 Q243.704 471.521 240.232 474.622 Q236.76 477.701 230.44 477.701 Q228.264 477.701 225.996 477.331 Q223.75 476.96 221.343 476.22 L221.343 471.521 Q223.426 472.655 225.648 473.21 Q227.871 473.766 230.347 473.766 Q234.352 473.766 236.69 471.659 Q239.028 469.553 239.028 465.942 Q239.028 462.331 236.69 460.224 Q234.352 458.118 230.347 458.118 Q228.473 458.118 226.598 458.534 Q224.746 458.951 222.801 459.831 L222.801 442.47 Z\" fill=\"#000000\" fill-rule=\"nonzero\" fill-opacity=\"1\" /><path clip-path=\"url(#clip510)\" d=\"M126.205 187.25 Q122.593 187.25 120.765 190.815 Q118.959 194.357 118.959 201.486 Q118.959 208.593 120.765 212.157 Q122.593 215.699 126.205 215.699 Q129.839 215.699 131.644 212.157 Q133.473 208.593 133.473 201.486 Q133.473 194.357 131.644 190.815 Q129.839 187.25 126.205 187.25 M126.205 183.546 Q132.015 183.546 135.07 188.153 Q138.149 192.736 138.149 201.486 Q138.149 210.213 135.07 214.819 Q132.015 219.403 126.205 219.403 Q120.394 219.403 117.316 214.819 Q114.26 210.213 114.26 201.486 Q114.26 192.736 117.316 188.153 Q120.394 183.546 126.205 183.546 Z\" fill=\"#000000\" fill-rule=\"nonzero\" fill-opacity=\"1\" /><path clip-path=\"url(#clip510)\" d=\"M146.366 212.852 L151.251 212.852 L151.251 218.731 L146.366 218.731 L146.366 212.852 Z\" fill=\"#000000\" fill-rule=\"nonzero\" fill-opacity=\"1\" /><path clip-path=\"url(#clip510)\" d=\"M162.246 214.796 L169.885 214.796 L169.885 188.431 L161.575 190.097 L161.575 185.838 L169.839 184.171 L174.514 184.171 L174.514 214.796 L182.153 214.796 L182.153 218.731 L162.246 218.731 L162.246 214.796 Z\" fill=\"#000000\" fill-rule=\"nonzero\" fill-opacity=\"1\" /><path clip-path=\"url(#clip510)\" d=\"M191.644 184.171 L210 184.171 L210 188.107 L195.926 188.107 L195.926 196.579 Q196.945 196.232 197.963 196.069 Q198.982 195.884 200 195.884 Q205.787 195.884 209.167 199.056 Q212.547 202.227 212.547 207.644 Q212.547 213.222 209.074 216.324 Q205.602 219.403 199.283 219.403 Q197.107 219.403 194.838 219.032 Q192.593 218.662 190.186 217.921 L190.186 213.222 Q192.269 214.356 194.491 214.912 Q196.713 215.468 199.19 215.468 Q203.195 215.468 205.533 213.361 Q207.871 211.255 207.871 207.644 Q207.871 204.032 205.533 201.926 Q203.195 199.819 199.19 199.819 Q197.315 199.819 195.44 200.236 Q193.588 200.653 191.644 201.532 L191.644 184.171 Z\" fill=\"#000000\" fill-rule=\"nonzero\" fill-opacity=\"1\" /><path clip-path=\"url(#clip510)\" d=\"M231.76 187.25 Q228.148 187.25 226.32 190.815 Q224.514 194.357 224.514 201.486 Q224.514 208.593 226.32 212.157 Q228.148 215.699 231.76 215.699 Q235.394 215.699 237.199 212.157 Q239.028 208.593 239.028 201.486 Q239.028 194.357 237.199 190.815 Q235.394 187.25 231.76 187.25 M231.76 183.546 Q237.57 183.546 240.625 188.153 Q243.704 192.736 243.704 201.486 Q243.704 210.213 240.625 214.819 Q237.57 219.403 231.76 219.403 Q225.949 219.403 222.871 214.819 Q219.815 210.213 219.815 201.486 Q219.815 192.736 222.871 188.153 Q225.949 183.546 231.76 183.546 Z\" fill=\"#000000\" fill-rule=\"nonzero\" fill-opacity=\"1\" /><path clip-path=\"url(#clip510)\" d=\"M33.7671 725.138 L14.479 725.138 L14.479 719.282 L64.0042 719.282 L64.0042 725.138 L58.657 725.138 Q61.8398 726.984 63.3994 729.817 Q64.9272 732.618 64.9272 736.565 Q64.9272 743.026 59.771 747.1 Q54.6147 751.142 46.212 751.142 Q37.8093 751.142 32.6531 747.1 Q27.4968 743.026 27.4968 736.565 Q27.4968 732.618 29.0564 729.817 Q30.5842 726.984 33.7671 725.138 M46.212 745.095 Q52.6732 745.095 56.3653 742.453 Q60.0256 739.779 60.0256 735.132 Q60.0256 730.485 56.3653 727.812 Q52.6732 725.138 46.212 725.138 Q39.7508 725.138 36.0905 727.812 Q32.3984 730.485 32.3984 735.132 Q32.3984 739.779 36.0905 742.453 Q39.7508 745.095 46.212 745.095 Z\" fill=\"#000000\" fill-rule=\"nonzero\" fill-opacity=\"1\" /><circle clip-path=\"url(#clip512)\" cx=\"338.375\" cy=\"1059.68\" r=\"14.4\" fill=\"#009af9\" fill-rule=\"evenodd\" fill-opacity=\"1\" stroke=\"#000000\" stroke-opacity=\"1\" stroke-width=\"3.2\"/>\n",
       "<circle clip-path=\"url(#clip512)\" cx=\"427.271\" cy=\"770.041\" r=\"14.4\" fill=\"#009af9\" fill-rule=\"evenodd\" fill-opacity=\"1\" stroke=\"#000000\" stroke-opacity=\"1\" stroke-width=\"3.2\"/>\n",
       "<circle clip-path=\"url(#clip512)\" cx=\"516.167\" cy=\"540.789\" r=\"14.4\" fill=\"#009af9\" fill-rule=\"evenodd\" fill-opacity=\"1\" stroke=\"#000000\" stroke-opacity=\"1\" stroke-width=\"3.2\"/>\n",
       "<circle clip-path=\"url(#clip512)\" cx=\"605.063\" cy=\"368.618\" r=\"14.4\" fill=\"#009af9\" fill-rule=\"evenodd\" fill-opacity=\"1\" stroke=\"#000000\" stroke-opacity=\"1\" stroke-width=\"3.2\"/>\n",
       "<circle clip-path=\"url(#clip512)\" cx=\"693.959\" cy=\"264.19\" r=\"14.4\" fill=\"#009af9\" fill-rule=\"evenodd\" fill-opacity=\"1\" stroke=\"#000000\" stroke-opacity=\"1\" stroke-width=\"3.2\"/>\n",
       "<circle clip-path=\"url(#clip512)\" cx=\"782.855\" cy=\"183.718\" r=\"14.4\" fill=\"#009af9\" fill-rule=\"evenodd\" fill-opacity=\"1\" stroke=\"#000000\" stroke-opacity=\"1\" stroke-width=\"3.2\"/>\n",
       "<circle clip-path=\"url(#clip512)\" cx=\"871.75\" cy=\"129.903\" r=\"14.4\" fill=\"#009af9\" fill-rule=\"evenodd\" fill-opacity=\"1\" stroke=\"#000000\" stroke-opacity=\"1\" stroke-width=\"3.2\"/>\n",
       "<circle clip-path=\"url(#clip512)\" cx=\"960.646\" cy=\"98.4346\" r=\"14.4\" fill=\"#009af9\" fill-rule=\"evenodd\" fill-opacity=\"1\" stroke=\"#000000\" stroke-opacity=\"1\" stroke-width=\"3.2\"/>\n",
       "<circle clip-path=\"url(#clip512)\" cx=\"1049.54\" cy=\"86.1857\" r=\"14.4\" fill=\"#009af9\" fill-rule=\"evenodd\" fill-opacity=\"1\" stroke=\"#000000\" stroke-opacity=\"1\" stroke-width=\"3.2\"/>\n",
       "<circle clip-path=\"url(#clip512)\" cx=\"1138.44\" cy=\"88.0746\" r=\"14.4\" fill=\"#009af9\" fill-rule=\"evenodd\" fill-opacity=\"1\" stroke=\"#000000\" stroke-opacity=\"1\" stroke-width=\"3.2\"/>\n",
       "<circle clip-path=\"url(#clip512)\" cx=\"1227.33\" cy=\"110.579\" r=\"14.4\" fill=\"#009af9\" fill-rule=\"evenodd\" fill-opacity=\"1\" stroke=\"#000000\" stroke-opacity=\"1\" stroke-width=\"3.2\"/>\n",
       "<circle clip-path=\"url(#clip512)\" cx=\"1316.23\" cy=\"141.729\" r=\"14.4\" fill=\"#009af9\" fill-rule=\"evenodd\" fill-opacity=\"1\" stroke=\"#000000\" stroke-opacity=\"1\" stroke-width=\"3.2\"/>\n",
       "<circle clip-path=\"url(#clip512)\" cx=\"1405.13\" cy=\"192.85\" r=\"14.4\" fill=\"#009af9\" fill-rule=\"evenodd\" fill-opacity=\"1\" stroke=\"#000000\" stroke-opacity=\"1\" stroke-width=\"3.2\"/>\n",
       "<circle clip-path=\"url(#clip512)\" cx=\"1494.02\" cy=\"255.554\" r=\"14.4\" fill=\"#009af9\" fill-rule=\"evenodd\" fill-opacity=\"1\" stroke=\"#000000\" stroke-opacity=\"1\" stroke-width=\"3.2\"/>\n",
       "<circle clip-path=\"url(#clip512)\" cx=\"1582.92\" cy=\"328.83\" r=\"14.4\" fill=\"#009af9\" fill-rule=\"evenodd\" fill-opacity=\"1\" stroke=\"#000000\" stroke-opacity=\"1\" stroke-width=\"3.2\"/>\n",
       "<circle clip-path=\"url(#clip512)\" cx=\"1671.81\" cy=\"419.016\" r=\"14.4\" fill=\"#009af9\" fill-rule=\"evenodd\" fill-opacity=\"1\" stroke=\"#000000\" stroke-opacity=\"1\" stroke-width=\"3.2\"/>\n",
       "<circle clip-path=\"url(#clip512)\" cx=\"1760.71\" cy=\"520.906\" r=\"14.4\" fill=\"#009af9\" fill-rule=\"evenodd\" fill-opacity=\"1\" stroke=\"#000000\" stroke-opacity=\"1\" stroke-width=\"3.2\"/>\n",
       "<circle clip-path=\"url(#clip512)\" cx=\"1849.61\" cy=\"634.307\" r=\"14.4\" fill=\"#009af9\" fill-rule=\"evenodd\" fill-opacity=\"1\" stroke=\"#000000\" stroke-opacity=\"1\" stroke-width=\"3.2\"/>\n",
       "<circle clip-path=\"url(#clip512)\" cx=\"1938.5\" cy=\"759.626\" r=\"14.4\" fill=\"#009af9\" fill-rule=\"evenodd\" fill-opacity=\"1\" stroke=\"#000000\" stroke-opacity=\"1\" stroke-width=\"3.2\"/>\n",
       "<circle clip-path=\"url(#clip512)\" cx=\"2027.4\" cy=\"899.129\" r=\"14.4\" fill=\"#009af9\" fill-rule=\"evenodd\" fill-opacity=\"1\" stroke=\"#000000\" stroke-opacity=\"1\" stroke-width=\"3.2\"/>\n",
       "<circle clip-path=\"url(#clip512)\" cx=\"2116.29\" cy=\"1050.04\" r=\"14.4\" fill=\"#009af9\" fill-rule=\"evenodd\" fill-opacity=\"1\" stroke=\"#000000\" stroke-opacity=\"1\" stroke-width=\"3.2\"/>\n",
       "<circle clip-path=\"url(#clip512)\" cx=\"2205.19\" cy=\"1212.02\" r=\"14.4\" fill=\"#009af9\" fill-rule=\"evenodd\" fill-opacity=\"1\" stroke=\"#000000\" stroke-opacity=\"1\" stroke-width=\"3.2\"/>\n",
       "<circle clip-path=\"url(#clip512)\" cx=\"2294.08\" cy=\"1384.24\" r=\"14.4\" fill=\"#009af9\" fill-rule=\"evenodd\" fill-opacity=\"1\" stroke=\"#000000\" stroke-opacity=\"1\" stroke-width=\"3.2\"/>\n",
       "<path clip-path=\"url(#clip510)\" d=\"M1982.3 196.789 L2283.65 196.789 L2283.65 93.1086 L1982.3 93.1086  Z\" fill=\"#ffffff\" fill-rule=\"evenodd\" fill-opacity=\"1\"/>\n",
       "<polyline clip-path=\"url(#clip510)\" style=\"stroke:#000000; stroke-linecap:round; stroke-linejoin:round; stroke-width:4; stroke-opacity:1; fill:none\" points=\"1982.3,196.789 2283.65,196.789 2283.65,93.1086 1982.3,93.1086 1982.3,196.789 \"/>\n",
       "<circle clip-path=\"url(#clip510)\" cx=\"2074.43\" cy=\"144.949\" r=\"20.48\" fill=\"#009af9\" fill-rule=\"evenodd\" fill-opacity=\"1\" stroke=\"#000000\" stroke-opacity=\"1\" stroke-width=\"4.55111\"/>\n",
       "<path clip-path=\"url(#clip510)\" d=\"M2174.19 140.377 L2179.86 156.395 L2187.96 136.303 L2192.47 136.303 L2181.99 162.229 L2181.99 172.09 L2177.73 172.09 L2177.73 162.229 L2170.92 142.877 Q2169.9 139.96 2167.7 139.96 L2166.57 139.96 L2166.57 136.303 L2168.19 136.303 Q2172.75 136.303 2174.19 140.377 Z\" fill=\"#000000\" fill-rule=\"nonzero\" fill-opacity=\"1\" /><path clip-path=\"url(#clip510)\" d=\"M2198.91 140.701 L2228.58 140.701 L2228.58 144.59 L2198.91 144.59 L2198.91 140.701 M2198.91 150.145 L2228.58 150.145 L2228.58 154.081 L2198.91 154.081 L2198.91 150.145 Z\" fill=\"#000000\" fill-rule=\"nonzero\" fill-opacity=\"1\" /><path clip-path=\"url(#clip510)\" d=\"M2248.68 130.747 Q2245.06 130.747 2243.24 134.312 Q2241.43 137.854 2241.43 144.983 Q2241.43 152.09 2243.24 155.655 Q2245.06 159.196 2248.68 159.196 Q2252.31 159.196 2254.12 155.655 Q2255.94 152.09 2255.94 144.983 Q2255.94 137.854 2254.12 134.312 Q2252.31 130.747 2248.68 130.747 M2248.68 127.044 Q2254.49 127.044 2257.54 131.65 Q2260.62 136.233 2260.62 144.983 Q2260.62 153.71 2257.54 158.317 Q2254.49 162.9 2248.68 162.9 Q2242.87 162.9 2239.79 158.317 Q2236.73 153.71 2236.73 144.983 Q2236.73 136.233 2239.79 131.65 Q2242.87 127.044 2248.68 127.044 Z\" fill=\"#000000\" fill-rule=\"nonzero\" fill-opacity=\"1\" /></svg>\n"
      ]
     },
     "execution_count": 34,
     "metadata": {},
     "output_type": "execute_result"
    }
   ],
   "source": [
    "thetas=collect(pi/50:pi/50:(pi/2-pi/50))\n",
    "ds=[distance(initialv=(cos(theta),sin(theta)),m=1,g=1,gamma=10.,delta=2,dt=0.1) for theta in thetas]\n",
    "scatter(thetas,ds,xlabel=\"θ\",ylabel=\"d\",label=\"γ=0\")"
   ]
  },
  {
   "cell_type": "code",
   "execution_count": 35,
   "id": "90b298a5-b17a-4322-bd5e-44f92c102366",
   "metadata": {},
   "outputs": [],
   "source": [
    "struct dual\n",
    "    val\n",
    "    deriv\n",
    "end\n",
    "\n",
    "Base.:*(a::dual,b)=dual(a.val*b,a.deriv*b)\n",
    "Base.:*(b,a::dual)=dual(b*a.val,b*a.deriv)\n",
    "Base.:*(a::dual,b::dual)=dual(a.val*b.val,a.deriv*b.val+a.val*b.deriv)\n",
    "Base.:+(a::dual,b)=dual(a.val+b,a.deriv)\n",
    "Base.:+(b,a::dual)=dual(b+a.val,a.deriv)\n",
    "Base.:+(a::dual,b::dual)=dual(a.val+b.val,a.deriv+b.deriv)\n",
    "Base.:-(a::dual,b)=dual(a.val-b,a.deriv)\n",
    "Base.:-(b,a::dual)=dual(b-a.val,-a.deriv)\n",
    "Base.:-(a::dual,b::dual)=dual(a.val-b.val,a.deriv-b.deriv)\n",
    "\n",
    "Base.:>(a::dual,b)=a.val>b\n",
    "Base.:<(a::dual,b)=a.val<b\n",
    "Base.:>(b,a::dual)=b>a.val\n",
    "Base.:<(b,a::dual)=b<a.val\n",
    "\n",
    "Base.cos(a::dual)=dual(cos(a.val),-sin(a.val)*a.deriv)\n",
    "Base.sin(a::dual)=dual(sin(a.val),cos(a.val)*a.deriv)\n",
    "\n",
    "Base.:^(a::dual,b)=dual(a.val^b,b*a.val^(b-1)*a.deriv)\n",
    "\n",
    "Base.:-(a::dual)=dual(-a.val,-a.deriv)\n",
    "\n",
    "Base.:/(a::dual,b::dual)=dual(a.val/b.val,a.deriv/b.val-a.val/(b.val)^2*b.deriv)\n",
    "Base.:/(a::dual,b)=dual(a.val/b,a.deriv/b)"
   ]
  },
  {
   "cell_type": "code",
   "execution_count": 37,
   "id": "bd25befc-b246-41c5-9d29-e530bd77cd78",
   "metadata": {},
   "outputs": [
    {
     "name": "stdout",
     "output_type": "stream",
     "text": [
      "  0.000590 seconds (29.63 k allocations: 671.500 KiB)\n"
     ]
    },
    {
     "data": {
      "text/plain": [
       "dual(0.841461602137972, 1.093065387505064)"
      ]
     },
     "execution_count": 37,
     "metadata": {},
     "output_type": "execute_result"
    }
   ],
   "source": [
    "function dist1(theta)\n",
    "    initialv=(cos(theta),sin(theta))\n",
    "    distance(initialv=initialv,m=1,g=1,gamma=0,delta=2,dt=0.01)\n",
    "end\n",
    "\n",
    "@time dist1(dual(0.5,1))"
   ]
  },
  {
   "cell_type": "markdown",
   "id": "a1cc84a9-049c-4274-80fc-e4aff5697519",
   "metadata": {},
   "source": [
    "Lets compare with our finite differences"
   ]
  },
  {
   "cell_type": "code",
   "execution_count": 39,
   "id": "15bcbba2-fa52-47fc-9feb-f20283a1b62a",
   "metadata": {},
   "outputs": [
    {
     "name": "stdout",
     "output_type": "stream",
     "text": [
      "  0.000538 seconds (14.04 k allocations: 476.094 KiB)\n"
     ]
    },
    {
     "data": {
      "text/plain": [
       "1.0930654018138735"
      ]
     },
     "execution_count": 39,
     "metadata": {},
     "output_type": "execute_result"
    }
   ],
   "source": [
    "@time approxder3(dist1,0.5,1e-4)"
   ]
  },
  {
   "cell_type": "markdown",
   "id": "3047b729-f4ec-4b8e-bafb-2016ba033969",
   "metadata": {},
   "source": [
    "We could also look at the derivitive with respect to some other quantity -- say the strength of gravity"
   ]
  },
  {
   "cell_type": "code",
   "execution_count": 40,
   "id": "c58d2971-6f43-49dc-ae20-1e7d53f411f6",
   "metadata": {},
   "outputs": [
    {
     "data": {
      "text/plain": [
       "dual(0.20275862068965514, -0.014268727705112963)"
      ]
     },
     "execution_count": 40,
     "metadata": {},
     "output_type": "execute_result"
    }
   ],
   "source": [
    "function dist2(g)\n",
    "    initialv=(dual(1.,0.),dual(1.,0.))\n",
    "    distance(initialv=initialv,m=1,g=g,gamma=0,delta=2,dt=0.1)\n",
    "end\n",
    "\n",
    "dist2(dual(9.8,1.))"
   ]
  },
  {
   "cell_type": "markdown",
   "id": "0b8cacde-5693-4baa-a137-3bc129ccfa96",
   "metadata": {},
   "source": [
    "## Derivatives with respect to multiple parameters"
   ]
  },
  {
   "cell_type": "code",
   "execution_count": 41,
   "id": "9966bd92-9c94-45f4-b89d-092f2d7cd6af",
   "metadata": {},
   "outputs": [
    {
     "data": {
      "text/plain": [
       "dual(2.0000000000000004, [2.0000000000000004, 2.010050251256236])"
      ]
     },
     "execution_count": 41,
     "metadata": {},
     "output_type": "execute_result"
    }
   ],
   "source": [
    "distance(initialv=[dual(1.,[1.,0.]),dual(1.,[0.,1.])],m=1,g=1,gamma=0,delta=2,dt=0.01)"
   ]
  },
  {
   "cell_type": "markdown",
   "id": "7a15ef31-af85-43d5-8843-3013a001698f",
   "metadata": {},
   "source": [
    "## Second derivatives"
   ]
  },
  {
   "cell_type": "code",
   "execution_count": 44,
   "id": "be5cbded-1cd2-4e3c-b233-0c092ee6fc4e",
   "metadata": {},
   "outputs": [
    {
     "data": {
      "text/plain": [
       "f (generic function with 1 method)"
      ]
     },
     "execution_count": 44,
     "metadata": {},
     "output_type": "execute_result"
    }
   ],
   "source": [
    "f(x)=x*x*x"
   ]
  },
  {
   "cell_type": "code",
   "execution_count": 47,
   "id": "b3bb68bb-d89f-440f-98f4-a7c62c10662c",
   "metadata": {},
   "outputs": [
    {
     "data": {
      "text/plain": [
       "dual(dual(1, 3), dual(3, 6))"
      ]
     },
     "execution_count": 47,
     "metadata": {},
     "output_type": "execute_result"
    }
   ],
   "source": [
    "f(dual(dual(1,1),dual(1,0)))"
   ]
  },
  {
   "cell_type": "markdown",
   "id": "787af97b-80c3-4ff1-ae2a-b47333dc7cb1",
   "metadata": {},
   "source": [
    "## Packages for Automatic Differentiation"
   ]
  },
  {
   "cell_type": "markdown",
   "id": "a22a4664-0598-41e2-b502-292b1ccd4579",
   "metadata": {},
   "source": [
    "In practice one would probably never write one own's automatic differentiation code.  The one we wrote worked fine for our purposes, but once you understand the principle it is nice to let someone else do the hard work "
   ]
  },
  {
   "cell_type": "code",
   "execution_count": 48,
   "id": "2ac62e34-816c-4353-8825-d66236128c2b",
   "metadata": {},
   "outputs": [],
   "source": [
    "using ForwardDiff"
   ]
  },
  {
   "cell_type": "code",
   "execution_count": 49,
   "id": "dd5c1bb6-a10e-42f9-99bc-ed522928cb74",
   "metadata": {},
   "outputs": [
    {
     "data": {
      "text/plain": [
       "ForwardDiff"
      ]
     },
     "execution_count": 49,
     "metadata": {},
     "output_type": "execute_result"
    }
   ],
   "source": [
    "fd=ForwardDiff"
   ]
  },
  {
   "cell_type": "code",
   "execution_count": 55,
   "id": "90bdf330-2eca-45c9-93e5-527a7e6518e4",
   "metadata": {},
   "outputs": [
    {
     "name": "stdout",
     "output_type": "stream",
     "text": [
      "  0.000340 seconds (7.02 k allocations: 338.641 KiB)\n"
     ]
    },
    {
     "data": {
      "text/plain": [
       "1.093065387505064"
      ]
     },
     "execution_count": 55,
     "metadata": {},
     "output_type": "execute_result"
    }
   ],
   "source": [
    "@time fd.derivative(dist1,0.5)"
   ]
  },
  {
   "cell_type": "code",
   "execution_count": 51,
   "id": "695cee42-41ea-49fb-a437-a28a961a78df",
   "metadata": {},
   "outputs": [
    {
     "name": "stdout",
     "output_type": "stream",
     "text": [
      "  0.000218 seconds (7.02 k allocations: 238.047 KiB)\n"
     ]
    },
    {
     "data": {
      "text/plain": [
       "0.841461602137972"
      ]
     },
     "execution_count": 51,
     "metadata": {},
     "output_type": "execute_result"
    }
   ],
   "source": [
    "@time dist1(0.5)"
   ]
  },
  {
   "cell_type": "code",
   "execution_count": 56,
   "id": "23305cd8-ebf2-45c4-9a55-719c0f479423",
   "metadata": {},
   "outputs": [
    {
     "name": "stdout",
     "output_type": "stream",
     "text": [
      "  0.000667 seconds (29.63 k allocations: 671.500 KiB)\n"
     ]
    },
    {
     "data": {
      "text/plain": [
       "dual(0.841461602137972, 1.093065387505064)"
      ]
     },
     "execution_count": 56,
     "metadata": {},
     "output_type": "execute_result"
    }
   ],
   "source": [
    "@time dist1(dual(0.5,1))"
   ]
  },
  {
   "cell_type": "markdown",
   "id": "95eb2786-13ea-44f3-a1b8-e0b242490129",
   "metadata": {},
   "source": [
    "Under the hood, `ForwardDiff.jl` just uses the same dual number structure -- but with some extra tricks to make things run faster.  (About a factor of 2 faster than our code)"
   ]
  },
  {
   "cell_type": "code",
   "execution_count": 58,
   "id": "c20b0ab7-412f-4a8c-b625-42794cf639c5",
   "metadata": {},
   "outputs": [
    {
     "name": "stdout",
     "output_type": "stream",
     "text": [
      "  0.000362 seconds (7.02 k allocations: 338.656 KiB)\n"
     ]
    },
    {
     "data": {
      "text/plain": [
       "Dual{Float64}(0.841461602137972,1.093065387505064)"
      ]
     },
     "execution_count": 58,
     "metadata": {},
     "output_type": "execute_result"
    }
   ],
   "source": [
    "d1=fd.Dual{Float64}(0.5,fd.Partials((1.,)))\n",
    "@time dist1(d1)"
   ]
  },
  {
   "cell_type": "markdown",
   "id": "1e4ac98c-bd92-44e8-b519-f857fe6ae766",
   "metadata": {},
   "source": [
    "## Back Propegation / Backward AD"
   ]
  },
  {
   "cell_type": "markdown",
   "id": "c182f309-5503-43e0-b104-b0363079ed25",
   "metadata": {},
   "source": [
    "The algorithm that we developed is known as **forward pass automatic differentiation**.  There is an alternative algorithm known as **backward pass automatic differentiation**."
   ]
  },
  {
   "cell_type": "markdown",
   "id": "4ddf09cc-0653-428b-ae3b-17f8b01b821e",
   "metadata": {},
   "source": [
    "I may not have time to go through all of this section.  The punch line is that forward-pass is good for the case where you have a small number of inputs, and an arbitrary number of outputs.  It then efficiently calculates the derivatives of each of the outputs with respect to the input.  Backward-pass is good when you have many inputs and a small number of outputs."
   ]
  },
  {
   "cell_type": "markdown",
   "id": "10e6e8a9-5c5b-4e2a-9e99-b5cb5c651145",
   "metadata": {},
   "source": [
    "To elaborate on this, lets think about chained unary operations $x\\rightarrow y\\rightarrow z\\rightarrow f$.\n",
    "\n",
    "In forward pass we first calculate $dy/dx$ as a number, and then $dz/dx=dz/dy*dy/dx$, and then $df/dx=df/dz*dz/dx$.  We work from left to right.\n",
    "\n",
    "In backward pass we first calculate $df/dz$ as a number.  Then we get the numerical value of $df/dy=df/dz*dz/dy$.  Finally we calculate $df/dx=df/dy*dy/dx$.  \n",
    "\n",
    "The end result is the same: \n",
    "\\begin{align}\n",
    "\\frac{df}{dx}&=\\frac{df}{dz}\\left(\\frac{dz}{dy}\\frac{dy}{dx}\\right)\\quad&\\mbox{(forward)}\\\\\n",
    "\\frac{df}{dx}&=\\left(\\frac{df}{dz}\\frac{dz}{dy}\\right)\\frac{dy}{dx}\\quad&\\mbox{(backward)}\n",
    "\\end{align}\n",
    "\\begin{align}\n",
    "\\end{align}\n",
    "The only difference is the order in which the numbers are calculated.  As you will see, the book-keeping is easier for the forward algorithm -- thats what the dual number construction does.  \n",
    "\n",
    "Suppose $x,y,z,f$ are vectors of length $N_x,N_y,N_z,N_f$.  In the forward algorithm we will be storing \n",
    "* $dy/dx$ -- a matrix of size $N_y\\times N_x$\n",
    "* $dz/dx$ -- a matrix of size $N_z\\times N_x$\n",
    "* $df/dx$ -- a matrix of size $N_f\\times N_x$\n",
    "  \n",
    "Conversely, in the backward algorithm we need\n",
    "* $df/dz$ -- a matrix of size $N_f\\times N_z$\n",
    "* $df/dy$ -- a matrix of size $N_f\\times N_y$\n",
    "* $df/dx$ -- a matrix of size $N_f\\times N_x$\n",
    "  \n",
    "There are therefore likely to be efficiencies in the forward method if $N_x\\ll N_f$.  Conversely, backward is probably better if $N_f\\ll N_x$."
   ]
  },
  {
   "cell_type": "markdown",
   "id": "f9c3b5f3-9c03-4116-b768-576c71600f86",
   "metadata": {},
   "source": [
    "Our case is a little more complicated, as we are not just doing a simple chain of unary operations -- rather we are doing binary operations $+,-,*$.  Here is a sketch of what the Forward algorithm was doing when we calculated the derivative of $f(x)=(x+1)x(x-2)$ at $x=1$ -- where I name all the intermediate results"
   ]
  },
  {
   "cell_type": "markdown",
   "id": "171b0440-b501-43a1-9d14-2c18f392d671",
   "metadata": {},
   "source": [
    "<img src=\"https://docs.google.com/drawings/d/e/2PACX-1vQaqU0DjOwLWcVgMLICbHpJp9z9pR8S5IPznZRjc2IpFGFHs8r3JuH4DMNJjDtl3KVg-fDltkZyecu4/pub?w=632&amp;h=718\">"
   ]
  },
  {
   "cell_type": "markdown",
   "id": "a48392d9-a71f-49c2-8bef-5b5ac1ebfc24",
   "metadata": {},
   "source": [
    "In that diagram, each operation is a box.  We track the derivative with respect to x of each intermediate result.  \n",
    "We want to calculate \n",
    "\\begin{equation}\n",
    "f=(x+1)*x*(x-2).\n",
    "\\end{equation}\n",
    "To do so we first calculate:\n",
    "\n",
    "$$y_1=x+1=2\\qquad \\frac{dy_1}{dx}=\\frac{dx}{dx} + \\frac{d1}{dx}=1$$\n",
    "\n",
    "which leaves us with $f=y_1*x*(x-2)$.  Next we calculate\n",
    "\n",
    "$$y_2=x-2=-1\\qquad \\frac{dy_2}{dx}=\\frac{dx}{dx}-\\frac{d2}{dx}=1$$\n",
    "\n",
    "which leads to $f=y_1*x*y_2$.  We then calculate\n",
    "\n",
    "$$y_3=y_1*x=2\\qquad \\frac{dy_3}{dx}=\\frac{d y_1}{dx}*x + y_1*\\frac{d x}{dx}=3$$\n",
    "\n",
    "Leaving us with\n",
    "\n",
    "$$\n",
    "f=y_3*y_2=-2\\qquad \\frac{df}{dx}=\\frac{d y_3}{dx}y_2 + y_3 \\frac{dy_2}{dx}-1.\n",
    "$$\n"
   ]
  },
  {
   "cell_type": "markdown",
   "id": "74705c86-98ac-4c3a-80f7-5b662ea98783",
   "metadata": {},
   "source": [
    "The magic of dual numbers is that all of the book-keeping is automatically taken care of."
   ]
  },
  {
   "cell_type": "markdown",
   "id": "d6fb068a-b95b-4b60-803c-fe42ec50de65",
   "metadata": {},
   "source": [
    "Reverse auto-differentiation is similar, but we need to do more of the book-keeping by hand.  It is a two-pass algorithm.  In the *forward pass* we construct a flowchart, similar to the one I drew for the forward differentiation case, but storing slightly different information.  We then do a *backward pass* in which we use the stored information to extract the derivitive."
   ]
  },
  {
   "cell_type": "markdown",
   "id": "728b5edb-028a-42ce-b507-316706d48ca1",
   "metadata": {},
   "source": [
    "One advantage of the reverse method is that it automatically gives us not just the derivative with respect to the input -- but also the derivative with respect to all of the parameters in the function:  The '1' and '-2' in $f(x)=(x+{\\color{red} 1})x(x{\\color{red}-2})$.  This is important in applications like machine learning.\n",
    "\n",
    "For many physics problems, forward mode AD works better than backwards mode."
   ]
  },
  {
   "cell_type": "markdown",
   "id": "2dde3f06-47e0-49c9-9daf-7dc5bdd3f1f4",
   "metadata": {},
   "source": [
    "For our problem, we will think of $f(x)=(x+1)x(x-2)$ as $f=(x_1+c_1)x_2(x_3-c_2)$, with $x_1=x_2=x_3=1$ and $c_1=1$, $c_2=2$.  In our forward pass we will generate a flowchart, keeping track of the derivatives of each operation with respect to its inputs:"
   ]
  },
  {
   "cell_type": "markdown",
   "id": "48410e2c-77e5-4326-bd8a-47513047317d",
   "metadata": {},
   "source": [
    "<img src=\"https://docs.google.com/drawings/d/e/2PACX-1vSQoVBopHlggGfWhN0QN5vGCx61i3digc54XFMaIDLr-oMQd3oRu_freVfG4Z8AtE5__dyLXSonD2TL/pub?w=567&amp;h=719\">"
   ]
  },
  {
   "cell_type": "markdown",
   "id": "7fd43d66-9945-46b3-ba94-bba57000fa56",
   "metadata": {},
   "source": [
    "Thus we store:\n",
    "\\begin{align}\n",
    "y_1&=x_1+c_1=2\\quad &dy_1/dx_1&=1, &dy_1/dc_1&=1\\\\\n",
    "y_2&=x_3-c_2=-1\\quad &dy_2/dx_3&=1, &dy_2/dc_2&=-1\\\\\n",
    "y_3&=y_1*x_3=2\\quad &dy_3/dy_1&=1, &dy_3/dx_2&=2\\\\\n",
    "f&=y_3*y_2=-1\\quad &df/dy_3&=-1, &df/fy_2&=2\n",
    "\\end{align}"
   ]
  },
  {
   "cell_type": "markdown",
   "id": "d25b4cd5-e7ef-4146-a81c-950a52691e3a",
   "metadata": {},
   "source": [
    "Next, we do a backward pass to generate $df/dz$ on the bond where $z$ is created.  This is a simple application of the chain rule.  Starting from the bottom, we know\n",
    "\\begin{equation}\n",
    "\\frac{df}{dy_3}=-1\n",
    "\\end{equation}\n",
    "We then go backwards to the node that generated it and use\n",
    "\\begin{equation}\n",
    "\\frac{df}{dy_1}=\\frac{df}{dy_3}\\frac{dy_3}{dy_1}=(-1)*1=-1.\n",
    "\\end{equation}\n",
    "In that way we generate the following graph:"
   ]
  },
  {
   "cell_type": "markdown",
   "id": "1e810780-d67e-460f-bf06-3776fbfa1bd7",
   "metadata": {},
   "source": [
    "<img src=\"https://docs.google.com/drawings/d/e/2PACX-1vQrTyyJyD75gJVgGkfto27JU4V-UlO7VuhLx15FelzFi0F2Gul55cHQc8SPJCng5GOT9l1Jpaf3MFG3/pub?w=568&amp;h=722\">"
   ]
  },
  {
   "cell_type": "markdown",
   "id": "86f5aba9-3550-4bfa-9b31-196894708c18",
   "metadata": {},
   "source": [
    "We can then just read off $df/dx$ from the leaves at the top of the graph by adding up the contributions from all of the red arrows leading to it.  As promissed, we also, for free, get $df/c_1$ and $df/dc_2$."
   ]
  },
  {
   "cell_type": "markdown",
   "id": "79918658-5387-4abb-a2c1-0375ba77ec9c",
   "metadata": {},
   "source": [
    "Coding backward AD is a little more involved than coding forward AD.  As with `ForwardDiff.jl` there are some great packages which do it for us.  Nonetheless, here is a primitive implementation."
   ]
  },
  {
   "cell_type": "markdown",
   "id": "51fc524b-7295-42ab-929a-f0781f0af077",
   "metadata": {},
   "source": [
    "The first thing is that we need a data structure which stores our graph.  We will call each box in our flowchart a node.  It knows about the  inputs -- which we will call `parents`.  It will know about the derivitive of the output with respect to the input -- which we will call `local_derivatives`.  It will know the value of the output, `value`, and the derivative of `f` with respect to the output -- `derivatives`.\n",
    "\n",
    "Note: I borrowed this code from [a forum post on discourse.julia.org](https://discourse.julialang.org/t/simple-implementation-of-reverse-mode-automatic-differentiation/78628)"
   ]
  },
  {
   "cell_type": "code",
   "execution_count": null,
   "id": "940a58f1-1bf9-481a-b84c-344cd51de87c",
   "metadata": {},
   "outputs": [],
   "source": [
    "mutable struct node\n",
    "\tvalue::Float64                     # Stores the value of the variable\n",
    "\tderivative::Float64                # Stores the value of derivative: df/dnode\n",
    "\tparents::Vector{node}              # Stores the input variables\n",
    "\tlocal_derivatives::Vector{Float64} # Local derivatives of outputs with respect to input variables\n",
    "\n",
    "\tfunction node(value)               # Constructor\n",
    "\t\tx = new()\t\t\t\t\t    \n",
    "\t\tx.value = value\n",
    "\t\tx.derivative = 0.0             # Needs to be set during back-propegation\n",
    "\t\tx.parents = []\n",
    "\t\tx.local_derivatives = []\n",
    "\t\treturn x\n",
    "\tend\n",
    "end\n",
    "\n",
    "function Base.:+(a::node, b::node)\n",
    "\tvalue = a.value + b.value\n",
    "\tC = node(value) \n",
    "\tC.parents = [a, b]\n",
    "\tC.local_derivatives = [1.0, 1.0]  # [dC/da,dC/db]\n",
    "\treturn C\n",
    "end\n",
    "\n",
    "function Base.:-(a::node, b::node)\n",
    "\tvalue = a.value - b.value\n",
    "\tC = node(value) \n",
    "\tC.parents = [a, b]\n",
    "\tC.local_derivatives = [1.0, -1.0] # [dC/da,dC/db]\n",
    "\treturn C\n",
    "end\n",
    "\n",
    "function Base.:*(a::node, b::node)\n",
    "\tvalue = a.value * b.value\n",
    "\tC = node(value) \n",
    "\tC.parents = [a, b]\n",
    "\tC.local_derivatives = [b.value, a.value] # [dC/da,dC/db]\n",
    "\treturn C\n",
    "end\n",
    "\n",
    "\"\"\"\n",
    "    set_derivatives_to_zero!(C::node)\n",
    "recursively follows the flowchart backwards, setting the the derivatives at all nodes to zero.  (When created nodes\n",
    "have their derivative set to zero, but we may want to be able to reuse variables.  Certainly causes no harm.\n",
    "\"\"\"\n",
    "function set_derivatives_to_zero!(C::node)\n",
    "\tfor i = 1:length(C.parents)\n",
    "\t\tC.parents[i].derivative = 0.0\n",
    "\t\tset_derivatives_to_zero!(C.parents[i])\n",
    "\tend\n",
    "\treturn nothing\n",
    "end\n",
    "\n",
    "\"\"\"\n",
    "   back_propegate!(C::node)\n",
    "Propegates the derivitive backward through the flowchart\n",
    "\"\"\"\n",
    "function back_propegate!(C::node)\n",
    "\tfor i = 1:length(C.parents)\n",
    "\t\tC.parents[i].derivative += C.derivative * C.local_derivatives[i] #df/di=df/dC dC/di\n",
    "\t\tback_propegate!(C.parents[i])\n",
    "\tend\n",
    "\treturn nothing\n",
    "end\n",
    "\n",
    "\"\"\"\n",
    "    calc_derivative!(f::node)\n",
    "starts the back-propegation from the last node\n",
    "\"\"\"\n",
    "function calc_derivative!(f::node)\n",
    "    set_derivatives_to_zero!(f)\n",
    "    f.derivative=1.  #df/df=1\n",
    "    back_propegate!(f)\n",
    "    return nothing\n",
    "end\n"
   ]
  },
  {
   "cell_type": "code",
   "execution_count": null,
   "id": "29c845da-044b-462e-bddb-0f06a82a1a5f",
   "metadata": {},
   "outputs": [],
   "source": [
    "xn=node(1)\n",
    "c1n=node(1)\n",
    "c2n=node(2)\n",
    "fn=(xn+c1n)*xn*(xn-c2n);"
   ]
  },
  {
   "cell_type": "code",
   "execution_count": null,
   "id": "2f864aad-bb1d-4ed1-9f94-e1d203975527",
   "metadata": {},
   "outputs": [],
   "source": [
    "fn.value"
   ]
  },
  {
   "cell_type": "code",
   "execution_count": null,
   "id": "230085d6-6ec1-410d-9f29-c29ff187758f",
   "metadata": {},
   "outputs": [],
   "source": [
    "calc_derivative!(fn)"
   ]
  },
  {
   "cell_type": "code",
   "execution_count": null,
   "id": "0025387e-5273-47c0-a4bf-f1620d03cfab",
   "metadata": {},
   "outputs": [],
   "source": [
    "xn.derivative # should give df/dx"
   ]
  },
  {
   "cell_type": "code",
   "execution_count": null,
   "id": "64c94b95-138c-44ed-b4ce-a59118407feb",
   "metadata": {},
   "outputs": [],
   "source": [
    "c1n.derivative # should give df/dc1"
   ]
  },
  {
   "cell_type": "code",
   "execution_count": null,
   "id": "18a7bd0e-2976-4ca9-b886-98d19f45f576",
   "metadata": {},
   "outputs": [],
   "source": [
    "c2n.derivative # should give df/dc2"
   ]
  },
  {
   "cell_type": "code",
   "execution_count": null,
   "id": "39687e12-0895-41d3-8a99-9b061f751bb0",
   "metadata": {},
   "outputs": [],
   "source": []
  }
 ],
 "metadata": {
  "kernelspec": {
   "display_name": "Julia 1.10.4",
   "language": "julia",
   "name": "julia-1.10"
  },
  "language_info": {
   "file_extension": ".jl",
   "mimetype": "application/julia",
   "name": "julia",
   "version": "1.10.4"
  }
 },
 "nbformat": 4,
 "nbformat_minor": 5
}
