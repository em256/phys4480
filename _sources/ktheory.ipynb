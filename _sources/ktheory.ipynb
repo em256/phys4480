{
 "cells": [
  {
   "cell_type": "markdown",
   "id": "a11c11a2-023d-4000-ab08-778aebe00b93",
   "metadata": {},
   "source": [
    "# Kinetic Theory of Gases"
   ]
  },
  {
   "cell_type": "markdown",
   "id": "32c54720-43d0-4934-b6f8-3689c178f480",
   "metadata": {},
   "source": [
    "In your lab you made a simulation of a gas of hard discs bouncing around in a billiard.  From an algorithm standpoint, you learned about event driven simulations, and some of the tricks of making these efficient.\n",
    "\n",
    "Today we will discuss some of the physics around this system.  It is one of the iconic many-body systems, which is used to think about many physical processes."
   ]
  },
  {
   "cell_type": "markdown",
   "id": "f2ff60b0-a5bc-4fe8-b410-e30e125e9f83",
   "metadata": {},
   "source": [
    "## Boltzmann distribution"
   ]
  },
  {
   "cell_type": "markdown",
   "id": "9053e55e-e192-4297-9dfb-5ffdbd702218",
   "metadata": {},
   "source": [
    "The first thing that we saw in this simulation is that after a few collsions, the state of the system was essentially random.  It is chaotic, and small changes in initial conditions lead to completely different configurations later.  Thus we are naturally led to a statistical description of the system, where we describe the statistical properties.  For example, if you look at a random frame of the simulation, and look at the speed of one of the particles, what distribution do you expect the speed to be drawn from?"
   ]
  },
  {
   "cell_type": "markdown",
   "id": "1e21cbc2-10b7-4c3c-9c7c-04ff3a45acb6",
   "metadata": {},
   "source": [
    "The generic argument here starts with the premise of *ergodicity*.  We posit that things are so random that any state of the system, consistent with the conservation laws, is equally likely.  Thus if we had 1 particle, it will have a random velocity whose magnitude is fixed, but whose direction is uniformly distributed.  With 2 particles, $v_{x1},v_{x2},v_{y1},v_{y2}$ are uniformly distributed with the constraint that $v_{x1}^2+v_{x2}^2+v_{y1}^2+v_{y2}^2$ is fixed."
   ]
  },
  {
   "cell_type": "markdown",
   "id": "06b9220f-046e-49ff-a025-9e67524802d8",
   "metadata": {},
   "source": [
    "Working with continuous probability distributions is a bit of a pain, so lets imagine that we discretize velocity-space.  We define $\\Omega(N,E)$ be the number of ways of choosing the velocities of $N$ particles, such that the total energy is $E$."
   ]
  },
  {
   "cell_type": "markdown",
   "id": "9af44f64-3a58-4154-9096-887f0372a690",
   "metadata": {},
   "source": [
    "Lets now consider a system of $N+1$ particles.  We want to know what the probability that the extra particles has velocity $\\vec v$.  To find that, we just count how many ways of arranging all of the other particles:\n",
    "\\begin{equation}\n",
    "P(\\vec{v})=\\frac{\\Omega(N,E-\\epsilon_v)}{\\Omega(N+1,E)}\n",
    "\\end{equation}\n",
    "here $\\epsilon_v=mv^2/2$ is the energy of the particle we are caring about.\n",
    "\n",
    "The next stage of the argument is to note that $\\Omega$ is exponentially big in $N$.  Thus it is natural to write\n",
    "\\begin{equation}\n",
    "\\Omega(N,E-\\epsilon_v)=e^{k_B S(N,E-\\epsilon_v)}\n",
    "\\end{equation}\n",
    "where $S$ should be proportional to $N$.  We call $S$ the entropy.  The factor of $k_B$ is just convention -- it gives the units of $S$.  The only physical quantity is $k_B S$.  I often take $k_B=1$.\n",
    "\n",
    "Next we note that generically $\\epsilon_v\\ll E$,\n",
    "so we can Taylor expand,\n",
    "\\begin{equation}\n",
    "S(N,E-\\epsilon_v)\\approx S(N,E)-\\epsilon_V \\frac{\\partial S(N,E)}{\\partial E}\n",
    "\\end{equation}\n",
    "The derivative $\\partial S/\\partial E$ is some function of $N$ and $E$.  We want to give this function a name.  By convention, we define\n",
    "\\begin{equation}\n",
    "\\frac{\\partial S(N,E)}{\\partial E}= \\frac{1}{T(N,E)}\n",
    "\\end{equation}\n",
    "where the function $T(N,E)$ is known as the temperature.  \n",
    "\n",
    "Putting this together, we have \n",
    "\\begin{equation}\n",
    "P(\\vec{v})\\propto e^{-\\frac{\\epsilon_v}{k_B T}},\n",
    "\\end{equation}\n",
    "which is known as the Boltzmann distribution.  To find the distribution for the speed, we note that \n",
    "\\begin{align}\n",
    "P(|v|)&= \\int \\!\\!d^2{\\vec{v}^\\prime}\\,P(\\vec{v}^\\prime)\\,\\delta(|v|-|\\vec{v}^\\prime|)\\\\\n",
    "&\\propto v e^{-\\frac{mv^2}{2k_B T}}.\n",
    "\\end{align}\n",
    "As a final step we normalize the distribution by noting that the total probability is equal to 1,\n",
    "\\begin{align}\n",
    "\\int_0^\\infty \\!\\!dv\\,v e^{-\\frac{mv^2}{2k_B T}}\n",
    "&=\\int_0^\\infty \\!\\!\\frac{dv^2}{2} e^{-\\frac{mv^2}{2k_B T}}\\\\\n",
    "&= \\frac{k_B T}{m}\n",
    "\\end{align}\n",
    "and hence\n",
    "\\begin{equation}\n",
    "P(|v|)= \\frac{m v}{k_B T} e^{-\\frac{mv^2}{2k_B T}}.\n",
    "\\end{equation}"
   ]
  },
  {
   "cell_type": "markdown",
   "id": "9a2c7622-f119-4a52-ac69-c839e1445ce8",
   "metadata": {},
   "source": [
    "Note, this result depends on dimension -- so the 3D results look slightly different."
   ]
  },
  {
   "cell_type": "code",
   "execution_count": null,
   "id": "08d8118c-6048-4240-95c1-8eff00a326a7",
   "metadata": {},
   "outputs": [],
   "source": [
    "using Plots,Logging,ProgressMeter,LinearAlgebra,LaTeXStrings\n",
    "\n",
    "abstract type Event end\n",
    "\n",
    "struct NullEvent <: Event\n",
    "    t ::Float64\n",
    "end\n",
    "\n",
    "NE=NullEvent(Inf)\n",
    "\n",
    "mutable struct Ball\n",
    "    x ::Float64\n",
    "    y ::Float64\n",
    "    vx ::Float64\n",
    "    vy ::Float64\n",
    "    radius ::Float64\n",
    "    nextevent ::Event\n",
    "end\n",
    "\n",
    "function set_xv!(ball ::Ball,xy,vxy)\n",
    "    ball.x,ball.y=xy\n",
    "    ball.vx,ball.vy=vxy\n",
    "    return ball\n",
    "end\n",
    "\n",
    "function set_r!(ball ::Ball,x,y)\n",
    "    ball.x=x\n",
    "    ball.y=y\n",
    "    return ball\n",
    "end\n",
    "\n",
    "function set_r!(ball ::Ball,r)\n",
    "    ball.x,ball.y=r\n",
    "    return ball\n",
    "end\n",
    "\n",
    "function set_v!(ball ::Ball,v)\n",
    "    ball.vx,ball.vy=v\n",
    "    return ball\n",
    "end\n",
    "\n",
    "function set_v!(ball ::Ball,vx,vy)\n",
    "    ball.vx=vx\n",
    "    ball.vy=vy\n",
    "    return ball\n",
    "end\n",
    "\n",
    "function get_r(ball ::Ball)\n",
    "    return [ball.x,ball.y]\n",
    "end\n",
    "\n",
    "function get_v(ball ::Ball)\n",
    "    return [ball.vx,ball.vy]\n",
    "end\n",
    "\n",
    "\n",
    "Base.show(io::IO,b::Ball)=print(io,\n",
    "    \"Ball << r=\"*repr((b.x,b.y))*\n",
    "    \" v=\"*repr((b.vx,b.vy))*\">>)\")\n",
    "\n",
    "Ball(;x,y,vx,vy,radius,nextevent=NE)=Ball(x,y,vx,vy,radius,nextevent) # keyword constructor\n",
    "function Ball(r,v,radius,nextevent=NE) # constructor using containers\n",
    "    x,y=r\n",
    "    vx,vy=v\n",
    "    Ball(x,y,vx,vy,radius,nextevent)\n",
    "end\n",
    "Ball(;r,v,radius,nextevent=NE)=Ball(r,v,radius,nextevent) # keyword constructor using containers\n",
    "\n",
    "abstract type Wall end\n",
    "\n",
    "struct Hwall <: Wall\n",
    "    y ::Float64\n",
    "end\n",
    "\n",
    "struct Vwall <: Wall\n",
    "    x ::Float64\n",
    "end\n",
    "\n",
    "function impact_time(w::Hwall,b::Ball,t)\n",
    "    dy=w.y-b.y\n",
    "    return (dy-sign(b.vy)*b.radius)/b.vy+t\n",
    "end\n",
    "\n",
    "function impact_time(w::Vwall,b::Ball,t)\n",
    "    dx=w.x-b.x\n",
    "    return (dx-sign(b.vx)*b.radius)/b.vx+t\n",
    "end\n",
    "\n",
    "impact_time(b::Ball,w::Wall,t)=impact_time(w,b,t)\n",
    "\n",
    "function circ_time(r0,v,r)\n",
    "    # Calculate the various terms in our expression\n",
    "    r0dotv=r0⋅v\n",
    "    if r0dotv>0 #moving away from one another\n",
    "        return Inf\n",
    "    end\n",
    "    vsq=v⋅v\n",
    "    r0sq=r0⋅r0\n",
    "    if r0sq<=r^2 #balls are interpenetrating\n",
    "        return Inf\n",
    "    end\n",
    "    discriminant=r0dotv^2+(r^2-r0sq)*vsq  \n",
    "    if discriminant<0 # balls will never hit one-another\n",
    "        return Inf\n",
    "    end\n",
    "    times=[(-r0dotv-sqrt(discriminant))/(vsq),(-r0dotv+sqrt(discriminant))/(vsq)]\n",
    "    t1,t2=minmax(times...)\n",
    "    if t2<=0\n",
    "        return Inf\n",
    "    end\n",
    "    if t1>0\n",
    "        return t1\n",
    "    end\n",
    "    return t2\n",
    "end\n",
    "\n",
    "impact_time(b1::Ball,b2::Ball,t)=\n",
    "    t+circ_time(get_r(b1)-get_r(b2),\n",
    "        get_v(b1)-get_v(b2),b1.radius+b2.radius)\n",
    "\n",
    "\n",
    "struct Collision <: Event\n",
    "    object1 :: Union{Ball,Wall}\n",
    "    object2 :: Union{Ball,Wall}\n",
    "    t  ::Float64     \n",
    "end\n",
    "\n",
    "mutable struct Billiard\n",
    "    walls ::Array{Wall}\n",
    "    balls ::Array{Ball}\n",
    "    t ::Float64\n",
    "    nextevent ::Event\n",
    "    boundingbox ::Array{Float64,1}# x1,y1,x2,y2 = corners of a rectangle\n",
    "end\n",
    "\n",
    "Billiard(;walls,balls,t=0.,nextevent=NE,boundingbox)=\n",
    "    Billiard(walls,balls,t,nextevent,boundingbox)\n",
    "\n",
    "function next_event(b::Ball,billiard::Billiard)\n",
    "    t=billiard.t\n",
    "    t_event=Inf\n",
    "    result=NE\n",
    "    for obj in union(billiard.balls,billiard.walls)\n",
    "        t_try=impact_time(b,obj,t)\n",
    "        if t_try<t_event && t_try>t\n",
    "            t_event=t_try\n",
    "            result=Collision(b,obj,t_try)\n",
    "        end\n",
    "    end\n",
    "    return result\n",
    "end\n",
    "\n",
    "function drawcircles!(centers,radii;opts...)\n",
    "    c=[cos(θ) for θ in 0:2*pi/100:2pi]\n",
    "    s=[sin(θ) for θ in 0:2*pi/100:2pi]\n",
    "    makecircle(center,radius)=Shape(radius*c.+center[1],radius*s.+center[2])\n",
    "    circles=[makecircle(c,r) for (c,r) in zip(centers,radii)]\n",
    "    plot!(circles;aspect_ratio=:equal,label=\"\",opts...)\n",
    "end\n",
    "\n",
    "function drawcircles!(plt::Plots.Plot,centers,radii;opts...)\n",
    "    c=[cos(θ) for θ in 0:2*pi/100:2pi]\n",
    "    s=[sin(θ) for θ in 0:2*pi/100:2pi]\n",
    "    makecircle(center,radius)=Shape(radius*c.+center[1],radius*s.+center[2])\n",
    "    circles=[makecircle(c,r) for (c,r) in zip(centers,radii)]\n",
    "    plot!(plt,circles;aspect_ratio=:equal,label=\"\",opts...)\n",
    "end\n",
    "\n",
    "function drawcircles(centers,radii;opts...)\n",
    "    plt=plot()\n",
    "    drawcircles!(plt,centers,radii;opts...)\n",
    "end\n",
    "\n",
    "# Master function for visualizing\n",
    "# -- creates new plot object, and then calls visualize!\n",
    "function visualize(opts...;namedopts...)\n",
    "    viz=plot()\n",
    "    visualize!(viz,opts...;namedopts...)\n",
    "    return viz\n",
    "end\n",
    "\n",
    "function visualize!(viz::Plots.Plot,w::Hwall,bbox;opts...)\n",
    "    x1,y1,x2,y2=bbox\n",
    "    y=w.y\n",
    "    plot!(viz,[x1,x2],[y,y];opts...)\n",
    "end\n",
    "\n",
    "function visualize!(viz::Plots.Plot,w::Vwall,bbox;opts...)\n",
    "    x1,y1,x2,y2=bbox\n",
    "    x=w.x\n",
    "    plot!(viz,[x,x],[y1,y2];opts...)\n",
    "end\n",
    "\n",
    "function visualize!(viz::Plots.Plot,b::Billiard;wallopts=[],ballopts=[])\n",
    "    walls=b.walls\n",
    "    balls=b.balls\n",
    "    bbox=b.boundingbox\n",
    "    for w in walls\n",
    "        visualize!(viz,w,bbox;label=\"\",wallopts...)\n",
    "    end\n",
    "    centers=[(b.x,b.y) for b in balls]\n",
    "    radii=[b.radius for b in balls]\n",
    "    drawcircles!(viz,centers,radii;ballopts...)\n",
    "    return viz\n",
    "end\n",
    "\n",
    "function setevents!(billiard::Billiard)\n",
    "    t_global=Inf\n",
    "    for b in billiard.balls\n",
    "        next=next_event(b,billiard)\n",
    "        b.nextevent=next\n",
    "        if next.t<t_global\n",
    "            t_global=next.t\n",
    "            billiard.nextevent=next\n",
    "        end\n",
    "    end\n",
    "    return billiard\n",
    "end\n",
    "\n",
    "reflect(vec,normal)=vec-2*(vec⋅normal)*normal/(normal⋅normal)\n",
    "normal(w::Hwall,r)=[0,1]\n",
    "normal(w::Vwall,r)=[1,0]\n",
    "\n",
    "function newvelocity(w::Wall,b::Ball)\n",
    "    r=get_r(b)\n",
    "    n=normal(w,r)\n",
    "    v=get_v(b)\n",
    "    return reflect(v,n)\n",
    "end\n",
    "\n",
    "function set_newvelocity!(w::Wall,b::Ball)\n",
    "    v=newvelocity(w,b)\n",
    "    set_v!(b,v)\n",
    "    return b\n",
    "end\n",
    "\n",
    "set_newvelocity!(b::Ball,w::Wall)=set_newvelocity!(w,b)\n",
    "\n",
    "function set_newvelocity!(b1::Ball,b2::Ball)\n",
    "    r1=get_r(b1)\n",
    "    r2=get_r(b2)\n",
    "    v1=get_v(b1)\n",
    "    v2=get_v(b2)\n",
    "    norm=r1-r2\n",
    "    vcm=(v1+v2)/2\n",
    "    r12=r1-r2\n",
    "    newv1=reflect(v1-vcm,r12)+vcm\n",
    "    newv2=reflect(v2-vcm,r12)+vcm\n",
    "    set_v!(b1,newv1)\n",
    "    set_v!(b2,newv2)\n",
    "    return (newv1,newv2)\n",
    "end\n",
    "\n",
    "function time_evolve!(b::Ball,dt)\n",
    "    r=get_r(b)\n",
    "    v=get_v(b)\n",
    "    newr=r+v*dt\n",
    "    set_r!(b,newr)\n",
    "end\n",
    "    \n",
    "function update!(billiard::Billiard,event::Event)\n",
    "    dt=event.t-billiard.t\n",
    "    for b in billiard.balls\n",
    "        time_evolve!(b,dt)\n",
    "    end\n",
    "    set_newvelocity!(event.object1,event.object2)\n",
    "    billiard.t=event.t\n",
    "    return billiard\n",
    "end\n",
    "\n",
    "struct State\n",
    "    xvalues ::Array{Float64,1}\n",
    "    yvalues ::Array{Float64,1}\n",
    "    vxvalues ::Array{Float64,1}\n",
    "    vyvalues ::Array{Float64,1}\n",
    "    radii ::Array{Float64,1}\n",
    "    t ::Float64\n",
    "end\n",
    "\n",
    "struct Simulationdata\n",
    "    walls :: Array{Wall}\n",
    "    statelist :: Array{State}\n",
    "    boundingbox ::Array{Float64,1}\n",
    "end\n",
    "\n",
    "Base.length(s::Simulationdata)=length(s.statelist)\n",
    "\n",
    "function State(b::Billiard)\n",
    "    xvalues = [ball.x for ball in b.balls]\n",
    "    yvalues = [ball.y for ball in b.balls]\n",
    "    vxvalues = [ball.vx for ball in b.balls]\n",
    "    vyvalues = [ball.vy for ball in b.balls]\n",
    "    radii = [ball.radius for ball in b.balls]\n",
    "    t=b.t\n",
    "    State(xvalues,yvalues,vxvalues,vyvalues,radii,t)\n",
    "end\n",
    "\n",
    "\n",
    "\n",
    "\n",
    "function randomgrid(nx,ny,r,Lx,Ly)\n",
    "    xstep=Lx/nx\n",
    "    ystep=Ly/ny\n",
    "    function randomball(x,y)\n",
    "        θ=2*pi*rand()\n",
    "        Ball((x,y),(cos(θ),sin(θ)),r)\n",
    "    end\n",
    "    Billiard([Hwall(Ly/2),Hwall(-Ly/2),Vwall(Lx/2),Vwall(-Lx/2)],\n",
    "        [randomball(x,y) \n",
    "                for x in -Lx/2+xstep/2:xstep:Lx/2-xstep/2 \n",
    "                for y in -Ly/2+ystep/2:ystep:Ly/2-ystep/2],\n",
    "        0., NE,[-Lx/2,-Ly/2,Lx/2,Ly/2])\n",
    "end\n",
    "\n",
    "function setevents!(billiard::Billiard,lastevent::Collision)\n",
    "    # The first thing we do is make a list of all the `Ball` \n",
    "    # objects in `lastevent`.  We store this in `cballs\n",
    "    cballs=Ball[]\n",
    "    if typeof(lastevent.object1)==Ball\n",
    "        push!(cballs,lastevent.object1)\n",
    "    end\n",
    "    if typeof(lastevent.object2)==Ball\n",
    "        push!(cballs,lastevent.object2)\n",
    "    end\n",
    "    # Next unpack the data from `billiard`\n",
    "    balls=billiard.balls\n",
    "    walls=billiard.walls\n",
    "    t=billiard.t\n",
    "    # set null events for unknown collisions\n",
    "    billiard.nextevent=NE\n",
    "    for cb in cballs\n",
    "        cb.nextevent=NE\n",
    "    end\n",
    "    # Loop over balls\n",
    "    for b in balls \n",
    "        for cb in cballs\n",
    "            ct=impact_time(b,cb,t) \n",
    "            if ct<=t ;continue; end\n",
    "            if ct<b.nextevent.t \n",
    "                b.nextevent=Collision(b,cb,ct)\n",
    "            end\n",
    "            if ct<cb.nextevent.t\n",
    "                cb.nextevent=Collision(b,cb,ct)\n",
    "            end\n",
    "            if ct<billiard.nextevent.t\n",
    "                billiard.nextevent=Collision(b,cb,ct)\n",
    "            end\n",
    "            if b.nextevent.t<billiard.nextevent.t\n",
    "                billiard.nextevent=b.nextevent\n",
    "            end\n",
    "        end\n",
    "    end\n",
    "    # loop over walls\n",
    "    for w in walls\n",
    "        for cb in cballs\n",
    "            ct=impact_time(w,cb,t)\n",
    "            if ct<=t\n",
    "                continue \n",
    "            end\n",
    "            if ct<cb.nextevent.t\n",
    "                cb.nextevent=Collision(w,cb,ct)\n",
    "            end\n",
    "            if ct<billiard.nextevent.t\n",
    "                billiard.nextevent=Collision(w,cb,ct)\n",
    "            end\n",
    "        end\n",
    "    end\n",
    "    return billiard\n",
    "end\n",
    "\n",
    "function simulate(billiard::Billiard,n)\n",
    "    result=Array{State}(undef,n+1)\n",
    "    result[1]=State(billiard)\n",
    "    setevents!(billiard)\n",
    "    for j in 2:n+1\n",
    "        setevents!(billiard,billiard.nextevent)\n",
    "        update!(billiard,billiard.nextevent)\n",
    "        result[j]=State(billiard)\n",
    "    end\n",
    "    return Simulationdata(billiard.walls,result,billiard.boundingbox)\n",
    "end\n",
    "\n",
    "\"\"\"\n",
    "    speedlist(sim::Simulationdata,frame::Integer)\n",
    "\n",
    "Makes a list of the speeds of all of the particles in frame number \n",
    "`frame` of the simulation data.  You can also call it with a list of\n",
    "frames and it will concatentate those lists.\n",
    "\n",
    "For example, you can call with\n",
    "\n",
    "    speedlist(s,[1,3,5])\n",
    "\n",
    "and get the speeds in frames 1, 3, 5.  We can even use\n",
    "\n",
    "    speedlist(s,1::10::100)\n",
    "\n",
    "which will do every 10'th frame between 1 and 100.\n",
    "\"\"\"\n",
    "speedlist(sim::Simulationdata,frame::Integer) =\n",
    "    sqrt.(sim.statelist[frame].vxvalues.^2\n",
    "            +sim.statelist[frame].vyvalues.^2)\n",
    "\n",
    "speedlist(sim::Simulationdata,frames)=\n",
    "    vcat([speedlist(sim,j) for j in frames]...)\n",
    "\n",
    "# Visualization\n",
    "\n",
    "\n",
    "function drawcircles!(plt::Plots.Plot,xvalues,yvalues,radii;opts...)\n",
    "    c=[cos(θ) for θ in 0:2*pi/100:2pi]\n",
    "    s=[sin(θ) for θ in 0:2*pi/100:2pi]\n",
    "    makecircle(x,y,radius)=Shape(radius*c.+x,radius*s.+y)\n",
    "    circles=[makecircle(x,y,r) for (x,y,r) in zip(xvalues,yvalues,radii)]\n",
    "    plot!(plt,circles;aspect_ratio=:equal,label=\"\",opts...)\n",
    "end\n",
    "\n",
    "function visualize!(plt::Plots.Plot,s::State;opts...)\n",
    "    drawcircles!(plt,s.xvalues,s.yvalues,s.radii;opts...)\n",
    "end\n",
    "\n",
    "function drawframe(s::Simulationdata,j)\n",
    "    walls=s.walls\n",
    "    bbox=s.boundingbox\n",
    "    plt=plot()\n",
    "    for w in walls\n",
    "        visualize!(plt,w,bbox;label=\"\")\n",
    "    end\n",
    "    visualize!(plt,s.statelist[j])\n",
    "end\n",
    "\n",
    "\n",
    "function eventanimate(s::Simulationdata,skip=1)\n",
    "    # print out a message to let the user know things are starting\n",
    "    @info \"Animating Simulation\"\n",
    "    len=length(s)\n",
    "    progress_meter=Progress(len,desc=\"Generating frames: \")\n",
    "    anim =  @animate for i in 1:skip:len\n",
    "        ProgressMeter.update!(progress_meter,i)\n",
    "        drawframe(s,i)\n",
    "    end\n",
    "    Plots.gif(anim, fps = 12)\n",
    "end"
   ]
  },
  {
   "cell_type": "markdown",
   "id": "2a6af657-459e-45c7-9d27-9eaf3a0adf55",
   "metadata": {},
   "source": [
    "Lets start with a random grid of 100 particles"
   ]
  },
  {
   "cell_type": "code",
   "execution_count": null,
   "id": "73e92bec-032b-4a6a-967b-ebb8d431184f",
   "metadata": {},
   "outputs": [],
   "source": [
    "g_N100_r01=randomgrid(10,10,0.01,1,1)\n",
    "visualize(g_N100_r01)"
   ]
  },
  {
   "cell_type": "markdown",
   "id": "54ddfde9-0ccc-41ea-9d07-28b00f497cc5",
   "metadata": {},
   "source": [
    "Now lets do a \"equilibration\" run, where we evolve for enough time for the initial conditions to be forgotten."
   ]
  },
  {
   "cell_type": "code",
   "execution_count": null,
   "id": "c349eb6b-79f2-461b-a495-09e889e117b2",
   "metadata": {},
   "outputs": [],
   "source": [
    "@time s_N100_r01=simulate(g_N100_r01,5000);\n",
    "visualize(g_N100_r01)"
   ]
  },
  {
   "cell_type": "markdown",
   "id": "a91789b1-c275-4fb5-878e-991d817256c8",
   "metadata": {},
   "source": [
    "Now we can do a \"production\" run, where we extract the speeds of the particles after every 50 collisions"
   ]
  },
  {
   "cell_type": "code",
   "execution_count": null,
   "id": "28f3cae1-3955-4f74-908f-c3ef10407b67",
   "metadata": {},
   "outputs": [],
   "source": [
    "@time sfull_N100_r01=simulate(g_N100_r01,50000);\n",
    "histogram(speedlist(sfull_N100_r01,1:50:50000),normalize=true,\n",
    "    label=\"100 particles, r=0.01\")\n",
    "plot!(v->2*v*exp(-v^2),0,3,label=\"Maxwell-Boltzmann\")"
   ]
  },
  {
   "cell_type": "markdown",
   "id": "3fcbd0e7-a5c1-4a33-803d-1dcc809e56fd",
   "metadata": {},
   "source": [
    "## Correlation time, and correlation functions"
   ]
  },
  {
   "cell_type": "markdown",
   "id": "4d0ef580-4ae2-4ded-ae32-be60df7ceabd",
   "metadata": {},
   "source": [
    "The reason we can bin together velocities at different times is that we have argued that the values at those timese are *uncorrelated*.\n",
    "\n",
    "We say that random variables $X$ and $Y$ are uncorrelated if the value of $X$ does not depend on the value of y.  For example, here are some uncorrelated random variables\n"
   ]
  },
  {
   "cell_type": "code",
   "execution_count": null,
   "id": "53158ad2-5435-4620-9210-89d2ff63d27a",
   "metadata": {},
   "outputs": [],
   "source": [
    "xvals=rand(1000)\n",
    "yvals=rand(1000)\n",
    "scatter(xvals,yvals,xlabel=\"x\",ylabel=\"y\",label=\"\",title=\"Uncorrelated variables\")"
   ]
  },
  {
   "cell_type": "markdown",
   "id": "0122db4d-48cb-4190-b4d0-3881bbc892f1",
   "metadata": {},
   "source": [
    "Here is another, less trivial, uncorrelated example"
   ]
  },
  {
   "cell_type": "code",
   "execution_count": null,
   "id": "27a038e0-cad9-4249-9441-6565a16b1043",
   "metadata": {},
   "outputs": [],
   "source": [
    "xvals2=xvals.*(1 .-xvals)\n",
    "yvals2=exp.(-yvals)\n",
    "scatter(xvals2,yvals2,\n",
    "    xlabel=\"x\",ylabel=\"y\",label=\"\",title=\"Uncorrelated variables\")"
   ]
  },
  {
   "cell_type": "markdown",
   "id": "530a2289-6c39-4190-9c98-6e572019e3bb",
   "metadata": {},
   "source": [
    "there the x-value and y-value are drawn from non-trivial distributions, but the value of x does not depend on the value of y."
   ]
  },
  {
   "cell_type": "markdown",
   "id": "a1d1ac4d-f552-4fb4-8b09-a73dba48eb2c",
   "metadata": {},
   "source": [
    "Here is an example of correlated random variables"
   ]
  },
  {
   "cell_type": "code",
   "execution_count": null,
   "id": "ad6804d3-ed35-4949-b612-7286238a5f9a",
   "metadata": {},
   "outputs": [],
   "source": [
    "xvals3=xvals\n",
    "yvals3=xvals-0.1*yvals\n",
    "scatter(xvals3,yvals3,\n",
    "    xlabel=\"x\",ylabel=\"y\",label=\"\",title=\"Correlated variables\")"
   ]
  },
  {
   "cell_type": "markdown",
   "id": "03f11de0-c32e-4a3a-870d-b9d2c9f9458b",
   "metadata": {},
   "source": [
    "Here the values of $y$ depend on the values of $x$.  "
   ]
  },
  {
   "cell_type": "markdown",
   "id": "0d43847f-4d20-49c0-a0bc-5aba38cdc315",
   "metadata": {},
   "source": [
    "One common way to check to see if two random variables are correlated is to calculate the correlation function $\\langle XY\\rangle-\\langle X\\rangle \\langle Y \\rangle$."
   ]
  },
  {
   "cell_type": "code",
   "execution_count": null,
   "id": "b4f1d9f6-9e43-4ecd-b19e-4963e40ddf0f",
   "metadata": {},
   "outputs": [],
   "source": [
    "using Statistics\n",
    "cfun(xvals,yvals)=mean(xvals.*yvals)-mean(xvals)*mean(yvals)"
   ]
  },
  {
   "cell_type": "code",
   "execution_count": null,
   "id": "3888cef9-cc34-41f6-aaad-d76be42164c5",
   "metadata": {},
   "outputs": [],
   "source": [
    "@show cfun(xvals,yvals)\n",
    "@show cfun(xvals2,yvals2)\n",
    "@show cfun(xvals3,yvals3);"
   ]
  },
  {
   "cell_type": "markdown",
   "id": "b9d715dd-f028-456c-9629-a6d94c930bd5",
   "metadata": {},
   "source": [
    "The correlations in the first two are much smaller than those in the third.  They are non-zero because we are working with a finite sample.   Any particular sample will have some correlations, just by chance.  Later we will work out how large we expect those to be."
   ]
  },
  {
   "cell_type": "markdown",
   "id": "7d8e8d1a-0184-47ca-8356-4113272acfd0",
   "metadata": {},
   "source": [
    "Applying this idea to the problem at hand, we might ask how the velocites at two times are related to one-another by calculating $C_{xx}(t,t^\\prime)=\\langle v_x(t) v_x(t^\\prime)\\rangle$, and similar expresions for other components.  We don't need to subtract off the mean, since we expect that $\\langle v_x(t)\\rangle$=0.\n",
    "\n",
    "Because of reflection invarience, we expect $C_{xy}=0$ and $C_{xx}=C_{xy}$.  Thus the natural quantity to calculate is $C(t,t^\\prime)=\\langle \\vec{v}(t) \\cdot\\vec{v}(t^\\prime)\\rangle$.  If we are in some sort of steady-state, then it makes sense to average over different times, writing\n",
    "\\begin{equation}\n",
    "C(\\tau)=\\frac{1}{T}\\int_0^T \\langle \\vec{v}(t) \\cdot\\vec{v}(t+\\tau)\\rangle.\n",
    "\\end{equation}"
   ]
  },
  {
   "cell_type": "markdown",
   "id": "ea66d111-5605-4d3b-b5a8-eaab98bd95d7",
   "metadata": {},
   "source": [
    "The most natural way to calculate this is to first make a time series of the velocities `vlist=[v1,v2,v3,...vT]` where `vj=v(tj)` is a vector of length $2N$ containing the components of the velocity at each time.\n",
    "\n",
    "Our estimate of $C(\\tau=0)$ is\n",
    "$$\n",
    "C(0)=\\frac{1}{TN}(v1\\cdot v1 + v2\\cdot v2+\\cdots)\n",
    "$$\n",
    "Our estimate of $C(\\tau=\\delta t)$ is\n",
    "$$\n",
    "C(\\delta t)=\\frac{1}{(T-1)N}(v1\\cdot v2 + v2\\cdot v3+\\cdots)\n",
    "$$\n",
    "and so on.\n",
    "\n",
    "The naive implementation would take a time which scales as $O(N T^2)$.  There are smart ways of doing the convolution which reduce this to $O(N T\\log(T))$.  At some point we may talk about that algorithm.  Julia has an implementation of the smart algorithm, which is in the `DSP` package, and called `conv`.  There is also an implementation in the `StatsBase` package, called `autocov`, which I believe is just the naive algorithm (written in a pretty nice way).\n",
    "\n",
    "Lets just write our own."
   ]
  },
  {
   "cell_type": "markdown",
   "id": "e50acf98-36fe-461e-9f3d-30357c820802",
   "metadata": {},
   "source": [
    "The first thing we need is the time-series data of the velocities.  We could either modify our simulation code to extract that, or we can extract it from the `SimulationData` that the current program returns.  Lets do the latter (as that was the whole reason for returning `SimulationData`."
   ]
  },
  {
   "cell_type": "code",
   "execution_count": null,
   "id": "958d3702-3327-4718-b979-77f4152f6410",
   "metadata": {},
   "outputs": [],
   "source": [
    "getv(s::State)=vcat(s.vxvalues,s.vyvalues)\n",
    "\n",
    "function velocitytimeseries(s::Simulationdata,dt)\n",
    "    # set up data structures\n",
    "    states=s.statelist\n",
    "    t=states[1].t\n",
    "    velocities=[getv(states[1])]\n",
    "    # step through collisions\n",
    "    for j in 2:length(states)\n",
    "        tj=states[j].t\n",
    "        # if collision is more than dt in the future\n",
    "        # then we want to sample the velocities,\n",
    "        # and increment t.\n",
    "        #\n",
    "        # We use a while loop, as we the next \n",
    "        # collision might be multiple dt's in the future\n",
    "        #\n",
    "        # We want to \"eat up\" all those timesteps \n",
    "        # before incrementing to the next collision\n",
    "        while tj>t+dt  \n",
    "            t+=dt\n",
    "            prev=states[j-1]\n",
    "            push!(velocities,getv(prev))\n",
    "        end\n",
    "    end\n",
    "    return velocities\n",
    "end"
   ]
  },
  {
   "cell_type": "code",
   "execution_count": null,
   "id": "100827fa-8641-4738-8da2-034491206989",
   "metadata": {},
   "outputs": [],
   "source": [
    "timestep=0.01\n",
    "vs1=velocitytimeseries(sfull_N100_r01,timestep)\n",
    "scatter([v[1] for v in vs1[1:100]],xlabel=\"timestep\",ylabel=\"vx1\",label=\"\")"
   ]
  },
  {
   "cell_type": "code",
   "execution_count": null,
   "id": "dfa31898-67e7-41bd-9374-914cd122e639",
   "metadata": {},
   "outputs": [],
   "source": [
    "length(vs1)"
   ]
  },
  {
   "cell_type": "markdown",
   "id": "6b1112e9-791c-4e92-9f1c-400ee339c68b",
   "metadata": {},
   "source": [
    "Now, by hand we can look at the correlations.  We can just change the indices in this scatter plot to look at correlations in different time slices"
   ]
  },
  {
   "cell_type": "code",
   "execution_count": null,
   "id": "1874732b-4847-4158-8ca8-89e73c31f81c",
   "metadata": {},
   "outputs": [],
   "source": [
    "scatter(vs1[1],vs1[1],\n",
    "    xlabel=\"vx,vy at first time\",\n",
    "    ylabel=\"vx, vy at second time\",label=\"\")"
   ]
  },
  {
   "cell_type": "markdown",
   "id": "dd40aea9-54ac-44a9-a667-1ac626a7db43",
   "metadata": {},
   "source": [
    "Initially the velocities are perfectly correlated, but for large time separations they appear random."
   ]
  },
  {
   "cell_type": "code",
   "execution_count": null,
   "id": "2358456d-d5ec-47e0-9551-e77911da29e8",
   "metadata": {},
   "outputs": [],
   "source": [
    "function autocorrelation(velocities,largestsep)\n",
    "    timesteps=length(velocities)\n",
    "    numv=length(velocities[1])\n",
    "    [(velocities[1+j:end]⋅velocities[1:end-j])*2/(numv*(timesteps-j)) for j in 0:largestsep]\n",
    "end"
   ]
  },
  {
   "cell_type": "code",
   "execution_count": null,
   "id": "01c78b15-7fd5-45dd-a05e-a2a9274359ff",
   "metadata": {},
   "outputs": [],
   "source": [
    "times=range(start=0.,length=501,step=timestep)\n",
    "scatter(times,autocorrelation(vs1,500),label=\"\",\n",
    "    xlabel=L\"$\\tau$\",ylabel=L\"$\\langle v(t+\\tau)v(t)\\rangle$\")"
   ]
  },
  {
   "cell_type": "markdown",
   "id": "898bd0f3-a63a-4e8d-9b69-c724735b45bf",
   "metadata": {},
   "source": [
    "That is kind of fun.  At short times the velocities are clearly correlated:  These correlations fall off on a timescale of order the collision rate.  Then there is a period during which the velocities are anti-correlated.  This makes sense, after you bounce off of another particle, you tend to be moving in the opposite direction from your start.  "
   ]
  },
  {
   "cell_type": "markdown",
   "id": "6b2b4711-41fd-48ee-acf7-d30406ae56c2",
   "metadata": {},
   "source": [
    "The typical time between collsions is"
   ]
  },
  {
   "cell_type": "code",
   "execution_count": null,
   "id": "69883a6e-3419-4b25-b08f-a1f0c60a0840",
   "metadata": {},
   "outputs": [],
   "source": [
    "states1=sfull_N100_r01.statelist\n",
    "finaltime=states1[end].t\n",
    "initialtime=states1[1].t\n",
    "numberofcollisions=length(states1)\n",
    "numberofparticles=length(states1[1].xvalues)\n",
    "meancollisiontime=(finaltime-initialtime)/(numberofcollisions/numberofparticles)"
   ]
  },
  {
   "cell_type": "markdown",
   "id": "68565dd4-4286-4b06-a649-ebf3661c6d20",
   "metadata": {},
   "source": [
    "This is sometimes referred to as the `mean-free time`.  Lets scale our correlation function by the collision time, to give a scale to things"
   ]
  },
  {
   "cell_type": "code",
   "execution_count": null,
   "id": "c92189ed-fac1-45d0-a40e-8c19ed91ff16",
   "metadata": {},
   "outputs": [],
   "source": [
    "scatter(times./meancollisiontime,autocorrelation(vs1,500),label=\"\",\n",
    "    xlabel=L\"$\\tau/\\tau_c$\",ylabel=L\"$\\langle v(t+\\tau)v(t)\\rangle$\")"
   ]
  },
  {
   "cell_type": "markdown",
   "id": "07c8a19b-c230-45dd-961d-196656809897",
   "metadata": {},
   "source": [
    "Finally, lets look at how the collision time changes with the radius of the spheres"
   ]
  },
  {
   "cell_type": "code",
   "execution_count": null,
   "id": "9dc73a91-d9e5-4de4-90e3-a20277f1ade0",
   "metadata": {},
   "outputs": [],
   "source": [
    "function collisiontime(;\n",
    "        nx=10,ny=10,radius=0.01,Lx=1,Ly=1,\n",
    "        equilibrationcollisions=1000,\n",
    "        samplingcollisions=5000)\n",
    "    b=randomgrid(nx,ny,radius,Lx,Ly)\n",
    "    simulate(b,equilibrationcollisions)\n",
    "    sim=simulate(b,samplingcollisions)\n",
    "    states=sim.statelist\n",
    "    finaltime=states[end].t\n",
    "    initialtime=states[1].t\n",
    "    numberofcollisions=length(states)\n",
    "    numberofparticles=length(states[1].xvalues)\n",
    "    meancollisiontime=(finaltime-initialtime)/(numberofcollisions/numberofparticles)\n",
    "end"
   ]
  },
  {
   "cell_type": "code",
   "execution_count": null,
   "id": "abd66bc1-472b-4e58-b502-98dd50e1f231",
   "metadata": {},
   "outputs": [],
   "source": [
    "@time collisiontime(radius=0.01)"
   ]
  },
  {
   "cell_type": "code",
   "execution_count": null,
   "id": "a4b0ecd2-65a4-40e4-87b5-03b26de72af9",
   "metadata": {},
   "outputs": [],
   "source": [
    "radlist=collect(0.01:0.0005:0.049)\n",
    "@time taulist=[collisiontime(radius=r) for r in radlist]\n",
    "scatter(radlist,taulist,xlabel=\"radius\",ylabel=\"τ\",label=\"\")"
   ]
  },
  {
   "cell_type": "markdown",
   "id": "5ad9d987-6a46-430a-9d41-58536979ae42",
   "metadata": {},
   "source": [
    "## Pressure"
   ]
  },
  {
   "cell_type": "markdown",
   "id": "7d90fed1-2a63-4b2b-9988-f280fae4413c",
   "metadata": {},
   "source": [
    "Another fun thing to look at is the pressure.  The most physical way to calculate pressure is to look at the collisions of the balls with the walls.  The pressure is the time averaged force exerted by these balls, normal to the wall, divided by the length of the wall.  The force is exerted in little impulses at each collsion.  So lets modify our simulation so that whenever there is a collision with the wall it stores the absolute value of the impulse.  The pressure is proportional to the sum these impulses divided by the time interval."
   ]
  },
  {
   "cell_type": "code",
   "execution_count": null,
   "id": "b040119f-4a8a-485c-bb2f-5f1ee9175a3d",
   "metadata": {},
   "outputs": [],
   "source": [
    "function calculatepressure(billiard::Billiard,n)\n",
    "    setevents!(billiard)\n",
    "    startt=billiard.t\n",
    "    momentum=0.\n",
    "    for j in 2:n+1\n",
    "        setevents!(billiard,billiard.nextevent)\n",
    "        update!(billiard,billiard.nextevent)\n",
    "        next=billiard.nextevent\n",
    "        momentum+=wallmomentum(next.object1,next.object2)\n",
    "    end\n",
    "    endt=billiard.t\n",
    "    return momentum/(endt-startt)\n",
    "end\n",
    "\n",
    "wallmomentum(b1::Ball,b2::Ball)=0\n",
    "wallmomentum(hw::Hwall,b::Ball)=abs(2*b.vy)\n",
    "wallmomentum(vw::Vwall,b::Ball)=abs(2*b.vx)\n",
    "wallmomentum(b::Ball,w::Wall)=wallmomentum(w,b)"
   ]
  },
  {
   "cell_type": "code",
   "execution_count": null,
   "id": "8565a839-26bb-4167-99dc-679e7c0d06ea",
   "metadata": {},
   "outputs": [],
   "source": [
    "p1=randomgrid(10,10,0.01,1,1)\n",
    "@time calculatepressure(p1,1000) #equilibration run -- throw away\n",
    "@time pressure1=calculatepressure(p1,5000)"
   ]
  },
  {
   "cell_type": "code",
   "execution_count": null,
   "id": "f2d2cf87-8651-432c-9ec4-9b5575d5f123",
   "metadata": {},
   "outputs": [],
   "source": [
    "p2=randomgrid(10,10,0.048,1,1)\n",
    "@time calculatepressure(p2,1000) #equilibration run -- throw away\n",
    "@time pressure1=calculatepressure(p2,5000)"
   ]
  },
  {
   "cell_type": "markdown",
   "id": "61af505c-7fed-4a0c-bb60-0acce4f8a3d0",
   "metadata": {},
   "source": [
    "Apparently the pressure quite strongly depends on the ball radius!"
   ]
  },
  {
   "cell_type": "code",
   "execution_count": null,
   "id": "bb7a1ef0-7e4b-4c68-94a3-7994bb7c0f79",
   "metadata": {},
   "outputs": [],
   "source": [
    "function pressure(rad)\n",
    "    b=randomgrid(10,10,rad,1,1)\n",
    "    calculatepressure(b,1000) # equilibrate\n",
    "    calculatepressure(b,5000) # calculate pressure\n",
    "end"
   ]
  },
  {
   "cell_type": "code",
   "execution_count": null,
   "id": "becf5de4-06e0-42b0-8b6b-b573c543fa93",
   "metadata": {},
   "outputs": [],
   "source": [
    "radlst=collect(0.01:0.001:0.049)\n",
    "@time plst=[pressure(rad) for rad in radlst]\n",
    "scatter(radlst,plst,xlabel=\"radius\",ylabel=\"pressure\",label=\"\")"
   ]
  },
  {
   "cell_type": "code",
   "execution_count": null,
   "id": "66b76e97-c9a1-4370-8d7c-2079f183fca4",
   "metadata": {},
   "outputs": [],
   "source": [
    "scatter(radlst,1 ./plst)"
   ]
  },
  {
   "cell_type": "markdown",
   "id": "23e70bc8-263b-46b3-976a-3750f6c5d152",
   "metadata": {},
   "source": [
    "Unfortunately, near the jamming transition the configurations can get stuck, and the result depends on the initial conditions.  For example, the `rad=0.049` data point is not indicative of a typical configuration"
   ]
  },
  {
   "cell_type": "code",
   "execution_count": null,
   "id": "4da2459a-b559-44e1-bbff-adbfe6be7b57",
   "metadata": {},
   "outputs": [],
   "source": [
    "p3=randomgrid(10,10,0.049,1,1)\n",
    "simulate(p3,5000)\n",
    "visualize(p3)"
   ]
  },
  {
   "cell_type": "markdown",
   "id": "aa9d34c0-777d-4410-a4ea-25f16ee268c3",
   "metadata": {},
   "source": [
    "when the radius is 0.048, however, it can rearange itself"
   ]
  },
  {
   "cell_type": "code",
   "execution_count": null,
   "id": "489908cc-74ed-4c2d-96cd-5cfd8d9e4985",
   "metadata": {},
   "outputs": [],
   "source": [
    "p4=randomgrid(10,10,0.048,1,1)\n",
    "s4=simulate(p4,50000)\n",
    "visualize(p4)"
   ]
  },
  {
   "cell_type": "code",
   "execution_count": null,
   "id": "8d1d35b2-0a4b-4c38-9b7f-0c7da6fda14c",
   "metadata": {},
   "outputs": [],
   "source": [
    "#eventanimate(s4,50)"
   ]
  },
  {
   "cell_type": "markdown",
   "id": "2a95eb35-63cb-48c4-b561-a21a49784c67",
   "metadata": {},
   "source": [
    "There are tricks to avoid getting stuck, but fundamentally the system becomes \"glassy\" near the jamming transition -- and one needs to do very careful calculations."
   ]
  },
  {
   "cell_type": "markdown",
   "id": "577ee2c8-6c66-4300-896f-d953dd904f00",
   "metadata": {},
   "source": [
    "## Spatial Correlations"
   ]
  },
  {
   "cell_type": "markdown",
   "id": "c6d865bc-a3b4-42be-abf6-8edde1acf040",
   "metadata": {},
   "source": [
    "If the Ergodic Hypothesis is correct, then every allowed configuration of hard spheres is equally likely.  That then uniquely specified the velocity distribution.  What does it tell us about the spatial distribution?"
   ]
  },
  {
   "cell_type": "markdown",
   "id": "2c9a3be6-fca3-43de-9b2a-d9df6fe83e10",
   "metadata": {},
   "source": [
    "One challenge is how one even quantifies the spatial distribution.  One convenient question to ask is about the distribution of the separations between the particles: $g({\\vec r})$ is the probability that 2 particles are separated by a vector $\\vec{r}$.  This is referred to as the *pair distribution function*.  If you have rotational symmetry, one expects that $g$ will only depend on the magnitude of $r$, and it makes sense to average it over angles\n",
    "\\begin{equation}\n",
    "g(r)=\\frac{1}{2\\pi}\\int d\\theta g({\\vec r})\n",
    "\\end{equation}\n",
    "\n",
    "We can measure $g(\\vec{r})$ just like we did the speed distribution function -- we just record all of the separation between particles, and make a histogram.  As with the speeds, we can combine data from multiple times.  \n",
    "\n",
    "One slightly confusing feature is that we can consider a different function $p(r)$ which is the probability that 2 particles are separated by distance $r$.\n",
    "\\begin{align}\n",
    "p(r) &= \\int d^2 \\vec{s}\\, g(\\vec{s}) \\delta(|\\vec{s}|-r)\\\\\n",
    "&= r g(r).\n",
    "\\end{align}\n",
    "If we bin the occurences of separation $r$, we will have an estimate of $p(r)$.  Thus to get $g(r)$ we need to divide by $r$.\n",
    "\n",
    "Rather than reporting back a big list of separations, it is better to bin the data as we go along.  Lets make a `Bin` object, which can be called with data, storing it in a array"
   ]
  },
  {
   "cell_type": "code",
   "execution_count": null,
   "id": "fd91659b-03c2-41f9-8aad-7d42d7ac0643",
   "metadata": {},
   "outputs": [],
   "source": [
    "mutable struct Bin\n",
    "    min ::Float64\n",
    "    max ::Float64\n",
    "    step ::Float64\n",
    "    counts ::Array{Int64,1}\n",
    "    under ::Int64\n",
    "    over ::Int64\n",
    "end\n",
    "\n",
    "## Constructors\n",
    "function Bin(min,max,numbins)\n",
    "    step=(max-min)/numbins\n",
    "    counts=zeros(Int64,numbins)\n",
    "    Bin(min,max,step,counts,0,0)\n",
    "end\n",
    "\n",
    "Bin(;min,max,numbins)=Bin(min,max,numbins)\n",
    "function Bin(;min,max,step)\n",
    "    numbins=Int64(round((max-min)/step))\n",
    "    MAX=min+numbins*step\n",
    "    Bin(min,MAX,numbins)\n",
    "end\n",
    "\n",
    "function (b::Bin)(val)\n",
    "    if val<b.min\n",
    "        b.under+=1\n",
    "        return b\n",
    "    end\n",
    "    if val>b.max\n",
    "        b.over+=1\n",
    "        return b\n",
    "    end\n",
    "    bnum=1+Int64(floor((val-b.min)/b.step))\n",
    "    b.counts[bnum]+=1\n",
    "    return b\n",
    "end\n",
    "\n",
    "Base.push!(b::Bin,val)=b(val)\n",
    "\n",
    "function hist(b::Bin,opts...;norm=false,namedopts...)\n",
    "    xvals=b.min:b.step:b.max\n",
    "    total = sum(b.counts)\n",
    "    scale=1\n",
    "    if norm\n",
    "        scale = total\n",
    "    end\n",
    "    bardata=[(xvals[j],b.counts[j]/scale) for j in 1:length(b.counts)]\n",
    "    bar(bardata,opts...;namedopts...)\n",
    "end"
   ]
  },
  {
   "cell_type": "code",
   "execution_count": null,
   "id": "10c8569a-2565-410b-b850-415ab512581b",
   "metadata": {},
   "outputs": [],
   "source": [
    "tstbin=Bin(0.,10.,10)"
   ]
  },
  {
   "cell_type": "code",
   "execution_count": null,
   "id": "fddbc651-b800-44db-8a55-55e1850bd919",
   "metadata": {},
   "outputs": [],
   "source": [
    "tstbin(6.6)"
   ]
  },
  {
   "cell_type": "code",
   "execution_count": null,
   "id": "dd1fddcd-24ad-404d-887b-d20b30d6f051",
   "metadata": {},
   "outputs": [],
   "source": [
    "tstbin(3.2)"
   ]
  },
  {
   "cell_type": "code",
   "execution_count": null,
   "id": "4b54a74b-22e0-4c4a-b8b6-8abf5648143d",
   "metadata": {},
   "outputs": [],
   "source": [
    "hist(tstbin)"
   ]
  },
  {
   "cell_type": "markdown",
   "id": "18875792-eaa5-40ea-a923-a66552b4c24b",
   "metadata": {},
   "source": [
    "Lets also make a N dimensional version.  This uses a new trick for us:  Templated classes.  I'll explain how these work later."
   ]
  },
  {
   "cell_type": "code",
   "execution_count": null,
   "id": "26781143-7b98-4fd8-a447-7b06a8c49b18",
   "metadata": {},
   "outputs": [],
   "source": [
    "mutable struct NBin{N,T}\n",
    "    min ::NTuple{N,T}\n",
    "    max ::NTuple{N,T}\n",
    "    step ::NTuple{N,T}\n",
    "    counts ::Array{Int64,N}\n",
    "    under ::Int64\n",
    "    over ::Int64\n",
    "end\n",
    "\n",
    "## Constructors\n",
    "function NBin(min,max,numbins)\n",
    "    step= @. (max-min)/numbins\n",
    "    counts=zeros(Int64,Tuple(numbins))\n",
    "    NBin(Tuple(min),Tuple(max),Tuple(step),counts,0,0)\n",
    "end\n",
    "\n",
    "NBin(;min,max,numbins)=NBin(min,max,numbins)\n",
    "function NBin(;min,max,step)\n",
    "    numbins=@. Int64(round((max-min)/step))\n",
    "    MAX=@. min+numbins*step\n",
    "    NBin(Tuple(min),Tuple(MAX),Tuple(numbins))\n",
    "end\n",
    "\n",
    "function (b::NBin)(val)\n",
    "    if any(Tuple(val).<b.min)\n",
    "        b.under+=1\n",
    "        return b\n",
    "    end\n",
    "    if any(Tuple(val).>b.max)\n",
    "        b.over+=1\n",
    "        return b\n",
    "    end\n",
    "    bnum=@. 1+Int64(floor((val-b.min)/b.step))\n",
    "    b.counts[bnum...]+=1\n",
    "    return b\n",
    "end\n",
    "\n",
    "Base.push!(b::NBin,val)=b(val)\n",
    "\n",
    "function hist(b::NBin{1,T},opts...;norm=false,rscale=false,namedopts...) where {T}\n",
    "    xvals=b.min[1]:b.step[1]:b.max[1]\n",
    "    total = sum(b.counts)\n",
    "    scale=1\n",
    "    if norm\n",
    "        scale = total\n",
    "    end\n",
    "    bardata=[(xvals[j],b.counts[j]/scale) \n",
    "            for j in 1:length(b.counts)]\n",
    "    if rscale\n",
    "        bardata=[(xvals[j],b.counts[j]/(scale*xvals[j])) \n",
    "                for j in 2:length(b.counts)]\n",
    "    end\n",
    "    bar(bardata,opts...;namedopts...)\n",
    "end\n",
    "\n",
    "function hist(b::NBin{2,T},opts...;norm=false,namedopts...) where {T}\n",
    "    total = sum(b.counts)\n",
    "    scale=1\n",
    "    if norm\n",
    "        scale = total\n",
    "    end\n",
    "    xvalues=collect(b.min[1]:b.step[1]:b.max[1])\n",
    "    yvalues=collect(b.min[2]:b.step[2]:b.max[2])\n",
    "    heatmap(xvalues,yvalues,b.counts./scale,opts...;namedopts...)\n",
    "end"
   ]
  },
  {
   "cell_type": "code",
   "execution_count": null,
   "id": "31fd08eb-f1e6-43f4-b9b7-1a96028bdeaf",
   "metadata": {},
   "outputs": [],
   "source": [
    "tstbin2=NBin([0.,0.],[1.,1.],[10,10])\n",
    "data=[(rand(),rand()) for j in 1:100]\n",
    "for d in data\n",
    "    push!(tstbin2,d)\n",
    "end\n",
    "tstbin2"
   ]
  },
  {
   "cell_type": "code",
   "execution_count": null,
   "id": "608366cb-0224-4b49-8da1-6c9c4e9a3680",
   "metadata": {},
   "outputs": [],
   "source": [
    "hist(tstbin2,norm=true,aspect_ratio=:equal)"
   ]
  },
  {
   "cell_type": "markdown",
   "id": "64ab20e7-5a3c-421f-89c8-489930e3b6c4",
   "metadata": {},
   "source": [
    "Now lets step through the simulation data, sampling the separations at each timestep:"
   ]
  },
  {
   "cell_type": "code",
   "execution_count": null,
   "id": "8f66f9f4-4d7f-4cc5-b1fb-aec6daa78ff4",
   "metadata": {},
   "outputs": [],
   "source": [
    "function correlationtimeseries(s::Simulationdata;\n",
    "        dt,dx,dy,dr,xmin=-1/2,xmax=1/2,ymin=-1/2,ymax=1/2,\n",
    "        rmin=0.,rmax=1.)\n",
    "    # set up data structures\n",
    "    states=s.statelist\n",
    "    t=states[1].t\n",
    "    v_sep=NBin(min=(xmin,ymin),max=(xmax,ymax),step=(dx,dy))\n",
    "    s_sep=NBin(min=rmin,max=rmax,step=dr)\n",
    "    # step through collisions\n",
    "    for j in 2:length(states)\n",
    "        tj=states[j].t\n",
    "        # if collision is more than dt in the future\n",
    "        # then we want to sample the velocities,\n",
    "        # and increment t.\n",
    "        #\n",
    "        # We use a while loop, as we the next \n",
    "        # collision might be multiple dt's in the future\n",
    "        #\n",
    "        # We want to \"eat up\" all those timesteps \n",
    "        # before incrementing to the next collision\n",
    "        while tj>t+dt  \n",
    "            t+=dt\n",
    "            prev=states[j-1]\n",
    "            nxt=states[j]\n",
    "            rbin!(v_sep,s_sep,prev,nxt,t)\n",
    "        end\n",
    "    end\n",
    "    return (v_sep=v_sep,s_sep=s_sep)\n",
    "end\n",
    "\n",
    "function rbin!(v_sep,s_sep,prev,nxt,t)\n",
    "    # Find positions at intermediate time\n",
    "    prevt=prev.t\n",
    "    nxtt=nxt.t\n",
    "    prevweight=(nxtt-t)/(nxtt-prevt)\n",
    "    nxtweight=(t-prevt)/(nxtt-prevt)\n",
    "    xvals=@. prev.xvalues*prevweight+nxt.xvalues*nxtweight\n",
    "    yvals=@. prev.yvalues*prevweight+nxt.yvalues*nxtweight\n",
    "    len=length(xvals)\n",
    "    dif=[0.,0.]\n",
    "    for j in 1:(len-1)\n",
    "        for i in j+1:len\n",
    "            dif .= (xvals[i]-xvals[j],yvals[i]-yvals[j])\n",
    "            v_sep(dif)\n",
    "            v_sep(-dif)\n",
    "            s_sep(norm(dif))\n",
    "        end\n",
    "    end\n",
    "    return nothing\n",
    "end\n",
    "    "
   ]
  },
  {
   "cell_type": "code",
   "execution_count": null,
   "id": "0ac06a54-7e3e-4074-9c97-3e12db40b620",
   "metadata": {},
   "outputs": [],
   "source": [
    "p1=randomgrid(10,10,0.01,1,1)\n",
    "s1=simulate(p1,10000) #equilibrate\n",
    "@time s1=simulate(p1,50000)\n",
    "@time cs1=correlationtimeseries(s1,dt=0.5,dx=0.01,dy=0.01,dr=0.01,\n",
    "    xmin=-1.,ymin=-1.,xmax=1.,ymax=1.);"
   ]
  },
  {
   "cell_type": "markdown",
   "id": "3bb446fa-2b05-4a06-bfdb-03079ae5785e",
   "metadata": {},
   "source": [
    "Since the x and y coordinates of each particle are bounded, we are more likely to find 2 particles which they are close together.  This is solely a finite system size artifact.  Also, rotational symmetry is broken by the walls."
   ]
  },
  {
   "cell_type": "code",
   "execution_count": null,
   "id": "a955e5f1-0cb0-41e5-83b0-0ccbf4aec74e",
   "metadata": {},
   "outputs": [],
   "source": [
    "#hist(cs1.v_sep,norm=false,aspect_ratio=:equal,xlabel=\"x\",ylabel=\"y\")"
   ]
  },
  {
   "cell_type": "markdown",
   "id": "416b801a-ee6f-4223-a1b9-2cd51da68e15",
   "metadata": {},
   "source": [
    "Here is now a raw histogram of the separations between particles."
   ]
  },
  {
   "cell_type": "code",
   "execution_count": null,
   "id": "9b32ecca-1b76-4321-84d7-1bb2ddb350d8",
   "metadata": {},
   "outputs": [],
   "source": [
    "hist(cs1.s_sep,norm=false,rscale=false,label=\"\",xlabel=\"r\",ylabel=\"Number of particles separated by r\")"
   ]
  },
  {
   "cell_type": "code",
   "execution_count": null,
   "id": "5250639c-9c21-4753-ac2e-a8b592b7c557",
   "metadata": {},
   "outputs": [],
   "source": [
    "hist(cs1.s_sep,norm=false,rscale=false,label=\"\",xlabel=\"r\",ylabel=\"p(r)\")"
   ]
  },
  {
   "cell_type": "markdown",
   "id": "59e5e529-3442-44c2-a507-f30d88164dd8",
   "metadata": {},
   "source": [
    "As already discussed, it makes sense to divide the vertical axis by $r$, so we get the average number of particles at distance $r$ in any one direction, $g(r)$,"
   ]
  },
  {
   "cell_type": "code",
   "execution_count": null,
   "id": "60c324a8-e1f2-473a-8fec-766882129601",
   "metadata": {},
   "outputs": [],
   "source": [
    "hist(cs1.s_sep,norm=false,rscale=true,label=\"\",xlabel=\"r\",ylabel=\"g(r)\")"
   ]
  },
  {
   "cell_type": "markdown",
   "id": "e13862f5-fc4e-42c0-9c42-89ae8967307e",
   "metadata": {},
   "source": [
    "In the thermodynamic limit that graph should be flat -- but again, due to finite system size, there are fewer particles at large distances."
   ]
  },
  {
   "cell_type": "markdown",
   "id": "376a2688-ff72-4198-8938-7399e0bf2849",
   "metadata": {},
   "source": [
    "Now lets increase the size of the particles"
   ]
  },
  {
   "cell_type": "code",
   "execution_count": null,
   "id": "0040f992-bdd8-4d3f-bc53-6c46c85b3377",
   "metadata": {},
   "outputs": [],
   "source": [
    "p2=randomgrid(10,10,0.03,1,1)\n",
    "s2=simulate(p2,10000) #equilibrate\n",
    "@time s2=simulate(p2,50000)\n",
    "@time cs2=correlationtimeseries(s2,dt=0.1,dx=0.01,dy=0.01,dr=0.01);"
   ]
  },
  {
   "cell_type": "code",
   "execution_count": null,
   "id": "3fda720c-d435-4369-8347-c847a2672615",
   "metadata": {},
   "outputs": [],
   "source": [
    "hist(cs2.s_sep,norm=true,rscale=true,label=\"\",xlabel=\"r\",ylabel=\"g(r)\")"
   ]
  },
  {
   "cell_type": "markdown",
   "id": "e47a7dc3-3706-4661-80d7-e90692ff621e",
   "metadata": {},
   "source": [
    "The new thing that we are seeing is that there is a peak in $g(r)$ at the particle radius, and a dip at roughly twice the particle radius.  That means particles are more likely to have certain spacings.  Lets see what that looks like in 2D"
   ]
  },
  {
   "cell_type": "code",
   "execution_count": null,
   "id": "34c30f83-a2e8-4df7-b9cb-47a2355fc4ae",
   "metadata": {},
   "outputs": [],
   "source": [
    "hist(cs2.v_sep,norm=false,aspect_ratio=:equal,xlim=[-0.2,0.2],ylim=[-0.2,0.2])"
   ]
  },
  {
   "cell_type": "markdown",
   "id": "976ce0f7-0664-49cb-b5ce-63bdddcb6f47",
   "metadata": {},
   "source": [
    "If we want more resolution we can average more frames, by making `dt` smaller, and take a smaller spacial grid"
   ]
  },
  {
   "cell_type": "code",
   "execution_count": null,
   "id": "1654b89f-6c68-48b5-9095-38234c4428a7",
   "metadata": {},
   "outputs": [],
   "source": [
    "#@time cs2hr=correlationtimeseries(s2,dt=0.01,dx=0.005,dy=0.005,dr=0.001);"
   ]
  },
  {
   "cell_type": "code",
   "execution_count": null,
   "id": "d7d41078-c09a-461c-9414-139510a6161f",
   "metadata": {},
   "outputs": [],
   "source": [
    "#hist(cs2hr.v_sep,norm=false,aspect_ratio=:equal,xlim=[-0.2,0.2],ylim=[-0.2,0.2])"
   ]
  },
  {
   "cell_type": "markdown",
   "id": "a2de4fce-e2ad-42a4-b202-070966756897",
   "metadata": {},
   "source": [
    "Things become even more interesting when we make the particle size larger yet"
   ]
  },
  {
   "cell_type": "code",
   "execution_count": null,
   "id": "fdb9e1c1-5246-41a7-9315-2cbd567252a5",
   "metadata": {},
   "outputs": [],
   "source": [
    "p3=randomgrid(10,10,0.04,1,1)\n",
    "s3=simulate(p3,10000) #equilibrate\n",
    "@time s3=simulate(p3,50000)\n",
    "@time cs3=correlationtimeseries(s3,dt=0.1,dx=0.01,dy=0.01,dr=0.01);"
   ]
  },
  {
   "cell_type": "code",
   "execution_count": null,
   "id": "68b4f928-1b65-4959-829b-82c4b4ea53c9",
   "metadata": {},
   "outputs": [],
   "source": [
    "hist(cs3.s_sep,norm=true,rscale=true,label=\"\",xlabel=\"r\",ylabel=\"g(r)\")"
   ]
  },
  {
   "cell_type": "markdown",
   "id": "a580b21f-e515-431c-b6a9-f4e011856398",
   "metadata": {},
   "source": [
    "We now have multiple bumps.  This is characteristic of a liquid.  The particles are roughly evenly spaced, so you are more likely to see particles at multiples of that spacing:"
   ]
  },
  {
   "cell_type": "code",
   "execution_count": null,
   "id": "6959b062-ab55-4078-8c71-886064120ca9",
   "metadata": {},
   "outputs": [],
   "source": [
    "visualize(p3)"
   ]
  },
  {
   "cell_type": "code",
   "execution_count": null,
   "id": "3c37e814-c425-4dce-abe6-659cd190ce7c",
   "metadata": {},
   "outputs": [],
   "source": [
    "#hist(cs3.v_sep,norm=false,aspect_ratio=:equal)"
   ]
  },
  {
   "cell_type": "markdown",
   "id": "c2f4d5d9-fb4f-48f4-bd3f-5f37d1c803a3",
   "metadata": {},
   "source": [
    "Another very clear feature is the horizontal and vertical bands in that correlation funciton plot.  These are due to the boundaries.  Just as particles are more likely to be found touching eachother, they are more likely to be found touching the walls."
   ]
  },
  {
   "cell_type": "markdown",
   "id": "0d596d14-79e6-4f2e-b9cb-dd56283b7231",
   "metadata": {},
   "source": [
    "Lets now make the radius even bigger"
   ]
  },
  {
   "cell_type": "code",
   "execution_count": null,
   "id": "df0cc637-fa58-4cff-96b8-63f5f27b140e",
   "metadata": {},
   "outputs": [],
   "source": [
    "p4=randomgrid(10,10,0.048,1,1)\n",
    "s4=simulate(p4,10000) #equilibrate\n",
    "@time s4=simulate(p4,50000)\n",
    "@time cs4=correlationtimeseries(s4,dt=0.01,dx=0.005,dy=0.005,dr=0.001);"
   ]
  },
  {
   "cell_type": "code",
   "execution_count": null,
   "id": "4b7a75ff-8c8f-4bfa-9f13-adc9847d1593",
   "metadata": {},
   "outputs": [],
   "source": [
    "#hist(cs4.s_sep,norm=true,rscale=true)"
   ]
  },
  {
   "cell_type": "markdown",
   "id": "3a8f62fe-5caf-4272-84c2-78a09ce01095",
   "metadata": {},
   "source": [
    "We now have a more complicated sequence of bumps.  These are related to some sort of spatial ordering:"
   ]
  },
  {
   "cell_type": "code",
   "execution_count": null,
   "id": "6fadef94-0f98-4eba-ac36-f1a161b93418",
   "metadata": {},
   "outputs": [],
   "source": [
    "#hist(cs4.v_sep,norm=true,aspect_ratio=:equal)"
   ]
  },
  {
   "cell_type": "markdown",
   "id": "d2b34eb7-f894-4cf2-aa99-cdcbfe27da49",
   "metadata": {},
   "source": [
    "Here we have very distinct breaking of rotational symmetry.  This is the sort of thing you tend to see in solids.  If you look at the snapshots of the motion, you see definite \"crystaline\" regions."
   ]
  },
  {
   "cell_type": "code",
   "execution_count": null,
   "id": "8ae394cc-2238-4b9d-a0f1-81d313cb817d",
   "metadata": {},
   "outputs": [],
   "source": [
    "visualize(p4)"
   ]
  },
  {
   "cell_type": "markdown",
   "id": "77c262fa-847e-4f08-a66e-87d29032dfbe",
   "metadata": {},
   "source": [
    "### Pair distribution function as a correlation function"
   ]
  },
  {
   "cell_type": "markdown",
   "id": "1ceebbfb-0475-42ed-a3f0-13d646df135a",
   "metadata": {},
   "source": [
    "It is useful to connect the  pair distribution function to a slightly more abstract quantity -- the two particle correlation function.  We make this connection to introduce the idea of correlation functions, and how they are probes of the physical system."
   ]
  },
  {
   "cell_type": "markdown",
   "id": "0418de3c-9388-4bb9-9a6f-7b29e0d505f5",
   "metadata": {},
   "source": [
    "We first note that the probability of finding a particle at position $\\vec{r}$ can be written as an expectation value:\n",
    "\\begin{equation}\n",
    "P_1(\\vec{r}) =\\langle\\sum_j \\delta(\\vec r_j-\\vec r) \\rangle\n",
    "\\end{equation}\n",
    "where $\\vec r_j$ is the position of the $j$'th particle.  This expectation value can mean taking the average over many frames of our simulation.  Note that $P_1(\\vec{r})$ can also be interpreted as the density of particles at $\\vec{r}$.  We can write a single realization of the density as\n",
    "\\begin{equation}\n",
    "n(\\vec{r})=\\sum_j \\delta(\\vec r_j-\\vec r)\n",
    "\\end{equation}\n",
    "and the ensemble average as\n",
    "\\begin{equation}\n",
    "\\langle n(\\vec{r})\\rangle = \\langle\\sum_j \\delta(\\vec r_j-\\vec r) \\rangle.\n",
    "\\end{equation}\n",
    "\n",
    "Similarly, our pair distribution function can be written as\n",
    "\\begin{align}\n",
    "g(\\vec{r})&= \\int d^2 \\vec{r}_1\\, \\langle n(r_1)n(r_1+\\vec{r})\\rangle\n",
    "\\end{align}\n",
    "It is telling us how correlated the density is at points separated by a displacement $\\vec{r}$."
   ]
  }
 ],
 "metadata": {
  "kernelspec": {
   "display_name": "Julia 1.10.4",
   "language": "julia",
   "name": "julia-1.10"
  },
  "language_info": {
   "file_extension": ".jl",
   "mimetype": "application/julia",
   "name": "julia",
   "version": "1.10.4"
  }
 },
 "nbformat": 4,
 "nbformat_minor": 5
}
