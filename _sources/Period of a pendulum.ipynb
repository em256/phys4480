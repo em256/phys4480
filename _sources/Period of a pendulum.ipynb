{
 "cells": [
  {
   "cell_type": "markdown",
   "id": "3c90c2ed",
   "metadata": {},
   "source": [
    "# Period of a Pendulum"
   ]
  },
  {
   "cell_type": "markdown",
   "id": "5e69e4f3-366a-4ddf-a609-38ba62eb9296",
   "metadata": {},
   "source": [
    "We begin our exploration of *computational physics* with an example from mechanics.  We will consider the motion of a pendulum.  \n",
    "\n",
    "Imagine a pendulum of length $L$ is pulled up to make an angle $\\theta$ with respect the the vertical.  "
   ]
  },
  {
   "cell_type": "markdown",
   "id": "e47d3deb-76b4-4634-8810-0ec4765219f0",
   "metadata": {},
   "source": [
    "<img src=\"https://docs.google.com/drawings/d/e/2PACX-1vTwUJDECXEo0ZeyJ-i5zonaMAytMBHm8IfrIwfRnYMoiTKyvSUGirVm9lXpy63JJHaUsopfbYRRZ74J/pub?w=877&amp;h=718\">"
   ]
  },
  {
   "cell_type": "markdown",
   "id": "34e705f6-2d17-4afb-91ec-6f3cfdffd164",
   "metadata": {},
   "source": [
    "The component of the graviational force which is in the direction of motion is $F_\\parallel=-m g \\sin(\\theta)$.  The speed of the bob is $v=L d\\theta/dt$.  Thus we get equations of motion\n",
    "\n",
    "\\begin{align}\n",
    "\\frac{d \\theta}{dt}&= \\frac{v}{L} \\\\\n",
    "m \\frac{d v}{dt}&=-m g \\sin(\\theta)\n",
    "\\end{align}\n",
    "\n",
    "We know the pendulum will swing back and forth.  We want to calculate its period.\n",
    "\n",
    "The classic approach is to use energy arguments.  The kinetic energy of the pendulum is\n",
    "\\begin{equation}\n",
    "T=\\frac{1}{2}m v^2.\n",
    "\\end{equation}\n",
    "The potential energy is\n",
    "\\begin{equation}\n",
    "U=-mgL \\cos(\\theta).\n",
    "\\end{equation}\n",
    "Then the total energy is\n",
    "\\begin{equation}\n",
    "E=\\frac{1}{2}m v^2-mgL \\cos(\\theta).\n",
    "\\end{equation}\n",
    "Since the total energy is conserved we can solve this for the velocity:\n",
    "\\begin{equation}\n",
    "v = \\sqrt{\\frac{2 E}{m} +2 gL \\cos(\\theta)}\n",
    "\\end{equation}\n",
    "Our argument is slightly simpler if we note that the energy can be related to the maximum angle that the pendulum reaches, $\\theta_m$, so:\n",
    "\\begin{equation}\n",
    "v = \\sqrt{2 g L}\\sqrt{\\cos(\\theta)-\\cos(\\theta_m)}\n",
    "\\end{equation}\n",
    "Next we note that $v=Ld\\theta/dt$ and hence\n",
    "\\begin{equation}\n",
    "\\frac{d\\theta}{dt}=\n",
    "\\sqrt{\\frac{2g}{L}}\n",
    "\\sqrt{\\cos(\\theta)-\\cos(\\theta_m})\n",
    "\\end{equation}"
   ]
  },
  {
   "cell_type": "markdown",
   "id": "5699a3ab",
   "metadata": {},
   "source": [
    "We then note that a quarter period is the time it takes for the pendulum to rise from $\\theta=0$ to $\\theta=\\theta_m$, and hence\n",
    "\\begin{equation}\n",
    "\\frac{T}{4}=\\int_{t_0}^{t_m}\\!dt=\\sqrt{\\frac{L}{2g}}\\int_0^{\\theta_m}\\frac{d\\theta}{\\sqrt{\\cos(\\theta)-\\cos(\\theta_m)}}\n",
    "\\end{equation}"
   ]
  },
  {
   "cell_type": "markdown",
   "id": "86613987",
   "metadata": {},
   "source": [
    "This integral is an *elliptic integral*.  It has no closed form in terms of more elementary functions.  Thus we need to develop numerical methods to evaluate it.\n",
    "\n",
    "The task of evaluating integrals is known as *quadratures*."
   ]
  },
  {
   "cell_type": "markdown",
   "id": "e3f32e55",
   "metadata": {},
   "source": [
    "<div style=\"border: 2px solid white; border-radius: 10px; padding: 20px; background-color:white; color:black; height: 500px\" >\n",
    "</div>"
   ]
  },
  {
   "cell_type": "markdown",
   "id": "5a72b912",
   "metadata": {},
   "source": [
    "## Adimensionalizing"
   ]
  },
  {
   "cell_type": "markdown",
   "id": "ae974c21",
   "metadata": {},
   "source": [
    "A good first step in any numerical calculation is to *adimensionalize* your equations.  This is actually a good step in analytic work as well.\n",
    "\n",
    "We will learn how to systematically do this, but here I know that for small amplitudes the period of a pendulum is \n",
    "\\begin{equation}\n",
    "T_{0}=2\\pi \\sqrt{\\frac{L}{g}}.\n",
    "\\end{equation}\n",
    "This it makes sense for us to calculate\n",
    "\\begin{equation}\n",
    "\\bar T =\\frac{T}{T_0}=\\frac{\\sqrt{2}}{\\pi}\\int_0^{\\theta_m}\\frac{d\\theta}{\\sqrt{\\cos(\\theta)-\\cos(\\theta_m)}}\n",
    "\\end{equation}"
   ]
  },
  {
   "cell_type": "markdown",
   "id": "b6046759",
   "metadata": {},
   "source": [
    "The angle $\\theta_m$ is already dimensionless, so we can leave it as-is."
   ]
  },
  {
   "cell_type": "markdown",
   "id": "157ae7d8",
   "metadata": {},
   "source": [
    "<div style=\"border: 2px solid white; border-radius: 10px; padding: 20px; background-color:white; color:black; height: 500px\" >\n",
    "</div>"
   ]
  },
  {
   "cell_type": "markdown",
   "id": "594c9a9e",
   "metadata": {},
   "source": [
    "## Strategies"
   ]
  },
  {
   "cell_type": "markdown",
   "id": "795298e7",
   "metadata": {},
   "source": [
    "We have several strategies we could pursue now:\n",
    "\n",
    "1. Type into google \"Numerical Integration in Julia\".  Download the right package and do the integral.\n",
    "2. Write our own integrator.\n",
    "\n",
    "Both are useful.  The advantage of the package is that it will probably get us results sooner.  The advantage of writing our own is that we can tweak it to meet our needs.  Also, we will learn a lot from writing the integrator.\n",
    "\n",
    "We are going to try to walk the line here -- both giving you the skills to work with low-level algorithms -- and the ability to take advantage of high level packages.\n",
    "\n",
    "It is also worth noting that there is work involved with learning how to use a package.  Generally it will be less work than writing your own routines -- but that outlay should not be discounted."
   ]
  },
  {
   "cell_type": "markdown",
   "id": "1ede8cbe",
   "metadata": {},
   "source": [
    "<div style=\"border: 2px solid white; border-radius: 10px; padding: 20px; background-color:white; color:black; height: 500px\" >\n",
    "</div>"
   ]
  },
  {
   "cell_type": "markdown",
   "id": "66a7ff90",
   "metadata": {},
   "source": [
    "## Simple approaches to numerical quadratures"
   ]
  },
  {
   "cell_type": "markdown",
   "id": "0daba952",
   "metadata": {},
   "source": [
    "Reading: <a href=\"http://numerical.recipes/book.html\">Chapter 4 of Numerical Recipies</a>"
   ]
  },
  {
   "cell_type": "markdown",
   "id": "dc58752f",
   "metadata": {},
   "source": [
    "The basic idea with most quadrature approaches is to break the integral into discrete segments, and then approximate the integral on each of those segments.  One straightforward approach is the \"trapezoid rule\" where one breaks each segment into trapezoids:"
   ]
  },
  {
   "cell_type": "code",
   "execution_count": 1,
   "id": "213c25b1",
   "metadata": {},
   "outputs": [],
   "source": [
    "using Plots,LaTeXStrings #load in visualization software"
   ]
  },
  {
   "cell_type": "code",
   "execution_count": 2,
   "id": "6a5c3a55",
   "metadata": {},
   "outputs": [
    {
     "data": {
      "text/plain": [
       "showtrapezoids"
      ]
     },
     "execution_count": 2,
     "metadata": {},
     "output_type": "execute_result"
    }
   ],
   "source": [
    "\"\"\"\n",
    "    showtrapezoids(f,range=(0,1),n=5;opts...)\n",
    "\n",
    "Illustrates trapezoid rule by plotting the function `f` over the range specified by `range`.\n",
    "Show `n` trapezoids overlayed.  Passes on options `opts` to the plot command.\n",
    "\"\"\"\n",
    "function showtrapezoids(f,range=(0,1),n=5;opts...)\n",
    "    # define variables\n",
    "    xmin=range[1]\n",
    "    xmax=range[2]\n",
    "    # Create basic plot of function\n",
    "    plt=plot(f,xmin,xmax,xlabel=\"x\",ylabel=\"f\",legend=false,show=false,opts...)\n",
    "    #\n",
    "    # Draw trapezoids\n",
    "    #\n",
    "    function trapezoid(j)\n",
    "        width=(xmax-xmin)/n\n",
    "        x1=(j-1)*width\n",
    "        x2=j*width\n",
    "        y1=f(x1)\n",
    "        y2=f(x2)\n",
    "        Shape([x1, x1, x2, x2],[0,y1,y2,0])\n",
    "    end\n",
    "    for j in 1:n\n",
    "        plot!(trapezoid(j),opacity=0.2)\n",
    "    end\n",
    "    plt\n",
    "end"
   ]
  },
  {
   "cell_type": "code",
   "execution_count": 8,
   "id": "192ca2d7-c778-4598-b9d5-a59e24a01d13",
   "metadata": {},
   "outputs": [
    {
     "data": {
      "image/png": "[encoded data removed]",
      "image/svg+xml": [
       "<?xml version=\"1.0\" encoding=\"utf-8\"?>\n",
       "<svg xmlns=\"http://www.w3.org/2000/svg\" xmlns:xlink=\"http://www.w3.org/1999/xlink\" width=\"600\" height=\"400\" viewBox=\"0 0 2400 1600\">\n",
       "<defs>\n",
       "  <clipPath id=\"clip730\">\n",
       "    <rect x=\"0\" y=\"0\" width=\"2400\" height=\"1600\"/>\n",
       "  </clipPath>\n",
       "</defs>\n",
       "<path clip-path=\"url(#clip730)\" d=\"M0 1600 L2400 1600 L2400 8.88178e-14 L0 8.88178e-14  Z\" fill=\"#ffffff\" fill-rule=\"evenodd\" fill-opacity=\"1\"/>\n",
       "<defs>\n",
       "  <clipPath id=\"clip731\">\n",
       "    <rect x=\"480\" y=\"0\" width=\"1681\" height=\"1600\"/>\n",
       "  </clipPath>\n",
       "</defs>\n",
       "<path clip-path=\"url(#clip730)\" d=\"M242.135 1423.18 L2352.76 1423.18 L2352.76 47.2441 L242.135 47.2441  Z\" fill=\"#ffffff\" fill-rule=\"evenodd\" fill-opacity=\"1\"/>\n",
       "<defs>\n",
       "  <clipPath id=\"clip732\">\n",
       "    <rect x=\"242\" y=\"47\" width=\"2112\" height=\"1377\"/>\n",
       "  </clipPath>\n",
       "</defs>\n",
       "<polyline clip-path=\"url(#clip732)\" style=\"stroke:#000000; stroke-linecap:round; stroke-linejoin:round; stroke-width:2; stroke-opacity:0.1; fill:none\" points=\"301.869,1423.18 301.869,47.2441 \"/>\n",
       "<polyline clip-path=\"url(#clip732)\" style=\"stroke:#000000; stroke-linecap:round; stroke-linejoin:round; stroke-width:2; stroke-opacity:0.1; fill:none\" points=\"799.657,1423.18 799.657,47.2441 \"/>\n",
       "<polyline clip-path=\"url(#clip732)\" style=\"stroke:#000000; stroke-linecap:round; stroke-linejoin:round; stroke-width:2; stroke-opacity:0.1; fill:none\" points=\"1297.45,1423.18 1297.45,47.2441 \"/>\n",
       "<polyline clip-path=\"url(#clip732)\" style=\"stroke:#000000; stroke-linecap:round; stroke-linejoin:round; stroke-width:2; stroke-opacity:0.1; fill:none\" points=\"1795.23,1423.18 1795.23,47.2441 \"/>\n",
       "<polyline clip-path=\"url(#clip732)\" style=\"stroke:#000000; stroke-linecap:round; stroke-linejoin:round; stroke-width:2; stroke-opacity:0.1; fill:none\" points=\"2293.02,1423.18 2293.02,47.2441 \"/>\n",
       "<polyline clip-path=\"url(#clip732)\" style=\"stroke:#000000; stroke-linecap:round; stroke-linejoin:round; stroke-width:2; stroke-opacity:0.1; fill:none\" points=\"242.135,1167.9 2352.76,1167.9 \"/>\n",
       "<polyline clip-path=\"url(#clip732)\" style=\"stroke:#000000; stroke-linecap:round; stroke-linejoin:round; stroke-width:2; stroke-opacity:0.1; fill:none\" points=\"242.135,897.469 2352.76,897.469 \"/>\n",
       "<polyline clip-path=\"url(#clip732)\" style=\"stroke:#000000; stroke-linecap:round; stroke-linejoin:round; stroke-width:2; stroke-opacity:0.1; fill:none\" points=\"242.135,627.041 2352.76,627.041 \"/>\n",
       "<polyline clip-path=\"url(#clip732)\" style=\"stroke:#000000; stroke-linecap:round; stroke-linejoin:round; stroke-width:2; stroke-opacity:0.1; fill:none\" points=\"242.135,356.613 2352.76,356.613 \"/>\n",
       "<polyline clip-path=\"url(#clip732)\" style=\"stroke:#000000; stroke-linecap:round; stroke-linejoin:round; stroke-width:2; stroke-opacity:0.1; fill:none\" points=\"242.135,86.1857 2352.76,86.1857 \"/>\n",
       "<polyline clip-path=\"url(#clip730)\" style=\"stroke:#000000; stroke-linecap:round; stroke-linejoin:round; stroke-width:4; stroke-opacity:1; fill:none\" points=\"242.135,1423.18 2352.76,1423.18 \"/>\n",
       "<polyline clip-path=\"url(#clip730)\" style=\"stroke:#000000; stroke-linecap:round; stroke-linejoin:round; stroke-width:4; stroke-opacity:1; fill:none\" points=\"301.869,1423.18 301.869,1404.28 \"/>\n",
       "<polyline clip-path=\"url(#clip730)\" style=\"stroke:#000000; stroke-linecap:round; stroke-linejoin:round; stroke-width:4; stroke-opacity:1; fill:none\" points=\"799.657,1423.18 799.657,1404.28 \"/>\n",
       "<polyline clip-path=\"url(#clip730)\" style=\"stroke:#000000; stroke-linecap:round; stroke-linejoin:round; stroke-width:4; stroke-opacity:1; fill:none\" points=\"1297.45,1423.18 1297.45,1404.28 \"/>\n",
       "<polyline clip-path=\"url(#clip730)\" style=\"stroke:#000000; stroke-linecap:round; stroke-linejoin:round; stroke-width:4; stroke-opacity:1; fill:none\" points=\"1795.23,1423.18 1795.23,1404.28 \"/>\n",
       "<polyline clip-path=\"url(#clip730)\" style=\"stroke:#000000; stroke-linecap:round; stroke-linejoin:round; stroke-width:4; stroke-opacity:1; fill:none\" points=\"2293.02,1423.18 2293.02,1404.28 \"/>\n",
       "<path clip-path=\"url(#clip730)\" d=\"M279.254 1454.1 Q275.643 1454.1 273.814 1457.66 Q272.008 1461.2 272.008 1468.33 Q272.008 1475.44 273.814 1479.01 Q275.643 1482.55 279.254 1482.55 Q282.888 1482.55 284.693 1479.01 Q286.522 1475.44 286.522 1468.33 Q286.522 1461.2 284.693 1457.66 Q282.888 1454.1 279.254 1454.1 M279.254 1450.39 Q285.064 1450.39 288.119 1455 Q291.198 1459.58 291.198 1468.33 Q291.198 1477.06 288.119 1481.67 Q285.064 1486.25 279.254 1486.25 Q273.443 1486.25 270.365 1481.67 Q267.309 1477.06 267.309 1468.33 Q267.309 1459.58 270.365 1455 Q273.443 1450.39 279.254 1450.39 Z\" fill=\"#000000\" fill-rule=\"nonzero\" fill-opacity=\"1\" /><path clip-path=\"url(#clip730)\" d=\"M299.416 1479.7 L304.3 1479.7 L304.3 1485.58 L299.416 1485.58 L299.416 1479.7 Z\" fill=\"#000000\" fill-rule=\"nonzero\" fill-opacity=\"1\" /><path clip-path=\"url(#clip730)\" d=\"M324.485 1454.1 Q320.874 1454.1 319.045 1457.66 Q317.24 1461.2 317.24 1468.33 Q317.24 1475.44 319.045 1479.01 Q320.874 1482.55 324.485 1482.55 Q328.119 1482.55 329.925 1479.01 Q331.753 1475.44 331.753 1468.33 Q331.753 1461.2 329.925 1457.66 Q328.119 1454.1 324.485 1454.1 M324.485 1450.39 Q330.295 1450.39 333.351 1455 Q336.429 1459.58 336.429 1468.33 Q336.429 1477.06 333.351 1481.67 Q330.295 1486.25 324.485 1486.25 Q318.675 1486.25 315.596 1481.67 Q312.54 1477.06 312.54 1468.33 Q312.54 1459.58 315.596 1455 Q318.675 1450.39 324.485 1450.39 Z\" fill=\"#000000\" fill-rule=\"nonzero\" fill-opacity=\"1\" /><path clip-path=\"url(#clip730)\" d=\"M777.539 1454.1 Q773.928 1454.1 772.1 1457.66 Q770.294 1461.2 770.294 1468.33 Q770.294 1475.44 772.1 1479.01 Q773.928 1482.55 777.539 1482.55 Q781.174 1482.55 782.979 1479.01 Q784.808 1475.44 784.808 1468.33 Q784.808 1461.2 782.979 1457.66 Q781.174 1454.1 777.539 1454.1 M777.539 1450.39 Q783.349 1450.39 786.405 1455 Q789.484 1459.58 789.484 1468.33 Q789.484 1477.06 786.405 1481.67 Q783.349 1486.25 777.539 1486.25 Q771.729 1486.25 768.65 1481.67 Q765.595 1477.06 765.595 1468.33 Q765.595 1459.58 768.65 1455 Q771.729 1450.39 777.539 1450.39 Z\" fill=\"#000000\" fill-rule=\"nonzero\" fill-opacity=\"1\" /><path clip-path=\"url(#clip730)\" d=\"M797.701 1479.7 L802.585 1479.7 L802.585 1485.58 L797.701 1485.58 L797.701 1479.7 Z\" fill=\"#000000\" fill-rule=\"nonzero\" fill-opacity=\"1\" /><path clip-path=\"url(#clip730)\" d=\"M812.817 1451.02 L831.173 1451.02 L831.173 1454.96 L817.099 1454.96 L817.099 1463.43 Q818.118 1463.08 819.136 1462.92 Q820.155 1462.73 821.173 1462.73 Q826.96 1462.73 830.34 1465.9 Q833.72 1469.08 833.72 1474.49 Q833.72 1480.07 830.247 1483.17 Q826.775 1486.25 820.456 1486.25 Q818.28 1486.25 816.011 1485.88 Q813.766 1485.51 811.359 1484.77 L811.359 1480.07 Q813.442 1481.2 815.664 1481.76 Q817.886 1482.32 820.363 1482.32 Q824.368 1482.32 826.706 1480.21 Q829.044 1478.1 829.044 1474.49 Q829.044 1470.88 826.706 1468.77 Q824.368 1466.67 820.363 1466.67 Q818.488 1466.67 816.613 1467.08 Q814.761 1467.5 812.817 1468.38 L812.817 1451.02 Z\" fill=\"#000000\" fill-rule=\"nonzero\" fill-opacity=\"1\" /><path clip-path=\"url(#clip730)\" d=\"M1264.6 1481.64 L1272.24 1481.64 L1272.24 1455.28 L1263.93 1456.95 L1263.93 1452.69 L1272.19 1451.02 L1276.87 1451.02 L1276.87 1481.64 L1284.51 1481.64 L1284.51 1485.58 L1264.6 1485.58 L1264.6 1481.64 Z\" fill=\"#000000\" fill-rule=\"nonzero\" fill-opacity=\"1\" /><path clip-path=\"url(#clip730)\" d=\"M1293.95 1479.7 L1298.83 1479.7 L1298.83 1485.58 L1293.95 1485.58 L1293.95 1479.7 Z\" fill=\"#000000\" fill-rule=\"nonzero\" fill-opacity=\"1\" /><path clip-path=\"url(#clip730)\" d=\"M1319.02 1454.1 Q1315.41 1454.1 1313.58 1457.66 Q1311.77 1461.2 1311.77 1468.33 Q1311.77 1475.44 1313.58 1479.01 Q1315.41 1482.55 1319.02 1482.55 Q1322.65 1482.55 1324.46 1479.01 Q1326.29 1475.44 1326.29 1468.33 Q1326.29 1461.2 1324.46 1457.66 Q1322.65 1454.1 1319.02 1454.1 M1319.02 1450.39 Q1324.83 1450.39 1327.88 1455 Q1330.96 1459.58 1330.96 1468.33 Q1330.96 1477.06 1327.88 1481.67 Q1324.83 1486.25 1319.02 1486.25 Q1313.21 1486.25 1310.13 1481.67 Q1307.07 1477.06 1307.07 1468.33 Q1307.07 1459.58 1310.13 1455 Q1313.21 1450.39 1319.02 1450.39 Z\" fill=\"#000000\" fill-rule=\"nonzero\" fill-opacity=\"1\" /><path clip-path=\"url(#clip730)\" d=\"M1762.88 1481.64 L1770.52 1481.64 L1770.52 1455.28 L1762.21 1456.95 L1762.21 1452.69 L1770.48 1451.02 L1775.15 1451.02 L1775.15 1481.64 L1782.79 1481.64 L1782.79 1485.58 L1762.88 1485.58 L1762.88 1481.64 Z\" fill=\"#000000\" fill-rule=\"nonzero\" fill-opacity=\"1\" /><path clip-path=\"url(#clip730)\" d=\"M1792.24 1479.7 L1797.12 1479.7 L1797.12 1485.58 L1792.24 1485.58 L1792.24 1479.7 Z\" fill=\"#000000\" fill-rule=\"nonzero\" fill-opacity=\"1\" /><path clip-path=\"url(#clip730)\" d=\"M1807.35 1451.02 L1825.71 1451.02 L1825.71 1454.96 L1811.63 1454.96 L1811.63 1463.43 Q1812.65 1463.08 1813.67 1462.92 Q1814.69 1462.73 1815.71 1462.73 Q1821.49 1462.73 1824.87 1465.9 Q1828.25 1469.08 1828.25 1474.49 Q1828.25 1480.07 1824.78 1483.17 Q1821.31 1486.25 1814.99 1486.25 Q1812.81 1486.25 1810.55 1485.88 Q1808.3 1485.51 1805.89 1484.77 L1805.89 1480.07 Q1807.98 1481.2 1810.2 1481.76 Q1812.42 1482.32 1814.9 1482.32 Q1818.9 1482.32 1821.24 1480.21 Q1823.58 1478.1 1823.58 1474.49 Q1823.58 1470.88 1821.24 1468.77 Q1818.9 1466.67 1814.9 1466.67 Q1813.02 1466.67 1811.15 1467.08 Q1809.3 1467.5 1807.35 1468.38 L1807.35 1451.02 Z\" fill=\"#000000\" fill-rule=\"nonzero\" fill-opacity=\"1\" /><path clip-path=\"url(#clip730)\" d=\"M2264.26 1481.64 L2280.58 1481.64 L2280.58 1485.58 L2258.63 1485.58 L2258.63 1481.64 Q2261.3 1478.89 2265.88 1474.26 Q2270.49 1469.61 2271.67 1468.27 Q2273.91 1465.74 2274.79 1464.01 Q2275.7 1462.25 2275.7 1460.56 Q2275.7 1457.8 2273.75 1456.07 Q2271.83 1454.33 2268.73 1454.33 Q2266.53 1454.33 2264.07 1455.09 Q2261.64 1455.86 2258.87 1457.41 L2258.87 1452.69 Q2261.69 1451.55 2264.14 1450.97 Q2266.6 1450.39 2268.63 1450.39 Q2274.01 1450.39 2277.2 1453.08 Q2280.39 1455.77 2280.39 1460.26 Q2280.39 1462.39 2279.58 1464.31 Q2278.8 1466.2 2276.69 1468.8 Q2276.11 1469.47 2273.01 1472.69 Q2269.91 1475.88 2264.26 1481.64 Z\" fill=\"#000000\" fill-rule=\"nonzero\" fill-opacity=\"1\" /><path clip-path=\"url(#clip730)\" d=\"M2290.39 1479.7 L2295.28 1479.7 L2295.28 1485.58 L2290.39 1485.58 L2290.39 1479.7 Z\" fill=\"#000000\" fill-rule=\"nonzero\" fill-opacity=\"1\" /><path clip-path=\"url(#clip730)\" d=\"M2315.46 1454.1 Q2311.85 1454.1 2310.02 1457.66 Q2308.22 1461.2 2308.22 1468.33 Q2308.22 1475.44 2310.02 1479.01 Q2311.85 1482.55 2315.46 1482.55 Q2319.1 1482.55 2320.9 1479.01 Q2322.73 1475.44 2322.73 1468.33 Q2322.73 1461.2 2320.9 1457.66 Q2319.1 1454.1 2315.46 1454.1 M2315.46 1450.39 Q2321.27 1450.39 2324.33 1455 Q2327.41 1459.58 2327.41 1468.33 Q2327.41 1477.06 2324.33 1481.67 Q2321.27 1486.25 2315.46 1486.25 Q2309.65 1486.25 2306.57 1481.67 Q2303.52 1477.06 2303.52 1468.33 Q2303.52 1459.58 2306.57 1455 Q2309.65 1450.39 2315.46 1450.39 Z\" fill=\"#000000\" fill-rule=\"nonzero\" fill-opacity=\"1\" /><path clip-path=\"url(#clip730)\" d=\"M1314.06 1532.4 L1301.17 1549.74 L1314.73 1568.04 L1307.82 1568.04 L1297.45 1554.04 L1287.07 1568.04 L1280.16 1568.04 L1294.01 1549.39 L1281.34 1532.4 L1288.25 1532.4 L1297.7 1545.1 L1307.15 1532.4 L1314.06 1532.4 Z\" fill=\"#000000\" fill-rule=\"nonzero\" fill-opacity=\"1\" /><polyline clip-path=\"url(#clip730)\" style=\"stroke:#000000; stroke-linecap:round; stroke-linejoin:round; stroke-width:4; stroke-opacity:1; fill:none\" points=\"242.135,1423.18 242.135,47.2441 \"/>\n",
       "<polyline clip-path=\"url(#clip730)\" style=\"stroke:#000000; stroke-linecap:round; stroke-linejoin:round; stroke-width:4; stroke-opacity:1; fill:none\" points=\"242.135,1167.9 261.032,1167.9 \"/>\n",
       "<polyline clip-path=\"url(#clip730)\" style=\"stroke:#000000; stroke-linecap:round; stroke-linejoin:round; stroke-width:4; stroke-opacity:1; fill:none\" points=\"242.135,897.469 261.032,897.469 \"/>\n",
       "<polyline clip-path=\"url(#clip730)\" style=\"stroke:#000000; stroke-linecap:round; stroke-linejoin:round; stroke-width:4; stroke-opacity:1; fill:none\" points=\"242.135,627.041 261.032,627.041 \"/>\n",
       "<polyline clip-path=\"url(#clip730)\" style=\"stroke:#000000; stroke-linecap:round; stroke-linejoin:round; stroke-width:4; stroke-opacity:1; fill:none\" points=\"242.135,356.613 261.032,356.613 \"/>\n",
       "<polyline clip-path=\"url(#clip730)\" style=\"stroke:#000000; stroke-linecap:round; stroke-linejoin:round; stroke-width:4; stroke-opacity:1; fill:none\" points=\"242.135,86.1857 261.032,86.1857 \"/>\n",
       "<path clip-path=\"url(#clip730)\" d=\"M114.26 1168.35 L143.936 1168.35 L143.936 1172.28 L114.26 1172.28 L114.26 1168.35 Z\" fill=\"#000000\" fill-rule=\"nonzero\" fill-opacity=\"1\" /><path clip-path=\"url(#clip730)\" d=\"M158.056 1181.24 L174.376 1181.24 L174.376 1185.18 L152.431 1185.18 L152.431 1181.24 Q155.093 1178.49 159.677 1173.86 Q164.283 1169.2 165.464 1167.86 Q167.709 1165.34 168.589 1163.6 Q169.491 1161.84 169.491 1160.15 Q169.491 1157.4 167.547 1155.66 Q165.626 1153.93 162.524 1153.93 Q160.325 1153.93 157.871 1154.69 Q155.44 1155.45 152.663 1157.01 L152.663 1152.28 Q155.487 1151.15 157.94 1150.57 Q160.394 1149.99 162.431 1149.99 Q167.802 1149.99 170.996 1152.68 Q174.19 1155.36 174.19 1159.85 Q174.19 1161.98 173.38 1163.9 Q172.593 1165.8 170.487 1168.39 Q169.908 1169.07 166.806 1172.28 Q163.704 1175.48 158.056 1181.24 Z\" fill=\"#000000\" fill-rule=\"nonzero\" fill-opacity=\"1\" /><path clip-path=\"url(#clip730)\" d=\"M194.19 1153.69 Q190.579 1153.69 188.75 1157.26 Q186.945 1160.8 186.945 1167.93 Q186.945 1175.04 188.75 1178.6 Q190.579 1182.14 194.19 1182.14 Q197.825 1182.14 199.63 1178.6 Q201.459 1175.04 201.459 1167.93 Q201.459 1160.8 199.63 1157.26 Q197.825 1153.69 194.19 1153.69 M194.19 1149.99 Q200 1149.99 203.056 1154.6 Q206.135 1159.18 206.135 1167.93 Q206.135 1176.66 203.056 1181.26 Q200 1185.85 194.19 1185.85 Q188.38 1185.85 185.301 1181.26 Q182.246 1176.66 182.246 1167.93 Q182.246 1159.18 185.301 1154.6 Q188.38 1149.99 194.19 1149.99 Z\" fill=\"#000000\" fill-rule=\"nonzero\" fill-opacity=\"1\" /><path clip-path=\"url(#clip730)\" d=\"M115.256 897.92 L144.931 897.92 L144.931 901.855 L115.256 901.855 L115.256 897.92 Z\" fill=\"#000000\" fill-rule=\"nonzero\" fill-opacity=\"1\" /><path clip-path=\"url(#clip730)\" d=\"M155.834 910.813 L163.473 910.813 L163.473 884.448 L155.163 886.114 L155.163 881.855 L163.427 880.189 L168.102 880.189 L168.102 910.813 L175.741 910.813 L175.741 914.749 L155.834 914.749 L155.834 910.813 Z\" fill=\"#000000\" fill-rule=\"nonzero\" fill-opacity=\"1\" /><path clip-path=\"url(#clip730)\" d=\"M185.232 880.189 L203.588 880.189 L203.588 884.124 L189.514 884.124 L189.514 892.596 Q190.533 892.249 191.551 892.087 Q192.57 891.901 193.588 891.901 Q199.375 891.901 202.755 895.073 Q206.135 898.244 206.135 903.661 Q206.135 909.239 202.662 912.341 Q199.19 915.42 192.871 915.42 Q190.695 915.42 188.426 915.049 Q186.181 914.679 183.774 913.938 L183.774 909.239 Q185.857 910.374 188.079 910.929 Q190.301 911.485 192.778 911.485 Q196.783 911.485 199.121 909.378 Q201.459 907.272 201.459 903.661 Q201.459 900.05 199.121 897.943 Q196.783 895.837 192.778 895.837 Q190.903 895.837 189.028 896.253 Q187.176 896.67 185.232 897.55 L185.232 880.189 Z\" fill=\"#000000\" fill-rule=\"nonzero\" fill-opacity=\"1\" /><path clip-path=\"url(#clip730)\" d=\"M114.26 627.492 L143.936 627.492 L143.936 631.427 L114.26 631.427 L114.26 627.492 Z\" fill=\"#000000\" fill-rule=\"nonzero\" fill-opacity=\"1\" /><path clip-path=\"url(#clip730)\" d=\"M154.839 640.386 L162.477 640.386 L162.477 614.02 L154.167 615.687 L154.167 611.428 L162.431 609.761 L167.107 609.761 L167.107 640.386 L174.746 640.386 L174.746 644.321 L154.839 644.321 L154.839 640.386 Z\" fill=\"#000000\" fill-rule=\"nonzero\" fill-opacity=\"1\" /><path clip-path=\"url(#clip730)\" d=\"M194.19 612.84 Q190.579 612.84 188.75 616.404 Q186.945 619.946 186.945 627.076 Q186.945 634.182 188.75 637.747 Q190.579 641.289 194.19 641.289 Q197.825 641.289 199.63 637.747 Q201.459 634.182 201.459 627.076 Q201.459 619.946 199.63 616.404 Q197.825 612.84 194.19 612.84 M194.19 609.136 Q200 609.136 203.056 613.742 Q206.135 618.326 206.135 627.076 Q206.135 635.802 203.056 640.409 Q200 644.992 194.19 644.992 Q188.38 644.992 185.301 640.409 Q182.246 635.802 182.246 627.076 Q182.246 618.326 185.301 613.742 Q188.38 609.136 194.19 609.136 Z\" fill=\"#000000\" fill-rule=\"nonzero\" fill-opacity=\"1\" /><path clip-path=\"url(#clip730)\" d=\"M145.417 357.065 L175.093 357.065 L175.093 361 L145.417 361 L145.417 357.065 Z\" fill=\"#000000\" fill-rule=\"nonzero\" fill-opacity=\"1\" /><path clip-path=\"url(#clip730)\" d=\"M185.232 339.333 L203.588 339.333 L203.588 343.268 L189.514 343.268 L189.514 351.741 Q190.533 351.393 191.551 351.231 Q192.57 351.046 193.588 351.046 Q199.375 351.046 202.755 354.217 Q206.135 357.389 206.135 362.805 Q206.135 368.384 202.662 371.486 Q199.19 374.565 192.871 374.565 Q190.695 374.565 188.426 374.194 Q186.181 373.824 183.774 373.083 L183.774 368.384 Q185.857 369.518 188.079 370.074 Q190.301 370.629 192.778 370.629 Q196.783 370.629 199.121 368.523 Q201.459 366.416 201.459 362.805 Q201.459 359.194 199.121 357.088 Q196.783 354.981 192.778 354.981 Q190.903 354.981 189.028 355.398 Q187.176 355.815 185.232 356.694 L185.232 339.333 Z\" fill=\"#000000\" fill-rule=\"nonzero\" fill-opacity=\"1\" /><path clip-path=\"url(#clip730)\" d=\"M194.19 71.9844 Q190.579 71.9844 188.75 75.5492 Q186.945 79.0908 186.945 86.2204 Q186.945 93.3268 188.75 96.8916 Q190.579 100.433 194.19 100.433 Q197.825 100.433 199.63 96.8916 Q201.459 93.3268 201.459 86.2204 Q201.459 79.0908 199.63 75.5492 Q197.825 71.9844 194.19 71.9844 M194.19 68.2807 Q200 68.2807 203.056 72.8871 Q206.135 77.4704 206.135 86.2204 Q206.135 94.9472 203.056 99.5537 Q200 104.137 194.19 104.137 Q188.38 104.137 185.301 99.5537 Q182.246 94.9472 182.246 86.2204 Q182.246 77.4704 185.301 72.8871 Q188.38 68.2807 194.19 68.2807 Z\" fill=\"#000000\" fill-rule=\"nonzero\" fill-opacity=\"1\" /><path clip-path=\"url(#clip730)\" d=\"M14.479 723.865 L19.3487 723.865 L19.3487 729.467 Q19.3487 732.618 20.6219 733.859 Q21.895 735.069 25.2052 735.069 L28.3562 735.069 L28.3562 725.425 L32.9077 725.425 L32.9077 735.069 L64.0042 735.069 L64.0042 740.957 L32.9077 740.957 L32.9077 746.559 L28.3562 746.559 L28.3562 740.957 L25.8736 740.957 Q19.9216 740.957 17.2162 738.188 Q14.479 735.419 14.479 729.403 L14.479 723.865 Z\" fill=\"#000000\" fill-rule=\"nonzero\" fill-opacity=\"1\" /><polyline clip-path=\"url(#clip732)\" style=\"stroke:#009af9; stroke-linecap:round; stroke-linejoin:round; stroke-width:4; stroke-opacity:1; fill:none\" points=\"301.869,248.442 322.425,252.669 442.82,279.054 498.828,292.325 573.899,311.174 635.931,327.715 693.615,343.923 766.028,365.457 830.982,385.964 905.332,410.903 960.908,430.628 1031.99,457.291 1096.87,483.115 1170.71,514.352 1229.24,540.601 1301.96,575.168 1357.65,603.201 1436.17,645.189 1494.85,678.579 1561.57,718.801 1627.66,761.165 1664.01,785.611 1700.36,810.912 1728.13,830.836 1755.89,851.297 1790.93,877.912 1825.97,905.447 1858.38,931.77 1890.78,958.948 1924.2,987.912 1957.63,1017.86 1991.5,1049.28 2025.38,1081.8 2060.76,1116.99 2096.13,1153.51 2124,1183.26 2151.86,1213.9 2183.59,1249.92 2215.32,1287.21 2247.05,1325.82 2278.78,1365.82 2282.34,1370.4 2285.9,1374.99 2289.46,1379.61 2293.02,1384.24 \"/>\n",
       "<path clip-path=\"url(#clip732)\" d=\"M301.869 86.1857 L301.869 248.442 L434.613 277.164 L434.613 86.1857 L301.869 86.1857  Z\" fill=\"#e26f46\" fill-rule=\"evenodd\" fill-opacity=\"0.2\"/>\n",
       "<polyline clip-path=\"url(#clip732)\" style=\"stroke:#000000; stroke-linecap:round; stroke-linejoin:round; stroke-width:4; stroke-opacity:0.2; fill:none\" points=\"301.869,86.1857 301.869,248.442 434.613,277.164 434.613,86.1857 301.869,86.1857 \"/>\n",
       "<path clip-path=\"url(#clip732)\" d=\"M434.613 86.1857 L434.613 277.164 L567.356 309.482 L567.356 86.1857 L434.613 86.1857  Z\" fill=\"#3da44d\" fill-rule=\"evenodd\" fill-opacity=\"0.2\"/>\n",
       "<polyline clip-path=\"url(#clip732)\" style=\"stroke:#000000; stroke-linecap:round; stroke-linejoin:round; stroke-width:4; stroke-opacity:0.2; fill:none\" points=\"434.613,86.1857 434.613,277.164 567.356,309.482 567.356,86.1857 434.613,86.1857 \"/>\n",
       "<path clip-path=\"url(#clip732)\" d=\"M567.356 86.1857 L567.356 309.482 L700.1 345.796 L700.1 86.1857 L567.356 86.1857  Z\" fill=\"#c271d2\" fill-rule=\"evenodd\" fill-opacity=\"0.2\"/>\n",
       "<polyline clip-path=\"url(#clip732)\" style=\"stroke:#000000; stroke-linecap:round; stroke-linejoin:round; stroke-width:4; stroke-opacity:0.2; fill:none\" points=\"567.356,86.1857 567.356,309.482 700.1,345.796 700.1,86.1857 567.356,86.1857 \"/>\n",
       "<path clip-path=\"url(#clip732)\" d=\"M700.1 86.1857 L700.1 345.796 L832.843 386.568 L832.843 86.1857 L700.1 86.1857  Z\" fill=\"#ac8d18\" fill-rule=\"evenodd\" fill-opacity=\"0.2\"/>\n",
       "<polyline clip-path=\"url(#clip732)\" style=\"stroke:#000000; stroke-linecap:round; stroke-linejoin:round; stroke-width:4; stroke-opacity:0.2; fill:none\" points=\"700.1,86.1857 700.1,345.796 832.843,386.568 832.843,86.1857 700.1,86.1857 \"/>\n",
       "<path clip-path=\"url(#clip732)\" d=\"M832.843 86.1857 L832.843 386.568 L965.587 432.333 L965.587 86.1857 L832.843 86.1857  Z\" fill=\"#00a9ad\" fill-rule=\"evenodd\" fill-opacity=\"0.2\"/>\n",
       "<polyline clip-path=\"url(#clip732)\" style=\"stroke:#000000; stroke-linecap:round; stroke-linejoin:round; stroke-width:4; stroke-opacity:0.2; fill:none\" points=\"832.843,86.1857 832.843,386.568 965.587,432.333 965.587,86.1857 832.843,86.1857 \"/>\n",
       "<path clip-path=\"url(#clip732)\" d=\"M965.587 86.1857 L965.587 432.333 L1098.33 483.714 L1098.33 86.1857 L965.587 86.1857  Z\" fill=\"#ed5d92\" fill-rule=\"evenodd\" fill-opacity=\"0.2\"/>\n",
       "<polyline clip-path=\"url(#clip732)\" style=\"stroke:#000000; stroke-linecap:round; stroke-linejoin:round; stroke-width:4; stroke-opacity:0.2; fill:none\" points=\"965.587,86.1857 965.587,432.333 1098.33,483.714 1098.33,86.1857 965.587,86.1857 \"/>\n",
       "<path clip-path=\"url(#clip732)\" d=\"M1098.33 86.1857 L1098.33 483.714 L1231.07 541.445 L1231.07 86.1857 L1098.33 86.1857  Z\" fill=\"#c68125\" fill-rule=\"evenodd\" fill-opacity=\"0.2\"/>\n",
       "<polyline clip-path=\"url(#clip732)\" style=\"stroke:#000000; stroke-linecap:round; stroke-linejoin:round; stroke-width:4; stroke-opacity:0.2; fill:none\" points=\"1098.33,86.1857 1098.33,483.714 1231.07,541.445 1231.07,86.1857 1098.33,86.1857 \"/>\n",
       "<path clip-path=\"url(#clip732)\" d=\"M1231.07 86.1857 L1231.07 541.445 L1363.82 606.39 L1363.82 86.1857 L1231.07 86.1857  Z\" fill=\"#00a98d\" fill-rule=\"evenodd\" fill-opacity=\"0.2\"/>\n",
       "<polyline clip-path=\"url(#clip732)\" style=\"stroke:#000000; stroke-linecap:round; stroke-linejoin:round; stroke-width:4; stroke-opacity:0.2; fill:none\" points=\"1231.07,86.1857 1231.07,541.445 1363.82,606.39 1363.82,86.1857 1231.07,86.1857 \"/>\n",
       "<path clip-path=\"url(#clip732)\" d=\"M1363.82 86.1857 L1363.82 606.39 L1496.56 679.581 L1496.56 86.1857 L1363.82 86.1857  Z\" fill=\"#8e971d\" fill-rule=\"evenodd\" fill-opacity=\"0.2\"/>\n",
       "<polyline clip-path=\"url(#clip732)\" style=\"stroke:#000000; stroke-linecap:round; stroke-linejoin:round; stroke-width:4; stroke-opacity:0.2; fill:none\" points=\"1363.82,86.1857 1363.82,606.39 1496.56,679.581 1496.56,86.1857 1363.82,86.1857 \"/>\n",
       "<path clip-path=\"url(#clip732)\" d=\"M1496.56 86.1857 L1496.56 679.581 L1629.3 762.255 L1629.3 86.1857 L1496.56 86.1857  Z\" fill=\"#00a8cb\" fill-rule=\"evenodd\" fill-opacity=\"0.2\"/>\n",
       "<polyline clip-path=\"url(#clip732)\" style=\"stroke:#000000; stroke-linecap:round; stroke-linejoin:round; stroke-width:4; stroke-opacity:0.2; fill:none\" points=\"1496.56,86.1857 1496.56,679.581 1629.3,762.255 1629.3,86.1857 1496.56,86.1857 \"/>\n",
       "<path clip-path=\"url(#clip732)\" d=\"M1629.3 86.1857 L1629.3 762.255 L1762.05 855.908 L1762.05 86.1857 L1629.3 86.1857  Z\" fill=\"#9b7fe8\" fill-rule=\"evenodd\" fill-opacity=\"0.2\"/>\n",
       "<polyline clip-path=\"url(#clip732)\" style=\"stroke:#000000; stroke-linecap:round; stroke-linejoin:round; stroke-width:4; stroke-opacity:0.2; fill:none\" points=\"1629.3,86.1857 1629.3,762.255 1762.05,855.908 1762.05,86.1857 1629.3,86.1857 \"/>\n",
       "<path clip-path=\"url(#clip732)\" d=\"M1762.05 86.1857 L1762.05 855.908 L1894.79 962.371 L1894.79 86.1857 L1762.05 86.1857  Z\" fill=\"#608cf6\" fill-rule=\"evenodd\" fill-opacity=\"0.2\"/>\n",
       "<polyline clip-path=\"url(#clip732)\" style=\"stroke:#000000; stroke-linecap:round; stroke-linejoin:round; stroke-width:4; stroke-opacity:0.2; fill:none\" points=\"1762.05,86.1857 1762.05,855.908 1894.79,962.371 1894.79,86.1857 1762.05,86.1857 \"/>\n",
       "<path clip-path=\"url(#clip732)\" d=\"M1894.79 86.1857 L1894.79 962.371 L2027.53 1083.9 L2027.53 86.1857 L1894.79 86.1857  Z\" fill=\"#f05f73\" fill-rule=\"evenodd\" fill-opacity=\"0.2\"/>\n",
       "<polyline clip-path=\"url(#clip732)\" style=\"stroke:#000000; stroke-linecap:round; stroke-linejoin:round; stroke-width:4; stroke-opacity:0.2; fill:none\" points=\"1894.79,86.1857 1894.79,962.371 2027.53,1083.9 2027.53,86.1857 1894.79,86.1857 \"/>\n",
       "<path clip-path=\"url(#clip732)\" d=\"M2027.53 86.1857 L2027.53 1083.9 L2160.28 1223.33 L2160.28 86.1857 L2027.53 86.1857  Z\" fill=\"#dd64b5\" fill-rule=\"evenodd\" fill-opacity=\"0.2\"/>\n",
       "<polyline clip-path=\"url(#clip732)\" style=\"stroke:#000000; stroke-linecap:round; stroke-linejoin:round; stroke-width:4; stroke-opacity:0.2; fill:none\" points=\"2027.53,86.1857 2027.53,1083.9 2160.28,1223.33 2160.28,86.1857 2027.53,86.1857 \"/>\n",
       "<path clip-path=\"url(#clip732)\" d=\"M2160.28 86.1857 L2160.28 1223.33 L2293.02 1384.24 L2293.02 86.1857 L2160.28 86.1857  Z\" fill=\"#6b9e32\" fill-rule=\"evenodd\" fill-opacity=\"0.2\"/>\n",
       "<polyline clip-path=\"url(#clip732)\" style=\"stroke:#000000; stroke-linecap:round; stroke-linejoin:round; stroke-width:4; stroke-opacity:0.2; fill:none\" points=\"2160.28,86.1857 2160.28,1223.33 2293.02,1384.24 2293.02,86.1857 2160.28,86.1857 \"/>\n",
       "</svg>\n"
      ],
      "text/html": [
       "<img src=\"data:image/png;base64,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\" />"
      ]
     },
     "execution_count": 8,
     "metadata": {},
     "output_type": "execute_result"
    }
   ],
   "source": [
    "f(x)=3(x+2)^2/(x-4)\n",
    "showtrapezoids(f,(0,2),15)"
   ]
  },
  {
   "cell_type": "markdown",
   "id": "a711d878",
   "metadata": {},
   "source": [
    "### Naive implementation of trapezoid rule"
   ]
  },
  {
   "cell_type": "markdown",
   "id": "cca23e05",
   "metadata": {},
   "source": [
    "Lets not worry about efficiency, and write the simplest implementation of the trapezoid rule that we can think of.  We will make this more efficient later -- but this version is already fast enough for our purposes.  One of the points of using Julia is that the naive implementation of algorithms tends to be fast."
   ]
  },
  {
   "cell_type": "code",
   "execution_count": 9,
   "id": "2a7b1bb2",
   "metadata": {},
   "outputs": [
    {
     "data": {
      "text/plain": [
       "naive_trap"
      ]
     },
     "execution_count": 9,
     "metadata": {},
     "output_type": "execute_result"
    }
   ],
   "source": [
    "\"\"\"\n",
    "    naive_trap(f,range,n)\n",
    "\n",
    "is a naive implementation of the trapezoid rule for calculating\n",
    "`∫f(x)dx`, with `x` running between `a` and `b` where `range=(a,b)`.\n",
    "The integral region is divided into `n` trapezoids.\n",
    "\"\"\"\n",
    "function naive_trap(f,range,n)\n",
    "    result=0.\n",
    "    xmin=range[1]\n",
    "    xmax=range[2]\n",
    "    dx=(xmax-xmin)/n\n",
    "    for j in 1:n\n",
    "        x1=xmin+(j-1)*dx\n",
    "        x2=x1+dx\n",
    "        result+= (f(x2)+f(x1))*dx/2\n",
    "    end\n",
    "    return result\n",
    "end"
   ]
  },
  {
   "cell_type": "markdown",
   "id": "fa281284",
   "metadata": {},
   "source": [
    "At the beginning of the function I supplied a \"docstring\".  This allows one to use the interactive help feature to learn about the function"
   ]
  },
  {
   "cell_type": "code",
   "execution_count": 10,
   "id": "f480c5f0",
   "metadata": {},
   "outputs": [
    {
     "name": "stdout",
     "output_type": "stream",
     "text": [
      "search: \u001b[0m\u001b[1mn\u001b[22m\u001b[0m\u001b[1ma\u001b[22m\u001b[0m\u001b[1mi\u001b[22m\u001b[0m\u001b[1mv\u001b[22m\u001b[0m\u001b[1me\u001b[22m\u001b[0m\u001b[1m_\u001b[22m\u001b[0m\u001b[1mt\u001b[22m\u001b[0m\u001b[1mr\u001b[22m\u001b[0m\u001b[1ma\u001b[22m\u001b[0m\u001b[1mp\u001b[22m\n",
      "\n"
     ]
    },
    {
     "data": {
      "text/latex": [
       "\\begin{verbatim}\n",
       "naive_trap(f,range,n)\n",
       "\\end{verbatim}\n",
       "is a naive implementation of the trapezoid rule for calculating \\texttt{∫f(x)dx}, with \\texttt{x} running between \\texttt{a} and \\texttt{b} where \\texttt{range=(a,b)}. The integral region is divided into \\texttt{n} trapezoids.\n",
       "\n"
      ],
      "text/markdown": [
       "```\n",
       "naive_trap(f,range,n)\n",
       "```\n",
       "\n",
       "is a naive implementation of the trapezoid rule for calculating `∫f(x)dx`, with `x` running between `a` and `b` where `range=(a,b)`. The integral region is divided into `n` trapezoids.\n"
      ],
      "text/plain": [
       "\u001b[36m  naive_trap(f,range,n)\u001b[39m\n",
       "\n",
       "  is a naive implementation of the trapezoid rule for calculating \u001b[36m∫f(x)dx\u001b[39m,\n",
       "  with \u001b[36mx\u001b[39m running between \u001b[36ma\u001b[39m and \u001b[36mb\u001b[39m where \u001b[36mrange=(a,b)\u001b[39m. The integral region is\n",
       "  divided into \u001b[36mn\u001b[39m trapezoids."
      ]
     },
     "execution_count": 10,
     "metadata": {},
     "output_type": "execute_result"
    }
   ],
   "source": [
    "?naive_trap"
   ]
  },
  {
   "cell_type": "code",
   "execution_count": 13,
   "id": "d03f4a75",
   "metadata": {},
   "outputs": [
    {
     "data": {
      "text/plain": [
       "1.999835503887444"
      ]
     },
     "execution_count": 13,
     "metadata": {},
     "output_type": "execute_result"
    }
   ],
   "source": [
    "testf(x)=sin(x)\n",
    "naive_trap(testf,(0,pi),100)"
   ]
  },
  {
   "cell_type": "markdown",
   "id": "5aeeabe7",
   "metadata": {},
   "source": [
    "Notationally that is fine -- but for things like this it is nice to be able to pass around \"pure functions\" or \"lambda functions\" or \"anonymous functions\"  "
   ]
  },
  {
   "cell_type": "code",
   "execution_count": 15,
   "id": "9ce0b8a3-f1f0-4594-8d78-440c15232732",
   "metadata": {},
   "outputs": [
    {
     "data": {
      "text/plain": [
       "0.25002500000000005"
      ]
     },
     "execution_count": 15,
     "metadata": {},
     "output_type": "execute_result"
    }
   ],
   "source": [
    "naive_trap(x->x^3,(0,1),100)"
   ]
  },
  {
   "cell_type": "markdown",
   "id": "4c2a1915",
   "metadata": {},
   "source": [
    "In that expression, `x->x^3` is short-hand for creating the function like `testf`, and then inserting it into the function call.  Here are a couple more examples of using this notation."
   ]
  },
  {
   "cell_type": "code",
   "execution_count": 16,
   "id": "294eb84b",
   "metadata": {},
   "outputs": [
    {
     "data": {
      "text/plain": [
       "16"
      ]
     },
     "execution_count": 16,
     "metadata": {},
     "output_type": "execute_result"
    }
   ],
   "source": [
    "(x->x^2)(4)"
   ]
  },
  {
   "cell_type": "code",
   "execution_count": 17,
   "id": "f0209c9c",
   "metadata": {},
   "outputs": [
    {
     "data": {
      "text/plain": [
       "7"
      ]
     },
     "execution_count": 17,
     "metadata": {},
     "output_type": "execute_result"
    }
   ],
   "source": [
    "g=(x->x+2)\n",
    "g(5)"
   ]
  },
  {
   "cell_type": "code",
   "execution_count": 18,
   "id": "32357f50-7776-4987-8063-ca762aad63c5",
   "metadata": {},
   "outputs": [
    {
     "data": {
      "text/plain": [
       "f (generic function with 1 method)"
      ]
     },
     "execution_count": 18,
     "metadata": {},
     "output_type": "execute_result"
    }
   ],
   "source": [
    "function f(x)\n",
    "    y=x+1\n",
    "    y^2+2\n",
    "end"
   ]
  },
  {
   "cell_type": "code",
   "execution_count": 19,
   "id": "fc87e2c9-f42f-41a4-b5c0-7fca0b7be0a7",
   "metadata": {},
   "outputs": [
    {
     "data": {
      "text/plain": [
       "3"
      ]
     },
     "execution_count": 19,
     "metadata": {},
     "output_type": "execute_result"
    }
   ],
   "source": [
    "f(0)"
   ]
  },
  {
   "cell_type": "code",
   "execution_count": null,
   "id": "4fe79b4f-8e1e-469c-a8cb-a4b91c9a55e1",
   "metadata": {},
   "outputs": [],
   "source": []
  },
  {
   "cell_type": "code",
   "execution_count": null,
   "id": "9f9d0503-bcb1-4836-9dcd-eb652c07933d",
   "metadata": {},
   "outputs": [],
   "source": []
  },
  {
   "cell_type": "code",
   "execution_count": null,
   "id": "a661ee4f-6c51-4e65-b625-fa5b26b2a305",
   "metadata": {},
   "outputs": [],
   "source": []
  },
  {
   "cell_type": "markdown",
   "id": "401b88d8-d9e4-4988-9550-0a8bfedff7fc",
   "metadata": {},
   "source": [
    "Julia also has a slightly obtuse notation that we can use here, namely a `do` block: where the function is placed on the next line:"
   ]
  },
  {
   "cell_type": "code",
   "execution_count": 20,
   "id": "9935502e-ddc3-4a8b-8ec8-4e590570b03d",
   "metadata": {},
   "outputs": [
    {
     "data": {
      "text/plain": [
       "4.335"
      ]
     },
     "execution_count": 20,
     "metadata": {},
     "output_type": "execute_result"
    }
   ],
   "source": [
    "naive_trap((0,1),10) do x\n",
    "    y=x+1\n",
    "    return y^2+2\n",
    "end"
   ]
  },
  {
   "cell_type": "markdown",
   "id": "f6019b5a-0e22-4baf-8a9e-4cc70726da4d",
   "metadata": {},
   "source": [
    "That block was equivalent to writing"
   ]
  },
  {
   "cell_type": "code",
   "execution_count": null,
   "id": "be032aa1-ce62-48e7-a79c-369854e07c51",
   "metadata": {},
   "outputs": [],
   "source": [
    "function f(x)\n",
    "    x^2\n",
    "end\n",
    "\n",
    "naive_trap(f,(0,1),10)"
   ]
  },
  {
   "cell_type": "markdown",
   "id": "2876a8b1-5b43-4b83-a899-ad171844df2c",
   "metadata": {},
   "source": [
    "I am a bit ambivalent about the `do` block notation.  I think it is solving a problem which doesn't exist -- and it leads to hard to read code.  Nonethless, it is valid syntax, so is probably good to know.  Functions which do file IO often use that notation, as does some of the asynchronous programming stuff that we will work with later. "
   ]
  },
  {
   "cell_type": "markdown",
   "id": "fa0d62bb-04fa-4ae8-9f43-7d9e5a3db3f8",
   "metadata": {},
   "source": [
    "<div style=\"border: 2px solid white; border-radius: 10px; padding: 20px; background-color:white; color:black; height: 500px\" >\n",
    "</div>"
   ]
  },
  {
   "cell_type": "markdown",
   "id": "c481ceb5-78e0-45fd-bc23-bd3b6fb7f450",
   "metadata": {},
   "source": [
    "Now, one thing I hate is remembering exactly the notation for a function definition.  A nice trick in Julia is to give multiple versions of the function that will work for any natural notation."
   ]
  },
  {
   "cell_type": "code",
   "execution_count": 21,
   "id": "9670ace6-b7ba-4f47-9eea-bd793f820a6e",
   "metadata": {},
   "outputs": [
    {
     "data": {
      "text/plain": [
       "naive_trap (generic function with 4 methods)"
      ]
     },
     "execution_count": 21,
     "metadata": {},
     "output_type": "execute_result"
    }
   ],
   "source": [
    "# alternate signature\n",
    "naive_trap(f,a,b,n)=naive_trap(f,(a,b),n) \n",
    "#keyword arguments\n",
    "naive_trap(;f,range,n)=naive_trap(f,range,n)\n",
    "naive_trap(f;range,n=10)=naive_trap(f,range,n)"
   ]
  },
  {
   "cell_type": "markdown",
   "id": "c6ff2f04-ced8-48e2-878d-3e15cfa952ac",
   "metadata": {},
   "source": [
    "Here are now all the different ways we can call our function"
   ]
  },
  {
   "cell_type": "code",
   "execution_count": 22,
   "id": "6ca3fdb9-a921-4f26-84af-aa57020e79f1",
   "metadata": {},
   "outputs": [
    {
     "data": {
      "text/plain": [
       "2.75"
      ]
     },
     "execution_count": 22,
     "metadata": {},
     "output_type": "execute_result"
    }
   ],
   "source": [
    "# the original way \n",
    "#-- matches `naive_trap(f,range,n)`\n",
    "naive_trap(x->x^2,(0,2),4) "
   ]
  },
  {
   "cell_type": "code",
   "execution_count": 23,
   "id": "26309636-01fd-4eac-922a-e92231b69d32",
   "metadata": {},
   "outputs": [
    {
     "data": {
      "text/plain": [
       "2.75"
      ]
     },
     "execution_count": 23,
     "metadata": {},
     "output_type": "execute_result"
    }
   ],
   "source": [
    "# matches `naive_trap(f,a,b,n)`\n",
    "naive_trap(x->x^2,0,2,4) "
   ]
  },
  {
   "cell_type": "code",
   "execution_count": 24,
   "id": "0e7a075e-1968-466d-ba8d-b58a0b193dcf",
   "metadata": {},
   "outputs": [
    {
     "data": {
      "text/plain": [
       "2.75"
      ]
     },
     "execution_count": 24,
     "metadata": {},
     "output_type": "execute_result"
    }
   ],
   "source": [
    "# uses keyword arguments\n",
    "naive_trap(;f=(x->x^2),range=(0,2),n=4) "
   ]
  },
  {
   "cell_type": "markdown",
   "id": "bf730b66-edec-4950-9245-6e5b61f95d5a",
   "metadata": {},
   "source": [
    "Note, the semicolon is actually optional, and it is happy with"
   ]
  },
  {
   "cell_type": "code",
   "execution_count": 25,
   "id": "e49d086a-2f72-4079-a6d6-4e771b469c26",
   "metadata": {},
   "outputs": [
    {
     "data": {
      "text/plain": [
       "2.75"
      ]
     },
     "execution_count": 25,
     "metadata": {},
     "output_type": "execute_result"
    }
   ],
   "source": [
    "naive_trap(f=(x->x^2),range=(0,2),n=4) "
   ]
  },
  {
   "cell_type": "markdown",
   "id": "f0ab514a-aaa6-4822-83c8-2379f6766bd3",
   "metadata": {},
   "source": [
    "Order doesn't matter for named arguments"
   ]
  },
  {
   "cell_type": "code",
   "execution_count": 26,
   "id": "a8d146f1-127e-46a8-9e07-c21915303f83",
   "metadata": {},
   "outputs": [
    {
     "data": {
      "text/plain": [
       "2.75"
      ]
     },
     "execution_count": 26,
     "metadata": {},
     "output_type": "execute_result"
    }
   ],
   "source": [
    "naive_trap(n=4,f=(x->x^2),range=(0,2))"
   ]
  },
  {
   "cell_type": "markdown",
   "id": "0a19ee45-7eb1-4e0d-92e5-334eb42c7a34",
   "metadata": {},
   "source": [
    "We can also package up the arguments into a container.  This is useful if we are going to be using the same arguments in multiple places in our code.  There will be fewer errors if we move them as a package"
   ]
  },
  {
   "cell_type": "code",
   "execution_count": 27,
   "id": "6f5ca843-6cb3-4dc1-b63f-7bf263186bc0",
   "metadata": {},
   "outputs": [
    {
     "data": {
      "text/plain": [
       "2.75"
      ]
     },
     "execution_count": 27,
     "metadata": {},
     "output_type": "execute_result"
    }
   ],
   "source": [
    "dictargs=Dict(:f=>(x->x^2),:range=>(0,2),:n=>4)\n",
    "naive_trap(;dictargs...)"
   ]
  },
  {
   "cell_type": "code",
   "execution_count": 28,
   "id": "829feeae-c023-40bf-8abd-9f71fd073b88",
   "metadata": {},
   "outputs": [
    {
     "data": {
      "text/plain": [
       "2.75"
      ]
     },
     "execution_count": 28,
     "metadata": {},
     "output_type": "execute_result"
    }
   ],
   "source": [
    "ntupleargs=(f=(x->x^2),:range=>(0,2),n=4)\n",
    "naive_trap(;ntupleargs...)"
   ]
  },
  {
   "cell_type": "code",
   "execution_count": 29,
   "id": "856de839-437f-47ae-8d5c-692ee1c23ab0",
   "metadata": {},
   "outputs": [
    {
     "data": {
      "text/plain": [
       "2.75"
      ]
     },
     "execution_count": 29,
     "metadata": {},
     "output_type": "execute_result"
    }
   ],
   "source": [
    "args=(x->x^2,(0,2),4)\n",
    "naive_trap(args...)"
   ]
  },
  {
   "cell_type": "markdown",
   "id": "b79493e2-008f-4b2f-b8be-3468d4edda69",
   "metadata": {},
   "source": [
    "**<span style=\"color: red;\">Tuesday Aug 26 -- Lecture End Point</span>**"
   ]
  },
  {
   "cell_type": "markdown",
   "id": "96d22c4e",
   "metadata": {},
   "source": [
    "<div style=\"border: 2px solid white; border-radius: 10px; padding: 20px; background-color:white; color:black; height: 500px\" >\n",
    "</div>"
   ]
  },
  {
   "cell_type": "markdown",
   "id": "4e38659b",
   "metadata": {},
   "source": [
    "#### Choosing `n`"
   ]
  },
  {
   "cell_type": "markdown",
   "id": "4516e93b",
   "metadata": {},
   "source": [
    "How big of `n` should we use?  Lets see how our result depends on `n`"
   ]
  },
  {
   "cell_type": "code",
   "execution_count": null,
   "id": "5a7722a7",
   "metadata": {},
   "outputs": [],
   "source": [
    "nvals=1:50\n",
    "tvals=[naive_trap(x->x^3,(0,1),n) for n in nvals]\n",
    "plot(nvals,tvals,xlabel=\"n\",ylabel=L\"$\\int_0^1x^3dx$\",legend=false)\n",
    "scatter!(nvals,tvals)"
   ]
  },
  {
   "cell_type": "markdown",
   "id": "6b728f68",
   "metadata": {},
   "source": [
    "We see that this converges pretty quickly. One trick to understand this is to rescale one of the axes.  Lets try plotting the difference beteen the exact result and this approximation, as a function of $1/n$."
   ]
  },
  {
   "cell_type": "code",
   "execution_count": null,
   "id": "ec9f452a",
   "metadata": {},
   "outputs": [],
   "source": [
    "plot(1 ./nvals,tvals.-0.25,xlabel=\"1/n\",\n",
    "    ylabel=L\"$\\int_0^1x^3dx$-0.25\",legend=false)\n",
    "scatter!(1 ./nvals,tvals.-0.25)"
   ]
  },
  {
   "cell_type": "markdown",
   "id": "11ed1761-66b7-4320-86b6-493c6449f6b5",
   "metadata": {},
   "source": [
    "The notation `tvals.-0.25` or `1 ./nvals` means to apply the operation elementwise."
   ]
  },
  {
   "cell_type": "code",
   "execution_count": null,
   "id": "9de6cd46-24da-4f2a-ae02-dd5e1ac11cd1",
   "metadata": {},
   "outputs": [],
   "source": [
    "x=(1,2,3)"
   ]
  },
  {
   "cell_type": "code",
   "execution_count": null,
   "id": "54bc4009-dc25-44a1-b14b-7dc07c343f10",
   "metadata": {},
   "outputs": [],
   "source": [
    "x .-0.25"
   ]
  },
  {
   "cell_type": "code",
   "execution_count": null,
   "id": "6d7d0fc7-3de7-4274-8d9c-337d92d1185d",
   "metadata": {},
   "outputs": [],
   "source": [
    "x-0.25"
   ]
  },
  {
   "cell_type": "markdown",
   "id": "1c172ed7-f26b-4b18-a9f0-b0239a4b40cd",
   "metadata": {},
   "source": [
    "Aside over -- Lets now look at that plot"
   ]
  },
  {
   "cell_type": "code",
   "execution_count": null,
   "id": "dca757b8-6054-4f3b-bfd2-76ef3dd86ee5",
   "metadata": {},
   "outputs": [],
   "source": [
    "plot(1 ./nvals,tvals.-0.25,\n",
    "    xlabel=\"1/n\",\n",
    "    ylabel=L\"$\\int_0^1x^3dx$-0.25\",\n",
    "    legend=false)\n",
    "scatter!(1 ./nvals,tvals.-0.25)"
   ]
  },
  {
   "cell_type": "markdown",
   "id": "c6a17c9f",
   "metadata": {},
   "source": [
    "It kind of looks like a parabola.  Lets plot against `1/n^2`"
   ]
  },
  {
   "cell_type": "code",
   "execution_count": null,
   "id": "93f3d124",
   "metadata": {},
   "outputs": [],
   "source": [
    "plot(1 ./nvals.^2,tvals.-0.25,\n",
    "    xlabel=\"1/n²\",\n",
    "    ylabel=L\"$\\int_0^1x^3dx$-0.25\",\n",
    "    legend=false)\n",
    "scatter!(1 ./nvals.^2,tvals.-0.25)"
   ]
  },
  {
   "cell_type": "markdown",
   "id": "3e6a9c07",
   "metadata": {},
   "source": [
    "Apparently the error scales as $1/n^2$"
   ]
  },
  {
   "cell_type": "markdown",
   "id": "adbd7b00",
   "metadata": {},
   "source": [
    "An even better approach is to use a log-log plot"
   ]
  },
  {
   "cell_type": "code",
   "execution_count": null,
   "id": "ce0b8b33",
   "metadata": {},
   "outputs": [],
   "source": [
    "scatter(nvals,abs.(-(tvals.-0.25)),\n",
    "    xlabel=\"n\",\n",
    "    ylabel=L\"$\\int_0^1x^3dx$-0.25\",\n",
    "    legend=false,xaxis=:log, \n",
    "    yaxis=:log)"
   ]
  },
  {
   "cell_type": "markdown",
   "id": "21d6072e",
   "metadata": {},
   "source": [
    "If a plot of $\\log(y)$  vs $\\log(x)$ is a a straight line:  $\\log(y)=a+b \\log(x)$, then $y$ and $x$ are related by a power law:  $y=\\alpha x^\\beta$, where $\\alpha=\\exp(a)$ and $\\beta=b$.  Lets try to fit our log-log plot to a straight line."
   ]
  },
  {
   "cell_type": "markdown",
   "id": "4ed8e2c3",
   "metadata": {},
   "source": [
    "Later in the semester we will develop curve fitting routines, but here is a quick one.  \n",
    "\n",
    "My curve fitting program is literally 2 lines long, and illustrates why sometimes one does not want to bother with a package.  I am sure it would take longer to Google the package than it does to write the function."
   ]
  },
  {
   "cell_type": "code",
   "execution_count": null,
   "id": "2e3fc88d",
   "metadata": {},
   "outputs": [],
   "source": [
    "\"\"\"\n",
    "    linearfit(X,Y,functions)\n",
    "\n",
    "takes a set of `X=(x1,x2,...xn)`, `Y=(y1,y1,...yn)` and a set of `functions=(f1, f2,...fm)` \n",
    "and returns the set of coefficients `C=(c1,c2,..cm)` which minimize \n",
    "\n",
    "\n",
    "         n       m\n",
    "    χ²=  ∑  (yi- ∑  cj fj(xi))^2\n",
    "        i=1     j=1\n",
    "\n",
    "It is implemented by constructing the `n×m` matrix `A` with matrix elements\n",
    "\n",
    "    Aᵢⱼ= fj(xi)\n",
    "\n",
    "then `(AᵗA)C=AᵗY`, where `Y=(y1,y2,...yn)`.  Thus the optimal coefficients are \n",
    "`(AᵗA)⁻¹(AᵗY)`, which can be implemented with `(AᵗA)\\\\(AᵗY)`.\n",
    "\"\"\"\n",
    "function linearfit(X,Y,functions)\n",
    "    A=[f(x) for x in X, f in functions ]\n",
    "    return transpose(A)*A\\(transpose(A)*Y) # This is equivalent to (AᵗA)⁻¹(AᵗY)\n",
    "end                                        # the \"\\\" is \"divide from left\""
   ]
  },
  {
   "cell_type": "code",
   "execution_count": null,
   "id": "da3637ba-6469-4951-af80-2e719cbddf41",
   "metadata": {},
   "outputs": [],
   "source": [
    "?linearfit"
   ]
  },
  {
   "cell_type": "markdown",
   "id": "502613ee",
   "metadata": {},
   "source": [
    "The divide from left notation may seem a little strange on a computer, but it makes sense."
   ]
  },
  {
   "cell_type": "code",
   "execution_count": null,
   "id": "c1bf08b7",
   "metadata": {},
   "outputs": [],
   "source": [
    "1 / 2  # The normal way to take the ratio of 1 and 2"
   ]
  },
  {
   "cell_type": "code",
   "execution_count": null,
   "id": "b88bb758",
   "metadata": {},
   "outputs": [],
   "source": [
    "2 \\ 1 # an alternative way to take the ratio of 1 and 2"
   ]
  },
  {
   "cell_type": "code",
   "execution_count": null,
   "id": "1943a034-4c4e-441a-afcc-857a5185b269",
   "metadata": {},
   "outputs": [],
   "source": [
    "[1 1]/[2 0;0 1] #effectively right-multipy a row vector by the right inverse"
   ]
  },
  {
   "cell_type": "code",
   "execution_count": null,
   "id": "3c09cc03-8e08-47b5-b6e7-2d9f685535db",
   "metadata": {},
   "outputs": [],
   "source": [
    "[2 0;0 1] \\ [1;1] #effectively left-multipy a column vector by the left inverse"
   ]
  },
  {
   "cell_type": "code",
   "execution_count": null,
   "id": "35cb2b9d",
   "metadata": {},
   "outputs": [],
   "source": [
    "lf1=linearfit(log.(nvals),log.(tvals.-0.25),(x->1.,x->x))"
   ]
  },
  {
   "cell_type": "markdown",
   "id": "0f184099",
   "metadata": {},
   "source": [
    "that output means that $\\log(t-0.25)=-1.386 - 2\\log(n)$, or in other words, $t=0.25+\\exp(-1.386)n^{-2}$."
   ]
  },
  {
   "cell_type": "code",
   "execution_count": null,
   "id": "2b79f5b7",
   "metadata": {},
   "outputs": [],
   "source": [
    "scatter(nvals,tvals.-0.25,xlabel=\"n\",ylabel=L\"$\\int_0^1x^3dx$-0.25\",\n",
    "    legend=false,xaxis=:log, yaxis=:log)\n",
    "plot!(x->exp(lf1[1]+lf1[2]*log(x)),1,100)"
   ]
  },
  {
   "cell_type": "markdown",
   "id": "785eaff0",
   "metadata": {},
   "source": [
    "Thus we see that the error scales as $1/n^2$.  Can we understand this?"
   ]
  },
  {
   "cell_type": "markdown",
   "id": "7f352d50-148a-4e0d-8e16-c06e7c60cddf",
   "metadata": {},
   "source": [
    "Aside:  Can you write that last `plot!` statement as a `do` block?"
   ]
  },
  {
   "cell_type": "markdown",
   "id": "387ce39e",
   "metadata": {},
   "source": [
    "<div style=\"border: 2px solid white; border-radius: 10px; padding: 20px; background-color:white; color:black; height: 500px\" >\n",
    "</div>"
   ]
  },
  {
   "cell_type": "markdown",
   "id": "0afba932-0e4e-47ab-a804-32ad83ea4096",
   "metadata": {},
   "source": [
    "## Theory tools"
   ]
  },
  {
   "cell_type": "markdown",
   "id": "d841dc27",
   "metadata": {},
   "source": [
    "### Big O Notation"
   ]
  },
  {
   "cell_type": "markdown",
   "id": "d9c9f5b3",
   "metadata": {},
   "source": [
    "We will often say that a function $f_n$ scales as $O(n^\\alpha)$ as $n\\to\\infty$.  This means that there exists an integer $N$ and a constant $C$ such that $|f_n|\\leq Cn^\\alpha$ for all $n>N$.  That is, we can bound $f_n$ by some constant times $n^\\alpha$.  Note that this is an upper bound, and does not mean the bound is tight.  "
   ]
  },
  {
   "cell_type": "markdown",
   "id": "d153816e",
   "metadata": {},
   "source": [
    "Here is an example showing that `y=1/(x-1)` is bounded by `2/x` for `x>1`.  Thus we say $1/(x-1)=O(x^{-1})$."
   ]
  },
  {
   "cell_type": "code",
   "execution_count": null,
   "id": "93661fbf",
   "metadata": {},
   "outputs": [],
   "source": [
    "plot(x->2/x,2,10,fillrange = [0,0], \n",
    "    fc=:blues,label=\"2/x\",xlabel=\"x\",ylabel=\"y\")\n",
    "plot!(x->1/(x-1),1.5,10,label=\"1/(x-1)\",\n",
    "    linewidth=3)"
   ]
  },
  {
   "cell_type": "markdown",
   "id": "84e77b6b",
   "metadata": {},
   "source": [
    "Sometimes we also want to talk about tight bounds. In this course we will write $f_n\\sim n^\\alpha$ as $n\\to\\infty$ to mean that there exists a constant $C$ such that $|f_n- C n^\\alpha|$ vanishes as $n\\to\\infty$."
   ]
  },
  {
   "cell_type": "markdown",
   "id": "15c4f3dc",
   "metadata": {},
   "source": [
    "In the case where $f_n$ itself vanishes as $n\\to\\infty$, we actually want this to be a little bit stronger, and will actually require $|f_n-C n^\\alpha|/|f_n|$ vanishes as $n\\to\\infty$.  IE.  We want the difference between the curves to vanish faster than $f_n$ itself."
   ]
  },
  {
   "cell_type": "markdown",
   "id": "cb787b78",
   "metadata": {},
   "source": [
    "Here is an example.  We would write $1/(x-1)\\sim 1/x$ as $x\\to\\infty$.  Note, we could also write $1/(x-1)=1/x+O(x^{-2})$, which conveys more information."
   ]
  },
  {
   "cell_type": "code",
   "execution_count": null,
   "id": "5187185d",
   "metadata": {},
   "outputs": [],
   "source": [
    "plot(x->1/x,2,10,fillrange = x->1/(x-1), \n",
    "    fc=:blues,label=\"1/x\",xlabel=\"x\",ylabel=\"y\")\n",
    "plot!(x->1/(x-1),1.5,10,label=\"1/(x-1)\",\n",
    "    linewidth=3)"
   ]
  },
  {
   "cell_type": "markdown",
   "id": "86c084e8",
   "metadata": {},
   "source": [
    "We will often leave off the \"$n\\to\\infty$\" part of the statement.  Sometimes we will take a different limit -- for example we could say $f(x)=O(x^{-2})$ as $x\\to0$, to mean that, for small $x$, $|f(x)|$ is bounded from above by a function proportional to $x^{-2}$.    \n",
    "\n",
    "We can also talk about $O(g(x))$ for functions other than power laws.  "
   ]
  },
  {
   "cell_type": "markdown",
   "id": "f3f67e49-eb10-4f3b-b3cf-aa65a69b9726",
   "metadata": {},
   "source": [
    "There are a [few related notations](https://en.wikipedia.org/wiki/Big_O_notation) that we will not be using."
   ]
  },
  {
   "cell_type": "markdown",
   "id": "a8ed41b2",
   "metadata": {},
   "source": [
    "<div style=\"border: 2px solid white; border-radius: 10px; padding: 20px; background-color:white; color:black; height: 500px\" >\n",
    "</div>"
   ]
  },
  {
   "cell_type": "markdown",
   "id": "8b3b6409",
   "metadata": {},
   "source": [
    "### Richardson Extrapolation"
   ]
  },
  {
   "cell_type": "markdown",
   "id": "8c0a42a3",
   "metadata": {},
   "source": [
    "If we know that the error in the trapezoid rule scales as $n^{-2}$ we can do the integral for several values of $n$ and then fit to a function of the form $I_n=I_\\infty + \\epsilon n^{-2}$ -- extracting a better approximation to the integral."
   ]
  },
  {
   "cell_type": "code",
   "execution_count": null,
   "id": "9d8f2317",
   "metadata": {},
   "outputs": [],
   "source": [
    "I4=naive_trap(x->x^3,(0,1),4)"
   ]
  },
  {
   "cell_type": "code",
   "execution_count": null,
   "id": "5266b46c",
   "metadata": {},
   "outputs": [],
   "source": [
    "I8=naive_trap(x->x^3,(0,1),8)"
   ]
  },
  {
   "cell_type": "markdown",
   "id": "c51cf1ca",
   "metadata": {},
   "source": [
    "$$\n",
    "I_n=I_\\infty+\\epsilon n^{-2}\n",
    "$$"
   ]
  },
  {
   "cell_type": "markdown",
   "id": "729eb25f-831c-42d8-93af-a8ecbba9e3b2",
   "metadata": {},
   "source": [
    "We then multiply by $n^2$,\n",
    "\\begin{equation}\n",
    "n^2 I_n=n^2 I_\\infty+\\epsilon\n",
    "\\end{equation}"
   ]
  },
  {
   "cell_type": "markdown",
   "id": "7cfba35e-9639-4024-98e8-4c9cfaf6b128",
   "metadata": {},
   "source": [
    "We then take two values of $n$ -- say \n",
    "$n=4$ and $n=8$.\n",
    "\\begin{align}\n",
    "4^2 I_4 &= 4^2 I_\\infty+\\epsilon\\\\\n",
    "8^2 I_8 &= 8^2 I_\\infty+\\epsilon\n",
    "\\end{align}"
   ]
  },
  {
   "cell_type": "markdown",
   "id": "e0ee603d-0e38-4dcb-8bdc-fd558580eee3",
   "metadata": {},
   "source": [
    "Subtract these\n",
    "\\begin{equation}\n",
    "8^2 I_8-4^2 I_4= (8^2-4^2) I_\\infty\n",
    "\\end{equation}\n",
    "or\n",
    "\\begin{equation}\n",
    "I_\\infty= \\frac{8^2 I_8-4^2 I_4}{8^2-4^2} =\\frac{2^2 I_8-I_4}{2^2-1}\n",
    "\\end{equation}"
   ]
  },
  {
   "cell_type": "code",
   "execution_count": null,
   "id": "42ddd6b8",
   "metadata": {},
   "outputs": [],
   "source": [
    "(2^2*I8-I4)/(2^2-1)"
   ]
  },
  {
   "cell_type": "markdown",
   "id": "7ed7e33a",
   "metadata": {},
   "source": [
    "This was exact in this case because of the form of the integrand.  In general, if we used $I_n$ and $I_{n/2}$ we would still have an error -- but instead of scaling as $n^{-2}$, it would scale as $n^{-4}$.  The approximation $I\\approx (4/3)I_n-(1/3)I_{n/2}$ is known as *Simpson's Rule*"
   ]
  },
  {
   "cell_type": "markdown",
   "id": "d6ed7dfe",
   "metadata": {},
   "source": [
    "This trick can be repeated.  I can take Simpson's rule with two different $n$'s, and combine them to get an even better approximation to the integral.  This strategy is known as Romberg Integration.  This feels a bit like a free lunch.  Somehow we can get extremely accurate integrals with relatively few function evaluations."
   ]
  },
  {
   "cell_type": "markdown",
   "id": "849666dd",
   "metadata": {},
   "source": [
    "**Caution:** Richardson extrapolation (and Romberg integration schemes) rely on our integrand being smooth.  If it is poorly behaved, then they don't necessarily help. "
   ]
  },
  {
   "cell_type": "markdown",
   "id": "21c366df",
   "metadata": {},
   "source": [
    "<div style=\"border: 2px solid white; border-radius: 10px; padding: 20px; background-color:white; color:black; height: 500px\" >\n",
    "</div>"
   ]
  },
  {
   "cell_type": "markdown",
   "id": "406439ee",
   "metadata": {},
   "source": [
    "### Euler-Maclaurin Summation formula"
   ]
  },
  {
   "cell_type": "markdown",
   "id": "bae31f31",
   "metadata": {},
   "source": [
    "A good framework for understanding these approximations in the **Euler-Maclaurin Summation Formula**.  Here is a somewhat formal derivation.  This is mostly for my own amusement -- and this *derivation* contains one or two cheats.\n",
    "\n",
    "We will first remind you about series expansions.  Analytic functions can be written in series, such as\n",
    "\\begin{align}\n",
    "e^x&=\\sum_j \\frac{x^j}{j!}\\\\\n",
    "\\frac{1}{1-x}&=\\sum_j x^j.\n",
    "\\end{align}\n",
    "Such a series is sometimes used to define a set of numbers.  We are going to need the Bernoulli numbers, which are defined by the series\n",
    "$$\n",
    "\\frac{x}{e^{x}-1}=\\sum_j \\frac{B_j}{j!} x^j.\n",
    "$$\n",
    "One can Brute-force expand the left hand side to get\n",
    "$B_0=1$, $B_1=-1/2$, $B_2=1/6$, $B_3=0$, $B_4=-1/30,\\cdots$  You can easily Google them.\n",
    "\n"
   ]
  },
  {
   "cell_type": "markdown",
   "id": "7063d540",
   "metadata": {},
   "source": [
    "With Bernoulli numbers in hand we will now think about operators that act on the space of functions.  They take in a function, and spit out a new function.  For example, lets intoduce $\\Delta$, which is defined by $(\\Delta f)(x)=f(x+1)-f(x)$.  In Julia we can create this operator with"
   ]
  },
  {
   "cell_type": "code",
   "execution_count": null,
   "id": "ebfa8d14",
   "metadata": {},
   "outputs": [],
   "source": [
    "Δ(f)=(x->f(x+1)-f(x))"
   ]
  },
  {
   "cell_type": "code",
   "execution_count": null,
   "id": "4e5b9517-7375-4c26-b747-99b03d452aab",
   "metadata": {},
   "outputs": [],
   "source": [
    "f1(x)=x^2\n",
    "f2=Δ(f1)\n",
    "@show f1(5)-f1(4)\n",
    "@show f2(4);"
   ]
  },
  {
   "cell_type": "markdown",
   "id": "6b430b06",
   "metadata": {},
   "source": [
    "or if that notation makes you queezy, you could also write"
   ]
  },
  {
   "cell_type": "code",
   "execution_count": null,
   "id": "44c7a0fb",
   "metadata": {},
   "outputs": [],
   "source": [
    "function Δ(f)\n",
    "    function g(x)\n",
    "        return f(x+1)-f(x)\n",
    "    end\n",
    "    return g\n",
    "end"
   ]
  },
  {
   "cell_type": "code",
   "execution_count": null,
   "id": "c67075ad",
   "metadata": {},
   "outputs": [],
   "source": [
    "f1(x)=x^2\n",
    "f2=Δ(f1)\n",
    "@show f1(5)-f1(4)\n",
    "@show f2(4);"
   ]
  },
  {
   "cell_type": "markdown",
   "id": "297fce6b",
   "metadata": {},
   "source": [
    "We will next introduce $\\Sigma$.  It again maps functions onto functions.  We will only need to define what it does to functions on integers.  It is defined for positive integers $x$ as\n",
    "$$\n",
    "(\\Sigma f)(x)=\\sum_{n=0}^{x-1} f(n)\n",
    "$$"
   ]
  },
  {
   "cell_type": "code",
   "execution_count": null,
   "id": "3fbb41ba-dbf8-42a2-8536-9b312aa200b3",
   "metadata": {},
   "outputs": [],
   "source": [
    "function Σ(f)\n",
    "    function g(x)\n",
    "        return sum(f(y) for y in 0:x-1)\n",
    "    end\n",
    "    return g\n",
    "end"
   ]
  },
  {
   "cell_type": "code",
   "execution_count": null,
   "id": "d55ba47a-7a12-41f4-b93b-5e35195e3fa9",
   "metadata": {},
   "outputs": [],
   "source": [
    "f3(n)=1\n",
    "f4=Σ(f3)\n",
    "f4(5)"
   ]
  },
  {
   "cell_type": "markdown",
   "id": "b5c38340",
   "metadata": {},
   "source": [
    "I claim that $\\Delta\\Sigma=I$, where $I$ is the identity matrix.  To prove this one writes\n",
    "\\begin{align}\n",
    "(\\Delta\\Sigma f)(x)&=(\\Sigma f)(x+1)-(\\Sigma f)(x)\\\\\n",
    "&=\\sum_{n=0}^x f(n) - \\sum_{n=0}^{x-1} f(x).\n",
    "\\end{align}\n",
    "All of the terms cancel except the last, which gives, $(\\Delta\\Sigma f)(x)=f(x)$, which shows that $\\Delta\\Sigma$ is the identity operator.  This makes sense, $\\Delta$ and $\\Sigma$ are inverses of each-other.\n",
    "\n",
    "In the other order, however, there is a small subtlety.  We find $(\\Sigma\\Delta f)(x)=f(x)-f(0)$, so the order matters -- unless we restrict ourself to the space of functions which vanish at the origin. You are familliar with this structure from calculus.  The integral and the derivative are inverse operations, but the integral has an arbitrary constant in it that you need to set.  Thus the derivative of the integral of a function is the identity, but the integral of the derivative is the identity plus a constant."
   ]
  },
  {
   "cell_type": "code",
   "execution_count": null,
   "id": "37ff1815-3f4f-48c7-abea-f3f46c484e78",
   "metadata": {},
   "outputs": [],
   "source": [
    "f(x)=x^2\n",
    "scatter(0:10,f,label=\"f\",xlabel=\"x\")\n",
    "scatter!(0:10,Δ(f),label=\"Δ(f)\")\n",
    "scatter!(1:10,Σ(f),label=\"Σ(f)\")"
   ]
  },
  {
   "cell_type": "code",
   "execution_count": null,
   "id": "23f3e6e9-e588-4ac9-968f-e57963c68544",
   "metadata": {},
   "outputs": [],
   "source": [
    "scatter(1:10,Σ(Δ(f)),label=\"Σ(Δ(f))\",xlabel=\"x\")\n",
    "plot!(f,0,10,label=\"f\")"
   ]
  },
  {
   "cell_type": "code",
   "execution_count": null,
   "id": "f4c53111-0c92-4455-b8f4-ac1b1e82149e",
   "metadata": {},
   "outputs": [],
   "source": [
    "scatter(1:10,Δ(Σ(f)),label=\"Δ(Σ(f))\")\n",
    "plot!(f,0,10,label=\"f\")"
   ]
  },
  {
   "cell_type": "markdown",
   "id": "c8c50df0",
   "metadata": {},
   "source": [
    "Next we introduce two more operators\n",
    "\\begin{align}\n",
    "(\\partial f)(x)&=f'(x)\\\\\n",
    "(\\smallint  f)(x)&=\\int_0^x f(y)dy.\n",
    "\\end{align}\n",
    "The fundamental theorem of calculus states that $\\partial\\smallint=  I.$  As with the $\\Sigma$ and $\\Delta$, if we reverse the order we get $(\\smallint\\partial f)(x)=f(x)-f(0)$."
   ]
  },
  {
   "cell_type": "markdown",
   "id": "1a965271-b716-4462-9aa2-13f0854b63cb",
   "metadata": {},
   "source": [
    "Later in the course we will develop the tools to make the functions (functionals?) $\\partial$ and $\\smallint$.  They are clearly well defined, even if they are harder to construct than $\\Sigma$ and $\\Delta$."
   ]
  },
  {
   "cell_type": "markdown",
   "id": "39683b96",
   "metadata": {},
   "source": [
    "We now turn to Taylor's theorem,\n",
    "\\begin{align}\n",
    "f(x+1)&=f(x)+\\sum_{n=1}^\\infty \\frac{(\\partial^n f)(x)}{n!}\\\\\n",
    "&= (e^\\partial f)(x).\n",
    "\\end{align}\n",
    "Thus Taylor's theorem can be written as $\\Delta=e^{\\partial}-1$"
   ]
  },
  {
   "cell_type": "markdown",
   "id": "ee1c679f",
   "metadata": {},
   "source": [
    "Putting this together with our previous result, $\\Delta\\Sigma=I$ yields\n",
    "\\begin{align}\n",
    "\\Sigma=\\frac{1}{e^\\partial-1}.\n",
    "\\end{align}\n",
    "We will now multiply the right hand side by $I=\\smallint \\partial $ to find\n",
    "\\begin{align}\n",
    "\\Sigma=\\smallint\\frac{\\partial}{e^\\partial-1} .\n",
    "\\end{align}\n",
    "Finally we expand the right hand side in a Taylor series:\n",
    "\\begin{align}\n",
    "(\\Sigma f)(x)&=\\left(\\smallint\\sum_{j=0}^\\infty \\frac{B_j}{j!} \\partial^j f\\right)(x)\\\\\n",
    "&=(\\smallint f)(x) + \\sum_{j=1}^\\infty  \\frac{B_j}{j!} \\left[(\\partial^{j-1} f)(x)-\n",
    "(\\partial^{j-1} f)(0)\n",
    "\\right]\n",
    "\\end{align}\n",
    "which can be reorganized into the Euler-Maclauren summation formula\n",
    "\\begin{align}\n",
    "\\int_0^x f(y) dy &= \\sum_{y=0}^{x-1} f(y) - \\sum_{j=1}^\\infty \\frac{B_j}{j!} \\left[(\\partial^{j-1} f)(x)-\n",
    "(\\partial^{j-1} f)(0)\n",
    "\\right]\\\\\n",
    "&= \\sum_{y=0}^{x-1} f(y) + \\frac{1}{2}[f(x)-f(0)] + \\frac{B_2}{2} [f'(x)-f'(0)]+\\cdots\n",
    "\\end{align}\n",
    "The first two terms give you the trapezoid rule.  Subsequent terms give you corrections in terms of derivatives of the function at the bounds.\n",
    "\n",
    "This may seem strange that knowledge about the behaviour of the function at the boundaries so strongly constrain the integral.  This is a peculiarity of analytic functions."
   ]
  },
  {
   "cell_type": "markdown",
   "id": "2e5df2b4-e9a9-4b2b-9809-05a1aef89a3b",
   "metadata": {},
   "source": [
    "Finally we rescale the axis, taking the bounds of the integral to go from $a$ to $b$.  Thus we define $s=a+b y/n$, and $g(s)=f(n(s-a)/b)$.  Straightforward arithmetic then gives  "
   ]
  },
  {
   "cell_type": "markdown",
   "id": "8c17a6dc-6fb3-42f2-aefe-25e518e3f844",
   "metadata": {},
   "source": [
    "\\begin{align}\n",
    "\\int_a^b g(s) ds &= \\frac{1}{n}\\sum_{m=0}^{n-1} g(s_m) - \\sum_{j=1}^\\infty \\frac{B_j}{j!}\\frac{1}{n^j} \\left[(\\partial^{j-1} g)(b)-\n",
    "(\\partial^{j-1} g)(a)\n",
    "\\right]\\\\\n",
    "&= \\frac{1}{n}\\sum_{m=0}^{x-1} g(s_m) + \\frac{1}{2n}[g(b)-g(a)] + \\frac{B_2}{2n^2} [g'(b)-g'(a)]+O(n^{-3})\n",
    "\\end{align}"
   ]
  },
  {
   "cell_type": "markdown",
   "id": "9eca779d",
   "metadata": {},
   "source": [
    "<div style=\"border: 2px solid white; border-radius: 10px; padding: 20px; background-color:white; color:black; height: 500px\" >\n",
    "</div>"
   ]
  },
  {
   "cell_type": "markdown",
   "id": "78cebcc9",
   "metadata": {},
   "source": [
    "## Improving our trapezoid rule integrator"
   ]
  },
  {
   "cell_type": "markdown",
   "id": "aac4edb2-cb12-4538-ac9f-6c6ec9f2c01e",
   "metadata": {},
   "source": [
    "As a reminder, here is our naive implementation of the trapezoid rule"
   ]
  },
  {
   "cell_type": "code",
   "execution_count": null,
   "id": "d475d304",
   "metadata": {},
   "outputs": [],
   "source": [
    "function naive_trap(f,range,n)\n",
    "    result=0.\n",
    "    xmin=range[1]\n",
    "    xmax=range[2]\n",
    "    dx=(xmax-xmin)/n\n",
    "    for j in 1:n\n",
    "        x1=xmin+(j-1)*dx\n",
    "        x2=x1+dx\n",
    "        result+= (f(x2)+f(x1))*dx/2\n",
    "    end\n",
    "    return result\n",
    "end"
   ]
  },
  {
   "cell_type": "markdown",
   "id": "c171aa74",
   "metadata": {},
   "source": [
    "**Algorithmic Inefficiencies:** \n",
    "\n",
    "* The function `f` is evaluated twice at every location. \n",
    "* We have `2n` muliplications by `dx`.  \n",
    "* We don't use Richardson   \n",
    "\n",
    "**Inconveniences:** \n",
    "\n",
    "* We need to specify `n`, the number of trapezoids, \n",
    "* We don't know how accurate our result is"
   ]
  },
  {
   "cell_type": "markdown",
   "id": "14cb0e06-69f5-4327-a560-7f7766e656f0",
   "metadata": {},
   "source": [
    "Note, as discussed at the end of this notebook, there are other more subtle inefficiencies due to actual implementation by the compiler. "
   ]
  },
  {
   "cell_type": "markdown",
   "id": "c889714a",
   "metadata": {},
   "source": [
    "### Fixing the most obvious inefficiency"
   ]
  },
  {
   "cell_type": "markdown",
   "id": "771d0e20",
   "metadata": {},
   "source": [
    "The factor of 2 is easy to fix.  Instead of looping over the trapezoids we loop over the points."
   ]
  },
  {
   "cell_type": "code",
   "execution_count": null,
   "id": "c3969732",
   "metadata": {},
   "outputs": [],
   "source": [
    "\"\"\"\n",
    "    trap(f,range,n)\n",
    "\n",
    "is an implementation of the trapezoid rule for calculating\n",
    "`∫f(x)dx`, with `x` running between `a` and `b` where `range=(a,b)`.\n",
    "The integral region is divided into `n` trapezoids.\n",
    "\"\"\"\n",
    "function trap(f,range,n)\n",
    "    xmin=range[1]\n",
    "    xmax=range[2]\n",
    "    dx=(xmax-xmin)/n \n",
    "    result=(f(xmin)+f(xmax))/2\n",
    "    for j in 1:n-1\n",
    "        result+= f(j*dx)\n",
    "    end\n",
    "    return result*dx\n",
    "end"
   ]
  },
  {
   "cell_type": "markdown",
   "id": "e27c2836",
   "metadata": {},
   "source": [
    "To see a speed difference, however, one needs to go to a more complicated integrand and a very large number of trapezoids.  "
   ]
  },
  {
   "cell_type": "code",
   "execution_count": null,
   "id": "dcb1110e",
   "metadata": {},
   "outputs": [],
   "source": [
    "@time naive_trap(x->sin(log(cos(x)^2+1)),\n",
    "    (0.,pi),2^22)"
   ]
  },
  {
   "cell_type": "code",
   "execution_count": null,
   "id": "a8fccbde",
   "metadata": {},
   "outputs": [],
   "source": [
    "@time trap(x->sin(log(cos(x)^2+1)),(0.,pi),2^22)"
   ]
  },
  {
   "cell_type": "markdown",
   "id": "45e9827c",
   "metadata": {},
   "source": [
    "For smaller number of trapezoids, or simpler integrands, the time is dominated by the compiling, and this factor of 2 is irrelevant.  Note, for this example we used 4 million points -- which was certainly overkill"
   ]
  },
  {
   "cell_type": "code",
   "execution_count": null,
   "id": "947acbdc-621f-4b49-a579-b829a3bb41c4",
   "metadata": {},
   "outputs": [],
   "source": [
    "2^22"
   ]
  },
  {
   "cell_type": "code",
   "execution_count": null,
   "id": "4e2ff5f8",
   "metadata": {},
   "outputs": [],
   "source": [
    "@time naive_trap(x->x^3,(0.,1.),1000)"
   ]
  },
  {
   "cell_type": "code",
   "execution_count": null,
   "id": "cdf97179",
   "metadata": {},
   "outputs": [],
   "source": [
    "@time trap(x->x^3,(0.,1.),1000)"
   ]
  },
  {
   "cell_type": "markdown",
   "id": "ca798120-e6e9-43b0-9117-006485d815ef",
   "metadata": {},
   "source": [
    "Note, we can pre-compile by defining our function differently"
   ]
  },
  {
   "cell_type": "code",
   "execution_count": null,
   "id": "54810bff-696b-4587-8cda-209d45948f74",
   "metadata": {},
   "outputs": [],
   "source": [
    "h(x)=sin(log(cos(x)^2+1))\n",
    "@time trap(h,(0.,1.),1000)\n",
    "@time naive_trap(h,(0.,1.),1000)"
   ]
  },
  {
   "cell_type": "markdown",
   "id": "0554bac5-bb93-419c-9f4d-e9194e5df267",
   "metadata": {},
   "source": [
    "This is a good lesson: do not sweat the small stuff!"
   ]
  },
  {
   "cell_type": "markdown",
   "id": "a72c86cb",
   "metadata": {},
   "source": [
    "### Dynamic step size"
   ]
  },
  {
   "cell_type": "markdown",
   "id": "0bf7f754",
   "metadata": {},
   "source": [
    "Lets implement a strategy from *Numerical Recipies* which does the Trapezoid rule with dynamic step sizes"
   ]
  },
  {
   "cell_type": "markdown",
   "id": "a1dbb849",
   "metadata": {},
   "source": [
    "One reason I want to go through it, is that it introduces some useful computer science -- namely using *objects*.  *Objects* are the nouns of programs -- just as *functions* are the verbs.  There are less sophisticated ways to implement this approach, but I hope to start introducing some machinery that will be useful."
   ]
  },
  {
   "cell_type": "markdown",
   "id": "79a0a788",
   "metadata": {},
   "source": [
    "The trapezoid rule subdivides the integral into $n=2^m$ trapezoids.  We are going to sequentially increase $m$ until we achieve our desired accuracy.  In order to do this we define an object `trap_data` which stores information about the integral that you are using, and an interim result."
   ]
  },
  {
   "cell_type": "code",
   "execution_count": null,
   "id": "348c2ec1",
   "metadata": {},
   "outputs": [],
   "source": [
    "\"\"\"\n",
    "    trap_data(f,range)\n",
    "\n",
    "stores the intermediate information for our trapezoid rule. \n",
    "\n",
    "Fields:\n",
    "    f       # store the function we are integrating\n",
    "    range   # store the range (a,b)\n",
    "    val     # trapezoid rule integral at current depth, m\n",
    "    m       # depth -- number of trapezoids = 2ᵐ\n",
    "\n",
    "To increase the depth use command `subdivide!` or `subdivide`.\n",
    "\n",
    "\"\"\"\n",
    "mutable struct trap_data\n",
    "    f       # store the function we are integrating\n",
    "    range   # store the range (a,b)\n",
    "    val     # trapezoid rule integral at current depth, m\n",
    "    m       # depth -- number of trapezoids = 2ᵐ\n",
    "    function trap_data(f,range)\n",
    "        new(f,range,(f(range[1])+f(range[2]))*(range[2]-range[1])/2,0)\n",
    "    end\n",
    "end\n",
    "\n",
    "\"\"\"\n",
    "    subdivide!(data ::trap_data)\n",
    "takes a `trapdata` object, and doubles the number of gridpoints in the integral.\n",
    "\"\"\"\n",
    "function subdivide!(data ::trap_data)\n",
    "    # Extract needed info from `data`\n",
    "    f=data.f\n",
    "    m=data.m+1\n",
    "    result=zero(data.val)\n",
    "    (a,b)=data.range\n",
    "    # Width of new rectangles\n",
    "    dx=(b-a)/2^m\n",
    "    for x in dx:dx*2:dx*(2^m-1)\n",
    "        result+=f(a+x)*dx\n",
    "    end\n",
    "    result=result+data.val/2\n",
    "    # Update data\n",
    "    data.m=m\n",
    "    data.val=result\n",
    "end"
   ]
  },
  {
   "cell_type": "code",
   "execution_count": null,
   "id": "3667d233-5a6a-4c89-8e25-6f455e0b2e37",
   "metadata": {},
   "outputs": [],
   "source": [
    "for x in 1:0.5:25\n",
    "    println(x)\n",
    "end"
   ]
  },
  {
   "cell_type": "markdown",
   "id": "883ec071",
   "metadata": {},
   "source": [
    "We will learn more about this syntax as the course progresses.  Nevertheless, to see how this work, we create one of our data objects"
   ]
  },
  {
   "cell_type": "code",
   "execution_count": null,
   "id": "5b1025c0",
   "metadata": {},
   "outputs": [],
   "source": [
    "td1=trap_data(x->x^3,(1,3))"
   ]
  },
  {
   "cell_type": "markdown",
   "id": "ee5ee8c8",
   "metadata": {},
   "source": [
    "We can extract the stored information with a dot"
   ]
  },
  {
   "cell_type": "code",
   "execution_count": null,
   "id": "d0717e28",
   "metadata": {},
   "outputs": [],
   "source": [
    "td1.range"
   ]
  },
  {
   "cell_type": "code",
   "execution_count": null,
   "id": "a7f5dad4",
   "metadata": {},
   "outputs": [],
   "source": [
    "td1.f(4)"
   ]
  },
  {
   "cell_type": "code",
   "execution_count": null,
   "id": "aef90a19-86a9-4614-a64b-6d8b64288030",
   "metadata": {},
   "outputs": [],
   "source": [
    "g=td1.f"
   ]
  },
  {
   "cell_type": "code",
   "execution_count": null,
   "id": "09c2e45b-cce2-4f87-bc09-54885db8b2ed",
   "metadata": {},
   "outputs": [],
   "source": [
    "g(7)"
   ]
  },
  {
   "cell_type": "code",
   "execution_count": null,
   "id": "0f6c3d3a-e911-4aa4-9406-b68772516d57",
   "metadata": {},
   "outputs": [],
   "source": [
    "r=td1.range"
   ]
  },
  {
   "cell_type": "code",
   "execution_count": null,
   "id": "ea80d967",
   "metadata": {},
   "outputs": [],
   "source": [
    "td1.val"
   ]
  },
  {
   "cell_type": "code",
   "execution_count": null,
   "id": "20af9f37",
   "metadata": {},
   "outputs": [],
   "source": [
    "td1.m"
   ]
  },
  {
   "cell_type": "code",
   "execution_count": null,
   "id": "d76832ce",
   "metadata": {},
   "outputs": [],
   "source": [
    "naive_trap(td1.f,td1.range,2^td1.m)"
   ]
  },
  {
   "cell_type": "markdown",
   "id": "94035419",
   "metadata": {},
   "source": [
    "We can then use the `subdivide!` function to break the integral into more pieces"
   ]
  },
  {
   "cell_type": "code",
   "execution_count": null,
   "id": "d2a913d6",
   "metadata": {},
   "outputs": [],
   "source": [
    "subdivide!(td1)"
   ]
  },
  {
   "cell_type": "code",
   "execution_count": null,
   "id": "5d71a807-20b1-47d8-91c7-0a94d00df6e4",
   "metadata": {},
   "outputs": [],
   "source": [
    "td1.m"
   ]
  },
  {
   "cell_type": "code",
   "execution_count": null,
   "id": "ce56cdf1",
   "metadata": {},
   "outputs": [],
   "source": [
    "(td1.m,td1.val,naive_trap(x->x^3,(1,3),2^td1.m))"
   ]
  },
  {
   "cell_type": "code",
   "execution_count": null,
   "id": "b0b6f9f2",
   "metadata": {},
   "outputs": [],
   "source": [
    "subdivide!(td1)"
   ]
  },
  {
   "cell_type": "code",
   "execution_count": null,
   "id": "aaa93d82",
   "metadata": {},
   "outputs": [],
   "source": [
    "(td1.m,td1.val,naive_trap(x->x^3,(1,3),2^td1.m))"
   ]
  },
  {
   "cell_type": "markdown",
   "id": "70c21432",
   "metadata": {},
   "source": [
    "Every time we call subdivide we increase the number of trapezoids.  However, we just evaluate `f` at the new points."
   ]
  },
  {
   "cell_type": "markdown",
   "id": "1e17989b",
   "metadata": {},
   "source": [
    "We now just need to wrap this in a function which calls subdivide until we hit some convergence criterion.  We will use that the fractional change in the integral falls below some threshold -- that we will call `eps`."
   ]
  },
  {
   "cell_type": "code",
   "execution_count": null,
   "id": "37856948",
   "metadata": {},
   "outputs": [],
   "source": [
    "\"\"\"\n",
    "`nrtrap(f,range;namedargs...)`\n",
    "\n",
    "Uses the trapezoid rule algorithm from Numerical Recipies to calculate ``\\\\int_a^b f(x) dx``\n",
    "where `range=(a,b)`.\n",
    "\n",
    "`namedargs`\n",
    "- `eps=1E-10`: algorithm terminates when relative change in integral falls below `eps`\n",
    "- `max_divisions=20`: make no more than `max_divisions` subdivisions\n",
    "- `debug=false`: set to `true` to see debug informations\n",
    "\n",
    "\"\"\"\n",
    "function nrtrap(f,range;eps=1E-10,max_divisions=20,debug=false)\n",
    "    data=trap_data(f,range)\n",
    "    oldval=0.\n",
    "    val=0.\n",
    "    for j in 1:max_divisions\n",
    "        oldval=data.val\n",
    "        subdivide!(data)\n",
    "        val=data.val\n",
    "        if abs(val-oldval)<eps*abs(oldval) || (val==0 && oldval==0)\n",
    "            if debug\n",
    "                print(\"converged after \"*string(j)*\" iterations\")\n",
    "            end\n",
    "            return val\n",
    "        end\n",
    "    end\n",
    "    error(\"Did not converge to precision $eps \",\n",
    "          \"after $max_divisions subdivisions.\\n\",\n",
    "          \"Previous 2 results: ($oldval,$val)\\n\\n\",\n",
    "        \"Try increasing number of divisions or applying a tranformation to integrand.\")\n",
    "end"
   ]
  },
  {
   "cell_type": "markdown",
   "id": "b55e191d-caf9-4df8-8430-26ecb4ecedca",
   "metadata": {},
   "source": [
    "**Question?**  Why does it make sense to use that stopping criterion?\n",
    "\n",
    "    abs(val-oldval)<eps*abs(oldval)\n",
    "\n",
    "When might it make less sense?"
   ]
  },
  {
   "cell_type": "code",
   "execution_count": null,
   "id": "da046b3e-9789-4b44-9b41-c25f38e11635",
   "metadata": {},
   "outputs": [],
   "source": [
    "\"a\"*\"b\""
   ]
  },
  {
   "cell_type": "code",
   "execution_count": null,
   "id": "9f372114",
   "metadata": {},
   "outputs": [],
   "source": [
    "nrtrap(x->x^3,(0,1),debug=true)"
   ]
  },
  {
   "cell_type": "code",
   "execution_count": null,
   "id": "66177233",
   "metadata": {},
   "outputs": [],
   "source": [
    "nrtrap(x->x^4,(0,1),debug=true,max_divisions=4,eps=1e-12)"
   ]
  },
  {
   "cell_type": "markdown",
   "id": "1785eb14",
   "metadata": {},
   "source": [
    "It is a simple change to upgrade this to Simpson's rule"
   ]
  },
  {
   "cell_type": "code",
   "execution_count": null,
   "id": "aa642b3a",
   "metadata": {},
   "outputs": [],
   "source": [
    "\"\"\"\n",
    "`nrsimp(f,range;namedargs...)`\n",
    "\n",
    "Uses the Simpson's rule algorithm from Numerical Recipies to calculate ``\\\\int_a^b f(x) dx``\n",
    "where `range=(a,b)`.\n",
    "\n",
    "`namedargs`\n",
    "- `eps=1E-10`: algorithm terminates when relative change in integral falls below `eps`\n",
    "- `max_divisions=20`: make no more than `max_divisions` subdivisions\n",
    "- `debug=false`: set to `true` to see debug informations\n",
    "\n",
    "\"\"\"\n",
    "function nrsimp(f,range;eps=1E-10,max_divisions=20,debug=false)\n",
    "    data=trap_data(f,range)\n",
    "    oldtrapval=data.val\n",
    "    subdivide!(data)\n",
    "    trapval=data.val\n",
    "    sval=(4*trapval-oldtrapval)/3\n",
    "    oldsval=sval\n",
    "    for j in 2:max_divisions\n",
    "        oldtrapval=trapval\n",
    "        oldsval=sval\n",
    "        subdivide!(data)\n",
    "        trapval=data.val\n",
    "        sval=(4*trapval-oldtrapval)/3\n",
    "        if abs(sval-oldsval)<eps*abs(oldsval) || (sval==0 && oldsval==0)\n",
    "            if debug\n",
    "                print(\"converged after \"*string(j)*\" iterations\")\n",
    "            end\n",
    "            return sval\n",
    "        end\n",
    "    end\n",
    "    error(\"Did not converge to precision $eps \",\n",
    "          \"after $max_divisions subdivisions.\\n\",\n",
    "          \"Previous 2 results: ($oldsval,$sval)\\n\\n\",\n",
    "        \"Try increasing number of divisions or applying a tranformation to integrand.\")\n",
    "end"
   ]
  },
  {
   "cell_type": "code",
   "execution_count": null,
   "id": "b4dc9bf8",
   "metadata": {},
   "outputs": [],
   "source": [
    "nrsimp(x->x^4*log(x+sqrt(1+x^2)),(0,2),debug=true)"
   ]
  },
  {
   "cell_type": "code",
   "execution_count": null,
   "id": "2f24732b",
   "metadata": {},
   "outputs": [],
   "source": [
    "nrtrap(x->x^4*log(x+sqrt(1+x^2)),(0,2),debug=true)"
   ]
  },
  {
   "cell_type": "code",
   "execution_count": null,
   "id": "24aab49f-ecca-4367-bdfe-1d1c330ef1b5",
   "metadata": {},
   "outputs": [],
   "source": [
    "2^10"
   ]
  },
  {
   "cell_type": "code",
   "execution_count": null,
   "id": "9b093055-f0c6-491b-8b6d-6190075c2df1",
   "metadata": {},
   "outputs": [],
   "source": [
    "2^18"
   ]
  },
  {
   "cell_type": "markdown",
   "id": "c93aad67",
   "metadata": {},
   "source": [
    "<div style=\"border: 2px solid white; border-radius: 10px; padding: 20px; background-color:white; color:black; height: 500px\" >\n",
    "</div>"
   ]
  },
  {
   "cell_type": "markdown",
   "id": "7fb9e190",
   "metadata": {},
   "source": [
    "## Optimization"
   ]
  },
  {
   "cell_type": "markdown",
   "id": "307457fa",
   "metadata": {},
   "source": [
    "I probably won't get to this in class -- but you may find it useful to read."
   ]
  },
  {
   "cell_type": "markdown",
   "id": "37ad2885",
   "metadata": {},
   "source": [
    "**Note:  In general optimization is the last thing your should worry about.**\n",
    "\n",
    "First, in a complex program there is usually one or two rate limiting steps.  It is hard to predict what these will be *a-priori*.  Optimization of any part of the code, except those rate limiting steps, is wasted.\n",
    "\n",
    "Second, optimization is complicated.  It depends on not only the programming language, but the implementation of the language, the compiler, the compiler directives...  It is often a trial and error process -- and sometime you discover that your new approach is slower than the old.  In general clean simple code will be fast."
   ]
  },
  {
   "cell_type": "markdown",
   "id": "686126ae",
   "metadata": {},
   "source": [
    "Regardless, lets now see how we are doing with speed"
   ]
  },
  {
   "cell_type": "code",
   "execution_count": null,
   "id": "e7ba53ab",
   "metadata": {},
   "outputs": [],
   "source": [
    "@time nrtrap(x->x^3,(0,1),debug=true)"
   ]
  },
  {
   "cell_type": "code",
   "execution_count": null,
   "id": "1704c1f2",
   "metadata": {},
   "outputs": [],
   "source": [
    "@time naive_trap(x->x^3,(0,1),2^18)"
   ]
  },
  {
   "cell_type": "markdown",
   "id": "3530ead8",
   "metadata": {},
   "source": [
    "Oh no! Our fancy version is about 8 times slower than our naive version.  Things are even worse if I use a pre-compiled function  "
   ]
  },
  {
   "cell_type": "code",
   "execution_count": null,
   "id": "1e3a28d5-4fcf-4c31-b2e2-aef66f79acaa",
   "metadata": {},
   "outputs": [],
   "source": [
    "h(x)=x^3"
   ]
  },
  {
   "cell_type": "code",
   "execution_count": null,
   "id": "18a77499-b06f-4875-885f-d10b15cbbafb",
   "metadata": {},
   "outputs": [],
   "source": [
    "@time nrtrap(h,(0,1),debug=true)"
   ]
  },
  {
   "cell_type": "code",
   "execution_count": null,
   "id": "206a84d9-905c-440e-932d-2025d7aaa84c",
   "metadata": {},
   "outputs": [],
   "source": [
    "@time naive_trap(h,(0,1),2^18)"
   ]
  },
  {
   "cell_type": "markdown",
   "id": "8b81f7e9",
   "metadata": {},
   "source": [
    "Fixing this is non-trivial, as the speed of these routines depends on low level internals.  If you look at the `@time` statement for our `naive-trap` function, you see that the bulk of the time there is taken in compilation (when we feed in a pure function which is therefore not precompiled)."
   ]
  },
  {
   "cell_type": "markdown",
   "id": "44da04c4-b663-44fc-95a2-8474fc47ed9e",
   "metadata": {},
   "source": [
    "There is a more reliable -- but slower -- timing tool which will run the program multiple times, and subtract off the compilation time."
   ]
  },
  {
   "cell_type": "code",
   "execution_count": null,
   "id": "bf1bff2f-70b3-4535-9e60-03abc772f2ab",
   "metadata": {},
   "outputs": [],
   "source": [
    "using BenchmarkTools"
   ]
  },
  {
   "cell_type": "code",
   "execution_count": null,
   "id": "0a473aae-d7fe-498c-8941-820a126a4667",
   "metadata": {},
   "outputs": [],
   "source": [
    "@btime naive_trap(x->x^3,(0,1),2^18)"
   ]
  },
  {
   "cell_type": "code",
   "execution_count": null,
   "id": "8e286140-4872-4f10-82ac-b7abad047cd1",
   "metadata": {},
   "outputs": [],
   "source": [
    "@btime naive_trap(h,(0,1),2^18)"
   ]
  },
  {
   "cell_type": "code",
   "execution_count": null,
   "id": "dc84a06c-fdba-4b7f-96f8-35ddd6b0bb21",
   "metadata": {},
   "outputs": [],
   "source": [
    "@btime nrtrap(x->x^3,(0,1))"
   ]
  },
  {
   "cell_type": "code",
   "execution_count": null,
   "id": "042fa63d-6b95-49bd-97c1-f3f225dede6a",
   "metadata": {},
   "outputs": [],
   "source": [
    "@btime nrtrap(h,(0,1))"
   ]
  },
  {
   "cell_type": "markdown",
   "id": "102e6fd2",
   "metadata": {},
   "source": [
    "One clue to the problem is that in `nrtrap` we are seeing a large number of `Heap allocations`.  This has to do with the way the fact that we are passing around a function object inside a struct, and the just-in-time compiler does not know what data type the function returns.  Thus it has to allocate memory in a generic way."
   ]
  },
  {
   "cell_type": "markdown",
   "id": "4c302317",
   "metadata": {},
   "source": [
    "We can fix some of this by compartmentalizing the function calls in our `subdivide!` method -- making what is known as a \"function barrier.\"  This is an optimization trick which is unique to Julia."
   ]
  },
  {
   "cell_type": "code",
   "execution_count": null,
   "id": "bbed276c",
   "metadata": {},
   "outputs": [],
   "source": [
    "\"\"\"\n",
    "    alt3_trap_data(f,range)\n",
    "\n",
    "stores the intermediate information for our trapezoid rule. \n",
    "\n",
    "Fields:\n",
    "    f       # store the function we are integrating\n",
    "    range   # store the range (a,b)\n",
    "    val     # trapezoid rule integral at current depth, m\n",
    "    m       # depth -- number of trapezoids = 2ᵐ\n",
    "\n",
    "To increase the depth use command `subdivide!` or `subdivide`.\n",
    "\n",
    "\"\"\"\n",
    "mutable struct alt3_trap_data\n",
    "    f       # store the function we are integrating\n",
    "    range   # store the range (a,b)\n",
    "    val     # trapezoid rule integral at current depth, m\n",
    "    m       # depth -- number of trapezoids = 2ᵐ\n",
    "    function alt3_trap_data(f,range)\n",
    "        new(f,range,(f(range[1])+f(range[2]))*(range[2]-range[1])/2,0)\n",
    "    end\n",
    "end\n",
    "\n",
    "function subdivide!(data ::alt3_trap_data)\n",
    "    # Extract needed info from `data`\n",
    "    f=data.f\n",
    "    m=data.m+1\n",
    "    range=data.range\n",
    "    nextresult=sum_even_points(f,range,2^m) # compiler will generate code for this function which is specialized to the arguments\n",
    "    result=nextresult+data.val/2\n",
    "    # Update data\n",
    "    data.m=m\n",
    "    data.val=result\n",
    "end\n",
    "\n",
    "function sum_even_points(f,range,n)\n",
    "    (a,b)=range\n",
    "    dx=(b-a)/n\n",
    "    result=f(a+dx)*dx\n",
    "    for j in 3:2:n-1\n",
    "        result+=f(a+j*dx)*dx\n",
    "    end\n",
    "    return result\n",
    "end\n",
    "\n",
    "\"\"\"\n",
    "`alt3_nrtrap(f,range;namedargs...)`\n",
    "\n",
    "Uses the trapezoid rule algorithm from Numerical Recipies to calculate ``\\\\int_a^b f(x) dx``\n",
    "where `range=(a,b)`.\n",
    "\n",
    "`namedargs`\n",
    "- `eps=1E-10`: algorithm terminates when relative change in integral falls below `eps`\n",
    "- `max_divisions=20`: make no more than `max_divisions` subdivisions\n",
    "- `debug=false`: set to `true` to see debug informations\n",
    "\n",
    "\"\"\"\n",
    "function alt3_nrtrap(f,range;eps=1E-10,max_divisions=20,debug=false)\n",
    "    data=alt3_trap_data(f,range)\n",
    "    oldval=0.\n",
    "    val=0.\n",
    "    for j in 1:max_divisions\n",
    "        oldval=data.val\n",
    "        subdivide!(data)\n",
    "        val=data.val\n",
    "        if abs(val-oldval)<eps*abs(oldval) || (val==0 && oldval==0)\n",
    "            if debug\n",
    "                print(\"converged after \"*string(j)*\" iterations\")\n",
    "            end\n",
    "            return val\n",
    "        end\n",
    "    end\n",
    "    error(\"Did not converge to precision \"*string(eps)*\n",
    "          \"after \"*string(max_divisions)*\" subdivisions.\"*\n",
    "          \"previous 2 results: (\"*string(oldval)*\n",
    "          \",\"*string(val)*\")\")\n",
    "end"
   ]
  },
  {
   "cell_type": "code",
   "execution_count": null,
   "id": "1d75712d",
   "metadata": {},
   "outputs": [],
   "source": [
    "@time nrtrap(x->x^3,(0.,1.),debug=true)"
   ]
  },
  {
   "cell_type": "code",
   "execution_count": null,
   "id": "a47d1771",
   "metadata": {},
   "outputs": [],
   "source": [
    "@time alt3_nrtrap(x->x^3,(0.,1.),debug=true)"
   ]
  },
  {
   "cell_type": "markdown",
   "id": "1300dd46",
   "metadata": {},
   "source": [
    "Apparently we got somewhere between a factor of 5-10 speedup"
   ]
  },
  {
   "cell_type": "markdown",
   "id": "060b465e",
   "metadata": {},
   "source": [
    "We can do even better if we precompile (or use `@btime` to get rid of the compilation timing) "
   ]
  },
  {
   "cell_type": "code",
   "execution_count": null,
   "id": "e4f922a5",
   "metadata": {},
   "outputs": [],
   "source": [
    "@time nrtrap(h,(0.,1.),debug=true)"
   ]
  },
  {
   "cell_type": "code",
   "execution_count": null,
   "id": "f845659d-0e37-48ad-a0b6-52daf4fb20d7",
   "metadata": {},
   "outputs": [],
   "source": [
    "@time alt3_nrtrap(h,(0.,1.),debug=true)"
   ]
  },
  {
   "cell_type": "markdown",
   "id": "36a76f0a",
   "metadata": {},
   "source": [
    "This gave us another 2 orders of magnitude in speed!!  Note the drastic reduction in heap allocations.  We are now competitive with the simplest implementation."
   ]
  },
  {
   "cell_type": "code",
   "execution_count": null,
   "id": "1065ca63-2138-4c2e-b7cf-f072c5ca8395",
   "metadata": {},
   "outputs": [],
   "source": [
    "@time trap(h,(0,1),2^18)"
   ]
  },
  {
   "cell_type": "markdown",
   "id": "8e2fc7fd",
   "metadata": {},
   "source": [
    "**Optimization is hard!**"
   ]
  },
  {
   "cell_type": "markdown",
   "id": "0202db8d-8aa6-4734-9790-c9c2c0814330",
   "metadata": {},
   "source": [
    "The real magic here is that Julia is able to figure out the return type of the function and uses that information to optimize things."
   ]
  },
  {
   "cell_type": "code",
   "execution_count": null,
   "id": "64ab4c52-36f0-4e9d-bafe-bce3d69621ef",
   "metadata": {},
   "outputs": [],
   "source": [
    "Base.return_types(h,(Float64,))"
   ]
  },
  {
   "cell_type": "code",
   "execution_count": null,
   "id": "26b58428-1092-4206-94ad-59cb77aae178",
   "metadata": {},
   "outputs": [],
   "source": [
    "Base.return_types(x->x^3,(Float64,))"
   ]
  },
  {
   "cell_type": "markdown",
   "id": "0b5f526e-09e8-4a34-bd23-7ae3db429267",
   "metadata": {},
   "source": [
    "The process of type-hinting occurs when the function is an argument of another function.  If we bury the function inside a `struct`, the compiler never does the type-hinting.  Later in the course we will learn about how to create `struct` objects which know about the types of their contents, and don't have this performance hit.  The `function barrier` approach though is always good to have in your pocket."
   ]
  },
  {
   "cell_type": "markdown",
   "id": "4e211aaa-5e23-4662-9663-6264954a08ac",
   "metadata": {},
   "source": [
    "The other strategy which would work here is to not store `f` in our `struct`, but instead pass around 2 arguments: `f` and the data.  We also need to give concrete types to `range`, `val`, and `m`:"
   ]
  },
  {
   "cell_type": "code",
   "execution_count": null,
   "id": "5d960091-3034-4b02-a226-30aa929d5c4c",
   "metadata": {},
   "outputs": [],
   "source": [
    "\"\"\"\n",
    "    alt2_trap_data{R,D}(f,range)\n",
    "\n",
    "stores the intermediate information for our trapezoid rule. \n",
    "\n",
    "Fields:\n",
    "    range   # store the range (a,b)\n",
    "    val     # trapezoid rule integral at current depth, m\n",
    "    m       # depth -- number of trapezoids = 2ᵐ\n",
    "\n",
    "To increase the depth use command `subdivide!` or `subdivide`.\n",
    "\n",
    "\"\"\"\n",
    "mutable struct alt2_trap_data{D,R}   # Parameterized type:  D=domain, R=range\n",
    "    range  ::Tuple{D,D}              # store the range (a,b)\n",
    "    val    ::R                       # trapezoid rule integral at current depth, m\n",
    "    m      ::Int64                   # depth -- number of trapezoids = 2ᵐ\n",
    "    function alt2_trap_data(f,range)\n",
    "        r1,r2=range\n",
    "        f1=f(r1)\n",
    "        f2=f(r2)\n",
    "        trap=(f1+f2)*(r1+r2)/2\n",
    "        new{typeof((r2-r1)/2),typeof(trap)}(range,trap,0)\n",
    "    end\n",
    "end\n",
    "\n",
    "\"\"\"\n",
    "    subdivide!(f,data ::alt_trap_data)\n",
    "takes a `trapdata` object, and doubles the number of gridpoints in the integral.\n",
    "\"\"\"\n",
    "function subdivide!(f,data ::alt2_trap_data)\n",
    "    # Extract needed info from `data`\n",
    "    m=data.m+1\n",
    "    result=data.val/2\n",
    "    (a,b)=data.range\n",
    "    # Width of new rectangles\n",
    "    dx=(b-a)/2^m\n",
    "    for x in dx:dx*2:dx*(2^m-1)\n",
    "        result+=f(a+x)*dx\n",
    "    end\n",
    "    # Update data\n",
    "    data.m=m\n",
    "    data.val=result\n",
    "end\n",
    "\n",
    "\"\"\"\n",
    "`alt_nrtrap(f,range;namedargs...)`\n",
    "\n",
    "Uses the trapezoid rule algorithm from Numerical Recipies to calculate ``\\\\int_a^b f(x) dx``\n",
    "where `range=(a,b)`.\n",
    "\n",
    "`namedargs`\n",
    "- `eps=1E-10`: algorithm terminates when relative change in integral falls below `eps`\n",
    "- `max_divisions=20`: make no more than `max_divisions` subdivisions\n",
    "- `debug=false`: set to `true` to see debug informations\n",
    "\n",
    "\"\"\"\n",
    "function alt2_nrtrap(f,range;eps=1E-10,max_divisions=20,debug=false)\n",
    "    data=alt2_trap_data(f,range)\n",
    "    oldval=zero(f(range[1]))\n",
    "    val=oldval\n",
    "    for j in 1:max_divisions\n",
    "        oldval=data.val\n",
    "        subdivide!(f,data)\n",
    "        val=data.val\n",
    "        if abs(val-oldval)<eps*abs(oldval) || (val==0 && oldval==0)\n",
    "            if debug\n",
    "                print(\"converged after \"*string(j)*\" iterations\")\n",
    "            end\n",
    "            return val\n",
    "        end\n",
    "    end\n",
    "    error(\"Did not converge to precision $eps \",\n",
    "          \"after $max_divisions subdivisions.\\n\",\n",
    "          \"Previous 2 results: ($oldval,$val)\\n\\n\",\n",
    "        \"Try increasing number of divisions or applying a tranformation to integrand.\")\n",
    "end"
   ]
  },
  {
   "cell_type": "code",
   "execution_count": null,
   "id": "9c914c7d-a5d2-40eb-a9cc-2c6928ecc288",
   "metadata": {},
   "outputs": [],
   "source": [
    "h(x)=x^3\n",
    "@btime alt2_nrtrap(h,(0.,1.),debug=false)"
   ]
  },
  {
   "cell_type": "code",
   "execution_count": null,
   "id": "f4ff3190-8276-4937-91f1-d343934df34e",
   "metadata": {},
   "outputs": [],
   "source": [
    "@btime alt2_nrtrap(h,(0.,1.),debug=false)"
   ]
  },
  {
   "cell_type": "code",
   "execution_count": null,
   "id": "31a2dda5-102f-4c9c-a6b8-a5e4ba76d9ea",
   "metadata": {},
   "outputs": [],
   "source": [
    "@btime alt3_nrtrap(h,(0.,1.),debug=false)"
   ]
  },
  {
   "cell_type": "code",
   "execution_count": null,
   "id": "7ef0e621-50a6-4fab-a63f-219939b5a0a6",
   "metadata": {},
   "outputs": [],
   "source": [
    "@btime trap(h,(0.,1.),2^18)"
   ]
  },
  {
   "cell_type": "markdown",
   "id": "57f44f69-faf5-43f7-9851-164e6729c120",
   "metadata": {},
   "source": [
    "Apparently the `alt3` version is nearly optimal. I can't say I understand why it is almost a factor of 2 faster than `alt2`.  One could also try a more pedestrian version that doesn't use `struct`'s.  We should also do some more testing to see if the timing depends on the complexity of the function."
   ]
  },
  {
   "cell_type": "code",
   "execution_count": null,
   "id": "0b20ecc6-7724-4b6e-9a57-07e5f8f4e056",
   "metadata": {},
   "outputs": [],
   "source": []
  }
 ],
 "metadata": {
  "@webio": {
   "lastCommId": "77f08ad4ac8940cd8ab27b4702e92d5b",
   "lastKernelId": "0792c523-c080-4b69-9e19-1405d72de3c0"
  },
  "kernelspec": {
   "display_name": "Julia 1.10.4",
   "language": "julia",
   "name": "julia-1.10"
  },
  "language_info": {
   "file_extension": ".jl",
   "mimetype": "application/julia",
   "name": "julia",
   "version": "1.10.4"
  }
 },
 "nbformat": 4,
 "nbformat_minor": 5
}
