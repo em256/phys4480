{
 "cells": [
  {
   "cell_type": "markdown",
   "id": "3c90c2ed",
   "metadata": {},
   "source": [
    "# Period of a Pendulum"
   ]
  },
  {
   "cell_type": "markdown",
   "id": "5e69e4f3-366a-4ddf-a609-38ba62eb9296",
   "metadata": {},
   "source": [
    "We begin our exploration of *computational physics* with an example from mechanics.  We will consider the motion of a pendulum.  \n",
    "\n",
    "Imagine a pendulum of length $L$ is pulled up to make an angle $\\theta$ with respect the the vertical.  "
   ]
  },
  {
   "cell_type": "markdown",
   "id": "e47d3deb-76b4-4634-8810-0ec4765219f0",
   "metadata": {},
   "source": [
    "<img src=\"https://docs.google.com/drawings/d/e/2PACX-1vTwUJDECXEo0ZeyJ-i5zonaMAytMBHm8IfrIwfRnYMoiTKyvSUGirVm9lXpy63JJHaUsopfbYRRZ74J/pub?w=877&amp;h=718\">"
   ]
  },
  {
   "cell_type": "markdown",
   "id": "34e705f6-2d17-4afb-91ec-6f3cfdffd164",
   "metadata": {},
   "source": [
    "The component of the graviational force which is in the direction of motion is $F_\\parallel=-m g \\sin(\\theta)$.  The speed of the bob is $v=L d\\theta/dt$.  Thus we get equations of motion\n",
    "\n",
    "\\begin{align}\n",
    "\\frac{d \\theta}{dt}&= \\frac{v}{L} \\\\\n",
    "m \\frac{d v}{dt}&=-m g \\sin(\\theta)\n",
    "\\end{align}\n",
    "\n",
    "We know the pendulum will swing back and forth.  We want to calculate its period.\n",
    "\n",
    "The classic approach is to use energy arguments.  The kinetic energy of the pendulum is\n",
    "\\begin{equation}\n",
    "T=\\frac{1}{2}m v^2.\n",
    "\\end{equation}\n",
    "The potential energy is\n",
    "\\begin{equation}\n",
    "U=-mgL \\cos(\\theta).\n",
    "\\end{equation}\n",
    "Then the total energy is\n",
    "\\begin{equation}\n",
    "E=\\frac{1}{2}m v^2-mgL \\cos(\\theta).\n",
    "\\end{equation}\n",
    "Since the total energy is conserved we can solve this for the velocity:\n",
    "\\begin{equation}\n",
    "v = \\sqrt{\\frac{2 E}{m} +2 gL \\cos(\\theta)}\n",
    "\\end{equation}\n",
    "Our argument is slightly simpler if we note that the energy can be related to the maximum angle that the pendulum reaches, $\\theta_m$, so:\n",
    "\\begin{equation}\n",
    "v = \\sqrt{2 g L}\\sqrt{\\cos(\\theta)-\\cos(\\theta_m)}\n",
    "\\end{equation}\n",
    "Next we note that $v=Ld\\theta/dt$ and hence\n",
    "\\begin{equation}\n",
    "\\frac{d\\theta}{dt}=\n",
    "\\sqrt{\\frac{2g}{L}}\n",
    "\\sqrt{\\cos(\\theta)-\\cos(\\theta_m})\n",
    "\\end{equation}"
   ]
  },
  {
   "cell_type": "markdown",
   "id": "5699a3ab",
   "metadata": {},
   "source": [
    "We then note that a quarter period is the time it takes for the pendulum to rise from $\\theta=0$ to $\\theta=\\theta_m$, and hence\n",
    "\\begin{equation}\n",
    "\\frac{T}{4}=\\int_{t_0}^{t_m}\\!dt=\\sqrt{\\frac{L}{2g}}\\int_0^{\\theta_m}\\frac{d\\theta}{\\sqrt{\\cos(\\theta)-\\cos(\\theta_m)}}\n",
    "\\end{equation}"
   ]
  },
  {
   "cell_type": "markdown",
   "id": "86613987",
   "metadata": {},
   "source": [
    "This integral is an *elliptic integral*.  It has no closed form in terms of more elementary functions.  Thus we need to develop numerical methods to evaluate it.\n",
    "\n",
    "The task of evaluating integrals is known as *quadratures*."
   ]
  },
  {
   "cell_type": "markdown",
   "id": "e3f32e55",
   "metadata": {},
   "source": [
    "<div style=\"border: 2px solid white; border-radius: 10px; padding: 20px; background-color:white; color:black; height: 500px\" >\n",
    "</div>"
   ]
  },
  {
   "cell_type": "markdown",
   "id": "5a72b912",
   "metadata": {},
   "source": [
    "## Adimensionalizing"
   ]
  },
  {
   "cell_type": "markdown",
   "id": "ae974c21",
   "metadata": {},
   "source": [
    "A good first step in any numerical calculation is to *adimensionalize* your equations.  This is actually a good step in analytic work as well.\n",
    "\n",
    "We will learn how to systematically do this, but here I know that for small amplitudes the period of a pendulum is \n",
    "\\begin{equation}\n",
    "T_{0}=2\\pi \\sqrt{\\frac{L}{g}}.\n",
    "\\end{equation}\n",
    "This it makes sense for us to calculate\n",
    "\\begin{equation}\n",
    "\\bar T =\\frac{T}{T_0}=\\frac{\\sqrt{2}}{\\pi}\\int_0^{\\theta_m}\\frac{d\\theta}{\\sqrt{\\cos(\\theta)-\\cos(\\theta_m)}}\n",
    "\\end{equation}"
   ]
  },
  {
   "cell_type": "markdown",
   "id": "b6046759",
   "metadata": {},
   "source": [
    "The angle $\\theta_m$ is already dimensionless, so we can leave it as-is."
   ]
  },
  {
   "cell_type": "markdown",
   "id": "157ae7d8",
   "metadata": {},
   "source": [
    "<div style=\"border: 2px solid white; border-radius: 10px; padding: 20px; background-color:white; color:black; height: 500px\" >\n",
    "</div>"
   ]
  },
  {
   "cell_type": "markdown",
   "id": "594c9a9e",
   "metadata": {},
   "source": [
    "## Strategies"
   ]
  },
  {
   "cell_type": "markdown",
   "id": "795298e7",
   "metadata": {},
   "source": [
    "We have several strategies we could pursue now:\n",
    "\n",
    "1. Type into google \"Numerical Integration in Julia\".  Download the right package and do the integral.\n",
    "2. Write our own integrator.\n",
    "\n",
    "Both are useful.  The advantage of the package is that it will probably get us results sooner.  The advantage of writing our own is that we can tweak it to meet our needs.  Also, we will learn a lot from writing the integrator.\n",
    "\n",
    "We are going to try to walk the line here -- both giving you the skills to work with low-level algorithms -- and the ability to take advantage of high level packages.\n",
    "\n",
    "It is also worth noting that there is work involved with learning how to use a package.  Generally it will be less work than writing your own routines -- but that outlay should not be discounted."
   ]
  },
  {
   "cell_type": "markdown",
   "id": "1ede8cbe",
   "metadata": {},
   "source": [
    "<div style=\"border: 2px solid white; border-radius: 10px; padding: 20px; background-color:white; color:black; height: 500px\" >\n",
    "</div>"
   ]
  },
  {
   "cell_type": "markdown",
   "id": "66a7ff90",
   "metadata": {},
   "source": [
    "## Simple approaches to numerical quadratures"
   ]
  },
  {
   "cell_type": "markdown",
   "id": "0daba952",
   "metadata": {},
   "source": [
    "Reading: <a href=\"http://numerical.recipes/book.html\">Chapter 4 of Numerical Recipies</a>"
   ]
  },
  {
   "cell_type": "markdown",
   "id": "dc58752f",
   "metadata": {},
   "source": [
    "The basic idea with most quadrature approaches is to break the integral into discrete segments, and then approximate the integral on each of those segments.  One straightforward approach is the \"trapezoid rule\" where one breaks each segment into trapezoids:"
   ]
  },
  {
   "cell_type": "code",
   "execution_count": null,
   "id": "213c25b1",
   "metadata": {},
   "outputs": [],
   "source": [
    "using Plots,LaTeXStrings #load in visualization software"
   ]
  },
  {
   "cell_type": "code",
   "execution_count": null,
   "id": "6a5c3a55",
   "metadata": {},
   "outputs": [],
   "source": [
    "\"\"\"\n",
    "    showtrapezoids(f,range=(0,1),n=5;opts...)\n",
    "\n",
    "Illustrates trapezoid rule by plotting the function `f` over the range specified by `range`.\n",
    "Show `n` trapezoids overlayed.  Passes on options `opts` to the plot command.\n",
    "\"\"\"\n",
    "function showtrapezoids(f,range=(0,1),n=5;opts...)\n",
    "    # define variables\n",
    "    xmin=range[1]\n",
    "    xmax=range[2]\n",
    "    # Create basic plot of function\n",
    "    plt=plot(f,xmin,xmax,xlabel=\"x\",ylabel=\"f\",legend=false,show=false,opts...)\n",
    "    #\n",
    "    # Draw trapezoids\n",
    "    #\n",
    "    function trapezoid(j)\n",
    "        width=(xmax-xmin)/n\n",
    "        x1=(j-1)*width\n",
    "        x2=j*width\n",
    "        y1=f(x1)\n",
    "        y2=f(x2)\n",
    "        Shape([x1, x1, x2, x2],[0,y1,y2,0])\n",
    "    end\n",
    "    for j in 1:n\n",
    "        plot!(trapezoid(j),opacity=0.2)\n",
    "    end\n",
    "    plt\n",
    "end"
   ]
  },
  {
   "cell_type": "code",
   "execution_count": null,
   "id": "192ca2d7-c778-4598-b9d5-a59e24a01d13",
   "metadata": {},
   "outputs": [],
   "source": [
    "f(x)=1-2x^2+4x^4\n",
    "showtrapezoids(f,(0,pi/4),4)"
   ]
  },
  {
   "cell_type": "markdown",
   "id": "a711d878",
   "metadata": {},
   "source": [
    "### Naive implementation of trapezoid rule"
   ]
  },
  {
   "cell_type": "markdown",
   "id": "cca23e05",
   "metadata": {},
   "source": [
    "Lets not worry about efficiency, and write the simplest implementation of the trapezoid rule that we can think of.  We will make this more efficient later -- but this version is already fast enough for our purposes.  One of the points of using Julia is that the naive implementation of algorithms tends to be fast."
   ]
  },
  {
   "cell_type": "code",
   "execution_count": null,
   "id": "2a7b1bb2",
   "metadata": {},
   "outputs": [],
   "source": [
    "\"\"\"\n",
    "    naive_trap(f,range,n)\n",
    "\n",
    "is a naive implementation of the trapezoid rule for calculating\n",
    "`∫f(x)dx`, with `x` running between `a` and `b` where `range=(a,b)`.\n",
    "The integral region is divided into `n` trapezoids.\n",
    "\"\"\"\n",
    "function naive_trap(f,range,n)\n",
    "    result=0.\n",
    "    xmin=range[1]\n",
    "    xmax=range[2]\n",
    "    dx=(xmax-xmin)/n\n",
    "    for j in 1:n\n",
    "        x1=xmin+(j-1)*dx\n",
    "        x2=x1+dx\n",
    "        result+= (f(x2)+f(x1))*dx/2\n",
    "    end\n",
    "    return result\n",
    "end"
   ]
  },
  {
   "cell_type": "markdown",
   "id": "fa281284",
   "metadata": {},
   "source": [
    "At the beginning of the function I supplied a \"docstring\".  This allows one to use the interactive help feature to learn about the function"
   ]
  },
  {
   "cell_type": "code",
   "execution_count": null,
   "id": "f480c5f0",
   "metadata": {},
   "outputs": [],
   "source": [
    "?naive_trap"
   ]
  },
  {
   "cell_type": "code",
   "execution_count": null,
   "id": "d03f4a75",
   "metadata": {},
   "outputs": [],
   "source": [
    "testf(x)=x\n",
    "naive_trap(testf,(1,0),100)"
   ]
  },
  {
   "cell_type": "markdown",
   "id": "5aeeabe7",
   "metadata": {},
   "source": [
    "Notationally that is fine -- but for things like this it is nice to be able to pass around \"pure functions\" or \"lambda functions\" or \"anonymous functions\"  "
   ]
  },
  {
   "cell_type": "markdown",
   "id": "81f6b600-b8e8-42ca-9b59-635131e74b38",
   "metadata": {},
   "source": [
    "naive_trap(x->x^3,(0,1),10)"
   ]
  },
  {
   "cell_type": "markdown",
   "id": "4c2a1915",
   "metadata": {},
   "source": [
    "In that expression, `x->x^3` is short-hand for creating the function like `testf`, and then inserting it into the function call.  Here are a couple more examples of using this notation."
   ]
  },
  {
   "cell_type": "code",
   "execution_count": null,
   "id": "294eb84b",
   "metadata": {},
   "outputs": [],
   "source": [
    "(x->x^2)(4)"
   ]
  },
  {
   "cell_type": "code",
   "execution_count": null,
   "id": "f0209c9c",
   "metadata": {},
   "outputs": [],
   "source": [
    "g=(x->x+2)\n",
    "g(5)"
   ]
  },
  {
   "cell_type": "markdown",
   "id": "1c062ace-2b22-4908-96c6-b972412f1f0b",
   "metadata": {},
   "source": []
  },
  {
   "cell_type": "code",
   "execution_count": null,
   "id": "fc87e2c9-f42f-41a4-b5c0-7fca0b7be0a7",
   "metadata": {},
   "outputs": [],
   "source": []
  },
  {
   "cell_type": "code",
   "execution_count": null,
   "id": "4fe79b4f-8e1e-469c-a8cb-a4b91c9a55e1",
   "metadata": {},
   "outputs": [],
   "source": []
  },
  {
   "cell_type": "code",
   "execution_count": null,
   "id": "9f9d0503-bcb1-4836-9dcd-eb652c07933d",
   "metadata": {},
   "outputs": [],
   "source": []
  },
  {
   "cell_type": "code",
   "execution_count": null,
   "id": "a661ee4f-6c51-4e65-b625-fa5b26b2a305",
   "metadata": {},
   "outputs": [],
   "source": []
  },
  {
   "cell_type": "markdown",
   "id": "401b88d8-d9e4-4988-9550-0a8bfedff7fc",
   "metadata": {},
   "source": [
    "Julia also has a slightly obtuse notation that we can use here, namely a `do` block: where the function is placed on the next line:"
   ]
  },
  {
   "cell_type": "code",
   "execution_count": null,
   "id": "9935502e-ddc3-4a8b-8ec8-4e590570b03d",
   "metadata": {},
   "outputs": [],
   "source": [
    "naive_trap((0,1),10) do x\n",
    "    x^2\n",
    "end"
   ]
  },
  {
   "cell_type": "markdown",
   "id": "f6019b5a-0e22-4baf-8a9e-4cc70726da4d",
   "metadata": {},
   "source": [
    "That block was equivalent to writing"
   ]
  },
  {
   "cell_type": "code",
   "execution_count": null,
   "id": "be032aa1-ce62-48e7-a79c-369854e07c51",
   "metadata": {},
   "outputs": [],
   "source": [
    "function f(x)\n",
    "    x^2\n",
    "end\n",
    "\n",
    "naive_trap(f,(0,1),10)"
   ]
  },
  {
   "cell_type": "markdown",
   "id": "2876a8b1-5b43-4b83-a899-ad171844df2c",
   "metadata": {},
   "source": [
    "I am a bit ambivalent about the `do` block notation.  I think it is solving a problem which doesn't exist -- and it leads to hard to read code.  Nonethless, it is valid syntax, so is probably good to know.  Functions which do file IO often use that notation, as does some of the asynchronous programming stuff that we will work with later. "
   ]
  },
  {
   "cell_type": "markdown",
   "id": "fa0d62bb-04fa-4ae8-9f43-7d9e5a3db3f8",
   "metadata": {},
   "source": [
    "<div style=\"border: 2px solid white; border-radius: 10px; padding: 20px; background-color:white; color:black; height: 500px\" >\n",
    "</div>"
   ]
  },
  {
   "cell_type": "markdown",
   "id": "c481ceb5-78e0-45fd-bc23-bd3b6fb7f450",
   "metadata": {},
   "source": [
    "Now, one thing I hate is remembering exactly the notation for a function definition.  A nice trick in Julia is to give multiple versions of the function that will work for any natural notation."
   ]
  },
  {
   "cell_type": "code",
   "execution_count": null,
   "id": "9670ace6-b7ba-4f47-9eea-bd793f820a6e",
   "metadata": {},
   "outputs": [],
   "source": [
    "# alternate signature\n",
    "naive_trap(f,a,b,n)=naive_trap(f,(a,b),n) \n",
    "#keyword arguments\n",
    "naive_trap(;f,range,n)=naive_trap(f,range,n)\n",
    "naive_trap(f;range,n=10)=naive_trap(f,range,n)"
   ]
  },
  {
   "cell_type": "markdown",
   "id": "c6ff2f04-ced8-48e2-878d-3e15cfa952ac",
   "metadata": {},
   "source": [
    "Here are now all the different ways we can call our function"
   ]
  },
  {
   "cell_type": "code",
   "execution_count": null,
   "id": "6ca3fdb9-a921-4f26-84af-aa57020e79f1",
   "metadata": {},
   "outputs": [],
   "source": [
    "# the original way \n",
    "#-- matches `naive_trap(f,range,n)`\n",
    "naive_trap(x->x^2,(0,2),4) "
   ]
  },
  {
   "cell_type": "code",
   "execution_count": null,
   "id": "26309636-01fd-4eac-922a-e92231b69d32",
   "metadata": {},
   "outputs": [],
   "source": [
    "# matches `naive_trap(f,a,b,n)`\n",
    "naive_trap(x->x^2,0,2,4) "
   ]
  },
  {
   "cell_type": "code",
   "execution_count": null,
   "id": "0e7a075e-1968-466d-ba8d-b58a0b193dcf",
   "metadata": {},
   "outputs": [],
   "source": [
    "# uses keyword arguments\n",
    "naive_trap(;f=(x->x^2),range=(0,2),n=4) "
   ]
  },
  {
   "cell_type": "markdown",
   "id": "bf730b66-edec-4950-9245-6e5b61f95d5a",
   "metadata": {},
   "source": [
    "Note, the semicolon is actually optional, and it is happy with"
   ]
  },
  {
   "cell_type": "code",
   "execution_count": null,
   "id": "e49d086a-2f72-4079-a6d6-4e771b469c26",
   "metadata": {},
   "outputs": [],
   "source": [
    "naive_trap(f=(x->x^2),range=(0,2),n=4) "
   ]
  },
  {
   "cell_type": "markdown",
   "id": "f0ab514a-aaa6-4822-83c8-2379f6766bd3",
   "metadata": {},
   "source": [
    "Order doesn't matter for named arguments"
   ]
  },
  {
   "cell_type": "code",
   "execution_count": null,
   "id": "a8d146f1-127e-46a8-9e07-c21915303f83",
   "metadata": {},
   "outputs": [],
   "source": [
    "naive_trap(n=4,f=(x->x^2),range=(0,2))"
   ]
  },
  {
   "cell_type": "markdown",
   "id": "0a19ee45-7eb1-4e0d-92e5-334eb42c7a34",
   "metadata": {},
   "source": [
    "We can also package up the arguments into a container.  This is useful if we are going to be using the same arguments in multiple places in our code.  There will be fewer errors if we move them as a package"
   ]
  },
  {
   "cell_type": "code",
   "execution_count": null,
   "id": "6f5ca843-6cb3-4dc1-b63f-7bf263186bc0",
   "metadata": {},
   "outputs": [],
   "source": [
    "dictargs=Dict(:f=>(x->x^2),:range=>(0,2),:n=>4)\n",
    "naive_trap(;dictargs...)"
   ]
  },
  {
   "cell_type": "code",
   "execution_count": null,
   "id": "829feeae-c023-40bf-8abd-9f71fd073b88",
   "metadata": {},
   "outputs": [],
   "source": [
    "ntupleargs=(f=(x->x^2),:range=>(0,2),n=4)\n",
    "naive_trap(;ntupleargs...)"
   ]
  },
  {
   "cell_type": "code",
   "execution_count": null,
   "id": "856de839-437f-47ae-8d5c-692ee1c23ab0",
   "metadata": {},
   "outputs": [],
   "source": [
    "args=(x->x^2,(0,2),4)\n",
    "naive_trap(args...)"
   ]
  },
  {
   "cell_type": "markdown",
   "id": "96d22c4e",
   "metadata": {},
   "source": [
    "<div style=\"border: 2px solid white; border-radius: 10px; padding: 20px; background-color:white; color:black; height: 500px\" >\n",
    "</div>"
   ]
  },
  {
   "cell_type": "markdown",
   "id": "4e38659b",
   "metadata": {},
   "source": [
    "#### Choosing `n`"
   ]
  },
  {
   "cell_type": "markdown",
   "id": "4516e93b",
   "metadata": {},
   "source": [
    "How big of `n` should we use?  Lets see how our result depends on `n`"
   ]
  },
  {
   "cell_type": "code",
   "execution_count": null,
   "id": "5a7722a7",
   "metadata": {},
   "outputs": [],
   "source": [
    "nvals=1:50\n",
    "tvals=[naive_trap(x->x^3,(0,1),n) for n in nvals]\n",
    "plot(nvals,tvals,xlabel=\"n\",ylabel=L\"$\\int_0^1x^3dx$\",legend=false)\n",
    "scatter!(nvals,tvals)"
   ]
  },
  {
   "cell_type": "markdown",
   "id": "6b728f68",
   "metadata": {},
   "source": [
    "We see that this converges pretty quickly. One trick to understand this is to rescale one of the axes.  Lets try plotting the difference beteen the exact result and this approximation, as a function of $1/n$."
   ]
  },
  {
   "cell_type": "code",
   "execution_count": null,
   "id": "ec9f452a",
   "metadata": {},
   "outputs": [],
   "source": [
    "plot(1 ./nvals,tvals.-0.25,xlabel=\"1/n\",\n",
    "    ylabel=L\"$\\int_0^1x^3dx$-0.25\",legend=false)\n",
    "scatter!(1 ./nvals,tvals.-0.25)"
   ]
  },
  {
   "cell_type": "markdown",
   "id": "11ed1761-66b7-4320-86b6-493c6449f6b5",
   "metadata": {},
   "source": [
    "The notation `tvals.-0.25` or `1 ./nvals` means to apply the operation elementwise."
   ]
  },
  {
   "cell_type": "code",
   "execution_count": null,
   "id": "9de6cd46-24da-4f2a-ae02-dd5e1ac11cd1",
   "metadata": {},
   "outputs": [],
   "source": [
    "x=(1,2,3)"
   ]
  },
  {
   "cell_type": "code",
   "execution_count": null,
   "id": "54bc4009-dc25-44a1-b14b-7dc07c343f10",
   "metadata": {},
   "outputs": [],
   "source": [
    "x .-0.25"
   ]
  },
  {
   "cell_type": "code",
   "execution_count": null,
   "id": "6d7d0fc7-3de7-4274-8d9c-337d92d1185d",
   "metadata": {},
   "outputs": [],
   "source": [
    "x-0.25"
   ]
  },
  {
   "cell_type": "markdown",
   "id": "1c172ed7-f26b-4b18-a9f0-b0239a4b40cd",
   "metadata": {},
   "source": [
    "Aside over -- Lets now look at that plot"
   ]
  },
  {
   "cell_type": "code",
   "execution_count": null,
   "id": "dca757b8-6054-4f3b-bfd2-76ef3dd86ee5",
   "metadata": {},
   "outputs": [],
   "source": [
    "plot(1 ./nvals,tvals.-0.25,\n",
    "    xlabel=\"1/n\",\n",
    "    ylabel=L\"$\\int_0^1x^3dx$-0.25\",\n",
    "    legend=false)\n",
    "scatter!(1 ./nvals,tvals.-0.25)"
   ]
  },
  {
   "cell_type": "markdown",
   "id": "c6a17c9f",
   "metadata": {},
   "source": [
    "It kind of looks like a parabola.  Lets plot against `1/n^2`"
   ]
  },
  {
   "cell_type": "code",
   "execution_count": null,
   "id": "93f3d124",
   "metadata": {},
   "outputs": [],
   "source": [
    "plot(1 ./nvals.^2,tvals.-0.25,\n",
    "    xlabel=\"1/n²\",\n",
    "    ylabel=L\"$\\int_0^1x^3dx$-0.25\",\n",
    "    legend=false)\n",
    "scatter!(1 ./nvals.^2,tvals.-0.25)"
   ]
  },
  {
   "cell_type": "markdown",
   "id": "3e6a9c07",
   "metadata": {},
   "source": [
    "Apparently the error scales as $1/n^2$"
   ]
  },
  {
   "cell_type": "markdown",
   "id": "adbd7b00",
   "metadata": {},
   "source": [
    "An even better approach is to use a log-log plot"
   ]
  },
  {
   "cell_type": "code",
   "execution_count": null,
   "id": "ce0b8b33",
   "metadata": {},
   "outputs": [],
   "source": [
    "scatter(nvals,abs.(-(tvals.-0.25)),\n",
    "    xlabel=\"n\",\n",
    "    ylabel=L\"$\\int_0^1x^3dx$-0.25\",\n",
    "    legend=false,xaxis=:log, \n",
    "    yaxis=:log)"
   ]
  },
  {
   "cell_type": "markdown",
   "id": "21d6072e",
   "metadata": {},
   "source": [
    "If a plot of $\\log(y)$  vs $\\log(x)$ is a a straight line:  $\\log(y)=a+b \\log(x)$, then $y$ and $x$ are related by a power law:  $y=\\alpha x^\\beta$, where $\\alpha=\\exp(a)$ and $\\beta=b$.  Lets try to fit our log-log plot to a straight line."
   ]
  },
  {
   "cell_type": "markdown",
   "id": "4ed8e2c3",
   "metadata": {},
   "source": [
    "Later in the semester we will develop curve fitting routines, but here is a quick one.  \n",
    "\n",
    "My curve fitting program is literally 2 lines long, and illustrates why sometimes one does not want to bother with a package.  I am sure it would take longer to Google the package than it does to write the function."
   ]
  },
  {
   "cell_type": "code",
   "execution_count": null,
   "id": "2e3fc88d",
   "metadata": {},
   "outputs": [],
   "source": [
    "\"\"\"\n",
    "    linearfit(X,Y,functions)\n",
    "\n",
    "takes a set of `X=(x1,x2,...xn)`, `Y=(y1,y1,...yn)` and a set of `functions=(f1, f2,...fm)` \n",
    "and returns the set of coefficients `C=(c1,c2,..cm)` which minimize \n",
    "\n",
    "\n",
    "         n       m\n",
    "    χ²=  ∑  (yi- ∑  cj fj(xi))^2\n",
    "        i=1     j=1\n",
    "\n",
    "It is implemented by constructing the `n×m` matrix `A` with matrix elements\n",
    "\n",
    "    Aᵢⱼ= fj(xi)\n",
    "\n",
    "then `(AᵗA)C=AᵗY`, where `Y=(y1,y2,...yn)`.  Thus the optimal coefficients are \n",
    "`(AᵗA)⁻¹(AᵗY)`, which can be implemented with `(AᵗA)\\\\(AᵗY)`.\n",
    "\"\"\"\n",
    "function linearfit(X,Y,functions)\n",
    "    A=[f(x) for x in X, f in functions ]\n",
    "    return transpose(A)*A\\(transpose(A)*Y) # This is equivalent to (AᵗA)⁻¹(AᵗY)\n",
    "end                                        # the \"\\\" is \"divide from left\""
   ]
  },
  {
   "cell_type": "code",
   "execution_count": null,
   "id": "da3637ba-6469-4951-af80-2e719cbddf41",
   "metadata": {},
   "outputs": [],
   "source": [
    "?linearfit"
   ]
  },
  {
   "cell_type": "markdown",
   "id": "502613ee",
   "metadata": {},
   "source": [
    "The divide from left notation may seem a little strange on a computer, but it makes sense."
   ]
  },
  {
   "cell_type": "code",
   "execution_count": null,
   "id": "c1bf08b7",
   "metadata": {},
   "outputs": [],
   "source": [
    "1 / 2  # The normal way to take the ratio of 1 and 2"
   ]
  },
  {
   "cell_type": "code",
   "execution_count": null,
   "id": "b88bb758",
   "metadata": {},
   "outputs": [],
   "source": [
    "2 \\ 1 # an alternative way to take the ratio of 1 and 2"
   ]
  },
  {
   "cell_type": "code",
   "execution_count": null,
   "id": "1943a034-4c4e-441a-afcc-857a5185b269",
   "metadata": {},
   "outputs": [],
   "source": [
    "[1 1]/[2 0;0 1] #effectively right-multipy a row vector by the right inverse"
   ]
  },
  {
   "cell_type": "code",
   "execution_count": null,
   "id": "3c09cc03-8e08-47b5-b6e7-2d9f685535db",
   "metadata": {},
   "outputs": [],
   "source": [
    "[2 0;0 1] \\ [1;1] #effectively left-multipy a column vector by the left inverse"
   ]
  },
  {
   "cell_type": "code",
   "execution_count": null,
   "id": "35cb2b9d",
   "metadata": {},
   "outputs": [],
   "source": [
    "lf1=linearfit(log.(nvals),log.(tvals.-0.25),(x->1.,x->x))"
   ]
  },
  {
   "cell_type": "markdown",
   "id": "0f184099",
   "metadata": {},
   "source": [
    "that output means that $\\log(t-0.25)=-1.386 - 2\\log(n)$, or in other words, $t=0.25+\\exp(-1.386)n^{-2}$."
   ]
  },
  {
   "cell_type": "code",
   "execution_count": null,
   "id": "2b79f5b7",
   "metadata": {},
   "outputs": [],
   "source": [
    "scatter(nvals,tvals.-0.25,xlabel=\"n\",ylabel=L\"$\\int_0^1x^3dx$-0.25\",\n",
    "    legend=false,xaxis=:log, yaxis=:log)\n",
    "plot!(x->exp(lf1[1]+lf1[2]*log(x)),1,100)"
   ]
  },
  {
   "cell_type": "markdown",
   "id": "785eaff0",
   "metadata": {},
   "source": [
    "Thus we see that the error scales as $1/n^2$.  Can we understand this?"
   ]
  },
  {
   "cell_type": "markdown",
   "id": "7f352d50-148a-4e0d-8e16-c06e7c60cddf",
   "metadata": {},
   "source": [
    "Aside:  Can you write that last `plot!` statement as a `do` block?"
   ]
  },
  {
   "cell_type": "markdown",
   "id": "387ce39e",
   "metadata": {},
   "source": [
    "<div style=\"border: 2px solid white; border-radius: 10px; padding: 20px; background-color:white; color:black; height: 500px\" >\n",
    "</div>"
   ]
  },
  {
   "cell_type": "markdown",
   "id": "0afba932-0e4e-47ab-a804-32ad83ea4096",
   "metadata": {},
   "source": [
    "## Theory tools"
   ]
  },
  {
   "cell_type": "markdown",
   "id": "d841dc27",
   "metadata": {},
   "source": [
    "### Big O Notation"
   ]
  },
  {
   "cell_type": "markdown",
   "id": "d9c9f5b3",
   "metadata": {},
   "source": [
    "We will often say that a function $f_n$ scales as $O(n^\\alpha)$ as $n\\to\\infty$.  This means that there exists an integer $N$ and a constant $C$ such that $|f_n|\\leq Cn^\\alpha$ for all $n>N$.  That is, we can bound $f_n$ by some constant times $n^\\alpha$.  Note that this is an upper bound, and does not mean the bound is tight.  "
   ]
  },
  {
   "cell_type": "markdown",
   "id": "d153816e",
   "metadata": {},
   "source": [
    "Here is an example showing that `y=1/(x-1)` is bounded by `2/x` for `x>1`.  Thus we say $1/(x-1)=O(x^{-1})$."
   ]
  },
  {
   "cell_type": "code",
   "execution_count": null,
   "id": "93661fbf",
   "metadata": {},
   "outputs": [],
   "source": [
    "plot(x->2/x,2,10,fillrange = [0,0], \n",
    "    fc=:blues,label=\"2/x\",xlabel=\"x\",ylabel=\"y\")\n",
    "plot!(x->1/(x-1),1.5,10,label=\"1/(x-1)\",\n",
    "    linewidth=3)"
   ]
  },
  {
   "cell_type": "markdown",
   "id": "84e77b6b",
   "metadata": {},
   "source": [
    "Sometimes we also want to talk about tight bounds. In this course we will write $f_n\\sim n^\\alpha$ as $n\\to\\infty$ to mean that there exists a constant $C$ such that $|f_n- C n^\\alpha|$ vanishes as $n\\to\\infty$."
   ]
  },
  {
   "cell_type": "markdown",
   "id": "15c4f3dc",
   "metadata": {},
   "source": [
    "In the case where $f_n$ itself vanishes as $n\\to\\infty$, we actually want this to be a little bit stronger, and will actually require $|f_n-C n^\\alpha|/|f_n|$ vanishes as $n\\to\\infty$.  IE.  We want the difference between the curves to vanish faster than $f_n$ itself."
   ]
  },
  {
   "cell_type": "markdown",
   "id": "cb787b78",
   "metadata": {},
   "source": [
    "Here is an example.  We would write $1/(x-1)\\sim 1/x$ as $x\\to\\infty$.  Note, we could also write $1/(x-1)=1/x+O(x^{-2})$, which conveys more information."
   ]
  },
  {
   "cell_type": "code",
   "execution_count": null,
   "id": "5187185d",
   "metadata": {},
   "outputs": [],
   "source": [
    "plot(x->1/x,2,10,fillrange = x->1/(x-1), \n",
    "    fc=:blues,label=\"1/x\",xlabel=\"x\",ylabel=\"y\")\n",
    "plot!(x->1/(x-1),1.5,10,label=\"1/(x-1)\",\n",
    "    linewidth=3)"
   ]
  },
  {
   "cell_type": "markdown",
   "id": "86c084e8",
   "metadata": {},
   "source": [
    "We will often leave off the \"$n\\to\\infty$\" part of the statement.  Sometimes we will take a different limit -- for example we could say $f(x)=O(x^{-2})$ as $x\\to0$, to mean that, for small $x$, $|f(x)|$ is bounded from above by a function proportional to $x^{-2}$.    \n",
    "\n",
    "We can also talk about $O(g(x))$ for functions other than power laws.  "
   ]
  },
  {
   "cell_type": "markdown",
   "id": "f3f67e49-eb10-4f3b-b3cf-aa65a69b9726",
   "metadata": {},
   "source": [
    "There are a [few related notations](https://en.wikipedia.org/wiki/Big_O_notation) that we will not be using."
   ]
  },
  {
   "cell_type": "markdown",
   "id": "a8ed41b2",
   "metadata": {},
   "source": [
    "<div style=\"border: 2px solid white; border-radius: 10px; padding: 20px; background-color:white; color:black; height: 500px\" >\n",
    "</div>"
   ]
  },
  {
   "cell_type": "markdown",
   "id": "8b3b6409",
   "metadata": {},
   "source": [
    "### Richardson Extrapolation"
   ]
  },
  {
   "cell_type": "markdown",
   "id": "8c0a42a3",
   "metadata": {},
   "source": [
    "If we know that the error in the trapezoid rule scales as $n^{-2}$ we can do the integral for several values of $n$ and then fit to a function of the form $I_n=I_\\infty + \\epsilon n^{-2}$ -- extracting a better approximation to the integral."
   ]
  },
  {
   "cell_type": "code",
   "execution_count": null,
   "id": "9d8f2317",
   "metadata": {},
   "outputs": [],
   "source": [
    "I4=naive_trap(x->x^3,(0,1),4)"
   ]
  },
  {
   "cell_type": "code",
   "execution_count": null,
   "id": "5266b46c",
   "metadata": {},
   "outputs": [],
   "source": [
    "I8=naive_trap(x->x^3,(0,1),8)"
   ]
  },
  {
   "cell_type": "markdown",
   "id": "c51cf1ca",
   "metadata": {},
   "source": [
    "$$\n",
    "I_n=I_\\infty+\\epsilon n^{-2}\n",
    "$$"
   ]
  },
  {
   "cell_type": "markdown",
   "id": "729eb25f-831c-42d8-93af-a8ecbba9e3b2",
   "metadata": {},
   "source": [
    "We then multiply by $n^2$,\n",
    "\\begin{equation}\n",
    "n^2 I_n=n^2 I_\\infty+\\epsilon\n",
    "\\end{equation}"
   ]
  },
  {
   "cell_type": "markdown",
   "id": "7cfba35e-9639-4024-98e8-4c9cfaf6b128",
   "metadata": {},
   "source": [
    "We then take two values of $n$ -- say \n",
    "$n=4$ and $n=8$.\n",
    "\\begin{align}\n",
    "4^2 I_4 &= 4^2 I_\\infty+\\epsilon\\\\\n",
    "8^2 I_8 &= 8^2 I_\\infty+\\epsilon\n",
    "\\end{align}"
   ]
  },
  {
   "cell_type": "markdown",
   "id": "e0ee603d-0e38-4dcb-8bdc-fd558580eee3",
   "metadata": {},
   "source": [
    "Subtract these\n",
    "\\begin{equation}\n",
    "8^2 I_8-4^2 I_4= (8^2-4^2) I_\\infty\n",
    "\\end{equation}\n",
    "or\n",
    "\\begin{equation}\n",
    "I_\\infty= \\frac{8^2 I_8-4^2 I_4}{8^2-4^2} =\\frac{2^2 I_8-I_4}{2^2-1}\n",
    "\\end{equation}"
   ]
  },
  {
   "cell_type": "code",
   "execution_count": null,
   "id": "42ddd6b8",
   "metadata": {},
   "outputs": [],
   "source": [
    "(2^2*I8-I4)/(2^2-1)"
   ]
  },
  {
   "cell_type": "markdown",
   "id": "7ed7e33a",
   "metadata": {},
   "source": [
    "This was exact in this case because of the form of the integrand.  In general, if we used $I_n$ and $I_{n/2}$ we would still have an error -- but instead of scaling as $n^{-2}$, it would scale as $n^{-4}$.  The approximation $I\\approx (4/3)I_n-(1/3)I_{n/2}$ is known as *Simpson's Rule*"
   ]
  },
  {
   "cell_type": "markdown",
   "id": "d6ed7dfe",
   "metadata": {},
   "source": [
    "This trick can be repeated.  I can take Simpson's rule with two different $n$'s, and combine them to get an even better approximation to the integral.  This strategy is known as Romberg Integration.  This feels a bit like a free lunch.  Somehow we can get extremely accurate integrals with relatively few function evaluations."
   ]
  },
  {
   "cell_type": "markdown",
   "id": "849666dd",
   "metadata": {},
   "source": [
    "**Caution:** Richardson extrapolation (and Romberg integration schemes) rely on our integrand being smooth.  If it is poorly behaved, then they don't necessarily help. "
   ]
  },
  {
   "cell_type": "markdown",
   "id": "21c366df",
   "metadata": {},
   "source": [
    "<div style=\"border: 2px solid white; border-radius: 10px; padding: 20px; background-color:white; color:black; height: 500px\" >\n",
    "</div>"
   ]
  },
  {
   "cell_type": "markdown",
   "id": "406439ee",
   "metadata": {},
   "source": [
    "### Euler-Maclaurin Summation formula"
   ]
  },
  {
   "cell_type": "markdown",
   "id": "bae31f31",
   "metadata": {},
   "source": [
    "A good framework for understanding these approximations in the **Euler-Maclaurin Summation Formula**.  Here is a somewhat formal derivation.  This is mostly for my own amusement -- and this *derivation* contains one or two cheats.\n",
    "\n",
    "We will first remind you about series expansions.  Analytic functions can be written in series, such as\n",
    "\\begin{align}\n",
    "e^x&=\\sum_j \\frac{x^j}{j!}\\\\\n",
    "\\frac{1}{1-x}&=\\sum_j x^j.\n",
    "\\end{align}\n",
    "Such a series is sometimes used to define a set of numbers.  We are going to need the Bernoulli numbers, which are defined by the series\n",
    "$$\n",
    "\\frac{x}{e^{x}-1}=\\sum_j \\frac{B_j}{j!} x^j.\n",
    "$$\n",
    "One can Brute-force expand the left hand side to get\n",
    "$B_0=1$, $B_1=-1/2$, $B_2=1/6$, $B_3=0$, $B_4=-1/30,\\cdots$  You can easily Google them.\n",
    "\n"
   ]
  },
  {
   "cell_type": "markdown",
   "id": "7063d540",
   "metadata": {},
   "source": [
    "With Bernoulli numbers in hand we will now think about operators that act on the space of functions.  They take in a function, and spit out a new function.  For example, lets intoduce $\\Delta$, which is defined by $(\\Delta f)(x)=f(x+1)-f(x)$.  In Julia we can create this operator with"
   ]
  },
  {
   "cell_type": "code",
   "execution_count": null,
   "id": "ebfa8d14",
   "metadata": {},
   "outputs": [],
   "source": [
    "Δ(f)=(x->f(x+1)-f(x))"
   ]
  },
  {
   "cell_type": "code",
   "execution_count": null,
   "id": "4e5b9517-7375-4c26-b747-99b03d452aab",
   "metadata": {},
   "outputs": [],
   "source": [
    "f1(x)=x^2\n",
    "f2=Δ(f1)\n",
    "@show f1(5)-f1(4)\n",
    "@show f2(4);"
   ]
  },
  {
   "cell_type": "markdown",
   "id": "6b430b06",
   "metadata": {},
   "source": [
    "or if that notation makes you queezy, you could also write"
   ]
  },
  {
   "cell_type": "code",
   "execution_count": null,
   "id": "44c7a0fb",
   "metadata": {},
   "outputs": [],
   "source": [
    "function Δ(f)\n",
    "    function g(x)\n",
    "        return f(x+1)-f(x)\n",
    "    end\n",
    "    return g\n",
    "end"
   ]
  },
  {
   "cell_type": "code",
   "execution_count": null,
   "id": "c67075ad",
   "metadata": {},
   "outputs": [],
   "source": [
    "f1(x)=x^2\n",
    "f2=Δ(f1)\n",
    "@show f1(5)-f1(4)\n",
    "@show f2(4);"
   ]
  },
  {
   "cell_type": "markdown",
   "id": "297fce6b",
   "metadata": {},
   "source": [
    "We will next introduce $\\Sigma$.  It again maps functions onto functions.  We will only need to define what it does to functions on integers.  It is defined for positive integers $x$ as\n",
    "$$\n",
    "(\\Sigma f)(x)=\\sum_{n=0}^{x-1} f(n)\n",
    "$$"
   ]
  },
  {
   "cell_type": "code",
   "execution_count": null,
   "id": "3fbb41ba-dbf8-42a2-8536-9b312aa200b3",
   "metadata": {},
   "outputs": [],
   "source": [
    "function Σ(f)\n",
    "    function g(x)\n",
    "        return sum(f(y) for y in 0:x-1)\n",
    "    end\n",
    "    return g\n",
    "end"
   ]
  },
  {
   "cell_type": "code",
   "execution_count": null,
   "id": "d55ba47a-7a12-41f4-b93b-5e35195e3fa9",
   "metadata": {},
   "outputs": [],
   "source": [
    "f3(n)=1\n",
    "f4=Σ(f3)\n",
    "f4(5)"
   ]
  },
  {
   "cell_type": "markdown",
   "id": "b5c38340",
   "metadata": {},
   "source": [
    "I claim that $\\Delta\\Sigma=I$, where $I$ is the identity matrix.  To prove this one writes\n",
    "\\begin{align}\n",
    "(\\Delta\\Sigma f)(x)&=(\\Sigma f)(x+1)-(\\Sigma f)(x)\\\\\n",
    "&=\\sum_{n=0}^x f(n) - \\sum_{n=0}^{x-1} f(x).\n",
    "\\end{align}\n",
    "All of the terms cancel except the last, which gives, $(\\Delta\\Sigma f)(x)=f(x)$, which shows that $\\Delta\\Sigma$ is the identity operator.  This makes sense, $\\Delta$ and $\\Sigma$ are inverses of each-other.\n",
    "\n",
    "In the other order, however, there is a small subtlety.  We find $(\\Sigma\\Delta f)(x)=f(x)-f(0)$, so the order matters -- unless we restrict ourself to the space of functions which vanish at the origin. You are familliar with this structure from calculus.  The integral and the derivative are inverse operations, but the integral has an arbitrary constant in it that you need to set.  Thus the derivative of the integral of a function is the identity, but the integral of the derivative is the identity plus a constant."
   ]
  },
  {
   "cell_type": "code",
   "execution_count": null,
   "id": "37ff1815-3f4f-48c7-abea-f3f46c484e78",
   "metadata": {},
   "outputs": [],
   "source": [
    "f(x)=x^2\n",
    "scatter(0:10,f,label=\"f\",xlabel=\"x\")\n",
    "scatter!(0:10,Δ(f),label=\"Δ(f)\")\n",
    "scatter!(1:10,Σ(f),label=\"Σ(f)\")"
   ]
  },
  {
   "cell_type": "code",
   "execution_count": null,
   "id": "23f3e6e9-e588-4ac9-968f-e57963c68544",
   "metadata": {},
   "outputs": [],
   "source": [
    "scatter(1:10,Σ(Δ(f)),label=\"Σ(Δ(f))\",xlabel=\"x\")\n",
    "plot!(f,0,10,label=\"f\")"
   ]
  },
  {
   "cell_type": "code",
   "execution_count": null,
   "id": "f4c53111-0c92-4455-b8f4-ac1b1e82149e",
   "metadata": {},
   "outputs": [],
   "source": [
    "scatter(1:10,Δ(Σ(f)),label=\"Δ(Σ(f))\")\n",
    "plot!(f,0,10,label=\"f\")"
   ]
  },
  {
   "cell_type": "markdown",
   "id": "c8c50df0",
   "metadata": {},
   "source": [
    "Next we introduce two more operators\n",
    "\\begin{align}\n",
    "(\\partial f)(x)&=f'(x)\\\\\n",
    "(\\smallint  f)(x)&=\\int_0^x f(y)dy.\n",
    "\\end{align}\n",
    "The fundamental theorem of calculus states that $\\partial\\smallint=  I.$  As with the $\\Sigma$ and $\\Delta$, if we reverse the order we get $(\\smallint\\partial f)(x)=f(x)-f(0)$."
   ]
  },
  {
   "cell_type": "markdown",
   "id": "1a965271-b716-4462-9aa2-13f0854b63cb",
   "metadata": {},
   "source": [
    "Later in the course we will develop the tools to make the functions (functionals?) $\\partial$ and $\\smallint$.  They are clearly well defined, even if they are harder to construct than $\\Sigma$ and $\\Delta$."
   ]
  },
  {
   "cell_type": "markdown",
   "id": "39683b96",
   "metadata": {},
   "source": [
    "We now turn to Taylor's theorem,\n",
    "\\begin{align}\n",
    "f(x+1)&=f(x)+\\sum_{n=1}^\\infty \\frac{(\\partial^n f)(x)}{n!}\\\\\n",
    "&= (e^\\partial f)(x).\n",
    "\\end{align}\n",
    "Thus Taylor's theorem can be written as $\\Delta=e^{\\partial}-1$"
   ]
  },
  {
   "cell_type": "markdown",
   "id": "ee1c679f",
   "metadata": {},
   "source": [
    "Putting this together with our previous result, $\\Delta\\Sigma=I$ yields\n",
    "\\begin{align}\n",
    "\\Sigma=\\frac{1}{e^\\partial-1}.\n",
    "\\end{align}\n",
    "We will now multiply the right hand side by $I=\\smallint \\partial $ to find\n",
    "\\begin{align}\n",
    "\\Sigma=\\smallint\\frac{\\partial}{e^\\partial-1} .\n",
    "\\end{align}\n",
    "Finally we expand the right hand side in a Taylor series:\n",
    "\\begin{align}\n",
    "(\\Sigma f)(x)&=\\left(\\smallint\\sum_{j=0}^\\infty \\frac{B_j}{j!} \\partial^j f\\right)(x)\\\\\n",
    "&=(\\smallint f)(x) + \\sum_{j=1}^\\infty  \\frac{B_j}{j!} \\left[(\\partial^{j-1} f)(x)-\n",
    "(\\partial^{j-1} f)(0)\n",
    "\\right]\n",
    "\\end{align}\n",
    "which can be reorganized into the Euler-Maclauren summation formula\n",
    "\\begin{align}\n",
    "\\int_0^x f(y) dy &= \\sum_{y=0}^{x-1} f(y) - \\sum_{j=1}^\\infty \\frac{B_j}{j!} \\left[(\\partial^{j-1} f)(x)-\n",
    "(\\partial^{j-1} f)(0)\n",
    "\\right]\\\\\n",
    "&= \\sum_{y=0}^{x-1} f(y) + \\frac{1}{2}[f(x)-f(0)] + \\frac{B_2}{2} [f'(x)-f'(0)]+\\cdots\n",
    "\\end{align}\n",
    "The first two terms give you the trapezoid rule.  Subsequent terms give you corrections in terms of derivatives of the function at the bounds.\n",
    "\n",
    "This may seem strange that knowledge about the behaviour of the function at the boundaries so strongly constrain the integral.  This is a peculiarity of analytic functions."
   ]
  },
  {
   "cell_type": "markdown",
   "id": "2e5df2b4-e9a9-4b2b-9809-05a1aef89a3b",
   "metadata": {},
   "source": [
    "Finally we rescale the axis, taking the bounds of the integral to go from $a$ to $b$.  Thus we define $s=a+b y/n$, and $g(s)=f(n(s-a)/b)$.  Straightforward arithmetic then gives  "
   ]
  },
  {
   "cell_type": "markdown",
   "id": "8c17a6dc-6fb3-42f2-aefe-25e518e3f844",
   "metadata": {},
   "source": [
    "\\begin{align}\n",
    "\\int_a^b g(s) ds &= \\frac{1}{n}\\sum_{m=0}^{n-1} g(s_m) - \\sum_{j=1}^\\infty \\frac{B_j}{j!}\\frac{1}{n^j} \\left[(\\partial^{j-1} g)(b)-\n",
    "(\\partial^{j-1} g)(a)\n",
    "\\right]\\\\\n",
    "&= \\frac{1}{n}\\sum_{m=0}^{x-1} g(s_m) + \\frac{1}{2n}[g(b)-g(a)] + \\frac{B_2}{2n^2} [g'(b)-g'(a)]+O(n^{-3})\n",
    "\\end{align}"
   ]
  },
  {
   "cell_type": "markdown",
   "id": "9eca779d",
   "metadata": {},
   "source": [
    "<div style=\"border: 2px solid white; border-radius: 10px; padding: 20px; background-color:white; color:black; height: 500px\" >\n",
    "</div>"
   ]
  },
  {
   "cell_type": "markdown",
   "id": "78cebcc9",
   "metadata": {},
   "source": [
    "## Improving our trapezoid rule integrator"
   ]
  },
  {
   "cell_type": "markdown",
   "id": "aac4edb2-cb12-4538-ac9f-6c6ec9f2c01e",
   "metadata": {},
   "source": [
    "As a reminder, here is our naive implementation of the trapezoid rule"
   ]
  },
  {
   "cell_type": "code",
   "execution_count": null,
   "id": "d475d304",
   "metadata": {},
   "outputs": [],
   "source": [
    "function naive_trap(f,range,n)\n",
    "    result=0.\n",
    "    xmin=range[1]\n",
    "    xmax=range[2]\n",
    "    dx=(xmax-xmin)/n\n",
    "    for j in 1:n\n",
    "        x1=xmin+(j-1)*dx\n",
    "        x2=x1+dx\n",
    "        result+= (f(x2)+f(x1))*dx/2\n",
    "    end\n",
    "    return result\n",
    "end"
   ]
  },
  {
   "cell_type": "markdown",
   "id": "c171aa74",
   "metadata": {},
   "source": [
    "**Algorithmic Inefficiencies:** \n",
    "\n",
    "* The function `f` is evaluated twice at every location. \n",
    "* We have `2n` muliplications by `dx`.  \n",
    "* We don't use Richardson   \n",
    "\n",
    "**Inconveniences:** \n",
    "\n",
    "* We need to specify `n`, the number of trapezoids, \n",
    "* We don't know how accurate our result is"
   ]
  },
  {
   "cell_type": "markdown",
   "id": "14cb0e06-69f5-4327-a560-7f7766e656f0",
   "metadata": {},
   "source": [
    "Note, as discussed at the end of this notebook, there are other more subtle inefficiencies due to actual implementation by the compiler. "
   ]
  },
  {
   "cell_type": "markdown",
   "id": "c889714a",
   "metadata": {},
   "source": [
    "### Fixing the most obvious inefficiency"
   ]
  },
  {
   "cell_type": "markdown",
   "id": "771d0e20",
   "metadata": {},
   "source": [
    "The factor of 2 is easy to fix.  Instead of looping over the trapezoids we loop over the points."
   ]
  },
  {
   "cell_type": "code",
   "execution_count": null,
   "id": "c3969732",
   "metadata": {},
   "outputs": [],
   "source": [
    "\"\"\"\n",
    "    trap(f,range,n)\n",
    "\n",
    "is an implementation of the trapezoid rule for calculating\n",
    "`∫f(x)dx`, with `x` running between `a` and `b` where `range=(a,b)`.\n",
    "The integral region is divided into `n` trapezoids.\n",
    "\"\"\"\n",
    "function trap(f,range,n)\n",
    "    xmin=range[1]\n",
    "    xmax=range[2]\n",
    "    dx=(xmax-xmin)/n \n",
    "    result=(f(xmin)+f(xmax))/2\n",
    "    for j in 1:n-1\n",
    "        result+= f(j*dx)\n",
    "    end\n",
    "    return result*dx\n",
    "end"
   ]
  },
  {
   "cell_type": "markdown",
   "id": "e27c2836",
   "metadata": {},
   "source": [
    "To see a speed difference, however, one needs to go to a more complicated integrand and a very large number of trapezoids.  "
   ]
  },
  {
   "cell_type": "code",
   "execution_count": null,
   "id": "dcb1110e",
   "metadata": {},
   "outputs": [],
   "source": [
    "@time naive_trap(x->sin(log(cos(x)^2+1)),\n",
    "    (0.,pi),2^22)"
   ]
  },
  {
   "cell_type": "code",
   "execution_count": null,
   "id": "a8fccbde",
   "metadata": {},
   "outputs": [],
   "source": [
    "@time trap(x->sin(log(cos(x)^2+1)),(0.,pi),2^22)"
   ]
  },
  {
   "cell_type": "markdown",
   "id": "45e9827c",
   "metadata": {},
   "source": [
    "For smaller number of trapezoids, or simpler integrands, the time is dominated by the compiling, and this factor of 2 is irrelevant.  Note, for this example we used 4 million points -- which was certainly overkill"
   ]
  },
  {
   "cell_type": "code",
   "execution_count": null,
   "id": "947acbdc-621f-4b49-a579-b829a3bb41c4",
   "metadata": {},
   "outputs": [],
   "source": [
    "2^22"
   ]
  },
  {
   "cell_type": "code",
   "execution_count": null,
   "id": "4e2ff5f8",
   "metadata": {},
   "outputs": [],
   "source": [
    "@time naive_trap(x->x^3,(0.,1.),1000)"
   ]
  },
  {
   "cell_type": "code",
   "execution_count": null,
   "id": "cdf97179",
   "metadata": {},
   "outputs": [],
   "source": [
    "@time trap(x->x^3,(0.,1.),1000)"
   ]
  },
  {
   "cell_type": "markdown",
   "id": "ca798120-e6e9-43b0-9117-006485d815ef",
   "metadata": {},
   "source": [
    "Note, we can pre-compile by defining our function differently"
   ]
  },
  {
   "cell_type": "code",
   "execution_count": null,
   "id": "54810bff-696b-4587-8cda-209d45948f74",
   "metadata": {},
   "outputs": [],
   "source": [
    "h(x)=sin(log(cos(x)^2+1))\n",
    "@time trap(h,(0.,1.),1000)\n",
    "@time naive_trap(h,(0.,1.),1000)"
   ]
  },
  {
   "cell_type": "markdown",
   "id": "0554bac5-bb93-419c-9f4d-e9194e5df267",
   "metadata": {},
   "source": [
    "This is a good lesson: do not sweat the small stuff!"
   ]
  },
  {
   "cell_type": "markdown",
   "id": "a72c86cb",
   "metadata": {},
   "source": [
    "### Dynamic step size"
   ]
  },
  {
   "cell_type": "markdown",
   "id": "0bf7f754",
   "metadata": {},
   "source": [
    "Lets implement a strategy from *Numerical Recipies* which does the Trapezoid rule with dynamic step sizes"
   ]
  },
  {
   "cell_type": "markdown",
   "id": "a1dbb849",
   "metadata": {},
   "source": [
    "One reason I want to go through it, is that it introduces some useful computer science -- namely using *objects*.  *Objects* are the nouns of programs -- just as *functions* are the verbs.  There are less sophisticated ways to implement this approach, but I hope to start introducing some machinery that will be useful."
   ]
  },
  {
   "cell_type": "markdown",
   "id": "79a0a788",
   "metadata": {},
   "source": [
    "The trapezoid rule subdivides the integral into $n=2^m$ trapezoids.  We are going to sequentially increase $m$ until we achieve our desired accuracy.  In order to do this we define an object `trap_data` which stores information about the integral that you are using, and an interim result."
   ]
  },
  {
   "cell_type": "code",
   "execution_count": null,
   "id": "348c2ec1",
   "metadata": {},
   "outputs": [],
   "source": [
    "\"\"\"\n",
    "    trap_data(f,range)\n",
    "\n",
    "stores the intermediate information for our trapezoid rule. \n",
    "\n",
    "Fields:\n",
    "    f       # store the function we are integrating\n",
    "    range   # store the range (a,b)\n",
    "    val     # trapezoid rule integral at current depth, m\n",
    "    m       # depth -- number of trapezoids = 2ᵐ\n",
    "\n",
    "To increase the depth use command `subdivide!` or `subdivide`.\n",
    "\n",
    "\"\"\"\n",
    "mutable struct trap_data\n",
    "    f       # store the function we are integrating\n",
    "    range   # store the range (a,b)\n",
    "    val     # trapezoid rule integral at current depth, m\n",
    "    m       # depth -- number of trapezoids = 2ᵐ\n",
    "    function trap_data(f,range)\n",
    "        new(f,range,(f(range[1])+f(range[2]))*(range[2]-range[1])/2,0)\n",
    "    end\n",
    "end\n",
    "\n",
    "\"\"\"\n",
    "    subdivide!(data ::trap_data)\n",
    "takes a `trapdata` object, and doubles the number of gridpoints in the integral.\n",
    "\"\"\"\n",
    "function subdivide!(data ::trap_data)\n",
    "    # Extract needed info from `data`\n",
    "    f=data.f\n",
    "    m=data.m+1\n",
    "    result=zero(data.val)\n",
    "    (a,b)=data.range\n",
    "    # Width of new rectangles\n",
    "    dx=(b-a)/2^m\n",
    "    for x in dx:dx*2:dx*(2^m-1)\n",
    "        result+=f(a+x)*dx\n",
    "    end\n",
    "    result=result+data.val/2\n",
    "    # Update data\n",
    "    data.m=m\n",
    "    data.val=result\n",
    "end"
   ]
  },
  {
   "cell_type": "code",
   "execution_count": null,
   "id": "3667d233-5a6a-4c89-8e25-6f455e0b2e37",
   "metadata": {},
   "outputs": [],
   "source": [
    "for x in 1:0.5:25\n",
    "    println(x)\n",
    "end"
   ]
  },
  {
   "cell_type": "markdown",
   "id": "883ec071",
   "metadata": {},
   "source": [
    "We will learn more about this syntax as the course progresses.  Nevertheless, to see how this work, we create one of our data objects"
   ]
  },
  {
   "cell_type": "code",
   "execution_count": null,
   "id": "5b1025c0",
   "metadata": {},
   "outputs": [],
   "source": [
    "td1=trap_data(x->x^3,(1,3))"
   ]
  },
  {
   "cell_type": "markdown",
   "id": "ee5ee8c8",
   "metadata": {},
   "source": [
    "We can extract the stored information with a dot"
   ]
  },
  {
   "cell_type": "code",
   "execution_count": null,
   "id": "d0717e28",
   "metadata": {},
   "outputs": [],
   "source": [
    "td1.range"
   ]
  },
  {
   "cell_type": "code",
   "execution_count": null,
   "id": "a7f5dad4",
   "metadata": {},
   "outputs": [],
   "source": [
    "td1.f(4)"
   ]
  },
  {
   "cell_type": "code",
   "execution_count": null,
   "id": "aef90a19-86a9-4614-a64b-6d8b64288030",
   "metadata": {},
   "outputs": [],
   "source": [
    "g=td1.f"
   ]
  },
  {
   "cell_type": "code",
   "execution_count": null,
   "id": "09c2e45b-cce2-4f87-bc09-54885db8b2ed",
   "metadata": {},
   "outputs": [],
   "source": [
    "g(7)"
   ]
  },
  {
   "cell_type": "code",
   "execution_count": null,
   "id": "0f6c3d3a-e911-4aa4-9406-b68772516d57",
   "metadata": {},
   "outputs": [],
   "source": [
    "r=td1.range"
   ]
  },
  {
   "cell_type": "code",
   "execution_count": null,
   "id": "ea80d967",
   "metadata": {},
   "outputs": [],
   "source": [
    "td1.val"
   ]
  },
  {
   "cell_type": "code",
   "execution_count": null,
   "id": "20af9f37",
   "metadata": {},
   "outputs": [],
   "source": [
    "td1.m"
   ]
  },
  {
   "cell_type": "code",
   "execution_count": null,
   "id": "d76832ce",
   "metadata": {},
   "outputs": [],
   "source": [
    "naive_trap(td1.f,td1.range,2^td1.m)"
   ]
  },
  {
   "cell_type": "markdown",
   "id": "94035419",
   "metadata": {},
   "source": [
    "We can then use the `subdivide!` function to break the integral into more pieces"
   ]
  },
  {
   "cell_type": "code",
   "execution_count": null,
   "id": "d2a913d6",
   "metadata": {},
   "outputs": [],
   "source": [
    "subdivide!(td1)"
   ]
  },
  {
   "cell_type": "code",
   "execution_count": null,
   "id": "5d71a807-20b1-47d8-91c7-0a94d00df6e4",
   "metadata": {},
   "outputs": [],
   "source": [
    "td1.m"
   ]
  },
  {
   "cell_type": "code",
   "execution_count": null,
   "id": "ce56cdf1",
   "metadata": {},
   "outputs": [],
   "source": [
    "(td1.m,td1.val,naive_trap(x->x^3,(1,3),2^td1.m))"
   ]
  },
  {
   "cell_type": "code",
   "execution_count": null,
   "id": "b0b6f9f2",
   "metadata": {},
   "outputs": [],
   "source": [
    "subdivide!(td1)"
   ]
  },
  {
   "cell_type": "code",
   "execution_count": null,
   "id": "aaa93d82",
   "metadata": {},
   "outputs": [],
   "source": [
    "(td1.m,td1.val,naive_trap(x->x^3,(1,3),2^td1.m))"
   ]
  },
  {
   "cell_type": "markdown",
   "id": "70c21432",
   "metadata": {},
   "source": [
    "Every time we call subdivide we increase the number of trapezoids.  However, we just evaluate `f` at the new points."
   ]
  },
  {
   "cell_type": "markdown",
   "id": "1e17989b",
   "metadata": {},
   "source": [
    "We now just need to wrap this in a function which calls subdivide until we hit some convergence criterion.  We will use that the fractional change in the integral falls below some threshold -- that we will call `eps`."
   ]
  },
  {
   "cell_type": "code",
   "execution_count": null,
   "id": "37856948",
   "metadata": {},
   "outputs": [],
   "source": [
    "\"\"\"\n",
    "`nrtrap(f,range;namedargs...)`\n",
    "\n",
    "Uses the trapezoid rule algorithm from Numerical Recipies to calculate ``\\\\int_a^b f(x) dx``\n",
    "where `range=(a,b)`.\n",
    "\n",
    "`namedargs`\n",
    "- `eps=1E-10`: algorithm terminates when relative change in integral falls below `eps`\n",
    "- `max_divisions=20`: make no more than `max_divisions` subdivisions\n",
    "- `debug=false`: set to `true` to see debug informations\n",
    "\n",
    "\"\"\"\n",
    "function nrtrap(f,range;eps=1E-10,max_divisions=20,debug=false)\n",
    "    data=trap_data(f,range)\n",
    "    oldval=0.\n",
    "    val=0.\n",
    "    for j in 1:max_divisions\n",
    "        oldval=data.val\n",
    "        subdivide!(data)\n",
    "        val=data.val\n",
    "        if abs(val-oldval)<eps*abs(oldval) || (val==0 && oldval==0)\n",
    "            if debug\n",
    "                print(\"converged after \"*string(j)*\" iterations\")\n",
    "            end\n",
    "            return val\n",
    "        end\n",
    "    end\n",
    "    error(\"Did not converge to precision $eps \",\n",
    "          \"after $max_divisions subdivisions.\\n\",\n",
    "          \"Previous 2 results: ($oldval,$val)\\n\\n\",\n",
    "        \"Try increasing number of divisions or applying a tranformation to integrand.\")\n",
    "end"
   ]
  },
  {
   "cell_type": "markdown",
   "id": "b55e191d-caf9-4df8-8430-26ecb4ecedca",
   "metadata": {},
   "source": [
    "**Question?**  Why does it make sense to use that stopping criterion?\n",
    "\n",
    "    abs(val-oldval)<eps*abs(oldval)\n",
    "\n",
    "When might it make less sense?"
   ]
  },
  {
   "cell_type": "code",
   "execution_count": null,
   "id": "da046b3e-9789-4b44-9b41-c25f38e11635",
   "metadata": {},
   "outputs": [],
   "source": [
    "\"a\"*\"b\""
   ]
  },
  {
   "cell_type": "code",
   "execution_count": null,
   "id": "9f372114",
   "metadata": {},
   "outputs": [],
   "source": [
    "nrtrap(x->x^3,(0,1),debug=true)"
   ]
  },
  {
   "cell_type": "code",
   "execution_count": null,
   "id": "66177233",
   "metadata": {},
   "outputs": [],
   "source": [
    "nrtrap(x->x^4,(0,1),debug=true,max_divisions=4,eps=1e-12)"
   ]
  },
  {
   "cell_type": "markdown",
   "id": "1785eb14",
   "metadata": {},
   "source": [
    "It is a simple change to upgrade this to Simpson's rule"
   ]
  },
  {
   "cell_type": "code",
   "execution_count": null,
   "id": "aa642b3a",
   "metadata": {},
   "outputs": [],
   "source": [
    "\"\"\"\n",
    "`nrsimp(f,range;namedargs...)`\n",
    "\n",
    "Uses the Simpson's rule algorithm from Numerical Recipies to calculate ``\\\\int_a^b f(x) dx``\n",
    "where `range=(a,b)`.\n",
    "\n",
    "`namedargs`\n",
    "- `eps=1E-10`: algorithm terminates when relative change in integral falls below `eps`\n",
    "- `max_divisions=20`: make no more than `max_divisions` subdivisions\n",
    "- `debug=false`: set to `true` to see debug informations\n",
    "\n",
    "\"\"\"\n",
    "function nrsimp(f,range;eps=1E-10,max_divisions=20,debug=false)\n",
    "    data=trap_data(f,range)\n",
    "    oldtrapval=data.val\n",
    "    subdivide!(data)\n",
    "    trapval=data.val\n",
    "    sval=(4*trapval-oldtrapval)/3\n",
    "    oldsval=sval\n",
    "    for j in 2:max_divisions\n",
    "        oldtrapval=trapval\n",
    "        oldsval=sval\n",
    "        subdivide!(data)\n",
    "        trapval=data.val\n",
    "        sval=(4*trapval-oldtrapval)/3\n",
    "        if abs(sval-oldsval)<eps*abs(oldsval) || (sval==0 && oldsval==0)\n",
    "            if debug\n",
    "                print(\"converged after \"*string(j)*\" iterations\")\n",
    "            end\n",
    "            return sval\n",
    "        end\n",
    "    end\n",
    "    error(\"Did not converge to precision $eps \",\n",
    "          \"after $max_divisions subdivisions.\\n\",\n",
    "          \"Previous 2 results: ($oldsval,$sval)\\n\\n\",\n",
    "        \"Try increasing number of divisions or applying a tranformation to integrand.\")\n",
    "end"
   ]
  },
  {
   "cell_type": "code",
   "execution_count": null,
   "id": "b4dc9bf8",
   "metadata": {},
   "outputs": [],
   "source": [
    "nrsimp(x->x^4*log(x+sqrt(1+x^2)),(0,2),debug=true)"
   ]
  },
  {
   "cell_type": "code",
   "execution_count": null,
   "id": "2f24732b",
   "metadata": {},
   "outputs": [],
   "source": [
    "nrtrap(x->x^4*log(x+sqrt(1+x^2)),(0,2),debug=true)"
   ]
  },
  {
   "cell_type": "code",
   "execution_count": null,
   "id": "24aab49f-ecca-4367-bdfe-1d1c330ef1b5",
   "metadata": {},
   "outputs": [],
   "source": [
    "2^10"
   ]
  },
  {
   "cell_type": "code",
   "execution_count": null,
   "id": "9b093055-f0c6-491b-8b6d-6190075c2df1",
   "metadata": {},
   "outputs": [],
   "source": [
    "2^18"
   ]
  },
  {
   "cell_type": "markdown",
   "id": "c93aad67",
   "metadata": {},
   "source": [
    "<div style=\"border: 2px solid white; border-radius: 10px; padding: 20px; background-color:white; color:black; height: 500px\" >\n",
    "</div>"
   ]
  },
  {
   "cell_type": "markdown",
   "id": "7fb9e190",
   "metadata": {},
   "source": [
    "## Optimization"
   ]
  },
  {
   "cell_type": "markdown",
   "id": "307457fa",
   "metadata": {},
   "source": [
    "I probably won't get to this in class -- but you may find it useful to read."
   ]
  },
  {
   "cell_type": "markdown",
   "id": "37ad2885",
   "metadata": {},
   "source": [
    "**Note:  In general optimization is the last thing your should worry about.**\n",
    "\n",
    "First, in a complex program there is usually one or two rate limiting steps.  It is hard to predict what these will be *a-priori*.  Optimization of any part of the code, except those rate limiting steps, is wasted.\n",
    "\n",
    "Second, optimization is complicated.  It depends on not only the programming language, but the implementation of the language, the compiler, the compiler directives...  It is often a trial and error process -- and sometime you discover that your new approach is slower than the old.  In general clean simple code will be fast."
   ]
  },
  {
   "cell_type": "markdown",
   "id": "686126ae",
   "metadata": {},
   "source": [
    "Regardless, lets now see how we are doing with speed"
   ]
  },
  {
   "cell_type": "code",
   "execution_count": null,
   "id": "e7ba53ab",
   "metadata": {},
   "outputs": [],
   "source": [
    "@time nrtrap(x->x^3,(0,1),debug=true)"
   ]
  },
  {
   "cell_type": "code",
   "execution_count": null,
   "id": "1704c1f2",
   "metadata": {},
   "outputs": [],
   "source": [
    "@time naive_trap(x->x^3,(0,1),2^18)"
   ]
  },
  {
   "cell_type": "markdown",
   "id": "3530ead8",
   "metadata": {},
   "source": [
    "Oh no! Our fancy version is about 8 times slower than our naive version.  Things are even worse if I use a pre-compiled function  "
   ]
  },
  {
   "cell_type": "code",
   "execution_count": null,
   "id": "1e3a28d5-4fcf-4c31-b2e2-aef66f79acaa",
   "metadata": {},
   "outputs": [],
   "source": [
    "h(x)=x^3"
   ]
  },
  {
   "cell_type": "code",
   "execution_count": null,
   "id": "18a77499-b06f-4875-885f-d10b15cbbafb",
   "metadata": {},
   "outputs": [],
   "source": [
    "@time nrtrap(h,(0,1),debug=true)"
   ]
  },
  {
   "cell_type": "code",
   "execution_count": null,
   "id": "206a84d9-905c-440e-932d-2025d7aaa84c",
   "metadata": {},
   "outputs": [],
   "source": [
    "@time naive_trap(h,(0,1),2^18)"
   ]
  },
  {
   "cell_type": "markdown",
   "id": "8b81f7e9",
   "metadata": {},
   "source": [
    "Fixing this is non-trivial, as the speed of these routines depends on low level internals.  If you look at the `@time` statement for our `naive-trap` function, you see that the bulk of the time there is taken in compilation (when we feed in a pure function which is therefore not precompiled)."
   ]
  },
  {
   "cell_type": "markdown",
   "id": "44da04c4-b663-44fc-95a2-8474fc47ed9e",
   "metadata": {},
   "source": [
    "There is a more reliable -- but slower -- timing tool which will run the program multiple times, and subtract off the compilation time."
   ]
  },
  {
   "cell_type": "code",
   "execution_count": null,
   "id": "bf1bff2f-70b3-4535-9e60-03abc772f2ab",
   "metadata": {},
   "outputs": [],
   "source": [
    "using BenchmarkTools"
   ]
  },
  {
   "cell_type": "code",
   "execution_count": null,
   "id": "0a473aae-d7fe-498c-8941-820a126a4667",
   "metadata": {},
   "outputs": [],
   "source": [
    "@btime naive_trap(x->x^3,(0,1),2^18)"
   ]
  },
  {
   "cell_type": "code",
   "execution_count": null,
   "id": "8e286140-4872-4f10-82ac-b7abad047cd1",
   "metadata": {},
   "outputs": [],
   "source": [
    "@btime naive_trap(h,(0,1),2^18)"
   ]
  },
  {
   "cell_type": "code",
   "execution_count": null,
   "id": "dc84a06c-fdba-4b7f-96f8-35ddd6b0bb21",
   "metadata": {},
   "outputs": [],
   "source": [
    "@btime nrtrap(x->x^3,(0,1))"
   ]
  },
  {
   "cell_type": "code",
   "execution_count": null,
   "id": "042fa63d-6b95-49bd-97c1-f3f225dede6a",
   "metadata": {},
   "outputs": [],
   "source": [
    "@btime nrtrap(h,(0,1))"
   ]
  },
  {
   "cell_type": "markdown",
   "id": "102e6fd2",
   "metadata": {},
   "source": [
    "One clue to the problem is that in `nrtrap` we are seeing a large number of `Heap allocations`.  This has to do with the way the fact that we are passing around a function object inside a struct, and the just-in-time compiler does not know what data type the function returns.  Thus it has to allocate memory in a generic way."
   ]
  },
  {
   "cell_type": "markdown",
   "id": "4c302317",
   "metadata": {},
   "source": [
    "We can fix some of this by compartmentalizing the function calls in our `subdivide!` method -- making what is known as a \"function barrier.\"  This is an optimization trick which is unique to Julia."
   ]
  },
  {
   "cell_type": "code",
   "execution_count": null,
   "id": "bbed276c",
   "metadata": {},
   "outputs": [],
   "source": [
    "\"\"\"\n",
    "    alt3_trap_data(f,range)\n",
    "\n",
    "stores the intermediate information for our trapezoid rule. \n",
    "\n",
    "Fields:\n",
    "    f       # store the function we are integrating\n",
    "    range   # store the range (a,b)\n",
    "    val     # trapezoid rule integral at current depth, m\n",
    "    m       # depth -- number of trapezoids = 2ᵐ\n",
    "\n",
    "To increase the depth use command `subdivide!` or `subdivide`.\n",
    "\n",
    "\"\"\"\n",
    "mutable struct alt3_trap_data\n",
    "    f       # store the function we are integrating\n",
    "    range   # store the range (a,b)\n",
    "    val     # trapezoid rule integral at current depth, m\n",
    "    m       # depth -- number of trapezoids = 2ᵐ\n",
    "    function alt3_trap_data(f,range)\n",
    "        new(f,range,(f(range[1])+f(range[2]))*(range[2]-range[1])/2,0)\n",
    "    end\n",
    "end\n",
    "\n",
    "function subdivide!(data ::alt3_trap_data)\n",
    "    # Extract needed info from `data`\n",
    "    f=data.f\n",
    "    m=data.m+1\n",
    "    range=data.range\n",
    "    nextresult=sum_even_points(f,range,2^m) # compiler will generate code for this function which is specialized to the arguments\n",
    "    result=nextresult+data.val/2\n",
    "    # Update data\n",
    "    data.m=m\n",
    "    data.val=result\n",
    "end\n",
    "\n",
    "function sum_even_points(f,range,n)\n",
    "    (a,b)=range\n",
    "    dx=(b-a)/n\n",
    "    result=f(a+dx)*dx\n",
    "    for j in 3:2:n-1\n",
    "        result+=f(a+j*dx)*dx\n",
    "    end\n",
    "    return result\n",
    "end\n",
    "\n",
    "\"\"\"\n",
    "`alt3_nrtrap(f,range;namedargs...)`\n",
    "\n",
    "Uses the trapezoid rule algorithm from Numerical Recipies to calculate ``\\\\int_a^b f(x) dx``\n",
    "where `range=(a,b)`.\n",
    "\n",
    "`namedargs`\n",
    "- `eps=1E-10`: algorithm terminates when relative change in integral falls below `eps`\n",
    "- `max_divisions=20`: make no more than `max_divisions` subdivisions\n",
    "- `debug=false`: set to `true` to see debug informations\n",
    "\n",
    "\"\"\"\n",
    "function alt3_nrtrap(f,range;eps=1E-10,max_divisions=20,debug=false)\n",
    "    data=alt3_trap_data(f,range)\n",
    "    oldval=0.\n",
    "    val=0.\n",
    "    for j in 1:max_divisions\n",
    "        oldval=data.val\n",
    "        subdivide!(data)\n",
    "        val=data.val\n",
    "        if abs(val-oldval)<eps*abs(oldval) || (val==0 && oldval==0)\n",
    "            if debug\n",
    "                print(\"converged after \"*string(j)*\" iterations\")\n",
    "            end\n",
    "            return val\n",
    "        end\n",
    "    end\n",
    "    error(\"Did not converge to precision \"*string(eps)*\n",
    "          \"after \"*string(max_divisions)*\" subdivisions.\"*\n",
    "          \"previous 2 results: (\"*string(oldval)*\n",
    "          \",\"*string(val)*\")\")\n",
    "end"
   ]
  },
  {
   "cell_type": "code",
   "execution_count": null,
   "id": "1d75712d",
   "metadata": {},
   "outputs": [],
   "source": [
    "@time nrtrap(x->x^3,(0.,1.),debug=true)"
   ]
  },
  {
   "cell_type": "code",
   "execution_count": null,
   "id": "a47d1771",
   "metadata": {},
   "outputs": [],
   "source": [
    "@time alt3_nrtrap(x->x^3,(0.,1.),debug=true)"
   ]
  },
  {
   "cell_type": "markdown",
   "id": "1300dd46",
   "metadata": {},
   "source": [
    "Apparently we got somewhere between a factor of 5-10 speedup"
   ]
  },
  {
   "cell_type": "markdown",
   "id": "060b465e",
   "metadata": {},
   "source": [
    "We can do even better if we precompile (or use `@btime` to get rid of the compilation timing) "
   ]
  },
  {
   "cell_type": "code",
   "execution_count": null,
   "id": "e4f922a5",
   "metadata": {},
   "outputs": [],
   "source": [
    "@time nrtrap(h,(0.,1.),debug=true)"
   ]
  },
  {
   "cell_type": "code",
   "execution_count": null,
   "id": "f845659d-0e37-48ad-a0b6-52daf4fb20d7",
   "metadata": {},
   "outputs": [],
   "source": [
    "@time alt3_nrtrap(h,(0.,1.),debug=true)"
   ]
  },
  {
   "cell_type": "markdown",
   "id": "36a76f0a",
   "metadata": {},
   "source": [
    "This gave us another 2 orders of magnitude in speed!!  Note the drastic reduction in heap allocations.  We are now competitive with the simplest implementation."
   ]
  },
  {
   "cell_type": "code",
   "execution_count": null,
   "id": "1065ca63-2138-4c2e-b7cf-f072c5ca8395",
   "metadata": {},
   "outputs": [],
   "source": [
    "@time trap(h,(0,1),2^18)"
   ]
  },
  {
   "cell_type": "markdown",
   "id": "8e2fc7fd",
   "metadata": {},
   "source": [
    "**Optimization is hard!**"
   ]
  },
  {
   "cell_type": "markdown",
   "id": "0202db8d-8aa6-4734-9790-c9c2c0814330",
   "metadata": {},
   "source": [
    "The real magic here is that Julia is able to figure out the return type of the function and uses that information to optimize things."
   ]
  },
  {
   "cell_type": "code",
   "execution_count": null,
   "id": "64ab4c52-36f0-4e9d-bafe-bce3d69621ef",
   "metadata": {},
   "outputs": [],
   "source": [
    "Base.return_types(h,(Float64,))"
   ]
  },
  {
   "cell_type": "code",
   "execution_count": null,
   "id": "26b58428-1092-4206-94ad-59cb77aae178",
   "metadata": {},
   "outputs": [],
   "source": [
    "Base.return_types(x->x^3,(Float64,))"
   ]
  },
  {
   "cell_type": "markdown",
   "id": "0b5f526e-09e8-4a34-bd23-7ae3db429267",
   "metadata": {},
   "source": [
    "The process of type-hinting occurs when the function is an argument of another function.  If we bury the function inside a `struct`, the compiler never does the type-hinting.  Later in the course we will learn about how to create `struct` objects which know about the types of their contents, and don't have this performance hit.  The `function barrier` approach though is always good to have in your pocket."
   ]
  },
  {
   "cell_type": "markdown",
   "id": "4e211aaa-5e23-4662-9663-6264954a08ac",
   "metadata": {},
   "source": [
    "The other strategy which would work here is to not store `f` in our `struct`, but instead pass around 2 arguments: `f` and the data.  We also need to give concrete types to `range`, `val`, and `m`:"
   ]
  },
  {
   "cell_type": "code",
   "execution_count": null,
   "id": "5d960091-3034-4b02-a226-30aa929d5c4c",
   "metadata": {},
   "outputs": [],
   "source": [
    "\"\"\"\n",
    "    alt2_trap_data{R,D}(f,range)\n",
    "\n",
    "stores the intermediate information for our trapezoid rule. \n",
    "\n",
    "Fields:\n",
    "    range   # store the range (a,b)\n",
    "    val     # trapezoid rule integral at current depth, m\n",
    "    m       # depth -- number of trapezoids = 2ᵐ\n",
    "\n",
    "To increase the depth use command `subdivide!` or `subdivide`.\n",
    "\n",
    "\"\"\"\n",
    "mutable struct alt2_trap_data{D,R}   # Parameterized type:  D=domain, R=range\n",
    "    range  ::Tuple{D,D}              # store the range (a,b)\n",
    "    val    ::R                       # trapezoid rule integral at current depth, m\n",
    "    m      ::Int64                   # depth -- number of trapezoids = 2ᵐ\n",
    "    function alt2_trap_data(f,range)\n",
    "        r1,r2=range\n",
    "        f1=f(r1)\n",
    "        f2=f(r2)\n",
    "        trap=(f1+f2)*(r1+r2)/2\n",
    "        new{typeof((r2-r1)/2),typeof(trap)}(range,trap,0)\n",
    "    end\n",
    "end\n",
    "\n",
    "\"\"\"\n",
    "    subdivide!(f,data ::alt_trap_data)\n",
    "takes a `trapdata` object, and doubles the number of gridpoints in the integral.\n",
    "\"\"\"\n",
    "function subdivide!(f,data ::alt2_trap_data)\n",
    "    # Extract needed info from `data`\n",
    "    m=data.m+1\n",
    "    result=data.val/2\n",
    "    (a,b)=data.range\n",
    "    # Width of new rectangles\n",
    "    dx=(b-a)/2^m\n",
    "    for x in dx:dx*2:dx*(2^m-1)\n",
    "        result+=f(a+x)*dx\n",
    "    end\n",
    "    # Update data\n",
    "    data.m=m\n",
    "    data.val=result\n",
    "end\n",
    "\n",
    "\"\"\"\n",
    "`alt_nrtrap(f,range;namedargs...)`\n",
    "\n",
    "Uses the trapezoid rule algorithm from Numerical Recipies to calculate ``\\\\int_a^b f(x) dx``\n",
    "where `range=(a,b)`.\n",
    "\n",
    "`namedargs`\n",
    "- `eps=1E-10`: algorithm terminates when relative change in integral falls below `eps`\n",
    "- `max_divisions=20`: make no more than `max_divisions` subdivisions\n",
    "- `debug=false`: set to `true` to see debug informations\n",
    "\n",
    "\"\"\"\n",
    "function alt2_nrtrap(f,range;eps=1E-10,max_divisions=20,debug=false)\n",
    "    data=alt2_trap_data(f,range)\n",
    "    oldval=zero(f(range[1]))\n",
    "    val=oldval\n",
    "    for j in 1:max_divisions\n",
    "        oldval=data.val\n",
    "        subdivide!(f,data)\n",
    "        val=data.val\n",
    "        if abs(val-oldval)<eps*abs(oldval) || (val==0 && oldval==0)\n",
    "            if debug\n",
    "                print(\"converged after \"*string(j)*\" iterations\")\n",
    "            end\n",
    "            return val\n",
    "        end\n",
    "    end\n",
    "    error(\"Did not converge to precision $eps \",\n",
    "          \"after $max_divisions subdivisions.\\n\",\n",
    "          \"Previous 2 results: ($oldval,$val)\\n\\n\",\n",
    "        \"Try increasing number of divisions or applying a tranformation to integrand.\")\n",
    "end"
   ]
  },
  {
   "cell_type": "code",
   "execution_count": null,
   "id": "9c914c7d-a5d2-40eb-a9cc-2c6928ecc288",
   "metadata": {},
   "outputs": [],
   "source": [
    "h(x)=x^3\n",
    "@btime alt2_nrtrap(h,(0.,1.),debug=false)"
   ]
  },
  {
   "cell_type": "code",
   "execution_count": null,
   "id": "f4ff3190-8276-4937-91f1-d343934df34e",
   "metadata": {},
   "outputs": [],
   "source": [
    "@btime alt2_nrtrap(h,(0.,1.),debug=false)"
   ]
  },
  {
   "cell_type": "code",
   "execution_count": null,
   "id": "31a2dda5-102f-4c9c-a6b8-a5e4ba76d9ea",
   "metadata": {},
   "outputs": [],
   "source": [
    "@btime alt3_nrtrap(h,(0.,1.),debug=false)"
   ]
  },
  {
   "cell_type": "code",
   "execution_count": null,
   "id": "7ef0e621-50a6-4fab-a63f-219939b5a0a6",
   "metadata": {},
   "outputs": [],
   "source": [
    "@btime trap(h,(0.,1.),2^18)"
   ]
  },
  {
   "cell_type": "markdown",
   "id": "57f44f69-faf5-43f7-9851-164e6729c120",
   "metadata": {},
   "source": [
    "Apparently the `alt3` version is nearly optimal. I can't say I understand why it is almost a factor of 2 faster than `alt2`.  One could also try a more pedestrian version that doesn't use `struct`'s.  We should also do some more testing to see if the timing depends on the complexity of the function."
   ]
  },
  {
   "cell_type": "code",
   "execution_count": null,
   "id": "0b20ecc6-7724-4b6e-9a57-07e5f8f4e056",
   "metadata": {},
   "outputs": [],
   "source": []
  }
 ],
 "metadata": {
  "@webio": {
   "lastCommId": "77f08ad4ac8940cd8ab27b4702e92d5b",
   "lastKernelId": "0792c523-c080-4b69-9e19-1405d72de3c0"
  },
  "kernelspec": {
   "display_name": "Julia 1.10.4",
   "language": "julia",
   "name": "julia-1.10"
  },
  "language_info": {
   "file_extension": ".jl",
   "mimetype": "application/julia",
   "name": "julia",
   "version": "1.10.4"
  }
 },
 "nbformat": 4,
 "nbformat_minor": 5
}
