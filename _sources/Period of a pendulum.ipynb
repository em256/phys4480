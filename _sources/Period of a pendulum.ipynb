{
 "cells": [
  {
   "cell_type": "markdown",
   "id": "9458052c",
   "metadata": {},
   "source": [
    "*Note:  This notebook contains an interactive element which uses `interact.jl`.  That package does not work with `Jupyter Notebooks` version `7`, nor with `Jupyterlab`.  I imagine they will fix this issue in the near future.  Right now, to view the interactive elements click `open in NBClassic` and un-comment the relevant lines.  You will also need to install an extension.*"
   ]
  },
  {
   "cell_type": "markdown",
   "id": "3c90c2ed",
   "metadata": {},
   "source": [
    "# Period of a Pendulum"
   ]
  },
  {
   "cell_type": "markdown",
   "id": "5e69e4f3-366a-4ddf-a609-38ba62eb9296",
   "metadata": {},
   "source": [
    "We begin our exploration of *computational physics* with an example from mechanics.  We will consider the motion of a pendulum.  \n",
    "\n",
    "Imagine a pendulum of length $L$ is pulled up to make an angle $\\theta$ with respect the the vertical.  "
   ]
  },
  {
   "cell_type": "markdown",
   "id": "e47d3deb-76b4-4634-8810-0ec4765219f0",
   "metadata": {},
   "source": [
    "<img src=\"https://docs.google.com/drawings/d/e/2PACX-1vTwUJDECXEo0ZeyJ-i5zonaMAytMBHm8IfrIwfRnYMoiTKyvSUGirVm9lXpy63JJHaUsopfbYRRZ74J/pub?w=877&amp;h=718\">"
   ]
  },
  {
   "cell_type": "markdown",
   "id": "34e705f6-2d17-4afb-91ec-6f3cfdffd164",
   "metadata": {},
   "source": [
    "The component of the graviational force which is in the direction of motion is $F_\\parallel=-m g \\sin(\\theta)$.  The speed of the bob is $v=L d\\theta/dt$.  Thus we get equations of motion\n",
    "\n",
    "\\begin{align}\n",
    "\\frac{d \\theta}{dt}&= \\frac{v}{L} \\\\\n",
    "m \\frac{d v}{dt}&=-m g \\sin(\\theta)\n",
    "\\end{align}\n",
    "\n",
    "We know the pendulum will swing back and forth.  We want to calculate its period.\n",
    "\n",
    "The classic approach is to use energy arguments.  The kinetic energy of the pendulum is\n",
    "\\begin{equation}\n",
    "T=\\frac{1}{2}m v^2.\n",
    "\\end{equation}\n",
    "The potential energy is\n",
    "\\begin{equation}\n",
    "U=-mgL \\cos(\\theta).\n",
    "\\end{equation}\n",
    "Then the total energy is\n",
    "\\begin{equation}\n",
    "E=\\frac{1}{2}m v^2-mgL \\cos(\\theta).\n",
    "\\end{equation}\n",
    "Since the total energy is conserved we can solve this for the velocity:\n",
    "\\begin{equation}\n",
    "v = \\sqrt{\\frac{2 E}{m} +2 gL \\cos(\\theta)}\n",
    "\\end{equation}\n",
    "Our argument is slightly simpler if we note that the energy can be related to the maximum angle that the pendulum reaches, $\\theta_m$, so:\n",
    "\\begin{equation}\n",
    "v = \\sqrt{2 g L}\\sqrt{\\cos(\\theta)-\\cos(\\theta_m)}\n",
    "\\end{equation}\n",
    "Next we note that $v=Ld\\theta/dt$ and hence\n",
    "\\begin{equation}\n",
    "\\frac{d\\theta}{dt}=\n",
    "\\sqrt{\\frac{2g}{L}}\n",
    "\\sqrt{\\cos(\\theta)-\\cos(\\theta_m})\n",
    "\\end{equation}"
   ]
  },
  {
   "cell_type": "markdown",
   "id": "5699a3ab",
   "metadata": {},
   "source": [
    "We then note that a quarter period is the time it takes for the pendulum to rise from $\\theta=0$ to $\\theta=\\theta_m$, and hence\n",
    "\\begin{equation}\n",
    "\\frac{T}{4}=\\int_{t_0}^{t_m}\\!dt=\\sqrt{\\frac{L}{2g}}\\int_0^{\\theta_m}\\frac{d\\theta}{\\sqrt{\\cos(\\theta)-\\cos(\\theta_m)}}\n",
    "\\end{equation}"
   ]
  },
  {
   "cell_type": "markdown",
   "id": "86613987",
   "metadata": {},
   "source": [
    "This integral is an *elliptic integral*.  It has no closed form in terms of more elementary functions.  Thus we need to develop numerical methods to evaluate it.\n",
    "\n",
    "The task of evaluating integrals is known as *quadratures*."
   ]
  },
  {
   "cell_type": "markdown",
   "id": "e3f32e55",
   "metadata": {},
   "source": [
    "<div style=\"border: 2px solid white; border-radius: 10px; padding: 20px; background-color:white; color:black; height: 500px\" >\n",
    "</div>"
   ]
  },
  {
   "cell_type": "markdown",
   "id": "5a72b912",
   "metadata": {},
   "source": [
    "## Adimensionalizing"
   ]
  },
  {
   "cell_type": "markdown",
   "id": "ae974c21",
   "metadata": {},
   "source": [
    "A good first step in any numerical calculation is to *adimensionalize* your equations.  This is actually a good step in analytic work as well.\n",
    "\n",
    "We will learn how to systematically do this, but here I know that for small amplitudes the period of a pendulum is \n",
    "\\begin{equation}\n",
    "T_{0}=2\\pi \\sqrt{\\frac{L}{g}}.\n",
    "\\end{equation}\n",
    "This it makes sense for us to calculate\n",
    "\\begin{equation}\n",
    "\\bar T =\\frac{T}{T_0}=\\frac{\\sqrt{2}}{\\pi}\\int_0^{\\theta_m}\\frac{d\\theta}{\\sqrt{\\cos(\\theta)-\\cos(\\theta_m)}}\n",
    "\\end{equation}"
   ]
  },
  {
   "cell_type": "markdown",
   "id": "b6046759",
   "metadata": {},
   "source": [
    "The angle $\\theta_m$ is already dimensionless, so we can leave it as-is."
   ]
  },
  {
   "cell_type": "markdown",
   "id": "157ae7d8",
   "metadata": {},
   "source": [
    "<div style=\"border: 2px solid white; border-radius: 10px; padding: 20px; background-color:white; color:black; height: 500px\" >\n",
    "</div>"
   ]
  },
  {
   "cell_type": "markdown",
   "id": "594c9a9e",
   "metadata": {},
   "source": [
    "## Strategies"
   ]
  },
  {
   "cell_type": "markdown",
   "id": "795298e7",
   "metadata": {},
   "source": [
    "We have several strategies we could pursue now:\n",
    "\n",
    "1. Type into google \"Numerical Integration in Julia\".  Download the right package and do the integral.\n",
    "2. Write our own integrator.\n",
    "\n",
    "Both are useful.  The advantage of the package is that it will probably get us results sooner.  The advantage of writing our own is that we can tweak it to meet our needs.  Also, we will learn a lot from writing the integrator.\n",
    "\n",
    "We are going to try to walk the line here -- both giving you the skills to work with low-level algorithms -- and the ability to take advantage of high level packages.\n",
    "\n",
    "It is also worth noting that there is work involved with learning how to use a package.  Generally it will be less work than writing your own routines -- but that outlay should not be discounted."
   ]
  },
  {
   "cell_type": "markdown",
   "id": "1ede8cbe",
   "metadata": {},
   "source": [
    "<div style=\"border: 2px solid white; border-radius: 10px; padding: 20px; background-color:white; color:black; height: 500px\" >\n",
    "</div>"
   ]
  },
  {
   "cell_type": "markdown",
   "id": "66a7ff90",
   "metadata": {},
   "source": [
    "## Simple approaches to numerical quadratures"
   ]
  },
  {
   "cell_type": "markdown",
   "id": "0daba952",
   "metadata": {},
   "source": [
    "Reading: <a href=\"http://numerical.recipes/book.html\">Chapter 4 of Numerical Recipies</a>"
   ]
  },
  {
   "cell_type": "markdown",
   "id": "dc58752f",
   "metadata": {},
   "source": [
    "The basic idea with most quadrature approaches is to break the integral into discrete segments, and then approximate the integral on each of those segments.  One straightforward approach is the \"trapezoid rule\" where one breaks each segment into trapezoids:"
   ]
  },
  {
   "cell_type": "code",
   "execution_count": 1,
   "id": "213c25b1",
   "metadata": {},
   "outputs": [],
   "source": [
    "using Plots,LaTeXStrings #load in visualization software"
   ]
  },
  {
   "cell_type": "code",
   "execution_count": 2,
   "id": "9bc96bda",
   "metadata": {},
   "outputs": [],
   "source": [
    "# using Interact #uncomment for interactive content\n",
    "                 #only works in classic notebooks"
   ]
  },
  {
   "cell_type": "code",
   "execution_count": 3,
   "id": "6a5c3a55",
   "metadata": {},
   "outputs": [
    {
     "data": {
      "text/plain": [
       "showtrapezoids"
      ]
     },
     "execution_count": 3,
     "metadata": {},
     "output_type": "execute_result"
    }
   ],
   "source": [
    "\"\"\"\n",
    "    showtrapezoids(f,range=(0,1),n=5;opts...)\n",
    "\n",
    "Illustrates trapezoid rule by plotting the function `f` over the range specified by `range`.\n",
    "Show `n` trapezoids overlayed.  Passes on options `opts` to the plot command.\n",
    "\"\"\"\n",
    "function showtrapezoids(f,range=(0,1),n=5;opts...)\n",
    "    # define variables\n",
    "    xmin=range[1]\n",
    "    xmax=range[2]\n",
    "    dx=2*pi/50\n",
    "    # Create basic plot of function\n",
    "    plt=plot(f,xmin,xmax,xlabel=\"x\",ylabel=\"f\",legend=false,show=false,opts...)\n",
    "    #\n",
    "    # Draw trapezoids\n",
    "    #\n",
    "    function trapezoid(j)\n",
    "        width=(xmax-xmin)/n\n",
    "        x1=(j-1)*width\n",
    "        x2=j*width\n",
    "        y1=f(x1)\n",
    "        y2=f(x2)\n",
    "        Shape([x1, x1, x2, x2],[0,y1,y2,0])\n",
    "    end\n",
    "    for j in 1:n\n",
    "        plot!(trapezoid(j),opacity=0.2)\n",
    "    end\n",
    "    plt\n",
    "end"
   ]
  },
  {
   "cell_type": "code",
   "execution_count": 6,
   "id": "192ca2d7-c778-4598-b9d5-a59e24a01d13",
   "metadata": {},
   "outputs": [
    {
     "data": {
      "image/png": "[encoded data removed]",
      "image/svg+xml": [
       "<?xml version=\"1.0\" encoding=\"utf-8\"?>\n",
       "<svg xmlns=\"http://www.w3.org/2000/svg\" xmlns:xlink=\"http://www.w3.org/1999/xlink\" width=\"600\" height=\"400\" viewBox=\"0 0 2400 1600\">\n",
       "<defs>\n",
       "  <clipPath id=\"clip150\">\n",
       "    <rect x=\"0\" y=\"0\" width=\"2400\" height=\"1600\"/>\n",
       "  </clipPath>\n",
       "</defs>\n",
       "<path clip-path=\"url(#clip150)\" d=\"M0 1600 L2400 1600 L2400 8.88178e-14 L0 8.88178e-14  Z\" fill=\"#ffffff\" fill-rule=\"evenodd\" fill-opacity=\"1\"/>\n",
       "<defs>\n",
       "  <clipPath id=\"clip151\">\n",
       "    <rect x=\"480\" y=\"0\" width=\"1681\" height=\"1600\"/>\n",
       "  </clipPath>\n",
       "</defs>\n",
       "<path clip-path=\"url(#clip150)\" d=\"M219.866 1423.18 L2352.76 1423.18 L2352.76 47.2441 L219.866 47.2441  Z\" fill=\"#ffffff\" fill-rule=\"evenodd\" fill-opacity=\"1\"/>\n",
       "<defs>\n",
       "  <clipPath id=\"clip152\">\n",
       "    <rect x=\"219\" y=\"47\" width=\"2134\" height=\"1377\"/>\n",
       "  </clipPath>\n",
       "</defs>\n",
       "<polyline clip-path=\"url(#clip152)\" style=\"stroke:#000000; stroke-linecap:round; stroke-linejoin:round; stroke-width:2; stroke-opacity:0.1; fill:none\" points=\"280.231,1423.18 280.231,47.2441 \"/>\n",
       "<polyline clip-path=\"url(#clip152)\" style=\"stroke:#000000; stroke-linecap:round; stroke-linejoin:round; stroke-width:2; stroke-opacity:0.1; fill:none\" points=\"792.623,1423.18 792.623,47.2441 \"/>\n",
       "<polyline clip-path=\"url(#clip152)\" style=\"stroke:#000000; stroke-linecap:round; stroke-linejoin:round; stroke-width:2; stroke-opacity:0.1; fill:none\" points=\"1305.02,1423.18 1305.02,47.2441 \"/>\n",
       "<polyline clip-path=\"url(#clip152)\" style=\"stroke:#000000; stroke-linecap:round; stroke-linejoin:round; stroke-width:2; stroke-opacity:0.1; fill:none\" points=\"1817.41,1423.18 1817.41,47.2441 \"/>\n",
       "<polyline clip-path=\"url(#clip152)\" style=\"stroke:#000000; stroke-linecap:round; stroke-linejoin:round; stroke-width:2; stroke-opacity:0.1; fill:none\" points=\"2329.8,1423.18 2329.8,47.2441 \"/>\n",
       "<polyline clip-path=\"url(#clip150)\" style=\"stroke:#000000; stroke-linecap:round; stroke-linejoin:round; stroke-width:4; stroke-opacity:1; fill:none\" points=\"219.866,1423.18 2352.76,1423.18 \"/>\n",
       "<polyline clip-path=\"url(#clip150)\" style=\"stroke:#000000; stroke-linecap:round; stroke-linejoin:round; stroke-width:4; stroke-opacity:1; fill:none\" points=\"280.231,1423.18 280.231,1404.28 \"/>\n",
       "<polyline clip-path=\"url(#clip150)\" style=\"stroke:#000000; stroke-linecap:round; stroke-linejoin:round; stroke-width:4; stroke-opacity:1; fill:none\" points=\"792.623,1423.18 792.623,1404.28 \"/>\n",
       "<polyline clip-path=\"url(#clip150)\" style=\"stroke:#000000; stroke-linecap:round; stroke-linejoin:round; stroke-width:4; stroke-opacity:1; fill:none\" points=\"1305.02,1423.18 1305.02,1404.28 \"/>\n",
       "<polyline clip-path=\"url(#clip150)\" style=\"stroke:#000000; stroke-linecap:round; stroke-linejoin:round; stroke-width:4; stroke-opacity:1; fill:none\" points=\"1817.41,1423.18 1817.41,1404.28 \"/>\n",
       "<polyline clip-path=\"url(#clip150)\" style=\"stroke:#000000; stroke-linecap:round; stroke-linejoin:round; stroke-width:4; stroke-opacity:1; fill:none\" points=\"2329.8,1423.18 2329.8,1404.28 \"/>\n",
       "<path clip-path=\"url(#clip150)\" d=\"M257.615 1454.1 Q254.004 1454.1 252.176 1457.66 Q250.37 1461.2 250.37 1468.33 Q250.37 1475.44 252.176 1479.01 Q254.004 1482.55 257.615 1482.55 Q261.25 1482.55 263.055 1479.01 Q264.884 1475.44 264.884 1468.33 Q264.884 1461.2 263.055 1457.66 Q261.25 1454.1 257.615 1454.1 M257.615 1450.39 Q263.426 1450.39 266.481 1455 Q269.56 1459.58 269.56 1468.33 Q269.56 1477.06 266.481 1481.67 Q263.426 1486.25 257.615 1486.25 Q251.805 1486.25 248.727 1481.67 Q245.671 1477.06 245.671 1468.33 Q245.671 1459.58 248.727 1455 Q251.805 1450.39 257.615 1450.39 Z\" fill=\"#000000\" fill-rule=\"nonzero\" fill-opacity=\"1\" /><path clip-path=\"url(#clip150)\" d=\"M277.777 1479.7 L282.662 1479.7 L282.662 1485.58 L277.777 1485.58 L277.777 1479.7 Z\" fill=\"#000000\" fill-rule=\"nonzero\" fill-opacity=\"1\" /><path clip-path=\"url(#clip150)\" d=\"M302.847 1454.1 Q299.236 1454.1 297.407 1457.66 Q295.601 1461.2 295.601 1468.33 Q295.601 1475.44 297.407 1479.01 Q299.236 1482.55 302.847 1482.55 Q306.481 1482.55 308.286 1479.01 Q310.115 1475.44 310.115 1468.33 Q310.115 1461.2 308.286 1457.66 Q306.481 1454.1 302.847 1454.1 M302.847 1450.39 Q308.657 1450.39 311.712 1455 Q314.791 1459.58 314.791 1468.33 Q314.791 1477.06 311.712 1481.67 Q308.657 1486.25 302.847 1486.25 Q297.037 1486.25 293.958 1481.67 Q290.902 1477.06 290.902 1468.33 Q290.902 1459.58 293.958 1455 Q297.037 1450.39 302.847 1450.39 Z\" fill=\"#000000\" fill-rule=\"nonzero\" fill-opacity=\"1\" /><path clip-path=\"url(#clip150)\" d=\"M770.806 1454.1 Q767.195 1454.1 765.367 1457.66 Q763.561 1461.2 763.561 1468.33 Q763.561 1475.44 765.367 1479.01 Q767.195 1482.55 770.806 1482.55 Q774.441 1482.55 776.246 1479.01 Q778.075 1475.44 778.075 1468.33 Q778.075 1461.2 776.246 1457.66 Q774.441 1454.1 770.806 1454.1 M770.806 1450.39 Q776.617 1450.39 779.672 1455 Q782.751 1459.58 782.751 1468.33 Q782.751 1477.06 779.672 1481.67 Q776.617 1486.25 770.806 1486.25 Q764.996 1486.25 761.918 1481.67 Q758.862 1477.06 758.862 1468.33 Q758.862 1459.58 761.918 1455 Q764.996 1450.39 770.806 1450.39 Z\" fill=\"#000000\" fill-rule=\"nonzero\" fill-opacity=\"1\" /><path clip-path=\"url(#clip150)\" d=\"M790.968 1479.7 L795.853 1479.7 L795.853 1485.58 L790.968 1485.58 L790.968 1479.7 Z\" fill=\"#000000\" fill-rule=\"nonzero\" fill-opacity=\"1\" /><path clip-path=\"url(#clip150)\" d=\"M810.065 1481.64 L826.385 1481.64 L826.385 1485.58 L804.44 1485.58 L804.44 1481.64 Q807.103 1478.89 811.686 1474.26 Q816.292 1469.61 817.473 1468.27 Q819.718 1465.74 820.598 1464.01 Q821.501 1462.25 821.501 1460.56 Q821.501 1457.8 819.556 1456.07 Q817.635 1454.33 814.533 1454.33 Q812.334 1454.33 809.88 1455.09 Q807.45 1455.86 804.672 1457.41 L804.672 1452.69 Q807.496 1451.55 809.95 1450.97 Q812.403 1450.39 814.44 1450.39 Q819.811 1450.39 823.005 1453.08 Q826.2 1455.77 826.2 1460.26 Q826.2 1462.39 825.389 1464.31 Q824.602 1466.2 822.496 1468.8 Q821.917 1469.47 818.815 1472.69 Q815.714 1475.88 810.065 1481.64 Z\" fill=\"#000000\" fill-rule=\"nonzero\" fill-opacity=\"1\" /><path clip-path=\"url(#clip150)\" d=\"M1282.16 1454.1 Q1278.55 1454.1 1276.72 1457.66 Q1274.91 1461.2 1274.91 1468.33 Q1274.91 1475.44 1276.72 1479.01 Q1278.55 1482.55 1282.16 1482.55 Q1285.79 1482.55 1287.6 1479.01 Q1289.43 1475.44 1289.43 1468.33 Q1289.43 1461.2 1287.6 1457.66 Q1285.79 1454.1 1282.16 1454.1 M1282.16 1450.39 Q1287.97 1450.39 1291.02 1455 Q1294.1 1459.58 1294.1 1468.33 Q1294.1 1477.06 1291.02 1481.67 Q1287.97 1486.25 1282.16 1486.25 Q1276.35 1486.25 1273.27 1481.67 Q1270.21 1477.06 1270.21 1468.33 Q1270.21 1459.58 1273.27 1455 Q1276.35 1450.39 1282.16 1450.39 Z\" fill=\"#000000\" fill-rule=\"nonzero\" fill-opacity=\"1\" /><path clip-path=\"url(#clip150)\" d=\"M1302.32 1479.7 L1307.2 1479.7 L1307.2 1485.58 L1302.32 1485.58 L1302.32 1479.7 Z\" fill=\"#000000\" fill-rule=\"nonzero\" fill-opacity=\"1\" /><path clip-path=\"url(#clip150)\" d=\"M1330.24 1455.09 L1318.43 1473.54 L1330.24 1473.54 L1330.24 1455.09 M1329.01 1451.02 L1334.89 1451.02 L1334.89 1473.54 L1339.82 1473.54 L1339.82 1477.43 L1334.89 1477.43 L1334.89 1485.58 L1330.24 1485.58 L1330.24 1477.43 L1314.63 1477.43 L1314.63 1472.92 L1329.01 1451.02 Z\" fill=\"#000000\" fill-rule=\"nonzero\" fill-opacity=\"1\" /><path clip-path=\"url(#clip150)\" d=\"M1794.71 1454.1 Q1791.1 1454.1 1789.27 1457.66 Q1787.47 1461.2 1787.47 1468.33 Q1787.47 1475.44 1789.27 1479.01 Q1791.1 1482.55 1794.71 1482.55 Q1798.35 1482.55 1800.15 1479.01 Q1801.98 1475.44 1801.98 1468.33 Q1801.98 1461.2 1800.15 1457.66 Q1798.35 1454.1 1794.71 1454.1 M1794.71 1450.39 Q1800.52 1450.39 1803.58 1455 Q1806.66 1459.58 1806.66 1468.33 Q1806.66 1477.06 1803.58 1481.67 Q1800.52 1486.25 1794.71 1486.25 Q1788.9 1486.25 1785.82 1481.67 Q1782.77 1477.06 1782.77 1468.33 Q1782.77 1459.58 1785.82 1455 Q1788.9 1450.39 1794.71 1450.39 Z\" fill=\"#000000\" fill-rule=\"nonzero\" fill-opacity=\"1\" /><path clip-path=\"url(#clip150)\" d=\"M1814.87 1479.7 L1819.76 1479.7 L1819.76 1485.58 L1814.87 1485.58 L1814.87 1479.7 Z\" fill=\"#000000\" fill-rule=\"nonzero\" fill-opacity=\"1\" /><path clip-path=\"url(#clip150)\" d=\"M1840.52 1466.44 Q1837.37 1466.44 1835.52 1468.59 Q1833.69 1470.74 1833.69 1474.49 Q1833.69 1478.22 1835.52 1480.39 Q1837.37 1482.55 1840.52 1482.55 Q1843.67 1482.55 1845.5 1480.39 Q1847.35 1478.22 1847.35 1474.49 Q1847.35 1470.74 1845.5 1468.59 Q1843.67 1466.44 1840.52 1466.44 M1849.8 1451.78 L1849.8 1456.04 Q1848.04 1455.21 1846.24 1454.77 Q1844.46 1454.33 1842.7 1454.33 Q1838.07 1454.33 1835.61 1457.45 Q1833.18 1460.58 1832.84 1466.9 Q1834.2 1464.89 1836.26 1463.82 Q1838.32 1462.73 1840.8 1462.73 Q1846.01 1462.73 1849.02 1465.9 Q1852.05 1469.05 1852.05 1474.49 Q1852.05 1479.82 1848.9 1483.03 Q1845.75 1486.25 1840.52 1486.25 Q1834.53 1486.25 1831.35 1481.67 Q1828.18 1477.06 1828.18 1468.33 Q1828.18 1460.14 1832.07 1455.28 Q1835.96 1450.39 1842.51 1450.39 Q1844.27 1450.39 1846.05 1450.74 Q1847.86 1451.09 1849.8 1451.78 Z\" fill=\"#000000\" fill-rule=\"nonzero\" fill-opacity=\"1\" /><path clip-path=\"url(#clip150)\" d=\"M2307.23 1454.1 Q2303.62 1454.1 2301.79 1457.66 Q2299.99 1461.2 2299.99 1468.33 Q2299.99 1475.44 2301.79 1479.01 Q2303.62 1482.55 2307.23 1482.55 Q2310.87 1482.55 2312.67 1479.01 Q2314.5 1475.44 2314.5 1468.33 Q2314.5 1461.2 2312.67 1457.66 Q2310.87 1454.1 2307.23 1454.1 M2307.23 1450.39 Q2313.04 1450.39 2316.1 1455 Q2319.18 1459.58 2319.18 1468.33 Q2319.18 1477.06 2316.1 1481.67 Q2313.04 1486.25 2307.23 1486.25 Q2301.42 1486.25 2298.34 1481.67 Q2295.29 1477.06 2295.29 1468.33 Q2295.29 1459.58 2298.34 1455 Q2301.42 1450.39 2307.23 1450.39 Z\" fill=\"#000000\" fill-rule=\"nonzero\" fill-opacity=\"1\" /><path clip-path=\"url(#clip150)\" d=\"M2327.39 1479.7 L2332.28 1479.7 L2332.28 1485.58 L2327.39 1485.58 L2327.39 1479.7 Z\" fill=\"#000000\" fill-rule=\"nonzero\" fill-opacity=\"1\" /><path clip-path=\"url(#clip150)\" d=\"M2352.46 1469.17 Q2349.13 1469.17 2347.21 1470.95 Q2345.31 1472.73 2345.31 1475.86 Q2345.31 1478.98 2347.21 1480.77 Q2349.13 1482.55 2352.46 1482.55 Q2355.8 1482.55 2357.72 1480.77 Q2359.64 1478.96 2359.64 1475.86 Q2359.64 1472.73 2357.72 1470.95 Q2355.82 1469.17 2352.46 1469.17 M2347.79 1467.18 Q2344.78 1466.44 2343.09 1464.38 Q2341.42 1462.32 2341.42 1459.35 Q2341.42 1455.21 2344.36 1452.8 Q2347.32 1450.39 2352.46 1450.39 Q2357.62 1450.39 2360.56 1452.8 Q2363.5 1455.21 2363.5 1459.35 Q2363.5 1462.32 2361.81 1464.38 Q2360.15 1466.44 2357.16 1467.18 Q2360.54 1467.96 2362.42 1470.26 Q2364.31 1472.55 2364.31 1475.86 Q2364.31 1480.88 2361.24 1483.57 Q2358.18 1486.25 2352.46 1486.25 Q2346.74 1486.25 2343.67 1483.57 Q2340.61 1480.88 2340.61 1475.86 Q2340.61 1472.55 2342.51 1470.26 Q2344.41 1467.96 2347.79 1467.18 M2346.07 1459.79 Q2346.07 1462.48 2347.74 1463.98 Q2349.43 1465.49 2352.46 1465.49 Q2355.47 1465.49 2357.16 1463.98 Q2358.87 1462.48 2358.87 1459.79 Q2358.87 1457.11 2357.16 1455.6 Q2355.47 1454.1 2352.46 1454.1 Q2349.43 1454.1 2347.74 1455.6 Q2346.07 1457.11 2346.07 1459.79 Z\" fill=\"#000000\" fill-rule=\"nonzero\" fill-opacity=\"1\" /><path clip-path=\"url(#clip150)\" d=\"M1302.93 1532.4 L1290.04 1549.74 L1303.59 1568.04 L1296.69 1568.04 L1286.31 1554.04 L1275.93 1568.04 L1269.03 1568.04 L1282.87 1549.39 L1270.21 1532.4 L1277.11 1532.4 L1286.57 1545.1 L1296.02 1532.4 L1302.93 1532.4 Z\" fill=\"#000000\" fill-rule=\"nonzero\" fill-opacity=\"1\" /><polyline clip-path=\"url(#clip152)\" style=\"stroke:#000000; stroke-linecap:round; stroke-linejoin:round; stroke-width:2; stroke-opacity:0.1; fill:none\" points=\"219.866,1384.24 2352.76,1384.24 \"/>\n",
       "<polyline clip-path=\"url(#clip152)\" style=\"stroke:#000000; stroke-linecap:round; stroke-linejoin:round; stroke-width:2; stroke-opacity:0.1; fill:none\" points=\"219.866,1182.73 2352.76,1182.73 \"/>\n",
       "<polyline clip-path=\"url(#clip152)\" style=\"stroke:#000000; stroke-linecap:round; stroke-linejoin:round; stroke-width:2; stroke-opacity:0.1; fill:none\" points=\"219.866,981.215 2352.76,981.215 \"/>\n",
       "<polyline clip-path=\"url(#clip152)\" style=\"stroke:#000000; stroke-linecap:round; stroke-linejoin:round; stroke-width:2; stroke-opacity:0.1; fill:none\" points=\"219.866,779.704 2352.76,779.704 \"/>\n",
       "<polyline clip-path=\"url(#clip152)\" style=\"stroke:#000000; stroke-linecap:round; stroke-linejoin:round; stroke-width:2; stroke-opacity:0.1; fill:none\" points=\"219.866,578.192 2352.76,578.192 \"/>\n",
       "<polyline clip-path=\"url(#clip152)\" style=\"stroke:#000000; stroke-linecap:round; stroke-linejoin:round; stroke-width:2; stroke-opacity:0.1; fill:none\" points=\"219.866,376.681 2352.76,376.681 \"/>\n",
       "<polyline clip-path=\"url(#clip152)\" style=\"stroke:#000000; stroke-linecap:round; stroke-linejoin:round; stroke-width:2; stroke-opacity:0.1; fill:none\" points=\"219.866,175.17 2352.76,175.17 \"/>\n",
       "<polyline clip-path=\"url(#clip150)\" style=\"stroke:#000000; stroke-linecap:round; stroke-linejoin:round; stroke-width:4; stroke-opacity:1; fill:none\" points=\"219.866,1423.18 219.866,47.2441 \"/>\n",
       "<polyline clip-path=\"url(#clip150)\" style=\"stroke:#000000; stroke-linecap:round; stroke-linejoin:round; stroke-width:4; stroke-opacity:1; fill:none\" points=\"219.866,1384.24 238.764,1384.24 \"/>\n",
       "<polyline clip-path=\"url(#clip150)\" style=\"stroke:#000000; stroke-linecap:round; stroke-linejoin:round; stroke-width:4; stroke-opacity:1; fill:none\" points=\"219.866,1182.73 238.764,1182.73 \"/>\n",
       "<polyline clip-path=\"url(#clip150)\" style=\"stroke:#000000; stroke-linecap:round; stroke-linejoin:round; stroke-width:4; stroke-opacity:1; fill:none\" points=\"219.866,981.215 238.764,981.215 \"/>\n",
       "<polyline clip-path=\"url(#clip150)\" style=\"stroke:#000000; stroke-linecap:round; stroke-linejoin:round; stroke-width:4; stroke-opacity:1; fill:none\" points=\"219.866,779.704 238.764,779.704 \"/>\n",
       "<polyline clip-path=\"url(#clip150)\" style=\"stroke:#000000; stroke-linecap:round; stroke-linejoin:round; stroke-width:4; stroke-opacity:1; fill:none\" points=\"219.866,578.192 238.764,578.192 \"/>\n",
       "<polyline clip-path=\"url(#clip150)\" style=\"stroke:#000000; stroke-linecap:round; stroke-linejoin:round; stroke-width:4; stroke-opacity:1; fill:none\" points=\"219.866,376.681 238.764,376.681 \"/>\n",
       "<polyline clip-path=\"url(#clip150)\" style=\"stroke:#000000; stroke-linecap:round; stroke-linejoin:round; stroke-width:4; stroke-opacity:1; fill:none\" points=\"219.866,175.17 238.764,175.17 \"/>\n",
       "<path clip-path=\"url(#clip150)\" d=\"M126.691 1370.04 Q123.08 1370.04 121.251 1373.6 Q119.445 1377.14 119.445 1384.27 Q119.445 1391.38 121.251 1394.94 Q123.08 1398.49 126.691 1398.49 Q130.325 1398.49 132.13 1394.94 Q133.959 1391.38 133.959 1384.27 Q133.959 1377.14 132.13 1373.6 Q130.325 1370.04 126.691 1370.04 M126.691 1366.33 Q132.501 1366.33 135.556 1370.94 Q138.635 1375.52 138.635 1384.27 Q138.635 1393 135.556 1397.61 Q132.501 1402.19 126.691 1402.19 Q120.88 1402.19 117.802 1397.61 Q114.746 1393 114.746 1384.27 Q114.746 1375.52 117.802 1370.94 Q120.88 1366.33 126.691 1366.33 Z\" fill=\"#000000\" fill-rule=\"nonzero\" fill-opacity=\"1\" /><path clip-path=\"url(#clip150)\" d=\"M146.853 1395.64 L151.737 1395.64 L151.737 1401.52 L146.853 1401.52 L146.853 1395.64 Z\" fill=\"#000000\" fill-rule=\"nonzero\" fill-opacity=\"1\" /><path clip-path=\"url(#clip150)\" d=\"M171.922 1370.04 Q168.311 1370.04 166.482 1373.6 Q164.677 1377.14 164.677 1384.27 Q164.677 1391.38 166.482 1394.94 Q168.311 1398.49 171.922 1398.49 Q175.556 1398.49 177.362 1394.94 Q179.19 1391.38 179.19 1384.27 Q179.19 1377.14 177.362 1373.6 Q175.556 1370.04 171.922 1370.04 M171.922 1366.33 Q177.732 1366.33 180.788 1370.94 Q183.866 1375.52 183.866 1384.27 Q183.866 1393 180.788 1397.61 Q177.732 1402.19 171.922 1402.19 Q166.112 1402.19 163.033 1397.61 Q159.978 1393 159.978 1384.27 Q159.978 1375.52 163.033 1370.94 Q166.112 1366.33 171.922 1366.33 Z\" fill=\"#000000\" fill-rule=\"nonzero\" fill-opacity=\"1\" /><path clip-path=\"url(#clip150)\" d=\"M128.288 1168.53 Q124.677 1168.53 122.848 1172.09 Q121.043 1175.63 121.043 1182.76 Q121.043 1189.87 122.848 1193.43 Q124.677 1196.97 128.288 1196.97 Q131.922 1196.97 133.728 1193.43 Q135.556 1189.87 135.556 1182.76 Q135.556 1175.63 133.728 1172.09 Q131.922 1168.53 128.288 1168.53 M128.288 1164.82 Q134.098 1164.82 137.154 1169.43 Q140.232 1174.01 140.232 1182.76 Q140.232 1191.49 137.154 1196.09 Q134.098 1200.68 128.288 1200.68 Q122.478 1200.68 119.399 1196.09 Q116.343 1191.49 116.343 1182.76 Q116.343 1174.01 119.399 1169.43 Q122.478 1164.82 128.288 1164.82 Z\" fill=\"#000000\" fill-rule=\"nonzero\" fill-opacity=\"1\" /><path clip-path=\"url(#clip150)\" d=\"M148.45 1194.13 L153.334 1194.13 L153.334 1200.01 L148.45 1200.01 L148.45 1194.13 Z\" fill=\"#000000\" fill-rule=\"nonzero\" fill-opacity=\"1\" /><path clip-path=\"url(#clip150)\" d=\"M167.547 1196.07 L183.866 1196.07 L183.866 1200.01 L161.922 1200.01 L161.922 1196.07 Q164.584 1193.32 169.167 1188.69 Q173.774 1184.03 174.954 1182.69 Q177.2 1180.17 178.079 1178.43 Q178.982 1176.67 178.982 1174.98 Q178.982 1172.23 177.038 1170.49 Q175.116 1168.76 172.014 1168.76 Q169.815 1168.76 167.362 1169.52 Q164.931 1170.28 162.153 1171.84 L162.153 1167.11 Q164.977 1165.98 167.431 1165.4 Q169.885 1164.82 171.922 1164.82 Q177.292 1164.82 180.487 1167.51 Q183.681 1170.19 183.681 1174.68 Q183.681 1176.81 182.871 1178.73 Q182.084 1180.63 179.977 1183.22 Q179.399 1183.9 176.297 1187.11 Q173.195 1190.31 167.547 1196.07 Z\" fill=\"#000000\" fill-rule=\"nonzero\" fill-opacity=\"1\" /><path clip-path=\"url(#clip150)\" d=\"M126.205 967.014 Q122.593 967.014 120.765 970.579 Q118.959 974.121 118.959 981.25 Q118.959 988.357 120.765 991.921 Q122.593 995.463 126.205 995.463 Q129.839 995.463 131.644 991.921 Q133.473 988.357 133.473 981.25 Q133.473 974.121 131.644 970.579 Q129.839 967.014 126.205 967.014 M126.205 963.31 Q132.015 963.31 135.07 967.917 Q138.149 972.5 138.149 981.25 Q138.149 989.977 135.07 994.583 Q132.015 999.167 126.205 999.167 Q120.394 999.167 117.316 994.583 Q114.26 989.977 114.26 981.25 Q114.26 972.5 117.316 967.917 Q120.394 963.31 126.205 963.31 Z\" fill=\"#000000\" fill-rule=\"nonzero\" fill-opacity=\"1\" /><path clip-path=\"url(#clip150)\" d=\"M146.366 992.616 L151.251 992.616 L151.251 998.495 L146.366 998.495 L146.366 992.616 Z\" fill=\"#000000\" fill-rule=\"nonzero\" fill-opacity=\"1\" /><path clip-path=\"url(#clip150)\" d=\"M174.283 968.009 L162.477 986.458 L174.283 986.458 L174.283 968.009 M173.056 963.935 L178.936 963.935 L178.936 986.458 L183.866 986.458 L183.866 990.347 L178.936 990.347 L178.936 998.495 L174.283 998.495 L174.283 990.347 L158.681 990.347 L158.681 985.833 L173.056 963.935 Z\" fill=\"#000000\" fill-rule=\"nonzero\" fill-opacity=\"1\" /><path clip-path=\"url(#clip150)\" d=\"M126.529 765.503 Q122.918 765.503 121.089 769.067 Q119.283 772.609 119.283 779.739 Q119.283 786.845 121.089 790.41 Q122.918 793.952 126.529 793.952 Q130.163 793.952 131.968 790.41 Q133.797 786.845 133.797 779.739 Q133.797 772.609 131.968 769.067 Q130.163 765.503 126.529 765.503 M126.529 761.799 Q132.339 761.799 135.394 766.405 Q138.473 770.989 138.473 779.739 Q138.473 788.465 135.394 793.072 Q132.339 797.655 126.529 797.655 Q120.718 797.655 117.64 793.072 Q114.584 788.465 114.584 779.739 Q114.584 770.989 117.64 766.405 Q120.718 761.799 126.529 761.799 Z\" fill=\"#000000\" fill-rule=\"nonzero\" fill-opacity=\"1\" /><path clip-path=\"url(#clip150)\" d=\"M146.691 791.104 L151.575 791.104 L151.575 796.984 L146.691 796.984 L146.691 791.104 Z\" fill=\"#000000\" fill-rule=\"nonzero\" fill-opacity=\"1\" /><path clip-path=\"url(#clip150)\" d=\"M172.339 777.841 Q169.19 777.841 167.339 779.993 Q165.51 782.146 165.51 785.896 Q165.51 789.623 167.339 791.799 Q169.19 793.952 172.339 793.952 Q175.487 793.952 177.315 791.799 Q179.167 789.623 179.167 785.896 Q179.167 782.146 177.315 779.993 Q175.487 777.841 172.339 777.841 M181.621 763.188 L181.621 767.447 Q179.862 766.614 178.056 766.174 Q176.274 765.734 174.514 765.734 Q169.885 765.734 167.431 768.859 Q165.001 771.984 164.653 778.303 Q166.019 776.29 168.079 775.225 Q170.139 774.137 172.616 774.137 Q177.825 774.137 180.834 777.308 Q183.866 780.456 183.866 785.896 Q183.866 791.22 180.718 794.438 Q177.57 797.655 172.339 797.655 Q166.343 797.655 163.172 793.072 Q160.001 788.465 160.001 779.739 Q160.001 771.544 163.89 766.683 Q167.778 761.799 174.329 761.799 Q176.089 761.799 177.871 762.146 Q179.676 762.493 181.621 763.188 Z\" fill=\"#000000\" fill-rule=\"nonzero\" fill-opacity=\"1\" /><path clip-path=\"url(#clip150)\" d=\"M126.783 563.991 Q123.172 563.991 121.343 567.556 Q119.538 571.098 119.538 578.227 Q119.538 585.334 121.343 588.898 Q123.172 592.44 126.783 592.44 Q130.417 592.44 132.223 588.898 Q134.052 585.334 134.052 578.227 Q134.052 571.098 132.223 567.556 Q130.417 563.991 126.783 563.991 M126.783 560.287 Q132.593 560.287 135.649 564.894 Q138.728 569.477 138.728 578.227 Q138.728 586.954 135.649 591.56 Q132.593 596.144 126.783 596.144 Q120.973 596.144 117.894 591.56 Q114.839 586.954 114.839 578.227 Q114.839 569.477 117.894 564.894 Q120.973 560.287 126.783 560.287 Z\" fill=\"#000000\" fill-rule=\"nonzero\" fill-opacity=\"1\" /><path clip-path=\"url(#clip150)\" d=\"M146.945 589.593 L151.829 589.593 L151.829 595.472 L146.945 595.472 L146.945 589.593 Z\" fill=\"#000000\" fill-rule=\"nonzero\" fill-opacity=\"1\" /><path clip-path=\"url(#clip150)\" d=\"M172.014 579.061 Q168.681 579.061 166.76 580.843 Q164.862 582.625 164.862 585.75 Q164.862 588.875 166.76 590.658 Q168.681 592.44 172.014 592.44 Q175.348 592.44 177.269 590.658 Q179.19 588.852 179.19 585.75 Q179.19 582.625 177.269 580.843 Q175.371 579.061 172.014 579.061 M167.339 577.07 Q164.329 576.329 162.64 574.269 Q160.973 572.209 160.973 569.246 Q160.973 565.102 163.913 562.695 Q166.876 560.287 172.014 560.287 Q177.176 560.287 180.116 562.695 Q183.056 565.102 183.056 569.246 Q183.056 572.209 181.366 574.269 Q179.7 576.329 176.714 577.07 Q180.093 577.857 181.968 580.148 Q183.866 582.44 183.866 585.75 Q183.866 590.773 180.788 593.459 Q177.732 596.144 172.014 596.144 Q166.297 596.144 163.218 593.459 Q160.163 590.773 160.163 585.75 Q160.163 582.44 162.061 580.148 Q163.959 577.857 167.339 577.07 M165.626 569.686 Q165.626 572.371 167.292 573.875 Q168.982 575.38 172.014 575.38 Q175.024 575.38 176.714 573.875 Q178.426 572.371 178.426 569.686 Q178.426 567 176.714 565.496 Q175.024 563.991 172.014 563.991 Q168.982 563.991 167.292 565.496 Q165.626 567 165.626 569.686 Z\" fill=\"#000000\" fill-rule=\"nonzero\" fill-opacity=\"1\" /><path clip-path=\"url(#clip150)\" d=\"M117.501 390.026 L125.14 390.026 L125.14 363.66 L116.83 365.327 L116.83 361.068 L125.093 359.401 L129.769 359.401 L129.769 390.026 L137.408 390.026 L137.408 393.961 L117.501 393.961 L117.501 390.026 Z\" fill=\"#000000\" fill-rule=\"nonzero\" fill-opacity=\"1\" /><path clip-path=\"url(#clip150)\" d=\"M146.853 388.081 L151.737 388.081 L151.737 393.961 L146.853 393.961 L146.853 388.081 Z\" fill=\"#000000\" fill-rule=\"nonzero\" fill-opacity=\"1\" /><path clip-path=\"url(#clip150)\" d=\"M171.922 362.48 Q168.311 362.48 166.482 366.045 Q164.677 369.586 164.677 376.716 Q164.677 383.822 166.482 387.387 Q168.311 390.929 171.922 390.929 Q175.556 390.929 177.362 387.387 Q179.19 383.822 179.19 376.716 Q179.19 369.586 177.362 366.045 Q175.556 362.48 171.922 362.48 M171.922 358.776 Q177.732 358.776 180.788 363.383 Q183.866 367.966 183.866 376.716 Q183.866 385.443 180.788 390.049 Q177.732 394.632 171.922 394.632 Q166.112 394.632 163.033 390.049 Q159.978 385.443 159.978 376.716 Q159.978 367.966 163.033 363.383 Q166.112 358.776 171.922 358.776 Z\" fill=\"#000000\" fill-rule=\"nonzero\" fill-opacity=\"1\" /><path clip-path=\"url(#clip150)\" d=\"M119.098 188.514 L126.737 188.514 L126.737 162.149 L118.427 163.815 L118.427 159.556 L126.691 157.89 L131.367 157.89 L131.367 188.514 L139.005 188.514 L139.005 192.45 L119.098 192.45 L119.098 188.514 Z\" fill=\"#000000\" fill-rule=\"nonzero\" fill-opacity=\"1\" /><path clip-path=\"url(#clip150)\" d=\"M148.45 186.57 L153.334 186.57 L153.334 192.45 L148.45 192.45 L148.45 186.57 Z\" fill=\"#000000\" fill-rule=\"nonzero\" fill-opacity=\"1\" /><path clip-path=\"url(#clip150)\" d=\"M167.547 188.514 L183.866 188.514 L183.866 192.45 L161.922 192.45 L161.922 188.514 Q164.584 185.76 169.167 181.13 Q173.774 176.477 174.954 175.135 Q177.2 172.612 178.079 170.876 Q178.982 169.116 178.982 167.427 Q178.982 164.672 177.038 162.936 Q175.116 161.2 172.014 161.2 Q169.815 161.2 167.362 161.964 Q164.931 162.728 162.153 164.278 L162.153 159.556 Q164.977 158.422 167.431 157.843 Q169.885 157.265 171.922 157.265 Q177.292 157.265 180.487 159.95 Q183.681 162.635 183.681 167.126 Q183.681 169.255 182.871 171.177 Q182.084 173.075 179.977 175.667 Q179.399 176.339 176.297 179.556 Q173.195 182.751 167.547 188.514 Z\" fill=\"#000000\" fill-rule=\"nonzero\" fill-opacity=\"1\" /><path clip-path=\"url(#clip150)\" d=\"M14.479 723.865 L19.3487 723.865 L19.3487 729.467 Q19.3487 732.618 20.6219 733.859 Q21.895 735.069 25.2052 735.069 L28.3562 735.069 L28.3562 725.425 L32.9077 725.425 L32.9077 735.069 L64.0042 735.069 L64.0042 740.957 L32.9077 740.957 L32.9077 746.559 L28.3562 746.559 L28.3562 740.957 L25.8736 740.957 Q19.9216 740.957 17.2162 738.188 Q14.479 735.419 14.479 729.403 L14.479 723.865 Z\" fill=\"#000000\" fill-rule=\"nonzero\" fill-opacity=\"1\" /><polyline clip-path=\"url(#clip152)\" style=\"stroke:#009af9; stroke-linecap:round; stroke-linejoin:round; stroke-width:4; stroke-opacity:1; fill:none\" points=\"280.231,376.681 283.506,376.684 286.781,376.694 290.056,376.711 293.331,376.734 323.614,377.259 353.897,378.344 384.179,379.987 414.462,382.182 450.859,385.54 487.257,389.668 518.03,393.743 548.804,398.339 582.232,403.904 615.661,410.04 646.479,416.18 677.297,422.76 710.338,430.274 743.378,438.232 781.658,447.959 819.939,458.171 887.977,477.315 947.641,494.874 1012.69,514.465 1078.13,534.22 1150.47,555.534 1219.31,574.673 1255.1,583.961 1290.89,592.669 1321.01,599.475 1351.14,605.734 1387.92,612.54 1424.69,618.314 1458.39,622.589 1492.08,625.792 1523.2,627.709 1554.31,628.541 1585.84,628.191 1617.36,626.549 1635.02,625.03 1652.68,623.059 1670.35,620.621 1688.01,617.697 1704.02,614.614 1720.02,611.105 1736.03,607.158 1752.03,602.758 1770.36,597.148 1788.68,590.907 1807.01,584.014 1825.33,576.449 1842.3,568.826 1859.27,560.591 1876.24,551.727 1893.2,542.217 1909.93,532.191 1926.66,521.503 1943.39,510.134 1960.12,498.069 1976.36,485.671 1992.6,472.583 2008.84,458.788 2025.08,444.271 2041.73,428.621 2058.38,412.175 2075.03,394.916 2091.68,376.825 2109.92,356.026 2128.17,334.181 2146.41,311.264 2164.65,287.251 2177.9,269.108 2191.15,250.362 2204.4,231.005 2217.65,211.026 2230.9,190.415 2244.15,169.162 2257.4,147.256 2270.65,124.688 2276.08,115.234 2281.52,105.666 2286.95,95.9838 2292.39,86.1857 \"/>\n",
       "<path clip-path=\"url(#clip152)\" d=\"M280.231 1384.24 L280.231 376.681 L783.271 448.38 L783.271 1384.24 L280.231 1384.24  Z\" fill=\"#e26f46\" fill-rule=\"evenodd\" fill-opacity=\"0.2\"/>\n",
       "<polyline clip-path=\"url(#clip152)\" style=\"stroke:#000000; stroke-linecap:round; stroke-linejoin:round; stroke-width:4; stroke-opacity:0.2; fill:none\" points=\"280.231,1384.24 280.231,376.681 783.271,448.38 783.271,1384.24 280.231,1384.24 \"/>\n",
       "<path clip-path=\"url(#clip152)\" d=\"M783.271 1384.24 L783.271 448.38 L1286.31 591.592 L1286.31 1384.24 L783.271 1384.24  Z\" fill=\"#3da44d\" fill-rule=\"evenodd\" fill-opacity=\"0.2\"/>\n",
       "<polyline clip-path=\"url(#clip152)\" style=\"stroke:#000000; stroke-linecap:round; stroke-linejoin:round; stroke-width:4; stroke-opacity:0.2; fill:none\" points=\"783.271,1384.24 783.271,448.38 1286.31,591.592 1286.31,1384.24 783.271,1384.24 \"/>\n",
       "<path clip-path=\"url(#clip152)\" d=\"M1286.31 1384.24 L1286.31 591.592 L1789.35 590.667 L1789.35 1384.24 L1286.31 1384.24  Z\" fill=\"#c271d2\" fill-rule=\"evenodd\" fill-opacity=\"0.2\"/>\n",
       "<polyline clip-path=\"url(#clip152)\" style=\"stroke:#000000; stroke-linecap:round; stroke-linejoin:round; stroke-width:4; stroke-opacity:0.2; fill:none\" points=\"1286.31,1384.24 1286.31,591.592 1789.35,590.667 1789.35,1384.24 1286.31,1384.24 \"/>\n",
       "<path clip-path=\"url(#clip152)\" d=\"M1789.35 1384.24 L1789.35 590.667 L2292.39 86.1857 L2292.39 1384.24 L1789.35 1384.24  Z\" fill=\"#ac8d18\" fill-rule=\"evenodd\" fill-opacity=\"0.2\"/>\n",
       "<polyline clip-path=\"url(#clip152)\" style=\"stroke:#000000; stroke-linecap:round; stroke-linejoin:round; stroke-width:4; stroke-opacity:0.2; fill:none\" points=\"1789.35,1384.24 1789.35,590.667 2292.39,86.1857 2292.39,1384.24 1789.35,1384.24 \"/>\n",
       "</svg>\n"
      ],
      "text/html": [
       "<?xml version=\"1.0\" encoding=\"utf-8\"?>\n",
       "<svg xmlns=\"http://www.w3.org/2000/svg\" xmlns:xlink=\"http://www.w3.org/1999/xlink\" width=\"600\" height=\"400\" viewBox=\"0 0 2400 1600\">\n",
       "<defs>\n",
       "  <clipPath id=\"clip200\">\n",
       "    <rect x=\"0\" y=\"0\" width=\"2400\" height=\"1600\"/>\n",
       "  </clipPath>\n",
       "</defs>\n",
       "<path clip-path=\"url(#clip200)\" d=\"M0 1600 L2400 1600 L2400 8.88178e-14 L0 8.88178e-14  Z\" fill=\"#ffffff\" fill-rule=\"evenodd\" fill-opacity=\"1\"/>\n",
       "<defs>\n",
       "  <clipPath id=\"clip201\">\n",
       "    <rect x=\"480\" y=\"0\" width=\"1681\" height=\"1600\"/>\n",
       "  </clipPath>\n",
       "</defs>\n",
       "<path clip-path=\"url(#clip200)\" d=\"M219.866 1423.18 L2352.76 1423.18 L2352.76 47.2441 L219.866 47.2441  Z\" fill=\"#ffffff\" fill-rule=\"evenodd\" fill-opacity=\"1\"/>\n",
       "<defs>\n",
       "  <clipPath id=\"clip202\">\n",
       "    <rect x=\"219\" y=\"47\" width=\"2134\" height=\"1377\"/>\n",
       "  </clipPath>\n",
       "</defs>\n",
       "<polyline clip-path=\"url(#clip202)\" style=\"stroke:#000000; stroke-linecap:round; stroke-linejoin:round; stroke-width:2; stroke-opacity:0.1; fill:none\" points=\"280.231,1423.18 280.231,47.2441 \"/>\n",
       "<polyline clip-path=\"url(#clip202)\" style=\"stroke:#000000; stroke-linecap:round; stroke-linejoin:round; stroke-width:2; stroke-opacity:0.1; fill:none\" points=\"792.623,1423.18 792.623,47.2441 \"/>\n",
       "<polyline clip-path=\"url(#clip202)\" style=\"stroke:#000000; stroke-linecap:round; stroke-linejoin:round; stroke-width:2; stroke-opacity:0.1; fill:none\" points=\"1305.02,1423.18 1305.02,47.2441 \"/>\n",
       "<polyline clip-path=\"url(#clip202)\" style=\"stroke:#000000; stroke-linecap:round; stroke-linejoin:round; stroke-width:2; stroke-opacity:0.1; fill:none\" points=\"1817.41,1423.18 1817.41,47.2441 \"/>\n",
       "<polyline clip-path=\"url(#clip202)\" style=\"stroke:#000000; stroke-linecap:round; stroke-linejoin:round; stroke-width:2; stroke-opacity:0.1; fill:none\" points=\"2329.8,1423.18 2329.8,47.2441 \"/>\n",
       "<polyline clip-path=\"url(#clip200)\" style=\"stroke:#000000; stroke-linecap:round; stroke-linejoin:round; stroke-width:4; stroke-opacity:1; fill:none\" points=\"219.866,1423.18 2352.76,1423.18 \"/>\n",
       "<polyline clip-path=\"url(#clip200)\" style=\"stroke:#000000; stroke-linecap:round; stroke-linejoin:round; stroke-width:4; stroke-opacity:1; fill:none\" points=\"280.231,1423.18 280.231,1404.28 \"/>\n",
       "<polyline clip-path=\"url(#clip200)\" style=\"stroke:#000000; stroke-linecap:round; stroke-linejoin:round; stroke-width:4; stroke-opacity:1; fill:none\" points=\"792.623,1423.18 792.623,1404.28 \"/>\n",
       "<polyline clip-path=\"url(#clip200)\" style=\"stroke:#000000; stroke-linecap:round; stroke-linejoin:round; stroke-width:4; stroke-opacity:1; fill:none\" points=\"1305.02,1423.18 1305.02,1404.28 \"/>\n",
       "<polyline clip-path=\"url(#clip200)\" style=\"stroke:#000000; stroke-linecap:round; stroke-linejoin:round; stroke-width:4; stroke-opacity:1; fill:none\" points=\"1817.41,1423.18 1817.41,1404.28 \"/>\n",
       "<polyline clip-path=\"url(#clip200)\" style=\"stroke:#000000; stroke-linecap:round; stroke-linejoin:round; stroke-width:4; stroke-opacity:1; fill:none\" points=\"2329.8,1423.18 2329.8,1404.28 \"/>\n",
       "<path clip-path=\"url(#clip200)\" d=\"M257.615 1454.1 Q254.004 1454.1 252.176 1457.66 Q250.37 1461.2 250.37 1468.33 Q250.37 1475.44 252.176 1479.01 Q254.004 1482.55 257.615 1482.55 Q261.25 1482.55 263.055 1479.01 Q264.884 1475.44 264.884 1468.33 Q264.884 1461.2 263.055 1457.66 Q261.25 1454.1 257.615 1454.1 M257.615 1450.39 Q263.426 1450.39 266.481 1455 Q269.56 1459.58 269.56 1468.33 Q269.56 1477.06 266.481 1481.67 Q263.426 1486.25 257.615 1486.25 Q251.805 1486.25 248.727 1481.67 Q245.671 1477.06 245.671 1468.33 Q245.671 1459.58 248.727 1455 Q251.805 1450.39 257.615 1450.39 Z\" fill=\"#000000\" fill-rule=\"nonzero\" fill-opacity=\"1\" /><path clip-path=\"url(#clip200)\" d=\"M277.777 1479.7 L282.662 1479.7 L282.662 1485.58 L277.777 1485.58 L277.777 1479.7 Z\" fill=\"#000000\" fill-rule=\"nonzero\" fill-opacity=\"1\" /><path clip-path=\"url(#clip200)\" d=\"M302.847 1454.1 Q299.236 1454.1 297.407 1457.66 Q295.601 1461.2 295.601 1468.33 Q295.601 1475.44 297.407 1479.01 Q299.236 1482.55 302.847 1482.55 Q306.481 1482.55 308.286 1479.01 Q310.115 1475.44 310.115 1468.33 Q310.115 1461.2 308.286 1457.66 Q306.481 1454.1 302.847 1454.1 M302.847 1450.39 Q308.657 1450.39 311.712 1455 Q314.791 1459.58 314.791 1468.33 Q314.791 1477.06 311.712 1481.67 Q308.657 1486.25 302.847 1486.25 Q297.037 1486.25 293.958 1481.67 Q290.902 1477.06 290.902 1468.33 Q290.902 1459.58 293.958 1455 Q297.037 1450.39 302.847 1450.39 Z\" fill=\"#000000\" fill-rule=\"nonzero\" fill-opacity=\"1\" /><path clip-path=\"url(#clip200)\" d=\"M770.806 1454.1 Q767.195 1454.1 765.367 1457.66 Q763.561 1461.2 763.561 1468.33 Q763.561 1475.44 765.367 1479.01 Q767.195 1482.55 770.806 1482.55 Q774.441 1482.55 776.246 1479.01 Q778.075 1475.44 778.075 1468.33 Q778.075 1461.2 776.246 1457.66 Q774.441 1454.1 770.806 1454.1 M770.806 1450.39 Q776.617 1450.39 779.672 1455 Q782.751 1459.58 782.751 1468.33 Q782.751 1477.06 779.672 1481.67 Q776.617 1486.25 770.806 1486.25 Q764.996 1486.25 761.918 1481.67 Q758.862 1477.06 758.862 1468.33 Q758.862 1459.58 761.918 1455 Q764.996 1450.39 770.806 1450.39 Z\" fill=\"#000000\" fill-rule=\"nonzero\" fill-opacity=\"1\" /><path clip-path=\"url(#clip200)\" d=\"M790.968 1479.7 L795.853 1479.7 L795.853 1485.58 L790.968 1485.58 L790.968 1479.7 Z\" fill=\"#000000\" fill-rule=\"nonzero\" fill-opacity=\"1\" /><path clip-path=\"url(#clip200)\" d=\"M810.065 1481.64 L826.385 1481.64 L826.385 1485.58 L804.44 1485.58 L804.44 1481.64 Q807.103 1478.89 811.686 1474.26 Q816.292 1469.61 817.473 1468.27 Q819.718 1465.74 820.598 1464.01 Q821.501 1462.25 821.501 1460.56 Q821.501 1457.8 819.556 1456.07 Q817.635 1454.33 814.533 1454.33 Q812.334 1454.33 809.88 1455.09 Q807.45 1455.86 804.672 1457.41 L804.672 1452.69 Q807.496 1451.55 809.95 1450.97 Q812.403 1450.39 814.44 1450.39 Q819.811 1450.39 823.005 1453.08 Q826.2 1455.77 826.2 1460.26 Q826.2 1462.39 825.389 1464.31 Q824.602 1466.2 822.496 1468.8 Q821.917 1469.47 818.815 1472.69 Q815.714 1475.88 810.065 1481.64 Z\" fill=\"#000000\" fill-rule=\"nonzero\" fill-opacity=\"1\" /><path clip-path=\"url(#clip200)\" d=\"M1282.16 1454.1 Q1278.55 1454.1 1276.72 1457.66 Q1274.91 1461.2 1274.91 1468.33 Q1274.91 1475.44 1276.72 1479.01 Q1278.55 1482.55 1282.16 1482.55 Q1285.79 1482.55 1287.6 1479.01 Q1289.43 1475.44 1289.43 1468.33 Q1289.43 1461.2 1287.6 1457.66 Q1285.79 1454.1 1282.16 1454.1 M1282.16 1450.39 Q1287.97 1450.39 1291.02 1455 Q1294.1 1459.58 1294.1 1468.33 Q1294.1 1477.06 1291.02 1481.67 Q1287.97 1486.25 1282.16 1486.25 Q1276.35 1486.25 1273.27 1481.67 Q1270.21 1477.06 1270.21 1468.33 Q1270.21 1459.58 1273.27 1455 Q1276.35 1450.39 1282.16 1450.39 Z\" fill=\"#000000\" fill-rule=\"nonzero\" fill-opacity=\"1\" /><path clip-path=\"url(#clip200)\" d=\"M1302.32 1479.7 L1307.2 1479.7 L1307.2 1485.58 L1302.32 1485.58 L1302.32 1479.7 Z\" fill=\"#000000\" fill-rule=\"nonzero\" fill-opacity=\"1\" /><path clip-path=\"url(#clip200)\" d=\"M1330.24 1455.09 L1318.43 1473.54 L1330.24 1473.54 L1330.24 1455.09 M1329.01 1451.02 L1334.89 1451.02 L1334.89 1473.54 L1339.82 1473.54 L1339.82 1477.43 L1334.89 1477.43 L1334.89 1485.58 L1330.24 1485.58 L1330.24 1477.43 L1314.63 1477.43 L1314.63 1472.92 L1329.01 1451.02 Z\" fill=\"#000000\" fill-rule=\"nonzero\" fill-opacity=\"1\" /><path clip-path=\"url(#clip200)\" d=\"M1794.71 1454.1 Q1791.1 1454.1 1789.27 1457.66 Q1787.47 1461.2 1787.47 1468.33 Q1787.47 1475.44 1789.27 1479.01 Q1791.1 1482.55 1794.71 1482.55 Q1798.35 1482.55 1800.15 1479.01 Q1801.98 1475.44 1801.98 1468.33 Q1801.98 1461.2 1800.15 1457.66 Q1798.35 1454.1 1794.71 1454.1 M1794.71 1450.39 Q1800.52 1450.39 1803.58 1455 Q1806.66 1459.58 1806.66 1468.33 Q1806.66 1477.06 1803.58 1481.67 Q1800.52 1486.25 1794.71 1486.25 Q1788.9 1486.25 1785.82 1481.67 Q1782.77 1477.06 1782.77 1468.33 Q1782.77 1459.58 1785.82 1455 Q1788.9 1450.39 1794.71 1450.39 Z\" fill=\"#000000\" fill-rule=\"nonzero\" fill-opacity=\"1\" /><path clip-path=\"url(#clip200)\" d=\"M1814.87 1479.7 L1819.76 1479.7 L1819.76 1485.58 L1814.87 1485.58 L1814.87 1479.7 Z\" fill=\"#000000\" fill-rule=\"nonzero\" fill-opacity=\"1\" /><path clip-path=\"url(#clip200)\" d=\"M1840.52 1466.44 Q1837.37 1466.44 1835.52 1468.59 Q1833.69 1470.74 1833.69 1474.49 Q1833.69 1478.22 1835.52 1480.39 Q1837.37 1482.55 1840.52 1482.55 Q1843.67 1482.55 1845.5 1480.39 Q1847.35 1478.22 1847.35 1474.49 Q1847.35 1470.74 1845.5 1468.59 Q1843.67 1466.44 1840.52 1466.44 M1849.8 1451.78 L1849.8 1456.04 Q1848.04 1455.21 1846.24 1454.77 Q1844.46 1454.33 1842.7 1454.33 Q1838.07 1454.33 1835.61 1457.45 Q1833.18 1460.58 1832.84 1466.9 Q1834.2 1464.89 1836.26 1463.82 Q1838.32 1462.73 1840.8 1462.73 Q1846.01 1462.73 1849.02 1465.9 Q1852.05 1469.05 1852.05 1474.49 Q1852.05 1479.82 1848.9 1483.03 Q1845.75 1486.25 1840.52 1486.25 Q1834.53 1486.25 1831.35 1481.67 Q1828.18 1477.06 1828.18 1468.33 Q1828.18 1460.14 1832.07 1455.28 Q1835.96 1450.39 1842.51 1450.39 Q1844.27 1450.39 1846.05 1450.74 Q1847.86 1451.09 1849.8 1451.78 Z\" fill=\"#000000\" fill-rule=\"nonzero\" fill-opacity=\"1\" /><path clip-path=\"url(#clip200)\" d=\"M2307.23 1454.1 Q2303.62 1454.1 2301.79 1457.66 Q2299.99 1461.2 2299.99 1468.33 Q2299.99 1475.44 2301.79 1479.01 Q2303.62 1482.55 2307.23 1482.55 Q2310.87 1482.55 2312.67 1479.01 Q2314.5 1475.44 2314.5 1468.33 Q2314.5 1461.2 2312.67 1457.66 Q2310.87 1454.1 2307.23 1454.1 M2307.23 1450.39 Q2313.04 1450.39 2316.1 1455 Q2319.18 1459.58 2319.18 1468.33 Q2319.18 1477.06 2316.1 1481.67 Q2313.04 1486.25 2307.23 1486.25 Q2301.42 1486.25 2298.34 1481.67 Q2295.29 1477.06 2295.29 1468.33 Q2295.29 1459.58 2298.34 1455 Q2301.42 1450.39 2307.23 1450.39 Z\" fill=\"#000000\" fill-rule=\"nonzero\" fill-opacity=\"1\" /><path clip-path=\"url(#clip200)\" d=\"M2327.39 1479.7 L2332.28 1479.7 L2332.28 1485.58 L2327.39 1485.58 L2327.39 1479.7 Z\" fill=\"#000000\" fill-rule=\"nonzero\" fill-opacity=\"1\" /><path clip-path=\"url(#clip200)\" d=\"M2352.46 1469.17 Q2349.13 1469.17 2347.21 1470.95 Q2345.31 1472.73 2345.31 1475.86 Q2345.31 1478.98 2347.21 1480.77 Q2349.13 1482.55 2352.46 1482.55 Q2355.8 1482.55 2357.72 1480.77 Q2359.64 1478.96 2359.64 1475.86 Q2359.64 1472.73 2357.72 1470.95 Q2355.82 1469.17 2352.46 1469.17 M2347.79 1467.18 Q2344.78 1466.44 2343.09 1464.38 Q2341.42 1462.32 2341.42 1459.35 Q2341.42 1455.21 2344.36 1452.8 Q2347.32 1450.39 2352.46 1450.39 Q2357.62 1450.39 2360.56 1452.8 Q2363.5 1455.21 2363.5 1459.35 Q2363.5 1462.32 2361.81 1464.38 Q2360.15 1466.44 2357.16 1467.18 Q2360.54 1467.96 2362.42 1470.26 Q2364.31 1472.55 2364.31 1475.86 Q2364.31 1480.88 2361.24 1483.57 Q2358.18 1486.25 2352.46 1486.25 Q2346.74 1486.25 2343.67 1483.57 Q2340.61 1480.88 2340.61 1475.86 Q2340.61 1472.55 2342.51 1470.26 Q2344.41 1467.96 2347.79 1467.18 M2346.07 1459.79 Q2346.07 1462.48 2347.74 1463.98 Q2349.43 1465.49 2352.46 1465.49 Q2355.47 1465.49 2357.16 1463.98 Q2358.87 1462.48 2358.87 1459.79 Q2358.87 1457.11 2357.16 1455.6 Q2355.47 1454.1 2352.46 1454.1 Q2349.43 1454.1 2347.74 1455.6 Q2346.07 1457.11 2346.07 1459.79 Z\" fill=\"#000000\" fill-rule=\"nonzero\" fill-opacity=\"1\" /><path clip-path=\"url(#clip200)\" d=\"M1302.93 1532.4 L1290.04 1549.74 L1303.59 1568.04 L1296.69 1568.04 L1286.31 1554.04 L1275.93 1568.04 L1269.03 1568.04 L1282.87 1549.39 L1270.21 1532.4 L1277.11 1532.4 L1286.57 1545.1 L1296.02 1532.4 L1302.93 1532.4 Z\" fill=\"#000000\" fill-rule=\"nonzero\" fill-opacity=\"1\" /><polyline clip-path=\"url(#clip202)\" style=\"stroke:#000000; stroke-linecap:round; stroke-linejoin:round; stroke-width:2; stroke-opacity:0.1; fill:none\" points=\"219.866,1384.24 2352.76,1384.24 \"/>\n",
       "<polyline clip-path=\"url(#clip202)\" style=\"stroke:#000000; stroke-linecap:round; stroke-linejoin:round; stroke-width:2; stroke-opacity:0.1; fill:none\" points=\"219.866,1182.73 2352.76,1182.73 \"/>\n",
       "<polyline clip-path=\"url(#clip202)\" style=\"stroke:#000000; stroke-linecap:round; stroke-linejoin:round; stroke-width:2; stroke-opacity:0.1; fill:none\" points=\"219.866,981.215 2352.76,981.215 \"/>\n",
       "<polyline clip-path=\"url(#clip202)\" style=\"stroke:#000000; stroke-linecap:round; stroke-linejoin:round; stroke-width:2; stroke-opacity:0.1; fill:none\" points=\"219.866,779.704 2352.76,779.704 \"/>\n",
       "<polyline clip-path=\"url(#clip202)\" style=\"stroke:#000000; stroke-linecap:round; stroke-linejoin:round; stroke-width:2; stroke-opacity:0.1; fill:none\" points=\"219.866,578.192 2352.76,578.192 \"/>\n",
       "<polyline clip-path=\"url(#clip202)\" style=\"stroke:#000000; stroke-linecap:round; stroke-linejoin:round; stroke-width:2; stroke-opacity:0.1; fill:none\" points=\"219.866,376.681 2352.76,376.681 \"/>\n",
       "<polyline clip-path=\"url(#clip202)\" style=\"stroke:#000000; stroke-linecap:round; stroke-linejoin:round; stroke-width:2; stroke-opacity:0.1; fill:none\" points=\"219.866,175.17 2352.76,175.17 \"/>\n",
       "<polyline clip-path=\"url(#clip200)\" style=\"stroke:#000000; stroke-linecap:round; stroke-linejoin:round; stroke-width:4; stroke-opacity:1; fill:none\" points=\"219.866,1423.18 219.866,47.2441 \"/>\n",
       "<polyline clip-path=\"url(#clip200)\" style=\"stroke:#000000; stroke-linecap:round; stroke-linejoin:round; stroke-width:4; stroke-opacity:1; fill:none\" points=\"219.866,1384.24 238.764,1384.24 \"/>\n",
       "<polyline clip-path=\"url(#clip200)\" style=\"stroke:#000000; stroke-linecap:round; stroke-linejoin:round; stroke-width:4; stroke-opacity:1; fill:none\" points=\"219.866,1182.73 238.764,1182.73 \"/>\n",
       "<polyline clip-path=\"url(#clip200)\" style=\"stroke:#000000; stroke-linecap:round; stroke-linejoin:round; stroke-width:4; stroke-opacity:1; fill:none\" points=\"219.866,981.215 238.764,981.215 \"/>\n",
       "<polyline clip-path=\"url(#clip200)\" style=\"stroke:#000000; stroke-linecap:round; stroke-linejoin:round; stroke-width:4; stroke-opacity:1; fill:none\" points=\"219.866,779.704 238.764,779.704 \"/>\n",
       "<polyline clip-path=\"url(#clip200)\" style=\"stroke:#000000; stroke-linecap:round; stroke-linejoin:round; stroke-width:4; stroke-opacity:1; fill:none\" points=\"219.866,578.192 238.764,578.192 \"/>\n",
       "<polyline clip-path=\"url(#clip200)\" style=\"stroke:#000000; stroke-linecap:round; stroke-linejoin:round; stroke-width:4; stroke-opacity:1; fill:none\" points=\"219.866,376.681 238.764,376.681 \"/>\n",
       "<polyline clip-path=\"url(#clip200)\" style=\"stroke:#000000; stroke-linecap:round; stroke-linejoin:round; stroke-width:4; stroke-opacity:1; fill:none\" points=\"219.866,175.17 238.764,175.17 \"/>\n",
       "<path clip-path=\"url(#clip200)\" d=\"M126.691 1370.04 Q123.08 1370.04 121.251 1373.6 Q119.445 1377.14 119.445 1384.27 Q119.445 1391.38 121.251 1394.94 Q123.08 1398.49 126.691 1398.49 Q130.325 1398.49 132.13 1394.94 Q133.959 1391.38 133.959 1384.27 Q133.959 1377.14 132.13 1373.6 Q130.325 1370.04 126.691 1370.04 M126.691 1366.33 Q132.501 1366.33 135.556 1370.94 Q138.635 1375.52 138.635 1384.27 Q138.635 1393 135.556 1397.61 Q132.501 1402.19 126.691 1402.19 Q120.88 1402.19 117.802 1397.61 Q114.746 1393 114.746 1384.27 Q114.746 1375.52 117.802 1370.94 Q120.88 1366.33 126.691 1366.33 Z\" fill=\"#000000\" fill-rule=\"nonzero\" fill-opacity=\"1\" /><path clip-path=\"url(#clip200)\" d=\"M146.853 1395.64 L151.737 1395.64 L151.737 1401.52 L146.853 1401.52 L146.853 1395.64 Z\" fill=\"#000000\" fill-rule=\"nonzero\" fill-opacity=\"1\" /><path clip-path=\"url(#clip200)\" d=\"M171.922 1370.04 Q168.311 1370.04 166.482 1373.6 Q164.677 1377.14 164.677 1384.27 Q164.677 1391.38 166.482 1394.94 Q168.311 1398.49 171.922 1398.49 Q175.556 1398.49 177.362 1394.94 Q179.19 1391.38 179.19 1384.27 Q179.19 1377.14 177.362 1373.6 Q175.556 1370.04 171.922 1370.04 M171.922 1366.33 Q177.732 1366.33 180.788 1370.94 Q183.866 1375.52 183.866 1384.27 Q183.866 1393 180.788 1397.61 Q177.732 1402.19 171.922 1402.19 Q166.112 1402.19 163.033 1397.61 Q159.978 1393 159.978 1384.27 Q159.978 1375.52 163.033 1370.94 Q166.112 1366.33 171.922 1366.33 Z\" fill=\"#000000\" fill-rule=\"nonzero\" fill-opacity=\"1\" /><path clip-path=\"url(#clip200)\" d=\"M128.288 1168.53 Q124.677 1168.53 122.848 1172.09 Q121.043 1175.63 121.043 1182.76 Q121.043 1189.87 122.848 1193.43 Q124.677 1196.97 128.288 1196.97 Q131.922 1196.97 133.728 1193.43 Q135.556 1189.87 135.556 1182.76 Q135.556 1175.63 133.728 1172.09 Q131.922 1168.53 128.288 1168.53 M128.288 1164.82 Q134.098 1164.82 137.154 1169.43 Q140.232 1174.01 140.232 1182.76 Q140.232 1191.49 137.154 1196.09 Q134.098 1200.68 128.288 1200.68 Q122.478 1200.68 119.399 1196.09 Q116.343 1191.49 116.343 1182.76 Q116.343 1174.01 119.399 1169.43 Q122.478 1164.82 128.288 1164.82 Z\" fill=\"#000000\" fill-rule=\"nonzero\" fill-opacity=\"1\" /><path clip-path=\"url(#clip200)\" d=\"M148.45 1194.13 L153.334 1194.13 L153.334 1200.01 L148.45 1200.01 L148.45 1194.13 Z\" fill=\"#000000\" fill-rule=\"nonzero\" fill-opacity=\"1\" /><path clip-path=\"url(#clip200)\" d=\"M167.547 1196.07 L183.866 1196.07 L183.866 1200.01 L161.922 1200.01 L161.922 1196.07 Q164.584 1193.32 169.167 1188.69 Q173.774 1184.03 174.954 1182.69 Q177.2 1180.17 178.079 1178.43 Q178.982 1176.67 178.982 1174.98 Q178.982 1172.23 177.038 1170.49 Q175.116 1168.76 172.014 1168.76 Q169.815 1168.76 167.362 1169.52 Q164.931 1170.28 162.153 1171.84 L162.153 1167.11 Q164.977 1165.98 167.431 1165.4 Q169.885 1164.82 171.922 1164.82 Q177.292 1164.82 180.487 1167.51 Q183.681 1170.19 183.681 1174.68 Q183.681 1176.81 182.871 1178.73 Q182.084 1180.63 179.977 1183.22 Q179.399 1183.9 176.297 1187.11 Q173.195 1190.31 167.547 1196.07 Z\" fill=\"#000000\" fill-rule=\"nonzero\" fill-opacity=\"1\" /><path clip-path=\"url(#clip200)\" d=\"M126.205 967.014 Q122.593 967.014 120.765 970.579 Q118.959 974.121 118.959 981.25 Q118.959 988.357 120.765 991.921 Q122.593 995.463 126.205 995.463 Q129.839 995.463 131.644 991.921 Q133.473 988.357 133.473 981.25 Q133.473 974.121 131.644 970.579 Q129.839 967.014 126.205 967.014 M126.205 963.31 Q132.015 963.31 135.07 967.917 Q138.149 972.5 138.149 981.25 Q138.149 989.977 135.07 994.583 Q132.015 999.167 126.205 999.167 Q120.394 999.167 117.316 994.583 Q114.26 989.977 114.26 981.25 Q114.26 972.5 117.316 967.917 Q120.394 963.31 126.205 963.31 Z\" fill=\"#000000\" fill-rule=\"nonzero\" fill-opacity=\"1\" /><path clip-path=\"url(#clip200)\" d=\"M146.366 992.616 L151.251 992.616 L151.251 998.495 L146.366 998.495 L146.366 992.616 Z\" fill=\"#000000\" fill-rule=\"nonzero\" fill-opacity=\"1\" /><path clip-path=\"url(#clip200)\" d=\"M174.283 968.009 L162.477 986.458 L174.283 986.458 L174.283 968.009 M173.056 963.935 L178.936 963.935 L178.936 986.458 L183.866 986.458 L183.866 990.347 L178.936 990.347 L178.936 998.495 L174.283 998.495 L174.283 990.347 L158.681 990.347 L158.681 985.833 L173.056 963.935 Z\" fill=\"#000000\" fill-rule=\"nonzero\" fill-opacity=\"1\" /><path clip-path=\"url(#clip200)\" d=\"M126.529 765.503 Q122.918 765.503 121.089 769.067 Q119.283 772.609 119.283 779.739 Q119.283 786.845 121.089 790.41 Q122.918 793.952 126.529 793.952 Q130.163 793.952 131.968 790.41 Q133.797 786.845 133.797 779.739 Q133.797 772.609 131.968 769.067 Q130.163 765.503 126.529 765.503 M126.529 761.799 Q132.339 761.799 135.394 766.405 Q138.473 770.989 138.473 779.739 Q138.473 788.465 135.394 793.072 Q132.339 797.655 126.529 797.655 Q120.718 797.655 117.64 793.072 Q114.584 788.465 114.584 779.739 Q114.584 770.989 117.64 766.405 Q120.718 761.799 126.529 761.799 Z\" fill=\"#000000\" fill-rule=\"nonzero\" fill-opacity=\"1\" /><path clip-path=\"url(#clip200)\" d=\"M146.691 791.104 L151.575 791.104 L151.575 796.984 L146.691 796.984 L146.691 791.104 Z\" fill=\"#000000\" fill-rule=\"nonzero\" fill-opacity=\"1\" /><path clip-path=\"url(#clip200)\" d=\"M172.339 777.841 Q169.19 777.841 167.339 779.993 Q165.51 782.146 165.51 785.896 Q165.51 789.623 167.339 791.799 Q169.19 793.952 172.339 793.952 Q175.487 793.952 177.315 791.799 Q179.167 789.623 179.167 785.896 Q179.167 782.146 177.315 779.993 Q175.487 777.841 172.339 777.841 M181.621 763.188 L181.621 767.447 Q179.862 766.614 178.056 766.174 Q176.274 765.734 174.514 765.734 Q169.885 765.734 167.431 768.859 Q165.001 771.984 164.653 778.303 Q166.019 776.29 168.079 775.225 Q170.139 774.137 172.616 774.137 Q177.825 774.137 180.834 777.308 Q183.866 780.456 183.866 785.896 Q183.866 791.22 180.718 794.438 Q177.57 797.655 172.339 797.655 Q166.343 797.655 163.172 793.072 Q160.001 788.465 160.001 779.739 Q160.001 771.544 163.89 766.683 Q167.778 761.799 174.329 761.799 Q176.089 761.799 177.871 762.146 Q179.676 762.493 181.621 763.188 Z\" fill=\"#000000\" fill-rule=\"nonzero\" fill-opacity=\"1\" /><path clip-path=\"url(#clip200)\" d=\"M126.783 563.991 Q123.172 563.991 121.343 567.556 Q119.538 571.098 119.538 578.227 Q119.538 585.334 121.343 588.898 Q123.172 592.44 126.783 592.44 Q130.417 592.44 132.223 588.898 Q134.052 585.334 134.052 578.227 Q134.052 571.098 132.223 567.556 Q130.417 563.991 126.783 563.991 M126.783 560.287 Q132.593 560.287 135.649 564.894 Q138.728 569.477 138.728 578.227 Q138.728 586.954 135.649 591.56 Q132.593 596.144 126.783 596.144 Q120.973 596.144 117.894 591.56 Q114.839 586.954 114.839 578.227 Q114.839 569.477 117.894 564.894 Q120.973 560.287 126.783 560.287 Z\" fill=\"#000000\" fill-rule=\"nonzero\" fill-opacity=\"1\" /><path clip-path=\"url(#clip200)\" d=\"M146.945 589.593 L151.829 589.593 L151.829 595.472 L146.945 595.472 L146.945 589.593 Z\" fill=\"#000000\" fill-rule=\"nonzero\" fill-opacity=\"1\" /><path clip-path=\"url(#clip200)\" d=\"M172.014 579.061 Q168.681 579.061 166.76 580.843 Q164.862 582.625 164.862 585.75 Q164.862 588.875 166.76 590.658 Q168.681 592.44 172.014 592.44 Q175.348 592.44 177.269 590.658 Q179.19 588.852 179.19 585.75 Q179.19 582.625 177.269 580.843 Q175.371 579.061 172.014 579.061 M167.339 577.07 Q164.329 576.329 162.64 574.269 Q160.973 572.209 160.973 569.246 Q160.973 565.102 163.913 562.695 Q166.876 560.287 172.014 560.287 Q177.176 560.287 180.116 562.695 Q183.056 565.102 183.056 569.246 Q183.056 572.209 181.366 574.269 Q179.7 576.329 176.714 577.07 Q180.093 577.857 181.968 580.148 Q183.866 582.44 183.866 585.75 Q183.866 590.773 180.788 593.459 Q177.732 596.144 172.014 596.144 Q166.297 596.144 163.218 593.459 Q160.163 590.773 160.163 585.75 Q160.163 582.44 162.061 580.148 Q163.959 577.857 167.339 577.07 M165.626 569.686 Q165.626 572.371 167.292 573.875 Q168.982 575.38 172.014 575.38 Q175.024 575.38 176.714 573.875 Q178.426 572.371 178.426 569.686 Q178.426 567 176.714 565.496 Q175.024 563.991 172.014 563.991 Q168.982 563.991 167.292 565.496 Q165.626 567 165.626 569.686 Z\" fill=\"#000000\" fill-rule=\"nonzero\" fill-opacity=\"1\" /><path clip-path=\"url(#clip200)\" d=\"M117.501 390.026 L125.14 390.026 L125.14 363.66 L116.83 365.327 L116.83 361.068 L125.093 359.401 L129.769 359.401 L129.769 390.026 L137.408 390.026 L137.408 393.961 L117.501 393.961 L117.501 390.026 Z\" fill=\"#000000\" fill-rule=\"nonzero\" fill-opacity=\"1\" /><path clip-path=\"url(#clip200)\" d=\"M146.853 388.081 L151.737 388.081 L151.737 393.961 L146.853 393.961 L146.853 388.081 Z\" fill=\"#000000\" fill-rule=\"nonzero\" fill-opacity=\"1\" /><path clip-path=\"url(#clip200)\" d=\"M171.922 362.48 Q168.311 362.48 166.482 366.045 Q164.677 369.586 164.677 376.716 Q164.677 383.822 166.482 387.387 Q168.311 390.929 171.922 390.929 Q175.556 390.929 177.362 387.387 Q179.19 383.822 179.19 376.716 Q179.19 369.586 177.362 366.045 Q175.556 362.48 171.922 362.48 M171.922 358.776 Q177.732 358.776 180.788 363.383 Q183.866 367.966 183.866 376.716 Q183.866 385.443 180.788 390.049 Q177.732 394.632 171.922 394.632 Q166.112 394.632 163.033 390.049 Q159.978 385.443 159.978 376.716 Q159.978 367.966 163.033 363.383 Q166.112 358.776 171.922 358.776 Z\" fill=\"#000000\" fill-rule=\"nonzero\" fill-opacity=\"1\" /><path clip-path=\"url(#clip200)\" d=\"M119.098 188.514 L126.737 188.514 L126.737 162.149 L118.427 163.815 L118.427 159.556 L126.691 157.89 L131.367 157.89 L131.367 188.514 L139.005 188.514 L139.005 192.45 L119.098 192.45 L119.098 188.514 Z\" fill=\"#000000\" fill-rule=\"nonzero\" fill-opacity=\"1\" /><path clip-path=\"url(#clip200)\" d=\"M148.45 186.57 L153.334 186.57 L153.334 192.45 L148.45 192.45 L148.45 186.57 Z\" fill=\"#000000\" fill-rule=\"nonzero\" fill-opacity=\"1\" /><path clip-path=\"url(#clip200)\" d=\"M167.547 188.514 L183.866 188.514 L183.866 192.45 L161.922 192.45 L161.922 188.514 Q164.584 185.76 169.167 181.13 Q173.774 176.477 174.954 175.135 Q177.2 172.612 178.079 170.876 Q178.982 169.116 178.982 167.427 Q178.982 164.672 177.038 162.936 Q175.116 161.2 172.014 161.2 Q169.815 161.2 167.362 161.964 Q164.931 162.728 162.153 164.278 L162.153 159.556 Q164.977 158.422 167.431 157.843 Q169.885 157.265 171.922 157.265 Q177.292 157.265 180.487 159.95 Q183.681 162.635 183.681 167.126 Q183.681 169.255 182.871 171.177 Q182.084 173.075 179.977 175.667 Q179.399 176.339 176.297 179.556 Q173.195 182.751 167.547 188.514 Z\" fill=\"#000000\" fill-rule=\"nonzero\" fill-opacity=\"1\" /><path clip-path=\"url(#clip200)\" d=\"M14.479 723.865 L19.3487 723.865 L19.3487 729.467 Q19.3487 732.618 20.6219 733.859 Q21.895 735.069 25.2052 735.069 L28.3562 735.069 L28.3562 725.425 L32.9077 725.425 L32.9077 735.069 L64.0042 735.069 L64.0042 740.957 L32.9077 740.957 L32.9077 746.559 L28.3562 746.559 L28.3562 740.957 L25.8736 740.957 Q19.9216 740.957 17.2162 738.188 Q14.479 735.419 14.479 729.403 L14.479 723.865 Z\" fill=\"#000000\" fill-rule=\"nonzero\" fill-opacity=\"1\" /><polyline clip-path=\"url(#clip202)\" style=\"stroke:#009af9; stroke-linecap:round; stroke-linejoin:round; stroke-width:4; stroke-opacity:1; fill:none\" points=\"280.231,376.681 283.506,376.684 286.781,376.694 290.056,376.711 293.331,376.734 323.614,377.259 353.897,378.344 384.179,379.987 414.462,382.182 450.859,385.54 487.257,389.668 518.03,393.743 548.804,398.339 582.232,403.904 615.661,410.04 646.479,416.18 677.297,422.76 710.338,430.274 743.378,438.232 781.658,447.959 819.939,458.171 887.977,477.315 947.641,494.874 1012.69,514.465 1078.13,534.22 1150.47,555.534 1219.31,574.673 1255.1,583.961 1290.89,592.669 1321.01,599.475 1351.14,605.734 1387.92,612.54 1424.69,618.314 1458.39,622.589 1492.08,625.792 1523.2,627.709 1554.31,628.541 1585.84,628.191 1617.36,626.549 1635.02,625.03 1652.68,623.059 1670.35,620.621 1688.01,617.697 1704.02,614.614 1720.02,611.105 1736.03,607.158 1752.03,602.758 1770.36,597.148 1788.68,590.907 1807.01,584.014 1825.33,576.449 1842.3,568.826 1859.27,560.591 1876.24,551.727 1893.2,542.217 1909.93,532.191 1926.66,521.503 1943.39,510.134 1960.12,498.069 1976.36,485.671 1992.6,472.583 2008.84,458.788 2025.08,444.271 2041.73,428.621 2058.38,412.175 2075.03,394.916 2091.68,376.825 2109.92,356.026 2128.17,334.181 2146.41,311.264 2164.65,287.251 2177.9,269.108 2191.15,250.362 2204.4,231.005 2217.65,211.026 2230.9,190.415 2244.15,169.162 2257.4,147.256 2270.65,124.688 2276.08,115.234 2281.52,105.666 2286.95,95.9838 2292.39,86.1857 \"/>\n",
       "<path clip-path=\"url(#clip202)\" d=\"M280.231 1384.24 L280.231 376.681 L783.271 448.38 L783.271 1384.24 L280.231 1384.24  Z\" fill=\"#e26f46\" fill-rule=\"evenodd\" fill-opacity=\"0.2\"/>\n",
       "<polyline clip-path=\"url(#clip202)\" style=\"stroke:#000000; stroke-linecap:round; stroke-linejoin:round; stroke-width:4; stroke-opacity:0.2; fill:none\" points=\"280.231,1384.24 280.231,376.681 783.271,448.38 783.271,1384.24 280.231,1384.24 \"/>\n",
       "<path clip-path=\"url(#clip202)\" d=\"M783.271 1384.24 L783.271 448.38 L1286.31 591.592 L1286.31 1384.24 L783.271 1384.24  Z\" fill=\"#3da44d\" fill-rule=\"evenodd\" fill-opacity=\"0.2\"/>\n",
       "<polyline clip-path=\"url(#clip202)\" style=\"stroke:#000000; stroke-linecap:round; stroke-linejoin:round; stroke-width:4; stroke-opacity:0.2; fill:none\" points=\"783.271,1384.24 783.271,448.38 1286.31,591.592 1286.31,1384.24 783.271,1384.24 \"/>\n",
       "<path clip-path=\"url(#clip202)\" d=\"M1286.31 1384.24 L1286.31 591.592 L1789.35 590.667 L1789.35 1384.24 L1286.31 1384.24  Z\" fill=\"#c271d2\" fill-rule=\"evenodd\" fill-opacity=\"0.2\"/>\n",
       "<polyline clip-path=\"url(#clip202)\" style=\"stroke:#000000; stroke-linecap:round; stroke-linejoin:round; stroke-width:4; stroke-opacity:0.2; fill:none\" points=\"1286.31,1384.24 1286.31,591.592 1789.35,590.667 1789.35,1384.24 1286.31,1384.24 \"/>\n",
       "<path clip-path=\"url(#clip202)\" d=\"M1789.35 1384.24 L1789.35 590.667 L2292.39 86.1857 L2292.39 1384.24 L1789.35 1384.24  Z\" fill=\"#ac8d18\" fill-rule=\"evenodd\" fill-opacity=\"0.2\"/>\n",
       "<polyline clip-path=\"url(#clip202)\" style=\"stroke:#000000; stroke-linecap:round; stroke-linejoin:round; stroke-width:4; stroke-opacity:0.2; fill:none\" points=\"1789.35,1384.24 1789.35,590.667 2292.39,86.1857 2292.39,1384.24 1789.35,1384.24 \"/>\n",
       "</svg>\n"
      ]
     },
     "execution_count": 6,
     "metadata": {},
     "output_type": "execute_result"
    }
   ],
   "source": [
    "f(x)=1-2x^2+4x^4\n",
    "showtrapezoids(f,(0,pi/4),4)"
   ]
  },
  {
   "cell_type": "code",
   "execution_count": 5,
   "id": "87ad0f24",
   "metadata": {},
   "outputs": [],
   "source": [
    "#Uncomment for interactive content\n",
    "# -- only works in classic notebooks\n",
    "#\n",
    "#@manipulate for n in 1:10\n",
    "#    p=showtrapezoids(f,(0,pi/2),n)\n",
    "#end"
   ]
  },
  {
   "cell_type": "markdown",
   "id": "a711d878",
   "metadata": {},
   "source": [
    "### Naive implementation of trapezoid rule"
   ]
  },
  {
   "cell_type": "markdown",
   "id": "cca23e05",
   "metadata": {},
   "source": [
    "Lets not worry about efficiency, and write the simplest implementation of the trapezoid rule that we can think of.  We will make this more efficient later -- but this version is already fast enough for our purposes."
   ]
  },
  {
   "cell_type": "code",
   "execution_count": 7,
   "id": "2a7b1bb2",
   "metadata": {},
   "outputs": [
    {
     "data": {
      "text/plain": [
       "naive_trap"
      ]
     },
     "execution_count": 7,
     "metadata": {},
     "output_type": "execute_result"
    }
   ],
   "source": [
    "\"\"\"\n",
    "    naive_trap(f,range,n)\n",
    "\n",
    "is a naive implementation of the trapezoid rule for calculating\n",
    "`∫f(x)dx`, with `x` running between `a` and `b` where `range=(a,b)`.\n",
    "The integral region is divided into `n` trapezoids.\n",
    "\"\"\"\n",
    "function naive_trap(f,range,n)\n",
    "    result=0.\n",
    "    xmin=range[1]\n",
    "    xmax=range[2]\n",
    "    dx=(xmax-xmin)/n\n",
    "    for j in 1:n\n",
    "        x1=xmin+(j-1)*dx\n",
    "        x2=x1+dx\n",
    "        result+= (f(x2)+f(x1))*dx/2\n",
    "    end\n",
    "    return result\n",
    "end"
   ]
  },
  {
   "cell_type": "markdown",
   "id": "fa281284",
   "metadata": {},
   "source": [
    "At the beginning of the function I supplied a \"docstring\".  This allows one to use the interactive help feature to learn about the function"
   ]
  },
  {
   "cell_type": "code",
   "execution_count": 8,
   "id": "f480c5f0",
   "metadata": {},
   "outputs": [
    {
     "name": "stdout",
     "output_type": "stream",
     "text": [
      "search: \u001b[0m\u001b[1mn\u001b[22m\u001b[0m\u001b[1ma\u001b[22m\u001b[0m\u001b[1mi\u001b[22m\u001b[0m\u001b[1mv\u001b[22m\u001b[0m\u001b[1me\u001b[22m\u001b[0m\u001b[1m_\u001b[22m\u001b[0m\u001b[1mt\u001b[22m\u001b[0m\u001b[1mr\u001b[22m\u001b[0m\u001b[1ma\u001b[22m\u001b[0m\u001b[1mp\u001b[22m\n",
      "\n"
     ]
    },
    {
     "data": {
      "text/latex": [
       "\\begin{verbatim}\n",
       "naive_trap(f,range,n)\n",
       "\\end{verbatim}\n",
       "is a naive implementation of the trapezoid rule for calculating \\texttt{∫f(x)dx}, with \\texttt{x} running between \\texttt{a} and \\texttt{b} where \\texttt{range=(a,b)}. The integral region is divided into \\texttt{n} trapezoids.\n",
       "\n"
      ],
      "text/markdown": [
       "```\n",
       "naive_trap(f,range,n)\n",
       "```\n",
       "\n",
       "is a naive implementation of the trapezoid rule for calculating `∫f(x)dx`, with `x` running between `a` and `b` where `range=(a,b)`. The integral region is divided into `n` trapezoids.\n"
      ],
      "text/plain": [
       "\u001b[36m  naive_trap(f,range,n)\u001b[39m\n",
       "\n",
       "  is a naive implementation of the trapezoid rule for calculating \u001b[36m∫f(x)dx\u001b[39m,\n",
       "  with \u001b[36mx\u001b[39m running between \u001b[36ma\u001b[39m and \u001b[36mb\u001b[39m where \u001b[36mrange=(a,b)\u001b[39m. The integral region is\n",
       "  divided into \u001b[36mn\u001b[39m trapezoids."
      ]
     },
     "execution_count": 8,
     "metadata": {},
     "output_type": "execute_result"
    }
   ],
   "source": [
    "?naive_trap"
   ]
  },
  {
   "cell_type": "code",
   "execution_count": 9,
   "id": "d03f4a75",
   "metadata": {},
   "outputs": [
    {
     "data": {
      "text/plain": [
       "-0.4999999999999999"
      ]
     },
     "execution_count": 9,
     "metadata": {},
     "output_type": "execute_result"
    }
   ],
   "source": [
    "testf(x)=x\n",
    "naive_trap(testf,(1,0),100)"
   ]
  },
  {
   "cell_type": "code",
   "execution_count": 10,
   "id": "2b878289-e6ba-477b-9976-332ee3d57d3b",
   "metadata": {},
   "outputs": [
    {
     "data": {
      "text/plain": [
       "4.0"
      ]
     },
     "execution_count": 10,
     "metadata": {},
     "output_type": "execute_result"
    }
   ],
   "source": [
    "2^4/4"
   ]
  },
  {
   "cell_type": "markdown",
   "id": "5aeeabe7",
   "metadata": {},
   "source": [
    "Notationally that is fine -- but for things like this it is nice to be able to pass around \"pure functions\" or \"lambda functions\" or \"anonymous functions\"  "
   ]
  },
  {
   "cell_type": "code",
   "execution_count": 11,
   "id": "205520eb",
   "metadata": {},
   "outputs": [
    {
     "data": {
      "text/plain": [
       "0.25250000000000006"
      ]
     },
     "execution_count": 11,
     "metadata": {},
     "output_type": "execute_result"
    }
   ],
   "source": [
    "naive_trap(x->x^3,(0,1),10)"
   ]
  },
  {
   "cell_type": "markdown",
   "id": "4c2a1915",
   "metadata": {},
   "source": [
    "In that expression, `x->x^3` is short-hand for creating the function `testf`, and then inserting it into the function call.  Here are a couple more examples of using this notation."
   ]
  },
  {
   "cell_type": "code",
   "execution_count": 12,
   "id": "294eb84b",
   "metadata": {},
   "outputs": [
    {
     "data": {
      "text/plain": [
       "16"
      ]
     },
     "execution_count": 12,
     "metadata": {},
     "output_type": "execute_result"
    }
   ],
   "source": [
    "(x->x^2)(4)"
   ]
  },
  {
   "cell_type": "code",
   "execution_count": 13,
   "id": "f0209c9c",
   "metadata": {},
   "outputs": [
    {
     "data": {
      "text/plain": [
       "7"
      ]
     },
     "execution_count": 13,
     "metadata": {},
     "output_type": "execute_result"
    }
   ],
   "source": [
    "g=(x->x+2)\n",
    "g(5)"
   ]
  },
  {
   "cell_type": "markdown",
   "id": "c481ceb5-78e0-45fd-bc23-bd3b6fb7f450",
   "metadata": {},
   "source": [
    "Now, one thing I hate is remembering exactly the notation for a function definition.  A nice trick in Julia is to give multiple versions of the function that will work for any natural notation."
   ]
  },
  {
   "cell_type": "code",
   "execution_count": 14,
   "id": "9670ace6-b7ba-4f47-9eea-bd793f820a6e",
   "metadata": {
    "scrolled": true
   },
   "outputs": [
    {
     "data": {
      "text/plain": [
       "naive_trap (generic function with 4 methods)"
      ]
     },
     "execution_count": 14,
     "metadata": {},
     "output_type": "execute_result"
    }
   ],
   "source": [
    "# alternate signature\n",
    "naive_trap(f,a,b,n)=naive_trap(f,(a,b),n) \n",
    "#keyword arguments\n",
    "naive_trap(;f,range,n)=naive_trap(f,range,n)\n",
    "naive_trap(f;range,n=10)=naive_trap(f,range,n)"
   ]
  },
  {
   "cell_type": "code",
   "execution_count": 15,
   "id": "cc6112a5-d904-48ad-83f6-e4ebcff9ab39",
   "metadata": {},
   "outputs": [
    {
     "data": {
      "text/plain": [
       "naive_trap (generic function with 4 methods)"
      ]
     },
     "execution_count": 15,
     "metadata": {},
     "output_type": "execute_result"
    }
   ],
   "source": [
    "naive_trap(;g,space,m)=naive_trap(g,space,m)"
   ]
  },
  {
   "cell_type": "code",
   "execution_count": 16,
   "id": "793b00e1-1285-490a-8ad6-d865e40bb9f0",
   "metadata": {},
   "outputs": [
    {
     "data": {
      "text/plain": [
       "0.3334156378600823"
      ]
     },
     "execution_count": 16,
     "metadata": {},
     "output_type": "execute_result"
    }
   ],
   "source": [
    "naive_trap(g=(x->x^2),space=(0,1),m=45)"
   ]
  },
  {
   "cell_type": "code",
   "execution_count": 17,
   "id": "d638ff23-5fd6-4191-bb31-5b4107a322b9",
   "metadata": {},
   "outputs": [
    {
     "data": {
      "text/plain": [
       "39.045"
      ]
     },
     "execution_count": 17,
     "metadata": {},
     "output_type": "execute_result"
    }
   ],
   "source": [
    "naive_trap(x->x^2,range=(2,5))"
   ]
  },
  {
   "cell_type": "markdown",
   "id": "c6ff2f04-ced8-48e2-878d-3e15cfa952ac",
   "metadata": {},
   "source": [
    "Here are now all the different ways we can call our function"
   ]
  },
  {
   "cell_type": "code",
   "execution_count": 18,
   "id": "6ca3fdb9-a921-4f26-84af-aa57020e79f1",
   "metadata": {},
   "outputs": [
    {
     "data": {
      "text/plain": [
       "2.75"
      ]
     },
     "execution_count": 18,
     "metadata": {},
     "output_type": "execute_result"
    }
   ],
   "source": [
    "# the original way \n",
    "#-- matches `naive_trap(f,range,n)`\n",
    "naive_trap(x->x^2,(0,2),4) "
   ]
  },
  {
   "cell_type": "code",
   "execution_count": 19,
   "id": "26309636-01fd-4eac-922a-e92231b69d32",
   "metadata": {},
   "outputs": [
    {
     "data": {
      "text/plain": [
       "2.75"
      ]
     },
     "execution_count": 19,
     "metadata": {},
     "output_type": "execute_result"
    }
   ],
   "source": [
    "# matches `naive_trap(f,a,b,n)`\n",
    "naive_trap(x->x^2,0,2,4) "
   ]
  },
  {
   "cell_type": "code",
   "execution_count": 20,
   "id": "0e7a075e-1968-466d-ba8d-b58a0b193dcf",
   "metadata": {},
   "outputs": [
    {
     "ename": "LoadError",
     "evalue": "UndefKeywordError: keyword argument `g` not assigned",
     "output_type": "error",
     "traceback": [
      "UndefKeywordError: keyword argument `g` not assigned",
      "",
      "Stacktrace:",
      " [1] top-level scope",
      "   @ In[20]:2"
     ]
    }
   ],
   "source": [
    "# uses keyword arguments\n",
    "naive_trap(f=(x->x^2),range=(0,2),n=4) "
   ]
  },
  {
   "cell_type": "code",
   "execution_count": 21,
   "id": "a8d146f1-127e-46a8-9e07-c21915303f83",
   "metadata": {},
   "outputs": [
    {
     "ename": "LoadError",
     "evalue": "UndefKeywordError: keyword argument `g` not assigned",
     "output_type": "error",
     "traceback": [
      "UndefKeywordError: keyword argument `g` not assigned",
      "",
      "Stacktrace:",
      " [1] top-level scope",
      "   @ In[21]:1"
     ]
    }
   ],
   "source": [
    "naive_trap(n=4,f=(x->x^2),range=(0,2))"
   ]
  },
  {
   "cell_type": "code",
   "execution_count": 22,
   "id": "6f5ca843-6cb3-4dc1-b63f-7bf263186bc0",
   "metadata": {},
   "outputs": [
    {
     "ename": "LoadError",
     "evalue": "UndefKeywordError: keyword argument `g` not assigned",
     "output_type": "error",
     "traceback": [
      "UndefKeywordError: keyword argument `g` not assigned",
      "",
      "Stacktrace:",
      " [1] top-level scope",
      "   @ In[22]:2"
     ]
    }
   ],
   "source": [
    "dictargs=Dict(:f=>(x->x^2),:range=>(0,2),:n=>4)\n",
    "naive_trap(;dictargs...)"
   ]
  },
  {
   "cell_type": "code",
   "execution_count": 23,
   "id": "829feeae-c023-40bf-8abd-9f71fd073b88",
   "metadata": {},
   "outputs": [
    {
     "ename": "LoadError",
     "evalue": "UndefKeywordError: keyword argument `g` not assigned",
     "output_type": "error",
     "traceback": [
      "UndefKeywordError: keyword argument `g` not assigned",
      "",
      "Stacktrace:",
      " [1] top-level scope",
      "   @ In[23]:2"
     ]
    }
   ],
   "source": [
    "ntupleargs=(f=(x->x^2),:range=>(0,2),n=4)\n",
    "naive_trap(;ntupleargs...)"
   ]
  },
  {
   "cell_type": "code",
   "execution_count": 24,
   "id": "856de839-437f-47ae-8d5c-692ee1c23ab0",
   "metadata": {},
   "outputs": [
    {
     "data": {
      "text/plain": [
       "2.75"
      ]
     },
     "execution_count": 24,
     "metadata": {},
     "output_type": "execute_result"
    }
   ],
   "source": [
    "args=(x->x^2,(0,2),4)\n",
    "naive_trap(args...)"
   ]
  },
  {
   "cell_type": "markdown",
   "id": "96d22c4e",
   "metadata": {},
   "source": [
    "<div style=\"border: 2px solid white; border-radius: 10px; padding: 20px; background-color:white; color:black; height: 500px\" >\n",
    "</div>"
   ]
  },
  {
   "cell_type": "markdown",
   "id": "4e38659b",
   "metadata": {},
   "source": [
    "#### Choosing `n`"
   ]
  },
  {
   "cell_type": "markdown",
   "id": "4516e93b",
   "metadata": {},
   "source": [
    "How big of `n` should we use?  Lets see how our result depends on `n`"
   ]
  },
  {
   "cell_type": "code",
   "execution_count": 25,
   "id": "5a7722a7",
   "metadata": {},
   "outputs": [
    {
     "data": {
      "image/png": "[encoded data removed]",
      "image/svg+xml": [
       "<?xml version=\"1.0\" encoding=\"utf-8\"?>\n",
       "<svg xmlns=\"http://www.w3.org/2000/svg\" xmlns:xlink=\"http://www.w3.org/1999/xlink\" width=\"600\" height=\"400\" viewBox=\"0 0 2400 1600\">\n",
       "<defs>\n",
       "  <clipPath id=\"clip240\">\n",
       "    <rect x=\"0\" y=\"0\" width=\"2400\" height=\"1600\"/>\n",
       "  </clipPath>\n",
       "</defs>\n",
       "<path clip-path=\"url(#clip240)\" d=\"M0 1600 L2400 1600 L2400 8.88178e-14 L0 8.88178e-14  Z\" fill=\"#ffffff\" fill-rule=\"evenodd\" fill-opacity=\"1\"/>\n",
       "<defs>\n",
       "  <clipPath id=\"clip241\">\n",
       "    <rect x=\"480\" y=\"0\" width=\"1681\" height=\"1600\"/>\n",
       "  </clipPath>\n",
       "</defs>\n",
       "<path clip-path=\"url(#clip240)\" d=\"M333.358 1423.18 L2352.76 1423.18 L2352.76 47.2441 L333.358 47.2441  Z\" fill=\"#ffffff\" fill-rule=\"evenodd\" fill-opacity=\"1\"/>\n",
       "<defs>\n",
       "  <clipPath id=\"clip242\">\n",
       "    <rect x=\"333\" y=\"47\" width=\"2020\" height=\"1377\"/>\n",
       "  </clipPath>\n",
       "</defs>\n",
       "<polyline clip-path=\"url(#clip242)\" style=\"stroke:#000000; stroke-linecap:round; stroke-linejoin:round; stroke-width:2; stroke-opacity:0.1; fill:none\" points=\"351.632,1423.18 351.632,47.2441 \"/>\n",
       "<polyline clip-path=\"url(#clip242)\" style=\"stroke:#000000; stroke-linecap:round; stroke-linejoin:round; stroke-width:2; stroke-opacity:0.1; fill:none\" points=\"740.426,1423.18 740.426,47.2441 \"/>\n",
       "<polyline clip-path=\"url(#clip242)\" style=\"stroke:#000000; stroke-linecap:round; stroke-linejoin:round; stroke-width:2; stroke-opacity:0.1; fill:none\" points=\"1129.22,1423.18 1129.22,47.2441 \"/>\n",
       "<polyline clip-path=\"url(#clip242)\" style=\"stroke:#000000; stroke-linecap:round; stroke-linejoin:round; stroke-width:2; stroke-opacity:0.1; fill:none\" points=\"1518.01,1423.18 1518.01,47.2441 \"/>\n",
       "<polyline clip-path=\"url(#clip242)\" style=\"stroke:#000000; stroke-linecap:round; stroke-linejoin:round; stroke-width:2; stroke-opacity:0.1; fill:none\" points=\"1906.81,1423.18 1906.81,47.2441 \"/>\n",
       "<polyline clip-path=\"url(#clip242)\" style=\"stroke:#000000; stroke-linecap:round; stroke-linejoin:round; stroke-width:2; stroke-opacity:0.1; fill:none\" points=\"2295.6,1423.18 2295.6,47.2441 \"/>\n",
       "<polyline clip-path=\"url(#clip240)\" style=\"stroke:#000000; stroke-linecap:round; stroke-linejoin:round; stroke-width:4; stroke-opacity:1; fill:none\" points=\"333.358,1423.18 2352.76,1423.18 \"/>\n",
       "<polyline clip-path=\"url(#clip240)\" style=\"stroke:#000000; stroke-linecap:round; stroke-linejoin:round; stroke-width:4; stroke-opacity:1; fill:none\" points=\"351.632,1423.18 351.632,1404.28 \"/>\n",
       "<polyline clip-path=\"url(#clip240)\" style=\"stroke:#000000; stroke-linecap:round; stroke-linejoin:round; stroke-width:4; stroke-opacity:1; fill:none\" points=\"740.426,1423.18 740.426,1404.28 \"/>\n",
       "<polyline clip-path=\"url(#clip240)\" style=\"stroke:#000000; stroke-linecap:round; stroke-linejoin:round; stroke-width:4; stroke-opacity:1; fill:none\" points=\"1129.22,1423.18 1129.22,1404.28 \"/>\n",
       "<polyline clip-path=\"url(#clip240)\" style=\"stroke:#000000; stroke-linecap:round; stroke-linejoin:round; stroke-width:4; stroke-opacity:1; fill:none\" points=\"1518.01,1423.18 1518.01,1404.28 \"/>\n",
       "<polyline clip-path=\"url(#clip240)\" style=\"stroke:#000000; stroke-linecap:round; stroke-linejoin:round; stroke-width:4; stroke-opacity:1; fill:none\" points=\"1906.81,1423.18 1906.81,1404.28 \"/>\n",
       "<polyline clip-path=\"url(#clip240)\" style=\"stroke:#000000; stroke-linecap:round; stroke-linejoin:round; stroke-width:4; stroke-opacity:1; fill:none\" points=\"2295.6,1423.18 2295.6,1404.28 \"/>\n",
       "<path clip-path=\"url(#clip240)\" d=\"M351.632 1454.1 Q348.02 1454.1 346.192 1457.66 Q344.386 1461.2 344.386 1468.33 Q344.386 1475.44 346.192 1479.01 Q348.02 1482.55 351.632 1482.55 Q355.266 1482.55 357.071 1479.01 Q358.9 1475.44 358.9 1468.33 Q358.9 1461.2 357.071 1457.66 Q355.266 1454.1 351.632 1454.1 M351.632 1450.39 Q357.442 1450.39 360.497 1455 Q363.576 1459.58 363.576 1468.33 Q363.576 1477.06 360.497 1481.67 Q357.442 1486.25 351.632 1486.25 Q345.821 1486.25 342.743 1481.67 Q339.687 1477.06 339.687 1468.33 Q339.687 1459.58 342.743 1455 Q345.821 1450.39 351.632 1450.39 Z\" fill=\"#000000\" fill-rule=\"nonzero\" fill-opacity=\"1\" /><path clip-path=\"url(#clip240)\" d=\"M715.114 1481.64 L722.752 1481.64 L722.752 1455.28 L714.442 1456.95 L714.442 1452.69 L722.706 1451.02 L727.382 1451.02 L727.382 1481.64 L735.021 1481.64 L735.021 1485.58 L715.114 1485.58 L715.114 1481.64 Z\" fill=\"#000000\" fill-rule=\"nonzero\" fill-opacity=\"1\" /><path clip-path=\"url(#clip240)\" d=\"M754.465 1454.1 Q750.854 1454.1 749.025 1457.66 Q747.22 1461.2 747.22 1468.33 Q747.22 1475.44 749.025 1479.01 Q750.854 1482.55 754.465 1482.55 Q758.099 1482.55 759.905 1479.01 Q761.734 1475.44 761.734 1468.33 Q761.734 1461.2 759.905 1457.66 Q758.099 1454.1 754.465 1454.1 M754.465 1450.39 Q760.275 1450.39 763.331 1455 Q766.41 1459.58 766.41 1468.33 Q766.41 1477.06 763.331 1481.67 Q760.275 1486.25 754.465 1486.25 Q748.655 1486.25 745.576 1481.67 Q742.521 1477.06 742.521 1468.33 Q742.521 1459.58 745.576 1455 Q748.655 1450.39 754.465 1450.39 Z\" fill=\"#000000\" fill-rule=\"nonzero\" fill-opacity=\"1\" /><path clip-path=\"url(#clip240)\" d=\"M1107.99 1481.64 L1124.31 1481.64 L1124.31 1485.58 L1102.37 1485.58 L1102.37 1481.64 Q1105.03 1478.89 1109.61 1474.26 Q1114.22 1469.61 1115.4 1468.27 Q1117.65 1465.74 1118.53 1464.01 Q1119.43 1462.25 1119.43 1460.56 Q1119.43 1457.8 1117.48 1456.07 Q1115.56 1454.33 1112.46 1454.33 Q1110.26 1454.33 1107.81 1455.09 Q1105.38 1455.86 1102.6 1457.41 L1102.6 1452.69 Q1105.42 1451.55 1107.88 1450.97 Q1110.33 1450.39 1112.37 1450.39 Q1117.74 1450.39 1120.93 1453.08 Q1124.13 1455.77 1124.13 1460.26 Q1124.13 1462.39 1123.32 1464.31 Q1122.53 1466.2 1120.42 1468.8 Q1119.85 1469.47 1116.74 1472.69 Q1113.64 1475.88 1107.99 1481.64 Z\" fill=\"#000000\" fill-rule=\"nonzero\" fill-opacity=\"1\" /><path clip-path=\"url(#clip240)\" d=\"M1144.13 1454.1 Q1140.52 1454.1 1138.69 1457.66 Q1136.88 1461.2 1136.88 1468.33 Q1136.88 1475.44 1138.69 1479.01 Q1140.52 1482.55 1144.13 1482.55 Q1147.76 1482.55 1149.57 1479.01 Q1151.4 1475.44 1151.4 1468.33 Q1151.4 1461.2 1149.57 1457.66 Q1147.76 1454.1 1144.13 1454.1 M1144.13 1450.39 Q1149.94 1450.39 1152.99 1455 Q1156.07 1459.58 1156.07 1468.33 Q1156.07 1477.06 1152.99 1481.67 Q1149.94 1486.25 1144.13 1486.25 Q1138.32 1486.25 1135.24 1481.67 Q1132.18 1477.06 1132.18 1468.33 Q1132.18 1459.58 1135.24 1455 Q1138.32 1450.39 1144.13 1450.39 Z\" fill=\"#000000\" fill-rule=\"nonzero\" fill-opacity=\"1\" /><path clip-path=\"url(#clip240)\" d=\"M1506.86 1466.95 Q1510.21 1467.66 1512.09 1469.93 Q1513.99 1472.2 1513.99 1475.53 Q1513.99 1480.65 1510.47 1483.45 Q1506.95 1486.25 1500.47 1486.25 Q1498.29 1486.25 1495.98 1485.81 Q1493.69 1485.39 1491.23 1484.54 L1491.23 1480.02 Q1493.18 1481.16 1495.49 1481.74 Q1497.81 1482.32 1500.33 1482.32 Q1504.73 1482.32 1507.02 1480.58 Q1509.33 1478.84 1509.33 1475.53 Q1509.33 1472.48 1507.18 1470.77 Q1505.05 1469.03 1501.23 1469.03 L1497.2 1469.03 L1497.2 1465.19 L1501.42 1465.19 Q1504.87 1465.19 1506.7 1463.82 Q1508.52 1462.43 1508.52 1459.84 Q1508.52 1457.18 1506.63 1455.77 Q1504.75 1454.33 1501.23 1454.33 Q1499.31 1454.33 1497.11 1454.75 Q1494.91 1455.16 1492.27 1456.04 L1492.27 1451.88 Q1494.94 1451.14 1497.25 1450.77 Q1499.59 1450.39 1501.65 1450.39 Q1506.97 1450.39 1510.07 1452.83 Q1513.18 1455.23 1513.18 1459.35 Q1513.18 1462.22 1511.53 1464.21 Q1509.89 1466.18 1506.86 1466.95 Z\" fill=\"#000000\" fill-rule=\"nonzero\" fill-opacity=\"1\" /><path clip-path=\"url(#clip240)\" d=\"M1532.85 1454.1 Q1529.24 1454.1 1527.41 1457.66 Q1525.61 1461.2 1525.61 1468.33 Q1525.61 1475.44 1527.41 1479.01 Q1529.24 1482.55 1532.85 1482.55 Q1536.49 1482.55 1538.29 1479.01 Q1540.12 1475.44 1540.12 1468.33 Q1540.12 1461.2 1538.29 1457.66 Q1536.49 1454.1 1532.85 1454.1 M1532.85 1450.39 Q1538.66 1450.39 1541.72 1455 Q1544.8 1459.58 1544.8 1468.33 Q1544.8 1477.06 1541.72 1481.67 Q1538.66 1486.25 1532.85 1486.25 Q1527.04 1486.25 1523.96 1481.67 Q1520.91 1477.06 1520.91 1468.33 Q1520.91 1459.58 1523.96 1455 Q1527.04 1450.39 1532.85 1450.39 Z\" fill=\"#000000\" fill-rule=\"nonzero\" fill-opacity=\"1\" /><path clip-path=\"url(#clip240)\" d=\"M1894.98 1455.09 L1883.17 1473.54 L1894.98 1473.54 L1894.98 1455.09 M1893.75 1451.02 L1899.63 1451.02 L1899.63 1473.54 L1904.56 1473.54 L1904.56 1477.43 L1899.63 1477.43 L1899.63 1485.58 L1894.98 1485.58 L1894.98 1477.43 L1879.38 1477.43 L1879.38 1472.92 L1893.75 1451.02 Z\" fill=\"#000000\" fill-rule=\"nonzero\" fill-opacity=\"1\" /><path clip-path=\"url(#clip240)\" d=\"M1922.29 1454.1 Q1918.68 1454.1 1916.86 1457.66 Q1915.05 1461.2 1915.05 1468.33 Q1915.05 1475.44 1916.86 1479.01 Q1918.68 1482.55 1922.29 1482.55 Q1925.93 1482.55 1927.73 1479.01 Q1929.56 1475.44 1929.56 1468.33 Q1929.56 1461.2 1927.73 1457.66 Q1925.93 1454.1 1922.29 1454.1 M1922.29 1450.39 Q1928.11 1450.39 1931.16 1455 Q1934.24 1459.58 1934.24 1468.33 Q1934.24 1477.06 1931.16 1481.67 Q1928.11 1486.25 1922.29 1486.25 Q1916.48 1486.25 1913.41 1481.67 Q1910.35 1477.06 1910.35 1468.33 Q1910.35 1459.58 1913.41 1455 Q1916.48 1450.39 1922.29 1450.39 Z\" fill=\"#000000\" fill-rule=\"nonzero\" fill-opacity=\"1\" /><path clip-path=\"url(#clip240)\" d=\"M2270.3 1451.02 L2288.66 1451.02 L2288.66 1454.96 L2274.58 1454.96 L2274.58 1463.43 Q2275.6 1463.08 2276.62 1462.92 Q2277.64 1462.73 2278.66 1462.73 Q2284.45 1462.73 2287.83 1465.9 Q2291.21 1469.08 2291.21 1474.49 Q2291.21 1480.07 2287.73 1483.17 Q2284.26 1486.25 2277.94 1486.25 Q2275.77 1486.25 2273.5 1485.88 Q2271.25 1485.51 2268.84 1484.77 L2268.84 1480.07 Q2270.93 1481.2 2273.15 1481.76 Q2275.37 1482.32 2277.85 1482.32 Q2281.85 1482.32 2284.19 1480.21 Q2286.53 1478.1 2286.53 1474.49 Q2286.53 1470.88 2284.19 1468.77 Q2281.85 1466.67 2277.85 1466.67 Q2275.97 1466.67 2274.1 1467.08 Q2272.25 1467.5 2270.3 1468.38 L2270.3 1451.02 Z\" fill=\"#000000\" fill-rule=\"nonzero\" fill-opacity=\"1\" /><path clip-path=\"url(#clip240)\" d=\"M2310.42 1454.1 Q2306.81 1454.1 2304.98 1457.66 Q2303.17 1461.2 2303.17 1468.33 Q2303.17 1475.44 2304.98 1479.01 Q2306.81 1482.55 2310.42 1482.55 Q2314.05 1482.55 2315.86 1479.01 Q2317.69 1475.44 2317.69 1468.33 Q2317.69 1461.2 2315.86 1457.66 Q2314.05 1454.1 2310.42 1454.1 M2310.42 1450.39 Q2316.23 1450.39 2319.28 1455 Q2322.36 1459.58 2322.36 1468.33 Q2322.36 1477.06 2319.28 1481.67 Q2316.23 1486.25 2310.42 1486.25 Q2304.61 1486.25 2301.53 1481.67 Q2298.47 1477.06 2298.47 1468.33 Q2298.47 1459.58 2301.53 1455 Q2304.61 1450.39 2310.42 1450.39 Z\" fill=\"#000000\" fill-rule=\"nonzero\" fill-opacity=\"1\" /><path clip-path=\"url(#clip240)\" d=\"M1357.98 1546.53 L1357.98 1568.04 L1352.13 1568.04 L1352.13 1546.72 Q1352.13 1541.66 1350.15 1539.14 Q1348.18 1536.63 1344.23 1536.63 Q1339.49 1536.63 1336.76 1539.65 Q1334.02 1542.68 1334.02 1547.9 L1334.02 1568.04 L1328.13 1568.04 L1328.13 1532.4 L1334.02 1532.4 L1334.02 1537.93 Q1336.12 1534.72 1338.95 1533.13 Q1341.82 1531.54 1345.54 1531.54 Q1351.68 1531.54 1354.83 1535.36 Q1357.98 1539.14 1357.98 1546.53 Z\" fill=\"#000000\" fill-rule=\"nonzero\" fill-opacity=\"1\" /><polyline clip-path=\"url(#clip242)\" style=\"stroke:#000000; stroke-linecap:round; stroke-linejoin:round; stroke-width:2; stroke-opacity:0.1; fill:none\" points=\"333.358,1384.76 2352.76,1384.76 \"/>\n",
       "<polyline clip-path=\"url(#clip242)\" style=\"stroke:#000000; stroke-linecap:round; stroke-linejoin:round; stroke-width:2; stroke-opacity:0.1; fill:none\" points=\"333.358,1125.04 2352.76,1125.04 \"/>\n",
       "<polyline clip-path=\"url(#clip242)\" style=\"stroke:#000000; stroke-linecap:round; stroke-linejoin:round; stroke-width:2; stroke-opacity:0.1; fill:none\" points=\"333.358,865.329 2352.76,865.329 \"/>\n",
       "<polyline clip-path=\"url(#clip242)\" style=\"stroke:#000000; stroke-linecap:round; stroke-linejoin:round; stroke-width:2; stroke-opacity:0.1; fill:none\" points=\"333.358,605.614 2352.76,605.614 \"/>\n",
       "<polyline clip-path=\"url(#clip242)\" style=\"stroke:#000000; stroke-linecap:round; stroke-linejoin:round; stroke-width:2; stroke-opacity:0.1; fill:none\" points=\"333.358,345.9 2352.76,345.9 \"/>\n",
       "<polyline clip-path=\"url(#clip242)\" style=\"stroke:#000000; stroke-linecap:round; stroke-linejoin:round; stroke-width:2; stroke-opacity:0.1; fill:none\" points=\"333.358,86.1857 2352.76,86.1857 \"/>\n",
       "<polyline clip-path=\"url(#clip240)\" style=\"stroke:#000000; stroke-linecap:round; stroke-linejoin:round; stroke-width:4; stroke-opacity:1; fill:none\" points=\"333.358,1423.18 333.358,47.2441 \"/>\n",
       "<polyline clip-path=\"url(#clip240)\" style=\"stroke:#000000; stroke-linecap:round; stroke-linejoin:round; stroke-width:4; stroke-opacity:1; fill:none\" points=\"333.358,1384.76 352.256,1384.76 \"/>\n",
       "<polyline clip-path=\"url(#clip240)\" style=\"stroke:#000000; stroke-linecap:round; stroke-linejoin:round; stroke-width:4; stroke-opacity:1; fill:none\" points=\"333.358,1125.04 352.256,1125.04 \"/>\n",
       "<polyline clip-path=\"url(#clip240)\" style=\"stroke:#000000; stroke-linecap:round; stroke-linejoin:round; stroke-width:4; stroke-opacity:1; fill:none\" points=\"333.358,865.329 352.256,865.329 \"/>\n",
       "<polyline clip-path=\"url(#clip240)\" style=\"stroke:#000000; stroke-linecap:round; stroke-linejoin:round; stroke-width:4; stroke-opacity:1; fill:none\" points=\"333.358,605.614 352.256,605.614 \"/>\n",
       "<polyline clip-path=\"url(#clip240)\" style=\"stroke:#000000; stroke-linecap:round; stroke-linejoin:round; stroke-width:4; stroke-opacity:1; fill:none\" points=\"333.358,345.9 352.256,345.9 \"/>\n",
       "<polyline clip-path=\"url(#clip240)\" style=\"stroke:#000000; stroke-linecap:round; stroke-linejoin:round; stroke-width:4; stroke-opacity:1; fill:none\" points=\"333.358,86.1857 352.256,86.1857 \"/>\n",
       "<path clip-path=\"url(#clip240)\" d=\"M211.016 1370.56 Q207.405 1370.56 205.576 1374.12 Q203.771 1377.66 203.771 1384.79 Q203.771 1391.9 205.576 1395.46 Q207.405 1399.01 211.016 1399.01 Q214.65 1399.01 216.456 1395.46 Q218.285 1391.9 218.285 1384.79 Q218.285 1377.66 216.456 1374.12 Q214.65 1370.56 211.016 1370.56 M211.016 1366.85 Q216.826 1366.85 219.882 1371.46 Q222.96 1376.04 222.96 1384.79 Q222.96 1393.52 219.882 1398.13 Q216.826 1402.71 211.016 1402.71 Q205.206 1402.71 202.127 1398.13 Q199.072 1393.52 199.072 1384.79 Q199.072 1376.04 202.127 1371.46 Q205.206 1366.85 211.016 1366.85 Z\" fill=\"#000000\" fill-rule=\"nonzero\" fill-opacity=\"1\" /><path clip-path=\"url(#clip240)\" d=\"M231.178 1396.16 L236.062 1396.16 L236.062 1402.04 L231.178 1402.04 L231.178 1396.16 Z\" fill=\"#000000\" fill-rule=\"nonzero\" fill-opacity=\"1\" /><path clip-path=\"url(#clip240)\" d=\"M250.275 1398.1 L266.595 1398.1 L266.595 1402.04 L244.65 1402.04 L244.65 1398.1 Q247.312 1395.35 251.896 1390.72 Q256.502 1386.07 257.683 1384.72 Q259.928 1382.2 260.808 1380.46 Q261.71 1378.7 261.71 1377.01 Q261.71 1374.26 259.766 1372.52 Q257.845 1370.79 254.743 1370.79 Q252.544 1370.79 250.09 1371.55 Q247.659 1372.32 244.882 1373.87 L244.882 1369.14 Q247.706 1368.01 250.159 1367.43 Q252.613 1366.85 254.65 1366.85 Q260.02 1366.85 263.215 1369.54 Q266.409 1372.22 266.409 1376.71 Q266.409 1378.84 265.599 1380.76 Q264.812 1382.66 262.706 1385.26 Q262.127 1385.93 259.025 1389.14 Q255.923 1392.34 250.275 1398.1 Z\" fill=\"#000000\" fill-rule=\"nonzero\" fill-opacity=\"1\" /><path clip-path=\"url(#clip240)\" d=\"M276.456 1367.48 L294.812 1367.48 L294.812 1371.41 L280.738 1371.41 L280.738 1379.89 Q281.756 1379.54 282.775 1379.38 Q283.793 1379.19 284.812 1379.19 Q290.599 1379.19 293.979 1382.36 Q297.358 1385.53 297.358 1390.95 Q297.358 1396.53 293.886 1399.63 Q290.414 1402.71 284.094 1402.71 Q281.918 1402.71 279.65 1402.34 Q277.405 1401.97 274.997 1401.23 L274.997 1396.53 Q277.081 1397.66 279.303 1398.22 Q281.525 1398.77 284.002 1398.77 Q288.006 1398.77 290.344 1396.67 Q292.682 1394.56 292.682 1390.95 Q292.682 1387.34 290.344 1385.23 Q288.006 1383.13 284.002 1383.13 Q282.127 1383.13 280.252 1383.54 Q278.4 1383.96 276.456 1384.84 L276.456 1367.48 Z\" fill=\"#000000\" fill-rule=\"nonzero\" fill-opacity=\"1\" /><path clip-path=\"url(#clip240)\" d=\"M210.021 1110.84 Q206.41 1110.84 204.581 1114.41 Q202.775 1117.95 202.775 1125.08 Q202.775 1132.18 204.581 1135.75 Q206.41 1139.29 210.021 1139.29 Q213.655 1139.29 215.461 1135.75 Q217.289 1132.18 217.289 1125.08 Q217.289 1117.95 215.461 1114.41 Q213.655 1110.84 210.021 1110.84 M210.021 1107.14 Q215.831 1107.14 218.886 1111.74 Q221.965 1116.33 221.965 1125.08 Q221.965 1133.8 218.886 1138.41 Q215.831 1142.99 210.021 1142.99 Q204.211 1142.99 201.132 1138.41 Q198.076 1133.8 198.076 1125.08 Q198.076 1116.33 201.132 1111.74 Q204.211 1107.14 210.021 1107.14 Z\" fill=\"#000000\" fill-rule=\"nonzero\" fill-opacity=\"1\" /><path clip-path=\"url(#clip240)\" d=\"M230.183 1136.44 L235.067 1136.44 L235.067 1142.32 L230.183 1142.32 L230.183 1136.44 Z\" fill=\"#000000\" fill-rule=\"nonzero\" fill-opacity=\"1\" /><path clip-path=\"url(#clip240)\" d=\"M259.419 1123.69 Q262.775 1124.41 264.65 1126.68 Q266.548 1128.94 266.548 1132.28 Q266.548 1137.39 263.03 1140.19 Q259.511 1142.99 253.03 1142.99 Q250.854 1142.99 248.539 1142.55 Q246.247 1142.14 243.794 1141.28 L243.794 1136.77 Q245.738 1137.9 248.053 1138.48 Q250.368 1139.06 252.891 1139.06 Q257.289 1139.06 259.581 1137.32 Q261.895 1135.59 261.895 1132.28 Q261.895 1129.22 259.743 1127.51 Q257.613 1125.77 253.794 1125.77 L249.766 1125.77 L249.766 1121.93 L253.979 1121.93 Q257.428 1121.93 259.257 1120.56 Q261.085 1119.18 261.085 1116.58 Q261.085 1113.92 259.187 1112.51 Q257.312 1111.07 253.794 1111.07 Q251.872 1111.07 249.673 1111.49 Q247.474 1111.91 244.835 1112.79 L244.835 1108.62 Q247.497 1107.88 249.812 1107.51 Q252.15 1107.14 254.21 1107.14 Q259.534 1107.14 262.636 1109.57 Q265.738 1111.98 265.738 1116.1 Q265.738 1118.97 264.095 1120.96 Q262.451 1122.93 259.419 1123.69 Z\" fill=\"#000000\" fill-rule=\"nonzero\" fill-opacity=\"1\" /><path clip-path=\"url(#clip240)\" d=\"M285.414 1110.84 Q281.803 1110.84 279.974 1114.41 Q278.169 1117.95 278.169 1125.08 Q278.169 1132.18 279.974 1135.75 Q281.803 1139.29 285.414 1139.29 Q289.048 1139.29 290.854 1135.75 Q292.682 1132.18 292.682 1125.08 Q292.682 1117.95 290.854 1114.41 Q289.048 1110.84 285.414 1110.84 M285.414 1107.14 Q291.224 1107.14 294.28 1111.74 Q297.358 1116.33 297.358 1125.08 Q297.358 1133.8 294.28 1138.41 Q291.224 1142.99 285.414 1142.99 Q279.604 1142.99 276.525 1138.41 Q273.469 1133.8 273.469 1125.08 Q273.469 1116.33 276.525 1111.74 Q279.604 1107.14 285.414 1107.14 Z\" fill=\"#000000\" fill-rule=\"nonzero\" fill-opacity=\"1\" /><path clip-path=\"url(#clip240)\" d=\"M211.016 851.128 Q207.405 851.128 205.576 854.692 Q203.771 858.234 203.771 865.364 Q203.771 872.47 205.576 876.035 Q207.405 879.576 211.016 879.576 Q214.65 879.576 216.456 876.035 Q218.285 872.47 218.285 865.364 Q218.285 858.234 216.456 854.692 Q214.65 851.128 211.016 851.128 M211.016 847.424 Q216.826 847.424 219.882 852.03 Q222.96 856.614 222.96 865.364 Q222.96 874.09 219.882 878.697 Q216.826 883.28 211.016 883.28 Q205.206 883.28 202.127 878.697 Q199.072 874.09 199.072 865.364 Q199.072 856.614 202.127 852.03 Q205.206 847.424 211.016 847.424 Z\" fill=\"#000000\" fill-rule=\"nonzero\" fill-opacity=\"1\" /><path clip-path=\"url(#clip240)\" d=\"M231.178 876.729 L236.062 876.729 L236.062 882.609 L231.178 882.609 L231.178 876.729 Z\" fill=\"#000000\" fill-rule=\"nonzero\" fill-opacity=\"1\" /><path clip-path=\"url(#clip240)\" d=\"M260.414 863.975 Q263.77 864.692 265.645 866.961 Q267.544 869.229 267.544 872.563 Q267.544 877.678 264.025 880.479 Q260.507 883.28 254.025 883.28 Q251.849 883.28 249.534 882.84 Q247.243 882.424 244.789 881.567 L244.789 877.053 Q246.734 878.188 249.048 878.766 Q251.363 879.345 253.886 879.345 Q258.284 879.345 260.576 877.609 Q262.891 875.873 262.891 872.563 Q262.891 869.507 260.738 867.794 Q258.608 866.058 254.789 866.058 L250.761 866.058 L250.761 862.215 L254.974 862.215 Q258.423 862.215 260.252 860.85 Q262.081 859.461 262.081 856.868 Q262.081 854.206 260.183 852.794 Q258.308 851.359 254.789 851.359 Q252.868 851.359 250.669 851.776 Q248.47 852.192 245.831 853.072 L245.831 848.905 Q248.493 848.165 250.808 847.794 Q253.146 847.424 255.206 847.424 Q260.53 847.424 263.632 849.854 Q266.733 852.262 266.733 856.382 Q266.733 859.253 265.09 861.243 Q263.446 863.211 260.414 863.975 Z\" fill=\"#000000\" fill-rule=\"nonzero\" fill-opacity=\"1\" /><path clip-path=\"url(#clip240)\" d=\"M276.456 848.049 L294.812 848.049 L294.812 851.984 L280.738 851.984 L280.738 860.456 Q281.756 860.109 282.775 859.947 Q283.793 859.762 284.812 859.762 Q290.599 859.762 293.979 862.933 Q297.358 866.104 297.358 871.521 Q297.358 877.1 293.886 880.201 Q290.414 883.28 284.094 883.28 Q281.918 883.28 279.65 882.91 Q277.405 882.539 274.997 881.799 L274.997 877.1 Q277.081 878.234 279.303 878.789 Q281.525 879.345 284.002 879.345 Q288.006 879.345 290.344 877.239 Q292.682 875.132 292.682 871.521 Q292.682 867.91 290.344 865.803 Q288.006 863.697 284.002 863.697 Q282.127 863.697 280.252 864.114 Q278.4 864.53 276.456 865.41 L276.456 848.049 Z\" fill=\"#000000\" fill-rule=\"nonzero\" fill-opacity=\"1\" /><path clip-path=\"url(#clip240)\" d=\"M210.021 591.413 Q206.41 591.413 204.581 594.978 Q202.775 598.52 202.775 605.649 Q202.775 612.756 204.581 616.32 Q206.41 619.862 210.021 619.862 Q213.655 619.862 215.461 616.32 Q217.289 612.756 217.289 605.649 Q217.289 598.52 215.461 594.978 Q213.655 591.413 210.021 591.413 M210.021 587.709 Q215.831 587.709 218.886 592.316 Q221.965 596.899 221.965 605.649 Q221.965 614.376 218.886 618.982 Q215.831 623.566 210.021 623.566 Q204.211 623.566 201.132 618.982 Q198.076 614.376 198.076 605.649 Q198.076 596.899 201.132 592.316 Q204.211 587.709 210.021 587.709 Z\" fill=\"#000000\" fill-rule=\"nonzero\" fill-opacity=\"1\" /><path clip-path=\"url(#clip240)\" d=\"M230.183 617.015 L235.067 617.015 L235.067 622.894 L230.183 622.894 L230.183 617.015 Z\" fill=\"#000000\" fill-rule=\"nonzero\" fill-opacity=\"1\" /><path clip-path=\"url(#clip240)\" d=\"M258.099 592.409 L246.294 610.858 L258.099 610.858 L258.099 592.409 M256.872 588.334 L262.752 588.334 L262.752 610.858 L267.682 610.858 L267.682 614.746 L262.752 614.746 L262.752 622.894 L258.099 622.894 L258.099 614.746 L242.497 614.746 L242.497 610.233 L256.872 588.334 Z\" fill=\"#000000\" fill-rule=\"nonzero\" fill-opacity=\"1\" /><path clip-path=\"url(#clip240)\" d=\"M285.414 591.413 Q281.803 591.413 279.974 594.978 Q278.169 598.52 278.169 605.649 Q278.169 612.756 279.974 616.32 Q281.803 619.862 285.414 619.862 Q289.048 619.862 290.854 616.32 Q292.682 612.756 292.682 605.649 Q292.682 598.52 290.854 594.978 Q289.048 591.413 285.414 591.413 M285.414 587.709 Q291.224 587.709 294.28 592.316 Q297.358 596.899 297.358 605.649 Q297.358 614.376 294.28 618.982 Q291.224 623.566 285.414 623.566 Q279.604 623.566 276.525 618.982 Q273.469 614.376 273.469 605.649 Q273.469 596.899 276.525 592.316 Q279.604 587.709 285.414 587.709 Z\" fill=\"#000000\" fill-rule=\"nonzero\" fill-opacity=\"1\" /><path clip-path=\"url(#clip240)\" d=\"M211.016 331.699 Q207.405 331.699 205.576 335.264 Q203.771 338.805 203.771 345.935 Q203.771 353.041 205.576 356.606 Q207.405 360.148 211.016 360.148 Q214.65 360.148 216.456 356.606 Q218.285 353.041 218.285 345.935 Q218.285 338.805 216.456 335.264 Q214.65 331.699 211.016 331.699 M211.016 327.995 Q216.826 327.995 219.882 332.602 Q222.96 337.185 222.96 345.935 Q222.96 354.662 219.882 359.268 Q216.826 363.851 211.016 363.851 Q205.206 363.851 202.127 359.268 Q199.072 354.662 199.072 345.935 Q199.072 337.185 202.127 332.602 Q205.206 327.995 211.016 327.995 Z\" fill=\"#000000\" fill-rule=\"nonzero\" fill-opacity=\"1\" /><path clip-path=\"url(#clip240)\" d=\"M231.178 357.3 L236.062 357.3 L236.062 363.18 L231.178 363.18 L231.178 357.3 Z\" fill=\"#000000\" fill-rule=\"nonzero\" fill-opacity=\"1\" /><path clip-path=\"url(#clip240)\" d=\"M259.095 332.694 L247.289 351.143 L259.095 351.143 L259.095 332.694 M257.868 328.62 L263.747 328.62 L263.747 351.143 L268.678 351.143 L268.678 355.032 L263.747 355.032 L263.747 363.18 L259.095 363.18 L259.095 355.032 L243.493 355.032 L243.493 350.518 L257.868 328.62 Z\" fill=\"#000000\" fill-rule=\"nonzero\" fill-opacity=\"1\" /><path clip-path=\"url(#clip240)\" d=\"M276.456 328.62 L294.812 328.62 L294.812 332.555 L280.738 332.555 L280.738 341.027 Q281.756 340.68 282.775 340.518 Q283.793 340.333 284.812 340.333 Q290.599 340.333 293.979 343.504 Q297.358 346.676 297.358 352.092 Q297.358 357.671 293.886 360.773 Q290.414 363.851 284.094 363.851 Q281.918 363.851 279.65 363.481 Q277.405 363.111 274.997 362.37 L274.997 357.671 Q277.081 358.805 279.303 359.361 Q281.525 359.916 284.002 359.916 Q288.006 359.916 290.344 357.81 Q292.682 355.703 292.682 352.092 Q292.682 348.481 290.344 346.375 Q288.006 344.268 284.002 344.268 Q282.127 344.268 280.252 344.685 Q278.4 345.101 276.456 345.981 L276.456 328.62 Z\" fill=\"#000000\" fill-rule=\"nonzero\" fill-opacity=\"1\" /><path clip-path=\"url(#clip240)\" d=\"M210.021 71.9844 Q206.41 71.9844 204.581 75.5492 Q202.775 79.0908 202.775 86.2204 Q202.775 93.3268 204.581 96.8916 Q206.41 100.433 210.021 100.433 Q213.655 100.433 215.461 96.8916 Q217.289 93.3268 217.289 86.2204 Q217.289 79.0908 215.461 75.5492 Q213.655 71.9844 210.021 71.9844 M210.021 68.2807 Q215.831 68.2807 218.886 72.8871 Q221.965 77.4704 221.965 86.2204 Q221.965 94.9472 218.886 99.5537 Q215.831 104.137 210.021 104.137 Q204.211 104.137 201.132 99.5537 Q198.076 94.9472 198.076 86.2204 Q198.076 77.4704 201.132 72.8871 Q204.211 68.2807 210.021 68.2807 Z\" fill=\"#000000\" fill-rule=\"nonzero\" fill-opacity=\"1\" /><path clip-path=\"url(#clip240)\" d=\"M230.183 97.5861 L235.067 97.5861 L235.067 103.466 L230.183 103.466 L230.183 97.5861 Z\" fill=\"#000000\" fill-rule=\"nonzero\" fill-opacity=\"1\" /><path clip-path=\"url(#clip240)\" d=\"M245.298 68.9057 L263.655 68.9057 L263.655 72.8408 L249.581 72.8408 L249.581 81.313 Q250.599 80.9658 251.618 80.8038 Q252.636 80.6186 253.655 80.6186 Q259.442 80.6186 262.821 83.7899 Q266.201 86.9611 266.201 92.3778 Q266.201 97.9564 262.729 101.058 Q259.257 104.137 252.937 104.137 Q250.761 104.137 248.493 103.767 Q246.247 103.396 243.84 102.655 L243.84 97.9564 Q245.923 99.0907 248.146 99.6462 Q250.368 100.202 252.845 100.202 Q256.849 100.202 259.187 98.0953 Q261.525 95.9889 261.525 92.3778 Q261.525 88.7667 259.187 86.6602 Q256.849 84.5537 252.845 84.5537 Q250.97 84.5537 249.095 84.9704 Q247.243 85.3871 245.298 86.2667 L245.298 68.9057 Z\" fill=\"#000000\" fill-rule=\"nonzero\" fill-opacity=\"1\" /><path clip-path=\"url(#clip240)\" d=\"M285.414 71.9844 Q281.803 71.9844 279.974 75.5492 Q278.169 79.0908 278.169 86.2204 Q278.169 93.3268 279.974 96.8916 Q281.803 100.433 285.414 100.433 Q289.048 100.433 290.854 96.8916 Q292.682 93.3268 292.682 86.2204 Q292.682 79.0908 290.854 75.5492 Q289.048 71.9844 285.414 71.9844 M285.414 68.2807 Q291.224 68.2807 294.28 72.8871 Q297.358 77.4704 297.358 86.2204 Q297.358 94.9472 294.28 99.5537 Q291.224 104.137 285.414 104.137 Q279.604 104.137 276.525 99.5537 Q273.469 94.9472 273.469 86.2204 Q273.469 77.4704 276.525 72.8871 Q279.604 68.2807 285.414 68.2807 Z\" fill=\"#000000\" fill-rule=\"nonzero\" fill-opacity=\"1\" /><path clip-path=\"url(#clip240)\" d=\"M44.2885 785.866 Q46.0196 785.866 46.9455 786.913 Q47.8312 787.959 47.8312 789.328 Q47.8312 790.657 46.9455 791.703 Q46.0196 792.71 44.3691 792.71 Q43.2419 792.71 42.2354 791.985 Q41.1887 791.26 40.9874 789.65 Q39.2564 791.663 39.2564 794.843 Q39.2564 796.413 39.8602 797.5 Q40.4238 798.547 42.1549 799.594 Q43.886 800.64 47.4286 801.365 Q50.9713 802.049 56.4865 802.492 L77.0177 804.062 Q83.9823 804.545 97.6698 806.276 Q111.317 807.967 114.457 808.772 Q117.436 809.497 119.892 810.584 Q122.347 811.671 124.481 813.281 Q126.655 814.891 127.863 817.226 Q129.07 819.561 129.07 822.379 Q129.07 826.123 127.098 828.78 Q125.166 831.437 122.227 831.437 Q120.496 831.437 119.57 830.39 Q118.684 829.344 118.684 827.975 Q118.684 826.647 119.57 825.64 Q120.496 824.593 122.146 824.593 Q123.273 824.593 124.28 825.318 Q125.327 826.043 125.528 827.653 Q127.259 825.64 127.259 822.379 Q127.259 819.883 125.81 818.233 Q124.36 816.582 120.496 815.375 Q116.631 814.167 110.029 813.643 L89.4975 812.073 Q82.2512 811.55 68.765 809.859 Q55.2788 808.128 51.7361 807.363 Q37.4448 804.143 37.4448 794.924 Q37.4448 791.18 39.4174 788.523 Q41.3498 785.866 44.2885 785.866 Z\" fill=\"#000000\" fill-rule=\"nonzero\" fill-opacity=\"1\" /><path clip-path=\"url(#clip240)\" d=\"M166.004 823.064 Q159.218 823.064 155.521 821.351 Q150.02 818.961 150.02 813.325 Q150.02 812.13 150.359 810.89 Q150.674 809.628 151.914 808.05 Q153.154 806.449 155.183 805.48 Q159.106 803.631 166.004 803.631 Q172.745 803.631 176.42 805.344 Q181.785 807.847 181.785 813.37 Q181.785 815.444 180.725 817.563 Q179.666 819.66 177.118 820.99 Q173.308 823.064 166.004 823.064 M165.441 819.232 Q172.407 819.232 175.18 818.736 Q178.178 818.172 179.486 816.639 Q180.771 815.083 180.771 813.37 Q180.771 811.521 179.395 809.988 Q177.998 808.433 174.999 807.96 Q172.046 807.441 165.441 807.464 Q159.015 807.464 156.445 807.914 Q153.447 808.523 152.252 810.146 Q151.035 811.747 151.035 813.37 Q151.035 813.979 151.215 814.633 Q151.396 815.264 151.914 816.188 Q152.433 817.112 153.718 817.834 Q155.003 818.533 156.941 818.871 Q159.444 819.232 165.441 819.232 Z\" fill=\"#000000\" fill-rule=\"nonzero\" fill-opacity=\"1\" /><path clip-path=\"url(#clip240)\" d=\"M-11.1206 820.991 L-12.5635 820.991 Q-12.5635 815.446 -15.5167 812.582 Q-15.5167 811.793 -15.3364 811.658 Q-15.156 811.523 -14.3219 811.523 L11.5813 811.523 Q12.9565 811.523 13.3848 810.847 Q13.8131 810.17 13.8131 807.217 L13.8131 805.752 L15.2334 805.752 Q15.0982 807.375 15.0982 813.236 Q15.0982 819.098 15.2334 820.698 L13.8131 820.698 L13.8131 819.233 Q13.8131 816.325 13.4074 815.626 Q12.979 814.927 11.5813 814.927 L-12.338 814.927 Q-11.1206 817.339 -11.1206 820.991 Z\" fill=\"#000000\" fill-rule=\"nonzero\" fill-opacity=\"1\" /><path clip-path=\"url(#clip240)\" d=\"M79.0306 739.382 Q80.8341 739.382 81.8647 740.509 Q82.8631 741.637 82.8631 742.925 Q82.8631 744.149 82.1546 744.793 Q81.4461 745.437 80.5443 745.437 Q79.3205 745.437 78.2577 744.535 Q77.1949 743.633 76.9694 742.281 Q76.1321 743.601 76.1321 745.566 Q76.1321 746.854 76.8084 747.981 Q77.4847 749.076 78.3543 749.752 Q79.2239 750.397 80.4799 750.976 Q81.7037 751.524 82.4444 751.749 Q83.153 751.942 83.9259 752.104 L92.9435 754.358 Q97.2269 755.453 98.7406 755.453 Q100.609 755.453 101.865 754.551 Q103.088 753.649 103.088 751.846 Q103.088 751.137 102.895 750.332 Q102.67 749.527 102.09 748.496 Q101.478 747.434 100.576 746.5 Q99.6424 745.534 98.0643 744.6 Q96.4862 743.666 94.4572 743.054 Q93.7487 742.86 93.7487 742.216 Q93.7487 741.411 94.3928 741.411 Q94.9403 741.411 96.0997 741.862 Q97.2269 742.281 98.7084 743.215 Q100.158 744.116 101.478 745.308 Q102.766 746.5 103.668 748.271 Q104.57 750.042 104.57 751.975 Q104.57 754.744 103.088 756.58 Q101.607 758.416 99.5457 759.092 Q99.8356 759.253 100.222 759.479 Q100.609 759.704 101.478 760.38 Q102.315 761.025 102.96 761.765 Q103.571 762.506 104.055 763.665 Q104.57 764.793 104.57 766.016 Q104.57 767.562 104.119 768.947 Q103.668 770.3 102.638 771.266 Q101.607 772.232 100.19 772.232 Q98.6118 772.232 97.5168 771.169 Q96.3896 770.074 96.3896 768.593 Q96.3896 767.659 96.9371 766.918 Q97.4846 766.145 98.6762 766.145 Q99.9966 766.145 100.995 767.047 Q101.993 767.949 102.251 769.237 Q103.088 767.917 103.088 765.952 Q103.088 763.826 101.22 762.152 Q99.3525 760.477 96.2285 759.672 Q88.7246 757.675 85.3752 756.902 Q81.9936 756.129 80.5443 756.129 Q79.1916 756.129 78.2577 756.484 Q77.3237 756.838 76.905 757.45 Q76.4541 758.029 76.2931 758.577 Q76.1321 759.092 76.1321 759.672 Q76.1321 760.638 76.5186 761.733 Q76.905 762.796 77.8068 764.084 Q78.6764 765.34 80.4799 766.532 Q82.2834 767.723 84.7633 768.529 Q85.504 768.69 85.504 769.398 Q85.4718 770.171 84.8277 770.171 Q84.2802 770.171 83.153 769.752 Q81.9936 769.301 80.5443 768.4 Q79.095 767.466 77.8068 766.274 Q76.4864 765.05 75.5846 763.279 Q74.6828 761.475 74.6828 759.543 Q74.6828 758.674 74.8761 757.836 Q75.0371 756.967 75.5202 755.936 Q76.0033 754.873 77.0661 753.939 Q78.1289 753.005 79.6747 752.426 Q78.934 752.039 78.2255 751.524 Q77.5169 750.976 76.6474 750.139 Q75.7456 749.269 75.2303 748.078 Q74.6828 746.854 74.6828 745.501 Q74.6828 744.181 75.0371 742.893 Q75.3591 741.604 76.4219 740.509 Q77.4525 739.382 79.0306 739.382 Z\" fill=\"#000000\" fill-rule=\"nonzero\" fill-opacity=\"1\" /><path clip-path=\"url(#clip240)\" d=\"M76.864 732.661 Q75.4888 732.661 74.835 731.872 Q74.1812 731.083 74.1812 730.068 Q74.1812 729.009 74.8801 728.265 Q75.5564 727.498 76.7513 727.498 Q78.0363 727.498 78.7577 728.4 Q79.4791 729.279 79.2988 730.542 Q81.1474 729.437 81.9815 727.408 Q82.8156 725.357 82.8156 723.463 Q82.8156 721.479 81.1023 719.878 Q79.3889 718.255 75.1957 718.255 Q71.6338 718.255 69.5822 719.653 Q67.5307 721.028 67.5307 723.756 L67.5307 725.785 Q67.5307 726.484 67.4631 726.687 Q67.3955 726.89 67.0122 726.89 Q66.5613 726.89 66.4712 726.191 Q66.4712 725.492 66.3359 724.387 Q66.2457 721.704 63.9237 720.284 Q61.7594 718.999 58.6709 718.999 Q55.8529 718.999 54.6806 720.352 Q53.4858 721.682 53.4858 723.418 Q53.4858 725.041 54.1621 726.822 Q54.8384 728.603 56.3489 729.572 Q56.3489 726.709 58.6709 726.709 Q59.6854 726.709 60.3617 727.363 Q61.0155 727.994 61.0155 729.054 Q61.0155 730.068 60.3842 730.745 Q59.7305 731.421 58.6258 731.421 Q55.9881 731.421 54.1621 729.076 Q52.336 726.709 52.336 723.237 Q52.336 719.811 54.1395 717.286 Q55.9431 714.738 58.716 714.738 Q61.4438 714.738 63.6757 716.542 Q65.9076 718.345 66.8319 721.209 Q67.5307 717.692 69.9204 715.595 Q72.2875 713.498 75.1957 713.498 Q78.8028 713.498 81.463 716.339 Q84.1006 719.18 84.1006 723.328 Q84.1006 727.16 82.0266 729.911 Q79.9525 732.661 76.864 732.661 Z\" fill=\"#000000\" fill-rule=\"nonzero\" fill-opacity=\"1\" /><path clip-path=\"url(#clip240)\" d=\"M58.7731 675.244 L96.9049 684.744 Q98.6118 685.131 100.061 685.131 Q103.088 685.131 103.088 683.166 Q103.088 682.2 102.476 681.427 Q101.865 680.654 100.576 680.042 Q99.2881 679.43 98.0965 679.044 Q96.8727 678.657 94.9403 678.142 Q94.1674 677.981 93.9741 677.852 Q93.7487 677.691 93.7487 677.24 Q93.7487 676.435 94.3928 676.435 Q98.5474 677.305 100.931 678.432 Q104.57 680.236 104.57 683.295 Q104.57 685.614 103.153 687.256 Q101.736 688.899 99.6102 689.285 Q104.57 693.504 104.57 697.884 Q104.57 701.749 101.639 704.197 Q98.6762 706.644 94.0063 706.644 Q89.3043 706.644 84.7955 704.326 Q80.2866 701.975 77.4847 698.271 Q74.6828 694.567 74.6828 690.767 Q74.6828 686.741 78.9018 684.68 L63.2497 680.719 L61.9615 680.525 Q61.575 680.525 61.3818 680.686 Q61.1564 680.815 60.9953 681.588 Q60.8343 682.329 60.8343 683.81 Q60.8343 684.422 60.8021 684.712 Q60.7699 684.97 60.6089 685.195 Q60.4156 685.421 60.0292 685.421 Q58.902 685.421 58.7731 684.487 Q58.0646 678.303 58.0646 676.113 Q58.0646 675.727 58.2578 675.501 Q58.4189 675.276 58.6121 675.276 L58.7731 675.244 M81.9291 685.485 Q81.6393 685.485 80.8341 685.711 Q80.029 685.936 78.9018 686.451 Q77.7746 686.967 76.9694 688.094 Q76.1321 689.189 76.1321 690.67 Q76.1321 692.667 77.839 694.76 Q79.5459 696.822 82.4444 698.335 Q84.7633 699.495 89.6263 700.751 Q94.4894 701.975 96.9049 701.975 Q98.3863 701.975 99.7068 701.652 Q100.995 701.298 102.058 700.3 Q103.088 699.301 103.088 697.756 Q103.088 693.987 98.4185 690.284 Q97.6134 689.575 97.2913 689.414 Q96.9371 689.221 95.9709 688.963 L83.0563 685.678 Q82.0902 685.485 81.9291 685.485 Z\" fill=\"#000000\" fill-rule=\"nonzero\" fill-opacity=\"1\" /><path clip-path=\"url(#clip240)\" d=\"M79.0306 640.91 Q80.8341 640.91 81.8647 642.038 Q82.8631 643.165 82.8631 644.453 Q82.8631 645.677 82.1546 646.321 Q81.4461 646.965 80.5443 646.965 Q79.3205 646.965 78.2577 646.063 Q77.1949 645.162 76.9694 643.809 Q76.1321 645.129 76.1321 647.094 Q76.1321 648.382 76.8084 649.509 Q77.4847 650.604 78.3543 651.281 Q79.2239 651.925 80.4799 652.504 Q81.7037 653.052 82.4444 653.277 Q83.153 653.471 83.9259 653.632 L92.9435 655.886 Q97.2269 656.981 98.7406 656.981 Q100.609 656.981 101.865 656.079 Q103.088 655.178 103.088 653.374 Q103.088 652.666 102.895 651.86 Q102.67 651.055 102.09 650.025 Q101.478 648.962 100.576 648.028 Q99.6424 647.062 98.0643 646.128 Q96.4862 645.194 94.4572 644.582 Q93.7487 644.389 93.7487 643.744 Q93.7487 642.939 94.3928 642.939 Q94.9403 642.939 96.0997 643.39 Q97.2269 643.809 98.7084 644.743 Q100.158 645.645 101.478 646.836 Q102.766 648.028 103.668 649.799 Q104.57 651.571 104.57 653.503 Q104.57 656.273 103.088 658.108 Q101.607 659.944 99.5457 660.62 Q99.8356 660.781 100.222 661.007 Q100.609 661.232 101.478 661.909 Q102.315 662.553 102.96 663.293 Q103.571 664.034 104.055 665.194 Q104.57 666.321 104.57 667.545 Q104.57 669.091 104.119 670.475 Q103.668 671.828 102.638 672.794 Q101.607 673.76 100.19 673.76 Q98.6118 673.76 97.5168 672.698 Q96.3896 671.603 96.3896 670.121 Q96.3896 669.187 96.9371 668.446 Q97.4846 667.673 98.6762 667.673 Q99.9966 667.673 100.995 668.575 Q101.993 669.477 102.251 670.765 Q103.088 669.445 103.088 667.48 Q103.088 665.355 101.22 663.68 Q99.3525 662.005 96.2285 661.2 Q88.7246 659.203 85.3752 658.43 Q81.9936 657.657 80.5443 657.657 Q79.1916 657.657 78.2577 658.012 Q77.3237 658.366 76.905 658.978 Q76.4541 659.558 76.2931 660.105 Q76.1321 660.62 76.1321 661.2 Q76.1321 662.166 76.5186 663.261 Q76.905 664.324 77.8068 665.612 Q78.6764 666.868 80.4799 668.06 Q82.2834 669.252 84.7633 670.057 Q85.504 670.218 85.504 670.926 Q85.4718 671.699 84.8277 671.699 Q84.2802 671.699 83.153 671.281 Q81.9936 670.83 80.5443 669.928 Q79.095 668.994 77.8068 667.802 Q76.4864 666.578 75.5846 664.807 Q74.6828 663.004 74.6828 661.071 Q74.6828 660.202 74.8761 659.364 Q75.0371 658.495 75.5202 657.464 Q76.0033 656.401 77.0661 655.467 Q78.1289 654.533 79.6747 653.954 Q78.934 653.567 78.2255 653.052 Q77.5169 652.504 76.6474 651.667 Q75.7456 650.798 75.2303 649.606 Q74.6828 648.382 74.6828 647.029 Q74.6828 645.709 75.0371 644.421 Q75.3591 643.133 76.4219 642.038 Q77.4525 640.91 79.0306 640.91 Z\" fill=\"#000000\" fill-rule=\"nonzero\" fill-opacity=\"1\" /><polyline clip-path=\"url(#clip242)\" style=\"stroke:#009af9; stroke-linecap:round; stroke-linejoin:round; stroke-width:4; stroke-opacity:1; fill:none\" points=\"390.511,86.1857 429.39,1060.11 468.27,1240.47 507.149,1303.6 546.029,1332.81 584.908,1348.69 623.788,1358.26 662.667,1364.47 701.546,1368.73 740.426,1371.77 779.305,1374.03 818.185,1375.74 857.064,1377.07 895.944,1378.13 934.823,1378.99 973.702,1379.69 1012.58,1380.26 1051.46,1380.75 1090.34,1381.16 1129.22,1381.51 1168.1,1381.81 1206.98,1382.07 1245.86,1382.3 1284.74,1382.5 1323.62,1382.68 1362.5,1382.84 1401.38,1382.98 1440.26,1383.1 1479.14,1383.21 1518.01,1383.31 1556.89,1383.41 1595.77,1383.49 1634.65,1383.57 1673.53,1383.63 1712.41,1383.7 1751.29,1383.76 1790.17,1383.81 1829.05,1383.86 1867.93,1383.9 1906.81,1383.95 1945.69,1383.99 1984.57,1384.02 2023.45,1384.06 2062.33,1384.09 2101.21,1384.12 2140.09,1384.14 2178.96,1384.17 2217.84,1384.19 2256.72,1384.22 2295.6,1384.24 \"/>\n",
       "<circle clip-path=\"url(#clip242)\" cx=\"390.511\" cy=\"86.1857\" r=\"14.4\" fill=\"#e26f46\" fill-rule=\"evenodd\" fill-opacity=\"1\" stroke=\"#000000\" stroke-opacity=\"1\" stroke-width=\"3.2\"/>\n",
       "<circle clip-path=\"url(#clip242)\" cx=\"429.39\" cy=\"1060.11\" r=\"14.4\" fill=\"#e26f46\" fill-rule=\"evenodd\" fill-opacity=\"1\" stroke=\"#000000\" stroke-opacity=\"1\" stroke-width=\"3.2\"/>\n",
       "<circle clip-path=\"url(#clip242)\" cx=\"468.27\" cy=\"1240.47\" r=\"14.4\" fill=\"#e26f46\" fill-rule=\"evenodd\" fill-opacity=\"1\" stroke=\"#000000\" stroke-opacity=\"1\" stroke-width=\"3.2\"/>\n",
       "<circle clip-path=\"url(#clip242)\" cx=\"507.149\" cy=\"1303.6\" r=\"14.4\" fill=\"#e26f46\" fill-rule=\"evenodd\" fill-opacity=\"1\" stroke=\"#000000\" stroke-opacity=\"1\" stroke-width=\"3.2\"/>\n",
       "<circle clip-path=\"url(#clip242)\" cx=\"546.029\" cy=\"1332.81\" r=\"14.4\" fill=\"#e26f46\" fill-rule=\"evenodd\" fill-opacity=\"1\" stroke=\"#000000\" stroke-opacity=\"1\" stroke-width=\"3.2\"/>\n",
       "<circle clip-path=\"url(#clip242)\" cx=\"584.908\" cy=\"1348.69\" r=\"14.4\" fill=\"#e26f46\" fill-rule=\"evenodd\" fill-opacity=\"1\" stroke=\"#000000\" stroke-opacity=\"1\" stroke-width=\"3.2\"/>\n",
       "<circle clip-path=\"url(#clip242)\" cx=\"623.788\" cy=\"1358.26\" r=\"14.4\" fill=\"#e26f46\" fill-rule=\"evenodd\" fill-opacity=\"1\" stroke=\"#000000\" stroke-opacity=\"1\" stroke-width=\"3.2\"/>\n",
       "<circle clip-path=\"url(#clip242)\" cx=\"662.667\" cy=\"1364.47\" r=\"14.4\" fill=\"#e26f46\" fill-rule=\"evenodd\" fill-opacity=\"1\" stroke=\"#000000\" stroke-opacity=\"1\" stroke-width=\"3.2\"/>\n",
       "<circle clip-path=\"url(#clip242)\" cx=\"701.546\" cy=\"1368.73\" r=\"14.4\" fill=\"#e26f46\" fill-rule=\"evenodd\" fill-opacity=\"1\" stroke=\"#000000\" stroke-opacity=\"1\" stroke-width=\"3.2\"/>\n",
       "<circle clip-path=\"url(#clip242)\" cx=\"740.426\" cy=\"1371.77\" r=\"14.4\" fill=\"#e26f46\" fill-rule=\"evenodd\" fill-opacity=\"1\" stroke=\"#000000\" stroke-opacity=\"1\" stroke-width=\"3.2\"/>\n",
       "<circle clip-path=\"url(#clip242)\" cx=\"779.305\" cy=\"1374.03\" r=\"14.4\" fill=\"#e26f46\" fill-rule=\"evenodd\" fill-opacity=\"1\" stroke=\"#000000\" stroke-opacity=\"1\" stroke-width=\"3.2\"/>\n",
       "<circle clip-path=\"url(#clip242)\" cx=\"818.185\" cy=\"1375.74\" r=\"14.4\" fill=\"#e26f46\" fill-rule=\"evenodd\" fill-opacity=\"1\" stroke=\"#000000\" stroke-opacity=\"1\" stroke-width=\"3.2\"/>\n",
       "<circle clip-path=\"url(#clip242)\" cx=\"857.064\" cy=\"1377.07\" r=\"14.4\" fill=\"#e26f46\" fill-rule=\"evenodd\" fill-opacity=\"1\" stroke=\"#000000\" stroke-opacity=\"1\" stroke-width=\"3.2\"/>\n",
       "<circle clip-path=\"url(#clip242)\" cx=\"895.944\" cy=\"1378.13\" r=\"14.4\" fill=\"#e26f46\" fill-rule=\"evenodd\" fill-opacity=\"1\" stroke=\"#000000\" stroke-opacity=\"1\" stroke-width=\"3.2\"/>\n",
       "<circle clip-path=\"url(#clip242)\" cx=\"934.823\" cy=\"1378.99\" r=\"14.4\" fill=\"#e26f46\" fill-rule=\"evenodd\" fill-opacity=\"1\" stroke=\"#000000\" stroke-opacity=\"1\" stroke-width=\"3.2\"/>\n",
       "<circle clip-path=\"url(#clip242)\" cx=\"973.702\" cy=\"1379.69\" r=\"14.4\" fill=\"#e26f46\" fill-rule=\"evenodd\" fill-opacity=\"1\" stroke=\"#000000\" stroke-opacity=\"1\" stroke-width=\"3.2\"/>\n",
       "<circle clip-path=\"url(#clip242)\" cx=\"1012.58\" cy=\"1380.26\" r=\"14.4\" fill=\"#e26f46\" fill-rule=\"evenodd\" fill-opacity=\"1\" stroke=\"#000000\" stroke-opacity=\"1\" stroke-width=\"3.2\"/>\n",
       "<circle clip-path=\"url(#clip242)\" cx=\"1051.46\" cy=\"1380.75\" r=\"14.4\" fill=\"#e26f46\" fill-rule=\"evenodd\" fill-opacity=\"1\" stroke=\"#000000\" stroke-opacity=\"1\" stroke-width=\"3.2\"/>\n",
       "<circle clip-path=\"url(#clip242)\" cx=\"1090.34\" cy=\"1381.16\" r=\"14.4\" fill=\"#e26f46\" fill-rule=\"evenodd\" fill-opacity=\"1\" stroke=\"#000000\" stroke-opacity=\"1\" stroke-width=\"3.2\"/>\n",
       "<circle clip-path=\"url(#clip242)\" cx=\"1129.22\" cy=\"1381.51\" r=\"14.4\" fill=\"#e26f46\" fill-rule=\"evenodd\" fill-opacity=\"1\" stroke=\"#000000\" stroke-opacity=\"1\" stroke-width=\"3.2\"/>\n",
       "<circle clip-path=\"url(#clip242)\" cx=\"1168.1\" cy=\"1381.81\" r=\"14.4\" fill=\"#e26f46\" fill-rule=\"evenodd\" fill-opacity=\"1\" stroke=\"#000000\" stroke-opacity=\"1\" stroke-width=\"3.2\"/>\n",
       "<circle clip-path=\"url(#clip242)\" cx=\"1206.98\" cy=\"1382.07\" r=\"14.4\" fill=\"#e26f46\" fill-rule=\"evenodd\" fill-opacity=\"1\" stroke=\"#000000\" stroke-opacity=\"1\" stroke-width=\"3.2\"/>\n",
       "<circle clip-path=\"url(#clip242)\" cx=\"1245.86\" cy=\"1382.3\" r=\"14.4\" fill=\"#e26f46\" fill-rule=\"evenodd\" fill-opacity=\"1\" stroke=\"#000000\" stroke-opacity=\"1\" stroke-width=\"3.2\"/>\n",
       "<circle clip-path=\"url(#clip242)\" cx=\"1284.74\" cy=\"1382.5\" r=\"14.4\" fill=\"#e26f46\" fill-rule=\"evenodd\" fill-opacity=\"1\" stroke=\"#000000\" stroke-opacity=\"1\" stroke-width=\"3.2\"/>\n",
       "<circle clip-path=\"url(#clip242)\" cx=\"1323.62\" cy=\"1382.68\" r=\"14.4\" fill=\"#e26f46\" fill-rule=\"evenodd\" fill-opacity=\"1\" stroke=\"#000000\" stroke-opacity=\"1\" stroke-width=\"3.2\"/>\n",
       "<circle clip-path=\"url(#clip242)\" cx=\"1362.5\" cy=\"1382.84\" r=\"14.4\" fill=\"#e26f46\" fill-rule=\"evenodd\" fill-opacity=\"1\" stroke=\"#000000\" stroke-opacity=\"1\" stroke-width=\"3.2\"/>\n",
       "<circle clip-path=\"url(#clip242)\" cx=\"1401.38\" cy=\"1382.98\" r=\"14.4\" fill=\"#e26f46\" fill-rule=\"evenodd\" fill-opacity=\"1\" stroke=\"#000000\" stroke-opacity=\"1\" stroke-width=\"3.2\"/>\n",
       "<circle clip-path=\"url(#clip242)\" cx=\"1440.26\" cy=\"1383.1\" r=\"14.4\" fill=\"#e26f46\" fill-rule=\"evenodd\" fill-opacity=\"1\" stroke=\"#000000\" stroke-opacity=\"1\" stroke-width=\"3.2\"/>\n",
       "<circle clip-path=\"url(#clip242)\" cx=\"1479.14\" cy=\"1383.21\" r=\"14.4\" fill=\"#e26f46\" fill-rule=\"evenodd\" fill-opacity=\"1\" stroke=\"#000000\" stroke-opacity=\"1\" stroke-width=\"3.2\"/>\n",
       "<circle clip-path=\"url(#clip242)\" cx=\"1518.01\" cy=\"1383.31\" r=\"14.4\" fill=\"#e26f46\" fill-rule=\"evenodd\" fill-opacity=\"1\" stroke=\"#000000\" stroke-opacity=\"1\" stroke-width=\"3.2\"/>\n",
       "<circle clip-path=\"url(#clip242)\" cx=\"1556.89\" cy=\"1383.41\" r=\"14.4\" fill=\"#e26f46\" fill-rule=\"evenodd\" fill-opacity=\"1\" stroke=\"#000000\" stroke-opacity=\"1\" stroke-width=\"3.2\"/>\n",
       "<circle clip-path=\"url(#clip242)\" cx=\"1595.77\" cy=\"1383.49\" r=\"14.4\" fill=\"#e26f46\" fill-rule=\"evenodd\" fill-opacity=\"1\" stroke=\"#000000\" stroke-opacity=\"1\" stroke-width=\"3.2\"/>\n",
       "<circle clip-path=\"url(#clip242)\" cx=\"1634.65\" cy=\"1383.57\" r=\"14.4\" fill=\"#e26f46\" fill-rule=\"evenodd\" fill-opacity=\"1\" stroke=\"#000000\" stroke-opacity=\"1\" stroke-width=\"3.2\"/>\n",
       "<circle clip-path=\"url(#clip242)\" cx=\"1673.53\" cy=\"1383.63\" r=\"14.4\" fill=\"#e26f46\" fill-rule=\"evenodd\" fill-opacity=\"1\" stroke=\"#000000\" stroke-opacity=\"1\" stroke-width=\"3.2\"/>\n",
       "<circle clip-path=\"url(#clip242)\" cx=\"1712.41\" cy=\"1383.7\" r=\"14.4\" fill=\"#e26f46\" fill-rule=\"evenodd\" fill-opacity=\"1\" stroke=\"#000000\" stroke-opacity=\"1\" stroke-width=\"3.2\"/>\n",
       "<circle clip-path=\"url(#clip242)\" cx=\"1751.29\" cy=\"1383.76\" r=\"14.4\" fill=\"#e26f46\" fill-rule=\"evenodd\" fill-opacity=\"1\" stroke=\"#000000\" stroke-opacity=\"1\" stroke-width=\"3.2\"/>\n",
       "<circle clip-path=\"url(#clip242)\" cx=\"1790.17\" cy=\"1383.81\" r=\"14.4\" fill=\"#e26f46\" fill-rule=\"evenodd\" fill-opacity=\"1\" stroke=\"#000000\" stroke-opacity=\"1\" stroke-width=\"3.2\"/>\n",
       "<circle clip-path=\"url(#clip242)\" cx=\"1829.05\" cy=\"1383.86\" r=\"14.4\" fill=\"#e26f46\" fill-rule=\"evenodd\" fill-opacity=\"1\" stroke=\"#000000\" stroke-opacity=\"1\" stroke-width=\"3.2\"/>\n",
       "<circle clip-path=\"url(#clip242)\" cx=\"1867.93\" cy=\"1383.9\" r=\"14.4\" fill=\"#e26f46\" fill-rule=\"evenodd\" fill-opacity=\"1\" stroke=\"#000000\" stroke-opacity=\"1\" stroke-width=\"3.2\"/>\n",
       "<circle clip-path=\"url(#clip242)\" cx=\"1906.81\" cy=\"1383.95\" r=\"14.4\" fill=\"#e26f46\" fill-rule=\"evenodd\" fill-opacity=\"1\" stroke=\"#000000\" stroke-opacity=\"1\" stroke-width=\"3.2\"/>\n",
       "<circle clip-path=\"url(#clip242)\" cx=\"1945.69\" cy=\"1383.99\" r=\"14.4\" fill=\"#e26f46\" fill-rule=\"evenodd\" fill-opacity=\"1\" stroke=\"#000000\" stroke-opacity=\"1\" stroke-width=\"3.2\"/>\n",
       "<circle clip-path=\"url(#clip242)\" cx=\"1984.57\" cy=\"1384.02\" r=\"14.4\" fill=\"#e26f46\" fill-rule=\"evenodd\" fill-opacity=\"1\" stroke=\"#000000\" stroke-opacity=\"1\" stroke-width=\"3.2\"/>\n",
       "<circle clip-path=\"url(#clip242)\" cx=\"2023.45\" cy=\"1384.06\" r=\"14.4\" fill=\"#e26f46\" fill-rule=\"evenodd\" fill-opacity=\"1\" stroke=\"#000000\" stroke-opacity=\"1\" stroke-width=\"3.2\"/>\n",
       "<circle clip-path=\"url(#clip242)\" cx=\"2062.33\" cy=\"1384.09\" r=\"14.4\" fill=\"#e26f46\" fill-rule=\"evenodd\" fill-opacity=\"1\" stroke=\"#000000\" stroke-opacity=\"1\" stroke-width=\"3.2\"/>\n",
       "<circle clip-path=\"url(#clip242)\" cx=\"2101.21\" cy=\"1384.12\" r=\"14.4\" fill=\"#e26f46\" fill-rule=\"evenodd\" fill-opacity=\"1\" stroke=\"#000000\" stroke-opacity=\"1\" stroke-width=\"3.2\"/>\n",
       "<circle clip-path=\"url(#clip242)\" cx=\"2140.09\" cy=\"1384.14\" r=\"14.4\" fill=\"#e26f46\" fill-rule=\"evenodd\" fill-opacity=\"1\" stroke=\"#000000\" stroke-opacity=\"1\" stroke-width=\"3.2\"/>\n",
       "<circle clip-path=\"url(#clip242)\" cx=\"2178.96\" cy=\"1384.17\" r=\"14.4\" fill=\"#e26f46\" fill-rule=\"evenodd\" fill-opacity=\"1\" stroke=\"#000000\" stroke-opacity=\"1\" stroke-width=\"3.2\"/>\n",
       "<circle clip-path=\"url(#clip242)\" cx=\"2217.84\" cy=\"1384.19\" r=\"14.4\" fill=\"#e26f46\" fill-rule=\"evenodd\" fill-opacity=\"1\" stroke=\"#000000\" stroke-opacity=\"1\" stroke-width=\"3.2\"/>\n",
       "<circle clip-path=\"url(#clip242)\" cx=\"2256.72\" cy=\"1384.22\" r=\"14.4\" fill=\"#e26f46\" fill-rule=\"evenodd\" fill-opacity=\"1\" stroke=\"#000000\" stroke-opacity=\"1\" stroke-width=\"3.2\"/>\n",
       "<circle clip-path=\"url(#clip242)\" cx=\"2295.6\" cy=\"1384.24\" r=\"14.4\" fill=\"#e26f46\" fill-rule=\"evenodd\" fill-opacity=\"1\" stroke=\"#000000\" stroke-opacity=\"1\" stroke-width=\"3.2\"/>\n",
       "</svg>\n"
      ],
      "text/html": [
       "<?xml version=\"1.0\" encoding=\"utf-8\"?>\n",
       "<svg xmlns=\"http://www.w3.org/2000/svg\" xmlns:xlink=\"http://www.w3.org/1999/xlink\" width=\"600\" height=\"400\" viewBox=\"0 0 2400 1600\">\n",
       "<defs>\n",
       "  <clipPath id=\"clip290\">\n",
       "    <rect x=\"0\" y=\"0\" width=\"2400\" height=\"1600\"/>\n",
       "  </clipPath>\n",
       "</defs>\n",
       "<path clip-path=\"url(#clip290)\" d=\"M0 1600 L2400 1600 L2400 8.88178e-14 L0 8.88178e-14  Z\" fill=\"#ffffff\" fill-rule=\"evenodd\" fill-opacity=\"1\"/>\n",
       "<defs>\n",
       "  <clipPath id=\"clip291\">\n",
       "    <rect x=\"480\" y=\"0\" width=\"1681\" height=\"1600\"/>\n",
       "  </clipPath>\n",
       "</defs>\n",
       "<path clip-path=\"url(#clip290)\" d=\"M333.358 1423.18 L2352.76 1423.18 L2352.76 47.2441 L333.358 47.2441  Z\" fill=\"#ffffff\" fill-rule=\"evenodd\" fill-opacity=\"1\"/>\n",
       "<defs>\n",
       "  <clipPath id=\"clip292\">\n",
       "    <rect x=\"333\" y=\"47\" width=\"2020\" height=\"1377\"/>\n",
       "  </clipPath>\n",
       "</defs>\n",
       "<polyline clip-path=\"url(#clip292)\" style=\"stroke:#000000; stroke-linecap:round; stroke-linejoin:round; stroke-width:2; stroke-opacity:0.1; fill:none\" points=\"351.632,1423.18 351.632,47.2441 \"/>\n",
       "<polyline clip-path=\"url(#clip292)\" style=\"stroke:#000000; stroke-linecap:round; stroke-linejoin:round; stroke-width:2; stroke-opacity:0.1; fill:none\" points=\"740.426,1423.18 740.426,47.2441 \"/>\n",
       "<polyline clip-path=\"url(#clip292)\" style=\"stroke:#000000; stroke-linecap:round; stroke-linejoin:round; stroke-width:2; stroke-opacity:0.1; fill:none\" points=\"1129.22,1423.18 1129.22,47.2441 \"/>\n",
       "<polyline clip-path=\"url(#clip292)\" style=\"stroke:#000000; stroke-linecap:round; stroke-linejoin:round; stroke-width:2; stroke-opacity:0.1; fill:none\" points=\"1518.01,1423.18 1518.01,47.2441 \"/>\n",
       "<polyline clip-path=\"url(#clip292)\" style=\"stroke:#000000; stroke-linecap:round; stroke-linejoin:round; stroke-width:2; stroke-opacity:0.1; fill:none\" points=\"1906.81,1423.18 1906.81,47.2441 \"/>\n",
       "<polyline clip-path=\"url(#clip292)\" style=\"stroke:#000000; stroke-linecap:round; stroke-linejoin:round; stroke-width:2; stroke-opacity:0.1; fill:none\" points=\"2295.6,1423.18 2295.6,47.2441 \"/>\n",
       "<polyline clip-path=\"url(#clip290)\" style=\"stroke:#000000; stroke-linecap:round; stroke-linejoin:round; stroke-width:4; stroke-opacity:1; fill:none\" points=\"333.358,1423.18 2352.76,1423.18 \"/>\n",
       "<polyline clip-path=\"url(#clip290)\" style=\"stroke:#000000; stroke-linecap:round; stroke-linejoin:round; stroke-width:4; stroke-opacity:1; fill:none\" points=\"351.632,1423.18 351.632,1404.28 \"/>\n",
       "<polyline clip-path=\"url(#clip290)\" style=\"stroke:#000000; stroke-linecap:round; stroke-linejoin:round; stroke-width:4; stroke-opacity:1; fill:none\" points=\"740.426,1423.18 740.426,1404.28 \"/>\n",
       "<polyline clip-path=\"url(#clip290)\" style=\"stroke:#000000; stroke-linecap:round; stroke-linejoin:round; stroke-width:4; stroke-opacity:1; fill:none\" points=\"1129.22,1423.18 1129.22,1404.28 \"/>\n",
       "<polyline clip-path=\"url(#clip290)\" style=\"stroke:#000000; stroke-linecap:round; stroke-linejoin:round; stroke-width:4; stroke-opacity:1; fill:none\" points=\"1518.01,1423.18 1518.01,1404.28 \"/>\n",
       "<polyline clip-path=\"url(#clip290)\" style=\"stroke:#000000; stroke-linecap:round; stroke-linejoin:round; stroke-width:4; stroke-opacity:1; fill:none\" points=\"1906.81,1423.18 1906.81,1404.28 \"/>\n",
       "<polyline clip-path=\"url(#clip290)\" style=\"stroke:#000000; stroke-linecap:round; stroke-linejoin:round; stroke-width:4; stroke-opacity:1; fill:none\" points=\"2295.6,1423.18 2295.6,1404.28 \"/>\n",
       "<path clip-path=\"url(#clip290)\" d=\"M351.632 1454.1 Q348.02 1454.1 346.192 1457.66 Q344.386 1461.2 344.386 1468.33 Q344.386 1475.44 346.192 1479.01 Q348.02 1482.55 351.632 1482.55 Q355.266 1482.55 357.071 1479.01 Q358.9 1475.44 358.9 1468.33 Q358.9 1461.2 357.071 1457.66 Q355.266 1454.1 351.632 1454.1 M351.632 1450.39 Q357.442 1450.39 360.497 1455 Q363.576 1459.58 363.576 1468.33 Q363.576 1477.06 360.497 1481.67 Q357.442 1486.25 351.632 1486.25 Q345.821 1486.25 342.743 1481.67 Q339.687 1477.06 339.687 1468.33 Q339.687 1459.58 342.743 1455 Q345.821 1450.39 351.632 1450.39 Z\" fill=\"#000000\" fill-rule=\"nonzero\" fill-opacity=\"1\" /><path clip-path=\"url(#clip290)\" d=\"M715.114 1481.64 L722.752 1481.64 L722.752 1455.28 L714.442 1456.95 L714.442 1452.69 L722.706 1451.02 L727.382 1451.02 L727.382 1481.64 L735.021 1481.64 L735.021 1485.58 L715.114 1485.58 L715.114 1481.64 Z\" fill=\"#000000\" fill-rule=\"nonzero\" fill-opacity=\"1\" /><path clip-path=\"url(#clip290)\" d=\"M754.465 1454.1 Q750.854 1454.1 749.025 1457.66 Q747.22 1461.2 747.22 1468.33 Q747.22 1475.44 749.025 1479.01 Q750.854 1482.55 754.465 1482.55 Q758.099 1482.55 759.905 1479.01 Q761.734 1475.44 761.734 1468.33 Q761.734 1461.2 759.905 1457.66 Q758.099 1454.1 754.465 1454.1 M754.465 1450.39 Q760.275 1450.39 763.331 1455 Q766.41 1459.58 766.41 1468.33 Q766.41 1477.06 763.331 1481.67 Q760.275 1486.25 754.465 1486.25 Q748.655 1486.25 745.576 1481.67 Q742.521 1477.06 742.521 1468.33 Q742.521 1459.58 745.576 1455 Q748.655 1450.39 754.465 1450.39 Z\" fill=\"#000000\" fill-rule=\"nonzero\" fill-opacity=\"1\" /><path clip-path=\"url(#clip290)\" d=\"M1107.99 1481.64 L1124.31 1481.64 L1124.31 1485.58 L1102.37 1485.58 L1102.37 1481.64 Q1105.03 1478.89 1109.61 1474.26 Q1114.22 1469.61 1115.4 1468.27 Q1117.65 1465.74 1118.53 1464.01 Q1119.43 1462.25 1119.43 1460.56 Q1119.43 1457.8 1117.48 1456.07 Q1115.56 1454.33 1112.46 1454.33 Q1110.26 1454.33 1107.81 1455.09 Q1105.38 1455.86 1102.6 1457.41 L1102.6 1452.69 Q1105.42 1451.55 1107.88 1450.97 Q1110.33 1450.39 1112.37 1450.39 Q1117.74 1450.39 1120.93 1453.08 Q1124.13 1455.77 1124.13 1460.26 Q1124.13 1462.39 1123.32 1464.31 Q1122.53 1466.2 1120.42 1468.8 Q1119.85 1469.47 1116.74 1472.69 Q1113.64 1475.88 1107.99 1481.64 Z\" fill=\"#000000\" fill-rule=\"nonzero\" fill-opacity=\"1\" /><path clip-path=\"url(#clip290)\" d=\"M1144.13 1454.1 Q1140.52 1454.1 1138.69 1457.66 Q1136.88 1461.2 1136.88 1468.33 Q1136.88 1475.44 1138.69 1479.01 Q1140.52 1482.55 1144.13 1482.55 Q1147.76 1482.55 1149.57 1479.01 Q1151.4 1475.44 1151.4 1468.33 Q1151.4 1461.2 1149.57 1457.66 Q1147.76 1454.1 1144.13 1454.1 M1144.13 1450.39 Q1149.94 1450.39 1152.99 1455 Q1156.07 1459.58 1156.07 1468.33 Q1156.07 1477.06 1152.99 1481.67 Q1149.94 1486.25 1144.13 1486.25 Q1138.32 1486.25 1135.24 1481.67 Q1132.18 1477.06 1132.18 1468.33 Q1132.18 1459.58 1135.24 1455 Q1138.32 1450.39 1144.13 1450.39 Z\" fill=\"#000000\" fill-rule=\"nonzero\" fill-opacity=\"1\" /><path clip-path=\"url(#clip290)\" d=\"M1506.86 1466.95 Q1510.21 1467.66 1512.09 1469.93 Q1513.99 1472.2 1513.99 1475.53 Q1513.99 1480.65 1510.47 1483.45 Q1506.95 1486.25 1500.47 1486.25 Q1498.29 1486.25 1495.98 1485.81 Q1493.69 1485.39 1491.23 1484.54 L1491.23 1480.02 Q1493.18 1481.16 1495.49 1481.74 Q1497.81 1482.32 1500.33 1482.32 Q1504.73 1482.32 1507.02 1480.58 Q1509.33 1478.84 1509.33 1475.53 Q1509.33 1472.48 1507.18 1470.77 Q1505.05 1469.03 1501.23 1469.03 L1497.2 1469.03 L1497.2 1465.19 L1501.42 1465.19 Q1504.87 1465.19 1506.7 1463.82 Q1508.52 1462.43 1508.52 1459.84 Q1508.52 1457.18 1506.63 1455.77 Q1504.75 1454.33 1501.23 1454.33 Q1499.31 1454.33 1497.11 1454.75 Q1494.91 1455.16 1492.27 1456.04 L1492.27 1451.88 Q1494.94 1451.14 1497.25 1450.77 Q1499.59 1450.39 1501.65 1450.39 Q1506.97 1450.39 1510.07 1452.83 Q1513.18 1455.23 1513.18 1459.35 Q1513.18 1462.22 1511.53 1464.21 Q1509.89 1466.18 1506.86 1466.95 Z\" fill=\"#000000\" fill-rule=\"nonzero\" fill-opacity=\"1\" /><path clip-path=\"url(#clip290)\" d=\"M1532.85 1454.1 Q1529.24 1454.1 1527.41 1457.66 Q1525.61 1461.2 1525.61 1468.33 Q1525.61 1475.44 1527.41 1479.01 Q1529.24 1482.55 1532.85 1482.55 Q1536.49 1482.55 1538.29 1479.01 Q1540.12 1475.44 1540.12 1468.33 Q1540.12 1461.2 1538.29 1457.66 Q1536.49 1454.1 1532.85 1454.1 M1532.85 1450.39 Q1538.66 1450.39 1541.72 1455 Q1544.8 1459.58 1544.8 1468.33 Q1544.8 1477.06 1541.72 1481.67 Q1538.66 1486.25 1532.85 1486.25 Q1527.04 1486.25 1523.96 1481.67 Q1520.91 1477.06 1520.91 1468.33 Q1520.91 1459.58 1523.96 1455 Q1527.04 1450.39 1532.85 1450.39 Z\" fill=\"#000000\" fill-rule=\"nonzero\" fill-opacity=\"1\" /><path clip-path=\"url(#clip290)\" d=\"M1894.98 1455.09 L1883.17 1473.54 L1894.98 1473.54 L1894.98 1455.09 M1893.75 1451.02 L1899.63 1451.02 L1899.63 1473.54 L1904.56 1473.54 L1904.56 1477.43 L1899.63 1477.43 L1899.63 1485.58 L1894.98 1485.58 L1894.98 1477.43 L1879.38 1477.43 L1879.38 1472.92 L1893.75 1451.02 Z\" fill=\"#000000\" fill-rule=\"nonzero\" fill-opacity=\"1\" /><path clip-path=\"url(#clip290)\" d=\"M1922.29 1454.1 Q1918.68 1454.1 1916.86 1457.66 Q1915.05 1461.2 1915.05 1468.33 Q1915.05 1475.44 1916.86 1479.01 Q1918.68 1482.55 1922.29 1482.55 Q1925.93 1482.55 1927.73 1479.01 Q1929.56 1475.44 1929.56 1468.33 Q1929.56 1461.2 1927.73 1457.66 Q1925.93 1454.1 1922.29 1454.1 M1922.29 1450.39 Q1928.11 1450.39 1931.16 1455 Q1934.24 1459.58 1934.24 1468.33 Q1934.24 1477.06 1931.16 1481.67 Q1928.11 1486.25 1922.29 1486.25 Q1916.48 1486.25 1913.41 1481.67 Q1910.35 1477.06 1910.35 1468.33 Q1910.35 1459.58 1913.41 1455 Q1916.48 1450.39 1922.29 1450.39 Z\" fill=\"#000000\" fill-rule=\"nonzero\" fill-opacity=\"1\" /><path clip-path=\"url(#clip290)\" d=\"M2270.3 1451.02 L2288.66 1451.02 L2288.66 1454.96 L2274.58 1454.96 L2274.58 1463.43 Q2275.6 1463.08 2276.62 1462.92 Q2277.64 1462.73 2278.66 1462.73 Q2284.45 1462.73 2287.83 1465.9 Q2291.21 1469.08 2291.21 1474.49 Q2291.21 1480.07 2287.73 1483.17 Q2284.26 1486.25 2277.94 1486.25 Q2275.77 1486.25 2273.5 1485.88 Q2271.25 1485.51 2268.84 1484.77 L2268.84 1480.07 Q2270.93 1481.2 2273.15 1481.76 Q2275.37 1482.32 2277.85 1482.32 Q2281.85 1482.32 2284.19 1480.21 Q2286.53 1478.1 2286.53 1474.49 Q2286.53 1470.88 2284.19 1468.77 Q2281.85 1466.67 2277.85 1466.67 Q2275.97 1466.67 2274.1 1467.08 Q2272.25 1467.5 2270.3 1468.38 L2270.3 1451.02 Z\" fill=\"#000000\" fill-rule=\"nonzero\" fill-opacity=\"1\" /><path clip-path=\"url(#clip290)\" d=\"M2310.42 1454.1 Q2306.81 1454.1 2304.98 1457.66 Q2303.17 1461.2 2303.17 1468.33 Q2303.17 1475.44 2304.98 1479.01 Q2306.81 1482.55 2310.42 1482.55 Q2314.05 1482.55 2315.86 1479.01 Q2317.69 1475.44 2317.69 1468.33 Q2317.69 1461.2 2315.86 1457.66 Q2314.05 1454.1 2310.42 1454.1 M2310.42 1450.39 Q2316.23 1450.39 2319.28 1455 Q2322.36 1459.58 2322.36 1468.33 Q2322.36 1477.06 2319.28 1481.67 Q2316.23 1486.25 2310.42 1486.25 Q2304.61 1486.25 2301.53 1481.67 Q2298.47 1477.06 2298.47 1468.33 Q2298.47 1459.58 2301.53 1455 Q2304.61 1450.39 2310.42 1450.39 Z\" fill=\"#000000\" fill-rule=\"nonzero\" fill-opacity=\"1\" /><path clip-path=\"url(#clip290)\" d=\"M1357.98 1546.53 L1357.98 1568.04 L1352.13 1568.04 L1352.13 1546.72 Q1352.13 1541.66 1350.15 1539.14 Q1348.18 1536.63 1344.23 1536.63 Q1339.49 1536.63 1336.76 1539.65 Q1334.02 1542.68 1334.02 1547.9 L1334.02 1568.04 L1328.13 1568.04 L1328.13 1532.4 L1334.02 1532.4 L1334.02 1537.93 Q1336.12 1534.72 1338.95 1533.13 Q1341.82 1531.54 1345.54 1531.54 Q1351.68 1531.54 1354.83 1535.36 Q1357.98 1539.14 1357.98 1546.53 Z\" fill=\"#000000\" fill-rule=\"nonzero\" fill-opacity=\"1\" /><polyline clip-path=\"url(#clip292)\" style=\"stroke:#000000; stroke-linecap:round; stroke-linejoin:round; stroke-width:2; stroke-opacity:0.1; fill:none\" points=\"333.358,1384.76 2352.76,1384.76 \"/>\n",
       "<polyline clip-path=\"url(#clip292)\" style=\"stroke:#000000; stroke-linecap:round; stroke-linejoin:round; stroke-width:2; stroke-opacity:0.1; fill:none\" points=\"333.358,1125.04 2352.76,1125.04 \"/>\n",
       "<polyline clip-path=\"url(#clip292)\" style=\"stroke:#000000; stroke-linecap:round; stroke-linejoin:round; stroke-width:2; stroke-opacity:0.1; fill:none\" points=\"333.358,865.329 2352.76,865.329 \"/>\n",
       "<polyline clip-path=\"url(#clip292)\" style=\"stroke:#000000; stroke-linecap:round; stroke-linejoin:round; stroke-width:2; stroke-opacity:0.1; fill:none\" points=\"333.358,605.614 2352.76,605.614 \"/>\n",
       "<polyline clip-path=\"url(#clip292)\" style=\"stroke:#000000; stroke-linecap:round; stroke-linejoin:round; stroke-width:2; stroke-opacity:0.1; fill:none\" points=\"333.358,345.9 2352.76,345.9 \"/>\n",
       "<polyline clip-path=\"url(#clip292)\" style=\"stroke:#000000; stroke-linecap:round; stroke-linejoin:round; stroke-width:2; stroke-opacity:0.1; fill:none\" points=\"333.358,86.1857 2352.76,86.1857 \"/>\n",
       "<polyline clip-path=\"url(#clip290)\" style=\"stroke:#000000; stroke-linecap:round; stroke-linejoin:round; stroke-width:4; stroke-opacity:1; fill:none\" points=\"333.358,1423.18 333.358,47.2441 \"/>\n",
       "<polyline clip-path=\"url(#clip290)\" style=\"stroke:#000000; stroke-linecap:round; stroke-linejoin:round; stroke-width:4; stroke-opacity:1; fill:none\" points=\"333.358,1384.76 352.256,1384.76 \"/>\n",
       "<polyline clip-path=\"url(#clip290)\" style=\"stroke:#000000; stroke-linecap:round; stroke-linejoin:round; stroke-width:4; stroke-opacity:1; fill:none\" points=\"333.358,1125.04 352.256,1125.04 \"/>\n",
       "<polyline clip-path=\"url(#clip290)\" style=\"stroke:#000000; stroke-linecap:round; stroke-linejoin:round; stroke-width:4; stroke-opacity:1; fill:none\" points=\"333.358,865.329 352.256,865.329 \"/>\n",
       "<polyline clip-path=\"url(#clip290)\" style=\"stroke:#000000; stroke-linecap:round; stroke-linejoin:round; stroke-width:4; stroke-opacity:1; fill:none\" points=\"333.358,605.614 352.256,605.614 \"/>\n",
       "<polyline clip-path=\"url(#clip290)\" style=\"stroke:#000000; stroke-linecap:round; stroke-linejoin:round; stroke-width:4; stroke-opacity:1; fill:none\" points=\"333.358,345.9 352.256,345.9 \"/>\n",
       "<polyline clip-path=\"url(#clip290)\" style=\"stroke:#000000; stroke-linecap:round; stroke-linejoin:round; stroke-width:4; stroke-opacity:1; fill:none\" points=\"333.358,86.1857 352.256,86.1857 \"/>\n",
       "<path clip-path=\"url(#clip290)\" d=\"M211.016 1370.56 Q207.405 1370.56 205.576 1374.12 Q203.771 1377.66 203.771 1384.79 Q203.771 1391.9 205.576 1395.46 Q207.405 1399.01 211.016 1399.01 Q214.65 1399.01 216.456 1395.46 Q218.285 1391.9 218.285 1384.79 Q218.285 1377.66 216.456 1374.12 Q214.65 1370.56 211.016 1370.56 M211.016 1366.85 Q216.826 1366.85 219.882 1371.46 Q222.96 1376.04 222.96 1384.79 Q222.96 1393.52 219.882 1398.13 Q216.826 1402.71 211.016 1402.71 Q205.206 1402.71 202.127 1398.13 Q199.072 1393.52 199.072 1384.79 Q199.072 1376.04 202.127 1371.46 Q205.206 1366.85 211.016 1366.85 Z\" fill=\"#000000\" fill-rule=\"nonzero\" fill-opacity=\"1\" /><path clip-path=\"url(#clip290)\" d=\"M231.178 1396.16 L236.062 1396.16 L236.062 1402.04 L231.178 1402.04 L231.178 1396.16 Z\" fill=\"#000000\" fill-rule=\"nonzero\" fill-opacity=\"1\" /><path clip-path=\"url(#clip290)\" d=\"M250.275 1398.1 L266.595 1398.1 L266.595 1402.04 L244.65 1402.04 L244.65 1398.1 Q247.312 1395.35 251.896 1390.72 Q256.502 1386.07 257.683 1384.72 Q259.928 1382.2 260.808 1380.46 Q261.71 1378.7 261.71 1377.01 Q261.71 1374.26 259.766 1372.52 Q257.845 1370.79 254.743 1370.79 Q252.544 1370.79 250.09 1371.55 Q247.659 1372.32 244.882 1373.87 L244.882 1369.14 Q247.706 1368.01 250.159 1367.43 Q252.613 1366.85 254.65 1366.85 Q260.02 1366.85 263.215 1369.54 Q266.409 1372.22 266.409 1376.71 Q266.409 1378.84 265.599 1380.76 Q264.812 1382.66 262.706 1385.26 Q262.127 1385.93 259.025 1389.14 Q255.923 1392.34 250.275 1398.1 Z\" fill=\"#000000\" fill-rule=\"nonzero\" fill-opacity=\"1\" /><path clip-path=\"url(#clip290)\" d=\"M276.456 1367.48 L294.812 1367.48 L294.812 1371.41 L280.738 1371.41 L280.738 1379.89 Q281.756 1379.54 282.775 1379.38 Q283.793 1379.19 284.812 1379.19 Q290.599 1379.19 293.979 1382.36 Q297.358 1385.53 297.358 1390.95 Q297.358 1396.53 293.886 1399.63 Q290.414 1402.71 284.094 1402.71 Q281.918 1402.71 279.65 1402.34 Q277.405 1401.97 274.997 1401.23 L274.997 1396.53 Q277.081 1397.66 279.303 1398.22 Q281.525 1398.77 284.002 1398.77 Q288.006 1398.77 290.344 1396.67 Q292.682 1394.56 292.682 1390.95 Q292.682 1387.34 290.344 1385.23 Q288.006 1383.13 284.002 1383.13 Q282.127 1383.13 280.252 1383.54 Q278.4 1383.96 276.456 1384.84 L276.456 1367.48 Z\" fill=\"#000000\" fill-rule=\"nonzero\" fill-opacity=\"1\" /><path clip-path=\"url(#clip290)\" d=\"M210.021 1110.84 Q206.41 1110.84 204.581 1114.41 Q202.775 1117.95 202.775 1125.08 Q202.775 1132.18 204.581 1135.75 Q206.41 1139.29 210.021 1139.29 Q213.655 1139.29 215.461 1135.75 Q217.289 1132.18 217.289 1125.08 Q217.289 1117.95 215.461 1114.41 Q213.655 1110.84 210.021 1110.84 M210.021 1107.14 Q215.831 1107.14 218.886 1111.74 Q221.965 1116.33 221.965 1125.08 Q221.965 1133.8 218.886 1138.41 Q215.831 1142.99 210.021 1142.99 Q204.211 1142.99 201.132 1138.41 Q198.076 1133.8 198.076 1125.08 Q198.076 1116.33 201.132 1111.74 Q204.211 1107.14 210.021 1107.14 Z\" fill=\"#000000\" fill-rule=\"nonzero\" fill-opacity=\"1\" /><path clip-path=\"url(#clip290)\" d=\"M230.183 1136.44 L235.067 1136.44 L235.067 1142.32 L230.183 1142.32 L230.183 1136.44 Z\" fill=\"#000000\" fill-rule=\"nonzero\" fill-opacity=\"1\" /><path clip-path=\"url(#clip290)\" d=\"M259.419 1123.69 Q262.775 1124.41 264.65 1126.68 Q266.548 1128.94 266.548 1132.28 Q266.548 1137.39 263.03 1140.19 Q259.511 1142.99 253.03 1142.99 Q250.854 1142.99 248.539 1142.55 Q246.247 1142.14 243.794 1141.28 L243.794 1136.77 Q245.738 1137.9 248.053 1138.48 Q250.368 1139.06 252.891 1139.06 Q257.289 1139.06 259.581 1137.32 Q261.895 1135.59 261.895 1132.28 Q261.895 1129.22 259.743 1127.51 Q257.613 1125.77 253.794 1125.77 L249.766 1125.77 L249.766 1121.93 L253.979 1121.93 Q257.428 1121.93 259.257 1120.56 Q261.085 1119.18 261.085 1116.58 Q261.085 1113.92 259.187 1112.51 Q257.312 1111.07 253.794 1111.07 Q251.872 1111.07 249.673 1111.49 Q247.474 1111.91 244.835 1112.79 L244.835 1108.62 Q247.497 1107.88 249.812 1107.51 Q252.15 1107.14 254.21 1107.14 Q259.534 1107.14 262.636 1109.57 Q265.738 1111.98 265.738 1116.1 Q265.738 1118.97 264.095 1120.96 Q262.451 1122.93 259.419 1123.69 Z\" fill=\"#000000\" fill-rule=\"nonzero\" fill-opacity=\"1\" /><path clip-path=\"url(#clip290)\" d=\"M285.414 1110.84 Q281.803 1110.84 279.974 1114.41 Q278.169 1117.95 278.169 1125.08 Q278.169 1132.18 279.974 1135.75 Q281.803 1139.29 285.414 1139.29 Q289.048 1139.29 290.854 1135.75 Q292.682 1132.18 292.682 1125.08 Q292.682 1117.95 290.854 1114.41 Q289.048 1110.84 285.414 1110.84 M285.414 1107.14 Q291.224 1107.14 294.28 1111.74 Q297.358 1116.33 297.358 1125.08 Q297.358 1133.8 294.28 1138.41 Q291.224 1142.99 285.414 1142.99 Q279.604 1142.99 276.525 1138.41 Q273.469 1133.8 273.469 1125.08 Q273.469 1116.33 276.525 1111.74 Q279.604 1107.14 285.414 1107.14 Z\" fill=\"#000000\" fill-rule=\"nonzero\" fill-opacity=\"1\" /><path clip-path=\"url(#clip290)\" d=\"M211.016 851.128 Q207.405 851.128 205.576 854.692 Q203.771 858.234 203.771 865.364 Q203.771 872.47 205.576 876.035 Q207.405 879.576 211.016 879.576 Q214.65 879.576 216.456 876.035 Q218.285 872.47 218.285 865.364 Q218.285 858.234 216.456 854.692 Q214.65 851.128 211.016 851.128 M211.016 847.424 Q216.826 847.424 219.882 852.03 Q222.96 856.614 222.96 865.364 Q222.96 874.09 219.882 878.697 Q216.826 883.28 211.016 883.28 Q205.206 883.28 202.127 878.697 Q199.072 874.09 199.072 865.364 Q199.072 856.614 202.127 852.03 Q205.206 847.424 211.016 847.424 Z\" fill=\"#000000\" fill-rule=\"nonzero\" fill-opacity=\"1\" /><path clip-path=\"url(#clip290)\" d=\"M231.178 876.729 L236.062 876.729 L236.062 882.609 L231.178 882.609 L231.178 876.729 Z\" fill=\"#000000\" fill-rule=\"nonzero\" fill-opacity=\"1\" /><path clip-path=\"url(#clip290)\" d=\"M260.414 863.975 Q263.77 864.692 265.645 866.961 Q267.544 869.229 267.544 872.563 Q267.544 877.678 264.025 880.479 Q260.507 883.28 254.025 883.28 Q251.849 883.28 249.534 882.84 Q247.243 882.424 244.789 881.567 L244.789 877.053 Q246.734 878.188 249.048 878.766 Q251.363 879.345 253.886 879.345 Q258.284 879.345 260.576 877.609 Q262.891 875.873 262.891 872.563 Q262.891 869.507 260.738 867.794 Q258.608 866.058 254.789 866.058 L250.761 866.058 L250.761 862.215 L254.974 862.215 Q258.423 862.215 260.252 860.85 Q262.081 859.461 262.081 856.868 Q262.081 854.206 260.183 852.794 Q258.308 851.359 254.789 851.359 Q252.868 851.359 250.669 851.776 Q248.47 852.192 245.831 853.072 L245.831 848.905 Q248.493 848.165 250.808 847.794 Q253.146 847.424 255.206 847.424 Q260.53 847.424 263.632 849.854 Q266.733 852.262 266.733 856.382 Q266.733 859.253 265.09 861.243 Q263.446 863.211 260.414 863.975 Z\" fill=\"#000000\" fill-rule=\"nonzero\" fill-opacity=\"1\" /><path clip-path=\"url(#clip290)\" d=\"M276.456 848.049 L294.812 848.049 L294.812 851.984 L280.738 851.984 L280.738 860.456 Q281.756 860.109 282.775 859.947 Q283.793 859.762 284.812 859.762 Q290.599 859.762 293.979 862.933 Q297.358 866.104 297.358 871.521 Q297.358 877.1 293.886 880.201 Q290.414 883.28 284.094 883.28 Q281.918 883.28 279.65 882.91 Q277.405 882.539 274.997 881.799 L274.997 877.1 Q277.081 878.234 279.303 878.789 Q281.525 879.345 284.002 879.345 Q288.006 879.345 290.344 877.239 Q292.682 875.132 292.682 871.521 Q292.682 867.91 290.344 865.803 Q288.006 863.697 284.002 863.697 Q282.127 863.697 280.252 864.114 Q278.4 864.53 276.456 865.41 L276.456 848.049 Z\" fill=\"#000000\" fill-rule=\"nonzero\" fill-opacity=\"1\" /><path clip-path=\"url(#clip290)\" d=\"M210.021 591.413 Q206.41 591.413 204.581 594.978 Q202.775 598.52 202.775 605.649 Q202.775 612.756 204.581 616.32 Q206.41 619.862 210.021 619.862 Q213.655 619.862 215.461 616.32 Q217.289 612.756 217.289 605.649 Q217.289 598.52 215.461 594.978 Q213.655 591.413 210.021 591.413 M210.021 587.709 Q215.831 587.709 218.886 592.316 Q221.965 596.899 221.965 605.649 Q221.965 614.376 218.886 618.982 Q215.831 623.566 210.021 623.566 Q204.211 623.566 201.132 618.982 Q198.076 614.376 198.076 605.649 Q198.076 596.899 201.132 592.316 Q204.211 587.709 210.021 587.709 Z\" fill=\"#000000\" fill-rule=\"nonzero\" fill-opacity=\"1\" /><path clip-path=\"url(#clip290)\" d=\"M230.183 617.015 L235.067 617.015 L235.067 622.894 L230.183 622.894 L230.183 617.015 Z\" fill=\"#000000\" fill-rule=\"nonzero\" fill-opacity=\"1\" /><path clip-path=\"url(#clip290)\" d=\"M258.099 592.409 L246.294 610.858 L258.099 610.858 L258.099 592.409 M256.872 588.334 L262.752 588.334 L262.752 610.858 L267.682 610.858 L267.682 614.746 L262.752 614.746 L262.752 622.894 L258.099 622.894 L258.099 614.746 L242.497 614.746 L242.497 610.233 L256.872 588.334 Z\" fill=\"#000000\" fill-rule=\"nonzero\" fill-opacity=\"1\" /><path clip-path=\"url(#clip290)\" d=\"M285.414 591.413 Q281.803 591.413 279.974 594.978 Q278.169 598.52 278.169 605.649 Q278.169 612.756 279.974 616.32 Q281.803 619.862 285.414 619.862 Q289.048 619.862 290.854 616.32 Q292.682 612.756 292.682 605.649 Q292.682 598.52 290.854 594.978 Q289.048 591.413 285.414 591.413 M285.414 587.709 Q291.224 587.709 294.28 592.316 Q297.358 596.899 297.358 605.649 Q297.358 614.376 294.28 618.982 Q291.224 623.566 285.414 623.566 Q279.604 623.566 276.525 618.982 Q273.469 614.376 273.469 605.649 Q273.469 596.899 276.525 592.316 Q279.604 587.709 285.414 587.709 Z\" fill=\"#000000\" fill-rule=\"nonzero\" fill-opacity=\"1\" /><path clip-path=\"url(#clip290)\" d=\"M211.016 331.699 Q207.405 331.699 205.576 335.264 Q203.771 338.805 203.771 345.935 Q203.771 353.041 205.576 356.606 Q207.405 360.148 211.016 360.148 Q214.65 360.148 216.456 356.606 Q218.285 353.041 218.285 345.935 Q218.285 338.805 216.456 335.264 Q214.65 331.699 211.016 331.699 M211.016 327.995 Q216.826 327.995 219.882 332.602 Q222.96 337.185 222.96 345.935 Q222.96 354.662 219.882 359.268 Q216.826 363.851 211.016 363.851 Q205.206 363.851 202.127 359.268 Q199.072 354.662 199.072 345.935 Q199.072 337.185 202.127 332.602 Q205.206 327.995 211.016 327.995 Z\" fill=\"#000000\" fill-rule=\"nonzero\" fill-opacity=\"1\" /><path clip-path=\"url(#clip290)\" d=\"M231.178 357.3 L236.062 357.3 L236.062 363.18 L231.178 363.18 L231.178 357.3 Z\" fill=\"#000000\" fill-rule=\"nonzero\" fill-opacity=\"1\" /><path clip-path=\"url(#clip290)\" d=\"M259.095 332.694 L247.289 351.143 L259.095 351.143 L259.095 332.694 M257.868 328.62 L263.747 328.62 L263.747 351.143 L268.678 351.143 L268.678 355.032 L263.747 355.032 L263.747 363.18 L259.095 363.18 L259.095 355.032 L243.493 355.032 L243.493 350.518 L257.868 328.62 Z\" fill=\"#000000\" fill-rule=\"nonzero\" fill-opacity=\"1\" /><path clip-path=\"url(#clip290)\" d=\"M276.456 328.62 L294.812 328.62 L294.812 332.555 L280.738 332.555 L280.738 341.027 Q281.756 340.68 282.775 340.518 Q283.793 340.333 284.812 340.333 Q290.599 340.333 293.979 343.504 Q297.358 346.676 297.358 352.092 Q297.358 357.671 293.886 360.773 Q290.414 363.851 284.094 363.851 Q281.918 363.851 279.65 363.481 Q277.405 363.111 274.997 362.37 L274.997 357.671 Q277.081 358.805 279.303 359.361 Q281.525 359.916 284.002 359.916 Q288.006 359.916 290.344 357.81 Q292.682 355.703 292.682 352.092 Q292.682 348.481 290.344 346.375 Q288.006 344.268 284.002 344.268 Q282.127 344.268 280.252 344.685 Q278.4 345.101 276.456 345.981 L276.456 328.62 Z\" fill=\"#000000\" fill-rule=\"nonzero\" fill-opacity=\"1\" /><path clip-path=\"url(#clip290)\" d=\"M210.021 71.9844 Q206.41 71.9844 204.581 75.5492 Q202.775 79.0908 202.775 86.2204 Q202.775 93.3268 204.581 96.8916 Q206.41 100.433 210.021 100.433 Q213.655 100.433 215.461 96.8916 Q217.289 93.3268 217.289 86.2204 Q217.289 79.0908 215.461 75.5492 Q213.655 71.9844 210.021 71.9844 M210.021 68.2807 Q215.831 68.2807 218.886 72.8871 Q221.965 77.4704 221.965 86.2204 Q221.965 94.9472 218.886 99.5537 Q215.831 104.137 210.021 104.137 Q204.211 104.137 201.132 99.5537 Q198.076 94.9472 198.076 86.2204 Q198.076 77.4704 201.132 72.8871 Q204.211 68.2807 210.021 68.2807 Z\" fill=\"#000000\" fill-rule=\"nonzero\" fill-opacity=\"1\" /><path clip-path=\"url(#clip290)\" d=\"M230.183 97.5861 L235.067 97.5861 L235.067 103.466 L230.183 103.466 L230.183 97.5861 Z\" fill=\"#000000\" fill-rule=\"nonzero\" fill-opacity=\"1\" /><path clip-path=\"url(#clip290)\" d=\"M245.298 68.9057 L263.655 68.9057 L263.655 72.8408 L249.581 72.8408 L249.581 81.313 Q250.599 80.9658 251.618 80.8038 Q252.636 80.6186 253.655 80.6186 Q259.442 80.6186 262.821 83.7899 Q266.201 86.9611 266.201 92.3778 Q266.201 97.9564 262.729 101.058 Q259.257 104.137 252.937 104.137 Q250.761 104.137 248.493 103.767 Q246.247 103.396 243.84 102.655 L243.84 97.9564 Q245.923 99.0907 248.146 99.6462 Q250.368 100.202 252.845 100.202 Q256.849 100.202 259.187 98.0953 Q261.525 95.9889 261.525 92.3778 Q261.525 88.7667 259.187 86.6602 Q256.849 84.5537 252.845 84.5537 Q250.97 84.5537 249.095 84.9704 Q247.243 85.3871 245.298 86.2667 L245.298 68.9057 Z\" fill=\"#000000\" fill-rule=\"nonzero\" fill-opacity=\"1\" /><path clip-path=\"url(#clip290)\" d=\"M285.414 71.9844 Q281.803 71.9844 279.974 75.5492 Q278.169 79.0908 278.169 86.2204 Q278.169 93.3268 279.974 96.8916 Q281.803 100.433 285.414 100.433 Q289.048 100.433 290.854 96.8916 Q292.682 93.3268 292.682 86.2204 Q292.682 79.0908 290.854 75.5492 Q289.048 71.9844 285.414 71.9844 M285.414 68.2807 Q291.224 68.2807 294.28 72.8871 Q297.358 77.4704 297.358 86.2204 Q297.358 94.9472 294.28 99.5537 Q291.224 104.137 285.414 104.137 Q279.604 104.137 276.525 99.5537 Q273.469 94.9472 273.469 86.2204 Q273.469 77.4704 276.525 72.8871 Q279.604 68.2807 285.414 68.2807 Z\" fill=\"#000000\" fill-rule=\"nonzero\" fill-opacity=\"1\" /><path clip-path=\"url(#clip290)\" d=\"M44.2885 785.866 Q46.0196 785.866 46.9455 786.913 Q47.8312 787.959 47.8312 789.328 Q47.8312 790.657 46.9455 791.703 Q46.0196 792.71 44.3691 792.71 Q43.2419 792.71 42.2354 791.985 Q41.1887 791.26 40.9874 789.65 Q39.2564 791.663 39.2564 794.843 Q39.2564 796.413 39.8602 797.5 Q40.4238 798.547 42.1549 799.594 Q43.886 800.64 47.4286 801.365 Q50.9713 802.049 56.4865 802.492 L77.0177 804.062 Q83.9823 804.545 97.6698 806.276 Q111.317 807.967 114.457 808.772 Q117.436 809.497 119.892 810.584 Q122.347 811.671 124.481 813.281 Q126.655 814.891 127.863 817.226 Q129.07 819.561 129.07 822.379 Q129.07 826.123 127.098 828.78 Q125.166 831.437 122.227 831.437 Q120.496 831.437 119.57 830.39 Q118.684 829.344 118.684 827.975 Q118.684 826.647 119.57 825.64 Q120.496 824.593 122.146 824.593 Q123.273 824.593 124.28 825.318 Q125.327 826.043 125.528 827.653 Q127.259 825.64 127.259 822.379 Q127.259 819.883 125.81 818.233 Q124.36 816.582 120.496 815.375 Q116.631 814.167 110.029 813.643 L89.4975 812.073 Q82.2512 811.55 68.765 809.859 Q55.2788 808.128 51.7361 807.363 Q37.4448 804.143 37.4448 794.924 Q37.4448 791.18 39.4174 788.523 Q41.3498 785.866 44.2885 785.866 Z\" fill=\"#000000\" fill-rule=\"nonzero\" fill-opacity=\"1\" /><path clip-path=\"url(#clip290)\" d=\"M166.004 823.064 Q159.218 823.064 155.521 821.351 Q150.02 818.961 150.02 813.325 Q150.02 812.13 150.359 810.89 Q150.674 809.628 151.914 808.05 Q153.154 806.449 155.183 805.48 Q159.106 803.631 166.004 803.631 Q172.745 803.631 176.42 805.344 Q181.785 807.847 181.785 813.37 Q181.785 815.444 180.725 817.563 Q179.666 819.66 177.118 820.99 Q173.308 823.064 166.004 823.064 M165.441 819.232 Q172.407 819.232 175.18 818.736 Q178.178 818.172 179.486 816.639 Q180.771 815.083 180.771 813.37 Q180.771 811.521 179.395 809.988 Q177.998 808.433 174.999 807.96 Q172.046 807.441 165.441 807.464 Q159.015 807.464 156.445 807.914 Q153.447 808.523 152.252 810.146 Q151.035 811.747 151.035 813.37 Q151.035 813.979 151.215 814.633 Q151.396 815.264 151.914 816.188 Q152.433 817.112 153.718 817.834 Q155.003 818.533 156.941 818.871 Q159.444 819.232 165.441 819.232 Z\" fill=\"#000000\" fill-rule=\"nonzero\" fill-opacity=\"1\" /><path clip-path=\"url(#clip290)\" d=\"M-11.1206 820.991 L-12.5635 820.991 Q-12.5635 815.446 -15.5167 812.582 Q-15.5167 811.793 -15.3364 811.658 Q-15.156 811.523 -14.3219 811.523 L11.5813 811.523 Q12.9565 811.523 13.3848 810.847 Q13.8131 810.17 13.8131 807.217 L13.8131 805.752 L15.2334 805.752 Q15.0982 807.375 15.0982 813.236 Q15.0982 819.098 15.2334 820.698 L13.8131 820.698 L13.8131 819.233 Q13.8131 816.325 13.4074 815.626 Q12.979 814.927 11.5813 814.927 L-12.338 814.927 Q-11.1206 817.339 -11.1206 820.991 Z\" fill=\"#000000\" fill-rule=\"nonzero\" fill-opacity=\"1\" /><path clip-path=\"url(#clip290)\" d=\"M79.0306 739.382 Q80.8341 739.382 81.8647 740.509 Q82.8631 741.637 82.8631 742.925 Q82.8631 744.149 82.1546 744.793 Q81.4461 745.437 80.5443 745.437 Q79.3205 745.437 78.2577 744.535 Q77.1949 743.633 76.9694 742.281 Q76.1321 743.601 76.1321 745.566 Q76.1321 746.854 76.8084 747.981 Q77.4847 749.076 78.3543 749.752 Q79.2239 750.397 80.4799 750.976 Q81.7037 751.524 82.4444 751.749 Q83.153 751.942 83.9259 752.104 L92.9435 754.358 Q97.2269 755.453 98.7406 755.453 Q100.609 755.453 101.865 754.551 Q103.088 753.649 103.088 751.846 Q103.088 751.137 102.895 750.332 Q102.67 749.527 102.09 748.496 Q101.478 747.434 100.576 746.5 Q99.6424 745.534 98.0643 744.6 Q96.4862 743.666 94.4572 743.054 Q93.7487 742.86 93.7487 742.216 Q93.7487 741.411 94.3928 741.411 Q94.9403 741.411 96.0997 741.862 Q97.2269 742.281 98.7084 743.215 Q100.158 744.116 101.478 745.308 Q102.766 746.5 103.668 748.271 Q104.57 750.042 104.57 751.975 Q104.57 754.744 103.088 756.58 Q101.607 758.416 99.5457 759.092 Q99.8356 759.253 100.222 759.479 Q100.609 759.704 101.478 760.38 Q102.315 761.025 102.96 761.765 Q103.571 762.506 104.055 763.665 Q104.57 764.793 104.57 766.016 Q104.57 767.562 104.119 768.947 Q103.668 770.3 102.638 771.266 Q101.607 772.232 100.19 772.232 Q98.6118 772.232 97.5168 771.169 Q96.3896 770.074 96.3896 768.593 Q96.3896 767.659 96.9371 766.918 Q97.4846 766.145 98.6762 766.145 Q99.9966 766.145 100.995 767.047 Q101.993 767.949 102.251 769.237 Q103.088 767.917 103.088 765.952 Q103.088 763.826 101.22 762.152 Q99.3525 760.477 96.2285 759.672 Q88.7246 757.675 85.3752 756.902 Q81.9936 756.129 80.5443 756.129 Q79.1916 756.129 78.2577 756.484 Q77.3237 756.838 76.905 757.45 Q76.4541 758.029 76.2931 758.577 Q76.1321 759.092 76.1321 759.672 Q76.1321 760.638 76.5186 761.733 Q76.905 762.796 77.8068 764.084 Q78.6764 765.34 80.4799 766.532 Q82.2834 767.723 84.7633 768.529 Q85.504 768.69 85.504 769.398 Q85.4718 770.171 84.8277 770.171 Q84.2802 770.171 83.153 769.752 Q81.9936 769.301 80.5443 768.4 Q79.095 767.466 77.8068 766.274 Q76.4864 765.05 75.5846 763.279 Q74.6828 761.475 74.6828 759.543 Q74.6828 758.674 74.8761 757.836 Q75.0371 756.967 75.5202 755.936 Q76.0033 754.873 77.0661 753.939 Q78.1289 753.005 79.6747 752.426 Q78.934 752.039 78.2255 751.524 Q77.5169 750.976 76.6474 750.139 Q75.7456 749.269 75.2303 748.078 Q74.6828 746.854 74.6828 745.501 Q74.6828 744.181 75.0371 742.893 Q75.3591 741.604 76.4219 740.509 Q77.4525 739.382 79.0306 739.382 Z\" fill=\"#000000\" fill-rule=\"nonzero\" fill-opacity=\"1\" /><path clip-path=\"url(#clip290)\" d=\"M76.864 732.661 Q75.4888 732.661 74.835 731.872 Q74.1812 731.083 74.1812 730.068 Q74.1812 729.009 74.8801 728.265 Q75.5564 727.498 76.7513 727.498 Q78.0363 727.498 78.7577 728.4 Q79.4791 729.279 79.2988 730.542 Q81.1474 729.437 81.9815 727.408 Q82.8156 725.357 82.8156 723.463 Q82.8156 721.479 81.1023 719.878 Q79.3889 718.255 75.1957 718.255 Q71.6338 718.255 69.5822 719.653 Q67.5307 721.028 67.5307 723.756 L67.5307 725.785 Q67.5307 726.484 67.4631 726.687 Q67.3955 726.89 67.0122 726.89 Q66.5613 726.89 66.4712 726.191 Q66.4712 725.492 66.3359 724.387 Q66.2457 721.704 63.9237 720.284 Q61.7594 718.999 58.6709 718.999 Q55.8529 718.999 54.6806 720.352 Q53.4858 721.682 53.4858 723.418 Q53.4858 725.041 54.1621 726.822 Q54.8384 728.603 56.3489 729.572 Q56.3489 726.709 58.6709 726.709 Q59.6854 726.709 60.3617 727.363 Q61.0155 727.994 61.0155 729.054 Q61.0155 730.068 60.3842 730.745 Q59.7305 731.421 58.6258 731.421 Q55.9881 731.421 54.1621 729.076 Q52.336 726.709 52.336 723.237 Q52.336 719.811 54.1395 717.286 Q55.9431 714.738 58.716 714.738 Q61.4438 714.738 63.6757 716.542 Q65.9076 718.345 66.8319 721.209 Q67.5307 717.692 69.9204 715.595 Q72.2875 713.498 75.1957 713.498 Q78.8028 713.498 81.463 716.339 Q84.1006 719.18 84.1006 723.328 Q84.1006 727.16 82.0266 729.911 Q79.9525 732.661 76.864 732.661 Z\" fill=\"#000000\" fill-rule=\"nonzero\" fill-opacity=\"1\" /><path clip-path=\"url(#clip290)\" d=\"M58.7731 675.244 L96.9049 684.744 Q98.6118 685.131 100.061 685.131 Q103.088 685.131 103.088 683.166 Q103.088 682.2 102.476 681.427 Q101.865 680.654 100.576 680.042 Q99.2881 679.43 98.0965 679.044 Q96.8727 678.657 94.9403 678.142 Q94.1674 677.981 93.9741 677.852 Q93.7487 677.691 93.7487 677.24 Q93.7487 676.435 94.3928 676.435 Q98.5474 677.305 100.931 678.432 Q104.57 680.236 104.57 683.295 Q104.57 685.614 103.153 687.256 Q101.736 688.899 99.6102 689.285 Q104.57 693.504 104.57 697.884 Q104.57 701.749 101.639 704.197 Q98.6762 706.644 94.0063 706.644 Q89.3043 706.644 84.7955 704.326 Q80.2866 701.975 77.4847 698.271 Q74.6828 694.567 74.6828 690.767 Q74.6828 686.741 78.9018 684.68 L63.2497 680.719 L61.9615 680.525 Q61.575 680.525 61.3818 680.686 Q61.1564 680.815 60.9953 681.588 Q60.8343 682.329 60.8343 683.81 Q60.8343 684.422 60.8021 684.712 Q60.7699 684.97 60.6089 685.195 Q60.4156 685.421 60.0292 685.421 Q58.902 685.421 58.7731 684.487 Q58.0646 678.303 58.0646 676.113 Q58.0646 675.727 58.2578 675.501 Q58.4189 675.276 58.6121 675.276 L58.7731 675.244 M81.9291 685.485 Q81.6393 685.485 80.8341 685.711 Q80.029 685.936 78.9018 686.451 Q77.7746 686.967 76.9694 688.094 Q76.1321 689.189 76.1321 690.67 Q76.1321 692.667 77.839 694.76 Q79.5459 696.822 82.4444 698.335 Q84.7633 699.495 89.6263 700.751 Q94.4894 701.975 96.9049 701.975 Q98.3863 701.975 99.7068 701.652 Q100.995 701.298 102.058 700.3 Q103.088 699.301 103.088 697.756 Q103.088 693.987 98.4185 690.284 Q97.6134 689.575 97.2913 689.414 Q96.9371 689.221 95.9709 688.963 L83.0563 685.678 Q82.0902 685.485 81.9291 685.485 Z\" fill=\"#000000\" fill-rule=\"nonzero\" fill-opacity=\"1\" /><path clip-path=\"url(#clip290)\" d=\"M79.0306 640.91 Q80.8341 640.91 81.8647 642.038 Q82.8631 643.165 82.8631 644.453 Q82.8631 645.677 82.1546 646.321 Q81.4461 646.965 80.5443 646.965 Q79.3205 646.965 78.2577 646.063 Q77.1949 645.162 76.9694 643.809 Q76.1321 645.129 76.1321 647.094 Q76.1321 648.382 76.8084 649.509 Q77.4847 650.604 78.3543 651.281 Q79.2239 651.925 80.4799 652.504 Q81.7037 653.052 82.4444 653.277 Q83.153 653.471 83.9259 653.632 L92.9435 655.886 Q97.2269 656.981 98.7406 656.981 Q100.609 656.981 101.865 656.079 Q103.088 655.178 103.088 653.374 Q103.088 652.666 102.895 651.86 Q102.67 651.055 102.09 650.025 Q101.478 648.962 100.576 648.028 Q99.6424 647.062 98.0643 646.128 Q96.4862 645.194 94.4572 644.582 Q93.7487 644.389 93.7487 643.744 Q93.7487 642.939 94.3928 642.939 Q94.9403 642.939 96.0997 643.39 Q97.2269 643.809 98.7084 644.743 Q100.158 645.645 101.478 646.836 Q102.766 648.028 103.668 649.799 Q104.57 651.571 104.57 653.503 Q104.57 656.273 103.088 658.108 Q101.607 659.944 99.5457 660.62 Q99.8356 660.781 100.222 661.007 Q100.609 661.232 101.478 661.909 Q102.315 662.553 102.96 663.293 Q103.571 664.034 104.055 665.194 Q104.57 666.321 104.57 667.545 Q104.57 669.091 104.119 670.475 Q103.668 671.828 102.638 672.794 Q101.607 673.76 100.19 673.76 Q98.6118 673.76 97.5168 672.698 Q96.3896 671.603 96.3896 670.121 Q96.3896 669.187 96.9371 668.446 Q97.4846 667.673 98.6762 667.673 Q99.9966 667.673 100.995 668.575 Q101.993 669.477 102.251 670.765 Q103.088 669.445 103.088 667.48 Q103.088 665.355 101.22 663.68 Q99.3525 662.005 96.2285 661.2 Q88.7246 659.203 85.3752 658.43 Q81.9936 657.657 80.5443 657.657 Q79.1916 657.657 78.2577 658.012 Q77.3237 658.366 76.905 658.978 Q76.4541 659.558 76.2931 660.105 Q76.1321 660.62 76.1321 661.2 Q76.1321 662.166 76.5186 663.261 Q76.905 664.324 77.8068 665.612 Q78.6764 666.868 80.4799 668.06 Q82.2834 669.252 84.7633 670.057 Q85.504 670.218 85.504 670.926 Q85.4718 671.699 84.8277 671.699 Q84.2802 671.699 83.153 671.281 Q81.9936 670.83 80.5443 669.928 Q79.095 668.994 77.8068 667.802 Q76.4864 666.578 75.5846 664.807 Q74.6828 663.004 74.6828 661.071 Q74.6828 660.202 74.8761 659.364 Q75.0371 658.495 75.5202 657.464 Q76.0033 656.401 77.0661 655.467 Q78.1289 654.533 79.6747 653.954 Q78.934 653.567 78.2255 653.052 Q77.5169 652.504 76.6474 651.667 Q75.7456 650.798 75.2303 649.606 Q74.6828 648.382 74.6828 647.029 Q74.6828 645.709 75.0371 644.421 Q75.3591 643.133 76.4219 642.038 Q77.4525 640.91 79.0306 640.91 Z\" fill=\"#000000\" fill-rule=\"nonzero\" fill-opacity=\"1\" /><polyline clip-path=\"url(#clip292)\" style=\"stroke:#009af9; stroke-linecap:round; stroke-linejoin:round; stroke-width:4; stroke-opacity:1; fill:none\" points=\"390.511,86.1857 429.39,1060.11 468.27,1240.47 507.149,1303.6 546.029,1332.81 584.908,1348.69 623.788,1358.26 662.667,1364.47 701.546,1368.73 740.426,1371.77 779.305,1374.03 818.185,1375.74 857.064,1377.07 895.944,1378.13 934.823,1378.99 973.702,1379.69 1012.58,1380.26 1051.46,1380.75 1090.34,1381.16 1129.22,1381.51 1168.1,1381.81 1206.98,1382.07 1245.86,1382.3 1284.74,1382.5 1323.62,1382.68 1362.5,1382.84 1401.38,1382.98 1440.26,1383.1 1479.14,1383.21 1518.01,1383.31 1556.89,1383.41 1595.77,1383.49 1634.65,1383.57 1673.53,1383.63 1712.41,1383.7 1751.29,1383.76 1790.17,1383.81 1829.05,1383.86 1867.93,1383.9 1906.81,1383.95 1945.69,1383.99 1984.57,1384.02 2023.45,1384.06 2062.33,1384.09 2101.21,1384.12 2140.09,1384.14 2178.96,1384.17 2217.84,1384.19 2256.72,1384.22 2295.6,1384.24 \"/>\n",
       "<circle clip-path=\"url(#clip292)\" cx=\"390.511\" cy=\"86.1857\" r=\"14.4\" fill=\"#e26f46\" fill-rule=\"evenodd\" fill-opacity=\"1\" stroke=\"#000000\" stroke-opacity=\"1\" stroke-width=\"3.2\"/>\n",
       "<circle clip-path=\"url(#clip292)\" cx=\"429.39\" cy=\"1060.11\" r=\"14.4\" fill=\"#e26f46\" fill-rule=\"evenodd\" fill-opacity=\"1\" stroke=\"#000000\" stroke-opacity=\"1\" stroke-width=\"3.2\"/>\n",
       "<circle clip-path=\"url(#clip292)\" cx=\"468.27\" cy=\"1240.47\" r=\"14.4\" fill=\"#e26f46\" fill-rule=\"evenodd\" fill-opacity=\"1\" stroke=\"#000000\" stroke-opacity=\"1\" stroke-width=\"3.2\"/>\n",
       "<circle clip-path=\"url(#clip292)\" cx=\"507.149\" cy=\"1303.6\" r=\"14.4\" fill=\"#e26f46\" fill-rule=\"evenodd\" fill-opacity=\"1\" stroke=\"#000000\" stroke-opacity=\"1\" stroke-width=\"3.2\"/>\n",
       "<circle clip-path=\"url(#clip292)\" cx=\"546.029\" cy=\"1332.81\" r=\"14.4\" fill=\"#e26f46\" fill-rule=\"evenodd\" fill-opacity=\"1\" stroke=\"#000000\" stroke-opacity=\"1\" stroke-width=\"3.2\"/>\n",
       "<circle clip-path=\"url(#clip292)\" cx=\"584.908\" cy=\"1348.69\" r=\"14.4\" fill=\"#e26f46\" fill-rule=\"evenodd\" fill-opacity=\"1\" stroke=\"#000000\" stroke-opacity=\"1\" stroke-width=\"3.2\"/>\n",
       "<circle clip-path=\"url(#clip292)\" cx=\"623.788\" cy=\"1358.26\" r=\"14.4\" fill=\"#e26f46\" fill-rule=\"evenodd\" fill-opacity=\"1\" stroke=\"#000000\" stroke-opacity=\"1\" stroke-width=\"3.2\"/>\n",
       "<circle clip-path=\"url(#clip292)\" cx=\"662.667\" cy=\"1364.47\" r=\"14.4\" fill=\"#e26f46\" fill-rule=\"evenodd\" fill-opacity=\"1\" stroke=\"#000000\" stroke-opacity=\"1\" stroke-width=\"3.2\"/>\n",
       "<circle clip-path=\"url(#clip292)\" cx=\"701.546\" cy=\"1368.73\" r=\"14.4\" fill=\"#e26f46\" fill-rule=\"evenodd\" fill-opacity=\"1\" stroke=\"#000000\" stroke-opacity=\"1\" stroke-width=\"3.2\"/>\n",
       "<circle clip-path=\"url(#clip292)\" cx=\"740.426\" cy=\"1371.77\" r=\"14.4\" fill=\"#e26f46\" fill-rule=\"evenodd\" fill-opacity=\"1\" stroke=\"#000000\" stroke-opacity=\"1\" stroke-width=\"3.2\"/>\n",
       "<circle clip-path=\"url(#clip292)\" cx=\"779.305\" cy=\"1374.03\" r=\"14.4\" fill=\"#e26f46\" fill-rule=\"evenodd\" fill-opacity=\"1\" stroke=\"#000000\" stroke-opacity=\"1\" stroke-width=\"3.2\"/>\n",
       "<circle clip-path=\"url(#clip292)\" cx=\"818.185\" cy=\"1375.74\" r=\"14.4\" fill=\"#e26f46\" fill-rule=\"evenodd\" fill-opacity=\"1\" stroke=\"#000000\" stroke-opacity=\"1\" stroke-width=\"3.2\"/>\n",
       "<circle clip-path=\"url(#clip292)\" cx=\"857.064\" cy=\"1377.07\" r=\"14.4\" fill=\"#e26f46\" fill-rule=\"evenodd\" fill-opacity=\"1\" stroke=\"#000000\" stroke-opacity=\"1\" stroke-width=\"3.2\"/>\n",
       "<circle clip-path=\"url(#clip292)\" cx=\"895.944\" cy=\"1378.13\" r=\"14.4\" fill=\"#e26f46\" fill-rule=\"evenodd\" fill-opacity=\"1\" stroke=\"#000000\" stroke-opacity=\"1\" stroke-width=\"3.2\"/>\n",
       "<circle clip-path=\"url(#clip292)\" cx=\"934.823\" cy=\"1378.99\" r=\"14.4\" fill=\"#e26f46\" fill-rule=\"evenodd\" fill-opacity=\"1\" stroke=\"#000000\" stroke-opacity=\"1\" stroke-width=\"3.2\"/>\n",
       "<circle clip-path=\"url(#clip292)\" cx=\"973.702\" cy=\"1379.69\" r=\"14.4\" fill=\"#e26f46\" fill-rule=\"evenodd\" fill-opacity=\"1\" stroke=\"#000000\" stroke-opacity=\"1\" stroke-width=\"3.2\"/>\n",
       "<circle clip-path=\"url(#clip292)\" cx=\"1012.58\" cy=\"1380.26\" r=\"14.4\" fill=\"#e26f46\" fill-rule=\"evenodd\" fill-opacity=\"1\" stroke=\"#000000\" stroke-opacity=\"1\" stroke-width=\"3.2\"/>\n",
       "<circle clip-path=\"url(#clip292)\" cx=\"1051.46\" cy=\"1380.75\" r=\"14.4\" fill=\"#e26f46\" fill-rule=\"evenodd\" fill-opacity=\"1\" stroke=\"#000000\" stroke-opacity=\"1\" stroke-width=\"3.2\"/>\n",
       "<circle clip-path=\"url(#clip292)\" cx=\"1090.34\" cy=\"1381.16\" r=\"14.4\" fill=\"#e26f46\" fill-rule=\"evenodd\" fill-opacity=\"1\" stroke=\"#000000\" stroke-opacity=\"1\" stroke-width=\"3.2\"/>\n",
       "<circle clip-path=\"url(#clip292)\" cx=\"1129.22\" cy=\"1381.51\" r=\"14.4\" fill=\"#e26f46\" fill-rule=\"evenodd\" fill-opacity=\"1\" stroke=\"#000000\" stroke-opacity=\"1\" stroke-width=\"3.2\"/>\n",
       "<circle clip-path=\"url(#clip292)\" cx=\"1168.1\" cy=\"1381.81\" r=\"14.4\" fill=\"#e26f46\" fill-rule=\"evenodd\" fill-opacity=\"1\" stroke=\"#000000\" stroke-opacity=\"1\" stroke-width=\"3.2\"/>\n",
       "<circle clip-path=\"url(#clip292)\" cx=\"1206.98\" cy=\"1382.07\" r=\"14.4\" fill=\"#e26f46\" fill-rule=\"evenodd\" fill-opacity=\"1\" stroke=\"#000000\" stroke-opacity=\"1\" stroke-width=\"3.2\"/>\n",
       "<circle clip-path=\"url(#clip292)\" cx=\"1245.86\" cy=\"1382.3\" r=\"14.4\" fill=\"#e26f46\" fill-rule=\"evenodd\" fill-opacity=\"1\" stroke=\"#000000\" stroke-opacity=\"1\" stroke-width=\"3.2\"/>\n",
       "<circle clip-path=\"url(#clip292)\" cx=\"1284.74\" cy=\"1382.5\" r=\"14.4\" fill=\"#e26f46\" fill-rule=\"evenodd\" fill-opacity=\"1\" stroke=\"#000000\" stroke-opacity=\"1\" stroke-width=\"3.2\"/>\n",
       "<circle clip-path=\"url(#clip292)\" cx=\"1323.62\" cy=\"1382.68\" r=\"14.4\" fill=\"#e26f46\" fill-rule=\"evenodd\" fill-opacity=\"1\" stroke=\"#000000\" stroke-opacity=\"1\" stroke-width=\"3.2\"/>\n",
       "<circle clip-path=\"url(#clip292)\" cx=\"1362.5\" cy=\"1382.84\" r=\"14.4\" fill=\"#e26f46\" fill-rule=\"evenodd\" fill-opacity=\"1\" stroke=\"#000000\" stroke-opacity=\"1\" stroke-width=\"3.2\"/>\n",
       "<circle clip-path=\"url(#clip292)\" cx=\"1401.38\" cy=\"1382.98\" r=\"14.4\" fill=\"#e26f46\" fill-rule=\"evenodd\" fill-opacity=\"1\" stroke=\"#000000\" stroke-opacity=\"1\" stroke-width=\"3.2\"/>\n",
       "<circle clip-path=\"url(#clip292)\" cx=\"1440.26\" cy=\"1383.1\" r=\"14.4\" fill=\"#e26f46\" fill-rule=\"evenodd\" fill-opacity=\"1\" stroke=\"#000000\" stroke-opacity=\"1\" stroke-width=\"3.2\"/>\n",
       "<circle clip-path=\"url(#clip292)\" cx=\"1479.14\" cy=\"1383.21\" r=\"14.4\" fill=\"#e26f46\" fill-rule=\"evenodd\" fill-opacity=\"1\" stroke=\"#000000\" stroke-opacity=\"1\" stroke-width=\"3.2\"/>\n",
       "<circle clip-path=\"url(#clip292)\" cx=\"1518.01\" cy=\"1383.31\" r=\"14.4\" fill=\"#e26f46\" fill-rule=\"evenodd\" fill-opacity=\"1\" stroke=\"#000000\" stroke-opacity=\"1\" stroke-width=\"3.2\"/>\n",
       "<circle clip-path=\"url(#clip292)\" cx=\"1556.89\" cy=\"1383.41\" r=\"14.4\" fill=\"#e26f46\" fill-rule=\"evenodd\" fill-opacity=\"1\" stroke=\"#000000\" stroke-opacity=\"1\" stroke-width=\"3.2\"/>\n",
       "<circle clip-path=\"url(#clip292)\" cx=\"1595.77\" cy=\"1383.49\" r=\"14.4\" fill=\"#e26f46\" fill-rule=\"evenodd\" fill-opacity=\"1\" stroke=\"#000000\" stroke-opacity=\"1\" stroke-width=\"3.2\"/>\n",
       "<circle clip-path=\"url(#clip292)\" cx=\"1634.65\" cy=\"1383.57\" r=\"14.4\" fill=\"#e26f46\" fill-rule=\"evenodd\" fill-opacity=\"1\" stroke=\"#000000\" stroke-opacity=\"1\" stroke-width=\"3.2\"/>\n",
       "<circle clip-path=\"url(#clip292)\" cx=\"1673.53\" cy=\"1383.63\" r=\"14.4\" fill=\"#e26f46\" fill-rule=\"evenodd\" fill-opacity=\"1\" stroke=\"#000000\" stroke-opacity=\"1\" stroke-width=\"3.2\"/>\n",
       "<circle clip-path=\"url(#clip292)\" cx=\"1712.41\" cy=\"1383.7\" r=\"14.4\" fill=\"#e26f46\" fill-rule=\"evenodd\" fill-opacity=\"1\" stroke=\"#000000\" stroke-opacity=\"1\" stroke-width=\"3.2\"/>\n",
       "<circle clip-path=\"url(#clip292)\" cx=\"1751.29\" cy=\"1383.76\" r=\"14.4\" fill=\"#e26f46\" fill-rule=\"evenodd\" fill-opacity=\"1\" stroke=\"#000000\" stroke-opacity=\"1\" stroke-width=\"3.2\"/>\n",
       "<circle clip-path=\"url(#clip292)\" cx=\"1790.17\" cy=\"1383.81\" r=\"14.4\" fill=\"#e26f46\" fill-rule=\"evenodd\" fill-opacity=\"1\" stroke=\"#000000\" stroke-opacity=\"1\" stroke-width=\"3.2\"/>\n",
       "<circle clip-path=\"url(#clip292)\" cx=\"1829.05\" cy=\"1383.86\" r=\"14.4\" fill=\"#e26f46\" fill-rule=\"evenodd\" fill-opacity=\"1\" stroke=\"#000000\" stroke-opacity=\"1\" stroke-width=\"3.2\"/>\n",
       "<circle clip-path=\"url(#clip292)\" cx=\"1867.93\" cy=\"1383.9\" r=\"14.4\" fill=\"#e26f46\" fill-rule=\"evenodd\" fill-opacity=\"1\" stroke=\"#000000\" stroke-opacity=\"1\" stroke-width=\"3.2\"/>\n",
       "<circle clip-path=\"url(#clip292)\" cx=\"1906.81\" cy=\"1383.95\" r=\"14.4\" fill=\"#e26f46\" fill-rule=\"evenodd\" fill-opacity=\"1\" stroke=\"#000000\" stroke-opacity=\"1\" stroke-width=\"3.2\"/>\n",
       "<circle clip-path=\"url(#clip292)\" cx=\"1945.69\" cy=\"1383.99\" r=\"14.4\" fill=\"#e26f46\" fill-rule=\"evenodd\" fill-opacity=\"1\" stroke=\"#000000\" stroke-opacity=\"1\" stroke-width=\"3.2\"/>\n",
       "<circle clip-path=\"url(#clip292)\" cx=\"1984.57\" cy=\"1384.02\" r=\"14.4\" fill=\"#e26f46\" fill-rule=\"evenodd\" fill-opacity=\"1\" stroke=\"#000000\" stroke-opacity=\"1\" stroke-width=\"3.2\"/>\n",
       "<circle clip-path=\"url(#clip292)\" cx=\"2023.45\" cy=\"1384.06\" r=\"14.4\" fill=\"#e26f46\" fill-rule=\"evenodd\" fill-opacity=\"1\" stroke=\"#000000\" stroke-opacity=\"1\" stroke-width=\"3.2\"/>\n",
       "<circle clip-path=\"url(#clip292)\" cx=\"2062.33\" cy=\"1384.09\" r=\"14.4\" fill=\"#e26f46\" fill-rule=\"evenodd\" fill-opacity=\"1\" stroke=\"#000000\" stroke-opacity=\"1\" stroke-width=\"3.2\"/>\n",
       "<circle clip-path=\"url(#clip292)\" cx=\"2101.21\" cy=\"1384.12\" r=\"14.4\" fill=\"#e26f46\" fill-rule=\"evenodd\" fill-opacity=\"1\" stroke=\"#000000\" stroke-opacity=\"1\" stroke-width=\"3.2\"/>\n",
       "<circle clip-path=\"url(#clip292)\" cx=\"2140.09\" cy=\"1384.14\" r=\"14.4\" fill=\"#e26f46\" fill-rule=\"evenodd\" fill-opacity=\"1\" stroke=\"#000000\" stroke-opacity=\"1\" stroke-width=\"3.2\"/>\n",
       "<circle clip-path=\"url(#clip292)\" cx=\"2178.96\" cy=\"1384.17\" r=\"14.4\" fill=\"#e26f46\" fill-rule=\"evenodd\" fill-opacity=\"1\" stroke=\"#000000\" stroke-opacity=\"1\" stroke-width=\"3.2\"/>\n",
       "<circle clip-path=\"url(#clip292)\" cx=\"2217.84\" cy=\"1384.19\" r=\"14.4\" fill=\"#e26f46\" fill-rule=\"evenodd\" fill-opacity=\"1\" stroke=\"#000000\" stroke-opacity=\"1\" stroke-width=\"3.2\"/>\n",
       "<circle clip-path=\"url(#clip292)\" cx=\"2256.72\" cy=\"1384.22\" r=\"14.4\" fill=\"#e26f46\" fill-rule=\"evenodd\" fill-opacity=\"1\" stroke=\"#000000\" stroke-opacity=\"1\" stroke-width=\"3.2\"/>\n",
       "<circle clip-path=\"url(#clip292)\" cx=\"2295.6\" cy=\"1384.24\" r=\"14.4\" fill=\"#e26f46\" fill-rule=\"evenodd\" fill-opacity=\"1\" stroke=\"#000000\" stroke-opacity=\"1\" stroke-width=\"3.2\"/>\n",
       "</svg>\n"
      ]
     },
     "execution_count": 25,
     "metadata": {},
     "output_type": "execute_result"
    }
   ],
   "source": [
    "nvals=1:50\n",
    "tvals=[naive_trap(x->x^3,(0,1),n) for n in nvals]\n",
    "plot(nvals,tvals,xlabel=\"n\",ylabel=L\"$\\int_0^1x^3dx$\",legend=false)\n",
    "scatter!(nvals,tvals)"
   ]
  },
  {
   "cell_type": "markdown",
   "id": "6b728f68",
   "metadata": {},
   "source": [
    "We see that this converges pretty quickly. One trick to understand this is to rescale one of the axes.  Lets try plotting the difference beteen the exact result and this approximation, as a function of $1/n$."
   ]
  },
  {
   "cell_type": "code",
   "execution_count": 76,
   "id": "ec9f452a",
   "metadata": {},
   "outputs": [
    {
     "data": {
      "image/png": "[encoded data removed]",
      "image/svg+xml": [
       "<?xml version=\"1.0\" encoding=\"utf-8\"?>\n",
       "<svg xmlns=\"http://www.w3.org/2000/svg\" xmlns:xlink=\"http://www.w3.org/1999/xlink\" width=\"600\" height=\"400\" viewBox=\"0 0 2400 1600\">\n",
       "<defs>\n",
       "  <clipPath id=\"clip330\">\n",
       "    <rect x=\"0\" y=\"0\" width=\"2400\" height=\"1600\"/>\n",
       "  </clipPath>\n",
       "</defs>\n",
       "<path clip-path=\"url(#clip330)\" d=\"M0 1600 L2400 1600 L2400 8.88178e-14 L0 8.88178e-14  Z\" fill=\"#ffffff\" fill-rule=\"evenodd\" fill-opacity=\"1\"/>\n",
       "<defs>\n",
       "  <clipPath id=\"clip331\">\n",
       "    <rect x=\"480\" y=\"0\" width=\"1681\" height=\"1600\"/>\n",
       "  </clipPath>\n",
       "</defs>\n",
       "<path clip-path=\"url(#clip330)\" d=\"M333.358 1423.18 L2352.76 1423.18 L2352.76 47.2441 L333.358 47.2441  Z\" fill=\"#ffffff\" fill-rule=\"evenodd\" fill-opacity=\"1\"/>\n",
       "<defs>\n",
       "  <clipPath id=\"clip332\">\n",
       "    <rect x=\"333\" y=\"47\" width=\"2020\" height=\"1377\"/>\n",
       "  </clipPath>\n",
       "</defs>\n",
       "<polyline clip-path=\"url(#clip332)\" style=\"stroke:#000000; stroke-linecap:round; stroke-linejoin:round; stroke-width:2; stroke-opacity:0.1; fill:none\" points=\"351.632,1423.18 351.632,47.2441 \"/>\n",
       "<polyline clip-path=\"url(#clip332)\" style=\"stroke:#000000; stroke-linecap:round; stroke-linejoin:round; stroke-width:2; stroke-opacity:0.1; fill:none\" points=\"837.624,1423.18 837.624,47.2441 \"/>\n",
       "<polyline clip-path=\"url(#clip332)\" style=\"stroke:#000000; stroke-linecap:round; stroke-linejoin:round; stroke-width:2; stroke-opacity:0.1; fill:none\" points=\"1323.62,1423.18 1323.62,47.2441 \"/>\n",
       "<polyline clip-path=\"url(#clip332)\" style=\"stroke:#000000; stroke-linecap:round; stroke-linejoin:round; stroke-width:2; stroke-opacity:0.1; fill:none\" points=\"1809.61,1423.18 1809.61,47.2441 \"/>\n",
       "<polyline clip-path=\"url(#clip332)\" style=\"stroke:#000000; stroke-linecap:round; stroke-linejoin:round; stroke-width:2; stroke-opacity:0.1; fill:none\" points=\"2295.6,1423.18 2295.6,47.2441 \"/>\n",
       "<polyline clip-path=\"url(#clip330)\" style=\"stroke:#000000; stroke-linecap:round; stroke-linejoin:round; stroke-width:4; stroke-opacity:1; fill:none\" points=\"333.358,1423.18 2352.76,1423.18 \"/>\n",
       "<polyline clip-path=\"url(#clip330)\" style=\"stroke:#000000; stroke-linecap:round; stroke-linejoin:round; stroke-width:4; stroke-opacity:1; fill:none\" points=\"351.632,1423.18 351.632,1404.28 \"/>\n",
       "<polyline clip-path=\"url(#clip330)\" style=\"stroke:#000000; stroke-linecap:round; stroke-linejoin:round; stroke-width:4; stroke-opacity:1; fill:none\" points=\"837.624,1423.18 837.624,1404.28 \"/>\n",
       "<polyline clip-path=\"url(#clip330)\" style=\"stroke:#000000; stroke-linecap:round; stroke-linejoin:round; stroke-width:4; stroke-opacity:1; fill:none\" points=\"1323.62,1423.18 1323.62,1404.28 \"/>\n",
       "<polyline clip-path=\"url(#clip330)\" style=\"stroke:#000000; stroke-linecap:round; stroke-linejoin:round; stroke-width:4; stroke-opacity:1; fill:none\" points=\"1809.61,1423.18 1809.61,1404.28 \"/>\n",
       "<polyline clip-path=\"url(#clip330)\" style=\"stroke:#000000; stroke-linecap:round; stroke-linejoin:round; stroke-width:4; stroke-opacity:1; fill:none\" points=\"2295.6,1423.18 2295.6,1404.28 \"/>\n",
       "<path clip-path=\"url(#clip330)\" d=\"M313.935 1454.1 Q310.324 1454.1 308.495 1457.66 Q306.69 1461.2 306.69 1468.33 Q306.69 1475.44 308.495 1479.01 Q310.324 1482.55 313.935 1482.55 Q317.569 1482.55 319.375 1479.01 Q321.203 1475.44 321.203 1468.33 Q321.203 1461.2 319.375 1457.66 Q317.569 1454.1 313.935 1454.1 M313.935 1450.39 Q319.745 1450.39 322.801 1455 Q325.879 1459.58 325.879 1468.33 Q325.879 1477.06 322.801 1481.67 Q319.745 1486.25 313.935 1486.25 Q308.125 1486.25 305.046 1481.67 Q301.991 1477.06 301.991 1468.33 Q301.991 1459.58 305.046 1455 Q308.125 1450.39 313.935 1450.39 Z\" fill=\"#000000\" fill-rule=\"nonzero\" fill-opacity=\"1\" /><path clip-path=\"url(#clip330)\" d=\"M334.097 1479.7 L338.981 1479.7 L338.981 1485.58 L334.097 1485.58 L334.097 1479.7 Z\" fill=\"#000000\" fill-rule=\"nonzero\" fill-opacity=\"1\" /><path clip-path=\"url(#clip330)\" d=\"M359.166 1454.1 Q355.555 1454.1 353.726 1457.66 Q351.921 1461.2 351.921 1468.33 Q351.921 1475.44 353.726 1479.01 Q355.555 1482.55 359.166 1482.55 Q362.8 1482.55 364.606 1479.01 Q366.435 1475.44 366.435 1468.33 Q366.435 1461.2 364.606 1457.66 Q362.8 1454.1 359.166 1454.1 M359.166 1450.39 Q364.976 1450.39 368.032 1455 Q371.111 1459.58 371.111 1468.33 Q371.111 1477.06 368.032 1481.67 Q364.976 1486.25 359.166 1486.25 Q353.356 1486.25 350.277 1481.67 Q347.222 1477.06 347.222 1468.33 Q347.222 1459.58 350.277 1455 Q353.356 1450.39 359.166 1450.39 Z\" fill=\"#000000\" fill-rule=\"nonzero\" fill-opacity=\"1\" /><path clip-path=\"url(#clip330)\" d=\"M389.328 1454.1 Q385.717 1454.1 383.888 1457.66 Q382.083 1461.2 382.083 1468.33 Q382.083 1475.44 383.888 1479.01 Q385.717 1482.55 389.328 1482.55 Q392.962 1482.55 394.768 1479.01 Q396.597 1475.44 396.597 1468.33 Q396.597 1461.2 394.768 1457.66 Q392.962 1454.1 389.328 1454.1 M389.328 1450.39 Q395.138 1450.39 398.194 1455 Q401.273 1459.58 401.273 1468.33 Q401.273 1477.06 398.194 1481.67 Q395.138 1486.25 389.328 1486.25 Q383.518 1486.25 380.439 1481.67 Q377.384 1477.06 377.384 1468.33 Q377.384 1459.58 380.439 1455 Q383.518 1450.39 389.328 1450.39 Z\" fill=\"#000000\" fill-rule=\"nonzero\" fill-opacity=\"1\" /><path clip-path=\"url(#clip330)\" d=\"M800.426 1454.1 Q796.814 1454.1 794.986 1457.66 Q793.18 1461.2 793.18 1468.33 Q793.18 1475.44 794.986 1479.01 Q796.814 1482.55 800.426 1482.55 Q804.06 1482.55 805.865 1479.01 Q807.694 1475.44 807.694 1468.33 Q807.694 1461.2 805.865 1457.66 Q804.06 1454.1 800.426 1454.1 M800.426 1450.39 Q806.236 1450.39 809.291 1455 Q812.37 1459.58 812.37 1468.33 Q812.37 1477.06 809.291 1481.67 Q806.236 1486.25 800.426 1486.25 Q794.615 1486.25 791.537 1481.67 Q788.481 1477.06 788.481 1468.33 Q788.481 1459.58 791.537 1455 Q794.615 1450.39 800.426 1450.39 Z\" fill=\"#000000\" fill-rule=\"nonzero\" fill-opacity=\"1\" /><path clip-path=\"url(#clip330)\" d=\"M820.588 1479.7 L825.472 1479.7 L825.472 1485.58 L820.588 1485.58 L820.588 1479.7 Z\" fill=\"#000000\" fill-rule=\"nonzero\" fill-opacity=\"1\" /><path clip-path=\"url(#clip330)\" d=\"M839.685 1481.64 L856.004 1481.64 L856.004 1485.58 L834.06 1485.58 L834.06 1481.64 Q836.722 1478.89 841.305 1474.26 Q845.911 1469.61 847.092 1468.27 Q849.337 1465.74 850.217 1464.01 Q851.12 1462.25 851.12 1460.56 Q851.12 1457.8 849.175 1456.07 Q847.254 1454.33 844.152 1454.33 Q841.953 1454.33 839.499 1455.09 Q837.069 1455.86 834.291 1457.41 L834.291 1452.69 Q837.115 1451.55 839.569 1450.97 Q842.023 1450.39 844.06 1450.39 Q849.43 1450.39 852.624 1453.08 Q855.819 1455.77 855.819 1460.26 Q855.819 1462.39 855.009 1464.31 Q854.222 1466.2 852.115 1468.8 Q851.536 1469.47 848.435 1472.69 Q845.333 1475.88 839.685 1481.64 Z\" fill=\"#000000\" fill-rule=\"nonzero\" fill-opacity=\"1\" /><path clip-path=\"url(#clip330)\" d=\"M865.865 1451.02 L884.221 1451.02 L884.221 1454.96 L870.147 1454.96 L870.147 1463.43 Q871.166 1463.08 872.184 1462.92 Q873.203 1462.73 874.221 1462.73 Q880.008 1462.73 883.388 1465.9 Q886.768 1469.08 886.768 1474.49 Q886.768 1480.07 883.296 1483.17 Q879.823 1486.25 873.504 1486.25 Q871.328 1486.25 869.059 1485.88 Q866.814 1485.51 864.407 1484.77 L864.407 1480.07 Q866.49 1481.2 868.712 1481.76 Q870.934 1482.32 873.411 1482.32 Q877.416 1482.32 879.754 1480.21 Q882.092 1478.1 882.092 1474.49 Q882.092 1470.88 879.754 1468.77 Q877.416 1466.67 873.411 1466.67 Q871.536 1466.67 869.661 1467.08 Q867.809 1467.5 865.865 1468.38 L865.865 1451.02 Z\" fill=\"#000000\" fill-rule=\"nonzero\" fill-opacity=\"1\" /><path clip-path=\"url(#clip330)\" d=\"M1285.92 1454.1 Q1282.31 1454.1 1280.48 1457.66 Q1278.68 1461.2 1278.68 1468.33 Q1278.68 1475.44 1280.48 1479.01 Q1282.31 1482.55 1285.92 1482.55 Q1289.56 1482.55 1291.36 1479.01 Q1293.19 1475.44 1293.19 1468.33 Q1293.19 1461.2 1291.36 1457.66 Q1289.56 1454.1 1285.92 1454.1 M1285.92 1450.39 Q1291.73 1450.39 1294.79 1455 Q1297.87 1459.58 1297.87 1468.33 Q1297.87 1477.06 1294.79 1481.67 Q1291.73 1486.25 1285.92 1486.25 Q1280.11 1486.25 1277.03 1481.67 Q1273.98 1477.06 1273.98 1468.33 Q1273.98 1459.58 1277.03 1455 Q1280.11 1450.39 1285.92 1450.39 Z\" fill=\"#000000\" fill-rule=\"nonzero\" fill-opacity=\"1\" /><path clip-path=\"url(#clip330)\" d=\"M1306.08 1479.7 L1310.97 1479.7 L1310.97 1485.58 L1306.08 1485.58 L1306.08 1479.7 Z\" fill=\"#000000\" fill-rule=\"nonzero\" fill-opacity=\"1\" /><path clip-path=\"url(#clip330)\" d=\"M1321.2 1451.02 L1339.55 1451.02 L1339.55 1454.96 L1325.48 1454.96 L1325.48 1463.43 Q1326.5 1463.08 1327.52 1462.92 Q1328.54 1462.73 1329.55 1462.73 Q1335.34 1462.73 1338.72 1465.9 Q1342.1 1469.08 1342.1 1474.49 Q1342.1 1480.07 1338.63 1483.17 Q1335.16 1486.25 1328.84 1486.25 Q1326.66 1486.25 1324.39 1485.88 Q1322.15 1485.51 1319.74 1484.77 L1319.74 1480.07 Q1321.82 1481.2 1324.05 1481.76 Q1326.27 1482.32 1328.74 1482.32 Q1332.75 1482.32 1335.09 1480.21 Q1337.43 1478.1 1337.43 1474.49 Q1337.43 1470.88 1335.09 1468.77 Q1332.75 1466.67 1328.74 1466.67 Q1326.87 1466.67 1324.99 1467.08 Q1323.14 1467.5 1321.2 1468.38 L1321.2 1451.02 Z\" fill=\"#000000\" fill-rule=\"nonzero\" fill-opacity=\"1\" /><path clip-path=\"url(#clip330)\" d=\"M1361.31 1454.1 Q1357.7 1454.1 1355.87 1457.66 Q1354.07 1461.2 1354.07 1468.33 Q1354.07 1475.44 1355.87 1479.01 Q1357.7 1482.55 1361.31 1482.55 Q1364.95 1482.55 1366.75 1479.01 Q1368.58 1475.44 1368.58 1468.33 Q1368.58 1461.2 1366.75 1457.66 Q1364.95 1454.1 1361.31 1454.1 M1361.31 1450.39 Q1367.12 1450.39 1370.18 1455 Q1373.26 1459.58 1373.26 1468.33 Q1373.26 1477.06 1370.18 1481.67 Q1367.12 1486.25 1361.31 1486.25 Q1355.5 1486.25 1352.43 1481.67 Q1349.37 1477.06 1349.37 1468.33 Q1349.37 1459.58 1352.43 1455 Q1355.5 1450.39 1361.31 1450.39 Z\" fill=\"#000000\" fill-rule=\"nonzero\" fill-opacity=\"1\" /><path clip-path=\"url(#clip330)\" d=\"M1772.41 1454.1 Q1768.8 1454.1 1766.97 1457.66 Q1765.17 1461.2 1765.17 1468.33 Q1765.17 1475.44 1766.97 1479.01 Q1768.8 1482.55 1772.41 1482.55 Q1776.05 1482.55 1777.85 1479.01 Q1779.68 1475.44 1779.68 1468.33 Q1779.68 1461.2 1777.85 1457.66 Q1776.05 1454.1 1772.41 1454.1 M1772.41 1450.39 Q1778.22 1450.39 1781.28 1455 Q1784.36 1459.58 1784.36 1468.33 Q1784.36 1477.06 1781.28 1481.67 Q1778.22 1486.25 1772.41 1486.25 Q1766.6 1486.25 1763.52 1481.67 Q1760.47 1477.06 1760.47 1468.33 Q1760.47 1459.58 1763.52 1455 Q1766.6 1450.39 1772.41 1450.39 Z\" fill=\"#000000\" fill-rule=\"nonzero\" fill-opacity=\"1\" /><path clip-path=\"url(#clip330)\" d=\"M1792.57 1479.7 L1797.46 1479.7 L1797.46 1485.58 L1792.57 1485.58 L1792.57 1479.7 Z\" fill=\"#000000\" fill-rule=\"nonzero\" fill-opacity=\"1\" /><path clip-path=\"url(#clip330)\" d=\"M1806.46 1451.02 L1828.68 1451.02 L1828.68 1453.01 L1816.14 1485.58 L1811.25 1485.58 L1823.06 1454.96 L1806.46 1454.96 L1806.46 1451.02 Z\" fill=\"#000000\" fill-rule=\"nonzero\" fill-opacity=\"1\" /><path clip-path=\"url(#clip330)\" d=\"M1837.85 1451.02 L1856.21 1451.02 L1856.21 1454.96 L1842.13 1454.96 L1842.13 1463.43 Q1843.15 1463.08 1844.17 1462.92 Q1845.19 1462.73 1846.21 1462.73 Q1851.99 1462.73 1855.37 1465.9 Q1858.75 1469.08 1858.75 1474.49 Q1858.75 1480.07 1855.28 1483.17 Q1851.81 1486.25 1845.49 1486.25 Q1843.31 1486.25 1841.05 1485.88 Q1838.8 1485.51 1836.39 1484.77 L1836.39 1480.07 Q1838.48 1481.2 1840.7 1481.76 Q1842.92 1482.32 1845.4 1482.32 Q1849.4 1482.32 1851.74 1480.21 Q1854.08 1478.1 1854.08 1474.49 Q1854.08 1470.88 1851.74 1468.77 Q1849.4 1466.67 1845.4 1466.67 Q1843.52 1466.67 1841.65 1467.08 Q1839.8 1467.5 1837.85 1468.38 L1837.85 1451.02 Z\" fill=\"#000000\" fill-rule=\"nonzero\" fill-opacity=\"1\" /><path clip-path=\"url(#clip330)\" d=\"M2247.68 1481.64 L2255.31 1481.64 L2255.31 1455.28 L2247 1456.95 L2247 1452.69 L2255.27 1451.02 L2259.94 1451.02 L2259.94 1481.64 L2267.58 1481.64 L2267.58 1485.58 L2247.68 1485.58 L2247.68 1481.64 Z\" fill=\"#000000\" fill-rule=\"nonzero\" fill-opacity=\"1\" /><path clip-path=\"url(#clip330)\" d=\"M2277.03 1479.7 L2281.91 1479.7 L2281.91 1485.58 L2277.03 1485.58 L2277.03 1479.7 Z\" fill=\"#000000\" fill-rule=\"nonzero\" fill-opacity=\"1\" /><path clip-path=\"url(#clip330)\" d=\"M2302.1 1454.1 Q2298.49 1454.1 2296.66 1457.66 Q2294.85 1461.2 2294.85 1468.33 Q2294.85 1475.44 2296.66 1479.01 Q2298.49 1482.55 2302.1 1482.55 Q2305.73 1482.55 2307.54 1479.01 Q2309.36 1475.44 2309.36 1468.33 Q2309.36 1461.2 2307.54 1457.66 Q2305.73 1454.1 2302.1 1454.1 M2302.1 1450.39 Q2307.91 1450.39 2310.96 1455 Q2314.04 1459.58 2314.04 1468.33 Q2314.04 1477.06 2310.96 1481.67 Q2307.91 1486.25 2302.1 1486.25 Q2296.29 1486.25 2293.21 1481.67 Q2290.15 1477.06 2290.15 1468.33 Q2290.15 1459.58 2293.21 1455 Q2296.29 1450.39 2302.1 1450.39 Z\" fill=\"#000000\" fill-rule=\"nonzero\" fill-opacity=\"1\" /><path clip-path=\"url(#clip330)\" d=\"M2332.26 1454.1 Q2328.65 1454.1 2326.82 1457.66 Q2325.01 1461.2 2325.01 1468.33 Q2325.01 1475.44 2326.82 1479.01 Q2328.65 1482.55 2332.26 1482.55 Q2335.89 1482.55 2337.7 1479.01 Q2339.53 1475.44 2339.53 1468.33 Q2339.53 1461.2 2337.7 1457.66 Q2335.89 1454.1 2332.26 1454.1 M2332.26 1450.39 Q2338.07 1450.39 2341.12 1455 Q2344.2 1459.58 2344.2 1468.33 Q2344.2 1477.06 2341.12 1481.67 Q2338.07 1486.25 2332.26 1486.25 Q2326.45 1486.25 2323.37 1481.67 Q2320.31 1477.06 2320.31 1468.33 Q2320.31 1459.58 2323.37 1455 Q2326.45 1450.39 2332.26 1450.39 Z\" fill=\"#000000\" fill-rule=\"nonzero\" fill-opacity=\"1\" /><path clip-path=\"url(#clip330)\" d=\"M1297.96 1562.63 L1308.46 1562.63 L1308.46 1526.38 L1297.03 1528.67 L1297.03 1522.82 L1308.4 1520.52 L1314.83 1520.52 L1314.83 1562.63 L1325.33 1562.63 L1325.33 1568.04 L1297.96 1568.04 L1297.96 1562.63 Z\" fill=\"#000000\" fill-rule=\"nonzero\" fill-opacity=\"1\" /><path clip-path=\"url(#clip330)\" d=\"M1347.9 1520.52 L1353.31 1520.52 L1336.76 1574.09 L1331.34 1574.09 L1347.9 1520.52 Z\" fill=\"#000000\" fill-rule=\"nonzero\" fill-opacity=\"1\" /><path clip-path=\"url(#clip330)\" d=\"M1389.08 1546.53 L1389.08 1568.04 L1383.22 1568.04 L1383.22 1546.72 Q1383.22 1541.66 1381.25 1539.14 Q1379.28 1536.63 1375.33 1536.63 Q1370.59 1536.63 1367.85 1539.65 Q1365.11 1542.68 1365.11 1547.9 L1365.11 1568.04 L1359.23 1568.04 L1359.23 1532.4 L1365.11 1532.4 L1365.11 1537.93 Q1367.21 1534.72 1370.05 1533.13 Q1372.91 1531.54 1376.64 1531.54 Q1382.78 1531.54 1385.93 1535.36 Q1389.08 1539.14 1389.08 1546.53 Z\" fill=\"#000000\" fill-rule=\"nonzero\" fill-opacity=\"1\" /><polyline clip-path=\"url(#clip332)\" style=\"stroke:#000000; stroke-linecap:round; stroke-linejoin:round; stroke-width:2; stroke-opacity:0.1; fill:none\" points=\"333.358,1384.76 2352.76,1384.76 \"/>\n",
       "<polyline clip-path=\"url(#clip332)\" style=\"stroke:#000000; stroke-linecap:round; stroke-linejoin:round; stroke-width:2; stroke-opacity:0.1; fill:none\" points=\"333.358,1125.04 2352.76,1125.04 \"/>\n",
       "<polyline clip-path=\"url(#clip332)\" style=\"stroke:#000000; stroke-linecap:round; stroke-linejoin:round; stroke-width:2; stroke-opacity:0.1; fill:none\" points=\"333.358,865.329 2352.76,865.329 \"/>\n",
       "<polyline clip-path=\"url(#clip332)\" style=\"stroke:#000000; stroke-linecap:round; stroke-linejoin:round; stroke-width:2; stroke-opacity:0.1; fill:none\" points=\"333.358,605.614 2352.76,605.614 \"/>\n",
       "<polyline clip-path=\"url(#clip332)\" style=\"stroke:#000000; stroke-linecap:round; stroke-linejoin:round; stroke-width:2; stroke-opacity:0.1; fill:none\" points=\"333.358,345.9 2352.76,345.9 \"/>\n",
       "<polyline clip-path=\"url(#clip332)\" style=\"stroke:#000000; stroke-linecap:round; stroke-linejoin:round; stroke-width:2; stroke-opacity:0.1; fill:none\" points=\"333.358,86.1857 2352.76,86.1857 \"/>\n",
       "<polyline clip-path=\"url(#clip330)\" style=\"stroke:#000000; stroke-linecap:round; stroke-linejoin:round; stroke-width:4; stroke-opacity:1; fill:none\" points=\"333.358,1423.18 333.358,47.2441 \"/>\n",
       "<polyline clip-path=\"url(#clip330)\" style=\"stroke:#000000; stroke-linecap:round; stroke-linejoin:round; stroke-width:4; stroke-opacity:1; fill:none\" points=\"333.358,1384.76 352.256,1384.76 \"/>\n",
       "<polyline clip-path=\"url(#clip330)\" style=\"stroke:#000000; stroke-linecap:round; stroke-linejoin:round; stroke-width:4; stroke-opacity:1; fill:none\" points=\"333.358,1125.04 352.256,1125.04 \"/>\n",
       "<polyline clip-path=\"url(#clip330)\" style=\"stroke:#000000; stroke-linecap:round; stroke-linejoin:round; stroke-width:4; stroke-opacity:1; fill:none\" points=\"333.358,865.329 352.256,865.329 \"/>\n",
       "<polyline clip-path=\"url(#clip330)\" style=\"stroke:#000000; stroke-linecap:round; stroke-linejoin:round; stroke-width:4; stroke-opacity:1; fill:none\" points=\"333.358,605.614 352.256,605.614 \"/>\n",
       "<polyline clip-path=\"url(#clip330)\" style=\"stroke:#000000; stroke-linecap:round; stroke-linejoin:round; stroke-width:4; stroke-opacity:1; fill:none\" points=\"333.358,345.9 352.256,345.9 \"/>\n",
       "<polyline clip-path=\"url(#clip330)\" style=\"stroke:#000000; stroke-linecap:round; stroke-linejoin:round; stroke-width:4; stroke-opacity:1; fill:none\" points=\"333.358,86.1857 352.256,86.1857 \"/>\n",
       "<path clip-path=\"url(#clip330)\" d=\"M210.021 1370.56 Q206.41 1370.56 204.581 1374.12 Q202.775 1377.66 202.775 1384.79 Q202.775 1391.9 204.581 1395.46 Q206.41 1399.01 210.021 1399.01 Q213.655 1399.01 215.461 1395.46 Q217.289 1391.9 217.289 1384.79 Q217.289 1377.66 215.461 1374.12 Q213.655 1370.56 210.021 1370.56 M210.021 1366.85 Q215.831 1366.85 218.886 1371.46 Q221.965 1376.04 221.965 1384.79 Q221.965 1393.52 218.886 1398.13 Q215.831 1402.71 210.021 1402.71 Q204.211 1402.71 201.132 1398.13 Q198.076 1393.52 198.076 1384.79 Q198.076 1376.04 201.132 1371.46 Q204.211 1366.85 210.021 1366.85 Z\" fill=\"#000000\" fill-rule=\"nonzero\" fill-opacity=\"1\" /><path clip-path=\"url(#clip330)\" d=\"M230.183 1396.16 L235.067 1396.16 L235.067 1402.04 L230.183 1402.04 L230.183 1396.16 Z\" fill=\"#000000\" fill-rule=\"nonzero\" fill-opacity=\"1\" /><path clip-path=\"url(#clip330)\" d=\"M255.252 1370.56 Q251.641 1370.56 249.812 1374.12 Q248.007 1377.66 248.007 1384.79 Q248.007 1391.9 249.812 1395.46 Q251.641 1399.01 255.252 1399.01 Q258.886 1399.01 260.692 1395.46 Q262.52 1391.9 262.52 1384.79 Q262.52 1377.66 260.692 1374.12 Q258.886 1370.56 255.252 1370.56 M255.252 1366.85 Q261.062 1366.85 264.118 1371.46 Q267.196 1376.04 267.196 1384.79 Q267.196 1393.52 264.118 1398.13 Q261.062 1402.71 255.252 1402.71 Q249.442 1402.71 246.363 1398.13 Q243.308 1393.52 243.308 1384.79 Q243.308 1376.04 246.363 1371.46 Q249.442 1366.85 255.252 1366.85 Z\" fill=\"#000000\" fill-rule=\"nonzero\" fill-opacity=\"1\" /><path clip-path=\"url(#clip330)\" d=\"M285.414 1370.56 Q281.803 1370.56 279.974 1374.12 Q278.169 1377.66 278.169 1384.79 Q278.169 1391.9 279.974 1395.46 Q281.803 1399.01 285.414 1399.01 Q289.048 1399.01 290.854 1395.46 Q292.682 1391.9 292.682 1384.79 Q292.682 1377.66 290.854 1374.12 Q289.048 1370.56 285.414 1370.56 M285.414 1366.85 Q291.224 1366.85 294.28 1371.46 Q297.358 1376.04 297.358 1384.79 Q297.358 1393.52 294.28 1398.13 Q291.224 1402.71 285.414 1402.71 Q279.604 1402.71 276.525 1398.13 Q273.469 1393.52 273.469 1384.79 Q273.469 1376.04 276.525 1371.46 Q279.604 1366.85 285.414 1366.85 Z\" fill=\"#000000\" fill-rule=\"nonzero\" fill-opacity=\"1\" /><path clip-path=\"url(#clip330)\" d=\"M211.016 1110.84 Q207.405 1110.84 205.576 1114.41 Q203.771 1117.95 203.771 1125.08 Q203.771 1132.18 205.576 1135.75 Q207.405 1139.29 211.016 1139.29 Q214.65 1139.29 216.456 1135.75 Q218.285 1132.18 218.285 1125.08 Q218.285 1117.95 216.456 1114.41 Q214.65 1110.84 211.016 1110.84 M211.016 1107.14 Q216.826 1107.14 219.882 1111.74 Q222.96 1116.33 222.96 1125.08 Q222.96 1133.8 219.882 1138.41 Q216.826 1142.99 211.016 1142.99 Q205.206 1142.99 202.127 1138.41 Q199.072 1133.8 199.072 1125.08 Q199.072 1116.33 202.127 1111.74 Q205.206 1107.14 211.016 1107.14 Z\" fill=\"#000000\" fill-rule=\"nonzero\" fill-opacity=\"1\" /><path clip-path=\"url(#clip330)\" d=\"M231.178 1136.44 L236.062 1136.44 L236.062 1142.32 L231.178 1142.32 L231.178 1136.44 Z\" fill=\"#000000\" fill-rule=\"nonzero\" fill-opacity=\"1\" /><path clip-path=\"url(#clip330)\" d=\"M256.247 1110.84 Q252.636 1110.84 250.808 1114.41 Q249.002 1117.95 249.002 1125.08 Q249.002 1132.18 250.808 1135.75 Q252.636 1139.29 256.247 1139.29 Q259.882 1139.29 261.687 1135.75 Q263.516 1132.18 263.516 1125.08 Q263.516 1117.95 261.687 1114.41 Q259.882 1110.84 256.247 1110.84 M256.247 1107.14 Q262.057 1107.14 265.113 1111.74 Q268.192 1116.33 268.192 1125.08 Q268.192 1133.8 265.113 1138.41 Q262.057 1142.99 256.247 1142.99 Q250.437 1142.99 247.358 1138.41 Q244.303 1133.8 244.303 1125.08 Q244.303 1116.33 247.358 1111.74 Q250.437 1107.14 256.247 1107.14 Z\" fill=\"#000000\" fill-rule=\"nonzero\" fill-opacity=\"1\" /><path clip-path=\"url(#clip330)\" d=\"M276.456 1107.76 L294.812 1107.76 L294.812 1111.7 L280.738 1111.7 L280.738 1120.17 Q281.756 1119.82 282.775 1119.66 Q283.793 1119.48 284.812 1119.48 Q290.599 1119.48 293.979 1122.65 Q297.358 1125.82 297.358 1131.24 Q297.358 1136.81 293.886 1139.92 Q290.414 1142.99 284.094 1142.99 Q281.918 1142.99 279.65 1142.62 Q277.405 1142.25 274.997 1141.51 L274.997 1136.81 Q277.081 1137.95 279.303 1138.5 Q281.525 1139.06 284.002 1139.06 Q288.006 1139.06 290.344 1136.95 Q292.682 1134.85 292.682 1131.24 Q292.682 1127.62 290.344 1125.52 Q288.006 1123.41 284.002 1123.41 Q282.127 1123.41 280.252 1123.83 Q278.4 1124.24 276.456 1125.12 L276.456 1107.76 Z\" fill=\"#000000\" fill-rule=\"nonzero\" fill-opacity=\"1\" /><path clip-path=\"url(#clip330)\" d=\"M210.021 851.128 Q206.41 851.128 204.581 854.692 Q202.775 858.234 202.775 865.364 Q202.775 872.47 204.581 876.035 Q206.41 879.576 210.021 879.576 Q213.655 879.576 215.461 876.035 Q217.289 872.47 217.289 865.364 Q217.289 858.234 215.461 854.692 Q213.655 851.128 210.021 851.128 M210.021 847.424 Q215.831 847.424 218.886 852.03 Q221.965 856.614 221.965 865.364 Q221.965 874.09 218.886 878.697 Q215.831 883.28 210.021 883.28 Q204.211 883.28 201.132 878.697 Q198.076 874.09 198.076 865.364 Q198.076 856.614 201.132 852.03 Q204.211 847.424 210.021 847.424 Z\" fill=\"#000000\" fill-rule=\"nonzero\" fill-opacity=\"1\" /><path clip-path=\"url(#clip330)\" d=\"M230.183 876.729 L235.067 876.729 L235.067 882.609 L230.183 882.609 L230.183 876.729 Z\" fill=\"#000000\" fill-rule=\"nonzero\" fill-opacity=\"1\" /><path clip-path=\"url(#clip330)\" d=\"M246.062 878.674 L253.701 878.674 L253.701 852.308 L245.391 853.975 L245.391 849.716 L253.655 848.049 L258.331 848.049 L258.331 878.674 L265.97 878.674 L265.97 882.609 L246.062 882.609 L246.062 878.674 Z\" fill=\"#000000\" fill-rule=\"nonzero\" fill-opacity=\"1\" /><path clip-path=\"url(#clip330)\" d=\"M285.414 851.128 Q281.803 851.128 279.974 854.692 Q278.169 858.234 278.169 865.364 Q278.169 872.47 279.974 876.035 Q281.803 879.576 285.414 879.576 Q289.048 879.576 290.854 876.035 Q292.682 872.47 292.682 865.364 Q292.682 858.234 290.854 854.692 Q289.048 851.128 285.414 851.128 M285.414 847.424 Q291.224 847.424 294.28 852.03 Q297.358 856.614 297.358 865.364 Q297.358 874.09 294.28 878.697 Q291.224 883.28 285.414 883.28 Q279.604 883.28 276.525 878.697 Q273.469 874.09 273.469 865.364 Q273.469 856.614 276.525 852.03 Q279.604 847.424 285.414 847.424 Z\" fill=\"#000000\" fill-rule=\"nonzero\" fill-opacity=\"1\" /><path clip-path=\"url(#clip330)\" d=\"M211.016 591.413 Q207.405 591.413 205.576 594.978 Q203.771 598.52 203.771 605.649 Q203.771 612.756 205.576 616.32 Q207.405 619.862 211.016 619.862 Q214.65 619.862 216.456 616.32 Q218.285 612.756 218.285 605.649 Q218.285 598.52 216.456 594.978 Q214.65 591.413 211.016 591.413 M211.016 587.709 Q216.826 587.709 219.882 592.316 Q222.96 596.899 222.96 605.649 Q222.96 614.376 219.882 618.982 Q216.826 623.566 211.016 623.566 Q205.206 623.566 202.127 618.982 Q199.072 614.376 199.072 605.649 Q199.072 596.899 202.127 592.316 Q205.206 587.709 211.016 587.709 Z\" fill=\"#000000\" fill-rule=\"nonzero\" fill-opacity=\"1\" /><path clip-path=\"url(#clip330)\" d=\"M231.178 617.015 L236.062 617.015 L236.062 622.894 L231.178 622.894 L231.178 617.015 Z\" fill=\"#000000\" fill-rule=\"nonzero\" fill-opacity=\"1\" /><path clip-path=\"url(#clip330)\" d=\"M247.058 618.959 L254.696 618.959 L254.696 592.594 L246.386 594.26 L246.386 590.001 L254.65 588.334 L259.326 588.334 L259.326 618.959 L266.965 618.959 L266.965 622.894 L247.058 622.894 L247.058 618.959 Z\" fill=\"#000000\" fill-rule=\"nonzero\" fill-opacity=\"1\" /><path clip-path=\"url(#clip330)\" d=\"M276.456 588.334 L294.812 588.334 L294.812 592.27 L280.738 592.27 L280.738 600.742 Q281.756 600.395 282.775 600.233 Q283.793 600.047 284.812 600.047 Q290.599 600.047 293.979 603.219 Q297.358 606.39 297.358 611.807 Q297.358 617.385 293.886 620.487 Q290.414 623.566 284.094 623.566 Q281.918 623.566 279.65 623.195 Q277.405 622.825 274.997 622.084 L274.997 617.385 Q277.081 618.52 279.303 619.075 Q281.525 619.631 284.002 619.631 Q288.006 619.631 290.344 617.524 Q292.682 615.418 292.682 611.807 Q292.682 608.195 290.344 606.089 Q288.006 603.983 284.002 603.983 Q282.127 603.983 280.252 604.399 Q278.4 604.816 276.456 605.695 L276.456 588.334 Z\" fill=\"#000000\" fill-rule=\"nonzero\" fill-opacity=\"1\" /><path clip-path=\"url(#clip330)\" d=\"M210.021 331.699 Q206.41 331.699 204.581 335.264 Q202.775 338.805 202.775 345.935 Q202.775 353.041 204.581 356.606 Q206.41 360.148 210.021 360.148 Q213.655 360.148 215.461 356.606 Q217.289 353.041 217.289 345.935 Q217.289 338.805 215.461 335.264 Q213.655 331.699 210.021 331.699 M210.021 327.995 Q215.831 327.995 218.886 332.602 Q221.965 337.185 221.965 345.935 Q221.965 354.662 218.886 359.268 Q215.831 363.851 210.021 363.851 Q204.211 363.851 201.132 359.268 Q198.076 354.662 198.076 345.935 Q198.076 337.185 201.132 332.602 Q204.211 327.995 210.021 327.995 Z\" fill=\"#000000\" fill-rule=\"nonzero\" fill-opacity=\"1\" /><path clip-path=\"url(#clip330)\" d=\"M230.183 357.3 L235.067 357.3 L235.067 363.18 L230.183 363.18 L230.183 357.3 Z\" fill=\"#000000\" fill-rule=\"nonzero\" fill-opacity=\"1\" /><path clip-path=\"url(#clip330)\" d=\"M249.28 359.245 L265.599 359.245 L265.599 363.18 L243.655 363.18 L243.655 359.245 Q246.317 356.49 250.9 351.861 Q255.507 347.208 256.687 345.865 Q258.933 343.342 259.812 341.606 Q260.715 339.847 260.715 338.157 Q260.715 335.402 258.77 333.666 Q256.849 331.93 253.747 331.93 Q251.548 331.93 249.095 332.694 Q246.664 333.458 243.886 335.009 L243.886 330.287 Q246.71 329.152 249.164 328.574 Q251.618 327.995 253.655 327.995 Q259.025 327.995 262.22 330.68 Q265.414 333.365 265.414 337.856 Q265.414 339.986 264.604 341.907 Q263.817 343.805 261.71 346.398 Q261.132 347.069 258.03 350.287 Q254.928 353.481 249.28 359.245 Z\" fill=\"#000000\" fill-rule=\"nonzero\" fill-opacity=\"1\" /><path clip-path=\"url(#clip330)\" d=\"M285.414 331.699 Q281.803 331.699 279.974 335.264 Q278.169 338.805 278.169 345.935 Q278.169 353.041 279.974 356.606 Q281.803 360.148 285.414 360.148 Q289.048 360.148 290.854 356.606 Q292.682 353.041 292.682 345.935 Q292.682 338.805 290.854 335.264 Q289.048 331.699 285.414 331.699 M285.414 327.995 Q291.224 327.995 294.28 332.602 Q297.358 337.185 297.358 345.935 Q297.358 354.662 294.28 359.268 Q291.224 363.851 285.414 363.851 Q279.604 363.851 276.525 359.268 Q273.469 354.662 273.469 345.935 Q273.469 337.185 276.525 332.602 Q279.604 327.995 285.414 327.995 Z\" fill=\"#000000\" fill-rule=\"nonzero\" fill-opacity=\"1\" /><path clip-path=\"url(#clip330)\" d=\"M211.016 71.9844 Q207.405 71.9844 205.576 75.5492 Q203.771 79.0908 203.771 86.2204 Q203.771 93.3268 205.576 96.8916 Q207.405 100.433 211.016 100.433 Q214.65 100.433 216.456 96.8916 Q218.285 93.3268 218.285 86.2204 Q218.285 79.0908 216.456 75.5492 Q214.65 71.9844 211.016 71.9844 M211.016 68.2807 Q216.826 68.2807 219.882 72.8871 Q222.96 77.4704 222.96 86.2204 Q222.96 94.9472 219.882 99.5537 Q216.826 104.137 211.016 104.137 Q205.206 104.137 202.127 99.5537 Q199.072 94.9472 199.072 86.2204 Q199.072 77.4704 202.127 72.8871 Q205.206 68.2807 211.016 68.2807 Z\" fill=\"#000000\" fill-rule=\"nonzero\" fill-opacity=\"1\" /><path clip-path=\"url(#clip330)\" d=\"M231.178 97.5861 L236.062 97.5861 L236.062 103.466 L231.178 103.466 L231.178 97.5861 Z\" fill=\"#000000\" fill-rule=\"nonzero\" fill-opacity=\"1\" /><path clip-path=\"url(#clip330)\" d=\"M250.275 99.5305 L266.595 99.5305 L266.595 103.466 L244.65 103.466 L244.65 99.5305 Q247.312 96.7759 251.896 92.1463 Q256.502 87.4935 257.683 86.151 Q259.928 83.6278 260.808 81.8917 Q261.71 80.1325 261.71 78.4427 Q261.71 75.688 259.766 73.9519 Q257.845 72.2158 254.743 72.2158 Q252.544 72.2158 250.09 72.9797 Q247.659 73.7436 244.882 75.2945 L244.882 70.5723 Q247.706 69.4381 250.159 68.8594 Q252.613 68.2807 254.65 68.2807 Q260.02 68.2807 263.215 70.9658 Q266.409 73.651 266.409 78.1417 Q266.409 80.2714 265.599 82.1926 Q264.812 84.0908 262.706 86.6834 Q262.127 87.3546 259.025 90.5722 Q255.923 93.7667 250.275 99.5305 Z\" fill=\"#000000\" fill-rule=\"nonzero\" fill-opacity=\"1\" /><path clip-path=\"url(#clip330)\" d=\"M276.456 68.9057 L294.812 68.9057 L294.812 72.8408 L280.738 72.8408 L280.738 81.313 Q281.756 80.9658 282.775 80.8038 Q283.793 80.6186 284.812 80.6186 Q290.599 80.6186 293.979 83.7899 Q297.358 86.9611 297.358 92.3778 Q297.358 97.9564 293.886 101.058 Q290.414 104.137 284.094 104.137 Q281.918 104.137 279.65 103.767 Q277.405 103.396 274.997 102.655 L274.997 97.9564 Q277.081 99.0907 279.303 99.6462 Q281.525 100.202 284.002 100.202 Q288.006 100.202 290.344 98.0953 Q292.682 95.9889 292.682 92.3778 Q292.682 88.7667 290.344 86.6602 Q288.006 84.5537 284.002 84.5537 Q282.127 84.5537 280.252 84.9704 Q278.4 85.3871 276.456 86.2667 L276.456 68.9057 Z\" fill=\"#000000\" fill-rule=\"nonzero\" fill-opacity=\"1\" /><path clip-path=\"url(#clip330)\" d=\"M44.2885 865.756 Q46.0196 865.756 46.9455 866.802 Q47.8312 867.849 47.8312 869.218 Q47.8312 870.546 46.9455 871.593 Q46.0196 872.599 44.3691 872.599 Q43.2419 872.599 42.2354 871.875 Q41.1887 871.15 40.9874 869.54 Q39.2564 871.553 39.2564 874.733 Q39.2564 876.303 39.8602 877.39 Q40.4238 878.437 42.1549 879.483 Q43.886 880.53 47.4286 881.255 Q50.9713 881.939 56.4865 882.382 L77.0177 883.952 Q83.9823 884.435 97.6698 886.166 Q111.317 887.857 114.457 888.662 Q117.436 889.387 119.892 890.474 Q122.347 891.56 124.481 893.171 Q126.655 894.781 127.863 897.116 Q129.07 899.451 129.07 902.269 Q129.07 906.013 127.098 908.67 Q125.166 911.327 122.227 911.327 Q120.496 911.327 119.57 910.28 Q118.684 909.233 118.684 907.865 Q118.684 906.536 119.57 905.53 Q120.496 904.483 122.146 904.483 Q123.273 904.483 124.28 905.208 Q125.327 905.932 125.528 907.543 Q127.259 905.53 127.259 902.269 Q127.259 899.773 125.81 898.122 Q124.36 896.472 120.496 895.264 Q116.631 894.056 110.029 893.533 L89.4975 891.963 Q82.2512 891.44 68.765 889.749 Q55.2788 888.018 51.7361 887.253 Q37.4448 884.032 37.4448 874.813 Q37.4448 871.069 39.4174 868.412 Q41.3498 865.756 44.2885 865.756 Z\" fill=\"#000000\" fill-rule=\"nonzero\" fill-opacity=\"1\" /><path clip-path=\"url(#clip330)\" d=\"M166.004 902.954 Q159.218 902.954 155.521 901.24 Q150.02 898.851 150.02 893.215 Q150.02 892.02 150.359 890.78 Q150.674 889.517 151.914 887.939 Q153.154 886.339 155.183 885.369 Q159.106 883.521 166.004 883.521 Q172.745 883.521 176.42 885.234 Q181.785 887.736 181.785 893.26 Q181.785 895.334 180.725 897.453 Q179.666 899.55 177.118 900.88 Q173.308 902.954 166.004 902.954 M165.441 899.121 Q172.407 899.121 175.18 898.625 Q178.178 898.062 179.486 896.529 Q180.771 894.973 180.771 893.26 Q180.771 891.411 179.395 889.878 Q177.998 888.323 174.999 887.849 Q172.046 887.331 165.441 887.353 Q159.015 887.353 156.445 887.804 Q153.447 888.413 152.252 890.036 Q151.035 891.637 151.035 893.26 Q151.035 893.868 151.215 894.522 Q151.396 895.153 151.914 896.078 Q152.433 897.002 153.718 897.723 Q155.003 898.422 156.941 898.76 Q159.444 899.121 165.441 899.121 Z\" fill=\"#000000\" fill-rule=\"nonzero\" fill-opacity=\"1\" /><path clip-path=\"url(#clip330)\" d=\"M-11.1206 900.881 L-12.5635 900.881 Q-12.5635 895.335 -15.5167 892.472 Q-15.5167 891.683 -15.3364 891.548 Q-15.156 891.413 -14.3219 891.413 L11.5813 891.413 Q12.9565 891.413 13.3848 890.736 Q13.8131 890.06 13.8131 887.107 L13.8131 885.641 L15.2334 885.641 Q15.0982 887.264 15.0982 893.126 Q15.0982 898.987 15.2334 900.588 L13.8131 900.588 L13.8131 899.123 Q13.8131 896.214 13.4074 895.516 Q12.979 894.817 11.5813 894.817 L-12.338 894.817 Q-11.1206 897.229 -11.1206 900.881 Z\" fill=\"#000000\" fill-rule=\"nonzero\" fill-opacity=\"1\" /><path clip-path=\"url(#clip330)\" d=\"M79.0306 819.272 Q80.8341 819.272 81.8647 820.399 Q82.8631 821.526 82.8631 822.814 Q82.8631 824.038 82.1546 824.682 Q81.4461 825.327 80.5443 825.327 Q79.3205 825.327 78.2577 824.425 Q77.1949 823.523 76.9694 822.17 Q76.1321 823.491 76.1321 825.455 Q76.1321 826.744 76.8084 827.871 Q77.4847 828.966 78.3543 829.642 Q79.2239 830.286 80.4799 830.866 Q81.7037 831.413 82.4444 831.639 Q83.153 831.832 83.9259 831.993 L92.9435 834.248 Q97.2269 835.343 98.7406 835.343 Q100.609 835.343 101.865 834.441 Q103.088 833.539 103.088 831.735 Q103.088 831.027 102.895 830.222 Q102.67 829.417 102.09 828.386 Q101.478 827.323 100.576 826.389 Q99.6424 825.423 98.0643 824.489 Q96.4862 823.555 94.4572 822.943 Q93.7487 822.75 93.7487 822.106 Q93.7487 821.301 94.3928 821.301 Q94.9403 821.301 96.0997 821.752 Q97.2269 822.17 98.7084 823.104 Q100.158 824.006 101.478 825.198 Q102.766 826.389 103.668 828.161 Q104.57 829.932 104.57 831.864 Q104.57 834.634 103.088 836.47 Q101.607 838.305 99.5457 838.982 Q99.8356 839.143 100.222 839.368 Q100.609 839.594 101.478 840.27 Q102.315 840.914 102.96 841.655 Q103.571 842.396 104.055 843.555 Q104.57 844.682 104.57 845.906 Q104.57 847.452 104.119 848.837 Q103.668 850.189 102.638 851.156 Q101.607 852.122 100.19 852.122 Q98.6118 852.122 97.5168 851.059 Q96.3896 849.964 96.3896 848.483 Q96.3896 847.549 96.9371 846.808 Q97.4846 846.035 98.6762 846.035 Q99.9966 846.035 100.995 846.937 Q101.993 847.838 102.251 849.127 Q103.088 847.806 103.088 845.842 Q103.088 843.716 101.22 842.041 Q99.3525 840.367 96.2285 839.562 Q88.7246 837.565 85.3752 836.792 Q81.9936 836.019 80.5443 836.019 Q79.1916 836.019 78.2577 836.373 Q77.3237 836.727 76.905 837.339 Q76.4541 837.919 76.2931 838.467 Q76.1321 838.982 76.1321 839.562 Q76.1321 840.528 76.5186 841.623 Q76.905 842.685 77.8068 843.974 Q78.6764 845.23 80.4799 846.421 Q82.2834 847.613 84.7633 848.418 Q85.504 848.579 85.504 849.288 Q85.4718 850.061 84.8277 850.061 Q84.2802 850.061 83.153 849.642 Q81.9936 849.191 80.5443 848.289 Q79.095 847.355 77.8068 846.164 Q76.4864 844.94 75.5846 843.169 Q74.6828 841.365 74.6828 839.433 Q74.6828 838.563 74.8761 837.726 Q75.0371 836.856 75.5202 835.826 Q76.0033 834.763 77.0661 833.829 Q78.1289 832.895 79.6747 832.315 Q78.934 831.929 78.2255 831.413 Q77.5169 830.866 76.6474 830.029 Q75.7456 829.159 75.2303 827.967 Q74.6828 826.744 74.6828 825.391 Q74.6828 824.07 75.0371 822.782 Q75.3591 821.494 76.4219 820.399 Q77.4525 819.272 79.0306 819.272 Z\" fill=\"#000000\" fill-rule=\"nonzero\" fill-opacity=\"1\" /><path clip-path=\"url(#clip330)\" d=\"M76.864 812.551 Q75.4888 812.551 74.835 811.762 Q74.1812 810.972 74.1812 809.958 Q74.1812 808.898 74.8801 808.154 Q75.5564 807.388 76.7513 807.388 Q78.0363 807.388 78.7577 808.29 Q79.4791 809.169 79.2988 810.431 Q81.1474 809.327 81.9815 807.298 Q82.8156 805.246 82.8156 803.353 Q82.8156 801.369 81.1023 799.768 Q79.3889 798.145 75.1957 798.145 Q71.6338 798.145 69.5822 799.543 Q67.5307 800.918 67.5307 803.646 L67.5307 805.675 Q67.5307 806.373 67.4631 806.576 Q67.3955 806.779 67.0122 806.779 Q66.5613 806.779 66.4712 806.08 Q66.4712 805.382 66.3359 804.277 Q66.2457 801.594 63.9237 800.174 Q61.7594 798.889 58.6709 798.889 Q55.8529 798.889 54.6806 800.241 Q53.4858 801.572 53.4858 803.307 Q53.4858 804.931 54.1621 806.712 Q54.8384 808.493 56.3489 809.462 Q56.3489 806.599 58.6709 806.599 Q59.6854 806.599 60.3617 807.253 Q61.0155 807.884 61.0155 808.943 Q61.0155 809.958 60.3842 810.634 Q59.7305 811.311 58.6258 811.311 Q55.9881 811.311 54.1621 808.966 Q52.336 806.599 52.336 803.127 Q52.336 799.7 54.1395 797.175 Q55.9431 794.628 58.716 794.628 Q61.4438 794.628 63.6757 796.432 Q65.9076 798.235 66.8319 801.098 Q67.5307 797.581 69.9204 795.485 Q72.2875 793.388 75.1957 793.388 Q78.8028 793.388 81.463 796.229 Q84.1006 799.069 84.1006 803.217 Q84.1006 807.05 82.0266 809.8 Q79.9525 812.551 76.864 812.551 Z\" fill=\"#000000\" fill-rule=\"nonzero\" fill-opacity=\"1\" /><path clip-path=\"url(#clip330)\" d=\"M58.7731 755.133 L96.9049 764.634 Q98.6118 765.02 100.061 765.02 Q103.088 765.02 103.088 763.056 Q103.088 762.09 102.476 761.317 Q101.865 760.544 100.576 759.932 Q99.2881 759.32 98.0965 758.934 Q96.8727 758.547 94.9403 758.032 Q94.1674 757.871 93.9741 757.742 Q93.7487 757.581 93.7487 757.13 Q93.7487 756.325 94.3928 756.325 Q98.5474 757.194 100.931 758.322 Q104.57 760.125 104.57 763.185 Q104.57 765.504 103.153 767.146 Q101.736 768.789 99.6102 769.175 Q104.57 773.394 104.57 777.774 Q104.57 781.639 101.639 784.086 Q98.6762 786.534 94.0063 786.534 Q89.3043 786.534 84.7955 784.215 Q80.2866 781.864 77.4847 778.16 Q74.6828 774.457 74.6828 770.656 Q74.6828 766.631 78.9018 764.57 L63.2497 760.608 L61.9615 760.415 Q61.575 760.415 61.3818 760.576 Q61.1564 760.705 60.9953 761.478 Q60.8343 762.219 60.8343 763.7 Q60.8343 764.312 60.8021 764.602 Q60.7699 764.859 60.6089 765.085 Q60.4156 765.31 60.0292 765.31 Q58.902 765.31 58.7731 764.376 Q58.0646 758.193 58.0646 756.003 Q58.0646 755.616 58.2578 755.391 Q58.4189 755.165 58.6121 755.165 L58.7731 755.133 M81.9291 765.375 Q81.6393 765.375 80.8341 765.6 Q80.029 765.826 78.9018 766.341 Q77.7746 766.856 76.9694 767.983 Q76.1321 769.078 76.1321 770.56 Q76.1321 772.557 77.839 774.65 Q79.5459 776.711 82.4444 778.225 Q84.7633 779.384 89.6263 780.64 Q94.4894 781.864 96.9049 781.864 Q98.3863 781.864 99.7068 781.542 Q100.995 781.188 102.058 780.189 Q103.088 779.191 103.088 777.645 Q103.088 773.877 98.4185 770.173 Q97.6134 769.465 97.2913 769.304 Q96.9371 769.111 95.9709 768.853 L83.0563 765.568 Q82.0902 765.375 81.9291 765.375 Z\" fill=\"#000000\" fill-rule=\"nonzero\" fill-opacity=\"1\" /><path clip-path=\"url(#clip330)\" d=\"M79.0306 720.8 Q80.8341 720.8 81.8647 721.927 Q82.8631 723.054 82.8631 724.343 Q82.8631 725.566 82.1546 726.211 Q81.4461 726.855 80.5443 726.855 Q79.3205 726.855 78.2577 725.953 Q77.1949 725.051 76.9694 723.699 Q76.1321 725.019 76.1321 726.984 Q76.1321 728.272 76.8084 729.399 Q77.4847 730.494 78.3543 731.17 Q79.2239 731.814 80.4799 732.394 Q81.7037 732.942 82.4444 733.167 Q83.153 733.36 83.9259 733.521 L92.9435 735.776 Q97.2269 736.871 98.7406 736.871 Q100.609 736.871 101.865 735.969 Q103.088 735.067 103.088 733.264 Q103.088 732.555 102.895 731.75 Q102.67 730.945 102.09 729.914 Q101.478 728.851 100.576 727.917 Q99.6424 726.951 98.0643 726.017 Q96.4862 725.083 94.4572 724.471 Q93.7487 724.278 93.7487 723.634 Q93.7487 722.829 94.3928 722.829 Q94.9403 722.829 96.0997 723.28 Q97.2269 723.699 98.7084 724.632 Q100.158 725.534 101.478 726.726 Q102.766 727.917 103.668 729.689 Q104.57 731.46 104.57 733.392 Q104.57 736.162 103.088 737.998 Q101.607 739.834 99.5457 740.51 Q99.8356 740.671 100.222 740.896 Q100.609 741.122 101.478 741.798 Q102.315 742.442 102.96 743.183 Q103.571 743.924 104.055 745.083 Q104.57 746.21 104.57 747.434 Q104.57 748.98 104.119 750.365 Q103.668 751.718 102.638 752.684 Q101.607 753.65 100.19 753.65 Q98.6118 753.65 97.5168 752.587 Q96.3896 751.492 96.3896 750.011 Q96.3896 749.077 96.9371 748.336 Q97.4846 747.563 98.6762 747.563 Q99.9966 747.563 100.995 748.465 Q101.993 749.367 102.251 750.655 Q103.088 749.334 103.088 747.37 Q103.088 745.244 101.22 743.57 Q99.3525 741.895 96.2285 741.09 Q88.7246 739.093 85.3752 738.32 Q81.9936 737.547 80.5443 737.547 Q79.1916 737.547 78.2577 737.901 Q77.3237 738.256 76.905 738.867 Q76.4541 739.447 76.2931 739.995 Q76.1321 740.51 76.1321 741.09 Q76.1321 742.056 76.5186 743.151 Q76.905 744.214 77.8068 745.502 Q78.6764 746.758 80.4799 747.95 Q82.2834 749.141 84.7633 749.946 Q85.504 750.107 85.504 750.816 Q85.4718 751.589 84.8277 751.589 Q84.2802 751.589 83.153 751.17 Q81.9936 750.719 80.5443 749.817 Q79.095 748.884 77.8068 747.692 Q76.4864 746.468 75.5846 744.697 Q74.6828 742.893 74.6828 740.961 Q74.6828 740.091 74.8761 739.254 Q75.0371 738.384 75.5202 737.354 Q76.0033 736.291 77.0661 735.357 Q78.1289 734.423 79.6747 733.843 Q78.934 733.457 78.2255 732.942 Q77.5169 732.394 76.6474 731.557 Q75.7456 730.687 75.2303 729.496 Q74.6828 728.272 74.6828 726.919 Q74.6828 725.599 75.0371 724.31 Q75.3591 723.022 76.4219 721.927 Q77.4525 720.8 79.0306 720.8 Z\" fill=\"#000000\" fill-rule=\"nonzero\" fill-opacity=\"1\" /><path clip-path=\"url(#clip330)\" d=\"M83.3634 716.297 L83.3634 699.141 L88.5833 699.141 L88.5833 716.297 L83.3634 716.297 Z\" fill=\"#000000\" fill-rule=\"nonzero\" fill-opacity=\"1\" /><path clip-path=\"url(#clip330)\" d=\"M60.5423 675.238 Q60.5423 680.203 65.4439 682.718 Q70.3137 685.2 80.1169 685.2 Q89.8882 685.2 94.7898 682.718 Q99.6596 680.203 99.6596 675.238 Q99.6596 670.241 94.7898 667.758 Q89.8882 665.244 80.1169 665.244 Q70.3137 665.244 65.4439 667.758 Q60.5423 670.241 60.5423 675.238 M55.4498 675.238 Q55.4498 667.249 61.7836 663.048 Q68.0857 658.815 80.1169 658.815 Q92.1162 658.815 98.4501 663.048 Q104.752 667.249 104.752 675.238 Q104.752 683.227 98.4501 687.46 Q92.1162 691.662 80.1169 691.662 Q68.0857 691.662 61.7836 687.46 Q55.4498 683.227 55.4498 675.238 Z\" fill=\"#000000\" fill-rule=\"nonzero\" fill-opacity=\"1\" /><path clip-path=\"url(#clip330)\" d=\"M95.7447 647.515 L95.7447 640.8 L103.829 640.8 L103.829 647.515 L95.7447 647.515 Z\" fill=\"#000000\" fill-rule=\"nonzero\" fill-opacity=\"1\" /><path clip-path=\"url(#clip330)\" d=\"M98.4183 621.257 L98.4183 598.818 L103.829 598.818 L103.829 628.991 L98.4183 628.991 Q94.6307 625.331 88.265 619.029 Q81.8674 612.695 80.0214 611.072 Q76.5521 607.984 74.1649 606.775 Q71.746 605.534 69.4225 605.534 Q65.6349 605.534 63.2477 608.207 Q60.8606 610.849 60.8606 615.114 Q60.8606 618.138 61.911 621.511 Q62.9613 624.853 65.0938 628.673 L58.6008 628.673 Q57.0412 624.79 56.2455 621.416 Q55.4498 618.042 55.4498 615.241 Q55.4498 607.857 59.1419 603.465 Q62.834 599.072 69.0087 599.072 Q71.9369 599.072 74.5787 600.186 Q77.1886 601.269 80.7534 604.165 Q81.6765 604.961 86.1006 609.226 Q90.493 613.491 98.4183 621.257 Z\" fill=\"#000000\" fill-rule=\"nonzero\" fill-opacity=\"1\" /><path clip-path=\"url(#clip330)\" d=\"M56.3091 585.259 L56.3091 560.019 L61.72 560.019 L61.72 579.37 L73.3692 579.37 Q72.8918 577.97 72.669 576.57 Q72.4144 575.169 72.4144 573.769 Q72.4144 565.812 76.7749 561.165 Q81.1354 556.518 88.5833 556.518 Q96.2539 556.518 100.519 561.292 Q104.752 566.066 104.752 574.755 Q104.752 577.747 104.243 580.866 Q103.734 583.954 102.715 587.264 L96.2539 587.264 Q97.8135 584.399 98.5774 581.344 Q99.3413 578.288 99.3413 574.883 Q99.3413 569.376 96.4449 566.162 Q93.5485 562.947 88.5833 562.947 Q83.618 562.947 80.7216 566.162 Q77.8252 569.376 77.8252 574.883 Q77.8252 577.461 78.3981 580.039 Q78.971 582.585 80.1805 585.259 L56.3091 585.259 Z\" fill=\"#000000\" fill-rule=\"nonzero\" fill-opacity=\"1\" /><polyline clip-path=\"url(#clip332)\" style=\"stroke:#009af9; stroke-linecap:round; stroke-linejoin:round; stroke-width:4; stroke-opacity:1; fill:none\" points=\"2295.6,86.1857 1323.62,1060.11 999.622,1240.47 837.624,1303.6 740.426,1332.81 675.627,1348.69 629.342,1358.26 594.628,1364.47 567.628,1368.73 546.029,1371.77 528.356,1374.03 513.629,1375.74 501.168,1377.07 490.487,1378.13 481.23,1378.99 473.13,1379.69 465.983,1380.26 459.63,1380.75 453.946,1381.16 448.83,1381.51 444.202,1381.81 439.994,1382.07 436.152,1382.3 432.63,1382.5 429.39,1382.68 426.4,1382.84 423.631,1382.98 421.059,1383.1 418.665,1383.21 416.431,1383.31 414.34,1383.41 412.381,1383.49 410.54,1383.57 408.807,1383.63 407.174,1383.7 405.631,1383.76 404.171,1383.81 402.789,1383.86 401.477,1383.9 400.231,1383.95 399.046,1383.99 397.917,1384.02 396.84,1384.06 395.813,1384.09 394.831,1384.12 393.892,1384.14 392.993,1384.17 392.131,1384.19 391.304,1384.22 390.511,1384.24 \"/>\n",
       "<circle clip-path=\"url(#clip332)\" cx=\"2295.6\" cy=\"86.1857\" r=\"14.4\" fill=\"#e26f46\" fill-rule=\"evenodd\" fill-opacity=\"1\" stroke=\"#000000\" stroke-opacity=\"1\" stroke-width=\"3.2\"/>\n",
       "<circle clip-path=\"url(#clip332)\" cx=\"1323.62\" cy=\"1060.11\" r=\"14.4\" fill=\"#e26f46\" fill-rule=\"evenodd\" fill-opacity=\"1\" stroke=\"#000000\" stroke-opacity=\"1\" stroke-width=\"3.2\"/>\n",
       "<circle clip-path=\"url(#clip332)\" cx=\"999.622\" cy=\"1240.47\" r=\"14.4\" fill=\"#e26f46\" fill-rule=\"evenodd\" fill-opacity=\"1\" stroke=\"#000000\" stroke-opacity=\"1\" stroke-width=\"3.2\"/>\n",
       "<circle clip-path=\"url(#clip332)\" cx=\"837.624\" cy=\"1303.6\" r=\"14.4\" fill=\"#e26f46\" fill-rule=\"evenodd\" fill-opacity=\"1\" stroke=\"#000000\" stroke-opacity=\"1\" stroke-width=\"3.2\"/>\n",
       "<circle clip-path=\"url(#clip332)\" cx=\"740.426\" cy=\"1332.81\" r=\"14.4\" fill=\"#e26f46\" fill-rule=\"evenodd\" fill-opacity=\"1\" stroke=\"#000000\" stroke-opacity=\"1\" stroke-width=\"3.2\"/>\n",
       "<circle clip-path=\"url(#clip332)\" cx=\"675.627\" cy=\"1348.69\" r=\"14.4\" fill=\"#e26f46\" fill-rule=\"evenodd\" fill-opacity=\"1\" stroke=\"#000000\" stroke-opacity=\"1\" stroke-width=\"3.2\"/>\n",
       "<circle clip-path=\"url(#clip332)\" cx=\"629.342\" cy=\"1358.26\" r=\"14.4\" fill=\"#e26f46\" fill-rule=\"evenodd\" fill-opacity=\"1\" stroke=\"#000000\" stroke-opacity=\"1\" stroke-width=\"3.2\"/>\n",
       "<circle clip-path=\"url(#clip332)\" cx=\"594.628\" cy=\"1364.47\" r=\"14.4\" fill=\"#e26f46\" fill-rule=\"evenodd\" fill-opacity=\"1\" stroke=\"#000000\" stroke-opacity=\"1\" stroke-width=\"3.2\"/>\n",
       "<circle clip-path=\"url(#clip332)\" cx=\"567.628\" cy=\"1368.73\" r=\"14.4\" fill=\"#e26f46\" fill-rule=\"evenodd\" fill-opacity=\"1\" stroke=\"#000000\" stroke-opacity=\"1\" stroke-width=\"3.2\"/>\n",
       "<circle clip-path=\"url(#clip332)\" cx=\"546.029\" cy=\"1371.77\" r=\"14.4\" fill=\"#e26f46\" fill-rule=\"evenodd\" fill-opacity=\"1\" stroke=\"#000000\" stroke-opacity=\"1\" stroke-width=\"3.2\"/>\n",
       "<circle clip-path=\"url(#clip332)\" cx=\"528.356\" cy=\"1374.03\" r=\"14.4\" fill=\"#e26f46\" fill-rule=\"evenodd\" fill-opacity=\"1\" stroke=\"#000000\" stroke-opacity=\"1\" stroke-width=\"3.2\"/>\n",
       "<circle clip-path=\"url(#clip332)\" cx=\"513.629\" cy=\"1375.74\" r=\"14.4\" fill=\"#e26f46\" fill-rule=\"evenodd\" fill-opacity=\"1\" stroke=\"#000000\" stroke-opacity=\"1\" stroke-width=\"3.2\"/>\n",
       "<circle clip-path=\"url(#clip332)\" cx=\"501.168\" cy=\"1377.07\" r=\"14.4\" fill=\"#e26f46\" fill-rule=\"evenodd\" fill-opacity=\"1\" stroke=\"#000000\" stroke-opacity=\"1\" stroke-width=\"3.2\"/>\n",
       "<circle clip-path=\"url(#clip332)\" cx=\"490.487\" cy=\"1378.13\" r=\"14.4\" fill=\"#e26f46\" fill-rule=\"evenodd\" fill-opacity=\"1\" stroke=\"#000000\" stroke-opacity=\"1\" stroke-width=\"3.2\"/>\n",
       "<circle clip-path=\"url(#clip332)\" cx=\"481.23\" cy=\"1378.99\" r=\"14.4\" fill=\"#e26f46\" fill-rule=\"evenodd\" fill-opacity=\"1\" stroke=\"#000000\" stroke-opacity=\"1\" stroke-width=\"3.2\"/>\n",
       "<circle clip-path=\"url(#clip332)\" cx=\"473.13\" cy=\"1379.69\" r=\"14.4\" fill=\"#e26f46\" fill-rule=\"evenodd\" fill-opacity=\"1\" stroke=\"#000000\" stroke-opacity=\"1\" stroke-width=\"3.2\"/>\n",
       "<circle clip-path=\"url(#clip332)\" cx=\"465.983\" cy=\"1380.26\" r=\"14.4\" fill=\"#e26f46\" fill-rule=\"evenodd\" fill-opacity=\"1\" stroke=\"#000000\" stroke-opacity=\"1\" stroke-width=\"3.2\"/>\n",
       "<circle clip-path=\"url(#clip332)\" cx=\"459.63\" cy=\"1380.75\" r=\"14.4\" fill=\"#e26f46\" fill-rule=\"evenodd\" fill-opacity=\"1\" stroke=\"#000000\" stroke-opacity=\"1\" stroke-width=\"3.2\"/>\n",
       "<circle clip-path=\"url(#clip332)\" cx=\"453.946\" cy=\"1381.16\" r=\"14.4\" fill=\"#e26f46\" fill-rule=\"evenodd\" fill-opacity=\"1\" stroke=\"#000000\" stroke-opacity=\"1\" stroke-width=\"3.2\"/>\n",
       "<circle clip-path=\"url(#clip332)\" cx=\"448.83\" cy=\"1381.51\" r=\"14.4\" fill=\"#e26f46\" fill-rule=\"evenodd\" fill-opacity=\"1\" stroke=\"#000000\" stroke-opacity=\"1\" stroke-width=\"3.2\"/>\n",
       "<circle clip-path=\"url(#clip332)\" cx=\"444.202\" cy=\"1381.81\" r=\"14.4\" fill=\"#e26f46\" fill-rule=\"evenodd\" fill-opacity=\"1\" stroke=\"#000000\" stroke-opacity=\"1\" stroke-width=\"3.2\"/>\n",
       "<circle clip-path=\"url(#clip332)\" cx=\"439.994\" cy=\"1382.07\" r=\"14.4\" fill=\"#e26f46\" fill-rule=\"evenodd\" fill-opacity=\"1\" stroke=\"#000000\" stroke-opacity=\"1\" stroke-width=\"3.2\"/>\n",
       "<circle clip-path=\"url(#clip332)\" cx=\"436.152\" cy=\"1382.3\" r=\"14.4\" fill=\"#e26f46\" fill-rule=\"evenodd\" fill-opacity=\"1\" stroke=\"#000000\" stroke-opacity=\"1\" stroke-width=\"3.2\"/>\n",
       "<circle clip-path=\"url(#clip332)\" cx=\"432.63\" cy=\"1382.5\" r=\"14.4\" fill=\"#e26f46\" fill-rule=\"evenodd\" fill-opacity=\"1\" stroke=\"#000000\" stroke-opacity=\"1\" stroke-width=\"3.2\"/>\n",
       "<circle clip-path=\"url(#clip332)\" cx=\"429.39\" cy=\"1382.68\" r=\"14.4\" fill=\"#e26f46\" fill-rule=\"evenodd\" fill-opacity=\"1\" stroke=\"#000000\" stroke-opacity=\"1\" stroke-width=\"3.2\"/>\n",
       "<circle clip-path=\"url(#clip332)\" cx=\"426.4\" cy=\"1382.84\" r=\"14.4\" fill=\"#e26f46\" fill-rule=\"evenodd\" fill-opacity=\"1\" stroke=\"#000000\" stroke-opacity=\"1\" stroke-width=\"3.2\"/>\n",
       "<circle clip-path=\"url(#clip332)\" cx=\"423.631\" cy=\"1382.98\" r=\"14.4\" fill=\"#e26f46\" fill-rule=\"evenodd\" fill-opacity=\"1\" stroke=\"#000000\" stroke-opacity=\"1\" stroke-width=\"3.2\"/>\n",
       "<circle clip-path=\"url(#clip332)\" cx=\"421.059\" cy=\"1383.1\" r=\"14.4\" fill=\"#e26f46\" fill-rule=\"evenodd\" fill-opacity=\"1\" stroke=\"#000000\" stroke-opacity=\"1\" stroke-width=\"3.2\"/>\n",
       "<circle clip-path=\"url(#clip332)\" cx=\"418.665\" cy=\"1383.21\" r=\"14.4\" fill=\"#e26f46\" fill-rule=\"evenodd\" fill-opacity=\"1\" stroke=\"#000000\" stroke-opacity=\"1\" stroke-width=\"3.2\"/>\n",
       "<circle clip-path=\"url(#clip332)\" cx=\"416.431\" cy=\"1383.31\" r=\"14.4\" fill=\"#e26f46\" fill-rule=\"evenodd\" fill-opacity=\"1\" stroke=\"#000000\" stroke-opacity=\"1\" stroke-width=\"3.2\"/>\n",
       "<circle clip-path=\"url(#clip332)\" cx=\"414.34\" cy=\"1383.41\" r=\"14.4\" fill=\"#e26f46\" fill-rule=\"evenodd\" fill-opacity=\"1\" stroke=\"#000000\" stroke-opacity=\"1\" stroke-width=\"3.2\"/>\n",
       "<circle clip-path=\"url(#clip332)\" cx=\"412.381\" cy=\"1383.49\" r=\"14.4\" fill=\"#e26f46\" fill-rule=\"evenodd\" fill-opacity=\"1\" stroke=\"#000000\" stroke-opacity=\"1\" stroke-width=\"3.2\"/>\n",
       "<circle clip-path=\"url(#clip332)\" cx=\"410.54\" cy=\"1383.57\" r=\"14.4\" fill=\"#e26f46\" fill-rule=\"evenodd\" fill-opacity=\"1\" stroke=\"#000000\" stroke-opacity=\"1\" stroke-width=\"3.2\"/>\n",
       "<circle clip-path=\"url(#clip332)\" cx=\"408.807\" cy=\"1383.63\" r=\"14.4\" fill=\"#e26f46\" fill-rule=\"evenodd\" fill-opacity=\"1\" stroke=\"#000000\" stroke-opacity=\"1\" stroke-width=\"3.2\"/>\n",
       "<circle clip-path=\"url(#clip332)\" cx=\"407.174\" cy=\"1383.7\" r=\"14.4\" fill=\"#e26f46\" fill-rule=\"evenodd\" fill-opacity=\"1\" stroke=\"#000000\" stroke-opacity=\"1\" stroke-width=\"3.2\"/>\n",
       "<circle clip-path=\"url(#clip332)\" cx=\"405.631\" cy=\"1383.76\" r=\"14.4\" fill=\"#e26f46\" fill-rule=\"evenodd\" fill-opacity=\"1\" stroke=\"#000000\" stroke-opacity=\"1\" stroke-width=\"3.2\"/>\n",
       "<circle clip-path=\"url(#clip332)\" cx=\"404.171\" cy=\"1383.81\" r=\"14.4\" fill=\"#e26f46\" fill-rule=\"evenodd\" fill-opacity=\"1\" stroke=\"#000000\" stroke-opacity=\"1\" stroke-width=\"3.2\"/>\n",
       "<circle clip-path=\"url(#clip332)\" cx=\"402.789\" cy=\"1383.86\" r=\"14.4\" fill=\"#e26f46\" fill-rule=\"evenodd\" fill-opacity=\"1\" stroke=\"#000000\" stroke-opacity=\"1\" stroke-width=\"3.2\"/>\n",
       "<circle clip-path=\"url(#clip332)\" cx=\"401.477\" cy=\"1383.9\" r=\"14.4\" fill=\"#e26f46\" fill-rule=\"evenodd\" fill-opacity=\"1\" stroke=\"#000000\" stroke-opacity=\"1\" stroke-width=\"3.2\"/>\n",
       "<circle clip-path=\"url(#clip332)\" cx=\"400.231\" cy=\"1383.95\" r=\"14.4\" fill=\"#e26f46\" fill-rule=\"evenodd\" fill-opacity=\"1\" stroke=\"#000000\" stroke-opacity=\"1\" stroke-width=\"3.2\"/>\n",
       "<circle clip-path=\"url(#clip332)\" cx=\"399.046\" cy=\"1383.99\" r=\"14.4\" fill=\"#e26f46\" fill-rule=\"evenodd\" fill-opacity=\"1\" stroke=\"#000000\" stroke-opacity=\"1\" stroke-width=\"3.2\"/>\n",
       "<circle clip-path=\"url(#clip332)\" cx=\"397.917\" cy=\"1384.02\" r=\"14.4\" fill=\"#e26f46\" fill-rule=\"evenodd\" fill-opacity=\"1\" stroke=\"#000000\" stroke-opacity=\"1\" stroke-width=\"3.2\"/>\n",
       "<circle clip-path=\"url(#clip332)\" cx=\"396.84\" cy=\"1384.06\" r=\"14.4\" fill=\"#e26f46\" fill-rule=\"evenodd\" fill-opacity=\"1\" stroke=\"#000000\" stroke-opacity=\"1\" stroke-width=\"3.2\"/>\n",
       "<circle clip-path=\"url(#clip332)\" cx=\"395.813\" cy=\"1384.09\" r=\"14.4\" fill=\"#e26f46\" fill-rule=\"evenodd\" fill-opacity=\"1\" stroke=\"#000000\" stroke-opacity=\"1\" stroke-width=\"3.2\"/>\n",
       "<circle clip-path=\"url(#clip332)\" cx=\"394.831\" cy=\"1384.12\" r=\"14.4\" fill=\"#e26f46\" fill-rule=\"evenodd\" fill-opacity=\"1\" stroke=\"#000000\" stroke-opacity=\"1\" stroke-width=\"3.2\"/>\n",
       "<circle clip-path=\"url(#clip332)\" cx=\"393.892\" cy=\"1384.14\" r=\"14.4\" fill=\"#e26f46\" fill-rule=\"evenodd\" fill-opacity=\"1\" stroke=\"#000000\" stroke-opacity=\"1\" stroke-width=\"3.2\"/>\n",
       "<circle clip-path=\"url(#clip332)\" cx=\"392.993\" cy=\"1384.17\" r=\"14.4\" fill=\"#e26f46\" fill-rule=\"evenodd\" fill-opacity=\"1\" stroke=\"#000000\" stroke-opacity=\"1\" stroke-width=\"3.2\"/>\n",
       "<circle clip-path=\"url(#clip332)\" cx=\"392.131\" cy=\"1384.19\" r=\"14.4\" fill=\"#e26f46\" fill-rule=\"evenodd\" fill-opacity=\"1\" stroke=\"#000000\" stroke-opacity=\"1\" stroke-width=\"3.2\"/>\n",
       "<circle clip-path=\"url(#clip332)\" cx=\"391.304\" cy=\"1384.22\" r=\"14.4\" fill=\"#e26f46\" fill-rule=\"evenodd\" fill-opacity=\"1\" stroke=\"#000000\" stroke-opacity=\"1\" stroke-width=\"3.2\"/>\n",
       "<circle clip-path=\"url(#clip332)\" cx=\"390.511\" cy=\"1384.24\" r=\"14.4\" fill=\"#e26f46\" fill-rule=\"evenodd\" fill-opacity=\"1\" stroke=\"#000000\" stroke-opacity=\"1\" stroke-width=\"3.2\"/>\n",
       "</svg>\n"
      ],
      "text/html": [
       "<?xml version=\"1.0\" encoding=\"utf-8\"?>\n",
       "<svg xmlns=\"http://www.w3.org/2000/svg\" xmlns:xlink=\"http://www.w3.org/1999/xlink\" width=\"600\" height=\"400\" viewBox=\"0 0 2400 1600\">\n",
       "<defs>\n",
       "  <clipPath id=\"clip380\">\n",
       "    <rect x=\"0\" y=\"0\" width=\"2400\" height=\"1600\"/>\n",
       "  </clipPath>\n",
       "</defs>\n",
       "<path clip-path=\"url(#clip380)\" d=\"M0 1600 L2400 1600 L2400 8.88178e-14 L0 8.88178e-14  Z\" fill=\"#ffffff\" fill-rule=\"evenodd\" fill-opacity=\"1\"/>\n",
       "<defs>\n",
       "  <clipPath id=\"clip381\">\n",
       "    <rect x=\"480\" y=\"0\" width=\"1681\" height=\"1600\"/>\n",
       "  </clipPath>\n",
       "</defs>\n",
       "<path clip-path=\"url(#clip380)\" d=\"M333.358 1423.18 L2352.76 1423.18 L2352.76 47.2441 L333.358 47.2441  Z\" fill=\"#ffffff\" fill-rule=\"evenodd\" fill-opacity=\"1\"/>\n",
       "<defs>\n",
       "  <clipPath id=\"clip382\">\n",
       "    <rect x=\"333\" y=\"47\" width=\"2020\" height=\"1377\"/>\n",
       "  </clipPath>\n",
       "</defs>\n",
       "<polyline clip-path=\"url(#clip382)\" style=\"stroke:#000000; stroke-linecap:round; stroke-linejoin:round; stroke-width:2; stroke-opacity:0.1; fill:none\" points=\"351.632,1423.18 351.632,47.2441 \"/>\n",
       "<polyline clip-path=\"url(#clip382)\" style=\"stroke:#000000; stroke-linecap:round; stroke-linejoin:round; stroke-width:2; stroke-opacity:0.1; fill:none\" points=\"837.624,1423.18 837.624,47.2441 \"/>\n",
       "<polyline clip-path=\"url(#clip382)\" style=\"stroke:#000000; stroke-linecap:round; stroke-linejoin:round; stroke-width:2; stroke-opacity:0.1; fill:none\" points=\"1323.62,1423.18 1323.62,47.2441 \"/>\n",
       "<polyline clip-path=\"url(#clip382)\" style=\"stroke:#000000; stroke-linecap:round; stroke-linejoin:round; stroke-width:2; stroke-opacity:0.1; fill:none\" points=\"1809.61,1423.18 1809.61,47.2441 \"/>\n",
       "<polyline clip-path=\"url(#clip382)\" style=\"stroke:#000000; stroke-linecap:round; stroke-linejoin:round; stroke-width:2; stroke-opacity:0.1; fill:none\" points=\"2295.6,1423.18 2295.6,47.2441 \"/>\n",
       "<polyline clip-path=\"url(#clip380)\" style=\"stroke:#000000; stroke-linecap:round; stroke-linejoin:round; stroke-width:4; stroke-opacity:1; fill:none\" points=\"333.358,1423.18 2352.76,1423.18 \"/>\n",
       "<polyline clip-path=\"url(#clip380)\" style=\"stroke:#000000; stroke-linecap:round; stroke-linejoin:round; stroke-width:4; stroke-opacity:1; fill:none\" points=\"351.632,1423.18 351.632,1404.28 \"/>\n",
       "<polyline clip-path=\"url(#clip380)\" style=\"stroke:#000000; stroke-linecap:round; stroke-linejoin:round; stroke-width:4; stroke-opacity:1; fill:none\" points=\"837.624,1423.18 837.624,1404.28 \"/>\n",
       "<polyline clip-path=\"url(#clip380)\" style=\"stroke:#000000; stroke-linecap:round; stroke-linejoin:round; stroke-width:4; stroke-opacity:1; fill:none\" points=\"1323.62,1423.18 1323.62,1404.28 \"/>\n",
       "<polyline clip-path=\"url(#clip380)\" style=\"stroke:#000000; stroke-linecap:round; stroke-linejoin:round; stroke-width:4; stroke-opacity:1; fill:none\" points=\"1809.61,1423.18 1809.61,1404.28 \"/>\n",
       "<polyline clip-path=\"url(#clip380)\" style=\"stroke:#000000; stroke-linecap:round; stroke-linejoin:round; stroke-width:4; stroke-opacity:1; fill:none\" points=\"2295.6,1423.18 2295.6,1404.28 \"/>\n",
       "<path clip-path=\"url(#clip380)\" d=\"M313.935 1454.1 Q310.324 1454.1 308.495 1457.66 Q306.69 1461.2 306.69 1468.33 Q306.69 1475.44 308.495 1479.01 Q310.324 1482.55 313.935 1482.55 Q317.569 1482.55 319.375 1479.01 Q321.203 1475.44 321.203 1468.33 Q321.203 1461.2 319.375 1457.66 Q317.569 1454.1 313.935 1454.1 M313.935 1450.39 Q319.745 1450.39 322.801 1455 Q325.879 1459.58 325.879 1468.33 Q325.879 1477.06 322.801 1481.67 Q319.745 1486.25 313.935 1486.25 Q308.125 1486.25 305.046 1481.67 Q301.991 1477.06 301.991 1468.33 Q301.991 1459.58 305.046 1455 Q308.125 1450.39 313.935 1450.39 Z\" fill=\"#000000\" fill-rule=\"nonzero\" fill-opacity=\"1\" /><path clip-path=\"url(#clip380)\" d=\"M334.097 1479.7 L338.981 1479.7 L338.981 1485.58 L334.097 1485.58 L334.097 1479.7 Z\" fill=\"#000000\" fill-rule=\"nonzero\" fill-opacity=\"1\" /><path clip-path=\"url(#clip380)\" d=\"M359.166 1454.1 Q355.555 1454.1 353.726 1457.66 Q351.921 1461.2 351.921 1468.33 Q351.921 1475.44 353.726 1479.01 Q355.555 1482.55 359.166 1482.55 Q362.8 1482.55 364.606 1479.01 Q366.435 1475.44 366.435 1468.33 Q366.435 1461.2 364.606 1457.66 Q362.8 1454.1 359.166 1454.1 M359.166 1450.39 Q364.976 1450.39 368.032 1455 Q371.111 1459.58 371.111 1468.33 Q371.111 1477.06 368.032 1481.67 Q364.976 1486.25 359.166 1486.25 Q353.356 1486.25 350.277 1481.67 Q347.222 1477.06 347.222 1468.33 Q347.222 1459.58 350.277 1455 Q353.356 1450.39 359.166 1450.39 Z\" fill=\"#000000\" fill-rule=\"nonzero\" fill-opacity=\"1\" /><path clip-path=\"url(#clip380)\" d=\"M389.328 1454.1 Q385.717 1454.1 383.888 1457.66 Q382.083 1461.2 382.083 1468.33 Q382.083 1475.44 383.888 1479.01 Q385.717 1482.55 389.328 1482.55 Q392.962 1482.55 394.768 1479.01 Q396.597 1475.44 396.597 1468.33 Q396.597 1461.2 394.768 1457.66 Q392.962 1454.1 389.328 1454.1 M389.328 1450.39 Q395.138 1450.39 398.194 1455 Q401.273 1459.58 401.273 1468.33 Q401.273 1477.06 398.194 1481.67 Q395.138 1486.25 389.328 1486.25 Q383.518 1486.25 380.439 1481.67 Q377.384 1477.06 377.384 1468.33 Q377.384 1459.58 380.439 1455 Q383.518 1450.39 389.328 1450.39 Z\" fill=\"#000000\" fill-rule=\"nonzero\" fill-opacity=\"1\" /><path clip-path=\"url(#clip380)\" d=\"M800.426 1454.1 Q796.814 1454.1 794.986 1457.66 Q793.18 1461.2 793.18 1468.33 Q793.18 1475.44 794.986 1479.01 Q796.814 1482.55 800.426 1482.55 Q804.06 1482.55 805.865 1479.01 Q807.694 1475.44 807.694 1468.33 Q807.694 1461.2 805.865 1457.66 Q804.06 1454.1 800.426 1454.1 M800.426 1450.39 Q806.236 1450.39 809.291 1455 Q812.37 1459.58 812.37 1468.33 Q812.37 1477.06 809.291 1481.67 Q806.236 1486.25 800.426 1486.25 Q794.615 1486.25 791.537 1481.67 Q788.481 1477.06 788.481 1468.33 Q788.481 1459.58 791.537 1455 Q794.615 1450.39 800.426 1450.39 Z\" fill=\"#000000\" fill-rule=\"nonzero\" fill-opacity=\"1\" /><path clip-path=\"url(#clip380)\" d=\"M820.588 1479.7 L825.472 1479.7 L825.472 1485.58 L820.588 1485.58 L820.588 1479.7 Z\" fill=\"#000000\" fill-rule=\"nonzero\" fill-opacity=\"1\" /><path clip-path=\"url(#clip380)\" d=\"M839.685 1481.64 L856.004 1481.64 L856.004 1485.58 L834.06 1485.58 L834.06 1481.64 Q836.722 1478.89 841.305 1474.26 Q845.911 1469.61 847.092 1468.27 Q849.337 1465.74 850.217 1464.01 Q851.12 1462.25 851.12 1460.56 Q851.12 1457.8 849.175 1456.07 Q847.254 1454.33 844.152 1454.33 Q841.953 1454.33 839.499 1455.09 Q837.069 1455.86 834.291 1457.41 L834.291 1452.69 Q837.115 1451.55 839.569 1450.97 Q842.023 1450.39 844.06 1450.39 Q849.43 1450.39 852.624 1453.08 Q855.819 1455.77 855.819 1460.26 Q855.819 1462.39 855.009 1464.31 Q854.222 1466.2 852.115 1468.8 Q851.536 1469.47 848.435 1472.69 Q845.333 1475.88 839.685 1481.64 Z\" fill=\"#000000\" fill-rule=\"nonzero\" fill-opacity=\"1\" /><path clip-path=\"url(#clip380)\" d=\"M865.865 1451.02 L884.221 1451.02 L884.221 1454.96 L870.147 1454.96 L870.147 1463.43 Q871.166 1463.08 872.184 1462.92 Q873.203 1462.73 874.221 1462.73 Q880.008 1462.73 883.388 1465.9 Q886.768 1469.08 886.768 1474.49 Q886.768 1480.07 883.296 1483.17 Q879.823 1486.25 873.504 1486.25 Q871.328 1486.25 869.059 1485.88 Q866.814 1485.51 864.407 1484.77 L864.407 1480.07 Q866.49 1481.2 868.712 1481.76 Q870.934 1482.32 873.411 1482.32 Q877.416 1482.32 879.754 1480.21 Q882.092 1478.1 882.092 1474.49 Q882.092 1470.88 879.754 1468.77 Q877.416 1466.67 873.411 1466.67 Q871.536 1466.67 869.661 1467.08 Q867.809 1467.5 865.865 1468.38 L865.865 1451.02 Z\" fill=\"#000000\" fill-rule=\"nonzero\" fill-opacity=\"1\" /><path clip-path=\"url(#clip380)\" d=\"M1285.92 1454.1 Q1282.31 1454.1 1280.48 1457.66 Q1278.68 1461.2 1278.68 1468.33 Q1278.68 1475.44 1280.48 1479.01 Q1282.31 1482.55 1285.92 1482.55 Q1289.56 1482.55 1291.36 1479.01 Q1293.19 1475.44 1293.19 1468.33 Q1293.19 1461.2 1291.36 1457.66 Q1289.56 1454.1 1285.92 1454.1 M1285.92 1450.39 Q1291.73 1450.39 1294.79 1455 Q1297.87 1459.58 1297.87 1468.33 Q1297.87 1477.06 1294.79 1481.67 Q1291.73 1486.25 1285.92 1486.25 Q1280.11 1486.25 1277.03 1481.67 Q1273.98 1477.06 1273.98 1468.33 Q1273.98 1459.58 1277.03 1455 Q1280.11 1450.39 1285.92 1450.39 Z\" fill=\"#000000\" fill-rule=\"nonzero\" fill-opacity=\"1\" /><path clip-path=\"url(#clip380)\" d=\"M1306.08 1479.7 L1310.97 1479.7 L1310.97 1485.58 L1306.08 1485.58 L1306.08 1479.7 Z\" fill=\"#000000\" fill-rule=\"nonzero\" fill-opacity=\"1\" /><path clip-path=\"url(#clip380)\" d=\"M1321.2 1451.02 L1339.55 1451.02 L1339.55 1454.96 L1325.48 1454.96 L1325.48 1463.43 Q1326.5 1463.08 1327.52 1462.92 Q1328.54 1462.73 1329.55 1462.73 Q1335.34 1462.73 1338.72 1465.9 Q1342.1 1469.08 1342.1 1474.49 Q1342.1 1480.07 1338.63 1483.17 Q1335.16 1486.25 1328.84 1486.25 Q1326.66 1486.25 1324.39 1485.88 Q1322.15 1485.51 1319.74 1484.77 L1319.74 1480.07 Q1321.82 1481.2 1324.05 1481.76 Q1326.27 1482.32 1328.74 1482.32 Q1332.75 1482.32 1335.09 1480.21 Q1337.43 1478.1 1337.43 1474.49 Q1337.43 1470.88 1335.09 1468.77 Q1332.75 1466.67 1328.74 1466.67 Q1326.87 1466.67 1324.99 1467.08 Q1323.14 1467.5 1321.2 1468.38 L1321.2 1451.02 Z\" fill=\"#000000\" fill-rule=\"nonzero\" fill-opacity=\"1\" /><path clip-path=\"url(#clip380)\" d=\"M1361.31 1454.1 Q1357.7 1454.1 1355.87 1457.66 Q1354.07 1461.2 1354.07 1468.33 Q1354.07 1475.44 1355.87 1479.01 Q1357.7 1482.55 1361.31 1482.55 Q1364.95 1482.55 1366.75 1479.01 Q1368.58 1475.44 1368.58 1468.33 Q1368.58 1461.2 1366.75 1457.66 Q1364.95 1454.1 1361.31 1454.1 M1361.31 1450.39 Q1367.12 1450.39 1370.18 1455 Q1373.26 1459.58 1373.26 1468.33 Q1373.26 1477.06 1370.18 1481.67 Q1367.12 1486.25 1361.31 1486.25 Q1355.5 1486.25 1352.43 1481.67 Q1349.37 1477.06 1349.37 1468.33 Q1349.37 1459.58 1352.43 1455 Q1355.5 1450.39 1361.31 1450.39 Z\" fill=\"#000000\" fill-rule=\"nonzero\" fill-opacity=\"1\" /><path clip-path=\"url(#clip380)\" d=\"M1772.41 1454.1 Q1768.8 1454.1 1766.97 1457.66 Q1765.17 1461.2 1765.17 1468.33 Q1765.17 1475.44 1766.97 1479.01 Q1768.8 1482.55 1772.41 1482.55 Q1776.05 1482.55 1777.85 1479.01 Q1779.68 1475.44 1779.68 1468.33 Q1779.68 1461.2 1777.85 1457.66 Q1776.05 1454.1 1772.41 1454.1 M1772.41 1450.39 Q1778.22 1450.39 1781.28 1455 Q1784.36 1459.58 1784.36 1468.33 Q1784.36 1477.06 1781.28 1481.67 Q1778.22 1486.25 1772.41 1486.25 Q1766.6 1486.25 1763.52 1481.67 Q1760.47 1477.06 1760.47 1468.33 Q1760.47 1459.58 1763.52 1455 Q1766.6 1450.39 1772.41 1450.39 Z\" fill=\"#000000\" fill-rule=\"nonzero\" fill-opacity=\"1\" /><path clip-path=\"url(#clip380)\" d=\"M1792.57 1479.7 L1797.46 1479.7 L1797.46 1485.58 L1792.57 1485.58 L1792.57 1479.7 Z\" fill=\"#000000\" fill-rule=\"nonzero\" fill-opacity=\"1\" /><path clip-path=\"url(#clip380)\" d=\"M1806.46 1451.02 L1828.68 1451.02 L1828.68 1453.01 L1816.14 1485.58 L1811.25 1485.58 L1823.06 1454.96 L1806.46 1454.96 L1806.46 1451.02 Z\" fill=\"#000000\" fill-rule=\"nonzero\" fill-opacity=\"1\" /><path clip-path=\"url(#clip380)\" d=\"M1837.85 1451.02 L1856.21 1451.02 L1856.21 1454.96 L1842.13 1454.96 L1842.13 1463.43 Q1843.15 1463.08 1844.17 1462.92 Q1845.19 1462.73 1846.21 1462.73 Q1851.99 1462.73 1855.37 1465.9 Q1858.75 1469.08 1858.75 1474.49 Q1858.75 1480.07 1855.28 1483.17 Q1851.81 1486.25 1845.49 1486.25 Q1843.31 1486.25 1841.05 1485.88 Q1838.8 1485.51 1836.39 1484.77 L1836.39 1480.07 Q1838.48 1481.2 1840.7 1481.76 Q1842.92 1482.32 1845.4 1482.32 Q1849.4 1482.32 1851.74 1480.21 Q1854.08 1478.1 1854.08 1474.49 Q1854.08 1470.88 1851.74 1468.77 Q1849.4 1466.67 1845.4 1466.67 Q1843.52 1466.67 1841.65 1467.08 Q1839.8 1467.5 1837.85 1468.38 L1837.85 1451.02 Z\" fill=\"#000000\" fill-rule=\"nonzero\" fill-opacity=\"1\" /><path clip-path=\"url(#clip380)\" d=\"M2247.68 1481.64 L2255.31 1481.64 L2255.31 1455.28 L2247 1456.95 L2247 1452.69 L2255.27 1451.02 L2259.94 1451.02 L2259.94 1481.64 L2267.58 1481.64 L2267.58 1485.58 L2247.68 1485.58 L2247.68 1481.64 Z\" fill=\"#000000\" fill-rule=\"nonzero\" fill-opacity=\"1\" /><path clip-path=\"url(#clip380)\" d=\"M2277.03 1479.7 L2281.91 1479.7 L2281.91 1485.58 L2277.03 1485.58 L2277.03 1479.7 Z\" fill=\"#000000\" fill-rule=\"nonzero\" fill-opacity=\"1\" /><path clip-path=\"url(#clip380)\" d=\"M2302.1 1454.1 Q2298.49 1454.1 2296.66 1457.66 Q2294.85 1461.2 2294.85 1468.33 Q2294.85 1475.44 2296.66 1479.01 Q2298.49 1482.55 2302.1 1482.55 Q2305.73 1482.55 2307.54 1479.01 Q2309.36 1475.44 2309.36 1468.33 Q2309.36 1461.2 2307.54 1457.66 Q2305.73 1454.1 2302.1 1454.1 M2302.1 1450.39 Q2307.91 1450.39 2310.96 1455 Q2314.04 1459.58 2314.04 1468.33 Q2314.04 1477.06 2310.96 1481.67 Q2307.91 1486.25 2302.1 1486.25 Q2296.29 1486.25 2293.21 1481.67 Q2290.15 1477.06 2290.15 1468.33 Q2290.15 1459.58 2293.21 1455 Q2296.29 1450.39 2302.1 1450.39 Z\" fill=\"#000000\" fill-rule=\"nonzero\" fill-opacity=\"1\" /><path clip-path=\"url(#clip380)\" d=\"M2332.26 1454.1 Q2328.65 1454.1 2326.82 1457.66 Q2325.01 1461.2 2325.01 1468.33 Q2325.01 1475.44 2326.82 1479.01 Q2328.65 1482.55 2332.26 1482.55 Q2335.89 1482.55 2337.7 1479.01 Q2339.53 1475.44 2339.53 1468.33 Q2339.53 1461.2 2337.7 1457.66 Q2335.89 1454.1 2332.26 1454.1 M2332.26 1450.39 Q2338.07 1450.39 2341.12 1455 Q2344.2 1459.58 2344.2 1468.33 Q2344.2 1477.06 2341.12 1481.67 Q2338.07 1486.25 2332.26 1486.25 Q2326.45 1486.25 2323.37 1481.67 Q2320.31 1477.06 2320.31 1468.33 Q2320.31 1459.58 2323.37 1455 Q2326.45 1450.39 2332.26 1450.39 Z\" fill=\"#000000\" fill-rule=\"nonzero\" fill-opacity=\"1\" /><path clip-path=\"url(#clip380)\" d=\"M1297.96 1562.63 L1308.46 1562.63 L1308.46 1526.38 L1297.03 1528.67 L1297.03 1522.82 L1308.4 1520.52 L1314.83 1520.52 L1314.83 1562.63 L1325.33 1562.63 L1325.33 1568.04 L1297.96 1568.04 L1297.96 1562.63 Z\" fill=\"#000000\" fill-rule=\"nonzero\" fill-opacity=\"1\" /><path clip-path=\"url(#clip380)\" d=\"M1347.9 1520.52 L1353.31 1520.52 L1336.76 1574.09 L1331.34 1574.09 L1347.9 1520.52 Z\" fill=\"#000000\" fill-rule=\"nonzero\" fill-opacity=\"1\" /><path clip-path=\"url(#clip380)\" d=\"M1389.08 1546.53 L1389.08 1568.04 L1383.22 1568.04 L1383.22 1546.72 Q1383.22 1541.66 1381.25 1539.14 Q1379.28 1536.63 1375.33 1536.63 Q1370.59 1536.63 1367.85 1539.65 Q1365.11 1542.68 1365.11 1547.9 L1365.11 1568.04 L1359.23 1568.04 L1359.23 1532.4 L1365.11 1532.4 L1365.11 1537.93 Q1367.21 1534.72 1370.05 1533.13 Q1372.91 1531.54 1376.64 1531.54 Q1382.78 1531.54 1385.93 1535.36 Q1389.08 1539.14 1389.08 1546.53 Z\" fill=\"#000000\" fill-rule=\"nonzero\" fill-opacity=\"1\" /><polyline clip-path=\"url(#clip382)\" style=\"stroke:#000000; stroke-linecap:round; stroke-linejoin:round; stroke-width:2; stroke-opacity:0.1; fill:none\" points=\"333.358,1384.76 2352.76,1384.76 \"/>\n",
       "<polyline clip-path=\"url(#clip382)\" style=\"stroke:#000000; stroke-linecap:round; stroke-linejoin:round; stroke-width:2; stroke-opacity:0.1; fill:none\" points=\"333.358,1125.04 2352.76,1125.04 \"/>\n",
       "<polyline clip-path=\"url(#clip382)\" style=\"stroke:#000000; stroke-linecap:round; stroke-linejoin:round; stroke-width:2; stroke-opacity:0.1; fill:none\" points=\"333.358,865.329 2352.76,865.329 \"/>\n",
       "<polyline clip-path=\"url(#clip382)\" style=\"stroke:#000000; stroke-linecap:round; stroke-linejoin:round; stroke-width:2; stroke-opacity:0.1; fill:none\" points=\"333.358,605.614 2352.76,605.614 \"/>\n",
       "<polyline clip-path=\"url(#clip382)\" style=\"stroke:#000000; stroke-linecap:round; stroke-linejoin:round; stroke-width:2; stroke-opacity:0.1; fill:none\" points=\"333.358,345.9 2352.76,345.9 \"/>\n",
       "<polyline clip-path=\"url(#clip382)\" style=\"stroke:#000000; stroke-linecap:round; stroke-linejoin:round; stroke-width:2; stroke-opacity:0.1; fill:none\" points=\"333.358,86.1857 2352.76,86.1857 \"/>\n",
       "<polyline clip-path=\"url(#clip380)\" style=\"stroke:#000000; stroke-linecap:round; stroke-linejoin:round; stroke-width:4; stroke-opacity:1; fill:none\" points=\"333.358,1423.18 333.358,47.2441 \"/>\n",
       "<polyline clip-path=\"url(#clip380)\" style=\"stroke:#000000; stroke-linecap:round; stroke-linejoin:round; stroke-width:4; stroke-opacity:1; fill:none\" points=\"333.358,1384.76 352.256,1384.76 \"/>\n",
       "<polyline clip-path=\"url(#clip380)\" style=\"stroke:#000000; stroke-linecap:round; stroke-linejoin:round; stroke-width:4; stroke-opacity:1; fill:none\" points=\"333.358,1125.04 352.256,1125.04 \"/>\n",
       "<polyline clip-path=\"url(#clip380)\" style=\"stroke:#000000; stroke-linecap:round; stroke-linejoin:round; stroke-width:4; stroke-opacity:1; fill:none\" points=\"333.358,865.329 352.256,865.329 \"/>\n",
       "<polyline clip-path=\"url(#clip380)\" style=\"stroke:#000000; stroke-linecap:round; stroke-linejoin:round; stroke-width:4; stroke-opacity:1; fill:none\" points=\"333.358,605.614 352.256,605.614 \"/>\n",
       "<polyline clip-path=\"url(#clip380)\" style=\"stroke:#000000; stroke-linecap:round; stroke-linejoin:round; stroke-width:4; stroke-opacity:1; fill:none\" points=\"333.358,345.9 352.256,345.9 \"/>\n",
       "<polyline clip-path=\"url(#clip380)\" style=\"stroke:#000000; stroke-linecap:round; stroke-linejoin:round; stroke-width:4; stroke-opacity:1; fill:none\" points=\"333.358,86.1857 352.256,86.1857 \"/>\n",
       "<path clip-path=\"url(#clip380)\" d=\"M210.021 1370.56 Q206.41 1370.56 204.581 1374.12 Q202.775 1377.66 202.775 1384.79 Q202.775 1391.9 204.581 1395.46 Q206.41 1399.01 210.021 1399.01 Q213.655 1399.01 215.461 1395.46 Q217.289 1391.9 217.289 1384.79 Q217.289 1377.66 215.461 1374.12 Q213.655 1370.56 210.021 1370.56 M210.021 1366.85 Q215.831 1366.85 218.886 1371.46 Q221.965 1376.04 221.965 1384.79 Q221.965 1393.52 218.886 1398.13 Q215.831 1402.71 210.021 1402.71 Q204.211 1402.71 201.132 1398.13 Q198.076 1393.52 198.076 1384.79 Q198.076 1376.04 201.132 1371.46 Q204.211 1366.85 210.021 1366.85 Z\" fill=\"#000000\" fill-rule=\"nonzero\" fill-opacity=\"1\" /><path clip-path=\"url(#clip380)\" d=\"M230.183 1396.16 L235.067 1396.16 L235.067 1402.04 L230.183 1402.04 L230.183 1396.16 Z\" fill=\"#000000\" fill-rule=\"nonzero\" fill-opacity=\"1\" /><path clip-path=\"url(#clip380)\" d=\"M255.252 1370.56 Q251.641 1370.56 249.812 1374.12 Q248.007 1377.66 248.007 1384.79 Q248.007 1391.9 249.812 1395.46 Q251.641 1399.01 255.252 1399.01 Q258.886 1399.01 260.692 1395.46 Q262.52 1391.9 262.52 1384.79 Q262.52 1377.66 260.692 1374.12 Q258.886 1370.56 255.252 1370.56 M255.252 1366.85 Q261.062 1366.85 264.118 1371.46 Q267.196 1376.04 267.196 1384.79 Q267.196 1393.52 264.118 1398.13 Q261.062 1402.71 255.252 1402.71 Q249.442 1402.71 246.363 1398.13 Q243.308 1393.52 243.308 1384.79 Q243.308 1376.04 246.363 1371.46 Q249.442 1366.85 255.252 1366.85 Z\" fill=\"#000000\" fill-rule=\"nonzero\" fill-opacity=\"1\" /><path clip-path=\"url(#clip380)\" d=\"M285.414 1370.56 Q281.803 1370.56 279.974 1374.12 Q278.169 1377.66 278.169 1384.79 Q278.169 1391.9 279.974 1395.46 Q281.803 1399.01 285.414 1399.01 Q289.048 1399.01 290.854 1395.46 Q292.682 1391.9 292.682 1384.79 Q292.682 1377.66 290.854 1374.12 Q289.048 1370.56 285.414 1370.56 M285.414 1366.85 Q291.224 1366.85 294.28 1371.46 Q297.358 1376.04 297.358 1384.79 Q297.358 1393.52 294.28 1398.13 Q291.224 1402.71 285.414 1402.71 Q279.604 1402.71 276.525 1398.13 Q273.469 1393.52 273.469 1384.79 Q273.469 1376.04 276.525 1371.46 Q279.604 1366.85 285.414 1366.85 Z\" fill=\"#000000\" fill-rule=\"nonzero\" fill-opacity=\"1\" /><path clip-path=\"url(#clip380)\" d=\"M211.016 1110.84 Q207.405 1110.84 205.576 1114.41 Q203.771 1117.95 203.771 1125.08 Q203.771 1132.18 205.576 1135.75 Q207.405 1139.29 211.016 1139.29 Q214.65 1139.29 216.456 1135.75 Q218.285 1132.18 218.285 1125.08 Q218.285 1117.95 216.456 1114.41 Q214.65 1110.84 211.016 1110.84 M211.016 1107.14 Q216.826 1107.14 219.882 1111.74 Q222.96 1116.33 222.96 1125.08 Q222.96 1133.8 219.882 1138.41 Q216.826 1142.99 211.016 1142.99 Q205.206 1142.99 202.127 1138.41 Q199.072 1133.8 199.072 1125.08 Q199.072 1116.33 202.127 1111.74 Q205.206 1107.14 211.016 1107.14 Z\" fill=\"#000000\" fill-rule=\"nonzero\" fill-opacity=\"1\" /><path clip-path=\"url(#clip380)\" d=\"M231.178 1136.44 L236.062 1136.44 L236.062 1142.32 L231.178 1142.32 L231.178 1136.44 Z\" fill=\"#000000\" fill-rule=\"nonzero\" fill-opacity=\"1\" /><path clip-path=\"url(#clip380)\" d=\"M256.247 1110.84 Q252.636 1110.84 250.808 1114.41 Q249.002 1117.95 249.002 1125.08 Q249.002 1132.18 250.808 1135.75 Q252.636 1139.29 256.247 1139.29 Q259.882 1139.29 261.687 1135.75 Q263.516 1132.18 263.516 1125.08 Q263.516 1117.95 261.687 1114.41 Q259.882 1110.84 256.247 1110.84 M256.247 1107.14 Q262.057 1107.14 265.113 1111.74 Q268.192 1116.33 268.192 1125.08 Q268.192 1133.8 265.113 1138.41 Q262.057 1142.99 256.247 1142.99 Q250.437 1142.99 247.358 1138.41 Q244.303 1133.8 244.303 1125.08 Q244.303 1116.33 247.358 1111.74 Q250.437 1107.14 256.247 1107.14 Z\" fill=\"#000000\" fill-rule=\"nonzero\" fill-opacity=\"1\" /><path clip-path=\"url(#clip380)\" d=\"M276.456 1107.76 L294.812 1107.76 L294.812 1111.7 L280.738 1111.7 L280.738 1120.17 Q281.756 1119.82 282.775 1119.66 Q283.793 1119.48 284.812 1119.48 Q290.599 1119.48 293.979 1122.65 Q297.358 1125.82 297.358 1131.24 Q297.358 1136.81 293.886 1139.92 Q290.414 1142.99 284.094 1142.99 Q281.918 1142.99 279.65 1142.62 Q277.405 1142.25 274.997 1141.51 L274.997 1136.81 Q277.081 1137.95 279.303 1138.5 Q281.525 1139.06 284.002 1139.06 Q288.006 1139.06 290.344 1136.95 Q292.682 1134.85 292.682 1131.24 Q292.682 1127.62 290.344 1125.52 Q288.006 1123.41 284.002 1123.41 Q282.127 1123.41 280.252 1123.83 Q278.4 1124.24 276.456 1125.12 L276.456 1107.76 Z\" fill=\"#000000\" fill-rule=\"nonzero\" fill-opacity=\"1\" /><path clip-path=\"url(#clip380)\" d=\"M210.021 851.128 Q206.41 851.128 204.581 854.692 Q202.775 858.234 202.775 865.364 Q202.775 872.47 204.581 876.035 Q206.41 879.576 210.021 879.576 Q213.655 879.576 215.461 876.035 Q217.289 872.47 217.289 865.364 Q217.289 858.234 215.461 854.692 Q213.655 851.128 210.021 851.128 M210.021 847.424 Q215.831 847.424 218.886 852.03 Q221.965 856.614 221.965 865.364 Q221.965 874.09 218.886 878.697 Q215.831 883.28 210.021 883.28 Q204.211 883.28 201.132 878.697 Q198.076 874.09 198.076 865.364 Q198.076 856.614 201.132 852.03 Q204.211 847.424 210.021 847.424 Z\" fill=\"#000000\" fill-rule=\"nonzero\" fill-opacity=\"1\" /><path clip-path=\"url(#clip380)\" d=\"M230.183 876.729 L235.067 876.729 L235.067 882.609 L230.183 882.609 L230.183 876.729 Z\" fill=\"#000000\" fill-rule=\"nonzero\" fill-opacity=\"1\" /><path clip-path=\"url(#clip380)\" d=\"M246.062 878.674 L253.701 878.674 L253.701 852.308 L245.391 853.975 L245.391 849.716 L253.655 848.049 L258.331 848.049 L258.331 878.674 L265.97 878.674 L265.97 882.609 L246.062 882.609 L246.062 878.674 Z\" fill=\"#000000\" fill-rule=\"nonzero\" fill-opacity=\"1\" /><path clip-path=\"url(#clip380)\" d=\"M285.414 851.128 Q281.803 851.128 279.974 854.692 Q278.169 858.234 278.169 865.364 Q278.169 872.47 279.974 876.035 Q281.803 879.576 285.414 879.576 Q289.048 879.576 290.854 876.035 Q292.682 872.47 292.682 865.364 Q292.682 858.234 290.854 854.692 Q289.048 851.128 285.414 851.128 M285.414 847.424 Q291.224 847.424 294.28 852.03 Q297.358 856.614 297.358 865.364 Q297.358 874.09 294.28 878.697 Q291.224 883.28 285.414 883.28 Q279.604 883.28 276.525 878.697 Q273.469 874.09 273.469 865.364 Q273.469 856.614 276.525 852.03 Q279.604 847.424 285.414 847.424 Z\" fill=\"#000000\" fill-rule=\"nonzero\" fill-opacity=\"1\" /><path clip-path=\"url(#clip380)\" d=\"M211.016 591.413 Q207.405 591.413 205.576 594.978 Q203.771 598.52 203.771 605.649 Q203.771 612.756 205.576 616.32 Q207.405 619.862 211.016 619.862 Q214.65 619.862 216.456 616.32 Q218.285 612.756 218.285 605.649 Q218.285 598.52 216.456 594.978 Q214.65 591.413 211.016 591.413 M211.016 587.709 Q216.826 587.709 219.882 592.316 Q222.96 596.899 222.96 605.649 Q222.96 614.376 219.882 618.982 Q216.826 623.566 211.016 623.566 Q205.206 623.566 202.127 618.982 Q199.072 614.376 199.072 605.649 Q199.072 596.899 202.127 592.316 Q205.206 587.709 211.016 587.709 Z\" fill=\"#000000\" fill-rule=\"nonzero\" fill-opacity=\"1\" /><path clip-path=\"url(#clip380)\" d=\"M231.178 617.015 L236.062 617.015 L236.062 622.894 L231.178 622.894 L231.178 617.015 Z\" fill=\"#000000\" fill-rule=\"nonzero\" fill-opacity=\"1\" /><path clip-path=\"url(#clip380)\" d=\"M247.058 618.959 L254.696 618.959 L254.696 592.594 L246.386 594.26 L246.386 590.001 L254.65 588.334 L259.326 588.334 L259.326 618.959 L266.965 618.959 L266.965 622.894 L247.058 622.894 L247.058 618.959 Z\" fill=\"#000000\" fill-rule=\"nonzero\" fill-opacity=\"1\" /><path clip-path=\"url(#clip380)\" d=\"M276.456 588.334 L294.812 588.334 L294.812 592.27 L280.738 592.27 L280.738 600.742 Q281.756 600.395 282.775 600.233 Q283.793 600.047 284.812 600.047 Q290.599 600.047 293.979 603.219 Q297.358 606.39 297.358 611.807 Q297.358 617.385 293.886 620.487 Q290.414 623.566 284.094 623.566 Q281.918 623.566 279.65 623.195 Q277.405 622.825 274.997 622.084 L274.997 617.385 Q277.081 618.52 279.303 619.075 Q281.525 619.631 284.002 619.631 Q288.006 619.631 290.344 617.524 Q292.682 615.418 292.682 611.807 Q292.682 608.195 290.344 606.089 Q288.006 603.983 284.002 603.983 Q282.127 603.983 280.252 604.399 Q278.4 604.816 276.456 605.695 L276.456 588.334 Z\" fill=\"#000000\" fill-rule=\"nonzero\" fill-opacity=\"1\" /><path clip-path=\"url(#clip380)\" d=\"M210.021 331.699 Q206.41 331.699 204.581 335.264 Q202.775 338.805 202.775 345.935 Q202.775 353.041 204.581 356.606 Q206.41 360.148 210.021 360.148 Q213.655 360.148 215.461 356.606 Q217.289 353.041 217.289 345.935 Q217.289 338.805 215.461 335.264 Q213.655 331.699 210.021 331.699 M210.021 327.995 Q215.831 327.995 218.886 332.602 Q221.965 337.185 221.965 345.935 Q221.965 354.662 218.886 359.268 Q215.831 363.851 210.021 363.851 Q204.211 363.851 201.132 359.268 Q198.076 354.662 198.076 345.935 Q198.076 337.185 201.132 332.602 Q204.211 327.995 210.021 327.995 Z\" fill=\"#000000\" fill-rule=\"nonzero\" fill-opacity=\"1\" /><path clip-path=\"url(#clip380)\" d=\"M230.183 357.3 L235.067 357.3 L235.067 363.18 L230.183 363.18 L230.183 357.3 Z\" fill=\"#000000\" fill-rule=\"nonzero\" fill-opacity=\"1\" /><path clip-path=\"url(#clip380)\" d=\"M249.28 359.245 L265.599 359.245 L265.599 363.18 L243.655 363.18 L243.655 359.245 Q246.317 356.49 250.9 351.861 Q255.507 347.208 256.687 345.865 Q258.933 343.342 259.812 341.606 Q260.715 339.847 260.715 338.157 Q260.715 335.402 258.77 333.666 Q256.849 331.93 253.747 331.93 Q251.548 331.93 249.095 332.694 Q246.664 333.458 243.886 335.009 L243.886 330.287 Q246.71 329.152 249.164 328.574 Q251.618 327.995 253.655 327.995 Q259.025 327.995 262.22 330.68 Q265.414 333.365 265.414 337.856 Q265.414 339.986 264.604 341.907 Q263.817 343.805 261.71 346.398 Q261.132 347.069 258.03 350.287 Q254.928 353.481 249.28 359.245 Z\" fill=\"#000000\" fill-rule=\"nonzero\" fill-opacity=\"1\" /><path clip-path=\"url(#clip380)\" d=\"M285.414 331.699 Q281.803 331.699 279.974 335.264 Q278.169 338.805 278.169 345.935 Q278.169 353.041 279.974 356.606 Q281.803 360.148 285.414 360.148 Q289.048 360.148 290.854 356.606 Q292.682 353.041 292.682 345.935 Q292.682 338.805 290.854 335.264 Q289.048 331.699 285.414 331.699 M285.414 327.995 Q291.224 327.995 294.28 332.602 Q297.358 337.185 297.358 345.935 Q297.358 354.662 294.28 359.268 Q291.224 363.851 285.414 363.851 Q279.604 363.851 276.525 359.268 Q273.469 354.662 273.469 345.935 Q273.469 337.185 276.525 332.602 Q279.604 327.995 285.414 327.995 Z\" fill=\"#000000\" fill-rule=\"nonzero\" fill-opacity=\"1\" /><path clip-path=\"url(#clip380)\" d=\"M211.016 71.9844 Q207.405 71.9844 205.576 75.5492 Q203.771 79.0908 203.771 86.2204 Q203.771 93.3268 205.576 96.8916 Q207.405 100.433 211.016 100.433 Q214.65 100.433 216.456 96.8916 Q218.285 93.3268 218.285 86.2204 Q218.285 79.0908 216.456 75.5492 Q214.65 71.9844 211.016 71.9844 M211.016 68.2807 Q216.826 68.2807 219.882 72.8871 Q222.96 77.4704 222.96 86.2204 Q222.96 94.9472 219.882 99.5537 Q216.826 104.137 211.016 104.137 Q205.206 104.137 202.127 99.5537 Q199.072 94.9472 199.072 86.2204 Q199.072 77.4704 202.127 72.8871 Q205.206 68.2807 211.016 68.2807 Z\" fill=\"#000000\" fill-rule=\"nonzero\" fill-opacity=\"1\" /><path clip-path=\"url(#clip380)\" d=\"M231.178 97.5861 L236.062 97.5861 L236.062 103.466 L231.178 103.466 L231.178 97.5861 Z\" fill=\"#000000\" fill-rule=\"nonzero\" fill-opacity=\"1\" /><path clip-path=\"url(#clip380)\" d=\"M250.275 99.5305 L266.595 99.5305 L266.595 103.466 L244.65 103.466 L244.65 99.5305 Q247.312 96.7759 251.896 92.1463 Q256.502 87.4935 257.683 86.151 Q259.928 83.6278 260.808 81.8917 Q261.71 80.1325 261.71 78.4427 Q261.71 75.688 259.766 73.9519 Q257.845 72.2158 254.743 72.2158 Q252.544 72.2158 250.09 72.9797 Q247.659 73.7436 244.882 75.2945 L244.882 70.5723 Q247.706 69.4381 250.159 68.8594 Q252.613 68.2807 254.65 68.2807 Q260.02 68.2807 263.215 70.9658 Q266.409 73.651 266.409 78.1417 Q266.409 80.2714 265.599 82.1926 Q264.812 84.0908 262.706 86.6834 Q262.127 87.3546 259.025 90.5722 Q255.923 93.7667 250.275 99.5305 Z\" fill=\"#000000\" fill-rule=\"nonzero\" fill-opacity=\"1\" /><path clip-path=\"url(#clip380)\" d=\"M276.456 68.9057 L294.812 68.9057 L294.812 72.8408 L280.738 72.8408 L280.738 81.313 Q281.756 80.9658 282.775 80.8038 Q283.793 80.6186 284.812 80.6186 Q290.599 80.6186 293.979 83.7899 Q297.358 86.9611 297.358 92.3778 Q297.358 97.9564 293.886 101.058 Q290.414 104.137 284.094 104.137 Q281.918 104.137 279.65 103.767 Q277.405 103.396 274.997 102.655 L274.997 97.9564 Q277.081 99.0907 279.303 99.6462 Q281.525 100.202 284.002 100.202 Q288.006 100.202 290.344 98.0953 Q292.682 95.9889 292.682 92.3778 Q292.682 88.7667 290.344 86.6602 Q288.006 84.5537 284.002 84.5537 Q282.127 84.5537 280.252 84.9704 Q278.4 85.3871 276.456 86.2667 L276.456 68.9057 Z\" fill=\"#000000\" fill-rule=\"nonzero\" fill-opacity=\"1\" /><path clip-path=\"url(#clip380)\" d=\"M44.2885 865.756 Q46.0196 865.756 46.9455 866.802 Q47.8312 867.849 47.8312 869.218 Q47.8312 870.546 46.9455 871.593 Q46.0196 872.599 44.3691 872.599 Q43.2419 872.599 42.2354 871.875 Q41.1887 871.15 40.9874 869.54 Q39.2564 871.553 39.2564 874.733 Q39.2564 876.303 39.8602 877.39 Q40.4238 878.437 42.1549 879.483 Q43.886 880.53 47.4286 881.255 Q50.9713 881.939 56.4865 882.382 L77.0177 883.952 Q83.9823 884.435 97.6698 886.166 Q111.317 887.857 114.457 888.662 Q117.436 889.387 119.892 890.474 Q122.347 891.56 124.481 893.171 Q126.655 894.781 127.863 897.116 Q129.07 899.451 129.07 902.269 Q129.07 906.013 127.098 908.67 Q125.166 911.327 122.227 911.327 Q120.496 911.327 119.57 910.28 Q118.684 909.233 118.684 907.865 Q118.684 906.536 119.57 905.53 Q120.496 904.483 122.146 904.483 Q123.273 904.483 124.28 905.208 Q125.327 905.932 125.528 907.543 Q127.259 905.53 127.259 902.269 Q127.259 899.773 125.81 898.122 Q124.36 896.472 120.496 895.264 Q116.631 894.056 110.029 893.533 L89.4975 891.963 Q82.2512 891.44 68.765 889.749 Q55.2788 888.018 51.7361 887.253 Q37.4448 884.032 37.4448 874.813 Q37.4448 871.069 39.4174 868.412 Q41.3498 865.756 44.2885 865.756 Z\" fill=\"#000000\" fill-rule=\"nonzero\" fill-opacity=\"1\" /><path clip-path=\"url(#clip380)\" d=\"M166.004 902.954 Q159.218 902.954 155.521 901.24 Q150.02 898.851 150.02 893.215 Q150.02 892.02 150.359 890.78 Q150.674 889.517 151.914 887.939 Q153.154 886.339 155.183 885.369 Q159.106 883.521 166.004 883.521 Q172.745 883.521 176.42 885.234 Q181.785 887.736 181.785 893.26 Q181.785 895.334 180.725 897.453 Q179.666 899.55 177.118 900.88 Q173.308 902.954 166.004 902.954 M165.441 899.121 Q172.407 899.121 175.18 898.625 Q178.178 898.062 179.486 896.529 Q180.771 894.973 180.771 893.26 Q180.771 891.411 179.395 889.878 Q177.998 888.323 174.999 887.849 Q172.046 887.331 165.441 887.353 Q159.015 887.353 156.445 887.804 Q153.447 888.413 152.252 890.036 Q151.035 891.637 151.035 893.26 Q151.035 893.868 151.215 894.522 Q151.396 895.153 151.914 896.078 Q152.433 897.002 153.718 897.723 Q155.003 898.422 156.941 898.76 Q159.444 899.121 165.441 899.121 Z\" fill=\"#000000\" fill-rule=\"nonzero\" fill-opacity=\"1\" /><path clip-path=\"url(#clip380)\" d=\"M-11.1206 900.881 L-12.5635 900.881 Q-12.5635 895.335 -15.5167 892.472 Q-15.5167 891.683 -15.3364 891.548 Q-15.156 891.413 -14.3219 891.413 L11.5813 891.413 Q12.9565 891.413 13.3848 890.736 Q13.8131 890.06 13.8131 887.107 L13.8131 885.641 L15.2334 885.641 Q15.0982 887.264 15.0982 893.126 Q15.0982 898.987 15.2334 900.588 L13.8131 900.588 L13.8131 899.123 Q13.8131 896.214 13.4074 895.516 Q12.979 894.817 11.5813 894.817 L-12.338 894.817 Q-11.1206 897.229 -11.1206 900.881 Z\" fill=\"#000000\" fill-rule=\"nonzero\" fill-opacity=\"1\" /><path clip-path=\"url(#clip380)\" d=\"M79.0306 819.272 Q80.8341 819.272 81.8647 820.399 Q82.8631 821.526 82.8631 822.814 Q82.8631 824.038 82.1546 824.682 Q81.4461 825.327 80.5443 825.327 Q79.3205 825.327 78.2577 824.425 Q77.1949 823.523 76.9694 822.17 Q76.1321 823.491 76.1321 825.455 Q76.1321 826.744 76.8084 827.871 Q77.4847 828.966 78.3543 829.642 Q79.2239 830.286 80.4799 830.866 Q81.7037 831.413 82.4444 831.639 Q83.153 831.832 83.9259 831.993 L92.9435 834.248 Q97.2269 835.343 98.7406 835.343 Q100.609 835.343 101.865 834.441 Q103.088 833.539 103.088 831.735 Q103.088 831.027 102.895 830.222 Q102.67 829.417 102.09 828.386 Q101.478 827.323 100.576 826.389 Q99.6424 825.423 98.0643 824.489 Q96.4862 823.555 94.4572 822.943 Q93.7487 822.75 93.7487 822.106 Q93.7487 821.301 94.3928 821.301 Q94.9403 821.301 96.0997 821.752 Q97.2269 822.17 98.7084 823.104 Q100.158 824.006 101.478 825.198 Q102.766 826.389 103.668 828.161 Q104.57 829.932 104.57 831.864 Q104.57 834.634 103.088 836.47 Q101.607 838.305 99.5457 838.982 Q99.8356 839.143 100.222 839.368 Q100.609 839.594 101.478 840.27 Q102.315 840.914 102.96 841.655 Q103.571 842.396 104.055 843.555 Q104.57 844.682 104.57 845.906 Q104.57 847.452 104.119 848.837 Q103.668 850.189 102.638 851.156 Q101.607 852.122 100.19 852.122 Q98.6118 852.122 97.5168 851.059 Q96.3896 849.964 96.3896 848.483 Q96.3896 847.549 96.9371 846.808 Q97.4846 846.035 98.6762 846.035 Q99.9966 846.035 100.995 846.937 Q101.993 847.838 102.251 849.127 Q103.088 847.806 103.088 845.842 Q103.088 843.716 101.22 842.041 Q99.3525 840.367 96.2285 839.562 Q88.7246 837.565 85.3752 836.792 Q81.9936 836.019 80.5443 836.019 Q79.1916 836.019 78.2577 836.373 Q77.3237 836.727 76.905 837.339 Q76.4541 837.919 76.2931 838.467 Q76.1321 838.982 76.1321 839.562 Q76.1321 840.528 76.5186 841.623 Q76.905 842.685 77.8068 843.974 Q78.6764 845.23 80.4799 846.421 Q82.2834 847.613 84.7633 848.418 Q85.504 848.579 85.504 849.288 Q85.4718 850.061 84.8277 850.061 Q84.2802 850.061 83.153 849.642 Q81.9936 849.191 80.5443 848.289 Q79.095 847.355 77.8068 846.164 Q76.4864 844.94 75.5846 843.169 Q74.6828 841.365 74.6828 839.433 Q74.6828 838.563 74.8761 837.726 Q75.0371 836.856 75.5202 835.826 Q76.0033 834.763 77.0661 833.829 Q78.1289 832.895 79.6747 832.315 Q78.934 831.929 78.2255 831.413 Q77.5169 830.866 76.6474 830.029 Q75.7456 829.159 75.2303 827.967 Q74.6828 826.744 74.6828 825.391 Q74.6828 824.07 75.0371 822.782 Q75.3591 821.494 76.4219 820.399 Q77.4525 819.272 79.0306 819.272 Z\" fill=\"#000000\" fill-rule=\"nonzero\" fill-opacity=\"1\" /><path clip-path=\"url(#clip380)\" d=\"M76.864 812.551 Q75.4888 812.551 74.835 811.762 Q74.1812 810.972 74.1812 809.958 Q74.1812 808.898 74.8801 808.154 Q75.5564 807.388 76.7513 807.388 Q78.0363 807.388 78.7577 808.29 Q79.4791 809.169 79.2988 810.431 Q81.1474 809.327 81.9815 807.298 Q82.8156 805.246 82.8156 803.353 Q82.8156 801.369 81.1023 799.768 Q79.3889 798.145 75.1957 798.145 Q71.6338 798.145 69.5822 799.543 Q67.5307 800.918 67.5307 803.646 L67.5307 805.675 Q67.5307 806.373 67.4631 806.576 Q67.3955 806.779 67.0122 806.779 Q66.5613 806.779 66.4712 806.08 Q66.4712 805.382 66.3359 804.277 Q66.2457 801.594 63.9237 800.174 Q61.7594 798.889 58.6709 798.889 Q55.8529 798.889 54.6806 800.241 Q53.4858 801.572 53.4858 803.307 Q53.4858 804.931 54.1621 806.712 Q54.8384 808.493 56.3489 809.462 Q56.3489 806.599 58.6709 806.599 Q59.6854 806.599 60.3617 807.253 Q61.0155 807.884 61.0155 808.943 Q61.0155 809.958 60.3842 810.634 Q59.7305 811.311 58.6258 811.311 Q55.9881 811.311 54.1621 808.966 Q52.336 806.599 52.336 803.127 Q52.336 799.7 54.1395 797.175 Q55.9431 794.628 58.716 794.628 Q61.4438 794.628 63.6757 796.432 Q65.9076 798.235 66.8319 801.098 Q67.5307 797.581 69.9204 795.485 Q72.2875 793.388 75.1957 793.388 Q78.8028 793.388 81.463 796.229 Q84.1006 799.069 84.1006 803.217 Q84.1006 807.05 82.0266 809.8 Q79.9525 812.551 76.864 812.551 Z\" fill=\"#000000\" fill-rule=\"nonzero\" fill-opacity=\"1\" /><path clip-path=\"url(#clip380)\" d=\"M58.7731 755.133 L96.9049 764.634 Q98.6118 765.02 100.061 765.02 Q103.088 765.02 103.088 763.056 Q103.088 762.09 102.476 761.317 Q101.865 760.544 100.576 759.932 Q99.2881 759.32 98.0965 758.934 Q96.8727 758.547 94.9403 758.032 Q94.1674 757.871 93.9741 757.742 Q93.7487 757.581 93.7487 757.13 Q93.7487 756.325 94.3928 756.325 Q98.5474 757.194 100.931 758.322 Q104.57 760.125 104.57 763.185 Q104.57 765.504 103.153 767.146 Q101.736 768.789 99.6102 769.175 Q104.57 773.394 104.57 777.774 Q104.57 781.639 101.639 784.086 Q98.6762 786.534 94.0063 786.534 Q89.3043 786.534 84.7955 784.215 Q80.2866 781.864 77.4847 778.16 Q74.6828 774.457 74.6828 770.656 Q74.6828 766.631 78.9018 764.57 L63.2497 760.608 L61.9615 760.415 Q61.575 760.415 61.3818 760.576 Q61.1564 760.705 60.9953 761.478 Q60.8343 762.219 60.8343 763.7 Q60.8343 764.312 60.8021 764.602 Q60.7699 764.859 60.6089 765.085 Q60.4156 765.31 60.0292 765.31 Q58.902 765.31 58.7731 764.376 Q58.0646 758.193 58.0646 756.003 Q58.0646 755.616 58.2578 755.391 Q58.4189 755.165 58.6121 755.165 L58.7731 755.133 M81.9291 765.375 Q81.6393 765.375 80.8341 765.6 Q80.029 765.826 78.9018 766.341 Q77.7746 766.856 76.9694 767.983 Q76.1321 769.078 76.1321 770.56 Q76.1321 772.557 77.839 774.65 Q79.5459 776.711 82.4444 778.225 Q84.7633 779.384 89.6263 780.64 Q94.4894 781.864 96.9049 781.864 Q98.3863 781.864 99.7068 781.542 Q100.995 781.188 102.058 780.189 Q103.088 779.191 103.088 777.645 Q103.088 773.877 98.4185 770.173 Q97.6134 769.465 97.2913 769.304 Q96.9371 769.111 95.9709 768.853 L83.0563 765.568 Q82.0902 765.375 81.9291 765.375 Z\" fill=\"#000000\" fill-rule=\"nonzero\" fill-opacity=\"1\" /><path clip-path=\"url(#clip380)\" d=\"M79.0306 720.8 Q80.8341 720.8 81.8647 721.927 Q82.8631 723.054 82.8631 724.343 Q82.8631 725.566 82.1546 726.211 Q81.4461 726.855 80.5443 726.855 Q79.3205 726.855 78.2577 725.953 Q77.1949 725.051 76.9694 723.699 Q76.1321 725.019 76.1321 726.984 Q76.1321 728.272 76.8084 729.399 Q77.4847 730.494 78.3543 731.17 Q79.2239 731.814 80.4799 732.394 Q81.7037 732.942 82.4444 733.167 Q83.153 733.36 83.9259 733.521 L92.9435 735.776 Q97.2269 736.871 98.7406 736.871 Q100.609 736.871 101.865 735.969 Q103.088 735.067 103.088 733.264 Q103.088 732.555 102.895 731.75 Q102.67 730.945 102.09 729.914 Q101.478 728.851 100.576 727.917 Q99.6424 726.951 98.0643 726.017 Q96.4862 725.083 94.4572 724.471 Q93.7487 724.278 93.7487 723.634 Q93.7487 722.829 94.3928 722.829 Q94.9403 722.829 96.0997 723.28 Q97.2269 723.699 98.7084 724.632 Q100.158 725.534 101.478 726.726 Q102.766 727.917 103.668 729.689 Q104.57 731.46 104.57 733.392 Q104.57 736.162 103.088 737.998 Q101.607 739.834 99.5457 740.51 Q99.8356 740.671 100.222 740.896 Q100.609 741.122 101.478 741.798 Q102.315 742.442 102.96 743.183 Q103.571 743.924 104.055 745.083 Q104.57 746.21 104.57 747.434 Q104.57 748.98 104.119 750.365 Q103.668 751.718 102.638 752.684 Q101.607 753.65 100.19 753.65 Q98.6118 753.65 97.5168 752.587 Q96.3896 751.492 96.3896 750.011 Q96.3896 749.077 96.9371 748.336 Q97.4846 747.563 98.6762 747.563 Q99.9966 747.563 100.995 748.465 Q101.993 749.367 102.251 750.655 Q103.088 749.334 103.088 747.37 Q103.088 745.244 101.22 743.57 Q99.3525 741.895 96.2285 741.09 Q88.7246 739.093 85.3752 738.32 Q81.9936 737.547 80.5443 737.547 Q79.1916 737.547 78.2577 737.901 Q77.3237 738.256 76.905 738.867 Q76.4541 739.447 76.2931 739.995 Q76.1321 740.51 76.1321 741.09 Q76.1321 742.056 76.5186 743.151 Q76.905 744.214 77.8068 745.502 Q78.6764 746.758 80.4799 747.95 Q82.2834 749.141 84.7633 749.946 Q85.504 750.107 85.504 750.816 Q85.4718 751.589 84.8277 751.589 Q84.2802 751.589 83.153 751.17 Q81.9936 750.719 80.5443 749.817 Q79.095 748.884 77.8068 747.692 Q76.4864 746.468 75.5846 744.697 Q74.6828 742.893 74.6828 740.961 Q74.6828 740.091 74.8761 739.254 Q75.0371 738.384 75.5202 737.354 Q76.0033 736.291 77.0661 735.357 Q78.1289 734.423 79.6747 733.843 Q78.934 733.457 78.2255 732.942 Q77.5169 732.394 76.6474 731.557 Q75.7456 730.687 75.2303 729.496 Q74.6828 728.272 74.6828 726.919 Q74.6828 725.599 75.0371 724.31 Q75.3591 723.022 76.4219 721.927 Q77.4525 720.8 79.0306 720.8 Z\" fill=\"#000000\" fill-rule=\"nonzero\" fill-opacity=\"1\" /><path clip-path=\"url(#clip380)\" d=\"M83.3634 716.297 L83.3634 699.141 L88.5833 699.141 L88.5833 716.297 L83.3634 716.297 Z\" fill=\"#000000\" fill-rule=\"nonzero\" fill-opacity=\"1\" /><path clip-path=\"url(#clip380)\" d=\"M60.5423 675.238 Q60.5423 680.203 65.4439 682.718 Q70.3137 685.2 80.1169 685.2 Q89.8882 685.2 94.7898 682.718 Q99.6596 680.203 99.6596 675.238 Q99.6596 670.241 94.7898 667.758 Q89.8882 665.244 80.1169 665.244 Q70.3137 665.244 65.4439 667.758 Q60.5423 670.241 60.5423 675.238 M55.4498 675.238 Q55.4498 667.249 61.7836 663.048 Q68.0857 658.815 80.1169 658.815 Q92.1162 658.815 98.4501 663.048 Q104.752 667.249 104.752 675.238 Q104.752 683.227 98.4501 687.46 Q92.1162 691.662 80.1169 691.662 Q68.0857 691.662 61.7836 687.46 Q55.4498 683.227 55.4498 675.238 Z\" fill=\"#000000\" fill-rule=\"nonzero\" fill-opacity=\"1\" /><path clip-path=\"url(#clip380)\" d=\"M95.7447 647.515 L95.7447 640.8 L103.829 640.8 L103.829 647.515 L95.7447 647.515 Z\" fill=\"#000000\" fill-rule=\"nonzero\" fill-opacity=\"1\" /><path clip-path=\"url(#clip380)\" d=\"M98.4183 621.257 L98.4183 598.818 L103.829 598.818 L103.829 628.991 L98.4183 628.991 Q94.6307 625.331 88.265 619.029 Q81.8674 612.695 80.0214 611.072 Q76.5521 607.984 74.1649 606.775 Q71.746 605.534 69.4225 605.534 Q65.6349 605.534 63.2477 608.207 Q60.8606 610.849 60.8606 615.114 Q60.8606 618.138 61.911 621.511 Q62.9613 624.853 65.0938 628.673 L58.6008 628.673 Q57.0412 624.79 56.2455 621.416 Q55.4498 618.042 55.4498 615.241 Q55.4498 607.857 59.1419 603.465 Q62.834 599.072 69.0087 599.072 Q71.9369 599.072 74.5787 600.186 Q77.1886 601.269 80.7534 604.165 Q81.6765 604.961 86.1006 609.226 Q90.493 613.491 98.4183 621.257 Z\" fill=\"#000000\" fill-rule=\"nonzero\" fill-opacity=\"1\" /><path clip-path=\"url(#clip380)\" d=\"M56.3091 585.259 L56.3091 560.019 L61.72 560.019 L61.72 579.37 L73.3692 579.37 Q72.8918 577.97 72.669 576.57 Q72.4144 575.169 72.4144 573.769 Q72.4144 565.812 76.7749 561.165 Q81.1354 556.518 88.5833 556.518 Q96.2539 556.518 100.519 561.292 Q104.752 566.066 104.752 574.755 Q104.752 577.747 104.243 580.866 Q103.734 583.954 102.715 587.264 L96.2539 587.264 Q97.8135 584.399 98.5774 581.344 Q99.3413 578.288 99.3413 574.883 Q99.3413 569.376 96.4449 566.162 Q93.5485 562.947 88.5833 562.947 Q83.618 562.947 80.7216 566.162 Q77.8252 569.376 77.8252 574.883 Q77.8252 577.461 78.3981 580.039 Q78.971 582.585 80.1805 585.259 L56.3091 585.259 Z\" fill=\"#000000\" fill-rule=\"nonzero\" fill-opacity=\"1\" /><polyline clip-path=\"url(#clip382)\" style=\"stroke:#009af9; stroke-linecap:round; stroke-linejoin:round; stroke-width:4; stroke-opacity:1; fill:none\" points=\"2295.6,86.1857 1323.62,1060.11 999.622,1240.47 837.624,1303.6 740.426,1332.81 675.627,1348.69 629.342,1358.26 594.628,1364.47 567.628,1368.73 546.029,1371.77 528.356,1374.03 513.629,1375.74 501.168,1377.07 490.487,1378.13 481.23,1378.99 473.13,1379.69 465.983,1380.26 459.63,1380.75 453.946,1381.16 448.83,1381.51 444.202,1381.81 439.994,1382.07 436.152,1382.3 432.63,1382.5 429.39,1382.68 426.4,1382.84 423.631,1382.98 421.059,1383.1 418.665,1383.21 416.431,1383.31 414.34,1383.41 412.381,1383.49 410.54,1383.57 408.807,1383.63 407.174,1383.7 405.631,1383.76 404.171,1383.81 402.789,1383.86 401.477,1383.9 400.231,1383.95 399.046,1383.99 397.917,1384.02 396.84,1384.06 395.813,1384.09 394.831,1384.12 393.892,1384.14 392.993,1384.17 392.131,1384.19 391.304,1384.22 390.511,1384.24 \"/>\n",
       "<circle clip-path=\"url(#clip382)\" cx=\"2295.6\" cy=\"86.1857\" r=\"14.4\" fill=\"#e26f46\" fill-rule=\"evenodd\" fill-opacity=\"1\" stroke=\"#000000\" stroke-opacity=\"1\" stroke-width=\"3.2\"/>\n",
       "<circle clip-path=\"url(#clip382)\" cx=\"1323.62\" cy=\"1060.11\" r=\"14.4\" fill=\"#e26f46\" fill-rule=\"evenodd\" fill-opacity=\"1\" stroke=\"#000000\" stroke-opacity=\"1\" stroke-width=\"3.2\"/>\n",
       "<circle clip-path=\"url(#clip382)\" cx=\"999.622\" cy=\"1240.47\" r=\"14.4\" fill=\"#e26f46\" fill-rule=\"evenodd\" fill-opacity=\"1\" stroke=\"#000000\" stroke-opacity=\"1\" stroke-width=\"3.2\"/>\n",
       "<circle clip-path=\"url(#clip382)\" cx=\"837.624\" cy=\"1303.6\" r=\"14.4\" fill=\"#e26f46\" fill-rule=\"evenodd\" fill-opacity=\"1\" stroke=\"#000000\" stroke-opacity=\"1\" stroke-width=\"3.2\"/>\n",
       "<circle clip-path=\"url(#clip382)\" cx=\"740.426\" cy=\"1332.81\" r=\"14.4\" fill=\"#e26f46\" fill-rule=\"evenodd\" fill-opacity=\"1\" stroke=\"#000000\" stroke-opacity=\"1\" stroke-width=\"3.2\"/>\n",
       "<circle clip-path=\"url(#clip382)\" cx=\"675.627\" cy=\"1348.69\" r=\"14.4\" fill=\"#e26f46\" fill-rule=\"evenodd\" fill-opacity=\"1\" stroke=\"#000000\" stroke-opacity=\"1\" stroke-width=\"3.2\"/>\n",
       "<circle clip-path=\"url(#clip382)\" cx=\"629.342\" cy=\"1358.26\" r=\"14.4\" fill=\"#e26f46\" fill-rule=\"evenodd\" fill-opacity=\"1\" stroke=\"#000000\" stroke-opacity=\"1\" stroke-width=\"3.2\"/>\n",
       "<circle clip-path=\"url(#clip382)\" cx=\"594.628\" cy=\"1364.47\" r=\"14.4\" fill=\"#e26f46\" fill-rule=\"evenodd\" fill-opacity=\"1\" stroke=\"#000000\" stroke-opacity=\"1\" stroke-width=\"3.2\"/>\n",
       "<circle clip-path=\"url(#clip382)\" cx=\"567.628\" cy=\"1368.73\" r=\"14.4\" fill=\"#e26f46\" fill-rule=\"evenodd\" fill-opacity=\"1\" stroke=\"#000000\" stroke-opacity=\"1\" stroke-width=\"3.2\"/>\n",
       "<circle clip-path=\"url(#clip382)\" cx=\"546.029\" cy=\"1371.77\" r=\"14.4\" fill=\"#e26f46\" fill-rule=\"evenodd\" fill-opacity=\"1\" stroke=\"#000000\" stroke-opacity=\"1\" stroke-width=\"3.2\"/>\n",
       "<circle clip-path=\"url(#clip382)\" cx=\"528.356\" cy=\"1374.03\" r=\"14.4\" fill=\"#e26f46\" fill-rule=\"evenodd\" fill-opacity=\"1\" stroke=\"#000000\" stroke-opacity=\"1\" stroke-width=\"3.2\"/>\n",
       "<circle clip-path=\"url(#clip382)\" cx=\"513.629\" cy=\"1375.74\" r=\"14.4\" fill=\"#e26f46\" fill-rule=\"evenodd\" fill-opacity=\"1\" stroke=\"#000000\" stroke-opacity=\"1\" stroke-width=\"3.2\"/>\n",
       "<circle clip-path=\"url(#clip382)\" cx=\"501.168\" cy=\"1377.07\" r=\"14.4\" fill=\"#e26f46\" fill-rule=\"evenodd\" fill-opacity=\"1\" stroke=\"#000000\" stroke-opacity=\"1\" stroke-width=\"3.2\"/>\n",
       "<circle clip-path=\"url(#clip382)\" cx=\"490.487\" cy=\"1378.13\" r=\"14.4\" fill=\"#e26f46\" fill-rule=\"evenodd\" fill-opacity=\"1\" stroke=\"#000000\" stroke-opacity=\"1\" stroke-width=\"3.2\"/>\n",
       "<circle clip-path=\"url(#clip382)\" cx=\"481.23\" cy=\"1378.99\" r=\"14.4\" fill=\"#e26f46\" fill-rule=\"evenodd\" fill-opacity=\"1\" stroke=\"#000000\" stroke-opacity=\"1\" stroke-width=\"3.2\"/>\n",
       "<circle clip-path=\"url(#clip382)\" cx=\"473.13\" cy=\"1379.69\" r=\"14.4\" fill=\"#e26f46\" fill-rule=\"evenodd\" fill-opacity=\"1\" stroke=\"#000000\" stroke-opacity=\"1\" stroke-width=\"3.2\"/>\n",
       "<circle clip-path=\"url(#clip382)\" cx=\"465.983\" cy=\"1380.26\" r=\"14.4\" fill=\"#e26f46\" fill-rule=\"evenodd\" fill-opacity=\"1\" stroke=\"#000000\" stroke-opacity=\"1\" stroke-width=\"3.2\"/>\n",
       "<circle clip-path=\"url(#clip382)\" cx=\"459.63\" cy=\"1380.75\" r=\"14.4\" fill=\"#e26f46\" fill-rule=\"evenodd\" fill-opacity=\"1\" stroke=\"#000000\" stroke-opacity=\"1\" stroke-width=\"3.2\"/>\n",
       "<circle clip-path=\"url(#clip382)\" cx=\"453.946\" cy=\"1381.16\" r=\"14.4\" fill=\"#e26f46\" fill-rule=\"evenodd\" fill-opacity=\"1\" stroke=\"#000000\" stroke-opacity=\"1\" stroke-width=\"3.2\"/>\n",
       "<circle clip-path=\"url(#clip382)\" cx=\"448.83\" cy=\"1381.51\" r=\"14.4\" fill=\"#e26f46\" fill-rule=\"evenodd\" fill-opacity=\"1\" stroke=\"#000000\" stroke-opacity=\"1\" stroke-width=\"3.2\"/>\n",
       "<circle clip-path=\"url(#clip382)\" cx=\"444.202\" cy=\"1381.81\" r=\"14.4\" fill=\"#e26f46\" fill-rule=\"evenodd\" fill-opacity=\"1\" stroke=\"#000000\" stroke-opacity=\"1\" stroke-width=\"3.2\"/>\n",
       "<circle clip-path=\"url(#clip382)\" cx=\"439.994\" cy=\"1382.07\" r=\"14.4\" fill=\"#e26f46\" fill-rule=\"evenodd\" fill-opacity=\"1\" stroke=\"#000000\" stroke-opacity=\"1\" stroke-width=\"3.2\"/>\n",
       "<circle clip-path=\"url(#clip382)\" cx=\"436.152\" cy=\"1382.3\" r=\"14.4\" fill=\"#e26f46\" fill-rule=\"evenodd\" fill-opacity=\"1\" stroke=\"#000000\" stroke-opacity=\"1\" stroke-width=\"3.2\"/>\n",
       "<circle clip-path=\"url(#clip382)\" cx=\"432.63\" cy=\"1382.5\" r=\"14.4\" fill=\"#e26f46\" fill-rule=\"evenodd\" fill-opacity=\"1\" stroke=\"#000000\" stroke-opacity=\"1\" stroke-width=\"3.2\"/>\n",
       "<circle clip-path=\"url(#clip382)\" cx=\"429.39\" cy=\"1382.68\" r=\"14.4\" fill=\"#e26f46\" fill-rule=\"evenodd\" fill-opacity=\"1\" stroke=\"#000000\" stroke-opacity=\"1\" stroke-width=\"3.2\"/>\n",
       "<circle clip-path=\"url(#clip382)\" cx=\"426.4\" cy=\"1382.84\" r=\"14.4\" fill=\"#e26f46\" fill-rule=\"evenodd\" fill-opacity=\"1\" stroke=\"#000000\" stroke-opacity=\"1\" stroke-width=\"3.2\"/>\n",
       "<circle clip-path=\"url(#clip382)\" cx=\"423.631\" cy=\"1382.98\" r=\"14.4\" fill=\"#e26f46\" fill-rule=\"evenodd\" fill-opacity=\"1\" stroke=\"#000000\" stroke-opacity=\"1\" stroke-width=\"3.2\"/>\n",
       "<circle clip-path=\"url(#clip382)\" cx=\"421.059\" cy=\"1383.1\" r=\"14.4\" fill=\"#e26f46\" fill-rule=\"evenodd\" fill-opacity=\"1\" stroke=\"#000000\" stroke-opacity=\"1\" stroke-width=\"3.2\"/>\n",
       "<circle clip-path=\"url(#clip382)\" cx=\"418.665\" cy=\"1383.21\" r=\"14.4\" fill=\"#e26f46\" fill-rule=\"evenodd\" fill-opacity=\"1\" stroke=\"#000000\" stroke-opacity=\"1\" stroke-width=\"3.2\"/>\n",
       "<circle clip-path=\"url(#clip382)\" cx=\"416.431\" cy=\"1383.31\" r=\"14.4\" fill=\"#e26f46\" fill-rule=\"evenodd\" fill-opacity=\"1\" stroke=\"#000000\" stroke-opacity=\"1\" stroke-width=\"3.2\"/>\n",
       "<circle clip-path=\"url(#clip382)\" cx=\"414.34\" cy=\"1383.41\" r=\"14.4\" fill=\"#e26f46\" fill-rule=\"evenodd\" fill-opacity=\"1\" stroke=\"#000000\" stroke-opacity=\"1\" stroke-width=\"3.2\"/>\n",
       "<circle clip-path=\"url(#clip382)\" cx=\"412.381\" cy=\"1383.49\" r=\"14.4\" fill=\"#e26f46\" fill-rule=\"evenodd\" fill-opacity=\"1\" stroke=\"#000000\" stroke-opacity=\"1\" stroke-width=\"3.2\"/>\n",
       "<circle clip-path=\"url(#clip382)\" cx=\"410.54\" cy=\"1383.57\" r=\"14.4\" fill=\"#e26f46\" fill-rule=\"evenodd\" fill-opacity=\"1\" stroke=\"#000000\" stroke-opacity=\"1\" stroke-width=\"3.2\"/>\n",
       "<circle clip-path=\"url(#clip382)\" cx=\"408.807\" cy=\"1383.63\" r=\"14.4\" fill=\"#e26f46\" fill-rule=\"evenodd\" fill-opacity=\"1\" stroke=\"#000000\" stroke-opacity=\"1\" stroke-width=\"3.2\"/>\n",
       "<circle clip-path=\"url(#clip382)\" cx=\"407.174\" cy=\"1383.7\" r=\"14.4\" fill=\"#e26f46\" fill-rule=\"evenodd\" fill-opacity=\"1\" stroke=\"#000000\" stroke-opacity=\"1\" stroke-width=\"3.2\"/>\n",
       "<circle clip-path=\"url(#clip382)\" cx=\"405.631\" cy=\"1383.76\" r=\"14.4\" fill=\"#e26f46\" fill-rule=\"evenodd\" fill-opacity=\"1\" stroke=\"#000000\" stroke-opacity=\"1\" stroke-width=\"3.2\"/>\n",
       "<circle clip-path=\"url(#clip382)\" cx=\"404.171\" cy=\"1383.81\" r=\"14.4\" fill=\"#e26f46\" fill-rule=\"evenodd\" fill-opacity=\"1\" stroke=\"#000000\" stroke-opacity=\"1\" stroke-width=\"3.2\"/>\n",
       "<circle clip-path=\"url(#clip382)\" cx=\"402.789\" cy=\"1383.86\" r=\"14.4\" fill=\"#e26f46\" fill-rule=\"evenodd\" fill-opacity=\"1\" stroke=\"#000000\" stroke-opacity=\"1\" stroke-width=\"3.2\"/>\n",
       "<circle clip-path=\"url(#clip382)\" cx=\"401.477\" cy=\"1383.9\" r=\"14.4\" fill=\"#e26f46\" fill-rule=\"evenodd\" fill-opacity=\"1\" stroke=\"#000000\" stroke-opacity=\"1\" stroke-width=\"3.2\"/>\n",
       "<circle clip-path=\"url(#clip382)\" cx=\"400.231\" cy=\"1383.95\" r=\"14.4\" fill=\"#e26f46\" fill-rule=\"evenodd\" fill-opacity=\"1\" stroke=\"#000000\" stroke-opacity=\"1\" stroke-width=\"3.2\"/>\n",
       "<circle clip-path=\"url(#clip382)\" cx=\"399.046\" cy=\"1383.99\" r=\"14.4\" fill=\"#e26f46\" fill-rule=\"evenodd\" fill-opacity=\"1\" stroke=\"#000000\" stroke-opacity=\"1\" stroke-width=\"3.2\"/>\n",
       "<circle clip-path=\"url(#clip382)\" cx=\"397.917\" cy=\"1384.02\" r=\"14.4\" fill=\"#e26f46\" fill-rule=\"evenodd\" fill-opacity=\"1\" stroke=\"#000000\" stroke-opacity=\"1\" stroke-width=\"3.2\"/>\n",
       "<circle clip-path=\"url(#clip382)\" cx=\"396.84\" cy=\"1384.06\" r=\"14.4\" fill=\"#e26f46\" fill-rule=\"evenodd\" fill-opacity=\"1\" stroke=\"#000000\" stroke-opacity=\"1\" stroke-width=\"3.2\"/>\n",
       "<circle clip-path=\"url(#clip382)\" cx=\"395.813\" cy=\"1384.09\" r=\"14.4\" fill=\"#e26f46\" fill-rule=\"evenodd\" fill-opacity=\"1\" stroke=\"#000000\" stroke-opacity=\"1\" stroke-width=\"3.2\"/>\n",
       "<circle clip-path=\"url(#clip382)\" cx=\"394.831\" cy=\"1384.12\" r=\"14.4\" fill=\"#e26f46\" fill-rule=\"evenodd\" fill-opacity=\"1\" stroke=\"#000000\" stroke-opacity=\"1\" stroke-width=\"3.2\"/>\n",
       "<circle clip-path=\"url(#clip382)\" cx=\"393.892\" cy=\"1384.14\" r=\"14.4\" fill=\"#e26f46\" fill-rule=\"evenodd\" fill-opacity=\"1\" stroke=\"#000000\" stroke-opacity=\"1\" stroke-width=\"3.2\"/>\n",
       "<circle clip-path=\"url(#clip382)\" cx=\"392.993\" cy=\"1384.17\" r=\"14.4\" fill=\"#e26f46\" fill-rule=\"evenodd\" fill-opacity=\"1\" stroke=\"#000000\" stroke-opacity=\"1\" stroke-width=\"3.2\"/>\n",
       "<circle clip-path=\"url(#clip382)\" cx=\"392.131\" cy=\"1384.19\" r=\"14.4\" fill=\"#e26f46\" fill-rule=\"evenodd\" fill-opacity=\"1\" stroke=\"#000000\" stroke-opacity=\"1\" stroke-width=\"3.2\"/>\n",
       "<circle clip-path=\"url(#clip382)\" cx=\"391.304\" cy=\"1384.22\" r=\"14.4\" fill=\"#e26f46\" fill-rule=\"evenodd\" fill-opacity=\"1\" stroke=\"#000000\" stroke-opacity=\"1\" stroke-width=\"3.2\"/>\n",
       "<circle clip-path=\"url(#clip382)\" cx=\"390.511\" cy=\"1384.24\" r=\"14.4\" fill=\"#e26f46\" fill-rule=\"evenodd\" fill-opacity=\"1\" stroke=\"#000000\" stroke-opacity=\"1\" stroke-width=\"3.2\"/>\n",
       "</svg>\n"
      ]
     },
     "execution_count": 76,
     "metadata": {},
     "output_type": "execute_result"
    }
   ],
   "source": [
    "plot(1 ./nvals,tvals.-0.25,xlabel=\"1/n\",ylabel=L\"$\\int_0^1x^3dx$-0.25\",legend=false)\n",
    "scatter!(1 ./nvals,tvals.-0.25)"
   ]
  },
  {
   "cell_type": "markdown",
   "id": "11ed1761-66b7-4320-86b6-493c6449f6b5",
   "metadata": {},
   "source": [
    "The notation `tvals.-0.25` or `1 ./nvals` means to apply the operation elementwise."
   ]
  },
  {
   "cell_type": "code",
   "execution_count": null,
   "id": "9de6cd46-24da-4f2a-ae02-dd5e1ac11cd1",
   "metadata": {},
   "outputs": [],
   "source": [
    "x=(1,2,3)"
   ]
  },
  {
   "cell_type": "code",
   "execution_count": null,
   "id": "54bc4009-dc25-44a1-b14b-7dc07c343f10",
   "metadata": {},
   "outputs": [],
   "source": [
    "x .-0.25"
   ]
  },
  {
   "cell_type": "code",
   "execution_count": null,
   "id": "6d7d0fc7-3de7-4274-8d9c-337d92d1185d",
   "metadata": {},
   "outputs": [],
   "source": [
    "x-0.25"
   ]
  },
  {
   "cell_type": "markdown",
   "id": "1c172ed7-f26b-4b18-a9f0-b0239a4b40cd",
   "metadata": {},
   "source": [
    "Aside over -- Lets now look at that plot"
   ]
  },
  {
   "cell_type": "code",
   "execution_count": 77,
   "id": "dca757b8-6054-4f3b-bfd2-76ef3dd86ee5",
   "metadata": {},
   "outputs": [
    {
     "data": {
      "image/png": "[encoded data removed]",
      "image/svg+xml": [
       "<?xml version=\"1.0\" encoding=\"utf-8\"?>\n",
       "<svg xmlns=\"http://www.w3.org/2000/svg\" xmlns:xlink=\"http://www.w3.org/1999/xlink\" width=\"600\" height=\"400\" viewBox=\"0 0 2400 1600\">\n",
       "<defs>\n",
       "  <clipPath id=\"clip420\">\n",
       "    <rect x=\"0\" y=\"0\" width=\"2400\" height=\"1600\"/>\n",
       "  </clipPath>\n",
       "</defs>\n",
       "<path clip-path=\"url(#clip420)\" d=\"M0 1600 L2400 1600 L2400 8.88178e-14 L0 8.88178e-14  Z\" fill=\"#ffffff\" fill-rule=\"evenodd\" fill-opacity=\"1\"/>\n",
       "<defs>\n",
       "  <clipPath id=\"clip421\">\n",
       "    <rect x=\"480\" y=\"0\" width=\"1681\" height=\"1600\"/>\n",
       "  </clipPath>\n",
       "</defs>\n",
       "<path clip-path=\"url(#clip420)\" d=\"M333.358 1423.18 L2352.76 1423.18 L2352.76 47.2441 L333.358 47.2441  Z\" fill=\"#ffffff\" fill-rule=\"evenodd\" fill-opacity=\"1\"/>\n",
       "<defs>\n",
       "  <clipPath id=\"clip422\">\n",
       "    <rect x=\"333\" y=\"47\" width=\"2020\" height=\"1377\"/>\n",
       "  </clipPath>\n",
       "</defs>\n",
       "<polyline clip-path=\"url(#clip422)\" style=\"stroke:#000000; stroke-linecap:round; stroke-linejoin:round; stroke-width:2; stroke-opacity:0.1; fill:none\" points=\"351.632,1423.18 351.632,47.2441 \"/>\n",
       "<polyline clip-path=\"url(#clip422)\" style=\"stroke:#000000; stroke-linecap:round; stroke-linejoin:round; stroke-width:2; stroke-opacity:0.1; fill:none\" points=\"837.624,1423.18 837.624,47.2441 \"/>\n",
       "<polyline clip-path=\"url(#clip422)\" style=\"stroke:#000000; stroke-linecap:round; stroke-linejoin:round; stroke-width:2; stroke-opacity:0.1; fill:none\" points=\"1323.62,1423.18 1323.62,47.2441 \"/>\n",
       "<polyline clip-path=\"url(#clip422)\" style=\"stroke:#000000; stroke-linecap:round; stroke-linejoin:round; stroke-width:2; stroke-opacity:0.1; fill:none\" points=\"1809.61,1423.18 1809.61,47.2441 \"/>\n",
       "<polyline clip-path=\"url(#clip422)\" style=\"stroke:#000000; stroke-linecap:round; stroke-linejoin:round; stroke-width:2; stroke-opacity:0.1; fill:none\" points=\"2295.6,1423.18 2295.6,47.2441 \"/>\n",
       "<polyline clip-path=\"url(#clip420)\" style=\"stroke:#000000; stroke-linecap:round; stroke-linejoin:round; stroke-width:4; stroke-opacity:1; fill:none\" points=\"333.358,1423.18 2352.76,1423.18 \"/>\n",
       "<polyline clip-path=\"url(#clip420)\" style=\"stroke:#000000; stroke-linecap:round; stroke-linejoin:round; stroke-width:4; stroke-opacity:1; fill:none\" points=\"351.632,1423.18 351.632,1404.28 \"/>\n",
       "<polyline clip-path=\"url(#clip420)\" style=\"stroke:#000000; stroke-linecap:round; stroke-linejoin:round; stroke-width:4; stroke-opacity:1; fill:none\" points=\"837.624,1423.18 837.624,1404.28 \"/>\n",
       "<polyline clip-path=\"url(#clip420)\" style=\"stroke:#000000; stroke-linecap:round; stroke-linejoin:round; stroke-width:4; stroke-opacity:1; fill:none\" points=\"1323.62,1423.18 1323.62,1404.28 \"/>\n",
       "<polyline clip-path=\"url(#clip420)\" style=\"stroke:#000000; stroke-linecap:round; stroke-linejoin:round; stroke-width:4; stroke-opacity:1; fill:none\" points=\"1809.61,1423.18 1809.61,1404.28 \"/>\n",
       "<polyline clip-path=\"url(#clip420)\" style=\"stroke:#000000; stroke-linecap:round; stroke-linejoin:round; stroke-width:4; stroke-opacity:1; fill:none\" points=\"2295.6,1423.18 2295.6,1404.28 \"/>\n",
       "<path clip-path=\"url(#clip420)\" d=\"M313.935 1454.1 Q310.324 1454.1 308.495 1457.66 Q306.69 1461.2 306.69 1468.33 Q306.69 1475.44 308.495 1479.01 Q310.324 1482.55 313.935 1482.55 Q317.569 1482.55 319.375 1479.01 Q321.203 1475.44 321.203 1468.33 Q321.203 1461.2 319.375 1457.66 Q317.569 1454.1 313.935 1454.1 M313.935 1450.39 Q319.745 1450.39 322.801 1455 Q325.879 1459.58 325.879 1468.33 Q325.879 1477.06 322.801 1481.67 Q319.745 1486.25 313.935 1486.25 Q308.125 1486.25 305.046 1481.67 Q301.991 1477.06 301.991 1468.33 Q301.991 1459.58 305.046 1455 Q308.125 1450.39 313.935 1450.39 Z\" fill=\"#000000\" fill-rule=\"nonzero\" fill-opacity=\"1\" /><path clip-path=\"url(#clip420)\" d=\"M334.097 1479.7 L338.981 1479.7 L338.981 1485.58 L334.097 1485.58 L334.097 1479.7 Z\" fill=\"#000000\" fill-rule=\"nonzero\" fill-opacity=\"1\" /><path clip-path=\"url(#clip420)\" d=\"M359.166 1454.1 Q355.555 1454.1 353.726 1457.66 Q351.921 1461.2 351.921 1468.33 Q351.921 1475.44 353.726 1479.01 Q355.555 1482.55 359.166 1482.55 Q362.8 1482.55 364.606 1479.01 Q366.435 1475.44 366.435 1468.33 Q366.435 1461.2 364.606 1457.66 Q362.8 1454.1 359.166 1454.1 M359.166 1450.39 Q364.976 1450.39 368.032 1455 Q371.111 1459.58 371.111 1468.33 Q371.111 1477.06 368.032 1481.67 Q364.976 1486.25 359.166 1486.25 Q353.356 1486.25 350.277 1481.67 Q347.222 1477.06 347.222 1468.33 Q347.222 1459.58 350.277 1455 Q353.356 1450.39 359.166 1450.39 Z\" fill=\"#000000\" fill-rule=\"nonzero\" fill-opacity=\"1\" /><path clip-path=\"url(#clip420)\" d=\"M389.328 1454.1 Q385.717 1454.1 383.888 1457.66 Q382.083 1461.2 382.083 1468.33 Q382.083 1475.44 383.888 1479.01 Q385.717 1482.55 389.328 1482.55 Q392.962 1482.55 394.768 1479.01 Q396.597 1475.44 396.597 1468.33 Q396.597 1461.2 394.768 1457.66 Q392.962 1454.1 389.328 1454.1 M389.328 1450.39 Q395.138 1450.39 398.194 1455 Q401.273 1459.58 401.273 1468.33 Q401.273 1477.06 398.194 1481.67 Q395.138 1486.25 389.328 1486.25 Q383.518 1486.25 380.439 1481.67 Q377.384 1477.06 377.384 1468.33 Q377.384 1459.58 380.439 1455 Q383.518 1450.39 389.328 1450.39 Z\" fill=\"#000000\" fill-rule=\"nonzero\" fill-opacity=\"1\" /><path clip-path=\"url(#clip420)\" d=\"M800.426 1454.1 Q796.814 1454.1 794.986 1457.66 Q793.18 1461.2 793.18 1468.33 Q793.18 1475.44 794.986 1479.01 Q796.814 1482.55 800.426 1482.55 Q804.06 1482.55 805.865 1479.01 Q807.694 1475.44 807.694 1468.33 Q807.694 1461.2 805.865 1457.66 Q804.06 1454.1 800.426 1454.1 M800.426 1450.39 Q806.236 1450.39 809.291 1455 Q812.37 1459.58 812.37 1468.33 Q812.37 1477.06 809.291 1481.67 Q806.236 1486.25 800.426 1486.25 Q794.615 1486.25 791.537 1481.67 Q788.481 1477.06 788.481 1468.33 Q788.481 1459.58 791.537 1455 Q794.615 1450.39 800.426 1450.39 Z\" fill=\"#000000\" fill-rule=\"nonzero\" fill-opacity=\"1\" /><path clip-path=\"url(#clip420)\" d=\"M820.588 1479.7 L825.472 1479.7 L825.472 1485.58 L820.588 1485.58 L820.588 1479.7 Z\" fill=\"#000000\" fill-rule=\"nonzero\" fill-opacity=\"1\" /><path clip-path=\"url(#clip420)\" d=\"M839.685 1481.64 L856.004 1481.64 L856.004 1485.58 L834.06 1485.58 L834.06 1481.64 Q836.722 1478.89 841.305 1474.26 Q845.911 1469.61 847.092 1468.27 Q849.337 1465.74 850.217 1464.01 Q851.12 1462.25 851.12 1460.56 Q851.12 1457.8 849.175 1456.07 Q847.254 1454.33 844.152 1454.33 Q841.953 1454.33 839.499 1455.09 Q837.069 1455.86 834.291 1457.41 L834.291 1452.69 Q837.115 1451.55 839.569 1450.97 Q842.023 1450.39 844.06 1450.39 Q849.43 1450.39 852.624 1453.08 Q855.819 1455.77 855.819 1460.26 Q855.819 1462.39 855.009 1464.31 Q854.222 1466.2 852.115 1468.8 Q851.536 1469.47 848.435 1472.69 Q845.333 1475.88 839.685 1481.64 Z\" fill=\"#000000\" fill-rule=\"nonzero\" fill-opacity=\"1\" /><path clip-path=\"url(#clip420)\" d=\"M865.865 1451.02 L884.221 1451.02 L884.221 1454.96 L870.147 1454.96 L870.147 1463.43 Q871.166 1463.08 872.184 1462.92 Q873.203 1462.73 874.221 1462.73 Q880.008 1462.73 883.388 1465.9 Q886.768 1469.08 886.768 1474.49 Q886.768 1480.07 883.296 1483.17 Q879.823 1486.25 873.504 1486.25 Q871.328 1486.25 869.059 1485.88 Q866.814 1485.51 864.407 1484.77 L864.407 1480.07 Q866.49 1481.2 868.712 1481.76 Q870.934 1482.32 873.411 1482.32 Q877.416 1482.32 879.754 1480.21 Q882.092 1478.1 882.092 1474.49 Q882.092 1470.88 879.754 1468.77 Q877.416 1466.67 873.411 1466.67 Q871.536 1466.67 869.661 1467.08 Q867.809 1467.5 865.865 1468.38 L865.865 1451.02 Z\" fill=\"#000000\" fill-rule=\"nonzero\" fill-opacity=\"1\" /><path clip-path=\"url(#clip420)\" d=\"M1285.92 1454.1 Q1282.31 1454.1 1280.48 1457.66 Q1278.68 1461.2 1278.68 1468.33 Q1278.68 1475.44 1280.48 1479.01 Q1282.31 1482.55 1285.92 1482.55 Q1289.56 1482.55 1291.36 1479.01 Q1293.19 1475.44 1293.19 1468.33 Q1293.19 1461.2 1291.36 1457.66 Q1289.56 1454.1 1285.92 1454.1 M1285.92 1450.39 Q1291.73 1450.39 1294.79 1455 Q1297.87 1459.58 1297.87 1468.33 Q1297.87 1477.06 1294.79 1481.67 Q1291.73 1486.25 1285.92 1486.25 Q1280.11 1486.25 1277.03 1481.67 Q1273.98 1477.06 1273.98 1468.33 Q1273.98 1459.58 1277.03 1455 Q1280.11 1450.39 1285.92 1450.39 Z\" fill=\"#000000\" fill-rule=\"nonzero\" fill-opacity=\"1\" /><path clip-path=\"url(#clip420)\" d=\"M1306.08 1479.7 L1310.97 1479.7 L1310.97 1485.58 L1306.08 1485.58 L1306.08 1479.7 Z\" fill=\"#000000\" fill-rule=\"nonzero\" fill-opacity=\"1\" /><path clip-path=\"url(#clip420)\" d=\"M1321.2 1451.02 L1339.55 1451.02 L1339.55 1454.96 L1325.48 1454.96 L1325.48 1463.43 Q1326.5 1463.08 1327.52 1462.92 Q1328.54 1462.73 1329.55 1462.73 Q1335.34 1462.73 1338.72 1465.9 Q1342.1 1469.08 1342.1 1474.49 Q1342.1 1480.07 1338.63 1483.17 Q1335.16 1486.25 1328.84 1486.25 Q1326.66 1486.25 1324.39 1485.88 Q1322.15 1485.51 1319.74 1484.77 L1319.74 1480.07 Q1321.82 1481.2 1324.05 1481.76 Q1326.27 1482.32 1328.74 1482.32 Q1332.75 1482.32 1335.09 1480.21 Q1337.43 1478.1 1337.43 1474.49 Q1337.43 1470.88 1335.09 1468.77 Q1332.75 1466.67 1328.74 1466.67 Q1326.87 1466.67 1324.99 1467.08 Q1323.14 1467.5 1321.2 1468.38 L1321.2 1451.02 Z\" fill=\"#000000\" fill-rule=\"nonzero\" fill-opacity=\"1\" /><path clip-path=\"url(#clip420)\" d=\"M1361.31 1454.1 Q1357.7 1454.1 1355.87 1457.66 Q1354.07 1461.2 1354.07 1468.33 Q1354.07 1475.44 1355.87 1479.01 Q1357.7 1482.55 1361.31 1482.55 Q1364.95 1482.55 1366.75 1479.01 Q1368.58 1475.44 1368.58 1468.33 Q1368.58 1461.2 1366.75 1457.66 Q1364.95 1454.1 1361.31 1454.1 M1361.31 1450.39 Q1367.12 1450.39 1370.18 1455 Q1373.26 1459.58 1373.26 1468.33 Q1373.26 1477.06 1370.18 1481.67 Q1367.12 1486.25 1361.31 1486.25 Q1355.5 1486.25 1352.43 1481.67 Q1349.37 1477.06 1349.37 1468.33 Q1349.37 1459.58 1352.43 1455 Q1355.5 1450.39 1361.31 1450.39 Z\" fill=\"#000000\" fill-rule=\"nonzero\" fill-opacity=\"1\" /><path clip-path=\"url(#clip420)\" d=\"M1772.41 1454.1 Q1768.8 1454.1 1766.97 1457.66 Q1765.17 1461.2 1765.17 1468.33 Q1765.17 1475.44 1766.97 1479.01 Q1768.8 1482.55 1772.41 1482.55 Q1776.05 1482.55 1777.85 1479.01 Q1779.68 1475.44 1779.68 1468.33 Q1779.68 1461.2 1777.85 1457.66 Q1776.05 1454.1 1772.41 1454.1 M1772.41 1450.39 Q1778.22 1450.39 1781.28 1455 Q1784.36 1459.58 1784.36 1468.33 Q1784.36 1477.06 1781.28 1481.67 Q1778.22 1486.25 1772.41 1486.25 Q1766.6 1486.25 1763.52 1481.67 Q1760.47 1477.06 1760.47 1468.33 Q1760.47 1459.58 1763.52 1455 Q1766.6 1450.39 1772.41 1450.39 Z\" fill=\"#000000\" fill-rule=\"nonzero\" fill-opacity=\"1\" /><path clip-path=\"url(#clip420)\" d=\"M1792.57 1479.7 L1797.46 1479.7 L1797.46 1485.58 L1792.57 1485.58 L1792.57 1479.7 Z\" fill=\"#000000\" fill-rule=\"nonzero\" fill-opacity=\"1\" /><path clip-path=\"url(#clip420)\" d=\"M1806.46 1451.02 L1828.68 1451.02 L1828.68 1453.01 L1816.14 1485.58 L1811.25 1485.58 L1823.06 1454.96 L1806.46 1454.96 L1806.46 1451.02 Z\" fill=\"#000000\" fill-rule=\"nonzero\" fill-opacity=\"1\" /><path clip-path=\"url(#clip420)\" d=\"M1837.85 1451.02 L1856.21 1451.02 L1856.21 1454.96 L1842.13 1454.96 L1842.13 1463.43 Q1843.15 1463.08 1844.17 1462.92 Q1845.19 1462.73 1846.21 1462.73 Q1851.99 1462.73 1855.37 1465.9 Q1858.75 1469.08 1858.75 1474.49 Q1858.75 1480.07 1855.28 1483.17 Q1851.81 1486.25 1845.49 1486.25 Q1843.31 1486.25 1841.05 1485.88 Q1838.8 1485.51 1836.39 1484.77 L1836.39 1480.07 Q1838.48 1481.2 1840.7 1481.76 Q1842.92 1482.32 1845.4 1482.32 Q1849.4 1482.32 1851.74 1480.21 Q1854.08 1478.1 1854.08 1474.49 Q1854.08 1470.88 1851.74 1468.77 Q1849.4 1466.67 1845.4 1466.67 Q1843.52 1466.67 1841.65 1467.08 Q1839.8 1467.5 1837.85 1468.38 L1837.85 1451.02 Z\" fill=\"#000000\" fill-rule=\"nonzero\" fill-opacity=\"1\" /><path clip-path=\"url(#clip420)\" d=\"M2247.68 1481.64 L2255.31 1481.64 L2255.31 1455.28 L2247 1456.95 L2247 1452.69 L2255.27 1451.02 L2259.94 1451.02 L2259.94 1481.64 L2267.58 1481.64 L2267.58 1485.58 L2247.68 1485.58 L2247.68 1481.64 Z\" fill=\"#000000\" fill-rule=\"nonzero\" fill-opacity=\"1\" /><path clip-path=\"url(#clip420)\" d=\"M2277.03 1479.7 L2281.91 1479.7 L2281.91 1485.58 L2277.03 1485.58 L2277.03 1479.7 Z\" fill=\"#000000\" fill-rule=\"nonzero\" fill-opacity=\"1\" /><path clip-path=\"url(#clip420)\" d=\"M2302.1 1454.1 Q2298.49 1454.1 2296.66 1457.66 Q2294.85 1461.2 2294.85 1468.33 Q2294.85 1475.44 2296.66 1479.01 Q2298.49 1482.55 2302.1 1482.55 Q2305.73 1482.55 2307.54 1479.01 Q2309.36 1475.44 2309.36 1468.33 Q2309.36 1461.2 2307.54 1457.66 Q2305.73 1454.1 2302.1 1454.1 M2302.1 1450.39 Q2307.91 1450.39 2310.96 1455 Q2314.04 1459.58 2314.04 1468.33 Q2314.04 1477.06 2310.96 1481.67 Q2307.91 1486.25 2302.1 1486.25 Q2296.29 1486.25 2293.21 1481.67 Q2290.15 1477.06 2290.15 1468.33 Q2290.15 1459.58 2293.21 1455 Q2296.29 1450.39 2302.1 1450.39 Z\" fill=\"#000000\" fill-rule=\"nonzero\" fill-opacity=\"1\" /><path clip-path=\"url(#clip420)\" d=\"M2332.26 1454.1 Q2328.65 1454.1 2326.82 1457.66 Q2325.01 1461.2 2325.01 1468.33 Q2325.01 1475.44 2326.82 1479.01 Q2328.65 1482.55 2332.26 1482.55 Q2335.89 1482.55 2337.7 1479.01 Q2339.53 1475.44 2339.53 1468.33 Q2339.53 1461.2 2337.7 1457.66 Q2335.89 1454.1 2332.26 1454.1 M2332.26 1450.39 Q2338.07 1450.39 2341.12 1455 Q2344.2 1459.58 2344.2 1468.33 Q2344.2 1477.06 2341.12 1481.67 Q2338.07 1486.25 2332.26 1486.25 Q2326.45 1486.25 2323.37 1481.67 Q2320.31 1477.06 2320.31 1468.33 Q2320.31 1459.58 2323.37 1455 Q2326.45 1450.39 2332.26 1450.39 Z\" fill=\"#000000\" fill-rule=\"nonzero\" fill-opacity=\"1\" /><path clip-path=\"url(#clip420)\" d=\"M1297.96 1562.63 L1308.46 1562.63 L1308.46 1526.38 L1297.03 1528.67 L1297.03 1522.82 L1308.4 1520.52 L1314.83 1520.52 L1314.83 1562.63 L1325.33 1562.63 L1325.33 1568.04 L1297.96 1568.04 L1297.96 1562.63 Z\" fill=\"#000000\" fill-rule=\"nonzero\" fill-opacity=\"1\" /><path clip-path=\"url(#clip420)\" d=\"M1347.9 1520.52 L1353.31 1520.52 L1336.76 1574.09 L1331.34 1574.09 L1347.9 1520.52 Z\" fill=\"#000000\" fill-rule=\"nonzero\" fill-opacity=\"1\" /><path clip-path=\"url(#clip420)\" d=\"M1389.08 1546.53 L1389.08 1568.04 L1383.22 1568.04 L1383.22 1546.72 Q1383.22 1541.66 1381.25 1539.14 Q1379.28 1536.63 1375.33 1536.63 Q1370.59 1536.63 1367.85 1539.65 Q1365.11 1542.68 1365.11 1547.9 L1365.11 1568.04 L1359.23 1568.04 L1359.23 1532.4 L1365.11 1532.4 L1365.11 1537.93 Q1367.21 1534.72 1370.05 1533.13 Q1372.91 1531.54 1376.64 1531.54 Q1382.78 1531.54 1385.93 1535.36 Q1389.08 1539.14 1389.08 1546.53 Z\" fill=\"#000000\" fill-rule=\"nonzero\" fill-opacity=\"1\" /><polyline clip-path=\"url(#clip422)\" style=\"stroke:#000000; stroke-linecap:round; stroke-linejoin:round; stroke-width:2; stroke-opacity:0.1; fill:none\" points=\"333.358,1384.76 2352.76,1384.76 \"/>\n",
       "<polyline clip-path=\"url(#clip422)\" style=\"stroke:#000000; stroke-linecap:round; stroke-linejoin:round; stroke-width:2; stroke-opacity:0.1; fill:none\" points=\"333.358,1125.04 2352.76,1125.04 \"/>\n",
       "<polyline clip-path=\"url(#clip422)\" style=\"stroke:#000000; stroke-linecap:round; stroke-linejoin:round; stroke-width:2; stroke-opacity:0.1; fill:none\" points=\"333.358,865.329 2352.76,865.329 \"/>\n",
       "<polyline clip-path=\"url(#clip422)\" style=\"stroke:#000000; stroke-linecap:round; stroke-linejoin:round; stroke-width:2; stroke-opacity:0.1; fill:none\" points=\"333.358,605.614 2352.76,605.614 \"/>\n",
       "<polyline clip-path=\"url(#clip422)\" style=\"stroke:#000000; stroke-linecap:round; stroke-linejoin:round; stroke-width:2; stroke-opacity:0.1; fill:none\" points=\"333.358,345.9 2352.76,345.9 \"/>\n",
       "<polyline clip-path=\"url(#clip422)\" style=\"stroke:#000000; stroke-linecap:round; stroke-linejoin:round; stroke-width:2; stroke-opacity:0.1; fill:none\" points=\"333.358,86.1857 2352.76,86.1857 \"/>\n",
       "<polyline clip-path=\"url(#clip420)\" style=\"stroke:#000000; stroke-linecap:round; stroke-linejoin:round; stroke-width:4; stroke-opacity:1; fill:none\" points=\"333.358,1423.18 333.358,47.2441 \"/>\n",
       "<polyline clip-path=\"url(#clip420)\" style=\"stroke:#000000; stroke-linecap:round; stroke-linejoin:round; stroke-width:4; stroke-opacity:1; fill:none\" points=\"333.358,1384.76 352.256,1384.76 \"/>\n",
       "<polyline clip-path=\"url(#clip420)\" style=\"stroke:#000000; stroke-linecap:round; stroke-linejoin:round; stroke-width:4; stroke-opacity:1; fill:none\" points=\"333.358,1125.04 352.256,1125.04 \"/>\n",
       "<polyline clip-path=\"url(#clip420)\" style=\"stroke:#000000; stroke-linecap:round; stroke-linejoin:round; stroke-width:4; stroke-opacity:1; fill:none\" points=\"333.358,865.329 352.256,865.329 \"/>\n",
       "<polyline clip-path=\"url(#clip420)\" style=\"stroke:#000000; stroke-linecap:round; stroke-linejoin:round; stroke-width:4; stroke-opacity:1; fill:none\" points=\"333.358,605.614 352.256,605.614 \"/>\n",
       "<polyline clip-path=\"url(#clip420)\" style=\"stroke:#000000; stroke-linecap:round; stroke-linejoin:round; stroke-width:4; stroke-opacity:1; fill:none\" points=\"333.358,345.9 352.256,345.9 \"/>\n",
       "<polyline clip-path=\"url(#clip420)\" style=\"stroke:#000000; stroke-linecap:round; stroke-linejoin:round; stroke-width:4; stroke-opacity:1; fill:none\" points=\"333.358,86.1857 352.256,86.1857 \"/>\n",
       "<path clip-path=\"url(#clip420)\" d=\"M210.021 1370.56 Q206.41 1370.56 204.581 1374.12 Q202.775 1377.66 202.775 1384.79 Q202.775 1391.9 204.581 1395.46 Q206.41 1399.01 210.021 1399.01 Q213.655 1399.01 215.461 1395.46 Q217.289 1391.9 217.289 1384.79 Q217.289 1377.66 215.461 1374.12 Q213.655 1370.56 210.021 1370.56 M210.021 1366.85 Q215.831 1366.85 218.886 1371.46 Q221.965 1376.04 221.965 1384.79 Q221.965 1393.52 218.886 1398.13 Q215.831 1402.71 210.021 1402.71 Q204.211 1402.71 201.132 1398.13 Q198.076 1393.52 198.076 1384.79 Q198.076 1376.04 201.132 1371.46 Q204.211 1366.85 210.021 1366.85 Z\" fill=\"#000000\" fill-rule=\"nonzero\" fill-opacity=\"1\" /><path clip-path=\"url(#clip420)\" d=\"M230.183 1396.16 L235.067 1396.16 L235.067 1402.04 L230.183 1402.04 L230.183 1396.16 Z\" fill=\"#000000\" fill-rule=\"nonzero\" fill-opacity=\"1\" /><path clip-path=\"url(#clip420)\" d=\"M255.252 1370.56 Q251.641 1370.56 249.812 1374.12 Q248.007 1377.66 248.007 1384.79 Q248.007 1391.9 249.812 1395.46 Q251.641 1399.01 255.252 1399.01 Q258.886 1399.01 260.692 1395.46 Q262.52 1391.9 262.52 1384.79 Q262.52 1377.66 260.692 1374.12 Q258.886 1370.56 255.252 1370.56 M255.252 1366.85 Q261.062 1366.85 264.118 1371.46 Q267.196 1376.04 267.196 1384.79 Q267.196 1393.52 264.118 1398.13 Q261.062 1402.71 255.252 1402.71 Q249.442 1402.71 246.363 1398.13 Q243.308 1393.52 243.308 1384.79 Q243.308 1376.04 246.363 1371.46 Q249.442 1366.85 255.252 1366.85 Z\" fill=\"#000000\" fill-rule=\"nonzero\" fill-opacity=\"1\" /><path clip-path=\"url(#clip420)\" d=\"M285.414 1370.56 Q281.803 1370.56 279.974 1374.12 Q278.169 1377.66 278.169 1384.79 Q278.169 1391.9 279.974 1395.46 Q281.803 1399.01 285.414 1399.01 Q289.048 1399.01 290.854 1395.46 Q292.682 1391.9 292.682 1384.79 Q292.682 1377.66 290.854 1374.12 Q289.048 1370.56 285.414 1370.56 M285.414 1366.85 Q291.224 1366.85 294.28 1371.46 Q297.358 1376.04 297.358 1384.79 Q297.358 1393.52 294.28 1398.13 Q291.224 1402.71 285.414 1402.71 Q279.604 1402.71 276.525 1398.13 Q273.469 1393.52 273.469 1384.79 Q273.469 1376.04 276.525 1371.46 Q279.604 1366.85 285.414 1366.85 Z\" fill=\"#000000\" fill-rule=\"nonzero\" fill-opacity=\"1\" /><path clip-path=\"url(#clip420)\" d=\"M211.016 1110.84 Q207.405 1110.84 205.576 1114.41 Q203.771 1117.95 203.771 1125.08 Q203.771 1132.18 205.576 1135.75 Q207.405 1139.29 211.016 1139.29 Q214.65 1139.29 216.456 1135.75 Q218.285 1132.18 218.285 1125.08 Q218.285 1117.95 216.456 1114.41 Q214.65 1110.84 211.016 1110.84 M211.016 1107.14 Q216.826 1107.14 219.882 1111.74 Q222.96 1116.33 222.96 1125.08 Q222.96 1133.8 219.882 1138.41 Q216.826 1142.99 211.016 1142.99 Q205.206 1142.99 202.127 1138.41 Q199.072 1133.8 199.072 1125.08 Q199.072 1116.33 202.127 1111.74 Q205.206 1107.14 211.016 1107.14 Z\" fill=\"#000000\" fill-rule=\"nonzero\" fill-opacity=\"1\" /><path clip-path=\"url(#clip420)\" d=\"M231.178 1136.44 L236.062 1136.44 L236.062 1142.32 L231.178 1142.32 L231.178 1136.44 Z\" fill=\"#000000\" fill-rule=\"nonzero\" fill-opacity=\"1\" /><path clip-path=\"url(#clip420)\" d=\"M256.247 1110.84 Q252.636 1110.84 250.808 1114.41 Q249.002 1117.95 249.002 1125.08 Q249.002 1132.18 250.808 1135.75 Q252.636 1139.29 256.247 1139.29 Q259.882 1139.29 261.687 1135.75 Q263.516 1132.18 263.516 1125.08 Q263.516 1117.95 261.687 1114.41 Q259.882 1110.84 256.247 1110.84 M256.247 1107.14 Q262.057 1107.14 265.113 1111.74 Q268.192 1116.33 268.192 1125.08 Q268.192 1133.8 265.113 1138.41 Q262.057 1142.99 256.247 1142.99 Q250.437 1142.99 247.358 1138.41 Q244.303 1133.8 244.303 1125.08 Q244.303 1116.33 247.358 1111.74 Q250.437 1107.14 256.247 1107.14 Z\" fill=\"#000000\" fill-rule=\"nonzero\" fill-opacity=\"1\" /><path clip-path=\"url(#clip420)\" d=\"M276.456 1107.76 L294.812 1107.76 L294.812 1111.7 L280.738 1111.7 L280.738 1120.17 Q281.756 1119.82 282.775 1119.66 Q283.793 1119.48 284.812 1119.48 Q290.599 1119.48 293.979 1122.65 Q297.358 1125.82 297.358 1131.24 Q297.358 1136.81 293.886 1139.92 Q290.414 1142.99 284.094 1142.99 Q281.918 1142.99 279.65 1142.62 Q277.405 1142.25 274.997 1141.51 L274.997 1136.81 Q277.081 1137.95 279.303 1138.5 Q281.525 1139.06 284.002 1139.06 Q288.006 1139.06 290.344 1136.95 Q292.682 1134.85 292.682 1131.24 Q292.682 1127.62 290.344 1125.52 Q288.006 1123.41 284.002 1123.41 Q282.127 1123.41 280.252 1123.83 Q278.4 1124.24 276.456 1125.12 L276.456 1107.76 Z\" fill=\"#000000\" fill-rule=\"nonzero\" fill-opacity=\"1\" /><path clip-path=\"url(#clip420)\" d=\"M210.021 851.128 Q206.41 851.128 204.581 854.692 Q202.775 858.234 202.775 865.364 Q202.775 872.47 204.581 876.035 Q206.41 879.576 210.021 879.576 Q213.655 879.576 215.461 876.035 Q217.289 872.47 217.289 865.364 Q217.289 858.234 215.461 854.692 Q213.655 851.128 210.021 851.128 M210.021 847.424 Q215.831 847.424 218.886 852.03 Q221.965 856.614 221.965 865.364 Q221.965 874.09 218.886 878.697 Q215.831 883.28 210.021 883.28 Q204.211 883.28 201.132 878.697 Q198.076 874.09 198.076 865.364 Q198.076 856.614 201.132 852.03 Q204.211 847.424 210.021 847.424 Z\" fill=\"#000000\" fill-rule=\"nonzero\" fill-opacity=\"1\" /><path clip-path=\"url(#clip420)\" d=\"M230.183 876.729 L235.067 876.729 L235.067 882.609 L230.183 882.609 L230.183 876.729 Z\" fill=\"#000000\" fill-rule=\"nonzero\" fill-opacity=\"1\" /><path clip-path=\"url(#clip420)\" d=\"M246.062 878.674 L253.701 878.674 L253.701 852.308 L245.391 853.975 L245.391 849.716 L253.655 848.049 L258.331 848.049 L258.331 878.674 L265.97 878.674 L265.97 882.609 L246.062 882.609 L246.062 878.674 Z\" fill=\"#000000\" fill-rule=\"nonzero\" fill-opacity=\"1\" /><path clip-path=\"url(#clip420)\" d=\"M285.414 851.128 Q281.803 851.128 279.974 854.692 Q278.169 858.234 278.169 865.364 Q278.169 872.47 279.974 876.035 Q281.803 879.576 285.414 879.576 Q289.048 879.576 290.854 876.035 Q292.682 872.47 292.682 865.364 Q292.682 858.234 290.854 854.692 Q289.048 851.128 285.414 851.128 M285.414 847.424 Q291.224 847.424 294.28 852.03 Q297.358 856.614 297.358 865.364 Q297.358 874.09 294.28 878.697 Q291.224 883.28 285.414 883.28 Q279.604 883.28 276.525 878.697 Q273.469 874.09 273.469 865.364 Q273.469 856.614 276.525 852.03 Q279.604 847.424 285.414 847.424 Z\" fill=\"#000000\" fill-rule=\"nonzero\" fill-opacity=\"1\" /><path clip-path=\"url(#clip420)\" d=\"M211.016 591.413 Q207.405 591.413 205.576 594.978 Q203.771 598.52 203.771 605.649 Q203.771 612.756 205.576 616.32 Q207.405 619.862 211.016 619.862 Q214.65 619.862 216.456 616.32 Q218.285 612.756 218.285 605.649 Q218.285 598.52 216.456 594.978 Q214.65 591.413 211.016 591.413 M211.016 587.709 Q216.826 587.709 219.882 592.316 Q222.96 596.899 222.96 605.649 Q222.96 614.376 219.882 618.982 Q216.826 623.566 211.016 623.566 Q205.206 623.566 202.127 618.982 Q199.072 614.376 199.072 605.649 Q199.072 596.899 202.127 592.316 Q205.206 587.709 211.016 587.709 Z\" fill=\"#000000\" fill-rule=\"nonzero\" fill-opacity=\"1\" /><path clip-path=\"url(#clip420)\" d=\"M231.178 617.015 L236.062 617.015 L236.062 622.894 L231.178 622.894 L231.178 617.015 Z\" fill=\"#000000\" fill-rule=\"nonzero\" fill-opacity=\"1\" /><path clip-path=\"url(#clip420)\" d=\"M247.058 618.959 L254.696 618.959 L254.696 592.594 L246.386 594.26 L246.386 590.001 L254.65 588.334 L259.326 588.334 L259.326 618.959 L266.965 618.959 L266.965 622.894 L247.058 622.894 L247.058 618.959 Z\" fill=\"#000000\" fill-rule=\"nonzero\" fill-opacity=\"1\" /><path clip-path=\"url(#clip420)\" d=\"M276.456 588.334 L294.812 588.334 L294.812 592.27 L280.738 592.27 L280.738 600.742 Q281.756 600.395 282.775 600.233 Q283.793 600.047 284.812 600.047 Q290.599 600.047 293.979 603.219 Q297.358 606.39 297.358 611.807 Q297.358 617.385 293.886 620.487 Q290.414 623.566 284.094 623.566 Q281.918 623.566 279.65 623.195 Q277.405 622.825 274.997 622.084 L274.997 617.385 Q277.081 618.52 279.303 619.075 Q281.525 619.631 284.002 619.631 Q288.006 619.631 290.344 617.524 Q292.682 615.418 292.682 611.807 Q292.682 608.195 290.344 606.089 Q288.006 603.983 284.002 603.983 Q282.127 603.983 280.252 604.399 Q278.4 604.816 276.456 605.695 L276.456 588.334 Z\" fill=\"#000000\" fill-rule=\"nonzero\" fill-opacity=\"1\" /><path clip-path=\"url(#clip420)\" d=\"M210.021 331.699 Q206.41 331.699 204.581 335.264 Q202.775 338.805 202.775 345.935 Q202.775 353.041 204.581 356.606 Q206.41 360.148 210.021 360.148 Q213.655 360.148 215.461 356.606 Q217.289 353.041 217.289 345.935 Q217.289 338.805 215.461 335.264 Q213.655 331.699 210.021 331.699 M210.021 327.995 Q215.831 327.995 218.886 332.602 Q221.965 337.185 221.965 345.935 Q221.965 354.662 218.886 359.268 Q215.831 363.851 210.021 363.851 Q204.211 363.851 201.132 359.268 Q198.076 354.662 198.076 345.935 Q198.076 337.185 201.132 332.602 Q204.211 327.995 210.021 327.995 Z\" fill=\"#000000\" fill-rule=\"nonzero\" fill-opacity=\"1\" /><path clip-path=\"url(#clip420)\" d=\"M230.183 357.3 L235.067 357.3 L235.067 363.18 L230.183 363.18 L230.183 357.3 Z\" fill=\"#000000\" fill-rule=\"nonzero\" fill-opacity=\"1\" /><path clip-path=\"url(#clip420)\" d=\"M249.28 359.245 L265.599 359.245 L265.599 363.18 L243.655 363.18 L243.655 359.245 Q246.317 356.49 250.9 351.861 Q255.507 347.208 256.687 345.865 Q258.933 343.342 259.812 341.606 Q260.715 339.847 260.715 338.157 Q260.715 335.402 258.77 333.666 Q256.849 331.93 253.747 331.93 Q251.548 331.93 249.095 332.694 Q246.664 333.458 243.886 335.009 L243.886 330.287 Q246.71 329.152 249.164 328.574 Q251.618 327.995 253.655 327.995 Q259.025 327.995 262.22 330.68 Q265.414 333.365 265.414 337.856 Q265.414 339.986 264.604 341.907 Q263.817 343.805 261.71 346.398 Q261.132 347.069 258.03 350.287 Q254.928 353.481 249.28 359.245 Z\" fill=\"#000000\" fill-rule=\"nonzero\" fill-opacity=\"1\" /><path clip-path=\"url(#clip420)\" d=\"M285.414 331.699 Q281.803 331.699 279.974 335.264 Q278.169 338.805 278.169 345.935 Q278.169 353.041 279.974 356.606 Q281.803 360.148 285.414 360.148 Q289.048 360.148 290.854 356.606 Q292.682 353.041 292.682 345.935 Q292.682 338.805 290.854 335.264 Q289.048 331.699 285.414 331.699 M285.414 327.995 Q291.224 327.995 294.28 332.602 Q297.358 337.185 297.358 345.935 Q297.358 354.662 294.28 359.268 Q291.224 363.851 285.414 363.851 Q279.604 363.851 276.525 359.268 Q273.469 354.662 273.469 345.935 Q273.469 337.185 276.525 332.602 Q279.604 327.995 285.414 327.995 Z\" fill=\"#000000\" fill-rule=\"nonzero\" fill-opacity=\"1\" /><path clip-path=\"url(#clip420)\" d=\"M211.016 71.9844 Q207.405 71.9844 205.576 75.5492 Q203.771 79.0908 203.771 86.2204 Q203.771 93.3268 205.576 96.8916 Q207.405 100.433 211.016 100.433 Q214.65 100.433 216.456 96.8916 Q218.285 93.3268 218.285 86.2204 Q218.285 79.0908 216.456 75.5492 Q214.65 71.9844 211.016 71.9844 M211.016 68.2807 Q216.826 68.2807 219.882 72.8871 Q222.96 77.4704 222.96 86.2204 Q222.96 94.9472 219.882 99.5537 Q216.826 104.137 211.016 104.137 Q205.206 104.137 202.127 99.5537 Q199.072 94.9472 199.072 86.2204 Q199.072 77.4704 202.127 72.8871 Q205.206 68.2807 211.016 68.2807 Z\" fill=\"#000000\" fill-rule=\"nonzero\" fill-opacity=\"1\" /><path clip-path=\"url(#clip420)\" d=\"M231.178 97.5861 L236.062 97.5861 L236.062 103.466 L231.178 103.466 L231.178 97.5861 Z\" fill=\"#000000\" fill-rule=\"nonzero\" fill-opacity=\"1\" /><path clip-path=\"url(#clip420)\" d=\"M250.275 99.5305 L266.595 99.5305 L266.595 103.466 L244.65 103.466 L244.65 99.5305 Q247.312 96.7759 251.896 92.1463 Q256.502 87.4935 257.683 86.151 Q259.928 83.6278 260.808 81.8917 Q261.71 80.1325 261.71 78.4427 Q261.71 75.688 259.766 73.9519 Q257.845 72.2158 254.743 72.2158 Q252.544 72.2158 250.09 72.9797 Q247.659 73.7436 244.882 75.2945 L244.882 70.5723 Q247.706 69.4381 250.159 68.8594 Q252.613 68.2807 254.65 68.2807 Q260.02 68.2807 263.215 70.9658 Q266.409 73.651 266.409 78.1417 Q266.409 80.2714 265.599 82.1926 Q264.812 84.0908 262.706 86.6834 Q262.127 87.3546 259.025 90.5722 Q255.923 93.7667 250.275 99.5305 Z\" fill=\"#000000\" fill-rule=\"nonzero\" fill-opacity=\"1\" /><path clip-path=\"url(#clip420)\" d=\"M276.456 68.9057 L294.812 68.9057 L294.812 72.8408 L280.738 72.8408 L280.738 81.313 Q281.756 80.9658 282.775 80.8038 Q283.793 80.6186 284.812 80.6186 Q290.599 80.6186 293.979 83.7899 Q297.358 86.9611 297.358 92.3778 Q297.358 97.9564 293.886 101.058 Q290.414 104.137 284.094 104.137 Q281.918 104.137 279.65 103.767 Q277.405 103.396 274.997 102.655 L274.997 97.9564 Q277.081 99.0907 279.303 99.6462 Q281.525 100.202 284.002 100.202 Q288.006 100.202 290.344 98.0953 Q292.682 95.9889 292.682 92.3778 Q292.682 88.7667 290.344 86.6602 Q288.006 84.5537 284.002 84.5537 Q282.127 84.5537 280.252 84.9704 Q278.4 85.3871 276.456 86.2667 L276.456 68.9057 Z\" fill=\"#000000\" fill-rule=\"nonzero\" fill-opacity=\"1\" /><path clip-path=\"url(#clip420)\" d=\"M44.2885 865.756 Q46.0196 865.756 46.9455 866.802 Q47.8312 867.849 47.8312 869.218 Q47.8312 870.546 46.9455 871.593 Q46.0196 872.599 44.3691 872.599 Q43.2419 872.599 42.2354 871.875 Q41.1887 871.15 40.9874 869.54 Q39.2564 871.553 39.2564 874.733 Q39.2564 876.303 39.8602 877.39 Q40.4238 878.437 42.1549 879.483 Q43.886 880.53 47.4286 881.255 Q50.9713 881.939 56.4865 882.382 L77.0177 883.952 Q83.9823 884.435 97.6698 886.166 Q111.317 887.857 114.457 888.662 Q117.436 889.387 119.892 890.474 Q122.347 891.56 124.481 893.171 Q126.655 894.781 127.863 897.116 Q129.07 899.451 129.07 902.269 Q129.07 906.013 127.098 908.67 Q125.166 911.327 122.227 911.327 Q120.496 911.327 119.57 910.28 Q118.684 909.233 118.684 907.865 Q118.684 906.536 119.57 905.53 Q120.496 904.483 122.146 904.483 Q123.273 904.483 124.28 905.208 Q125.327 905.932 125.528 907.543 Q127.259 905.53 127.259 902.269 Q127.259 899.773 125.81 898.122 Q124.36 896.472 120.496 895.264 Q116.631 894.056 110.029 893.533 L89.4975 891.963 Q82.2512 891.44 68.765 889.749 Q55.2788 888.018 51.7361 887.253 Q37.4448 884.032 37.4448 874.813 Q37.4448 871.069 39.4174 868.412 Q41.3498 865.756 44.2885 865.756 Z\" fill=\"#000000\" fill-rule=\"nonzero\" fill-opacity=\"1\" /><path clip-path=\"url(#clip420)\" d=\"M166.004 902.954 Q159.218 902.954 155.521 901.24 Q150.02 898.851 150.02 893.215 Q150.02 892.02 150.359 890.78 Q150.674 889.517 151.914 887.939 Q153.154 886.339 155.183 885.369 Q159.106 883.521 166.004 883.521 Q172.745 883.521 176.42 885.234 Q181.785 887.736 181.785 893.26 Q181.785 895.334 180.725 897.453 Q179.666 899.55 177.118 900.88 Q173.308 902.954 166.004 902.954 M165.441 899.121 Q172.407 899.121 175.18 898.625 Q178.178 898.062 179.486 896.529 Q180.771 894.973 180.771 893.26 Q180.771 891.411 179.395 889.878 Q177.998 888.323 174.999 887.849 Q172.046 887.331 165.441 887.353 Q159.015 887.353 156.445 887.804 Q153.447 888.413 152.252 890.036 Q151.035 891.637 151.035 893.26 Q151.035 893.868 151.215 894.522 Q151.396 895.153 151.914 896.078 Q152.433 897.002 153.718 897.723 Q155.003 898.422 156.941 898.76 Q159.444 899.121 165.441 899.121 Z\" fill=\"#000000\" fill-rule=\"nonzero\" fill-opacity=\"1\" /><path clip-path=\"url(#clip420)\" d=\"M-11.1206 900.881 L-12.5635 900.881 Q-12.5635 895.335 -15.5167 892.472 Q-15.5167 891.683 -15.3364 891.548 Q-15.156 891.413 -14.3219 891.413 L11.5813 891.413 Q12.9565 891.413 13.3848 890.736 Q13.8131 890.06 13.8131 887.107 L13.8131 885.641 L15.2334 885.641 Q15.0982 887.264 15.0982 893.126 Q15.0982 898.987 15.2334 900.588 L13.8131 900.588 L13.8131 899.123 Q13.8131 896.214 13.4074 895.516 Q12.979 894.817 11.5813 894.817 L-12.338 894.817 Q-11.1206 897.229 -11.1206 900.881 Z\" fill=\"#000000\" fill-rule=\"nonzero\" fill-opacity=\"1\" /><path clip-path=\"url(#clip420)\" d=\"M79.0306 819.272 Q80.8341 819.272 81.8647 820.399 Q82.8631 821.526 82.8631 822.814 Q82.8631 824.038 82.1546 824.682 Q81.4461 825.327 80.5443 825.327 Q79.3205 825.327 78.2577 824.425 Q77.1949 823.523 76.9694 822.17 Q76.1321 823.491 76.1321 825.455 Q76.1321 826.744 76.8084 827.871 Q77.4847 828.966 78.3543 829.642 Q79.2239 830.286 80.4799 830.866 Q81.7037 831.413 82.4444 831.639 Q83.153 831.832 83.9259 831.993 L92.9435 834.248 Q97.2269 835.343 98.7406 835.343 Q100.609 835.343 101.865 834.441 Q103.088 833.539 103.088 831.735 Q103.088 831.027 102.895 830.222 Q102.67 829.417 102.09 828.386 Q101.478 827.323 100.576 826.389 Q99.6424 825.423 98.0643 824.489 Q96.4862 823.555 94.4572 822.943 Q93.7487 822.75 93.7487 822.106 Q93.7487 821.301 94.3928 821.301 Q94.9403 821.301 96.0997 821.752 Q97.2269 822.17 98.7084 823.104 Q100.158 824.006 101.478 825.198 Q102.766 826.389 103.668 828.161 Q104.57 829.932 104.57 831.864 Q104.57 834.634 103.088 836.47 Q101.607 838.305 99.5457 838.982 Q99.8356 839.143 100.222 839.368 Q100.609 839.594 101.478 840.27 Q102.315 840.914 102.96 841.655 Q103.571 842.396 104.055 843.555 Q104.57 844.682 104.57 845.906 Q104.57 847.452 104.119 848.837 Q103.668 850.189 102.638 851.156 Q101.607 852.122 100.19 852.122 Q98.6118 852.122 97.5168 851.059 Q96.3896 849.964 96.3896 848.483 Q96.3896 847.549 96.9371 846.808 Q97.4846 846.035 98.6762 846.035 Q99.9966 846.035 100.995 846.937 Q101.993 847.838 102.251 849.127 Q103.088 847.806 103.088 845.842 Q103.088 843.716 101.22 842.041 Q99.3525 840.367 96.2285 839.562 Q88.7246 837.565 85.3752 836.792 Q81.9936 836.019 80.5443 836.019 Q79.1916 836.019 78.2577 836.373 Q77.3237 836.727 76.905 837.339 Q76.4541 837.919 76.2931 838.467 Q76.1321 838.982 76.1321 839.562 Q76.1321 840.528 76.5186 841.623 Q76.905 842.685 77.8068 843.974 Q78.6764 845.23 80.4799 846.421 Q82.2834 847.613 84.7633 848.418 Q85.504 848.579 85.504 849.288 Q85.4718 850.061 84.8277 850.061 Q84.2802 850.061 83.153 849.642 Q81.9936 849.191 80.5443 848.289 Q79.095 847.355 77.8068 846.164 Q76.4864 844.94 75.5846 843.169 Q74.6828 841.365 74.6828 839.433 Q74.6828 838.563 74.8761 837.726 Q75.0371 836.856 75.5202 835.826 Q76.0033 834.763 77.0661 833.829 Q78.1289 832.895 79.6747 832.315 Q78.934 831.929 78.2255 831.413 Q77.5169 830.866 76.6474 830.029 Q75.7456 829.159 75.2303 827.967 Q74.6828 826.744 74.6828 825.391 Q74.6828 824.07 75.0371 822.782 Q75.3591 821.494 76.4219 820.399 Q77.4525 819.272 79.0306 819.272 Z\" fill=\"#000000\" fill-rule=\"nonzero\" fill-opacity=\"1\" /><path clip-path=\"url(#clip420)\" d=\"M76.864 812.551 Q75.4888 812.551 74.835 811.762 Q74.1812 810.972 74.1812 809.958 Q74.1812 808.898 74.8801 808.154 Q75.5564 807.388 76.7513 807.388 Q78.0363 807.388 78.7577 808.29 Q79.4791 809.169 79.2988 810.431 Q81.1474 809.327 81.9815 807.298 Q82.8156 805.246 82.8156 803.353 Q82.8156 801.369 81.1023 799.768 Q79.3889 798.145 75.1957 798.145 Q71.6338 798.145 69.5822 799.543 Q67.5307 800.918 67.5307 803.646 L67.5307 805.675 Q67.5307 806.373 67.4631 806.576 Q67.3955 806.779 67.0122 806.779 Q66.5613 806.779 66.4712 806.08 Q66.4712 805.382 66.3359 804.277 Q66.2457 801.594 63.9237 800.174 Q61.7594 798.889 58.6709 798.889 Q55.8529 798.889 54.6806 800.241 Q53.4858 801.572 53.4858 803.307 Q53.4858 804.931 54.1621 806.712 Q54.8384 808.493 56.3489 809.462 Q56.3489 806.599 58.6709 806.599 Q59.6854 806.599 60.3617 807.253 Q61.0155 807.884 61.0155 808.943 Q61.0155 809.958 60.3842 810.634 Q59.7305 811.311 58.6258 811.311 Q55.9881 811.311 54.1621 808.966 Q52.336 806.599 52.336 803.127 Q52.336 799.7 54.1395 797.175 Q55.9431 794.628 58.716 794.628 Q61.4438 794.628 63.6757 796.432 Q65.9076 798.235 66.8319 801.098 Q67.5307 797.581 69.9204 795.485 Q72.2875 793.388 75.1957 793.388 Q78.8028 793.388 81.463 796.229 Q84.1006 799.069 84.1006 803.217 Q84.1006 807.05 82.0266 809.8 Q79.9525 812.551 76.864 812.551 Z\" fill=\"#000000\" fill-rule=\"nonzero\" fill-opacity=\"1\" /><path clip-path=\"url(#clip420)\" d=\"M58.7731 755.133 L96.9049 764.634 Q98.6118 765.02 100.061 765.02 Q103.088 765.02 103.088 763.056 Q103.088 762.09 102.476 761.317 Q101.865 760.544 100.576 759.932 Q99.2881 759.32 98.0965 758.934 Q96.8727 758.547 94.9403 758.032 Q94.1674 757.871 93.9741 757.742 Q93.7487 757.581 93.7487 757.13 Q93.7487 756.325 94.3928 756.325 Q98.5474 757.194 100.931 758.322 Q104.57 760.125 104.57 763.185 Q104.57 765.504 103.153 767.146 Q101.736 768.789 99.6102 769.175 Q104.57 773.394 104.57 777.774 Q104.57 781.639 101.639 784.086 Q98.6762 786.534 94.0063 786.534 Q89.3043 786.534 84.7955 784.215 Q80.2866 781.864 77.4847 778.16 Q74.6828 774.457 74.6828 770.656 Q74.6828 766.631 78.9018 764.57 L63.2497 760.608 L61.9615 760.415 Q61.575 760.415 61.3818 760.576 Q61.1564 760.705 60.9953 761.478 Q60.8343 762.219 60.8343 763.7 Q60.8343 764.312 60.8021 764.602 Q60.7699 764.859 60.6089 765.085 Q60.4156 765.31 60.0292 765.31 Q58.902 765.31 58.7731 764.376 Q58.0646 758.193 58.0646 756.003 Q58.0646 755.616 58.2578 755.391 Q58.4189 755.165 58.6121 755.165 L58.7731 755.133 M81.9291 765.375 Q81.6393 765.375 80.8341 765.6 Q80.029 765.826 78.9018 766.341 Q77.7746 766.856 76.9694 767.983 Q76.1321 769.078 76.1321 770.56 Q76.1321 772.557 77.839 774.65 Q79.5459 776.711 82.4444 778.225 Q84.7633 779.384 89.6263 780.64 Q94.4894 781.864 96.9049 781.864 Q98.3863 781.864 99.7068 781.542 Q100.995 781.188 102.058 780.189 Q103.088 779.191 103.088 777.645 Q103.088 773.877 98.4185 770.173 Q97.6134 769.465 97.2913 769.304 Q96.9371 769.111 95.9709 768.853 L83.0563 765.568 Q82.0902 765.375 81.9291 765.375 Z\" fill=\"#000000\" fill-rule=\"nonzero\" fill-opacity=\"1\" /><path clip-path=\"url(#clip420)\" d=\"M79.0306 720.8 Q80.8341 720.8 81.8647 721.927 Q82.8631 723.054 82.8631 724.343 Q82.8631 725.566 82.1546 726.211 Q81.4461 726.855 80.5443 726.855 Q79.3205 726.855 78.2577 725.953 Q77.1949 725.051 76.9694 723.699 Q76.1321 725.019 76.1321 726.984 Q76.1321 728.272 76.8084 729.399 Q77.4847 730.494 78.3543 731.17 Q79.2239 731.814 80.4799 732.394 Q81.7037 732.942 82.4444 733.167 Q83.153 733.36 83.9259 733.521 L92.9435 735.776 Q97.2269 736.871 98.7406 736.871 Q100.609 736.871 101.865 735.969 Q103.088 735.067 103.088 733.264 Q103.088 732.555 102.895 731.75 Q102.67 730.945 102.09 729.914 Q101.478 728.851 100.576 727.917 Q99.6424 726.951 98.0643 726.017 Q96.4862 725.083 94.4572 724.471 Q93.7487 724.278 93.7487 723.634 Q93.7487 722.829 94.3928 722.829 Q94.9403 722.829 96.0997 723.28 Q97.2269 723.699 98.7084 724.632 Q100.158 725.534 101.478 726.726 Q102.766 727.917 103.668 729.689 Q104.57 731.46 104.57 733.392 Q104.57 736.162 103.088 737.998 Q101.607 739.834 99.5457 740.51 Q99.8356 740.671 100.222 740.896 Q100.609 741.122 101.478 741.798 Q102.315 742.442 102.96 743.183 Q103.571 743.924 104.055 745.083 Q104.57 746.21 104.57 747.434 Q104.57 748.98 104.119 750.365 Q103.668 751.718 102.638 752.684 Q101.607 753.65 100.19 753.65 Q98.6118 753.65 97.5168 752.587 Q96.3896 751.492 96.3896 750.011 Q96.3896 749.077 96.9371 748.336 Q97.4846 747.563 98.6762 747.563 Q99.9966 747.563 100.995 748.465 Q101.993 749.367 102.251 750.655 Q103.088 749.334 103.088 747.37 Q103.088 745.244 101.22 743.57 Q99.3525 741.895 96.2285 741.09 Q88.7246 739.093 85.3752 738.32 Q81.9936 737.547 80.5443 737.547 Q79.1916 737.547 78.2577 737.901 Q77.3237 738.256 76.905 738.867 Q76.4541 739.447 76.2931 739.995 Q76.1321 740.51 76.1321 741.09 Q76.1321 742.056 76.5186 743.151 Q76.905 744.214 77.8068 745.502 Q78.6764 746.758 80.4799 747.95 Q82.2834 749.141 84.7633 749.946 Q85.504 750.107 85.504 750.816 Q85.4718 751.589 84.8277 751.589 Q84.2802 751.589 83.153 751.17 Q81.9936 750.719 80.5443 749.817 Q79.095 748.884 77.8068 747.692 Q76.4864 746.468 75.5846 744.697 Q74.6828 742.893 74.6828 740.961 Q74.6828 740.091 74.8761 739.254 Q75.0371 738.384 75.5202 737.354 Q76.0033 736.291 77.0661 735.357 Q78.1289 734.423 79.6747 733.843 Q78.934 733.457 78.2255 732.942 Q77.5169 732.394 76.6474 731.557 Q75.7456 730.687 75.2303 729.496 Q74.6828 728.272 74.6828 726.919 Q74.6828 725.599 75.0371 724.31 Q75.3591 723.022 76.4219 721.927 Q77.4525 720.8 79.0306 720.8 Z\" fill=\"#000000\" fill-rule=\"nonzero\" fill-opacity=\"1\" /><path clip-path=\"url(#clip420)\" d=\"M83.3634 716.297 L83.3634 699.141 L88.5833 699.141 L88.5833 716.297 L83.3634 716.297 Z\" fill=\"#000000\" fill-rule=\"nonzero\" fill-opacity=\"1\" /><path clip-path=\"url(#clip420)\" d=\"M60.5423 675.238 Q60.5423 680.203 65.4439 682.718 Q70.3137 685.2 80.1169 685.2 Q89.8882 685.2 94.7898 682.718 Q99.6596 680.203 99.6596 675.238 Q99.6596 670.241 94.7898 667.758 Q89.8882 665.244 80.1169 665.244 Q70.3137 665.244 65.4439 667.758 Q60.5423 670.241 60.5423 675.238 M55.4498 675.238 Q55.4498 667.249 61.7836 663.048 Q68.0857 658.815 80.1169 658.815 Q92.1162 658.815 98.4501 663.048 Q104.752 667.249 104.752 675.238 Q104.752 683.227 98.4501 687.46 Q92.1162 691.662 80.1169 691.662 Q68.0857 691.662 61.7836 687.46 Q55.4498 683.227 55.4498 675.238 Z\" fill=\"#000000\" fill-rule=\"nonzero\" fill-opacity=\"1\" /><path clip-path=\"url(#clip420)\" d=\"M95.7447 647.515 L95.7447 640.8 L103.829 640.8 L103.829 647.515 L95.7447 647.515 Z\" fill=\"#000000\" fill-rule=\"nonzero\" fill-opacity=\"1\" /><path clip-path=\"url(#clip420)\" d=\"M98.4183 621.257 L98.4183 598.818 L103.829 598.818 L103.829 628.991 L98.4183 628.991 Q94.6307 625.331 88.265 619.029 Q81.8674 612.695 80.0214 611.072 Q76.5521 607.984 74.1649 606.775 Q71.746 605.534 69.4225 605.534 Q65.6349 605.534 63.2477 608.207 Q60.8606 610.849 60.8606 615.114 Q60.8606 618.138 61.911 621.511 Q62.9613 624.853 65.0938 628.673 L58.6008 628.673 Q57.0412 624.79 56.2455 621.416 Q55.4498 618.042 55.4498 615.241 Q55.4498 607.857 59.1419 603.465 Q62.834 599.072 69.0087 599.072 Q71.9369 599.072 74.5787 600.186 Q77.1886 601.269 80.7534 604.165 Q81.6765 604.961 86.1006 609.226 Q90.493 613.491 98.4183 621.257 Z\" fill=\"#000000\" fill-rule=\"nonzero\" fill-opacity=\"1\" /><path clip-path=\"url(#clip420)\" d=\"M56.3091 585.259 L56.3091 560.019 L61.72 560.019 L61.72 579.37 L73.3692 579.37 Q72.8918 577.97 72.669 576.57 Q72.4144 575.169 72.4144 573.769 Q72.4144 565.812 76.7749 561.165 Q81.1354 556.518 88.5833 556.518 Q96.2539 556.518 100.519 561.292 Q104.752 566.066 104.752 574.755 Q104.752 577.747 104.243 580.866 Q103.734 583.954 102.715 587.264 L96.2539 587.264 Q97.8135 584.399 98.5774 581.344 Q99.3413 578.288 99.3413 574.883 Q99.3413 569.376 96.4449 566.162 Q93.5485 562.947 88.5833 562.947 Q83.618 562.947 80.7216 566.162 Q77.8252 569.376 77.8252 574.883 Q77.8252 577.461 78.3981 580.039 Q78.971 582.585 80.1805 585.259 L56.3091 585.259 Z\" fill=\"#000000\" fill-rule=\"nonzero\" fill-opacity=\"1\" /><polyline clip-path=\"url(#clip422)\" style=\"stroke:#009af9; stroke-linecap:round; stroke-linejoin:round; stroke-width:4; stroke-opacity:1; fill:none\" points=\"2295.6,86.1857 1323.62,1060.11 999.622,1240.47 837.624,1303.6 740.426,1332.81 675.627,1348.69 629.342,1358.26 594.628,1364.47 567.628,1368.73 546.029,1371.77 528.356,1374.03 513.629,1375.74 501.168,1377.07 490.487,1378.13 481.23,1378.99 473.13,1379.69 465.983,1380.26 459.63,1380.75 453.946,1381.16 448.83,1381.51 444.202,1381.81 439.994,1382.07 436.152,1382.3 432.63,1382.5 429.39,1382.68 426.4,1382.84 423.631,1382.98 421.059,1383.1 418.665,1383.21 416.431,1383.31 414.34,1383.41 412.381,1383.49 410.54,1383.57 408.807,1383.63 407.174,1383.7 405.631,1383.76 404.171,1383.81 402.789,1383.86 401.477,1383.9 400.231,1383.95 399.046,1383.99 397.917,1384.02 396.84,1384.06 395.813,1384.09 394.831,1384.12 393.892,1384.14 392.993,1384.17 392.131,1384.19 391.304,1384.22 390.511,1384.24 \"/>\n",
       "<circle clip-path=\"url(#clip422)\" cx=\"2295.6\" cy=\"86.1857\" r=\"14.4\" fill=\"#e26f46\" fill-rule=\"evenodd\" fill-opacity=\"1\" stroke=\"#000000\" stroke-opacity=\"1\" stroke-width=\"3.2\"/>\n",
       "<circle clip-path=\"url(#clip422)\" cx=\"1323.62\" cy=\"1060.11\" r=\"14.4\" fill=\"#e26f46\" fill-rule=\"evenodd\" fill-opacity=\"1\" stroke=\"#000000\" stroke-opacity=\"1\" stroke-width=\"3.2\"/>\n",
       "<circle clip-path=\"url(#clip422)\" cx=\"999.622\" cy=\"1240.47\" r=\"14.4\" fill=\"#e26f46\" fill-rule=\"evenodd\" fill-opacity=\"1\" stroke=\"#000000\" stroke-opacity=\"1\" stroke-width=\"3.2\"/>\n",
       "<circle clip-path=\"url(#clip422)\" cx=\"837.624\" cy=\"1303.6\" r=\"14.4\" fill=\"#e26f46\" fill-rule=\"evenodd\" fill-opacity=\"1\" stroke=\"#000000\" stroke-opacity=\"1\" stroke-width=\"3.2\"/>\n",
       "<circle clip-path=\"url(#clip422)\" cx=\"740.426\" cy=\"1332.81\" r=\"14.4\" fill=\"#e26f46\" fill-rule=\"evenodd\" fill-opacity=\"1\" stroke=\"#000000\" stroke-opacity=\"1\" stroke-width=\"3.2\"/>\n",
       "<circle clip-path=\"url(#clip422)\" cx=\"675.627\" cy=\"1348.69\" r=\"14.4\" fill=\"#e26f46\" fill-rule=\"evenodd\" fill-opacity=\"1\" stroke=\"#000000\" stroke-opacity=\"1\" stroke-width=\"3.2\"/>\n",
       "<circle clip-path=\"url(#clip422)\" cx=\"629.342\" cy=\"1358.26\" r=\"14.4\" fill=\"#e26f46\" fill-rule=\"evenodd\" fill-opacity=\"1\" stroke=\"#000000\" stroke-opacity=\"1\" stroke-width=\"3.2\"/>\n",
       "<circle clip-path=\"url(#clip422)\" cx=\"594.628\" cy=\"1364.47\" r=\"14.4\" fill=\"#e26f46\" fill-rule=\"evenodd\" fill-opacity=\"1\" stroke=\"#000000\" stroke-opacity=\"1\" stroke-width=\"3.2\"/>\n",
       "<circle clip-path=\"url(#clip422)\" cx=\"567.628\" cy=\"1368.73\" r=\"14.4\" fill=\"#e26f46\" fill-rule=\"evenodd\" fill-opacity=\"1\" stroke=\"#000000\" stroke-opacity=\"1\" stroke-width=\"3.2\"/>\n",
       "<circle clip-path=\"url(#clip422)\" cx=\"546.029\" cy=\"1371.77\" r=\"14.4\" fill=\"#e26f46\" fill-rule=\"evenodd\" fill-opacity=\"1\" stroke=\"#000000\" stroke-opacity=\"1\" stroke-width=\"3.2\"/>\n",
       "<circle clip-path=\"url(#clip422)\" cx=\"528.356\" cy=\"1374.03\" r=\"14.4\" fill=\"#e26f46\" fill-rule=\"evenodd\" fill-opacity=\"1\" stroke=\"#000000\" stroke-opacity=\"1\" stroke-width=\"3.2\"/>\n",
       "<circle clip-path=\"url(#clip422)\" cx=\"513.629\" cy=\"1375.74\" r=\"14.4\" fill=\"#e26f46\" fill-rule=\"evenodd\" fill-opacity=\"1\" stroke=\"#000000\" stroke-opacity=\"1\" stroke-width=\"3.2\"/>\n",
       "<circle clip-path=\"url(#clip422)\" cx=\"501.168\" cy=\"1377.07\" r=\"14.4\" fill=\"#e26f46\" fill-rule=\"evenodd\" fill-opacity=\"1\" stroke=\"#000000\" stroke-opacity=\"1\" stroke-width=\"3.2\"/>\n",
       "<circle clip-path=\"url(#clip422)\" cx=\"490.487\" cy=\"1378.13\" r=\"14.4\" fill=\"#e26f46\" fill-rule=\"evenodd\" fill-opacity=\"1\" stroke=\"#000000\" stroke-opacity=\"1\" stroke-width=\"3.2\"/>\n",
       "<circle clip-path=\"url(#clip422)\" cx=\"481.23\" cy=\"1378.99\" r=\"14.4\" fill=\"#e26f46\" fill-rule=\"evenodd\" fill-opacity=\"1\" stroke=\"#000000\" stroke-opacity=\"1\" stroke-width=\"3.2\"/>\n",
       "<circle clip-path=\"url(#clip422)\" cx=\"473.13\" cy=\"1379.69\" r=\"14.4\" fill=\"#e26f46\" fill-rule=\"evenodd\" fill-opacity=\"1\" stroke=\"#000000\" stroke-opacity=\"1\" stroke-width=\"3.2\"/>\n",
       "<circle clip-path=\"url(#clip422)\" cx=\"465.983\" cy=\"1380.26\" r=\"14.4\" fill=\"#e26f46\" fill-rule=\"evenodd\" fill-opacity=\"1\" stroke=\"#000000\" stroke-opacity=\"1\" stroke-width=\"3.2\"/>\n",
       "<circle clip-path=\"url(#clip422)\" cx=\"459.63\" cy=\"1380.75\" r=\"14.4\" fill=\"#e26f46\" fill-rule=\"evenodd\" fill-opacity=\"1\" stroke=\"#000000\" stroke-opacity=\"1\" stroke-width=\"3.2\"/>\n",
       "<circle clip-path=\"url(#clip422)\" cx=\"453.946\" cy=\"1381.16\" r=\"14.4\" fill=\"#e26f46\" fill-rule=\"evenodd\" fill-opacity=\"1\" stroke=\"#000000\" stroke-opacity=\"1\" stroke-width=\"3.2\"/>\n",
       "<circle clip-path=\"url(#clip422)\" cx=\"448.83\" cy=\"1381.51\" r=\"14.4\" fill=\"#e26f46\" fill-rule=\"evenodd\" fill-opacity=\"1\" stroke=\"#000000\" stroke-opacity=\"1\" stroke-width=\"3.2\"/>\n",
       "<circle clip-path=\"url(#clip422)\" cx=\"444.202\" cy=\"1381.81\" r=\"14.4\" fill=\"#e26f46\" fill-rule=\"evenodd\" fill-opacity=\"1\" stroke=\"#000000\" stroke-opacity=\"1\" stroke-width=\"3.2\"/>\n",
       "<circle clip-path=\"url(#clip422)\" cx=\"439.994\" cy=\"1382.07\" r=\"14.4\" fill=\"#e26f46\" fill-rule=\"evenodd\" fill-opacity=\"1\" stroke=\"#000000\" stroke-opacity=\"1\" stroke-width=\"3.2\"/>\n",
       "<circle clip-path=\"url(#clip422)\" cx=\"436.152\" cy=\"1382.3\" r=\"14.4\" fill=\"#e26f46\" fill-rule=\"evenodd\" fill-opacity=\"1\" stroke=\"#000000\" stroke-opacity=\"1\" stroke-width=\"3.2\"/>\n",
       "<circle clip-path=\"url(#clip422)\" cx=\"432.63\" cy=\"1382.5\" r=\"14.4\" fill=\"#e26f46\" fill-rule=\"evenodd\" fill-opacity=\"1\" stroke=\"#000000\" stroke-opacity=\"1\" stroke-width=\"3.2\"/>\n",
       "<circle clip-path=\"url(#clip422)\" cx=\"429.39\" cy=\"1382.68\" r=\"14.4\" fill=\"#e26f46\" fill-rule=\"evenodd\" fill-opacity=\"1\" stroke=\"#000000\" stroke-opacity=\"1\" stroke-width=\"3.2\"/>\n",
       "<circle clip-path=\"url(#clip422)\" cx=\"426.4\" cy=\"1382.84\" r=\"14.4\" fill=\"#e26f46\" fill-rule=\"evenodd\" fill-opacity=\"1\" stroke=\"#000000\" stroke-opacity=\"1\" stroke-width=\"3.2\"/>\n",
       "<circle clip-path=\"url(#clip422)\" cx=\"423.631\" cy=\"1382.98\" r=\"14.4\" fill=\"#e26f46\" fill-rule=\"evenodd\" fill-opacity=\"1\" stroke=\"#000000\" stroke-opacity=\"1\" stroke-width=\"3.2\"/>\n",
       "<circle clip-path=\"url(#clip422)\" cx=\"421.059\" cy=\"1383.1\" r=\"14.4\" fill=\"#e26f46\" fill-rule=\"evenodd\" fill-opacity=\"1\" stroke=\"#000000\" stroke-opacity=\"1\" stroke-width=\"3.2\"/>\n",
       "<circle clip-path=\"url(#clip422)\" cx=\"418.665\" cy=\"1383.21\" r=\"14.4\" fill=\"#e26f46\" fill-rule=\"evenodd\" fill-opacity=\"1\" stroke=\"#000000\" stroke-opacity=\"1\" stroke-width=\"3.2\"/>\n",
       "<circle clip-path=\"url(#clip422)\" cx=\"416.431\" cy=\"1383.31\" r=\"14.4\" fill=\"#e26f46\" fill-rule=\"evenodd\" fill-opacity=\"1\" stroke=\"#000000\" stroke-opacity=\"1\" stroke-width=\"3.2\"/>\n",
       "<circle clip-path=\"url(#clip422)\" cx=\"414.34\" cy=\"1383.41\" r=\"14.4\" fill=\"#e26f46\" fill-rule=\"evenodd\" fill-opacity=\"1\" stroke=\"#000000\" stroke-opacity=\"1\" stroke-width=\"3.2\"/>\n",
       "<circle clip-path=\"url(#clip422)\" cx=\"412.381\" cy=\"1383.49\" r=\"14.4\" fill=\"#e26f46\" fill-rule=\"evenodd\" fill-opacity=\"1\" stroke=\"#000000\" stroke-opacity=\"1\" stroke-width=\"3.2\"/>\n",
       "<circle clip-path=\"url(#clip422)\" cx=\"410.54\" cy=\"1383.57\" r=\"14.4\" fill=\"#e26f46\" fill-rule=\"evenodd\" fill-opacity=\"1\" stroke=\"#000000\" stroke-opacity=\"1\" stroke-width=\"3.2\"/>\n",
       "<circle clip-path=\"url(#clip422)\" cx=\"408.807\" cy=\"1383.63\" r=\"14.4\" fill=\"#e26f46\" fill-rule=\"evenodd\" fill-opacity=\"1\" stroke=\"#000000\" stroke-opacity=\"1\" stroke-width=\"3.2\"/>\n",
       "<circle clip-path=\"url(#clip422)\" cx=\"407.174\" cy=\"1383.7\" r=\"14.4\" fill=\"#e26f46\" fill-rule=\"evenodd\" fill-opacity=\"1\" stroke=\"#000000\" stroke-opacity=\"1\" stroke-width=\"3.2\"/>\n",
       "<circle clip-path=\"url(#clip422)\" cx=\"405.631\" cy=\"1383.76\" r=\"14.4\" fill=\"#e26f46\" fill-rule=\"evenodd\" fill-opacity=\"1\" stroke=\"#000000\" stroke-opacity=\"1\" stroke-width=\"3.2\"/>\n",
       "<circle clip-path=\"url(#clip422)\" cx=\"404.171\" cy=\"1383.81\" r=\"14.4\" fill=\"#e26f46\" fill-rule=\"evenodd\" fill-opacity=\"1\" stroke=\"#000000\" stroke-opacity=\"1\" stroke-width=\"3.2\"/>\n",
       "<circle clip-path=\"url(#clip422)\" cx=\"402.789\" cy=\"1383.86\" r=\"14.4\" fill=\"#e26f46\" fill-rule=\"evenodd\" fill-opacity=\"1\" stroke=\"#000000\" stroke-opacity=\"1\" stroke-width=\"3.2\"/>\n",
       "<circle clip-path=\"url(#clip422)\" cx=\"401.477\" cy=\"1383.9\" r=\"14.4\" fill=\"#e26f46\" fill-rule=\"evenodd\" fill-opacity=\"1\" stroke=\"#000000\" stroke-opacity=\"1\" stroke-width=\"3.2\"/>\n",
       "<circle clip-path=\"url(#clip422)\" cx=\"400.231\" cy=\"1383.95\" r=\"14.4\" fill=\"#e26f46\" fill-rule=\"evenodd\" fill-opacity=\"1\" stroke=\"#000000\" stroke-opacity=\"1\" stroke-width=\"3.2\"/>\n",
       "<circle clip-path=\"url(#clip422)\" cx=\"399.046\" cy=\"1383.99\" r=\"14.4\" fill=\"#e26f46\" fill-rule=\"evenodd\" fill-opacity=\"1\" stroke=\"#000000\" stroke-opacity=\"1\" stroke-width=\"3.2\"/>\n",
       "<circle clip-path=\"url(#clip422)\" cx=\"397.917\" cy=\"1384.02\" r=\"14.4\" fill=\"#e26f46\" fill-rule=\"evenodd\" fill-opacity=\"1\" stroke=\"#000000\" stroke-opacity=\"1\" stroke-width=\"3.2\"/>\n",
       "<circle clip-path=\"url(#clip422)\" cx=\"396.84\" cy=\"1384.06\" r=\"14.4\" fill=\"#e26f46\" fill-rule=\"evenodd\" fill-opacity=\"1\" stroke=\"#000000\" stroke-opacity=\"1\" stroke-width=\"3.2\"/>\n",
       "<circle clip-path=\"url(#clip422)\" cx=\"395.813\" cy=\"1384.09\" r=\"14.4\" fill=\"#e26f46\" fill-rule=\"evenodd\" fill-opacity=\"1\" stroke=\"#000000\" stroke-opacity=\"1\" stroke-width=\"3.2\"/>\n",
       "<circle clip-path=\"url(#clip422)\" cx=\"394.831\" cy=\"1384.12\" r=\"14.4\" fill=\"#e26f46\" fill-rule=\"evenodd\" fill-opacity=\"1\" stroke=\"#000000\" stroke-opacity=\"1\" stroke-width=\"3.2\"/>\n",
       "<circle clip-path=\"url(#clip422)\" cx=\"393.892\" cy=\"1384.14\" r=\"14.4\" fill=\"#e26f46\" fill-rule=\"evenodd\" fill-opacity=\"1\" stroke=\"#000000\" stroke-opacity=\"1\" stroke-width=\"3.2\"/>\n",
       "<circle clip-path=\"url(#clip422)\" cx=\"392.993\" cy=\"1384.17\" r=\"14.4\" fill=\"#e26f46\" fill-rule=\"evenodd\" fill-opacity=\"1\" stroke=\"#000000\" stroke-opacity=\"1\" stroke-width=\"3.2\"/>\n",
       "<circle clip-path=\"url(#clip422)\" cx=\"392.131\" cy=\"1384.19\" r=\"14.4\" fill=\"#e26f46\" fill-rule=\"evenodd\" fill-opacity=\"1\" stroke=\"#000000\" stroke-opacity=\"1\" stroke-width=\"3.2\"/>\n",
       "<circle clip-path=\"url(#clip422)\" cx=\"391.304\" cy=\"1384.22\" r=\"14.4\" fill=\"#e26f46\" fill-rule=\"evenodd\" fill-opacity=\"1\" stroke=\"#000000\" stroke-opacity=\"1\" stroke-width=\"3.2\"/>\n",
       "<circle clip-path=\"url(#clip422)\" cx=\"390.511\" cy=\"1384.24\" r=\"14.4\" fill=\"#e26f46\" fill-rule=\"evenodd\" fill-opacity=\"1\" stroke=\"#000000\" stroke-opacity=\"1\" stroke-width=\"3.2\"/>\n",
       "</svg>\n"
      ],
      "text/html": [
       "<?xml version=\"1.0\" encoding=\"utf-8\"?>\n",
       "<svg xmlns=\"http://www.w3.org/2000/svg\" xmlns:xlink=\"http://www.w3.org/1999/xlink\" width=\"600\" height=\"400\" viewBox=\"0 0 2400 1600\">\n",
       "<defs>\n",
       "  <clipPath id=\"clip470\">\n",
       "    <rect x=\"0\" y=\"0\" width=\"2400\" height=\"1600\"/>\n",
       "  </clipPath>\n",
       "</defs>\n",
       "<path clip-path=\"url(#clip470)\" d=\"M0 1600 L2400 1600 L2400 8.88178e-14 L0 8.88178e-14  Z\" fill=\"#ffffff\" fill-rule=\"evenodd\" fill-opacity=\"1\"/>\n",
       "<defs>\n",
       "  <clipPath id=\"clip471\">\n",
       "    <rect x=\"480\" y=\"0\" width=\"1681\" height=\"1600\"/>\n",
       "  </clipPath>\n",
       "</defs>\n",
       "<path clip-path=\"url(#clip470)\" d=\"M333.358 1423.18 L2352.76 1423.18 L2352.76 47.2441 L333.358 47.2441  Z\" fill=\"#ffffff\" fill-rule=\"evenodd\" fill-opacity=\"1\"/>\n",
       "<defs>\n",
       "  <clipPath id=\"clip472\">\n",
       "    <rect x=\"333\" y=\"47\" width=\"2020\" height=\"1377\"/>\n",
       "  </clipPath>\n",
       "</defs>\n",
       "<polyline clip-path=\"url(#clip472)\" style=\"stroke:#000000; stroke-linecap:round; stroke-linejoin:round; stroke-width:2; stroke-opacity:0.1; fill:none\" points=\"351.632,1423.18 351.632,47.2441 \"/>\n",
       "<polyline clip-path=\"url(#clip472)\" style=\"stroke:#000000; stroke-linecap:round; stroke-linejoin:round; stroke-width:2; stroke-opacity:0.1; fill:none\" points=\"837.624,1423.18 837.624,47.2441 \"/>\n",
       "<polyline clip-path=\"url(#clip472)\" style=\"stroke:#000000; stroke-linecap:round; stroke-linejoin:round; stroke-width:2; stroke-opacity:0.1; fill:none\" points=\"1323.62,1423.18 1323.62,47.2441 \"/>\n",
       "<polyline clip-path=\"url(#clip472)\" style=\"stroke:#000000; stroke-linecap:round; stroke-linejoin:round; stroke-width:2; stroke-opacity:0.1; fill:none\" points=\"1809.61,1423.18 1809.61,47.2441 \"/>\n",
       "<polyline clip-path=\"url(#clip472)\" style=\"stroke:#000000; stroke-linecap:round; stroke-linejoin:round; stroke-width:2; stroke-opacity:0.1; fill:none\" points=\"2295.6,1423.18 2295.6,47.2441 \"/>\n",
       "<polyline clip-path=\"url(#clip470)\" style=\"stroke:#000000; stroke-linecap:round; stroke-linejoin:round; stroke-width:4; stroke-opacity:1; fill:none\" points=\"333.358,1423.18 2352.76,1423.18 \"/>\n",
       "<polyline clip-path=\"url(#clip470)\" style=\"stroke:#000000; stroke-linecap:round; stroke-linejoin:round; stroke-width:4; stroke-opacity:1; fill:none\" points=\"351.632,1423.18 351.632,1404.28 \"/>\n",
       "<polyline clip-path=\"url(#clip470)\" style=\"stroke:#000000; stroke-linecap:round; stroke-linejoin:round; stroke-width:4; stroke-opacity:1; fill:none\" points=\"837.624,1423.18 837.624,1404.28 \"/>\n",
       "<polyline clip-path=\"url(#clip470)\" style=\"stroke:#000000; stroke-linecap:round; stroke-linejoin:round; stroke-width:4; stroke-opacity:1; fill:none\" points=\"1323.62,1423.18 1323.62,1404.28 \"/>\n",
       "<polyline clip-path=\"url(#clip470)\" style=\"stroke:#000000; stroke-linecap:round; stroke-linejoin:round; stroke-width:4; stroke-opacity:1; fill:none\" points=\"1809.61,1423.18 1809.61,1404.28 \"/>\n",
       "<polyline clip-path=\"url(#clip470)\" style=\"stroke:#000000; stroke-linecap:round; stroke-linejoin:round; stroke-width:4; stroke-opacity:1; fill:none\" points=\"2295.6,1423.18 2295.6,1404.28 \"/>\n",
       "<path clip-path=\"url(#clip470)\" d=\"M313.935 1454.1 Q310.324 1454.1 308.495 1457.66 Q306.69 1461.2 306.69 1468.33 Q306.69 1475.44 308.495 1479.01 Q310.324 1482.55 313.935 1482.55 Q317.569 1482.55 319.375 1479.01 Q321.203 1475.44 321.203 1468.33 Q321.203 1461.2 319.375 1457.66 Q317.569 1454.1 313.935 1454.1 M313.935 1450.39 Q319.745 1450.39 322.801 1455 Q325.879 1459.58 325.879 1468.33 Q325.879 1477.06 322.801 1481.67 Q319.745 1486.25 313.935 1486.25 Q308.125 1486.25 305.046 1481.67 Q301.991 1477.06 301.991 1468.33 Q301.991 1459.58 305.046 1455 Q308.125 1450.39 313.935 1450.39 Z\" fill=\"#000000\" fill-rule=\"nonzero\" fill-opacity=\"1\" /><path clip-path=\"url(#clip470)\" d=\"M334.097 1479.7 L338.981 1479.7 L338.981 1485.58 L334.097 1485.58 L334.097 1479.7 Z\" fill=\"#000000\" fill-rule=\"nonzero\" fill-opacity=\"1\" /><path clip-path=\"url(#clip470)\" d=\"M359.166 1454.1 Q355.555 1454.1 353.726 1457.66 Q351.921 1461.2 351.921 1468.33 Q351.921 1475.44 353.726 1479.01 Q355.555 1482.55 359.166 1482.55 Q362.8 1482.55 364.606 1479.01 Q366.435 1475.44 366.435 1468.33 Q366.435 1461.2 364.606 1457.66 Q362.8 1454.1 359.166 1454.1 M359.166 1450.39 Q364.976 1450.39 368.032 1455 Q371.111 1459.58 371.111 1468.33 Q371.111 1477.06 368.032 1481.67 Q364.976 1486.25 359.166 1486.25 Q353.356 1486.25 350.277 1481.67 Q347.222 1477.06 347.222 1468.33 Q347.222 1459.58 350.277 1455 Q353.356 1450.39 359.166 1450.39 Z\" fill=\"#000000\" fill-rule=\"nonzero\" fill-opacity=\"1\" /><path clip-path=\"url(#clip470)\" d=\"M389.328 1454.1 Q385.717 1454.1 383.888 1457.66 Q382.083 1461.2 382.083 1468.33 Q382.083 1475.44 383.888 1479.01 Q385.717 1482.55 389.328 1482.55 Q392.962 1482.55 394.768 1479.01 Q396.597 1475.44 396.597 1468.33 Q396.597 1461.2 394.768 1457.66 Q392.962 1454.1 389.328 1454.1 M389.328 1450.39 Q395.138 1450.39 398.194 1455 Q401.273 1459.58 401.273 1468.33 Q401.273 1477.06 398.194 1481.67 Q395.138 1486.25 389.328 1486.25 Q383.518 1486.25 380.439 1481.67 Q377.384 1477.06 377.384 1468.33 Q377.384 1459.58 380.439 1455 Q383.518 1450.39 389.328 1450.39 Z\" fill=\"#000000\" fill-rule=\"nonzero\" fill-opacity=\"1\" /><path clip-path=\"url(#clip470)\" d=\"M800.426 1454.1 Q796.814 1454.1 794.986 1457.66 Q793.18 1461.2 793.18 1468.33 Q793.18 1475.44 794.986 1479.01 Q796.814 1482.55 800.426 1482.55 Q804.06 1482.55 805.865 1479.01 Q807.694 1475.44 807.694 1468.33 Q807.694 1461.2 805.865 1457.66 Q804.06 1454.1 800.426 1454.1 M800.426 1450.39 Q806.236 1450.39 809.291 1455 Q812.37 1459.58 812.37 1468.33 Q812.37 1477.06 809.291 1481.67 Q806.236 1486.25 800.426 1486.25 Q794.615 1486.25 791.537 1481.67 Q788.481 1477.06 788.481 1468.33 Q788.481 1459.58 791.537 1455 Q794.615 1450.39 800.426 1450.39 Z\" fill=\"#000000\" fill-rule=\"nonzero\" fill-opacity=\"1\" /><path clip-path=\"url(#clip470)\" d=\"M820.588 1479.7 L825.472 1479.7 L825.472 1485.58 L820.588 1485.58 L820.588 1479.7 Z\" fill=\"#000000\" fill-rule=\"nonzero\" fill-opacity=\"1\" /><path clip-path=\"url(#clip470)\" d=\"M839.685 1481.64 L856.004 1481.64 L856.004 1485.58 L834.06 1485.58 L834.06 1481.64 Q836.722 1478.89 841.305 1474.26 Q845.911 1469.61 847.092 1468.27 Q849.337 1465.74 850.217 1464.01 Q851.12 1462.25 851.12 1460.56 Q851.12 1457.8 849.175 1456.07 Q847.254 1454.33 844.152 1454.33 Q841.953 1454.33 839.499 1455.09 Q837.069 1455.86 834.291 1457.41 L834.291 1452.69 Q837.115 1451.55 839.569 1450.97 Q842.023 1450.39 844.06 1450.39 Q849.43 1450.39 852.624 1453.08 Q855.819 1455.77 855.819 1460.26 Q855.819 1462.39 855.009 1464.31 Q854.222 1466.2 852.115 1468.8 Q851.536 1469.47 848.435 1472.69 Q845.333 1475.88 839.685 1481.64 Z\" fill=\"#000000\" fill-rule=\"nonzero\" fill-opacity=\"1\" /><path clip-path=\"url(#clip470)\" d=\"M865.865 1451.02 L884.221 1451.02 L884.221 1454.96 L870.147 1454.96 L870.147 1463.43 Q871.166 1463.08 872.184 1462.92 Q873.203 1462.73 874.221 1462.73 Q880.008 1462.73 883.388 1465.9 Q886.768 1469.08 886.768 1474.49 Q886.768 1480.07 883.296 1483.17 Q879.823 1486.25 873.504 1486.25 Q871.328 1486.25 869.059 1485.88 Q866.814 1485.51 864.407 1484.77 L864.407 1480.07 Q866.49 1481.2 868.712 1481.76 Q870.934 1482.32 873.411 1482.32 Q877.416 1482.32 879.754 1480.21 Q882.092 1478.1 882.092 1474.49 Q882.092 1470.88 879.754 1468.77 Q877.416 1466.67 873.411 1466.67 Q871.536 1466.67 869.661 1467.08 Q867.809 1467.5 865.865 1468.38 L865.865 1451.02 Z\" fill=\"#000000\" fill-rule=\"nonzero\" fill-opacity=\"1\" /><path clip-path=\"url(#clip470)\" d=\"M1285.92 1454.1 Q1282.31 1454.1 1280.48 1457.66 Q1278.68 1461.2 1278.68 1468.33 Q1278.68 1475.44 1280.48 1479.01 Q1282.31 1482.55 1285.92 1482.55 Q1289.56 1482.55 1291.36 1479.01 Q1293.19 1475.44 1293.19 1468.33 Q1293.19 1461.2 1291.36 1457.66 Q1289.56 1454.1 1285.92 1454.1 M1285.92 1450.39 Q1291.73 1450.39 1294.79 1455 Q1297.87 1459.58 1297.87 1468.33 Q1297.87 1477.06 1294.79 1481.67 Q1291.73 1486.25 1285.92 1486.25 Q1280.11 1486.25 1277.03 1481.67 Q1273.98 1477.06 1273.98 1468.33 Q1273.98 1459.58 1277.03 1455 Q1280.11 1450.39 1285.92 1450.39 Z\" fill=\"#000000\" fill-rule=\"nonzero\" fill-opacity=\"1\" /><path clip-path=\"url(#clip470)\" d=\"M1306.08 1479.7 L1310.97 1479.7 L1310.97 1485.58 L1306.08 1485.58 L1306.08 1479.7 Z\" fill=\"#000000\" fill-rule=\"nonzero\" fill-opacity=\"1\" /><path clip-path=\"url(#clip470)\" d=\"M1321.2 1451.02 L1339.55 1451.02 L1339.55 1454.96 L1325.48 1454.96 L1325.48 1463.43 Q1326.5 1463.08 1327.52 1462.92 Q1328.54 1462.73 1329.55 1462.73 Q1335.34 1462.73 1338.72 1465.9 Q1342.1 1469.08 1342.1 1474.49 Q1342.1 1480.07 1338.63 1483.17 Q1335.16 1486.25 1328.84 1486.25 Q1326.66 1486.25 1324.39 1485.88 Q1322.15 1485.51 1319.74 1484.77 L1319.74 1480.07 Q1321.82 1481.2 1324.05 1481.76 Q1326.27 1482.32 1328.74 1482.32 Q1332.75 1482.32 1335.09 1480.21 Q1337.43 1478.1 1337.43 1474.49 Q1337.43 1470.88 1335.09 1468.77 Q1332.75 1466.67 1328.74 1466.67 Q1326.87 1466.67 1324.99 1467.08 Q1323.14 1467.5 1321.2 1468.38 L1321.2 1451.02 Z\" fill=\"#000000\" fill-rule=\"nonzero\" fill-opacity=\"1\" /><path clip-path=\"url(#clip470)\" d=\"M1361.31 1454.1 Q1357.7 1454.1 1355.87 1457.66 Q1354.07 1461.2 1354.07 1468.33 Q1354.07 1475.44 1355.87 1479.01 Q1357.7 1482.55 1361.31 1482.55 Q1364.95 1482.55 1366.75 1479.01 Q1368.58 1475.44 1368.58 1468.33 Q1368.58 1461.2 1366.75 1457.66 Q1364.95 1454.1 1361.31 1454.1 M1361.31 1450.39 Q1367.12 1450.39 1370.18 1455 Q1373.26 1459.58 1373.26 1468.33 Q1373.26 1477.06 1370.18 1481.67 Q1367.12 1486.25 1361.31 1486.25 Q1355.5 1486.25 1352.43 1481.67 Q1349.37 1477.06 1349.37 1468.33 Q1349.37 1459.58 1352.43 1455 Q1355.5 1450.39 1361.31 1450.39 Z\" fill=\"#000000\" fill-rule=\"nonzero\" fill-opacity=\"1\" /><path clip-path=\"url(#clip470)\" d=\"M1772.41 1454.1 Q1768.8 1454.1 1766.97 1457.66 Q1765.17 1461.2 1765.17 1468.33 Q1765.17 1475.44 1766.97 1479.01 Q1768.8 1482.55 1772.41 1482.55 Q1776.05 1482.55 1777.85 1479.01 Q1779.68 1475.44 1779.68 1468.33 Q1779.68 1461.2 1777.85 1457.66 Q1776.05 1454.1 1772.41 1454.1 M1772.41 1450.39 Q1778.22 1450.39 1781.28 1455 Q1784.36 1459.58 1784.36 1468.33 Q1784.36 1477.06 1781.28 1481.67 Q1778.22 1486.25 1772.41 1486.25 Q1766.6 1486.25 1763.52 1481.67 Q1760.47 1477.06 1760.47 1468.33 Q1760.47 1459.58 1763.52 1455 Q1766.6 1450.39 1772.41 1450.39 Z\" fill=\"#000000\" fill-rule=\"nonzero\" fill-opacity=\"1\" /><path clip-path=\"url(#clip470)\" d=\"M1792.57 1479.7 L1797.46 1479.7 L1797.46 1485.58 L1792.57 1485.58 L1792.57 1479.7 Z\" fill=\"#000000\" fill-rule=\"nonzero\" fill-opacity=\"1\" /><path clip-path=\"url(#clip470)\" d=\"M1806.46 1451.02 L1828.68 1451.02 L1828.68 1453.01 L1816.14 1485.58 L1811.25 1485.58 L1823.06 1454.96 L1806.46 1454.96 L1806.46 1451.02 Z\" fill=\"#000000\" fill-rule=\"nonzero\" fill-opacity=\"1\" /><path clip-path=\"url(#clip470)\" d=\"M1837.85 1451.02 L1856.21 1451.02 L1856.21 1454.96 L1842.13 1454.96 L1842.13 1463.43 Q1843.15 1463.08 1844.17 1462.92 Q1845.19 1462.73 1846.21 1462.73 Q1851.99 1462.73 1855.37 1465.9 Q1858.75 1469.08 1858.75 1474.49 Q1858.75 1480.07 1855.28 1483.17 Q1851.81 1486.25 1845.49 1486.25 Q1843.31 1486.25 1841.05 1485.88 Q1838.8 1485.51 1836.39 1484.77 L1836.39 1480.07 Q1838.48 1481.2 1840.7 1481.76 Q1842.92 1482.32 1845.4 1482.32 Q1849.4 1482.32 1851.74 1480.21 Q1854.08 1478.1 1854.08 1474.49 Q1854.08 1470.88 1851.74 1468.77 Q1849.4 1466.67 1845.4 1466.67 Q1843.52 1466.67 1841.65 1467.08 Q1839.8 1467.5 1837.85 1468.38 L1837.85 1451.02 Z\" fill=\"#000000\" fill-rule=\"nonzero\" fill-opacity=\"1\" /><path clip-path=\"url(#clip470)\" d=\"M2247.68 1481.64 L2255.31 1481.64 L2255.31 1455.28 L2247 1456.95 L2247 1452.69 L2255.27 1451.02 L2259.94 1451.02 L2259.94 1481.64 L2267.58 1481.64 L2267.58 1485.58 L2247.68 1485.58 L2247.68 1481.64 Z\" fill=\"#000000\" fill-rule=\"nonzero\" fill-opacity=\"1\" /><path clip-path=\"url(#clip470)\" d=\"M2277.03 1479.7 L2281.91 1479.7 L2281.91 1485.58 L2277.03 1485.58 L2277.03 1479.7 Z\" fill=\"#000000\" fill-rule=\"nonzero\" fill-opacity=\"1\" /><path clip-path=\"url(#clip470)\" d=\"M2302.1 1454.1 Q2298.49 1454.1 2296.66 1457.66 Q2294.85 1461.2 2294.85 1468.33 Q2294.85 1475.44 2296.66 1479.01 Q2298.49 1482.55 2302.1 1482.55 Q2305.73 1482.55 2307.54 1479.01 Q2309.36 1475.44 2309.36 1468.33 Q2309.36 1461.2 2307.54 1457.66 Q2305.73 1454.1 2302.1 1454.1 M2302.1 1450.39 Q2307.91 1450.39 2310.96 1455 Q2314.04 1459.58 2314.04 1468.33 Q2314.04 1477.06 2310.96 1481.67 Q2307.91 1486.25 2302.1 1486.25 Q2296.29 1486.25 2293.21 1481.67 Q2290.15 1477.06 2290.15 1468.33 Q2290.15 1459.58 2293.21 1455 Q2296.29 1450.39 2302.1 1450.39 Z\" fill=\"#000000\" fill-rule=\"nonzero\" fill-opacity=\"1\" /><path clip-path=\"url(#clip470)\" d=\"M2332.26 1454.1 Q2328.65 1454.1 2326.82 1457.66 Q2325.01 1461.2 2325.01 1468.33 Q2325.01 1475.44 2326.82 1479.01 Q2328.65 1482.55 2332.26 1482.55 Q2335.89 1482.55 2337.7 1479.01 Q2339.53 1475.44 2339.53 1468.33 Q2339.53 1461.2 2337.7 1457.66 Q2335.89 1454.1 2332.26 1454.1 M2332.26 1450.39 Q2338.07 1450.39 2341.12 1455 Q2344.2 1459.58 2344.2 1468.33 Q2344.2 1477.06 2341.12 1481.67 Q2338.07 1486.25 2332.26 1486.25 Q2326.45 1486.25 2323.37 1481.67 Q2320.31 1477.06 2320.31 1468.33 Q2320.31 1459.58 2323.37 1455 Q2326.45 1450.39 2332.26 1450.39 Z\" fill=\"#000000\" fill-rule=\"nonzero\" fill-opacity=\"1\" /><path clip-path=\"url(#clip470)\" d=\"M1297.96 1562.63 L1308.46 1562.63 L1308.46 1526.38 L1297.03 1528.67 L1297.03 1522.82 L1308.4 1520.52 L1314.83 1520.52 L1314.83 1562.63 L1325.33 1562.63 L1325.33 1568.04 L1297.96 1568.04 L1297.96 1562.63 Z\" fill=\"#000000\" fill-rule=\"nonzero\" fill-opacity=\"1\" /><path clip-path=\"url(#clip470)\" d=\"M1347.9 1520.52 L1353.31 1520.52 L1336.76 1574.09 L1331.34 1574.09 L1347.9 1520.52 Z\" fill=\"#000000\" fill-rule=\"nonzero\" fill-opacity=\"1\" /><path clip-path=\"url(#clip470)\" d=\"M1389.08 1546.53 L1389.08 1568.04 L1383.22 1568.04 L1383.22 1546.72 Q1383.22 1541.66 1381.25 1539.14 Q1379.28 1536.63 1375.33 1536.63 Q1370.59 1536.63 1367.85 1539.65 Q1365.11 1542.68 1365.11 1547.9 L1365.11 1568.04 L1359.23 1568.04 L1359.23 1532.4 L1365.11 1532.4 L1365.11 1537.93 Q1367.21 1534.72 1370.05 1533.13 Q1372.91 1531.54 1376.64 1531.54 Q1382.78 1531.54 1385.93 1535.36 Q1389.08 1539.14 1389.08 1546.53 Z\" fill=\"#000000\" fill-rule=\"nonzero\" fill-opacity=\"1\" /><polyline clip-path=\"url(#clip472)\" style=\"stroke:#000000; stroke-linecap:round; stroke-linejoin:round; stroke-width:2; stroke-opacity:0.1; fill:none\" points=\"333.358,1384.76 2352.76,1384.76 \"/>\n",
       "<polyline clip-path=\"url(#clip472)\" style=\"stroke:#000000; stroke-linecap:round; stroke-linejoin:round; stroke-width:2; stroke-opacity:0.1; fill:none\" points=\"333.358,1125.04 2352.76,1125.04 \"/>\n",
       "<polyline clip-path=\"url(#clip472)\" style=\"stroke:#000000; stroke-linecap:round; stroke-linejoin:round; stroke-width:2; stroke-opacity:0.1; fill:none\" points=\"333.358,865.329 2352.76,865.329 \"/>\n",
       "<polyline clip-path=\"url(#clip472)\" style=\"stroke:#000000; stroke-linecap:round; stroke-linejoin:round; stroke-width:2; stroke-opacity:0.1; fill:none\" points=\"333.358,605.614 2352.76,605.614 \"/>\n",
       "<polyline clip-path=\"url(#clip472)\" style=\"stroke:#000000; stroke-linecap:round; stroke-linejoin:round; stroke-width:2; stroke-opacity:0.1; fill:none\" points=\"333.358,345.9 2352.76,345.9 \"/>\n",
       "<polyline clip-path=\"url(#clip472)\" style=\"stroke:#000000; stroke-linecap:round; stroke-linejoin:round; stroke-width:2; stroke-opacity:0.1; fill:none\" points=\"333.358,86.1857 2352.76,86.1857 \"/>\n",
       "<polyline clip-path=\"url(#clip470)\" style=\"stroke:#000000; stroke-linecap:round; stroke-linejoin:round; stroke-width:4; stroke-opacity:1; fill:none\" points=\"333.358,1423.18 333.358,47.2441 \"/>\n",
       "<polyline clip-path=\"url(#clip470)\" style=\"stroke:#000000; stroke-linecap:round; stroke-linejoin:round; stroke-width:4; stroke-opacity:1; fill:none\" points=\"333.358,1384.76 352.256,1384.76 \"/>\n",
       "<polyline clip-path=\"url(#clip470)\" style=\"stroke:#000000; stroke-linecap:round; stroke-linejoin:round; stroke-width:4; stroke-opacity:1; fill:none\" points=\"333.358,1125.04 352.256,1125.04 \"/>\n",
       "<polyline clip-path=\"url(#clip470)\" style=\"stroke:#000000; stroke-linecap:round; stroke-linejoin:round; stroke-width:4; stroke-opacity:1; fill:none\" points=\"333.358,865.329 352.256,865.329 \"/>\n",
       "<polyline clip-path=\"url(#clip470)\" style=\"stroke:#000000; stroke-linecap:round; stroke-linejoin:round; stroke-width:4; stroke-opacity:1; fill:none\" points=\"333.358,605.614 352.256,605.614 \"/>\n",
       "<polyline clip-path=\"url(#clip470)\" style=\"stroke:#000000; stroke-linecap:round; stroke-linejoin:round; stroke-width:4; stroke-opacity:1; fill:none\" points=\"333.358,345.9 352.256,345.9 \"/>\n",
       "<polyline clip-path=\"url(#clip470)\" style=\"stroke:#000000; stroke-linecap:round; stroke-linejoin:round; stroke-width:4; stroke-opacity:1; fill:none\" points=\"333.358,86.1857 352.256,86.1857 \"/>\n",
       "<path clip-path=\"url(#clip470)\" d=\"M210.021 1370.56 Q206.41 1370.56 204.581 1374.12 Q202.775 1377.66 202.775 1384.79 Q202.775 1391.9 204.581 1395.46 Q206.41 1399.01 210.021 1399.01 Q213.655 1399.01 215.461 1395.46 Q217.289 1391.9 217.289 1384.79 Q217.289 1377.66 215.461 1374.12 Q213.655 1370.56 210.021 1370.56 M210.021 1366.85 Q215.831 1366.85 218.886 1371.46 Q221.965 1376.04 221.965 1384.79 Q221.965 1393.52 218.886 1398.13 Q215.831 1402.71 210.021 1402.71 Q204.211 1402.71 201.132 1398.13 Q198.076 1393.52 198.076 1384.79 Q198.076 1376.04 201.132 1371.46 Q204.211 1366.85 210.021 1366.85 Z\" fill=\"#000000\" fill-rule=\"nonzero\" fill-opacity=\"1\" /><path clip-path=\"url(#clip470)\" d=\"M230.183 1396.16 L235.067 1396.16 L235.067 1402.04 L230.183 1402.04 L230.183 1396.16 Z\" fill=\"#000000\" fill-rule=\"nonzero\" fill-opacity=\"1\" /><path clip-path=\"url(#clip470)\" d=\"M255.252 1370.56 Q251.641 1370.56 249.812 1374.12 Q248.007 1377.66 248.007 1384.79 Q248.007 1391.9 249.812 1395.46 Q251.641 1399.01 255.252 1399.01 Q258.886 1399.01 260.692 1395.46 Q262.52 1391.9 262.52 1384.79 Q262.52 1377.66 260.692 1374.12 Q258.886 1370.56 255.252 1370.56 M255.252 1366.85 Q261.062 1366.85 264.118 1371.46 Q267.196 1376.04 267.196 1384.79 Q267.196 1393.52 264.118 1398.13 Q261.062 1402.71 255.252 1402.71 Q249.442 1402.71 246.363 1398.13 Q243.308 1393.52 243.308 1384.79 Q243.308 1376.04 246.363 1371.46 Q249.442 1366.85 255.252 1366.85 Z\" fill=\"#000000\" fill-rule=\"nonzero\" fill-opacity=\"1\" /><path clip-path=\"url(#clip470)\" d=\"M285.414 1370.56 Q281.803 1370.56 279.974 1374.12 Q278.169 1377.66 278.169 1384.79 Q278.169 1391.9 279.974 1395.46 Q281.803 1399.01 285.414 1399.01 Q289.048 1399.01 290.854 1395.46 Q292.682 1391.9 292.682 1384.79 Q292.682 1377.66 290.854 1374.12 Q289.048 1370.56 285.414 1370.56 M285.414 1366.85 Q291.224 1366.85 294.28 1371.46 Q297.358 1376.04 297.358 1384.79 Q297.358 1393.52 294.28 1398.13 Q291.224 1402.71 285.414 1402.71 Q279.604 1402.71 276.525 1398.13 Q273.469 1393.52 273.469 1384.79 Q273.469 1376.04 276.525 1371.46 Q279.604 1366.85 285.414 1366.85 Z\" fill=\"#000000\" fill-rule=\"nonzero\" fill-opacity=\"1\" /><path clip-path=\"url(#clip470)\" d=\"M211.016 1110.84 Q207.405 1110.84 205.576 1114.41 Q203.771 1117.95 203.771 1125.08 Q203.771 1132.18 205.576 1135.75 Q207.405 1139.29 211.016 1139.29 Q214.65 1139.29 216.456 1135.75 Q218.285 1132.18 218.285 1125.08 Q218.285 1117.95 216.456 1114.41 Q214.65 1110.84 211.016 1110.84 M211.016 1107.14 Q216.826 1107.14 219.882 1111.74 Q222.96 1116.33 222.96 1125.08 Q222.96 1133.8 219.882 1138.41 Q216.826 1142.99 211.016 1142.99 Q205.206 1142.99 202.127 1138.41 Q199.072 1133.8 199.072 1125.08 Q199.072 1116.33 202.127 1111.74 Q205.206 1107.14 211.016 1107.14 Z\" fill=\"#000000\" fill-rule=\"nonzero\" fill-opacity=\"1\" /><path clip-path=\"url(#clip470)\" d=\"M231.178 1136.44 L236.062 1136.44 L236.062 1142.32 L231.178 1142.32 L231.178 1136.44 Z\" fill=\"#000000\" fill-rule=\"nonzero\" fill-opacity=\"1\" /><path clip-path=\"url(#clip470)\" d=\"M256.247 1110.84 Q252.636 1110.84 250.808 1114.41 Q249.002 1117.95 249.002 1125.08 Q249.002 1132.18 250.808 1135.75 Q252.636 1139.29 256.247 1139.29 Q259.882 1139.29 261.687 1135.75 Q263.516 1132.18 263.516 1125.08 Q263.516 1117.95 261.687 1114.41 Q259.882 1110.84 256.247 1110.84 M256.247 1107.14 Q262.057 1107.14 265.113 1111.74 Q268.192 1116.33 268.192 1125.08 Q268.192 1133.8 265.113 1138.41 Q262.057 1142.99 256.247 1142.99 Q250.437 1142.99 247.358 1138.41 Q244.303 1133.8 244.303 1125.08 Q244.303 1116.33 247.358 1111.74 Q250.437 1107.14 256.247 1107.14 Z\" fill=\"#000000\" fill-rule=\"nonzero\" fill-opacity=\"1\" /><path clip-path=\"url(#clip470)\" d=\"M276.456 1107.76 L294.812 1107.76 L294.812 1111.7 L280.738 1111.7 L280.738 1120.17 Q281.756 1119.82 282.775 1119.66 Q283.793 1119.48 284.812 1119.48 Q290.599 1119.48 293.979 1122.65 Q297.358 1125.82 297.358 1131.24 Q297.358 1136.81 293.886 1139.92 Q290.414 1142.99 284.094 1142.99 Q281.918 1142.99 279.65 1142.62 Q277.405 1142.25 274.997 1141.51 L274.997 1136.81 Q277.081 1137.95 279.303 1138.5 Q281.525 1139.06 284.002 1139.06 Q288.006 1139.06 290.344 1136.95 Q292.682 1134.85 292.682 1131.24 Q292.682 1127.62 290.344 1125.52 Q288.006 1123.41 284.002 1123.41 Q282.127 1123.41 280.252 1123.83 Q278.4 1124.24 276.456 1125.12 L276.456 1107.76 Z\" fill=\"#000000\" fill-rule=\"nonzero\" fill-opacity=\"1\" /><path clip-path=\"url(#clip470)\" d=\"M210.021 851.128 Q206.41 851.128 204.581 854.692 Q202.775 858.234 202.775 865.364 Q202.775 872.47 204.581 876.035 Q206.41 879.576 210.021 879.576 Q213.655 879.576 215.461 876.035 Q217.289 872.47 217.289 865.364 Q217.289 858.234 215.461 854.692 Q213.655 851.128 210.021 851.128 M210.021 847.424 Q215.831 847.424 218.886 852.03 Q221.965 856.614 221.965 865.364 Q221.965 874.09 218.886 878.697 Q215.831 883.28 210.021 883.28 Q204.211 883.28 201.132 878.697 Q198.076 874.09 198.076 865.364 Q198.076 856.614 201.132 852.03 Q204.211 847.424 210.021 847.424 Z\" fill=\"#000000\" fill-rule=\"nonzero\" fill-opacity=\"1\" /><path clip-path=\"url(#clip470)\" d=\"M230.183 876.729 L235.067 876.729 L235.067 882.609 L230.183 882.609 L230.183 876.729 Z\" fill=\"#000000\" fill-rule=\"nonzero\" fill-opacity=\"1\" /><path clip-path=\"url(#clip470)\" d=\"M246.062 878.674 L253.701 878.674 L253.701 852.308 L245.391 853.975 L245.391 849.716 L253.655 848.049 L258.331 848.049 L258.331 878.674 L265.97 878.674 L265.97 882.609 L246.062 882.609 L246.062 878.674 Z\" fill=\"#000000\" fill-rule=\"nonzero\" fill-opacity=\"1\" /><path clip-path=\"url(#clip470)\" d=\"M285.414 851.128 Q281.803 851.128 279.974 854.692 Q278.169 858.234 278.169 865.364 Q278.169 872.47 279.974 876.035 Q281.803 879.576 285.414 879.576 Q289.048 879.576 290.854 876.035 Q292.682 872.47 292.682 865.364 Q292.682 858.234 290.854 854.692 Q289.048 851.128 285.414 851.128 M285.414 847.424 Q291.224 847.424 294.28 852.03 Q297.358 856.614 297.358 865.364 Q297.358 874.09 294.28 878.697 Q291.224 883.28 285.414 883.28 Q279.604 883.28 276.525 878.697 Q273.469 874.09 273.469 865.364 Q273.469 856.614 276.525 852.03 Q279.604 847.424 285.414 847.424 Z\" fill=\"#000000\" fill-rule=\"nonzero\" fill-opacity=\"1\" /><path clip-path=\"url(#clip470)\" d=\"M211.016 591.413 Q207.405 591.413 205.576 594.978 Q203.771 598.52 203.771 605.649 Q203.771 612.756 205.576 616.32 Q207.405 619.862 211.016 619.862 Q214.65 619.862 216.456 616.32 Q218.285 612.756 218.285 605.649 Q218.285 598.52 216.456 594.978 Q214.65 591.413 211.016 591.413 M211.016 587.709 Q216.826 587.709 219.882 592.316 Q222.96 596.899 222.96 605.649 Q222.96 614.376 219.882 618.982 Q216.826 623.566 211.016 623.566 Q205.206 623.566 202.127 618.982 Q199.072 614.376 199.072 605.649 Q199.072 596.899 202.127 592.316 Q205.206 587.709 211.016 587.709 Z\" fill=\"#000000\" fill-rule=\"nonzero\" fill-opacity=\"1\" /><path clip-path=\"url(#clip470)\" d=\"M231.178 617.015 L236.062 617.015 L236.062 622.894 L231.178 622.894 L231.178 617.015 Z\" fill=\"#000000\" fill-rule=\"nonzero\" fill-opacity=\"1\" /><path clip-path=\"url(#clip470)\" d=\"M247.058 618.959 L254.696 618.959 L254.696 592.594 L246.386 594.26 L246.386 590.001 L254.65 588.334 L259.326 588.334 L259.326 618.959 L266.965 618.959 L266.965 622.894 L247.058 622.894 L247.058 618.959 Z\" fill=\"#000000\" fill-rule=\"nonzero\" fill-opacity=\"1\" /><path clip-path=\"url(#clip470)\" d=\"M276.456 588.334 L294.812 588.334 L294.812 592.27 L280.738 592.27 L280.738 600.742 Q281.756 600.395 282.775 600.233 Q283.793 600.047 284.812 600.047 Q290.599 600.047 293.979 603.219 Q297.358 606.39 297.358 611.807 Q297.358 617.385 293.886 620.487 Q290.414 623.566 284.094 623.566 Q281.918 623.566 279.65 623.195 Q277.405 622.825 274.997 622.084 L274.997 617.385 Q277.081 618.52 279.303 619.075 Q281.525 619.631 284.002 619.631 Q288.006 619.631 290.344 617.524 Q292.682 615.418 292.682 611.807 Q292.682 608.195 290.344 606.089 Q288.006 603.983 284.002 603.983 Q282.127 603.983 280.252 604.399 Q278.4 604.816 276.456 605.695 L276.456 588.334 Z\" fill=\"#000000\" fill-rule=\"nonzero\" fill-opacity=\"1\" /><path clip-path=\"url(#clip470)\" d=\"M210.021 331.699 Q206.41 331.699 204.581 335.264 Q202.775 338.805 202.775 345.935 Q202.775 353.041 204.581 356.606 Q206.41 360.148 210.021 360.148 Q213.655 360.148 215.461 356.606 Q217.289 353.041 217.289 345.935 Q217.289 338.805 215.461 335.264 Q213.655 331.699 210.021 331.699 M210.021 327.995 Q215.831 327.995 218.886 332.602 Q221.965 337.185 221.965 345.935 Q221.965 354.662 218.886 359.268 Q215.831 363.851 210.021 363.851 Q204.211 363.851 201.132 359.268 Q198.076 354.662 198.076 345.935 Q198.076 337.185 201.132 332.602 Q204.211 327.995 210.021 327.995 Z\" fill=\"#000000\" fill-rule=\"nonzero\" fill-opacity=\"1\" /><path clip-path=\"url(#clip470)\" d=\"M230.183 357.3 L235.067 357.3 L235.067 363.18 L230.183 363.18 L230.183 357.3 Z\" fill=\"#000000\" fill-rule=\"nonzero\" fill-opacity=\"1\" /><path clip-path=\"url(#clip470)\" d=\"M249.28 359.245 L265.599 359.245 L265.599 363.18 L243.655 363.18 L243.655 359.245 Q246.317 356.49 250.9 351.861 Q255.507 347.208 256.687 345.865 Q258.933 343.342 259.812 341.606 Q260.715 339.847 260.715 338.157 Q260.715 335.402 258.77 333.666 Q256.849 331.93 253.747 331.93 Q251.548 331.93 249.095 332.694 Q246.664 333.458 243.886 335.009 L243.886 330.287 Q246.71 329.152 249.164 328.574 Q251.618 327.995 253.655 327.995 Q259.025 327.995 262.22 330.68 Q265.414 333.365 265.414 337.856 Q265.414 339.986 264.604 341.907 Q263.817 343.805 261.71 346.398 Q261.132 347.069 258.03 350.287 Q254.928 353.481 249.28 359.245 Z\" fill=\"#000000\" fill-rule=\"nonzero\" fill-opacity=\"1\" /><path clip-path=\"url(#clip470)\" d=\"M285.414 331.699 Q281.803 331.699 279.974 335.264 Q278.169 338.805 278.169 345.935 Q278.169 353.041 279.974 356.606 Q281.803 360.148 285.414 360.148 Q289.048 360.148 290.854 356.606 Q292.682 353.041 292.682 345.935 Q292.682 338.805 290.854 335.264 Q289.048 331.699 285.414 331.699 M285.414 327.995 Q291.224 327.995 294.28 332.602 Q297.358 337.185 297.358 345.935 Q297.358 354.662 294.28 359.268 Q291.224 363.851 285.414 363.851 Q279.604 363.851 276.525 359.268 Q273.469 354.662 273.469 345.935 Q273.469 337.185 276.525 332.602 Q279.604 327.995 285.414 327.995 Z\" fill=\"#000000\" fill-rule=\"nonzero\" fill-opacity=\"1\" /><path clip-path=\"url(#clip470)\" d=\"M211.016 71.9844 Q207.405 71.9844 205.576 75.5492 Q203.771 79.0908 203.771 86.2204 Q203.771 93.3268 205.576 96.8916 Q207.405 100.433 211.016 100.433 Q214.65 100.433 216.456 96.8916 Q218.285 93.3268 218.285 86.2204 Q218.285 79.0908 216.456 75.5492 Q214.65 71.9844 211.016 71.9844 M211.016 68.2807 Q216.826 68.2807 219.882 72.8871 Q222.96 77.4704 222.96 86.2204 Q222.96 94.9472 219.882 99.5537 Q216.826 104.137 211.016 104.137 Q205.206 104.137 202.127 99.5537 Q199.072 94.9472 199.072 86.2204 Q199.072 77.4704 202.127 72.8871 Q205.206 68.2807 211.016 68.2807 Z\" fill=\"#000000\" fill-rule=\"nonzero\" fill-opacity=\"1\" /><path clip-path=\"url(#clip470)\" d=\"M231.178 97.5861 L236.062 97.5861 L236.062 103.466 L231.178 103.466 L231.178 97.5861 Z\" fill=\"#000000\" fill-rule=\"nonzero\" fill-opacity=\"1\" /><path clip-path=\"url(#clip470)\" d=\"M250.275 99.5305 L266.595 99.5305 L266.595 103.466 L244.65 103.466 L244.65 99.5305 Q247.312 96.7759 251.896 92.1463 Q256.502 87.4935 257.683 86.151 Q259.928 83.6278 260.808 81.8917 Q261.71 80.1325 261.71 78.4427 Q261.71 75.688 259.766 73.9519 Q257.845 72.2158 254.743 72.2158 Q252.544 72.2158 250.09 72.9797 Q247.659 73.7436 244.882 75.2945 L244.882 70.5723 Q247.706 69.4381 250.159 68.8594 Q252.613 68.2807 254.65 68.2807 Q260.02 68.2807 263.215 70.9658 Q266.409 73.651 266.409 78.1417 Q266.409 80.2714 265.599 82.1926 Q264.812 84.0908 262.706 86.6834 Q262.127 87.3546 259.025 90.5722 Q255.923 93.7667 250.275 99.5305 Z\" fill=\"#000000\" fill-rule=\"nonzero\" fill-opacity=\"1\" /><path clip-path=\"url(#clip470)\" d=\"M276.456 68.9057 L294.812 68.9057 L294.812 72.8408 L280.738 72.8408 L280.738 81.313 Q281.756 80.9658 282.775 80.8038 Q283.793 80.6186 284.812 80.6186 Q290.599 80.6186 293.979 83.7899 Q297.358 86.9611 297.358 92.3778 Q297.358 97.9564 293.886 101.058 Q290.414 104.137 284.094 104.137 Q281.918 104.137 279.65 103.767 Q277.405 103.396 274.997 102.655 L274.997 97.9564 Q277.081 99.0907 279.303 99.6462 Q281.525 100.202 284.002 100.202 Q288.006 100.202 290.344 98.0953 Q292.682 95.9889 292.682 92.3778 Q292.682 88.7667 290.344 86.6602 Q288.006 84.5537 284.002 84.5537 Q282.127 84.5537 280.252 84.9704 Q278.4 85.3871 276.456 86.2667 L276.456 68.9057 Z\" fill=\"#000000\" fill-rule=\"nonzero\" fill-opacity=\"1\" /><path clip-path=\"url(#clip470)\" d=\"M44.2885 865.756 Q46.0196 865.756 46.9455 866.802 Q47.8312 867.849 47.8312 869.218 Q47.8312 870.546 46.9455 871.593 Q46.0196 872.599 44.3691 872.599 Q43.2419 872.599 42.2354 871.875 Q41.1887 871.15 40.9874 869.54 Q39.2564 871.553 39.2564 874.733 Q39.2564 876.303 39.8602 877.39 Q40.4238 878.437 42.1549 879.483 Q43.886 880.53 47.4286 881.255 Q50.9713 881.939 56.4865 882.382 L77.0177 883.952 Q83.9823 884.435 97.6698 886.166 Q111.317 887.857 114.457 888.662 Q117.436 889.387 119.892 890.474 Q122.347 891.56 124.481 893.171 Q126.655 894.781 127.863 897.116 Q129.07 899.451 129.07 902.269 Q129.07 906.013 127.098 908.67 Q125.166 911.327 122.227 911.327 Q120.496 911.327 119.57 910.28 Q118.684 909.233 118.684 907.865 Q118.684 906.536 119.57 905.53 Q120.496 904.483 122.146 904.483 Q123.273 904.483 124.28 905.208 Q125.327 905.932 125.528 907.543 Q127.259 905.53 127.259 902.269 Q127.259 899.773 125.81 898.122 Q124.36 896.472 120.496 895.264 Q116.631 894.056 110.029 893.533 L89.4975 891.963 Q82.2512 891.44 68.765 889.749 Q55.2788 888.018 51.7361 887.253 Q37.4448 884.032 37.4448 874.813 Q37.4448 871.069 39.4174 868.412 Q41.3498 865.756 44.2885 865.756 Z\" fill=\"#000000\" fill-rule=\"nonzero\" fill-opacity=\"1\" /><path clip-path=\"url(#clip470)\" d=\"M166.004 902.954 Q159.218 902.954 155.521 901.24 Q150.02 898.851 150.02 893.215 Q150.02 892.02 150.359 890.78 Q150.674 889.517 151.914 887.939 Q153.154 886.339 155.183 885.369 Q159.106 883.521 166.004 883.521 Q172.745 883.521 176.42 885.234 Q181.785 887.736 181.785 893.26 Q181.785 895.334 180.725 897.453 Q179.666 899.55 177.118 900.88 Q173.308 902.954 166.004 902.954 M165.441 899.121 Q172.407 899.121 175.18 898.625 Q178.178 898.062 179.486 896.529 Q180.771 894.973 180.771 893.26 Q180.771 891.411 179.395 889.878 Q177.998 888.323 174.999 887.849 Q172.046 887.331 165.441 887.353 Q159.015 887.353 156.445 887.804 Q153.447 888.413 152.252 890.036 Q151.035 891.637 151.035 893.26 Q151.035 893.868 151.215 894.522 Q151.396 895.153 151.914 896.078 Q152.433 897.002 153.718 897.723 Q155.003 898.422 156.941 898.76 Q159.444 899.121 165.441 899.121 Z\" fill=\"#000000\" fill-rule=\"nonzero\" fill-opacity=\"1\" /><path clip-path=\"url(#clip470)\" d=\"M-11.1206 900.881 L-12.5635 900.881 Q-12.5635 895.335 -15.5167 892.472 Q-15.5167 891.683 -15.3364 891.548 Q-15.156 891.413 -14.3219 891.413 L11.5813 891.413 Q12.9565 891.413 13.3848 890.736 Q13.8131 890.06 13.8131 887.107 L13.8131 885.641 L15.2334 885.641 Q15.0982 887.264 15.0982 893.126 Q15.0982 898.987 15.2334 900.588 L13.8131 900.588 L13.8131 899.123 Q13.8131 896.214 13.4074 895.516 Q12.979 894.817 11.5813 894.817 L-12.338 894.817 Q-11.1206 897.229 -11.1206 900.881 Z\" fill=\"#000000\" fill-rule=\"nonzero\" fill-opacity=\"1\" /><path clip-path=\"url(#clip470)\" d=\"M79.0306 819.272 Q80.8341 819.272 81.8647 820.399 Q82.8631 821.526 82.8631 822.814 Q82.8631 824.038 82.1546 824.682 Q81.4461 825.327 80.5443 825.327 Q79.3205 825.327 78.2577 824.425 Q77.1949 823.523 76.9694 822.17 Q76.1321 823.491 76.1321 825.455 Q76.1321 826.744 76.8084 827.871 Q77.4847 828.966 78.3543 829.642 Q79.2239 830.286 80.4799 830.866 Q81.7037 831.413 82.4444 831.639 Q83.153 831.832 83.9259 831.993 L92.9435 834.248 Q97.2269 835.343 98.7406 835.343 Q100.609 835.343 101.865 834.441 Q103.088 833.539 103.088 831.735 Q103.088 831.027 102.895 830.222 Q102.67 829.417 102.09 828.386 Q101.478 827.323 100.576 826.389 Q99.6424 825.423 98.0643 824.489 Q96.4862 823.555 94.4572 822.943 Q93.7487 822.75 93.7487 822.106 Q93.7487 821.301 94.3928 821.301 Q94.9403 821.301 96.0997 821.752 Q97.2269 822.17 98.7084 823.104 Q100.158 824.006 101.478 825.198 Q102.766 826.389 103.668 828.161 Q104.57 829.932 104.57 831.864 Q104.57 834.634 103.088 836.47 Q101.607 838.305 99.5457 838.982 Q99.8356 839.143 100.222 839.368 Q100.609 839.594 101.478 840.27 Q102.315 840.914 102.96 841.655 Q103.571 842.396 104.055 843.555 Q104.57 844.682 104.57 845.906 Q104.57 847.452 104.119 848.837 Q103.668 850.189 102.638 851.156 Q101.607 852.122 100.19 852.122 Q98.6118 852.122 97.5168 851.059 Q96.3896 849.964 96.3896 848.483 Q96.3896 847.549 96.9371 846.808 Q97.4846 846.035 98.6762 846.035 Q99.9966 846.035 100.995 846.937 Q101.993 847.838 102.251 849.127 Q103.088 847.806 103.088 845.842 Q103.088 843.716 101.22 842.041 Q99.3525 840.367 96.2285 839.562 Q88.7246 837.565 85.3752 836.792 Q81.9936 836.019 80.5443 836.019 Q79.1916 836.019 78.2577 836.373 Q77.3237 836.727 76.905 837.339 Q76.4541 837.919 76.2931 838.467 Q76.1321 838.982 76.1321 839.562 Q76.1321 840.528 76.5186 841.623 Q76.905 842.685 77.8068 843.974 Q78.6764 845.23 80.4799 846.421 Q82.2834 847.613 84.7633 848.418 Q85.504 848.579 85.504 849.288 Q85.4718 850.061 84.8277 850.061 Q84.2802 850.061 83.153 849.642 Q81.9936 849.191 80.5443 848.289 Q79.095 847.355 77.8068 846.164 Q76.4864 844.94 75.5846 843.169 Q74.6828 841.365 74.6828 839.433 Q74.6828 838.563 74.8761 837.726 Q75.0371 836.856 75.5202 835.826 Q76.0033 834.763 77.0661 833.829 Q78.1289 832.895 79.6747 832.315 Q78.934 831.929 78.2255 831.413 Q77.5169 830.866 76.6474 830.029 Q75.7456 829.159 75.2303 827.967 Q74.6828 826.744 74.6828 825.391 Q74.6828 824.07 75.0371 822.782 Q75.3591 821.494 76.4219 820.399 Q77.4525 819.272 79.0306 819.272 Z\" fill=\"#000000\" fill-rule=\"nonzero\" fill-opacity=\"1\" /><path clip-path=\"url(#clip470)\" d=\"M76.864 812.551 Q75.4888 812.551 74.835 811.762 Q74.1812 810.972 74.1812 809.958 Q74.1812 808.898 74.8801 808.154 Q75.5564 807.388 76.7513 807.388 Q78.0363 807.388 78.7577 808.29 Q79.4791 809.169 79.2988 810.431 Q81.1474 809.327 81.9815 807.298 Q82.8156 805.246 82.8156 803.353 Q82.8156 801.369 81.1023 799.768 Q79.3889 798.145 75.1957 798.145 Q71.6338 798.145 69.5822 799.543 Q67.5307 800.918 67.5307 803.646 L67.5307 805.675 Q67.5307 806.373 67.4631 806.576 Q67.3955 806.779 67.0122 806.779 Q66.5613 806.779 66.4712 806.08 Q66.4712 805.382 66.3359 804.277 Q66.2457 801.594 63.9237 800.174 Q61.7594 798.889 58.6709 798.889 Q55.8529 798.889 54.6806 800.241 Q53.4858 801.572 53.4858 803.307 Q53.4858 804.931 54.1621 806.712 Q54.8384 808.493 56.3489 809.462 Q56.3489 806.599 58.6709 806.599 Q59.6854 806.599 60.3617 807.253 Q61.0155 807.884 61.0155 808.943 Q61.0155 809.958 60.3842 810.634 Q59.7305 811.311 58.6258 811.311 Q55.9881 811.311 54.1621 808.966 Q52.336 806.599 52.336 803.127 Q52.336 799.7 54.1395 797.175 Q55.9431 794.628 58.716 794.628 Q61.4438 794.628 63.6757 796.432 Q65.9076 798.235 66.8319 801.098 Q67.5307 797.581 69.9204 795.485 Q72.2875 793.388 75.1957 793.388 Q78.8028 793.388 81.463 796.229 Q84.1006 799.069 84.1006 803.217 Q84.1006 807.05 82.0266 809.8 Q79.9525 812.551 76.864 812.551 Z\" fill=\"#000000\" fill-rule=\"nonzero\" fill-opacity=\"1\" /><path clip-path=\"url(#clip470)\" d=\"M58.7731 755.133 L96.9049 764.634 Q98.6118 765.02 100.061 765.02 Q103.088 765.02 103.088 763.056 Q103.088 762.09 102.476 761.317 Q101.865 760.544 100.576 759.932 Q99.2881 759.32 98.0965 758.934 Q96.8727 758.547 94.9403 758.032 Q94.1674 757.871 93.9741 757.742 Q93.7487 757.581 93.7487 757.13 Q93.7487 756.325 94.3928 756.325 Q98.5474 757.194 100.931 758.322 Q104.57 760.125 104.57 763.185 Q104.57 765.504 103.153 767.146 Q101.736 768.789 99.6102 769.175 Q104.57 773.394 104.57 777.774 Q104.57 781.639 101.639 784.086 Q98.6762 786.534 94.0063 786.534 Q89.3043 786.534 84.7955 784.215 Q80.2866 781.864 77.4847 778.16 Q74.6828 774.457 74.6828 770.656 Q74.6828 766.631 78.9018 764.57 L63.2497 760.608 L61.9615 760.415 Q61.575 760.415 61.3818 760.576 Q61.1564 760.705 60.9953 761.478 Q60.8343 762.219 60.8343 763.7 Q60.8343 764.312 60.8021 764.602 Q60.7699 764.859 60.6089 765.085 Q60.4156 765.31 60.0292 765.31 Q58.902 765.31 58.7731 764.376 Q58.0646 758.193 58.0646 756.003 Q58.0646 755.616 58.2578 755.391 Q58.4189 755.165 58.6121 755.165 L58.7731 755.133 M81.9291 765.375 Q81.6393 765.375 80.8341 765.6 Q80.029 765.826 78.9018 766.341 Q77.7746 766.856 76.9694 767.983 Q76.1321 769.078 76.1321 770.56 Q76.1321 772.557 77.839 774.65 Q79.5459 776.711 82.4444 778.225 Q84.7633 779.384 89.6263 780.64 Q94.4894 781.864 96.9049 781.864 Q98.3863 781.864 99.7068 781.542 Q100.995 781.188 102.058 780.189 Q103.088 779.191 103.088 777.645 Q103.088 773.877 98.4185 770.173 Q97.6134 769.465 97.2913 769.304 Q96.9371 769.111 95.9709 768.853 L83.0563 765.568 Q82.0902 765.375 81.9291 765.375 Z\" fill=\"#000000\" fill-rule=\"nonzero\" fill-opacity=\"1\" /><path clip-path=\"url(#clip470)\" d=\"M79.0306 720.8 Q80.8341 720.8 81.8647 721.927 Q82.8631 723.054 82.8631 724.343 Q82.8631 725.566 82.1546 726.211 Q81.4461 726.855 80.5443 726.855 Q79.3205 726.855 78.2577 725.953 Q77.1949 725.051 76.9694 723.699 Q76.1321 725.019 76.1321 726.984 Q76.1321 728.272 76.8084 729.399 Q77.4847 730.494 78.3543 731.17 Q79.2239 731.814 80.4799 732.394 Q81.7037 732.942 82.4444 733.167 Q83.153 733.36 83.9259 733.521 L92.9435 735.776 Q97.2269 736.871 98.7406 736.871 Q100.609 736.871 101.865 735.969 Q103.088 735.067 103.088 733.264 Q103.088 732.555 102.895 731.75 Q102.67 730.945 102.09 729.914 Q101.478 728.851 100.576 727.917 Q99.6424 726.951 98.0643 726.017 Q96.4862 725.083 94.4572 724.471 Q93.7487 724.278 93.7487 723.634 Q93.7487 722.829 94.3928 722.829 Q94.9403 722.829 96.0997 723.28 Q97.2269 723.699 98.7084 724.632 Q100.158 725.534 101.478 726.726 Q102.766 727.917 103.668 729.689 Q104.57 731.46 104.57 733.392 Q104.57 736.162 103.088 737.998 Q101.607 739.834 99.5457 740.51 Q99.8356 740.671 100.222 740.896 Q100.609 741.122 101.478 741.798 Q102.315 742.442 102.96 743.183 Q103.571 743.924 104.055 745.083 Q104.57 746.21 104.57 747.434 Q104.57 748.98 104.119 750.365 Q103.668 751.718 102.638 752.684 Q101.607 753.65 100.19 753.65 Q98.6118 753.65 97.5168 752.587 Q96.3896 751.492 96.3896 750.011 Q96.3896 749.077 96.9371 748.336 Q97.4846 747.563 98.6762 747.563 Q99.9966 747.563 100.995 748.465 Q101.993 749.367 102.251 750.655 Q103.088 749.334 103.088 747.37 Q103.088 745.244 101.22 743.57 Q99.3525 741.895 96.2285 741.09 Q88.7246 739.093 85.3752 738.32 Q81.9936 737.547 80.5443 737.547 Q79.1916 737.547 78.2577 737.901 Q77.3237 738.256 76.905 738.867 Q76.4541 739.447 76.2931 739.995 Q76.1321 740.51 76.1321 741.09 Q76.1321 742.056 76.5186 743.151 Q76.905 744.214 77.8068 745.502 Q78.6764 746.758 80.4799 747.95 Q82.2834 749.141 84.7633 749.946 Q85.504 750.107 85.504 750.816 Q85.4718 751.589 84.8277 751.589 Q84.2802 751.589 83.153 751.17 Q81.9936 750.719 80.5443 749.817 Q79.095 748.884 77.8068 747.692 Q76.4864 746.468 75.5846 744.697 Q74.6828 742.893 74.6828 740.961 Q74.6828 740.091 74.8761 739.254 Q75.0371 738.384 75.5202 737.354 Q76.0033 736.291 77.0661 735.357 Q78.1289 734.423 79.6747 733.843 Q78.934 733.457 78.2255 732.942 Q77.5169 732.394 76.6474 731.557 Q75.7456 730.687 75.2303 729.496 Q74.6828 728.272 74.6828 726.919 Q74.6828 725.599 75.0371 724.31 Q75.3591 723.022 76.4219 721.927 Q77.4525 720.8 79.0306 720.8 Z\" fill=\"#000000\" fill-rule=\"nonzero\" fill-opacity=\"1\" /><path clip-path=\"url(#clip470)\" d=\"M83.3634 716.297 L83.3634 699.141 L88.5833 699.141 L88.5833 716.297 L83.3634 716.297 Z\" fill=\"#000000\" fill-rule=\"nonzero\" fill-opacity=\"1\" /><path clip-path=\"url(#clip470)\" d=\"M60.5423 675.238 Q60.5423 680.203 65.4439 682.718 Q70.3137 685.2 80.1169 685.2 Q89.8882 685.2 94.7898 682.718 Q99.6596 680.203 99.6596 675.238 Q99.6596 670.241 94.7898 667.758 Q89.8882 665.244 80.1169 665.244 Q70.3137 665.244 65.4439 667.758 Q60.5423 670.241 60.5423 675.238 M55.4498 675.238 Q55.4498 667.249 61.7836 663.048 Q68.0857 658.815 80.1169 658.815 Q92.1162 658.815 98.4501 663.048 Q104.752 667.249 104.752 675.238 Q104.752 683.227 98.4501 687.46 Q92.1162 691.662 80.1169 691.662 Q68.0857 691.662 61.7836 687.46 Q55.4498 683.227 55.4498 675.238 Z\" fill=\"#000000\" fill-rule=\"nonzero\" fill-opacity=\"1\" /><path clip-path=\"url(#clip470)\" d=\"M95.7447 647.515 L95.7447 640.8 L103.829 640.8 L103.829 647.515 L95.7447 647.515 Z\" fill=\"#000000\" fill-rule=\"nonzero\" fill-opacity=\"1\" /><path clip-path=\"url(#clip470)\" d=\"M98.4183 621.257 L98.4183 598.818 L103.829 598.818 L103.829 628.991 L98.4183 628.991 Q94.6307 625.331 88.265 619.029 Q81.8674 612.695 80.0214 611.072 Q76.5521 607.984 74.1649 606.775 Q71.746 605.534 69.4225 605.534 Q65.6349 605.534 63.2477 608.207 Q60.8606 610.849 60.8606 615.114 Q60.8606 618.138 61.911 621.511 Q62.9613 624.853 65.0938 628.673 L58.6008 628.673 Q57.0412 624.79 56.2455 621.416 Q55.4498 618.042 55.4498 615.241 Q55.4498 607.857 59.1419 603.465 Q62.834 599.072 69.0087 599.072 Q71.9369 599.072 74.5787 600.186 Q77.1886 601.269 80.7534 604.165 Q81.6765 604.961 86.1006 609.226 Q90.493 613.491 98.4183 621.257 Z\" fill=\"#000000\" fill-rule=\"nonzero\" fill-opacity=\"1\" /><path clip-path=\"url(#clip470)\" d=\"M56.3091 585.259 L56.3091 560.019 L61.72 560.019 L61.72 579.37 L73.3692 579.37 Q72.8918 577.97 72.669 576.57 Q72.4144 575.169 72.4144 573.769 Q72.4144 565.812 76.7749 561.165 Q81.1354 556.518 88.5833 556.518 Q96.2539 556.518 100.519 561.292 Q104.752 566.066 104.752 574.755 Q104.752 577.747 104.243 580.866 Q103.734 583.954 102.715 587.264 L96.2539 587.264 Q97.8135 584.399 98.5774 581.344 Q99.3413 578.288 99.3413 574.883 Q99.3413 569.376 96.4449 566.162 Q93.5485 562.947 88.5833 562.947 Q83.618 562.947 80.7216 566.162 Q77.8252 569.376 77.8252 574.883 Q77.8252 577.461 78.3981 580.039 Q78.971 582.585 80.1805 585.259 L56.3091 585.259 Z\" fill=\"#000000\" fill-rule=\"nonzero\" fill-opacity=\"1\" /><polyline clip-path=\"url(#clip472)\" style=\"stroke:#009af9; stroke-linecap:round; stroke-linejoin:round; stroke-width:4; stroke-opacity:1; fill:none\" points=\"2295.6,86.1857 1323.62,1060.11 999.622,1240.47 837.624,1303.6 740.426,1332.81 675.627,1348.69 629.342,1358.26 594.628,1364.47 567.628,1368.73 546.029,1371.77 528.356,1374.03 513.629,1375.74 501.168,1377.07 490.487,1378.13 481.23,1378.99 473.13,1379.69 465.983,1380.26 459.63,1380.75 453.946,1381.16 448.83,1381.51 444.202,1381.81 439.994,1382.07 436.152,1382.3 432.63,1382.5 429.39,1382.68 426.4,1382.84 423.631,1382.98 421.059,1383.1 418.665,1383.21 416.431,1383.31 414.34,1383.41 412.381,1383.49 410.54,1383.57 408.807,1383.63 407.174,1383.7 405.631,1383.76 404.171,1383.81 402.789,1383.86 401.477,1383.9 400.231,1383.95 399.046,1383.99 397.917,1384.02 396.84,1384.06 395.813,1384.09 394.831,1384.12 393.892,1384.14 392.993,1384.17 392.131,1384.19 391.304,1384.22 390.511,1384.24 \"/>\n",
       "<circle clip-path=\"url(#clip472)\" cx=\"2295.6\" cy=\"86.1857\" r=\"14.4\" fill=\"#e26f46\" fill-rule=\"evenodd\" fill-opacity=\"1\" stroke=\"#000000\" stroke-opacity=\"1\" stroke-width=\"3.2\"/>\n",
       "<circle clip-path=\"url(#clip472)\" cx=\"1323.62\" cy=\"1060.11\" r=\"14.4\" fill=\"#e26f46\" fill-rule=\"evenodd\" fill-opacity=\"1\" stroke=\"#000000\" stroke-opacity=\"1\" stroke-width=\"3.2\"/>\n",
       "<circle clip-path=\"url(#clip472)\" cx=\"999.622\" cy=\"1240.47\" r=\"14.4\" fill=\"#e26f46\" fill-rule=\"evenodd\" fill-opacity=\"1\" stroke=\"#000000\" stroke-opacity=\"1\" stroke-width=\"3.2\"/>\n",
       "<circle clip-path=\"url(#clip472)\" cx=\"837.624\" cy=\"1303.6\" r=\"14.4\" fill=\"#e26f46\" fill-rule=\"evenodd\" fill-opacity=\"1\" stroke=\"#000000\" stroke-opacity=\"1\" stroke-width=\"3.2\"/>\n",
       "<circle clip-path=\"url(#clip472)\" cx=\"740.426\" cy=\"1332.81\" r=\"14.4\" fill=\"#e26f46\" fill-rule=\"evenodd\" fill-opacity=\"1\" stroke=\"#000000\" stroke-opacity=\"1\" stroke-width=\"3.2\"/>\n",
       "<circle clip-path=\"url(#clip472)\" cx=\"675.627\" cy=\"1348.69\" r=\"14.4\" fill=\"#e26f46\" fill-rule=\"evenodd\" fill-opacity=\"1\" stroke=\"#000000\" stroke-opacity=\"1\" stroke-width=\"3.2\"/>\n",
       "<circle clip-path=\"url(#clip472)\" cx=\"629.342\" cy=\"1358.26\" r=\"14.4\" fill=\"#e26f46\" fill-rule=\"evenodd\" fill-opacity=\"1\" stroke=\"#000000\" stroke-opacity=\"1\" stroke-width=\"3.2\"/>\n",
       "<circle clip-path=\"url(#clip472)\" cx=\"594.628\" cy=\"1364.47\" r=\"14.4\" fill=\"#e26f46\" fill-rule=\"evenodd\" fill-opacity=\"1\" stroke=\"#000000\" stroke-opacity=\"1\" stroke-width=\"3.2\"/>\n",
       "<circle clip-path=\"url(#clip472)\" cx=\"567.628\" cy=\"1368.73\" r=\"14.4\" fill=\"#e26f46\" fill-rule=\"evenodd\" fill-opacity=\"1\" stroke=\"#000000\" stroke-opacity=\"1\" stroke-width=\"3.2\"/>\n",
       "<circle clip-path=\"url(#clip472)\" cx=\"546.029\" cy=\"1371.77\" r=\"14.4\" fill=\"#e26f46\" fill-rule=\"evenodd\" fill-opacity=\"1\" stroke=\"#000000\" stroke-opacity=\"1\" stroke-width=\"3.2\"/>\n",
       "<circle clip-path=\"url(#clip472)\" cx=\"528.356\" cy=\"1374.03\" r=\"14.4\" fill=\"#e26f46\" fill-rule=\"evenodd\" fill-opacity=\"1\" stroke=\"#000000\" stroke-opacity=\"1\" stroke-width=\"3.2\"/>\n",
       "<circle clip-path=\"url(#clip472)\" cx=\"513.629\" cy=\"1375.74\" r=\"14.4\" fill=\"#e26f46\" fill-rule=\"evenodd\" fill-opacity=\"1\" stroke=\"#000000\" stroke-opacity=\"1\" stroke-width=\"3.2\"/>\n",
       "<circle clip-path=\"url(#clip472)\" cx=\"501.168\" cy=\"1377.07\" r=\"14.4\" fill=\"#e26f46\" fill-rule=\"evenodd\" fill-opacity=\"1\" stroke=\"#000000\" stroke-opacity=\"1\" stroke-width=\"3.2\"/>\n",
       "<circle clip-path=\"url(#clip472)\" cx=\"490.487\" cy=\"1378.13\" r=\"14.4\" fill=\"#e26f46\" fill-rule=\"evenodd\" fill-opacity=\"1\" stroke=\"#000000\" stroke-opacity=\"1\" stroke-width=\"3.2\"/>\n",
       "<circle clip-path=\"url(#clip472)\" cx=\"481.23\" cy=\"1378.99\" r=\"14.4\" fill=\"#e26f46\" fill-rule=\"evenodd\" fill-opacity=\"1\" stroke=\"#000000\" stroke-opacity=\"1\" stroke-width=\"3.2\"/>\n",
       "<circle clip-path=\"url(#clip472)\" cx=\"473.13\" cy=\"1379.69\" r=\"14.4\" fill=\"#e26f46\" fill-rule=\"evenodd\" fill-opacity=\"1\" stroke=\"#000000\" stroke-opacity=\"1\" stroke-width=\"3.2\"/>\n",
       "<circle clip-path=\"url(#clip472)\" cx=\"465.983\" cy=\"1380.26\" r=\"14.4\" fill=\"#e26f46\" fill-rule=\"evenodd\" fill-opacity=\"1\" stroke=\"#000000\" stroke-opacity=\"1\" stroke-width=\"3.2\"/>\n",
       "<circle clip-path=\"url(#clip472)\" cx=\"459.63\" cy=\"1380.75\" r=\"14.4\" fill=\"#e26f46\" fill-rule=\"evenodd\" fill-opacity=\"1\" stroke=\"#000000\" stroke-opacity=\"1\" stroke-width=\"3.2\"/>\n",
       "<circle clip-path=\"url(#clip472)\" cx=\"453.946\" cy=\"1381.16\" r=\"14.4\" fill=\"#e26f46\" fill-rule=\"evenodd\" fill-opacity=\"1\" stroke=\"#000000\" stroke-opacity=\"1\" stroke-width=\"3.2\"/>\n",
       "<circle clip-path=\"url(#clip472)\" cx=\"448.83\" cy=\"1381.51\" r=\"14.4\" fill=\"#e26f46\" fill-rule=\"evenodd\" fill-opacity=\"1\" stroke=\"#000000\" stroke-opacity=\"1\" stroke-width=\"3.2\"/>\n",
       "<circle clip-path=\"url(#clip472)\" cx=\"444.202\" cy=\"1381.81\" r=\"14.4\" fill=\"#e26f46\" fill-rule=\"evenodd\" fill-opacity=\"1\" stroke=\"#000000\" stroke-opacity=\"1\" stroke-width=\"3.2\"/>\n",
       "<circle clip-path=\"url(#clip472)\" cx=\"439.994\" cy=\"1382.07\" r=\"14.4\" fill=\"#e26f46\" fill-rule=\"evenodd\" fill-opacity=\"1\" stroke=\"#000000\" stroke-opacity=\"1\" stroke-width=\"3.2\"/>\n",
       "<circle clip-path=\"url(#clip472)\" cx=\"436.152\" cy=\"1382.3\" r=\"14.4\" fill=\"#e26f46\" fill-rule=\"evenodd\" fill-opacity=\"1\" stroke=\"#000000\" stroke-opacity=\"1\" stroke-width=\"3.2\"/>\n",
       "<circle clip-path=\"url(#clip472)\" cx=\"432.63\" cy=\"1382.5\" r=\"14.4\" fill=\"#e26f46\" fill-rule=\"evenodd\" fill-opacity=\"1\" stroke=\"#000000\" stroke-opacity=\"1\" stroke-width=\"3.2\"/>\n",
       "<circle clip-path=\"url(#clip472)\" cx=\"429.39\" cy=\"1382.68\" r=\"14.4\" fill=\"#e26f46\" fill-rule=\"evenodd\" fill-opacity=\"1\" stroke=\"#000000\" stroke-opacity=\"1\" stroke-width=\"3.2\"/>\n",
       "<circle clip-path=\"url(#clip472)\" cx=\"426.4\" cy=\"1382.84\" r=\"14.4\" fill=\"#e26f46\" fill-rule=\"evenodd\" fill-opacity=\"1\" stroke=\"#000000\" stroke-opacity=\"1\" stroke-width=\"3.2\"/>\n",
       "<circle clip-path=\"url(#clip472)\" cx=\"423.631\" cy=\"1382.98\" r=\"14.4\" fill=\"#e26f46\" fill-rule=\"evenodd\" fill-opacity=\"1\" stroke=\"#000000\" stroke-opacity=\"1\" stroke-width=\"3.2\"/>\n",
       "<circle clip-path=\"url(#clip472)\" cx=\"421.059\" cy=\"1383.1\" r=\"14.4\" fill=\"#e26f46\" fill-rule=\"evenodd\" fill-opacity=\"1\" stroke=\"#000000\" stroke-opacity=\"1\" stroke-width=\"3.2\"/>\n",
       "<circle clip-path=\"url(#clip472)\" cx=\"418.665\" cy=\"1383.21\" r=\"14.4\" fill=\"#e26f46\" fill-rule=\"evenodd\" fill-opacity=\"1\" stroke=\"#000000\" stroke-opacity=\"1\" stroke-width=\"3.2\"/>\n",
       "<circle clip-path=\"url(#clip472)\" cx=\"416.431\" cy=\"1383.31\" r=\"14.4\" fill=\"#e26f46\" fill-rule=\"evenodd\" fill-opacity=\"1\" stroke=\"#000000\" stroke-opacity=\"1\" stroke-width=\"3.2\"/>\n",
       "<circle clip-path=\"url(#clip472)\" cx=\"414.34\" cy=\"1383.41\" r=\"14.4\" fill=\"#e26f46\" fill-rule=\"evenodd\" fill-opacity=\"1\" stroke=\"#000000\" stroke-opacity=\"1\" stroke-width=\"3.2\"/>\n",
       "<circle clip-path=\"url(#clip472)\" cx=\"412.381\" cy=\"1383.49\" r=\"14.4\" fill=\"#e26f46\" fill-rule=\"evenodd\" fill-opacity=\"1\" stroke=\"#000000\" stroke-opacity=\"1\" stroke-width=\"3.2\"/>\n",
       "<circle clip-path=\"url(#clip472)\" cx=\"410.54\" cy=\"1383.57\" r=\"14.4\" fill=\"#e26f46\" fill-rule=\"evenodd\" fill-opacity=\"1\" stroke=\"#000000\" stroke-opacity=\"1\" stroke-width=\"3.2\"/>\n",
       "<circle clip-path=\"url(#clip472)\" cx=\"408.807\" cy=\"1383.63\" r=\"14.4\" fill=\"#e26f46\" fill-rule=\"evenodd\" fill-opacity=\"1\" stroke=\"#000000\" stroke-opacity=\"1\" stroke-width=\"3.2\"/>\n",
       "<circle clip-path=\"url(#clip472)\" cx=\"407.174\" cy=\"1383.7\" r=\"14.4\" fill=\"#e26f46\" fill-rule=\"evenodd\" fill-opacity=\"1\" stroke=\"#000000\" stroke-opacity=\"1\" stroke-width=\"3.2\"/>\n",
       "<circle clip-path=\"url(#clip472)\" cx=\"405.631\" cy=\"1383.76\" r=\"14.4\" fill=\"#e26f46\" fill-rule=\"evenodd\" fill-opacity=\"1\" stroke=\"#000000\" stroke-opacity=\"1\" stroke-width=\"3.2\"/>\n",
       "<circle clip-path=\"url(#clip472)\" cx=\"404.171\" cy=\"1383.81\" r=\"14.4\" fill=\"#e26f46\" fill-rule=\"evenodd\" fill-opacity=\"1\" stroke=\"#000000\" stroke-opacity=\"1\" stroke-width=\"3.2\"/>\n",
       "<circle clip-path=\"url(#clip472)\" cx=\"402.789\" cy=\"1383.86\" r=\"14.4\" fill=\"#e26f46\" fill-rule=\"evenodd\" fill-opacity=\"1\" stroke=\"#000000\" stroke-opacity=\"1\" stroke-width=\"3.2\"/>\n",
       "<circle clip-path=\"url(#clip472)\" cx=\"401.477\" cy=\"1383.9\" r=\"14.4\" fill=\"#e26f46\" fill-rule=\"evenodd\" fill-opacity=\"1\" stroke=\"#000000\" stroke-opacity=\"1\" stroke-width=\"3.2\"/>\n",
       "<circle clip-path=\"url(#clip472)\" cx=\"400.231\" cy=\"1383.95\" r=\"14.4\" fill=\"#e26f46\" fill-rule=\"evenodd\" fill-opacity=\"1\" stroke=\"#000000\" stroke-opacity=\"1\" stroke-width=\"3.2\"/>\n",
       "<circle clip-path=\"url(#clip472)\" cx=\"399.046\" cy=\"1383.99\" r=\"14.4\" fill=\"#e26f46\" fill-rule=\"evenodd\" fill-opacity=\"1\" stroke=\"#000000\" stroke-opacity=\"1\" stroke-width=\"3.2\"/>\n",
       "<circle clip-path=\"url(#clip472)\" cx=\"397.917\" cy=\"1384.02\" r=\"14.4\" fill=\"#e26f46\" fill-rule=\"evenodd\" fill-opacity=\"1\" stroke=\"#000000\" stroke-opacity=\"1\" stroke-width=\"3.2\"/>\n",
       "<circle clip-path=\"url(#clip472)\" cx=\"396.84\" cy=\"1384.06\" r=\"14.4\" fill=\"#e26f46\" fill-rule=\"evenodd\" fill-opacity=\"1\" stroke=\"#000000\" stroke-opacity=\"1\" stroke-width=\"3.2\"/>\n",
       "<circle clip-path=\"url(#clip472)\" cx=\"395.813\" cy=\"1384.09\" r=\"14.4\" fill=\"#e26f46\" fill-rule=\"evenodd\" fill-opacity=\"1\" stroke=\"#000000\" stroke-opacity=\"1\" stroke-width=\"3.2\"/>\n",
       "<circle clip-path=\"url(#clip472)\" cx=\"394.831\" cy=\"1384.12\" r=\"14.4\" fill=\"#e26f46\" fill-rule=\"evenodd\" fill-opacity=\"1\" stroke=\"#000000\" stroke-opacity=\"1\" stroke-width=\"3.2\"/>\n",
       "<circle clip-path=\"url(#clip472)\" cx=\"393.892\" cy=\"1384.14\" r=\"14.4\" fill=\"#e26f46\" fill-rule=\"evenodd\" fill-opacity=\"1\" stroke=\"#000000\" stroke-opacity=\"1\" stroke-width=\"3.2\"/>\n",
       "<circle clip-path=\"url(#clip472)\" cx=\"392.993\" cy=\"1384.17\" r=\"14.4\" fill=\"#e26f46\" fill-rule=\"evenodd\" fill-opacity=\"1\" stroke=\"#000000\" stroke-opacity=\"1\" stroke-width=\"3.2\"/>\n",
       "<circle clip-path=\"url(#clip472)\" cx=\"392.131\" cy=\"1384.19\" r=\"14.4\" fill=\"#e26f46\" fill-rule=\"evenodd\" fill-opacity=\"1\" stroke=\"#000000\" stroke-opacity=\"1\" stroke-width=\"3.2\"/>\n",
       "<circle clip-path=\"url(#clip472)\" cx=\"391.304\" cy=\"1384.22\" r=\"14.4\" fill=\"#e26f46\" fill-rule=\"evenodd\" fill-opacity=\"1\" stroke=\"#000000\" stroke-opacity=\"1\" stroke-width=\"3.2\"/>\n",
       "<circle clip-path=\"url(#clip472)\" cx=\"390.511\" cy=\"1384.24\" r=\"14.4\" fill=\"#e26f46\" fill-rule=\"evenodd\" fill-opacity=\"1\" stroke=\"#000000\" stroke-opacity=\"1\" stroke-width=\"3.2\"/>\n",
       "</svg>\n"
      ]
     },
     "execution_count": 77,
     "metadata": {},
     "output_type": "execute_result"
    }
   ],
   "source": [
    "plot(1 ./nvals,tvals.-0.25,xlabel=\"1/n\",ylabel=L\"$\\int_0^1x^3dx$-0.25\",legend=false)\n",
    "scatter!(1 ./nvals,tvals.-0.25)"
   ]
  },
  {
   "cell_type": "markdown",
   "id": "c6a17c9f",
   "metadata": {},
   "source": [
    "It kind of looks like a parabola.  Lets plot against `1/n^2`"
   ]
  },
  {
   "cell_type": "code",
   "execution_count": 78,
   "id": "93f3d124",
   "metadata": {},
   "outputs": [
    {
     "data": {
      "image/png": "[encoded data removed]",
      "image/svg+xml": [
       "<?xml version=\"1.0\" encoding=\"utf-8\"?>\n",
       "<svg xmlns=\"http://www.w3.org/2000/svg\" xmlns:xlink=\"http://www.w3.org/1999/xlink\" width=\"600\" height=\"400\" viewBox=\"0 0 2400 1600\">\n",
       "<defs>\n",
       "  <clipPath id=\"clip510\">\n",
       "    <rect x=\"0\" y=\"0\" width=\"2400\" height=\"1600\"/>\n",
       "  </clipPath>\n",
       "</defs>\n",
       "<path clip-path=\"url(#clip510)\" d=\"M0 1600 L2400 1600 L2400 8.88178e-14 L0 8.88178e-14  Z\" fill=\"#ffffff\" fill-rule=\"evenodd\" fill-opacity=\"1\"/>\n",
       "<defs>\n",
       "  <clipPath id=\"clip511\">\n",
       "    <rect x=\"480\" y=\"0\" width=\"1681\" height=\"1600\"/>\n",
       "  </clipPath>\n",
       "</defs>\n",
       "<path clip-path=\"url(#clip510)\" d=\"M333.358 1423.18 L2352.76 1423.18 L2352.76 47.2441 L333.358 47.2441  Z\" fill=\"#ffffff\" fill-rule=\"evenodd\" fill-opacity=\"1\"/>\n",
       "<defs>\n",
       "  <clipPath id=\"clip512\">\n",
       "    <rect x=\"333\" y=\"47\" width=\"2020\" height=\"1377\"/>\n",
       "  </clipPath>\n",
       "</defs>\n",
       "<polyline clip-path=\"url(#clip512)\" style=\"stroke:#000000; stroke-linecap:round; stroke-linejoin:round; stroke-width:2; stroke-opacity:0.1; fill:none\" points=\"389.749,1423.18 389.749,47.2441 \"/>\n",
       "<polyline clip-path=\"url(#clip512)\" style=\"stroke:#000000; stroke-linecap:round; stroke-linejoin:round; stroke-width:2; stroke-opacity:0.1; fill:none\" points=\"866.212,1423.18 866.212,47.2441 \"/>\n",
       "<polyline clip-path=\"url(#clip512)\" style=\"stroke:#000000; stroke-linecap:round; stroke-linejoin:round; stroke-width:2; stroke-opacity:0.1; fill:none\" points=\"1342.68,1423.18 1342.68,47.2441 \"/>\n",
       "<polyline clip-path=\"url(#clip512)\" style=\"stroke:#000000; stroke-linecap:round; stroke-linejoin:round; stroke-width:2; stroke-opacity:0.1; fill:none\" points=\"1819.14,1423.18 1819.14,47.2441 \"/>\n",
       "<polyline clip-path=\"url(#clip512)\" style=\"stroke:#000000; stroke-linecap:round; stroke-linejoin:round; stroke-width:2; stroke-opacity:0.1; fill:none\" points=\"2295.6,1423.18 2295.6,47.2441 \"/>\n",
       "<polyline clip-path=\"url(#clip510)\" style=\"stroke:#000000; stroke-linecap:round; stroke-linejoin:round; stroke-width:4; stroke-opacity:1; fill:none\" points=\"333.358,1423.18 2352.76,1423.18 \"/>\n",
       "<polyline clip-path=\"url(#clip510)\" style=\"stroke:#000000; stroke-linecap:round; stroke-linejoin:round; stroke-width:4; stroke-opacity:1; fill:none\" points=\"389.749,1423.18 389.749,1404.28 \"/>\n",
       "<polyline clip-path=\"url(#clip510)\" style=\"stroke:#000000; stroke-linecap:round; stroke-linejoin:round; stroke-width:4; stroke-opacity:1; fill:none\" points=\"866.212,1423.18 866.212,1404.28 \"/>\n",
       "<polyline clip-path=\"url(#clip510)\" style=\"stroke:#000000; stroke-linecap:round; stroke-linejoin:round; stroke-width:4; stroke-opacity:1; fill:none\" points=\"1342.68,1423.18 1342.68,1404.28 \"/>\n",
       "<polyline clip-path=\"url(#clip510)\" style=\"stroke:#000000; stroke-linecap:round; stroke-linejoin:round; stroke-width:4; stroke-opacity:1; fill:none\" points=\"1819.14,1423.18 1819.14,1404.28 \"/>\n",
       "<polyline clip-path=\"url(#clip510)\" style=\"stroke:#000000; stroke-linecap:round; stroke-linejoin:round; stroke-width:4; stroke-opacity:1; fill:none\" points=\"2295.6,1423.18 2295.6,1404.28 \"/>\n",
       "<path clip-path=\"url(#clip510)\" d=\"M352.052 1454.1 Q348.441 1454.1 346.612 1457.66 Q344.807 1461.2 344.807 1468.33 Q344.807 1475.44 346.612 1479.01 Q348.441 1482.55 352.052 1482.55 Q355.686 1482.55 357.492 1479.01 Q359.321 1475.44 359.321 1468.33 Q359.321 1461.2 357.492 1457.66 Q355.686 1454.1 352.052 1454.1 M352.052 1450.39 Q357.862 1450.39 360.918 1455 Q363.996 1459.58 363.996 1468.33 Q363.996 1477.06 360.918 1481.67 Q357.862 1486.25 352.052 1486.25 Q346.242 1486.25 343.163 1481.67 Q340.108 1477.06 340.108 1468.33 Q340.108 1459.58 343.163 1455 Q346.242 1450.39 352.052 1450.39 Z\" fill=\"#000000\" fill-rule=\"nonzero\" fill-opacity=\"1\" /><path clip-path=\"url(#clip510)\" d=\"M372.214 1479.7 L377.098 1479.7 L377.098 1485.58 L372.214 1485.58 L372.214 1479.7 Z\" fill=\"#000000\" fill-rule=\"nonzero\" fill-opacity=\"1\" /><path clip-path=\"url(#clip510)\" d=\"M397.283 1454.1 Q393.672 1454.1 391.844 1457.66 Q390.038 1461.2 390.038 1468.33 Q390.038 1475.44 391.844 1479.01 Q393.672 1482.55 397.283 1482.55 Q400.918 1482.55 402.723 1479.01 Q404.552 1475.44 404.552 1468.33 Q404.552 1461.2 402.723 1457.66 Q400.918 1454.1 397.283 1454.1 M397.283 1450.39 Q403.093 1450.39 406.149 1455 Q409.228 1459.58 409.228 1468.33 Q409.228 1477.06 406.149 1481.67 Q403.093 1486.25 397.283 1486.25 Q391.473 1486.25 388.394 1481.67 Q385.339 1477.06 385.339 1468.33 Q385.339 1459.58 388.394 1455 Q391.473 1450.39 397.283 1450.39 Z\" fill=\"#000000\" fill-rule=\"nonzero\" fill-opacity=\"1\" /><path clip-path=\"url(#clip510)\" d=\"M427.445 1454.1 Q423.834 1454.1 422.005 1457.66 Q420.2 1461.2 420.2 1468.33 Q420.2 1475.44 422.005 1479.01 Q423.834 1482.55 427.445 1482.55 Q431.079 1482.55 432.885 1479.01 Q434.714 1475.44 434.714 1468.33 Q434.714 1461.2 432.885 1457.66 Q431.079 1454.1 427.445 1454.1 M427.445 1450.39 Q433.255 1450.39 436.311 1455 Q439.39 1459.58 439.39 1468.33 Q439.39 1477.06 436.311 1481.67 Q433.255 1486.25 427.445 1486.25 Q421.635 1486.25 418.556 1481.67 Q415.501 1477.06 415.501 1468.33 Q415.501 1459.58 418.556 1455 Q421.635 1450.39 427.445 1450.39 Z\" fill=\"#000000\" fill-rule=\"nonzero\" fill-opacity=\"1\" /><path clip-path=\"url(#clip510)\" d=\"M829.013 1454.1 Q825.402 1454.1 823.574 1457.66 Q821.768 1461.2 821.768 1468.33 Q821.768 1475.44 823.574 1479.01 Q825.402 1482.55 829.013 1482.55 Q832.648 1482.55 834.453 1479.01 Q836.282 1475.44 836.282 1468.33 Q836.282 1461.2 834.453 1457.66 Q832.648 1454.1 829.013 1454.1 M829.013 1450.39 Q834.824 1450.39 837.879 1455 Q840.958 1459.58 840.958 1468.33 Q840.958 1477.06 837.879 1481.67 Q834.824 1486.25 829.013 1486.25 Q823.203 1486.25 820.125 1481.67 Q817.069 1477.06 817.069 1468.33 Q817.069 1459.58 820.125 1455 Q823.203 1450.39 829.013 1450.39 Z\" fill=\"#000000\" fill-rule=\"nonzero\" fill-opacity=\"1\" /><path clip-path=\"url(#clip510)\" d=\"M849.175 1479.7 L854.06 1479.7 L854.06 1485.58 L849.175 1485.58 L849.175 1479.7 Z\" fill=\"#000000\" fill-rule=\"nonzero\" fill-opacity=\"1\" /><path clip-path=\"url(#clip510)\" d=\"M868.272 1481.64 L884.592 1481.64 L884.592 1485.58 L862.647 1485.58 L862.647 1481.64 Q865.31 1478.89 869.893 1474.26 Q874.499 1469.61 875.68 1468.27 Q877.925 1465.74 878.805 1464.01 Q879.708 1462.25 879.708 1460.56 Q879.708 1457.8 877.763 1456.07 Q875.842 1454.33 872.74 1454.33 Q870.541 1454.33 868.087 1455.09 Q865.657 1455.86 862.879 1457.41 L862.879 1452.69 Q865.703 1451.55 868.157 1450.97 Q870.61 1450.39 872.647 1450.39 Q878.018 1450.39 881.212 1453.08 Q884.407 1455.77 884.407 1460.26 Q884.407 1462.39 883.596 1464.31 Q882.809 1466.2 880.703 1468.8 Q880.124 1469.47 877.022 1472.69 Q873.921 1475.88 868.272 1481.64 Z\" fill=\"#000000\" fill-rule=\"nonzero\" fill-opacity=\"1\" /><path clip-path=\"url(#clip510)\" d=\"M894.453 1451.02 L912.809 1451.02 L912.809 1454.96 L898.735 1454.96 L898.735 1463.43 Q899.754 1463.08 900.772 1462.92 Q901.791 1462.73 902.809 1462.73 Q908.596 1462.73 911.976 1465.9 Q915.356 1469.08 915.356 1474.49 Q915.356 1480.07 911.883 1483.17 Q908.411 1486.25 902.092 1486.25 Q899.916 1486.25 897.647 1485.88 Q895.402 1485.51 892.995 1484.77 L892.995 1480.07 Q895.078 1481.2 897.3 1481.76 Q899.522 1482.32 901.999 1482.32 Q906.004 1482.32 908.342 1480.21 Q910.68 1478.1 910.68 1474.49 Q910.68 1470.88 908.342 1468.77 Q906.004 1466.67 901.999 1466.67 Q900.124 1466.67 898.249 1467.08 Q896.397 1467.5 894.453 1468.38 L894.453 1451.02 Z\" fill=\"#000000\" fill-rule=\"nonzero\" fill-opacity=\"1\" /><path clip-path=\"url(#clip510)\" d=\"M1304.98 1454.1 Q1301.37 1454.1 1299.54 1457.66 Q1297.73 1461.2 1297.73 1468.33 Q1297.73 1475.44 1299.54 1479.01 Q1301.37 1482.55 1304.98 1482.55 Q1308.61 1482.55 1310.42 1479.01 Q1312.25 1475.44 1312.25 1468.33 Q1312.25 1461.2 1310.42 1457.66 Q1308.61 1454.1 1304.98 1454.1 M1304.98 1450.39 Q1310.79 1450.39 1313.85 1455 Q1316.92 1459.58 1316.92 1468.33 Q1316.92 1477.06 1313.85 1481.67 Q1310.79 1486.25 1304.98 1486.25 Q1299.17 1486.25 1296.09 1481.67 Q1293.03 1477.06 1293.03 1468.33 Q1293.03 1459.58 1296.09 1455 Q1299.17 1450.39 1304.98 1450.39 Z\" fill=\"#000000\" fill-rule=\"nonzero\" fill-opacity=\"1\" /><path clip-path=\"url(#clip510)\" d=\"M1325.14 1479.7 L1330.03 1479.7 L1330.03 1485.58 L1325.14 1485.58 L1325.14 1479.7 Z\" fill=\"#000000\" fill-rule=\"nonzero\" fill-opacity=\"1\" /><path clip-path=\"url(#clip510)\" d=\"M1340.26 1451.02 L1358.61 1451.02 L1358.61 1454.96 L1344.54 1454.96 L1344.54 1463.43 Q1345.56 1463.08 1346.58 1462.92 Q1347.59 1462.73 1348.61 1462.73 Q1354.4 1462.73 1357.78 1465.9 Q1361.16 1469.08 1361.16 1474.49 Q1361.16 1480.07 1357.69 1483.17 Q1354.22 1486.25 1347.9 1486.25 Q1345.72 1486.25 1343.45 1485.88 Q1341.21 1485.51 1338.8 1484.77 L1338.8 1480.07 Q1340.88 1481.2 1343.1 1481.76 Q1345.33 1482.32 1347.8 1482.32 Q1351.81 1482.32 1354.15 1480.21 Q1356.48 1478.1 1356.48 1474.49 Q1356.48 1470.88 1354.15 1468.77 Q1351.81 1466.67 1347.8 1466.67 Q1345.93 1466.67 1344.05 1467.08 Q1342.2 1467.5 1340.26 1468.38 L1340.26 1451.02 Z\" fill=\"#000000\" fill-rule=\"nonzero\" fill-opacity=\"1\" /><path clip-path=\"url(#clip510)\" d=\"M1380.37 1454.1 Q1376.76 1454.1 1374.93 1457.66 Q1373.13 1461.2 1373.13 1468.33 Q1373.13 1475.44 1374.93 1479.01 Q1376.76 1482.55 1380.37 1482.55 Q1384.01 1482.55 1385.81 1479.01 Q1387.64 1475.44 1387.64 1468.33 Q1387.64 1461.2 1385.81 1457.66 Q1384.01 1454.1 1380.37 1454.1 M1380.37 1450.39 Q1386.18 1450.39 1389.24 1455 Q1392.32 1459.58 1392.32 1468.33 Q1392.32 1477.06 1389.24 1481.67 Q1386.18 1486.25 1380.37 1486.25 Q1374.56 1486.25 1371.48 1481.67 Q1368.43 1477.06 1368.43 1468.33 Q1368.43 1459.58 1371.48 1455 Q1374.56 1450.39 1380.37 1450.39 Z\" fill=\"#000000\" fill-rule=\"nonzero\" fill-opacity=\"1\" /><path clip-path=\"url(#clip510)\" d=\"M1781.94 1454.1 Q1778.33 1454.1 1776.5 1457.66 Q1774.7 1461.2 1774.7 1468.33 Q1774.7 1475.44 1776.5 1479.01 Q1778.33 1482.55 1781.94 1482.55 Q1785.57 1482.55 1787.38 1479.01 Q1789.21 1475.44 1789.21 1468.33 Q1789.21 1461.2 1787.38 1457.66 Q1785.57 1454.1 1781.94 1454.1 M1781.94 1450.39 Q1787.75 1450.39 1790.81 1455 Q1793.89 1459.58 1793.89 1468.33 Q1793.89 1477.06 1790.81 1481.67 Q1787.75 1486.25 1781.94 1486.25 Q1776.13 1486.25 1773.05 1481.67 Q1770 1477.06 1770 1468.33 Q1770 1459.58 1773.05 1455 Q1776.13 1450.39 1781.94 1450.39 Z\" fill=\"#000000\" fill-rule=\"nonzero\" fill-opacity=\"1\" /><path clip-path=\"url(#clip510)\" d=\"M1802.1 1479.7 L1806.99 1479.7 L1806.99 1485.58 L1802.1 1485.58 L1802.1 1479.7 Z\" fill=\"#000000\" fill-rule=\"nonzero\" fill-opacity=\"1\" /><path clip-path=\"url(#clip510)\" d=\"M1815.99 1451.02 L1838.21 1451.02 L1838.21 1453.01 L1825.67 1485.58 L1820.78 1485.58 L1832.59 1454.96 L1815.99 1454.96 L1815.99 1451.02 Z\" fill=\"#000000\" fill-rule=\"nonzero\" fill-opacity=\"1\" /><path clip-path=\"url(#clip510)\" d=\"M1847.38 1451.02 L1865.74 1451.02 L1865.74 1454.96 L1851.66 1454.96 L1851.66 1463.43 Q1852.68 1463.08 1853.7 1462.92 Q1854.72 1462.73 1855.74 1462.73 Q1861.52 1462.73 1864.9 1465.9 Q1868.28 1469.08 1868.28 1474.49 Q1868.28 1480.07 1864.81 1483.17 Q1861.34 1486.25 1855.02 1486.25 Q1852.84 1486.25 1850.57 1485.88 Q1848.33 1485.51 1845.92 1484.77 L1845.92 1480.07 Q1848.01 1481.2 1850.23 1481.76 Q1852.45 1482.32 1854.93 1482.32 Q1858.93 1482.32 1861.27 1480.21 Q1863.61 1478.1 1863.61 1474.49 Q1863.61 1470.88 1861.27 1468.77 Q1858.93 1466.67 1854.93 1466.67 Q1853.05 1466.67 1851.18 1467.08 Q1849.32 1467.5 1847.38 1468.38 L1847.38 1451.02 Z\" fill=\"#000000\" fill-rule=\"nonzero\" fill-opacity=\"1\" /><path clip-path=\"url(#clip510)\" d=\"M2247.68 1481.64 L2255.31 1481.64 L2255.31 1455.28 L2247 1456.95 L2247 1452.69 L2255.27 1451.02 L2259.94 1451.02 L2259.94 1481.64 L2267.58 1481.64 L2267.58 1485.58 L2247.68 1485.58 L2247.68 1481.64 Z\" fill=\"#000000\" fill-rule=\"nonzero\" fill-opacity=\"1\" /><path clip-path=\"url(#clip510)\" d=\"M2277.03 1479.7 L2281.91 1479.7 L2281.91 1485.58 L2277.03 1485.58 L2277.03 1479.7 Z\" fill=\"#000000\" fill-rule=\"nonzero\" fill-opacity=\"1\" /><path clip-path=\"url(#clip510)\" d=\"M2302.1 1454.1 Q2298.49 1454.1 2296.66 1457.66 Q2294.85 1461.2 2294.85 1468.33 Q2294.85 1475.44 2296.66 1479.01 Q2298.49 1482.55 2302.1 1482.55 Q2305.73 1482.55 2307.54 1479.01 Q2309.36 1475.44 2309.36 1468.33 Q2309.36 1461.2 2307.54 1457.66 Q2305.73 1454.1 2302.1 1454.1 M2302.1 1450.39 Q2307.91 1450.39 2310.96 1455 Q2314.04 1459.58 2314.04 1468.33 Q2314.04 1477.06 2310.96 1481.67 Q2307.91 1486.25 2302.1 1486.25 Q2296.29 1486.25 2293.21 1481.67 Q2290.15 1477.06 2290.15 1468.33 Q2290.15 1459.58 2293.21 1455 Q2296.29 1450.39 2302.1 1450.39 Z\" fill=\"#000000\" fill-rule=\"nonzero\" fill-opacity=\"1\" /><path clip-path=\"url(#clip510)\" d=\"M2332.26 1454.1 Q2328.65 1454.1 2326.82 1457.66 Q2325.01 1461.2 2325.01 1468.33 Q2325.01 1475.44 2326.82 1479.01 Q2328.65 1482.55 2332.26 1482.55 Q2335.89 1482.55 2337.7 1479.01 Q2339.53 1475.44 2339.53 1468.33 Q2339.53 1461.2 2337.7 1457.66 Q2335.89 1454.1 2332.26 1454.1 M2332.26 1450.39 Q2338.07 1450.39 2341.12 1455 Q2344.2 1459.58 2344.2 1468.33 Q2344.2 1477.06 2341.12 1481.67 Q2338.07 1486.25 2332.26 1486.25 Q2326.45 1486.25 2323.37 1481.67 Q2320.31 1477.06 2320.31 1468.33 Q2320.31 1459.58 2323.37 1455 Q2326.45 1450.39 2332.26 1450.39 Z\" fill=\"#000000\" fill-rule=\"nonzero\" fill-opacity=\"1\" /><path clip-path=\"url(#clip510)\" d=\"M1284.17 1562.63 L1294.68 1562.63 L1294.68 1526.38 L1283.25 1528.67 L1283.25 1522.82 L1294.61 1520.52 L1301.04 1520.52 L1301.04 1562.63 L1311.55 1562.63 L1311.55 1568.04 L1284.17 1568.04 L1284.17 1562.63 Z\" fill=\"#000000\" fill-rule=\"nonzero\" fill-opacity=\"1\" /><path clip-path=\"url(#clip510)\" d=\"M1334.11 1520.52 L1339.52 1520.52 L1322.97 1574.09 L1317.56 1574.09 L1334.11 1520.52 Z\" fill=\"#000000\" fill-rule=\"nonzero\" fill-opacity=\"1\" /><path clip-path=\"url(#clip510)\" d=\"M1375.3 1546.53 L1375.3 1568.04 L1369.44 1568.04 L1369.44 1546.72 Q1369.44 1541.66 1367.47 1539.14 Q1365.5 1536.63 1361.55 1536.63 Q1356.81 1536.63 1354.07 1539.65 Q1351.33 1542.68 1351.33 1547.9 L1351.33 1568.04 L1345.44 1568.04 L1345.44 1532.4 L1351.33 1532.4 L1351.33 1537.93 Q1353.43 1534.72 1356.27 1533.13 Q1359.13 1531.54 1362.85 1531.54 Q1369 1531.54 1372.15 1535.36 Q1375.3 1539.14 1375.3 1546.53 Z\" fill=\"#000000\" fill-rule=\"nonzero\" fill-opacity=\"1\" /><path clip-path=\"url(#clip510)\" d=\"M1389.37 1543.15 L1402.86 1543.15 L1402.86 1546.78 L1383.83 1546.78 L1383.83 1543.28 Q1384.91 1542.29 1386.92 1540.51 Q1397.87 1530.8 1397.87 1527.81 Q1397.87 1525.71 1396.21 1524.44 Q1394.56 1523.13 1391.85 1523.13 Q1390.2 1523.13 1388.25 1523.71 Q1386.31 1524.25 1384.02 1525.36 L1384.02 1521.45 Q1386.47 1520.56 1388.57 1520.11 Q1390.7 1519.66 1392.52 1519.66 Q1397.13 1519.66 1399.9 1521.77 Q1402.67 1523.87 1402.67 1527.3 Q1402.67 1531.73 1392.14 1540.77 Q1390.35 1542.29 1389.37 1543.15 Z\" fill=\"#000000\" fill-rule=\"nonzero\" fill-opacity=\"1\" /><polyline clip-path=\"url(#clip512)\" style=\"stroke:#000000; stroke-linecap:round; stroke-linejoin:round; stroke-width:2; stroke-opacity:0.1; fill:none\" points=\"333.358,1384.76 2352.76,1384.76 \"/>\n",
       "<polyline clip-path=\"url(#clip512)\" style=\"stroke:#000000; stroke-linecap:round; stroke-linejoin:round; stroke-width:2; stroke-opacity:0.1; fill:none\" points=\"333.358,1125.04 2352.76,1125.04 \"/>\n",
       "<polyline clip-path=\"url(#clip512)\" style=\"stroke:#000000; stroke-linecap:round; stroke-linejoin:round; stroke-width:2; stroke-opacity:0.1; fill:none\" points=\"333.358,865.329 2352.76,865.329 \"/>\n",
       "<polyline clip-path=\"url(#clip512)\" style=\"stroke:#000000; stroke-linecap:round; stroke-linejoin:round; stroke-width:2; stroke-opacity:0.1; fill:none\" points=\"333.358,605.614 2352.76,605.614 \"/>\n",
       "<polyline clip-path=\"url(#clip512)\" style=\"stroke:#000000; stroke-linecap:round; stroke-linejoin:round; stroke-width:2; stroke-opacity:0.1; fill:none\" points=\"333.358,345.9 2352.76,345.9 \"/>\n",
       "<polyline clip-path=\"url(#clip512)\" style=\"stroke:#000000; stroke-linecap:round; stroke-linejoin:round; stroke-width:2; stroke-opacity:0.1; fill:none\" points=\"333.358,86.1857 2352.76,86.1857 \"/>\n",
       "<polyline clip-path=\"url(#clip510)\" style=\"stroke:#000000; stroke-linecap:round; stroke-linejoin:round; stroke-width:4; stroke-opacity:1; fill:none\" points=\"333.358,1423.18 333.358,47.2441 \"/>\n",
       "<polyline clip-path=\"url(#clip510)\" style=\"stroke:#000000; stroke-linecap:round; stroke-linejoin:round; stroke-width:4; stroke-opacity:1; fill:none\" points=\"333.358,1384.76 352.256,1384.76 \"/>\n",
       "<polyline clip-path=\"url(#clip510)\" style=\"stroke:#000000; stroke-linecap:round; stroke-linejoin:round; stroke-width:4; stroke-opacity:1; fill:none\" points=\"333.358,1125.04 352.256,1125.04 \"/>\n",
       "<polyline clip-path=\"url(#clip510)\" style=\"stroke:#000000; stroke-linecap:round; stroke-linejoin:round; stroke-width:4; stroke-opacity:1; fill:none\" points=\"333.358,865.329 352.256,865.329 \"/>\n",
       "<polyline clip-path=\"url(#clip510)\" style=\"stroke:#000000; stroke-linecap:round; stroke-linejoin:round; stroke-width:4; stroke-opacity:1; fill:none\" points=\"333.358,605.614 352.256,605.614 \"/>\n",
       "<polyline clip-path=\"url(#clip510)\" style=\"stroke:#000000; stroke-linecap:round; stroke-linejoin:round; stroke-width:4; stroke-opacity:1; fill:none\" points=\"333.358,345.9 352.256,345.9 \"/>\n",
       "<polyline clip-path=\"url(#clip510)\" style=\"stroke:#000000; stroke-linecap:round; stroke-linejoin:round; stroke-width:4; stroke-opacity:1; fill:none\" points=\"333.358,86.1857 352.256,86.1857 \"/>\n",
       "<path clip-path=\"url(#clip510)\" d=\"M210.021 1370.56 Q206.41 1370.56 204.581 1374.12 Q202.775 1377.66 202.775 1384.79 Q202.775 1391.9 204.581 1395.46 Q206.41 1399.01 210.021 1399.01 Q213.655 1399.01 215.461 1395.46 Q217.289 1391.9 217.289 1384.79 Q217.289 1377.66 215.461 1374.12 Q213.655 1370.56 210.021 1370.56 M210.021 1366.85 Q215.831 1366.85 218.886 1371.46 Q221.965 1376.04 221.965 1384.79 Q221.965 1393.52 218.886 1398.13 Q215.831 1402.71 210.021 1402.71 Q204.211 1402.71 201.132 1398.13 Q198.076 1393.52 198.076 1384.79 Q198.076 1376.04 201.132 1371.46 Q204.211 1366.85 210.021 1366.85 Z\" fill=\"#000000\" fill-rule=\"nonzero\" fill-opacity=\"1\" /><path clip-path=\"url(#clip510)\" d=\"M230.183 1396.16 L235.067 1396.16 L235.067 1402.04 L230.183 1402.04 L230.183 1396.16 Z\" fill=\"#000000\" fill-rule=\"nonzero\" fill-opacity=\"1\" /><path clip-path=\"url(#clip510)\" d=\"M255.252 1370.56 Q251.641 1370.56 249.812 1374.12 Q248.007 1377.66 248.007 1384.79 Q248.007 1391.9 249.812 1395.46 Q251.641 1399.01 255.252 1399.01 Q258.886 1399.01 260.692 1395.46 Q262.52 1391.9 262.52 1384.79 Q262.52 1377.66 260.692 1374.12 Q258.886 1370.56 255.252 1370.56 M255.252 1366.85 Q261.062 1366.85 264.118 1371.46 Q267.196 1376.04 267.196 1384.79 Q267.196 1393.52 264.118 1398.13 Q261.062 1402.71 255.252 1402.71 Q249.442 1402.71 246.363 1398.13 Q243.308 1393.52 243.308 1384.79 Q243.308 1376.04 246.363 1371.46 Q249.442 1366.85 255.252 1366.85 Z\" fill=\"#000000\" fill-rule=\"nonzero\" fill-opacity=\"1\" /><path clip-path=\"url(#clip510)\" d=\"M285.414 1370.56 Q281.803 1370.56 279.974 1374.12 Q278.169 1377.66 278.169 1384.79 Q278.169 1391.9 279.974 1395.46 Q281.803 1399.01 285.414 1399.01 Q289.048 1399.01 290.854 1395.46 Q292.682 1391.9 292.682 1384.79 Q292.682 1377.66 290.854 1374.12 Q289.048 1370.56 285.414 1370.56 M285.414 1366.85 Q291.224 1366.85 294.28 1371.46 Q297.358 1376.04 297.358 1384.79 Q297.358 1393.52 294.28 1398.13 Q291.224 1402.71 285.414 1402.71 Q279.604 1402.71 276.525 1398.13 Q273.469 1393.52 273.469 1384.79 Q273.469 1376.04 276.525 1371.46 Q279.604 1366.85 285.414 1366.85 Z\" fill=\"#000000\" fill-rule=\"nonzero\" fill-opacity=\"1\" /><path clip-path=\"url(#clip510)\" d=\"M211.016 1110.84 Q207.405 1110.84 205.576 1114.41 Q203.771 1117.95 203.771 1125.08 Q203.771 1132.18 205.576 1135.75 Q207.405 1139.29 211.016 1139.29 Q214.65 1139.29 216.456 1135.75 Q218.285 1132.18 218.285 1125.08 Q218.285 1117.95 216.456 1114.41 Q214.65 1110.84 211.016 1110.84 M211.016 1107.14 Q216.826 1107.14 219.882 1111.74 Q222.96 1116.33 222.96 1125.08 Q222.96 1133.8 219.882 1138.41 Q216.826 1142.99 211.016 1142.99 Q205.206 1142.99 202.127 1138.41 Q199.072 1133.8 199.072 1125.08 Q199.072 1116.33 202.127 1111.74 Q205.206 1107.14 211.016 1107.14 Z\" fill=\"#000000\" fill-rule=\"nonzero\" fill-opacity=\"1\" /><path clip-path=\"url(#clip510)\" d=\"M231.178 1136.44 L236.062 1136.44 L236.062 1142.32 L231.178 1142.32 L231.178 1136.44 Z\" fill=\"#000000\" fill-rule=\"nonzero\" fill-opacity=\"1\" /><path clip-path=\"url(#clip510)\" d=\"M256.247 1110.84 Q252.636 1110.84 250.808 1114.41 Q249.002 1117.95 249.002 1125.08 Q249.002 1132.18 250.808 1135.75 Q252.636 1139.29 256.247 1139.29 Q259.882 1139.29 261.687 1135.75 Q263.516 1132.18 263.516 1125.08 Q263.516 1117.95 261.687 1114.41 Q259.882 1110.84 256.247 1110.84 M256.247 1107.14 Q262.057 1107.14 265.113 1111.74 Q268.192 1116.33 268.192 1125.08 Q268.192 1133.8 265.113 1138.41 Q262.057 1142.99 256.247 1142.99 Q250.437 1142.99 247.358 1138.41 Q244.303 1133.8 244.303 1125.08 Q244.303 1116.33 247.358 1111.74 Q250.437 1107.14 256.247 1107.14 Z\" fill=\"#000000\" fill-rule=\"nonzero\" fill-opacity=\"1\" /><path clip-path=\"url(#clip510)\" d=\"M276.456 1107.76 L294.812 1107.76 L294.812 1111.7 L280.738 1111.7 L280.738 1120.17 Q281.756 1119.82 282.775 1119.66 Q283.793 1119.48 284.812 1119.48 Q290.599 1119.48 293.979 1122.65 Q297.358 1125.82 297.358 1131.24 Q297.358 1136.81 293.886 1139.92 Q290.414 1142.99 284.094 1142.99 Q281.918 1142.99 279.65 1142.62 Q277.405 1142.25 274.997 1141.51 L274.997 1136.81 Q277.081 1137.95 279.303 1138.5 Q281.525 1139.06 284.002 1139.06 Q288.006 1139.06 290.344 1136.95 Q292.682 1134.85 292.682 1131.24 Q292.682 1127.62 290.344 1125.52 Q288.006 1123.41 284.002 1123.41 Q282.127 1123.41 280.252 1123.83 Q278.4 1124.24 276.456 1125.12 L276.456 1107.76 Z\" fill=\"#000000\" fill-rule=\"nonzero\" fill-opacity=\"1\" /><path clip-path=\"url(#clip510)\" d=\"M210.021 851.128 Q206.41 851.128 204.581 854.692 Q202.775 858.234 202.775 865.364 Q202.775 872.47 204.581 876.035 Q206.41 879.576 210.021 879.576 Q213.655 879.576 215.461 876.035 Q217.289 872.47 217.289 865.364 Q217.289 858.234 215.461 854.692 Q213.655 851.128 210.021 851.128 M210.021 847.424 Q215.831 847.424 218.886 852.03 Q221.965 856.614 221.965 865.364 Q221.965 874.09 218.886 878.697 Q215.831 883.28 210.021 883.28 Q204.211 883.28 201.132 878.697 Q198.076 874.09 198.076 865.364 Q198.076 856.614 201.132 852.03 Q204.211 847.424 210.021 847.424 Z\" fill=\"#000000\" fill-rule=\"nonzero\" fill-opacity=\"1\" /><path clip-path=\"url(#clip510)\" d=\"M230.183 876.729 L235.067 876.729 L235.067 882.609 L230.183 882.609 L230.183 876.729 Z\" fill=\"#000000\" fill-rule=\"nonzero\" fill-opacity=\"1\" /><path clip-path=\"url(#clip510)\" d=\"M246.062 878.674 L253.701 878.674 L253.701 852.308 L245.391 853.975 L245.391 849.716 L253.655 848.049 L258.331 848.049 L258.331 878.674 L265.97 878.674 L265.97 882.609 L246.062 882.609 L246.062 878.674 Z\" fill=\"#000000\" fill-rule=\"nonzero\" fill-opacity=\"1\" /><path clip-path=\"url(#clip510)\" d=\"M285.414 851.128 Q281.803 851.128 279.974 854.692 Q278.169 858.234 278.169 865.364 Q278.169 872.47 279.974 876.035 Q281.803 879.576 285.414 879.576 Q289.048 879.576 290.854 876.035 Q292.682 872.47 292.682 865.364 Q292.682 858.234 290.854 854.692 Q289.048 851.128 285.414 851.128 M285.414 847.424 Q291.224 847.424 294.28 852.03 Q297.358 856.614 297.358 865.364 Q297.358 874.09 294.28 878.697 Q291.224 883.28 285.414 883.28 Q279.604 883.28 276.525 878.697 Q273.469 874.09 273.469 865.364 Q273.469 856.614 276.525 852.03 Q279.604 847.424 285.414 847.424 Z\" fill=\"#000000\" fill-rule=\"nonzero\" fill-opacity=\"1\" /><path clip-path=\"url(#clip510)\" d=\"M211.016 591.413 Q207.405 591.413 205.576 594.978 Q203.771 598.52 203.771 605.649 Q203.771 612.756 205.576 616.32 Q207.405 619.862 211.016 619.862 Q214.65 619.862 216.456 616.32 Q218.285 612.756 218.285 605.649 Q218.285 598.52 216.456 594.978 Q214.65 591.413 211.016 591.413 M211.016 587.709 Q216.826 587.709 219.882 592.316 Q222.96 596.899 222.96 605.649 Q222.96 614.376 219.882 618.982 Q216.826 623.566 211.016 623.566 Q205.206 623.566 202.127 618.982 Q199.072 614.376 199.072 605.649 Q199.072 596.899 202.127 592.316 Q205.206 587.709 211.016 587.709 Z\" fill=\"#000000\" fill-rule=\"nonzero\" fill-opacity=\"1\" /><path clip-path=\"url(#clip510)\" d=\"M231.178 617.015 L236.062 617.015 L236.062 622.894 L231.178 622.894 L231.178 617.015 Z\" fill=\"#000000\" fill-rule=\"nonzero\" fill-opacity=\"1\" /><path clip-path=\"url(#clip510)\" d=\"M247.058 618.959 L254.696 618.959 L254.696 592.594 L246.386 594.26 L246.386 590.001 L254.65 588.334 L259.326 588.334 L259.326 618.959 L266.965 618.959 L266.965 622.894 L247.058 622.894 L247.058 618.959 Z\" fill=\"#000000\" fill-rule=\"nonzero\" fill-opacity=\"1\" /><path clip-path=\"url(#clip510)\" d=\"M276.456 588.334 L294.812 588.334 L294.812 592.27 L280.738 592.27 L280.738 600.742 Q281.756 600.395 282.775 600.233 Q283.793 600.047 284.812 600.047 Q290.599 600.047 293.979 603.219 Q297.358 606.39 297.358 611.807 Q297.358 617.385 293.886 620.487 Q290.414 623.566 284.094 623.566 Q281.918 623.566 279.65 623.195 Q277.405 622.825 274.997 622.084 L274.997 617.385 Q277.081 618.52 279.303 619.075 Q281.525 619.631 284.002 619.631 Q288.006 619.631 290.344 617.524 Q292.682 615.418 292.682 611.807 Q292.682 608.195 290.344 606.089 Q288.006 603.983 284.002 603.983 Q282.127 603.983 280.252 604.399 Q278.4 604.816 276.456 605.695 L276.456 588.334 Z\" fill=\"#000000\" fill-rule=\"nonzero\" fill-opacity=\"1\" /><path clip-path=\"url(#clip510)\" d=\"M210.021 331.699 Q206.41 331.699 204.581 335.264 Q202.775 338.805 202.775 345.935 Q202.775 353.041 204.581 356.606 Q206.41 360.148 210.021 360.148 Q213.655 360.148 215.461 356.606 Q217.289 353.041 217.289 345.935 Q217.289 338.805 215.461 335.264 Q213.655 331.699 210.021 331.699 M210.021 327.995 Q215.831 327.995 218.886 332.602 Q221.965 337.185 221.965 345.935 Q221.965 354.662 218.886 359.268 Q215.831 363.851 210.021 363.851 Q204.211 363.851 201.132 359.268 Q198.076 354.662 198.076 345.935 Q198.076 337.185 201.132 332.602 Q204.211 327.995 210.021 327.995 Z\" fill=\"#000000\" fill-rule=\"nonzero\" fill-opacity=\"1\" /><path clip-path=\"url(#clip510)\" d=\"M230.183 357.3 L235.067 357.3 L235.067 363.18 L230.183 363.18 L230.183 357.3 Z\" fill=\"#000000\" fill-rule=\"nonzero\" fill-opacity=\"1\" /><path clip-path=\"url(#clip510)\" d=\"M249.28 359.245 L265.599 359.245 L265.599 363.18 L243.655 363.18 L243.655 359.245 Q246.317 356.49 250.9 351.861 Q255.507 347.208 256.687 345.865 Q258.933 343.342 259.812 341.606 Q260.715 339.847 260.715 338.157 Q260.715 335.402 258.77 333.666 Q256.849 331.93 253.747 331.93 Q251.548 331.93 249.095 332.694 Q246.664 333.458 243.886 335.009 L243.886 330.287 Q246.71 329.152 249.164 328.574 Q251.618 327.995 253.655 327.995 Q259.025 327.995 262.22 330.68 Q265.414 333.365 265.414 337.856 Q265.414 339.986 264.604 341.907 Q263.817 343.805 261.71 346.398 Q261.132 347.069 258.03 350.287 Q254.928 353.481 249.28 359.245 Z\" fill=\"#000000\" fill-rule=\"nonzero\" fill-opacity=\"1\" /><path clip-path=\"url(#clip510)\" d=\"M285.414 331.699 Q281.803 331.699 279.974 335.264 Q278.169 338.805 278.169 345.935 Q278.169 353.041 279.974 356.606 Q281.803 360.148 285.414 360.148 Q289.048 360.148 290.854 356.606 Q292.682 353.041 292.682 345.935 Q292.682 338.805 290.854 335.264 Q289.048 331.699 285.414 331.699 M285.414 327.995 Q291.224 327.995 294.28 332.602 Q297.358 337.185 297.358 345.935 Q297.358 354.662 294.28 359.268 Q291.224 363.851 285.414 363.851 Q279.604 363.851 276.525 359.268 Q273.469 354.662 273.469 345.935 Q273.469 337.185 276.525 332.602 Q279.604 327.995 285.414 327.995 Z\" fill=\"#000000\" fill-rule=\"nonzero\" fill-opacity=\"1\" /><path clip-path=\"url(#clip510)\" d=\"M211.016 71.9844 Q207.405 71.9844 205.576 75.5492 Q203.771 79.0908 203.771 86.2204 Q203.771 93.3268 205.576 96.8916 Q207.405 100.433 211.016 100.433 Q214.65 100.433 216.456 96.8916 Q218.285 93.3268 218.285 86.2204 Q218.285 79.0908 216.456 75.5492 Q214.65 71.9844 211.016 71.9844 M211.016 68.2807 Q216.826 68.2807 219.882 72.8871 Q222.96 77.4704 222.96 86.2204 Q222.96 94.9472 219.882 99.5537 Q216.826 104.137 211.016 104.137 Q205.206 104.137 202.127 99.5537 Q199.072 94.9472 199.072 86.2204 Q199.072 77.4704 202.127 72.8871 Q205.206 68.2807 211.016 68.2807 Z\" fill=\"#000000\" fill-rule=\"nonzero\" fill-opacity=\"1\" /><path clip-path=\"url(#clip510)\" d=\"M231.178 97.5861 L236.062 97.5861 L236.062 103.466 L231.178 103.466 L231.178 97.5861 Z\" fill=\"#000000\" fill-rule=\"nonzero\" fill-opacity=\"1\" /><path clip-path=\"url(#clip510)\" d=\"M250.275 99.5305 L266.595 99.5305 L266.595 103.466 L244.65 103.466 L244.65 99.5305 Q247.312 96.7759 251.896 92.1463 Q256.502 87.4935 257.683 86.151 Q259.928 83.6278 260.808 81.8917 Q261.71 80.1325 261.71 78.4427 Q261.71 75.688 259.766 73.9519 Q257.845 72.2158 254.743 72.2158 Q252.544 72.2158 250.09 72.9797 Q247.659 73.7436 244.882 75.2945 L244.882 70.5723 Q247.706 69.4381 250.159 68.8594 Q252.613 68.2807 254.65 68.2807 Q260.02 68.2807 263.215 70.9658 Q266.409 73.651 266.409 78.1417 Q266.409 80.2714 265.599 82.1926 Q264.812 84.0908 262.706 86.6834 Q262.127 87.3546 259.025 90.5722 Q255.923 93.7667 250.275 99.5305 Z\" fill=\"#000000\" fill-rule=\"nonzero\" fill-opacity=\"1\" /><path clip-path=\"url(#clip510)\" d=\"M276.456 68.9057 L294.812 68.9057 L294.812 72.8408 L280.738 72.8408 L280.738 81.313 Q281.756 80.9658 282.775 80.8038 Q283.793 80.6186 284.812 80.6186 Q290.599 80.6186 293.979 83.7899 Q297.358 86.9611 297.358 92.3778 Q297.358 97.9564 293.886 101.058 Q290.414 104.137 284.094 104.137 Q281.918 104.137 279.65 103.767 Q277.405 103.396 274.997 102.655 L274.997 97.9564 Q277.081 99.0907 279.303 99.6462 Q281.525 100.202 284.002 100.202 Q288.006 100.202 290.344 98.0953 Q292.682 95.9889 292.682 92.3778 Q292.682 88.7667 290.344 86.6602 Q288.006 84.5537 284.002 84.5537 Q282.127 84.5537 280.252 84.9704 Q278.4 85.3871 276.456 86.2667 L276.456 68.9057 Z\" fill=\"#000000\" fill-rule=\"nonzero\" fill-opacity=\"1\" /><path clip-path=\"url(#clip510)\" d=\"M44.2885 865.756 Q46.0196 865.756 46.9455 866.802 Q47.8312 867.849 47.8312 869.218 Q47.8312 870.546 46.9455 871.593 Q46.0196 872.599 44.3691 872.599 Q43.2419 872.599 42.2354 871.875 Q41.1887 871.15 40.9874 869.54 Q39.2564 871.553 39.2564 874.733 Q39.2564 876.303 39.8602 877.39 Q40.4238 878.437 42.1549 879.483 Q43.886 880.53 47.4286 881.255 Q50.9713 881.939 56.4865 882.382 L77.0177 883.952 Q83.9823 884.435 97.6698 886.166 Q111.317 887.857 114.457 888.662 Q117.436 889.387 119.892 890.474 Q122.347 891.56 124.481 893.171 Q126.655 894.781 127.863 897.116 Q129.07 899.451 129.07 902.269 Q129.07 906.013 127.098 908.67 Q125.166 911.327 122.227 911.327 Q120.496 911.327 119.57 910.28 Q118.684 909.233 118.684 907.865 Q118.684 906.536 119.57 905.53 Q120.496 904.483 122.146 904.483 Q123.273 904.483 124.28 905.208 Q125.327 905.932 125.528 907.543 Q127.259 905.53 127.259 902.269 Q127.259 899.773 125.81 898.122 Q124.36 896.472 120.496 895.264 Q116.631 894.056 110.029 893.533 L89.4975 891.963 Q82.2512 891.44 68.765 889.749 Q55.2788 888.018 51.7361 887.253 Q37.4448 884.032 37.4448 874.813 Q37.4448 871.069 39.4174 868.412 Q41.3498 865.756 44.2885 865.756 Z\" fill=\"#000000\" fill-rule=\"nonzero\" fill-opacity=\"1\" /><path clip-path=\"url(#clip510)\" d=\"M166.004 902.954 Q159.218 902.954 155.521 901.24 Q150.02 898.851 150.02 893.215 Q150.02 892.02 150.359 890.78 Q150.674 889.517 151.914 887.939 Q153.154 886.339 155.183 885.369 Q159.106 883.521 166.004 883.521 Q172.745 883.521 176.42 885.234 Q181.785 887.736 181.785 893.26 Q181.785 895.334 180.725 897.453 Q179.666 899.55 177.118 900.88 Q173.308 902.954 166.004 902.954 M165.441 899.121 Q172.407 899.121 175.18 898.625 Q178.178 898.062 179.486 896.529 Q180.771 894.973 180.771 893.26 Q180.771 891.411 179.395 889.878 Q177.998 888.323 174.999 887.849 Q172.046 887.331 165.441 887.353 Q159.015 887.353 156.445 887.804 Q153.447 888.413 152.252 890.036 Q151.035 891.637 151.035 893.26 Q151.035 893.868 151.215 894.522 Q151.396 895.153 151.914 896.078 Q152.433 897.002 153.718 897.723 Q155.003 898.422 156.941 898.76 Q159.444 899.121 165.441 899.121 Z\" fill=\"#000000\" fill-rule=\"nonzero\" fill-opacity=\"1\" /><path clip-path=\"url(#clip510)\" d=\"M-11.1206 900.881 L-12.5635 900.881 Q-12.5635 895.335 -15.5167 892.472 Q-15.5167 891.683 -15.3364 891.548 Q-15.156 891.413 -14.3219 891.413 L11.5813 891.413 Q12.9565 891.413 13.3848 890.736 Q13.8131 890.06 13.8131 887.107 L13.8131 885.641 L15.2334 885.641 Q15.0982 887.264 15.0982 893.126 Q15.0982 898.987 15.2334 900.588 L13.8131 900.588 L13.8131 899.123 Q13.8131 896.214 13.4074 895.516 Q12.979 894.817 11.5813 894.817 L-12.338 894.817 Q-11.1206 897.229 -11.1206 900.881 Z\" fill=\"#000000\" fill-rule=\"nonzero\" fill-opacity=\"1\" /><path clip-path=\"url(#clip510)\" d=\"M79.0306 819.272 Q80.8341 819.272 81.8647 820.399 Q82.8631 821.526 82.8631 822.814 Q82.8631 824.038 82.1546 824.682 Q81.4461 825.327 80.5443 825.327 Q79.3205 825.327 78.2577 824.425 Q77.1949 823.523 76.9694 822.17 Q76.1321 823.491 76.1321 825.455 Q76.1321 826.744 76.8084 827.871 Q77.4847 828.966 78.3543 829.642 Q79.2239 830.286 80.4799 830.866 Q81.7037 831.413 82.4444 831.639 Q83.153 831.832 83.9259 831.993 L92.9435 834.248 Q97.2269 835.343 98.7406 835.343 Q100.609 835.343 101.865 834.441 Q103.088 833.539 103.088 831.735 Q103.088 831.027 102.895 830.222 Q102.67 829.417 102.09 828.386 Q101.478 827.323 100.576 826.389 Q99.6424 825.423 98.0643 824.489 Q96.4862 823.555 94.4572 822.943 Q93.7487 822.75 93.7487 822.106 Q93.7487 821.301 94.3928 821.301 Q94.9403 821.301 96.0997 821.752 Q97.2269 822.17 98.7084 823.104 Q100.158 824.006 101.478 825.198 Q102.766 826.389 103.668 828.161 Q104.57 829.932 104.57 831.864 Q104.57 834.634 103.088 836.47 Q101.607 838.305 99.5457 838.982 Q99.8356 839.143 100.222 839.368 Q100.609 839.594 101.478 840.27 Q102.315 840.914 102.96 841.655 Q103.571 842.396 104.055 843.555 Q104.57 844.682 104.57 845.906 Q104.57 847.452 104.119 848.837 Q103.668 850.189 102.638 851.156 Q101.607 852.122 100.19 852.122 Q98.6118 852.122 97.5168 851.059 Q96.3896 849.964 96.3896 848.483 Q96.3896 847.549 96.9371 846.808 Q97.4846 846.035 98.6762 846.035 Q99.9966 846.035 100.995 846.937 Q101.993 847.838 102.251 849.127 Q103.088 847.806 103.088 845.842 Q103.088 843.716 101.22 842.041 Q99.3525 840.367 96.2285 839.562 Q88.7246 837.565 85.3752 836.792 Q81.9936 836.019 80.5443 836.019 Q79.1916 836.019 78.2577 836.373 Q77.3237 836.727 76.905 837.339 Q76.4541 837.919 76.2931 838.467 Q76.1321 838.982 76.1321 839.562 Q76.1321 840.528 76.5186 841.623 Q76.905 842.685 77.8068 843.974 Q78.6764 845.23 80.4799 846.421 Q82.2834 847.613 84.7633 848.418 Q85.504 848.579 85.504 849.288 Q85.4718 850.061 84.8277 850.061 Q84.2802 850.061 83.153 849.642 Q81.9936 849.191 80.5443 848.289 Q79.095 847.355 77.8068 846.164 Q76.4864 844.94 75.5846 843.169 Q74.6828 841.365 74.6828 839.433 Q74.6828 838.563 74.8761 837.726 Q75.0371 836.856 75.5202 835.826 Q76.0033 834.763 77.0661 833.829 Q78.1289 832.895 79.6747 832.315 Q78.934 831.929 78.2255 831.413 Q77.5169 830.866 76.6474 830.029 Q75.7456 829.159 75.2303 827.967 Q74.6828 826.744 74.6828 825.391 Q74.6828 824.07 75.0371 822.782 Q75.3591 821.494 76.4219 820.399 Q77.4525 819.272 79.0306 819.272 Z\" fill=\"#000000\" fill-rule=\"nonzero\" fill-opacity=\"1\" /><path clip-path=\"url(#clip510)\" d=\"M76.864 812.551 Q75.4888 812.551 74.835 811.762 Q74.1812 810.972 74.1812 809.958 Q74.1812 808.898 74.8801 808.154 Q75.5564 807.388 76.7513 807.388 Q78.0363 807.388 78.7577 808.29 Q79.4791 809.169 79.2988 810.431 Q81.1474 809.327 81.9815 807.298 Q82.8156 805.246 82.8156 803.353 Q82.8156 801.369 81.1023 799.768 Q79.3889 798.145 75.1957 798.145 Q71.6338 798.145 69.5822 799.543 Q67.5307 800.918 67.5307 803.646 L67.5307 805.675 Q67.5307 806.373 67.4631 806.576 Q67.3955 806.779 67.0122 806.779 Q66.5613 806.779 66.4712 806.08 Q66.4712 805.382 66.3359 804.277 Q66.2457 801.594 63.9237 800.174 Q61.7594 798.889 58.6709 798.889 Q55.8529 798.889 54.6806 800.241 Q53.4858 801.572 53.4858 803.307 Q53.4858 804.931 54.1621 806.712 Q54.8384 808.493 56.3489 809.462 Q56.3489 806.599 58.6709 806.599 Q59.6854 806.599 60.3617 807.253 Q61.0155 807.884 61.0155 808.943 Q61.0155 809.958 60.3842 810.634 Q59.7305 811.311 58.6258 811.311 Q55.9881 811.311 54.1621 808.966 Q52.336 806.599 52.336 803.127 Q52.336 799.7 54.1395 797.175 Q55.9431 794.628 58.716 794.628 Q61.4438 794.628 63.6757 796.432 Q65.9076 798.235 66.8319 801.098 Q67.5307 797.581 69.9204 795.485 Q72.2875 793.388 75.1957 793.388 Q78.8028 793.388 81.463 796.229 Q84.1006 799.069 84.1006 803.217 Q84.1006 807.05 82.0266 809.8 Q79.9525 812.551 76.864 812.551 Z\" fill=\"#000000\" fill-rule=\"nonzero\" fill-opacity=\"1\" /><path clip-path=\"url(#clip510)\" d=\"M58.7731 755.133 L96.9049 764.634 Q98.6118 765.02 100.061 765.02 Q103.088 765.02 103.088 763.056 Q103.088 762.09 102.476 761.317 Q101.865 760.544 100.576 759.932 Q99.2881 759.32 98.0965 758.934 Q96.8727 758.547 94.9403 758.032 Q94.1674 757.871 93.9741 757.742 Q93.7487 757.581 93.7487 757.13 Q93.7487 756.325 94.3928 756.325 Q98.5474 757.194 100.931 758.322 Q104.57 760.125 104.57 763.185 Q104.57 765.504 103.153 767.146 Q101.736 768.789 99.6102 769.175 Q104.57 773.394 104.57 777.774 Q104.57 781.639 101.639 784.086 Q98.6762 786.534 94.0063 786.534 Q89.3043 786.534 84.7955 784.215 Q80.2866 781.864 77.4847 778.16 Q74.6828 774.457 74.6828 770.656 Q74.6828 766.631 78.9018 764.57 L63.2497 760.608 L61.9615 760.415 Q61.575 760.415 61.3818 760.576 Q61.1564 760.705 60.9953 761.478 Q60.8343 762.219 60.8343 763.7 Q60.8343 764.312 60.8021 764.602 Q60.7699 764.859 60.6089 765.085 Q60.4156 765.31 60.0292 765.31 Q58.902 765.31 58.7731 764.376 Q58.0646 758.193 58.0646 756.003 Q58.0646 755.616 58.2578 755.391 Q58.4189 755.165 58.6121 755.165 L58.7731 755.133 M81.9291 765.375 Q81.6393 765.375 80.8341 765.6 Q80.029 765.826 78.9018 766.341 Q77.7746 766.856 76.9694 767.983 Q76.1321 769.078 76.1321 770.56 Q76.1321 772.557 77.839 774.65 Q79.5459 776.711 82.4444 778.225 Q84.7633 779.384 89.6263 780.64 Q94.4894 781.864 96.9049 781.864 Q98.3863 781.864 99.7068 781.542 Q100.995 781.188 102.058 780.189 Q103.088 779.191 103.088 777.645 Q103.088 773.877 98.4185 770.173 Q97.6134 769.465 97.2913 769.304 Q96.9371 769.111 95.9709 768.853 L83.0563 765.568 Q82.0902 765.375 81.9291 765.375 Z\" fill=\"#000000\" fill-rule=\"nonzero\" fill-opacity=\"1\" /><path clip-path=\"url(#clip510)\" d=\"M79.0306 720.8 Q80.8341 720.8 81.8647 721.927 Q82.8631 723.054 82.8631 724.343 Q82.8631 725.566 82.1546 726.211 Q81.4461 726.855 80.5443 726.855 Q79.3205 726.855 78.2577 725.953 Q77.1949 725.051 76.9694 723.699 Q76.1321 725.019 76.1321 726.984 Q76.1321 728.272 76.8084 729.399 Q77.4847 730.494 78.3543 731.17 Q79.2239 731.814 80.4799 732.394 Q81.7037 732.942 82.4444 733.167 Q83.153 733.36 83.9259 733.521 L92.9435 735.776 Q97.2269 736.871 98.7406 736.871 Q100.609 736.871 101.865 735.969 Q103.088 735.067 103.088 733.264 Q103.088 732.555 102.895 731.75 Q102.67 730.945 102.09 729.914 Q101.478 728.851 100.576 727.917 Q99.6424 726.951 98.0643 726.017 Q96.4862 725.083 94.4572 724.471 Q93.7487 724.278 93.7487 723.634 Q93.7487 722.829 94.3928 722.829 Q94.9403 722.829 96.0997 723.28 Q97.2269 723.699 98.7084 724.632 Q100.158 725.534 101.478 726.726 Q102.766 727.917 103.668 729.689 Q104.57 731.46 104.57 733.392 Q104.57 736.162 103.088 737.998 Q101.607 739.834 99.5457 740.51 Q99.8356 740.671 100.222 740.896 Q100.609 741.122 101.478 741.798 Q102.315 742.442 102.96 743.183 Q103.571 743.924 104.055 745.083 Q104.57 746.21 104.57 747.434 Q104.57 748.98 104.119 750.365 Q103.668 751.718 102.638 752.684 Q101.607 753.65 100.19 753.65 Q98.6118 753.65 97.5168 752.587 Q96.3896 751.492 96.3896 750.011 Q96.3896 749.077 96.9371 748.336 Q97.4846 747.563 98.6762 747.563 Q99.9966 747.563 100.995 748.465 Q101.993 749.367 102.251 750.655 Q103.088 749.334 103.088 747.37 Q103.088 745.244 101.22 743.57 Q99.3525 741.895 96.2285 741.09 Q88.7246 739.093 85.3752 738.32 Q81.9936 737.547 80.5443 737.547 Q79.1916 737.547 78.2577 737.901 Q77.3237 738.256 76.905 738.867 Q76.4541 739.447 76.2931 739.995 Q76.1321 740.51 76.1321 741.09 Q76.1321 742.056 76.5186 743.151 Q76.905 744.214 77.8068 745.502 Q78.6764 746.758 80.4799 747.95 Q82.2834 749.141 84.7633 749.946 Q85.504 750.107 85.504 750.816 Q85.4718 751.589 84.8277 751.589 Q84.2802 751.589 83.153 751.17 Q81.9936 750.719 80.5443 749.817 Q79.095 748.884 77.8068 747.692 Q76.4864 746.468 75.5846 744.697 Q74.6828 742.893 74.6828 740.961 Q74.6828 740.091 74.8761 739.254 Q75.0371 738.384 75.5202 737.354 Q76.0033 736.291 77.0661 735.357 Q78.1289 734.423 79.6747 733.843 Q78.934 733.457 78.2255 732.942 Q77.5169 732.394 76.6474 731.557 Q75.7456 730.687 75.2303 729.496 Q74.6828 728.272 74.6828 726.919 Q74.6828 725.599 75.0371 724.31 Q75.3591 723.022 76.4219 721.927 Q77.4525 720.8 79.0306 720.8 Z\" fill=\"#000000\" fill-rule=\"nonzero\" fill-opacity=\"1\" /><path clip-path=\"url(#clip510)\" d=\"M83.3634 716.297 L83.3634 699.141 L88.5833 699.141 L88.5833 716.297 L83.3634 716.297 Z\" fill=\"#000000\" fill-rule=\"nonzero\" fill-opacity=\"1\" /><path clip-path=\"url(#clip510)\" d=\"M60.5423 675.238 Q60.5423 680.203 65.4439 682.718 Q70.3137 685.2 80.1169 685.2 Q89.8882 685.2 94.7898 682.718 Q99.6596 680.203 99.6596 675.238 Q99.6596 670.241 94.7898 667.758 Q89.8882 665.244 80.1169 665.244 Q70.3137 665.244 65.4439 667.758 Q60.5423 670.241 60.5423 675.238 M55.4498 675.238 Q55.4498 667.249 61.7836 663.048 Q68.0857 658.815 80.1169 658.815 Q92.1162 658.815 98.4501 663.048 Q104.752 667.249 104.752 675.238 Q104.752 683.227 98.4501 687.46 Q92.1162 691.662 80.1169 691.662 Q68.0857 691.662 61.7836 687.46 Q55.4498 683.227 55.4498 675.238 Z\" fill=\"#000000\" fill-rule=\"nonzero\" fill-opacity=\"1\" /><path clip-path=\"url(#clip510)\" d=\"M95.7447 647.515 L95.7447 640.8 L103.829 640.8 L103.829 647.515 L95.7447 647.515 Z\" fill=\"#000000\" fill-rule=\"nonzero\" fill-opacity=\"1\" /><path clip-path=\"url(#clip510)\" d=\"M98.4183 621.257 L98.4183 598.818 L103.829 598.818 L103.829 628.991 L98.4183 628.991 Q94.6307 625.331 88.265 619.029 Q81.8674 612.695 80.0214 611.072 Q76.5521 607.984 74.1649 606.775 Q71.746 605.534 69.4225 605.534 Q65.6349 605.534 63.2477 608.207 Q60.8606 610.849 60.8606 615.114 Q60.8606 618.138 61.911 621.511 Q62.9613 624.853 65.0938 628.673 L58.6008 628.673 Q57.0412 624.79 56.2455 621.416 Q55.4498 618.042 55.4498 615.241 Q55.4498 607.857 59.1419 603.465 Q62.834 599.072 69.0087 599.072 Q71.9369 599.072 74.5787 600.186 Q77.1886 601.269 80.7534 604.165 Q81.6765 604.961 86.1006 609.226 Q90.493 613.491 98.4183 621.257 Z\" fill=\"#000000\" fill-rule=\"nonzero\" fill-opacity=\"1\" /><path clip-path=\"url(#clip510)\" d=\"M56.3091 585.259 L56.3091 560.019 L61.72 560.019 L61.72 579.37 L73.3692 579.37 Q72.8918 577.97 72.669 576.57 Q72.4144 575.169 72.4144 573.769 Q72.4144 565.812 76.7749 561.165 Q81.1354 556.518 88.5833 556.518 Q96.2539 556.518 100.519 561.292 Q104.752 566.066 104.752 574.755 Q104.752 577.747 104.243 580.866 Q103.734 583.954 102.715 587.264 L96.2539 587.264 Q97.8135 584.399 98.5774 581.344 Q99.3413 578.288 99.3413 574.883 Q99.3413 569.376 96.4449 566.162 Q93.5485 562.947 88.5833 562.947 Q83.618 562.947 80.7216 566.162 Q77.8252 569.376 77.8252 574.883 Q77.8252 577.461 78.3981 580.039 Q78.971 582.585 80.1805 585.259 L56.3091 585.259 Z\" fill=\"#000000\" fill-rule=\"nonzero\" fill-opacity=\"1\" /><polyline clip-path=\"url(#clip512)\" style=\"stroke:#009af9; stroke-linecap:round; stroke-linejoin:round; stroke-width:4; stroke-opacity:1; fill:none\" points=\"2295.6,86.1857 866.212,1060.11 601.51,1240.47 508.865,1303.6 465.983,1332.81 442.689,1348.69 428.644,1358.26 419.528,1364.47 413.278,1368.73 408.807,1371.77 405.5,1374.03 402.984,1375.74 401.026,1377.07 399.472,1378.13 398.219,1378.99 397.193,1379.69 396.343,1380.26 395.631,1380.75 395.028,1381.16 394.513,1381.51 394.07,1381.81 393.686,1382.07 393.351,1382.3 393.057,1382.5 392.798,1382.68 392.568,1382.84 392.363,1382.98 392.18,1383.1 392.015,1383.21 391.866,1383.31 391.732,1383.41 391.61,1383.49 391.499,1383.57 391.397,1383.63 391.304,1383.7 391.219,1383.76 391.141,1383.81 391.068,1383.86 391.002,1383.9 390.94,1383.95 390.882,1383.99 390.829,1384.02 390.779,1384.06 390.733,1384.09 390.69,1384.12 390.649,1384.14 390.611,1384.17 390.576,1384.19 390.542,1384.22 390.511,1384.24 \"/>\n",
       "<circle clip-path=\"url(#clip512)\" cx=\"2295.6\" cy=\"86.1857\" r=\"14.4\" fill=\"#e26f46\" fill-rule=\"evenodd\" fill-opacity=\"1\" stroke=\"#000000\" stroke-opacity=\"1\" stroke-width=\"3.2\"/>\n",
       "<circle clip-path=\"url(#clip512)\" cx=\"866.212\" cy=\"1060.11\" r=\"14.4\" fill=\"#e26f46\" fill-rule=\"evenodd\" fill-opacity=\"1\" stroke=\"#000000\" stroke-opacity=\"1\" stroke-width=\"3.2\"/>\n",
       "<circle clip-path=\"url(#clip512)\" cx=\"601.51\" cy=\"1240.47\" r=\"14.4\" fill=\"#e26f46\" fill-rule=\"evenodd\" fill-opacity=\"1\" stroke=\"#000000\" stroke-opacity=\"1\" stroke-width=\"3.2\"/>\n",
       "<circle clip-path=\"url(#clip512)\" cx=\"508.865\" cy=\"1303.6\" r=\"14.4\" fill=\"#e26f46\" fill-rule=\"evenodd\" fill-opacity=\"1\" stroke=\"#000000\" stroke-opacity=\"1\" stroke-width=\"3.2\"/>\n",
       "<circle clip-path=\"url(#clip512)\" cx=\"465.983\" cy=\"1332.81\" r=\"14.4\" fill=\"#e26f46\" fill-rule=\"evenodd\" fill-opacity=\"1\" stroke=\"#000000\" stroke-opacity=\"1\" stroke-width=\"3.2\"/>\n",
       "<circle clip-path=\"url(#clip512)\" cx=\"442.689\" cy=\"1348.69\" r=\"14.4\" fill=\"#e26f46\" fill-rule=\"evenodd\" fill-opacity=\"1\" stroke=\"#000000\" stroke-opacity=\"1\" stroke-width=\"3.2\"/>\n",
       "<circle clip-path=\"url(#clip512)\" cx=\"428.644\" cy=\"1358.26\" r=\"14.4\" fill=\"#e26f46\" fill-rule=\"evenodd\" fill-opacity=\"1\" stroke=\"#000000\" stroke-opacity=\"1\" stroke-width=\"3.2\"/>\n",
       "<circle clip-path=\"url(#clip512)\" cx=\"419.528\" cy=\"1364.47\" r=\"14.4\" fill=\"#e26f46\" fill-rule=\"evenodd\" fill-opacity=\"1\" stroke=\"#000000\" stroke-opacity=\"1\" stroke-width=\"3.2\"/>\n",
       "<circle clip-path=\"url(#clip512)\" cx=\"413.278\" cy=\"1368.73\" r=\"14.4\" fill=\"#e26f46\" fill-rule=\"evenodd\" fill-opacity=\"1\" stroke=\"#000000\" stroke-opacity=\"1\" stroke-width=\"3.2\"/>\n",
       "<circle clip-path=\"url(#clip512)\" cx=\"408.807\" cy=\"1371.77\" r=\"14.4\" fill=\"#e26f46\" fill-rule=\"evenodd\" fill-opacity=\"1\" stroke=\"#000000\" stroke-opacity=\"1\" stroke-width=\"3.2\"/>\n",
       "<circle clip-path=\"url(#clip512)\" cx=\"405.5\" cy=\"1374.03\" r=\"14.4\" fill=\"#e26f46\" fill-rule=\"evenodd\" fill-opacity=\"1\" stroke=\"#000000\" stroke-opacity=\"1\" stroke-width=\"3.2\"/>\n",
       "<circle clip-path=\"url(#clip512)\" cx=\"402.984\" cy=\"1375.74\" r=\"14.4\" fill=\"#e26f46\" fill-rule=\"evenodd\" fill-opacity=\"1\" stroke=\"#000000\" stroke-opacity=\"1\" stroke-width=\"3.2\"/>\n",
       "<circle clip-path=\"url(#clip512)\" cx=\"401.026\" cy=\"1377.07\" r=\"14.4\" fill=\"#e26f46\" fill-rule=\"evenodd\" fill-opacity=\"1\" stroke=\"#000000\" stroke-opacity=\"1\" stroke-width=\"3.2\"/>\n",
       "<circle clip-path=\"url(#clip512)\" cx=\"399.472\" cy=\"1378.13\" r=\"14.4\" fill=\"#e26f46\" fill-rule=\"evenodd\" fill-opacity=\"1\" stroke=\"#000000\" stroke-opacity=\"1\" stroke-width=\"3.2\"/>\n",
       "<circle clip-path=\"url(#clip512)\" cx=\"398.219\" cy=\"1378.99\" r=\"14.4\" fill=\"#e26f46\" fill-rule=\"evenodd\" fill-opacity=\"1\" stroke=\"#000000\" stroke-opacity=\"1\" stroke-width=\"3.2\"/>\n",
       "<circle clip-path=\"url(#clip512)\" cx=\"397.193\" cy=\"1379.69\" r=\"14.4\" fill=\"#e26f46\" fill-rule=\"evenodd\" fill-opacity=\"1\" stroke=\"#000000\" stroke-opacity=\"1\" stroke-width=\"3.2\"/>\n",
       "<circle clip-path=\"url(#clip512)\" cx=\"396.343\" cy=\"1380.26\" r=\"14.4\" fill=\"#e26f46\" fill-rule=\"evenodd\" fill-opacity=\"1\" stroke=\"#000000\" stroke-opacity=\"1\" stroke-width=\"3.2\"/>\n",
       "<circle clip-path=\"url(#clip512)\" cx=\"395.631\" cy=\"1380.75\" r=\"14.4\" fill=\"#e26f46\" fill-rule=\"evenodd\" fill-opacity=\"1\" stroke=\"#000000\" stroke-opacity=\"1\" stroke-width=\"3.2\"/>\n",
       "<circle clip-path=\"url(#clip512)\" cx=\"395.028\" cy=\"1381.16\" r=\"14.4\" fill=\"#e26f46\" fill-rule=\"evenodd\" fill-opacity=\"1\" stroke=\"#000000\" stroke-opacity=\"1\" stroke-width=\"3.2\"/>\n",
       "<circle clip-path=\"url(#clip512)\" cx=\"394.513\" cy=\"1381.51\" r=\"14.4\" fill=\"#e26f46\" fill-rule=\"evenodd\" fill-opacity=\"1\" stroke=\"#000000\" stroke-opacity=\"1\" stroke-width=\"3.2\"/>\n",
       "<circle clip-path=\"url(#clip512)\" cx=\"394.07\" cy=\"1381.81\" r=\"14.4\" fill=\"#e26f46\" fill-rule=\"evenodd\" fill-opacity=\"1\" stroke=\"#000000\" stroke-opacity=\"1\" stroke-width=\"3.2\"/>\n",
       "<circle clip-path=\"url(#clip512)\" cx=\"393.686\" cy=\"1382.07\" r=\"14.4\" fill=\"#e26f46\" fill-rule=\"evenodd\" fill-opacity=\"1\" stroke=\"#000000\" stroke-opacity=\"1\" stroke-width=\"3.2\"/>\n",
       "<circle clip-path=\"url(#clip512)\" cx=\"393.351\" cy=\"1382.3\" r=\"14.4\" fill=\"#e26f46\" fill-rule=\"evenodd\" fill-opacity=\"1\" stroke=\"#000000\" stroke-opacity=\"1\" stroke-width=\"3.2\"/>\n",
       "<circle clip-path=\"url(#clip512)\" cx=\"393.057\" cy=\"1382.5\" r=\"14.4\" fill=\"#e26f46\" fill-rule=\"evenodd\" fill-opacity=\"1\" stroke=\"#000000\" stroke-opacity=\"1\" stroke-width=\"3.2\"/>\n",
       "<circle clip-path=\"url(#clip512)\" cx=\"392.798\" cy=\"1382.68\" r=\"14.4\" fill=\"#e26f46\" fill-rule=\"evenodd\" fill-opacity=\"1\" stroke=\"#000000\" stroke-opacity=\"1\" stroke-width=\"3.2\"/>\n",
       "<circle clip-path=\"url(#clip512)\" cx=\"392.568\" cy=\"1382.84\" r=\"14.4\" fill=\"#e26f46\" fill-rule=\"evenodd\" fill-opacity=\"1\" stroke=\"#000000\" stroke-opacity=\"1\" stroke-width=\"3.2\"/>\n",
       "<circle clip-path=\"url(#clip512)\" cx=\"392.363\" cy=\"1382.98\" r=\"14.4\" fill=\"#e26f46\" fill-rule=\"evenodd\" fill-opacity=\"1\" stroke=\"#000000\" stroke-opacity=\"1\" stroke-width=\"3.2\"/>\n",
       "<circle clip-path=\"url(#clip512)\" cx=\"392.18\" cy=\"1383.1\" r=\"14.4\" fill=\"#e26f46\" fill-rule=\"evenodd\" fill-opacity=\"1\" stroke=\"#000000\" stroke-opacity=\"1\" stroke-width=\"3.2\"/>\n",
       "<circle clip-path=\"url(#clip512)\" cx=\"392.015\" cy=\"1383.21\" r=\"14.4\" fill=\"#e26f46\" fill-rule=\"evenodd\" fill-opacity=\"1\" stroke=\"#000000\" stroke-opacity=\"1\" stroke-width=\"3.2\"/>\n",
       "<circle clip-path=\"url(#clip512)\" cx=\"391.866\" cy=\"1383.31\" r=\"14.4\" fill=\"#e26f46\" fill-rule=\"evenodd\" fill-opacity=\"1\" stroke=\"#000000\" stroke-opacity=\"1\" stroke-width=\"3.2\"/>\n",
       "<circle clip-path=\"url(#clip512)\" cx=\"391.732\" cy=\"1383.41\" r=\"14.4\" fill=\"#e26f46\" fill-rule=\"evenodd\" fill-opacity=\"1\" stroke=\"#000000\" stroke-opacity=\"1\" stroke-width=\"3.2\"/>\n",
       "<circle clip-path=\"url(#clip512)\" cx=\"391.61\" cy=\"1383.49\" r=\"14.4\" fill=\"#e26f46\" fill-rule=\"evenodd\" fill-opacity=\"1\" stroke=\"#000000\" stroke-opacity=\"1\" stroke-width=\"3.2\"/>\n",
       "<circle clip-path=\"url(#clip512)\" cx=\"391.499\" cy=\"1383.57\" r=\"14.4\" fill=\"#e26f46\" fill-rule=\"evenodd\" fill-opacity=\"1\" stroke=\"#000000\" stroke-opacity=\"1\" stroke-width=\"3.2\"/>\n",
       "<circle clip-path=\"url(#clip512)\" cx=\"391.397\" cy=\"1383.63\" r=\"14.4\" fill=\"#e26f46\" fill-rule=\"evenodd\" fill-opacity=\"1\" stroke=\"#000000\" stroke-opacity=\"1\" stroke-width=\"3.2\"/>\n",
       "<circle clip-path=\"url(#clip512)\" cx=\"391.304\" cy=\"1383.7\" r=\"14.4\" fill=\"#e26f46\" fill-rule=\"evenodd\" fill-opacity=\"1\" stroke=\"#000000\" stroke-opacity=\"1\" stroke-width=\"3.2\"/>\n",
       "<circle clip-path=\"url(#clip512)\" cx=\"391.219\" cy=\"1383.76\" r=\"14.4\" fill=\"#e26f46\" fill-rule=\"evenodd\" fill-opacity=\"1\" stroke=\"#000000\" stroke-opacity=\"1\" stroke-width=\"3.2\"/>\n",
       "<circle clip-path=\"url(#clip512)\" cx=\"391.141\" cy=\"1383.81\" r=\"14.4\" fill=\"#e26f46\" fill-rule=\"evenodd\" fill-opacity=\"1\" stroke=\"#000000\" stroke-opacity=\"1\" stroke-width=\"3.2\"/>\n",
       "<circle clip-path=\"url(#clip512)\" cx=\"391.068\" cy=\"1383.86\" r=\"14.4\" fill=\"#e26f46\" fill-rule=\"evenodd\" fill-opacity=\"1\" stroke=\"#000000\" stroke-opacity=\"1\" stroke-width=\"3.2\"/>\n",
       "<circle clip-path=\"url(#clip512)\" cx=\"391.002\" cy=\"1383.9\" r=\"14.4\" fill=\"#e26f46\" fill-rule=\"evenodd\" fill-opacity=\"1\" stroke=\"#000000\" stroke-opacity=\"1\" stroke-width=\"3.2\"/>\n",
       "<circle clip-path=\"url(#clip512)\" cx=\"390.94\" cy=\"1383.95\" r=\"14.4\" fill=\"#e26f46\" fill-rule=\"evenodd\" fill-opacity=\"1\" stroke=\"#000000\" stroke-opacity=\"1\" stroke-width=\"3.2\"/>\n",
       "<circle clip-path=\"url(#clip512)\" cx=\"390.882\" cy=\"1383.99\" r=\"14.4\" fill=\"#e26f46\" fill-rule=\"evenodd\" fill-opacity=\"1\" stroke=\"#000000\" stroke-opacity=\"1\" stroke-width=\"3.2\"/>\n",
       "<circle clip-path=\"url(#clip512)\" cx=\"390.829\" cy=\"1384.02\" r=\"14.4\" fill=\"#e26f46\" fill-rule=\"evenodd\" fill-opacity=\"1\" stroke=\"#000000\" stroke-opacity=\"1\" stroke-width=\"3.2\"/>\n",
       "<circle clip-path=\"url(#clip512)\" cx=\"390.779\" cy=\"1384.06\" r=\"14.4\" fill=\"#e26f46\" fill-rule=\"evenodd\" fill-opacity=\"1\" stroke=\"#000000\" stroke-opacity=\"1\" stroke-width=\"3.2\"/>\n",
       "<circle clip-path=\"url(#clip512)\" cx=\"390.733\" cy=\"1384.09\" r=\"14.4\" fill=\"#e26f46\" fill-rule=\"evenodd\" fill-opacity=\"1\" stroke=\"#000000\" stroke-opacity=\"1\" stroke-width=\"3.2\"/>\n",
       "<circle clip-path=\"url(#clip512)\" cx=\"390.69\" cy=\"1384.12\" r=\"14.4\" fill=\"#e26f46\" fill-rule=\"evenodd\" fill-opacity=\"1\" stroke=\"#000000\" stroke-opacity=\"1\" stroke-width=\"3.2\"/>\n",
       "<circle clip-path=\"url(#clip512)\" cx=\"390.649\" cy=\"1384.14\" r=\"14.4\" fill=\"#e26f46\" fill-rule=\"evenodd\" fill-opacity=\"1\" stroke=\"#000000\" stroke-opacity=\"1\" stroke-width=\"3.2\"/>\n",
       "<circle clip-path=\"url(#clip512)\" cx=\"390.611\" cy=\"1384.17\" r=\"14.4\" fill=\"#e26f46\" fill-rule=\"evenodd\" fill-opacity=\"1\" stroke=\"#000000\" stroke-opacity=\"1\" stroke-width=\"3.2\"/>\n",
       "<circle clip-path=\"url(#clip512)\" cx=\"390.576\" cy=\"1384.19\" r=\"14.4\" fill=\"#e26f46\" fill-rule=\"evenodd\" fill-opacity=\"1\" stroke=\"#000000\" stroke-opacity=\"1\" stroke-width=\"3.2\"/>\n",
       "<circle clip-path=\"url(#clip512)\" cx=\"390.542\" cy=\"1384.22\" r=\"14.4\" fill=\"#e26f46\" fill-rule=\"evenodd\" fill-opacity=\"1\" stroke=\"#000000\" stroke-opacity=\"1\" stroke-width=\"3.2\"/>\n",
       "<circle clip-path=\"url(#clip512)\" cx=\"390.511\" cy=\"1384.24\" r=\"14.4\" fill=\"#e26f46\" fill-rule=\"evenodd\" fill-opacity=\"1\" stroke=\"#000000\" stroke-opacity=\"1\" stroke-width=\"3.2\"/>\n",
       "</svg>\n"
      ],
      "text/html": [
       "<?xml version=\"1.0\" encoding=\"utf-8\"?>\n",
       "<svg xmlns=\"http://www.w3.org/2000/svg\" xmlns:xlink=\"http://www.w3.org/1999/xlink\" width=\"600\" height=\"400\" viewBox=\"0 0 2400 1600\">\n",
       "<defs>\n",
       "  <clipPath id=\"clip560\">\n",
       "    <rect x=\"0\" y=\"0\" width=\"2400\" height=\"1600\"/>\n",
       "  </clipPath>\n",
       "</defs>\n",
       "<path clip-path=\"url(#clip560)\" d=\"M0 1600 L2400 1600 L2400 8.88178e-14 L0 8.88178e-14  Z\" fill=\"#ffffff\" fill-rule=\"evenodd\" fill-opacity=\"1\"/>\n",
       "<defs>\n",
       "  <clipPath id=\"clip561\">\n",
       "    <rect x=\"480\" y=\"0\" width=\"1681\" height=\"1600\"/>\n",
       "  </clipPath>\n",
       "</defs>\n",
       "<path clip-path=\"url(#clip560)\" d=\"M333.358 1423.18 L2352.76 1423.18 L2352.76 47.2441 L333.358 47.2441  Z\" fill=\"#ffffff\" fill-rule=\"evenodd\" fill-opacity=\"1\"/>\n",
       "<defs>\n",
       "  <clipPath id=\"clip562\">\n",
       "    <rect x=\"333\" y=\"47\" width=\"2020\" height=\"1377\"/>\n",
       "  </clipPath>\n",
       "</defs>\n",
       "<polyline clip-path=\"url(#clip562)\" style=\"stroke:#000000; stroke-linecap:round; stroke-linejoin:round; stroke-width:2; stroke-opacity:0.1; fill:none\" points=\"389.749,1423.18 389.749,47.2441 \"/>\n",
       "<polyline clip-path=\"url(#clip562)\" style=\"stroke:#000000; stroke-linecap:round; stroke-linejoin:round; stroke-width:2; stroke-opacity:0.1; fill:none\" points=\"866.212,1423.18 866.212,47.2441 \"/>\n",
       "<polyline clip-path=\"url(#clip562)\" style=\"stroke:#000000; stroke-linecap:round; stroke-linejoin:round; stroke-width:2; stroke-opacity:0.1; fill:none\" points=\"1342.68,1423.18 1342.68,47.2441 \"/>\n",
       "<polyline clip-path=\"url(#clip562)\" style=\"stroke:#000000; stroke-linecap:round; stroke-linejoin:round; stroke-width:2; stroke-opacity:0.1; fill:none\" points=\"1819.14,1423.18 1819.14,47.2441 \"/>\n",
       "<polyline clip-path=\"url(#clip562)\" style=\"stroke:#000000; stroke-linecap:round; stroke-linejoin:round; stroke-width:2; stroke-opacity:0.1; fill:none\" points=\"2295.6,1423.18 2295.6,47.2441 \"/>\n",
       "<polyline clip-path=\"url(#clip560)\" style=\"stroke:#000000; stroke-linecap:round; stroke-linejoin:round; stroke-width:4; stroke-opacity:1; fill:none\" points=\"333.358,1423.18 2352.76,1423.18 \"/>\n",
       "<polyline clip-path=\"url(#clip560)\" style=\"stroke:#000000; stroke-linecap:round; stroke-linejoin:round; stroke-width:4; stroke-opacity:1; fill:none\" points=\"389.749,1423.18 389.749,1404.28 \"/>\n",
       "<polyline clip-path=\"url(#clip560)\" style=\"stroke:#000000; stroke-linecap:round; stroke-linejoin:round; stroke-width:4; stroke-opacity:1; fill:none\" points=\"866.212,1423.18 866.212,1404.28 \"/>\n",
       "<polyline clip-path=\"url(#clip560)\" style=\"stroke:#000000; stroke-linecap:round; stroke-linejoin:round; stroke-width:4; stroke-opacity:1; fill:none\" points=\"1342.68,1423.18 1342.68,1404.28 \"/>\n",
       "<polyline clip-path=\"url(#clip560)\" style=\"stroke:#000000; stroke-linecap:round; stroke-linejoin:round; stroke-width:4; stroke-opacity:1; fill:none\" points=\"1819.14,1423.18 1819.14,1404.28 \"/>\n",
       "<polyline clip-path=\"url(#clip560)\" style=\"stroke:#000000; stroke-linecap:round; stroke-linejoin:round; stroke-width:4; stroke-opacity:1; fill:none\" points=\"2295.6,1423.18 2295.6,1404.28 \"/>\n",
       "<path clip-path=\"url(#clip560)\" d=\"M352.052 1454.1 Q348.441 1454.1 346.612 1457.66 Q344.807 1461.2 344.807 1468.33 Q344.807 1475.44 346.612 1479.01 Q348.441 1482.55 352.052 1482.55 Q355.686 1482.55 357.492 1479.01 Q359.321 1475.44 359.321 1468.33 Q359.321 1461.2 357.492 1457.66 Q355.686 1454.1 352.052 1454.1 M352.052 1450.39 Q357.862 1450.39 360.918 1455 Q363.996 1459.58 363.996 1468.33 Q363.996 1477.06 360.918 1481.67 Q357.862 1486.25 352.052 1486.25 Q346.242 1486.25 343.163 1481.67 Q340.108 1477.06 340.108 1468.33 Q340.108 1459.58 343.163 1455 Q346.242 1450.39 352.052 1450.39 Z\" fill=\"#000000\" fill-rule=\"nonzero\" fill-opacity=\"1\" /><path clip-path=\"url(#clip560)\" d=\"M372.214 1479.7 L377.098 1479.7 L377.098 1485.58 L372.214 1485.58 L372.214 1479.7 Z\" fill=\"#000000\" fill-rule=\"nonzero\" fill-opacity=\"1\" /><path clip-path=\"url(#clip560)\" d=\"M397.283 1454.1 Q393.672 1454.1 391.844 1457.66 Q390.038 1461.2 390.038 1468.33 Q390.038 1475.44 391.844 1479.01 Q393.672 1482.55 397.283 1482.55 Q400.918 1482.55 402.723 1479.01 Q404.552 1475.44 404.552 1468.33 Q404.552 1461.2 402.723 1457.66 Q400.918 1454.1 397.283 1454.1 M397.283 1450.39 Q403.093 1450.39 406.149 1455 Q409.228 1459.58 409.228 1468.33 Q409.228 1477.06 406.149 1481.67 Q403.093 1486.25 397.283 1486.25 Q391.473 1486.25 388.394 1481.67 Q385.339 1477.06 385.339 1468.33 Q385.339 1459.58 388.394 1455 Q391.473 1450.39 397.283 1450.39 Z\" fill=\"#000000\" fill-rule=\"nonzero\" fill-opacity=\"1\" /><path clip-path=\"url(#clip560)\" d=\"M427.445 1454.1 Q423.834 1454.1 422.005 1457.66 Q420.2 1461.2 420.2 1468.33 Q420.2 1475.44 422.005 1479.01 Q423.834 1482.55 427.445 1482.55 Q431.079 1482.55 432.885 1479.01 Q434.714 1475.44 434.714 1468.33 Q434.714 1461.2 432.885 1457.66 Q431.079 1454.1 427.445 1454.1 M427.445 1450.39 Q433.255 1450.39 436.311 1455 Q439.39 1459.58 439.39 1468.33 Q439.39 1477.06 436.311 1481.67 Q433.255 1486.25 427.445 1486.25 Q421.635 1486.25 418.556 1481.67 Q415.501 1477.06 415.501 1468.33 Q415.501 1459.58 418.556 1455 Q421.635 1450.39 427.445 1450.39 Z\" fill=\"#000000\" fill-rule=\"nonzero\" fill-opacity=\"1\" /><path clip-path=\"url(#clip560)\" d=\"M829.013 1454.1 Q825.402 1454.1 823.574 1457.66 Q821.768 1461.2 821.768 1468.33 Q821.768 1475.44 823.574 1479.01 Q825.402 1482.55 829.013 1482.55 Q832.648 1482.55 834.453 1479.01 Q836.282 1475.44 836.282 1468.33 Q836.282 1461.2 834.453 1457.66 Q832.648 1454.1 829.013 1454.1 M829.013 1450.39 Q834.824 1450.39 837.879 1455 Q840.958 1459.58 840.958 1468.33 Q840.958 1477.06 837.879 1481.67 Q834.824 1486.25 829.013 1486.25 Q823.203 1486.25 820.125 1481.67 Q817.069 1477.06 817.069 1468.33 Q817.069 1459.58 820.125 1455 Q823.203 1450.39 829.013 1450.39 Z\" fill=\"#000000\" fill-rule=\"nonzero\" fill-opacity=\"1\" /><path clip-path=\"url(#clip560)\" d=\"M849.175 1479.7 L854.06 1479.7 L854.06 1485.58 L849.175 1485.58 L849.175 1479.7 Z\" fill=\"#000000\" fill-rule=\"nonzero\" fill-opacity=\"1\" /><path clip-path=\"url(#clip560)\" d=\"M868.272 1481.64 L884.592 1481.64 L884.592 1485.58 L862.647 1485.58 L862.647 1481.64 Q865.31 1478.89 869.893 1474.26 Q874.499 1469.61 875.68 1468.27 Q877.925 1465.74 878.805 1464.01 Q879.708 1462.25 879.708 1460.56 Q879.708 1457.8 877.763 1456.07 Q875.842 1454.33 872.74 1454.33 Q870.541 1454.33 868.087 1455.09 Q865.657 1455.86 862.879 1457.41 L862.879 1452.69 Q865.703 1451.55 868.157 1450.97 Q870.61 1450.39 872.647 1450.39 Q878.018 1450.39 881.212 1453.08 Q884.407 1455.77 884.407 1460.26 Q884.407 1462.39 883.596 1464.31 Q882.809 1466.2 880.703 1468.8 Q880.124 1469.47 877.022 1472.69 Q873.921 1475.88 868.272 1481.64 Z\" fill=\"#000000\" fill-rule=\"nonzero\" fill-opacity=\"1\" /><path clip-path=\"url(#clip560)\" d=\"M894.453 1451.02 L912.809 1451.02 L912.809 1454.96 L898.735 1454.96 L898.735 1463.43 Q899.754 1463.08 900.772 1462.92 Q901.791 1462.73 902.809 1462.73 Q908.596 1462.73 911.976 1465.9 Q915.356 1469.08 915.356 1474.49 Q915.356 1480.07 911.883 1483.17 Q908.411 1486.25 902.092 1486.25 Q899.916 1486.25 897.647 1485.88 Q895.402 1485.51 892.995 1484.77 L892.995 1480.07 Q895.078 1481.2 897.3 1481.76 Q899.522 1482.32 901.999 1482.32 Q906.004 1482.32 908.342 1480.21 Q910.68 1478.1 910.68 1474.49 Q910.68 1470.88 908.342 1468.77 Q906.004 1466.67 901.999 1466.67 Q900.124 1466.67 898.249 1467.08 Q896.397 1467.5 894.453 1468.38 L894.453 1451.02 Z\" fill=\"#000000\" fill-rule=\"nonzero\" fill-opacity=\"1\" /><path clip-path=\"url(#clip560)\" d=\"M1304.98 1454.1 Q1301.37 1454.1 1299.54 1457.66 Q1297.73 1461.2 1297.73 1468.33 Q1297.73 1475.44 1299.54 1479.01 Q1301.37 1482.55 1304.98 1482.55 Q1308.61 1482.55 1310.42 1479.01 Q1312.25 1475.44 1312.25 1468.33 Q1312.25 1461.2 1310.42 1457.66 Q1308.61 1454.1 1304.98 1454.1 M1304.98 1450.39 Q1310.79 1450.39 1313.85 1455 Q1316.92 1459.58 1316.92 1468.33 Q1316.92 1477.06 1313.85 1481.67 Q1310.79 1486.25 1304.98 1486.25 Q1299.17 1486.25 1296.09 1481.67 Q1293.03 1477.06 1293.03 1468.33 Q1293.03 1459.58 1296.09 1455 Q1299.17 1450.39 1304.98 1450.39 Z\" fill=\"#000000\" fill-rule=\"nonzero\" fill-opacity=\"1\" /><path clip-path=\"url(#clip560)\" d=\"M1325.14 1479.7 L1330.03 1479.7 L1330.03 1485.58 L1325.14 1485.58 L1325.14 1479.7 Z\" fill=\"#000000\" fill-rule=\"nonzero\" fill-opacity=\"1\" /><path clip-path=\"url(#clip560)\" d=\"M1340.26 1451.02 L1358.61 1451.02 L1358.61 1454.96 L1344.54 1454.96 L1344.54 1463.43 Q1345.56 1463.08 1346.58 1462.92 Q1347.59 1462.73 1348.61 1462.73 Q1354.4 1462.73 1357.78 1465.9 Q1361.16 1469.08 1361.16 1474.49 Q1361.16 1480.07 1357.69 1483.17 Q1354.22 1486.25 1347.9 1486.25 Q1345.72 1486.25 1343.45 1485.88 Q1341.21 1485.51 1338.8 1484.77 L1338.8 1480.07 Q1340.88 1481.2 1343.1 1481.76 Q1345.33 1482.32 1347.8 1482.32 Q1351.81 1482.32 1354.15 1480.21 Q1356.48 1478.1 1356.48 1474.49 Q1356.48 1470.88 1354.15 1468.77 Q1351.81 1466.67 1347.8 1466.67 Q1345.93 1466.67 1344.05 1467.08 Q1342.2 1467.5 1340.26 1468.38 L1340.26 1451.02 Z\" fill=\"#000000\" fill-rule=\"nonzero\" fill-opacity=\"1\" /><path clip-path=\"url(#clip560)\" d=\"M1380.37 1454.1 Q1376.76 1454.1 1374.93 1457.66 Q1373.13 1461.2 1373.13 1468.33 Q1373.13 1475.44 1374.93 1479.01 Q1376.76 1482.55 1380.37 1482.55 Q1384.01 1482.55 1385.81 1479.01 Q1387.64 1475.44 1387.64 1468.33 Q1387.64 1461.2 1385.81 1457.66 Q1384.01 1454.1 1380.37 1454.1 M1380.37 1450.39 Q1386.18 1450.39 1389.24 1455 Q1392.32 1459.58 1392.32 1468.33 Q1392.32 1477.06 1389.24 1481.67 Q1386.18 1486.25 1380.37 1486.25 Q1374.56 1486.25 1371.48 1481.67 Q1368.43 1477.06 1368.43 1468.33 Q1368.43 1459.58 1371.48 1455 Q1374.56 1450.39 1380.37 1450.39 Z\" fill=\"#000000\" fill-rule=\"nonzero\" fill-opacity=\"1\" /><path clip-path=\"url(#clip560)\" d=\"M1781.94 1454.1 Q1778.33 1454.1 1776.5 1457.66 Q1774.7 1461.2 1774.7 1468.33 Q1774.7 1475.44 1776.5 1479.01 Q1778.33 1482.55 1781.94 1482.55 Q1785.57 1482.55 1787.38 1479.01 Q1789.21 1475.44 1789.21 1468.33 Q1789.21 1461.2 1787.38 1457.66 Q1785.57 1454.1 1781.94 1454.1 M1781.94 1450.39 Q1787.75 1450.39 1790.81 1455 Q1793.89 1459.58 1793.89 1468.33 Q1793.89 1477.06 1790.81 1481.67 Q1787.75 1486.25 1781.94 1486.25 Q1776.13 1486.25 1773.05 1481.67 Q1770 1477.06 1770 1468.33 Q1770 1459.58 1773.05 1455 Q1776.13 1450.39 1781.94 1450.39 Z\" fill=\"#000000\" fill-rule=\"nonzero\" fill-opacity=\"1\" /><path clip-path=\"url(#clip560)\" d=\"M1802.1 1479.7 L1806.99 1479.7 L1806.99 1485.58 L1802.1 1485.58 L1802.1 1479.7 Z\" fill=\"#000000\" fill-rule=\"nonzero\" fill-opacity=\"1\" /><path clip-path=\"url(#clip560)\" d=\"M1815.99 1451.02 L1838.21 1451.02 L1838.21 1453.01 L1825.67 1485.58 L1820.78 1485.58 L1832.59 1454.96 L1815.99 1454.96 L1815.99 1451.02 Z\" fill=\"#000000\" fill-rule=\"nonzero\" fill-opacity=\"1\" /><path clip-path=\"url(#clip560)\" d=\"M1847.38 1451.02 L1865.74 1451.02 L1865.74 1454.96 L1851.66 1454.96 L1851.66 1463.43 Q1852.68 1463.08 1853.7 1462.92 Q1854.72 1462.73 1855.74 1462.73 Q1861.52 1462.73 1864.9 1465.9 Q1868.28 1469.08 1868.28 1474.49 Q1868.28 1480.07 1864.81 1483.17 Q1861.34 1486.25 1855.02 1486.25 Q1852.84 1486.25 1850.57 1485.88 Q1848.33 1485.51 1845.92 1484.77 L1845.92 1480.07 Q1848.01 1481.2 1850.23 1481.76 Q1852.45 1482.32 1854.93 1482.32 Q1858.93 1482.32 1861.27 1480.21 Q1863.61 1478.1 1863.61 1474.49 Q1863.61 1470.88 1861.27 1468.77 Q1858.93 1466.67 1854.93 1466.67 Q1853.05 1466.67 1851.18 1467.08 Q1849.32 1467.5 1847.38 1468.38 L1847.38 1451.02 Z\" fill=\"#000000\" fill-rule=\"nonzero\" fill-opacity=\"1\" /><path clip-path=\"url(#clip560)\" d=\"M2247.68 1481.64 L2255.31 1481.64 L2255.31 1455.28 L2247 1456.95 L2247 1452.69 L2255.27 1451.02 L2259.94 1451.02 L2259.94 1481.64 L2267.58 1481.64 L2267.58 1485.58 L2247.68 1485.58 L2247.68 1481.64 Z\" fill=\"#000000\" fill-rule=\"nonzero\" fill-opacity=\"1\" /><path clip-path=\"url(#clip560)\" d=\"M2277.03 1479.7 L2281.91 1479.7 L2281.91 1485.58 L2277.03 1485.58 L2277.03 1479.7 Z\" fill=\"#000000\" fill-rule=\"nonzero\" fill-opacity=\"1\" /><path clip-path=\"url(#clip560)\" d=\"M2302.1 1454.1 Q2298.49 1454.1 2296.66 1457.66 Q2294.85 1461.2 2294.85 1468.33 Q2294.85 1475.44 2296.66 1479.01 Q2298.49 1482.55 2302.1 1482.55 Q2305.73 1482.55 2307.54 1479.01 Q2309.36 1475.44 2309.36 1468.33 Q2309.36 1461.2 2307.54 1457.66 Q2305.73 1454.1 2302.1 1454.1 M2302.1 1450.39 Q2307.91 1450.39 2310.96 1455 Q2314.04 1459.58 2314.04 1468.33 Q2314.04 1477.06 2310.96 1481.67 Q2307.91 1486.25 2302.1 1486.25 Q2296.29 1486.25 2293.21 1481.67 Q2290.15 1477.06 2290.15 1468.33 Q2290.15 1459.58 2293.21 1455 Q2296.29 1450.39 2302.1 1450.39 Z\" fill=\"#000000\" fill-rule=\"nonzero\" fill-opacity=\"1\" /><path clip-path=\"url(#clip560)\" d=\"M2332.26 1454.1 Q2328.65 1454.1 2326.82 1457.66 Q2325.01 1461.2 2325.01 1468.33 Q2325.01 1475.44 2326.82 1479.01 Q2328.65 1482.55 2332.26 1482.55 Q2335.89 1482.55 2337.7 1479.01 Q2339.53 1475.44 2339.53 1468.33 Q2339.53 1461.2 2337.7 1457.66 Q2335.89 1454.1 2332.26 1454.1 M2332.26 1450.39 Q2338.07 1450.39 2341.12 1455 Q2344.2 1459.58 2344.2 1468.33 Q2344.2 1477.06 2341.12 1481.67 Q2338.07 1486.25 2332.26 1486.25 Q2326.45 1486.25 2323.37 1481.67 Q2320.31 1477.06 2320.31 1468.33 Q2320.31 1459.58 2323.37 1455 Q2326.45 1450.39 2332.26 1450.39 Z\" fill=\"#000000\" fill-rule=\"nonzero\" fill-opacity=\"1\" /><path clip-path=\"url(#clip560)\" d=\"M1284.17 1562.63 L1294.68 1562.63 L1294.68 1526.38 L1283.25 1528.67 L1283.25 1522.82 L1294.61 1520.52 L1301.04 1520.52 L1301.04 1562.63 L1311.55 1562.63 L1311.55 1568.04 L1284.17 1568.04 L1284.17 1562.63 Z\" fill=\"#000000\" fill-rule=\"nonzero\" fill-opacity=\"1\" /><path clip-path=\"url(#clip560)\" d=\"M1334.11 1520.52 L1339.52 1520.52 L1322.97 1574.09 L1317.56 1574.09 L1334.11 1520.52 Z\" fill=\"#000000\" fill-rule=\"nonzero\" fill-opacity=\"1\" /><path clip-path=\"url(#clip560)\" d=\"M1375.3 1546.53 L1375.3 1568.04 L1369.44 1568.04 L1369.44 1546.72 Q1369.44 1541.66 1367.47 1539.14 Q1365.5 1536.63 1361.55 1536.63 Q1356.81 1536.63 1354.07 1539.65 Q1351.33 1542.68 1351.33 1547.9 L1351.33 1568.04 L1345.44 1568.04 L1345.44 1532.4 L1351.33 1532.4 L1351.33 1537.93 Q1353.43 1534.72 1356.27 1533.13 Q1359.13 1531.54 1362.85 1531.54 Q1369 1531.54 1372.15 1535.36 Q1375.3 1539.14 1375.3 1546.53 Z\" fill=\"#000000\" fill-rule=\"nonzero\" fill-opacity=\"1\" /><path clip-path=\"url(#clip560)\" d=\"M1389.37 1543.15 L1402.86 1543.15 L1402.86 1546.78 L1383.83 1546.78 L1383.83 1543.28 Q1384.91 1542.29 1386.92 1540.51 Q1397.87 1530.8 1397.87 1527.81 Q1397.87 1525.71 1396.21 1524.44 Q1394.56 1523.13 1391.85 1523.13 Q1390.2 1523.13 1388.25 1523.71 Q1386.31 1524.25 1384.02 1525.36 L1384.02 1521.45 Q1386.47 1520.56 1388.57 1520.11 Q1390.7 1519.66 1392.52 1519.66 Q1397.13 1519.66 1399.9 1521.77 Q1402.67 1523.87 1402.67 1527.3 Q1402.67 1531.73 1392.14 1540.77 Q1390.35 1542.29 1389.37 1543.15 Z\" fill=\"#000000\" fill-rule=\"nonzero\" fill-opacity=\"1\" /><polyline clip-path=\"url(#clip562)\" style=\"stroke:#000000; stroke-linecap:round; stroke-linejoin:round; stroke-width:2; stroke-opacity:0.1; fill:none\" points=\"333.358,1384.76 2352.76,1384.76 \"/>\n",
       "<polyline clip-path=\"url(#clip562)\" style=\"stroke:#000000; stroke-linecap:round; stroke-linejoin:round; stroke-width:2; stroke-opacity:0.1; fill:none\" points=\"333.358,1125.04 2352.76,1125.04 \"/>\n",
       "<polyline clip-path=\"url(#clip562)\" style=\"stroke:#000000; stroke-linecap:round; stroke-linejoin:round; stroke-width:2; stroke-opacity:0.1; fill:none\" points=\"333.358,865.329 2352.76,865.329 \"/>\n",
       "<polyline clip-path=\"url(#clip562)\" style=\"stroke:#000000; stroke-linecap:round; stroke-linejoin:round; stroke-width:2; stroke-opacity:0.1; fill:none\" points=\"333.358,605.614 2352.76,605.614 \"/>\n",
       "<polyline clip-path=\"url(#clip562)\" style=\"stroke:#000000; stroke-linecap:round; stroke-linejoin:round; stroke-width:2; stroke-opacity:0.1; fill:none\" points=\"333.358,345.9 2352.76,345.9 \"/>\n",
       "<polyline clip-path=\"url(#clip562)\" style=\"stroke:#000000; stroke-linecap:round; stroke-linejoin:round; stroke-width:2; stroke-opacity:0.1; fill:none\" points=\"333.358,86.1857 2352.76,86.1857 \"/>\n",
       "<polyline clip-path=\"url(#clip560)\" style=\"stroke:#000000; stroke-linecap:round; stroke-linejoin:round; stroke-width:4; stroke-opacity:1; fill:none\" points=\"333.358,1423.18 333.358,47.2441 \"/>\n",
       "<polyline clip-path=\"url(#clip560)\" style=\"stroke:#000000; stroke-linecap:round; stroke-linejoin:round; stroke-width:4; stroke-opacity:1; fill:none\" points=\"333.358,1384.76 352.256,1384.76 \"/>\n",
       "<polyline clip-path=\"url(#clip560)\" style=\"stroke:#000000; stroke-linecap:round; stroke-linejoin:round; stroke-width:4; stroke-opacity:1; fill:none\" points=\"333.358,1125.04 352.256,1125.04 \"/>\n",
       "<polyline clip-path=\"url(#clip560)\" style=\"stroke:#000000; stroke-linecap:round; stroke-linejoin:round; stroke-width:4; stroke-opacity:1; fill:none\" points=\"333.358,865.329 352.256,865.329 \"/>\n",
       "<polyline clip-path=\"url(#clip560)\" style=\"stroke:#000000; stroke-linecap:round; stroke-linejoin:round; stroke-width:4; stroke-opacity:1; fill:none\" points=\"333.358,605.614 352.256,605.614 \"/>\n",
       "<polyline clip-path=\"url(#clip560)\" style=\"stroke:#000000; stroke-linecap:round; stroke-linejoin:round; stroke-width:4; stroke-opacity:1; fill:none\" points=\"333.358,345.9 352.256,345.9 \"/>\n",
       "<polyline clip-path=\"url(#clip560)\" style=\"stroke:#000000; stroke-linecap:round; stroke-linejoin:round; stroke-width:4; stroke-opacity:1; fill:none\" points=\"333.358,86.1857 352.256,86.1857 \"/>\n",
       "<path clip-path=\"url(#clip560)\" d=\"M210.021 1370.56 Q206.41 1370.56 204.581 1374.12 Q202.775 1377.66 202.775 1384.79 Q202.775 1391.9 204.581 1395.46 Q206.41 1399.01 210.021 1399.01 Q213.655 1399.01 215.461 1395.46 Q217.289 1391.9 217.289 1384.79 Q217.289 1377.66 215.461 1374.12 Q213.655 1370.56 210.021 1370.56 M210.021 1366.85 Q215.831 1366.85 218.886 1371.46 Q221.965 1376.04 221.965 1384.79 Q221.965 1393.52 218.886 1398.13 Q215.831 1402.71 210.021 1402.71 Q204.211 1402.71 201.132 1398.13 Q198.076 1393.52 198.076 1384.79 Q198.076 1376.04 201.132 1371.46 Q204.211 1366.85 210.021 1366.85 Z\" fill=\"#000000\" fill-rule=\"nonzero\" fill-opacity=\"1\" /><path clip-path=\"url(#clip560)\" d=\"M230.183 1396.16 L235.067 1396.16 L235.067 1402.04 L230.183 1402.04 L230.183 1396.16 Z\" fill=\"#000000\" fill-rule=\"nonzero\" fill-opacity=\"1\" /><path clip-path=\"url(#clip560)\" d=\"M255.252 1370.56 Q251.641 1370.56 249.812 1374.12 Q248.007 1377.66 248.007 1384.79 Q248.007 1391.9 249.812 1395.46 Q251.641 1399.01 255.252 1399.01 Q258.886 1399.01 260.692 1395.46 Q262.52 1391.9 262.52 1384.79 Q262.52 1377.66 260.692 1374.12 Q258.886 1370.56 255.252 1370.56 M255.252 1366.85 Q261.062 1366.85 264.118 1371.46 Q267.196 1376.04 267.196 1384.79 Q267.196 1393.52 264.118 1398.13 Q261.062 1402.71 255.252 1402.71 Q249.442 1402.71 246.363 1398.13 Q243.308 1393.52 243.308 1384.79 Q243.308 1376.04 246.363 1371.46 Q249.442 1366.85 255.252 1366.85 Z\" fill=\"#000000\" fill-rule=\"nonzero\" fill-opacity=\"1\" /><path clip-path=\"url(#clip560)\" d=\"M285.414 1370.56 Q281.803 1370.56 279.974 1374.12 Q278.169 1377.66 278.169 1384.79 Q278.169 1391.9 279.974 1395.46 Q281.803 1399.01 285.414 1399.01 Q289.048 1399.01 290.854 1395.46 Q292.682 1391.9 292.682 1384.79 Q292.682 1377.66 290.854 1374.12 Q289.048 1370.56 285.414 1370.56 M285.414 1366.85 Q291.224 1366.85 294.28 1371.46 Q297.358 1376.04 297.358 1384.79 Q297.358 1393.52 294.28 1398.13 Q291.224 1402.71 285.414 1402.71 Q279.604 1402.71 276.525 1398.13 Q273.469 1393.52 273.469 1384.79 Q273.469 1376.04 276.525 1371.46 Q279.604 1366.85 285.414 1366.85 Z\" fill=\"#000000\" fill-rule=\"nonzero\" fill-opacity=\"1\" /><path clip-path=\"url(#clip560)\" d=\"M211.016 1110.84 Q207.405 1110.84 205.576 1114.41 Q203.771 1117.95 203.771 1125.08 Q203.771 1132.18 205.576 1135.75 Q207.405 1139.29 211.016 1139.29 Q214.65 1139.29 216.456 1135.75 Q218.285 1132.18 218.285 1125.08 Q218.285 1117.95 216.456 1114.41 Q214.65 1110.84 211.016 1110.84 M211.016 1107.14 Q216.826 1107.14 219.882 1111.74 Q222.96 1116.33 222.96 1125.08 Q222.96 1133.8 219.882 1138.41 Q216.826 1142.99 211.016 1142.99 Q205.206 1142.99 202.127 1138.41 Q199.072 1133.8 199.072 1125.08 Q199.072 1116.33 202.127 1111.74 Q205.206 1107.14 211.016 1107.14 Z\" fill=\"#000000\" fill-rule=\"nonzero\" fill-opacity=\"1\" /><path clip-path=\"url(#clip560)\" d=\"M231.178 1136.44 L236.062 1136.44 L236.062 1142.32 L231.178 1142.32 L231.178 1136.44 Z\" fill=\"#000000\" fill-rule=\"nonzero\" fill-opacity=\"1\" /><path clip-path=\"url(#clip560)\" d=\"M256.247 1110.84 Q252.636 1110.84 250.808 1114.41 Q249.002 1117.95 249.002 1125.08 Q249.002 1132.18 250.808 1135.75 Q252.636 1139.29 256.247 1139.29 Q259.882 1139.29 261.687 1135.75 Q263.516 1132.18 263.516 1125.08 Q263.516 1117.95 261.687 1114.41 Q259.882 1110.84 256.247 1110.84 M256.247 1107.14 Q262.057 1107.14 265.113 1111.74 Q268.192 1116.33 268.192 1125.08 Q268.192 1133.8 265.113 1138.41 Q262.057 1142.99 256.247 1142.99 Q250.437 1142.99 247.358 1138.41 Q244.303 1133.8 244.303 1125.08 Q244.303 1116.33 247.358 1111.74 Q250.437 1107.14 256.247 1107.14 Z\" fill=\"#000000\" fill-rule=\"nonzero\" fill-opacity=\"1\" /><path clip-path=\"url(#clip560)\" d=\"M276.456 1107.76 L294.812 1107.76 L294.812 1111.7 L280.738 1111.7 L280.738 1120.17 Q281.756 1119.82 282.775 1119.66 Q283.793 1119.48 284.812 1119.48 Q290.599 1119.48 293.979 1122.65 Q297.358 1125.82 297.358 1131.24 Q297.358 1136.81 293.886 1139.92 Q290.414 1142.99 284.094 1142.99 Q281.918 1142.99 279.65 1142.62 Q277.405 1142.25 274.997 1141.51 L274.997 1136.81 Q277.081 1137.95 279.303 1138.5 Q281.525 1139.06 284.002 1139.06 Q288.006 1139.06 290.344 1136.95 Q292.682 1134.85 292.682 1131.24 Q292.682 1127.62 290.344 1125.52 Q288.006 1123.41 284.002 1123.41 Q282.127 1123.41 280.252 1123.83 Q278.4 1124.24 276.456 1125.12 L276.456 1107.76 Z\" fill=\"#000000\" fill-rule=\"nonzero\" fill-opacity=\"1\" /><path clip-path=\"url(#clip560)\" d=\"M210.021 851.128 Q206.41 851.128 204.581 854.692 Q202.775 858.234 202.775 865.364 Q202.775 872.47 204.581 876.035 Q206.41 879.576 210.021 879.576 Q213.655 879.576 215.461 876.035 Q217.289 872.47 217.289 865.364 Q217.289 858.234 215.461 854.692 Q213.655 851.128 210.021 851.128 M210.021 847.424 Q215.831 847.424 218.886 852.03 Q221.965 856.614 221.965 865.364 Q221.965 874.09 218.886 878.697 Q215.831 883.28 210.021 883.28 Q204.211 883.28 201.132 878.697 Q198.076 874.09 198.076 865.364 Q198.076 856.614 201.132 852.03 Q204.211 847.424 210.021 847.424 Z\" fill=\"#000000\" fill-rule=\"nonzero\" fill-opacity=\"1\" /><path clip-path=\"url(#clip560)\" d=\"M230.183 876.729 L235.067 876.729 L235.067 882.609 L230.183 882.609 L230.183 876.729 Z\" fill=\"#000000\" fill-rule=\"nonzero\" fill-opacity=\"1\" /><path clip-path=\"url(#clip560)\" d=\"M246.062 878.674 L253.701 878.674 L253.701 852.308 L245.391 853.975 L245.391 849.716 L253.655 848.049 L258.331 848.049 L258.331 878.674 L265.97 878.674 L265.97 882.609 L246.062 882.609 L246.062 878.674 Z\" fill=\"#000000\" fill-rule=\"nonzero\" fill-opacity=\"1\" /><path clip-path=\"url(#clip560)\" d=\"M285.414 851.128 Q281.803 851.128 279.974 854.692 Q278.169 858.234 278.169 865.364 Q278.169 872.47 279.974 876.035 Q281.803 879.576 285.414 879.576 Q289.048 879.576 290.854 876.035 Q292.682 872.47 292.682 865.364 Q292.682 858.234 290.854 854.692 Q289.048 851.128 285.414 851.128 M285.414 847.424 Q291.224 847.424 294.28 852.03 Q297.358 856.614 297.358 865.364 Q297.358 874.09 294.28 878.697 Q291.224 883.28 285.414 883.28 Q279.604 883.28 276.525 878.697 Q273.469 874.09 273.469 865.364 Q273.469 856.614 276.525 852.03 Q279.604 847.424 285.414 847.424 Z\" fill=\"#000000\" fill-rule=\"nonzero\" fill-opacity=\"1\" /><path clip-path=\"url(#clip560)\" d=\"M211.016 591.413 Q207.405 591.413 205.576 594.978 Q203.771 598.52 203.771 605.649 Q203.771 612.756 205.576 616.32 Q207.405 619.862 211.016 619.862 Q214.65 619.862 216.456 616.32 Q218.285 612.756 218.285 605.649 Q218.285 598.52 216.456 594.978 Q214.65 591.413 211.016 591.413 M211.016 587.709 Q216.826 587.709 219.882 592.316 Q222.96 596.899 222.96 605.649 Q222.96 614.376 219.882 618.982 Q216.826 623.566 211.016 623.566 Q205.206 623.566 202.127 618.982 Q199.072 614.376 199.072 605.649 Q199.072 596.899 202.127 592.316 Q205.206 587.709 211.016 587.709 Z\" fill=\"#000000\" fill-rule=\"nonzero\" fill-opacity=\"1\" /><path clip-path=\"url(#clip560)\" d=\"M231.178 617.015 L236.062 617.015 L236.062 622.894 L231.178 622.894 L231.178 617.015 Z\" fill=\"#000000\" fill-rule=\"nonzero\" fill-opacity=\"1\" /><path clip-path=\"url(#clip560)\" d=\"M247.058 618.959 L254.696 618.959 L254.696 592.594 L246.386 594.26 L246.386 590.001 L254.65 588.334 L259.326 588.334 L259.326 618.959 L266.965 618.959 L266.965 622.894 L247.058 622.894 L247.058 618.959 Z\" fill=\"#000000\" fill-rule=\"nonzero\" fill-opacity=\"1\" /><path clip-path=\"url(#clip560)\" d=\"M276.456 588.334 L294.812 588.334 L294.812 592.27 L280.738 592.27 L280.738 600.742 Q281.756 600.395 282.775 600.233 Q283.793 600.047 284.812 600.047 Q290.599 600.047 293.979 603.219 Q297.358 606.39 297.358 611.807 Q297.358 617.385 293.886 620.487 Q290.414 623.566 284.094 623.566 Q281.918 623.566 279.65 623.195 Q277.405 622.825 274.997 622.084 L274.997 617.385 Q277.081 618.52 279.303 619.075 Q281.525 619.631 284.002 619.631 Q288.006 619.631 290.344 617.524 Q292.682 615.418 292.682 611.807 Q292.682 608.195 290.344 606.089 Q288.006 603.983 284.002 603.983 Q282.127 603.983 280.252 604.399 Q278.4 604.816 276.456 605.695 L276.456 588.334 Z\" fill=\"#000000\" fill-rule=\"nonzero\" fill-opacity=\"1\" /><path clip-path=\"url(#clip560)\" d=\"M210.021 331.699 Q206.41 331.699 204.581 335.264 Q202.775 338.805 202.775 345.935 Q202.775 353.041 204.581 356.606 Q206.41 360.148 210.021 360.148 Q213.655 360.148 215.461 356.606 Q217.289 353.041 217.289 345.935 Q217.289 338.805 215.461 335.264 Q213.655 331.699 210.021 331.699 M210.021 327.995 Q215.831 327.995 218.886 332.602 Q221.965 337.185 221.965 345.935 Q221.965 354.662 218.886 359.268 Q215.831 363.851 210.021 363.851 Q204.211 363.851 201.132 359.268 Q198.076 354.662 198.076 345.935 Q198.076 337.185 201.132 332.602 Q204.211 327.995 210.021 327.995 Z\" fill=\"#000000\" fill-rule=\"nonzero\" fill-opacity=\"1\" /><path clip-path=\"url(#clip560)\" d=\"M230.183 357.3 L235.067 357.3 L235.067 363.18 L230.183 363.18 L230.183 357.3 Z\" fill=\"#000000\" fill-rule=\"nonzero\" fill-opacity=\"1\" /><path clip-path=\"url(#clip560)\" d=\"M249.28 359.245 L265.599 359.245 L265.599 363.18 L243.655 363.18 L243.655 359.245 Q246.317 356.49 250.9 351.861 Q255.507 347.208 256.687 345.865 Q258.933 343.342 259.812 341.606 Q260.715 339.847 260.715 338.157 Q260.715 335.402 258.77 333.666 Q256.849 331.93 253.747 331.93 Q251.548 331.93 249.095 332.694 Q246.664 333.458 243.886 335.009 L243.886 330.287 Q246.71 329.152 249.164 328.574 Q251.618 327.995 253.655 327.995 Q259.025 327.995 262.22 330.68 Q265.414 333.365 265.414 337.856 Q265.414 339.986 264.604 341.907 Q263.817 343.805 261.71 346.398 Q261.132 347.069 258.03 350.287 Q254.928 353.481 249.28 359.245 Z\" fill=\"#000000\" fill-rule=\"nonzero\" fill-opacity=\"1\" /><path clip-path=\"url(#clip560)\" d=\"M285.414 331.699 Q281.803 331.699 279.974 335.264 Q278.169 338.805 278.169 345.935 Q278.169 353.041 279.974 356.606 Q281.803 360.148 285.414 360.148 Q289.048 360.148 290.854 356.606 Q292.682 353.041 292.682 345.935 Q292.682 338.805 290.854 335.264 Q289.048 331.699 285.414 331.699 M285.414 327.995 Q291.224 327.995 294.28 332.602 Q297.358 337.185 297.358 345.935 Q297.358 354.662 294.28 359.268 Q291.224 363.851 285.414 363.851 Q279.604 363.851 276.525 359.268 Q273.469 354.662 273.469 345.935 Q273.469 337.185 276.525 332.602 Q279.604 327.995 285.414 327.995 Z\" fill=\"#000000\" fill-rule=\"nonzero\" fill-opacity=\"1\" /><path clip-path=\"url(#clip560)\" d=\"M211.016 71.9844 Q207.405 71.9844 205.576 75.5492 Q203.771 79.0908 203.771 86.2204 Q203.771 93.3268 205.576 96.8916 Q207.405 100.433 211.016 100.433 Q214.65 100.433 216.456 96.8916 Q218.285 93.3268 218.285 86.2204 Q218.285 79.0908 216.456 75.5492 Q214.65 71.9844 211.016 71.9844 M211.016 68.2807 Q216.826 68.2807 219.882 72.8871 Q222.96 77.4704 222.96 86.2204 Q222.96 94.9472 219.882 99.5537 Q216.826 104.137 211.016 104.137 Q205.206 104.137 202.127 99.5537 Q199.072 94.9472 199.072 86.2204 Q199.072 77.4704 202.127 72.8871 Q205.206 68.2807 211.016 68.2807 Z\" fill=\"#000000\" fill-rule=\"nonzero\" fill-opacity=\"1\" /><path clip-path=\"url(#clip560)\" d=\"M231.178 97.5861 L236.062 97.5861 L236.062 103.466 L231.178 103.466 L231.178 97.5861 Z\" fill=\"#000000\" fill-rule=\"nonzero\" fill-opacity=\"1\" /><path clip-path=\"url(#clip560)\" d=\"M250.275 99.5305 L266.595 99.5305 L266.595 103.466 L244.65 103.466 L244.65 99.5305 Q247.312 96.7759 251.896 92.1463 Q256.502 87.4935 257.683 86.151 Q259.928 83.6278 260.808 81.8917 Q261.71 80.1325 261.71 78.4427 Q261.71 75.688 259.766 73.9519 Q257.845 72.2158 254.743 72.2158 Q252.544 72.2158 250.09 72.9797 Q247.659 73.7436 244.882 75.2945 L244.882 70.5723 Q247.706 69.4381 250.159 68.8594 Q252.613 68.2807 254.65 68.2807 Q260.02 68.2807 263.215 70.9658 Q266.409 73.651 266.409 78.1417 Q266.409 80.2714 265.599 82.1926 Q264.812 84.0908 262.706 86.6834 Q262.127 87.3546 259.025 90.5722 Q255.923 93.7667 250.275 99.5305 Z\" fill=\"#000000\" fill-rule=\"nonzero\" fill-opacity=\"1\" /><path clip-path=\"url(#clip560)\" d=\"M276.456 68.9057 L294.812 68.9057 L294.812 72.8408 L280.738 72.8408 L280.738 81.313 Q281.756 80.9658 282.775 80.8038 Q283.793 80.6186 284.812 80.6186 Q290.599 80.6186 293.979 83.7899 Q297.358 86.9611 297.358 92.3778 Q297.358 97.9564 293.886 101.058 Q290.414 104.137 284.094 104.137 Q281.918 104.137 279.65 103.767 Q277.405 103.396 274.997 102.655 L274.997 97.9564 Q277.081 99.0907 279.303 99.6462 Q281.525 100.202 284.002 100.202 Q288.006 100.202 290.344 98.0953 Q292.682 95.9889 292.682 92.3778 Q292.682 88.7667 290.344 86.6602 Q288.006 84.5537 284.002 84.5537 Q282.127 84.5537 280.252 84.9704 Q278.4 85.3871 276.456 86.2667 L276.456 68.9057 Z\" fill=\"#000000\" fill-rule=\"nonzero\" fill-opacity=\"1\" /><path clip-path=\"url(#clip560)\" d=\"M44.2885 865.756 Q46.0196 865.756 46.9455 866.802 Q47.8312 867.849 47.8312 869.218 Q47.8312 870.546 46.9455 871.593 Q46.0196 872.599 44.3691 872.599 Q43.2419 872.599 42.2354 871.875 Q41.1887 871.15 40.9874 869.54 Q39.2564 871.553 39.2564 874.733 Q39.2564 876.303 39.8602 877.39 Q40.4238 878.437 42.1549 879.483 Q43.886 880.53 47.4286 881.255 Q50.9713 881.939 56.4865 882.382 L77.0177 883.952 Q83.9823 884.435 97.6698 886.166 Q111.317 887.857 114.457 888.662 Q117.436 889.387 119.892 890.474 Q122.347 891.56 124.481 893.171 Q126.655 894.781 127.863 897.116 Q129.07 899.451 129.07 902.269 Q129.07 906.013 127.098 908.67 Q125.166 911.327 122.227 911.327 Q120.496 911.327 119.57 910.28 Q118.684 909.233 118.684 907.865 Q118.684 906.536 119.57 905.53 Q120.496 904.483 122.146 904.483 Q123.273 904.483 124.28 905.208 Q125.327 905.932 125.528 907.543 Q127.259 905.53 127.259 902.269 Q127.259 899.773 125.81 898.122 Q124.36 896.472 120.496 895.264 Q116.631 894.056 110.029 893.533 L89.4975 891.963 Q82.2512 891.44 68.765 889.749 Q55.2788 888.018 51.7361 887.253 Q37.4448 884.032 37.4448 874.813 Q37.4448 871.069 39.4174 868.412 Q41.3498 865.756 44.2885 865.756 Z\" fill=\"#000000\" fill-rule=\"nonzero\" fill-opacity=\"1\" /><path clip-path=\"url(#clip560)\" d=\"M166.004 902.954 Q159.218 902.954 155.521 901.24 Q150.02 898.851 150.02 893.215 Q150.02 892.02 150.359 890.78 Q150.674 889.517 151.914 887.939 Q153.154 886.339 155.183 885.369 Q159.106 883.521 166.004 883.521 Q172.745 883.521 176.42 885.234 Q181.785 887.736 181.785 893.26 Q181.785 895.334 180.725 897.453 Q179.666 899.55 177.118 900.88 Q173.308 902.954 166.004 902.954 M165.441 899.121 Q172.407 899.121 175.18 898.625 Q178.178 898.062 179.486 896.529 Q180.771 894.973 180.771 893.26 Q180.771 891.411 179.395 889.878 Q177.998 888.323 174.999 887.849 Q172.046 887.331 165.441 887.353 Q159.015 887.353 156.445 887.804 Q153.447 888.413 152.252 890.036 Q151.035 891.637 151.035 893.26 Q151.035 893.868 151.215 894.522 Q151.396 895.153 151.914 896.078 Q152.433 897.002 153.718 897.723 Q155.003 898.422 156.941 898.76 Q159.444 899.121 165.441 899.121 Z\" fill=\"#000000\" fill-rule=\"nonzero\" fill-opacity=\"1\" /><path clip-path=\"url(#clip560)\" d=\"M-11.1206 900.881 L-12.5635 900.881 Q-12.5635 895.335 -15.5167 892.472 Q-15.5167 891.683 -15.3364 891.548 Q-15.156 891.413 -14.3219 891.413 L11.5813 891.413 Q12.9565 891.413 13.3848 890.736 Q13.8131 890.06 13.8131 887.107 L13.8131 885.641 L15.2334 885.641 Q15.0982 887.264 15.0982 893.126 Q15.0982 898.987 15.2334 900.588 L13.8131 900.588 L13.8131 899.123 Q13.8131 896.214 13.4074 895.516 Q12.979 894.817 11.5813 894.817 L-12.338 894.817 Q-11.1206 897.229 -11.1206 900.881 Z\" fill=\"#000000\" fill-rule=\"nonzero\" fill-opacity=\"1\" /><path clip-path=\"url(#clip560)\" d=\"M79.0306 819.272 Q80.8341 819.272 81.8647 820.399 Q82.8631 821.526 82.8631 822.814 Q82.8631 824.038 82.1546 824.682 Q81.4461 825.327 80.5443 825.327 Q79.3205 825.327 78.2577 824.425 Q77.1949 823.523 76.9694 822.17 Q76.1321 823.491 76.1321 825.455 Q76.1321 826.744 76.8084 827.871 Q77.4847 828.966 78.3543 829.642 Q79.2239 830.286 80.4799 830.866 Q81.7037 831.413 82.4444 831.639 Q83.153 831.832 83.9259 831.993 L92.9435 834.248 Q97.2269 835.343 98.7406 835.343 Q100.609 835.343 101.865 834.441 Q103.088 833.539 103.088 831.735 Q103.088 831.027 102.895 830.222 Q102.67 829.417 102.09 828.386 Q101.478 827.323 100.576 826.389 Q99.6424 825.423 98.0643 824.489 Q96.4862 823.555 94.4572 822.943 Q93.7487 822.75 93.7487 822.106 Q93.7487 821.301 94.3928 821.301 Q94.9403 821.301 96.0997 821.752 Q97.2269 822.17 98.7084 823.104 Q100.158 824.006 101.478 825.198 Q102.766 826.389 103.668 828.161 Q104.57 829.932 104.57 831.864 Q104.57 834.634 103.088 836.47 Q101.607 838.305 99.5457 838.982 Q99.8356 839.143 100.222 839.368 Q100.609 839.594 101.478 840.27 Q102.315 840.914 102.96 841.655 Q103.571 842.396 104.055 843.555 Q104.57 844.682 104.57 845.906 Q104.57 847.452 104.119 848.837 Q103.668 850.189 102.638 851.156 Q101.607 852.122 100.19 852.122 Q98.6118 852.122 97.5168 851.059 Q96.3896 849.964 96.3896 848.483 Q96.3896 847.549 96.9371 846.808 Q97.4846 846.035 98.6762 846.035 Q99.9966 846.035 100.995 846.937 Q101.993 847.838 102.251 849.127 Q103.088 847.806 103.088 845.842 Q103.088 843.716 101.22 842.041 Q99.3525 840.367 96.2285 839.562 Q88.7246 837.565 85.3752 836.792 Q81.9936 836.019 80.5443 836.019 Q79.1916 836.019 78.2577 836.373 Q77.3237 836.727 76.905 837.339 Q76.4541 837.919 76.2931 838.467 Q76.1321 838.982 76.1321 839.562 Q76.1321 840.528 76.5186 841.623 Q76.905 842.685 77.8068 843.974 Q78.6764 845.23 80.4799 846.421 Q82.2834 847.613 84.7633 848.418 Q85.504 848.579 85.504 849.288 Q85.4718 850.061 84.8277 850.061 Q84.2802 850.061 83.153 849.642 Q81.9936 849.191 80.5443 848.289 Q79.095 847.355 77.8068 846.164 Q76.4864 844.94 75.5846 843.169 Q74.6828 841.365 74.6828 839.433 Q74.6828 838.563 74.8761 837.726 Q75.0371 836.856 75.5202 835.826 Q76.0033 834.763 77.0661 833.829 Q78.1289 832.895 79.6747 832.315 Q78.934 831.929 78.2255 831.413 Q77.5169 830.866 76.6474 830.029 Q75.7456 829.159 75.2303 827.967 Q74.6828 826.744 74.6828 825.391 Q74.6828 824.07 75.0371 822.782 Q75.3591 821.494 76.4219 820.399 Q77.4525 819.272 79.0306 819.272 Z\" fill=\"#000000\" fill-rule=\"nonzero\" fill-opacity=\"1\" /><path clip-path=\"url(#clip560)\" d=\"M76.864 812.551 Q75.4888 812.551 74.835 811.762 Q74.1812 810.972 74.1812 809.958 Q74.1812 808.898 74.8801 808.154 Q75.5564 807.388 76.7513 807.388 Q78.0363 807.388 78.7577 808.29 Q79.4791 809.169 79.2988 810.431 Q81.1474 809.327 81.9815 807.298 Q82.8156 805.246 82.8156 803.353 Q82.8156 801.369 81.1023 799.768 Q79.3889 798.145 75.1957 798.145 Q71.6338 798.145 69.5822 799.543 Q67.5307 800.918 67.5307 803.646 L67.5307 805.675 Q67.5307 806.373 67.4631 806.576 Q67.3955 806.779 67.0122 806.779 Q66.5613 806.779 66.4712 806.08 Q66.4712 805.382 66.3359 804.277 Q66.2457 801.594 63.9237 800.174 Q61.7594 798.889 58.6709 798.889 Q55.8529 798.889 54.6806 800.241 Q53.4858 801.572 53.4858 803.307 Q53.4858 804.931 54.1621 806.712 Q54.8384 808.493 56.3489 809.462 Q56.3489 806.599 58.6709 806.599 Q59.6854 806.599 60.3617 807.253 Q61.0155 807.884 61.0155 808.943 Q61.0155 809.958 60.3842 810.634 Q59.7305 811.311 58.6258 811.311 Q55.9881 811.311 54.1621 808.966 Q52.336 806.599 52.336 803.127 Q52.336 799.7 54.1395 797.175 Q55.9431 794.628 58.716 794.628 Q61.4438 794.628 63.6757 796.432 Q65.9076 798.235 66.8319 801.098 Q67.5307 797.581 69.9204 795.485 Q72.2875 793.388 75.1957 793.388 Q78.8028 793.388 81.463 796.229 Q84.1006 799.069 84.1006 803.217 Q84.1006 807.05 82.0266 809.8 Q79.9525 812.551 76.864 812.551 Z\" fill=\"#000000\" fill-rule=\"nonzero\" fill-opacity=\"1\" /><path clip-path=\"url(#clip560)\" d=\"M58.7731 755.133 L96.9049 764.634 Q98.6118 765.02 100.061 765.02 Q103.088 765.02 103.088 763.056 Q103.088 762.09 102.476 761.317 Q101.865 760.544 100.576 759.932 Q99.2881 759.32 98.0965 758.934 Q96.8727 758.547 94.9403 758.032 Q94.1674 757.871 93.9741 757.742 Q93.7487 757.581 93.7487 757.13 Q93.7487 756.325 94.3928 756.325 Q98.5474 757.194 100.931 758.322 Q104.57 760.125 104.57 763.185 Q104.57 765.504 103.153 767.146 Q101.736 768.789 99.6102 769.175 Q104.57 773.394 104.57 777.774 Q104.57 781.639 101.639 784.086 Q98.6762 786.534 94.0063 786.534 Q89.3043 786.534 84.7955 784.215 Q80.2866 781.864 77.4847 778.16 Q74.6828 774.457 74.6828 770.656 Q74.6828 766.631 78.9018 764.57 L63.2497 760.608 L61.9615 760.415 Q61.575 760.415 61.3818 760.576 Q61.1564 760.705 60.9953 761.478 Q60.8343 762.219 60.8343 763.7 Q60.8343 764.312 60.8021 764.602 Q60.7699 764.859 60.6089 765.085 Q60.4156 765.31 60.0292 765.31 Q58.902 765.31 58.7731 764.376 Q58.0646 758.193 58.0646 756.003 Q58.0646 755.616 58.2578 755.391 Q58.4189 755.165 58.6121 755.165 L58.7731 755.133 M81.9291 765.375 Q81.6393 765.375 80.8341 765.6 Q80.029 765.826 78.9018 766.341 Q77.7746 766.856 76.9694 767.983 Q76.1321 769.078 76.1321 770.56 Q76.1321 772.557 77.839 774.65 Q79.5459 776.711 82.4444 778.225 Q84.7633 779.384 89.6263 780.64 Q94.4894 781.864 96.9049 781.864 Q98.3863 781.864 99.7068 781.542 Q100.995 781.188 102.058 780.189 Q103.088 779.191 103.088 777.645 Q103.088 773.877 98.4185 770.173 Q97.6134 769.465 97.2913 769.304 Q96.9371 769.111 95.9709 768.853 L83.0563 765.568 Q82.0902 765.375 81.9291 765.375 Z\" fill=\"#000000\" fill-rule=\"nonzero\" fill-opacity=\"1\" /><path clip-path=\"url(#clip560)\" d=\"M79.0306 720.8 Q80.8341 720.8 81.8647 721.927 Q82.8631 723.054 82.8631 724.343 Q82.8631 725.566 82.1546 726.211 Q81.4461 726.855 80.5443 726.855 Q79.3205 726.855 78.2577 725.953 Q77.1949 725.051 76.9694 723.699 Q76.1321 725.019 76.1321 726.984 Q76.1321 728.272 76.8084 729.399 Q77.4847 730.494 78.3543 731.17 Q79.2239 731.814 80.4799 732.394 Q81.7037 732.942 82.4444 733.167 Q83.153 733.36 83.9259 733.521 L92.9435 735.776 Q97.2269 736.871 98.7406 736.871 Q100.609 736.871 101.865 735.969 Q103.088 735.067 103.088 733.264 Q103.088 732.555 102.895 731.75 Q102.67 730.945 102.09 729.914 Q101.478 728.851 100.576 727.917 Q99.6424 726.951 98.0643 726.017 Q96.4862 725.083 94.4572 724.471 Q93.7487 724.278 93.7487 723.634 Q93.7487 722.829 94.3928 722.829 Q94.9403 722.829 96.0997 723.28 Q97.2269 723.699 98.7084 724.632 Q100.158 725.534 101.478 726.726 Q102.766 727.917 103.668 729.689 Q104.57 731.46 104.57 733.392 Q104.57 736.162 103.088 737.998 Q101.607 739.834 99.5457 740.51 Q99.8356 740.671 100.222 740.896 Q100.609 741.122 101.478 741.798 Q102.315 742.442 102.96 743.183 Q103.571 743.924 104.055 745.083 Q104.57 746.21 104.57 747.434 Q104.57 748.98 104.119 750.365 Q103.668 751.718 102.638 752.684 Q101.607 753.65 100.19 753.65 Q98.6118 753.65 97.5168 752.587 Q96.3896 751.492 96.3896 750.011 Q96.3896 749.077 96.9371 748.336 Q97.4846 747.563 98.6762 747.563 Q99.9966 747.563 100.995 748.465 Q101.993 749.367 102.251 750.655 Q103.088 749.334 103.088 747.37 Q103.088 745.244 101.22 743.57 Q99.3525 741.895 96.2285 741.09 Q88.7246 739.093 85.3752 738.32 Q81.9936 737.547 80.5443 737.547 Q79.1916 737.547 78.2577 737.901 Q77.3237 738.256 76.905 738.867 Q76.4541 739.447 76.2931 739.995 Q76.1321 740.51 76.1321 741.09 Q76.1321 742.056 76.5186 743.151 Q76.905 744.214 77.8068 745.502 Q78.6764 746.758 80.4799 747.95 Q82.2834 749.141 84.7633 749.946 Q85.504 750.107 85.504 750.816 Q85.4718 751.589 84.8277 751.589 Q84.2802 751.589 83.153 751.17 Q81.9936 750.719 80.5443 749.817 Q79.095 748.884 77.8068 747.692 Q76.4864 746.468 75.5846 744.697 Q74.6828 742.893 74.6828 740.961 Q74.6828 740.091 74.8761 739.254 Q75.0371 738.384 75.5202 737.354 Q76.0033 736.291 77.0661 735.357 Q78.1289 734.423 79.6747 733.843 Q78.934 733.457 78.2255 732.942 Q77.5169 732.394 76.6474 731.557 Q75.7456 730.687 75.2303 729.496 Q74.6828 728.272 74.6828 726.919 Q74.6828 725.599 75.0371 724.31 Q75.3591 723.022 76.4219 721.927 Q77.4525 720.8 79.0306 720.8 Z\" fill=\"#000000\" fill-rule=\"nonzero\" fill-opacity=\"1\" /><path clip-path=\"url(#clip560)\" d=\"M83.3634 716.297 L83.3634 699.141 L88.5833 699.141 L88.5833 716.297 L83.3634 716.297 Z\" fill=\"#000000\" fill-rule=\"nonzero\" fill-opacity=\"1\" /><path clip-path=\"url(#clip560)\" d=\"M60.5423 675.238 Q60.5423 680.203 65.4439 682.718 Q70.3137 685.2 80.1169 685.2 Q89.8882 685.2 94.7898 682.718 Q99.6596 680.203 99.6596 675.238 Q99.6596 670.241 94.7898 667.758 Q89.8882 665.244 80.1169 665.244 Q70.3137 665.244 65.4439 667.758 Q60.5423 670.241 60.5423 675.238 M55.4498 675.238 Q55.4498 667.249 61.7836 663.048 Q68.0857 658.815 80.1169 658.815 Q92.1162 658.815 98.4501 663.048 Q104.752 667.249 104.752 675.238 Q104.752 683.227 98.4501 687.46 Q92.1162 691.662 80.1169 691.662 Q68.0857 691.662 61.7836 687.46 Q55.4498 683.227 55.4498 675.238 Z\" fill=\"#000000\" fill-rule=\"nonzero\" fill-opacity=\"1\" /><path clip-path=\"url(#clip560)\" d=\"M95.7447 647.515 L95.7447 640.8 L103.829 640.8 L103.829 647.515 L95.7447 647.515 Z\" fill=\"#000000\" fill-rule=\"nonzero\" fill-opacity=\"1\" /><path clip-path=\"url(#clip560)\" d=\"M98.4183 621.257 L98.4183 598.818 L103.829 598.818 L103.829 628.991 L98.4183 628.991 Q94.6307 625.331 88.265 619.029 Q81.8674 612.695 80.0214 611.072 Q76.5521 607.984 74.1649 606.775 Q71.746 605.534 69.4225 605.534 Q65.6349 605.534 63.2477 608.207 Q60.8606 610.849 60.8606 615.114 Q60.8606 618.138 61.911 621.511 Q62.9613 624.853 65.0938 628.673 L58.6008 628.673 Q57.0412 624.79 56.2455 621.416 Q55.4498 618.042 55.4498 615.241 Q55.4498 607.857 59.1419 603.465 Q62.834 599.072 69.0087 599.072 Q71.9369 599.072 74.5787 600.186 Q77.1886 601.269 80.7534 604.165 Q81.6765 604.961 86.1006 609.226 Q90.493 613.491 98.4183 621.257 Z\" fill=\"#000000\" fill-rule=\"nonzero\" fill-opacity=\"1\" /><path clip-path=\"url(#clip560)\" d=\"M56.3091 585.259 L56.3091 560.019 L61.72 560.019 L61.72 579.37 L73.3692 579.37 Q72.8918 577.97 72.669 576.57 Q72.4144 575.169 72.4144 573.769 Q72.4144 565.812 76.7749 561.165 Q81.1354 556.518 88.5833 556.518 Q96.2539 556.518 100.519 561.292 Q104.752 566.066 104.752 574.755 Q104.752 577.747 104.243 580.866 Q103.734 583.954 102.715 587.264 L96.2539 587.264 Q97.8135 584.399 98.5774 581.344 Q99.3413 578.288 99.3413 574.883 Q99.3413 569.376 96.4449 566.162 Q93.5485 562.947 88.5833 562.947 Q83.618 562.947 80.7216 566.162 Q77.8252 569.376 77.8252 574.883 Q77.8252 577.461 78.3981 580.039 Q78.971 582.585 80.1805 585.259 L56.3091 585.259 Z\" fill=\"#000000\" fill-rule=\"nonzero\" fill-opacity=\"1\" /><polyline clip-path=\"url(#clip562)\" style=\"stroke:#009af9; stroke-linecap:round; stroke-linejoin:round; stroke-width:4; stroke-opacity:1; fill:none\" points=\"2295.6,86.1857 866.212,1060.11 601.51,1240.47 508.865,1303.6 465.983,1332.81 442.689,1348.69 428.644,1358.26 419.528,1364.47 413.278,1368.73 408.807,1371.77 405.5,1374.03 402.984,1375.74 401.026,1377.07 399.472,1378.13 398.219,1378.99 397.193,1379.69 396.343,1380.26 395.631,1380.75 395.028,1381.16 394.513,1381.51 394.07,1381.81 393.686,1382.07 393.351,1382.3 393.057,1382.5 392.798,1382.68 392.568,1382.84 392.363,1382.98 392.18,1383.1 392.015,1383.21 391.866,1383.31 391.732,1383.41 391.61,1383.49 391.499,1383.57 391.397,1383.63 391.304,1383.7 391.219,1383.76 391.141,1383.81 391.068,1383.86 391.002,1383.9 390.94,1383.95 390.882,1383.99 390.829,1384.02 390.779,1384.06 390.733,1384.09 390.69,1384.12 390.649,1384.14 390.611,1384.17 390.576,1384.19 390.542,1384.22 390.511,1384.24 \"/>\n",
       "<circle clip-path=\"url(#clip562)\" cx=\"2295.6\" cy=\"86.1857\" r=\"14.4\" fill=\"#e26f46\" fill-rule=\"evenodd\" fill-opacity=\"1\" stroke=\"#000000\" stroke-opacity=\"1\" stroke-width=\"3.2\"/>\n",
       "<circle clip-path=\"url(#clip562)\" cx=\"866.212\" cy=\"1060.11\" r=\"14.4\" fill=\"#e26f46\" fill-rule=\"evenodd\" fill-opacity=\"1\" stroke=\"#000000\" stroke-opacity=\"1\" stroke-width=\"3.2\"/>\n",
       "<circle clip-path=\"url(#clip562)\" cx=\"601.51\" cy=\"1240.47\" r=\"14.4\" fill=\"#e26f46\" fill-rule=\"evenodd\" fill-opacity=\"1\" stroke=\"#000000\" stroke-opacity=\"1\" stroke-width=\"3.2\"/>\n",
       "<circle clip-path=\"url(#clip562)\" cx=\"508.865\" cy=\"1303.6\" r=\"14.4\" fill=\"#e26f46\" fill-rule=\"evenodd\" fill-opacity=\"1\" stroke=\"#000000\" stroke-opacity=\"1\" stroke-width=\"3.2\"/>\n",
       "<circle clip-path=\"url(#clip562)\" cx=\"465.983\" cy=\"1332.81\" r=\"14.4\" fill=\"#e26f46\" fill-rule=\"evenodd\" fill-opacity=\"1\" stroke=\"#000000\" stroke-opacity=\"1\" stroke-width=\"3.2\"/>\n",
       "<circle clip-path=\"url(#clip562)\" cx=\"442.689\" cy=\"1348.69\" r=\"14.4\" fill=\"#e26f46\" fill-rule=\"evenodd\" fill-opacity=\"1\" stroke=\"#000000\" stroke-opacity=\"1\" stroke-width=\"3.2\"/>\n",
       "<circle clip-path=\"url(#clip562)\" cx=\"428.644\" cy=\"1358.26\" r=\"14.4\" fill=\"#e26f46\" fill-rule=\"evenodd\" fill-opacity=\"1\" stroke=\"#000000\" stroke-opacity=\"1\" stroke-width=\"3.2\"/>\n",
       "<circle clip-path=\"url(#clip562)\" cx=\"419.528\" cy=\"1364.47\" r=\"14.4\" fill=\"#e26f46\" fill-rule=\"evenodd\" fill-opacity=\"1\" stroke=\"#000000\" stroke-opacity=\"1\" stroke-width=\"3.2\"/>\n",
       "<circle clip-path=\"url(#clip562)\" cx=\"413.278\" cy=\"1368.73\" r=\"14.4\" fill=\"#e26f46\" fill-rule=\"evenodd\" fill-opacity=\"1\" stroke=\"#000000\" stroke-opacity=\"1\" stroke-width=\"3.2\"/>\n",
       "<circle clip-path=\"url(#clip562)\" cx=\"408.807\" cy=\"1371.77\" r=\"14.4\" fill=\"#e26f46\" fill-rule=\"evenodd\" fill-opacity=\"1\" stroke=\"#000000\" stroke-opacity=\"1\" stroke-width=\"3.2\"/>\n",
       "<circle clip-path=\"url(#clip562)\" cx=\"405.5\" cy=\"1374.03\" r=\"14.4\" fill=\"#e26f46\" fill-rule=\"evenodd\" fill-opacity=\"1\" stroke=\"#000000\" stroke-opacity=\"1\" stroke-width=\"3.2\"/>\n",
       "<circle clip-path=\"url(#clip562)\" cx=\"402.984\" cy=\"1375.74\" r=\"14.4\" fill=\"#e26f46\" fill-rule=\"evenodd\" fill-opacity=\"1\" stroke=\"#000000\" stroke-opacity=\"1\" stroke-width=\"3.2\"/>\n",
       "<circle clip-path=\"url(#clip562)\" cx=\"401.026\" cy=\"1377.07\" r=\"14.4\" fill=\"#e26f46\" fill-rule=\"evenodd\" fill-opacity=\"1\" stroke=\"#000000\" stroke-opacity=\"1\" stroke-width=\"3.2\"/>\n",
       "<circle clip-path=\"url(#clip562)\" cx=\"399.472\" cy=\"1378.13\" r=\"14.4\" fill=\"#e26f46\" fill-rule=\"evenodd\" fill-opacity=\"1\" stroke=\"#000000\" stroke-opacity=\"1\" stroke-width=\"3.2\"/>\n",
       "<circle clip-path=\"url(#clip562)\" cx=\"398.219\" cy=\"1378.99\" r=\"14.4\" fill=\"#e26f46\" fill-rule=\"evenodd\" fill-opacity=\"1\" stroke=\"#000000\" stroke-opacity=\"1\" stroke-width=\"3.2\"/>\n",
       "<circle clip-path=\"url(#clip562)\" cx=\"397.193\" cy=\"1379.69\" r=\"14.4\" fill=\"#e26f46\" fill-rule=\"evenodd\" fill-opacity=\"1\" stroke=\"#000000\" stroke-opacity=\"1\" stroke-width=\"3.2\"/>\n",
       "<circle clip-path=\"url(#clip562)\" cx=\"396.343\" cy=\"1380.26\" r=\"14.4\" fill=\"#e26f46\" fill-rule=\"evenodd\" fill-opacity=\"1\" stroke=\"#000000\" stroke-opacity=\"1\" stroke-width=\"3.2\"/>\n",
       "<circle clip-path=\"url(#clip562)\" cx=\"395.631\" cy=\"1380.75\" r=\"14.4\" fill=\"#e26f46\" fill-rule=\"evenodd\" fill-opacity=\"1\" stroke=\"#000000\" stroke-opacity=\"1\" stroke-width=\"3.2\"/>\n",
       "<circle clip-path=\"url(#clip562)\" cx=\"395.028\" cy=\"1381.16\" r=\"14.4\" fill=\"#e26f46\" fill-rule=\"evenodd\" fill-opacity=\"1\" stroke=\"#000000\" stroke-opacity=\"1\" stroke-width=\"3.2\"/>\n",
       "<circle clip-path=\"url(#clip562)\" cx=\"394.513\" cy=\"1381.51\" r=\"14.4\" fill=\"#e26f46\" fill-rule=\"evenodd\" fill-opacity=\"1\" stroke=\"#000000\" stroke-opacity=\"1\" stroke-width=\"3.2\"/>\n",
       "<circle clip-path=\"url(#clip562)\" cx=\"394.07\" cy=\"1381.81\" r=\"14.4\" fill=\"#e26f46\" fill-rule=\"evenodd\" fill-opacity=\"1\" stroke=\"#000000\" stroke-opacity=\"1\" stroke-width=\"3.2\"/>\n",
       "<circle clip-path=\"url(#clip562)\" cx=\"393.686\" cy=\"1382.07\" r=\"14.4\" fill=\"#e26f46\" fill-rule=\"evenodd\" fill-opacity=\"1\" stroke=\"#000000\" stroke-opacity=\"1\" stroke-width=\"3.2\"/>\n",
       "<circle clip-path=\"url(#clip562)\" cx=\"393.351\" cy=\"1382.3\" r=\"14.4\" fill=\"#e26f46\" fill-rule=\"evenodd\" fill-opacity=\"1\" stroke=\"#000000\" stroke-opacity=\"1\" stroke-width=\"3.2\"/>\n",
       "<circle clip-path=\"url(#clip562)\" cx=\"393.057\" cy=\"1382.5\" r=\"14.4\" fill=\"#e26f46\" fill-rule=\"evenodd\" fill-opacity=\"1\" stroke=\"#000000\" stroke-opacity=\"1\" stroke-width=\"3.2\"/>\n",
       "<circle clip-path=\"url(#clip562)\" cx=\"392.798\" cy=\"1382.68\" r=\"14.4\" fill=\"#e26f46\" fill-rule=\"evenodd\" fill-opacity=\"1\" stroke=\"#000000\" stroke-opacity=\"1\" stroke-width=\"3.2\"/>\n",
       "<circle clip-path=\"url(#clip562)\" cx=\"392.568\" cy=\"1382.84\" r=\"14.4\" fill=\"#e26f46\" fill-rule=\"evenodd\" fill-opacity=\"1\" stroke=\"#000000\" stroke-opacity=\"1\" stroke-width=\"3.2\"/>\n",
       "<circle clip-path=\"url(#clip562)\" cx=\"392.363\" cy=\"1382.98\" r=\"14.4\" fill=\"#e26f46\" fill-rule=\"evenodd\" fill-opacity=\"1\" stroke=\"#000000\" stroke-opacity=\"1\" stroke-width=\"3.2\"/>\n",
       "<circle clip-path=\"url(#clip562)\" cx=\"392.18\" cy=\"1383.1\" r=\"14.4\" fill=\"#e26f46\" fill-rule=\"evenodd\" fill-opacity=\"1\" stroke=\"#000000\" stroke-opacity=\"1\" stroke-width=\"3.2\"/>\n",
       "<circle clip-path=\"url(#clip562)\" cx=\"392.015\" cy=\"1383.21\" r=\"14.4\" fill=\"#e26f46\" fill-rule=\"evenodd\" fill-opacity=\"1\" stroke=\"#000000\" stroke-opacity=\"1\" stroke-width=\"3.2\"/>\n",
       "<circle clip-path=\"url(#clip562)\" cx=\"391.866\" cy=\"1383.31\" r=\"14.4\" fill=\"#e26f46\" fill-rule=\"evenodd\" fill-opacity=\"1\" stroke=\"#000000\" stroke-opacity=\"1\" stroke-width=\"3.2\"/>\n",
       "<circle clip-path=\"url(#clip562)\" cx=\"391.732\" cy=\"1383.41\" r=\"14.4\" fill=\"#e26f46\" fill-rule=\"evenodd\" fill-opacity=\"1\" stroke=\"#000000\" stroke-opacity=\"1\" stroke-width=\"3.2\"/>\n",
       "<circle clip-path=\"url(#clip562)\" cx=\"391.61\" cy=\"1383.49\" r=\"14.4\" fill=\"#e26f46\" fill-rule=\"evenodd\" fill-opacity=\"1\" stroke=\"#000000\" stroke-opacity=\"1\" stroke-width=\"3.2\"/>\n",
       "<circle clip-path=\"url(#clip562)\" cx=\"391.499\" cy=\"1383.57\" r=\"14.4\" fill=\"#e26f46\" fill-rule=\"evenodd\" fill-opacity=\"1\" stroke=\"#000000\" stroke-opacity=\"1\" stroke-width=\"3.2\"/>\n",
       "<circle clip-path=\"url(#clip562)\" cx=\"391.397\" cy=\"1383.63\" r=\"14.4\" fill=\"#e26f46\" fill-rule=\"evenodd\" fill-opacity=\"1\" stroke=\"#000000\" stroke-opacity=\"1\" stroke-width=\"3.2\"/>\n",
       "<circle clip-path=\"url(#clip562)\" cx=\"391.304\" cy=\"1383.7\" r=\"14.4\" fill=\"#e26f46\" fill-rule=\"evenodd\" fill-opacity=\"1\" stroke=\"#000000\" stroke-opacity=\"1\" stroke-width=\"3.2\"/>\n",
       "<circle clip-path=\"url(#clip562)\" cx=\"391.219\" cy=\"1383.76\" r=\"14.4\" fill=\"#e26f46\" fill-rule=\"evenodd\" fill-opacity=\"1\" stroke=\"#000000\" stroke-opacity=\"1\" stroke-width=\"3.2\"/>\n",
       "<circle clip-path=\"url(#clip562)\" cx=\"391.141\" cy=\"1383.81\" r=\"14.4\" fill=\"#e26f46\" fill-rule=\"evenodd\" fill-opacity=\"1\" stroke=\"#000000\" stroke-opacity=\"1\" stroke-width=\"3.2\"/>\n",
       "<circle clip-path=\"url(#clip562)\" cx=\"391.068\" cy=\"1383.86\" r=\"14.4\" fill=\"#e26f46\" fill-rule=\"evenodd\" fill-opacity=\"1\" stroke=\"#000000\" stroke-opacity=\"1\" stroke-width=\"3.2\"/>\n",
       "<circle clip-path=\"url(#clip562)\" cx=\"391.002\" cy=\"1383.9\" r=\"14.4\" fill=\"#e26f46\" fill-rule=\"evenodd\" fill-opacity=\"1\" stroke=\"#000000\" stroke-opacity=\"1\" stroke-width=\"3.2\"/>\n",
       "<circle clip-path=\"url(#clip562)\" cx=\"390.94\" cy=\"1383.95\" r=\"14.4\" fill=\"#e26f46\" fill-rule=\"evenodd\" fill-opacity=\"1\" stroke=\"#000000\" stroke-opacity=\"1\" stroke-width=\"3.2\"/>\n",
       "<circle clip-path=\"url(#clip562)\" cx=\"390.882\" cy=\"1383.99\" r=\"14.4\" fill=\"#e26f46\" fill-rule=\"evenodd\" fill-opacity=\"1\" stroke=\"#000000\" stroke-opacity=\"1\" stroke-width=\"3.2\"/>\n",
       "<circle clip-path=\"url(#clip562)\" cx=\"390.829\" cy=\"1384.02\" r=\"14.4\" fill=\"#e26f46\" fill-rule=\"evenodd\" fill-opacity=\"1\" stroke=\"#000000\" stroke-opacity=\"1\" stroke-width=\"3.2\"/>\n",
       "<circle clip-path=\"url(#clip562)\" cx=\"390.779\" cy=\"1384.06\" r=\"14.4\" fill=\"#e26f46\" fill-rule=\"evenodd\" fill-opacity=\"1\" stroke=\"#000000\" stroke-opacity=\"1\" stroke-width=\"3.2\"/>\n",
       "<circle clip-path=\"url(#clip562)\" cx=\"390.733\" cy=\"1384.09\" r=\"14.4\" fill=\"#e26f46\" fill-rule=\"evenodd\" fill-opacity=\"1\" stroke=\"#000000\" stroke-opacity=\"1\" stroke-width=\"3.2\"/>\n",
       "<circle clip-path=\"url(#clip562)\" cx=\"390.69\" cy=\"1384.12\" r=\"14.4\" fill=\"#e26f46\" fill-rule=\"evenodd\" fill-opacity=\"1\" stroke=\"#000000\" stroke-opacity=\"1\" stroke-width=\"3.2\"/>\n",
       "<circle clip-path=\"url(#clip562)\" cx=\"390.649\" cy=\"1384.14\" r=\"14.4\" fill=\"#e26f46\" fill-rule=\"evenodd\" fill-opacity=\"1\" stroke=\"#000000\" stroke-opacity=\"1\" stroke-width=\"3.2\"/>\n",
       "<circle clip-path=\"url(#clip562)\" cx=\"390.611\" cy=\"1384.17\" r=\"14.4\" fill=\"#e26f46\" fill-rule=\"evenodd\" fill-opacity=\"1\" stroke=\"#000000\" stroke-opacity=\"1\" stroke-width=\"3.2\"/>\n",
       "<circle clip-path=\"url(#clip562)\" cx=\"390.576\" cy=\"1384.19\" r=\"14.4\" fill=\"#e26f46\" fill-rule=\"evenodd\" fill-opacity=\"1\" stroke=\"#000000\" stroke-opacity=\"1\" stroke-width=\"3.2\"/>\n",
       "<circle clip-path=\"url(#clip562)\" cx=\"390.542\" cy=\"1384.22\" r=\"14.4\" fill=\"#e26f46\" fill-rule=\"evenodd\" fill-opacity=\"1\" stroke=\"#000000\" stroke-opacity=\"1\" stroke-width=\"3.2\"/>\n",
       "<circle clip-path=\"url(#clip562)\" cx=\"390.511\" cy=\"1384.24\" r=\"14.4\" fill=\"#e26f46\" fill-rule=\"evenodd\" fill-opacity=\"1\" stroke=\"#000000\" stroke-opacity=\"1\" stroke-width=\"3.2\"/>\n",
       "</svg>\n"
      ]
     },
     "execution_count": 78,
     "metadata": {},
     "output_type": "execute_result"
    }
   ],
   "source": [
    "plot(1 ./nvals.^2,tvals.-0.25,xlabel=\"1/n²\",ylabel=L\"$\\int_0^1x^3dx$-0.25\",legend=false)\n",
    "scatter!(1 ./nvals.^2,tvals.-0.25)"
   ]
  },
  {
   "cell_type": "markdown",
   "id": "3e6a9c07",
   "metadata": {},
   "source": [
    "Apparently the error scales as $1/n^2$"
   ]
  },
  {
   "cell_type": "markdown",
   "id": "adbd7b00",
   "metadata": {},
   "source": [
    "An even better approach is to use a log-log plot"
   ]
  },
  {
   "cell_type": "code",
   "execution_count": 81,
   "id": "ce0b8b33",
   "metadata": {},
   "outputs": [
    {
     "data": {
      "image/png": "[encoded data removed]",
      "image/svg+xml": [
       "<?xml version=\"1.0\" encoding=\"utf-8\"?>\n",
       "<svg xmlns=\"http://www.w3.org/2000/svg\" xmlns:xlink=\"http://www.w3.org/1999/xlink\" width=\"600\" height=\"400\" viewBox=\"0 0 2400 1600\">\n",
       "<defs>\n",
       "  <clipPath id=\"clip780\">\n",
       "    <rect x=\"0\" y=\"0\" width=\"2400\" height=\"1600\"/>\n",
       "  </clipPath>\n",
       "</defs>\n",
       "<path clip-path=\"url(#clip780)\" d=\"M0 1600 L2400 1600 L2400 8.88178e-14 L0 8.88178e-14  Z\" fill=\"#ffffff\" fill-rule=\"evenodd\" fill-opacity=\"1\"/>\n",
       "<defs>\n",
       "  <clipPath id=\"clip781\">\n",
       "    <rect x=\"480\" y=\"0\" width=\"1681\" height=\"1600\"/>\n",
       "  </clipPath>\n",
       "</defs>\n",
       "<path clip-path=\"url(#clip780)\" d=\"M336.58 1410.9 L2352.76 1410.9 L2352.76 47.2441 L336.58 47.2441  Z\" fill=\"#ffffff\" fill-rule=\"evenodd\" fill-opacity=\"1\"/>\n",
       "<defs>\n",
       "  <clipPath id=\"clip782\">\n",
       "    <rect x=\"336\" y=\"47\" width=\"2017\" height=\"1365\"/>\n",
       "  </clipPath>\n",
       "</defs>\n",
       "<polyline clip-path=\"url(#clip782)\" style=\"stroke:#000000; stroke-linecap:round; stroke-linejoin:round; stroke-width:2; stroke-opacity:0.1; fill:none\" points=\"393.642,1410.9 393.642,47.2441 \"/>\n",
       "<polyline clip-path=\"url(#clip782)\" style=\"stroke:#000000; stroke-linecap:round; stroke-linejoin:round; stroke-width:2; stroke-opacity:0.1; fill:none\" points=\"1513.17,1410.9 1513.17,47.2441 \"/>\n",
       "<polyline clip-path=\"url(#clip780)\" style=\"stroke:#000000; stroke-linecap:round; stroke-linejoin:round; stroke-width:4; stroke-opacity:1; fill:none\" points=\"336.58,1410.9 2352.76,1410.9 \"/>\n",
       "<polyline clip-path=\"url(#clip780)\" style=\"stroke:#000000; stroke-linecap:round; stroke-linejoin:round; stroke-width:4; stroke-opacity:1; fill:none\" points=\"393.642,1410.9 393.642,1392 \"/>\n",
       "<polyline clip-path=\"url(#clip780)\" style=\"stroke:#000000; stroke-linecap:round; stroke-linejoin:round; stroke-width:4; stroke-opacity:1; fill:none\" points=\"1513.17,1410.9 1513.17,1392 \"/>\n",
       "<path clip-path=\"url(#clip780)\" d=\"M358.625 1485.02 L366.263 1485.02 L366.263 1458.66 L357.953 1460.32 L357.953 1456.06 L366.217 1454.4 L370.893 1454.4 L370.893 1485.02 L378.532 1485.02 L378.532 1488.96 L358.625 1488.96 L358.625 1485.02 Z\" fill=\"#000000\" fill-rule=\"nonzero\" fill-opacity=\"1\" /><path clip-path=\"url(#clip780)\" d=\"M397.976 1457.48 Q394.365 1457.48 392.536 1461.04 Q390.731 1464.58 390.731 1471.71 Q390.731 1478.82 392.536 1482.38 Q394.365 1485.92 397.976 1485.92 Q401.61 1485.92 403.416 1482.38 Q405.245 1478.82 405.245 1471.71 Q405.245 1464.58 403.416 1461.04 Q401.61 1457.48 397.976 1457.48 M397.976 1453.77 Q403.786 1453.77 406.842 1458.38 Q409.921 1462.96 409.921 1471.71 Q409.921 1480.44 406.842 1485.04 Q403.786 1489.63 397.976 1489.63 Q392.166 1489.63 389.087 1485.04 Q386.032 1480.44 386.032 1471.71 Q386.032 1462.96 389.087 1458.38 Q392.166 1453.77 397.976 1453.77 Z\" fill=\"#000000\" fill-rule=\"nonzero\" fill-opacity=\"1\" /><path clip-path=\"url(#clip780)\" d=\"M419.625 1435.97 Q416.691 1435.97 415.206 1438.86 Q413.739 1441.74 413.739 1447.53 Q413.739 1453.31 415.206 1456.2 Q416.691 1459.08 419.625 1459.08 Q422.578 1459.08 424.045 1456.2 Q425.531 1453.31 425.531 1447.53 Q425.531 1441.74 424.045 1438.86 Q422.578 1435.97 419.625 1435.97 M419.625 1432.96 Q424.346 1432.96 426.829 1436.7 Q429.33 1440.43 429.33 1447.53 Q429.33 1454.62 426.829 1458.37 Q424.346 1462.09 419.625 1462.09 Q414.905 1462.09 412.403 1458.37 Q409.921 1454.62 409.921 1447.53 Q409.921 1440.43 412.403 1436.7 Q414.905 1432.96 419.625 1432.96 Z\" fill=\"#000000\" fill-rule=\"nonzero\" fill-opacity=\"1\" /><path clip-path=\"url(#clip780)\" d=\"M1479.5 1485.02 L1487.14 1485.02 L1487.14 1458.66 L1478.83 1460.32 L1478.83 1456.06 L1487.09 1454.4 L1491.77 1454.4 L1491.77 1485.02 L1499.41 1485.02 L1499.41 1488.96 L1479.5 1488.96 L1479.5 1485.02 Z\" fill=\"#000000\" fill-rule=\"nonzero\" fill-opacity=\"1\" /><path clip-path=\"url(#clip780)\" d=\"M1518.85 1457.48 Q1515.24 1457.48 1513.41 1461.04 Q1511.61 1464.58 1511.61 1471.71 Q1511.61 1478.82 1513.41 1482.38 Q1515.24 1485.92 1518.85 1485.92 Q1522.49 1485.92 1524.29 1482.38 Q1526.12 1478.82 1526.12 1471.71 Q1526.12 1464.58 1524.29 1461.04 Q1522.49 1457.48 1518.85 1457.48 M1518.85 1453.77 Q1524.66 1453.77 1527.72 1458.38 Q1530.8 1462.96 1530.8 1471.71 Q1530.8 1480.44 1527.72 1485.04 Q1524.66 1489.63 1518.85 1489.63 Q1513.04 1489.63 1509.96 1485.04 Q1506.91 1480.44 1506.91 1471.71 Q1506.91 1462.96 1509.96 1458.38 Q1513.04 1453.77 1518.85 1453.77 Z\" fill=\"#000000\" fill-rule=\"nonzero\" fill-opacity=\"1\" /><path clip-path=\"url(#clip780)\" d=\"M1531.34 1458.35 L1537.55 1458.35 L1537.55 1436.93 L1530.8 1438.28 L1530.8 1434.82 L1537.51 1433.47 L1541.31 1433.47 L1541.31 1458.35 L1547.52 1458.35 L1547.52 1461.55 L1531.34 1461.55 L1531.34 1458.35 Z\" fill=\"#000000\" fill-rule=\"nonzero\" fill-opacity=\"1\" /><path clip-path=\"url(#clip780)\" d=\"M1359.6 1552.67 L1359.6 1574.19 L1353.74 1574.19 L1353.74 1552.86 Q1353.74 1547.8 1351.77 1545.29 Q1349.79 1542.77 1345.85 1542.77 Q1341.1 1542.77 1338.37 1545.79 Q1335.63 1548.82 1335.63 1554.04 L1335.63 1574.19 L1329.74 1574.19 L1329.74 1538.54 L1335.63 1538.54 L1335.63 1544.08 Q1337.73 1540.86 1340.56 1539.27 Q1343.43 1537.68 1347.15 1537.68 Q1353.29 1537.68 1356.44 1541.5 Q1359.6 1545.29 1359.6 1552.67 Z\" fill=\"#000000\" fill-rule=\"nonzero\" fill-opacity=\"1\" /><polyline clip-path=\"url(#clip782)\" style=\"stroke:#000000; stroke-linecap:round; stroke-linejoin:round; stroke-width:2; stroke-opacity:0.1; fill:none\" points=\"336.58,1372.3 2352.76,1372.3 \"/>\n",
       "<polyline clip-path=\"url(#clip782)\" style=\"stroke:#000000; stroke-linecap:round; stroke-linejoin:round; stroke-width:2; stroke-opacity:0.1; fill:none\" points=\"336.58,615.1 2352.76,615.1 \"/>\n",
       "<polyline clip-path=\"url(#clip780)\" style=\"stroke:#000000; stroke-linecap:round; stroke-linejoin:round; stroke-width:4; stroke-opacity:1; fill:none\" points=\"336.58,1410.9 336.58,47.2441 \"/>\n",
       "<polyline clip-path=\"url(#clip780)\" style=\"stroke:#000000; stroke-linecap:round; stroke-linejoin:round; stroke-width:4; stroke-opacity:1; fill:none\" points=\"336.58,1372.3 355.478,1372.3 \"/>\n",
       "<polyline clip-path=\"url(#clip780)\" style=\"stroke:#000000; stroke-linecap:round; stroke-linejoin:round; stroke-width:4; stroke-opacity:1; fill:none\" points=\"336.58,615.1 355.478,615.1 \"/>\n",
       "<path clip-path=\"url(#clip780)\" d=\"M198.748 1392.1 L206.386 1392.1 L206.386 1365.73 L198.076 1367.4 L198.076 1363.14 L206.34 1361.47 L211.016 1361.47 L211.016 1392.1 L218.655 1392.1 L218.655 1396.03 L198.748 1396.03 L198.748 1392.1 Z\" fill=\"#000000\" fill-rule=\"nonzero\" fill-opacity=\"1\" /><path clip-path=\"url(#clip780)\" d=\"M238.099 1364.55 Q234.488 1364.55 232.66 1368.11 Q230.854 1371.66 230.854 1378.79 Q230.854 1385.89 232.66 1389.46 Q234.488 1393 238.099 1393 Q241.734 1393 243.539 1389.46 Q245.368 1385.89 245.368 1378.79 Q245.368 1371.66 243.539 1368.11 Q241.734 1364.55 238.099 1364.55 M238.099 1360.85 Q243.909 1360.85 246.965 1365.45 Q250.044 1370.04 250.044 1378.79 Q250.044 1387.51 246.965 1392.12 Q243.909 1396.7 238.099 1396.7 Q232.289 1396.7 229.21 1392.12 Q226.155 1387.51 226.155 1378.79 Q226.155 1370.04 229.21 1365.45 Q232.289 1360.85 238.099 1360.85 Z\" fill=\"#000000\" fill-rule=\"nonzero\" fill-opacity=\"1\" /><path clip-path=\"url(#clip780)\" d=\"M250.044 1354.95 L274.155 1354.95 L274.155 1358.14 L250.044 1358.14 L250.044 1354.95 Z\" fill=\"#000000\" fill-rule=\"nonzero\" fill-opacity=\"1\" /><path clip-path=\"url(#clip780)\" d=\"M292.794 1343.85 L283.202 1358.84 L292.794 1358.84 L292.794 1343.85 M291.797 1340.54 L296.574 1340.54 L296.574 1358.84 L300.58 1358.84 L300.58 1362 L296.574 1362 L296.574 1368.62 L292.794 1368.62 L292.794 1362 L280.117 1362 L280.117 1358.33 L291.797 1340.54 Z\" fill=\"#000000\" fill-rule=\"nonzero\" fill-opacity=\"1\" /><path clip-path=\"url(#clip780)\" d=\"M200.44 634.892 L208.079 634.892 L208.079 608.527 L199.769 610.194 L199.769 605.934 L208.033 604.268 L212.709 604.268 L212.709 634.892 L220.348 634.892 L220.348 638.828 L200.44 638.828 L200.44 634.892 Z\" fill=\"#000000\" fill-rule=\"nonzero\" fill-opacity=\"1\" /><path clip-path=\"url(#clip780)\" d=\"M239.792 607.346 Q236.181 607.346 234.352 610.911 Q232.547 614.453 232.547 621.582 Q232.547 628.689 234.352 632.254 Q236.181 635.795 239.792 635.795 Q243.426 635.795 245.232 632.254 Q247.06 628.689 247.06 621.582 Q247.06 614.453 245.232 610.911 Q243.426 607.346 239.792 607.346 M239.792 603.643 Q245.602 603.643 248.658 608.249 Q251.736 612.832 251.736 621.582 Q251.736 630.309 248.658 634.916 Q245.602 639.499 239.792 639.499 Q233.982 639.499 230.903 634.916 Q227.848 630.309 227.848 621.582 Q227.848 612.832 230.903 608.249 Q233.982 603.643 239.792 603.643 Z\" fill=\"#000000\" fill-rule=\"nonzero\" fill-opacity=\"1\" /><path clip-path=\"url(#clip780)\" d=\"M251.736 597.744 L275.848 597.744 L275.848 600.941 L251.736 600.941 L251.736 597.744 Z\" fill=\"#000000\" fill-rule=\"nonzero\" fill-opacity=\"1\" /><path clip-path=\"url(#clip780)\" d=\"M287.321 608.22 L300.58 608.22 L300.58 611.417 L282.75 611.417 L282.75 608.22 Q284.913 605.982 288.637 602.22 Q292.38 598.44 293.339 597.349 Q295.164 595.299 295.878 593.888 Q296.612 592.459 296.612 591.086 Q296.612 588.848 295.032 587.437 Q293.471 586.027 290.951 586.027 Q289.164 586.027 287.17 586.647 Q285.195 587.268 282.938 588.528 L282.938 584.691 Q285.233 583.77 287.227 583.3 Q289.22 582.829 290.875 582.829 Q295.239 582.829 297.834 585.011 Q300.43 587.193 300.43 590.842 Q300.43 592.572 299.771 594.133 Q299.132 595.675 297.42 597.782 Q296.95 598.327 294.43 600.941 Q291.91 603.537 287.321 608.22 Z\" fill=\"#000000\" fill-rule=\"nonzero\" fill-opacity=\"1\" /><path clip-path=\"url(#clip780)\" d=\"M44.2885 859.614 Q46.0196 859.614 46.9455 860.661 Q47.8312 861.707 47.8312 863.076 Q47.8312 864.405 46.9455 865.451 Q46.0196 866.458 44.3691 866.458 Q43.2419 866.458 42.2354 865.733 Q41.1887 865.008 40.9874 863.398 Q39.2564 865.411 39.2564 868.591 Q39.2564 870.161 39.8602 871.248 Q40.4238 872.295 42.1549 873.342 Q43.886 874.388 47.4286 875.113 Q50.9713 875.797 56.4865 876.24 L77.0177 877.81 Q83.9823 878.293 97.6698 880.024 Q111.317 881.715 114.457 882.52 Q117.436 883.245 119.892 884.332 Q122.347 885.419 124.481 887.029 Q126.655 888.639 127.863 890.974 Q129.07 893.309 129.07 896.127 Q129.07 899.871 127.098 902.528 Q125.166 905.185 122.227 905.185 Q120.496 905.185 119.57 904.139 Q118.684 903.092 118.684 901.723 Q118.684 900.395 119.57 899.388 Q120.496 898.341 122.146 898.341 Q123.273 898.341 124.28 899.066 Q125.327 899.791 125.528 901.401 Q127.259 899.388 127.259 896.127 Q127.259 893.631 125.81 891.981 Q124.36 890.33 120.496 889.123 Q116.631 887.915 110.029 887.391 L89.4975 885.821 Q82.2512 885.298 68.765 883.607 Q55.2788 881.876 51.7361 881.111 Q37.4448 877.891 37.4448 868.672 Q37.4448 864.928 39.4174 862.271 Q41.3498 859.614 44.2885 859.614 Z\" fill=\"#000000\" fill-rule=\"nonzero\" fill-opacity=\"1\" /><path clip-path=\"url(#clip780)\" d=\"M166.004 896.812 Q159.218 896.812 155.521 895.099 Q150.02 892.709 150.02 887.073 Q150.02 885.878 150.359 884.638 Q150.674 883.376 151.914 881.798 Q153.154 880.197 155.183 879.228 Q159.106 877.379 166.004 877.379 Q172.745 877.379 176.42 879.092 Q181.785 881.595 181.785 887.118 Q181.785 889.192 180.725 891.311 Q179.666 893.408 177.118 894.738 Q173.308 896.812 166.004 896.812 M165.441 892.98 Q172.407 892.98 175.18 892.484 Q178.178 891.92 179.486 890.387 Q180.771 888.831 180.771 887.118 Q180.771 885.27 179.395 883.737 Q177.998 882.181 174.999 881.708 Q172.046 881.189 165.441 881.212 Q159.015 881.212 156.445 881.662 Q153.447 882.271 152.252 883.894 Q151.035 885.495 151.035 887.118 Q151.035 887.727 151.215 888.381 Q151.396 889.012 151.914 889.936 Q152.433 890.86 153.718 891.582 Q155.003 892.281 156.941 892.619 Q159.444 892.98 165.441 892.98 Z\" fill=\"#000000\" fill-rule=\"nonzero\" fill-opacity=\"1\" /><path clip-path=\"url(#clip780)\" d=\"M-11.1206 894.739 L-12.5635 894.739 Q-12.5635 889.194 -15.5167 886.33 Q-15.5167 885.541 -15.3364 885.406 Q-15.156 885.271 -14.3219 885.271 L11.5813 885.271 Q12.9565 885.271 13.3848 884.595 Q13.8131 883.918 13.8131 880.965 L13.8131 879.5 L15.2334 879.5 Q15.0982 881.123 15.0982 886.984 Q15.0982 892.846 15.2334 894.446 L13.8131 894.446 L13.8131 892.981 Q13.8131 890.073 13.4074 889.374 Q12.979 888.675 11.5813 888.675 L-12.338 888.675 Q-11.1206 891.087 -11.1206 894.739 Z\" fill=\"#000000\" fill-rule=\"nonzero\" fill-opacity=\"1\" /><path clip-path=\"url(#clip780)\" d=\"M79.0306 813.13 Q80.8341 813.13 81.8647 814.257 Q82.8631 815.385 82.8631 816.673 Q82.8631 817.897 82.1546 818.541 Q81.4461 819.185 80.5443 819.185 Q79.3205 819.185 78.2577 818.283 Q77.1949 817.381 76.9694 816.029 Q76.1321 817.349 76.1321 819.314 Q76.1321 820.602 76.8084 821.729 Q77.4847 822.824 78.3543 823.501 Q79.2239 824.145 80.4799 824.724 Q81.7037 825.272 82.4444 825.497 Q83.153 825.691 83.9259 825.852 L92.9435 828.106 Q97.2269 829.201 98.7406 829.201 Q100.609 829.201 101.865 828.299 Q103.088 827.397 103.088 825.594 Q103.088 824.885 102.895 824.08 Q102.67 823.275 102.09 822.244 Q101.478 821.182 100.576 820.248 Q99.6424 819.282 98.0643 818.348 Q96.4862 817.414 94.4572 816.802 Q93.7487 816.608 93.7487 815.964 Q93.7487 815.159 94.3928 815.159 Q94.9403 815.159 96.0997 815.61 Q97.2269 816.029 98.7084 816.963 Q100.158 817.864 101.478 819.056 Q102.766 820.248 103.668 822.019 Q104.57 823.79 104.57 825.723 Q104.57 828.492 103.088 830.328 Q101.607 832.164 99.5457 832.84 Q99.8356 833.001 100.222 833.227 Q100.609 833.452 101.478 834.128 Q102.315 834.773 102.96 835.513 Q103.571 836.254 104.055 837.413 Q104.57 838.541 104.57 839.764 Q104.57 841.31 104.119 842.695 Q103.668 844.048 102.638 845.014 Q101.607 845.98 100.19 845.98 Q98.6118 845.98 97.5168 844.917 Q96.3896 843.822 96.3896 842.341 Q96.3896 841.407 96.9371 840.666 Q97.4846 839.893 98.6762 839.893 Q99.9966 839.893 100.995 840.795 Q101.993 841.697 102.251 842.985 Q103.088 841.665 103.088 839.7 Q103.088 837.574 101.22 835.9 Q99.3525 834.225 96.2285 833.42 Q88.7246 831.423 85.3752 830.65 Q81.9936 829.877 80.5443 829.877 Q79.1916 829.877 78.2577 830.232 Q77.3237 830.586 76.905 831.198 Q76.4541 831.777 76.2931 832.325 Q76.1321 832.84 76.1321 833.42 Q76.1321 834.386 76.5186 835.481 Q76.905 836.544 77.8068 837.832 Q78.6764 839.088 80.4799 840.28 Q82.2834 841.471 84.7633 842.277 Q85.504 842.438 85.504 843.146 Q85.4718 843.919 84.8277 843.919 Q84.2802 843.919 83.153 843.5 Q81.9936 843.049 80.5443 842.148 Q79.095 841.214 77.8068 840.022 Q76.4864 838.798 75.5846 837.027 Q74.6828 835.223 74.6828 833.291 Q74.6828 832.422 74.8761 831.584 Q75.0371 830.715 75.5202 829.684 Q76.0033 828.621 77.0661 827.687 Q78.1289 826.753 79.6747 826.174 Q78.934 825.787 78.2255 825.272 Q77.5169 824.724 76.6474 823.887 Q75.7456 823.017 75.2303 821.826 Q74.6828 820.602 74.6828 819.249 Q74.6828 817.929 75.0371 816.641 Q75.3591 815.352 76.4219 814.257 Q77.4525 813.13 79.0306 813.13 Z\" fill=\"#000000\" fill-rule=\"nonzero\" fill-opacity=\"1\" /><path clip-path=\"url(#clip780)\" d=\"M76.864 806.409 Q75.4888 806.409 74.835 805.62 Q74.1812 804.831 74.1812 803.816 Q74.1812 802.757 74.8801 802.013 Q75.5564 801.246 76.7513 801.246 Q78.0363 801.246 78.7577 802.148 Q79.4791 803.027 79.2988 804.29 Q81.1474 803.185 81.9815 801.156 Q82.8156 799.105 82.8156 797.211 Q82.8156 795.227 81.1023 793.626 Q79.3889 792.003 75.1957 792.003 Q71.6338 792.003 69.5822 793.401 Q67.5307 794.776 67.5307 797.504 L67.5307 799.533 Q67.5307 800.232 67.4631 800.435 Q67.3955 800.638 67.0122 800.638 Q66.5613 800.638 66.4712 799.939 Q66.4712 799.24 66.3359 798.135 Q66.2457 795.453 63.9237 794.032 Q61.7594 792.747 58.6709 792.747 Q55.8529 792.747 54.6806 794.1 Q53.4858 795.43 53.4858 797.166 Q53.4858 798.789 54.1621 800.57 Q54.8384 802.351 56.3489 803.32 Q56.3489 800.457 58.6709 800.457 Q59.6854 800.457 60.3617 801.111 Q61.0155 801.742 61.0155 802.802 Q61.0155 803.816 60.3842 804.493 Q59.7305 805.169 58.6258 805.169 Q55.9881 805.169 54.1621 802.824 Q52.336 800.457 52.336 796.986 Q52.336 793.559 54.1395 791.034 Q55.9431 788.486 58.716 788.486 Q61.4438 788.486 63.6757 790.29 Q65.9076 792.093 66.8319 794.957 Q67.5307 791.44 69.9204 789.343 Q72.2875 787.246 75.1957 787.246 Q78.8028 787.246 81.463 790.087 Q84.1006 792.928 84.1006 797.076 Q84.1006 800.908 82.0266 803.659 Q79.9525 806.409 76.864 806.409 Z\" fill=\"#000000\" fill-rule=\"nonzero\" fill-opacity=\"1\" /><path clip-path=\"url(#clip780)\" d=\"M58.7731 748.992 L96.9049 758.492 Q98.6118 758.879 100.061 758.879 Q103.088 758.879 103.088 756.914 Q103.088 755.948 102.476 755.175 Q101.865 754.402 100.576 753.79 Q99.2881 753.178 98.0965 752.792 Q96.8727 752.405 94.9403 751.89 Q94.1674 751.729 93.9741 751.6 Q93.7487 751.439 93.7487 750.988 Q93.7487 750.183 94.3928 750.183 Q98.5474 751.053 100.931 752.18 Q104.57 753.984 104.57 757.043 Q104.57 759.362 103.153 761.004 Q101.736 762.647 99.6102 763.033 Q104.57 767.252 104.57 771.632 Q104.57 775.497 101.639 777.945 Q98.6762 780.392 94.0063 780.392 Q89.3043 780.392 84.7955 778.074 Q80.2866 775.723 77.4847 772.019 Q74.6828 768.315 74.6828 764.515 Q74.6828 760.489 78.9018 758.428 L63.2497 754.467 L61.9615 754.273 Q61.575 754.273 61.3818 754.434 Q61.1564 754.563 60.9953 755.336 Q60.8343 756.077 60.8343 757.558 Q60.8343 758.17 60.8021 758.46 Q60.7699 758.718 60.6089 758.943 Q60.4156 759.169 60.0292 759.169 Q58.902 759.169 58.7731 758.235 Q58.0646 752.051 58.0646 749.861 Q58.0646 749.475 58.2578 749.249 Q58.4189 749.024 58.6121 749.024 L58.7731 748.992 M81.9291 759.233 Q81.6393 759.233 80.8341 759.459 Q80.029 759.684 78.9018 760.199 Q77.7746 760.715 76.9694 761.842 Q76.1321 762.937 76.1321 764.418 Q76.1321 766.415 77.839 768.508 Q79.5459 770.57 82.4444 772.083 Q84.7633 773.243 89.6263 774.499 Q94.4894 775.723 96.9049 775.723 Q98.3863 775.723 99.7068 775.4 Q100.995 775.046 102.058 774.048 Q103.088 773.049 103.088 771.504 Q103.088 767.735 98.4185 764.032 Q97.6134 763.323 97.2913 763.162 Q96.9371 762.969 95.9709 762.711 L83.0563 759.426 Q82.0902 759.233 81.9291 759.233 Z\" fill=\"#000000\" fill-rule=\"nonzero\" fill-opacity=\"1\" /><path clip-path=\"url(#clip780)\" d=\"M79.0306 714.658 Q80.8341 714.658 81.8647 715.786 Q82.8631 716.913 82.8631 718.201 Q82.8631 719.425 82.1546 720.069 Q81.4461 720.713 80.5443 720.713 Q79.3205 720.713 78.2577 719.811 Q77.1949 718.91 76.9694 717.557 Q76.1321 718.877 76.1321 720.842 Q76.1321 722.13 76.8084 723.257 Q77.4847 724.352 78.3543 725.029 Q79.2239 725.673 80.4799 726.253 Q81.7037 726.8 82.4444 727.025 Q83.153 727.219 83.9259 727.38 L92.9435 729.634 Q97.2269 730.729 98.7406 730.729 Q100.609 730.729 101.865 729.827 Q103.088 728.926 103.088 727.122 Q103.088 726.414 102.895 725.608 Q102.67 724.803 102.09 723.773 Q101.478 722.71 100.576 721.776 Q99.6424 720.81 98.0643 719.876 Q96.4862 718.942 94.4572 718.33 Q93.7487 718.137 93.7487 717.493 Q93.7487 716.687 94.3928 716.687 Q94.9403 716.687 96.0997 717.138 Q97.2269 717.557 98.7084 718.491 Q100.158 719.393 101.478 720.584 Q102.766 721.776 103.668 723.547 Q104.57 725.319 104.57 727.251 Q104.57 730.021 103.088 731.856 Q101.607 733.692 99.5457 734.368 Q99.8356 734.529 100.222 734.755 Q100.609 734.98 101.478 735.657 Q102.315 736.301 102.96 737.041 Q103.571 737.782 104.055 738.942 Q104.57 740.069 104.57 741.293 Q104.57 742.839 104.119 744.223 Q103.668 745.576 102.638 746.542 Q101.607 747.508 100.19 747.508 Q98.6118 747.508 97.5168 746.446 Q96.3896 745.351 96.3896 743.869 Q96.3896 742.935 96.9371 742.194 Q97.4846 741.421 98.6762 741.421 Q99.9966 741.421 100.995 742.323 Q101.993 743.225 102.251 744.513 Q103.088 743.193 103.088 741.228 Q103.088 739.103 101.22 737.428 Q99.3525 735.753 96.2285 734.948 Q88.7246 732.951 85.3752 732.178 Q81.9936 731.405 80.5443 731.405 Q79.1916 731.405 78.2577 731.76 Q77.3237 732.114 76.905 732.726 Q76.4541 733.306 76.2931 733.853 Q76.1321 734.368 76.1321 734.948 Q76.1321 735.914 76.5186 737.009 Q76.905 738.072 77.8068 739.36 Q78.6764 740.616 80.4799 741.808 Q82.2834 743 84.7633 743.805 Q85.504 743.966 85.504 744.674 Q85.4718 745.447 84.8277 745.447 Q84.2802 745.447 83.153 745.029 Q81.9936 744.578 80.5443 743.676 Q79.095 742.742 77.8068 741.55 Q76.4864 740.326 75.5846 738.555 Q74.6828 736.752 74.6828 734.819 Q74.6828 733.95 74.8761 733.112 Q75.0371 732.243 75.5202 731.212 Q76.0033 730.149 77.0661 729.215 Q78.1289 728.281 79.6747 727.702 Q78.934 727.315 78.2255 726.8 Q77.5169 726.253 76.6474 725.415 Q75.7456 724.546 75.2303 723.354 Q74.6828 722.13 74.6828 720.778 Q74.6828 719.457 75.0371 718.169 Q75.3591 716.881 76.4219 715.786 Q77.4525 714.658 79.0306 714.658 Z\" fill=\"#000000\" fill-rule=\"nonzero\" fill-opacity=\"1\" /><path clip-path=\"url(#clip780)\" d=\"M83.3634 710.155 L83.3634 693 L88.5833 693 L88.5833 710.155 L83.3634 710.155 Z\" fill=\"#000000\" fill-rule=\"nonzero\" fill-opacity=\"1\" /><path clip-path=\"url(#clip780)\" d=\"M60.5423 669.096 Q60.5423 674.062 65.4439 676.576 Q70.3137 679.059 80.1169 679.059 Q89.8882 679.059 94.7898 676.576 Q99.6596 674.062 99.6596 669.096 Q99.6596 664.099 94.7898 661.617 Q89.8882 659.102 80.1169 659.102 Q70.3137 659.102 65.4439 661.617 Q60.5423 664.099 60.5423 669.096 M55.4498 669.096 Q55.4498 661.107 61.7836 656.906 Q68.0857 652.673 80.1169 652.673 Q92.1162 652.673 98.4501 656.906 Q104.752 661.107 104.752 669.096 Q104.752 677.085 98.4501 681.319 Q92.1162 685.52 80.1169 685.52 Q68.0857 685.52 61.7836 681.319 Q55.4498 677.085 55.4498 669.096 Z\" fill=\"#000000\" fill-rule=\"nonzero\" fill-opacity=\"1\" /><path clip-path=\"url(#clip780)\" d=\"M95.7447 641.374 L95.7447 634.658 L103.829 634.658 L103.829 641.374 L95.7447 641.374 Z\" fill=\"#000000\" fill-rule=\"nonzero\" fill-opacity=\"1\" /><path clip-path=\"url(#clip780)\" d=\"M98.4183 615.115 L98.4183 592.676 L103.829 592.676 L103.829 622.85 L98.4183 622.85 Q94.6307 619.189 88.265 612.887 Q81.8674 606.553 80.0214 604.93 Q76.5521 601.843 74.1649 600.633 Q71.746 599.392 69.4225 599.392 Q65.6349 599.392 63.2477 602.066 Q60.8606 604.707 60.8606 608.972 Q60.8606 611.996 61.911 615.37 Q62.9613 618.712 65.0938 622.531 L58.6008 622.531 Q57.0412 618.648 56.2455 615.274 Q55.4498 611.901 55.4498 609.1 Q55.4498 601.715 59.1419 597.323 Q62.834 592.931 69.0087 592.931 Q71.9369 592.931 74.5787 594.045 Q77.1886 595.127 80.7534 598.023 Q81.6765 598.819 86.1006 603.084 Q90.493 607.349 98.4183 615.115 Z\" fill=\"#000000\" fill-rule=\"nonzero\" fill-opacity=\"1\" /><path clip-path=\"url(#clip780)\" d=\"M56.3091 579.117 L56.3091 553.877 L61.72 553.877 L61.72 573.229 L73.3692 573.229 Q72.8918 571.828 72.669 570.428 Q72.4144 569.028 72.4144 567.627 Q72.4144 559.67 76.7749 555.023 Q81.1354 550.376 88.5833 550.376 Q96.2539 550.376 100.519 555.15 Q104.752 559.925 104.752 568.614 Q104.752 571.606 104.243 574.725 Q103.734 577.812 102.715 581.122 L96.2539 581.122 Q97.8135 578.258 98.5774 575.202 Q99.3413 572.147 99.3413 568.741 Q99.3413 563.235 96.4449 560.02 Q93.5485 556.805 88.5833 556.805 Q83.618 556.805 80.7216 560.02 Q77.8252 563.235 77.8252 568.741 Q77.8252 571.319 78.3981 573.897 Q78.971 576.444 80.1805 579.117 L56.3091 579.117 Z\" fill=\"#000000\" fill-rule=\"nonzero\" fill-opacity=\"1\" /><circle clip-path=\"url(#clip782)\" cx=\"393.642\" cy=\"85.838\" r=\"14.4\" fill=\"#009af9\" fill-rule=\"evenodd\" fill-opacity=\"1\" stroke=\"#000000\" stroke-opacity=\"1\" stroke-width=\"3.2\"/>\n",
       "<circle clip-path=\"url(#clip782)\" cx=\"730.655\" cy=\"313.779\" r=\"14.4\" fill=\"#009af9\" fill-rule=\"evenodd\" fill-opacity=\"1\" stroke=\"#000000\" stroke-opacity=\"1\" stroke-width=\"3.2\"/>\n",
       "<circle clip-path=\"url(#clip782)\" cx=\"927.795\" cy=\"447.116\" r=\"14.4\" fill=\"#009af9\" fill-rule=\"evenodd\" fill-opacity=\"1\" stroke=\"#000000\" stroke-opacity=\"1\" stroke-width=\"3.2\"/>\n",
       "<circle clip-path=\"url(#clip782)\" cx=\"1067.67\" cy=\"541.719\" r=\"14.4\" fill=\"#009af9\" fill-rule=\"evenodd\" fill-opacity=\"1\" stroke=\"#000000\" stroke-opacity=\"1\" stroke-width=\"3.2\"/>\n",
       "<circle clip-path=\"url(#clip782)\" cx=\"1176.16\" cy=\"615.1\" r=\"14.4\" fill=\"#009af9\" fill-rule=\"evenodd\" fill-opacity=\"1\" stroke=\"#000000\" stroke-opacity=\"1\" stroke-width=\"3.2\"/>\n",
       "<circle clip-path=\"url(#clip782)\" cx=\"1264.81\" cy=\"675.056\" r=\"14.4\" fill=\"#009af9\" fill-rule=\"evenodd\" fill-opacity=\"1\" stroke=\"#000000\" stroke-opacity=\"1\" stroke-width=\"3.2\"/>\n",
       "<circle clip-path=\"url(#clip782)\" cx=\"1339.76\" cy=\"725.749\" r=\"14.4\" fill=\"#009af9\" fill-rule=\"evenodd\" fill-opacity=\"1\" stroke=\"#000000\" stroke-opacity=\"1\" stroke-width=\"3.2\"/>\n",
       "<circle clip-path=\"url(#clip782)\" cx=\"1404.68\" cy=\"769.66\" r=\"14.4\" fill=\"#009af9\" fill-rule=\"evenodd\" fill-opacity=\"1\" stroke=\"#000000\" stroke-opacity=\"1\" stroke-width=\"3.2\"/>\n",
       "<circle clip-path=\"url(#clip782)\" cx=\"1461.95\" cy=\"808.393\" r=\"14.4\" fill=\"#009af9\" fill-rule=\"evenodd\" fill-opacity=\"1\" stroke=\"#000000\" stroke-opacity=\"1\" stroke-width=\"3.2\"/>\n",
       "<circle clip-path=\"url(#clip782)\" cx=\"1513.17\" cy=\"843.041\" r=\"14.4\" fill=\"#009af9\" fill-rule=\"evenodd\" fill-opacity=\"1\" stroke=\"#000000\" stroke-opacity=\"1\" stroke-width=\"3.2\"/>\n",
       "<circle clip-path=\"url(#clip782)\" cx=\"1559.51\" cy=\"874.383\" r=\"14.4\" fill=\"#009af9\" fill-rule=\"evenodd\" fill-opacity=\"1\" stroke=\"#000000\" stroke-opacity=\"1\" stroke-width=\"3.2\"/>\n",
       "<circle clip-path=\"url(#clip782)\" cx=\"1601.82\" cy=\"902.997\" r=\"14.4\" fill=\"#009af9\" fill-rule=\"evenodd\" fill-opacity=\"1\" stroke=\"#000000\" stroke-opacity=\"1\" stroke-width=\"3.2\"/>\n",
       "<circle clip-path=\"url(#clip782)\" cx=\"1640.74\" cy=\"929.319\" r=\"14.4\" fill=\"#009af9\" fill-rule=\"evenodd\" fill-opacity=\"1\" stroke=\"#000000\" stroke-opacity=\"1\" stroke-width=\"3.2\"/>\n",
       "<circle clip-path=\"url(#clip782)\" cx=\"1676.77\" cy=\"953.689\" r=\"14.4\" fill=\"#009af9\" fill-rule=\"evenodd\" fill-opacity=\"1\" stroke=\"#000000\" stroke-opacity=\"1\" stroke-width=\"3.2\"/>\n",
       "<circle clip-path=\"url(#clip782)\" cx=\"1710.31\" cy=\"976.378\" r=\"14.4\" fill=\"#009af9\" fill-rule=\"evenodd\" fill-opacity=\"1\" stroke=\"#000000\" stroke-opacity=\"1\" stroke-width=\"3.2\"/>\n",
       "<circle clip-path=\"url(#clip782)\" cx=\"1741.69\" cy=\"997.601\" r=\"14.4\" fill=\"#009af9\" fill-rule=\"evenodd\" fill-opacity=\"1\" stroke=\"#000000\" stroke-opacity=\"1\" stroke-width=\"3.2\"/>\n",
       "<circle clip-path=\"url(#clip782)\" cx=\"1771.17\" cy=\"1017.54\" r=\"14.4\" fill=\"#009af9\" fill-rule=\"evenodd\" fill-opacity=\"1\" stroke=\"#000000\" stroke-opacity=\"1\" stroke-width=\"3.2\"/>\n",
       "<circle clip-path=\"url(#clip782)\" cx=\"1798.96\" cy=\"1036.33\" r=\"14.4\" fill=\"#009af9\" fill-rule=\"evenodd\" fill-opacity=\"1\" stroke=\"#000000\" stroke-opacity=\"1\" stroke-width=\"3.2\"/>\n",
       "<circle clip-path=\"url(#clip782)\" cx=\"1825.25\" cy=\"1054.11\" r=\"14.4\" fill=\"#009af9\" fill-rule=\"evenodd\" fill-opacity=\"1\" stroke=\"#000000\" stroke-opacity=\"1\" stroke-width=\"3.2\"/>\n",
       "<circle clip-path=\"url(#clip782)\" cx=\"1850.19\" cy=\"1070.98\" r=\"14.4\" fill=\"#009af9\" fill-rule=\"evenodd\" fill-opacity=\"1\" stroke=\"#000000\" stroke-opacity=\"1\" stroke-width=\"3.2\"/>\n",
       "<circle clip-path=\"url(#clip782)\" cx=\"1873.91\" cy=\"1087.03\" r=\"14.4\" fill=\"#009af9\" fill-rule=\"evenodd\" fill-opacity=\"1\" stroke=\"#000000\" stroke-opacity=\"1\" stroke-width=\"3.2\"/>\n",
       "<circle clip-path=\"url(#clip782)\" cx=\"1896.53\" cy=\"1102.32\" r=\"14.4\" fill=\"#009af9\" fill-rule=\"evenodd\" fill-opacity=\"1\" stroke=\"#000000\" stroke-opacity=\"1\" stroke-width=\"3.2\"/>\n",
       "<circle clip-path=\"url(#clip782)\" cx=\"1918.14\" cy=\"1116.94\" r=\"14.4\" fill=\"#009af9\" fill-rule=\"evenodd\" fill-opacity=\"1\" stroke=\"#000000\" stroke-opacity=\"1\" stroke-width=\"3.2\"/>\n",
       "<circle clip-path=\"url(#clip782)\" cx=\"1938.83\" cy=\"1130.94\" r=\"14.4\" fill=\"#009af9\" fill-rule=\"evenodd\" fill-opacity=\"1\" stroke=\"#000000\" stroke-opacity=\"1\" stroke-width=\"3.2\"/>\n",
       "<circle clip-path=\"url(#clip782)\" cx=\"1958.68\" cy=\"1144.36\" r=\"14.4\" fill=\"#009af9\" fill-rule=\"evenodd\" fill-opacity=\"1\" stroke=\"#000000\" stroke-opacity=\"1\" stroke-width=\"3.2\"/>\n",
       "<circle clip-path=\"url(#clip782)\" cx=\"1977.75\" cy=\"1157.26\" r=\"14.4\" fill=\"#009af9\" fill-rule=\"evenodd\" fill-opacity=\"1\" stroke=\"#000000\" stroke-opacity=\"1\" stroke-width=\"3.2\"/>\n",
       "<circle clip-path=\"url(#clip782)\" cx=\"1996.1\" cy=\"1169.67\" r=\"14.4\" fill=\"#009af9\" fill-rule=\"evenodd\" fill-opacity=\"1\" stroke=\"#000000\" stroke-opacity=\"1\" stroke-width=\"3.2\"/>\n",
       "<circle clip-path=\"url(#clip782)\" cx=\"2013.78\" cy=\"1181.63\" r=\"14.4\" fill=\"#009af9\" fill-rule=\"evenodd\" fill-opacity=\"1\" stroke=\"#000000\" stroke-opacity=\"1\" stroke-width=\"3.2\"/>\n",
       "<circle clip-path=\"url(#clip782)\" cx=\"2030.84\" cy=\"1193.17\" r=\"14.4\" fill=\"#009af9\" fill-rule=\"evenodd\" fill-opacity=\"1\" stroke=\"#000000\" stroke-opacity=\"1\" stroke-width=\"3.2\"/>\n",
       "<circle clip-path=\"url(#clip782)\" cx=\"2047.33\" cy=\"1204.32\" r=\"14.4\" fill=\"#009af9\" fill-rule=\"evenodd\" fill-opacity=\"1\" stroke=\"#000000\" stroke-opacity=\"1\" stroke-width=\"3.2\"/>\n",
       "<circle clip-path=\"url(#clip782)\" cx=\"2063.27\" cy=\"1215.1\" r=\"14.4\" fill=\"#009af9\" fill-rule=\"evenodd\" fill-opacity=\"1\" stroke=\"#000000\" stroke-opacity=\"1\" stroke-width=\"3.2\"/>\n",
       "<circle clip-path=\"url(#clip782)\" cx=\"2078.71\" cy=\"1225.54\" r=\"14.4\" fill=\"#009af9\" fill-rule=\"evenodd\" fill-opacity=\"1\" stroke=\"#000000\" stroke-opacity=\"1\" stroke-width=\"3.2\"/>\n",
       "<circle clip-path=\"url(#clip782)\" cx=\"2093.67\" cy=\"1235.66\" r=\"14.4\" fill=\"#009af9\" fill-rule=\"evenodd\" fill-opacity=\"1\" stroke=\"#000000\" stroke-opacity=\"1\" stroke-width=\"3.2\"/>\n",
       "<circle clip-path=\"url(#clip782)\" cx=\"2108.18\" cy=\"1245.48\" r=\"14.4\" fill=\"#009af9\" fill-rule=\"evenodd\" fill-opacity=\"1\" stroke=\"#000000\" stroke-opacity=\"1\" stroke-width=\"3.2\"/>\n",
       "<circle clip-path=\"url(#clip782)\" cx=\"2122.28\" cy=\"1255.01\" r=\"14.4\" fill=\"#009af9\" fill-rule=\"evenodd\" fill-opacity=\"1\" stroke=\"#000000\" stroke-opacity=\"1\" stroke-width=\"3.2\"/>\n",
       "<circle clip-path=\"url(#clip782)\" cx=\"2135.97\" cy=\"1264.27\" r=\"14.4\" fill=\"#009af9\" fill-rule=\"evenodd\" fill-opacity=\"1\" stroke=\"#000000\" stroke-opacity=\"1\" stroke-width=\"3.2\"/>\n",
       "<circle clip-path=\"url(#clip782)\" cx=\"2149.29\" cy=\"1273.28\" r=\"14.4\" fill=\"#009af9\" fill-rule=\"evenodd\" fill-opacity=\"1\" stroke=\"#000000\" stroke-opacity=\"1\" stroke-width=\"3.2\"/>\n",
       "<circle clip-path=\"url(#clip782)\" cx=\"2162.26\" cy=\"1282.05\" r=\"14.4\" fill=\"#009af9\" fill-rule=\"evenodd\" fill-opacity=\"1\" stroke=\"#000000\" stroke-opacity=\"1\" stroke-width=\"3.2\"/>\n",
       "<circle clip-path=\"url(#clip782)\" cx=\"2174.89\" cy=\"1290.6\" r=\"14.4\" fill=\"#009af9\" fill-rule=\"evenodd\" fill-opacity=\"1\" stroke=\"#000000\" stroke-opacity=\"1\" stroke-width=\"3.2\"/>\n",
       "<circle clip-path=\"url(#clip782)\" cx=\"2187.2\" cy=\"1298.92\" r=\"14.4\" fill=\"#009af9\" fill-rule=\"evenodd\" fill-opacity=\"1\" stroke=\"#000000\" stroke-opacity=\"1\" stroke-width=\"3.2\"/>\n",
       "<circle clip-path=\"url(#clip782)\" cx=\"2199.21\" cy=\"1307.04\" r=\"14.4\" fill=\"#009af9\" fill-rule=\"evenodd\" fill-opacity=\"1\" stroke=\"#000000\" stroke-opacity=\"1\" stroke-width=\"3.2\"/>\n",
       "<circle clip-path=\"url(#clip782)\" cx=\"2210.92\" cy=\"1314.97\" r=\"14.4\" fill=\"#009af9\" fill-rule=\"evenodd\" fill-opacity=\"1\" stroke=\"#000000\" stroke-opacity=\"1\" stroke-width=\"3.2\"/>\n",
       "<circle clip-path=\"url(#clip782)\" cx=\"2222.36\" cy=\"1322.7\" r=\"14.4\" fill=\"#009af9\" fill-rule=\"evenodd\" fill-opacity=\"1\" stroke=\"#000000\" stroke-opacity=\"1\" stroke-width=\"3.2\"/>\n",
       "<circle clip-path=\"url(#clip782)\" cx=\"2233.54\" cy=\"1330.26\" r=\"14.4\" fill=\"#009af9\" fill-rule=\"evenodd\" fill-opacity=\"1\" stroke=\"#000000\" stroke-opacity=\"1\" stroke-width=\"3.2\"/>\n",
       "<circle clip-path=\"url(#clip782)\" cx=\"2244.47\" cy=\"1337.66\" r=\"14.4\" fill=\"#009af9\" fill-rule=\"evenodd\" fill-opacity=\"1\" stroke=\"#000000\" stroke-opacity=\"1\" stroke-width=\"3.2\"/>\n",
       "<circle clip-path=\"url(#clip782)\" cx=\"2255.15\" cy=\"1344.88\" r=\"14.4\" fill=\"#009af9\" fill-rule=\"evenodd\" fill-opacity=\"1\" stroke=\"#000000\" stroke-opacity=\"1\" stroke-width=\"3.2\"/>\n",
       "<circle clip-path=\"url(#clip782)\" cx=\"2265.61\" cy=\"1351.96\" r=\"14.4\" fill=\"#009af9\" fill-rule=\"evenodd\" fill-opacity=\"1\" stroke=\"#000000\" stroke-opacity=\"1\" stroke-width=\"3.2\"/>\n",
       "<circle clip-path=\"url(#clip782)\" cx=\"2275.85\" cy=\"1358.88\" r=\"14.4\" fill=\"#009af9\" fill-rule=\"evenodd\" fill-opacity=\"1\" stroke=\"#000000\" stroke-opacity=\"1\" stroke-width=\"3.2\"/>\n",
       "<circle clip-path=\"url(#clip782)\" cx=\"2285.87\" cy=\"1365.66\" r=\"14.4\" fill=\"#009af9\" fill-rule=\"evenodd\" fill-opacity=\"1\" stroke=\"#000000\" stroke-opacity=\"1\" stroke-width=\"3.2\"/>\n",
       "<circle clip-path=\"url(#clip782)\" cx=\"2295.69\" cy=\"1372.3\" r=\"14.4\" fill=\"#009af9\" fill-rule=\"evenodd\" fill-opacity=\"1\" stroke=\"#000000\" stroke-opacity=\"1\" stroke-width=\"3.2\"/>\n",
       "</svg>\n"
      ],
      "text/html": [
       "<?xml version=\"1.0\" encoding=\"utf-8\"?>\n",
       "<svg xmlns=\"http://www.w3.org/2000/svg\" xmlns:xlink=\"http://www.w3.org/1999/xlink\" width=\"600\" height=\"400\" viewBox=\"0 0 2400 1600\">\n",
       "<defs>\n",
       "  <clipPath id=\"clip830\">\n",
       "    <rect x=\"0\" y=\"0\" width=\"2400\" height=\"1600\"/>\n",
       "  </clipPath>\n",
       "</defs>\n",
       "<path clip-path=\"url(#clip830)\" d=\"M0 1600 L2400 1600 L2400 8.88178e-14 L0 8.88178e-14  Z\" fill=\"#ffffff\" fill-rule=\"evenodd\" fill-opacity=\"1\"/>\n",
       "<defs>\n",
       "  <clipPath id=\"clip831\">\n",
       "    <rect x=\"480\" y=\"0\" width=\"1681\" height=\"1600\"/>\n",
       "  </clipPath>\n",
       "</defs>\n",
       "<path clip-path=\"url(#clip830)\" d=\"M336.58 1410.9 L2352.76 1410.9 L2352.76 47.2441 L336.58 47.2441  Z\" fill=\"#ffffff\" fill-rule=\"evenodd\" fill-opacity=\"1\"/>\n",
       "<defs>\n",
       "  <clipPath id=\"clip832\">\n",
       "    <rect x=\"336\" y=\"47\" width=\"2017\" height=\"1365\"/>\n",
       "  </clipPath>\n",
       "</defs>\n",
       "<polyline clip-path=\"url(#clip832)\" style=\"stroke:#000000; stroke-linecap:round; stroke-linejoin:round; stroke-width:2; stroke-opacity:0.1; fill:none\" points=\"393.642,1410.9 393.642,47.2441 \"/>\n",
       "<polyline clip-path=\"url(#clip832)\" style=\"stroke:#000000; stroke-linecap:round; stroke-linejoin:round; stroke-width:2; stroke-opacity:0.1; fill:none\" points=\"1513.17,1410.9 1513.17,47.2441 \"/>\n",
       "<polyline clip-path=\"url(#clip830)\" style=\"stroke:#000000; stroke-linecap:round; stroke-linejoin:round; stroke-width:4; stroke-opacity:1; fill:none\" points=\"336.58,1410.9 2352.76,1410.9 \"/>\n",
       "<polyline clip-path=\"url(#clip830)\" style=\"stroke:#000000; stroke-linecap:round; stroke-linejoin:round; stroke-width:4; stroke-opacity:1; fill:none\" points=\"393.642,1410.9 393.642,1392 \"/>\n",
       "<polyline clip-path=\"url(#clip830)\" style=\"stroke:#000000; stroke-linecap:round; stroke-linejoin:round; stroke-width:4; stroke-opacity:1; fill:none\" points=\"1513.17,1410.9 1513.17,1392 \"/>\n",
       "<path clip-path=\"url(#clip830)\" d=\"M358.625 1485.02 L366.263 1485.02 L366.263 1458.66 L357.953 1460.32 L357.953 1456.06 L366.217 1454.4 L370.893 1454.4 L370.893 1485.02 L378.532 1485.02 L378.532 1488.96 L358.625 1488.96 L358.625 1485.02 Z\" fill=\"#000000\" fill-rule=\"nonzero\" fill-opacity=\"1\" /><path clip-path=\"url(#clip830)\" d=\"M397.976 1457.48 Q394.365 1457.48 392.536 1461.04 Q390.731 1464.58 390.731 1471.71 Q390.731 1478.82 392.536 1482.38 Q394.365 1485.92 397.976 1485.92 Q401.61 1485.92 403.416 1482.38 Q405.245 1478.82 405.245 1471.71 Q405.245 1464.58 403.416 1461.04 Q401.61 1457.48 397.976 1457.48 M397.976 1453.77 Q403.786 1453.77 406.842 1458.38 Q409.921 1462.96 409.921 1471.71 Q409.921 1480.44 406.842 1485.04 Q403.786 1489.63 397.976 1489.63 Q392.166 1489.63 389.087 1485.04 Q386.032 1480.44 386.032 1471.71 Q386.032 1462.96 389.087 1458.38 Q392.166 1453.77 397.976 1453.77 Z\" fill=\"#000000\" fill-rule=\"nonzero\" fill-opacity=\"1\" /><path clip-path=\"url(#clip830)\" d=\"M419.625 1435.97 Q416.691 1435.97 415.206 1438.86 Q413.739 1441.74 413.739 1447.53 Q413.739 1453.31 415.206 1456.2 Q416.691 1459.08 419.625 1459.08 Q422.578 1459.08 424.045 1456.2 Q425.531 1453.31 425.531 1447.53 Q425.531 1441.74 424.045 1438.86 Q422.578 1435.97 419.625 1435.97 M419.625 1432.96 Q424.346 1432.96 426.829 1436.7 Q429.33 1440.43 429.33 1447.53 Q429.33 1454.62 426.829 1458.37 Q424.346 1462.09 419.625 1462.09 Q414.905 1462.09 412.403 1458.37 Q409.921 1454.62 409.921 1447.53 Q409.921 1440.43 412.403 1436.7 Q414.905 1432.96 419.625 1432.96 Z\" fill=\"#000000\" fill-rule=\"nonzero\" fill-opacity=\"1\" /><path clip-path=\"url(#clip830)\" d=\"M1479.5 1485.02 L1487.14 1485.02 L1487.14 1458.66 L1478.83 1460.32 L1478.83 1456.06 L1487.09 1454.4 L1491.77 1454.4 L1491.77 1485.02 L1499.41 1485.02 L1499.41 1488.96 L1479.5 1488.96 L1479.5 1485.02 Z\" fill=\"#000000\" fill-rule=\"nonzero\" fill-opacity=\"1\" /><path clip-path=\"url(#clip830)\" d=\"M1518.85 1457.48 Q1515.24 1457.48 1513.41 1461.04 Q1511.61 1464.58 1511.61 1471.71 Q1511.61 1478.82 1513.41 1482.38 Q1515.24 1485.92 1518.85 1485.92 Q1522.49 1485.92 1524.29 1482.38 Q1526.12 1478.82 1526.12 1471.71 Q1526.12 1464.58 1524.29 1461.04 Q1522.49 1457.48 1518.85 1457.48 M1518.85 1453.77 Q1524.66 1453.77 1527.72 1458.38 Q1530.8 1462.96 1530.8 1471.71 Q1530.8 1480.44 1527.72 1485.04 Q1524.66 1489.63 1518.85 1489.63 Q1513.04 1489.63 1509.96 1485.04 Q1506.91 1480.44 1506.91 1471.71 Q1506.91 1462.96 1509.96 1458.38 Q1513.04 1453.77 1518.85 1453.77 Z\" fill=\"#000000\" fill-rule=\"nonzero\" fill-opacity=\"1\" /><path clip-path=\"url(#clip830)\" d=\"M1531.34 1458.35 L1537.55 1458.35 L1537.55 1436.93 L1530.8 1438.28 L1530.8 1434.82 L1537.51 1433.47 L1541.31 1433.47 L1541.31 1458.35 L1547.52 1458.35 L1547.52 1461.55 L1531.34 1461.55 L1531.34 1458.35 Z\" fill=\"#000000\" fill-rule=\"nonzero\" fill-opacity=\"1\" /><path clip-path=\"url(#clip830)\" d=\"M1359.6 1552.67 L1359.6 1574.19 L1353.74 1574.19 L1353.74 1552.86 Q1353.74 1547.8 1351.77 1545.29 Q1349.79 1542.77 1345.85 1542.77 Q1341.1 1542.77 1338.37 1545.79 Q1335.63 1548.82 1335.63 1554.04 L1335.63 1574.19 L1329.74 1574.19 L1329.74 1538.54 L1335.63 1538.54 L1335.63 1544.08 Q1337.73 1540.86 1340.56 1539.27 Q1343.43 1537.68 1347.15 1537.68 Q1353.29 1537.68 1356.44 1541.5 Q1359.6 1545.29 1359.6 1552.67 Z\" fill=\"#000000\" fill-rule=\"nonzero\" fill-opacity=\"1\" /><polyline clip-path=\"url(#clip832)\" style=\"stroke:#000000; stroke-linecap:round; stroke-linejoin:round; stroke-width:2; stroke-opacity:0.1; fill:none\" points=\"336.58,1372.3 2352.76,1372.3 \"/>\n",
       "<polyline clip-path=\"url(#clip832)\" style=\"stroke:#000000; stroke-linecap:round; stroke-linejoin:round; stroke-width:2; stroke-opacity:0.1; fill:none\" points=\"336.58,615.1 2352.76,615.1 \"/>\n",
       "<polyline clip-path=\"url(#clip830)\" style=\"stroke:#000000; stroke-linecap:round; stroke-linejoin:round; stroke-width:4; stroke-opacity:1; fill:none\" points=\"336.58,1410.9 336.58,47.2441 \"/>\n",
       "<polyline clip-path=\"url(#clip830)\" style=\"stroke:#000000; stroke-linecap:round; stroke-linejoin:round; stroke-width:4; stroke-opacity:1; fill:none\" points=\"336.58,1372.3 355.478,1372.3 \"/>\n",
       "<polyline clip-path=\"url(#clip830)\" style=\"stroke:#000000; stroke-linecap:round; stroke-linejoin:round; stroke-width:4; stroke-opacity:1; fill:none\" points=\"336.58,615.1 355.478,615.1 \"/>\n",
       "<path clip-path=\"url(#clip830)\" d=\"M198.748 1392.1 L206.386 1392.1 L206.386 1365.73 L198.076 1367.4 L198.076 1363.14 L206.34 1361.47 L211.016 1361.47 L211.016 1392.1 L218.655 1392.1 L218.655 1396.03 L198.748 1396.03 L198.748 1392.1 Z\" fill=\"#000000\" fill-rule=\"nonzero\" fill-opacity=\"1\" /><path clip-path=\"url(#clip830)\" d=\"M238.099 1364.55 Q234.488 1364.55 232.66 1368.11 Q230.854 1371.66 230.854 1378.79 Q230.854 1385.89 232.66 1389.46 Q234.488 1393 238.099 1393 Q241.734 1393 243.539 1389.46 Q245.368 1385.89 245.368 1378.79 Q245.368 1371.66 243.539 1368.11 Q241.734 1364.55 238.099 1364.55 M238.099 1360.85 Q243.909 1360.85 246.965 1365.45 Q250.044 1370.04 250.044 1378.79 Q250.044 1387.51 246.965 1392.12 Q243.909 1396.7 238.099 1396.7 Q232.289 1396.7 229.21 1392.12 Q226.155 1387.51 226.155 1378.79 Q226.155 1370.04 229.21 1365.45 Q232.289 1360.85 238.099 1360.85 Z\" fill=\"#000000\" fill-rule=\"nonzero\" fill-opacity=\"1\" /><path clip-path=\"url(#clip830)\" d=\"M250.044 1354.95 L274.155 1354.95 L274.155 1358.14 L250.044 1358.14 L250.044 1354.95 Z\" fill=\"#000000\" fill-rule=\"nonzero\" fill-opacity=\"1\" /><path clip-path=\"url(#clip830)\" d=\"M292.794 1343.85 L283.202 1358.84 L292.794 1358.84 L292.794 1343.85 M291.797 1340.54 L296.574 1340.54 L296.574 1358.84 L300.58 1358.84 L300.58 1362 L296.574 1362 L296.574 1368.62 L292.794 1368.62 L292.794 1362 L280.117 1362 L280.117 1358.33 L291.797 1340.54 Z\" fill=\"#000000\" fill-rule=\"nonzero\" fill-opacity=\"1\" /><path clip-path=\"url(#clip830)\" d=\"M200.44 634.892 L208.079 634.892 L208.079 608.527 L199.769 610.194 L199.769 605.934 L208.033 604.268 L212.709 604.268 L212.709 634.892 L220.348 634.892 L220.348 638.828 L200.44 638.828 L200.44 634.892 Z\" fill=\"#000000\" fill-rule=\"nonzero\" fill-opacity=\"1\" /><path clip-path=\"url(#clip830)\" d=\"M239.792 607.346 Q236.181 607.346 234.352 610.911 Q232.547 614.453 232.547 621.582 Q232.547 628.689 234.352 632.254 Q236.181 635.795 239.792 635.795 Q243.426 635.795 245.232 632.254 Q247.06 628.689 247.06 621.582 Q247.06 614.453 245.232 610.911 Q243.426 607.346 239.792 607.346 M239.792 603.643 Q245.602 603.643 248.658 608.249 Q251.736 612.832 251.736 621.582 Q251.736 630.309 248.658 634.916 Q245.602 639.499 239.792 639.499 Q233.982 639.499 230.903 634.916 Q227.848 630.309 227.848 621.582 Q227.848 612.832 230.903 608.249 Q233.982 603.643 239.792 603.643 Z\" fill=\"#000000\" fill-rule=\"nonzero\" fill-opacity=\"1\" /><path clip-path=\"url(#clip830)\" d=\"M251.736 597.744 L275.848 597.744 L275.848 600.941 L251.736 600.941 L251.736 597.744 Z\" fill=\"#000000\" fill-rule=\"nonzero\" fill-opacity=\"1\" /><path clip-path=\"url(#clip830)\" d=\"M287.321 608.22 L300.58 608.22 L300.58 611.417 L282.75 611.417 L282.75 608.22 Q284.913 605.982 288.637 602.22 Q292.38 598.44 293.339 597.349 Q295.164 595.299 295.878 593.888 Q296.612 592.459 296.612 591.086 Q296.612 588.848 295.032 587.437 Q293.471 586.027 290.951 586.027 Q289.164 586.027 287.17 586.647 Q285.195 587.268 282.938 588.528 L282.938 584.691 Q285.233 583.77 287.227 583.3 Q289.22 582.829 290.875 582.829 Q295.239 582.829 297.834 585.011 Q300.43 587.193 300.43 590.842 Q300.43 592.572 299.771 594.133 Q299.132 595.675 297.42 597.782 Q296.95 598.327 294.43 600.941 Q291.91 603.537 287.321 608.22 Z\" fill=\"#000000\" fill-rule=\"nonzero\" fill-opacity=\"1\" /><path clip-path=\"url(#clip830)\" d=\"M44.2885 859.614 Q46.0196 859.614 46.9455 860.661 Q47.8312 861.707 47.8312 863.076 Q47.8312 864.405 46.9455 865.451 Q46.0196 866.458 44.3691 866.458 Q43.2419 866.458 42.2354 865.733 Q41.1887 865.008 40.9874 863.398 Q39.2564 865.411 39.2564 868.591 Q39.2564 870.161 39.8602 871.248 Q40.4238 872.295 42.1549 873.342 Q43.886 874.388 47.4286 875.113 Q50.9713 875.797 56.4865 876.24 L77.0177 877.81 Q83.9823 878.293 97.6698 880.024 Q111.317 881.715 114.457 882.52 Q117.436 883.245 119.892 884.332 Q122.347 885.419 124.481 887.029 Q126.655 888.639 127.863 890.974 Q129.07 893.309 129.07 896.127 Q129.07 899.871 127.098 902.528 Q125.166 905.185 122.227 905.185 Q120.496 905.185 119.57 904.139 Q118.684 903.092 118.684 901.723 Q118.684 900.395 119.57 899.388 Q120.496 898.341 122.146 898.341 Q123.273 898.341 124.28 899.066 Q125.327 899.791 125.528 901.401 Q127.259 899.388 127.259 896.127 Q127.259 893.631 125.81 891.981 Q124.36 890.33 120.496 889.123 Q116.631 887.915 110.029 887.391 L89.4975 885.821 Q82.2512 885.298 68.765 883.607 Q55.2788 881.876 51.7361 881.111 Q37.4448 877.891 37.4448 868.672 Q37.4448 864.928 39.4174 862.271 Q41.3498 859.614 44.2885 859.614 Z\" fill=\"#000000\" fill-rule=\"nonzero\" fill-opacity=\"1\" /><path clip-path=\"url(#clip830)\" d=\"M166.004 896.812 Q159.218 896.812 155.521 895.099 Q150.02 892.709 150.02 887.073 Q150.02 885.878 150.359 884.638 Q150.674 883.376 151.914 881.798 Q153.154 880.197 155.183 879.228 Q159.106 877.379 166.004 877.379 Q172.745 877.379 176.42 879.092 Q181.785 881.595 181.785 887.118 Q181.785 889.192 180.725 891.311 Q179.666 893.408 177.118 894.738 Q173.308 896.812 166.004 896.812 M165.441 892.98 Q172.407 892.98 175.18 892.484 Q178.178 891.92 179.486 890.387 Q180.771 888.831 180.771 887.118 Q180.771 885.27 179.395 883.737 Q177.998 882.181 174.999 881.708 Q172.046 881.189 165.441 881.212 Q159.015 881.212 156.445 881.662 Q153.447 882.271 152.252 883.894 Q151.035 885.495 151.035 887.118 Q151.035 887.727 151.215 888.381 Q151.396 889.012 151.914 889.936 Q152.433 890.86 153.718 891.582 Q155.003 892.281 156.941 892.619 Q159.444 892.98 165.441 892.98 Z\" fill=\"#000000\" fill-rule=\"nonzero\" fill-opacity=\"1\" /><path clip-path=\"url(#clip830)\" d=\"M-11.1206 894.739 L-12.5635 894.739 Q-12.5635 889.194 -15.5167 886.33 Q-15.5167 885.541 -15.3364 885.406 Q-15.156 885.271 -14.3219 885.271 L11.5813 885.271 Q12.9565 885.271 13.3848 884.595 Q13.8131 883.918 13.8131 880.965 L13.8131 879.5 L15.2334 879.5 Q15.0982 881.123 15.0982 886.984 Q15.0982 892.846 15.2334 894.446 L13.8131 894.446 L13.8131 892.981 Q13.8131 890.073 13.4074 889.374 Q12.979 888.675 11.5813 888.675 L-12.338 888.675 Q-11.1206 891.087 -11.1206 894.739 Z\" fill=\"#000000\" fill-rule=\"nonzero\" fill-opacity=\"1\" /><path clip-path=\"url(#clip830)\" d=\"M79.0306 813.13 Q80.8341 813.13 81.8647 814.257 Q82.8631 815.385 82.8631 816.673 Q82.8631 817.897 82.1546 818.541 Q81.4461 819.185 80.5443 819.185 Q79.3205 819.185 78.2577 818.283 Q77.1949 817.381 76.9694 816.029 Q76.1321 817.349 76.1321 819.314 Q76.1321 820.602 76.8084 821.729 Q77.4847 822.824 78.3543 823.501 Q79.2239 824.145 80.4799 824.724 Q81.7037 825.272 82.4444 825.497 Q83.153 825.691 83.9259 825.852 L92.9435 828.106 Q97.2269 829.201 98.7406 829.201 Q100.609 829.201 101.865 828.299 Q103.088 827.397 103.088 825.594 Q103.088 824.885 102.895 824.08 Q102.67 823.275 102.09 822.244 Q101.478 821.182 100.576 820.248 Q99.6424 819.282 98.0643 818.348 Q96.4862 817.414 94.4572 816.802 Q93.7487 816.608 93.7487 815.964 Q93.7487 815.159 94.3928 815.159 Q94.9403 815.159 96.0997 815.61 Q97.2269 816.029 98.7084 816.963 Q100.158 817.864 101.478 819.056 Q102.766 820.248 103.668 822.019 Q104.57 823.79 104.57 825.723 Q104.57 828.492 103.088 830.328 Q101.607 832.164 99.5457 832.84 Q99.8356 833.001 100.222 833.227 Q100.609 833.452 101.478 834.128 Q102.315 834.773 102.96 835.513 Q103.571 836.254 104.055 837.413 Q104.57 838.541 104.57 839.764 Q104.57 841.31 104.119 842.695 Q103.668 844.048 102.638 845.014 Q101.607 845.98 100.19 845.98 Q98.6118 845.98 97.5168 844.917 Q96.3896 843.822 96.3896 842.341 Q96.3896 841.407 96.9371 840.666 Q97.4846 839.893 98.6762 839.893 Q99.9966 839.893 100.995 840.795 Q101.993 841.697 102.251 842.985 Q103.088 841.665 103.088 839.7 Q103.088 837.574 101.22 835.9 Q99.3525 834.225 96.2285 833.42 Q88.7246 831.423 85.3752 830.65 Q81.9936 829.877 80.5443 829.877 Q79.1916 829.877 78.2577 830.232 Q77.3237 830.586 76.905 831.198 Q76.4541 831.777 76.2931 832.325 Q76.1321 832.84 76.1321 833.42 Q76.1321 834.386 76.5186 835.481 Q76.905 836.544 77.8068 837.832 Q78.6764 839.088 80.4799 840.28 Q82.2834 841.471 84.7633 842.277 Q85.504 842.438 85.504 843.146 Q85.4718 843.919 84.8277 843.919 Q84.2802 843.919 83.153 843.5 Q81.9936 843.049 80.5443 842.148 Q79.095 841.214 77.8068 840.022 Q76.4864 838.798 75.5846 837.027 Q74.6828 835.223 74.6828 833.291 Q74.6828 832.422 74.8761 831.584 Q75.0371 830.715 75.5202 829.684 Q76.0033 828.621 77.0661 827.687 Q78.1289 826.753 79.6747 826.174 Q78.934 825.787 78.2255 825.272 Q77.5169 824.724 76.6474 823.887 Q75.7456 823.017 75.2303 821.826 Q74.6828 820.602 74.6828 819.249 Q74.6828 817.929 75.0371 816.641 Q75.3591 815.352 76.4219 814.257 Q77.4525 813.13 79.0306 813.13 Z\" fill=\"#000000\" fill-rule=\"nonzero\" fill-opacity=\"1\" /><path clip-path=\"url(#clip830)\" d=\"M76.864 806.409 Q75.4888 806.409 74.835 805.62 Q74.1812 804.831 74.1812 803.816 Q74.1812 802.757 74.8801 802.013 Q75.5564 801.246 76.7513 801.246 Q78.0363 801.246 78.7577 802.148 Q79.4791 803.027 79.2988 804.29 Q81.1474 803.185 81.9815 801.156 Q82.8156 799.105 82.8156 797.211 Q82.8156 795.227 81.1023 793.626 Q79.3889 792.003 75.1957 792.003 Q71.6338 792.003 69.5822 793.401 Q67.5307 794.776 67.5307 797.504 L67.5307 799.533 Q67.5307 800.232 67.4631 800.435 Q67.3955 800.638 67.0122 800.638 Q66.5613 800.638 66.4712 799.939 Q66.4712 799.24 66.3359 798.135 Q66.2457 795.453 63.9237 794.032 Q61.7594 792.747 58.6709 792.747 Q55.8529 792.747 54.6806 794.1 Q53.4858 795.43 53.4858 797.166 Q53.4858 798.789 54.1621 800.57 Q54.8384 802.351 56.3489 803.32 Q56.3489 800.457 58.6709 800.457 Q59.6854 800.457 60.3617 801.111 Q61.0155 801.742 61.0155 802.802 Q61.0155 803.816 60.3842 804.493 Q59.7305 805.169 58.6258 805.169 Q55.9881 805.169 54.1621 802.824 Q52.336 800.457 52.336 796.986 Q52.336 793.559 54.1395 791.034 Q55.9431 788.486 58.716 788.486 Q61.4438 788.486 63.6757 790.29 Q65.9076 792.093 66.8319 794.957 Q67.5307 791.44 69.9204 789.343 Q72.2875 787.246 75.1957 787.246 Q78.8028 787.246 81.463 790.087 Q84.1006 792.928 84.1006 797.076 Q84.1006 800.908 82.0266 803.659 Q79.9525 806.409 76.864 806.409 Z\" fill=\"#000000\" fill-rule=\"nonzero\" fill-opacity=\"1\" /><path clip-path=\"url(#clip830)\" d=\"M58.7731 748.992 L96.9049 758.492 Q98.6118 758.879 100.061 758.879 Q103.088 758.879 103.088 756.914 Q103.088 755.948 102.476 755.175 Q101.865 754.402 100.576 753.79 Q99.2881 753.178 98.0965 752.792 Q96.8727 752.405 94.9403 751.89 Q94.1674 751.729 93.9741 751.6 Q93.7487 751.439 93.7487 750.988 Q93.7487 750.183 94.3928 750.183 Q98.5474 751.053 100.931 752.18 Q104.57 753.984 104.57 757.043 Q104.57 759.362 103.153 761.004 Q101.736 762.647 99.6102 763.033 Q104.57 767.252 104.57 771.632 Q104.57 775.497 101.639 777.945 Q98.6762 780.392 94.0063 780.392 Q89.3043 780.392 84.7955 778.074 Q80.2866 775.723 77.4847 772.019 Q74.6828 768.315 74.6828 764.515 Q74.6828 760.489 78.9018 758.428 L63.2497 754.467 L61.9615 754.273 Q61.575 754.273 61.3818 754.434 Q61.1564 754.563 60.9953 755.336 Q60.8343 756.077 60.8343 757.558 Q60.8343 758.17 60.8021 758.46 Q60.7699 758.718 60.6089 758.943 Q60.4156 759.169 60.0292 759.169 Q58.902 759.169 58.7731 758.235 Q58.0646 752.051 58.0646 749.861 Q58.0646 749.475 58.2578 749.249 Q58.4189 749.024 58.6121 749.024 L58.7731 748.992 M81.9291 759.233 Q81.6393 759.233 80.8341 759.459 Q80.029 759.684 78.9018 760.199 Q77.7746 760.715 76.9694 761.842 Q76.1321 762.937 76.1321 764.418 Q76.1321 766.415 77.839 768.508 Q79.5459 770.57 82.4444 772.083 Q84.7633 773.243 89.6263 774.499 Q94.4894 775.723 96.9049 775.723 Q98.3863 775.723 99.7068 775.4 Q100.995 775.046 102.058 774.048 Q103.088 773.049 103.088 771.504 Q103.088 767.735 98.4185 764.032 Q97.6134 763.323 97.2913 763.162 Q96.9371 762.969 95.9709 762.711 L83.0563 759.426 Q82.0902 759.233 81.9291 759.233 Z\" fill=\"#000000\" fill-rule=\"nonzero\" fill-opacity=\"1\" /><path clip-path=\"url(#clip830)\" d=\"M79.0306 714.658 Q80.8341 714.658 81.8647 715.786 Q82.8631 716.913 82.8631 718.201 Q82.8631 719.425 82.1546 720.069 Q81.4461 720.713 80.5443 720.713 Q79.3205 720.713 78.2577 719.811 Q77.1949 718.91 76.9694 717.557 Q76.1321 718.877 76.1321 720.842 Q76.1321 722.13 76.8084 723.257 Q77.4847 724.352 78.3543 725.029 Q79.2239 725.673 80.4799 726.253 Q81.7037 726.8 82.4444 727.025 Q83.153 727.219 83.9259 727.38 L92.9435 729.634 Q97.2269 730.729 98.7406 730.729 Q100.609 730.729 101.865 729.827 Q103.088 728.926 103.088 727.122 Q103.088 726.414 102.895 725.608 Q102.67 724.803 102.09 723.773 Q101.478 722.71 100.576 721.776 Q99.6424 720.81 98.0643 719.876 Q96.4862 718.942 94.4572 718.33 Q93.7487 718.137 93.7487 717.493 Q93.7487 716.687 94.3928 716.687 Q94.9403 716.687 96.0997 717.138 Q97.2269 717.557 98.7084 718.491 Q100.158 719.393 101.478 720.584 Q102.766 721.776 103.668 723.547 Q104.57 725.319 104.57 727.251 Q104.57 730.021 103.088 731.856 Q101.607 733.692 99.5457 734.368 Q99.8356 734.529 100.222 734.755 Q100.609 734.98 101.478 735.657 Q102.315 736.301 102.96 737.041 Q103.571 737.782 104.055 738.942 Q104.57 740.069 104.57 741.293 Q104.57 742.839 104.119 744.223 Q103.668 745.576 102.638 746.542 Q101.607 747.508 100.19 747.508 Q98.6118 747.508 97.5168 746.446 Q96.3896 745.351 96.3896 743.869 Q96.3896 742.935 96.9371 742.194 Q97.4846 741.421 98.6762 741.421 Q99.9966 741.421 100.995 742.323 Q101.993 743.225 102.251 744.513 Q103.088 743.193 103.088 741.228 Q103.088 739.103 101.22 737.428 Q99.3525 735.753 96.2285 734.948 Q88.7246 732.951 85.3752 732.178 Q81.9936 731.405 80.5443 731.405 Q79.1916 731.405 78.2577 731.76 Q77.3237 732.114 76.905 732.726 Q76.4541 733.306 76.2931 733.853 Q76.1321 734.368 76.1321 734.948 Q76.1321 735.914 76.5186 737.009 Q76.905 738.072 77.8068 739.36 Q78.6764 740.616 80.4799 741.808 Q82.2834 743 84.7633 743.805 Q85.504 743.966 85.504 744.674 Q85.4718 745.447 84.8277 745.447 Q84.2802 745.447 83.153 745.029 Q81.9936 744.578 80.5443 743.676 Q79.095 742.742 77.8068 741.55 Q76.4864 740.326 75.5846 738.555 Q74.6828 736.752 74.6828 734.819 Q74.6828 733.95 74.8761 733.112 Q75.0371 732.243 75.5202 731.212 Q76.0033 730.149 77.0661 729.215 Q78.1289 728.281 79.6747 727.702 Q78.934 727.315 78.2255 726.8 Q77.5169 726.253 76.6474 725.415 Q75.7456 724.546 75.2303 723.354 Q74.6828 722.13 74.6828 720.778 Q74.6828 719.457 75.0371 718.169 Q75.3591 716.881 76.4219 715.786 Q77.4525 714.658 79.0306 714.658 Z\" fill=\"#000000\" fill-rule=\"nonzero\" fill-opacity=\"1\" /><path clip-path=\"url(#clip830)\" d=\"M83.3634 710.155 L83.3634 693 L88.5833 693 L88.5833 710.155 L83.3634 710.155 Z\" fill=\"#000000\" fill-rule=\"nonzero\" fill-opacity=\"1\" /><path clip-path=\"url(#clip830)\" d=\"M60.5423 669.096 Q60.5423 674.062 65.4439 676.576 Q70.3137 679.059 80.1169 679.059 Q89.8882 679.059 94.7898 676.576 Q99.6596 674.062 99.6596 669.096 Q99.6596 664.099 94.7898 661.617 Q89.8882 659.102 80.1169 659.102 Q70.3137 659.102 65.4439 661.617 Q60.5423 664.099 60.5423 669.096 M55.4498 669.096 Q55.4498 661.107 61.7836 656.906 Q68.0857 652.673 80.1169 652.673 Q92.1162 652.673 98.4501 656.906 Q104.752 661.107 104.752 669.096 Q104.752 677.085 98.4501 681.319 Q92.1162 685.52 80.1169 685.52 Q68.0857 685.52 61.7836 681.319 Q55.4498 677.085 55.4498 669.096 Z\" fill=\"#000000\" fill-rule=\"nonzero\" fill-opacity=\"1\" /><path clip-path=\"url(#clip830)\" d=\"M95.7447 641.374 L95.7447 634.658 L103.829 634.658 L103.829 641.374 L95.7447 641.374 Z\" fill=\"#000000\" fill-rule=\"nonzero\" fill-opacity=\"1\" /><path clip-path=\"url(#clip830)\" d=\"M98.4183 615.115 L98.4183 592.676 L103.829 592.676 L103.829 622.85 L98.4183 622.85 Q94.6307 619.189 88.265 612.887 Q81.8674 606.553 80.0214 604.93 Q76.5521 601.843 74.1649 600.633 Q71.746 599.392 69.4225 599.392 Q65.6349 599.392 63.2477 602.066 Q60.8606 604.707 60.8606 608.972 Q60.8606 611.996 61.911 615.37 Q62.9613 618.712 65.0938 622.531 L58.6008 622.531 Q57.0412 618.648 56.2455 615.274 Q55.4498 611.901 55.4498 609.1 Q55.4498 601.715 59.1419 597.323 Q62.834 592.931 69.0087 592.931 Q71.9369 592.931 74.5787 594.045 Q77.1886 595.127 80.7534 598.023 Q81.6765 598.819 86.1006 603.084 Q90.493 607.349 98.4183 615.115 Z\" fill=\"#000000\" fill-rule=\"nonzero\" fill-opacity=\"1\" /><path clip-path=\"url(#clip830)\" d=\"M56.3091 579.117 L56.3091 553.877 L61.72 553.877 L61.72 573.229 L73.3692 573.229 Q72.8918 571.828 72.669 570.428 Q72.4144 569.028 72.4144 567.627 Q72.4144 559.67 76.7749 555.023 Q81.1354 550.376 88.5833 550.376 Q96.2539 550.376 100.519 555.15 Q104.752 559.925 104.752 568.614 Q104.752 571.606 104.243 574.725 Q103.734 577.812 102.715 581.122 L96.2539 581.122 Q97.8135 578.258 98.5774 575.202 Q99.3413 572.147 99.3413 568.741 Q99.3413 563.235 96.4449 560.02 Q93.5485 556.805 88.5833 556.805 Q83.618 556.805 80.7216 560.02 Q77.8252 563.235 77.8252 568.741 Q77.8252 571.319 78.3981 573.897 Q78.971 576.444 80.1805 579.117 L56.3091 579.117 Z\" fill=\"#000000\" fill-rule=\"nonzero\" fill-opacity=\"1\" /><circle clip-path=\"url(#clip832)\" cx=\"393.642\" cy=\"85.838\" r=\"14.4\" fill=\"#009af9\" fill-rule=\"evenodd\" fill-opacity=\"1\" stroke=\"#000000\" stroke-opacity=\"1\" stroke-width=\"3.2\"/>\n",
       "<circle clip-path=\"url(#clip832)\" cx=\"730.655\" cy=\"313.779\" r=\"14.4\" fill=\"#009af9\" fill-rule=\"evenodd\" fill-opacity=\"1\" stroke=\"#000000\" stroke-opacity=\"1\" stroke-width=\"3.2\"/>\n",
       "<circle clip-path=\"url(#clip832)\" cx=\"927.795\" cy=\"447.116\" r=\"14.4\" fill=\"#009af9\" fill-rule=\"evenodd\" fill-opacity=\"1\" stroke=\"#000000\" stroke-opacity=\"1\" stroke-width=\"3.2\"/>\n",
       "<circle clip-path=\"url(#clip832)\" cx=\"1067.67\" cy=\"541.719\" r=\"14.4\" fill=\"#009af9\" fill-rule=\"evenodd\" fill-opacity=\"1\" stroke=\"#000000\" stroke-opacity=\"1\" stroke-width=\"3.2\"/>\n",
       "<circle clip-path=\"url(#clip832)\" cx=\"1176.16\" cy=\"615.1\" r=\"14.4\" fill=\"#009af9\" fill-rule=\"evenodd\" fill-opacity=\"1\" stroke=\"#000000\" stroke-opacity=\"1\" stroke-width=\"3.2\"/>\n",
       "<circle clip-path=\"url(#clip832)\" cx=\"1264.81\" cy=\"675.056\" r=\"14.4\" fill=\"#009af9\" fill-rule=\"evenodd\" fill-opacity=\"1\" stroke=\"#000000\" stroke-opacity=\"1\" stroke-width=\"3.2\"/>\n",
       "<circle clip-path=\"url(#clip832)\" cx=\"1339.76\" cy=\"725.749\" r=\"14.4\" fill=\"#009af9\" fill-rule=\"evenodd\" fill-opacity=\"1\" stroke=\"#000000\" stroke-opacity=\"1\" stroke-width=\"3.2\"/>\n",
       "<circle clip-path=\"url(#clip832)\" cx=\"1404.68\" cy=\"769.66\" r=\"14.4\" fill=\"#009af9\" fill-rule=\"evenodd\" fill-opacity=\"1\" stroke=\"#000000\" stroke-opacity=\"1\" stroke-width=\"3.2\"/>\n",
       "<circle clip-path=\"url(#clip832)\" cx=\"1461.95\" cy=\"808.393\" r=\"14.4\" fill=\"#009af9\" fill-rule=\"evenodd\" fill-opacity=\"1\" stroke=\"#000000\" stroke-opacity=\"1\" stroke-width=\"3.2\"/>\n",
       "<circle clip-path=\"url(#clip832)\" cx=\"1513.17\" cy=\"843.041\" r=\"14.4\" fill=\"#009af9\" fill-rule=\"evenodd\" fill-opacity=\"1\" stroke=\"#000000\" stroke-opacity=\"1\" stroke-width=\"3.2\"/>\n",
       "<circle clip-path=\"url(#clip832)\" cx=\"1559.51\" cy=\"874.383\" r=\"14.4\" fill=\"#009af9\" fill-rule=\"evenodd\" fill-opacity=\"1\" stroke=\"#000000\" stroke-opacity=\"1\" stroke-width=\"3.2\"/>\n",
       "<circle clip-path=\"url(#clip832)\" cx=\"1601.82\" cy=\"902.997\" r=\"14.4\" fill=\"#009af9\" fill-rule=\"evenodd\" fill-opacity=\"1\" stroke=\"#000000\" stroke-opacity=\"1\" stroke-width=\"3.2\"/>\n",
       "<circle clip-path=\"url(#clip832)\" cx=\"1640.74\" cy=\"929.319\" r=\"14.4\" fill=\"#009af9\" fill-rule=\"evenodd\" fill-opacity=\"1\" stroke=\"#000000\" stroke-opacity=\"1\" stroke-width=\"3.2\"/>\n",
       "<circle clip-path=\"url(#clip832)\" cx=\"1676.77\" cy=\"953.689\" r=\"14.4\" fill=\"#009af9\" fill-rule=\"evenodd\" fill-opacity=\"1\" stroke=\"#000000\" stroke-opacity=\"1\" stroke-width=\"3.2\"/>\n",
       "<circle clip-path=\"url(#clip832)\" cx=\"1710.31\" cy=\"976.378\" r=\"14.4\" fill=\"#009af9\" fill-rule=\"evenodd\" fill-opacity=\"1\" stroke=\"#000000\" stroke-opacity=\"1\" stroke-width=\"3.2\"/>\n",
       "<circle clip-path=\"url(#clip832)\" cx=\"1741.69\" cy=\"997.601\" r=\"14.4\" fill=\"#009af9\" fill-rule=\"evenodd\" fill-opacity=\"1\" stroke=\"#000000\" stroke-opacity=\"1\" stroke-width=\"3.2\"/>\n",
       "<circle clip-path=\"url(#clip832)\" cx=\"1771.17\" cy=\"1017.54\" r=\"14.4\" fill=\"#009af9\" fill-rule=\"evenodd\" fill-opacity=\"1\" stroke=\"#000000\" stroke-opacity=\"1\" stroke-width=\"3.2\"/>\n",
       "<circle clip-path=\"url(#clip832)\" cx=\"1798.96\" cy=\"1036.33\" r=\"14.4\" fill=\"#009af9\" fill-rule=\"evenodd\" fill-opacity=\"1\" stroke=\"#000000\" stroke-opacity=\"1\" stroke-width=\"3.2\"/>\n",
       "<circle clip-path=\"url(#clip832)\" cx=\"1825.25\" cy=\"1054.11\" r=\"14.4\" fill=\"#009af9\" fill-rule=\"evenodd\" fill-opacity=\"1\" stroke=\"#000000\" stroke-opacity=\"1\" stroke-width=\"3.2\"/>\n",
       "<circle clip-path=\"url(#clip832)\" cx=\"1850.19\" cy=\"1070.98\" r=\"14.4\" fill=\"#009af9\" fill-rule=\"evenodd\" fill-opacity=\"1\" stroke=\"#000000\" stroke-opacity=\"1\" stroke-width=\"3.2\"/>\n",
       "<circle clip-path=\"url(#clip832)\" cx=\"1873.91\" cy=\"1087.03\" r=\"14.4\" fill=\"#009af9\" fill-rule=\"evenodd\" fill-opacity=\"1\" stroke=\"#000000\" stroke-opacity=\"1\" stroke-width=\"3.2\"/>\n",
       "<circle clip-path=\"url(#clip832)\" cx=\"1896.53\" cy=\"1102.32\" r=\"14.4\" fill=\"#009af9\" fill-rule=\"evenodd\" fill-opacity=\"1\" stroke=\"#000000\" stroke-opacity=\"1\" stroke-width=\"3.2\"/>\n",
       "<circle clip-path=\"url(#clip832)\" cx=\"1918.14\" cy=\"1116.94\" r=\"14.4\" fill=\"#009af9\" fill-rule=\"evenodd\" fill-opacity=\"1\" stroke=\"#000000\" stroke-opacity=\"1\" stroke-width=\"3.2\"/>\n",
       "<circle clip-path=\"url(#clip832)\" cx=\"1938.83\" cy=\"1130.94\" r=\"14.4\" fill=\"#009af9\" fill-rule=\"evenodd\" fill-opacity=\"1\" stroke=\"#000000\" stroke-opacity=\"1\" stroke-width=\"3.2\"/>\n",
       "<circle clip-path=\"url(#clip832)\" cx=\"1958.68\" cy=\"1144.36\" r=\"14.4\" fill=\"#009af9\" fill-rule=\"evenodd\" fill-opacity=\"1\" stroke=\"#000000\" stroke-opacity=\"1\" stroke-width=\"3.2\"/>\n",
       "<circle clip-path=\"url(#clip832)\" cx=\"1977.75\" cy=\"1157.26\" r=\"14.4\" fill=\"#009af9\" fill-rule=\"evenodd\" fill-opacity=\"1\" stroke=\"#000000\" stroke-opacity=\"1\" stroke-width=\"3.2\"/>\n",
       "<circle clip-path=\"url(#clip832)\" cx=\"1996.1\" cy=\"1169.67\" r=\"14.4\" fill=\"#009af9\" fill-rule=\"evenodd\" fill-opacity=\"1\" stroke=\"#000000\" stroke-opacity=\"1\" stroke-width=\"3.2\"/>\n",
       "<circle clip-path=\"url(#clip832)\" cx=\"2013.78\" cy=\"1181.63\" r=\"14.4\" fill=\"#009af9\" fill-rule=\"evenodd\" fill-opacity=\"1\" stroke=\"#000000\" stroke-opacity=\"1\" stroke-width=\"3.2\"/>\n",
       "<circle clip-path=\"url(#clip832)\" cx=\"2030.84\" cy=\"1193.17\" r=\"14.4\" fill=\"#009af9\" fill-rule=\"evenodd\" fill-opacity=\"1\" stroke=\"#000000\" stroke-opacity=\"1\" stroke-width=\"3.2\"/>\n",
       "<circle clip-path=\"url(#clip832)\" cx=\"2047.33\" cy=\"1204.32\" r=\"14.4\" fill=\"#009af9\" fill-rule=\"evenodd\" fill-opacity=\"1\" stroke=\"#000000\" stroke-opacity=\"1\" stroke-width=\"3.2\"/>\n",
       "<circle clip-path=\"url(#clip832)\" cx=\"2063.27\" cy=\"1215.1\" r=\"14.4\" fill=\"#009af9\" fill-rule=\"evenodd\" fill-opacity=\"1\" stroke=\"#000000\" stroke-opacity=\"1\" stroke-width=\"3.2\"/>\n",
       "<circle clip-path=\"url(#clip832)\" cx=\"2078.71\" cy=\"1225.54\" r=\"14.4\" fill=\"#009af9\" fill-rule=\"evenodd\" fill-opacity=\"1\" stroke=\"#000000\" stroke-opacity=\"1\" stroke-width=\"3.2\"/>\n",
       "<circle clip-path=\"url(#clip832)\" cx=\"2093.67\" cy=\"1235.66\" r=\"14.4\" fill=\"#009af9\" fill-rule=\"evenodd\" fill-opacity=\"1\" stroke=\"#000000\" stroke-opacity=\"1\" stroke-width=\"3.2\"/>\n",
       "<circle clip-path=\"url(#clip832)\" cx=\"2108.18\" cy=\"1245.48\" r=\"14.4\" fill=\"#009af9\" fill-rule=\"evenodd\" fill-opacity=\"1\" stroke=\"#000000\" stroke-opacity=\"1\" stroke-width=\"3.2\"/>\n",
       "<circle clip-path=\"url(#clip832)\" cx=\"2122.28\" cy=\"1255.01\" r=\"14.4\" fill=\"#009af9\" fill-rule=\"evenodd\" fill-opacity=\"1\" stroke=\"#000000\" stroke-opacity=\"1\" stroke-width=\"3.2\"/>\n",
       "<circle clip-path=\"url(#clip832)\" cx=\"2135.97\" cy=\"1264.27\" r=\"14.4\" fill=\"#009af9\" fill-rule=\"evenodd\" fill-opacity=\"1\" stroke=\"#000000\" stroke-opacity=\"1\" stroke-width=\"3.2\"/>\n",
       "<circle clip-path=\"url(#clip832)\" cx=\"2149.29\" cy=\"1273.28\" r=\"14.4\" fill=\"#009af9\" fill-rule=\"evenodd\" fill-opacity=\"1\" stroke=\"#000000\" stroke-opacity=\"1\" stroke-width=\"3.2\"/>\n",
       "<circle clip-path=\"url(#clip832)\" cx=\"2162.26\" cy=\"1282.05\" r=\"14.4\" fill=\"#009af9\" fill-rule=\"evenodd\" fill-opacity=\"1\" stroke=\"#000000\" stroke-opacity=\"1\" stroke-width=\"3.2\"/>\n",
       "<circle clip-path=\"url(#clip832)\" cx=\"2174.89\" cy=\"1290.6\" r=\"14.4\" fill=\"#009af9\" fill-rule=\"evenodd\" fill-opacity=\"1\" stroke=\"#000000\" stroke-opacity=\"1\" stroke-width=\"3.2\"/>\n",
       "<circle clip-path=\"url(#clip832)\" cx=\"2187.2\" cy=\"1298.92\" r=\"14.4\" fill=\"#009af9\" fill-rule=\"evenodd\" fill-opacity=\"1\" stroke=\"#000000\" stroke-opacity=\"1\" stroke-width=\"3.2\"/>\n",
       "<circle clip-path=\"url(#clip832)\" cx=\"2199.21\" cy=\"1307.04\" r=\"14.4\" fill=\"#009af9\" fill-rule=\"evenodd\" fill-opacity=\"1\" stroke=\"#000000\" stroke-opacity=\"1\" stroke-width=\"3.2\"/>\n",
       "<circle clip-path=\"url(#clip832)\" cx=\"2210.92\" cy=\"1314.97\" r=\"14.4\" fill=\"#009af9\" fill-rule=\"evenodd\" fill-opacity=\"1\" stroke=\"#000000\" stroke-opacity=\"1\" stroke-width=\"3.2\"/>\n",
       "<circle clip-path=\"url(#clip832)\" cx=\"2222.36\" cy=\"1322.7\" r=\"14.4\" fill=\"#009af9\" fill-rule=\"evenodd\" fill-opacity=\"1\" stroke=\"#000000\" stroke-opacity=\"1\" stroke-width=\"3.2\"/>\n",
       "<circle clip-path=\"url(#clip832)\" cx=\"2233.54\" cy=\"1330.26\" r=\"14.4\" fill=\"#009af9\" fill-rule=\"evenodd\" fill-opacity=\"1\" stroke=\"#000000\" stroke-opacity=\"1\" stroke-width=\"3.2\"/>\n",
       "<circle clip-path=\"url(#clip832)\" cx=\"2244.47\" cy=\"1337.66\" r=\"14.4\" fill=\"#009af9\" fill-rule=\"evenodd\" fill-opacity=\"1\" stroke=\"#000000\" stroke-opacity=\"1\" stroke-width=\"3.2\"/>\n",
       "<circle clip-path=\"url(#clip832)\" cx=\"2255.15\" cy=\"1344.88\" r=\"14.4\" fill=\"#009af9\" fill-rule=\"evenodd\" fill-opacity=\"1\" stroke=\"#000000\" stroke-opacity=\"1\" stroke-width=\"3.2\"/>\n",
       "<circle clip-path=\"url(#clip832)\" cx=\"2265.61\" cy=\"1351.96\" r=\"14.4\" fill=\"#009af9\" fill-rule=\"evenodd\" fill-opacity=\"1\" stroke=\"#000000\" stroke-opacity=\"1\" stroke-width=\"3.2\"/>\n",
       "<circle clip-path=\"url(#clip832)\" cx=\"2275.85\" cy=\"1358.88\" r=\"14.4\" fill=\"#009af9\" fill-rule=\"evenodd\" fill-opacity=\"1\" stroke=\"#000000\" stroke-opacity=\"1\" stroke-width=\"3.2\"/>\n",
       "<circle clip-path=\"url(#clip832)\" cx=\"2285.87\" cy=\"1365.66\" r=\"14.4\" fill=\"#009af9\" fill-rule=\"evenodd\" fill-opacity=\"1\" stroke=\"#000000\" stroke-opacity=\"1\" stroke-width=\"3.2\"/>\n",
       "<circle clip-path=\"url(#clip832)\" cx=\"2295.69\" cy=\"1372.3\" r=\"14.4\" fill=\"#009af9\" fill-rule=\"evenodd\" fill-opacity=\"1\" stroke=\"#000000\" stroke-opacity=\"1\" stroke-width=\"3.2\"/>\n",
       "</svg>\n"
      ]
     },
     "execution_count": 81,
     "metadata": {},
     "output_type": "execute_result"
    }
   ],
   "source": [
    "scatter(nvals,abs.(-(tvals.-0.25)),xlabel=\"n\",ylabel=L\"$\\int_0^1x^3dx$-0.25\",\n",
    "    legend=false,xaxis=:log, yaxis=:log)"
   ]
  },
  {
   "cell_type": "markdown",
   "id": "21d6072e",
   "metadata": {},
   "source": [
    "If a plot of $\\log(y)$  vs $\\log(x)$ is a a straight line:  $\\log(y)=a+b \\log(x)$, then $y$ and $x$ are related by a power law:  $y=\\alpha x^\\beta$, where $\\alpha=\\exp(a)$ and $\\beta=b$.  Lets try to fit our log-log plot to a straight line."
   ]
  },
  {
   "cell_type": "markdown",
   "id": "4ed8e2c3",
   "metadata": {},
   "source": [
    "Later in the semester we will develop curve fitting routines, but here is a quick one.  \n",
    "\n",
    "My curve fitting program is literally 2 lines long, and illustrates why sometimes one does not want to bother with a package.  I am sure it would take longer to Google the package than it does to write the function."
   ]
  },
  {
   "cell_type": "code",
   "execution_count": 26,
   "id": "2e3fc88d",
   "metadata": {},
   "outputs": [
    {
     "data": {
      "text/plain": [
       "linearfit"
      ]
     },
     "execution_count": 26,
     "metadata": {},
     "output_type": "execute_result"
    }
   ],
   "source": [
    "\"\"\"\n",
    "    linearfit(X,Y,functions)\n",
    "\n",
    "takes a set of `X=(x1,x2,...xn)`, `Y=(y1,y1,...yn)` and a set of `functions=(f1, f2,...fm)` \n",
    "and returns the set of coefficients `C=(c1,c2,..cm)` which minimize \n",
    "\n",
    "\n",
    "         n       m\n",
    "    χ²=  ∑  (yi- ∑  cj fj(xi))^2\n",
    "        i=1     j=1\n",
    "\n",
    "It is implemented by constructing the `n×m` matrix `A` with matrix elements\n",
    "\n",
    "    Aᵢⱼ= fj(xi)\n",
    "\n",
    "then `(AᵗA)C=AᵗY`, where `Y=(y1,y2,...yn)`.  Thus the optimal coefficients are \n",
    "`(AᵗA)⁻¹(AᵗY)`, which can be implemented with `(AᵗA)\\\\(AᵗY)`.\n",
    "\"\"\"\n",
    "function linearfit(X,Y,functions)\n",
    "    A=[f(x) for x in X, f in functions ]\n",
    "    return transpose(A)*A\\(transpose(A)*Y) # This is equivalent to (AᵗA)⁻¹(AᵗY)\n",
    "end                                        # the \"\\\" is \"divide from left\""
   ]
  },
  {
   "cell_type": "code",
   "execution_count": 27,
   "id": "da3637ba-6469-4951-af80-2e719cbddf41",
   "metadata": {},
   "outputs": [
    {
     "name": "stdout",
     "output_type": "stream",
     "text": [
      "search: \u001b[0m\u001b[1ml\u001b[22m\u001b[0m\u001b[1mi\u001b[22m\u001b[0m\u001b[1mn\u001b[22m\u001b[0m\u001b[1me\u001b[22m\u001b[0m\u001b[1ma\u001b[22m\u001b[0m\u001b[1mr\u001b[22m\u001b[0m\u001b[1mf\u001b[22m\u001b[0m\u001b[1mi\u001b[22m\u001b[0m\u001b[1mt\u001b[22m\n",
      "\n"
     ]
    },
    {
     "data": {
      "text/latex": [
       "\\begin{verbatim}\n",
       "linearfit(X,Y,functions)\n",
       "\\end{verbatim}\n",
       "takes a set of \\texttt{X=(x1,x2,...xn)}, \\texttt{Y=(y1,y1,...yn)} and a set of \\texttt{functions=(f1, f2,...fm)}  and returns the set of coefficients \\texttt{C=(c1,c2,..cm)} which minimize \n",
       "\n",
       "\\begin{verbatim}\n",
       "     n       m\n",
       "χ²=  ∑  (yi- ∑  cj fj(xi))^2\n",
       "    i=1     j=1\n",
       "\\end{verbatim}\n",
       "It is implemented by constructing the \\texttt{n×m} matrix \\texttt{A} with matrix elements\n",
       "\n",
       "\\begin{verbatim}\n",
       "Aᵢⱼ= fj(xi)\n",
       "\\end{verbatim}\n",
       "then \\texttt{(AᵗA)C=AᵗY}, where \\texttt{Y=(y1,y2,...yn)}.  Thus the optimal coefficients are  \\texttt{(AᵗA)⁻¹(AᵗY)}, which can be implemented with \\texttt{(AᵗA){\\textbackslash}(AᵗY)}.\n",
       "\n"
      ],
      "text/markdown": [
       "```\n",
       "linearfit(X,Y,functions)\n",
       "```\n",
       "\n",
       "takes a set of `X=(x1,x2,...xn)`, `Y=(y1,y1,...yn)` and a set of `functions=(f1, f2,...fm)`  and returns the set of coefficients `C=(c1,c2,..cm)` which minimize \n",
       "\n",
       "```\n",
       "     n       m\n",
       "χ²=  ∑  (yi- ∑  cj fj(xi))^2\n",
       "    i=1     j=1\n",
       "```\n",
       "\n",
       "It is implemented by constructing the `n×m` matrix `A` with matrix elements\n",
       "\n",
       "```\n",
       "Aᵢⱼ= fj(xi)\n",
       "```\n",
       "\n",
       "then `(AᵗA)C=AᵗY`, where `Y=(y1,y2,...yn)`.  Thus the optimal coefficients are  `(AᵗA)⁻¹(AᵗY)`, which can be implemented with `(AᵗA)\\(AᵗY)`.\n"
      ],
      "text/plain": [
       "\u001b[36m  linearfit(X,Y,functions)\u001b[39m\n",
       "\n",
       "  takes a set of \u001b[36mX=(x1,x2,...xn)\u001b[39m, \u001b[36mY=(y1,y1,...yn)\u001b[39m and a set of \u001b[36mfunctions=(f1,\n",
       "  f2,...fm)\u001b[39m and returns the set of coefficients \u001b[36mC=(c1,c2,..cm)\u001b[39m which minimize\n",
       "\n",
       "\u001b[36m       n       m\u001b[39m\n",
       "\u001b[36m  χ²=  ∑  (yi- ∑  cj fj(xi))^2\u001b[39m\n",
       "\u001b[36m      i=1     j=1\u001b[39m\n",
       "\n",
       "  It is implemented by constructing the \u001b[36mn×m\u001b[39m matrix \u001b[36mA\u001b[39m with matrix elements\n",
       "\n",
       "\u001b[36m  Aᵢⱼ= fj(xi)\u001b[39m\n",
       "\n",
       "  then \u001b[36m(AᵗA)C=AᵗY\u001b[39m, where \u001b[36mY=(y1,y2,...yn)\u001b[39m. Thus the optimal coefficients are\n",
       "  \u001b[36m(AᵗA)⁻¹(AᵗY)\u001b[39m, which can be implemented with \u001b[36m(AᵗA)\\(AᵗY)\u001b[39m."
      ]
     },
     "execution_count": 27,
     "metadata": {},
     "output_type": "execute_result"
    }
   ],
   "source": [
    "?linearfit"
   ]
  },
  {
   "cell_type": "markdown",
   "id": "502613ee",
   "metadata": {},
   "source": [
    "The divide from left notation may seem a little strange on a computer, but it makes sense."
   ]
  },
  {
   "cell_type": "code",
   "execution_count": 28,
   "id": "c1bf08b7",
   "metadata": {},
   "outputs": [
    {
     "data": {
      "text/plain": [
       "0.5"
      ]
     },
     "execution_count": 28,
     "metadata": {},
     "output_type": "execute_result"
    }
   ],
   "source": [
    "1 / 2  # The normal way to take the ratio of 1 and 2"
   ]
  },
  {
   "cell_type": "code",
   "execution_count": null,
   "id": "b88bb758",
   "metadata": {},
   "outputs": [],
   "source": [
    "2 \\ 1 # an alternative way to take the ratio of 1 and 2"
   ]
  },
  {
   "cell_type": "code",
   "execution_count": null,
   "id": "35cb2b9d",
   "metadata": {},
   "outputs": [],
   "source": [
    "lf1=linearfit(log.(nvals),log.(tvals.-0.25),(x->1.,x->x))"
   ]
  },
  {
   "cell_type": "markdown",
   "id": "0f184099",
   "metadata": {},
   "source": [
    "that output means that $\\log(t-0.25)=-1.386 - 2\\log(n)$, or in other words, $t=0.25+\\exp(-1.386)n^2$."
   ]
  },
  {
   "cell_type": "code",
   "execution_count": null,
   "id": "2b79f5b7",
   "metadata": {},
   "outputs": [],
   "source": [
    "scatter(nvals,tvals.-0.25,xlabel=\"n\",ylabel=L\"$\\int_0^1x^3dx$-0.25\",\n",
    "    legend=false,xaxis=:log, yaxis=:log)\n",
    "plot!(x->exp(lf1[1]+lf1[2]*log(x)),1,100)"
   ]
  },
  {
   "cell_type": "markdown",
   "id": "785eaff0",
   "metadata": {},
   "source": [
    "Thus we see that the error scales as $1/n^2$.  Can we understand this?"
   ]
  },
  {
   "cell_type": "markdown",
   "id": "387ce39e",
   "metadata": {},
   "source": [
    "<div style=\"border: 2px solid white; border-radius: 10px; padding: 20px; background-color:white; color:black; height: 500px\" >\n",
    "</div>"
   ]
  },
  {
   "cell_type": "markdown",
   "id": "0afba932-0e4e-47ab-a804-32ad83ea4096",
   "metadata": {},
   "source": [
    "## Theory tools"
   ]
  },
  {
   "cell_type": "markdown",
   "id": "d841dc27",
   "metadata": {},
   "source": [
    "### Big O Notation"
   ]
  },
  {
   "cell_type": "markdown",
   "id": "d9c9f5b3",
   "metadata": {},
   "source": [
    "We will often say that a function $f_n$ scales as $O(n^\\alpha)$ as $n\\to\\infty$.  This means that there exists an integer $N$ and a constant $C$ such that $|f_n|\\leq Cn^\\alpha$ for all $n>N$.  That is, we can bound $f_n$ by some constant times $n^\\alpha$.  Note that this is an upper bound, and does not mean the bound is tight.  "
   ]
  },
  {
   "cell_type": "markdown",
   "id": "d153816e",
   "metadata": {},
   "source": [
    "Here is an example showing that `y=1/(x-1)` is bounded by `2/x` for `x>1`.  Thus we say $1/(x-1)=O(x^{-1})$."
   ]
  },
  {
   "cell_type": "code",
   "execution_count": null,
   "id": "93661fbf",
   "metadata": {},
   "outputs": [],
   "source": [
    "plot(x->2/x,2,10,fillrange = [0,0], fc=:blues,label=\"2/x\",xlabel=\"x\",ylabel=\"y\")\n",
    "plot!(x->1/(x-1),1.5,10,label=\"1/(x-1)\",linewidth=3)"
   ]
  },
  {
   "cell_type": "markdown",
   "id": "84e77b6b",
   "metadata": {},
   "source": [
    "Sometimes we also want to talk about tight bounds. In this course we will write $f_n\\sim n^\\alpha$ as $n\\to\\infty$ to mean that there exists a constant $C$ such that $|f_n- C n^\\alpha|$ vanishes as $n\\to\\infty$."
   ]
  },
  {
   "cell_type": "markdown",
   "id": "15c4f3dc",
   "metadata": {},
   "source": [
    "In the case where $f_n$ itself vanishes as $n\\to\\infty$, we actually want this to be a little bit stronger, and will actually require $|f_n-C n^\\alpha|/|f_n|$ vanishes as $n\\to\\infty$.  IE.  We want the difference between the curves to vanish faster than $f_n$ itself."
   ]
  },
  {
   "cell_type": "markdown",
   "id": "cb787b78",
   "metadata": {},
   "source": [
    "Here is an example.  We would write $1/(x-1)\\sim 1/x$ as $x\\to\\infty$.  Note, we could also write $1/(x-1)=1/x+O(x^{-2})$, which conveys more information."
   ]
  },
  {
   "cell_type": "code",
   "execution_count": null,
   "id": "5187185d",
   "metadata": {},
   "outputs": [],
   "source": [
    "plot(x->1/x,2,10,fillrange = x->1/(x-1), fc=:blues,label=\"1/x\",xlabel=\"x\",ylabel=\"y\")\n",
    "plot!(x->1/(x-1),1.5,10,label=\"1/(x-1)\",linewidth=3)"
   ]
  },
  {
   "cell_type": "markdown",
   "id": "86c084e8",
   "metadata": {},
   "source": [
    "We will often leave off the \"$n\\to\\infty$\" part of the statement.  Sometimes we will take a different limit -- for example we could say $f(x)=O(x^{-2})$ as $x\\to0$, to mean that for small $x$ $|f(x)|$ is bounded from above by a function proportional to $x^{-2}$.    \n",
    "\n",
    "We can also talk about $O(g(x))$ for functions other than power laws.  "
   ]
  },
  {
   "cell_type": "markdown",
   "id": "a8ed41b2",
   "metadata": {},
   "source": [
    "<div style=\"border: 2px solid white; border-radius: 10px; padding: 20px; background-color:white; color:black; height: 500px\" >\n",
    "</div>"
   ]
  },
  {
   "cell_type": "markdown",
   "id": "8b3b6409",
   "metadata": {},
   "source": [
    "### Richardson Extrapolation"
   ]
  },
  {
   "cell_type": "markdown",
   "id": "8c0a42a3",
   "metadata": {},
   "source": [
    "If we know that the error in the trapezoid rule scales as $n^{-2}$ we can do the integral for several values of $n$ and then fit to a function of the form $I_n=I_\\infty + \\epsilon n^{-2}$ -- extracting a better approximation to the integral."
   ]
  },
  {
   "cell_type": "code",
   "execution_count": null,
   "id": "9d8f2317",
   "metadata": {},
   "outputs": [],
   "source": [
    "I4=naive_trap(x->x^3,(0,1),4)"
   ]
  },
  {
   "cell_type": "code",
   "execution_count": null,
   "id": "5266b46c",
   "metadata": {},
   "outputs": [],
   "source": [
    "I8=naive_trap(x->x^3,(0,1),8)"
   ]
  },
  {
   "cell_type": "markdown",
   "id": "c51cf1ca",
   "metadata": {},
   "source": [
    "$$\n",
    "I_n=I_\\infty+\\epsilon n^{-2}\n",
    "$$"
   ]
  },
  {
   "cell_type": "markdown",
   "id": "729eb25f-831c-42d8-93af-a8ecbba9e3b2",
   "metadata": {},
   "source": [
    "We then multiply by $n^2$,\n",
    "\\begin{equation}\n",
    "n^2 I_n=n^2 I_\\infty+\\epsilon\n",
    "\\end{equation}"
   ]
  },
  {
   "cell_type": "markdown",
   "id": "7cfba35e-9639-4024-98e8-4c9cfaf6b128",
   "metadata": {},
   "source": [
    "We then take two values of $n$ -- say \n",
    "$n=4$ and $n=8$.\n",
    "\\begin{align}\n",
    "4^2 I_4 &= 4^2 I_\\infty+\\epsilon\\\\\n",
    "8^2 I_8 &= 8^2 I_\\infty+\\epsilon\n",
    "\\end{align}"
   ]
  },
  {
   "cell_type": "markdown",
   "id": "e0ee603d-0e38-4dcb-8bdc-fd558580eee3",
   "metadata": {},
   "source": [
    "Subtract these\n",
    "\\begin{equation}\n",
    "8^2 I_8-4^2 I_4= (8^2-4^2) I_\\infty\n",
    "\\end{equation}\n",
    "or\n",
    "\\begin{equation}\n",
    "I_\\infty= \\frac{8^2 I_8-4^2 I_4}{8^2-4^2} =\\frac{2^2 I_8-I_4}{2^2-1}\n",
    "\\end{equation}"
   ]
  },
  {
   "cell_type": "code",
   "execution_count": null,
   "id": "42ddd6b8",
   "metadata": {},
   "outputs": [],
   "source": [
    "(2^2*I8-I4)/(2^2-1)"
   ]
  },
  {
   "cell_type": "markdown",
   "id": "7ed7e33a",
   "metadata": {},
   "source": [
    "This was exact in this case because of the form of the integrand.  In general, if we used $I_n$ and $I_{n/2}$ we would still have an error -- but instead of scaling as $n^{-2}$, it would scale as $n^{-4}$.  The approximation $I\\approx (4/3)I_n-(1/3)I_{n/2}$ is known as *Simpson's Rule*"
   ]
  },
  {
   "cell_type": "markdown",
   "id": "d6ed7dfe",
   "metadata": {},
   "source": [
    "This trick can be repeated.  I can take Simpson's rule with two different $n$'s, and combine them to get an even better approximation to the integral.  This strategy is known as Romberg Integration."
   ]
  },
  {
   "cell_type": "markdown",
   "id": "849666dd",
   "metadata": {},
   "source": [
    "**Caution:** Richardson extrapolation (and Romberg integration schemes) rely on our integrand being smooth.  If it is poorly behaved, then they don't necessarily help. "
   ]
  },
  {
   "cell_type": "markdown",
   "id": "21c366df",
   "metadata": {},
   "source": [
    "<div style=\"border: 2px solid white; border-radius: 10px; padding: 20px; background-color:white; color:black; height: 500px\" >\n",
    "</div>"
   ]
  },
  {
   "cell_type": "markdown",
   "id": "406439ee",
   "metadata": {},
   "source": [
    "### Euler-Maclaurin Summation formula"
   ]
  },
  {
   "cell_type": "markdown",
   "id": "bae31f31",
   "metadata": {},
   "source": [
    "A good framework for understanding these approximations in the **Euler-Maclaurin Summation Formula**.  Here is a somewhat formal derivation.  This is mostly for my own amusement -- and this *derivation* contains one or two cheats.\n",
    "\n",
    "We will first remind you about series expansions.  Analytic functions can be written in series, such as\n",
    "\\begin{align}\n",
    "e^x&=\\sum_j \\frac{x^j}{j!}\\\\\n",
    "\\frac{1}{1-x}&=\\sum_j x^j.\n",
    "\\end{align}\n",
    "Such a series is sometimes used to define a set of numbers.  We are going to need the Bernoulli numbers, which are defined by the series\n",
    "$$\n",
    "\\frac{x}{e^{x}-1}=\\sum_j \\frac{B_j}{j!} x^j.\n",
    "$$\n",
    "One can Brute-force expand the left hand side to get\n",
    "$B_0=1$, $B_1=-1/2$, $B_2=1/6$, $B_3=0$, $B_4=-1/30,\\cdots$  You can easily Google them.\n",
    "\n"
   ]
  },
  {
   "cell_type": "markdown",
   "id": "7063d540",
   "metadata": {},
   "source": [
    "With Bernoulli numbers in hand we will now think about operators that act on the space of functions.  They take in a function, and spit out a new function.  For example, lets intoduce $\\Delta$, which is defined by $(\\Delta f)(x)=f(x+1)-f(x)$.  In Julia we can create this operator with"
   ]
  },
  {
   "cell_type": "code",
   "execution_count": null,
   "id": "ebfa8d14",
   "metadata": {},
   "outputs": [],
   "source": [
    "Δ(f)=(x->f(x+1)-f(x))"
   ]
  },
  {
   "cell_type": "markdown",
   "id": "6b430b06",
   "metadata": {},
   "source": [
    "or if that notation makes you queezy, you could also write"
   ]
  },
  {
   "cell_type": "code",
   "execution_count": null,
   "id": "44c7a0fb",
   "metadata": {},
   "outputs": [],
   "source": [
    "function Δ(f)\n",
    "    function g(x)\n",
    "        return f(x+1)-f(x)\n",
    "    end\n",
    "    return g\n",
    "end"
   ]
  },
  {
   "cell_type": "code",
   "execution_count": null,
   "id": "c67075ad",
   "metadata": {},
   "outputs": [],
   "source": [
    "f1(x)=x^2\n",
    "f2=Δ(f1)\n",
    "@show f1(5)-f1(4)\n",
    "@show f2(4);"
   ]
  },
  {
   "cell_type": "markdown",
   "id": "297fce6b",
   "metadata": {},
   "source": [
    "We will next introduce $\\Sigma$.  It again maps functions onto functions.  We will only need to define what it does to functions on integers.  It is defined for positive integers $x$ as\n",
    "$$\n",
    "(\\Sigma f)(x)=\\sum_{n=0}^{x-1} f(n)\n",
    "$$"
   ]
  },
  {
   "cell_type": "markdown",
   "id": "b5c38340",
   "metadata": {},
   "source": [
    "I won't write a function that does this, but you can imagine how to do it.  I claim that $\\Delta\\Sigma=I$, where $I$ is the identity matrix.  To prove this one writes\n",
    "\\begin{align}\n",
    "(\\Delta\\Sigma f)(x)&=(\\Sigma f)(x+1)-(\\Sigma f)(x)\\\\\n",
    "&=\\sum_{n=0}^x f(n) - \\sum_{n=0}^{x-1} f(x).\n",
    "\\end{align}\n",
    "All of the terms cancel except the last, which gives, $(\\Delta\\Sigma f)(x)=f(x)$, which shows that $\\Delta\\Sigma$ is the identity operator.  This makes sense, $\\Delta$ and $\\Sigma$ are inverses of each-other.\n",
    "\n",
    "In the other order, however, we find $(\\Sigma\\Delta f)(x)=f(x)-f(0)$, so the order matters."
   ]
  },
  {
   "cell_type": "markdown",
   "id": "c8c50df0",
   "metadata": {},
   "source": [
    "Next we introduce two more operators\n",
    "\\begin{align}\n",
    "(\\partial f)(x)&=f'(x)\\\\\n",
    "(\\smallint  f)(x)&=\\int_0^x f(y)dy.\n",
    "\\end{align}\n",
    "The fundamental theorem of calculus states that $\\partial\\smallint=  I.$  As with the $\\Sigma$ and $\\Delta$, if we reverse the order we get $(\\smallint\\partial f)(x)=f(x)-f(0)$."
   ]
  },
  {
   "cell_type": "markdown",
   "id": "39683b96",
   "metadata": {},
   "source": [
    "We now turn to Taylor's theorem,\n",
    "\\begin{align}\n",
    "f(x+1)&=f(x)+\\sum_{n=1}^\\infty \\frac{(\\partial^n f)(x)}{n!}\\\\\n",
    "&= (e^\\partial f)(x).\n",
    "\\end{align}\n",
    "Thus Taylor's theorem can be written as $\\Delta=e^{\\partial}-1$"
   ]
  },
  {
   "cell_type": "markdown",
   "id": "ee1c679f",
   "metadata": {},
   "source": [
    "Putting this together with our previous result, $\\Delta\\Sigma=I$ yields\n",
    "\\begin{align}\n",
    "\\Sigma=\\frac{1}{e^\\partial-1}.\n",
    "\\end{align}\n",
    "We will now multiply the right hand side by $I=\\smallint \\partial $ to find\n",
    "\\begin{align}\n",
    "\\Sigma=\\smallint\\frac{\\partial}{e^\\partial-1} .\n",
    "\\end{align}\n",
    "Finally we expand the right hand side in a Taylor series:\n",
    "\\begin{align}\n",
    "(\\Sigma f)(x)&=\\left(\\smallint\\sum_{j=0}^\\infty \\frac{B_j}{j!} \\partial^j f\\right)(x)\\\\\n",
    "&=(\\smallint f)(x) + \\sum_{j=1}^\\infty  \\frac{B_j}{j!} \\left[(\\partial^{j-1} f)(x)-\n",
    "(\\partial^{j-1} f)(0)\n",
    "\\right]\n",
    "\\end{align}\n",
    "which can be reorganized into the Euler-Maclauren summation formula\n",
    "\\begin{align}\n",
    "\\int_0^x f(y) dy &= \\sum_{y=0}^{x-1} f(y) - \\sum_{j=1}^\\infty \\frac{B_j}{j!} \\left[(\\partial^{j-1} f)(x)-\n",
    "(\\partial^{j-1} f)(0)\n",
    "\\right]\\\\\n",
    "&= \\sum_{y=0}^{x-1} f(y) + \\frac{1}{2}[f(x)-f(0)] + \\frac{B_2}{2} [f'(x)-f'(0)]+\\cdots\n",
    "\\end{align}\n",
    "The first two terms give you the trapezoid rule.  Subsequent terms give you corrections in terms of derivatives of the function at the bounds.\n",
    "\n",
    "This may seem strange that knowledge about the behaviour of the function at the boundaries so strongly constrain the integral.  This is a peculiarity of analytic functions."
   ]
  },
  {
   "cell_type": "markdown",
   "id": "2e5df2b4-e9a9-4b2b-9809-05a1aef89a3b",
   "metadata": {},
   "source": [
    "Finally we rescale the axis, taking the bounds of the integral to go from $a$ to $b$.  Thus we define $s=a+b y/n$, and $g(s)=f(n(s-a)/b)$.  Straightforward arithmetic then gives  "
   ]
  },
  {
   "cell_type": "markdown",
   "id": "8c17a6dc-6fb3-42f2-aefe-25e518e3f844",
   "metadata": {},
   "source": [
    "\\begin{align}\n",
    "\\int_a^b g(s) ds &= \\frac{1}{n}\\sum_{m=0}^{n-1} g(s_m) - \\sum_{j=1}^\\infty \\frac{B_j}{j!}\\frac{1}{n^j} \\left[(\\partial^{j-1} g)(b)-\n",
    "(\\partial^{j-1} g)(a)\n",
    "\\right]\\\\\n",
    "&= \\frac{1}{n}\\sum_{m=0}^{x-1} g(s_m) + \\frac{1}{2n}[g(b)-g(a)] + \\frac{B_2}{2n^2} [g'(b)-g'(a)]+O(n^{-3})\n",
    "\\end{align}"
   ]
  },
  {
   "cell_type": "markdown",
   "id": "9eca779d",
   "metadata": {},
   "source": [
    "<div style=\"border: 2px solid white; border-radius: 10px; padding: 20px; background-color:white; color:black; height: 500px\" >\n",
    "</div>"
   ]
  },
  {
   "cell_type": "markdown",
   "id": "78cebcc9",
   "metadata": {},
   "source": [
    "## Improving our trapezoid rule integrator"
   ]
  },
  {
   "cell_type": "markdown",
   "id": "aac4edb2-cb12-4538-ac9f-6c6ec9f2c01e",
   "metadata": {},
   "source": [
    "As a reminder, here is our naive implementation of the trapezoid rule"
   ]
  },
  {
   "cell_type": "code",
   "execution_count": 29,
   "id": "d475d304",
   "metadata": {},
   "outputs": [
    {
     "data": {
      "text/plain": [
       "naive_trap (generic function with 4 methods)"
      ]
     },
     "execution_count": 29,
     "metadata": {},
     "output_type": "execute_result"
    }
   ],
   "source": [
    "function naive_trap(f,range,n)\n",
    "    result=0.\n",
    "    xmin=range[1]\n",
    "    xmax=range[2]\n",
    "    dx=(xmax-xmin)/n\n",
    "    for j in 1:n\n",
    "        x1=xmin+(j-1)*dx\n",
    "        x2=x1+dx\n",
    "        result+= (f(x2)+f(x1))*dx/2\n",
    "    end\n",
    "    return result\n",
    "end"
   ]
  },
  {
   "cell_type": "markdown",
   "id": "c171aa74",
   "metadata": {},
   "source": [
    "**Algorithmic Inefficiencies:** \n",
    "\n",
    "* The function `f` is evaluated twice at every location. \n",
    "* We have `2n` muliplications by `dx`.  \n",
    "* We don't use Richardson   \n",
    "\n",
    "**Inconveniences:** \n",
    "\n",
    "* We need to specify `n`, the number of trapezoids, \n",
    "* We don't know how accurate our result is"
   ]
  },
  {
   "cell_type": "markdown",
   "id": "14cb0e06-69f5-4327-a560-7f7766e656f0",
   "metadata": {},
   "source": [
    "Note, as discussed at the end of this notebook, there are other more subtle inefficiencies due to actual implementation by the compiler. "
   ]
  },
  {
   "cell_type": "markdown",
   "id": "c889714a",
   "metadata": {},
   "source": [
    "### Fixing the most obvious inefficiency"
   ]
  },
  {
   "cell_type": "markdown",
   "id": "771d0e20",
   "metadata": {},
   "source": [
    "The factor of 2 is easy to fix.  Instead of looping over the trapezoids we loop over the points."
   ]
  },
  {
   "cell_type": "code",
   "execution_count": 40,
   "id": "c3969732",
   "metadata": {},
   "outputs": [
    {
     "data": {
      "text/plain": [
       "trap"
      ]
     },
     "execution_count": 40,
     "metadata": {},
     "output_type": "execute_result"
    }
   ],
   "source": [
    "\"\"\"\n",
    "    trap(f,range,n)\n",
    "\n",
    "is an implementation of the trapezoid rule for calculating\n",
    "`∫f(x)dx`, with `x` running between `a` and `b` where `range=(a,b)`.\n",
    "The integral region is divided into `n` trapezoids.\n",
    "\"\"\"\n",
    "function trap(f,range,n)\n",
    "    xmin=range[1]\n",
    "    xmax=range[2]\n",
    "    dx=(xmax-xmin)/n \n",
    "    result=(f(xmin)+f(xmax))/2\n",
    "    for j in 1:n-1\n",
    "        result+= f(j*dx)\n",
    "    end\n",
    "    return result*dx\n",
    "end"
   ]
  },
  {
   "cell_type": "markdown",
   "id": "e27c2836",
   "metadata": {},
   "source": [
    "To see a speed difference, however, one needs to go to a more complicated integrand and a very large number of trapezoids.  "
   ]
  },
  {
   "cell_type": "code",
   "execution_count": 38,
   "id": "dcb1110e",
   "metadata": {},
   "outputs": [
    {
     "name": "stdout",
     "output_type": "stream",
     "text": [
      "  0.139106 seconds (5.57 k allocations: 380.375 KiB, 4.32% compilation time)\n"
     ]
    },
    {
     "data": {
      "text/plain": [
       "1.1222120074972937"
      ]
     },
     "execution_count": 38,
     "metadata": {},
     "output_type": "execute_result"
    }
   ],
   "source": [
    "@time naive_trap(x->sin(log(cos(x)^2+1)),(0.,pi),2^22)"
   ]
  },
  {
   "cell_type": "code",
   "execution_count": 39,
   "id": "a8fccbde",
   "metadata": {},
   "outputs": [
    {
     "name": "stdout",
     "output_type": "stream",
     "text": [
      "  0.071102 seconds (5.58 k allocations: 370.992 KiB, 6.57% compilation time)\n"
     ]
    },
    {
     "data": {
      "text/plain": [
       "1.1222120074973119"
      ]
     },
     "execution_count": 39,
     "metadata": {},
     "output_type": "execute_result"
    }
   ],
   "source": [
    "@time trap(x->sin(log(cos(x)^2+1.)),(0.,pi),2^22)"
   ]
  },
  {
   "cell_type": "code",
   "execution_count": 44,
   "id": "749f66d0-08a0-4a7a-b29a-151346464f44",
   "metadata": {},
   "outputs": [
    {
     "name": "stdout",
     "output_type": "stream",
     "text": [
      "  0.069529 seconds (5.46 k allocations: 363.070 KiB, 7.31% compilation time)\n"
     ]
    },
    {
     "data": {
      "text/plain": [
       "1.1222120074971986"
      ]
     },
     "execution_count": 44,
     "metadata": {},
     "output_type": "execute_result"
    }
   ],
   "source": [
    "@time trap(x->sin(log(cos(x)^2+1.)),(0.,pi),2^22)"
   ]
  },
  {
   "cell_type": "markdown",
   "id": "45e9827c",
   "metadata": {},
   "source": [
    "For smaller number of trapezoids, or simpler integrands, the time is dominated by the compiling, and this factor of 2 is irrelevant.  Note, for this example we used 4 million points -- which was certainly overkill"
   ]
  },
  {
   "cell_type": "code",
   "execution_count": null,
   "id": "947acbdc-621f-4b49-a579-b829a3bb41c4",
   "metadata": {},
   "outputs": [],
   "source": [
    "2^22"
   ]
  },
  {
   "cell_type": "code",
   "execution_count": null,
   "id": "4e2ff5f8",
   "metadata": {},
   "outputs": [],
   "source": [
    "@time naive_trap(x->x^3,(0.,1.),1000)"
   ]
  },
  {
   "cell_type": "code",
   "execution_count": null,
   "id": "cdf97179",
   "metadata": {},
   "outputs": [],
   "source": [
    "@time trap(x->x^3,(0.,1.),1000)"
   ]
  },
  {
   "cell_type": "markdown",
   "id": "a72c86cb",
   "metadata": {},
   "source": [
    "### Dynamic step size"
   ]
  },
  {
   "cell_type": "markdown",
   "id": "0bf7f754",
   "metadata": {},
   "source": [
    "Lets implement a strategy from *Numerical Recipies* which does the Trapezoid rule with dynamic step sizes"
   ]
  },
  {
   "cell_type": "markdown",
   "id": "a1dbb849",
   "metadata": {},
   "source": [
    "One reason I want to go through it, is that it introduces some useful computer science -- namely using *objects*.  *Objects* are the nouns of programs -- just as *functions* are the verbs."
   ]
  },
  {
   "cell_type": "markdown",
   "id": "79a0a788",
   "metadata": {},
   "source": [
    "This approach uses subdivides the integral into $n=2^m$ trapezoids.  We are going to sequentially increase $m$ until we achieve our desired accuracy.  In order to do this we define an object `trap_data` which stores information about the integral that you are using, and an interim result."
   ]
  },
  {
   "cell_type": "code",
   "execution_count": 49,
   "id": "348c2ec1",
   "metadata": {},
   "outputs": [
    {
     "data": {
      "text/plain": [
       "subdivide!"
      ]
     },
     "execution_count": 49,
     "metadata": {},
     "output_type": "execute_result"
    }
   ],
   "source": [
    "\"\"\"\n",
    "    trap_data(f,range)\n",
    "\n",
    "stores the intermediate information for our trapezoid rule. \n",
    "\n",
    "Fields:\n",
    "    f       # store the function we are integrating\n",
    "    range   # store the range (a,b)\n",
    "    val     # trapezoid rule integral at current depth, m\n",
    "    m       # depth -- number of trapezoids = 2ᵐ\n",
    "\n",
    "To increase the depth use command `subdivide!` or `subdivide`.\n",
    "\n",
    "\"\"\"\n",
    "mutable struct trap_data\n",
    "    f       # store the function we are integrating\n",
    "    range   # store the range (a,b)\n",
    "    val     # trapezoid rule integral at current depth, m\n",
    "    m       # depth -- number of trapezoids = 2ᵐ\n",
    "    function trap_data(f,range)\n",
    "        new(f,range,(f(range[1])+f(range[2]))*(range[2]-range[1])/2,0)\n",
    "    end\n",
    "end\n",
    "\n",
    "\"\"\"\n",
    "    subdivide!(data ::trap_data)\n",
    "takes a `trapdata` object, and doubles the number of gridpoints in the integral.\n",
    "\"\"\"\n",
    "function subdivide!(data ::trap_data)\n",
    "    # Extract needed info from `data`\n",
    "    f=data.f\n",
    "    m=data.m+1\n",
    "    result=zero(data.val)\n",
    "    (a,b)=data.range\n",
    "    # Width of new rectangles\n",
    "    dx=(b-a)/2^m\n",
    "    for x in dx:dx*2:dx*(2^m-1)\n",
    "        result+=f(a+x)*dx\n",
    "    end\n",
    "    result=result+data.val/2\n",
    "    # Update data\n",
    "    data.m=m\n",
    "    data.val=result\n",
    "end"
   ]
  },
  {
   "cell_type": "code",
   "execution_count": 47,
   "id": "3667d233-5a6a-4c89-8e25-6f455e0b2e37",
   "metadata": {},
   "outputs": [
    {
     "name": "stdout",
     "output_type": "stream",
     "text": [
      "1.0\n",
      "1.5\n",
      "2.0\n",
      "2.5\n",
      "3.0\n",
      "3.5\n",
      "4.0\n",
      "4.5\n",
      "5.0\n",
      "5.5\n",
      "6.0\n",
      "6.5\n",
      "7.0\n",
      "7.5\n",
      "8.0\n",
      "8.5\n",
      "9.0\n",
      "9.5\n",
      "10.0\n",
      "10.5\n",
      "11.0\n",
      "11.5\n",
      "12.0\n",
      "12.5\n",
      "13.0\n",
      "13.5\n",
      "14.0\n",
      "14.5\n",
      "15.0\n",
      "15.5\n",
      "16.0\n",
      "16.5\n",
      "17.0\n",
      "17.5\n",
      "18.0\n",
      "18.5\n",
      "19.0\n",
      "19.5\n",
      "20.0\n",
      "20.5\n",
      "21.0\n",
      "21.5\n",
      "22.0\n",
      "22.5\n",
      "23.0\n",
      "23.5\n",
      "24.0\n",
      "24.5\n",
      "25.0\n"
     ]
    }
   ],
   "source": [
    "for x in 1:0.5:25\n",
    "    println(x)\n",
    "end"
   ]
  },
  {
   "cell_type": "markdown",
   "id": "883ec071",
   "metadata": {},
   "source": [
    "We will learn more about this syntax as the course progresses.  Nevertheless, to see how this work, we create one of our data objects"
   ]
  },
  {
   "cell_type": "code",
   "execution_count": 50,
   "id": "5b1025c0",
   "metadata": {},
   "outputs": [
    {
     "data": {
      "text/plain": [
       "trap_data(var\"#64#65\"(), (1, 3), 28.0, 0)"
      ]
     },
     "execution_count": 50,
     "metadata": {},
     "output_type": "execute_result"
    }
   ],
   "source": [
    "td1=trap_data(x->x^3,(1,3))"
   ]
  },
  {
   "cell_type": "markdown",
   "id": "ee5ee8c8",
   "metadata": {},
   "source": [
    "We can extract the stored information with a dot"
   ]
  },
  {
   "cell_type": "code",
   "execution_count": 51,
   "id": "d0717e28",
   "metadata": {},
   "outputs": [
    {
     "data": {
      "text/plain": [
       "(1, 3)"
      ]
     },
     "execution_count": 51,
     "metadata": {},
     "output_type": "execute_result"
    }
   ],
   "source": [
    "td1.range"
   ]
  },
  {
   "cell_type": "code",
   "execution_count": 52,
   "id": "a7f5dad4",
   "metadata": {},
   "outputs": [
    {
     "data": {
      "text/plain": [
       "64"
      ]
     },
     "execution_count": 52,
     "metadata": {},
     "output_type": "execute_result"
    }
   ],
   "source": [
    "td1.f(4)"
   ]
  },
  {
   "cell_type": "code",
   "execution_count": 56,
   "id": "aef90a19-86a9-4614-a64b-6d8b64288030",
   "metadata": {},
   "outputs": [
    {
     "data": {
      "text/plain": [
       "#64 (generic function with 1 method)"
      ]
     },
     "execution_count": 56,
     "metadata": {},
     "output_type": "execute_result"
    }
   ],
   "source": [
    "g=td1.f"
   ]
  },
  {
   "cell_type": "code",
   "execution_count": 57,
   "id": "09c2e45b-cce2-4f87-bc09-54885db8b2ed",
   "metadata": {},
   "outputs": [
    {
     "data": {
      "text/plain": [
       "343"
      ]
     },
     "execution_count": 57,
     "metadata": {},
     "output_type": "execute_result"
    }
   ],
   "source": [
    "g(7)"
   ]
  },
  {
   "cell_type": "code",
   "execution_count": 58,
   "id": "0f6c3d3a-e911-4aa4-9406-b68772516d57",
   "metadata": {},
   "outputs": [
    {
     "data": {
      "text/plain": [
       "(1, 3)"
      ]
     },
     "execution_count": 58,
     "metadata": {},
     "output_type": "execute_result"
    }
   ],
   "source": [
    "r=td1.range"
   ]
  },
  {
   "cell_type": "code",
   "execution_count": 53,
   "id": "ea80d967",
   "metadata": {},
   "outputs": [
    {
     "data": {
      "text/plain": [
       "28.0"
      ]
     },
     "execution_count": 53,
     "metadata": {},
     "output_type": "execute_result"
    }
   ],
   "source": [
    "td1.val"
   ]
  },
  {
   "cell_type": "code",
   "execution_count": 54,
   "id": "20af9f37",
   "metadata": {},
   "outputs": [
    {
     "data": {
      "text/plain": [
       "0"
      ]
     },
     "execution_count": 54,
     "metadata": {},
     "output_type": "execute_result"
    }
   ],
   "source": [
    "td1.m"
   ]
  },
  {
   "cell_type": "code",
   "execution_count": 55,
   "id": "d76832ce",
   "metadata": {},
   "outputs": [
    {
     "data": {
      "text/plain": [
       "28.0"
      ]
     },
     "execution_count": 55,
     "metadata": {},
     "output_type": "execute_result"
    }
   ],
   "source": [
    "naive_trap(td1.f,td1.range,2^td1.m)"
   ]
  },
  {
   "cell_type": "markdown",
   "id": "94035419",
   "metadata": {},
   "source": [
    "We can then use the `subdivide!` function to break the integral into more pieces"
   ]
  },
  {
   "cell_type": "code",
   "execution_count": 60,
   "id": "d2a913d6",
   "metadata": {},
   "outputs": [
    {
     "data": {
      "text/plain": [
       "22.0"
      ]
     },
     "execution_count": 60,
     "metadata": {},
     "output_type": "execute_result"
    }
   ],
   "source": [
    "subdivide!(td1)"
   ]
  },
  {
   "cell_type": "code",
   "execution_count": 61,
   "id": "5d71a807-20b1-47d8-91c7-0a94d00df6e4",
   "metadata": {},
   "outputs": [
    {
     "data": {
      "text/plain": [
       "1"
      ]
     },
     "execution_count": 61,
     "metadata": {},
     "output_type": "execute_result"
    }
   ],
   "source": [
    "td1.m"
   ]
  },
  {
   "cell_type": "code",
   "execution_count": 62,
   "id": "ce56cdf1",
   "metadata": {},
   "outputs": [
    {
     "data": {
      "text/plain": [
       "(1, 22.0, 22.0)"
      ]
     },
     "execution_count": 62,
     "metadata": {},
     "output_type": "execute_result"
    }
   ],
   "source": [
    "(td1.m,td1.val,naive_trap(x->x^3,(1,3),2^td1.m))"
   ]
  },
  {
   "cell_type": "code",
   "execution_count": 63,
   "id": "b0b6f9f2",
   "metadata": {},
   "outputs": [
    {
     "data": {
      "text/plain": [
       "20.5"
      ]
     },
     "execution_count": 63,
     "metadata": {},
     "output_type": "execute_result"
    }
   ],
   "source": [
    "subdivide!(td1)"
   ]
  },
  {
   "cell_type": "code",
   "execution_count": 64,
   "id": "aaa93d82",
   "metadata": {},
   "outputs": [
    {
     "data": {
      "text/plain": [
       "(2, 20.5, 20.5)"
      ]
     },
     "execution_count": 64,
     "metadata": {},
     "output_type": "execute_result"
    }
   ],
   "source": [
    "(td1.m,td1.val,naive_trap(x->x^3,(1,3),2^td1.m))"
   ]
  },
  {
   "cell_type": "markdown",
   "id": "70c21432",
   "metadata": {},
   "source": [
    "Every time we call subdivide we increase the number of trapezoids.  However, we just evaluate `f` at the new points."
   ]
  },
  {
   "cell_type": "markdown",
   "id": "1e17989b",
   "metadata": {},
   "source": [
    "We now just need to wrap this in a function which calls subdivide until we hit some convergence criterion.  We will use that the fractional change in the integral falls below some threshold -- that we will call `eps`."
   ]
  },
  {
   "cell_type": "code",
   "execution_count": 66,
   "id": "37856948",
   "metadata": {},
   "outputs": [
    {
     "data": {
      "text/plain": [
       "nrtrap"
      ]
     },
     "execution_count": 66,
     "metadata": {},
     "output_type": "execute_result"
    }
   ],
   "source": [
    "\"\"\"\n",
    "`nrtrap(f,range;namedargs...)`\n",
    "\n",
    "Uses the trapezoid rule algorithm from Numerical Recipies to calculate ``\\\\int_a^b f(x) dx``\n",
    "where `range=(a,b)`.\n",
    "\n",
    "`namedargs`\n",
    "- `eps=1E-10`: algorithm terminates when relative change in integral falls below `eps`\n",
    "- `max_divisions=20`: make no more than `max_divisions` subdivisions\n",
    "- `debug=false`: set to `true` to see debug informations\n",
    "\n",
    "\"\"\"\n",
    "function nrtrap(f,range;eps=1E-10,max_divisions=20,debug=false)\n",
    "    data=trap_data(f,range)\n",
    "    oldval=0.\n",
    "    val=0.\n",
    "    for j in 1:max_divisions\n",
    "        oldval=data.val\n",
    "        subdivide!(data)\n",
    "        val=data.val\n",
    "        if abs(val-oldval)<eps*abs(oldval) || (val==0 && oldval==0)\n",
    "            if debug\n",
    "                print(\"converged after \"*string(j)*\" iterations\")\n",
    "            end\n",
    "            return val\n",
    "        end\n",
    "    end\n",
    "    error(\"Did not converge to precision \"*string(eps)*\n",
    "          \"after \"*string(max_divisions)*\" subdivisions.\"*\n",
    "          \"previous 2 results: (\"*string(oldval)*\n",
    "          \",\"*string(val)*\")\")\n",
    "end"
   ]
  },
  {
   "cell_type": "code",
   "execution_count": 65,
   "id": "da046b3e-9789-4b44-9b41-c25f38e11635",
   "metadata": {},
   "outputs": [
    {
     "data": {
      "text/plain": [
       "\"ab\""
      ]
     },
     "execution_count": 65,
     "metadata": {},
     "output_type": "execute_result"
    }
   ],
   "source": [
    "\"a\"*\"b\""
   ]
  },
  {
   "cell_type": "code",
   "execution_count": 67,
   "id": "9f372114",
   "metadata": {},
   "outputs": [
    {
     "name": "stdout",
     "output_type": "stream",
     "text": [
      "converged after 18 iterations"
     ]
    },
    {
     "data": {
      "text/plain": [
       "0.25000000000363815"
      ]
     },
     "execution_count": 67,
     "metadata": {},
     "output_type": "execute_result"
    }
   ],
   "source": [
    "nrtrap(x->x^3,(0,1),debug=true)"
   ]
  },
  {
   "cell_type": "code",
   "execution_count": 68,
   "id": "66177233",
   "metadata": {},
   "outputs": [
    {
     "name": "stdout",
     "output_type": "stream",
     "text": [
      "converged after 18 iterations"
     ]
    },
    {
     "data": {
      "text/plain": [
       "0.20000000000485063"
      ]
     },
     "execution_count": 68,
     "metadata": {},
     "output_type": "execute_result"
    }
   ],
   "source": [
    "nrtrap(x->x^4,(0,1),debug=true)"
   ]
  },
  {
   "cell_type": "markdown",
   "id": "1785eb14",
   "metadata": {},
   "source": [
    "It is a simple change to upgrade this to Simpson's rule"
   ]
  },
  {
   "cell_type": "code",
   "execution_count": 70,
   "id": "aa642b3a",
   "metadata": {},
   "outputs": [
    {
     "data": {
      "text/plain": [
       "nrsimp"
      ]
     },
     "execution_count": 70,
     "metadata": {},
     "output_type": "execute_result"
    }
   ],
   "source": [
    "\"\"\"\n",
    "`nrsimp(f,range;namedargs...)`\n",
    "\n",
    "Uses the Simpson's rule algorithm from Numerical Recipies to calculate ``\\\\int_a^b f(x) dx``\n",
    "where `range=(a,b)`.\n",
    "\n",
    "`namedargs`\n",
    "- `eps=1E-10`: algorithm terminates when relative change in integral falls below `eps`\n",
    "- `max_divisions=20`: make no more than `max_divisions` subdivisions\n",
    "- `debug=false`: set to `true` to see debug informations\n",
    "\n",
    "\"\"\"\n",
    "function nrsimp(f,range;eps=1E-10,max_divisions=20,debug=false)\n",
    "    data=trap_data(f,range)\n",
    "    oldtrapval=data.val\n",
    "    subdivide!(data)\n",
    "    trapval=data.val\n",
    "    sval=(4*trapval-oldtrapval)/3\n",
    "    oldsval=sval\n",
    "    for j in 2:max_divisions\n",
    "        oldtrapval=trapval\n",
    "        oldsval=sval\n",
    "        subdivide!(data)\n",
    "        trapval=data.val\n",
    "        sval=(4*trapval-oldtrapval)/3\n",
    "        if abs(sval-oldsval)<eps*abs(oldsval) || (sval==0 && oldsval==0)\n",
    "            if debug\n",
    "                print(\"converged after \"*string(j)*\" iterations\")\n",
    "            end\n",
    "            return sval\n",
    "        end\n",
    "    end\n",
    "    error(\"Did not converge to precision \"*string(eps)*\n",
    "          \"after \"*string(max_divisions)*\" subdivisions.\"*\n",
    "          \"previous 2 results: (\"*string(oldsval)*\n",
    "          \",\"*string(sval)*\")\")\n",
    "end"
   ]
  },
  {
   "cell_type": "code",
   "execution_count": 71,
   "id": "b4dc9bf8",
   "metadata": {},
   "outputs": [
    {
     "name": "stdout",
     "output_type": "stream",
     "text": [
      "converged after 10 iterations"
     ]
    },
    {
     "data": {
      "text/plain": [
       "8.153364119820747"
      ]
     },
     "execution_count": 71,
     "metadata": {},
     "output_type": "execute_result"
    }
   ],
   "source": [
    "nrsimp(x->x^4*log(x+sqrt(1+x^2)),(0,2),debug=true)"
   ]
  },
  {
   "cell_type": "code",
   "execution_count": 72,
   "id": "2f24732b",
   "metadata": {},
   "outputs": [
    {
     "name": "stdout",
     "output_type": "stream",
     "text": [
      "converged after 18 iterations"
     ]
    },
    {
     "data": {
      "text/plain": [
       "8.153364120069917"
      ]
     },
     "execution_count": 72,
     "metadata": {},
     "output_type": "execute_result"
    }
   ],
   "source": [
    "nrtrap(x->x^4*log(x+sqrt(1+x^2)),(0,2),debug=true)"
   ]
  },
  {
   "cell_type": "code",
   "execution_count": 74,
   "id": "24aab49f-ecca-4367-bdfe-1d1c330ef1b5",
   "metadata": {},
   "outputs": [
    {
     "data": {
      "text/plain": [
       "1024"
      ]
     },
     "execution_count": 74,
     "metadata": {},
     "output_type": "execute_result"
    }
   ],
   "source": [
    "2^10"
   ]
  },
  {
   "cell_type": "code",
   "execution_count": 75,
   "id": "9b093055-f0c6-491b-8b6d-6190075c2df1",
   "metadata": {},
   "outputs": [
    {
     "data": {
      "text/plain": [
       "262144"
      ]
     },
     "execution_count": 75,
     "metadata": {},
     "output_type": "execute_result"
    }
   ],
   "source": [
    "2^18"
   ]
  },
  {
   "cell_type": "markdown",
   "id": "c93aad67",
   "metadata": {},
   "source": [
    "<div style=\"border: 2px solid white; border-radius: 10px; padding: 20px; background-color:white; color:black; height: 500px\" >\n",
    "</div>"
   ]
  },
  {
   "cell_type": "markdown",
   "id": "7fb9e190",
   "metadata": {},
   "source": [
    "## Optimization"
   ]
  },
  {
   "cell_type": "markdown",
   "id": "307457fa",
   "metadata": {},
   "source": [
    "I probably won't get to this in class -- but you may find it useful to read."
   ]
  },
  {
   "cell_type": "markdown",
   "id": "37ad2885",
   "metadata": {},
   "source": [
    "**Note:  In general optimization is the last thing your should worry about.**\n",
    "\n",
    "First, in a complex program there is usually one or two rate limiting steps.  It is hard to predict what these will be *a-priori*.  Optimization of any part of the code, except those rate limiting steps, is wasted.\n",
    "\n",
    "Second, optimization is complicated.  It depends on not only the programming language, but the implementation of the language, the compiler, the compiler directives...  It is often a trial and error process -- and sometime you discover that your new approach is slower than the old.  In general clean simple code will be fast."
   ]
  },
  {
   "cell_type": "markdown",
   "id": "686126ae",
   "metadata": {},
   "source": [
    "Regardless, lets now see how we are doing with speed"
   ]
  },
  {
   "cell_type": "code",
   "execution_count": null,
   "id": "e7ba53ab",
   "metadata": {},
   "outputs": [],
   "source": [
    "@time nrtrap(x->x^3,(0,1),debug=true)"
   ]
  },
  {
   "cell_type": "code",
   "execution_count": null,
   "id": "1704c1f2",
   "metadata": {},
   "outputs": [],
   "source": [
    "@time naive_trap(x->x^3,(0,1),2^18)"
   ]
  },
  {
   "cell_type": "markdown",
   "id": "3530ead8",
   "metadata": {},
   "source": [
    "Oh no! Our fancy version is about 8 times slower than our naive version.  "
   ]
  },
  {
   "cell_type": "markdown",
   "id": "8b81f7e9",
   "metadata": {},
   "source": [
    "Fixing this is non-trivial, as the speed of these routines depends on low level internals.  If you look at the `@time` statement for our `naive-trap` function, you see that the bulk of the time there is taken in compilation."
   ]
  },
  {
   "cell_type": "markdown",
   "id": "102e6fd2",
   "metadata": {},
   "source": [
    "The other thing to note is that both versions make a large number of `Heap allocations`.  This has to do with the way the fact that we are passing around a function object, and the just-in-time compiler does not know what data type the function returns.  Thus it has to allocate memory in a generic way."
   ]
  },
  {
   "cell_type": "markdown",
   "id": "4c302317",
   "metadata": {},
   "source": [
    "We can fix this by compartmentalizing the functioncalls in our `subdivide!` method."
   ]
  },
  {
   "cell_type": "code",
   "execution_count": null,
   "id": "bbed276c",
   "metadata": {},
   "outputs": [],
   "source": [
    "\"\"\"\n",
    "    alt3_trap_data(f,range)\n",
    "\n",
    "stores the intermediate information for our trapezoid rule. \n",
    "\n",
    "Fields:\n",
    "    f       # store the function we are integrating\n",
    "    range   # store the range (a,b)\n",
    "    val     # trapezoid rule integral at current depth, m\n",
    "    m       # depth -- number of trapezoids = 2ᵐ\n",
    "\n",
    "To increase the depth use command `subdivide!` or `subdivide`.\n",
    "\n",
    "\"\"\"\n",
    "mutable struct alt3_trap_data\n",
    "    f       # store the function we are integrating\n",
    "    range   # store the range (a,b)\n",
    "    val     # trapezoid rule integral at current depth, m\n",
    "    m       # depth -- number of trapezoids = 2ᵐ\n",
    "    function alt3_trap_data(f,range)\n",
    "        new(f,range,(f(range[1])+f(range[2]))*(range[2]-range[1])/2,0)\n",
    "    end\n",
    "end\n",
    "\n",
    "function subdivide!(data ::alt3_trap_data)\n",
    "    # Extract needed info from `data`\n",
    "    f=data.f\n",
    "    m=data.m+1\n",
    "    range=data.range\n",
    "    nextresult=sum_even_points(f,range,2^m)\n",
    "    result=nextresult+data.val/2\n",
    "    # Update data\n",
    "    data.m=m\n",
    "    data.val=result\n",
    "end\n",
    "\n",
    "function sum_even_points(f,range,n)\n",
    "    (a,b)=range\n",
    "    dx=(b-a)/n\n",
    "    result=f(a+dx)*dx\n",
    "    for j in 3:2:n-1\n",
    "        result+=f(a+j*dx)*dx\n",
    "    end\n",
    "    return result\n",
    "end\n",
    "\n",
    "\"\"\"\n",
    "`alt3_nrtrap(f,range;namedargs...)`\n",
    "\n",
    "Uses the trapezoid rule algorithm from Numerical Recipies to calculate ``\\\\int_a^b f(x) dx``\n",
    "where `range=(a,b)`.\n",
    "\n",
    "`namedargs`\n",
    "- `eps=1E-10`: algorithm terminates when relative change in integral falls below `eps`\n",
    "- `max_divisions=20`: make no more than `max_divisions` subdivisions\n",
    "- `debug=false`: set to `true` to see debug informations\n",
    "\n",
    "\"\"\"\n",
    "function alt3_nrtrap(f,range;eps=1E-10,max_divisions=20,debug=false)\n",
    "    data=alt3_trap_data(f,range)\n",
    "    oldval=0.\n",
    "    val=0.\n",
    "    for j in 1:max_divisions\n",
    "        oldval=data.val\n",
    "        subdivide!(data)\n",
    "        val=data.val\n",
    "        if abs(val-oldval)<eps*abs(oldval) || (val==0 && oldval==0)\n",
    "            if debug\n",
    "                print(\"converged after \"*string(j)*\" iterations\")\n",
    "            end\n",
    "            return val\n",
    "        end\n",
    "    end\n",
    "    error(\"Did not converge to precision \"*string(eps)*\n",
    "          \"after \"*string(max_divisions)*\" subdivisions.\"*\n",
    "          \"previous 2 results: (\"*string(oldval)*\n",
    "          \",\"*string(val)*\")\")\n",
    "end"
   ]
  },
  {
   "cell_type": "code",
   "execution_count": null,
   "id": "1d75712d",
   "metadata": {},
   "outputs": [],
   "source": [
    "@time nrtrap(x->x^3,(0.,1.),debug=true)"
   ]
  },
  {
   "cell_type": "code",
   "execution_count": null,
   "id": "a47d1771",
   "metadata": {},
   "outputs": [],
   "source": [
    "@time alt3_nrtrap(x->x^3,(0.,1.),debug=true)"
   ]
  },
  {
   "cell_type": "markdown",
   "id": "1300dd46",
   "metadata": {},
   "source": [
    "Apparently we got somewhere between a factor of 5-10 speedup"
   ]
  },
  {
   "cell_type": "markdown",
   "id": "060b465e",
   "metadata": {},
   "source": [
    "We can do even better if we tell the compiler what types to expect from the function we are integrating"
   ]
  },
  {
   "cell_type": "code",
   "execution_count": null,
   "id": "c47bffd7",
   "metadata": {},
   "outputs": [],
   "source": [
    "function f1(x::Float64)::Float64\n",
    "    return x^3\n",
    "end"
   ]
  },
  {
   "cell_type": "code",
   "execution_count": null,
   "id": "e4f922a5",
   "metadata": {},
   "outputs": [],
   "source": [
    "@time alt3_nrtrap(f1,(0.,1.),debug=true)"
   ]
  },
  {
   "cell_type": "markdown",
   "id": "36a76f0a",
   "metadata": {},
   "source": [
    "This gave us another factor of 20 in speed!!  Note the drastic reduction in heap allocations."
   ]
  },
  {
   "cell_type": "markdown",
   "id": "650c68f7",
   "metadata": {},
   "source": [
    "Lets see how this tweek behaves for our original implementation:"
   ]
  },
  {
   "cell_type": "code",
   "execution_count": null,
   "id": "ed075148",
   "metadata": {},
   "outputs": [],
   "source": [
    "@time nrtrap(f1,(0.,1.),debug=true)"
   ]
  },
  {
   "cell_type": "markdown",
   "id": "72680aa5",
   "metadata": {},
   "source": [
    "Apparently the original form did not benefit at all from declaring the types for the input function."
   ]
  },
  {
   "cell_type": "markdown",
   "id": "8e2fc7fd",
   "metadata": {},
   "source": [
    "**Optimization is hard!**"
   ]
  }
 ],
 "metadata": {
  "@webio": {
   "lastCommId": "77f08ad4ac8940cd8ab27b4702e92d5b",
   "lastKernelId": "0792c523-c080-4b69-9e19-1405d72de3c0"
  },
  "kernelspec": {
   "display_name": "Julia 1.10.4",
   "language": "julia",
   "name": "julia-1.10"
  },
  "language_info": {
   "file_extension": ".jl",
   "mimetype": "application/julia",
   "name": "julia",
   "version": "1.10.4"
  }
 },
 "nbformat": 4,
 "nbformat_minor": 5
}
