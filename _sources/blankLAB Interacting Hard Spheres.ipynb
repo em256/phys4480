{
 "cells": [
  {
   "cell_type": "markdown",
   "id": "3c4a75dc-5a4e-440b-852c-e053ce362d6a",
   "metadata": {},
   "source": [
    "# LAB -- Interacting Hard Spheres"
   ]
  },
  {
   "cell_type": "markdown",
   "id": "1447d112-32a8-4d1c-b23c-cc8f9b6ff4fb",
   "metadata": {
    "editable": true,
    "slideshow": {
     "slide_type": ""
    },
    "tags": []
   },
   "source": [
    "**Please write your name in this box**"
   ]
  },
  {
   "cell_type": "markdown",
   "id": "95f01f00-715f-419a-b764-053461b08478",
   "metadata": {},
   "source": []
  },
  {
   "cell_type": "markdown",
   "id": "412ab45f-b532-4f66-b9ee-4cecdf012975",
   "metadata": {},
   "source": [
    "*We encourage you to work together, and seek whatever help you need in completing this lab.  Please list all people who you worked with or received help from*"
   ]
  },
  {
   "cell_type": "markdown",
   "id": "5de09c25-13e2-4782-968a-ceb3b66af3af",
   "metadata": {},
   "source": []
  },
  {
   "cell_type": "markdown",
   "id": "893aacf8-9f29-498d-9652-1004b0b79fcc",
   "metadata": {},
   "source": [
    "*We encourage you to use any online resources that you find useful. Please list any URL's that you consulted*"
   ]
  },
  {
   "cell_type": "markdown",
   "id": "bf1758ba-ca80-4588-b6bc-0392b9bd3688",
   "metadata": {},
   "source": []
  },
  {
   "cell_type": "markdown",
   "id": "d43d4969-349c-41e1-a4e9-bcba9b1a647c",
   "metadata": {},
   "source": [
    "*We encourage you to use AI resources if you find them useful.  If you made use of AI, please list the platform and the prompts which you made use of*"
   ]
  },
  {
   "cell_type": "markdown",
   "id": "8b0df1dc-547e-4c33-a07e-7b130c706ac2",
   "metadata": {},
   "source": []
  },
  {
   "cell_type": "markdown",
   "id": "79cfb242-1d81-4a99-bef9-e1afd7ef7844",
   "metadata": {},
   "source": [
    "## Load in Packages, and set up logger"
   ]
  },
  {
   "cell_type": "code",
   "execution_count": 1,
   "id": "c2c2cbcd-76d0-4851-8e8e-325b6f6d5a7e",
   "metadata": {},
   "outputs": [],
   "source": [
    "using Plots,Logging,ProgressMeter,LinearAlgebra"
   ]
  },
  {
   "cell_type": "markdown",
   "id": "fa646fda-9055-4949-a478-d4ab79eeda58",
   "metadata": {
    "editable": true,
    "slideshow": {
     "slide_type": ""
    },
    "tags": []
   },
   "source": [
    "Set up Logger"
   ]
  },
  {
   "cell_type": "code",
   "execution_count": 2,
   "id": "3eae0230-0b52-4826-b4a5-ea413dfed499",
   "metadata": {
    "editable": true,
    "slideshow": {
     "slide_type": ""
    },
    "tags": []
   },
   "outputs": [],
   "source": [
    "default_logger=global_logger()\n",
    "debug_logger=ConsoleLogger(stderr, Logging.Debug); # set up logger"
   ]
  },
  {
   "cell_type": "markdown",
   "id": "172e8163-7c13-4013-97dc-8ea047efd6cd",
   "metadata": {},
   "source": [
    "To turn on debug logger as the global logger type\n",
    "\n",
    "    global_logger(debug_logger)\n",
    "\n",
    "to turn it off type\n",
    "\n",
    "    global_logger(default_logger)"
   ]
  },
  {
   "cell_type": "markdown",
   "id": "da4814e8-8aa0-4c40-813b-0b24414fe327",
   "metadata": {},
   "source": [
    "## Goal"
   ]
  },
  {
   "cell_type": "markdown",
   "id": "090bb4f4-49ac-48c6-83bb-c9058907c584",
   "metadata": {},
   "source": [
    "Here you are going to upgrade our Billiard code to handle interacting hard spheres.  By simulating a large number of such spheres we will be able to explore the kinetic theory of gases, and start thinking about statistical mechanics."
   ]
  },
  {
   "cell_type": "markdown",
   "id": "12cacd5a-6ccc-4bf5-a6c9-1f48172cedf3",
   "metadata": {},
   "source": [
    "We will again do an `event driven simulation`.  Each ball will have a `nextevent` attribute, which tells what it will next bounce off of, and when.\n",
    "\n",
    "At each step in the main loop we will figure out which ball has the next collision event -- which could be bouncing off of a wall, or it could be bouncing off of another ball.  We then time evolve up to that point.  We then update all of the `nextevent` fields, and repeat.\n",
    "\n",
    "We will first do a naive update method which scales quadratically with the number of spheres, $O(N^2)$.  We will then improve that to a linear method, $O(N)$.  We will discuss a $O(N^0)$ method, but will not implement it, as it is a bit of a pain, and our $O(N)$ approach is fast enough for what we want to do. "
   ]
  },
  {
   "cell_type": "markdown",
   "id": "9e320173-e1a6-44ce-a38a-5722c30c3746",
   "metadata": {},
   "source": [
    "The simulation we are producing here can be described as \"hard sphere molecular dynamics\""
   ]
  },
  {
   "cell_type": "markdown",
   "id": "ab7f78b8-3314-40f2-8a41-4e59f92ddd05",
   "metadata": {},
   "source": [
    "You will probably want the `Billiards.ipynb` file open while you work on this, as we follow a very similar plan here."
   ]
  },
  {
   "cell_type": "markdown",
   "id": "42bd3b1e-97ff-4b0c-90b5-26ce68c5ec2d",
   "metadata": {},
   "source": [
    "<h2 style=\"border: 2px solid #000; border-radius: 10px; padding: 20px; background-color:red; color:white;\" >\n",
    "## Activity 1\n",
    "</h2>"
   ]
  },
  {
   "cell_type": "markdown",
   "id": "cd0329b0-dbfc-485e-89c8-98bc87f26fe6",
   "metadata": {},
   "source": [
    "We will use a `Ball` class with the following fields:\n",
    "\n",
    "    mutable struct Ball\n",
    "        x\n",
    "        y \n",
    "        vx \n",
    "        vy \n",
    "        radius \n",
    "        nextevent \n",
    "    end\n",
    "\n",
    "This is similar to our previous Ball class -- but since we are going to have multiple balls, there is no sense having each one keep track of time.  We also added two new attributes, `radius` and  `nextevent`.  These are the ball's radius, and the object which describes the next collision event.\n",
    "\n",
    "For efficiency reason, we are going to hard-code the types for these fields.  (We get about a factor of 5 speedup compared to leaving them untyped.  This is because the compiler can optimize some of the code.)  Thus we need to define a \"Null Event\" object, which can be our default `Event` object."
   ]
  },
  {
   "cell_type": "code",
   "execution_count": 3,
   "id": "3da9faad-1c4e-42e5-80fc-447c20f6dca8",
   "metadata": {},
   "outputs": [],
   "source": [
    "abstract type Event end\n",
    "\n",
    "struct NullEvent <: Event\n",
    "    t ::Float64\n",
    "end\n",
    "\n",
    "NE=NullEvent(Inf)\n",
    "\n",
    "mutable struct Ball\n",
    "    x ::Float64\n",
    "    y ::Float64\n",
    "    vx ::Float64\n",
    "    vy ::Float64\n",
    "    radius ::Float64\n",
    "    nextevent ::Event\n",
    "end"
   ]
  },
  {
   "cell_type": "markdown",
   "id": "1104598f-509e-46f7-a1e1-959793a2653a",
   "metadata": {},
   "source": [
    "This is similar to our previous Ball class -- but since we are going to have multiple balls, there is no sense having each one keep track of time.  We also added two new attributes, `radius` and  `nextevent`.  These are the ball's radius, and the object which describes the next collision event.\n",
    "\n",
    "Based off of the lecture definition, write the following methods:\n",
    "    \n",
    "    set_xv!\n",
    "    set_r!\n",
    "    set_v!\n",
    "    get_r\n",
    "    get_v\n",
    "\n",
    "Also, overload `Base.show`, and make convenience constructors for the `Ball` class.  As a default you can set `nextevent` equal to `NE`.\n",
    "\n",
    "Test these methods."
   ]
  },
  {
   "cell_type": "code",
   "execution_count": null,
   "id": "a6d44b1a-1c2a-4146-8c66-102d79041acf",
   "metadata": {},
   "outputs": [],
   "source": []
  },
  {
   "cell_type": "code",
   "execution_count": null,
   "id": "8684b829-4b06-44db-b634-a8238f5a5aa2",
   "metadata": {},
   "outputs": [],
   "source": []
  },
  {
   "cell_type": "code",
   "execution_count": null,
   "id": "e03d24bb-bee0-4497-abbe-1594dde2837c",
   "metadata": {},
   "outputs": [],
   "source": []
  },
  {
   "cell_type": "markdown",
   "id": "be17ff44-cb28-4ca2-a9b4-1e635085362c",
   "metadata": {},
   "source": [
    "<h2 style=\"border: 2px solid #000; border-radius: 10px; padding: 20px; background-color:red; color:white;\" >\n",
    "## Activity 2\n",
    "</h2>"
   ]
  },
  {
   "cell_type": "markdown",
   "id": "47ca1f1a-c43b-4745-90f8-4c8e844fa900",
   "metadata": {},
   "source": [
    "Here are our `Hwall` and `Vwall` classes.  We will not use `Cwall` in this lab, but if we write everything correctly, it should still work.  As with the `Ball` class, I am hard-coding the type declaration for the positions."
   ]
  },
  {
   "cell_type": "code",
   "execution_count": 6,
   "id": "19af0e28-d20b-419f-8670-64d81f6d1440",
   "metadata": {},
   "outputs": [],
   "source": [
    "abstract type Wall end\n",
    "\n",
    "struct Hwall <: Wall\n",
    "    y ::Float64\n",
    "end\n",
    "\n",
    "struct Vwall <: Wall\n",
    "    x ::Float64\n",
    "end"
   ]
  },
  {
   "cell_type": "markdown",
   "id": "bf13ab12-ea7c-4dbe-9c5b-cb37fade4e32",
   "metadata": {},
   "source": [
    "As in lecture need an `impact_time` method, which finds the but we will need to change it so that it takes 3 variables `impact_time(w::Hwall,b::Ball,t)` -- since our `Ball` objects do not store the time.  \n",
    "\n",
    "Also, since the balls now have finite radius, you need to change the `impact-time` definition so that the collision happens when the edge of the ball hits the wall, not the center.  Here is how I implemented it for the horizontal wall:\n",
    "\n",
    "    function impact_time(w::Hwall,b::Ball,t)\n",
    "        dy=w.y-b.y\n",
    "        return (dy-sign(b.vy)*b.radius)/b.vy+t\n",
    "    end\n",
    "\n",
    "Write the `impact-time` method, and test it.  Make a *method* so that you can call `impact-time` with the Wall and Ball in arbitrary order."
   ]
  },
  {
   "cell_type": "code",
   "execution_count": null,
   "id": "3edaa496-e2f6-41df-b7ae-c0857c5dbb49",
   "metadata": {},
   "outputs": [],
   "source": []
  },
  {
   "cell_type": "code",
   "execution_count": null,
   "id": "d88d6d41-6543-4d9c-8bbe-d651f6732cad",
   "metadata": {},
   "outputs": [],
   "source": []
  },
  {
   "cell_type": "code",
   "execution_count": null,
   "id": "86c67060-0909-4d71-b1a9-f1b143db361b",
   "metadata": {},
   "outputs": [],
   "source": []
  },
  {
   "cell_type": "markdown",
   "id": "b90e03b9-68ba-4685-b4e6-ed86c3f30803",
   "metadata": {},
   "source": [
    "<h2 style=\"border: 2px solid #000; border-radius: 10px; padding: 20px; background-color:red; color:white;\" >\n",
    "## Activity 3\n",
    "</h2>"
   ]
  },
  {
   "cell_type": "markdown",
   "id": "b773cd73-4db8-44d0-9eeb-776873be1543",
   "metadata": {},
   "source": [
    "Next we need to define a method \n",
    "\n",
    "    impact_time(b1::Ball,b2::Ball,t)\n",
    "\n",
    "which tells us when 2 balls will collide.  You should be able to do this by calling the `circ_time` function that we made in class.\n",
    "\n",
    "We will need to call it with `r0=r1-r2`, `v=v1-v2`, and `r=rad1+rad2`,  where `r1` and `r2` are the positions of the two balls, `v1` and `v2` are their velocity vectors, and `rad1` and `rad2` are their radii.  Draw some pictures to convince yourself of the geometry.  You can also imagine doing the problem in different frames.  Convince yourself of the answer when one of the balls is stationary and at the origin.  Then shift frames.\n",
    "\n",
    "We also need to make one change to `circ_time`: if the two balls are closer than `rad1+rad2` you return `Inf`.  That way if round-off error overlaps the balls, it will not cause them to collide on the inside."
   ]
  },
  {
   "cell_type": "code",
   "execution_count": 42,
   "id": "8251d973-ad2f-4142-950f-92f82b3d3031",
   "metadata": {},
   "outputs": [
    {
     "data": {
      "text/plain": [
       "impact_time (generic function with 4 methods)"
      ]
     },
     "execution_count": 42,
     "metadata": {},
     "output_type": "execute_result"
    }
   ],
   "source": [
    "# Here is my code for this\n",
    "\n",
    "function circ_time(r0,v,r)\n",
    "    # Calculate the various terms in our expression\n",
    "    r0dotv=r0⋅v\n",
    "    if r0dotv>0 #moving away from one another\n",
    "        return Inf\n",
    "    end\n",
    "    vsq=v⋅v\n",
    "    r0sq=r0⋅r0\n",
    "    if r0sq<=r^2 #balls are interpenetrating\n",
    "        return Inf\n",
    "    end\n",
    "    discriminant=r0dotv^2+(r^2-r0sq)*vsq  \n",
    "    if discriminant<0 # balls will never hit one-another\n",
    "        return Inf\n",
    "    end\n",
    "    times=[(-r0dotv-sqrt(discriminant))/(vsq),(-r0dotv+sqrt(discriminant))/(vsq)]\n",
    "    t1,t2=minmax(times...)\n",
    "    if t2<=0\n",
    "        return Inf\n",
    "    end\n",
    "    if t1>0\n",
    "        return t1\n",
    "    end\n",
    "    return t2\n",
    "end\n",
    "\n",
    "impact_time(b1::Ball,b2::Ball,t)=\n",
    "    t+circ_time(get_r(b1)-get_r(b2),\n",
    "        get_v(b1)-get_v(b2),b1.radius+b2.radius)"
   ]
  },
  {
   "cell_type": "markdown",
   "id": "1472fa23-cf71-4087-a7a9-07dd317bbead",
   "metadata": {},
   "source": [
    "Come up with some test cases, to see if this function is behaving properly."
   ]
  },
  {
   "cell_type": "code",
   "execution_count": null,
   "id": "dc523066-9452-44cd-aa7b-75378fc41ab6",
   "metadata": {},
   "outputs": [],
   "source": []
  },
  {
   "cell_type": "code",
   "execution_count": null,
   "id": "f6b4a4ba-1eb6-491e-8c0f-8ac96d7dfa57",
   "metadata": {},
   "outputs": [],
   "source": []
  },
  {
   "cell_type": "markdown",
   "id": "92eb6e44-491b-458d-bf7d-d3e78be21a24",
   "metadata": {},
   "source": [
    "<h2 style=\"border: 2px solid #000; border-radius: 10px; padding: 20px; background-color:red; color:white;\" >\n",
    "## Activity 4\n",
    "</h2>"
   ]
  },
  {
   "cell_type": "markdown",
   "id": "c6bc0428-fcf3-46eb-a679-a065673d2e71",
   "metadata": {},
   "source": [
    "We will now create our event object.  It will simply store the two objects which are involved in the collision, and the time at which the collision will occur.\n",
    "\n",
    "We will also create our Billiard object, which stores the walls, balls, current time, and the next event.  Lets also store a bounding box there, for visualization."
   ]
  },
  {
   "cell_type": "code",
   "execution_count": 11,
   "id": "0a3bd965-6487-44fe-bfbf-fc1b8d41da50",
   "metadata": {},
   "outputs": [
    {
     "data": {
      "text/plain": [
       "Billiard"
      ]
     },
     "execution_count": 11,
     "metadata": {},
     "output_type": "execute_result"
    }
   ],
   "source": [
    "abstract type Event end\n",
    "\n",
    "struct Collision <: Event\n",
    "    object1 :: Union{Ball,Wall}\n",
    "    object2 :: Union{Ball,Wall}\n",
    "    t  ::Float64     \n",
    "end\n",
    "\n",
    "struct NullEvent <: Event\n",
    "    t ::Float64\n",
    "end\n",
    "\n",
    "NE=NullEvent(Inf)\n",
    "\n",
    "mutable struct Billiard\n",
    "    walls ::Array{Wall}\n",
    "    balls ::Array{Ball}\n",
    "    t ::Float64\n",
    "    nextevent ::Event\n",
    "    boundingbox ::Array{Float64,1}# x1,y1,x2,y2 = corners of a rectangle\n",
    "end\n",
    "\n",
    "Billiard(;walls,balls,t=0.,nextevent=NE,boundingbox)=\n",
    "    Billiard(walls,balls,t,nextevent,boundingbox)"
   ]
  },
  {
   "cell_type": "markdown",
   "id": "03f1ef69-da64-48de-86ab-54cd0909de3c",
   "metadata": {},
   "source": [
    "Make a function `next_event(b::Ball,billiard::Billiard)`\n",
    "which will loop through all of the walls and balls in `billiard`, and find their impact time with `b`.  It then finds which collsion will occur next, and create an `event` object corresponding to that collision.\n",
    "\n",
    "Test with a square billiard containing 2 balls.  Put the balls at various places, and make sure it gives the right answer."
   ]
  },
  {
   "cell_type": "markdown",
   "id": "daff4dff-b82d-457a-b6ff-9b4539268925",
   "metadata": {},
   "source": [
    "Here is a nice trick for simultaneously looping over walls and balls is to use the `union` function:"
   ]
  },
  {
   "cell_type": "code",
   "execution_count": 12,
   "id": "c1cf5c45-92a8-428d-9278-ec4b35596318",
   "metadata": {},
   "outputs": [
    {
     "name": "stdout",
     "output_type": "stream",
     "text": [
      "x = Hwall(1.0)\n",
      "x = Vwall(1.0)\n",
      "x = Hwall(-1.0)\n",
      "x = Vwall(-1.0)\n",
      "x = Ball << r=(0.0, 0.0) v=(1.0, 0.0)>>)\n",
      "x = Ball << r=(0.5, 0.0) v=(-1.0, 0.0)>>)\n"
     ]
    }
   ],
   "source": [
    "b1=Ball(0,0,1,0,0.1,NE)\n",
    "b2=Ball(0.5,0.,-1,0,0.1,NE)\n",
    "\n",
    "billiard1=Billiard(walls=[Hwall(1),Vwall(1),Hwall(-1),Vwall(-1)],\n",
    "    balls=[b1,b2],boundingbox=[-1,-1,1,1])\n",
    "\n",
    "for x in union(billiard1.walls,billiard1.balls)\n",
    "    @show x\n",
    "end"
   ]
  },
  {
   "cell_type": "code",
   "execution_count": null,
   "id": "24c91a0f-6fd3-4f9a-9cb3-82ccbb198fe3",
   "metadata": {},
   "outputs": [],
   "source": []
  },
  {
   "cell_type": "markdown",
   "id": "864aecc5-c904-4d48-bdd3-60203a8d9257",
   "metadata": {},
   "source": [
    "<h2 style=\"border: 2px solid #000; border-radius: 10px; padding: 20px; background-color:red; color:white;\" >\n",
    "## Activity 5\n",
    "</h2>"
   ]
  },
  {
   "cell_type": "markdown",
   "id": "dd5bc21f-7ac7-4c78-b490-99cf9e587725",
   "metadata": {},
   "source": [
    "To help debug, at this point it is useful to make a `visualize` function, which plots the billiard.  This will differ from the one we did in class in two ways:  (1) we want to plot multiple balls, and (2) we want the balls to have a well defined radius."
   ]
  },
  {
   "cell_type": "markdown",
   "id": "0d8089a1-36ad-43b2-acc9-76432d262bc2",
   "metadata": {},
   "source": [
    "Unfortunately, while the `Plots.scatter` command allows us to control the size of the circles, it does so in a slightly complicated way.  It will be better to write our own circle drawing function (or use a different plotting program -- I think `Makie` can do a better job)"
   ]
  },
  {
   "cell_type": "code",
   "execution_count": 15,
   "id": "b402a87f-b4c5-40d5-9aa8-86c2f61043d7",
   "metadata": {},
   "outputs": [
    {
     "data": {
      "text/plain": [
       "drawcircles (generic function with 1 method)"
      ]
     },
     "execution_count": 15,
     "metadata": {},
     "output_type": "execute_result"
    }
   ],
   "source": [
    "function drawcircles!(centers,radii;opts...)\n",
    "    c=[cos(θ) for θ in 0:2*pi/100:2pi]\n",
    "    s=[sin(θ) for θ in 0:2*pi/100:2pi]\n",
    "    makecircle(center,radius)=Shape(radius*c.+center[1],radius*s.+center[2])\n",
    "    circles=[makecircle(c,r) for (c,r) in zip(centers,radii)]\n",
    "    plot!(circles;aspect_ratio=:equal,label=\"\",opts...)\n",
    "end\n",
    "\n",
    "function drawcircles!(plt::Plots.Plot,centers,radii;opts...)\n",
    "    c=[cos(θ) for θ in 0:2*pi/100:2pi]\n",
    "    s=[sin(θ) for θ in 0:2*pi/100:2pi]\n",
    "    makecircle(center,radius)=Shape(radius*c.+center[1],radius*s.+center[2])\n",
    "    circles=[makecircle(c,r) for (c,r) in zip(centers,radii)]\n",
    "    plot!(plt,circles;aspect_ratio=:equal,label=\"\",opts...)\n",
    "end\n",
    "\n",
    "function drawcircles(centers,radii;opts...)\n",
    "    plt=plot()\n",
    "    drawcircles!(plt,centers,radii;opts...)\n",
    "end"
   ]
  },
  {
   "cell_type": "code",
   "execution_count": 16,
   "id": "9e7fce38-b12c-4fd6-a529-f07e3fd6faa0",
   "metadata": {},
   "outputs": [
    {
     "data": {
      "image/png": "[encoded data removed]",
      "image/svg+xml": [
       "<?xml version=\"1.0\" encoding=\"utf-8\"?>\n",
       "<svg xmlns=\"http://www.w3.org/2000/svg\" xmlns:xlink=\"http://www.w3.org/1999/xlink\" width=\"600\" height=\"400\" viewBox=\"0 0 2400 1600\">\n",
       "<defs>\n",
       "  <clipPath id=\"clip050\">\n",
       "    <rect x=\"0\" y=\"0\" width=\"2400\" height=\"1600\"/>\n",
       "  </clipPath>\n",
       "</defs>\n",
       "<path clip-path=\"url(#clip050)\" d=\"M0 1600 L2400 1600 L2400 8.88178e-14 L0 8.88178e-14  Z\" fill=\"#ffffff\" fill-rule=\"evenodd\" fill-opacity=\"1\"/>\n",
       "<defs>\n",
       "  <clipPath id=\"clip051\">\n",
       "    <rect x=\"480\" y=\"0\" width=\"1681\" height=\"1600\"/>\n",
       "  </clipPath>\n",
       "</defs>\n",
       "<path clip-path=\"url(#clip050)\" d=\"M192.941 1486.45 L2352.76 1486.45 L2352.76 47.2441 L192.941 47.2441  Z\" fill=\"#ffffff\" fill-rule=\"evenodd\" fill-opacity=\"1\"/>\n",
       "<defs>\n",
       "  <clipPath id=\"clip052\">\n",
       "    <rect x=\"192\" y=\"47\" width=\"2161\" height=\"1440\"/>\n",
       "  </clipPath>\n",
       "</defs>\n",
       "<polyline clip-path=\"url(#clip052)\" style=\"stroke:#000000; stroke-linecap:round; stroke-linejoin:round; stroke-width:2; stroke-opacity:0.1; fill:none\" points=\"459.498,1486.45 459.498,47.2441 \"/>\n",
       "<polyline clip-path=\"url(#clip052)\" style=\"stroke:#000000; stroke-linecap:round; stroke-linejoin:round; stroke-width:2; stroke-opacity:0.1; fill:none\" points=\"918.643,1486.45 918.643,47.2441 \"/>\n",
       "<polyline clip-path=\"url(#clip052)\" style=\"stroke:#000000; stroke-linecap:round; stroke-linejoin:round; stroke-width:2; stroke-opacity:0.1; fill:none\" points=\"1377.79,1486.45 1377.79,47.2441 \"/>\n",
       "<polyline clip-path=\"url(#clip052)\" style=\"stroke:#000000; stroke-linecap:round; stroke-linejoin:round; stroke-width:2; stroke-opacity:0.1; fill:none\" points=\"1836.93,1486.45 1836.93,47.2441 \"/>\n",
       "<polyline clip-path=\"url(#clip052)\" style=\"stroke:#000000; stroke-linecap:round; stroke-linejoin:round; stroke-width:2; stroke-opacity:0.1; fill:none\" points=\"2296.08,1486.45 2296.08,47.2441 \"/>\n",
       "<polyline clip-path=\"url(#clip050)\" style=\"stroke:#000000; stroke-linecap:round; stroke-linejoin:round; stroke-width:4; stroke-opacity:1; fill:none\" points=\"192.941,1486.45 2352.76,1486.45 \"/>\n",
       "<polyline clip-path=\"url(#clip050)\" style=\"stroke:#000000; stroke-linecap:round; stroke-linejoin:round; stroke-width:4; stroke-opacity:1; fill:none\" points=\"459.498,1486.45 459.498,1467.55 \"/>\n",
       "<polyline clip-path=\"url(#clip050)\" style=\"stroke:#000000; stroke-linecap:round; stroke-linejoin:round; stroke-width:4; stroke-opacity:1; fill:none\" points=\"918.643,1486.45 918.643,1467.55 \"/>\n",
       "<polyline clip-path=\"url(#clip050)\" style=\"stroke:#000000; stroke-linecap:round; stroke-linejoin:round; stroke-width:4; stroke-opacity:1; fill:none\" points=\"1377.79,1486.45 1377.79,1467.55 \"/>\n",
       "<polyline clip-path=\"url(#clip050)\" style=\"stroke:#000000; stroke-linecap:round; stroke-linejoin:round; stroke-width:4; stroke-opacity:1; fill:none\" points=\"1836.93,1486.45 1836.93,1467.55 \"/>\n",
       "<polyline clip-path=\"url(#clip050)\" style=\"stroke:#000000; stroke-linecap:round; stroke-linejoin:round; stroke-width:4; stroke-opacity:1; fill:none\" points=\"2296.08,1486.45 2296.08,1467.55 \"/>\n",
       "<path clip-path=\"url(#clip050)\" d=\"M429.255 1532.02 L458.931 1532.02 L458.931 1535.95 L429.255 1535.95 L429.255 1532.02 Z\" fill=\"#000000\" fill-rule=\"nonzero\" fill-opacity=\"1\" /><path clip-path=\"url(#clip050)\" d=\"M469.834 1544.91 L477.473 1544.91 L477.473 1518.55 L469.163 1520.21 L469.163 1515.95 L477.426 1514.29 L482.102 1514.29 L482.102 1544.91 L489.741 1544.91 L489.741 1548.85 L469.834 1548.85 L469.834 1544.91 Z\" fill=\"#000000\" fill-rule=\"nonzero\" fill-opacity=\"1\" /><path clip-path=\"url(#clip050)\" d=\"M918.643 1517.37 Q915.032 1517.37 913.203 1520.93 Q911.397 1524.47 911.397 1531.6 Q911.397 1538.71 913.203 1542.27 Q915.032 1545.82 918.643 1545.82 Q922.277 1545.82 924.083 1542.27 Q925.911 1538.71 925.911 1531.6 Q925.911 1524.47 924.083 1520.93 Q922.277 1517.37 918.643 1517.37 M918.643 1513.66 Q924.453 1513.66 927.508 1518.27 Q930.587 1522.85 930.587 1531.6 Q930.587 1540.33 927.508 1544.94 Q924.453 1549.52 918.643 1549.52 Q912.833 1549.52 909.754 1544.94 Q906.698 1540.33 906.698 1531.6 Q906.698 1522.85 909.754 1518.27 Q912.833 1513.66 918.643 1513.66 Z\" fill=\"#000000\" fill-rule=\"nonzero\" fill-opacity=\"1\" /><path clip-path=\"url(#clip050)\" d=\"M1368.17 1544.91 L1375.81 1544.91 L1375.81 1518.55 L1367.5 1520.21 L1367.5 1515.95 L1375.76 1514.29 L1380.44 1514.29 L1380.44 1544.91 L1388.08 1544.91 L1388.08 1548.85 L1368.17 1548.85 L1368.17 1544.91 Z\" fill=\"#000000\" fill-rule=\"nonzero\" fill-opacity=\"1\" /><path clip-path=\"url(#clip050)\" d=\"M1831.58 1544.91 L1847.9 1544.91 L1847.9 1548.85 L1825.96 1548.85 L1825.96 1544.91 Q1828.62 1542.16 1833.21 1537.53 Q1837.81 1532.88 1838.99 1531.53 Q1841.24 1529.01 1842.12 1527.27 Q1843.02 1525.51 1843.02 1523.82 Q1843.02 1521.07 1841.08 1519.33 Q1839.15 1517.6 1836.05 1517.6 Q1833.85 1517.6 1831.4 1518.36 Q1828.97 1519.13 1826.19 1520.68 L1826.19 1515.95 Q1829.02 1514.82 1831.47 1514.24 Q1833.92 1513.66 1835.96 1513.66 Q1841.33 1513.66 1844.52 1516.35 Q1847.72 1519.03 1847.72 1523.52 Q1847.72 1525.65 1846.91 1527.57 Q1846.12 1529.47 1844.02 1532.07 Q1843.44 1532.74 1840.33 1535.95 Q1837.23 1539.15 1831.58 1544.91 Z\" fill=\"#000000\" fill-rule=\"nonzero\" fill-opacity=\"1\" /><path clip-path=\"url(#clip050)\" d=\"M2300.32 1530.21 Q2303.68 1530.93 2305.56 1533.2 Q2307.45 1535.47 2307.45 1538.8 Q2307.45 1543.92 2303.94 1546.72 Q2300.42 1549.52 2293.94 1549.52 Q2291.76 1549.52 2289.44 1549.08 Q2287.15 1548.66 2284.7 1547.81 L2284.7 1543.29 Q2286.64 1544.43 2288.96 1545.01 Q2291.27 1545.58 2293.8 1545.58 Q2298.19 1545.58 2300.49 1543.85 Q2302.8 1542.11 2302.8 1538.8 Q2302.8 1535.75 2300.65 1534.03 Q2298.52 1532.3 2294.7 1532.3 L2290.67 1532.3 L2290.67 1528.45 L2294.88 1528.45 Q2298.33 1528.45 2300.16 1527.09 Q2301.99 1525.7 2301.99 1523.11 Q2301.99 1520.45 2300.09 1519.03 Q2298.22 1517.6 2294.7 1517.6 Q2292.78 1517.6 2290.58 1518.01 Q2288.38 1518.43 2285.74 1519.31 L2285.74 1515.14 Q2288.4 1514.4 2290.72 1514.03 Q2293.06 1513.66 2295.12 1513.66 Q2300.44 1513.66 2303.54 1516.09 Q2306.64 1518.5 2306.64 1522.62 Q2306.64 1525.49 2305 1527.48 Q2303.36 1529.45 2300.32 1530.21 Z\" fill=\"#000000\" fill-rule=\"nonzero\" fill-opacity=\"1\" /><polyline clip-path=\"url(#clip052)\" style=\"stroke:#000000; stroke-linecap:round; stroke-linejoin:round; stroke-width:2; stroke-opacity:0.1; fill:none\" points=\"192.941,1350.62 2352.76,1350.62 \"/>\n",
       "<polyline clip-path=\"url(#clip052)\" style=\"stroke:#000000; stroke-linecap:round; stroke-linejoin:round; stroke-width:2; stroke-opacity:0.1; fill:none\" points=\"192.941,1121.05 2352.76,1121.05 \"/>\n",
       "<polyline clip-path=\"url(#clip052)\" style=\"stroke:#000000; stroke-linecap:round; stroke-linejoin:round; stroke-width:2; stroke-opacity:0.1; fill:none\" points=\"192.941,891.479 2352.76,891.479 \"/>\n",
       "<polyline clip-path=\"url(#clip052)\" style=\"stroke:#000000; stroke-linecap:round; stroke-linejoin:round; stroke-width:2; stroke-opacity:0.1; fill:none\" points=\"192.941,661.907 2352.76,661.907 \"/>\n",
       "<polyline clip-path=\"url(#clip052)\" style=\"stroke:#000000; stroke-linecap:round; stroke-linejoin:round; stroke-width:2; stroke-opacity:0.1; fill:none\" points=\"192.941,432.335 2352.76,432.335 \"/>\n",
       "<polyline clip-path=\"url(#clip052)\" style=\"stroke:#000000; stroke-linecap:round; stroke-linejoin:round; stroke-width:2; stroke-opacity:0.1; fill:none\" points=\"192.941,202.762 2352.76,202.762 \"/>\n",
       "<polyline clip-path=\"url(#clip050)\" style=\"stroke:#000000; stroke-linecap:round; stroke-linejoin:round; stroke-width:4; stroke-opacity:1; fill:none\" points=\"192.941,1486.45 192.941,47.2441 \"/>\n",
       "<polyline clip-path=\"url(#clip050)\" style=\"stroke:#000000; stroke-linecap:round; stroke-linejoin:round; stroke-width:4; stroke-opacity:1; fill:none\" points=\"192.941,1350.62 211.838,1350.62 \"/>\n",
       "<polyline clip-path=\"url(#clip050)\" style=\"stroke:#000000; stroke-linecap:round; stroke-linejoin:round; stroke-width:4; stroke-opacity:1; fill:none\" points=\"192.941,1121.05 211.838,1121.05 \"/>\n",
       "<polyline clip-path=\"url(#clip050)\" style=\"stroke:#000000; stroke-linecap:round; stroke-linejoin:round; stroke-width:4; stroke-opacity:1; fill:none\" points=\"192.941,891.479 211.838,891.479 \"/>\n",
       "<polyline clip-path=\"url(#clip050)\" style=\"stroke:#000000; stroke-linecap:round; stroke-linejoin:round; stroke-width:4; stroke-opacity:1; fill:none\" points=\"192.941,661.907 211.838,661.907 \"/>\n",
       "<polyline clip-path=\"url(#clip050)\" style=\"stroke:#000000; stroke-linecap:round; stroke-linejoin:round; stroke-width:4; stroke-opacity:1; fill:none\" points=\"192.941,432.335 211.838,432.335 \"/>\n",
       "<polyline clip-path=\"url(#clip050)\" style=\"stroke:#000000; stroke-linecap:round; stroke-linejoin:round; stroke-width:4; stroke-opacity:1; fill:none\" points=\"192.941,202.762 211.838,202.762 \"/>\n",
       "<path clip-path=\"url(#clip050)\" d=\"M50.9921 1351.08 L80.6679 1351.08 L80.6679 1355.01 L50.9921 1355.01 L50.9921 1351.08 Z\" fill=\"#000000\" fill-rule=\"nonzero\" fill-opacity=\"1\" /><path clip-path=\"url(#clip050)\" d=\"M100.76 1336.42 Q97.1493 1336.42 95.3206 1339.99 Q93.515 1343.53 93.515 1350.66 Q93.515 1357.76 95.3206 1361.33 Q97.1493 1364.87 100.76 1364.87 Q104.395 1364.87 106.2 1361.33 Q108.029 1357.76 108.029 1350.66 Q108.029 1343.53 106.2 1339.99 Q104.395 1336.42 100.76 1336.42 M100.76 1332.72 Q106.571 1332.72 109.626 1337.33 Q112.705 1341.91 112.705 1350.66 Q112.705 1359.39 109.626 1363.99 Q106.571 1368.58 100.76 1368.58 Q94.9502 1368.58 91.8715 1363.99 Q88.816 1359.39 88.816 1350.66 Q88.816 1341.91 91.8715 1337.33 Q94.9502 1332.72 100.76 1332.72 Z\" fill=\"#000000\" fill-rule=\"nonzero\" fill-opacity=\"1\" /><path clip-path=\"url(#clip050)\" d=\"M120.922 1362.02 L125.807 1362.02 L125.807 1367.9 L120.922 1367.9 L120.922 1362.02 Z\" fill=\"#000000\" fill-rule=\"nonzero\" fill-opacity=\"1\" /><path clip-path=\"url(#clip050)\" d=\"M136.038 1333.34 L154.394 1333.34 L154.394 1337.28 L140.32 1337.28 L140.32 1345.75 Q141.339 1345.4 142.357 1345.24 Q143.376 1345.06 144.394 1345.06 Q150.181 1345.06 153.561 1348.23 Q156.941 1351.4 156.941 1356.82 Q156.941 1362.39 153.468 1365.5 Q149.996 1368.58 143.677 1368.58 Q141.501 1368.58 139.232 1368.2 Q136.987 1367.83 134.58 1367.09 L134.58 1362.39 Q136.663 1363.53 138.885 1364.08 Q141.107 1364.64 143.584 1364.64 Q147.589 1364.64 149.927 1362.53 Q152.265 1360.43 152.265 1356.82 Q152.265 1353.2 149.927 1351.1 Q147.589 1348.99 143.584 1348.99 Q141.709 1348.99 139.834 1349.41 Q137.982 1349.83 136.038 1350.7 L136.038 1333.34 Z\" fill=\"#000000\" fill-rule=\"nonzero\" fill-opacity=\"1\" /><path clip-path=\"url(#clip050)\" d=\"M99.765 1106.85 Q96.1539 1106.85 94.3252 1110.41 Q92.5197 1113.96 92.5197 1121.09 Q92.5197 1128.19 94.3252 1131.76 Q96.1539 1135.3 99.765 1135.3 Q103.399 1135.3 105.205 1131.76 Q107.033 1128.19 107.033 1121.09 Q107.033 1113.96 105.205 1110.41 Q103.399 1106.85 99.765 1106.85 M99.765 1103.15 Q105.575 1103.15 108.631 1107.75 Q111.709 1112.34 111.709 1121.09 Q111.709 1129.81 108.631 1134.42 Q105.575 1139 99.765 1139 Q93.9549 1139 90.8762 1134.42 Q87.8206 1129.81 87.8206 1121.09 Q87.8206 1112.34 90.8762 1107.75 Q93.9549 1103.15 99.765 1103.15 Z\" fill=\"#000000\" fill-rule=\"nonzero\" fill-opacity=\"1\" /><path clip-path=\"url(#clip050)\" d=\"M119.927 1132.45 L124.811 1132.45 L124.811 1138.33 L119.927 1138.33 L119.927 1132.45 Z\" fill=\"#000000\" fill-rule=\"nonzero\" fill-opacity=\"1\" /><path clip-path=\"url(#clip050)\" d=\"M144.996 1106.85 Q141.385 1106.85 139.556 1110.41 Q137.751 1113.96 137.751 1121.09 Q137.751 1128.19 139.556 1131.76 Q141.385 1135.3 144.996 1135.3 Q148.63 1135.3 150.436 1131.76 Q152.265 1128.19 152.265 1121.09 Q152.265 1113.96 150.436 1110.41 Q148.63 1106.85 144.996 1106.85 M144.996 1103.15 Q150.806 1103.15 153.862 1107.75 Q156.941 1112.34 156.941 1121.09 Q156.941 1129.81 153.862 1134.42 Q150.806 1139 144.996 1139 Q139.186 1139 136.107 1134.42 Q133.052 1129.81 133.052 1121.09 Q133.052 1112.34 136.107 1107.75 Q139.186 1103.15 144.996 1103.15 Z\" fill=\"#000000\" fill-rule=\"nonzero\" fill-opacity=\"1\" /><path clip-path=\"url(#clip050)\" d=\"M100.76 877.278 Q97.1493 877.278 95.3206 880.843 Q93.515 884.384 93.515 891.514 Q93.515 898.62 95.3206 902.185 Q97.1493 905.727 100.76 905.727 Q104.395 905.727 106.2 902.185 Q108.029 898.62 108.029 891.514 Q108.029 884.384 106.2 880.843 Q104.395 877.278 100.76 877.278 M100.76 873.574 Q106.571 873.574 109.626 878.181 Q112.705 882.764 112.705 891.514 Q112.705 900.241 109.626 904.847 Q106.571 909.431 100.76 909.431 Q94.9502 909.431 91.8715 904.847 Q88.816 900.241 88.816 891.514 Q88.816 882.764 91.8715 878.181 Q94.9502 873.574 100.76 873.574 Z\" fill=\"#000000\" fill-rule=\"nonzero\" fill-opacity=\"1\" /><path clip-path=\"url(#clip050)\" d=\"M120.922 902.88 L125.807 902.88 L125.807 908.759 L120.922 908.759 L120.922 902.88 Z\" fill=\"#000000\" fill-rule=\"nonzero\" fill-opacity=\"1\" /><path clip-path=\"url(#clip050)\" d=\"M136.038 874.199 L154.394 874.199 L154.394 878.134 L140.32 878.134 L140.32 886.607 Q141.339 886.259 142.357 886.097 Q143.376 885.912 144.394 885.912 Q150.181 885.912 153.561 889.083 Q156.941 892.255 156.941 897.671 Q156.941 903.25 153.468 906.352 Q149.996 909.431 143.677 909.431 Q141.501 909.431 139.232 909.06 Q136.987 908.69 134.58 907.949 L134.58 903.25 Q136.663 904.384 138.885 904.94 Q141.107 905.495 143.584 905.495 Q147.589 905.495 149.927 903.389 Q152.265 901.282 152.265 897.671 Q152.265 894.06 149.927 891.954 Q147.589 889.847 143.584 889.847 Q141.709 889.847 139.834 890.264 Q137.982 890.681 136.038 891.56 L136.038 874.199 Z\" fill=\"#000000\" fill-rule=\"nonzero\" fill-opacity=\"1\" /><path clip-path=\"url(#clip050)\" d=\"M90.5752 675.252 L98.2141 675.252 L98.2141 648.886 L89.904 650.553 L89.904 646.294 L98.1678 644.627 L102.844 644.627 L102.844 675.252 L110.483 675.252 L110.483 679.187 L90.5752 679.187 L90.5752 675.252 Z\" fill=\"#000000\" fill-rule=\"nonzero\" fill-opacity=\"1\" /><path clip-path=\"url(#clip050)\" d=\"M119.927 673.307 L124.811 673.307 L124.811 679.187 L119.927 679.187 L119.927 673.307 Z\" fill=\"#000000\" fill-rule=\"nonzero\" fill-opacity=\"1\" /><path clip-path=\"url(#clip050)\" d=\"M144.996 647.706 Q141.385 647.706 139.556 651.27 Q137.751 654.812 137.751 661.942 Q137.751 669.048 139.556 672.613 Q141.385 676.155 144.996 676.155 Q148.63 676.155 150.436 672.613 Q152.265 669.048 152.265 661.942 Q152.265 654.812 150.436 651.27 Q148.63 647.706 144.996 647.706 M144.996 644.002 Q150.806 644.002 153.862 648.608 Q156.941 653.192 156.941 661.942 Q156.941 670.668 153.862 675.275 Q150.806 679.858 144.996 679.858 Q139.186 679.858 136.107 675.275 Q133.052 670.668 133.052 661.942 Q133.052 653.192 136.107 648.608 Q139.186 644.002 144.996 644.002 Z\" fill=\"#000000\" fill-rule=\"nonzero\" fill-opacity=\"1\" /><path clip-path=\"url(#clip050)\" d=\"M91.5706 445.68 L99.2095 445.68 L99.2095 419.314 L90.8993 420.981 L90.8993 416.721 L99.1632 415.055 L103.839 415.055 L103.839 445.68 L111.478 445.68 L111.478 449.615 L91.5706 449.615 L91.5706 445.68 Z\" fill=\"#000000\" fill-rule=\"nonzero\" fill-opacity=\"1\" /><path clip-path=\"url(#clip050)\" d=\"M120.922 443.735 L125.807 443.735 L125.807 449.615 L120.922 449.615 L120.922 443.735 Z\" fill=\"#000000\" fill-rule=\"nonzero\" fill-opacity=\"1\" /><path clip-path=\"url(#clip050)\" d=\"M136.038 415.055 L154.394 415.055 L154.394 418.99 L140.32 418.99 L140.32 427.462 Q141.339 427.115 142.357 426.953 Q143.376 426.768 144.394 426.768 Q150.181 426.768 153.561 429.939 Q156.941 433.11 156.941 438.527 Q156.941 444.105 153.468 447.207 Q149.996 450.286 143.677 450.286 Q141.501 450.286 139.232 449.916 Q136.987 449.545 134.58 448.804 L134.58 444.105 Q136.663 445.24 138.885 445.795 Q141.107 446.351 143.584 446.351 Q147.589 446.351 149.927 444.244 Q152.265 442.138 152.265 438.527 Q152.265 434.916 149.927 432.809 Q147.589 430.703 143.584 430.703 Q141.709 430.703 139.834 431.119 Q137.982 431.536 136.038 432.416 L136.038 415.055 Z\" fill=\"#000000\" fill-rule=\"nonzero\" fill-opacity=\"1\" /><path clip-path=\"url(#clip050)\" d=\"M93.7928 216.107 L110.112 216.107 L110.112 220.042 L88.1679 220.042 L88.1679 216.107 Q90.8299 213.353 95.4132 208.723 Q100.02 204.07 101.2 202.728 Q103.446 200.205 104.325 198.468 Q105.228 196.709 105.228 195.019 Q105.228 192.265 103.284 190.529 Q101.362 188.793 98.2604 188.793 Q96.0613 188.793 93.6076 189.556 Q91.1771 190.32 88.3993 191.871 L88.3993 187.149 Q91.2234 186.015 93.6771 185.436 Q96.1308 184.857 98.1678 184.857 Q103.538 184.857 106.733 187.543 Q109.927 190.228 109.927 194.718 Q109.927 196.848 109.117 198.769 Q108.33 200.668 106.223 203.26 Q105.645 203.931 102.543 207.149 Q99.4409 210.343 93.7928 216.107 Z\" fill=\"#000000\" fill-rule=\"nonzero\" fill-opacity=\"1\" /><path clip-path=\"url(#clip050)\" d=\"M119.927 214.163 L124.811 214.163 L124.811 220.042 L119.927 220.042 L119.927 214.163 Z\" fill=\"#000000\" fill-rule=\"nonzero\" fill-opacity=\"1\" /><path clip-path=\"url(#clip050)\" d=\"M144.996 188.561 Q141.385 188.561 139.556 192.126 Q137.751 195.668 137.751 202.797 Q137.751 209.904 139.556 213.468 Q141.385 217.01 144.996 217.01 Q148.63 217.01 150.436 213.468 Q152.265 209.904 152.265 202.797 Q152.265 195.668 150.436 192.126 Q148.63 188.561 144.996 188.561 M144.996 184.857 Q150.806 184.857 153.862 189.464 Q156.941 194.047 156.941 202.797 Q156.941 211.524 153.862 216.13 Q150.806 220.714 144.996 220.714 Q139.186 220.714 136.107 216.13 Q133.052 211.524 133.052 202.797 Q133.052 194.047 136.107 189.464 Q139.186 184.857 144.996 184.857 Z\" fill=\"#000000\" fill-rule=\"nonzero\" fill-opacity=\"1\" /><path clip-path=\"url(#clip052)\" d=\"M1243.31 1121.05 L1242.67 1100.67 L1240.75 1080.36 L1237.56 1060.22 L1233.11 1040.31 L1227.42 1020.72 L1220.51 1001.53 L1212.41 982.816 L1203.15 964.643 L1192.77 947.088 L1181.3 930.219 L1168.8 914.103 L1155.31 898.804 L1140.89 884.381 L1125.59 870.893 L1109.48 858.393 L1092.61 846.928 L1075.05 836.546 L1056.88 827.287 L1038.16 819.186 L1018.97 812.277 L999.383 806.587 L979.479 802.138 L959.334 798.947 L939.029 797.028 L918.643 796.387 L898.257 797.028 L877.952 798.947 L857.807 802.138 L837.902 806.587 L818.316 812.277 L799.126 819.186 L780.407 827.287 L762.235 836.546 L744.679 846.928 L727.81 858.393 L711.694 870.893 L696.395 884.381 L681.973 898.804 L668.485 914.103 L655.984 930.219 L644.52 947.088 L634.137 964.643 L624.878 982.816 L616.778 1001.53 L609.869 1020.72 L604.178 1040.31 L599.729 1060.22 L596.539 1080.36 L594.619 1100.67 L593.979 1121.05 L594.619 1141.44 L596.539 1161.74 L599.729 1181.89 L604.178 1201.79 L609.869 1221.38 L616.778 1240.57 L624.878 1259.29 L634.137 1277.46 L644.52 1295.02 L655.984 1311.88 L668.485 1328 L681.973 1343.3 L696.395 1357.72 L711.694 1371.21 L727.81 1383.71 L744.679 1395.17 L762.235 1405.56 L780.407 1414.82 L799.126 1422.92 L818.316 1429.83 L837.902 1435.52 L857.807 1439.96 L877.952 1443.16 L898.257 1445.08 L918.643 1445.72 L939.029 1445.08 L959.334 1443.16 L979.479 1439.96 L999.383 1435.52 L1018.97 1429.83 L1038.16 1422.92 L1056.88 1414.82 L1075.05 1405.56 L1092.61 1395.17 L1109.48 1383.71 L1125.59 1371.21 L1140.89 1357.72 L1155.31 1343.3 L1168.8 1328 L1181.3 1311.88 L1192.77 1295.02 L1203.15 1277.46 L1212.41 1259.29 L1220.51 1240.57 L1227.42 1221.38 L1233.11 1201.79 L1237.56 1181.89 L1240.75 1161.74 L1242.67 1141.44 L1243.31 1121.05  Z\" fill=\"#009af9\" fill-rule=\"evenodd\" fill-opacity=\"1\"/>\n",
       "<polyline clip-path=\"url(#clip052)\" style=\"stroke:#000000; stroke-linecap:round; stroke-linejoin:round; stroke-width:4; stroke-opacity:1; fill:none\" points=\"1243.31,1121.05 1242.67,1100.67 1240.75,1080.36 1237.56,1060.22 1233.11,1040.31 1227.42,1020.72 1220.51,1001.53 1212.41,982.816 1203.15,964.643 1192.77,947.088 1181.3,930.219 1168.8,914.103 1155.31,898.804 1140.89,884.381 1125.59,870.893 1109.48,858.393 1092.61,846.928 1075.05,836.546 1056.88,827.287 1038.16,819.186 1018.97,812.277 999.383,806.587 979.479,802.138 959.334,798.947 939.029,797.028 918.643,796.387 898.257,797.028 877.952,798.947 857.807,802.138 837.902,806.587 818.316,812.277 799.126,819.186 780.407,827.287 762.235,836.546 744.679,846.928 727.81,858.393 711.694,870.893 696.395,884.381 681.973,898.804 668.485,914.103 655.984,930.219 644.52,947.088 634.137,964.643 624.878,982.816 616.778,1001.53 609.869,1020.72 604.178,1040.31 599.729,1060.22 596.539,1080.36 594.619,1100.67 593.979,1121.05 594.619,1141.44 596.539,1161.74 599.729,1181.89 604.178,1201.79 609.869,1221.38 616.778,1240.57 624.878,1259.29 634.137,1277.46 644.52,1295.02 655.984,1311.88 668.485,1328 681.973,1343.3 696.395,1357.72 711.694,1371.21 727.81,1383.71 744.679,1395.17 762.235,1405.56 780.407,1414.82 799.126,1422.92 818.316,1429.83 837.902,1435.52 857.807,1439.96 877.952,1443.16 898.257,1445.08 918.643,1445.72 939.029,1445.08 959.334,1443.16 979.479,1439.96 999.383,1435.52 1018.97,1429.83 1038.16,1422.92 1056.88,1414.82 1075.05,1405.56 1092.61,1395.17 1109.48,1383.71 1125.59,1371.21 1140.89,1357.72 1155.31,1343.3 1168.8,1328 1181.3,1311.88 1192.77,1295.02 1203.15,1277.46 1212.41,1259.29 1220.51,1240.57 1227.42,1221.38 1233.11,1201.79 1237.56,1181.89 1240.75,1161.74 1242.67,1141.44 1243.31,1121.05 \"/>\n",
       "<path clip-path=\"url(#clip052)\" d=\"M1702.45 661.907 L1701.81 641.521 L1699.89 621.216 L1696.7 601.071 L1692.25 581.166 L1686.56 561.58 L1679.65 542.39 L1671.55 523.672 L1662.29 505.499 L1651.91 487.943 L1640.45 471.074 L1627.95 454.958 L1614.46 439.659 L1600.04 425.237 L1584.74 411.749 L1568.62 399.248 L1551.75 387.784 L1534.2 377.402 L1516.02 368.142 L1497.3 360.042 L1478.11 353.133 L1458.53 347.443 L1438.62 342.993 L1418.48 339.803 L1398.17 337.883 L1377.79 337.243 L1357.4 337.883 L1337.1 339.803 L1316.95 342.993 L1297.05 347.443 L1277.46 353.133 L1258.27 360.042 L1239.55 368.142 L1221.38 377.402 L1203.82 387.784 L1186.95 399.248 L1170.84 411.749 L1155.54 425.237 L1141.12 439.659 L1127.63 454.958 L1115.13 471.074 L1103.66 487.943 L1093.28 505.499 L1084.02 523.672 L1075.92 542.39 L1069.01 561.58 L1063.32 581.166 L1058.87 601.071 L1055.68 621.216 L1053.76 641.521 L1053.12 661.907 L1053.76 682.293 L1055.68 702.598 L1058.87 722.743 L1063.32 742.648 L1069.01 762.234 L1075.92 781.424 L1084.02 800.142 L1093.28 818.315 L1103.66 835.871 L1115.13 852.74 L1127.63 868.856 L1141.12 884.155 L1155.54 898.577 L1170.84 912.065 L1186.95 924.566 L1203.82 936.03 L1221.38 946.412 L1239.55 955.672 L1258.27 963.772 L1277.46 970.681 L1297.05 976.371 L1316.95 980.82 L1337.1 984.011 L1357.4 985.931 L1377.79 986.571 L1398.17 985.931 L1418.48 984.011 L1438.62 980.82 L1458.53 976.371 L1478.11 970.681 L1497.3 963.772 L1516.02 955.672 L1534.2 946.412 L1551.75 936.03 L1568.62 924.566 L1584.74 912.065 L1600.04 898.577 L1614.46 884.155 L1627.95 868.856 L1640.45 852.74 L1651.91 835.871 L1662.29 818.315 L1671.55 800.142 L1679.65 781.424 L1686.56 762.234 L1692.25 742.648 L1696.7 722.743 L1699.89 702.598 L1701.81 682.293 L1702.45 661.907  Z\" fill=\"#e26f46\" fill-rule=\"evenodd\" fill-opacity=\"1\"/>\n",
       "<polyline clip-path=\"url(#clip052)\" style=\"stroke:#000000; stroke-linecap:round; stroke-linejoin:round; stroke-width:4; stroke-opacity:1; fill:none\" points=\"1702.45,661.907 1701.81,641.521 1699.89,621.216 1696.7,601.071 1692.25,581.166 1686.56,561.58 1679.65,542.39 1671.55,523.672 1662.29,505.499 1651.91,487.943 1640.45,471.074 1627.95,454.958 1614.46,439.659 1600.04,425.237 1584.74,411.749 1568.62,399.248 1551.75,387.784 1534.2,377.402 1516.02,368.142 1497.3,360.042 1478.11,353.133 1458.53,347.443 1438.62,342.993 1418.48,339.803 1398.17,337.883 1377.79,337.243 1357.4,337.883 1337.1,339.803 1316.95,342.993 1297.05,347.443 1277.46,353.133 1258.27,360.042 1239.55,368.142 1221.38,377.402 1203.82,387.784 1186.95,399.248 1170.84,411.749 1155.54,425.237 1141.12,439.659 1127.63,454.958 1115.13,471.074 1103.66,487.943 1093.28,505.499 1084.02,523.672 1075.92,542.39 1069.01,561.58 1063.32,581.166 1058.87,601.071 1055.68,621.216 1053.76,641.521 1053.12,661.907 1053.76,682.293 1055.68,702.598 1058.87,722.743 1063.32,742.648 1069.01,762.234 1075.92,781.424 1084.02,800.142 1093.28,818.315 1103.66,835.871 1115.13,852.74 1127.63,868.856 1141.12,884.155 1155.54,898.577 1170.84,912.065 1186.95,924.566 1203.82,936.03 1221.38,946.412 1239.55,955.672 1258.27,963.772 1277.46,970.681 1297.05,976.371 1316.95,980.82 1337.1,984.011 1357.4,985.931 1377.79,986.571 1398.17,985.931 1418.48,984.011 1438.62,980.82 1458.53,976.371 1478.11,970.681 1497.3,963.772 1516.02,955.672 1534.2,946.412 1551.75,936.03 1568.62,924.566 1584.74,912.065 1600.04,898.577 1614.46,884.155 1627.95,868.856 1640.45,852.74 1651.91,835.871 1662.29,818.315 1671.55,800.142 1679.65,781.424 1686.56,762.234 1692.25,742.648 1696.7,722.743 1699.89,702.598 1701.81,682.293 1702.45,661.907 \"/>\n",
       "<path clip-path=\"url(#clip052)\" d=\"M1951.72 202.762 L1951.49 195.555 L1950.81 188.376 L1949.68 181.254 L1948.11 174.216 L1946.1 167.292 L1943.66 160.507 L1940.79 153.889 L1937.52 147.464 L1933.85 141.257 L1929.8 135.293 L1925.38 129.595 L1920.61 124.186 L1915.51 119.087 L1910.1 114.318 L1904.4 109.898 L1898.44 105.845 L1892.23 102.175 L1885.81 98.9008 L1879.19 96.037 L1872.4 93.5943 L1865.48 91.5825 L1858.44 90.0095 L1851.32 88.8814 L1844.14 88.2028 L1836.93 87.9763 L1829.72 88.2028 L1822.55 88.8814 L1815.42 90.0095 L1808.39 91.5825 L1801.46 93.5943 L1794.68 96.037 L1788.06 98.9008 L1781.63 102.175 L1775.43 105.845 L1769.46 109.898 L1763.76 114.318 L1758.36 119.087 L1753.26 124.186 L1748.49 129.595 L1744.07 135.293 L1740.01 141.257 L1736.34 147.464 L1733.07 153.889 L1730.21 160.507 L1727.76 167.292 L1725.75 174.216 L1724.18 181.254 L1723.05 188.376 L1722.37 195.555 L1722.15 202.762 L1722.37 209.97 L1723.05 217.149 L1724.18 224.271 L1725.75 231.309 L1727.76 238.233 L1730.21 245.018 L1733.07 251.636 L1736.34 258.061 L1740.01 264.268 L1744.07 270.232 L1748.49 275.93 L1753.26 281.339 L1758.36 286.438 L1763.76 291.207 L1769.46 295.626 L1775.43 299.68 L1781.63 303.35 L1788.06 306.624 L1794.68 309.488 L1801.46 311.931 L1808.39 313.942 L1815.42 315.515 L1822.55 316.643 L1829.72 317.322 L1836.93 317.549 L1844.14 317.322 L1851.32 316.643 L1858.44 315.515 L1865.48 313.942 L1872.4 311.931 L1879.19 309.488 L1885.81 306.624 L1892.23 303.35 L1898.44 299.68 L1904.4 295.626 L1910.1 291.207 L1915.51 286.438 L1920.61 281.339 L1925.38 275.93 L1929.8 270.232 L1933.85 264.268 L1937.52 258.061 L1940.79 251.636 L1943.66 245.018 L1946.1 238.233 L1948.11 231.309 L1949.68 224.271 L1950.81 217.149 L1951.49 209.97 L1951.72 202.762  Z\" fill=\"#3da44d\" fill-rule=\"evenodd\" fill-opacity=\"1\"/>\n",
       "<polyline clip-path=\"url(#clip052)\" style=\"stroke:#000000; stroke-linecap:round; stroke-linejoin:round; stroke-width:4; stroke-opacity:1; fill:none\" points=\"1951.72,202.762 1951.49,195.555 1950.81,188.376 1949.68,181.254 1948.11,174.216 1946.1,167.292 1943.66,160.507 1940.79,153.889 1937.52,147.464 1933.85,141.257 1929.8,135.293 1925.38,129.595 1920.61,124.186 1915.51,119.087 1910.1,114.318 1904.4,109.898 1898.44,105.845 1892.23,102.175 1885.81,98.9008 1879.19,96.037 1872.4,93.5943 1865.48,91.5825 1858.44,90.0095 1851.32,88.8814 1844.14,88.2028 1836.93,87.9763 1829.72,88.2028 1822.55,88.8814 1815.42,90.0095 1808.39,91.5825 1801.46,93.5943 1794.68,96.037 1788.06,98.9008 1781.63,102.175 1775.43,105.845 1769.46,109.898 1763.76,114.318 1758.36,119.087 1753.26,124.186 1748.49,129.595 1744.07,135.293 1740.01,141.257 1736.34,147.464 1733.07,153.889 1730.21,160.507 1727.76,167.292 1725.75,174.216 1724.18,181.254 1723.05,188.376 1722.37,195.555 1722.15,202.762 1722.37,209.97 1723.05,217.149 1724.18,224.271 1725.75,231.309 1727.76,238.233 1730.21,245.018 1733.07,251.636 1736.34,258.061 1740.01,264.268 1744.07,270.232 1748.49,275.93 1753.26,281.339 1758.36,286.438 1763.76,291.207 1769.46,295.626 1775.43,299.68 1781.63,303.35 1788.06,306.624 1794.68,309.488 1801.46,311.931 1808.39,313.942 1815.42,315.515 1822.55,316.643 1829.72,317.322 1836.93,317.549 1844.14,317.322 1851.32,316.643 1858.44,315.515 1865.48,313.942 1872.4,311.931 1879.19,309.488 1885.81,306.624 1892.23,303.35 1898.44,299.68 1904.4,295.626 1910.1,291.207 1915.51,286.438 1920.61,281.339 1925.38,275.93 1929.8,270.232 1933.85,264.268 1937.52,258.061 1940.79,251.636 1943.66,245.018 1946.1,238.233 1948.11,231.309 1949.68,224.271 1950.81,217.149 1951.49,209.97 1951.72,202.762 \"/>\n",
       "</svg>\n"
      ],
      "text/html": [
       "<?xml version=\"1.0\" encoding=\"utf-8\"?>\n",
       "<svg xmlns=\"http://www.w3.org/2000/svg\" xmlns:xlink=\"http://www.w3.org/1999/xlink\" width=\"600\" height=\"400\" viewBox=\"0 0 2400 1600\">\n",
       "<defs>\n",
       "  <clipPath id=\"clip100\">\n",
       "    <rect x=\"0\" y=\"0\" width=\"2400\" height=\"1600\"/>\n",
       "  </clipPath>\n",
       "</defs>\n",
       "<path clip-path=\"url(#clip100)\" d=\"M0 1600 L2400 1600 L2400 8.88178e-14 L0 8.88178e-14  Z\" fill=\"#ffffff\" fill-rule=\"evenodd\" fill-opacity=\"1\"/>\n",
       "<defs>\n",
       "  <clipPath id=\"clip101\">\n",
       "    <rect x=\"480\" y=\"0\" width=\"1681\" height=\"1600\"/>\n",
       "  </clipPath>\n",
       "</defs>\n",
       "<path clip-path=\"url(#clip100)\" d=\"M192.941 1486.45 L2352.76 1486.45 L2352.76 47.2441 L192.941 47.2441  Z\" fill=\"#ffffff\" fill-rule=\"evenodd\" fill-opacity=\"1\"/>\n",
       "<defs>\n",
       "  <clipPath id=\"clip102\">\n",
       "    <rect x=\"192\" y=\"47\" width=\"2161\" height=\"1440\"/>\n",
       "  </clipPath>\n",
       "</defs>\n",
       "<polyline clip-path=\"url(#clip102)\" style=\"stroke:#000000; stroke-linecap:round; stroke-linejoin:round; stroke-width:2; stroke-opacity:0.1; fill:none\" points=\"459.498,1486.45 459.498,47.2441 \"/>\n",
       "<polyline clip-path=\"url(#clip102)\" style=\"stroke:#000000; stroke-linecap:round; stroke-linejoin:round; stroke-width:2; stroke-opacity:0.1; fill:none\" points=\"918.643,1486.45 918.643,47.2441 \"/>\n",
       "<polyline clip-path=\"url(#clip102)\" style=\"stroke:#000000; stroke-linecap:round; stroke-linejoin:round; stroke-width:2; stroke-opacity:0.1; fill:none\" points=\"1377.79,1486.45 1377.79,47.2441 \"/>\n",
       "<polyline clip-path=\"url(#clip102)\" style=\"stroke:#000000; stroke-linecap:round; stroke-linejoin:round; stroke-width:2; stroke-opacity:0.1; fill:none\" points=\"1836.93,1486.45 1836.93,47.2441 \"/>\n",
       "<polyline clip-path=\"url(#clip102)\" style=\"stroke:#000000; stroke-linecap:round; stroke-linejoin:round; stroke-width:2; stroke-opacity:0.1; fill:none\" points=\"2296.08,1486.45 2296.08,47.2441 \"/>\n",
       "<polyline clip-path=\"url(#clip100)\" style=\"stroke:#000000; stroke-linecap:round; stroke-linejoin:round; stroke-width:4; stroke-opacity:1; fill:none\" points=\"192.941,1486.45 2352.76,1486.45 \"/>\n",
       "<polyline clip-path=\"url(#clip100)\" style=\"stroke:#000000; stroke-linecap:round; stroke-linejoin:round; stroke-width:4; stroke-opacity:1; fill:none\" points=\"459.498,1486.45 459.498,1467.55 \"/>\n",
       "<polyline clip-path=\"url(#clip100)\" style=\"stroke:#000000; stroke-linecap:round; stroke-linejoin:round; stroke-width:4; stroke-opacity:1; fill:none\" points=\"918.643,1486.45 918.643,1467.55 \"/>\n",
       "<polyline clip-path=\"url(#clip100)\" style=\"stroke:#000000; stroke-linecap:round; stroke-linejoin:round; stroke-width:4; stroke-opacity:1; fill:none\" points=\"1377.79,1486.45 1377.79,1467.55 \"/>\n",
       "<polyline clip-path=\"url(#clip100)\" style=\"stroke:#000000; stroke-linecap:round; stroke-linejoin:round; stroke-width:4; stroke-opacity:1; fill:none\" points=\"1836.93,1486.45 1836.93,1467.55 \"/>\n",
       "<polyline clip-path=\"url(#clip100)\" style=\"stroke:#000000; stroke-linecap:round; stroke-linejoin:round; stroke-width:4; stroke-opacity:1; fill:none\" points=\"2296.08,1486.45 2296.08,1467.55 \"/>\n",
       "<path clip-path=\"url(#clip100)\" d=\"M429.255 1532.02 L458.931 1532.02 L458.931 1535.95 L429.255 1535.95 L429.255 1532.02 Z\" fill=\"#000000\" fill-rule=\"nonzero\" fill-opacity=\"1\" /><path clip-path=\"url(#clip100)\" d=\"M469.834 1544.91 L477.473 1544.91 L477.473 1518.55 L469.163 1520.21 L469.163 1515.95 L477.426 1514.29 L482.102 1514.29 L482.102 1544.91 L489.741 1544.91 L489.741 1548.85 L469.834 1548.85 L469.834 1544.91 Z\" fill=\"#000000\" fill-rule=\"nonzero\" fill-opacity=\"1\" /><path clip-path=\"url(#clip100)\" d=\"M918.643 1517.37 Q915.032 1517.37 913.203 1520.93 Q911.397 1524.47 911.397 1531.6 Q911.397 1538.71 913.203 1542.27 Q915.032 1545.82 918.643 1545.82 Q922.277 1545.82 924.083 1542.27 Q925.911 1538.71 925.911 1531.6 Q925.911 1524.47 924.083 1520.93 Q922.277 1517.37 918.643 1517.37 M918.643 1513.66 Q924.453 1513.66 927.508 1518.27 Q930.587 1522.85 930.587 1531.6 Q930.587 1540.33 927.508 1544.94 Q924.453 1549.52 918.643 1549.52 Q912.833 1549.52 909.754 1544.94 Q906.698 1540.33 906.698 1531.6 Q906.698 1522.85 909.754 1518.27 Q912.833 1513.66 918.643 1513.66 Z\" fill=\"#000000\" fill-rule=\"nonzero\" fill-opacity=\"1\" /><path clip-path=\"url(#clip100)\" d=\"M1368.17 1544.91 L1375.81 1544.91 L1375.81 1518.55 L1367.5 1520.21 L1367.5 1515.95 L1375.76 1514.29 L1380.44 1514.29 L1380.44 1544.91 L1388.08 1544.91 L1388.08 1548.85 L1368.17 1548.85 L1368.17 1544.91 Z\" fill=\"#000000\" fill-rule=\"nonzero\" fill-opacity=\"1\" /><path clip-path=\"url(#clip100)\" d=\"M1831.58 1544.91 L1847.9 1544.91 L1847.9 1548.85 L1825.96 1548.85 L1825.96 1544.91 Q1828.62 1542.16 1833.21 1537.53 Q1837.81 1532.88 1838.99 1531.53 Q1841.24 1529.01 1842.12 1527.27 Q1843.02 1525.51 1843.02 1523.82 Q1843.02 1521.07 1841.08 1519.33 Q1839.15 1517.6 1836.05 1517.6 Q1833.85 1517.6 1831.4 1518.36 Q1828.97 1519.13 1826.19 1520.68 L1826.19 1515.95 Q1829.02 1514.82 1831.47 1514.24 Q1833.92 1513.66 1835.96 1513.66 Q1841.33 1513.66 1844.52 1516.35 Q1847.72 1519.03 1847.72 1523.52 Q1847.72 1525.65 1846.91 1527.57 Q1846.12 1529.47 1844.02 1532.07 Q1843.44 1532.74 1840.33 1535.95 Q1837.23 1539.15 1831.58 1544.91 Z\" fill=\"#000000\" fill-rule=\"nonzero\" fill-opacity=\"1\" /><path clip-path=\"url(#clip100)\" d=\"M2300.32 1530.21 Q2303.68 1530.93 2305.56 1533.2 Q2307.45 1535.47 2307.45 1538.8 Q2307.45 1543.92 2303.94 1546.72 Q2300.42 1549.52 2293.94 1549.52 Q2291.76 1549.52 2289.44 1549.08 Q2287.15 1548.66 2284.7 1547.81 L2284.7 1543.29 Q2286.64 1544.43 2288.96 1545.01 Q2291.27 1545.58 2293.8 1545.58 Q2298.19 1545.58 2300.49 1543.85 Q2302.8 1542.11 2302.8 1538.8 Q2302.8 1535.75 2300.65 1534.03 Q2298.52 1532.3 2294.7 1532.3 L2290.67 1532.3 L2290.67 1528.45 L2294.88 1528.45 Q2298.33 1528.45 2300.16 1527.09 Q2301.99 1525.7 2301.99 1523.11 Q2301.99 1520.45 2300.09 1519.03 Q2298.22 1517.6 2294.7 1517.6 Q2292.78 1517.6 2290.58 1518.01 Q2288.38 1518.43 2285.74 1519.31 L2285.74 1515.14 Q2288.4 1514.4 2290.72 1514.03 Q2293.06 1513.66 2295.12 1513.66 Q2300.44 1513.66 2303.54 1516.09 Q2306.64 1518.5 2306.64 1522.62 Q2306.64 1525.49 2305 1527.48 Q2303.36 1529.45 2300.32 1530.21 Z\" fill=\"#000000\" fill-rule=\"nonzero\" fill-opacity=\"1\" /><polyline clip-path=\"url(#clip102)\" style=\"stroke:#000000; stroke-linecap:round; stroke-linejoin:round; stroke-width:2; stroke-opacity:0.1; fill:none\" points=\"192.941,1350.62 2352.76,1350.62 \"/>\n",
       "<polyline clip-path=\"url(#clip102)\" style=\"stroke:#000000; stroke-linecap:round; stroke-linejoin:round; stroke-width:2; stroke-opacity:0.1; fill:none\" points=\"192.941,1121.05 2352.76,1121.05 \"/>\n",
       "<polyline clip-path=\"url(#clip102)\" style=\"stroke:#000000; stroke-linecap:round; stroke-linejoin:round; stroke-width:2; stroke-opacity:0.1; fill:none\" points=\"192.941,891.479 2352.76,891.479 \"/>\n",
       "<polyline clip-path=\"url(#clip102)\" style=\"stroke:#000000; stroke-linecap:round; stroke-linejoin:round; stroke-width:2; stroke-opacity:0.1; fill:none\" points=\"192.941,661.907 2352.76,661.907 \"/>\n",
       "<polyline clip-path=\"url(#clip102)\" style=\"stroke:#000000; stroke-linecap:round; stroke-linejoin:round; stroke-width:2; stroke-opacity:0.1; fill:none\" points=\"192.941,432.335 2352.76,432.335 \"/>\n",
       "<polyline clip-path=\"url(#clip102)\" style=\"stroke:#000000; stroke-linecap:round; stroke-linejoin:round; stroke-width:2; stroke-opacity:0.1; fill:none\" points=\"192.941,202.762 2352.76,202.762 \"/>\n",
       "<polyline clip-path=\"url(#clip100)\" style=\"stroke:#000000; stroke-linecap:round; stroke-linejoin:round; stroke-width:4; stroke-opacity:1; fill:none\" points=\"192.941,1486.45 192.941,47.2441 \"/>\n",
       "<polyline clip-path=\"url(#clip100)\" style=\"stroke:#000000; stroke-linecap:round; stroke-linejoin:round; stroke-width:4; stroke-opacity:1; fill:none\" points=\"192.941,1350.62 211.838,1350.62 \"/>\n",
       "<polyline clip-path=\"url(#clip100)\" style=\"stroke:#000000; stroke-linecap:round; stroke-linejoin:round; stroke-width:4; stroke-opacity:1; fill:none\" points=\"192.941,1121.05 211.838,1121.05 \"/>\n",
       "<polyline clip-path=\"url(#clip100)\" style=\"stroke:#000000; stroke-linecap:round; stroke-linejoin:round; stroke-width:4; stroke-opacity:1; fill:none\" points=\"192.941,891.479 211.838,891.479 \"/>\n",
       "<polyline clip-path=\"url(#clip100)\" style=\"stroke:#000000; stroke-linecap:round; stroke-linejoin:round; stroke-width:4; stroke-opacity:1; fill:none\" points=\"192.941,661.907 211.838,661.907 \"/>\n",
       "<polyline clip-path=\"url(#clip100)\" style=\"stroke:#000000; stroke-linecap:round; stroke-linejoin:round; stroke-width:4; stroke-opacity:1; fill:none\" points=\"192.941,432.335 211.838,432.335 \"/>\n",
       "<polyline clip-path=\"url(#clip100)\" style=\"stroke:#000000; stroke-linecap:round; stroke-linejoin:round; stroke-width:4; stroke-opacity:1; fill:none\" points=\"192.941,202.762 211.838,202.762 \"/>\n",
       "<path clip-path=\"url(#clip100)\" d=\"M50.9921 1351.08 L80.6679 1351.08 L80.6679 1355.01 L50.9921 1355.01 L50.9921 1351.08 Z\" fill=\"#000000\" fill-rule=\"nonzero\" fill-opacity=\"1\" /><path clip-path=\"url(#clip100)\" d=\"M100.76 1336.42 Q97.1493 1336.42 95.3206 1339.99 Q93.515 1343.53 93.515 1350.66 Q93.515 1357.76 95.3206 1361.33 Q97.1493 1364.87 100.76 1364.87 Q104.395 1364.87 106.2 1361.33 Q108.029 1357.76 108.029 1350.66 Q108.029 1343.53 106.2 1339.99 Q104.395 1336.42 100.76 1336.42 M100.76 1332.72 Q106.571 1332.72 109.626 1337.33 Q112.705 1341.91 112.705 1350.66 Q112.705 1359.39 109.626 1363.99 Q106.571 1368.58 100.76 1368.58 Q94.9502 1368.58 91.8715 1363.99 Q88.816 1359.39 88.816 1350.66 Q88.816 1341.91 91.8715 1337.33 Q94.9502 1332.72 100.76 1332.72 Z\" fill=\"#000000\" fill-rule=\"nonzero\" fill-opacity=\"1\" /><path clip-path=\"url(#clip100)\" d=\"M120.922 1362.02 L125.807 1362.02 L125.807 1367.9 L120.922 1367.9 L120.922 1362.02 Z\" fill=\"#000000\" fill-rule=\"nonzero\" fill-opacity=\"1\" /><path clip-path=\"url(#clip100)\" d=\"M136.038 1333.34 L154.394 1333.34 L154.394 1337.28 L140.32 1337.28 L140.32 1345.75 Q141.339 1345.4 142.357 1345.24 Q143.376 1345.06 144.394 1345.06 Q150.181 1345.06 153.561 1348.23 Q156.941 1351.4 156.941 1356.82 Q156.941 1362.39 153.468 1365.5 Q149.996 1368.58 143.677 1368.58 Q141.501 1368.58 139.232 1368.2 Q136.987 1367.83 134.58 1367.09 L134.58 1362.39 Q136.663 1363.53 138.885 1364.08 Q141.107 1364.64 143.584 1364.64 Q147.589 1364.64 149.927 1362.53 Q152.265 1360.43 152.265 1356.82 Q152.265 1353.2 149.927 1351.1 Q147.589 1348.99 143.584 1348.99 Q141.709 1348.99 139.834 1349.41 Q137.982 1349.83 136.038 1350.7 L136.038 1333.34 Z\" fill=\"#000000\" fill-rule=\"nonzero\" fill-opacity=\"1\" /><path clip-path=\"url(#clip100)\" d=\"M99.765 1106.85 Q96.1539 1106.85 94.3252 1110.41 Q92.5197 1113.96 92.5197 1121.09 Q92.5197 1128.19 94.3252 1131.76 Q96.1539 1135.3 99.765 1135.3 Q103.399 1135.3 105.205 1131.76 Q107.033 1128.19 107.033 1121.09 Q107.033 1113.96 105.205 1110.41 Q103.399 1106.85 99.765 1106.85 M99.765 1103.15 Q105.575 1103.15 108.631 1107.75 Q111.709 1112.34 111.709 1121.09 Q111.709 1129.81 108.631 1134.42 Q105.575 1139 99.765 1139 Q93.9549 1139 90.8762 1134.42 Q87.8206 1129.81 87.8206 1121.09 Q87.8206 1112.34 90.8762 1107.75 Q93.9549 1103.15 99.765 1103.15 Z\" fill=\"#000000\" fill-rule=\"nonzero\" fill-opacity=\"1\" /><path clip-path=\"url(#clip100)\" d=\"M119.927 1132.45 L124.811 1132.45 L124.811 1138.33 L119.927 1138.33 L119.927 1132.45 Z\" fill=\"#000000\" fill-rule=\"nonzero\" fill-opacity=\"1\" /><path clip-path=\"url(#clip100)\" d=\"M144.996 1106.85 Q141.385 1106.85 139.556 1110.41 Q137.751 1113.96 137.751 1121.09 Q137.751 1128.19 139.556 1131.76 Q141.385 1135.3 144.996 1135.3 Q148.63 1135.3 150.436 1131.76 Q152.265 1128.19 152.265 1121.09 Q152.265 1113.96 150.436 1110.41 Q148.63 1106.85 144.996 1106.85 M144.996 1103.15 Q150.806 1103.15 153.862 1107.75 Q156.941 1112.34 156.941 1121.09 Q156.941 1129.81 153.862 1134.42 Q150.806 1139 144.996 1139 Q139.186 1139 136.107 1134.42 Q133.052 1129.81 133.052 1121.09 Q133.052 1112.34 136.107 1107.75 Q139.186 1103.15 144.996 1103.15 Z\" fill=\"#000000\" fill-rule=\"nonzero\" fill-opacity=\"1\" /><path clip-path=\"url(#clip100)\" d=\"M100.76 877.278 Q97.1493 877.278 95.3206 880.843 Q93.515 884.384 93.515 891.514 Q93.515 898.62 95.3206 902.185 Q97.1493 905.727 100.76 905.727 Q104.395 905.727 106.2 902.185 Q108.029 898.62 108.029 891.514 Q108.029 884.384 106.2 880.843 Q104.395 877.278 100.76 877.278 M100.76 873.574 Q106.571 873.574 109.626 878.181 Q112.705 882.764 112.705 891.514 Q112.705 900.241 109.626 904.847 Q106.571 909.431 100.76 909.431 Q94.9502 909.431 91.8715 904.847 Q88.816 900.241 88.816 891.514 Q88.816 882.764 91.8715 878.181 Q94.9502 873.574 100.76 873.574 Z\" fill=\"#000000\" fill-rule=\"nonzero\" fill-opacity=\"1\" /><path clip-path=\"url(#clip100)\" d=\"M120.922 902.88 L125.807 902.88 L125.807 908.759 L120.922 908.759 L120.922 902.88 Z\" fill=\"#000000\" fill-rule=\"nonzero\" fill-opacity=\"1\" /><path clip-path=\"url(#clip100)\" d=\"M136.038 874.199 L154.394 874.199 L154.394 878.134 L140.32 878.134 L140.32 886.607 Q141.339 886.259 142.357 886.097 Q143.376 885.912 144.394 885.912 Q150.181 885.912 153.561 889.083 Q156.941 892.255 156.941 897.671 Q156.941 903.25 153.468 906.352 Q149.996 909.431 143.677 909.431 Q141.501 909.431 139.232 909.06 Q136.987 908.69 134.58 907.949 L134.58 903.25 Q136.663 904.384 138.885 904.94 Q141.107 905.495 143.584 905.495 Q147.589 905.495 149.927 903.389 Q152.265 901.282 152.265 897.671 Q152.265 894.06 149.927 891.954 Q147.589 889.847 143.584 889.847 Q141.709 889.847 139.834 890.264 Q137.982 890.681 136.038 891.56 L136.038 874.199 Z\" fill=\"#000000\" fill-rule=\"nonzero\" fill-opacity=\"1\" /><path clip-path=\"url(#clip100)\" d=\"M90.5752 675.252 L98.2141 675.252 L98.2141 648.886 L89.904 650.553 L89.904 646.294 L98.1678 644.627 L102.844 644.627 L102.844 675.252 L110.483 675.252 L110.483 679.187 L90.5752 679.187 L90.5752 675.252 Z\" fill=\"#000000\" fill-rule=\"nonzero\" fill-opacity=\"1\" /><path clip-path=\"url(#clip100)\" d=\"M119.927 673.307 L124.811 673.307 L124.811 679.187 L119.927 679.187 L119.927 673.307 Z\" fill=\"#000000\" fill-rule=\"nonzero\" fill-opacity=\"1\" /><path clip-path=\"url(#clip100)\" d=\"M144.996 647.706 Q141.385 647.706 139.556 651.27 Q137.751 654.812 137.751 661.942 Q137.751 669.048 139.556 672.613 Q141.385 676.155 144.996 676.155 Q148.63 676.155 150.436 672.613 Q152.265 669.048 152.265 661.942 Q152.265 654.812 150.436 651.27 Q148.63 647.706 144.996 647.706 M144.996 644.002 Q150.806 644.002 153.862 648.608 Q156.941 653.192 156.941 661.942 Q156.941 670.668 153.862 675.275 Q150.806 679.858 144.996 679.858 Q139.186 679.858 136.107 675.275 Q133.052 670.668 133.052 661.942 Q133.052 653.192 136.107 648.608 Q139.186 644.002 144.996 644.002 Z\" fill=\"#000000\" fill-rule=\"nonzero\" fill-opacity=\"1\" /><path clip-path=\"url(#clip100)\" d=\"M91.5706 445.68 L99.2095 445.68 L99.2095 419.314 L90.8993 420.981 L90.8993 416.721 L99.1632 415.055 L103.839 415.055 L103.839 445.68 L111.478 445.68 L111.478 449.615 L91.5706 449.615 L91.5706 445.68 Z\" fill=\"#000000\" fill-rule=\"nonzero\" fill-opacity=\"1\" /><path clip-path=\"url(#clip100)\" d=\"M120.922 443.735 L125.807 443.735 L125.807 449.615 L120.922 449.615 L120.922 443.735 Z\" fill=\"#000000\" fill-rule=\"nonzero\" fill-opacity=\"1\" /><path clip-path=\"url(#clip100)\" d=\"M136.038 415.055 L154.394 415.055 L154.394 418.99 L140.32 418.99 L140.32 427.462 Q141.339 427.115 142.357 426.953 Q143.376 426.768 144.394 426.768 Q150.181 426.768 153.561 429.939 Q156.941 433.11 156.941 438.527 Q156.941 444.105 153.468 447.207 Q149.996 450.286 143.677 450.286 Q141.501 450.286 139.232 449.916 Q136.987 449.545 134.58 448.804 L134.58 444.105 Q136.663 445.24 138.885 445.795 Q141.107 446.351 143.584 446.351 Q147.589 446.351 149.927 444.244 Q152.265 442.138 152.265 438.527 Q152.265 434.916 149.927 432.809 Q147.589 430.703 143.584 430.703 Q141.709 430.703 139.834 431.119 Q137.982 431.536 136.038 432.416 L136.038 415.055 Z\" fill=\"#000000\" fill-rule=\"nonzero\" fill-opacity=\"1\" /><path clip-path=\"url(#clip100)\" d=\"M93.7928 216.107 L110.112 216.107 L110.112 220.042 L88.1679 220.042 L88.1679 216.107 Q90.8299 213.353 95.4132 208.723 Q100.02 204.07 101.2 202.728 Q103.446 200.205 104.325 198.468 Q105.228 196.709 105.228 195.019 Q105.228 192.265 103.284 190.529 Q101.362 188.793 98.2604 188.793 Q96.0613 188.793 93.6076 189.556 Q91.1771 190.32 88.3993 191.871 L88.3993 187.149 Q91.2234 186.015 93.6771 185.436 Q96.1308 184.857 98.1678 184.857 Q103.538 184.857 106.733 187.543 Q109.927 190.228 109.927 194.718 Q109.927 196.848 109.117 198.769 Q108.33 200.668 106.223 203.26 Q105.645 203.931 102.543 207.149 Q99.4409 210.343 93.7928 216.107 Z\" fill=\"#000000\" fill-rule=\"nonzero\" fill-opacity=\"1\" /><path clip-path=\"url(#clip100)\" d=\"M119.927 214.163 L124.811 214.163 L124.811 220.042 L119.927 220.042 L119.927 214.163 Z\" fill=\"#000000\" fill-rule=\"nonzero\" fill-opacity=\"1\" /><path clip-path=\"url(#clip100)\" d=\"M144.996 188.561 Q141.385 188.561 139.556 192.126 Q137.751 195.668 137.751 202.797 Q137.751 209.904 139.556 213.468 Q141.385 217.01 144.996 217.01 Q148.63 217.01 150.436 213.468 Q152.265 209.904 152.265 202.797 Q152.265 195.668 150.436 192.126 Q148.63 188.561 144.996 188.561 M144.996 184.857 Q150.806 184.857 153.862 189.464 Q156.941 194.047 156.941 202.797 Q156.941 211.524 153.862 216.13 Q150.806 220.714 144.996 220.714 Q139.186 220.714 136.107 216.13 Q133.052 211.524 133.052 202.797 Q133.052 194.047 136.107 189.464 Q139.186 184.857 144.996 184.857 Z\" fill=\"#000000\" fill-rule=\"nonzero\" fill-opacity=\"1\" /><path clip-path=\"url(#clip102)\" d=\"M1243.31 1121.05 L1242.67 1100.67 L1240.75 1080.36 L1237.56 1060.22 L1233.11 1040.31 L1227.42 1020.72 L1220.51 1001.53 L1212.41 982.816 L1203.15 964.643 L1192.77 947.088 L1181.3 930.219 L1168.8 914.103 L1155.31 898.804 L1140.89 884.381 L1125.59 870.893 L1109.48 858.393 L1092.61 846.928 L1075.05 836.546 L1056.88 827.287 L1038.16 819.186 L1018.97 812.277 L999.383 806.587 L979.479 802.138 L959.334 798.947 L939.029 797.028 L918.643 796.387 L898.257 797.028 L877.952 798.947 L857.807 802.138 L837.902 806.587 L818.316 812.277 L799.126 819.186 L780.407 827.287 L762.235 836.546 L744.679 846.928 L727.81 858.393 L711.694 870.893 L696.395 884.381 L681.973 898.804 L668.485 914.103 L655.984 930.219 L644.52 947.088 L634.137 964.643 L624.878 982.816 L616.778 1001.53 L609.869 1020.72 L604.178 1040.31 L599.729 1060.22 L596.539 1080.36 L594.619 1100.67 L593.979 1121.05 L594.619 1141.44 L596.539 1161.74 L599.729 1181.89 L604.178 1201.79 L609.869 1221.38 L616.778 1240.57 L624.878 1259.29 L634.137 1277.46 L644.52 1295.02 L655.984 1311.88 L668.485 1328 L681.973 1343.3 L696.395 1357.72 L711.694 1371.21 L727.81 1383.71 L744.679 1395.17 L762.235 1405.56 L780.407 1414.82 L799.126 1422.92 L818.316 1429.83 L837.902 1435.52 L857.807 1439.96 L877.952 1443.16 L898.257 1445.08 L918.643 1445.72 L939.029 1445.08 L959.334 1443.16 L979.479 1439.96 L999.383 1435.52 L1018.97 1429.83 L1038.16 1422.92 L1056.88 1414.82 L1075.05 1405.56 L1092.61 1395.17 L1109.48 1383.71 L1125.59 1371.21 L1140.89 1357.72 L1155.31 1343.3 L1168.8 1328 L1181.3 1311.88 L1192.77 1295.02 L1203.15 1277.46 L1212.41 1259.29 L1220.51 1240.57 L1227.42 1221.38 L1233.11 1201.79 L1237.56 1181.89 L1240.75 1161.74 L1242.67 1141.44 L1243.31 1121.05  Z\" fill=\"#009af9\" fill-rule=\"evenodd\" fill-opacity=\"1\"/>\n",
       "<polyline clip-path=\"url(#clip102)\" style=\"stroke:#000000; stroke-linecap:round; stroke-linejoin:round; stroke-width:4; stroke-opacity:1; fill:none\" points=\"1243.31,1121.05 1242.67,1100.67 1240.75,1080.36 1237.56,1060.22 1233.11,1040.31 1227.42,1020.72 1220.51,1001.53 1212.41,982.816 1203.15,964.643 1192.77,947.088 1181.3,930.219 1168.8,914.103 1155.31,898.804 1140.89,884.381 1125.59,870.893 1109.48,858.393 1092.61,846.928 1075.05,836.546 1056.88,827.287 1038.16,819.186 1018.97,812.277 999.383,806.587 979.479,802.138 959.334,798.947 939.029,797.028 918.643,796.387 898.257,797.028 877.952,798.947 857.807,802.138 837.902,806.587 818.316,812.277 799.126,819.186 780.407,827.287 762.235,836.546 744.679,846.928 727.81,858.393 711.694,870.893 696.395,884.381 681.973,898.804 668.485,914.103 655.984,930.219 644.52,947.088 634.137,964.643 624.878,982.816 616.778,1001.53 609.869,1020.72 604.178,1040.31 599.729,1060.22 596.539,1080.36 594.619,1100.67 593.979,1121.05 594.619,1141.44 596.539,1161.74 599.729,1181.89 604.178,1201.79 609.869,1221.38 616.778,1240.57 624.878,1259.29 634.137,1277.46 644.52,1295.02 655.984,1311.88 668.485,1328 681.973,1343.3 696.395,1357.72 711.694,1371.21 727.81,1383.71 744.679,1395.17 762.235,1405.56 780.407,1414.82 799.126,1422.92 818.316,1429.83 837.902,1435.52 857.807,1439.96 877.952,1443.16 898.257,1445.08 918.643,1445.72 939.029,1445.08 959.334,1443.16 979.479,1439.96 999.383,1435.52 1018.97,1429.83 1038.16,1422.92 1056.88,1414.82 1075.05,1405.56 1092.61,1395.17 1109.48,1383.71 1125.59,1371.21 1140.89,1357.72 1155.31,1343.3 1168.8,1328 1181.3,1311.88 1192.77,1295.02 1203.15,1277.46 1212.41,1259.29 1220.51,1240.57 1227.42,1221.38 1233.11,1201.79 1237.56,1181.89 1240.75,1161.74 1242.67,1141.44 1243.31,1121.05 \"/>\n",
       "<path clip-path=\"url(#clip102)\" d=\"M1702.45 661.907 L1701.81 641.521 L1699.89 621.216 L1696.7 601.071 L1692.25 581.166 L1686.56 561.58 L1679.65 542.39 L1671.55 523.672 L1662.29 505.499 L1651.91 487.943 L1640.45 471.074 L1627.95 454.958 L1614.46 439.659 L1600.04 425.237 L1584.74 411.749 L1568.62 399.248 L1551.75 387.784 L1534.2 377.402 L1516.02 368.142 L1497.3 360.042 L1478.11 353.133 L1458.53 347.443 L1438.62 342.993 L1418.48 339.803 L1398.17 337.883 L1377.79 337.243 L1357.4 337.883 L1337.1 339.803 L1316.95 342.993 L1297.05 347.443 L1277.46 353.133 L1258.27 360.042 L1239.55 368.142 L1221.38 377.402 L1203.82 387.784 L1186.95 399.248 L1170.84 411.749 L1155.54 425.237 L1141.12 439.659 L1127.63 454.958 L1115.13 471.074 L1103.66 487.943 L1093.28 505.499 L1084.02 523.672 L1075.92 542.39 L1069.01 561.58 L1063.32 581.166 L1058.87 601.071 L1055.68 621.216 L1053.76 641.521 L1053.12 661.907 L1053.76 682.293 L1055.68 702.598 L1058.87 722.743 L1063.32 742.648 L1069.01 762.234 L1075.92 781.424 L1084.02 800.142 L1093.28 818.315 L1103.66 835.871 L1115.13 852.74 L1127.63 868.856 L1141.12 884.155 L1155.54 898.577 L1170.84 912.065 L1186.95 924.566 L1203.82 936.03 L1221.38 946.412 L1239.55 955.672 L1258.27 963.772 L1277.46 970.681 L1297.05 976.371 L1316.95 980.82 L1337.1 984.011 L1357.4 985.931 L1377.79 986.571 L1398.17 985.931 L1418.48 984.011 L1438.62 980.82 L1458.53 976.371 L1478.11 970.681 L1497.3 963.772 L1516.02 955.672 L1534.2 946.412 L1551.75 936.03 L1568.62 924.566 L1584.74 912.065 L1600.04 898.577 L1614.46 884.155 L1627.95 868.856 L1640.45 852.74 L1651.91 835.871 L1662.29 818.315 L1671.55 800.142 L1679.65 781.424 L1686.56 762.234 L1692.25 742.648 L1696.7 722.743 L1699.89 702.598 L1701.81 682.293 L1702.45 661.907  Z\" fill=\"#e26f46\" fill-rule=\"evenodd\" fill-opacity=\"1\"/>\n",
       "<polyline clip-path=\"url(#clip102)\" style=\"stroke:#000000; stroke-linecap:round; stroke-linejoin:round; stroke-width:4; stroke-opacity:1; fill:none\" points=\"1702.45,661.907 1701.81,641.521 1699.89,621.216 1696.7,601.071 1692.25,581.166 1686.56,561.58 1679.65,542.39 1671.55,523.672 1662.29,505.499 1651.91,487.943 1640.45,471.074 1627.95,454.958 1614.46,439.659 1600.04,425.237 1584.74,411.749 1568.62,399.248 1551.75,387.784 1534.2,377.402 1516.02,368.142 1497.3,360.042 1478.11,353.133 1458.53,347.443 1438.62,342.993 1418.48,339.803 1398.17,337.883 1377.79,337.243 1357.4,337.883 1337.1,339.803 1316.95,342.993 1297.05,347.443 1277.46,353.133 1258.27,360.042 1239.55,368.142 1221.38,377.402 1203.82,387.784 1186.95,399.248 1170.84,411.749 1155.54,425.237 1141.12,439.659 1127.63,454.958 1115.13,471.074 1103.66,487.943 1093.28,505.499 1084.02,523.672 1075.92,542.39 1069.01,561.58 1063.32,581.166 1058.87,601.071 1055.68,621.216 1053.76,641.521 1053.12,661.907 1053.76,682.293 1055.68,702.598 1058.87,722.743 1063.32,742.648 1069.01,762.234 1075.92,781.424 1084.02,800.142 1093.28,818.315 1103.66,835.871 1115.13,852.74 1127.63,868.856 1141.12,884.155 1155.54,898.577 1170.84,912.065 1186.95,924.566 1203.82,936.03 1221.38,946.412 1239.55,955.672 1258.27,963.772 1277.46,970.681 1297.05,976.371 1316.95,980.82 1337.1,984.011 1357.4,985.931 1377.79,986.571 1398.17,985.931 1418.48,984.011 1438.62,980.82 1458.53,976.371 1478.11,970.681 1497.3,963.772 1516.02,955.672 1534.2,946.412 1551.75,936.03 1568.62,924.566 1584.74,912.065 1600.04,898.577 1614.46,884.155 1627.95,868.856 1640.45,852.74 1651.91,835.871 1662.29,818.315 1671.55,800.142 1679.65,781.424 1686.56,762.234 1692.25,742.648 1696.7,722.743 1699.89,702.598 1701.81,682.293 1702.45,661.907 \"/>\n",
       "<path clip-path=\"url(#clip102)\" d=\"M1951.72 202.762 L1951.49 195.555 L1950.81 188.376 L1949.68 181.254 L1948.11 174.216 L1946.1 167.292 L1943.66 160.507 L1940.79 153.889 L1937.52 147.464 L1933.85 141.257 L1929.8 135.293 L1925.38 129.595 L1920.61 124.186 L1915.51 119.087 L1910.1 114.318 L1904.4 109.898 L1898.44 105.845 L1892.23 102.175 L1885.81 98.9008 L1879.19 96.037 L1872.4 93.5943 L1865.48 91.5825 L1858.44 90.0095 L1851.32 88.8814 L1844.14 88.2028 L1836.93 87.9763 L1829.72 88.2028 L1822.55 88.8814 L1815.42 90.0095 L1808.39 91.5825 L1801.46 93.5943 L1794.68 96.037 L1788.06 98.9008 L1781.63 102.175 L1775.43 105.845 L1769.46 109.898 L1763.76 114.318 L1758.36 119.087 L1753.26 124.186 L1748.49 129.595 L1744.07 135.293 L1740.01 141.257 L1736.34 147.464 L1733.07 153.889 L1730.21 160.507 L1727.76 167.292 L1725.75 174.216 L1724.18 181.254 L1723.05 188.376 L1722.37 195.555 L1722.15 202.762 L1722.37 209.97 L1723.05 217.149 L1724.18 224.271 L1725.75 231.309 L1727.76 238.233 L1730.21 245.018 L1733.07 251.636 L1736.34 258.061 L1740.01 264.268 L1744.07 270.232 L1748.49 275.93 L1753.26 281.339 L1758.36 286.438 L1763.76 291.207 L1769.46 295.626 L1775.43 299.68 L1781.63 303.35 L1788.06 306.624 L1794.68 309.488 L1801.46 311.931 L1808.39 313.942 L1815.42 315.515 L1822.55 316.643 L1829.72 317.322 L1836.93 317.549 L1844.14 317.322 L1851.32 316.643 L1858.44 315.515 L1865.48 313.942 L1872.4 311.931 L1879.19 309.488 L1885.81 306.624 L1892.23 303.35 L1898.44 299.68 L1904.4 295.626 L1910.1 291.207 L1915.51 286.438 L1920.61 281.339 L1925.38 275.93 L1929.8 270.232 L1933.85 264.268 L1937.52 258.061 L1940.79 251.636 L1943.66 245.018 L1946.1 238.233 L1948.11 231.309 L1949.68 224.271 L1950.81 217.149 L1951.49 209.97 L1951.72 202.762  Z\" fill=\"#3da44d\" fill-rule=\"evenodd\" fill-opacity=\"1\"/>\n",
       "<polyline clip-path=\"url(#clip102)\" style=\"stroke:#000000; stroke-linecap:round; stroke-linejoin:round; stroke-width:4; stroke-opacity:1; fill:none\" points=\"1951.72,202.762 1951.49,195.555 1950.81,188.376 1949.68,181.254 1948.11,174.216 1946.1,167.292 1943.66,160.507 1940.79,153.889 1937.52,147.464 1933.85,141.257 1929.8,135.293 1925.38,129.595 1920.61,124.186 1915.51,119.087 1910.1,114.318 1904.4,109.898 1898.44,105.845 1892.23,102.175 1885.81,98.9008 1879.19,96.037 1872.4,93.5943 1865.48,91.5825 1858.44,90.0095 1851.32,88.8814 1844.14,88.2028 1836.93,87.9763 1829.72,88.2028 1822.55,88.8814 1815.42,90.0095 1808.39,91.5825 1801.46,93.5943 1794.68,96.037 1788.06,98.9008 1781.63,102.175 1775.43,105.845 1769.46,109.898 1763.76,114.318 1758.36,119.087 1753.26,124.186 1748.49,129.595 1744.07,135.293 1740.01,141.257 1736.34,147.464 1733.07,153.889 1730.21,160.507 1727.76,167.292 1725.75,174.216 1724.18,181.254 1723.05,188.376 1722.37,195.555 1722.15,202.762 1722.37,209.97 1723.05,217.149 1724.18,224.271 1725.75,231.309 1727.76,238.233 1730.21,245.018 1733.07,251.636 1736.34,258.061 1740.01,264.268 1744.07,270.232 1748.49,275.93 1753.26,281.339 1758.36,286.438 1763.76,291.207 1769.46,295.626 1775.43,299.68 1781.63,303.35 1788.06,306.624 1794.68,309.488 1801.46,311.931 1808.39,313.942 1815.42,315.515 1822.55,316.643 1829.72,317.322 1836.93,317.549 1844.14,317.322 1851.32,316.643 1858.44,315.515 1865.48,313.942 1872.4,311.931 1879.19,309.488 1885.81,306.624 1892.23,303.35 1898.44,299.68 1904.4,295.626 1910.1,291.207 1915.51,286.438 1920.61,281.339 1925.38,275.93 1929.8,270.232 1933.85,264.268 1937.52,258.061 1940.79,251.636 1943.66,245.018 1946.1,238.233 1948.11,231.309 1949.68,224.271 1950.81,217.149 1951.49,209.97 1951.72,202.762 \"/>\n",
       "</svg>\n"
      ]
     },
     "execution_count": 16,
     "metadata": {},
     "output_type": "execute_result"
    }
   ],
   "source": [
    "c1=drawcircles([[0,0],[1,1],[2,2]],[sqrt(2)/2,sqrt(2)/2,0.25])"
   ]
  },
  {
   "cell_type": "markdown",
   "id": "ebac4439-3053-4eea-a27b-05e9b7857f06",
   "metadata": {},
   "source": [
    "Use this command to write a `visualize(billiard::Billiard)` function which draws the current state of a billiard.  Test."
   ]
  },
  {
   "cell_type": "code",
   "execution_count": null,
   "id": "feba074c-6d3d-4139-8eb5-1fa4fdd98781",
   "metadata": {},
   "outputs": [],
   "source": []
  },
  {
   "cell_type": "code",
   "execution_count": null,
   "id": "9ee6b353-d23c-46eb-8277-c1a56df17b21",
   "metadata": {},
   "outputs": [],
   "source": []
  },
  {
   "cell_type": "markdown",
   "id": "b12c44ee-b691-40b6-af99-189b8c867c87",
   "metadata": {},
   "source": [
    "<h2 style=\"border: 2px solid #000; border-radius: 10px; padding: 20px; background-color:red; color:white;\" >\n",
    "## Activity 5\n",
    "</h2>"
   ]
  },
  {
   "cell_type": "markdown",
   "id": "2be3cbe1-9e6c-48cb-b316-cee56dcacefc",
   "metadata": {},
   "source": [
    "Write a function `setevents!(billiard::Billiard)` -- which will loop over all the `Balls`, setting their `nextevent` attribute to the output of `next_event`.  Note that for $N$ balls, this take of order $O(N^2)$ time.\n",
    "\n",
    "As you go, update `billiard.nextevent` with the earliest of these."
   ]
  },
  {
   "cell_type": "code",
   "execution_count": null,
   "id": "6788f44c-2ffc-47d4-bbb2-092b7407315a",
   "metadata": {},
   "outputs": [],
   "source": []
  },
  {
   "cell_type": "code",
   "execution_count": null,
   "id": "92a9b949-6d8c-4557-8143-031511c1c9e8",
   "metadata": {},
   "outputs": [],
   "source": []
  },
  {
   "cell_type": "code",
   "execution_count": 22,
   "id": "238279b1-7cba-4491-bf29-1c4c42fae604",
   "metadata": {},
   "outputs": [
    {
     "data": {
      "text/plain": [
       "Collision(Ball << r=(0.0, 0.0) v=(1.0, 0.0)>>), Ball << r=(0.5, 0.0) v=(-1.0, 0.0)>>), 0.15)"
      ]
     },
     "execution_count": 22,
     "metadata": {},
     "output_type": "execute_result"
    }
   ],
   "source": [
    "billiard1.nextevent"
   ]
  },
  {
   "cell_type": "markdown",
   "id": "5f1803dd-1772-4ae1-a66a-cfcdd2a11b69",
   "metadata": {},
   "source": [
    "<h2 style=\"border: 2px solid #000; border-radius: 10px; padding: 20px; background-color:red; color:white;\" >\n",
    "## Activity 6\n",
    "</h2>"
   ]
  },
  {
   "cell_type": "markdown",
   "id": "73d77293-f52a-4ffe-900d-ad8882a79da5",
   "metadata": {},
   "source": [
    "We already have code for when a ball bounces off of a wall:"
   ]
  },
  {
   "cell_type": "code",
   "execution_count": 23,
   "id": "9a318244-9d84-4553-aed3-6267a3ab117d",
   "metadata": {},
   "outputs": [
    {
     "data": {
      "text/plain": [
       "set_newvelocity! (generic function with 2 methods)"
      ]
     },
     "execution_count": 23,
     "metadata": {},
     "output_type": "execute_result"
    }
   ],
   "source": [
    "reflect(vec,normal)=vec-2*(vec⋅normal)*normal/(normal⋅normal)\n",
    "normal(w::Hwall,r)=[0,1]\n",
    "normal(w::Vwall,r)=[1,0]\n",
    "\n",
    "function newvelocity(w::Wall,b::Ball)\n",
    "    r=get_r(b)\n",
    "    n=normal(w,r)\n",
    "    v=get_v(b)\n",
    "    return reflect(v,n)\n",
    "end\n",
    "\n",
    "function set_newvelocity!(w::Wall,b::Ball)\n",
    "    v=newvelocity(w,b)\n",
    "    set_v!(b,v)\n",
    "    return b\n",
    "end\n",
    "\n",
    "set_newvelocity!(b::Ball,w::Wall)=set_newvelocity!(w,b)\n"
   ]
  },
  {
   "cell_type": "markdown",
   "id": "4d7c4ff3-db5a-4c02-8ce8-424784938a53",
   "metadata": {},
   "source": [
    "We need similar code for when two balls bounce off of one-another.  Write a function `set_newvelocity!(b1::Ball,b1::ball)` which sets the velocities of two colliding balls after a collision.  Assume that the balls are in physical contact (so you dont' need to check if they will collide, or find their positions at that time -- we will only call this function when they are at the right locations).\n",
    "\n",
    "Hint:  In the center of mass frame, the velocities are just reflected using the normal vector at the collision point.  We will assume all of the balls have the same mass, so the center of mass frame is easy to find"
   ]
  },
  {
   "cell_type": "code",
   "execution_count": null,
   "id": "339c346b-1eff-49ec-b4a3-c83ef2a15cef",
   "metadata": {},
   "outputs": [],
   "source": []
  },
  {
   "cell_type": "code",
   "execution_count": null,
   "id": "2701e35b-72a0-465a-94d4-12dbadae97aa",
   "metadata": {},
   "outputs": [],
   "source": []
  },
  {
   "cell_type": "markdown",
   "id": "6ae5aa67-c406-4117-be40-ad2403a8ce2c",
   "metadata": {},
   "source": [
    "<h2 style=\"border: 2px solid #000; border-radius: 10px; padding: 20px; background-color:red; color:white;\" >\n",
    "## Activity 7\n",
    "</h2>"
   ]
  },
  {
   "cell_type": "markdown",
   "id": "fc96f5e8-3cbb-4f3a-ae95-0d718c96f74e",
   "metadata": {},
   "source": [
    "Make a method `update!(billiard::Billiard,event::Event)`, which grabs `current_time=billiard.t` and `collision_time=event.t`.  It updates the positions of the balls as they move in a straight line path between those times.  (for that you might want to make a `time_evolve(b:Ball,dt)` method.  Your `update!` method should then calls `set_newvelocity!` on the objects in the event.  Finally it should update `billiard.t`."
   ]
  },
  {
   "cell_type": "markdown",
   "id": "0916d7c0-eb8f-459d-a1af-8a8b9eeba0be",
   "metadata": {},
   "source": [
    "A good way to test this is to first generate a `Billiard`:\n",
    "\n",
    "    b1=Ball(0,0,1,0,0.1,NE)\n",
    "    b2=Ball(0.5,0.,-1,0,0.1,NE)\n",
    "    billiard1=Billiard(walls=[Hwall(1),Vwall(1),Hwall(-1),Vwall(-1)],\n",
    "        balls=[b1,b2],boundingbox=[-1,-1,1,1])\n",
    "    visualize(billiard1)\n",
    "\n",
    "Run that, then in a new cell run\n",
    "\n",
    "    setevents!(billiard1)\n",
    "    update!(billiard1,billiard1.nextevent)\n",
    "    visualize(billiard1)\n",
    "\n",
    "Every time you run that cell it should update the billiard, and the visualization.  Do that a bunch of times to see if it is acting correctly."
   ]
  },
  {
   "cell_type": "code",
   "execution_count": null,
   "id": "ea321ecf-9488-4d24-8763-caba32640044",
   "metadata": {},
   "outputs": [],
   "source": []
  },
  {
   "cell_type": "code",
   "execution_count": null,
   "id": "ca3f5928-8056-43de-8d4d-13f89dcf8652",
   "metadata": {},
   "outputs": [],
   "source": []
  },
  {
   "cell_type": "markdown",
   "id": "2ccc2c40-76f3-4d07-845c-367ed6237840",
   "metadata": {},
   "source": [
    "<h2 style=\"border: 2px solid #000; border-radius: 10px; padding: 20px; background-color:red; color:white;\" >\n",
    "## Activity 8\n",
    "</h2>"
   ]
  },
  {
   "cell_type": "markdown",
   "id": "f0fbba45-f300-4c71-8b77-d4f7d5954041",
   "metadata": {},
   "source": [
    "Now you have all the ingredients that you need for the simulation.  We need to figure out, however, how we will deliver the output.  Lets use the following data structure"
   ]
  },
  {
   "cell_type": "code",
   "execution_count": 30,
   "id": "e7b072d4-f133-44d5-bf16-cc7bc19d9802",
   "metadata": {},
   "outputs": [],
   "source": [
    "struct State\n",
    "    xvalues ::Array{Float64,1}\n",
    "    yvalues ::Array{Float64,1}\n",
    "    vxvalues ::Array{Float64,1}\n",
    "    vyvalues ::Array{Float64,1}\n",
    "    radii ::Array{Float64,1}\n",
    "    t ::Float64\n",
    "end\n",
    "\n",
    "struct Simulationdata\n",
    "    walls :: Array{Wall}\n",
    "    statelist :: Array{State}\n",
    "    boundingbox ::Array{Float64,1}\n",
    "end\n",
    "\n",
    "Base.length(s::Simulationdata)=length(s.statelist)"
   ]
  },
  {
   "cell_type": "markdown",
   "id": "54c85ead-294f-473e-b4f0-31fad860053f",
   "metadata": {},
   "source": [
    "The object `State` will contain the x,y,vx,yv for each of the balls in the current state of the system.\n",
    "\n",
    "Write a function which creates a state object from a Billiard\n",
    "\n",
    "    function State(b::Billiard)\n",
    "        ...\n",
    "    end\n",
    "\n",
    "Also make a function which can be used to visualizes a state:\n",
    "\n",
    "    function visualize!(plt::Plots.Plot,s::State;opts...)\n",
    "\n",
    "test the state creation and visualization.  Note, this `visualize` should only draw the balls -- you will separately draw the walls."
   ]
  },
  {
   "cell_type": "code",
   "execution_count": null,
   "id": "a6186cfa-47d3-407a-9e5d-657fde581fa5",
   "metadata": {},
   "outputs": [],
   "source": []
  },
  {
   "cell_type": "code",
   "execution_count": null,
   "id": "8ceae3cb-f168-4908-bb49-bd730fbca464",
   "metadata": {},
   "outputs": [],
   "source": []
  },
  {
   "cell_type": "markdown",
   "id": "40a457b3-9535-437f-aa04-75772f8f71ec",
   "metadata": {},
   "source": [
    "<h2 style=\"border: 2px solid #000; border-radius: 10px; padding: 20px; background-color:red; color:white;\" >\n",
    "## Activity 9\n",
    "</h2>"
   ]
  },
  {
   "cell_type": "markdown",
   "id": "7921f1ba-37d2-473d-841d-df33b6558d21",
   "metadata": {},
   "source": [
    "Make your main loop \n",
    "\n",
    "    function simulate(billiard::Billiard,n)\n",
    "\n",
    "that takes a `Billiard`, and time-evolves it for a fixed number of collisions.  It then returns the a `Simulationdata` object.\n",
    "\n",
    "Test with a small run with a couple balls, and just a few collisions."
   ]
  },
  {
   "cell_type": "code",
   "execution_count": null,
   "id": "97bb51a7-cc4b-4298-8e7d-534ff70255e7",
   "metadata": {},
   "outputs": [],
   "source": []
  },
  {
   "cell_type": "code",
   "execution_count": null,
   "id": "c7d4a176-2d9e-4ef8-8ebb-a013b9278132",
   "metadata": {},
   "outputs": [],
   "source": []
  },
  {
   "cell_type": "code",
   "execution_count": null,
   "id": "747f3d8c-a5d4-4bcf-ab31-7a4be1e018aa",
   "metadata": {},
   "outputs": [],
   "source": []
  },
  {
   "cell_type": "markdown",
   "id": "d8601a4f-1408-422a-a9c3-0b96817235d8",
   "metadata": {},
   "source": [
    "<h2 style=\"border: 2px solid #000; border-radius: 10px; padding: 20px; background-color:red; color:white;\" >\n",
    "## Activity 10\n",
    "</h2>"
   ]
  },
  {
   "cell_type": "markdown",
   "id": "eb4a3433-bab0-4d46-8b85-69d35f8a6b32",
   "metadata": {},
   "source": [
    "Now we need some visualization. The first thing we need is a function which draws the configuration for a single frame of our simulation data, something like"
   ]
  },
  {
   "cell_type": "code",
   "execution_count": 35,
   "id": "2e37b5d5-517e-4acc-b122-a1214fe59c95",
   "metadata": {},
   "outputs": [
    {
     "data": {
      "text/plain": [
       "drawframe (generic function with 1 method)"
      ]
     },
     "execution_count": 35,
     "metadata": {},
     "output_type": "execute_result"
    }
   ],
   "source": [
    "function drawframe(s::Simulationdata,j)\n",
    "    walls=s.walls\n",
    "    bbox=s.boundingbox\n",
    "    plt=plot()\n",
    "    for w in walls\n",
    "        visualize!(plt,w,bbox;label=\"\")\n",
    "    end\n",
    "    visualize!(plt,s.statelist[j])\n",
    "end"
   ]
  },
  {
   "cell_type": "markdown",
   "id": "bf1826b7-6ae8-4649-baa9-7cc22c8cad85",
   "metadata": {},
   "source": [
    "Test to see if this works by running your `simulate` function for a few collisions, and draw some of the resulting configurations"
   ]
  },
  {
   "cell_type": "code",
   "execution_count": null,
   "id": "a1180c9a-26ba-42bd-a527-79c11258a2de",
   "metadata": {},
   "outputs": [],
   "source": []
  },
  {
   "cell_type": "code",
   "execution_count": null,
   "id": "5c1fb6c4-b777-436e-9f64-280e655546f3",
   "metadata": {},
   "outputs": [],
   "source": []
  },
  {
   "cell_type": "markdown",
   "id": "3e56a75a-b22c-4879-a8d3-ccd08b4840ed",
   "metadata": {},
   "source": [
    "Now here is a minimal implementation of a `eventanimate` function.  Here `skip` is an integer which lets us skip frames to speed up the animation when we have lots of balls"
   ]
  },
  {
   "cell_type": "code",
   "execution_count": 36,
   "id": "9d40bae6-98fa-4925-be1c-d3c03a78a366",
   "metadata": {},
   "outputs": [
    {
     "data": {
      "text/plain": [
       "eventanimate (generic function with 2 methods)"
      ]
     },
     "execution_count": 36,
     "metadata": {},
     "output_type": "execute_result"
    }
   ],
   "source": [
    "function eventanimate(s::Simulationdata,skip=1)\n",
    "    # print out a message to let the user know things are starting\n",
    "    @info \"Animating Simulation\"\n",
    "    len=length(s)\n",
    "    progress_meter=Progress(len,desc=\"Generating frames: \")\n",
    "    anim =  @animate for i in 1:skip:len\n",
    "        ProgressMeter.update!(progress_meter,i)\n",
    "        drawframe(s,i)\n",
    "    end\n",
    "    Plots.gif(anim, fps = 12)\n",
    "end"
   ]
  },
  {
   "cell_type": "markdown",
   "id": "f4116a98-c18a-4d5c-b365-1c610e65e565",
   "metadata": {},
   "source": [
    "Test it out with just a couple balls.  It should be pretty jumpy, but that is OK -- we are going to want to work with many balls, which will smooth it out."
   ]
  },
  {
   "cell_type": "code",
   "execution_count": null,
   "id": "b725050f-896d-4fd5-a1a7-c6dc7eacb049",
   "metadata": {},
   "outputs": [],
   "source": []
  },
  {
   "cell_type": "code",
   "execution_count": null,
   "id": "12840b24-1a40-43f5-86d9-e3ee5a506b46",
   "metadata": {},
   "outputs": [],
   "source": []
  },
  {
   "cell_type": "code",
   "execution_count": null,
   "id": "2257168a-37be-46ef-a7ff-ff8292ad3191",
   "metadata": {},
   "outputs": [],
   "source": []
  },
  {
   "cell_type": "code",
   "execution_count": null,
   "id": "33e9e1e1-fa05-4b08-977a-5eeccdb70f72",
   "metadata": {},
   "outputs": [],
   "source": []
  },
  {
   "cell_type": "markdown",
   "id": "1d30faad-9494-4ce0-8204-7bf86984abcc",
   "metadata": {},
   "source": [
    "<h2 style=\"border: 2px solid #000; border-radius: 10px; padding: 20px; background-color:red; color:white;\" >\n",
    "## Activity 11\n",
    "</h2>"
   ]
  },
  {
   "cell_type": "markdown",
   "id": "454a0371-5a5d-45ea-b21c-9e039709b9de",
   "metadata": {},
   "source": [
    "Now we need to automate initial conditions.  For simplicity, lets start the balls on a $n_x\\times n_y$ grid (so there will be $N=n_x n_y$ balls).  We will give each of them speed 1, with a velocity vector pointing in a random direction.  \n",
    "\n",
    "Make a function that takes the $n_x$, $n_y$, the radii of the balls, and the dimensions of the Billiard.  It should then produce the desired configuration.\n",
    "\n",
    "Test it with $L_x=L_y=1$,  $n_x=n_y=10$, and use a radius of $0.01$.  For me running a simulation with 100 collisions took about 0.2s. Use `@time` to see how long it takes you.\n",
    "\n",
    "Look at individual frames (using `drawframe`).  If all is good, then make an animation.  If the animation runs too slow, use the `skip` argument in `eventanimate`."
   ]
  },
  {
   "cell_type": "markdown",
   "id": "87c8458a-afbf-4e2c-bb2f-3d094fdaef51",
   "metadata": {},
   "source": [
    "To get a uniformly distributed random number you can use"
   ]
  },
  {
   "cell_type": "code",
   "execution_count": 38,
   "id": "dafab5cc-c256-45ae-a044-48d7ee174fdb",
   "metadata": {},
   "outputs": [
    {
     "data": {
      "text/plain": [
       "0.12809762082947007"
      ]
     },
     "execution_count": 38,
     "metadata": {},
     "output_type": "execute_result"
    }
   ],
   "source": [
    "using Random\n",
    "rand()"
   ]
  },
  {
   "cell_type": "code",
   "execution_count": null,
   "id": "98b02605-6580-49e2-a77c-e6a38dfa3fd3",
   "metadata": {},
   "outputs": [],
   "source": []
  },
  {
   "cell_type": "markdown",
   "id": "d8a66d57-f931-4aa7-8123-6ffc930686b0",
   "metadata": {},
   "source": [
    "<h2 style=\"border: 2px solid #000; border-radius: 10px; padding: 20px; background-color:red; color:white;\" >\n",
    "## Activity 12\n",
    "</h2>"
   ]
  },
  {
   "cell_type": "markdown",
   "id": "0b0eeac8-90a2-478f-962b-fb4f0c7c2aa1",
   "metadata": {},
   "source": [
    "We now want to make things faster.  100 collisions in 0.2s is too slow for me.  We are going to want to do many thousands of collisions.\n",
    "\n",
    "The biggest algorithmic bottleneck is that in every step we update the collisions for every single ball.\n",
    "\n",
    "The current code should look something like this:\n",
    "\n",
    "    function setevents!(billiard::Billiard)\n",
    "        t_global=Inf\n",
    "        for b in billiard.balls\n",
    "            next=next_event(b,billiard)\n",
    "            b.nextevent=next\n",
    "            if next.t<t_global\n",
    "                t_global=next.t\n",
    "                billiard.nextevent=next\n",
    "            end\n",
    "        end\n",
    "        return billiard\n",
    "    end\n",
    "\n",
    "We are looping through every single ball, and calculating its collision time with every other ball, using the `next_event` method.  This is wasteful: we only need to calculate times with the balls in the last event.\n",
    "\n",
    "We want to make a new version of `setevents!`, that is called with the billiard, and the last event, and then only updates the things which we know might have changed:\n",
    "\n",
    "    function setevents!(billiard::Billiard,lastevent::Collision)\n",
    "\n",
    "Here is the algorithm:\n",
    "\n",
    "The first thing we do is make a list of all the `Ball` objects in `lastevent`.  Suppose there is just one of them -- lets call it `b0`.  We set `b0.nextevent` to be equal to the null event `NE`.  We also set `billiard.nextevent` to the null event.\n",
    "\n",
    "We will then loop through all of the balls in billiard.  For each ball `bj` we calculate the next collision time between `b0` and `bj`.  If that collision time is shorter than `b0.nextevent.t`, we update `b0.nextevent` to be the collision between `b0` and `bj`.  Similarly if that collision time is shorter than `bj.nextevent.t` we update `bj.nextevent`.  \n",
    "\n",
    "We then look at `b0.nextevent.t` and `bj.nextevent.t`.  If either is before `billiard.nextevent.t` then we update `billiard.nextevent`.\n",
    "\n",
    "Finally, we need to loop through all of the walls, and if any of their collisions with `b0` are shorter than `b0.nextevent.t` we update `b0.nextevent`.  If that collision time is shorter than `billiard.nextevent.t` we also update `billiard.nextevent`.\n",
    "\n",
    "After looping through all of the balls (and walls), we will have upddated all of the `nextevent` objects -- but only required a $O(N)$ time. For comparison, the previous algorithm required $O(N^2)$ time.\n",
    "Thus for 100 balls this will run 100 times faster.\n",
    "\n",
    "Write this new version of `setevents!`, and test it.  Here is how I did my tests:  In one cell I ran:\n",
    "\n",
    "    rb2=randomgrid(2,2,0.01,1,1)\n",
    "    visualize(rb2)\n",
    "\n",
    "then in the next cell I repeatedly ran:\n",
    "\n",
    "    setevents!(rb2,rb2.nextevent)\n",
    "    update!(rb2,rb2.nextevent)\n",
    "    visualize(rb2)"
   ]
  },
  {
   "cell_type": "code",
   "execution_count": null,
   "id": "49fb03d7-04fa-4015-920a-e6aeaaba0349",
   "metadata": {},
   "outputs": [],
   "source": []
  },
  {
   "cell_type": "code",
   "execution_count": null,
   "id": "12963358-eac8-4f27-babd-c4c54b9a32f2",
   "metadata": {},
   "outputs": [],
   "source": []
  },
  {
   "cell_type": "markdown",
   "id": "ba62eec5-5a33-4aea-aeff-0dafa60a220c",
   "metadata": {},
   "source": [
    "<h2 style=\"border: 2px solid #000; border-radius: 10px; padding: 20px; background-color:red; color:white;\" >\n",
    "## Activity 13\n",
    "</h2>"
   ]
  },
  {
   "cell_type": "markdown",
   "id": "c68f01ae-a957-4051-98b3-3a6213106ca4",
   "metadata": {},
   "source": [
    "Now write an updated version of `simulate` -- which calls the new `setevents!`.  Test"
   ]
  },
  {
   "cell_type": "code",
   "execution_count": null,
   "id": "8e8cc34e-ba50-477b-b2c8-d446b5bcdf1f",
   "metadata": {},
   "outputs": [],
   "source": []
  },
  {
   "cell_type": "code",
   "execution_count": null,
   "id": "01d6123a-b663-4477-8830-83ea0a35b9c1",
   "metadata": {},
   "outputs": [],
   "source": []
  },
  {
   "cell_type": "markdown",
   "id": "e1b66b3c-89fb-49cd-b070-b8ca44add918",
   "metadata": {},
   "source": [
    "<h2 style=\"border: 2px solid #000; border-radius: 10px; padding: 20px; background-color:red; color:white;\" >\n",
    "## Activity 14\n",
    "</h2>"
   ]
  },
  {
   "cell_type": "markdown",
   "id": "60862fb8-969e-4408-a390-a2b638cf9530",
   "metadata": {},
   "source": [
    "Just like the Sinai Billiard, this system is chaotic. In fact, it is a specific type of chaotic system which is referred to as Ergodic.   If one runs the simulation for enough time, one expects to uniformly sample all possible configurations of the balls which are consistent with the initial conditions.\n",
    "\n",
    "In practice this means the only constraint is that the total energy is conserved.  As we will discuss in lecture, this means that if we have a large number of balls, and all the balls start out with velocity 1, then at long times we expect the velocity distribution of each ball to be drawn randomly from a Maxwell-Boltzmann distribution,\n",
    "\\begin{equation}\n",
    "P(v)= 2 v \\exp(-v^2).\n",
    "\\end{equation}\n",
    "\n",
    "To test this out, what you want to do is run a simulation with ~100 Balls (so a 10x10 grid) for a large number of collisions (say 5000). The ball radius is not so critical here.  Something like `radius=0.01` works well if the box sides have length 1. Take the last state, and make a list of the speeds of all the particles.  Use the `histogram` function to plot them.  Given that there are only 100 speeds, the histogram will be pretty blocky.  Note, `histogram` takes an argument `normalize=true`, which will normalize it to make a probability distribution function.\n",
    "\n",
    "Draw the theoretical curve on the histogram. "
   ]
  },
  {
   "cell_type": "code",
   "execution_count": null,
   "id": "760b0656-6bdc-4c90-8226-58f50d650ec2",
   "metadata": {},
   "outputs": [],
   "source": []
  },
  {
   "cell_type": "code",
   "execution_count": null,
   "id": "ff436e6c-9869-42d8-9055-3638d9a93351",
   "metadata": {},
   "outputs": [],
   "source": []
  },
  {
   "cell_type": "markdown",
   "id": "b4ba1a86-101c-415e-a2e2-203e26e86b85",
   "metadata": {},
   "source": [
    "<h2 style=\"border: 2px solid #000; border-radius: 10px; padding: 20px; background-color:red; color:white;\" >\n",
    "## Activity 13\n",
    "</h2>"
   ]
  },
  {
   "cell_type": "markdown",
   "id": "dec0e5eb-5c74-41e3-9a28-d6df51732353",
   "metadata": {},
   "source": [
    "To get better resolution on our histogram, we want to bin together data at different times.  We would naively expect that after ~$N$ collisions we should get a statistically independent set of velocities.  Here is a function which makes a list of speeds from a frame of the simulation data."
   ]
  },
  {
   "cell_type": "code",
   "execution_count": 69,
   "id": "a54d725f-24bb-42ab-830a-5894e4199c50",
   "metadata": {},
   "outputs": [
    {
     "data": {
      "text/plain": [
       "speedlist (generic function with 2 methods)"
      ]
     },
     "execution_count": 69,
     "metadata": {},
     "output_type": "execute_result"
    }
   ],
   "source": [
    "\"\"\"\n",
    "    speedlist(sim::Simulationdata,frame::Integer)\n",
    "\n",
    "Makes a list of the speeds of all of the particles in frame number \n",
    "`frame` of the simulation data.  You can also call it with a list of\n",
    "frames and it will concatentate those lists.\n",
    "\n",
    "For example, you can call with\n",
    "\n",
    "    speedlist(s,[1,3,5])\n",
    "\n",
    "and get the speeds in frames 1, 3, 5.  We can even use\n",
    "\n",
    "    speedlist(s,1::10::100)\n",
    "\n",
    "which will do every 10'th frame between 1 and 100.\n",
    "\"\"\"\n",
    "speedlist(sim::Simulationdata,frame::Integer) =\n",
    "    sqrt.(sim.statelist[frame].vxvalues.^2\n",
    "            +sim.statelist[frame].vyvalues.^2)\n",
    "\n",
    "speedlist(sim::Simulationdata,frames)=\n",
    "    vcat([speedlist(sim,j) for j in frames]...)"
   ]
  },
  {
   "cell_type": "markdown",
   "id": "38a18894-b608-4d98-9de0-a540341ea29d",
   "metadata": {},
   "source": [
    "Run your simulation for another 50,000 collisions, and make a Histogram that contains the speeds from every 100'th frame.  (Which will give you 50,000 speeds).  Again compare with the Maxwell-Boltzmann expectation."
   ]
  },
  {
   "cell_type": "code",
   "execution_count": null,
   "id": "649a7cde-286e-43ed-9a95-759c5ec14a16",
   "metadata": {},
   "outputs": [],
   "source": []
  },
  {
   "cell_type": "code",
   "execution_count": null,
   "id": "c71950aa-8c4d-462b-a4a5-dbdcba0a039a",
   "metadata": {},
   "outputs": [],
   "source": []
  },
  {
   "cell_type": "markdown",
   "id": "34935193-c1a3-4414-93af-baafa131961f",
   "metadata": {},
   "source": [
    "<h2 style=\"border: 2px solid #000; border-radius: 10px; padding: 20px; background-color:blue; color:white;\" >\n",
    "## Bonus 1\n",
    "</h2>"
   ]
  },
  {
   "cell_type": "markdown",
   "id": "6b8c6922-e821-45ce-a11e-d1b7a7793515",
   "metadata": {},
   "source": [
    "With some rather small changes, one can incorporate different masses into the simulation.  You could then have large heavy particles and small light particles scattering off one-another.  It could be fun to do that.  **This is fully optional**"
   ]
  },
  {
   "cell_type": "markdown",
   "id": "9220db15-3eab-4ba2-a718-09a838840ec0",
   "metadata": {},
   "source": [
    "<h2 style=\"border: 2px solid #000; border-radius: 10px; padding: 20px; background-color:blue; color:white;\" >\n",
    "## Bonus 2\n",
    "</h2>"
   ]
  },
  {
   "cell_type": "markdown",
   "id": "d2126cd9-153e-410e-9b09-f2ef532a7ad6",
   "metadata": {},
   "source": [
    "It turns out that there are a number of further algorithmic improvements that we can make.  Follow \n",
    "[this link](https://arxiv.org/pdf/2201.01100]) for a practical review.  Another, slightly broader discussion can be found [here](https://pubs.aip.org/aip/jcp/article/157/23/234111/2842446/Hard-disk-pressure-computations-a-historic).\n",
    "\n",
    "The next improvements take a bit of work -- and you only should do them if it interests you.  **This is fully optional**\n",
    "\n",
    "The first trick is that we can do *asynchronous updates*.  Each ball can have its own clock.  In the `update!` step we only need to update the positions of the balls that were involved in the collision.  We then need to modify the `collision_time` method, so that it can act on balls whos positions are given at different time:  For example, suppose `ball1` is at position `x1` at time `t1`, and `ball2` is at position `x2` at time `t2`.  If these had vanishing radii, the collision time sattisfies\n",
    "\\begin{equation}\n",
    "\\vec{x_1}+(t-t_1)\\vec{v_1}=\\vec{x_2}+(t-t_2)\\vec{v_2}\n",
    "\\end{equation}\n",
    "which is readily solved for $t$.  This is easily incorporated into our functions.\n",
    "\n",
    "The second trick is to divide the `billiard` into spatial cells.  Each ball is placed in a cell.  Possible events include scattering with other particles in the same cell, or hitting the cell boundary -- in which case the particle is moved to the neighboring cell.  Because we only need to worry about collisions in the same cell, this converts the problem of finding the next collision from $O(N)$ to $O(1)$.\n",
    "\n",
    "Using these two tricks we get a speedup by another factor of $N$ -- so roughly $100$ for the cases we have been considering."
   ]
  },
  {
   "cell_type": "code",
   "execution_count": null,
   "id": "9f4ce113-bef2-4802-aa9d-e787dc19e871",
   "metadata": {},
   "outputs": [],
   "source": []
  }
 ],
 "metadata": {
  "kernelspec": {
   "display_name": "Julia 1.10.4",
   "language": "julia",
   "name": "julia-1.10"
  },
  "language_info": {
   "file_extension": ".jl",
   "mimetype": "application/julia",
   "name": "julia",
   "version": "1.10.4"
  }
 },
 "nbformat": 4,
 "nbformat_minor": 5
}
