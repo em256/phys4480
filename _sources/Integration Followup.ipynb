{
 "cells": [
  {
   "cell_type": "markdown",
   "id": "076f0db1-4c1b-4ba4-a249-995558c395b5",
   "metadata": {},
   "source": [
    "# Integration Follow-up"
   ]
  },
  {
   "cell_type": "markdown",
   "id": "42b4e6aa-1c65-494d-9916-b37a04a761bc",
   "metadata": {},
   "source": [
    "Take-aways from the Period of the pendulum lab:"
   ]
  },
  {
   "cell_type": "markdown",
   "id": "8879fd82-9c1a-4627-9478-0a20c52e7920",
   "metadata": {},
   "source": [
    "1. Although the period diverges as $\\theta_m\\to\\pi/2$, the divergence is very weak:  It is logarithmic.  That is slower than any power law.  In practice this means it is that you need relatively precise measurements to detect the amplitude dependence of a pendulum's frequency.\n",
    "2. For numerical integration it is very important to rescale your variables to get rid of singularities.  Although we didn't encounter any, singularities in the middle of the region are even worse."
   ]
  },
  {
   "cell_type": "markdown",
   "id": "99264247-7e7c-48af-bbed-52194e818d9b",
   "metadata": {},
   "source": [
    "## Packages for Integration"
   ]
  },
  {
   "cell_type": "markdown",
   "id": "c9f46140-737e-49b3-a634-133a6fe9dfad",
   "metadata": {},
   "source": [
    "There are a number of different Julia packages for doing numerical integration.  The default is [QuadGK](https://juliamath.github.io/QuadGK.jl/stable/) which implements the [Gauss-Kronrod algorithm](https://en.wikipedia.org/wiki/Gauss–Kronrod_quadrature_formula).  This is an algorithm which subdivides the integration interval in a non-uniform way, adding more points where the function is changing fastest."
   ]
  },
  {
   "cell_type": "code",
   "execution_count": 2,
   "id": "26397470-e6ba-4e04-847e-f24b0de0e2a0",
   "metadata": {},
   "outputs": [],
   "source": [
    "using QuadGK"
   ]
  },
  {
   "cell_type": "code",
   "execution_count": 5,
   "id": "03f31286-aca9-4eef-9450-3424931cb885",
   "metadata": {},
   "outputs": [
    {
     "data": {
      "text/plain": [
       "(0.3333333333333333, 0.0)"
      ]
     },
     "execution_count": 5,
     "metadata": {},
     "output_type": "execute_result"
    }
   ],
   "source": [
    "quadgk(x->x^2,0,1) # returns the integral and the error estimate"
   ]
  },
  {
   "cell_type": "code",
   "execution_count": 147,
   "id": "42315f80-0b8f-48e9-ae23-1cc9730bb430",
   "metadata": {},
   "outputs": [
    {
     "data": {
      "text/plain": [
       "0.3333333333333333"
      ]
     },
     "execution_count": 147,
     "metadata": {},
     "output_type": "execute_result"
    }
   ],
   "source": [
    "i,=quadgk(x->x^2,0,1) # just extract the integral, and throw away the error estimate\n",
    "i"
   ]
  },
  {
   "cell_type": "markdown",
   "id": "a95ccd0c-150f-42f0-9a3c-d03b5f9f70f5",
   "metadata": {},
   "source": [
    "Lets see if out-of-the-box it can do our integral for the period"
   ]
  },
  {
   "cell_type": "code",
   "execution_count": 10,
   "id": "b3fdc78b-9a76-4867-92f1-38ebaa82e144",
   "metadata": {},
   "outputs": [
    {
     "data": {
      "text/plain": [
       "(1.1803405931478603, 1.537190156500909e-8)"
      ]
     },
     "execution_count": 10,
     "metadata": {},
     "output_type": "execute_result"
    }
   ],
   "source": [
    "PeriodIntegrand(x,thm)=(sqrt(2)/pi)*(thm/sqrt(cos(x*thm)-cos(thm)))\n",
    "quadgk(x->PeriodIntegrand(x,pi/2),0,1)"
   ]
  },
  {
   "cell_type": "markdown",
   "id": "d646b8eb-f253-48b1-8a8a-1fd15121a9fe",
   "metadata": {},
   "source": [
    "Note, it has problems when $\\theta_m$ becomes small"
   ]
  },
  {
   "cell_type": "code",
   "execution_count": 12,
   "id": "b27557b7-aff8-4411-819f-db0b2415ec29",
   "metadata": {},
   "outputs": [
    {
     "ename": "LoadError",
     "evalue": "DomainError with 0.9999999999990905:\nintegrand produced Inf in the interval (0.999999999998181, 1.0)",
     "output_type": "error",
     "traceback": [
      "DomainError with 0.9999999999990905:\nintegrand produced Inf in the interval (0.999999999998181, 1.0)",
      "",
      "Stacktrace:",
      " [1] evalrule(f::var\"#19#20\", a::Float64, b::Float64, x::Vector{Float64}, w::Vector{Float64}, gw::Vector{Float64}, nrm::typeof(LinearAlgebra.norm))",
      "   @ QuadGK ~/.julia/packages/QuadGK/OtnWt/src/evalrule.jl:37",
      " [2] refine(f::var\"#19#20\", segs::Vector{QuadGK.Segment{Float64, Float64, Float64}}, I::Float64, E::Float64, numevals::Int64, x::Vector{Float64}, w::Vector{Float64}, gw::Vector{Float64}, n::Int64, atol::Float64, rtol::Float64, maxevals::Int64, nrm::typeof(LinearAlgebra.norm))",
      "   @ QuadGK ~/.julia/packages/QuadGK/OtnWt/src/adapt.jl:71",
      " [3] adapt",
      "   @ ~/.julia/packages/QuadGK/OtnWt/src/adapt.jl:52 [inlined]",
      " [4] do_quadgk(f::var\"#19#20\", s::Tuple{Int64, Int64}, n::Int64, atol::Nothing, rtol::Nothing, maxevals::Int64, nrm::typeof(LinearAlgebra.norm), segbuf::Nothing)",
      "   @ QuadGK ~/.julia/packages/QuadGK/OtnWt/src/adapt.jl:44",
      " [5] #50",
      "   @ ~/.julia/packages/QuadGK/OtnWt/src/adapt.jl:253 [inlined]",
      " [6] handle_infinities(workfunc::QuadGK.var\"#50#51\"{Nothing, Nothing, Int64, Int64, typeof(LinearAlgebra.norm), Nothing}, f::var\"#19#20\", s::Tuple{Int64, Int64})",
      "   @ QuadGK ~/.julia/packages/QuadGK/OtnWt/src/adapt.jl:145",
      " [7] quadgk(::Function, ::Int64, ::Vararg{Int64}; atol::Nothing, rtol::Nothing, maxevals::Int64, order::Int64, norm::Function, segbuf::Nothing)",
      "   @ QuadGK ~/.julia/packages/QuadGK/OtnWt/src/adapt.jl:252",
      " [8] quadgk(::Function, ::Int64, ::Vararg{Int64})",
      "   @ QuadGK ~/.julia/packages/QuadGK/OtnWt/src/adapt.jl:250",
      " [9] top-level scope",
      "   @ In[12]:2"
     ]
    }
   ],
   "source": [
    "#Uncomment to run cells and get error message\n",
    "#\n",
    "#PeriodIntegrand(x,thm)=(sqrt(2)/pi)*(thm/sqrt(cos(x*thm)-cos(thm)))\n",
    "#quadgk(x->PeriodIntegrand(x,0.1),0,1)"
   ]
  },
  {
   "cell_type": "markdown",
   "id": "98e1afa9-953e-4afc-890d-56afe6e46a75",
   "metadata": {},
   "source": [
    "To fix this we need to do one of our variable transformations"
   ]
  },
  {
   "cell_type": "code",
   "execution_count": 15,
   "id": "b197e27e-ad22-4b77-993a-5f7a11f85a58",
   "metadata": {},
   "outputs": [
    {
     "data": {
      "text/plain": [
       "(1.0000062500030935, 4.559330690767638e-11)"
      ]
     },
     "execution_count": 15,
     "metadata": {},
     "output_type": "execute_result"
    }
   ],
   "source": [
    "integrandz(z,θₘ)=(sqrt(2)/pi)*θₘ*cos(z)/sqrt(cos(θₘ*sin(z))-cos(θₘ))\n",
    "quadgk(x->integrandz(x,0.01),0,pi/2)"
   ]
  },
  {
   "cell_type": "markdown",
   "id": "4a4ef298-d539-4d78-9fe5-1db01ec1dbe9",
   "metadata": {},
   "source": [
    "We can see how many points in evaluated the function at with `quadgk_count`"
   ]
  },
  {
   "cell_type": "code",
   "execution_count": 17,
   "id": "85763e72-849d-4187-b467-2642ffd73622",
   "metadata": {},
   "outputs": [
    {
     "data": {
      "text/plain": [
       "(1.1803405990160678, 6.177591771461266e-11, 15)"
      ]
     },
     "execution_count": 17,
     "metadata": {},
     "output_type": "execute_result"
    }
   ],
   "source": [
    "quadgk_count(x->integrandz(x,pi/2),0,pi/2)"
   ]
  },
  {
   "cell_type": "markdown",
   "id": "f9efd5cf-201d-46da-87b0-695864f3c9a7",
   "metadata": {},
   "source": [
    "Somehow it only needed 15 function evaluations to get better than 1 part in $10^{10}$ accuracy"
   ]
  },
  {
   "cell_type": "code",
   "execution_count": 20,
   "id": "197f54b4-eaba-41e0-8043-686f3b11a9cf",
   "metadata": {},
   "outputs": [
    {
     "name": "stdout",
     "output_type": "stream",
     "text": [
      "f(0.7853981633974483) = 0.7503618964944812\n",
      "f(0.6222042413526234) = 0.7360569409044027\n",
      "f(0.9485920854422731) = 0.7651046397803608\n",
      "f(0.03997055217745943) = 0.7072387362441486\n",
      "f(1.530825774617437) = 0.797725328707192\n",
      "f(0.006710935828626571) = 0.7071105023277536\n",
      "f(1.56408539096627) = 0.7978800691316444\n",
      "f(0.20300093212575152) = 0.7104775229449133\n",
      "f(1.367795394669145) = 0.7938468713028066\n",
      "f(0.10613523370289246) = 0.7080349790999789\n",
      "f(1.464661093092004) = 0.7967665218061539\n",
      "f(0.4666481268818812) = 0.724140350702566\n",
      "f(1.1041481999130154) = 0.7780929488228913\n",
      "f(0.32508632507043583) = 0.7156133946572139\n",
      "f(1.2457100017244607) = 0.7878119401635267\n"
     ]
    },
    {
     "data": {
      "text/plain": [
       "(1.1803405990160678, 6.177591771461266e-11, 15)"
      ]
     },
     "execution_count": 20,
     "metadata": {},
     "output_type": "execute_result"
    }
   ],
   "source": [
    "quadgk_print(x->integrandz(x,pi/2),0,pi/2)"
   ]
  },
  {
   "cell_type": "markdown",
   "id": "ccd7e8eb-140a-4cad-a477-1951c9b05a0f",
   "metadata": {},
   "source": [
    "Note:  without our transformation it needed many more points"
   ]
  },
  {
   "cell_type": "code",
   "execution_count": 21,
   "id": "33997c57-62cb-452a-ae7f-4524f2b294f9",
   "metadata": {},
   "outputs": [
    {
     "data": {
      "text/plain": [
       "(1.1803405931478603, 1.537190156500909e-8, 1305)"
      ]
     },
     "execution_count": 21,
     "metadata": {},
     "output_type": "execute_result"
    }
   ],
   "source": [
    "quadgk_count(x->PeriodIntegrand(x,pi/2),0,1)"
   ]
  },
  {
   "cell_type": "markdown",
   "id": "78c52277-c2bd-4238-8bb6-453a928bb412",
   "metadata": {},
   "source": [
    "### Gaussian Quadratures"
   ]
  },
  {
   "cell_type": "markdown",
   "id": "202330e0-9bd6-479d-a97c-710bd26ae804",
   "metadata": {},
   "source": [
    "How on Earth can the integration routine be so effective?  "
   ]
  },
  {
   "cell_type": "markdown",
   "id": "3ecb54cf-ec09-4ac8-a65e-cdbdbb51235e",
   "metadata": {},
   "source": [
    "There are two pieces of magic:\n",
    "1. Gaussian Quadratures\n",
    "2. Adaptive Quadratures"
   ]
  },
  {
   "cell_type": "markdown",
   "id": "4107c141-68e5-4011-844f-7a46b45b61f5",
   "metadata": {},
   "source": [
    "#### Magic behind Gaussian Quadratures"
   ]
  },
  {
   "cell_type": "markdown",
   "id": "6defcd42-42cc-44bc-b505-35b44d6140f1",
   "metadata": {},
   "source": [
    "The idea is that if one evaluates the function at **non-equally spaced** points, one can accelerate convergence"
   ]
  },
  {
   "cell_type": "markdown",
   "id": "87a08d4a-aadf-49e0-9e44-ce9f7d74594f",
   "metadata": {},
   "source": [
    "For example, suppose we want to calculate $\\int_{-1}^1 f(x) dx$ using only three function evaluations.  In trapezoid rule those evaluations would be at $x=-1,0,1$.  For midpoint rule they would be at $x=-2/3,0,2/3$.  In Simpson's rule the would be at $x=-1,0,1$, but we would weight them unequally.  The most general quadrature rule is\n",
    "\\begin{equation}\n",
    "I\\approx \\sum_j w_j f(x_j).\n",
    "\\end{equation}\n",
    "The most general 3-point symmetric quadrature rule would be \n",
    "\\begin{equation}\n",
    "I=a f(0) + b f(s)+ b f(-s)\n",
    "\\end{equation}\n",
    "where $a,b,s$ are parameters."
   ]
  },
  {
   "cell_type": "markdown",
   "id": "25e9ab0a-c944-41a1-913d-7ddfda0795f5",
   "metadata": {},
   "source": [
    "We will choose these parameters so that we get the correct integral for various polynomials\n",
    "\\begin{align}\n",
    "\\int_{-1}^1 x^0 dx &\\to a+2b &=2\\\\\n",
    "\\int_{-1}^1 x^1 dx &\\to 0 &= 0\\\\\n",
    "\\int_{-1}^1 x^2 dx &\\to 2b s^2 &= 2/3\\\\\n",
    "\\int_{-1}^1 x^3 dx &\\to 0 &= 0\\\\\n",
    "\\int_{-1}^1 x^4 dx &\\to 2b s^4 &= 2/5\\\\\n",
    "\\int_{-1}^1 x^5 dx &\\to 0 &= 0\\\\\n",
    "\\end{align}\n",
    "We can solve these to find $s=\\sqrt{3/5}, a=8/9, b=5/9$.  With these 3 function evaluations we can exactly integrate any polynomial up to 5th order."
   ]
  },
  {
   "cell_type": "markdown",
   "id": "cd70e1b7-b443-4a6f-a43c-02fe6fc19ced",
   "metadata": {},
   "source": [
    "There is some beautiful mathematics behind deriving higher ourder Gaussian Quadrature methods, using the properties of orthogonal polynomials.  We will not get into it here, but they have led to efficient ways to calculate the nodes and weights for very [high orders](https://pi.math.cornell.edu/~ajt/papers/QuadratureEssay.pdf)."
   ]
  },
  {
   "cell_type": "markdown",
   "id": "c74ff4ec-c222-4426-9d0d-ba521a074668",
   "metadata": {},
   "source": [
    "#### Adaptive Quadratures"
   ]
  },
  {
   "cell_type": "markdown",
   "id": "59147547-2cb8-4a0c-af66-4cd55ede5764",
   "metadata": {},
   "source": [
    "The other trick that `quadgk` does is it uses *adaptive quadratures*.  This means it subdivides only the parts of the domain where the function is varying fastest."
   ]
  },
  {
   "cell_type": "markdown",
   "id": "7a1046ed-dd4f-4026-8878-527dd9256874",
   "metadata": {},
   "source": [
    "We could code our own Adaptive Gaussian Quadrature routine, but there is not much need.  It makes more sense to just use the packaged version.  Numerical Recipies has a nice discussion of the algorithm if you want to play with it."
   ]
  },
  {
   "cell_type": "markdown",
   "id": "0c69b451-56c5-49c2-b9f5-29e052fe6b27",
   "metadata": {},
   "source": [
    "# Working with files and notebooks at the same time"
   ]
  },
  {
   "cell_type": "markdown",
   "id": "04a09b73-4a89-4127-ab05-c6673fda9357",
   "metadata": {},
   "source": [
    "At this point in the lecture, I'll illustrate how to shift to JupyterLab -- opening this notebook and the file \"trapezoid.jl\" at the same time"
   ]
  },
  {
   "attachments": {},
   "cell_type": "markdown",
   "id": "7689d42b-cb4b-4762-ab20-2c67ae504747",
   "metadata": {},
   "source": [
    "1. click the \"Open in..\" button in the upper right\n",
    "2. click the \"Simple\" slider on the bottom left, to turn off simple mode\n",
    "3. click the file browser icon on the left to open a file browser.\n",
    "4. double click on the file \"trapezoid.jl\"\n",
    "5. Drag the tab to show the text file side-by side with the notebook"
   ]
  },
  {
   "cell_type": "markdown",
   "id": "9e1b7485-cb8d-4d42-98af-10a32baebae7",
   "metadata": {},
   "source": [
    "You can now freely copy and paste betweeen the notebook and the file"
   ]
  },
  {
   "cell_type": "code",
   "execution_count": 59,
   "id": "e171555f-e17c-4b2e-bbec-bc25296122e2",
   "metadata": {},
   "outputs": [
    {
     "data": {
      "text/plain": [
       "nrtrap"
      ]
     },
     "execution_count": 59,
     "metadata": {},
     "output_type": "execute_result"
    }
   ],
   "source": [
    "include(\"trapezoid.jl\")"
   ]
  },
  {
   "cell_type": "code",
   "execution_count": 36,
   "id": "b716a59d-b836-4efb-ac3e-999d484ecde7",
   "metadata": {},
   "outputs": [
    {
     "data": {
      "text/plain": [
       "2.3333333333721384"
      ]
     },
     "execution_count": 36,
     "metadata": {},
     "output_type": "execute_result"
    }
   ],
   "source": [
    "nrtrap(x->x^2,(1,2))"
   ]
  },
  {
   "cell_type": "markdown",
   "id": "c4d3f2f9-4ed8-4bc1-bfd7-590739debd89",
   "metadata": {},
   "source": [
    "You can use create new text files, edit them, and then run them with `include`.  You can change the file and then `include` them again.  This is really useful if you are building tools that you will use in multiple projects."
   ]
  },
  {
   "cell_type": "markdown",
   "id": "6faee38c-b8d6-490a-be0f-d9451e5ab6fb",
   "metadata": {},
   "source": [
    "At this point in the lecture I will demonstrate creating a new text file, adding some code to it, and including it. "
   ]
  },
  {
   "cell_type": "markdown",
   "id": "32257a68-7c8c-4dc9-9ff8-1d159ee6754c",
   "metadata": {},
   "source": [
    "I will then illustrate opening a terminal, and running the script using Julia from the command line."
   ]
  },
  {
   "cell_type": "markdown",
   "id": "911b70c1-4a4e-4bba-826a-6b26974bff34",
   "metadata": {},
   "source": [
    "# Line Integrals"
   ]
  },
  {
   "cell_type": "code",
   "execution_count": 60,
   "id": "5afbb7bf-3f2b-49b7-9d7a-2c34c2684079",
   "metadata": {},
   "outputs": [],
   "source": [
    "using LinearAlgebra"
   ]
  },
  {
   "cell_type": "markdown",
   "id": "7157096c-a6e2-442d-a671-b083aedf221c",
   "metadata": {},
   "source": [
    "Note:  I made one very small change in our trapezoid integrator when I put it in \"trapezoid.jl\".  When we compare the integral's value for different order, I changed the `abs` to `norm`.  For real (or complex) numbers this works the same, but norm can also work on vectors."
   ]
  },
  {
   "cell_type": "code",
   "execution_count": 70,
   "id": "95e45465-aa5e-463a-8c3c-8d2699757ad0",
   "metadata": {},
   "outputs": [
    {
     "name": "stdout",
     "output_type": "stream",
     "text": [
      "norm(-1) = 1.0\n",
      "norm(1) = 1.0\n",
      "norm(1 + 2im) = 2.23606797749979\n",
      "norm([2, 3, 1]) ^ 2 = 14.0\n"
     ]
    },
    {
     "data": {
      "text/plain": [
       "14.0"
      ]
     },
     "execution_count": 70,
     "metadata": {},
     "output_type": "execute_result"
    }
   ],
   "source": [
    "@show norm(-1)\n",
    "@show norm(1)\n",
    "@show norm(1+2im)\n",
    "@show norm([2,3,1])^2"
   ]
  },
  {
   "cell_type": "markdown",
   "id": "b7ddd4a3-d5dc-4b32-a91e-c5efa984af79",
   "metadata": {},
   "source": [
    "We could then calculate something like \n",
    "$$\n",
    "\\int_{\\vec{a}}^{\\vec{b}} \\vec{F}\\cdot d{\\vec r}\n",
    "$$\n",
    "along a straight line path"
   ]
  },
  {
   "cell_type": "code",
   "execution_count": 76,
   "id": "e803c0ed-79b8-40ae-a22f-c7bbe417cd18",
   "metadata": {},
   "outputs": [
    {
     "data": {
      "text/plain": [
       "F (generic function with 2 methods)"
      ]
     },
     "execution_count": 76,
     "metadata": {},
     "output_type": "execute_result"
    }
   ],
   "source": [
    "F(r)= -transpose(r)/norm(r)^3"
   ]
  },
  {
   "cell_type": "code",
   "execution_count": 84,
   "id": "f7f6fe11-cc39-4105-9e0d-f70d735d63b9",
   "metadata": {},
   "outputs": [
    {
     "name": "stdout",
     "output_type": "stream",
     "text": [
      "F([1; 0; 0]) = [-1.0 0.0 0.0]\n",
      "F([2; 0; 0]) = [-0.25 0.0 0.0]\n",
      "F([0; 1; 0]) = [0.0 -1.0 0.0]\n",
      "F([0; 2; 0]) = [0.0 -0.25 0.0]\n"
     ]
    }
   ],
   "source": [
    "@show F([1; 0; 0])\n",
    "@show F([2; 0; 0])\n",
    "@show F([0; 1; 0])\n",
    "@show F([0; 2; 0]);"
   ]
  },
  {
   "cell_type": "code",
   "execution_count": 114,
   "id": "44f9f396-d4d2-4697-82c7-11a538405958",
   "metadata": {},
   "outputs": [
    {
     "data": {
      "text/plain": [
       "-0.5000000000084912"
      ]
     },
     "execution_count": 114,
     "metadata": {},
     "output_type": "execute_result"
    }
   ],
   "source": [
    "nrtrap(F,([1; 0; 0],[2; 0; 0]))"
   ]
  },
  {
   "cell_type": "code",
   "execution_count": 115,
   "id": "c855b93b-b1bd-46ff-963f-6cdac0bff746",
   "metadata": {},
   "outputs": [
    {
     "data": {
      "text/plain": [
       "V (generic function with 1 method)"
      ]
     },
     "execution_count": 115,
     "metadata": {},
     "output_type": "execute_result"
    }
   ],
   "source": [
    "V(r)=1/norm(r)"
   ]
  },
  {
   "cell_type": "code",
   "execution_count": 116,
   "id": "ec52aa66-76e4-472a-9104-d2b0389fc23b",
   "metadata": {},
   "outputs": [
    {
     "data": {
      "text/plain": [
       "-0.5"
      ]
     },
     "execution_count": 116,
     "metadata": {},
     "output_type": "execute_result"
    }
   ],
   "source": [
    "V([2; 0; 0])-V([1; 0; 0])"
   ]
  },
  {
   "cell_type": "code",
   "execution_count": 117,
   "id": "7b47e266-ec9b-41ac-adbb-917cdd32fe20",
   "metadata": {},
   "outputs": [
    {
     "data": {
      "text/plain": [
       "-0.858578643752598"
      ]
     },
     "execution_count": 117,
     "metadata": {},
     "output_type": "execute_result"
    }
   ],
   "source": [
    "nrtrap(F,([1; 0; 0],[3; 4; 5]))"
   ]
  },
  {
   "cell_type": "code",
   "execution_count": 118,
   "id": "5ae7b5c7-5fce-4417-a606-5ef4b558384e",
   "metadata": {},
   "outputs": [
    {
     "data": {
      "text/plain": [
       "-0.8585786437626906"
      ]
     },
     "execution_count": 118,
     "metadata": {},
     "output_type": "execute_result"
    }
   ],
   "source": [
    "V([3; 4; 5])-V([1; 0; 0])"
   ]
  },
  {
   "cell_type": "markdown",
   "id": "35ed2808-a693-4ddc-aa1e-c1220a7a75a5",
   "metadata": {},
   "source": [
    "## Contour Integrals"
   ]
  },
  {
   "cell_type": "markdown",
   "id": "c661a728-6397-4e52-b0f7-822db0c26536",
   "metadata": {},
   "source": [
    "Similarly we can do straight-line integrals in the complex plane"
   ]
  },
  {
   "cell_type": "code",
   "execution_count": 121,
   "id": "c9b13d6b-91bc-4bfb-8b86-39eaa3c79a48",
   "metadata": {},
   "outputs": [
    {
     "data": {
      "text/plain": [
       "0.3465735902605708 + 0.7853981633877467im"
      ]
     },
     "execution_count": 121,
     "metadata": {},
     "output_type": "execute_result"
    }
   ],
   "source": [
    "nrtrap(z->1/z,(1,1+1im))"
   ]
  },
  {
   "cell_type": "code",
   "execution_count": 122,
   "id": "8a76ace5-a31b-4b07-a1db-3e7e440a179b",
   "metadata": {},
   "outputs": [
    {
     "data": {
      "text/plain": [
       "(0.3465735902799727 + 0.7853981633974483im, 6.712470243266902e-10)"
      ]
     },
     "execution_count": 122,
     "metadata": {},
     "output_type": "execute_result"
    }
   ],
   "source": [
    "quadgk(z->1/z,1,1+1im)"
   ]
  },
  {
   "cell_type": "markdown",
   "id": "04346bf9-8a88-48d9-a490-9507e311e60b",
   "metadata": {},
   "source": [
    "Closed contours:"
   ]
  },
  {
   "cell_type": "code",
   "execution_count": 135,
   "id": "ea18aba0-5d13-4a47-8969-86500be949c0",
   "metadata": {},
   "outputs": [
    {
     "data": {
      "text/plain": [
       "0.9999999999876426 + 1.8860385562280946e-17im"
      ]
     },
     "execution_count": 135,
     "metadata": {},
     "output_type": "execute_result"
    }
   ],
   "source": [
    "nodes=[1,1im,-1,-1im,1]\n",
    "1/(2im*pi)*sum([nrtrap(z->1/z,(nodes[j],nodes[j+1])) for j in 1:(length(nodes)-1)])"
   ]
  },
  {
   "cell_type": "markdown",
   "id": "d8a2ceef-c0fe-4744-8b0e-d4da9d257bd3",
   "metadata": {},
   "source": [
    "The same command with quadgk.  The `...` notation is referred to as a `splat`.  It takes the elements of a list, and inserts them into the function"
   ]
  },
  {
   "cell_type": "code",
   "execution_count": 138,
   "id": "5c243172-81e8-49f9-94ce-64759200b2ee",
   "metadata": {},
   "outputs": [
    {
     "data": {
      "text/plain": [
       "1.0 + 1.766974823035287e-17im"
      ]
     },
     "execution_count": 138,
     "metadata": {},
     "output_type": "execute_result"
    }
   ],
   "source": [
    "1/(2im*pi)*quadgk(z->1/z,nodes...)[1]"
   ]
  },
  {
   "cell_type": "code",
   "execution_count": 139,
   "id": "7c463260-78ca-4d2a-8e76-b2025a4e0325",
   "metadata": {},
   "outputs": [
    {
     "data": {
      "text/plain": [
       "(-1.1102230246251565e-16 + 6.283185307179586im, 5.3699761946135216e-9)"
      ]
     },
     "execution_count": 139,
     "metadata": {},
     "output_type": "execute_result"
    }
   ],
   "source": [
    "#Uncomment to run\n",
    "#1/(2im*pi)*quadgk(z->1/z,1,1im,-1,-1im,1)"
   ]
  },
  {
   "cell_type": "markdown",
   "id": "f6b392dc-f017-459b-b856-c9fd51336031",
   "metadata": {},
   "source": [
    "This takes the integral from $1$ to $i$ -- then to $-1$ -- then to $-i$ -- then to $1$ -- all with straight line paths between them."
   ]
  },
  {
   "cell_type": "markdown",
   "id": "e69aaba6-c756-4105-ab8f-96d7068610fd",
   "metadata": {},
   "source": [
    "# Higher dimensional integrals"
   ]
  },
  {
   "cell_type": "markdown",
   "id": "b0e50bc7-a005-42db-913d-6afd448cf6ce",
   "metadata": {},
   "source": [
    "Higher dimensional integrals are hard.  Grids are hopeless once you get beyond 2 or 3 dimensions.  Say you have a 10 dimensional integral, and you break each dimension into 10 points.  That would then requre $10^{10}$ function evaluations.\n",
    "\n",
    "To do high dimensional integrals efficiently you often need to do some changes of variables, or breaking up the domain.  \n",
    "\n",
    "A good starting point is the canned routine `hcubature`"
   ]
  },
  {
   "cell_type": "code",
   "execution_count": 142,
   "id": "147a63b6-2dc5-4f50-9d49-e8177b925be2",
   "metadata": {},
   "outputs": [],
   "source": [
    "using HCubature  "
   ]
  },
  {
   "cell_type": "code",
   "execution_count": 143,
   "id": "c2660f38-83cf-48ff-876a-fbc7dc0b7538",
   "metadata": {},
   "outputs": [
    {
     "data": {
      "text/plain": [
       "(14.0, 1.7763568394002505e-15)"
      ]
     },
     "execution_count": 143,
     "metadata": {},
     "output_type": "execute_result"
    }
   ],
   "source": [
    "f(x,y) = x^2 + 5y^2\n",
    "f(v) = f(v...)  # f accepts a vector\n",
    "a0, b0 = 0, 1\n",
    "a1, b1 = 0, 2\n",
    "hcubature(f, (a0, a1), (b0, b1))"
   ]
  }
 ],
 "metadata": {
  "kernelspec": {
   "display_name": "Julia 1.9.1",
   "language": "julia",
   "name": "julia-1.9"
  },
  "language_info": {
   "file_extension": ".jl",
   "mimetype": "application/julia",
   "name": "julia",
   "version": "1.9.1"
  }
 },
 "nbformat": 4,
 "nbformat_minor": 5
}
