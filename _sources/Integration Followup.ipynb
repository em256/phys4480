{
 "cells": [
  {
   "cell_type": "markdown",
   "id": "076f0db1-4c1b-4ba4-a249-995558c395b5",
   "metadata": {},
   "source": [
    "# Integration Follow-up"
   ]
  },
  {
   "cell_type": "markdown",
   "id": "42b4e6aa-1c65-494d-9916-b37a04a761bc",
   "metadata": {},
   "source": [
    "Take-aways from the Period of the pendulum lab:"
   ]
  },
  {
   "cell_type": "markdown",
   "id": "8879fd82-9c1a-4627-9478-0a20c52e7920",
   "metadata": {},
   "source": [
    "1. Although the period diverges as $\\theta_m\\to\\pi$, the divergence is very weak:  It is logarithmic.  That is slower than any power law.  In practice this means it is that you need relatively precise measurements to detect the amplitude dependence of a pendulum's frequency.\n",
    "2. For numerical integration it is very important to rescale your variables to get rid of singularities.  Although we didn't encounter any, singularities in the middle of the region are even worse."
   ]
  },
  {
   "cell_type": "markdown",
   "id": "99264247-7e7c-48af-bbed-52194e818d9b",
   "metadata": {},
   "source": [
    "## Packages for Integration"
   ]
  },
  {
   "cell_type": "markdown",
   "id": "c9f46140-737e-49b3-a634-133a6fe9dfad",
   "metadata": {},
   "source": [
    "There are a number of different Julia packages for doing numerical integration.  The default is [QuadGK](https://juliamath.github.io/QuadGK.jl/stable/) which implements the [Gauss-Kronrod algorithm](https://en.wikipedia.org/wiki/Gauss–Kronrod_quadrature_formula).  This is an algorithm which subdivides the integration interval in a non-uniform way, adding more points where the function is changing fastest."
   ]
  },
  {
   "cell_type": "code",
   "execution_count": 1,
   "id": "26397470-e6ba-4e04-847e-f24b0de0e2a0",
   "metadata": {},
   "outputs": [],
   "source": [
    "using QuadGK,Plots"
   ]
  },
  {
   "cell_type": "code",
   "execution_count": 2,
   "id": "03f31286-aca9-4eef-9450-3424931cb885",
   "metadata": {},
   "outputs": [
    {
     "data": {
      "text/plain": [
       "(0.3333333333333333, 0.0)"
      ]
     },
     "execution_count": 2,
     "metadata": {},
     "output_type": "execute_result"
    }
   ],
   "source": [
    "quadgk(x->x^2,0,1) # returns the integral and the error estimate"
   ]
  },
  {
   "cell_type": "code",
   "execution_count": 3,
   "id": "42315f80-0b8f-48e9-ae23-1cc9730bb430",
   "metadata": {},
   "outputs": [
    {
     "data": {
      "text/plain": [
       "0.3333333333333333"
      ]
     },
     "execution_count": 3,
     "metadata": {},
     "output_type": "execute_result"
    }
   ],
   "source": [
    "i,=quadgk(x->x^2,0,1) # just extract the integral, and throw away the error estimate\n",
    "i"
   ]
  },
  {
   "cell_type": "code",
   "execution_count": 4,
   "id": "a99aad5f-de93-4512-b594-43bee298c73a",
   "metadata": {},
   "outputs": [
    {
     "data": {
      "text/plain": [
       "0.3333333333333333"
      ]
     },
     "execution_count": 4,
     "metadata": {},
     "output_type": "execute_result"
    }
   ],
   "source": [
    "quadgk(x->x^2,0,1)[1]"
   ]
  },
  {
   "cell_type": "markdown",
   "id": "a95ccd0c-150f-42f0-9a3c-d03b5f9f70f5",
   "metadata": {},
   "source": [
    "Lets see if out-of-the-box it can do our integral for the period"
   ]
  },
  {
   "cell_type": "code",
   "execution_count": 8,
   "id": "b3fdc78b-9a76-4867-92f1-38ebaa82e144",
   "metadata": {},
   "outputs": [
    {
     "name": "stdout",
     "output_type": "stream",
     "text": [
      "  0.072416 seconds (82.53 k allocations: 5.436 MiB, 92.51% compilation time)\n"
     ]
    },
    {
     "data": {
      "text/plain": [
       "(1.1803405931478603, 1.537190156500909e-8)"
      ]
     },
     "execution_count": 8,
     "metadata": {},
     "output_type": "execute_result"
    }
   ],
   "source": [
    "PeriodIntegrand(x,thm)=(sqrt(2)/pi)*(thm/sqrt(cos(x*thm)-cos(thm)))\n",
    "@time quadgk(x->PeriodIntegrand(x,pi/2),0,1)"
   ]
  },
  {
   "cell_type": "code",
   "execution_count": 17,
   "id": "9ac3c165-45d8-4e1f-a941-214805ad7e8e",
   "metadata": {},
   "outputs": [
    {
     "name": "stdout",
     "output_type": "stream",
     "text": [
      "(1.1803405931478603, 1.537190156500909e-8)\n"
     ]
    }
   ],
   "source": [
    "include(\"test.jl\")"
   ]
  },
  {
   "cell_type": "markdown",
   "id": "d646b8eb-f253-48b1-8a8a-1fd15121a9fe",
   "metadata": {},
   "source": [
    "Note, it has problems when $\\theta_m$ becomes small"
   ]
  },
  {
   "cell_type": "code",
   "execution_count": 6,
   "id": "b27557b7-aff8-4411-819f-db0b2415ec29",
   "metadata": {},
   "outputs": [
    {
     "ename": "LoadError",
     "evalue": "DomainError with 0.9999999999990905:\nintegrand produced Inf in the interval (0.999999999998181, 1.0)",
     "output_type": "error",
     "traceback": [
      "DomainError with 0.9999999999990905:\nintegrand produced Inf in the interval (0.999999999998181, 1.0)",
      "",
      "Stacktrace:",
      " [1] evalrule(f::var\"#11#12\", a::Float64, b::Float64, x::Vector{Float64}, w::Vector{Float64}, gw::Vector{Float64}, nrm::typeof(LinearAlgebra.norm))",
      "   @ QuadGK ~/.julia/packages/QuadGK/OtnWt/src/evalrule.jl:37",
      " [2] refine(f::var\"#11#12\", segs::Vector{QuadGK.Segment{Float64, Float64, Float64}}, I::Float64, E::Float64, numevals::Int64, x::Vector{Float64}, w::Vector{Float64}, gw::Vector{Float64}, n::Int64, atol::Float64, rtol::Float64, maxevals::Int64, nrm::typeof(LinearAlgebra.norm))",
      "   @ QuadGK ~/.julia/packages/QuadGK/OtnWt/src/adapt.jl:71",
      " [3] adapt",
      "   @ ~/.julia/packages/QuadGK/OtnWt/src/adapt.jl:52 [inlined]",
      " [4] do_quadgk(f::var\"#11#12\", s::Tuple{Int64, Int64}, n::Int64, atol::Nothing, rtol::Nothing, maxevals::Int64, nrm::typeof(LinearAlgebra.norm), segbuf::Nothing)",
      "   @ QuadGK ~/.julia/packages/QuadGK/OtnWt/src/adapt.jl:44",
      " [5] #50",
      "   @ ~/.julia/packages/QuadGK/OtnWt/src/adapt.jl:253 [inlined]",
      " [6] handle_infinities(workfunc::QuadGK.var\"#50#51\"{Nothing, Nothing, Int64, Int64, typeof(LinearAlgebra.norm), Nothing}, f::var\"#11#12\", s::Tuple{Int64, Int64})",
      "   @ QuadGK ~/.julia/packages/QuadGK/OtnWt/src/adapt.jl:145",
      " [7] quadgk(::Function, ::Int64, ::Vararg{Int64}; atol::Nothing, rtol::Nothing, maxevals::Int64, order::Int64, norm::Function, segbuf::Nothing)",
      "   @ QuadGK ~/.julia/packages/QuadGK/OtnWt/src/adapt.jl:252",
      " [8] quadgk(::Function, ::Int64, ::Vararg{Int64})",
      "   @ QuadGK ~/.julia/packages/QuadGK/OtnWt/src/adapt.jl:250",
      " [9] top-level scope",
      "   @ In[6]:2"
     ]
    }
   ],
   "source": [
    "PeriodIntegrand(x,thm)=(sqrt(2)/pi)*(thm/sqrt(cos(x*thm)-cos(thm)))\n",
    "quadgk(x->PeriodIntegrand(x,0.1),0,1)"
   ]
  },
  {
   "cell_type": "markdown",
   "id": "98e1afa9-953e-4afc-890d-56afe6e46a75",
   "metadata": {},
   "source": [
    "To fix this we need to do one of our variable transformations"
   ]
  },
  {
   "cell_type": "code",
   "execution_count": 10,
   "id": "b197e27e-ad22-4b77-993a-5f7a11f85a58",
   "metadata": {},
   "outputs": [
    {
     "name": "stdout",
     "output_type": "stream",
     "text": [
      "  0.172999 seconds (234.60 k allocations: 14.365 MiB, 4.29% gc time, 99.95% compilation time)\n"
     ]
    },
    {
     "data": {
      "text/plain": [
       "(1.0000062500030935, 4.559330690767638e-11)"
      ]
     },
     "execution_count": 10,
     "metadata": {},
     "output_type": "execute_result"
    }
   ],
   "source": [
    "integrandz(z,θₘ)=(sqrt(2)/pi)*θₘ*cos(z)/sqrt(cos(θₘ*sin(z))-cos(θₘ))\n",
    "@time quadgk(x->integrandz(x,0.01),0,pi/2)"
   ]
  },
  {
   "cell_type": "markdown",
   "id": "4a4ef298-d539-4d78-9fe5-1db01ec1dbe9",
   "metadata": {},
   "source": [
    "We can see how many points in evaluated the function at with `quadgk_count`"
   ]
  },
  {
   "cell_type": "code",
   "execution_count": 11,
   "id": "85763e72-849d-4187-b467-2642ffd73622",
   "metadata": {},
   "outputs": [
    {
     "data": {
      "text/plain": [
       "(1.1803405990160678, 6.177591771461266e-11, 15)"
      ]
     },
     "execution_count": 11,
     "metadata": {},
     "output_type": "execute_result"
    }
   ],
   "source": [
    "quadgk_count(x->integrandz(x,pi/2),0,pi/2)"
   ]
  },
  {
   "cell_type": "markdown",
   "id": "f9efd5cf-201d-46da-87b0-695864f3c9a7",
   "metadata": {},
   "source": [
    "Somehow it only needed 15 function evaluations to get better than 1 part in $10^{10}$ accuracy"
   ]
  },
  {
   "cell_type": "code",
   "execution_count": null,
   "id": "197f54b4-eaba-41e0-8043-686f3b11a9cf",
   "metadata": {},
   "outputs": [],
   "source": [
    "quadgk_print(x->integrandz(x,pi/2),0,pi/2)"
   ]
  },
  {
   "cell_type": "markdown",
   "id": "ccd7e8eb-140a-4cad-a477-1951c9b05a0f",
   "metadata": {},
   "source": [
    "Note:  without our transformation it needed many more points"
   ]
  },
  {
   "cell_type": "code",
   "execution_count": 12,
   "id": "33997c57-62cb-452a-ae7f-4524f2b294f9",
   "metadata": {},
   "outputs": [
    {
     "data": {
      "text/plain": [
       "(1.1803405931478603, 1.537190156500909e-8, 1305)"
      ]
     },
     "execution_count": 12,
     "metadata": {},
     "output_type": "execute_result"
    }
   ],
   "source": [
    "quadgk_count(x->PeriodIntegrand(x,pi/2),0,1)"
   ]
  },
  {
   "cell_type": "markdown",
   "id": "78c52277-c2bd-4238-8bb6-453a928bb412",
   "metadata": {},
   "source": [
    "### Gaussian Quadratures"
   ]
  },
  {
   "cell_type": "markdown",
   "id": "202330e0-9bd6-479d-a97c-710bd26ae804",
   "metadata": {},
   "source": [
    "How on Earth can the integration routine be so effective?  "
   ]
  },
  {
   "cell_type": "markdown",
   "id": "3ecb54cf-ec09-4ac8-a65e-cdbdbb51235e",
   "metadata": {},
   "source": [
    "There are two pieces of magic:\n",
    "1. Gaussian Quadratures\n",
    "2. Adaptive Quadratures"
   ]
  },
  {
   "cell_type": "markdown",
   "id": "4107c141-68e5-4011-844f-7a46b45b61f5",
   "metadata": {},
   "source": [
    "#### Magic behind Gaussian Quadratures"
   ]
  },
  {
   "cell_type": "markdown",
   "id": "6defcd42-42cc-44bc-b505-35b44d6140f1",
   "metadata": {},
   "source": [
    "The idea is that if one evaluates the function at **non-equally spaced** points, one can accelerate convergence"
   ]
  },
  {
   "cell_type": "markdown",
   "id": "87a08d4a-aadf-49e0-9e44-ce9f7d74594f",
   "metadata": {},
   "source": [
    "For example, suppose we want to calculate $\\int_{-1}^1 f(x) dx$ using only three function evaluations.  In trapezoid rule those evaluations would be at $x=-1,0,1$.  For midpoint rule they would be at $x=-2/3,0,2/3$.  In Simpson's rule the would be at $x=-1,0,1$, but we would weight them unequally.  The most general quadrature rule is\n",
    "\\begin{equation}\n",
    "I\\approx \\sum_j w_j f(x_j).\n",
    "\\end{equation}\n",
    "The most general 3-point symmetric quadrature rule would be \n",
    "\\begin{equation}\n",
    "I=a f(0) + b f(s)+ b f(-s)\n",
    "\\end{equation}\n",
    "where $a,b,s$ are parameters."
   ]
  },
  {
   "cell_type": "markdown",
   "id": "25e9ab0a-c944-41a1-913d-7ddfda0795f5",
   "metadata": {},
   "source": [
    "We will choose these parameters so that we get the correct integral for various polynomials\n",
    "\\begin{align}\n",
    "\\int_{-1}^1 x^0 dx &\\to a+2b &=2\\\\\n",
    "\\int_{-1}^1 x^1 dx &\\to 0 &= 0\\\\\n",
    "\\int_{-1}^1 x^2 dx &\\to 2b s^2 &= 2/3\\\\\n",
    "\\int_{-1}^1 x^3 dx &\\to 0 &= 0\\\\\n",
    "\\int_{-1}^1 x^4 dx &\\to 2b s^4 &= 2/5\\\\\n",
    "\\int_{-1}^1 x^5 dx &\\to 0 &= 0\\\\\n",
    "\\end{align}\n",
    "We can solve these to find $s=\\sqrt{3/5}, a=8/9, b=5/9$.  With these 3 function evaluations we can exactly integrate any polynomial up to 5th order."
   ]
  },
  {
   "cell_type": "markdown",
   "id": "cd70e1b7-b443-4a6f-a43c-02fe6fc19ced",
   "metadata": {},
   "source": [
    "There is some beautiful mathematics behind deriving higher ourder Gaussian Quadrature methods, using the properties of orthogonal polynomials.  We will not get into it here, but they have led to efficient ways to calculate the nodes and weights for very [high orders](https://pi.math.cornell.edu/~ajt/papers/QuadratureEssay.pdf)."
   ]
  },
  {
   "cell_type": "markdown",
   "id": "c74ff4ec-c222-4426-9d0d-ba521a074668",
   "metadata": {},
   "source": [
    "#### Adaptive Quadratures"
   ]
  },
  {
   "cell_type": "markdown",
   "id": "59147547-2cb8-4a0c-af66-4cd55ede5764",
   "metadata": {},
   "source": [
    "The other trick that `quadgk` does is it uses *adaptive quadratures*.  This means it subdivides only the parts of the domain where the function is varying fastest."
   ]
  },
  {
   "cell_type": "markdown",
   "id": "7a1046ed-dd4f-4026-8878-527dd9256874",
   "metadata": {},
   "source": [
    "We could code our own Adaptive Gaussian Quadrature routine, but there is not much need.  It makes more sense to just use the packaged version.  Numerical Recipies has a nice discussion of the algorithm if you want to play with it."
   ]
  },
  {
   "cell_type": "markdown",
   "id": "0c69b451-56c5-49c2-b9f5-29e052fe6b27",
   "metadata": {},
   "source": [
    "# Working with files and notebooks at the same time"
   ]
  },
  {
   "cell_type": "markdown",
   "id": "04a09b73-4a89-4127-ab05-c6673fda9357",
   "metadata": {},
   "source": [
    "At this point in the lecture, I'll illustrate how to shift to JupyterLab -- opening this notebook and the file [trapezoid.jl](https://github.com/em256/phys4480/blob/main/trapezoid.j) at the same time"
   ]
  },
  {
   "attachments": {},
   "cell_type": "markdown",
   "id": "7689d42b-cb4b-4762-ab20-2c67ae504747",
   "metadata": {},
   "source": [
    "1. click the \"Open in..\" button in the upper right\n",
    "2. click the \"Simple\" slider on the bottom left, to turn off simple mode\n",
    "3. click the file browser icon on the left to open a file browser.\n",
    "4. double click on the file \"trapezoid.jl\"\n",
    "5. Drag the tab to show the text file side-by side with the notebook"
   ]
  },
  {
   "cell_type": "markdown",
   "id": "9e1b7485-cb8d-4d42-98af-10a32baebae7",
   "metadata": {},
   "source": [
    "You can now freely copy and paste betweeen the notebook and the file"
   ]
  },
  {
   "cell_type": "code",
   "execution_count": 13,
   "id": "e171555f-e17c-4b2e-bbec-bc25296122e2",
   "metadata": {},
   "outputs": [
    {
     "data": {
      "text/plain": [
       "nrtrap"
      ]
     },
     "execution_count": 13,
     "metadata": {},
     "output_type": "execute_result"
    }
   ],
   "source": [
    "include(\"trapezoid.jl\")"
   ]
  },
  {
   "cell_type": "code",
   "execution_count": 14,
   "id": "b716a59d-b836-4efb-ac3e-999d484ecde7",
   "metadata": {},
   "outputs": [
    {
     "data": {
      "text/plain": [
       "2.3333333333721384"
      ]
     },
     "execution_count": 14,
     "metadata": {},
     "output_type": "execute_result"
    }
   ],
   "source": [
    "nrtrap(x->x^2,(1,2))"
   ]
  },
  {
   "cell_type": "markdown",
   "id": "c4d3f2f9-4ed8-4bc1-bfd7-590739debd89",
   "metadata": {},
   "source": [
    "You can use create new text files, edit them, and then run them with `include`.  You can change the file and then `include` them again.  This is really useful if you are building tools that you will use in multiple projects."
   ]
  },
  {
   "cell_type": "markdown",
   "id": "6faee38c-b8d6-490a-be0f-d9451e5ab6fb",
   "metadata": {},
   "source": [
    "At this point in the lecture I will demonstrate creating a new text file, adding some code to it, and including it. "
   ]
  },
  {
   "cell_type": "markdown",
   "id": "32257a68-7c8c-4dc9-9ff8-1d159ee6754c",
   "metadata": {},
   "source": [
    "I will then illustrate opening a terminal, and running the script using Julia from the command line."
   ]
  },
  {
   "cell_type": "markdown",
   "id": "911b70c1-4a4e-4bba-826a-6b26974bff34",
   "metadata": {},
   "source": [
    "# Line Integrals"
   ]
  },
  {
   "cell_type": "code",
   "execution_count": 19,
   "id": "e55730ea-f17c-4b5a-94cb-e00750ec46cd",
   "metadata": {},
   "outputs": [
    {
     "data": {
      "text/plain": [
       "0.0"
      ]
     },
     "execution_count": 19,
     "metadata": {},
     "output_type": "execute_result"
    }
   ],
   "source": [
    "zero(1.5)"
   ]
  },
  {
   "cell_type": "code",
   "execution_count": 20,
   "id": "85932ee6-e09d-42d9-950c-1be41b1c7fce",
   "metadata": {},
   "outputs": [
    {
     "data": {
      "text/plain": [
       "0"
      ]
     },
     "execution_count": 20,
     "metadata": {},
     "output_type": "execute_result"
    }
   ],
   "source": [
    "zero(1)"
   ]
  },
  {
   "cell_type": "code",
   "execution_count": 21,
   "id": "f9a60b69-88c0-4c2b-8789-d50177ecb244",
   "metadata": {},
   "outputs": [
    {
     "data": {
      "text/plain": [
       "2-element Vector{Int64}:\n",
       " 0\n",
       " 0"
      ]
     },
     "execution_count": 21,
     "metadata": {},
     "output_type": "execute_result"
    }
   ],
   "source": [
    "zero([1,2])"
   ]
  },
  {
   "cell_type": "code",
   "execution_count": 22,
   "id": "5afbb7bf-3f2b-49b7-9d7a-2c34c2684079",
   "metadata": {},
   "outputs": [],
   "source": [
    "using LinearAlgebra"
   ]
  },
  {
   "cell_type": "markdown",
   "id": "7157096c-a6e2-442d-a671-b083aedf221c",
   "metadata": {},
   "source": [
    "Note:  I made one very small change in our trapezoid integrator when I put it in \"trapezoid.jl\".  When we compare the integral's value for different order, I changed the `abs` to `norm`.  For real (or complex) numbers this works the same, but norm can also work on vectors."
   ]
  },
  {
   "cell_type": "code",
   "execution_count": 23,
   "id": "95e45465-aa5e-463a-8c3c-8d2699757ad0",
   "metadata": {},
   "outputs": [
    {
     "name": "stdout",
     "output_type": "stream",
     "text": [
      "norm(-1) = 1.0\n",
      "norm(1) = 1.0\n",
      "norm(1 + 2im) = 2.23606797749979\n",
      "norm([2, 3, 1]) ^ 2 = 14.0\n"
     ]
    },
    {
     "data": {
      "text/plain": [
       "14.0"
      ]
     },
     "execution_count": 23,
     "metadata": {},
     "output_type": "execute_result"
    }
   ],
   "source": [
    "@show norm(-1)\n",
    "@show norm(1)\n",
    "@show norm(1+2im)\n",
    "@show norm([2,3,1])^2"
   ]
  },
  {
   "cell_type": "markdown",
   "id": "b7ddd4a3-d5dc-4b32-a91e-c5efa984af79",
   "metadata": {},
   "source": [
    "We could then calculate something like \n",
    "$$\n",
    "\\int_{\\vec{a}}^{\\vec{b}} \\vec{F}\\cdot d{\\vec r}\n",
    "$$\n",
    "along a straight line path"
   ]
  },
  {
   "cell_type": "code",
   "execution_count": 24,
   "id": "1151f4fb-df26-4c92-b202-ab70e2625ed4",
   "metadata": {},
   "outputs": [
    {
     "data": {
      "text/plain": [
       "1-element Vector{Int64}:\n",
       " 6"
      ]
     },
     "execution_count": 24,
     "metadata": {},
     "output_type": "execute_result"
    }
   ],
   "source": [
    "[1 2 3]*[1,1,1]"
   ]
  },
  {
   "cell_type": "code",
   "execution_count": 26,
   "id": "5b7f0075-d1d4-435d-8827-c3f1c5b0c602",
   "metadata": {},
   "outputs": [
    {
     "data": {
      "text/plain": [
       "3-element Vector{Int64}:\n",
       " 1\n",
       " 2\n",
       " 3"
      ]
     },
     "execution_count": 26,
     "metadata": {},
     "output_type": "execute_result"
    }
   ],
   "source": [
    "[1,2,3]"
   ]
  },
  {
   "cell_type": "code",
   "execution_count": 28,
   "id": "e803c0ed-79b8-40ae-a22f-c7bbe417cd18",
   "metadata": {},
   "outputs": [
    {
     "data": {
      "text/plain": [
       "F (generic function with 1 method)"
      ]
     },
     "execution_count": 28,
     "metadata": {},
     "output_type": "execute_result"
    }
   ],
   "source": [
    "F(r)= -transpose(r)/norm(r)^3"
   ]
  },
  {
   "cell_type": "code",
   "execution_count": 29,
   "id": "f7f6fe11-cc39-4105-9e0d-f70d735d63b9",
   "metadata": {},
   "outputs": [
    {
     "name": "stdout",
     "output_type": "stream",
     "text": [
      "F([1; 0; 0]) = [-1.0 0.0 0.0]\n",
      "F([2; 0; 0]) = [-0.25 0.0 0.0]\n",
      "F([0; 1; 0]) = [0.0 -1.0 0.0]\n",
      "F([0; 2; 0]) = [0.0 -0.25 0.0]\n"
     ]
    }
   ],
   "source": [
    "@show F([1; 0; 0])\n",
    "@show F([2; 0; 0])\n",
    "@show F([0; 1; 0])\n",
    "@show F([0; 2; 0]);"
   ]
  },
  {
   "cell_type": "code",
   "execution_count": 30,
   "id": "44f9f396-d4d2-4697-82c7-11a538405958",
   "metadata": {},
   "outputs": [
    {
     "data": {
      "text/plain": [
       "-0.5000000000084912"
      ]
     },
     "execution_count": 30,
     "metadata": {},
     "output_type": "execute_result"
    }
   ],
   "source": [
    "nrtrap(F,([1; 0; 0],[2; 0; 0]))"
   ]
  },
  {
   "cell_type": "code",
   "execution_count": 31,
   "id": "c855b93b-b1bd-46ff-963f-6cdac0bff746",
   "metadata": {},
   "outputs": [
    {
     "data": {
      "text/plain": [
       "V (generic function with 1 method)"
      ]
     },
     "execution_count": 31,
     "metadata": {},
     "output_type": "execute_result"
    }
   ],
   "source": [
    "V(r)=1/norm(r)"
   ]
  },
  {
   "cell_type": "code",
   "execution_count": 32,
   "id": "ec52aa66-76e4-472a-9104-d2b0389fc23b",
   "metadata": {},
   "outputs": [
    {
     "data": {
      "text/plain": [
       "-0.5"
      ]
     },
     "execution_count": 32,
     "metadata": {},
     "output_type": "execute_result"
    }
   ],
   "source": [
    "V([2; 0; 0])-V([1; 0; 0])"
   ]
  },
  {
   "cell_type": "code",
   "execution_count": 33,
   "id": "7b47e266-ec9b-41ac-adbb-917cdd32fe20",
   "metadata": {},
   "outputs": [
    {
     "data": {
      "text/plain": [
       "-0.858578643752598"
      ]
     },
     "execution_count": 33,
     "metadata": {},
     "output_type": "execute_result"
    }
   ],
   "source": [
    "nrtrap(F,([1; 0; 0],[3; 4; 5]))"
   ]
  },
  {
   "cell_type": "code",
   "execution_count": 34,
   "id": "5ae7b5c7-5fce-4417-a606-5ef4b558384e",
   "metadata": {},
   "outputs": [
    {
     "data": {
      "text/plain": [
       "-0.8585786437626906"
      ]
     },
     "execution_count": 34,
     "metadata": {},
     "output_type": "execute_result"
    }
   ],
   "source": [
    "V([3; 4; 5])-V([1; 0; 0])"
   ]
  },
  {
   "cell_type": "markdown",
   "id": "35ed2808-a693-4ddc-aa1e-c1220a7a75a5",
   "metadata": {},
   "source": [
    "## Contour Integrals"
   ]
  },
  {
   "cell_type": "markdown",
   "id": "c661a728-6397-4e52-b0f7-822db0c26536",
   "metadata": {},
   "source": [
    "Similarly we can do straight-line integrals in the complex plane"
   ]
  },
  {
   "cell_type": "code",
   "execution_count": 35,
   "id": "c9b13d6b-91bc-4bfb-8b86-39eaa3c79a48",
   "metadata": {},
   "outputs": [
    {
     "data": {
      "text/plain": [
       "0.3465735902605708 + 0.7853981633877467im"
      ]
     },
     "execution_count": 35,
     "metadata": {},
     "output_type": "execute_result"
    }
   ],
   "source": [
    "nrtrap(z->1/z,(1,1+1im))"
   ]
  },
  {
   "cell_type": "code",
   "execution_count": 36,
   "id": "8a76ace5-a31b-4b07-a1db-3e7e440a179b",
   "metadata": {},
   "outputs": [
    {
     "data": {
      "text/plain": [
       "(0.3465735902799727 + 0.7853981633974483im, 6.712470243266902e-10)"
      ]
     },
     "execution_count": 36,
     "metadata": {},
     "output_type": "execute_result"
    }
   ],
   "source": [
    "quadgk(z->1/z,1,1+1im)"
   ]
  },
  {
   "cell_type": "markdown",
   "id": "04346bf9-8a88-48d9-a490-9507e311e60b",
   "metadata": {},
   "source": [
    "Closed contours:"
   ]
  },
  {
   "cell_type": "code",
   "execution_count": 37,
   "id": "ea18aba0-5d13-4a47-8969-86500be949c0",
   "metadata": {},
   "outputs": [
    {
     "data": {
      "text/plain": [
       "0.9999999999876426 + 1.8860385562280946e-17im"
      ]
     },
     "execution_count": 37,
     "metadata": {},
     "output_type": "execute_result"
    }
   ],
   "source": [
    "nodes=[1,1im,-1,-1im,1]\n",
    "1/(2im*pi)*sum(nrtrap(z->1/z,(nodes[j],nodes[j+1])) for j in 1:(length(nodes)-1))"
   ]
  },
  {
   "cell_type": "code",
   "execution_count": 38,
   "id": "dcf71471-842c-42af-bef0-5e1c9fb90626",
   "metadata": {},
   "outputs": [
    {
     "data": {
      "image/png": "[encoded data removed]",
      "image/svg+xml": [
       "<?xml version=\"1.0\" encoding=\"utf-8\"?>\n",
       "<svg xmlns=\"http://www.w3.org/2000/svg\" xmlns:xlink=\"http://www.w3.org/1999/xlink\" width=\"600\" height=\"400\" viewBox=\"0 0 2400 1600\">\n",
       "<defs>\n",
       "  <clipPath id=\"clip730\">\n",
       "    <rect x=\"0\" y=\"0\" width=\"2400\" height=\"1600\"/>\n",
       "  </clipPath>\n",
       "</defs>\n",
       "<path clip-path=\"url(#clip730)\" d=\"M0 1600 L2400 1600 L2400 0 L0 0  Z\" fill=\"#ffffff\" fill-rule=\"evenodd\" fill-opacity=\"1\"/>\n",
       "<defs>\n",
       "  <clipPath id=\"clip731\">\n",
       "    <rect x=\"480\" y=\"0\" width=\"1681\" height=\"1600\"/>\n",
       "  </clipPath>\n",
       "</defs>\n",
       "<path clip-path=\"url(#clip730)\" d=\"M257.204 1423.18 L2112.76 1423.18 L2112.76 47.2441 L257.204 47.2441  Z\" fill=\"#ffffff\" fill-rule=\"evenodd\" fill-opacity=\"1\"/>\n",
       "<defs>\n",
       "  <clipPath id=\"clip732\">\n",
       "    <rect x=\"257\" y=\"47\" width=\"1857\" height=\"1377\"/>\n",
       "  </clipPath>\n",
       "</defs>\n",
       "<polyline clip-path=\"url(#clip732)\" style=\"stroke:#000000; stroke-linecap:round; stroke-linejoin:round; stroke-width:2; stroke-opacity:0.1; fill:none\" points=\"352.415,1423.18 352.415,47.2441 \"/>\n",
       "<polyline clip-path=\"url(#clip732)\" style=\"stroke:#000000; stroke-linecap:round; stroke-linejoin:round; stroke-width:2; stroke-opacity:0.1; fill:none\" points=\"779.372,1423.18 779.372,47.2441 \"/>\n",
       "<polyline clip-path=\"url(#clip732)\" style=\"stroke:#000000; stroke-linecap:round; stroke-linejoin:round; stroke-width:2; stroke-opacity:0.1; fill:none\" points=\"1206.33,1423.18 1206.33,47.2441 \"/>\n",
       "<polyline clip-path=\"url(#clip732)\" style=\"stroke:#000000; stroke-linecap:round; stroke-linejoin:round; stroke-width:2; stroke-opacity:0.1; fill:none\" points=\"1633.28,1423.18 1633.28,47.2441 \"/>\n",
       "<polyline clip-path=\"url(#clip732)\" style=\"stroke:#000000; stroke-linecap:round; stroke-linejoin:round; stroke-width:2; stroke-opacity:0.1; fill:none\" points=\"2060.24,1423.18 2060.24,47.2441 \"/>\n",
       "<polyline clip-path=\"url(#clip730)\" style=\"stroke:#000000; stroke-linecap:round; stroke-linejoin:round; stroke-width:4; stroke-opacity:1; fill:none\" points=\"257.204,1423.18 2112.76,1423.18 \"/>\n",
       "<polyline clip-path=\"url(#clip730)\" style=\"stroke:#000000; stroke-linecap:round; stroke-linejoin:round; stroke-width:4; stroke-opacity:1; fill:none\" points=\"352.415,1423.18 352.415,1404.28 \"/>\n",
       "<polyline clip-path=\"url(#clip730)\" style=\"stroke:#000000; stroke-linecap:round; stroke-linejoin:round; stroke-width:4; stroke-opacity:1; fill:none\" points=\"779.372,1423.18 779.372,1404.28 \"/>\n",
       "<polyline clip-path=\"url(#clip730)\" style=\"stroke:#000000; stroke-linecap:round; stroke-linejoin:round; stroke-width:4; stroke-opacity:1; fill:none\" points=\"1206.33,1423.18 1206.33,1404.28 \"/>\n",
       "<polyline clip-path=\"url(#clip730)\" style=\"stroke:#000000; stroke-linecap:round; stroke-linejoin:round; stroke-width:4; stroke-opacity:1; fill:none\" points=\"1633.28,1423.18 1633.28,1404.28 \"/>\n",
       "<polyline clip-path=\"url(#clip730)\" style=\"stroke:#000000; stroke-linecap:round; stroke-linejoin:round; stroke-width:4; stroke-opacity:1; fill:none\" points=\"2060.24,1423.18 2060.24,1404.28 \"/>\n",
       "<path clip-path=\"url(#clip730)\" d=\"M298.943 1468.75 L328.619 1468.75 L328.619 1472.69 L298.943 1472.69 L298.943 1468.75 Z\" fill=\"#000000\" fill-rule=\"nonzero\" fill-opacity=\"1\" /><path clip-path=\"url(#clip730)\" d=\"M339.522 1481.64 L347.161 1481.64 L347.161 1455.28 L338.851 1456.95 L338.851 1452.69 L347.114 1451.02 L351.79 1451.02 L351.79 1481.64 L359.429 1481.64 L359.429 1485.58 L339.522 1485.58 L339.522 1481.64 Z\" fill=\"#000000\" fill-rule=\"nonzero\" fill-opacity=\"1\" /><path clip-path=\"url(#clip730)\" d=\"M368.874 1479.7 L373.758 1479.7 L373.758 1485.58 L368.874 1485.58 L368.874 1479.7 Z\" fill=\"#000000\" fill-rule=\"nonzero\" fill-opacity=\"1\" /><path clip-path=\"url(#clip730)\" d=\"M393.943 1454.1 Q390.332 1454.1 388.503 1457.66 Q386.697 1461.2 386.697 1468.33 Q386.697 1475.44 388.503 1479.01 Q390.332 1482.55 393.943 1482.55 Q397.577 1482.55 399.383 1479.01 Q401.211 1475.44 401.211 1468.33 Q401.211 1461.2 399.383 1457.66 Q397.577 1454.1 393.943 1454.1 M393.943 1450.39 Q399.753 1450.39 402.809 1455 Q405.887 1459.58 405.887 1468.33 Q405.887 1477.06 402.809 1481.67 Q399.753 1486.25 393.943 1486.25 Q388.133 1486.25 385.054 1481.67 Q381.998 1477.06 381.998 1468.33 Q381.998 1459.58 385.054 1455 Q388.133 1450.39 393.943 1450.39 Z\" fill=\"#000000\" fill-rule=\"nonzero\" fill-opacity=\"1\" /><path clip-path=\"url(#clip730)\" d=\"M726.397 1468.75 L756.073 1468.75 L756.073 1472.69 L726.397 1472.69 L726.397 1468.75 Z\" fill=\"#000000\" fill-rule=\"nonzero\" fill-opacity=\"1\" /><path clip-path=\"url(#clip730)\" d=\"M776.166 1454.1 Q772.554 1454.1 770.726 1457.66 Q768.92 1461.2 768.92 1468.33 Q768.92 1475.44 770.726 1479.01 Q772.554 1482.55 776.166 1482.55 Q779.8 1482.55 781.605 1479.01 Q783.434 1475.44 783.434 1468.33 Q783.434 1461.2 781.605 1457.66 Q779.8 1454.1 776.166 1454.1 M776.166 1450.39 Q781.976 1450.39 785.031 1455 Q788.11 1459.58 788.11 1468.33 Q788.11 1477.06 785.031 1481.67 Q781.976 1486.25 776.166 1486.25 Q770.355 1486.25 767.277 1481.67 Q764.221 1477.06 764.221 1468.33 Q764.221 1459.58 767.277 1455 Q770.355 1450.39 776.166 1450.39 Z\" fill=\"#000000\" fill-rule=\"nonzero\" fill-opacity=\"1\" /><path clip-path=\"url(#clip730)\" d=\"M796.327 1479.7 L801.212 1479.7 L801.212 1485.58 L796.327 1485.58 L796.327 1479.7 Z\" fill=\"#000000\" fill-rule=\"nonzero\" fill-opacity=\"1\" /><path clip-path=\"url(#clip730)\" d=\"M811.443 1451.02 L829.799 1451.02 L829.799 1454.96 L815.725 1454.96 L815.725 1463.43 Q816.744 1463.08 817.763 1462.92 Q818.781 1462.73 819.8 1462.73 Q825.587 1462.73 828.966 1465.9 Q832.346 1469.08 832.346 1474.49 Q832.346 1480.07 828.874 1483.17 Q825.401 1486.25 819.082 1486.25 Q816.906 1486.25 814.638 1485.88 Q812.392 1485.51 809.985 1484.77 L809.985 1480.07 Q812.068 1481.2 814.29 1481.76 Q816.513 1482.32 818.989 1482.32 Q822.994 1482.32 825.332 1480.21 Q827.67 1478.1 827.67 1474.49 Q827.67 1470.88 825.332 1468.77 Q822.994 1466.67 818.989 1466.67 Q817.114 1466.67 815.239 1467.08 Q813.388 1467.5 811.443 1468.38 L811.443 1451.02 Z\" fill=\"#000000\" fill-rule=\"nonzero\" fill-opacity=\"1\" /><path clip-path=\"url(#clip730)\" d=\"M1183.71 1454.1 Q1180.1 1454.1 1178.27 1457.66 Q1176.47 1461.2 1176.47 1468.33 Q1176.47 1475.44 1178.27 1479.01 Q1180.1 1482.55 1183.71 1482.55 Q1187.35 1482.55 1189.15 1479.01 Q1190.98 1475.44 1190.98 1468.33 Q1190.98 1461.2 1189.15 1457.66 Q1187.35 1454.1 1183.71 1454.1 M1183.71 1450.39 Q1189.52 1450.39 1192.58 1455 Q1195.66 1459.58 1195.66 1468.33 Q1195.66 1477.06 1192.58 1481.67 Q1189.52 1486.25 1183.71 1486.25 Q1177.9 1486.25 1174.82 1481.67 Q1171.77 1477.06 1171.77 1468.33 Q1171.77 1459.58 1174.82 1455 Q1177.9 1450.39 1183.71 1450.39 Z\" fill=\"#000000\" fill-rule=\"nonzero\" fill-opacity=\"1\" /><path clip-path=\"url(#clip730)\" d=\"M1203.87 1479.7 L1208.76 1479.7 L1208.76 1485.58 L1203.87 1485.58 L1203.87 1479.7 Z\" fill=\"#000000\" fill-rule=\"nonzero\" fill-opacity=\"1\" /><path clip-path=\"url(#clip730)\" d=\"M1228.94 1454.1 Q1225.33 1454.1 1223.5 1457.66 Q1221.7 1461.2 1221.7 1468.33 Q1221.7 1475.44 1223.5 1479.01 Q1225.33 1482.55 1228.94 1482.55 Q1232.58 1482.55 1234.38 1479.01 Q1236.21 1475.44 1236.21 1468.33 Q1236.21 1461.2 1234.38 1457.66 Q1232.58 1454.1 1228.94 1454.1 M1228.94 1450.39 Q1234.75 1450.39 1237.81 1455 Q1240.89 1459.58 1240.89 1468.33 Q1240.89 1477.06 1237.81 1481.67 Q1234.75 1486.25 1228.94 1486.25 Q1223.13 1486.25 1220.05 1481.67 Q1217 1477.06 1217 1468.33 Q1217 1459.58 1220.05 1455 Q1223.13 1450.39 1228.94 1450.39 Z\" fill=\"#000000\" fill-rule=\"nonzero\" fill-opacity=\"1\" /><path clip-path=\"url(#clip730)\" d=\"M1611.17 1454.1 Q1607.56 1454.1 1605.73 1457.66 Q1603.92 1461.2 1603.92 1468.33 Q1603.92 1475.44 1605.73 1479.01 Q1607.56 1482.55 1611.17 1482.55 Q1614.8 1482.55 1616.61 1479.01 Q1618.43 1475.44 1618.43 1468.33 Q1618.43 1461.2 1616.61 1457.66 Q1614.8 1454.1 1611.17 1454.1 M1611.17 1450.39 Q1616.98 1450.39 1620.03 1455 Q1623.11 1459.58 1623.11 1468.33 Q1623.11 1477.06 1620.03 1481.67 Q1616.98 1486.25 1611.17 1486.25 Q1605.36 1486.25 1602.28 1481.67 Q1599.22 1477.06 1599.22 1468.33 Q1599.22 1459.58 1602.28 1455 Q1605.36 1450.39 1611.17 1450.39 Z\" fill=\"#000000\" fill-rule=\"nonzero\" fill-opacity=\"1\" /><path clip-path=\"url(#clip730)\" d=\"M1631.33 1479.7 L1636.21 1479.7 L1636.21 1485.58 L1631.33 1485.58 L1631.33 1479.7 Z\" fill=\"#000000\" fill-rule=\"nonzero\" fill-opacity=\"1\" /><path clip-path=\"url(#clip730)\" d=\"M1646.44 1451.02 L1664.8 1451.02 L1664.8 1454.96 L1650.73 1454.96 L1650.73 1463.43 Q1651.74 1463.08 1652.76 1462.92 Q1653.78 1462.73 1654.8 1462.73 Q1660.59 1462.73 1663.97 1465.9 Q1667.35 1469.08 1667.35 1474.49 Q1667.35 1480.07 1663.87 1483.17 Q1660.4 1486.25 1654.08 1486.25 Q1651.91 1486.25 1649.64 1485.88 Q1647.39 1485.51 1644.99 1484.77 L1644.99 1480.07 Q1647.07 1481.2 1649.29 1481.76 Q1651.51 1482.32 1653.99 1482.32 Q1657.99 1482.32 1660.33 1480.21 Q1662.67 1478.1 1662.67 1474.49 Q1662.67 1470.88 1660.33 1468.77 Q1657.99 1466.67 1653.99 1466.67 Q1652.11 1466.67 1650.24 1467.08 Q1648.39 1467.5 1646.44 1468.38 L1646.44 1451.02 Z\" fill=\"#000000\" fill-rule=\"nonzero\" fill-opacity=\"1\" /><path clip-path=\"url(#clip730)\" d=\"M2027.39 1481.64 L2035.03 1481.64 L2035.03 1455.28 L2026.72 1456.95 L2026.72 1452.69 L2034.99 1451.02 L2039.66 1451.02 L2039.66 1481.64 L2047.3 1481.64 L2047.3 1485.58 L2027.39 1485.58 L2027.39 1481.64 Z\" fill=\"#000000\" fill-rule=\"nonzero\" fill-opacity=\"1\" /><path clip-path=\"url(#clip730)\" d=\"M2056.74 1479.7 L2061.63 1479.7 L2061.63 1485.58 L2056.74 1485.58 L2056.74 1479.7 Z\" fill=\"#000000\" fill-rule=\"nonzero\" fill-opacity=\"1\" /><path clip-path=\"url(#clip730)\" d=\"M2081.81 1454.1 Q2078.2 1454.1 2076.37 1457.66 Q2074.57 1461.2 2074.57 1468.33 Q2074.57 1475.44 2076.37 1479.01 Q2078.2 1482.55 2081.81 1482.55 Q2085.45 1482.55 2087.25 1479.01 Q2089.08 1475.44 2089.08 1468.33 Q2089.08 1461.2 2087.25 1457.66 Q2085.45 1454.1 2081.81 1454.1 M2081.81 1450.39 Q2087.62 1450.39 2090.68 1455 Q2093.76 1459.58 2093.76 1468.33 Q2093.76 1477.06 2090.68 1481.67 Q2087.62 1486.25 2081.81 1486.25 Q2076 1486.25 2072.93 1481.67 Q2069.87 1477.06 2069.87 1468.33 Q2069.87 1459.58 2072.93 1455 Q2076 1450.39 2081.81 1450.39 Z\" fill=\"#000000\" fill-rule=\"nonzero\" fill-opacity=\"1\" /><path clip-path=\"url(#clip730)\" d=\"M1201.59 1532.4 L1188.7 1549.74 L1202.26 1568.04 L1195.36 1568.04 L1184.98 1554.04 L1174.6 1568.04 L1167.7 1568.04 L1181.54 1549.39 L1168.87 1532.4 L1175.78 1532.4 L1185.23 1545.1 L1194.69 1532.4 L1201.59 1532.4 Z\" fill=\"#000000\" fill-rule=\"nonzero\" fill-opacity=\"1\" /><polyline clip-path=\"url(#clip732)\" style=\"stroke:#000000; stroke-linecap:round; stroke-linejoin:round; stroke-width:2; stroke-opacity:0.1; fill:none\" points=\"257.204,1352.58 2112.76,1352.58 \"/>\n",
       "<polyline clip-path=\"url(#clip732)\" style=\"stroke:#000000; stroke-linecap:round; stroke-linejoin:round; stroke-width:2; stroke-opacity:0.1; fill:none\" points=\"257.204,1035.98 2112.76,1035.98 \"/>\n",
       "<polyline clip-path=\"url(#clip732)\" style=\"stroke:#000000; stroke-linecap:round; stroke-linejoin:round; stroke-width:2; stroke-opacity:0.1; fill:none\" points=\"257.204,719.382 2112.76,719.382 \"/>\n",
       "<polyline clip-path=\"url(#clip732)\" style=\"stroke:#000000; stroke-linecap:round; stroke-linejoin:round; stroke-width:2; stroke-opacity:0.1; fill:none\" points=\"257.204,402.784 2112.76,402.784 \"/>\n",
       "<polyline clip-path=\"url(#clip732)\" style=\"stroke:#000000; stroke-linecap:round; stroke-linejoin:round; stroke-width:2; stroke-opacity:0.1; fill:none\" points=\"257.204,86.1857 2112.76,86.1857 \"/>\n",
       "<polyline clip-path=\"url(#clip730)\" style=\"stroke:#000000; stroke-linecap:round; stroke-linejoin:round; stroke-width:4; stroke-opacity:1; fill:none\" points=\"257.204,1423.18 257.204,47.2441 \"/>\n",
       "<polyline clip-path=\"url(#clip730)\" style=\"stroke:#000000; stroke-linecap:round; stroke-linejoin:round; stroke-width:4; stroke-opacity:1; fill:none\" points=\"257.204,1352.58 273.937,1352.58 \"/>\n",
       "<polyline clip-path=\"url(#clip730)\" style=\"stroke:#000000; stroke-linecap:round; stroke-linejoin:round; stroke-width:4; stroke-opacity:1; fill:none\" points=\"257.204,1035.98 273.937,1035.98 \"/>\n",
       "<polyline clip-path=\"url(#clip730)\" style=\"stroke:#000000; stroke-linecap:round; stroke-linejoin:round; stroke-width:4; stroke-opacity:1; fill:none\" points=\"257.204,719.382 273.937,719.382 \"/>\n",
       "<polyline clip-path=\"url(#clip730)\" style=\"stroke:#000000; stroke-linecap:round; stroke-linejoin:round; stroke-width:4; stroke-opacity:1; fill:none\" points=\"257.204,402.784 273.937,402.784 \"/>\n",
       "<polyline clip-path=\"url(#clip730)\" style=\"stroke:#000000; stroke-linecap:round; stroke-linejoin:round; stroke-width:4; stroke-opacity:1; fill:none\" points=\"257.204,86.1857 273.937,86.1857 \"/>\n",
       "<path clip-path=\"url(#clip730)\" d=\"M114.26 1353.03 L143.936 1353.03 L143.936 1356.96 L114.26 1356.96 L114.26 1353.03 Z\" fill=\"#000000\" fill-rule=\"nonzero\" fill-opacity=\"1\" /><path clip-path=\"url(#clip730)\" d=\"M154.839 1365.92 L162.477 1365.92 L162.477 1339.56 L154.167 1341.22 L154.167 1336.97 L162.431 1335.3 L167.107 1335.3 L167.107 1365.92 L174.746 1365.92 L174.746 1369.86 L154.839 1369.86 L154.839 1365.92 Z\" fill=\"#000000\" fill-rule=\"nonzero\" fill-opacity=\"1\" /><path clip-path=\"url(#clip730)\" d=\"M184.19 1363.98 L189.075 1363.98 L189.075 1369.86 L184.19 1369.86 L184.19 1363.98 Z\" fill=\"#000000\" fill-rule=\"nonzero\" fill-opacity=\"1\" /><path clip-path=\"url(#clip730)\" d=\"M209.26 1338.38 Q205.649 1338.38 203.82 1341.94 Q202.014 1345.48 202.014 1352.61 Q202.014 1359.72 203.82 1363.28 Q205.649 1366.83 209.26 1366.83 Q212.894 1366.83 214.699 1363.28 Q216.528 1359.72 216.528 1352.61 Q216.528 1345.48 214.699 1341.94 Q212.894 1338.38 209.26 1338.38 M209.26 1334.67 Q215.07 1334.67 218.125 1339.28 Q221.204 1343.86 221.204 1352.61 Q221.204 1361.34 218.125 1365.95 Q215.07 1370.53 209.26 1370.53 Q203.449 1370.53 200.371 1365.95 Q197.315 1361.34 197.315 1352.61 Q197.315 1343.86 200.371 1339.28 Q203.449 1334.67 209.26 1334.67 Z\" fill=\"#000000\" fill-rule=\"nonzero\" fill-opacity=\"1\" /><path clip-path=\"url(#clip730)\" d=\"M115.256 1036.43 L144.931 1036.43 L144.931 1040.37 L115.256 1040.37 L115.256 1036.43 Z\" fill=\"#000000\" fill-rule=\"nonzero\" fill-opacity=\"1\" /><path clip-path=\"url(#clip730)\" d=\"M165.024 1021.78 Q161.413 1021.78 159.584 1025.34 Q157.778 1028.89 157.778 1036.01 Q157.778 1043.12 159.584 1046.69 Q161.413 1050.23 165.024 1050.23 Q168.658 1050.23 170.464 1046.69 Q172.292 1043.12 172.292 1036.01 Q172.292 1028.89 170.464 1025.34 Q168.658 1021.78 165.024 1021.78 M165.024 1018.08 Q170.834 1018.08 173.889 1022.68 Q176.968 1027.27 176.968 1036.01 Q176.968 1044.74 173.889 1049.35 Q170.834 1053.93 165.024 1053.93 Q159.214 1053.93 156.135 1049.35 Q153.079 1044.74 153.079 1036.01 Q153.079 1027.27 156.135 1022.68 Q159.214 1018.08 165.024 1018.08 Z\" fill=\"#000000\" fill-rule=\"nonzero\" fill-opacity=\"1\" /><path clip-path=\"url(#clip730)\" d=\"M185.186 1047.38 L190.07 1047.38 L190.07 1053.26 L185.186 1053.26 L185.186 1047.38 Z\" fill=\"#000000\" fill-rule=\"nonzero\" fill-opacity=\"1\" /><path clip-path=\"url(#clip730)\" d=\"M200.301 1018.7 L218.658 1018.7 L218.658 1022.64 L204.584 1022.64 L204.584 1031.11 Q205.602 1030.76 206.621 1030.6 Q207.639 1030.41 208.658 1030.41 Q214.445 1030.41 217.824 1033.58 Q221.204 1036.76 221.204 1042.17 Q221.204 1047.75 217.732 1050.85 Q214.26 1053.93 207.94 1053.93 Q205.764 1053.93 203.496 1053.56 Q201.25 1053.19 198.843 1052.45 L198.843 1047.75 Q200.926 1048.89 203.149 1049.44 Q205.371 1050 207.848 1050 Q211.852 1050 214.19 1047.89 Q216.528 1045.78 216.528 1042.17 Q216.528 1038.56 214.19 1036.45 Q211.852 1034.35 207.848 1034.35 Q205.973 1034.35 204.098 1034.76 Q202.246 1035.18 200.301 1036.06 L200.301 1018.7 Z\" fill=\"#000000\" fill-rule=\"nonzero\" fill-opacity=\"1\" /><path clip-path=\"url(#clip730)\" d=\"M164.028 705.181 Q160.417 705.181 158.589 708.746 Q156.783 712.287 156.783 719.417 Q156.783 726.523 158.589 730.088 Q160.417 733.63 164.028 733.63 Q167.663 733.63 169.468 730.088 Q171.297 726.523 171.297 719.417 Q171.297 712.287 169.468 708.746 Q167.663 705.181 164.028 705.181 M164.028 701.477 Q169.839 701.477 172.894 706.084 Q175.973 710.667 175.973 719.417 Q175.973 728.144 172.894 732.75 Q169.839 737.333 164.028 737.333 Q158.218 737.333 155.14 732.75 Q152.084 728.144 152.084 719.417 Q152.084 710.667 155.14 706.084 Q158.218 701.477 164.028 701.477 Z\" fill=\"#000000\" fill-rule=\"nonzero\" fill-opacity=\"1\" /><path clip-path=\"url(#clip730)\" d=\"M184.19 730.782 L189.075 730.782 L189.075 736.662 L184.19 736.662 L184.19 730.782 Z\" fill=\"#000000\" fill-rule=\"nonzero\" fill-opacity=\"1\" /><path clip-path=\"url(#clip730)\" d=\"M209.26 705.181 Q205.649 705.181 203.82 708.746 Q202.014 712.287 202.014 719.417 Q202.014 726.523 203.82 730.088 Q205.649 733.63 209.26 733.63 Q212.894 733.63 214.699 730.088 Q216.528 726.523 216.528 719.417 Q216.528 712.287 214.699 708.746 Q212.894 705.181 209.26 705.181 M209.26 701.477 Q215.07 701.477 218.125 706.084 Q221.204 710.667 221.204 719.417 Q221.204 728.144 218.125 732.75 Q215.07 737.333 209.26 737.333 Q203.449 737.333 200.371 732.75 Q197.315 728.144 197.315 719.417 Q197.315 710.667 200.371 706.084 Q203.449 701.477 209.26 701.477 Z\" fill=\"#000000\" fill-rule=\"nonzero\" fill-opacity=\"1\" /><path clip-path=\"url(#clip730)\" d=\"M165.024 388.583 Q161.413 388.583 159.584 392.147 Q157.778 395.689 157.778 402.819 Q157.778 409.925 159.584 413.49 Q161.413 417.031 165.024 417.031 Q168.658 417.031 170.464 413.49 Q172.292 409.925 172.292 402.819 Q172.292 395.689 170.464 392.147 Q168.658 388.583 165.024 388.583 M165.024 384.879 Q170.834 384.879 173.889 389.485 Q176.968 394.069 176.968 402.819 Q176.968 411.545 173.889 416.152 Q170.834 420.735 165.024 420.735 Q159.214 420.735 156.135 416.152 Q153.079 411.545 153.079 402.819 Q153.079 394.069 156.135 389.485 Q159.214 384.879 165.024 384.879 Z\" fill=\"#000000\" fill-rule=\"nonzero\" fill-opacity=\"1\" /><path clip-path=\"url(#clip730)\" d=\"M185.186 414.184 L190.07 414.184 L190.07 420.064 L185.186 420.064 L185.186 414.184 Z\" fill=\"#000000\" fill-rule=\"nonzero\" fill-opacity=\"1\" /><path clip-path=\"url(#clip730)\" d=\"M200.301 385.504 L218.658 385.504 L218.658 389.439 L204.584 389.439 L204.584 397.911 Q205.602 397.564 206.621 397.402 Q207.639 397.217 208.658 397.217 Q214.445 397.217 217.824 400.388 Q221.204 403.559 221.204 408.976 Q221.204 414.555 217.732 417.656 Q214.26 420.735 207.94 420.735 Q205.764 420.735 203.496 420.365 Q201.25 419.994 198.843 419.254 L198.843 414.555 Q200.926 415.689 203.149 416.244 Q205.371 416.8 207.848 416.8 Q211.852 416.8 214.19 414.694 Q216.528 412.587 216.528 408.976 Q216.528 405.365 214.19 403.258 Q211.852 401.152 207.848 401.152 Q205.973 401.152 204.098 401.569 Q202.246 401.985 200.301 402.865 L200.301 385.504 Z\" fill=\"#000000\" fill-rule=\"nonzero\" fill-opacity=\"1\" /><path clip-path=\"url(#clip730)\" d=\"M154.839 99.5305 L162.477 99.5305 L162.477 73.1649 L154.167 74.8316 L154.167 70.5723 L162.431 68.9057 L167.107 68.9057 L167.107 99.5305 L174.746 99.5305 L174.746 103.466 L154.839 103.466 L154.839 99.5305 Z\" fill=\"#000000\" fill-rule=\"nonzero\" fill-opacity=\"1\" /><path clip-path=\"url(#clip730)\" d=\"M184.19 97.5861 L189.075 97.5861 L189.075 103.466 L184.19 103.466 L184.19 97.5861 Z\" fill=\"#000000\" fill-rule=\"nonzero\" fill-opacity=\"1\" /><path clip-path=\"url(#clip730)\" d=\"M209.26 71.9844 Q205.649 71.9844 203.82 75.5492 Q202.014 79.0908 202.014 86.2204 Q202.014 93.3268 203.82 96.8916 Q205.649 100.433 209.26 100.433 Q212.894 100.433 214.699 96.8916 Q216.528 93.3268 216.528 86.2204 Q216.528 79.0908 214.699 75.5492 Q212.894 71.9844 209.26 71.9844 M209.26 68.2807 Q215.07 68.2807 218.125 72.8871 Q221.204 77.4704 221.204 86.2204 Q221.204 94.9472 218.125 99.5537 Q215.07 104.137 209.26 104.137 Q203.449 104.137 200.371 99.5537 Q197.315 94.9472 197.315 86.2204 Q197.315 77.4704 200.371 72.8871 Q203.449 68.2807 209.26 68.2807 Z\" fill=\"#000000\" fill-rule=\"nonzero\" fill-opacity=\"1\" /><path clip-path=\"url(#clip730)\" d=\"M67.3143 733.525 Q73.68 736.008 75.6216 738.363 Q77.5631 740.718 77.5631 744.665 L77.5631 749.344 L72.6615 749.344 L72.6615 745.906 Q72.6615 743.487 71.5157 742.151 Q70.3699 740.814 66.1048 739.191 L63.4312 738.14 L28.3562 752.559 L28.3562 746.352 L56.238 735.212 L28.3562 724.072 L28.3562 717.865 L67.3143 733.525 Z\" fill=\"#000000\" fill-rule=\"nonzero\" fill-opacity=\"1\" /><path clip-path=\"url(#clip732)\" d=\"M309.72 1384.24 L309.72 1384.24 L395.111 1384.24 L480.502 1384.24 L565.893 1384.24 L651.285 1384.24 L736.676 1384.24 L822.067 1384.24 L907.458 1384.24 L992.85 1384.24 L1078.24 1384.24 L1163.63 1384.24 L1249.02 1384.24 L1334.41 1384.24 L1419.81 1384.24 L1505.2 1384.24 L1590.59 1384.24 L1675.98 1384.24 L1761.37 1384.24 L1846.76 1384.24 L1932.15 1384.24 L2017.54 1384.24 L2017.54 1384.24 L2017.54 1384.24 L2017.54 1384.24 L2017.54 1320.92 L2017.54 1257.6 L2017.54 1194.28 L2017.54 1130.96 L2017.54 1067.64 L2017.54 1004.32 L2017.54 941.001 L2017.54 877.681 L2017.54 814.362 L2017.54 751.042 L2017.54 687.722 L2017.54 624.403 L2017.54 561.083 L2017.54 497.763 L2017.54 434.444 L2017.54 371.124 L2017.54 307.804 L2017.54 244.485 L2017.54 181.165 L2017.54 117.845 L2017.54 117.845 L2017.54 117.845 L2017.54 117.845 L1932.15 117.845 L1846.76 117.845 L1761.37 117.845 L1675.98 117.845 L1590.59 117.845 L1505.2 117.845 L1419.81 117.845 L1334.41 117.845 L1249.02 117.845 L1163.63 117.845 L1078.24 117.845 L992.85 117.845 L907.458 117.845 L822.067 117.845 L736.676 117.845 L651.285 117.845 L565.893 117.845 L480.502 117.845 L395.111 117.845 L309.72 117.845 L309.72 117.845 L309.72 117.845 L309.72 117.845 L309.72 181.165 L309.72 244.485 L309.72 307.804 L309.72 371.124 L309.72 434.444 L309.72 497.763 L309.72 561.083 L309.72 624.403 L309.72 687.722 L309.72 751.042 L309.72 814.362 L309.72 877.681 L309.72 941.001 L309.72 1004.32 L309.72 1067.64 L309.72 1130.96 L309.72 1194.28 L309.72 1257.6 L309.72 1320.92 L309.72 1384.24 L309.72 1384.24 L309.72 1384.24  Z\" fill=\"#000003\" fill-rule=\"evenodd\" fill-opacity=\"1\"/>\n",
       "<path clip-path=\"url(#clip732)\" d=\"M1163.63 1136.78 L1249.02 1136.78 L1294.82 1130.96 L1334.41 1126.95 L1419.81 1108.06 L1505.2 1074.24 L1517.8 1067.64 L1590.59 1025.97 L1619.78 1004.32 L1675.98 950.344 L1684.88 941.001 L1730.49 877.681 L1755.96 814.362 L1761.37 785.004 L1769.22 751.042 L1769.22 687.722 L1761.37 653.76 L1755.96 624.403 L1730.49 561.083 L1684.88 497.763 L1675.98 488.42 L1619.78 434.444 L1590.59 412.796 L1517.8 371.124 L1505.2 364.522 L1419.81 330.705 L1334.41 311.818 L1294.82 307.804 L1249.02 301.987 L1163.63 301.987 L1117.83 307.804 L1078.24 311.818 L992.85 330.705 L907.458 364.522 L894.858 371.124 L822.067 412.796 L792.874 434.444 L736.676 488.42 L727.772 497.763 L682.168 561.083 L656.697 624.403 L651.285 653.76 L643.439 687.722 L643.439 751.042 L651.285 785.004 L656.697 814.362 L682.168 877.681 L727.772 941.001 L736.676 950.344 L792.874 1004.32 L822.067 1025.97 L894.858 1067.64 L907.458 1074.24 L992.85 1108.06 L1078.24 1126.95 L1117.83 1130.96 L1163.63 1136.78  Z\" fill=\"#0b0726\" fill-rule=\"evenodd\" fill-opacity=\"1\"/>\n",
       "<path clip-path=\"url(#clip732)\" d=\"M1078.24 973.9 L1163.63 989.16 L1249.02 989.16 L1334.41 973.9 L1410.71 941.001 L1419.81 936.968 L1499.76 877.681 L1505.2 870.939 L1549.56 814.362 L1570.14 751.042 L1570.14 687.722 L1549.56 624.403 L1505.2 567.825 L1499.76 561.083 L1419.81 501.797 L1410.71 497.763 L1334.41 464.865 L1249.02 449.604 L1163.63 449.604 L1078.24 464.865 L1001.94 497.763 L992.85 501.797 L912.898 561.083 L907.458 567.825 L863.092 624.403 L842.512 687.722 L842.512 751.042 L863.092 814.362 L907.458 870.939 L912.898 877.681 L992.85 936.968 L1001.94 941.001 L1078.24 973.9  Z\" fill=\"#240b4e\" fill-rule=\"evenodd\" fill-opacity=\"1\"/>\n",
       "<path clip-path=\"url(#clip732)\" d=\"M1078.24 895.89 L1163.63 919.561 L1249.02 919.561 L1334.41 895.89 L1367.23 877.681 L1419.81 838.693 L1444.36 814.362 L1476.28 751.042 L1476.28 687.722 L1444.36 624.403 L1419.81 600.071 L1367.23 561.083 L1334.41 542.875 L1249.02 519.203 L1163.63 519.203 L1078.24 542.875 L1045.43 561.083 L992.85 600.071 L968.294 624.403 L936.372 687.722 L936.372 751.042 L968.294 814.362 L992.85 838.693 L1045.43 877.681 L1078.24 895.89  Z\" fill=\"#410967\" fill-rule=\"evenodd\" fill-opacity=\"1\"/>\n",
       "<path clip-path=\"url(#clip732)\" d=\"M1078.24 847.57 L1163.63 874.563 L1249.02 874.563 L1334.41 847.57 L1379.2 814.362 L1415.6 751.042 L1415.6 687.722 L1379.2 624.403 L1334.41 591.194 L1249.02 564.201 L1163.63 564.201 L1078.24 591.194 L1033.46 624.403 L997.054 687.722 L997.054 751.042 L1033.46 814.362 L1078.24 847.57  Z\" fill=\"#5d126e\" fill-rule=\"evenodd\" fill-opacity=\"1\"/>\n",
       "<path clip-path=\"url(#clip732)\" d=\"M1163.63 852.375 L1249.02 852.375 L1325.49 814.362 L1334.41 807.742 L1385.68 751.042 L1385.68 687.722 L1334.41 631.022 L1325.49 624.403 L1249.02 586.389 L1163.63 586.389 L1087.17 624.403 L1078.24 631.022 L1026.98 687.722 L1026.98 751.042 L1078.24 807.742 L1087.17 814.362 L1163.63 852.375  Z\" fill=\"#781c6d\" fill-rule=\"evenodd\" fill-opacity=\"1\"/>\n",
       "<path clip-path=\"url(#clip732)\" d=\"M1163.63 830.186 L1249.02 830.186 L1280.86 814.362 L1334.41 774.646 L1355.76 751.042 L1355.76 687.722 L1334.41 664.118 L1280.86 624.403 L1249.02 608.578 L1163.63 608.578 L1131.8 624.403 L1078.24 664.118 L1056.9 687.722 L1056.9 751.042 L1078.24 774.646 L1131.8 814.362 L1163.63 830.186  Z\" fill=\"#932567\" fill-rule=\"evenodd\" fill-opacity=\"1\"/>\n",
       "<path clip-path=\"url(#clip732)\" d=\"M1163.63 812.406 L1249.02 812.406 L1331.78 751.042 L1331.78 687.722 L1249.02 626.358 L1163.63 626.358 L1080.88 687.722 L1080.88 751.042 L1163.63 812.406  Z\" fill=\"#ae305b\" fill-rule=\"evenodd\" fill-opacity=\"1\"/>\n",
       "<path clip-path=\"url(#clip732)\" d=\"M1163.63 805.588 L1249.02 805.588 L1322.58 751.042 L1322.58 687.722 L1249.02 633.176 L1163.63 633.176 L1090.07 687.722 L1090.07 751.042 L1163.63 805.588  Z\" fill=\"#c73e4c\" fill-rule=\"evenodd\" fill-opacity=\"1\"/>\n",
       "<path clip-path=\"url(#clip732)\" d=\"M1163.63 798.77 L1249.02 798.77 L1313.39 751.042 L1313.39 687.722 L1249.02 639.995 L1163.63 639.995 L1099.27 687.722 L1099.27 751.042 L1163.63 798.77  Z\" fill=\"#dc5039\" fill-rule=\"evenodd\" fill-opacity=\"1\"/>\n",
       "<path clip-path=\"url(#clip732)\" d=\"M1163.63 791.951 L1249.02 791.951 L1304.19 751.042 L1304.19 687.722 L1249.02 646.813 L1163.63 646.813 L1108.46 687.722 L1108.46 751.042 L1163.63 791.951  Z\" fill=\"#ed6825\" fill-rule=\"evenodd\" fill-opacity=\"1\"/>\n",
       "<path clip-path=\"url(#clip732)\" d=\"M1163.63 785.133 L1249.02 785.133 L1295 751.042 L1295 687.722 L1249.02 653.631 L1163.63 653.631 L1117.66 687.722 L1117.66 751.042 L1163.63 785.133  Z\" fill=\"#f7850e\" fill-rule=\"evenodd\" fill-opacity=\"1\"/>\n",
       "<path clip-path=\"url(#clip732)\" d=\"M1163.63 778.315 L1249.02 778.315 L1285.8 751.042 L1285.8 687.722 L1249.02 660.449 L1163.63 660.449 L1126.85 687.722 L1126.85 751.042 L1163.63 778.315  Z\" fill=\"#fba40a\" fill-rule=\"evenodd\" fill-opacity=\"1\"/>\n",
       "<path clip-path=\"url(#clip732)\" d=\"M1163.63 771.497 L1249.02 771.497 L1276.61 751.042 L1276.61 687.722 L1249.02 667.268 L1163.63 667.268 L1136.05 687.722 L1136.05 751.042 L1163.63 771.497  Z\" fill=\"#f9c52c\" fill-rule=\"evenodd\" fill-opacity=\"1\"/>\n",
       "<path clip-path=\"url(#clip732)\" d=\"M1163.63 764.678 L1249.02 764.678 L1267.41 751.042 L1267.41 687.722 L1249.02 674.086 L1163.63 674.086 L1145.24 687.722 L1145.24 751.042 L1163.63 764.678  Z\" fill=\"#f2e660\" fill-rule=\"evenodd\" fill-opacity=\"1\"/>\n",
       "<path clip-path=\"url(#clip732)\" d=\"M1163.63 757.86 L1249.02 757.86 L1258.22 751.042 L1258.22 687.722 L1249.02 680.904 L1163.63 680.904 L1154.44 687.722 L1154.44 751.042 L1163.63 757.86  Z\" fill=\"#fcfea4\" fill-rule=\"evenodd\" fill-opacity=\"1\"/>\n",
       "<polyline clip-path=\"url(#clip732)\" style=\"stroke:#000003; stroke-linecap:round; stroke-linejoin:round; stroke-width:4; stroke-opacity:1; fill:none\" points=\"309.72,1384.24 309.72,1384.24 395.111,1384.24 480.502,1384.24 565.893,1384.24 651.285,1384.24 736.676,1384.24 822.067,1384.24 907.458,1384.24 992.85,1384.24 1078.24,1384.24 1163.63,1384.24 1249.02,1384.24 1334.41,1384.24 1419.81,1384.24 1505.2,1384.24 1590.59,1384.24 1675.98,1384.24 1761.37,1384.24 1846.76,1384.24 1932.15,1384.24 2017.54,1384.24 2017.54,1320.92 2017.54,1257.6 2017.54,1194.28 2017.54,1130.96 2017.54,1067.64 2017.54,1004.32 2017.54,941.001 2017.54,877.681 2017.54,814.362 2017.54,751.042 2017.54,687.722 2017.54,624.403 2017.54,561.083 2017.54,497.763 2017.54,434.444 2017.54,371.124 2017.54,307.804 2017.54,244.485 2017.54,181.165 2017.54,117.845 1932.15,117.845 1846.76,117.845 1761.37,117.845 1675.98,117.845 1590.59,117.845 1505.2,117.845 1419.81,117.845 1334.41,117.845 1249.02,117.845 1163.63,117.845 1078.24,117.845 992.85,117.845 907.458,117.845 822.067,117.845 736.676,117.845 651.285,117.845 565.893,117.845 480.502,117.845 395.111,117.845 309.72,117.845 309.72,181.165 309.72,244.485 309.72,307.804 309.72,371.124 309.72,434.444 309.72,497.763 309.72,561.083 309.72,624.403 309.72,687.722 309.72,751.042 309.72,814.362 309.72,877.681 309.72,941.001 309.72,1004.32 309.72,1067.64 309.72,1130.96 309.72,1194.28 309.72,1257.6 309.72,1320.92 309.72,1384.24 \"/>\n",
       "<polyline clip-path=\"url(#clip732)\" style=\"stroke:#000003; stroke-linecap:round; stroke-linejoin:round; stroke-width:4; stroke-opacity:1; fill:none\" points=\"1163.63,1136.78 1249.02,1136.78 1294.82,1130.96 1334.41,1126.95 1419.81,1108.06 1505.2,1074.24 1517.8,1067.64 1590.59,1025.97 1619.78,1004.32 1675.98,950.344 1684.88,941.001 1730.49,877.681 1755.96,814.362 1761.37,785.004 1769.22,751.042 1769.22,687.722 1761.37,653.76 1755.96,624.403 1730.49,561.083 1684.88,497.763 1675.98,488.42 1619.78,434.444 1590.59,412.796 1517.8,371.124 1505.2,364.522 1419.81,330.705 1334.41,311.818 1294.82,307.804 1249.02,301.987 1163.63,301.987 1117.83,307.804 1078.24,311.818 992.85,330.705 907.458,364.522 894.858,371.124 822.067,412.796 792.874,434.444 736.676,488.42 727.772,497.763 682.168,561.083 656.697,624.403 651.285,653.76 643.439,687.722 643.439,751.042 651.285,785.004 656.697,814.362 682.168,877.681 727.772,941.001 736.676,950.344 792.874,1004.32 822.067,1025.97 894.858,1067.64 907.458,1074.24 992.85,1108.06 1078.24,1126.95 1117.83,1130.96 1163.63,1136.78 \"/>\n",
       "<polyline clip-path=\"url(#clip732)\" style=\"stroke:#000003; stroke-linecap:round; stroke-linejoin:round; stroke-width:4; stroke-opacity:1; fill:none\" points=\"1078.24,973.9 1163.63,989.16 1249.02,989.16 1334.41,973.9 1410.71,941.001 1419.81,936.968 1499.76,877.681 1505.2,870.939 1549.56,814.362 1570.14,751.042 1570.14,687.722 1549.56,624.403 1505.2,567.825 1499.76,561.083 1419.81,501.797 1410.71,497.763 1334.41,464.865 1249.02,449.604 1163.63,449.604 1078.24,464.865 1001.94,497.763 992.85,501.797 912.898,561.083 907.458,567.825 863.092,624.403 842.512,687.722 842.512,751.042 863.092,814.362 907.458,870.939 912.898,877.681 992.85,936.968 1001.94,941.001 1078.24,973.9 \"/>\n",
       "<polyline clip-path=\"url(#clip732)\" style=\"stroke:#000003; stroke-linecap:round; stroke-linejoin:round; stroke-width:4; stroke-opacity:1; fill:none\" points=\"1078.24,895.89 1163.63,919.561 1249.02,919.561 1334.41,895.89 1367.23,877.681 1419.81,838.693 1444.36,814.362 1476.28,751.042 1476.28,687.722 1444.36,624.403 1419.81,600.071 1367.23,561.083 1334.41,542.875 1249.02,519.203 1163.63,519.203 1078.24,542.875 1045.43,561.083 992.85,600.071 968.294,624.403 936.372,687.722 936.372,751.042 968.294,814.362 992.85,838.693 1045.43,877.681 1078.24,895.89 \"/>\n",
       "<polyline clip-path=\"url(#clip732)\" style=\"stroke:#000003; stroke-linecap:round; stroke-linejoin:round; stroke-width:4; stroke-opacity:1; fill:none\" points=\"1078.24,847.57 1163.63,874.563 1249.02,874.563 1334.41,847.57 1379.2,814.362 1415.6,751.042 1415.6,687.722 1379.2,624.403 1334.41,591.194 1249.02,564.201 1163.63,564.201 1078.24,591.194 1033.46,624.403 997.054,687.722 997.054,751.042 1033.46,814.362 1078.24,847.57 \"/>\n",
       "<polyline clip-path=\"url(#clip732)\" style=\"stroke:#000003; stroke-linecap:round; stroke-linejoin:round; stroke-width:4; stroke-opacity:1; fill:none\" points=\"1163.63,852.375 1249.02,852.375 1325.49,814.362 1334.41,807.742 1385.68,751.042 1385.68,687.722 1334.41,631.022 1325.49,624.403 1249.02,586.389 1163.63,586.389 1087.17,624.403 1078.24,631.022 1026.98,687.722 1026.98,751.042 1078.24,807.742 1087.17,814.362 1163.63,852.375 \"/>\n",
       "<polyline clip-path=\"url(#clip732)\" style=\"stroke:#000003; stroke-linecap:round; stroke-linejoin:round; stroke-width:4; stroke-opacity:1; fill:none\" points=\"1163.63,830.186 1249.02,830.186 1280.86,814.362 1334.41,774.646 1355.76,751.042 1355.76,687.722 1334.41,664.118 1280.86,624.403 1249.02,608.578 1163.63,608.578 1131.8,624.403 1078.24,664.118 1056.9,687.722 1056.9,751.042 1078.24,774.646 1131.8,814.362 1163.63,830.186 \"/>\n",
       "<polyline clip-path=\"url(#clip732)\" style=\"stroke:#000003; stroke-linecap:round; stroke-linejoin:round; stroke-width:4; stroke-opacity:1; fill:none\" points=\"1163.63,812.406 1249.02,812.406 1331.78,751.042 1331.78,687.722 1249.02,626.358 1163.63,626.358 1080.88,687.722 1080.88,751.042 1163.63,812.406 \"/>\n",
       "<polyline clip-path=\"url(#clip732)\" style=\"stroke:#000003; stroke-linecap:round; stroke-linejoin:round; stroke-width:4; stroke-opacity:1; fill:none\" points=\"1163.63,805.588 1249.02,805.588 1322.58,751.042 1322.58,687.722 1249.02,633.176 1163.63,633.176 1090.07,687.722 1090.07,751.042 1163.63,805.588 \"/>\n",
       "<polyline clip-path=\"url(#clip732)\" style=\"stroke:#000003; stroke-linecap:round; stroke-linejoin:round; stroke-width:4; stroke-opacity:1; fill:none\" points=\"1163.63,798.77 1249.02,798.77 1313.39,751.042 1313.39,687.722 1249.02,639.995 1163.63,639.995 1099.27,687.722 1099.27,751.042 1163.63,798.77 \"/>\n",
       "<polyline clip-path=\"url(#clip732)\" style=\"stroke:#000003; stroke-linecap:round; stroke-linejoin:round; stroke-width:4; stroke-opacity:1; fill:none\" points=\"1163.63,791.951 1249.02,791.951 1304.19,751.042 1304.19,687.722 1249.02,646.813 1163.63,646.813 1108.46,687.722 1108.46,751.042 1163.63,791.951 \"/>\n",
       "<polyline clip-path=\"url(#clip732)\" style=\"stroke:#000003; stroke-linecap:round; stroke-linejoin:round; stroke-width:4; stroke-opacity:1; fill:none\" points=\"1163.63,785.133 1249.02,785.133 1295,751.042 1295,687.722 1249.02,653.631 1163.63,653.631 1117.66,687.722 1117.66,751.042 1163.63,785.133 \"/>\n",
       "<polyline clip-path=\"url(#clip732)\" style=\"stroke:#000003; stroke-linecap:round; stroke-linejoin:round; stroke-width:4; stroke-opacity:1; fill:none\" points=\"1163.63,778.315 1249.02,778.315 1285.8,751.042 1285.8,687.722 1249.02,660.449 1163.63,660.449 1126.85,687.722 1126.85,751.042 1163.63,778.315 \"/>\n",
       "<polyline clip-path=\"url(#clip732)\" style=\"stroke:#000003; stroke-linecap:round; stroke-linejoin:round; stroke-width:4; stroke-opacity:1; fill:none\" points=\"1163.63,771.497 1249.02,771.497 1276.61,751.042 1276.61,687.722 1249.02,667.268 1163.63,667.268 1136.05,687.722 1136.05,751.042 1163.63,771.497 \"/>\n",
       "<polyline clip-path=\"url(#clip732)\" style=\"stroke:#000003; stroke-linecap:round; stroke-linejoin:round; stroke-width:4; stroke-opacity:1; fill:none\" points=\"1163.63,764.678 1249.02,764.678 1267.41,751.042 1267.41,687.722 1249.02,674.086 1163.63,674.086 1145.24,687.722 1145.24,751.042 1163.63,764.678 \"/>\n",
       "<polyline clip-path=\"url(#clip732)\" style=\"stroke:#000003; stroke-linecap:round; stroke-linejoin:round; stroke-width:4; stroke-opacity:1; fill:none\" points=\"1163.63,757.86 1249.02,757.86 1258.22,751.042 1258.22,687.722 1249.02,680.904 1163.63,680.904 1154.44,687.722 1154.44,751.042 1163.63,757.86 \"/>\n",
       "<polyline clip-path=\"url(#clip732)\" style=\"stroke:#e26f46; stroke-linecap:round; stroke-linejoin:round; stroke-width:4; stroke-opacity:1; fill:none\" points=\"2060.24,719.382 1206.33,86.1857 352.415,719.382 1206.33,1352.58 2060.24,719.382 \"/>\n",
       "<polyline clip-path=\"url(#clip732)\" style=\"stroke:#e26f46; stroke-linecap:round; stroke-linejoin:round; stroke-width:4; stroke-opacity:1; fill:none\" points=\"2020.6,726.366 2060.24,719.382 2042.04,755.283 \"/>\n",
       "<polyline clip-path=\"url(#clip732)\" style=\"stroke:#e26f46; stroke-linecap:round; stroke-linejoin:round; stroke-width:4; stroke-opacity:1; fill:none\" points=\"2060.24,719.382 1206.33,1352.58 \"/>\n",
       "<defs>\n",
       "  <clipPath id=\"clip733\">\n",
       "    <rect x=\"2160\" y=\"47\" width=\"73\" height=\"1377\"/>\n",
       "  </clipPath>\n",
       "</defs>\n",
       "<path clip-path=\"url(#clip733)\" d=\"M2160.76 1423.18 L2232.76 1423.18 L2232.76 1337.18 L2160.76 1337.18  Z\" fill=\"#000003\" fill-rule=\"evenodd\" fill-opacity=\"1\"/>\n",
       "<path clip-path=\"url(#clip733)\" d=\"M2160.76 1337.18 L2232.76 1337.18 L2232.76 1251.19 L2160.76 1251.19  Z\" fill=\"#0b0726\" fill-rule=\"evenodd\" fill-opacity=\"1\"/>\n",
       "<path clip-path=\"url(#clip733)\" d=\"M2160.76 1251.19 L2232.76 1251.19 L2232.76 1165.19 L2160.76 1165.19  Z\" fill=\"#240b4e\" fill-rule=\"evenodd\" fill-opacity=\"1\"/>\n",
       "<path clip-path=\"url(#clip733)\" d=\"M2160.76 1165.19 L2232.76 1165.19 L2232.76 1079.2 L2160.76 1079.2  Z\" fill=\"#410967\" fill-rule=\"evenodd\" fill-opacity=\"1\"/>\n",
       "<path clip-path=\"url(#clip733)\" d=\"M2160.76 1079.2 L2232.76 1079.2 L2232.76 993.2 L2160.76 993.2  Z\" fill=\"#5d126e\" fill-rule=\"evenodd\" fill-opacity=\"1\"/>\n",
       "<path clip-path=\"url(#clip733)\" d=\"M2160.76 993.2 L2232.76 993.2 L2232.76 907.204 L2160.76 907.204  Z\" fill=\"#781c6d\" fill-rule=\"evenodd\" fill-opacity=\"1\"/>\n",
       "<path clip-path=\"url(#clip733)\" d=\"M2160.76 907.204 L2232.76 907.204 L2232.76 821.208 L2160.76 821.208  Z\" fill=\"#932567\" fill-rule=\"evenodd\" fill-opacity=\"1\"/>\n",
       "<path clip-path=\"url(#clip733)\" d=\"M2160.76 821.208 L2232.76 821.208 L2232.76 735.212 L2160.76 735.212  Z\" fill=\"#ae305b\" fill-rule=\"evenodd\" fill-opacity=\"1\"/>\n",
       "<path clip-path=\"url(#clip733)\" d=\"M2160.76 735.212 L2232.76 735.212 L2232.76 649.216 L2160.76 649.216  Z\" fill=\"#c73e4c\" fill-rule=\"evenodd\" fill-opacity=\"1\"/>\n",
       "<path clip-path=\"url(#clip733)\" d=\"M2160.76 649.216 L2232.76 649.216 L2232.76 563.22 L2160.76 563.22  Z\" fill=\"#dc5039\" fill-rule=\"evenodd\" fill-opacity=\"1\"/>\n",
       "<path clip-path=\"url(#clip733)\" d=\"M2160.76 563.22 L2232.76 563.22 L2232.76 477.224 L2160.76 477.224  Z\" fill=\"#ed6825\" fill-rule=\"evenodd\" fill-opacity=\"1\"/>\n",
       "<path clip-path=\"url(#clip733)\" d=\"M2160.76 477.224 L2232.76 477.224 L2232.76 391.228 L2160.76 391.228  Z\" fill=\"#f7850e\" fill-rule=\"evenodd\" fill-opacity=\"1\"/>\n",
       "<path clip-path=\"url(#clip733)\" d=\"M2160.76 391.228 L2232.76 391.228 L2232.76 305.232 L2160.76 305.232  Z\" fill=\"#fba40a\" fill-rule=\"evenodd\" fill-opacity=\"1\"/>\n",
       "<path clip-path=\"url(#clip733)\" d=\"M2160.76 305.232 L2232.76 305.232 L2232.76 219.236 L2160.76 219.236  Z\" fill=\"#f9c52c\" fill-rule=\"evenodd\" fill-opacity=\"1\"/>\n",
       "<path clip-path=\"url(#clip733)\" d=\"M2160.76 219.236 L2232.76 219.236 L2232.76 133.24 L2160.76 133.24  Z\" fill=\"#f2e660\" fill-rule=\"evenodd\" fill-opacity=\"1\"/>\n",
       "<path clip-path=\"url(#clip733)\" d=\"M2160.76 133.24 L2232.76 133.24 L2232.76 47.2441 L2160.76 47.2441  Z\" fill=\"#fcfea4\" fill-rule=\"evenodd\" fill-opacity=\"1\"/>\n",
       "<path clip-path=\"url(#clip730)\" d=\"M2274.38 1246.3 L2290.7 1246.3 L2290.7 1250.23 L2268.76 1250.23 L2268.76 1246.3 Q2271.42 1243.54 2276 1238.91 Q2280.61 1234.26 2281.79 1232.92 Q2284.03 1230.39 2284.91 1228.66 Q2285.82 1226.9 2285.82 1225.21 Q2285.82 1222.46 2283.87 1220.72 Q2281.95 1218.98 2278.85 1218.98 Q2276.65 1218.98 2274.2 1219.75 Q2271.77 1220.51 2268.99 1222.06 L2268.99 1217.34 Q2271.81 1216.21 2274.27 1215.63 Q2276.72 1215.05 2278.76 1215.05 Q2284.13 1215.05 2287.32 1217.73 Q2290.52 1220.42 2290.52 1224.91 Q2290.52 1227.04 2289.7 1228.96 Q2288.92 1230.86 2286.81 1233.45 Q2286.23 1234.12 2283.13 1237.34 Q2280.03 1240.53 2274.38 1246.3 Z\" fill=\"#000000\" fill-rule=\"nonzero\" fill-opacity=\"1\" /><path clip-path=\"url(#clip730)\" d=\"M2300.51 1244.35 L2305.4 1244.35 L2305.4 1250.23 L2300.51 1250.23 L2300.51 1244.35 Z\" fill=\"#000000\" fill-rule=\"nonzero\" fill-opacity=\"1\" /><path clip-path=\"url(#clip730)\" d=\"M2315.63 1215.67 L2333.99 1215.67 L2333.99 1219.61 L2319.91 1219.61 L2319.91 1228.08 Q2320.93 1227.73 2321.95 1227.57 Q2322.97 1227.39 2323.99 1227.39 Q2329.77 1227.39 2333.15 1230.56 Q2336.53 1233.73 2336.53 1239.14 Q2336.53 1244.72 2333.06 1247.83 Q2329.59 1250.9 2323.27 1250.9 Q2321.09 1250.9 2318.83 1250.53 Q2316.58 1250.16 2314.17 1249.42 L2314.17 1244.72 Q2316.26 1245.86 2318.48 1246.41 Q2320.7 1246.97 2323.18 1246.97 Q2327.18 1246.97 2329.52 1244.86 Q2331.86 1242.76 2331.86 1239.14 Q2331.86 1235.53 2329.52 1233.43 Q2327.18 1231.32 2323.18 1231.32 Q2321.3 1231.32 2319.43 1231.74 Q2317.58 1232.15 2315.63 1233.03 L2315.63 1215.67 Z\" fill=\"#000000\" fill-rule=\"nonzero\" fill-opacity=\"1\" /><path clip-path=\"url(#clip730)\" d=\"M2270.21 960.278 L2288.57 960.278 L2288.57 964.213 L2274.5 964.213 L2274.5 972.685 Q2275.52 972.338 2276.53 972.176 Q2277.55 971.991 2278.57 971.991 Q2284.36 971.991 2287.74 975.162 Q2291.12 978.333 2291.12 983.75 Q2291.12 989.329 2287.64 992.43 Q2284.17 995.509 2277.85 995.509 Q2275.68 995.509 2273.41 995.139 Q2271.16 994.768 2268.76 994.028 L2268.76 989.329 Q2270.84 990.463 2273.06 991.018 Q2275.28 991.574 2277.76 991.574 Q2281.77 991.574 2284.1 989.467 Q2286.44 987.361 2286.44 983.75 Q2286.44 980.139 2284.1 978.032 Q2281.77 975.926 2277.76 975.926 Q2275.89 975.926 2274.01 976.342 Q2272.16 976.759 2270.21 977.639 L2270.21 960.278 Z\" fill=\"#000000\" fill-rule=\"nonzero\" fill-opacity=\"1\" /><path clip-path=\"url(#clip730)\" d=\"M2300.33 988.958 L2305.21 988.958 L2305.21 994.838 L2300.33 994.838 L2300.33 988.958 Z\" fill=\"#000000\" fill-rule=\"nonzero\" fill-opacity=\"1\" /><path clip-path=\"url(#clip730)\" d=\"M2325.4 963.356 Q2321.79 963.356 2319.96 966.921 Q2318.15 970.463 2318.15 977.592 Q2318.15 984.699 2319.96 988.264 Q2321.79 991.805 2325.4 991.805 Q2329.03 991.805 2330.84 988.264 Q2332.67 984.699 2332.67 977.592 Q2332.67 970.463 2330.84 966.921 Q2329.03 963.356 2325.4 963.356 M2325.4 959.653 Q2331.21 959.653 2334.26 964.259 Q2337.34 968.843 2337.34 977.592 Q2337.34 986.319 2334.26 990.926 Q2331.21 995.509 2325.4 995.509 Q2319.59 995.509 2316.51 990.926 Q2313.45 986.319 2313.45 977.592 Q2313.45 968.843 2316.51 964.259 Q2319.59 959.653 2325.4 959.653 Z\" fill=\"#000000\" fill-rule=\"nonzero\" fill-opacity=\"1\" /><path clip-path=\"url(#clip730)\" d=\"M2268.76 704.883 L2290.98 704.883 L2290.98 706.873 L2278.43 739.443 L2273.55 739.443 L2285.35 708.818 L2268.76 708.818 L2268.76 704.883 Z\" fill=\"#000000\" fill-rule=\"nonzero\" fill-opacity=\"1\" /><path clip-path=\"url(#clip730)\" d=\"M2300.1 733.563 L2304.98 733.563 L2304.98 739.443 L2300.1 739.443 L2300.1 733.563 Z\" fill=\"#000000\" fill-rule=\"nonzero\" fill-opacity=\"1\" /><path clip-path=\"url(#clip730)\" d=\"M2315.21 704.883 L2333.57 704.883 L2333.57 708.818 L2319.5 708.818 L2319.5 717.29 Q2320.51 716.943 2321.53 716.781 Q2322.55 716.596 2323.57 716.596 Q2329.36 716.596 2332.74 719.767 Q2336.12 722.938 2336.12 728.355 Q2336.12 733.933 2332.64 737.035 Q2329.17 740.114 2322.85 740.114 Q2320.68 740.114 2318.41 739.744 Q2316.16 739.373 2313.76 738.633 L2313.76 733.933 Q2315.84 735.068 2318.06 735.623 Q2320.28 736.179 2322.76 736.179 Q2326.76 736.179 2329.1 734.072 Q2331.44 731.966 2331.44 728.355 Q2331.44 724.744 2329.1 722.637 Q2326.76 720.531 2322.76 720.531 Q2320.89 720.531 2319.01 720.947 Q2317.16 721.364 2315.21 722.244 L2315.21 704.883 Z\" fill=\"#000000\" fill-rule=\"nonzero\" fill-opacity=\"1\" /><path clip-path=\"url(#clip730)\" d=\"M2269.43 480.112 L2277.07 480.112 L2277.07 453.747 L2268.76 455.414 L2268.76 451.154 L2277.02 449.488 L2281.7 449.488 L2281.7 480.112 L2289.33 480.112 L2289.33 484.048 L2269.43 484.048 L2269.43 480.112 Z\" fill=\"#000000\" fill-rule=\"nonzero\" fill-opacity=\"1\" /><path clip-path=\"url(#clip730)\" d=\"M2308.78 452.566 Q2305.17 452.566 2303.34 456.131 Q2301.53 459.673 2301.53 466.802 Q2301.53 473.909 2303.34 477.474 Q2305.17 481.015 2308.78 481.015 Q2312.41 481.015 2314.22 477.474 Q2316.05 473.909 2316.05 466.802 Q2316.05 459.673 2314.22 456.131 Q2312.41 452.566 2308.78 452.566 M2308.78 448.863 Q2314.59 448.863 2317.64 453.469 Q2320.72 458.052 2320.72 466.802 Q2320.72 475.529 2317.64 480.136 Q2314.59 484.719 2308.78 484.719 Q2302.97 484.719 2299.89 480.136 Q2296.83 475.529 2296.83 466.802 Q2296.83 458.052 2299.89 453.469 Q2302.97 448.863 2308.78 448.863 Z\" fill=\"#000000\" fill-rule=\"nonzero\" fill-opacity=\"1\" /><path clip-path=\"url(#clip730)\" d=\"M2328.94 478.168 L2333.83 478.168 L2333.83 484.048 L2328.94 484.048 L2328.94 478.168 Z\" fill=\"#000000\" fill-rule=\"nonzero\" fill-opacity=\"1\" /><path clip-path=\"url(#clip730)\" d=\"M2354.01 452.566 Q2350.4 452.566 2348.57 456.131 Q2346.76 459.673 2346.76 466.802 Q2346.76 473.909 2348.57 477.474 Q2350.4 481.015 2354.01 481.015 Q2357.64 481.015 2359.45 477.474 Q2361.28 473.909 2361.28 466.802 Q2361.28 459.673 2359.45 456.131 Q2357.64 452.566 2354.01 452.566 M2354.01 448.863 Q2359.82 448.863 2362.88 453.469 Q2365.95 458.052 2365.95 466.802 Q2365.95 475.529 2362.88 480.136 Q2359.82 484.719 2354.01 484.719 Q2348.2 484.719 2345.12 480.136 Q2342.07 475.529 2342.07 466.802 Q2342.07 458.052 2345.12 453.469 Q2348.2 448.863 2354.01 448.863 Z\" fill=\"#000000\" fill-rule=\"nonzero\" fill-opacity=\"1\" /><path clip-path=\"url(#clip730)\" d=\"M2269.43 224.717 L2277.07 224.717 L2277.07 198.352 L2268.76 200.019 L2268.76 195.759 L2277.02 194.093 L2281.7 194.093 L2281.7 224.717 L2289.33 224.717 L2289.33 228.653 L2269.43 228.653 L2269.43 224.717 Z\" fill=\"#000000\" fill-rule=\"nonzero\" fill-opacity=\"1\" /><path clip-path=\"url(#clip730)\" d=\"M2302.81 224.717 L2319.13 224.717 L2319.13 228.653 L2297.18 228.653 L2297.18 224.717 Q2299.84 221.963 2304.43 217.333 Q2309.03 212.68 2310.21 211.338 Q2312.46 208.815 2313.34 207.079 Q2314.24 205.319 2314.24 203.63 Q2314.24 200.875 2312.3 199.139 Q2310.38 197.403 2307.27 197.403 Q2305.08 197.403 2302.62 198.167 Q2300.19 198.931 2297.41 200.481 L2297.41 195.759 Q2300.24 194.625 2302.69 194.046 Q2305.14 193.468 2307.18 193.468 Q2312.55 193.468 2315.75 196.153 Q2318.94 198.838 2318.94 203.329 Q2318.94 205.458 2318.13 207.38 Q2317.34 209.278 2315.24 211.87 Q2314.66 212.542 2311.56 215.759 Q2308.45 218.954 2302.81 224.717 Z\" fill=\"#000000\" fill-rule=\"nonzero\" fill-opacity=\"1\" /><path clip-path=\"url(#clip730)\" d=\"M2328.94 222.773 L2333.83 222.773 L2333.83 228.653 L2328.94 228.653 L2328.94 222.773 Z\" fill=\"#000000\" fill-rule=\"nonzero\" fill-opacity=\"1\" /><path clip-path=\"url(#clip730)\" d=\"M2344.06 194.093 L2362.41 194.093 L2362.41 198.028 L2348.34 198.028 L2348.34 206.5 Q2349.36 206.153 2350.38 205.991 Q2351.39 205.806 2352.41 205.806 Q2358.2 205.806 2361.58 208.977 Q2364.96 212.148 2364.96 217.565 Q2364.96 223.143 2361.49 226.245 Q2358.01 229.324 2351.7 229.324 Q2349.52 229.324 2347.25 228.954 Q2345.01 228.583 2342.6 227.842 L2342.6 223.143 Q2344.68 224.278 2346.9 224.833 Q2349.13 225.389 2351.6 225.389 Q2355.61 225.389 2357.95 223.282 Q2360.28 221.176 2360.28 217.565 Q2360.28 213.954 2357.95 211.847 Q2355.61 209.741 2351.6 209.741 Q2349.73 209.741 2347.85 210.157 Q2346 210.574 2344.06 211.454 L2344.06 194.093 Z\" fill=\"#000000\" fill-rule=\"nonzero\" fill-opacity=\"1\" /><polyline clip-path=\"url(#clip730)\" style=\"stroke:#000000; stroke-linecap:round; stroke-linejoin:round; stroke-width:4; stroke-opacity:1; fill:none\" points=\"2232.76,1423.18 2232.76,1236.58 2256.76,1236.58 2232.76,1236.58 2232.76,981.187 2256.76,981.187 2232.76,981.187 2232.76,725.792 2256.76,725.792 2232.76,725.792 2232.76,470.396 2256.76,470.396 2232.76,470.396 2232.76,215.001 2256.76,215.001 2232.76,215.001 2232.76,47.2441 \"/>\n",
       "</svg>\n"
      ],
      "text/html": [
       "<?xml version=\"1.0\" encoding=\"utf-8\"?>\n",
       "<svg xmlns=\"http://www.w3.org/2000/svg\" xmlns:xlink=\"http://www.w3.org/1999/xlink\" width=\"600\" height=\"400\" viewBox=\"0 0 2400 1600\">\n",
       "<defs>\n",
       "  <clipPath id=\"clip780\">\n",
       "    <rect x=\"0\" y=\"0\" width=\"2400\" height=\"1600\"/>\n",
       "  </clipPath>\n",
       "</defs>\n",
       "<path clip-path=\"url(#clip780)\" d=\"M0 1600 L2400 1600 L2400 0 L0 0  Z\" fill=\"#ffffff\" fill-rule=\"evenodd\" fill-opacity=\"1\"/>\n",
       "<defs>\n",
       "  <clipPath id=\"clip781\">\n",
       "    <rect x=\"480\" y=\"0\" width=\"1681\" height=\"1600\"/>\n",
       "  </clipPath>\n",
       "</defs>\n",
       "<path clip-path=\"url(#clip780)\" d=\"M257.204 1423.18 L2112.76 1423.18 L2112.76 47.2441 L257.204 47.2441  Z\" fill=\"#ffffff\" fill-rule=\"evenodd\" fill-opacity=\"1\"/>\n",
       "<defs>\n",
       "  <clipPath id=\"clip782\">\n",
       "    <rect x=\"257\" y=\"47\" width=\"1857\" height=\"1377\"/>\n",
       "  </clipPath>\n",
       "</defs>\n",
       "<polyline clip-path=\"url(#clip782)\" style=\"stroke:#000000; stroke-linecap:round; stroke-linejoin:round; stroke-width:2; stroke-opacity:0.1; fill:none\" points=\"352.415,1423.18 352.415,47.2441 \"/>\n",
       "<polyline clip-path=\"url(#clip782)\" style=\"stroke:#000000; stroke-linecap:round; stroke-linejoin:round; stroke-width:2; stroke-opacity:0.1; fill:none\" points=\"779.372,1423.18 779.372,47.2441 \"/>\n",
       "<polyline clip-path=\"url(#clip782)\" style=\"stroke:#000000; stroke-linecap:round; stroke-linejoin:round; stroke-width:2; stroke-opacity:0.1; fill:none\" points=\"1206.33,1423.18 1206.33,47.2441 \"/>\n",
       "<polyline clip-path=\"url(#clip782)\" style=\"stroke:#000000; stroke-linecap:round; stroke-linejoin:round; stroke-width:2; stroke-opacity:0.1; fill:none\" points=\"1633.28,1423.18 1633.28,47.2441 \"/>\n",
       "<polyline clip-path=\"url(#clip782)\" style=\"stroke:#000000; stroke-linecap:round; stroke-linejoin:round; stroke-width:2; stroke-opacity:0.1; fill:none\" points=\"2060.24,1423.18 2060.24,47.2441 \"/>\n",
       "<polyline clip-path=\"url(#clip780)\" style=\"stroke:#000000; stroke-linecap:round; stroke-linejoin:round; stroke-width:4; stroke-opacity:1; fill:none\" points=\"257.204,1423.18 2112.76,1423.18 \"/>\n",
       "<polyline clip-path=\"url(#clip780)\" style=\"stroke:#000000; stroke-linecap:round; stroke-linejoin:round; stroke-width:4; stroke-opacity:1; fill:none\" points=\"352.415,1423.18 352.415,1404.28 \"/>\n",
       "<polyline clip-path=\"url(#clip780)\" style=\"stroke:#000000; stroke-linecap:round; stroke-linejoin:round; stroke-width:4; stroke-opacity:1; fill:none\" points=\"779.372,1423.18 779.372,1404.28 \"/>\n",
       "<polyline clip-path=\"url(#clip780)\" style=\"stroke:#000000; stroke-linecap:round; stroke-linejoin:round; stroke-width:4; stroke-opacity:1; fill:none\" points=\"1206.33,1423.18 1206.33,1404.28 \"/>\n",
       "<polyline clip-path=\"url(#clip780)\" style=\"stroke:#000000; stroke-linecap:round; stroke-linejoin:round; stroke-width:4; stroke-opacity:1; fill:none\" points=\"1633.28,1423.18 1633.28,1404.28 \"/>\n",
       "<polyline clip-path=\"url(#clip780)\" style=\"stroke:#000000; stroke-linecap:round; stroke-linejoin:round; stroke-width:4; stroke-opacity:1; fill:none\" points=\"2060.24,1423.18 2060.24,1404.28 \"/>\n",
       "<path clip-path=\"url(#clip780)\" d=\"M298.943 1468.75 L328.619 1468.75 L328.619 1472.69 L298.943 1472.69 L298.943 1468.75 Z\" fill=\"#000000\" fill-rule=\"nonzero\" fill-opacity=\"1\" /><path clip-path=\"url(#clip780)\" d=\"M339.522 1481.64 L347.161 1481.64 L347.161 1455.28 L338.851 1456.95 L338.851 1452.69 L347.114 1451.02 L351.79 1451.02 L351.79 1481.64 L359.429 1481.64 L359.429 1485.58 L339.522 1485.58 L339.522 1481.64 Z\" fill=\"#000000\" fill-rule=\"nonzero\" fill-opacity=\"1\" /><path clip-path=\"url(#clip780)\" d=\"M368.874 1479.7 L373.758 1479.7 L373.758 1485.58 L368.874 1485.58 L368.874 1479.7 Z\" fill=\"#000000\" fill-rule=\"nonzero\" fill-opacity=\"1\" /><path clip-path=\"url(#clip780)\" d=\"M393.943 1454.1 Q390.332 1454.1 388.503 1457.66 Q386.697 1461.2 386.697 1468.33 Q386.697 1475.44 388.503 1479.01 Q390.332 1482.55 393.943 1482.55 Q397.577 1482.55 399.383 1479.01 Q401.211 1475.44 401.211 1468.33 Q401.211 1461.2 399.383 1457.66 Q397.577 1454.1 393.943 1454.1 M393.943 1450.39 Q399.753 1450.39 402.809 1455 Q405.887 1459.58 405.887 1468.33 Q405.887 1477.06 402.809 1481.67 Q399.753 1486.25 393.943 1486.25 Q388.133 1486.25 385.054 1481.67 Q381.998 1477.06 381.998 1468.33 Q381.998 1459.58 385.054 1455 Q388.133 1450.39 393.943 1450.39 Z\" fill=\"#000000\" fill-rule=\"nonzero\" fill-opacity=\"1\" /><path clip-path=\"url(#clip780)\" d=\"M726.397 1468.75 L756.073 1468.75 L756.073 1472.69 L726.397 1472.69 L726.397 1468.75 Z\" fill=\"#000000\" fill-rule=\"nonzero\" fill-opacity=\"1\" /><path clip-path=\"url(#clip780)\" d=\"M776.166 1454.1 Q772.554 1454.1 770.726 1457.66 Q768.92 1461.2 768.92 1468.33 Q768.92 1475.44 770.726 1479.01 Q772.554 1482.55 776.166 1482.55 Q779.8 1482.55 781.605 1479.01 Q783.434 1475.44 783.434 1468.33 Q783.434 1461.2 781.605 1457.66 Q779.8 1454.1 776.166 1454.1 M776.166 1450.39 Q781.976 1450.39 785.031 1455 Q788.11 1459.58 788.11 1468.33 Q788.11 1477.06 785.031 1481.67 Q781.976 1486.25 776.166 1486.25 Q770.355 1486.25 767.277 1481.67 Q764.221 1477.06 764.221 1468.33 Q764.221 1459.58 767.277 1455 Q770.355 1450.39 776.166 1450.39 Z\" fill=\"#000000\" fill-rule=\"nonzero\" fill-opacity=\"1\" /><path clip-path=\"url(#clip780)\" d=\"M796.327 1479.7 L801.212 1479.7 L801.212 1485.58 L796.327 1485.58 L796.327 1479.7 Z\" fill=\"#000000\" fill-rule=\"nonzero\" fill-opacity=\"1\" /><path clip-path=\"url(#clip780)\" d=\"M811.443 1451.02 L829.799 1451.02 L829.799 1454.96 L815.725 1454.96 L815.725 1463.43 Q816.744 1463.08 817.763 1462.92 Q818.781 1462.73 819.8 1462.73 Q825.587 1462.73 828.966 1465.9 Q832.346 1469.08 832.346 1474.49 Q832.346 1480.07 828.874 1483.17 Q825.401 1486.25 819.082 1486.25 Q816.906 1486.25 814.638 1485.88 Q812.392 1485.51 809.985 1484.77 L809.985 1480.07 Q812.068 1481.2 814.29 1481.76 Q816.513 1482.32 818.989 1482.32 Q822.994 1482.32 825.332 1480.21 Q827.67 1478.1 827.67 1474.49 Q827.67 1470.88 825.332 1468.77 Q822.994 1466.67 818.989 1466.67 Q817.114 1466.67 815.239 1467.08 Q813.388 1467.5 811.443 1468.38 L811.443 1451.02 Z\" fill=\"#000000\" fill-rule=\"nonzero\" fill-opacity=\"1\" /><path clip-path=\"url(#clip780)\" d=\"M1183.71 1454.1 Q1180.1 1454.1 1178.27 1457.66 Q1176.47 1461.2 1176.47 1468.33 Q1176.47 1475.44 1178.27 1479.01 Q1180.1 1482.55 1183.71 1482.55 Q1187.35 1482.55 1189.15 1479.01 Q1190.98 1475.44 1190.98 1468.33 Q1190.98 1461.2 1189.15 1457.66 Q1187.35 1454.1 1183.71 1454.1 M1183.71 1450.39 Q1189.52 1450.39 1192.58 1455 Q1195.66 1459.58 1195.66 1468.33 Q1195.66 1477.06 1192.58 1481.67 Q1189.52 1486.25 1183.71 1486.25 Q1177.9 1486.25 1174.82 1481.67 Q1171.77 1477.06 1171.77 1468.33 Q1171.77 1459.58 1174.82 1455 Q1177.9 1450.39 1183.71 1450.39 Z\" fill=\"#000000\" fill-rule=\"nonzero\" fill-opacity=\"1\" /><path clip-path=\"url(#clip780)\" d=\"M1203.87 1479.7 L1208.76 1479.7 L1208.76 1485.58 L1203.87 1485.58 L1203.87 1479.7 Z\" fill=\"#000000\" fill-rule=\"nonzero\" fill-opacity=\"1\" /><path clip-path=\"url(#clip780)\" d=\"M1228.94 1454.1 Q1225.33 1454.1 1223.5 1457.66 Q1221.7 1461.2 1221.7 1468.33 Q1221.7 1475.44 1223.5 1479.01 Q1225.33 1482.55 1228.94 1482.55 Q1232.58 1482.55 1234.38 1479.01 Q1236.21 1475.44 1236.21 1468.33 Q1236.21 1461.2 1234.38 1457.66 Q1232.58 1454.1 1228.94 1454.1 M1228.94 1450.39 Q1234.75 1450.39 1237.81 1455 Q1240.89 1459.58 1240.89 1468.33 Q1240.89 1477.06 1237.81 1481.67 Q1234.75 1486.25 1228.94 1486.25 Q1223.13 1486.25 1220.05 1481.67 Q1217 1477.06 1217 1468.33 Q1217 1459.58 1220.05 1455 Q1223.13 1450.39 1228.94 1450.39 Z\" fill=\"#000000\" fill-rule=\"nonzero\" fill-opacity=\"1\" /><path clip-path=\"url(#clip780)\" d=\"M1611.17 1454.1 Q1607.56 1454.1 1605.73 1457.66 Q1603.92 1461.2 1603.92 1468.33 Q1603.92 1475.44 1605.73 1479.01 Q1607.56 1482.55 1611.17 1482.55 Q1614.8 1482.55 1616.61 1479.01 Q1618.43 1475.44 1618.43 1468.33 Q1618.43 1461.2 1616.61 1457.66 Q1614.8 1454.1 1611.17 1454.1 M1611.17 1450.39 Q1616.98 1450.39 1620.03 1455 Q1623.11 1459.58 1623.11 1468.33 Q1623.11 1477.06 1620.03 1481.67 Q1616.98 1486.25 1611.17 1486.25 Q1605.36 1486.25 1602.28 1481.67 Q1599.22 1477.06 1599.22 1468.33 Q1599.22 1459.58 1602.28 1455 Q1605.36 1450.39 1611.17 1450.39 Z\" fill=\"#000000\" fill-rule=\"nonzero\" fill-opacity=\"1\" /><path clip-path=\"url(#clip780)\" d=\"M1631.33 1479.7 L1636.21 1479.7 L1636.21 1485.58 L1631.33 1485.58 L1631.33 1479.7 Z\" fill=\"#000000\" fill-rule=\"nonzero\" fill-opacity=\"1\" /><path clip-path=\"url(#clip780)\" d=\"M1646.44 1451.02 L1664.8 1451.02 L1664.8 1454.96 L1650.73 1454.96 L1650.73 1463.43 Q1651.74 1463.08 1652.76 1462.92 Q1653.78 1462.73 1654.8 1462.73 Q1660.59 1462.73 1663.97 1465.9 Q1667.35 1469.08 1667.35 1474.49 Q1667.35 1480.07 1663.87 1483.17 Q1660.4 1486.25 1654.08 1486.25 Q1651.91 1486.25 1649.64 1485.88 Q1647.39 1485.51 1644.99 1484.77 L1644.99 1480.07 Q1647.07 1481.2 1649.29 1481.76 Q1651.51 1482.32 1653.99 1482.32 Q1657.99 1482.32 1660.33 1480.21 Q1662.67 1478.1 1662.67 1474.49 Q1662.67 1470.88 1660.33 1468.77 Q1657.99 1466.67 1653.99 1466.67 Q1652.11 1466.67 1650.24 1467.08 Q1648.39 1467.5 1646.44 1468.38 L1646.44 1451.02 Z\" fill=\"#000000\" fill-rule=\"nonzero\" fill-opacity=\"1\" /><path clip-path=\"url(#clip780)\" d=\"M2027.39 1481.64 L2035.03 1481.64 L2035.03 1455.28 L2026.72 1456.95 L2026.72 1452.69 L2034.99 1451.02 L2039.66 1451.02 L2039.66 1481.64 L2047.3 1481.64 L2047.3 1485.58 L2027.39 1485.58 L2027.39 1481.64 Z\" fill=\"#000000\" fill-rule=\"nonzero\" fill-opacity=\"1\" /><path clip-path=\"url(#clip780)\" d=\"M2056.74 1479.7 L2061.63 1479.7 L2061.63 1485.58 L2056.74 1485.58 L2056.74 1479.7 Z\" fill=\"#000000\" fill-rule=\"nonzero\" fill-opacity=\"1\" /><path clip-path=\"url(#clip780)\" d=\"M2081.81 1454.1 Q2078.2 1454.1 2076.37 1457.66 Q2074.57 1461.2 2074.57 1468.33 Q2074.57 1475.44 2076.37 1479.01 Q2078.2 1482.55 2081.81 1482.55 Q2085.45 1482.55 2087.25 1479.01 Q2089.08 1475.44 2089.08 1468.33 Q2089.08 1461.2 2087.25 1457.66 Q2085.45 1454.1 2081.81 1454.1 M2081.81 1450.39 Q2087.62 1450.39 2090.68 1455 Q2093.76 1459.58 2093.76 1468.33 Q2093.76 1477.06 2090.68 1481.67 Q2087.62 1486.25 2081.81 1486.25 Q2076 1486.25 2072.93 1481.67 Q2069.87 1477.06 2069.87 1468.33 Q2069.87 1459.58 2072.93 1455 Q2076 1450.39 2081.81 1450.39 Z\" fill=\"#000000\" fill-rule=\"nonzero\" fill-opacity=\"1\" /><path clip-path=\"url(#clip780)\" d=\"M1201.59 1532.4 L1188.7 1549.74 L1202.26 1568.04 L1195.36 1568.04 L1184.98 1554.04 L1174.6 1568.04 L1167.7 1568.04 L1181.54 1549.39 L1168.87 1532.4 L1175.78 1532.4 L1185.23 1545.1 L1194.69 1532.4 L1201.59 1532.4 Z\" fill=\"#000000\" fill-rule=\"nonzero\" fill-opacity=\"1\" /><polyline clip-path=\"url(#clip782)\" style=\"stroke:#000000; stroke-linecap:round; stroke-linejoin:round; stroke-width:2; stroke-opacity:0.1; fill:none\" points=\"257.204,1352.58 2112.76,1352.58 \"/>\n",
       "<polyline clip-path=\"url(#clip782)\" style=\"stroke:#000000; stroke-linecap:round; stroke-linejoin:round; stroke-width:2; stroke-opacity:0.1; fill:none\" points=\"257.204,1035.98 2112.76,1035.98 \"/>\n",
       "<polyline clip-path=\"url(#clip782)\" style=\"stroke:#000000; stroke-linecap:round; stroke-linejoin:round; stroke-width:2; stroke-opacity:0.1; fill:none\" points=\"257.204,719.382 2112.76,719.382 \"/>\n",
       "<polyline clip-path=\"url(#clip782)\" style=\"stroke:#000000; stroke-linecap:round; stroke-linejoin:round; stroke-width:2; stroke-opacity:0.1; fill:none\" points=\"257.204,402.784 2112.76,402.784 \"/>\n",
       "<polyline clip-path=\"url(#clip782)\" style=\"stroke:#000000; stroke-linecap:round; stroke-linejoin:round; stroke-width:2; stroke-opacity:0.1; fill:none\" points=\"257.204,86.1857 2112.76,86.1857 \"/>\n",
       "<polyline clip-path=\"url(#clip780)\" style=\"stroke:#000000; stroke-linecap:round; stroke-linejoin:round; stroke-width:4; stroke-opacity:1; fill:none\" points=\"257.204,1423.18 257.204,47.2441 \"/>\n",
       "<polyline clip-path=\"url(#clip780)\" style=\"stroke:#000000; stroke-linecap:round; stroke-linejoin:round; stroke-width:4; stroke-opacity:1; fill:none\" points=\"257.204,1352.58 273.937,1352.58 \"/>\n",
       "<polyline clip-path=\"url(#clip780)\" style=\"stroke:#000000; stroke-linecap:round; stroke-linejoin:round; stroke-width:4; stroke-opacity:1; fill:none\" points=\"257.204,1035.98 273.937,1035.98 \"/>\n",
       "<polyline clip-path=\"url(#clip780)\" style=\"stroke:#000000; stroke-linecap:round; stroke-linejoin:round; stroke-width:4; stroke-opacity:1; fill:none\" points=\"257.204,719.382 273.937,719.382 \"/>\n",
       "<polyline clip-path=\"url(#clip780)\" style=\"stroke:#000000; stroke-linecap:round; stroke-linejoin:round; stroke-width:4; stroke-opacity:1; fill:none\" points=\"257.204,402.784 273.937,402.784 \"/>\n",
       "<polyline clip-path=\"url(#clip780)\" style=\"stroke:#000000; stroke-linecap:round; stroke-linejoin:round; stroke-width:4; stroke-opacity:1; fill:none\" points=\"257.204,86.1857 273.937,86.1857 \"/>\n",
       "<path clip-path=\"url(#clip780)\" d=\"M114.26 1353.03 L143.936 1353.03 L143.936 1356.96 L114.26 1356.96 L114.26 1353.03 Z\" fill=\"#000000\" fill-rule=\"nonzero\" fill-opacity=\"1\" /><path clip-path=\"url(#clip780)\" d=\"M154.839 1365.92 L162.477 1365.92 L162.477 1339.56 L154.167 1341.22 L154.167 1336.97 L162.431 1335.3 L167.107 1335.3 L167.107 1365.92 L174.746 1365.92 L174.746 1369.86 L154.839 1369.86 L154.839 1365.92 Z\" fill=\"#000000\" fill-rule=\"nonzero\" fill-opacity=\"1\" /><path clip-path=\"url(#clip780)\" d=\"M184.19 1363.98 L189.075 1363.98 L189.075 1369.86 L184.19 1369.86 L184.19 1363.98 Z\" fill=\"#000000\" fill-rule=\"nonzero\" fill-opacity=\"1\" /><path clip-path=\"url(#clip780)\" d=\"M209.26 1338.38 Q205.649 1338.38 203.82 1341.94 Q202.014 1345.48 202.014 1352.61 Q202.014 1359.72 203.82 1363.28 Q205.649 1366.83 209.26 1366.83 Q212.894 1366.83 214.699 1363.28 Q216.528 1359.72 216.528 1352.61 Q216.528 1345.48 214.699 1341.94 Q212.894 1338.38 209.26 1338.38 M209.26 1334.67 Q215.07 1334.67 218.125 1339.28 Q221.204 1343.86 221.204 1352.61 Q221.204 1361.34 218.125 1365.95 Q215.07 1370.53 209.26 1370.53 Q203.449 1370.53 200.371 1365.95 Q197.315 1361.34 197.315 1352.61 Q197.315 1343.86 200.371 1339.28 Q203.449 1334.67 209.26 1334.67 Z\" fill=\"#000000\" fill-rule=\"nonzero\" fill-opacity=\"1\" /><path clip-path=\"url(#clip780)\" d=\"M115.256 1036.43 L144.931 1036.43 L144.931 1040.37 L115.256 1040.37 L115.256 1036.43 Z\" fill=\"#000000\" fill-rule=\"nonzero\" fill-opacity=\"1\" /><path clip-path=\"url(#clip780)\" d=\"M165.024 1021.78 Q161.413 1021.78 159.584 1025.34 Q157.778 1028.89 157.778 1036.01 Q157.778 1043.12 159.584 1046.69 Q161.413 1050.23 165.024 1050.23 Q168.658 1050.23 170.464 1046.69 Q172.292 1043.12 172.292 1036.01 Q172.292 1028.89 170.464 1025.34 Q168.658 1021.78 165.024 1021.78 M165.024 1018.08 Q170.834 1018.08 173.889 1022.68 Q176.968 1027.27 176.968 1036.01 Q176.968 1044.74 173.889 1049.35 Q170.834 1053.93 165.024 1053.93 Q159.214 1053.93 156.135 1049.35 Q153.079 1044.74 153.079 1036.01 Q153.079 1027.27 156.135 1022.68 Q159.214 1018.08 165.024 1018.08 Z\" fill=\"#000000\" fill-rule=\"nonzero\" fill-opacity=\"1\" /><path clip-path=\"url(#clip780)\" d=\"M185.186 1047.38 L190.07 1047.38 L190.07 1053.26 L185.186 1053.26 L185.186 1047.38 Z\" fill=\"#000000\" fill-rule=\"nonzero\" fill-opacity=\"1\" /><path clip-path=\"url(#clip780)\" d=\"M200.301 1018.7 L218.658 1018.7 L218.658 1022.64 L204.584 1022.64 L204.584 1031.11 Q205.602 1030.76 206.621 1030.6 Q207.639 1030.41 208.658 1030.41 Q214.445 1030.41 217.824 1033.58 Q221.204 1036.76 221.204 1042.17 Q221.204 1047.75 217.732 1050.85 Q214.26 1053.93 207.94 1053.93 Q205.764 1053.93 203.496 1053.56 Q201.25 1053.19 198.843 1052.45 L198.843 1047.75 Q200.926 1048.89 203.149 1049.44 Q205.371 1050 207.848 1050 Q211.852 1050 214.19 1047.89 Q216.528 1045.78 216.528 1042.17 Q216.528 1038.56 214.19 1036.45 Q211.852 1034.35 207.848 1034.35 Q205.973 1034.35 204.098 1034.76 Q202.246 1035.18 200.301 1036.06 L200.301 1018.7 Z\" fill=\"#000000\" fill-rule=\"nonzero\" fill-opacity=\"1\" /><path clip-path=\"url(#clip780)\" d=\"M164.028 705.181 Q160.417 705.181 158.589 708.746 Q156.783 712.287 156.783 719.417 Q156.783 726.523 158.589 730.088 Q160.417 733.63 164.028 733.63 Q167.663 733.63 169.468 730.088 Q171.297 726.523 171.297 719.417 Q171.297 712.287 169.468 708.746 Q167.663 705.181 164.028 705.181 M164.028 701.477 Q169.839 701.477 172.894 706.084 Q175.973 710.667 175.973 719.417 Q175.973 728.144 172.894 732.75 Q169.839 737.333 164.028 737.333 Q158.218 737.333 155.14 732.75 Q152.084 728.144 152.084 719.417 Q152.084 710.667 155.14 706.084 Q158.218 701.477 164.028 701.477 Z\" fill=\"#000000\" fill-rule=\"nonzero\" fill-opacity=\"1\" /><path clip-path=\"url(#clip780)\" d=\"M184.19 730.782 L189.075 730.782 L189.075 736.662 L184.19 736.662 L184.19 730.782 Z\" fill=\"#000000\" fill-rule=\"nonzero\" fill-opacity=\"1\" /><path clip-path=\"url(#clip780)\" d=\"M209.26 705.181 Q205.649 705.181 203.82 708.746 Q202.014 712.287 202.014 719.417 Q202.014 726.523 203.82 730.088 Q205.649 733.63 209.26 733.63 Q212.894 733.63 214.699 730.088 Q216.528 726.523 216.528 719.417 Q216.528 712.287 214.699 708.746 Q212.894 705.181 209.26 705.181 M209.26 701.477 Q215.07 701.477 218.125 706.084 Q221.204 710.667 221.204 719.417 Q221.204 728.144 218.125 732.75 Q215.07 737.333 209.26 737.333 Q203.449 737.333 200.371 732.75 Q197.315 728.144 197.315 719.417 Q197.315 710.667 200.371 706.084 Q203.449 701.477 209.26 701.477 Z\" fill=\"#000000\" fill-rule=\"nonzero\" fill-opacity=\"1\" /><path clip-path=\"url(#clip780)\" d=\"M165.024 388.583 Q161.413 388.583 159.584 392.147 Q157.778 395.689 157.778 402.819 Q157.778 409.925 159.584 413.49 Q161.413 417.031 165.024 417.031 Q168.658 417.031 170.464 413.49 Q172.292 409.925 172.292 402.819 Q172.292 395.689 170.464 392.147 Q168.658 388.583 165.024 388.583 M165.024 384.879 Q170.834 384.879 173.889 389.485 Q176.968 394.069 176.968 402.819 Q176.968 411.545 173.889 416.152 Q170.834 420.735 165.024 420.735 Q159.214 420.735 156.135 416.152 Q153.079 411.545 153.079 402.819 Q153.079 394.069 156.135 389.485 Q159.214 384.879 165.024 384.879 Z\" fill=\"#000000\" fill-rule=\"nonzero\" fill-opacity=\"1\" /><path clip-path=\"url(#clip780)\" d=\"M185.186 414.184 L190.07 414.184 L190.07 420.064 L185.186 420.064 L185.186 414.184 Z\" fill=\"#000000\" fill-rule=\"nonzero\" fill-opacity=\"1\" /><path clip-path=\"url(#clip780)\" d=\"M200.301 385.504 L218.658 385.504 L218.658 389.439 L204.584 389.439 L204.584 397.911 Q205.602 397.564 206.621 397.402 Q207.639 397.217 208.658 397.217 Q214.445 397.217 217.824 400.388 Q221.204 403.559 221.204 408.976 Q221.204 414.555 217.732 417.656 Q214.26 420.735 207.94 420.735 Q205.764 420.735 203.496 420.365 Q201.25 419.994 198.843 419.254 L198.843 414.555 Q200.926 415.689 203.149 416.244 Q205.371 416.8 207.848 416.8 Q211.852 416.8 214.19 414.694 Q216.528 412.587 216.528 408.976 Q216.528 405.365 214.19 403.258 Q211.852 401.152 207.848 401.152 Q205.973 401.152 204.098 401.569 Q202.246 401.985 200.301 402.865 L200.301 385.504 Z\" fill=\"#000000\" fill-rule=\"nonzero\" fill-opacity=\"1\" /><path clip-path=\"url(#clip780)\" d=\"M154.839 99.5305 L162.477 99.5305 L162.477 73.1649 L154.167 74.8316 L154.167 70.5723 L162.431 68.9057 L167.107 68.9057 L167.107 99.5305 L174.746 99.5305 L174.746 103.466 L154.839 103.466 L154.839 99.5305 Z\" fill=\"#000000\" fill-rule=\"nonzero\" fill-opacity=\"1\" /><path clip-path=\"url(#clip780)\" d=\"M184.19 97.5861 L189.075 97.5861 L189.075 103.466 L184.19 103.466 L184.19 97.5861 Z\" fill=\"#000000\" fill-rule=\"nonzero\" fill-opacity=\"1\" /><path clip-path=\"url(#clip780)\" d=\"M209.26 71.9844 Q205.649 71.9844 203.82 75.5492 Q202.014 79.0908 202.014 86.2204 Q202.014 93.3268 203.82 96.8916 Q205.649 100.433 209.26 100.433 Q212.894 100.433 214.699 96.8916 Q216.528 93.3268 216.528 86.2204 Q216.528 79.0908 214.699 75.5492 Q212.894 71.9844 209.26 71.9844 M209.26 68.2807 Q215.07 68.2807 218.125 72.8871 Q221.204 77.4704 221.204 86.2204 Q221.204 94.9472 218.125 99.5537 Q215.07 104.137 209.26 104.137 Q203.449 104.137 200.371 99.5537 Q197.315 94.9472 197.315 86.2204 Q197.315 77.4704 200.371 72.8871 Q203.449 68.2807 209.26 68.2807 Z\" fill=\"#000000\" fill-rule=\"nonzero\" fill-opacity=\"1\" /><path clip-path=\"url(#clip780)\" d=\"M67.3143 733.525 Q73.68 736.008 75.6216 738.363 Q77.5631 740.718 77.5631 744.665 L77.5631 749.344 L72.6615 749.344 L72.6615 745.906 Q72.6615 743.487 71.5157 742.151 Q70.3699 740.814 66.1048 739.191 L63.4312 738.14 L28.3562 752.559 L28.3562 746.352 L56.238 735.212 L28.3562 724.072 L28.3562 717.865 L67.3143 733.525 Z\" fill=\"#000000\" fill-rule=\"nonzero\" fill-opacity=\"1\" /><path clip-path=\"url(#clip782)\" d=\"M309.72 1384.24 L309.72 1384.24 L395.111 1384.24 L480.502 1384.24 L565.893 1384.24 L651.285 1384.24 L736.676 1384.24 L822.067 1384.24 L907.458 1384.24 L992.85 1384.24 L1078.24 1384.24 L1163.63 1384.24 L1249.02 1384.24 L1334.41 1384.24 L1419.81 1384.24 L1505.2 1384.24 L1590.59 1384.24 L1675.98 1384.24 L1761.37 1384.24 L1846.76 1384.24 L1932.15 1384.24 L2017.54 1384.24 L2017.54 1384.24 L2017.54 1384.24 L2017.54 1384.24 L2017.54 1320.92 L2017.54 1257.6 L2017.54 1194.28 L2017.54 1130.96 L2017.54 1067.64 L2017.54 1004.32 L2017.54 941.001 L2017.54 877.681 L2017.54 814.362 L2017.54 751.042 L2017.54 687.722 L2017.54 624.403 L2017.54 561.083 L2017.54 497.763 L2017.54 434.444 L2017.54 371.124 L2017.54 307.804 L2017.54 244.485 L2017.54 181.165 L2017.54 117.845 L2017.54 117.845 L2017.54 117.845 L2017.54 117.845 L1932.15 117.845 L1846.76 117.845 L1761.37 117.845 L1675.98 117.845 L1590.59 117.845 L1505.2 117.845 L1419.81 117.845 L1334.41 117.845 L1249.02 117.845 L1163.63 117.845 L1078.24 117.845 L992.85 117.845 L907.458 117.845 L822.067 117.845 L736.676 117.845 L651.285 117.845 L565.893 117.845 L480.502 117.845 L395.111 117.845 L309.72 117.845 L309.72 117.845 L309.72 117.845 L309.72 117.845 L309.72 181.165 L309.72 244.485 L309.72 307.804 L309.72 371.124 L309.72 434.444 L309.72 497.763 L309.72 561.083 L309.72 624.403 L309.72 687.722 L309.72 751.042 L309.72 814.362 L309.72 877.681 L309.72 941.001 L309.72 1004.32 L309.72 1067.64 L309.72 1130.96 L309.72 1194.28 L309.72 1257.6 L309.72 1320.92 L309.72 1384.24 L309.72 1384.24 L309.72 1384.24  Z\" fill=\"#000003\" fill-rule=\"evenodd\" fill-opacity=\"1\"/>\n",
       "<path clip-path=\"url(#clip782)\" d=\"M1163.63 1136.78 L1249.02 1136.78 L1294.82 1130.96 L1334.41 1126.95 L1419.81 1108.06 L1505.2 1074.24 L1517.8 1067.64 L1590.59 1025.97 L1619.78 1004.32 L1675.98 950.344 L1684.88 941.001 L1730.49 877.681 L1755.96 814.362 L1761.37 785.004 L1769.22 751.042 L1769.22 687.722 L1761.37 653.76 L1755.96 624.403 L1730.49 561.083 L1684.88 497.763 L1675.98 488.42 L1619.78 434.444 L1590.59 412.796 L1517.8 371.124 L1505.2 364.522 L1419.81 330.705 L1334.41 311.818 L1294.82 307.804 L1249.02 301.987 L1163.63 301.987 L1117.83 307.804 L1078.24 311.818 L992.85 330.705 L907.458 364.522 L894.858 371.124 L822.067 412.796 L792.874 434.444 L736.676 488.42 L727.772 497.763 L682.168 561.083 L656.697 624.403 L651.285 653.76 L643.439 687.722 L643.439 751.042 L651.285 785.004 L656.697 814.362 L682.168 877.681 L727.772 941.001 L736.676 950.344 L792.874 1004.32 L822.067 1025.97 L894.858 1067.64 L907.458 1074.24 L992.85 1108.06 L1078.24 1126.95 L1117.83 1130.96 L1163.63 1136.78  Z\" fill=\"#0b0726\" fill-rule=\"evenodd\" fill-opacity=\"1\"/>\n",
       "<path clip-path=\"url(#clip782)\" d=\"M1078.24 973.9 L1163.63 989.16 L1249.02 989.16 L1334.41 973.9 L1410.71 941.001 L1419.81 936.968 L1499.76 877.681 L1505.2 870.939 L1549.56 814.362 L1570.14 751.042 L1570.14 687.722 L1549.56 624.403 L1505.2 567.825 L1499.76 561.083 L1419.81 501.797 L1410.71 497.763 L1334.41 464.865 L1249.02 449.604 L1163.63 449.604 L1078.24 464.865 L1001.94 497.763 L992.85 501.797 L912.898 561.083 L907.458 567.825 L863.092 624.403 L842.512 687.722 L842.512 751.042 L863.092 814.362 L907.458 870.939 L912.898 877.681 L992.85 936.968 L1001.94 941.001 L1078.24 973.9  Z\" fill=\"#240b4e\" fill-rule=\"evenodd\" fill-opacity=\"1\"/>\n",
       "<path clip-path=\"url(#clip782)\" d=\"M1078.24 895.89 L1163.63 919.561 L1249.02 919.561 L1334.41 895.89 L1367.23 877.681 L1419.81 838.693 L1444.36 814.362 L1476.28 751.042 L1476.28 687.722 L1444.36 624.403 L1419.81 600.071 L1367.23 561.083 L1334.41 542.875 L1249.02 519.203 L1163.63 519.203 L1078.24 542.875 L1045.43 561.083 L992.85 600.071 L968.294 624.403 L936.372 687.722 L936.372 751.042 L968.294 814.362 L992.85 838.693 L1045.43 877.681 L1078.24 895.89  Z\" fill=\"#410967\" fill-rule=\"evenodd\" fill-opacity=\"1\"/>\n",
       "<path clip-path=\"url(#clip782)\" d=\"M1078.24 847.57 L1163.63 874.563 L1249.02 874.563 L1334.41 847.57 L1379.2 814.362 L1415.6 751.042 L1415.6 687.722 L1379.2 624.403 L1334.41 591.194 L1249.02 564.201 L1163.63 564.201 L1078.24 591.194 L1033.46 624.403 L997.054 687.722 L997.054 751.042 L1033.46 814.362 L1078.24 847.57  Z\" fill=\"#5d126e\" fill-rule=\"evenodd\" fill-opacity=\"1\"/>\n",
       "<path clip-path=\"url(#clip782)\" d=\"M1163.63 852.375 L1249.02 852.375 L1325.49 814.362 L1334.41 807.742 L1385.68 751.042 L1385.68 687.722 L1334.41 631.022 L1325.49 624.403 L1249.02 586.389 L1163.63 586.389 L1087.17 624.403 L1078.24 631.022 L1026.98 687.722 L1026.98 751.042 L1078.24 807.742 L1087.17 814.362 L1163.63 852.375  Z\" fill=\"#781c6d\" fill-rule=\"evenodd\" fill-opacity=\"1\"/>\n",
       "<path clip-path=\"url(#clip782)\" d=\"M1163.63 830.186 L1249.02 830.186 L1280.86 814.362 L1334.41 774.646 L1355.76 751.042 L1355.76 687.722 L1334.41 664.118 L1280.86 624.403 L1249.02 608.578 L1163.63 608.578 L1131.8 624.403 L1078.24 664.118 L1056.9 687.722 L1056.9 751.042 L1078.24 774.646 L1131.8 814.362 L1163.63 830.186  Z\" fill=\"#932567\" fill-rule=\"evenodd\" fill-opacity=\"1\"/>\n",
       "<path clip-path=\"url(#clip782)\" d=\"M1163.63 812.406 L1249.02 812.406 L1331.78 751.042 L1331.78 687.722 L1249.02 626.358 L1163.63 626.358 L1080.88 687.722 L1080.88 751.042 L1163.63 812.406  Z\" fill=\"#ae305b\" fill-rule=\"evenodd\" fill-opacity=\"1\"/>\n",
       "<path clip-path=\"url(#clip782)\" d=\"M1163.63 805.588 L1249.02 805.588 L1322.58 751.042 L1322.58 687.722 L1249.02 633.176 L1163.63 633.176 L1090.07 687.722 L1090.07 751.042 L1163.63 805.588  Z\" fill=\"#c73e4c\" fill-rule=\"evenodd\" fill-opacity=\"1\"/>\n",
       "<path clip-path=\"url(#clip782)\" d=\"M1163.63 798.77 L1249.02 798.77 L1313.39 751.042 L1313.39 687.722 L1249.02 639.995 L1163.63 639.995 L1099.27 687.722 L1099.27 751.042 L1163.63 798.77  Z\" fill=\"#dc5039\" fill-rule=\"evenodd\" fill-opacity=\"1\"/>\n",
       "<path clip-path=\"url(#clip782)\" d=\"M1163.63 791.951 L1249.02 791.951 L1304.19 751.042 L1304.19 687.722 L1249.02 646.813 L1163.63 646.813 L1108.46 687.722 L1108.46 751.042 L1163.63 791.951  Z\" fill=\"#ed6825\" fill-rule=\"evenodd\" fill-opacity=\"1\"/>\n",
       "<path clip-path=\"url(#clip782)\" d=\"M1163.63 785.133 L1249.02 785.133 L1295 751.042 L1295 687.722 L1249.02 653.631 L1163.63 653.631 L1117.66 687.722 L1117.66 751.042 L1163.63 785.133  Z\" fill=\"#f7850e\" fill-rule=\"evenodd\" fill-opacity=\"1\"/>\n",
       "<path clip-path=\"url(#clip782)\" d=\"M1163.63 778.315 L1249.02 778.315 L1285.8 751.042 L1285.8 687.722 L1249.02 660.449 L1163.63 660.449 L1126.85 687.722 L1126.85 751.042 L1163.63 778.315  Z\" fill=\"#fba40a\" fill-rule=\"evenodd\" fill-opacity=\"1\"/>\n",
       "<path clip-path=\"url(#clip782)\" d=\"M1163.63 771.497 L1249.02 771.497 L1276.61 751.042 L1276.61 687.722 L1249.02 667.268 L1163.63 667.268 L1136.05 687.722 L1136.05 751.042 L1163.63 771.497  Z\" fill=\"#f9c52c\" fill-rule=\"evenodd\" fill-opacity=\"1\"/>\n",
       "<path clip-path=\"url(#clip782)\" d=\"M1163.63 764.678 L1249.02 764.678 L1267.41 751.042 L1267.41 687.722 L1249.02 674.086 L1163.63 674.086 L1145.24 687.722 L1145.24 751.042 L1163.63 764.678  Z\" fill=\"#f2e660\" fill-rule=\"evenodd\" fill-opacity=\"1\"/>\n",
       "<path clip-path=\"url(#clip782)\" d=\"M1163.63 757.86 L1249.02 757.86 L1258.22 751.042 L1258.22 687.722 L1249.02 680.904 L1163.63 680.904 L1154.44 687.722 L1154.44 751.042 L1163.63 757.86  Z\" fill=\"#fcfea4\" fill-rule=\"evenodd\" fill-opacity=\"1\"/>\n",
       "<polyline clip-path=\"url(#clip782)\" style=\"stroke:#000003; stroke-linecap:round; stroke-linejoin:round; stroke-width:4; stroke-opacity:1; fill:none\" points=\"309.72,1384.24 309.72,1384.24 395.111,1384.24 480.502,1384.24 565.893,1384.24 651.285,1384.24 736.676,1384.24 822.067,1384.24 907.458,1384.24 992.85,1384.24 1078.24,1384.24 1163.63,1384.24 1249.02,1384.24 1334.41,1384.24 1419.81,1384.24 1505.2,1384.24 1590.59,1384.24 1675.98,1384.24 1761.37,1384.24 1846.76,1384.24 1932.15,1384.24 2017.54,1384.24 2017.54,1320.92 2017.54,1257.6 2017.54,1194.28 2017.54,1130.96 2017.54,1067.64 2017.54,1004.32 2017.54,941.001 2017.54,877.681 2017.54,814.362 2017.54,751.042 2017.54,687.722 2017.54,624.403 2017.54,561.083 2017.54,497.763 2017.54,434.444 2017.54,371.124 2017.54,307.804 2017.54,244.485 2017.54,181.165 2017.54,117.845 1932.15,117.845 1846.76,117.845 1761.37,117.845 1675.98,117.845 1590.59,117.845 1505.2,117.845 1419.81,117.845 1334.41,117.845 1249.02,117.845 1163.63,117.845 1078.24,117.845 992.85,117.845 907.458,117.845 822.067,117.845 736.676,117.845 651.285,117.845 565.893,117.845 480.502,117.845 395.111,117.845 309.72,117.845 309.72,181.165 309.72,244.485 309.72,307.804 309.72,371.124 309.72,434.444 309.72,497.763 309.72,561.083 309.72,624.403 309.72,687.722 309.72,751.042 309.72,814.362 309.72,877.681 309.72,941.001 309.72,1004.32 309.72,1067.64 309.72,1130.96 309.72,1194.28 309.72,1257.6 309.72,1320.92 309.72,1384.24 \"/>\n",
       "<polyline clip-path=\"url(#clip782)\" style=\"stroke:#000003; stroke-linecap:round; stroke-linejoin:round; stroke-width:4; stroke-opacity:1; fill:none\" points=\"1163.63,1136.78 1249.02,1136.78 1294.82,1130.96 1334.41,1126.95 1419.81,1108.06 1505.2,1074.24 1517.8,1067.64 1590.59,1025.97 1619.78,1004.32 1675.98,950.344 1684.88,941.001 1730.49,877.681 1755.96,814.362 1761.37,785.004 1769.22,751.042 1769.22,687.722 1761.37,653.76 1755.96,624.403 1730.49,561.083 1684.88,497.763 1675.98,488.42 1619.78,434.444 1590.59,412.796 1517.8,371.124 1505.2,364.522 1419.81,330.705 1334.41,311.818 1294.82,307.804 1249.02,301.987 1163.63,301.987 1117.83,307.804 1078.24,311.818 992.85,330.705 907.458,364.522 894.858,371.124 822.067,412.796 792.874,434.444 736.676,488.42 727.772,497.763 682.168,561.083 656.697,624.403 651.285,653.76 643.439,687.722 643.439,751.042 651.285,785.004 656.697,814.362 682.168,877.681 727.772,941.001 736.676,950.344 792.874,1004.32 822.067,1025.97 894.858,1067.64 907.458,1074.24 992.85,1108.06 1078.24,1126.95 1117.83,1130.96 1163.63,1136.78 \"/>\n",
       "<polyline clip-path=\"url(#clip782)\" style=\"stroke:#000003; stroke-linecap:round; stroke-linejoin:round; stroke-width:4; stroke-opacity:1; fill:none\" points=\"1078.24,973.9 1163.63,989.16 1249.02,989.16 1334.41,973.9 1410.71,941.001 1419.81,936.968 1499.76,877.681 1505.2,870.939 1549.56,814.362 1570.14,751.042 1570.14,687.722 1549.56,624.403 1505.2,567.825 1499.76,561.083 1419.81,501.797 1410.71,497.763 1334.41,464.865 1249.02,449.604 1163.63,449.604 1078.24,464.865 1001.94,497.763 992.85,501.797 912.898,561.083 907.458,567.825 863.092,624.403 842.512,687.722 842.512,751.042 863.092,814.362 907.458,870.939 912.898,877.681 992.85,936.968 1001.94,941.001 1078.24,973.9 \"/>\n",
       "<polyline clip-path=\"url(#clip782)\" style=\"stroke:#000003; stroke-linecap:round; stroke-linejoin:round; stroke-width:4; stroke-opacity:1; fill:none\" points=\"1078.24,895.89 1163.63,919.561 1249.02,919.561 1334.41,895.89 1367.23,877.681 1419.81,838.693 1444.36,814.362 1476.28,751.042 1476.28,687.722 1444.36,624.403 1419.81,600.071 1367.23,561.083 1334.41,542.875 1249.02,519.203 1163.63,519.203 1078.24,542.875 1045.43,561.083 992.85,600.071 968.294,624.403 936.372,687.722 936.372,751.042 968.294,814.362 992.85,838.693 1045.43,877.681 1078.24,895.89 \"/>\n",
       "<polyline clip-path=\"url(#clip782)\" style=\"stroke:#000003; stroke-linecap:round; stroke-linejoin:round; stroke-width:4; stroke-opacity:1; fill:none\" points=\"1078.24,847.57 1163.63,874.563 1249.02,874.563 1334.41,847.57 1379.2,814.362 1415.6,751.042 1415.6,687.722 1379.2,624.403 1334.41,591.194 1249.02,564.201 1163.63,564.201 1078.24,591.194 1033.46,624.403 997.054,687.722 997.054,751.042 1033.46,814.362 1078.24,847.57 \"/>\n",
       "<polyline clip-path=\"url(#clip782)\" style=\"stroke:#000003; stroke-linecap:round; stroke-linejoin:round; stroke-width:4; stroke-opacity:1; fill:none\" points=\"1163.63,852.375 1249.02,852.375 1325.49,814.362 1334.41,807.742 1385.68,751.042 1385.68,687.722 1334.41,631.022 1325.49,624.403 1249.02,586.389 1163.63,586.389 1087.17,624.403 1078.24,631.022 1026.98,687.722 1026.98,751.042 1078.24,807.742 1087.17,814.362 1163.63,852.375 \"/>\n",
       "<polyline clip-path=\"url(#clip782)\" style=\"stroke:#000003; stroke-linecap:round; stroke-linejoin:round; stroke-width:4; stroke-opacity:1; fill:none\" points=\"1163.63,830.186 1249.02,830.186 1280.86,814.362 1334.41,774.646 1355.76,751.042 1355.76,687.722 1334.41,664.118 1280.86,624.403 1249.02,608.578 1163.63,608.578 1131.8,624.403 1078.24,664.118 1056.9,687.722 1056.9,751.042 1078.24,774.646 1131.8,814.362 1163.63,830.186 \"/>\n",
       "<polyline clip-path=\"url(#clip782)\" style=\"stroke:#000003; stroke-linecap:round; stroke-linejoin:round; stroke-width:4; stroke-opacity:1; fill:none\" points=\"1163.63,812.406 1249.02,812.406 1331.78,751.042 1331.78,687.722 1249.02,626.358 1163.63,626.358 1080.88,687.722 1080.88,751.042 1163.63,812.406 \"/>\n",
       "<polyline clip-path=\"url(#clip782)\" style=\"stroke:#000003; stroke-linecap:round; stroke-linejoin:round; stroke-width:4; stroke-opacity:1; fill:none\" points=\"1163.63,805.588 1249.02,805.588 1322.58,751.042 1322.58,687.722 1249.02,633.176 1163.63,633.176 1090.07,687.722 1090.07,751.042 1163.63,805.588 \"/>\n",
       "<polyline clip-path=\"url(#clip782)\" style=\"stroke:#000003; stroke-linecap:round; stroke-linejoin:round; stroke-width:4; stroke-opacity:1; fill:none\" points=\"1163.63,798.77 1249.02,798.77 1313.39,751.042 1313.39,687.722 1249.02,639.995 1163.63,639.995 1099.27,687.722 1099.27,751.042 1163.63,798.77 \"/>\n",
       "<polyline clip-path=\"url(#clip782)\" style=\"stroke:#000003; stroke-linecap:round; stroke-linejoin:round; stroke-width:4; stroke-opacity:1; fill:none\" points=\"1163.63,791.951 1249.02,791.951 1304.19,751.042 1304.19,687.722 1249.02,646.813 1163.63,646.813 1108.46,687.722 1108.46,751.042 1163.63,791.951 \"/>\n",
       "<polyline clip-path=\"url(#clip782)\" style=\"stroke:#000003; stroke-linecap:round; stroke-linejoin:round; stroke-width:4; stroke-opacity:1; fill:none\" points=\"1163.63,785.133 1249.02,785.133 1295,751.042 1295,687.722 1249.02,653.631 1163.63,653.631 1117.66,687.722 1117.66,751.042 1163.63,785.133 \"/>\n",
       "<polyline clip-path=\"url(#clip782)\" style=\"stroke:#000003; stroke-linecap:round; stroke-linejoin:round; stroke-width:4; stroke-opacity:1; fill:none\" points=\"1163.63,778.315 1249.02,778.315 1285.8,751.042 1285.8,687.722 1249.02,660.449 1163.63,660.449 1126.85,687.722 1126.85,751.042 1163.63,778.315 \"/>\n",
       "<polyline clip-path=\"url(#clip782)\" style=\"stroke:#000003; stroke-linecap:round; stroke-linejoin:round; stroke-width:4; stroke-opacity:1; fill:none\" points=\"1163.63,771.497 1249.02,771.497 1276.61,751.042 1276.61,687.722 1249.02,667.268 1163.63,667.268 1136.05,687.722 1136.05,751.042 1163.63,771.497 \"/>\n",
       "<polyline clip-path=\"url(#clip782)\" style=\"stroke:#000003; stroke-linecap:round; stroke-linejoin:round; stroke-width:4; stroke-opacity:1; fill:none\" points=\"1163.63,764.678 1249.02,764.678 1267.41,751.042 1267.41,687.722 1249.02,674.086 1163.63,674.086 1145.24,687.722 1145.24,751.042 1163.63,764.678 \"/>\n",
       "<polyline clip-path=\"url(#clip782)\" style=\"stroke:#000003; stroke-linecap:round; stroke-linejoin:round; stroke-width:4; stroke-opacity:1; fill:none\" points=\"1163.63,757.86 1249.02,757.86 1258.22,751.042 1258.22,687.722 1249.02,680.904 1163.63,680.904 1154.44,687.722 1154.44,751.042 1163.63,757.86 \"/>\n",
       "<polyline clip-path=\"url(#clip782)\" style=\"stroke:#e26f46; stroke-linecap:round; stroke-linejoin:round; stroke-width:4; stroke-opacity:1; fill:none\" points=\"2060.24,719.382 1206.33,86.1857 352.415,719.382 1206.33,1352.58 2060.24,719.382 \"/>\n",
       "<polyline clip-path=\"url(#clip782)\" style=\"stroke:#e26f46; stroke-linecap:round; stroke-linejoin:round; stroke-width:4; stroke-opacity:1; fill:none\" points=\"2020.6,726.366 2060.24,719.382 2042.04,755.283 \"/>\n",
       "<polyline clip-path=\"url(#clip782)\" style=\"stroke:#e26f46; stroke-linecap:round; stroke-linejoin:round; stroke-width:4; stroke-opacity:1; fill:none\" points=\"2060.24,719.382 1206.33,1352.58 \"/>\n",
       "<defs>\n",
       "  <clipPath id=\"clip783\">\n",
       "    <rect x=\"2160\" y=\"47\" width=\"73\" height=\"1377\"/>\n",
       "  </clipPath>\n",
       "</defs>\n",
       "<path clip-path=\"url(#clip783)\" d=\"M2160.76 1423.18 L2232.76 1423.18 L2232.76 1337.18 L2160.76 1337.18  Z\" fill=\"#000003\" fill-rule=\"evenodd\" fill-opacity=\"1\"/>\n",
       "<path clip-path=\"url(#clip783)\" d=\"M2160.76 1337.18 L2232.76 1337.18 L2232.76 1251.19 L2160.76 1251.19  Z\" fill=\"#0b0726\" fill-rule=\"evenodd\" fill-opacity=\"1\"/>\n",
       "<path clip-path=\"url(#clip783)\" d=\"M2160.76 1251.19 L2232.76 1251.19 L2232.76 1165.19 L2160.76 1165.19  Z\" fill=\"#240b4e\" fill-rule=\"evenodd\" fill-opacity=\"1\"/>\n",
       "<path clip-path=\"url(#clip783)\" d=\"M2160.76 1165.19 L2232.76 1165.19 L2232.76 1079.2 L2160.76 1079.2  Z\" fill=\"#410967\" fill-rule=\"evenodd\" fill-opacity=\"1\"/>\n",
       "<path clip-path=\"url(#clip783)\" d=\"M2160.76 1079.2 L2232.76 1079.2 L2232.76 993.2 L2160.76 993.2  Z\" fill=\"#5d126e\" fill-rule=\"evenodd\" fill-opacity=\"1\"/>\n",
       "<path clip-path=\"url(#clip783)\" d=\"M2160.76 993.2 L2232.76 993.2 L2232.76 907.204 L2160.76 907.204  Z\" fill=\"#781c6d\" fill-rule=\"evenodd\" fill-opacity=\"1\"/>\n",
       "<path clip-path=\"url(#clip783)\" d=\"M2160.76 907.204 L2232.76 907.204 L2232.76 821.208 L2160.76 821.208  Z\" fill=\"#932567\" fill-rule=\"evenodd\" fill-opacity=\"1\"/>\n",
       "<path clip-path=\"url(#clip783)\" d=\"M2160.76 821.208 L2232.76 821.208 L2232.76 735.212 L2160.76 735.212  Z\" fill=\"#ae305b\" fill-rule=\"evenodd\" fill-opacity=\"1\"/>\n",
       "<path clip-path=\"url(#clip783)\" d=\"M2160.76 735.212 L2232.76 735.212 L2232.76 649.216 L2160.76 649.216  Z\" fill=\"#c73e4c\" fill-rule=\"evenodd\" fill-opacity=\"1\"/>\n",
       "<path clip-path=\"url(#clip783)\" d=\"M2160.76 649.216 L2232.76 649.216 L2232.76 563.22 L2160.76 563.22  Z\" fill=\"#dc5039\" fill-rule=\"evenodd\" fill-opacity=\"1\"/>\n",
       "<path clip-path=\"url(#clip783)\" d=\"M2160.76 563.22 L2232.76 563.22 L2232.76 477.224 L2160.76 477.224  Z\" fill=\"#ed6825\" fill-rule=\"evenodd\" fill-opacity=\"1\"/>\n",
       "<path clip-path=\"url(#clip783)\" d=\"M2160.76 477.224 L2232.76 477.224 L2232.76 391.228 L2160.76 391.228  Z\" fill=\"#f7850e\" fill-rule=\"evenodd\" fill-opacity=\"1\"/>\n",
       "<path clip-path=\"url(#clip783)\" d=\"M2160.76 391.228 L2232.76 391.228 L2232.76 305.232 L2160.76 305.232  Z\" fill=\"#fba40a\" fill-rule=\"evenodd\" fill-opacity=\"1\"/>\n",
       "<path clip-path=\"url(#clip783)\" d=\"M2160.76 305.232 L2232.76 305.232 L2232.76 219.236 L2160.76 219.236  Z\" fill=\"#f9c52c\" fill-rule=\"evenodd\" fill-opacity=\"1\"/>\n",
       "<path clip-path=\"url(#clip783)\" d=\"M2160.76 219.236 L2232.76 219.236 L2232.76 133.24 L2160.76 133.24  Z\" fill=\"#f2e660\" fill-rule=\"evenodd\" fill-opacity=\"1\"/>\n",
       "<path clip-path=\"url(#clip783)\" d=\"M2160.76 133.24 L2232.76 133.24 L2232.76 47.2441 L2160.76 47.2441  Z\" fill=\"#fcfea4\" fill-rule=\"evenodd\" fill-opacity=\"1\"/>\n",
       "<path clip-path=\"url(#clip780)\" d=\"M2274.38 1246.3 L2290.7 1246.3 L2290.7 1250.23 L2268.76 1250.23 L2268.76 1246.3 Q2271.42 1243.54 2276 1238.91 Q2280.61 1234.26 2281.79 1232.92 Q2284.03 1230.39 2284.91 1228.66 Q2285.82 1226.9 2285.82 1225.21 Q2285.82 1222.46 2283.87 1220.72 Q2281.95 1218.98 2278.85 1218.98 Q2276.65 1218.98 2274.2 1219.75 Q2271.77 1220.51 2268.99 1222.06 L2268.99 1217.34 Q2271.81 1216.21 2274.27 1215.63 Q2276.72 1215.05 2278.76 1215.05 Q2284.13 1215.05 2287.32 1217.73 Q2290.52 1220.42 2290.52 1224.91 Q2290.52 1227.04 2289.7 1228.96 Q2288.92 1230.86 2286.81 1233.45 Q2286.23 1234.12 2283.13 1237.34 Q2280.03 1240.53 2274.38 1246.3 Z\" fill=\"#000000\" fill-rule=\"nonzero\" fill-opacity=\"1\" /><path clip-path=\"url(#clip780)\" d=\"M2300.51 1244.35 L2305.4 1244.35 L2305.4 1250.23 L2300.51 1250.23 L2300.51 1244.35 Z\" fill=\"#000000\" fill-rule=\"nonzero\" fill-opacity=\"1\" /><path clip-path=\"url(#clip780)\" d=\"M2315.63 1215.67 L2333.99 1215.67 L2333.99 1219.61 L2319.91 1219.61 L2319.91 1228.08 Q2320.93 1227.73 2321.95 1227.57 Q2322.97 1227.39 2323.99 1227.39 Q2329.77 1227.39 2333.15 1230.56 Q2336.53 1233.73 2336.53 1239.14 Q2336.53 1244.72 2333.06 1247.83 Q2329.59 1250.9 2323.27 1250.9 Q2321.09 1250.9 2318.83 1250.53 Q2316.58 1250.16 2314.17 1249.42 L2314.17 1244.72 Q2316.26 1245.86 2318.48 1246.41 Q2320.7 1246.97 2323.18 1246.97 Q2327.18 1246.97 2329.52 1244.86 Q2331.86 1242.76 2331.86 1239.14 Q2331.86 1235.53 2329.52 1233.43 Q2327.18 1231.32 2323.18 1231.32 Q2321.3 1231.32 2319.43 1231.74 Q2317.58 1232.15 2315.63 1233.03 L2315.63 1215.67 Z\" fill=\"#000000\" fill-rule=\"nonzero\" fill-opacity=\"1\" /><path clip-path=\"url(#clip780)\" d=\"M2270.21 960.278 L2288.57 960.278 L2288.57 964.213 L2274.5 964.213 L2274.5 972.685 Q2275.52 972.338 2276.53 972.176 Q2277.55 971.991 2278.57 971.991 Q2284.36 971.991 2287.74 975.162 Q2291.12 978.333 2291.12 983.75 Q2291.12 989.329 2287.64 992.43 Q2284.17 995.509 2277.85 995.509 Q2275.68 995.509 2273.41 995.139 Q2271.16 994.768 2268.76 994.028 L2268.76 989.329 Q2270.84 990.463 2273.06 991.018 Q2275.28 991.574 2277.76 991.574 Q2281.77 991.574 2284.1 989.467 Q2286.44 987.361 2286.44 983.75 Q2286.44 980.139 2284.1 978.032 Q2281.77 975.926 2277.76 975.926 Q2275.89 975.926 2274.01 976.342 Q2272.16 976.759 2270.21 977.639 L2270.21 960.278 Z\" fill=\"#000000\" fill-rule=\"nonzero\" fill-opacity=\"1\" /><path clip-path=\"url(#clip780)\" d=\"M2300.33 988.958 L2305.21 988.958 L2305.21 994.838 L2300.33 994.838 L2300.33 988.958 Z\" fill=\"#000000\" fill-rule=\"nonzero\" fill-opacity=\"1\" /><path clip-path=\"url(#clip780)\" d=\"M2325.4 963.356 Q2321.79 963.356 2319.96 966.921 Q2318.15 970.463 2318.15 977.592 Q2318.15 984.699 2319.96 988.264 Q2321.79 991.805 2325.4 991.805 Q2329.03 991.805 2330.84 988.264 Q2332.67 984.699 2332.67 977.592 Q2332.67 970.463 2330.84 966.921 Q2329.03 963.356 2325.4 963.356 M2325.4 959.653 Q2331.21 959.653 2334.26 964.259 Q2337.34 968.843 2337.34 977.592 Q2337.34 986.319 2334.26 990.926 Q2331.21 995.509 2325.4 995.509 Q2319.59 995.509 2316.51 990.926 Q2313.45 986.319 2313.45 977.592 Q2313.45 968.843 2316.51 964.259 Q2319.59 959.653 2325.4 959.653 Z\" fill=\"#000000\" fill-rule=\"nonzero\" fill-opacity=\"1\" /><path clip-path=\"url(#clip780)\" d=\"M2268.76 704.883 L2290.98 704.883 L2290.98 706.873 L2278.43 739.443 L2273.55 739.443 L2285.35 708.818 L2268.76 708.818 L2268.76 704.883 Z\" fill=\"#000000\" fill-rule=\"nonzero\" fill-opacity=\"1\" /><path clip-path=\"url(#clip780)\" d=\"M2300.1 733.563 L2304.98 733.563 L2304.98 739.443 L2300.1 739.443 L2300.1 733.563 Z\" fill=\"#000000\" fill-rule=\"nonzero\" fill-opacity=\"1\" /><path clip-path=\"url(#clip780)\" d=\"M2315.21 704.883 L2333.57 704.883 L2333.57 708.818 L2319.5 708.818 L2319.5 717.29 Q2320.51 716.943 2321.53 716.781 Q2322.55 716.596 2323.57 716.596 Q2329.36 716.596 2332.74 719.767 Q2336.12 722.938 2336.12 728.355 Q2336.12 733.933 2332.64 737.035 Q2329.17 740.114 2322.85 740.114 Q2320.68 740.114 2318.41 739.744 Q2316.16 739.373 2313.76 738.633 L2313.76 733.933 Q2315.84 735.068 2318.06 735.623 Q2320.28 736.179 2322.76 736.179 Q2326.76 736.179 2329.1 734.072 Q2331.44 731.966 2331.44 728.355 Q2331.44 724.744 2329.1 722.637 Q2326.76 720.531 2322.76 720.531 Q2320.89 720.531 2319.01 720.947 Q2317.16 721.364 2315.21 722.244 L2315.21 704.883 Z\" fill=\"#000000\" fill-rule=\"nonzero\" fill-opacity=\"1\" /><path clip-path=\"url(#clip780)\" d=\"M2269.43 480.112 L2277.07 480.112 L2277.07 453.747 L2268.76 455.414 L2268.76 451.154 L2277.02 449.488 L2281.7 449.488 L2281.7 480.112 L2289.33 480.112 L2289.33 484.048 L2269.43 484.048 L2269.43 480.112 Z\" fill=\"#000000\" fill-rule=\"nonzero\" fill-opacity=\"1\" /><path clip-path=\"url(#clip780)\" d=\"M2308.78 452.566 Q2305.17 452.566 2303.34 456.131 Q2301.53 459.673 2301.53 466.802 Q2301.53 473.909 2303.34 477.474 Q2305.17 481.015 2308.78 481.015 Q2312.41 481.015 2314.22 477.474 Q2316.05 473.909 2316.05 466.802 Q2316.05 459.673 2314.22 456.131 Q2312.41 452.566 2308.78 452.566 M2308.78 448.863 Q2314.59 448.863 2317.64 453.469 Q2320.72 458.052 2320.72 466.802 Q2320.72 475.529 2317.64 480.136 Q2314.59 484.719 2308.78 484.719 Q2302.97 484.719 2299.89 480.136 Q2296.83 475.529 2296.83 466.802 Q2296.83 458.052 2299.89 453.469 Q2302.97 448.863 2308.78 448.863 Z\" fill=\"#000000\" fill-rule=\"nonzero\" fill-opacity=\"1\" /><path clip-path=\"url(#clip780)\" d=\"M2328.94 478.168 L2333.83 478.168 L2333.83 484.048 L2328.94 484.048 L2328.94 478.168 Z\" fill=\"#000000\" fill-rule=\"nonzero\" fill-opacity=\"1\" /><path clip-path=\"url(#clip780)\" d=\"M2354.01 452.566 Q2350.4 452.566 2348.57 456.131 Q2346.76 459.673 2346.76 466.802 Q2346.76 473.909 2348.57 477.474 Q2350.4 481.015 2354.01 481.015 Q2357.64 481.015 2359.45 477.474 Q2361.28 473.909 2361.28 466.802 Q2361.28 459.673 2359.45 456.131 Q2357.64 452.566 2354.01 452.566 M2354.01 448.863 Q2359.82 448.863 2362.88 453.469 Q2365.95 458.052 2365.95 466.802 Q2365.95 475.529 2362.88 480.136 Q2359.82 484.719 2354.01 484.719 Q2348.2 484.719 2345.12 480.136 Q2342.07 475.529 2342.07 466.802 Q2342.07 458.052 2345.12 453.469 Q2348.2 448.863 2354.01 448.863 Z\" fill=\"#000000\" fill-rule=\"nonzero\" fill-opacity=\"1\" /><path clip-path=\"url(#clip780)\" d=\"M2269.43 224.717 L2277.07 224.717 L2277.07 198.352 L2268.76 200.019 L2268.76 195.759 L2277.02 194.093 L2281.7 194.093 L2281.7 224.717 L2289.33 224.717 L2289.33 228.653 L2269.43 228.653 L2269.43 224.717 Z\" fill=\"#000000\" fill-rule=\"nonzero\" fill-opacity=\"1\" /><path clip-path=\"url(#clip780)\" d=\"M2302.81 224.717 L2319.13 224.717 L2319.13 228.653 L2297.18 228.653 L2297.18 224.717 Q2299.84 221.963 2304.43 217.333 Q2309.03 212.68 2310.21 211.338 Q2312.46 208.815 2313.34 207.079 Q2314.24 205.319 2314.24 203.63 Q2314.24 200.875 2312.3 199.139 Q2310.38 197.403 2307.27 197.403 Q2305.08 197.403 2302.62 198.167 Q2300.19 198.931 2297.41 200.481 L2297.41 195.759 Q2300.24 194.625 2302.69 194.046 Q2305.14 193.468 2307.18 193.468 Q2312.55 193.468 2315.75 196.153 Q2318.94 198.838 2318.94 203.329 Q2318.94 205.458 2318.13 207.38 Q2317.34 209.278 2315.24 211.87 Q2314.66 212.542 2311.56 215.759 Q2308.45 218.954 2302.81 224.717 Z\" fill=\"#000000\" fill-rule=\"nonzero\" fill-opacity=\"1\" /><path clip-path=\"url(#clip780)\" d=\"M2328.94 222.773 L2333.83 222.773 L2333.83 228.653 L2328.94 228.653 L2328.94 222.773 Z\" fill=\"#000000\" fill-rule=\"nonzero\" fill-opacity=\"1\" /><path clip-path=\"url(#clip780)\" d=\"M2344.06 194.093 L2362.41 194.093 L2362.41 198.028 L2348.34 198.028 L2348.34 206.5 Q2349.36 206.153 2350.38 205.991 Q2351.39 205.806 2352.41 205.806 Q2358.2 205.806 2361.58 208.977 Q2364.96 212.148 2364.96 217.565 Q2364.96 223.143 2361.49 226.245 Q2358.01 229.324 2351.7 229.324 Q2349.52 229.324 2347.25 228.954 Q2345.01 228.583 2342.6 227.842 L2342.6 223.143 Q2344.68 224.278 2346.9 224.833 Q2349.13 225.389 2351.6 225.389 Q2355.61 225.389 2357.95 223.282 Q2360.28 221.176 2360.28 217.565 Q2360.28 213.954 2357.95 211.847 Q2355.61 209.741 2351.6 209.741 Q2349.73 209.741 2347.85 210.157 Q2346 210.574 2344.06 211.454 L2344.06 194.093 Z\" fill=\"#000000\" fill-rule=\"nonzero\" fill-opacity=\"1\" /><polyline clip-path=\"url(#clip780)\" style=\"stroke:#000000; stroke-linecap:round; stroke-linejoin:round; stroke-width:4; stroke-opacity:1; fill:none\" points=\"2232.76,1423.18 2232.76,1236.58 2256.76,1236.58 2232.76,1236.58 2232.76,981.187 2256.76,981.187 2232.76,981.187 2232.76,725.792 2256.76,725.792 2232.76,725.792 2232.76,470.396 2256.76,470.396 2232.76,470.396 2232.76,215.001 2256.76,215.001 2232.76,215.001 2232.76,47.2441 \"/>\n",
       "</svg>\n"
      ]
     },
     "execution_count": 38,
     "metadata": {},
     "output_type": "execute_result"
    }
   ],
   "source": [
    "using Plots\n",
    "xvals=[x for x in -1.05:0.1:1]\n",
    "yvals=[y for y in -1.05:0.1:1]\n",
    "zvals=[1/(x+y*im) for x in xvals, y in yvals]\n",
    "contourf(xvals,yvals,abs.(zvals))\n",
    "plot!([(real(z),imag(z)) for z in nodes],\n",
    "    label=\"\",xlabel=\"x\",ylabel=\"y\",arrow=true)"
   ]
  },
  {
   "cell_type": "markdown",
   "id": "d8a2ceef-c0fe-4744-8b0e-d4da9d257bd3",
   "metadata": {},
   "source": [
    "The same command with quadgk.  The `...` notation is referred to as a `splat`.  It takes the elements of a list, and inserts them into the function"
   ]
  },
  {
   "cell_type": "code",
   "execution_count": 39,
   "id": "5c243172-81e8-49f9-94ce-64759200b2ee",
   "metadata": {},
   "outputs": [
    {
     "data": {
      "text/plain": [
       "1.0 + 1.766974823035287e-17im"
      ]
     },
     "execution_count": 39,
     "metadata": {},
     "output_type": "execute_result"
    }
   ],
   "source": [
    "1/(2im*pi)*quadgk(z->1/z,nodes...)[1]"
   ]
  },
  {
   "cell_type": "code",
   "execution_count": 40,
   "id": "84c7cd05-310d-4deb-9846-6c0f4a1df9e1",
   "metadata": {},
   "outputs": [
    {
     "data": {
      "text/plain": [
       "5-element Vector{Complex{Int64}}:\n",
       "  1 + 0im\n",
       "  0 + 1im\n",
       " -1 + 0im\n",
       "  0 - 1im\n",
       "  1 + 0im"
      ]
     },
     "execution_count": 40,
     "metadata": {},
     "output_type": "execute_result"
    }
   ],
   "source": [
    "nodes"
   ]
  },
  {
   "cell_type": "code",
   "execution_count": 41,
   "id": "7c463260-78ca-4d2a-8e76-b2025a4e0325",
   "metadata": {},
   "outputs": [
    {
     "data": {
      "text/plain": [
       "1.0 + 1.766974823035287e-17im"
      ]
     },
     "execution_count": 41,
     "metadata": {},
     "output_type": "execute_result"
    }
   ],
   "source": [
    "1/(2im*pi)*quadgk(z->1/z,1,1im,-1,-1im,1)[1]"
   ]
  },
  {
   "cell_type": "markdown",
   "id": "f6b392dc-f017-459b-b856-c9fd51336031",
   "metadata": {},
   "source": [
    "This takes the integral from $1$ to $i$ -- then to $-1$ -- then to $-i$ -- then to $1$ -- all with straight line paths between them."
   ]
  },
  {
   "cell_type": "markdown",
   "id": "e69aaba6-c756-4105-ab8f-96d7068610fd",
   "metadata": {},
   "source": [
    "# Higher dimensional integrals"
   ]
  },
  {
   "cell_type": "markdown",
   "id": "b0e50bc7-a005-42db-913d-6afd448cf6ce",
   "metadata": {},
   "source": [
    "Higher dimensional integrals are hard.  Grids are hopeless once you get beyond 2 or 3 dimensions.  Say you have a 10 dimensional integral, and you break each dimension into 10 points.  That would then requre $10^{10}$ function evaluations.\n",
    "\n",
    "To do high dimensional integrals efficiently you often need to do some changes of variables, or breaking up the domain.  \n",
    "\n",
    "A good starting point is the canned routine `hcubature`"
   ]
  },
  {
   "cell_type": "code",
   "execution_count": 42,
   "id": "147a63b6-2dc5-4f50-9d49-e8177b925be2",
   "metadata": {},
   "outputs": [],
   "source": [
    "using HCubature  "
   ]
  },
  {
   "cell_type": "code",
   "execution_count": 43,
   "id": "c2660f38-83cf-48ff-876a-fbc7dc0b7538",
   "metadata": {},
   "outputs": [
    {
     "data": {
      "text/plain": [
       "(14.0, 1.7763568394002505e-15)"
      ]
     },
     "execution_count": 43,
     "metadata": {},
     "output_type": "execute_result"
    }
   ],
   "source": [
    "f(x,y) = x^2 + 5y^2\n",
    "f(v) = f(v...)  # f accepts a vector\n",
    "a0, b0 = 0, 1\n",
    "a1, b1 = 0, 2\n",
    "hcubature(f, (a0, a1), (b0, b1))"
   ]
  },
  {
   "cell_type": "code",
   "execution_count": null,
   "id": "6c20f5a8-a44c-45cf-b907-0607994d16b0",
   "metadata": {},
   "outputs": [],
   "source": []
  },
  {
   "cell_type": "code",
   "execution_count": null,
   "id": "d4024227-cde4-4627-817a-ae5577dc92f3",
   "metadata": {},
   "outputs": [],
   "source": []
  }
 ],
 "metadata": {
  "kernelspec": {
   "display_name": "Julia 1.9.1",
   "language": "julia",
   "name": "julia-1.9"
  },
  "language_info": {
   "file_extension": ".jl",
   "mimetype": "application/julia",
   "name": "julia",
   "version": "1.9.1"
  }
 },
 "nbformat": 4,
 "nbformat_minor": 5
}
