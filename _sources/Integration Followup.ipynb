{
 "cells": [
  {
   "cell_type": "markdown",
   "id": "076f0db1-4c1b-4ba4-a249-995558c395b5",
   "metadata": {},
   "source": [
    "# Integration Follow-up"
   ]
  },
  {
   "cell_type": "markdown",
   "id": "42b4e6aa-1c65-494d-9916-b37a04a761bc",
   "metadata": {},
   "source": [
    "Take-aways from the Period of the pendulum lab:"
   ]
  },
  {
   "cell_type": "markdown",
   "id": "8879fd82-9c1a-4627-9478-0a20c52e7920",
   "metadata": {},
   "source": [
    "1. Although the period diverges as $\\theta_m\\to\\pi$, the divergence is very weak:  It is logarithmic.  That is slower than any power law.  In practice this means it is that you need relatively precise measurements to detect the amplitude dependence of a pendulum's frequency. (Or on the practical side, if you make a pendulum clock, you don't have to worry too much about the amplitude dependence of the period.)\n",
    "2. For numerical integration it is very important to rescale your variables to get rid of singularities.  Although we didn't encounter any, singularities in the middle of the region are even worse."
   ]
  },
  {
   "cell_type": "markdown",
   "id": "99264247-7e7c-48af-bbed-52194e818d9b",
   "metadata": {},
   "source": [
    "## Packages for Integration"
   ]
  },
  {
   "cell_type": "markdown",
   "id": "c9f46140-737e-49b3-a634-133a6fe9dfad",
   "metadata": {},
   "source": [
    "There are a number of different Julia packages for doing numerical integration.  The default is [QuadGK](https://juliamath.github.io/QuadGK.jl/stable/) which implements the [Gauss-Kronrod algorithm](https://en.wikipedia.org/wiki/Gauss–Kronrod_quadrature_formula).  This is an algorithm which subdivides the integration interval in a non-uniform way, adding more points where the function is changing fastest."
   ]
  },
  {
   "cell_type": "code",
   "execution_count": 19,
   "id": "26397470-e6ba-4e04-847e-f24b0de0e2a0",
   "metadata": {},
   "outputs": [],
   "source": [
    "using QuadGK,Plots,LaTeXStrings"
   ]
  },
  {
   "cell_type": "code",
   "execution_count": 2,
   "id": "03f31286-aca9-4eef-9450-3424931cb885",
   "metadata": {},
   "outputs": [
    {
     "data": {
      "text/plain": [
       "(0.3333333333333333, 0.0)"
      ]
     },
     "execution_count": 2,
     "metadata": {},
     "output_type": "execute_result"
    }
   ],
   "source": [
    "quadgk(x->x^2,0,1) # returns the integral and the error estimate"
   ]
  },
  {
   "cell_type": "code",
   "execution_count": 3,
   "id": "42315f80-0b8f-48e9-ae23-1cc9730bb430",
   "metadata": {},
   "outputs": [
    {
     "data": {
      "text/plain": [
       "0.3333333333333333"
      ]
     },
     "execution_count": 3,
     "metadata": {},
     "output_type": "execute_result"
    }
   ],
   "source": [
    "i,=quadgk(x->x^2,0,1) # just extract the integral, and throw away the error estimate\n",
    "i"
   ]
  },
  {
   "cell_type": "code",
   "execution_count": 4,
   "id": "a99aad5f-de93-4512-b594-43bee298c73a",
   "metadata": {},
   "outputs": [
    {
     "data": {
      "text/plain": [
       "0.3333333333333333"
      ]
     },
     "execution_count": 4,
     "metadata": {},
     "output_type": "execute_result"
    }
   ],
   "source": [
    "quadgk(x->x^2,0,1)[1]"
   ]
  },
  {
   "cell_type": "markdown",
   "id": "a95ccd0c-150f-42f0-9a3c-d03b5f9f70f5",
   "metadata": {},
   "source": [
    "Lets see if out-of-the-box it can do our integral for the period"
   ]
  },
  {
   "cell_type": "code",
   "execution_count": 6,
   "id": "b3fdc78b-9a76-4867-92f1-38ebaa82e144",
   "metadata": {},
   "outputs": [
    {
     "name": "stdout",
     "output_type": "stream",
     "text": [
      "  0.063681 seconds (68.78 k allocations: 4.622 MiB, 99.73% compilation time)\n"
     ]
    },
    {
     "data": {
      "text/plain": [
       "(1.1803405931478603, 1.537190156500909e-8)"
      ]
     },
     "execution_count": 6,
     "metadata": {},
     "output_type": "execute_result"
    }
   ],
   "source": [
    "PeriodIntegrand(x,thm)=(sqrt(2)/pi)*(thm/sqrt(cos(x*thm)-cos(thm)))\n",
    "@time quadgk(x->PeriodIntegrand(x,pi/2),0,1)"
   ]
  },
  {
   "cell_type": "code",
   "execution_count": 7,
   "id": "9ac3c165-45d8-4e1f-a941-214805ad7e8e",
   "metadata": {},
   "outputs": [
    {
     "name": "stdout",
     "output_type": "stream",
     "text": [
      "(1.1803405931478603, 1.537190156500909e-8)\n"
     ]
    }
   ],
   "source": [
    "include(\"test.jl\")"
   ]
  },
  {
   "cell_type": "markdown",
   "id": "d646b8eb-f253-48b1-8a8a-1fd15121a9fe",
   "metadata": {},
   "source": [
    "Note, it has problems when $\\theta_m$ becomes small"
   ]
  },
  {
   "cell_type": "code",
   "execution_count": 8,
   "id": "b27557b7-aff8-4411-819f-db0b2415ec29",
   "metadata": {},
   "outputs": [
    {
     "ename": "LoadError",
     "evalue": "DomainError with 0.9999999999990905:\nintegrand produced Inf in the interval (0.999999999998181, 1.0)",
     "output_type": "error",
     "traceback": [
      "DomainError with 0.9999999999990905:\nintegrand produced Inf in the interval (0.999999999998181, 1.0)",
      "",
      "Stacktrace:",
      " [1] evalrule(f::var\"#13#14\", a::Float64, b::Float64, x::Vector{Float64}, w::Vector{Float64}, wg::Vector{Float64}, nrm::typeof(LinearAlgebra.norm))",
      "   @ QuadGK ~/.julia/packages/QuadGK/7rND3/src/evalrule.jl:39",
      " [2] refine(f::var\"#13#14\", segs::Vector{QuadGK.Segment{Float64, Float64, Float64}}, I::Float64, E::Float64, numevals::Int64, x::Vector{Float64}, w::Vector{Float64}, wg::Vector{Float64}, n::Int64, atol::Float64, rtol::Float64, maxevals::Int64, nrm::typeof(LinearAlgebra.norm))",
      "   @ QuadGK ~/.julia/packages/QuadGK/7rND3/src/adapt.jl:115",
      " [3] adapt",
      "   @ ~/.julia/packages/QuadGK/7rND3/src/adapt.jl:96 [inlined]",
      " [4] do_quadgk(f::var\"#13#14\", s::Tuple{Int64, Int64}, n::Int64, atol::Nothing, rtol::Nothing, maxevals::Int64, nrm::typeof(LinearAlgebra.norm), _segbuf::Nothing, eval_segbuf::Nothing)",
      "   @ QuadGK ~/.julia/packages/QuadGK/7rND3/src/adapt.jl:87",
      " [5] (::QuadGK.var\"#50#51\"{Nothing, Nothing, Int64, Int64, typeof(LinearAlgebra.norm), Nothing, Nothing})(f::Function, s::Tuple{Int64, Int64}, ::Function)",
      "   @ QuadGK ~/.julia/packages/QuadGK/7rND3/src/api.jl:83",
      " [6] handle_infinities",
      "   @ ~/.julia/packages/QuadGK/7rND3/src/adapt.jl:189 [inlined]",
      " [7] #quadgk#49",
      "   @ ~/.julia/packages/QuadGK/7rND3/src/api.jl:82 [inlined]",
      " [8] quadgk(::Function, ::Int64, ::Int64)",
      "   @ QuadGK ~/.julia/packages/QuadGK/7rND3/src/api.jl:80",
      " [9] top-level scope",
      "   @ In[8]:2"
     ]
    }
   ],
   "source": [
    "PeriodIntegrand(x,thm)=(sqrt(2)/pi)*(thm/sqrt(cos(x*thm)-cos(thm)))\n",
    "quadgk(x->PeriodIntegrand(x,0.1),0,1)"
   ]
  },
  {
   "cell_type": "markdown",
   "id": "98e1afa9-953e-4afc-890d-56afe6e46a75",
   "metadata": {},
   "source": [
    "To fix this we need to do one of our variable transformations"
   ]
  },
  {
   "cell_type": "code",
   "execution_count": 9,
   "id": "b197e27e-ad22-4b77-993a-5f7a11f85a58",
   "metadata": {},
   "outputs": [
    {
     "name": "stdout",
     "output_type": "stream",
     "text": [
      "  0.257866 seconds (1.16 M allocations: 76.278 MiB, 4.16% gc time, 99.95% compilation time)\n"
     ]
    },
    {
     "data": {
      "text/plain": [
       "(1.0000062500030935, 4.559330690767638e-11)"
      ]
     },
     "execution_count": 9,
     "metadata": {},
     "output_type": "execute_result"
    }
   ],
   "source": [
    "integrandz(z,θₘ)=(sqrt(2)/pi)*θₘ*cos(z)/sqrt(cos(θₘ*sin(z))-cos(θₘ))\n",
    "@time quadgk(x->integrandz(x,0.01),0,pi/2)"
   ]
  },
  {
   "cell_type": "markdown",
   "id": "4a4ef298-d539-4d78-9fe5-1db01ec1dbe9",
   "metadata": {},
   "source": [
    "We can see how many points in evaluated the function at with `quadgk_count`"
   ]
  },
  {
   "cell_type": "code",
   "execution_count": 10,
   "id": "85763e72-849d-4187-b467-2642ffd73622",
   "metadata": {},
   "outputs": [
    {
     "data": {
      "text/plain": [
       "(1.1803405990160678, 6.177591771461266e-11, 15)"
      ]
     },
     "execution_count": 10,
     "metadata": {},
     "output_type": "execute_result"
    }
   ],
   "source": [
    "quadgk_count(x->integrandz(x,pi/2),0,pi/2)"
   ]
  },
  {
   "cell_type": "markdown",
   "id": "f9efd5cf-201d-46da-87b0-695864f3c9a7",
   "metadata": {},
   "source": [
    "Somehow it only needed 15 function evaluations to get better than 1 part in $10^{10}$ accuracy"
   ]
  },
  {
   "cell_type": "code",
   "execution_count": 16,
   "id": "197f54b4-eaba-41e0-8043-686f3b11a9cf",
   "metadata": {},
   "outputs": [
    {
     "name": "stdout",
     "output_type": "stream",
     "text": [
      "  0.000019 seconds (17 allocations: 1.266 KiB)\n"
     ]
    },
    {
     "data": {
      "image/png": "[encoded data removed]",
      "image/svg+xml": [
       "<?xml version=\"1.0\" encoding=\"utf-8\"?>\n",
       "<svg xmlns=\"http://www.w3.org/2000/svg\" xmlns:xlink=\"http://www.w3.org/1999/xlink\" width=\"600\" height=\"400\" viewBox=\"0 0 2400 1600\">\n",
       "<defs>\n",
       "  <clipPath id=\"clip220\">\n",
       "    <rect x=\"0\" y=\"0\" width=\"2400\" height=\"1600\"/>\n",
       "  </clipPath>\n",
       "</defs>\n",
       "<path clip-path=\"url(#clip220)\" d=\"M0 1600 L2400 1600 L2400 8.88178e-14 L0 8.88178e-14  Z\" fill=\"#ffffff\" fill-rule=\"evenodd\" fill-opacity=\"1\"/>\n",
       "<defs>\n",
       "  <clipPath id=\"clip221\">\n",
       "    <rect x=\"480\" y=\"0\" width=\"1681\" height=\"1600\"/>\n",
       "  </clipPath>\n",
       "</defs>\n",
       "<path clip-path=\"url(#clip220)\" d=\"M250.028 1423.18 L2352.76 1423.18 L2352.76 47.2441 L250.028 47.2441  Z\" fill=\"#ffffff\" fill-rule=\"evenodd\" fill-opacity=\"1\"/>\n",
       "<defs>\n",
       "  <clipPath id=\"clip222\">\n",
       "    <rect x=\"250\" y=\"47\" width=\"2104\" height=\"1377\"/>\n",
       "  </clipPath>\n",
       "</defs>\n",
       "<polyline clip-path=\"url(#clip222)\" style=\"stroke:#000000; stroke-linecap:round; stroke-linejoin:round; stroke-width:2; stroke-opacity:0.1; fill:none\" points=\"300.991,1423.18 300.991,47.2441 \"/>\n",
       "<polyline clip-path=\"url(#clip222)\" style=\"stroke:#000000; stroke-linecap:round; stroke-linejoin:round; stroke-width:2; stroke-opacity:0.1; fill:none\" points=\"937.866,1423.18 937.866,47.2441 \"/>\n",
       "<polyline clip-path=\"url(#clip222)\" style=\"stroke:#000000; stroke-linecap:round; stroke-linejoin:round; stroke-width:2; stroke-opacity:0.1; fill:none\" points=\"1574.74,1423.18 1574.74,47.2441 \"/>\n",
       "<polyline clip-path=\"url(#clip222)\" style=\"stroke:#000000; stroke-linecap:round; stroke-linejoin:round; stroke-width:2; stroke-opacity:0.1; fill:none\" points=\"2211.62,1423.18 2211.62,47.2441 \"/>\n",
       "<polyline clip-path=\"url(#clip222)\" style=\"stroke:#000000; stroke-linecap:round; stroke-linejoin:round; stroke-width:2; stroke-opacity:0.1; fill:none\" points=\"250.028,1199.91 2352.76,1199.91 \"/>\n",
       "<polyline clip-path=\"url(#clip222)\" style=\"stroke:#000000; stroke-linecap:round; stroke-linejoin:round; stroke-width:2; stroke-opacity:0.1; fill:none\" points=\"250.028,913.901 2352.76,913.901 \"/>\n",
       "<polyline clip-path=\"url(#clip222)\" style=\"stroke:#000000; stroke-linecap:round; stroke-linejoin:round; stroke-width:2; stroke-opacity:0.1; fill:none\" points=\"250.028,627.891 2352.76,627.891 \"/>\n",
       "<polyline clip-path=\"url(#clip222)\" style=\"stroke:#000000; stroke-linecap:round; stroke-linejoin:round; stroke-width:2; stroke-opacity:0.1; fill:none\" points=\"250.028,341.88 2352.76,341.88 \"/>\n",
       "<polyline clip-path=\"url(#clip222)\" style=\"stroke:#000000; stroke-linecap:round; stroke-linejoin:round; stroke-width:2; stroke-opacity:0.1; fill:none\" points=\"250.028,55.8695 2352.76,55.8695 \"/>\n",
       "<polyline clip-path=\"url(#clip220)\" style=\"stroke:#000000; stroke-linecap:round; stroke-linejoin:round; stroke-width:4; stroke-opacity:1; fill:none\" points=\"250.028,1423.18 2352.76,1423.18 \"/>\n",
       "<polyline clip-path=\"url(#clip220)\" style=\"stroke:#000000; stroke-linecap:round; stroke-linejoin:round; stroke-width:4; stroke-opacity:1; fill:none\" points=\"300.991,1423.18 300.991,1404.28 \"/>\n",
       "<polyline clip-path=\"url(#clip220)\" style=\"stroke:#000000; stroke-linecap:round; stroke-linejoin:round; stroke-width:4; stroke-opacity:1; fill:none\" points=\"937.866,1423.18 937.866,1404.28 \"/>\n",
       "<polyline clip-path=\"url(#clip220)\" style=\"stroke:#000000; stroke-linecap:round; stroke-linejoin:round; stroke-width:4; stroke-opacity:1; fill:none\" points=\"1574.74,1423.18 1574.74,1404.28 \"/>\n",
       "<polyline clip-path=\"url(#clip220)\" style=\"stroke:#000000; stroke-linecap:round; stroke-linejoin:round; stroke-width:4; stroke-opacity:1; fill:none\" points=\"2211.62,1423.18 2211.62,1404.28 \"/>\n",
       "<path clip-path=\"url(#clip220)\" d=\"M278.376 1454.1 Q274.765 1454.1 272.936 1457.66 Q271.13 1461.2 271.13 1468.33 Q271.13 1475.44 272.936 1479.01 Q274.765 1482.55 278.376 1482.55 Q282.01 1482.55 283.815 1479.01 Q285.644 1475.44 285.644 1468.33 Q285.644 1461.2 283.815 1457.66 Q282.01 1454.1 278.376 1454.1 M278.376 1450.39 Q284.186 1450.39 287.241 1455 Q290.32 1459.58 290.32 1468.33 Q290.32 1477.06 287.241 1481.67 Q284.186 1486.25 278.376 1486.25 Q272.565 1486.25 269.487 1481.67 Q266.431 1477.06 266.431 1468.33 Q266.431 1459.58 269.487 1455 Q272.565 1450.39 278.376 1450.39 Z\" fill=\"#000000\" fill-rule=\"nonzero\" fill-opacity=\"1\" /><path clip-path=\"url(#clip220)\" d=\"M298.538 1479.7 L303.422 1479.7 L303.422 1485.58 L298.538 1485.58 L298.538 1479.7 Z\" fill=\"#000000\" fill-rule=\"nonzero\" fill-opacity=\"1\" /><path clip-path=\"url(#clip220)\" d=\"M323.607 1454.1 Q319.996 1454.1 318.167 1457.66 Q316.362 1461.2 316.362 1468.33 Q316.362 1475.44 318.167 1479.01 Q319.996 1482.55 323.607 1482.55 Q327.241 1482.55 329.047 1479.01 Q330.875 1475.44 330.875 1468.33 Q330.875 1461.2 329.047 1457.66 Q327.241 1454.1 323.607 1454.1 M323.607 1450.39 Q329.417 1450.39 332.473 1455 Q335.551 1459.58 335.551 1468.33 Q335.551 1477.06 332.473 1481.67 Q329.417 1486.25 323.607 1486.25 Q317.797 1486.25 314.718 1481.67 Q311.662 1477.06 311.662 1468.33 Q311.662 1459.58 314.718 1455 Q317.797 1450.39 323.607 1450.39 Z\" fill=\"#000000\" fill-rule=\"nonzero\" fill-opacity=\"1\" /><path clip-path=\"url(#clip220)\" d=\"M915.748 1454.1 Q912.137 1454.1 910.308 1457.66 Q908.503 1461.2 908.503 1468.33 Q908.503 1475.44 910.308 1479.01 Q912.137 1482.55 915.748 1482.55 Q919.382 1482.55 921.188 1479.01 Q923.017 1475.44 923.017 1468.33 Q923.017 1461.2 921.188 1457.66 Q919.382 1454.1 915.748 1454.1 M915.748 1450.39 Q921.558 1450.39 924.614 1455 Q927.693 1459.58 927.693 1468.33 Q927.693 1477.06 924.614 1481.67 Q921.558 1486.25 915.748 1486.25 Q909.938 1486.25 906.859 1481.67 Q903.804 1477.06 903.804 1468.33 Q903.804 1459.58 906.859 1455 Q909.938 1450.39 915.748 1450.39 Z\" fill=\"#000000\" fill-rule=\"nonzero\" fill-opacity=\"1\" /><path clip-path=\"url(#clip220)\" d=\"M935.91 1479.7 L940.794 1479.7 L940.794 1485.58 L935.91 1485.58 L935.91 1479.7 Z\" fill=\"#000000\" fill-rule=\"nonzero\" fill-opacity=\"1\" /><path clip-path=\"url(#clip220)\" d=\"M951.026 1451.02 L969.382 1451.02 L969.382 1454.96 L955.308 1454.96 L955.308 1463.43 Q956.327 1463.08 957.345 1462.92 Q958.364 1462.73 959.382 1462.73 Q965.169 1462.73 968.549 1465.9 Q971.928 1469.08 971.928 1474.49 Q971.928 1480.07 968.456 1483.17 Q964.984 1486.25 958.665 1486.25 Q956.489 1486.25 954.22 1485.88 Q951.975 1485.51 949.567 1484.77 L949.567 1480.07 Q951.651 1481.2 953.873 1481.76 Q956.095 1482.32 958.572 1482.32 Q962.577 1482.32 964.915 1480.21 Q967.253 1478.1 967.253 1474.49 Q967.253 1470.88 964.915 1468.77 Q962.577 1466.67 958.572 1466.67 Q956.697 1466.67 954.822 1467.08 Q952.97 1467.5 951.026 1468.38 L951.026 1451.02 Z\" fill=\"#000000\" fill-rule=\"nonzero\" fill-opacity=\"1\" /><path clip-path=\"url(#clip220)\" d=\"M1541.89 1481.64 L1549.53 1481.64 L1549.53 1455.28 L1541.22 1456.95 L1541.22 1452.69 L1549.49 1451.02 L1554.16 1451.02 L1554.16 1481.64 L1561.8 1481.64 L1561.8 1485.58 L1541.89 1485.58 L1541.89 1481.64 Z\" fill=\"#000000\" fill-rule=\"nonzero\" fill-opacity=\"1\" /><path clip-path=\"url(#clip220)\" d=\"M1571.25 1479.7 L1576.13 1479.7 L1576.13 1485.58 L1571.25 1485.58 L1571.25 1479.7 Z\" fill=\"#000000\" fill-rule=\"nonzero\" fill-opacity=\"1\" /><path clip-path=\"url(#clip220)\" d=\"M1596.32 1454.1 Q1592.7 1454.1 1590.88 1457.66 Q1589.07 1461.2 1589.07 1468.33 Q1589.07 1475.44 1590.88 1479.01 Q1592.7 1482.55 1596.32 1482.55 Q1599.95 1482.55 1601.75 1479.01 Q1603.58 1475.44 1603.58 1468.33 Q1603.58 1461.2 1601.75 1457.66 Q1599.95 1454.1 1596.32 1454.1 M1596.32 1450.39 Q1602.13 1450.39 1605.18 1455 Q1608.26 1459.58 1608.26 1468.33 Q1608.26 1477.06 1605.18 1481.67 Q1602.13 1486.25 1596.32 1486.25 Q1590.5 1486.25 1587.43 1481.67 Q1584.37 1477.06 1584.37 1468.33 Q1584.37 1459.58 1587.43 1455 Q1590.5 1450.39 1596.32 1450.39 Z\" fill=\"#000000\" fill-rule=\"nonzero\" fill-opacity=\"1\" /><path clip-path=\"url(#clip220)\" d=\"M2179.27 1481.64 L2186.91 1481.64 L2186.91 1455.28 L2178.6 1456.95 L2178.6 1452.69 L2186.86 1451.02 L2191.54 1451.02 L2191.54 1481.64 L2199.17 1481.64 L2199.17 1485.58 L2179.27 1485.58 L2179.27 1481.64 Z\" fill=\"#000000\" fill-rule=\"nonzero\" fill-opacity=\"1\" /><path clip-path=\"url(#clip220)\" d=\"M2208.62 1479.7 L2213.5 1479.7 L2213.5 1485.58 L2208.62 1485.58 L2208.62 1479.7 Z\" fill=\"#000000\" fill-rule=\"nonzero\" fill-opacity=\"1\" /><path clip-path=\"url(#clip220)\" d=\"M2223.73 1451.02 L2242.09 1451.02 L2242.09 1454.96 L2228.02 1454.96 L2228.02 1463.43 Q2229.03 1463.08 2230.05 1462.92 Q2231.07 1462.73 2232.09 1462.73 Q2237.88 1462.73 2241.26 1465.9 Q2244.64 1469.08 2244.64 1474.49 Q2244.64 1480.07 2241.16 1483.17 Q2237.69 1486.25 2231.37 1486.25 Q2229.2 1486.25 2226.93 1485.88 Q2224.68 1485.51 2222.28 1484.77 L2222.28 1480.07 Q2224.36 1481.2 2226.58 1481.76 Q2228.8 1482.32 2231.28 1482.32 Q2235.28 1482.32 2237.62 1480.21 Q2239.96 1478.1 2239.96 1474.49 Q2239.96 1470.88 2237.62 1468.77 Q2235.28 1466.67 2231.28 1466.67 Q2229.41 1466.67 2227.53 1467.08 Q2225.68 1467.5 2223.73 1468.38 L2223.73 1451.02 Z\" fill=\"#000000\" fill-rule=\"nonzero\" fill-opacity=\"1\" /><path clip-path=\"url(#clip220)\" d=\"M1287.88 1532.4 L1315.7 1532.4 L1315.7 1537.74 L1293.67 1563.37 L1315.7 1563.37 L1315.7 1568.04 L1287.09 1568.04 L1287.09 1562.7 L1309.11 1537.07 L1287.88 1537.07 L1287.88 1532.4 Z\" fill=\"#000000\" fill-rule=\"nonzero\" fill-opacity=\"1\" /><polyline clip-path=\"url(#clip220)\" style=\"stroke:#000000; stroke-linecap:round; stroke-linejoin:round; stroke-width:4; stroke-opacity:1; fill:none\" points=\"250.028,1423.18 250.028,47.2441 \"/>\n",
       "<polyline clip-path=\"url(#clip220)\" style=\"stroke:#000000; stroke-linecap:round; stroke-linejoin:round; stroke-width:4; stroke-opacity:1; fill:none\" points=\"250.028,1199.91 268.926,1199.91 \"/>\n",
       "<polyline clip-path=\"url(#clip220)\" style=\"stroke:#000000; stroke-linecap:round; stroke-linejoin:round; stroke-width:4; stroke-opacity:1; fill:none\" points=\"250.028,913.901 268.926,913.901 \"/>\n",
       "<polyline clip-path=\"url(#clip220)\" style=\"stroke:#000000; stroke-linecap:round; stroke-linejoin:round; stroke-width:4; stroke-opacity:1; fill:none\" points=\"250.028,627.891 268.926,627.891 \"/>\n",
       "<polyline clip-path=\"url(#clip220)\" style=\"stroke:#000000; stroke-linecap:round; stroke-linejoin:round; stroke-width:4; stroke-opacity:1; fill:none\" points=\"250.028,341.88 268.926,341.88 \"/>\n",
       "<polyline clip-path=\"url(#clip220)\" style=\"stroke:#000000; stroke-linecap:round; stroke-linejoin:round; stroke-width:4; stroke-opacity:1; fill:none\" points=\"250.028,55.8695 268.926,55.8695 \"/>\n",
       "<path clip-path=\"url(#clip220)\" d=\"M128.288 1185.71 Q124.677 1185.71 122.848 1189.28 Q121.043 1192.82 121.043 1199.95 Q121.043 1207.05 122.848 1210.62 Q124.677 1214.16 128.288 1214.16 Q131.922 1214.16 133.728 1210.62 Q135.556 1207.05 135.556 1199.95 Q135.556 1192.82 133.728 1189.28 Q131.922 1185.71 128.288 1185.71 M128.288 1182.01 Q134.098 1182.01 137.154 1186.61 Q140.232 1191.2 140.232 1199.95 Q140.232 1208.67 137.154 1213.28 Q134.098 1217.86 128.288 1217.86 Q122.478 1217.86 119.399 1213.28 Q116.343 1208.67 116.343 1199.95 Q116.343 1191.2 119.399 1186.61 Q122.478 1182.01 128.288 1182.01 Z\" fill=\"#000000\" fill-rule=\"nonzero\" fill-opacity=\"1\" /><path clip-path=\"url(#clip220)\" d=\"M148.45 1211.31 L153.334 1211.31 L153.334 1217.19 L148.45 1217.19 L148.45 1211.31 Z\" fill=\"#000000\" fill-rule=\"nonzero\" fill-opacity=\"1\" /><path clip-path=\"url(#clip220)\" d=\"M162.339 1182.63 L184.561 1182.63 L184.561 1184.62 L172.014 1217.19 L167.13 1217.19 L178.936 1186.57 L162.339 1186.57 L162.339 1182.63 Z\" fill=\"#000000\" fill-rule=\"nonzero\" fill-opacity=\"1\" /><path clip-path=\"url(#clip220)\" d=\"M197.709 1213.26 L214.028 1213.26 L214.028 1217.19 L192.084 1217.19 L192.084 1213.26 Q194.746 1210.5 199.329 1205.87 Q203.936 1201.22 205.116 1199.88 Q207.362 1197.35 208.241 1195.62 Q209.144 1193.86 209.144 1192.17 Q209.144 1189.41 207.199 1187.68 Q205.278 1185.94 202.176 1185.94 Q199.977 1185.94 197.524 1186.71 Q195.093 1187.47 192.315 1189.02 L192.315 1184.3 Q195.139 1183.16 197.593 1182.59 Q200.047 1182.01 202.084 1182.01 Q207.454 1182.01 210.649 1184.69 Q213.843 1187.38 213.843 1191.87 Q213.843 1194 213.033 1195.92 Q212.246 1197.82 210.139 1200.41 Q209.561 1201.08 206.459 1204.3 Q203.357 1207.49 197.709 1213.26 Z\" fill=\"#000000\" fill-rule=\"nonzero\" fill-opacity=\"1\" /><path clip-path=\"url(#clip220)\" d=\"M126.205 899.7 Q122.593 899.7 120.765 903.265 Q118.959 906.806 118.959 913.936 Q118.959 921.042 120.765 924.607 Q122.593 928.149 126.205 928.149 Q129.839 928.149 131.644 924.607 Q133.473 921.042 133.473 913.936 Q133.473 906.806 131.644 903.265 Q129.839 899.7 126.205 899.7 M126.205 895.996 Q132.015 895.996 135.07 900.603 Q138.149 905.186 138.149 913.936 Q138.149 922.663 135.07 927.269 Q132.015 931.852 126.205 931.852 Q120.394 931.852 117.316 927.269 Q114.26 922.663 114.26 913.936 Q114.26 905.186 117.316 900.603 Q120.394 895.996 126.205 895.996 Z\" fill=\"#000000\" fill-rule=\"nonzero\" fill-opacity=\"1\" /><path clip-path=\"url(#clip220)\" d=\"M146.366 925.302 L151.251 925.302 L151.251 931.181 L146.366 931.181 L146.366 925.302 Z\" fill=\"#000000\" fill-rule=\"nonzero\" fill-opacity=\"1\" /><path clip-path=\"url(#clip220)\" d=\"M160.255 896.621 L182.477 896.621 L182.477 898.612 L169.931 931.181 L165.047 931.181 L176.852 900.556 L160.255 900.556 L160.255 896.621 Z\" fill=\"#000000\" fill-rule=\"nonzero\" fill-opacity=\"1\" /><path clip-path=\"url(#clip220)\" d=\"M204.445 900.695 L192.639 919.144 L204.445 919.144 L204.445 900.695 M203.218 896.621 L209.098 896.621 L209.098 919.144 L214.028 919.144 L214.028 923.033 L209.098 923.033 L209.098 931.181 L204.445 931.181 L204.445 923.033 L188.843 923.033 L188.843 918.519 L203.218 896.621 Z\" fill=\"#000000\" fill-rule=\"nonzero\" fill-opacity=\"1\" /><path clip-path=\"url(#clip220)\" d=\"M126.529 613.689 Q122.918 613.689 121.089 617.254 Q119.283 620.796 119.283 627.925 Q119.283 635.032 121.089 638.597 Q122.918 642.138 126.529 642.138 Q130.163 642.138 131.968 638.597 Q133.797 635.032 133.797 627.925 Q133.797 620.796 131.968 617.254 Q130.163 613.689 126.529 613.689 M126.529 609.986 Q132.339 609.986 135.394 614.592 Q138.473 619.175 138.473 627.925 Q138.473 636.652 135.394 641.259 Q132.339 645.842 126.529 645.842 Q120.718 645.842 117.64 641.259 Q114.584 636.652 114.584 627.925 Q114.584 619.175 117.64 614.592 Q120.718 609.986 126.529 609.986 Z\" fill=\"#000000\" fill-rule=\"nonzero\" fill-opacity=\"1\" /><path clip-path=\"url(#clip220)\" d=\"M146.691 639.291 L151.575 639.291 L151.575 645.171 L146.691 645.171 L146.691 639.291 Z\" fill=\"#000000\" fill-rule=\"nonzero\" fill-opacity=\"1\" /><path clip-path=\"url(#clip220)\" d=\"M160.579 610.611 L182.801 610.611 L182.801 612.601 L170.255 645.171 L165.371 645.171 L177.176 614.546 L160.579 614.546 L160.579 610.611 Z\" fill=\"#000000\" fill-rule=\"nonzero\" fill-opacity=\"1\" /><path clip-path=\"url(#clip220)\" d=\"M202.5 626.027 Q199.352 626.027 197.5 628.18 Q195.672 630.333 195.672 634.083 Q195.672 637.81 197.5 639.985 Q199.352 642.138 202.5 642.138 Q205.649 642.138 207.477 639.985 Q209.329 637.81 209.329 634.083 Q209.329 630.333 207.477 628.18 Q205.649 626.027 202.5 626.027 M211.783 611.374 L211.783 615.634 Q210.024 614.8 208.218 614.361 Q206.436 613.921 204.676 613.921 Q200.047 613.921 197.593 617.046 Q195.163 620.171 194.815 626.49 Q196.181 624.476 198.241 623.411 Q200.301 622.324 202.778 622.324 Q207.987 622.324 210.996 625.495 Q214.028 628.643 214.028 634.083 Q214.028 639.407 210.88 642.624 Q207.732 645.842 202.5 645.842 Q196.505 645.842 193.334 641.259 Q190.163 636.652 190.163 627.925 Q190.163 619.731 194.051 614.87 Q197.94 609.986 204.491 609.986 Q206.25 609.986 208.033 610.333 Q209.838 610.68 211.783 611.374 Z\" fill=\"#000000\" fill-rule=\"nonzero\" fill-opacity=\"1\" /><path clip-path=\"url(#clip220)\" d=\"M126.783 327.679 Q123.172 327.679 121.343 331.244 Q119.538 334.785 119.538 341.915 Q119.538 349.021 121.343 352.586 Q123.172 356.128 126.783 356.128 Q130.417 356.128 132.223 352.586 Q134.052 349.021 134.052 341.915 Q134.052 334.785 132.223 331.244 Q130.417 327.679 126.783 327.679 M126.783 323.975 Q132.593 323.975 135.649 328.582 Q138.728 333.165 138.728 341.915 Q138.728 350.642 135.649 355.248 Q132.593 359.831 126.783 359.831 Q120.973 359.831 117.894 355.248 Q114.839 350.642 114.839 341.915 Q114.839 333.165 117.894 328.582 Q120.973 323.975 126.783 323.975 Z\" fill=\"#000000\" fill-rule=\"nonzero\" fill-opacity=\"1\" /><path clip-path=\"url(#clip220)\" d=\"M146.945 353.28 L151.829 353.28 L151.829 359.16 L146.945 359.16 L146.945 353.28 Z\" fill=\"#000000\" fill-rule=\"nonzero\" fill-opacity=\"1\" /><path clip-path=\"url(#clip220)\" d=\"M160.834 324.6 L183.056 324.6 L183.056 326.591 L170.51 359.16 L165.626 359.16 L177.431 328.535 L160.834 328.535 L160.834 324.6 Z\" fill=\"#000000\" fill-rule=\"nonzero\" fill-opacity=\"1\" /><path clip-path=\"url(#clip220)\" d=\"M202.176 342.748 Q198.843 342.748 196.922 344.531 Q195.024 346.313 195.024 349.438 Q195.024 352.563 196.922 354.345 Q198.843 356.128 202.176 356.128 Q205.51 356.128 207.431 354.345 Q209.352 352.54 209.352 349.438 Q209.352 346.313 207.431 344.531 Q205.533 342.748 202.176 342.748 M197.5 340.757 Q194.491 340.017 192.801 337.956 Q191.135 335.896 191.135 332.933 Q191.135 328.79 194.075 326.382 Q197.037 323.975 202.176 323.975 Q207.338 323.975 210.278 326.382 Q213.218 328.79 213.218 332.933 Q213.218 335.896 211.528 337.956 Q209.861 340.017 206.875 340.757 Q210.255 341.544 212.13 343.836 Q214.028 346.128 214.028 349.438 Q214.028 354.461 210.949 357.146 Q207.894 359.831 202.176 359.831 Q196.459 359.831 193.38 357.146 Q190.325 354.461 190.325 349.438 Q190.325 346.128 192.223 343.836 Q194.121 341.544 197.5 340.757 M195.787 333.373 Q195.787 336.058 197.454 337.563 Q199.144 339.068 202.176 339.068 Q205.186 339.068 206.875 337.563 Q208.588 336.058 208.588 333.373 Q208.588 330.688 206.875 329.183 Q205.186 327.679 202.176 327.679 Q199.144 327.679 197.454 329.183 Q195.787 330.688 195.787 333.373 Z\" fill=\"#000000\" fill-rule=\"nonzero\" fill-opacity=\"1\" /><path clip-path=\"url(#clip220)\" d=\"M126.691 41.6682 Q123.08 41.6682 121.251 45.233 Q119.445 48.7747 119.445 55.9043 Q119.445 63.0107 121.251 66.5755 Q123.08 70.1172 126.691 70.1172 Q130.325 70.1172 132.13 66.5755 Q133.959 63.0107 133.959 55.9043 Q133.959 48.7747 132.13 45.233 Q130.325 41.6682 126.691 41.6682 M126.691 37.9645 Q132.501 37.9645 135.556 42.571 Q138.635 47.1543 138.635 55.9043 Q138.635 64.6311 135.556 69.2375 Q132.501 73.8208 126.691 73.8208 Q120.88 73.8208 117.802 69.2375 Q114.746 64.6311 114.746 55.9043 Q114.746 47.1543 117.802 42.571 Q120.88 37.9645 126.691 37.9645 Z\" fill=\"#000000\" fill-rule=\"nonzero\" fill-opacity=\"1\" /><path clip-path=\"url(#clip220)\" d=\"M146.853 67.2699 L151.737 67.2699 L151.737 73.1495 L146.853 73.1495 L146.853 67.2699 Z\" fill=\"#000000\" fill-rule=\"nonzero\" fill-opacity=\"1\" /><path clip-path=\"url(#clip220)\" d=\"M171.922 56.7376 Q168.589 56.7376 166.667 58.52 Q164.769 60.3024 164.769 63.4274 Q164.769 66.5524 166.667 68.3348 Q168.589 70.1172 171.922 70.1172 Q175.255 70.1172 177.176 68.3348 Q179.098 66.5292 179.098 63.4274 Q179.098 60.3024 177.176 58.52 Q175.278 56.7376 171.922 56.7376 M167.246 54.7469 Q164.237 54.0061 162.547 51.946 Q160.88 49.8858 160.88 46.9228 Q160.88 42.7793 163.82 40.3719 Q166.783 37.9645 171.922 37.9645 Q177.084 37.9645 180.024 40.3719 Q182.963 42.7793 182.963 46.9228 Q182.963 49.8858 181.274 51.946 Q179.607 54.0061 176.621 54.7469 Q180.001 55.5339 181.876 57.8256 Q183.774 60.1172 183.774 63.4274 Q183.774 68.4505 180.695 71.1357 Q177.639 73.8208 171.922 73.8208 Q166.204 73.8208 163.126 71.1357 Q160.07 68.4505 160.07 63.4274 Q160.07 60.1172 161.968 57.8256 Q163.866 55.5339 167.246 54.7469 M165.533 47.3626 Q165.533 50.0478 167.2 51.5524 Q168.889 53.0571 171.922 53.0571 Q174.931 53.0571 176.621 51.5524 Q178.334 50.0478 178.334 47.3626 Q178.334 44.6775 176.621 43.1729 Q174.931 41.6682 171.922 41.6682 Q168.889 41.6682 167.2 43.1729 Q165.533 44.6775 165.533 47.3626 Z\" fill=\"#000000\" fill-rule=\"nonzero\" fill-opacity=\"1\" /><path clip-path=\"url(#clip220)\" d=\"M202.084 41.6682 Q198.473 41.6682 196.644 45.233 Q194.838 48.7747 194.838 55.9043 Q194.838 63.0107 196.644 66.5755 Q198.473 70.1172 202.084 70.1172 Q205.718 70.1172 207.524 66.5755 Q209.352 63.0107 209.352 55.9043 Q209.352 48.7747 207.524 45.233 Q205.718 41.6682 202.084 41.6682 M202.084 37.9645 Q207.894 37.9645 210.949 42.571 Q214.028 47.1543 214.028 55.9043 Q214.028 64.6311 210.949 69.2375 Q207.894 73.8208 202.084 73.8208 Q196.274 73.8208 193.195 69.2375 Q190.139 64.6311 190.139 55.9043 Q190.139 47.1543 193.195 42.571 Q196.274 37.9645 202.084 37.9645 Z\" fill=\"#000000\" fill-rule=\"nonzero\" fill-opacity=\"1\" /><path clip-path=\"url(#clip220)\" d=\"M14.479 723.865 L19.3487 723.865 L19.3487 729.467 Q19.3487 732.618 20.6219 733.859 Q21.895 735.069 25.2052 735.069 L28.3562 735.069 L28.3562 725.425 L32.9077 725.425 L32.9077 735.069 L64.0042 735.069 L64.0042 740.957 L32.9077 740.957 L32.9077 746.559 L28.3562 746.559 L28.3562 740.957 L25.8736 740.957 Q19.9216 740.957 17.2162 738.188 Q14.479 735.419 14.479 729.403 L14.479 723.865 Z\" fill=\"#000000\" fill-rule=\"nonzero\" fill-opacity=\"1\" /><circle clip-path=\"url(#clip222)\" cx=\"1301.39\" cy=\"765.721\" r=\"14.4\" fill=\"#009af9\" fill-rule=\"evenodd\" fill-opacity=\"1\" stroke=\"#000000\" stroke-opacity=\"1\" stroke-width=\"3.2\"/>\n",
       "<circle clip-path=\"url(#clip222)\" cx=\"1093.52\" cy=\"970.289\" r=\"14.4\" fill=\"#009af9\" fill-rule=\"evenodd\" fill-opacity=\"1\" stroke=\"#000000\" stroke-opacity=\"1\" stroke-width=\"3.2\"/>\n",
       "<circle clip-path=\"url(#clip222)\" cx=\"1509.26\" cy=\"554.892\" r=\"14.4\" fill=\"#009af9\" fill-rule=\"evenodd\" fill-opacity=\"1\" stroke=\"#000000\" stroke-opacity=\"1\" stroke-width=\"3.2\"/>\n",
       "<circle clip-path=\"url(#clip222)\" cx=\"351.904\" cy=\"1382.4\" r=\"14.4\" fill=\"#009af9\" fill-rule=\"evenodd\" fill-opacity=\"1\" stroke=\"#000000\" stroke-opacity=\"1\" stroke-width=\"3.2\"/>\n",
       "<circle clip-path=\"url(#clip222)\" cx=\"2250.88\" cy=\"88.3985\" r=\"14.4\" fill=\"#009af9\" fill-rule=\"evenodd\" fill-opacity=\"1\" stroke=\"#000000\" stroke-opacity=\"1\" stroke-width=\"3.2\"/>\n",
       "<circle clip-path=\"url(#clip222)\" cx=\"309.539\" cy=\"1384.24\" r=\"14.4\" fill=\"#009af9\" fill-rule=\"evenodd\" fill-opacity=\"1\" stroke=\"#000000\" stroke-opacity=\"1\" stroke-width=\"3.2\"/>\n",
       "<circle clip-path=\"url(#clip222)\" cx=\"2293.24\" cy=\"86.1857\" r=\"14.4\" fill=\"#009af9\" fill-rule=\"evenodd\" fill-opacity=\"1\" stroke=\"#000000\" stroke-opacity=\"1\" stroke-width=\"3.2\"/>\n",
       "<circle clip-path=\"url(#clip222)\" cx=\"559.564\" cy=\"1336.09\" r=\"14.4\" fill=\"#009af9\" fill-rule=\"evenodd\" fill-opacity=\"1\" stroke=\"#000000\" stroke-opacity=\"1\" stroke-width=\"3.2\"/>\n",
       "<circle clip-path=\"url(#clip222)\" cx=\"2043.22\" cy=\"143.863\" r=\"14.4\" fill=\"#009af9\" fill-rule=\"evenodd\" fill-opacity=\"1\" stroke=\"#000000\" stroke-opacity=\"1\" stroke-width=\"3.2\"/>\n",
       "<circle clip-path=\"url(#clip222)\" cx=\"436.181\" cy=\"1371.02\" r=\"14.4\" fill=\"#009af9\" fill-rule=\"evenodd\" fill-opacity=\"1\" stroke=\"#000000\" stroke-opacity=\"1\" stroke-width=\"3.2\"/>\n",
       "<circle clip-path=\"url(#clip222)\" cx=\"2166.6\" cy=\"102.11\" r=\"14.4\" fill=\"#009af9\" fill-rule=\"evenodd\" fill-opacity=\"1\" stroke=\"#000000\" stroke-opacity=\"1\" stroke-width=\"3.2\"/>\n",
       "<circle clip-path=\"url(#clip222)\" cx=\"895.384\" cy=\"1140.7\" r=\"14.4\" fill=\"#009af9\" fill-rule=\"evenodd\" fill-opacity=\"1\" stroke=\"#000000\" stroke-opacity=\"1\" stroke-width=\"3.2\"/>\n",
       "<circle clip-path=\"url(#clip222)\" cx=\"1707.4\" cy=\"369.152\" r=\"14.4\" fill=\"#009af9\" fill-rule=\"evenodd\" fill-opacity=\"1\" stroke=\"#000000\" stroke-opacity=\"1\" stroke-width=\"3.2\"/>\n",
       "<circle clip-path=\"url(#clip222)\" cx=\"715.07\" cy=\"1262.64\" r=\"14.4\" fill=\"#009af9\" fill-rule=\"evenodd\" fill-opacity=\"1\" stroke=\"#000000\" stroke-opacity=\"1\" stroke-width=\"3.2\"/>\n",
       "<circle clip-path=\"url(#clip222)\" cx=\"1887.71\" cy=\"230.165\" r=\"14.4\" fill=\"#009af9\" fill-rule=\"evenodd\" fill-opacity=\"1\" stroke=\"#000000\" stroke-opacity=\"1\" stroke-width=\"3.2\"/>\n",
       "</svg>\n"
      ],
      "text/html": [
       "<?xml version=\"1.0\" encoding=\"utf-8\"?>\n",
       "<svg xmlns=\"http://www.w3.org/2000/svg\" xmlns:xlink=\"http://www.w3.org/1999/xlink\" width=\"600\" height=\"400\" viewBox=\"0 0 2400 1600\">\n",
       "<defs>\n",
       "  <clipPath id=\"clip270\">\n",
       "    <rect x=\"0\" y=\"0\" width=\"2400\" height=\"1600\"/>\n",
       "  </clipPath>\n",
       "</defs>\n",
       "<path clip-path=\"url(#clip270)\" d=\"M0 1600 L2400 1600 L2400 8.88178e-14 L0 8.88178e-14  Z\" fill=\"#ffffff\" fill-rule=\"evenodd\" fill-opacity=\"1\"/>\n",
       "<defs>\n",
       "  <clipPath id=\"clip271\">\n",
       "    <rect x=\"480\" y=\"0\" width=\"1681\" height=\"1600\"/>\n",
       "  </clipPath>\n",
       "</defs>\n",
       "<path clip-path=\"url(#clip270)\" d=\"M250.028 1423.18 L2352.76 1423.18 L2352.76 47.2441 L250.028 47.2441  Z\" fill=\"#ffffff\" fill-rule=\"evenodd\" fill-opacity=\"1\"/>\n",
       "<defs>\n",
       "  <clipPath id=\"clip272\">\n",
       "    <rect x=\"250\" y=\"47\" width=\"2104\" height=\"1377\"/>\n",
       "  </clipPath>\n",
       "</defs>\n",
       "<polyline clip-path=\"url(#clip272)\" style=\"stroke:#000000; stroke-linecap:round; stroke-linejoin:round; stroke-width:2; stroke-opacity:0.1; fill:none\" points=\"300.991,1423.18 300.991,47.2441 \"/>\n",
       "<polyline clip-path=\"url(#clip272)\" style=\"stroke:#000000; stroke-linecap:round; stroke-linejoin:round; stroke-width:2; stroke-opacity:0.1; fill:none\" points=\"937.866,1423.18 937.866,47.2441 \"/>\n",
       "<polyline clip-path=\"url(#clip272)\" style=\"stroke:#000000; stroke-linecap:round; stroke-linejoin:round; stroke-width:2; stroke-opacity:0.1; fill:none\" points=\"1574.74,1423.18 1574.74,47.2441 \"/>\n",
       "<polyline clip-path=\"url(#clip272)\" style=\"stroke:#000000; stroke-linecap:round; stroke-linejoin:round; stroke-width:2; stroke-opacity:0.1; fill:none\" points=\"2211.62,1423.18 2211.62,47.2441 \"/>\n",
       "<polyline clip-path=\"url(#clip272)\" style=\"stroke:#000000; stroke-linecap:round; stroke-linejoin:round; stroke-width:2; stroke-opacity:0.1; fill:none\" points=\"250.028,1199.91 2352.76,1199.91 \"/>\n",
       "<polyline clip-path=\"url(#clip272)\" style=\"stroke:#000000; stroke-linecap:round; stroke-linejoin:round; stroke-width:2; stroke-opacity:0.1; fill:none\" points=\"250.028,913.901 2352.76,913.901 \"/>\n",
       "<polyline clip-path=\"url(#clip272)\" style=\"stroke:#000000; stroke-linecap:round; stroke-linejoin:round; stroke-width:2; stroke-opacity:0.1; fill:none\" points=\"250.028,627.891 2352.76,627.891 \"/>\n",
       "<polyline clip-path=\"url(#clip272)\" style=\"stroke:#000000; stroke-linecap:round; stroke-linejoin:round; stroke-width:2; stroke-opacity:0.1; fill:none\" points=\"250.028,341.88 2352.76,341.88 \"/>\n",
       "<polyline clip-path=\"url(#clip272)\" style=\"stroke:#000000; stroke-linecap:round; stroke-linejoin:round; stroke-width:2; stroke-opacity:0.1; fill:none\" points=\"250.028,55.8695 2352.76,55.8695 \"/>\n",
       "<polyline clip-path=\"url(#clip270)\" style=\"stroke:#000000; stroke-linecap:round; stroke-linejoin:round; stroke-width:4; stroke-opacity:1; fill:none\" points=\"250.028,1423.18 2352.76,1423.18 \"/>\n",
       "<polyline clip-path=\"url(#clip270)\" style=\"stroke:#000000; stroke-linecap:round; stroke-linejoin:round; stroke-width:4; stroke-opacity:1; fill:none\" points=\"300.991,1423.18 300.991,1404.28 \"/>\n",
       "<polyline clip-path=\"url(#clip270)\" style=\"stroke:#000000; stroke-linecap:round; stroke-linejoin:round; stroke-width:4; stroke-opacity:1; fill:none\" points=\"937.866,1423.18 937.866,1404.28 \"/>\n",
       "<polyline clip-path=\"url(#clip270)\" style=\"stroke:#000000; stroke-linecap:round; stroke-linejoin:round; stroke-width:4; stroke-opacity:1; fill:none\" points=\"1574.74,1423.18 1574.74,1404.28 \"/>\n",
       "<polyline clip-path=\"url(#clip270)\" style=\"stroke:#000000; stroke-linecap:round; stroke-linejoin:round; stroke-width:4; stroke-opacity:1; fill:none\" points=\"2211.62,1423.18 2211.62,1404.28 \"/>\n",
       "<path clip-path=\"url(#clip270)\" d=\"M278.376 1454.1 Q274.765 1454.1 272.936 1457.66 Q271.13 1461.2 271.13 1468.33 Q271.13 1475.44 272.936 1479.01 Q274.765 1482.55 278.376 1482.55 Q282.01 1482.55 283.815 1479.01 Q285.644 1475.44 285.644 1468.33 Q285.644 1461.2 283.815 1457.66 Q282.01 1454.1 278.376 1454.1 M278.376 1450.39 Q284.186 1450.39 287.241 1455 Q290.32 1459.58 290.32 1468.33 Q290.32 1477.06 287.241 1481.67 Q284.186 1486.25 278.376 1486.25 Q272.565 1486.25 269.487 1481.67 Q266.431 1477.06 266.431 1468.33 Q266.431 1459.58 269.487 1455 Q272.565 1450.39 278.376 1450.39 Z\" fill=\"#000000\" fill-rule=\"nonzero\" fill-opacity=\"1\" /><path clip-path=\"url(#clip270)\" d=\"M298.538 1479.7 L303.422 1479.7 L303.422 1485.58 L298.538 1485.58 L298.538 1479.7 Z\" fill=\"#000000\" fill-rule=\"nonzero\" fill-opacity=\"1\" /><path clip-path=\"url(#clip270)\" d=\"M323.607 1454.1 Q319.996 1454.1 318.167 1457.66 Q316.362 1461.2 316.362 1468.33 Q316.362 1475.44 318.167 1479.01 Q319.996 1482.55 323.607 1482.55 Q327.241 1482.55 329.047 1479.01 Q330.875 1475.44 330.875 1468.33 Q330.875 1461.2 329.047 1457.66 Q327.241 1454.1 323.607 1454.1 M323.607 1450.39 Q329.417 1450.39 332.473 1455 Q335.551 1459.58 335.551 1468.33 Q335.551 1477.06 332.473 1481.67 Q329.417 1486.25 323.607 1486.25 Q317.797 1486.25 314.718 1481.67 Q311.662 1477.06 311.662 1468.33 Q311.662 1459.58 314.718 1455 Q317.797 1450.39 323.607 1450.39 Z\" fill=\"#000000\" fill-rule=\"nonzero\" fill-opacity=\"1\" /><path clip-path=\"url(#clip270)\" d=\"M915.748 1454.1 Q912.137 1454.1 910.308 1457.66 Q908.503 1461.2 908.503 1468.33 Q908.503 1475.44 910.308 1479.01 Q912.137 1482.55 915.748 1482.55 Q919.382 1482.55 921.188 1479.01 Q923.017 1475.44 923.017 1468.33 Q923.017 1461.2 921.188 1457.66 Q919.382 1454.1 915.748 1454.1 M915.748 1450.39 Q921.558 1450.39 924.614 1455 Q927.693 1459.58 927.693 1468.33 Q927.693 1477.06 924.614 1481.67 Q921.558 1486.25 915.748 1486.25 Q909.938 1486.25 906.859 1481.67 Q903.804 1477.06 903.804 1468.33 Q903.804 1459.58 906.859 1455 Q909.938 1450.39 915.748 1450.39 Z\" fill=\"#000000\" fill-rule=\"nonzero\" fill-opacity=\"1\" /><path clip-path=\"url(#clip270)\" d=\"M935.91 1479.7 L940.794 1479.7 L940.794 1485.58 L935.91 1485.58 L935.91 1479.7 Z\" fill=\"#000000\" fill-rule=\"nonzero\" fill-opacity=\"1\" /><path clip-path=\"url(#clip270)\" d=\"M951.026 1451.02 L969.382 1451.02 L969.382 1454.96 L955.308 1454.96 L955.308 1463.43 Q956.327 1463.08 957.345 1462.92 Q958.364 1462.73 959.382 1462.73 Q965.169 1462.73 968.549 1465.9 Q971.928 1469.08 971.928 1474.49 Q971.928 1480.07 968.456 1483.17 Q964.984 1486.25 958.665 1486.25 Q956.489 1486.25 954.22 1485.88 Q951.975 1485.51 949.567 1484.77 L949.567 1480.07 Q951.651 1481.2 953.873 1481.76 Q956.095 1482.32 958.572 1482.32 Q962.577 1482.32 964.915 1480.21 Q967.253 1478.1 967.253 1474.49 Q967.253 1470.88 964.915 1468.77 Q962.577 1466.67 958.572 1466.67 Q956.697 1466.67 954.822 1467.08 Q952.97 1467.5 951.026 1468.38 L951.026 1451.02 Z\" fill=\"#000000\" fill-rule=\"nonzero\" fill-opacity=\"1\" /><path clip-path=\"url(#clip270)\" d=\"M1541.89 1481.64 L1549.53 1481.64 L1549.53 1455.28 L1541.22 1456.95 L1541.22 1452.69 L1549.49 1451.02 L1554.16 1451.02 L1554.16 1481.64 L1561.8 1481.64 L1561.8 1485.58 L1541.89 1485.58 L1541.89 1481.64 Z\" fill=\"#000000\" fill-rule=\"nonzero\" fill-opacity=\"1\" /><path clip-path=\"url(#clip270)\" d=\"M1571.25 1479.7 L1576.13 1479.7 L1576.13 1485.58 L1571.25 1485.58 L1571.25 1479.7 Z\" fill=\"#000000\" fill-rule=\"nonzero\" fill-opacity=\"1\" /><path clip-path=\"url(#clip270)\" d=\"M1596.32 1454.1 Q1592.7 1454.1 1590.88 1457.66 Q1589.07 1461.2 1589.07 1468.33 Q1589.07 1475.44 1590.88 1479.01 Q1592.7 1482.55 1596.32 1482.55 Q1599.95 1482.55 1601.75 1479.01 Q1603.58 1475.44 1603.58 1468.33 Q1603.58 1461.2 1601.75 1457.66 Q1599.95 1454.1 1596.32 1454.1 M1596.32 1450.39 Q1602.13 1450.39 1605.18 1455 Q1608.26 1459.58 1608.26 1468.33 Q1608.26 1477.06 1605.18 1481.67 Q1602.13 1486.25 1596.32 1486.25 Q1590.5 1486.25 1587.43 1481.67 Q1584.37 1477.06 1584.37 1468.33 Q1584.37 1459.58 1587.43 1455 Q1590.5 1450.39 1596.32 1450.39 Z\" fill=\"#000000\" fill-rule=\"nonzero\" fill-opacity=\"1\" /><path clip-path=\"url(#clip270)\" d=\"M2179.27 1481.64 L2186.91 1481.64 L2186.91 1455.28 L2178.6 1456.95 L2178.6 1452.69 L2186.86 1451.02 L2191.54 1451.02 L2191.54 1481.64 L2199.17 1481.64 L2199.17 1485.58 L2179.27 1485.58 L2179.27 1481.64 Z\" fill=\"#000000\" fill-rule=\"nonzero\" fill-opacity=\"1\" /><path clip-path=\"url(#clip270)\" d=\"M2208.62 1479.7 L2213.5 1479.7 L2213.5 1485.58 L2208.62 1485.58 L2208.62 1479.7 Z\" fill=\"#000000\" fill-rule=\"nonzero\" fill-opacity=\"1\" /><path clip-path=\"url(#clip270)\" d=\"M2223.73 1451.02 L2242.09 1451.02 L2242.09 1454.96 L2228.02 1454.96 L2228.02 1463.43 Q2229.03 1463.08 2230.05 1462.92 Q2231.07 1462.73 2232.09 1462.73 Q2237.88 1462.73 2241.26 1465.9 Q2244.64 1469.08 2244.64 1474.49 Q2244.64 1480.07 2241.16 1483.17 Q2237.69 1486.25 2231.37 1486.25 Q2229.2 1486.25 2226.93 1485.88 Q2224.68 1485.51 2222.28 1484.77 L2222.28 1480.07 Q2224.36 1481.2 2226.58 1481.76 Q2228.8 1482.32 2231.28 1482.32 Q2235.28 1482.32 2237.62 1480.21 Q2239.96 1478.1 2239.96 1474.49 Q2239.96 1470.88 2237.62 1468.77 Q2235.28 1466.67 2231.28 1466.67 Q2229.41 1466.67 2227.53 1467.08 Q2225.68 1467.5 2223.73 1468.38 L2223.73 1451.02 Z\" fill=\"#000000\" fill-rule=\"nonzero\" fill-opacity=\"1\" /><path clip-path=\"url(#clip270)\" d=\"M1287.88 1532.4 L1315.7 1532.4 L1315.7 1537.74 L1293.67 1563.37 L1315.7 1563.37 L1315.7 1568.04 L1287.09 1568.04 L1287.09 1562.7 L1309.11 1537.07 L1287.88 1537.07 L1287.88 1532.4 Z\" fill=\"#000000\" fill-rule=\"nonzero\" fill-opacity=\"1\" /><polyline clip-path=\"url(#clip270)\" style=\"stroke:#000000; stroke-linecap:round; stroke-linejoin:round; stroke-width:4; stroke-opacity:1; fill:none\" points=\"250.028,1423.18 250.028,47.2441 \"/>\n",
       "<polyline clip-path=\"url(#clip270)\" style=\"stroke:#000000; stroke-linecap:round; stroke-linejoin:round; stroke-width:4; stroke-opacity:1; fill:none\" points=\"250.028,1199.91 268.926,1199.91 \"/>\n",
       "<polyline clip-path=\"url(#clip270)\" style=\"stroke:#000000; stroke-linecap:round; stroke-linejoin:round; stroke-width:4; stroke-opacity:1; fill:none\" points=\"250.028,913.901 268.926,913.901 \"/>\n",
       "<polyline clip-path=\"url(#clip270)\" style=\"stroke:#000000; stroke-linecap:round; stroke-linejoin:round; stroke-width:4; stroke-opacity:1; fill:none\" points=\"250.028,627.891 268.926,627.891 \"/>\n",
       "<polyline clip-path=\"url(#clip270)\" style=\"stroke:#000000; stroke-linecap:round; stroke-linejoin:round; stroke-width:4; stroke-opacity:1; fill:none\" points=\"250.028,341.88 268.926,341.88 \"/>\n",
       "<polyline clip-path=\"url(#clip270)\" style=\"stroke:#000000; stroke-linecap:round; stroke-linejoin:round; stroke-width:4; stroke-opacity:1; fill:none\" points=\"250.028,55.8695 268.926,55.8695 \"/>\n",
       "<path clip-path=\"url(#clip270)\" d=\"M128.288 1185.71 Q124.677 1185.71 122.848 1189.28 Q121.043 1192.82 121.043 1199.95 Q121.043 1207.05 122.848 1210.62 Q124.677 1214.16 128.288 1214.16 Q131.922 1214.16 133.728 1210.62 Q135.556 1207.05 135.556 1199.95 Q135.556 1192.82 133.728 1189.28 Q131.922 1185.71 128.288 1185.71 M128.288 1182.01 Q134.098 1182.01 137.154 1186.61 Q140.232 1191.2 140.232 1199.95 Q140.232 1208.67 137.154 1213.28 Q134.098 1217.86 128.288 1217.86 Q122.478 1217.86 119.399 1213.28 Q116.343 1208.67 116.343 1199.95 Q116.343 1191.2 119.399 1186.61 Q122.478 1182.01 128.288 1182.01 Z\" fill=\"#000000\" fill-rule=\"nonzero\" fill-opacity=\"1\" /><path clip-path=\"url(#clip270)\" d=\"M148.45 1211.31 L153.334 1211.31 L153.334 1217.19 L148.45 1217.19 L148.45 1211.31 Z\" fill=\"#000000\" fill-rule=\"nonzero\" fill-opacity=\"1\" /><path clip-path=\"url(#clip270)\" d=\"M162.339 1182.63 L184.561 1182.63 L184.561 1184.62 L172.014 1217.19 L167.13 1217.19 L178.936 1186.57 L162.339 1186.57 L162.339 1182.63 Z\" fill=\"#000000\" fill-rule=\"nonzero\" fill-opacity=\"1\" /><path clip-path=\"url(#clip270)\" d=\"M197.709 1213.26 L214.028 1213.26 L214.028 1217.19 L192.084 1217.19 L192.084 1213.26 Q194.746 1210.5 199.329 1205.87 Q203.936 1201.22 205.116 1199.88 Q207.362 1197.35 208.241 1195.62 Q209.144 1193.86 209.144 1192.17 Q209.144 1189.41 207.199 1187.68 Q205.278 1185.94 202.176 1185.94 Q199.977 1185.94 197.524 1186.71 Q195.093 1187.47 192.315 1189.02 L192.315 1184.3 Q195.139 1183.16 197.593 1182.59 Q200.047 1182.01 202.084 1182.01 Q207.454 1182.01 210.649 1184.69 Q213.843 1187.38 213.843 1191.87 Q213.843 1194 213.033 1195.92 Q212.246 1197.82 210.139 1200.41 Q209.561 1201.08 206.459 1204.3 Q203.357 1207.49 197.709 1213.26 Z\" fill=\"#000000\" fill-rule=\"nonzero\" fill-opacity=\"1\" /><path clip-path=\"url(#clip270)\" d=\"M126.205 899.7 Q122.593 899.7 120.765 903.265 Q118.959 906.806 118.959 913.936 Q118.959 921.042 120.765 924.607 Q122.593 928.149 126.205 928.149 Q129.839 928.149 131.644 924.607 Q133.473 921.042 133.473 913.936 Q133.473 906.806 131.644 903.265 Q129.839 899.7 126.205 899.7 M126.205 895.996 Q132.015 895.996 135.07 900.603 Q138.149 905.186 138.149 913.936 Q138.149 922.663 135.07 927.269 Q132.015 931.852 126.205 931.852 Q120.394 931.852 117.316 927.269 Q114.26 922.663 114.26 913.936 Q114.26 905.186 117.316 900.603 Q120.394 895.996 126.205 895.996 Z\" fill=\"#000000\" fill-rule=\"nonzero\" fill-opacity=\"1\" /><path clip-path=\"url(#clip270)\" d=\"M146.366 925.302 L151.251 925.302 L151.251 931.181 L146.366 931.181 L146.366 925.302 Z\" fill=\"#000000\" fill-rule=\"nonzero\" fill-opacity=\"1\" /><path clip-path=\"url(#clip270)\" d=\"M160.255 896.621 L182.477 896.621 L182.477 898.612 L169.931 931.181 L165.047 931.181 L176.852 900.556 L160.255 900.556 L160.255 896.621 Z\" fill=\"#000000\" fill-rule=\"nonzero\" fill-opacity=\"1\" /><path clip-path=\"url(#clip270)\" d=\"M204.445 900.695 L192.639 919.144 L204.445 919.144 L204.445 900.695 M203.218 896.621 L209.098 896.621 L209.098 919.144 L214.028 919.144 L214.028 923.033 L209.098 923.033 L209.098 931.181 L204.445 931.181 L204.445 923.033 L188.843 923.033 L188.843 918.519 L203.218 896.621 Z\" fill=\"#000000\" fill-rule=\"nonzero\" fill-opacity=\"1\" /><path clip-path=\"url(#clip270)\" d=\"M126.529 613.689 Q122.918 613.689 121.089 617.254 Q119.283 620.796 119.283 627.925 Q119.283 635.032 121.089 638.597 Q122.918 642.138 126.529 642.138 Q130.163 642.138 131.968 638.597 Q133.797 635.032 133.797 627.925 Q133.797 620.796 131.968 617.254 Q130.163 613.689 126.529 613.689 M126.529 609.986 Q132.339 609.986 135.394 614.592 Q138.473 619.175 138.473 627.925 Q138.473 636.652 135.394 641.259 Q132.339 645.842 126.529 645.842 Q120.718 645.842 117.64 641.259 Q114.584 636.652 114.584 627.925 Q114.584 619.175 117.64 614.592 Q120.718 609.986 126.529 609.986 Z\" fill=\"#000000\" fill-rule=\"nonzero\" fill-opacity=\"1\" /><path clip-path=\"url(#clip270)\" d=\"M146.691 639.291 L151.575 639.291 L151.575 645.171 L146.691 645.171 L146.691 639.291 Z\" fill=\"#000000\" fill-rule=\"nonzero\" fill-opacity=\"1\" /><path clip-path=\"url(#clip270)\" d=\"M160.579 610.611 L182.801 610.611 L182.801 612.601 L170.255 645.171 L165.371 645.171 L177.176 614.546 L160.579 614.546 L160.579 610.611 Z\" fill=\"#000000\" fill-rule=\"nonzero\" fill-opacity=\"1\" /><path clip-path=\"url(#clip270)\" d=\"M202.5 626.027 Q199.352 626.027 197.5 628.18 Q195.672 630.333 195.672 634.083 Q195.672 637.81 197.5 639.985 Q199.352 642.138 202.5 642.138 Q205.649 642.138 207.477 639.985 Q209.329 637.81 209.329 634.083 Q209.329 630.333 207.477 628.18 Q205.649 626.027 202.5 626.027 M211.783 611.374 L211.783 615.634 Q210.024 614.8 208.218 614.361 Q206.436 613.921 204.676 613.921 Q200.047 613.921 197.593 617.046 Q195.163 620.171 194.815 626.49 Q196.181 624.476 198.241 623.411 Q200.301 622.324 202.778 622.324 Q207.987 622.324 210.996 625.495 Q214.028 628.643 214.028 634.083 Q214.028 639.407 210.88 642.624 Q207.732 645.842 202.5 645.842 Q196.505 645.842 193.334 641.259 Q190.163 636.652 190.163 627.925 Q190.163 619.731 194.051 614.87 Q197.94 609.986 204.491 609.986 Q206.25 609.986 208.033 610.333 Q209.838 610.68 211.783 611.374 Z\" fill=\"#000000\" fill-rule=\"nonzero\" fill-opacity=\"1\" /><path clip-path=\"url(#clip270)\" d=\"M126.783 327.679 Q123.172 327.679 121.343 331.244 Q119.538 334.785 119.538 341.915 Q119.538 349.021 121.343 352.586 Q123.172 356.128 126.783 356.128 Q130.417 356.128 132.223 352.586 Q134.052 349.021 134.052 341.915 Q134.052 334.785 132.223 331.244 Q130.417 327.679 126.783 327.679 M126.783 323.975 Q132.593 323.975 135.649 328.582 Q138.728 333.165 138.728 341.915 Q138.728 350.642 135.649 355.248 Q132.593 359.831 126.783 359.831 Q120.973 359.831 117.894 355.248 Q114.839 350.642 114.839 341.915 Q114.839 333.165 117.894 328.582 Q120.973 323.975 126.783 323.975 Z\" fill=\"#000000\" fill-rule=\"nonzero\" fill-opacity=\"1\" /><path clip-path=\"url(#clip270)\" d=\"M146.945 353.28 L151.829 353.28 L151.829 359.16 L146.945 359.16 L146.945 353.28 Z\" fill=\"#000000\" fill-rule=\"nonzero\" fill-opacity=\"1\" /><path clip-path=\"url(#clip270)\" d=\"M160.834 324.6 L183.056 324.6 L183.056 326.591 L170.51 359.16 L165.626 359.16 L177.431 328.535 L160.834 328.535 L160.834 324.6 Z\" fill=\"#000000\" fill-rule=\"nonzero\" fill-opacity=\"1\" /><path clip-path=\"url(#clip270)\" d=\"M202.176 342.748 Q198.843 342.748 196.922 344.531 Q195.024 346.313 195.024 349.438 Q195.024 352.563 196.922 354.345 Q198.843 356.128 202.176 356.128 Q205.51 356.128 207.431 354.345 Q209.352 352.54 209.352 349.438 Q209.352 346.313 207.431 344.531 Q205.533 342.748 202.176 342.748 M197.5 340.757 Q194.491 340.017 192.801 337.956 Q191.135 335.896 191.135 332.933 Q191.135 328.79 194.075 326.382 Q197.037 323.975 202.176 323.975 Q207.338 323.975 210.278 326.382 Q213.218 328.79 213.218 332.933 Q213.218 335.896 211.528 337.956 Q209.861 340.017 206.875 340.757 Q210.255 341.544 212.13 343.836 Q214.028 346.128 214.028 349.438 Q214.028 354.461 210.949 357.146 Q207.894 359.831 202.176 359.831 Q196.459 359.831 193.38 357.146 Q190.325 354.461 190.325 349.438 Q190.325 346.128 192.223 343.836 Q194.121 341.544 197.5 340.757 M195.787 333.373 Q195.787 336.058 197.454 337.563 Q199.144 339.068 202.176 339.068 Q205.186 339.068 206.875 337.563 Q208.588 336.058 208.588 333.373 Q208.588 330.688 206.875 329.183 Q205.186 327.679 202.176 327.679 Q199.144 327.679 197.454 329.183 Q195.787 330.688 195.787 333.373 Z\" fill=\"#000000\" fill-rule=\"nonzero\" fill-opacity=\"1\" /><path clip-path=\"url(#clip270)\" d=\"M126.691 41.6682 Q123.08 41.6682 121.251 45.233 Q119.445 48.7747 119.445 55.9043 Q119.445 63.0107 121.251 66.5755 Q123.08 70.1172 126.691 70.1172 Q130.325 70.1172 132.13 66.5755 Q133.959 63.0107 133.959 55.9043 Q133.959 48.7747 132.13 45.233 Q130.325 41.6682 126.691 41.6682 M126.691 37.9645 Q132.501 37.9645 135.556 42.571 Q138.635 47.1543 138.635 55.9043 Q138.635 64.6311 135.556 69.2375 Q132.501 73.8208 126.691 73.8208 Q120.88 73.8208 117.802 69.2375 Q114.746 64.6311 114.746 55.9043 Q114.746 47.1543 117.802 42.571 Q120.88 37.9645 126.691 37.9645 Z\" fill=\"#000000\" fill-rule=\"nonzero\" fill-opacity=\"1\" /><path clip-path=\"url(#clip270)\" d=\"M146.853 67.2699 L151.737 67.2699 L151.737 73.1495 L146.853 73.1495 L146.853 67.2699 Z\" fill=\"#000000\" fill-rule=\"nonzero\" fill-opacity=\"1\" /><path clip-path=\"url(#clip270)\" d=\"M171.922 56.7376 Q168.589 56.7376 166.667 58.52 Q164.769 60.3024 164.769 63.4274 Q164.769 66.5524 166.667 68.3348 Q168.589 70.1172 171.922 70.1172 Q175.255 70.1172 177.176 68.3348 Q179.098 66.5292 179.098 63.4274 Q179.098 60.3024 177.176 58.52 Q175.278 56.7376 171.922 56.7376 M167.246 54.7469 Q164.237 54.0061 162.547 51.946 Q160.88 49.8858 160.88 46.9228 Q160.88 42.7793 163.82 40.3719 Q166.783 37.9645 171.922 37.9645 Q177.084 37.9645 180.024 40.3719 Q182.963 42.7793 182.963 46.9228 Q182.963 49.8858 181.274 51.946 Q179.607 54.0061 176.621 54.7469 Q180.001 55.5339 181.876 57.8256 Q183.774 60.1172 183.774 63.4274 Q183.774 68.4505 180.695 71.1357 Q177.639 73.8208 171.922 73.8208 Q166.204 73.8208 163.126 71.1357 Q160.07 68.4505 160.07 63.4274 Q160.07 60.1172 161.968 57.8256 Q163.866 55.5339 167.246 54.7469 M165.533 47.3626 Q165.533 50.0478 167.2 51.5524 Q168.889 53.0571 171.922 53.0571 Q174.931 53.0571 176.621 51.5524 Q178.334 50.0478 178.334 47.3626 Q178.334 44.6775 176.621 43.1729 Q174.931 41.6682 171.922 41.6682 Q168.889 41.6682 167.2 43.1729 Q165.533 44.6775 165.533 47.3626 Z\" fill=\"#000000\" fill-rule=\"nonzero\" fill-opacity=\"1\" /><path clip-path=\"url(#clip270)\" d=\"M202.084 41.6682 Q198.473 41.6682 196.644 45.233 Q194.838 48.7747 194.838 55.9043 Q194.838 63.0107 196.644 66.5755 Q198.473 70.1172 202.084 70.1172 Q205.718 70.1172 207.524 66.5755 Q209.352 63.0107 209.352 55.9043 Q209.352 48.7747 207.524 45.233 Q205.718 41.6682 202.084 41.6682 M202.084 37.9645 Q207.894 37.9645 210.949 42.571 Q214.028 47.1543 214.028 55.9043 Q214.028 64.6311 210.949 69.2375 Q207.894 73.8208 202.084 73.8208 Q196.274 73.8208 193.195 69.2375 Q190.139 64.6311 190.139 55.9043 Q190.139 47.1543 193.195 42.571 Q196.274 37.9645 202.084 37.9645 Z\" fill=\"#000000\" fill-rule=\"nonzero\" fill-opacity=\"1\" /><path clip-path=\"url(#clip270)\" d=\"M14.479 723.865 L19.3487 723.865 L19.3487 729.467 Q19.3487 732.618 20.6219 733.859 Q21.895 735.069 25.2052 735.069 L28.3562 735.069 L28.3562 725.425 L32.9077 725.425 L32.9077 735.069 L64.0042 735.069 L64.0042 740.957 L32.9077 740.957 L32.9077 746.559 L28.3562 746.559 L28.3562 740.957 L25.8736 740.957 Q19.9216 740.957 17.2162 738.188 Q14.479 735.419 14.479 729.403 L14.479 723.865 Z\" fill=\"#000000\" fill-rule=\"nonzero\" fill-opacity=\"1\" /><circle clip-path=\"url(#clip272)\" cx=\"1301.39\" cy=\"765.721\" r=\"14.4\" fill=\"#009af9\" fill-rule=\"evenodd\" fill-opacity=\"1\" stroke=\"#000000\" stroke-opacity=\"1\" stroke-width=\"3.2\"/>\n",
       "<circle clip-path=\"url(#clip272)\" cx=\"1093.52\" cy=\"970.289\" r=\"14.4\" fill=\"#009af9\" fill-rule=\"evenodd\" fill-opacity=\"1\" stroke=\"#000000\" stroke-opacity=\"1\" stroke-width=\"3.2\"/>\n",
       "<circle clip-path=\"url(#clip272)\" cx=\"1509.26\" cy=\"554.892\" r=\"14.4\" fill=\"#009af9\" fill-rule=\"evenodd\" fill-opacity=\"1\" stroke=\"#000000\" stroke-opacity=\"1\" stroke-width=\"3.2\"/>\n",
       "<circle clip-path=\"url(#clip272)\" cx=\"351.904\" cy=\"1382.4\" r=\"14.4\" fill=\"#009af9\" fill-rule=\"evenodd\" fill-opacity=\"1\" stroke=\"#000000\" stroke-opacity=\"1\" stroke-width=\"3.2\"/>\n",
       "<circle clip-path=\"url(#clip272)\" cx=\"2250.88\" cy=\"88.3985\" r=\"14.4\" fill=\"#009af9\" fill-rule=\"evenodd\" fill-opacity=\"1\" stroke=\"#000000\" stroke-opacity=\"1\" stroke-width=\"3.2\"/>\n",
       "<circle clip-path=\"url(#clip272)\" cx=\"309.539\" cy=\"1384.24\" r=\"14.4\" fill=\"#009af9\" fill-rule=\"evenodd\" fill-opacity=\"1\" stroke=\"#000000\" stroke-opacity=\"1\" stroke-width=\"3.2\"/>\n",
       "<circle clip-path=\"url(#clip272)\" cx=\"2293.24\" cy=\"86.1857\" r=\"14.4\" fill=\"#009af9\" fill-rule=\"evenodd\" fill-opacity=\"1\" stroke=\"#000000\" stroke-opacity=\"1\" stroke-width=\"3.2\"/>\n",
       "<circle clip-path=\"url(#clip272)\" cx=\"559.564\" cy=\"1336.09\" r=\"14.4\" fill=\"#009af9\" fill-rule=\"evenodd\" fill-opacity=\"1\" stroke=\"#000000\" stroke-opacity=\"1\" stroke-width=\"3.2\"/>\n",
       "<circle clip-path=\"url(#clip272)\" cx=\"2043.22\" cy=\"143.863\" r=\"14.4\" fill=\"#009af9\" fill-rule=\"evenodd\" fill-opacity=\"1\" stroke=\"#000000\" stroke-opacity=\"1\" stroke-width=\"3.2\"/>\n",
       "<circle clip-path=\"url(#clip272)\" cx=\"436.181\" cy=\"1371.02\" r=\"14.4\" fill=\"#009af9\" fill-rule=\"evenodd\" fill-opacity=\"1\" stroke=\"#000000\" stroke-opacity=\"1\" stroke-width=\"3.2\"/>\n",
       "<circle clip-path=\"url(#clip272)\" cx=\"2166.6\" cy=\"102.11\" r=\"14.4\" fill=\"#009af9\" fill-rule=\"evenodd\" fill-opacity=\"1\" stroke=\"#000000\" stroke-opacity=\"1\" stroke-width=\"3.2\"/>\n",
       "<circle clip-path=\"url(#clip272)\" cx=\"895.384\" cy=\"1140.7\" r=\"14.4\" fill=\"#009af9\" fill-rule=\"evenodd\" fill-opacity=\"1\" stroke=\"#000000\" stroke-opacity=\"1\" stroke-width=\"3.2\"/>\n",
       "<circle clip-path=\"url(#clip272)\" cx=\"1707.4\" cy=\"369.152\" r=\"14.4\" fill=\"#009af9\" fill-rule=\"evenodd\" fill-opacity=\"1\" stroke=\"#000000\" stroke-opacity=\"1\" stroke-width=\"3.2\"/>\n",
       "<circle clip-path=\"url(#clip272)\" cx=\"715.07\" cy=\"1262.64\" r=\"14.4\" fill=\"#009af9\" fill-rule=\"evenodd\" fill-opacity=\"1\" stroke=\"#000000\" stroke-opacity=\"1\" stroke-width=\"3.2\"/>\n",
       "<circle clip-path=\"url(#clip272)\" cx=\"1887.71\" cy=\"230.165\" r=\"14.4\" fill=\"#009af9\" fill-rule=\"evenodd\" fill-opacity=\"1\" stroke=\"#000000\" stroke-opacity=\"1\" stroke-width=\"3.2\"/>\n",
       "</svg>\n"
      ]
     },
     "execution_count": 16,
     "metadata": {},
     "output_type": "execute_result"
    }
   ],
   "source": [
    "evaluations=Tuple{Float64,Float64}[]\n",
    "function f!(z)\n",
    "    val=integrandz(z,pi/2)\n",
    "    push!(evaluations,(z,val))\n",
    "    return val\n",
    "end\n",
    "@time quadgk(f!,0,pi/2)\n",
    "scatter(evaluations;xlabel=\"z\",ylabel=\"f\",label=\"\")"
   ]
  },
  {
   "cell_type": "markdown",
   "id": "d92a311e-05e1-4b84-9af0-7fd7c16b534b",
   "metadata": {},
   "source": [
    "We can also look at the order in which the points are chosen:"
   ]
  },
  {
   "cell_type": "code",
   "execution_count": 28,
   "id": "2e52483a-80b0-482c-8217-b19a5c7a7feb",
   "metadata": {},
   "outputs": [
    {
     "data": {
      "image/png": "[encoded data removed]",
      "image/svg+xml": [
       "<?xml version=\"1.0\" encoding=\"utf-8\"?>\n",
       "<svg xmlns=\"http://www.w3.org/2000/svg\" xmlns:xlink=\"http://www.w3.org/1999/xlink\" width=\"600\" height=\"400\" viewBox=\"0 0 2400 1600\">\n",
       "<defs>\n",
       "  <clipPath id=\"clip760\">\n",
       "    <rect x=\"0\" y=\"0\" width=\"2400\" height=\"1600\"/>\n",
       "  </clipPath>\n",
       "</defs>\n",
       "<path clip-path=\"url(#clip760)\" d=\"M0 1600 L2400 1600 L2400 8.88178e-14 L0 8.88178e-14  Z\" fill=\"#ffffff\" fill-rule=\"evenodd\" fill-opacity=\"1\"/>\n",
       "<defs>\n",
       "  <clipPath id=\"clip761\">\n",
       "    <rect x=\"480\" y=\"0\" width=\"1681\" height=\"1600\"/>\n",
       "  </clipPath>\n",
       "</defs>\n",
       "<path clip-path=\"url(#clip760)\" d=\"M219.38 1423.18 L2352.76 1423.18 L2352.76 47.2441 L219.38 47.2441  Z\" fill=\"#ffffff\" fill-rule=\"evenodd\" fill-opacity=\"1\"/>\n",
       "<defs>\n",
       "  <clipPath id=\"clip762\">\n",
       "    <rect x=\"219\" y=\"47\" width=\"2134\" height=\"1377\"/>\n",
       "  </clipPath>\n",
       "</defs>\n",
       "<polyline clip-path=\"url(#clip762)\" style=\"stroke:#000000; stroke-linecap:round; stroke-linejoin:round; stroke-width:2; stroke-opacity:0.1; fill:none\" points=\"423.517,1423.18 423.517,47.2441 \"/>\n",
       "<polyline clip-path=\"url(#clip762)\" style=\"stroke:#000000; stroke-linecap:round; stroke-linejoin:round; stroke-width:2; stroke-opacity:0.1; fill:none\" points=\"711.034,1423.18 711.034,47.2441 \"/>\n",
       "<polyline clip-path=\"url(#clip762)\" style=\"stroke:#000000; stroke-linecap:round; stroke-linejoin:round; stroke-width:2; stroke-opacity:0.1; fill:none\" points=\"998.551,1423.18 998.551,47.2441 \"/>\n",
       "<polyline clip-path=\"url(#clip762)\" style=\"stroke:#000000; stroke-linecap:round; stroke-linejoin:round; stroke-width:2; stroke-opacity:0.1; fill:none\" points=\"1286.07,1423.18 1286.07,47.2441 \"/>\n",
       "<polyline clip-path=\"url(#clip762)\" style=\"stroke:#000000; stroke-linecap:round; stroke-linejoin:round; stroke-width:2; stroke-opacity:0.1; fill:none\" points=\"1573.58,1423.18 1573.58,47.2441 \"/>\n",
       "<polyline clip-path=\"url(#clip762)\" style=\"stroke:#000000; stroke-linecap:round; stroke-linejoin:round; stroke-width:2; stroke-opacity:0.1; fill:none\" points=\"1861.1,1423.18 1861.1,47.2441 \"/>\n",
       "<polyline clip-path=\"url(#clip762)\" style=\"stroke:#000000; stroke-linecap:round; stroke-linejoin:round; stroke-width:2; stroke-opacity:0.1; fill:none\" points=\"2148.62,1423.18 2148.62,47.2441 \"/>\n",
       "<polyline clip-path=\"url(#clip762)\" style=\"stroke:#000000; stroke-linecap:round; stroke-linejoin:round; stroke-width:2; stroke-opacity:0.1; fill:none\" points=\"219.38,1389.83 2352.76,1389.83 \"/>\n",
       "<polyline clip-path=\"url(#clip762)\" style=\"stroke:#000000; stroke-linecap:round; stroke-linejoin:round; stroke-width:2; stroke-opacity:0.1; fill:none\" points=\"219.38,973.088 2352.76,973.088 \"/>\n",
       "<polyline clip-path=\"url(#clip762)\" style=\"stroke:#000000; stroke-linecap:round; stroke-linejoin:round; stroke-width:2; stroke-opacity:0.1; fill:none\" points=\"219.38,556.344 2352.76,556.344 \"/>\n",
       "<polyline clip-path=\"url(#clip762)\" style=\"stroke:#000000; stroke-linecap:round; stroke-linejoin:round; stroke-width:2; stroke-opacity:0.1; fill:none\" points=\"219.38,139.6 2352.76,139.6 \"/>\n",
       "<polyline clip-path=\"url(#clip760)\" style=\"stroke:#000000; stroke-linecap:round; stroke-linejoin:round; stroke-width:4; stroke-opacity:1; fill:none\" points=\"219.38,1423.18 2352.76,1423.18 \"/>\n",
       "<polyline clip-path=\"url(#clip760)\" style=\"stroke:#000000; stroke-linecap:round; stroke-linejoin:round; stroke-width:4; stroke-opacity:1; fill:none\" points=\"423.517,1423.18 423.517,1404.28 \"/>\n",
       "<polyline clip-path=\"url(#clip760)\" style=\"stroke:#000000; stroke-linecap:round; stroke-linejoin:round; stroke-width:4; stroke-opacity:1; fill:none\" points=\"711.034,1423.18 711.034,1404.28 \"/>\n",
       "<polyline clip-path=\"url(#clip760)\" style=\"stroke:#000000; stroke-linecap:round; stroke-linejoin:round; stroke-width:4; stroke-opacity:1; fill:none\" points=\"998.551,1423.18 998.551,1404.28 \"/>\n",
       "<polyline clip-path=\"url(#clip760)\" style=\"stroke:#000000; stroke-linecap:round; stroke-linejoin:round; stroke-width:4; stroke-opacity:1; fill:none\" points=\"1286.07,1423.18 1286.07,1404.28 \"/>\n",
       "<polyline clip-path=\"url(#clip760)\" style=\"stroke:#000000; stroke-linecap:round; stroke-linejoin:round; stroke-width:4; stroke-opacity:1; fill:none\" points=\"1573.58,1423.18 1573.58,1404.28 \"/>\n",
       "<polyline clip-path=\"url(#clip760)\" style=\"stroke:#000000; stroke-linecap:round; stroke-linejoin:round; stroke-width:4; stroke-opacity:1; fill:none\" points=\"1861.1,1423.18 1861.1,1404.28 \"/>\n",
       "<polyline clip-path=\"url(#clip760)\" style=\"stroke:#000000; stroke-linecap:round; stroke-linejoin:round; stroke-width:4; stroke-opacity:1; fill:none\" points=\"2148.62,1423.18 2148.62,1404.28 \"/>\n",
       "<path clip-path=\"url(#clip760)\" d=\"M418.17 1481.64 L434.489 1481.64 L434.489 1485.58 L412.545 1485.58 L412.545 1481.64 Q415.207 1478.89 419.79 1474.26 Q424.397 1469.61 425.577 1468.27 Q427.823 1465.74 428.702 1464.01 Q429.605 1462.25 429.605 1460.56 Q429.605 1457.8 427.661 1456.07 Q425.739 1454.33 422.638 1454.33 Q420.439 1454.33 417.985 1455.09 Q415.554 1455.86 412.777 1457.41 L412.777 1452.69 Q415.601 1451.55 418.054 1450.97 Q420.508 1450.39 422.545 1450.39 Q427.915 1450.39 431.11 1453.08 Q434.304 1455.77 434.304 1460.26 Q434.304 1462.39 433.494 1464.31 Q432.707 1466.2 430.6 1468.8 Q430.022 1469.47 426.92 1472.69 Q423.818 1475.88 418.17 1481.64 Z\" fill=\"#000000\" fill-rule=\"nonzero\" fill-opacity=\"1\" /><path clip-path=\"url(#clip760)\" d=\"M714.043 1455.09 L702.238 1473.54 L714.043 1473.54 L714.043 1455.09 M712.817 1451.02 L718.696 1451.02 L718.696 1473.54 L723.627 1473.54 L723.627 1477.43 L718.696 1477.43 L718.696 1485.58 L714.043 1485.58 L714.043 1477.43 L698.442 1477.43 L698.442 1472.92 L712.817 1451.02 Z\" fill=\"#000000\" fill-rule=\"nonzero\" fill-opacity=\"1\" /><path clip-path=\"url(#clip760)\" d=\"M998.956 1466.44 Q995.808 1466.44 993.956 1468.59 Q992.128 1470.74 992.128 1474.49 Q992.128 1478.22 993.956 1480.39 Q995.808 1482.55 998.956 1482.55 Q1002.1 1482.55 1003.93 1480.39 Q1005.78 1478.22 1005.78 1474.49 Q1005.78 1470.74 1003.93 1468.59 Q1002.1 1466.44 998.956 1466.44 M1008.24 1451.78 L1008.24 1456.04 Q1006.48 1455.21 1004.67 1454.77 Q1002.89 1454.33 1001.13 1454.33 Q996.502 1454.33 994.049 1457.45 Q991.618 1460.58 991.271 1466.9 Q992.637 1464.89 994.697 1463.82 Q996.757 1462.73 999.234 1462.73 Q1004.44 1462.73 1007.45 1465.9 Q1010.48 1469.05 1010.48 1474.49 Q1010.48 1479.82 1007.34 1483.03 Q1004.19 1486.25 998.956 1486.25 Q992.961 1486.25 989.79 1481.67 Q986.618 1477.06 986.618 1468.33 Q986.618 1460.14 990.507 1455.28 Q994.396 1450.39 1000.95 1450.39 Q1002.71 1450.39 1004.49 1450.74 Q1006.29 1451.09 1008.24 1451.78 Z\" fill=\"#000000\" fill-rule=\"nonzero\" fill-opacity=\"1\" /><path clip-path=\"url(#clip760)\" d=\"M1286.07 1469.17 Q1282.73 1469.17 1280.81 1470.95 Q1278.92 1472.73 1278.92 1475.86 Q1278.92 1478.98 1280.81 1480.77 Q1282.73 1482.55 1286.07 1482.55 Q1289.4 1482.55 1291.32 1480.77 Q1293.24 1478.96 1293.24 1475.86 Q1293.24 1472.73 1291.32 1470.95 Q1289.42 1469.17 1286.07 1469.17 M1281.39 1467.18 Q1278.38 1466.44 1276.69 1464.38 Q1275.03 1462.32 1275.03 1459.35 Q1275.03 1455.21 1277.97 1452.8 Q1280.93 1450.39 1286.07 1450.39 Q1291.23 1450.39 1294.17 1452.8 Q1297.11 1455.21 1297.11 1459.35 Q1297.11 1462.32 1295.42 1464.38 Q1293.75 1466.44 1290.77 1467.18 Q1294.15 1467.96 1296.02 1470.26 Q1297.92 1472.55 1297.92 1475.86 Q1297.92 1480.88 1294.84 1483.57 Q1291.79 1486.25 1286.07 1486.25 Q1280.35 1486.25 1277.27 1483.57 Q1274.22 1480.88 1274.22 1475.86 Q1274.22 1472.55 1276.11 1470.26 Q1278.01 1467.96 1281.39 1467.18 M1279.68 1459.79 Q1279.68 1462.48 1281.35 1463.98 Q1283.04 1465.49 1286.07 1465.49 Q1289.08 1465.49 1290.77 1463.98 Q1292.48 1462.48 1292.48 1459.79 Q1292.48 1457.11 1290.77 1455.6 Q1289.08 1454.1 1286.07 1454.1 Q1283.04 1454.1 1281.35 1455.6 Q1279.68 1457.11 1279.68 1459.79 Z\" fill=\"#000000\" fill-rule=\"nonzero\" fill-opacity=\"1\" /><path clip-path=\"url(#clip760)\" d=\"M1548.27 1481.64 L1555.91 1481.64 L1555.91 1455.28 L1547.6 1456.95 L1547.6 1452.69 L1555.87 1451.02 L1560.54 1451.02 L1560.54 1481.64 L1568.18 1481.64 L1568.18 1485.58 L1548.27 1485.58 L1548.27 1481.64 Z\" fill=\"#000000\" fill-rule=\"nonzero\" fill-opacity=\"1\" /><path clip-path=\"url(#clip760)\" d=\"M1587.62 1454.1 Q1584.01 1454.1 1582.18 1457.66 Q1580.38 1461.2 1580.38 1468.33 Q1580.38 1475.44 1582.18 1479.01 Q1584.01 1482.55 1587.62 1482.55 Q1591.26 1482.55 1593.06 1479.01 Q1594.89 1475.44 1594.89 1468.33 Q1594.89 1461.2 1593.06 1457.66 Q1591.26 1454.1 1587.62 1454.1 M1587.62 1450.39 Q1593.43 1450.39 1596.49 1455 Q1599.57 1459.58 1599.57 1468.33 Q1599.57 1477.06 1596.49 1481.67 Q1593.43 1486.25 1587.62 1486.25 Q1581.81 1486.25 1578.74 1481.67 Q1575.68 1477.06 1575.68 1468.33 Q1575.68 1459.58 1578.74 1455 Q1581.81 1450.39 1587.62 1450.39 Z\" fill=\"#000000\" fill-rule=\"nonzero\" fill-opacity=\"1\" /><path clip-path=\"url(#clip760)\" d=\"M1836.59 1481.64 L1844.23 1481.64 L1844.23 1455.28 L1835.92 1456.95 L1835.92 1452.69 L1844.18 1451.02 L1848.86 1451.02 L1848.86 1481.64 L1856.5 1481.64 L1856.5 1485.58 L1836.59 1485.58 L1836.59 1481.64 Z\" fill=\"#000000\" fill-rule=\"nonzero\" fill-opacity=\"1\" /><path clip-path=\"url(#clip760)\" d=\"M1869.97 1481.64 L1886.29 1481.64 L1886.29 1485.58 L1864.34 1485.58 L1864.34 1481.64 Q1867 1478.89 1871.59 1474.26 Q1876.19 1469.61 1877.37 1468.27 Q1879.62 1465.74 1880.5 1464.01 Q1881.4 1462.25 1881.4 1460.56 Q1881.4 1457.8 1879.46 1456.07 Q1877.54 1454.33 1874.44 1454.33 Q1872.24 1454.33 1869.78 1455.09 Q1867.35 1455.86 1864.57 1457.41 L1864.57 1452.69 Q1867.4 1451.55 1869.85 1450.97 Q1872.31 1450.39 1874.34 1450.39 Q1879.71 1450.39 1882.91 1453.08 Q1886.1 1455.77 1886.1 1460.26 Q1886.1 1462.39 1885.29 1464.31 Q1884.5 1466.2 1882.4 1468.8 Q1881.82 1469.47 1878.72 1472.69 Q1875.62 1475.88 1869.97 1481.64 Z\" fill=\"#000000\" fill-rule=\"nonzero\" fill-opacity=\"1\" /><path clip-path=\"url(#clip760)\" d=\"M2123.06 1481.64 L2130.7 1481.64 L2130.7 1455.28 L2122.39 1456.95 L2122.39 1452.69 L2130.66 1451.02 L2135.33 1451.02 L2135.33 1481.64 L2142.97 1481.64 L2142.97 1485.58 L2123.06 1485.58 L2123.06 1481.64 Z\" fill=\"#000000\" fill-rule=\"nonzero\" fill-opacity=\"1\" /><path clip-path=\"url(#clip760)\" d=\"M2165.26 1455.09 L2153.46 1473.54 L2165.26 1473.54 L2165.26 1455.09 M2164.04 1451.02 L2169.92 1451.02 L2169.92 1473.54 L2174.85 1473.54 L2174.85 1477.43 L2169.92 1477.43 L2169.92 1485.58 L2165.26 1485.58 L2165.26 1477.43 L2149.66 1477.43 L2149.66 1472.92 L2164.04 1451.02 Z\" fill=\"#000000\" fill-rule=\"nonzero\" fill-opacity=\"1\" /><path clip-path=\"url(#clip760)\" d=\"M1301 1546.53 L1301 1568.04 L1295.14 1568.04 L1295.14 1546.72 Q1295.14 1541.66 1293.17 1539.14 Q1291.19 1536.63 1287.25 1536.63 Q1282.5 1536.63 1279.77 1539.65 Q1277.03 1542.68 1277.03 1547.9 L1277.03 1568.04 L1271.14 1568.04 L1271.14 1532.4 L1277.03 1532.4 L1277.03 1537.93 Q1279.13 1534.72 1281.96 1533.13 Q1284.83 1531.54 1288.55 1531.54 Q1294.69 1531.54 1297.84 1535.36 Q1301 1539.14 1301 1546.53 Z\" fill=\"#000000\" fill-rule=\"nonzero\" fill-opacity=\"1\" /><polyline clip-path=\"url(#clip760)\" style=\"stroke:#000000; stroke-linecap:round; stroke-linejoin:round; stroke-width:4; stroke-opacity:1; fill:none\" points=\"219.38,1423.18 219.38,47.2441 \"/>\n",
       "<polyline clip-path=\"url(#clip760)\" style=\"stroke:#000000; stroke-linecap:round; stroke-linejoin:round; stroke-width:4; stroke-opacity:1; fill:none\" points=\"219.38,1389.83 238.278,1389.83 \"/>\n",
       "<polyline clip-path=\"url(#clip760)\" style=\"stroke:#000000; stroke-linecap:round; stroke-linejoin:round; stroke-width:4; stroke-opacity:1; fill:none\" points=\"219.38,973.088 238.278,973.088 \"/>\n",
       "<polyline clip-path=\"url(#clip760)\" style=\"stroke:#000000; stroke-linecap:round; stroke-linejoin:round; stroke-width:4; stroke-opacity:1; fill:none\" points=\"219.38,556.344 238.278,556.344 \"/>\n",
       "<polyline clip-path=\"url(#clip760)\" style=\"stroke:#000000; stroke-linecap:round; stroke-linejoin:round; stroke-width:4; stroke-opacity:1; fill:none\" points=\"219.38,139.6 238.278,139.6 \"/>\n",
       "<path clip-path=\"url(#clip760)\" d=\"M126.205 1375.63 Q122.593 1375.63 120.765 1379.2 Q118.959 1382.74 118.959 1389.87 Q118.959 1396.97 120.765 1400.54 Q122.593 1404.08 126.205 1404.08 Q129.839 1404.08 131.644 1400.54 Q133.473 1396.97 133.473 1389.87 Q133.473 1382.74 131.644 1379.2 Q129.839 1375.63 126.205 1375.63 M126.205 1371.93 Q132.015 1371.93 135.07 1376.53 Q138.149 1381.12 138.149 1389.87 Q138.149 1398.59 135.07 1403.2 Q132.015 1407.78 126.205 1407.78 Q120.394 1407.78 117.316 1403.2 Q114.26 1398.59 114.26 1389.87 Q114.26 1381.12 117.316 1376.53 Q120.394 1371.93 126.205 1371.93 Z\" fill=\"#000000\" fill-rule=\"nonzero\" fill-opacity=\"1\" /><path clip-path=\"url(#clip760)\" d=\"M146.366 1401.23 L151.251 1401.23 L151.251 1407.11 L146.366 1407.11 L146.366 1401.23 Z\" fill=\"#000000\" fill-rule=\"nonzero\" fill-opacity=\"1\" /><path clip-path=\"url(#clip760)\" d=\"M171.436 1375.63 Q167.825 1375.63 165.996 1379.2 Q164.19 1382.74 164.19 1389.87 Q164.19 1396.97 165.996 1400.54 Q167.825 1404.08 171.436 1404.08 Q175.07 1404.08 176.876 1400.54 Q178.704 1396.97 178.704 1389.87 Q178.704 1382.74 176.876 1379.2 Q175.07 1375.63 171.436 1375.63 M171.436 1371.93 Q177.246 1371.93 180.301 1376.53 Q183.38 1381.12 183.38 1389.87 Q183.38 1398.59 180.301 1403.2 Q177.246 1407.78 171.436 1407.78 Q165.626 1407.78 162.547 1403.2 Q159.491 1398.59 159.491 1389.87 Q159.491 1381.12 162.547 1376.53 Q165.626 1371.93 171.436 1371.93 Z\" fill=\"#000000\" fill-rule=\"nonzero\" fill-opacity=\"1\" /><path clip-path=\"url(#clip760)\" d=\"M127.2 958.887 Q123.589 958.887 121.76 962.451 Q119.955 965.993 119.955 973.123 Q119.955 980.229 121.76 983.794 Q123.589 987.335 127.2 987.335 Q130.834 987.335 132.64 983.794 Q134.468 980.229 134.468 973.123 Q134.468 965.993 132.64 962.451 Q130.834 958.887 127.2 958.887 M127.2 955.183 Q133.01 955.183 136.066 959.789 Q139.144 964.373 139.144 973.123 Q139.144 981.849 136.066 986.456 Q133.01 991.039 127.2 991.039 Q121.39 991.039 118.311 986.456 Q115.256 981.849 115.256 973.123 Q115.256 964.373 118.311 959.789 Q121.39 955.183 127.2 955.183 Z\" fill=\"#000000\" fill-rule=\"nonzero\" fill-opacity=\"1\" /><path clip-path=\"url(#clip760)\" d=\"M147.362 984.488 L152.246 984.488 L152.246 990.368 L147.362 990.368 L147.362 984.488 Z\" fill=\"#000000\" fill-rule=\"nonzero\" fill-opacity=\"1\" /><path clip-path=\"url(#clip760)\" d=\"M162.477 955.808 L180.834 955.808 L180.834 959.743 L166.76 959.743 L166.76 968.215 Q167.778 967.868 168.797 967.706 Q169.815 967.521 170.834 967.521 Q176.621 967.521 180.001 970.692 Q183.38 973.863 183.38 979.28 Q183.38 984.859 179.908 987.96 Q176.436 991.039 170.116 991.039 Q167.94 991.039 165.672 990.669 Q163.427 990.298 161.019 989.558 L161.019 984.859 Q163.102 985.993 165.325 986.548 Q167.547 987.104 170.024 987.104 Q174.028 987.104 176.366 984.998 Q178.704 982.891 178.704 979.28 Q178.704 975.669 176.366 973.562 Q174.028 971.456 170.024 971.456 Q168.149 971.456 166.274 971.873 Q164.422 972.289 162.477 973.169 L162.477 955.808 Z\" fill=\"#000000\" fill-rule=\"nonzero\" fill-opacity=\"1\" /><path clip-path=\"url(#clip760)\" d=\"M117.015 569.689 L124.654 569.689 L124.654 543.323 L116.343 544.99 L116.343 540.731 L124.607 539.064 L129.283 539.064 L129.283 569.689 L136.922 569.689 L136.922 573.624 L117.015 573.624 L117.015 569.689 Z\" fill=\"#000000\" fill-rule=\"nonzero\" fill-opacity=\"1\" /><path clip-path=\"url(#clip760)\" d=\"M146.366 567.744 L151.251 567.744 L151.251 573.624 L146.366 573.624 L146.366 567.744 Z\" fill=\"#000000\" fill-rule=\"nonzero\" fill-opacity=\"1\" /><path clip-path=\"url(#clip760)\" d=\"M171.436 542.143 Q167.825 542.143 165.996 545.707 Q164.19 549.249 164.19 556.379 Q164.19 563.485 165.996 567.05 Q167.825 570.592 171.436 570.592 Q175.07 570.592 176.876 567.05 Q178.704 563.485 178.704 556.379 Q178.704 549.249 176.876 545.707 Q175.07 542.143 171.436 542.143 M171.436 538.439 Q177.246 538.439 180.301 543.045 Q183.38 547.629 183.38 556.379 Q183.38 565.105 180.301 569.712 Q177.246 574.295 171.436 574.295 Q165.626 574.295 162.547 569.712 Q159.491 565.105 159.491 556.379 Q159.491 547.629 162.547 543.045 Q165.626 538.439 171.436 538.439 Z\" fill=\"#000000\" fill-rule=\"nonzero\" fill-opacity=\"1\" /><path clip-path=\"url(#clip760)\" d=\"M118.01 152.945 L125.649 152.945 L125.649 126.579 L117.339 128.246 L117.339 123.987 L125.603 122.32 L130.279 122.32 L130.279 152.945 L137.917 152.945 L137.917 156.88 L118.01 156.88 L118.01 152.945 Z\" fill=\"#000000\" fill-rule=\"nonzero\" fill-opacity=\"1\" /><path clip-path=\"url(#clip760)\" d=\"M147.362 151 L152.246 151 L152.246 156.88 L147.362 156.88 L147.362 151 Z\" fill=\"#000000\" fill-rule=\"nonzero\" fill-opacity=\"1\" /><path clip-path=\"url(#clip760)\" d=\"M162.477 122.32 L180.834 122.32 L180.834 126.255 L166.76 126.255 L166.76 134.727 Q167.778 134.38 168.797 134.218 Q169.815 134.033 170.834 134.033 Q176.621 134.033 180.001 137.204 Q183.38 140.376 183.38 145.792 Q183.38 151.371 179.908 154.473 Q176.436 157.551 170.116 157.551 Q167.94 157.551 165.672 157.181 Q163.427 156.811 161.019 156.07 L161.019 151.371 Q163.102 152.505 165.325 153.061 Q167.547 153.616 170.024 153.616 Q174.028 153.616 176.366 151.51 Q178.704 149.403 178.704 145.792 Q178.704 142.181 176.366 140.075 Q174.028 137.968 170.024 137.968 Q168.149 137.968 166.274 138.385 Q164.422 138.801 162.477 139.681 L162.477 122.32 Z\" fill=\"#000000\" fill-rule=\"nonzero\" fill-opacity=\"1\" /><path clip-path=\"url(#clip760)\" d=\"M28.9955 740.533 Q29.2209 740.533 30.1871 741.081 Q31.1211 741.596 33.4721 743.496 Q35.8231 745.396 38.5606 748.23 Q39.6234 749.293 41.1049 750.904 Q42.5864 752.514 43.5526 753.609 L44.5187 754.704 Q48.0614 758.891 52.0227 762.562 Q51.9261 762.304 51.8939 761.853 Q51.8295 761.403 51.8295 761.081 L51.8295 760.758 Q51.8295 759.084 52.9567 756.153 Q53.794 753.577 53.794 752.256 Q53.794 750.968 53.3431 749.551 Q52.8923 748.134 51.5718 746.588 Q50.2514 745.042 48.2546 744.334 Q47.9325 744.205 47.8359 744.14 Q47.7071 744.076 47.5783 743.883 Q47.4173 743.689 47.4173 743.432 Q47.4173 743.077 47.6105 742.852 Q47.8037 742.627 48.0614 742.627 Q48.6411 742.627 49.8005 743.077 Q50.9599 743.496 52.4092 744.43 Q53.8584 745.332 55.1789 746.524 Q56.4671 747.683 57.3689 749.422 Q58.2384 751.161 58.2384 752.997 Q58.2384 754.317 57.5943 755.284 Q56.9824 756.25 55.7908 757.216 Q54.2771 758.536 53.794 759.245 Q53.2787 759.953 53.2787 761.048 Q53.2787 763.979 57.3689 766.652 Q57.9486 766.942 58.0774 767.135 Q58.2384 767.296 58.2384 767.683 Q58.2062 768.488 57.5621 768.488 Q57.3045 768.488 56.1772 767.779 Q55.0178 767.039 52.9889 765.396 Q50.9599 763.721 48.9309 761.692 L43.3915 755.767 Q37.8521 749.197 34.7281 746.588 Q34.7281 747.683 34.6959 748.166 Q34.6637 748.617 34.4705 749.519 Q34.2451 750.42 33.762 751.676 Q32.7636 754.607 32.7636 755.831 Q32.7636 756.153 32.7958 756.507 Q32.828 756.862 32.989 757.667 Q33.1501 758.44 33.4721 759.084 Q33.762 759.728 34.4061 760.404 Q35.018 761.081 35.8553 761.435 Q36.113 761.531 36.2418 761.596 Q36.3706 761.66 36.4995 761.853 Q36.5961 762.015 36.5961 762.272 Q36.5961 762.659 36.3706 762.884 Q36.1452 763.077 35.8553 763.077 Q35.2756 763.077 34.084 762.498 Q32.8924 761.918 31.6042 760.952 Q30.2837 759.986 29.3176 758.407 Q28.3514 756.829 28.3514 755.09 Q28.3514 754.06 28.8023 753.19 Q29.2531 752.288 29.7362 751.837 Q30.1871 751.354 31.1855 750.549 Q31.9584 749.873 32.2805 749.551 Q32.6026 749.229 32.9568 748.585 Q33.2789 747.908 33.2789 747.168 Q33.2789 745.944 32.3449 744.817 Q31.3787 743.689 29.0599 742.24 Q28.3514 741.854 28.3514 741.242 Q28.3514 740.533 28.9955 740.533 Z\" fill=\"#000000\" fill-rule=\"nonzero\" fill-opacity=\"1\" /><path clip-path=\"url(#clip760)\" d=\"M63.7541 708.736 Q63.9345 708.736 64.6334 708.939 Q65.3322 709.142 66.4143 709.638 Q67.4965 710.112 68.4884 710.765 Q69.4578 711.419 70.1792 712.501 Q70.8781 713.561 70.8781 714.778 Q70.8781 716.401 69.796 717.484 Q68.7138 718.566 67.0907 718.566 Q66.1889 718.566 64.949 718.092 Q56.9458 715.094 54.1954 715.094 Q50.9716 715.094 50.9716 717.596 Q50.9716 718.836 51.4451 720.009 Q51.8959 721.158 52.5272 721.947 Q53.1584 722.736 54.0376 723.458 Q54.8943 724.157 55.4805 724.517 Q56.0441 724.855 56.6077 725.126 L58.9072 725.712 Q59.5384 725.847 61.9957 726.501 L66.1664 727.516 Q69.2774 728.237 69.5705 728.395 Q70.2018 728.62 70.5399 729.116 Q70.8781 729.612 70.8781 730.108 Q70.8781 730.672 70.5399 731.055 Q70.2018 731.438 69.6156 731.438 Q69.5254 731.438 69.1873 731.371 Q68.8491 731.303 68.3757 731.19 Q67.9023 731.078 67.6317 731.033 L56.9684 728.35 Q55.0296 727.854 54.4209 727.741 Q53.7896 727.606 53.0908 727.606 Q50.9716 727.606 50.9716 729.049 Q50.9716 730.221 52.3694 730.987 Q53.7671 731.754 56.4724 732.408 Q57.2164 732.611 57.3742 732.746 Q57.532 732.859 57.532 733.197 Q57.5094 733.76 57.0585 733.76 Q56.9458 733.76 56.2019 733.58 Q55.4579 733.4 54.3983 733.062 Q53.3162 732.701 52.5948 732.363 Q52.0538 732.07 51.8058 731.912 Q51.5352 731.731 51.0167 731.303 Q50.4757 730.852 50.2277 730.266 Q49.9572 729.657 49.9572 728.913 Q49.9572 727.245 51.0393 726.028 Q52.0988 724.81 53.97 724.653 Q49.9572 721.654 49.9572 717.461 Q49.9572 714.981 51.2647 713.561 Q52.5723 712.141 54.8943 712.141 Q55.4354 712.141 56.1342 712.253 Q56.8106 712.344 57.6672 712.569 Q58.5239 712.772 59.1777 712.952 Q59.8315 713.133 60.891 713.493 Q61.9281 713.854 62.379 714.012 Q62.8298 714.17 63.8894 714.553 Q64.9264 714.914 65.0392 714.959 Q67.1358 715.793 68.3306 715.793 Q69.1196 715.793 69.4803 715.545 Q69.841 715.274 69.841 714.688 Q69.841 713.11 68.2855 711.938 Q66.7074 710.743 64.1374 709.976 Q63.5738 709.796 63.4385 709.706 Q63.3033 709.593 63.3033 709.278 Q63.3033 708.736 63.7541 708.736 Z\" fill=\"#000000\" fill-rule=\"nonzero\" fill-opacity=\"1\" /><circle clip-path=\"url(#clip762)\" cx=\"279.759\" cy=\"735.212\" r=\"14.4\" fill=\"#009af9\" fill-rule=\"evenodd\" fill-opacity=\"1\" stroke=\"#000000\" stroke-opacity=\"1\" stroke-width=\"3.2\"/>\n",
       "<circle clip-path=\"url(#clip762)\" cx=\"423.517\" cy=\"871.232\" r=\"14.4\" fill=\"#009af9\" fill-rule=\"evenodd\" fill-opacity=\"1\" stroke=\"#000000\" stroke-opacity=\"1\" stroke-width=\"3.2\"/>\n",
       "<circle clip-path=\"url(#clip762)\" cx=\"567.276\" cy=\"599.192\" r=\"14.4\" fill=\"#009af9\" fill-rule=\"evenodd\" fill-opacity=\"1\" stroke=\"#000000\" stroke-opacity=\"1\" stroke-width=\"3.2\"/>\n",
       "<circle clip-path=\"url(#clip762)\" cx=\"711.034\" cy=\"1356.52\" r=\"14.4\" fill=\"#009af9\" fill-rule=\"evenodd\" fill-opacity=\"1\" stroke=\"#000000\" stroke-opacity=\"1\" stroke-width=\"3.2\"/>\n",
       "<circle clip-path=\"url(#clip762)\" cx=\"854.793\" cy=\"113.907\" r=\"14.4\" fill=\"#009af9\" fill-rule=\"evenodd\" fill-opacity=\"1\" stroke=\"#000000\" stroke-opacity=\"1\" stroke-width=\"3.2\"/>\n",
       "<circle clip-path=\"url(#clip762)\" cx=\"998.551\" cy=\"1384.24\" r=\"14.4\" fill=\"#009af9\" fill-rule=\"evenodd\" fill-opacity=\"1\" stroke=\"#000000\" stroke-opacity=\"1\" stroke-width=\"3.2\"/>\n",
       "<circle clip-path=\"url(#clip762)\" cx=\"1142.31\" cy=\"86.1857\" r=\"14.4\" fill=\"#009af9\" fill-rule=\"evenodd\" fill-opacity=\"1\" stroke=\"#000000\" stroke-opacity=\"1\" stroke-width=\"3.2\"/>\n",
       "<circle clip-path=\"url(#clip762)\" cx=\"1286.07\" cy=\"1220.63\" r=\"14.4\" fill=\"#009af9\" fill-rule=\"evenodd\" fill-opacity=\"1\" stroke=\"#000000\" stroke-opacity=\"1\" stroke-width=\"3.2\"/>\n",
       "<circle clip-path=\"url(#clip762)\" cx=\"1429.83\" cy=\"249.791\" r=\"14.4\" fill=\"#009af9\" fill-rule=\"evenodd\" fill-opacity=\"1\" stroke=\"#000000\" stroke-opacity=\"1\" stroke-width=\"3.2\"/>\n",
       "<circle clip-path=\"url(#clip762)\" cx=\"1573.58\" cy=\"1301.37\" r=\"14.4\" fill=\"#009af9\" fill-rule=\"evenodd\" fill-opacity=\"1\" stroke=\"#000000\" stroke-opacity=\"1\" stroke-width=\"3.2\"/>\n",
       "<circle clip-path=\"url(#clip762)\" cx=\"1717.34\" cy=\"169.055\" r=\"14.4\" fill=\"#009af9\" fill-rule=\"evenodd\" fill-opacity=\"1\" stroke=\"#000000\" stroke-opacity=\"1\" stroke-width=\"3.2\"/>\n",
       "<circle clip-path=\"url(#clip762)\" cx=\"1861.1\" cy=\"1000.89\" r=\"14.4\" fill=\"#009af9\" fill-rule=\"evenodd\" fill-opacity=\"1\" stroke=\"#000000\" stroke-opacity=\"1\" stroke-width=\"3.2\"/>\n",
       "<circle clip-path=\"url(#clip762)\" cx=\"2004.86\" cy=\"469.538\" r=\"14.4\" fill=\"#009af9\" fill-rule=\"evenodd\" fill-opacity=\"1\" stroke=\"#000000\" stroke-opacity=\"1\" stroke-width=\"3.2\"/>\n",
       "<circle clip-path=\"url(#clip762)\" cx=\"2148.62\" cy=\"1118.88\" r=\"14.4\" fill=\"#009af9\" fill-rule=\"evenodd\" fill-opacity=\"1\" stroke=\"#000000\" stroke-opacity=\"1\" stroke-width=\"3.2\"/>\n",
       "<circle clip-path=\"url(#clip762)\" cx=\"2292.38\" cy=\"351.548\" r=\"14.4\" fill=\"#009af9\" fill-rule=\"evenodd\" fill-opacity=\"1\" stroke=\"#000000\" stroke-opacity=\"1\" stroke-width=\"3.2\"/>\n",
       "</svg>\n"
      ],
      "text/html": [
       "<?xml version=\"1.0\" encoding=\"utf-8\"?>\n",
       "<svg xmlns=\"http://www.w3.org/2000/svg\" xmlns:xlink=\"http://www.w3.org/1999/xlink\" width=\"600\" height=\"400\" viewBox=\"0 0 2400 1600\">\n",
       "<defs>\n",
       "  <clipPath id=\"clip810\">\n",
       "    <rect x=\"0\" y=\"0\" width=\"2400\" height=\"1600\"/>\n",
       "  </clipPath>\n",
       "</defs>\n",
       "<path clip-path=\"url(#clip810)\" d=\"M0 1600 L2400 1600 L2400 8.88178e-14 L0 8.88178e-14  Z\" fill=\"#ffffff\" fill-rule=\"evenodd\" fill-opacity=\"1\"/>\n",
       "<defs>\n",
       "  <clipPath id=\"clip811\">\n",
       "    <rect x=\"480\" y=\"0\" width=\"1681\" height=\"1600\"/>\n",
       "  </clipPath>\n",
       "</defs>\n",
       "<path clip-path=\"url(#clip810)\" d=\"M219.38 1423.18 L2352.76 1423.18 L2352.76 47.2441 L219.38 47.2441  Z\" fill=\"#ffffff\" fill-rule=\"evenodd\" fill-opacity=\"1\"/>\n",
       "<defs>\n",
       "  <clipPath id=\"clip812\">\n",
       "    <rect x=\"219\" y=\"47\" width=\"2134\" height=\"1377\"/>\n",
       "  </clipPath>\n",
       "</defs>\n",
       "<polyline clip-path=\"url(#clip812)\" style=\"stroke:#000000; stroke-linecap:round; stroke-linejoin:round; stroke-width:2; stroke-opacity:0.1; fill:none\" points=\"423.517,1423.18 423.517,47.2441 \"/>\n",
       "<polyline clip-path=\"url(#clip812)\" style=\"stroke:#000000; stroke-linecap:round; stroke-linejoin:round; stroke-width:2; stroke-opacity:0.1; fill:none\" points=\"711.034,1423.18 711.034,47.2441 \"/>\n",
       "<polyline clip-path=\"url(#clip812)\" style=\"stroke:#000000; stroke-linecap:round; stroke-linejoin:round; stroke-width:2; stroke-opacity:0.1; fill:none\" points=\"998.551,1423.18 998.551,47.2441 \"/>\n",
       "<polyline clip-path=\"url(#clip812)\" style=\"stroke:#000000; stroke-linecap:round; stroke-linejoin:round; stroke-width:2; stroke-opacity:0.1; fill:none\" points=\"1286.07,1423.18 1286.07,47.2441 \"/>\n",
       "<polyline clip-path=\"url(#clip812)\" style=\"stroke:#000000; stroke-linecap:round; stroke-linejoin:round; stroke-width:2; stroke-opacity:0.1; fill:none\" points=\"1573.58,1423.18 1573.58,47.2441 \"/>\n",
       "<polyline clip-path=\"url(#clip812)\" style=\"stroke:#000000; stroke-linecap:round; stroke-linejoin:round; stroke-width:2; stroke-opacity:0.1; fill:none\" points=\"1861.1,1423.18 1861.1,47.2441 \"/>\n",
       "<polyline clip-path=\"url(#clip812)\" style=\"stroke:#000000; stroke-linecap:round; stroke-linejoin:round; stroke-width:2; stroke-opacity:0.1; fill:none\" points=\"2148.62,1423.18 2148.62,47.2441 \"/>\n",
       "<polyline clip-path=\"url(#clip812)\" style=\"stroke:#000000; stroke-linecap:round; stroke-linejoin:round; stroke-width:2; stroke-opacity:0.1; fill:none\" points=\"219.38,1389.83 2352.76,1389.83 \"/>\n",
       "<polyline clip-path=\"url(#clip812)\" style=\"stroke:#000000; stroke-linecap:round; stroke-linejoin:round; stroke-width:2; stroke-opacity:0.1; fill:none\" points=\"219.38,973.088 2352.76,973.088 \"/>\n",
       "<polyline clip-path=\"url(#clip812)\" style=\"stroke:#000000; stroke-linecap:round; stroke-linejoin:round; stroke-width:2; stroke-opacity:0.1; fill:none\" points=\"219.38,556.344 2352.76,556.344 \"/>\n",
       "<polyline clip-path=\"url(#clip812)\" style=\"stroke:#000000; stroke-linecap:round; stroke-linejoin:round; stroke-width:2; stroke-opacity:0.1; fill:none\" points=\"219.38,139.6 2352.76,139.6 \"/>\n",
       "<polyline clip-path=\"url(#clip810)\" style=\"stroke:#000000; stroke-linecap:round; stroke-linejoin:round; stroke-width:4; stroke-opacity:1; fill:none\" points=\"219.38,1423.18 2352.76,1423.18 \"/>\n",
       "<polyline clip-path=\"url(#clip810)\" style=\"stroke:#000000; stroke-linecap:round; stroke-linejoin:round; stroke-width:4; stroke-opacity:1; fill:none\" points=\"423.517,1423.18 423.517,1404.28 \"/>\n",
       "<polyline clip-path=\"url(#clip810)\" style=\"stroke:#000000; stroke-linecap:round; stroke-linejoin:round; stroke-width:4; stroke-opacity:1; fill:none\" points=\"711.034,1423.18 711.034,1404.28 \"/>\n",
       "<polyline clip-path=\"url(#clip810)\" style=\"stroke:#000000; stroke-linecap:round; stroke-linejoin:round; stroke-width:4; stroke-opacity:1; fill:none\" points=\"998.551,1423.18 998.551,1404.28 \"/>\n",
       "<polyline clip-path=\"url(#clip810)\" style=\"stroke:#000000; stroke-linecap:round; stroke-linejoin:round; stroke-width:4; stroke-opacity:1; fill:none\" points=\"1286.07,1423.18 1286.07,1404.28 \"/>\n",
       "<polyline clip-path=\"url(#clip810)\" style=\"stroke:#000000; stroke-linecap:round; stroke-linejoin:round; stroke-width:4; stroke-opacity:1; fill:none\" points=\"1573.58,1423.18 1573.58,1404.28 \"/>\n",
       "<polyline clip-path=\"url(#clip810)\" style=\"stroke:#000000; stroke-linecap:round; stroke-linejoin:round; stroke-width:4; stroke-opacity:1; fill:none\" points=\"1861.1,1423.18 1861.1,1404.28 \"/>\n",
       "<polyline clip-path=\"url(#clip810)\" style=\"stroke:#000000; stroke-linecap:round; stroke-linejoin:round; stroke-width:4; stroke-opacity:1; fill:none\" points=\"2148.62,1423.18 2148.62,1404.28 \"/>\n",
       "<path clip-path=\"url(#clip810)\" d=\"M418.17 1481.64 L434.489 1481.64 L434.489 1485.58 L412.545 1485.58 L412.545 1481.64 Q415.207 1478.89 419.79 1474.26 Q424.397 1469.61 425.577 1468.27 Q427.823 1465.74 428.702 1464.01 Q429.605 1462.25 429.605 1460.56 Q429.605 1457.8 427.661 1456.07 Q425.739 1454.33 422.638 1454.33 Q420.439 1454.33 417.985 1455.09 Q415.554 1455.86 412.777 1457.41 L412.777 1452.69 Q415.601 1451.55 418.054 1450.97 Q420.508 1450.39 422.545 1450.39 Q427.915 1450.39 431.11 1453.08 Q434.304 1455.77 434.304 1460.26 Q434.304 1462.39 433.494 1464.31 Q432.707 1466.2 430.6 1468.8 Q430.022 1469.47 426.92 1472.69 Q423.818 1475.88 418.17 1481.64 Z\" fill=\"#000000\" fill-rule=\"nonzero\" fill-opacity=\"1\" /><path clip-path=\"url(#clip810)\" d=\"M714.043 1455.09 L702.238 1473.54 L714.043 1473.54 L714.043 1455.09 M712.817 1451.02 L718.696 1451.02 L718.696 1473.54 L723.627 1473.54 L723.627 1477.43 L718.696 1477.43 L718.696 1485.58 L714.043 1485.58 L714.043 1477.43 L698.442 1477.43 L698.442 1472.92 L712.817 1451.02 Z\" fill=\"#000000\" fill-rule=\"nonzero\" fill-opacity=\"1\" /><path clip-path=\"url(#clip810)\" d=\"M998.956 1466.44 Q995.808 1466.44 993.956 1468.59 Q992.128 1470.74 992.128 1474.49 Q992.128 1478.22 993.956 1480.39 Q995.808 1482.55 998.956 1482.55 Q1002.1 1482.55 1003.93 1480.39 Q1005.78 1478.22 1005.78 1474.49 Q1005.78 1470.74 1003.93 1468.59 Q1002.1 1466.44 998.956 1466.44 M1008.24 1451.78 L1008.24 1456.04 Q1006.48 1455.21 1004.67 1454.77 Q1002.89 1454.33 1001.13 1454.33 Q996.502 1454.33 994.049 1457.45 Q991.618 1460.58 991.271 1466.9 Q992.637 1464.89 994.697 1463.82 Q996.757 1462.73 999.234 1462.73 Q1004.44 1462.73 1007.45 1465.9 Q1010.48 1469.05 1010.48 1474.49 Q1010.48 1479.82 1007.34 1483.03 Q1004.19 1486.25 998.956 1486.25 Q992.961 1486.25 989.79 1481.67 Q986.618 1477.06 986.618 1468.33 Q986.618 1460.14 990.507 1455.28 Q994.396 1450.39 1000.95 1450.39 Q1002.71 1450.39 1004.49 1450.74 Q1006.29 1451.09 1008.24 1451.78 Z\" fill=\"#000000\" fill-rule=\"nonzero\" fill-opacity=\"1\" /><path clip-path=\"url(#clip810)\" d=\"M1286.07 1469.17 Q1282.73 1469.17 1280.81 1470.95 Q1278.92 1472.73 1278.92 1475.86 Q1278.92 1478.98 1280.81 1480.77 Q1282.73 1482.55 1286.07 1482.55 Q1289.4 1482.55 1291.32 1480.77 Q1293.24 1478.96 1293.24 1475.86 Q1293.24 1472.73 1291.32 1470.95 Q1289.42 1469.17 1286.07 1469.17 M1281.39 1467.18 Q1278.38 1466.44 1276.69 1464.38 Q1275.03 1462.32 1275.03 1459.35 Q1275.03 1455.21 1277.97 1452.8 Q1280.93 1450.39 1286.07 1450.39 Q1291.23 1450.39 1294.17 1452.8 Q1297.11 1455.21 1297.11 1459.35 Q1297.11 1462.32 1295.42 1464.38 Q1293.75 1466.44 1290.77 1467.18 Q1294.15 1467.96 1296.02 1470.26 Q1297.92 1472.55 1297.92 1475.86 Q1297.92 1480.88 1294.84 1483.57 Q1291.79 1486.25 1286.07 1486.25 Q1280.35 1486.25 1277.27 1483.57 Q1274.22 1480.88 1274.22 1475.86 Q1274.22 1472.55 1276.11 1470.26 Q1278.01 1467.96 1281.39 1467.18 M1279.68 1459.79 Q1279.68 1462.48 1281.35 1463.98 Q1283.04 1465.49 1286.07 1465.49 Q1289.08 1465.49 1290.77 1463.98 Q1292.48 1462.48 1292.48 1459.79 Q1292.48 1457.11 1290.77 1455.6 Q1289.08 1454.1 1286.07 1454.1 Q1283.04 1454.1 1281.35 1455.6 Q1279.68 1457.11 1279.68 1459.79 Z\" fill=\"#000000\" fill-rule=\"nonzero\" fill-opacity=\"1\" /><path clip-path=\"url(#clip810)\" d=\"M1548.27 1481.64 L1555.91 1481.64 L1555.91 1455.28 L1547.6 1456.95 L1547.6 1452.69 L1555.87 1451.02 L1560.54 1451.02 L1560.54 1481.64 L1568.18 1481.64 L1568.18 1485.58 L1548.27 1485.58 L1548.27 1481.64 Z\" fill=\"#000000\" fill-rule=\"nonzero\" fill-opacity=\"1\" /><path clip-path=\"url(#clip810)\" d=\"M1587.62 1454.1 Q1584.01 1454.1 1582.18 1457.66 Q1580.38 1461.2 1580.38 1468.33 Q1580.38 1475.44 1582.18 1479.01 Q1584.01 1482.55 1587.62 1482.55 Q1591.26 1482.55 1593.06 1479.01 Q1594.89 1475.44 1594.89 1468.33 Q1594.89 1461.2 1593.06 1457.66 Q1591.26 1454.1 1587.62 1454.1 M1587.62 1450.39 Q1593.43 1450.39 1596.49 1455 Q1599.57 1459.58 1599.57 1468.33 Q1599.57 1477.06 1596.49 1481.67 Q1593.43 1486.25 1587.62 1486.25 Q1581.81 1486.25 1578.74 1481.67 Q1575.68 1477.06 1575.68 1468.33 Q1575.68 1459.58 1578.74 1455 Q1581.81 1450.39 1587.62 1450.39 Z\" fill=\"#000000\" fill-rule=\"nonzero\" fill-opacity=\"1\" /><path clip-path=\"url(#clip810)\" d=\"M1836.59 1481.64 L1844.23 1481.64 L1844.23 1455.28 L1835.92 1456.95 L1835.92 1452.69 L1844.18 1451.02 L1848.86 1451.02 L1848.86 1481.64 L1856.5 1481.64 L1856.5 1485.58 L1836.59 1485.58 L1836.59 1481.64 Z\" fill=\"#000000\" fill-rule=\"nonzero\" fill-opacity=\"1\" /><path clip-path=\"url(#clip810)\" d=\"M1869.97 1481.64 L1886.29 1481.64 L1886.29 1485.58 L1864.34 1485.58 L1864.34 1481.64 Q1867 1478.89 1871.59 1474.26 Q1876.19 1469.61 1877.37 1468.27 Q1879.62 1465.74 1880.5 1464.01 Q1881.4 1462.25 1881.4 1460.56 Q1881.4 1457.8 1879.46 1456.07 Q1877.54 1454.33 1874.44 1454.33 Q1872.24 1454.33 1869.78 1455.09 Q1867.35 1455.86 1864.57 1457.41 L1864.57 1452.69 Q1867.4 1451.55 1869.85 1450.97 Q1872.31 1450.39 1874.34 1450.39 Q1879.71 1450.39 1882.91 1453.08 Q1886.1 1455.77 1886.1 1460.26 Q1886.1 1462.39 1885.29 1464.31 Q1884.5 1466.2 1882.4 1468.8 Q1881.82 1469.47 1878.72 1472.69 Q1875.62 1475.88 1869.97 1481.64 Z\" fill=\"#000000\" fill-rule=\"nonzero\" fill-opacity=\"1\" /><path clip-path=\"url(#clip810)\" d=\"M2123.06 1481.64 L2130.7 1481.64 L2130.7 1455.28 L2122.39 1456.95 L2122.39 1452.69 L2130.66 1451.02 L2135.33 1451.02 L2135.33 1481.64 L2142.97 1481.64 L2142.97 1485.58 L2123.06 1485.58 L2123.06 1481.64 Z\" fill=\"#000000\" fill-rule=\"nonzero\" fill-opacity=\"1\" /><path clip-path=\"url(#clip810)\" d=\"M2165.26 1455.09 L2153.46 1473.54 L2165.26 1473.54 L2165.26 1455.09 M2164.04 1451.02 L2169.92 1451.02 L2169.92 1473.54 L2174.85 1473.54 L2174.85 1477.43 L2169.92 1477.43 L2169.92 1485.58 L2165.26 1485.58 L2165.26 1477.43 L2149.66 1477.43 L2149.66 1472.92 L2164.04 1451.02 Z\" fill=\"#000000\" fill-rule=\"nonzero\" fill-opacity=\"1\" /><path clip-path=\"url(#clip810)\" d=\"M1301 1546.53 L1301 1568.04 L1295.14 1568.04 L1295.14 1546.72 Q1295.14 1541.66 1293.17 1539.14 Q1291.19 1536.63 1287.25 1536.63 Q1282.5 1536.63 1279.77 1539.65 Q1277.03 1542.68 1277.03 1547.9 L1277.03 1568.04 L1271.14 1568.04 L1271.14 1532.4 L1277.03 1532.4 L1277.03 1537.93 Q1279.13 1534.72 1281.96 1533.13 Q1284.83 1531.54 1288.55 1531.54 Q1294.69 1531.54 1297.84 1535.36 Q1301 1539.14 1301 1546.53 Z\" fill=\"#000000\" fill-rule=\"nonzero\" fill-opacity=\"1\" /><polyline clip-path=\"url(#clip810)\" style=\"stroke:#000000; stroke-linecap:round; stroke-linejoin:round; stroke-width:4; stroke-opacity:1; fill:none\" points=\"219.38,1423.18 219.38,47.2441 \"/>\n",
       "<polyline clip-path=\"url(#clip810)\" style=\"stroke:#000000; stroke-linecap:round; stroke-linejoin:round; stroke-width:4; stroke-opacity:1; fill:none\" points=\"219.38,1389.83 238.278,1389.83 \"/>\n",
       "<polyline clip-path=\"url(#clip810)\" style=\"stroke:#000000; stroke-linecap:round; stroke-linejoin:round; stroke-width:4; stroke-opacity:1; fill:none\" points=\"219.38,973.088 238.278,973.088 \"/>\n",
       "<polyline clip-path=\"url(#clip810)\" style=\"stroke:#000000; stroke-linecap:round; stroke-linejoin:round; stroke-width:4; stroke-opacity:1; fill:none\" points=\"219.38,556.344 238.278,556.344 \"/>\n",
       "<polyline clip-path=\"url(#clip810)\" style=\"stroke:#000000; stroke-linecap:round; stroke-linejoin:round; stroke-width:4; stroke-opacity:1; fill:none\" points=\"219.38,139.6 238.278,139.6 \"/>\n",
       "<path clip-path=\"url(#clip810)\" d=\"M126.205 1375.63 Q122.593 1375.63 120.765 1379.2 Q118.959 1382.74 118.959 1389.87 Q118.959 1396.97 120.765 1400.54 Q122.593 1404.08 126.205 1404.08 Q129.839 1404.08 131.644 1400.54 Q133.473 1396.97 133.473 1389.87 Q133.473 1382.74 131.644 1379.2 Q129.839 1375.63 126.205 1375.63 M126.205 1371.93 Q132.015 1371.93 135.07 1376.53 Q138.149 1381.12 138.149 1389.87 Q138.149 1398.59 135.07 1403.2 Q132.015 1407.78 126.205 1407.78 Q120.394 1407.78 117.316 1403.2 Q114.26 1398.59 114.26 1389.87 Q114.26 1381.12 117.316 1376.53 Q120.394 1371.93 126.205 1371.93 Z\" fill=\"#000000\" fill-rule=\"nonzero\" fill-opacity=\"1\" /><path clip-path=\"url(#clip810)\" d=\"M146.366 1401.23 L151.251 1401.23 L151.251 1407.11 L146.366 1407.11 L146.366 1401.23 Z\" fill=\"#000000\" fill-rule=\"nonzero\" fill-opacity=\"1\" /><path clip-path=\"url(#clip810)\" d=\"M171.436 1375.63 Q167.825 1375.63 165.996 1379.2 Q164.19 1382.74 164.19 1389.87 Q164.19 1396.97 165.996 1400.54 Q167.825 1404.08 171.436 1404.08 Q175.07 1404.08 176.876 1400.54 Q178.704 1396.97 178.704 1389.87 Q178.704 1382.74 176.876 1379.2 Q175.07 1375.63 171.436 1375.63 M171.436 1371.93 Q177.246 1371.93 180.301 1376.53 Q183.38 1381.12 183.38 1389.87 Q183.38 1398.59 180.301 1403.2 Q177.246 1407.78 171.436 1407.78 Q165.626 1407.78 162.547 1403.2 Q159.491 1398.59 159.491 1389.87 Q159.491 1381.12 162.547 1376.53 Q165.626 1371.93 171.436 1371.93 Z\" fill=\"#000000\" fill-rule=\"nonzero\" fill-opacity=\"1\" /><path clip-path=\"url(#clip810)\" d=\"M127.2 958.887 Q123.589 958.887 121.76 962.451 Q119.955 965.993 119.955 973.123 Q119.955 980.229 121.76 983.794 Q123.589 987.335 127.2 987.335 Q130.834 987.335 132.64 983.794 Q134.468 980.229 134.468 973.123 Q134.468 965.993 132.64 962.451 Q130.834 958.887 127.2 958.887 M127.2 955.183 Q133.01 955.183 136.066 959.789 Q139.144 964.373 139.144 973.123 Q139.144 981.849 136.066 986.456 Q133.01 991.039 127.2 991.039 Q121.39 991.039 118.311 986.456 Q115.256 981.849 115.256 973.123 Q115.256 964.373 118.311 959.789 Q121.39 955.183 127.2 955.183 Z\" fill=\"#000000\" fill-rule=\"nonzero\" fill-opacity=\"1\" /><path clip-path=\"url(#clip810)\" d=\"M147.362 984.488 L152.246 984.488 L152.246 990.368 L147.362 990.368 L147.362 984.488 Z\" fill=\"#000000\" fill-rule=\"nonzero\" fill-opacity=\"1\" /><path clip-path=\"url(#clip810)\" d=\"M162.477 955.808 L180.834 955.808 L180.834 959.743 L166.76 959.743 L166.76 968.215 Q167.778 967.868 168.797 967.706 Q169.815 967.521 170.834 967.521 Q176.621 967.521 180.001 970.692 Q183.38 973.863 183.38 979.28 Q183.38 984.859 179.908 987.96 Q176.436 991.039 170.116 991.039 Q167.94 991.039 165.672 990.669 Q163.427 990.298 161.019 989.558 L161.019 984.859 Q163.102 985.993 165.325 986.548 Q167.547 987.104 170.024 987.104 Q174.028 987.104 176.366 984.998 Q178.704 982.891 178.704 979.28 Q178.704 975.669 176.366 973.562 Q174.028 971.456 170.024 971.456 Q168.149 971.456 166.274 971.873 Q164.422 972.289 162.477 973.169 L162.477 955.808 Z\" fill=\"#000000\" fill-rule=\"nonzero\" fill-opacity=\"1\" /><path clip-path=\"url(#clip810)\" d=\"M117.015 569.689 L124.654 569.689 L124.654 543.323 L116.343 544.99 L116.343 540.731 L124.607 539.064 L129.283 539.064 L129.283 569.689 L136.922 569.689 L136.922 573.624 L117.015 573.624 L117.015 569.689 Z\" fill=\"#000000\" fill-rule=\"nonzero\" fill-opacity=\"1\" /><path clip-path=\"url(#clip810)\" d=\"M146.366 567.744 L151.251 567.744 L151.251 573.624 L146.366 573.624 L146.366 567.744 Z\" fill=\"#000000\" fill-rule=\"nonzero\" fill-opacity=\"1\" /><path clip-path=\"url(#clip810)\" d=\"M171.436 542.143 Q167.825 542.143 165.996 545.707 Q164.19 549.249 164.19 556.379 Q164.19 563.485 165.996 567.05 Q167.825 570.592 171.436 570.592 Q175.07 570.592 176.876 567.05 Q178.704 563.485 178.704 556.379 Q178.704 549.249 176.876 545.707 Q175.07 542.143 171.436 542.143 M171.436 538.439 Q177.246 538.439 180.301 543.045 Q183.38 547.629 183.38 556.379 Q183.38 565.105 180.301 569.712 Q177.246 574.295 171.436 574.295 Q165.626 574.295 162.547 569.712 Q159.491 565.105 159.491 556.379 Q159.491 547.629 162.547 543.045 Q165.626 538.439 171.436 538.439 Z\" fill=\"#000000\" fill-rule=\"nonzero\" fill-opacity=\"1\" /><path clip-path=\"url(#clip810)\" d=\"M118.01 152.945 L125.649 152.945 L125.649 126.579 L117.339 128.246 L117.339 123.987 L125.603 122.32 L130.279 122.32 L130.279 152.945 L137.917 152.945 L137.917 156.88 L118.01 156.88 L118.01 152.945 Z\" fill=\"#000000\" fill-rule=\"nonzero\" fill-opacity=\"1\" /><path clip-path=\"url(#clip810)\" d=\"M147.362 151 L152.246 151 L152.246 156.88 L147.362 156.88 L147.362 151 Z\" fill=\"#000000\" fill-rule=\"nonzero\" fill-opacity=\"1\" /><path clip-path=\"url(#clip810)\" d=\"M162.477 122.32 L180.834 122.32 L180.834 126.255 L166.76 126.255 L166.76 134.727 Q167.778 134.38 168.797 134.218 Q169.815 134.033 170.834 134.033 Q176.621 134.033 180.001 137.204 Q183.38 140.376 183.38 145.792 Q183.38 151.371 179.908 154.473 Q176.436 157.551 170.116 157.551 Q167.94 157.551 165.672 157.181 Q163.427 156.811 161.019 156.07 L161.019 151.371 Q163.102 152.505 165.325 153.061 Q167.547 153.616 170.024 153.616 Q174.028 153.616 176.366 151.51 Q178.704 149.403 178.704 145.792 Q178.704 142.181 176.366 140.075 Q174.028 137.968 170.024 137.968 Q168.149 137.968 166.274 138.385 Q164.422 138.801 162.477 139.681 L162.477 122.32 Z\" fill=\"#000000\" fill-rule=\"nonzero\" fill-opacity=\"1\" /><path clip-path=\"url(#clip810)\" d=\"M28.9955 740.533 Q29.2209 740.533 30.1871 741.081 Q31.1211 741.596 33.4721 743.496 Q35.8231 745.396 38.5606 748.23 Q39.6234 749.293 41.1049 750.904 Q42.5864 752.514 43.5526 753.609 L44.5187 754.704 Q48.0614 758.891 52.0227 762.562 Q51.9261 762.304 51.8939 761.853 Q51.8295 761.403 51.8295 761.081 L51.8295 760.758 Q51.8295 759.084 52.9567 756.153 Q53.794 753.577 53.794 752.256 Q53.794 750.968 53.3431 749.551 Q52.8923 748.134 51.5718 746.588 Q50.2514 745.042 48.2546 744.334 Q47.9325 744.205 47.8359 744.14 Q47.7071 744.076 47.5783 743.883 Q47.4173 743.689 47.4173 743.432 Q47.4173 743.077 47.6105 742.852 Q47.8037 742.627 48.0614 742.627 Q48.6411 742.627 49.8005 743.077 Q50.9599 743.496 52.4092 744.43 Q53.8584 745.332 55.1789 746.524 Q56.4671 747.683 57.3689 749.422 Q58.2384 751.161 58.2384 752.997 Q58.2384 754.317 57.5943 755.284 Q56.9824 756.25 55.7908 757.216 Q54.2771 758.536 53.794 759.245 Q53.2787 759.953 53.2787 761.048 Q53.2787 763.979 57.3689 766.652 Q57.9486 766.942 58.0774 767.135 Q58.2384 767.296 58.2384 767.683 Q58.2062 768.488 57.5621 768.488 Q57.3045 768.488 56.1772 767.779 Q55.0178 767.039 52.9889 765.396 Q50.9599 763.721 48.9309 761.692 L43.3915 755.767 Q37.8521 749.197 34.7281 746.588 Q34.7281 747.683 34.6959 748.166 Q34.6637 748.617 34.4705 749.519 Q34.2451 750.42 33.762 751.676 Q32.7636 754.607 32.7636 755.831 Q32.7636 756.153 32.7958 756.507 Q32.828 756.862 32.989 757.667 Q33.1501 758.44 33.4721 759.084 Q33.762 759.728 34.4061 760.404 Q35.018 761.081 35.8553 761.435 Q36.113 761.531 36.2418 761.596 Q36.3706 761.66 36.4995 761.853 Q36.5961 762.015 36.5961 762.272 Q36.5961 762.659 36.3706 762.884 Q36.1452 763.077 35.8553 763.077 Q35.2756 763.077 34.084 762.498 Q32.8924 761.918 31.6042 760.952 Q30.2837 759.986 29.3176 758.407 Q28.3514 756.829 28.3514 755.09 Q28.3514 754.06 28.8023 753.19 Q29.2531 752.288 29.7362 751.837 Q30.1871 751.354 31.1855 750.549 Q31.9584 749.873 32.2805 749.551 Q32.6026 749.229 32.9568 748.585 Q33.2789 747.908 33.2789 747.168 Q33.2789 745.944 32.3449 744.817 Q31.3787 743.689 29.0599 742.24 Q28.3514 741.854 28.3514 741.242 Q28.3514 740.533 28.9955 740.533 Z\" fill=\"#000000\" fill-rule=\"nonzero\" fill-opacity=\"1\" /><path clip-path=\"url(#clip810)\" d=\"M63.7541 708.736 Q63.9345 708.736 64.6334 708.939 Q65.3322 709.142 66.4143 709.638 Q67.4965 710.112 68.4884 710.765 Q69.4578 711.419 70.1792 712.501 Q70.8781 713.561 70.8781 714.778 Q70.8781 716.401 69.796 717.484 Q68.7138 718.566 67.0907 718.566 Q66.1889 718.566 64.949 718.092 Q56.9458 715.094 54.1954 715.094 Q50.9716 715.094 50.9716 717.596 Q50.9716 718.836 51.4451 720.009 Q51.8959 721.158 52.5272 721.947 Q53.1584 722.736 54.0376 723.458 Q54.8943 724.157 55.4805 724.517 Q56.0441 724.855 56.6077 725.126 L58.9072 725.712 Q59.5384 725.847 61.9957 726.501 L66.1664 727.516 Q69.2774 728.237 69.5705 728.395 Q70.2018 728.62 70.5399 729.116 Q70.8781 729.612 70.8781 730.108 Q70.8781 730.672 70.5399 731.055 Q70.2018 731.438 69.6156 731.438 Q69.5254 731.438 69.1873 731.371 Q68.8491 731.303 68.3757 731.19 Q67.9023 731.078 67.6317 731.033 L56.9684 728.35 Q55.0296 727.854 54.4209 727.741 Q53.7896 727.606 53.0908 727.606 Q50.9716 727.606 50.9716 729.049 Q50.9716 730.221 52.3694 730.987 Q53.7671 731.754 56.4724 732.408 Q57.2164 732.611 57.3742 732.746 Q57.532 732.859 57.532 733.197 Q57.5094 733.76 57.0585 733.76 Q56.9458 733.76 56.2019 733.58 Q55.4579 733.4 54.3983 733.062 Q53.3162 732.701 52.5948 732.363 Q52.0538 732.07 51.8058 731.912 Q51.5352 731.731 51.0167 731.303 Q50.4757 730.852 50.2277 730.266 Q49.9572 729.657 49.9572 728.913 Q49.9572 727.245 51.0393 726.028 Q52.0988 724.81 53.97 724.653 Q49.9572 721.654 49.9572 717.461 Q49.9572 714.981 51.2647 713.561 Q52.5723 712.141 54.8943 712.141 Q55.4354 712.141 56.1342 712.253 Q56.8106 712.344 57.6672 712.569 Q58.5239 712.772 59.1777 712.952 Q59.8315 713.133 60.891 713.493 Q61.9281 713.854 62.379 714.012 Q62.8298 714.17 63.8894 714.553 Q64.9264 714.914 65.0392 714.959 Q67.1358 715.793 68.3306 715.793 Q69.1196 715.793 69.4803 715.545 Q69.841 715.274 69.841 714.688 Q69.841 713.11 68.2855 711.938 Q66.7074 710.743 64.1374 709.976 Q63.5738 709.796 63.4385 709.706 Q63.3033 709.593 63.3033 709.278 Q63.3033 708.736 63.7541 708.736 Z\" fill=\"#000000\" fill-rule=\"nonzero\" fill-opacity=\"1\" /><circle clip-path=\"url(#clip812)\" cx=\"279.759\" cy=\"735.212\" r=\"14.4\" fill=\"#009af9\" fill-rule=\"evenodd\" fill-opacity=\"1\" stroke=\"#000000\" stroke-opacity=\"1\" stroke-width=\"3.2\"/>\n",
       "<circle clip-path=\"url(#clip812)\" cx=\"423.517\" cy=\"871.232\" r=\"14.4\" fill=\"#009af9\" fill-rule=\"evenodd\" fill-opacity=\"1\" stroke=\"#000000\" stroke-opacity=\"1\" stroke-width=\"3.2\"/>\n",
       "<circle clip-path=\"url(#clip812)\" cx=\"567.276\" cy=\"599.192\" r=\"14.4\" fill=\"#009af9\" fill-rule=\"evenodd\" fill-opacity=\"1\" stroke=\"#000000\" stroke-opacity=\"1\" stroke-width=\"3.2\"/>\n",
       "<circle clip-path=\"url(#clip812)\" cx=\"711.034\" cy=\"1356.52\" r=\"14.4\" fill=\"#009af9\" fill-rule=\"evenodd\" fill-opacity=\"1\" stroke=\"#000000\" stroke-opacity=\"1\" stroke-width=\"3.2\"/>\n",
       "<circle clip-path=\"url(#clip812)\" cx=\"854.793\" cy=\"113.907\" r=\"14.4\" fill=\"#009af9\" fill-rule=\"evenodd\" fill-opacity=\"1\" stroke=\"#000000\" stroke-opacity=\"1\" stroke-width=\"3.2\"/>\n",
       "<circle clip-path=\"url(#clip812)\" cx=\"998.551\" cy=\"1384.24\" r=\"14.4\" fill=\"#009af9\" fill-rule=\"evenodd\" fill-opacity=\"1\" stroke=\"#000000\" stroke-opacity=\"1\" stroke-width=\"3.2\"/>\n",
       "<circle clip-path=\"url(#clip812)\" cx=\"1142.31\" cy=\"86.1857\" r=\"14.4\" fill=\"#009af9\" fill-rule=\"evenodd\" fill-opacity=\"1\" stroke=\"#000000\" stroke-opacity=\"1\" stroke-width=\"3.2\"/>\n",
       "<circle clip-path=\"url(#clip812)\" cx=\"1286.07\" cy=\"1220.63\" r=\"14.4\" fill=\"#009af9\" fill-rule=\"evenodd\" fill-opacity=\"1\" stroke=\"#000000\" stroke-opacity=\"1\" stroke-width=\"3.2\"/>\n",
       "<circle clip-path=\"url(#clip812)\" cx=\"1429.83\" cy=\"249.791\" r=\"14.4\" fill=\"#009af9\" fill-rule=\"evenodd\" fill-opacity=\"1\" stroke=\"#000000\" stroke-opacity=\"1\" stroke-width=\"3.2\"/>\n",
       "<circle clip-path=\"url(#clip812)\" cx=\"1573.58\" cy=\"1301.37\" r=\"14.4\" fill=\"#009af9\" fill-rule=\"evenodd\" fill-opacity=\"1\" stroke=\"#000000\" stroke-opacity=\"1\" stroke-width=\"3.2\"/>\n",
       "<circle clip-path=\"url(#clip812)\" cx=\"1717.34\" cy=\"169.055\" r=\"14.4\" fill=\"#009af9\" fill-rule=\"evenodd\" fill-opacity=\"1\" stroke=\"#000000\" stroke-opacity=\"1\" stroke-width=\"3.2\"/>\n",
       "<circle clip-path=\"url(#clip812)\" cx=\"1861.1\" cy=\"1000.89\" r=\"14.4\" fill=\"#009af9\" fill-rule=\"evenodd\" fill-opacity=\"1\" stroke=\"#000000\" stroke-opacity=\"1\" stroke-width=\"3.2\"/>\n",
       "<circle clip-path=\"url(#clip812)\" cx=\"2004.86\" cy=\"469.538\" r=\"14.4\" fill=\"#009af9\" fill-rule=\"evenodd\" fill-opacity=\"1\" stroke=\"#000000\" stroke-opacity=\"1\" stroke-width=\"3.2\"/>\n",
       "<circle clip-path=\"url(#clip812)\" cx=\"2148.62\" cy=\"1118.88\" r=\"14.4\" fill=\"#009af9\" fill-rule=\"evenodd\" fill-opacity=\"1\" stroke=\"#000000\" stroke-opacity=\"1\" stroke-width=\"3.2\"/>\n",
       "<circle clip-path=\"url(#clip812)\" cx=\"2292.38\" cy=\"351.548\" r=\"14.4\" fill=\"#009af9\" fill-rule=\"evenodd\" fill-opacity=\"1\" stroke=\"#000000\" stroke-opacity=\"1\" stroke-width=\"3.2\"/>\n",
       "</svg>\n"
      ]
     },
     "execution_count": 28,
     "metadata": {},
     "output_type": "execute_result"
    }
   ],
   "source": [
    "scatter([z for (z,f) in evaluations],xlabel=\"n\",ylabel=L\"z_n\",label=\"\")"
   ]
  },
  {
   "cell_type": "markdown",
   "id": "ccd7e8eb-140a-4cad-a477-1951c9b05a0f",
   "metadata": {},
   "source": [
    "Note:  without our transformation it needed many more points"
   ]
  },
  {
   "cell_type": "code",
   "execution_count": 12,
   "id": "33997c57-62cb-452a-ae7f-4524f2b294f9",
   "metadata": {},
   "outputs": [
    {
     "data": {
      "text/plain": [
       "(1.1803405931478603, 1.537190156500909e-8, 1305)"
      ]
     },
     "execution_count": 12,
     "metadata": {},
     "output_type": "execute_result"
    }
   ],
   "source": [
    "quadgk_count(x->PeriodIntegrand(x,pi/2),0,1)"
   ]
  },
  {
   "cell_type": "markdown",
   "id": "78c52277-c2bd-4238-8bb6-453a928bb412",
   "metadata": {},
   "source": [
    "### Gaussian Quadratures"
   ]
  },
  {
   "cell_type": "markdown",
   "id": "202330e0-9bd6-479d-a97c-710bd26ae804",
   "metadata": {},
   "source": [
    "How on Earth can the integration routine be so effective?  "
   ]
  },
  {
   "cell_type": "markdown",
   "id": "3ecb54cf-ec09-4ac8-a65e-cdbdbb51235e",
   "metadata": {},
   "source": [
    "There are two pieces of magic:\n",
    "1. Gaussian Quadratures\n",
    "2. Adaptive Quadratures"
   ]
  },
  {
   "cell_type": "markdown",
   "id": "4107c141-68e5-4011-844f-7a46b45b61f5",
   "metadata": {},
   "source": [
    "#### Magic behind Gaussian Quadratures"
   ]
  },
  {
   "cell_type": "markdown",
   "id": "6defcd42-42cc-44bc-b505-35b44d6140f1",
   "metadata": {},
   "source": [
    "The idea is that if one evaluates the function at **non-equally spaced** points, one can accelerate convergence"
   ]
  },
  {
   "cell_type": "markdown",
   "id": "87a08d4a-aadf-49e0-9e44-ce9f7d74594f",
   "metadata": {},
   "source": [
    "For example, suppose we want to calculate $\\int_{-1}^1 f(x) dx$ using only three function evaluations.  In trapezoid rule those evaluations would be at $x=-1,0,1$.  For midpoint rule they would be at $x=-2/3,0,2/3$.  In Simpson's rule the would be at $x=-1,0,1$, but we would weight them unequally.  The most general quadrature rule is\n",
    "\\begin{equation}\n",
    "I\\approx \\sum_j w_j f(x_j).\n",
    "\\end{equation}\n",
    "The most general 3-point symmetric quadrature rule would be \n",
    "\\begin{equation}\n",
    "I=a f(0) + b f(s)+ b f(-s)\n",
    "\\end{equation}\n",
    "where $a,b,s$ are parameters."
   ]
  },
  {
   "cell_type": "markdown",
   "id": "25e9ab0a-c944-41a1-913d-7ddfda0795f5",
   "metadata": {},
   "source": [
    "We will choose these parameters so that we get the correct integral for various polynomials\n",
    "\\begin{align}\n",
    "\\int_{-1}^1 x^0 dx &\\to a+2b &=2\\\\\n",
    "\\int_{-1}^1 x^1 dx &\\to 0 &= 0\\\\\n",
    "\\int_{-1}^1 x^2 dx &\\to 2b s^2 &= 2/3\\\\\n",
    "\\int_{-1}^1 x^3 dx &\\to 0 &= 0\\\\\n",
    "\\int_{-1}^1 x^4 dx &\\to 2b s^4 &= 2/5\\\\\n",
    "\\int_{-1}^1 x^5 dx &\\to 0 &= 0\\\\\n",
    "\\end{align}\n",
    "We can solve these to find $s=\\sqrt{3/5}, a=8/9, b=5/9$.  With these 3 function evaluations we can exactly integrate any polynomial up to 5th order."
   ]
  },
  {
   "cell_type": "markdown",
   "id": "cd70e1b7-b443-4a6f-a43c-02fe6fc19ced",
   "metadata": {},
   "source": [
    "There is some beautiful mathematics behind deriving higher ourder Gaussian Quadrature methods, using the properties of orthogonal polynomials.  We will not get into it here, but they have led to efficient ways to calculate the nodes and weights for very [high orders](https://pi.math.cornell.edu/~ajt/papers/QuadratureEssay.pdf)."
   ]
  },
  {
   "cell_type": "markdown",
   "id": "c74ff4ec-c222-4426-9d0d-ba521a074668",
   "metadata": {},
   "source": [
    "#### Adaptive Quadratures"
   ]
  },
  {
   "cell_type": "markdown",
   "id": "59147547-2cb8-4a0c-af66-4cd55ede5764",
   "metadata": {},
   "source": [
    "The other trick that `quadgk` does is it uses *adaptive quadratures*.  This means it subdivides only the parts of the domain where the function is varying fastest."
   ]
  },
  {
   "cell_type": "markdown",
   "id": "7a1046ed-dd4f-4026-8878-527dd9256874",
   "metadata": {},
   "source": [
    "We could code our own Adaptive Gaussian Quadrature routine, but there is not much need.  It makes more sense to just use the packaged version.  Numerical Recipies has a nice discussion of the algorithm if you want to play with it."
   ]
  },
  {
   "cell_type": "markdown",
   "id": "0c69b451-56c5-49c2-b9f5-29e052fe6b27",
   "metadata": {},
   "source": [
    "# Working with files and notebooks at the same time"
   ]
  },
  {
   "cell_type": "markdown",
   "id": "04a09b73-4a89-4127-ab05-c6673fda9357",
   "metadata": {},
   "source": [
    "At this point in the lecture, I'll illustrate how to shift to JupyterLab -- opening this notebook and the file [trapezoid.jl](https://github.com/em256/phys4480/blob/main/trapezoid.j) at the same time"
   ]
  },
  {
   "attachments": {},
   "cell_type": "markdown",
   "id": "7689d42b-cb4b-4762-ab20-2c67ae504747",
   "metadata": {},
   "source": [
    "1. click the \"Open in..\" button in the upper right\n",
    "2. click the \"Simple\" slider on the bottom left, to turn off simple mode\n",
    "3. click the file browser icon on the left to open a file browser.\n",
    "4. double click on the file \"trapezoid.jl\"\n",
    "5. Drag the tab to show the text file side-by side with the notebook"
   ]
  },
  {
   "cell_type": "markdown",
   "id": "9e1b7485-cb8d-4d42-98af-10a32baebae7",
   "metadata": {},
   "source": [
    "You can now freely copy and paste betweeen the notebook and the file"
   ]
  },
  {
   "cell_type": "code",
   "execution_count": 29,
   "id": "e171555f-e17c-4b2e-bbec-bc25296122e2",
   "metadata": {},
   "outputs": [
    {
     "data": {
      "text/plain": [
       "nrtrap"
      ]
     },
     "execution_count": 29,
     "metadata": {},
     "output_type": "execute_result"
    }
   ],
   "source": [
    "include(\"trapezoid.jl\")"
   ]
  },
  {
   "cell_type": "code",
   "execution_count": 30,
   "id": "b716a59d-b836-4efb-ac3e-999d484ecde7",
   "metadata": {},
   "outputs": [
    {
     "data": {
      "text/plain": [
       "2.3333333333721384"
      ]
     },
     "execution_count": 30,
     "metadata": {},
     "output_type": "execute_result"
    }
   ],
   "source": [
    "nrtrap(x->x^2,(1,2))"
   ]
  },
  {
   "cell_type": "markdown",
   "id": "c4d3f2f9-4ed8-4bc1-bfd7-590739debd89",
   "metadata": {},
   "source": [
    "You can use create new text files, edit them, and then run them with `include`.  You can change the file and then `include` them again.  This is really useful if you are building tools that you will use in multiple projects."
   ]
  },
  {
   "cell_type": "markdown",
   "id": "6faee38c-b8d6-490a-be0f-d9451e5ab6fb",
   "metadata": {},
   "source": [
    "At this point in the lecture I will demonstrate creating a new text file, adding some code to it, and including it. "
   ]
  },
  {
   "cell_type": "markdown",
   "id": "32257a68-7c8c-4dc9-9ff8-1d159ee6754c",
   "metadata": {},
   "source": [
    "I will then illustrate opening a terminal, and running the script using Julia from the command line."
   ]
  },
  {
   "cell_type": "markdown",
   "id": "911b70c1-4a4e-4bba-826a-6b26974bff34",
   "metadata": {},
   "source": [
    "# Line Integrals"
   ]
  },
  {
   "cell_type": "code",
   "execution_count": 31,
   "id": "e55730ea-f17c-4b5a-94cb-e00750ec46cd",
   "metadata": {},
   "outputs": [
    {
     "data": {
      "text/plain": [
       "0.0"
      ]
     },
     "execution_count": 31,
     "metadata": {},
     "output_type": "execute_result"
    }
   ],
   "source": [
    "zero(1.5)"
   ]
  },
  {
   "cell_type": "code",
   "execution_count": 32,
   "id": "85932ee6-e09d-42d9-950c-1be41b1c7fce",
   "metadata": {},
   "outputs": [
    {
     "data": {
      "text/plain": [
       "0"
      ]
     },
     "execution_count": 32,
     "metadata": {},
     "output_type": "execute_result"
    }
   ],
   "source": [
    "zero(1)"
   ]
  },
  {
   "cell_type": "code",
   "execution_count": 33,
   "id": "f9a60b69-88c0-4c2b-8789-d50177ecb244",
   "metadata": {},
   "outputs": [
    {
     "data": {
      "text/plain": [
       "2-element Vector{Int64}:\n",
       " 0\n",
       " 0"
      ]
     },
     "execution_count": 33,
     "metadata": {},
     "output_type": "execute_result"
    }
   ],
   "source": [
    "zero([1,2])"
   ]
  },
  {
   "cell_type": "code",
   "execution_count": 34,
   "id": "5afbb7bf-3f2b-49b7-9d7a-2c34c2684079",
   "metadata": {},
   "outputs": [],
   "source": [
    "using LinearAlgebra"
   ]
  },
  {
   "cell_type": "markdown",
   "id": "7157096c-a6e2-442d-a671-b083aedf221c",
   "metadata": {},
   "source": [
    "Note:  I made one very small change in our trapezoid integrator when I put it in \"trapezoid.jl\".  When we compare the integral's value for different order, I changed the `abs` to `norm`.  For real (or complex) numbers this works the same, but norm can also work on vectors."
   ]
  },
  {
   "cell_type": "code",
   "execution_count": 35,
   "id": "95e45465-aa5e-463a-8c3c-8d2699757ad0",
   "metadata": {},
   "outputs": [
    {
     "name": "stdout",
     "output_type": "stream",
     "text": [
      "norm(-1) = 1.0\n",
      "norm(1) = 1.0\n",
      "norm(1 + 2im) = 2.23606797749979\n",
      "norm([2, 3, 1]) ^ 2 = 14.0\n"
     ]
    },
    {
     "data": {
      "text/plain": [
       "14.0"
      ]
     },
     "execution_count": 35,
     "metadata": {},
     "output_type": "execute_result"
    }
   ],
   "source": [
    "@show norm(-1)\n",
    "@show norm(1)\n",
    "@show norm(1+2im)\n",
    "@show norm([2,3,1])^2"
   ]
  },
  {
   "cell_type": "markdown",
   "id": "b7ddd4a3-d5dc-4b32-a91e-c5efa984af79",
   "metadata": {},
   "source": [
    "We could then calculate something like \n",
    "$$\n",
    "\\int_{\\vec{a}}^{\\vec{b}} \\vec{F}\\cdot d{\\vec r}\n",
    "$$\n",
    "along a straight line path"
   ]
  },
  {
   "cell_type": "code",
   "execution_count": 36,
   "id": "1151f4fb-df26-4c92-b202-ab70e2625ed4",
   "metadata": {},
   "outputs": [
    {
     "data": {
      "text/plain": [
       "1-element Vector{Int64}:\n",
       " 6"
      ]
     },
     "execution_count": 36,
     "metadata": {},
     "output_type": "execute_result"
    }
   ],
   "source": [
    "[1 2 3]*[1,1,1]"
   ]
  },
  {
   "cell_type": "code",
   "execution_count": 37,
   "id": "5b7f0075-d1d4-435d-8827-c3f1c5b0c602",
   "metadata": {},
   "outputs": [
    {
     "data": {
      "text/plain": [
       "3-element Vector{Int64}:\n",
       " 1\n",
       " 2\n",
       " 3"
      ]
     },
     "execution_count": 37,
     "metadata": {},
     "output_type": "execute_result"
    }
   ],
   "source": [
    "[1,2,3]"
   ]
  },
  {
   "cell_type": "code",
   "execution_count": 38,
   "id": "e803c0ed-79b8-40ae-a22f-c7bbe417cd18",
   "metadata": {},
   "outputs": [
    {
     "data": {
      "text/plain": [
       "F (generic function with 1 method)"
      ]
     },
     "execution_count": 38,
     "metadata": {},
     "output_type": "execute_result"
    }
   ],
   "source": [
    "F(r)= -transpose(r)/norm(r)^3"
   ]
  },
  {
   "cell_type": "code",
   "execution_count": 39,
   "id": "f7f6fe11-cc39-4105-9e0d-f70d735d63b9",
   "metadata": {},
   "outputs": [
    {
     "name": "stdout",
     "output_type": "stream",
     "text": [
      "F([1; 0; 0]) = [-1.0 0.0 0.0]\n",
      "F([2; 0; 0]) = [-0.25 0.0 0.0]\n",
      "F([0; 1; 0]) = [0.0 -1.0 0.0]\n",
      "F([0; 2; 0]) = [0.0 -0.25 0.0]\n"
     ]
    }
   ],
   "source": [
    "@show F([1; 0; 0])\n",
    "@show F([2; 0; 0])\n",
    "@show F([0; 1; 0])\n",
    "@show F([0; 2; 0]);"
   ]
  },
  {
   "cell_type": "code",
   "execution_count": 40,
   "id": "44f9f396-d4d2-4697-82c7-11a538405958",
   "metadata": {},
   "outputs": [
    {
     "data": {
      "text/plain": [
       "-0.5000000000084912"
      ]
     },
     "execution_count": 40,
     "metadata": {},
     "output_type": "execute_result"
    }
   ],
   "source": [
    "nrtrap(F,([1; 0; 0],[2; 0; 0]))"
   ]
  },
  {
   "cell_type": "code",
   "execution_count": 41,
   "id": "c855b93b-b1bd-46ff-963f-6cdac0bff746",
   "metadata": {},
   "outputs": [
    {
     "data": {
      "text/plain": [
       "V (generic function with 1 method)"
      ]
     },
     "execution_count": 41,
     "metadata": {},
     "output_type": "execute_result"
    }
   ],
   "source": [
    "V(r)=1/norm(r)"
   ]
  },
  {
   "cell_type": "code",
   "execution_count": 42,
   "id": "ec52aa66-76e4-472a-9104-d2b0389fc23b",
   "metadata": {},
   "outputs": [
    {
     "data": {
      "text/plain": [
       "-0.5"
      ]
     },
     "execution_count": 42,
     "metadata": {},
     "output_type": "execute_result"
    }
   ],
   "source": [
    "V([2; 0; 0])-V([1; 0; 0])"
   ]
  },
  {
   "cell_type": "code",
   "execution_count": 43,
   "id": "7b47e266-ec9b-41ac-adbb-917cdd32fe20",
   "metadata": {},
   "outputs": [
    {
     "data": {
      "text/plain": [
       "-0.858578643752598"
      ]
     },
     "execution_count": 43,
     "metadata": {},
     "output_type": "execute_result"
    }
   ],
   "source": [
    "nrtrap(F,([1; 0; 0],[3; 4; 5]))"
   ]
  },
  {
   "cell_type": "code",
   "execution_count": 44,
   "id": "5ae7b5c7-5fce-4417-a606-5ef4b558384e",
   "metadata": {},
   "outputs": [
    {
     "data": {
      "text/plain": [
       "-0.8585786437626906"
      ]
     },
     "execution_count": 44,
     "metadata": {},
     "output_type": "execute_result"
    }
   ],
   "source": [
    "V([3; 4; 5])-V([1; 0; 0])"
   ]
  },
  {
   "cell_type": "markdown",
   "id": "35ed2808-a693-4ddc-aa1e-c1220a7a75a5",
   "metadata": {},
   "source": [
    "## Contour Integrals"
   ]
  },
  {
   "cell_type": "markdown",
   "id": "c661a728-6397-4e52-b0f7-822db0c26536",
   "metadata": {},
   "source": [
    "Similarly we can do straight-line integrals in the complex plane"
   ]
  },
  {
   "cell_type": "code",
   "execution_count": 45,
   "id": "c9b13d6b-91bc-4bfb-8b86-39eaa3c79a48",
   "metadata": {},
   "outputs": [
    {
     "data": {
      "text/plain": [
       "0.3465735902605708 + 0.7853981633877467im"
      ]
     },
     "execution_count": 45,
     "metadata": {},
     "output_type": "execute_result"
    }
   ],
   "source": [
    "nrtrap(z->1/z,(1,1+1im))"
   ]
  },
  {
   "cell_type": "code",
   "execution_count": 46,
   "id": "8a76ace5-a31b-4b07-a1db-3e7e440a179b",
   "metadata": {},
   "outputs": [
    {
     "data": {
      "text/plain": [
       "(0.3465735902799727 + 0.7853981633974483im, 6.712470243266902e-10)"
      ]
     },
     "execution_count": 46,
     "metadata": {},
     "output_type": "execute_result"
    }
   ],
   "source": [
    "quadgk(z->1/z,1,1+1im)"
   ]
  },
  {
   "cell_type": "markdown",
   "id": "04346bf9-8a88-48d9-a490-9507e311e60b",
   "metadata": {},
   "source": [
    "Closed contours:"
   ]
  },
  {
   "cell_type": "code",
   "execution_count": 47,
   "id": "ea18aba0-5d13-4a47-8969-86500be949c0",
   "metadata": {},
   "outputs": [
    {
     "data": {
      "text/plain": [
       "0.9999999999876426 + 1.8860385562280946e-17im"
      ]
     },
     "execution_count": 47,
     "metadata": {},
     "output_type": "execute_result"
    }
   ],
   "source": [
    "nodes=[1,1im,-1,-1im,1]\n",
    "1/(2im*pi)*sum(nrtrap(z->1/z,(nodes[j],nodes[j+1])) for j in 1:(length(nodes)-1))"
   ]
  },
  {
   "cell_type": "code",
   "execution_count": 48,
   "id": "dcf71471-842c-42af-bef0-5e1c9fb90626",
   "metadata": {},
   "outputs": [
    {
     "data": {
      "image/png": "[encoded data removed]",
      "image/svg+xml": [
       "<?xml version=\"1.0\" encoding=\"utf-8\"?>\n",
       "<svg xmlns=\"http://www.w3.org/2000/svg\" xmlns:xlink=\"http://www.w3.org/1999/xlink\" width=\"600\" height=\"400\" viewBox=\"0 0 2400 1600\">\n",
       "<defs>\n",
       "  <clipPath id=\"clip850\">\n",
       "    <rect x=\"0\" y=\"0\" width=\"2400\" height=\"1600\"/>\n",
       "  </clipPath>\n",
       "</defs>\n",
       "<path clip-path=\"url(#clip850)\" d=\"M0 1600 L2400 1600 L2400 8.88178e-14 L0 8.88178e-14  Z\" fill=\"#ffffff\" fill-rule=\"evenodd\" fill-opacity=\"1\"/>\n",
       "<defs>\n",
       "  <clipPath id=\"clip851\">\n",
       "    <rect x=\"480\" y=\"0\" width=\"1681\" height=\"1600\"/>\n",
       "  </clipPath>\n",
       "</defs>\n",
       "<path clip-path=\"url(#clip850)\" d=\"M257.204 1423.18 L2112.76 1423.18 L2112.76 47.2441 L257.204 47.2441  Z\" fill=\"#ffffff\" fill-rule=\"evenodd\" fill-opacity=\"1\"/>\n",
       "<defs>\n",
       "  <clipPath id=\"clip852\">\n",
       "    <rect x=\"257\" y=\"47\" width=\"1857\" height=\"1377\"/>\n",
       "  </clipPath>\n",
       "</defs>\n",
       "<polyline clip-path=\"url(#clip852)\" style=\"stroke:#000000; stroke-linecap:round; stroke-linejoin:round; stroke-width:2; stroke-opacity:0.1; fill:none\" points=\"393.078,1423.18 393.078,47.2441 \"/>\n",
       "<polyline clip-path=\"url(#clip852)\" style=\"stroke:#000000; stroke-linecap:round; stroke-linejoin:round; stroke-width:2; stroke-opacity:0.1; fill:none\" points=\"809.868,1423.18 809.868,47.2441 \"/>\n",
       "<polyline clip-path=\"url(#clip852)\" style=\"stroke:#000000; stroke-linecap:round; stroke-linejoin:round; stroke-width:2; stroke-opacity:0.1; fill:none\" points=\"1226.66,1423.18 1226.66,47.2441 \"/>\n",
       "<polyline clip-path=\"url(#clip852)\" style=\"stroke:#000000; stroke-linecap:round; stroke-linejoin:round; stroke-width:2; stroke-opacity:0.1; fill:none\" points=\"1643.45,1423.18 1643.45,47.2441 \"/>\n",
       "<polyline clip-path=\"url(#clip852)\" style=\"stroke:#000000; stroke-linecap:round; stroke-linejoin:round; stroke-width:2; stroke-opacity:0.1; fill:none\" points=\"2060.24,1423.18 2060.24,47.2441 \"/>\n",
       "<polyline clip-path=\"url(#clip852)\" style=\"stroke:#000000; stroke-linecap:round; stroke-linejoin:round; stroke-width:2; stroke-opacity:0.1; fill:none\" points=\"257.204,1322.43 2112.76,1322.43 \"/>\n",
       "<polyline clip-path=\"url(#clip852)\" style=\"stroke:#000000; stroke-linecap:round; stroke-linejoin:round; stroke-width:2; stroke-opacity:0.1; fill:none\" points=\"257.204,1013.37 2112.76,1013.37 \"/>\n",
       "<polyline clip-path=\"url(#clip852)\" style=\"stroke:#000000; stroke-linecap:round; stroke-linejoin:round; stroke-width:2; stroke-opacity:0.1; fill:none\" points=\"257.204,704.306 2112.76,704.306 \"/>\n",
       "<polyline clip-path=\"url(#clip852)\" style=\"stroke:#000000; stroke-linecap:round; stroke-linejoin:round; stroke-width:2; stroke-opacity:0.1; fill:none\" points=\"257.204,395.246 2112.76,395.246 \"/>\n",
       "<polyline clip-path=\"url(#clip852)\" style=\"stroke:#000000; stroke-linecap:round; stroke-linejoin:round; stroke-width:2; stroke-opacity:0.1; fill:none\" points=\"257.204,86.1857 2112.76,86.1857 \"/>\n",
       "<polyline clip-path=\"url(#clip850)\" style=\"stroke:#000000; stroke-linecap:round; stroke-linejoin:round; stroke-width:4; stroke-opacity:1; fill:none\" points=\"257.204,1423.18 2112.76,1423.18 \"/>\n",
       "<polyline clip-path=\"url(#clip850)\" style=\"stroke:#000000; stroke-linecap:round; stroke-linejoin:round; stroke-width:4; stroke-opacity:1; fill:none\" points=\"393.078,1423.18 393.078,1404.28 \"/>\n",
       "<polyline clip-path=\"url(#clip850)\" style=\"stroke:#000000; stroke-linecap:round; stroke-linejoin:round; stroke-width:4; stroke-opacity:1; fill:none\" points=\"809.868,1423.18 809.868,1404.28 \"/>\n",
       "<polyline clip-path=\"url(#clip850)\" style=\"stroke:#000000; stroke-linecap:round; stroke-linejoin:round; stroke-width:4; stroke-opacity:1; fill:none\" points=\"1226.66,1423.18 1226.66,1404.28 \"/>\n",
       "<polyline clip-path=\"url(#clip850)\" style=\"stroke:#000000; stroke-linecap:round; stroke-linejoin:round; stroke-width:4; stroke-opacity:1; fill:none\" points=\"1643.45,1423.18 1643.45,1404.28 \"/>\n",
       "<polyline clip-path=\"url(#clip850)\" style=\"stroke:#000000; stroke-linecap:round; stroke-linejoin:round; stroke-width:4; stroke-opacity:1; fill:none\" points=\"2060.24,1423.18 2060.24,1404.28 \"/>\n",
       "<path clip-path=\"url(#clip850)\" d=\"M339.606 1468.75 L369.282 1468.75 L369.282 1472.69 L339.606 1472.69 L339.606 1468.75 Z\" fill=\"#000000\" fill-rule=\"nonzero\" fill-opacity=\"1\" /><path clip-path=\"url(#clip850)\" d=\"M380.184 1481.64 L387.823 1481.64 L387.823 1455.28 L379.513 1456.95 L379.513 1452.69 L387.777 1451.02 L392.453 1451.02 L392.453 1481.64 L400.092 1481.64 L400.092 1485.58 L380.184 1485.58 L380.184 1481.64 Z\" fill=\"#000000\" fill-rule=\"nonzero\" fill-opacity=\"1\" /><path clip-path=\"url(#clip850)\" d=\"M409.536 1479.7 L414.42 1479.7 L414.42 1485.58 L409.536 1485.58 L409.536 1479.7 Z\" fill=\"#000000\" fill-rule=\"nonzero\" fill-opacity=\"1\" /><path clip-path=\"url(#clip850)\" d=\"M434.605 1454.1 Q430.994 1454.1 429.166 1457.66 Q427.36 1461.2 427.36 1468.33 Q427.36 1475.44 429.166 1479.01 Q430.994 1482.55 434.605 1482.55 Q438.24 1482.55 440.045 1479.01 Q441.874 1475.44 441.874 1468.33 Q441.874 1461.2 440.045 1457.66 Q438.24 1454.1 434.605 1454.1 M434.605 1450.39 Q440.415 1450.39 443.471 1455 Q446.55 1459.58 446.55 1468.33 Q446.55 1477.06 443.471 1481.67 Q440.415 1486.25 434.605 1486.25 Q428.795 1486.25 425.716 1481.67 Q422.661 1477.06 422.661 1468.33 Q422.661 1459.58 425.716 1455 Q428.795 1450.39 434.605 1450.39 Z\" fill=\"#000000\" fill-rule=\"nonzero\" fill-opacity=\"1\" /><path clip-path=\"url(#clip850)\" d=\"M756.894 1468.75 L786.57 1468.75 L786.57 1472.69 L756.894 1472.69 L756.894 1468.75 Z\" fill=\"#000000\" fill-rule=\"nonzero\" fill-opacity=\"1\" /><path clip-path=\"url(#clip850)\" d=\"M806.662 1454.1 Q803.051 1454.1 801.223 1457.66 Q799.417 1461.2 799.417 1468.33 Q799.417 1475.44 801.223 1479.01 Q803.051 1482.55 806.662 1482.55 Q810.297 1482.55 812.102 1479.01 Q813.931 1475.44 813.931 1468.33 Q813.931 1461.2 812.102 1457.66 Q810.297 1454.1 806.662 1454.1 M806.662 1450.39 Q812.473 1450.39 815.528 1455 Q818.607 1459.58 818.607 1468.33 Q818.607 1477.06 815.528 1481.67 Q812.473 1486.25 806.662 1486.25 Q800.852 1486.25 797.774 1481.67 Q794.718 1477.06 794.718 1468.33 Q794.718 1459.58 797.774 1455 Q800.852 1450.39 806.662 1450.39 Z\" fill=\"#000000\" fill-rule=\"nonzero\" fill-opacity=\"1\" /><path clip-path=\"url(#clip850)\" d=\"M826.824 1479.7 L831.709 1479.7 L831.709 1485.58 L826.824 1485.58 L826.824 1479.7 Z\" fill=\"#000000\" fill-rule=\"nonzero\" fill-opacity=\"1\" /><path clip-path=\"url(#clip850)\" d=\"M841.94 1451.02 L860.296 1451.02 L860.296 1454.96 L846.222 1454.96 L846.222 1463.43 Q847.241 1463.08 848.259 1462.92 Q849.278 1462.73 850.296 1462.73 Q856.083 1462.73 859.463 1465.9 Q862.843 1469.08 862.843 1474.49 Q862.843 1480.07 859.37 1483.17 Q855.898 1486.25 849.579 1486.25 Q847.403 1486.25 845.134 1485.88 Q842.889 1485.51 840.482 1484.77 L840.482 1480.07 Q842.565 1481.2 844.787 1481.76 Q847.009 1482.32 849.486 1482.32 Q853.491 1482.32 855.829 1480.21 Q858.167 1478.1 858.167 1474.49 Q858.167 1470.88 855.829 1468.77 Q853.491 1466.67 849.486 1466.67 Q847.611 1466.67 845.736 1467.08 Q843.884 1467.5 841.94 1468.38 L841.94 1451.02 Z\" fill=\"#000000\" fill-rule=\"nonzero\" fill-opacity=\"1\" /><path clip-path=\"url(#clip850)\" d=\"M1204.04 1454.1 Q1200.43 1454.1 1198.6 1457.66 Q1196.8 1461.2 1196.8 1468.33 Q1196.8 1475.44 1198.6 1479.01 Q1200.43 1482.55 1204.04 1482.55 Q1207.68 1482.55 1209.48 1479.01 Q1211.31 1475.44 1211.31 1468.33 Q1211.31 1461.2 1209.48 1457.66 Q1207.68 1454.1 1204.04 1454.1 M1204.04 1450.39 Q1209.85 1450.39 1212.91 1455 Q1215.99 1459.58 1215.99 1468.33 Q1215.99 1477.06 1212.91 1481.67 Q1209.85 1486.25 1204.04 1486.25 Q1198.23 1486.25 1195.15 1481.67 Q1192.1 1477.06 1192.1 1468.33 Q1192.1 1459.58 1195.15 1455 Q1198.23 1450.39 1204.04 1450.39 Z\" fill=\"#000000\" fill-rule=\"nonzero\" fill-opacity=\"1\" /><path clip-path=\"url(#clip850)\" d=\"M1224.21 1479.7 L1229.09 1479.7 L1229.09 1485.58 L1224.21 1485.58 L1224.21 1479.7 Z\" fill=\"#000000\" fill-rule=\"nonzero\" fill-opacity=\"1\" /><path clip-path=\"url(#clip850)\" d=\"M1249.27 1454.1 Q1245.66 1454.1 1243.83 1457.66 Q1242.03 1461.2 1242.03 1468.33 Q1242.03 1475.44 1243.83 1479.01 Q1245.66 1482.55 1249.27 1482.55 Q1252.91 1482.55 1254.71 1479.01 Q1256.54 1475.44 1256.54 1468.33 Q1256.54 1461.2 1254.71 1457.66 Q1252.91 1454.1 1249.27 1454.1 M1249.27 1450.39 Q1255.08 1450.39 1258.14 1455 Q1261.22 1459.58 1261.22 1468.33 Q1261.22 1477.06 1258.14 1481.67 Q1255.08 1486.25 1249.27 1486.25 Q1243.46 1486.25 1240.39 1481.67 Q1237.33 1477.06 1237.33 1468.33 Q1237.33 1459.58 1240.39 1455 Q1243.46 1450.39 1249.27 1450.39 Z\" fill=\"#000000\" fill-rule=\"nonzero\" fill-opacity=\"1\" /><path clip-path=\"url(#clip850)\" d=\"M1621.33 1454.1 Q1617.72 1454.1 1615.89 1457.66 Q1614.09 1461.2 1614.09 1468.33 Q1614.09 1475.44 1615.89 1479.01 Q1617.72 1482.55 1621.33 1482.55 Q1624.97 1482.55 1626.77 1479.01 Q1628.6 1475.44 1628.6 1468.33 Q1628.6 1461.2 1626.77 1457.66 Q1624.97 1454.1 1621.33 1454.1 M1621.33 1450.39 Q1627.14 1450.39 1630.2 1455 Q1633.28 1459.58 1633.28 1468.33 Q1633.28 1477.06 1630.2 1481.67 Q1627.14 1486.25 1621.33 1486.25 Q1615.52 1486.25 1612.44 1481.67 Q1609.39 1477.06 1609.39 1468.33 Q1609.39 1459.58 1612.44 1455 Q1615.52 1450.39 1621.33 1450.39 Z\" fill=\"#000000\" fill-rule=\"nonzero\" fill-opacity=\"1\" /><path clip-path=\"url(#clip850)\" d=\"M1641.49 1479.7 L1646.38 1479.7 L1646.38 1485.58 L1641.49 1485.58 L1641.49 1479.7 Z\" fill=\"#000000\" fill-rule=\"nonzero\" fill-opacity=\"1\" /><path clip-path=\"url(#clip850)\" d=\"M1656.61 1451.02 L1674.97 1451.02 L1674.97 1454.96 L1660.89 1454.96 L1660.89 1463.43 Q1661.91 1463.08 1662.93 1462.92 Q1663.95 1462.73 1664.97 1462.73 Q1670.75 1462.73 1674.13 1465.9 Q1677.51 1469.08 1677.51 1474.49 Q1677.51 1480.07 1674.04 1483.17 Q1670.57 1486.25 1664.25 1486.25 Q1662.07 1486.25 1659.8 1485.88 Q1657.56 1485.51 1655.15 1484.77 L1655.15 1480.07 Q1657.23 1481.2 1659.46 1481.76 Q1661.68 1482.32 1664.16 1482.32 Q1668.16 1482.32 1670.5 1480.21 Q1672.84 1478.1 1672.84 1474.49 Q1672.84 1470.88 1670.5 1468.77 Q1668.16 1466.67 1664.16 1466.67 Q1662.28 1466.67 1660.41 1467.08 Q1658.55 1467.5 1656.61 1468.38 L1656.61 1451.02 Z\" fill=\"#000000\" fill-rule=\"nonzero\" fill-opacity=\"1\" /><path clip-path=\"url(#clip850)\" d=\"M2027.39 1481.64 L2035.03 1481.64 L2035.03 1455.28 L2026.72 1456.95 L2026.72 1452.69 L2034.99 1451.02 L2039.66 1451.02 L2039.66 1481.64 L2047.3 1481.64 L2047.3 1485.58 L2027.39 1485.58 L2027.39 1481.64 Z\" fill=\"#000000\" fill-rule=\"nonzero\" fill-opacity=\"1\" /><path clip-path=\"url(#clip850)\" d=\"M2056.74 1479.7 L2061.63 1479.7 L2061.63 1485.58 L2056.74 1485.58 L2056.74 1479.7 Z\" fill=\"#000000\" fill-rule=\"nonzero\" fill-opacity=\"1\" /><path clip-path=\"url(#clip850)\" d=\"M2081.81 1454.1 Q2078.2 1454.1 2076.37 1457.66 Q2074.57 1461.2 2074.57 1468.33 Q2074.57 1475.44 2076.37 1479.01 Q2078.2 1482.55 2081.81 1482.55 Q2085.45 1482.55 2087.25 1479.01 Q2089.08 1475.44 2089.08 1468.33 Q2089.08 1461.2 2087.25 1457.66 Q2085.45 1454.1 2081.81 1454.1 M2081.81 1450.39 Q2087.62 1450.39 2090.68 1455 Q2093.76 1459.58 2093.76 1468.33 Q2093.76 1477.06 2090.68 1481.67 Q2087.62 1486.25 2081.81 1486.25 Q2076 1486.25 2072.93 1481.67 Q2069.87 1477.06 2069.87 1468.33 Q2069.87 1459.58 2072.93 1455 Q2076 1450.39 2081.81 1450.39 Z\" fill=\"#000000\" fill-rule=\"nonzero\" fill-opacity=\"1\" /><path clip-path=\"url(#clip850)\" d=\"M1201.59 1532.4 L1188.7 1549.74 L1202.26 1568.04 L1195.36 1568.04 L1184.98 1554.04 L1174.6 1568.04 L1167.7 1568.04 L1181.54 1549.39 L1168.87 1532.4 L1175.78 1532.4 L1185.23 1545.1 L1194.69 1532.4 L1201.59 1532.4 Z\" fill=\"#000000\" fill-rule=\"nonzero\" fill-opacity=\"1\" /><polyline clip-path=\"url(#clip850)\" style=\"stroke:#000000; stroke-linecap:round; stroke-linejoin:round; stroke-width:4; stroke-opacity:1; fill:none\" points=\"257.204,1423.18 257.204,47.2441 \"/>\n",
       "<polyline clip-path=\"url(#clip850)\" style=\"stroke:#000000; stroke-linecap:round; stroke-linejoin:round; stroke-width:4; stroke-opacity:1; fill:none\" points=\"257.204,1322.43 273.937,1322.43 \"/>\n",
       "<polyline clip-path=\"url(#clip850)\" style=\"stroke:#000000; stroke-linecap:round; stroke-linejoin:round; stroke-width:4; stroke-opacity:1; fill:none\" points=\"257.204,1013.37 273.937,1013.37 \"/>\n",
       "<polyline clip-path=\"url(#clip850)\" style=\"stroke:#000000; stroke-linecap:round; stroke-linejoin:round; stroke-width:4; stroke-opacity:1; fill:none\" points=\"257.204,704.306 273.937,704.306 \"/>\n",
       "<polyline clip-path=\"url(#clip850)\" style=\"stroke:#000000; stroke-linecap:round; stroke-linejoin:round; stroke-width:4; stroke-opacity:1; fill:none\" points=\"257.204,395.246 273.937,395.246 \"/>\n",
       "<polyline clip-path=\"url(#clip850)\" style=\"stroke:#000000; stroke-linecap:round; stroke-linejoin:round; stroke-width:4; stroke-opacity:1; fill:none\" points=\"257.204,86.1857 273.937,86.1857 \"/>\n",
       "<path clip-path=\"url(#clip850)\" d=\"M114.26 1322.88 L143.936 1322.88 L143.936 1326.81 L114.26 1326.81 L114.26 1322.88 Z\" fill=\"#000000\" fill-rule=\"nonzero\" fill-opacity=\"1\" /><path clip-path=\"url(#clip850)\" d=\"M154.839 1335.77 L162.477 1335.77 L162.477 1309.41 L154.167 1311.07 L154.167 1306.81 L162.431 1305.15 L167.107 1305.15 L167.107 1335.77 L174.746 1335.77 L174.746 1339.71 L154.839 1339.71 L154.839 1335.77 Z\" fill=\"#000000\" fill-rule=\"nonzero\" fill-opacity=\"1\" /><path clip-path=\"url(#clip850)\" d=\"M184.19 1333.83 L189.075 1333.83 L189.075 1339.71 L184.19 1339.71 L184.19 1333.83 Z\" fill=\"#000000\" fill-rule=\"nonzero\" fill-opacity=\"1\" /><path clip-path=\"url(#clip850)\" d=\"M209.26 1308.22 Q205.649 1308.22 203.82 1311.79 Q202.014 1315.33 202.014 1322.46 Q202.014 1329.57 203.82 1333.13 Q205.649 1336.67 209.26 1336.67 Q212.894 1336.67 214.699 1333.13 Q216.528 1329.57 216.528 1322.46 Q216.528 1315.33 214.699 1311.79 Q212.894 1308.22 209.26 1308.22 M209.26 1304.52 Q215.07 1304.52 218.125 1309.13 Q221.204 1313.71 221.204 1322.46 Q221.204 1331.19 218.125 1335.79 Q215.07 1340.38 209.26 1340.38 Q203.449 1340.38 200.371 1335.79 Q197.315 1331.19 197.315 1322.46 Q197.315 1313.71 200.371 1309.13 Q203.449 1304.52 209.26 1304.52 Z\" fill=\"#000000\" fill-rule=\"nonzero\" fill-opacity=\"1\" /><path clip-path=\"url(#clip850)\" d=\"M115.256 1013.82 L144.931 1013.82 L144.931 1017.75 L115.256 1017.75 L115.256 1013.82 Z\" fill=\"#000000\" fill-rule=\"nonzero\" fill-opacity=\"1\" /><path clip-path=\"url(#clip850)\" d=\"M165.024 999.165 Q161.413 999.165 159.584 1002.73 Q157.778 1006.27 157.778 1013.4 Q157.778 1020.51 159.584 1024.07 Q161.413 1027.61 165.024 1027.61 Q168.658 1027.61 170.464 1024.07 Q172.292 1020.51 172.292 1013.4 Q172.292 1006.27 170.464 1002.73 Q168.658 999.165 165.024 999.165 M165.024 995.461 Q170.834 995.461 173.889 1000.07 Q176.968 1004.65 176.968 1013.4 Q176.968 1022.13 173.889 1026.73 Q170.834 1031.32 165.024 1031.32 Q159.214 1031.32 156.135 1026.73 Q153.079 1022.13 153.079 1013.4 Q153.079 1004.65 156.135 1000.07 Q159.214 995.461 165.024 995.461 Z\" fill=\"#000000\" fill-rule=\"nonzero\" fill-opacity=\"1\" /><path clip-path=\"url(#clip850)\" d=\"M185.186 1024.77 L190.07 1024.77 L190.07 1030.65 L185.186 1030.65 L185.186 1024.77 Z\" fill=\"#000000\" fill-rule=\"nonzero\" fill-opacity=\"1\" /><path clip-path=\"url(#clip850)\" d=\"M200.301 996.086 L218.658 996.086 L218.658 1000.02 L204.584 1000.02 L204.584 1008.49 Q205.602 1008.15 206.621 1007.98 Q207.639 1007.8 208.658 1007.8 Q214.445 1007.8 217.824 1010.97 Q221.204 1014.14 221.204 1019.56 Q221.204 1025.14 217.732 1028.24 Q214.26 1031.32 207.94 1031.32 Q205.764 1031.32 203.496 1030.95 Q201.25 1030.58 198.843 1029.84 L198.843 1025.14 Q200.926 1026.27 203.149 1026.83 Q205.371 1027.38 207.848 1027.38 Q211.852 1027.38 214.19 1025.28 Q216.528 1023.17 216.528 1019.56 Q216.528 1015.95 214.19 1013.84 Q211.852 1011.73 207.848 1011.73 Q205.973 1011.73 204.098 1012.15 Q202.246 1012.57 200.301 1013.45 L200.301 996.086 Z\" fill=\"#000000\" fill-rule=\"nonzero\" fill-opacity=\"1\" /><path clip-path=\"url(#clip850)\" d=\"M164.028 690.105 Q160.417 690.105 158.589 693.669 Q156.783 697.211 156.783 704.341 Q156.783 711.447 158.589 715.012 Q160.417 718.554 164.028 718.554 Q167.663 718.554 169.468 715.012 Q171.297 711.447 171.297 704.341 Q171.297 697.211 169.468 693.669 Q167.663 690.105 164.028 690.105 M164.028 686.401 Q169.839 686.401 172.894 691.007 Q175.973 695.591 175.973 704.341 Q175.973 713.067 172.894 717.674 Q169.839 722.257 164.028 722.257 Q158.218 722.257 155.14 717.674 Q152.084 713.067 152.084 704.341 Q152.084 695.591 155.14 691.007 Q158.218 686.401 164.028 686.401 Z\" fill=\"#000000\" fill-rule=\"nonzero\" fill-opacity=\"1\" /><path clip-path=\"url(#clip850)\" d=\"M184.19 715.706 L189.075 715.706 L189.075 721.586 L184.19 721.586 L184.19 715.706 Z\" fill=\"#000000\" fill-rule=\"nonzero\" fill-opacity=\"1\" /><path clip-path=\"url(#clip850)\" d=\"M209.26 690.105 Q205.649 690.105 203.82 693.669 Q202.014 697.211 202.014 704.341 Q202.014 711.447 203.82 715.012 Q205.649 718.554 209.26 718.554 Q212.894 718.554 214.699 715.012 Q216.528 711.447 216.528 704.341 Q216.528 697.211 214.699 693.669 Q212.894 690.105 209.26 690.105 M209.26 686.401 Q215.07 686.401 218.125 691.007 Q221.204 695.591 221.204 704.341 Q221.204 713.067 218.125 717.674 Q215.07 722.257 209.26 722.257 Q203.449 722.257 200.371 717.674 Q197.315 713.067 197.315 704.341 Q197.315 695.591 200.371 691.007 Q203.449 686.401 209.26 686.401 Z\" fill=\"#000000\" fill-rule=\"nonzero\" fill-opacity=\"1\" /><path clip-path=\"url(#clip850)\" d=\"M165.024 381.045 Q161.413 381.045 159.584 384.609 Q157.778 388.151 157.778 395.281 Q157.778 402.387 159.584 405.952 Q161.413 409.493 165.024 409.493 Q168.658 409.493 170.464 405.952 Q172.292 402.387 172.292 395.281 Q172.292 388.151 170.464 384.609 Q168.658 381.045 165.024 381.045 M165.024 377.341 Q170.834 377.341 173.889 381.947 Q176.968 386.531 176.968 395.281 Q176.968 404.007 173.889 408.614 Q170.834 413.197 165.024 413.197 Q159.214 413.197 156.135 408.614 Q153.079 404.007 153.079 395.281 Q153.079 386.531 156.135 381.947 Q159.214 377.341 165.024 377.341 Z\" fill=\"#000000\" fill-rule=\"nonzero\" fill-opacity=\"1\" /><path clip-path=\"url(#clip850)\" d=\"M185.186 406.646 L190.07 406.646 L190.07 412.526 L185.186 412.526 L185.186 406.646 Z\" fill=\"#000000\" fill-rule=\"nonzero\" fill-opacity=\"1\" /><path clip-path=\"url(#clip850)\" d=\"M200.301 377.966 L218.658 377.966 L218.658 381.901 L204.584 381.901 L204.584 390.373 Q205.602 390.026 206.621 389.864 Q207.639 389.679 208.658 389.679 Q214.445 389.679 217.824 392.85 Q221.204 396.021 221.204 401.438 Q221.204 407.017 217.732 410.118 Q214.26 413.197 207.94 413.197 Q205.764 413.197 203.496 412.827 Q201.25 412.456 198.843 411.716 L198.843 407.017 Q200.926 408.151 203.149 408.706 Q205.371 409.262 207.848 409.262 Q211.852 409.262 214.19 407.155 Q216.528 405.049 216.528 401.438 Q216.528 397.827 214.19 395.72 Q211.852 393.614 207.848 393.614 Q205.973 393.614 204.098 394.031 Q202.246 394.447 200.301 395.327 L200.301 377.966 Z\" fill=\"#000000\" fill-rule=\"nonzero\" fill-opacity=\"1\" /><path clip-path=\"url(#clip850)\" d=\"M154.839 99.5305 L162.477 99.5305 L162.477 73.1649 L154.167 74.8316 L154.167 70.5723 L162.431 68.9057 L167.107 68.9057 L167.107 99.5305 L174.746 99.5305 L174.746 103.466 L154.839 103.466 L154.839 99.5305 Z\" fill=\"#000000\" fill-rule=\"nonzero\" fill-opacity=\"1\" /><path clip-path=\"url(#clip850)\" d=\"M184.19 97.5861 L189.075 97.5861 L189.075 103.466 L184.19 103.466 L184.19 97.5861 Z\" fill=\"#000000\" fill-rule=\"nonzero\" fill-opacity=\"1\" /><path clip-path=\"url(#clip850)\" d=\"M209.26 71.9844 Q205.649 71.9844 203.82 75.5492 Q202.014 79.0908 202.014 86.2204 Q202.014 93.3268 203.82 96.8916 Q205.649 100.433 209.26 100.433 Q212.894 100.433 214.699 96.8916 Q216.528 93.3268 216.528 86.2204 Q216.528 79.0908 214.699 75.5492 Q212.894 71.9844 209.26 71.9844 M209.26 68.2807 Q215.07 68.2807 218.125 72.8871 Q221.204 77.4704 221.204 86.2204 Q221.204 94.9472 218.125 99.5537 Q215.07 104.137 209.26 104.137 Q203.449 104.137 200.371 99.5537 Q197.315 94.9472 197.315 86.2204 Q197.315 77.4704 200.371 72.8871 Q203.449 68.2807 209.26 68.2807 Z\" fill=\"#000000\" fill-rule=\"nonzero\" fill-opacity=\"1\" /><path clip-path=\"url(#clip850)\" d=\"M67.3143 733.525 Q73.68 736.008 75.6216 738.363 Q77.5631 740.718 77.5631 744.665 L77.5631 749.344 L72.6615 749.344 L72.6615 745.906 Q72.6615 743.487 71.5157 742.151 Q70.3699 740.814 66.1048 739.191 L63.4312 738.14 L28.3562 752.559 L28.3562 746.352 L56.238 735.212 L28.3562 724.072 L28.3562 717.865 L67.3143 733.525 Z\" fill=\"#000000\" fill-rule=\"nonzero\" fill-opacity=\"1\" /><g clip-path=\"url(#clip852)\">\n",
       "<image width=\"1751\" height=\"1298\" xlink:href=\"data:image/png;base64,\n",
       "iVBORw0KGgoAAAANSUhEUgAABtcAAAUSCAYAAABy1a5WAAAgAElEQVR4nOzaTYpd1xmG0bOrriwr\n",
       "YByM5xBIy0PIVDKyTCVDSCtjSMMEgsGKotI9mYAaT+ODLTZrjeDl49T9e2qt63FfDFq7B5xjueWs\n",
       "l90DDuLZnLI8l7O8bg7ybE5aXjcHueUct+Rb5Sv6HLecdLvnoOfuAWe5PZtTbs/mIM/lLM/mGK+Z\n",
       "Y/xyBAAAAAAAAJG4BgAAAAAAAJG4BgAAAAAAAJG4BgAAAAAAAJG4BgAAAAAAAJG4BgAAAAAAAJG4\n",
       "BgAAAAAAAJG4BgAAAAAAAJG4BgAAAAAAAJG4BgAAAAAAAJG4BgAAAAAAAJG4BgAAAAAAAJG4BgAA\n",
       "AAAAAJG4BgAAAAAAAJG4BgAAAAAAAJG4BgAAAAAAAJG4BgAAAAAAAJG4BgAAAAAAAJG4BgAAAAAA\n",
       "AJG4BgAAAAAAAJG4BgAAAAAAAJG4BgAAAAAAAJG4BgAAAAAAAJG4BgAAAAAAAJG4BgAAAAAAAJG4\n",
       "BgAAAAAAAJG4BgAAAAAAAJG4BgAAAAAAAJG4BgAAAAAAAJG4BgAAAAAAAJG4BgAAAAAAAJG4BgAA\n",
       "AAAAAJG4BgAAAAAAAJG4BgAAAAAAAJG4BgAAAAAAAJG4BgAAAAAAAJG4BgAAAAAAAJG4BgAAAAAA\n",
       "AJG4BgAAAAAAAJG4BgAAAAAAAJG4BgAAAAAAAJG4BgAAAAAAAJG4BgAAAAAAAJG4BgAAAAAAAJG4\n",
       "BgAAAAAAAJG4BgAAAAAAAJG4BgAAAAAAAJG4BgAAAAAAAJG4BgAAAAAAAJG4BgAAAAAAAJG4BgAA\n",
       "AAAAAJG4BgAAAAAAAJG4BgAAAAAAAJG4BgAAAAAAAJG4BgAAAAAAAJG4BgAAAAAAAJG4BgAAAAAA\n",
       "AJG4BgAAAAAAAJG4BgAAAAAAAJG4BgAAAAAAAJG4BgAAAAAAANHjutbuDWdZ7jlH+5203HPOcss5\n",
       "bjnJ3/kgf+ejPJuTfNacsnxu5xt13/fuCQdxy1nP3QPOcbvlpHu555Tls+Ycf+ejvKMP8po5xi8d\n",
       "AAAAAAAAEIlrAAAAAAAAEIlrAAAAAAAAEIlrAAAAAAAAEIlrAAAAAAAAEIlrAAAAAAAAEIlrAAAA\n",
       "AAAAEIlrAAAAAAAAEIlrAAAAAAAAEIlrAAAAAAAAEIlrAAAAAAAAEIlrAAAAAAAAEIlrAAAAAAAA\n",
       "EIlrAAAAAAAAEIlrAAAAAAAAEIlrAAAAAAAAEIlrAAAAAAAAEIlrAAAAAAAAEIlrAAAAAAAAEIlr\n",
       "AAAAAAAAEIlrAAAAAAAAEIlrAAAAAAAAEIlrAAAAAAAAEIlrAAAAAAAAEIlrAAAAAAAAEIlrAAAA\n",
       "AAAAEIlrAAAAAAAAEIlrAAAAAAAAEIlrAAAAAAAAEIlrAAAAAAAAEIlrAAAAAAAAEIlrAAAAAAAA\n",
       "EIlrAAAAAAAAEIlrAAAAAAAAEIlrAAAAAAAAEIlrAAAAAAAAEIlrAAAAAAAAEIlrAAAAAAAAEIlr\n",
       "AAAAAAAAEIlrAAAAAAAAEIlrAAAAAAAAEIlrAAAAAAAAEIlrAAAAAAAAEIlrAAAAAAAAEIlrAAAA\n",
       "AAAAEIlrAAAAAAAAEIlrAAAAAAAAEIlrAAAAAAAAEIlrAAAAAAAAEIlrAAAAAAAAEIlrAAAAAAAA\n",
       "EIlrAAAAAAAAEIlrAAAAAAAAEIlrAAAAAAAAEIlrAAAAAAAAEIlrAAAAAAAAEIlrAAAAAAAAEIlr\n",
       "AAAAAAAAEIlrAAAAAAAAEIlrAAAAAAAAEIlrAAAAAAAAED2utXZvOIxeOWW55azlnlPW9bp7wjk8\n",
       "l6M8m3PWcstJ3tPnLK+bg3wP4hu17t0LjnHfz90TjnJf7jnlvr7snnAY9xxz+3w0xSln+Xg0xynn\n",
       "+HYOAAAAAAAAkbgGAAAAAAAAkbgGAAAAAAAAkbgGAAAAAAAAkbgGAAAAAAAAkbgGAAAAAAAAkbgG\n",
       "AAAAAAAAkbgGAAAAAAAAkbgGAAAAAAAAkbgGAAAAAAAAkbgGAAAAAAAAkbgGAAAAAAAAkbgGAAAA\n",
       "AAAAkbgGAAAAAAAAkbgGAAAAAAAAkbgGAAAAAAAAkbgGAAAAAAAAkbgGAAAAAAAAkbgGAAAAAAAA\n",
       "kbgGAAAAAAAAkbgGAAAAAAAAkbgGAAAAAAAAkbgGAAAAAAAAkbgGAAAAAAAAkbgGAAAAAAAAkbgG\n",
       "AAAAAAAAkbgGAAAAAAAAkbgGAAAAAAAAkbgGAAAAAAAAkbgGAAAAAAAAkbgGAAAAAAAAkbgGAAAA\n",
       "AAAAkbgGAAAAAAAAkbgGAAAAAAAAkbgGAAAAAAAAkbgGAAAAAAAAkbgGAAAAAAAAkbgGAAAAAAAA\n",
       "kbgGAAAAAAAAkbgGAAAAAAAAkbgGAAAAAAAAkbgGAAAAAAAAkbgGAAAAAAAAkbgGAAAAAAAAkbgG\n",
       "AAAAAAAAkbgGAAAAAAAAkbgGAAAAAAAAkbgGAAAAAAAAkbgGAAAAAAAAkbgGAAAAAAAAkbgGAAAA\n",
       "AAAAkbgGAAAAAAAAkbgGAAAAAAAAkbgGAAAAAAAAkbgGAAAAAAAAkbgGAAAAAAAAkbgGAAAAAAAA\n",
       "kbgGAAAAAAAAkbgGAAAAAAAAkbgGAAAAAAAAkbgGAAAAAAAA0eO61u4Nh3HPMUv7nbSu190TzrHc\n",
       "csrLeuyecBR/53OWZ3PUi9fNMcstxyz/Z8g36r6euycc476/7J5wlKd7jrmvt90TjnJ7Tx/z9GyO\n",
       "WffuBWe5/eQ+5/ZwTvHuAwAAAAAAAJG4BgAAAAAAAJG4BgAAAAAAAJG4BgAAAAAAAJG4BgAAAAAA\n",
       "AJG4BgAAAAAAAJG4BgAAAAAAAJG4BgAAAAAAAJG4BgAAAAAAAJG4BgAAAAAAAJG4BgAAAAAAAJG4\n",
       "BgAAAAAAAJG4BgAAAAAAAJG4BgAAAAAAAJG4BgAAAAAAAJG4BgAAAAAAAJG4BgAAAAAAAJG4BgAA\n",
       "AAAAAJG4BgAAAAAAAJG4BgAAAAAAAJG4BgAAAAAAAJG4BgAAAAAAAJG4BgAAAAAAAJG4BgAAAAAA\n",
       "AJG4BgAAAAAAAJG4BgAAAAAAAJG4BgAAAAAAAJG4BgAAAAAAAJG4BgAAAAAAAJG4BgAAAAAAAJG4\n",
       "BgAAAAAAAJG4BgAAAAAAAJG4BgAAAAAAAJG4BgAAAAAAAJG4BgAAAAAAAJG4BgAAAAAAAJG4BgAA\n",
       "AAAAAJG4BgAAAAAAAJG4BgAAAAAAAJG4BgAAAAAAAJG4BgAAAAAAAJG4BgAAAAAAAJG4BgAAAAAA\n",
       "AJG4BgAAAAAAAJG4BgAAAAAAAJG4BgAAAAAAAJG4BgAAAAAAAJG4BgAAAAAAAJG4BgAAAAAAAJG4\n",
       "BgAAAAAAAJG4BgAAAAAAAJG4BgAAAAAAAJG4BgAAAAAAAJG4BgAAAAAAAJG4BgAAAAAAAJG4BgAA\n",
       "AAAAAJG4BgAAAAAAAJG4BgAAAAAAAJG4BgAAAAAAAJG4BgAAAAAAAJG4BgAAAAAAANHjutbuDUdZ\n",
       "euUgtxy13HPKy3rsnnCM5ZajXta73ROO8bq+2z3hKK8vns0p3oPmvFyvuyfAVz2vL7snHON5v+2e\n",
       "cJQvz8+7Jxzjy/2/3ROO8rw9m1P8cjTned27J5zlds8py7M5xmsmAAAAAAAAROIaAAAAAAAAROIa\n",
       "AAAAAAAAROIaAAAAAAAAROIaAAAAAAAAROIaAAAAAAAAROIaAAAAAAAAROIaAAAAAAAAROIaAAAA\n",
       "AAAAROIaAAAAAAAAROIaAAAAAAAAROIaAAAAAAAAROIaAAAAAAAAROIaAAAAAAAAROIaAAAAAAAA\n",
       "ROIaAAAAAAAAROIaAAAAAAAAROIaAAAAAAAAROIaAAAAAAAAROIaAAAAAAAAROIaAAAAAAAAROIa\n",
       "AAAAAAAAROIaAAAAAAAAROIaAAAAAAAAROIaAAAAAAAAROIaAAAAAAAAROIaAAAAAAAAROIaAAAA\n",
       "AAAAROIaAAAAAAAAROIaAAAAAAAAROIaAAAAAAAAROIaAAAAAAAAROIaAAAAAAAAROIaAAAAAAAA\n",
       "ROIaAAAAAAAAROIaAAAAAAAAROIaAAAAAAAAROIaAAAAAAAAROIaAAAAAAAAROIaAAAAAAAAROIa\n",
       "AAAAAAAAROIaAAAAAAAAROIaAAAAAAAAROIaAAAAAAAAROIaAAAAAAAAROIaAAAAAAAAROIaAAAA\n",
       "AAAAROIaAAAAAAAAROIaAAAAAAAAROIaAAAAAAAAROIaAAAAAAAAROIaAAAAAAAAROIaAAAAAAAA\n",
       "ROIaAAAAAAAAROIaAAAAAAAAROIaAAAAAAAAROIaAAAAAAAAROIaAAAAAAAAROIaAAAAAAAAROIa\n",
       "AAAAAAAAROIaAAAAAAAARI/rWrs3nGW555Sl/Y5a1+vuCcdwyzkv693uCUd5vLzfPeEYj5fvd084\n",
       "yrv1YfeEYzyWZ3PK6/XYPQG+6sv1tnvCMd7u/+6ecJTP6+PuCcdYT78dTXp77l5wjud9755wjHV5\n",
       "MGd5Nqfcy7M5Rb0AAAAAAACASFwDAAAAAACASFwDAAAAAACASFwDAAAAAACASFwDAAAAAACASFwD\n",
       "AAAAAACASFwDAAAAAACASFwDAAAAAACASFwDAAAAAACASFwDAAAAAACASFwDAAAAAACASFwDAAAA\n",
       "AACASFwDAAAAAACASFwDAAAAAACASFwDAAAAAACASFwDAAAAAACASFwDAAAAAACASFwDAAAAAACA\n",
       "SFwDAAAAAACASFwDAAAAAACASFwDAAAAAACASFwDAAAAAACASFwDAAAAAACASFwDAAAAAACASFwD\n",
       "AAAAAACASFwDAAAAAACASFwDAAAAAACASFwDAAAAAACASFwDAAAAAACASFwDAAAAAACASFwDAAAA\n",
       "AACASFwDAAAAAACASFwDAAAAAACASFwDAAAAAACASFwDAAAAAACASFwDAAAAAACASFwDAAAAAACA\n",
       "SFwDAAAAAACASFwDAAAAAACASFwDAAAAAACASFwDAAAAAACASFwDAAAAAACASFwDAAAAAACASFwD\n",
       "AAAAAACASFwDAAAAAACASFwDAAAAAACASFwDAAAAAACASFwDAAAAAACASFwDAAAAAACASFwDAAAA\n",
       "AACASFwDAAAAAACASFwDAAAAAACASFwDAAAAAACASFwDAAAAAACASFwDAAAAAACASFwDAAAAAACA\n",
       "SFwDAAAAAACASFwDAAAAAACASFwDAAAAAACASFwDAAAAAACA6LH0tWHuOWa55aS1XndPOMZaj90T\n",
       "jvG6vts94SiPl+93TzjG+/XD7glH+eCeYz7cbjnl/f1+9wT4qk/r0+4Jx/i4fts94SgfL9+Dxvi5\n",
       "Y9R937snHONez90TjrEut5x0u+ec25vQFJcEAAAAAACASFwDAAAAAACASFwDAAAAAACASFwDAAAA\n",
       "AACASFwDAAAAAACASFwDAAAAAACASFwDAAAAAACASFwDAAAAAACASFwDAAAAAACASFwDAAAAAACA\n",
       "SFwDAAAAAACASFwDAAAAAACASFwDAAAAAACASFwDAAAAAACASFwDAAAAAACASFwDAAAAAACASFwD\n",
       "AAAAAACASFwDAAAAAACASFwDAAAAAACASFwDAAAAAACASFwDAAAAAACASFwDAAAAAACASFwDAAAA\n",
       "AACASFwDAAAAAACASFwDAAAAAACASFwDAAAAAACASFwDAAAAAACASFwDAAAAAACASFwDAAAAAACA\n",
       "SFwDAAAAAACASFwDAAAAAACASFwDAAAAAACASFwDAAAAAACASFwDAAAAAACASFwDAAAAAACASFwD\n",
       "AAAAAACASFwDAAAAAACASFwDAAAAAACASFwDAAAAAACASFwDAAAAAACASFwDAAAAAACASFwDAAAA\n",
       "AACASFwDAAAAAACASFwDAAAAAACASFwDAAAAAACASFwDAAAAAACASFwDAAAAAACASFwDAAAAAACA\n",
       "SFwDAAAAAACASFwDAAAAAACASFwDAAAAAACASFwDAAAAAACASFwDAAAAAACASFwDAAAAAACASFwD\n",
       "AAAAAACASFwDAAAAAACASFwDAAAAAACASFwDAAAAAACASFwDAAAAAACASFwDAAAAAACASFwDAAAA\n",
       "AACA6HFda/eGoyz3HLO031HuOedlve6ecIzXl3e7Jxzl3fqwe8IxPqwfdk84yh+fP++ecIyfL8/m\n",
       "lB8fj90T4Kv+8/a2e8Ixfr3f755wFl8pxzwvf+eTni/uOeV5f9494Rj37UVzkt81J+kXUzyVAAAA\n",
       "AAAAEIlrAAAAAAAAEIlrAAAAAAAAEIlrAAAAAAAAEIlrAAAAAAAAEIlrAAAAAAAAEIlrAAAAAAAA\n",
       "EIlrAAAAAAAAEIlrAAAAAAAAEIlrAAAAAAAAEIlrAAAAAAAAEIlrAAAAAAAAEIlrAAAAAAAAEIlr\n",
       "AAAAAAAAEIlrAAAAAAAAEIlrAAAAAAAAEIlrAAAAAAAAEIlrAAAAAAAAEIlrAAAAAAAAEIlrAAAA\n",
       "AAAAEIlrAAAAAAAAEIlrAAAAAAAAEIlrAAAAAAAAEIlrAAAAAAAAEIlrAAAAAAAAEIlrAAAAAAAA\n",
       "EIlrAAAAAAAAEIlrAAAAAAAAEIlrAAAAAAAAEIlrAAAAAAAAEIlrAAAAAAAAEIlrAAAAAAAAEIlr\n",
       "AAAAAAAAEIlrAAAAAAAAEIlrAAAAAAAAEIlrAAAAAAAAEIlrAAAAAAAAEIlrAAAAAAAAEIlrAAAA\n",
       "AAAAEIlrAAAAAAAAEIlrAAAAAAAAEIlrAAAAAAAAEIlrAAAAAAAAEIlrAAAAAAAAEIlrAAAAAAAA\n",
       "EIlrAAAAAAAAEIlrAAAAAAAAEIlrAAAAAAAAEIlrAAAAAAAAEIlrAAAAAAAAEIlrAAAAAAAAEIlr\n",
       "AAAAAAAAEIlrAAAAAAAAEIlrAAAAAAAAEIlrAAAAAAAAEIlrAAAAAAAAEIlrAAAAAAAAEIlrAAAA\n",
       "AAAAEIlrAAAAAAAAEIlrAAAAAAAAEIlrAAAAAAAAED2utXvCaRx0jltOWktLn7LW6+4Jx3hZj90T\n",
       "jvJY3++ecIwP9w+7Jxzl58s9p/zph3e7Jxzjl59+3z0Bvuof//7D7gnn+M37z6RP96fdE47xaX3c\n",
       "PeEon91zjN875vgdbtjtd+I5bjnFXzkAAAAAAABE4hoAAAAAAABE4hoAAAAAAABE4hoAAAAAAABE\n",
       "4hoAAAAAAABE4hoAAAAAAABE4hoAAAAAAABE4hoAAAAAAABE4hoAAAAAAABE4hoAAAAAAABE4hoA\n",
       "AAAAAABE4hoAAAAAAABE4hoAAAAAAABE4hoAAAAAAABE4hoAAAAAAABE4hoAAAAAAABE4hoAAAAA\n",
       "AABE4hoAAAAAAABE4hoAAAAAAABE4hoAAAAAAABE4hoAAAAAAABE4hoAAAAAAABE4hoAAAAAAABE\n",
       "4hoAAAAAAABE4hoAAAAAAABE4hoAAAAAAABE4hoAAAAAAABE4hoAAAAAAABE4hoAAAAAAABE4hoA\n",
       "AAAAAABE4hoAAAAAAABE4hoAAAAAAABE4hoAAAAAAABE4hoAAAAAAABE4hoAAAAAAABE4hoAAAAA\n",
       "AABE4hoAAAAAAABE4hoAAAAAAABE4hoAAAAAAABE4hoAAAAAAABE4hoAAAAAAABE4hoAAAAAAABE\n",
       "4hoAAAAAAABE4hoAAAAAAABE4hoAAAAAAABE4hoAAAAAAABE4hoAAAAAAABE4hoAAAAAAABE4hoA\n",
       "AAAAAABE4hoAAAAAAABE4hoAAAAAAABE4hoAAAAAAABE4hoAAAAAAABE4hoAAAAAAABE4hoAAAAA\n",
       "AABE4hoAAAAAAABE4hoAAAAAAABE4hoAAAAAAABE4hoAAAAAAABE4hoAAAAAAABE4hoAAAAAAABE\n",
       "j90DzrN2DzjGWm45yz2nLP+XMOblet094Siv3tbHvL/f755wlB8fns0pv/z0++4Jx/jrP/+yewJ8\n",
       "1d/+/PfdE47xr48fdk84yq9vPh9NeV0+G03yvXKO3zsm+R1ukt+J59y3W07xigkAAAAAAACRuAYA\n",
       "AAAAAACRuAYAAAAAAACRuAYAAAAAAACRuAYAAAAAAACRuAYAAAAAAACRuAYAAAAAAACRuAYAAAAA\n",
       "AACRuAYAAAAAAACRuAYAAAAAAACRuAYAAAAA/2ffDk4lSa4AimZOfxgkkCNyWq7IBJmhxSAYZvGn\n",
       "51dlyIFe3MWDaIJzLHgEWRWRcasAACJxDQAAAAAAACJxDQAAAAAAACJxDQAAAAAAACJxDQAAAAAA\n",
       "ACJxDQAAAAAAACJxDQAAAAAAACJxDQAAAAAAACJxDQAAAAAAACJxDQAAAAAAACJxDQAAAAAAACJx\n",
       "DQAAAAAAACJxDQAAAAAAACJxDQAAAAAAACJxDQAAAAAAACJxDQAAAAAAACJxDQAAAAAAACJxDQAA\n",
       "AAAAACJxDQAAAAAAACJxDQAAAAAAACJxDQAAAAAAACJxDQAAAAAAACJxDQAAAAAAACJxDQAAAAAA\n",
       "ACJxDQAAAAAAACJxDQAAAAAAACJxDQAAAAAAACJxDQAAAAAAACJxDQAAAAAAACJxDQAAAAAAACJx\n",
       "DQAAAAAAACJxDQAAAAAAACJxDQAAAAAAACJxDQAAAAAAACJxDQAAAAAAACJxDQAAAAAAACJxDQAA\n",
       "AAAAACJxDQAAAAAAACJxDQAAAAAAACJxDQAAAAAAACJxDQAAAAAAACJxDQAAAAAAACJxDQAAAAAA\n",
       "ACJxDQAAAAAAACJxDQAAAAAAACJxDQAAAAAAACJxDQAAAAAAACJxDQAAAAAAACJxDQAAAAAAACJx\n",
       "DQAAAAAAACJxDQAAAAAAACJxDQAAAAAAACJxDQAAAAAAACJxDQAAAAAAACJxDQAAAAAAACJxDQAA\n",
       "AAAAACJxDQAAAAAAACJxDQAAAAAAACJxDQAAAAAAACJxDQAAAAAAACJxDQAAAAAAACJxDQAAAAAA\n",
       "ACJxDQAAAAAAACJxDQAAAAAAACJxDQAAAAAAACJxDQAAAAAAACJxDQAAAAAAACJxDQAAAAAAACJx\n",
       "DQAAAAAAACJxDQAAAAAAACJxDQAAAAAAACJxDQAAAAAAACJxDQAAAAAAACJxDQAAAAAAACJxDQAA\n",
       "AAAAACJxDQAAAAAAACJxDQAAAAAAACJxDQAAAAAAACJxDQAAAAAAACJxDQAAAAAAACJxDQAAAAAA\n",
       "ACJxDQAAAAAAACJxDQAAAAAAACJxDQAAAAAAACJxDQAAAAAAACJxDQAAAAAAACJxDQAAAAAAACJx\n",
       "DQAAAAAAACJxDQAAAAAAACJxDQAAAAAAACJxDQAAAAAAACJxDQAAAAAAACJxDQAAAAAAACJxDQAA\n",
       "AAAAACJxDQAAAAAAACJxDQAAAAAAACJxDQAAAAAAACJxDQAAAAAAACJxDQAAAAAAACJxDQAAAAAA\n",
       "ACJxDQAAAAAAACJxDQAAAAAAACJxDQAAAAAAACJxDQAAAAAAACJxDQAAAAAAACJxDQAAAAAAACJx\n",
       "DQAAAAAAACJxDQAAAAAAACJxDQAAAAAAACJxDQAAAAAAACJxDQAAAAAAACJxDQAAAAAAAKKP3QOc\n",
       "Z+0e4BhrWctRt/Wcsq5n9wjHeK737hGO8r5eu0c4xvf7++4RjvL7y7M55T//+/vuEY7xr3/+e/cI\n",
       "8EM+53N+f33tHuEozkdznNtnea+c475jknu4Se6JJ1nLKf65BgAAAAAAAJG4BgAAAAAAAJG4BgAA\n",
       "AAAAAJG4BgAAAAAAAJG4BgAAAAAAAJG4BgAAAAAAAJG4BgAAAAAAAJG4BgAAAAAAAJG4BgAAAAAA\n",
       "AJG4BgAAAAAAAJG4BgAAAAAAAJG4BgAAAAAAAJG4BgAAAAAAAJG4BgAAAAAAAJG4BgAAAAAAAJG4\n",
       "BgAAAAAAAJG4BgAAAAAAAJG4BgAAAAAAAJG4BgAAAAAAAJG4BgAAAAAAAJG4BgAAAAAAAJG4BgAA\n",
       "AAAAAJG4BgAAAAAAAJG4BgAAAAAAAJG4BgAAAAAAAJG4BgAAAAAAAJG4BgAAAAAAAJG4BgAAAAAA\n",
       "AJG4BgAAAAAAAJG4BgAAAAAAAJG4BgAAAAAAAJG4BgAAAAAAAJG4BgAAAAAAAJG4BgAAAAAAAJG4\n",
       "BgAAAAAAAJG4BgAAAAAAAJG4BgAAAAAAAJG4BgAAAAAAAJG4BgAAAAAAAJG4BgAAAAAAAJG4BgAA\n",
       "AAAAAJG4BgAAAAAAAJG4BgAAAAAAAJG4BgAAAAAAAJG4BgAAAAAAAJG4BgAAAAAAAJG4BgAAAAAA\n",
       "AJG4BgAAAAAAAJG4BgAAAAAAAJG4BgAAAAAAAJG4BgAAAAAAAJG4BgAAAAAAAJG4BgAAAAAAAJG4\n",
       "BgAAAAAAAJG4BgAAAAAAAJG4BgAAAAAAAJG4BgAAAAAAAJG4BgAAAAAAAJG4BgAAAAAAAJG4BgAA\n",
       "AAAAAJG4BgAAAAAAANHHtXaPcJjbgs6xlpPWenaPcIy13rtHOMazXrtHOMpr/bl7hGN83n/sHuEo\n",
       "v61fd49wjj/+sXuCY/z382+7R4Af+v31tXuEY/x22c8nOR/NcW6f5b1yjvuOOe7hprknnmMtp/jn\n",
       "GgAAAAAAAETiGgAAAAAAAETiGgAAAAAAAETiGgAAAAAAAETiGgAAAAAAAETiGgAAAAAAAETiGgAA\n",
       "AAAAAETiGgAAAAAAAETiGgAAAAAAAETiGgAAAAAAAETiGgAAAAAAAETiGgAAAAAAAETiGgAAAAAA\n",
       "AETiGgAAAAAAAETiGgAAAAAAAETiGgAAAAAAAETiGgAAAAAAAETiGgAAAAAAAETiGgAAAAAAAETi\n",
       "GgAAAAAAAETiGgAAAAAAAETiGgAAAAAAAETiGgAAAAAAAETiGgAAAAAAAETiGgAAAAAAAETiGgAA\n",
       "AAAAAETiGgAAAAAAAETiGgAAAAAAAETiGgAAAAAAAETiGgAAAAAAAETiGgAAAAAAAETiGgAAAAAA\n",
       "AETiGgAAAAAAAETiGgAAAAAAAETiGgAAAAAAAETiGgAAAAAAAETiGgAAAAAAAETiGgAAAAAAAETi\n",
       "GgAAAAAAAETiGgAAAAAAAETiGgAAAAAAAH/Mzd8AABSQSURBVETiGgAAAAAAAETiGgAAAAAAAETi\n",
       "GgAAAAAAAETiGgAAAAAAAETiGgAAAAAAAETiGgAAAAAAAETiGgAAAAAAAETiGgAAAAAAAETiGgAA\n",
       "AAAAAETiGgAAAAAAAETiGgAAAAAAAETiGgAAAAAAAETiGgAAAAAAAETiGgAAAAAAAETiGgAAAAAA\n",
       "AETiGgAAAAAAAETiGgAAAAAAAETiGgAAAAAAAETiGgAAAAAAAETiGgAAAAAAAEQf17V2z3CUZT0H\n",
       "PbsHOMqynmOe9d49wjHez9fuEY7ydX/uHuEYn9fH7hHO4udcY76v77tHOMZvr193jwA/9P32OZ/y\n",
       "ef+xe4SjfC7rOeVrObdP8l45x33HHPdws6znHP1ijqsOAAAAAAAAiMQ1AAAAAAAAiMQ1AAAAAAAA\n",
       "iMQ1AAAAAAAAiMQ1AAAAAAAAiMQ1AAAAAAAAiMQ1AAAAAAAAiMQ1AAAAAAAAiMQ1AAAAAAAAiMQ1\n",
       "AAAAAAAAiMQ1AAAAAAAAiMQ1AAAAAAAAiMQ1AAAAAAAAiMQ1AAAAAAAAiMQ1AAAAAAAAiMQ1AAAA\n",
       "AAAAiMQ1AAAAAAAAiMQ1AAAAAAAAiMQ1AAAAAAAAiMQ1AAAAAAAAiMQ1AAAAAAAAiMQ1AAAAAAAA\n",
       "iMQ1AAAAAAAAiMQ1AAAAAAAAiMQ1AAAAAAAAiMQ1AAAAAAAAiMQ1AAAAAAAAiMQ1AAAAAAAAiMQ1\n",
       "AAAAAAAAiMQ1AAAAAAAAiMQ1AAAAAAAAiMQ1AAAAAAAAiMQ1AAAAAAAAiMQ1AAAAAAAAiMQ1AAAA\n",
       "AAAAiMQ1AAAAAAAAiMQ1AAAAAAAAiMQ1AAAAAAAAiMQ1AAAAAAAAiMQ1AAAAAAAAiMQ1AAAAAAAA\n",
       "iMQ1AAAAAAAAiMQ1AAAAAAAAiMQ1AAAAAAAAiMQ1AAAAAAAAiMQ1AAAAAAAAiMQ1AAAAAAAAiMQ1\n",
       "AAAAAAAAiMQ1AAAAAAAAiMQ1AAAAAAAAiMQ1AAAAAAAAiMQ1AAAAAAAAiMQ1AAAAAAAAiMQ1AAAA\n",
       "AAAAiMQ1AAAAAAAAiMQ1AAAAAAAAiMQ1AAAAAAAAiMQ1AAAAAAAAiMQ1AAAAAAAAiMQ1AAAAAAAA\n",
       "iMQ1AAAAAAAAiD7W9eye4Sj3de8e4RzLszlpXe/dIxxjXa/dIxzjvf7aPcJR7sceNMbPj0Y9vjfH\n",
       "fL8/d49wjG/3x+4R4IfevjPHvNafu0c4yteyB015PZ7NSd4r56xlD5qylnu4Ue6JB1nLKa6OAAAA\n",
       "AAAAIBLXAAAAAAAAIBLXAAAAAAAAIBLXAAAAAAAAIBLXAAAAAAAAIBLXAAAAAAAAIBLXAAAAAAAA\n",
       "IBLXAAAAAAAAIBLXAAAAAAAAIBLXAAAAAAAAIBLXAAAAAAAAIBLXAAAAAAAAIBLXAAAAAAAAIBLX\n",
       "AAAAAAAAIBLXAAAAAAAAIBLXAAAAAAAAIBLXAAAAAAAAIBLXAAAAAAAAIBLXAAAAAAAAIBLXAAAA\n",
       "AAAAIBLXAAAAAAAAIBLXAAAAAAAAIBLXAAAAAAAAIBLXAAAAAAAAIBLXAAAAAAAAIBLXAAAAAAAA\n",
       "IBLXAAAAAAAAIBLXAAAAAAAAIBLXAAAAAAAAIBLXAAAAAAAAIBLXAAAAAAAAIBLXAAAAAAAAIBLX\n",
       "AAAAAAAAIBLXAAAAAAAAIBLXAAAAAAAAIBLXAAAAAAAAIBLXAAAAAAAAIBLXAAAAAAAAIBLXAAAA\n",
       "AAAAIBLXAAAAAAAAIBLXAAAAAAAAIBLXAAAAAAAAIBLXAAAAAAAAIBLXAAAAAAAAIBLXAAAAAAAA\n",
       "IBLXAAAAAAAAIBLXAAAAAAAAIBLXAAAAAAAAIBLXAAAAAAAAIBLXAAAAAAAAIBLXAAAAAAAAIBLX\n",
       "AAAAAAAAIBLXAAAAAAAAIBLXAAAAAAAAIBLXAAAAAAAAIBLXAAAAAAAAIBLXAAAAAAAAIBLXAAAA\n",
       "AAAAIBLXAAAAAAAAIBLXAAAAAAAAIBLXAAAAAAAAIPq4rrV7hrMs6zll3c/uEQ7z3j3AMZbfJYx5\n",
       "1tfuEY7y8rU5ZtnPRz2/vHaPcIyv+3P3CMf45fq2ewT4oce5fcyz7D+T3o+z+5T3+mv3CEfxXjln\n",
       "2YPGWMtZ63LhMcZ9xxg3xAAAAAAAABCJawAAAAAAABCJawAAAAAAABCJawAAAAAAABCJawAAAAAA\n",
       "ABCJawAAAAAAABCJawAAAAAAABCJawAAAAAAABCJawAAAAAAABCJawAAAAAAABCJawAAAAAAABCJ\n",
       "awAAAAAAABCJawAAAAAAABCJawAAAAAAABCJawAAAAAAABCJawAAAAAAABCJawAAAAAAABCJawAA\n",
       "AAAAABCJawAAAAAAABCJawAAAAAAABCJawAAAAAAABCJawAAAAAAABCJawAAAAAAABCJawAAAAAA\n",
       "ABCJawAAAAAAABCJawAAAAAAABCJawAAAAAAABCJawAAAAAAABCJawAAAAAAABCJawAAAAAAABCJ\n",
       "awAAAAAAABCJawAAAAAAABCJawAAAAAAABCJawAAAAAAABCJawAAAAAAABCJawAAAAAAABCJawAA\n",
       "AAAAABCJawAAAAAAABCJawAAAAAAABCJawAAAAAAABCJawAAAAAAABCJawAAAAAAABCJawAAAAAA\n",
       "ABCJawAAAAAAABCJawAAAAAAABCJawAAAAAAABCJawAAAAAAABCJawAAAAAAABCJawAAAAAAABCJ\n",
       "awAAAAAAABCJawAAAAAAABCJawAAAAAAABCJawAAAAAAABCJawAAAAAAABCJawAAAAAAABCJawAA\n",
       "AAAAABCJawAAAAAAABCJawAAAAAAABCJawAAAAAAABCJawAAAAAAABB9XNfaPcNR1vXsHuEY93Xv\n",
       "HuEsy3pOea7X7hGO4Rces55lT5+ybvv5pGd97R7hGPf9bfcIx7jtQvykvFPOWeu9e4SjPNZzzFre\n",
       "KSety7M55fFszln281nWc4qz5hxvlAAAAAAAABCJawAAAAAAABCJawAAAAAAABCJawAAAAAAABCJ\n",
       "awAAAAAAABCJawAAAAAAABCJawAAAAAAABCJawAAAAAAABCJawAAAAAAABCJawAAAAAAABCJawAA\n",
       "AAAAABCJawAAAAAAABCJawAAAAAAABCJawAAAAAAABCJawAAAAAAABCJawAAAAAAABCJawAAAAAA\n",
       "ABCJawAAAAAAABCJawAAAAAAABCJawAAAAAAABCJawAAAAAAABCJawAAAAAAABCJawAAAAAAABCJ\n",
       "awAAAAAAABCJawAAAAAAABCJawAAAAAAABCJawAAAAAAABCJawAAAAAAABCJawAAAAAAABCJawAA\n",
       "AAAAABCJawAAAAAAABCJawAAAAAAABCJawAAAAAAABCJawAAAAAAABCJawAAAAAAABCJawAAAAAA\n",
       "ABCJawAAAAAAABCJawAAAAAAABCJawAAAAAAABCJawAAAAAAABCJawAAAAAAABCJawAAAAAAABCJ\n",
       "awAAAAAAABCJawAAAAAAABCJawAAAAAAABCJawAAAAAAABCJawAAAAAAABCJawAAAAAAABCJawAA\n",
       "AAAAABCJawAAAAAAABCJawAAAAAAABCJawAAAAAAABCJawAAAAAAABCJawAAAAAAABCJawAAAAAA\n",
       "ABCJawAAAAAAABCJawAAAAAAABCJawAAAAAAABCJawAAAAAAABCJawAAAAAAABCJawAAAAAAABB9\n",
       "XNfaPcNhrOeY9eye4Cjr3j3BOW4f8zGP78xR9+V7c4q1nLWW33NNuW9rOcfhiJ+V89GU5Z1y1HI+\n",
       "GrPWe/cIR1mX9Rzje3OM53KYZ3OQs+YUb+cAAAAAAAAQiWsAAAAAAAAQiWsAAAAAAAAQiWsAAAAA\n",
       "AAAQiWsAAAAAAAAQiWsAAAAAAAAQiWsAAAAAAAAQiWsAAAAAAAAQiWsAAAAAAAAQiWsAAAAAAAAQ\n",
       "iWsAAAAAAAAQiWsAAAAAAAAQiWsAAAAAAAAQiWsAAAAAAAAQiWsAAAAAAAAQiWsAAAAAAAAQiWsA\n",
       "AAAAAAAQiWsAAAAAAAAQiWsAAAAAAAAQiWsAAAAAAAAQiWsAAAAAAAAQiWsAAAAAAAAQiWsAAAAA\n",
       "AAAQiWsAAAAAAAAQiWsAAAAAAAAQiWsAAAAAAAAQiWsAAAAAAAAQiWsAAAAAAAAQiWsAAAAAAAAQ\n",
       "iWsAAAAAAAAQiWsAAAAAAAAQiWsAAAAAAAAQiWsAAAAAAAAQiWsAAAAAAAAQiWsAAAAAAAAQiWsA\n",
       "AAAAAAAQiWsAAAAAAAAQiWsAAAAAAAAQiWsAAAAAAAAQiWsAAAAAAAAQiWsAAAAAAAAQiWsAAAAA\n",
       "AAAQiWsAAAAAAAAQiWsAAAAAAAAQiWsAAAAAAAAQiWsAAAAAAAAQiWsAAAAAAAAQiWsAAAAAAAAQ\n",
       "iWsAAAAAAAAQiWsAAAAAAAAQiWsAAAAAAAAQiWsAAAAAAAAQiWsAAAAAAAAQiWsAAAAAAAAQiWsA\n",
       "AAAAAAAQiWsAAAAAAAAQiWsAAAAAAAAQiWsAAAAAAAAQiWsAAAAAAAAQiWsAAAAAAAAQiWsAAAAA\n",
       "AAAQfVxr7Z7hLPeze4JjeDJn3RZ0zLp3T3AQe9Aw6zllXfbzSbffc82xCY25b2vJz2k5Hw2ylpOc\n",
       "jwYtaznJsznJWo7xOR/lcz7JWk5x0wEAAAAAAACRuAYAAAAAAACRuAYAAAAAAACRuAYAAAAAAACR\n",
       "uAYAAAAAAACRuAYAAAAAAACRuAYAAAAAAACRuAYAAAAAAACRuAYAAAAAAACRuAYAAAAAAACRuAYA\n",
       "AAAAAACRuAYAAAAAAACRuAYAAAAAAACRuAYAAAAAAACRuAYAAAAAAACRuAYAAAAAAACRuAYAAAAA\n",
       "AACRuAYAAAAAAACRuAYAAAAAAACRuAYAAAAAAACRuAYAAAAAAACRuAYAAAAAAACRuAYAAAAAAACR\n",
       "uAYAAAAAAACRuAYAAAAAAACRuAYAAAAAAACRuAYAAAAAAACRuAYA/L9dOzqNGAaAKGhB+i85Sgvv\n",
       "Y8HBzFQgFmHu/AwAAAAAROIaAAAAAAAAROIaAAAAAAAAROIaAAAAAAAAROIaAAAAAAAAROIaAAAA\n",
       "AAAAROIaAAAAAAAAROIaAAAAAAAAROIaAAAAAAAAROIaAAAAAAAAROIaAAAAAAAAROIaAAAAAAAA\n",
       "ROIaAAAAAAAAROIaAAAAAAAAROIaAAAAAAAAROIaAAAAAAAAROIaAAAAAAAAROIaAAAAAAAAROIa\n",
       "AAAAAAAAROIaAAAAAAAAROIaAAAAAAAAROIaAAAAAAAAROIaAAAAAAAAROIaAAAAAAAAROIaAAAA\n",
       "AAAAROIaAAAAAAAAROIaAAAAAAAAROIaAAAAAAAAROIaAAAAAAAAROIaAAAAAAAAROIaAAAAAAAA\n",
       "ROIaAAAAAAAAROIaAAAAAAAAROIaAAAAAAAARD/Pc98+w7eYc+f8vn2CT3E1h641V46bOXU9N3eu\n",
       "74+2ztsH+BBbrtxrS/4rv492bLl07Tnkd/uU/+gz190cci+33M0Zz8wZb44AAAAAAAAgEtcAAAAA\n",
       "AAAgEtcAAAAAAAAgEtcAAAAAAAAgEtcAAAAAAAAgEtcAAAAAAAAgEtcAAAAAAAAgEtcAAAAAAAAg\n",
       "EtcAAAAAAAAgEtcAAAAAAAAgEtcAAAAAAAAgEtcAAAAAAAAgEtcAAAAAAAAgEtcAAAAAAAAgEtcA\n",
       "AAAAAAAgEtcAAAAAAAAgEtcAAAAAAAAgEtcAAAAAAAAgEtcAAAAAAAAgEtcAAAAAAAAgEtcAAAAA\n",
       "AAAgEtcAAAAAAAAgEtcAAAAAAAAgEtcAAAAAAAAgEtcAAAAAAAAgEtcAAAAAAAAgEtcAAAAAAAAg\n",
       "EtcAAAAAAAAgEtcAAAAAAAAgEtcAAAAAAAAgEtcAAAAAAAAgEtcAAAAAAAAgEtcAAAAAAAAgEtcA\n",
       "AAAAAAAgEtcAAAAAAAAgEtcAAAAAAAAgEtcAAAAAAAAgEtcAAAAAAAAgEtcAAAAAAAAgEtcAAAAA\n",
       "AAAgEtcAAAAAAAAgEtcAAAAAAAAgEtcAAAAAAAAgEtcAAAAAAAAgEtcAAAAAAAAgEtcAAAAAAAAg\n",
       "EtcAAAAAAAAgEtcAAAAAAAAgEtcAAAAAAAAgEtcAAAAAAAAgEtcAAAAAAAAgEtcAAAAAAAAgEtcA\n",
       "AAAAAAAgEtcAAAAAAAAgEtcAAAAAAAAgEtcAAAAAAAAgEtcAAAAAAAAgEtcAAAAAAAAgEtcAAAAA\n",
       "AAAgEtcAAAAAAAAgEtcAAAAAAAAgOs/zc98+xJectw/wKdacOvbcseWOLbfsuXJ8fzTmbs6YEqDz\n",
       "tmPMoCv3+X37CB/jbu7YcseWU9eeO7Zc8eYIAAAAAAAAInENAAAAAAAAInENAAAAAAAAInENAAAA\n",
       "AAAAInENAAAAAAAAInENAAAAAAAAInENAAAAAAAAInENAAAAAAAAInENAAAAAAAAInENAAAAAAAA\n",
       "InENAAAAAAAAInENAAAAAAAAInENAAAAAAAAInENAAAAAAAAInENAAAAAAAAInENAAAAAAAAInEN\n",
       "AAAAAAAAInENAAAAAAAAInENAAAAAAAAInENAAAAAAAAInENAAAAAAAAInENAAAAAAAAInENAAAA\n",
       "AAAAInENAAAAAAAAInENAAAAAAAAInENAAAAAAAAInENAAAAAAAAInENAAAAAAAAInENAAAAAAAA\n",
       "InENAAAAAAAAInENAAAAAAAAInENAAAAAAAAInENAAAAAAAAInENAAAAAAAAInENAAAAAAAAInEN\n",
       "AAAAAAAAInENAAAAAAAAInENAAAAAAAAInENAAAAAAAAInENAAAAAAAAInENAAAAAAAAInENAAAA\n",
       "AAAAInENAAAAAAAAInENAAAAAAAAInENAAAAAAAAInENAAAAAAAAInENAAAAAAAAInENAAAAAAAA\n",
       "InENAAAAAAAAInENAAAAAAAAInENAAAAAAAAInENAAAAAAAAInENAAAAAAAAInENAAAAAAAAInEN\n",
       "AAAAAAAAInENAAAAAAAAInENAAAAAAAAInENAAAAAAAAInENAAAAAAAAInENAAAAAAAAoj9XHOgz\n",
       "oic4dQAAAABJRU5ErkJggg==\n",
       "\" transform=\"translate(310, 86)\"/>\n",
       "</g>\n",
       "<polyline clip-path=\"url(#clip852)\" style=\"stroke:#e26f46; stroke-linecap:round; stroke-linejoin:round; stroke-width:4; stroke-opacity:1; fill:none\" points=\"2060.24,704.306 1226.66,86.1857 393.078,704.306 1226.66,1322.43 2060.24,704.306 \"/>\n",
       "<polyline clip-path=\"url(#clip852)\" style=\"stroke:#e26f46; stroke-linecap:round; stroke-linejoin:round; stroke-width:4; stroke-opacity:1; fill:none\" points=\"2020.6,711.29 2060.24,704.306 2042.04,740.207 \"/>\n",
       "<polyline clip-path=\"url(#clip852)\" style=\"stroke:#e26f46; stroke-linecap:round; stroke-linejoin:round; stroke-width:4; stroke-opacity:1; fill:none\" points=\"2060.24,704.306 1226.66,1322.43 \"/>\n",
       "<defs>\n",
       "  <clipPath id=\"clip853\">\n",
       "    <rect x=\"2160\" y=\"47\" width=\"73\" height=\"1377\"/>\n",
       "  </clipPath>\n",
       "</defs>\n",
       "<g clip-path=\"url(#clip853)\">\n",
       "<image width=\"72\" height=\"1376\" xlink:href=\"data:image/png;base64,\n",
       "iVBORw0KGgoAAAANSUhEUgAAAEgAAAVgCAYAAADsKhu7AAAL6UlEQVR4nO3dwZEjNxBFQVBR/lsh\n",
       "L6UFZIHqHclDpgUTL35wCXTP7Off+/c7/K+/vv0D/DqBgkBBoCBQmPv+/fbP8NMsKAgUBAoChXnv\n",
       "z7d/hp9mQUGgIFAQKAgUHDWCBQWBgkBBoDDPh/TKgoJAQaAgUJh3fUhvLCgIFAQKAgWBgqNGsKAg\n",
       "UBAoCBR8SAcLCgIFgYJAwX1QsKAgUBAoCBQECnMcNVYWFAQKAgWBgvugYEFBoCBQECgIFOa4MFtZ\n",
       "UBAoCBQECnPuP9/+GX6aBQWBgkBBoODSPlhQECgIFAQKAgX3QcGCgkBBoCBQ8CEdLCgIFAQKAgX3\n",
       "QcGCgkBBoCBQECjMx1FjZUFBoCBQECjMuf5XhI0FBYGCQEGgIFBw1AgWFAQKAgWBgqNGsKAgUBAo\n",
       "CBS8HxQsKAgUBAoCBYHCfBw1VhYUBAoCBYGCt1yDBQWBgkBBoOCbdLCgIFAQKAgUBAoePQcLCgIF\n",
       "gYJAwVEjWFAQKAgUBAoCBUeNYEFBoCBQECg4agQLCgIFgYJAYc693/4ZfpoFBYGCQEGgIFBw1AgW\n",
       "FAQKAgWBgkv7YEFBoCBQECj4kA4WFAQKAgWBgkBhPp5qrCwoCBQECgIFR41gQUGgIFAQKAgUvEAV\n",
       "LCgIFAQKAgX3QcGCgkBBoCBQcB8ULCgIFAQKAgWBgvugYEFBoCBQECj4kA4WFAQKAgWBgl/qDRYU\n",
       "BAoCBYGCQMFRI1hQECgIFAQKPqSDBQWBgkBBoCBQ8K9YsKAgUBAoCBR8SAcLCgIFgYJAYc7zIb2x\n",
       "oCBQECgIFAQKjhrBgoJAQaAgUPAhHSwoCBQECgIFH9LBgoJAQaAgUBAozLnv2z/DT7OgIFAQKAgU\n",
       "HDWCBQWBgkBBoCBQcNQIFhQECgIFgYKjRrCgIFAQKAgUfJMOFhQECgIFgYJAYY6TxsqCgkBBoCBQ\n",
       "mPMcNTYWFAQKAgWBgm/SwYKCQEGgIFAQKPhXLFhQECgIFAQK44/g7SwoCBQECgIFgYKjRrCgIFAQ\n",
       "KAgUfEgHCwoCBYGCQGHO/Xz7Z/hpFhQECgIFgYJAYd7zr9jGgoJAQaAgUHAfFCwoCBQECgIF90HB\n",
       "goJAQaAgUBAozLsabdQJAgWBgkDBUSNYUBAoCBQECgKFOR49rywoCBQECgKFeY4aKwsKAgWBgkBh\n",
       "jkv7lTpBoCBQECgIFBw1ggUFgYJAQaDg0j5YUBAoCBQECl7iDOoEgYJAQaAgUPCWa7CgIFAQKAgU\n",
       "XNoHCwoCBYGCQEGgMO9ptFEnCBQECgIF90HBgoJAQaAgUHAfFCwoCBQECgIFgcIc90ErdYJAQaAg\n",
       "UHDUCBYUBAoCBYGCD+lgQUGgIFAQKAgU/NZzsKAgUBAoCBT81nNQJwgUBAoCBYHCPEeNlQUFgYJA\n",
       "QaDgqUawoCBQECgIFPyvCEGdIFAQKAgUBArug4IFBYGCQEGg4D4oWFAQKAgUBAq+SQcLCgIFgYJA\n",
       "QaDgLdegThAoCBQECo4awYKCQEGgIFAQKHiqESwoCBQECgIFR41gQUGgIFAQKPiva4IFBYGCQEGg\n",
       "IFDwv2QGdYJAQaAgUHAfFCwoCBQECgIFT1aDBQWBgkBBoCBQcNQIFhQECgIFgcJcH9IrCwoCBYGC\n",
       "QEGg4LeegzpBoCBQECi4DwoWFAQKAgWBgg/pYEFBoCBQECgIFLxAFSwoCBQECgIFR41gQUGgIFAQ\n",
       "KPiQDhYUBAoCBYGCQMGfpgjqBIGCQEGgMNel/cqCgkBBoCBQECi4MAsWFAQKAgWBgg/pYEFBoCBQ\n",
       "ECj4kA4WFAQKAgWBgkDBH1gKFhQECgIFgYKjRrCgIFAQKAgUfEgHCwoCBYGCQEGg4FcRgjpBoCBQ\n",
       "ECj4VYRgQUGgIFAQKAgUXJgFCwoCBYGCQMGHdLCgIFAQKAgUvMQZLCgIFAQKAgWBgqNGsKAgUBAo\n",
       "CBTmHR/SGwsKAgWBgkDBfVCwoCBQECgIFAQK7oOCBQWBgkBBoOCoESwoCBQECgIFgYKjRrCgIFAQ\n",
       "KAgUHDWCBQWBgkBBoOCbdLCgIFAQKAgUBAr+FQsWFAQKAgWBwly/irCyoCBQECgIFHyTDhYUBAoC\n",
       "BYGCQMGj52BBQaAgUBAozHvf/hF+mwUFgYJAQaAgUHDUCBYUBAoCBYGCv4IXLCgIFAQKAgXfpIMF\n",
       "BYGCQEGgIFDwAlWwoCBQECgIFPwqQrCgIFAQKAgUvB8ULCgIFAQKAgWBgqcawYKCQEGgIFBwaR8s\n",
       "KAgUBAoCBYGCpxrBgoJAQaAgUHAfFCwoCBQECgIFj56DBQWBgkBBoCBQcB8ULCgIFAQKAgWPnoMF\n",
       "BYGCQEGgMPfbP8GPs6AgUBAoCBQECo4awYKCQEGgIFDwflCwoCBQECgIFAQKLsyCBQWBgkBBoOA+\n",
       "KFhQECgIFAQKvkkHCwoCBYGCQEGg4KgRLCgIFAQKAgWPnoMFBYGCQEGgMP4yxc6CgkBBoCBQECg4\n",
       "agQLCgIFgYJAwaPnYEFBoCBQECgIFDx6DhYUBAoCBYGCo0awoCBQECgIFHyTDhYUBAoCBYGCQGGu\n",
       "N6hWFhQECgIFgYL7oGBBQaAgUBAouA8KFhQECgIFgYJAwVEjWFAQKAgUBArzXNqvLCgIFAQKAgWB\n",
       "wtzjwmxjQUGgIFAQKHg/KFhQECgIFAQK/gpesKAgUBAoCBQECv4KXrCgIFAQKAgUPHoOFhQECgIF\n",
       "gYKXOIMFBYGCQEGgIFDwC3XBgoJAQaAgUHDUCBYUBAoCBYGCQMFbrsGCgkBBoCBQ8JZrsKAgUBAo\n",
       "CBR8kw4WFAQKAgWBgkDBW67BgoJAQaAgUPD3g4IFBYGCQEGg4D4oWFAQKAgUBAoCBY+egwUFgYJA\n",
       "QaDgqBEsKAgUBAoCBYGCo0awoCBQECgIFBw1ggUFgYJAQaDgQzpYUBAoCBQECgIF90HBgoJAQaAg\n",
       "UHDUCBYUBAoCBYGCb9LBgoJAQaAgUBAoOGoECwoCBYGCQMHfDwoWFAQKAgWBgkDB/+0TLCgIFAQK\n",
       "AgX3QcGCgkBBoCBQmHd8Sm8sKAgUBAoCBYGCo0awoCBQECgIFDx6DhYUBAoCBYGCJ6vBgoJAQaAg\n",
       "UBAouA8KFhQECgIFgYJHz8GCgkBBoCBQECg4agQLCgIFgYJAwR9YChYUBAoCBYHCXC8IrSwoCBQE\n",
       "CgIFgYIXqIIFBYGCQEGgMM9RY2VBQaAgUBAo+CYdLCgIFAQKAgWBgqcawYKCQEGgIFDwflCwoCBQ\n",
       "ECgIFAQKc/1C3cqCgkBBoCBQcB8ULCgIFAQKAgV/miJYUBAoCBQECgIFL1AFCwoCBYGCQMGlfbCg\n",
       "IFAQKAgU3AcFCwoCBYGCQEGgMPe4EdpYUBAoCBQECu6DggUFgYJAQaAgUPCvWLCgIFAQKAgUPNUI\n",
       "FhQECgIFgYJL+2BBQaAgUBAoCBTmfhw1NhYUBAoCBYGCo0awoCBQECgIFOb5kF5ZUBAoCBQECgIF\n",
       "R41gQUGgIFAQKMz9+JDeWFAQKAgUBAoCBUeNYEFBoCBQECh4qhEsKAgUBAoCBd+kgwUFgYJAQaAg\n",
       "UPCvWLCgIFAQKAgUPHoOFhQECgIFgcK88+fbP8NPs6AgUBAoCBQECu6DggUFgYJAQaDg/aBgQUGg\n",
       "IFAQKAgU5j4XZhsLCgIFgYJAwVEjWFAQKAgUBApzPXpeWVAQKAgUBAoCBUeNYEFBoCBQECg4agQL\n",
       "CgIFgYJAYd7zTXpjQUGgIFAQKAgU3AcFCwoCBYGCQMFLnMGCgkBBoCBQECg4agQLCgIFgYJAYZ6j\n",
       "xsqCgkBBoCBQ8E06WFAQKAgUBAoChbleoFpZUBAoCBQECv7gdrCgIFAQKAgU/CpCsKAgUBAoCBQE\n",
       "Cp5qBAsKAgWBgkDBUSNYUBAoCBQECgIF/4oFCwoCBYGCQMGj52BBQaAgUBAo+CYdLCgIFAQKAgWB\n",
       "whyPnlcWFAQKAgWBgqNGsKAgUBAoCBS8xBksKAgUBAoCBYHCHEeNlQUFgYJAQaDg/aBgQUGgIFAQ\n",
       "KAgUPHoOFhQECgIFgYL7oGBBQaAgUBAozDvv2z/DT7OgIFAQKAgUBArug4IFBYGCQEGgMMdRY2VB\n",
       "QaAgUBAo/AdhU+3PqlcPeQAAAABJRU5ErkJggg==\n",
       "\" transform=\"translate(2161, 47)\"/>\n",
       "</g>\n",
       "<path clip-path=\"url(#clip850)\" d=\"M2274.38 1246.3 L2290.7 1246.3 L2290.7 1250.23 L2268.76 1250.23 L2268.76 1246.3 Q2271.42 1243.54 2276 1238.91 Q2280.61 1234.26 2281.79 1232.92 Q2284.03 1230.39 2284.91 1228.66 Q2285.82 1226.9 2285.82 1225.21 Q2285.82 1222.46 2283.87 1220.72 Q2281.95 1218.98 2278.85 1218.98 Q2276.65 1218.98 2274.2 1219.75 Q2271.77 1220.51 2268.99 1222.06 L2268.99 1217.34 Q2271.81 1216.21 2274.27 1215.63 Q2276.72 1215.05 2278.76 1215.05 Q2284.13 1215.05 2287.32 1217.73 Q2290.52 1220.42 2290.52 1224.91 Q2290.52 1227.04 2289.7 1228.96 Q2288.92 1230.86 2286.81 1233.45 Q2286.23 1234.12 2283.13 1237.34 Q2280.03 1240.53 2274.38 1246.3 Z\" fill=\"#000000\" fill-rule=\"nonzero\" fill-opacity=\"1\" /><path clip-path=\"url(#clip850)\" d=\"M2300.51 1244.35 L2305.4 1244.35 L2305.4 1250.23 L2300.51 1250.23 L2300.51 1244.35 Z\" fill=\"#000000\" fill-rule=\"nonzero\" fill-opacity=\"1\" /><path clip-path=\"url(#clip850)\" d=\"M2315.63 1215.67 L2333.99 1215.67 L2333.99 1219.61 L2319.91 1219.61 L2319.91 1228.08 Q2320.93 1227.73 2321.95 1227.57 Q2322.97 1227.39 2323.99 1227.39 Q2329.77 1227.39 2333.15 1230.56 Q2336.53 1233.73 2336.53 1239.14 Q2336.53 1244.72 2333.06 1247.83 Q2329.59 1250.9 2323.27 1250.9 Q2321.09 1250.9 2318.83 1250.53 Q2316.58 1250.16 2314.17 1249.42 L2314.17 1244.72 Q2316.26 1245.86 2318.48 1246.41 Q2320.7 1246.97 2323.18 1246.97 Q2327.18 1246.97 2329.52 1244.86 Q2331.86 1242.76 2331.86 1239.14 Q2331.86 1235.53 2329.52 1233.43 Q2327.18 1231.32 2323.18 1231.32 Q2321.3 1231.32 2319.43 1231.74 Q2317.58 1232.15 2315.63 1233.03 L2315.63 1215.67 Z\" fill=\"#000000\" fill-rule=\"nonzero\" fill-opacity=\"1\" /><polyline clip-path=\"url(#clip850)\" style=\"stroke:#000000; stroke-linecap:round; stroke-linejoin:round; stroke-width:4; stroke-opacity:1; fill:none\" points=\"2232.76,1236.58 2256.76,1236.58 \"/>\n",
       "<path clip-path=\"url(#clip850)\" d=\"M2270.21 960.278 L2288.57 960.278 L2288.57 964.213 L2274.5 964.213 L2274.5 972.685 Q2275.52 972.338 2276.53 972.176 Q2277.55 971.991 2278.57 971.991 Q2284.36 971.991 2287.74 975.162 Q2291.12 978.333 2291.12 983.75 Q2291.12 989.329 2287.64 992.43 Q2284.17 995.509 2277.85 995.509 Q2275.68 995.509 2273.41 995.139 Q2271.16 994.768 2268.76 994.028 L2268.76 989.329 Q2270.84 990.463 2273.06 991.018 Q2275.28 991.574 2277.76 991.574 Q2281.77 991.574 2284.1 989.467 Q2286.44 987.361 2286.44 983.75 Q2286.44 980.139 2284.1 978.032 Q2281.77 975.926 2277.76 975.926 Q2275.89 975.926 2274.01 976.342 Q2272.16 976.759 2270.21 977.639 L2270.21 960.278 Z\" fill=\"#000000\" fill-rule=\"nonzero\" fill-opacity=\"1\" /><path clip-path=\"url(#clip850)\" d=\"M2300.33 988.958 L2305.21 988.958 L2305.21 994.838 L2300.33 994.838 L2300.33 988.958 Z\" fill=\"#000000\" fill-rule=\"nonzero\" fill-opacity=\"1\" /><path clip-path=\"url(#clip850)\" d=\"M2325.4 963.356 Q2321.79 963.356 2319.96 966.921 Q2318.15 970.463 2318.15 977.592 Q2318.15 984.699 2319.96 988.264 Q2321.79 991.805 2325.4 991.805 Q2329.03 991.805 2330.84 988.264 Q2332.67 984.699 2332.67 977.592 Q2332.67 970.463 2330.84 966.921 Q2329.03 963.356 2325.4 963.356 M2325.4 959.653 Q2331.21 959.653 2334.26 964.259 Q2337.34 968.843 2337.34 977.592 Q2337.34 986.319 2334.26 990.926 Q2331.21 995.509 2325.4 995.509 Q2319.59 995.509 2316.51 990.926 Q2313.45 986.319 2313.45 977.592 Q2313.45 968.843 2316.51 964.259 Q2319.59 959.653 2325.4 959.653 Z\" fill=\"#000000\" fill-rule=\"nonzero\" fill-opacity=\"1\" /><polyline clip-path=\"url(#clip850)\" style=\"stroke:#000000; stroke-linecap:round; stroke-linejoin:round; stroke-width:4; stroke-opacity:1; fill:none\" points=\"2232.76,981.187 2256.76,981.187 \"/>\n",
       "<path clip-path=\"url(#clip850)\" d=\"M2268.76 704.883 L2290.98 704.883 L2290.98 706.873 L2278.43 739.443 L2273.55 739.443 L2285.35 708.818 L2268.76 708.818 L2268.76 704.883 Z\" fill=\"#000000\" fill-rule=\"nonzero\" fill-opacity=\"1\" /><path clip-path=\"url(#clip850)\" d=\"M2300.1 733.563 L2304.98 733.563 L2304.98 739.443 L2300.1 739.443 L2300.1 733.563 Z\" fill=\"#000000\" fill-rule=\"nonzero\" fill-opacity=\"1\" /><path clip-path=\"url(#clip850)\" d=\"M2315.21 704.883 L2333.57 704.883 L2333.57 708.818 L2319.5 708.818 L2319.5 717.29 Q2320.51 716.943 2321.53 716.781 Q2322.55 716.596 2323.57 716.596 Q2329.36 716.596 2332.74 719.767 Q2336.12 722.938 2336.12 728.355 Q2336.12 733.933 2332.64 737.035 Q2329.17 740.114 2322.85 740.114 Q2320.68 740.114 2318.41 739.744 Q2316.16 739.373 2313.76 738.633 L2313.76 733.933 Q2315.84 735.068 2318.06 735.623 Q2320.28 736.179 2322.76 736.179 Q2326.76 736.179 2329.1 734.072 Q2331.44 731.966 2331.44 728.355 Q2331.44 724.744 2329.1 722.637 Q2326.76 720.531 2322.76 720.531 Q2320.89 720.531 2319.01 720.947 Q2317.16 721.364 2315.21 722.244 L2315.21 704.883 Z\" fill=\"#000000\" fill-rule=\"nonzero\" fill-opacity=\"1\" /><polyline clip-path=\"url(#clip850)\" style=\"stroke:#000000; stroke-linecap:round; stroke-linejoin:round; stroke-width:4; stroke-opacity:1; fill:none\" points=\"2232.76,725.792 2256.76,725.792 \"/>\n",
       "<path clip-path=\"url(#clip850)\" d=\"M2269.43 480.112 L2277.07 480.112 L2277.07 453.747 L2268.76 455.414 L2268.76 451.154 L2277.02 449.488 L2281.7 449.488 L2281.7 480.112 L2289.33 480.112 L2289.33 484.048 L2269.43 484.048 L2269.43 480.112 Z\" fill=\"#000000\" fill-rule=\"nonzero\" fill-opacity=\"1\" /><path clip-path=\"url(#clip850)\" d=\"M2308.78 452.566 Q2305.17 452.566 2303.34 456.131 Q2301.53 459.673 2301.53 466.802 Q2301.53 473.909 2303.34 477.474 Q2305.17 481.015 2308.78 481.015 Q2312.41 481.015 2314.22 477.474 Q2316.05 473.909 2316.05 466.802 Q2316.05 459.673 2314.22 456.131 Q2312.41 452.566 2308.78 452.566 M2308.78 448.863 Q2314.59 448.863 2317.64 453.469 Q2320.72 458.052 2320.72 466.802 Q2320.72 475.529 2317.64 480.136 Q2314.59 484.719 2308.78 484.719 Q2302.97 484.719 2299.89 480.136 Q2296.83 475.529 2296.83 466.802 Q2296.83 458.052 2299.89 453.469 Q2302.97 448.863 2308.78 448.863 Z\" fill=\"#000000\" fill-rule=\"nonzero\" fill-opacity=\"1\" /><path clip-path=\"url(#clip850)\" d=\"M2328.94 478.168 L2333.83 478.168 L2333.83 484.048 L2328.94 484.048 L2328.94 478.168 Z\" fill=\"#000000\" fill-rule=\"nonzero\" fill-opacity=\"1\" /><path clip-path=\"url(#clip850)\" d=\"M2354.01 452.566 Q2350.4 452.566 2348.57 456.131 Q2346.76 459.673 2346.76 466.802 Q2346.76 473.909 2348.57 477.474 Q2350.4 481.015 2354.01 481.015 Q2357.64 481.015 2359.45 477.474 Q2361.28 473.909 2361.28 466.802 Q2361.28 459.673 2359.45 456.131 Q2357.64 452.566 2354.01 452.566 M2354.01 448.863 Q2359.82 448.863 2362.88 453.469 Q2365.95 458.052 2365.95 466.802 Q2365.95 475.529 2362.88 480.136 Q2359.82 484.719 2354.01 484.719 Q2348.2 484.719 2345.12 480.136 Q2342.07 475.529 2342.07 466.802 Q2342.07 458.052 2345.12 453.469 Q2348.2 448.863 2354.01 448.863 Z\" fill=\"#000000\" fill-rule=\"nonzero\" fill-opacity=\"1\" /><polyline clip-path=\"url(#clip850)\" style=\"stroke:#000000; stroke-linecap:round; stroke-linejoin:round; stroke-width:4; stroke-opacity:1; fill:none\" points=\"2232.76,470.396 2256.76,470.396 \"/>\n",
       "<path clip-path=\"url(#clip850)\" d=\"M2269.43 224.717 L2277.07 224.717 L2277.07 198.352 L2268.76 200.019 L2268.76 195.759 L2277.02 194.093 L2281.7 194.093 L2281.7 224.717 L2289.33 224.717 L2289.33 228.653 L2269.43 228.653 L2269.43 224.717 Z\" fill=\"#000000\" fill-rule=\"nonzero\" fill-opacity=\"1\" /><path clip-path=\"url(#clip850)\" d=\"M2302.81 224.717 L2319.13 224.717 L2319.13 228.653 L2297.18 228.653 L2297.18 224.717 Q2299.84 221.963 2304.43 217.333 Q2309.03 212.68 2310.21 211.338 Q2312.46 208.815 2313.34 207.079 Q2314.24 205.319 2314.24 203.63 Q2314.24 200.875 2312.3 199.139 Q2310.38 197.403 2307.27 197.403 Q2305.08 197.403 2302.62 198.167 Q2300.19 198.931 2297.41 200.481 L2297.41 195.759 Q2300.24 194.625 2302.69 194.046 Q2305.14 193.468 2307.18 193.468 Q2312.55 193.468 2315.75 196.153 Q2318.94 198.838 2318.94 203.329 Q2318.94 205.458 2318.13 207.38 Q2317.34 209.278 2315.24 211.87 Q2314.66 212.542 2311.56 215.759 Q2308.45 218.954 2302.81 224.717 Z\" fill=\"#000000\" fill-rule=\"nonzero\" fill-opacity=\"1\" /><path clip-path=\"url(#clip850)\" d=\"M2328.94 222.773 L2333.83 222.773 L2333.83 228.653 L2328.94 228.653 L2328.94 222.773 Z\" fill=\"#000000\" fill-rule=\"nonzero\" fill-opacity=\"1\" /><path clip-path=\"url(#clip850)\" d=\"M2344.06 194.093 L2362.41 194.093 L2362.41 198.028 L2348.34 198.028 L2348.34 206.5 Q2349.36 206.153 2350.38 205.991 Q2351.39 205.806 2352.41 205.806 Q2358.2 205.806 2361.58 208.977 Q2364.96 212.148 2364.96 217.565 Q2364.96 223.143 2361.49 226.245 Q2358.01 229.324 2351.7 229.324 Q2349.52 229.324 2347.25 228.954 Q2345.01 228.583 2342.6 227.842 L2342.6 223.143 Q2344.68 224.278 2346.9 224.833 Q2349.13 225.389 2351.6 225.389 Q2355.61 225.389 2357.95 223.282 Q2360.28 221.176 2360.28 217.565 Q2360.28 213.954 2357.95 211.847 Q2355.61 209.741 2351.6 209.741 Q2349.73 209.741 2347.85 210.157 Q2346 210.574 2344.06 211.454 L2344.06 194.093 Z\" fill=\"#000000\" fill-rule=\"nonzero\" fill-opacity=\"1\" /><polyline clip-path=\"url(#clip850)\" style=\"stroke:#000000; stroke-linecap:round; stroke-linejoin:round; stroke-width:4; stroke-opacity:1; fill:none\" points=\"2232.76,215.001 2256.76,215.001 \"/>\n",
       "<polyline clip-path=\"url(#clip850)\" style=\"stroke:#000000; stroke-linecap:round; stroke-linejoin:round; stroke-width:4; stroke-opacity:1; fill:none\" points=\"2232.76,1423.18 2232.76,47.2441 \"/>\n",
       "</svg>\n"
      ],
      "text/html": [
       "<?xml version=\"1.0\" encoding=\"utf-8\"?>\n",
       "<svg xmlns=\"http://www.w3.org/2000/svg\" xmlns:xlink=\"http://www.w3.org/1999/xlink\" width=\"600\" height=\"400\" viewBox=\"0 0 2400 1600\">\n",
       "<defs>\n",
       "  <clipPath id=\"clip900\">\n",
       "    <rect x=\"0\" y=\"0\" width=\"2400\" height=\"1600\"/>\n",
       "  </clipPath>\n",
       "</defs>\n",
       "<path clip-path=\"url(#clip900)\" d=\"M0 1600 L2400 1600 L2400 8.88178e-14 L0 8.88178e-14  Z\" fill=\"#ffffff\" fill-rule=\"evenodd\" fill-opacity=\"1\"/>\n",
       "<defs>\n",
       "  <clipPath id=\"clip901\">\n",
       "    <rect x=\"480\" y=\"0\" width=\"1681\" height=\"1600\"/>\n",
       "  </clipPath>\n",
       "</defs>\n",
       "<path clip-path=\"url(#clip900)\" d=\"M257.204 1423.18 L2112.76 1423.18 L2112.76 47.2441 L257.204 47.2441  Z\" fill=\"#ffffff\" fill-rule=\"evenodd\" fill-opacity=\"1\"/>\n",
       "<defs>\n",
       "  <clipPath id=\"clip902\">\n",
       "    <rect x=\"257\" y=\"47\" width=\"1857\" height=\"1377\"/>\n",
       "  </clipPath>\n",
       "</defs>\n",
       "<polyline clip-path=\"url(#clip902)\" style=\"stroke:#000000; stroke-linecap:round; stroke-linejoin:round; stroke-width:2; stroke-opacity:0.1; fill:none\" points=\"393.078,1423.18 393.078,47.2441 \"/>\n",
       "<polyline clip-path=\"url(#clip902)\" style=\"stroke:#000000; stroke-linecap:round; stroke-linejoin:round; stroke-width:2; stroke-opacity:0.1; fill:none\" points=\"809.868,1423.18 809.868,47.2441 \"/>\n",
       "<polyline clip-path=\"url(#clip902)\" style=\"stroke:#000000; stroke-linecap:round; stroke-linejoin:round; stroke-width:2; stroke-opacity:0.1; fill:none\" points=\"1226.66,1423.18 1226.66,47.2441 \"/>\n",
       "<polyline clip-path=\"url(#clip902)\" style=\"stroke:#000000; stroke-linecap:round; stroke-linejoin:round; stroke-width:2; stroke-opacity:0.1; fill:none\" points=\"1643.45,1423.18 1643.45,47.2441 \"/>\n",
       "<polyline clip-path=\"url(#clip902)\" style=\"stroke:#000000; stroke-linecap:round; stroke-linejoin:round; stroke-width:2; stroke-opacity:0.1; fill:none\" points=\"2060.24,1423.18 2060.24,47.2441 \"/>\n",
       "<polyline clip-path=\"url(#clip902)\" style=\"stroke:#000000; stroke-linecap:round; stroke-linejoin:round; stroke-width:2; stroke-opacity:0.1; fill:none\" points=\"257.204,1322.43 2112.76,1322.43 \"/>\n",
       "<polyline clip-path=\"url(#clip902)\" style=\"stroke:#000000; stroke-linecap:round; stroke-linejoin:round; stroke-width:2; stroke-opacity:0.1; fill:none\" points=\"257.204,1013.37 2112.76,1013.37 \"/>\n",
       "<polyline clip-path=\"url(#clip902)\" style=\"stroke:#000000; stroke-linecap:round; stroke-linejoin:round; stroke-width:2; stroke-opacity:0.1; fill:none\" points=\"257.204,704.306 2112.76,704.306 \"/>\n",
       "<polyline clip-path=\"url(#clip902)\" style=\"stroke:#000000; stroke-linecap:round; stroke-linejoin:round; stroke-width:2; stroke-opacity:0.1; fill:none\" points=\"257.204,395.246 2112.76,395.246 \"/>\n",
       "<polyline clip-path=\"url(#clip902)\" style=\"stroke:#000000; stroke-linecap:round; stroke-linejoin:round; stroke-width:2; stroke-opacity:0.1; fill:none\" points=\"257.204,86.1857 2112.76,86.1857 \"/>\n",
       "<polyline clip-path=\"url(#clip900)\" style=\"stroke:#000000; stroke-linecap:round; stroke-linejoin:round; stroke-width:4; stroke-opacity:1; fill:none\" points=\"257.204,1423.18 2112.76,1423.18 \"/>\n",
       "<polyline clip-path=\"url(#clip900)\" style=\"stroke:#000000; stroke-linecap:round; stroke-linejoin:round; stroke-width:4; stroke-opacity:1; fill:none\" points=\"393.078,1423.18 393.078,1404.28 \"/>\n",
       "<polyline clip-path=\"url(#clip900)\" style=\"stroke:#000000; stroke-linecap:round; stroke-linejoin:round; stroke-width:4; stroke-opacity:1; fill:none\" points=\"809.868,1423.18 809.868,1404.28 \"/>\n",
       "<polyline clip-path=\"url(#clip900)\" style=\"stroke:#000000; stroke-linecap:round; stroke-linejoin:round; stroke-width:4; stroke-opacity:1; fill:none\" points=\"1226.66,1423.18 1226.66,1404.28 \"/>\n",
       "<polyline clip-path=\"url(#clip900)\" style=\"stroke:#000000; stroke-linecap:round; stroke-linejoin:round; stroke-width:4; stroke-opacity:1; fill:none\" points=\"1643.45,1423.18 1643.45,1404.28 \"/>\n",
       "<polyline clip-path=\"url(#clip900)\" style=\"stroke:#000000; stroke-linecap:round; stroke-linejoin:round; stroke-width:4; stroke-opacity:1; fill:none\" points=\"2060.24,1423.18 2060.24,1404.28 \"/>\n",
       "<path clip-path=\"url(#clip900)\" d=\"M339.606 1468.75 L369.282 1468.75 L369.282 1472.69 L339.606 1472.69 L339.606 1468.75 Z\" fill=\"#000000\" fill-rule=\"nonzero\" fill-opacity=\"1\" /><path clip-path=\"url(#clip900)\" d=\"M380.184 1481.64 L387.823 1481.64 L387.823 1455.28 L379.513 1456.95 L379.513 1452.69 L387.777 1451.02 L392.453 1451.02 L392.453 1481.64 L400.092 1481.64 L400.092 1485.58 L380.184 1485.58 L380.184 1481.64 Z\" fill=\"#000000\" fill-rule=\"nonzero\" fill-opacity=\"1\" /><path clip-path=\"url(#clip900)\" d=\"M409.536 1479.7 L414.42 1479.7 L414.42 1485.58 L409.536 1485.58 L409.536 1479.7 Z\" fill=\"#000000\" fill-rule=\"nonzero\" fill-opacity=\"1\" /><path clip-path=\"url(#clip900)\" d=\"M434.605 1454.1 Q430.994 1454.1 429.166 1457.66 Q427.36 1461.2 427.36 1468.33 Q427.36 1475.44 429.166 1479.01 Q430.994 1482.55 434.605 1482.55 Q438.24 1482.55 440.045 1479.01 Q441.874 1475.44 441.874 1468.33 Q441.874 1461.2 440.045 1457.66 Q438.24 1454.1 434.605 1454.1 M434.605 1450.39 Q440.415 1450.39 443.471 1455 Q446.55 1459.58 446.55 1468.33 Q446.55 1477.06 443.471 1481.67 Q440.415 1486.25 434.605 1486.25 Q428.795 1486.25 425.716 1481.67 Q422.661 1477.06 422.661 1468.33 Q422.661 1459.58 425.716 1455 Q428.795 1450.39 434.605 1450.39 Z\" fill=\"#000000\" fill-rule=\"nonzero\" fill-opacity=\"1\" /><path clip-path=\"url(#clip900)\" d=\"M756.894 1468.75 L786.57 1468.75 L786.57 1472.69 L756.894 1472.69 L756.894 1468.75 Z\" fill=\"#000000\" fill-rule=\"nonzero\" fill-opacity=\"1\" /><path clip-path=\"url(#clip900)\" d=\"M806.662 1454.1 Q803.051 1454.1 801.223 1457.66 Q799.417 1461.2 799.417 1468.33 Q799.417 1475.44 801.223 1479.01 Q803.051 1482.55 806.662 1482.55 Q810.297 1482.55 812.102 1479.01 Q813.931 1475.44 813.931 1468.33 Q813.931 1461.2 812.102 1457.66 Q810.297 1454.1 806.662 1454.1 M806.662 1450.39 Q812.473 1450.39 815.528 1455 Q818.607 1459.58 818.607 1468.33 Q818.607 1477.06 815.528 1481.67 Q812.473 1486.25 806.662 1486.25 Q800.852 1486.25 797.774 1481.67 Q794.718 1477.06 794.718 1468.33 Q794.718 1459.58 797.774 1455 Q800.852 1450.39 806.662 1450.39 Z\" fill=\"#000000\" fill-rule=\"nonzero\" fill-opacity=\"1\" /><path clip-path=\"url(#clip900)\" d=\"M826.824 1479.7 L831.709 1479.7 L831.709 1485.58 L826.824 1485.58 L826.824 1479.7 Z\" fill=\"#000000\" fill-rule=\"nonzero\" fill-opacity=\"1\" /><path clip-path=\"url(#clip900)\" d=\"M841.94 1451.02 L860.296 1451.02 L860.296 1454.96 L846.222 1454.96 L846.222 1463.43 Q847.241 1463.08 848.259 1462.92 Q849.278 1462.73 850.296 1462.73 Q856.083 1462.73 859.463 1465.9 Q862.843 1469.08 862.843 1474.49 Q862.843 1480.07 859.37 1483.17 Q855.898 1486.25 849.579 1486.25 Q847.403 1486.25 845.134 1485.88 Q842.889 1485.51 840.482 1484.77 L840.482 1480.07 Q842.565 1481.2 844.787 1481.76 Q847.009 1482.32 849.486 1482.32 Q853.491 1482.32 855.829 1480.21 Q858.167 1478.1 858.167 1474.49 Q858.167 1470.88 855.829 1468.77 Q853.491 1466.67 849.486 1466.67 Q847.611 1466.67 845.736 1467.08 Q843.884 1467.5 841.94 1468.38 L841.94 1451.02 Z\" fill=\"#000000\" fill-rule=\"nonzero\" fill-opacity=\"1\" /><path clip-path=\"url(#clip900)\" d=\"M1204.04 1454.1 Q1200.43 1454.1 1198.6 1457.66 Q1196.8 1461.2 1196.8 1468.33 Q1196.8 1475.44 1198.6 1479.01 Q1200.43 1482.55 1204.04 1482.55 Q1207.68 1482.55 1209.48 1479.01 Q1211.31 1475.44 1211.31 1468.33 Q1211.31 1461.2 1209.48 1457.66 Q1207.68 1454.1 1204.04 1454.1 M1204.04 1450.39 Q1209.85 1450.39 1212.91 1455 Q1215.99 1459.58 1215.99 1468.33 Q1215.99 1477.06 1212.91 1481.67 Q1209.85 1486.25 1204.04 1486.25 Q1198.23 1486.25 1195.15 1481.67 Q1192.1 1477.06 1192.1 1468.33 Q1192.1 1459.58 1195.15 1455 Q1198.23 1450.39 1204.04 1450.39 Z\" fill=\"#000000\" fill-rule=\"nonzero\" fill-opacity=\"1\" /><path clip-path=\"url(#clip900)\" d=\"M1224.21 1479.7 L1229.09 1479.7 L1229.09 1485.58 L1224.21 1485.58 L1224.21 1479.7 Z\" fill=\"#000000\" fill-rule=\"nonzero\" fill-opacity=\"1\" /><path clip-path=\"url(#clip900)\" d=\"M1249.27 1454.1 Q1245.66 1454.1 1243.83 1457.66 Q1242.03 1461.2 1242.03 1468.33 Q1242.03 1475.44 1243.83 1479.01 Q1245.66 1482.55 1249.27 1482.55 Q1252.91 1482.55 1254.71 1479.01 Q1256.54 1475.44 1256.54 1468.33 Q1256.54 1461.2 1254.71 1457.66 Q1252.91 1454.1 1249.27 1454.1 M1249.27 1450.39 Q1255.08 1450.39 1258.14 1455 Q1261.22 1459.58 1261.22 1468.33 Q1261.22 1477.06 1258.14 1481.67 Q1255.08 1486.25 1249.27 1486.25 Q1243.46 1486.25 1240.39 1481.67 Q1237.33 1477.06 1237.33 1468.33 Q1237.33 1459.58 1240.39 1455 Q1243.46 1450.39 1249.27 1450.39 Z\" fill=\"#000000\" fill-rule=\"nonzero\" fill-opacity=\"1\" /><path clip-path=\"url(#clip900)\" d=\"M1621.33 1454.1 Q1617.72 1454.1 1615.89 1457.66 Q1614.09 1461.2 1614.09 1468.33 Q1614.09 1475.44 1615.89 1479.01 Q1617.72 1482.55 1621.33 1482.55 Q1624.97 1482.55 1626.77 1479.01 Q1628.6 1475.44 1628.6 1468.33 Q1628.6 1461.2 1626.77 1457.66 Q1624.97 1454.1 1621.33 1454.1 M1621.33 1450.39 Q1627.14 1450.39 1630.2 1455 Q1633.28 1459.58 1633.28 1468.33 Q1633.28 1477.06 1630.2 1481.67 Q1627.14 1486.25 1621.33 1486.25 Q1615.52 1486.25 1612.44 1481.67 Q1609.39 1477.06 1609.39 1468.33 Q1609.39 1459.58 1612.44 1455 Q1615.52 1450.39 1621.33 1450.39 Z\" fill=\"#000000\" fill-rule=\"nonzero\" fill-opacity=\"1\" /><path clip-path=\"url(#clip900)\" d=\"M1641.49 1479.7 L1646.38 1479.7 L1646.38 1485.58 L1641.49 1485.58 L1641.49 1479.7 Z\" fill=\"#000000\" fill-rule=\"nonzero\" fill-opacity=\"1\" /><path clip-path=\"url(#clip900)\" d=\"M1656.61 1451.02 L1674.97 1451.02 L1674.97 1454.96 L1660.89 1454.96 L1660.89 1463.43 Q1661.91 1463.08 1662.93 1462.92 Q1663.95 1462.73 1664.97 1462.73 Q1670.75 1462.73 1674.13 1465.9 Q1677.51 1469.08 1677.51 1474.49 Q1677.51 1480.07 1674.04 1483.17 Q1670.57 1486.25 1664.25 1486.25 Q1662.07 1486.25 1659.8 1485.88 Q1657.56 1485.51 1655.15 1484.77 L1655.15 1480.07 Q1657.23 1481.2 1659.46 1481.76 Q1661.68 1482.32 1664.16 1482.32 Q1668.16 1482.32 1670.5 1480.21 Q1672.84 1478.1 1672.84 1474.49 Q1672.84 1470.88 1670.5 1468.77 Q1668.16 1466.67 1664.16 1466.67 Q1662.28 1466.67 1660.41 1467.08 Q1658.55 1467.5 1656.61 1468.38 L1656.61 1451.02 Z\" fill=\"#000000\" fill-rule=\"nonzero\" fill-opacity=\"1\" /><path clip-path=\"url(#clip900)\" d=\"M2027.39 1481.64 L2035.03 1481.64 L2035.03 1455.28 L2026.72 1456.95 L2026.72 1452.69 L2034.99 1451.02 L2039.66 1451.02 L2039.66 1481.64 L2047.3 1481.64 L2047.3 1485.58 L2027.39 1485.58 L2027.39 1481.64 Z\" fill=\"#000000\" fill-rule=\"nonzero\" fill-opacity=\"1\" /><path clip-path=\"url(#clip900)\" d=\"M2056.74 1479.7 L2061.63 1479.7 L2061.63 1485.58 L2056.74 1485.58 L2056.74 1479.7 Z\" fill=\"#000000\" fill-rule=\"nonzero\" fill-opacity=\"1\" /><path clip-path=\"url(#clip900)\" d=\"M2081.81 1454.1 Q2078.2 1454.1 2076.37 1457.66 Q2074.57 1461.2 2074.57 1468.33 Q2074.57 1475.44 2076.37 1479.01 Q2078.2 1482.55 2081.81 1482.55 Q2085.45 1482.55 2087.25 1479.01 Q2089.08 1475.44 2089.08 1468.33 Q2089.08 1461.2 2087.25 1457.66 Q2085.45 1454.1 2081.81 1454.1 M2081.81 1450.39 Q2087.62 1450.39 2090.68 1455 Q2093.76 1459.58 2093.76 1468.33 Q2093.76 1477.06 2090.68 1481.67 Q2087.62 1486.25 2081.81 1486.25 Q2076 1486.25 2072.93 1481.67 Q2069.87 1477.06 2069.87 1468.33 Q2069.87 1459.58 2072.93 1455 Q2076 1450.39 2081.81 1450.39 Z\" fill=\"#000000\" fill-rule=\"nonzero\" fill-opacity=\"1\" /><path clip-path=\"url(#clip900)\" d=\"M1201.59 1532.4 L1188.7 1549.74 L1202.26 1568.04 L1195.36 1568.04 L1184.98 1554.04 L1174.6 1568.04 L1167.7 1568.04 L1181.54 1549.39 L1168.87 1532.4 L1175.78 1532.4 L1185.23 1545.1 L1194.69 1532.4 L1201.59 1532.4 Z\" fill=\"#000000\" fill-rule=\"nonzero\" fill-opacity=\"1\" /><polyline clip-path=\"url(#clip900)\" style=\"stroke:#000000; stroke-linecap:round; stroke-linejoin:round; stroke-width:4; stroke-opacity:1; fill:none\" points=\"257.204,1423.18 257.204,47.2441 \"/>\n",
       "<polyline clip-path=\"url(#clip900)\" style=\"stroke:#000000; stroke-linecap:round; stroke-linejoin:round; stroke-width:4; stroke-opacity:1; fill:none\" points=\"257.204,1322.43 273.937,1322.43 \"/>\n",
       "<polyline clip-path=\"url(#clip900)\" style=\"stroke:#000000; stroke-linecap:round; stroke-linejoin:round; stroke-width:4; stroke-opacity:1; fill:none\" points=\"257.204,1013.37 273.937,1013.37 \"/>\n",
       "<polyline clip-path=\"url(#clip900)\" style=\"stroke:#000000; stroke-linecap:round; stroke-linejoin:round; stroke-width:4; stroke-opacity:1; fill:none\" points=\"257.204,704.306 273.937,704.306 \"/>\n",
       "<polyline clip-path=\"url(#clip900)\" style=\"stroke:#000000; stroke-linecap:round; stroke-linejoin:round; stroke-width:4; stroke-opacity:1; fill:none\" points=\"257.204,395.246 273.937,395.246 \"/>\n",
       "<polyline clip-path=\"url(#clip900)\" style=\"stroke:#000000; stroke-linecap:round; stroke-linejoin:round; stroke-width:4; stroke-opacity:1; fill:none\" points=\"257.204,86.1857 273.937,86.1857 \"/>\n",
       "<path clip-path=\"url(#clip900)\" d=\"M114.26 1322.88 L143.936 1322.88 L143.936 1326.81 L114.26 1326.81 L114.26 1322.88 Z\" fill=\"#000000\" fill-rule=\"nonzero\" fill-opacity=\"1\" /><path clip-path=\"url(#clip900)\" d=\"M154.839 1335.77 L162.477 1335.77 L162.477 1309.41 L154.167 1311.07 L154.167 1306.81 L162.431 1305.15 L167.107 1305.15 L167.107 1335.77 L174.746 1335.77 L174.746 1339.71 L154.839 1339.71 L154.839 1335.77 Z\" fill=\"#000000\" fill-rule=\"nonzero\" fill-opacity=\"1\" /><path clip-path=\"url(#clip900)\" d=\"M184.19 1333.83 L189.075 1333.83 L189.075 1339.71 L184.19 1339.71 L184.19 1333.83 Z\" fill=\"#000000\" fill-rule=\"nonzero\" fill-opacity=\"1\" /><path clip-path=\"url(#clip900)\" d=\"M209.26 1308.22 Q205.649 1308.22 203.82 1311.79 Q202.014 1315.33 202.014 1322.46 Q202.014 1329.57 203.82 1333.13 Q205.649 1336.67 209.26 1336.67 Q212.894 1336.67 214.699 1333.13 Q216.528 1329.57 216.528 1322.46 Q216.528 1315.33 214.699 1311.79 Q212.894 1308.22 209.26 1308.22 M209.26 1304.52 Q215.07 1304.52 218.125 1309.13 Q221.204 1313.71 221.204 1322.46 Q221.204 1331.19 218.125 1335.79 Q215.07 1340.38 209.26 1340.38 Q203.449 1340.38 200.371 1335.79 Q197.315 1331.19 197.315 1322.46 Q197.315 1313.71 200.371 1309.13 Q203.449 1304.52 209.26 1304.52 Z\" fill=\"#000000\" fill-rule=\"nonzero\" fill-opacity=\"1\" /><path clip-path=\"url(#clip900)\" d=\"M115.256 1013.82 L144.931 1013.82 L144.931 1017.75 L115.256 1017.75 L115.256 1013.82 Z\" fill=\"#000000\" fill-rule=\"nonzero\" fill-opacity=\"1\" /><path clip-path=\"url(#clip900)\" d=\"M165.024 999.165 Q161.413 999.165 159.584 1002.73 Q157.778 1006.27 157.778 1013.4 Q157.778 1020.51 159.584 1024.07 Q161.413 1027.61 165.024 1027.61 Q168.658 1027.61 170.464 1024.07 Q172.292 1020.51 172.292 1013.4 Q172.292 1006.27 170.464 1002.73 Q168.658 999.165 165.024 999.165 M165.024 995.461 Q170.834 995.461 173.889 1000.07 Q176.968 1004.65 176.968 1013.4 Q176.968 1022.13 173.889 1026.73 Q170.834 1031.32 165.024 1031.32 Q159.214 1031.32 156.135 1026.73 Q153.079 1022.13 153.079 1013.4 Q153.079 1004.65 156.135 1000.07 Q159.214 995.461 165.024 995.461 Z\" fill=\"#000000\" fill-rule=\"nonzero\" fill-opacity=\"1\" /><path clip-path=\"url(#clip900)\" d=\"M185.186 1024.77 L190.07 1024.77 L190.07 1030.65 L185.186 1030.65 L185.186 1024.77 Z\" fill=\"#000000\" fill-rule=\"nonzero\" fill-opacity=\"1\" /><path clip-path=\"url(#clip900)\" d=\"M200.301 996.086 L218.658 996.086 L218.658 1000.02 L204.584 1000.02 L204.584 1008.49 Q205.602 1008.15 206.621 1007.98 Q207.639 1007.8 208.658 1007.8 Q214.445 1007.8 217.824 1010.97 Q221.204 1014.14 221.204 1019.56 Q221.204 1025.14 217.732 1028.24 Q214.26 1031.32 207.94 1031.32 Q205.764 1031.32 203.496 1030.95 Q201.25 1030.58 198.843 1029.84 L198.843 1025.14 Q200.926 1026.27 203.149 1026.83 Q205.371 1027.38 207.848 1027.38 Q211.852 1027.38 214.19 1025.28 Q216.528 1023.17 216.528 1019.56 Q216.528 1015.95 214.19 1013.84 Q211.852 1011.73 207.848 1011.73 Q205.973 1011.73 204.098 1012.15 Q202.246 1012.57 200.301 1013.45 L200.301 996.086 Z\" fill=\"#000000\" fill-rule=\"nonzero\" fill-opacity=\"1\" /><path clip-path=\"url(#clip900)\" d=\"M164.028 690.105 Q160.417 690.105 158.589 693.669 Q156.783 697.211 156.783 704.341 Q156.783 711.447 158.589 715.012 Q160.417 718.554 164.028 718.554 Q167.663 718.554 169.468 715.012 Q171.297 711.447 171.297 704.341 Q171.297 697.211 169.468 693.669 Q167.663 690.105 164.028 690.105 M164.028 686.401 Q169.839 686.401 172.894 691.007 Q175.973 695.591 175.973 704.341 Q175.973 713.067 172.894 717.674 Q169.839 722.257 164.028 722.257 Q158.218 722.257 155.14 717.674 Q152.084 713.067 152.084 704.341 Q152.084 695.591 155.14 691.007 Q158.218 686.401 164.028 686.401 Z\" fill=\"#000000\" fill-rule=\"nonzero\" fill-opacity=\"1\" /><path clip-path=\"url(#clip900)\" d=\"M184.19 715.706 L189.075 715.706 L189.075 721.586 L184.19 721.586 L184.19 715.706 Z\" fill=\"#000000\" fill-rule=\"nonzero\" fill-opacity=\"1\" /><path clip-path=\"url(#clip900)\" d=\"M209.26 690.105 Q205.649 690.105 203.82 693.669 Q202.014 697.211 202.014 704.341 Q202.014 711.447 203.82 715.012 Q205.649 718.554 209.26 718.554 Q212.894 718.554 214.699 715.012 Q216.528 711.447 216.528 704.341 Q216.528 697.211 214.699 693.669 Q212.894 690.105 209.26 690.105 M209.26 686.401 Q215.07 686.401 218.125 691.007 Q221.204 695.591 221.204 704.341 Q221.204 713.067 218.125 717.674 Q215.07 722.257 209.26 722.257 Q203.449 722.257 200.371 717.674 Q197.315 713.067 197.315 704.341 Q197.315 695.591 200.371 691.007 Q203.449 686.401 209.26 686.401 Z\" fill=\"#000000\" fill-rule=\"nonzero\" fill-opacity=\"1\" /><path clip-path=\"url(#clip900)\" d=\"M165.024 381.045 Q161.413 381.045 159.584 384.609 Q157.778 388.151 157.778 395.281 Q157.778 402.387 159.584 405.952 Q161.413 409.493 165.024 409.493 Q168.658 409.493 170.464 405.952 Q172.292 402.387 172.292 395.281 Q172.292 388.151 170.464 384.609 Q168.658 381.045 165.024 381.045 M165.024 377.341 Q170.834 377.341 173.889 381.947 Q176.968 386.531 176.968 395.281 Q176.968 404.007 173.889 408.614 Q170.834 413.197 165.024 413.197 Q159.214 413.197 156.135 408.614 Q153.079 404.007 153.079 395.281 Q153.079 386.531 156.135 381.947 Q159.214 377.341 165.024 377.341 Z\" fill=\"#000000\" fill-rule=\"nonzero\" fill-opacity=\"1\" /><path clip-path=\"url(#clip900)\" d=\"M185.186 406.646 L190.07 406.646 L190.07 412.526 L185.186 412.526 L185.186 406.646 Z\" fill=\"#000000\" fill-rule=\"nonzero\" fill-opacity=\"1\" /><path clip-path=\"url(#clip900)\" d=\"M200.301 377.966 L218.658 377.966 L218.658 381.901 L204.584 381.901 L204.584 390.373 Q205.602 390.026 206.621 389.864 Q207.639 389.679 208.658 389.679 Q214.445 389.679 217.824 392.85 Q221.204 396.021 221.204 401.438 Q221.204 407.017 217.732 410.118 Q214.26 413.197 207.94 413.197 Q205.764 413.197 203.496 412.827 Q201.25 412.456 198.843 411.716 L198.843 407.017 Q200.926 408.151 203.149 408.706 Q205.371 409.262 207.848 409.262 Q211.852 409.262 214.19 407.155 Q216.528 405.049 216.528 401.438 Q216.528 397.827 214.19 395.72 Q211.852 393.614 207.848 393.614 Q205.973 393.614 204.098 394.031 Q202.246 394.447 200.301 395.327 L200.301 377.966 Z\" fill=\"#000000\" fill-rule=\"nonzero\" fill-opacity=\"1\" /><path clip-path=\"url(#clip900)\" d=\"M154.839 99.5305 L162.477 99.5305 L162.477 73.1649 L154.167 74.8316 L154.167 70.5723 L162.431 68.9057 L167.107 68.9057 L167.107 99.5305 L174.746 99.5305 L174.746 103.466 L154.839 103.466 L154.839 99.5305 Z\" fill=\"#000000\" fill-rule=\"nonzero\" fill-opacity=\"1\" /><path clip-path=\"url(#clip900)\" d=\"M184.19 97.5861 L189.075 97.5861 L189.075 103.466 L184.19 103.466 L184.19 97.5861 Z\" fill=\"#000000\" fill-rule=\"nonzero\" fill-opacity=\"1\" /><path clip-path=\"url(#clip900)\" d=\"M209.26 71.9844 Q205.649 71.9844 203.82 75.5492 Q202.014 79.0908 202.014 86.2204 Q202.014 93.3268 203.82 96.8916 Q205.649 100.433 209.26 100.433 Q212.894 100.433 214.699 96.8916 Q216.528 93.3268 216.528 86.2204 Q216.528 79.0908 214.699 75.5492 Q212.894 71.9844 209.26 71.9844 M209.26 68.2807 Q215.07 68.2807 218.125 72.8871 Q221.204 77.4704 221.204 86.2204 Q221.204 94.9472 218.125 99.5537 Q215.07 104.137 209.26 104.137 Q203.449 104.137 200.371 99.5537 Q197.315 94.9472 197.315 86.2204 Q197.315 77.4704 200.371 72.8871 Q203.449 68.2807 209.26 68.2807 Z\" fill=\"#000000\" fill-rule=\"nonzero\" fill-opacity=\"1\" /><path clip-path=\"url(#clip900)\" d=\"M67.3143 733.525 Q73.68 736.008 75.6216 738.363 Q77.5631 740.718 77.5631 744.665 L77.5631 749.344 L72.6615 749.344 L72.6615 745.906 Q72.6615 743.487 71.5157 742.151 Q70.3699 740.814 66.1048 739.191 L63.4312 738.14 L28.3562 752.559 L28.3562 746.352 L56.238 735.212 L28.3562 724.072 L28.3562 717.865 L67.3143 733.525 Z\" fill=\"#000000\" fill-rule=\"nonzero\" fill-opacity=\"1\" /><g clip-path=\"url(#clip902)\">\n",
       "<image width=\"1751\" height=\"1298\" xlink:href=\"data:image/png;base64,\n",
       "iVBORw0KGgoAAAANSUhEUgAABtcAAAUSCAYAAABy1a5WAAAgAElEQVR4nOzaTYpd1xmG0bOrriwr\n",
       "YByM5xBIy0PIVDKyTCVDSCtjSMMEgsGKotI9mYAaT+ODLTZrjeDl49T9e2qt63FfDFq7B5xjueWs\n",
       "l90DDuLZnLI8l7O8bg7ybE5aXjcHueUct+Rb5Sv6HLecdLvnoOfuAWe5PZtTbs/mIM/lLM/mGK+Z\n",
       "Y/xyBAAAAAAAAJG4BgAAAAAAAJG4BgAAAAAAAJG4BgAAAAAAAJG4BgAAAAAAAJG4BgAAAAAAAJG4\n",
       "BgAAAAAAAJG4BgAAAAAAAJG4BgAAAAAAAJG4BgAAAAAAAJG4BgAAAAAAAJG4BgAAAAAAAJG4BgAA\n",
       "AAAAAJG4BgAAAAAAAJG4BgAAAAAAAJG4BgAAAAAAAJG4BgAAAAAAAJG4BgAAAAAAAJG4BgAAAAAA\n",
       "AJG4BgAAAAAAAJG4BgAAAAAAAJG4BgAAAAAAAJG4BgAAAAAAAJG4BgAAAAAAAJG4BgAAAAAAAJG4\n",
       "BgAAAAAAAJG4BgAAAAAAAJG4BgAAAAAAAJG4BgAAAAAAAJG4BgAAAAAAAJG4BgAAAAAAAJG4BgAA\n",
       "AAAAAJG4BgAAAAAAAJG4BgAAAAAAAJG4BgAAAAAAAJG4BgAAAAAAAJG4BgAAAAAAAJG4BgAAAAAA\n",
       "AJG4BgAAAAAAAJG4BgAAAAAAAJG4BgAAAAAAAJG4BgAAAAAAAJG4BgAAAAAAAJG4BgAAAAAAAJG4\n",
       "BgAAAAAAAJG4BgAAAAAAAJG4BgAAAAAAAJG4BgAAAAAAAJG4BgAAAAAAAJG4BgAAAAAAAJG4BgAA\n",
       "AAAAAJG4BgAAAAAAAJG4BgAAAAAAAJG4BgAAAAAAAJG4BgAAAAAAAJG4BgAAAAAAAJG4BgAAAAAA\n",
       "AJG4BgAAAAAAAJG4BgAAAAAAAJG4BgAAAAAAAJG4BgAAAAAAANHjutbuDWdZ7jlH+5203HPOcss5\n",
       "bjnJ3/kgf+ejPJuTfNacsnxu5xt13/fuCQdxy1nP3QPOcbvlpHu555Tls+Ycf+ejvKMP8po5xi8d\n",
       "AAAAAAAAEIlrAAAAAAAAEIlrAAAAAAAAEIlrAAAAAAAAEIlrAAAAAAAAEIlrAAAAAAAAEIlrAAAA\n",
       "AAAAEIlrAAAAAAAAEIlrAAAAAAAAEIlrAAAAAAAAEIlrAAAAAAAAEIlrAAAAAAAAEIlrAAAAAAAA\n",
       "EIlrAAAAAAAAEIlrAAAAAAAAEIlrAAAAAAAAEIlrAAAAAAAAEIlrAAAAAAAAEIlrAAAAAAAAEIlr\n",
       "AAAAAAAAEIlrAAAAAAAAEIlrAAAAAAAAEIlrAAAAAAAAEIlrAAAAAAAAEIlrAAAAAAAAEIlrAAAA\n",
       "AAAAEIlrAAAAAAAAEIlrAAAAAAAAEIlrAAAAAAAAEIlrAAAAAAAAEIlrAAAAAAAAEIlrAAAAAAAA\n",
       "EIlrAAAAAAAAEIlrAAAAAAAAEIlrAAAAAAAAEIlrAAAAAAAAEIlrAAAAAAAAEIlrAAAAAAAAEIlr\n",
       "AAAAAAAAEIlrAAAAAAAAEIlrAAAAAAAAEIlrAAAAAAAAEIlrAAAAAAAAEIlrAAAAAAAAEIlrAAAA\n",
       "AAAAEIlrAAAAAAAAEIlrAAAAAAAAEIlrAAAAAAAAEIlrAAAAAAAAEIlrAAAAAAAAEIlrAAAAAAAA\n",
       "EIlrAAAAAAAAEIlrAAAAAAAAEIlrAAAAAAAAEIlrAAAAAAAAEIlrAAAAAAAAEIlrAAAAAAAAEIlr\n",
       "AAAAAAAAEIlrAAAAAAAAEIlrAAAAAAAAEIlrAAAAAAAAED2utXZvOIxeOWW55azlnlPW9bp7wjk8\n",
       "l6M8m3PWcstJ3tPnLK+bg3wP4hu17t0LjnHfz90TjnJf7jnlvr7snnAY9xxz+3w0xSln+Xg0xynn\n",
       "+HYOAAAAAAAAkbgGAAAAAAAAkbgGAAAAAAAAkbgGAAAAAAAAkbgGAAAAAAAAkbgGAAAAAAAAkbgG\n",
       "AAAAAAAAkbgGAAAAAAAAkbgGAAAAAAAAkbgGAAAAAAAAkbgGAAAAAAAAkbgGAAAAAAAAkbgGAAAA\n",
       "AAAAkbgGAAAAAAAAkbgGAAAAAAAAkbgGAAAAAAAAkbgGAAAAAAAAkbgGAAAAAAAAkbgGAAAAAAAA\n",
       "kbgGAAAAAAAAkbgGAAAAAAAAkbgGAAAAAAAAkbgGAAAAAAAAkbgGAAAAAAAAkbgGAAAAAAAAkbgG\n",
       "AAAAAAAAkbgGAAAAAAAAkbgGAAAAAAAAkbgGAAAAAAAAkbgGAAAAAAAAkbgGAAAAAAAAkbgGAAAA\n",
       "AAAAkbgGAAAAAAAAkbgGAAAAAAAAkbgGAAAAAAAAkbgGAAAAAAAAkbgGAAAAAAAAkbgGAAAAAAAA\n",
       "kbgGAAAAAAAAkbgGAAAAAAAAkbgGAAAAAAAAkbgGAAAAAAAAkbgGAAAAAAAAkbgGAAAAAAAAkbgG\n",
       "AAAAAAAAkbgGAAAAAAAAkbgGAAAAAAAAkbgGAAAAAAAAkbgGAAAAAAAAkbgGAAAAAAAAkbgGAAAA\n",
       "AAAAkbgGAAAAAAAAkbgGAAAAAAAAkbgGAAAAAAAAkbgGAAAAAAAAkbgGAAAAAAAAkbgGAAAAAAAA\n",
       "kbgGAAAAAAAAkbgGAAAAAAAAkbgGAAAAAAAAkbgGAAAAAAAA0eO61u4Nh3HPMUv7nbSu190TzrHc\n",
       "csrLeuyecBR/53OWZ3PUi9fNMcstxyz/Z8g36r6euycc476/7J5wlKd7jrmvt90TjnJ7Tx/z9GyO\n",
       "WffuBWe5/eQ+5/ZwTvHuAwAAAAAAAJG4BgAAAAAAAJG4BgAAAAAAAJG4BgAAAAAAAJG4BgAAAAAA\n",
       "AJG4BgAAAAAAAJG4BgAAAAAAAJG4BgAAAAAAAJG4BgAAAAAAAJG4BgAAAAAAAJG4BgAAAAAAAJG4\n",
       "BgAAAAAAAJG4BgAAAAAAAJG4BgAAAAAAAJG4BgAAAAAAAJG4BgAAAAAAAJG4BgAAAAAAAJG4BgAA\n",
       "AAAAAJG4BgAAAAAAAJG4BgAAAAAAAJG4BgAAAAAAAJG4BgAAAAAAAJG4BgAAAAAAAJG4BgAAAAAA\n",
       "AJG4BgAAAAAAAJG4BgAAAAAAAJG4BgAAAAAAAJG4BgAAAAAAAJG4BgAAAAAAAJG4BgAAAAAAAJG4\n",
       "BgAAAAAAAJG4BgAAAAAAAJG4BgAAAAAAAJG4BgAAAAAAAJG4BgAAAAAAAJG4BgAAAAAAAJG4BgAA\n",
       "AAAAAJG4BgAAAAAAAJG4BgAAAAAAAJG4BgAAAAAAAJG4BgAAAAAAAJG4BgAAAAAAAJG4BgAAAAAA\n",
       "AJG4BgAAAAAAAJG4BgAAAAAAAJG4BgAAAAAAAJG4BgAAAAAAAJG4BgAAAAAAAJG4BgAAAAAAAJG4\n",
       "BgAAAAAAAJG4BgAAAAAAAJG4BgAAAAAAAJG4BgAAAAAAAJG4BgAAAAAAAJG4BgAAAAAAAJG4BgAA\n",
       "AAAAAJG4BgAAAAAAAJG4BgAAAAAAAJG4BgAAAAAAAJG4BgAAAAAAAJG4BgAAAAAAANHjutbuDUdZ\n",
       "euUgtxy13HPKy3rsnnCM5ZajXta73ROO8bq+2z3hKK8vns0p3oPmvFyvuyfAVz2vL7snHON5v+2e\n",
       "cJQvz8+7Jxzjy/2/3ROO8rw9m1P8cjTned27J5zlds8py7M5xmsmAAAAAAAAROIaAAAAAAAAROIa\n",
       "AAAAAAAAROIaAAAAAAAAROIaAAAAAAAAROIaAAAAAAAAROIaAAAAAAAAROIaAAAAAAAAROIaAAAA\n",
       "AAAAROIaAAAAAAAAROIaAAAAAAAAROIaAAAAAAAAROIaAAAAAAAAROIaAAAAAAAAROIaAAAAAAAA\n",
       "ROIaAAAAAAAAROIaAAAAAAAAROIaAAAAAAAAROIaAAAAAAAAROIaAAAAAAAAROIaAAAAAAAAROIa\n",
       "AAAAAAAAROIaAAAAAAAAROIaAAAAAAAAROIaAAAAAAAAROIaAAAAAAAAROIaAAAAAAAAROIaAAAA\n",
       "AAAAROIaAAAAAAAAROIaAAAAAAAAROIaAAAAAAAAROIaAAAAAAAAROIaAAAAAAAAROIaAAAAAAAA\n",
       "ROIaAAAAAAAAROIaAAAAAAAAROIaAAAAAAAAROIaAAAAAAAAROIaAAAAAAAAROIaAAAAAAAAROIa\n",
       "AAAAAAAAROIaAAAAAAAAROIaAAAAAAAAROIaAAAAAAAAROIaAAAAAAAAROIaAAAAAAAAROIaAAAA\n",
       "AAAAROIaAAAAAAAAROIaAAAAAAAAROIaAAAAAAAAROIaAAAAAAAAROIaAAAAAAAAROIaAAAAAAAA\n",
       "ROIaAAAAAAAAROIaAAAAAAAAROIaAAAAAAAAROIaAAAAAAAAROIaAAAAAAAAROIaAAAAAAAAROIa\n",
       "AAAAAAAAROIaAAAAAAAARI/rWrs3nGW555Sl/Y5a1+vuCcdwyzkv693uCUd5vLzfPeEYj5fvd084\n",
       "yrv1YfeEYzyWZ3PK6/XYPQG+6sv1tnvCMd7u/+6ecJTP6+PuCcdYT78dTXp77l5wjud9755wjHV5\n",
       "MGd5Nqfcy7M5Rb0AAAAAAACASFwDAAAAAACASFwDAAAAAACASFwDAAAAAACASFwDAAAAAACASFwD\n",
       "AAAAAACASFwDAAAAAACASFwDAAAAAACASFwDAAAAAACASFwDAAAAAACASFwDAAAAAACASFwDAAAA\n",
       "AACASFwDAAAAAACASFwDAAAAAACASFwDAAAAAACASFwDAAAAAACASFwDAAAAAACASFwDAAAAAACA\n",
       "SFwDAAAAAACASFwDAAAAAACASFwDAAAAAACASFwDAAAAAACASFwDAAAAAACASFwDAAAAAACASFwD\n",
       "AAAAAACASFwDAAAAAACASFwDAAAAAACASFwDAAAAAACASFwDAAAAAACASFwDAAAAAACASFwDAAAA\n",
       "AACASFwDAAAAAACASFwDAAAAAACASFwDAAAAAACASFwDAAAAAACASFwDAAAAAACASFwDAAAAAACA\n",
       "SFwDAAAAAACASFwDAAAAAACASFwDAAAAAACASFwDAAAAAACASFwDAAAAAACASFwDAAAAAACASFwD\n",
       "AAAAAACASFwDAAAAAACASFwDAAAAAACASFwDAAAAAACASFwDAAAAAACASFwDAAAAAACASFwDAAAA\n",
       "AACASFwDAAAAAACASFwDAAAAAACASFwDAAAAAACASFwDAAAAAACASFwDAAAAAACASFwDAAAAAACA\n",
       "SFwDAAAAAACASFwDAAAAAACASFwDAAAAAACASFwDAAAAAACA6LH0tWHuOWa55aS1XndPOMZaj90T\n",
       "jvG6vts94SiPl+93TzjG+/XD7glH+eCeYz7cbjnl/f1+9wT4qk/r0+4Jx/i4fts94SgfL9+Dxvi5\n",
       "Y9R937snHONez90TjrEut5x0u+ec25vQFJcEAAAAAACASFwDAAAAAACASFwDAAAAAACASFwDAAAA\n",
       "AACASFwDAAAAAACASFwDAAAAAACASFwDAAAAAACASFwDAAAAAACASFwDAAAAAACASFwDAAAAAACA\n",
       "SFwDAAAAAACASFwDAAAAAACASFwDAAAAAACASFwDAAAAAACASFwDAAAAAACASFwDAAAAAACASFwD\n",
       "AAAAAACASFwDAAAAAACASFwDAAAAAACASFwDAAAAAACASFwDAAAAAACASFwDAAAAAACASFwDAAAA\n",
       "AACASFwDAAAAAACASFwDAAAAAACASFwDAAAAAACASFwDAAAAAACASFwDAAAAAACASFwDAAAAAACA\n",
       "SFwDAAAAAACASFwDAAAAAACASFwDAAAAAACASFwDAAAAAACASFwDAAAAAACASFwDAAAAAACASFwD\n",
       "AAAAAACASFwDAAAAAACASFwDAAAAAACASFwDAAAAAACASFwDAAAAAACASFwDAAAAAACASFwDAAAA\n",
       "AACASFwDAAAAAACASFwDAAAAAACASFwDAAAAAACASFwDAAAAAACASFwDAAAAAACASFwDAAAAAACA\n",
       "SFwDAAAAAACASFwDAAAAAACASFwDAAAAAACASFwDAAAAAACASFwDAAAAAACASFwDAAAAAACASFwD\n",
       "AAAAAACASFwDAAAAAACASFwDAAAAAACASFwDAAAAAACASFwDAAAAAACASFwDAAAAAACASFwDAAAA\n",
       "AACA6HFda/eGoyz3HLO031HuOedlve6ecIzXl3e7Jxzl3fqwe8IxPqwfdk84yh+fP++ecIyfL8/m\n",
       "lB8fj90T4Kv+8/a2e8Ixfr3f755wFl8pxzwvf+eTni/uOeV5f9494Rj37UVzkt81J+kXUzyVAAAA\n",
       "AAAAEIlrAAAAAAAAEIlrAAAAAAAAEIlrAAAAAAAAEIlrAAAAAAAAEIlrAAAAAAAAEIlrAAAAAAAA\n",
       "EIlrAAAAAAAAEIlrAAAAAAAAEIlrAAAAAAAAEIlrAAAAAAAAEIlrAAAAAAAAEIlrAAAAAAAAEIlr\n",
       "AAAAAAAAEIlrAAAAAAAAEIlrAAAAAAAAEIlrAAAAAAAAEIlrAAAAAAAAEIlrAAAAAAAAEIlrAAAA\n",
       "AAAAEIlrAAAAAAAAEIlrAAAAAAAAEIlrAAAAAAAAEIlrAAAAAAAAEIlrAAAAAAAAEIlrAAAAAAAA\n",
       "EIlrAAAAAAAAEIlrAAAAAAAAEIlrAAAAAAAAEIlrAAAAAAAAEIlrAAAAAAAAEIlrAAAAAAAAEIlr\n",
       "AAAAAAAAEIlrAAAAAAAAEIlrAAAAAAAAEIlrAAAAAAAAEIlrAAAAAAAAEIlrAAAAAAAAEIlrAAAA\n",
       "AAAAEIlrAAAAAAAAEIlrAAAAAAAAEIlrAAAAAAAAEIlrAAAAAAAAEIlrAAAAAAAAEIlrAAAAAAAA\n",
       "EIlrAAAAAAAAEIlrAAAAAAAAEIlrAAAAAAAAEIlrAAAAAAAAEIlrAAAAAAAAEIlrAAAAAAAAEIlr\n",
       "AAAAAAAAEIlrAAAAAAAAEIlrAAAAAAAAEIlrAAAAAAAAEIlrAAAAAAAAEIlrAAAAAAAAEIlrAAAA\n",
       "AAAAEIlrAAAAAAAAEIlrAAAAAAAAEIlrAAAAAAAAED2utXvCaRx0jltOWktLn7LW6+4Jx3hZj90T\n",
       "jvJY3++ecIwP9w+7Jxzl58s9p/zph3e7Jxzjl59+3z0Bvuof//7D7gnn+M37z6RP96fdE47xaX3c\n",
       "PeEon91zjN875vgdbtjtd+I5bjnFXzkAAAAAAABE4hoAAAAAAABE4hoAAAAAAABE4hoAAAAAAABE\n",
       "4hoAAAAAAABE4hoAAAAAAABE4hoAAAAAAABE4hoAAAAAAABE4hoAAAAAAABE4hoAAAAAAABE4hoA\n",
       "AAAAAABE4hoAAAAAAABE4hoAAAAAAABE4hoAAAAAAABE4hoAAAAAAABE4hoAAAAAAABE4hoAAAAA\n",
       "AABE4hoAAAAAAABE4hoAAAAAAABE4hoAAAAAAABE4hoAAAAAAABE4hoAAAAAAABE4hoAAAAAAABE\n",
       "4hoAAAAAAABE4hoAAAAAAABE4hoAAAAAAABE4hoAAAAAAABE4hoAAAAAAABE4hoAAAAAAABE4hoA\n",
       "AAAAAABE4hoAAAAAAABE4hoAAAAAAABE4hoAAAAAAABE4hoAAAAAAABE4hoAAAAAAABE4hoAAAAA\n",
       "AABE4hoAAAAAAABE4hoAAAAAAABE4hoAAAAAAABE4hoAAAAAAABE4hoAAAAAAABE4hoAAAAAAABE\n",
       "4hoAAAAAAABE4hoAAAAAAABE4hoAAAAAAABE4hoAAAAAAABE4hoAAAAAAABE4hoAAAAAAABE4hoA\n",
       "AAAAAABE4hoAAAAAAABE4hoAAAAAAABE4hoAAAAAAABE4hoAAAAAAABE4hoAAAAAAABE4hoAAAAA\n",
       "AABE4hoAAAAAAABE4hoAAAAAAABE4hoAAAAAAABE4hoAAAAAAABE4hoAAAAAAABE4hoAAAAAAABE\n",
       "j90DzrN2DzjGWm45yz2nLP+XMOblet094Siv3tbHvL/f755wlB8fns0pv/z0++4Jx/jrP/+yewJ8\n",
       "1d/+/PfdE47xr48fdk84yq9vPh9NeV0+G03yvXKO3zsm+R1ukt+J59y3W07xigkAAAAAAACRuAYA\n",
       "AAAAAACRuAYAAAAAAACRuAYAAAAAAACRuAYAAAAAAACRuAYAAAAAAACRuAYAAAAAAACRuAYAAAAA\n",
       "AACRuAYAAAAAAACRuAYAAAAAAACRuAYAAAAA/2ffDk4lSa4AimZOfxgkkCNyWq7IBJmhxSAYZvGn\n",
       "51dlyIFe3MWDaIJzLHgEWRWRcasAACJxDQAAAAAAACJxDQAAAAAAACJxDQAAAAAAACJxDQAAAAAA\n",
       "ACJxDQAAAAAAACJxDQAAAAAAACJxDQAAAAAAACJxDQAAAAAAACJxDQAAAAAAACJxDQAAAAAAACJx\n",
       "DQAAAAAAACJxDQAAAAAAACJxDQAAAAAAACJxDQAAAAAAACJxDQAAAAAAACJxDQAAAAAAACJxDQAA\n",
       "AAAAACJxDQAAAAAAACJxDQAAAAAAACJxDQAAAAAAACJxDQAAAAAAACJxDQAAAAAAACJxDQAAAAAA\n",
       "ACJxDQAAAAAAACJxDQAAAAAAACJxDQAAAAAAACJxDQAAAAAAACJxDQAAAAAAACJxDQAAAAAAACJx\n",
       "DQAAAAAAACJxDQAAAAAAACJxDQAAAAAAACJxDQAAAAAAACJxDQAAAAAAACJxDQAAAAAAACJxDQAA\n",
       "AAAAACJxDQAAAAAAACJxDQAAAAAAACJxDQAAAAAAACJxDQAAAAAAACJxDQAAAAAAACJxDQAAAAAA\n",
       "ACJxDQAAAAAAACJxDQAAAAAAACJxDQAAAAAAACJxDQAAAAAAACJxDQAAAAAAACJxDQAAAAAAACJx\n",
       "DQAAAAAAACJxDQAAAAAAACJxDQAAAAAAACJxDQAAAAAAACJxDQAAAAAAACJxDQAAAAAAACJxDQAA\n",
       "AAAAACJxDQAAAAAAACJxDQAAAAAAACJxDQAAAAAAACJxDQAAAAAAACJxDQAAAAAAACJxDQAAAAAA\n",
       "ACJxDQAAAAAAACJxDQAAAAAAACJxDQAAAAAAACJxDQAAAAAAACJxDQAAAAAAACJxDQAAAAAAACJx\n",
       "DQAAAAAAACJxDQAAAAAAACJxDQAAAAAAACJxDQAAAAAAACJxDQAAAAAAACJxDQAAAAAAACJxDQAA\n",
       "AAAAACJxDQAAAAAAACJxDQAAAAAAACJxDQAAAAAAACJxDQAAAAAAACJxDQAAAAAAACJxDQAAAAAA\n",
       "ACJxDQAAAAAAACJxDQAAAAAAACJxDQAAAAAAACJxDQAAAAAAACJxDQAAAAAAACJxDQAAAAAAACJx\n",
       "DQAAAAAAACJxDQAAAAAAACJxDQAAAAAAACJxDQAAAAAAACJxDQAAAAAAACJxDQAAAAAAACJxDQAA\n",
       "AAAAACJxDQAAAAAAACJxDQAAAAAAACJxDQAAAAAAACJxDQAAAAAAACJxDQAAAAAAACJxDQAAAAAA\n",
       "ACJxDQAAAAAAACJxDQAAAAAAACJxDQAAAAAAACJxDQAAAAAAACJxDQAAAAAAACJxDQAAAAAAACJx\n",
       "DQAAAAAAACJxDQAAAAAAACJxDQAAAAAAACJxDQAAAAAAACJxDQAAAAAAACJxDQAAAAAAAKKP3QOc\n",
       "Z+0e4BhrWctRt/Wcsq5n9wjHeK737hGO8r5eu0c4xvf7++4RjvL7y7M55T//+/vuEY7xr3/+e/cI\n",
       "8EM+53N+f33tHuEozkdznNtnea+c475jknu4Se6JJ1nLKf65BgAAAAAAAJG4BgAAAAAAAJG4BgAA\n",
       "AAAAAJG4BgAAAAAAAJG4BgAAAAAAAJG4BgAAAAAAAJG4BgAAAAAAAJG4BgAAAAAAAJG4BgAAAAAA\n",
       "AJG4BgAAAAAAAJG4BgAAAAAAAJG4BgAAAAAAAJG4BgAAAAAAAJG4BgAAAAAAAJG4BgAAAAAAAJG4\n",
       "BgAAAAAAAJG4BgAAAAAAAJG4BgAAAAAAAJG4BgAAAAAAAJG4BgAAAAAAAJG4BgAAAAAAAJG4BgAA\n",
       "AAAAAJG4BgAAAAAAAJG4BgAAAAAAAJG4BgAAAAAAAJG4BgAAAAAAAJG4BgAAAAAAAJG4BgAAAAAA\n",
       "AJG4BgAAAAAAAJG4BgAAAAAAAJG4BgAAAAAAAJG4BgAAAAAAAJG4BgAAAAAAAJG4BgAAAAAAAJG4\n",
       "BgAAAAAAAJG4BgAAAAAAAJG4BgAAAAAAAJG4BgAAAAAAAJG4BgAAAAAAAJG4BgAAAAAAAJG4BgAA\n",
       "AAAAAJG4BgAAAAAAAJG4BgAAAAAAAJG4BgAAAAAAAJG4BgAAAAAAAJG4BgAAAAAAAJG4BgAAAAAA\n",
       "AJG4BgAAAAAAAJG4BgAAAAAAAJG4BgAAAAAAAJG4BgAAAAAAAJG4BgAAAAAAAJG4BgAAAAAAAJG4\n",
       "BgAAAAAAAJG4BgAAAAAAAJG4BgAAAAAAAJG4BgAAAAAAAJG4BgAAAAAAAJG4BgAAAAAAAJG4BgAA\n",
       "AAAAAJG4BgAAAAAAANHHtXaPcJjbgs6xlpPWenaPcIy13rtHOMazXrtHOMpr/bl7hGN83n/sHuEo\n",
       "v61fd49wjj/+sXuCY/z382+7R4Af+v31tXuEY/x22c8nOR/NcW6f5b1yjvuOOe7hprknnmMtp/jn\n",
       "GgAAAAAAAETiGgAAAAAAAETiGgAAAAAAAETiGgAAAAAAAETiGgAAAAAAAETiGgAAAAAAAETiGgAA\n",
       "AAAAAETiGgAAAAAAAETiGgAAAAAAAETiGgAAAAAAAETiGgAAAAAAAETiGgAAAAAAAETiGgAAAAAA\n",
       "AETiGgAAAAAAAETiGgAAAAAAAETiGgAAAAAAAETiGgAAAAAAAETiGgAAAAAAAETiGgAAAAAAAETi\n",
       "GgAAAAAAAETiGgAAAAAAAETiGgAAAAAAAETiGgAAAAAAAETiGgAAAAAAAETiGgAAAAAAAETiGgAA\n",
       "AAAAAETiGgAAAAAAAETiGgAAAAAAAETiGgAAAAAAAETiGgAAAAAAAETiGgAAAAAAAETiGgAAAAAA\n",
       "AETiGgAAAAAAAETiGgAAAAAAAETiGgAAAAAAAETiGgAAAAAAAETiGgAAAAAAAETiGgAAAAAAAETi\n",
       "GgAAAAAAAETiGgAAAAAAAETiGgAAAAAAAH/Mzd8AABSQSURBVETiGgAAAAAAAETiGgAAAAAAAETi\n",
       "GgAAAAAAAETiGgAAAAAAAETiGgAAAAAAAETiGgAAAAAAAETiGgAAAAAAAETiGgAAAAAAAETiGgAA\n",
       "AAAAAETiGgAAAAAAAETiGgAAAAAAAETiGgAAAAAAAETiGgAAAAAAAETiGgAAAAAAAETiGgAAAAAA\n",
       "AETiGgAAAAAAAETiGgAAAAAAAETiGgAAAAAAAETiGgAAAAAAAETiGgAAAAAAAEQf17V2z3CUZT0H\n",
       "PbsHOMqynmOe9d49wjHez9fuEY7ydX/uHuEYn9fH7hHO4udcY76v77tHOMZvr193jwA/9P32OZ/y\n",
       "ef+xe4SjfC7rOeVrObdP8l45x33HHPdws6znHP1ijqsOAAAAAAAAiMQ1AAAAAAAAiMQ1AAAAAAAA\n",
       "iMQ1AAAAAAAAiMQ1AAAAAAAAiMQ1AAAAAAAAiMQ1AAAAAAAAiMQ1AAAAAAAAiMQ1AAAAAAAAiMQ1\n",
       "AAAAAAAAiMQ1AAAAAAAAiMQ1AAAAAAAAiMQ1AAAAAAAAiMQ1AAAAAAAAiMQ1AAAAAAAAiMQ1AAAA\n",
       "AAAAiMQ1AAAAAAAAiMQ1AAAAAAAAiMQ1AAAAAAAAiMQ1AAAAAAAAiMQ1AAAAAAAAiMQ1AAAAAAAA\n",
       "iMQ1AAAAAAAAiMQ1AAAAAAAAiMQ1AAAAAAAAiMQ1AAAAAAAAiMQ1AAAAAAAAiMQ1AAAAAAAAiMQ1\n",
       "AAAAAAAAiMQ1AAAAAAAAiMQ1AAAAAAAAiMQ1AAAAAAAAiMQ1AAAAAAAAiMQ1AAAAAAAAiMQ1AAAA\n",
       "AAAAiMQ1AAAAAAAAiMQ1AAAAAAAAiMQ1AAAAAAAAiMQ1AAAAAAAAiMQ1AAAAAAAAiMQ1AAAAAAAA\n",
       "iMQ1AAAAAAAAiMQ1AAAAAAAAiMQ1AAAAAAAAiMQ1AAAAAAAAiMQ1AAAAAAAAiMQ1AAAAAAAAiMQ1\n",
       "AAAAAAAAiMQ1AAAAAAAAiMQ1AAAAAAAAiMQ1AAAAAAAAiMQ1AAAAAAAAiMQ1AAAAAAAAiMQ1AAAA\n",
       "AAAAiMQ1AAAAAAAAiMQ1AAAAAAAAiMQ1AAAAAAAAiMQ1AAAAAAAAiMQ1AAAAAAAAiMQ1AAAAAAAA\n",
       "iMQ1AAAAAAAAiD7W9eye4Sj3de8e4RzLszlpXe/dIxxjXa/dIxzjvf7aPcJR7sceNMbPj0Y9vjfH\n",
       "fL8/d49wjG/3x+4R4IfevjPHvNafu0c4yteyB015PZ7NSd4r56xlD5qylnu4Ue6JB1nLKa6OAAAA\n",
       "AAAAIBLXAAAAAAAAIBLXAAAAAAAAIBLXAAAAAAAAIBLXAAAAAAAAIBLXAAAAAAAAIBLXAAAAAAAA\n",
       "IBLXAAAAAAAAIBLXAAAAAAAAIBLXAAAAAAAAIBLXAAAAAAAAIBLXAAAAAAAAIBLXAAAAAAAAIBLX\n",
       "AAAAAAAAIBLXAAAAAAAAIBLXAAAAAAAAIBLXAAAAAAAAIBLXAAAAAAAAIBLXAAAAAAAAIBLXAAAA\n",
       "AAAAIBLXAAAAAAAAIBLXAAAAAAAAIBLXAAAAAAAAIBLXAAAAAAAAIBLXAAAAAAAAIBLXAAAAAAAA\n",
       "IBLXAAAAAAAAIBLXAAAAAAAAIBLXAAAAAAAAIBLXAAAAAAAAIBLXAAAAAAAAIBLXAAAAAAAAIBLX\n",
       "AAAAAAAAIBLXAAAAAAAAIBLXAAAAAAAAIBLXAAAAAAAAIBLXAAAAAAAAIBLXAAAAAAAAIBLXAAAA\n",
       "AAAAIBLXAAAAAAAAIBLXAAAAAAAAIBLXAAAAAAAAIBLXAAAAAAAAIBLXAAAAAAAAIBLXAAAAAAAA\n",
       "IBLXAAAAAAAAIBLXAAAAAAAAIBLXAAAAAAAAIBLXAAAAAAAAIBLXAAAAAAAAIBLXAAAAAAAAIBLX\n",
       "AAAAAAAAIBLXAAAAAAAAIBLXAAAAAAAAIBLXAAAAAAAAIBLXAAAAAAAAIBLXAAAAAAAAIBLXAAAA\n",
       "AAAAIBLXAAAAAAAAIBLXAAAAAAAAIBLXAAAAAAAAIPq4rrV7hrMs6zll3c/uEQ7z3j3AMZbfJYx5\n",
       "1tfuEY7y8rU5ZtnPRz2/vHaPcIyv+3P3CMf45fq2ewT4oce5fcyz7D+T3o+z+5T3+mv3CEfxXjln\n",
       "2YPGWMtZ63LhMcZ9xxg3xAAAAAAAABCJawAAAAAAABCJawAAAAAAABCJawAAAAAAABCJawAAAAAA\n",
       "ABCJawAAAAAAABCJawAAAAAAABCJawAAAAAAABCJawAAAAAAABCJawAAAAAAABCJawAAAAAAABCJ\n",
       "awAAAAAAABCJawAAAAAAABCJawAAAAAAABCJawAAAAAAABCJawAAAAAAABCJawAAAAAAABCJawAA\n",
       "AAAAABCJawAAAAAAABCJawAAAAAAABCJawAAAAAAABCJawAAAAAAABCJawAAAAAAABCJawAAAAAA\n",
       "ABCJawAAAAAAABCJawAAAAAAABCJawAAAAAAABCJawAAAAAAABCJawAAAAAAABCJawAAAAAAABCJ\n",
       "awAAAAAAABCJawAAAAAAABCJawAAAAAAABCJawAAAAAAABCJawAAAAAAABCJawAAAAAAABCJawAA\n",
       "AAAAABCJawAAAAAAABCJawAAAAAAABCJawAAAAAAABCJawAAAAAAABCJawAAAAAAABCJawAAAAAA\n",
       "ABCJawAAAAAAABCJawAAAAAAABCJawAAAAAAABCJawAAAAAAABCJawAAAAAAABCJawAAAAAAABCJ\n",
       "awAAAAAAABCJawAAAAAAABCJawAAAAAAABCJawAAAAAAABCJawAAAAAAABCJawAAAAAAABCJawAA\n",
       "AAAAABCJawAAAAAAABCJawAAAAAAABCJawAAAAAAABCJawAAAAAAABB9XNfaPcNR1vXsHuEY93Xv\n",
       "HuEsy3pOea7X7hGO4Rces55lT5+ybvv5pGd97R7hGPf9bfcIx7jtQvykvFPOWeu9e4SjPNZzzFre\n",
       "KSety7M55fFszln281nWc4qz5hxvlAAAAAAAABCJawAAAAAAABCJawAAAAAAABCJawAAAAAAABCJ\n",
       "awAAAAAAABCJawAAAAAAABCJawAAAAAAABCJawAAAAAAABCJawAAAAAAABCJawAAAAAAABCJawAA\n",
       "AAAAABCJawAAAAAAABCJawAAAAAAABCJawAAAAAAABCJawAAAAAAABCJawAAAAAAABCJawAAAAAA\n",
       "ABCJawAAAAAAABCJawAAAAAAABCJawAAAAAAABCJawAAAAAAABCJawAAAAAAABCJawAAAAAAABCJ\n",
       "awAAAAAAABCJawAAAAAAABCJawAAAAAAABCJawAAAAAAABCJawAAAAAAABCJawAAAAAAABCJawAA\n",
       "AAAAABCJawAAAAAAABCJawAAAAAAABCJawAAAAAAABCJawAAAAAAABCJawAAAAAAABCJawAAAAAA\n",
       "ABCJawAAAAAAABCJawAAAAAAABCJawAAAAAAABCJawAAAAAAABCJawAAAAAAABCJawAAAAAAABCJ\n",
       "awAAAAAAABCJawAAAAAAABCJawAAAAAAABCJawAAAAAAABCJawAAAAAAABCJawAAAAAAABCJawAA\n",
       "AAAAABCJawAAAAAAABCJawAAAAAAABCJawAAAAAAABCJawAAAAAAABCJawAAAAAAABCJawAAAAAA\n",
       "ABCJawAAAAAAABCJawAAAAAAABCJawAAAAAAABCJawAAAAAAABCJawAAAAAAABCJawAAAAAAABB9\n",
       "XNfaPcNhrOeY9eye4Cjr3j3BOW4f8zGP78xR9+V7c4q1nLWW33NNuW9rOcfhiJ+V89GU5Z1y1HI+\n",
       "GrPWe/cIR1mX9Rzje3OM53KYZ3OQs+YUb+cAAAAAAAAQiWsAAAAAAAAQiWsAAAAAAAAQiWsAAAAA\n",
       "AAAQiWsAAAAAAAAQiWsAAAAAAAAQiWsAAAAAAAAQiWsAAAAAAAAQiWsAAAAAAAAQiWsAAAAAAAAQ\n",
       "iWsAAAAAAAAQiWsAAAAAAAAQiWsAAAAAAAAQiWsAAAAAAAAQiWsAAAAAAAAQiWsAAAAAAAAQiWsA\n",
       "AAAAAAAQiWsAAAAAAAAQiWsAAAAAAAAQiWsAAAAAAAAQiWsAAAAAAAAQiWsAAAAAAAAQiWsAAAAA\n",
       "AAAQiWsAAAAAAAAQiWsAAAAAAAAQiWsAAAAAAAAQiWsAAAAAAAAQiWsAAAAAAAAQiWsAAAAAAAAQ\n",
       "iWsAAAAAAAAQiWsAAAAAAAAQiWsAAAAAAAAQiWsAAAAAAAAQiWsAAAAAAAAQiWsAAAAAAAAQiWsA\n",
       "AAAAAAAQiWsAAAAAAAAQiWsAAAAAAAAQiWsAAAAAAAAQiWsAAAAAAAAQiWsAAAAAAAAQiWsAAAAA\n",
       "AAAQiWsAAAAAAAAQiWsAAAAAAAAQiWsAAAAAAAAQiWsAAAAAAAAQiWsAAAAAAAAQiWsAAAAAAAAQ\n",
       "iWsAAAAAAAAQiWsAAAAAAAAQiWsAAAAAAAAQiWsAAAAAAAAQiWsAAAAAAAAQiWsAAAAAAAAQiWsA\n",
       "AAAAAAAQiWsAAAAAAAAQiWsAAAAAAAAQiWsAAAAAAAAQiWsAAAAAAAAQiWsAAAAAAAAQiWsAAAAA\n",
       "AAAQfVxr7Z7hLPeze4JjeDJn3RZ0zLp3T3AQe9Aw6zllXfbzSbffc82xCY25b2vJz2k5Hw2ylpOc\n",
       "jwYtaznJsznJWo7xOR/lcz7JWk5x0wEAAAAAAACRuAYAAAAAAACRuAYAAAAAAACRuAYAAAAAAACR\n",
       "uAYAAAAAAACRuAYAAAAAAACRuAYAAAAAAACRuAYAAAAAAACRuAYAAAAAAACRuAYAAAAAAACRuAYA\n",
       "AAAAAACRuAYAAAAAAACRuAYAAAAAAACRuAYAAAAAAACRuAYAAAAAAACRuAYAAAAAAACRuAYAAAAA\n",
       "AACRuAYAAAAAAACRuAYAAAAAAACRuAYAAAAAAACRuAYAAAAAAACRuAYAAAAAAACRuAYAAAAAAACR\n",
       "uAYAAAAAAACRuAYAAAAAAACRuAYAAAAAAACRuAYAAAAAAACRuAYA/L9dOzqNGAaAKGhB+i85Sgvv\n",
       "Y8HBzFQgFmHu/AwAAAAAROIaAAAAAAAAROIaAAAAAAAAROIaAAAAAAAAROIaAAAAAAAAROIaAAAA\n",
       "AAAAROIaAAAAAAAAROIaAAAAAAAAROIaAAAAAAAAROIaAAAAAAAAROIaAAAAAAAAROIaAAAAAAAA\n",
       "ROIaAAAAAAAAROIaAAAAAAAAROIaAAAAAAAAROIaAAAAAAAAROIaAAAAAAAAROIaAAAAAAAAROIa\n",
       "AAAAAAAAROIaAAAAAAAAROIaAAAAAAAAROIaAAAAAAAAROIaAAAAAAAAROIaAAAAAAAAROIaAAAA\n",
       "AAAAROIaAAAAAAAAROIaAAAAAAAAROIaAAAAAAAAROIaAAAAAAAAROIaAAAAAAAAROIaAAAAAAAA\n",
       "ROIaAAAAAAAAROIaAAAAAAAAROIaAAAAAAAARD/Pc98+w7eYc+f8vn2CT3E1h641V46bOXU9N3eu\n",
       "74+2ztsH+BBbrtxrS/4rv492bLl07Tnkd/uU/+gz190cci+33M0Zz8wZb44AAAAAAAAgEtcAAAAA\n",
       "AAAgEtcAAAAAAAAgEtcAAAAAAAAgEtcAAAAAAAAgEtcAAAAAAAAgEtcAAAAAAAAgEtcAAAAAAAAg\n",
       "EtcAAAAAAAAgEtcAAAAAAAAgEtcAAAAAAAAgEtcAAAAAAAAgEtcAAAAAAAAgEtcAAAAAAAAgEtcA\n",
       "AAAAAAAgEtcAAAAAAAAgEtcAAAAAAAAgEtcAAAAAAAAgEtcAAAAAAAAgEtcAAAAAAAAgEtcAAAAA\n",
       "AAAgEtcAAAAAAAAgEtcAAAAAAAAgEtcAAAAAAAAgEtcAAAAAAAAgEtcAAAAAAAAgEtcAAAAAAAAg\n",
       "EtcAAAAAAAAgEtcAAAAAAAAgEtcAAAAAAAAgEtcAAAAAAAAgEtcAAAAAAAAgEtcAAAAAAAAgEtcA\n",
       "AAAAAAAgEtcAAAAAAAAgEtcAAAAAAAAgEtcAAAAAAAAgEtcAAAAAAAAgEtcAAAAAAAAgEtcAAAAA\n",
       "AAAgEtcAAAAAAAAgEtcAAAAAAAAgEtcAAAAAAAAgEtcAAAAAAAAgEtcAAAAAAAAgEtcAAAAAAAAg\n",
       "EtcAAAAAAAAgEtcAAAAAAAAgEtcAAAAAAAAgEtcAAAAAAAAgEtcAAAAAAAAgEtcAAAAAAAAgEtcA\n",
       "AAAAAAAgEtcAAAAAAAAgEtcAAAAAAAAgEtcAAAAAAAAgEtcAAAAAAAAgEtcAAAAAAAAgEtcAAAAA\n",
       "AAAgEtcAAAAAAAAgEtcAAAAAAAAgOs/zc98+xJectw/wKdacOvbcseWOLbfsuXJ8fzTmbs6YEqDz\n",
       "tmPMoCv3+X37CB/jbu7YcseWU9eeO7Zc8eYIAAAAAAAAInENAAAAAAAAInENAAAAAAAAInENAAAA\n",
       "AAAAInENAAAAAAAAInENAAAAAAAAInENAAAAAAAAInENAAAAAAAAInENAAAAAAAAInENAAAAAAAA\n",
       "InENAAAAAAAAInENAAAAAAAAInENAAAAAAAAInENAAAAAAAAInENAAAAAAAAInENAAAAAAAAInEN\n",
       "AAAAAAAAInENAAAAAAAAInENAAAAAAAAInENAAAAAAAAInENAAAAAAAAInENAAAAAAAAInENAAAA\n",
       "AAAAInENAAAAAAAAInENAAAAAAAAInENAAAAAAAAInENAAAAAAAAInENAAAAAAAAInENAAAAAAAA\n",
       "InENAAAAAAAAInENAAAAAAAAInENAAAAAAAAInENAAAAAAAAInENAAAAAAAAInENAAAAAAAAInEN\n",
       "AAAAAAAAInENAAAAAAAAInENAAAAAAAAInENAAAAAAAAInENAAAAAAAAInENAAAAAAAAInENAAAA\n",
       "AAAAInENAAAAAAAAInENAAAAAAAAInENAAAAAAAAInENAAAAAAAAInENAAAAAAAAInENAAAAAAAA\n",
       "InENAAAAAAAAInENAAAAAAAAInENAAAAAAAAInENAAAAAAAAInENAAAAAAAAInENAAAAAAAAInEN\n",
       "AAAAAAAAInENAAAAAAAAInENAAAAAAAAInENAAAAAAAAInENAAAAAAAAInENAAAAAAAAoj9XHOgz\n",
       "oic4dQAAAABJRU5ErkJggg==\n",
       "\" transform=\"translate(310, 86)\"/>\n",
       "</g>\n",
       "<polyline clip-path=\"url(#clip902)\" style=\"stroke:#e26f46; stroke-linecap:round; stroke-linejoin:round; stroke-width:4; stroke-opacity:1; fill:none\" points=\"2060.24,704.306 1226.66,86.1857 393.078,704.306 1226.66,1322.43 2060.24,704.306 \"/>\n",
       "<polyline clip-path=\"url(#clip902)\" style=\"stroke:#e26f46; stroke-linecap:round; stroke-linejoin:round; stroke-width:4; stroke-opacity:1; fill:none\" points=\"2020.6,711.29 2060.24,704.306 2042.04,740.207 \"/>\n",
       "<polyline clip-path=\"url(#clip902)\" style=\"stroke:#e26f46; stroke-linecap:round; stroke-linejoin:round; stroke-width:4; stroke-opacity:1; fill:none\" points=\"2060.24,704.306 1226.66,1322.43 \"/>\n",
       "<defs>\n",
       "  <clipPath id=\"clip903\">\n",
       "    <rect x=\"2160\" y=\"47\" width=\"73\" height=\"1377\"/>\n",
       "  </clipPath>\n",
       "</defs>\n",
       "<g clip-path=\"url(#clip903)\">\n",
       "<image width=\"72\" height=\"1376\" xlink:href=\"data:image/png;base64,\n",
       "iVBORw0KGgoAAAANSUhEUgAAAEgAAAVgCAYAAADsKhu7AAAL6UlEQVR4nO3dwZEjNxBFQVBR/lsh\n",
       "L6UFZIHqHclDpgUTL35wCXTP7Off+/c7/K+/vv0D/DqBgkBBoCBQmPv+/fbP8NMsKAgUBAoChXnv\n",
       "z7d/hp9mQUGgIFAQKAgUHDWCBQWBgkBBoDDPh/TKgoJAQaAgUJh3fUhvLCgIFAQKAgWBgqNGsKAg\n",
       "UBAoCBR8SAcLCgIFgYJAwX1QsKAgUBAoCBQECnMcNVYWFAQKAgWBgvugYEFBoCBQECgIFOa4MFtZ\n",
       "UBAoCBQECnPuP9/+GX6aBQWBgkBBoODSPlhQECgIFAQKAgX3QcGCgkBBoCBQ8CEdLCgIFAQKAgX3\n",
       "QcGCgkBBoCBQECjMx1FjZUFBoCBQECjMuf5XhI0FBYGCQEGgIFBw1AgWFAQKAgWBgqNGsKAgUBAo\n",
       "CBS8HxQsKAgUBAoCBYHCfBw1VhYUBAoCBYGCt1yDBQWBgkBBoOCbdLCgIFAQKAgUBAoePQcLCgIF\n",
       "gYJAwVEjWFAQKAgUBAoCBUeNYEFBoCBQECg4agQLCgIFgYJAYc693/4ZfpoFBYGCQEGgIFBw1AgW\n",
       "FAQKAgWBgkv7YEFBoCBQECj4kA4WFAQKAgWBgkBhPp5qrCwoCBQECgIFR41gQUGgIFAQKAgUvEAV\n",
       "LCgIFAQKAgX3QcGCgkBBoCBQcB8ULCgIFAQKAgWBgvugYEFBoCBQECj4kA4WFAQKAgWBgl/qDRYU\n",
       "BAoCBYGCQMFRI1hQECgIFAQKPqSDBQWBgkBBoCBQ8K9YsKAgUBAoCBR8SAcLCgIFgYJAYc7zIb2x\n",
       "oCBQECgIFAQKjhrBgoJAQaAgUPAhHSwoCBQECgIFH9LBgoJAQaAgUBAozLnv2z/DT7OgIFAQKAgU\n",
       "HDWCBQWBgkBBoCBQcNQIFhQECgIFgYKjRrCgIFAQKAgUfJMOFhQECgIFgYJAYY6TxsqCgkBBoCBQ\n",
       "mPMcNTYWFAQKAgWBgm/SwYKCQEGgIFAQKPhXLFhQECgIFAQK44/g7SwoCBQECgIFgYKjRrCgIFAQ\n",
       "KAgUfEgHCwoCBYGCQGHO/Xz7Z/hpFhQECgIFgYJAYd7zr9jGgoJAQaAgUHAfFCwoCBQECgIF90HB\n",
       "goJAQaAgUBAozLsabdQJAgWBgkDBUSNYUBAoCBQECgKFOR49rywoCBQECgKFeY4aKwsKAgWBgkBh\n",
       "jkv7lTpBoCBQECgIFBw1ggUFgYJAQaDg0j5YUBAoCBQECl7iDOoEgYJAQaAgUPCWa7CgIFAQKAgU\n",
       "XNoHCwoCBYGCQEGgMO9ptFEnCBQECgIF90HBgoJAQaAgUHAfFCwoCBQECgIFgcIc90ErdYJAQaAg\n",
       "UHDUCBYUBAoCBYGCD+lgQUGgIFAQKAgU/NZzsKAgUBAoCBT81nNQJwgUBAoCBYHCPEeNlQUFgYJA\n",
       "QaDgqUawoCBQECgIFPyvCEGdIFAQKAgUBArug4IFBYGCQEGg4D4oWFAQKAgUBAq+SQcLCgIFgYJA\n",
       "QaDgLdegThAoCBQECo4awYKCQEGgIFAQKHiqESwoCBQECgIFR41gQUGgIFAQKPiva4IFBYGCQEGg\n",
       "IFDwv2QGdYJAQaAgUHAfFCwoCBQECgIFT1aDBQWBgkBBoCBQcNQIFhQECgIFgcJcH9IrCwoCBYGC\n",
       "QEGg4LeegzpBoCBQECi4DwoWFAQKAgWBgg/pYEFBoCBQECgIFLxAFSwoCBQECgIFR41gQUGgIFAQ\n",
       "KPiQDhYUBAoCBYGCQMGfpgjqBIGCQEGgMNel/cqCgkBBoCBQECi4MAsWFAQKAgWBgg/pYEFBoCBQ\n",
       "ECj4kA4WFAQKAgWBgkDBH1gKFhQECgIFgYKjRrCgIFAQKAgUfEgHCwoCBYGCQEGg4FcRgjpBoCBQ\n",
       "ECj4VYRgQUGgIFAQKAgUXJgFCwoCBYGCQMGHdLCgIFAQKAgUvMQZLCgIFAQKAgWBgqNGsKAgUBAo\n",
       "CBTmHR/SGwsKAgWBgkDBfVCwoCBQECgIFAQK7oOCBQWBgkBBoOCoESwoCBQECgIFgYKjRrCgIFAQ\n",
       "KAgUHDWCBQWBgkBBoOCbdLCgIFAQKAgUBAr+FQsWFAQKAgWBwly/irCyoCBQECgIFHyTDhYUBAoC\n",
       "BYGCQMGj52BBQaAgUBAozHvf/hF+mwUFgYJAQaAgUHDUCBYUBAoCBYGCv4IXLCgIFAQKAgXfpIMF\n",
       "BYGCQEGgIFDwAlWwoCBQECgIFPwqQrCgIFAQKAgUvB8ULCgIFAQKAgWBgqcawYKCQEGgIFBwaR8s\n",
       "KAgUBAoCBYGCpxrBgoJAQaAgUHAfFCwoCBQECgIFj56DBQWBgkBBoCBQcB8ULCgIFAQKAgWPnoMF\n",
       "BYGCQEGgMPfbP8GPs6AgUBAoCBQECo4awYKCQEGgIFDwflCwoCBQECgIFAQKLsyCBQWBgkBBoOA+\n",
       "KFhQECgIFAQKvkkHCwoCBYGCQEGg4KgRLCgIFAQKAgWPnoMFBYGCQEGgMP4yxc6CgkBBoCBQECg4\n",
       "agQLCgIFgYJAwaPnYEFBoCBQECgIFDx6DhYUBAoCBYGCo0awoCBQECgIFHyTDhYUBAoCBYGCQGGu\n",
       "N6hWFhQECgIFgYL7oGBBQaAgUBAouA8KFhQECgIFgYJAwVEjWFAQKAgUBArzXNqvLCgIFAQKAgWB\n",
       "wtzjwmxjQUGgIFAQKHg/KFhQECgIFAQK/gpesKAgUBAoCBQECv4KXrCgIFAQKAgUPHoOFhQECgIF\n",
       "gYKXOIMFBYGCQEGgIFDwC3XBgoJAQaAgUHDUCBYUBAoCBYGCQMFbrsGCgkBBoCBQ8JZrsKAgUBAo\n",
       "CBR8kw4WFAQKAgWBgkDBW67BgoJAQaAgUPD3g4IFBYGCQEGg4D4oWFAQKAgUBAoCBY+egwUFgYJA\n",
       "QaDgqBEsKAgUBAoCBYGCo0awoCBQECgIFBw1ggUFgYJAQaDgQzpYUBAoCBQECgIF90HBgoJAQaAg\n",
       "UHDUCBYUBAoCBYGCb9LBgoJAQaAgUBAoOGoECwoCBYGCQMHfDwoWFAQKAgWBgkDB/+0TLCgIFAQK\n",
       "AgX3QcGCgkBBoCBQmHd8Sm8sKAgUBAoCBYGCo0awoCBQECgIFDx6DhYUBAoCBYGCJ6vBgoJAQaAg\n",
       "UBAouA8KFhQECgIFgYJHz8GCgkBBoCBQECg4agQLCgIFgYJAwR9YChYUBAoCBYHCXC8IrSwoCBQE\n",
       "CgIFgYIXqIIFBYGCQEGgMM9RY2VBQaAgUBAo+CYdLCgIFAQKAgWBgqcawYKCQEGgIFDwflCwoCBQ\n",
       "ECgIFAQKc/1C3cqCgkBBoCBQcB8ULCgIFAQKAgV/miJYUBAoCBQECgIFL1AFCwoCBYGCQMGlfbCg\n",
       "IFAQKAgU3AcFCwoCBYGCQEGgMPe4EdpYUBAoCBQECu6DggUFgYJAQaAgUPCvWLCgIFAQKAgUPNUI\n",
       "FhQECgIFgYJL+2BBQaAgUBAoCBTmfhw1NhYUBAoCBYGCo0awoCBQECgIFOb5kF5ZUBAoCBQECgIF\n",
       "R41gQUGgIFAQKMz9+JDeWFAQKAgUBAoCBUeNYEFBoCBQECh4qhEsKAgUBAoCBd+kgwUFgYJAQaAg\n",
       "UPCvWLCgIFAQKAgUPHoOFhQECgIFgcK88+fbP8NPs6AgUBAoCBQECu6DggUFgYJAQaDg/aBgQUGg\n",
       "IFAQKAgU5j4XZhsLCgIFgYJAwVEjWFAQKAgUBApzPXpeWVAQKAgUBAoCBUeNYEFBoCBQECg4agQL\n",
       "CgIFgYJAYd7zTXpjQUGgIFAQKAgU3AcFCwoCBYGCQMFLnMGCgkBBoCBQECg4agQLCgIFgYJAYZ6j\n",
       "xsqCgkBBoCBQ8E06WFAQKAgUBAoChbleoFpZUBAoCBQECv7gdrCgIFAQKAgU/CpCsKAgUBAoCBQE\n",
       "Cp5qBAsKAgWBgkDBUSNYUBAoCBQECgIF/4oFCwoCBYGCQMGj52BBQaAgUBAo+CYdLCgIFAQKAgWB\n",
       "whyPnlcWFAQKAgWBgqNGsKAgUBAoCBS8xBksKAgUBAoCBYHCHEeNlQUFgYJAQaDg/aBgQUGgIFAQ\n",
       "KAgUPHoOFhQECgIFgYL7oGBBQaAgUBAozDvv2z/DT7OgIFAQKAgUBArug4IFBYGCQEGgMMdRY2VB\n",
       "QaAgUBAo/AdhU+3PqlcPeQAAAABJRU5ErkJggg==\n",
       "\" transform=\"translate(2161, 47)\"/>\n",
       "</g>\n",
       "<path clip-path=\"url(#clip900)\" d=\"M2274.38 1246.3 L2290.7 1246.3 L2290.7 1250.23 L2268.76 1250.23 L2268.76 1246.3 Q2271.42 1243.54 2276 1238.91 Q2280.61 1234.26 2281.79 1232.92 Q2284.03 1230.39 2284.91 1228.66 Q2285.82 1226.9 2285.82 1225.21 Q2285.82 1222.46 2283.87 1220.72 Q2281.95 1218.98 2278.85 1218.98 Q2276.65 1218.98 2274.2 1219.75 Q2271.77 1220.51 2268.99 1222.06 L2268.99 1217.34 Q2271.81 1216.21 2274.27 1215.63 Q2276.72 1215.05 2278.76 1215.05 Q2284.13 1215.05 2287.32 1217.73 Q2290.52 1220.42 2290.52 1224.91 Q2290.52 1227.04 2289.7 1228.96 Q2288.92 1230.86 2286.81 1233.45 Q2286.23 1234.12 2283.13 1237.34 Q2280.03 1240.53 2274.38 1246.3 Z\" fill=\"#000000\" fill-rule=\"nonzero\" fill-opacity=\"1\" /><path clip-path=\"url(#clip900)\" d=\"M2300.51 1244.35 L2305.4 1244.35 L2305.4 1250.23 L2300.51 1250.23 L2300.51 1244.35 Z\" fill=\"#000000\" fill-rule=\"nonzero\" fill-opacity=\"1\" /><path clip-path=\"url(#clip900)\" d=\"M2315.63 1215.67 L2333.99 1215.67 L2333.99 1219.61 L2319.91 1219.61 L2319.91 1228.08 Q2320.93 1227.73 2321.95 1227.57 Q2322.97 1227.39 2323.99 1227.39 Q2329.77 1227.39 2333.15 1230.56 Q2336.53 1233.73 2336.53 1239.14 Q2336.53 1244.72 2333.06 1247.83 Q2329.59 1250.9 2323.27 1250.9 Q2321.09 1250.9 2318.83 1250.53 Q2316.58 1250.16 2314.17 1249.42 L2314.17 1244.72 Q2316.26 1245.86 2318.48 1246.41 Q2320.7 1246.97 2323.18 1246.97 Q2327.18 1246.97 2329.52 1244.86 Q2331.86 1242.76 2331.86 1239.14 Q2331.86 1235.53 2329.52 1233.43 Q2327.18 1231.32 2323.18 1231.32 Q2321.3 1231.32 2319.43 1231.74 Q2317.58 1232.15 2315.63 1233.03 L2315.63 1215.67 Z\" fill=\"#000000\" fill-rule=\"nonzero\" fill-opacity=\"1\" /><polyline clip-path=\"url(#clip900)\" style=\"stroke:#000000; stroke-linecap:round; stroke-linejoin:round; stroke-width:4; stroke-opacity:1; fill:none\" points=\"2232.76,1236.58 2256.76,1236.58 \"/>\n",
       "<path clip-path=\"url(#clip900)\" d=\"M2270.21 960.278 L2288.57 960.278 L2288.57 964.213 L2274.5 964.213 L2274.5 972.685 Q2275.52 972.338 2276.53 972.176 Q2277.55 971.991 2278.57 971.991 Q2284.36 971.991 2287.74 975.162 Q2291.12 978.333 2291.12 983.75 Q2291.12 989.329 2287.64 992.43 Q2284.17 995.509 2277.85 995.509 Q2275.68 995.509 2273.41 995.139 Q2271.16 994.768 2268.76 994.028 L2268.76 989.329 Q2270.84 990.463 2273.06 991.018 Q2275.28 991.574 2277.76 991.574 Q2281.77 991.574 2284.1 989.467 Q2286.44 987.361 2286.44 983.75 Q2286.44 980.139 2284.1 978.032 Q2281.77 975.926 2277.76 975.926 Q2275.89 975.926 2274.01 976.342 Q2272.16 976.759 2270.21 977.639 L2270.21 960.278 Z\" fill=\"#000000\" fill-rule=\"nonzero\" fill-opacity=\"1\" /><path clip-path=\"url(#clip900)\" d=\"M2300.33 988.958 L2305.21 988.958 L2305.21 994.838 L2300.33 994.838 L2300.33 988.958 Z\" fill=\"#000000\" fill-rule=\"nonzero\" fill-opacity=\"1\" /><path clip-path=\"url(#clip900)\" d=\"M2325.4 963.356 Q2321.79 963.356 2319.96 966.921 Q2318.15 970.463 2318.15 977.592 Q2318.15 984.699 2319.96 988.264 Q2321.79 991.805 2325.4 991.805 Q2329.03 991.805 2330.84 988.264 Q2332.67 984.699 2332.67 977.592 Q2332.67 970.463 2330.84 966.921 Q2329.03 963.356 2325.4 963.356 M2325.4 959.653 Q2331.21 959.653 2334.26 964.259 Q2337.34 968.843 2337.34 977.592 Q2337.34 986.319 2334.26 990.926 Q2331.21 995.509 2325.4 995.509 Q2319.59 995.509 2316.51 990.926 Q2313.45 986.319 2313.45 977.592 Q2313.45 968.843 2316.51 964.259 Q2319.59 959.653 2325.4 959.653 Z\" fill=\"#000000\" fill-rule=\"nonzero\" fill-opacity=\"1\" /><polyline clip-path=\"url(#clip900)\" style=\"stroke:#000000; stroke-linecap:round; stroke-linejoin:round; stroke-width:4; stroke-opacity:1; fill:none\" points=\"2232.76,981.187 2256.76,981.187 \"/>\n",
       "<path clip-path=\"url(#clip900)\" d=\"M2268.76 704.883 L2290.98 704.883 L2290.98 706.873 L2278.43 739.443 L2273.55 739.443 L2285.35 708.818 L2268.76 708.818 L2268.76 704.883 Z\" fill=\"#000000\" fill-rule=\"nonzero\" fill-opacity=\"1\" /><path clip-path=\"url(#clip900)\" d=\"M2300.1 733.563 L2304.98 733.563 L2304.98 739.443 L2300.1 739.443 L2300.1 733.563 Z\" fill=\"#000000\" fill-rule=\"nonzero\" fill-opacity=\"1\" /><path clip-path=\"url(#clip900)\" d=\"M2315.21 704.883 L2333.57 704.883 L2333.57 708.818 L2319.5 708.818 L2319.5 717.29 Q2320.51 716.943 2321.53 716.781 Q2322.55 716.596 2323.57 716.596 Q2329.36 716.596 2332.74 719.767 Q2336.12 722.938 2336.12 728.355 Q2336.12 733.933 2332.64 737.035 Q2329.17 740.114 2322.85 740.114 Q2320.68 740.114 2318.41 739.744 Q2316.16 739.373 2313.76 738.633 L2313.76 733.933 Q2315.84 735.068 2318.06 735.623 Q2320.28 736.179 2322.76 736.179 Q2326.76 736.179 2329.1 734.072 Q2331.44 731.966 2331.44 728.355 Q2331.44 724.744 2329.1 722.637 Q2326.76 720.531 2322.76 720.531 Q2320.89 720.531 2319.01 720.947 Q2317.16 721.364 2315.21 722.244 L2315.21 704.883 Z\" fill=\"#000000\" fill-rule=\"nonzero\" fill-opacity=\"1\" /><polyline clip-path=\"url(#clip900)\" style=\"stroke:#000000; stroke-linecap:round; stroke-linejoin:round; stroke-width:4; stroke-opacity:1; fill:none\" points=\"2232.76,725.792 2256.76,725.792 \"/>\n",
       "<path clip-path=\"url(#clip900)\" d=\"M2269.43 480.112 L2277.07 480.112 L2277.07 453.747 L2268.76 455.414 L2268.76 451.154 L2277.02 449.488 L2281.7 449.488 L2281.7 480.112 L2289.33 480.112 L2289.33 484.048 L2269.43 484.048 L2269.43 480.112 Z\" fill=\"#000000\" fill-rule=\"nonzero\" fill-opacity=\"1\" /><path clip-path=\"url(#clip900)\" d=\"M2308.78 452.566 Q2305.17 452.566 2303.34 456.131 Q2301.53 459.673 2301.53 466.802 Q2301.53 473.909 2303.34 477.474 Q2305.17 481.015 2308.78 481.015 Q2312.41 481.015 2314.22 477.474 Q2316.05 473.909 2316.05 466.802 Q2316.05 459.673 2314.22 456.131 Q2312.41 452.566 2308.78 452.566 M2308.78 448.863 Q2314.59 448.863 2317.64 453.469 Q2320.72 458.052 2320.72 466.802 Q2320.72 475.529 2317.64 480.136 Q2314.59 484.719 2308.78 484.719 Q2302.97 484.719 2299.89 480.136 Q2296.83 475.529 2296.83 466.802 Q2296.83 458.052 2299.89 453.469 Q2302.97 448.863 2308.78 448.863 Z\" fill=\"#000000\" fill-rule=\"nonzero\" fill-opacity=\"1\" /><path clip-path=\"url(#clip900)\" d=\"M2328.94 478.168 L2333.83 478.168 L2333.83 484.048 L2328.94 484.048 L2328.94 478.168 Z\" fill=\"#000000\" fill-rule=\"nonzero\" fill-opacity=\"1\" /><path clip-path=\"url(#clip900)\" d=\"M2354.01 452.566 Q2350.4 452.566 2348.57 456.131 Q2346.76 459.673 2346.76 466.802 Q2346.76 473.909 2348.57 477.474 Q2350.4 481.015 2354.01 481.015 Q2357.64 481.015 2359.45 477.474 Q2361.28 473.909 2361.28 466.802 Q2361.28 459.673 2359.45 456.131 Q2357.64 452.566 2354.01 452.566 M2354.01 448.863 Q2359.82 448.863 2362.88 453.469 Q2365.95 458.052 2365.95 466.802 Q2365.95 475.529 2362.88 480.136 Q2359.82 484.719 2354.01 484.719 Q2348.2 484.719 2345.12 480.136 Q2342.07 475.529 2342.07 466.802 Q2342.07 458.052 2345.12 453.469 Q2348.2 448.863 2354.01 448.863 Z\" fill=\"#000000\" fill-rule=\"nonzero\" fill-opacity=\"1\" /><polyline clip-path=\"url(#clip900)\" style=\"stroke:#000000; stroke-linecap:round; stroke-linejoin:round; stroke-width:4; stroke-opacity:1; fill:none\" points=\"2232.76,470.396 2256.76,470.396 \"/>\n",
       "<path clip-path=\"url(#clip900)\" d=\"M2269.43 224.717 L2277.07 224.717 L2277.07 198.352 L2268.76 200.019 L2268.76 195.759 L2277.02 194.093 L2281.7 194.093 L2281.7 224.717 L2289.33 224.717 L2289.33 228.653 L2269.43 228.653 L2269.43 224.717 Z\" fill=\"#000000\" fill-rule=\"nonzero\" fill-opacity=\"1\" /><path clip-path=\"url(#clip900)\" d=\"M2302.81 224.717 L2319.13 224.717 L2319.13 228.653 L2297.18 228.653 L2297.18 224.717 Q2299.84 221.963 2304.43 217.333 Q2309.03 212.68 2310.21 211.338 Q2312.46 208.815 2313.34 207.079 Q2314.24 205.319 2314.24 203.63 Q2314.24 200.875 2312.3 199.139 Q2310.38 197.403 2307.27 197.403 Q2305.08 197.403 2302.62 198.167 Q2300.19 198.931 2297.41 200.481 L2297.41 195.759 Q2300.24 194.625 2302.69 194.046 Q2305.14 193.468 2307.18 193.468 Q2312.55 193.468 2315.75 196.153 Q2318.94 198.838 2318.94 203.329 Q2318.94 205.458 2318.13 207.38 Q2317.34 209.278 2315.24 211.87 Q2314.66 212.542 2311.56 215.759 Q2308.45 218.954 2302.81 224.717 Z\" fill=\"#000000\" fill-rule=\"nonzero\" fill-opacity=\"1\" /><path clip-path=\"url(#clip900)\" d=\"M2328.94 222.773 L2333.83 222.773 L2333.83 228.653 L2328.94 228.653 L2328.94 222.773 Z\" fill=\"#000000\" fill-rule=\"nonzero\" fill-opacity=\"1\" /><path clip-path=\"url(#clip900)\" d=\"M2344.06 194.093 L2362.41 194.093 L2362.41 198.028 L2348.34 198.028 L2348.34 206.5 Q2349.36 206.153 2350.38 205.991 Q2351.39 205.806 2352.41 205.806 Q2358.2 205.806 2361.58 208.977 Q2364.96 212.148 2364.96 217.565 Q2364.96 223.143 2361.49 226.245 Q2358.01 229.324 2351.7 229.324 Q2349.52 229.324 2347.25 228.954 Q2345.01 228.583 2342.6 227.842 L2342.6 223.143 Q2344.68 224.278 2346.9 224.833 Q2349.13 225.389 2351.6 225.389 Q2355.61 225.389 2357.95 223.282 Q2360.28 221.176 2360.28 217.565 Q2360.28 213.954 2357.95 211.847 Q2355.61 209.741 2351.6 209.741 Q2349.73 209.741 2347.85 210.157 Q2346 210.574 2344.06 211.454 L2344.06 194.093 Z\" fill=\"#000000\" fill-rule=\"nonzero\" fill-opacity=\"1\" /><polyline clip-path=\"url(#clip900)\" style=\"stroke:#000000; stroke-linecap:round; stroke-linejoin:round; stroke-width:4; stroke-opacity:1; fill:none\" points=\"2232.76,215.001 2256.76,215.001 \"/>\n",
       "<polyline clip-path=\"url(#clip900)\" style=\"stroke:#000000; stroke-linecap:round; stroke-linejoin:round; stroke-width:4; stroke-opacity:1; fill:none\" points=\"2232.76,1423.18 2232.76,47.2441 \"/>\n",
       "</svg>\n"
      ]
     },
     "execution_count": 48,
     "metadata": {},
     "output_type": "execute_result"
    }
   ],
   "source": [
    "using Plots\n",
    "xvals=[x for x in -1.05:0.1:1]\n",
    "yvals=[y for y in -1.05:0.1:1]\n",
    "zvals=[1/(x+y*im) for x in xvals, y in yvals]\n",
    "heatmap(xvals,yvals,abs.(zvals))\n",
    "plot!([(real(z),imag(z)) for z in nodes],\n",
    "    label=\"\",xlabel=\"x\",ylabel=\"y\",arrow=true)"
   ]
  },
  {
   "cell_type": "markdown",
   "id": "d8a2ceef-c0fe-4744-8b0e-d4da9d257bd3",
   "metadata": {},
   "source": [
    "The same command with quadgk.  The `...` notation is referred to as a `splat`.  It takes the elements of a list, and inserts them into the function"
   ]
  },
  {
   "cell_type": "code",
   "execution_count": 49,
   "id": "5c243172-81e8-49f9-94ce-64759200b2ee",
   "metadata": {},
   "outputs": [
    {
     "data": {
      "text/plain": [
       "1.0 + 1.766974823035287e-17im"
      ]
     },
     "execution_count": 49,
     "metadata": {},
     "output_type": "execute_result"
    }
   ],
   "source": [
    "1/(2im*pi)*quadgk(z->1/z,nodes...)[1]"
   ]
  },
  {
   "cell_type": "code",
   "execution_count": 50,
   "id": "84c7cd05-310d-4deb-9846-6c0f4a1df9e1",
   "metadata": {},
   "outputs": [
    {
     "data": {
      "text/plain": [
       "5-element Vector{Complex{Int64}}:\n",
       "  1 + 0im\n",
       "  0 + 1im\n",
       " -1 + 0im\n",
       "  0 - 1im\n",
       "  1 + 0im"
      ]
     },
     "execution_count": 50,
     "metadata": {},
     "output_type": "execute_result"
    }
   ],
   "source": [
    "nodes"
   ]
  },
  {
   "cell_type": "code",
   "execution_count": 51,
   "id": "7c463260-78ca-4d2a-8e76-b2025a4e0325",
   "metadata": {},
   "outputs": [
    {
     "data": {
      "text/plain": [
       "1.0 + 1.766974823035287e-17im"
      ]
     },
     "execution_count": 51,
     "metadata": {},
     "output_type": "execute_result"
    }
   ],
   "source": [
    "1/(2im*pi)*quadgk(z->1/z,1,1im,-1,-1im,1)[1]"
   ]
  },
  {
   "cell_type": "markdown",
   "id": "f6b392dc-f017-459b-b856-c9fd51336031",
   "metadata": {},
   "source": [
    "This takes the integral from $1$ to $i$ -- then to $-1$ -- then to $-i$ -- then to $1$ -- all with straight line paths between them."
   ]
  },
  {
   "cell_type": "markdown",
   "id": "e69aaba6-c756-4105-ab8f-96d7068610fd",
   "metadata": {},
   "source": [
    "# Higher dimensional integrals"
   ]
  },
  {
   "cell_type": "markdown",
   "id": "b0e50bc7-a005-42db-913d-6afd448cf6ce",
   "metadata": {},
   "source": [
    "Higher dimensional integrals are hard.  Grids are hopeless once you get beyond 2 or 3 dimensions.  Say you have a 10 dimensional integral, and you break each dimension into 10 points.  That would then requre $10^{10}$ function evaluations.\n",
    "\n",
    "To do high dimensional integrals efficiently you often need to do some changes of variables, or breaking up the domain.  \n",
    "\n",
    "A good starting point is the canned routine `hcubature`"
   ]
  },
  {
   "cell_type": "code",
   "execution_count": 52,
   "id": "147a63b6-2dc5-4f50-9d49-e8177b925be2",
   "metadata": {},
   "outputs": [],
   "source": [
    "using HCubature  "
   ]
  },
  {
   "cell_type": "code",
   "execution_count": 53,
   "id": "c2660f38-83cf-48ff-876a-fbc7dc0b7538",
   "metadata": {},
   "outputs": [
    {
     "data": {
      "text/plain": [
       "(14.0, 1.7763568394002505e-15)"
      ]
     },
     "execution_count": 53,
     "metadata": {},
     "output_type": "execute_result"
    }
   ],
   "source": [
    "f(x,y) = x^2 + 5y^2\n",
    "f(v) = f(v...)  # f accepts a vector\n",
    "a0, b0 = 0, 1\n",
    "a1, b1 = 0, 2\n",
    "hcubature(f, (a0, a1), (b0, b1))"
   ]
  },
  {
   "cell_type": "code",
   "execution_count": null,
   "id": "6c20f5a8-a44c-45cf-b907-0607994d16b0",
   "metadata": {},
   "outputs": [],
   "source": []
  },
  {
   "cell_type": "code",
   "execution_count": null,
   "id": "d4024227-cde4-4627-817a-ae5577dc92f3",
   "metadata": {},
   "outputs": [],
   "source": []
  }
 ],
 "metadata": {
  "kernelspec": {
   "display_name": "Julia 1.10.4",
   "language": "julia",
   "name": "julia-1.10"
  },
  "language_info": {
   "file_extension": ".jl",
   "mimetype": "application/julia",
   "name": "julia",
   "version": "1.10.4"
  }
 },
 "nbformat": 4,
 "nbformat_minor": 5
}
