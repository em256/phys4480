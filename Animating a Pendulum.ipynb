{
 "cells": [
  {
   "cell_type": "markdown",
   "id": "d7afa5dc-2cb6-46ba-8a67-7af5a7f189a8",
   "metadata": {},
   "source": [
    "# Interactive Animation of Pendulum"
   ]
  },
  {
   "cell_type": "markdown",
   "id": "d8af65a9-0c6a-49e4-9a2c-228ea668ea14",
   "metadata": {},
   "source": [
    "As is clear, I find that visualization can be as important as getting numerical answers:  If you can't plot your results, then you can't get any insight.  Earlier we saw one strategy for animating our solution to the differential equation:\n",
    "1. Generate time series\n",
    "2. Generate animation frames from time series\n",
    "3. Assemble frames into a movie\n",
    "4. Save the movie to disk\n",
    "5. Display the saved movie\n",
    "\n",
    "The nice thing about that approach is that you can use the same time series for visualization and other analysis.  It also gives you a movie to share."
   ]
  },
  {
   "cell_type": "markdown",
   "id": "935ae8e9-a735-448d-8598-48aefbef85bd",
   "metadata": {},
   "source": [
    "There is a second paradigm, where one generates the frames of the video \"on the fly.\"  You run it until you see something interesting.  You don't have a permanent record, but it is still useful."
   ]
  },
  {
   "cell_type": "markdown",
   "id": "882029de-047e-4f4a-ab27-06d58f8aa4a5",
   "metadata": {},
   "source": [
    "The syntax for making a movie in `Plots.jl` is relatively straightforward.  Here we will use `Makie.jl` to make an interactive animation.  The syntax is a bit trickier."
   ]
  },
  {
   "cell_type": "markdown",
   "id": "b4e76561-e308-4bc4-86dc-3984001c2805",
   "metadata": {},
   "source": [
    "If you just want working animation code -- just scroll to the end of this notebook.  There is a single cell which contains a self-contained animator for the pendulum."
   ]
  },
  {
   "cell_type": "markdown",
   "id": "917c0f0e-f624-4f95-9755-15fa18c4d6ca",
   "metadata": {},
   "source": [
    "In the next lab you will apply this approach to the Duffing Oscillator, and try to get more understanding of how chaos works."
   ]
  },
  {
   "cell_type": "markdown",
   "id": "b63194cc-cdba-4363-a216-9ef48f11d06c",
   "metadata": {},
   "source": [
    "## Asynchronous Computation"
   ]
  },
  {
   "cell_type": "markdown",
   "id": "9b8194df-7457-4358-ab09-2bc25576701d",
   "metadata": {},
   "source": [
    "Another reason for going into this is it introduces an alternate model of computation, *asynchronous computation*.  \n",
    "\n",
    "So far all of our code has been *synchronous*, *procedural*, and *linear*.  The computer steps line-by-line through a program.  Executing one command after the next.  There can be branching and loops, but one thing leads to the next.\n",
    "\n",
    "In an asynchronous model, one instead has independent little mini-programs running, which *listen* for an event.  Whenever an event occurs they do something.  We will use this to make *user interfaces* -- programs which interact with a user.  The interface waits around for human input, and when some occurs it starts some autonomous thread doing something.  While that thread is running it still accepts more input.\n",
    "\n",
    "These Jupyter notebooks are a good example.  \n",
    "\n",
    "We will use `GLMakie`, which is a `OpenGL` backend for the `Makie` plotting program.  We earlier saw `CairoMakie`, which is a different backend.  `OpenGL` is a toolkit (API) for displaying graphics."
   ]
  },
  {
   "cell_type": "markdown",
   "id": "4283106f-8324-4504-9793-ef30711da633",
   "metadata": {},
   "source": [
    "One downside of spending time on this is that the exact syntax is somewhat specialized.  If we learn the commands to use `GLMakie`, those same commands will not work in a `Python` or `Javascript`.  Nonethless the general architecture of all of these interfaces tend to be fairly similar.  Moreover concepts are transferable."
   ]
  },
  {
   "cell_type": "markdown",
   "id": "a87579a0-6180-4359-83db-9c8801483f59",
   "metadata": {},
   "source": [
    "If you want to make interactive interfaces which everyone can access using a web browser, you should look into `WGLMakie`.  You may also want to consider writing such things in `Javascript` -- which is a programming language which runs on most web browsers.  `Javascript` is slow, and it is not as fun to program in as Julia."
   ]
  },
  {
   "cell_type": "markdown",
   "id": "be11ddea-d58a-4160-8710-74f29eef59c0",
   "metadata": {},
   "source": [
    "## Code for Solving the differential equation"
   ]
  },
  {
   "cell_type": "markdown",
   "id": "8ebd6403-ed98-452e-a587-fbf9879edaf7",
   "metadata": {},
   "source": [
    "Before getting in to using `GLMakie`, we should set up some of the actual computational infrastructure.  We are going to make a program which animates a pendulum -- and allows us to interact with that animation.  The actual physics will be really really easy.  The hard part is telling the computer how to display things and how to let us interact with it."
   ]
  },
  {
   "cell_type": "markdown",
   "id": "66478d96-19ee-49f5-8a5a-784e832fa862",
   "metadata": {},
   "source": [
    "We will use our Runge Kutta time stepper -- but we can obviously introduce another one.  We will write the animation code in such a way that we can just plug in the functions that we are using for our integrator."
   ]
  },
  {
   "cell_type": "code",
   "execution_count": 1,
   "id": "a5687bd9-0c35-4117-9bbf-e86055b1d110",
   "metadata": {},
   "outputs": [
    {
     "data": {
      "text/plain": [
       "rk4step (generic function with 2 methods)"
      ]
     },
     "execution_count": 1,
     "metadata": {},
     "output_type": "execute_result"
    }
   ],
   "source": [
    "function pendulum_dxdt(x,t)\n",
    "    (theta,v)=x\n",
    "    return [v,-sin(theta)]\n",
    "end\n",
    "\n",
    "function rk4step(x,dxdt,t,deltat)\n",
    "    k1=dxdt(x,t)\n",
    "    k2=dxdt(x+k1*(deltat/2),t+deltat/2)\n",
    "    k3=dxdt(x+k2*(deltat/2),t+deltat/2)\n",
    "    k4=dxdt(x+k3*deltat,t+deltat)\n",
    "    return x+(k1+2*k2+2*k3+k4)*(deltat/6)\n",
    "end\n",
    "\n",
    "rk4step(;x,dxdt,t,deltat)=rk4step(x,dxdt,t,deltat)"
   ]
  },
  {
   "cell_type": "markdown",
   "id": "14b447bc-7b06-4049-b69a-76d5c720d296",
   "metadata": {},
   "source": [
    "## Generating a Makie Scene"
   ]
  },
  {
   "cell_type": "code",
   "execution_count": 2,
   "id": "8ebbf689-5e1d-4da5-9e4e-29268a15d920",
   "metadata": {},
   "outputs": [],
   "source": [
    "using GLMakie"
   ]
  },
  {
   "cell_type": "code",
   "execution_count": 3,
   "id": "ce5aae2a-312c-4a4a-b35e-99387af326b4",
   "metadata": {},
   "outputs": [],
   "source": [
    "# Make an \"observable\" which will update the figure whenever it is changed\n",
    "ball= Observable(Point2f(1,0))\n",
    "#\n",
    "# Generate Figure\n",
    "fig = Figure(); display(fig)\n",
    "ax = Axis(fig[1,1])\n",
    "scatter!(ax, ball; marker = :circle, strokewidth = 2, \n",
    "    strokecolor = :purple,\n",
    "    color = :black, markersize = 8)\n",
    "ax.title = \"pendulum\"\n",
    "ax.aspect = DataAspect() # Set aspect ratio\n",
    "xlims!(ax, -1.05, 1.05)\n",
    "ylims!(ax, -1.05, 1.05)"
   ]
  },
  {
   "cell_type": "markdown",
   "id": "5afeaf0e-046f-48f4-83db-7ada2c003f38",
   "metadata": {},
   "source": [
    "We can now move the ball around with"
   ]
  },
  {
   "cell_type": "code",
   "execution_count": 4,
   "id": "018d1bbb-a5d7-4a2e-9b54-f0137cbd4048",
   "metadata": {},
   "outputs": [
    {
     "data": {
      "text/plain": [
       "2-element Point{2, Float32} with indices SOneTo(2):\n",
       " 0.5\n",
       " 0.1"
      ]
     },
     "execution_count": 4,
     "metadata": {},
     "output_type": "execute_result"
    }
   ],
   "source": [
    "ball[]=Point2f(0.5,0.1)"
   ]
  },
  {
   "cell_type": "markdown",
   "id": "7adcda37-b3aa-4bcd-a0b4-3417bca0d88e",
   "metadata": {},
   "source": [
    "Lets now disable the zoom feature of Makie"
   ]
  },
  {
   "cell_type": "code",
   "execution_count": 5,
   "id": "0124a652-8069-4f68-b4d9-558a6474c950",
   "metadata": {},
   "outputs": [],
   "source": [
    "Makie.deactivate_interaction!(ax, :rectanglezoom)\n",
    "xlims!(ax, -1.05, 1.05)\n",
    "ylims!(ax, -1.05, 1.05)"
   ]
  },
  {
   "cell_type": "markdown",
   "id": "78ca3858-3d34-4f5b-a6af-c794bfdafa29",
   "metadata": {},
   "source": [
    "Lets add another observable to be the shaft of the pendulum"
   ]
  },
  {
   "cell_type": "code",
   "execution_count": 6,
   "id": "7d508895-82a4-454f-ae1c-f585e6002bca",
   "metadata": {},
   "outputs": [
    {
     "data": {
      "text/plain": [
       "Lines{Tuple{Vector{Point{2, Float32}}}}"
      ]
     },
     "execution_count": 6,
     "metadata": {},
     "output_type": "execute_result"
    }
   ],
   "source": [
    "rod= Observable([Point2f(0, 0), Point2f(0.5, 0.1)])\n",
    "lines!(ax, rod; linewidth = 4, color = :purple)"
   ]
  },
  {
   "cell_type": "markdown",
   "id": "4a712109-ecf2-46f8-a9e0-5113b1a52690",
   "metadata": {},
   "source": [
    "We can now define a function which sets the pendulum to a particular angle.  It will be convenient to feed the vector `θv=[θ,v]`, as that is what is used by our stepper/integrator."
   ]
  },
  {
   "cell_type": "code",
   "execution_count": 7,
   "id": "d7528293-99b8-4504-92db-534c4459fa16",
   "metadata": {},
   "outputs": [
    {
     "data": {
      "text/plain": [
       "setangle! (generic function with 1 method)"
      ]
     },
     "execution_count": 7,
     "metadata": {},
     "output_type": "execute_result"
    }
   ],
   "source": [
    "function xycoords(θv)\n",
    "    θ,v=θv\n",
    "    return (sin(θ),-cos(θ))\n",
    "end\n",
    "\n",
    "function setangle!(θv)\n",
    "    x,y=xycoords(θv)\n",
    "    rod[] = [Point2f(0, 0), Point2f(x, y)]\n",
    "    ball[] = Point2f(x, y)\n",
    "end"
   ]
  },
  {
   "cell_type": "code",
   "execution_count": 8,
   "id": "f995cc44-8cf1-48fa-a827-17478e6521d5",
   "metadata": {},
   "outputs": [
    {
     "data": {
      "text/plain": [
       "2-element Point{2, Float32} with indices SOneTo(2):\n",
       "  1.0\n",
       " -6.123234f-17"
      ]
     },
     "execution_count": 8,
     "metadata": {},
     "output_type": "execute_result"
    }
   ],
   "source": [
    "setangle!([pi/2,0])"
   ]
  },
  {
   "cell_type": "code",
   "execution_count": 8,
   "id": "ed85132e-c0d0-488d-ab56-2910654c9ea3",
   "metadata": {},
   "outputs": [
    {
     "data": {
      "text/plain": [
       "2-element Point{2, Float32} with indices SOneTo(2):\n",
       "  0.70710677\n",
       " -0.70710677"
      ]
     },
     "execution_count": 8,
     "metadata": {},
     "output_type": "execute_result"
    }
   ],
   "source": [
    "setangle!([pi/4,0])"
   ]
  },
  {
   "cell_type": "markdown",
   "id": "85115385-23ce-4ad6-892d-2e537c166479",
   "metadata": {},
   "source": [
    "At this point it is useful to make an object which stores all of this information"
   ]
  },
  {
   "cell_type": "code",
   "execution_count": 9,
   "id": "f1e8e430-1e0f-4c07-b0e2-64294e4bd950",
   "metadata": {},
   "outputs": [
    {
     "data": {
      "text/plain": [
       "setangle! (generic function with 2 methods)"
      ]
     },
     "execution_count": 9,
     "metadata": {},
     "output_type": "execute_result"
    }
   ],
   "source": [
    "# We will learn more about this construction soon\n",
    "# An abstract type is a way to group objects together,\n",
    "# we can then define functions which act on all objects\n",
    "# that are in a given group.  I am using it here because\n",
    "# we are going to iterate on our animation software, and \n",
    "# I would like to define functions that work on all the different\n",
    "# varients.  I can give the varients different names,\n",
    "# but as long as they are all subclasses of the abstract class\n",
    "# they can use the same methods.\n",
    "abstract type abstractpendulum end\n",
    "\n",
    "mutable struct pendulum_basic <:abstractpendulum\n",
    "    fig #Makie figure object\n",
    "    ax  #Makie axis object\n",
    "    ball #Observable corresponding to ball\n",
    "    rod #Observable corresponding to rod\n",
    "    θv #vector [θ,v]\n",
    "    t # current time\n",
    "    dt # time step\n",
    "    #\n",
    "    # The following two things we haven't used yet -- but we will need them for the animation\n",
    "    step  #the stepper for our differential equation solver -- same syntax as rk4step\n",
    "    dxdt  #the derivitive rule -- same syntax as pendulum_dxdt\n",
    "    delay #how long to wait between displaying frames\n",
    "end\n",
    "\n",
    "# Constructor\n",
    "# This is the function that you call to create one of these objects\n",
    "function pendulum_basic(;θv=[pi/4,0.],t=0.,dt=0.01,step=rk4step,dxdt=pendulum_dxdt,delaytime=0.001)\n",
    "    # Extract positions of pendulum\n",
    "    θ,v=θv\n",
    "    x,y=xycoords(θv)\n",
    "    # Make observables\n",
    "    ball= Observable(Point2f(x,y))\n",
    "    rod=Observable([Point2f(0, 0), Point2f(x, y)])\n",
    "    # Make scene\n",
    "    fig = Figure(); display(fig)\n",
    "    ax = Axis(fig[1,1])\n",
    "    scatter!(ax, ball; marker = :circle, strokewidth = 2, \n",
    "        strokecolor = :purple,\n",
    "        color = :black, markersize = 8)\n",
    "    lines!(ax, rod; linewidth = 4, color = :purple)\n",
    "    ax.title = \"pendulum\"\n",
    "    ax.aspect = DataAspect() # Set aspect ratio\n",
    "    xlims!(ax, -1.05, 1.05)\n",
    "    ylims!(ax, -1.05, 1.05)\n",
    "    # Set up interactive\n",
    "    Makie.deactivate_interaction!(ax, :rectanglezoom)\n",
    "    #Create object\n",
    "    pendulum_basic(fig,ax,ball,rod,θv,t,dt,step,dxdt,delaytime)\n",
    "end\n",
    "\n",
    "function setangle!(p::abstractpendulum,θv)\n",
    "    p.θv=θv\n",
    "    x,y=xycoords(θv)\n",
    "    p.rod[] = [Point2f(0, 0), Point2f(x, y)]\n",
    "    p.ball[] = Point2f(x, y)\n",
    "    p\n",
    "end"
   ]
  },
  {
   "cell_type": "code",
   "execution_count": 10,
   "id": "0f845f63-fc21-40d5-b98f-1c5aa2d89945",
   "metadata": {},
   "outputs": [
    {
     "data": {
      "text/plain": [
       "pendulum_basic(Scene(1 children, 0 plots), Axis (2 plots), Observable(Float32[0.70710677, -0.70710677]), Observable(Point{2, Float32}[[0.0, 0.0], [0.70710677, -0.70710677]]), [0.7853981633974483, 0.0], 0.0, 0.01, rk4step, pendulum_dxdt, 0.001)"
      ]
     },
     "execution_count": 10,
     "metadata": {},
     "output_type": "execute_result"
    }
   ],
   "source": [
    "p2=pendulum_basic()"
   ]
  },
  {
   "cell_type": "code",
   "execution_count": 11,
   "id": "78713e79-e7fa-41c5-84e4-182b6e3c653d",
   "metadata": {},
   "outputs": [
    {
     "data": {
      "text/plain": [
       "pendulum_basic(Scene(1 children, 0 plots), Axis (2 plots), Observable(Float32[0.099833414, -0.9950042]), Observable(Point{2, Float32}[[0.0, 0.0], [0.099833414, -0.9950042]]), [0.1, 0.3], 0.0, 0.01, rk4step, pendulum_dxdt, 0.001)"
      ]
     },
     "execution_count": 11,
     "metadata": {},
     "output_type": "execute_result"
    }
   ],
   "source": [
    "setangle!(p2,[0.1,0.3])"
   ]
  },
  {
   "cell_type": "markdown",
   "id": "cc0028fe-8733-4665-ae50-605e5fbb5c5f",
   "metadata": {},
   "source": [
    "We can now make a function which steps the pendulum one timestep"
   ]
  },
  {
   "cell_type": "code",
   "execution_count": 12,
   "id": "adedc48a-ff2c-4b7c-a435-bff916124b9d",
   "metadata": {},
   "outputs": [
    {
     "data": {
      "text/plain": [
       "step! (generic function with 1 method)"
      ]
     },
     "execution_count": 12,
     "metadata": {},
     "output_type": "execute_result"
    }
   ],
   "source": [
    "function step!(p::abstractpendulum)\n",
    "    θv=p.step(p.θv,p.dxdt,p.t,p.dt)\n",
    "    setangle!(p,θv)\n",
    "    p.t+=p.dt\n",
    "end"
   ]
  },
  {
   "cell_type": "code",
   "execution_count": 14,
   "id": "1117ffb8-4cbe-4f43-b436-5a4d8ae2d4f2",
   "metadata": {},
   "outputs": [],
   "source": [
    "for i in 1:1000\n",
    "    step!(p2)\n",
    "    sleep(p2.delay)\n",
    "end"
   ]
  },
  {
   "cell_type": "markdown",
   "id": "02ce97b5-dd84-4f72-b1e3-dc2a4ba770a5",
   "metadata": {},
   "source": [
    "One fun thing would be to be able to drag around the pendulum.  `GLMakie` has the ability to watch for mouse clicks.   "
   ]
  },
  {
   "cell_type": "code",
   "execution_count": 15,
   "id": "dd625414-55e2-42ef-bf7b-822e371cb959",
   "metadata": {},
   "outputs": [
    {
     "data": {
      "text/plain": [
       "ObserverFunction defined at In[15]:9 operating on Observable(Float32[0.0, 0.0])"
      ]
     },
     "execution_count": 15,
     "metadata": {},
     "output_type": "execute_result"
    }
   ],
   "source": [
    "spoint = select_point(p2.ax.scene, marker = :circle)\n",
    "\n",
    "function θvcoords(x, y)\n",
    "    θ = atan(y,x) + π/2\n",
    "    return [θ,0]\n",
    "end\n",
    "\n",
    "on(spoint) do z\n",
    "    x, y = z\n",
    "    θv = θvcoords(x, y)\n",
    "    setangle!(p2,θv)\n",
    "end"
   ]
  },
  {
   "cell_type": "code",
   "execution_count": 16,
   "id": "29c6501b-525c-4483-9015-07aa5343282f",
   "metadata": {},
   "outputs": [],
   "source": [
    "for i in 1:1000\n",
    "    step!(p2)\n",
    "    sleep(p2.delay)\n",
    "end"
   ]
  },
  {
   "cell_type": "markdown",
   "id": "a11224f0-70f7-431e-8683-b0c719be6f26",
   "metadata": {},
   "source": [
    "That is fun.  Lets update our pendulum constructor so that the object will automatically have that ability."
   ]
  },
  {
   "cell_type": "code",
   "execution_count": 17,
   "id": "0319822e-9b9f-4fc7-974c-9b60fc868439",
   "metadata": {},
   "outputs": [
    {
     "data": {
      "text/plain": [
       "pendulum_basic"
      ]
     },
     "execution_count": 17,
     "metadata": {},
     "output_type": "execute_result"
    }
   ],
   "source": [
    "function pendulum_basic(;θv=[pi/4,0.],t=0,dt=0.01,step=rk4step,dxdt=pendulum_dxdt,delaytime=0.001)\n",
    "    # Extract positions of pendulum\n",
    "    θ,v=θv\n",
    "    x,y=xycoords(θv)\n",
    "    # Make observables\n",
    "    ball= Observable(Point2f(x,y))\n",
    "    rod=Observable([Point2f(0, 0), Point2f(x, y)])\n",
    "    # Make scene\n",
    "    fig = Figure(); display(fig)\n",
    "    ax = Axis(fig[1,1])\n",
    "    scatter!(ax, ball; marker = :circle, strokewidth = 2, \n",
    "        strokecolor = :purple,\n",
    "        color = :black, markersize = 8)\n",
    "    lines!(ax, rod; linewidth = 4, color = :purple)\n",
    "    ax.title = \"pendulum\"\n",
    "    ax.aspect = DataAspect() # Set aspect ratio\n",
    "    xlims!(ax, -1.05, 1.05)\n",
    "    ylims!(ax, -1.05, 1.05)\n",
    "    #Create object\n",
    "    p=pendulum_basic(fig,ax,ball,rod,θv,t,dt,step,dxdt,delaytime) \n",
    "    #\n",
    "    # New lines\n",
    "    # Set up interactive\n",
    "    #\n",
    "    Makie.deactivate_interaction!(ax, :rectanglezoom)\n",
    "    spoint = select_point(ax.scene, marker = :circle)\n",
    "    on(spoint) do z\n",
    "        x, y = z\n",
    "        θv = θvcoords(x, y)\n",
    "        setangle!(p,θv)\n",
    "    end\n",
    "    return p\n",
    "end"
   ]
  },
  {
   "cell_type": "code",
   "execution_count": 18,
   "id": "12845017-7956-4d8a-8087-535438cbbeb8",
   "metadata": {},
   "outputs": [
    {
     "data": {
      "text/plain": [
       "pendulum_basic(Scene(1 children, 0 plots), Axis (3 plots), Observable(Float32[0.70710677, -0.70710677]), Observable(Point{2, Float32}[[0.0, 0.0], [0.70710677, -0.70710677]]), [0.7853981633974483, 0.0], 0, 0.01, rk4step, pendulum_dxdt, 0.001)"
      ]
     },
     "execution_count": 18,
     "metadata": {},
     "output_type": "execute_result"
    }
   ],
   "source": [
    "p1=pendulum_basic()"
   ]
  },
  {
   "cell_type": "code",
   "execution_count": 19,
   "id": "d6f23cc4-7545-446f-9d6b-ada3d853d6db",
   "metadata": {},
   "outputs": [],
   "source": [
    "for i in 1:1000\n",
    "    step!(p1)\n",
    "    sleep(p1.delay)\n",
    "end"
   ]
  },
  {
   "cell_type": "markdown",
   "id": "8b6457f5-0bca-4fe2-aa9b-5c3677d09a7a",
   "metadata": {},
   "source": [
    "Now what we need to do is make a \"run\" button.  That toggles the simulation on and off"
   ]
  },
  {
   "cell_type": "code",
   "execution_count": 21,
   "id": "d6e5b444-75ad-42c4-a257-266463c523f7",
   "metadata": {},
   "outputs": [
    {
     "data": {
      "text/plain": [
       "ObserverFunction defined at In[21]:11 operating on Observable{Any}(0)"
      ]
     },
     "execution_count": 21,
     "metadata": {},
     "output_type": "execute_result"
    }
   ],
   "source": [
    "isrunning = Observable(false)\n",
    "function runlabel(condition)\n",
    "        if condition\n",
    "        \"Stop\"\n",
    "    else\n",
    "        \"Run\"\n",
    "    end\n",
    "end\n",
    "label = @lift runlabel($isrunning)\n",
    "run = Button(p1.fig[2,1]; label = label, tellwidth = false)\n",
    "on(run.clicks) do clicks\n",
    "    isrunning[] = !isrunning[] \n",
    "end"
   ]
  },
  {
   "cell_type": "code",
   "execution_count": 32,
   "id": "4749b86d-e820-4526-a74e-7a29efb00a51",
   "metadata": {},
   "outputs": [
    {
     "data": {
      "text/plain": [
       "ObserverFunction defined at In[32]:4 operating on Observable{Any}(0)"
      ]
     },
     "execution_count": 32,
     "metadata": {},
     "output_type": "execute_result"
    }
   ],
   "source": [
    "# Here is a more compact version -- which is a bit less readible\n",
    "#\n",
    "#isrunning = Observable(false)\n",
    "#label = map(cond -> cond ? \"Stop\" : \"Run\", isrunning)\n",
    "#run = Button(p1.fig[2,1]; label = label, tellwidth = false)\n",
    "#on(run.clicks) do clicks; isrunning[] = !isrunning[]; end"
   ]
  },
  {
   "cell_type": "markdown",
   "id": "468554bf-ce1b-4114-b7a0-760d69704d40",
   "metadata": {},
   "source": [
    "Now lets hook into that observable"
   ]
  },
  {
   "cell_type": "code",
   "execution_count": 23,
   "id": "7b8c06b0-f6f8-4915-baa8-56859f77e764",
   "metadata": {},
   "outputs": [
    {
     "data": {
      "text/plain": [
       "Task (runnable) @0x0000000309950970"
      ]
     },
     "execution_count": 23,
     "metadata": {},
     "output_type": "execute_result"
    }
   ],
   "source": [
    "isrunning_notifier = Condition()\n",
    "on(cond -> cond && notify(isrunning_notifier), isrunning)\n",
    "errormonitor(@async while true\n",
    "    if isrunning[]\n",
    "        isopen(p1.fig.scene) || break # ensures computations stop if closed window\n",
    "        step!(p1)\n",
    "        sleep(p1.delay) # or `yield()` instead\n",
    "    else\n",
    "        wait(isrunning_notifier)\n",
    "    end\n",
    "end)"
   ]
  },
  {
   "cell_type": "markdown",
   "id": "c0dfafb0-f3b6-4d87-90ef-418aa7008d47",
   "metadata": {},
   "source": [
    "Now lets add that ability to the object -- and also copy all of the definitions to one place.  This one cell is self-contained, you should be able to run it without any of the rest of the notebook.  We need to add new attributes to the object, so we need to rename it."
   ]
  },
  {
   "cell_type": "code",
   "execution_count": 24,
   "id": "78ddeda9-e1e2-450b-811a-e2d6a955aa58",
   "metadata": {},
   "outputs": [
    {
     "data": {
      "text/plain": [
       "startsim (generic function with 1 method)"
      ]
     },
     "execution_count": 24,
     "metadata": {},
     "output_type": "execute_result"
    }
   ],
   "source": [
    "using GLMakie\n",
    "\n",
    "function pendulum_dxdt(x,t)\n",
    "    (theta,v)=x\n",
    "    return [v,-sin(theta)]\n",
    "end\n",
    "\n",
    "function rk4step(x,dxdt,t,deltat)\n",
    "    k1=dxdt(x,t)\n",
    "    k2=dxdt(x+k1*(deltat/2),t+deltat/2)\n",
    "    k3=dxdt(x+k2*(deltat/2),t+deltat/2)\n",
    "    k4=dxdt(x+k3*deltat,t+deltat)\n",
    "    return x+(k1+2*k2+2*k3+k4)*(deltat/6)\n",
    "end\n",
    "\n",
    "rk4step(;x,dxdt,t,deltat)=rk4step(x,dxdt,t,deltat)\n",
    "\n",
    "function xycoords(θv)\n",
    "    θ,v=θv\n",
    "    return (sin(θ),-cos(θ))\n",
    "end\n",
    "\n",
    "function θvcoords(x, y)\n",
    "    θ = atan(y,x) + π/2\n",
    "    return [θ,0]\n",
    "end\n",
    "\n",
    "abstract type abstractpendulum end\n",
    "\n",
    "function step!(p::abstractpendulum)\n",
    "    θv=p.step(p.θv,p.dxdt,p.t,p.dt)\n",
    "    setangle!(p,θv)\n",
    "    p.t+=p.dt\n",
    "end\n",
    "\n",
    "function setangle!(p::abstractpendulum,θv)\n",
    "    p.θv=θv\n",
    "    x,y=xycoords(θv)\n",
    "    p.rod[] = [Point2f(0, 0), Point2f(x, y)]\n",
    "    p.ball[] = Point2f(x, y)\n",
    "    p\n",
    "end\n",
    "\n",
    "mutable struct pendulum <:abstractpendulum\n",
    "    fig #Makie figure object\n",
    "    ax  #Makie axis object\n",
    "    ball #Observable corresponding to ball\n",
    "    rod #Observable corresponding to rod\n",
    "    θv #vector [θ,v]\n",
    "    t\n",
    "    dt\n",
    "    step  #the stepper for our differential equation solver -- same syntax as rk4step\n",
    "    dxdt  #the derivitive rule -- same systax as pendulum_dxdt\n",
    "    delay #how long to wait between displaying frames\n",
    "    #\n",
    "    # New lines\n",
    "    run #button\n",
    "    isrunning #is the simulation running?\n",
    "end\n",
    "\n",
    "# constructor\n",
    "function pendulum(;θv=[pi/4,0.],t=0.,dt=0.01,step=rk4step,dxdt=pendulum_dxdt,delaytime=0.001)\n",
    "    # Extract positions of pendulum\n",
    "    θ,v=θv\n",
    "    x,y=xycoords(θv)\n",
    "    # Make observables\n",
    "    ball= Observable(Point2f(x,y))\n",
    "    rod=Observable([Point2f(0, 0), Point2f(x, y)])\n",
    "    # Make scene\n",
    "    fig,ax=newscene(ball,rod)\n",
    "    # run button\n",
    "    run,isrunning=makebutton(fig)\n",
    "    #Create object\n",
    "    p=pendulum(fig,ax,ball,rod,θv,t,dt,step,dxdt,delaytime,run,isrunning)\n",
    "    # Set up interactive\n",
    "    clicktomove(p)\n",
    "    startsim(p)   \n",
    "    return p\n",
    "end\n",
    "\n",
    "function newscene(ball,rod)\n",
    "    fig = Figure(); display(fig)\n",
    "    ax = Axis(fig[1,1])\n",
    "    scatter!(ax, ball; marker = :circle, strokewidth = 2, \n",
    "        strokecolor = :purple,\n",
    "        color = :black, markersize = 8)\n",
    "    lines!(ax, rod; linewidth = 4, color = :purple)\n",
    "    ax.title = \"pendulum\"\n",
    "    ax.aspect = DataAspect() # Set aspect ratio\n",
    "    xlims!(ax, -1.05, 1.05)\n",
    "    ylims!(ax, -1.05, 1.05)\n",
    "    return fig,ax\n",
    "end\n",
    "\n",
    "function makebutton(fig)\n",
    "    isrunning = Observable(false)\n",
    "    label = map(cond -> cond ? \"Stop\" : \"Run\", isrunning)\n",
    "    run = Button(fig[2,1]; label = label, tellwidth = false)\n",
    "    on(run.clicks) do clicks; isrunning[] = !isrunning[]; end\n",
    "    return run,isrunning\n",
    "end\n",
    "\n",
    "function clicktomove(p::abstractpendulum)\n",
    "    ax=p.ax\n",
    "    Makie.deactivate_interaction!(ax, :rectanglezoom)\n",
    "    spoint = select_point(ax.scene, marker = :circle)\n",
    "    on(spoint) do z\n",
    "        x, y = z\n",
    "        θv = θvcoords(x, y)\n",
    "        setangle!(p,θv)\n",
    "    end\n",
    "end\n",
    "    \n",
    "function startsim(p::abstractpendulum)\n",
    "    isrunning_notifier = Condition()\n",
    "    on(cond -> cond && notify(isrunning_notifier), p.isrunning)\n",
    "        errormonitor(@async while true\n",
    "        if p.isrunning[]\n",
    "            isopen(p.fig.scene) || break # ensures computations stop if closed window\n",
    "            step!(p)\n",
    "            sleep(p.delay) # or `yield()` instead\n",
    "        else\n",
    "            wait(isrunning_notifier)\n",
    "        end\n",
    "    end)\n",
    "end"
   ]
  },
  {
   "cell_type": "code",
   "execution_count": 32,
   "id": "cab9b205-cd5d-453a-a043-74ba316ff449",
   "metadata": {},
   "outputs": [
    {
     "data": {
      "text/plain": [
       "pendulum(Scene(2 children, 0 plots), Axis (3 plots), Observable(Float32[0.70710677, -0.70710677]), Observable(Point{2, Float32}[[0.0, 0.0], [0.70710677, -0.70710677]]), [0.7853981633974483, 0.0], 0.0, 0.01, rk4step, pendulum_dxdt, 0.001, Button(), Observable(false))"
      ]
     },
     "execution_count": 32,
     "metadata": {},
     "output_type": "execute_result"
    }
   ],
   "source": [
    "p3=pendulum()"
   ]
  },
  {
   "cell_type": "markdown",
   "id": "cdecbca7-f1ec-4b79-8e9e-97fb036b2cd5",
   "metadata": {},
   "source": [
    "## Adding trails"
   ]
  },
  {
   "cell_type": "markdown",
   "id": "36f5827e-5fad-4da4-b7b5-0e6855999ed0",
   "metadata": {},
   "source": [
    "Now this is just eye candy"
   ]
  },
  {
   "cell_type": "code",
   "execution_count": 26,
   "id": "607a92fc-c0a8-4895-9694-f988e25e22ec",
   "metadata": {},
   "outputs": [],
   "source": [
    "using DataStructures: CircularBuffer"
   ]
  },
  {
   "cell_type": "markdown",
   "id": "bb3fe181-6645-4954-b14d-05244c86ef40",
   "metadata": {},
   "source": [
    "A circular buffer is a data type which is like a list or vector -- but when add elements on the end it pushes them off the other"
   ]
  },
  {
   "cell_type": "code",
   "execution_count": 27,
   "id": "42ebc471-ddee-40e9-a260-152cfe1146e2",
   "metadata": {},
   "outputs": [
    {
     "data": {
      "text/plain": [
       "3-element CircularBuffer{Float64}:\n",
       " 1.0\n",
       " 1.0\n",
       " 1.0"
      ]
     },
     "execution_count": 27,
     "metadata": {},
     "output_type": "execute_result"
    }
   ],
   "source": [
    "cb=CircularBuffer{typeof(1.)}(3)\n",
    "fill!(cb,1.)"
   ]
  },
  {
   "cell_type": "code",
   "execution_count": 28,
   "id": "ca90400d-5a49-42ad-8470-7d1049ba051b",
   "metadata": {},
   "outputs": [
    {
     "data": {
      "text/plain": [
       "3-element CircularBuffer{Float64}:\n",
       " 1.0\n",
       " 1.0\n",
       " 2.0"
      ]
     },
     "execution_count": 28,
     "metadata": {},
     "output_type": "execute_result"
    }
   ],
   "source": [
    "push!(cb,2.)"
   ]
  },
  {
   "cell_type": "code",
   "execution_count": 29,
   "id": "0cabb9ba-d1c9-42b5-9db7-c0f417d34a95",
   "metadata": {},
   "outputs": [
    {
     "data": {
      "text/plain": [
       "3-element CircularBuffer{Float64}:\n",
       " 1.0\n",
       " 2.0\n",
       " 3.0"
      ]
     },
     "execution_count": 29,
     "metadata": {},
     "output_type": "execute_result"
    }
   ],
   "source": [
    "push!(cb,3.)"
   ]
  },
  {
   "cell_type": "code",
   "execution_count": 30,
   "id": "1a81b303-8639-48f4-ae94-d3cd3f1ade3d",
   "metadata": {},
   "outputs": [
    {
     "data": {
      "text/plain": [
       "3-element CircularBuffer{Float64}:\n",
       " 2.0\n",
       " 3.0\n",
       " 4.0"
      ]
     },
     "execution_count": 30,
     "metadata": {},
     "output_type": "execute_result"
    }
   ],
   "source": [
    "push!(cb,4.)"
   ]
  },
  {
   "cell_type": "markdown",
   "id": "c36c30f1-569c-46e0-9883-ca8a87f44ff8",
   "metadata": {},
   "source": [
    "Make a circular buffer which will store the past locations of the pendulum bob."
   ]
  },
  {
   "cell_type": "code",
   "execution_count": 31,
   "id": "550561c9-6473-4c55-a5f3-af62b1511acd",
   "metadata": {},
   "outputs": [],
   "source": [
    "tail = 300\n",
    "traj = CircularBuffer{Point2f}(tail)\n",
    "x,y=xycoords(p3.θv)\n",
    "fill!(traj, Point2f(x, y))\n",
    "traj = Observable(traj); # make it an \"Observable\" -- meaning GLMakie will update the graph if it is changed"
   ]
  },
  {
   "cell_type": "markdown",
   "id": "af26a3b3-d017-48f4-83eb-966a68d46f8f",
   "metadata": {},
   "source": [
    "Make a list of colors which will fade from white to purple.  Then add the trail to the plot"
   ]
  },
  {
   "cell_type": "code",
   "execution_count": 33,
   "id": "8ff7cd20-5e86-4632-a254-271539a1cb7c",
   "metadata": {},
   "outputs": [
    {
     "data": {
      "text/plain": [
       "Lines{Tuple{CircularBuffer{Point{2, Float32}}}}"
      ]
     },
     "execution_count": 33,
     "metadata": {},
     "output_type": "execute_result"
    }
   ],
   "source": [
    "c = to_color(:purple)\n",
    "tailcol = [RGBAf(c.r, c.g, c.b, (i/tail)^2) for i in 1:tail]\n",
    "lines!(p3.ax, traj; linewidth = 3, color = tailcol)"
   ]
  },
  {
   "cell_type": "markdown",
   "id": "b865637b-020b-49a8-baf8-c85152103d31",
   "metadata": {},
   "source": [
    "Now lets upgrade the setangle command so that it also updates the trail"
   ]
  },
  {
   "cell_type": "code",
   "execution_count": 34,
   "id": "a7916215-ff15-4cbe-90e7-8e7bbe4ac14a",
   "metadata": {},
   "outputs": [
    {
     "data": {
      "text/plain": [
       "setangle! (generic function with 2 methods)"
      ]
     },
     "execution_count": 34,
     "metadata": {},
     "output_type": "execute_result"
    }
   ],
   "source": [
    "function setangle!(p::abstractpendulum,θv)\n",
    "    p.θv=θv\n",
    "    x,y=xycoords(θv)\n",
    "    p.rod[] = [Point2f(0, 0), Point2f(x, y)]\n",
    "    p.ball[] = Point2f(x, y)\n",
    "    push!(traj[], Point2f(x, y))\n",
    "    notify(traj) # needed to tell GLMakie that we updated traj -- push! doesn't send that signal\n",
    "    p\n",
    "end"
   ]
  },
  {
   "cell_type": "code",
   "execution_count": 35,
   "id": "28d8cb30-3f56-44ef-a6bb-9dba755df9ef",
   "metadata": {},
   "outputs": [],
   "source": [
    "for i in 1:500\n",
    "    step!(p3)\n",
    "    sleep(p3.delay)\n",
    "end"
   ]
  },
  {
   "cell_type": "markdown",
   "id": "b184460e-61d3-4a62-966b-e67e97b7fb91",
   "metadata": {},
   "source": [
    "Now lets encapsulate that.  Again, I repeated all of the definitions, so that it is self-contained.  Again we need to rename the object, or restart the kernel, because we need to add attributes."
   ]
  },
  {
   "cell_type": "code",
   "execution_count": 36,
   "id": "8be0167d-701d-419e-a185-79f8b97aaa96",
   "metadata": {},
   "outputs": [
    {
     "data": {
      "text/plain": [
       "startsim (generic function with 1 method)"
      ]
     },
     "execution_count": 36,
     "metadata": {},
     "output_type": "execute_result"
    }
   ],
   "source": [
    "using GLMakie\n",
    "using DataStructures: CircularBuffer\n",
    "\n",
    "function pendulum_dxdt(x,t)\n",
    "    (theta,v)=x\n",
    "    return [v,-sin(theta)]\n",
    "end\n",
    "\n",
    "function rk4step(x,dxdt,t,deltat)\n",
    "    k1=dxdt(x,t)\n",
    "    k2=dxdt(x+k1*(deltat/2),t+deltat/2)\n",
    "    k3=dxdt(x+k2*(deltat/2),t+deltat/2)\n",
    "    k4=dxdt(x+k3*deltat,t+deltat)\n",
    "    return x+(k1+2*k2+2*k3+k4)*(deltat/6)\n",
    "end\n",
    "\n",
    "rk4step(;x,dxdt,t,deltat)=rk4step(x,dxdt,t,deltat)\n",
    "\n",
    "function xycoords(θv)\n",
    "    θ,v=θv\n",
    "    return (sin(θ),-cos(θ))\n",
    "end\n",
    "\n",
    "function θvcoords(x, y)\n",
    "    θ = atan(y,x) + π/2\n",
    "    return [θ,0]\n",
    "end\n",
    "\n",
    "\n",
    "abstract type abstractpendulum end\n",
    "\n",
    "function step!(p::abstractpendulum)\n",
    "    θv=p.step(p.θv,p.dxdt,p.t,p.dt)\n",
    "    setangle!(p,θv)\n",
    "    p.t+=p.dt\n",
    "end\n",
    "\n",
    "mutable struct pendulum_fancy <:abstractpendulum\n",
    "    fig #Makie figure object\n",
    "    ax  #Makie axis object\n",
    "    ball #Observable corresponding to ball\n",
    "    rod #Observable corresponding to rod\n",
    "    traj #Observable corresponding to rod\n",
    "    θv #vector [θ,v]\n",
    "    t #current time\n",
    "    dt #time step\n",
    "    step\n",
    "    dxdt\n",
    "    delay #how long to wait between displaying frames\n",
    "    run #button\n",
    "    isrunning #is the simulation running?\n",
    "end\n",
    "\n",
    "function pendulum_fancy(;θv=[pi/4,0.],t=0.,dt=0.01,step=rk4step,dxdt=pendulum_dxdt,delaytime=0.001,tail=300)\n",
    "    # Extract positions of pendulum\n",
    "    θ,v=θv\n",
    "    x,y=xycoords(θv)\n",
    "    # Make observables\n",
    "    ball= Observable(Point2f(x,y))\n",
    "    rod=Observable([Point2f(0, 0), Point2f(x, y)])\n",
    "    # Make scene\n",
    "    fig,ax=newscene(ball,rod)\n",
    "    # run button\n",
    "    run,isrunning=makebutton(fig)\n",
    "    # Now lets make the trail\n",
    "    traj=maketrail(ax,tail)\n",
    "    #=\n",
    "    traj = CircularBuffer{Point2f}(tail)\n",
    "    fill!(traj, Point2f(x, y))\n",
    "    traj = Observable(traj)\n",
    "    c = to_color(:purple)\n",
    "    tailcol = [RGBAf(c.r, c.g, c.b, (i/tail)^2) for i in 1:tail]\n",
    "    lines!(ax, traj; linewidth = 3, color = tailcol)\n",
    "    =#\n",
    "    #Create object\n",
    "    p=pendulum_fancy(fig,ax,ball,rod,traj,θv,t,dt,step,dxdt,delaytime,run,isrunning)\n",
    "    # Set up interactive\n",
    "    clicktomove(p)\n",
    "    #animation\n",
    "    startsim(p)   \n",
    "    return p\n",
    "end\n",
    "\n",
    "function setangle!(p::pendulum_fancy,θv)\n",
    "    p.θv=θv\n",
    "    x,y=xycoords(θv)\n",
    "    p.rod[] = [Point2f(0, 0), Point2f(x, y)]\n",
    "    p.ball[] = Point2f(x, y)\n",
    "    push!(p.traj[], Point2f(x, y))\n",
    "    notify(p.traj) # needed to tell GLMakie that we updated traj -- push! doesn't send that signal\n",
    "    p\n",
    "end\n",
    "\n",
    "function newscene(ball,rod)\n",
    "    fig = Figure(); display(fig)\n",
    "    ax = Axis(fig[1,1])\n",
    "    scatter!(ax, ball; marker = :circle, strokewidth = 2, \n",
    "        strokecolor = :purple,\n",
    "        color = :black, markersize = 8)\n",
    "    lines!(ax, rod; linewidth = 4, color = :purple)\n",
    "    ax.title = \"pendulum\"\n",
    "    ax.aspect = DataAspect() # Set aspect ratio\n",
    "    xlims!(ax, -1.05, 1.05)\n",
    "    ylims!(ax, -1.05, 1.05)\n",
    "    return fig,ax\n",
    "end\n",
    "\n",
    "function makebutton(fig)\n",
    "    isrunning = Observable(false)\n",
    "    label = map(cond -> cond ? \"Stop\" : \"Run\", isrunning)\n",
    "    run = Button(fig[2,1]; label = label, tellwidth = false)\n",
    "    on(run.clicks) do clicks; isrunning[] = !isrunning[]; end\n",
    "    return run,isrunning\n",
    "end\n",
    "\n",
    "function maketrail(ax,tail)\n",
    "    traj = CircularBuffer{Point2f}(tail)\n",
    "    fill!(traj, Point2f(x, y))\n",
    "    traj = Observable(traj)\n",
    "    c = to_color(:purple)\n",
    "    tailcol = [RGBAf(c.r, c.g, c.b, (i/tail)^2) for i in 1:tail]\n",
    "    lines!(ax, traj; linewidth = 3, color = tailcol)\n",
    "    return traj\n",
    "end\n",
    "\n",
    "function clicktomove(p::abstractpendulum)\n",
    "    ax=p.ax\n",
    "    Makie.deactivate_interaction!(ax, :rectanglezoom)\n",
    "    spoint = select_point(ax.scene, marker = :circle)\n",
    "    on(spoint) do z\n",
    "        x, y = z\n",
    "        θv = θvcoords(x, y)\n",
    "        setangle!(p,θv)\n",
    "    end\n",
    "end\n",
    "\n",
    "function startsim(p::abstractpendulum)\n",
    "    isrunning_notifier = Condition()\n",
    "    on(cond -> cond && notify(isrunning_notifier), p.isrunning)\n",
    "        errormonitor(@async while true\n",
    "        if p.isrunning[]\n",
    "            isopen(p.fig.scene) || break # ensures computations stop if closed window\n",
    "            step!(p)\n",
    "            sleep(p.delay) # or `yield()` instead\n",
    "        else\n",
    "            wait(isrunning_notifier)\n",
    "        end\n",
    "    end)\n",
    "end"
   ]
  },
  {
   "cell_type": "code",
   "execution_count": 37,
   "id": "3336aafb-0173-4a34-9ec5-70d701ff075b",
   "metadata": {},
   "outputs": [
    {
     "data": {
      "text/plain": [
       "pendulum_fancy(Scene(2 children, 0 plots), Axis (4 plots), Observable(Float32[0.70710677, -0.70710677]), Observable(Point{2, Float32}[[0.0, 0.0], [0.70710677, -0.70710677]]), Observable(Point{2, Float32}[[0.98083204, -0.19485499], [0.98083204, -0.19485499], [0.98083204, -0.19485499], [0.98083204, -0.19485499], [0.98083204, -0.19485499], [0.98083204, -0.19485499], [0.98083204, -0.19485499], [0.98083204, -0.19485499], [0.98083204, -0.19485499], [0.98083204, -0.19485499]  …  [0.98083204, -0.19485499], [0.98083204, -0.19485499], [0.98083204, -0.19485499], [0.98083204, -0.19485499], [0.98083204, -0.19485499], [0.98083204, -0.19485499], [0.98083204, -0.19485499], [0.98083204, -0.19485499], [0.98083204, -0.19485499], [0.98083204, -0.19485499]]), [0.7853981633974483, 0.0], 0.0, 0.01, rk4step, pendulum_dxdt, 0.001, Button(), Observable(false))"
      ]
     },
     "execution_count": 37,
     "metadata": {},
     "output_type": "execute_result"
    }
   ],
   "source": [
    "p4=pendulum_fancy()"
   ]
  },
  {
   "cell_type": "code",
   "execution_count": null,
   "id": "116e89c6-c697-41f8-8265-aed093db32fa",
   "metadata": {},
   "outputs": [],
   "source": []
  }
 ],
 "metadata": {
  "kernelspec": {
   "display_name": "Julia 1.10.4",
   "language": "julia",
   "name": "julia-1.10"
  },
  "language_info": {
   "file_extension": ".jl",
   "mimetype": "application/julia",
   "name": "julia",
   "version": "1.10.4"
  }
 },
 "nbformat": 4,
 "nbformat_minor": 5
}
