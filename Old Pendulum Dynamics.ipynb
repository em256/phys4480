{
 "cells": [
  {
   "cell_type": "code",
   "execution_count": null,
   "id": "def37310-92f7-4d73-9eb9-8579be54a320",
   "metadata": {},
   "outputs": [],
   "source": [
    "function eulerstep(x,dxdt,t,deltat)\n",
    "    return x.+deltat.*dxdt(x,t)\n",
    "end\n",
    "\n",
    "eulerstep(;x,dxdt,t,deltat)=eulerstep(x,dxdt,t,deltat)\n",
    "\n",
    "function pendulum_dxdt(x,t)\n",
    "    (theta,v)=x\n",
    "    return (v,-sin(theta))\n",
    "end"
   ]
  },
  {
   "cell_type": "code",
   "execution_count": 7,
   "id": "715106d5-dd16-4139-858a-8453e0ccedbe",
   "metadata": {},
   "outputs": [
    {
     "data": {
      "text/plain": [
       "2-element Vector{Tuple{Int64, Int64}}:\n",
       " (1, 2)\n",
       " (3, 4)"
      ]
     },
     "execution_count": 7,
     "metadata": {},
     "output_type": "execute_result"
    }
   ],
   "source": [
    "collect(((1,2),(3,4)))"
   ]
  },
  {
   "cell_type": "code",
   "execution_count": null,
   "id": "925c44b4-3ed1-4c95-adf0-405477b37b2e",
   "metadata": {},
   "outputs": [],
   "source": []
  },
  {
   "cell_type": "code",
   "execution_count": 60,
   "id": "c42b3889-a0c1-4f1a-b249-1e447eb56db5",
   "metadata": {
    "collapsed": true,
    "jupyter": {
     "outputs_hidden": true
    }
   },
   "outputs": [
    {
     "data": {
      "text/plain": [
       "evolve (generic function with 2 methods)"
      ]
     },
     "execution_count": 60,
     "metadata": {},
     "output_type": "execute_result"
    }
   ],
   "source": [
    "function evolve(x0,dxdt,timerange,stepper=eulerstep)\n",
    "    ti,tf,dt=timerange\n",
    "    numsteps=floor(Int,(tf-ti)/dt)\n",
    "    result=Array{typeof(x0)}(undef,numsteps+1)\n",
    "    x=x0\n",
    "    result[1]=x\n",
    "    t=ti\n",
    "    for j in 1:numsteps\n",
    "        x=stepper(x=x,dxdt=dxdt,t=t,deltat=dt)\n",
    "        result[j+1]=x\n",
    "        t+=dt\n",
    "    end\n",
    "    return result\n",
    "end"
   ]
  },
  {
   "cell_type": "code",
   "execution_count": null,
   "id": "cf846ee3-5a5c-47c3-ae7b-db00df721b06",
   "metadata": {},
   "outputs": [],
   "source": [
    "function rk2step(x,dxdt,t,deltat)\n",
    "    k1=dxdt(x,t)\n",
    "    k2=dxdt(x.+k1.*(deltat/2),t+deltat/2)\n",
    "    return x.+k2.*deltat\n",
    "end\n",
    "\n",
    "rk2step(;x,dxdt,t,deltat)=rk2step(x,dxdt,t,deltat)"
   ]
  },
  {
   "cell_type": "code",
   "execution_count": null,
   "id": "b110473e-f40c-4ddd-8c01-f2327815ac92",
   "metadata": {},
   "outputs": [],
   "source": [
    "function rk4step(x,dxdt,t,deltat)\n",
    "    k1=dxdt(x,t)\n",
    "    k2=dxdt(x.+k1.*(deltat/2),t+deltat/2)\n",
    "    k3=dxdt(x.+k2.*(deltat/2),t+deltat/2)\n",
    "    k4=dxdt(x.+k3.*deltat,t+deltat)\n",
    "    return x.+(k1+2 .*k2+2 .*k3+k4).*(deltat/6)\n",
    "end\n",
    "\n",
    "rk4step(;x,dxdt,t,deltat)=rk2step(x,dxdt,t,deltat)"
   ]
  }
 ],
 "metadata": {
  "kernelspec": {
   "display_name": "Julia 1.9.1",
   "language": "julia",
   "name": "julia-1.9"
  },
  "language_info": {
   "file_extension": ".jl",
   "mimetype": "application/julia",
   "name": "julia",
   "version": "1.9.1"
  }
 },
 "nbformat": 4,
 "nbformat_minor": 5
}
