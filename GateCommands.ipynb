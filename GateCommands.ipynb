{
 "cells": [
  {
   "cell_type": "markdown",
   "id": "b8c46004-b9ef-431d-8059-af66dbd6279d",
   "metadata": {},
   "source": [
    "# Neural Networks"
   ]
  },
  {
   "cell_type": "markdown",
   "id": "ad768d01-9304-4b04-bd04-424499355e3b",
   "metadata": {},
   "source": [
    "By now you should be aware of the \"Machine Learning\" revolution.  We have chatbots which can answer questions in legible prose.  Computer art generators take a prompt, and draw a fantastical picture which matches it.  There has been a lot of interest in finding ways to apply this technology in Physics.  So far we have not found very many good physics uses for this tool, but it is something which should be in your toolbelt."
   ]
  },
  {
   "cell_type": "markdown",
   "id": "c59312c6-6e66-4acb-900f-346dd313a5b5",
   "metadata": {},
   "source": [
    "One key tool in Machine Learning is the Neural Network.  Functionally, a Neural Network is a highly parameterized function.  It has $N$ inputs, $M$ outputs, and a large number of parameters.  We have tools which allow us to tune these parameters so that the Neural Network can mimic any other function with $N$ inputs and $M$ outputs.  "
   ]
  },
  {
   "cell_type": "markdown",
   "id": "fb9689b1-9006-4502-b0f2-83a85110d28f",
   "metadata": {},
   "source": [
    "As a concrete example, think of the text generating component of a chatbot.  Typically it will takes as input the previous few words in the text, and gives the next word as output.  The parameters are chosen so that it tries to match examples of text that it was trained with."
   ]
  },
  {
   "cell_type": "markdown",
   "id": "ff5db732-9cc1-4057-a81f-4178155ae9b4",
   "metadata": {},
   "source": [
    "Here is a illustrative figure from [a blog post](https://bansalh944.medium.com/text-generation-using-lstm-b6ced8629b03)\n",
    "<img src=\"https://miro.medium.com/v2/resize:fit:1400/format:webp/1*phpgEszN4Q6n_Rtd24zpGw.png\">"
   ]
  },
  {
   "cell_type": "markdown",
   "id": "b1657ccb-6f95-405d-aeb4-fd96243d9960",
   "metadata": {},
   "source": [
    "Another example is image recognition.  Input is the pixels of an image.  Output is a label:  \"dog\", \"cat\"...  The parameters are chosen so that it gives the right label for a set of training data."
   ]
  },
  {
   "cell_type": "code",
   "execution_count": null,
   "id": "35d97018-795d-4496-890c-77aefb8c945b",
   "metadata": {},
   "outputs": [],
   "source": []
  },
  {
   "cell_type": "code",
   "execution_count": null,
   "id": "17ecb5c0-511e-4efa-b0c1-cedc12693618",
   "metadata": {},
   "outputs": [],
   "source": []
  },
  {
   "cell_type": "code",
   "execution_count": null,
   "id": "2664636c-5805-47ff-8bb1-b1693211434a",
   "metadata": {},
   "outputs": [],
   "source": []
  },
  {
   "cell_type": "markdown",
   "id": "f2948cf0-e7f6-461a-a274-90f83c5fd709",
   "metadata": {},
   "source": [
    "## Load Packages"
   ]
  },
  {
   "cell_type": "code",
   "execution_count": 1,
   "id": "a512018d-dfb2-485a-ba5a-ef7a79f2e1f1",
   "metadata": {},
   "outputs": [],
   "source": [
    "using Plots"
   ]
  },
  {
   "cell_type": "markdown",
   "id": "b82921ca-47fd-4e46-b662-d2fa941ef800",
   "metadata": {},
   "source": [
    "## Perceptron Layer"
   ]
  },
  {
   "cell_type": "code",
   "execution_count": 2,
   "id": "a008606d-1f3b-4feb-bf14-26525531267e",
   "metadata": {},
   "outputs": [
    {
     "data": {
      "text/plain": [
       "activation(var\"#5#7\"(), var\"#6#8\"())"
      ]
     },
     "execution_count": 2,
     "metadata": {},
     "output_type": "execute_result"
    }
   ],
   "source": [
    "struct activation\n",
    "    f  # f(x)\n",
    "    df # df/dx as a function of f\n",
    "end\n",
    "\n",
    "#examply let f=tanh(x)\n",
    "# then df/dx=1/cosh^2(x)\n",
    "# but 1-tanh^2(x)=cosh^2(x)\n",
    "# so df/dx=1-f^2\n",
    "a_tanh=activation(tanh,f->1-f^2)\n",
    "\n",
    "function f_relu(x)\n",
    "    if x>0\n",
    "        return x\n",
    "    else\n",
    "        return 0\n",
    "    end\n",
    "end\n",
    "\n",
    "function df_relu(f)\n",
    "    if f>0\n",
    "        return 1\n",
    "    else\n",
    "        return 0\n",
    "    end\n",
    "end\n",
    "\n",
    "a_relu=activation(f_relu,df_relu)\n",
    "\n",
    "f_logistic(x)=1/(1+exp(-x))\n",
    "df_logistic(f)=f*(1-f)\n",
    "\n",
    "a_logistic=activation(f_logistic,df_logistic)\n",
    "\n",
    "a_identity=activation(identity,x->1)\n",
    "\n",
    "a_quadratic=activation(x->x^2,f->2*sqrt(f))"
   ]
  },
  {
   "cell_type": "code",
   "execution_count": 3,
   "id": "09aedf38-3cc2-40db-9f92-8b517d851e71",
   "metadata": {},
   "outputs": [
    {
     "data": {
      "text/plain": [
       "showactivation (generic function with 1 method)"
      ]
     },
     "execution_count": 3,
     "metadata": {},
     "output_type": "execute_result"
    }
   ],
   "source": [
    "function showactivation(a::activation,xvals)\n",
    "    fvals=[a.f(x) for x in xvals]\n",
    "    dfvals=[a.df(f) for f in fvals]\n",
    "    plot(xvals,fvals,label=\"f\")\n",
    "    plot!(xvals,dfvals,label=\"df/dx\")\n",
    "end"
   ]
  },
  {
   "cell_type": "code",
   "execution_count": 4,
   "id": "3d8900d5-0d3c-4a8d-8551-fdaad51aaa16",
   "metadata": {},
   "outputs": [
    {
     "data": {
      "image/png": "[encoded data removed]",
      "image/svg+xml": [
       "<?xml version=\"1.0\" encoding=\"utf-8\"?>\n",
       "<svg xmlns=\"http://www.w3.org/2000/svg\" xmlns:xlink=\"http://www.w3.org/1999/xlink\" width=\"600\" height=\"400\" viewBox=\"0 0 2400 1600\">\n",
       "<defs>\n",
       "  <clipPath id=\"clip060\">\n",
       "    <rect x=\"0\" y=\"0\" width=\"2400\" height=\"1600\"/>\n",
       "  </clipPath>\n",
       "</defs>\n",
       "<path clip-path=\"url(#clip060)\" d=\"M0 1600 L2400 1600 L2400 8.88178e-14 L0 8.88178e-14  Z\" fill=\"#ffffff\" fill-rule=\"evenodd\" fill-opacity=\"1\"/>\n",
       "<defs>\n",
       "  <clipPath id=\"clip061\">\n",
       "    <rect x=\"480\" y=\"0\" width=\"1681\" height=\"1600\"/>\n",
       "  </clipPath>\n",
       "</defs>\n",
       "<path clip-path=\"url(#clip060)\" d=\"M186.274 1486.45 L2352.76 1486.45 L2352.76 47.2441 L186.274 47.2441  Z\" fill=\"#ffffff\" fill-rule=\"evenodd\" fill-opacity=\"1\"/>\n",
       "<defs>\n",
       "  <clipPath id=\"clip062\">\n",
       "    <rect x=\"186\" y=\"47\" width=\"2167\" height=\"1440\"/>\n",
       "  </clipPath>\n",
       "</defs>\n",
       "<polyline clip-path=\"url(#clip062)\" style=\"stroke:#000000; stroke-linecap:round; stroke-linejoin:round; stroke-width:2; stroke-opacity:0.1; fill:none\" points=\"247.59,1486.45 247.59,47.2441 \"/>\n",
       "<polyline clip-path=\"url(#clip062)\" style=\"stroke:#000000; stroke-linecap:round; stroke-linejoin:round; stroke-width:2; stroke-opacity:0.1; fill:none\" points=\"758.552,1486.45 758.552,47.2441 \"/>\n",
       "<polyline clip-path=\"url(#clip062)\" style=\"stroke:#000000; stroke-linecap:round; stroke-linejoin:round; stroke-width:2; stroke-opacity:0.1; fill:none\" points=\"1269.51,1486.45 1269.51,47.2441 \"/>\n",
       "<polyline clip-path=\"url(#clip062)\" style=\"stroke:#000000; stroke-linecap:round; stroke-linejoin:round; stroke-width:2; stroke-opacity:0.1; fill:none\" points=\"1780.48,1486.45 1780.48,47.2441 \"/>\n",
       "<polyline clip-path=\"url(#clip062)\" style=\"stroke:#000000; stroke-linecap:round; stroke-linejoin:round; stroke-width:2; stroke-opacity:0.1; fill:none\" points=\"2291.44,1486.45 2291.44,47.2441 \"/>\n",
       "<polyline clip-path=\"url(#clip060)\" style=\"stroke:#000000; stroke-linecap:round; stroke-linejoin:round; stroke-width:4; stroke-opacity:1; fill:none\" points=\"186.274,1486.45 2352.76,1486.45 \"/>\n",
       "<polyline clip-path=\"url(#clip060)\" style=\"stroke:#000000; stroke-linecap:round; stroke-linejoin:round; stroke-width:4; stroke-opacity:1; fill:none\" points=\"247.59,1486.45 247.59,1467.55 \"/>\n",
       "<polyline clip-path=\"url(#clip060)\" style=\"stroke:#000000; stroke-linecap:round; stroke-linejoin:round; stroke-width:4; stroke-opacity:1; fill:none\" points=\"758.552,1486.45 758.552,1467.55 \"/>\n",
       "<polyline clip-path=\"url(#clip060)\" style=\"stroke:#000000; stroke-linecap:round; stroke-linejoin:round; stroke-width:4; stroke-opacity:1; fill:none\" points=\"1269.51,1486.45 1269.51,1467.55 \"/>\n",
       "<polyline clip-path=\"url(#clip060)\" style=\"stroke:#000000; stroke-linecap:round; stroke-linejoin:round; stroke-width:4; stroke-opacity:1; fill:none\" points=\"1780.48,1486.45 1780.48,1467.55 \"/>\n",
       "<polyline clip-path=\"url(#clip060)\" style=\"stroke:#000000; stroke-linecap:round; stroke-linejoin:round; stroke-width:4; stroke-opacity:1; fill:none\" points=\"2291.44,1486.45 2291.44,1467.55 \"/>\n",
       "<path clip-path=\"url(#clip060)\" d=\"M201.652 1532.02 L231.328 1532.02 L231.328 1535.95 L201.652 1535.95 L201.652 1532.02 Z\" fill=\"#000000\" fill-rule=\"nonzero\" fill-opacity=\"1\" /><path clip-path=\"url(#clip060)\" d=\"M242.231 1544.91 L249.87 1544.91 L249.87 1518.55 L241.559 1520.21 L241.559 1515.95 L249.823 1514.29 L254.499 1514.29 L254.499 1544.91 L262.138 1544.91 L262.138 1548.85 L242.231 1548.85 L242.231 1544.91 Z\" fill=\"#000000\" fill-rule=\"nonzero\" fill-opacity=\"1\" /><path clip-path=\"url(#clip060)\" d=\"M281.582 1517.37 Q277.971 1517.37 276.143 1520.93 Q274.337 1524.47 274.337 1531.6 Q274.337 1538.71 276.143 1542.27 Q277.971 1545.82 281.582 1545.82 Q285.217 1545.82 287.022 1542.27 Q288.851 1538.71 288.851 1531.6 Q288.851 1524.47 287.022 1520.93 Q285.217 1517.37 281.582 1517.37 M281.582 1513.66 Q287.393 1513.66 290.448 1518.27 Q293.527 1522.85 293.527 1531.6 Q293.527 1540.33 290.448 1544.94 Q287.393 1549.52 281.582 1549.52 Q275.772 1549.52 272.694 1544.94 Q269.638 1540.33 269.638 1531.6 Q269.638 1522.85 272.694 1518.27 Q275.772 1513.66 281.582 1513.66 Z\" fill=\"#000000\" fill-rule=\"nonzero\" fill-opacity=\"1\" /><path clip-path=\"url(#clip060)\" d=\"M728.194 1532.02 L757.869 1532.02 L757.869 1535.95 L728.194 1535.95 L728.194 1532.02 Z\" fill=\"#000000\" fill-rule=\"nonzero\" fill-opacity=\"1\" /><path clip-path=\"url(#clip060)\" d=\"M768.008 1514.29 L786.365 1514.29 L786.365 1518.22 L772.291 1518.22 L772.291 1526.7 Q773.309 1526.35 774.328 1526.19 Q775.346 1526 776.365 1526 Q782.152 1526 785.531 1529.17 Q788.911 1532.34 788.911 1537.76 Q788.911 1543.34 785.439 1546.44 Q781.966 1549.52 775.647 1549.52 Q773.471 1549.52 771.203 1549.15 Q768.957 1548.78 766.55 1548.04 L766.55 1543.34 Q768.633 1544.47 770.855 1545.03 Q773.078 1545.58 775.554 1545.58 Q779.559 1545.58 781.897 1543.48 Q784.235 1541.37 784.235 1537.76 Q784.235 1534.15 781.897 1532.04 Q779.559 1529.94 775.554 1529.94 Q773.679 1529.94 771.804 1530.35 Q769.953 1530.77 768.008 1531.65 L768.008 1514.29 Z\" fill=\"#000000\" fill-rule=\"nonzero\" fill-opacity=\"1\" /><path clip-path=\"url(#clip060)\" d=\"M1269.51 1517.37 Q1265.9 1517.37 1264.08 1520.93 Q1262.27 1524.47 1262.27 1531.6 Q1262.27 1538.71 1264.08 1542.27 Q1265.9 1545.82 1269.51 1545.82 Q1273.15 1545.82 1274.95 1542.27 Q1276.78 1538.71 1276.78 1531.6 Q1276.78 1524.47 1274.95 1520.93 Q1273.15 1517.37 1269.51 1517.37 M1269.51 1513.66 Q1275.33 1513.66 1278.38 1518.27 Q1281.46 1522.85 1281.46 1531.6 Q1281.46 1540.33 1278.38 1544.94 Q1275.33 1549.52 1269.51 1549.52 Q1263.7 1549.52 1260.63 1544.94 Q1257.57 1540.33 1257.57 1531.6 Q1257.57 1522.85 1260.63 1518.27 Q1263.7 1513.66 1269.51 1513.66 Z\" fill=\"#000000\" fill-rule=\"nonzero\" fill-opacity=\"1\" /><path clip-path=\"url(#clip060)\" d=\"M1770.76 1514.29 L1789.11 1514.29 L1789.11 1518.22 L1775.04 1518.22 L1775.04 1526.7 Q1776.06 1526.35 1777.07 1526.19 Q1778.09 1526 1779.11 1526 Q1784.9 1526 1788.28 1529.17 Q1791.66 1532.34 1791.66 1537.76 Q1791.66 1543.34 1788.19 1546.44 Q1784.71 1549.52 1778.39 1549.52 Q1776.22 1549.52 1773.95 1549.15 Q1771.7 1548.78 1769.3 1548.04 L1769.3 1543.34 Q1771.38 1544.47 1773.6 1545.03 Q1775.82 1545.58 1778.3 1545.58 Q1782.31 1545.58 1784.64 1543.48 Q1786.98 1541.37 1786.98 1537.76 Q1786.98 1534.15 1784.64 1532.04 Q1782.31 1529.94 1778.3 1529.94 Q1776.43 1529.94 1774.55 1530.35 Q1772.7 1530.77 1770.76 1531.65 L1770.76 1514.29 Z\" fill=\"#000000\" fill-rule=\"nonzero\" fill-opacity=\"1\" /><path clip-path=\"url(#clip060)\" d=\"M2266.13 1544.91 L2273.77 1544.91 L2273.77 1518.55 L2265.46 1520.21 L2265.46 1515.95 L2273.72 1514.29 L2278.4 1514.29 L2278.4 1544.91 L2286.04 1544.91 L2286.04 1548.85 L2266.13 1548.85 L2266.13 1544.91 Z\" fill=\"#000000\" fill-rule=\"nonzero\" fill-opacity=\"1\" /><path clip-path=\"url(#clip060)\" d=\"M2305.48 1517.37 Q2301.87 1517.37 2300.04 1520.93 Q2298.23 1524.47 2298.23 1531.6 Q2298.23 1538.71 2300.04 1542.27 Q2301.87 1545.82 2305.48 1545.82 Q2309.11 1545.82 2310.92 1542.27 Q2312.75 1538.71 2312.75 1531.6 Q2312.75 1524.47 2310.92 1520.93 Q2309.11 1517.37 2305.48 1517.37 M2305.48 1513.66 Q2311.29 1513.66 2314.35 1518.27 Q2317.42 1522.85 2317.42 1531.6 Q2317.42 1540.33 2314.35 1544.94 Q2311.29 1549.52 2305.48 1549.52 Q2299.67 1549.52 2296.59 1544.94 Q2293.54 1540.33 2293.54 1531.6 Q2293.54 1522.85 2296.59 1518.27 Q2299.67 1513.66 2305.48 1513.66 Z\" fill=\"#000000\" fill-rule=\"nonzero\" fill-opacity=\"1\" /><polyline clip-path=\"url(#clip062)\" style=\"stroke:#000000; stroke-linecap:round; stroke-linejoin:round; stroke-width:2; stroke-opacity:0.1; fill:none\" points=\"186.274,1445.78 2352.76,1445.78 \"/>\n",
       "<polyline clip-path=\"url(#clip062)\" style=\"stroke:#000000; stroke-linecap:round; stroke-linejoin:round; stroke-width:2; stroke-opacity:0.1; fill:none\" points=\"186.274,1106.31 2352.76,1106.31 \"/>\n",
       "<polyline clip-path=\"url(#clip062)\" style=\"stroke:#000000; stroke-linecap:round; stroke-linejoin:round; stroke-width:2; stroke-opacity:0.1; fill:none\" points=\"186.274,766.846 2352.76,766.846 \"/>\n",
       "<polyline clip-path=\"url(#clip062)\" style=\"stroke:#000000; stroke-linecap:round; stroke-linejoin:round; stroke-width:2; stroke-opacity:0.1; fill:none\" points=\"186.274,427.38 2352.76,427.38 \"/>\n",
       "<polyline clip-path=\"url(#clip062)\" style=\"stroke:#000000; stroke-linecap:round; stroke-linejoin:round; stroke-width:2; stroke-opacity:0.1; fill:none\" points=\"186.274,87.9146 2352.76,87.9146 \"/>\n",
       "<polyline clip-path=\"url(#clip060)\" style=\"stroke:#000000; stroke-linecap:round; stroke-linejoin:round; stroke-width:4; stroke-opacity:1; fill:none\" points=\"186.274,1486.45 186.274,47.2441 \"/>\n",
       "<polyline clip-path=\"url(#clip060)\" style=\"stroke:#000000; stroke-linecap:round; stroke-linejoin:round; stroke-width:4; stroke-opacity:1; fill:none\" points=\"186.274,1445.78 205.172,1445.78 \"/>\n",
       "<polyline clip-path=\"url(#clip060)\" style=\"stroke:#000000; stroke-linecap:round; stroke-linejoin:round; stroke-width:4; stroke-opacity:1; fill:none\" points=\"186.274,1106.31 205.172,1106.31 \"/>\n",
       "<polyline clip-path=\"url(#clip060)\" style=\"stroke:#000000; stroke-linecap:round; stroke-linejoin:round; stroke-width:4; stroke-opacity:1; fill:none\" points=\"186.274,766.846 205.172,766.846 \"/>\n",
       "<polyline clip-path=\"url(#clip060)\" style=\"stroke:#000000; stroke-linecap:round; stroke-linejoin:round; stroke-width:4; stroke-opacity:1; fill:none\" points=\"186.274,427.38 205.172,427.38 \"/>\n",
       "<polyline clip-path=\"url(#clip060)\" style=\"stroke:#000000; stroke-linecap:round; stroke-linejoin:round; stroke-width:4; stroke-opacity:1; fill:none\" points=\"186.274,87.9146 205.172,87.9146 \"/>\n",
       "<path clip-path=\"url(#clip060)\" d=\"M62.9365 1431.58 Q59.3254 1431.58 57.4967 1435.14 Q55.6912 1438.68 55.6912 1445.81 Q55.6912 1452.92 57.4967 1456.48 Q59.3254 1460.02 62.9365 1460.02 Q66.5707 1460.02 68.3763 1456.48 Q70.205 1452.92 70.205 1445.81 Q70.205 1438.68 68.3763 1435.14 Q66.5707 1431.58 62.9365 1431.58 M62.9365 1427.87 Q68.7467 1427.87 71.8022 1432.48 Q74.8809 1437.06 74.8809 1445.81 Q74.8809 1454.54 71.8022 1459.15 Q68.7467 1463.73 62.9365 1463.73 Q57.1264 1463.73 54.0477 1459.15 Q50.9921 1454.54 50.9921 1445.81 Q50.9921 1437.06 54.0477 1432.48 Q57.1264 1427.87 62.9365 1427.87 Z\" fill=\"#000000\" fill-rule=\"nonzero\" fill-opacity=\"1\" /><path clip-path=\"url(#clip060)\" d=\"M83.0984 1457.18 L87.9827 1457.18 L87.9827 1463.06 L83.0984 1463.06 L83.0984 1457.18 Z\" fill=\"#000000\" fill-rule=\"nonzero\" fill-opacity=\"1\" /><path clip-path=\"url(#clip060)\" d=\"M108.168 1431.58 Q104.557 1431.58 102.728 1435.14 Q100.922 1438.68 100.922 1445.81 Q100.922 1452.92 102.728 1456.48 Q104.557 1460.02 108.168 1460.02 Q111.802 1460.02 113.608 1456.48 Q115.436 1452.92 115.436 1445.81 Q115.436 1438.68 113.608 1435.14 Q111.802 1431.58 108.168 1431.58 M108.168 1427.87 Q113.978 1427.87 117.033 1432.48 Q120.112 1437.06 120.112 1445.81 Q120.112 1454.54 117.033 1459.15 Q113.978 1463.73 108.168 1463.73 Q102.358 1463.73 99.2789 1459.15 Q96.2234 1454.54 96.2234 1445.81 Q96.2234 1437.06 99.2789 1432.48 Q102.358 1427.87 108.168 1427.87 Z\" fill=\"#000000\" fill-rule=\"nonzero\" fill-opacity=\"1\" /><path clip-path=\"url(#clip060)\" d=\"M138.33 1431.58 Q134.719 1431.58 132.89 1435.14 Q131.084 1438.68 131.084 1445.81 Q131.084 1452.92 132.89 1456.48 Q134.719 1460.02 138.33 1460.02 Q141.964 1460.02 143.769 1456.48 Q145.598 1452.92 145.598 1445.81 Q145.598 1438.68 143.769 1435.14 Q141.964 1431.58 138.33 1431.58 M138.33 1427.87 Q144.14 1427.87 147.195 1432.48 Q150.274 1437.06 150.274 1445.81 Q150.274 1454.54 147.195 1459.15 Q144.14 1463.73 138.33 1463.73 Q132.519 1463.73 129.441 1459.15 Q126.385 1454.54 126.385 1445.81 Q126.385 1437.06 129.441 1432.48 Q132.519 1427.87 138.33 1427.87 Z\" fill=\"#000000\" fill-rule=\"nonzero\" fill-opacity=\"1\" /><path clip-path=\"url(#clip060)\" d=\"M63.9319 1092.11 Q60.3208 1092.11 58.4921 1095.68 Q56.6865 1099.22 56.6865 1106.35 Q56.6865 1113.45 58.4921 1117.02 Q60.3208 1120.56 63.9319 1120.56 Q67.5661 1120.56 69.3717 1117.02 Q71.2004 1113.45 71.2004 1106.35 Q71.2004 1099.22 69.3717 1095.68 Q67.5661 1092.11 63.9319 1092.11 M63.9319 1088.41 Q69.742 1088.41 72.7976 1093.01 Q75.8763 1097.6 75.8763 1106.35 Q75.8763 1115.07 72.7976 1119.68 Q69.742 1124.26 63.9319 1124.26 Q58.1217 1124.26 55.043 1119.68 Q51.9875 1115.07 51.9875 1106.35 Q51.9875 1097.6 55.043 1093.01 Q58.1217 1088.41 63.9319 1088.41 Z\" fill=\"#000000\" fill-rule=\"nonzero\" fill-opacity=\"1\" /><path clip-path=\"url(#clip060)\" d=\"M84.0938 1117.71 L88.978 1117.71 L88.978 1123.59 L84.0938 1123.59 L84.0938 1117.71 Z\" fill=\"#000000\" fill-rule=\"nonzero\" fill-opacity=\"1\" /><path clip-path=\"url(#clip060)\" d=\"M103.191 1119.66 L119.51 1119.66 L119.51 1123.59 L97.566 1123.59 L97.566 1119.66 Q100.228 1116.9 104.811 1112.27 Q109.418 1107.62 110.598 1106.28 Q112.844 1103.75 113.723 1102.02 Q114.626 1100.26 114.626 1098.57 Q114.626 1095.81 112.682 1094.08 Q110.76 1092.34 107.658 1092.34 Q105.459 1092.34 103.006 1093.11 Q100.575 1093.87 97.7974 1095.42 L97.7974 1090.7 Q100.621 1089.56 103.075 1088.99 Q105.529 1088.41 107.566 1088.41 Q112.936 1088.41 116.131 1091.09 Q119.325 1093.78 119.325 1098.27 Q119.325 1100.4 118.515 1102.32 Q117.728 1104.22 115.621 1106.81 Q115.043 1107.48 111.941 1110.7 Q108.839 1113.89 103.191 1119.66 Z\" fill=\"#000000\" fill-rule=\"nonzero\" fill-opacity=\"1\" /><path clip-path=\"url(#clip060)\" d=\"M129.371 1089.03 L147.728 1089.03 L147.728 1092.97 L133.654 1092.97 L133.654 1101.44 Q134.672 1101.09 135.691 1100.93 Q136.709 1100.74 137.728 1100.74 Q143.515 1100.74 146.894 1103.92 Q150.274 1107.09 150.274 1112.5 Q150.274 1118.08 146.802 1121.18 Q143.33 1124.26 137.01 1124.26 Q134.834 1124.26 132.566 1123.89 Q130.32 1123.52 127.913 1122.78 L127.913 1118.08 Q129.996 1119.22 132.219 1119.77 Q134.441 1120.33 136.918 1120.33 Q140.922 1120.33 143.26 1118.22 Q145.598 1116.11 145.598 1112.5 Q145.598 1108.89 143.26 1106.79 Q140.922 1104.68 136.918 1104.68 Q135.043 1104.68 133.168 1105.1 Q131.316 1105.51 129.371 1106.39 L129.371 1089.03 Z\" fill=\"#000000\" fill-rule=\"nonzero\" fill-opacity=\"1\" /><path clip-path=\"url(#clip060)\" d=\"M62.9365 752.645 Q59.3254 752.645 57.4967 756.209 Q55.6912 759.751 55.6912 766.881 Q55.6912 773.987 57.4967 777.552 Q59.3254 781.094 62.9365 781.094 Q66.5707 781.094 68.3763 777.552 Q70.205 773.987 70.205 766.881 Q70.205 759.751 68.3763 756.209 Q66.5707 752.645 62.9365 752.645 M62.9365 748.941 Q68.7467 748.941 71.8022 753.547 Q74.8809 758.131 74.8809 766.881 Q74.8809 775.608 71.8022 780.214 Q68.7467 784.797 62.9365 784.797 Q57.1264 784.797 54.0477 780.214 Q50.9921 775.608 50.9921 766.881 Q50.9921 758.131 54.0477 753.547 Q57.1264 748.941 62.9365 748.941 Z\" fill=\"#000000\" fill-rule=\"nonzero\" fill-opacity=\"1\" /><path clip-path=\"url(#clip060)\" d=\"M83.0984 778.246 L87.9827 778.246 L87.9827 784.126 L83.0984 784.126 L83.0984 778.246 Z\" fill=\"#000000\" fill-rule=\"nonzero\" fill-opacity=\"1\" /><path clip-path=\"url(#clip060)\" d=\"M98.2141 749.566 L116.57 749.566 L116.57 753.501 L102.496 753.501 L102.496 761.973 Q103.515 761.626 104.534 761.464 Q105.552 761.279 106.571 761.279 Q112.358 761.279 115.737 764.45 Q119.117 767.621 119.117 773.038 Q119.117 778.617 115.645 781.719 Q112.172 784.797 105.853 784.797 Q103.677 784.797 101.409 784.427 Q99.1632 784.057 96.7558 783.316 L96.7558 778.617 Q98.8391 779.751 101.061 780.307 Q103.284 780.862 105.76 780.862 Q109.765 780.862 112.103 778.756 Q114.441 776.649 114.441 773.038 Q114.441 769.427 112.103 767.321 Q109.765 765.214 105.76 765.214 Q103.885 765.214 102.01 765.631 Q100.159 766.047 98.2141 766.927 L98.2141 749.566 Z\" fill=\"#000000\" fill-rule=\"nonzero\" fill-opacity=\"1\" /><path clip-path=\"url(#clip060)\" d=\"M138.33 752.645 Q134.719 752.645 132.89 756.209 Q131.084 759.751 131.084 766.881 Q131.084 773.987 132.89 777.552 Q134.719 781.094 138.33 781.094 Q141.964 781.094 143.769 777.552 Q145.598 773.987 145.598 766.881 Q145.598 759.751 143.769 756.209 Q141.964 752.645 138.33 752.645 M138.33 748.941 Q144.14 748.941 147.195 753.547 Q150.274 758.131 150.274 766.881 Q150.274 775.608 147.195 780.214 Q144.14 784.797 138.33 784.797 Q132.519 784.797 129.441 780.214 Q126.385 775.608 126.385 766.881 Q126.385 758.131 129.441 753.547 Q132.519 748.941 138.33 748.941 Z\" fill=\"#000000\" fill-rule=\"nonzero\" fill-opacity=\"1\" /><path clip-path=\"url(#clip060)\" d=\"M63.9319 413.179 Q60.3208 413.179 58.4921 416.744 Q56.6865 420.285 56.6865 427.415 Q56.6865 434.521 58.4921 438.086 Q60.3208 441.628 63.9319 441.628 Q67.5661 441.628 69.3717 438.086 Q71.2004 434.521 71.2004 427.415 Q71.2004 420.285 69.3717 416.744 Q67.5661 413.179 63.9319 413.179 M63.9319 409.475 Q69.742 409.475 72.7976 414.082 Q75.8763 418.665 75.8763 427.415 Q75.8763 436.142 72.7976 440.748 Q69.742 445.332 63.9319 445.332 Q58.1217 445.332 55.043 440.748 Q51.9875 436.142 51.9875 427.415 Q51.9875 418.665 55.043 414.082 Q58.1217 409.475 63.9319 409.475 Z\" fill=\"#000000\" fill-rule=\"nonzero\" fill-opacity=\"1\" /><path clip-path=\"url(#clip060)\" d=\"M84.0938 438.781 L88.978 438.781 L88.978 444.66 L84.0938 444.66 L84.0938 438.781 Z\" fill=\"#000000\" fill-rule=\"nonzero\" fill-opacity=\"1\" /><path clip-path=\"url(#clip060)\" d=\"M97.9826 410.1 L120.205 410.1 L120.205 412.091 L107.658 444.66 L102.774 444.66 L114.58 414.035 L97.9826 414.035 L97.9826 410.1 Z\" fill=\"#000000\" fill-rule=\"nonzero\" fill-opacity=\"1\" /><path clip-path=\"url(#clip060)\" d=\"M129.371 410.1 L147.728 410.1 L147.728 414.035 L133.654 414.035 L133.654 422.508 Q134.672 422.16 135.691 421.998 Q136.709 421.813 137.728 421.813 Q143.515 421.813 146.894 424.984 Q150.274 428.156 150.274 433.572 Q150.274 439.151 146.802 442.253 Q143.33 445.332 137.01 445.332 Q134.834 445.332 132.566 444.961 Q130.32 444.591 127.913 443.85 L127.913 439.151 Q129.996 440.285 132.219 440.841 Q134.441 441.396 136.918 441.396 Q140.922 441.396 143.26 439.29 Q145.598 437.183 145.598 433.572 Q145.598 429.961 143.26 427.855 Q140.922 425.748 136.918 425.748 Q135.043 425.748 133.168 426.165 Q131.316 426.582 129.371 427.461 L129.371 410.1 Z\" fill=\"#000000\" fill-rule=\"nonzero\" fill-opacity=\"1\" /><path clip-path=\"url(#clip060)\" d=\"M53.7467 101.259 L61.3856 101.259 L61.3856 74.8939 L53.0754 76.5605 L53.0754 72.3013 L61.3393 70.6346 L66.0152 70.6346 L66.0152 101.259 L73.654 101.259 L73.654 105.195 L53.7467 105.195 L53.7467 101.259 Z\" fill=\"#000000\" fill-rule=\"nonzero\" fill-opacity=\"1\" /><path clip-path=\"url(#clip060)\" d=\"M83.0984 99.315 L87.9827 99.315 L87.9827 105.195 L83.0984 105.195 L83.0984 99.315 Z\" fill=\"#000000\" fill-rule=\"nonzero\" fill-opacity=\"1\" /><path clip-path=\"url(#clip060)\" d=\"M108.168 73.7133 Q104.557 73.7133 102.728 77.2781 Q100.922 80.8198 100.922 87.9494 Q100.922 95.0558 102.728 98.6206 Q104.557 102.162 108.168 102.162 Q111.802 102.162 113.608 98.6206 Q115.436 95.0558 115.436 87.9494 Q115.436 80.8198 113.608 77.2781 Q111.802 73.7133 108.168 73.7133 M108.168 70.0096 Q113.978 70.0096 117.033 74.6161 Q120.112 79.1994 120.112 87.9494 Q120.112 96.6762 117.033 101.283 Q113.978 105.866 108.168 105.866 Q102.358 105.866 99.2789 101.283 Q96.2234 96.6762 96.2234 87.9494 Q96.2234 79.1994 99.2789 74.6161 Q102.358 70.0096 108.168 70.0096 Z\" fill=\"#000000\" fill-rule=\"nonzero\" fill-opacity=\"1\" /><path clip-path=\"url(#clip060)\" d=\"M138.33 73.7133 Q134.719 73.7133 132.89 77.2781 Q131.084 80.8198 131.084 87.9494 Q131.084 95.0558 132.89 98.6206 Q134.719 102.162 138.33 102.162 Q141.964 102.162 143.769 98.6206 Q145.598 95.0558 145.598 87.9494 Q145.598 80.8198 143.769 77.2781 Q141.964 73.7133 138.33 73.7133 M138.33 70.0096 Q144.14 70.0096 147.195 74.6161 Q150.274 79.1994 150.274 87.9494 Q150.274 96.6762 147.195 101.283 Q144.14 105.866 138.33 105.866 Q132.519 105.866 129.441 101.283 Q126.385 96.6762 126.385 87.9494 Q126.385 79.1994 129.441 74.6161 Q132.519 70.0096 138.33 70.0096 Z\" fill=\"#000000\" fill-rule=\"nonzero\" fill-opacity=\"1\" /><polyline clip-path=\"url(#clip062)\" style=\"stroke:#009af9; stroke-linecap:round; stroke-linejoin:round; stroke-width:4; stroke-opacity:1; fill:none\" points=\"247.59,1445.72 257.809,1445.71 268.028,1445.7 278.247,1445.69 288.467,1445.69 298.686,1445.68 308.905,1445.67 319.124,1445.65 329.344,1445.64 339.563,1445.63 349.782,1445.61 360.001,1445.59 370.221,1445.57 380.44,1445.55 390.659,1445.53 400.878,1445.5 411.098,1445.47 421.317,1445.44 431.536,1445.4 441.755,1445.37 451.975,1445.32 462.194,1445.27 472.413,1445.22 482.632,1445.16 492.852,1445.1 503.071,1445.03 513.29,1444.95 523.509,1444.86 533.729,1444.76 543.948,1444.66 554.167,1444.54 564.386,1444.41 574.606,1444.27 584.825,1444.11 595.044,1443.93 605.263,1443.74 615.483,1443.52 625.702,1443.29 635.921,1443.03 646.14,1442.74 656.36,1442.42 666.579,1442.07 676.798,1441.68 687.017,1441.25 697.237,1440.77 707.456,1440.25 717.675,1439.67 727.894,1439.03 738.114,1438.33 748.333,1437.55 758.552,1436.69 768.771,1435.74 778.991,1434.69 789.21,1433.54 799.429,1432.26 809.649,1430.86 819.868,1429.31 830.087,1427.6 840.306,1425.72 850.526,1423.64 860.745,1421.35 870.964,1418.84 881.183,1416.07 891.403,1413.02 901.622,1409.66 911.841,1405.98 922.06,1401.92 932.28,1397.48 942.499,1392.6 952.718,1387.24 962.937,1381.38 973.157,1374.96 983.376,1367.94 993.595,1360.27 1003.81,1351.9 1014.03,1342.77 1024.25,1332.84 1034.47,1322.04 1044.69,1310.33 1054.91,1297.64 1065.13,1283.92 1075.35,1269.11 1085.57,1253.16 1095.79,1236.03 1106.01,1217.68 1116.23,1198.07 1126.45,1177.17 1136.66,1154.97 1146.88,1131.47 1157.1,1106.66 1167.32,1080.59 1177.54,1053.29 1187.76,1024.81 1197.98,995.222 1208.2,964.627 1218.42,933.129 1228.64,900.85 1238.86,867.929 1249.08,834.514 1259.3,800.764 1269.51,766.846 1279.73,732.928 1289.95,699.178 1300.17,665.763 1310.39,632.842 1320.61,600.563 1330.83,569.065 1341.05,538.47 1351.27,508.887 1361.49,480.406 1371.71,453.1 1381.93,427.027 1392.15,402.226 1402.37,378.721 1412.58,356.522 1422.8,335.623 1433.02,316.011 1443.24,297.657 1453.46,280.529 1463.68,264.584 1473.9,249.776 1484.12,236.053 1494.34,223.362 1504.56,211.647 1514.78,200.852 1525,190.92 1535.22,181.795 1545.43,173.424 1555.65,165.753 1565.87,158.732 1576.09,152.312 1586.31,146.448 1596.53,141.096 1606.75,136.215 1616.97,131.767 1627.19,127.717 1637.41,124.03 1647.63,120.676 1657.85,117.626 1668.07,114.855 1678.29,112.337 1688.5,110.051 1698.72,107.976 1708.94,106.092 1719.16,104.383 1729.38,102.833 1739.6,101.428 1749.82,100.153 1760.04,98.9983 1770.26,97.9513 1780.48,97.0026 1790.7,96.143 1800.92,95.3643 1811.14,94.6589 1821.35,94.02 1831.57,93.4413 1841.79,92.9173 1852.01,92.4428 1862.23,92.0132 1872.45,91.6243 1882.67,91.2721 1892.89,90.9533 1903.11,90.6647 1913.33,90.4035 1923.55,90.1671 1933.77,89.953 1943.99,89.7593 1954.2,89.584 1964.42,89.4253 1974.64,89.2817 1984.86,89.1517 1995.08,89.0341 2005.3,88.9276 2015.52,88.8313 2025.74,88.7441 2035.96,88.6652 2046.18,88.5938 2056.4,88.5292 2066.62,88.4708 2076.84,88.4179 2087.06,88.37 2097.27,88.3267 2107.49,88.2875 2117.71,88.252 2127.93,88.2199 2138.15,88.1909 2148.37,88.1646 2158.59,88.1408 2168.81,88.1193 2179.03,88.0998 2189.25,88.0822 2199.47,88.0662 2209.69,88.0518 2219.91,88.0388 2230.12,88.027 2240.34,88.0163 2250.56,88.0066 2260.78,87.9978 2271,87.9899 2281.22,87.9828 2291.44,87.9763 \"/>\n",
       "<polyline clip-path=\"url(#clip062)\" style=\"stroke:#e26f46; stroke-linecap:round; stroke-linejoin:round; stroke-width:4; stroke-opacity:1; fill:none\" points=\"247.59,1445.72 257.809,1445.71 268.028,1445.7 278.247,1445.69 288.467,1445.69 298.686,1445.68 308.905,1445.67 319.124,1445.65 329.344,1445.64 339.563,1445.63 349.782,1445.61 360.001,1445.59 370.221,1445.57 380.44,1445.55 390.659,1445.53 400.878,1445.5 411.098,1445.47 421.317,1445.44 431.536,1445.4 441.755,1445.37 451.975,1445.32 462.194,1445.27 472.413,1445.22 482.632,1445.16 492.852,1445.1 503.071,1445.03 513.29,1444.95 523.509,1444.86 533.729,1444.77 543.948,1444.66 554.167,1444.54 564.386,1444.41 574.606,1444.27 584.825,1444.11 595.044,1443.94 605.263,1443.74 615.483,1443.53 625.702,1443.29 635.921,1443.03 646.14,1442.75 656.36,1442.43 666.579,1442.08 676.798,1441.69 687.017,1441.26 697.237,1440.79 707.456,1440.27 717.675,1439.7 727.894,1439.07 738.114,1438.37 748.333,1437.6 758.552,1436.75 768.771,1435.81 778.991,1434.78 789.21,1433.65 799.429,1432.4 809.649,1431.02 819.868,1429.51 830.087,1427.84 840.306,1426.01 850.526,1424 860.745,1421.79 870.964,1419.37 881.183,1416.72 891.403,1413.81 901.622,1410.62 911.841,1407.14 922.06,1403.34 932.28,1399.19 942.499,1394.68 952.718,1389.77 962.937,1384.43 973.157,1378.65 983.376,1372.4 993.595,1365.65 1003.81,1358.39 1014.03,1350.59 1024.25,1342.23 1034.47,1333.32 1044.69,1323.84 1054.91,1313.8 1065.13,1303.21 1075.35,1292.09 1085.57,1280.49 1095.79,1268.43 1106.01,1256 1116.23,1243.26 1126.45,1230.31 1136.66,1217.25 1146.88,1204.22 1157.1,1191.35 1167.32,1178.81 1177.54,1166.74 1187.76,1155.32 1197.98,1144.72 1208.2,1135.12 1218.42,1126.67 1228.64,1119.54 1238.86,1113.84 1249.08,1109.68 1259.3,1107.16 1269.51,1106.31 1279.73,1107.16 1289.95,1109.68 1300.17,1113.84 1310.39,1119.54 1320.61,1126.67 1330.83,1135.12 1341.05,1144.72 1351.27,1155.32 1361.49,1166.74 1371.71,1178.81 1381.93,1191.35 1392.15,1204.22 1402.37,1217.25 1412.58,1230.31 1422.8,1243.26 1433.02,1256 1443.24,1268.43 1453.46,1280.49 1463.68,1292.09 1473.9,1303.21 1484.12,1313.8 1494.34,1323.84 1504.56,1333.32 1514.78,1342.23 1525,1350.59 1535.22,1358.39 1545.43,1365.65 1555.65,1372.4 1565.87,1378.65 1576.09,1384.43 1586.31,1389.77 1596.53,1394.68 1606.75,1399.19 1616.97,1403.34 1627.19,1407.14 1637.41,1410.62 1647.63,1413.81 1657.85,1416.72 1668.07,1419.37 1678.29,1421.79 1688.5,1424 1698.72,1426.01 1708.94,1427.84 1719.16,1429.51 1729.38,1431.02 1739.6,1432.4 1749.82,1433.65 1760.04,1434.78 1770.26,1435.81 1780.48,1436.75 1790.7,1437.6 1800.92,1438.37 1811.14,1439.07 1821.35,1439.7 1831.57,1440.27 1841.79,1440.79 1852.01,1441.26 1862.23,1441.69 1872.45,1442.08 1882.67,1442.43 1892.89,1442.75 1903.11,1443.03 1913.33,1443.29 1923.55,1443.53 1933.77,1443.74 1943.99,1443.94 1954.2,1444.11 1964.42,1444.27 1974.64,1444.41 1984.86,1444.54 1995.08,1444.66 2005.3,1444.77 2015.52,1444.86 2025.74,1444.95 2035.96,1445.03 2046.18,1445.1 2056.4,1445.16 2066.62,1445.22 2076.84,1445.27 2087.06,1445.32 2097.27,1445.37 2107.49,1445.4 2117.71,1445.44 2127.93,1445.47 2138.15,1445.5 2148.37,1445.53 2158.59,1445.55 2168.81,1445.57 2179.03,1445.59 2189.25,1445.61 2199.47,1445.63 2209.69,1445.64 2219.91,1445.65 2230.12,1445.67 2240.34,1445.68 2250.56,1445.69 2260.78,1445.69 2271,1445.7 2281.22,1445.71 2291.44,1445.72 \"/>\n",
       "<path clip-path=\"url(#clip060)\" d=\"M258.49 250.738 L591.874 250.738 L591.874 95.2176 L258.49 95.2176  Z\" fill=\"#ffffff\" fill-rule=\"evenodd\" fill-opacity=\"1\"/>\n",
       "<polyline clip-path=\"url(#clip060)\" style=\"stroke:#000000; stroke-linecap:round; stroke-linejoin:round; stroke-width:4; stroke-opacity:1; fill:none\" points=\"258.49,250.738 591.874,250.738 591.874,95.2176 258.49,95.2176 258.49,250.738 \"/>\n",
       "<polyline clip-path=\"url(#clip060)\" style=\"stroke:#009af9; stroke-linecap:round; stroke-linejoin:round; stroke-width:4; stroke-opacity:1; fill:none\" points=\"282.562,147.058 426.994,147.058 \"/>\n",
       "<path clip-path=\"url(#clip060)\" d=\"M467.571 128.319 L467.571 131.861 L463.497 131.861 Q461.205 131.861 460.302 132.787 Q459.423 133.713 459.423 136.12 L459.423 138.412 L466.437 138.412 L466.437 141.722 L459.423 141.722 L459.423 164.338 L455.14 164.338 L455.14 141.722 L451.066 141.722 L451.066 138.412 L455.14 138.412 L455.14 136.606 Q455.14 132.278 457.154 130.31 Q459.168 128.319 463.543 128.319 L467.571 128.319 Z\" fill=\"#000000\" fill-rule=\"nonzero\" fill-opacity=\"1\" /><polyline clip-path=\"url(#clip060)\" style=\"stroke:#e26f46; stroke-linecap:round; stroke-linejoin:round; stroke-width:4; stroke-opacity:1; fill:none\" points=\"282.562,198.898 426.994,198.898 \"/>\n",
       "<path clip-path=\"url(#clip060)\" d=\"M469.978 194.187 L469.978 180.159 L474.237 180.159 L474.237 216.178 L469.978 216.178 L469.978 212.289 Q468.636 214.603 466.575 215.738 Q464.538 216.849 461.668 216.849 Q456.969 216.849 454.006 213.099 Q451.066 209.349 451.066 203.238 Q451.066 197.127 454.006 193.377 Q456.969 189.627 461.668 189.627 Q464.538 189.627 466.575 190.761 Q468.636 191.872 469.978 194.187 M455.464 203.238 Q455.464 207.937 457.386 210.622 Q459.33 213.284 462.71 213.284 Q466.089 213.284 468.034 210.622 Q469.978 207.937 469.978 203.238 Q469.978 198.539 468.034 195.877 Q466.089 193.192 462.71 193.192 Q459.33 193.192 457.386 195.877 Q455.464 198.539 455.464 203.238 Z\" fill=\"#000000\" fill-rule=\"nonzero\" fill-opacity=\"1\" /><path clip-path=\"url(#clip060)\" d=\"M496.135 180.159 L496.135 183.701 L492.061 183.701 Q489.77 183.701 488.867 184.627 Q487.987 185.553 487.987 187.96 L487.987 190.252 L495.001 190.252 L495.001 193.562 L487.987 193.562 L487.987 216.178 L483.705 216.178 L483.705 193.562 L479.631 193.562 L479.631 190.252 L483.705 190.252 L483.705 188.446 Q483.705 184.118 485.719 182.15 Q487.733 180.159 492.108 180.159 L496.135 180.159 Z\" fill=\"#000000\" fill-rule=\"nonzero\" fill-opacity=\"1\" /><path clip-path=\"url(#clip060)\" d=\"M507.27 181.618 L511.205 181.618 L499.168 220.576 L495.233 220.576 L507.27 181.618 Z\" fill=\"#000000\" fill-rule=\"nonzero\" fill-opacity=\"1\" /><path clip-path=\"url(#clip060)\" d=\"M532.732 194.187 L532.732 180.159 L536.992 180.159 L536.992 216.178 L532.732 216.178 L532.732 212.289 Q531.39 214.603 529.33 215.738 Q527.293 216.849 524.422 216.849 Q519.723 216.849 516.76 213.099 Q513.821 209.349 513.821 203.238 Q513.821 197.127 516.76 193.377 Q519.723 189.627 524.422 189.627 Q527.293 189.627 529.33 190.761 Q531.39 191.872 532.732 194.187 M518.219 203.238 Q518.219 207.937 520.14 210.622 Q522.084 213.284 525.464 213.284 Q528.844 213.284 530.788 210.622 Q532.732 207.937 532.732 203.238 Q532.732 198.539 530.788 195.877 Q528.844 193.192 525.464 193.192 Q522.084 193.192 520.14 195.877 Q518.219 198.539 518.219 203.238 Z\" fill=\"#000000\" fill-rule=\"nonzero\" fill-opacity=\"1\" /><path clip-path=\"url(#clip060)\" d=\"M567.316 190.252 L557.941 202.867 L567.802 216.178 L562.779 216.178 L555.232 205.992 L547.686 216.178 L542.663 216.178 L552.732 202.613 L543.519 190.252 L548.543 190.252 L555.418 199.488 L562.292 190.252 L567.316 190.252 Z\" fill=\"#000000\" fill-rule=\"nonzero\" fill-opacity=\"1\" /></svg>\n"
      ],
      "text/html": [
       "<?xml version=\"1.0\" encoding=\"utf-8\"?>\n",
       "<svg xmlns=\"http://www.w3.org/2000/svg\" xmlns:xlink=\"http://www.w3.org/1999/xlink\" width=\"600\" height=\"400\" viewBox=\"0 0 2400 1600\">\n",
       "<defs>\n",
       "  <clipPath id=\"clip110\">\n",
       "    <rect x=\"0\" y=\"0\" width=\"2400\" height=\"1600\"/>\n",
       "  </clipPath>\n",
       "</defs>\n",
       "<path clip-path=\"url(#clip110)\" d=\"M0 1600 L2400 1600 L2400 8.88178e-14 L0 8.88178e-14  Z\" fill=\"#ffffff\" fill-rule=\"evenodd\" fill-opacity=\"1\"/>\n",
       "<defs>\n",
       "  <clipPath id=\"clip111\">\n",
       "    <rect x=\"480\" y=\"0\" width=\"1681\" height=\"1600\"/>\n",
       "  </clipPath>\n",
       "</defs>\n",
       "<path clip-path=\"url(#clip110)\" d=\"M186.274 1486.45 L2352.76 1486.45 L2352.76 47.2441 L186.274 47.2441  Z\" fill=\"#ffffff\" fill-rule=\"evenodd\" fill-opacity=\"1\"/>\n",
       "<defs>\n",
       "  <clipPath id=\"clip112\">\n",
       "    <rect x=\"186\" y=\"47\" width=\"2167\" height=\"1440\"/>\n",
       "  </clipPath>\n",
       "</defs>\n",
       "<polyline clip-path=\"url(#clip112)\" style=\"stroke:#000000; stroke-linecap:round; stroke-linejoin:round; stroke-width:2; stroke-opacity:0.1; fill:none\" points=\"247.59,1486.45 247.59,47.2441 \"/>\n",
       "<polyline clip-path=\"url(#clip112)\" style=\"stroke:#000000; stroke-linecap:round; stroke-linejoin:round; stroke-width:2; stroke-opacity:0.1; fill:none\" points=\"758.552,1486.45 758.552,47.2441 \"/>\n",
       "<polyline clip-path=\"url(#clip112)\" style=\"stroke:#000000; stroke-linecap:round; stroke-linejoin:round; stroke-width:2; stroke-opacity:0.1; fill:none\" points=\"1269.51,1486.45 1269.51,47.2441 \"/>\n",
       "<polyline clip-path=\"url(#clip112)\" style=\"stroke:#000000; stroke-linecap:round; stroke-linejoin:round; stroke-width:2; stroke-opacity:0.1; fill:none\" points=\"1780.48,1486.45 1780.48,47.2441 \"/>\n",
       "<polyline clip-path=\"url(#clip112)\" style=\"stroke:#000000; stroke-linecap:round; stroke-linejoin:round; stroke-width:2; stroke-opacity:0.1; fill:none\" points=\"2291.44,1486.45 2291.44,47.2441 \"/>\n",
       "<polyline clip-path=\"url(#clip110)\" style=\"stroke:#000000; stroke-linecap:round; stroke-linejoin:round; stroke-width:4; stroke-opacity:1; fill:none\" points=\"186.274,1486.45 2352.76,1486.45 \"/>\n",
       "<polyline clip-path=\"url(#clip110)\" style=\"stroke:#000000; stroke-linecap:round; stroke-linejoin:round; stroke-width:4; stroke-opacity:1; fill:none\" points=\"247.59,1486.45 247.59,1467.55 \"/>\n",
       "<polyline clip-path=\"url(#clip110)\" style=\"stroke:#000000; stroke-linecap:round; stroke-linejoin:round; stroke-width:4; stroke-opacity:1; fill:none\" points=\"758.552,1486.45 758.552,1467.55 \"/>\n",
       "<polyline clip-path=\"url(#clip110)\" style=\"stroke:#000000; stroke-linecap:round; stroke-linejoin:round; stroke-width:4; stroke-opacity:1; fill:none\" points=\"1269.51,1486.45 1269.51,1467.55 \"/>\n",
       "<polyline clip-path=\"url(#clip110)\" style=\"stroke:#000000; stroke-linecap:round; stroke-linejoin:round; stroke-width:4; stroke-opacity:1; fill:none\" points=\"1780.48,1486.45 1780.48,1467.55 \"/>\n",
       "<polyline clip-path=\"url(#clip110)\" style=\"stroke:#000000; stroke-linecap:round; stroke-linejoin:round; stroke-width:4; stroke-opacity:1; fill:none\" points=\"2291.44,1486.45 2291.44,1467.55 \"/>\n",
       "<path clip-path=\"url(#clip110)\" d=\"M201.652 1532.02 L231.328 1532.02 L231.328 1535.95 L201.652 1535.95 L201.652 1532.02 Z\" fill=\"#000000\" fill-rule=\"nonzero\" fill-opacity=\"1\" /><path clip-path=\"url(#clip110)\" d=\"M242.231 1544.91 L249.87 1544.91 L249.87 1518.55 L241.559 1520.21 L241.559 1515.95 L249.823 1514.29 L254.499 1514.29 L254.499 1544.91 L262.138 1544.91 L262.138 1548.85 L242.231 1548.85 L242.231 1544.91 Z\" fill=\"#000000\" fill-rule=\"nonzero\" fill-opacity=\"1\" /><path clip-path=\"url(#clip110)\" d=\"M281.582 1517.37 Q277.971 1517.37 276.143 1520.93 Q274.337 1524.47 274.337 1531.6 Q274.337 1538.71 276.143 1542.27 Q277.971 1545.82 281.582 1545.82 Q285.217 1545.82 287.022 1542.27 Q288.851 1538.71 288.851 1531.6 Q288.851 1524.47 287.022 1520.93 Q285.217 1517.37 281.582 1517.37 M281.582 1513.66 Q287.393 1513.66 290.448 1518.27 Q293.527 1522.85 293.527 1531.6 Q293.527 1540.33 290.448 1544.94 Q287.393 1549.52 281.582 1549.52 Q275.772 1549.52 272.694 1544.94 Q269.638 1540.33 269.638 1531.6 Q269.638 1522.85 272.694 1518.27 Q275.772 1513.66 281.582 1513.66 Z\" fill=\"#000000\" fill-rule=\"nonzero\" fill-opacity=\"1\" /><path clip-path=\"url(#clip110)\" d=\"M728.194 1532.02 L757.869 1532.02 L757.869 1535.95 L728.194 1535.95 L728.194 1532.02 Z\" fill=\"#000000\" fill-rule=\"nonzero\" fill-opacity=\"1\" /><path clip-path=\"url(#clip110)\" d=\"M768.008 1514.29 L786.365 1514.29 L786.365 1518.22 L772.291 1518.22 L772.291 1526.7 Q773.309 1526.35 774.328 1526.19 Q775.346 1526 776.365 1526 Q782.152 1526 785.531 1529.17 Q788.911 1532.34 788.911 1537.76 Q788.911 1543.34 785.439 1546.44 Q781.966 1549.52 775.647 1549.52 Q773.471 1549.52 771.203 1549.15 Q768.957 1548.78 766.55 1548.04 L766.55 1543.34 Q768.633 1544.47 770.855 1545.03 Q773.078 1545.58 775.554 1545.58 Q779.559 1545.58 781.897 1543.48 Q784.235 1541.37 784.235 1537.76 Q784.235 1534.15 781.897 1532.04 Q779.559 1529.94 775.554 1529.94 Q773.679 1529.94 771.804 1530.35 Q769.953 1530.77 768.008 1531.65 L768.008 1514.29 Z\" fill=\"#000000\" fill-rule=\"nonzero\" fill-opacity=\"1\" /><path clip-path=\"url(#clip110)\" d=\"M1269.51 1517.37 Q1265.9 1517.37 1264.08 1520.93 Q1262.27 1524.47 1262.27 1531.6 Q1262.27 1538.71 1264.08 1542.27 Q1265.9 1545.82 1269.51 1545.82 Q1273.15 1545.82 1274.95 1542.27 Q1276.78 1538.71 1276.78 1531.6 Q1276.78 1524.47 1274.95 1520.93 Q1273.15 1517.37 1269.51 1517.37 M1269.51 1513.66 Q1275.33 1513.66 1278.38 1518.27 Q1281.46 1522.85 1281.46 1531.6 Q1281.46 1540.33 1278.38 1544.94 Q1275.33 1549.52 1269.51 1549.52 Q1263.7 1549.52 1260.63 1544.94 Q1257.57 1540.33 1257.57 1531.6 Q1257.57 1522.85 1260.63 1518.27 Q1263.7 1513.66 1269.51 1513.66 Z\" fill=\"#000000\" fill-rule=\"nonzero\" fill-opacity=\"1\" /><path clip-path=\"url(#clip110)\" d=\"M1770.76 1514.29 L1789.11 1514.29 L1789.11 1518.22 L1775.04 1518.22 L1775.04 1526.7 Q1776.06 1526.35 1777.07 1526.19 Q1778.09 1526 1779.11 1526 Q1784.9 1526 1788.28 1529.17 Q1791.66 1532.34 1791.66 1537.76 Q1791.66 1543.34 1788.19 1546.44 Q1784.71 1549.52 1778.39 1549.52 Q1776.22 1549.52 1773.95 1549.15 Q1771.7 1548.78 1769.3 1548.04 L1769.3 1543.34 Q1771.38 1544.47 1773.6 1545.03 Q1775.82 1545.58 1778.3 1545.58 Q1782.31 1545.58 1784.64 1543.48 Q1786.98 1541.37 1786.98 1537.76 Q1786.98 1534.15 1784.64 1532.04 Q1782.31 1529.94 1778.3 1529.94 Q1776.43 1529.94 1774.55 1530.35 Q1772.7 1530.77 1770.76 1531.65 L1770.76 1514.29 Z\" fill=\"#000000\" fill-rule=\"nonzero\" fill-opacity=\"1\" /><path clip-path=\"url(#clip110)\" d=\"M2266.13 1544.91 L2273.77 1544.91 L2273.77 1518.55 L2265.46 1520.21 L2265.46 1515.95 L2273.72 1514.29 L2278.4 1514.29 L2278.4 1544.91 L2286.04 1544.91 L2286.04 1548.85 L2266.13 1548.85 L2266.13 1544.91 Z\" fill=\"#000000\" fill-rule=\"nonzero\" fill-opacity=\"1\" /><path clip-path=\"url(#clip110)\" d=\"M2305.48 1517.37 Q2301.87 1517.37 2300.04 1520.93 Q2298.23 1524.47 2298.23 1531.6 Q2298.23 1538.71 2300.04 1542.27 Q2301.87 1545.82 2305.48 1545.82 Q2309.11 1545.82 2310.92 1542.27 Q2312.75 1538.71 2312.75 1531.6 Q2312.75 1524.47 2310.92 1520.93 Q2309.11 1517.37 2305.48 1517.37 M2305.48 1513.66 Q2311.29 1513.66 2314.35 1518.27 Q2317.42 1522.85 2317.42 1531.6 Q2317.42 1540.33 2314.35 1544.94 Q2311.29 1549.52 2305.48 1549.52 Q2299.67 1549.52 2296.59 1544.94 Q2293.54 1540.33 2293.54 1531.6 Q2293.54 1522.85 2296.59 1518.27 Q2299.67 1513.66 2305.48 1513.66 Z\" fill=\"#000000\" fill-rule=\"nonzero\" fill-opacity=\"1\" /><polyline clip-path=\"url(#clip112)\" style=\"stroke:#000000; stroke-linecap:round; stroke-linejoin:round; stroke-width:2; stroke-opacity:0.1; fill:none\" points=\"186.274,1445.78 2352.76,1445.78 \"/>\n",
       "<polyline clip-path=\"url(#clip112)\" style=\"stroke:#000000; stroke-linecap:round; stroke-linejoin:round; stroke-width:2; stroke-opacity:0.1; fill:none\" points=\"186.274,1106.31 2352.76,1106.31 \"/>\n",
       "<polyline clip-path=\"url(#clip112)\" style=\"stroke:#000000; stroke-linecap:round; stroke-linejoin:round; stroke-width:2; stroke-opacity:0.1; fill:none\" points=\"186.274,766.846 2352.76,766.846 \"/>\n",
       "<polyline clip-path=\"url(#clip112)\" style=\"stroke:#000000; stroke-linecap:round; stroke-linejoin:round; stroke-width:2; stroke-opacity:0.1; fill:none\" points=\"186.274,427.38 2352.76,427.38 \"/>\n",
       "<polyline clip-path=\"url(#clip112)\" style=\"stroke:#000000; stroke-linecap:round; stroke-linejoin:round; stroke-width:2; stroke-opacity:0.1; fill:none\" points=\"186.274,87.9146 2352.76,87.9146 \"/>\n",
       "<polyline clip-path=\"url(#clip110)\" style=\"stroke:#000000; stroke-linecap:round; stroke-linejoin:round; stroke-width:4; stroke-opacity:1; fill:none\" points=\"186.274,1486.45 186.274,47.2441 \"/>\n",
       "<polyline clip-path=\"url(#clip110)\" style=\"stroke:#000000; stroke-linecap:round; stroke-linejoin:round; stroke-width:4; stroke-opacity:1; fill:none\" points=\"186.274,1445.78 205.172,1445.78 \"/>\n",
       "<polyline clip-path=\"url(#clip110)\" style=\"stroke:#000000; stroke-linecap:round; stroke-linejoin:round; stroke-width:4; stroke-opacity:1; fill:none\" points=\"186.274,1106.31 205.172,1106.31 \"/>\n",
       "<polyline clip-path=\"url(#clip110)\" style=\"stroke:#000000; stroke-linecap:round; stroke-linejoin:round; stroke-width:4; stroke-opacity:1; fill:none\" points=\"186.274,766.846 205.172,766.846 \"/>\n",
       "<polyline clip-path=\"url(#clip110)\" style=\"stroke:#000000; stroke-linecap:round; stroke-linejoin:round; stroke-width:4; stroke-opacity:1; fill:none\" points=\"186.274,427.38 205.172,427.38 \"/>\n",
       "<polyline clip-path=\"url(#clip110)\" style=\"stroke:#000000; stroke-linecap:round; stroke-linejoin:round; stroke-width:4; stroke-opacity:1; fill:none\" points=\"186.274,87.9146 205.172,87.9146 \"/>\n",
       "<path clip-path=\"url(#clip110)\" d=\"M62.9365 1431.58 Q59.3254 1431.58 57.4967 1435.14 Q55.6912 1438.68 55.6912 1445.81 Q55.6912 1452.92 57.4967 1456.48 Q59.3254 1460.02 62.9365 1460.02 Q66.5707 1460.02 68.3763 1456.48 Q70.205 1452.92 70.205 1445.81 Q70.205 1438.68 68.3763 1435.14 Q66.5707 1431.58 62.9365 1431.58 M62.9365 1427.87 Q68.7467 1427.87 71.8022 1432.48 Q74.8809 1437.06 74.8809 1445.81 Q74.8809 1454.54 71.8022 1459.15 Q68.7467 1463.73 62.9365 1463.73 Q57.1264 1463.73 54.0477 1459.15 Q50.9921 1454.54 50.9921 1445.81 Q50.9921 1437.06 54.0477 1432.48 Q57.1264 1427.87 62.9365 1427.87 Z\" fill=\"#000000\" fill-rule=\"nonzero\" fill-opacity=\"1\" /><path clip-path=\"url(#clip110)\" d=\"M83.0984 1457.18 L87.9827 1457.18 L87.9827 1463.06 L83.0984 1463.06 L83.0984 1457.18 Z\" fill=\"#000000\" fill-rule=\"nonzero\" fill-opacity=\"1\" /><path clip-path=\"url(#clip110)\" d=\"M108.168 1431.58 Q104.557 1431.58 102.728 1435.14 Q100.922 1438.68 100.922 1445.81 Q100.922 1452.92 102.728 1456.48 Q104.557 1460.02 108.168 1460.02 Q111.802 1460.02 113.608 1456.48 Q115.436 1452.92 115.436 1445.81 Q115.436 1438.68 113.608 1435.14 Q111.802 1431.58 108.168 1431.58 M108.168 1427.87 Q113.978 1427.87 117.033 1432.48 Q120.112 1437.06 120.112 1445.81 Q120.112 1454.54 117.033 1459.15 Q113.978 1463.73 108.168 1463.73 Q102.358 1463.73 99.2789 1459.15 Q96.2234 1454.54 96.2234 1445.81 Q96.2234 1437.06 99.2789 1432.48 Q102.358 1427.87 108.168 1427.87 Z\" fill=\"#000000\" fill-rule=\"nonzero\" fill-opacity=\"1\" /><path clip-path=\"url(#clip110)\" d=\"M138.33 1431.58 Q134.719 1431.58 132.89 1435.14 Q131.084 1438.68 131.084 1445.81 Q131.084 1452.92 132.89 1456.48 Q134.719 1460.02 138.33 1460.02 Q141.964 1460.02 143.769 1456.48 Q145.598 1452.92 145.598 1445.81 Q145.598 1438.68 143.769 1435.14 Q141.964 1431.58 138.33 1431.58 M138.33 1427.87 Q144.14 1427.87 147.195 1432.48 Q150.274 1437.06 150.274 1445.81 Q150.274 1454.54 147.195 1459.15 Q144.14 1463.73 138.33 1463.73 Q132.519 1463.73 129.441 1459.15 Q126.385 1454.54 126.385 1445.81 Q126.385 1437.06 129.441 1432.48 Q132.519 1427.87 138.33 1427.87 Z\" fill=\"#000000\" fill-rule=\"nonzero\" fill-opacity=\"1\" /><path clip-path=\"url(#clip110)\" d=\"M63.9319 1092.11 Q60.3208 1092.11 58.4921 1095.68 Q56.6865 1099.22 56.6865 1106.35 Q56.6865 1113.45 58.4921 1117.02 Q60.3208 1120.56 63.9319 1120.56 Q67.5661 1120.56 69.3717 1117.02 Q71.2004 1113.45 71.2004 1106.35 Q71.2004 1099.22 69.3717 1095.68 Q67.5661 1092.11 63.9319 1092.11 M63.9319 1088.41 Q69.742 1088.41 72.7976 1093.01 Q75.8763 1097.6 75.8763 1106.35 Q75.8763 1115.07 72.7976 1119.68 Q69.742 1124.26 63.9319 1124.26 Q58.1217 1124.26 55.043 1119.68 Q51.9875 1115.07 51.9875 1106.35 Q51.9875 1097.6 55.043 1093.01 Q58.1217 1088.41 63.9319 1088.41 Z\" fill=\"#000000\" fill-rule=\"nonzero\" fill-opacity=\"1\" /><path clip-path=\"url(#clip110)\" d=\"M84.0938 1117.71 L88.978 1117.71 L88.978 1123.59 L84.0938 1123.59 L84.0938 1117.71 Z\" fill=\"#000000\" fill-rule=\"nonzero\" fill-opacity=\"1\" /><path clip-path=\"url(#clip110)\" d=\"M103.191 1119.66 L119.51 1119.66 L119.51 1123.59 L97.566 1123.59 L97.566 1119.66 Q100.228 1116.9 104.811 1112.27 Q109.418 1107.62 110.598 1106.28 Q112.844 1103.75 113.723 1102.02 Q114.626 1100.26 114.626 1098.57 Q114.626 1095.81 112.682 1094.08 Q110.76 1092.34 107.658 1092.34 Q105.459 1092.34 103.006 1093.11 Q100.575 1093.87 97.7974 1095.42 L97.7974 1090.7 Q100.621 1089.56 103.075 1088.99 Q105.529 1088.41 107.566 1088.41 Q112.936 1088.41 116.131 1091.09 Q119.325 1093.78 119.325 1098.27 Q119.325 1100.4 118.515 1102.32 Q117.728 1104.22 115.621 1106.81 Q115.043 1107.48 111.941 1110.7 Q108.839 1113.89 103.191 1119.66 Z\" fill=\"#000000\" fill-rule=\"nonzero\" fill-opacity=\"1\" /><path clip-path=\"url(#clip110)\" d=\"M129.371 1089.03 L147.728 1089.03 L147.728 1092.97 L133.654 1092.97 L133.654 1101.44 Q134.672 1101.09 135.691 1100.93 Q136.709 1100.74 137.728 1100.74 Q143.515 1100.74 146.894 1103.92 Q150.274 1107.09 150.274 1112.5 Q150.274 1118.08 146.802 1121.18 Q143.33 1124.26 137.01 1124.26 Q134.834 1124.26 132.566 1123.89 Q130.32 1123.52 127.913 1122.78 L127.913 1118.08 Q129.996 1119.22 132.219 1119.77 Q134.441 1120.33 136.918 1120.33 Q140.922 1120.33 143.26 1118.22 Q145.598 1116.11 145.598 1112.5 Q145.598 1108.89 143.26 1106.79 Q140.922 1104.68 136.918 1104.68 Q135.043 1104.68 133.168 1105.1 Q131.316 1105.51 129.371 1106.39 L129.371 1089.03 Z\" fill=\"#000000\" fill-rule=\"nonzero\" fill-opacity=\"1\" /><path clip-path=\"url(#clip110)\" d=\"M62.9365 752.645 Q59.3254 752.645 57.4967 756.209 Q55.6912 759.751 55.6912 766.881 Q55.6912 773.987 57.4967 777.552 Q59.3254 781.094 62.9365 781.094 Q66.5707 781.094 68.3763 777.552 Q70.205 773.987 70.205 766.881 Q70.205 759.751 68.3763 756.209 Q66.5707 752.645 62.9365 752.645 M62.9365 748.941 Q68.7467 748.941 71.8022 753.547 Q74.8809 758.131 74.8809 766.881 Q74.8809 775.608 71.8022 780.214 Q68.7467 784.797 62.9365 784.797 Q57.1264 784.797 54.0477 780.214 Q50.9921 775.608 50.9921 766.881 Q50.9921 758.131 54.0477 753.547 Q57.1264 748.941 62.9365 748.941 Z\" fill=\"#000000\" fill-rule=\"nonzero\" fill-opacity=\"1\" /><path clip-path=\"url(#clip110)\" d=\"M83.0984 778.246 L87.9827 778.246 L87.9827 784.126 L83.0984 784.126 L83.0984 778.246 Z\" fill=\"#000000\" fill-rule=\"nonzero\" fill-opacity=\"1\" /><path clip-path=\"url(#clip110)\" d=\"M98.2141 749.566 L116.57 749.566 L116.57 753.501 L102.496 753.501 L102.496 761.973 Q103.515 761.626 104.534 761.464 Q105.552 761.279 106.571 761.279 Q112.358 761.279 115.737 764.45 Q119.117 767.621 119.117 773.038 Q119.117 778.617 115.645 781.719 Q112.172 784.797 105.853 784.797 Q103.677 784.797 101.409 784.427 Q99.1632 784.057 96.7558 783.316 L96.7558 778.617 Q98.8391 779.751 101.061 780.307 Q103.284 780.862 105.76 780.862 Q109.765 780.862 112.103 778.756 Q114.441 776.649 114.441 773.038 Q114.441 769.427 112.103 767.321 Q109.765 765.214 105.76 765.214 Q103.885 765.214 102.01 765.631 Q100.159 766.047 98.2141 766.927 L98.2141 749.566 Z\" fill=\"#000000\" fill-rule=\"nonzero\" fill-opacity=\"1\" /><path clip-path=\"url(#clip110)\" d=\"M138.33 752.645 Q134.719 752.645 132.89 756.209 Q131.084 759.751 131.084 766.881 Q131.084 773.987 132.89 777.552 Q134.719 781.094 138.33 781.094 Q141.964 781.094 143.769 777.552 Q145.598 773.987 145.598 766.881 Q145.598 759.751 143.769 756.209 Q141.964 752.645 138.33 752.645 M138.33 748.941 Q144.14 748.941 147.195 753.547 Q150.274 758.131 150.274 766.881 Q150.274 775.608 147.195 780.214 Q144.14 784.797 138.33 784.797 Q132.519 784.797 129.441 780.214 Q126.385 775.608 126.385 766.881 Q126.385 758.131 129.441 753.547 Q132.519 748.941 138.33 748.941 Z\" fill=\"#000000\" fill-rule=\"nonzero\" fill-opacity=\"1\" /><path clip-path=\"url(#clip110)\" d=\"M63.9319 413.179 Q60.3208 413.179 58.4921 416.744 Q56.6865 420.285 56.6865 427.415 Q56.6865 434.521 58.4921 438.086 Q60.3208 441.628 63.9319 441.628 Q67.5661 441.628 69.3717 438.086 Q71.2004 434.521 71.2004 427.415 Q71.2004 420.285 69.3717 416.744 Q67.5661 413.179 63.9319 413.179 M63.9319 409.475 Q69.742 409.475 72.7976 414.082 Q75.8763 418.665 75.8763 427.415 Q75.8763 436.142 72.7976 440.748 Q69.742 445.332 63.9319 445.332 Q58.1217 445.332 55.043 440.748 Q51.9875 436.142 51.9875 427.415 Q51.9875 418.665 55.043 414.082 Q58.1217 409.475 63.9319 409.475 Z\" fill=\"#000000\" fill-rule=\"nonzero\" fill-opacity=\"1\" /><path clip-path=\"url(#clip110)\" d=\"M84.0938 438.781 L88.978 438.781 L88.978 444.66 L84.0938 444.66 L84.0938 438.781 Z\" fill=\"#000000\" fill-rule=\"nonzero\" fill-opacity=\"1\" /><path clip-path=\"url(#clip110)\" d=\"M97.9826 410.1 L120.205 410.1 L120.205 412.091 L107.658 444.66 L102.774 444.66 L114.58 414.035 L97.9826 414.035 L97.9826 410.1 Z\" fill=\"#000000\" fill-rule=\"nonzero\" fill-opacity=\"1\" /><path clip-path=\"url(#clip110)\" d=\"M129.371 410.1 L147.728 410.1 L147.728 414.035 L133.654 414.035 L133.654 422.508 Q134.672 422.16 135.691 421.998 Q136.709 421.813 137.728 421.813 Q143.515 421.813 146.894 424.984 Q150.274 428.156 150.274 433.572 Q150.274 439.151 146.802 442.253 Q143.33 445.332 137.01 445.332 Q134.834 445.332 132.566 444.961 Q130.32 444.591 127.913 443.85 L127.913 439.151 Q129.996 440.285 132.219 440.841 Q134.441 441.396 136.918 441.396 Q140.922 441.396 143.26 439.29 Q145.598 437.183 145.598 433.572 Q145.598 429.961 143.26 427.855 Q140.922 425.748 136.918 425.748 Q135.043 425.748 133.168 426.165 Q131.316 426.582 129.371 427.461 L129.371 410.1 Z\" fill=\"#000000\" fill-rule=\"nonzero\" fill-opacity=\"1\" /><path clip-path=\"url(#clip110)\" d=\"M53.7467 101.259 L61.3856 101.259 L61.3856 74.8939 L53.0754 76.5605 L53.0754 72.3013 L61.3393 70.6346 L66.0152 70.6346 L66.0152 101.259 L73.654 101.259 L73.654 105.195 L53.7467 105.195 L53.7467 101.259 Z\" fill=\"#000000\" fill-rule=\"nonzero\" fill-opacity=\"1\" /><path clip-path=\"url(#clip110)\" d=\"M83.0984 99.315 L87.9827 99.315 L87.9827 105.195 L83.0984 105.195 L83.0984 99.315 Z\" fill=\"#000000\" fill-rule=\"nonzero\" fill-opacity=\"1\" /><path clip-path=\"url(#clip110)\" d=\"M108.168 73.7133 Q104.557 73.7133 102.728 77.2781 Q100.922 80.8198 100.922 87.9494 Q100.922 95.0558 102.728 98.6206 Q104.557 102.162 108.168 102.162 Q111.802 102.162 113.608 98.6206 Q115.436 95.0558 115.436 87.9494 Q115.436 80.8198 113.608 77.2781 Q111.802 73.7133 108.168 73.7133 M108.168 70.0096 Q113.978 70.0096 117.033 74.6161 Q120.112 79.1994 120.112 87.9494 Q120.112 96.6762 117.033 101.283 Q113.978 105.866 108.168 105.866 Q102.358 105.866 99.2789 101.283 Q96.2234 96.6762 96.2234 87.9494 Q96.2234 79.1994 99.2789 74.6161 Q102.358 70.0096 108.168 70.0096 Z\" fill=\"#000000\" fill-rule=\"nonzero\" fill-opacity=\"1\" /><path clip-path=\"url(#clip110)\" d=\"M138.33 73.7133 Q134.719 73.7133 132.89 77.2781 Q131.084 80.8198 131.084 87.9494 Q131.084 95.0558 132.89 98.6206 Q134.719 102.162 138.33 102.162 Q141.964 102.162 143.769 98.6206 Q145.598 95.0558 145.598 87.9494 Q145.598 80.8198 143.769 77.2781 Q141.964 73.7133 138.33 73.7133 M138.33 70.0096 Q144.14 70.0096 147.195 74.6161 Q150.274 79.1994 150.274 87.9494 Q150.274 96.6762 147.195 101.283 Q144.14 105.866 138.33 105.866 Q132.519 105.866 129.441 101.283 Q126.385 96.6762 126.385 87.9494 Q126.385 79.1994 129.441 74.6161 Q132.519 70.0096 138.33 70.0096 Z\" fill=\"#000000\" fill-rule=\"nonzero\" fill-opacity=\"1\" /><polyline clip-path=\"url(#clip112)\" style=\"stroke:#009af9; stroke-linecap:round; stroke-linejoin:round; stroke-width:4; stroke-opacity:1; fill:none\" points=\"247.59,1445.72 257.809,1445.71 268.028,1445.7 278.247,1445.69 288.467,1445.69 298.686,1445.68 308.905,1445.67 319.124,1445.65 329.344,1445.64 339.563,1445.63 349.782,1445.61 360.001,1445.59 370.221,1445.57 380.44,1445.55 390.659,1445.53 400.878,1445.5 411.098,1445.47 421.317,1445.44 431.536,1445.4 441.755,1445.37 451.975,1445.32 462.194,1445.27 472.413,1445.22 482.632,1445.16 492.852,1445.1 503.071,1445.03 513.29,1444.95 523.509,1444.86 533.729,1444.76 543.948,1444.66 554.167,1444.54 564.386,1444.41 574.606,1444.27 584.825,1444.11 595.044,1443.93 605.263,1443.74 615.483,1443.52 625.702,1443.29 635.921,1443.03 646.14,1442.74 656.36,1442.42 666.579,1442.07 676.798,1441.68 687.017,1441.25 697.237,1440.77 707.456,1440.25 717.675,1439.67 727.894,1439.03 738.114,1438.33 748.333,1437.55 758.552,1436.69 768.771,1435.74 778.991,1434.69 789.21,1433.54 799.429,1432.26 809.649,1430.86 819.868,1429.31 830.087,1427.6 840.306,1425.72 850.526,1423.64 860.745,1421.35 870.964,1418.84 881.183,1416.07 891.403,1413.02 901.622,1409.66 911.841,1405.98 922.06,1401.92 932.28,1397.48 942.499,1392.6 952.718,1387.24 962.937,1381.38 973.157,1374.96 983.376,1367.94 993.595,1360.27 1003.81,1351.9 1014.03,1342.77 1024.25,1332.84 1034.47,1322.04 1044.69,1310.33 1054.91,1297.64 1065.13,1283.92 1075.35,1269.11 1085.57,1253.16 1095.79,1236.03 1106.01,1217.68 1116.23,1198.07 1126.45,1177.17 1136.66,1154.97 1146.88,1131.47 1157.1,1106.66 1167.32,1080.59 1177.54,1053.29 1187.76,1024.81 1197.98,995.222 1208.2,964.627 1218.42,933.129 1228.64,900.85 1238.86,867.929 1249.08,834.514 1259.3,800.764 1269.51,766.846 1279.73,732.928 1289.95,699.178 1300.17,665.763 1310.39,632.842 1320.61,600.563 1330.83,569.065 1341.05,538.47 1351.27,508.887 1361.49,480.406 1371.71,453.1 1381.93,427.027 1392.15,402.226 1402.37,378.721 1412.58,356.522 1422.8,335.623 1433.02,316.011 1443.24,297.657 1453.46,280.529 1463.68,264.584 1473.9,249.776 1484.12,236.053 1494.34,223.362 1504.56,211.647 1514.78,200.852 1525,190.92 1535.22,181.795 1545.43,173.424 1555.65,165.753 1565.87,158.732 1576.09,152.312 1586.31,146.448 1596.53,141.096 1606.75,136.215 1616.97,131.767 1627.19,127.717 1637.41,124.03 1647.63,120.676 1657.85,117.626 1668.07,114.855 1678.29,112.337 1688.5,110.051 1698.72,107.976 1708.94,106.092 1719.16,104.383 1729.38,102.833 1739.6,101.428 1749.82,100.153 1760.04,98.9983 1770.26,97.9513 1780.48,97.0026 1790.7,96.143 1800.92,95.3643 1811.14,94.6589 1821.35,94.02 1831.57,93.4413 1841.79,92.9173 1852.01,92.4428 1862.23,92.0132 1872.45,91.6243 1882.67,91.2721 1892.89,90.9533 1903.11,90.6647 1913.33,90.4035 1923.55,90.1671 1933.77,89.953 1943.99,89.7593 1954.2,89.584 1964.42,89.4253 1974.64,89.2817 1984.86,89.1517 1995.08,89.0341 2005.3,88.9276 2015.52,88.8313 2025.74,88.7441 2035.96,88.6652 2046.18,88.5938 2056.4,88.5292 2066.62,88.4708 2076.84,88.4179 2087.06,88.37 2097.27,88.3267 2107.49,88.2875 2117.71,88.252 2127.93,88.2199 2138.15,88.1909 2148.37,88.1646 2158.59,88.1408 2168.81,88.1193 2179.03,88.0998 2189.25,88.0822 2199.47,88.0662 2209.69,88.0518 2219.91,88.0388 2230.12,88.027 2240.34,88.0163 2250.56,88.0066 2260.78,87.9978 2271,87.9899 2281.22,87.9828 2291.44,87.9763 \"/>\n",
       "<polyline clip-path=\"url(#clip112)\" style=\"stroke:#e26f46; stroke-linecap:round; stroke-linejoin:round; stroke-width:4; stroke-opacity:1; fill:none\" points=\"247.59,1445.72 257.809,1445.71 268.028,1445.7 278.247,1445.69 288.467,1445.69 298.686,1445.68 308.905,1445.67 319.124,1445.65 329.344,1445.64 339.563,1445.63 349.782,1445.61 360.001,1445.59 370.221,1445.57 380.44,1445.55 390.659,1445.53 400.878,1445.5 411.098,1445.47 421.317,1445.44 431.536,1445.4 441.755,1445.37 451.975,1445.32 462.194,1445.27 472.413,1445.22 482.632,1445.16 492.852,1445.1 503.071,1445.03 513.29,1444.95 523.509,1444.86 533.729,1444.77 543.948,1444.66 554.167,1444.54 564.386,1444.41 574.606,1444.27 584.825,1444.11 595.044,1443.94 605.263,1443.74 615.483,1443.53 625.702,1443.29 635.921,1443.03 646.14,1442.75 656.36,1442.43 666.579,1442.08 676.798,1441.69 687.017,1441.26 697.237,1440.79 707.456,1440.27 717.675,1439.7 727.894,1439.07 738.114,1438.37 748.333,1437.6 758.552,1436.75 768.771,1435.81 778.991,1434.78 789.21,1433.65 799.429,1432.4 809.649,1431.02 819.868,1429.51 830.087,1427.84 840.306,1426.01 850.526,1424 860.745,1421.79 870.964,1419.37 881.183,1416.72 891.403,1413.81 901.622,1410.62 911.841,1407.14 922.06,1403.34 932.28,1399.19 942.499,1394.68 952.718,1389.77 962.937,1384.43 973.157,1378.65 983.376,1372.4 993.595,1365.65 1003.81,1358.39 1014.03,1350.59 1024.25,1342.23 1034.47,1333.32 1044.69,1323.84 1054.91,1313.8 1065.13,1303.21 1075.35,1292.09 1085.57,1280.49 1095.79,1268.43 1106.01,1256 1116.23,1243.26 1126.45,1230.31 1136.66,1217.25 1146.88,1204.22 1157.1,1191.35 1167.32,1178.81 1177.54,1166.74 1187.76,1155.32 1197.98,1144.72 1208.2,1135.12 1218.42,1126.67 1228.64,1119.54 1238.86,1113.84 1249.08,1109.68 1259.3,1107.16 1269.51,1106.31 1279.73,1107.16 1289.95,1109.68 1300.17,1113.84 1310.39,1119.54 1320.61,1126.67 1330.83,1135.12 1341.05,1144.72 1351.27,1155.32 1361.49,1166.74 1371.71,1178.81 1381.93,1191.35 1392.15,1204.22 1402.37,1217.25 1412.58,1230.31 1422.8,1243.26 1433.02,1256 1443.24,1268.43 1453.46,1280.49 1463.68,1292.09 1473.9,1303.21 1484.12,1313.8 1494.34,1323.84 1504.56,1333.32 1514.78,1342.23 1525,1350.59 1535.22,1358.39 1545.43,1365.65 1555.65,1372.4 1565.87,1378.65 1576.09,1384.43 1586.31,1389.77 1596.53,1394.68 1606.75,1399.19 1616.97,1403.34 1627.19,1407.14 1637.41,1410.62 1647.63,1413.81 1657.85,1416.72 1668.07,1419.37 1678.29,1421.79 1688.5,1424 1698.72,1426.01 1708.94,1427.84 1719.16,1429.51 1729.38,1431.02 1739.6,1432.4 1749.82,1433.65 1760.04,1434.78 1770.26,1435.81 1780.48,1436.75 1790.7,1437.6 1800.92,1438.37 1811.14,1439.07 1821.35,1439.7 1831.57,1440.27 1841.79,1440.79 1852.01,1441.26 1862.23,1441.69 1872.45,1442.08 1882.67,1442.43 1892.89,1442.75 1903.11,1443.03 1913.33,1443.29 1923.55,1443.53 1933.77,1443.74 1943.99,1443.94 1954.2,1444.11 1964.42,1444.27 1974.64,1444.41 1984.86,1444.54 1995.08,1444.66 2005.3,1444.77 2015.52,1444.86 2025.74,1444.95 2035.96,1445.03 2046.18,1445.1 2056.4,1445.16 2066.62,1445.22 2076.84,1445.27 2087.06,1445.32 2097.27,1445.37 2107.49,1445.4 2117.71,1445.44 2127.93,1445.47 2138.15,1445.5 2148.37,1445.53 2158.59,1445.55 2168.81,1445.57 2179.03,1445.59 2189.25,1445.61 2199.47,1445.63 2209.69,1445.64 2219.91,1445.65 2230.12,1445.67 2240.34,1445.68 2250.56,1445.69 2260.78,1445.69 2271,1445.7 2281.22,1445.71 2291.44,1445.72 \"/>\n",
       "<path clip-path=\"url(#clip110)\" d=\"M258.49 250.738 L591.874 250.738 L591.874 95.2176 L258.49 95.2176  Z\" fill=\"#ffffff\" fill-rule=\"evenodd\" fill-opacity=\"1\"/>\n",
       "<polyline clip-path=\"url(#clip110)\" style=\"stroke:#000000; stroke-linecap:round; stroke-linejoin:round; stroke-width:4; stroke-opacity:1; fill:none\" points=\"258.49,250.738 591.874,250.738 591.874,95.2176 258.49,95.2176 258.49,250.738 \"/>\n",
       "<polyline clip-path=\"url(#clip110)\" style=\"stroke:#009af9; stroke-linecap:round; stroke-linejoin:round; stroke-width:4; stroke-opacity:1; fill:none\" points=\"282.562,147.058 426.994,147.058 \"/>\n",
       "<path clip-path=\"url(#clip110)\" d=\"M467.571 128.319 L467.571 131.861 L463.497 131.861 Q461.205 131.861 460.302 132.787 Q459.423 133.713 459.423 136.12 L459.423 138.412 L466.437 138.412 L466.437 141.722 L459.423 141.722 L459.423 164.338 L455.14 164.338 L455.14 141.722 L451.066 141.722 L451.066 138.412 L455.14 138.412 L455.14 136.606 Q455.14 132.278 457.154 130.31 Q459.168 128.319 463.543 128.319 L467.571 128.319 Z\" fill=\"#000000\" fill-rule=\"nonzero\" fill-opacity=\"1\" /><polyline clip-path=\"url(#clip110)\" style=\"stroke:#e26f46; stroke-linecap:round; stroke-linejoin:round; stroke-width:4; stroke-opacity:1; fill:none\" points=\"282.562,198.898 426.994,198.898 \"/>\n",
       "<path clip-path=\"url(#clip110)\" d=\"M469.978 194.187 L469.978 180.159 L474.237 180.159 L474.237 216.178 L469.978 216.178 L469.978 212.289 Q468.636 214.603 466.575 215.738 Q464.538 216.849 461.668 216.849 Q456.969 216.849 454.006 213.099 Q451.066 209.349 451.066 203.238 Q451.066 197.127 454.006 193.377 Q456.969 189.627 461.668 189.627 Q464.538 189.627 466.575 190.761 Q468.636 191.872 469.978 194.187 M455.464 203.238 Q455.464 207.937 457.386 210.622 Q459.33 213.284 462.71 213.284 Q466.089 213.284 468.034 210.622 Q469.978 207.937 469.978 203.238 Q469.978 198.539 468.034 195.877 Q466.089 193.192 462.71 193.192 Q459.33 193.192 457.386 195.877 Q455.464 198.539 455.464 203.238 Z\" fill=\"#000000\" fill-rule=\"nonzero\" fill-opacity=\"1\" /><path clip-path=\"url(#clip110)\" d=\"M496.135 180.159 L496.135 183.701 L492.061 183.701 Q489.77 183.701 488.867 184.627 Q487.987 185.553 487.987 187.96 L487.987 190.252 L495.001 190.252 L495.001 193.562 L487.987 193.562 L487.987 216.178 L483.705 216.178 L483.705 193.562 L479.631 193.562 L479.631 190.252 L483.705 190.252 L483.705 188.446 Q483.705 184.118 485.719 182.15 Q487.733 180.159 492.108 180.159 L496.135 180.159 Z\" fill=\"#000000\" fill-rule=\"nonzero\" fill-opacity=\"1\" /><path clip-path=\"url(#clip110)\" d=\"M507.27 181.618 L511.205 181.618 L499.168 220.576 L495.233 220.576 L507.27 181.618 Z\" fill=\"#000000\" fill-rule=\"nonzero\" fill-opacity=\"1\" /><path clip-path=\"url(#clip110)\" d=\"M532.732 194.187 L532.732 180.159 L536.992 180.159 L536.992 216.178 L532.732 216.178 L532.732 212.289 Q531.39 214.603 529.33 215.738 Q527.293 216.849 524.422 216.849 Q519.723 216.849 516.76 213.099 Q513.821 209.349 513.821 203.238 Q513.821 197.127 516.76 193.377 Q519.723 189.627 524.422 189.627 Q527.293 189.627 529.33 190.761 Q531.39 191.872 532.732 194.187 M518.219 203.238 Q518.219 207.937 520.14 210.622 Q522.084 213.284 525.464 213.284 Q528.844 213.284 530.788 210.622 Q532.732 207.937 532.732 203.238 Q532.732 198.539 530.788 195.877 Q528.844 193.192 525.464 193.192 Q522.084 193.192 520.14 195.877 Q518.219 198.539 518.219 203.238 Z\" fill=\"#000000\" fill-rule=\"nonzero\" fill-opacity=\"1\" /><path clip-path=\"url(#clip110)\" d=\"M567.316 190.252 L557.941 202.867 L567.802 216.178 L562.779 216.178 L555.232 205.992 L547.686 216.178 L542.663 216.178 L552.732 202.613 L543.519 190.252 L548.543 190.252 L555.418 199.488 L562.292 190.252 L567.316 190.252 Z\" fill=\"#000000\" fill-rule=\"nonzero\" fill-opacity=\"1\" /></svg>\n"
      ]
     },
     "execution_count": 4,
     "metadata": {},
     "output_type": "execute_result"
    }
   ],
   "source": [
    "showactivation(a_logistic,-10:0.1:10)"
   ]
  },
  {
   "cell_type": "code",
   "execution_count": 5,
   "id": "917946e9-36e4-4ba5-8535-b50fd8d14e77",
   "metadata": {},
   "outputs": [
    {
     "data": {
      "image/png": "[encoded data removed]",
      "image/svg+xml": [
       "<?xml version=\"1.0\" encoding=\"utf-8\"?>\n",
       "<svg xmlns=\"http://www.w3.org/2000/svg\" xmlns:xlink=\"http://www.w3.org/1999/xlink\" width=\"600\" height=\"400\" viewBox=\"0 0 2400 1600\">\n",
       "<defs>\n",
       "  <clipPath id=\"clip150\">\n",
       "    <rect x=\"0\" y=\"0\" width=\"2400\" height=\"1600\"/>\n",
       "  </clipPath>\n",
       "</defs>\n",
       "<path clip-path=\"url(#clip150)\" d=\"M0 1600 L2400 1600 L2400 8.88178e-14 L0 8.88178e-14  Z\" fill=\"#ffffff\" fill-rule=\"evenodd\" fill-opacity=\"1\"/>\n",
       "<defs>\n",
       "  <clipPath id=\"clip151\">\n",
       "    <rect x=\"480\" y=\"0\" width=\"1681\" height=\"1600\"/>\n",
       "  </clipPath>\n",
       "</defs>\n",
       "<path clip-path=\"url(#clip150)\" d=\"M169.121 1486.45 L2352.76 1486.45 L2352.76 47.2441 L169.121 47.2441  Z\" fill=\"#ffffff\" fill-rule=\"evenodd\" fill-opacity=\"1\"/>\n",
       "<defs>\n",
       "  <clipPath id=\"clip152\">\n",
       "    <rect x=\"169\" y=\"47\" width=\"2185\" height=\"1440\"/>\n",
       "  </clipPath>\n",
       "</defs>\n",
       "<polyline clip-path=\"url(#clip152)\" style=\"stroke:#000000; stroke-linecap:round; stroke-linejoin:round; stroke-width:2; stroke-opacity:0.1; fill:none\" points=\"230.922,1486.45 230.922,47.2441 \"/>\n",
       "<polyline clip-path=\"url(#clip152)\" style=\"stroke:#000000; stroke-linecap:round; stroke-linejoin:round; stroke-width:2; stroke-opacity:0.1; fill:none\" points=\"745.93,1486.45 745.93,47.2441 \"/>\n",
       "<polyline clip-path=\"url(#clip152)\" style=\"stroke:#000000; stroke-linecap:round; stroke-linejoin:round; stroke-width:2; stroke-opacity:0.1; fill:none\" points=\"1260.94,1486.45 1260.94,47.2441 \"/>\n",
       "<polyline clip-path=\"url(#clip152)\" style=\"stroke:#000000; stroke-linecap:round; stroke-linejoin:round; stroke-width:2; stroke-opacity:0.1; fill:none\" points=\"1775.95,1486.45 1775.95,47.2441 \"/>\n",
       "<polyline clip-path=\"url(#clip152)\" style=\"stroke:#000000; stroke-linecap:round; stroke-linejoin:round; stroke-width:2; stroke-opacity:0.1; fill:none\" points=\"2290.95,1486.45 2290.95,47.2441 \"/>\n",
       "<polyline clip-path=\"url(#clip150)\" style=\"stroke:#000000; stroke-linecap:round; stroke-linejoin:round; stroke-width:4; stroke-opacity:1; fill:none\" points=\"169.121,1486.45 2352.76,1486.45 \"/>\n",
       "<polyline clip-path=\"url(#clip150)\" style=\"stroke:#000000; stroke-linecap:round; stroke-linejoin:round; stroke-width:4; stroke-opacity:1; fill:none\" points=\"230.922,1486.45 230.922,1467.55 \"/>\n",
       "<polyline clip-path=\"url(#clip150)\" style=\"stroke:#000000; stroke-linecap:round; stroke-linejoin:round; stroke-width:4; stroke-opacity:1; fill:none\" points=\"745.93,1486.45 745.93,1467.55 \"/>\n",
       "<polyline clip-path=\"url(#clip150)\" style=\"stroke:#000000; stroke-linecap:round; stroke-linejoin:round; stroke-width:4; stroke-opacity:1; fill:none\" points=\"1260.94,1486.45 1260.94,1467.55 \"/>\n",
       "<polyline clip-path=\"url(#clip150)\" style=\"stroke:#000000; stroke-linecap:round; stroke-linejoin:round; stroke-width:4; stroke-opacity:1; fill:none\" points=\"1775.95,1486.45 1775.95,1467.55 \"/>\n",
       "<polyline clip-path=\"url(#clip150)\" style=\"stroke:#000000; stroke-linecap:round; stroke-linejoin:round; stroke-width:4; stroke-opacity:1; fill:none\" points=\"2290.95,1486.45 2290.95,1467.55 \"/>\n",
       "<path clip-path=\"url(#clip150)\" d=\"M184.985 1532.02 L214.661 1532.02 L214.661 1535.95 L184.985 1535.95 L184.985 1532.02 Z\" fill=\"#000000\" fill-rule=\"nonzero\" fill-opacity=\"1\" /><path clip-path=\"url(#clip150)\" d=\"M225.564 1544.91 L233.202 1544.91 L233.202 1518.55 L224.892 1520.21 L224.892 1515.95 L233.156 1514.29 L237.832 1514.29 L237.832 1544.91 L245.471 1544.91 L245.471 1548.85 L225.564 1548.85 L225.564 1544.91 Z\" fill=\"#000000\" fill-rule=\"nonzero\" fill-opacity=\"1\" /><path clip-path=\"url(#clip150)\" d=\"M264.915 1517.37 Q261.304 1517.37 259.475 1520.93 Q257.67 1524.47 257.67 1531.6 Q257.67 1538.71 259.475 1542.27 Q261.304 1545.82 264.915 1545.82 Q268.549 1545.82 270.355 1542.27 Q272.184 1538.71 272.184 1531.6 Q272.184 1524.47 270.355 1520.93 Q268.549 1517.37 264.915 1517.37 M264.915 1513.66 Q270.725 1513.66 273.781 1518.27 Q276.86 1522.85 276.86 1531.6 Q276.86 1540.33 273.781 1544.94 Q270.725 1549.52 264.915 1549.52 Q259.105 1549.52 256.026 1544.94 Q252.971 1540.33 252.971 1531.6 Q252.971 1522.85 256.026 1518.27 Q259.105 1513.66 264.915 1513.66 Z\" fill=\"#000000\" fill-rule=\"nonzero\" fill-opacity=\"1\" /><path clip-path=\"url(#clip150)\" d=\"M715.572 1532.02 L745.248 1532.02 L745.248 1535.95 L715.572 1535.95 L715.572 1532.02 Z\" fill=\"#000000\" fill-rule=\"nonzero\" fill-opacity=\"1\" /><path clip-path=\"url(#clip150)\" d=\"M755.386 1514.29 L773.743 1514.29 L773.743 1518.22 L759.669 1518.22 L759.669 1526.7 Q760.687 1526.35 761.706 1526.19 Q762.724 1526 763.743 1526 Q769.53 1526 772.909 1529.17 Q776.289 1532.34 776.289 1537.76 Q776.289 1543.34 772.817 1546.44 Q769.345 1549.52 763.025 1549.52 Q760.849 1549.52 758.581 1549.15 Q756.335 1548.78 753.928 1548.04 L753.928 1543.34 Q756.011 1544.47 758.234 1545.03 Q760.456 1545.58 762.933 1545.58 Q766.937 1545.58 769.275 1543.48 Q771.613 1541.37 771.613 1537.76 Q771.613 1534.15 769.275 1532.04 Q766.937 1529.94 762.933 1529.94 Q761.058 1529.94 759.183 1530.35 Q757.331 1530.77 755.386 1531.65 L755.386 1514.29 Z\" fill=\"#000000\" fill-rule=\"nonzero\" fill-opacity=\"1\" /><path clip-path=\"url(#clip150)\" d=\"M1260.94 1517.37 Q1257.33 1517.37 1255.5 1520.93 Q1253.69 1524.47 1253.69 1531.6 Q1253.69 1538.71 1255.5 1542.27 Q1257.33 1545.82 1260.94 1545.82 Q1264.57 1545.82 1266.38 1542.27 Q1268.21 1538.71 1268.21 1531.6 Q1268.21 1524.47 1266.38 1520.93 Q1264.57 1517.37 1260.94 1517.37 M1260.94 1513.66 Q1266.75 1513.66 1269.8 1518.27 Q1272.88 1522.85 1272.88 1531.6 Q1272.88 1540.33 1269.8 1544.94 Q1266.75 1549.52 1260.94 1549.52 Q1255.13 1549.52 1252.05 1544.94 Q1248.99 1540.33 1248.99 1531.6 Q1248.99 1522.85 1252.05 1518.27 Q1255.13 1513.66 1260.94 1513.66 Z\" fill=\"#000000\" fill-rule=\"nonzero\" fill-opacity=\"1\" /><path clip-path=\"url(#clip150)\" d=\"M1766.22 1514.29 L1784.58 1514.29 L1784.58 1518.22 L1770.51 1518.22 L1770.51 1526.7 Q1771.53 1526.35 1772.54 1526.19 Q1773.56 1526 1774.58 1526 Q1780.37 1526 1783.75 1529.17 Q1787.13 1532.34 1787.13 1537.76 Q1787.13 1543.34 1783.66 1546.44 Q1780.18 1549.52 1773.86 1549.52 Q1771.69 1549.52 1769.42 1549.15 Q1767.17 1548.78 1764.77 1548.04 L1764.77 1543.34 Q1766.85 1544.47 1769.07 1545.03 Q1771.29 1545.58 1773.77 1545.58 Q1777.78 1545.58 1780.11 1543.48 Q1782.45 1541.37 1782.45 1537.76 Q1782.45 1534.15 1780.11 1532.04 Q1777.78 1529.94 1773.77 1529.94 Q1771.9 1529.94 1770.02 1530.35 Q1768.17 1530.77 1766.22 1531.65 L1766.22 1514.29 Z\" fill=\"#000000\" fill-rule=\"nonzero\" fill-opacity=\"1\" /><path clip-path=\"url(#clip150)\" d=\"M2265.64 1544.91 L2273.28 1544.91 L2273.28 1518.55 L2264.97 1520.21 L2264.97 1515.95 L2273.24 1514.29 L2277.91 1514.29 L2277.91 1544.91 L2285.55 1544.91 L2285.55 1548.85 L2265.64 1548.85 L2265.64 1544.91 Z\" fill=\"#000000\" fill-rule=\"nonzero\" fill-opacity=\"1\" /><path clip-path=\"url(#clip150)\" d=\"M2304.99 1517.37 Q2301.38 1517.37 2299.55 1520.93 Q2297.75 1524.47 2297.75 1531.6 Q2297.75 1538.71 2299.55 1542.27 Q2301.38 1545.82 2304.99 1545.82 Q2308.63 1545.82 2310.43 1542.27 Q2312.26 1538.71 2312.26 1531.6 Q2312.26 1524.47 2310.43 1520.93 Q2308.63 1517.37 2304.99 1517.37 M2304.99 1513.66 Q2310.8 1513.66 2313.86 1518.27 Q2316.94 1522.85 2316.94 1531.6 Q2316.94 1540.33 2313.86 1544.94 Q2310.8 1549.52 2304.99 1549.52 Q2299.18 1549.52 2296.11 1544.94 Q2293.05 1540.33 2293.05 1531.6 Q2293.05 1522.85 2296.11 1518.27 Q2299.18 1513.66 2304.99 1513.66 Z\" fill=\"#000000\" fill-rule=\"nonzero\" fill-opacity=\"1\" /><polyline clip-path=\"url(#clip152)\" style=\"stroke:#000000; stroke-linecap:round; stroke-linejoin:round; stroke-width:2; stroke-opacity:0.1; fill:none\" points=\"169.121,1445.72 2352.76,1445.72 \"/>\n",
       "<polyline clip-path=\"url(#clip152)\" style=\"stroke:#000000; stroke-linecap:round; stroke-linejoin:round; stroke-width:2; stroke-opacity:0.1; fill:none\" points=\"169.121,1106.28 2352.76,1106.28 \"/>\n",
       "<polyline clip-path=\"url(#clip152)\" style=\"stroke:#000000; stroke-linecap:round; stroke-linejoin:round; stroke-width:2; stroke-opacity:0.1; fill:none\" points=\"169.121,766.846 2352.76,766.846 \"/>\n",
       "<polyline clip-path=\"url(#clip152)\" style=\"stroke:#000000; stroke-linecap:round; stroke-linejoin:round; stroke-width:2; stroke-opacity:0.1; fill:none\" points=\"169.121,427.411 2352.76,427.411 \"/>\n",
       "<polyline clip-path=\"url(#clip152)\" style=\"stroke:#000000; stroke-linecap:round; stroke-linejoin:round; stroke-width:2; stroke-opacity:0.1; fill:none\" points=\"169.121,87.9763 2352.76,87.9763 \"/>\n",
       "<polyline clip-path=\"url(#clip150)\" style=\"stroke:#000000; stroke-linecap:round; stroke-linejoin:round; stroke-width:4; stroke-opacity:1; fill:none\" points=\"169.121,1486.45 169.121,47.2441 \"/>\n",
       "<polyline clip-path=\"url(#clip150)\" style=\"stroke:#000000; stroke-linecap:round; stroke-linejoin:round; stroke-width:4; stroke-opacity:1; fill:none\" points=\"169.121,1445.72 188.019,1445.72 \"/>\n",
       "<polyline clip-path=\"url(#clip150)\" style=\"stroke:#000000; stroke-linecap:round; stroke-linejoin:round; stroke-width:4; stroke-opacity:1; fill:none\" points=\"169.121,1106.28 188.019,1106.28 \"/>\n",
       "<polyline clip-path=\"url(#clip150)\" style=\"stroke:#000000; stroke-linecap:round; stroke-linejoin:round; stroke-width:4; stroke-opacity:1; fill:none\" points=\"169.121,766.846 188.019,766.846 \"/>\n",
       "<polyline clip-path=\"url(#clip150)\" style=\"stroke:#000000; stroke-linecap:round; stroke-linejoin:round; stroke-width:4; stroke-opacity:1; fill:none\" points=\"169.121,427.411 188.019,427.411 \"/>\n",
       "<polyline clip-path=\"url(#clip150)\" style=\"stroke:#000000; stroke-linecap:round; stroke-linejoin:round; stroke-width:4; stroke-opacity:1; fill:none\" points=\"169.121,87.9763 188.019,87.9763 \"/>\n",
       "<path clip-path=\"url(#clip150)\" d=\"M121.177 1431.51 Q117.566 1431.51 115.737 1435.08 Q113.932 1438.62 113.932 1445.75 Q113.932 1452.86 115.737 1456.42 Q117.566 1459.96 121.177 1459.96 Q124.811 1459.96 126.617 1456.42 Q128.445 1452.86 128.445 1445.75 Q128.445 1438.62 126.617 1435.08 Q124.811 1431.51 121.177 1431.51 M121.177 1427.81 Q126.987 1427.81 130.043 1432.42 Q133.121 1437 133.121 1445.75 Q133.121 1454.48 130.043 1459.08 Q126.987 1463.67 121.177 1463.67 Q115.367 1463.67 112.288 1459.08 Q109.233 1454.48 109.233 1445.75 Q109.233 1437 112.288 1432.42 Q115.367 1427.81 121.177 1427.81 Z\" fill=\"#000000\" fill-rule=\"nonzero\" fill-opacity=\"1\" /><path clip-path=\"url(#clip150)\" d=\"M86.0382 1119.63 L102.358 1119.63 L102.358 1123.56 L80.4133 1123.56 L80.4133 1119.63 Q83.0753 1116.87 87.6586 1112.24 Q92.2651 1107.59 93.4456 1106.25 Q95.691 1103.72 96.5706 1101.99 Q97.4734 1100.23 97.4734 1098.54 Q97.4734 1095.78 95.5289 1094.05 Q93.6076 1092.31 90.5058 1092.31 Q88.3067 1092.31 85.8531 1093.07 Q83.4225 1093.84 80.6447 1095.39 L80.6447 1090.67 Q83.4688 1089.53 85.9225 1088.95 Q88.3762 1088.38 90.4132 1088.38 Q95.7836 1088.38 98.978 1091.06 Q102.172 1093.75 102.172 1098.24 Q102.172 1100.37 101.362 1102.29 Q100.575 1104.19 98.4687 1106.78 Q97.89 1107.45 94.7882 1110.67 Q91.6864 1113.86 86.0382 1119.63 Z\" fill=\"#000000\" fill-rule=\"nonzero\" fill-opacity=\"1\" /><path clip-path=\"url(#clip150)\" d=\"M112.219 1089 L130.575 1089 L130.575 1092.94 L116.501 1092.94 L116.501 1101.41 Q117.52 1101.06 118.538 1100.9 Q119.557 1100.71 120.575 1100.71 Q126.362 1100.71 129.742 1103.89 Q133.121 1107.06 133.121 1112.47 Q133.121 1118.05 129.649 1121.15 Q126.177 1124.23 119.857 1124.23 Q117.682 1124.23 115.413 1123.86 Q113.168 1123.49 110.76 1122.75 L110.76 1118.05 Q112.844 1119.19 115.066 1119.74 Q117.288 1120.3 119.765 1120.3 Q123.77 1120.3 126.107 1118.19 Q128.445 1116.08 128.445 1112.47 Q128.445 1108.86 126.107 1106.76 Q123.77 1104.65 119.765 1104.65 Q117.89 1104.65 116.015 1105.07 Q114.163 1105.48 112.219 1106.36 L112.219 1089 Z\" fill=\"#000000\" fill-rule=\"nonzero\" fill-opacity=\"1\" /><path clip-path=\"url(#clip150)\" d=\"M81.0614 749.566 L99.4178 749.566 L99.4178 753.501 L85.3438 753.501 L85.3438 761.973 Q86.3623 761.626 87.3808 761.464 Q88.3993 761.279 89.4178 761.279 Q95.2049 761.279 98.5845 764.45 Q101.964 767.621 101.964 773.038 Q101.964 778.617 98.4919 781.719 Q95.0197 784.797 88.7003 784.797 Q86.5243 784.797 84.2558 784.427 Q82.0105 784.057 79.6031 783.316 L79.6031 778.617 Q81.6864 779.751 83.9086 780.307 Q86.1308 780.862 88.6077 780.862 Q92.6123 780.862 94.9502 778.756 Q97.2882 776.649 97.2882 773.038 Q97.2882 769.427 94.9502 767.321 Q92.6123 765.214 88.6077 765.214 Q86.7327 765.214 84.8577 765.631 Q83.0058 766.047 81.0614 766.927 L81.0614 749.566 Z\" fill=\"#000000\" fill-rule=\"nonzero\" fill-opacity=\"1\" /><path clip-path=\"url(#clip150)\" d=\"M121.177 752.645 Q117.566 752.645 115.737 756.209 Q113.932 759.751 113.932 766.881 Q113.932 773.987 115.737 777.552 Q117.566 781.094 121.177 781.094 Q124.811 781.094 126.617 777.552 Q128.445 773.987 128.445 766.881 Q128.445 759.751 126.617 756.209 Q124.811 752.645 121.177 752.645 M121.177 748.941 Q126.987 748.941 130.043 753.547 Q133.121 758.131 133.121 766.881 Q133.121 775.608 130.043 780.214 Q126.987 784.797 121.177 784.797 Q115.367 784.797 112.288 780.214 Q109.233 775.608 109.233 766.881 Q109.233 758.131 112.288 753.547 Q115.367 748.941 121.177 748.941 Z\" fill=\"#000000\" fill-rule=\"nonzero\" fill-opacity=\"1\" /><path clip-path=\"url(#clip150)\" d=\"M80.8299 410.131 L103.052 410.131 L103.052 412.122 L90.5058 444.691 L85.6216 444.691 L97.4271 414.066 L80.8299 414.066 L80.8299 410.131 Z\" fill=\"#000000\" fill-rule=\"nonzero\" fill-opacity=\"1\" /><path clip-path=\"url(#clip150)\" d=\"M112.219 410.131 L130.575 410.131 L130.575 414.066 L116.501 414.066 L116.501 422.538 Q117.52 422.191 118.538 422.029 Q119.557 421.844 120.575 421.844 Q126.362 421.844 129.742 425.015 Q133.121 428.187 133.121 433.603 Q133.121 439.182 129.649 442.284 Q126.177 445.362 119.857 445.362 Q117.682 445.362 115.413 444.992 Q113.168 444.622 110.76 443.881 L110.76 439.182 Q112.844 440.316 115.066 440.872 Q117.288 441.427 119.765 441.427 Q123.77 441.427 126.107 439.321 Q128.445 437.214 128.445 433.603 Q128.445 429.992 126.107 427.886 Q123.77 425.779 119.765 425.779 Q117.89 425.779 116.015 426.196 Q114.163 426.613 112.219 427.492 L112.219 410.131 Z\" fill=\"#000000\" fill-rule=\"nonzero\" fill-opacity=\"1\" /><path clip-path=\"url(#clip150)\" d=\"M51.6634 101.321 L59.3023 101.321 L59.3023 74.9555 L50.9921 76.6222 L50.9921 72.3629 L59.256 70.6963 L63.9319 70.6963 L63.9319 101.321 L71.5707 101.321 L71.5707 105.256 L51.6634 105.256 L51.6634 101.321 Z\" fill=\"#000000\" fill-rule=\"nonzero\" fill-opacity=\"1\" /><path clip-path=\"url(#clip150)\" d=\"M91.0151 73.775 Q87.404 73.775 85.5753 77.3398 Q83.7697 80.8814 83.7697 88.011 Q83.7697 95.1174 85.5753 98.6822 Q87.404 102.224 91.0151 102.224 Q94.6493 102.224 96.4548 98.6822 Q98.2835 95.1174 98.2835 88.011 Q98.2835 80.8814 96.4548 77.3398 Q94.6493 73.775 91.0151 73.775 M91.0151 70.0713 Q96.8252 70.0713 99.8808 74.6777 Q102.959 79.261 102.959 88.011 Q102.959 96.7378 99.8808 101.344 Q96.8252 105.928 91.0151 105.928 Q85.2049 105.928 82.1262 101.344 Q79.0707 96.7378 79.0707 88.011 Q79.0707 79.261 82.1262 74.6777 Q85.2049 70.0713 91.0151 70.0713 Z\" fill=\"#000000\" fill-rule=\"nonzero\" fill-opacity=\"1\" /><path clip-path=\"url(#clip150)\" d=\"M121.177 73.775 Q117.566 73.775 115.737 77.3398 Q113.932 80.8814 113.932 88.011 Q113.932 95.1174 115.737 98.6822 Q117.566 102.224 121.177 102.224 Q124.811 102.224 126.617 98.6822 Q128.445 95.1174 128.445 88.011 Q128.445 80.8814 126.617 77.3398 Q124.811 73.775 121.177 73.775 M121.177 70.0713 Q126.987 70.0713 130.043 74.6777 Q133.121 79.261 133.121 88.011 Q133.121 96.7378 130.043 101.344 Q126.987 105.928 121.177 105.928 Q115.367 105.928 112.288 101.344 Q109.233 96.7378 109.233 88.011 Q109.233 79.261 112.288 74.6777 Q115.367 70.0713 121.177 70.0713 Z\" fill=\"#000000\" fill-rule=\"nonzero\" fill-opacity=\"1\" /><polyline clip-path=\"url(#clip152)\" style=\"stroke:#009af9; stroke-linecap:round; stroke-linejoin:round; stroke-width:4; stroke-opacity:1; fill:none\" points=\"230.922,87.9763 241.222,114.995 251.523,141.743 261.823,168.219 272.123,194.423 282.423,220.356 292.723,246.017 303.023,271.407 313.324,296.525 323.624,321.372 333.924,345.947 344.224,370.25 354.524,394.282 364.824,418.043 375.125,441.532 385.425,464.749 395.725,487.695 406.025,510.369 416.325,532.772 426.625,554.903 436.926,576.762 447.226,598.351 457.526,619.667 467.826,640.712 478.126,661.485 488.426,681.987 498.727,702.218 509.027,722.176 519.327,741.864 529.627,761.279 539.927,780.423 550.227,799.296 560.528,817.897 570.828,836.226 581.128,854.284 591.428,872.071 601.728,889.586 612.028,906.829 622.328,923.801 632.629,940.501 642.929,956.93 653.229,973.087 663.529,988.972 673.829,1004.59 684.129,1019.93 694.43,1035 704.73,1049.8 715.03,1064.33 725.33,1078.58 735.63,1092.57 745.93,1106.28 756.231,1119.72 766.531,1132.89 776.831,1145.79 787.131,1158.42 797.431,1170.77 807.731,1182.86 818.032,1194.67 828.332,1206.21 838.632,1217.48 848.932,1228.48 859.232,1239.2 869.532,1249.66 879.833,1259.84 890.133,1269.75 900.433,1279.39 910.733,1288.76 921.033,1297.86 931.333,1306.68 941.634,1315.24 951.934,1323.52 962.234,1331.53 972.534,1339.27 982.834,1346.74 993.134,1353.93 1003.43,1360.86 1013.73,1367.51 1024.03,1373.89 1034.34,1380 1044.64,1385.84 1054.94,1391.41 1065.24,1396.7 1075.54,1401.72 1085.84,1406.48 1096.14,1410.96 1106.44,1415.17 1116.74,1419.1 1127.04,1422.77 1137.34,1426.16 1147.64,1429.29 1157.94,1432.14 1168.24,1434.72 1178.54,1437.03 1188.84,1439.06 1199.14,1440.83 1209.44,1442.32 1219.74,1443.54 1230.04,1444.49 1240.34,1445.17 1250.64,1445.58 1260.94,1445.72 1271.24,1445.58 1281.54,1445.17 1291.84,1444.49 1302.14,1443.54 1312.44,1442.32 1322.74,1440.83 1333.04,1439.06 1343.34,1437.03 1353.64,1434.72 1363.94,1432.14 1374.24,1429.29 1384.54,1426.16 1394.84,1422.77 1405.14,1419.1 1415.44,1415.17 1425.74,1410.96 1436.04,1406.48 1446.34,1401.72 1456.64,1396.7 1466.94,1391.41 1477.24,1385.84 1487.54,1380 1497.84,1373.89 1508.14,1367.51 1518.44,1360.86 1528.74,1353.93 1539.04,1346.74 1549.34,1339.27 1559.64,1331.53 1569.94,1323.52 1580.24,1315.24 1590.54,1306.68 1600.84,1297.86 1611.14,1288.76 1621.44,1279.39 1631.74,1269.75 1642.04,1259.84 1652.34,1249.66 1662.64,1239.2 1672.95,1228.48 1683.25,1217.48 1693.55,1206.21 1703.85,1194.67 1714.15,1182.86 1724.45,1170.77 1734.75,1158.42 1745.05,1145.79 1755.35,1132.89 1765.65,1119.72 1775.95,1106.28 1786.25,1092.57 1796.55,1078.58 1806.85,1064.33 1817.15,1049.8 1827.45,1035 1837.75,1019.93 1848.05,1004.59 1858.35,988.972 1868.65,973.087 1878.95,956.93 1889.25,940.501 1899.55,923.801 1909.85,906.829 1920.15,889.586 1930.45,872.071 1940.75,854.284 1951.05,836.226 1961.35,817.897 1971.65,799.296 1981.95,780.423 1992.25,761.279 2002.55,741.864 2012.85,722.176 2023.15,702.218 2033.45,681.987 2043.75,661.485 2054.05,640.712 2064.35,619.667 2074.65,598.351 2084.95,576.762 2095.25,554.903 2105.55,532.772 2115.85,510.369 2126.15,487.695 2136.45,464.749 2146.75,441.532 2157.05,418.043 2167.35,394.282 2177.65,370.25 2187.95,345.947 2198.25,321.372 2208.55,296.525 2218.85,271.407 2229.15,246.017 2239.45,220.356 2249.75,194.423 2260.05,168.219 2270.35,141.743 2280.65,114.995 2290.95,87.9763 \"/>\n",
       "<polyline clip-path=\"url(#clip152)\" style=\"stroke:#e26f46; stroke-linecap:round; stroke-linejoin:round; stroke-width:4; stroke-opacity:1; fill:none\" points=\"230.922,1174.17 241.222,1176.88 251.523,1179.6 261.823,1182.31 272.123,1185.03 282.423,1187.75 292.723,1190.46 303.023,1193.18 313.324,1195.89 323.624,1198.61 333.924,1201.32 344.224,1204.04 354.524,1206.75 364.824,1209.47 375.125,1212.18 385.425,1214.9 395.725,1217.62 406.025,1220.33 416.325,1223.05 426.625,1225.76 436.926,1228.48 447.226,1231.19 457.526,1233.91 467.826,1236.62 478.126,1239.34 488.426,1242.05 498.727,1244.77 509.027,1247.49 519.327,1250.2 529.627,1252.92 539.927,1255.63 550.227,1258.35 560.528,1261.06 570.828,1263.78 581.128,1266.49 591.428,1269.21 601.728,1271.93 612.028,1274.64 622.328,1277.36 632.629,1280.07 642.929,1282.79 653.229,1285.5 663.529,1288.22 673.829,1290.93 684.129,1293.65 694.43,1296.36 704.73,1299.08 715.03,1301.8 725.33,1304.51 735.63,1307.23 745.93,1309.94 756.231,1312.66 766.531,1315.37 776.831,1318.09 787.131,1320.8 797.431,1323.52 807.731,1326.23 818.032,1328.95 828.332,1331.67 838.632,1334.38 848.932,1337.1 859.232,1339.81 869.532,1342.53 879.833,1345.24 890.133,1347.96 900.433,1350.67 910.733,1353.39 921.033,1356.1 931.333,1358.82 941.634,1361.54 951.934,1364.25 962.234,1366.97 972.534,1369.68 982.834,1372.4 993.134,1375.11 1003.43,1377.83 1013.73,1380.54 1024.03,1383.26 1034.34,1385.98 1044.64,1388.69 1054.94,1391.41 1065.24,1394.12 1075.54,1396.84 1085.84,1399.55 1096.14,1402.27 1106.44,1404.98 1116.74,1407.7 1127.04,1410.41 1137.34,1413.13 1147.64,1415.85 1157.94,1418.56 1168.24,1421.28 1178.54,1423.99 1188.84,1426.71 1199.14,1429.42 1209.44,1432.14 1219.74,1434.85 1230.04,1437.57 1240.34,1440.28 1250.64,1443 1260.94,1445.72 1271.24,1443 1281.54,1440.28 1291.84,1437.57 1302.14,1434.85 1312.44,1432.14 1322.74,1429.42 1333.04,1426.71 1343.34,1423.99 1353.64,1421.28 1363.94,1418.56 1374.24,1415.85 1384.54,1413.13 1394.84,1410.41 1405.14,1407.7 1415.44,1404.98 1425.74,1402.27 1436.04,1399.55 1446.34,1396.84 1456.64,1394.12 1466.94,1391.41 1477.24,1388.69 1487.54,1385.98 1497.84,1383.26 1508.14,1380.54 1518.44,1377.83 1528.74,1375.11 1539.04,1372.4 1549.34,1369.68 1559.64,1366.97 1569.94,1364.25 1580.24,1361.54 1590.54,1358.82 1600.84,1356.1 1611.14,1353.39 1621.44,1350.67 1631.74,1347.96 1642.04,1345.24 1652.34,1342.53 1662.64,1339.81 1672.95,1337.1 1683.25,1334.38 1693.55,1331.67 1703.85,1328.95 1714.15,1326.23 1724.45,1323.52 1734.75,1320.8 1745.05,1318.09 1755.35,1315.37 1765.65,1312.66 1775.95,1309.94 1786.25,1307.23 1796.55,1304.51 1806.85,1301.8 1817.15,1299.08 1827.45,1296.36 1837.75,1293.65 1848.05,1290.93 1858.35,1288.22 1868.65,1285.5 1878.95,1282.79 1889.25,1280.07 1899.55,1277.36 1909.85,1274.64 1920.15,1271.93 1930.45,1269.21 1940.75,1266.49 1951.05,1263.78 1961.35,1261.06 1971.65,1258.35 1981.95,1255.63 1992.25,1252.92 2002.55,1250.2 2012.85,1247.49 2023.15,1244.77 2033.45,1242.05 2043.75,1239.34 2054.05,1236.62 2064.35,1233.91 2074.65,1231.19 2084.95,1228.48 2095.25,1225.76 2105.55,1223.05 2115.85,1220.33 2126.15,1217.62 2136.45,1214.9 2146.75,1212.18 2157.05,1209.47 2167.35,1206.75 2177.65,1204.04 2187.95,1201.32 2198.25,1198.61 2208.55,1195.89 2218.85,1193.18 2229.15,1190.46 2239.45,1187.75 2249.75,1185.03 2260.05,1182.31 2270.35,1179.6 2280.65,1176.88 2290.95,1174.17 \"/>\n",
       "<path clip-path=\"url(#clip150)\" d=\"M1944.87 250.738 L2279.97 250.738 L2279.97 95.2176 L1944.87 95.2176  Z\" fill=\"#ffffff\" fill-rule=\"evenodd\" fill-opacity=\"1\"/>\n",
       "<polyline clip-path=\"url(#clip150)\" style=\"stroke:#000000; stroke-linecap:round; stroke-linejoin:round; stroke-width:4; stroke-opacity:1; fill:none\" points=\"1944.87,250.738 2279.97,250.738 2279.97,95.2176 1944.87,95.2176 1944.87,250.738 \"/>\n",
       "<polyline clip-path=\"url(#clip150)\" style=\"stroke:#009af9; stroke-linecap:round; stroke-linejoin:round; stroke-width:4; stroke-opacity:1; fill:none\" points=\"1969.13,147.058 2114.71,147.058 \"/>\n",
       "<path clip-path=\"url(#clip150)\" d=\"M2155.47 128.319 L2155.47 131.861 L2151.4 131.861 Q2149.11 131.861 2148.21 132.787 Q2147.33 133.713 2147.33 136.12 L2147.33 138.412 L2154.34 138.412 L2154.34 141.722 L2147.33 141.722 L2147.33 164.338 L2143.04 164.338 L2143.04 141.722 L2138.97 141.722 L2138.97 138.412 L2143.04 138.412 L2143.04 136.606 Q2143.04 132.278 2145.06 130.31 Q2147.07 128.319 2151.45 128.319 L2155.47 128.319 Z\" fill=\"#000000\" fill-rule=\"nonzero\" fill-opacity=\"1\" /><polyline clip-path=\"url(#clip150)\" style=\"stroke:#e26f46; stroke-linecap:round; stroke-linejoin:round; stroke-width:4; stroke-opacity:1; fill:none\" points=\"1969.13,198.898 2114.71,198.898 \"/>\n",
       "<path clip-path=\"url(#clip150)\" d=\"M2157.88 194.187 L2157.88 180.159 L2162.14 180.159 L2162.14 216.178 L2157.88 216.178 L2157.88 212.289 Q2156.54 214.603 2154.48 215.738 Q2152.44 216.849 2149.57 216.849 Q2144.87 216.849 2141.91 213.099 Q2138.97 209.349 2138.97 203.238 Q2138.97 197.127 2141.91 193.377 Q2144.87 189.627 2149.57 189.627 Q2152.44 189.627 2154.48 190.761 Q2156.54 191.872 2157.88 194.187 M2143.37 203.238 Q2143.37 207.937 2145.29 210.622 Q2147.23 213.284 2150.61 213.284 Q2153.99 213.284 2155.94 210.622 Q2157.88 207.937 2157.88 203.238 Q2157.88 198.539 2155.94 195.877 Q2153.99 193.192 2150.61 193.192 Q2147.23 193.192 2145.29 195.877 Q2143.37 198.539 2143.37 203.238 Z\" fill=\"#000000\" fill-rule=\"nonzero\" fill-opacity=\"1\" /><path clip-path=\"url(#clip150)\" d=\"M2184.04 180.159 L2184.04 183.701 L2179.97 183.701 Q2177.67 183.701 2176.77 184.627 Q2175.89 185.553 2175.89 187.96 L2175.89 190.252 L2182.9 190.252 L2182.9 193.562 L2175.89 193.562 L2175.89 216.178 L2171.61 216.178 L2171.61 193.562 L2167.53 193.562 L2167.53 190.252 L2171.61 190.252 L2171.61 188.446 Q2171.61 184.118 2173.62 182.15 Q2175.64 180.159 2180.01 180.159 L2184.04 180.159 Z\" fill=\"#000000\" fill-rule=\"nonzero\" fill-opacity=\"1\" /><path clip-path=\"url(#clip150)\" d=\"M2195.17 181.618 L2199.11 181.618 L2187.07 220.576 L2183.14 220.576 L2195.17 181.618 Z\" fill=\"#000000\" fill-rule=\"nonzero\" fill-opacity=\"1\" /><path clip-path=\"url(#clip150)\" d=\"M2220.64 194.187 L2220.64 180.159 L2224.9 180.159 L2224.9 216.178 L2220.64 216.178 L2220.64 212.289 Q2219.29 214.603 2217.23 215.738 Q2215.2 216.849 2212.33 216.849 Q2207.63 216.849 2204.66 213.099 Q2201.72 209.349 2201.72 203.238 Q2201.72 197.127 2204.66 193.377 Q2207.63 189.627 2212.33 189.627 Q2215.2 189.627 2217.23 190.761 Q2219.29 191.872 2220.64 194.187 M2206.12 203.238 Q2206.12 207.937 2208.04 210.622 Q2209.99 213.284 2213.37 213.284 Q2216.75 213.284 2218.69 210.622 Q2220.64 207.937 2220.64 203.238 Q2220.64 198.539 2218.69 195.877 Q2216.75 193.192 2213.37 193.192 Q2209.99 193.192 2208.04 195.877 Q2206.12 198.539 2206.12 203.238 Z\" fill=\"#000000\" fill-rule=\"nonzero\" fill-opacity=\"1\" /><path clip-path=\"url(#clip150)\" d=\"M2255.22 190.252 L2245.84 202.867 L2255.71 216.178 L2250.68 216.178 L2243.14 205.992 L2235.59 216.178 L2230.57 216.178 L2240.64 202.613 L2231.42 190.252 L2236.45 190.252 L2243.32 199.488 L2250.2 190.252 L2255.22 190.252 Z\" fill=\"#000000\" fill-rule=\"nonzero\" fill-opacity=\"1\" /></svg>\n"
      ],
      "text/html": [
       "<?xml version=\"1.0\" encoding=\"utf-8\"?>\n",
       "<svg xmlns=\"http://www.w3.org/2000/svg\" xmlns:xlink=\"http://www.w3.org/1999/xlink\" width=\"600\" height=\"400\" viewBox=\"0 0 2400 1600\">\n",
       "<defs>\n",
       "  <clipPath id=\"clip200\">\n",
       "    <rect x=\"0\" y=\"0\" width=\"2400\" height=\"1600\"/>\n",
       "  </clipPath>\n",
       "</defs>\n",
       "<path clip-path=\"url(#clip200)\" d=\"M0 1600 L2400 1600 L2400 8.88178e-14 L0 8.88178e-14  Z\" fill=\"#ffffff\" fill-rule=\"evenodd\" fill-opacity=\"1\"/>\n",
       "<defs>\n",
       "  <clipPath id=\"clip201\">\n",
       "    <rect x=\"480\" y=\"0\" width=\"1681\" height=\"1600\"/>\n",
       "  </clipPath>\n",
       "</defs>\n",
       "<path clip-path=\"url(#clip200)\" d=\"M169.121 1486.45 L2352.76 1486.45 L2352.76 47.2441 L169.121 47.2441  Z\" fill=\"#ffffff\" fill-rule=\"evenodd\" fill-opacity=\"1\"/>\n",
       "<defs>\n",
       "  <clipPath id=\"clip202\">\n",
       "    <rect x=\"169\" y=\"47\" width=\"2185\" height=\"1440\"/>\n",
       "  </clipPath>\n",
       "</defs>\n",
       "<polyline clip-path=\"url(#clip202)\" style=\"stroke:#000000; stroke-linecap:round; stroke-linejoin:round; stroke-width:2; stroke-opacity:0.1; fill:none\" points=\"230.922,1486.45 230.922,47.2441 \"/>\n",
       "<polyline clip-path=\"url(#clip202)\" style=\"stroke:#000000; stroke-linecap:round; stroke-linejoin:round; stroke-width:2; stroke-opacity:0.1; fill:none\" points=\"745.93,1486.45 745.93,47.2441 \"/>\n",
       "<polyline clip-path=\"url(#clip202)\" style=\"stroke:#000000; stroke-linecap:round; stroke-linejoin:round; stroke-width:2; stroke-opacity:0.1; fill:none\" points=\"1260.94,1486.45 1260.94,47.2441 \"/>\n",
       "<polyline clip-path=\"url(#clip202)\" style=\"stroke:#000000; stroke-linecap:round; stroke-linejoin:round; stroke-width:2; stroke-opacity:0.1; fill:none\" points=\"1775.95,1486.45 1775.95,47.2441 \"/>\n",
       "<polyline clip-path=\"url(#clip202)\" style=\"stroke:#000000; stroke-linecap:round; stroke-linejoin:round; stroke-width:2; stroke-opacity:0.1; fill:none\" points=\"2290.95,1486.45 2290.95,47.2441 \"/>\n",
       "<polyline clip-path=\"url(#clip200)\" style=\"stroke:#000000; stroke-linecap:round; stroke-linejoin:round; stroke-width:4; stroke-opacity:1; fill:none\" points=\"169.121,1486.45 2352.76,1486.45 \"/>\n",
       "<polyline clip-path=\"url(#clip200)\" style=\"stroke:#000000; stroke-linecap:round; stroke-linejoin:round; stroke-width:4; stroke-opacity:1; fill:none\" points=\"230.922,1486.45 230.922,1467.55 \"/>\n",
       "<polyline clip-path=\"url(#clip200)\" style=\"stroke:#000000; stroke-linecap:round; stroke-linejoin:round; stroke-width:4; stroke-opacity:1; fill:none\" points=\"745.93,1486.45 745.93,1467.55 \"/>\n",
       "<polyline clip-path=\"url(#clip200)\" style=\"stroke:#000000; stroke-linecap:round; stroke-linejoin:round; stroke-width:4; stroke-opacity:1; fill:none\" points=\"1260.94,1486.45 1260.94,1467.55 \"/>\n",
       "<polyline clip-path=\"url(#clip200)\" style=\"stroke:#000000; stroke-linecap:round; stroke-linejoin:round; stroke-width:4; stroke-opacity:1; fill:none\" points=\"1775.95,1486.45 1775.95,1467.55 \"/>\n",
       "<polyline clip-path=\"url(#clip200)\" style=\"stroke:#000000; stroke-linecap:round; stroke-linejoin:round; stroke-width:4; stroke-opacity:1; fill:none\" points=\"2290.95,1486.45 2290.95,1467.55 \"/>\n",
       "<path clip-path=\"url(#clip200)\" d=\"M184.985 1532.02 L214.661 1532.02 L214.661 1535.95 L184.985 1535.95 L184.985 1532.02 Z\" fill=\"#000000\" fill-rule=\"nonzero\" fill-opacity=\"1\" /><path clip-path=\"url(#clip200)\" d=\"M225.564 1544.91 L233.202 1544.91 L233.202 1518.55 L224.892 1520.21 L224.892 1515.95 L233.156 1514.29 L237.832 1514.29 L237.832 1544.91 L245.471 1544.91 L245.471 1548.85 L225.564 1548.85 L225.564 1544.91 Z\" fill=\"#000000\" fill-rule=\"nonzero\" fill-opacity=\"1\" /><path clip-path=\"url(#clip200)\" d=\"M264.915 1517.37 Q261.304 1517.37 259.475 1520.93 Q257.67 1524.47 257.67 1531.6 Q257.67 1538.71 259.475 1542.27 Q261.304 1545.82 264.915 1545.82 Q268.549 1545.82 270.355 1542.27 Q272.184 1538.71 272.184 1531.6 Q272.184 1524.47 270.355 1520.93 Q268.549 1517.37 264.915 1517.37 M264.915 1513.66 Q270.725 1513.66 273.781 1518.27 Q276.86 1522.85 276.86 1531.6 Q276.86 1540.33 273.781 1544.94 Q270.725 1549.52 264.915 1549.52 Q259.105 1549.52 256.026 1544.94 Q252.971 1540.33 252.971 1531.6 Q252.971 1522.85 256.026 1518.27 Q259.105 1513.66 264.915 1513.66 Z\" fill=\"#000000\" fill-rule=\"nonzero\" fill-opacity=\"1\" /><path clip-path=\"url(#clip200)\" d=\"M715.572 1532.02 L745.248 1532.02 L745.248 1535.95 L715.572 1535.95 L715.572 1532.02 Z\" fill=\"#000000\" fill-rule=\"nonzero\" fill-opacity=\"1\" /><path clip-path=\"url(#clip200)\" d=\"M755.386 1514.29 L773.743 1514.29 L773.743 1518.22 L759.669 1518.22 L759.669 1526.7 Q760.687 1526.35 761.706 1526.19 Q762.724 1526 763.743 1526 Q769.53 1526 772.909 1529.17 Q776.289 1532.34 776.289 1537.76 Q776.289 1543.34 772.817 1546.44 Q769.345 1549.52 763.025 1549.52 Q760.849 1549.52 758.581 1549.15 Q756.335 1548.78 753.928 1548.04 L753.928 1543.34 Q756.011 1544.47 758.234 1545.03 Q760.456 1545.58 762.933 1545.58 Q766.937 1545.58 769.275 1543.48 Q771.613 1541.37 771.613 1537.76 Q771.613 1534.15 769.275 1532.04 Q766.937 1529.94 762.933 1529.94 Q761.058 1529.94 759.183 1530.35 Q757.331 1530.77 755.386 1531.65 L755.386 1514.29 Z\" fill=\"#000000\" fill-rule=\"nonzero\" fill-opacity=\"1\" /><path clip-path=\"url(#clip200)\" d=\"M1260.94 1517.37 Q1257.33 1517.37 1255.5 1520.93 Q1253.69 1524.47 1253.69 1531.6 Q1253.69 1538.71 1255.5 1542.27 Q1257.33 1545.82 1260.94 1545.82 Q1264.57 1545.82 1266.38 1542.27 Q1268.21 1538.71 1268.21 1531.6 Q1268.21 1524.47 1266.38 1520.93 Q1264.57 1517.37 1260.94 1517.37 M1260.94 1513.66 Q1266.75 1513.66 1269.8 1518.27 Q1272.88 1522.85 1272.88 1531.6 Q1272.88 1540.33 1269.8 1544.94 Q1266.75 1549.52 1260.94 1549.52 Q1255.13 1549.52 1252.05 1544.94 Q1248.99 1540.33 1248.99 1531.6 Q1248.99 1522.85 1252.05 1518.27 Q1255.13 1513.66 1260.94 1513.66 Z\" fill=\"#000000\" fill-rule=\"nonzero\" fill-opacity=\"1\" /><path clip-path=\"url(#clip200)\" d=\"M1766.22 1514.29 L1784.58 1514.29 L1784.58 1518.22 L1770.51 1518.22 L1770.51 1526.7 Q1771.53 1526.35 1772.54 1526.19 Q1773.56 1526 1774.58 1526 Q1780.37 1526 1783.75 1529.17 Q1787.13 1532.34 1787.13 1537.76 Q1787.13 1543.34 1783.66 1546.44 Q1780.18 1549.52 1773.86 1549.52 Q1771.69 1549.52 1769.42 1549.15 Q1767.17 1548.78 1764.77 1548.04 L1764.77 1543.34 Q1766.85 1544.47 1769.07 1545.03 Q1771.29 1545.58 1773.77 1545.58 Q1777.78 1545.58 1780.11 1543.48 Q1782.45 1541.37 1782.45 1537.76 Q1782.45 1534.15 1780.11 1532.04 Q1777.78 1529.94 1773.77 1529.94 Q1771.9 1529.94 1770.02 1530.35 Q1768.17 1530.77 1766.22 1531.65 L1766.22 1514.29 Z\" fill=\"#000000\" fill-rule=\"nonzero\" fill-opacity=\"1\" /><path clip-path=\"url(#clip200)\" d=\"M2265.64 1544.91 L2273.28 1544.91 L2273.28 1518.55 L2264.97 1520.21 L2264.97 1515.95 L2273.24 1514.29 L2277.91 1514.29 L2277.91 1544.91 L2285.55 1544.91 L2285.55 1548.85 L2265.64 1548.85 L2265.64 1544.91 Z\" fill=\"#000000\" fill-rule=\"nonzero\" fill-opacity=\"1\" /><path clip-path=\"url(#clip200)\" d=\"M2304.99 1517.37 Q2301.38 1517.37 2299.55 1520.93 Q2297.75 1524.47 2297.75 1531.6 Q2297.75 1538.71 2299.55 1542.27 Q2301.38 1545.82 2304.99 1545.82 Q2308.63 1545.82 2310.43 1542.27 Q2312.26 1538.71 2312.26 1531.6 Q2312.26 1524.47 2310.43 1520.93 Q2308.63 1517.37 2304.99 1517.37 M2304.99 1513.66 Q2310.8 1513.66 2313.86 1518.27 Q2316.94 1522.85 2316.94 1531.6 Q2316.94 1540.33 2313.86 1544.94 Q2310.8 1549.52 2304.99 1549.52 Q2299.18 1549.52 2296.11 1544.94 Q2293.05 1540.33 2293.05 1531.6 Q2293.05 1522.85 2296.11 1518.27 Q2299.18 1513.66 2304.99 1513.66 Z\" fill=\"#000000\" fill-rule=\"nonzero\" fill-opacity=\"1\" /><polyline clip-path=\"url(#clip202)\" style=\"stroke:#000000; stroke-linecap:round; stroke-linejoin:round; stroke-width:2; stroke-opacity:0.1; fill:none\" points=\"169.121,1445.72 2352.76,1445.72 \"/>\n",
       "<polyline clip-path=\"url(#clip202)\" style=\"stroke:#000000; stroke-linecap:round; stroke-linejoin:round; stroke-width:2; stroke-opacity:0.1; fill:none\" points=\"169.121,1106.28 2352.76,1106.28 \"/>\n",
       "<polyline clip-path=\"url(#clip202)\" style=\"stroke:#000000; stroke-linecap:round; stroke-linejoin:round; stroke-width:2; stroke-opacity:0.1; fill:none\" points=\"169.121,766.846 2352.76,766.846 \"/>\n",
       "<polyline clip-path=\"url(#clip202)\" style=\"stroke:#000000; stroke-linecap:round; stroke-linejoin:round; stroke-width:2; stroke-opacity:0.1; fill:none\" points=\"169.121,427.411 2352.76,427.411 \"/>\n",
       "<polyline clip-path=\"url(#clip202)\" style=\"stroke:#000000; stroke-linecap:round; stroke-linejoin:round; stroke-width:2; stroke-opacity:0.1; fill:none\" points=\"169.121,87.9763 2352.76,87.9763 \"/>\n",
       "<polyline clip-path=\"url(#clip200)\" style=\"stroke:#000000; stroke-linecap:round; stroke-linejoin:round; stroke-width:4; stroke-opacity:1; fill:none\" points=\"169.121,1486.45 169.121,47.2441 \"/>\n",
       "<polyline clip-path=\"url(#clip200)\" style=\"stroke:#000000; stroke-linecap:round; stroke-linejoin:round; stroke-width:4; stroke-opacity:1; fill:none\" points=\"169.121,1445.72 188.019,1445.72 \"/>\n",
       "<polyline clip-path=\"url(#clip200)\" style=\"stroke:#000000; stroke-linecap:round; stroke-linejoin:round; stroke-width:4; stroke-opacity:1; fill:none\" points=\"169.121,1106.28 188.019,1106.28 \"/>\n",
       "<polyline clip-path=\"url(#clip200)\" style=\"stroke:#000000; stroke-linecap:round; stroke-linejoin:round; stroke-width:4; stroke-opacity:1; fill:none\" points=\"169.121,766.846 188.019,766.846 \"/>\n",
       "<polyline clip-path=\"url(#clip200)\" style=\"stroke:#000000; stroke-linecap:round; stroke-linejoin:round; stroke-width:4; stroke-opacity:1; fill:none\" points=\"169.121,427.411 188.019,427.411 \"/>\n",
       "<polyline clip-path=\"url(#clip200)\" style=\"stroke:#000000; stroke-linecap:round; stroke-linejoin:round; stroke-width:4; stroke-opacity:1; fill:none\" points=\"169.121,87.9763 188.019,87.9763 \"/>\n",
       "<path clip-path=\"url(#clip200)\" d=\"M121.177 1431.51 Q117.566 1431.51 115.737 1435.08 Q113.932 1438.62 113.932 1445.75 Q113.932 1452.86 115.737 1456.42 Q117.566 1459.96 121.177 1459.96 Q124.811 1459.96 126.617 1456.42 Q128.445 1452.86 128.445 1445.75 Q128.445 1438.62 126.617 1435.08 Q124.811 1431.51 121.177 1431.51 M121.177 1427.81 Q126.987 1427.81 130.043 1432.42 Q133.121 1437 133.121 1445.75 Q133.121 1454.48 130.043 1459.08 Q126.987 1463.67 121.177 1463.67 Q115.367 1463.67 112.288 1459.08 Q109.233 1454.48 109.233 1445.75 Q109.233 1437 112.288 1432.42 Q115.367 1427.81 121.177 1427.81 Z\" fill=\"#000000\" fill-rule=\"nonzero\" fill-opacity=\"1\" /><path clip-path=\"url(#clip200)\" d=\"M86.0382 1119.63 L102.358 1119.63 L102.358 1123.56 L80.4133 1123.56 L80.4133 1119.63 Q83.0753 1116.87 87.6586 1112.24 Q92.2651 1107.59 93.4456 1106.25 Q95.691 1103.72 96.5706 1101.99 Q97.4734 1100.23 97.4734 1098.54 Q97.4734 1095.78 95.5289 1094.05 Q93.6076 1092.31 90.5058 1092.31 Q88.3067 1092.31 85.8531 1093.07 Q83.4225 1093.84 80.6447 1095.39 L80.6447 1090.67 Q83.4688 1089.53 85.9225 1088.95 Q88.3762 1088.38 90.4132 1088.38 Q95.7836 1088.38 98.978 1091.06 Q102.172 1093.75 102.172 1098.24 Q102.172 1100.37 101.362 1102.29 Q100.575 1104.19 98.4687 1106.78 Q97.89 1107.45 94.7882 1110.67 Q91.6864 1113.86 86.0382 1119.63 Z\" fill=\"#000000\" fill-rule=\"nonzero\" fill-opacity=\"1\" /><path clip-path=\"url(#clip200)\" d=\"M112.219 1089 L130.575 1089 L130.575 1092.94 L116.501 1092.94 L116.501 1101.41 Q117.52 1101.06 118.538 1100.9 Q119.557 1100.71 120.575 1100.71 Q126.362 1100.71 129.742 1103.89 Q133.121 1107.06 133.121 1112.47 Q133.121 1118.05 129.649 1121.15 Q126.177 1124.23 119.857 1124.23 Q117.682 1124.23 115.413 1123.86 Q113.168 1123.49 110.76 1122.75 L110.76 1118.05 Q112.844 1119.19 115.066 1119.74 Q117.288 1120.3 119.765 1120.3 Q123.77 1120.3 126.107 1118.19 Q128.445 1116.08 128.445 1112.47 Q128.445 1108.86 126.107 1106.76 Q123.77 1104.65 119.765 1104.65 Q117.89 1104.65 116.015 1105.07 Q114.163 1105.48 112.219 1106.36 L112.219 1089 Z\" fill=\"#000000\" fill-rule=\"nonzero\" fill-opacity=\"1\" /><path clip-path=\"url(#clip200)\" d=\"M81.0614 749.566 L99.4178 749.566 L99.4178 753.501 L85.3438 753.501 L85.3438 761.973 Q86.3623 761.626 87.3808 761.464 Q88.3993 761.279 89.4178 761.279 Q95.2049 761.279 98.5845 764.45 Q101.964 767.621 101.964 773.038 Q101.964 778.617 98.4919 781.719 Q95.0197 784.797 88.7003 784.797 Q86.5243 784.797 84.2558 784.427 Q82.0105 784.057 79.6031 783.316 L79.6031 778.617 Q81.6864 779.751 83.9086 780.307 Q86.1308 780.862 88.6077 780.862 Q92.6123 780.862 94.9502 778.756 Q97.2882 776.649 97.2882 773.038 Q97.2882 769.427 94.9502 767.321 Q92.6123 765.214 88.6077 765.214 Q86.7327 765.214 84.8577 765.631 Q83.0058 766.047 81.0614 766.927 L81.0614 749.566 Z\" fill=\"#000000\" fill-rule=\"nonzero\" fill-opacity=\"1\" /><path clip-path=\"url(#clip200)\" d=\"M121.177 752.645 Q117.566 752.645 115.737 756.209 Q113.932 759.751 113.932 766.881 Q113.932 773.987 115.737 777.552 Q117.566 781.094 121.177 781.094 Q124.811 781.094 126.617 777.552 Q128.445 773.987 128.445 766.881 Q128.445 759.751 126.617 756.209 Q124.811 752.645 121.177 752.645 M121.177 748.941 Q126.987 748.941 130.043 753.547 Q133.121 758.131 133.121 766.881 Q133.121 775.608 130.043 780.214 Q126.987 784.797 121.177 784.797 Q115.367 784.797 112.288 780.214 Q109.233 775.608 109.233 766.881 Q109.233 758.131 112.288 753.547 Q115.367 748.941 121.177 748.941 Z\" fill=\"#000000\" fill-rule=\"nonzero\" fill-opacity=\"1\" /><path clip-path=\"url(#clip200)\" d=\"M80.8299 410.131 L103.052 410.131 L103.052 412.122 L90.5058 444.691 L85.6216 444.691 L97.4271 414.066 L80.8299 414.066 L80.8299 410.131 Z\" fill=\"#000000\" fill-rule=\"nonzero\" fill-opacity=\"1\" /><path clip-path=\"url(#clip200)\" d=\"M112.219 410.131 L130.575 410.131 L130.575 414.066 L116.501 414.066 L116.501 422.538 Q117.52 422.191 118.538 422.029 Q119.557 421.844 120.575 421.844 Q126.362 421.844 129.742 425.015 Q133.121 428.187 133.121 433.603 Q133.121 439.182 129.649 442.284 Q126.177 445.362 119.857 445.362 Q117.682 445.362 115.413 444.992 Q113.168 444.622 110.76 443.881 L110.76 439.182 Q112.844 440.316 115.066 440.872 Q117.288 441.427 119.765 441.427 Q123.77 441.427 126.107 439.321 Q128.445 437.214 128.445 433.603 Q128.445 429.992 126.107 427.886 Q123.77 425.779 119.765 425.779 Q117.89 425.779 116.015 426.196 Q114.163 426.613 112.219 427.492 L112.219 410.131 Z\" fill=\"#000000\" fill-rule=\"nonzero\" fill-opacity=\"1\" /><path clip-path=\"url(#clip200)\" d=\"M51.6634 101.321 L59.3023 101.321 L59.3023 74.9555 L50.9921 76.6222 L50.9921 72.3629 L59.256 70.6963 L63.9319 70.6963 L63.9319 101.321 L71.5707 101.321 L71.5707 105.256 L51.6634 105.256 L51.6634 101.321 Z\" fill=\"#000000\" fill-rule=\"nonzero\" fill-opacity=\"1\" /><path clip-path=\"url(#clip200)\" d=\"M91.0151 73.775 Q87.404 73.775 85.5753 77.3398 Q83.7697 80.8814 83.7697 88.011 Q83.7697 95.1174 85.5753 98.6822 Q87.404 102.224 91.0151 102.224 Q94.6493 102.224 96.4548 98.6822 Q98.2835 95.1174 98.2835 88.011 Q98.2835 80.8814 96.4548 77.3398 Q94.6493 73.775 91.0151 73.775 M91.0151 70.0713 Q96.8252 70.0713 99.8808 74.6777 Q102.959 79.261 102.959 88.011 Q102.959 96.7378 99.8808 101.344 Q96.8252 105.928 91.0151 105.928 Q85.2049 105.928 82.1262 101.344 Q79.0707 96.7378 79.0707 88.011 Q79.0707 79.261 82.1262 74.6777 Q85.2049 70.0713 91.0151 70.0713 Z\" fill=\"#000000\" fill-rule=\"nonzero\" fill-opacity=\"1\" /><path clip-path=\"url(#clip200)\" d=\"M121.177 73.775 Q117.566 73.775 115.737 77.3398 Q113.932 80.8814 113.932 88.011 Q113.932 95.1174 115.737 98.6822 Q117.566 102.224 121.177 102.224 Q124.811 102.224 126.617 98.6822 Q128.445 95.1174 128.445 88.011 Q128.445 80.8814 126.617 77.3398 Q124.811 73.775 121.177 73.775 M121.177 70.0713 Q126.987 70.0713 130.043 74.6777 Q133.121 79.261 133.121 88.011 Q133.121 96.7378 130.043 101.344 Q126.987 105.928 121.177 105.928 Q115.367 105.928 112.288 101.344 Q109.233 96.7378 109.233 88.011 Q109.233 79.261 112.288 74.6777 Q115.367 70.0713 121.177 70.0713 Z\" fill=\"#000000\" fill-rule=\"nonzero\" fill-opacity=\"1\" /><polyline clip-path=\"url(#clip202)\" style=\"stroke:#009af9; stroke-linecap:round; stroke-linejoin:round; stroke-width:4; stroke-opacity:1; fill:none\" points=\"230.922,87.9763 241.222,114.995 251.523,141.743 261.823,168.219 272.123,194.423 282.423,220.356 292.723,246.017 303.023,271.407 313.324,296.525 323.624,321.372 333.924,345.947 344.224,370.25 354.524,394.282 364.824,418.043 375.125,441.532 385.425,464.749 395.725,487.695 406.025,510.369 416.325,532.772 426.625,554.903 436.926,576.762 447.226,598.351 457.526,619.667 467.826,640.712 478.126,661.485 488.426,681.987 498.727,702.218 509.027,722.176 519.327,741.864 529.627,761.279 539.927,780.423 550.227,799.296 560.528,817.897 570.828,836.226 581.128,854.284 591.428,872.071 601.728,889.586 612.028,906.829 622.328,923.801 632.629,940.501 642.929,956.93 653.229,973.087 663.529,988.972 673.829,1004.59 684.129,1019.93 694.43,1035 704.73,1049.8 715.03,1064.33 725.33,1078.58 735.63,1092.57 745.93,1106.28 756.231,1119.72 766.531,1132.89 776.831,1145.79 787.131,1158.42 797.431,1170.77 807.731,1182.86 818.032,1194.67 828.332,1206.21 838.632,1217.48 848.932,1228.48 859.232,1239.2 869.532,1249.66 879.833,1259.84 890.133,1269.75 900.433,1279.39 910.733,1288.76 921.033,1297.86 931.333,1306.68 941.634,1315.24 951.934,1323.52 962.234,1331.53 972.534,1339.27 982.834,1346.74 993.134,1353.93 1003.43,1360.86 1013.73,1367.51 1024.03,1373.89 1034.34,1380 1044.64,1385.84 1054.94,1391.41 1065.24,1396.7 1075.54,1401.72 1085.84,1406.48 1096.14,1410.96 1106.44,1415.17 1116.74,1419.1 1127.04,1422.77 1137.34,1426.16 1147.64,1429.29 1157.94,1432.14 1168.24,1434.72 1178.54,1437.03 1188.84,1439.06 1199.14,1440.83 1209.44,1442.32 1219.74,1443.54 1230.04,1444.49 1240.34,1445.17 1250.64,1445.58 1260.94,1445.72 1271.24,1445.58 1281.54,1445.17 1291.84,1444.49 1302.14,1443.54 1312.44,1442.32 1322.74,1440.83 1333.04,1439.06 1343.34,1437.03 1353.64,1434.72 1363.94,1432.14 1374.24,1429.29 1384.54,1426.16 1394.84,1422.77 1405.14,1419.1 1415.44,1415.17 1425.74,1410.96 1436.04,1406.48 1446.34,1401.72 1456.64,1396.7 1466.94,1391.41 1477.24,1385.84 1487.54,1380 1497.84,1373.89 1508.14,1367.51 1518.44,1360.86 1528.74,1353.93 1539.04,1346.74 1549.34,1339.27 1559.64,1331.53 1569.94,1323.52 1580.24,1315.24 1590.54,1306.68 1600.84,1297.86 1611.14,1288.76 1621.44,1279.39 1631.74,1269.75 1642.04,1259.84 1652.34,1249.66 1662.64,1239.2 1672.95,1228.48 1683.25,1217.48 1693.55,1206.21 1703.85,1194.67 1714.15,1182.86 1724.45,1170.77 1734.75,1158.42 1745.05,1145.79 1755.35,1132.89 1765.65,1119.72 1775.95,1106.28 1786.25,1092.57 1796.55,1078.58 1806.85,1064.33 1817.15,1049.8 1827.45,1035 1837.75,1019.93 1848.05,1004.59 1858.35,988.972 1868.65,973.087 1878.95,956.93 1889.25,940.501 1899.55,923.801 1909.85,906.829 1920.15,889.586 1930.45,872.071 1940.75,854.284 1951.05,836.226 1961.35,817.897 1971.65,799.296 1981.95,780.423 1992.25,761.279 2002.55,741.864 2012.85,722.176 2023.15,702.218 2033.45,681.987 2043.75,661.485 2054.05,640.712 2064.35,619.667 2074.65,598.351 2084.95,576.762 2095.25,554.903 2105.55,532.772 2115.85,510.369 2126.15,487.695 2136.45,464.749 2146.75,441.532 2157.05,418.043 2167.35,394.282 2177.65,370.25 2187.95,345.947 2198.25,321.372 2208.55,296.525 2218.85,271.407 2229.15,246.017 2239.45,220.356 2249.75,194.423 2260.05,168.219 2270.35,141.743 2280.65,114.995 2290.95,87.9763 \"/>\n",
       "<polyline clip-path=\"url(#clip202)\" style=\"stroke:#e26f46; stroke-linecap:round; stroke-linejoin:round; stroke-width:4; stroke-opacity:1; fill:none\" points=\"230.922,1174.17 241.222,1176.88 251.523,1179.6 261.823,1182.31 272.123,1185.03 282.423,1187.75 292.723,1190.46 303.023,1193.18 313.324,1195.89 323.624,1198.61 333.924,1201.32 344.224,1204.04 354.524,1206.75 364.824,1209.47 375.125,1212.18 385.425,1214.9 395.725,1217.62 406.025,1220.33 416.325,1223.05 426.625,1225.76 436.926,1228.48 447.226,1231.19 457.526,1233.91 467.826,1236.62 478.126,1239.34 488.426,1242.05 498.727,1244.77 509.027,1247.49 519.327,1250.2 529.627,1252.92 539.927,1255.63 550.227,1258.35 560.528,1261.06 570.828,1263.78 581.128,1266.49 591.428,1269.21 601.728,1271.93 612.028,1274.64 622.328,1277.36 632.629,1280.07 642.929,1282.79 653.229,1285.5 663.529,1288.22 673.829,1290.93 684.129,1293.65 694.43,1296.36 704.73,1299.08 715.03,1301.8 725.33,1304.51 735.63,1307.23 745.93,1309.94 756.231,1312.66 766.531,1315.37 776.831,1318.09 787.131,1320.8 797.431,1323.52 807.731,1326.23 818.032,1328.95 828.332,1331.67 838.632,1334.38 848.932,1337.1 859.232,1339.81 869.532,1342.53 879.833,1345.24 890.133,1347.96 900.433,1350.67 910.733,1353.39 921.033,1356.1 931.333,1358.82 941.634,1361.54 951.934,1364.25 962.234,1366.97 972.534,1369.68 982.834,1372.4 993.134,1375.11 1003.43,1377.83 1013.73,1380.54 1024.03,1383.26 1034.34,1385.98 1044.64,1388.69 1054.94,1391.41 1065.24,1394.12 1075.54,1396.84 1085.84,1399.55 1096.14,1402.27 1106.44,1404.98 1116.74,1407.7 1127.04,1410.41 1137.34,1413.13 1147.64,1415.85 1157.94,1418.56 1168.24,1421.28 1178.54,1423.99 1188.84,1426.71 1199.14,1429.42 1209.44,1432.14 1219.74,1434.85 1230.04,1437.57 1240.34,1440.28 1250.64,1443 1260.94,1445.72 1271.24,1443 1281.54,1440.28 1291.84,1437.57 1302.14,1434.85 1312.44,1432.14 1322.74,1429.42 1333.04,1426.71 1343.34,1423.99 1353.64,1421.28 1363.94,1418.56 1374.24,1415.85 1384.54,1413.13 1394.84,1410.41 1405.14,1407.7 1415.44,1404.98 1425.74,1402.27 1436.04,1399.55 1446.34,1396.84 1456.64,1394.12 1466.94,1391.41 1477.24,1388.69 1487.54,1385.98 1497.84,1383.26 1508.14,1380.54 1518.44,1377.83 1528.74,1375.11 1539.04,1372.4 1549.34,1369.68 1559.64,1366.97 1569.94,1364.25 1580.24,1361.54 1590.54,1358.82 1600.84,1356.1 1611.14,1353.39 1621.44,1350.67 1631.74,1347.96 1642.04,1345.24 1652.34,1342.53 1662.64,1339.81 1672.95,1337.1 1683.25,1334.38 1693.55,1331.67 1703.85,1328.95 1714.15,1326.23 1724.45,1323.52 1734.75,1320.8 1745.05,1318.09 1755.35,1315.37 1765.65,1312.66 1775.95,1309.94 1786.25,1307.23 1796.55,1304.51 1806.85,1301.8 1817.15,1299.08 1827.45,1296.36 1837.75,1293.65 1848.05,1290.93 1858.35,1288.22 1868.65,1285.5 1878.95,1282.79 1889.25,1280.07 1899.55,1277.36 1909.85,1274.64 1920.15,1271.93 1930.45,1269.21 1940.75,1266.49 1951.05,1263.78 1961.35,1261.06 1971.65,1258.35 1981.95,1255.63 1992.25,1252.92 2002.55,1250.2 2012.85,1247.49 2023.15,1244.77 2033.45,1242.05 2043.75,1239.34 2054.05,1236.62 2064.35,1233.91 2074.65,1231.19 2084.95,1228.48 2095.25,1225.76 2105.55,1223.05 2115.85,1220.33 2126.15,1217.62 2136.45,1214.9 2146.75,1212.18 2157.05,1209.47 2167.35,1206.75 2177.65,1204.04 2187.95,1201.32 2198.25,1198.61 2208.55,1195.89 2218.85,1193.18 2229.15,1190.46 2239.45,1187.75 2249.75,1185.03 2260.05,1182.31 2270.35,1179.6 2280.65,1176.88 2290.95,1174.17 \"/>\n",
       "<path clip-path=\"url(#clip200)\" d=\"M1944.87 250.738 L2279.97 250.738 L2279.97 95.2176 L1944.87 95.2176  Z\" fill=\"#ffffff\" fill-rule=\"evenodd\" fill-opacity=\"1\"/>\n",
       "<polyline clip-path=\"url(#clip200)\" style=\"stroke:#000000; stroke-linecap:round; stroke-linejoin:round; stroke-width:4; stroke-opacity:1; fill:none\" points=\"1944.87,250.738 2279.97,250.738 2279.97,95.2176 1944.87,95.2176 1944.87,250.738 \"/>\n",
       "<polyline clip-path=\"url(#clip200)\" style=\"stroke:#009af9; stroke-linecap:round; stroke-linejoin:round; stroke-width:4; stroke-opacity:1; fill:none\" points=\"1969.13,147.058 2114.71,147.058 \"/>\n",
       "<path clip-path=\"url(#clip200)\" d=\"M2155.47 128.319 L2155.47 131.861 L2151.4 131.861 Q2149.11 131.861 2148.21 132.787 Q2147.33 133.713 2147.33 136.12 L2147.33 138.412 L2154.34 138.412 L2154.34 141.722 L2147.33 141.722 L2147.33 164.338 L2143.04 164.338 L2143.04 141.722 L2138.97 141.722 L2138.97 138.412 L2143.04 138.412 L2143.04 136.606 Q2143.04 132.278 2145.06 130.31 Q2147.07 128.319 2151.45 128.319 L2155.47 128.319 Z\" fill=\"#000000\" fill-rule=\"nonzero\" fill-opacity=\"1\" /><polyline clip-path=\"url(#clip200)\" style=\"stroke:#e26f46; stroke-linecap:round; stroke-linejoin:round; stroke-width:4; stroke-opacity:1; fill:none\" points=\"1969.13,198.898 2114.71,198.898 \"/>\n",
       "<path clip-path=\"url(#clip200)\" d=\"M2157.88 194.187 L2157.88 180.159 L2162.14 180.159 L2162.14 216.178 L2157.88 216.178 L2157.88 212.289 Q2156.54 214.603 2154.48 215.738 Q2152.44 216.849 2149.57 216.849 Q2144.87 216.849 2141.91 213.099 Q2138.97 209.349 2138.97 203.238 Q2138.97 197.127 2141.91 193.377 Q2144.87 189.627 2149.57 189.627 Q2152.44 189.627 2154.48 190.761 Q2156.54 191.872 2157.88 194.187 M2143.37 203.238 Q2143.37 207.937 2145.29 210.622 Q2147.23 213.284 2150.61 213.284 Q2153.99 213.284 2155.94 210.622 Q2157.88 207.937 2157.88 203.238 Q2157.88 198.539 2155.94 195.877 Q2153.99 193.192 2150.61 193.192 Q2147.23 193.192 2145.29 195.877 Q2143.37 198.539 2143.37 203.238 Z\" fill=\"#000000\" fill-rule=\"nonzero\" fill-opacity=\"1\" /><path clip-path=\"url(#clip200)\" d=\"M2184.04 180.159 L2184.04 183.701 L2179.97 183.701 Q2177.67 183.701 2176.77 184.627 Q2175.89 185.553 2175.89 187.96 L2175.89 190.252 L2182.9 190.252 L2182.9 193.562 L2175.89 193.562 L2175.89 216.178 L2171.61 216.178 L2171.61 193.562 L2167.53 193.562 L2167.53 190.252 L2171.61 190.252 L2171.61 188.446 Q2171.61 184.118 2173.62 182.15 Q2175.64 180.159 2180.01 180.159 L2184.04 180.159 Z\" fill=\"#000000\" fill-rule=\"nonzero\" fill-opacity=\"1\" /><path clip-path=\"url(#clip200)\" d=\"M2195.17 181.618 L2199.11 181.618 L2187.07 220.576 L2183.14 220.576 L2195.17 181.618 Z\" fill=\"#000000\" fill-rule=\"nonzero\" fill-opacity=\"1\" /><path clip-path=\"url(#clip200)\" d=\"M2220.64 194.187 L2220.64 180.159 L2224.9 180.159 L2224.9 216.178 L2220.64 216.178 L2220.64 212.289 Q2219.29 214.603 2217.23 215.738 Q2215.2 216.849 2212.33 216.849 Q2207.63 216.849 2204.66 213.099 Q2201.72 209.349 2201.72 203.238 Q2201.72 197.127 2204.66 193.377 Q2207.63 189.627 2212.33 189.627 Q2215.2 189.627 2217.23 190.761 Q2219.29 191.872 2220.64 194.187 M2206.12 203.238 Q2206.12 207.937 2208.04 210.622 Q2209.99 213.284 2213.37 213.284 Q2216.75 213.284 2218.69 210.622 Q2220.64 207.937 2220.64 203.238 Q2220.64 198.539 2218.69 195.877 Q2216.75 193.192 2213.37 193.192 Q2209.99 193.192 2208.04 195.877 Q2206.12 198.539 2206.12 203.238 Z\" fill=\"#000000\" fill-rule=\"nonzero\" fill-opacity=\"1\" /><path clip-path=\"url(#clip200)\" d=\"M2255.22 190.252 L2245.84 202.867 L2255.71 216.178 L2250.68 216.178 L2243.14 205.992 L2235.59 216.178 L2230.57 216.178 L2240.64 202.613 L2231.42 190.252 L2236.45 190.252 L2243.32 199.488 L2250.2 190.252 L2255.22 190.252 Z\" fill=\"#000000\" fill-rule=\"nonzero\" fill-opacity=\"1\" /></svg>\n"
      ]
     },
     "execution_count": 5,
     "metadata": {},
     "output_type": "execute_result"
    }
   ],
   "source": [
    "showactivation(a_quadratic,-10:0.1:10)"
   ]
  },
  {
   "cell_type": "code",
   "execution_count": 6,
   "id": "dd7b2ffb-2d5b-429c-8f1c-e7c0baf873b6",
   "metadata": {},
   "outputs": [
    {
     "data": {
      "text/plain": [
       "backpropegate! (generic function with 1 method)"
      ]
     },
     "execution_count": 6,
     "metadata": {},
     "output_type": "execute_result"
    }
   ],
   "source": [
    "mutable struct layer\n",
    "    w # Weights matrix\n",
    "    b # offset matrix\n",
    "    a :: activation # activation \n",
    "    input\n",
    "    output \n",
    "    dzdin # result of back-propegation -- derivative  final output wrt input\n",
    "    dzdw # result of back-propegation -- derivative of final output wrt w \n",
    "    dzdb # result of back=propegation -- derivative of final output wrt b\n",
    "end\n",
    "\n",
    "#constructors\n",
    "layer(w,b,a)=layer(w,b,a,[],[],[],[],[])\n",
    "layer(;w,b,a)=layer(w,b,a)\n",
    "\n",
    "#Act on data with the layer\n",
    "function (l::layer)(input)\n",
    "    l.input=stack(input)\n",
    "    l.output=l.a.f.(l.w*input.+l.b)\n",
    "    return l.output\n",
    "end\n",
    "\n",
    "function backpropegate!(l::layer,doutputdz)\n",
    "    dzdlin= l.a.df.(l.output).*doutputdz #derivitative of z wrt linear part\n",
    "    l.dzdb=sum(dzdlin,dims=2) #sum over all elements of batch\n",
    "    l.dzdw=dzdlin*l.input'  #the matrix multiply with the conjugate automatically does the batch sum\n",
    "    l.dzdin=l.w'*dzdlin\n",
    "    return l.dzdin\n",
    "end     "
   ]
  },
  {
   "cell_type": "code",
   "execution_count": 7,
   "id": "26d79219-35c5-4d73-b3d8-8e6e9b3d6de5",
   "metadata": {},
   "outputs": [
    {
     "data": {
      "text/plain": [
       "update! (generic function with 1 method)"
      ]
     },
     "execution_count": 7,
     "metadata": {},
     "output_type": "execute_result"
    }
   ],
   "source": [
    "function update!(l::layer,rate)\n",
    "    l.w-=rate*l.dzdw\n",
    "    l.b-=rate*l.dzdb\n",
    "    return l\n",
    "end"
   ]
  },
  {
   "cell_type": "code",
   "execution_count": 8,
   "id": "6da0115b-36b5-472b-9544-b5f5c14e4b93",
   "metadata": {},
   "outputs": [],
   "source": [
    "struct tmp2\n",
    "    data\n",
    "end\n",
    "\n",
    "Base.iterate(s::tmp2,x...)=Base.iterate(s.data,x...)\n",
    "#Base.iterate(s::tmp2,x::Int64)=Base.iterate(s.data,x)"
   ]
  },
  {
   "cell_type": "code",
   "execution_count": 9,
   "id": "cffd7a55-a77d-4f70-aca3-6c75fc6ef5f3",
   "metadata": {},
   "outputs": [
    {
     "data": {
      "text/plain": [
       "tmp2([\"a\", \"b\", \"c\"])"
      ]
     },
     "execution_count": 9,
     "metadata": {},
     "output_type": "execute_result"
    }
   ],
   "source": [
    "t=tmp2([\"a\",\"b\",\"c\"])"
   ]
  },
  {
   "cell_type": "code",
   "execution_count": 10,
   "id": "2c9cb394-c53d-40bf-b467-7495828b428b",
   "metadata": {},
   "outputs": [
    {
     "name": "stdout",
     "output_type": "stream",
     "text": [
      "abc"
     ]
    }
   ],
   "source": [
    "for j in t\n",
    "    print(j)\n",
    "end"
   ]
  },
  {
   "cell_type": "code",
   "execution_count": 170,
   "id": "4c340557-8b70-4b9c-9094-5891bb6629e5",
   "metadata": {},
   "outputs": [],
   "source": [
    "mutable struct network\n",
    "    data  # list of layers\n",
    "end\n",
    "\n",
    "function (n::network)(input)  # forward pass\n",
    "    y=input\n",
    "    for l in n.data\n",
    "        y=l(y)\n",
    "    end\n",
    "    return y\n",
    "end\n",
    "\n",
    "function input(n::network)\n",
    "    return n.data[1].input\n",
    "end\n",
    "\n",
    "function output(n::network)\n",
    "    return n.data[end].output\n",
    "end\n",
    "\n",
    "#Iterate over layers\n",
    "Base.iterate(n::network,varargs...)=Base.iterate(n.l,varargs...)\n",
    "\n",
    "struct cost\n",
    "    c # function of result and target which gives cost\n",
    "    dc # function of result and target which gives dcost/dtarget\n",
    "end\n",
    "\n",
    "    "
   ]
  },
  {
   "cell_type": "code",
   "execution_count": 172,
   "id": "1b0cb420-ca45-4f3c-a0c7-6beb97e9161b",
   "metadata": {},
   "outputs": [
    {
     "data": {
      "text/plain": [
       "cost(c_ll, dc_ll)"
      ]
     },
     "execution_count": 172,
     "metadata": {},
     "output_type": "execute_result"
    }
   ],
   "source": [
    "#Mean Square Error\n",
    "c_mse(result,target)=sum((result.-target).^2)/length(result)\n",
    "dc_mse(result,target)=2*(result.-target)/length(result)\n",
    "cost_mse=cost(c_mse,dc_mse)\n",
    "\n",
    "#Log Loss\n",
    "c_ll(result,target)=sum(@. (target*log(result)-(1 -target)*log(1-result)))/length(result)\n",
    "dc_ll(result,target)=@. (target/result+(1-target)/(1-result))/length(result)\n",
    "cost_ll=cost(c_ll,dc_ll)"
   ]
  },
  {
   "cell_type": "code",
   "execution_count": null,
   "id": "63b6c285-9ca2-4465-a949-c0b624dd8db2",
   "metadata": {},
   "outputs": [],
   "source": [
    "function gradient!(n::network,target,costfun::cost)\n",
    "    error=costfun.c(n.output,target)\n",
    "    grad=costfun.dc(n.output,target)\n",
    "            \n",
    "\n",
    "function update!(net::network,rate)\n",
    "    for l in network\n",
    "        update!(l,rate)\n",
    "    end\n",
    "    return net\n",
    "end"
   ]
  },
  {
   "cell_type": "code",
   "execution_count": null,
   "id": "c2699252-c7ac-47f8-b66e-6e7b347061ed",
   "metadata": {},
   "outputs": [],
   "source": [
    "function evaluate(layers,input)\n",
    "    "
   ]
  },
  {
   "cell_type": "code",
   "execution_count": 159,
   "id": "4cdba818-b69e-4d91-92ff-0b0241833e02",
   "metadata": {},
   "outputs": [
    {
     "data": {
      "text/plain": [
       "2-element Vector{String}:\n",
       " \"b\"\n",
       " \"c\""
      ]
     },
     "execution_count": 159,
     "metadata": {},
     "output_type": "execute_result"
    }
   ],
   "source": [
    "Base.rest([\"a\",\"b\",\"c\"],2)"
   ]
  },
  {
   "cell_type": "code",
   "execution_count": 146,
   "id": "dfe9483a-ecb2-400d-ada0-f1f23a8dc159",
   "metadata": {},
   "outputs": [
    {
     "data": {
      "text/plain": [
       "layer([1.0 2.0 3.0; 4.0 5.0 6.0], [7.0, 8.0], activation(f_logistic, df_logistic), Any[], Any[], Any[], Any[], Any[])"
      ]
     },
     "execution_count": 146,
     "metadata": {},
     "output_type": "execute_result"
    }
   ],
   "source": [
    "l1=layer(w=[1. 2. 3.; 4. 5. 6.],b=[7. , 8.],a=a_logistic)"
   ]
  },
  {
   "cell_type": "code",
   "execution_count": null,
   "id": "3dfd10e8-b027-40b3-ab58-7e64badf098e",
   "metadata": {},
   "outputs": [],
   "source": [
    "l2=layer(w=[1. 2. 3.; 4. 5. 6.],b=[7. , 8.],a=a_logistic)"
   ]
  },
  {
   "cell_type": "code",
   "execution_count": 144,
   "id": "18527f10-36c2-4fed-8bc3-119cb992d39b",
   "metadata": {},
   "outputs": [
    {
     "name": "stdout",
     "output_type": "stream",
     "text": [
      "  0.000027 seconds (8 allocations: 448 bytes)\n"
     ]
    },
    {
     "data": {
      "text/plain": [
       "2-element Vector{Float64}:\n",
       " 0.999997739675702\n",
       " 0.9999999998973812"
      ]
     },
     "execution_count": 144,
     "metadata": {},
     "output_type": "execute_result"
    }
   ],
   "source": [
    "@time l1([1,1,1])"
   ]
  },
  {
   "cell_type": "code",
   "execution_count": 138,
   "id": "fd5b7444-6033-4a75-a5bb-15ad6d2efb49",
   "metadata": {},
   "outputs": [
    {
     "data": {
      "text/plain": [
       "3-element Vector{Float64}:\n",
       " 26.0\n",
       " 52.0\n",
       " 78.0"
      ]
     },
     "execution_count": 138,
     "metadata": {},
     "output_type": "execute_result"
    }
   ],
   "source": [
    "backpropegate(l1,[1,0])"
   ]
  },
  {
   "cell_type": "code",
   "execution_count": 111,
   "id": "bf4c43cd-112b-4fd0-b964-7baaf02a2299",
   "metadata": {},
   "outputs": [
    {
     "data": {
      "text/plain": [
       "2×3 Matrix{Int64}:\n",
       " 1  2  3\n",
       " 4  5  6"
      ]
     },
     "execution_count": 111,
     "metadata": {},
     "output_type": "execute_result"
    }
   ],
   "source": [
    "l1.w"
   ]
  },
  {
   "cell_type": "code",
   "execution_count": 113,
   "id": "1332c7c4-10f0-4909-9a4c-432c17aa0e3d",
   "metadata": {},
   "outputs": [
    {
     "data": {
      "text/plain": [
       "1×3 adjoint(::Vector{Int64}) with eltype Int64:\n",
       " 1  1  1"
      ]
     },
     "execution_count": 113,
     "metadata": {},
     "output_type": "execute_result"
    }
   ],
   "source": [
    "l1.input'"
   ]
  },
  {
   "cell_type": "code",
   "execution_count": 112,
   "id": "f6ca35a6-66ac-4c3a-ba00-05e1601b5caf",
   "metadata": {},
   "outputs": [
    {
     "data": {
      "text/plain": [
       "2-element Vector{Float64}:\n",
       " 26.0\n",
       "  0.0"
      ]
     },
     "execution_count": 112,
     "metadata": {},
     "output_type": "execute_result"
    }
   ],
   "source": [
    "l1.dzdb"
   ]
  },
  {
   "cell_type": "code",
   "execution_count": 139,
   "id": "794cee30-cb69-464a-9f0a-a696d71df242",
   "metadata": {},
   "outputs": [
    {
     "data": {
      "text/plain": [
       "2×4 Matrix{Int64}:\n",
       " 169  169   361   361\n",
       " 529  529  1444  1444"
      ]
     },
     "execution_count": 139,
     "metadata": {},
     "output_type": "execute_result"
    }
   ],
   "source": [
    "l1(stack([[1,1,1],[1,1,1],[2,2,2],[2,2,2]]))"
   ]
  },
  {
   "cell_type": "code",
   "execution_count": 140,
   "id": "13fc17a2-0231-4c6d-ba4c-c7e640361e79",
   "metadata": {},
   "outputs": [
    {
     "data": {
      "text/plain": [
       "3×4 Matrix{Float64}:\n",
       " 26.0  26.0   38.0   38.0\n",
       " 52.0  52.0   76.0   76.0\n",
       " 78.0  78.0  114.0  114.0"
      ]
     },
     "execution_count": 140,
     "metadata": {},
     "output_type": "execute_result"
    }
   ],
   "source": [
    "backpropegate(l1,stack([[1,0],[1,0],[1,0],[1,0]]))"
   ]
  },
  {
   "cell_type": "code",
   "execution_count": 118,
   "id": "5102082f-82c7-4547-819b-cbcac46c38d3",
   "metadata": {},
   "outputs": [
    {
     "data": {
      "text/plain": [
       "2×4 Matrix{Float64}:\n",
       " 26.0  26.0  38.0  38.0\n",
       "  0.0   0.0   0.0   0.0"
      ]
     },
     "execution_count": 118,
     "metadata": {},
     "output_type": "execute_result"
    }
   ],
   "source": [
    "l1.dzdb"
   ]
  },
  {
   "cell_type": "code",
   "execution_count": 123,
   "id": "0b142168-426e-43da-8d7b-8f95a760a199",
   "metadata": {},
   "outputs": [
    {
     "data": {
      "text/plain": [
       "1×4 Matrix{Float64}:\n",
       " 26.0  26.0  38.0  38.0"
      ]
     },
     "execution_count": 123,
     "metadata": {},
     "output_type": "execute_result"
    }
   ],
   "source": [
    "sum(l1.dzdb,dims=1)"
   ]
  },
  {
   "cell_type": "code",
   "execution_count": 124,
   "id": "b86cba3f-2bde-49bf-bc88-3ff27778b25b",
   "metadata": {},
   "outputs": [
    {
     "data": {
      "text/plain": [
       "2×1 Matrix{Float64}:\n",
       " 128.0\n",
       "   0.0"
      ]
     },
     "execution_count": 124,
     "metadata": {},
     "output_type": "execute_result"
    }
   ],
   "source": [
    "sum(l1.dzdb,dims=2)"
   ]
  },
  {
   "cell_type": "code",
   "execution_count": 128,
   "id": "5c3fe499-2858-4273-abb8-5a3433433757",
   "metadata": {},
   "outputs": [
    {
     "data": {
      "text/plain": [
       "3-element Vector{Int64}:\n",
       " 1\n",
       " 2\n",
       " 3"
      ]
     },
     "execution_count": 128,
     "metadata": {},
     "output_type": "execute_result"
    }
   ],
   "source": [
    "sum([1,2,3],dims=2)"
   ]
  },
  {
   "cell_type": "code",
   "execution_count": 105,
   "id": "26680cd7-ebcf-4f8b-9290-0a78b120f89f",
   "metadata": {},
   "outputs": [
    {
     "data": {
      "text/plain": [
       "2×3 Matrix{Float64}:\n",
       " 500.0  500.0  500.0\n",
       "   0.0    0.0    0.0"
      ]
     },
     "execution_count": 105,
     "metadata": {},
     "output_type": "execute_result"
    }
   ],
   "source": [
    "l1.dzdw"
   ]
  },
  {
   "cell_type": "code",
   "execution_count": 101,
   "id": "3ded169b-d6e4-48db-a73d-32db25cd22ab",
   "metadata": {},
   "outputs": [
    {
     "data": {
      "text/plain": [
       "2×3 Matrix{Int64}:\n",
       " 1  2  3\n",
       " 4  5  6"
      ]
     },
     "execution_count": 101,
     "metadata": {},
     "output_type": "execute_result"
    }
   ],
   "source": [
    "l1.w"
   ]
  },
  {
   "cell_type": "code",
   "execution_count": 102,
   "id": "b1acb4ba-3666-4249-8f14-4c7ceb666a4c",
   "metadata": {},
   "outputs": [
    {
     "data": {
      "text/plain": [
       "2-element Vector{Int64}:\n",
       " 7\n",
       " 8"
      ]
     },
     "execution_count": 102,
     "metadata": {},
     "output_type": "execute_result"
    }
   ],
   "source": [
    "l1.b"
   ]
  },
  {
   "cell_type": "code",
   "execution_count": 68,
   "id": "802f4da2-cdcb-4910-896e-0442f6c25289",
   "metadata": {},
   "outputs": [
    {
     "data": {
      "text/plain": [
       "3×4 Matrix{Int64}:\n",
       " 1  2  3  4\n",
       " 1  2  3  4\n",
       " 1  2  3  4"
      ]
     },
     "execution_count": 68,
     "metadata": {},
     "output_type": "execute_result"
    }
   ],
   "source": [
    "stack([[1,1,1],[2,2,2],[3,3,3],[4,4,4]])"
   ]
  },
  {
   "cell_type": "code",
   "execution_count": 70,
   "id": "dc33bbfc-287b-45a5-8f03-6a0722f209f3",
   "metadata": {},
   "outputs": [
    {
     "data": {
      "text/plain": [
       "3-element Vector{Int64}:\n",
       " 1\n",
       " 2\n",
       " 3"
      ]
     },
     "execution_count": 70,
     "metadata": {},
     "output_type": "execute_result"
    }
   ],
   "source": [
    "v1=[1,2,3]"
   ]
  },
  {
   "cell_type": "code",
   "execution_count": 71,
   "id": "96538221-3759-45ed-99c8-3c0f42e61fc9",
   "metadata": {},
   "outputs": [
    {
     "data": {
      "text/plain": [
       "3-element Vector{Int64}:\n",
       " 1\n",
       " 2\n",
       " 3"
      ]
     },
     "execution_count": 71,
     "metadata": {},
     "output_type": "execute_result"
    }
   ],
   "source": [
    "v2=stack(v1)"
   ]
  },
  {
   "cell_type": "code",
   "execution_count": 72,
   "id": "60c1f102-d2cf-4932-8e26-7ba0218185f9",
   "metadata": {},
   "outputs": [
    {
     "data": {
      "text/plain": [
       "4"
      ]
     },
     "execution_count": 72,
     "metadata": {},
     "output_type": "execute_result"
    }
   ],
   "source": [
    "v2[2]=4"
   ]
  },
  {
   "cell_type": "code",
   "execution_count": 73,
   "id": "20794170-95cc-48a4-af41-2f362f649c6b",
   "metadata": {},
   "outputs": [
    {
     "data": {
      "text/plain": [
       "3-element Vector{Int64}:\n",
       " 1\n",
       " 2\n",
       " 3"
      ]
     },
     "execution_count": 73,
     "metadata": {},
     "output_type": "execute_result"
    }
   ],
   "source": [
    "v1"
   ]
  },
  {
   "cell_type": "code",
   "execution_count": 69,
   "id": "14f3ee21-f27b-4b96-95c4-3fa688062344",
   "metadata": {},
   "outputs": [
    {
     "data": {
      "text/plain": [
       "3-element Vector{Int64}:\n",
       " 1\n",
       " 1\n",
       " 1"
      ]
     },
     "execution_count": 69,
     "metadata": {},
     "output_type": "execute_result"
    }
   ],
   "source": [
    "stack([1,1,1])"
   ]
  },
  {
   "cell_type": "code",
   "execution_count": 63,
   "id": "f4591f95-20d1-47a8-8496-236527457405",
   "metadata": {},
   "outputs": [
    {
     "data": {
      "text/plain": [
       "2×4 Matrix{Int64}:\n",
       " 13  19  25  31\n",
       " 23  38  53  68"
      ]
     },
     "execution_count": 63,
     "metadata": {},
     "output_type": "execute_result"
    }
   ],
   "source": [
    "l1.w*stack([[1,1,1],[2,2,2],[3,3,3],[4,4,4]]).+l1.b"
   ]
  },
  {
   "cell_type": "code",
   "execution_count": 66,
   "id": "6006932e-4263-401f-a0de-97931e083e88",
   "metadata": {},
   "outputs": [
    {
     "data": {
      "text/plain": [
       "2-element Vector{Int64}:\n",
       " 19\n",
       " 38"
      ]
     },
     "execution_count": 66,
     "metadata": {},
     "output_type": "execute_result"
    }
   ],
   "source": [
    "l1([2,2,2])"
   ]
  },
  {
   "cell_type": "code",
   "execution_count": 49,
   "id": "d4a8ec4f-237e-4157-b6b5-1a12b8f3cf32",
   "metadata": {},
   "outputs": [
    {
     "data": {
      "text/plain": [
       "1×3 Matrix{Int64}:\n",
       " 4  5  6"
      ]
     },
     "execution_count": 49,
     "metadata": {},
     "output_type": "execute_result"
    }
   ],
   "source": [
    "backpropegate(l1,[0 1])"
   ]
  },
  {
   "cell_type": "code",
   "execution_count": 50,
   "id": "e5b43017-0ec3-459a-a35a-e4ac9924147d",
   "metadata": {},
   "outputs": [
    {
     "data": {
      "text/plain": [
       "2-element Vector{Float64}:\n",
       " 1.000000082740371\n",
       " 4.000000330961484"
      ]
     },
     "execution_count": 50,
     "metadata": {},
     "output_type": "execute_result"
    }
   ],
   "source": [
    "eps=1e-10\n",
    "(l1([1+eps,1,1])-l1([1-eps,1,1]))/(2*eps)"
   ]
  },
  {
   "cell_type": "code",
   "execution_count": 48,
   "id": "e1601436-ba7a-4f61-9bf6-0ca41c4016cb",
   "metadata": {},
   "outputs": [
    {
     "data": {
      "text/plain": [
       "2-element Vector{Float64}:\n",
       " 2.000000165480742\n",
       " 5.000018177270249"
      ]
     },
     "execution_count": 48,
     "metadata": {},
     "output_type": "execute_result"
    }
   ],
   "source": [
    "eps=1e-10\n",
    "(l1([1,1+eps,1])-l1([1,1-eps,1]))/(2*eps)"
   ]
  },
  {
   "cell_type": "code",
   "execution_count": 32,
   "id": "3c9199d9-d988-4ad5-ab30-ddc6b15ab2e6",
   "metadata": {},
   "outputs": [
    {
     "data": {
      "text/plain": [
       "1×2 Matrix{Int64}:\n",
       " 1  1"
      ]
     },
     "execution_count": 32,
     "metadata": {},
     "output_type": "execute_result"
    }
   ],
   "source": [
    "[1 1]"
   ]
  },
  {
   "cell_type": "code",
   "execution_count": null,
   "id": "64561d3d-c004-4869-aa39-a2ffb6d8c040",
   "metadata": {},
   "outputs": [],
   "source": []
  }
 ],
 "metadata": {
  "kernelspec": {
   "display_name": "Julia 1.10.4",
   "language": "julia",
   "name": "julia-1.10"
  },
  "language_info": {
   "file_extension": ".jl",
   "mimetype": "application/julia",
   "name": "julia",
   "version": "1.10.4"
  }
 },
 "nbformat": 4,
 "nbformat_minor": 5
}
