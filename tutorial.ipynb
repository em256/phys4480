{
 "cells": [
  {
   "cell_type": "markdown",
   "metadata": {},
   "source": [
    "# Tutorial\n",
    "\n",
    "## Installing everything\n",
    "\n",
    "To install Interact, simply type\n",
    "```julia\n",
    "Pkg.add(\"Interact\")\n",
    "```"
   ]
  },
  {
   "cell_type": "markdown",
   "metadata": {},
   "source": [
    "in the REPL.\n",
    "\n",
    "The basic behavior is as follows: Interact provides a series of widgets. Each widget has an output that can be directly inspected or used to trigger some callbacks (i.e. run some code as soon as the widget changes value): the abstract supertype that gives this behavior is called `AbstractObservable`. Let's see this in practice.\n",
    "\n",
    "## Displaying a widget"
   ]
  },
  {
   "cell_type": "code",
   "execution_count": 1,
   "metadata": {},
   "outputs": [
    {
     "data": {
      "application/vnd.webio.node+json": {
       "children": [],
       "instanceArgs": {
        "namespace": "html",
        "tag": "div"
       },
       "nodeType": "DOM",
       "props": {},
       "type": "node"
      },
      "text/html": [
       "<div style=\"padding: 1em; background-color: #f8d6da; border: 1px solid #f5c6cb; font-weight: bold;\">\n",
       "<p>The WebIO Jupyter extension was not detected. See the\n",
       "<a href=\"https://juliagizmos.github.io/WebIO.jl/latest/providers/ijulia/\" target=\"_blank\">\n",
       "    WebIO Jupyter integration documentation\n",
       "</a>\n",
       "for more information.\n",
       "</div>\n"
      ],
      "text/plain": [
       "WebIO._IJuliaInit()"
      ]
     },
     "metadata": {
      "application/vnd.webio.node+json": {
       "kernelId": "456cb6c0-a4d4-414f-9e24-5bd635f6d622"
      }
     },
     "output_type": "display_data"
    },
    {
     "data": {
      "application/vnd.webio.node+json": {
       "children": [
        {
         "children": [
          {
           "children": [
            "Press me!"
           ],
           "instanceArgs": {
            "namespace": "html",
            "tag": "button"
           },
           "nodeType": "DOM",
           "props": {
            "attributes": {
             "data-bind": "click: function (){this.clicks(this.clicks()+1)}, css: {'is-loading' : loading}"
            },
            "className": "is-medium button is-primary",
            "style": {}
           },
           "type": "node"
          }
         ],
         "instanceArgs": {
          "handlers": {
           "clicks": [
            "(function (val){return (val!=this.model[\"clicks\"]()) ? (this.valueFromJulia[\"clicks\"]=true, this.model[\"clicks\"](val)) : undefined})"
           ],
           "loading": [
            "(function (val){return (val!=this.model[\"loading\"]()) ? (this.valueFromJulia[\"loading\"]=true, this.model[\"loading\"](val)) : undefined})"
           ]
          },
          "id": "8182780635217725902",
          "imports": {
           "data": [
            {
             "name": "knockout",
             "type": "js",
             "url": "/assetserver/d0f67ea5103338bec547a71428bdbf3df4f08059-knockout.js"
            },
            {
             "name": "knockout_punches",
             "type": "js",
             "url": "/assetserver/e26f753938579e2287344150f7e368ac4b529445-knockout_punches.js"
            },
            {
             "name": null,
             "type": "js",
             "url": "/assetserver/f71b84de1a55136a6c3fa3ef48eef72511463954-all.js"
            },
            {
             "name": null,
             "type": "css",
             "url": "/assetserver/dfba341bd7a3bedeba9caeda5288e80d20d1c596-style.css"
            },
            {
             "name": null,
             "type": "css",
             "url": "/assetserver/53e68c0bec04ce908a124e6cd1565929ff6ce3a7-bulma_confined.min.css"
            }
           ],
           "type": "async_block"
          },
          "mount_callbacks": [
           "function () {\n    var handler = (function (ko, koPunches) {\n    ko.punches.enableAll();\n    ko.bindingHandlers.numericValue = {\n        init: function(element, valueAccessor, allBindings, data, context) {\n            var stringified = ko.observable(ko.unwrap(valueAccessor()));\n            stringified.subscribe(function(value) {\n                var val = parseFloat(value);\n                if (!isNaN(val)) {\n                    valueAccessor()(val);\n                }\n            });\n            valueAccessor().subscribe(function(value) {\n                var str = JSON.stringify(value);\n                if ((str == \"0\") && ([\"-0\", \"-0.\"].indexOf(stringified()) >= 0))\n                     return;\n                 if ([\"null\", \"\"].indexOf(str) >= 0)\n                     return;\n                stringified(str);\n            });\n            ko.applyBindingsToNode(\n                element,\n                {\n                    value: stringified,\n                    valueUpdate: allBindings.get('valueUpdate'),\n                },\n                context,\n            );\n        }\n    };\n    var json_data = {\"loading\":WebIO.getval({\"name\":\"loading\",\"scope\":\"8182780635217725902\",\"id\":\"2\",\"type\":\"observable\"}),\"clicks\":WebIO.getval({\"name\":\"clicks\",\"scope\":\"8182780635217725902\",\"id\":\"1\",\"type\":\"observable\"})};\n    var self = this;\n    function AppViewModel() {\n        for (var key in json_data) {\n            var el = json_data[key];\n            this[key] = Array.isArray(el) ? ko.observableArray(el) : ko.observable(el);\n        }\n        \n        \n        [this[\"loading\"].subscribe((function (val){!(this.valueFromJulia[\"loading\"]) ? (WebIO.setval({\"name\":\"loading\",\"scope\":\"8182780635217725902\",\"id\":\"2\",\"type\":\"observable\"},val)) : undefined; return this.valueFromJulia[\"loading\"]=false}),self),this[\"clicks\"].subscribe((function (val){!(this.valueFromJulia[\"clicks\"]) ? (WebIO.setval({\"name\":\"clicks\",\"scope\":\"8182780635217725902\",\"id\":\"1\",\"type\":\"observable\"},val)) : undefined; return this.valueFromJulia[\"clicks\"]=false}),self)]\n        \n    }\n    self.model = new AppViewModel();\n    self.valueFromJulia = {};\n    for (var key in json_data) {\n        self.valueFromJulia[key] = false;\n    }\n    ko.applyBindings(self.model, self.dom);\n}\n);\n    (WebIO.importBlock({\"data\":[{\"name\":\"knockout\",\"type\":\"js\",\"url\":\"/assetserver/d0f67ea5103338bec547a71428bdbf3df4f08059-knockout.js\"},{\"name\":\"knockout_punches\",\"type\":\"js\",\"url\":\"/assetserver/e26f753938579e2287344150f7e368ac4b529445-knockout_punches.js\"}],\"type\":\"async_block\"})).then((imports) => handler.apply(this, imports));\n}\n"
          ],
          "observables": {
           "clicks": {
            "id": "1",
            "sync": false,
            "value": 0
           },
           "loading": {
            "id": "2",
            "sync": false,
            "value": false
           }
          },
          "systemjs_options": null
         },
         "nodeType": "Scope",
         "props": {},
         "type": "node"
        }
       ],
       "instanceArgs": {
        "namespace": "html",
        "tag": "div"
       },
       "nodeType": "DOM",
       "props": {
        "className": "field interact-widget"
       },
       "type": "node"
      },
      "text/html": [
       "<div\n",
       "    class=\"webio-mountpoint\"\n",
       "    data-webio-mountpoint=\"18244601574525305797\"\n",
       ">\n",
       "    <script>\n",
       "    (function(){\n",
       "    // Some integrations (namely, IJulia/Jupyter) use an alternate render pathway than\n",
       "    // just putting the html on the page. If WebIO isn't defined, then it's pretty likely\n",
       "    // that we're in one of those situations and the integration just isn't installed\n",
       "    // correctly.\n",
       "    if (typeof window.WebIO === \"undefined\") {\n",
       "        document\n",
       "            .querySelector('[data-webio-mountpoint=\"18244601574525305797\"]')\n",
       "            .innerHTML = (\n",
       "                '<div style=\"padding: 1em; background-color: #f8d6da; border: 1px solid #f5c6cb; font-weight: bold;\">' +\n",
       "                '<p><strong>WebIO not detected.</strong></p>' +\n",
       "                '<p>Please read ' +\n",
       "                '<a href=\"https://juliagizmos.github.io/WebIO.jl/latest/troubleshooting/not-detected/\" target=\"_blank\">the troubleshooting guide</a> ' +\n",
       "                'for more information on how to resolve this issue.</p>' +\n",
       "                '<p><a href=\"https://juliagizmos.github.io/WebIO.jl/latest/troubleshooting/not-detected/\" target=\"_blank\">https://juliagizmos.github.io/WebIO.jl/latest/troubleshooting/not-detected/</a></p>' +\n",
       "                '</div>'\n",
       "            );\n",
       "        return;\n",
       "    }\n",
       "    WebIO.mount(\n",
       "        document.querySelector('[data-webio-mountpoint=\"18244601574525305797\"]'),\n",
       "        {\"props\":{\"className\":\"field interact-widget\"},\"nodeType\":\"DOM\",\"type\":\"node\",\"instanceArgs\":{\"namespace\":\"html\",\"tag\":\"div\"},\"children\":[{\"props\":{},\"nodeType\":\"Scope\",\"type\":\"node\",\"instanceArgs\":{\"imports\":{\"data\":[{\"name\":\"knockout\",\"type\":\"js\",\"url\":\"\\/assetserver\\/d0f67ea5103338bec547a71428bdbf3df4f08059-knockout.js\"},{\"name\":\"knockout_punches\",\"type\":\"js\",\"url\":\"\\/assetserver\\/e26f753938579e2287344150f7e368ac4b529445-knockout_punches.js\"},{\"name\":null,\"type\":\"js\",\"url\":\"\\/assetserver\\/f71b84de1a55136a6c3fa3ef48eef72511463954-all.js\"},{\"name\":null,\"type\":\"css\",\"url\":\"\\/assetserver\\/dfba341bd7a3bedeba9caeda5288e80d20d1c596-style.css\"},{\"name\":null,\"type\":\"css\",\"url\":\"\\/assetserver\\/53e68c0bec04ce908a124e6cd1565929ff6ce3a7-bulma_confined.min.css\"}],\"type\":\"async_block\"},\"id\":\"8182780635217725902\",\"handlers\":{\"loading\":[\"(function (val){return (val!=this.model[\\\"loading\\\"]()) ? (this.valueFromJulia[\\\"loading\\\"]=true, this.model[\\\"loading\\\"](val)) : undefined})\"],\"clicks\":[\"(function (val){return (val!=this.model[\\\"clicks\\\"]()) ? (this.valueFromJulia[\\\"clicks\\\"]=true, this.model[\\\"clicks\\\"](val)) : undefined})\"]},\"systemjs_options\":null,\"mount_callbacks\":[\"function () {\\n    var handler = (function (ko, koPunches) {\\n    ko.punches.enableAll();\\n    ko.bindingHandlers.numericValue = {\\n        init: function(element, valueAccessor, allBindings, data, context) {\\n            var stringified = ko.observable(ko.unwrap(valueAccessor()));\\n            stringified.subscribe(function(value) {\\n                var val = parseFloat(value);\\n                if (!isNaN(val)) {\\n                    valueAccessor()(val);\\n                }\\n            });\\n            valueAccessor().subscribe(function(value) {\\n                var str = JSON.stringify(value);\\n                if ((str == \\\"0\\\") && ([\\\"-0\\\", \\\"-0.\\\"].indexOf(stringified()) >= 0))\\n                     return;\\n                 if ([\\\"null\\\", \\\"\\\"].indexOf(str) >= 0)\\n                     return;\\n                stringified(str);\\n            });\\n            ko.applyBindingsToNode(\\n                element,\\n                {\\n                    value: stringified,\\n                    valueUpdate: allBindings.get('valueUpdate'),\\n                },\\n                context,\\n            );\\n        }\\n    };\\n    var json_data = {\\\"loading\\\":WebIO.getval({\\\"name\\\":\\\"loading\\\",\\\"scope\\\":\\\"8182780635217725902\\\",\\\"id\\\":\\\"2\\\",\\\"type\\\":\\\"observable\\\"}),\\\"clicks\\\":WebIO.getval({\\\"name\\\":\\\"clicks\\\",\\\"scope\\\":\\\"8182780635217725902\\\",\\\"id\\\":\\\"1\\\",\\\"type\\\":\\\"observable\\\"})};\\n    var self = this;\\n    function AppViewModel() {\\n        for (var key in json_data) {\\n            var el = json_data[key];\\n            this[key] = Array.isArray(el) ? ko.observableArray(el) : ko.observable(el);\\n        }\\n        \\n        \\n        [this[\\\"loading\\\"].subscribe((function (val){!(this.valueFromJulia[\\\"loading\\\"]) ? (WebIO.setval({\\\"name\\\":\\\"loading\\\",\\\"scope\\\":\\\"8182780635217725902\\\",\\\"id\\\":\\\"2\\\",\\\"type\\\":\\\"observable\\\"},val)) : undefined; return this.valueFromJulia[\\\"loading\\\"]=false}),self),this[\\\"clicks\\\"].subscribe((function (val){!(this.valueFromJulia[\\\"clicks\\\"]) ? (WebIO.setval({\\\"name\\\":\\\"clicks\\\",\\\"scope\\\":\\\"8182780635217725902\\\",\\\"id\\\":\\\"1\\\",\\\"type\\\":\\\"observable\\\"},val)) : undefined; return this.valueFromJulia[\\\"clicks\\\"]=false}),self)]\\n        \\n    }\\n    self.model = new AppViewModel();\\n    self.valueFromJulia = {};\\n    for (var key in json_data) {\\n        self.valueFromJulia[key] = false;\\n    }\\n    ko.applyBindings(self.model, self.dom);\\n}\\n);\\n    (WebIO.importBlock({\\\"data\\\":[{\\\"name\\\":\\\"knockout\\\",\\\"type\\\":\\\"js\\\",\\\"url\\\":\\\"\\/assetserver\\/d0f67ea5103338bec547a71428bdbf3df4f08059-knockout.js\\\"},{\\\"name\\\":\\\"knockout_punches\\\",\\\"type\\\":\\\"js\\\",\\\"url\\\":\\\"\\/assetserver\\/e26f753938579e2287344150f7e368ac4b529445-knockout_punches.js\\\"}],\\\"type\\\":\\\"async_block\\\"})).then((imports) => handler.apply(this, imports));\\n}\\n\"],\"observables\":{\"loading\":{\"sync\":false,\"id\":\"2\",\"value\":false},\"clicks\":{\"sync\":false,\"id\":\"1\",\"value\":0}}},\"children\":[{\"props\":{\"attributes\":{\"data-bind\":\"click: function (){this.clicks(this.clicks()+1)}, css: {'is-loading' : loading}\"},\"className\":\"is-medium button is-primary\",\"style\":{}},\"nodeType\":\"DOM\",\"type\":\"node\",\"instanceArgs\":{\"namespace\":\"html\",\"tag\":\"button\"},\"children\":[\"Press me!\"]}]}]},\n",
       "        window,\n",
       "    );\n",
       "    })()\n",
       "    </script>\n",
       "</div>\n"
      ],
      "text/plain": [
       "(div { className=\"field interact-widget\" }\n",
       "    (button { attributes=Dict{Any, Any}(\"data-bind\" => \"click: function (){this.clicks(this.clicks()+1)}, css: {'is-loading' : loading}\") className=\"is-medium button is-primary\" style=Dict{String, Any}() }\n",
       "    \"Press me!\"))"
      ]
     },
     "metadata": {
      "application/vnd.webio.node+json": {
       "kernelId": "456cb6c0-a4d4-414f-9e24-5bd635f6d622"
      }
     },
     "output_type": "display_data"
    }
   ],
   "source": [
    "using Interact\n",
    "ui = button()\n",
    "display(ui)"
   ]
  },
  {
   "cell_type": "markdown",
   "metadata": {},
   "source": [
    "Note that `display` works in a [Jupyter notebook](https://github.com/JuliaLang/IJulia.jl) or in [Atom/Juno IDE](https://github.com/JunoLab/Juno.jl).\n",
    "Interact can also be deployed in Jupyter Lab, but that requires installing an extension first:"
   ]
  },
  {
   "cell_type": "code",
   "execution_count": null,
   "metadata": {},
   "outputs": [],
   "source": [
    "cd(Pkg.dir(\"WebIO\", \"assets\"))\n",
    ";jupyter labextension install webio\n",
    ";jupyter labextension enable webio/jupyterlab_entry"
   ]
  },
  {
   "cell_type": "markdown",
   "metadata": {},
   "source": [
    "To deploy the app as a standalone Electron window, one would use [Blink.jl](https://github.com/JunoLab/Blink.jl):"
   ]
  },
  {
   "cell_type": "code",
   "execution_count": 2,
   "metadata": {},
   "outputs": [
    {
     "name": "stderr",
     "output_type": "stream",
     "text": [
      "\u001b[36m\u001b[1m[ \u001b[22m\u001b[39m\u001b[36m\u001b[1mInfo: \u001b[22m\u001b[39mListening on: 127.0.0.1:2556, thread id: 1\n"
     ]
    }
   ],
   "source": [
    "using Blink\n",
    "w = Window()\n",
    "body!(w, ui);"
   ]
  },
  {
   "cell_type": "markdown",
   "metadata": {},
   "source": [
    "The app can also be served in a webpage via [Mux.jl](https://github.com/JuliaWeb/Mux.jl):"
   ]
  },
  {
   "cell_type": "code",
   "execution_count": 9,
   "metadata": {},
   "outputs": [
    {
     "name": "stderr",
     "output_type": "stream",
     "text": [
      "\u001b[32m\u001b[1m   Resolving\u001b[22m\u001b[39m package versions...\n",
      "\u001b[32m\u001b[1m    Updating\u001b[22m\u001b[39m `~/.julia/environments/v1.9/Project.toml`\n",
      "  \u001b[90m[a975b10e] \u001b[39m\u001b[92m+ Mux v1.0.2\u001b[39m\n",
      "\u001b[32m\u001b[1m  No Changes\u001b[22m\u001b[39m to `~/.julia/environments/v1.9/Manifest.toml`\n"
     ]
    }
   ],
   "source": [
    "import Pkg; Pkg.add(\"Mux\")"
   ]
  },
  {
   "cell_type": "code",
   "execution_count": 10,
   "metadata": {},
   "outputs": [
    {
     "name": "stderr",
     "output_type": "stream",
     "text": [
      "\u001b[36m\u001b[1m[ \u001b[22m\u001b[39m\u001b[36m\u001b[1mInfo: \u001b[22m\u001b[39mListening on: 0.0.0.0:8476, thread id: 1\n"
     ]
    },
    {
     "data": {
      "text/plain": [
       "HTTP.Servers.Server{HTTP.Servers.Listener{Nothing, Sockets.TCPServer}}(HTTP.Servers.Listener{Nothing, Sockets.TCPServer}(Sockets.InetAddr{Sockets.IPv4}(ip\"0.0.0.0\", 8476), \"0.0.0.0\", \"8476\", nothing, Sockets.TCPServer(RawFD(58) active)), nothing, Set{HTTP.Connections.Connection}(), Task (runnable) @0x000000014a7b0330)"
      ]
     },
     "execution_count": 10,
     "metadata": {},
     "output_type": "execute_result"
    }
   ],
   "source": [
    "using Mux\n",
    "WebIO.webio_serve(page(\"/\", req -> ui), rand(8000:9000)) # serve on a random port"
   ]
  },
  {
   "cell_type": "code",
   "execution_count": 12,
   "metadata": {},
   "outputs": [
    {
     "name": "stdout",
     "output_type": "stream",
     "text": [
      "34\n",
      "Hello!\n",
      "35\n",
      "Hello!\n",
      "36\n",
      "Hello!\n"
     ]
    }
   ],
   "source": [
    "w = Window()\n",
    "body!(w, ui);"
   ]
  },
  {
   "cell_type": "markdown",
   "metadata": {},
   "source": [
    "## Adding behavior\n",
    "The value of our button can be inspected using `getindex`:"
   ]
  },
  {
   "cell_type": "code",
   "execution_count": 13,
   "metadata": {},
   "outputs": [
    {
     "data": {
      "text/plain": [
       "36"
      ]
     },
     "execution_count": 13,
     "metadata": {},
     "output_type": "execute_result"
    }
   ],
   "source": [
    "ui[]"
   ]
  },
  {
   "cell_type": "markdown",
   "metadata": {},
   "source": [
    "In the case of a button, the observable represents the number of times it has been clicked: click on it and check the value again.\n",
    "For now however this button doesn't do anything. This can be changed by adding callbacks to it.\n",
    "\n",
    "To add some behavior to the widget we can use the `on` construct. `on` takes two arguments, a function and an `AbstractObservable`. As soon as the observable is changed, the function is called with the latest value."
   ]
  },
  {
   "cell_type": "code",
   "execution_count": 14,
   "metadata": {},
   "outputs": [
    {
     "data": {
      "text/plain": [
       "ObserverFunction `println` operating on Node{DOM}(DOM(:html, :div), Any[Scope(Node{DOM}(DOM(:html, :button), Any[\"Press me!\"], Dict{Symbol, Any}(:attributes=>Dict{Any, Any}(\"data-bind\"=>\"click: function (){this.clicks(this.clicks()+1)}, css: {'is-loading' : loading}\"), :className=>\"is-medium button is-primary\", :style=>Dict{String, Any}())), Dict{String, Tuple{AbstractObservable, Union{Nothing, Bool}}}(\"loading\"=>(Observable(false), nothing), \"clicks\"=>(Observable(36), nothing)), Set{String}(), nothing, Asset[Asset(\"js\", \"knockout\", \"/Users/emueller/.julia/packages/Knockout/HReiN/src/../assets/knockout.js\"), Asset(\"js\", \"knockout_punches\", \"/Users/emueller/.julia/packages/Knockout/HReiN/src/../assets/knockout_punches.js\"), Asset(\"js\", nothing, \"/Users/emueller/.julia/packages/InteractBase/LJXv3/src/../assets/all.js\"), Asset(\"css\", nothing, \"/Users/emueller/.julia/packages/InteractBase/LJXv3/src/../assets/style.css\"), Asset(\"css\", nothing, \"/Users/emueller/.julia/packages/Interact/PENUy/src/../assets/bulma_confined.min.css\")], Dict{Any, Any}(\"loading\"=>Any[JSString(\"(function (val){return (val!=this.model[\\\"loading\\\"]()) ? (this.valueFromJulia[\\\"loading\\\"]=true, this.model[\\\"loading\\\"](val)) : undefined})\")], \"clicks\"=>Any[JSString(\"(function (val){return (val!=this.model[\\\"clicks\\\"]()) ? (this.valueFromJulia[\\\"clicks\\\"]=true, this.model[\\\"clicks\\\"](val)) : undefined})\")]), ConnectionPool(Channel{Any}(32), Set(AbstractConnection[WebIOBlinkComm(Window(2, Electron(Process(`\u001b[4m/Users/emueller/.julia/artifacts/12f3018147190ddc494f686e5fbefe8d84f16efb/Julia.app/Contents/MacOS/Julia\u001b[24m \u001b[4m/Users/emueller/.julia/packages/Blink/tnO3a/src/AtomShell/main.js\u001b[24m \u001b[4mport\u001b[24m \u001b[4m4496\u001b[24m`, ProcessRunning), TCPSocket(RawFD(51) active, 0 bytes waiting), Dict{String, Any}(\"callback\"=>#1)), Page(2, WebSocket(UUID(\"7ba80b1e-f694-46d3-95b7-39a991916bd9\"), 🔁   13s 127.0.0.1:2556:2556 RawFD(59), GET /2?callback=4/2 HTTP/1.1, HTTP/1.1 101 Switching Protocols <= (GET /2?callback=4/2 HTTP/1.1), 9223372036854775807, 1024, false, UInt8[0x7b, 0x22, 0x74, 0x79, 0x70, 0x65, 0x22, 0x3a, 0x22, 0x77  …  0x61, 0x6c, 0x75, 0x65, 0x22, 0x3a, 0x33, 0x36, 0x7d, 0x7d], UInt8[], false, false), Dict{String, Any}(\"webio\"=>#20, \"callback\"=>#1), Future(1, 1, 2, ReentrantLock(nothing, 0x00000000, 0x00, GenericCondition{SpinLock}(IntrusiveLinkedList{Task}(nothing, nothing), SpinLock(0)), (10, 0, 1)), Some(true))), Task (done) @0x000000010e15ddc0)), IJuliaConnection(Comm{:webio_comm}(\"c0ef9554c6ac48cb8e1937eefc473d4d\", false, #98, noop_callback))]), GenericCondition{ReentrantLock}(IntrusiveLinkedList{Task}(nothing, nothing), ReentrantLock(nothing, 0x00000000, 0x00, GenericCondition{SpinLock}(IntrusiveLinkedList{Task}(nothing, nothing), SpinLock(0)), (2, 4518471120, 4518471712)))), JSString[JSString(\"function () {\\n    var handler = (function (ko, koPunches) {\\n    ko.punches.enableAll();\\n    ko.bindingHandlers.numericValue = {\\n        init: function(element, valueAccessor, allBindings, data, context) {\\n            var stringified = ko.observable(ko.unwrap(valueAccessor()));\\n            stringified.subscribe(function(value) {\\n                var val = parseFloat(value);\\n                if (!isNaN(val)) {\\n                    valueAccessor()(val);\\n                }\\n            });\\n            valueAccessor().subscribe(function(value) {\\n                var str = JSON.stringify(value);\\n                if ((str == \\\"0\\\") && ([\\\"-0\\\", \\\"-0.\\\"].indexOf(stringified()) >= 0))\\n                     return;\\n                 if ([\\\"null\\\", \\\"\\\"].indexOf(str) >= 0)\\n                     return;\\n                stringified(str);\\n            });\\n            ko.applyBindingsToNode(\\n                element,\\n                {\\n                    value: stringified,\\n                    valueUpdate: allBindings.get('valueUpdate'),\\n                },\\n                context,\\n            );\\n        }\\n    };\\n    var json_data = {\\\"loading\\\":WebIO.getval({\\\"name\\\":\\\"loading\\\",\\\"scope\\\":\\\"8182780635217725902\\\",\\\"id\\\":\\\"2\\\",\\\"type\\\":\\\"observable\\\"}),\\\"clicks\\\":WebIO.getval({\\\"name\\\":\\\"clicks\\\",\\\"scope\\\":\\\"8182780635217725902\\\",\\\"id\\\":\\\"1\\\",\\\"type\\\":\\\"observable\\\"})};\\n    var self = this;\\n    function AppViewModel() {\\n        for (var key in json_data) {\\n            var el = json_data[key];\\n            this[key] = Array.isArray(el) ? ko.observableArray(el) : ko.observable(el);\\n        }\\n        \\n        \\n        [this[\\\"loading\\\"].subscribe((function (val){!(this.valueFromJulia[\\\"loading\\\"]) ? (WebIO.setval({\\\"name\\\":\\\"loading\\\",\\\"scope\\\":\\\"8182780635217725902\\\",\\\"id\\\":\\\"2\\\",\\\"type\\\":\\\"observable\\\"},val)) : undefined; return this.valueFromJulia[\\\"loading\\\"]=false}),self),this[\\\"clicks\\\"].subscribe((function (val){!(this.valueFromJulia[\\\"clicks\\\"]) ? (WebIO.setval({\\\"name\\\":\\\"clicks\\\",\\\"scope\\\":\\\"8182780635217725902\\\",\\\"id\\\":\\\"1\\\",\\\"type\\\":\\\"observable\\\"},val)) : undefined; return this.valueFromJulia[\\\"clicks\\\"]=false}),self)]\\n        \\n    }\\n    self.model = new AppViewModel();\\n    self.valueFromJulia = {};\\n    for (var key in json_data) {\\n        self.valueFromJulia[key] = false;\\n    }\\n    ko.applyBindings(self.model, self.dom);\\n}\\n);\\n    (WebIO.importBlock({\\\"data\\\":[{\\\"name\\\":\\\"knockout\\\",\\\"type\\\":\\\"js\\\",\\\"url\\\":\\\"/assetserver/d0f67ea5103338bec547a71428bdbf3df4f08059-knockout.js\\\"},{\\\"name\\\":\\\"knockout_punches\\\",\\\"type\\\":\\\"js\\\",\\\"url\\\":\\\"/assetserver/e26f753938579e2287344150f7e368ac4b529445-knockout_punches.js\\\"}],\\\"type\\\":\\\"async_block\\\"})).then((imports) => handler.apply(this, imports));\\n}\\n\")])], Dict{Symbol, Any}(:className=>\"field interact-widget\"))"
      ]
     },
     "execution_count": 14,
     "metadata": {},
     "output_type": "execute_result"
    }
   ],
   "source": [
    "on(println, ui)"
   ]
  },
  {
   "cell_type": "markdown",
   "metadata": {},
   "source": [
    "If you click again on the button you will see it printing the number of times it has been clicked so far.\n",
    "\n",
    "*Tip*: anonymous function are very useful in this programming paradigm. For example, if you want the button to say \"Hello!\" when pressed, you should use:"
   ]
  },
  {
   "cell_type": "code",
   "execution_count": 15,
   "metadata": {},
   "outputs": [
    {
     "data": {
      "text/plain": [
       "ObserverFunction defined at In[15]:1 operating on Node{DOM}(DOM(:html, :div), Any[Scope(Node{DOM}(DOM(:html, :button), Any[\"Press me!\"], Dict{Symbol, Any}(:attributes=>Dict{Any, Any}(\"data-bind\"=>\"click: function (){this.clicks(this.clicks()+1)}, css: {'is-loading' : loading}\"), :className=>\"is-medium button is-primary\", :style=>Dict{String, Any}())), Dict{String, Tuple{AbstractObservable, Union{Nothing, Bool}}}(\"loading\"=>(Observable(false), nothing), \"clicks\"=>(Observable(36), nothing)), Set{String}(), nothing, Asset[Asset(\"js\", \"knockout\", \"/Users/emueller/.julia/packages/Knockout/HReiN/src/../assets/knockout.js\"), Asset(\"js\", \"knockout_punches\", \"/Users/emueller/.julia/packages/Knockout/HReiN/src/../assets/knockout_punches.js\"), Asset(\"js\", nothing, \"/Users/emueller/.julia/packages/InteractBase/LJXv3/src/../assets/all.js\"), Asset(\"css\", nothing, \"/Users/emueller/.julia/packages/InteractBase/LJXv3/src/../assets/style.css\"), Asset(\"css\", nothing, \"/Users/emueller/.julia/packages/Interact/PENUy/src/../assets/bulma_confined.min.css\")], Dict{Any, Any}(\"loading\"=>Any[JSString(\"(function (val){return (val!=this.model[\\\"loading\\\"]()) ? (this.valueFromJulia[\\\"loading\\\"]=true, this.model[\\\"loading\\\"](val)) : undefined})\")], \"clicks\"=>Any[JSString(\"(function (val){return (val!=this.model[\\\"clicks\\\"]()) ? (this.valueFromJulia[\\\"clicks\\\"]=true, this.model[\\\"clicks\\\"](val)) : undefined})\")]), ConnectionPool(Channel{Any}(32), Set(AbstractConnection[WebIOBlinkComm(Window(2, Electron(Process(`\u001b[4m/Users/emueller/.julia/artifacts/12f3018147190ddc494f686e5fbefe8d84f16efb/Julia.app/Contents/MacOS/Julia\u001b[24m \u001b[4m/Users/emueller/.julia/packages/Blink/tnO3a/src/AtomShell/main.js\u001b[24m \u001b[4mport\u001b[24m \u001b[4m4496\u001b[24m`, ProcessRunning), TCPSocket(RawFD(51) active, 0 bytes waiting), Dict{String, Any}(\"callback\"=>#1)), Page(2, WebSocket(UUID(\"7ba80b1e-f694-46d3-95b7-39a991916bd9\"), 🔁   21s 127.0.0.1:2556:2556 RawFD(59), GET /2?callback=4/2 HTTP/1.1, HTTP/1.1 101 Switching Protocols <= (GET /2?callback=4/2 HTTP/1.1), 9223372036854775807, 1024, false, UInt8[0x7b, 0x22, 0x74, 0x79, 0x70, 0x65, 0x22, 0x3a, 0x22, 0x77  …  0x61, 0x6c, 0x75, 0x65, 0x22, 0x3a, 0x33, 0x36, 0x7d, 0x7d], UInt8[], false, false), Dict{String, Any}(\"webio\"=>#20, \"callback\"=>#1), Future(1, 1, 2, ReentrantLock(nothing, 0x00000000, 0x00, GenericCondition{SpinLock}(IntrusiveLinkedList{Task}(nothing, nothing), SpinLock(0)), (10, 0, 1)), Some(true))), Task (done) @0x000000010e15ddc0)), IJuliaConnection(Comm{:webio_comm}(\"c0ef9554c6ac48cb8e1937eefc473d4d\", false, #98, noop_callback))]), GenericCondition{ReentrantLock}(IntrusiveLinkedList{Task}(nothing, nothing), ReentrantLock(nothing, 0x00000000, 0x00, GenericCondition{SpinLock}(IntrusiveLinkedList{Task}(nothing, nothing), SpinLock(0)), (2, 4518471120, 4518471712)))), JSString[JSString(\"function () {\\n    var handler = (function (ko, koPunches) {\\n    ko.punches.enableAll();\\n    ko.bindingHandlers.numericValue = {\\n        init: function(element, valueAccessor, allBindings, data, context) {\\n            var stringified = ko.observable(ko.unwrap(valueAccessor()));\\n            stringified.subscribe(function(value) {\\n                var val = parseFloat(value);\\n                if (!isNaN(val)) {\\n                    valueAccessor()(val);\\n                }\\n            });\\n            valueAccessor().subscribe(function(value) {\\n                var str = JSON.stringify(value);\\n                if ((str == \\\"0\\\") && ([\\\"-0\\\", \\\"-0.\\\"].indexOf(stringified()) >= 0))\\n                     return;\\n                 if ([\\\"null\\\", \\\"\\\"].indexOf(str) >= 0)\\n                     return;\\n                stringified(str);\\n            });\\n            ko.applyBindingsToNode(\\n                element,\\n                {\\n                    value: stringified,\\n                    valueUpdate: allBindings.get('valueUpdate'),\\n                },\\n                context,\\n            );\\n        }\\n    };\\n    var json_data = {\\\"loading\\\":WebIO.getval({\\\"name\\\":\\\"loading\\\",\\\"scope\\\":\\\"8182780635217725902\\\",\\\"id\\\":\\\"2\\\",\\\"type\\\":\\\"observable\\\"}),\\\"clicks\\\":WebIO.getval({\\\"name\\\":\\\"clicks\\\",\\\"scope\\\":\\\"8182780635217725902\\\",\\\"id\\\":\\\"1\\\",\\\"type\\\":\\\"observable\\\"})};\\n    var self = this;\\n    function AppViewModel() {\\n        for (var key in json_data) {\\n            var el = json_data[key];\\n            this[key] = Array.isArray(el) ? ko.observableArray(el) : ko.observable(el);\\n        }\\n        \\n        \\n        [this[\\\"loading\\\"].subscribe((function (val){!(this.valueFromJulia[\\\"loading\\\"]) ? (WebIO.setval({\\\"name\\\":\\\"loading\\\",\\\"scope\\\":\\\"8182780635217725902\\\",\\\"id\\\":\\\"2\\\",\\\"type\\\":\\\"observable\\\"},val)) : undefined; return this.valueFromJulia[\\\"loading\\\"]=false}),self),this[\\\"clicks\\\"].subscribe((function (val){!(this.valueFromJulia[\\\"clicks\\\"]) ? (WebIO.setval({\\\"name\\\":\\\"clicks\\\",\\\"scope\\\":\\\"8182780635217725902\\\",\\\"id\\\":\\\"1\\\",\\\"type\\\":\\\"observable\\\"},val)) : undefined; return this.valueFromJulia[\\\"clicks\\\"]=false}),self)]\\n        \\n    }\\n    self.model = new AppViewModel();\\n    self.valueFromJulia = {};\\n    for (var key in json_data) {\\n        self.valueFromJulia[key] = false;\\n    }\\n    ko.applyBindings(self.model, self.dom);\\n}\\n);\\n    (WebIO.importBlock({\\\"data\\\":[{\\\"name\\\":\\\"knockout\\\",\\\"type\\\":\\\"js\\\",\\\"url\\\":\\\"/assetserver/d0f67ea5103338bec547a71428bdbf3df4f08059-knockout.js\\\"},{\\\"name\\\":\\\"knockout_punches\\\",\\\"type\\\":\\\"js\\\",\\\"url\\\":\\\"/assetserver/e26f753938579e2287344150f7e368ac4b529445-knockout_punches.js\\\"}],\\\"type\\\":\\\"async_block\\\"})).then((imports) => handler.apply(this, imports));\\n}\\n\")])], Dict{Symbol, Any}(:className=>\"field interact-widget\"))"
      ]
     },
     "execution_count": 15,
     "metadata": {},
     "output_type": "execute_result"
    },
    {
     "name": "stdout",
     "output_type": "stream",
     "text": [
      "37\n",
      "Hello!\n",
      "37\n",
      "Hello!\n",
      "38\n",
      "Hello!\n",
      "38\n",
      "Hello!\n"
     ]
    }
   ],
   "source": [
    "on(n -> println(\"Hello!\"), ui)"
   ]
  },
  {
   "cell_type": "markdown",
   "metadata": {},
   "source": [
    "*Tip n. 2*: using the `[]` syntax you can also set the value of the widget:"
   ]
  },
  {
   "cell_type": "code",
   "execution_count": 16,
   "metadata": {},
   "outputs": [
    {
     "name": "stdout",
     "output_type": "stream",
     "text": [
      "33\n",
      "Hello!\n",
      "33\n",
      "Hello!\n"
     ]
    },
    {
     "name": "stderr",
     "output_type": "stream",
     "text": [
      "\u001b[91m\u001b[1m┌ \u001b[22m\u001b[39m\u001b[91m\u001b[1mError: \u001b[22m\u001b[39mAn exception occurred while trying to send a WebIO message to a frontend:\n",
      "\u001b[91m\u001b[1m│ \u001b[22m\u001b[39m  exception =\n",
      "\u001b[91m\u001b[1m│ \u001b[22m\u001b[39m   MethodError: no method matching isopen(::Blink.AtomShell.WebIOBlinkComm)\n",
      "\u001b[91m\u001b[1m│ \u001b[22m\u001b[39m   The applicable method may be too new: running in world age 33495, while current world is 33533.\n",
      "\u001b[91m\u001b[1m│ \u001b[22m\u001b[39m   \n",
      "\u001b[91m\u001b[1m│ \u001b[22m\u001b[39m   \u001b[0mClosest candidates are:\n",
      "\u001b[91m\u001b[1m│ \u001b[22m\u001b[39m   \u001b[0m  isopen(::Blink.AtomShell.WebIOBlinkComm) (method too new to be called from this world context.)\n",
      "\u001b[91m\u001b[1m│ \u001b[22m\u001b[39m   \u001b[0m\u001b[90m   @\u001b[39m \u001b[36mBlink\u001b[39m \u001b[90m~/.julia/packages/Blink/tnO3a/src/AtomShell/\u001b[39m\u001b[90m\u001b[4mwebio.jl:41\u001b[24m\u001b[39m\n",
      "\u001b[91m\u001b[1m│ \u001b[22m\u001b[39m   \u001b[0m  isopen(\u001b[91m::Union{Base.DevNull, Core.CoreSTDERR, Core.CoreSTDOUT}\u001b[39m)\n",
      "\u001b[91m\u001b[1m│ \u001b[22m\u001b[39m   \u001b[0m\u001b[90m   @\u001b[39m \u001b[90mBase\u001b[39m \u001b[90m\u001b[4mcoreio.jl:24\u001b[24m\u001b[39m\n",
      "\u001b[91m\u001b[1m│ \u001b[22m\u001b[39m   \u001b[0m  isopen(\u001b[91m::Union{Base.AsyncCondition, Timer}\u001b[39m)\n",
      "\u001b[91m\u001b[1m│ \u001b[22m\u001b[39m   \u001b[0m\u001b[90m   @\u001b[39m \u001b[90mBase\u001b[39m \u001b[90m\u001b[4masyncevent.jl:160\u001b[24m\u001b[39m\n",
      "\u001b[91m\u001b[1m│ \u001b[22m\u001b[39m   \u001b[0m  ...\n",
      "\u001b[91m\u001b[1m│ \u001b[22m\u001b[39m   \n",
      "\u001b[91m\u001b[1m│ \u001b[22m\u001b[39m   Stacktrace:\n",
      "\u001b[91m\u001b[1m│ \u001b[22m\u001b[39m    [1] \u001b[0m\u001b[1msend_message\u001b[22m\u001b[0m\u001b[1m(\u001b[22m\u001b[90mpool\u001b[39m::\u001b[0mWebIO.ConnectionPool, \u001b[90mconnection\u001b[39m::\u001b[0mBlink.AtomShell.WebIOBlinkComm, \u001b[90mmsg\u001b[39m::\u001b[0mDict\u001b[90m{String, Any}\u001b[39m\u001b[0m\u001b[1m)\u001b[22m\n",
      "\u001b[91m\u001b[1m│ \u001b[22m\u001b[39m   \u001b[90m   @\u001b[39m \u001b[32mWebIO\u001b[39m \u001b[90m~/.julia/packages/WebIO/8Xm9p/src/\u001b[39m\u001b[90m\u001b[4mconnection.jl:126\u001b[24m\u001b[39m\n",
      "\u001b[91m\u001b[1m│ \u001b[22m\u001b[39m    [2] \u001b[0m\u001b[1m(::WebIO.var\"#5#6\"{WebIO.ConnectionPool, Dict{String, Any}, Blink.AtomShell.WebIOBlinkComm})\u001b[22m\u001b[0m\u001b[1m(\u001b[22m\u001b[0m\u001b[1m)\u001b[22m\n",
      "\u001b[91m\u001b[1m│ \u001b[22m\u001b[39m   \u001b[90m   @\u001b[39m \u001b[32mWebIO\u001b[39m \u001b[90m./\u001b[39m\u001b[90m\u001b[4mtask.jl:514\u001b[24m\u001b[39m\n",
      "\u001b[91m\u001b[1m└ \u001b[22m\u001b[39m\u001b[90m@ WebIO ~/.julia/packages/WebIO/8Xm9p/src/connection.jl:132\u001b[39m\n"
     ]
    }
   ],
   "source": [
    "ui[] = 33;"
   ]
  },
  {
   "cell_type": "markdown",
   "metadata": {},
   "source": [
    "### Observables: the implementation of a widget's output\n",
    "The updatable container that only has the output of the widget but not the widget itself is a `Observable` and can be accessede using `observe(ui)`, though it should normally not be necessary to do so.\n",
    "To learn more about `Observables` and `AbstractObservable`, check out their documentation [here](https://juliagizmos.github.io/Observables.jl/latest/)."
   ]
  },
  {
   "cell_type": "markdown",
   "metadata": {},
   "source": [
    "## What widgets are there?\n",
    "\n",
    "Once you have grasped this paradigm, you can play with any of the many widgets available:"
   ]
  },
  {
   "cell_type": "code",
   "execution_count": 17,
   "metadata": {},
   "outputs": [
    {
     "data": {
      "application/vnd.webio.node+json": {
       "children": [
        {
         "children": [
          {
           "children": [
            {
             "children": [
              {
               "children": [],
               "instanceArgs": {
                "namespace": "html",
                "tag": "input"
               },
               "nodeType": "DOM",
               "props": {
                "attributes": {
                 "data-bind": "event: {change: onFileUpload}",
                 "style": "display: none;",
                 "type": "file"
                },
                "className": "file "
               },
               "type": "node"
              },
              {
               "children": [
                {
                 "children": [
                  {
                   "children": [],
                   "instanceArgs": {
                    "namespace": "html",
                    "tag": "i"
                   },
                   "nodeType": "DOM",
                   "props": {
                    "className": "fas fa-upload"
                   },
                   "type": "node"
                  }
                 ],
                 "instanceArgs": {
                  "namespace": "html",
                  "tag": "span"
                 },
                 "nodeType": "DOM",
                 "props": {
                  "className": "file-icon"
                 },
                 "type": "node"
                },
                {
                 "children": [
                  "Choose a file..."
                 ],
                 "instanceArgs": {
                  "namespace": "html",
                  "tag": "span"
                 },
                 "nodeType": "DOM",
                 "props": {
                  "className": ""
                 },
                 "type": "node"
                }
               ],
               "instanceArgs": {
                "namespace": "html",
                "tag": "span"
               },
               "nodeType": "DOM",
               "props": {
                "className": "file-cta"
               },
               "type": "node"
              }
             ],
             "instanceArgs": {
              "namespace": "html",
              "tag": "label"
             },
             "nodeType": "DOM",
             "props": {
              "className": ""
             },
             "type": "node"
            },
            {
             "children": [],
             "instanceArgs": {
              "namespace": "html",
              "tag": "span"
             },
             "nodeType": "DOM",
             "props": {
              "attributes": {
               "data-bind": " text: filename() == '' ? 'No file chosen' : filename()"
              },
              "className": "file-name"
             },
             "type": "node"
            }
           ],
           "instanceArgs": {
            "namespace": "html",
            "tag": "div"
           },
           "nodeType": "DOM",
           "props": {
            "attributes": {
             "style": "display:flex; align-items:center;"
            }
           },
           "type": "node"
          }
         ],
         "instanceArgs": {
          "handlers": {
           "filename": [
            "(function (val){return (val!=this.model[\"filename\"]()) ? (this.valueFromJulia[\"filename\"]=true, this.model[\"filename\"](val)) : undefined})"
           ],
           "path": [
            "(function (val){return (val!=this.model[\"path\"]()) ? (this.valueFromJulia[\"path\"]=true, this.model[\"path\"](val)) : undefined})"
           ]
          },
          "id": "6348065253225411813",
          "imports": {
           "data": [
            {
             "name": "knockout",
             "type": "js",
             "url": "/assetserver/d0f67ea5103338bec547a71428bdbf3df4f08059-knockout.js"
            },
            {
             "name": "knockout_punches",
             "type": "js",
             "url": "/assetserver/e26f753938579e2287344150f7e368ac4b529445-knockout_punches.js"
            },
            {
             "name": null,
             "type": "js",
             "url": "/assetserver/f71b84de1a55136a6c3fa3ef48eef72511463954-all.js"
            },
            {
             "name": null,
             "type": "css",
             "url": "/assetserver/dfba341bd7a3bedeba9caeda5288e80d20d1c596-style.css"
            },
            {
             "name": null,
             "type": "css",
             "url": "/assetserver/53e68c0bec04ce908a124e6cd1565929ff6ce3a7-bulma_confined.min.css"
            }
           ],
           "type": "async_block"
          },
          "mount_callbacks": [
           "function () {\n    var handler = (function (ko, koPunches) {\n    ko.punches.enableAll();\n    ko.bindingHandlers.numericValue = {\n        init: function(element, valueAccessor, allBindings, data, context) {\n            var stringified = ko.observable(ko.unwrap(valueAccessor()));\n            stringified.subscribe(function(value) {\n                var val = parseFloat(value);\n                if (!isNaN(val)) {\n                    valueAccessor()(val);\n                }\n            });\n            valueAccessor().subscribe(function(value) {\n                var str = JSON.stringify(value);\n                if ((str == \"0\") && ([\"-0\", \"-0.\"].indexOf(stringified()) >= 0))\n                     return;\n                 if ([\"null\", \"\"].indexOf(str) >= 0)\n                     return;\n                stringified(str);\n            });\n            ko.applyBindingsToNode(\n                element,\n                {\n                    value: stringified,\n                    valueUpdate: allBindings.get('valueUpdate'),\n                },\n                context,\n            );\n        }\n    };\n    var json_data = {\"filename\":WebIO.getval({\"name\":\"filename\",\"scope\":\"6348065253225411813\",\"id\":\"4\",\"type\":\"observable\"}),\"path\":WebIO.getval({\"name\":\"path\",\"scope\":\"6348065253225411813\",\"id\":\"3\",\"type\":\"observable\"})};\n    var self = this;\n    function AppViewModel() {\n        for (var key in json_data) {\n            var el = json_data[key];\n            this[key] = Array.isArray(el) ? ko.observableArray(el) : ko.observable(el);\n        }\n        [this[\"onFileUpload\"]=function(data, e) {\n    var files = e.target.files;\n    this.filename(files[0].name);\n    return this.path(files[0].path);\n}\n]\n        \n        [this[\"filename\"].subscribe((function (val){!(this.valueFromJulia[\"filename\"]) ? (WebIO.setval({\"name\":\"filename\",\"scope\":\"6348065253225411813\",\"id\":\"4\",\"type\":\"observable\"},val)) : undefined; return this.valueFromJulia[\"filename\"]=false}),self),this[\"path\"].subscribe((function (val){!(this.valueFromJulia[\"path\"]) ? (WebIO.setval({\"name\":\"path\",\"scope\":\"6348065253225411813\",\"id\":\"3\",\"type\":\"observable\"},val)) : undefined; return this.valueFromJulia[\"path\"]=false}),self)]\n        \n    }\n    self.model = new AppViewModel();\n    self.valueFromJulia = {};\n    for (var key in json_data) {\n        self.valueFromJulia[key] = false;\n    }\n    ko.applyBindings(self.model, self.dom);\n}\n);\n    (WebIO.importBlock({\"data\":[{\"name\":\"knockout\",\"type\":\"js\",\"url\":\"/assetserver/d0f67ea5103338bec547a71428bdbf3df4f08059-knockout.js\"},{\"name\":\"knockout_punches\",\"type\":\"js\",\"url\":\"/assetserver/e26f753938579e2287344150f7e368ac4b529445-knockout_punches.js\"}],\"type\":\"async_block\"})).then((imports) => handler.apply(this, imports));\n}\n"
          ],
          "observables": {
           "filename": {
            "id": "4",
            "sync": false,
            "value": ""
           },
           "path": {
            "id": "3",
            "sync": false,
            "value": ""
           }
          },
          "systemjs_options": null
         },
         "nodeType": "Scope",
         "props": {},
         "type": "node"
        }
       ],
       "instanceArgs": {
        "namespace": "html",
        "tag": "div"
       },
       "nodeType": "DOM",
       "props": {
        "className": "field interact-widget"
       },
       "type": "node"
      },
      "text/html": [
       "<div\n",
       "    class=\"webio-mountpoint\"\n",
       "    data-webio-mountpoint=\"7491490796752202793\"\n",
       ">\n",
       "    <script>\n",
       "    (function(){\n",
       "    // Some integrations (namely, IJulia/Jupyter) use an alternate render pathway than\n",
       "    // just putting the html on the page. If WebIO isn't defined, then it's pretty likely\n",
       "    // that we're in one of those situations and the integration just isn't installed\n",
       "    // correctly.\n",
       "    if (typeof window.WebIO === \"undefined\") {\n",
       "        document\n",
       "            .querySelector('[data-webio-mountpoint=\"7491490796752202793\"]')\n",
       "            .innerHTML = (\n",
       "                '<div style=\"padding: 1em; background-color: #f8d6da; border: 1px solid #f5c6cb; font-weight: bold;\">' +\n",
       "                '<p><strong>WebIO not detected.</strong></p>' +\n",
       "                '<p>Please read ' +\n",
       "                '<a href=\"https://juliagizmos.github.io/WebIO.jl/latest/troubleshooting/not-detected/\" target=\"_blank\">the troubleshooting guide</a> ' +\n",
       "                'for more information on how to resolve this issue.</p>' +\n",
       "                '<p><a href=\"https://juliagizmos.github.io/WebIO.jl/latest/troubleshooting/not-detected/\" target=\"_blank\">https://juliagizmos.github.io/WebIO.jl/latest/troubleshooting/not-detected/</a></p>' +\n",
       "                '</div>'\n",
       "            );\n",
       "        return;\n",
       "    }\n",
       "    WebIO.mount(\n",
       "        document.querySelector('[data-webio-mountpoint=\"7491490796752202793\"]'),\n",
       "        {\"props\":{\"className\":\"field interact-widget\"},\"nodeType\":\"DOM\",\"type\":\"node\",\"instanceArgs\":{\"namespace\":\"html\",\"tag\":\"div\"},\"children\":[{\"props\":{},\"nodeType\":\"Scope\",\"type\":\"node\",\"instanceArgs\":{\"imports\":{\"data\":[{\"name\":\"knockout\",\"type\":\"js\",\"url\":\"\\/assetserver\\/d0f67ea5103338bec547a71428bdbf3df4f08059-knockout.js\"},{\"name\":\"knockout_punches\",\"type\":\"js\",\"url\":\"\\/assetserver\\/e26f753938579e2287344150f7e368ac4b529445-knockout_punches.js\"},{\"name\":null,\"type\":\"js\",\"url\":\"\\/assetserver\\/f71b84de1a55136a6c3fa3ef48eef72511463954-all.js\"},{\"name\":null,\"type\":\"css\",\"url\":\"\\/assetserver\\/dfba341bd7a3bedeba9caeda5288e80d20d1c596-style.css\"},{\"name\":null,\"type\":\"css\",\"url\":\"\\/assetserver\\/53e68c0bec04ce908a124e6cd1565929ff6ce3a7-bulma_confined.min.css\"}],\"type\":\"async_block\"},\"id\":\"6348065253225411813\",\"handlers\":{\"filename\":[\"(function (val){return (val!=this.model[\\\"filename\\\"]()) ? (this.valueFromJulia[\\\"filename\\\"]=true, this.model[\\\"filename\\\"](val)) : undefined})\"],\"path\":[\"(function (val){return (val!=this.model[\\\"path\\\"]()) ? (this.valueFromJulia[\\\"path\\\"]=true, this.model[\\\"path\\\"](val)) : undefined})\"]},\"systemjs_options\":null,\"mount_callbacks\":[\"function () {\\n    var handler = (function (ko, koPunches) {\\n    ko.punches.enableAll();\\n    ko.bindingHandlers.numericValue = {\\n        init: function(element, valueAccessor, allBindings, data, context) {\\n            var stringified = ko.observable(ko.unwrap(valueAccessor()));\\n            stringified.subscribe(function(value) {\\n                var val = parseFloat(value);\\n                if (!isNaN(val)) {\\n                    valueAccessor()(val);\\n                }\\n            });\\n            valueAccessor().subscribe(function(value) {\\n                var str = JSON.stringify(value);\\n                if ((str == \\\"0\\\") && ([\\\"-0\\\", \\\"-0.\\\"].indexOf(stringified()) >= 0))\\n                     return;\\n                 if ([\\\"null\\\", \\\"\\\"].indexOf(str) >= 0)\\n                     return;\\n                stringified(str);\\n            });\\n            ko.applyBindingsToNode(\\n                element,\\n                {\\n                    value: stringified,\\n                    valueUpdate: allBindings.get('valueUpdate'),\\n                },\\n                context,\\n            );\\n        }\\n    };\\n    var json_data = {\\\"filename\\\":WebIO.getval({\\\"name\\\":\\\"filename\\\",\\\"scope\\\":\\\"6348065253225411813\\\",\\\"id\\\":\\\"4\\\",\\\"type\\\":\\\"observable\\\"}),\\\"path\\\":WebIO.getval({\\\"name\\\":\\\"path\\\",\\\"scope\\\":\\\"6348065253225411813\\\",\\\"id\\\":\\\"3\\\",\\\"type\\\":\\\"observable\\\"})};\\n    var self = this;\\n    function AppViewModel() {\\n        for (var key in json_data) {\\n            var el = json_data[key];\\n            this[key] = Array.isArray(el) ? ko.observableArray(el) : ko.observable(el);\\n        }\\n        [this[\\\"onFileUpload\\\"]=function(data, e) {\\n    var files = e.target.files;\\n    this.filename(files[0].name);\\n    return this.path(files[0].path);\\n}\\n]\\n        \\n        [this[\\\"filename\\\"].subscribe((function (val){!(this.valueFromJulia[\\\"filename\\\"]) ? (WebIO.setval({\\\"name\\\":\\\"filename\\\",\\\"scope\\\":\\\"6348065253225411813\\\",\\\"id\\\":\\\"4\\\",\\\"type\\\":\\\"observable\\\"},val)) : undefined; return this.valueFromJulia[\\\"filename\\\"]=false}),self),this[\\\"path\\\"].subscribe((function (val){!(this.valueFromJulia[\\\"path\\\"]) ? (WebIO.setval({\\\"name\\\":\\\"path\\\",\\\"scope\\\":\\\"6348065253225411813\\\",\\\"id\\\":\\\"3\\\",\\\"type\\\":\\\"observable\\\"},val)) : undefined; return this.valueFromJulia[\\\"path\\\"]=false}),self)]\\n        \\n    }\\n    self.model = new AppViewModel();\\n    self.valueFromJulia = {};\\n    for (var key in json_data) {\\n        self.valueFromJulia[key] = false;\\n    }\\n    ko.applyBindings(self.model, self.dom);\\n}\\n);\\n    (WebIO.importBlock({\\\"data\\\":[{\\\"name\\\":\\\"knockout\\\",\\\"type\\\":\\\"js\\\",\\\"url\\\":\\\"\\/assetserver\\/d0f67ea5103338bec547a71428bdbf3df4f08059-knockout.js\\\"},{\\\"name\\\":\\\"knockout_punches\\\",\\\"type\\\":\\\"js\\\",\\\"url\\\":\\\"\\/assetserver\\/e26f753938579e2287344150f7e368ac4b529445-knockout_punches.js\\\"}],\\\"type\\\":\\\"async_block\\\"})).then((imports) => handler.apply(this, imports));\\n}\\n\"],\"observables\":{\"filename\":{\"sync\":false,\"id\":\"4\",\"value\":\"\"},\"path\":{\"sync\":false,\"id\":\"3\",\"value\":\"\"}}},\"children\":[{\"props\":{\"attributes\":{\"style\":\"display:flex; align-items:center;\"}},\"nodeType\":\"DOM\",\"type\":\"node\",\"instanceArgs\":{\"namespace\":\"html\",\"tag\":\"div\"},\"children\":[{\"props\":{\"className\":\"\"},\"nodeType\":\"DOM\",\"type\":\"node\",\"instanceArgs\":{\"namespace\":\"html\",\"tag\":\"label\"},\"children\":[{\"props\":{\"attributes\":{\"type\":\"file\",\"data-bind\":\"event: {change: onFileUpload}\",\"style\":\"display: none;\"},\"className\":\"file \"},\"nodeType\":\"DOM\",\"type\":\"node\",\"instanceArgs\":{\"namespace\":\"html\",\"tag\":\"input\"},\"children\":[]},{\"props\":{\"className\":\"file-cta\"},\"nodeType\":\"DOM\",\"type\":\"node\",\"instanceArgs\":{\"namespace\":\"html\",\"tag\":\"span\"},\"children\":[{\"props\":{\"className\":\"file-icon\"},\"nodeType\":\"DOM\",\"type\":\"node\",\"instanceArgs\":{\"namespace\":\"html\",\"tag\":\"span\"},\"children\":[{\"props\":{\"className\":\"fas fa-upload\"},\"nodeType\":\"DOM\",\"type\":\"node\",\"instanceArgs\":{\"namespace\":\"html\",\"tag\":\"i\"},\"children\":[]}]},{\"props\":{\"className\":\"\"},\"nodeType\":\"DOM\",\"type\":\"node\",\"instanceArgs\":{\"namespace\":\"html\",\"tag\":\"span\"},\"children\":[\"Choose a file...\"]}]}]},{\"props\":{\"attributes\":{\"data-bind\":\" text: filename() == '' ? 'No file chosen' : filename()\"},\"className\":\"file-name\"},\"nodeType\":\"DOM\",\"type\":\"node\",\"instanceArgs\":{\"namespace\":\"html\",\"tag\":\"span\"},\"children\":[]}]}]}]},\n",
       "        window,\n",
       "    );\n",
       "    })()\n",
       "    </script>\n",
       "</div>\n"
      ],
      "text/plain": [
       "(div { className=\"field interact-widget\" }\n",
       "    (div { attributes=Dict{SubString{String}, SubString{String}}(\"style\" => \"display:flex; align-items:center;\") }\n",
       "    (label { className=\"\" }\n",
       "      (input { attributes=Dict{Union{String, Symbol}, Any}(:type => \"file\", Symbol(\"data-bind\") => \"event: {change: onFileUpload}\", :style => \"display: none;\") className=\"file \" })\n",
       "      (span { className=\"file-cta\" }\n",
       "        (span { className=\"file-icon\" }\n",
       "          (i { className=\"fas fa-upload\" }))\n",
       "        (span { className=\"\" }\n",
       "          \"Choose a file...\")))\n",
       "    (span { attributes=Dict(\"data-bind\" => \" text: filename() == '' ? 'No file chosen' : filename()\") className=\"file-name\" })))"
      ]
     },
     "metadata": {
      "application/vnd.webio.node+json": {
       "kernelId": "456cb6c0-a4d4-414f-9e24-5bd635f6d622"
      }
     },
     "output_type": "display_data"
    },
    {
     "data": {
      "application/vnd.webio.node+json": {
       "children": [
        {
         "children": [
          {
           "children": [],
           "instanceArgs": {
            "namespace": "html",
            "tag": "input"
           },
           "nodeType": "DOM",
           "props": {
            "attributes": {
             "data-bind": "value: value, valueUpdate: 'input', event: {change: function (){this.changes(this.changes()+1)}}",
             "type": "text"
            },
            "className": "input ",
            "placeholder": "Write here",
            "style": {}
           },
           "type": "node"
          }
         ],
         "instanceArgs": {
          "handlers": {
           "changes": [
            "(function (val){return (val!=this.model[\"changes\"]()) ? (this.valueFromJulia[\"changes\"]=true, this.model[\"changes\"](val)) : undefined})"
           ],
           "value": [
            "(function (val){return (val!=this.model[\"value\"]()) ? (this.valueFromJulia[\"value\"]=true, this.model[\"value\"](val)) : undefined})"
           ]
          },
          "id": "17615181053171065601",
          "imports": {
           "data": [
            {
             "name": "knockout",
             "type": "js",
             "url": "/assetserver/d0f67ea5103338bec547a71428bdbf3df4f08059-knockout.js"
            },
            {
             "name": "knockout_punches",
             "type": "js",
             "url": "/assetserver/e26f753938579e2287344150f7e368ac4b529445-knockout_punches.js"
            },
            {
             "name": null,
             "type": "js",
             "url": "/assetserver/f71b84de1a55136a6c3fa3ef48eef72511463954-all.js"
            },
            {
             "name": null,
             "type": "css",
             "url": "/assetserver/dfba341bd7a3bedeba9caeda5288e80d20d1c596-style.css"
            },
            {
             "name": null,
             "type": "css",
             "url": "/assetserver/53e68c0bec04ce908a124e6cd1565929ff6ce3a7-bulma_confined.min.css"
            }
           ],
           "type": "async_block"
          },
          "mount_callbacks": [
           "function () {\n    var handler = (function (ko, koPunches) {\n    ko.punches.enableAll();\n    ko.bindingHandlers.numericValue = {\n        init: function(element, valueAccessor, allBindings, data, context) {\n            var stringified = ko.observable(ko.unwrap(valueAccessor()));\n            stringified.subscribe(function(value) {\n                var val = parseFloat(value);\n                if (!isNaN(val)) {\n                    valueAccessor()(val);\n                }\n            });\n            valueAccessor().subscribe(function(value) {\n                var str = JSON.stringify(value);\n                if ((str == \"0\") && ([\"-0\", \"-0.\"].indexOf(stringified()) >= 0))\n                     return;\n                 if ([\"null\", \"\"].indexOf(str) >= 0)\n                     return;\n                stringified(str);\n            });\n            ko.applyBindingsToNode(\n                element,\n                {\n                    value: stringified,\n                    valueUpdate: allBindings.get('valueUpdate'),\n                },\n                context,\n            );\n        }\n    };\n    var json_data = {\"changes\":WebIO.getval({\"name\":\"changes\",\"scope\":\"17615181053171065601\",\"id\":\"6\",\"type\":\"observable\"}),\"value\":WebIO.getval({\"name\":\"value\",\"scope\":\"17615181053171065601\",\"id\":\"5\",\"type\":\"observable\"})};\n    var self = this;\n    function AppViewModel() {\n        for (var key in json_data) {\n            var el = json_data[key];\n            this[key] = Array.isArray(el) ? ko.observableArray(el) : ko.observable(el);\n        }\n        \n        \n        [this[\"changes\"].subscribe((function (val){!(this.valueFromJulia[\"changes\"]) ? (WebIO.setval({\"name\":\"changes\",\"scope\":\"17615181053171065601\",\"id\":\"6\",\"type\":\"observable\"},val)) : undefined; return this.valueFromJulia[\"changes\"]=false}),self),this[\"value\"].subscribe((function (val){!(this.valueFromJulia[\"value\"]) ? (WebIO.setval({\"name\":\"value\",\"scope\":\"17615181053171065601\",\"id\":\"5\",\"type\":\"observable\"},val)) : undefined; return this.valueFromJulia[\"value\"]=false}),self)]\n        \n    }\n    self.model = new AppViewModel();\n    self.valueFromJulia = {};\n    for (var key in json_data) {\n        self.valueFromJulia[key] = false;\n    }\n    ko.applyBindings(self.model, self.dom);\n}\n);\n    (WebIO.importBlock({\"data\":[{\"name\":\"knockout\",\"type\":\"js\",\"url\":\"/assetserver/d0f67ea5103338bec547a71428bdbf3df4f08059-knockout.js\"},{\"name\":\"knockout_punches\",\"type\":\"js\",\"url\":\"/assetserver/e26f753938579e2287344150f7e368ac4b529445-knockout_punches.js\"}],\"type\":\"async_block\"})).then((imports) => handler.apply(this, imports));\n}\n"
          ],
          "observables": {
           "changes": {
            "id": "6",
            "sync": false,
            "value": 0
           },
           "value": {
            "id": "5",
            "sync": false,
            "value": ""
           }
          },
          "systemjs_options": null
         },
         "nodeType": "Scope",
         "props": {},
         "type": "node"
        }
       ],
       "instanceArgs": {
        "namespace": "html",
        "tag": "div"
       },
       "nodeType": "DOM",
       "props": {
        "className": "field interact-widget"
       },
       "type": "node"
      },
      "text/html": [
       "<div\n",
       "    class=\"webio-mountpoint\"\n",
       "    data-webio-mountpoint=\"6341568718387350042\"\n",
       ">\n",
       "    <script>\n",
       "    (function(){\n",
       "    // Some integrations (namely, IJulia/Jupyter) use an alternate render pathway than\n",
       "    // just putting the html on the page. If WebIO isn't defined, then it's pretty likely\n",
       "    // that we're in one of those situations and the integration just isn't installed\n",
       "    // correctly.\n",
       "    if (typeof window.WebIO === \"undefined\") {\n",
       "        document\n",
       "            .querySelector('[data-webio-mountpoint=\"6341568718387350042\"]')\n",
       "            .innerHTML = (\n",
       "                '<div style=\"padding: 1em; background-color: #f8d6da; border: 1px solid #f5c6cb; font-weight: bold;\">' +\n",
       "                '<p><strong>WebIO not detected.</strong></p>' +\n",
       "                '<p>Please read ' +\n",
       "                '<a href=\"https://juliagizmos.github.io/WebIO.jl/latest/troubleshooting/not-detected/\" target=\"_blank\">the troubleshooting guide</a> ' +\n",
       "                'for more information on how to resolve this issue.</p>' +\n",
       "                '<p><a href=\"https://juliagizmos.github.io/WebIO.jl/latest/troubleshooting/not-detected/\" target=\"_blank\">https://juliagizmos.github.io/WebIO.jl/latest/troubleshooting/not-detected/</a></p>' +\n",
       "                '</div>'\n",
       "            );\n",
       "        return;\n",
       "    }\n",
       "    WebIO.mount(\n",
       "        document.querySelector('[data-webio-mountpoint=\"6341568718387350042\"]'),\n",
       "        {\"props\":{\"className\":\"field interact-widget\"},\"nodeType\":\"DOM\",\"type\":\"node\",\"instanceArgs\":{\"namespace\":\"html\",\"tag\":\"div\"},\"children\":[{\"props\":{},\"nodeType\":\"Scope\",\"type\":\"node\",\"instanceArgs\":{\"imports\":{\"data\":[{\"name\":\"knockout\",\"type\":\"js\",\"url\":\"\\/assetserver\\/d0f67ea5103338bec547a71428bdbf3df4f08059-knockout.js\"},{\"name\":\"knockout_punches\",\"type\":\"js\",\"url\":\"\\/assetserver\\/e26f753938579e2287344150f7e368ac4b529445-knockout_punches.js\"},{\"name\":null,\"type\":\"js\",\"url\":\"\\/assetserver\\/f71b84de1a55136a6c3fa3ef48eef72511463954-all.js\"},{\"name\":null,\"type\":\"css\",\"url\":\"\\/assetserver\\/dfba341bd7a3bedeba9caeda5288e80d20d1c596-style.css\"},{\"name\":null,\"type\":\"css\",\"url\":\"\\/assetserver\\/53e68c0bec04ce908a124e6cd1565929ff6ce3a7-bulma_confined.min.css\"}],\"type\":\"async_block\"},\"id\":\"17615181053171065601\",\"handlers\":{\"changes\":[\"(function (val){return (val!=this.model[\\\"changes\\\"]()) ? (this.valueFromJulia[\\\"changes\\\"]=true, this.model[\\\"changes\\\"](val)) : undefined})\"],\"value\":[\"(function (val){return (val!=this.model[\\\"value\\\"]()) ? (this.valueFromJulia[\\\"value\\\"]=true, this.model[\\\"value\\\"](val)) : undefined})\"]},\"systemjs_options\":null,\"mount_callbacks\":[\"function () {\\n    var handler = (function (ko, koPunches) {\\n    ko.punches.enableAll();\\n    ko.bindingHandlers.numericValue = {\\n        init: function(element, valueAccessor, allBindings, data, context) {\\n            var stringified = ko.observable(ko.unwrap(valueAccessor()));\\n            stringified.subscribe(function(value) {\\n                var val = parseFloat(value);\\n                if (!isNaN(val)) {\\n                    valueAccessor()(val);\\n                }\\n            });\\n            valueAccessor().subscribe(function(value) {\\n                var str = JSON.stringify(value);\\n                if ((str == \\\"0\\\") && ([\\\"-0\\\", \\\"-0.\\\"].indexOf(stringified()) >= 0))\\n                     return;\\n                 if ([\\\"null\\\", \\\"\\\"].indexOf(str) >= 0)\\n                     return;\\n                stringified(str);\\n            });\\n            ko.applyBindingsToNode(\\n                element,\\n                {\\n                    value: stringified,\\n                    valueUpdate: allBindings.get('valueUpdate'),\\n                },\\n                context,\\n            );\\n        }\\n    };\\n    var json_data = {\\\"changes\\\":WebIO.getval({\\\"name\\\":\\\"changes\\\",\\\"scope\\\":\\\"17615181053171065601\\\",\\\"id\\\":\\\"6\\\",\\\"type\\\":\\\"observable\\\"}),\\\"value\\\":WebIO.getval({\\\"name\\\":\\\"value\\\",\\\"scope\\\":\\\"17615181053171065601\\\",\\\"id\\\":\\\"5\\\",\\\"type\\\":\\\"observable\\\"})};\\n    var self = this;\\n    function AppViewModel() {\\n        for (var key in json_data) {\\n            var el = json_data[key];\\n            this[key] = Array.isArray(el) ? ko.observableArray(el) : ko.observable(el);\\n        }\\n        \\n        \\n        [this[\\\"changes\\\"].subscribe((function (val){!(this.valueFromJulia[\\\"changes\\\"]) ? (WebIO.setval({\\\"name\\\":\\\"changes\\\",\\\"scope\\\":\\\"17615181053171065601\\\",\\\"id\\\":\\\"6\\\",\\\"type\\\":\\\"observable\\\"},val)) : undefined; return this.valueFromJulia[\\\"changes\\\"]=false}),self),this[\\\"value\\\"].subscribe((function (val){!(this.valueFromJulia[\\\"value\\\"]) ? (WebIO.setval({\\\"name\\\":\\\"value\\\",\\\"scope\\\":\\\"17615181053171065601\\\",\\\"id\\\":\\\"5\\\",\\\"type\\\":\\\"observable\\\"},val)) : undefined; return this.valueFromJulia[\\\"value\\\"]=false}),self)]\\n        \\n    }\\n    self.model = new AppViewModel();\\n    self.valueFromJulia = {};\\n    for (var key in json_data) {\\n        self.valueFromJulia[key] = false;\\n    }\\n    ko.applyBindings(self.model, self.dom);\\n}\\n);\\n    (WebIO.importBlock({\\\"data\\\":[{\\\"name\\\":\\\"knockout\\\",\\\"type\\\":\\\"js\\\",\\\"url\\\":\\\"\\/assetserver\\/d0f67ea5103338bec547a71428bdbf3df4f08059-knockout.js\\\"},{\\\"name\\\":\\\"knockout_punches\\\",\\\"type\\\":\\\"js\\\",\\\"url\\\":\\\"\\/assetserver\\/e26f753938579e2287344150f7e368ac4b529445-knockout_punches.js\\\"}],\\\"type\\\":\\\"async_block\\\"})).then((imports) => handler.apply(this, imports));\\n}\\n\"],\"observables\":{\"changes\":{\"sync\":false,\"id\":\"6\",\"value\":0},\"value\":{\"sync\":false,\"id\":\"5\",\"value\":\"\"}}},\"children\":[{\"props\":{\"attributes\":{\"type\":\"text\",\"data-bind\":\"value: value, valueUpdate: 'input', event: {change: function (){this.changes(this.changes()+1)}}\"},\"placeholder\":\"Write here\",\"className\":\"input \",\"style\":{}},\"nodeType\":\"DOM\",\"type\":\"node\",\"instanceArgs\":{\"namespace\":\"html\",\"tag\":\"input\"},\"children\":[]}]}]},\n",
       "        window,\n",
       "    );\n",
       "    })()\n",
       "    </script>\n",
       "</div>\n"
      ],
      "text/plain": [
       "(div { className=\"field interact-widget\" }\n",
       "    (input { attributes=Dict{Any, Any}(:type => \"text\", Symbol(\"data-bind\") => \"value: value, valueUpdate: 'input', event: {change: function (){this.changes(this.changes()+1)}}\") placeholder=\"Write here\" className=\"input \" style=Dict{Any, Any}() }))"
      ]
     },
     "metadata": {
      "application/vnd.webio.node+json": {
       "kernelId": "456cb6c0-a4d4-414f-9e24-5bd635f6d622"
      }
     },
     "output_type": "display_data"
    },
    {
     "data": {
      "application/vnd.webio.node+json": {
       "children": [
        {
         "children": [
          {
           "children": [
            {
             "children": [],
             "instanceArgs": {
              "namespace": "html",
              "tag": "input"
             },
             "nodeType": "DOM",
             "props": {
              "attributes": {
               "data-bind": "value: value, valueUpdate: 'input', event: {change: function (){this.changes(this.changes()+1)}}",
               "list": "##292",
               "type": "text"
              },
              "className": "input ",
              "placeholder": "",
              "style": {}
             },
             "type": "node"
            },
            {
             "children": [
              {
               "children": [],
               "instanceArgs": {
                "namespace": "html",
                "tag": "option"
               },
               "nodeType": "DOM",
               "props": {
                "attributes": {
                 "data-bind": "value : key"
                }
               },
               "type": "node"
              }
             ],
             "instanceArgs": {
              "namespace": "html",
              "tag": "datalist"
             },
             "nodeType": "DOM",
             "props": {
              "attributes": {
               "data-bind": "foreach : options_js",
               "id": "##292"
              }
             },
             "type": "node"
            }
           ],
           "instanceArgs": {
            "namespace": "html",
            "tag": "div"
           },
           "nodeType": "DOM",
           "props": {},
           "type": "node"
          }
         ],
         "instanceArgs": {
          "handlers": {
           "changes": [
            "(function (val){return (val!=this.model[\"changes\"]()) ? (this.valueFromJulia[\"changes\"]=true, this.model[\"changes\"](val)) : undefined})"
           ],
           "options_js": [
            "(function (val){return (val!=this.model[\"options_js\"]()) ? (this.valueFromJulia[\"options_js\"]=true, this.model[\"options_js\"](val)) : undefined})"
           ],
           "value": [
            "(function (val){return (val!=this.model[\"value\"]()) ? (this.valueFromJulia[\"value\"]=true, this.model[\"value\"](val)) : undefined})"
           ]
          },
          "id": "10552033787584778981",
          "imports": {
           "data": [
            {
             "name": "knockout",
             "type": "js",
             "url": "/assetserver/d0f67ea5103338bec547a71428bdbf3df4f08059-knockout.js"
            },
            {
             "name": "knockout_punches",
             "type": "js",
             "url": "/assetserver/e26f753938579e2287344150f7e368ac4b529445-knockout_punches.js"
            },
            {
             "name": null,
             "type": "js",
             "url": "/assetserver/f71b84de1a55136a6c3fa3ef48eef72511463954-all.js"
            },
            {
             "name": null,
             "type": "css",
             "url": "/assetserver/dfba341bd7a3bedeba9caeda5288e80d20d1c596-style.css"
            },
            {
             "name": null,
             "type": "css",
             "url": "/assetserver/53e68c0bec04ce908a124e6cd1565929ff6ce3a7-bulma_confined.min.css"
            }
           ],
           "type": "async_block"
          },
          "mount_callbacks": [
           "function () {\n    var handler = (function (ko, koPunches) {\n    ko.punches.enableAll();\n    ko.bindingHandlers.numericValue = {\n        init: function(element, valueAccessor, allBindings, data, context) {\n            var stringified = ko.observable(ko.unwrap(valueAccessor()));\n            stringified.subscribe(function(value) {\n                var val = parseFloat(value);\n                if (!isNaN(val)) {\n                    valueAccessor()(val);\n                }\n            });\n            valueAccessor().subscribe(function(value) {\n                var str = JSON.stringify(value);\n                if ((str == \"0\") && ([\"-0\", \"-0.\"].indexOf(stringified()) >= 0))\n                     return;\n                 if ([\"null\", \"\"].indexOf(str) >= 0)\n                     return;\n                stringified(str);\n            });\n            ko.applyBindingsToNode(\n                element,\n                {\n                    value: stringified,\n                    valueUpdate: allBindings.get('valueUpdate'),\n                },\n                context,\n            );\n        }\n    };\n    var json_data = {\"changes\":WebIO.getval({\"name\":\"changes\",\"scope\":\"10552033787584778981\",\"id\":\"10\",\"type\":\"observable\"}),\"value\":WebIO.getval({\"name\":\"value\",\"scope\":\"10552033787584778981\",\"id\":\"9\",\"type\":\"observable\"}),\"options_js\":WebIO.getval({\"name\":\"options_js\",\"scope\":\"10552033787584778981\",\"id\":\"8\",\"type\":\"observable\"})};\n    var self = this;\n    function AppViewModel() {\n        for (var key in json_data) {\n            var el = json_data[key];\n            this[key] = Array.isArray(el) ? ko.observableArray(el) : ko.observable(el);\n        }\n        \n        \n        [this[\"changes\"].subscribe((function (val){!(this.valueFromJulia[\"changes\"]) ? (WebIO.setval({\"name\":\"changes\",\"scope\":\"10552033787584778981\",\"id\":\"10\",\"type\":\"observable\"},val)) : undefined; return this.valueFromJulia[\"changes\"]=false}),self),this[\"value\"].subscribe((function (val){!(this.valueFromJulia[\"value\"]) ? (WebIO.setval({\"name\":\"value\",\"scope\":\"10552033787584778981\",\"id\":\"9\",\"type\":\"observable\"},val)) : undefined; return this.valueFromJulia[\"value\"]=false}),self),this[\"options_js\"].subscribe((function (val){!(this.valueFromJulia[\"options_js\"]) ? (WebIO.setval({\"name\":\"options_js\",\"scope\":\"10552033787584778981\",\"id\":\"8\",\"type\":\"observable\"},val)) : undefined; return this.valueFromJulia[\"options_js\"]=false}),self)]\n        \n    }\n    self.model = new AppViewModel();\n    self.valueFromJulia = {};\n    for (var key in json_data) {\n        self.valueFromJulia[key] = false;\n    }\n    ko.applyBindings(self.model, self.dom);\n}\n);\n    (WebIO.importBlock({\"data\":[{\"name\":\"knockout\",\"type\":\"js\",\"url\":\"/assetserver/d0f67ea5103338bec547a71428bdbf3df4f08059-knockout.js\"},{\"name\":\"knockout_punches\",\"type\":\"js\",\"url\":\"/assetserver/e26f753938579e2287344150f7e368ac4b529445-knockout_punches.js\"}],\"type\":\"async_block\"})).then((imports) => handler.apply(this, imports));\n}\n"
          ],
          "observables": {
           "changes": {
            "id": "10",
            "sync": false,
            "value": 0
           },
           "options_js": {
            "id": "8",
            "sync": false,
            "value": [
             {
              "id": "idL7aa779S",
              "key": "Mary",
              "val": 1
             },
             {
              "id": "idtk9n2MyM",
              "key": "Jane",
              "val": 2
             },
             {
              "id": "idSc6wh7mP",
              "key": "Jack",
              "val": 3
             }
            ]
           },
           "value": {
            "id": "9",
            "sync": false,
            "value": ""
           }
          },
          "systemjs_options": null
         },
         "nodeType": "Scope",
         "props": {},
         "type": "node"
        }
       ],
       "instanceArgs": {
        "namespace": "html",
        "tag": "div"
       },
       "nodeType": "DOM",
       "props": {
        "className": "field interact-widget"
       },
       "type": "node"
      },
      "text/html": [
       "<div\n",
       "    class=\"webio-mountpoint\"\n",
       "    data-webio-mountpoint=\"12921129472577620197\"\n",
       ">\n",
       "    <script>\n",
       "    (function(){\n",
       "    // Some integrations (namely, IJulia/Jupyter) use an alternate render pathway than\n",
       "    // just putting the html on the page. If WebIO isn't defined, then it's pretty likely\n",
       "    // that we're in one of those situations and the integration just isn't installed\n",
       "    // correctly.\n",
       "    if (typeof window.WebIO === \"undefined\") {\n",
       "        document\n",
       "            .querySelector('[data-webio-mountpoint=\"12921129472577620197\"]')\n",
       "            .innerHTML = (\n",
       "                '<div style=\"padding: 1em; background-color: #f8d6da; border: 1px solid #f5c6cb; font-weight: bold;\">' +\n",
       "                '<p><strong>WebIO not detected.</strong></p>' +\n",
       "                '<p>Please read ' +\n",
       "                '<a href=\"https://juliagizmos.github.io/WebIO.jl/latest/troubleshooting/not-detected/\" target=\"_blank\">the troubleshooting guide</a> ' +\n",
       "                'for more information on how to resolve this issue.</p>' +\n",
       "                '<p><a href=\"https://juliagizmos.github.io/WebIO.jl/latest/troubleshooting/not-detected/\" target=\"_blank\">https://juliagizmos.github.io/WebIO.jl/latest/troubleshooting/not-detected/</a></p>' +\n",
       "                '</div>'\n",
       "            );\n",
       "        return;\n",
       "    }\n",
       "    WebIO.mount(\n",
       "        document.querySelector('[data-webio-mountpoint=\"12921129472577620197\"]'),\n",
       "        {\"props\":{\"className\":\"field interact-widget\"},\"nodeType\":\"DOM\",\"type\":\"node\",\"instanceArgs\":{\"namespace\":\"html\",\"tag\":\"div\"},\"children\":[{\"props\":{},\"nodeType\":\"Scope\",\"type\":\"node\",\"instanceArgs\":{\"imports\":{\"data\":[{\"name\":\"knockout\",\"type\":\"js\",\"url\":\"\\/assetserver\\/d0f67ea5103338bec547a71428bdbf3df4f08059-knockout.js\"},{\"name\":\"knockout_punches\",\"type\":\"js\",\"url\":\"\\/assetserver\\/e26f753938579e2287344150f7e368ac4b529445-knockout_punches.js\"},{\"name\":null,\"type\":\"js\",\"url\":\"\\/assetserver\\/f71b84de1a55136a6c3fa3ef48eef72511463954-all.js\"},{\"name\":null,\"type\":\"css\",\"url\":\"\\/assetserver\\/dfba341bd7a3bedeba9caeda5288e80d20d1c596-style.css\"},{\"name\":null,\"type\":\"css\",\"url\":\"\\/assetserver\\/53e68c0bec04ce908a124e6cd1565929ff6ce3a7-bulma_confined.min.css\"}],\"type\":\"async_block\"},\"id\":\"10552033787584778981\",\"handlers\":{\"changes\":[\"(function (val){return (val!=this.model[\\\"changes\\\"]()) ? (this.valueFromJulia[\\\"changes\\\"]=true, this.model[\\\"changes\\\"](val)) : undefined})\"],\"value\":[\"(function (val){return (val!=this.model[\\\"value\\\"]()) ? (this.valueFromJulia[\\\"value\\\"]=true, this.model[\\\"value\\\"](val)) : undefined})\"],\"options_js\":[\"(function (val){return (val!=this.model[\\\"options_js\\\"]()) ? (this.valueFromJulia[\\\"options_js\\\"]=true, this.model[\\\"options_js\\\"](val)) : undefined})\"]},\"systemjs_options\":null,\"mount_callbacks\":[\"function () {\\n    var handler = (function (ko, koPunches) {\\n    ko.punches.enableAll();\\n    ko.bindingHandlers.numericValue = {\\n        init: function(element, valueAccessor, allBindings, data, context) {\\n            var stringified = ko.observable(ko.unwrap(valueAccessor()));\\n            stringified.subscribe(function(value) {\\n                var val = parseFloat(value);\\n                if (!isNaN(val)) {\\n                    valueAccessor()(val);\\n                }\\n            });\\n            valueAccessor().subscribe(function(value) {\\n                var str = JSON.stringify(value);\\n                if ((str == \\\"0\\\") && ([\\\"-0\\\", \\\"-0.\\\"].indexOf(stringified()) >= 0))\\n                     return;\\n                 if ([\\\"null\\\", \\\"\\\"].indexOf(str) >= 0)\\n                     return;\\n                stringified(str);\\n            });\\n            ko.applyBindingsToNode(\\n                element,\\n                {\\n                    value: stringified,\\n                    valueUpdate: allBindings.get('valueUpdate'),\\n                },\\n                context,\\n            );\\n        }\\n    };\\n    var json_data = {\\\"changes\\\":WebIO.getval({\\\"name\\\":\\\"changes\\\",\\\"scope\\\":\\\"10552033787584778981\\\",\\\"id\\\":\\\"10\\\",\\\"type\\\":\\\"observable\\\"}),\\\"value\\\":WebIO.getval({\\\"name\\\":\\\"value\\\",\\\"scope\\\":\\\"10552033787584778981\\\",\\\"id\\\":\\\"9\\\",\\\"type\\\":\\\"observable\\\"}),\\\"options_js\\\":WebIO.getval({\\\"name\\\":\\\"options_js\\\",\\\"scope\\\":\\\"10552033787584778981\\\",\\\"id\\\":\\\"8\\\",\\\"type\\\":\\\"observable\\\"})};\\n    var self = this;\\n    function AppViewModel() {\\n        for (var key in json_data) {\\n            var el = json_data[key];\\n            this[key] = Array.isArray(el) ? ko.observableArray(el) : ko.observable(el);\\n        }\\n        \\n        \\n        [this[\\\"changes\\\"].subscribe((function (val){!(this.valueFromJulia[\\\"changes\\\"]) ? (WebIO.setval({\\\"name\\\":\\\"changes\\\",\\\"scope\\\":\\\"10552033787584778981\\\",\\\"id\\\":\\\"10\\\",\\\"type\\\":\\\"observable\\\"},val)) : undefined; return this.valueFromJulia[\\\"changes\\\"]=false}),self),this[\\\"value\\\"].subscribe((function (val){!(this.valueFromJulia[\\\"value\\\"]) ? (WebIO.setval({\\\"name\\\":\\\"value\\\",\\\"scope\\\":\\\"10552033787584778981\\\",\\\"id\\\":\\\"9\\\",\\\"type\\\":\\\"observable\\\"},val)) : undefined; return this.valueFromJulia[\\\"value\\\"]=false}),self),this[\\\"options_js\\\"].subscribe((function (val){!(this.valueFromJulia[\\\"options_js\\\"]) ? (WebIO.setval({\\\"name\\\":\\\"options_js\\\",\\\"scope\\\":\\\"10552033787584778981\\\",\\\"id\\\":\\\"8\\\",\\\"type\\\":\\\"observable\\\"},val)) : undefined; return this.valueFromJulia[\\\"options_js\\\"]=false}),self)]\\n        \\n    }\\n    self.model = new AppViewModel();\\n    self.valueFromJulia = {};\\n    for (var key in json_data) {\\n        self.valueFromJulia[key] = false;\\n    }\\n    ko.applyBindings(self.model, self.dom);\\n}\\n);\\n    (WebIO.importBlock({\\\"data\\\":[{\\\"name\\\":\\\"knockout\\\",\\\"type\\\":\\\"js\\\",\\\"url\\\":\\\"\\/assetserver\\/d0f67ea5103338bec547a71428bdbf3df4f08059-knockout.js\\\"},{\\\"name\\\":\\\"knockout_punches\\\",\\\"type\\\":\\\"js\\\",\\\"url\\\":\\\"\\/assetserver\\/e26f753938579e2287344150f7e368ac4b529445-knockout_punches.js\\\"}],\\\"type\\\":\\\"async_block\\\"})).then((imports) => handler.apply(this, imports));\\n}\\n\"],\"observables\":{\"changes\":{\"sync\":false,\"id\":\"10\",\"value\":0},\"value\":{\"sync\":false,\"id\":\"9\",\"value\":\"\"},\"options_js\":{\"sync\":false,\"id\":\"8\",\"value\":[{\"key\":\"Mary\",\"val\":1,\"id\":\"idL7aa779S\"},{\"key\":\"Jane\",\"val\":2,\"id\":\"idtk9n2MyM\"},{\"key\":\"Jack\",\"val\":3,\"id\":\"idSc6wh7mP\"}]}}},\"children\":[{\"props\":{},\"nodeType\":\"DOM\",\"type\":\"node\",\"instanceArgs\":{\"namespace\":\"html\",\"tag\":\"div\"},\"children\":[{\"props\":{\"attributes\":{\"list\":\"##292\",\"type\":\"text\",\"data-bind\":\"value: value, valueUpdate: 'input', event: {change: function (){this.changes(this.changes()+1)}}\"},\"placeholder\":\"\",\"className\":\"input \",\"style\":{}},\"nodeType\":\"DOM\",\"type\":\"node\",\"instanceArgs\":{\"namespace\":\"html\",\"tag\":\"input\"},\"children\":[]},{\"props\":{\"attributes\":{\"id\":\"##292\",\"data-bind\":\"foreach : options_js\"}},\"nodeType\":\"DOM\",\"type\":\"node\",\"instanceArgs\":{\"namespace\":\"html\",\"tag\":\"datalist\"},\"children\":[{\"props\":{\"attributes\":{\"data-bind\":\"value : key\"}},\"nodeType\":\"DOM\",\"type\":\"node\",\"instanceArgs\":{\"namespace\":\"html\",\"tag\":\"option\"},\"children\":[]}]}]}]}]},\n",
       "        window,\n",
       "    );\n",
       "    })()\n",
       "    </script>\n",
       "</div>\n"
      ],
      "text/plain": [
       "(div { className=\"field interact-widget\" }\n",
       "    (div\n",
       "    (input { attributes=Dict{Union{String, Symbol}, Any}(:list => Symbol(\"##292\"), :type => \"text\", Symbol(\"data-bind\") => \"value: value, valueUpdate: 'input', event: {change: function (){this.changes(this.changes()+1)}}\") placeholder=\"\" className=\"input \" style=Dict{Any, Any}() })\n",
       "    (datalist { attributes=Dict{String, Any}(\"id\" => Symbol(\"##292\"), \"data-bind\" => \"foreach : options_js\") }\n",
       "      (option { attributes=Dict(\"data-bind\" => \"value : key\") }))))"
      ]
     },
     "metadata": {
      "application/vnd.webio.node+json": {
       "kernelId": "456cb6c0-a4d4-414f-9e24-5bd635f6d622"
      }
     },
     "output_type": "display_data"
    },
    {
     "data": {
      "application/vnd.webio.node+json": {
       "children": [
        {
         "children": [
          {
           "children": [
            {
             "children": [],
             "instanceArgs": {
              "namespace": "html",
              "tag": "input"
             },
             "nodeType": "DOM",
             "props": {
              "attributes": {
               "data-bind": "checked: value, valueUpdate: 'change', event: {change: function (){this.changes(this.changes()+1)}}",
               "type": "checkbox"
              },
              "className": "is-checkradio ",
              "id": "##293",
              "style": {}
             },
             "type": "node"
            },
            {
             "children": [
              "Check me!"
             ],
             "instanceArgs": {
              "namespace": "html",
              "tag": "label"
             },
             "nodeType": "DOM",
             "props": {
              "attributes": {
               "className": "",
               "for": "##293"
              }
             },
             "type": "node"
            }
           ],
           "instanceArgs": {
            "namespace": "html",
            "tag": "div"
           },
           "nodeType": "DOM",
           "props": {
            "className": "field interact-widget"
           },
           "type": "node"
          }
         ],
         "instanceArgs": {
          "handlers": {
           "changes": [
            "(function (val){return (val!=this.model[\"changes\"]()) ? (this.valueFromJulia[\"changes\"]=true, this.model[\"changes\"](val)) : undefined})"
           ],
           "value": [
            "(function (val){return (val!=this.model[\"value\"]()) ? (this.valueFromJulia[\"value\"]=true, this.model[\"value\"](val)) : undefined})"
           ]
          },
          "id": "2943225476166963508",
          "imports": {
           "data": [
            {
             "name": "knockout",
             "type": "js",
             "url": "/assetserver/d0f67ea5103338bec547a71428bdbf3df4f08059-knockout.js"
            },
            {
             "name": "knockout_punches",
             "type": "js",
             "url": "/assetserver/e26f753938579e2287344150f7e368ac4b529445-knockout_punches.js"
            },
            {
             "name": null,
             "type": "js",
             "url": "/assetserver/f71b84de1a55136a6c3fa3ef48eef72511463954-all.js"
            },
            {
             "name": null,
             "type": "css",
             "url": "/assetserver/dfba341bd7a3bedeba9caeda5288e80d20d1c596-style.css"
            },
            {
             "name": null,
             "type": "css",
             "url": "/assetserver/53e68c0bec04ce908a124e6cd1565929ff6ce3a7-bulma_confined.min.css"
            }
           ],
           "type": "async_block"
          },
          "mount_callbacks": [
           "function () {\n    var handler = (function (ko, koPunches) {\n    ko.punches.enableAll();\n    ko.bindingHandlers.numericValue = {\n        init: function(element, valueAccessor, allBindings, data, context) {\n            var stringified = ko.observable(ko.unwrap(valueAccessor()));\n            stringified.subscribe(function(value) {\n                var val = parseFloat(value);\n                if (!isNaN(val)) {\n                    valueAccessor()(val);\n                }\n            });\n            valueAccessor().subscribe(function(value) {\n                var str = JSON.stringify(value);\n                if ((str == \"0\") && ([\"-0\", \"-0.\"].indexOf(stringified()) >= 0))\n                     return;\n                 if ([\"null\", \"\"].indexOf(str) >= 0)\n                     return;\n                stringified(str);\n            });\n            ko.applyBindingsToNode(\n                element,\n                {\n                    value: stringified,\n                    valueUpdate: allBindings.get('valueUpdate'),\n                },\n                context,\n            );\n        }\n    };\n    var json_data = {\"changes\":WebIO.getval({\"name\":\"changes\",\"scope\":\"2943225476166963508\",\"id\":\"12\",\"type\":\"observable\"}),\"value\":WebIO.getval({\"name\":\"value\",\"scope\":\"2943225476166963508\",\"id\":\"11\",\"type\":\"observable\"})};\n    var self = this;\n    function AppViewModel() {\n        for (var key in json_data) {\n            var el = json_data[key];\n            this[key] = Array.isArray(el) ? ko.observableArray(el) : ko.observable(el);\n        }\n        \n        \n        [this[\"changes\"].subscribe((function (val){!(this.valueFromJulia[\"changes\"]) ? (WebIO.setval({\"name\":\"changes\",\"scope\":\"2943225476166963508\",\"id\":\"12\",\"type\":\"observable\"},val)) : undefined; return this.valueFromJulia[\"changes\"]=false}),self),this[\"value\"].subscribe((function (val){!(this.valueFromJulia[\"value\"]) ? (WebIO.setval({\"name\":\"value\",\"scope\":\"2943225476166963508\",\"id\":\"11\",\"type\":\"observable\"},val)) : undefined; return this.valueFromJulia[\"value\"]=false}),self)]\n        \n    }\n    self.model = new AppViewModel();\n    self.valueFromJulia = {};\n    for (var key in json_data) {\n        self.valueFromJulia[key] = false;\n    }\n    ko.applyBindings(self.model, self.dom);\n}\n);\n    (WebIO.importBlock({\"data\":[{\"name\":\"knockout\",\"type\":\"js\",\"url\":\"/assetserver/d0f67ea5103338bec547a71428bdbf3df4f08059-knockout.js\"},{\"name\":\"knockout_punches\",\"type\":\"js\",\"url\":\"/assetserver/e26f753938579e2287344150f7e368ac4b529445-knockout_punches.js\"}],\"type\":\"async_block\"})).then((imports) => handler.apply(this, imports));\n}\n"
          ],
          "observables": {
           "changes": {
            "id": "12",
            "sync": false,
            "value": 0
           },
           "value": {
            "id": "11",
            "sync": false,
            "value": false
           }
          },
          "systemjs_options": null
         },
         "nodeType": "Scope",
         "props": {},
         "type": "node"
        }
       ],
       "instanceArgs": {
        "namespace": "html",
        "tag": "div"
       },
       "nodeType": "DOM",
       "props": {
        "className": "field interact-widget"
       },
       "type": "node"
      },
      "text/html": [
       "<div\n",
       "    class=\"webio-mountpoint\"\n",
       "    data-webio-mountpoint=\"10605505036295179458\"\n",
       ">\n",
       "    <script>\n",
       "    (function(){\n",
       "    // Some integrations (namely, IJulia/Jupyter) use an alternate render pathway than\n",
       "    // just putting the html on the page. If WebIO isn't defined, then it's pretty likely\n",
       "    // that we're in one of those situations and the integration just isn't installed\n",
       "    // correctly.\n",
       "    if (typeof window.WebIO === \"undefined\") {\n",
       "        document\n",
       "            .querySelector('[data-webio-mountpoint=\"10605505036295179458\"]')\n",
       "            .innerHTML = (\n",
       "                '<div style=\"padding: 1em; background-color: #f8d6da; border: 1px solid #f5c6cb; font-weight: bold;\">' +\n",
       "                '<p><strong>WebIO not detected.</strong></p>' +\n",
       "                '<p>Please read ' +\n",
       "                '<a href=\"https://juliagizmos.github.io/WebIO.jl/latest/troubleshooting/not-detected/\" target=\"_blank\">the troubleshooting guide</a> ' +\n",
       "                'for more information on how to resolve this issue.</p>' +\n",
       "                '<p><a href=\"https://juliagizmos.github.io/WebIO.jl/latest/troubleshooting/not-detected/\" target=\"_blank\">https://juliagizmos.github.io/WebIO.jl/latest/troubleshooting/not-detected/</a></p>' +\n",
       "                '</div>'\n",
       "            );\n",
       "        return;\n",
       "    }\n",
       "    WebIO.mount(\n",
       "        document.querySelector('[data-webio-mountpoint=\"10605505036295179458\"]'),\n",
       "        {\"props\":{\"className\":\"field interact-widget\"},\"nodeType\":\"DOM\",\"type\":\"node\",\"instanceArgs\":{\"namespace\":\"html\",\"tag\":\"div\"},\"children\":[{\"props\":{},\"nodeType\":\"Scope\",\"type\":\"node\",\"instanceArgs\":{\"imports\":{\"data\":[{\"name\":\"knockout\",\"type\":\"js\",\"url\":\"\\/assetserver\\/d0f67ea5103338bec547a71428bdbf3df4f08059-knockout.js\"},{\"name\":\"knockout_punches\",\"type\":\"js\",\"url\":\"\\/assetserver\\/e26f753938579e2287344150f7e368ac4b529445-knockout_punches.js\"},{\"name\":null,\"type\":\"js\",\"url\":\"\\/assetserver\\/f71b84de1a55136a6c3fa3ef48eef72511463954-all.js\"},{\"name\":null,\"type\":\"css\",\"url\":\"\\/assetserver\\/dfba341bd7a3bedeba9caeda5288e80d20d1c596-style.css\"},{\"name\":null,\"type\":\"css\",\"url\":\"\\/assetserver\\/53e68c0bec04ce908a124e6cd1565929ff6ce3a7-bulma_confined.min.css\"}],\"type\":\"async_block\"},\"id\":\"2943225476166963508\",\"handlers\":{\"changes\":[\"(function (val){return (val!=this.model[\\\"changes\\\"]()) ? (this.valueFromJulia[\\\"changes\\\"]=true, this.model[\\\"changes\\\"](val)) : undefined})\"],\"value\":[\"(function (val){return (val!=this.model[\\\"value\\\"]()) ? (this.valueFromJulia[\\\"value\\\"]=true, this.model[\\\"value\\\"](val)) : undefined})\"]},\"systemjs_options\":null,\"mount_callbacks\":[\"function () {\\n    var handler = (function (ko, koPunches) {\\n    ko.punches.enableAll();\\n    ko.bindingHandlers.numericValue = {\\n        init: function(element, valueAccessor, allBindings, data, context) {\\n            var stringified = ko.observable(ko.unwrap(valueAccessor()));\\n            stringified.subscribe(function(value) {\\n                var val = parseFloat(value);\\n                if (!isNaN(val)) {\\n                    valueAccessor()(val);\\n                }\\n            });\\n            valueAccessor().subscribe(function(value) {\\n                var str = JSON.stringify(value);\\n                if ((str == \\\"0\\\") && ([\\\"-0\\\", \\\"-0.\\\"].indexOf(stringified()) >= 0))\\n                     return;\\n                 if ([\\\"null\\\", \\\"\\\"].indexOf(str) >= 0)\\n                     return;\\n                stringified(str);\\n            });\\n            ko.applyBindingsToNode(\\n                element,\\n                {\\n                    value: stringified,\\n                    valueUpdate: allBindings.get('valueUpdate'),\\n                },\\n                context,\\n            );\\n        }\\n    };\\n    var json_data = {\\\"changes\\\":WebIO.getval({\\\"name\\\":\\\"changes\\\",\\\"scope\\\":\\\"2943225476166963508\\\",\\\"id\\\":\\\"12\\\",\\\"type\\\":\\\"observable\\\"}),\\\"value\\\":WebIO.getval({\\\"name\\\":\\\"value\\\",\\\"scope\\\":\\\"2943225476166963508\\\",\\\"id\\\":\\\"11\\\",\\\"type\\\":\\\"observable\\\"})};\\n    var self = this;\\n    function AppViewModel() {\\n        for (var key in json_data) {\\n            var el = json_data[key];\\n            this[key] = Array.isArray(el) ? ko.observableArray(el) : ko.observable(el);\\n        }\\n        \\n        \\n        [this[\\\"changes\\\"].subscribe((function (val){!(this.valueFromJulia[\\\"changes\\\"]) ? (WebIO.setval({\\\"name\\\":\\\"changes\\\",\\\"scope\\\":\\\"2943225476166963508\\\",\\\"id\\\":\\\"12\\\",\\\"type\\\":\\\"observable\\\"},val)) : undefined; return this.valueFromJulia[\\\"changes\\\"]=false}),self),this[\\\"value\\\"].subscribe((function (val){!(this.valueFromJulia[\\\"value\\\"]) ? (WebIO.setval({\\\"name\\\":\\\"value\\\",\\\"scope\\\":\\\"2943225476166963508\\\",\\\"id\\\":\\\"11\\\",\\\"type\\\":\\\"observable\\\"},val)) : undefined; return this.valueFromJulia[\\\"value\\\"]=false}),self)]\\n        \\n    }\\n    self.model = new AppViewModel();\\n    self.valueFromJulia = {};\\n    for (var key in json_data) {\\n        self.valueFromJulia[key] = false;\\n    }\\n    ko.applyBindings(self.model, self.dom);\\n}\\n);\\n    (WebIO.importBlock({\\\"data\\\":[{\\\"name\\\":\\\"knockout\\\",\\\"type\\\":\\\"js\\\",\\\"url\\\":\\\"\\/assetserver\\/d0f67ea5103338bec547a71428bdbf3df4f08059-knockout.js\\\"},{\\\"name\\\":\\\"knockout_punches\\\",\\\"type\\\":\\\"js\\\",\\\"url\\\":\\\"\\/assetserver\\/e26f753938579e2287344150f7e368ac4b529445-knockout_punches.js\\\"}],\\\"type\\\":\\\"async_block\\\"})).then((imports) => handler.apply(this, imports));\\n}\\n\"],\"observables\":{\"changes\":{\"sync\":false,\"id\":\"12\",\"value\":0},\"value\":{\"sync\":false,\"id\":\"11\",\"value\":false}}},\"children\":[{\"props\":{\"className\":\"field interact-widget\"},\"nodeType\":\"DOM\",\"type\":\"node\",\"instanceArgs\":{\"namespace\":\"html\",\"tag\":\"div\"},\"children\":[{\"props\":{\"attributes\":{\"type\":\"checkbox\",\"data-bind\":\"checked: value, valueUpdate: 'change', event: {change: function (){this.changes(this.changes()+1)}}\"},\"id\":\"##293\",\"className\":\"is-checkradio \",\"style\":{}},\"nodeType\":\"DOM\",\"type\":\"node\",\"instanceArgs\":{\"namespace\":\"html\",\"tag\":\"input\"},\"children\":[]},{\"props\":{\"attributes\":{\"className\":\"\",\"for\":\"##293\"}},\"nodeType\":\"DOM\",\"type\":\"node\",\"instanceArgs\":{\"namespace\":\"html\",\"tag\":\"label\"},\"children\":[\"Check me!\"]}]}]}]},\n",
       "        window,\n",
       "    );\n",
       "    })()\n",
       "    </script>\n",
       "</div>\n"
      ],
      "text/plain": [
       "(div { className=\"field interact-widget\" }\n",
       "    (div { className=\"field interact-widget\" }\n",
       "    (input { attributes=Dict{Any, Any}(:type => \"checkbox\", Symbol(\"data-bind\") => \"checked: value, valueUpdate: 'change', event: {change: function (){this.changes(this.changes()+1)}}\") id=\"##293\" className=\"is-checkradio \" style=Dict{Any, Any}() })\n",
       "    (label { attributes=Dict{SubString{String}, SubString{String}}(\"className\" => \"\", \"for\" => \"##293\") }\n",
       "      \"Check me!\")))"
      ]
     },
     "metadata": {
      "application/vnd.webio.node+json": {
       "kernelId": "456cb6c0-a4d4-414f-9e24-5bd635f6d622"
      }
     },
     "output_type": "display_data"
    },
    {
     "data": {
      "application/vnd.webio.node+json": {
       "children": [
        {
         "children": [
          {
           "children": [
            {
             "children": [],
             "instanceArgs": {
              "namespace": "html",
              "tag": "input"
             },
             "nodeType": "DOM",
             "props": {
              "attributes": {
               "data-bind": "checked: value, valueUpdate: 'change', event: {change: function (){this.changes(this.changes()+1)}}",
               "type": "checkbox"
              },
              "className": "switch ",
              "id": "##294",
              "style": {}
             },
             "type": "node"
            },
            {
             "children": [
              "I have read and agreed"
             ],
             "instanceArgs": {
              "namespace": "html",
              "tag": "label"
             },
             "nodeType": "DOM",
             "props": {
              "attributes": {
               "className": "",
               "for": "##294"
              }
             },
             "type": "node"
            }
           ],
           "instanceArgs": {
            "namespace": "html",
            "tag": "div"
           },
           "nodeType": "DOM",
           "props": {
            "className": "field interact-widget"
           },
           "type": "node"
          }
         ],
         "instanceArgs": {
          "handlers": {
           "changes": [
            "(function (val){return (val!=this.model[\"changes\"]()) ? (this.valueFromJulia[\"changes\"]=true, this.model[\"changes\"](val)) : undefined})"
           ],
           "value": [
            "(function (val){return (val!=this.model[\"value\"]()) ? (this.valueFromJulia[\"value\"]=true, this.model[\"value\"](val)) : undefined})"
           ]
          },
          "id": "13228680251903144576",
          "imports": {
           "data": [
            {
             "name": "knockout",
             "type": "js",
             "url": "/assetserver/d0f67ea5103338bec547a71428bdbf3df4f08059-knockout.js"
            },
            {
             "name": "knockout_punches",
             "type": "js",
             "url": "/assetserver/e26f753938579e2287344150f7e368ac4b529445-knockout_punches.js"
            },
            {
             "name": null,
             "type": "js",
             "url": "/assetserver/f71b84de1a55136a6c3fa3ef48eef72511463954-all.js"
            },
            {
             "name": null,
             "type": "css",
             "url": "/assetserver/dfba341bd7a3bedeba9caeda5288e80d20d1c596-style.css"
            },
            {
             "name": null,
             "type": "css",
             "url": "/assetserver/53e68c0bec04ce908a124e6cd1565929ff6ce3a7-bulma_confined.min.css"
            }
           ],
           "type": "async_block"
          },
          "mount_callbacks": [
           "function () {\n    var handler = (function (ko, koPunches) {\n    ko.punches.enableAll();\n    ko.bindingHandlers.numericValue = {\n        init: function(element, valueAccessor, allBindings, data, context) {\n            var stringified = ko.observable(ko.unwrap(valueAccessor()));\n            stringified.subscribe(function(value) {\n                var val = parseFloat(value);\n                if (!isNaN(val)) {\n                    valueAccessor()(val);\n                }\n            });\n            valueAccessor().subscribe(function(value) {\n                var str = JSON.stringify(value);\n                if ((str == \"0\") && ([\"-0\", \"-0.\"].indexOf(stringified()) >= 0))\n                     return;\n                 if ([\"null\", \"\"].indexOf(str) >= 0)\n                     return;\n                stringified(str);\n            });\n            ko.applyBindingsToNode(\n                element,\n                {\n                    value: stringified,\n                    valueUpdate: allBindings.get('valueUpdate'),\n                },\n                context,\n            );\n        }\n    };\n    var json_data = {\"changes\":WebIO.getval({\"name\":\"changes\",\"scope\":\"13228680251903144576\",\"id\":\"14\",\"type\":\"observable\"}),\"value\":WebIO.getval({\"name\":\"value\",\"scope\":\"13228680251903144576\",\"id\":\"13\",\"type\":\"observable\"})};\n    var self = this;\n    function AppViewModel() {\n        for (var key in json_data) {\n            var el = json_data[key];\n            this[key] = Array.isArray(el) ? ko.observableArray(el) : ko.observable(el);\n        }\n        \n        \n        [this[\"changes\"].subscribe((function (val){!(this.valueFromJulia[\"changes\"]) ? (WebIO.setval({\"name\":\"changes\",\"scope\":\"13228680251903144576\",\"id\":\"14\",\"type\":\"observable\"},val)) : undefined; return this.valueFromJulia[\"changes\"]=false}),self),this[\"value\"].subscribe((function (val){!(this.valueFromJulia[\"value\"]) ? (WebIO.setval({\"name\":\"value\",\"scope\":\"13228680251903144576\",\"id\":\"13\",\"type\":\"observable\"},val)) : undefined; return this.valueFromJulia[\"value\"]=false}),self)]\n        \n    }\n    self.model = new AppViewModel();\n    self.valueFromJulia = {};\n    for (var key in json_data) {\n        self.valueFromJulia[key] = false;\n    }\n    ko.applyBindings(self.model, self.dom);\n}\n);\n    (WebIO.importBlock({\"data\":[{\"name\":\"knockout\",\"type\":\"js\",\"url\":\"/assetserver/d0f67ea5103338bec547a71428bdbf3df4f08059-knockout.js\"},{\"name\":\"knockout_punches\",\"type\":\"js\",\"url\":\"/assetserver/e26f753938579e2287344150f7e368ac4b529445-knockout_punches.js\"}],\"type\":\"async_block\"})).then((imports) => handler.apply(this, imports));\n}\n"
          ],
          "observables": {
           "changes": {
            "id": "14",
            "sync": false,
            "value": 0
           },
           "value": {
            "id": "13",
            "sync": false,
            "value": false
           }
          },
          "systemjs_options": null
         },
         "nodeType": "Scope",
         "props": {},
         "type": "node"
        }
       ],
       "instanceArgs": {
        "namespace": "html",
        "tag": "div"
       },
       "nodeType": "DOM",
       "props": {
        "className": "field interact-widget"
       },
       "type": "node"
      },
      "text/html": [
       "<div\n",
       "    class=\"webio-mountpoint\"\n",
       "    data-webio-mountpoint=\"5449122650718347682\"\n",
       ">\n",
       "    <script>\n",
       "    (function(){\n",
       "    // Some integrations (namely, IJulia/Jupyter) use an alternate render pathway than\n",
       "    // just putting the html on the page. If WebIO isn't defined, then it's pretty likely\n",
       "    // that we're in one of those situations and the integration just isn't installed\n",
       "    // correctly.\n",
       "    if (typeof window.WebIO === \"undefined\") {\n",
       "        document\n",
       "            .querySelector('[data-webio-mountpoint=\"5449122650718347682\"]')\n",
       "            .innerHTML = (\n",
       "                '<div style=\"padding: 1em; background-color: #f8d6da; border: 1px solid #f5c6cb; font-weight: bold;\">' +\n",
       "                '<p><strong>WebIO not detected.</strong></p>' +\n",
       "                '<p>Please read ' +\n",
       "                '<a href=\"https://juliagizmos.github.io/WebIO.jl/latest/troubleshooting/not-detected/\" target=\"_blank\">the troubleshooting guide</a> ' +\n",
       "                'for more information on how to resolve this issue.</p>' +\n",
       "                '<p><a href=\"https://juliagizmos.github.io/WebIO.jl/latest/troubleshooting/not-detected/\" target=\"_blank\">https://juliagizmos.github.io/WebIO.jl/latest/troubleshooting/not-detected/</a></p>' +\n",
       "                '</div>'\n",
       "            );\n",
       "        return;\n",
       "    }\n",
       "    WebIO.mount(\n",
       "        document.querySelector('[data-webio-mountpoint=\"5449122650718347682\"]'),\n",
       "        {\"props\":{\"className\":\"field interact-widget\"},\"nodeType\":\"DOM\",\"type\":\"node\",\"instanceArgs\":{\"namespace\":\"html\",\"tag\":\"div\"},\"children\":[{\"props\":{},\"nodeType\":\"Scope\",\"type\":\"node\",\"instanceArgs\":{\"imports\":{\"data\":[{\"name\":\"knockout\",\"type\":\"js\",\"url\":\"\\/assetserver\\/d0f67ea5103338bec547a71428bdbf3df4f08059-knockout.js\"},{\"name\":\"knockout_punches\",\"type\":\"js\",\"url\":\"\\/assetserver\\/e26f753938579e2287344150f7e368ac4b529445-knockout_punches.js\"},{\"name\":null,\"type\":\"js\",\"url\":\"\\/assetserver\\/f71b84de1a55136a6c3fa3ef48eef72511463954-all.js\"},{\"name\":null,\"type\":\"css\",\"url\":\"\\/assetserver\\/dfba341bd7a3bedeba9caeda5288e80d20d1c596-style.css\"},{\"name\":null,\"type\":\"css\",\"url\":\"\\/assetserver\\/53e68c0bec04ce908a124e6cd1565929ff6ce3a7-bulma_confined.min.css\"}],\"type\":\"async_block\"},\"id\":\"13228680251903144576\",\"handlers\":{\"changes\":[\"(function (val){return (val!=this.model[\\\"changes\\\"]()) ? (this.valueFromJulia[\\\"changes\\\"]=true, this.model[\\\"changes\\\"](val)) : undefined})\"],\"value\":[\"(function (val){return (val!=this.model[\\\"value\\\"]()) ? (this.valueFromJulia[\\\"value\\\"]=true, this.model[\\\"value\\\"](val)) : undefined})\"]},\"systemjs_options\":null,\"mount_callbacks\":[\"function () {\\n    var handler = (function (ko, koPunches) {\\n    ko.punches.enableAll();\\n    ko.bindingHandlers.numericValue = {\\n        init: function(element, valueAccessor, allBindings, data, context) {\\n            var stringified = ko.observable(ko.unwrap(valueAccessor()));\\n            stringified.subscribe(function(value) {\\n                var val = parseFloat(value);\\n                if (!isNaN(val)) {\\n                    valueAccessor()(val);\\n                }\\n            });\\n            valueAccessor().subscribe(function(value) {\\n                var str = JSON.stringify(value);\\n                if ((str == \\\"0\\\") && ([\\\"-0\\\", \\\"-0.\\\"].indexOf(stringified()) >= 0))\\n                     return;\\n                 if ([\\\"null\\\", \\\"\\\"].indexOf(str) >= 0)\\n                     return;\\n                stringified(str);\\n            });\\n            ko.applyBindingsToNode(\\n                element,\\n                {\\n                    value: stringified,\\n                    valueUpdate: allBindings.get('valueUpdate'),\\n                },\\n                context,\\n            );\\n        }\\n    };\\n    var json_data = {\\\"changes\\\":WebIO.getval({\\\"name\\\":\\\"changes\\\",\\\"scope\\\":\\\"13228680251903144576\\\",\\\"id\\\":\\\"14\\\",\\\"type\\\":\\\"observable\\\"}),\\\"value\\\":WebIO.getval({\\\"name\\\":\\\"value\\\",\\\"scope\\\":\\\"13228680251903144576\\\",\\\"id\\\":\\\"13\\\",\\\"type\\\":\\\"observable\\\"})};\\n    var self = this;\\n    function AppViewModel() {\\n        for (var key in json_data) {\\n            var el = json_data[key];\\n            this[key] = Array.isArray(el) ? ko.observableArray(el) : ko.observable(el);\\n        }\\n        \\n        \\n        [this[\\\"changes\\\"].subscribe((function (val){!(this.valueFromJulia[\\\"changes\\\"]) ? (WebIO.setval({\\\"name\\\":\\\"changes\\\",\\\"scope\\\":\\\"13228680251903144576\\\",\\\"id\\\":\\\"14\\\",\\\"type\\\":\\\"observable\\\"},val)) : undefined; return this.valueFromJulia[\\\"changes\\\"]=false}),self),this[\\\"value\\\"].subscribe((function (val){!(this.valueFromJulia[\\\"value\\\"]) ? (WebIO.setval({\\\"name\\\":\\\"value\\\",\\\"scope\\\":\\\"13228680251903144576\\\",\\\"id\\\":\\\"13\\\",\\\"type\\\":\\\"observable\\\"},val)) : undefined; return this.valueFromJulia[\\\"value\\\"]=false}),self)]\\n        \\n    }\\n    self.model = new AppViewModel();\\n    self.valueFromJulia = {};\\n    for (var key in json_data) {\\n        self.valueFromJulia[key] = false;\\n    }\\n    ko.applyBindings(self.model, self.dom);\\n}\\n);\\n    (WebIO.importBlock({\\\"data\\\":[{\\\"name\\\":\\\"knockout\\\",\\\"type\\\":\\\"js\\\",\\\"url\\\":\\\"\\/assetserver\\/d0f67ea5103338bec547a71428bdbf3df4f08059-knockout.js\\\"},{\\\"name\\\":\\\"knockout_punches\\\",\\\"type\\\":\\\"js\\\",\\\"url\\\":\\\"\\/assetserver\\/e26f753938579e2287344150f7e368ac4b529445-knockout_punches.js\\\"}],\\\"type\\\":\\\"async_block\\\"})).then((imports) => handler.apply(this, imports));\\n}\\n\"],\"observables\":{\"changes\":{\"sync\":false,\"id\":\"14\",\"value\":0},\"value\":{\"sync\":false,\"id\":\"13\",\"value\":false}}},\"children\":[{\"props\":{\"className\":\"field interact-widget\"},\"nodeType\":\"DOM\",\"type\":\"node\",\"instanceArgs\":{\"namespace\":\"html\",\"tag\":\"div\"},\"children\":[{\"props\":{\"attributes\":{\"type\":\"checkbox\",\"data-bind\":\"checked: value, valueUpdate: 'change', event: {change: function (){this.changes(this.changes()+1)}}\"},\"id\":\"##294\",\"className\":\"switch \",\"style\":{}},\"nodeType\":\"DOM\",\"type\":\"node\",\"instanceArgs\":{\"namespace\":\"html\",\"tag\":\"input\"},\"children\":[]},{\"props\":{\"attributes\":{\"className\":\"\",\"for\":\"##294\"}},\"nodeType\":\"DOM\",\"type\":\"node\",\"instanceArgs\":{\"namespace\":\"html\",\"tag\":\"label\"},\"children\":[\"I have read and agreed\"]}]}]}]},\n",
       "        window,\n",
       "    );\n",
       "    })()\n",
       "    </script>\n",
       "</div>\n"
      ],
      "text/plain": [
       "(div { className=\"field interact-widget\" }\n",
       "    (div { className=\"field interact-widget\" }\n",
       "    (input { attributes=Dict{Any, Any}(:type => \"checkbox\", Symbol(\"data-bind\") => \"checked: value, valueUpdate: 'change', event: {change: function (){this.changes(this.changes()+1)}}\") id=\"##294\" className=\"switch \" style=Dict{Any, Any}() })\n",
       "    (label { attributes=Dict{SubString{String}, SubString{String}}(\"className\" => \"\", \"for\" => \"##294\") }\n",
       "      \"I have read and agreed\")))"
      ]
     },
     "metadata": {
      "application/vnd.webio.node+json": {
       "kernelId": "456cb6c0-a4d4-414f-9e24-5bd635f6d622"
      }
     },
     "output_type": "display_data"
    },
    {
     "data": {
      "application/vnd.webio.node+json": {
       "children": [
        {
         "children": [
          {
           "children": [
            {
             "children": [
              {
               "children": [
                "To what extent?"
               ],
               "instanceArgs": {
                "namespace": "html",
                "tag": "label"
               },
               "nodeType": "DOM",
               "props": {
                "className": "interact ",
                "style": {
                 "padding": "5px 10px 0px 10px"
                }
               },
               "type": "node"
              }
             ],
             "instanceArgs": {
              "namespace": "html",
              "tag": "div"
             },
             "nodeType": "DOM",
             "props": {
              "className": "interact-flex-row-left"
             },
             "type": "node"
            },
            {
             "children": [
              {
               "children": [],
               "instanceArgs": {
                "namespace": "html",
                "tag": "input"
               },
               "nodeType": "DOM",
               "props": {
                "attributes": {
                 "data-bind": "numericValue: index, valueUpdate: 'input', event: {change: function (){this.changes(this.changes()+1)}}",
                 "orient": "horizontal",
                 "type": "range"
                },
                "className": "slider slider is-fullwidth",
                "max": 100,
                "min": 1,
                "step": 1,
                "style": {}
               },
               "type": "node"
              }
             ],
             "instanceArgs": {
              "namespace": "html",
              "tag": "div"
             },
             "nodeType": "DOM",
             "props": {
              "className": "interact-flex-row-center"
             },
             "type": "node"
            },
            {
             "children": [
              {
               "children": [],
               "instanceArgs": {
                "namespace": "html",
                "tag": "p"
               },
               "nodeType": "DOM",
               "props": {
                "attributes": {
                 "data-bind": "text: formatted_val"
                }
               },
               "type": "node"
              }
             ],
             "instanceArgs": {
              "namespace": "html",
              "tag": "div"
             },
             "nodeType": "DOM",
             "props": {
              "className": "interact-flex-row-right"
             },
             "type": "node"
            }
           ],
           "instanceArgs": {
            "namespace": "html",
            "tag": "div"
           },
           "nodeType": "DOM",
           "props": {
            "className": "interact-flex-row interact-widget"
           },
           "type": "node"
          }
         ],
         "instanceArgs": {
          "handlers": {
           "changes": [
            "(function (val){return (val!=this.model[\"changes\"]()) ? (this.valueFromJulia[\"changes\"]=true, this.model[\"changes\"](val)) : undefined})"
           ],
           "index": [
            "(function (val){return (val!=this.model[\"index\"]()) ? (this.valueFromJulia[\"index\"]=true, this.model[\"index\"](val)) : undefined})"
           ]
          },
          "id": "3006553465610816821",
          "imports": {
           "data": [
            {
             "name": "knockout",
             "type": "js",
             "url": "/assetserver/d0f67ea5103338bec547a71428bdbf3df4f08059-knockout.js"
            },
            {
             "name": "knockout_punches",
             "type": "js",
             "url": "/assetserver/e26f753938579e2287344150f7e368ac4b529445-knockout_punches.js"
            },
            {
             "name": null,
             "type": "js",
             "url": "/assetserver/f71b84de1a55136a6c3fa3ef48eef72511463954-all.js"
            },
            {
             "name": null,
             "type": "css",
             "url": "/assetserver/dfba341bd7a3bedeba9caeda5288e80d20d1c596-style.css"
            },
            {
             "name": null,
             "type": "css",
             "url": "/assetserver/53e68c0bec04ce908a124e6cd1565929ff6ce3a7-bulma_confined.min.css"
            }
           ],
           "type": "async_block"
          },
          "mount_callbacks": [
           "function () {\n    var handler = (function (ko, koPunches) {\n    ko.punches.enableAll();\n    ko.bindingHandlers.numericValue = {\n        init: function(element, valueAccessor, allBindings, data, context) {\n            var stringified = ko.observable(ko.unwrap(valueAccessor()));\n            stringified.subscribe(function(value) {\n                var val = parseFloat(value);\n                if (!isNaN(val)) {\n                    valueAccessor()(val);\n                }\n            });\n            valueAccessor().subscribe(function(value) {\n                var str = JSON.stringify(value);\n                if ((str == \"0\") && ([\"-0\", \"-0.\"].indexOf(stringified()) >= 0))\n                     return;\n                 if ([\"null\", \"\"].indexOf(str) >= 0)\n                     return;\n                stringified(str);\n            });\n            ko.applyBindingsToNode(\n                element,\n                {\n                    value: stringified,\n                    valueUpdate: allBindings.get('valueUpdate'),\n                },\n                context,\n            );\n        }\n    };\n    var json_data = {\"formatted_vals\":[\"1\",\"2\",\"3\",\"4\",\"5\",\"6\",\"7\",\"8\",\"9\",\"10\",\"11\",\"12\",\"13\",\"14\",\"15\",\"16\",\"17\",\"18\",\"19\",\"20\",\"21\",\"22\",\"23\",\"24\",\"25\",\"26\",\"27\",\"28\",\"29\",\"30\",\"31\",\"32\",\"33\",\"34\",\"35\",\"36\",\"37\",\"38\",\"39\",\"40\",\"41\",\"42\",\"43\",\"44\",\"45\",\"46\",\"47\",\"48\",\"49\",\"50\",\"51\",\"52\",\"53\",\"54\",\"55\",\"56\",\"57\",\"58\",\"59\",\"60\",\"61\",\"62\",\"63\",\"64\",\"65\",\"66\",\"67\",\"68\",\"69\",\"70\",\"71\",\"72\",\"73\",\"74\",\"75\",\"76\",\"77\",\"78\",\"79\",\"80\",\"81\",\"82\",\"83\",\"84\",\"85\",\"86\",\"87\",\"88\",\"89\",\"90\",\"91\",\"92\",\"93\",\"94\",\"95\",\"96\",\"97\",\"98\",\"99\",\"100\"],\"changes\":WebIO.getval({\"name\":\"changes\",\"scope\":\"3006553465610816821\",\"id\":\"16\",\"type\":\"observable\"}),\"index\":WebIO.getval({\"name\":\"index\",\"scope\":\"3006553465610816821\",\"id\":\"15\",\"type\":\"observable\"})};\n    var self = this;\n    function AppViewModel() {\n        for (var key in json_data) {\n            var el = json_data[key];\n            this[key] = Array.isArray(el) ? ko.observableArray(el) : ko.observable(el);\n        }\n        \n        [this[\"formatted_val\"]=ko.computed(    function(){\n        return this.formatted_vals()[parseInt(this.index())-(1)];\n    }\n,this)]\n        [this[\"changes\"].subscribe((function (val){!(this.valueFromJulia[\"changes\"]) ? (WebIO.setval({\"name\":\"changes\",\"scope\":\"3006553465610816821\",\"id\":\"16\",\"type\":\"observable\"},val)) : undefined; return this.valueFromJulia[\"changes\"]=false}),self),this[\"index\"].subscribe((function (val){!(this.valueFromJulia[\"index\"]) ? (WebIO.setval({\"name\":\"index\",\"scope\":\"3006553465610816821\",\"id\":\"15\",\"type\":\"observable\"},val)) : undefined; return this.valueFromJulia[\"index\"]=false}),self)]\n        \n    }\n    self.model = new AppViewModel();\n    self.valueFromJulia = {};\n    for (var key in json_data) {\n        self.valueFromJulia[key] = false;\n    }\n    ko.applyBindings(self.model, self.dom);\n}\n);\n    (WebIO.importBlock({\"data\":[{\"name\":\"knockout\",\"type\":\"js\",\"url\":\"/assetserver/d0f67ea5103338bec547a71428bdbf3df4f08059-knockout.js\"},{\"name\":\"knockout_punches\",\"type\":\"js\",\"url\":\"/assetserver/e26f753938579e2287344150f7e368ac4b529445-knockout_punches.js\"}],\"type\":\"async_block\"})).then((imports) => handler.apply(this, imports));\n}\n"
          ],
          "observables": {
           "changes": {
            "id": "16",
            "sync": false,
            "value": 0
           },
           "index": {
            "id": "15",
            "sync": false,
            "value": 33
           }
          },
          "systemjs_options": null
         },
         "nodeType": "Scope",
         "props": {},
         "type": "node"
        }
       ],
       "instanceArgs": {
        "namespace": "html",
        "tag": "div"
       },
       "nodeType": "DOM",
       "props": {
        "className": "field interact-widget"
       },
       "type": "node"
      },
      "text/html": [
       "<div\n",
       "    class=\"webio-mountpoint\"\n",
       "    data-webio-mountpoint=\"11578940789149576717\"\n",
       ">\n",
       "    <script>\n",
       "    (function(){\n",
       "    // Some integrations (namely, IJulia/Jupyter) use an alternate render pathway than\n",
       "    // just putting the html on the page. If WebIO isn't defined, then it's pretty likely\n",
       "    // that we're in one of those situations and the integration just isn't installed\n",
       "    // correctly.\n",
       "    if (typeof window.WebIO === \"undefined\") {\n",
       "        document\n",
       "            .querySelector('[data-webio-mountpoint=\"11578940789149576717\"]')\n",
       "            .innerHTML = (\n",
       "                '<div style=\"padding: 1em; background-color: #f8d6da; border: 1px solid #f5c6cb; font-weight: bold;\">' +\n",
       "                '<p><strong>WebIO not detected.</strong></p>' +\n",
       "                '<p>Please read ' +\n",
       "                '<a href=\"https://juliagizmos.github.io/WebIO.jl/latest/troubleshooting/not-detected/\" target=\"_blank\">the troubleshooting guide</a> ' +\n",
       "                'for more information on how to resolve this issue.</p>' +\n",
       "                '<p><a href=\"https://juliagizmos.github.io/WebIO.jl/latest/troubleshooting/not-detected/\" target=\"_blank\">https://juliagizmos.github.io/WebIO.jl/latest/troubleshooting/not-detected/</a></p>' +\n",
       "                '</div>'\n",
       "            );\n",
       "        return;\n",
       "    }\n",
       "    WebIO.mount(\n",
       "        document.querySelector('[data-webio-mountpoint=\"11578940789149576717\"]'),\n",
       "        {\"props\":{\"className\":\"field interact-widget\"},\"nodeType\":\"DOM\",\"type\":\"node\",\"instanceArgs\":{\"namespace\":\"html\",\"tag\":\"div\"},\"children\":[{\"props\":{},\"nodeType\":\"Scope\",\"type\":\"node\",\"instanceArgs\":{\"imports\":{\"data\":[{\"name\":\"knockout\",\"type\":\"js\",\"url\":\"\\/assetserver\\/d0f67ea5103338bec547a71428bdbf3df4f08059-knockout.js\"},{\"name\":\"knockout_punches\",\"type\":\"js\",\"url\":\"\\/assetserver\\/e26f753938579e2287344150f7e368ac4b529445-knockout_punches.js\"},{\"name\":null,\"type\":\"js\",\"url\":\"\\/assetserver\\/f71b84de1a55136a6c3fa3ef48eef72511463954-all.js\"},{\"name\":null,\"type\":\"css\",\"url\":\"\\/assetserver\\/dfba341bd7a3bedeba9caeda5288e80d20d1c596-style.css\"},{\"name\":null,\"type\":\"css\",\"url\":\"\\/assetserver\\/53e68c0bec04ce908a124e6cd1565929ff6ce3a7-bulma_confined.min.css\"}],\"type\":\"async_block\"},\"id\":\"3006553465610816821\",\"handlers\":{\"changes\":[\"(function (val){return (val!=this.model[\\\"changes\\\"]()) ? (this.valueFromJulia[\\\"changes\\\"]=true, this.model[\\\"changes\\\"](val)) : undefined})\"],\"index\":[\"(function (val){return (val!=this.model[\\\"index\\\"]()) ? (this.valueFromJulia[\\\"index\\\"]=true, this.model[\\\"index\\\"](val)) : undefined})\"]},\"systemjs_options\":null,\"mount_callbacks\":[\"function () {\\n    var handler = (function (ko, koPunches) {\\n    ko.punches.enableAll();\\n    ko.bindingHandlers.numericValue = {\\n        init: function(element, valueAccessor, allBindings, data, context) {\\n            var stringified = ko.observable(ko.unwrap(valueAccessor()));\\n            stringified.subscribe(function(value) {\\n                var val = parseFloat(value);\\n                if (!isNaN(val)) {\\n                    valueAccessor()(val);\\n                }\\n            });\\n            valueAccessor().subscribe(function(value) {\\n                var str = JSON.stringify(value);\\n                if ((str == \\\"0\\\") && ([\\\"-0\\\", \\\"-0.\\\"].indexOf(stringified()) >= 0))\\n                     return;\\n                 if ([\\\"null\\\", \\\"\\\"].indexOf(str) >= 0)\\n                     return;\\n                stringified(str);\\n            });\\n            ko.applyBindingsToNode(\\n                element,\\n                {\\n                    value: stringified,\\n                    valueUpdate: allBindings.get('valueUpdate'),\\n                },\\n                context,\\n            );\\n        }\\n    };\\n    var json_data = {\\\"formatted_vals\\\":[\\\"1\\\",\\\"2\\\",\\\"3\\\",\\\"4\\\",\\\"5\\\",\\\"6\\\",\\\"7\\\",\\\"8\\\",\\\"9\\\",\\\"10\\\",\\\"11\\\",\\\"12\\\",\\\"13\\\",\\\"14\\\",\\\"15\\\",\\\"16\\\",\\\"17\\\",\\\"18\\\",\\\"19\\\",\\\"20\\\",\\\"21\\\",\\\"22\\\",\\\"23\\\",\\\"24\\\",\\\"25\\\",\\\"26\\\",\\\"27\\\",\\\"28\\\",\\\"29\\\",\\\"30\\\",\\\"31\\\",\\\"32\\\",\\\"33\\\",\\\"34\\\",\\\"35\\\",\\\"36\\\",\\\"37\\\",\\\"38\\\",\\\"39\\\",\\\"40\\\",\\\"41\\\",\\\"42\\\",\\\"43\\\",\\\"44\\\",\\\"45\\\",\\\"46\\\",\\\"47\\\",\\\"48\\\",\\\"49\\\",\\\"50\\\",\\\"51\\\",\\\"52\\\",\\\"53\\\",\\\"54\\\",\\\"55\\\",\\\"56\\\",\\\"57\\\",\\\"58\\\",\\\"59\\\",\\\"60\\\",\\\"61\\\",\\\"62\\\",\\\"63\\\",\\\"64\\\",\\\"65\\\",\\\"66\\\",\\\"67\\\",\\\"68\\\",\\\"69\\\",\\\"70\\\",\\\"71\\\",\\\"72\\\",\\\"73\\\",\\\"74\\\",\\\"75\\\",\\\"76\\\",\\\"77\\\",\\\"78\\\",\\\"79\\\",\\\"80\\\",\\\"81\\\",\\\"82\\\",\\\"83\\\",\\\"84\\\",\\\"85\\\",\\\"86\\\",\\\"87\\\",\\\"88\\\",\\\"89\\\",\\\"90\\\",\\\"91\\\",\\\"92\\\",\\\"93\\\",\\\"94\\\",\\\"95\\\",\\\"96\\\",\\\"97\\\",\\\"98\\\",\\\"99\\\",\\\"100\\\"],\\\"changes\\\":WebIO.getval({\\\"name\\\":\\\"changes\\\",\\\"scope\\\":\\\"3006553465610816821\\\",\\\"id\\\":\\\"16\\\",\\\"type\\\":\\\"observable\\\"}),\\\"index\\\":WebIO.getval({\\\"name\\\":\\\"index\\\",\\\"scope\\\":\\\"3006553465610816821\\\",\\\"id\\\":\\\"15\\\",\\\"type\\\":\\\"observable\\\"})};\\n    var self = this;\\n    function AppViewModel() {\\n        for (var key in json_data) {\\n            var el = json_data[key];\\n            this[key] = Array.isArray(el) ? ko.observableArray(el) : ko.observable(el);\\n        }\\n        \\n        [this[\\\"formatted_val\\\"]=ko.computed(    function(){\\n        return this.formatted_vals()[parseInt(this.index())-(1)];\\n    }\\n,this)]\\n        [this[\\\"changes\\\"].subscribe((function (val){!(this.valueFromJulia[\\\"changes\\\"]) ? (WebIO.setval({\\\"name\\\":\\\"changes\\\",\\\"scope\\\":\\\"3006553465610816821\\\",\\\"id\\\":\\\"16\\\",\\\"type\\\":\\\"observable\\\"},val)) : undefined; return this.valueFromJulia[\\\"changes\\\"]=false}),self),this[\\\"index\\\"].subscribe((function (val){!(this.valueFromJulia[\\\"index\\\"]) ? (WebIO.setval({\\\"name\\\":\\\"index\\\",\\\"scope\\\":\\\"3006553465610816821\\\",\\\"id\\\":\\\"15\\\",\\\"type\\\":\\\"observable\\\"},val)) : undefined; return this.valueFromJulia[\\\"index\\\"]=false}),self)]\\n        \\n    }\\n    self.model = new AppViewModel();\\n    self.valueFromJulia = {};\\n    for (var key in json_data) {\\n        self.valueFromJulia[key] = false;\\n    }\\n    ko.applyBindings(self.model, self.dom);\\n}\\n);\\n    (WebIO.importBlock({\\\"data\\\":[{\\\"name\\\":\\\"knockout\\\",\\\"type\\\":\\\"js\\\",\\\"url\\\":\\\"\\/assetserver\\/d0f67ea5103338bec547a71428bdbf3df4f08059-knockout.js\\\"},{\\\"name\\\":\\\"knockout_punches\\\",\\\"type\\\":\\\"js\\\",\\\"url\\\":\\\"\\/assetserver\\/e26f753938579e2287344150f7e368ac4b529445-knockout_punches.js\\\"}],\\\"type\\\":\\\"async_block\\\"})).then((imports) => handler.apply(this, imports));\\n}\\n\"],\"observables\":{\"changes\":{\"sync\":false,\"id\":\"16\",\"value\":0},\"index\":{\"sync\":false,\"id\":\"15\",\"value\":33}}},\"children\":[{\"props\":{\"className\":\"interact-flex-row interact-widget\"},\"nodeType\":\"DOM\",\"type\":\"node\",\"instanceArgs\":{\"namespace\":\"html\",\"tag\":\"div\"},\"children\":[{\"props\":{\"className\":\"interact-flex-row-left\"},\"nodeType\":\"DOM\",\"type\":\"node\",\"instanceArgs\":{\"namespace\":\"html\",\"tag\":\"div\"},\"children\":[{\"props\":{\"className\":\"interact \",\"style\":{\"padding\":\"5px 10px 0px 10px\"}},\"nodeType\":\"DOM\",\"type\":\"node\",\"instanceArgs\":{\"namespace\":\"html\",\"tag\":\"label\"},\"children\":[\"To what extent?\"]}]},{\"props\":{\"className\":\"interact-flex-row-center\"},\"nodeType\":\"DOM\",\"type\":\"node\",\"instanceArgs\":{\"namespace\":\"html\",\"tag\":\"div\"},\"children\":[{\"props\":{\"max\":100,\"min\":1,\"attributes\":{\"type\":\"range\",\"data-bind\":\"numericValue: index, valueUpdate: 'input', event: {change: function (){this.changes(this.changes()+1)}}\",\"orient\":\"horizontal\"},\"step\":1,\"className\":\"slider slider is-fullwidth\",\"style\":{}},\"nodeType\":\"DOM\",\"type\":\"node\",\"instanceArgs\":{\"namespace\":\"html\",\"tag\":\"input\"},\"children\":[]}]},{\"props\":{\"className\":\"interact-flex-row-right\"},\"nodeType\":\"DOM\",\"type\":\"node\",\"instanceArgs\":{\"namespace\":\"html\",\"tag\":\"div\"},\"children\":[{\"props\":{\"attributes\":{\"data-bind\":\"text: formatted_val\"}},\"nodeType\":\"DOM\",\"type\":\"node\",\"instanceArgs\":{\"namespace\":\"html\",\"tag\":\"p\"},\"children\":[]}]}]}]}]},\n",
       "        window,\n",
       "    );\n",
       "    })()\n",
       "    </script>\n",
       "</div>\n"
      ],
      "text/plain": [
       "(div { className=\"field interact-widget\" }\n",
       "    (div { className=\"interact-flex-row interact-widget\" }\n",
       "    (div { className=\"interact-flex-row-left\" }\n",
       "      (label { className=\"interact \" style=Dict{Any, Any}(:padding => \"5px 10px 0px 10px\") }\n",
       "        \"To what extent?\"))\n",
       "    (div { className=\"interact-flex-row-center\" }\n",
       "      (input { max=100 min=1 attributes=Dict{Any, Any}(:type => \"range\", Symbol(\"data-bind\") => \"numericValue: index, valueUpdate: 'input', event: {change: function (){this.changes(this.changes()+1)}}\", \"orient\" => \"horizontal\") step=1 className=\"slider slider is-fullwidth\" style=Dict{Any, Any}() }))\n",
       "    (div { className=\"interact-flex-row-right\" }\n",
       "      (p { attributes=Dict(\"data-bind\" => \"text: formatted_val\") }))))"
      ]
     },
     "metadata": {
      "application/vnd.webio.node+json": {
       "kernelId": "456cb6c0-a4d4-414f-9e24-5bd635f6d622"
      }
     },
     "output_type": "display_data"
    }
   ],
   "source": [
    "filepicker() |> display # value is the path of selected file\n",
    "textbox(\"Write here\") |> display # value is the text typed in by the user\n",
    "autocomplete([\"Mary\", \"Jane\", \"Jack\"]) |> display # as above, but you can autocomplete words\n",
    "checkbox(label = \"Check me!\") |> display # value is a boolean describing whether it's ticked\n",
    "toggle(label = \"I have read and agreed\") |> display # same as a checkbox but styled differently\n",
    "slider(1:100, label = \"To what extent?\", value = 33) |> display # value is the number selected"
   ]
  },
  {
   "cell_type": "markdown",
   "metadata": {},
   "source": [
    "As well as the option widgets, that allow to choose among options:"
   ]
  },
  {
   "cell_type": "code",
   "execution_count": null,
   "metadata": {},
   "outputs": [],
   "source": [
    "dropdown([\"a\", \"b\", \"c\"]) |> display # value is option selected\n",
    "togglebuttons([\"a\", \"b\", \"c\"]) |> display # value is option selected\n",
    "radiobuttons([\"a\", \"b\", \"c\"]) |> display # value is option selected"
   ]
  },
  {
   "cell_type": "markdown",
   "metadata": {},
   "source": [
    "The option widgets can also take as input a dictionary (ordered dictionary is preferrable, to avoid items getting scrambled), in which case the label displays the key while the output stores the value:"
   ]
  },
  {
   "cell_type": "code",
   "execution_count": null,
   "metadata": {},
   "outputs": [],
   "source": [
    "s = dropdown(OrderedDict(\"a\" => \"Value 1\", \"b\" => \"Value 2\"))\n",
    "display(s)"
   ]
  },
  {
   "cell_type": "code",
   "execution_count": null,
   "metadata": {},
   "outputs": [],
   "source": [
    "s[]"
   ]
  },
  {
   "cell_type": "markdown",
   "metadata": {},
   "source": [
    "## Creating custom widgets\n",
    "\n",
    "Interact allows the creation of custom composite widgets starting from simpler ones.\n",
    "Let's say for example that we want to create a widget that has three sliders and a color\n",
    "that is updated to match the RGB value we gave with the sliders."
   ]
  },
  {
   "cell_type": "code",
   "execution_count": 19,
   "metadata": {},
   "outputs": [
    {
     "name": "stderr",
     "output_type": "stream",
     "text": [
      "\u001b[32m\u001b[1m   Resolving\u001b[22m\u001b[39m package versions...\n",
      "\u001b[32m\u001b[1m   Installed\u001b[22m\u001b[39m Colors ─ v0.12.11\n",
      "\u001b[32m\u001b[1m    Updating\u001b[22m\u001b[39m `~/.julia/environments/v1.9/Project.toml`\n",
      "  \u001b[90m[5ae59095] \u001b[39m\u001b[92m+ Colors v0.12.11\u001b[39m\n",
      "\u001b[32m\u001b[1m    Updating\u001b[22m\u001b[39m `~/.julia/environments/v1.9/Manifest.toml`\n",
      "  \u001b[90m[5ae59095] \u001b[39m\u001b[93m↑ Colors v0.12.10 ⇒ v0.12.11\u001b[39m\n",
      "\u001b[32m\u001b[1mPrecompiling\u001b[22m\u001b[39m project...\n",
      "\u001b[33m  ✓ \u001b[39mColors\n",
      "\u001b[33m  ✓ \u001b[39m\u001b[90mWidgets\u001b[39m\n",
      "\u001b[33m  ✓ \u001b[39mWebIO\n",
      "\u001b[33m  ✓ \u001b[39m\u001b[90mCSSUtil\u001b[39m\n",
      "\u001b[33m  ✓ \u001b[39m\u001b[90mJSExpr\u001b[39m\n",
      "\u001b[32m  ✓ \u001b[39m\u001b[90mColorSchemes\u001b[39m\n",
      "\u001b[33m  ✓ \u001b[39m\u001b[90mKnockout\u001b[39m\n",
      "\u001b[33m  ✓ \u001b[39mBlink\n",
      "\u001b[33m  ✓ \u001b[39m\u001b[90mInteractBase\u001b[39m\n",
      "\u001b[33m  ✓ \u001b[39mInteract\n",
      "\u001b[32m  ✓ \u001b[39m\u001b[90mPlotUtils\u001b[39m\n",
      "\u001b[32m  ✓ \u001b[39m\u001b[90mPlotThemes\u001b[39m\n",
      "\u001b[32m  ✓ \u001b[39m\u001b[90mRecipesPipeline\u001b[39m\n",
      "\u001b[32m  ✓ \u001b[39mPlots\n",
      "\u001b[32m  ✓ \u001b[39m\u001b[90mPlots → IJuliaExt\u001b[39m\n",
      "\u001b[32m  ✓ \u001b[39m\u001b[90mPlots → UnitfulExt\u001b[39m\n",
      "  16 dependencies successfully precompiled in 52 seconds. 339 already precompiled.\n",
      "  \u001b[33m9\u001b[39m dependencies precompiled but different versions are currently loaded. Restart julia to access the new versions\n"
     ]
    }
   ],
   "source": [
    "import Pkg; Pkg.add(\"Colors\")"
   ]
  },
  {
   "cell_type": "code",
   "execution_count": 20,
   "metadata": {},
   "outputs": [
    {
     "name": "stderr",
     "output_type": "stream",
     "text": [
      "\u001b[36m\u001b[1m[ \u001b[22m\u001b[39m\u001b[36m\u001b[1mInfo: \u001b[22m\u001b[39mPrecompiling Plots [91a5bcdd-55d7-5caf-9e0b-520d859cae80]\n",
      "\u001b[36m\u001b[1m[ \u001b[22m\u001b[39m\u001b[36m\u001b[1mInfo: \u001b[22m\u001b[39mPrecompiling IJuliaExt [2f4121a4-3b3a-5ce6-9c5e-1f2673ce168a]\n"
     ]
    },
    {
     "data": {
      "text/plain": [
       "mycolorpicker (generic function with 1 method)"
      ]
     },
     "execution_count": 20,
     "metadata": {},
     "output_type": "execute_result"
    }
   ],
   "source": [
    "import Colors\n",
    "using Plots\n",
    "\n",
    "function mycolorpicker()\n",
    "    r = slider(0:255, label = \"red\")\n",
    "    g = slider(0:255, label = \"green\")\n",
    "    b = slider(0:255, label = \"blue\")\n",
    "    output = Interact.@map Colors.RGB(&r/255, &g/255, &b/255)\n",
    "    plt = Interact.@map plot(sin, color = &output)\n",
    "    wdg = Widget([\"r\" => r, \"g\" => g, \"b\" => b], output = output)\n",
    "    @layout! wdg hbox(plt, vbox(:r, :g, :b)) ## custom layout: by default things are stacked vertically\n",
    "end"
   ]
  },
  {
   "cell_type": "markdown",
   "metadata": {},
   "source": [
    "And now you can simply instantiate the widget with"
   ]
  },
  {
   "cell_type": "code",
   "execution_count": 23,
   "metadata": {},
   "outputs": [
    {
     "data": {
      "application/vnd.webio.node+json": {
       "children": [
        {
         "children": [
          {
           "children": [],
           "instanceArgs": {
            "namespace": "html",
            "tag": "div"
           },
           "nodeType": "DOM",
           "props": {
            "className": "webio-observable",
            "setInnerHtml": "<?xml version=\"1.0\" encoding=\"utf-8\"?>\n<svg xmlns=\"http://www.w3.org/2000/svg\" xmlns:xlink=\"http://www.w3.org/1999/xlink\" width=\"600\" height=\"400\" viewBox=\"0 0 2400 1600\">\n<defs>\n  <clipPath id=\"clip600\">\n    <rect x=\"0\" y=\"0\" width=\"2400\" height=\"1600\"/>\n  </clipPath>\n</defs>\n<path clip-path=\"url(#clip600)\" d=\"M0 1600 L2400 1600 L2400 0 L0 0  Z\" fill=\"#ffffff\" fill-rule=\"evenodd\" fill-opacity=\"1\"/>\n<defs>\n  <clipPath id=\"clip601\">\n    <rect x=\"480\" y=\"0\" width=\"1681\" height=\"1600\"/>\n  </clipPath>\n</defs>\n<path clip-path=\"url(#clip600)\" d=\"M193.936 1486.45 L2352.76 1486.45 L2352.76 47.2441 L193.936 47.2441  Z\" fill=\"#ffffff\" fill-rule=\"evenodd\" fill-opacity=\"1\"/>\n<defs>\n  <clipPath id=\"clip602\">\n    <rect x=\"193\" y=\"47\" width=\"2160\" height=\"1440\"/>\n  </clipPath>\n</defs>\n<polyline clip-path=\"url(#clip602)\" style=\"stroke:#000000; stroke-linecap:round; stroke-linejoin:round; stroke-width:2; stroke-opacity:0.1; fill:none\" points=\"458.697,1486.45 458.697,47.2441 \"/>\n<polyline clip-path=\"url(#clip602)\" style=\"stroke:#000000; stroke-linecap:round; stroke-linejoin:round; stroke-width:2; stroke-opacity:0.1; fill:none\" points=\"866.021,1486.45 866.021,47.2441 \"/>\n<polyline clip-path=\"url(#clip602)\" style=\"stroke:#000000; stroke-linecap:round; stroke-linejoin:round; stroke-width:2; stroke-opacity:0.1; fill:none\" points=\"1273.35,1486.45 1273.35,47.2441 \"/>\n<polyline clip-path=\"url(#clip602)\" style=\"stroke:#000000; stroke-linecap:round; stroke-linejoin:round; stroke-width:2; stroke-opacity:0.1; fill:none\" points=\"1680.67,1486.45 1680.67,47.2441 \"/>\n<polyline clip-path=\"url(#clip602)\" style=\"stroke:#000000; stroke-linecap:round; stroke-linejoin:round; stroke-width:2; stroke-opacity:0.1; fill:none\" points=\"2087.99,1486.45 2087.99,47.2441 \"/>\n<polyline clip-path=\"url(#clip600)\" style=\"stroke:#000000; stroke-linecap:round; stroke-linejoin:round; stroke-width:4; stroke-opacity:1; fill:none\" points=\"193.936,1486.45 2352.76,1486.45 \"/>\n<polyline clip-path=\"url(#clip600)\" style=\"stroke:#000000; stroke-linecap:round; stroke-linejoin:round; stroke-width:4; stroke-opacity:1; fill:none\" points=\"458.697,1486.45 458.697,1467.55 \"/>\n<polyline clip-path=\"url(#clip600)\" style=\"stroke:#000000; stroke-linecap:round; stroke-linejoin:round; stroke-width:4; stroke-opacity:1; fill:none\" points=\"866.021,1486.45 866.021,1467.55 \"/>\n<polyline clip-path=\"url(#clip600)\" style=\"stroke:#000000; stroke-linecap:round; stroke-linejoin:round; stroke-width:4; stroke-opacity:1; fill:none\" points=\"1273.35,1486.45 1273.35,1467.55 \"/>\n<polyline clip-path=\"url(#clip600)\" style=\"stroke:#000000; stroke-linecap:round; stroke-linejoin:round; stroke-width:4; stroke-opacity:1; fill:none\" points=\"1680.67,1486.45 1680.67,1467.55 \"/>\n<polyline clip-path=\"url(#clip600)\" style=\"stroke:#000000; stroke-linecap:round; stroke-linejoin:round; stroke-width:4; stroke-opacity:1; fill:none\" points=\"2087.99,1486.45 2087.99,1467.55 \"/>\n<path clip-path=\"url(#clip600)\" d=\"M427.598 1532.02 L457.273 1532.02 L457.273 1535.95 L427.598 1535.95 L427.598 1532.02 Z\" fill=\"#000000\" fill-rule=\"nonzero\" fill-opacity=\"1\" /><path clip-path=\"url(#clip600)\" d=\"M480.213 1518.36 L468.408 1536.81 L480.213 1536.81 L480.213 1518.36 M478.986 1514.29 L484.866 1514.29 L484.866 1536.81 L489.796 1536.81 L489.796 1540.7 L484.866 1540.7 L484.866 1548.85 L480.213 1548.85 L480.213 1540.7 L464.611 1540.7 L464.611 1536.19 L478.986 1514.29 Z\" fill=\"#000000\" fill-rule=\"nonzero\" fill-opacity=\"1\" /><path clip-path=\"url(#clip600)\" d=\"M835.964 1532.02 L865.639 1532.02 L865.639 1535.95 L835.964 1535.95 L835.964 1532.02 Z\" fill=\"#000000\" fill-rule=\"nonzero\" fill-opacity=\"1\" /><path clip-path=\"url(#clip600)\" d=\"M879.76 1544.91 L896.079 1544.91 L896.079 1548.85 L874.135 1548.85 L874.135 1544.91 Q876.797 1542.16 881.38 1537.53 Q885.987 1532.88 887.167 1531.53 Q889.413 1529.01 890.292 1527.27 Q891.195 1525.51 891.195 1523.82 Q891.195 1521.07 889.25 1519.33 Q887.329 1517.6 884.227 1517.6 Q882.028 1517.6 879.575 1518.36 Q877.144 1519.13 874.366 1520.68 L874.366 1515.95 Q877.19 1514.82 879.644 1514.24 Q882.098 1513.66 884.135 1513.66 Q889.505 1513.66 892.7 1516.35 Q895.894 1519.03 895.894 1523.52 Q895.894 1525.65 895.084 1527.57 Q894.297 1529.47 892.19 1532.07 Q891.612 1532.74 888.51 1535.95 Q885.408 1539.15 879.76 1544.91 Z\" fill=\"#000000\" fill-rule=\"nonzero\" fill-opacity=\"1\" /><path clip-path=\"url(#clip600)\" d=\"M1273.35 1517.37 Q1269.73 1517.37 1267.91 1520.93 Q1266.1 1524.47 1266.1 1531.6 Q1266.1 1538.71 1267.91 1542.27 Q1269.73 1545.82 1273.35 1545.82 Q1276.98 1545.82 1278.79 1542.27 Q1280.61 1538.71 1280.61 1531.6 Q1280.61 1524.47 1278.79 1520.93 Q1276.98 1517.37 1273.35 1517.37 M1273.35 1513.66 Q1279.16 1513.66 1282.21 1518.27 Q1285.29 1522.85 1285.29 1531.6 Q1285.29 1540.33 1282.21 1544.94 Q1279.16 1549.52 1273.35 1549.52 Q1267.54 1549.52 1264.46 1544.94 Q1261.4 1540.33 1261.4 1531.6 Q1261.4 1522.85 1264.46 1518.27 Q1267.54 1513.66 1273.35 1513.66 Z\" fill=\"#000000\" fill-rule=\"nonzero\" fill-opacity=\"1\" /><path clip-path=\"url(#clip600)\" d=\"M1675.32 1544.91 L1691.64 1544.91 L1691.64 1548.85 L1669.7 1548.85 L1669.7 1544.91 Q1672.36 1542.16 1676.94 1537.53 Q1681.55 1532.88 1682.73 1531.53 Q1684.98 1529.01 1685.86 1527.27 Q1686.76 1525.51 1686.76 1523.82 Q1686.76 1521.07 1684.81 1519.33 Q1682.89 1517.6 1679.79 1517.6 Q1677.59 1517.6 1675.14 1518.36 Q1672.71 1519.13 1669.93 1520.68 L1669.93 1515.95 Q1672.75 1514.82 1675.21 1514.24 Q1677.66 1513.66 1679.7 1513.66 Q1685.07 1513.66 1688.26 1516.35 Q1691.46 1519.03 1691.46 1523.52 Q1691.46 1525.65 1690.65 1527.57 Q1689.86 1529.47 1687.75 1532.07 Q1687.18 1532.74 1684.07 1535.95 Q1680.97 1539.15 1675.32 1544.91 Z\" fill=\"#000000\" fill-rule=\"nonzero\" fill-opacity=\"1\" /><path clip-path=\"url(#clip600)\" d=\"M2091 1518.36 L2079.2 1536.81 L2091 1536.81 L2091 1518.36 M2089.78 1514.29 L2095.66 1514.29 L2095.66 1536.81 L2100.59 1536.81 L2100.59 1540.7 L2095.66 1540.7 L2095.66 1548.85 L2091 1548.85 L2091 1540.7 L2075.4 1540.7 L2075.4 1536.19 L2089.78 1514.29 Z\" fill=\"#000000\" fill-rule=\"nonzero\" fill-opacity=\"1\" /><polyline clip-path=\"url(#clip602)\" style=\"stroke:#000000; stroke-linecap:round; stroke-linejoin:round; stroke-width:2; stroke-opacity:0.1; fill:none\" points=\"193.936,1445.74 2352.76,1445.74 \"/>\n<polyline clip-path=\"url(#clip602)\" style=\"stroke:#000000; stroke-linecap:round; stroke-linejoin:round; stroke-width:2; stroke-opacity:0.1; fill:none\" points=\"193.936,1106.3 2352.76,1106.3 \"/>\n<polyline clip-path=\"url(#clip602)\" style=\"stroke:#000000; stroke-linecap:round; stroke-linejoin:round; stroke-width:2; stroke-opacity:0.1; fill:none\" points=\"193.936,766.858 2352.76,766.858 \"/>\n<polyline clip-path=\"url(#clip602)\" style=\"stroke:#000000; stroke-linecap:round; stroke-linejoin:round; stroke-width:2; stroke-opacity:0.1; fill:none\" points=\"193.936,427.415 2352.76,427.415 \"/>\n<polyline clip-path=\"url(#clip602)\" style=\"stroke:#000000; stroke-linecap:round; stroke-linejoin:round; stroke-width:2; stroke-opacity:0.1; fill:none\" points=\"193.936,87.9727 2352.76,87.9727 \"/>\n<polyline clip-path=\"url(#clip600)\" style=\"stroke:#000000; stroke-linecap:round; stroke-linejoin:round; stroke-width:4; stroke-opacity:1; fill:none\" points=\"193.936,1486.45 193.936,47.2441 \"/>\n<polyline clip-path=\"url(#clip600)\" style=\"stroke:#000000; stroke-linecap:round; stroke-linejoin:round; stroke-width:4; stroke-opacity:1; fill:none\" points=\"193.936,1445.74 212.834,1445.74 \"/>\n<polyline clip-path=\"url(#clip600)\" style=\"stroke:#000000; stroke-linecap:round; stroke-linejoin:round; stroke-width:4; stroke-opacity:1; fill:none\" points=\"193.936,1106.3 212.834,1106.3 \"/>\n<polyline clip-path=\"url(#clip600)\" style=\"stroke:#000000; stroke-linecap:round; stroke-linejoin:round; stroke-width:4; stroke-opacity:1; fill:none\" points=\"193.936,766.858 212.834,766.858 \"/>\n<polyline clip-path=\"url(#clip600)\" style=\"stroke:#000000; stroke-linecap:round; stroke-linejoin:round; stroke-width:4; stroke-opacity:1; fill:none\" points=\"193.936,427.415 212.834,427.415 \"/>\n<polyline clip-path=\"url(#clip600)\" style=\"stroke:#000000; stroke-linecap:round; stroke-linejoin:round; stroke-width:4; stroke-opacity:1; fill:none\" points=\"193.936,87.9727 212.834,87.9727 \"/>\n<path clip-path=\"url(#clip600)\" d=\"M50.9921 1446.19 L80.6679 1446.19 L80.6679 1450.13 L50.9921 1450.13 L50.9921 1446.19 Z\" fill=\"#000000\" fill-rule=\"nonzero\" fill-opacity=\"1\" /><path clip-path=\"url(#clip600)\" d=\"M91.5706 1459.09 L99.2095 1459.09 L99.2095 1432.72 L90.8993 1434.39 L90.8993 1430.13 L99.1632 1428.46 L103.839 1428.46 L103.839 1459.09 L111.478 1459.09 L111.478 1463.02 L91.5706 1463.02 L91.5706 1459.09 Z\" fill=\"#000000\" fill-rule=\"nonzero\" fill-opacity=\"1\" /><path clip-path=\"url(#clip600)\" d=\"M120.922 1457.14 L125.807 1457.14 L125.807 1463.02 L120.922 1463.02 L120.922 1457.14 Z\" fill=\"#000000\" fill-rule=\"nonzero\" fill-opacity=\"1\" /><path clip-path=\"url(#clip600)\" d=\"M145.992 1431.54 Q142.381 1431.54 140.552 1435.11 Q138.746 1438.65 138.746 1445.78 Q138.746 1452.88 140.552 1456.45 Q142.381 1459.99 145.992 1459.99 Q149.626 1459.99 151.431 1456.45 Q153.26 1452.88 153.26 1445.78 Q153.26 1438.65 151.431 1435.11 Q149.626 1431.54 145.992 1431.54 M145.992 1427.84 Q151.802 1427.84 154.857 1432.44 Q157.936 1437.03 157.936 1445.78 Q157.936 1454.5 154.857 1459.11 Q151.802 1463.69 145.992 1463.69 Q140.181 1463.69 137.103 1459.11 Q134.047 1454.5 134.047 1445.78 Q134.047 1437.03 137.103 1432.44 Q140.181 1427.84 145.992 1427.84 Z\" fill=\"#000000\" fill-rule=\"nonzero\" fill-opacity=\"1\" /><path clip-path=\"url(#clip600)\" d=\"M51.9875 1106.75 L81.6633 1106.75 L81.6633 1110.69 L51.9875 1110.69 L51.9875 1106.75 Z\" fill=\"#000000\" fill-rule=\"nonzero\" fill-opacity=\"1\" /><path clip-path=\"url(#clip600)\" d=\"M101.756 1092.1 Q98.1447 1092.1 96.316 1095.66 Q94.5104 1099.21 94.5104 1106.33 Q94.5104 1113.44 96.316 1117.01 Q98.1447 1120.55 101.756 1120.55 Q105.39 1120.55 107.196 1117.01 Q109.024 1113.44 109.024 1106.33 Q109.024 1099.21 107.196 1095.66 Q105.39 1092.1 101.756 1092.1 M101.756 1088.4 Q107.566 1088.4 110.621 1093 Q113.7 1097.58 113.7 1106.33 Q113.7 1115.06 110.621 1119.67 Q107.566 1124.25 101.756 1124.25 Q95.9456 1124.25 92.8669 1119.67 Q89.8114 1115.06 89.8114 1106.33 Q89.8114 1097.58 92.8669 1093 Q95.9456 1088.4 101.756 1088.4 Z\" fill=\"#000000\" fill-rule=\"nonzero\" fill-opacity=\"1\" /><path clip-path=\"url(#clip600)\" d=\"M121.918 1117.7 L126.802 1117.7 L126.802 1123.58 L121.918 1123.58 L121.918 1117.7 Z\" fill=\"#000000\" fill-rule=\"nonzero\" fill-opacity=\"1\" /><path clip-path=\"url(#clip600)\" d=\"M137.033 1089.02 L155.39 1089.02 L155.39 1092.96 L141.316 1092.96 L141.316 1101.43 Q142.334 1101.08 143.353 1100.92 Q144.371 1100.73 145.39 1100.73 Q151.177 1100.73 154.556 1103.9 Q157.936 1107.08 157.936 1112.49 Q157.936 1118.07 154.464 1121.17 Q150.992 1124.25 144.672 1124.25 Q142.496 1124.25 140.228 1123.88 Q137.982 1123.51 135.575 1122.77 L135.575 1118.07 Q137.658 1119.21 139.881 1119.76 Q142.103 1120.32 144.58 1120.32 Q148.584 1120.32 150.922 1118.21 Q153.26 1116.1 153.26 1112.49 Q153.26 1108.88 150.922 1106.77 Q148.584 1104.67 144.58 1104.67 Q142.705 1104.67 140.83 1105.08 Q138.978 1105.5 137.033 1106.38 L137.033 1089.02 Z\" fill=\"#000000\" fill-rule=\"nonzero\" fill-opacity=\"1\" /><path clip-path=\"url(#clip600)\" d=\"M100.76 752.656 Q97.1493 752.656 95.3206 756.221 Q93.515 759.763 93.515 766.892 Q93.515 773.999 95.3206 777.564 Q97.1493 781.105 100.76 781.105 Q104.395 781.105 106.2 777.564 Q108.029 773.999 108.029 766.892 Q108.029 759.763 106.2 756.221 Q104.395 752.656 100.76 752.656 M100.76 748.953 Q106.571 748.953 109.626 753.559 Q112.705 758.142 112.705 766.892 Q112.705 775.619 109.626 780.226 Q106.571 784.809 100.76 784.809 Q94.9502 784.809 91.8715 780.226 Q88.816 775.619 88.816 766.892 Q88.816 758.142 91.8715 753.559 Q94.9502 748.953 100.76 748.953 Z\" fill=\"#000000\" fill-rule=\"nonzero\" fill-opacity=\"1\" /><path clip-path=\"url(#clip600)\" d=\"M120.922 778.258 L125.807 778.258 L125.807 784.138 L120.922 784.138 L120.922 778.258 Z\" fill=\"#000000\" fill-rule=\"nonzero\" fill-opacity=\"1\" /><path clip-path=\"url(#clip600)\" d=\"M145.992 752.656 Q142.381 752.656 140.552 756.221 Q138.746 759.763 138.746 766.892 Q138.746 773.999 140.552 777.564 Q142.381 781.105 145.992 781.105 Q149.626 781.105 151.431 777.564 Q153.26 773.999 153.26 766.892 Q153.26 759.763 151.431 756.221 Q149.626 752.656 145.992 752.656 M145.992 748.953 Q151.802 748.953 154.857 753.559 Q157.936 758.142 157.936 766.892 Q157.936 775.619 154.857 780.226 Q151.802 784.809 145.992 784.809 Q140.181 784.809 137.103 780.226 Q134.047 775.619 134.047 766.892 Q134.047 758.142 137.103 753.559 Q140.181 748.953 145.992 748.953 Z\" fill=\"#000000\" fill-rule=\"nonzero\" fill-opacity=\"1\" /><path clip-path=\"url(#clip600)\" d=\"M101.756 413.214 Q98.1447 413.214 96.316 416.779 Q94.5104 420.32 94.5104 427.45 Q94.5104 434.556 96.316 438.121 Q98.1447 441.663 101.756 441.663 Q105.39 441.663 107.196 438.121 Q109.024 434.556 109.024 427.45 Q109.024 420.32 107.196 416.779 Q105.39 413.214 101.756 413.214 M101.756 409.51 Q107.566 409.51 110.621 414.117 Q113.7 418.7 113.7 427.45 Q113.7 436.177 110.621 440.783 Q107.566 445.366 101.756 445.366 Q95.9456 445.366 92.8669 440.783 Q89.8114 436.177 89.8114 427.45 Q89.8114 418.7 92.8669 414.117 Q95.9456 409.51 101.756 409.51 Z\" fill=\"#000000\" fill-rule=\"nonzero\" fill-opacity=\"1\" /><path clip-path=\"url(#clip600)\" d=\"M121.918 438.816 L126.802 438.816 L126.802 444.695 L121.918 444.695 L121.918 438.816 Z\" fill=\"#000000\" fill-rule=\"nonzero\" fill-opacity=\"1\" /><path clip-path=\"url(#clip600)\" d=\"M137.033 410.135 L155.39 410.135 L155.39 414.07 L141.316 414.07 L141.316 422.543 Q142.334 422.195 143.353 422.033 Q144.371 421.848 145.39 421.848 Q151.177 421.848 154.556 425.019 Q157.936 428.191 157.936 433.607 Q157.936 439.186 154.464 442.288 Q150.992 445.366 144.672 445.366 Q142.496 445.366 140.228 444.996 Q137.982 444.626 135.575 443.885 L135.575 439.186 Q137.658 440.32 139.881 440.876 Q142.103 441.431 144.58 441.431 Q148.584 441.431 150.922 439.325 Q153.26 437.218 153.26 433.607 Q153.26 429.996 150.922 427.89 Q148.584 425.783 144.58 425.783 Q142.705 425.783 140.83 426.2 Q138.978 426.617 137.033 427.496 L137.033 410.135 Z\" fill=\"#000000\" fill-rule=\"nonzero\" fill-opacity=\"1\" /><path clip-path=\"url(#clip600)\" d=\"M91.5706 101.318 L99.2095 101.318 L99.2095 74.9519 L90.8993 76.6186 L90.8993 72.3594 L99.1632 70.6927 L103.839 70.6927 L103.839 101.318 L111.478 101.318 L111.478 105.253 L91.5706 105.253 L91.5706 101.318 Z\" fill=\"#000000\" fill-rule=\"nonzero\" fill-opacity=\"1\" /><path clip-path=\"url(#clip600)\" d=\"M120.922 99.3731 L125.807 99.3731 L125.807 105.253 L120.922 105.253 L120.922 99.3731 Z\" fill=\"#000000\" fill-rule=\"nonzero\" fill-opacity=\"1\" /><path clip-path=\"url(#clip600)\" d=\"M145.992 73.7714 Q142.381 73.7714 140.552 77.3362 Q138.746 80.8778 138.746 88.0074 Q138.746 95.1139 140.552 98.6787 Q142.381 102.22 145.992 102.22 Q149.626 102.22 151.431 98.6787 Q153.26 95.1139 153.26 88.0074 Q153.26 80.8778 151.431 77.3362 Q149.626 73.7714 145.992 73.7714 M145.992 70.0677 Q151.802 70.0677 154.857 74.6742 Q157.936 79.2575 157.936 88.0074 Q157.936 96.7342 154.857 101.341 Q151.802 105.924 145.992 105.924 Q140.181 105.924 137.103 101.341 Q134.047 96.7342 134.047 88.0074 Q134.047 79.2575 137.103 74.6742 Q140.181 70.0677 145.992 70.0677 Z\" fill=\"#000000\" fill-rule=\"nonzero\" fill-opacity=\"1\" /><polyline clip-path=\"url(#clip602)\" style=\"stroke:#7f7f7f; stroke-linecap:round; stroke-linejoin:round; stroke-width:4; stroke-opacity:1; fill:none\" points=\"255.035,115.858 258.35,112.81 261.664,109.936 264.979,107.235 268.294,104.709 283.62,95.32 298.945,89.732 306.608,88.3739 314.27,87.9763 321.933,88.5395 329.596,90.0629 337.259,92.5443 344.921,95.98 352.584,100.365 360.247,105.694 375.572,119.15 390.898,136.272 400.108,148.286 409.318,161.564 418.527,176.08 427.737,191.804 436.947,208.704 446.157,226.745 455.367,245.89 464.577,266.1 480.151,302.583 495.725,341.778 511.299,383.458 526.872,427.379 543.79,477.329 560.707,529.276 577.625,582.861 594.542,637.715 625.735,740.907 656.928,844.707 673.649,899.753 690.37,953.903 707.091,1006.79 723.812,1058.07 743.185,1115 762.558,1168.78 772.245,1194.34 781.931,1218.93 791.617,1242.5 801.304,1264.99 809.912,1284.03 818.52,1302.15 827.129,1319.32 835.737,1335.5 844.345,1350.66 852.953,1364.78 861.561,1377.83 870.17,1389.79 885.267,1408.07 900.364,1422.82 915.461,1433.98 930.558,1441.46 938.788,1443.99 947.018,1445.41 955.248,1445.72 963.478,1444.92 971.708,1443.01 979.938,1440 988.168,1435.89 996.398,1430.69 1004.68,1424.37 1012.96,1416.95 1021.24,1408.47 1029.51,1398.92 1046.07,1376.72 1062.63,1350.48 1071.78,1334.31 1080.94,1316.99 1090.09,1298.56 1099.24,1279.06 1108.4,1258.53 1117.55,1237 1126.7,1214.52 1135.86,1191.13 1153.28,1144.31 1170.69,1094.73 1188.11,1042.75 1205.53,988.757 1241.75,871.746 1277.98,751.426 1308.47,650.364 1338.96,551.908 1357.57,494.034 1376.19,438.437 1394.8,385.581 1413.41,335.908 1421.94,314.333 1430.46,293.551 1438.99,273.598 1447.51,254.51 1464.57,219.058 1481.62,187.444 1489.49,174.202 1497.36,161.846 1505.24,150.394 1513.11,139.864 1520.99,130.271 1528.86,121.629 1536.73,113.952 1544.61,107.25 1552.58,101.467 1560.56,96.7035 1568.54,92.9682 1576.51,90.2663 1584.49,88.602 1592.46,87.9779 1600.44,88.3948 1608.42,89.8523 1617.36,92.7193 1626.29,96.8847 1635.23,102.341 1644.17,109.076 1653.11,117.079 1662.05,126.334 1670.99,136.822 1679.93,148.523 1696.13,172.748 1712.33,200.731 1720.43,216.076 1728.53,232.293 1736.63,249.355 1744.73,267.236 1754,288.677 1763.28,311.109 1772.55,334.486 1781.83,358.76 1800.37,409.793 1818.92,463.785 1836.1,516.028 1853.27,570.053 1870.44,625.476 1887.62,681.905 1921.48,794.552 1955.34,906.436 1971.78,959.55 1988.22,1011.41 2004.66,1061.68 2021.1,1110.02 2037.95,1157.26 2054.8,1201.83 2071.66,1243.43 2088.51,1281.76 2097.74,1301.28 2106.97,1319.7 2116.2,1336.99 2125.44,1353.1 2134.67,1368.01 2143.9,1381.69 2153.13,1394.1 2162.36,1405.22 2175.77,1419.04 2189.18,1430.03 2202.59,1438.15 2216,1443.36 2229.42,1445.63 2242.83,1444.97 2256.24,1441.36 2269.65,1434.83 2275.15,1431.31 2280.65,1427.31 2286.15,1422.82 2291.66,1417.86 \"/>\n<path clip-path=\"url(#clip600)\" d=\"M2012.48 198.898 L2280.8 198.898 L2280.8 95.2176 L2012.48 95.2176  Z\" fill=\"#ffffff\" fill-rule=\"evenodd\" fill-opacity=\"1\"/>\n<polyline clip-path=\"url(#clip600)\" style=\"stroke:#000000; stroke-linecap:round; stroke-linejoin:round; stroke-width:4; stroke-opacity:1; fill:none\" points=\"2012.48,198.898 2280.8,198.898 2280.8,95.2176 2012.48,95.2176 2012.48,198.898 \"/>\n<polyline clip-path=\"url(#clip600)\" style=\"stroke:#7f7f7f; stroke-linecap:round; stroke-linejoin:round; stroke-width:4; stroke-opacity:1; fill:none\" points=\"2036.47,147.058 2180.39,147.058 \"/>\n<path clip-path=\"url(#clip600)\" d=\"M2218.22 166.745 Q2216.42 171.375 2214.7 172.787 Q2212.99 174.199 2210.12 174.199 L2206.72 174.199 L2206.72 170.634 L2209.22 170.634 Q2210.98 170.634 2211.95 169.8 Q2212.92 168.967 2214.1 165.865 L2214.86 163.921 L2204.38 138.412 L2208.89 138.412 L2216.99 158.689 L2225.1 138.412 L2229.61 138.412 L2218.22 166.745 Z\" fill=\"#000000\" fill-rule=\"nonzero\" fill-opacity=\"1\" /><path clip-path=\"url(#clip600)\" d=\"M2236.9 160.402 L2244.54 160.402 L2244.54 134.037 L2236.23 135.703 L2236.23 131.444 L2244.49 129.778 L2249.17 129.778 L2249.17 160.402 L2256.81 160.402 L2256.81 164.338 L2236.9 164.338 L2236.9 160.402 Z\" fill=\"#000000\" fill-rule=\"nonzero\" fill-opacity=\"1\" /></svg>\n"
           },
           "type": "node"
          }
         ],
         "instanceArgs": {
          "handlers": {
           "obs-output": [
            "function (value, scope) {\n    scope.setInnerHTML(value);\n}\n"
           ]
          },
          "id": "11770717387352439100",
          "imports": {
           "data": [],
           "type": "async_block"
          },
          "mount_callbacks": [],
          "observables": {
           "obs-output": {
            "id": "38",
            "sync": false,
            "value": "<?xml version=\"1.0\" encoding=\"utf-8\"?>\n<svg xmlns=\"http://www.w3.org/2000/svg\" xmlns:xlink=\"http://www.w3.org/1999/xlink\" width=\"600\" height=\"400\" viewBox=\"0 0 2400 1600\">\n<defs>\n  <clipPath id=\"clip600\">\n    <rect x=\"0\" y=\"0\" width=\"2400\" height=\"1600\"/>\n  </clipPath>\n</defs>\n<path clip-path=\"url(#clip600)\" d=\"M0 1600 L2400 1600 L2400 0 L0 0  Z\" fill=\"#ffffff\" fill-rule=\"evenodd\" fill-opacity=\"1\"/>\n<defs>\n  <clipPath id=\"clip601\">\n    <rect x=\"480\" y=\"0\" width=\"1681\" height=\"1600\"/>\n  </clipPath>\n</defs>\n<path clip-path=\"url(#clip600)\" d=\"M193.936 1486.45 L2352.76 1486.45 L2352.76 47.2441 L193.936 47.2441  Z\" fill=\"#ffffff\" fill-rule=\"evenodd\" fill-opacity=\"1\"/>\n<defs>\n  <clipPath id=\"clip602\">\n    <rect x=\"193\" y=\"47\" width=\"2160\" height=\"1440\"/>\n  </clipPath>\n</defs>\n<polyline clip-path=\"url(#clip602)\" style=\"stroke:#000000; stroke-linecap:round; stroke-linejoin:round; stroke-width:2; stroke-opacity:0.1; fill:none\" points=\"458.697,1486.45 458.697,47.2441 \"/>\n<polyline clip-path=\"url(#clip602)\" style=\"stroke:#000000; stroke-linecap:round; stroke-linejoin:round; stroke-width:2; stroke-opacity:0.1; fill:none\" points=\"866.021,1486.45 866.021,47.2441 \"/>\n<polyline clip-path=\"url(#clip602)\" style=\"stroke:#000000; stroke-linecap:round; stroke-linejoin:round; stroke-width:2; stroke-opacity:0.1; fill:none\" points=\"1273.35,1486.45 1273.35,47.2441 \"/>\n<polyline clip-path=\"url(#clip602)\" style=\"stroke:#000000; stroke-linecap:round; stroke-linejoin:round; stroke-width:2; stroke-opacity:0.1; fill:none\" points=\"1680.67,1486.45 1680.67,47.2441 \"/>\n<polyline clip-path=\"url(#clip602)\" style=\"stroke:#000000; stroke-linecap:round; stroke-linejoin:round; stroke-width:2; stroke-opacity:0.1; fill:none\" points=\"2087.99,1486.45 2087.99,47.2441 \"/>\n<polyline clip-path=\"url(#clip600)\" style=\"stroke:#000000; stroke-linecap:round; stroke-linejoin:round; stroke-width:4; stroke-opacity:1; fill:none\" points=\"193.936,1486.45 2352.76,1486.45 \"/>\n<polyline clip-path=\"url(#clip600)\" style=\"stroke:#000000; stroke-linecap:round; stroke-linejoin:round; stroke-width:4; stroke-opacity:1; fill:none\" points=\"458.697,1486.45 458.697,1467.55 \"/>\n<polyline clip-path=\"url(#clip600)\" style=\"stroke:#000000; stroke-linecap:round; stroke-linejoin:round; stroke-width:4; stroke-opacity:1; fill:none\" points=\"866.021,1486.45 866.021,1467.55 \"/>\n<polyline clip-path=\"url(#clip600)\" style=\"stroke:#000000; stroke-linecap:round; stroke-linejoin:round; stroke-width:4; stroke-opacity:1; fill:none\" points=\"1273.35,1486.45 1273.35,1467.55 \"/>\n<polyline clip-path=\"url(#clip600)\" style=\"stroke:#000000; stroke-linecap:round; stroke-linejoin:round; stroke-width:4; stroke-opacity:1; fill:none\" points=\"1680.67,1486.45 1680.67,1467.55 \"/>\n<polyline clip-path=\"url(#clip600)\" style=\"stroke:#000000; stroke-linecap:round; stroke-linejoin:round; stroke-width:4; stroke-opacity:1; fill:none\" points=\"2087.99,1486.45 2087.99,1467.55 \"/>\n<path clip-path=\"url(#clip600)\" d=\"M427.598 1532.02 L457.273 1532.02 L457.273 1535.95 L427.598 1535.95 L427.598 1532.02 Z\" fill=\"#000000\" fill-rule=\"nonzero\" fill-opacity=\"1\" /><path clip-path=\"url(#clip600)\" d=\"M480.213 1518.36 L468.408 1536.81 L480.213 1536.81 L480.213 1518.36 M478.986 1514.29 L484.866 1514.29 L484.866 1536.81 L489.796 1536.81 L489.796 1540.7 L484.866 1540.7 L484.866 1548.85 L480.213 1548.85 L480.213 1540.7 L464.611 1540.7 L464.611 1536.19 L478.986 1514.29 Z\" fill=\"#000000\" fill-rule=\"nonzero\" fill-opacity=\"1\" /><path clip-path=\"url(#clip600)\" d=\"M835.964 1532.02 L865.639 1532.02 L865.639 1535.95 L835.964 1535.95 L835.964 1532.02 Z\" fill=\"#000000\" fill-rule=\"nonzero\" fill-opacity=\"1\" /><path clip-path=\"url(#clip600)\" d=\"M879.76 1544.91 L896.079 1544.91 L896.079 1548.85 L874.135 1548.85 L874.135 1544.91 Q876.797 1542.16 881.38 1537.53 Q885.987 1532.88 887.167 1531.53 Q889.413 1529.01 890.292 1527.27 Q891.195 1525.51 891.195 1523.82 Q891.195 1521.07 889.25 1519.33 Q887.329 1517.6 884.227 1517.6 Q882.028 1517.6 879.575 1518.36 Q877.144 1519.13 874.366 1520.68 L874.366 1515.95 Q877.19 1514.82 879.644 1514.24 Q882.098 1513.66 884.135 1513.66 Q889.505 1513.66 892.7 1516.35 Q895.894 1519.03 895.894 1523.52 Q895.894 1525.65 895.084 1527.57 Q894.297 1529.47 892.19 1532.07 Q891.612 1532.74 888.51 1535.95 Q885.408 1539.15 879.76 1544.91 Z\" fill=\"#000000\" fill-rule=\"nonzero\" fill-opacity=\"1\" /><path clip-path=\"url(#clip600)\" d=\"M1273.35 1517.37 Q1269.73 1517.37 1267.91 1520.93 Q1266.1 1524.47 1266.1 1531.6 Q1266.1 1538.71 1267.91 1542.27 Q1269.73 1545.82 1273.35 1545.82 Q1276.98 1545.82 1278.79 1542.27 Q1280.61 1538.71 1280.61 1531.6 Q1280.61 1524.47 1278.79 1520.93 Q1276.98 1517.37 1273.35 1517.37 M1273.35 1513.66 Q1279.16 1513.66 1282.21 1518.27 Q1285.29 1522.85 1285.29 1531.6 Q1285.29 1540.33 1282.21 1544.94 Q1279.16 1549.52 1273.35 1549.52 Q1267.54 1549.52 1264.46 1544.94 Q1261.4 1540.33 1261.4 1531.6 Q1261.4 1522.85 1264.46 1518.27 Q1267.54 1513.66 1273.35 1513.66 Z\" fill=\"#000000\" fill-rule=\"nonzero\" fill-opacity=\"1\" /><path clip-path=\"url(#clip600)\" d=\"M1675.32 1544.91 L1691.64 1544.91 L1691.64 1548.85 L1669.7 1548.85 L1669.7 1544.91 Q1672.36 1542.16 1676.94 1537.53 Q1681.55 1532.88 1682.73 1531.53 Q1684.98 1529.01 1685.86 1527.27 Q1686.76 1525.51 1686.76 1523.82 Q1686.76 1521.07 1684.81 1519.33 Q1682.89 1517.6 1679.79 1517.6 Q1677.59 1517.6 1675.14 1518.36 Q1672.71 1519.13 1669.93 1520.68 L1669.93 1515.95 Q1672.75 1514.82 1675.21 1514.24 Q1677.66 1513.66 1679.7 1513.66 Q1685.07 1513.66 1688.26 1516.35 Q1691.46 1519.03 1691.46 1523.52 Q1691.46 1525.65 1690.65 1527.57 Q1689.86 1529.47 1687.75 1532.07 Q1687.18 1532.74 1684.07 1535.95 Q1680.97 1539.15 1675.32 1544.91 Z\" fill=\"#000000\" fill-rule=\"nonzero\" fill-opacity=\"1\" /><path clip-path=\"url(#clip600)\" d=\"M2091 1518.36 L2079.2 1536.81 L2091 1536.81 L2091 1518.36 M2089.78 1514.29 L2095.66 1514.29 L2095.66 1536.81 L2100.59 1536.81 L2100.59 1540.7 L2095.66 1540.7 L2095.66 1548.85 L2091 1548.85 L2091 1540.7 L2075.4 1540.7 L2075.4 1536.19 L2089.78 1514.29 Z\" fill=\"#000000\" fill-rule=\"nonzero\" fill-opacity=\"1\" /><polyline clip-path=\"url(#clip602)\" style=\"stroke:#000000; stroke-linecap:round; stroke-linejoin:round; stroke-width:2; stroke-opacity:0.1; fill:none\" points=\"193.936,1445.74 2352.76,1445.74 \"/>\n<polyline clip-path=\"url(#clip602)\" style=\"stroke:#000000; stroke-linecap:round; stroke-linejoin:round; stroke-width:2; stroke-opacity:0.1; fill:none\" points=\"193.936,1106.3 2352.76,1106.3 \"/>\n<polyline clip-path=\"url(#clip602)\" style=\"stroke:#000000; stroke-linecap:round; stroke-linejoin:round; stroke-width:2; stroke-opacity:0.1; fill:none\" points=\"193.936,766.858 2352.76,766.858 \"/>\n<polyline clip-path=\"url(#clip602)\" style=\"stroke:#000000; stroke-linecap:round; stroke-linejoin:round; stroke-width:2; stroke-opacity:0.1; fill:none\" points=\"193.936,427.415 2352.76,427.415 \"/>\n<polyline clip-path=\"url(#clip602)\" style=\"stroke:#000000; stroke-linecap:round; stroke-linejoin:round; stroke-width:2; stroke-opacity:0.1; fill:none\" points=\"193.936,87.9727 2352.76,87.9727 \"/>\n<polyline clip-path=\"url(#clip600)\" style=\"stroke:#000000; stroke-linecap:round; stroke-linejoin:round; stroke-width:4; stroke-opacity:1; fill:none\" points=\"193.936,1486.45 193.936,47.2441 \"/>\n<polyline clip-path=\"url(#clip600)\" style=\"stroke:#000000; stroke-linecap:round; stroke-linejoin:round; stroke-width:4; stroke-opacity:1; fill:none\" points=\"193.936,1445.74 212.834,1445.74 \"/>\n<polyline clip-path=\"url(#clip600)\" style=\"stroke:#000000; stroke-linecap:round; stroke-linejoin:round; stroke-width:4; stroke-opacity:1; fill:none\" points=\"193.936,1106.3 212.834,1106.3 \"/>\n<polyline clip-path=\"url(#clip600)\" style=\"stroke:#000000; stroke-linecap:round; stroke-linejoin:round; stroke-width:4; stroke-opacity:1; fill:none\" points=\"193.936,766.858 212.834,766.858 \"/>\n<polyline clip-path=\"url(#clip600)\" style=\"stroke:#000000; stroke-linecap:round; stroke-linejoin:round; stroke-width:4; stroke-opacity:1; fill:none\" points=\"193.936,427.415 212.834,427.415 \"/>\n<polyline clip-path=\"url(#clip600)\" style=\"stroke:#000000; stroke-linecap:round; stroke-linejoin:round; stroke-width:4; stroke-opacity:1; fill:none\" points=\"193.936,87.9727 212.834,87.9727 \"/>\n<path clip-path=\"url(#clip600)\" d=\"M50.9921 1446.19 L80.6679 1446.19 L80.6679 1450.13 L50.9921 1450.13 L50.9921 1446.19 Z\" fill=\"#000000\" fill-rule=\"nonzero\" fill-opacity=\"1\" /><path clip-path=\"url(#clip600)\" d=\"M91.5706 1459.09 L99.2095 1459.09 L99.2095 1432.72 L90.8993 1434.39 L90.8993 1430.13 L99.1632 1428.46 L103.839 1428.46 L103.839 1459.09 L111.478 1459.09 L111.478 1463.02 L91.5706 1463.02 L91.5706 1459.09 Z\" fill=\"#000000\" fill-rule=\"nonzero\" fill-opacity=\"1\" /><path clip-path=\"url(#clip600)\" d=\"M120.922 1457.14 L125.807 1457.14 L125.807 1463.02 L120.922 1463.02 L120.922 1457.14 Z\" fill=\"#000000\" fill-rule=\"nonzero\" fill-opacity=\"1\" /><path clip-path=\"url(#clip600)\" d=\"M145.992 1431.54 Q142.381 1431.54 140.552 1435.11 Q138.746 1438.65 138.746 1445.78 Q138.746 1452.88 140.552 1456.45 Q142.381 1459.99 145.992 1459.99 Q149.626 1459.99 151.431 1456.45 Q153.26 1452.88 153.26 1445.78 Q153.26 1438.65 151.431 1435.11 Q149.626 1431.54 145.992 1431.54 M145.992 1427.84 Q151.802 1427.84 154.857 1432.44 Q157.936 1437.03 157.936 1445.78 Q157.936 1454.5 154.857 1459.11 Q151.802 1463.69 145.992 1463.69 Q140.181 1463.69 137.103 1459.11 Q134.047 1454.5 134.047 1445.78 Q134.047 1437.03 137.103 1432.44 Q140.181 1427.84 145.992 1427.84 Z\" fill=\"#000000\" fill-rule=\"nonzero\" fill-opacity=\"1\" /><path clip-path=\"url(#clip600)\" d=\"M51.9875 1106.75 L81.6633 1106.75 L81.6633 1110.69 L51.9875 1110.69 L51.9875 1106.75 Z\" fill=\"#000000\" fill-rule=\"nonzero\" fill-opacity=\"1\" /><path clip-path=\"url(#clip600)\" d=\"M101.756 1092.1 Q98.1447 1092.1 96.316 1095.66 Q94.5104 1099.21 94.5104 1106.33 Q94.5104 1113.44 96.316 1117.01 Q98.1447 1120.55 101.756 1120.55 Q105.39 1120.55 107.196 1117.01 Q109.024 1113.44 109.024 1106.33 Q109.024 1099.21 107.196 1095.66 Q105.39 1092.1 101.756 1092.1 M101.756 1088.4 Q107.566 1088.4 110.621 1093 Q113.7 1097.58 113.7 1106.33 Q113.7 1115.06 110.621 1119.67 Q107.566 1124.25 101.756 1124.25 Q95.9456 1124.25 92.8669 1119.67 Q89.8114 1115.06 89.8114 1106.33 Q89.8114 1097.58 92.8669 1093 Q95.9456 1088.4 101.756 1088.4 Z\" fill=\"#000000\" fill-rule=\"nonzero\" fill-opacity=\"1\" /><path clip-path=\"url(#clip600)\" d=\"M121.918 1117.7 L126.802 1117.7 L126.802 1123.58 L121.918 1123.58 L121.918 1117.7 Z\" fill=\"#000000\" fill-rule=\"nonzero\" fill-opacity=\"1\" /><path clip-path=\"url(#clip600)\" d=\"M137.033 1089.02 L155.39 1089.02 L155.39 1092.96 L141.316 1092.96 L141.316 1101.43 Q142.334 1101.08 143.353 1100.92 Q144.371 1100.73 145.39 1100.73 Q151.177 1100.73 154.556 1103.9 Q157.936 1107.08 157.936 1112.49 Q157.936 1118.07 154.464 1121.17 Q150.992 1124.25 144.672 1124.25 Q142.496 1124.25 140.228 1123.88 Q137.982 1123.51 135.575 1122.77 L135.575 1118.07 Q137.658 1119.21 139.881 1119.76 Q142.103 1120.32 144.58 1120.32 Q148.584 1120.32 150.922 1118.21 Q153.26 1116.1 153.26 1112.49 Q153.26 1108.88 150.922 1106.77 Q148.584 1104.67 144.58 1104.67 Q142.705 1104.67 140.83 1105.08 Q138.978 1105.5 137.033 1106.38 L137.033 1089.02 Z\" fill=\"#000000\" fill-rule=\"nonzero\" fill-opacity=\"1\" /><path clip-path=\"url(#clip600)\" d=\"M100.76 752.656 Q97.1493 752.656 95.3206 756.221 Q93.515 759.763 93.515 766.892 Q93.515 773.999 95.3206 777.564 Q97.1493 781.105 100.76 781.105 Q104.395 781.105 106.2 777.564 Q108.029 773.999 108.029 766.892 Q108.029 759.763 106.2 756.221 Q104.395 752.656 100.76 752.656 M100.76 748.953 Q106.571 748.953 109.626 753.559 Q112.705 758.142 112.705 766.892 Q112.705 775.619 109.626 780.226 Q106.571 784.809 100.76 784.809 Q94.9502 784.809 91.8715 780.226 Q88.816 775.619 88.816 766.892 Q88.816 758.142 91.8715 753.559 Q94.9502 748.953 100.76 748.953 Z\" fill=\"#000000\" fill-rule=\"nonzero\" fill-opacity=\"1\" /><path clip-path=\"url(#clip600)\" d=\"M120.922 778.258 L125.807 778.258 L125.807 784.138 L120.922 784.138 L120.922 778.258 Z\" fill=\"#000000\" fill-rule=\"nonzero\" fill-opacity=\"1\" /><path clip-path=\"url(#clip600)\" d=\"M145.992 752.656 Q142.381 752.656 140.552 756.221 Q138.746 759.763 138.746 766.892 Q138.746 773.999 140.552 777.564 Q142.381 781.105 145.992 781.105 Q149.626 781.105 151.431 777.564 Q153.26 773.999 153.26 766.892 Q153.26 759.763 151.431 756.221 Q149.626 752.656 145.992 752.656 M145.992 748.953 Q151.802 748.953 154.857 753.559 Q157.936 758.142 157.936 766.892 Q157.936 775.619 154.857 780.226 Q151.802 784.809 145.992 784.809 Q140.181 784.809 137.103 780.226 Q134.047 775.619 134.047 766.892 Q134.047 758.142 137.103 753.559 Q140.181 748.953 145.992 748.953 Z\" fill=\"#000000\" fill-rule=\"nonzero\" fill-opacity=\"1\" /><path clip-path=\"url(#clip600)\" d=\"M101.756 413.214 Q98.1447 413.214 96.316 416.779 Q94.5104 420.32 94.5104 427.45 Q94.5104 434.556 96.316 438.121 Q98.1447 441.663 101.756 441.663 Q105.39 441.663 107.196 438.121 Q109.024 434.556 109.024 427.45 Q109.024 420.32 107.196 416.779 Q105.39 413.214 101.756 413.214 M101.756 409.51 Q107.566 409.51 110.621 414.117 Q113.7 418.7 113.7 427.45 Q113.7 436.177 110.621 440.783 Q107.566 445.366 101.756 445.366 Q95.9456 445.366 92.8669 440.783 Q89.8114 436.177 89.8114 427.45 Q89.8114 418.7 92.8669 414.117 Q95.9456 409.51 101.756 409.51 Z\" fill=\"#000000\" fill-rule=\"nonzero\" fill-opacity=\"1\" /><path clip-path=\"url(#clip600)\" d=\"M121.918 438.816 L126.802 438.816 L126.802 444.695 L121.918 444.695 L121.918 438.816 Z\" fill=\"#000000\" fill-rule=\"nonzero\" fill-opacity=\"1\" /><path clip-path=\"url(#clip600)\" d=\"M137.033 410.135 L155.39 410.135 L155.39 414.07 L141.316 414.07 L141.316 422.543 Q142.334 422.195 143.353 422.033 Q144.371 421.848 145.39 421.848 Q151.177 421.848 154.556 425.019 Q157.936 428.191 157.936 433.607 Q157.936 439.186 154.464 442.288 Q150.992 445.366 144.672 445.366 Q142.496 445.366 140.228 444.996 Q137.982 444.626 135.575 443.885 L135.575 439.186 Q137.658 440.32 139.881 440.876 Q142.103 441.431 144.58 441.431 Q148.584 441.431 150.922 439.325 Q153.26 437.218 153.26 433.607 Q153.26 429.996 150.922 427.89 Q148.584 425.783 144.58 425.783 Q142.705 425.783 140.83 426.2 Q138.978 426.617 137.033 427.496 L137.033 410.135 Z\" fill=\"#000000\" fill-rule=\"nonzero\" fill-opacity=\"1\" /><path clip-path=\"url(#clip600)\" d=\"M91.5706 101.318 L99.2095 101.318 L99.2095 74.9519 L90.8993 76.6186 L90.8993 72.3594 L99.1632 70.6927 L103.839 70.6927 L103.839 101.318 L111.478 101.318 L111.478 105.253 L91.5706 105.253 L91.5706 101.318 Z\" fill=\"#000000\" fill-rule=\"nonzero\" fill-opacity=\"1\" /><path clip-path=\"url(#clip600)\" d=\"M120.922 99.3731 L125.807 99.3731 L125.807 105.253 L120.922 105.253 L120.922 99.3731 Z\" fill=\"#000000\" fill-rule=\"nonzero\" fill-opacity=\"1\" /><path clip-path=\"url(#clip600)\" d=\"M145.992 73.7714 Q142.381 73.7714 140.552 77.3362 Q138.746 80.8778 138.746 88.0074 Q138.746 95.1139 140.552 98.6787 Q142.381 102.22 145.992 102.22 Q149.626 102.22 151.431 98.6787 Q153.26 95.1139 153.26 88.0074 Q153.26 80.8778 151.431 77.3362 Q149.626 73.7714 145.992 73.7714 M145.992 70.0677 Q151.802 70.0677 154.857 74.6742 Q157.936 79.2575 157.936 88.0074 Q157.936 96.7342 154.857 101.341 Q151.802 105.924 145.992 105.924 Q140.181 105.924 137.103 101.341 Q134.047 96.7342 134.047 88.0074 Q134.047 79.2575 137.103 74.6742 Q140.181 70.0677 145.992 70.0677 Z\" fill=\"#000000\" fill-rule=\"nonzero\" fill-opacity=\"1\" /><polyline clip-path=\"url(#clip602)\" style=\"stroke:#7f7f7f; stroke-linecap:round; stroke-linejoin:round; stroke-width:4; stroke-opacity:1; fill:none\" points=\"255.035,115.858 258.35,112.81 261.664,109.936 264.979,107.235 268.294,104.709 283.62,95.32 298.945,89.732 306.608,88.3739 314.27,87.9763 321.933,88.5395 329.596,90.0629 337.259,92.5443 344.921,95.98 352.584,100.365 360.247,105.694 375.572,119.15 390.898,136.272 400.108,148.286 409.318,161.564 418.527,176.08 427.737,191.804 436.947,208.704 446.157,226.745 455.367,245.89 464.577,266.1 480.151,302.583 495.725,341.778 511.299,383.458 526.872,427.379 543.79,477.329 560.707,529.276 577.625,582.861 594.542,637.715 625.735,740.907 656.928,844.707 673.649,899.753 690.37,953.903 707.091,1006.79 723.812,1058.07 743.185,1115 762.558,1168.78 772.245,1194.34 781.931,1218.93 791.617,1242.5 801.304,1264.99 809.912,1284.03 818.52,1302.15 827.129,1319.32 835.737,1335.5 844.345,1350.66 852.953,1364.78 861.561,1377.83 870.17,1389.79 885.267,1408.07 900.364,1422.82 915.461,1433.98 930.558,1441.46 938.788,1443.99 947.018,1445.41 955.248,1445.72 963.478,1444.92 971.708,1443.01 979.938,1440 988.168,1435.89 996.398,1430.69 1004.68,1424.37 1012.96,1416.95 1021.24,1408.47 1029.51,1398.92 1046.07,1376.72 1062.63,1350.48 1071.78,1334.31 1080.94,1316.99 1090.09,1298.56 1099.24,1279.06 1108.4,1258.53 1117.55,1237 1126.7,1214.52 1135.86,1191.13 1153.28,1144.31 1170.69,1094.73 1188.11,1042.75 1205.53,988.757 1241.75,871.746 1277.98,751.426 1308.47,650.364 1338.96,551.908 1357.57,494.034 1376.19,438.437 1394.8,385.581 1413.41,335.908 1421.94,314.333 1430.46,293.551 1438.99,273.598 1447.51,254.51 1464.57,219.058 1481.62,187.444 1489.49,174.202 1497.36,161.846 1505.24,150.394 1513.11,139.864 1520.99,130.271 1528.86,121.629 1536.73,113.952 1544.61,107.25 1552.58,101.467 1560.56,96.7035 1568.54,92.9682 1576.51,90.2663 1584.49,88.602 1592.46,87.9779 1600.44,88.3948 1608.42,89.8523 1617.36,92.7193 1626.29,96.8847 1635.23,102.341 1644.17,109.076 1653.11,117.079 1662.05,126.334 1670.99,136.822 1679.93,148.523 1696.13,172.748 1712.33,200.731 1720.43,216.076 1728.53,232.293 1736.63,249.355 1744.73,267.236 1754,288.677 1763.28,311.109 1772.55,334.486 1781.83,358.76 1800.37,409.793 1818.92,463.785 1836.1,516.028 1853.27,570.053 1870.44,625.476 1887.62,681.905 1921.48,794.552 1955.34,906.436 1971.78,959.55 1988.22,1011.41 2004.66,1061.68 2021.1,1110.02 2037.95,1157.26 2054.8,1201.83 2071.66,1243.43 2088.51,1281.76 2097.74,1301.28 2106.97,1319.7 2116.2,1336.99 2125.44,1353.1 2134.67,1368.01 2143.9,1381.69 2153.13,1394.1 2162.36,1405.22 2175.77,1419.04 2189.18,1430.03 2202.59,1438.15 2216,1443.36 2229.42,1445.63 2242.83,1444.97 2256.24,1441.36 2269.65,1434.83 2275.15,1431.31 2280.65,1427.31 2286.15,1422.82 2291.66,1417.86 \"/>\n<path clip-path=\"url(#clip600)\" d=\"M2012.48 198.898 L2280.8 198.898 L2280.8 95.2176 L2012.48 95.2176  Z\" fill=\"#ffffff\" fill-rule=\"evenodd\" fill-opacity=\"1\"/>\n<polyline clip-path=\"url(#clip600)\" style=\"stroke:#000000; stroke-linecap:round; stroke-linejoin:round; stroke-width:4; stroke-opacity:1; fill:none\" points=\"2012.48,198.898 2280.8,198.898 2280.8,95.2176 2012.48,95.2176 2012.48,198.898 \"/>\n<polyline clip-path=\"url(#clip600)\" style=\"stroke:#7f7f7f; stroke-linecap:round; stroke-linejoin:round; stroke-width:4; stroke-opacity:1; fill:none\" points=\"2036.47,147.058 2180.39,147.058 \"/>\n<path clip-path=\"url(#clip600)\" d=\"M2218.22 166.745 Q2216.42 171.375 2214.7 172.787 Q2212.99 174.199 2210.12 174.199 L2206.72 174.199 L2206.72 170.634 L2209.22 170.634 Q2210.98 170.634 2211.95 169.8 Q2212.92 168.967 2214.1 165.865 L2214.86 163.921 L2204.38 138.412 L2208.89 138.412 L2216.99 158.689 L2225.1 138.412 L2229.61 138.412 L2218.22 166.745 Z\" fill=\"#000000\" fill-rule=\"nonzero\" fill-opacity=\"1\" /><path clip-path=\"url(#clip600)\" d=\"M2236.9 160.402 L2244.54 160.402 L2244.54 134.037 L2236.23 135.703 L2236.23 131.444 L2244.49 129.778 L2249.17 129.778 L2249.17 160.402 L2256.81 160.402 L2256.81 164.338 L2236.9 164.338 L2236.9 160.402 Z\" fill=\"#000000\" fill-rule=\"nonzero\" fill-opacity=\"1\" /></svg>\n"
           }
          },
          "systemjs_options": null
         },
         "nodeType": "Scope",
         "props": {},
         "type": "node"
        },
        {
         "children": [
          {
           "children": [
            {
             "children": [
              {
               "children": [
                {
                 "children": [
                  {
                   "children": [
                    "red"
                   ],
                   "instanceArgs": {
                    "namespace": "html",
                    "tag": "label"
                   },
                   "nodeType": "DOM",
                   "props": {
                    "className": "interact ",
                    "style": {
                     "padding": "5px 10px 0px 10px"
                    }
                   },
                   "type": "node"
                  }
                 ],
                 "instanceArgs": {
                  "namespace": "html",
                  "tag": "div"
                 },
                 "nodeType": "DOM",
                 "props": {
                  "className": "interact-flex-row-left"
                 },
                 "type": "node"
                },
                {
                 "children": [
                  {
                   "children": [],
                   "instanceArgs": {
                    "namespace": "html",
                    "tag": "input"
                   },
                   "nodeType": "DOM",
                   "props": {
                    "attributes": {
                     "data-bind": "numericValue: index, valueUpdate: 'input', event: {change: function (){this.changes(this.changes()+1)}}",
                     "orient": "horizontal",
                     "type": "range"
                    },
                    "className": "slider slider is-fullwidth",
                    "max": 255,
                    "min": 0,
                    "step": 1,
                    "style": {}
                   },
                   "type": "node"
                  }
                 ],
                 "instanceArgs": {
                  "namespace": "html",
                  "tag": "div"
                 },
                 "nodeType": "DOM",
                 "props": {
                  "className": "interact-flex-row-center"
                 },
                 "type": "node"
                },
                {
                 "children": [
                  {
                   "children": [],
                   "instanceArgs": {
                    "namespace": "html",
                    "tag": "p"
                   },
                   "nodeType": "DOM",
                   "props": {
                    "attributes": {
                     "data-bind": "text: formatted_val"
                    }
                   },
                   "type": "node"
                  }
                 ],
                 "instanceArgs": {
                  "namespace": "html",
                  "tag": "div"
                 },
                 "nodeType": "DOM",
                 "props": {
                  "className": "interact-flex-row-right"
                 },
                 "type": "node"
                }
               ],
               "instanceArgs": {
                "namespace": "html",
                "tag": "div"
               },
               "nodeType": "DOM",
               "props": {
                "className": "interact-flex-row interact-widget"
               },
               "type": "node"
              }
             ],
             "instanceArgs": {
              "handlers": {
               "changes": [
                "(function (val){return (val!=this.model[\"changes\"]()) ? (this.valueFromJulia[\"changes\"]=true, this.model[\"changes\"](val)) : undefined})"
               ],
               "index": [
                "(function (val){return (val!=this.model[\"index\"]()) ? (this.valueFromJulia[\"index\"]=true, this.model[\"index\"](val)) : undefined})"
               ]
              },
              "id": "1884056284353259339",
              "imports": {
               "data": [
                {
                 "name": "knockout",
                 "type": "js",
                 "url": "/assetserver/d0f67ea5103338bec547a71428bdbf3df4f08059-knockout.js"
                },
                {
                 "name": "knockout_punches",
                 "type": "js",
                 "url": "/assetserver/e26f753938579e2287344150f7e368ac4b529445-knockout_punches.js"
                },
                {
                 "name": null,
                 "type": "js",
                 "url": "/assetserver/f71b84de1a55136a6c3fa3ef48eef72511463954-all.js"
                },
                {
                 "name": null,
                 "type": "css",
                 "url": "/assetserver/dfba341bd7a3bedeba9caeda5288e80d20d1c596-style.css"
                },
                {
                 "name": null,
                 "type": "css",
                 "url": "/assetserver/53e68c0bec04ce908a124e6cd1565929ff6ce3a7-bulma_confined.min.css"
                }
               ],
               "type": "async_block"
              },
              "mount_callbacks": [
               "function () {\n    var handler = (function (ko, koPunches) {\n    ko.punches.enableAll();\n    ko.bindingHandlers.numericValue = {\n        init: function(element, valueAccessor, allBindings, data, context) {\n            var stringified = ko.observable(ko.unwrap(valueAccessor()));\n            stringified.subscribe(function(value) {\n                var val = parseFloat(value);\n                if (!isNaN(val)) {\n                    valueAccessor()(val);\n                }\n            });\n            valueAccessor().subscribe(function(value) {\n                var str = JSON.stringify(value);\n                if ((str == \"0\") && ([\"-0\", \"-0.\"].indexOf(stringified()) >= 0))\n                     return;\n                 if ([\"null\", \"\"].indexOf(str) >= 0)\n                     return;\n                stringified(str);\n            });\n            ko.applyBindingsToNode(\n                element,\n                {\n                    value: stringified,\n                    valueUpdate: allBindings.get('valueUpdate'),\n                },\n                context,\n            );\n        }\n    };\n    var json_data = {\"formatted_vals\":[\"0\",\"1\",\"2\",\"3\",\"4\",\"5\",\"6\",\"7\",\"8\",\"9\",\"10\",\"11\",\"12\",\"13\",\"14\",\"15\",\"16\",\"17\",\"18\",\"19\",\"20\",\"21\",\"22\",\"23\",\"24\",\"25\",\"26\",\"27\",\"28\",\"29\",\"30\",\"31\",\"32\",\"33\",\"34\",\"35\",\"36\",\"37\",\"38\",\"39\",\"40\",\"41\",\"42\",\"43\",\"44\",\"45\",\"46\",\"47\",\"48\",\"49\",\"50\",\"51\",\"52\",\"53\",\"54\",\"55\",\"56\",\"57\",\"58\",\"59\",\"60\",\"61\",\"62\",\"63\",\"64\",\"65\",\"66\",\"67\",\"68\",\"69\",\"70\",\"71\",\"72\",\"73\",\"74\",\"75\",\"76\",\"77\",\"78\",\"79\",\"80\",\"81\",\"82\",\"83\",\"84\",\"85\",\"86\",\"87\",\"88\",\"89\",\"90\",\"91\",\"92\",\"93\",\"94\",\"95\",\"96\",\"97\",\"98\",\"99\",\"100\",\"101\",\"102\",\"103\",\"104\",\"105\",\"106\",\"107\",\"108\",\"109\",\"110\",\"111\",\"112\",\"113\",\"114\",\"115\",\"116\",\"117\",\"118\",\"119\",\"120\",\"121\",\"122\",\"123\",\"124\",\"125\",\"126\",\"127\",\"128\",\"129\",\"130\",\"131\",\"132\",\"133\",\"134\",\"135\",\"136\",\"137\",\"138\",\"139\",\"140\",\"141\",\"142\",\"143\",\"144\",\"145\",\"146\",\"147\",\"148\",\"149\",\"150\",\"151\",\"152\",\"153\",\"154\",\"155\",\"156\",\"157\",\"158\",\"159\",\"160\",\"161\",\"162\",\"163\",\"164\",\"165\",\"166\",\"167\",\"168\",\"169\",\"170\",\"171\",\"172\",\"173\",\"174\",\"175\",\"176\",\"177\",\"178\",\"179\",\"180\",\"181\",\"182\",\"183\",\"184\",\"185\",\"186\",\"187\",\"188\",\"189\",\"190\",\"191\",\"192\",\"193\",\"194\",\"195\",\"196\",\"197\",\"198\",\"199\",\"200\",\"201\",\"202\",\"203\",\"204\",\"205\",\"206\",\"207\",\"208\",\"209\",\"210\",\"211\",\"212\",\"213\",\"214\",\"215\",\"216\",\"217\",\"218\",\"219\",\"220\",\"221\",\"222\",\"223\",\"224\",\"225\",\"226\",\"227\",\"228\",\"229\",\"230\",\"231\",\"232\",\"233\",\"234\",\"235\",\"236\",\"237\",\"238\",\"239\",\"240\",\"241\",\"242\",\"243\",\"244\",\"245\",\"246\",\"247\",\"248\",\"249\",\"250\",\"251\",\"252\",\"253\",\"254\",\"255\"],\"changes\":WebIO.getval({\"name\":\"changes\",\"scope\":\"1884056284353259339\",\"id\":\"28\",\"type\":\"observable\"}),\"index\":WebIO.getval({\"name\":\"index\",\"scope\":\"1884056284353259339\",\"id\":\"27\",\"type\":\"observable\"})};\n    var self = this;\n    function AppViewModel() {\n        for (var key in json_data) {\n            var el = json_data[key];\n            this[key] = Array.isArray(el) ? ko.observableArray(el) : ko.observable(el);\n        }\n        \n        [this[\"formatted_val\"]=ko.computed(    function(){\n        return this.formatted_vals()[parseInt(this.index())-(0)];\n    }\n,this)]\n        [this[\"changes\"].subscribe((function (val){!(this.valueFromJulia[\"changes\"]) ? (WebIO.setval({\"name\":\"changes\",\"scope\":\"1884056284353259339\",\"id\":\"28\",\"type\":\"observable\"},val)) : undefined; return this.valueFromJulia[\"changes\"]=false}),self),this[\"index\"].subscribe((function (val){!(this.valueFromJulia[\"index\"]) ? (WebIO.setval({\"name\":\"index\",\"scope\":\"1884056284353259339\",\"id\":\"27\",\"type\":\"observable\"},val)) : undefined; return this.valueFromJulia[\"index\"]=false}),self)]\n        \n    }\n    self.model = new AppViewModel();\n    self.valueFromJulia = {};\n    for (var key in json_data) {\n        self.valueFromJulia[key] = false;\n    }\n    ko.applyBindings(self.model, self.dom);\n}\n);\n    (WebIO.importBlock({\"data\":[{\"name\":\"knockout\",\"type\":\"js\",\"url\":\"/assetserver/d0f67ea5103338bec547a71428bdbf3df4f08059-knockout.js\"},{\"name\":\"knockout_punches\",\"type\":\"js\",\"url\":\"/assetserver/e26f753938579e2287344150f7e368ac4b529445-knockout_punches.js\"}],\"type\":\"async_block\"})).then((imports) => handler.apply(this, imports));\n}\n"
              ],
              "observables": {
               "changes": {
                "id": "28",
                "sync": false,
                "value": 0
               },
               "index": {
                "id": "27",
                "sync": false,
                "value": 127
               }
              },
              "systemjs_options": null
             },
             "nodeType": "Scope",
             "props": {},
             "type": "node"
            }
           ],
           "instanceArgs": {
            "namespace": "html",
            "tag": "div"
           },
           "nodeType": "DOM",
           "props": {
            "className": "field interact-widget"
           },
           "type": "node"
          },
          {
           "children": [
            {
             "children": [
              {
               "children": [
                {
                 "children": [
                  {
                   "children": [
                    "green"
                   ],
                   "instanceArgs": {
                    "namespace": "html",
                    "tag": "label"
                   },
                   "nodeType": "DOM",
                   "props": {
                    "className": "interact ",
                    "style": {
                     "padding": "5px 10px 0px 10px"
                    }
                   },
                   "type": "node"
                  }
                 ],
                 "instanceArgs": {
                  "namespace": "html",
                  "tag": "div"
                 },
                 "nodeType": "DOM",
                 "props": {
                  "className": "interact-flex-row-left"
                 },
                 "type": "node"
                },
                {
                 "children": [
                  {
                   "children": [],
                   "instanceArgs": {
                    "namespace": "html",
                    "tag": "input"
                   },
                   "nodeType": "DOM",
                   "props": {
                    "attributes": {
                     "data-bind": "numericValue: index, valueUpdate: 'input', event: {change: function (){this.changes(this.changes()+1)}}",
                     "orient": "horizontal",
                     "type": "range"
                    },
                    "className": "slider slider is-fullwidth",
                    "max": 255,
                    "min": 0,
                    "step": 1,
                    "style": {}
                   },
                   "type": "node"
                  }
                 ],
                 "instanceArgs": {
                  "namespace": "html",
                  "tag": "div"
                 },
                 "nodeType": "DOM",
                 "props": {
                  "className": "interact-flex-row-center"
                 },
                 "type": "node"
                },
                {
                 "children": [
                  {
                   "children": [],
                   "instanceArgs": {
                    "namespace": "html",
                    "tag": "p"
                   },
                   "nodeType": "DOM",
                   "props": {
                    "attributes": {
                     "data-bind": "text: formatted_val"
                    }
                   },
                   "type": "node"
                  }
                 ],
                 "instanceArgs": {
                  "namespace": "html",
                  "tag": "div"
                 },
                 "nodeType": "DOM",
                 "props": {
                  "className": "interact-flex-row-right"
                 },
                 "type": "node"
                }
               ],
               "instanceArgs": {
                "namespace": "html",
                "tag": "div"
               },
               "nodeType": "DOM",
               "props": {
                "className": "interact-flex-row interact-widget"
               },
               "type": "node"
              }
             ],
             "instanceArgs": {
              "handlers": {
               "changes": [
                "(function (val){return (val!=this.model[\"changes\"]()) ? (this.valueFromJulia[\"changes\"]=true, this.model[\"changes\"](val)) : undefined})"
               ],
               "index": [
                "(function (val){return (val!=this.model[\"index\"]()) ? (this.valueFromJulia[\"index\"]=true, this.model[\"index\"](val)) : undefined})"
               ]
              },
              "id": "8026148881030119543",
              "imports": {
               "data": [
                {
                 "name": "knockout",
                 "type": "js",
                 "url": "/assetserver/d0f67ea5103338bec547a71428bdbf3df4f08059-knockout.js"
                },
                {
                 "name": "knockout_punches",
                 "type": "js",
                 "url": "/assetserver/e26f753938579e2287344150f7e368ac4b529445-knockout_punches.js"
                },
                {
                 "name": null,
                 "type": "js",
                 "url": "/assetserver/f71b84de1a55136a6c3fa3ef48eef72511463954-all.js"
                },
                {
                 "name": null,
                 "type": "css",
                 "url": "/assetserver/dfba341bd7a3bedeba9caeda5288e80d20d1c596-style.css"
                },
                {
                 "name": null,
                 "type": "css",
                 "url": "/assetserver/53e68c0bec04ce908a124e6cd1565929ff6ce3a7-bulma_confined.min.css"
                }
               ],
               "type": "async_block"
              },
              "mount_callbacks": [
               "function () {\n    var handler = (function (ko, koPunches) {\n    ko.punches.enableAll();\n    ko.bindingHandlers.numericValue = {\n        init: function(element, valueAccessor, allBindings, data, context) {\n            var stringified = ko.observable(ko.unwrap(valueAccessor()));\n            stringified.subscribe(function(value) {\n                var val = parseFloat(value);\n                if (!isNaN(val)) {\n                    valueAccessor()(val);\n                }\n            });\n            valueAccessor().subscribe(function(value) {\n                var str = JSON.stringify(value);\n                if ((str == \"0\") && ([\"-0\", \"-0.\"].indexOf(stringified()) >= 0))\n                     return;\n                 if ([\"null\", \"\"].indexOf(str) >= 0)\n                     return;\n                stringified(str);\n            });\n            ko.applyBindingsToNode(\n                element,\n                {\n                    value: stringified,\n                    valueUpdate: allBindings.get('valueUpdate'),\n                },\n                context,\n            );\n        }\n    };\n    var json_data = {\"formatted_vals\":[\"0\",\"1\",\"2\",\"3\",\"4\",\"5\",\"6\",\"7\",\"8\",\"9\",\"10\",\"11\",\"12\",\"13\",\"14\",\"15\",\"16\",\"17\",\"18\",\"19\",\"20\",\"21\",\"22\",\"23\",\"24\",\"25\",\"26\",\"27\",\"28\",\"29\",\"30\",\"31\",\"32\",\"33\",\"34\",\"35\",\"36\",\"37\",\"38\",\"39\",\"40\",\"41\",\"42\",\"43\",\"44\",\"45\",\"46\",\"47\",\"48\",\"49\",\"50\",\"51\",\"52\",\"53\",\"54\",\"55\",\"56\",\"57\",\"58\",\"59\",\"60\",\"61\",\"62\",\"63\",\"64\",\"65\",\"66\",\"67\",\"68\",\"69\",\"70\",\"71\",\"72\",\"73\",\"74\",\"75\",\"76\",\"77\",\"78\",\"79\",\"80\",\"81\",\"82\",\"83\",\"84\",\"85\",\"86\",\"87\",\"88\",\"89\",\"90\",\"91\",\"92\",\"93\",\"94\",\"95\",\"96\",\"97\",\"98\",\"99\",\"100\",\"101\",\"102\",\"103\",\"104\",\"105\",\"106\",\"107\",\"108\",\"109\",\"110\",\"111\",\"112\",\"113\",\"114\",\"115\",\"116\",\"117\",\"118\",\"119\",\"120\",\"121\",\"122\",\"123\",\"124\",\"125\",\"126\",\"127\",\"128\",\"129\",\"130\",\"131\",\"132\",\"133\",\"134\",\"135\",\"136\",\"137\",\"138\",\"139\",\"140\",\"141\",\"142\",\"143\",\"144\",\"145\",\"146\",\"147\",\"148\",\"149\",\"150\",\"151\",\"152\",\"153\",\"154\",\"155\",\"156\",\"157\",\"158\",\"159\",\"160\",\"161\",\"162\",\"163\",\"164\",\"165\",\"166\",\"167\",\"168\",\"169\",\"170\",\"171\",\"172\",\"173\",\"174\",\"175\",\"176\",\"177\",\"178\",\"179\",\"180\",\"181\",\"182\",\"183\",\"184\",\"185\",\"186\",\"187\",\"188\",\"189\",\"190\",\"191\",\"192\",\"193\",\"194\",\"195\",\"196\",\"197\",\"198\",\"199\",\"200\",\"201\",\"202\",\"203\",\"204\",\"205\",\"206\",\"207\",\"208\",\"209\",\"210\",\"211\",\"212\",\"213\",\"214\",\"215\",\"216\",\"217\",\"218\",\"219\",\"220\",\"221\",\"222\",\"223\",\"224\",\"225\",\"226\",\"227\",\"228\",\"229\",\"230\",\"231\",\"232\",\"233\",\"234\",\"235\",\"236\",\"237\",\"238\",\"239\",\"240\",\"241\",\"242\",\"243\",\"244\",\"245\",\"246\",\"247\",\"248\",\"249\",\"250\",\"251\",\"252\",\"253\",\"254\",\"255\"],\"changes\":WebIO.getval({\"name\":\"changes\",\"scope\":\"8026148881030119543\",\"id\":\"30\",\"type\":\"observable\"}),\"index\":WebIO.getval({\"name\":\"index\",\"scope\":\"8026148881030119543\",\"id\":\"29\",\"type\":\"observable\"})};\n    var self = this;\n    function AppViewModel() {\n        for (var key in json_data) {\n            var el = json_data[key];\n            this[key] = Array.isArray(el) ? ko.observableArray(el) : ko.observable(el);\n        }\n        \n        [this[\"formatted_val\"]=ko.computed(    function(){\n        return this.formatted_vals()[parseInt(this.index())-(0)];\n    }\n,this)]\n        [this[\"changes\"].subscribe((function (val){!(this.valueFromJulia[\"changes\"]) ? (WebIO.setval({\"name\":\"changes\",\"scope\":\"8026148881030119543\",\"id\":\"30\",\"type\":\"observable\"},val)) : undefined; return this.valueFromJulia[\"changes\"]=false}),self),this[\"index\"].subscribe((function (val){!(this.valueFromJulia[\"index\"]) ? (WebIO.setval({\"name\":\"index\",\"scope\":\"8026148881030119543\",\"id\":\"29\",\"type\":\"observable\"},val)) : undefined; return this.valueFromJulia[\"index\"]=false}),self)]\n        \n    }\n    self.model = new AppViewModel();\n    self.valueFromJulia = {};\n    for (var key in json_data) {\n        self.valueFromJulia[key] = false;\n    }\n    ko.applyBindings(self.model, self.dom);\n}\n);\n    (WebIO.importBlock({\"data\":[{\"name\":\"knockout\",\"type\":\"js\",\"url\":\"/assetserver/d0f67ea5103338bec547a71428bdbf3df4f08059-knockout.js\"},{\"name\":\"knockout_punches\",\"type\":\"js\",\"url\":\"/assetserver/e26f753938579e2287344150f7e368ac4b529445-knockout_punches.js\"}],\"type\":\"async_block\"})).then((imports) => handler.apply(this, imports));\n}\n"
              ],
              "observables": {
               "changes": {
                "id": "30",
                "sync": false,
                "value": 0
               },
               "index": {
                "id": "29",
                "sync": false,
                "value": 127
               }
              },
              "systemjs_options": null
             },
             "nodeType": "Scope",
             "props": {},
             "type": "node"
            }
           ],
           "instanceArgs": {
            "namespace": "html",
            "tag": "div"
           },
           "nodeType": "DOM",
           "props": {
            "className": "field interact-widget"
           },
           "type": "node"
          },
          {
           "children": [
            {
             "children": [
              {
               "children": [
                {
                 "children": [
                  {
                   "children": [
                    "blue"
                   ],
                   "instanceArgs": {
                    "namespace": "html",
                    "tag": "label"
                   },
                   "nodeType": "DOM",
                   "props": {
                    "className": "interact ",
                    "style": {
                     "padding": "5px 10px 0px 10px"
                    }
                   },
                   "type": "node"
                  }
                 ],
                 "instanceArgs": {
                  "namespace": "html",
                  "tag": "div"
                 },
                 "nodeType": "DOM",
                 "props": {
                  "className": "interact-flex-row-left"
                 },
                 "type": "node"
                },
                {
                 "children": [
                  {
                   "children": [],
                   "instanceArgs": {
                    "namespace": "html",
                    "tag": "input"
                   },
                   "nodeType": "DOM",
                   "props": {
                    "attributes": {
                     "data-bind": "numericValue: index, valueUpdate: 'input', event: {change: function (){this.changes(this.changes()+1)}}",
                     "orient": "horizontal",
                     "type": "range"
                    },
                    "className": "slider slider is-fullwidth",
                    "max": 255,
                    "min": 0,
                    "step": 1,
                    "style": {}
                   },
                   "type": "node"
                  }
                 ],
                 "instanceArgs": {
                  "namespace": "html",
                  "tag": "div"
                 },
                 "nodeType": "DOM",
                 "props": {
                  "className": "interact-flex-row-center"
                 },
                 "type": "node"
                },
                {
                 "children": [
                  {
                   "children": [],
                   "instanceArgs": {
                    "namespace": "html",
                    "tag": "p"
                   },
                   "nodeType": "DOM",
                   "props": {
                    "attributes": {
                     "data-bind": "text: formatted_val"
                    }
                   },
                   "type": "node"
                  }
                 ],
                 "instanceArgs": {
                  "namespace": "html",
                  "tag": "div"
                 },
                 "nodeType": "DOM",
                 "props": {
                  "className": "interact-flex-row-right"
                 },
                 "type": "node"
                }
               ],
               "instanceArgs": {
                "namespace": "html",
                "tag": "div"
               },
               "nodeType": "DOM",
               "props": {
                "className": "interact-flex-row interact-widget"
               },
               "type": "node"
              }
             ],
             "instanceArgs": {
              "handlers": {
               "changes": [
                "(function (val){return (val!=this.model[\"changes\"]()) ? (this.valueFromJulia[\"changes\"]=true, this.model[\"changes\"](val)) : undefined})"
               ],
               "index": [
                "(function (val){return (val!=this.model[\"index\"]()) ? (this.valueFromJulia[\"index\"]=true, this.model[\"index\"](val)) : undefined})"
               ]
              },
              "id": "8528768215057589373",
              "imports": {
               "data": [
                {
                 "name": "knockout",
                 "type": "js",
                 "url": "/assetserver/d0f67ea5103338bec547a71428bdbf3df4f08059-knockout.js"
                },
                {
                 "name": "knockout_punches",
                 "type": "js",
                 "url": "/assetserver/e26f753938579e2287344150f7e368ac4b529445-knockout_punches.js"
                },
                {
                 "name": null,
                 "type": "js",
                 "url": "/assetserver/f71b84de1a55136a6c3fa3ef48eef72511463954-all.js"
                },
                {
                 "name": null,
                 "type": "css",
                 "url": "/assetserver/dfba341bd7a3bedeba9caeda5288e80d20d1c596-style.css"
                },
                {
                 "name": null,
                 "type": "css",
                 "url": "/assetserver/53e68c0bec04ce908a124e6cd1565929ff6ce3a7-bulma_confined.min.css"
                }
               ],
               "type": "async_block"
              },
              "mount_callbacks": [
               "function () {\n    var handler = (function (ko, koPunches) {\n    ko.punches.enableAll();\n    ko.bindingHandlers.numericValue = {\n        init: function(element, valueAccessor, allBindings, data, context) {\n            var stringified = ko.observable(ko.unwrap(valueAccessor()));\n            stringified.subscribe(function(value) {\n                var val = parseFloat(value);\n                if (!isNaN(val)) {\n                    valueAccessor()(val);\n                }\n            });\n            valueAccessor().subscribe(function(value) {\n                var str = JSON.stringify(value);\n                if ((str == \"0\") && ([\"-0\", \"-0.\"].indexOf(stringified()) >= 0))\n                     return;\n                 if ([\"null\", \"\"].indexOf(str) >= 0)\n                     return;\n                stringified(str);\n            });\n            ko.applyBindingsToNode(\n                element,\n                {\n                    value: stringified,\n                    valueUpdate: allBindings.get('valueUpdate'),\n                },\n                context,\n            );\n        }\n    };\n    var json_data = {\"formatted_vals\":[\"0\",\"1\",\"2\",\"3\",\"4\",\"5\",\"6\",\"7\",\"8\",\"9\",\"10\",\"11\",\"12\",\"13\",\"14\",\"15\",\"16\",\"17\",\"18\",\"19\",\"20\",\"21\",\"22\",\"23\",\"24\",\"25\",\"26\",\"27\",\"28\",\"29\",\"30\",\"31\",\"32\",\"33\",\"34\",\"35\",\"36\",\"37\",\"38\",\"39\",\"40\",\"41\",\"42\",\"43\",\"44\",\"45\",\"46\",\"47\",\"48\",\"49\",\"50\",\"51\",\"52\",\"53\",\"54\",\"55\",\"56\",\"57\",\"58\",\"59\",\"60\",\"61\",\"62\",\"63\",\"64\",\"65\",\"66\",\"67\",\"68\",\"69\",\"70\",\"71\",\"72\",\"73\",\"74\",\"75\",\"76\",\"77\",\"78\",\"79\",\"80\",\"81\",\"82\",\"83\",\"84\",\"85\",\"86\",\"87\",\"88\",\"89\",\"90\",\"91\",\"92\",\"93\",\"94\",\"95\",\"96\",\"97\",\"98\",\"99\",\"100\",\"101\",\"102\",\"103\",\"104\",\"105\",\"106\",\"107\",\"108\",\"109\",\"110\",\"111\",\"112\",\"113\",\"114\",\"115\",\"116\",\"117\",\"118\",\"119\",\"120\",\"121\",\"122\",\"123\",\"124\",\"125\",\"126\",\"127\",\"128\",\"129\",\"130\",\"131\",\"132\",\"133\",\"134\",\"135\",\"136\",\"137\",\"138\",\"139\",\"140\",\"141\",\"142\",\"143\",\"144\",\"145\",\"146\",\"147\",\"148\",\"149\",\"150\",\"151\",\"152\",\"153\",\"154\",\"155\",\"156\",\"157\",\"158\",\"159\",\"160\",\"161\",\"162\",\"163\",\"164\",\"165\",\"166\",\"167\",\"168\",\"169\",\"170\",\"171\",\"172\",\"173\",\"174\",\"175\",\"176\",\"177\",\"178\",\"179\",\"180\",\"181\",\"182\",\"183\",\"184\",\"185\",\"186\",\"187\",\"188\",\"189\",\"190\",\"191\",\"192\",\"193\",\"194\",\"195\",\"196\",\"197\",\"198\",\"199\",\"200\",\"201\",\"202\",\"203\",\"204\",\"205\",\"206\",\"207\",\"208\",\"209\",\"210\",\"211\",\"212\",\"213\",\"214\",\"215\",\"216\",\"217\",\"218\",\"219\",\"220\",\"221\",\"222\",\"223\",\"224\",\"225\",\"226\",\"227\",\"228\",\"229\",\"230\",\"231\",\"232\",\"233\",\"234\",\"235\",\"236\",\"237\",\"238\",\"239\",\"240\",\"241\",\"242\",\"243\",\"244\",\"245\",\"246\",\"247\",\"248\",\"249\",\"250\",\"251\",\"252\",\"253\",\"254\",\"255\"],\"changes\":WebIO.getval({\"name\":\"changes\",\"scope\":\"8528768215057589373\",\"id\":\"32\",\"type\":\"observable\"}),\"index\":WebIO.getval({\"name\":\"index\",\"scope\":\"8528768215057589373\",\"id\":\"31\",\"type\":\"observable\"})};\n    var self = this;\n    function AppViewModel() {\n        for (var key in json_data) {\n            var el = json_data[key];\n            this[key] = Array.isArray(el) ? ko.observableArray(el) : ko.observable(el);\n        }\n        \n        [this[\"formatted_val\"]=ko.computed(    function(){\n        return this.formatted_vals()[parseInt(this.index())-(0)];\n    }\n,this)]\n        [this[\"changes\"].subscribe((function (val){!(this.valueFromJulia[\"changes\"]) ? (WebIO.setval({\"name\":\"changes\",\"scope\":\"8528768215057589373\",\"id\":\"32\",\"type\":\"observable\"},val)) : undefined; return this.valueFromJulia[\"changes\"]=false}),self),this[\"index\"].subscribe((function (val){!(this.valueFromJulia[\"index\"]) ? (WebIO.setval({\"name\":\"index\",\"scope\":\"8528768215057589373\",\"id\":\"31\",\"type\":\"observable\"},val)) : undefined; return this.valueFromJulia[\"index\"]=false}),self)]\n        \n    }\n    self.model = new AppViewModel();\n    self.valueFromJulia = {};\n    for (var key in json_data) {\n        self.valueFromJulia[key] = false;\n    }\n    ko.applyBindings(self.model, self.dom);\n}\n);\n    (WebIO.importBlock({\"data\":[{\"name\":\"knockout\",\"type\":\"js\",\"url\":\"/assetserver/d0f67ea5103338bec547a71428bdbf3df4f08059-knockout.js\"},{\"name\":\"knockout_punches\",\"type\":\"js\",\"url\":\"/assetserver/e26f753938579e2287344150f7e368ac4b529445-knockout_punches.js\"}],\"type\":\"async_block\"})).then((imports) => handler.apply(this, imports));\n}\n"
              ],
              "observables": {
               "changes": {
                "id": "32",
                "sync": false,
                "value": 0
               },
               "index": {
                "id": "31",
                "sync": false,
                "value": 127
               }
              },
              "systemjs_options": null
             },
             "nodeType": "Scope",
             "props": {},
             "type": "node"
            }
           ],
           "instanceArgs": {
            "namespace": "html",
            "tag": "div"
           },
           "nodeType": "DOM",
           "props": {
            "className": "field interact-widget"
           },
           "type": "node"
          },
          {
           "children": [
            {
             "children": [
              {
               "children": [
                "Update plot"
               ],
               "instanceArgs": {
                "namespace": "html",
                "tag": "button"
               },
               "nodeType": "DOM",
               "props": {
                "attributes": {
                 "data-bind": "click: function (){this.clicks(this.clicks()+1)}, css: {'is-loading' : loading}"
                },
                "className": "is-medium button is-primary",
                "style": {}
               },
               "type": "node"
              }
             ],
             "instanceArgs": {
              "handlers": {
               "clicks": [
                "(function (val){return (val!=this.model[\"clicks\"]()) ? (this.valueFromJulia[\"clicks\"]=true, this.model[\"clicks\"](val)) : undefined})"
               ],
               "loading": [
                "(function (val){return (val!=this.model[\"loading\"]()) ? (this.valueFromJulia[\"loading\"]=true, this.model[\"loading\"](val)) : undefined})"
               ]
              },
              "id": "11494749977015943086",
              "imports": {
               "data": [
                {
                 "name": "knockout",
                 "type": "js",
                 "url": "/assetserver/d0f67ea5103338bec547a71428bdbf3df4f08059-knockout.js"
                },
                {
                 "name": "knockout_punches",
                 "type": "js",
                 "url": "/assetserver/e26f753938579e2287344150f7e368ac4b529445-knockout_punches.js"
                },
                {
                 "name": null,
                 "type": "js",
                 "url": "/assetserver/f71b84de1a55136a6c3fa3ef48eef72511463954-all.js"
                },
                {
                 "name": null,
                 "type": "css",
                 "url": "/assetserver/dfba341bd7a3bedeba9caeda5288e80d20d1c596-style.css"
                },
                {
                 "name": null,
                 "type": "css",
                 "url": "/assetserver/53e68c0bec04ce908a124e6cd1565929ff6ce3a7-bulma_confined.min.css"
                }
               ],
               "type": "async_block"
              },
              "mount_callbacks": [
               "function () {\n    var handler = (function (ko, koPunches) {\n    ko.punches.enableAll();\n    ko.bindingHandlers.numericValue = {\n        init: function(element, valueAccessor, allBindings, data, context) {\n            var stringified = ko.observable(ko.unwrap(valueAccessor()));\n            stringified.subscribe(function(value) {\n                var val = parseFloat(value);\n                if (!isNaN(val)) {\n                    valueAccessor()(val);\n                }\n            });\n            valueAccessor().subscribe(function(value) {\n                var str = JSON.stringify(value);\n                if ((str == \"0\") && ([\"-0\", \"-0.\"].indexOf(stringified()) >= 0))\n                     return;\n                 if ([\"null\", \"\"].indexOf(str) >= 0)\n                     return;\n                stringified(str);\n            });\n            ko.applyBindingsToNode(\n                element,\n                {\n                    value: stringified,\n                    valueUpdate: allBindings.get('valueUpdate'),\n                },\n                context,\n            );\n        }\n    };\n    var json_data = {\"loading\":WebIO.getval({\"name\":\"loading\",\"scope\":\"11494749977015943086\",\"id\":\"34\",\"type\":\"observable\"}),\"clicks\":WebIO.getval({\"name\":\"clicks\",\"scope\":\"11494749977015943086\",\"id\":\"33\",\"type\":\"observable\"})};\n    var self = this;\n    function AppViewModel() {\n        for (var key in json_data) {\n            var el = json_data[key];\n            this[key] = Array.isArray(el) ? ko.observableArray(el) : ko.observable(el);\n        }\n        \n        \n        [this[\"loading\"].subscribe((function (val){!(this.valueFromJulia[\"loading\"]) ? (WebIO.setval({\"name\":\"loading\",\"scope\":\"11494749977015943086\",\"id\":\"34\",\"type\":\"observable\"},val)) : undefined; return this.valueFromJulia[\"loading\"]=false}),self),this[\"clicks\"].subscribe((function (val){!(this.valueFromJulia[\"clicks\"]) ? (WebIO.setval({\"name\":\"clicks\",\"scope\":\"11494749977015943086\",\"id\":\"33\",\"type\":\"observable\"},val)) : undefined; return this.valueFromJulia[\"clicks\"]=false}),self)]\n        \n    }\n    self.model = new AppViewModel();\n    self.valueFromJulia = {};\n    for (var key in json_data) {\n        self.valueFromJulia[key] = false;\n    }\n    ko.applyBindings(self.model, self.dom);\n}\n);\n    (WebIO.importBlock({\"data\":[{\"name\":\"knockout\",\"type\":\"js\",\"url\":\"/assetserver/d0f67ea5103338bec547a71428bdbf3df4f08059-knockout.js\"},{\"name\":\"knockout_punches\",\"type\":\"js\",\"url\":\"/assetserver/e26f753938579e2287344150f7e368ac4b529445-knockout_punches.js\"}],\"type\":\"async_block\"})).then((imports) => handler.apply(this, imports));\n}\n"
              ],
              "observables": {
               "clicks": {
                "id": "33",
                "sync": true,
                "value": 0
               },
               "loading": {
                "id": "34",
                "sync": false,
                "value": false
               }
              },
              "systemjs_options": null
             },
             "nodeType": "Scope",
             "props": {},
             "type": "node"
            }
           ],
           "instanceArgs": {
            "namespace": "html",
            "tag": "div"
           },
           "nodeType": "DOM",
           "props": {
            "className": "field interact-widget"
           },
           "type": "node"
          }
         ],
         "instanceArgs": {
          "namespace": "html",
          "tag": "div"
         },
         "nodeType": "DOM",
         "props": {
          "style": {
           "display": "flex",
           "flex-direction": "column"
          }
         },
         "type": "node"
        }
       ],
       "instanceArgs": {
        "namespace": "html",
        "tag": "div"
       },
       "nodeType": "DOM",
       "props": {
        "style": {
         "display": "flex",
         "flex-direction": "row"
        }
       },
       "type": "node"
      },
      "text/html": [
       "<div\n",
       "    class=\"webio-mountpoint\"\n",
       "    data-webio-mountpoint=\"12395474947726016825\"\n",
       ">\n",
       "    <script>\n",
       "    (function(){\n",
       "    // Some integrations (namely, IJulia/Jupyter) use an alternate render pathway than\n",
       "    // just putting the html on the page. If WebIO isn't defined, then it's pretty likely\n",
       "    // that we're in one of those situations and the integration just isn't installed\n",
       "    // correctly.\n",
       "    if (typeof window.WebIO === \"undefined\") {\n",
       "        document\n",
       "            .querySelector('[data-webio-mountpoint=\"12395474947726016825\"]')\n",
       "            .innerHTML = (\n",
       "                '<div style=\"padding: 1em; background-color: #f8d6da; border: 1px solid #f5c6cb; font-weight: bold;\">' +\n",
       "                '<p><strong>WebIO not detected.</strong></p>' +\n",
       "                '<p>Please read ' +\n",
       "                '<a href=\"https://juliagizmos.github.io/WebIO.jl/latest/troubleshooting/not-detected/\" target=\"_blank\">the troubleshooting guide</a> ' +\n",
       "                'for more information on how to resolve this issue.</p>' +\n",
       "                '<p><a href=\"https://juliagizmos.github.io/WebIO.jl/latest/troubleshooting/not-detected/\" target=\"_blank\">https://juliagizmos.github.io/WebIO.jl/latest/troubleshooting/not-detected/</a></p>' +\n",
       "                '</div>'\n",
       "            );\n",
       "        return;\n",
       "    }\n",
       "    WebIO.mount(\n",
       "        document.querySelector('[data-webio-mountpoint=\"12395474947726016825\"]'),\n",
       "        {\"props\":{\"style\":{\"display\":\"flex\",\"flex-direction\":\"row\"}},\"nodeType\":\"DOM\",\"type\":\"node\",\"instanceArgs\":{\"namespace\":\"html\",\"tag\":\"div\"},\"children\":[{\"props\":{},\"nodeType\":\"Scope\",\"type\":\"node\",\"instanceArgs\":{\"imports\":{\"data\":[],\"type\":\"async_block\"},\"id\":\"12962624772380893475\",\"handlers\":{\"obs-output\":[\"function (value, scope) {\\n    scope.setInnerHTML(value);\\n}\\n\"]},\"systemjs_options\":null,\"mount_callbacks\":[],\"observables\":{\"obs-output\":{\"sync\":false,\"id\":\"37\",\"value\":\"<?xml version=\\\"1.0\\\" encoding=\\\"utf-8\\\"?>\\n<svg xmlns=\\\"http:\\/\\/www.w3.org\\/2000\\/svg\\\" xmlns:xlink=\\\"http:\\/\\/www.w3.org\\/1999\\/xlink\\\" width=\\\"600\\\" height=\\\"400\\\" viewBox=\\\"0 0 2400 1600\\\">\\n<defs>\\n  <clipPath id=\\\"clip520\\\">\\n    <rect x=\\\"0\\\" y=\\\"0\\\" width=\\\"2400\\\" height=\\\"1600\\\"\\/>\\n  <\\/clipPath>\\n<\\/defs>\\n<path clip-path=\\\"url(#clip520)\\\" d=\\\"M0 1600 L2400 1600 L2400 0 L0 0  Z\\\" fill=\\\"#ffffff\\\" fill-rule=\\\"evenodd\\\" fill-opacity=\\\"1\\\"\\/>\\n<defs>\\n  <clipPath id=\\\"clip521\\\">\\n    <rect x=\\\"480\\\" y=\\\"0\\\" width=\\\"1681\\\" height=\\\"1600\\\"\\/>\\n  <\\/clipPath>\\n<\\/defs>\\n<path clip-path=\\\"url(#clip520)\\\" d=\\\"M193.936 1486.45 L2352.76 1486.45 L2352.76 47.2441 L193.936 47.2441  Z\\\" fill=\\\"#ffffff\\\" fill-rule=\\\"evenodd\\\" fill-opacity=\\\"1\\\"\\/>\\n<defs>\\n  <clipPath id=\\\"clip522\\\">\\n    <rect x=\\\"193\\\" y=\\\"47\\\" width=\\\"2160\\\" height=\\\"1440\\\"\\/>\\n  <\\/clipPath>\\n<\\/defs>\\n<polyline clip-path=\\\"url(#clip522)\\\" style=\\\"stroke:#000000; stroke-linecap:round; stroke-linejoin:round; stroke-width:2; stroke-opacity:0.1; fill:none\\\" points=\\\"458.697,1486.45 458.697,47.2441 \\\"\\/>\\n<polyline clip-path=\\\"url(#clip522)\\\" style=\\\"stroke:#000000; stroke-linecap:round; stroke-linejoin:round; stroke-width:2; stroke-opacity:0.1; fill:none\\\" points=\\\"866.021,1486.45 866.021,47.2441 \\\"\\/>\\n<polyline clip-path=\\\"url(#clip522)\\\" style=\\\"stroke:#000000; stroke-linecap:round; stroke-linejoin:round; stroke-width:2; stroke-opacity:0.1; fill:none\\\" points=\\\"1273.35,1486.45 1273.35,47.2441 \\\"\\/>\\n<polyline clip-path=\\\"url(#clip522)\\\" style=\\\"stroke:#000000; stroke-linecap:round; stroke-linejoin:round; stroke-width:2; stroke-opacity:0.1; fill:none\\\" points=\\\"1680.67,1486.45 1680.67,47.2441 \\\"\\/>\\n<polyline clip-path=\\\"url(#clip522)\\\" style=\\\"stroke:#000000; stroke-linecap:round; stroke-linejoin:round; stroke-width:2; stroke-opacity:0.1; fill:none\\\" points=\\\"2087.99,1486.45 2087.99,47.2441 \\\"\\/>\\n<polyline clip-path=\\\"url(#clip520)\\\" style=\\\"stroke:#000000; stroke-linecap:round; stroke-linejoin:round; stroke-width:4; stroke-opacity:1; fill:none\\\" points=\\\"193.936,1486.45 2352.76,1486.45 \\\"\\/>\\n<polyline clip-path=\\\"url(#clip520)\\\" style=\\\"stroke:#000000; stroke-linecap:round; stroke-linejoin:round; stroke-width:4; stroke-opacity:1; fill:none\\\" points=\\\"458.697,1486.45 458.697,1467.55 \\\"\\/>\\n<polyline clip-path=\\\"url(#clip520)\\\" style=\\\"stroke:#000000; stroke-linecap:round; stroke-linejoin:round; stroke-width:4; stroke-opacity:1; fill:none\\\" points=\\\"866.021,1486.45 866.021,1467.55 \\\"\\/>\\n<polyline clip-path=\\\"url(#clip520)\\\" style=\\\"stroke:#000000; stroke-linecap:round; stroke-linejoin:round; stroke-width:4; stroke-opacity:1; fill:none\\\" points=\\\"1273.35,1486.45 1273.35,1467.55 \\\"\\/>\\n<polyline clip-path=\\\"url(#clip520)\\\" style=\\\"stroke:#000000; stroke-linecap:round; stroke-linejoin:round; stroke-width:4; stroke-opacity:1; fill:none\\\" points=\\\"1680.67,1486.45 1680.67,1467.55 \\\"\\/>\\n<polyline clip-path=\\\"url(#clip520)\\\" style=\\\"stroke:#000000; stroke-linecap:round; stroke-linejoin:round; stroke-width:4; stroke-opacity:1; fill:none\\\" points=\\\"2087.99,1486.45 2087.99,1467.55 \\\"\\/>\\n<path clip-path=\\\"url(#clip520)\\\" d=\\\"M427.598 1532.02 L457.273 1532.02 L457.273 1535.95 L427.598 1535.95 L427.598 1532.02 Z\\\" fill=\\\"#000000\\\" fill-rule=\\\"nonzero\\\" fill-opacity=\\\"1\\\" \\/><path clip-path=\\\"url(#clip520)\\\" d=\\\"M480.213 1518.36 L468.408 1536.81 L480.213 1536.81 L480.213 1518.36 M478.986 1514.29 L484.866 1514.29 L484.866 1536.81 L489.796 1536.81 L489.796 1540.7 L484.866 1540.7 L484.866 1548.85 L480.213 1548.85 L480.213 1540.7 L464.611 1540.7 L464.611 1536.19 L478.986 1514.29 Z\\\" fill=\\\"#000000\\\" fill-rule=\\\"nonzero\\\" fill-opacity=\\\"1\\\" \\/><path clip-path=\\\"url(#clip520)\\\" d=\\\"M835.964 1532.02 L865.639 1532.02 L865.639 1535.95 L835.964 1535.95 L835.964 1532.02 Z\\\" fill=\\\"#000000\\\" fill-rule=\\\"nonzero\\\" fill-opacity=\\\"1\\\" \\/><path clip-path=\\\"url(#clip520)\\\" d=\\\"M879.76 1544.91 L896.079 1544.91 L896.079 1548.85 L874.135 1548.85 L874.135 1544.91 Q876.797 1542.16 881.38 1537.53 Q885.987 1532.88 887.167 1531.53 Q889.413 1529.01 890.292 1527.27 Q891.195 1525.51 891.195 1523.82 Q891.195 1521.07 889.25 1519.33 Q887.329 1517.6 884.227 1517.6 Q882.028 1517.6 879.575 1518.36 Q877.144 1519.13 874.366 1520.68 L874.366 1515.95 Q877.19 1514.82 879.644 1514.24 Q882.098 1513.66 884.135 1513.66 Q889.505 1513.66 892.7 1516.35 Q895.894 1519.03 895.894 1523.52 Q895.894 1525.65 895.084 1527.57 Q894.297 1529.47 892.19 1532.07 Q891.612 1532.74 888.51 1535.95 Q885.408 1539.15 879.76 1544.91 Z\\\" fill=\\\"#000000\\\" fill-rule=\\\"nonzero\\\" fill-opacity=\\\"1\\\" \\/><path clip-path=\\\"url(#clip520)\\\" d=\\\"M1273.35 1517.37 Q1269.73 1517.37 1267.91 1520.93 Q1266.1 1524.47 1266.1 1531.6 Q1266.1 1538.71 1267.91 1542.27 Q1269.73 1545.82 1273.35 1545.82 Q1276.98 1545.82 1278.79 1542.27 Q1280.61 1538.71 1280.61 1531.6 Q1280.61 1524.47 1278.79 1520.93 Q1276.98 1517.37 1273.35 1517.37 M1273.35 1513.66 Q1279.16 1513.66 1282.21 1518.27 Q1285.29 1522.85 1285.29 1531.6 Q1285.29 1540.33 1282.21 1544.94 Q1279.16 1549.52 1273.35 1549.52 Q1267.54 1549.52 1264.46 1544.94 Q1261.4 1540.33 1261.4 1531.6 Q1261.4 1522.85 1264.46 1518.27 Q1267.54 1513.66 1273.35 1513.66 Z\\\" fill=\\\"#000000\\\" fill-rule=\\\"nonzero\\\" fill-opacity=\\\"1\\\" \\/><path clip-path=\\\"url(#clip520)\\\" d=\\\"M1675.32 1544.91 L1691.64 1544.91 L1691.64 1548.85 L1669.7 1548.85 L1669.7 1544.91 Q1672.36 1542.16 1676.94 1537.53 Q1681.55 1532.88 1682.73 1531.53 Q1684.98 1529.01 1685.86 1527.27 Q1686.76 1525.51 1686.76 1523.82 Q1686.76 1521.07 1684.81 1519.33 Q1682.89 1517.6 1679.79 1517.6 Q1677.59 1517.6 1675.14 1518.36 Q1672.71 1519.13 1669.93 1520.68 L1669.93 1515.95 Q1672.75 1514.82 1675.21 1514.24 Q1677.66 1513.66 1679.7 1513.66 Q1685.07 1513.66 1688.26 1516.35 Q1691.46 1519.03 1691.46 1523.52 Q1691.46 1525.65 1690.65 1527.57 Q1689.86 1529.47 1687.75 1532.07 Q1687.18 1532.74 1684.07 1535.95 Q1680.97 1539.15 1675.32 1544.91 Z\\\" fill=\\\"#000000\\\" fill-rule=\\\"nonzero\\\" fill-opacity=\\\"1\\\" \\/><path clip-path=\\\"url(#clip520)\\\" d=\\\"M2091 1518.36 L2079.2 1536.81 L2091 1536.81 L2091 1518.36 M2089.78 1514.29 L2095.66 1514.29 L2095.66 1536.81 L2100.59 1536.81 L2100.59 1540.7 L2095.66 1540.7 L2095.66 1548.85 L2091 1548.85 L2091 1540.7 L2075.4 1540.7 L2075.4 1536.19 L2089.78 1514.29 Z\\\" fill=\\\"#000000\\\" fill-rule=\\\"nonzero\\\" fill-opacity=\\\"1\\\" \\/><polyline clip-path=\\\"url(#clip522)\\\" style=\\\"stroke:#000000; stroke-linecap:round; stroke-linejoin:round; stroke-width:2; stroke-opacity:0.1; fill:none\\\" points=\\\"193.936,1445.74 2352.76,1445.74 \\\"\\/>\\n<polyline clip-path=\\\"url(#clip522)\\\" style=\\\"stroke:#000000; stroke-linecap:round; stroke-linejoin:round; stroke-width:2; stroke-opacity:0.1; fill:none\\\" points=\\\"193.936,1106.3 2352.76,1106.3 \\\"\\/>\\n<polyline clip-path=\\\"url(#clip522)\\\" style=\\\"stroke:#000000; stroke-linecap:round; stroke-linejoin:round; stroke-width:2; stroke-opacity:0.1; fill:none\\\" points=\\\"193.936,766.858 2352.76,766.858 \\\"\\/>\\n<polyline clip-path=\\\"url(#clip522)\\\" style=\\\"stroke:#000000; stroke-linecap:round; stroke-linejoin:round; stroke-width:2; stroke-opacity:0.1; fill:none\\\" points=\\\"193.936,427.415 2352.76,427.415 \\\"\\/>\\n<polyline clip-path=\\\"url(#clip522)\\\" style=\\\"stroke:#000000; stroke-linecap:round; stroke-linejoin:round; stroke-width:2; stroke-opacity:0.1; fill:none\\\" points=\\\"193.936,87.9727 2352.76,87.9727 \\\"\\/>\\n<polyline clip-path=\\\"url(#clip520)\\\" style=\\\"stroke:#000000; stroke-linecap:round; stroke-linejoin:round; stroke-width:4; stroke-opacity:1; fill:none\\\" points=\\\"193.936,1486.45 193.936,47.2441 \\\"\\/>\\n<polyline clip-path=\\\"url(#clip520)\\\" style=\\\"stroke:#000000; stroke-linecap:round; stroke-linejoin:round; stroke-width:4; stroke-opacity:1; fill:none\\\" points=\\\"193.936,1445.74 212.834,1445.74 \\\"\\/>\\n<polyline clip-path=\\\"url(#clip520)\\\" style=\\\"stroke:#000000; stroke-linecap:round; stroke-linejoin:round; stroke-width:4; stroke-opacity:1; fill:none\\\" points=\\\"193.936,1106.3 212.834,1106.3 \\\"\\/>\\n<polyline clip-path=\\\"url(#clip520)\\\" style=\\\"stroke:#000000; stroke-linecap:round; stroke-linejoin:round; stroke-width:4; stroke-opacity:1; fill:none\\\" points=\\\"193.936,766.858 212.834,766.858 \\\"\\/>\\n<polyline clip-path=\\\"url(#clip520)\\\" style=\\\"stroke:#000000; stroke-linecap:round; stroke-linejoin:round; stroke-width:4; stroke-opacity:1; fill:none\\\" points=\\\"193.936,427.415 212.834,427.415 \\\"\\/>\\n<polyline clip-path=\\\"url(#clip520)\\\" style=\\\"stroke:#000000; stroke-linecap:round; stroke-linejoin:round; stroke-width:4; stroke-opacity:1; fill:none\\\" points=\\\"193.936,87.9727 212.834,87.9727 \\\"\\/>\\n<path clip-path=\\\"url(#clip520)\\\" d=\\\"M50.9921 1446.19 L80.6679 1446.19 L80.6679 1450.13 L50.9921 1450.13 L50.9921 1446.19 Z\\\" fill=\\\"#000000\\\" fill-rule=\\\"nonzero\\\" fill-opacity=\\\"1\\\" \\/><path clip-path=\\\"url(#clip520)\\\" d=\\\"M91.5706 1459.09 L99.2095 1459.09 L99.2095 1432.72 L90.8993 1434.39 L90.8993 1430.13 L99.1632 1428.46 L103.839 1428.46 L103.839 1459.09 L111.478 1459.09 L111.478 1463.02 L91.5706 1463.02 L91.5706 1459.09 Z\\\" fill=\\\"#000000\\\" fill-rule=\\\"nonzero\\\" fill-opacity=\\\"1\\\" \\/><path clip-path=\\\"url(#clip520)\\\" d=\\\"M120.922 1457.14 L125.807 1457.14 L125.807 1463.02 L120.922 1463.02 L120.922 1457.14 Z\\\" fill=\\\"#000000\\\" fill-rule=\\\"nonzero\\\" fill-opacity=\\\"1\\\" \\/><path clip-path=\\\"url(#clip520)\\\" d=\\\"M145.992 1431.54 Q142.381 1431.54 140.552 1435.11 Q138.746 1438.65 138.746 1445.78 Q138.746 1452.88 140.552 1456.45 Q142.381 1459.99 145.992 1459.99 Q149.626 1459.99 151.431 1456.45 Q153.26 1452.88 153.26 1445.78 Q153.26 1438.65 151.431 1435.11 Q149.626 1431.54 145.992 1431.54 M145.992 1427.84 Q151.802 1427.84 154.857 1432.44 Q157.936 1437.03 157.936 1445.78 Q157.936 1454.5 154.857 1459.11 Q151.802 1463.69 145.992 1463.69 Q140.181 1463.69 137.103 1459.11 Q134.047 1454.5 134.047 1445.78 Q134.047 1437.03 137.103 1432.44 Q140.181 1427.84 145.992 1427.84 Z\\\" fill=\\\"#000000\\\" fill-rule=\\\"nonzero\\\" fill-opacity=\\\"1\\\" \\/><path clip-path=\\\"url(#clip520)\\\" d=\\\"M51.9875 1106.75 L81.6633 1106.75 L81.6633 1110.69 L51.9875 1110.69 L51.9875 1106.75 Z\\\" fill=\\\"#000000\\\" fill-rule=\\\"nonzero\\\" fill-opacity=\\\"1\\\" \\/><path clip-path=\\\"url(#clip520)\\\" d=\\\"M101.756 1092.1 Q98.1447 1092.1 96.316 1095.66 Q94.5104 1099.21 94.5104 1106.33 Q94.5104 1113.44 96.316 1117.01 Q98.1447 1120.55 101.756 1120.55 Q105.39 1120.55 107.196 1117.01 Q109.024 1113.44 109.024 1106.33 Q109.024 1099.21 107.196 1095.66 Q105.39 1092.1 101.756 1092.1 M101.756 1088.4 Q107.566 1088.4 110.621 1093 Q113.7 1097.58 113.7 1106.33 Q113.7 1115.06 110.621 1119.67 Q107.566 1124.25 101.756 1124.25 Q95.9456 1124.25 92.8669 1119.67 Q89.8114 1115.06 89.8114 1106.33 Q89.8114 1097.58 92.8669 1093 Q95.9456 1088.4 101.756 1088.4 Z\\\" fill=\\\"#000000\\\" fill-rule=\\\"nonzero\\\" fill-opacity=\\\"1\\\" \\/><path clip-path=\\\"url(#clip520)\\\" d=\\\"M121.918 1117.7 L126.802 1117.7 L126.802 1123.58 L121.918 1123.58 L121.918 1117.7 Z\\\" fill=\\\"#000000\\\" fill-rule=\\\"nonzero\\\" fill-opacity=\\\"1\\\" \\/><path clip-path=\\\"url(#clip520)\\\" d=\\\"M137.033 1089.02 L155.39 1089.02 L155.39 1092.96 L141.316 1092.96 L141.316 1101.43 Q142.334 1101.08 143.353 1100.92 Q144.371 1100.73 145.39 1100.73 Q151.177 1100.73 154.556 1103.9 Q157.936 1107.08 157.936 1112.49 Q157.936 1118.07 154.464 1121.17 Q150.992 1124.25 144.672 1124.25 Q142.496 1124.25 140.228 1123.88 Q137.982 1123.51 135.575 1122.77 L135.575 1118.07 Q137.658 1119.21 139.881 1119.76 Q142.103 1120.32 144.58 1120.32 Q148.584 1120.32 150.922 1118.21 Q153.26 1116.1 153.26 1112.49 Q153.26 1108.88 150.922 1106.77 Q148.584 1104.67 144.58 1104.67 Q142.705 1104.67 140.83 1105.08 Q138.978 1105.5 137.033 1106.38 L137.033 1089.02 Z\\\" fill=\\\"#000000\\\" fill-rule=\\\"nonzero\\\" fill-opacity=\\\"1\\\" \\/><path clip-path=\\\"url(#clip520)\\\" d=\\\"M100.76 752.656 Q97.1493 752.656 95.3206 756.221 Q93.515 759.763 93.515 766.892 Q93.515 773.999 95.3206 777.564 Q97.1493 781.105 100.76 781.105 Q104.395 781.105 106.2 777.564 Q108.029 773.999 108.029 766.892 Q108.029 759.763 106.2 756.221 Q104.395 752.656 100.76 752.656 M100.76 748.953 Q106.571 748.953 109.626 753.559 Q112.705 758.142 112.705 766.892 Q112.705 775.619 109.626 780.226 Q106.571 784.809 100.76 784.809 Q94.9502 784.809 91.8715 780.226 Q88.816 775.619 88.816 766.892 Q88.816 758.142 91.8715 753.559 Q94.9502 748.953 100.76 748.953 Z\\\" fill=\\\"#000000\\\" fill-rule=\\\"nonzero\\\" fill-opacity=\\\"1\\\" \\/><path clip-path=\\\"url(#clip520)\\\" d=\\\"M120.922 778.258 L125.807 778.258 L125.807 784.138 L120.922 784.138 L120.922 778.258 Z\\\" fill=\\\"#000000\\\" fill-rule=\\\"nonzero\\\" fill-opacity=\\\"1\\\" \\/><path clip-path=\\\"url(#clip520)\\\" d=\\\"M145.992 752.656 Q142.381 752.656 140.552 756.221 Q138.746 759.763 138.746 766.892 Q138.746 773.999 140.552 777.564 Q142.381 781.105 145.992 781.105 Q149.626 781.105 151.431 777.564 Q153.26 773.999 153.26 766.892 Q153.26 759.763 151.431 756.221 Q149.626 752.656 145.992 752.656 M145.992 748.953 Q151.802 748.953 154.857 753.559 Q157.936 758.142 157.936 766.892 Q157.936 775.619 154.857 780.226 Q151.802 784.809 145.992 784.809 Q140.181 784.809 137.103 780.226 Q134.047 775.619 134.047 766.892 Q134.047 758.142 137.103 753.559 Q140.181 748.953 145.992 748.953 Z\\\" fill=\\\"#000000\\\" fill-rule=\\\"nonzero\\\" fill-opacity=\\\"1\\\" \\/><path clip-path=\\\"url(#clip520)\\\" d=\\\"M101.756 413.214 Q98.1447 413.214 96.316 416.779 Q94.5104 420.32 94.5104 427.45 Q94.5104 434.556 96.316 438.121 Q98.1447 441.663 101.756 441.663 Q105.39 441.663 107.196 438.121 Q109.024 434.556 109.024 427.45 Q109.024 420.32 107.196 416.779 Q105.39 413.214 101.756 413.214 M101.756 409.51 Q107.566 409.51 110.621 414.117 Q113.7 418.7 113.7 427.45 Q113.7 436.177 110.621 440.783 Q107.566 445.366 101.756 445.366 Q95.9456 445.366 92.8669 440.783 Q89.8114 436.177 89.8114 427.45 Q89.8114 418.7 92.8669 414.117 Q95.9456 409.51 101.756 409.51 Z\\\" fill=\\\"#000000\\\" fill-rule=\\\"nonzero\\\" fill-opacity=\\\"1\\\" \\/><path clip-path=\\\"url(#clip520)\\\" d=\\\"M121.918 438.816 L126.802 438.816 L126.802 444.695 L121.918 444.695 L121.918 438.816 Z\\\" fill=\\\"#000000\\\" fill-rule=\\\"nonzero\\\" fill-opacity=\\\"1\\\" \\/><path clip-path=\\\"url(#clip520)\\\" d=\\\"M137.033 410.135 L155.39 410.135 L155.39 414.07 L141.316 414.07 L141.316 422.543 Q142.334 422.195 143.353 422.033 Q144.371 421.848 145.39 421.848 Q151.177 421.848 154.556 425.019 Q157.936 428.191 157.936 433.607 Q157.936 439.186 154.464 442.288 Q150.992 445.366 144.672 445.366 Q142.496 445.366 140.228 444.996 Q137.982 444.626 135.575 443.885 L135.575 439.186 Q137.658 440.32 139.881 440.876 Q142.103 441.431 144.58 441.431 Q148.584 441.431 150.922 439.325 Q153.26 437.218 153.26 433.607 Q153.26 429.996 150.922 427.89 Q148.584 425.783 144.58 425.783 Q142.705 425.783 140.83 426.2 Q138.978 426.617 137.033 427.496 L137.033 410.135 Z\\\" fill=\\\"#000000\\\" fill-rule=\\\"nonzero\\\" fill-opacity=\\\"1\\\" \\/><path clip-path=\\\"url(#clip520)\\\" d=\\\"M91.5706 101.318 L99.2095 101.318 L99.2095 74.9519 L90.8993 76.6186 L90.8993 72.3594 L99.1632 70.6927 L103.839 70.6927 L103.839 101.318 L111.478 101.318 L111.478 105.253 L91.5706 105.253 L91.5706 101.318 Z\\\" fill=\\\"#000000\\\" fill-rule=\\\"nonzero\\\" fill-opacity=\\\"1\\\" \\/><path clip-path=\\\"url(#clip520)\\\" d=\\\"M120.922 99.3731 L125.807 99.3731 L125.807 105.253 L120.922 105.253 L120.922 99.3731 Z\\\" fill=\\\"#000000\\\" fill-rule=\\\"nonzero\\\" fill-opacity=\\\"1\\\" \\/><path clip-path=\\\"url(#clip520)\\\" d=\\\"M145.992 73.7714 Q142.381 73.7714 140.552 77.3362 Q138.746 80.8778 138.746 88.0074 Q138.746 95.1139 140.552 98.6787 Q142.381 102.22 145.992 102.22 Q149.626 102.22 151.431 98.6787 Q153.26 95.1139 153.26 88.0074 Q153.26 80.8778 151.431 77.3362 Q149.626 73.7714 145.992 73.7714 M145.992 70.0677 Q151.802 70.0677 154.857 74.6742 Q157.936 79.2575 157.936 88.0074 Q157.936 96.7342 154.857 101.341 Q151.802 105.924 145.992 105.924 Q140.181 105.924 137.103 101.341 Q134.047 96.7342 134.047 88.0074 Q134.047 79.2575 137.103 74.6742 Q140.181 70.0677 145.992 70.0677 Z\\\" fill=\\\"#000000\\\" fill-rule=\\\"nonzero\\\" fill-opacity=\\\"1\\\" \\/><polyline clip-path=\\\"url(#clip522)\\\" style=\\\"stroke:#7f7f7f; stroke-linecap:round; stroke-linejoin:round; stroke-width:4; stroke-opacity:1; fill:none\\\" points=\\\"255.035,115.858 258.35,112.81 261.664,109.936 264.979,107.235 268.294,104.709 283.62,95.32 298.945,89.732 306.608,88.3739 314.27,87.9763 321.933,88.5395 329.596,90.0629 337.259,92.5443 344.921,95.98 352.584,100.365 360.247,105.694 375.572,119.15 390.898,136.272 400.108,148.286 409.318,161.564 418.527,176.08 427.737,191.804 436.947,208.704 446.157,226.745 455.367,245.89 464.577,266.1 480.151,302.583 495.725,341.778 511.299,383.458 526.872,427.379 543.79,477.329 560.707,529.276 577.625,582.861 594.542,637.715 625.735,740.907 656.928,844.707 673.649,899.753 690.37,953.903 707.091,1006.79 723.812,1058.07 743.185,1115 762.558,1168.78 772.245,1194.34 781.931,1218.93 791.617,1242.5 801.304,1264.99 809.912,1284.03 818.52,1302.15 827.129,1319.32 835.737,1335.5 844.345,1350.66 852.953,1364.78 861.561,1377.83 870.17,1389.79 885.267,1408.07 900.364,1422.82 915.461,1433.98 930.558,1441.46 938.788,1443.99 947.018,1445.41 955.248,1445.72 963.478,1444.92 971.708,1443.01 979.938,1440 988.168,1435.89 996.398,1430.69 1004.68,1424.37 1012.96,1416.95 1021.24,1408.47 1029.51,1398.92 1046.07,1376.72 1062.63,1350.48 1071.78,1334.31 1080.94,1316.99 1090.09,1298.56 1099.24,1279.06 1108.4,1258.53 1117.55,1237 1126.7,1214.52 1135.86,1191.13 1153.28,1144.31 1170.69,1094.73 1188.11,1042.75 1205.53,988.757 1241.75,871.746 1277.98,751.426 1308.47,650.364 1338.96,551.908 1357.57,494.034 1376.19,438.437 1394.8,385.581 1413.41,335.908 1421.94,314.333 1430.46,293.551 1438.99,273.598 1447.51,254.51 1464.57,219.058 1481.62,187.444 1489.49,174.202 1497.36,161.846 1505.24,150.394 1513.11,139.864 1520.99,130.271 1528.86,121.629 1536.73,113.952 1544.61,107.25 1552.58,101.467 1560.56,96.7035 1568.54,92.9682 1576.51,90.2663 1584.49,88.602 1592.46,87.9779 1600.44,88.3948 1608.42,89.8523 1617.36,92.7193 1626.29,96.8847 1635.23,102.341 1644.17,109.076 1653.11,117.079 1662.05,126.334 1670.99,136.822 1679.93,148.523 1696.13,172.748 1712.33,200.731 1720.43,216.076 1728.53,232.293 1736.63,249.355 1744.73,267.236 1754,288.677 1763.28,311.109 1772.55,334.486 1781.83,358.76 1800.37,409.793 1818.92,463.785 1836.1,516.028 1853.27,570.053 1870.44,625.476 1887.62,681.905 1921.48,794.552 1955.34,906.436 1971.78,959.55 1988.22,1011.41 2004.66,1061.68 2021.1,1110.02 2037.95,1157.26 2054.8,1201.83 2071.66,1243.43 2088.51,1281.76 2097.74,1301.28 2106.97,1319.7 2116.2,1336.99 2125.44,1353.1 2134.67,1368.01 2143.9,1381.69 2153.13,1394.1 2162.36,1405.22 2175.77,1419.04 2189.18,1430.03 2202.59,1438.15 2216,1443.36 2229.42,1445.63 2242.83,1444.97 2256.24,1441.36 2269.65,1434.83 2275.15,1431.31 2280.65,1427.31 2286.15,1422.82 2291.66,1417.86 \\\"\\/>\\n<path clip-path=\\\"url(#clip520)\\\" d=\\\"M2012.48 198.898 L2280.8 198.898 L2280.8 95.2176 L2012.48 95.2176  Z\\\" fill=\\\"#ffffff\\\" fill-rule=\\\"evenodd\\\" fill-opacity=\\\"1\\\"\\/>\\n<polyline clip-path=\\\"url(#clip520)\\\" style=\\\"stroke:#000000; stroke-linecap:round; stroke-linejoin:round; stroke-width:4; stroke-opacity:1; fill:none\\\" points=\\\"2012.48,198.898 2280.8,198.898 2280.8,95.2176 2012.48,95.2176 2012.48,198.898 \\\"\\/>\\n<polyline clip-path=\\\"url(#clip520)\\\" style=\\\"stroke:#7f7f7f; stroke-linecap:round; stroke-linejoin:round; stroke-width:4; stroke-opacity:1; fill:none\\\" points=\\\"2036.47,147.058 2180.39,147.058 \\\"\\/>\\n<path clip-path=\\\"url(#clip520)\\\" d=\\\"M2218.22 166.745 Q2216.42 171.375 2214.7 172.787 Q2212.99 174.199 2210.12 174.199 L2206.72 174.199 L2206.72 170.634 L2209.22 170.634 Q2210.98 170.634 2211.95 169.8 Q2212.92 168.967 2214.1 165.865 L2214.86 163.921 L2204.38 138.412 L2208.89 138.412 L2216.99 158.689 L2225.1 138.412 L2229.61 138.412 L2218.22 166.745 Z\\\" fill=\\\"#000000\\\" fill-rule=\\\"nonzero\\\" fill-opacity=\\\"1\\\" \\/><path clip-path=\\\"url(#clip520)\\\" d=\\\"M2236.9 160.402 L2244.54 160.402 L2244.54 134.037 L2236.23 135.703 L2236.23 131.444 L2244.49 129.778 L2249.17 129.778 L2249.17 160.402 L2256.81 160.402 L2256.81 164.338 L2236.9 164.338 L2236.9 160.402 Z\\\" fill=\\\"#000000\\\" fill-rule=\\\"nonzero\\\" fill-opacity=\\\"1\\\" \\/><\\/svg>\\n\"}}},\"children\":[{\"props\":{\"className\":\"webio-observable\",\"setInnerHtml\":\"<?xml version=\\\"1.0\\\" encoding=\\\"utf-8\\\"?>\\n<svg xmlns=\\\"http:\\/\\/www.w3.org\\/2000\\/svg\\\" xmlns:xlink=\\\"http:\\/\\/www.w3.org\\/1999\\/xlink\\\" width=\\\"600\\\" height=\\\"400\\\" viewBox=\\\"0 0 2400 1600\\\">\\n<defs>\\n  <clipPath id=\\\"clip520\\\">\\n    <rect x=\\\"0\\\" y=\\\"0\\\" width=\\\"2400\\\" height=\\\"1600\\\"\\/>\\n  <\\/clipPath>\\n<\\/defs>\\n<path clip-path=\\\"url(#clip520)\\\" d=\\\"M0 1600 L2400 1600 L2400 0 L0 0  Z\\\" fill=\\\"#ffffff\\\" fill-rule=\\\"evenodd\\\" fill-opacity=\\\"1\\\"\\/>\\n<defs>\\n  <clipPath id=\\\"clip521\\\">\\n    <rect x=\\\"480\\\" y=\\\"0\\\" width=\\\"1681\\\" height=\\\"1600\\\"\\/>\\n  <\\/clipPath>\\n<\\/defs>\\n<path clip-path=\\\"url(#clip520)\\\" d=\\\"M193.936 1486.45 L2352.76 1486.45 L2352.76 47.2441 L193.936 47.2441  Z\\\" fill=\\\"#ffffff\\\" fill-rule=\\\"evenodd\\\" fill-opacity=\\\"1\\\"\\/>\\n<defs>\\n  <clipPath id=\\\"clip522\\\">\\n    <rect x=\\\"193\\\" y=\\\"47\\\" width=\\\"2160\\\" height=\\\"1440\\\"\\/>\\n  <\\/clipPath>\\n<\\/defs>\\n<polyline clip-path=\\\"url(#clip522)\\\" style=\\\"stroke:#000000; stroke-linecap:round; stroke-linejoin:round; stroke-width:2; stroke-opacity:0.1; fill:none\\\" points=\\\"458.697,1486.45 458.697,47.2441 \\\"\\/>\\n<polyline clip-path=\\\"url(#clip522)\\\" style=\\\"stroke:#000000; stroke-linecap:round; stroke-linejoin:round; stroke-width:2; stroke-opacity:0.1; fill:none\\\" points=\\\"866.021,1486.45 866.021,47.2441 \\\"\\/>\\n<polyline clip-path=\\\"url(#clip522)\\\" style=\\\"stroke:#000000; stroke-linecap:round; stroke-linejoin:round; stroke-width:2; stroke-opacity:0.1; fill:none\\\" points=\\\"1273.35,1486.45 1273.35,47.2441 \\\"\\/>\\n<polyline clip-path=\\\"url(#clip522)\\\" style=\\\"stroke:#000000; stroke-linecap:round; stroke-linejoin:round; stroke-width:2; stroke-opacity:0.1; fill:none\\\" points=\\\"1680.67,1486.45 1680.67,47.2441 \\\"\\/>\\n<polyline clip-path=\\\"url(#clip522)\\\" style=\\\"stroke:#000000; stroke-linecap:round; stroke-linejoin:round; stroke-width:2; stroke-opacity:0.1; fill:none\\\" points=\\\"2087.99,1486.45 2087.99,47.2441 \\\"\\/>\\n<polyline clip-path=\\\"url(#clip520)\\\" style=\\\"stroke:#000000; stroke-linecap:round; stroke-linejoin:round; stroke-width:4; stroke-opacity:1; fill:none\\\" points=\\\"193.936,1486.45 2352.76,1486.45 \\\"\\/>\\n<polyline clip-path=\\\"url(#clip520)\\\" style=\\\"stroke:#000000; stroke-linecap:round; stroke-linejoin:round; stroke-width:4; stroke-opacity:1; fill:none\\\" points=\\\"458.697,1486.45 458.697,1467.55 \\\"\\/>\\n<polyline clip-path=\\\"url(#clip520)\\\" style=\\\"stroke:#000000; stroke-linecap:round; stroke-linejoin:round; stroke-width:4; stroke-opacity:1; fill:none\\\" points=\\\"866.021,1486.45 866.021,1467.55 \\\"\\/>\\n<polyline clip-path=\\\"url(#clip520)\\\" style=\\\"stroke:#000000; stroke-linecap:round; stroke-linejoin:round; stroke-width:4; stroke-opacity:1; fill:none\\\" points=\\\"1273.35,1486.45 1273.35,1467.55 \\\"\\/>\\n<polyline clip-path=\\\"url(#clip520)\\\" style=\\\"stroke:#000000; stroke-linecap:round; stroke-linejoin:round; stroke-width:4; stroke-opacity:1; fill:none\\\" points=\\\"1680.67,1486.45 1680.67,1467.55 \\\"\\/>\\n<polyline clip-path=\\\"url(#clip520)\\\" style=\\\"stroke:#000000; stroke-linecap:round; stroke-linejoin:round; stroke-width:4; stroke-opacity:1; fill:none\\\" points=\\\"2087.99,1486.45 2087.99,1467.55 \\\"\\/>\\n<path clip-path=\\\"url(#clip520)\\\" d=\\\"M427.598 1532.02 L457.273 1532.02 L457.273 1535.95 L427.598 1535.95 L427.598 1532.02 Z\\\" fill=\\\"#000000\\\" fill-rule=\\\"nonzero\\\" fill-opacity=\\\"1\\\" \\/><path clip-path=\\\"url(#clip520)\\\" d=\\\"M480.213 1518.36 L468.408 1536.81 L480.213 1536.81 L480.213 1518.36 M478.986 1514.29 L484.866 1514.29 L484.866 1536.81 L489.796 1536.81 L489.796 1540.7 L484.866 1540.7 L484.866 1548.85 L480.213 1548.85 L480.213 1540.7 L464.611 1540.7 L464.611 1536.19 L478.986 1514.29 Z\\\" fill=\\\"#000000\\\" fill-rule=\\\"nonzero\\\" fill-opacity=\\\"1\\\" \\/><path clip-path=\\\"url(#clip520)\\\" d=\\\"M835.964 1532.02 L865.639 1532.02 L865.639 1535.95 L835.964 1535.95 L835.964 1532.02 Z\\\" fill=\\\"#000000\\\" fill-rule=\\\"nonzero\\\" fill-opacity=\\\"1\\\" \\/><path clip-path=\\\"url(#clip520)\\\" d=\\\"M879.76 1544.91 L896.079 1544.91 L896.079 1548.85 L874.135 1548.85 L874.135 1544.91 Q876.797 1542.16 881.38 1537.53 Q885.987 1532.88 887.167 1531.53 Q889.413 1529.01 890.292 1527.27 Q891.195 1525.51 891.195 1523.82 Q891.195 1521.07 889.25 1519.33 Q887.329 1517.6 884.227 1517.6 Q882.028 1517.6 879.575 1518.36 Q877.144 1519.13 874.366 1520.68 L874.366 1515.95 Q877.19 1514.82 879.644 1514.24 Q882.098 1513.66 884.135 1513.66 Q889.505 1513.66 892.7 1516.35 Q895.894 1519.03 895.894 1523.52 Q895.894 1525.65 895.084 1527.57 Q894.297 1529.47 892.19 1532.07 Q891.612 1532.74 888.51 1535.95 Q885.408 1539.15 879.76 1544.91 Z\\\" fill=\\\"#000000\\\" fill-rule=\\\"nonzero\\\" fill-opacity=\\\"1\\\" \\/><path clip-path=\\\"url(#clip520)\\\" d=\\\"M1273.35 1517.37 Q1269.73 1517.37 1267.91 1520.93 Q1266.1 1524.47 1266.1 1531.6 Q1266.1 1538.71 1267.91 1542.27 Q1269.73 1545.82 1273.35 1545.82 Q1276.98 1545.82 1278.79 1542.27 Q1280.61 1538.71 1280.61 1531.6 Q1280.61 1524.47 1278.79 1520.93 Q1276.98 1517.37 1273.35 1517.37 M1273.35 1513.66 Q1279.16 1513.66 1282.21 1518.27 Q1285.29 1522.85 1285.29 1531.6 Q1285.29 1540.33 1282.21 1544.94 Q1279.16 1549.52 1273.35 1549.52 Q1267.54 1549.52 1264.46 1544.94 Q1261.4 1540.33 1261.4 1531.6 Q1261.4 1522.85 1264.46 1518.27 Q1267.54 1513.66 1273.35 1513.66 Z\\\" fill=\\\"#000000\\\" fill-rule=\\\"nonzero\\\" fill-opacity=\\\"1\\\" \\/><path clip-path=\\\"url(#clip520)\\\" d=\\\"M1675.32 1544.91 L1691.64 1544.91 L1691.64 1548.85 L1669.7 1548.85 L1669.7 1544.91 Q1672.36 1542.16 1676.94 1537.53 Q1681.55 1532.88 1682.73 1531.53 Q1684.98 1529.01 1685.86 1527.27 Q1686.76 1525.51 1686.76 1523.82 Q1686.76 1521.07 1684.81 1519.33 Q1682.89 1517.6 1679.79 1517.6 Q1677.59 1517.6 1675.14 1518.36 Q1672.71 1519.13 1669.93 1520.68 L1669.93 1515.95 Q1672.75 1514.82 1675.21 1514.24 Q1677.66 1513.66 1679.7 1513.66 Q1685.07 1513.66 1688.26 1516.35 Q1691.46 1519.03 1691.46 1523.52 Q1691.46 1525.65 1690.65 1527.57 Q1689.86 1529.47 1687.75 1532.07 Q1687.18 1532.74 1684.07 1535.95 Q1680.97 1539.15 1675.32 1544.91 Z\\\" fill=\\\"#000000\\\" fill-rule=\\\"nonzero\\\" fill-opacity=\\\"1\\\" \\/><path clip-path=\\\"url(#clip520)\\\" d=\\\"M2091 1518.36 L2079.2 1536.81 L2091 1536.81 L2091 1518.36 M2089.78 1514.29 L2095.66 1514.29 L2095.66 1536.81 L2100.59 1536.81 L2100.59 1540.7 L2095.66 1540.7 L2095.66 1548.85 L2091 1548.85 L2091 1540.7 L2075.4 1540.7 L2075.4 1536.19 L2089.78 1514.29 Z\\\" fill=\\\"#000000\\\" fill-rule=\\\"nonzero\\\" fill-opacity=\\\"1\\\" \\/><polyline clip-path=\\\"url(#clip522)\\\" style=\\\"stroke:#000000; stroke-linecap:round; stroke-linejoin:round; stroke-width:2; stroke-opacity:0.1; fill:none\\\" points=\\\"193.936,1445.74 2352.76,1445.74 \\\"\\/>\\n<polyline clip-path=\\\"url(#clip522)\\\" style=\\\"stroke:#000000; stroke-linecap:round; stroke-linejoin:round; stroke-width:2; stroke-opacity:0.1; fill:none\\\" points=\\\"193.936,1106.3 2352.76,1106.3 \\\"\\/>\\n<polyline clip-path=\\\"url(#clip522)\\\" style=\\\"stroke:#000000; stroke-linecap:round; stroke-linejoin:round; stroke-width:2; stroke-opacity:0.1; fill:none\\\" points=\\\"193.936,766.858 2352.76,766.858 \\\"\\/>\\n<polyline clip-path=\\\"url(#clip522)\\\" style=\\\"stroke:#000000; stroke-linecap:round; stroke-linejoin:round; stroke-width:2; stroke-opacity:0.1; fill:none\\\" points=\\\"193.936,427.415 2352.76,427.415 \\\"\\/>\\n<polyline clip-path=\\\"url(#clip522)\\\" style=\\\"stroke:#000000; stroke-linecap:round; stroke-linejoin:round; stroke-width:2; stroke-opacity:0.1; fill:none\\\" points=\\\"193.936,87.9727 2352.76,87.9727 \\\"\\/>\\n<polyline clip-path=\\\"url(#clip520)\\\" style=\\\"stroke:#000000; stroke-linecap:round; stroke-linejoin:round; stroke-width:4; stroke-opacity:1; fill:none\\\" points=\\\"193.936,1486.45 193.936,47.2441 \\\"\\/>\\n<polyline clip-path=\\\"url(#clip520)\\\" style=\\\"stroke:#000000; stroke-linecap:round; stroke-linejoin:round; stroke-width:4; stroke-opacity:1; fill:none\\\" points=\\\"193.936,1445.74 212.834,1445.74 \\\"\\/>\\n<polyline clip-path=\\\"url(#clip520)\\\" style=\\\"stroke:#000000; stroke-linecap:round; stroke-linejoin:round; stroke-width:4; stroke-opacity:1; fill:none\\\" points=\\\"193.936,1106.3 212.834,1106.3 \\\"\\/>\\n<polyline clip-path=\\\"url(#clip520)\\\" style=\\\"stroke:#000000; stroke-linecap:round; stroke-linejoin:round; stroke-width:4; stroke-opacity:1; fill:none\\\" points=\\\"193.936,766.858 212.834,766.858 \\\"\\/>\\n<polyline clip-path=\\\"url(#clip520)\\\" style=\\\"stroke:#000000; stroke-linecap:round; stroke-linejoin:round; stroke-width:4; stroke-opacity:1; fill:none\\\" points=\\\"193.936,427.415 212.834,427.415 \\\"\\/>\\n<polyline clip-path=\\\"url(#clip520)\\\" style=\\\"stroke:#000000; stroke-linecap:round; stroke-linejoin:round; stroke-width:4; stroke-opacity:1; fill:none\\\" points=\\\"193.936,87.9727 212.834,87.9727 \\\"\\/>\\n<path clip-path=\\\"url(#clip520)\\\" d=\\\"M50.9921 1446.19 L80.6679 1446.19 L80.6679 1450.13 L50.9921 1450.13 L50.9921 1446.19 Z\\\" fill=\\\"#000000\\\" fill-rule=\\\"nonzero\\\" fill-opacity=\\\"1\\\" \\/><path clip-path=\\\"url(#clip520)\\\" d=\\\"M91.5706 1459.09 L99.2095 1459.09 L99.2095 1432.72 L90.8993 1434.39 L90.8993 1430.13 L99.1632 1428.46 L103.839 1428.46 L103.839 1459.09 L111.478 1459.09 L111.478 1463.02 L91.5706 1463.02 L91.5706 1459.09 Z\\\" fill=\\\"#000000\\\" fill-rule=\\\"nonzero\\\" fill-opacity=\\\"1\\\" \\/><path clip-path=\\\"url(#clip520)\\\" d=\\\"M120.922 1457.14 L125.807 1457.14 L125.807 1463.02 L120.922 1463.02 L120.922 1457.14 Z\\\" fill=\\\"#000000\\\" fill-rule=\\\"nonzero\\\" fill-opacity=\\\"1\\\" \\/><path clip-path=\\\"url(#clip520)\\\" d=\\\"M145.992 1431.54 Q142.381 1431.54 140.552 1435.11 Q138.746 1438.65 138.746 1445.78 Q138.746 1452.88 140.552 1456.45 Q142.381 1459.99 145.992 1459.99 Q149.626 1459.99 151.431 1456.45 Q153.26 1452.88 153.26 1445.78 Q153.26 1438.65 151.431 1435.11 Q149.626 1431.54 145.992 1431.54 M145.992 1427.84 Q151.802 1427.84 154.857 1432.44 Q157.936 1437.03 157.936 1445.78 Q157.936 1454.5 154.857 1459.11 Q151.802 1463.69 145.992 1463.69 Q140.181 1463.69 137.103 1459.11 Q134.047 1454.5 134.047 1445.78 Q134.047 1437.03 137.103 1432.44 Q140.181 1427.84 145.992 1427.84 Z\\\" fill=\\\"#000000\\\" fill-rule=\\\"nonzero\\\" fill-opacity=\\\"1\\\" \\/><path clip-path=\\\"url(#clip520)\\\" d=\\\"M51.9875 1106.75 L81.6633 1106.75 L81.6633 1110.69 L51.9875 1110.69 L51.9875 1106.75 Z\\\" fill=\\\"#000000\\\" fill-rule=\\\"nonzero\\\" fill-opacity=\\\"1\\\" \\/><path clip-path=\\\"url(#clip520)\\\" d=\\\"M101.756 1092.1 Q98.1447 1092.1 96.316 1095.66 Q94.5104 1099.21 94.5104 1106.33 Q94.5104 1113.44 96.316 1117.01 Q98.1447 1120.55 101.756 1120.55 Q105.39 1120.55 107.196 1117.01 Q109.024 1113.44 109.024 1106.33 Q109.024 1099.21 107.196 1095.66 Q105.39 1092.1 101.756 1092.1 M101.756 1088.4 Q107.566 1088.4 110.621 1093 Q113.7 1097.58 113.7 1106.33 Q113.7 1115.06 110.621 1119.67 Q107.566 1124.25 101.756 1124.25 Q95.9456 1124.25 92.8669 1119.67 Q89.8114 1115.06 89.8114 1106.33 Q89.8114 1097.58 92.8669 1093 Q95.9456 1088.4 101.756 1088.4 Z\\\" fill=\\\"#000000\\\" fill-rule=\\\"nonzero\\\" fill-opacity=\\\"1\\\" \\/><path clip-path=\\\"url(#clip520)\\\" d=\\\"M121.918 1117.7 L126.802 1117.7 L126.802 1123.58 L121.918 1123.58 L121.918 1117.7 Z\\\" fill=\\\"#000000\\\" fill-rule=\\\"nonzero\\\" fill-opacity=\\\"1\\\" \\/><path clip-path=\\\"url(#clip520)\\\" d=\\\"M137.033 1089.02 L155.39 1089.02 L155.39 1092.96 L141.316 1092.96 L141.316 1101.43 Q142.334 1101.08 143.353 1100.92 Q144.371 1100.73 145.39 1100.73 Q151.177 1100.73 154.556 1103.9 Q157.936 1107.08 157.936 1112.49 Q157.936 1118.07 154.464 1121.17 Q150.992 1124.25 144.672 1124.25 Q142.496 1124.25 140.228 1123.88 Q137.982 1123.51 135.575 1122.77 L135.575 1118.07 Q137.658 1119.21 139.881 1119.76 Q142.103 1120.32 144.58 1120.32 Q148.584 1120.32 150.922 1118.21 Q153.26 1116.1 153.26 1112.49 Q153.26 1108.88 150.922 1106.77 Q148.584 1104.67 144.58 1104.67 Q142.705 1104.67 140.83 1105.08 Q138.978 1105.5 137.033 1106.38 L137.033 1089.02 Z\\\" fill=\\\"#000000\\\" fill-rule=\\\"nonzero\\\" fill-opacity=\\\"1\\\" \\/><path clip-path=\\\"url(#clip520)\\\" d=\\\"M100.76 752.656 Q97.1493 752.656 95.3206 756.221 Q93.515 759.763 93.515 766.892 Q93.515 773.999 95.3206 777.564 Q97.1493 781.105 100.76 781.105 Q104.395 781.105 106.2 777.564 Q108.029 773.999 108.029 766.892 Q108.029 759.763 106.2 756.221 Q104.395 752.656 100.76 752.656 M100.76 748.953 Q106.571 748.953 109.626 753.559 Q112.705 758.142 112.705 766.892 Q112.705 775.619 109.626 780.226 Q106.571 784.809 100.76 784.809 Q94.9502 784.809 91.8715 780.226 Q88.816 775.619 88.816 766.892 Q88.816 758.142 91.8715 753.559 Q94.9502 748.953 100.76 748.953 Z\\\" fill=\\\"#000000\\\" fill-rule=\\\"nonzero\\\" fill-opacity=\\\"1\\\" \\/><path clip-path=\\\"url(#clip520)\\\" d=\\\"M120.922 778.258 L125.807 778.258 L125.807 784.138 L120.922 784.138 L120.922 778.258 Z\\\" fill=\\\"#000000\\\" fill-rule=\\\"nonzero\\\" fill-opacity=\\\"1\\\" \\/><path clip-path=\\\"url(#clip520)\\\" d=\\\"M145.992 752.656 Q142.381 752.656 140.552 756.221 Q138.746 759.763 138.746 766.892 Q138.746 773.999 140.552 777.564 Q142.381 781.105 145.992 781.105 Q149.626 781.105 151.431 777.564 Q153.26 773.999 153.26 766.892 Q153.26 759.763 151.431 756.221 Q149.626 752.656 145.992 752.656 M145.992 748.953 Q151.802 748.953 154.857 753.559 Q157.936 758.142 157.936 766.892 Q157.936 775.619 154.857 780.226 Q151.802 784.809 145.992 784.809 Q140.181 784.809 137.103 780.226 Q134.047 775.619 134.047 766.892 Q134.047 758.142 137.103 753.559 Q140.181 748.953 145.992 748.953 Z\\\" fill=\\\"#000000\\\" fill-rule=\\\"nonzero\\\" fill-opacity=\\\"1\\\" \\/><path clip-path=\\\"url(#clip520)\\\" d=\\\"M101.756 413.214 Q98.1447 413.214 96.316 416.779 Q94.5104 420.32 94.5104 427.45 Q94.5104 434.556 96.316 438.121 Q98.1447 441.663 101.756 441.663 Q105.39 441.663 107.196 438.121 Q109.024 434.556 109.024 427.45 Q109.024 420.32 107.196 416.779 Q105.39 413.214 101.756 413.214 M101.756 409.51 Q107.566 409.51 110.621 414.117 Q113.7 418.7 113.7 427.45 Q113.7 436.177 110.621 440.783 Q107.566 445.366 101.756 445.366 Q95.9456 445.366 92.8669 440.783 Q89.8114 436.177 89.8114 427.45 Q89.8114 418.7 92.8669 414.117 Q95.9456 409.51 101.756 409.51 Z\\\" fill=\\\"#000000\\\" fill-rule=\\\"nonzero\\\" fill-opacity=\\\"1\\\" \\/><path clip-path=\\\"url(#clip520)\\\" d=\\\"M121.918 438.816 L126.802 438.816 L126.802 444.695 L121.918 444.695 L121.918 438.816 Z\\\" fill=\\\"#000000\\\" fill-rule=\\\"nonzero\\\" fill-opacity=\\\"1\\\" \\/><path clip-path=\\\"url(#clip520)\\\" d=\\\"M137.033 410.135 L155.39 410.135 L155.39 414.07 L141.316 414.07 L141.316 422.543 Q142.334 422.195 143.353 422.033 Q144.371 421.848 145.39 421.848 Q151.177 421.848 154.556 425.019 Q157.936 428.191 157.936 433.607 Q157.936 439.186 154.464 442.288 Q150.992 445.366 144.672 445.366 Q142.496 445.366 140.228 444.996 Q137.982 444.626 135.575 443.885 L135.575 439.186 Q137.658 440.32 139.881 440.876 Q142.103 441.431 144.58 441.431 Q148.584 441.431 150.922 439.325 Q153.26 437.218 153.26 433.607 Q153.26 429.996 150.922 427.89 Q148.584 425.783 144.58 425.783 Q142.705 425.783 140.83 426.2 Q138.978 426.617 137.033 427.496 L137.033 410.135 Z\\\" fill=\\\"#000000\\\" fill-rule=\\\"nonzero\\\" fill-opacity=\\\"1\\\" \\/><path clip-path=\\\"url(#clip520)\\\" d=\\\"M91.5706 101.318 L99.2095 101.318 L99.2095 74.9519 L90.8993 76.6186 L90.8993 72.3594 L99.1632 70.6927 L103.839 70.6927 L103.839 101.318 L111.478 101.318 L111.478 105.253 L91.5706 105.253 L91.5706 101.318 Z\\\" fill=\\\"#000000\\\" fill-rule=\\\"nonzero\\\" fill-opacity=\\\"1\\\" \\/><path clip-path=\\\"url(#clip520)\\\" d=\\\"M120.922 99.3731 L125.807 99.3731 L125.807 105.253 L120.922 105.253 L120.922 99.3731 Z\\\" fill=\\\"#000000\\\" fill-rule=\\\"nonzero\\\" fill-opacity=\\\"1\\\" \\/><path clip-path=\\\"url(#clip520)\\\" d=\\\"M145.992 73.7714 Q142.381 73.7714 140.552 77.3362 Q138.746 80.8778 138.746 88.0074 Q138.746 95.1139 140.552 98.6787 Q142.381 102.22 145.992 102.22 Q149.626 102.22 151.431 98.6787 Q153.26 95.1139 153.26 88.0074 Q153.26 80.8778 151.431 77.3362 Q149.626 73.7714 145.992 73.7714 M145.992 70.0677 Q151.802 70.0677 154.857 74.6742 Q157.936 79.2575 157.936 88.0074 Q157.936 96.7342 154.857 101.341 Q151.802 105.924 145.992 105.924 Q140.181 105.924 137.103 101.341 Q134.047 96.7342 134.047 88.0074 Q134.047 79.2575 137.103 74.6742 Q140.181 70.0677 145.992 70.0677 Z\\\" fill=\\\"#000000\\\" fill-rule=\\\"nonzero\\\" fill-opacity=\\\"1\\\" \\/><polyline clip-path=\\\"url(#clip522)\\\" style=\\\"stroke:#7f7f7f; stroke-linecap:round; stroke-linejoin:round; stroke-width:4; stroke-opacity:1; fill:none\\\" points=\\\"255.035,115.858 258.35,112.81 261.664,109.936 264.979,107.235 268.294,104.709 283.62,95.32 298.945,89.732 306.608,88.3739 314.27,87.9763 321.933,88.5395 329.596,90.0629 337.259,92.5443 344.921,95.98 352.584,100.365 360.247,105.694 375.572,119.15 390.898,136.272 400.108,148.286 409.318,161.564 418.527,176.08 427.737,191.804 436.947,208.704 446.157,226.745 455.367,245.89 464.577,266.1 480.151,302.583 495.725,341.778 511.299,383.458 526.872,427.379 543.79,477.329 560.707,529.276 577.625,582.861 594.542,637.715 625.735,740.907 656.928,844.707 673.649,899.753 690.37,953.903 707.091,1006.79 723.812,1058.07 743.185,1115 762.558,1168.78 772.245,1194.34 781.931,1218.93 791.617,1242.5 801.304,1264.99 809.912,1284.03 818.52,1302.15 827.129,1319.32 835.737,1335.5 844.345,1350.66 852.953,1364.78 861.561,1377.83 870.17,1389.79 885.267,1408.07 900.364,1422.82 915.461,1433.98 930.558,1441.46 938.788,1443.99 947.018,1445.41 955.248,1445.72 963.478,1444.92 971.708,1443.01 979.938,1440 988.168,1435.89 996.398,1430.69 1004.68,1424.37 1012.96,1416.95 1021.24,1408.47 1029.51,1398.92 1046.07,1376.72 1062.63,1350.48 1071.78,1334.31 1080.94,1316.99 1090.09,1298.56 1099.24,1279.06 1108.4,1258.53 1117.55,1237 1126.7,1214.52 1135.86,1191.13 1153.28,1144.31 1170.69,1094.73 1188.11,1042.75 1205.53,988.757 1241.75,871.746 1277.98,751.426 1308.47,650.364 1338.96,551.908 1357.57,494.034 1376.19,438.437 1394.8,385.581 1413.41,335.908 1421.94,314.333 1430.46,293.551 1438.99,273.598 1447.51,254.51 1464.57,219.058 1481.62,187.444 1489.49,174.202 1497.36,161.846 1505.24,150.394 1513.11,139.864 1520.99,130.271 1528.86,121.629 1536.73,113.952 1544.61,107.25 1552.58,101.467 1560.56,96.7035 1568.54,92.9682 1576.51,90.2663 1584.49,88.602 1592.46,87.9779 1600.44,88.3948 1608.42,89.8523 1617.36,92.7193 1626.29,96.8847 1635.23,102.341 1644.17,109.076 1653.11,117.079 1662.05,126.334 1670.99,136.822 1679.93,148.523 1696.13,172.748 1712.33,200.731 1720.43,216.076 1728.53,232.293 1736.63,249.355 1744.73,267.236 1754,288.677 1763.28,311.109 1772.55,334.486 1781.83,358.76 1800.37,409.793 1818.92,463.785 1836.1,516.028 1853.27,570.053 1870.44,625.476 1887.62,681.905 1921.48,794.552 1955.34,906.436 1971.78,959.55 1988.22,1011.41 2004.66,1061.68 2021.1,1110.02 2037.95,1157.26 2054.8,1201.83 2071.66,1243.43 2088.51,1281.76 2097.74,1301.28 2106.97,1319.7 2116.2,1336.99 2125.44,1353.1 2134.67,1368.01 2143.9,1381.69 2153.13,1394.1 2162.36,1405.22 2175.77,1419.04 2189.18,1430.03 2202.59,1438.15 2216,1443.36 2229.42,1445.63 2242.83,1444.97 2256.24,1441.36 2269.65,1434.83 2275.15,1431.31 2280.65,1427.31 2286.15,1422.82 2291.66,1417.86 \\\"\\/>\\n<path clip-path=\\\"url(#clip520)\\\" d=\\\"M2012.48 198.898 L2280.8 198.898 L2280.8 95.2176 L2012.48 95.2176  Z\\\" fill=\\\"#ffffff\\\" fill-rule=\\\"evenodd\\\" fill-opacity=\\\"1\\\"\\/>\\n<polyline clip-path=\\\"url(#clip520)\\\" style=\\\"stroke:#000000; stroke-linecap:round; stroke-linejoin:round; stroke-width:4; stroke-opacity:1; fill:none\\\" points=\\\"2012.48,198.898 2280.8,198.898 2280.8,95.2176 2012.48,95.2176 2012.48,198.898 \\\"\\/>\\n<polyline clip-path=\\\"url(#clip520)\\\" style=\\\"stroke:#7f7f7f; stroke-linecap:round; stroke-linejoin:round; stroke-width:4; stroke-opacity:1; fill:none\\\" points=\\\"2036.47,147.058 2180.39,147.058 \\\"\\/>\\n<path clip-path=\\\"url(#clip520)\\\" d=\\\"M2218.22 166.745 Q2216.42 171.375 2214.7 172.787 Q2212.99 174.199 2210.12 174.199 L2206.72 174.199 L2206.72 170.634 L2209.22 170.634 Q2210.98 170.634 2211.95 169.8 Q2212.92 168.967 2214.1 165.865 L2214.86 163.921 L2204.38 138.412 L2208.89 138.412 L2216.99 158.689 L2225.1 138.412 L2229.61 138.412 L2218.22 166.745 Z\\\" fill=\\\"#000000\\\" fill-rule=\\\"nonzero\\\" fill-opacity=\\\"1\\\" \\/><path clip-path=\\\"url(#clip520)\\\" d=\\\"M2236.9 160.402 L2244.54 160.402 L2244.54 134.037 L2236.23 135.703 L2236.23 131.444 L2244.49 129.778 L2249.17 129.778 L2249.17 160.402 L2256.81 160.402 L2256.81 164.338 L2236.9 164.338 L2236.9 160.402 Z\\\" fill=\\\"#000000\\\" fill-rule=\\\"nonzero\\\" fill-opacity=\\\"1\\\" \\/><\\/svg>\\n\"},\"nodeType\":\"DOM\",\"type\":\"node\",\"instanceArgs\":{\"namespace\":\"html\",\"tag\":\"div\"},\"children\":[]}]},{\"props\":{\"style\":{\"display\":\"flex\",\"flex-direction\":\"column\"}},\"nodeType\":\"DOM\",\"type\":\"node\",\"instanceArgs\":{\"namespace\":\"html\",\"tag\":\"div\"},\"children\":[{\"props\":{\"className\":\"field interact-widget\"},\"nodeType\":\"DOM\",\"type\":\"node\",\"instanceArgs\":{\"namespace\":\"html\",\"tag\":\"div\"},\"children\":[{\"props\":{},\"nodeType\":\"Scope\",\"type\":\"node\",\"instanceArgs\":{\"imports\":{\"data\":[{\"name\":\"knockout\",\"type\":\"js\",\"url\":\"\\/assetserver\\/d0f67ea5103338bec547a71428bdbf3df4f08059-knockout.js\"},{\"name\":\"knockout_punches\",\"type\":\"js\",\"url\":\"\\/assetserver\\/e26f753938579e2287344150f7e368ac4b529445-knockout_punches.js\"},{\"name\":null,\"type\":\"js\",\"url\":\"\\/assetserver\\/f71b84de1a55136a6c3fa3ef48eef72511463954-all.js\"},{\"name\":null,\"type\":\"css\",\"url\":\"\\/assetserver\\/dfba341bd7a3bedeba9caeda5288e80d20d1c596-style.css\"},{\"name\":null,\"type\":\"css\",\"url\":\"\\/assetserver\\/53e68c0bec04ce908a124e6cd1565929ff6ce3a7-bulma_confined.min.css\"}],\"type\":\"async_block\"},\"id\":\"1884056284353259339\",\"handlers\":{\"changes\":[\"(function (val){return (val!=this.model[\\\"changes\\\"]()) ? (this.valueFromJulia[\\\"changes\\\"]=true, this.model[\\\"changes\\\"](val)) : undefined})\"],\"index\":[\"(function (val){return (val!=this.model[\\\"index\\\"]()) ? (this.valueFromJulia[\\\"index\\\"]=true, this.model[\\\"index\\\"](val)) : undefined})\"]},\"systemjs_options\":null,\"mount_callbacks\":[\"function () {\\n    var handler = (function (ko, koPunches) {\\n    ko.punches.enableAll();\\n    ko.bindingHandlers.numericValue = {\\n        init: function(element, valueAccessor, allBindings, data, context) {\\n            var stringified = ko.observable(ko.unwrap(valueAccessor()));\\n            stringified.subscribe(function(value) {\\n                var val = parseFloat(value);\\n                if (!isNaN(val)) {\\n                    valueAccessor()(val);\\n                }\\n            });\\n            valueAccessor().subscribe(function(value) {\\n                var str = JSON.stringify(value);\\n                if ((str == \\\"0\\\") && ([\\\"-0\\\", \\\"-0.\\\"].indexOf(stringified()) >= 0))\\n                     return;\\n                 if ([\\\"null\\\", \\\"\\\"].indexOf(str) >= 0)\\n                     return;\\n                stringified(str);\\n            });\\n            ko.applyBindingsToNode(\\n                element,\\n                {\\n                    value: stringified,\\n                    valueUpdate: allBindings.get('valueUpdate'),\\n                },\\n                context,\\n            );\\n        }\\n    };\\n    var json_data = {\\\"formatted_vals\\\":[\\\"0\\\",\\\"1\\\",\\\"2\\\",\\\"3\\\",\\\"4\\\",\\\"5\\\",\\\"6\\\",\\\"7\\\",\\\"8\\\",\\\"9\\\",\\\"10\\\",\\\"11\\\",\\\"12\\\",\\\"13\\\",\\\"14\\\",\\\"15\\\",\\\"16\\\",\\\"17\\\",\\\"18\\\",\\\"19\\\",\\\"20\\\",\\\"21\\\",\\\"22\\\",\\\"23\\\",\\\"24\\\",\\\"25\\\",\\\"26\\\",\\\"27\\\",\\\"28\\\",\\\"29\\\",\\\"30\\\",\\\"31\\\",\\\"32\\\",\\\"33\\\",\\\"34\\\",\\\"35\\\",\\\"36\\\",\\\"37\\\",\\\"38\\\",\\\"39\\\",\\\"40\\\",\\\"41\\\",\\\"42\\\",\\\"43\\\",\\\"44\\\",\\\"45\\\",\\\"46\\\",\\\"47\\\",\\\"48\\\",\\\"49\\\",\\\"50\\\",\\\"51\\\",\\\"52\\\",\\\"53\\\",\\\"54\\\",\\\"55\\\",\\\"56\\\",\\\"57\\\",\\\"58\\\",\\\"59\\\",\\\"60\\\",\\\"61\\\",\\\"62\\\",\\\"63\\\",\\\"64\\\",\\\"65\\\",\\\"66\\\",\\\"67\\\",\\\"68\\\",\\\"69\\\",\\\"70\\\",\\\"71\\\",\\\"72\\\",\\\"73\\\",\\\"74\\\",\\\"75\\\",\\\"76\\\",\\\"77\\\",\\\"78\\\",\\\"79\\\",\\\"80\\\",\\\"81\\\",\\\"82\\\",\\\"83\\\",\\\"84\\\",\\\"85\\\",\\\"86\\\",\\\"87\\\",\\\"88\\\",\\\"89\\\",\\\"90\\\",\\\"91\\\",\\\"92\\\",\\\"93\\\",\\\"94\\\",\\\"95\\\",\\\"96\\\",\\\"97\\\",\\\"98\\\",\\\"99\\\",\\\"100\\\",\\\"101\\\",\\\"102\\\",\\\"103\\\",\\\"104\\\",\\\"105\\\",\\\"106\\\",\\\"107\\\",\\\"108\\\",\\\"109\\\",\\\"110\\\",\\\"111\\\",\\\"112\\\",\\\"113\\\",\\\"114\\\",\\\"115\\\",\\\"116\\\",\\\"117\\\",\\\"118\\\",\\\"119\\\",\\\"120\\\",\\\"121\\\",\\\"122\\\",\\\"123\\\",\\\"124\\\",\\\"125\\\",\\\"126\\\",\\\"127\\\",\\\"128\\\",\\\"129\\\",\\\"130\\\",\\\"131\\\",\\\"132\\\",\\\"133\\\",\\\"134\\\",\\\"135\\\",\\\"136\\\",\\\"137\\\",\\\"138\\\",\\\"139\\\",\\\"140\\\",\\\"141\\\",\\\"142\\\",\\\"143\\\",\\\"144\\\",\\\"145\\\",\\\"146\\\",\\\"147\\\",\\\"148\\\",\\\"149\\\",\\\"150\\\",\\\"151\\\",\\\"152\\\",\\\"153\\\",\\\"154\\\",\\\"155\\\",\\\"156\\\",\\\"157\\\",\\\"158\\\",\\\"159\\\",\\\"160\\\",\\\"161\\\",\\\"162\\\",\\\"163\\\",\\\"164\\\",\\\"165\\\",\\\"166\\\",\\\"167\\\",\\\"168\\\",\\\"169\\\",\\\"170\\\",\\\"171\\\",\\\"172\\\",\\\"173\\\",\\\"174\\\",\\\"175\\\",\\\"176\\\",\\\"177\\\",\\\"178\\\",\\\"179\\\",\\\"180\\\",\\\"181\\\",\\\"182\\\",\\\"183\\\",\\\"184\\\",\\\"185\\\",\\\"186\\\",\\\"187\\\",\\\"188\\\",\\\"189\\\",\\\"190\\\",\\\"191\\\",\\\"192\\\",\\\"193\\\",\\\"194\\\",\\\"195\\\",\\\"196\\\",\\\"197\\\",\\\"198\\\",\\\"199\\\",\\\"200\\\",\\\"201\\\",\\\"202\\\",\\\"203\\\",\\\"204\\\",\\\"205\\\",\\\"206\\\",\\\"207\\\",\\\"208\\\",\\\"209\\\",\\\"210\\\",\\\"211\\\",\\\"212\\\",\\\"213\\\",\\\"214\\\",\\\"215\\\",\\\"216\\\",\\\"217\\\",\\\"218\\\",\\\"219\\\",\\\"220\\\",\\\"221\\\",\\\"222\\\",\\\"223\\\",\\\"224\\\",\\\"225\\\",\\\"226\\\",\\\"227\\\",\\\"228\\\",\\\"229\\\",\\\"230\\\",\\\"231\\\",\\\"232\\\",\\\"233\\\",\\\"234\\\",\\\"235\\\",\\\"236\\\",\\\"237\\\",\\\"238\\\",\\\"239\\\",\\\"240\\\",\\\"241\\\",\\\"242\\\",\\\"243\\\",\\\"244\\\",\\\"245\\\",\\\"246\\\",\\\"247\\\",\\\"248\\\",\\\"249\\\",\\\"250\\\",\\\"251\\\",\\\"252\\\",\\\"253\\\",\\\"254\\\",\\\"255\\\"],\\\"changes\\\":WebIO.getval({\\\"name\\\":\\\"changes\\\",\\\"scope\\\":\\\"1884056284353259339\\\",\\\"id\\\":\\\"28\\\",\\\"type\\\":\\\"observable\\\"}),\\\"index\\\":WebIO.getval({\\\"name\\\":\\\"index\\\",\\\"scope\\\":\\\"1884056284353259339\\\",\\\"id\\\":\\\"27\\\",\\\"type\\\":\\\"observable\\\"})};\\n    var self = this;\\n    function AppViewModel() {\\n        for (var key in json_data) {\\n            var el = json_data[key];\\n            this[key] = Array.isArray(el) ? ko.observableArray(el) : ko.observable(el);\\n        }\\n        \\n        [this[\\\"formatted_val\\\"]=ko.computed(    function(){\\n        return this.formatted_vals()[parseInt(this.index())-(0)];\\n    }\\n,this)]\\n        [this[\\\"changes\\\"].subscribe((function (val){!(this.valueFromJulia[\\\"changes\\\"]) ? (WebIO.setval({\\\"name\\\":\\\"changes\\\",\\\"scope\\\":\\\"1884056284353259339\\\",\\\"id\\\":\\\"28\\\",\\\"type\\\":\\\"observable\\\"},val)) : undefined; return this.valueFromJulia[\\\"changes\\\"]=false}),self),this[\\\"index\\\"].subscribe((function (val){!(this.valueFromJulia[\\\"index\\\"]) ? (WebIO.setval({\\\"name\\\":\\\"index\\\",\\\"scope\\\":\\\"1884056284353259339\\\",\\\"id\\\":\\\"27\\\",\\\"type\\\":\\\"observable\\\"},val)) : undefined; return this.valueFromJulia[\\\"index\\\"]=false}),self)]\\n        \\n    }\\n    self.model = new AppViewModel();\\n    self.valueFromJulia = {};\\n    for (var key in json_data) {\\n        self.valueFromJulia[key] = false;\\n    }\\n    ko.applyBindings(self.model, self.dom);\\n}\\n);\\n    (WebIO.importBlock({\\\"data\\\":[{\\\"name\\\":\\\"knockout\\\",\\\"type\\\":\\\"js\\\",\\\"url\\\":\\\"\\/assetserver\\/d0f67ea5103338bec547a71428bdbf3df4f08059-knockout.js\\\"},{\\\"name\\\":\\\"knockout_punches\\\",\\\"type\\\":\\\"js\\\",\\\"url\\\":\\\"\\/assetserver\\/e26f753938579e2287344150f7e368ac4b529445-knockout_punches.js\\\"}],\\\"type\\\":\\\"async_block\\\"})).then((imports) => handler.apply(this, imports));\\n}\\n\"],\"observables\":{\"changes\":{\"sync\":false,\"id\":\"28\",\"value\":0},\"index\":{\"sync\":false,\"id\":\"27\",\"value\":127}}},\"children\":[{\"props\":{\"className\":\"interact-flex-row interact-widget\"},\"nodeType\":\"DOM\",\"type\":\"node\",\"instanceArgs\":{\"namespace\":\"html\",\"tag\":\"div\"},\"children\":[{\"props\":{\"className\":\"interact-flex-row-left\"},\"nodeType\":\"DOM\",\"type\":\"node\",\"instanceArgs\":{\"namespace\":\"html\",\"tag\":\"div\"},\"children\":[{\"props\":{\"className\":\"interact \",\"style\":{\"padding\":\"5px 10px 0px 10px\"}},\"nodeType\":\"DOM\",\"type\":\"node\",\"instanceArgs\":{\"namespace\":\"html\",\"tag\":\"label\"},\"children\":[\"red\"]}]},{\"props\":{\"className\":\"interact-flex-row-center\"},\"nodeType\":\"DOM\",\"type\":\"node\",\"instanceArgs\":{\"namespace\":\"html\",\"tag\":\"div\"},\"children\":[{\"props\":{\"max\":255,\"min\":0,\"attributes\":{\"type\":\"range\",\"data-bind\":\"numericValue: index, valueUpdate: 'input', event: {change: function (){this.changes(this.changes()+1)}}\",\"orient\":\"horizontal\"},\"step\":1,\"className\":\"slider slider is-fullwidth\",\"style\":{}},\"nodeType\":\"DOM\",\"type\":\"node\",\"instanceArgs\":{\"namespace\":\"html\",\"tag\":\"input\"},\"children\":[]}]},{\"props\":{\"className\":\"interact-flex-row-right\"},\"nodeType\":\"DOM\",\"type\":\"node\",\"instanceArgs\":{\"namespace\":\"html\",\"tag\":\"div\"},\"children\":[{\"props\":{\"attributes\":{\"data-bind\":\"text: formatted_val\"}},\"nodeType\":\"DOM\",\"type\":\"node\",\"instanceArgs\":{\"namespace\":\"html\",\"tag\":\"p\"},\"children\":[]}]}]}]}]},{\"props\":{\"className\":\"field interact-widget\"},\"nodeType\":\"DOM\",\"type\":\"node\",\"instanceArgs\":{\"namespace\":\"html\",\"tag\":\"div\"},\"children\":[{\"props\":{},\"nodeType\":\"Scope\",\"type\":\"node\",\"instanceArgs\":{\"imports\":{\"data\":[{\"name\":\"knockout\",\"type\":\"js\",\"url\":\"\\/assetserver\\/d0f67ea5103338bec547a71428bdbf3df4f08059-knockout.js\"},{\"name\":\"knockout_punches\",\"type\":\"js\",\"url\":\"\\/assetserver\\/e26f753938579e2287344150f7e368ac4b529445-knockout_punches.js\"},{\"name\":null,\"type\":\"js\",\"url\":\"\\/assetserver\\/f71b84de1a55136a6c3fa3ef48eef72511463954-all.js\"},{\"name\":null,\"type\":\"css\",\"url\":\"\\/assetserver\\/dfba341bd7a3bedeba9caeda5288e80d20d1c596-style.css\"},{\"name\":null,\"type\":\"css\",\"url\":\"\\/assetserver\\/53e68c0bec04ce908a124e6cd1565929ff6ce3a7-bulma_confined.min.css\"}],\"type\":\"async_block\"},\"id\":\"8026148881030119543\",\"handlers\":{\"changes\":[\"(function (val){return (val!=this.model[\\\"changes\\\"]()) ? (this.valueFromJulia[\\\"changes\\\"]=true, this.model[\\\"changes\\\"](val)) : undefined})\"],\"index\":[\"(function (val){return (val!=this.model[\\\"index\\\"]()) ? (this.valueFromJulia[\\\"index\\\"]=true, this.model[\\\"index\\\"](val)) : undefined})\"]},\"systemjs_options\":null,\"mount_callbacks\":[\"function () {\\n    var handler = (function (ko, koPunches) {\\n    ko.punches.enableAll();\\n    ko.bindingHandlers.numericValue = {\\n        init: function(element, valueAccessor, allBindings, data, context) {\\n            var stringified = ko.observable(ko.unwrap(valueAccessor()));\\n            stringified.subscribe(function(value) {\\n                var val = parseFloat(value);\\n                if (!isNaN(val)) {\\n                    valueAccessor()(val);\\n                }\\n            });\\n            valueAccessor().subscribe(function(value) {\\n                var str = JSON.stringify(value);\\n                if ((str == \\\"0\\\") && ([\\\"-0\\\", \\\"-0.\\\"].indexOf(stringified()) >= 0))\\n                     return;\\n                 if ([\\\"null\\\", \\\"\\\"].indexOf(str) >= 0)\\n                     return;\\n                stringified(str);\\n            });\\n            ko.applyBindingsToNode(\\n                element,\\n                {\\n                    value: stringified,\\n                    valueUpdate: allBindings.get('valueUpdate'),\\n                },\\n                context,\\n            );\\n        }\\n    };\\n    var json_data = {\\\"formatted_vals\\\":[\\\"0\\\",\\\"1\\\",\\\"2\\\",\\\"3\\\",\\\"4\\\",\\\"5\\\",\\\"6\\\",\\\"7\\\",\\\"8\\\",\\\"9\\\",\\\"10\\\",\\\"11\\\",\\\"12\\\",\\\"13\\\",\\\"14\\\",\\\"15\\\",\\\"16\\\",\\\"17\\\",\\\"18\\\",\\\"19\\\",\\\"20\\\",\\\"21\\\",\\\"22\\\",\\\"23\\\",\\\"24\\\",\\\"25\\\",\\\"26\\\",\\\"27\\\",\\\"28\\\",\\\"29\\\",\\\"30\\\",\\\"31\\\",\\\"32\\\",\\\"33\\\",\\\"34\\\",\\\"35\\\",\\\"36\\\",\\\"37\\\",\\\"38\\\",\\\"39\\\",\\\"40\\\",\\\"41\\\",\\\"42\\\",\\\"43\\\",\\\"44\\\",\\\"45\\\",\\\"46\\\",\\\"47\\\",\\\"48\\\",\\\"49\\\",\\\"50\\\",\\\"51\\\",\\\"52\\\",\\\"53\\\",\\\"54\\\",\\\"55\\\",\\\"56\\\",\\\"57\\\",\\\"58\\\",\\\"59\\\",\\\"60\\\",\\\"61\\\",\\\"62\\\",\\\"63\\\",\\\"64\\\",\\\"65\\\",\\\"66\\\",\\\"67\\\",\\\"68\\\",\\\"69\\\",\\\"70\\\",\\\"71\\\",\\\"72\\\",\\\"73\\\",\\\"74\\\",\\\"75\\\",\\\"76\\\",\\\"77\\\",\\\"78\\\",\\\"79\\\",\\\"80\\\",\\\"81\\\",\\\"82\\\",\\\"83\\\",\\\"84\\\",\\\"85\\\",\\\"86\\\",\\\"87\\\",\\\"88\\\",\\\"89\\\",\\\"90\\\",\\\"91\\\",\\\"92\\\",\\\"93\\\",\\\"94\\\",\\\"95\\\",\\\"96\\\",\\\"97\\\",\\\"98\\\",\\\"99\\\",\\\"100\\\",\\\"101\\\",\\\"102\\\",\\\"103\\\",\\\"104\\\",\\\"105\\\",\\\"106\\\",\\\"107\\\",\\\"108\\\",\\\"109\\\",\\\"110\\\",\\\"111\\\",\\\"112\\\",\\\"113\\\",\\\"114\\\",\\\"115\\\",\\\"116\\\",\\\"117\\\",\\\"118\\\",\\\"119\\\",\\\"120\\\",\\\"121\\\",\\\"122\\\",\\\"123\\\",\\\"124\\\",\\\"125\\\",\\\"126\\\",\\\"127\\\",\\\"128\\\",\\\"129\\\",\\\"130\\\",\\\"131\\\",\\\"132\\\",\\\"133\\\",\\\"134\\\",\\\"135\\\",\\\"136\\\",\\\"137\\\",\\\"138\\\",\\\"139\\\",\\\"140\\\",\\\"141\\\",\\\"142\\\",\\\"143\\\",\\\"144\\\",\\\"145\\\",\\\"146\\\",\\\"147\\\",\\\"148\\\",\\\"149\\\",\\\"150\\\",\\\"151\\\",\\\"152\\\",\\\"153\\\",\\\"154\\\",\\\"155\\\",\\\"156\\\",\\\"157\\\",\\\"158\\\",\\\"159\\\",\\\"160\\\",\\\"161\\\",\\\"162\\\",\\\"163\\\",\\\"164\\\",\\\"165\\\",\\\"166\\\",\\\"167\\\",\\\"168\\\",\\\"169\\\",\\\"170\\\",\\\"171\\\",\\\"172\\\",\\\"173\\\",\\\"174\\\",\\\"175\\\",\\\"176\\\",\\\"177\\\",\\\"178\\\",\\\"179\\\",\\\"180\\\",\\\"181\\\",\\\"182\\\",\\\"183\\\",\\\"184\\\",\\\"185\\\",\\\"186\\\",\\\"187\\\",\\\"188\\\",\\\"189\\\",\\\"190\\\",\\\"191\\\",\\\"192\\\",\\\"193\\\",\\\"194\\\",\\\"195\\\",\\\"196\\\",\\\"197\\\",\\\"198\\\",\\\"199\\\",\\\"200\\\",\\\"201\\\",\\\"202\\\",\\\"203\\\",\\\"204\\\",\\\"205\\\",\\\"206\\\",\\\"207\\\",\\\"208\\\",\\\"209\\\",\\\"210\\\",\\\"211\\\",\\\"212\\\",\\\"213\\\",\\\"214\\\",\\\"215\\\",\\\"216\\\",\\\"217\\\",\\\"218\\\",\\\"219\\\",\\\"220\\\",\\\"221\\\",\\\"222\\\",\\\"223\\\",\\\"224\\\",\\\"225\\\",\\\"226\\\",\\\"227\\\",\\\"228\\\",\\\"229\\\",\\\"230\\\",\\\"231\\\",\\\"232\\\",\\\"233\\\",\\\"234\\\",\\\"235\\\",\\\"236\\\",\\\"237\\\",\\\"238\\\",\\\"239\\\",\\\"240\\\",\\\"241\\\",\\\"242\\\",\\\"243\\\",\\\"244\\\",\\\"245\\\",\\\"246\\\",\\\"247\\\",\\\"248\\\",\\\"249\\\",\\\"250\\\",\\\"251\\\",\\\"252\\\",\\\"253\\\",\\\"254\\\",\\\"255\\\"],\\\"changes\\\":WebIO.getval({\\\"name\\\":\\\"changes\\\",\\\"scope\\\":\\\"8026148881030119543\\\",\\\"id\\\":\\\"30\\\",\\\"type\\\":\\\"observable\\\"}),\\\"index\\\":WebIO.getval({\\\"name\\\":\\\"index\\\",\\\"scope\\\":\\\"8026148881030119543\\\",\\\"id\\\":\\\"29\\\",\\\"type\\\":\\\"observable\\\"})};\\n    var self = this;\\n    function AppViewModel() {\\n        for (var key in json_data) {\\n            var el = json_data[key];\\n            this[key] = Array.isArray(el) ? ko.observableArray(el) : ko.observable(el);\\n        }\\n        \\n        [this[\\\"formatted_val\\\"]=ko.computed(    function(){\\n        return this.formatted_vals()[parseInt(this.index())-(0)];\\n    }\\n,this)]\\n        [this[\\\"changes\\\"].subscribe((function (val){!(this.valueFromJulia[\\\"changes\\\"]) ? (WebIO.setval({\\\"name\\\":\\\"changes\\\",\\\"scope\\\":\\\"8026148881030119543\\\",\\\"id\\\":\\\"30\\\",\\\"type\\\":\\\"observable\\\"},val)) : undefined; return this.valueFromJulia[\\\"changes\\\"]=false}),self),this[\\\"index\\\"].subscribe((function (val){!(this.valueFromJulia[\\\"index\\\"]) ? (WebIO.setval({\\\"name\\\":\\\"index\\\",\\\"scope\\\":\\\"8026148881030119543\\\",\\\"id\\\":\\\"29\\\",\\\"type\\\":\\\"observable\\\"},val)) : undefined; return this.valueFromJulia[\\\"index\\\"]=false}),self)]\\n        \\n    }\\n    self.model = new AppViewModel();\\n    self.valueFromJulia = {};\\n    for (var key in json_data) {\\n        self.valueFromJulia[key] = false;\\n    }\\n    ko.applyBindings(self.model, self.dom);\\n}\\n);\\n    (WebIO.importBlock({\\\"data\\\":[{\\\"name\\\":\\\"knockout\\\",\\\"type\\\":\\\"js\\\",\\\"url\\\":\\\"\\/assetserver\\/d0f67ea5103338bec547a71428bdbf3df4f08059-knockout.js\\\"},{\\\"name\\\":\\\"knockout_punches\\\",\\\"type\\\":\\\"js\\\",\\\"url\\\":\\\"\\/assetserver\\/e26f753938579e2287344150f7e368ac4b529445-knockout_punches.js\\\"}],\\\"type\\\":\\\"async_block\\\"})).then((imports) => handler.apply(this, imports));\\n}\\n\"],\"observables\":{\"changes\":{\"sync\":false,\"id\":\"30\",\"value\":0},\"index\":{\"sync\":false,\"id\":\"29\",\"value\":127}}},\"children\":[{\"props\":{\"className\":\"interact-flex-row interact-widget\"},\"nodeType\":\"DOM\",\"type\":\"node\",\"instanceArgs\":{\"namespace\":\"html\",\"tag\":\"div\"},\"children\":[{\"props\":{\"className\":\"interact-flex-row-left\"},\"nodeType\":\"DOM\",\"type\":\"node\",\"instanceArgs\":{\"namespace\":\"html\",\"tag\":\"div\"},\"children\":[{\"props\":{\"className\":\"interact \",\"style\":{\"padding\":\"5px 10px 0px 10px\"}},\"nodeType\":\"DOM\",\"type\":\"node\",\"instanceArgs\":{\"namespace\":\"html\",\"tag\":\"label\"},\"children\":[\"green\"]}]},{\"props\":{\"className\":\"interact-flex-row-center\"},\"nodeType\":\"DOM\",\"type\":\"node\",\"instanceArgs\":{\"namespace\":\"html\",\"tag\":\"div\"},\"children\":[{\"props\":{\"max\":255,\"min\":0,\"attributes\":{\"type\":\"range\",\"data-bind\":\"numericValue: index, valueUpdate: 'input', event: {change: function (){this.changes(this.changes()+1)}}\",\"orient\":\"horizontal\"},\"step\":1,\"className\":\"slider slider is-fullwidth\",\"style\":{}},\"nodeType\":\"DOM\",\"type\":\"node\",\"instanceArgs\":{\"namespace\":\"html\",\"tag\":\"input\"},\"children\":[]}]},{\"props\":{\"className\":\"interact-flex-row-right\"},\"nodeType\":\"DOM\",\"type\":\"node\",\"instanceArgs\":{\"namespace\":\"html\",\"tag\":\"div\"},\"children\":[{\"props\":{\"attributes\":{\"data-bind\":\"text: formatted_val\"}},\"nodeType\":\"DOM\",\"type\":\"node\",\"instanceArgs\":{\"namespace\":\"html\",\"tag\":\"p\"},\"children\":[]}]}]}]}]},{\"props\":{\"className\":\"field interact-widget\"},\"nodeType\":\"DOM\",\"type\":\"node\",\"instanceArgs\":{\"namespace\":\"html\",\"tag\":\"div\"},\"children\":[{\"props\":{},\"nodeType\":\"Scope\",\"type\":\"node\",\"instanceArgs\":{\"imports\":{\"data\":[{\"name\":\"knockout\",\"type\":\"js\",\"url\":\"\\/assetserver\\/d0f67ea5103338bec547a71428bdbf3df4f08059-knockout.js\"},{\"name\":\"knockout_punches\",\"type\":\"js\",\"url\":\"\\/assetserver\\/e26f753938579e2287344150f7e368ac4b529445-knockout_punches.js\"},{\"name\":null,\"type\":\"js\",\"url\":\"\\/assetserver\\/f71b84de1a55136a6c3fa3ef48eef72511463954-all.js\"},{\"name\":null,\"type\":\"css\",\"url\":\"\\/assetserver\\/dfba341bd7a3bedeba9caeda5288e80d20d1c596-style.css\"},{\"name\":null,\"type\":\"css\",\"url\":\"\\/assetserver\\/53e68c0bec04ce908a124e6cd1565929ff6ce3a7-bulma_confined.min.css\"}],\"type\":\"async_block\"},\"id\":\"8528768215057589373\",\"handlers\":{\"changes\":[\"(function (val){return (val!=this.model[\\\"changes\\\"]()) ? (this.valueFromJulia[\\\"changes\\\"]=true, this.model[\\\"changes\\\"](val)) : undefined})\"],\"index\":[\"(function (val){return (val!=this.model[\\\"index\\\"]()) ? (this.valueFromJulia[\\\"index\\\"]=true, this.model[\\\"index\\\"](val)) : undefined})\"]},\"systemjs_options\":null,\"mount_callbacks\":[\"function () {\\n    var handler = (function (ko, koPunches) {\\n    ko.punches.enableAll();\\n    ko.bindingHandlers.numericValue = {\\n        init: function(element, valueAccessor, allBindings, data, context) {\\n            var stringified = ko.observable(ko.unwrap(valueAccessor()));\\n            stringified.subscribe(function(value) {\\n                var val = parseFloat(value);\\n                if (!isNaN(val)) {\\n                    valueAccessor()(val);\\n                }\\n            });\\n            valueAccessor().subscribe(function(value) {\\n                var str = JSON.stringify(value);\\n                if ((str == \\\"0\\\") && ([\\\"-0\\\", \\\"-0.\\\"].indexOf(stringified()) >= 0))\\n                     return;\\n                 if ([\\\"null\\\", \\\"\\\"].indexOf(str) >= 0)\\n                     return;\\n                stringified(str);\\n            });\\n            ko.applyBindingsToNode(\\n                element,\\n                {\\n                    value: stringified,\\n                    valueUpdate: allBindings.get('valueUpdate'),\\n                },\\n                context,\\n            );\\n        }\\n    };\\n    var json_data = {\\\"formatted_vals\\\":[\\\"0\\\",\\\"1\\\",\\\"2\\\",\\\"3\\\",\\\"4\\\",\\\"5\\\",\\\"6\\\",\\\"7\\\",\\\"8\\\",\\\"9\\\",\\\"10\\\",\\\"11\\\",\\\"12\\\",\\\"13\\\",\\\"14\\\",\\\"15\\\",\\\"16\\\",\\\"17\\\",\\\"18\\\",\\\"19\\\",\\\"20\\\",\\\"21\\\",\\\"22\\\",\\\"23\\\",\\\"24\\\",\\\"25\\\",\\\"26\\\",\\\"27\\\",\\\"28\\\",\\\"29\\\",\\\"30\\\",\\\"31\\\",\\\"32\\\",\\\"33\\\",\\\"34\\\",\\\"35\\\",\\\"36\\\",\\\"37\\\",\\\"38\\\",\\\"39\\\",\\\"40\\\",\\\"41\\\",\\\"42\\\",\\\"43\\\",\\\"44\\\",\\\"45\\\",\\\"46\\\",\\\"47\\\",\\\"48\\\",\\\"49\\\",\\\"50\\\",\\\"51\\\",\\\"52\\\",\\\"53\\\",\\\"54\\\",\\\"55\\\",\\\"56\\\",\\\"57\\\",\\\"58\\\",\\\"59\\\",\\\"60\\\",\\\"61\\\",\\\"62\\\",\\\"63\\\",\\\"64\\\",\\\"65\\\",\\\"66\\\",\\\"67\\\",\\\"68\\\",\\\"69\\\",\\\"70\\\",\\\"71\\\",\\\"72\\\",\\\"73\\\",\\\"74\\\",\\\"75\\\",\\\"76\\\",\\\"77\\\",\\\"78\\\",\\\"79\\\",\\\"80\\\",\\\"81\\\",\\\"82\\\",\\\"83\\\",\\\"84\\\",\\\"85\\\",\\\"86\\\",\\\"87\\\",\\\"88\\\",\\\"89\\\",\\\"90\\\",\\\"91\\\",\\\"92\\\",\\\"93\\\",\\\"94\\\",\\\"95\\\",\\\"96\\\",\\\"97\\\",\\\"98\\\",\\\"99\\\",\\\"100\\\",\\\"101\\\",\\\"102\\\",\\\"103\\\",\\\"104\\\",\\\"105\\\",\\\"106\\\",\\\"107\\\",\\\"108\\\",\\\"109\\\",\\\"110\\\",\\\"111\\\",\\\"112\\\",\\\"113\\\",\\\"114\\\",\\\"115\\\",\\\"116\\\",\\\"117\\\",\\\"118\\\",\\\"119\\\",\\\"120\\\",\\\"121\\\",\\\"122\\\",\\\"123\\\",\\\"124\\\",\\\"125\\\",\\\"126\\\",\\\"127\\\",\\\"128\\\",\\\"129\\\",\\\"130\\\",\\\"131\\\",\\\"132\\\",\\\"133\\\",\\\"134\\\",\\\"135\\\",\\\"136\\\",\\\"137\\\",\\\"138\\\",\\\"139\\\",\\\"140\\\",\\\"141\\\",\\\"142\\\",\\\"143\\\",\\\"144\\\",\\\"145\\\",\\\"146\\\",\\\"147\\\",\\\"148\\\",\\\"149\\\",\\\"150\\\",\\\"151\\\",\\\"152\\\",\\\"153\\\",\\\"154\\\",\\\"155\\\",\\\"156\\\",\\\"157\\\",\\\"158\\\",\\\"159\\\",\\\"160\\\",\\\"161\\\",\\\"162\\\",\\\"163\\\",\\\"164\\\",\\\"165\\\",\\\"166\\\",\\\"167\\\",\\\"168\\\",\\\"169\\\",\\\"170\\\",\\\"171\\\",\\\"172\\\",\\\"173\\\",\\\"174\\\",\\\"175\\\",\\\"176\\\",\\\"177\\\",\\\"178\\\",\\\"179\\\",\\\"180\\\",\\\"181\\\",\\\"182\\\",\\\"183\\\",\\\"184\\\",\\\"185\\\",\\\"186\\\",\\\"187\\\",\\\"188\\\",\\\"189\\\",\\\"190\\\",\\\"191\\\",\\\"192\\\",\\\"193\\\",\\\"194\\\",\\\"195\\\",\\\"196\\\",\\\"197\\\",\\\"198\\\",\\\"199\\\",\\\"200\\\",\\\"201\\\",\\\"202\\\",\\\"203\\\",\\\"204\\\",\\\"205\\\",\\\"206\\\",\\\"207\\\",\\\"208\\\",\\\"209\\\",\\\"210\\\",\\\"211\\\",\\\"212\\\",\\\"213\\\",\\\"214\\\",\\\"215\\\",\\\"216\\\",\\\"217\\\",\\\"218\\\",\\\"219\\\",\\\"220\\\",\\\"221\\\",\\\"222\\\",\\\"223\\\",\\\"224\\\",\\\"225\\\",\\\"226\\\",\\\"227\\\",\\\"228\\\",\\\"229\\\",\\\"230\\\",\\\"231\\\",\\\"232\\\",\\\"233\\\",\\\"234\\\",\\\"235\\\",\\\"236\\\",\\\"237\\\",\\\"238\\\",\\\"239\\\",\\\"240\\\",\\\"241\\\",\\\"242\\\",\\\"243\\\",\\\"244\\\",\\\"245\\\",\\\"246\\\",\\\"247\\\",\\\"248\\\",\\\"249\\\",\\\"250\\\",\\\"251\\\",\\\"252\\\",\\\"253\\\",\\\"254\\\",\\\"255\\\"],\\\"changes\\\":WebIO.getval({\\\"name\\\":\\\"changes\\\",\\\"scope\\\":\\\"8528768215057589373\\\",\\\"id\\\":\\\"32\\\",\\\"type\\\":\\\"observable\\\"}),\\\"index\\\":WebIO.getval({\\\"name\\\":\\\"index\\\",\\\"scope\\\":\\\"8528768215057589373\\\",\\\"id\\\":\\\"31\\\",\\\"type\\\":\\\"observable\\\"})};\\n    var self = this;\\n    function AppViewModel() {\\n        for (var key in json_data) {\\n            var el = json_data[key];\\n            this[key] = Array.isArray(el) ? ko.observableArray(el) : ko.observable(el);\\n        }\\n        \\n        [this[\\\"formatted_val\\\"]=ko.computed(    function(){\\n        return this.formatted_vals()[parseInt(this.index())-(0)];\\n    }\\n,this)]\\n        [this[\\\"changes\\\"].subscribe((function (val){!(this.valueFromJulia[\\\"changes\\\"]) ? (WebIO.setval({\\\"name\\\":\\\"changes\\\",\\\"scope\\\":\\\"8528768215057589373\\\",\\\"id\\\":\\\"32\\\",\\\"type\\\":\\\"observable\\\"},val)) : undefined; return this.valueFromJulia[\\\"changes\\\"]=false}),self),this[\\\"index\\\"].subscribe((function (val){!(this.valueFromJulia[\\\"index\\\"]) ? (WebIO.setval({\\\"name\\\":\\\"index\\\",\\\"scope\\\":\\\"8528768215057589373\\\",\\\"id\\\":\\\"31\\\",\\\"type\\\":\\\"observable\\\"},val)) : undefined; return this.valueFromJulia[\\\"index\\\"]=false}),self)]\\n        \\n    }\\n    self.model = new AppViewModel();\\n    self.valueFromJulia = {};\\n    for (var key in json_data) {\\n        self.valueFromJulia[key] = false;\\n    }\\n    ko.applyBindings(self.model, self.dom);\\n}\\n);\\n    (WebIO.importBlock({\\\"data\\\":[{\\\"name\\\":\\\"knockout\\\",\\\"type\\\":\\\"js\\\",\\\"url\\\":\\\"\\/assetserver\\/d0f67ea5103338bec547a71428bdbf3df4f08059-knockout.js\\\"},{\\\"name\\\":\\\"knockout_punches\\\",\\\"type\\\":\\\"js\\\",\\\"url\\\":\\\"\\/assetserver\\/e26f753938579e2287344150f7e368ac4b529445-knockout_punches.js\\\"}],\\\"type\\\":\\\"async_block\\\"})).then((imports) => handler.apply(this, imports));\\n}\\n\"],\"observables\":{\"changes\":{\"sync\":false,\"id\":\"32\",\"value\":0},\"index\":{\"sync\":false,\"id\":\"31\",\"value\":127}}},\"children\":[{\"props\":{\"className\":\"interact-flex-row interact-widget\"},\"nodeType\":\"DOM\",\"type\":\"node\",\"instanceArgs\":{\"namespace\":\"html\",\"tag\":\"div\"},\"children\":[{\"props\":{\"className\":\"interact-flex-row-left\"},\"nodeType\":\"DOM\",\"type\":\"node\",\"instanceArgs\":{\"namespace\":\"html\",\"tag\":\"div\"},\"children\":[{\"props\":{\"className\":\"interact \",\"style\":{\"padding\":\"5px 10px 0px 10px\"}},\"nodeType\":\"DOM\",\"type\":\"node\",\"instanceArgs\":{\"namespace\":\"html\",\"tag\":\"label\"},\"children\":[\"blue\"]}]},{\"props\":{\"className\":\"interact-flex-row-center\"},\"nodeType\":\"DOM\",\"type\":\"node\",\"instanceArgs\":{\"namespace\":\"html\",\"tag\":\"div\"},\"children\":[{\"props\":{\"max\":255,\"min\":0,\"attributes\":{\"type\":\"range\",\"data-bind\":\"numericValue: index, valueUpdate: 'input', event: {change: function (){this.changes(this.changes()+1)}}\",\"orient\":\"horizontal\"},\"step\":1,\"className\":\"slider slider is-fullwidth\",\"style\":{}},\"nodeType\":\"DOM\",\"type\":\"node\",\"instanceArgs\":{\"namespace\":\"html\",\"tag\":\"input\"},\"children\":[]}]},{\"props\":{\"className\":\"interact-flex-row-right\"},\"nodeType\":\"DOM\",\"type\":\"node\",\"instanceArgs\":{\"namespace\":\"html\",\"tag\":\"div\"},\"children\":[{\"props\":{\"attributes\":{\"data-bind\":\"text: formatted_val\"}},\"nodeType\":\"DOM\",\"type\":\"node\",\"instanceArgs\":{\"namespace\":\"html\",\"tag\":\"p\"},\"children\":[]}]}]}]}]},{\"props\":{\"className\":\"field interact-widget\"},\"nodeType\":\"DOM\",\"type\":\"node\",\"instanceArgs\":{\"namespace\":\"html\",\"tag\":\"div\"},\"children\":[{\"props\":{},\"nodeType\":\"Scope\",\"type\":\"node\",\"instanceArgs\":{\"imports\":{\"data\":[{\"name\":\"knockout\",\"type\":\"js\",\"url\":\"\\/assetserver\\/d0f67ea5103338bec547a71428bdbf3df4f08059-knockout.js\"},{\"name\":\"knockout_punches\",\"type\":\"js\",\"url\":\"\\/assetserver\\/e26f753938579e2287344150f7e368ac4b529445-knockout_punches.js\"},{\"name\":null,\"type\":\"js\",\"url\":\"\\/assetserver\\/f71b84de1a55136a6c3fa3ef48eef72511463954-all.js\"},{\"name\":null,\"type\":\"css\",\"url\":\"\\/assetserver\\/dfba341bd7a3bedeba9caeda5288e80d20d1c596-style.css\"},{\"name\":null,\"type\":\"css\",\"url\":\"\\/assetserver\\/53e68c0bec04ce908a124e6cd1565929ff6ce3a7-bulma_confined.min.css\"}],\"type\":\"async_block\"},\"id\":\"11494749977015943086\",\"handlers\":{\"loading\":[\"(function (val){return (val!=this.model[\\\"loading\\\"]()) ? (this.valueFromJulia[\\\"loading\\\"]=true, this.model[\\\"loading\\\"](val)) : undefined})\"],\"clicks\":[\"(function (val){return (val!=this.model[\\\"clicks\\\"]()) ? (this.valueFromJulia[\\\"clicks\\\"]=true, this.model[\\\"clicks\\\"](val)) : undefined})\"]},\"systemjs_options\":null,\"mount_callbacks\":[\"function () {\\n    var handler = (function (ko, koPunches) {\\n    ko.punches.enableAll();\\n    ko.bindingHandlers.numericValue = {\\n        init: function(element, valueAccessor, allBindings, data, context) {\\n            var stringified = ko.observable(ko.unwrap(valueAccessor()));\\n            stringified.subscribe(function(value) {\\n                var val = parseFloat(value);\\n                if (!isNaN(val)) {\\n                    valueAccessor()(val);\\n                }\\n            });\\n            valueAccessor().subscribe(function(value) {\\n                var str = JSON.stringify(value);\\n                if ((str == \\\"0\\\") && ([\\\"-0\\\", \\\"-0.\\\"].indexOf(stringified()) >= 0))\\n                     return;\\n                 if ([\\\"null\\\", \\\"\\\"].indexOf(str) >= 0)\\n                     return;\\n                stringified(str);\\n            });\\n            ko.applyBindingsToNode(\\n                element,\\n                {\\n                    value: stringified,\\n                    valueUpdate: allBindings.get('valueUpdate'),\\n                },\\n                context,\\n            );\\n        }\\n    };\\n    var json_data = {\\\"loading\\\":WebIO.getval({\\\"name\\\":\\\"loading\\\",\\\"scope\\\":\\\"11494749977015943086\\\",\\\"id\\\":\\\"34\\\",\\\"type\\\":\\\"observable\\\"}),\\\"clicks\\\":WebIO.getval({\\\"name\\\":\\\"clicks\\\",\\\"scope\\\":\\\"11494749977015943086\\\",\\\"id\\\":\\\"33\\\",\\\"type\\\":\\\"observable\\\"})};\\n    var self = this;\\n    function AppViewModel() {\\n        for (var key in json_data) {\\n            var el = json_data[key];\\n            this[key] = Array.isArray(el) ? ko.observableArray(el) : ko.observable(el);\\n        }\\n        \\n        \\n        [this[\\\"loading\\\"].subscribe((function (val){!(this.valueFromJulia[\\\"loading\\\"]) ? (WebIO.setval({\\\"name\\\":\\\"loading\\\",\\\"scope\\\":\\\"11494749977015943086\\\",\\\"id\\\":\\\"34\\\",\\\"type\\\":\\\"observable\\\"},val)) : undefined; return this.valueFromJulia[\\\"loading\\\"]=false}),self),this[\\\"clicks\\\"].subscribe((function (val){!(this.valueFromJulia[\\\"clicks\\\"]) ? (WebIO.setval({\\\"name\\\":\\\"clicks\\\",\\\"scope\\\":\\\"11494749977015943086\\\",\\\"id\\\":\\\"33\\\",\\\"type\\\":\\\"observable\\\"},val)) : undefined; return this.valueFromJulia[\\\"clicks\\\"]=false}),self)]\\n        \\n    }\\n    self.model = new AppViewModel();\\n    self.valueFromJulia = {};\\n    for (var key in json_data) {\\n        self.valueFromJulia[key] = false;\\n    }\\n    ko.applyBindings(self.model, self.dom);\\n}\\n);\\n    (WebIO.importBlock({\\\"data\\\":[{\\\"name\\\":\\\"knockout\\\",\\\"type\\\":\\\"js\\\",\\\"url\\\":\\\"\\/assetserver\\/d0f67ea5103338bec547a71428bdbf3df4f08059-knockout.js\\\"},{\\\"name\\\":\\\"knockout_punches\\\",\\\"type\\\":\\\"js\\\",\\\"url\\\":\\\"\\/assetserver\\/e26f753938579e2287344150f7e368ac4b529445-knockout_punches.js\\\"}],\\\"type\\\":\\\"async_block\\\"})).then((imports) => handler.apply(this, imports));\\n}\\n\"],\"observables\":{\"loading\":{\"sync\":false,\"id\":\"34\",\"value\":false},\"clicks\":{\"sync\":true,\"id\":\"33\",\"value\":0}}},\"children\":[{\"props\":{\"attributes\":{\"data-bind\":\"click: function (){this.clicks(this.clicks()+1)}, css: {'is-loading' : loading}\"},\"className\":\"is-medium button is-primary\",\"style\":{}},\"nodeType\":\"DOM\",\"type\":\"node\",\"instanceArgs\":{\"namespace\":\"html\",\"tag\":\"button\"},\"children\":[\"Update plot\"]}]}]}]}]},\n",
       "        window,\n",
       "    );\n",
       "    })()\n",
       "    </script>\n",
       "</div>\n"
      ],
      "text/plain": [
       "Node{WebIO.DOM}(WebIO.DOM(:html, :div), Any[Observable(Plot{Plots.GRBackend() n=1}), Node{WebIO.DOM}(WebIO.DOM(:html, :div), Any[Node{WebIO.DOM}(WebIO.DOM(:html, :div), Any[Scope(Node{WebIO.DOM}(WebIO.DOM(:html, :div), Any[Node{WebIO.DOM}(WebIO.DOM(:html, :div), Any[Node{WebIO.DOM}(WebIO.DOM(:html, :label), Any[\"red\"], Dict{Symbol, Any}(:className => \"interact \", :style => Dict{Any, Any}(:padding => \"5px 10px 0px 10px\")))], Dict{Symbol, Any}(:className => \"interact-flex-row-left\")), Node{WebIO.DOM}(WebIO.DOM(:html, :div), Any[Node{WebIO.DOM}(WebIO.DOM(:html, :input), Any[], Dict{Symbol, Any}(:max => 255, :min => 0, :attributes => Dict{Any, Any}(:type => \"range\", Symbol(\"data-bind\") => \"numericValue: index, valueUpdate: 'input', event: {change: function (){this.changes(this.changes()+1)}}\", \"orient\" => \"horizontal\"), :step => 1, :className => \"slider slider is-fullwidth\", :style => Dict{Any, Any}()))], Dict{Symbol, Any}(:className => \"interact-flex-row-center\")), Node{WebIO.DOM}(WebIO.DOM(:html, :div), Any[Node{WebIO.DOM}(WebIO.DOM(:html, :p), Any[], Dict{Symbol, Any}(:attributes => Dict(\"data-bind\" => \"text: formatted_val\")))], Dict{Symbol, Any}(:className => \"interact-flex-row-right\"))], Dict{Symbol, Any}(:className => \"interact-flex-row interact-widget\")), Dict{String, Tuple{AbstractObservable, Union{Nothing, Bool}}}(\"changes\" => (Observable(0), nothing), \"index\" => (Observable(127), nothing)), Set{String}(), nothing, Asset[Asset(\"js\", \"knockout\", \"/Users/emueller/.julia/packages/Knockout/HReiN/src/../assets/knockout.js\"), Asset(\"js\", \"knockout_punches\", \"/Users/emueller/.julia/packages/Knockout/HReiN/src/../assets/knockout_punches.js\"), Asset(\"js\", nothing, \"/Users/emueller/.julia/packages/InteractBase/LJXv3/src/../assets/all.js\"), Asset(\"css\", nothing, \"/Users/emueller/.julia/packages/InteractBase/LJXv3/src/../assets/style.css\"), Asset(\"css\", nothing, \"/Users/emueller/.julia/packages/Interact/PENUy/src/../assets/bulma_confined.min.css\")], Dict{Any, Any}(\"changes\" => Any[WebIO.JSString(\"(function (val){return (val!=this.model[\\\"changes\\\"]()) ? (this.valueFromJulia[\\\"changes\\\"]=true, this.model[\\\"changes\\\"](val)) : undefined})\")], \"index\" => Any[WebIO.JSString(\"(function (val){return (val!=this.model[\\\"index\\\"]()) ? (this.valueFromJulia[\\\"index\\\"]=true, this.model[\\\"index\\\"](val)) : undefined})\")]), WebIO.ConnectionPool(Channel{Any}(32), Set{AbstractConnection}(), Base.GenericCondition{ReentrantLock}(Base.IntrusiveLinkedList{Task}(Task (runnable) @0x000000014b428010, Task (runnable) @0x000000014b428010), ReentrantLock(nothing, 0x00000000, 0x00, Base.GenericCondition{Base.Threads.SpinLock}(Base.IntrusiveLinkedList{Task}(nothing, nothing), Base.Threads.SpinLock(0)), (0, 0, 141733920768)))), WebIO.JSString[WebIO.JSString(\"function () {\\n    var handler = (function (ko, koPunches) {\\n    ko.punches.enableAll();\\n    ko.bindingHandlers.numericValue = {\\n        init: function(element, valueAccessor, allBindings, data, context) {\\n            var stringified = ko.observable(ko.unwrap(valueAccessor()));\\n            stringified.subscribe(function(value) {\\n                var val = parseFloat(value);\\n                if (!isNaN(val)) {\\n                    valueAccessor()(val);\\n                }\\n            });\\n            valueAccessor().subscribe(function(value) {\\n                var str = JSON.stringify(value);\\n                if ((str == \\\"0\\\") && ([\\\"-0\\\", \\\"-0.\\\"].indexOf(stringified()) >= 0))\\n                     return;\\n                 if ([\\\"null\\\", \\\"\\\"].indexOf(str) >= 0)\\n                     return;\\n                stringified(str);\\n            });\\n            ko.applyBindingsToNode(\\n                element,\\n                {\\n                    value: stringified,\\n                    valueUpdate: allBindings.get('valueUpdate'),\\n                },\\n                context,\\n            );\\n        }\\n    };\\n    var json_data = {\\\"formatted_vals\\\":[\\\"0\\\",\\\"1\\\",\\\"2\\\",\\\"3\\\",\\\"4\\\",\\\"5\\\",\\\"6\\\",\\\"7\\\",\\\"8\\\",\\\"9\\\",\\\"10\\\",\\\"11\\\",\\\"12\\\",\\\"13\\\",\\\"14\\\",\\\"15\\\",\\\"16\\\",\\\"17\\\",\\\"18\\\",\\\"19\\\",\\\"20\\\",\\\"21\\\",\\\"22\\\",\\\"23\\\",\\\"24\\\",\\\"25\\\",\\\"26\\\",\\\"27\\\",\\\"28\\\",\\\"29\\\",\\\"30\\\",\\\"31\\\",\\\"32\\\",\\\"33\\\",\\\"34\\\",\\\"35\\\",\\\"36\\\",\\\"37\\\",\\\"38\\\",\\\"39\\\",\\\"40\\\",\\\"41\\\",\\\"42\\\",\\\"43\\\",\\\"44\\\",\\\"45\\\",\\\"46\\\",\\\"47\\\",\\\"48\\\",\\\"49\\\",\\\"50\\\",\\\"51\\\",\\\"52\\\",\\\"53\\\",\\\"54\\\",\\\"55\\\",\\\"56\\\",\\\"57\\\",\\\"58\\\",\\\"59\\\",\\\"60\\\",\\\"61\\\",\\\"62\\\",\\\"63\\\",\\\"64\\\",\\\"65\\\",\\\"66\\\",\\\"67\\\",\\\"68\\\",\\\"69\\\",\\\"70\\\",\\\"71\\\",\\\"72\\\",\\\"73\\\",\\\"74\\\",\\\"75\\\",\\\"76\\\",\\\"77\\\",\\\"78\\\",\\\"79\\\",\\\"80\\\",\\\"81\\\",\\\"82\\\",\\\"83\\\",\\\"84\\\",\\\"85\\\",\\\"86\\\",\\\"87\\\",\\\"88\\\",\\\"89\\\",\\\"90\\\",\\\"91\\\",\\\"92\\\",\\\"93\\\",\\\"94\\\",\\\"95\\\",\\\"96\\\",\\\"97\\\",\\\"98\\\",\\\"99\\\",\\\"100\\\",\\\"101\\\",\\\"102\\\",\\\"103\\\",\\\"104\\\",\\\"105\\\",\\\"106\\\",\\\"107\\\",\\\"108\\\",\\\"109\\\",\\\"110\\\",\\\"111\\\",\\\"112\\\",\\\"113\\\",\\\"114\\\",\\\"115\\\",\\\"116\\\",\\\"117\\\",\\\"118\\\",\\\"119\\\",\\\"120\\\",\\\"121\\\",\\\"122\\\",\\\"123\\\",\\\"124\\\",\\\"125\\\",\\\"126\\\",\\\"127\\\",\\\"128\\\",\\\"129\\\",\\\"130\\\",\\\"131\\\",\\\"132\\\",\\\"133\\\",\\\"134\\\",\\\"135\\\",\\\"136\\\",\\\"137\\\",\\\"138\\\",\\\"139\\\",\\\"140\\\",\\\"141\\\",\\\"142\\\",\\\"143\\\",\\\"144\\\",\\\"145\\\",\\\"146\\\",\\\"147\\\",\\\"148\\\",\\\"149\\\",\\\"150\\\",\\\"151\\\",\\\"152\\\",\\\"153\\\",\\\"154\\\",\\\"155\\\",\\\"156\\\",\\\"157\\\",\\\"158\\\",\\\"159\\\",\\\"160\\\",\\\"161\\\",\\\"162\\\",\\\"163\\\",\\\"164\\\",\\\"165\\\",\\\"166\\\",\\\"167\\\",\\\"168\\\",\\\"169\\\",\\\"170\\\",\\\"171\\\",\\\"172\\\",\\\"173\\\",\\\"174\\\",\\\"175\\\",\\\"176\\\",\\\"177\\\",\\\"178\\\",\\\"179\\\",\\\"180\\\",\\\"181\\\",\\\"182\\\",\\\"183\\\",\\\"184\\\",\\\"185\\\",\\\"186\\\",\\\"187\\\",\\\"188\\\",\\\"189\\\",\\\"190\\\",\\\"191\\\",\\\"192\\\",\\\"193\\\",\\\"194\\\",\\\"195\\\",\\\"196\\\",\\\"197\\\",\\\"198\\\",\\\"199\\\",\\\"200\\\",\\\"201\\\",\\\"202\\\",\\\"203\\\",\\\"204\\\",\\\"205\\\",\\\"206\\\",\\\"207\\\",\\\"208\\\",\\\"209\\\",\\\"210\\\",\\\"211\\\",\\\"212\\\",\\\"213\\\",\\\"214\\\",\\\"215\\\",\\\"216\\\",\\\"217\\\",\\\"218\\\",\\\"219\\\",\\\"220\\\",\\\"221\\\",\\\"222\\\",\\\"223\\\",\\\"224\\\",\\\"225\\\",\\\"226\\\",\\\"227\\\",\\\"228\\\",\\\"229\\\",\\\"230\\\",\\\"231\\\",\\\"232\\\",\\\"233\\\",\\\"234\\\",\\\"235\\\",\\\"236\\\",\\\"237\\\",\\\"238\\\",\\\"239\\\",\\\"240\\\",\\\"241\\\",\\\"242\\\",\\\"243\\\",\\\"244\\\",\\\"245\\\",\\\"246\\\",\\\"247\\\",\\\"248\\\",\\\"249\\\",\\\"250\\\",\\\"251\\\",\\\"252\\\",\\\"253\\\",\\\"254\\\",\\\"255\\\"],\\\"changes\\\":WebIO.getval({\\\"name\\\":\\\"changes\\\",\\\"scope\\\":\\\"1884056284353259339\\\",\\\"id\\\":\\\"28\\\",\\\"type\\\":\\\"observable\\\"}),\\\"index\\\":WebIO.getval({\\\"name\\\":\\\"index\\\",\\\"scope\\\":\\\"1884056284353259339\\\",\\\"id\\\":\\\"27\\\",\\\"type\\\":\\\"observable\\\"})};\\n    var self = this;\\n    function AppViewModel() {\\n        for (var key in json_data) {\\n            var el = json_data[key];\\n            this[key] = Array.isArray(el) ? ko.observableArray(el) : ko.observable(el);\\n        }\\n        \\n        [this[\\\"formatted_val\\\"]=ko.computed(    function(){\\n        return this.formatted_vals()[parseInt(this.index())-(0)];\\n    }\\n,this)]\\n        [this[\\\"changes\\\"].subscribe((function (val){!(this.valueFromJulia[\\\"changes\\\"]) ? (WebIO.setval({\\\"name\\\":\\\"changes\\\",\\\"scope\\\":\\\"1884056284353259339\\\",\\\"id\\\":\\\"28\\\",\\\"type\\\":\\\"observable\\\"},val)) : undefined; return this.valueFromJulia[\\\"changes\\\"]=false}),self),this[\\\"index\\\"].subscribe((function (val){!(this.valueFromJulia[\\\"index\\\"]) ? (WebIO.setval({\\\"name\\\":\\\"index\\\",\\\"scope\\\":\\\"1884056284353259339\\\",\\\"id\\\":\\\"27\\\",\\\"type\\\":\\\"observable\\\"},val)) : undefined; return this.valueFromJulia[\\\"index\\\"]=false}),self)]\\n        \\n    }\\n    self.model = new AppViewModel();\\n    self.valueFromJulia = {};\\n    for (var key in json_data) {\\n        self.valueFromJulia[key] = false;\\n    }\\n    ko.applyBindings(self.model, self.dom);\\n}\\n);\\n    (WebIO.importBlock({\\\"data\\\":[{\\\"name\\\":\\\"knockout\\\",\\\"type\\\":\\\"js\\\",\\\"url\\\":\\\"/assetserver/d0f67ea5103338bec547a71428bdbf3df4f08059-knockout.js\\\"},{\\\"name\\\":\\\"knockout_punches\\\",\\\"type\\\":\\\"js\\\",\\\"url\\\":\\\"/assetserver/e26f753938579e2287344150f7e368ac4b529445-knockout_punches.js\\\"}],\\\"type\\\":\\\"async_block\\\"})).then((imports) => handler.apply(this, imports));\\n}\\n\")])], Dict{Symbol, Any}(:className => \"field interact-widget\")), Node{WebIO.DOM}(WebIO.DOM(:html, :div), Any[Scope(Node{WebIO.DOM}(WebIO.DOM(:html, :div), Any[Node{WebIO.DOM}(WebIO.DOM(:html, :div), Any[Node{WebIO.DOM}(WebIO.DOM(:html, :label), Any[\"green\"], Dict{Symbol, Any}(:className => \"interact \", :style => Dict{Any, Any}(:padding => \"5px 10px 0px 10px\")))], Dict{Symbol, Any}(:className => \"interact-flex-row-left\")), Node{WebIO.DOM}(WebIO.DOM(:html, :div), Any[Node{WebIO.DOM}(WebIO.DOM(:html, :input), Any[], Dict{Symbol, Any}(:max => 255, :min => 0, :attributes => Dict{Any, Any}(:type => \"range\", Symbol(\"data-bind\") => \"numericValue: index, valueUpdate: 'input', event: {change: function (){this.changes(this.changes()+1)}}\", \"orient\" => \"horizontal\"), :step => 1, :className => \"slider slider is-fullwidth\", :style => Dict{Any, Any}()))], Dict{Symbol, Any}(:className => \"interact-flex-row-center\")), Node{WebIO.DOM}(WebIO.DOM(:html, :div), Any[Node{WebIO.DOM}(WebIO.DOM(:html, :p), Any[], Dict{Symbol, Any}(:attributes => Dict(\"data-bind\" => \"text: formatted_val\")))], Dict{Symbol, Any}(:className => \"interact-flex-row-right\"))], Dict{Symbol, Any}(:className => \"interact-flex-row interact-widget\")), Dict{String, Tuple{AbstractObservable, Union{Nothing, Bool}}}(\"changes\" => (Observable(0), nothing), \"index\" => (Observable(127), nothing)), Set{String}(), nothing, Asset[Asset(\"js\", \"knockout\", \"/Users/emueller/.julia/packages/Knockout/HReiN/src/../assets/knockout.js\"), Asset(\"js\", \"knockout_punches\", \"/Users/emueller/.julia/packages/Knockout/HReiN/src/../assets/knockout_punches.js\"), Asset(\"js\", nothing, \"/Users/emueller/.julia/packages/InteractBase/LJXv3/src/../assets/all.js\"), Asset(\"css\", nothing, \"/Users/emueller/.julia/packages/InteractBase/LJXv3/src/../assets/style.css\"), Asset(\"css\", nothing, \"/Users/emueller/.julia/packages/Interact/PENUy/src/../assets/bulma_confined.min.css\")], Dict{Any, Any}(\"changes\" => Any[WebIO.JSString(\"(function (val){return (val!=this.model[\\\"changes\\\"]()) ? (this.valueFromJulia[\\\"changes\\\"]=true, this.model[\\\"changes\\\"](val)) : undefined})\")], \"index\" => Any[WebIO.JSString(\"(function (val){return (val!=this.model[\\\"index\\\"]()) ? (this.valueFromJulia[\\\"index\\\"]=true, this.model[\\\"index\\\"](val)) : undefined})\")]), WebIO.ConnectionPool(Channel{Any}(32), Set{AbstractConnection}(), Base.GenericCondition{ReentrantLock}(Base.IntrusiveLinkedList{Task}(Task (runnable) @0x000000014b42a8b0, Task (runnable) @0x000000014b42a8b0), ReentrantLock(nothing, 0x00000000, 0x00, Base.GenericCondition{Base.Threads.SpinLock}(Base.IntrusiveLinkedList{Task}(nothing, nothing), Base.Threads.SpinLock(0)), (0, 0, 413367957081)))), WebIO.JSString[WebIO.JSString(\"function () {\\n    var handler = (function (ko, koPunches) {\\n    ko.punches.enableAll();\\n    ko.bindingHandlers.numericValue = {\\n        init: function(element, valueAccessor, allBindings, data, context) {\\n            var stringified = ko.observable(ko.unwrap(valueAccessor()));\\n            stringified.subscribe(function(value) {\\n                var val = parseFloat(value);\\n                if (!isNaN(val)) {\\n                    valueAccessor()(val);\\n                }\\n            });\\n            valueAccessor().subscribe(function(value) {\\n                var str = JSON.stringify(value);\\n                if ((str == \\\"0\\\") && ([\\\"-0\\\", \\\"-0.\\\"].indexOf(stringified()) >= 0))\\n                     return;\\n                 if ([\\\"null\\\", \\\"\\\"].indexOf(str) >= 0)\\n                     return;\\n                stringified(str);\\n            });\\n            ko.applyBindingsToNode(\\n                element,\\n                {\\n                    value: stringified,\\n                    valueUpdate: allBindings.get('valueUpdate'),\\n                },\\n                context,\\n            );\\n        }\\n    };\\n    var json_data = {\\\"formatted_vals\\\":[\\\"0\\\",\\\"1\\\",\\\"2\\\",\\\"3\\\",\\\"4\\\",\\\"5\\\",\\\"6\\\",\\\"7\\\",\\\"8\\\",\\\"9\\\",\\\"10\\\",\\\"11\\\",\\\"12\\\",\\\"13\\\",\\\"14\\\",\\\"15\\\",\\\"16\\\",\\\"17\\\",\\\"18\\\",\\\"19\\\",\\\"20\\\",\\\"21\\\",\\\"22\\\",\\\"23\\\",\\\"24\\\",\\\"25\\\",\\\"26\\\",\\\"27\\\",\\\"28\\\",\\\"29\\\",\\\"30\\\",\\\"31\\\",\\\"32\\\",\\\"33\\\",\\\"34\\\",\\\"35\\\",\\\"36\\\",\\\"37\\\",\\\"38\\\",\\\"39\\\",\\\"40\\\",\\\"41\\\",\\\"42\\\",\\\"43\\\",\\\"44\\\",\\\"45\\\",\\\"46\\\",\\\"47\\\",\\\"48\\\",\\\"49\\\",\\\"50\\\",\\\"51\\\",\\\"52\\\",\\\"53\\\",\\\"54\\\",\\\"55\\\",\\\"56\\\",\\\"57\\\",\\\"58\\\",\\\"59\\\",\\\"60\\\",\\\"61\\\",\\\"62\\\",\\\"63\\\",\\\"64\\\",\\\"65\\\",\\\"66\\\",\\\"67\\\",\\\"68\\\",\\\"69\\\",\\\"70\\\",\\\"71\\\",\\\"72\\\",\\\"73\\\",\\\"74\\\",\\\"75\\\",\\\"76\\\",\\\"77\\\",\\\"78\\\",\\\"79\\\",\\\"80\\\",\\\"81\\\",\\\"82\\\",\\\"83\\\",\\\"84\\\",\\\"85\\\",\\\"86\\\",\\\"87\\\",\\\"88\\\",\\\"89\\\",\\\"90\\\",\\\"91\\\",\\\"92\\\",\\\"93\\\",\\\"94\\\",\\\"95\\\",\\\"96\\\",\\\"97\\\",\\\"98\\\",\\\"99\\\",\\\"100\\\",\\\"101\\\",\\\"102\\\",\\\"103\\\",\\\"104\\\",\\\"105\\\",\\\"106\\\",\\\"107\\\",\\\"108\\\",\\\"109\\\",\\\"110\\\",\\\"111\\\",\\\"112\\\",\\\"113\\\",\\\"114\\\",\\\"115\\\",\\\"116\\\",\\\"117\\\",\\\"118\\\",\\\"119\\\",\\\"120\\\",\\\"121\\\",\\\"122\\\",\\\"123\\\",\\\"124\\\",\\\"125\\\",\\\"126\\\",\\\"127\\\",\\\"128\\\",\\\"129\\\",\\\"130\\\",\\\"131\\\",\\\"132\\\",\\\"133\\\",\\\"134\\\",\\\"135\\\",\\\"136\\\",\\\"137\\\",\\\"138\\\",\\\"139\\\",\\\"140\\\",\\\"141\\\",\\\"142\\\",\\\"143\\\",\\\"144\\\",\\\"145\\\",\\\"146\\\",\\\"147\\\",\\\"148\\\",\\\"149\\\",\\\"150\\\",\\\"151\\\",\\\"152\\\",\\\"153\\\",\\\"154\\\",\\\"155\\\",\\\"156\\\",\\\"157\\\",\\\"158\\\",\\\"159\\\",\\\"160\\\",\\\"161\\\",\\\"162\\\",\\\"163\\\",\\\"164\\\",\\\"165\\\",\\\"166\\\",\\\"167\\\",\\\"168\\\",\\\"169\\\",\\\"170\\\",\\\"171\\\",\\\"172\\\",\\\"173\\\",\\\"174\\\",\\\"175\\\",\\\"176\\\",\\\"177\\\",\\\"178\\\",\\\"179\\\",\\\"180\\\",\\\"181\\\",\\\"182\\\",\\\"183\\\",\\\"184\\\",\\\"185\\\",\\\"186\\\",\\\"187\\\",\\\"188\\\",\\\"189\\\",\\\"190\\\",\\\"191\\\",\\\"192\\\",\\\"193\\\",\\\"194\\\",\\\"195\\\",\\\"196\\\",\\\"197\\\",\\\"198\\\",\\\"199\\\",\\\"200\\\",\\\"201\\\",\\\"202\\\",\\\"203\\\",\\\"204\\\",\\\"205\\\",\\\"206\\\",\\\"207\\\",\\\"208\\\",\\\"209\\\",\\\"210\\\",\\\"211\\\",\\\"212\\\",\\\"213\\\",\\\"214\\\",\\\"215\\\",\\\"216\\\",\\\"217\\\",\\\"218\\\",\\\"219\\\",\\\"220\\\",\\\"221\\\",\\\"222\\\",\\\"223\\\",\\\"224\\\",\\\"225\\\",\\\"226\\\",\\\"227\\\",\\\"228\\\",\\\"229\\\",\\\"230\\\",\\\"231\\\",\\\"232\\\",\\\"233\\\",\\\"234\\\",\\\"235\\\",\\\"236\\\",\\\"237\\\",\\\"238\\\",\\\"239\\\",\\\"240\\\",\\\"241\\\",\\\"242\\\",\\\"243\\\",\\\"244\\\",\\\"245\\\",\\\"246\\\",\\\"247\\\",\\\"248\\\",\\\"249\\\",\\\"250\\\",\\\"251\\\",\\\"252\\\",\\\"253\\\",\\\"254\\\",\\\"255\\\"],\\\"changes\\\":WebIO.getval({\\\"name\\\":\\\"changes\\\",\\\"scope\\\":\\\"8026148881030119543\\\",\\\"id\\\":\\\"30\\\",\\\"type\\\":\\\"observable\\\"}),\\\"index\\\":WebIO.getval({\\\"name\\\":\\\"index\\\",\\\"scope\\\":\\\"8026148881030119543\\\",\\\"id\\\":\\\"29\\\",\\\"type\\\":\\\"observable\\\"})};\\n    var self = this;\\n    function AppViewModel() {\\n        for (var key in json_data) {\\n            var el = json_data[key];\\n            this[key] = Array.isArray(el) ? ko.observableArray(el) : ko.observable(el);\\n        }\\n        \\n        [this[\\\"formatted_val\\\"]=ko.computed(    function(){\\n        return this.formatted_vals()[parseInt(this.index())-(0)];\\n    }\\n,this)]\\n        [this[\\\"changes\\\"].subscribe((function (val){!(this.valueFromJulia[\\\"changes\\\"]) ? (WebIO.setval({\\\"name\\\":\\\"changes\\\",\\\"scope\\\":\\\"8026148881030119543\\\",\\\"id\\\":\\\"30\\\",\\\"type\\\":\\\"observable\\\"},val)) : undefined; return this.valueFromJulia[\\\"changes\\\"]=false}),self),this[\\\"index\\\"].subscribe((function (val){!(this.valueFromJulia[\\\"index\\\"]) ? (WebIO.setval({\\\"name\\\":\\\"index\\\",\\\"scope\\\":\\\"8026148881030119543\\\",\\\"id\\\":\\\"29\\\",\\\"type\\\":\\\"observable\\\"},val)) : undefined; return this.valueFromJulia[\\\"index\\\"]=false}),self)]\\n        \\n    }\\n    self.model = new AppViewModel();\\n    self.valueFromJulia = {};\\n    for (var key in json_data) {\\n        self.valueFromJulia[key] = false;\\n    }\\n    ko.applyBindings(self.model, self.dom);\\n}\\n);\\n    (WebIO.importBlock({\\\"data\\\":[{\\\"name\\\":\\\"knockout\\\",\\\"type\\\":\\\"js\\\",\\\"url\\\":\\\"/assetserver/d0f67ea5103338bec547a71428bdbf3df4f08059-knockout.js\\\"},{\\\"name\\\":\\\"knockout_punches\\\",\\\"type\\\":\\\"js\\\",\\\"url\\\":\\\"/assetserver/e26f753938579e2287344150f7e368ac4b529445-knockout_punches.js\\\"}],\\\"type\\\":\\\"async_block\\\"})).then((imports) => handler.apply(this, imports));\\n}\\n\")])], Dict{Symbol, Any}(:className => \"field interact-widget\")), Node{WebIO.DOM}(WebIO.DOM(:html, :div), Any[Scope(Node{WebIO.DOM}(WebIO.DOM(:html, :div), Any[Node{WebIO.DOM}(WebIO.DOM(:html, :div), Any[Node{WebIO.DOM}(WebIO.DOM(:html, :label), Any[\"blue\"], Dict{Symbol, Any}(:className => \"interact \", :style => Dict{Any, Any}(:padding => \"5px 10px 0px 10px\")))], Dict{Symbol, Any}(:className => \"interact-flex-row-left\")), Node{WebIO.DOM}(WebIO.DOM(:html, :div), Any[Node{WebIO.DOM}(WebIO.DOM(:html, :input), Any[], Dict{Symbol, Any}(:max => 255, :min => 0, :attributes => Dict{Any, Any}(:type => \"range\", Symbol(\"data-bind\") => \"numericValue: index, valueUpdate: 'input', event: {change: function (){this.changes(this.changes()+1)}}\", \"orient\" => \"horizontal\"), :step => 1, :className => \"slider slider is-fullwidth\", :style => Dict{Any, Any}()))], Dict{Symbol, Any}(:className => \"interact-flex-row-center\")), Node{WebIO.DOM}(WebIO.DOM(:html, :div), Any[Node{WebIO.DOM}(WebIO.DOM(:html, :p), Any[], Dict{Symbol, Any}(:attributes => Dict(\"data-bind\" => \"text: formatted_val\")))], Dict{Symbol, Any}(:className => \"interact-flex-row-right\"))], Dict{Symbol, Any}(:className => \"interact-flex-row interact-widget\")), Dict{String, Tuple{AbstractObservable, Union{Nothing, Bool}}}(\"changes\" => (Observable(0), nothing), \"index\" => (Observable(127), nothing)), Set{String}(), nothing, Asset[Asset(\"js\", \"knockout\", \"/Users/emueller/.julia/packages/Knockout/HReiN/src/../assets/knockout.js\"), Asset(\"js\", \"knockout_punches\", \"/Users/emueller/.julia/packages/Knockout/HReiN/src/../assets/knockout_punches.js\"), Asset(\"js\", nothing, \"/Users/emueller/.julia/packages/InteractBase/LJXv3/src/../assets/all.js\"), Asset(\"css\", nothing, \"/Users/emueller/.julia/packages/InteractBase/LJXv3/src/../assets/style.css\"), Asset(\"css\", nothing, \"/Users/emueller/.julia/packages/Interact/PENUy/src/../assets/bulma_confined.min.css\")], Dict{Any, Any}(\"changes\" => Any[WebIO.JSString(\"(function (val){return (val!=this.model[\\\"changes\\\"]()) ? (this.valueFromJulia[\\\"changes\\\"]=true, this.model[\\\"changes\\\"](val)) : undefined})\")], \"index\" => Any[WebIO.JSString(\"(function (val){return (val!=this.model[\\\"index\\\"]()) ? (this.valueFromJulia[\\\"index\\\"]=true, this.model[\\\"index\\\"](val)) : undefined})\")]), WebIO.ConnectionPool(Channel{Any}(32), Set{AbstractConnection}(), Base.GenericCondition{ReentrantLock}(Base.IntrusiveLinkedList{Task}(Task (runnable) @0x000000014b481140, Task (runnable) @0x000000014b481140), ReentrantLock(nothing, 0x00000000, 0x00, Base.GenericCondition{Base.Threads.SpinLock}(Base.IntrusiveLinkedList{Task}(nothing, nothing), Base.Threads.SpinLock(0)), (8, 4766206352, 0)))), WebIO.JSString[WebIO.JSString(\"function () {\\n    var handler = (function (ko, koPunches) {\\n    ko.punches.enableAll();\\n    ko.bindingHandlers.numericValue = {\\n        init: function(element, valueAccessor, allBindings, data, context) {\\n            var stringified = ko.observable(ko.unwrap(valueAccessor()));\\n            stringified.subscribe(function(value) {\\n                var val = parseFloat(value);\\n                if (!isNaN(val)) {\\n                    valueAccessor()(val);\\n                }\\n            });\\n            valueAccessor().subscribe(function(value) {\\n                var str = JSON.stringify(value);\\n                if ((str == \\\"0\\\") && ([\\\"-0\\\", \\\"-0.\\\"].indexOf(stringified()) >= 0))\\n                     return;\\n                 if ([\\\"null\\\", \\\"\\\"].indexOf(str) >= 0)\\n                     return;\\n                stringified(str);\\n            });\\n            ko.applyBindingsToNode(\\n                element,\\n                {\\n                    value: stringified,\\n                    valueUpdate: allBindings.get('valueUpdate'),\\n                },\\n                context,\\n            );\\n        }\\n    };\\n    var json_data = {\\\"formatted_vals\\\":[\\\"0\\\",\\\"1\\\",\\\"2\\\",\\\"3\\\",\\\"4\\\",\\\"5\\\",\\\"6\\\",\\\"7\\\",\\\"8\\\",\\\"9\\\",\\\"10\\\",\\\"11\\\",\\\"12\\\",\\\"13\\\",\\\"14\\\",\\\"15\\\",\\\"16\\\",\\\"17\\\",\\\"18\\\",\\\"19\\\",\\\"20\\\",\\\"21\\\",\\\"22\\\",\\\"23\\\",\\\"24\\\",\\\"25\\\",\\\"26\\\",\\\"27\\\",\\\"28\\\",\\\"29\\\",\\\"30\\\",\\\"31\\\",\\\"32\\\",\\\"33\\\",\\\"34\\\",\\\"35\\\",\\\"36\\\",\\\"37\\\",\\\"38\\\",\\\"39\\\",\\\"40\\\",\\\"41\\\",\\\"42\\\",\\\"43\\\",\\\"44\\\",\\\"45\\\",\\\"46\\\",\\\"47\\\",\\\"48\\\",\\\"49\\\",\\\"50\\\",\\\"51\\\",\\\"52\\\",\\\"53\\\",\\\"54\\\",\\\"55\\\",\\\"56\\\",\\\"57\\\",\\\"58\\\",\\\"59\\\",\\\"60\\\",\\\"61\\\",\\\"62\\\",\\\"63\\\",\\\"64\\\",\\\"65\\\",\\\"66\\\",\\\"67\\\",\\\"68\\\",\\\"69\\\",\\\"70\\\",\\\"71\\\",\\\"72\\\",\\\"73\\\",\\\"74\\\",\\\"75\\\",\\\"76\\\",\\\"77\\\",\\\"78\\\",\\\"79\\\",\\\"80\\\",\\\"81\\\",\\\"82\\\",\\\"83\\\",\\\"84\\\",\\\"85\\\",\\\"86\\\",\\\"87\\\",\\\"88\\\",\\\"89\\\",\\\"90\\\",\\\"91\\\",\\\"92\\\",\\\"93\\\",\\\"94\\\",\\\"95\\\",\\\"96\\\",\\\"97\\\",\\\"98\\\",\\\"99\\\",\\\"100\\\",\\\"101\\\",\\\"102\\\",\\\"103\\\",\\\"104\\\",\\\"105\\\",\\\"106\\\",\\\"107\\\",\\\"108\\\",\\\"109\\\",\\\"110\\\",\\\"111\\\",\\\"112\\\",\\\"113\\\",\\\"114\\\",\\\"115\\\",\\\"116\\\",\\\"117\\\",\\\"118\\\",\\\"119\\\",\\\"120\\\",\\\"121\\\",\\\"122\\\",\\\"123\\\",\\\"124\\\",\\\"125\\\",\\\"126\\\",\\\"127\\\",\\\"128\\\",\\\"129\\\",\\\"130\\\",\\\"131\\\",\\\"132\\\",\\\"133\\\",\\\"134\\\",\\\"135\\\",\\\"136\\\",\\\"137\\\",\\\"138\\\",\\\"139\\\",\\\"140\\\",\\\"141\\\",\\\"142\\\",\\\"143\\\",\\\"144\\\",\\\"145\\\",\\\"146\\\",\\\"147\\\",\\\"148\\\",\\\"149\\\",\\\"150\\\",\\\"151\\\",\\\"152\\\",\\\"153\\\",\\\"154\\\",\\\"155\\\",\\\"156\\\",\\\"157\\\",\\\"158\\\",\\\"159\\\",\\\"160\\\",\\\"161\\\",\\\"162\\\",\\\"163\\\",\\\"164\\\",\\\"165\\\",\\\"166\\\",\\\"167\\\",\\\"168\\\",\\\"169\\\",\\\"170\\\",\\\"171\\\",\\\"172\\\",\\\"173\\\",\\\"174\\\",\\\"175\\\",\\\"176\\\",\\\"177\\\",\\\"178\\\",\\\"179\\\",\\\"180\\\",\\\"181\\\",\\\"182\\\",\\\"183\\\",\\\"184\\\",\\\"185\\\",\\\"186\\\",\\\"187\\\",\\\"188\\\",\\\"189\\\",\\\"190\\\",\\\"191\\\",\\\"192\\\",\\\"193\\\",\\\"194\\\",\\\"195\\\",\\\"196\\\",\\\"197\\\",\\\"198\\\",\\\"199\\\",\\\"200\\\",\\\"201\\\",\\\"202\\\",\\\"203\\\",\\\"204\\\",\\\"205\\\",\\\"206\\\",\\\"207\\\",\\\"208\\\",\\\"209\\\",\\\"210\\\",\\\"211\\\",\\\"212\\\",\\\"213\\\",\\\"214\\\",\\\"215\\\",\\\"216\\\",\\\"217\\\",\\\"218\\\",\\\"219\\\",\\\"220\\\",\\\"221\\\",\\\"222\\\",\\\"223\\\",\\\"224\\\",\\\"225\\\",\\\"226\\\",\\\"227\\\",\\\"228\\\",\\\"229\\\",\\\"230\\\",\\\"231\\\",\\\"232\\\",\\\"233\\\",\\\"234\\\",\\\"235\\\",\\\"236\\\",\\\"237\\\",\\\"238\\\",\\\"239\\\",\\\"240\\\",\\\"241\\\",\\\"242\\\",\\\"243\\\",\\\"244\\\",\\\"245\\\",\\\"246\\\",\\\"247\\\",\\\"248\\\",\\\"249\\\",\\\"250\\\",\\\"251\\\",\\\"252\\\",\\\"253\\\",\\\"254\\\",\\\"255\\\"],\\\"changes\\\":WebIO.getval({\\\"name\\\":\\\"changes\\\",\\\"scope\\\":\\\"8528768215057589373\\\",\\\"id\\\":\\\"32\\\",\\\"type\\\":\\\"observable\\\"}),\\\"index\\\":WebIO.getval({\\\"name\\\":\\\"index\\\",\\\"scope\\\":\\\"8528768215057589373\\\",\\\"id\\\":\\\"31\\\",\\\"type\\\":\\\"observable\\\"})};\\n    var self = this;\\n    function AppViewModel() {\\n        for (var key in json_data) {\\n            var el = json_data[key];\\n            this[key] = Array.isArray(el) ? ko.observableArray(el) : ko.observable(el);\\n        }\\n        \\n        [this[\\\"formatted_val\\\"]=ko.computed(    function(){\\n        return this.formatted_vals()[parseInt(this.index())-(0)];\\n    }\\n,this)]\\n        [this[\\\"changes\\\"].subscribe((function (val){!(this.valueFromJulia[\\\"changes\\\"]) ? (WebIO.setval({\\\"name\\\":\\\"changes\\\",\\\"scope\\\":\\\"8528768215057589373\\\",\\\"id\\\":\\\"32\\\",\\\"type\\\":\\\"observable\\\"},val)) : undefined; return this.valueFromJulia[\\\"changes\\\"]=false}),self),this[\\\"index\\\"].subscribe((function (val){!(this.valueFromJulia[\\\"index\\\"]) ? (WebIO.setval({\\\"name\\\":\\\"index\\\",\\\"scope\\\":\\\"8528768215057589373\\\",\\\"id\\\":\\\"31\\\",\\\"type\\\":\\\"observable\\\"},val)) : undefined; return this.valueFromJulia[\\\"index\\\"]=false}),self)]\\n        \\n    }\\n    self.model = new AppViewModel();\\n    self.valueFromJulia = {};\\n    for (var key in json_data) {\\n        self.valueFromJulia[key] = false;\\n    }\\n    ko.applyBindings(self.model, self.dom);\\n}\\n);\\n    (WebIO.importBlock({\\\"data\\\":[{\\\"name\\\":\\\"knockout\\\",\\\"type\\\":\\\"js\\\",\\\"url\\\":\\\"/assetserver/d0f67ea5103338bec547a71428bdbf3df4f08059-knockout.js\\\"},{\\\"name\\\":\\\"knockout_punches\\\",\\\"type\\\":\\\"js\\\",\\\"url\\\":\\\"/assetserver/e26f753938579e2287344150f7e368ac4b529445-knockout_punches.js\\\"}],\\\"type\\\":\\\"async_block\\\"})).then((imports) => handler.apply(this, imports));\\n}\\n\")])], Dict{Symbol, Any}(:className => \"field interact-widget\")), Node{WebIO.DOM}(WebIO.DOM(:html, :div), Any[Scope(Node{WebIO.DOM}(WebIO.DOM(:html, :button), Any[\"Update plot\"], Dict{Symbol, Any}(:attributes => Dict{Any, Any}(\"data-bind\" => \"click: function (){this.clicks(this.clicks()+1)}, css: {'is-loading' : loading}\"), :className => \"is-medium button is-primary\", :style => Dict{String, Any}())), Dict{String, Tuple{AbstractObservable, Union{Nothing, Bool}}}(\"loading\" => (Observable(false), nothing), \"clicks\" => (Observable(0), nothing)), Set{String}(), nothing, Asset[Asset(\"js\", \"knockout\", \"/Users/emueller/.julia/packages/Knockout/HReiN/src/../assets/knockout.js\"), Asset(\"js\", \"knockout_punches\", \"/Users/emueller/.julia/packages/Knockout/HReiN/src/../assets/knockout_punches.js\"), Asset(\"js\", nothing, \"/Users/emueller/.julia/packages/InteractBase/LJXv3/src/../assets/all.js\"), Asset(\"css\", nothing, \"/Users/emueller/.julia/packages/InteractBase/LJXv3/src/../assets/style.css\"), Asset(\"css\", nothing, \"/Users/emueller/.julia/packages/Interact/PENUy/src/../assets/bulma_confined.min.css\")], Dict{Any, Any}(\"loading\" => Any[WebIO.JSString(\"(function (val){return (val!=this.model[\\\"loading\\\"]()) ? (this.valueFromJulia[\\\"loading\\\"]=true, this.model[\\\"loading\\\"](val)) : undefined})\")], \"clicks\" => Any[WebIO.JSString(\"(function (val){return (val!=this.model[\\\"clicks\\\"]()) ? (this.valueFromJulia[\\\"clicks\\\"]=true, this.model[\\\"clicks\\\"](val)) : undefined})\")]), WebIO.ConnectionPool(Channel{Any}(32), Set{AbstractConnection}(), Base.GenericCondition{ReentrantLock}(Base.IntrusiveLinkedList{Task}(Task (runnable) @0x00000002a125dc30, Task (runnable) @0x00000002a125dc30), ReentrantLock(nothing, 0x00000000, 0x00, Base.GenericCondition{Base.Threads.SpinLock}(Base.IntrusiveLinkedList{Task}(nothing, nothing), Base.Threads.SpinLock(0)), (8, 0, 141733920768)))), WebIO.JSString[WebIO.JSString(\"function () {\\n    var handler = (function (ko, koPunches) {\\n    ko.punches.enableAll();\\n    ko.bindingHandlers.numericValue = {\\n        init: function(element, valueAccessor, allBindings, data, context) {\\n            var stringified = ko.observable(ko.unwrap(valueAccessor()));\\n            stringified.subscribe(function(value) {\\n                var val = parseFloat(value);\\n                if (!isNaN(val)) {\\n                    valueAccessor()(val);\\n                }\\n            });\\n            valueAccessor().subscribe(function(value) {\\n                var str = JSON.stringify(value);\\n                if ((str == \\\"0\\\") && ([\\\"-0\\\", \\\"-0.\\\"].indexOf(stringified()) >= 0))\\n                     return;\\n                 if ([\\\"null\\\", \\\"\\\"].indexOf(str) >= 0)\\n                     return;\\n                stringified(str);\\n            });\\n            ko.applyBindingsToNode(\\n                element,\\n                {\\n                    value: stringified,\\n                    valueUpdate: allBindings.get('valueUpdate'),\\n                },\\n                context,\\n            );\\n        }\\n    };\\n    var json_data = {\\\"loading\\\":WebIO.getval({\\\"name\\\":\\\"loading\\\",\\\"scope\\\":\\\"11494749977015943086\\\",\\\"id\\\":\\\"34\\\",\\\"type\\\":\\\"observable\\\"}),\\\"clicks\\\":WebIO.getval({\\\"name\\\":\\\"clicks\\\",\\\"scope\\\":\\\"11494749977015943086\\\",\\\"id\\\":\\\"33\\\",\\\"type\\\":\\\"observable\\\"})};\\n    var self = this;\\n    function AppViewModel() {\\n        for (var key in json_data) {\\n            var el = json_data[key];\\n            this[key] = Array.isArray(el) ? ko.observableArray(el) : ko.observable(el);\\n        }\\n        \\n        \\n        [this[\\\"loading\\\"].subscribe((function (val){!(this.valueFromJulia[\\\"loading\\\"]) ? (WebIO.setval({\\\"name\\\":\\\"loading\\\",\\\"scope\\\":\\\"11494749977015943086\\\",\\\"id\\\":\\\"34\\\",\\\"type\\\":\\\"observable\\\"},val)) : undefined; return this.valueFromJulia[\\\"loading\\\"]=false}),self),this[\\\"clicks\\\"].subscribe((function (val){!(this.valueFromJulia[\\\"clicks\\\"]) ? (WebIO.setval({\\\"name\\\":\\\"clicks\\\",\\\"scope\\\":\\\"11494749977015943086\\\",\\\"id\\\":\\\"33\\\",\\\"type\\\":\\\"observable\\\"},val)) : undefined; return this.valueFromJulia[\\\"clicks\\\"]=false}),self)]\\n        \\n    }\\n    self.model = new AppViewModel();\\n    self.valueFromJulia = {};\\n    for (var key in json_data) {\\n        self.valueFromJulia[key] = false;\\n    }\\n    ko.applyBindings(self.model, self.dom);\\n}\\n);\\n    (WebIO.importBlock({\\\"data\\\":[{\\\"name\\\":\\\"knockout\\\",\\\"type\\\":\\\"js\\\",\\\"url\\\":\\\"/assetserver/d0f67ea5103338bec547a71428bdbf3df4f08059-knockout.js\\\"},{\\\"name\\\":\\\"knockout_punches\\\",\\\"type\\\":\\\"js\\\",\\\"url\\\":\\\"/assetserver/e26f753938579e2287344150f7e368ac4b529445-knockout_punches.js\\\"}],\\\"type\\\":\\\"async_block\\\"})).then((imports) => handler.apply(this, imports));\\n}\\n\")])], Dict{Symbol, Any}(:className => \"field interact-widget\"))], Dict{Symbol, Any}(:style => Dict(\"display\" => \"flex\", \"flex-direction\" => \"column\")))], Dict{Symbol, Any}(:style => Dict(\"display\" => \"flex\", \"flex-direction\" => \"row\")))"
      ]
     },
     "execution_count": 23,
     "metadata": {
      "application/vnd.webio.node+json": {
       "kernelId": "456cb6c0-a4d4-414f-9e24-5bd635f6d622"
      }
     },
     "output_type": "execute_result"
    }
   ],
   "source": [
    "mycolorpicker()"
   ]
  },
  {
   "cell_type": "markdown",
   "metadata": {},
   "source": [
    "Note the `&r` syntax: it means automatically update the widget as soon as the\n",
    "slider changes value. See `Interact.@map` for more details.\n",
    "If instead we wanted to only update the plot when a button is pressed we would do:"
   ]
  },
  {
   "cell_type": "code",
   "execution_count": 22,
   "metadata": {},
   "outputs": [
    {
     "data": {
      "text/plain": [
       "mycolorpicker (generic function with 1 method)"
      ]
     },
     "execution_count": 22,
     "metadata": {},
     "output_type": "execute_result"
    }
   ],
   "source": [
    "function mycolorpicker()\n",
    "    r = slider(0:255, label = \"red\")\n",
    "    g = slider(0:255, label = \"green\")\n",
    "    b = slider(0:255, label = \"blue\")\n",
    "    update = button(\"Update plot\")\n",
    "    output = Interact.@map (&update; Colors.RGB(r[]/255, g[]/255, b[]/255))\n",
    "    plt = Interact.@map plot(sin, color = &output)\n",
    "    wdg = Widget([\"r\" => r, \"g\" => g, \"b\" => b, \"update\" => update], output = output)\n",
    "    @layout! wdg hbox(plt, vbox(:r, :g, :b, :update)) ## custom layout: by default things are stacked vertically\n",
    "end"
   ]
  },
  {
   "cell_type": "markdown",
   "metadata": {},
   "source": [
    "## A simpler approach for simpler cases\n",
    "\n",
    "While the approach sketched above works for all sorts of situations, there is a specific macro to simplify it in some specific case. If you just want to update some result (maybe a plot) as a function of some parameters (discrete or continuous) simply write `@manipulate` before the `for` loop. Discrete parameters will be replaced by `togglebuttons` and continuous parameters by `slider`: the result will be updated as soon as you click on a button or move the slider:"
   ]
  },
  {
   "cell_type": "code",
   "execution_count": 24,
   "metadata": {},
   "outputs": [
    {
     "data": {
      "application/vnd.webio.node+json": {
       "children": [
        {
         "children": [
          {
           "children": [
            {
             "children": [
              {
               "children": [
                {
                 "children": [
                  "nsamples"
                 ],
                 "instanceArgs": {
                  "namespace": "html",
                  "tag": "label"
                 },
                 "nodeType": "DOM",
                 "props": {
                  "className": "interact ",
                  "style": {
                   "padding": "5px 10px 0px 10px"
                  }
                 },
                 "type": "node"
                }
               ],
               "instanceArgs": {
                "namespace": "html",
                "tag": "div"
               },
               "nodeType": "DOM",
               "props": {
                "className": "interact-flex-row-left"
               },
               "type": "node"
              },
              {
               "children": [
                {
                 "children": [],
                 "instanceArgs": {
                  "namespace": "html",
                  "tag": "input"
                 },
                 "nodeType": "DOM",
                 "props": {
                  "attributes": {
                   "data-bind": "numericValue: index, valueUpdate: 'input', event: {change: function (){this.changes(this.changes()+1)}}",
                   "orient": "horizontal",
                   "type": "range"
                  },
                  "className": "slider slider is-fullwidth",
                  "max": 200,
                  "min": 1,
                  "step": 1,
                  "style": {}
                 },
                 "type": "node"
                }
               ],
               "instanceArgs": {
                "namespace": "html",
                "tag": "div"
               },
               "nodeType": "DOM",
               "props": {
                "className": "interact-flex-row-center"
               },
               "type": "node"
              },
              {
               "children": [
                {
                 "children": [],
                 "instanceArgs": {
                  "namespace": "html",
                  "tag": "p"
                 },
                 "nodeType": "DOM",
                 "props": {
                  "attributes": {
                   "data-bind": "text: formatted_val"
                  }
                 },
                 "type": "node"
                }
               ],
               "instanceArgs": {
                "namespace": "html",
                "tag": "div"
               },
               "nodeType": "DOM",
               "props": {
                "className": "interact-flex-row-right"
               },
               "type": "node"
              }
             ],
             "instanceArgs": {
              "namespace": "html",
              "tag": "div"
             },
             "nodeType": "DOM",
             "props": {
              "className": "interact-flex-row interact-widget"
             },
             "type": "node"
            }
           ],
           "instanceArgs": {
            "handlers": {
             "changes": [
              "(function (val){return (val!=this.model[\"changes\"]()) ? (this.valueFromJulia[\"changes\"]=true, this.model[\"changes\"](val)) : undefined})"
             ],
             "index": [
              "(function (val){return (val!=this.model[\"index\"]()) ? (this.valueFromJulia[\"index\"]=true, this.model[\"index\"](val)) : undefined})"
             ]
            },
            "id": "4345376710634941430",
            "imports": {
             "data": [
              {
               "name": "knockout",
               "type": "js",
               "url": "/assetserver/d0f67ea5103338bec547a71428bdbf3df4f08059-knockout.js"
              },
              {
               "name": "knockout_punches",
               "type": "js",
               "url": "/assetserver/e26f753938579e2287344150f7e368ac4b529445-knockout_punches.js"
              },
              {
               "name": null,
               "type": "js",
               "url": "/assetserver/f71b84de1a55136a6c3fa3ef48eef72511463954-all.js"
              },
              {
               "name": null,
               "type": "css",
               "url": "/assetserver/dfba341bd7a3bedeba9caeda5288e80d20d1c596-style.css"
              },
              {
               "name": null,
               "type": "css",
               "url": "/assetserver/53e68c0bec04ce908a124e6cd1565929ff6ce3a7-bulma_confined.min.css"
              }
             ],
             "type": "async_block"
            },
            "mount_callbacks": [
             "function () {\n    var handler = (function (ko, koPunches) {\n    ko.punches.enableAll();\n    ko.bindingHandlers.numericValue = {\n        init: function(element, valueAccessor, allBindings, data, context) {\n            var stringified = ko.observable(ko.unwrap(valueAccessor()));\n            stringified.subscribe(function(value) {\n                var val = parseFloat(value);\n                if (!isNaN(val)) {\n                    valueAccessor()(val);\n                }\n            });\n            valueAccessor().subscribe(function(value) {\n                var str = JSON.stringify(value);\n                if ((str == \"0\") && ([\"-0\", \"-0.\"].indexOf(stringified()) >= 0))\n                     return;\n                 if ([\"null\", \"\"].indexOf(str) >= 0)\n                     return;\n                stringified(str);\n            });\n            ko.applyBindingsToNode(\n                element,\n                {\n                    value: stringified,\n                    valueUpdate: allBindings.get('valueUpdate'),\n                },\n                context,\n            );\n        }\n    };\n    var json_data = {\"formatted_vals\":[\"1\",\"2\",\"3\",\"4\",\"5\",\"6\",\"7\",\"8\",\"9\",\"10\",\"11\",\"12\",\"13\",\"14\",\"15\",\"16\",\"17\",\"18\",\"19\",\"20\",\"21\",\"22\",\"23\",\"24\",\"25\",\"26\",\"27\",\"28\",\"29\",\"30\",\"31\",\"32\",\"33\",\"34\",\"35\",\"36\",\"37\",\"38\",\"39\",\"40\",\"41\",\"42\",\"43\",\"44\",\"45\",\"46\",\"47\",\"48\",\"49\",\"50\",\"51\",\"52\",\"53\",\"54\",\"55\",\"56\",\"57\",\"58\",\"59\",\"60\",\"61\",\"62\",\"63\",\"64\",\"65\",\"66\",\"67\",\"68\",\"69\",\"70\",\"71\",\"72\",\"73\",\"74\",\"75\",\"76\",\"77\",\"78\",\"79\",\"80\",\"81\",\"82\",\"83\",\"84\",\"85\",\"86\",\"87\",\"88\",\"89\",\"90\",\"91\",\"92\",\"93\",\"94\",\"95\",\"96\",\"97\",\"98\",\"99\",\"100\",\"101\",\"102\",\"103\",\"104\",\"105\",\"106\",\"107\",\"108\",\"109\",\"110\",\"111\",\"112\",\"113\",\"114\",\"115\",\"116\",\"117\",\"118\",\"119\",\"120\",\"121\",\"122\",\"123\",\"124\",\"125\",\"126\",\"127\",\"128\",\"129\",\"130\",\"131\",\"132\",\"133\",\"134\",\"135\",\"136\",\"137\",\"138\",\"139\",\"140\",\"141\",\"142\",\"143\",\"144\",\"145\",\"146\",\"147\",\"148\",\"149\",\"150\",\"151\",\"152\",\"153\",\"154\",\"155\",\"156\",\"157\",\"158\",\"159\",\"160\",\"161\",\"162\",\"163\",\"164\",\"165\",\"166\",\"167\",\"168\",\"169\",\"170\",\"171\",\"172\",\"173\",\"174\",\"175\",\"176\",\"177\",\"178\",\"179\",\"180\",\"181\",\"182\",\"183\",\"184\",\"185\",\"186\",\"187\",\"188\",\"189\",\"190\",\"191\",\"192\",\"193\",\"194\",\"195\",\"196\",\"197\",\"198\",\"199\",\"200\"],\"changes\":WebIO.getval({\"name\":\"changes\",\"scope\":\"4345376710634941430\",\"id\":\"40\",\"type\":\"observable\"}),\"index\":WebIO.getval({\"name\":\"index\",\"scope\":\"4345376710634941430\",\"id\":\"39\",\"type\":\"observable\"})};\n    var self = this;\n    function AppViewModel() {\n        for (var key in json_data) {\n            var el = json_data[key];\n            this[key] = Array.isArray(el) ? ko.observableArray(el) : ko.observable(el);\n        }\n        \n        [this[\"formatted_val\"]=ko.computed(    function(){\n        return this.formatted_vals()[parseInt(this.index())-(1)];\n    }\n,this)]\n        [this[\"changes\"].subscribe((function (val){!(this.valueFromJulia[\"changes\"]) ? (WebIO.setval({\"name\":\"changes\",\"scope\":\"4345376710634941430\",\"id\":\"40\",\"type\":\"observable\"},val)) : undefined; return this.valueFromJulia[\"changes\"]=false}),self),this[\"index\"].subscribe((function (val){!(this.valueFromJulia[\"index\"]) ? (WebIO.setval({\"name\":\"index\",\"scope\":\"4345376710634941430\",\"id\":\"39\",\"type\":\"observable\"},val)) : undefined; return this.valueFromJulia[\"index\"]=false}),self)]\n        \n    }\n    self.model = new AppViewModel();\n    self.valueFromJulia = {};\n    for (var key in json_data) {\n        self.valueFromJulia[key] = false;\n    }\n    ko.applyBindings(self.model, self.dom);\n}\n);\n    (WebIO.importBlock({\"data\":[{\"name\":\"knockout\",\"type\":\"js\",\"url\":\"/assetserver/d0f67ea5103338bec547a71428bdbf3df4f08059-knockout.js\"},{\"name\":\"knockout_punches\",\"type\":\"js\",\"url\":\"/assetserver/e26f753938579e2287344150f7e368ac4b529445-knockout_punches.js\"}],\"type\":\"async_block\"})).then((imports) => handler.apply(this, imports));\n}\n"
            ],
            "observables": {
             "changes": {
              "id": "40",
              "sync": false,
              "value": 0
             },
             "index": {
              "id": "39",
              "sync": true,
              "value": 100
             }
            },
            "systemjs_options": null
           },
           "nodeType": "Scope",
           "props": {},
           "type": "node"
          }
         ],
         "instanceArgs": {
          "namespace": "html",
          "tag": "div"
         },
         "nodeType": "DOM",
         "props": {
          "className": "field interact-widget"
         },
         "type": "node"
        },
        {
         "children": [
          {
           "children": [
            {
             "children": [
              {
               "children": [
                {
                 "children": [
                  "sample step"
                 ],
                 "instanceArgs": {
                  "namespace": "html",
                  "tag": "label"
                 },
                 "nodeType": "DOM",
                 "props": {
                  "className": "interact ",
                  "style": {
                   "padding": "5px 10px 0px 10px"
                  }
                 },
                 "type": "node"
                }
               ],
               "instanceArgs": {
                "namespace": "html",
                "tag": "div"
               },
               "nodeType": "DOM",
               "props": {
                "className": "interact-flex-row-left"
               },
               "type": "node"
              },
              {
               "children": [
                {
                 "children": [],
                 "instanceArgs": {
                  "namespace": "html",
                  "tag": "input"
                 },
                 "nodeType": "DOM",
                 "props": {
                  "attributes": {
                   "data-bind": "numericValue: index, valueUpdate: 'input', event: {change: function (){this.changes(this.changes()+1)}}",
                   "orient": "horizontal",
                   "type": "range"
                  },
                  "className": "slider slider is-fullwidth",
                  "max": 100,
                  "min": 1,
                  "step": 1,
                  "style": {}
                 },
                 "type": "node"
                }
               ],
               "instanceArgs": {
                "namespace": "html",
                "tag": "div"
               },
               "nodeType": "DOM",
               "props": {
                "className": "interact-flex-row-center"
               },
               "type": "node"
              },
              {
               "children": [
                {
                 "children": [],
                 "instanceArgs": {
                  "namespace": "html",
                  "tag": "p"
                 },
                 "nodeType": "DOM",
                 "props": {
                  "attributes": {
                   "data-bind": "text: formatted_val"
                  }
                 },
                 "type": "node"
                }
               ],
               "instanceArgs": {
                "namespace": "html",
                "tag": "div"
               },
               "nodeType": "DOM",
               "props": {
                "className": "interact-flex-row-right"
               },
               "type": "node"
              }
             ],
             "instanceArgs": {
              "namespace": "html",
              "tag": "div"
             },
             "nodeType": "DOM",
             "props": {
              "className": "interact-flex-row interact-widget"
             },
             "type": "node"
            }
           ],
           "instanceArgs": {
            "handlers": {
             "changes": [
              "(function (val){return (val!=this.model[\"changes\"]()) ? (this.valueFromJulia[\"changes\"]=true, this.model[\"changes\"](val)) : undefined})"
             ],
             "index": [
              "(function (val){return (val!=this.model[\"index\"]()) ? (this.valueFromJulia[\"index\"]=true, this.model[\"index\"](val)) : undefined})"
             ]
            },
            "id": "11115385083189134761",
            "imports": {
             "data": [
              {
               "name": "knockout",
               "type": "js",
               "url": "/assetserver/d0f67ea5103338bec547a71428bdbf3df4f08059-knockout.js"
              },
              {
               "name": "knockout_punches",
               "type": "js",
               "url": "/assetserver/e26f753938579e2287344150f7e368ac4b529445-knockout_punches.js"
              },
              {
               "name": null,
               "type": "js",
               "url": "/assetserver/f71b84de1a55136a6c3fa3ef48eef72511463954-all.js"
              },
              {
               "name": null,
               "type": "css",
               "url": "/assetserver/dfba341bd7a3bedeba9caeda5288e80d20d1c596-style.css"
              },
              {
               "name": null,
               "type": "css",
               "url": "/assetserver/53e68c0bec04ce908a124e6cd1565929ff6ce3a7-bulma_confined.min.css"
              }
             ],
             "type": "async_block"
            },
            "mount_callbacks": [
             "function () {\n    var handler = (function (ko, koPunches) {\n    ko.punches.enableAll();\n    ko.bindingHandlers.numericValue = {\n        init: function(element, valueAccessor, allBindings, data, context) {\n            var stringified = ko.observable(ko.unwrap(valueAccessor()));\n            stringified.subscribe(function(value) {\n                var val = parseFloat(value);\n                if (!isNaN(val)) {\n                    valueAccessor()(val);\n                }\n            });\n            valueAccessor().subscribe(function(value) {\n                var str = JSON.stringify(value);\n                if ((str == \"0\") && ([\"-0\", \"-0.\"].indexOf(stringified()) >= 0))\n                     return;\n                 if ([\"null\", \"\"].indexOf(str) >= 0)\n                     return;\n                stringified(str);\n            });\n            ko.applyBindingsToNode(\n                element,\n                {\n                    value: stringified,\n                    valueUpdate: allBindings.get('valueUpdate'),\n                },\n                context,\n            );\n        }\n    };\n    var json_data = {\"formatted_vals\":[\"0.01\",\"0.02\",\"0.03\",\"0.04\",\"0.05\",\"0.06\",\"0.07\",\"0.08\",\"0.09\",\"0.1\",\"0.11\",\"0.12\",\"0.13\",\"0.14\",\"0.15\",\"0.16\",\"0.17\",\"0.18\",\"0.19\",\"0.2\",\"0.21\",\"0.22\",\"0.23\",\"0.24\",\"0.25\",\"0.26\",\"0.27\",\"0.28\",\"0.29\",\"0.3\",\"0.31\",\"0.32\",\"0.33\",\"0.34\",\"0.35\",\"0.36\",\"0.37\",\"0.38\",\"0.39\",\"0.4\",\"0.41\",\"0.42\",\"0.43\",\"0.44\",\"0.45\",\"0.46\",\"0.47\",\"0.48\",\"0.49\",\"0.5\",\"0.51\",\"0.52\",\"0.53\",\"0.54\",\"0.55\",\"0.56\",\"0.57\",\"0.58\",\"0.59\",\"0.6\",\"0.61\",\"0.62\",\"0.63\",\"0.64\",\"0.65\",\"0.66\",\"0.67\",\"0.68\",\"0.69\",\"0.7\",\"0.71\",\"0.72\",\"0.73\",\"0.74\",\"0.75\",\"0.76\",\"0.77\",\"0.78\",\"0.79\",\"0.8\",\"0.81\",\"0.82\",\"0.83\",\"0.84\",\"0.85\",\"0.86\",\"0.87\",\"0.88\",\"0.89\",\"0.9\",\"0.91\",\"0.92\",\"0.93\",\"0.94\",\"0.95\",\"0.96\",\"0.97\",\"0.98\",\"0.99\",\"1.0\"],\"changes\":WebIO.getval({\"name\":\"changes\",\"scope\":\"11115385083189134761\",\"id\":\"43\",\"type\":\"observable\"}),\"index\":WebIO.getval({\"name\":\"index\",\"scope\":\"11115385083189134761\",\"id\":\"42\",\"type\":\"observable\"})};\n    var self = this;\n    function AppViewModel() {\n        for (var key in json_data) {\n            var el = json_data[key];\n            this[key] = Array.isArray(el) ? ko.observableArray(el) : ko.observable(el);\n        }\n        \n        [this[\"formatted_val\"]=ko.computed(    function(){\n        return this.formatted_vals()[parseInt(this.index())-(1)];\n    }\n,this)]\n        [this[\"changes\"].subscribe((function (val){!(this.valueFromJulia[\"changes\"]) ? (WebIO.setval({\"name\":\"changes\",\"scope\":\"11115385083189134761\",\"id\":\"43\",\"type\":\"observable\"},val)) : undefined; return this.valueFromJulia[\"changes\"]=false}),self),this[\"index\"].subscribe((function (val){!(this.valueFromJulia[\"index\"]) ? (WebIO.setval({\"name\":\"index\",\"scope\":\"11115385083189134761\",\"id\":\"42\",\"type\":\"observable\"},val)) : undefined; return this.valueFromJulia[\"index\"]=false}),self)]\n        \n    }\n    self.model = new AppViewModel();\n    self.valueFromJulia = {};\n    for (var key in json_data) {\n        self.valueFromJulia[key] = false;\n    }\n    ko.applyBindings(self.model, self.dom);\n}\n);\n    (WebIO.importBlock({\"data\":[{\"name\":\"knockout\",\"type\":\"js\",\"url\":\"/assetserver/d0f67ea5103338bec547a71428bdbf3df4f08059-knockout.js\"},{\"name\":\"knockout_punches\",\"type\":\"js\",\"url\":\"/assetserver/e26f753938579e2287344150f7e368ac4b529445-knockout_punches.js\"}],\"type\":\"async_block\"})).then((imports) => handler.apply(this, imports));\n}\n"
            ],
            "observables": {
             "changes": {
              "id": "43",
              "sync": false,
              "value": 0
             },
             "index": {
              "id": "42",
              "sync": true,
              "value": 10
             }
            },
            "systemjs_options": null
           },
           "nodeType": "Scope",
           "props": {},
           "type": "node"
          }
         ],
         "instanceArgs": {
          "namespace": "html",
          "tag": "div"
         },
         "nodeType": "DOM",
         "props": {
          "className": "field interact-widget"
         },
         "type": "node"
        },
        {
         "children": [
          {
           "children": [
            {
             "children": [
              {
               "children": [
                {
                 "children": [
                  "phase"
                 ],
                 "instanceArgs": {
                  "namespace": "html",
                  "tag": "label"
                 },
                 "nodeType": "DOM",
                 "props": {
                  "className": "interact ",
                  "style": {
                   "padding": "5px 10px 0px 10px"
                  }
                 },
                 "type": "node"
                }
               ],
               "instanceArgs": {
                "namespace": "html",
                "tag": "div"
               },
               "nodeType": "DOM",
               "props": {
                "className": "interact-flex-row-left"
               },
               "type": "node"
              },
              {
               "children": [
                {
                 "children": [],
                 "instanceArgs": {
                  "namespace": "html",
                  "tag": "input"
                 },
                 "nodeType": "DOM",
                 "props": {
                  "attributes": {
                   "data-bind": "numericValue: index, valueUpdate: 'input', event: {change: function (){this.changes(this.changes()+1)}}",
                   "orient": "horizontal",
                   "type": "range"
                  },
                  "className": "slider slider is-fullwidth",
                  "max": 63,
                  "min": 1,
                  "step": 1,
                  "style": {}
                 },
                 "type": "node"
                }
               ],
               "instanceArgs": {
                "namespace": "html",
                "tag": "div"
               },
               "nodeType": "DOM",
               "props": {
                "className": "interact-flex-row-center"
               },
               "type": "node"
              },
              {
               "children": [
                {
                 "children": [],
                 "instanceArgs": {
                  "namespace": "html",
                  "tag": "p"
                 },
                 "nodeType": "DOM",
                 "props": {
                  "attributes": {
                   "data-bind": "text: formatted_val"
                  }
                 },
                 "type": "node"
                }
               ],
               "instanceArgs": {
                "namespace": "html",
                "tag": "div"
               },
               "nodeType": "DOM",
               "props": {
                "className": "interact-flex-row-right"
               },
               "type": "node"
              }
             ],
             "instanceArgs": {
              "namespace": "html",
              "tag": "div"
             },
             "nodeType": "DOM",
             "props": {
              "className": "interact-flex-row interact-widget"
             },
             "type": "node"
            }
           ],
           "instanceArgs": {
            "handlers": {
             "changes": [
              "(function (val){return (val!=this.model[\"changes\"]()) ? (this.valueFromJulia[\"changes\"]=true, this.model[\"changes\"](val)) : undefined})"
             ],
             "index": [
              "(function (val){return (val!=this.model[\"index\"]()) ? (this.valueFromJulia[\"index\"]=true, this.model[\"index\"](val)) : undefined})"
             ]
            },
            "id": "5233917707772826977",
            "imports": {
             "data": [
              {
               "name": "knockout",
               "type": "js",
               "url": "/assetserver/d0f67ea5103338bec547a71428bdbf3df4f08059-knockout.js"
              },
              {
               "name": "knockout_punches",
               "type": "js",
               "url": "/assetserver/e26f753938579e2287344150f7e368ac4b529445-knockout_punches.js"
              },
              {
               "name": null,
               "type": "js",
               "url": "/assetserver/f71b84de1a55136a6c3fa3ef48eef72511463954-all.js"
              },
              {
               "name": null,
               "type": "css",
               "url": "/assetserver/dfba341bd7a3bedeba9caeda5288e80d20d1c596-style.css"
              },
              {
               "name": null,
               "type": "css",
               "url": "/assetserver/53e68c0bec04ce908a124e6cd1565929ff6ce3a7-bulma_confined.min.css"
              }
             ],
             "type": "async_block"
            },
            "mount_callbacks": [
             "function () {\n    var handler = (function (ko, koPunches) {\n    ko.punches.enableAll();\n    ko.bindingHandlers.numericValue = {\n        init: function(element, valueAccessor, allBindings, data, context) {\n            var stringified = ko.observable(ko.unwrap(valueAccessor()));\n            stringified.subscribe(function(value) {\n                var val = parseFloat(value);\n                if (!isNaN(val)) {\n                    valueAccessor()(val);\n                }\n            });\n            valueAccessor().subscribe(function(value) {\n                var str = JSON.stringify(value);\n                if ((str == \"0\") && ([\"-0\", \"-0.\"].indexOf(stringified()) >= 0))\n                     return;\n                 if ([\"null\", \"\"].indexOf(str) >= 0)\n                     return;\n                stringified(str);\n            });\n            ko.applyBindingsToNode(\n                element,\n                {\n                    value: stringified,\n                    valueUpdate: allBindings.get('valueUpdate'),\n                },\n                context,\n            );\n        }\n    };\n    var json_data = {\"formatted_vals\":[\"0.0\",\"0.1\",\"0.2\",\"0.3\",\"0.4\",\"0.5\",\"0.6\",\"0.7\",\"0.8\",\"0.9\",\"1.0\",\"1.1\",\"1.2\",\"1.3\",\"1.4\",\"1.5\",\"1.6\",\"1.7\",\"1.8\",\"1.9\",\"2.0\",\"2.1\",\"2.2\",\"2.3\",\"2.4\",\"2.5\",\"2.6\",\"2.7\",\"2.8\",\"2.9\",\"3.0\",\"3.1\",\"3.2\",\"3.3\",\"3.4\",\"3.5\",\"3.6\",\"3.7\",\"3.8\",\"3.9\",\"4.0\",\"4.1\",\"4.2\",\"4.3\",\"4.4\",\"4.5\",\"4.6\",\"4.7\",\"4.8\",\"4.9\",\"5.0\",\"5.1\",\"5.2\",\"5.3\",\"5.4\",\"5.5\",\"5.6\",\"5.7\",\"5.8\",\"5.9\",\"6.0\",\"6.1\",\"6.2\"],\"changes\":WebIO.getval({\"name\":\"changes\",\"scope\":\"5233917707772826977\",\"id\":\"46\",\"type\":\"observable\"}),\"index\":WebIO.getval({\"name\":\"index\",\"scope\":\"5233917707772826977\",\"id\":\"45\",\"type\":\"observable\"})};\n    var self = this;\n    function AppViewModel() {\n        for (var key in json_data) {\n            var el = json_data[key];\n            this[key] = Array.isArray(el) ? ko.observableArray(el) : ko.observable(el);\n        }\n        \n        [this[\"formatted_val\"]=ko.computed(    function(){\n        return this.formatted_vals()[parseInt(this.index())-(1)];\n    }\n,this)]\n        [this[\"changes\"].subscribe((function (val){!(this.valueFromJulia[\"changes\"]) ? (WebIO.setval({\"name\":\"changes\",\"scope\":\"5233917707772826977\",\"id\":\"46\",\"type\":\"observable\"},val)) : undefined; return this.valueFromJulia[\"changes\"]=false}),self),this[\"index\"].subscribe((function (val){!(this.valueFromJulia[\"index\"]) ? (WebIO.setval({\"name\":\"index\",\"scope\":\"5233917707772826977\",\"id\":\"45\",\"type\":\"observable\"},val)) : undefined; return this.valueFromJulia[\"index\"]=false}),self)]\n        \n    }\n    self.model = new AppViewModel();\n    self.valueFromJulia = {};\n    for (var key in json_data) {\n        self.valueFromJulia[key] = false;\n    }\n    ko.applyBindings(self.model, self.dom);\n}\n);\n    (WebIO.importBlock({\"data\":[{\"name\":\"knockout\",\"type\":\"js\",\"url\":\"/assetserver/d0f67ea5103338bec547a71428bdbf3df4f08059-knockout.js\"},{\"name\":\"knockout_punches\",\"type\":\"js\",\"url\":\"/assetserver/e26f753938579e2287344150f7e368ac4b529445-knockout_punches.js\"}],\"type\":\"async_block\"})).then((imports) => handler.apply(this, imports));\n}\n"
            ],
            "observables": {
             "changes": {
              "id": "46",
              "sync": false,
              "value": 0
             },
             "index": {
              "id": "45",
              "sync": true,
              "value": 1
             }
            },
            "systemjs_options": null
           },
           "nodeType": "Scope",
           "props": {},
           "type": "node"
          }
         ],
         "instanceArgs": {
          "namespace": "html",
          "tag": "div"
         },
         "nodeType": "DOM",
         "props": {
          "className": "field interact-widget"
         },
         "type": "node"
        },
        {
         "children": [
          {
           "children": [
            {
             "children": [
              {
               "children": [
                {
                 "children": [
                  "radii"
                 ],
                 "instanceArgs": {
                  "namespace": "html",
                  "tag": "label"
                 },
                 "nodeType": "DOM",
                 "props": {
                  "className": "interact ",
                  "style": {
                   "padding": "5px 10px 0px 10px"
                  }
                 },
                 "type": "node"
                }
               ],
               "instanceArgs": {
                "namespace": "html",
                "tag": "div"
               },
               "nodeType": "DOM",
               "props": {
                "className": "interact-flex-row-left"
               },
               "type": "node"
              },
              {
               "children": [
                {
                 "children": [],
                 "instanceArgs": {
                  "namespace": "html",
                  "tag": "input"
                 },
                 "nodeType": "DOM",
                 "props": {
                  "attributes": {
                   "data-bind": "numericValue: index, valueUpdate: 'input', event: {change: function (){this.changes(this.changes()+1)}}",
                   "orient": "horizontal",
                   "type": "range"
                  },
                  "className": "slider slider is-fullwidth",
                  "max": 600,
                  "min": 1,
                  "step": 1,
                  "style": {}
                 },
                 "type": "node"
                }
               ],
               "instanceArgs": {
                "namespace": "html",
                "tag": "div"
               },
               "nodeType": "DOM",
               "props": {
                "className": "interact-flex-row-center"
               },
               "type": "node"
              },
              {
               "children": [
                {
                 "children": [],
                 "instanceArgs": {
                  "namespace": "html",
                  "tag": "p"
                 },
                 "nodeType": "DOM",
                 "props": {
                  "attributes": {
                   "data-bind": "text: formatted_val"
                  }
                 },
                 "type": "node"
                }
               ],
               "instanceArgs": {
                "namespace": "html",
                "tag": "div"
               },
               "nodeType": "DOM",
               "props": {
                "className": "interact-flex-row-right"
               },
               "type": "node"
              }
             ],
             "instanceArgs": {
              "namespace": "html",
              "tag": "div"
             },
             "nodeType": "DOM",
             "props": {
              "className": "interact-flex-row interact-widget"
             },
             "type": "node"
            }
           ],
           "instanceArgs": {
            "handlers": {
             "changes": [
              "(function (val){return (val!=this.model[\"changes\"]()) ? (this.valueFromJulia[\"changes\"]=true, this.model[\"changes\"](val)) : undefined})"
             ],
             "index": [
              "(function (val){return (val!=this.model[\"index\"]()) ? (this.valueFromJulia[\"index\"]=true, this.model[\"index\"](val)) : undefined})"
             ]
            },
            "id": "6521757301954226480",
            "imports": {
             "data": [
              {
               "name": "knockout",
               "type": "js",
               "url": "/assetserver/d0f67ea5103338bec547a71428bdbf3df4f08059-knockout.js"
              },
              {
               "name": "knockout_punches",
               "type": "js",
               "url": "/assetserver/e26f753938579e2287344150f7e368ac4b529445-knockout_punches.js"
              },
              {
               "name": null,
               "type": "js",
               "url": "/assetserver/f71b84de1a55136a6c3fa3ef48eef72511463954-all.js"
              },
              {
               "name": null,
               "type": "css",
               "url": "/assetserver/dfba341bd7a3bedeba9caeda5288e80d20d1c596-style.css"
              },
              {
               "name": null,
               "type": "css",
               "url": "/assetserver/53e68c0bec04ce908a124e6cd1565929ff6ce3a7-bulma_confined.min.css"
              }
             ],
             "type": "async_block"
            },
            "mount_callbacks": [
             "function () {\n    var handler = (function (ko, koPunches) {\n    ko.punches.enableAll();\n    ko.bindingHandlers.numericValue = {\n        init: function(element, valueAccessor, allBindings, data, context) {\n            var stringified = ko.observable(ko.unwrap(valueAccessor()));\n            stringified.subscribe(function(value) {\n                var val = parseFloat(value);\n                if (!isNaN(val)) {\n                    valueAccessor()(val);\n                }\n            });\n            valueAccessor().subscribe(function(value) {\n                var str = JSON.stringify(value);\n                if ((str == \"0\") && ([\"-0\", \"-0.\"].indexOf(stringified()) >= 0))\n                     return;\n                 if ([\"null\", \"\"].indexOf(str) >= 0)\n                     return;\n                stringified(str);\n            });\n            ko.applyBindingsToNode(\n                element,\n                {\n                    value: stringified,\n                    valueUpdate: allBindings.get('valueUpdate'),\n                },\n                context,\n            );\n        }\n    };\n    var json_data = {\"formatted_vals\":[\"0.1\",\"0.2\",\"0.3\",\"0.4\",\"0.5\",\"0.6\",\"0.7\",\"0.8\",\"0.9\",\"1.0\",\"1.1\",\"1.2\",\"1.3\",\"1.4\",\"1.5\",\"1.6\",\"1.7\",\"1.8\",\"1.9\",\"2.0\",\"2.1\",\"2.2\",\"2.3\",\"2.4\",\"2.5\",\"2.6\",\"2.7\",\"2.8\",\"2.9\",\"3.0\",\"3.1\",\"3.2\",\"3.3\",\"3.4\",\"3.5\",\"3.6\",\"3.7\",\"3.8\",\"3.9\",\"4.0\",\"4.1\",\"4.2\",\"4.3\",\"4.4\",\"4.5\",\"4.6\",\"4.7\",\"4.8\",\"4.9\",\"5.0\",\"5.1\",\"5.2\",\"5.3\",\"5.4\",\"5.5\",\"5.6\",\"5.7\",\"5.8\",\"5.9\",\"6.0\",\"6.1\",\"6.2\",\"6.3\",\"6.4\",\"6.5\",\"6.6\",\"6.7\",\"6.8\",\"6.9\",\"7.0\",\"7.1\",\"7.2\",\"7.3\",\"7.4\",\"7.5\",\"7.6\",\"7.7\",\"7.8\",\"7.9\",\"8.0\",\"8.1\",\"8.2\",\"8.3\",\"8.4\",\"8.5\",\"8.6\",\"8.7\",\"8.8\",\"8.9\",\"9.0\",\"9.1\",\"9.2\",\"9.3\",\"9.4\",\"9.5\",\"9.6\",\"9.7\",\"9.8\",\"9.9\",\"10.0\",\"10.1\",\"10.2\",\"10.3\",\"10.4\",\"10.5\",\"10.6\",\"10.7\",\"10.8\",\"10.9\",\"11.0\",\"11.1\",\"11.2\",\"11.3\",\"11.4\",\"11.5\",\"11.6\",\"11.7\",\"11.8\",\"11.9\",\"12.0\",\"12.1\",\"12.2\",\"12.3\",\"12.4\",\"12.5\",\"12.6\",\"12.7\",\"12.8\",\"12.9\",\"13.0\",\"13.1\",\"13.2\",\"13.3\",\"13.4\",\"13.5\",\"13.6\",\"13.7\",\"13.8\",\"13.9\",\"14.0\",\"14.1\",\"14.2\",\"14.3\",\"14.4\",\"14.5\",\"14.6\",\"14.7\",\"14.8\",\"14.9\",\"15.0\",\"15.1\",\"15.2\",\"15.3\",\"15.4\",\"15.5\",\"15.6\",\"15.7\",\"15.8\",\"15.9\",\"16.0\",\"16.1\",\"16.2\",\"16.3\",\"16.4\",\"16.5\",\"16.6\",\"16.7\",\"16.8\",\"16.9\",\"17.0\",\"17.1\",\"17.2\",\"17.3\",\"17.4\",\"17.5\",\"17.6\",\"17.7\",\"17.8\",\"17.9\",\"18.0\",\"18.1\",\"18.2\",\"18.3\",\"18.4\",\"18.5\",\"18.6\",\"18.7\",\"18.8\",\"18.9\",\"19.0\",\"19.1\",\"19.2\",\"19.3\",\"19.4\",\"19.5\",\"19.6\",\"19.7\",\"19.8\",\"19.9\",\"20.0\",\"20.1\",\"20.2\",\"20.3\",\"20.4\",\"20.5\",\"20.6\",\"20.7\",\"20.8\",\"20.9\",\"21.0\",\"21.1\",\"21.2\",\"21.3\",\"21.4\",\"21.5\",\"21.6\",\"21.7\",\"21.8\",\"21.9\",\"22.0\",\"22.1\",\"22.2\",\"22.3\",\"22.4\",\"22.5\",\"22.6\",\"22.7\",\"22.8\",\"22.9\",\"23.0\",\"23.1\",\"23.2\",\"23.3\",\"23.4\",\"23.5\",\"23.6\",\"23.7\",\"23.8\",\"23.9\",\"24.0\",\"24.1\",\"24.2\",\"24.3\",\"24.4\",\"24.5\",\"24.6\",\"24.7\",\"24.8\",\"24.9\",\"25.0\",\"25.1\",\"25.2\",\"25.3\",\"25.4\",\"25.5\",\"25.6\",\"25.7\",\"25.8\",\"25.9\",\"26.0\",\"26.1\",\"26.2\",\"26.3\",\"26.4\",\"26.5\",\"26.6\",\"26.7\",\"26.8\",\"26.9\",\"27.0\",\"27.1\",\"27.2\",\"27.3\",\"27.4\",\"27.5\",\"27.6\",\"27.7\",\"27.8\",\"27.9\",\"28.0\",\"28.1\",\"28.2\",\"28.3\",\"28.4\",\"28.5\",\"28.6\",\"28.7\",\"28.8\",\"28.9\",\"29.0\",\"29.1\",\"29.2\",\"29.3\",\"29.4\",\"29.5\",\"29.6\",\"29.7\",\"29.8\",\"29.9\",\"30.0\",\"30.1\",\"30.2\",\"30.3\",\"30.4\",\"30.5\",\"30.6\",\"30.7\",\"30.8\",\"30.9\",\"31.0\",\"31.1\",\"31.2\",\"31.3\",\"31.4\",\"31.5\",\"31.6\",\"31.7\",\"31.8\",\"31.9\",\"32.0\",\"32.1\",\"32.2\",\"32.3\",\"32.4\",\"32.5\",\"32.6\",\"32.7\",\"32.8\",\"32.9\",\"33.0\",\"33.1\",\"33.2\",\"33.3\",\"33.4\",\"33.5\",\"33.6\",\"33.7\",\"33.8\",\"33.9\",\"34.0\",\"34.1\",\"34.2\",\"34.3\",\"34.4\",\"34.5\",\"34.6\",\"34.7\",\"34.8\",\"34.9\",\"35.0\",\"35.1\",\"35.2\",\"35.3\",\"35.4\",\"35.5\",\"35.6\",\"35.7\",\"35.8\",\"35.9\",\"36.0\",\"36.1\",\"36.2\",\"36.3\",\"36.4\",\"36.5\",\"36.6\",\"36.7\",\"36.8\",\"36.9\",\"37.0\",\"37.1\",\"37.2\",\"37.3\",\"37.4\",\"37.5\",\"37.6\",\"37.7\",\"37.8\",\"37.9\",\"38.0\",\"38.1\",\"38.2\",\"38.3\",\"38.4\",\"38.5\",\"38.6\",\"38.7\",\"38.8\",\"38.9\",\"39.0\",\"39.1\",\"39.2\",\"39.3\",\"39.4\",\"39.5\",\"39.6\",\"39.7\",\"39.8\",\"39.9\",\"40.0\",\"40.1\",\"40.2\",\"40.3\",\"40.4\",\"40.5\",\"40.6\",\"40.7\",\"40.8\",\"40.9\",\"41.0\",\"41.1\",\"41.2\",\"41.3\",\"41.4\",\"41.5\",\"41.6\",\"41.7\",\"41.8\",\"41.9\",\"42.0\",\"42.1\",\"42.2\",\"42.3\",\"42.4\",\"42.5\",\"42.6\",\"42.7\",\"42.8\",\"42.9\",\"43.0\",\"43.1\",\"43.2\",\"43.3\",\"43.4\",\"43.5\",\"43.6\",\"43.7\",\"43.8\",\"43.9\",\"44.0\",\"44.1\",\"44.2\",\"44.3\",\"44.4\",\"44.5\",\"44.6\",\"44.7\",\"44.8\",\"44.9\",\"45.0\",\"45.1\",\"45.2\",\"45.3\",\"45.4\",\"45.5\",\"45.6\",\"45.7\",\"45.8\",\"45.9\",\"46.0\",\"46.1\",\"46.2\",\"46.3\",\"46.4\",\"46.5\",\"46.6\",\"46.7\",\"46.8\",\"46.9\",\"47.0\",\"47.1\",\"47.2\",\"47.3\",\"47.4\",\"47.5\",\"47.6\",\"47.7\",\"47.8\",\"47.9\",\"48.0\",\"48.1\",\"48.2\",\"48.3\",\"48.4\",\"48.5\",\"48.6\",\"48.7\",\"48.8\",\"48.9\",\"49.0\",\"49.1\",\"49.2\",\"49.3\",\"49.4\",\"49.5\",\"49.6\",\"49.7\",\"49.8\",\"49.9\",\"50.0\",\"50.1\",\"50.2\",\"50.3\",\"50.4\",\"50.5\",\"50.6\",\"50.7\",\"50.8\",\"50.9\",\"51.0\",\"51.1\",\"51.2\",\"51.3\",\"51.4\",\"51.5\",\"51.6\",\"51.7\",\"51.8\",\"51.9\",\"52.0\",\"52.1\",\"52.2\",\"52.3\",\"52.4\",\"52.5\",\"52.6\",\"52.7\",\"52.8\",\"52.9\",\"53.0\",\"53.1\",\"53.2\",\"53.3\",\"53.4\",\"53.5\",\"53.6\",\"53.7\",\"53.8\",\"53.9\",\"54.0\",\"54.1\",\"54.2\",\"54.3\",\"54.4\",\"54.5\",\"54.6\",\"54.7\",\"54.8\",\"54.9\",\"55.0\",\"55.1\",\"55.2\",\"55.3\",\"55.4\",\"55.5\",\"55.6\",\"55.7\",\"55.8\",\"55.9\",\"56.0\",\"56.1\",\"56.2\",\"56.3\",\"56.4\",\"56.5\",\"56.6\",\"56.7\",\"56.8\",\"56.9\",\"57.0\",\"57.1\",\"57.2\",\"57.3\",\"57.4\",\"57.5\",\"57.6\",\"57.7\",\"57.8\",\"57.9\",\"58.0\",\"58.1\",\"58.2\",\"58.3\",\"58.4\",\"58.5\",\"58.6\",\"58.7\",\"58.8\",\"58.9\",\"59.0\",\"59.1\",\"59.2\",\"59.3\",\"59.4\",\"59.5\",\"59.6\",\"59.7\",\"59.8\",\"59.9\",\"60.0\"],\"changes\":WebIO.getval({\"name\":\"changes\",\"scope\":\"6521757301954226480\",\"id\":\"49\",\"type\":\"observable\"}),\"index\":WebIO.getval({\"name\":\"index\",\"scope\":\"6521757301954226480\",\"id\":\"48\",\"type\":\"observable\"})};\n    var self = this;\n    function AppViewModel() {\n        for (var key in json_data) {\n            var el = json_data[key];\n            this[key] = Array.isArray(el) ? ko.observableArray(el) : ko.observable(el);\n        }\n        \n        [this[\"formatted_val\"]=ko.computed(    function(){\n        return this.formatted_vals()[parseInt(this.index())-(1)];\n    }\n,this)]\n        [this[\"changes\"].subscribe((function (val){!(this.valueFromJulia[\"changes\"]) ? (WebIO.setval({\"name\":\"changes\",\"scope\":\"6521757301954226480\",\"id\":\"49\",\"type\":\"observable\"},val)) : undefined; return this.valueFromJulia[\"changes\"]=false}),self),this[\"index\"].subscribe((function (val){!(this.valueFromJulia[\"index\"]) ? (WebIO.setval({\"name\":\"index\",\"scope\":\"6521757301954226480\",\"id\":\"48\",\"type\":\"observable\"},val)) : undefined; return this.valueFromJulia[\"index\"]=false}),self)]\n        \n    }\n    self.model = new AppViewModel();\n    self.valueFromJulia = {};\n    for (var key in json_data) {\n        self.valueFromJulia[key] = false;\n    }\n    ko.applyBindings(self.model, self.dom);\n}\n);\n    (WebIO.importBlock({\"data\":[{\"name\":\"knockout\",\"type\":\"js\",\"url\":\"/assetserver/d0f67ea5103338bec547a71428bdbf3df4f08059-knockout.js\"},{\"name\":\"knockout_punches\",\"type\":\"js\",\"url\":\"/assetserver/e26f753938579e2287344150f7e368ac4b529445-knockout_punches.js\"}],\"type\":\"async_block\"})).then((imports) => handler.apply(this, imports));\n}\n"
            ],
            "observables": {
             "changes": {
              "id": "49",
              "sync": false,
              "value": 0
             },
             "index": {
              "id": "48",
              "sync": true,
              "value": 300
             }
            },
            "systemjs_options": null
           },
           "nodeType": "Scope",
           "props": {},
           "type": "node"
          }
         ],
         "instanceArgs": {
          "namespace": "html",
          "tag": "div"
         },
         "nodeType": "DOM",
         "props": {
          "className": "field interact-widget"
         },
         "type": "node"
        },
        {
         "children": [
          {
           "children": [],
           "instanceArgs": {
            "id": "55",
            "name": "obs-node"
           },
           "nodeType": "ObservableNode",
           "props": {},
           "type": "node"
          }
         ],
         "instanceArgs": {
          "handlers": {},
          "id": "3983309225904693047",
          "imports": {
           "data": [],
           "type": "async_block"
          },
          "mount_callbacks": [],
          "observables": {
           "obs-node": {
            "id": "55",
            "sync": false,
            "value": {
             "children": [
              {
               "children": [
                {
                 "children": [],
                 "instanceArgs": {
                  "namespace": "svg",
                  "tag": "circle"
                 },
                 "nodeType": "DOM",
                 "props": {
                  "attributes": {
                   "cx": "5.570423008216337",
                   "cy": "159.98334166468283",
                   "fill": "gray",
                   "r": "30.0"
                  }
                 },
                 "type": "node"
                },
                {
                 "children": [],
                 "instanceArgs": {
                  "namespace": "svg",
                  "tag": "circle"
                 },
                 "nodeType": "DOM",
                 "props": {
                  "attributes": {
                   "cx": "11.140846016432674",
                   "cy": "169.8669330795061",
                   "fill": "silver",
                   "r": "30.0"
                  }
                 },
                 "type": "node"
                },
                {
                 "children": [],
                 "instanceArgs": {
                  "namespace": "svg",
                  "tag": "circle"
                 },
                 "nodeType": "DOM",
                 "props": {
                  "attributes": {
                   "cx": "16.711269024649013",
                   "cy": "179.55202066613396",
                   "fill": "maroon",
                   "r": "30.0"
                  }
                 },
                 "type": "node"
                },
                {
                 "children": [],
                 "instanceArgs": {
                  "namespace": "svg",
                  "tag": "circle"
                 },
                 "nodeType": "DOM",
                 "props": {
                  "attributes": {
                   "cx": "22.281692032865347",
                   "cy": "188.94183423086506",
                   "fill": "red",
                   "r": "30.0"
                  }
                 },
                 "type": "node"
                },
                {
                 "children": [],
                 "instanceArgs": {
                  "namespace": "svg",
                  "tag": "circle"
                 },
                 "nodeType": "DOM",
                 "props": {
                  "attributes": {
                   "cx": "27.852115041081685",
                   "cy": "197.9425538604203",
                   "fill": "olive",
                   "r": "30.0"
                  }
                 },
                 "type": "node"
                },
                {
                 "children": [],
                 "instanceArgs": {
                  "namespace": "svg",
                  "tag": "circle"
                 },
                 "nodeType": "DOM",
                 "props": {
                  "attributes": {
                   "cx": "33.422538049298026",
                   "cy": "206.46424733950354",
                   "fill": "yellow",
                   "r": "30.0"
                  }
                 },
                 "type": "node"
                },
                {
                 "children": [],
                 "instanceArgs": {
                  "namespace": "svg",
                  "tag": "circle"
                 },
                 "nodeType": "DOM",
                 "props": {
                  "attributes": {
                   "cx": "38.992961057514364",
                   "cy": "214.4217687237691",
                   "fill": "green",
                   "r": "30.0"
                  }
                 },
                 "type": "node"
                },
                {
                 "children": [],
                 "instanceArgs": {
                  "namespace": "svg",
                  "tag": "circle"
                 },
                 "nodeType": "DOM",
                 "props": {
                  "attributes": {
                   "cx": "44.563384065730695",
                   "cy": "221.73560908995228",
                   "fill": "lime",
                   "r": "30.0"
                  }
                 },
                 "type": "node"
                },
                {
                 "children": [],
                 "instanceArgs": {
                  "namespace": "svg",
                  "tag": "circle"
                 },
                 "nodeType": "DOM",
                 "props": {
                  "attributes": {
                   "cx": "50.13380707394703",
                   "cy": "228.33269096274836",
                   "fill": "teal",
                   "r": "30.0"
                  }
                 },
                 "type": "node"
                },
                {
                 "children": [],
                 "instanceArgs": {
                  "namespace": "svg",
                  "tag": "circle"
                 },
                 "nodeType": "DOM",
                 "props": {
                  "attributes": {
                   "cx": "55.70423008216337",
                   "cy": "234.14709848078965",
                   "fill": "aqua",
                   "r": "30.0"
                  }
                 },
                 "type": "node"
                },
                {
                 "children": [],
                 "instanceArgs": {
                  "namespace": "svg",
                  "tag": "circle"
                 },
                 "nodeType": "DOM",
                 "props": {
                  "attributes": {
                   "cx": "61.274653090379715",
                   "cy": "239.12073600614355",
                   "fill": "navy",
                   "r": "30.0"
                  }
                 },
                 "type": "node"
                },
                {
                 "children": [],
                 "instanceArgs": {
                  "namespace": "svg",
                  "tag": "circle"
                 },
                 "nodeType": "DOM",
                 "props": {
                  "attributes": {
                   "cx": "66.84507609859605",
                   "cy": "243.2039085967226",
                   "fill": "blue",
                   "r": "30.0"
                  }
                 },
                 "type": "node"
                },
                {
                 "children": [],
                 "instanceArgs": {
                  "namespace": "svg",
                  "tag": "circle"
                 },
                 "nodeType": "DOM",
                 "props": {
                  "attributes": {
                   "cx": "72.41549910681238",
                   "cy": "246.35581854171932",
                   "fill": "purple",
                   "r": "30.0"
                  }
                 },
                 "type": "node"
                },
                {
                 "children": [],
                 "instanceArgs": {
                  "namespace": "svg",
                  "tag": "circle"
                 },
                 "nodeType": "DOM",
                 "props": {
                  "attributes": {
                   "cx": "77.98592211502873",
                   "cy": "248.54497299884605",
                   "fill": "fuchsia",
                   "r": "30.0"
                  }
                 },
                 "type": "node"
                },
                {
                 "children": [],
                 "instanceArgs": {
                  "namespace": "svg",
                  "tag": "circle"
                 },
                 "nodeType": "DOM",
                 "props": {
                  "attributes": {
                   "cx": "83.55634512324505",
                   "cy": "249.74949866040544",
                   "fill": "black",
                   "r": "30.0"
                  }
                 },
                 "type": "node"
                },
                {
                 "children": [],
                 "instanceArgs": {
                  "namespace": "svg",
                  "tag": "circle"
                 },
                 "nodeType": "DOM",
                 "props": {
                  "attributes": {
                   "cx": "89.12676813146139",
                   "cy": "249.95736030415048",
                   "fill": "gray",
                   "r": "30.0"
                  }
                 },
                 "type": "node"
                },
                {
                 "children": [],
                 "instanceArgs": {
                  "namespace": "svg",
                  "tag": "circle"
                 },
                 "nodeType": "DOM",
                 "props": {
                  "attributes": {
                   "cx": "94.69719113967774",
                   "cy": "249.16648104524688",
                   "fill": "silver",
                   "r": "30.0"
                  }
                 },
                 "type": "node"
                },
                {
                 "children": [],
                 "instanceArgs": {
                  "namespace": "svg",
                  "tag": "circle"
                 },
                 "nodeType": "DOM",
                 "props": {
                  "attributes": {
                   "cx": "100.26761414789407",
                   "cy": "247.38476308781952",
                   "fill": "maroon",
                   "r": "30.0"
                  }
                 },
                 "type": "node"
                },
                {
                 "children": [],
                 "instanceArgs": {
                  "namespace": "svg",
                  "tag": "circle"
                 },
                 "nodeType": "DOM",
                 "props": {
                  "attributes": {
                   "cx": "105.8380371561104",
                   "cy": "244.63000876874145",
                   "fill": "red",
                   "r": "30.0"
                  }
                 },
                 "type": "node"
                },
                {
                 "children": [],
                 "instanceArgs": {
                  "namespace": "svg",
                  "tag": "circle"
                 },
                 "nodeType": "DOM",
                 "props": {
                  "attributes": {
                   "cx": "111.40846016432674",
                   "cy": "240.9297426825682",
                   "fill": "olive",
                   "r": "30.0"
                  }
                 },
                 "type": "node"
                },
                {
                 "children": [],
                 "instanceArgs": {
                  "namespace": "svg",
                  "tag": "circle"
                 },
                 "nodeType": "DOM",
                 "props": {
                  "attributes": {
                   "cx": "116.97888317254308",
                   "cy": "236.32093666488737",
                   "fill": "yellow",
                   "r": "30.0"
                  }
                 },
                 "type": "node"
                },
                {
                 "children": [],
                 "instanceArgs": {
                  "namespace": "svg",
                  "tag": "circle"
                 },
                 "nodeType": "DOM",
                 "props": {
                  "attributes": {
                   "cx": "122.54930618075943",
                   "cy": "230.849640381959",
                   "fill": "green",
                   "r": "30.0"
                  }
                 },
                 "type": "node"
                },
                {
                 "children": [],
                 "instanceArgs": {
                  "namespace": "svg",
                  "tag": "circle"
                 },
                 "nodeType": "DOM",
                 "props": {
                  "attributes": {
                   "cx": "128.11972918897578",
                   "cy": "224.57052121767202",
                   "fill": "lime",
                   "r": "30.0"
                  }
                 },
                 "type": "node"
                },
                {
                 "children": [],
                 "instanceArgs": {
                  "namespace": "svg",
                  "tag": "circle"
                 },
                 "nodeType": "DOM",
                 "props": {
                  "attributes": {
                   "cx": "133.6901521971921",
                   "cy": "217.54631805511508",
                   "fill": "teal",
                   "r": "30.0"
                  }
                 },
                 "type": "node"
                },
                {
                 "children": [],
                 "instanceArgs": {
                  "namespace": "svg",
                  "tag": "circle"
                 },
                 "nodeType": "DOM",
                 "props": {
                  "attributes": {
                   "cx": "139.26057520540843",
                   "cy": "209.84721441039565",
                   "fill": "aqua",
                   "r": "30.0"
                  }
                 },
                 "type": "node"
                },
                {
                 "children": [],
                 "instanceArgs": {
                  "namespace": "svg",
                  "tag": "circle"
                 },
                 "nodeType": "DOM",
                 "props": {
                  "attributes": {
                   "cx": "144.83099821362475",
                   "cy": "201.55013718214641",
                   "fill": "navy",
                   "r": "30.0"
                  }
                 },
                 "type": "node"
                },
                {
                 "children": [],
                 "instanceArgs": {
                  "namespace": "svg",
                  "tag": "circle"
                 },
                 "nodeType": "DOM",
                 "props": {
                  "attributes": {
                   "cx": "150.4014212218411",
                   "cy": "192.73798802338297",
                   "fill": "blue",
                   "r": "30.0"
                  }
                 },
                 "type": "node"
                },
                {
                 "children": [],
                 "instanceArgs": {
                  "namespace": "svg",
                  "tag": "circle"
                 },
                 "nodeType": "DOM",
                 "props": {
                  "attributes": {
                   "cx": "155.97184423005746",
                   "cy": "183.49881501559048",
                   "fill": "purple",
                   "r": "30.0"
                  }
                 },
                 "type": "node"
                },
                {
                 "children": [],
                 "instanceArgs": {
                  "namespace": "svg",
                  "tag": "circle"
                 },
                 "nodeType": "DOM",
                 "props": {
                  "attributes": {
                   "cx": "161.54226723827378",
                   "cy": "173.9249329213982",
                   "fill": "fuchsia",
                   "r": "30.0"
                  }
                 },
                 "type": "node"
                },
                {
                 "children": [],
                 "instanceArgs": {
                  "namespace": "svg",
                  "tag": "circle"
                 },
                 "nodeType": "DOM",
                 "props": {
                  "attributes": {
                   "cx": "167.1126902464901",
                   "cy": "164.11200080598672",
                   "fill": "black",
                   "r": "30.0"
                  }
                 },
                 "type": "node"
                },
                {
                 "children": [],
                 "instanceArgs": {
                  "namespace": "svg",
                  "tag": "circle"
                 },
                 "nodeType": "DOM",
                 "props": {
                  "attributes": {
                   "cx": "172.68311325470646",
                   "cy": "154.15806624332905",
                   "fill": "gray",
                   "r": "30.0"
                  }
                 },
                 "type": "node"
                },
                {
                 "children": [],
                 "instanceArgs": {
                  "namespace": "svg",
                  "tag": "circle"
                 },
                 "nodeType": "DOM",
                 "props": {
                  "attributes": {
                   "cx": "178.25353626292278",
                   "cy": "144.162585657242",
                   "fill": "silver",
                   "r": "30.0"
                  }
                 },
                 "type": "node"
                },
                {
                 "children": [],
                 "instanceArgs": {
                  "namespace": "svg",
                  "tag": "circle"
                 },
                 "nodeType": "DOM",
                 "props": {
                  "attributes": {
                   "cx": "183.82395927113913",
                   "cy": "134.22543058567513",
                   "fill": "maroon",
                   "r": "30.0"
                  }
                 },
                 "type": "node"
                },
                {
                 "children": [],
                 "instanceArgs": {
                  "namespace": "svg",
                  "tag": "circle"
                 },
                 "nodeType": "DOM",
                 "props": {
                  "attributes": {
                   "cx": "189.39438227935548",
                   "cy": "124.44588979731684",
                   "fill": "red",
                   "r": "30.0"
                  }
                 },
                 "type": "node"
                },
                {
                 "children": [],
                 "instanceArgs": {
                  "namespace": "svg",
                  "tag": "circle"
                 },
                 "nodeType": "DOM",
                 "props": {
                  "attributes": {
                   "cx": "194.9648052875718",
                   "cy": "114.92167723103802",
                   "fill": "olive",
                   "r": "30.0"
                  }
                 },
                 "type": "node"
                },
                {
                 "children": [],
                 "instanceArgs": {
                  "namespace": "svg",
                  "tag": "circle"
                 },
                 "nodeType": "DOM",
                 "props": {
                  "attributes": {
                   "cx": "200.53522829578813",
                   "cy": "105.74795567051476",
                   "fill": "yellow",
                   "r": "30.0"
                  }
                 },
                 "type": "node"
                },
                {
                 "children": [],
                 "instanceArgs": {
                  "namespace": "svg",
                  "tag": "circle"
                 },
                 "nodeType": "DOM",
                 "props": {
                  "attributes": {
                   "cx": "206.10565130400448",
                   "cy": "97.01638590915067",
                   "fill": "green",
                   "r": "30.0"
                  }
                 },
                 "type": "node"
                },
                {
                 "children": [],
                 "instanceArgs": {
                  "namespace": "svg",
                  "tag": "circle"
                 },
                 "nodeType": "DOM",
                 "props": {
                  "attributes": {
                   "cx": "211.6760743122208",
                   "cy": "88.81421090572806",
                   "fill": "lime",
                   "r": "30.0"
                  }
                 },
                 "type": "node"
                },
                {
                 "children": [],
                 "instanceArgs": {
                  "namespace": "svg",
                  "tag": "circle"
                 },
                 "nodeType": "DOM",
                 "props": {
                  "attributes": {
                   "cx": "217.2464973204372",
                   "cy": "81.22338408160259",
                   "fill": "teal",
                   "r": "30.0"
                  }
                 },
                 "type": "node"
                },
                {
                 "children": [],
                 "instanceArgs": {
                  "namespace": "svg",
                  "tag": "circle"
                 },
                 "nodeType": "DOM",
                 "props": {
                  "attributes": {
                   "cx": "222.81692032865348",
                   "cy": "74.31975046920718",
                   "fill": "aqua",
                   "r": "30.0"
                  }
                 },
                 "type": "node"
                },
                {
                 "children": [],
                 "instanceArgs": {
                  "namespace": "svg",
                  "tag": "circle"
                 },
                 "nodeType": "DOM",
                 "props": {
                  "attributes": {
                   "cx": "228.38734333686986",
                   "cy": "68.17228889355893",
                   "fill": "navy",
                   "r": "30.0"
                  }
                 },
                 "type": "node"
                },
                {
                 "children": [],
                 "instanceArgs": {
                  "namespace": "svg",
                  "tag": "circle"
                 },
                 "nodeType": "DOM",
                 "props": {
                  "attributes": {
                   "cx": "233.95776634508616",
                   "cy": "62.84242275864118",
                   "fill": "blue",
                   "r": "30.0"
                  }
                 },
                 "type": "node"
                },
                {
                 "children": [],
                 "instanceArgs": {
                  "namespace": "svg",
                  "tag": "circle"
                 },
                 "nodeType": "DOM",
                 "props": {
                  "attributes": {
                   "cx": "239.52818935330248",
                   "cy": "58.38340632505451",
                   "fill": "purple",
                   "r": "30.0"
                  }
                 },
                 "type": "node"
                },
                {
                 "children": [],
                 "instanceArgs": {
                  "namespace": "svg",
                  "tag": "circle"
                 },
                 "nodeType": "DOM",
                 "props": {
                  "attributes": {
                   "cx": "245.09861236151886",
                   "cy": "54.83979261104838",
                   "fill": "fuchsia",
                   "r": "30.0"
                  }
                 },
                 "type": "node"
                },
                {
                 "children": [],
                 "instanceArgs": {
                  "namespace": "svg",
                  "tag": "circle"
                 },
                 "nodeType": "DOM",
                 "props": {
                  "attributes": {
                   "cx": "250.66903536973516",
                   "cy": "52.2469882334903",
                   "fill": "black",
                   "r": "30.0"
                  }
                 },
                 "type": "node"
                },
                {
                 "children": [],
                 "instanceArgs": {
                  "namespace": "svg",
                  "tag": "circle"
                 },
                 "nodeType": "DOM",
                 "props": {
                  "attributes": {
                   "cx": "256.23945837795156",
                   "cy": "50.63089963665355",
                   "fill": "gray",
                   "r": "30.0"
                  }
                 },
                 "type": "node"
                },
                {
                 "children": [],
                 "instanceArgs": {
                  "namespace": "svg",
                  "tag": "circle"
                 },
                 "nodeType": "DOM",
                 "props": {
                  "attributes": {
                   "cx": "261.80988138616783",
                   "cy": "50.00767424358992",
                   "fill": "silver",
                   "r": "30.0"
                  }
                 },
                 "type": "node"
                },
                {
                 "children": [],
                 "instanceArgs": {
                  "namespace": "svg",
                  "tag": "circle"
                 },
                 "nodeType": "DOM",
                 "props": {
                  "attributes": {
                   "cx": "267.3803043943842",
                   "cy": "50.383539116415946",
                   "fill": "maroon",
                   "r": "30.0"
                  }
                 },
                 "type": "node"
                },
                {
                 "children": [],
                 "instanceArgs": {
                  "namespace": "svg",
                  "tag": "circle"
                 },
                 "nodeType": "DOM",
                 "props": {
                  "attributes": {
                   "cx": "272.95072740260053",
                   "cy": "51.754738737566754",
                   "fill": "red",
                   "r": "30.0"
                  }
                 },
                 "type": "node"
                },
                {
                 "children": [],
                 "instanceArgs": {
                  "namespace": "svg",
                  "tag": "circle"
                 },
                 "nodeType": "DOM",
                 "props": {
                  "attributes": {
                   "cx": "278.52115041081686",
                   "cy": "54.10757253368615",
                   "fill": "olive",
                   "r": "30.0"
                  }
                 },
                 "type": "node"
                },
                {
                 "children": [],
                 "instanceArgs": {
                  "namespace": "svg",
                  "tag": "circle"
                 },
                 "nodeType": "DOM",
                 "props": {
                  "attributes": {
                   "cx": "284.09157341903324",
                   "cy": "57.418531767226796",
                   "fill": "yellow",
                   "r": "30.0"
                  }
                 },
                 "type": "node"
                },
                {
                 "children": [],
                 "instanceArgs": {
                  "namespace": "svg",
                  "tag": "circle"
                 },
                 "nodeType": "DOM",
                 "props": {
                  "attributes": {
                   "cx": "289.6619964272495",
                   "cy": "61.654534427984686",
                   "fill": "green",
                   "r": "30.0"
                  }
                 },
                 "type": "node"
                },
                {
                 "children": [],
                 "instanceArgs": {
                  "namespace": "svg",
                  "tag": "circle"
                 },
                 "nodeType": "DOM",
                 "props": {
                  "attributes": {
                   "cx": "295.2324194354659",
                   "cy": "66.77325577760992",
                   "fill": "lime",
                   "r": "30.0"
                  }
                 },
                 "type": "node"
                },
                {
                 "children": [],
                 "instanceArgs": {
                  "namespace": "svg",
                  "tag": "circle"
                 },
                 "nodeType": "DOM",
                 "props": {
                  "attributes": {
                   "cx": "300.8028424436822",
                   "cy": "72.72355124440129",
                   "fill": "teal",
                   "r": "30.0"
                  }
                 },
                 "type": "node"
                },
                {
                 "children": [],
                 "instanceArgs": {
                  "namespace": "svg",
                  "tag": "circle"
                 },
                 "nodeType": "DOM",
                 "props": {
                  "attributes": {
                   "cx": "306.37326545189853",
                   "cy": "79.44596744296081",
                   "fill": "aqua",
                   "r": "30.0"
                  }
                 },
                 "type": "node"
                },
                {
                 "children": [],
                 "instanceArgs": {
                  "namespace": "svg",
                  "tag": "circle"
                 },
                 "nodeType": "DOM",
                 "props": {
                  "attributes": {
                   "cx": "311.9436884601149",
                   "cy": "86.87333621276792",
                   "fill": "navy",
                   "r": "30.0"
                  }
                 },
                 "type": "node"
                },
                {
                 "children": [],
                 "instanceArgs": {
                  "namespace": "svg",
                  "tag": "circle"
                 },
                 "nodeType": "DOM",
                 "props": {
                  "attributes": {
                   "cx": "317.5141114683312",
                   "cy": "94.93144574023623",
                   "fill": "blue",
                   "r": "30.0"
                  }
                 },
                 "type": "node"
                },
                {
                 "children": [],
                 "instanceArgs": {
                  "namespace": "svg",
                  "tag": "circle"
                 },
                 "nodeType": "DOM",
                 "props": {
                  "attributes": {
                   "cx": "323.08453447654756",
                   "cy": "103.53978205862435",
                   "fill": "purple",
                   "r": "30.0"
                  }
                 },
                 "type": "node"
                },
                {
                 "children": [],
                 "instanceArgs": {
                  "namespace": "svg",
                  "tag": "circle"
                 },
                 "nodeType": "DOM",
                 "props": {
                  "attributes": {
                   "cx": "328.6549574847639",
                   "cy": "112.6123335169764",
                   "fill": "fuchsia",
                   "r": "30.0"
                  }
                 },
                 "type": "node"
                },
                {
                 "children": [],
                 "instanceArgs": {
                  "namespace": "svg",
                  "tag": "circle"
                 },
                 "nodeType": "DOM",
                 "props": {
                  "attributes": {
                   "cx": "334.2253804929802",
                   "cy": "122.05845018010741",
                   "fill": "black",
                   "r": "30.0"
                  }
                 },
                 "type": "node"
                },
                {
                 "children": [],
                 "instanceArgs": {
                  "namespace": "svg",
                  "tag": "circle"
                 },
                 "nodeType": "DOM",
                 "props": {
                  "attributes": {
                   "cx": "339.79580350119653",
                   "cy": "131.7837495727905",
                   "fill": "gray",
                   "r": "30.0"
                  }
                 },
                 "type": "node"
                },
                {
                 "children": [],
                 "instanceArgs": {
                  "namespace": "svg",
                  "tag": "circle"
                 },
                 "nodeType": "DOM",
                 "props": {
                  "attributes": {
                   "cx": "345.3662265094129",
                   "cy": "141.69105971825036",
                   "fill": "silver",
                   "r": "30.0"
                  }
                 },
                 "type": "node"
                },
                {
                 "children": [],
                 "instanceArgs": {
                  "namespace": "svg",
                  "tag": "circle"
                 },
                 "nodeType": "DOM",
                 "props": {
                  "attributes": {
                   "cx": "350.9366495176293",
                   "cy": "151.68139004843505",
                   "fill": "maroon",
                   "r": "30.0"
                  }
                 },
                 "type": "node"
                },
                {
                 "children": [],
                 "instanceArgs": {
                  "namespace": "svg",
                  "tag": "circle"
                 },
                 "nodeType": "DOM",
                 "props": {
                  "attributes": {
                   "cx": "356.50707252584556",
                   "cy": "161.65492048504936",
                   "fill": "red",
                   "r": "30.0"
                  }
                 },
                 "type": "node"
                },
                {
                 "children": [],
                 "instanceArgs": {
                  "namespace": "svg",
                  "tag": "circle"
                 },
                 "nodeType": "DOM",
                 "props": {
                  "attributes": {
                   "cx": "362.0774955340619",
                   "cy": "171.51199880878156",
                   "fill": "olive",
                   "r": "30.0"
                  }
                 },
                 "type": "node"
                },
                {
                 "children": [],
                 "instanceArgs": {
                  "namespace": "svg",
                  "tag": "circle"
                 },
                 "nodeType": "DOM",
                 "props": {
                  "attributes": {
                   "cx": "367.64791854227826",
                   "cy": "181.15413635133785",
                   "fill": "yellow",
                   "r": "30.0"
                  }
                 },
                 "type": "node"
                },
                {
                 "children": [],
                 "instanceArgs": {
                  "namespace": "svg",
                  "tag": "circle"
                 },
                 "nodeType": "DOM",
                 "props": {
                  "attributes": {
                   "cx": "373.2183415504946",
                   "cy": "190.48499206165982",
                   "fill": "green",
                   "r": "30.0"
                  }
                 },
                 "type": "node"
                },
                {
                 "children": [],
                 "instanceArgs": {
                  "namespace": "svg",
                  "tag": "circle"
                 },
                 "nodeType": "DOM",
                 "props": {
                  "attributes": {
                   "cx": "378.78876455871097",
                   "cy": "199.4113351138609",
                   "fill": "lime",
                   "r": "30.0"
                  }
                 },
                 "type": "node"
                },
                {
                 "children": [],
                 "instanceArgs": {
                  "namespace": "svg",
                  "tag": "circle"
                 },
                 "nodeType": "DOM",
                 "props": {
                  "attributes": {
                   "cx": "384.35918756692723",
                   "cy": "207.84397643882002",
                   "fill": "teal",
                   "r": "30.0"
                  }
                 },
                 "type": "node"
                },
                {
                 "children": [],
                 "instanceArgs": {
                  "namespace": "svg",
                  "tag": "circle"
                 },
                 "nodeType": "DOM",
                 "props": {
                  "attributes": {
                   "cx": "389.9296105751436",
                   "cy": "215.6986598718789",
                   "fill": "aqua",
                   "r": "30.0"
                  }
                 },
                 "type": "node"
                },
                {
                 "children": [],
                 "instanceArgs": {
                  "namespace": "svg",
                  "tag": "circle"
                 },
                 "nodeType": "DOM",
                 "props": {
                  "attributes": {
                   "cx": "395.50003358335994",
                   "cy": "222.89690401258764",
                   "fill": "navy",
                   "r": "30.0"
                  }
                 },
                 "type": "node"
                },
                {
                 "children": [],
                 "instanceArgs": {
                  "namespace": "svg",
                  "tag": "circle"
                 },
                 "nodeType": "DOM",
                 "props": {
                  "attributes": {
                   "cx": "401.07045659157626",
                   "cy": "229.36678638491532",
                   "fill": "blue",
                   "r": "30.0"
                  }
                 },
                 "type": "node"
                },
                {
                 "children": [],
                 "instanceArgs": {
                  "namespace": "svg",
                  "tag": "circle"
                 },
                 "nodeType": "DOM",
                 "props": {
                  "attributes": {
                   "cx": "406.6408795997927",
                   "cy": "235.04366206285647",
                   "fill": "purple",
                   "r": "30.0"
                  }
                 },
                 "type": "node"
                },
                {
                 "children": [],
                 "instanceArgs": {
                  "namespace": "svg",
                  "tag": "circle"
                 },
                 "nodeType": "DOM",
                 "props": {
                  "attributes": {
                   "cx": "412.21130260800896",
                   "cy": "239.8708095811627",
                   "fill": "fuchsia",
                   "r": "30.0"
                  }
                 },
                 "type": "node"
                },
                {
                 "children": [],
                 "instanceArgs": {
                  "namespace": "svg",
                  "tag": "circle"
                 },
                 "nodeType": "DOM",
                 "props": {
                  "attributes": {
                   "cx": "417.7817256162253",
                   "cy": "243.79999767747387",
                   "fill": "black",
                   "r": "30.0"
                  }
                 },
                 "type": "node"
                },
                {
                 "children": [],
                 "instanceArgs": {
                  "namespace": "svg",
                  "tag": "circle"
                 },
                 "nodeType": "DOM",
                 "props": {
                  "attributes": {
                   "cx": "423.3521486244416",
                   "cy": "246.79196720314866",
                   "fill": "gray",
                   "r": "30.0"
                  }
                 },
                 "type": "node"
                },
                {
                 "children": [],
                 "instanceArgs": {
                  "namespace": "svg",
                  "tag": "circle"
                 },
                 "nodeType": "DOM",
                 "props": {
                  "attributes": {
                   "cx": "428.92257163265793",
                   "cy": "248.81682338770003",
                   "fill": "silver",
                   "r": "30.0"
                  }
                 },
                 "type": "node"
                },
                {
                 "children": [],
                 "instanceArgs": {
                  "namespace": "svg",
                  "tag": "circle"
                 },
                 "nodeType": "DOM",
                 "props": {
                  "attributes": {
                   "cx": "434.4929946408744",
                   "cy": "249.8543345374605",
                   "fill": "maroon",
                   "r": "30.0"
                  }
                 },
                 "type": "node"
                },
                {
                 "children": [],
                 "instanceArgs": {
                  "namespace": "svg",
                  "tag": "circle"
                 },
                 "nodeType": "DOM",
                 "props": {
                  "attributes": {
                   "cx": "440.06341764909064",
                   "cy": "249.8941341839772",
                   "fill": "red",
                   "r": "30.0"
                  }
                 },
                 "type": "node"
                },
                {
                 "children": [],
                 "instanceArgs": {
                  "namespace": "svg",
                  "tag": "circle"
                 },
                 "nodeType": "DOM",
                 "props": {
                  "attributes": {
                   "cx": "445.63384065730696",
                   "cy": "248.93582466233818",
                   "fill": "olive",
                   "r": "30.0"
                  }
                 },
                 "type": "node"
                },
                {
                 "children": [],
                 "instanceArgs": {
                  "namespace": "svg",
                  "tag": "circle"
                 },
                 "nodeType": "DOM",
                 "props": {
                  "attributes": {
                   "cx": "451.2042636655233",
                   "cy": "246.98898108450862",
                   "fill": "yellow",
                   "r": "30.0"
                  }
                 },
                 "type": "node"
                },
                {
                 "children": [],
                 "instanceArgs": {
                  "namespace": "svg",
                  "tag": "circle"
                 },
                 "nodeType": "DOM",
                 "props": {
                  "attributes": {
                   "cx": "456.7746866737397",
                   "cy": "244.07305566797726",
                   "fill": "green",
                   "r": "30.0"
                  }
                 },
                 "type": "node"
                },
                {
                 "children": [],
                 "instanceArgs": {
                  "namespace": "svg",
                  "tag": "circle"
                 },
                 "nodeType": "DOM",
                 "props": {
                  "attributes": {
                   "cx": "462.34510968195605",
                   "cy": "240.2171833756293",
                   "fill": "lime",
                   "r": "30.0"
                  }
                 },
                 "type": "node"
                },
                {
                 "children": [],
                 "instanceArgs": {
                  "namespace": "svg",
                  "tag": "circle"
                 },
                 "nodeType": "DOM",
                 "props": {
                  "attributes": {
                   "cx": "467.9155326901723",
                   "cy": "235.45989080882805",
                   "fill": "teal",
                   "r": "30.0"
                  }
                 },
                 "type": "node"
                },
                {
                 "children": [],
                 "instanceArgs": {
                  "namespace": "svg",
                  "tag": "circle"
                 },
                 "nodeType": "DOM",
                 "props": {
                  "attributes": {
                   "cx": "473.48595569838864",
                   "cy": "229.848711262349",
                   "fill": "aqua",
                   "r": "30.0"
                  }
                 },
                 "type": "node"
                },
                {
                 "children": [],
                 "instanceArgs": {
                  "namespace": "svg",
                  "tag": "circle"
                 },
                 "nodeType": "DOM",
                 "props": {
                  "attributes": {
                   "cx": "479.05637870660496",
                   "cy": "223.43970978741135",
                   "fill": "navy",
                   "r": "30.0"
                  }
                 },
                 "type": "node"
                },
                {
                 "children": [],
                 "instanceArgs": {
                  "namespace": "svg",
                  "tag": "circle"
                 },
                 "nodeType": "DOM",
                 "props": {
                  "attributes": {
                   "cx": "484.6268017148214",
                   "cy": "216.2969230082182",
                   "fill": "blue",
                   "r": "30.0"
                  }
                 },
                 "type": "node"
                },
                {
                 "children": [],
                 "instanceArgs": {
                  "namespace": "svg",
                  "tag": "circle"
                 },
                 "nodeType": "DOM",
                 "props": {
                  "attributes": {
                   "cx": "490.1972247230377",
                   "cy": "208.49171928917616",
                   "fill": "purple",
                   "r": "30.0"
                  }
                 },
                 "type": "node"
                },
                {
                 "children": [],
                 "instanceArgs": {
                  "namespace": "svg",
                  "tag": "circle"
                 },
                 "nodeType": "DOM",
                 "props": {
                  "attributes": {
                   "cx": "495.767647731254",
                   "cy": "200.10208564578846",
                   "fill": "fuchsia",
                   "r": "30.0"
                  }
                 },
                 "type": "node"
                },
                {
                 "children": [],
                 "instanceArgs": {
                  "namespace": "svg",
                  "tag": "circle"
                 },
                 "nodeType": "DOM",
                 "props": {
                  "attributes": {
                   "cx": "501.3380707394703",
                   "cy": "191.21184852417565",
                   "fill": "black",
                   "r": "30.0"
                  }
                 },
                 "type": "node"
                },
                {
                 "children": [],
                 "instanceArgs": {
                  "namespace": "svg",
                  "tag": "circle"
                 },
                 "nodeType": "DOM",
                 "props": {
                  "attributes": {
                   "cx": "506.9084937476867",
                   "cy": "181.9098362349352",
                   "fill": "gray",
                   "r": "30.0"
                  }
                 },
                 "type": "node"
                },
                {
                 "children": [],
                 "instanceArgs": {
                  "namespace": "svg",
                  "tag": "circle"
                 },
                 "nodeType": "DOM",
                 "props": {
                  "attributes": {
                   "cx": "512.4789167559031",
                   "cy": "172.2889914100246",
                   "fill": "silver",
                   "r": "30.0"
                  }
                 },
                 "type": "node"
                },
                {
                 "children": [],
                 "instanceArgs": {
                  "namespace": "svg",
                  "tag": "circle"
                 },
                 "nodeType": "DOM",
                 "props": {
                  "attributes": {
                   "cx": "518.0493397641194",
                   "cy": "162.44544235070617",
                   "fill": "maroon",
                   "r": "30.0"
                  }
                 },
                 "type": "node"
                },
                {
                 "children": [],
                 "instanceArgs": {
                  "namespace": "svg",
                  "tag": "circle"
                 },
                 "nodeType": "DOM",
                 "props": {
                  "attributes": {
                   "cx": "523.6197627723357",
                   "cy": "152.47754254533578",
                   "fill": "red",
                   "r": "30.0"
                  }
                 },
                 "type": "node"
                },
                {
                 "children": [],
                 "instanceArgs": {
                  "namespace": "svg",
                  "tag": "circle"
                 },
                 "nodeType": "DOM",
                 "props": {
                  "attributes": {
                   "cx": "529.190185780552",
                   "cy": "142.48488795381908",
                   "fill": "olive",
                   "r": "30.0"
                  }
                 },
                 "type": "node"
                },
                {
                 "children": [],
                 "instanceArgs": {
                  "namespace": "svg",
                  "tag": "circle"
                 },
                 "nodeType": "DOM",
                 "props": {
                  "attributes": {
                   "cx": "534.7606087887684",
                   "cy": "132.56732187770186",
                   "fill": "yellow",
                   "r": "30.0"
                  }
                 },
                 "type": "node"
                },
                {
                 "children": [],
                 "instanceArgs": {
                  "namespace": "svg",
                  "tag": "circle"
                 },
                 "nodeType": "DOM",
                 "props": {
                  "attributes": {
                   "cx": "540.3310317969848",
                   "cy": "122.82393735890558",
                   "fill": "green",
                   "r": "30.0"
                  }
                 },
                 "type": "node"
                },
                {
                 "children": [],
                 "instanceArgs": {
                  "namespace": "svg",
                  "tag": "circle"
                 },
                 "nodeType": "DOM",
                 "props": {
                  "attributes": {
                   "cx": "545.9014548052011",
                   "cy": "113.35208707480717",
                   "fill": "lime",
                   "r": "30.0"
                  }
                 },
                 "type": "node"
                },
                {
                 "children": [],
                 "instanceArgs": {
                  "namespace": "svg",
                  "tag": "circle"
                 },
                 "nodeType": "DOM",
                 "props": {
                  "attributes": {
                   "cx": "551.4718778134173",
                   "cy": "104.24641062246786",
                   "fill": "teal",
                   "r": "30.0"
                  }
                 },
                 "type": "node"
                },
                {
                 "children": [],
                 "instanceArgs": {
                  "namespace": "svg",
                  "tag": "circle"
                 },
                 "nodeType": "DOM",
                 "props": {
                  "attributes": {
                   "cx": "557.0423008216337",
                   "cy": "95.59788891106302",
                   "fill": "aqua",
                   "r": "30.0"
                  }
                 },
                 "type": "node"
                }
               ],
               "instanceArgs": {
                "namespace": "svg",
                "tag": "svg"
               },
               "nodeType": "DOM",
               "props": {
                "attributes": {
                 "height": "300",
                 "width": "700"
                }
               },
               "type": "node"
              }
             ],
             "instanceArgs": {
              "namespace": "html",
              "tag": "div"
             },
             "nodeType": "DOM",
             "props": {
              "className": "interact-flex-row interact-widget"
             },
             "type": "node"
            }
           }
          },
          "systemjs_options": null
         },
         "nodeType": "Scope",
         "props": {},
         "type": "node"
        }
       ],
       "instanceArgs": {
        "namespace": "html",
        "tag": "div"
       },
       "nodeType": "DOM",
       "props": {},
       "type": "node"
      },
      "text/html": [
       "<div\n",
       "    class=\"webio-mountpoint\"\n",
       "    data-webio-mountpoint=\"16839640406291532028\"\n",
       ">\n",
       "    <script>\n",
       "    (function(){\n",
       "    // Some integrations (namely, IJulia/Jupyter) use an alternate render pathway than\n",
       "    // just putting the html on the page. If WebIO isn't defined, then it's pretty likely\n",
       "    // that we're in one of those situations and the integration just isn't installed\n",
       "    // correctly.\n",
       "    if (typeof window.WebIO === \"undefined\") {\n",
       "        document\n",
       "            .querySelector('[data-webio-mountpoint=\"16839640406291532028\"]')\n",
       "            .innerHTML = (\n",
       "                '<div style=\"padding: 1em; background-color: #f8d6da; border: 1px solid #f5c6cb; font-weight: bold;\">' +\n",
       "                '<p><strong>WebIO not detected.</strong></p>' +\n",
       "                '<p>Please read ' +\n",
       "                '<a href=\"https://juliagizmos.github.io/WebIO.jl/latest/troubleshooting/not-detected/\" target=\"_blank\">the troubleshooting guide</a> ' +\n",
       "                'for more information on how to resolve this issue.</p>' +\n",
       "                '<p><a href=\"https://juliagizmos.github.io/WebIO.jl/latest/troubleshooting/not-detected/\" target=\"_blank\">https://juliagizmos.github.io/WebIO.jl/latest/troubleshooting/not-detected/</a></p>' +\n",
       "                '</div>'\n",
       "            );\n",
       "        return;\n",
       "    }\n",
       "    WebIO.mount(\n",
       "        document.querySelector('[data-webio-mountpoint=\"16839640406291532028\"]'),\n",
       "        {\"props\":{},\"nodeType\":\"DOM\",\"type\":\"node\",\"instanceArgs\":{\"namespace\":\"html\",\"tag\":\"div\"},\"children\":[{\"props\":{\"className\":\"field interact-widget\"},\"nodeType\":\"DOM\",\"type\":\"node\",\"instanceArgs\":{\"namespace\":\"html\",\"tag\":\"div\"},\"children\":[{\"props\":{},\"nodeType\":\"Scope\",\"type\":\"node\",\"instanceArgs\":{\"imports\":{\"data\":[{\"name\":\"knockout\",\"type\":\"js\",\"url\":\"\\/assetserver\\/d0f67ea5103338bec547a71428bdbf3df4f08059-knockout.js\"},{\"name\":\"knockout_punches\",\"type\":\"js\",\"url\":\"\\/assetserver\\/e26f753938579e2287344150f7e368ac4b529445-knockout_punches.js\"},{\"name\":null,\"type\":\"js\",\"url\":\"\\/assetserver\\/f71b84de1a55136a6c3fa3ef48eef72511463954-all.js\"},{\"name\":null,\"type\":\"css\",\"url\":\"\\/assetserver\\/dfba341bd7a3bedeba9caeda5288e80d20d1c596-style.css\"},{\"name\":null,\"type\":\"css\",\"url\":\"\\/assetserver\\/53e68c0bec04ce908a124e6cd1565929ff6ce3a7-bulma_confined.min.css\"}],\"type\":\"async_block\"},\"id\":\"4345376710634941430\",\"handlers\":{\"changes\":[\"(function (val){return (val!=this.model[\\\"changes\\\"]()) ? (this.valueFromJulia[\\\"changes\\\"]=true, this.model[\\\"changes\\\"](val)) : undefined})\"],\"index\":[\"(function (val){return (val!=this.model[\\\"index\\\"]()) ? (this.valueFromJulia[\\\"index\\\"]=true, this.model[\\\"index\\\"](val)) : undefined})\"]},\"systemjs_options\":null,\"mount_callbacks\":[\"function () {\\n    var handler = (function (ko, koPunches) {\\n    ko.punches.enableAll();\\n    ko.bindingHandlers.numericValue = {\\n        init: function(element, valueAccessor, allBindings, data, context) {\\n            var stringified = ko.observable(ko.unwrap(valueAccessor()));\\n            stringified.subscribe(function(value) {\\n                var val = parseFloat(value);\\n                if (!isNaN(val)) {\\n                    valueAccessor()(val);\\n                }\\n            });\\n            valueAccessor().subscribe(function(value) {\\n                var str = JSON.stringify(value);\\n                if ((str == \\\"0\\\") && ([\\\"-0\\\", \\\"-0.\\\"].indexOf(stringified()) >= 0))\\n                     return;\\n                 if ([\\\"null\\\", \\\"\\\"].indexOf(str) >= 0)\\n                     return;\\n                stringified(str);\\n            });\\n            ko.applyBindingsToNode(\\n                element,\\n                {\\n                    value: stringified,\\n                    valueUpdate: allBindings.get('valueUpdate'),\\n                },\\n                context,\\n            );\\n        }\\n    };\\n    var json_data = {\\\"formatted_vals\\\":[\\\"1\\\",\\\"2\\\",\\\"3\\\",\\\"4\\\",\\\"5\\\",\\\"6\\\",\\\"7\\\",\\\"8\\\",\\\"9\\\",\\\"10\\\",\\\"11\\\",\\\"12\\\",\\\"13\\\",\\\"14\\\",\\\"15\\\",\\\"16\\\",\\\"17\\\",\\\"18\\\",\\\"19\\\",\\\"20\\\",\\\"21\\\",\\\"22\\\",\\\"23\\\",\\\"24\\\",\\\"25\\\",\\\"26\\\",\\\"27\\\",\\\"28\\\",\\\"29\\\",\\\"30\\\",\\\"31\\\",\\\"32\\\",\\\"33\\\",\\\"34\\\",\\\"35\\\",\\\"36\\\",\\\"37\\\",\\\"38\\\",\\\"39\\\",\\\"40\\\",\\\"41\\\",\\\"42\\\",\\\"43\\\",\\\"44\\\",\\\"45\\\",\\\"46\\\",\\\"47\\\",\\\"48\\\",\\\"49\\\",\\\"50\\\",\\\"51\\\",\\\"52\\\",\\\"53\\\",\\\"54\\\",\\\"55\\\",\\\"56\\\",\\\"57\\\",\\\"58\\\",\\\"59\\\",\\\"60\\\",\\\"61\\\",\\\"62\\\",\\\"63\\\",\\\"64\\\",\\\"65\\\",\\\"66\\\",\\\"67\\\",\\\"68\\\",\\\"69\\\",\\\"70\\\",\\\"71\\\",\\\"72\\\",\\\"73\\\",\\\"74\\\",\\\"75\\\",\\\"76\\\",\\\"77\\\",\\\"78\\\",\\\"79\\\",\\\"80\\\",\\\"81\\\",\\\"82\\\",\\\"83\\\",\\\"84\\\",\\\"85\\\",\\\"86\\\",\\\"87\\\",\\\"88\\\",\\\"89\\\",\\\"90\\\",\\\"91\\\",\\\"92\\\",\\\"93\\\",\\\"94\\\",\\\"95\\\",\\\"96\\\",\\\"97\\\",\\\"98\\\",\\\"99\\\",\\\"100\\\",\\\"101\\\",\\\"102\\\",\\\"103\\\",\\\"104\\\",\\\"105\\\",\\\"106\\\",\\\"107\\\",\\\"108\\\",\\\"109\\\",\\\"110\\\",\\\"111\\\",\\\"112\\\",\\\"113\\\",\\\"114\\\",\\\"115\\\",\\\"116\\\",\\\"117\\\",\\\"118\\\",\\\"119\\\",\\\"120\\\",\\\"121\\\",\\\"122\\\",\\\"123\\\",\\\"124\\\",\\\"125\\\",\\\"126\\\",\\\"127\\\",\\\"128\\\",\\\"129\\\",\\\"130\\\",\\\"131\\\",\\\"132\\\",\\\"133\\\",\\\"134\\\",\\\"135\\\",\\\"136\\\",\\\"137\\\",\\\"138\\\",\\\"139\\\",\\\"140\\\",\\\"141\\\",\\\"142\\\",\\\"143\\\",\\\"144\\\",\\\"145\\\",\\\"146\\\",\\\"147\\\",\\\"148\\\",\\\"149\\\",\\\"150\\\",\\\"151\\\",\\\"152\\\",\\\"153\\\",\\\"154\\\",\\\"155\\\",\\\"156\\\",\\\"157\\\",\\\"158\\\",\\\"159\\\",\\\"160\\\",\\\"161\\\",\\\"162\\\",\\\"163\\\",\\\"164\\\",\\\"165\\\",\\\"166\\\",\\\"167\\\",\\\"168\\\",\\\"169\\\",\\\"170\\\",\\\"171\\\",\\\"172\\\",\\\"173\\\",\\\"174\\\",\\\"175\\\",\\\"176\\\",\\\"177\\\",\\\"178\\\",\\\"179\\\",\\\"180\\\",\\\"181\\\",\\\"182\\\",\\\"183\\\",\\\"184\\\",\\\"185\\\",\\\"186\\\",\\\"187\\\",\\\"188\\\",\\\"189\\\",\\\"190\\\",\\\"191\\\",\\\"192\\\",\\\"193\\\",\\\"194\\\",\\\"195\\\",\\\"196\\\",\\\"197\\\",\\\"198\\\",\\\"199\\\",\\\"200\\\"],\\\"changes\\\":WebIO.getval({\\\"name\\\":\\\"changes\\\",\\\"scope\\\":\\\"4345376710634941430\\\",\\\"id\\\":\\\"40\\\",\\\"type\\\":\\\"observable\\\"}),\\\"index\\\":WebIO.getval({\\\"name\\\":\\\"index\\\",\\\"scope\\\":\\\"4345376710634941430\\\",\\\"id\\\":\\\"39\\\",\\\"type\\\":\\\"observable\\\"})};\\n    var self = this;\\n    function AppViewModel() {\\n        for (var key in json_data) {\\n            var el = json_data[key];\\n            this[key] = Array.isArray(el) ? ko.observableArray(el) : ko.observable(el);\\n        }\\n        \\n        [this[\\\"formatted_val\\\"]=ko.computed(    function(){\\n        return this.formatted_vals()[parseInt(this.index())-(1)];\\n    }\\n,this)]\\n        [this[\\\"changes\\\"].subscribe((function (val){!(this.valueFromJulia[\\\"changes\\\"]) ? (WebIO.setval({\\\"name\\\":\\\"changes\\\",\\\"scope\\\":\\\"4345376710634941430\\\",\\\"id\\\":\\\"40\\\",\\\"type\\\":\\\"observable\\\"},val)) : undefined; return this.valueFromJulia[\\\"changes\\\"]=false}),self),this[\\\"index\\\"].subscribe((function (val){!(this.valueFromJulia[\\\"index\\\"]) ? (WebIO.setval({\\\"name\\\":\\\"index\\\",\\\"scope\\\":\\\"4345376710634941430\\\",\\\"id\\\":\\\"39\\\",\\\"type\\\":\\\"observable\\\"},val)) : undefined; return this.valueFromJulia[\\\"index\\\"]=false}),self)]\\n        \\n    }\\n    self.model = new AppViewModel();\\n    self.valueFromJulia = {};\\n    for (var key in json_data) {\\n        self.valueFromJulia[key] = false;\\n    }\\n    ko.applyBindings(self.model, self.dom);\\n}\\n);\\n    (WebIO.importBlock({\\\"data\\\":[{\\\"name\\\":\\\"knockout\\\",\\\"type\\\":\\\"js\\\",\\\"url\\\":\\\"\\/assetserver\\/d0f67ea5103338bec547a71428bdbf3df4f08059-knockout.js\\\"},{\\\"name\\\":\\\"knockout_punches\\\",\\\"type\\\":\\\"js\\\",\\\"url\\\":\\\"\\/assetserver\\/e26f753938579e2287344150f7e368ac4b529445-knockout_punches.js\\\"}],\\\"type\\\":\\\"async_block\\\"})).then((imports) => handler.apply(this, imports));\\n}\\n\"],\"observables\":{\"changes\":{\"sync\":false,\"id\":\"40\",\"value\":0},\"index\":{\"sync\":true,\"id\":\"39\",\"value\":100}}},\"children\":[{\"props\":{\"className\":\"interact-flex-row interact-widget\"},\"nodeType\":\"DOM\",\"type\":\"node\",\"instanceArgs\":{\"namespace\":\"html\",\"tag\":\"div\"},\"children\":[{\"props\":{\"className\":\"interact-flex-row-left\"},\"nodeType\":\"DOM\",\"type\":\"node\",\"instanceArgs\":{\"namespace\":\"html\",\"tag\":\"div\"},\"children\":[{\"props\":{\"className\":\"interact \",\"style\":{\"padding\":\"5px 10px 0px 10px\"}},\"nodeType\":\"DOM\",\"type\":\"node\",\"instanceArgs\":{\"namespace\":\"html\",\"tag\":\"label\"},\"children\":[\"nsamples\"]}]},{\"props\":{\"className\":\"interact-flex-row-center\"},\"nodeType\":\"DOM\",\"type\":\"node\",\"instanceArgs\":{\"namespace\":\"html\",\"tag\":\"div\"},\"children\":[{\"props\":{\"max\":200,\"min\":1,\"attributes\":{\"type\":\"range\",\"data-bind\":\"numericValue: index, valueUpdate: 'input', event: {change: function (){this.changes(this.changes()+1)}}\",\"orient\":\"horizontal\"},\"step\":1,\"className\":\"slider slider is-fullwidth\",\"style\":{}},\"nodeType\":\"DOM\",\"type\":\"node\",\"instanceArgs\":{\"namespace\":\"html\",\"tag\":\"input\"},\"children\":[]}]},{\"props\":{\"className\":\"interact-flex-row-right\"},\"nodeType\":\"DOM\",\"type\":\"node\",\"instanceArgs\":{\"namespace\":\"html\",\"tag\":\"div\"},\"children\":[{\"props\":{\"attributes\":{\"data-bind\":\"text: formatted_val\"}},\"nodeType\":\"DOM\",\"type\":\"node\",\"instanceArgs\":{\"namespace\":\"html\",\"tag\":\"p\"},\"children\":[]}]}]}]}]},{\"props\":{\"className\":\"field interact-widget\"},\"nodeType\":\"DOM\",\"type\":\"node\",\"instanceArgs\":{\"namespace\":\"html\",\"tag\":\"div\"},\"children\":[{\"props\":{},\"nodeType\":\"Scope\",\"type\":\"node\",\"instanceArgs\":{\"imports\":{\"data\":[{\"name\":\"knockout\",\"type\":\"js\",\"url\":\"\\/assetserver\\/d0f67ea5103338bec547a71428bdbf3df4f08059-knockout.js\"},{\"name\":\"knockout_punches\",\"type\":\"js\",\"url\":\"\\/assetserver\\/e26f753938579e2287344150f7e368ac4b529445-knockout_punches.js\"},{\"name\":null,\"type\":\"js\",\"url\":\"\\/assetserver\\/f71b84de1a55136a6c3fa3ef48eef72511463954-all.js\"},{\"name\":null,\"type\":\"css\",\"url\":\"\\/assetserver\\/dfba341bd7a3bedeba9caeda5288e80d20d1c596-style.css\"},{\"name\":null,\"type\":\"css\",\"url\":\"\\/assetserver\\/53e68c0bec04ce908a124e6cd1565929ff6ce3a7-bulma_confined.min.css\"}],\"type\":\"async_block\"},\"id\":\"11115385083189134761\",\"handlers\":{\"changes\":[\"(function (val){return (val!=this.model[\\\"changes\\\"]()) ? (this.valueFromJulia[\\\"changes\\\"]=true, this.model[\\\"changes\\\"](val)) : undefined})\"],\"index\":[\"(function (val){return (val!=this.model[\\\"index\\\"]()) ? (this.valueFromJulia[\\\"index\\\"]=true, this.model[\\\"index\\\"](val)) : undefined})\"]},\"systemjs_options\":null,\"mount_callbacks\":[\"function () {\\n    var handler = (function (ko, koPunches) {\\n    ko.punches.enableAll();\\n    ko.bindingHandlers.numericValue = {\\n        init: function(element, valueAccessor, allBindings, data, context) {\\n            var stringified = ko.observable(ko.unwrap(valueAccessor()));\\n            stringified.subscribe(function(value) {\\n                var val = parseFloat(value);\\n                if (!isNaN(val)) {\\n                    valueAccessor()(val);\\n                }\\n            });\\n            valueAccessor().subscribe(function(value) {\\n                var str = JSON.stringify(value);\\n                if ((str == \\\"0\\\") && ([\\\"-0\\\", \\\"-0.\\\"].indexOf(stringified()) >= 0))\\n                     return;\\n                 if ([\\\"null\\\", \\\"\\\"].indexOf(str) >= 0)\\n                     return;\\n                stringified(str);\\n            });\\n            ko.applyBindingsToNode(\\n                element,\\n                {\\n                    value: stringified,\\n                    valueUpdate: allBindings.get('valueUpdate'),\\n                },\\n                context,\\n            );\\n        }\\n    };\\n    var json_data = {\\\"formatted_vals\\\":[\\\"0.01\\\",\\\"0.02\\\",\\\"0.03\\\",\\\"0.04\\\",\\\"0.05\\\",\\\"0.06\\\",\\\"0.07\\\",\\\"0.08\\\",\\\"0.09\\\",\\\"0.1\\\",\\\"0.11\\\",\\\"0.12\\\",\\\"0.13\\\",\\\"0.14\\\",\\\"0.15\\\",\\\"0.16\\\",\\\"0.17\\\",\\\"0.18\\\",\\\"0.19\\\",\\\"0.2\\\",\\\"0.21\\\",\\\"0.22\\\",\\\"0.23\\\",\\\"0.24\\\",\\\"0.25\\\",\\\"0.26\\\",\\\"0.27\\\",\\\"0.28\\\",\\\"0.29\\\",\\\"0.3\\\",\\\"0.31\\\",\\\"0.32\\\",\\\"0.33\\\",\\\"0.34\\\",\\\"0.35\\\",\\\"0.36\\\",\\\"0.37\\\",\\\"0.38\\\",\\\"0.39\\\",\\\"0.4\\\",\\\"0.41\\\",\\\"0.42\\\",\\\"0.43\\\",\\\"0.44\\\",\\\"0.45\\\",\\\"0.46\\\",\\\"0.47\\\",\\\"0.48\\\",\\\"0.49\\\",\\\"0.5\\\",\\\"0.51\\\",\\\"0.52\\\",\\\"0.53\\\",\\\"0.54\\\",\\\"0.55\\\",\\\"0.56\\\",\\\"0.57\\\",\\\"0.58\\\",\\\"0.59\\\",\\\"0.6\\\",\\\"0.61\\\",\\\"0.62\\\",\\\"0.63\\\",\\\"0.64\\\",\\\"0.65\\\",\\\"0.66\\\",\\\"0.67\\\",\\\"0.68\\\",\\\"0.69\\\",\\\"0.7\\\",\\\"0.71\\\",\\\"0.72\\\",\\\"0.73\\\",\\\"0.74\\\",\\\"0.75\\\",\\\"0.76\\\",\\\"0.77\\\",\\\"0.78\\\",\\\"0.79\\\",\\\"0.8\\\",\\\"0.81\\\",\\\"0.82\\\",\\\"0.83\\\",\\\"0.84\\\",\\\"0.85\\\",\\\"0.86\\\",\\\"0.87\\\",\\\"0.88\\\",\\\"0.89\\\",\\\"0.9\\\",\\\"0.91\\\",\\\"0.92\\\",\\\"0.93\\\",\\\"0.94\\\",\\\"0.95\\\",\\\"0.96\\\",\\\"0.97\\\",\\\"0.98\\\",\\\"0.99\\\",\\\"1.0\\\"],\\\"changes\\\":WebIO.getval({\\\"name\\\":\\\"changes\\\",\\\"scope\\\":\\\"11115385083189134761\\\",\\\"id\\\":\\\"43\\\",\\\"type\\\":\\\"observable\\\"}),\\\"index\\\":WebIO.getval({\\\"name\\\":\\\"index\\\",\\\"scope\\\":\\\"11115385083189134761\\\",\\\"id\\\":\\\"42\\\",\\\"type\\\":\\\"observable\\\"})};\\n    var self = this;\\n    function AppViewModel() {\\n        for (var key in json_data) {\\n            var el = json_data[key];\\n            this[key] = Array.isArray(el) ? ko.observableArray(el) : ko.observable(el);\\n        }\\n        \\n        [this[\\\"formatted_val\\\"]=ko.computed(    function(){\\n        return this.formatted_vals()[parseInt(this.index())-(1)];\\n    }\\n,this)]\\n        [this[\\\"changes\\\"].subscribe((function (val){!(this.valueFromJulia[\\\"changes\\\"]) ? (WebIO.setval({\\\"name\\\":\\\"changes\\\",\\\"scope\\\":\\\"11115385083189134761\\\",\\\"id\\\":\\\"43\\\",\\\"type\\\":\\\"observable\\\"},val)) : undefined; return this.valueFromJulia[\\\"changes\\\"]=false}),self),this[\\\"index\\\"].subscribe((function (val){!(this.valueFromJulia[\\\"index\\\"]) ? (WebIO.setval({\\\"name\\\":\\\"index\\\",\\\"scope\\\":\\\"11115385083189134761\\\",\\\"id\\\":\\\"42\\\",\\\"type\\\":\\\"observable\\\"},val)) : undefined; return this.valueFromJulia[\\\"index\\\"]=false}),self)]\\n        \\n    }\\n    self.model = new AppViewModel();\\n    self.valueFromJulia = {};\\n    for (var key in json_data) {\\n        self.valueFromJulia[key] = false;\\n    }\\n    ko.applyBindings(self.model, self.dom);\\n}\\n);\\n    (WebIO.importBlock({\\\"data\\\":[{\\\"name\\\":\\\"knockout\\\",\\\"type\\\":\\\"js\\\",\\\"url\\\":\\\"\\/assetserver\\/d0f67ea5103338bec547a71428bdbf3df4f08059-knockout.js\\\"},{\\\"name\\\":\\\"knockout_punches\\\",\\\"type\\\":\\\"js\\\",\\\"url\\\":\\\"\\/assetserver\\/e26f753938579e2287344150f7e368ac4b529445-knockout_punches.js\\\"}],\\\"type\\\":\\\"async_block\\\"})).then((imports) => handler.apply(this, imports));\\n}\\n\"],\"observables\":{\"changes\":{\"sync\":false,\"id\":\"43\",\"value\":0},\"index\":{\"sync\":true,\"id\":\"42\",\"value\":10}}},\"children\":[{\"props\":{\"className\":\"interact-flex-row interact-widget\"},\"nodeType\":\"DOM\",\"type\":\"node\",\"instanceArgs\":{\"namespace\":\"html\",\"tag\":\"div\"},\"children\":[{\"props\":{\"className\":\"interact-flex-row-left\"},\"nodeType\":\"DOM\",\"type\":\"node\",\"instanceArgs\":{\"namespace\":\"html\",\"tag\":\"div\"},\"children\":[{\"props\":{\"className\":\"interact \",\"style\":{\"padding\":\"5px 10px 0px 10px\"}},\"nodeType\":\"DOM\",\"type\":\"node\",\"instanceArgs\":{\"namespace\":\"html\",\"tag\":\"label\"},\"children\":[\"sample step\"]}]},{\"props\":{\"className\":\"interact-flex-row-center\"},\"nodeType\":\"DOM\",\"type\":\"node\",\"instanceArgs\":{\"namespace\":\"html\",\"tag\":\"div\"},\"children\":[{\"props\":{\"max\":100,\"min\":1,\"attributes\":{\"type\":\"range\",\"data-bind\":\"numericValue: index, valueUpdate: 'input', event: {change: function (){this.changes(this.changes()+1)}}\",\"orient\":\"horizontal\"},\"step\":1,\"className\":\"slider slider is-fullwidth\",\"style\":{}},\"nodeType\":\"DOM\",\"type\":\"node\",\"instanceArgs\":{\"namespace\":\"html\",\"tag\":\"input\"},\"children\":[]}]},{\"props\":{\"className\":\"interact-flex-row-right\"},\"nodeType\":\"DOM\",\"type\":\"node\",\"instanceArgs\":{\"namespace\":\"html\",\"tag\":\"div\"},\"children\":[{\"props\":{\"attributes\":{\"data-bind\":\"text: formatted_val\"}},\"nodeType\":\"DOM\",\"type\":\"node\",\"instanceArgs\":{\"namespace\":\"html\",\"tag\":\"p\"},\"children\":[]}]}]}]}]},{\"props\":{\"className\":\"field interact-widget\"},\"nodeType\":\"DOM\",\"type\":\"node\",\"instanceArgs\":{\"namespace\":\"html\",\"tag\":\"div\"},\"children\":[{\"props\":{},\"nodeType\":\"Scope\",\"type\":\"node\",\"instanceArgs\":{\"imports\":{\"data\":[{\"name\":\"knockout\",\"type\":\"js\",\"url\":\"\\/assetserver\\/d0f67ea5103338bec547a71428bdbf3df4f08059-knockout.js\"},{\"name\":\"knockout_punches\",\"type\":\"js\",\"url\":\"\\/assetserver\\/e26f753938579e2287344150f7e368ac4b529445-knockout_punches.js\"},{\"name\":null,\"type\":\"js\",\"url\":\"\\/assetserver\\/f71b84de1a55136a6c3fa3ef48eef72511463954-all.js\"},{\"name\":null,\"type\":\"css\",\"url\":\"\\/assetserver\\/dfba341bd7a3bedeba9caeda5288e80d20d1c596-style.css\"},{\"name\":null,\"type\":\"css\",\"url\":\"\\/assetserver\\/53e68c0bec04ce908a124e6cd1565929ff6ce3a7-bulma_confined.min.css\"}],\"type\":\"async_block\"},\"id\":\"5233917707772826977\",\"handlers\":{\"changes\":[\"(function (val){return (val!=this.model[\\\"changes\\\"]()) ? (this.valueFromJulia[\\\"changes\\\"]=true, this.model[\\\"changes\\\"](val)) : undefined})\"],\"index\":[\"(function (val){return (val!=this.model[\\\"index\\\"]()) ? (this.valueFromJulia[\\\"index\\\"]=true, this.model[\\\"index\\\"](val)) : undefined})\"]},\"systemjs_options\":null,\"mount_callbacks\":[\"function () {\\n    var handler = (function (ko, koPunches) {\\n    ko.punches.enableAll();\\n    ko.bindingHandlers.numericValue = {\\n        init: function(element, valueAccessor, allBindings, data, context) {\\n            var stringified = ko.observable(ko.unwrap(valueAccessor()));\\n            stringified.subscribe(function(value) {\\n                var val = parseFloat(value);\\n                if (!isNaN(val)) {\\n                    valueAccessor()(val);\\n                }\\n            });\\n            valueAccessor().subscribe(function(value) {\\n                var str = JSON.stringify(value);\\n                if ((str == \\\"0\\\") && ([\\\"-0\\\", \\\"-0.\\\"].indexOf(stringified()) >= 0))\\n                     return;\\n                 if ([\\\"null\\\", \\\"\\\"].indexOf(str) >= 0)\\n                     return;\\n                stringified(str);\\n            });\\n            ko.applyBindingsToNode(\\n                element,\\n                {\\n                    value: stringified,\\n                    valueUpdate: allBindings.get('valueUpdate'),\\n                },\\n                context,\\n            );\\n        }\\n    };\\n    var json_data = {\\\"formatted_vals\\\":[\\\"0.0\\\",\\\"0.1\\\",\\\"0.2\\\",\\\"0.3\\\",\\\"0.4\\\",\\\"0.5\\\",\\\"0.6\\\",\\\"0.7\\\",\\\"0.8\\\",\\\"0.9\\\",\\\"1.0\\\",\\\"1.1\\\",\\\"1.2\\\",\\\"1.3\\\",\\\"1.4\\\",\\\"1.5\\\",\\\"1.6\\\",\\\"1.7\\\",\\\"1.8\\\",\\\"1.9\\\",\\\"2.0\\\",\\\"2.1\\\",\\\"2.2\\\",\\\"2.3\\\",\\\"2.4\\\",\\\"2.5\\\",\\\"2.6\\\",\\\"2.7\\\",\\\"2.8\\\",\\\"2.9\\\",\\\"3.0\\\",\\\"3.1\\\",\\\"3.2\\\",\\\"3.3\\\",\\\"3.4\\\",\\\"3.5\\\",\\\"3.6\\\",\\\"3.7\\\",\\\"3.8\\\",\\\"3.9\\\",\\\"4.0\\\",\\\"4.1\\\",\\\"4.2\\\",\\\"4.3\\\",\\\"4.4\\\",\\\"4.5\\\",\\\"4.6\\\",\\\"4.7\\\",\\\"4.8\\\",\\\"4.9\\\",\\\"5.0\\\",\\\"5.1\\\",\\\"5.2\\\",\\\"5.3\\\",\\\"5.4\\\",\\\"5.5\\\",\\\"5.6\\\",\\\"5.7\\\",\\\"5.8\\\",\\\"5.9\\\",\\\"6.0\\\",\\\"6.1\\\",\\\"6.2\\\"],\\\"changes\\\":WebIO.getval({\\\"name\\\":\\\"changes\\\",\\\"scope\\\":\\\"5233917707772826977\\\",\\\"id\\\":\\\"46\\\",\\\"type\\\":\\\"observable\\\"}),\\\"index\\\":WebIO.getval({\\\"name\\\":\\\"index\\\",\\\"scope\\\":\\\"5233917707772826977\\\",\\\"id\\\":\\\"45\\\",\\\"type\\\":\\\"observable\\\"})};\\n    var self = this;\\n    function AppViewModel() {\\n        for (var key in json_data) {\\n            var el = json_data[key];\\n            this[key] = Array.isArray(el) ? ko.observableArray(el) : ko.observable(el);\\n        }\\n        \\n        [this[\\\"formatted_val\\\"]=ko.computed(    function(){\\n        return this.formatted_vals()[parseInt(this.index())-(1)];\\n    }\\n,this)]\\n        [this[\\\"changes\\\"].subscribe((function (val){!(this.valueFromJulia[\\\"changes\\\"]) ? (WebIO.setval({\\\"name\\\":\\\"changes\\\",\\\"scope\\\":\\\"5233917707772826977\\\",\\\"id\\\":\\\"46\\\",\\\"type\\\":\\\"observable\\\"},val)) : undefined; return this.valueFromJulia[\\\"changes\\\"]=false}),self),this[\\\"index\\\"].subscribe((function (val){!(this.valueFromJulia[\\\"index\\\"]) ? (WebIO.setval({\\\"name\\\":\\\"index\\\",\\\"scope\\\":\\\"5233917707772826977\\\",\\\"id\\\":\\\"45\\\",\\\"type\\\":\\\"observable\\\"},val)) : undefined; return this.valueFromJulia[\\\"index\\\"]=false}),self)]\\n        \\n    }\\n    self.model = new AppViewModel();\\n    self.valueFromJulia = {};\\n    for (var key in json_data) {\\n        self.valueFromJulia[key] = false;\\n    }\\n    ko.applyBindings(self.model, self.dom);\\n}\\n);\\n    (WebIO.importBlock({\\\"data\\\":[{\\\"name\\\":\\\"knockout\\\",\\\"type\\\":\\\"js\\\",\\\"url\\\":\\\"\\/assetserver\\/d0f67ea5103338bec547a71428bdbf3df4f08059-knockout.js\\\"},{\\\"name\\\":\\\"knockout_punches\\\",\\\"type\\\":\\\"js\\\",\\\"url\\\":\\\"\\/assetserver\\/e26f753938579e2287344150f7e368ac4b529445-knockout_punches.js\\\"}],\\\"type\\\":\\\"async_block\\\"})).then((imports) => handler.apply(this, imports));\\n}\\n\"],\"observables\":{\"changes\":{\"sync\":false,\"id\":\"46\",\"value\":0},\"index\":{\"sync\":true,\"id\":\"45\",\"value\":1}}},\"children\":[{\"props\":{\"className\":\"interact-flex-row interact-widget\"},\"nodeType\":\"DOM\",\"type\":\"node\",\"instanceArgs\":{\"namespace\":\"html\",\"tag\":\"div\"},\"children\":[{\"props\":{\"className\":\"interact-flex-row-left\"},\"nodeType\":\"DOM\",\"type\":\"node\",\"instanceArgs\":{\"namespace\":\"html\",\"tag\":\"div\"},\"children\":[{\"props\":{\"className\":\"interact \",\"style\":{\"padding\":\"5px 10px 0px 10px\"}},\"nodeType\":\"DOM\",\"type\":\"node\",\"instanceArgs\":{\"namespace\":\"html\",\"tag\":\"label\"},\"children\":[\"phase\"]}]},{\"props\":{\"className\":\"interact-flex-row-center\"},\"nodeType\":\"DOM\",\"type\":\"node\",\"instanceArgs\":{\"namespace\":\"html\",\"tag\":\"div\"},\"children\":[{\"props\":{\"max\":63,\"min\":1,\"attributes\":{\"type\":\"range\",\"data-bind\":\"numericValue: index, valueUpdate: 'input', event: {change: function (){this.changes(this.changes()+1)}}\",\"orient\":\"horizontal\"},\"step\":1,\"className\":\"slider slider is-fullwidth\",\"style\":{}},\"nodeType\":\"DOM\",\"type\":\"node\",\"instanceArgs\":{\"namespace\":\"html\",\"tag\":\"input\"},\"children\":[]}]},{\"props\":{\"className\":\"interact-flex-row-right\"},\"nodeType\":\"DOM\",\"type\":\"node\",\"instanceArgs\":{\"namespace\":\"html\",\"tag\":\"div\"},\"children\":[{\"props\":{\"attributes\":{\"data-bind\":\"text: formatted_val\"}},\"nodeType\":\"DOM\",\"type\":\"node\",\"instanceArgs\":{\"namespace\":\"html\",\"tag\":\"p\"},\"children\":[]}]}]}]}]},{\"props\":{\"className\":\"field interact-widget\"},\"nodeType\":\"DOM\",\"type\":\"node\",\"instanceArgs\":{\"namespace\":\"html\",\"tag\":\"div\"},\"children\":[{\"props\":{},\"nodeType\":\"Scope\",\"type\":\"node\",\"instanceArgs\":{\"imports\":{\"data\":[{\"name\":\"knockout\",\"type\":\"js\",\"url\":\"\\/assetserver\\/d0f67ea5103338bec547a71428bdbf3df4f08059-knockout.js\"},{\"name\":\"knockout_punches\",\"type\":\"js\",\"url\":\"\\/assetserver\\/e26f753938579e2287344150f7e368ac4b529445-knockout_punches.js\"},{\"name\":null,\"type\":\"js\",\"url\":\"\\/assetserver\\/f71b84de1a55136a6c3fa3ef48eef72511463954-all.js\"},{\"name\":null,\"type\":\"css\",\"url\":\"\\/assetserver\\/dfba341bd7a3bedeba9caeda5288e80d20d1c596-style.css\"},{\"name\":null,\"type\":\"css\",\"url\":\"\\/assetserver\\/53e68c0bec04ce908a124e6cd1565929ff6ce3a7-bulma_confined.min.css\"}],\"type\":\"async_block\"},\"id\":\"6521757301954226480\",\"handlers\":{\"changes\":[\"(function (val){return (val!=this.model[\\\"changes\\\"]()) ? (this.valueFromJulia[\\\"changes\\\"]=true, this.model[\\\"changes\\\"](val)) : undefined})\"],\"index\":[\"(function (val){return (val!=this.model[\\\"index\\\"]()) ? (this.valueFromJulia[\\\"index\\\"]=true, this.model[\\\"index\\\"](val)) : undefined})\"]},\"systemjs_options\":null,\"mount_callbacks\":[\"function () {\\n    var handler = (function (ko, koPunches) {\\n    ko.punches.enableAll();\\n    ko.bindingHandlers.numericValue = {\\n        init: function(element, valueAccessor, allBindings, data, context) {\\n            var stringified = ko.observable(ko.unwrap(valueAccessor()));\\n            stringified.subscribe(function(value) {\\n                var val = parseFloat(value);\\n                if (!isNaN(val)) {\\n                    valueAccessor()(val);\\n                }\\n            });\\n            valueAccessor().subscribe(function(value) {\\n                var str = JSON.stringify(value);\\n                if ((str == \\\"0\\\") && ([\\\"-0\\\", \\\"-0.\\\"].indexOf(stringified()) >= 0))\\n                     return;\\n                 if ([\\\"null\\\", \\\"\\\"].indexOf(str) >= 0)\\n                     return;\\n                stringified(str);\\n            });\\n            ko.applyBindingsToNode(\\n                element,\\n                {\\n                    value: stringified,\\n                    valueUpdate: allBindings.get('valueUpdate'),\\n                },\\n                context,\\n            );\\n        }\\n    };\\n    var json_data = {\\\"formatted_vals\\\":[\\\"0.1\\\",\\\"0.2\\\",\\\"0.3\\\",\\\"0.4\\\",\\\"0.5\\\",\\\"0.6\\\",\\\"0.7\\\",\\\"0.8\\\",\\\"0.9\\\",\\\"1.0\\\",\\\"1.1\\\",\\\"1.2\\\",\\\"1.3\\\",\\\"1.4\\\",\\\"1.5\\\",\\\"1.6\\\",\\\"1.7\\\",\\\"1.8\\\",\\\"1.9\\\",\\\"2.0\\\",\\\"2.1\\\",\\\"2.2\\\",\\\"2.3\\\",\\\"2.4\\\",\\\"2.5\\\",\\\"2.6\\\",\\\"2.7\\\",\\\"2.8\\\",\\\"2.9\\\",\\\"3.0\\\",\\\"3.1\\\",\\\"3.2\\\",\\\"3.3\\\",\\\"3.4\\\",\\\"3.5\\\",\\\"3.6\\\",\\\"3.7\\\",\\\"3.8\\\",\\\"3.9\\\",\\\"4.0\\\",\\\"4.1\\\",\\\"4.2\\\",\\\"4.3\\\",\\\"4.4\\\",\\\"4.5\\\",\\\"4.6\\\",\\\"4.7\\\",\\\"4.8\\\",\\\"4.9\\\",\\\"5.0\\\",\\\"5.1\\\",\\\"5.2\\\",\\\"5.3\\\",\\\"5.4\\\",\\\"5.5\\\",\\\"5.6\\\",\\\"5.7\\\",\\\"5.8\\\",\\\"5.9\\\",\\\"6.0\\\",\\\"6.1\\\",\\\"6.2\\\",\\\"6.3\\\",\\\"6.4\\\",\\\"6.5\\\",\\\"6.6\\\",\\\"6.7\\\",\\\"6.8\\\",\\\"6.9\\\",\\\"7.0\\\",\\\"7.1\\\",\\\"7.2\\\",\\\"7.3\\\",\\\"7.4\\\",\\\"7.5\\\",\\\"7.6\\\",\\\"7.7\\\",\\\"7.8\\\",\\\"7.9\\\",\\\"8.0\\\",\\\"8.1\\\",\\\"8.2\\\",\\\"8.3\\\",\\\"8.4\\\",\\\"8.5\\\",\\\"8.6\\\",\\\"8.7\\\",\\\"8.8\\\",\\\"8.9\\\",\\\"9.0\\\",\\\"9.1\\\",\\\"9.2\\\",\\\"9.3\\\",\\\"9.4\\\",\\\"9.5\\\",\\\"9.6\\\",\\\"9.7\\\",\\\"9.8\\\",\\\"9.9\\\",\\\"10.0\\\",\\\"10.1\\\",\\\"10.2\\\",\\\"10.3\\\",\\\"10.4\\\",\\\"10.5\\\",\\\"10.6\\\",\\\"10.7\\\",\\\"10.8\\\",\\\"10.9\\\",\\\"11.0\\\",\\\"11.1\\\",\\\"11.2\\\",\\\"11.3\\\",\\\"11.4\\\",\\\"11.5\\\",\\\"11.6\\\",\\\"11.7\\\",\\\"11.8\\\",\\\"11.9\\\",\\\"12.0\\\",\\\"12.1\\\",\\\"12.2\\\",\\\"12.3\\\",\\\"12.4\\\",\\\"12.5\\\",\\\"12.6\\\",\\\"12.7\\\",\\\"12.8\\\",\\\"12.9\\\",\\\"13.0\\\",\\\"13.1\\\",\\\"13.2\\\",\\\"13.3\\\",\\\"13.4\\\",\\\"13.5\\\",\\\"13.6\\\",\\\"13.7\\\",\\\"13.8\\\",\\\"13.9\\\",\\\"14.0\\\",\\\"14.1\\\",\\\"14.2\\\",\\\"14.3\\\",\\\"14.4\\\",\\\"14.5\\\",\\\"14.6\\\",\\\"14.7\\\",\\\"14.8\\\",\\\"14.9\\\",\\\"15.0\\\",\\\"15.1\\\",\\\"15.2\\\",\\\"15.3\\\",\\\"15.4\\\",\\\"15.5\\\",\\\"15.6\\\",\\\"15.7\\\",\\\"15.8\\\",\\\"15.9\\\",\\\"16.0\\\",\\\"16.1\\\",\\\"16.2\\\",\\\"16.3\\\",\\\"16.4\\\",\\\"16.5\\\",\\\"16.6\\\",\\\"16.7\\\",\\\"16.8\\\",\\\"16.9\\\",\\\"17.0\\\",\\\"17.1\\\",\\\"17.2\\\",\\\"17.3\\\",\\\"17.4\\\",\\\"17.5\\\",\\\"17.6\\\",\\\"17.7\\\",\\\"17.8\\\",\\\"17.9\\\",\\\"18.0\\\",\\\"18.1\\\",\\\"18.2\\\",\\\"18.3\\\",\\\"18.4\\\",\\\"18.5\\\",\\\"18.6\\\",\\\"18.7\\\",\\\"18.8\\\",\\\"18.9\\\",\\\"19.0\\\",\\\"19.1\\\",\\\"19.2\\\",\\\"19.3\\\",\\\"19.4\\\",\\\"19.5\\\",\\\"19.6\\\",\\\"19.7\\\",\\\"19.8\\\",\\\"19.9\\\",\\\"20.0\\\",\\\"20.1\\\",\\\"20.2\\\",\\\"20.3\\\",\\\"20.4\\\",\\\"20.5\\\",\\\"20.6\\\",\\\"20.7\\\",\\\"20.8\\\",\\\"20.9\\\",\\\"21.0\\\",\\\"21.1\\\",\\\"21.2\\\",\\\"21.3\\\",\\\"21.4\\\",\\\"21.5\\\",\\\"21.6\\\",\\\"21.7\\\",\\\"21.8\\\",\\\"21.9\\\",\\\"22.0\\\",\\\"22.1\\\",\\\"22.2\\\",\\\"22.3\\\",\\\"22.4\\\",\\\"22.5\\\",\\\"22.6\\\",\\\"22.7\\\",\\\"22.8\\\",\\\"22.9\\\",\\\"23.0\\\",\\\"23.1\\\",\\\"23.2\\\",\\\"23.3\\\",\\\"23.4\\\",\\\"23.5\\\",\\\"23.6\\\",\\\"23.7\\\",\\\"23.8\\\",\\\"23.9\\\",\\\"24.0\\\",\\\"24.1\\\",\\\"24.2\\\",\\\"24.3\\\",\\\"24.4\\\",\\\"24.5\\\",\\\"24.6\\\",\\\"24.7\\\",\\\"24.8\\\",\\\"24.9\\\",\\\"25.0\\\",\\\"25.1\\\",\\\"25.2\\\",\\\"25.3\\\",\\\"25.4\\\",\\\"25.5\\\",\\\"25.6\\\",\\\"25.7\\\",\\\"25.8\\\",\\\"25.9\\\",\\\"26.0\\\",\\\"26.1\\\",\\\"26.2\\\",\\\"26.3\\\",\\\"26.4\\\",\\\"26.5\\\",\\\"26.6\\\",\\\"26.7\\\",\\\"26.8\\\",\\\"26.9\\\",\\\"27.0\\\",\\\"27.1\\\",\\\"27.2\\\",\\\"27.3\\\",\\\"27.4\\\",\\\"27.5\\\",\\\"27.6\\\",\\\"27.7\\\",\\\"27.8\\\",\\\"27.9\\\",\\\"28.0\\\",\\\"28.1\\\",\\\"28.2\\\",\\\"28.3\\\",\\\"28.4\\\",\\\"28.5\\\",\\\"28.6\\\",\\\"28.7\\\",\\\"28.8\\\",\\\"28.9\\\",\\\"29.0\\\",\\\"29.1\\\",\\\"29.2\\\",\\\"29.3\\\",\\\"29.4\\\",\\\"29.5\\\",\\\"29.6\\\",\\\"29.7\\\",\\\"29.8\\\",\\\"29.9\\\",\\\"30.0\\\",\\\"30.1\\\",\\\"30.2\\\",\\\"30.3\\\",\\\"30.4\\\",\\\"30.5\\\",\\\"30.6\\\",\\\"30.7\\\",\\\"30.8\\\",\\\"30.9\\\",\\\"31.0\\\",\\\"31.1\\\",\\\"31.2\\\",\\\"31.3\\\",\\\"31.4\\\",\\\"31.5\\\",\\\"31.6\\\",\\\"31.7\\\",\\\"31.8\\\",\\\"31.9\\\",\\\"32.0\\\",\\\"32.1\\\",\\\"32.2\\\",\\\"32.3\\\",\\\"32.4\\\",\\\"32.5\\\",\\\"32.6\\\",\\\"32.7\\\",\\\"32.8\\\",\\\"32.9\\\",\\\"33.0\\\",\\\"33.1\\\",\\\"33.2\\\",\\\"33.3\\\",\\\"33.4\\\",\\\"33.5\\\",\\\"33.6\\\",\\\"33.7\\\",\\\"33.8\\\",\\\"33.9\\\",\\\"34.0\\\",\\\"34.1\\\",\\\"34.2\\\",\\\"34.3\\\",\\\"34.4\\\",\\\"34.5\\\",\\\"34.6\\\",\\\"34.7\\\",\\\"34.8\\\",\\\"34.9\\\",\\\"35.0\\\",\\\"35.1\\\",\\\"35.2\\\",\\\"35.3\\\",\\\"35.4\\\",\\\"35.5\\\",\\\"35.6\\\",\\\"35.7\\\",\\\"35.8\\\",\\\"35.9\\\",\\\"36.0\\\",\\\"36.1\\\",\\\"36.2\\\",\\\"36.3\\\",\\\"36.4\\\",\\\"36.5\\\",\\\"36.6\\\",\\\"36.7\\\",\\\"36.8\\\",\\\"36.9\\\",\\\"37.0\\\",\\\"37.1\\\",\\\"37.2\\\",\\\"37.3\\\",\\\"37.4\\\",\\\"37.5\\\",\\\"37.6\\\",\\\"37.7\\\",\\\"37.8\\\",\\\"37.9\\\",\\\"38.0\\\",\\\"38.1\\\",\\\"38.2\\\",\\\"38.3\\\",\\\"38.4\\\",\\\"38.5\\\",\\\"38.6\\\",\\\"38.7\\\",\\\"38.8\\\",\\\"38.9\\\",\\\"39.0\\\",\\\"39.1\\\",\\\"39.2\\\",\\\"39.3\\\",\\\"39.4\\\",\\\"39.5\\\",\\\"39.6\\\",\\\"39.7\\\",\\\"39.8\\\",\\\"39.9\\\",\\\"40.0\\\",\\\"40.1\\\",\\\"40.2\\\",\\\"40.3\\\",\\\"40.4\\\",\\\"40.5\\\",\\\"40.6\\\",\\\"40.7\\\",\\\"40.8\\\",\\\"40.9\\\",\\\"41.0\\\",\\\"41.1\\\",\\\"41.2\\\",\\\"41.3\\\",\\\"41.4\\\",\\\"41.5\\\",\\\"41.6\\\",\\\"41.7\\\",\\\"41.8\\\",\\\"41.9\\\",\\\"42.0\\\",\\\"42.1\\\",\\\"42.2\\\",\\\"42.3\\\",\\\"42.4\\\",\\\"42.5\\\",\\\"42.6\\\",\\\"42.7\\\",\\\"42.8\\\",\\\"42.9\\\",\\\"43.0\\\",\\\"43.1\\\",\\\"43.2\\\",\\\"43.3\\\",\\\"43.4\\\",\\\"43.5\\\",\\\"43.6\\\",\\\"43.7\\\",\\\"43.8\\\",\\\"43.9\\\",\\\"44.0\\\",\\\"44.1\\\",\\\"44.2\\\",\\\"44.3\\\",\\\"44.4\\\",\\\"44.5\\\",\\\"44.6\\\",\\\"44.7\\\",\\\"44.8\\\",\\\"44.9\\\",\\\"45.0\\\",\\\"45.1\\\",\\\"45.2\\\",\\\"45.3\\\",\\\"45.4\\\",\\\"45.5\\\",\\\"45.6\\\",\\\"45.7\\\",\\\"45.8\\\",\\\"45.9\\\",\\\"46.0\\\",\\\"46.1\\\",\\\"46.2\\\",\\\"46.3\\\",\\\"46.4\\\",\\\"46.5\\\",\\\"46.6\\\",\\\"46.7\\\",\\\"46.8\\\",\\\"46.9\\\",\\\"47.0\\\",\\\"47.1\\\",\\\"47.2\\\",\\\"47.3\\\",\\\"47.4\\\",\\\"47.5\\\",\\\"47.6\\\",\\\"47.7\\\",\\\"47.8\\\",\\\"47.9\\\",\\\"48.0\\\",\\\"48.1\\\",\\\"48.2\\\",\\\"48.3\\\",\\\"48.4\\\",\\\"48.5\\\",\\\"48.6\\\",\\\"48.7\\\",\\\"48.8\\\",\\\"48.9\\\",\\\"49.0\\\",\\\"49.1\\\",\\\"49.2\\\",\\\"49.3\\\",\\\"49.4\\\",\\\"49.5\\\",\\\"49.6\\\",\\\"49.7\\\",\\\"49.8\\\",\\\"49.9\\\",\\\"50.0\\\",\\\"50.1\\\",\\\"50.2\\\",\\\"50.3\\\",\\\"50.4\\\",\\\"50.5\\\",\\\"50.6\\\",\\\"50.7\\\",\\\"50.8\\\",\\\"50.9\\\",\\\"51.0\\\",\\\"51.1\\\",\\\"51.2\\\",\\\"51.3\\\",\\\"51.4\\\",\\\"51.5\\\",\\\"51.6\\\",\\\"51.7\\\",\\\"51.8\\\",\\\"51.9\\\",\\\"52.0\\\",\\\"52.1\\\",\\\"52.2\\\",\\\"52.3\\\",\\\"52.4\\\",\\\"52.5\\\",\\\"52.6\\\",\\\"52.7\\\",\\\"52.8\\\",\\\"52.9\\\",\\\"53.0\\\",\\\"53.1\\\",\\\"53.2\\\",\\\"53.3\\\",\\\"53.4\\\",\\\"53.5\\\",\\\"53.6\\\",\\\"53.7\\\",\\\"53.8\\\",\\\"53.9\\\",\\\"54.0\\\",\\\"54.1\\\",\\\"54.2\\\",\\\"54.3\\\",\\\"54.4\\\",\\\"54.5\\\",\\\"54.6\\\",\\\"54.7\\\",\\\"54.8\\\",\\\"54.9\\\",\\\"55.0\\\",\\\"55.1\\\",\\\"55.2\\\",\\\"55.3\\\",\\\"55.4\\\",\\\"55.5\\\",\\\"55.6\\\",\\\"55.7\\\",\\\"55.8\\\",\\\"55.9\\\",\\\"56.0\\\",\\\"56.1\\\",\\\"56.2\\\",\\\"56.3\\\",\\\"56.4\\\",\\\"56.5\\\",\\\"56.6\\\",\\\"56.7\\\",\\\"56.8\\\",\\\"56.9\\\",\\\"57.0\\\",\\\"57.1\\\",\\\"57.2\\\",\\\"57.3\\\",\\\"57.4\\\",\\\"57.5\\\",\\\"57.6\\\",\\\"57.7\\\",\\\"57.8\\\",\\\"57.9\\\",\\\"58.0\\\",\\\"58.1\\\",\\\"58.2\\\",\\\"58.3\\\",\\\"58.4\\\",\\\"58.5\\\",\\\"58.6\\\",\\\"58.7\\\",\\\"58.8\\\",\\\"58.9\\\",\\\"59.0\\\",\\\"59.1\\\",\\\"59.2\\\",\\\"59.3\\\",\\\"59.4\\\",\\\"59.5\\\",\\\"59.6\\\",\\\"59.7\\\",\\\"59.8\\\",\\\"59.9\\\",\\\"60.0\\\"],\\\"changes\\\":WebIO.getval({\\\"name\\\":\\\"changes\\\",\\\"scope\\\":\\\"6521757301954226480\\\",\\\"id\\\":\\\"49\\\",\\\"type\\\":\\\"observable\\\"}),\\\"index\\\":WebIO.getval({\\\"name\\\":\\\"index\\\",\\\"scope\\\":\\\"6521757301954226480\\\",\\\"id\\\":\\\"48\\\",\\\"type\\\":\\\"observable\\\"})};\\n    var self = this;\\n    function AppViewModel() {\\n        for (var key in json_data) {\\n            var el = json_data[key];\\n            this[key] = Array.isArray(el) ? ko.observableArray(el) : ko.observable(el);\\n        }\\n        \\n        [this[\\\"formatted_val\\\"]=ko.computed(    function(){\\n        return this.formatted_vals()[parseInt(this.index())-(1)];\\n    }\\n,this)]\\n        [this[\\\"changes\\\"].subscribe((function (val){!(this.valueFromJulia[\\\"changes\\\"]) ? (WebIO.setval({\\\"name\\\":\\\"changes\\\",\\\"scope\\\":\\\"6521757301954226480\\\",\\\"id\\\":\\\"49\\\",\\\"type\\\":\\\"observable\\\"},val)) : undefined; return this.valueFromJulia[\\\"changes\\\"]=false}),self),this[\\\"index\\\"].subscribe((function (val){!(this.valueFromJulia[\\\"index\\\"]) ? (WebIO.setval({\\\"name\\\":\\\"index\\\",\\\"scope\\\":\\\"6521757301954226480\\\",\\\"id\\\":\\\"48\\\",\\\"type\\\":\\\"observable\\\"},val)) : undefined; return this.valueFromJulia[\\\"index\\\"]=false}),self)]\\n        \\n    }\\n    self.model = new AppViewModel();\\n    self.valueFromJulia = {};\\n    for (var key in json_data) {\\n        self.valueFromJulia[key] = false;\\n    }\\n    ko.applyBindings(self.model, self.dom);\\n}\\n);\\n    (WebIO.importBlock({\\\"data\\\":[{\\\"name\\\":\\\"knockout\\\",\\\"type\\\":\\\"js\\\",\\\"url\\\":\\\"\\/assetserver\\/d0f67ea5103338bec547a71428bdbf3df4f08059-knockout.js\\\"},{\\\"name\\\":\\\"knockout_punches\\\",\\\"type\\\":\\\"js\\\",\\\"url\\\":\\\"\\/assetserver\\/e26f753938579e2287344150f7e368ac4b529445-knockout_punches.js\\\"}],\\\"type\\\":\\\"async_block\\\"})).then((imports) => handler.apply(this, imports));\\n}\\n\"],\"observables\":{\"changes\":{\"sync\":false,\"id\":\"49\",\"value\":0},\"index\":{\"sync\":true,\"id\":\"48\",\"value\":300}}},\"children\":[{\"props\":{\"className\":\"interact-flex-row interact-widget\"},\"nodeType\":\"DOM\",\"type\":\"node\",\"instanceArgs\":{\"namespace\":\"html\",\"tag\":\"div\"},\"children\":[{\"props\":{\"className\":\"interact-flex-row-left\"},\"nodeType\":\"DOM\",\"type\":\"node\",\"instanceArgs\":{\"namespace\":\"html\",\"tag\":\"div\"},\"children\":[{\"props\":{\"className\":\"interact \",\"style\":{\"padding\":\"5px 10px 0px 10px\"}},\"nodeType\":\"DOM\",\"type\":\"node\",\"instanceArgs\":{\"namespace\":\"html\",\"tag\":\"label\"},\"children\":[\"radii\"]}]},{\"props\":{\"className\":\"interact-flex-row-center\"},\"nodeType\":\"DOM\",\"type\":\"node\",\"instanceArgs\":{\"namespace\":\"html\",\"tag\":\"div\"},\"children\":[{\"props\":{\"max\":600,\"min\":1,\"attributes\":{\"type\":\"range\",\"data-bind\":\"numericValue: index, valueUpdate: 'input', event: {change: function (){this.changes(this.changes()+1)}}\",\"orient\":\"horizontal\"},\"step\":1,\"className\":\"slider slider is-fullwidth\",\"style\":{}},\"nodeType\":\"DOM\",\"type\":\"node\",\"instanceArgs\":{\"namespace\":\"html\",\"tag\":\"input\"},\"children\":[]}]},{\"props\":{\"className\":\"interact-flex-row-right\"},\"nodeType\":\"DOM\",\"type\":\"node\",\"instanceArgs\":{\"namespace\":\"html\",\"tag\":\"div\"},\"children\":[{\"props\":{\"attributes\":{\"data-bind\":\"text: formatted_val\"}},\"nodeType\":\"DOM\",\"type\":\"node\",\"instanceArgs\":{\"namespace\":\"html\",\"tag\":\"p\"},\"children\":[]}]}]}]}]},{\"props\":{},\"nodeType\":\"Scope\",\"type\":\"node\",\"instanceArgs\":{\"imports\":{\"data\":[],\"type\":\"async_block\"},\"id\":\"9615397924306386318\",\"handlers\":{},\"systemjs_options\":null,\"mount_callbacks\":[],\"observables\":{\"obs-node\":{\"sync\":false,\"id\":\"53\",\"value\":{\"props\":{\"className\":\"interact-flex-row interact-widget\"},\"nodeType\":\"DOM\",\"type\":\"node\",\"instanceArgs\":{\"namespace\":\"html\",\"tag\":\"div\"},\"children\":[{\"props\":{\"attributes\":{\"height\":\"300\",\"width\":\"700\"}},\"nodeType\":\"DOM\",\"type\":\"node\",\"instanceArgs\":{\"namespace\":\"svg\",\"tag\":\"svg\"},\"children\":[{\"props\":{\"attributes\":{\"cy\":\"159.98334166468283\",\"r\":\"30.0\",\"fill\":\"gray\",\"cx\":\"5.570423008216337\"}},\"nodeType\":\"DOM\",\"type\":\"node\",\"instanceArgs\":{\"namespace\":\"svg\",\"tag\":\"circle\"},\"children\":[]},{\"props\":{\"attributes\":{\"cy\":\"169.8669330795061\",\"r\":\"30.0\",\"fill\":\"silver\",\"cx\":\"11.140846016432674\"}},\"nodeType\":\"DOM\",\"type\":\"node\",\"instanceArgs\":{\"namespace\":\"svg\",\"tag\":\"circle\"},\"children\":[]},{\"props\":{\"attributes\":{\"cy\":\"179.55202066613396\",\"r\":\"30.0\",\"fill\":\"maroon\",\"cx\":\"16.711269024649013\"}},\"nodeType\":\"DOM\",\"type\":\"node\",\"instanceArgs\":{\"namespace\":\"svg\",\"tag\":\"circle\"},\"children\":[]},{\"props\":{\"attributes\":{\"cy\":\"188.94183423086506\",\"r\":\"30.0\",\"fill\":\"red\",\"cx\":\"22.281692032865347\"}},\"nodeType\":\"DOM\",\"type\":\"node\",\"instanceArgs\":{\"namespace\":\"svg\",\"tag\":\"circle\"},\"children\":[]},{\"props\":{\"attributes\":{\"cy\":\"197.9425538604203\",\"r\":\"30.0\",\"fill\":\"olive\",\"cx\":\"27.852115041081685\"}},\"nodeType\":\"DOM\",\"type\":\"node\",\"instanceArgs\":{\"namespace\":\"svg\",\"tag\":\"circle\"},\"children\":[]},{\"props\":{\"attributes\":{\"cy\":\"206.46424733950354\",\"r\":\"30.0\",\"fill\":\"yellow\",\"cx\":\"33.422538049298026\"}},\"nodeType\":\"DOM\",\"type\":\"node\",\"instanceArgs\":{\"namespace\":\"svg\",\"tag\":\"circle\"},\"children\":[]},{\"props\":{\"attributes\":{\"cy\":\"214.4217687237691\",\"r\":\"30.0\",\"fill\":\"green\",\"cx\":\"38.992961057514364\"}},\"nodeType\":\"DOM\",\"type\":\"node\",\"instanceArgs\":{\"namespace\":\"svg\",\"tag\":\"circle\"},\"children\":[]},{\"props\":{\"attributes\":{\"cy\":\"221.73560908995228\",\"r\":\"30.0\",\"fill\":\"lime\",\"cx\":\"44.563384065730695\"}},\"nodeType\":\"DOM\",\"type\":\"node\",\"instanceArgs\":{\"namespace\":\"svg\",\"tag\":\"circle\"},\"children\":[]},{\"props\":{\"attributes\":{\"cy\":\"228.33269096274836\",\"r\":\"30.0\",\"fill\":\"teal\",\"cx\":\"50.13380707394703\"}},\"nodeType\":\"DOM\",\"type\":\"node\",\"instanceArgs\":{\"namespace\":\"svg\",\"tag\":\"circle\"},\"children\":[]},{\"props\":{\"attributes\":{\"cy\":\"234.14709848078965\",\"r\":\"30.0\",\"fill\":\"aqua\",\"cx\":\"55.70423008216337\"}},\"nodeType\":\"DOM\",\"type\":\"node\",\"instanceArgs\":{\"namespace\":\"svg\",\"tag\":\"circle\"},\"children\":[]},{\"props\":{\"attributes\":{\"cy\":\"239.12073600614355\",\"r\":\"30.0\",\"fill\":\"navy\",\"cx\":\"61.274653090379715\"}},\"nodeType\":\"DOM\",\"type\":\"node\",\"instanceArgs\":{\"namespace\":\"svg\",\"tag\":\"circle\"},\"children\":[]},{\"props\":{\"attributes\":{\"cy\":\"243.2039085967226\",\"r\":\"30.0\",\"fill\":\"blue\",\"cx\":\"66.84507609859605\"}},\"nodeType\":\"DOM\",\"type\":\"node\",\"instanceArgs\":{\"namespace\":\"svg\",\"tag\":\"circle\"},\"children\":[]},{\"props\":{\"attributes\":{\"cy\":\"246.35581854171932\",\"r\":\"30.0\",\"fill\":\"purple\",\"cx\":\"72.41549910681238\"}},\"nodeType\":\"DOM\",\"type\":\"node\",\"instanceArgs\":{\"namespace\":\"svg\",\"tag\":\"circle\"},\"children\":[]},{\"props\":{\"attributes\":{\"cy\":\"248.54497299884605\",\"r\":\"30.0\",\"fill\":\"fuchsia\",\"cx\":\"77.98592211502873\"}},\"nodeType\":\"DOM\",\"type\":\"node\",\"instanceArgs\":{\"namespace\":\"svg\",\"tag\":\"circle\"},\"children\":[]},{\"props\":{\"attributes\":{\"cy\":\"249.74949866040544\",\"r\":\"30.0\",\"fill\":\"black\",\"cx\":\"83.55634512324505\"}},\"nodeType\":\"DOM\",\"type\":\"node\",\"instanceArgs\":{\"namespace\":\"svg\",\"tag\":\"circle\"},\"children\":[]},{\"props\":{\"attributes\":{\"cy\":\"249.95736030415048\",\"r\":\"30.0\",\"fill\":\"gray\",\"cx\":\"89.12676813146139\"}},\"nodeType\":\"DOM\",\"type\":\"node\",\"instanceArgs\":{\"namespace\":\"svg\",\"tag\":\"circle\"},\"children\":[]},{\"props\":{\"attributes\":{\"cy\":\"249.16648104524688\",\"r\":\"30.0\",\"fill\":\"silver\",\"cx\":\"94.69719113967774\"}},\"nodeType\":\"DOM\",\"type\":\"node\",\"instanceArgs\":{\"namespace\":\"svg\",\"tag\":\"circle\"},\"children\":[]},{\"props\":{\"attributes\":{\"cy\":\"247.38476308781952\",\"r\":\"30.0\",\"fill\":\"maroon\",\"cx\":\"100.26761414789407\"}},\"nodeType\":\"DOM\",\"type\":\"node\",\"instanceArgs\":{\"namespace\":\"svg\",\"tag\":\"circle\"},\"children\":[]},{\"props\":{\"attributes\":{\"cy\":\"244.63000876874145\",\"r\":\"30.0\",\"fill\":\"red\",\"cx\":\"105.8380371561104\"}},\"nodeType\":\"DOM\",\"type\":\"node\",\"instanceArgs\":{\"namespace\":\"svg\",\"tag\":\"circle\"},\"children\":[]},{\"props\":{\"attributes\":{\"cy\":\"240.9297426825682\",\"r\":\"30.0\",\"fill\":\"olive\",\"cx\":\"111.40846016432674\"}},\"nodeType\":\"DOM\",\"type\":\"node\",\"instanceArgs\":{\"namespace\":\"svg\",\"tag\":\"circle\"},\"children\":[]},{\"props\":{\"attributes\":{\"cy\":\"236.32093666488737\",\"r\":\"30.0\",\"fill\":\"yellow\",\"cx\":\"116.97888317254308\"}},\"nodeType\":\"DOM\",\"type\":\"node\",\"instanceArgs\":{\"namespace\":\"svg\",\"tag\":\"circle\"},\"children\":[]},{\"props\":{\"attributes\":{\"cy\":\"230.849640381959\",\"r\":\"30.0\",\"fill\":\"green\",\"cx\":\"122.54930618075943\"}},\"nodeType\":\"DOM\",\"type\":\"node\",\"instanceArgs\":{\"namespace\":\"svg\",\"tag\":\"circle\"},\"children\":[]},{\"props\":{\"attributes\":{\"cy\":\"224.57052121767202\",\"r\":\"30.0\",\"fill\":\"lime\",\"cx\":\"128.11972918897578\"}},\"nodeType\":\"DOM\",\"type\":\"node\",\"instanceArgs\":{\"namespace\":\"svg\",\"tag\":\"circle\"},\"children\":[]},{\"props\":{\"attributes\":{\"cy\":\"217.54631805511508\",\"r\":\"30.0\",\"fill\":\"teal\",\"cx\":\"133.6901521971921\"}},\"nodeType\":\"DOM\",\"type\":\"node\",\"instanceArgs\":{\"namespace\":\"svg\",\"tag\":\"circle\"},\"children\":[]},{\"props\":{\"attributes\":{\"cy\":\"209.84721441039565\",\"r\":\"30.0\",\"fill\":\"aqua\",\"cx\":\"139.26057520540843\"}},\"nodeType\":\"DOM\",\"type\":\"node\",\"instanceArgs\":{\"namespace\":\"svg\",\"tag\":\"circle\"},\"children\":[]},{\"props\":{\"attributes\":{\"cy\":\"201.55013718214641\",\"r\":\"30.0\",\"fill\":\"navy\",\"cx\":\"144.83099821362475\"}},\"nodeType\":\"DOM\",\"type\":\"node\",\"instanceArgs\":{\"namespace\":\"svg\",\"tag\":\"circle\"},\"children\":[]},{\"props\":{\"attributes\":{\"cy\":\"192.73798802338297\",\"r\":\"30.0\",\"fill\":\"blue\",\"cx\":\"150.4014212218411\"}},\"nodeType\":\"DOM\",\"type\":\"node\",\"instanceArgs\":{\"namespace\":\"svg\",\"tag\":\"circle\"},\"children\":[]},{\"props\":{\"attributes\":{\"cy\":\"183.49881501559048\",\"r\":\"30.0\",\"fill\":\"purple\",\"cx\":\"155.97184423005746\"}},\"nodeType\":\"DOM\",\"type\":\"node\",\"instanceArgs\":{\"namespace\":\"svg\",\"tag\":\"circle\"},\"children\":[]},{\"props\":{\"attributes\":{\"cy\":\"173.9249329213982\",\"r\":\"30.0\",\"fill\":\"fuchsia\",\"cx\":\"161.54226723827378\"}},\"nodeType\":\"DOM\",\"type\":\"node\",\"instanceArgs\":{\"namespace\":\"svg\",\"tag\":\"circle\"},\"children\":[]},{\"props\":{\"attributes\":{\"cy\":\"164.11200080598672\",\"r\":\"30.0\",\"fill\":\"black\",\"cx\":\"167.1126902464901\"}},\"nodeType\":\"DOM\",\"type\":\"node\",\"instanceArgs\":{\"namespace\":\"svg\",\"tag\":\"circle\"},\"children\":[]},{\"props\":{\"attributes\":{\"cy\":\"154.15806624332905\",\"r\":\"30.0\",\"fill\":\"gray\",\"cx\":\"172.68311325470646\"}},\"nodeType\":\"DOM\",\"type\":\"node\",\"instanceArgs\":{\"namespace\":\"svg\",\"tag\":\"circle\"},\"children\":[]},{\"props\":{\"attributes\":{\"cy\":\"144.162585657242\",\"r\":\"30.0\",\"fill\":\"silver\",\"cx\":\"178.25353626292278\"}},\"nodeType\":\"DOM\",\"type\":\"node\",\"instanceArgs\":{\"namespace\":\"svg\",\"tag\":\"circle\"},\"children\":[]},{\"props\":{\"attributes\":{\"cy\":\"134.22543058567513\",\"r\":\"30.0\",\"fill\":\"maroon\",\"cx\":\"183.82395927113913\"}},\"nodeType\":\"DOM\",\"type\":\"node\",\"instanceArgs\":{\"namespace\":\"svg\",\"tag\":\"circle\"},\"children\":[]},{\"props\":{\"attributes\":{\"cy\":\"124.44588979731684\",\"r\":\"30.0\",\"fill\":\"red\",\"cx\":\"189.39438227935548\"}},\"nodeType\":\"DOM\",\"type\":\"node\",\"instanceArgs\":{\"namespace\":\"svg\",\"tag\":\"circle\"},\"children\":[]},{\"props\":{\"attributes\":{\"cy\":\"114.92167723103802\",\"r\":\"30.0\",\"fill\":\"olive\",\"cx\":\"194.9648052875718\"}},\"nodeType\":\"DOM\",\"type\":\"node\",\"instanceArgs\":{\"namespace\":\"svg\",\"tag\":\"circle\"},\"children\":[]},{\"props\":{\"attributes\":{\"cy\":\"105.74795567051476\",\"r\":\"30.0\",\"fill\":\"yellow\",\"cx\":\"200.53522829578813\"}},\"nodeType\":\"DOM\",\"type\":\"node\",\"instanceArgs\":{\"namespace\":\"svg\",\"tag\":\"circle\"},\"children\":[]},{\"props\":{\"attributes\":{\"cy\":\"97.01638590915067\",\"r\":\"30.0\",\"fill\":\"green\",\"cx\":\"206.10565130400448\"}},\"nodeType\":\"DOM\",\"type\":\"node\",\"instanceArgs\":{\"namespace\":\"svg\",\"tag\":\"circle\"},\"children\":[]},{\"props\":{\"attributes\":{\"cy\":\"88.81421090572806\",\"r\":\"30.0\",\"fill\":\"lime\",\"cx\":\"211.6760743122208\"}},\"nodeType\":\"DOM\",\"type\":\"node\",\"instanceArgs\":{\"namespace\":\"svg\",\"tag\":\"circle\"},\"children\":[]},{\"props\":{\"attributes\":{\"cy\":\"81.22338408160259\",\"r\":\"30.0\",\"fill\":\"teal\",\"cx\":\"217.2464973204372\"}},\"nodeType\":\"DOM\",\"type\":\"node\",\"instanceArgs\":{\"namespace\":\"svg\",\"tag\":\"circle\"},\"children\":[]},{\"props\":{\"attributes\":{\"cy\":\"74.31975046920718\",\"r\":\"30.0\",\"fill\":\"aqua\",\"cx\":\"222.81692032865348\"}},\"nodeType\":\"DOM\",\"type\":\"node\",\"instanceArgs\":{\"namespace\":\"svg\",\"tag\":\"circle\"},\"children\":[]},{\"props\":{\"attributes\":{\"cy\":\"68.17228889355893\",\"r\":\"30.0\",\"fill\":\"navy\",\"cx\":\"228.38734333686986\"}},\"nodeType\":\"DOM\",\"type\":\"node\",\"instanceArgs\":{\"namespace\":\"svg\",\"tag\":\"circle\"},\"children\":[]},{\"props\":{\"attributes\":{\"cy\":\"62.84242275864118\",\"r\":\"30.0\",\"fill\":\"blue\",\"cx\":\"233.95776634508616\"}},\"nodeType\":\"DOM\",\"type\":\"node\",\"instanceArgs\":{\"namespace\":\"svg\",\"tag\":\"circle\"},\"children\":[]},{\"props\":{\"attributes\":{\"cy\":\"58.38340632505451\",\"r\":\"30.0\",\"fill\":\"purple\",\"cx\":\"239.52818935330248\"}},\"nodeType\":\"DOM\",\"type\":\"node\",\"instanceArgs\":{\"namespace\":\"svg\",\"tag\":\"circle\"},\"children\":[]},{\"props\":{\"attributes\":{\"cy\":\"54.83979261104838\",\"r\":\"30.0\",\"fill\":\"fuchsia\",\"cx\":\"245.09861236151886\"}},\"nodeType\":\"DOM\",\"type\":\"node\",\"instanceArgs\":{\"namespace\":\"svg\",\"tag\":\"circle\"},\"children\":[]},{\"props\":{\"attributes\":{\"cy\":\"52.2469882334903\",\"r\":\"30.0\",\"fill\":\"black\",\"cx\":\"250.66903536973516\"}},\"nodeType\":\"DOM\",\"type\":\"node\",\"instanceArgs\":{\"namespace\":\"svg\",\"tag\":\"circle\"},\"children\":[]},{\"props\":{\"attributes\":{\"cy\":\"50.63089963665355\",\"r\":\"30.0\",\"fill\":\"gray\",\"cx\":\"256.23945837795156\"}},\"nodeType\":\"DOM\",\"type\":\"node\",\"instanceArgs\":{\"namespace\":\"svg\",\"tag\":\"circle\"},\"children\":[]},{\"props\":{\"attributes\":{\"cy\":\"50.00767424358992\",\"r\":\"30.0\",\"fill\":\"silver\",\"cx\":\"261.80988138616783\"}},\"nodeType\":\"DOM\",\"type\":\"node\",\"instanceArgs\":{\"namespace\":\"svg\",\"tag\":\"circle\"},\"children\":[]},{\"props\":{\"attributes\":{\"cy\":\"50.383539116415946\",\"r\":\"30.0\",\"fill\":\"maroon\",\"cx\":\"267.3803043943842\"}},\"nodeType\":\"DOM\",\"type\":\"node\",\"instanceArgs\":{\"namespace\":\"svg\",\"tag\":\"circle\"},\"children\":[]},{\"props\":{\"attributes\":{\"cy\":\"51.754738737566754\",\"r\":\"30.0\",\"fill\":\"red\",\"cx\":\"272.95072740260053\"}},\"nodeType\":\"DOM\",\"type\":\"node\",\"instanceArgs\":{\"namespace\":\"svg\",\"tag\":\"circle\"},\"children\":[]},{\"props\":{\"attributes\":{\"cy\":\"54.10757253368615\",\"r\":\"30.0\",\"fill\":\"olive\",\"cx\":\"278.52115041081686\"}},\"nodeType\":\"DOM\",\"type\":\"node\",\"instanceArgs\":{\"namespace\":\"svg\",\"tag\":\"circle\"},\"children\":[]},{\"props\":{\"attributes\":{\"cy\":\"57.418531767226796\",\"r\":\"30.0\",\"fill\":\"yellow\",\"cx\":\"284.09157341903324\"}},\"nodeType\":\"DOM\",\"type\":\"node\",\"instanceArgs\":{\"namespace\":\"svg\",\"tag\":\"circle\"},\"children\":[]},{\"props\":{\"attributes\":{\"cy\":\"61.654534427984686\",\"r\":\"30.0\",\"fill\":\"green\",\"cx\":\"289.6619964272495\"}},\"nodeType\":\"DOM\",\"type\":\"node\",\"instanceArgs\":{\"namespace\":\"svg\",\"tag\":\"circle\"},\"children\":[]},{\"props\":{\"attributes\":{\"cy\":\"66.77325577760992\",\"r\":\"30.0\",\"fill\":\"lime\",\"cx\":\"295.2324194354659\"}},\"nodeType\":\"DOM\",\"type\":\"node\",\"instanceArgs\":{\"namespace\":\"svg\",\"tag\":\"circle\"},\"children\":[]},{\"props\":{\"attributes\":{\"cy\":\"72.72355124440129\",\"r\":\"30.0\",\"fill\":\"teal\",\"cx\":\"300.8028424436822\"}},\"nodeType\":\"DOM\",\"type\":\"node\",\"instanceArgs\":{\"namespace\":\"svg\",\"tag\":\"circle\"},\"children\":[]},{\"props\":{\"attributes\":{\"cy\":\"79.44596744296081\",\"r\":\"30.0\",\"fill\":\"aqua\",\"cx\":\"306.37326545189853\"}},\"nodeType\":\"DOM\",\"type\":\"node\",\"instanceArgs\":{\"namespace\":\"svg\",\"tag\":\"circle\"},\"children\":[]},{\"props\":{\"attributes\":{\"cy\":\"86.87333621276792\",\"r\":\"30.0\",\"fill\":\"navy\",\"cx\":\"311.9436884601149\"}},\"nodeType\":\"DOM\",\"type\":\"node\",\"instanceArgs\":{\"namespace\":\"svg\",\"tag\":\"circle\"},\"children\":[]},{\"props\":{\"attributes\":{\"cy\":\"94.93144574023623\",\"r\":\"30.0\",\"fill\":\"blue\",\"cx\":\"317.5141114683312\"}},\"nodeType\":\"DOM\",\"type\":\"node\",\"instanceArgs\":{\"namespace\":\"svg\",\"tag\":\"circle\"},\"children\":[]},{\"props\":{\"attributes\":{\"cy\":\"103.53978205862435\",\"r\":\"30.0\",\"fill\":\"purple\",\"cx\":\"323.08453447654756\"}},\"nodeType\":\"DOM\",\"type\":\"node\",\"instanceArgs\":{\"namespace\":\"svg\",\"tag\":\"circle\"},\"children\":[]},{\"props\":{\"attributes\":{\"cy\":\"112.6123335169764\",\"r\":\"30.0\",\"fill\":\"fuchsia\",\"cx\":\"328.6549574847639\"}},\"nodeType\":\"DOM\",\"type\":\"node\",\"instanceArgs\":{\"namespace\":\"svg\",\"tag\":\"circle\"},\"children\":[]},{\"props\":{\"attributes\":{\"cy\":\"122.05845018010741\",\"r\":\"30.0\",\"fill\":\"black\",\"cx\":\"334.2253804929802\"}},\"nodeType\":\"DOM\",\"type\":\"node\",\"instanceArgs\":{\"namespace\":\"svg\",\"tag\":\"circle\"},\"children\":[]},{\"props\":{\"attributes\":{\"cy\":\"131.7837495727905\",\"r\":\"30.0\",\"fill\":\"gray\",\"cx\":\"339.79580350119653\"}},\"nodeType\":\"DOM\",\"type\":\"node\",\"instanceArgs\":{\"namespace\":\"svg\",\"tag\":\"circle\"},\"children\":[]},{\"props\":{\"attributes\":{\"cy\":\"141.69105971825036\",\"r\":\"30.0\",\"fill\":\"silver\",\"cx\":\"345.3662265094129\"}},\"nodeType\":\"DOM\",\"type\":\"node\",\"instanceArgs\":{\"namespace\":\"svg\",\"tag\":\"circle\"},\"children\":[]},{\"props\":{\"attributes\":{\"cy\":\"151.68139004843505\",\"r\":\"30.0\",\"fill\":\"maroon\",\"cx\":\"350.9366495176293\"}},\"nodeType\":\"DOM\",\"type\":\"node\",\"instanceArgs\":{\"namespace\":\"svg\",\"tag\":\"circle\"},\"children\":[]},{\"props\":{\"attributes\":{\"cy\":\"161.65492048504936\",\"r\":\"30.0\",\"fill\":\"red\",\"cx\":\"356.50707252584556\"}},\"nodeType\":\"DOM\",\"type\":\"node\",\"instanceArgs\":{\"namespace\":\"svg\",\"tag\":\"circle\"},\"children\":[]},{\"props\":{\"attributes\":{\"cy\":\"171.51199880878156\",\"r\":\"30.0\",\"fill\":\"olive\",\"cx\":\"362.0774955340619\"}},\"nodeType\":\"DOM\",\"type\":\"node\",\"instanceArgs\":{\"namespace\":\"svg\",\"tag\":\"circle\"},\"children\":[]},{\"props\":{\"attributes\":{\"cy\":\"181.15413635133785\",\"r\":\"30.0\",\"fill\":\"yellow\",\"cx\":\"367.64791854227826\"}},\"nodeType\":\"DOM\",\"type\":\"node\",\"instanceArgs\":{\"namespace\":\"svg\",\"tag\":\"circle\"},\"children\":[]},{\"props\":{\"attributes\":{\"cy\":\"190.48499206165982\",\"r\":\"30.0\",\"fill\":\"green\",\"cx\":\"373.2183415504946\"}},\"nodeType\":\"DOM\",\"type\":\"node\",\"instanceArgs\":{\"namespace\":\"svg\",\"tag\":\"circle\"},\"children\":[]},{\"props\":{\"attributes\":{\"cy\":\"199.4113351138609\",\"r\":\"30.0\",\"fill\":\"lime\",\"cx\":\"378.78876455871097\"}},\"nodeType\":\"DOM\",\"type\":\"node\",\"instanceArgs\":{\"namespace\":\"svg\",\"tag\":\"circle\"},\"children\":[]},{\"props\":{\"attributes\":{\"cy\":\"207.84397643882002\",\"r\":\"30.0\",\"fill\":\"teal\",\"cx\":\"384.35918756692723\"}},\"nodeType\":\"DOM\",\"type\":\"node\",\"instanceArgs\":{\"namespace\":\"svg\",\"tag\":\"circle\"},\"children\":[]},{\"props\":{\"attributes\":{\"cy\":\"215.6986598718789\",\"r\":\"30.0\",\"fill\":\"aqua\",\"cx\":\"389.9296105751436\"}},\"nodeType\":\"DOM\",\"type\":\"node\",\"instanceArgs\":{\"namespace\":\"svg\",\"tag\":\"circle\"},\"children\":[]},{\"props\":{\"attributes\":{\"cy\":\"222.89690401258764\",\"r\":\"30.0\",\"fill\":\"navy\",\"cx\":\"395.50003358335994\"}},\"nodeType\":\"DOM\",\"type\":\"node\",\"instanceArgs\":{\"namespace\":\"svg\",\"tag\":\"circle\"},\"children\":[]},{\"props\":{\"attributes\":{\"cy\":\"229.36678638491532\",\"r\":\"30.0\",\"fill\":\"blue\",\"cx\":\"401.07045659157626\"}},\"nodeType\":\"DOM\",\"type\":\"node\",\"instanceArgs\":{\"namespace\":\"svg\",\"tag\":\"circle\"},\"children\":[]},{\"props\":{\"attributes\":{\"cy\":\"235.04366206285647\",\"r\":\"30.0\",\"fill\":\"purple\",\"cx\":\"406.6408795997927\"}},\"nodeType\":\"DOM\",\"type\":\"node\",\"instanceArgs\":{\"namespace\":\"svg\",\"tag\":\"circle\"},\"children\":[]},{\"props\":{\"attributes\":{\"cy\":\"239.8708095811627\",\"r\":\"30.0\",\"fill\":\"fuchsia\",\"cx\":\"412.21130260800896\"}},\"nodeType\":\"DOM\",\"type\":\"node\",\"instanceArgs\":{\"namespace\":\"svg\",\"tag\":\"circle\"},\"children\":[]},{\"props\":{\"attributes\":{\"cy\":\"243.79999767747387\",\"r\":\"30.0\",\"fill\":\"black\",\"cx\":\"417.7817256162253\"}},\"nodeType\":\"DOM\",\"type\":\"node\",\"instanceArgs\":{\"namespace\":\"svg\",\"tag\":\"circle\"},\"children\":[]},{\"props\":{\"attributes\":{\"cy\":\"246.79196720314866\",\"r\":\"30.0\",\"fill\":\"gray\",\"cx\":\"423.3521486244416\"}},\"nodeType\":\"DOM\",\"type\":\"node\",\"instanceArgs\":{\"namespace\":\"svg\",\"tag\":\"circle\"},\"children\":[]},{\"props\":{\"attributes\":{\"cy\":\"248.81682338770003\",\"r\":\"30.0\",\"fill\":\"silver\",\"cx\":\"428.92257163265793\"}},\"nodeType\":\"DOM\",\"type\":\"node\",\"instanceArgs\":{\"namespace\":\"svg\",\"tag\":\"circle\"},\"children\":[]},{\"props\":{\"attributes\":{\"cy\":\"249.8543345374605\",\"r\":\"30.0\",\"fill\":\"maroon\",\"cx\":\"434.4929946408744\"}},\"nodeType\":\"DOM\",\"type\":\"node\",\"instanceArgs\":{\"namespace\":\"svg\",\"tag\":\"circle\"},\"children\":[]},{\"props\":{\"attributes\":{\"cy\":\"249.8941341839772\",\"r\":\"30.0\",\"fill\":\"red\",\"cx\":\"440.06341764909064\"}},\"nodeType\":\"DOM\",\"type\":\"node\",\"instanceArgs\":{\"namespace\":\"svg\",\"tag\":\"circle\"},\"children\":[]},{\"props\":{\"attributes\":{\"cy\":\"248.93582466233818\",\"r\":\"30.0\",\"fill\":\"olive\",\"cx\":\"445.63384065730696\"}},\"nodeType\":\"DOM\",\"type\":\"node\",\"instanceArgs\":{\"namespace\":\"svg\",\"tag\":\"circle\"},\"children\":[]},{\"props\":{\"attributes\":{\"cy\":\"246.98898108450862\",\"r\":\"30.0\",\"fill\":\"yellow\",\"cx\":\"451.2042636655233\"}},\"nodeType\":\"DOM\",\"type\":\"node\",\"instanceArgs\":{\"namespace\":\"svg\",\"tag\":\"circle\"},\"children\":[]},{\"props\":{\"attributes\":{\"cy\":\"244.07305566797726\",\"r\":\"30.0\",\"fill\":\"green\",\"cx\":\"456.7746866737397\"}},\"nodeType\":\"DOM\",\"type\":\"node\",\"instanceArgs\":{\"namespace\":\"svg\",\"tag\":\"circle\"},\"children\":[]},{\"props\":{\"attributes\":{\"cy\":\"240.2171833756293\",\"r\":\"30.0\",\"fill\":\"lime\",\"cx\":\"462.34510968195605\"}},\"nodeType\":\"DOM\",\"type\":\"node\",\"instanceArgs\":{\"namespace\":\"svg\",\"tag\":\"circle\"},\"children\":[]},{\"props\":{\"attributes\":{\"cy\":\"235.45989080882805\",\"r\":\"30.0\",\"fill\":\"teal\",\"cx\":\"467.9155326901723\"}},\"nodeType\":\"DOM\",\"type\":\"node\",\"instanceArgs\":{\"namespace\":\"svg\",\"tag\":\"circle\"},\"children\":[]},{\"props\":{\"attributes\":{\"cy\":\"229.848711262349\",\"r\":\"30.0\",\"fill\":\"aqua\",\"cx\":\"473.48595569838864\"}},\"nodeType\":\"DOM\",\"type\":\"node\",\"instanceArgs\":{\"namespace\":\"svg\",\"tag\":\"circle\"},\"children\":[]},{\"props\":{\"attributes\":{\"cy\":\"223.43970978741135\",\"r\":\"30.0\",\"fill\":\"navy\",\"cx\":\"479.05637870660496\"}},\"nodeType\":\"DOM\",\"type\":\"node\",\"instanceArgs\":{\"namespace\":\"svg\",\"tag\":\"circle\"},\"children\":[]},{\"props\":{\"attributes\":{\"cy\":\"216.2969230082182\",\"r\":\"30.0\",\"fill\":\"blue\",\"cx\":\"484.6268017148214\"}},\"nodeType\":\"DOM\",\"type\":\"node\",\"instanceArgs\":{\"namespace\":\"svg\",\"tag\":\"circle\"},\"children\":[]},{\"props\":{\"attributes\":{\"cy\":\"208.49171928917616\",\"r\":\"30.0\",\"fill\":\"purple\",\"cx\":\"490.1972247230377\"}},\"nodeType\":\"DOM\",\"type\":\"node\",\"instanceArgs\":{\"namespace\":\"svg\",\"tag\":\"circle\"},\"children\":[]},{\"props\":{\"attributes\":{\"cy\":\"200.10208564578846\",\"r\":\"30.0\",\"fill\":\"fuchsia\",\"cx\":\"495.767647731254\"}},\"nodeType\":\"DOM\",\"type\":\"node\",\"instanceArgs\":{\"namespace\":\"svg\",\"tag\":\"circle\"},\"children\":[]},{\"props\":{\"attributes\":{\"cy\":\"191.21184852417565\",\"r\":\"30.0\",\"fill\":\"black\",\"cx\":\"501.3380707394703\"}},\"nodeType\":\"DOM\",\"type\":\"node\",\"instanceArgs\":{\"namespace\":\"svg\",\"tag\":\"circle\"},\"children\":[]},{\"props\":{\"attributes\":{\"cy\":\"181.9098362349352\",\"r\":\"30.0\",\"fill\":\"gray\",\"cx\":\"506.9084937476867\"}},\"nodeType\":\"DOM\",\"type\":\"node\",\"instanceArgs\":{\"namespace\":\"svg\",\"tag\":\"circle\"},\"children\":[]},{\"props\":{\"attributes\":{\"cy\":\"172.2889914100246\",\"r\":\"30.0\",\"fill\":\"silver\",\"cx\":\"512.4789167559031\"}},\"nodeType\":\"DOM\",\"type\":\"node\",\"instanceArgs\":{\"namespace\":\"svg\",\"tag\":\"circle\"},\"children\":[]},{\"props\":{\"attributes\":{\"cy\":\"162.44544235070617\",\"r\":\"30.0\",\"fill\":\"maroon\",\"cx\":\"518.0493397641194\"}},\"nodeType\":\"DOM\",\"type\":\"node\",\"instanceArgs\":{\"namespace\":\"svg\",\"tag\":\"circle\"},\"children\":[]},{\"props\":{\"attributes\":{\"cy\":\"152.47754254533578\",\"r\":\"30.0\",\"fill\":\"red\",\"cx\":\"523.6197627723357\"}},\"nodeType\":\"DOM\",\"type\":\"node\",\"instanceArgs\":{\"namespace\":\"svg\",\"tag\":\"circle\"},\"children\":[]},{\"props\":{\"attributes\":{\"cy\":\"142.48488795381908\",\"r\":\"30.0\",\"fill\":\"olive\",\"cx\":\"529.190185780552\"}},\"nodeType\":\"DOM\",\"type\":\"node\",\"instanceArgs\":{\"namespace\":\"svg\",\"tag\":\"circle\"},\"children\":[]},{\"props\":{\"attributes\":{\"cy\":\"132.56732187770186\",\"r\":\"30.0\",\"fill\":\"yellow\",\"cx\":\"534.7606087887684\"}},\"nodeType\":\"DOM\",\"type\":\"node\",\"instanceArgs\":{\"namespace\":\"svg\",\"tag\":\"circle\"},\"children\":[]},{\"props\":{\"attributes\":{\"cy\":\"122.82393735890558\",\"r\":\"30.0\",\"fill\":\"green\",\"cx\":\"540.3310317969848\"}},\"nodeType\":\"DOM\",\"type\":\"node\",\"instanceArgs\":{\"namespace\":\"svg\",\"tag\":\"circle\"},\"children\":[]},{\"props\":{\"attributes\":{\"cy\":\"113.35208707480717\",\"r\":\"30.0\",\"fill\":\"lime\",\"cx\":\"545.9014548052011\"}},\"nodeType\":\"DOM\",\"type\":\"node\",\"instanceArgs\":{\"namespace\":\"svg\",\"tag\":\"circle\"},\"children\":[]},{\"props\":{\"attributes\":{\"cy\":\"104.24641062246786\",\"r\":\"30.0\",\"fill\":\"teal\",\"cx\":\"551.4718778134173\"}},\"nodeType\":\"DOM\",\"type\":\"node\",\"instanceArgs\":{\"namespace\":\"svg\",\"tag\":\"circle\"},\"children\":[]},{\"props\":{\"attributes\":{\"cy\":\"95.59788891106302\",\"r\":\"30.0\",\"fill\":\"aqua\",\"cx\":\"557.0423008216337\"}},\"nodeType\":\"DOM\",\"type\":\"node\",\"instanceArgs\":{\"namespace\":\"svg\",\"tag\":\"circle\"},\"children\":[]}]}]}}}},\"children\":[{\"props\":{},\"nodeType\":\"ObservableNode\",\"type\":\"node\",\"instanceArgs\":{\"id\":\"53\",\"name\":\"obs-node\"},\"children\":[]}]}]},\n",
       "        window,\n",
       "    );\n",
       "    })()\n",
       "    </script>\n",
       "</div>\n"
      ],
      "text/plain": [
       "Node{WebIO.DOM}(WebIO.DOM(:html, :div), Any[Node{WebIO.DOM}(WebIO.DOM(:html, :div), Any[Scope(Node{WebIO.DOM}(WebIO.DOM(:html, :div), Any[Node{WebIO.DOM}(WebIO.DOM(:html, :div), Any[Node{WebIO.DOM}(WebIO.DOM(:html, :label), Any[\"nsamples\"], Dict{Symbol, Any}(:className => \"interact \", :style => Dict{Any, Any}(:padding => \"5px 10px 0px 10px\")))], Dict{Symbol, Any}(:className => \"interact-flex-row-left\")), Node{WebIO.DOM}(WebIO.DOM(:html, :div), Any[Node{WebIO.DOM}(WebIO.DOM(:html, :input), Any[], Dict{Symbol, Any}(:max => 200, :min => 1, :attributes => Dict{Any, Any}(:type => \"range\", Symbol(\"data-bind\") => \"numericValue: index, valueUpdate: 'input', event: {change: function (){this.changes(this.changes()+1)}}\", \"orient\" => \"horizontal\"), :step => 1, :className => \"slider slider is-fullwidth\", :style => Dict{Any, Any}()))], Dict{Symbol, Any}(:className => \"interact-flex-row-center\")), Node{WebIO.DOM}(WebIO.DOM(:html, :div), Any[Node{WebIO.DOM}(WebIO.DOM(:html, :p), Any[], Dict{Symbol, Any}(:attributes => Dict(\"data-bind\" => \"text: formatted_val\")))], Dict{Symbol, Any}(:className => \"interact-flex-row-right\"))], Dict{Symbol, Any}(:className => \"interact-flex-row interact-widget\")), Dict{String, Tuple{AbstractObservable, Union{Nothing, Bool}}}(\"changes\" => (Observable(0), nothing), \"index\" => (Observable(100), nothing)), Set{String}(), nothing, Asset[Asset(\"js\", \"knockout\", \"/Users/emueller/.julia/packages/Knockout/HReiN/src/../assets/knockout.js\"), Asset(\"js\", \"knockout_punches\", \"/Users/emueller/.julia/packages/Knockout/HReiN/src/../assets/knockout_punches.js\"), Asset(\"js\", nothing, \"/Users/emueller/.julia/packages/InteractBase/LJXv3/src/../assets/all.js\"), Asset(\"css\", nothing, \"/Users/emueller/.julia/packages/InteractBase/LJXv3/src/../assets/style.css\"), Asset(\"css\", nothing, \"/Users/emueller/.julia/packages/Interact/PENUy/src/../assets/bulma_confined.min.css\")], Dict{Any, Any}(\"changes\" => Any[WebIO.JSString(\"(function (val){return (val!=this.model[\\\"changes\\\"]()) ? (this.valueFromJulia[\\\"changes\\\"]=true, this.model[\\\"changes\\\"](val)) : undefined})\")], \"index\" => Any[WebIO.JSString(\"(function (val){return (val!=this.model[\\\"index\\\"]()) ? (this.valueFromJulia[\\\"index\\\"]=true, this.model[\\\"index\\\"](val)) : undefined})\")]), WebIO.ConnectionPool(Channel{Any}(32), Set{AbstractConnection}(), Base.GenericCondition{ReentrantLock}(Base.IntrusiveLinkedList{Task}(Task (runnable) @0x000000014a9b1dc0, Task (runnable) @0x000000014a9b1dc0), ReentrantLock(nothing, 0x00000000, 0x00, Base.GenericCondition{Base.Threads.SpinLock}(Base.IntrusiveLinkedList{Task}(nothing, nothing), Base.Threads.SpinLock(0)), (0, 11052708912, 433612256814)))), WebIO.JSString[WebIO.JSString(\"function () {\\n    var handler = (function (ko, koPunches) {\\n    ko.punches.enableAll();\\n    ko.bindingHandlers.numericValue = {\\n        init: function(element, valueAccessor, allBindings, data, context) {\\n            var stringified = ko.observable(ko.unwrap(valueAccessor()));\\n            stringified.subscribe(function(value) {\\n                var val = parseFloat(value);\\n                if (!isNaN(val)) {\\n                    valueAccessor()(val);\\n                }\\n            });\\n            valueAccessor().subscribe(function(value) {\\n                var str = JSON.stringify(value);\\n                if ((str == \\\"0\\\") && ([\\\"-0\\\", \\\"-0.\\\"].indexOf(stringified()) >= 0))\\n                     return;\\n                 if ([\\\"null\\\", \\\"\\\"].indexOf(str) >= 0)\\n                     return;\\n                stringified(str);\\n            });\\n            ko.applyBindingsToNode(\\n                element,\\n                {\\n                    value: stringified,\\n                    valueUpdate: allBindings.get('valueUpdate'),\\n                },\\n                context,\\n            );\\n        }\\n    };\\n    var json_data = {\\\"formatted_vals\\\":[\\\"1\\\",\\\"2\\\",\\\"3\\\",\\\"4\\\",\\\"5\\\",\\\"6\\\",\\\"7\\\",\\\"8\\\",\\\"9\\\",\\\"10\\\",\\\"11\\\",\\\"12\\\",\\\"13\\\",\\\"14\\\",\\\"15\\\",\\\"16\\\",\\\"17\\\",\\\"18\\\",\\\"19\\\",\\\"20\\\",\\\"21\\\",\\\"22\\\",\\\"23\\\",\\\"24\\\",\\\"25\\\",\\\"26\\\",\\\"27\\\",\\\"28\\\",\\\"29\\\",\\\"30\\\",\\\"31\\\",\\\"32\\\",\\\"33\\\",\\\"34\\\",\\\"35\\\",\\\"36\\\",\\\"37\\\",\\\"38\\\",\\\"39\\\",\\\"40\\\",\\\"41\\\",\\\"42\\\",\\\"43\\\",\\\"44\\\",\\\"45\\\",\\\"46\\\",\\\"47\\\",\\\"48\\\",\\\"49\\\",\\\"50\\\",\\\"51\\\",\\\"52\\\",\\\"53\\\",\\\"54\\\",\\\"55\\\",\\\"56\\\",\\\"57\\\",\\\"58\\\",\\\"59\\\",\\\"60\\\",\\\"61\\\",\\\"62\\\",\\\"63\\\",\\\"64\\\",\\\"65\\\",\\\"66\\\",\\\"67\\\",\\\"68\\\",\\\"69\\\",\\\"70\\\",\\\"71\\\",\\\"72\\\",\\\"73\\\",\\\"74\\\",\\\"75\\\",\\\"76\\\",\\\"77\\\",\\\"78\\\",\\\"79\\\",\\\"80\\\",\\\"81\\\",\\\"82\\\",\\\"83\\\",\\\"84\\\",\\\"85\\\",\\\"86\\\",\\\"87\\\",\\\"88\\\",\\\"89\\\",\\\"90\\\",\\\"91\\\",\\\"92\\\",\\\"93\\\",\\\"94\\\",\\\"95\\\",\\\"96\\\",\\\"97\\\",\\\"98\\\",\\\"99\\\",\\\"100\\\",\\\"101\\\",\\\"102\\\",\\\"103\\\",\\\"104\\\",\\\"105\\\",\\\"106\\\",\\\"107\\\",\\\"108\\\",\\\"109\\\",\\\"110\\\",\\\"111\\\",\\\"112\\\",\\\"113\\\",\\\"114\\\",\\\"115\\\",\\\"116\\\",\\\"117\\\",\\\"118\\\",\\\"119\\\",\\\"120\\\",\\\"121\\\",\\\"122\\\",\\\"123\\\",\\\"124\\\",\\\"125\\\",\\\"126\\\",\\\"127\\\",\\\"128\\\",\\\"129\\\",\\\"130\\\",\\\"131\\\",\\\"132\\\",\\\"133\\\",\\\"134\\\",\\\"135\\\",\\\"136\\\",\\\"137\\\",\\\"138\\\",\\\"139\\\",\\\"140\\\",\\\"141\\\",\\\"142\\\",\\\"143\\\",\\\"144\\\",\\\"145\\\",\\\"146\\\",\\\"147\\\",\\\"148\\\",\\\"149\\\",\\\"150\\\",\\\"151\\\",\\\"152\\\",\\\"153\\\",\\\"154\\\",\\\"155\\\",\\\"156\\\",\\\"157\\\",\\\"158\\\",\\\"159\\\",\\\"160\\\",\\\"161\\\",\\\"162\\\",\\\"163\\\",\\\"164\\\",\\\"165\\\",\\\"166\\\",\\\"167\\\",\\\"168\\\",\\\"169\\\",\\\"170\\\",\\\"171\\\",\\\"172\\\",\\\"173\\\",\\\"174\\\",\\\"175\\\",\\\"176\\\",\\\"177\\\",\\\"178\\\",\\\"179\\\",\\\"180\\\",\\\"181\\\",\\\"182\\\",\\\"183\\\",\\\"184\\\",\\\"185\\\",\\\"186\\\",\\\"187\\\",\\\"188\\\",\\\"189\\\",\\\"190\\\",\\\"191\\\",\\\"192\\\",\\\"193\\\",\\\"194\\\",\\\"195\\\",\\\"196\\\",\\\"197\\\",\\\"198\\\",\\\"199\\\",\\\"200\\\"],\\\"changes\\\":WebIO.getval({\\\"name\\\":\\\"changes\\\",\\\"scope\\\":\\\"4345376710634941430\\\",\\\"id\\\":\\\"40\\\",\\\"type\\\":\\\"observable\\\"}),\\\"index\\\":WebIO.getval({\\\"name\\\":\\\"index\\\",\\\"scope\\\":\\\"4345376710634941430\\\",\\\"id\\\":\\\"39\\\",\\\"type\\\":\\\"observable\\\"})};\\n    var self = this;\\n    function AppViewModel() {\\n        for (var key in json_data) {\\n            var el = json_data[key];\\n            this[key] = Array.isArray(el) ? ko.observableArray(el) : ko.observable(el);\\n        }\\n        \\n        [this[\\\"formatted_val\\\"]=ko.computed(    function(){\\n        return this.formatted_vals()[parseInt(this.index())-(1)];\\n    }\\n,this)]\\n        [this[\\\"changes\\\"].subscribe((function (val){!(this.valueFromJulia[\\\"changes\\\"]) ? (WebIO.setval({\\\"name\\\":\\\"changes\\\",\\\"scope\\\":\\\"4345376710634941430\\\",\\\"id\\\":\\\"40\\\",\\\"type\\\":\\\"observable\\\"},val)) : undefined; return this.valueFromJulia[\\\"changes\\\"]=false}),self),this[\\\"index\\\"].subscribe((function (val){!(this.valueFromJulia[\\\"index\\\"]) ? (WebIO.setval({\\\"name\\\":\\\"index\\\",\\\"scope\\\":\\\"4345376710634941430\\\",\\\"id\\\":\\\"39\\\",\\\"type\\\":\\\"observable\\\"},val)) : undefined; return this.valueFromJulia[\\\"index\\\"]=false}),self)]\\n        \\n    }\\n    self.model = new AppViewModel();\\n    self.valueFromJulia = {};\\n    for (var key in json_data) {\\n        self.valueFromJulia[key] = false;\\n    }\\n    ko.applyBindings(self.model, self.dom);\\n}\\n);\\n    (WebIO.importBlock({\\\"data\\\":[{\\\"name\\\":\\\"knockout\\\",\\\"type\\\":\\\"js\\\",\\\"url\\\":\\\"/assetserver/d0f67ea5103338bec547a71428bdbf3df4f08059-knockout.js\\\"},{\\\"name\\\":\\\"knockout_punches\\\",\\\"type\\\":\\\"js\\\",\\\"url\\\":\\\"/assetserver/e26f753938579e2287344150f7e368ac4b529445-knockout_punches.js\\\"}],\\\"type\\\":\\\"async_block\\\"})).then((imports) => handler.apply(this, imports));\\n}\\n\")])], Dict{Symbol, Any}(:className => \"field interact-widget\")), Node{WebIO.DOM}(WebIO.DOM(:html, :div), Any[Scope(Node{WebIO.DOM}(WebIO.DOM(:html, :div), Any[Node{WebIO.DOM}(WebIO.DOM(:html, :div), Any[Node{WebIO.DOM}(WebIO.DOM(:html, :label), Any[\"sample step\"], Dict{Symbol, Any}(:className => \"interact \", :style => Dict{Any, Any}(:padding => \"5px 10px 0px 10px\")))], Dict{Symbol, Any}(:className => \"interact-flex-row-left\")), Node{WebIO.DOM}(WebIO.DOM(:html, :div), Any[Node{WebIO.DOM}(WebIO.DOM(:html, :input), Any[], Dict{Symbol, Any}(:max => 100, :min => 1, :attributes => Dict{Any, Any}(:type => \"range\", Symbol(\"data-bind\") => \"numericValue: index, valueUpdate: 'input', event: {change: function (){this.changes(this.changes()+1)}}\", \"orient\" => \"horizontal\"), :step => 1, :className => \"slider slider is-fullwidth\", :style => Dict{Any, Any}()))], Dict{Symbol, Any}(:className => \"interact-flex-row-center\")), Node{WebIO.DOM}(WebIO.DOM(:html, :div), Any[Node{WebIO.DOM}(WebIO.DOM(:html, :p), Any[], Dict{Symbol, Any}(:attributes => Dict(\"data-bind\" => \"text: formatted_val\")))], Dict{Symbol, Any}(:className => \"interact-flex-row-right\"))], Dict{Symbol, Any}(:className => \"interact-flex-row interact-widget\")), Dict{String, Tuple{AbstractObservable, Union{Nothing, Bool}}}(\"changes\" => (Observable(0), nothing), \"index\" => (Observable{Any}(10), nothing)), Set{String}(), nothing, Asset[Asset(\"js\", \"knockout\", \"/Users/emueller/.julia/packages/Knockout/HReiN/src/../assets/knockout.js\"), Asset(\"js\", \"knockout_punches\", \"/Users/emueller/.julia/packages/Knockout/HReiN/src/../assets/knockout_punches.js\"), Asset(\"js\", nothing, \"/Users/emueller/.julia/packages/InteractBase/LJXv3/src/../assets/all.js\"), Asset(\"css\", nothing, \"/Users/emueller/.julia/packages/InteractBase/LJXv3/src/../assets/style.css\"), Asset(\"css\", nothing, \"/Users/emueller/.julia/packages/Interact/PENUy/src/../assets/bulma_confined.min.css\")], Dict{Any, Any}(\"changes\" => Any[WebIO.JSString(\"(function (val){return (val!=this.model[\\\"changes\\\"]()) ? (this.valueFromJulia[\\\"changes\\\"]=true, this.model[\\\"changes\\\"](val)) : undefined})\")], \"index\" => Any[WebIO.JSString(\"(function (val){return (val!=this.model[\\\"index\\\"]()) ? (this.valueFromJulia[\\\"index\\\"]=true, this.model[\\\"index\\\"](val)) : undefined})\")]), WebIO.ConnectionPool(Channel{Any}(32), Set{AbstractConnection}(), Base.GenericCondition{ReentrantLock}(Base.IntrusiveLinkedList{Task}(Task (runnable) @0x000000014a633080, Task (runnable) @0x000000014a633080), ReentrantLock(nothing, 0x00000000, 0x00, Base.GenericCondition{Base.Threads.SpinLock}(Base.IntrusiveLinkedList{Task}(nothing, nothing), Base.Threads.SpinLock(0)), (0, 0, 141733920768)))), WebIO.JSString[WebIO.JSString(\"function () {\\n    var handler = (function (ko, koPunches) {\\n    ko.punches.enableAll();\\n    ko.bindingHandlers.numericValue = {\\n        init: function(element, valueAccessor, allBindings, data, context) {\\n            var stringified = ko.observable(ko.unwrap(valueAccessor()));\\n            stringified.subscribe(function(value) {\\n                var val = parseFloat(value);\\n                if (!isNaN(val)) {\\n                    valueAccessor()(val);\\n                }\\n            });\\n            valueAccessor().subscribe(function(value) {\\n                var str = JSON.stringify(value);\\n                if ((str == \\\"0\\\") && ([\\\"-0\\\", \\\"-0.\\\"].indexOf(stringified()) >= 0))\\n                     return;\\n                 if ([\\\"null\\\", \\\"\\\"].indexOf(str) >= 0)\\n                     return;\\n                stringified(str);\\n            });\\n            ko.applyBindingsToNode(\\n                element,\\n                {\\n                    value: stringified,\\n                    valueUpdate: allBindings.get('valueUpdate'),\\n                },\\n                context,\\n            );\\n        }\\n    };\\n    var json_data = {\\\"formatted_vals\\\":[\\\"0.01\\\",\\\"0.02\\\",\\\"0.03\\\",\\\"0.04\\\",\\\"0.05\\\",\\\"0.06\\\",\\\"0.07\\\",\\\"0.08\\\",\\\"0.09\\\",\\\"0.1\\\",\\\"0.11\\\",\\\"0.12\\\",\\\"0.13\\\",\\\"0.14\\\",\\\"0.15\\\",\\\"0.16\\\",\\\"0.17\\\",\\\"0.18\\\",\\\"0.19\\\",\\\"0.2\\\",\\\"0.21\\\",\\\"0.22\\\",\\\"0.23\\\",\\\"0.24\\\",\\\"0.25\\\",\\\"0.26\\\",\\\"0.27\\\",\\\"0.28\\\",\\\"0.29\\\",\\\"0.3\\\",\\\"0.31\\\",\\\"0.32\\\",\\\"0.33\\\",\\\"0.34\\\",\\\"0.35\\\",\\\"0.36\\\",\\\"0.37\\\",\\\"0.38\\\",\\\"0.39\\\",\\\"0.4\\\",\\\"0.41\\\",\\\"0.42\\\",\\\"0.43\\\",\\\"0.44\\\",\\\"0.45\\\",\\\"0.46\\\",\\\"0.47\\\",\\\"0.48\\\",\\\"0.49\\\",\\\"0.5\\\",\\\"0.51\\\",\\\"0.52\\\",\\\"0.53\\\",\\\"0.54\\\",\\\"0.55\\\",\\\"0.56\\\",\\\"0.57\\\",\\\"0.58\\\",\\\"0.59\\\",\\\"0.6\\\",\\\"0.61\\\",\\\"0.62\\\",\\\"0.63\\\",\\\"0.64\\\",\\\"0.65\\\",\\\"0.66\\\",\\\"0.67\\\",\\\"0.68\\\",\\\"0.69\\\",\\\"0.7\\\",\\\"0.71\\\",\\\"0.72\\\",\\\"0.73\\\",\\\"0.74\\\",\\\"0.75\\\",\\\"0.76\\\",\\\"0.77\\\",\\\"0.78\\\",\\\"0.79\\\",\\\"0.8\\\",\\\"0.81\\\",\\\"0.82\\\",\\\"0.83\\\",\\\"0.84\\\",\\\"0.85\\\",\\\"0.86\\\",\\\"0.87\\\",\\\"0.88\\\",\\\"0.89\\\",\\\"0.9\\\",\\\"0.91\\\",\\\"0.92\\\",\\\"0.93\\\",\\\"0.94\\\",\\\"0.95\\\",\\\"0.96\\\",\\\"0.97\\\",\\\"0.98\\\",\\\"0.99\\\",\\\"1.0\\\"],\\\"changes\\\":WebIO.getval({\\\"name\\\":\\\"changes\\\",\\\"scope\\\":\\\"11115385083189134761\\\",\\\"id\\\":\\\"43\\\",\\\"type\\\":\\\"observable\\\"}),\\\"index\\\":WebIO.getval({\\\"name\\\":\\\"index\\\",\\\"scope\\\":\\\"11115385083189134761\\\",\\\"id\\\":\\\"42\\\",\\\"type\\\":\\\"observable\\\"})};\\n    var self = this;\\n    function AppViewModel() {\\n        for (var key in json_data) {\\n            var el = json_data[key];\\n            this[key] = Array.isArray(el) ? ko.observableArray(el) : ko.observable(el);\\n        }\\n        \\n        [this[\\\"formatted_val\\\"]=ko.computed(    function(){\\n        return this.formatted_vals()[parseInt(this.index())-(1)];\\n    }\\n,this)]\\n        [this[\\\"changes\\\"].subscribe((function (val){!(this.valueFromJulia[\\\"changes\\\"]) ? (WebIO.setval({\\\"name\\\":\\\"changes\\\",\\\"scope\\\":\\\"11115385083189134761\\\",\\\"id\\\":\\\"43\\\",\\\"type\\\":\\\"observable\\\"},val)) : undefined; return this.valueFromJulia[\\\"changes\\\"]=false}),self),this[\\\"index\\\"].subscribe((function (val){!(this.valueFromJulia[\\\"index\\\"]) ? (WebIO.setval({\\\"name\\\":\\\"index\\\",\\\"scope\\\":\\\"11115385083189134761\\\",\\\"id\\\":\\\"42\\\",\\\"type\\\":\\\"observable\\\"},val)) : undefined; return this.valueFromJulia[\\\"index\\\"]=false}),self)]\\n        \\n    }\\n    self.model = new AppViewModel();\\n    self.valueFromJulia = {};\\n    for (var key in json_data) {\\n        self.valueFromJulia[key] = false;\\n    }\\n    ko.applyBindings(self.model, self.dom);\\n}\\n);\\n    (WebIO.importBlock({\\\"data\\\":[{\\\"name\\\":\\\"knockout\\\",\\\"type\\\":\\\"js\\\",\\\"url\\\":\\\"/assetserver/d0f67ea5103338bec547a71428bdbf3df4f08059-knockout.js\\\"},{\\\"name\\\":\\\"knockout_punches\\\",\\\"type\\\":\\\"js\\\",\\\"url\\\":\\\"/assetserver/e26f753938579e2287344150f7e368ac4b529445-knockout_punches.js\\\"}],\\\"type\\\":\\\"async_block\\\"})).then((imports) => handler.apply(this, imports));\\n}\\n\")])], Dict{Symbol, Any}(:className => \"field interact-widget\")), Node{WebIO.DOM}(WebIO.DOM(:html, :div), Any[Scope(Node{WebIO.DOM}(WebIO.DOM(:html, :div), Any[Node{WebIO.DOM}(WebIO.DOM(:html, :div), Any[Node{WebIO.DOM}(WebIO.DOM(:html, :label), Any[\"phase\"], Dict{Symbol, Any}(:className => \"interact \", :style => Dict{Any, Any}(:padding => \"5px 10px 0px 10px\")))], Dict{Symbol, Any}(:className => \"interact-flex-row-left\")), Node{WebIO.DOM}(WebIO.DOM(:html, :div), Any[Node{WebIO.DOM}(WebIO.DOM(:html, :input), Any[], Dict{Symbol, Any}(:max => 63, :min => 1, :attributes => Dict{Any, Any}(:type => \"range\", Symbol(\"data-bind\") => \"numericValue: index, valueUpdate: 'input', event: {change: function (){this.changes(this.changes()+1)}}\", \"orient\" => \"horizontal\"), :step => 1, :className => \"slider slider is-fullwidth\", :style => Dict{Any, Any}()))], Dict{Symbol, Any}(:className => \"interact-flex-row-center\")), Node{WebIO.DOM}(WebIO.DOM(:html, :div), Any[Node{WebIO.DOM}(WebIO.DOM(:html, :p), Any[], Dict{Symbol, Any}(:attributes => Dict(\"data-bind\" => \"text: formatted_val\")))], Dict{Symbol, Any}(:className => \"interact-flex-row-right\"))], Dict{Symbol, Any}(:className => \"interact-flex-row interact-widget\")), Dict{String, Tuple{AbstractObservable, Union{Nothing, Bool}}}(\"changes\" => (Observable(0), nothing), \"index\" => (Observable{Any}(1), nothing)), Set{String}(), nothing, Asset[Asset(\"js\", \"knockout\", \"/Users/emueller/.julia/packages/Knockout/HReiN/src/../assets/knockout.js\"), Asset(\"js\", \"knockout_punches\", \"/Users/emueller/.julia/packages/Knockout/HReiN/src/../assets/knockout_punches.js\"), Asset(\"js\", nothing, \"/Users/emueller/.julia/packages/InteractBase/LJXv3/src/../assets/all.js\"), Asset(\"css\", nothing, \"/Users/emueller/.julia/packages/InteractBase/LJXv3/src/../assets/style.css\"), Asset(\"css\", nothing, \"/Users/emueller/.julia/packages/Interact/PENUy/src/../assets/bulma_confined.min.css\")], Dict{Any, Any}(\"changes\" => Any[WebIO.JSString(\"(function (val){return (val!=this.model[\\\"changes\\\"]()) ? (this.valueFromJulia[\\\"changes\\\"]=true, this.model[\\\"changes\\\"](val)) : undefined})\")], \"index\" => Any[WebIO.JSString(\"(function (val){return (val!=this.model[\\\"index\\\"]()) ? (this.valueFromJulia[\\\"index\\\"]=true, this.model[\\\"index\\\"](val)) : undefined})\")]), WebIO.ConnectionPool(Channel{Any}(32), Set{AbstractConnection}(), Base.GenericCondition{ReentrantLock}(Base.IntrusiveLinkedList{Task}(Task (runnable) @0x000000010cceb530, Task (runnable) @0x000000010cceb530), ReentrantLock(nothing, 0x00000000, 0x00, Base.GenericCondition{Base.Threads.SpinLock}(Base.IntrusiveLinkedList{Task}(nothing, nothing), Base.Threads.SpinLock(0)), (4844618928, 4844618928, 0)))), WebIO.JSString[WebIO.JSString(\"function () {\\n    var handler = (function (ko, koPunches) {\\n    ko.punches.enableAll();\\n    ko.bindingHandlers.numericValue = {\\n        init: function(element, valueAccessor, allBindings, data, context) {\\n            var stringified = ko.observable(ko.unwrap(valueAccessor()));\\n            stringified.subscribe(function(value) {\\n                var val = parseFloat(value);\\n                if (!isNaN(val)) {\\n                    valueAccessor()(val);\\n                }\\n            });\\n            valueAccessor().subscribe(function(value) {\\n                var str = JSON.stringify(value);\\n                if ((str == \\\"0\\\") && ([\\\"-0\\\", \\\"-0.\\\"].indexOf(stringified()) >= 0))\\n                     return;\\n                 if ([\\\"null\\\", \\\"\\\"].indexOf(str) >= 0)\\n                     return;\\n                stringified(str);\\n            });\\n            ko.applyBindingsToNode(\\n                element,\\n                {\\n                    value: stringified,\\n                    valueUpdate: allBindings.get('valueUpdate'),\\n                },\\n                context,\\n            );\\n        }\\n    };\\n    var json_data = {\\\"formatted_vals\\\":[\\\"0.0\\\",\\\"0.1\\\",\\\"0.2\\\",\\\"0.3\\\",\\\"0.4\\\",\\\"0.5\\\",\\\"0.6\\\",\\\"0.7\\\",\\\"0.8\\\",\\\"0.9\\\",\\\"1.0\\\",\\\"1.1\\\",\\\"1.2\\\",\\\"1.3\\\",\\\"1.4\\\",\\\"1.5\\\",\\\"1.6\\\",\\\"1.7\\\",\\\"1.8\\\",\\\"1.9\\\",\\\"2.0\\\",\\\"2.1\\\",\\\"2.2\\\",\\\"2.3\\\",\\\"2.4\\\",\\\"2.5\\\",\\\"2.6\\\",\\\"2.7\\\",\\\"2.8\\\",\\\"2.9\\\",\\\"3.0\\\",\\\"3.1\\\",\\\"3.2\\\",\\\"3.3\\\",\\\"3.4\\\",\\\"3.5\\\",\\\"3.6\\\",\\\"3.7\\\",\\\"3.8\\\",\\\"3.9\\\",\\\"4.0\\\",\\\"4.1\\\",\\\"4.2\\\",\\\"4.3\\\",\\\"4.4\\\",\\\"4.5\\\",\\\"4.6\\\",\\\"4.7\\\",\\\"4.8\\\",\\\"4.9\\\",\\\"5.0\\\",\\\"5.1\\\",\\\"5.2\\\",\\\"5.3\\\",\\\"5.4\\\",\\\"5.5\\\",\\\"5.6\\\",\\\"5.7\\\",\\\"5.8\\\",\\\"5.9\\\",\\\"6.0\\\",\\\"6.1\\\",\\\"6.2\\\"],\\\"changes\\\":WebIO.getval({\\\"name\\\":\\\"changes\\\",\\\"scope\\\":\\\"5233917707772826977\\\",\\\"id\\\":\\\"46\\\",\\\"type\\\":\\\"observable\\\"}),\\\"index\\\":WebIO.getval({\\\"name\\\":\\\"index\\\",\\\"scope\\\":\\\"5233917707772826977\\\",\\\"id\\\":\\\"45\\\",\\\"type\\\":\\\"observable\\\"})};\\n    var self = this;\\n    function AppViewModel() {\\n        for (var key in json_data) {\\n            var el = json_data[key];\\n            this[key] = Array.isArray(el) ? ko.observableArray(el) : ko.observable(el);\\n        }\\n        \\n        [this[\\\"formatted_val\\\"]=ko.computed(    function(){\\n        return this.formatted_vals()[parseInt(this.index())-(1)];\\n    }\\n,this)]\\n        [this[\\\"changes\\\"].subscribe((function (val){!(this.valueFromJulia[\\\"changes\\\"]) ? (WebIO.setval({\\\"name\\\":\\\"changes\\\",\\\"scope\\\":\\\"5233917707772826977\\\",\\\"id\\\":\\\"46\\\",\\\"type\\\":\\\"observable\\\"},val)) : undefined; return this.valueFromJulia[\\\"changes\\\"]=false}),self),this[\\\"index\\\"].subscribe((function (val){!(this.valueFromJulia[\\\"index\\\"]) ? (WebIO.setval({\\\"name\\\":\\\"index\\\",\\\"scope\\\":\\\"5233917707772826977\\\",\\\"id\\\":\\\"45\\\",\\\"type\\\":\\\"observable\\\"},val)) : undefined; return this.valueFromJulia[\\\"index\\\"]=false}),self)]\\n        \\n    }\\n    self.model = new AppViewModel();\\n    self.valueFromJulia = {};\\n    for (var key in json_data) {\\n        self.valueFromJulia[key] = false;\\n    }\\n    ko.applyBindings(self.model, self.dom);\\n}\\n);\\n    (WebIO.importBlock({\\\"data\\\":[{\\\"name\\\":\\\"knockout\\\",\\\"type\\\":\\\"js\\\",\\\"url\\\":\\\"/assetserver/d0f67ea5103338bec547a71428bdbf3df4f08059-knockout.js\\\"},{\\\"name\\\":\\\"knockout_punches\\\",\\\"type\\\":\\\"js\\\",\\\"url\\\":\\\"/assetserver/e26f753938579e2287344150f7e368ac4b529445-knockout_punches.js\\\"}],\\\"type\\\":\\\"async_block\\\"})).then((imports) => handler.apply(this, imports));\\n}\\n\")])], Dict{Symbol, Any}(:className => \"field interact-widget\")), Node{WebIO.DOM}(WebIO.DOM(:html, :div), Any[Scope(Node{WebIO.DOM}(WebIO.DOM(:html, :div), Any[Node{WebIO.DOM}(WebIO.DOM(:html, :div), Any[Node{WebIO.DOM}(WebIO.DOM(:html, :label), Any[\"radii\"], Dict{Symbol, Any}(:className => \"interact \", :style => Dict{Any, Any}(:padding => \"5px 10px 0px 10px\")))], Dict{Symbol, Any}(:className => \"interact-flex-row-left\")), Node{WebIO.DOM}(WebIO.DOM(:html, :div), Any[Node{WebIO.DOM}(WebIO.DOM(:html, :input), Any[], Dict{Symbol, Any}(:max => 600, :min => 1, :attributes => Dict{Any, Any}(:type => \"range\", Symbol(\"data-bind\") => \"numericValue: index, valueUpdate: 'input', event: {change: function (){this.changes(this.changes()+1)}}\", \"orient\" => \"horizontal\"), :step => 1, :className => \"slider slider is-fullwidth\", :style => Dict{Any, Any}()))], Dict{Symbol, Any}(:className => \"interact-flex-row-center\")), Node{WebIO.DOM}(WebIO.DOM(:html, :div), Any[Node{WebIO.DOM}(WebIO.DOM(:html, :p), Any[], Dict{Symbol, Any}(:attributes => Dict(\"data-bind\" => \"text: formatted_val\")))], Dict{Symbol, Any}(:className => \"interact-flex-row-right\"))], Dict{Symbol, Any}(:className => \"interact-flex-row interact-widget\")), Dict{String, Tuple{AbstractObservable, Union{Nothing, Bool}}}(\"changes\" => (Observable(0), nothing), \"index\" => (Observable{Any}(300), nothing)), Set{String}(), nothing, Asset[Asset(\"js\", \"knockout\", \"/Users/emueller/.julia/packages/Knockout/HReiN/src/../assets/knockout.js\"), Asset(\"js\", \"knockout_punches\", \"/Users/emueller/.julia/packages/Knockout/HReiN/src/../assets/knockout_punches.js\"), Asset(\"js\", nothing, \"/Users/emueller/.julia/packages/InteractBase/LJXv3/src/../assets/all.js\"), Asset(\"css\", nothing, \"/Users/emueller/.julia/packages/InteractBase/LJXv3/src/../assets/style.css\"), Asset(\"css\", nothing, \"/Users/emueller/.julia/packages/Interact/PENUy/src/../assets/bulma_confined.min.css\")], Dict{Any, Any}(\"changes\" => Any[WebIO.JSString(\"(function (val){return (val!=this.model[\\\"changes\\\"]()) ? (this.valueFromJulia[\\\"changes\\\"]=true, this.model[\\\"changes\\\"](val)) : undefined})\")], \"index\" => Any[WebIO.JSString(\"(function (val){return (val!=this.model[\\\"index\\\"]()) ? (this.valueFromJulia[\\\"index\\\"]=true, this.model[\\\"index\\\"](val)) : undefined})\")]), WebIO.ConnectionPool(Channel{Any}(32), Set{AbstractConnection}(), Base.GenericCondition{ReentrantLock}(Base.IntrusiveLinkedList{Task}(Task (runnable) @0x000000010ca1b210, Task (runnable) @0x000000010ca1b210), ReentrantLock(nothing, 0x00000000, 0x00, Base.GenericCondition{Base.Threads.SpinLock}(Base.IntrusiveLinkedList{Task}(nothing, nothing), Base.Threads.SpinLock(0)), (0, 5640783120, 0)))), WebIO.JSString[WebIO.JSString(\"function () {\\n    var handler = (function (ko, koPunches) {\\n    ko.punches.enableAll();\\n    ko.bindingHandlers.numericValue = {\\n        init: function(element, valueAccessor, allBindings, data, context) {\\n            var stringified = ko.observable(ko.unwrap(valueAccessor()));\\n            stringified.subscribe(function(value) {\\n                var val = parseFloat(value);\\n                if (!isNaN(val)) {\\n                    valueAccessor()(val);\\n                }\\n            });\\n            valueAccessor().subscribe(function(value) {\\n                var str = JSON.stringify(value);\\n                if ((str == \\\"0\\\") && ([\\\"-0\\\", \\\"-0.\\\"].indexOf(stringified()) >= 0))\\n                     return;\\n                 if ([\\\"null\\\", \\\"\\\"].indexOf(str) >= 0)\\n                     return;\\n                stringified(str);\\n            });\\n            ko.applyBindingsToNode(\\n                element,\\n                {\\n                    value: stringified,\\n                    valueUpdate: allBindings.get('valueUpdate'),\\n                },\\n                context,\\n            );\\n        }\\n    };\\n    var json_data = {\\\"formatted_vals\\\":[\\\"0.1\\\",\\\"0.2\\\",\\\"0.3\\\",\\\"0.4\\\",\\\"0.5\\\",\\\"0.6\\\",\\\"0.7\\\",\\\"0.8\\\",\\\"0.9\\\",\\\"1.0\\\",\\\"1.1\\\",\\\"1.2\\\",\\\"1.3\\\",\\\"1.4\\\",\\\"1.5\\\",\\\"1.6\\\",\\\"1.7\\\",\\\"1.8\\\",\\\"1.9\\\",\\\"2.0\\\",\\\"2.1\\\",\\\"2.2\\\",\\\"2.3\\\",\\\"2.4\\\",\\\"2.5\\\",\\\"2.6\\\",\\\"2.7\\\",\\\"2.8\\\",\\\"2.9\\\",\\\"3.0\\\",\\\"3.1\\\",\\\"3.2\\\",\\\"3.3\\\",\\\"3.4\\\",\\\"3.5\\\",\\\"3.6\\\",\\\"3.7\\\",\\\"3.8\\\",\\\"3.9\\\",\\\"4.0\\\",\\\"4.1\\\",\\\"4.2\\\",\\\"4.3\\\",\\\"4.4\\\",\\\"4.5\\\",\\\"4.6\\\",\\\"4.7\\\",\\\"4.8\\\",\\\"4.9\\\",\\\"5.0\\\",\\\"5.1\\\",\\\"5.2\\\",\\\"5.3\\\",\\\"5.4\\\",\\\"5.5\\\",\\\"5.6\\\",\\\"5.7\\\",\\\"5.8\\\",\\\"5.9\\\",\\\"6.0\\\",\\\"6.1\\\",\\\"6.2\\\",\\\"6.3\\\",\\\"6.4\\\",\\\"6.5\\\",\\\"6.6\\\",\\\"6.7\\\",\\\"6.8\\\",\\\"6.9\\\",\\\"7.0\\\",\\\"7.1\\\",\\\"7.2\\\",\\\"7.3\\\",\\\"7.4\\\",\\\"7.5\\\",\\\"7.6\\\",\\\"7.7\\\",\\\"7.8\\\",\\\"7.9\\\",\\\"8.0\\\",\\\"8.1\\\",\\\"8.2\\\",\\\"8.3\\\",\\\"8.4\\\",\\\"8.5\\\",\\\"8.6\\\",\\\"8.7\\\",\\\"8.8\\\",\\\"8.9\\\",\\\"9.0\\\",\\\"9.1\\\",\\\"9.2\\\",\\\"9.3\\\",\\\"9.4\\\",\\\"9.5\\\",\\\"9.6\\\",\\\"9.7\\\",\\\"9.8\\\",\\\"9.9\\\",\\\"10.0\\\",\\\"10.1\\\",\\\"10.2\\\",\\\"10.3\\\",\\\"10.4\\\",\\\"10.5\\\",\\\"10.6\\\",\\\"10.7\\\",\\\"10.8\\\",\\\"10.9\\\",\\\"11.0\\\",\\\"11.1\\\",\\\"11.2\\\",\\\"11.3\\\",\\\"11.4\\\",\\\"11.5\\\",\\\"11.6\\\",\\\"11.7\\\",\\\"11.8\\\",\\\"11.9\\\",\\\"12.0\\\",\\\"12.1\\\",\\\"12.2\\\",\\\"12.3\\\",\\\"12.4\\\",\\\"12.5\\\",\\\"12.6\\\",\\\"12.7\\\",\\\"12.8\\\",\\\"12.9\\\",\\\"13.0\\\",\\\"13.1\\\",\\\"13.2\\\",\\\"13.3\\\",\\\"13.4\\\",\\\"13.5\\\",\\\"13.6\\\",\\\"13.7\\\",\\\"13.8\\\",\\\"13.9\\\",\\\"14.0\\\",\\\"14.1\\\",\\\"14.2\\\",\\\"14.3\\\",\\\"14.4\\\",\\\"14.5\\\",\\\"14.6\\\",\\\"14.7\\\",\\\"14.8\\\",\\\"14.9\\\",\\\"15.0\\\",\\\"15.1\\\",\\\"15.2\\\",\\\"15.3\\\",\\\"15.4\\\",\\\"15.5\\\",\\\"15.6\\\",\\\"15.7\\\",\\\"15.8\\\",\\\"15.9\\\",\\\"16.0\\\",\\\"16.1\\\",\\\"16.2\\\",\\\"16.3\\\",\\\"16.4\\\",\\\"16.5\\\",\\\"16.6\\\",\\\"16.7\\\",\\\"16.8\\\",\\\"16.9\\\",\\\"17.0\\\",\\\"17.1\\\",\\\"17.2\\\",\\\"17.3\\\",\\\"17.4\\\",\\\"17.5\\\",\\\"17.6\\\",\\\"17.7\\\",\\\"17.8\\\",\\\"17.9\\\",\\\"18.0\\\",\\\"18.1\\\",\\\"18.2\\\",\\\"18.3\\\",\\\"18.4\\\",\\\"18.5\\\",\\\"18.6\\\",\\\"18.7\\\",\\\"18.8\\\",\\\"18.9\\\",\\\"19.0\\\",\\\"19.1\\\",\\\"19.2\\\",\\\"19.3\\\",\\\"19.4\\\",\\\"19.5\\\",\\\"19.6\\\",\\\"19.7\\\",\\\"19.8\\\",\\\"19.9\\\",\\\"20.0\\\",\\\"20.1\\\",\\\"20.2\\\",\\\"20.3\\\",\\\"20.4\\\",\\\"20.5\\\",\\\"20.6\\\",\\\"20.7\\\",\\\"20.8\\\",\\\"20.9\\\",\\\"21.0\\\",\\\"21.1\\\",\\\"21.2\\\",\\\"21.3\\\",\\\"21.4\\\",\\\"21.5\\\",\\\"21.6\\\",\\\"21.7\\\",\\\"21.8\\\",\\\"21.9\\\",\\\"22.0\\\",\\\"22.1\\\",\\\"22.2\\\",\\\"22.3\\\",\\\"22.4\\\",\\\"22.5\\\",\\\"22.6\\\",\\\"22.7\\\",\\\"22.8\\\",\\\"22.9\\\",\\\"23.0\\\",\\\"23.1\\\",\\\"23.2\\\",\\\"23.3\\\",\\\"23.4\\\",\\\"23.5\\\",\\\"23.6\\\",\\\"23.7\\\",\\\"23.8\\\",\\\"23.9\\\",\\\"24.0\\\",\\\"24.1\\\",\\\"24.2\\\",\\\"24.3\\\",\\\"24.4\\\",\\\"24.5\\\",\\\"24.6\\\",\\\"24.7\\\",\\\"24.8\\\",\\\"24.9\\\",\\\"25.0\\\",\\\"25.1\\\",\\\"25.2\\\",\\\"25.3\\\",\\\"25.4\\\",\\\"25.5\\\",\\\"25.6\\\",\\\"25.7\\\",\\\"25.8\\\",\\\"25.9\\\",\\\"26.0\\\",\\\"26.1\\\",\\\"26.2\\\",\\\"26.3\\\",\\\"26.4\\\",\\\"26.5\\\",\\\"26.6\\\",\\\"26.7\\\",\\\"26.8\\\",\\\"26.9\\\",\\\"27.0\\\",\\\"27.1\\\",\\\"27.2\\\",\\\"27.3\\\",\\\"27.4\\\",\\\"27.5\\\",\\\"27.6\\\",\\\"27.7\\\",\\\"27.8\\\",\\\"27.9\\\",\\\"28.0\\\",\\\"28.1\\\",\\\"28.2\\\",\\\"28.3\\\",\\\"28.4\\\",\\\"28.5\\\",\\\"28.6\\\",\\\"28.7\\\",\\\"28.8\\\",\\\"28.9\\\",\\\"29.0\\\",\\\"29.1\\\",\\\"29.2\\\",\\\"29.3\\\",\\\"29.4\\\",\\\"29.5\\\",\\\"29.6\\\",\\\"29.7\\\",\\\"29.8\\\",\\\"29.9\\\",\\\"30.0\\\",\\\"30.1\\\",\\\"30.2\\\",\\\"30.3\\\",\\\"30.4\\\",\\\"30.5\\\",\\\"30.6\\\",\\\"30.7\\\",\\\"30.8\\\",\\\"30.9\\\",\\\"31.0\\\",\\\"31.1\\\",\\\"31.2\\\",\\\"31.3\\\",\\\"31.4\\\",\\\"31.5\\\",\\\"31.6\\\",\\\"31.7\\\",\\\"31.8\\\",\\\"31.9\\\",\\\"32.0\\\",\\\"32.1\\\",\\\"32.2\\\",\\\"32.3\\\",\\\"32.4\\\",\\\"32.5\\\",\\\"32.6\\\",\\\"32.7\\\",\\\"32.8\\\",\\\"32.9\\\",\\\"33.0\\\",\\\"33.1\\\",\\\"33.2\\\",\\\"33.3\\\",\\\"33.4\\\",\\\"33.5\\\",\\\"33.6\\\",\\\"33.7\\\",\\\"33.8\\\",\\\"33.9\\\",\\\"34.0\\\",\\\"34.1\\\",\\\"34.2\\\",\\\"34.3\\\",\\\"34.4\\\",\\\"34.5\\\",\\\"34.6\\\",\\\"34.7\\\",\\\"34.8\\\",\\\"34.9\\\",\\\"35.0\\\",\\\"35.1\\\",\\\"35.2\\\",\\\"35.3\\\",\\\"35.4\\\",\\\"35.5\\\",\\\"35.6\\\",\\\"35.7\\\",\\\"35.8\\\",\\\"35.9\\\",\\\"36.0\\\",\\\"36.1\\\",\\\"36.2\\\",\\\"36.3\\\",\\\"36.4\\\",\\\"36.5\\\",\\\"36.6\\\",\\\"36.7\\\",\\\"36.8\\\",\\\"36.9\\\",\\\"37.0\\\",\\\"37.1\\\",\\\"37.2\\\",\\\"37.3\\\",\\\"37.4\\\",\\\"37.5\\\",\\\"37.6\\\",\\\"37.7\\\",\\\"37.8\\\",\\\"37.9\\\",\\\"38.0\\\",\\\"38.1\\\",\\\"38.2\\\",\\\"38.3\\\",\\\"38.4\\\",\\\"38.5\\\",\\\"38.6\\\",\\\"38.7\\\",\\\"38.8\\\",\\\"38.9\\\",\\\"39.0\\\",\\\"39.1\\\",\\\"39.2\\\",\\\"39.3\\\",\\\"39.4\\\",\\\"39.5\\\",\\\"39.6\\\",\\\"39.7\\\",\\\"39.8\\\",\\\"39.9\\\",\\\"40.0\\\",\\\"40.1\\\",\\\"40.2\\\",\\\"40.3\\\",\\\"40.4\\\",\\\"40.5\\\",\\\"40.6\\\",\\\"40.7\\\",\\\"40.8\\\",\\\"40.9\\\",\\\"41.0\\\",\\\"41.1\\\",\\\"41.2\\\",\\\"41.3\\\",\\\"41.4\\\",\\\"41.5\\\",\\\"41.6\\\",\\\"41.7\\\",\\\"41.8\\\",\\\"41.9\\\",\\\"42.0\\\",\\\"42.1\\\",\\\"42.2\\\",\\\"42.3\\\",\\\"42.4\\\",\\\"42.5\\\",\\\"42.6\\\",\\\"42.7\\\",\\\"42.8\\\",\\\"42.9\\\",\\\"43.0\\\",\\\"43.1\\\",\\\"43.2\\\",\\\"43.3\\\",\\\"43.4\\\",\\\"43.5\\\",\\\"43.6\\\",\\\"43.7\\\",\\\"43.8\\\",\\\"43.9\\\",\\\"44.0\\\",\\\"44.1\\\",\\\"44.2\\\",\\\"44.3\\\",\\\"44.4\\\",\\\"44.5\\\",\\\"44.6\\\",\\\"44.7\\\",\\\"44.8\\\",\\\"44.9\\\",\\\"45.0\\\",\\\"45.1\\\",\\\"45.2\\\",\\\"45.3\\\",\\\"45.4\\\",\\\"45.5\\\",\\\"45.6\\\",\\\"45.7\\\",\\\"45.8\\\",\\\"45.9\\\",\\\"46.0\\\",\\\"46.1\\\",\\\"46.2\\\",\\\"46.3\\\",\\\"46.4\\\",\\\"46.5\\\",\\\"46.6\\\",\\\"46.7\\\",\\\"46.8\\\",\\\"46.9\\\",\\\"47.0\\\",\\\"47.1\\\",\\\"47.2\\\",\\\"47.3\\\",\\\"47.4\\\",\\\"47.5\\\",\\\"47.6\\\",\\\"47.7\\\",\\\"47.8\\\",\\\"47.9\\\",\\\"48.0\\\",\\\"48.1\\\",\\\"48.2\\\",\\\"48.3\\\",\\\"48.4\\\",\\\"48.5\\\",\\\"48.6\\\",\\\"48.7\\\",\\\"48.8\\\",\\\"48.9\\\",\\\"49.0\\\",\\\"49.1\\\",\\\"49.2\\\",\\\"49.3\\\",\\\"49.4\\\",\\\"49.5\\\",\\\"49.6\\\",\\\"49.7\\\",\\\"49.8\\\",\\\"49.9\\\",\\\"50.0\\\",\\\"50.1\\\",\\\"50.2\\\",\\\"50.3\\\",\\\"50.4\\\",\\\"50.5\\\",\\\"50.6\\\",\\\"50.7\\\",\\\"50.8\\\",\\\"50.9\\\",\\\"51.0\\\",\\\"51.1\\\",\\\"51.2\\\",\\\"51.3\\\",\\\"51.4\\\",\\\"51.5\\\",\\\"51.6\\\",\\\"51.7\\\",\\\"51.8\\\",\\\"51.9\\\",\\\"52.0\\\",\\\"52.1\\\",\\\"52.2\\\",\\\"52.3\\\",\\\"52.4\\\",\\\"52.5\\\",\\\"52.6\\\",\\\"52.7\\\",\\\"52.8\\\",\\\"52.9\\\",\\\"53.0\\\",\\\"53.1\\\",\\\"53.2\\\",\\\"53.3\\\",\\\"53.4\\\",\\\"53.5\\\",\\\"53.6\\\",\\\"53.7\\\",\\\"53.8\\\",\\\"53.9\\\",\\\"54.0\\\",\\\"54.1\\\",\\\"54.2\\\",\\\"54.3\\\",\\\"54.4\\\",\\\"54.5\\\",\\\"54.6\\\",\\\"54.7\\\",\\\"54.8\\\",\\\"54.9\\\",\\\"55.0\\\",\\\"55.1\\\",\\\"55.2\\\",\\\"55.3\\\",\\\"55.4\\\",\\\"55.5\\\",\\\"55.6\\\",\\\"55.7\\\",\\\"55.8\\\",\\\"55.9\\\",\\\"56.0\\\",\\\"56.1\\\",\\\"56.2\\\",\\\"56.3\\\",\\\"56.4\\\",\\\"56.5\\\",\\\"56.6\\\",\\\"56.7\\\",\\\"56.8\\\",\\\"56.9\\\",\\\"57.0\\\",\\\"57.1\\\",\\\"57.2\\\",\\\"57.3\\\",\\\"57.4\\\",\\\"57.5\\\",\\\"57.6\\\",\\\"57.7\\\",\\\"57.8\\\",\\\"57.9\\\",\\\"58.0\\\",\\\"58.1\\\",\\\"58.2\\\",\\\"58.3\\\",\\\"58.4\\\",\\\"58.5\\\",\\\"58.6\\\",\\\"58.7\\\",\\\"58.8\\\",\\\"58.9\\\",\\\"59.0\\\",\\\"59.1\\\",\\\"59.2\\\",\\\"59.3\\\",\\\"59.4\\\",\\\"59.5\\\",\\\"59.6\\\",\\\"59.7\\\",\\\"59.8\\\",\\\"59.9\\\",\\\"60.0\\\"],\\\"changes\\\":WebIO.getval({\\\"name\\\":\\\"changes\\\",\\\"scope\\\":\\\"6521757301954226480\\\",\\\"id\\\":\\\"49\\\",\\\"type\\\":\\\"observable\\\"}),\\\"index\\\":WebIO.getval({\\\"name\\\":\\\"index\\\",\\\"scope\\\":\\\"6521757301954226480\\\",\\\"id\\\":\\\"48\\\",\\\"type\\\":\\\"observable\\\"})};\\n    var self = this;\\n    function AppViewModel() {\\n        for (var key in json_data) {\\n            var el = json_data[key];\\n            this[key] = Array.isArray(el) ? ko.observableArray(el) : ko.observable(el);\\n        }\\n        \\n        [this[\\\"formatted_val\\\"]=ko.computed(    function(){\\n        return this.formatted_vals()[parseInt(this.index())-(1)];\\n    }\\n,this)]\\n        [this[\\\"changes\\\"].subscribe((function (val){!(this.valueFromJulia[\\\"changes\\\"]) ? (WebIO.setval({\\\"name\\\":\\\"changes\\\",\\\"scope\\\":\\\"6521757301954226480\\\",\\\"id\\\":\\\"49\\\",\\\"type\\\":\\\"observable\\\"},val)) : undefined; return this.valueFromJulia[\\\"changes\\\"]=false}),self),this[\\\"index\\\"].subscribe((function (val){!(this.valueFromJulia[\\\"index\\\"]) ? (WebIO.setval({\\\"name\\\":\\\"index\\\",\\\"scope\\\":\\\"6521757301954226480\\\",\\\"id\\\":\\\"48\\\",\\\"type\\\":\\\"observable\\\"},val)) : undefined; return this.valueFromJulia[\\\"index\\\"]=false}),self)]\\n        \\n    }\\n    self.model = new AppViewModel();\\n    self.valueFromJulia = {};\\n    for (var key in json_data) {\\n        self.valueFromJulia[key] = false;\\n    }\\n    ko.applyBindings(self.model, self.dom);\\n}\\n);\\n    (WebIO.importBlock({\\\"data\\\":[{\\\"name\\\":\\\"knockout\\\",\\\"type\\\":\\\"js\\\",\\\"url\\\":\\\"/assetserver/d0f67ea5103338bec547a71428bdbf3df4f08059-knockout.js\\\"},{\\\"name\\\":\\\"knockout_punches\\\",\\\"type\\\":\\\"js\\\",\\\"url\\\":\\\"/assetserver/e26f753938579e2287344150f7e368ac4b529445-knockout_punches.js\\\"}],\\\"type\\\":\\\"async_block\\\"})).then((imports) => handler.apply(this, imports));\\n}\\n\")])], Dict{Symbol, Any}(:className => \"field interact-widget\")), Observable(Node{WebIO.DOM}(WebIO.DOM(:html, :div), Any[Node{WebIO.DOM}(WebIO.DOM(:svg, :svg), Any[Node{WebIO.DOM}(WebIO.DOM(:svg, :circle), Any[], Dict{Symbol, Any}(:attributes => Dict{SubString{String}, SubString{String}}(\"cy\" => \"159.98334166468283\", \"r\" => \"30.0\", \"fill\" => \"gray\", \"cx\" => \"5.570423008216337\"))), Node{WebIO.DOM}(WebIO.DOM(:svg, :circle), Any[], Dict{Symbol, Any}(:attributes => Dict{SubString{String}, SubString{String}}(\"cy\" => \"169.8669330795061\", \"r\" => \"30.0\", \"fill\" => \"silver\", \"cx\" => \"11.140846016432674\"))), Node{WebIO.DOM}(WebIO.DOM(:svg, :circle), Any[], Dict{Symbol, Any}(:attributes => Dict{SubString{String}, SubString{String}}(\"cy\" => \"179.55202066613396\", \"r\" => \"30.0\", \"fill\" => \"maroon\", \"cx\" => \"16.711269024649013\"))), Node{WebIO.DOM}(WebIO.DOM(:svg, :circle), Any[], Dict{Symbol, Any}(:attributes => Dict{SubString{String}, SubString{String}}(\"cy\" => \"188.94183423086506\", \"r\" => \"30.0\", \"fill\" => \"red\", \"cx\" => \"22.281692032865347\"))), Node{WebIO.DOM}(WebIO.DOM(:svg, :circle), Any[], Dict{Symbol, Any}(:attributes => Dict{SubString{String}, SubString{String}}(\"cy\" => \"197.9425538604203\", \"r\" => \"30.0\", \"fill\" => \"olive\", \"cx\" => \"27.852115041081685\"))), Node{WebIO.DOM}(WebIO.DOM(:svg, :circle), Any[], Dict{Symbol, Any}(:attributes => Dict{SubString{String}, SubString{String}}(\"cy\" => \"206.46424733950354\", \"r\" => \"30.0\", \"fill\" => \"yellow\", \"cx\" => \"33.422538049298026\"))), Node{WebIO.DOM}(WebIO.DOM(:svg, :circle), Any[], Dict{Symbol, Any}(:attributes => Dict{SubString{String}, SubString{String}}(\"cy\" => \"214.4217687237691\", \"r\" => \"30.0\", \"fill\" => \"green\", \"cx\" => \"38.992961057514364\"))), Node{WebIO.DOM}(WebIO.DOM(:svg, :circle), Any[], Dict{Symbol, Any}(:attributes => Dict{SubString{String}, SubString{String}}(\"cy\" => \"221.73560908995228\", \"r\" => \"30.0\", \"fill\" => \"lime\", \"cx\" => \"44.563384065730695\"))), Node{WebIO.DOM}(WebIO.DOM(:svg, :circle), Any[], Dict{Symbol, Any}(:attributes => Dict{SubString{String}, SubString{String}}(\"cy\" => \"228.33269096274836\", \"r\" => \"30.0\", \"fill\" => \"teal\", \"cx\" => \"50.13380707394703\"))), Node{WebIO.DOM}(WebIO.DOM(:svg, :circle), Any[], Dict{Symbol, Any}(:attributes => Dict{SubString{String}, SubString{String}}(\"cy\" => \"234.14709848078965\", \"r\" => \"30.0\", \"fill\" => \"aqua\", \"cx\" => \"55.70423008216337\")))  …  Node{WebIO.DOM}(WebIO.DOM(:svg, :circle), Any[], Dict{Symbol, Any}(:attributes => Dict{SubString{String}, SubString{String}}(\"cy\" => \"181.9098362349352\", \"r\" => \"30.0\", \"fill\" => \"gray\", \"cx\" => \"506.9084937476867\"))), Node{WebIO.DOM}(WebIO.DOM(:svg, :circle), Any[], Dict{Symbol, Any}(:attributes => Dict{SubString{String}, SubString{String}}(\"cy\" => \"172.2889914100246\", \"r\" => \"30.0\", \"fill\" => \"silver\", \"cx\" => \"512.4789167559031\"))), Node{WebIO.DOM}(WebIO.DOM(:svg, :circle), Any[], Dict{Symbol, Any}(:attributes => Dict{SubString{String}, SubString{String}}(\"cy\" => \"162.44544235070617\", \"r\" => \"30.0\", \"fill\" => \"maroon\", \"cx\" => \"518.0493397641194\"))), Node{WebIO.DOM}(WebIO.DOM(:svg, :circle), Any[], Dict{Symbol, Any}(:attributes => Dict{SubString{String}, SubString{String}}(\"cy\" => \"152.47754254533578\", \"r\" => \"30.0\", \"fill\" => \"red\", \"cx\" => \"523.6197627723357\"))), Node{WebIO.DOM}(WebIO.DOM(:svg, :circle), Any[], Dict{Symbol, Any}(:attributes => Dict{SubString{String}, SubString{String}}(\"cy\" => \"142.48488795381908\", \"r\" => \"30.0\", \"fill\" => \"olive\", \"cx\" => \"529.190185780552\"))), Node{WebIO.DOM}(WebIO.DOM(:svg, :circle), Any[], Dict{Symbol, Any}(:attributes => Dict{SubString{String}, SubString{String}}(\"cy\" => \"132.56732187770186\", \"r\" => \"30.0\", \"fill\" => \"yellow\", \"cx\" => \"534.7606087887684\"))), Node{WebIO.DOM}(WebIO.DOM(:svg, :circle), Any[], Dict{Symbol, Any}(:attributes => Dict{SubString{String}, SubString{String}}(\"cy\" => \"122.82393735890558\", \"r\" => \"30.0\", \"fill\" => \"green\", \"cx\" => \"540.3310317969848\"))), Node{WebIO.DOM}(WebIO.DOM(:svg, :circle), Any[], Dict{Symbol, Any}(:attributes => Dict{SubString{String}, SubString{String}}(\"cy\" => \"113.35208707480717\", \"r\" => \"30.0\", \"fill\" => \"lime\", \"cx\" => \"545.9014548052011\"))), Node{WebIO.DOM}(WebIO.DOM(:svg, :circle), Any[], Dict{Symbol, Any}(:attributes => Dict{SubString{String}, SubString{String}}(\"cy\" => \"104.24641062246786\", \"r\" => \"30.0\", \"fill\" => \"teal\", \"cx\" => \"551.4718778134173\"))), Node{WebIO.DOM}(WebIO.DOM(:svg, :circle), Any[], Dict{Symbol, Any}(:attributes => Dict{SubString{String}, SubString{String}}(\"cy\" => \"95.59788891106302\", \"r\" => \"30.0\", \"fill\" => \"aqua\", \"cx\" => \"557.0423008216337\")))], Dict{Symbol, Any}(:attributes => Dict{SubString{String}, SubString{String}}(\"height\" => \"300\", \"width\" => \"700\")))], Dict{Symbol, Any}(:className => \"interact-flex-row interact-widget\")))], Dict{Symbol, Any}())"
      ]
     },
     "execution_count": 24,
     "metadata": {
      "application/vnd.webio.node+json": {
       "kernelId": "456cb6c0-a4d4-414f-9e24-5bd635f6d622"
      }
     },
     "output_type": "execute_result"
    }
   ],
   "source": [
    "width, height = 700, 300\n",
    "colors = [\"black\", \"gray\", \"silver\", \"maroon\", \"red\", \"olive\", \"yellow\", \"green\", \"lime\", \"teal\", \"aqua\", \"navy\", \"blue\", \"purple\", \"fuchsia\"]\n",
    "color(i) = colors[i%length(colors)+1]\n",
    "ui = @manipulate for nsamples in 1:200,\n",
    "        sample_step in slider(0.01:0.01:1.0, value=0.1, label=\"sample step\"),\n",
    "        phase in slider(0:0.1:2pi, value=0.0, label=\"phase\"),\n",
    "        radii in 0.1:0.1:60\n",
    "    cxs_unscaled = [i*sample_step + phase for i in 1:nsamples]\n",
    "    cys = sin.(cxs_unscaled) .* height/3 .+ height/2\n",
    "    cxs = cxs_unscaled .* width/4pi\n",
    "    dom\"svg:svg[width=$width, height=$height]\"(\n",
    "        (dom\"svg:circle[cx=$(cxs[i]), cy=$(cys[i]), r=$radii, fill=$(color(i))]\"()\n",
    "            for i in 1:nsamples)...\n",
    "    )\n",
    "end"
   ]
  },
  {
   "cell_type": "markdown",
   "metadata": {},
   "source": [
    "or, if you want a plot with some variables taking discrete values:"
   ]
  },
  {
   "cell_type": "code",
   "execution_count": 25,
   "metadata": {},
   "outputs": [
    {
     "data": {
      "application/vnd.webio.node+json": {
       "children": [
        {
         "children": [
          {
           "children": [
            {
             "children": [
              {
               "children": [
                {
                 "children": [
                  "freq1"
                 ],
                 "instanceArgs": {
                  "namespace": "html",
                  "tag": "label"
                 },
                 "nodeType": "DOM",
                 "props": {
                  "className": "interact ",
                  "style": {
                   "padding": "5px 10px 0px 10px"
                  }
                 },
                 "type": "node"
                }
               ],
               "instanceArgs": {
                "namespace": "html",
                "tag": "div"
               },
               "nodeType": "DOM",
               "props": {
                "className": "interact-flex-row-left"
               },
               "type": "node"
              },
              {
               "children": [
                {
                 "children": [
                  {
                   "children": [
                    {
                     "children": [],
                     "instanceArgs": {
                      "namespace": "html",
                      "tag": "label"
                     },
                     "nodeType": "DOM",
                     "props": {
                      "attributes": {
                       "data-bind": "text : key"
                      }
                     },
                     "type": "node"
                    }
                   ],
                   "instanceArgs": {
                    "namespace": "html",
                    "tag": "span"
                   },
                   "nodeType": "DOM",
                   "props": {
                    "attributes": {
                     "data-bind": "click: function (){$root.update(val)}, css: {'is-primary is-selected' : $root.index() == val, 'interact-widget is-medium button ' : true}"
                    }
                   },
                   "type": "node"
                  }
                 ],
                 "instanceArgs": {
                  "namespace": "html",
                  "tag": "div"
                 },
                 "nodeType": "DOM",
                 "props": {
                  "attributes": {
                   "data-bind": "foreach : options_js"
                  },
                  "className": "buttons has-addons is-centered"
                 },
                 "type": "node"
                }
               ],
               "instanceArgs": {
                "namespace": "html",
                "tag": "div"
               },
               "nodeType": "DOM",
               "props": {
                "className": "interact-flex-row-center"
               },
               "type": "node"
              },
              {
               "children": [
                {
                 "children": [],
                 "instanceArgs": {
                  "namespace": "html",
                  "tag": "div"
                 },
                 "nodeType": "DOM",
                 "props": {},
                 "type": "node"
                }
               ],
               "instanceArgs": {
                "namespace": "html",
                "tag": "div"
               },
               "nodeType": "DOM",
               "props": {
                "className": "interact-flex-row-right"
               },
               "type": "node"
              }
             ],
             "instanceArgs": {
              "namespace": "html",
              "tag": "div"
             },
             "nodeType": "DOM",
             "props": {
              "className": "interact-flex-row interact-widget"
             },
             "type": "node"
            }
           ],
           "instanceArgs": {
            "handlers": {
             "index": [
              "(function (val){return (val!=this.model[\"index\"]()) ? (this.valueFromJulia[\"index\"]=true, this.model[\"index\"](val)) : undefined})"
             ],
             "options_js": [
              "(function (val){return (val!=this.model[\"options_js\"]()) ? (this.valueFromJulia[\"options_js\"]=true, this.model[\"options_js\"](val)) : undefined})"
             ]
            },
            "id": "10299940367166295217",
            "imports": {
             "data": [
              {
               "name": "knockout",
               "type": "js",
               "url": "/assetserver/d0f67ea5103338bec547a71428bdbf3df4f08059-knockout.js"
              },
              {
               "name": "knockout_punches",
               "type": "js",
               "url": "/assetserver/e26f753938579e2287344150f7e368ac4b529445-knockout_punches.js"
              },
              {
               "name": null,
               "type": "js",
               "url": "/assetserver/f71b84de1a55136a6c3fa3ef48eef72511463954-all.js"
              },
              {
               "name": null,
               "type": "css",
               "url": "/assetserver/dfba341bd7a3bedeba9caeda5288e80d20d1c596-style.css"
              },
              {
               "name": null,
               "type": "css",
               "url": "/assetserver/53e68c0bec04ce908a124e6cd1565929ff6ce3a7-bulma_confined.min.css"
              }
             ],
             "type": "async_block"
            },
            "mount_callbacks": [
             "function () {\n    var handler = (function (ko, koPunches) {\n    ko.punches.enableAll();\n    ko.bindingHandlers.numericValue = {\n        init: function(element, valueAccessor, allBindings, data, context) {\n            var stringified = ko.observable(ko.unwrap(valueAccessor()));\n            stringified.subscribe(function(value) {\n                var val = parseFloat(value);\n                if (!isNaN(val)) {\n                    valueAccessor()(val);\n                }\n            });\n            valueAccessor().subscribe(function(value) {\n                var str = JSON.stringify(value);\n                if ((str == \"0\") && ([\"-0\", \"-0.\"].indexOf(stringified()) >= 0))\n                     return;\n                 if ([\"null\", \"\"].indexOf(str) >= 0)\n                     return;\n                stringified(str);\n            });\n            ko.applyBindingsToNode(\n                element,\n                {\n                    value: stringified,\n                    valueUpdate: allBindings.get('valueUpdate'),\n                },\n                context,\n            );\n        }\n    };\n    var json_data = {\"options_js\":WebIO.getval({\"name\":\"options_js\",\"scope\":\"10299940367166295217\",\"id\":\"60\",\"type\":\"observable\"}),\"index\":WebIO.getval({\"name\":\"index\",\"scope\":\"10299940367166295217\",\"id\":\"59\",\"type\":\"observable\"})};\n    var self = this;\n    function AppViewModel() {\n        for (var key in json_data) {\n            var el = json_data[key];\n            this[key] = Array.isArray(el) ? ko.observableArray(el) : ko.observable(el);\n        }\n        [this[\"update\"]=function (val) {this.index(val)}]\n        \n        [this[\"options_js\"].subscribe((function (val){!(this.valueFromJulia[\"options_js\"]) ? (WebIO.setval({\"name\":\"options_js\",\"scope\":\"10299940367166295217\",\"id\":\"60\",\"type\":\"observable\"},val)) : undefined; return this.valueFromJulia[\"options_js\"]=false}),self),this[\"index\"].subscribe((function (val){!(this.valueFromJulia[\"index\"]) ? (WebIO.setval({\"name\":\"index\",\"scope\":\"10299940367166295217\",\"id\":\"59\",\"type\":\"observable\"},val)) : undefined; return this.valueFromJulia[\"index\"]=false}),self)]\n        \n    }\n    self.model = new AppViewModel();\n    self.valueFromJulia = {};\n    for (var key in json_data) {\n        self.valueFromJulia[key] = false;\n    }\n    ko.applyBindings(self.model, self.dom);\n}\n);\n    (WebIO.importBlock({\"data\":[{\"name\":\"knockout\",\"type\":\"js\",\"url\":\"/assetserver/d0f67ea5103338bec547a71428bdbf3df4f08059-knockout.js\"},{\"name\":\"knockout_punches\",\"type\":\"js\",\"url\":\"/assetserver/e26f753938579e2287344150f7e368ac4b529445-knockout_punches.js\"}],\"type\":\"async_block\"})).then((imports) => handler.apply(this, imports));\n}\n"
            ],
            "observables": {
             "index": {
              "id": "59",
              "sync": true,
              "value": 1
             },
             "options_js": {
              "id": "60",
              "sync": false,
              "value": [
               {
                "id": "idLZidauSG",
                "key": "pi/4",
                "val": 1
               },
               {
                "id": "idgX7euIwt",
                "key": "π/2",
                "val": 2
               },
               {
                "id": "idZEaHnyBY",
                "key": "3π/4",
                "val": 3
               },
               {
                "id": "idtcmW4GWv",
                "key": "π",
                "val": 4
               }
              ]
             }
            },
            "systemjs_options": null
           },
           "nodeType": "Scope",
           "props": {},
           "type": "node"
          }
         ],
         "instanceArgs": {
          "namespace": "html",
          "tag": "div"
         },
         "nodeType": "DOM",
         "props": {
          "className": "interact-widget"
         },
         "type": "node"
        },
        {
         "children": [
          {
           "children": [
            {
             "children": [
              {
               "children": [
                {
                 "children": [
                  "freq2"
                 ],
                 "instanceArgs": {
                  "namespace": "html",
                  "tag": "label"
                 },
                 "nodeType": "DOM",
                 "props": {
                  "className": "interact ",
                  "style": {
                   "padding": "5px 10px 0px 10px"
                  }
                 },
                 "type": "node"
                }
               ],
               "instanceArgs": {
                "namespace": "html",
                "tag": "div"
               },
               "nodeType": "DOM",
               "props": {
                "className": "interact-flex-row-left"
               },
               "type": "node"
              },
              {
               "children": [
                {
                 "children": [],
                 "instanceArgs": {
                  "namespace": "html",
                  "tag": "input"
                 },
                 "nodeType": "DOM",
                 "props": {
                  "attributes": {
                   "data-bind": "numericValue: index, valueUpdate: 'input', event: {change: function (){this.changes(this.changes()+1)}}",
                   "orient": "horizontal",
                   "type": "range"
                  },
                  "className": "slider slider is-fullwidth",
                  "max": 126,
                  "min": 1,
                  "step": 1,
                  "style": {}
                 },
                 "type": "node"
                }
               ],
               "instanceArgs": {
                "namespace": "html",
                "tag": "div"
               },
               "nodeType": "DOM",
               "props": {
                "className": "interact-flex-row-center"
               },
               "type": "node"
              },
              {
               "children": [
                {
                 "children": [],
                 "instanceArgs": {
                  "namespace": "html",
                  "tag": "p"
                 },
                 "nodeType": "DOM",
                 "props": {
                  "attributes": {
                   "data-bind": "text: formatted_val"
                  }
                 },
                 "type": "node"
                }
               ],
               "instanceArgs": {
                "namespace": "html",
                "tag": "div"
               },
               "nodeType": "DOM",
               "props": {
                "className": "interact-flex-row-right"
               },
               "type": "node"
              }
             ],
             "instanceArgs": {
              "namespace": "html",
              "tag": "div"
             },
             "nodeType": "DOM",
             "props": {
              "className": "interact-flex-row interact-widget"
             },
             "type": "node"
            }
           ],
           "instanceArgs": {
            "handlers": {
             "changes": [
              "(function (val){return (val!=this.model[\"changes\"]()) ? (this.valueFromJulia[\"changes\"]=true, this.model[\"changes\"](val)) : undefined})"
             ],
             "index": [
              "(function (val){return (val!=this.model[\"index\"]()) ? (this.valueFromJulia[\"index\"]=true, this.model[\"index\"](val)) : undefined})"
             ]
            },
            "id": "12022136371473167433",
            "imports": {
             "data": [
              {
               "name": "knockout",
               "type": "js",
               "url": "/assetserver/d0f67ea5103338bec547a71428bdbf3df4f08059-knockout.js"
              },
              {
               "name": "knockout_punches",
               "type": "js",
               "url": "/assetserver/e26f753938579e2287344150f7e368ac4b529445-knockout_punches.js"
              },
              {
               "name": null,
               "type": "js",
               "url": "/assetserver/f71b84de1a55136a6c3fa3ef48eef72511463954-all.js"
              },
              {
               "name": null,
               "type": "css",
               "url": "/assetserver/dfba341bd7a3bedeba9caeda5288e80d20d1c596-style.css"
              },
              {
               "name": null,
               "type": "css",
               "url": "/assetserver/53e68c0bec04ce908a124e6cd1565929ff6ce3a7-bulma_confined.min.css"
              }
             ],
             "type": "async_block"
            },
            "mount_callbacks": [
             "function () {\n    var handler = (function (ko, koPunches) {\n    ko.punches.enableAll();\n    ko.bindingHandlers.numericValue = {\n        init: function(element, valueAccessor, allBindings, data, context) {\n            var stringified = ko.observable(ko.unwrap(valueAccessor()));\n            stringified.subscribe(function(value) {\n                var val = parseFloat(value);\n                if (!isNaN(val)) {\n                    valueAccessor()(val);\n                }\n            });\n            valueAccessor().subscribe(function(value) {\n                var str = JSON.stringify(value);\n                if ((str == \"0\") && ([\"-0\", \"-0.\"].indexOf(stringified()) >= 0))\n                     return;\n                 if ([\"null\", \"\"].indexOf(str) >= 0)\n                     return;\n                stringified(str);\n            });\n            ko.applyBindingsToNode(\n                element,\n                {\n                    value: stringified,\n                    valueUpdate: allBindings.get('valueUpdate'),\n                },\n                context,\n            );\n        }\n    };\n    var json_data = {\"formatted_vals\":[\"0.01\",\"0.11\",\"0.21\",\"0.31\",\"0.41\",\"0.51\",\"0.61\",\"0.71\",\"0.81\",\"0.91\",\"1.01\",\"1.11\",\"1.21\",\"1.31\",\"1.41\",\"1.51\",\"1.61\",\"1.71\",\"1.81\",\"1.91\",\"2.01\",\"2.11\",\"2.21\",\"2.31\",\"2.41\",\"2.51\",\"2.61\",\"2.71\",\"2.81\",\"2.91\",\"3.01\",\"3.11\",\"3.21\",\"3.31\",\"3.41\",\"3.51\",\"3.61\",\"3.71\",\"3.81\",\"3.91\",\"4.01\",\"4.11\",\"4.21\",\"4.31\",\"4.41\",\"4.51\",\"4.61\",\"4.71\",\"4.81\",\"4.91\",\"5.01\",\"5.11\",\"5.21\",\"5.31\",\"5.41\",\"5.51\",\"5.61\",\"5.71\",\"5.81\",\"5.91\",\"6.01\",\"6.11\",\"6.21\",\"6.31\",\"6.41\",\"6.51\",\"6.61\",\"6.71\",\"6.81\",\"6.91\",\"7.01\",\"7.11\",\"7.21\",\"7.31\",\"7.41\",\"7.51\",\"7.61\",\"7.71\",\"7.81\",\"7.91\",\"8.01\",\"8.11\",\"8.21\",\"8.31\",\"8.41\",\"8.51\",\"8.61\",\"8.71\",\"8.81\",\"8.91\",\"9.01\",\"9.11\",\"9.21\",\"9.31\",\"9.41\",\"9.51\",\"9.61\",\"9.71\",\"9.81\",\"9.91\",\"10.01\",\"10.11\",\"10.21\",\"10.31\",\"10.41\",\"10.51\",\"10.61\",\"10.71\",\"10.81\",\"10.91\",\"11.01\",\"11.11\",\"11.21\",\"11.31\",\"11.41\",\"11.51\",\"11.61\",\"11.71\",\"11.81\",\"11.91\",\"12.01\",\"12.11\",\"12.21\",\"12.31\",\"12.41\",\"12.51\"],\"changes\":WebIO.getval({\"name\":\"changes\",\"scope\":\"12022136371473167433\",\"id\":\"63\",\"type\":\"observable\"}),\"index\":WebIO.getval({\"name\":\"index\",\"scope\":\"12022136371473167433\",\"id\":\"62\",\"type\":\"observable\"})};\n    var self = this;\n    function AppViewModel() {\n        for (var key in json_data) {\n            var el = json_data[key];\n            this[key] = Array.isArray(el) ? ko.observableArray(el) : ko.observable(el);\n        }\n        \n        [this[\"formatted_val\"]=ko.computed(    function(){\n        return this.formatted_vals()[parseInt(this.index())-(1)];\n    }\n,this)]\n        [this[\"changes\"].subscribe((function (val){!(this.valueFromJulia[\"changes\"]) ? (WebIO.setval({\"name\":\"changes\",\"scope\":\"12022136371473167433\",\"id\":\"63\",\"type\":\"observable\"},val)) : undefined; return this.valueFromJulia[\"changes\"]=false}),self),this[\"index\"].subscribe((function (val){!(this.valueFromJulia[\"index\"]) ? (WebIO.setval({\"name\":\"index\",\"scope\":\"12022136371473167433\",\"id\":\"62\",\"type\":\"observable\"},val)) : undefined; return this.valueFromJulia[\"index\"]=false}),self)]\n        \n    }\n    self.model = new AppViewModel();\n    self.valueFromJulia = {};\n    for (var key in json_data) {\n        self.valueFromJulia[key] = false;\n    }\n    ko.applyBindings(self.model, self.dom);\n}\n);\n    (WebIO.importBlock({\"data\":[{\"name\":\"knockout\",\"type\":\"js\",\"url\":\"/assetserver/d0f67ea5103338bec547a71428bdbf3df4f08059-knockout.js\"},{\"name\":\"knockout_punches\",\"type\":\"js\",\"url\":\"/assetserver/e26f753938579e2287344150f7e368ac4b529445-knockout_punches.js\"}],\"type\":\"async_block\"})).then((imports) => handler.apply(this, imports));\n}\n"
            ],
            "observables": {
             "changes": {
              "id": "63",
              "sync": false,
              "value": 0
             },
             "index": {
              "id": "62",
              "sync": true,
              "value": 63
             }
            },
            "systemjs_options": null
           },
           "nodeType": "Scope",
           "props": {},
           "type": "node"
          }
         ],
         "instanceArgs": {
          "namespace": "html",
          "tag": "div"
         },
         "nodeType": "DOM",
         "props": {
          "className": "field interact-widget"
         },
         "type": "node"
        },
        {
         "children": [
          {
           "children": [],
           "instanceArgs": {
            "id": "69",
            "name": "obs-node"
           },
           "nodeType": "ObservableNode",
           "props": {},
           "type": "node"
          }
         ],
         "instanceArgs": {
          "handlers": {},
          "id": "11428126408345208013",
          "imports": {
           "data": [],
           "type": "async_block"
          },
          "mount_callbacks": [],
          "observables": {
           "obs-node": {
            "id": "69",
            "sync": false,
            "value": {
             "children": [
              {
               "children": [],
               "instanceArgs": {
                "namespace": "html",
                "tag": "div"
               },
               "nodeType": "DOM",
               "props": {
                "setInnerHtml": "<?xml version=\"1.0\" encoding=\"utf-8\"?>\n<svg xmlns=\"http://www.w3.org/2000/svg\" xmlns:xlink=\"http://www.w3.org/1999/xlink\" width=\"600\" height=\"400\" viewBox=\"0 0 2400 1600\">\n<defs>\n  <clipPath id=\"clip840\">\n    <rect x=\"0\" y=\"0\" width=\"2400\" height=\"1600\"/>\n  </clipPath>\n</defs>\n<path clip-path=\"url(#clip840)\" d=\"M0 1600 L2400 1600 L2400 0 L0 0  Z\" fill=\"#ffffff\" fill-rule=\"evenodd\" fill-opacity=\"1\"/>\n<defs>\n  <clipPath id=\"clip841\">\n    <rect x=\"480\" y=\"0\" width=\"1681\" height=\"1600\"/>\n  </clipPath>\n</defs>\n<path clip-path=\"url(#clip840)\" d=\"M193.936 1486.45 L2352.76 1486.45 L2352.76 47.2441 L193.936 47.2441  Z\" fill=\"#ffffff\" fill-rule=\"evenodd\" fill-opacity=\"1\"/>\n<defs>\n  <clipPath id=\"clip842\">\n    <rect x=\"193\" y=\"47\" width=\"2160\" height=\"1440\"/>\n  </clipPath>\n</defs>\n<polyline clip-path=\"url(#clip842)\" style=\"stroke:#000000; stroke-linecap:round; stroke-linejoin:round; stroke-width:2; stroke-opacity:0.1; fill:none\" points=\"255.035,1486.45 255.035,47.2441 \"/>\n<polyline clip-path=\"url(#clip842)\" style=\"stroke:#000000; stroke-linecap:round; stroke-linejoin:round; stroke-width:2; stroke-opacity:0.1; fill:none\" points=\"933.909,1486.45 933.909,47.2441 \"/>\n<polyline clip-path=\"url(#clip842)\" style=\"stroke:#000000; stroke-linecap:round; stroke-linejoin:round; stroke-width:2; stroke-opacity:0.1; fill:none\" points=\"1612.78,1486.45 1612.78,47.2441 \"/>\n<polyline clip-path=\"url(#clip842)\" style=\"stroke:#000000; stroke-linecap:round; stroke-linejoin:round; stroke-width:2; stroke-opacity:0.1; fill:none\" points=\"2291.66,1486.45 2291.66,47.2441 \"/>\n<polyline clip-path=\"url(#clip840)\" style=\"stroke:#000000; stroke-linecap:round; stroke-linejoin:round; stroke-width:4; stroke-opacity:1; fill:none\" points=\"193.936,1486.45 2352.76,1486.45 \"/>\n<polyline clip-path=\"url(#clip840)\" style=\"stroke:#000000; stroke-linecap:round; stroke-linejoin:round; stroke-width:4; stroke-opacity:1; fill:none\" points=\"255.035,1486.45 255.035,1467.55 \"/>\n<polyline clip-path=\"url(#clip840)\" style=\"stroke:#000000; stroke-linecap:round; stroke-linejoin:round; stroke-width:4; stroke-opacity:1; fill:none\" points=\"933.909,1486.45 933.909,1467.55 \"/>\n<polyline clip-path=\"url(#clip840)\" style=\"stroke:#000000; stroke-linecap:round; stroke-linejoin:round; stroke-width:4; stroke-opacity:1; fill:none\" points=\"1612.78,1486.45 1612.78,1467.55 \"/>\n<polyline clip-path=\"url(#clip840)\" style=\"stroke:#000000; stroke-linecap:round; stroke-linejoin:round; stroke-width:4; stroke-opacity:1; fill:none\" points=\"2291.66,1486.45 2291.66,1467.55 \"/>\n<path clip-path=\"url(#clip840)\" d=\"M255.035 1517.37 Q251.424 1517.37 249.595 1520.93 Q247.789 1524.47 247.789 1531.6 Q247.789 1538.71 249.595 1542.27 Q251.424 1545.82 255.035 1545.82 Q258.669 1545.82 260.474 1542.27 Q262.303 1538.71 262.303 1531.6 Q262.303 1524.47 260.474 1520.93 Q258.669 1517.37 255.035 1517.37 M255.035 1513.66 Q260.845 1513.66 263.9 1518.27 Q266.979 1522.85 266.979 1531.6 Q266.979 1540.33 263.9 1544.94 Q260.845 1549.52 255.035 1549.52 Q249.225 1549.52 246.146 1544.94 Q243.09 1540.33 243.09 1531.6 Q243.09 1522.85 246.146 1518.27 Q249.225 1513.66 255.035 1513.66 Z\" fill=\"#000000\" fill-rule=\"nonzero\" fill-opacity=\"1\" /><path clip-path=\"url(#clip840)\" d=\"M908.596 1544.91 L916.235 1544.91 L916.235 1518.55 L907.925 1520.21 L907.925 1515.95 L916.189 1514.29 L920.865 1514.29 L920.865 1544.91 L928.504 1544.91 L928.504 1548.85 L908.596 1548.85 L908.596 1544.91 Z\" fill=\"#000000\" fill-rule=\"nonzero\" fill-opacity=\"1\" /><path clip-path=\"url(#clip840)\" d=\"M947.948 1517.37 Q944.337 1517.37 942.508 1520.93 Q940.703 1524.47 940.703 1531.6 Q940.703 1538.71 942.508 1542.27 Q944.337 1545.82 947.948 1545.82 Q951.582 1545.82 953.388 1542.27 Q955.217 1538.71 955.217 1531.6 Q955.217 1524.47 953.388 1520.93 Q951.582 1517.37 947.948 1517.37 M947.948 1513.66 Q953.758 1513.66 956.814 1518.27 Q959.893 1522.85 959.893 1531.6 Q959.893 1540.33 956.814 1544.94 Q953.758 1549.52 947.948 1549.52 Q942.138 1549.52 939.059 1544.94 Q936.004 1540.33 936.004 1531.6 Q936.004 1522.85 939.059 1518.27 Q942.138 1513.66 947.948 1513.66 Z\" fill=\"#000000\" fill-rule=\"nonzero\" fill-opacity=\"1\" /><path clip-path=\"url(#clip840)\" d=\"M1591.56 1544.91 L1607.88 1544.91 L1607.88 1548.85 L1585.93 1548.85 L1585.93 1544.91 Q1588.59 1542.16 1593.18 1537.53 Q1597.78 1532.88 1598.96 1531.53 Q1601.21 1529.01 1602.09 1527.27 Q1602.99 1525.51 1602.99 1523.82 Q1602.99 1521.07 1601.05 1519.33 Q1599.13 1517.6 1596.02 1517.6 Q1593.82 1517.6 1591.37 1518.36 Q1588.94 1519.13 1586.16 1520.68 L1586.16 1515.95 Q1588.99 1514.82 1591.44 1514.24 Q1593.89 1513.66 1595.93 1513.66 Q1601.3 1513.66 1604.5 1516.35 Q1607.69 1519.03 1607.69 1523.52 Q1607.69 1525.65 1606.88 1527.57 Q1606.09 1529.47 1603.99 1532.07 Q1603.41 1532.74 1600.31 1535.95 Q1597.2 1539.15 1591.56 1544.91 Z\" fill=\"#000000\" fill-rule=\"nonzero\" fill-opacity=\"1\" /><path clip-path=\"url(#clip840)\" d=\"M1627.69 1517.37 Q1624.08 1517.37 1622.25 1520.93 Q1620.45 1524.47 1620.45 1531.6 Q1620.45 1538.71 1622.25 1542.27 Q1624.08 1545.82 1627.69 1545.82 Q1631.32 1545.82 1633.13 1542.27 Q1634.96 1538.71 1634.96 1531.6 Q1634.96 1524.47 1633.13 1520.93 Q1631.32 1517.37 1627.69 1517.37 M1627.69 1513.66 Q1633.5 1513.66 1636.56 1518.27 Q1639.63 1522.85 1639.63 1531.6 Q1639.63 1540.33 1636.56 1544.94 Q1633.5 1549.52 1627.69 1549.52 Q1621.88 1549.52 1618.8 1544.94 Q1615.75 1540.33 1615.75 1531.6 Q1615.75 1522.85 1618.8 1518.27 Q1621.88 1513.66 1627.69 1513.66 Z\" fill=\"#000000\" fill-rule=\"nonzero\" fill-opacity=\"1\" /><path clip-path=\"url(#clip840)\" d=\"M2280.5 1530.21 Q2283.86 1530.93 2285.73 1533.2 Q2287.63 1535.47 2287.63 1538.8 Q2287.63 1543.92 2284.11 1546.72 Q2280.59 1549.52 2274.11 1549.52 Q2271.94 1549.52 2269.62 1549.08 Q2267.33 1548.66 2264.87 1547.81 L2264.87 1543.29 Q2266.82 1544.43 2269.13 1545.01 Q2271.45 1545.58 2273.97 1545.58 Q2278.37 1545.58 2280.66 1543.85 Q2282.98 1542.11 2282.98 1538.8 Q2282.98 1535.75 2280.82 1534.03 Q2278.69 1532.3 2274.87 1532.3 L2270.85 1532.3 L2270.85 1528.45 L2275.06 1528.45 Q2278.51 1528.45 2280.34 1527.09 Q2282.17 1525.7 2282.17 1523.11 Q2282.17 1520.45 2280.27 1519.03 Q2278.39 1517.6 2274.87 1517.6 Q2272.95 1517.6 2270.75 1518.01 Q2268.56 1518.43 2265.92 1519.31 L2265.92 1515.14 Q2268.58 1514.4 2270.89 1514.03 Q2273.23 1513.66 2275.29 1513.66 Q2280.62 1513.66 2283.72 1516.09 Q2286.82 1518.5 2286.82 1522.62 Q2286.82 1525.49 2285.18 1527.48 Q2283.53 1529.45 2280.5 1530.21 Z\" fill=\"#000000\" fill-rule=\"nonzero\" fill-opacity=\"1\" /><path clip-path=\"url(#clip840)\" d=\"M2306.5 1517.37 Q2302.88 1517.37 2301.06 1520.93 Q2299.25 1524.47 2299.25 1531.6 Q2299.25 1538.71 2301.06 1542.27 Q2302.88 1545.82 2306.5 1545.82 Q2310.13 1545.82 2311.93 1542.27 Q2313.76 1538.71 2313.76 1531.6 Q2313.76 1524.47 2311.93 1520.93 Q2310.13 1517.37 2306.5 1517.37 M2306.5 1513.66 Q2312.31 1513.66 2315.36 1518.27 Q2318.44 1522.85 2318.44 1531.6 Q2318.44 1540.33 2315.36 1544.94 Q2312.31 1549.52 2306.5 1549.52 Q2300.68 1549.52 2297.61 1544.94 Q2294.55 1540.33 2294.55 1531.6 Q2294.55 1522.85 2297.61 1518.27 Q2300.68 1513.66 2306.5 1513.66 Z\" fill=\"#000000\" fill-rule=\"nonzero\" fill-opacity=\"1\" /><polyline clip-path=\"url(#clip842)\" style=\"stroke:#000000; stroke-linecap:round; stroke-linejoin:round; stroke-width:2; stroke-opacity:0.1; fill:none\" points=\"193.936,1464.07 2352.76,1464.07 \"/>\n<polyline clip-path=\"url(#clip842)\" style=\"stroke:#000000; stroke-linecap:round; stroke-linejoin:round; stroke-width:2; stroke-opacity:0.1; fill:none\" points=\"193.936,1119.91 2352.76,1119.91 \"/>\n<polyline clip-path=\"url(#clip842)\" style=\"stroke:#000000; stroke-linecap:round; stroke-linejoin:round; stroke-width:2; stroke-opacity:0.1; fill:none\" points=\"193.936,775.758 2352.76,775.758 \"/>\n<polyline clip-path=\"url(#clip842)\" style=\"stroke:#000000; stroke-linecap:round; stroke-linejoin:round; stroke-width:2; stroke-opacity:0.1; fill:none\" points=\"193.936,431.601 2352.76,431.601 \"/>\n<polyline clip-path=\"url(#clip842)\" style=\"stroke:#000000; stroke-linecap:round; stroke-linejoin:round; stroke-width:2; stroke-opacity:0.1; fill:none\" points=\"193.936,87.4453 2352.76,87.4453 \"/>\n<polyline clip-path=\"url(#clip840)\" style=\"stroke:#000000; stroke-linecap:round; stroke-linejoin:round; stroke-width:4; stroke-opacity:1; fill:none\" points=\"193.936,1486.45 193.936,47.2441 \"/>\n<polyline clip-path=\"url(#clip840)\" style=\"stroke:#000000; stroke-linecap:round; stroke-linejoin:round; stroke-width:4; stroke-opacity:1; fill:none\" points=\"193.936,1464.07 212.834,1464.07 \"/>\n<polyline clip-path=\"url(#clip840)\" style=\"stroke:#000000; stroke-linecap:round; stroke-linejoin:round; stroke-width:4; stroke-opacity:1; fill:none\" points=\"193.936,1119.91 212.834,1119.91 \"/>\n<polyline clip-path=\"url(#clip840)\" style=\"stroke:#000000; stroke-linecap:round; stroke-linejoin:round; stroke-width:4; stroke-opacity:1; fill:none\" points=\"193.936,775.758 212.834,775.758 \"/>\n<polyline clip-path=\"url(#clip840)\" style=\"stroke:#000000; stroke-linecap:round; stroke-linejoin:round; stroke-width:4; stroke-opacity:1; fill:none\" points=\"193.936,431.601 212.834,431.601 \"/>\n<polyline clip-path=\"url(#clip840)\" style=\"stroke:#000000; stroke-linecap:round; stroke-linejoin:round; stroke-width:4; stroke-opacity:1; fill:none\" points=\"193.936,87.4453 212.834,87.4453 \"/>\n<path clip-path=\"url(#clip840)\" d=\"M50.9921 1464.52 L80.6679 1464.52 L80.6679 1468.46 L50.9921 1468.46 L50.9921 1464.52 Z\" fill=\"#000000\" fill-rule=\"nonzero\" fill-opacity=\"1\" /><path clip-path=\"url(#clip840)\" d=\"M91.5706 1477.41 L99.2095 1477.41 L99.2095 1451.05 L90.8993 1452.72 L90.8993 1448.46 L99.1632 1446.79 L103.839 1446.79 L103.839 1477.41 L111.478 1477.41 L111.478 1481.35 L91.5706 1481.35 L91.5706 1477.41 Z\" fill=\"#000000\" fill-rule=\"nonzero\" fill-opacity=\"1\" /><path clip-path=\"url(#clip840)\" d=\"M120.922 1475.47 L125.807 1475.47 L125.807 1481.35 L120.922 1481.35 L120.922 1475.47 Z\" fill=\"#000000\" fill-rule=\"nonzero\" fill-opacity=\"1\" /><path clip-path=\"url(#clip840)\" d=\"M145.992 1449.87 Q142.381 1449.87 140.552 1453.43 Q138.746 1456.98 138.746 1464.1 Q138.746 1471.21 140.552 1474.78 Q142.381 1478.32 145.992 1478.32 Q149.626 1478.32 151.431 1474.78 Q153.26 1471.21 153.26 1464.1 Q153.26 1456.98 151.431 1453.43 Q149.626 1449.87 145.992 1449.87 M145.992 1446.16 Q151.802 1446.16 154.857 1450.77 Q157.936 1455.35 157.936 1464.1 Q157.936 1472.83 154.857 1477.44 Q151.802 1482.02 145.992 1482.02 Q140.181 1482.02 137.103 1477.44 Q134.047 1472.83 134.047 1464.1 Q134.047 1455.35 137.103 1450.77 Q140.181 1446.16 145.992 1446.16 Z\" fill=\"#000000\" fill-rule=\"nonzero\" fill-opacity=\"1\" /><path clip-path=\"url(#clip840)\" d=\"M51.9875 1120.37 L81.6633 1120.37 L81.6633 1124.3 L51.9875 1124.3 L51.9875 1120.37 Z\" fill=\"#000000\" fill-rule=\"nonzero\" fill-opacity=\"1\" /><path clip-path=\"url(#clip840)\" d=\"M101.756 1105.71 Q98.1447 1105.71 96.316 1109.28 Q94.5104 1112.82 94.5104 1119.95 Q94.5104 1127.05 96.316 1130.62 Q98.1447 1134.16 101.756 1134.16 Q105.39 1134.16 107.196 1130.62 Q109.024 1127.05 109.024 1119.95 Q109.024 1112.82 107.196 1109.28 Q105.39 1105.71 101.756 1105.71 M101.756 1102.01 Q107.566 1102.01 110.621 1106.62 Q113.7 1111.2 113.7 1119.95 Q113.7 1128.68 110.621 1133.28 Q107.566 1137.87 101.756 1137.87 Q95.9456 1137.87 92.8669 1133.28 Q89.8114 1128.68 89.8114 1119.95 Q89.8114 1111.2 92.8669 1106.62 Q95.9456 1102.01 101.756 1102.01 Z\" fill=\"#000000\" fill-rule=\"nonzero\" fill-opacity=\"1\" /><path clip-path=\"url(#clip840)\" d=\"M121.918 1131.31 L126.802 1131.31 L126.802 1137.19 L121.918 1137.19 L121.918 1131.31 Z\" fill=\"#000000\" fill-rule=\"nonzero\" fill-opacity=\"1\" /><path clip-path=\"url(#clip840)\" d=\"M137.033 1102.63 L155.39 1102.63 L155.39 1106.57 L141.316 1106.57 L141.316 1115.04 Q142.334 1114.69 143.353 1114.53 Q144.371 1114.35 145.39 1114.35 Q151.177 1114.35 154.556 1117.52 Q157.936 1120.69 157.936 1126.11 Q157.936 1131.68 154.464 1134.79 Q150.992 1137.87 144.672 1137.87 Q142.496 1137.87 140.228 1137.49 Q137.982 1137.12 135.575 1136.38 L135.575 1131.68 Q137.658 1132.82 139.881 1133.37 Q142.103 1133.93 144.58 1133.93 Q148.584 1133.93 150.922 1131.82 Q153.26 1129.72 153.26 1126.11 Q153.26 1122.49 150.922 1120.39 Q148.584 1118.28 144.58 1118.28 Q142.705 1118.28 140.83 1118.7 Q138.978 1119.12 137.033 1119.99 L137.033 1102.63 Z\" fill=\"#000000\" fill-rule=\"nonzero\" fill-opacity=\"1\" /><path clip-path=\"url(#clip840)\" d=\"M100.76 761.556 Q97.1493 761.556 95.3206 765.121 Q93.515 768.663 93.515 775.792 Q93.515 782.899 95.3206 786.464 Q97.1493 790.005 100.76 790.005 Q104.395 790.005 106.2 786.464 Q108.029 782.899 108.029 775.792 Q108.029 768.663 106.2 765.121 Q104.395 761.556 100.76 761.556 M100.76 757.853 Q106.571 757.853 109.626 762.459 Q112.705 767.042 112.705 775.792 Q112.705 784.519 109.626 789.126 Q106.571 793.709 100.76 793.709 Q94.9502 793.709 91.8715 789.126 Q88.816 784.519 88.816 775.792 Q88.816 767.042 91.8715 762.459 Q94.9502 757.853 100.76 757.853 Z\" fill=\"#000000\" fill-rule=\"nonzero\" fill-opacity=\"1\" /><path clip-path=\"url(#clip840)\" d=\"M120.922 787.158 L125.807 787.158 L125.807 793.038 L120.922 793.038 L120.922 787.158 Z\" fill=\"#000000\" fill-rule=\"nonzero\" fill-opacity=\"1\" /><path clip-path=\"url(#clip840)\" d=\"M145.992 761.556 Q142.381 761.556 140.552 765.121 Q138.746 768.663 138.746 775.792 Q138.746 782.899 140.552 786.464 Q142.381 790.005 145.992 790.005 Q149.626 790.005 151.431 786.464 Q153.26 782.899 153.26 775.792 Q153.26 768.663 151.431 765.121 Q149.626 761.556 145.992 761.556 M145.992 757.853 Q151.802 757.853 154.857 762.459 Q157.936 767.042 157.936 775.792 Q157.936 784.519 154.857 789.126 Q151.802 793.709 145.992 793.709 Q140.181 793.709 137.103 789.126 Q134.047 784.519 134.047 775.792 Q134.047 767.042 137.103 762.459 Q140.181 757.853 145.992 757.853 Z\" fill=\"#000000\" fill-rule=\"nonzero\" fill-opacity=\"1\" /><path clip-path=\"url(#clip840)\" d=\"M101.756 417.4 Q98.1447 417.4 96.316 420.965 Q94.5104 424.507 94.5104 431.636 Q94.5104 438.743 96.316 442.307 Q98.1447 445.849 101.756 445.849 Q105.39 445.849 107.196 442.307 Q109.024 438.743 109.024 431.636 Q109.024 424.507 107.196 420.965 Q105.39 417.4 101.756 417.4 M101.756 413.696 Q107.566 413.696 110.621 418.303 Q113.7 422.886 113.7 431.636 Q113.7 440.363 110.621 444.969 Q107.566 449.553 101.756 449.553 Q95.9456 449.553 92.8669 444.969 Q89.8114 440.363 89.8114 431.636 Q89.8114 422.886 92.8669 418.303 Q95.9456 413.696 101.756 413.696 Z\" fill=\"#000000\" fill-rule=\"nonzero\" fill-opacity=\"1\" /><path clip-path=\"url(#clip840)\" d=\"M121.918 443.002 L126.802 443.002 L126.802 448.881 L121.918 448.881 L121.918 443.002 Z\" fill=\"#000000\" fill-rule=\"nonzero\" fill-opacity=\"1\" /><path clip-path=\"url(#clip840)\" d=\"M137.033 414.321 L155.39 414.321 L155.39 418.257 L141.316 418.257 L141.316 426.729 Q142.334 426.382 143.353 426.22 Q144.371 426.034 145.39 426.034 Q151.177 426.034 154.556 429.206 Q157.936 432.377 157.936 437.794 Q157.936 443.372 154.464 446.474 Q150.992 449.553 144.672 449.553 Q142.496 449.553 140.228 449.182 Q137.982 448.812 135.575 448.071 L135.575 443.372 Q137.658 444.506 139.881 445.062 Q142.103 445.618 144.58 445.618 Q148.584 445.618 150.922 443.511 Q153.26 441.405 153.26 437.794 Q153.26 434.182 150.922 432.076 Q148.584 429.97 144.58 429.97 Q142.705 429.97 140.83 430.386 Q138.978 430.803 137.033 431.682 L137.033 414.321 Z\" fill=\"#000000\" fill-rule=\"nonzero\" fill-opacity=\"1\" /><path clip-path=\"url(#clip840)\" d=\"M91.5706 100.79 L99.2095 100.79 L99.2095 74.4246 L90.8993 76.0912 L90.8993 71.832 L99.1632 70.1653 L103.839 70.1653 L103.839 100.79 L111.478 100.79 L111.478 104.725 L91.5706 104.725 L91.5706 100.79 Z\" fill=\"#000000\" fill-rule=\"nonzero\" fill-opacity=\"1\" /><path clip-path=\"url(#clip840)\" d=\"M120.922 98.8457 L125.807 98.8457 L125.807 104.725 L120.922 104.725 L120.922 98.8457 Z\" fill=\"#000000\" fill-rule=\"nonzero\" fill-opacity=\"1\" /><path clip-path=\"url(#clip840)\" d=\"M145.992 73.244 Q142.381 73.244 140.552 76.8088 Q138.746 80.3505 138.746 87.4801 Q138.746 94.5865 140.552 98.1513 Q142.381 101.693 145.992 101.693 Q149.626 101.693 151.431 98.1513 Q153.26 94.5865 153.26 87.4801 Q153.26 80.3505 151.431 76.8088 Q149.626 73.244 145.992 73.244 M145.992 69.5403 Q151.802 69.5403 154.857 74.1468 Q157.936 78.7301 157.936 87.4801 Q157.936 96.2069 154.857 100.813 Q151.802 105.397 145.992 105.397 Q140.181 105.397 137.103 100.813 Q134.047 96.2069 134.047 87.4801 Q134.047 78.7301 137.103 74.1468 Q140.181 69.5403 145.992 69.5403 Z\" fill=\"#000000\" fill-rule=\"nonzero\" fill-opacity=\"1\" /><polyline clip-path=\"url(#clip842)\" style=\"stroke:#009af9; stroke-linecap:round; stroke-linejoin:round; stroke-width:4; stroke-opacity:1; fill:none\" points=\"255.035,775.758 261.823,744.335 268.612,673.85 275.401,621.885 282.19,645.752 288.978,766.121 295.767,948.158 302.556,1111.66 309.345,1167.19 316.133,1061.74 322.922,811.346 329.711,503.161 336.5,263.29 343.288,202.895 350.077,366.417 356.866,706.088 363.655,1096.03 370.443,1381.71 377.232,1444.31 384.021,1252.14 390.81,876.147 397.598,462.163 404.387,171.235 411.176,113.568 417.964,304.355 424.753,660.056 431.542,1035.89 438.331,1287.45 445.119,1329.29 451.908,1165.7 458.697,881.761 465.486,601.084 472.274,430.495 479.063,417.064 485.852,535.48 492.641,709.022 499.429,851.651 506.218,909.726 513.007,883.363 519.796,818.518 526.584,775.758 533.373,793.168 540.162,863.296 546.951,936.441 553.739,948.813 560.528,860.946 567.317,685.902 574.106,491.231 580.894,371.457 587.683,402.79 594.472,601.606 601.261,907.819 608.049,1203.55 614.838,1361.05 621.627,1299.47 628.415,1024.87 635.204,633.87 641.993,277.604 648.782,100.052 655.57,177.118 662.359,483.131 669.148,899.88 675.937,1264.81 682.725,1437.84 689.514,1358.18 696.303,1066.99 703.092,686.962 709.88,368.771 716.669,228.25 723.458,301.657 730.247,537.182 737.035,824.255 743.824,1045.47 750.613,1126.72 757.402,1063.47 764.19,913.187 770.979,760.433 777.768,673.092 784.557,671.61 791.345,725.298 798.134,775.758 804.923,773.84 811.712,710.036 818.5,621.935 825.289,574.378 832.078,622.265 838.866,775.422 845.655,984.7 852.444,1158.52 859.233,1203.97 866.021,1073.66 872.81,795.468 879.599,469.037 886.388,227.844 893.176,182.227 899.965,368.398 906.754,727.19 913.543,1123.73 920.331,1401.12 927.12,1445.72 933.909,1235.72 940.698,851.668 947.486,443.789 954.275,170.113 961.064,131.869 967.853,333.783 974.641,685.658 981.43,1043.41 988.219,1270.65 995.008,1293.68 1001.8,1126.61 1008.59,857.563 1015.37,604.544 1022.16,462.381 1028.95,465.097 1035.74,579.328 1042.53,729.209 1049.32,838.385 1056.11,867.586 1062.89,829.624 1069.68,775.758 1076.47,762.019 1083.26,814.069 1090.05,909.631 1096.84,988.328 1103.63,984.494 1110.42,866.256 1117.2,660.177 1123.99,447.094 1130.78,328.735 1137.57,379.461 1144.36,605.952 1151.15,935.307 1157.94,1239.68 1164.73,1388.6 1171.51,1306.7 1178.3,1010.65 1185.09,607.58 1191.88,253.953 1198.67,91.4858 1205.46,187.592 1212.25,506.273 1219.04,922.397 1225.82,1273.43 1232.61,1426.32 1239.4,1330.87 1246.19,1037.09 1252.98,670.219 1259.77,375.591 1266.56,258.081 1273.35,342.489 1280.13,570.61 1286.92,833.904 1293.71,1024.88 1300.5,1082.94 1307.29,1014.47 1314.08,880.218 1320.87,758.497 1327.66,704.062 1334.44,723.069 1341.23,775.758 1348.02,803.983 1354.81,768.115 1361.6,673.225 1368.39,570.084 1375.18,529.539 1381.97,602.797 1388.75,788.142 1395.54,1022.35 1402.33,1203.55 1409.12,1236.73 1415.91,1081.21 1422.7,776.955 1429.49,435.308 1436.28,195.747 1443.06,166.403 1449.85,374.53 1456.64,749.834 1463.43,1149.61 1470.22,1416.12 1477.01,1442.08 1483.8,1215.89 1490.59,826.925 1497.37,428.403 1504.16,173.868 1510.95,154.736 1517.74,365.436 1524.53,710.206 1531.32,1047.15 1538.11,1249.14 1544.9,1254.58 1551.68,1086.79 1558.47,835.625 1565.26,612.086 1572.05,498.197 1578.84,515.066 1585.63,622.273 1592.42,746.183 1599.21,821.22 1605.99,822.786 1612.78,775.758 1619.57,735.446 1626.36,752.08 1633.15,838.226 1639.94,957.034 1646.73,1038.51 1653.52,1016.46 1660.3,867.623 1667.09,632.212 1673.88,403.587 1680.67,289.327 1687.46,360.649 1694.25,613.915 1701.04,963.771 1707.83,1273.58 1714.61,1411.67 1721.4,1309.18 1728.19,993.577 1734.98,581.672 1741.77,233.79 1748.56,87.9763 1755.35,202.432 1762.14,531.137 1768.92,943.239 1775.71,1277.76 1782.5,1409.85 1789.29,1300.16 1796.08,1006.82 1802.87,656.23 1809.66,386.948 1816.45,292.122 1823.23,385.301 1830.02,602.969 1836.81,840.051 1843.6,1000.08 1850.39,1036.24 1857.18,965.207 1863.97,849.652 1870.76,760.397 1877.54,738.391 1884.33,775.758 1891.12,824.725 1897.91,828.74 1904.7,758.669 1911.49,634.303 1918.28,518.83 1925.07,487.787 1931.85,587.458 1938.64,804.039 1945.43,1060.64 1952.22,1246.25 1959.01,1265.2 1965.8,1084.47 1972.59,756.179 1979.38,402.474 1986.16,167.39 1992.95,155.522 1999.74,384.576 2006.53,773.565 2013.32,1173.21 2020.11,1426.48 2026.9,1433.5 2033.69,1193.02 2040.47,802.401 2047.26,416.361 2054.05,182.556 2060.84,181.896 2067.63,398.841 2074.42,733.249 2081.21,1046.91 2087.99,1223.05 2094.78,1212.41 2101.57,1046.76 2108.36,816.312 2115.15,623.755 2121.94,537.643 2128.73,566.463 2135.52,663.832 2142.3,759.71 2149.09,800.283 2155.88,775.758 2162.67,722.301 2169.46,697.978 2176.25,746.013 2183.04,865.355 2189.83,1005 2196.61,1086.49 2203.4,1044.47 2210.19,865.147 2216.98,602.412 2223.77,361.227 2230.56,253.622 2237.35,346.434 2244.14,625.237 2250.92,992.737 2257.71,1304.81 2264.5,1430.03 2271.29,1307.02 2278.08,974.042 2284.87,556.629 2291.66,217.466 \"/>\n<path clip-path=\"url(#clip840)\" d=\"M2012.48 198.898 L2280.8 198.898 L2280.8 95.2176 L2012.48 95.2176  Z\" fill=\"#ffffff\" fill-rule=\"evenodd\" fill-opacity=\"1\"/>\n<polyline clip-path=\"url(#clip840)\" style=\"stroke:#000000; stroke-linecap:round; stroke-linejoin:round; stroke-width:4; stroke-opacity:1; fill:none\" points=\"2012.48,198.898 2280.8,198.898 2280.8,95.2176 2012.48,95.2176 2012.48,198.898 \"/>\n<polyline clip-path=\"url(#clip840)\" style=\"stroke:#009af9; stroke-linecap:round; stroke-linejoin:round; stroke-width:4; stroke-opacity:1; fill:none\" points=\"2036.47,147.058 2180.39,147.058 \"/>\n<path clip-path=\"url(#clip840)\" d=\"M2218.22 166.745 Q2216.42 171.375 2214.7 172.787 Q2212.99 174.199 2210.12 174.199 L2206.72 174.199 L2206.72 170.634 L2209.22 170.634 Q2210.98 170.634 2211.95 169.8 Q2212.92 168.967 2214.1 165.865 L2214.86 163.921 L2204.38 138.412 L2208.89 138.412 L2216.99 158.689 L2225.1 138.412 L2229.61 138.412 L2218.22 166.745 Z\" fill=\"#000000\" fill-rule=\"nonzero\" fill-opacity=\"1\" /><path clip-path=\"url(#clip840)\" d=\"M2236.9 160.402 L2244.54 160.402 L2244.54 134.037 L2236.23 135.703 L2236.23 131.444 L2244.49 129.778 L2249.17 129.778 L2249.17 160.402 L2256.81 160.402 L2256.81 164.338 L2236.9 164.338 L2236.9 160.402 Z\" fill=\"#000000\" fill-rule=\"nonzero\" fill-opacity=\"1\" /></svg>\n"
               },
               "type": "node"
              }
             ],
             "instanceArgs": {
              "namespace": "html",
              "tag": "div"
             },
             "nodeType": "DOM",
             "props": {
              "className": "interact-flex-row interact-widget"
             },
             "type": "node"
            }
           }
          },
          "systemjs_options": null
         },
         "nodeType": "Scope",
         "props": {},
         "type": "node"
        }
       ],
       "instanceArgs": {
        "namespace": "html",
        "tag": "div"
       },
       "nodeType": "DOM",
       "props": {},
       "type": "node"
      },
      "text/html": [
       "<div\n",
       "    class=\"webio-mountpoint\"\n",
       "    data-webio-mountpoint=\"1077850835101223315\"\n",
       ">\n",
       "    <script>\n",
       "    (function(){\n",
       "    // Some integrations (namely, IJulia/Jupyter) use an alternate render pathway than\n",
       "    // just putting the html on the page. If WebIO isn't defined, then it's pretty likely\n",
       "    // that we're in one of those situations and the integration just isn't installed\n",
       "    // correctly.\n",
       "    if (typeof window.WebIO === \"undefined\") {\n",
       "        document\n",
       "            .querySelector('[data-webio-mountpoint=\"1077850835101223315\"]')\n",
       "            .innerHTML = (\n",
       "                '<div style=\"padding: 1em; background-color: #f8d6da; border: 1px solid #f5c6cb; font-weight: bold;\">' +\n",
       "                '<p><strong>WebIO not detected.</strong></p>' +\n",
       "                '<p>Please read ' +\n",
       "                '<a href=\"https://juliagizmos.github.io/WebIO.jl/latest/troubleshooting/not-detected/\" target=\"_blank\">the troubleshooting guide</a> ' +\n",
       "                'for more information on how to resolve this issue.</p>' +\n",
       "                '<p><a href=\"https://juliagizmos.github.io/WebIO.jl/latest/troubleshooting/not-detected/\" target=\"_blank\">https://juliagizmos.github.io/WebIO.jl/latest/troubleshooting/not-detected/</a></p>' +\n",
       "                '</div>'\n",
       "            );\n",
       "        return;\n",
       "    }\n",
       "    WebIO.mount(\n",
       "        document.querySelector('[data-webio-mountpoint=\"1077850835101223315\"]'),\n",
       "        {\"props\":{},\"nodeType\":\"DOM\",\"type\":\"node\",\"instanceArgs\":{\"namespace\":\"html\",\"tag\":\"div\"},\"children\":[{\"props\":{\"className\":\"interact-widget\"},\"nodeType\":\"DOM\",\"type\":\"node\",\"instanceArgs\":{\"namespace\":\"html\",\"tag\":\"div\"},\"children\":[{\"props\":{},\"nodeType\":\"Scope\",\"type\":\"node\",\"instanceArgs\":{\"imports\":{\"data\":[{\"name\":\"knockout\",\"type\":\"js\",\"url\":\"\\/assetserver\\/d0f67ea5103338bec547a71428bdbf3df4f08059-knockout.js\"},{\"name\":\"knockout_punches\",\"type\":\"js\",\"url\":\"\\/assetserver\\/e26f753938579e2287344150f7e368ac4b529445-knockout_punches.js\"},{\"name\":null,\"type\":\"js\",\"url\":\"\\/assetserver\\/f71b84de1a55136a6c3fa3ef48eef72511463954-all.js\"},{\"name\":null,\"type\":\"css\",\"url\":\"\\/assetserver\\/dfba341bd7a3bedeba9caeda5288e80d20d1c596-style.css\"},{\"name\":null,\"type\":\"css\",\"url\":\"\\/assetserver\\/53e68c0bec04ce908a124e6cd1565929ff6ce3a7-bulma_confined.min.css\"}],\"type\":\"async_block\"},\"id\":\"10299940367166295217\",\"handlers\":{\"options_js\":[\"(function (val){return (val!=this.model[\\\"options_js\\\"]()) ? (this.valueFromJulia[\\\"options_js\\\"]=true, this.model[\\\"options_js\\\"](val)) : undefined})\"],\"index\":[\"(function (val){return (val!=this.model[\\\"index\\\"]()) ? (this.valueFromJulia[\\\"index\\\"]=true, this.model[\\\"index\\\"](val)) : undefined})\"]},\"systemjs_options\":null,\"mount_callbacks\":[\"function () {\\n    var handler = (function (ko, koPunches) {\\n    ko.punches.enableAll();\\n    ko.bindingHandlers.numericValue = {\\n        init: function(element, valueAccessor, allBindings, data, context) {\\n            var stringified = ko.observable(ko.unwrap(valueAccessor()));\\n            stringified.subscribe(function(value) {\\n                var val = parseFloat(value);\\n                if (!isNaN(val)) {\\n                    valueAccessor()(val);\\n                }\\n            });\\n            valueAccessor().subscribe(function(value) {\\n                var str = JSON.stringify(value);\\n                if ((str == \\\"0\\\") && ([\\\"-0\\\", \\\"-0.\\\"].indexOf(stringified()) >= 0))\\n                     return;\\n                 if ([\\\"null\\\", \\\"\\\"].indexOf(str) >= 0)\\n                     return;\\n                stringified(str);\\n            });\\n            ko.applyBindingsToNode(\\n                element,\\n                {\\n                    value: stringified,\\n                    valueUpdate: allBindings.get('valueUpdate'),\\n                },\\n                context,\\n            );\\n        }\\n    };\\n    var json_data = {\\\"options_js\\\":WebIO.getval({\\\"name\\\":\\\"options_js\\\",\\\"scope\\\":\\\"10299940367166295217\\\",\\\"id\\\":\\\"60\\\",\\\"type\\\":\\\"observable\\\"}),\\\"index\\\":WebIO.getval({\\\"name\\\":\\\"index\\\",\\\"scope\\\":\\\"10299940367166295217\\\",\\\"id\\\":\\\"59\\\",\\\"type\\\":\\\"observable\\\"})};\\n    var self = this;\\n    function AppViewModel() {\\n        for (var key in json_data) {\\n            var el = json_data[key];\\n            this[key] = Array.isArray(el) ? ko.observableArray(el) : ko.observable(el);\\n        }\\n        [this[\\\"update\\\"]=function (val) {this.index(val)}]\\n        \\n        [this[\\\"options_js\\\"].subscribe((function (val){!(this.valueFromJulia[\\\"options_js\\\"]) ? (WebIO.setval({\\\"name\\\":\\\"options_js\\\",\\\"scope\\\":\\\"10299940367166295217\\\",\\\"id\\\":\\\"60\\\",\\\"type\\\":\\\"observable\\\"},val)) : undefined; return this.valueFromJulia[\\\"options_js\\\"]=false}),self),this[\\\"index\\\"].subscribe((function (val){!(this.valueFromJulia[\\\"index\\\"]) ? (WebIO.setval({\\\"name\\\":\\\"index\\\",\\\"scope\\\":\\\"10299940367166295217\\\",\\\"id\\\":\\\"59\\\",\\\"type\\\":\\\"observable\\\"},val)) : undefined; return this.valueFromJulia[\\\"index\\\"]=false}),self)]\\n        \\n    }\\n    self.model = new AppViewModel();\\n    self.valueFromJulia = {};\\n    for (var key in json_data) {\\n        self.valueFromJulia[key] = false;\\n    }\\n    ko.applyBindings(self.model, self.dom);\\n}\\n);\\n    (WebIO.importBlock({\\\"data\\\":[{\\\"name\\\":\\\"knockout\\\",\\\"type\\\":\\\"js\\\",\\\"url\\\":\\\"\\/assetserver\\/d0f67ea5103338bec547a71428bdbf3df4f08059-knockout.js\\\"},{\\\"name\\\":\\\"knockout_punches\\\",\\\"type\\\":\\\"js\\\",\\\"url\\\":\\\"\\/assetserver\\/e26f753938579e2287344150f7e368ac4b529445-knockout_punches.js\\\"}],\\\"type\\\":\\\"async_block\\\"})).then((imports) => handler.apply(this, imports));\\n}\\n\"],\"observables\":{\"options_js\":{\"sync\":false,\"id\":\"60\",\"value\":[{\"key\":\"pi\\/4\",\"val\":1,\"id\":\"idLZidauSG\"},{\"key\":\"π\\/2\",\"val\":2,\"id\":\"idgX7euIwt\"},{\"key\":\"3π\\/4\",\"val\":3,\"id\":\"idZEaHnyBY\"},{\"key\":\"π\",\"val\":4,\"id\":\"idtcmW4GWv\"}]},\"index\":{\"sync\":true,\"id\":\"59\",\"value\":1}}},\"children\":[{\"props\":{\"className\":\"interact-flex-row interact-widget\"},\"nodeType\":\"DOM\",\"type\":\"node\",\"instanceArgs\":{\"namespace\":\"html\",\"tag\":\"div\"},\"children\":[{\"props\":{\"className\":\"interact-flex-row-left\"},\"nodeType\":\"DOM\",\"type\":\"node\",\"instanceArgs\":{\"namespace\":\"html\",\"tag\":\"div\"},\"children\":[{\"props\":{\"className\":\"interact \",\"style\":{\"padding\":\"5px 10px 0px 10px\"}},\"nodeType\":\"DOM\",\"type\":\"node\",\"instanceArgs\":{\"namespace\":\"html\",\"tag\":\"label\"},\"children\":[\"freq1\"]}]},{\"props\":{\"className\":\"interact-flex-row-center\"},\"nodeType\":\"DOM\",\"type\":\"node\",\"instanceArgs\":{\"namespace\":\"html\",\"tag\":\"div\"},\"children\":[{\"props\":{\"attributes\":{\"data-bind\":\"foreach : options_js\"},\"className\":\"buttons has-addons is-centered\"},\"nodeType\":\"DOM\",\"type\":\"node\",\"instanceArgs\":{\"namespace\":\"html\",\"tag\":\"div\"},\"children\":[{\"props\":{\"attributes\":{\"data-bind\":\"click: function (){$root.update(val)}, css: {'is-primary is-selected' : $root.index() == val, 'interact-widget is-medium button ' : true}\"}},\"nodeType\":\"DOM\",\"type\":\"node\",\"instanceArgs\":{\"namespace\":\"html\",\"tag\":\"span\"},\"children\":[{\"props\":{\"attributes\":{\"data-bind\":\"text : key\"}},\"nodeType\":\"DOM\",\"type\":\"node\",\"instanceArgs\":{\"namespace\":\"html\",\"tag\":\"label\"},\"children\":[]}]}]}]},{\"props\":{\"className\":\"interact-flex-row-right\"},\"nodeType\":\"DOM\",\"type\":\"node\",\"instanceArgs\":{\"namespace\":\"html\",\"tag\":\"div\"},\"children\":[{\"props\":{},\"nodeType\":\"DOM\",\"type\":\"node\",\"instanceArgs\":{\"namespace\":\"html\",\"tag\":\"div\"},\"children\":[]}]}]}]}]},{\"props\":{\"className\":\"field interact-widget\"},\"nodeType\":\"DOM\",\"type\":\"node\",\"instanceArgs\":{\"namespace\":\"html\",\"tag\":\"div\"},\"children\":[{\"props\":{},\"nodeType\":\"Scope\",\"type\":\"node\",\"instanceArgs\":{\"imports\":{\"data\":[{\"name\":\"knockout\",\"type\":\"js\",\"url\":\"\\/assetserver\\/d0f67ea5103338bec547a71428bdbf3df4f08059-knockout.js\"},{\"name\":\"knockout_punches\",\"type\":\"js\",\"url\":\"\\/assetserver\\/e26f753938579e2287344150f7e368ac4b529445-knockout_punches.js\"},{\"name\":null,\"type\":\"js\",\"url\":\"\\/assetserver\\/f71b84de1a55136a6c3fa3ef48eef72511463954-all.js\"},{\"name\":null,\"type\":\"css\",\"url\":\"\\/assetserver\\/dfba341bd7a3bedeba9caeda5288e80d20d1c596-style.css\"},{\"name\":null,\"type\":\"css\",\"url\":\"\\/assetserver\\/53e68c0bec04ce908a124e6cd1565929ff6ce3a7-bulma_confined.min.css\"}],\"type\":\"async_block\"},\"id\":\"12022136371473167433\",\"handlers\":{\"changes\":[\"(function (val){return (val!=this.model[\\\"changes\\\"]()) ? (this.valueFromJulia[\\\"changes\\\"]=true, this.model[\\\"changes\\\"](val)) : undefined})\"],\"index\":[\"(function (val){return (val!=this.model[\\\"index\\\"]()) ? (this.valueFromJulia[\\\"index\\\"]=true, this.model[\\\"index\\\"](val)) : undefined})\"]},\"systemjs_options\":null,\"mount_callbacks\":[\"function () {\\n    var handler = (function (ko, koPunches) {\\n    ko.punches.enableAll();\\n    ko.bindingHandlers.numericValue = {\\n        init: function(element, valueAccessor, allBindings, data, context) {\\n            var stringified = ko.observable(ko.unwrap(valueAccessor()));\\n            stringified.subscribe(function(value) {\\n                var val = parseFloat(value);\\n                if (!isNaN(val)) {\\n                    valueAccessor()(val);\\n                }\\n            });\\n            valueAccessor().subscribe(function(value) {\\n                var str = JSON.stringify(value);\\n                if ((str == \\\"0\\\") && ([\\\"-0\\\", \\\"-0.\\\"].indexOf(stringified()) >= 0))\\n                     return;\\n                 if ([\\\"null\\\", \\\"\\\"].indexOf(str) >= 0)\\n                     return;\\n                stringified(str);\\n            });\\n            ko.applyBindingsToNode(\\n                element,\\n                {\\n                    value: stringified,\\n                    valueUpdate: allBindings.get('valueUpdate'),\\n                },\\n                context,\\n            );\\n        }\\n    };\\n    var json_data = {\\\"formatted_vals\\\":[\\\"0.01\\\",\\\"0.11\\\",\\\"0.21\\\",\\\"0.31\\\",\\\"0.41\\\",\\\"0.51\\\",\\\"0.61\\\",\\\"0.71\\\",\\\"0.81\\\",\\\"0.91\\\",\\\"1.01\\\",\\\"1.11\\\",\\\"1.21\\\",\\\"1.31\\\",\\\"1.41\\\",\\\"1.51\\\",\\\"1.61\\\",\\\"1.71\\\",\\\"1.81\\\",\\\"1.91\\\",\\\"2.01\\\",\\\"2.11\\\",\\\"2.21\\\",\\\"2.31\\\",\\\"2.41\\\",\\\"2.51\\\",\\\"2.61\\\",\\\"2.71\\\",\\\"2.81\\\",\\\"2.91\\\",\\\"3.01\\\",\\\"3.11\\\",\\\"3.21\\\",\\\"3.31\\\",\\\"3.41\\\",\\\"3.51\\\",\\\"3.61\\\",\\\"3.71\\\",\\\"3.81\\\",\\\"3.91\\\",\\\"4.01\\\",\\\"4.11\\\",\\\"4.21\\\",\\\"4.31\\\",\\\"4.41\\\",\\\"4.51\\\",\\\"4.61\\\",\\\"4.71\\\",\\\"4.81\\\",\\\"4.91\\\",\\\"5.01\\\",\\\"5.11\\\",\\\"5.21\\\",\\\"5.31\\\",\\\"5.41\\\",\\\"5.51\\\",\\\"5.61\\\",\\\"5.71\\\",\\\"5.81\\\",\\\"5.91\\\",\\\"6.01\\\",\\\"6.11\\\",\\\"6.21\\\",\\\"6.31\\\",\\\"6.41\\\",\\\"6.51\\\",\\\"6.61\\\",\\\"6.71\\\",\\\"6.81\\\",\\\"6.91\\\",\\\"7.01\\\",\\\"7.11\\\",\\\"7.21\\\",\\\"7.31\\\",\\\"7.41\\\",\\\"7.51\\\",\\\"7.61\\\",\\\"7.71\\\",\\\"7.81\\\",\\\"7.91\\\",\\\"8.01\\\",\\\"8.11\\\",\\\"8.21\\\",\\\"8.31\\\",\\\"8.41\\\",\\\"8.51\\\",\\\"8.61\\\",\\\"8.71\\\",\\\"8.81\\\",\\\"8.91\\\",\\\"9.01\\\",\\\"9.11\\\",\\\"9.21\\\",\\\"9.31\\\",\\\"9.41\\\",\\\"9.51\\\",\\\"9.61\\\",\\\"9.71\\\",\\\"9.81\\\",\\\"9.91\\\",\\\"10.01\\\",\\\"10.11\\\",\\\"10.21\\\",\\\"10.31\\\",\\\"10.41\\\",\\\"10.51\\\",\\\"10.61\\\",\\\"10.71\\\",\\\"10.81\\\",\\\"10.91\\\",\\\"11.01\\\",\\\"11.11\\\",\\\"11.21\\\",\\\"11.31\\\",\\\"11.41\\\",\\\"11.51\\\",\\\"11.61\\\",\\\"11.71\\\",\\\"11.81\\\",\\\"11.91\\\",\\\"12.01\\\",\\\"12.11\\\",\\\"12.21\\\",\\\"12.31\\\",\\\"12.41\\\",\\\"12.51\\\"],\\\"changes\\\":WebIO.getval({\\\"name\\\":\\\"changes\\\",\\\"scope\\\":\\\"12022136371473167433\\\",\\\"id\\\":\\\"63\\\",\\\"type\\\":\\\"observable\\\"}),\\\"index\\\":WebIO.getval({\\\"name\\\":\\\"index\\\",\\\"scope\\\":\\\"12022136371473167433\\\",\\\"id\\\":\\\"62\\\",\\\"type\\\":\\\"observable\\\"})};\\n    var self = this;\\n    function AppViewModel() {\\n        for (var key in json_data) {\\n            var el = json_data[key];\\n            this[key] = Array.isArray(el) ? ko.observableArray(el) : ko.observable(el);\\n        }\\n        \\n        [this[\\\"formatted_val\\\"]=ko.computed(    function(){\\n        return this.formatted_vals()[parseInt(this.index())-(1)];\\n    }\\n,this)]\\n        [this[\\\"changes\\\"].subscribe((function (val){!(this.valueFromJulia[\\\"changes\\\"]) ? (WebIO.setval({\\\"name\\\":\\\"changes\\\",\\\"scope\\\":\\\"12022136371473167433\\\",\\\"id\\\":\\\"63\\\",\\\"type\\\":\\\"observable\\\"},val)) : undefined; return this.valueFromJulia[\\\"changes\\\"]=false}),self),this[\\\"index\\\"].subscribe((function (val){!(this.valueFromJulia[\\\"index\\\"]) ? (WebIO.setval({\\\"name\\\":\\\"index\\\",\\\"scope\\\":\\\"12022136371473167433\\\",\\\"id\\\":\\\"62\\\",\\\"type\\\":\\\"observable\\\"},val)) : undefined; return this.valueFromJulia[\\\"index\\\"]=false}),self)]\\n        \\n    }\\n    self.model = new AppViewModel();\\n    self.valueFromJulia = {};\\n    for (var key in json_data) {\\n        self.valueFromJulia[key] = false;\\n    }\\n    ko.applyBindings(self.model, self.dom);\\n}\\n);\\n    (WebIO.importBlock({\\\"data\\\":[{\\\"name\\\":\\\"knockout\\\",\\\"type\\\":\\\"js\\\",\\\"url\\\":\\\"\\/assetserver\\/d0f67ea5103338bec547a71428bdbf3df4f08059-knockout.js\\\"},{\\\"name\\\":\\\"knockout_punches\\\",\\\"type\\\":\\\"js\\\",\\\"url\\\":\\\"\\/assetserver\\/e26f753938579e2287344150f7e368ac4b529445-knockout_punches.js\\\"}],\\\"type\\\":\\\"async_block\\\"})).then((imports) => handler.apply(this, imports));\\n}\\n\"],\"observables\":{\"changes\":{\"sync\":false,\"id\":\"63\",\"value\":0},\"index\":{\"sync\":true,\"id\":\"62\",\"value\":63}}},\"children\":[{\"props\":{\"className\":\"interact-flex-row interact-widget\"},\"nodeType\":\"DOM\",\"type\":\"node\",\"instanceArgs\":{\"namespace\":\"html\",\"tag\":\"div\"},\"children\":[{\"props\":{\"className\":\"interact-flex-row-left\"},\"nodeType\":\"DOM\",\"type\":\"node\",\"instanceArgs\":{\"namespace\":\"html\",\"tag\":\"div\"},\"children\":[{\"props\":{\"className\":\"interact \",\"style\":{\"padding\":\"5px 10px 0px 10px\"}},\"nodeType\":\"DOM\",\"type\":\"node\",\"instanceArgs\":{\"namespace\":\"html\",\"tag\":\"label\"},\"children\":[\"freq2\"]}]},{\"props\":{\"className\":\"interact-flex-row-center\"},\"nodeType\":\"DOM\",\"type\":\"node\",\"instanceArgs\":{\"namespace\":\"html\",\"tag\":\"div\"},\"children\":[{\"props\":{\"max\":126,\"min\":1,\"attributes\":{\"type\":\"range\",\"data-bind\":\"numericValue: index, valueUpdate: 'input', event: {change: function (){this.changes(this.changes()+1)}}\",\"orient\":\"horizontal\"},\"step\":1,\"className\":\"slider slider is-fullwidth\",\"style\":{}},\"nodeType\":\"DOM\",\"type\":\"node\",\"instanceArgs\":{\"namespace\":\"html\",\"tag\":\"input\"},\"children\":[]}]},{\"props\":{\"className\":\"interact-flex-row-right\"},\"nodeType\":\"DOM\",\"type\":\"node\",\"instanceArgs\":{\"namespace\":\"html\",\"tag\":\"div\"},\"children\":[{\"props\":{\"attributes\":{\"data-bind\":\"text: formatted_val\"}},\"nodeType\":\"DOM\",\"type\":\"node\",\"instanceArgs\":{\"namespace\":\"html\",\"tag\":\"p\"},\"children\":[]}]}]}]}]},{\"props\":{},\"nodeType\":\"Scope\",\"type\":\"node\",\"instanceArgs\":{\"imports\":{\"data\":[],\"type\":\"async_block\"},\"id\":\"14386971384895652589\",\"handlers\":{},\"systemjs_options\":null,\"mount_callbacks\":[],\"observables\":{\"obs-node\":{\"sync\":false,\"id\":\"67\",\"value\":{\"props\":{\"className\":\"interact-flex-row interact-widget\"},\"nodeType\":\"DOM\",\"type\":\"node\",\"instanceArgs\":{\"namespace\":\"html\",\"tag\":\"div\"},\"children\":[{\"props\":{\"setInnerHtml\":\"<?xml version=\\\"1.0\\\" encoding=\\\"utf-8\\\"?>\\n<svg xmlns=\\\"http:\\/\\/www.w3.org\\/2000\\/svg\\\" xmlns:xlink=\\\"http:\\/\\/www.w3.org\\/1999\\/xlink\\\" width=\\\"600\\\" height=\\\"400\\\" viewBox=\\\"0 0 2400 1600\\\">\\n<defs>\\n  <clipPath id=\\\"clip800\\\">\\n    <rect x=\\\"0\\\" y=\\\"0\\\" width=\\\"2400\\\" height=\\\"1600\\\"\\/>\\n  <\\/clipPath>\\n<\\/defs>\\n<path clip-path=\\\"url(#clip800)\\\" d=\\\"M0 1600 L2400 1600 L2400 0 L0 0  Z\\\" fill=\\\"#ffffff\\\" fill-rule=\\\"evenodd\\\" fill-opacity=\\\"1\\\"\\/>\\n<defs>\\n  <clipPath id=\\\"clip801\\\">\\n    <rect x=\\\"480\\\" y=\\\"0\\\" width=\\\"1681\\\" height=\\\"1600\\\"\\/>\\n  <\\/clipPath>\\n<\\/defs>\\n<path clip-path=\\\"url(#clip800)\\\" d=\\\"M193.936 1486.45 L2352.76 1486.45 L2352.76 47.2441 L193.936 47.2441  Z\\\" fill=\\\"#ffffff\\\" fill-rule=\\\"evenodd\\\" fill-opacity=\\\"1\\\"\\/>\\n<defs>\\n  <clipPath id=\\\"clip802\\\">\\n    <rect x=\\\"193\\\" y=\\\"47\\\" width=\\\"2160\\\" height=\\\"1440\\\"\\/>\\n  <\\/clipPath>\\n<\\/defs>\\n<polyline clip-path=\\\"url(#clip802)\\\" style=\\\"stroke:#000000; stroke-linecap:round; stroke-linejoin:round; stroke-width:2; stroke-opacity:0.1; fill:none\\\" points=\\\"255.035,1486.45 255.035,47.2441 \\\"\\/>\\n<polyline clip-path=\\\"url(#clip802)\\\" style=\\\"stroke:#000000; stroke-linecap:round; stroke-linejoin:round; stroke-width:2; stroke-opacity:0.1; fill:none\\\" points=\\\"933.909,1486.45 933.909,47.2441 \\\"\\/>\\n<polyline clip-path=\\\"url(#clip802)\\\" style=\\\"stroke:#000000; stroke-linecap:round; stroke-linejoin:round; stroke-width:2; stroke-opacity:0.1; fill:none\\\" points=\\\"1612.78,1486.45 1612.78,47.2441 \\\"\\/>\\n<polyline clip-path=\\\"url(#clip802)\\\" style=\\\"stroke:#000000; stroke-linecap:round; stroke-linejoin:round; stroke-width:2; stroke-opacity:0.1; fill:none\\\" points=\\\"2291.66,1486.45 2291.66,47.2441 \\\"\\/>\\n<polyline clip-path=\\\"url(#clip800)\\\" style=\\\"stroke:#000000; stroke-linecap:round; stroke-linejoin:round; stroke-width:4; stroke-opacity:1; fill:none\\\" points=\\\"193.936,1486.45 2352.76,1486.45 \\\"\\/>\\n<polyline clip-path=\\\"url(#clip800)\\\" style=\\\"stroke:#000000; stroke-linecap:round; stroke-linejoin:round; stroke-width:4; stroke-opacity:1; fill:none\\\" points=\\\"255.035,1486.45 255.035,1467.55 \\\"\\/>\\n<polyline clip-path=\\\"url(#clip800)\\\" style=\\\"stroke:#000000; stroke-linecap:round; stroke-linejoin:round; stroke-width:4; stroke-opacity:1; fill:none\\\" points=\\\"933.909,1486.45 933.909,1467.55 \\\"\\/>\\n<polyline clip-path=\\\"url(#clip800)\\\" style=\\\"stroke:#000000; stroke-linecap:round; stroke-linejoin:round; stroke-width:4; stroke-opacity:1; fill:none\\\" points=\\\"1612.78,1486.45 1612.78,1467.55 \\\"\\/>\\n<polyline clip-path=\\\"url(#clip800)\\\" style=\\\"stroke:#000000; stroke-linecap:round; stroke-linejoin:round; stroke-width:4; stroke-opacity:1; fill:none\\\" points=\\\"2291.66,1486.45 2291.66,1467.55 \\\"\\/>\\n<path clip-path=\\\"url(#clip800)\\\" d=\\\"M255.035 1517.37 Q251.424 1517.37 249.595 1520.93 Q247.789 1524.47 247.789 1531.6 Q247.789 1538.71 249.595 1542.27 Q251.424 1545.82 255.035 1545.82 Q258.669 1545.82 260.474 1542.27 Q262.303 1538.71 262.303 1531.6 Q262.303 1524.47 260.474 1520.93 Q258.669 1517.37 255.035 1517.37 M255.035 1513.66 Q260.845 1513.66 263.9 1518.27 Q266.979 1522.85 266.979 1531.6 Q266.979 1540.33 263.9 1544.94 Q260.845 1549.52 255.035 1549.52 Q249.225 1549.52 246.146 1544.94 Q243.09 1540.33 243.09 1531.6 Q243.09 1522.85 246.146 1518.27 Q249.225 1513.66 255.035 1513.66 Z\\\" fill=\\\"#000000\\\" fill-rule=\\\"nonzero\\\" fill-opacity=\\\"1\\\" \\/><path clip-path=\\\"url(#clip800)\\\" d=\\\"M908.596 1544.91 L916.235 1544.91 L916.235 1518.55 L907.925 1520.21 L907.925 1515.95 L916.189 1514.29 L920.865 1514.29 L920.865 1544.91 L928.504 1544.91 L928.504 1548.85 L908.596 1548.85 L908.596 1544.91 Z\\\" fill=\\\"#000000\\\" fill-rule=\\\"nonzero\\\" fill-opacity=\\\"1\\\" \\/><path clip-path=\\\"url(#clip800)\\\" d=\\\"M947.948 1517.37 Q944.337 1517.37 942.508 1520.93 Q940.703 1524.47 940.703 1531.6 Q940.703 1538.71 942.508 1542.27 Q944.337 1545.82 947.948 1545.82 Q951.582 1545.82 953.388 1542.27 Q955.217 1538.71 955.217 1531.6 Q955.217 1524.47 953.388 1520.93 Q951.582 1517.37 947.948 1517.37 M947.948 1513.66 Q953.758 1513.66 956.814 1518.27 Q959.893 1522.85 959.893 1531.6 Q959.893 1540.33 956.814 1544.94 Q953.758 1549.52 947.948 1549.52 Q942.138 1549.52 939.059 1544.94 Q936.004 1540.33 936.004 1531.6 Q936.004 1522.85 939.059 1518.27 Q942.138 1513.66 947.948 1513.66 Z\\\" fill=\\\"#000000\\\" fill-rule=\\\"nonzero\\\" fill-opacity=\\\"1\\\" \\/><path clip-path=\\\"url(#clip800)\\\" d=\\\"M1591.56 1544.91 L1607.88 1544.91 L1607.88 1548.85 L1585.93 1548.85 L1585.93 1544.91 Q1588.59 1542.16 1593.18 1537.53 Q1597.78 1532.88 1598.96 1531.53 Q1601.21 1529.01 1602.09 1527.27 Q1602.99 1525.51 1602.99 1523.82 Q1602.99 1521.07 1601.05 1519.33 Q1599.13 1517.6 1596.02 1517.6 Q1593.82 1517.6 1591.37 1518.36 Q1588.94 1519.13 1586.16 1520.68 L1586.16 1515.95 Q1588.99 1514.82 1591.44 1514.24 Q1593.89 1513.66 1595.93 1513.66 Q1601.3 1513.66 1604.5 1516.35 Q1607.69 1519.03 1607.69 1523.52 Q1607.69 1525.65 1606.88 1527.57 Q1606.09 1529.47 1603.99 1532.07 Q1603.41 1532.74 1600.31 1535.95 Q1597.2 1539.15 1591.56 1544.91 Z\\\" fill=\\\"#000000\\\" fill-rule=\\\"nonzero\\\" fill-opacity=\\\"1\\\" \\/><path clip-path=\\\"url(#clip800)\\\" d=\\\"M1627.69 1517.37 Q1624.08 1517.37 1622.25 1520.93 Q1620.45 1524.47 1620.45 1531.6 Q1620.45 1538.71 1622.25 1542.27 Q1624.08 1545.82 1627.69 1545.82 Q1631.32 1545.82 1633.13 1542.27 Q1634.96 1538.71 1634.96 1531.6 Q1634.96 1524.47 1633.13 1520.93 Q1631.32 1517.37 1627.69 1517.37 M1627.69 1513.66 Q1633.5 1513.66 1636.56 1518.27 Q1639.63 1522.85 1639.63 1531.6 Q1639.63 1540.33 1636.56 1544.94 Q1633.5 1549.52 1627.69 1549.52 Q1621.88 1549.52 1618.8 1544.94 Q1615.75 1540.33 1615.75 1531.6 Q1615.75 1522.85 1618.8 1518.27 Q1621.88 1513.66 1627.69 1513.66 Z\\\" fill=\\\"#000000\\\" fill-rule=\\\"nonzero\\\" fill-opacity=\\\"1\\\" \\/><path clip-path=\\\"url(#clip800)\\\" d=\\\"M2280.5 1530.21 Q2283.86 1530.93 2285.73 1533.2 Q2287.63 1535.47 2287.63 1538.8 Q2287.63 1543.92 2284.11 1546.72 Q2280.59 1549.52 2274.11 1549.52 Q2271.94 1549.52 2269.62 1549.08 Q2267.33 1548.66 2264.87 1547.81 L2264.87 1543.29 Q2266.82 1544.43 2269.13 1545.01 Q2271.45 1545.58 2273.97 1545.58 Q2278.37 1545.58 2280.66 1543.85 Q2282.98 1542.11 2282.98 1538.8 Q2282.98 1535.75 2280.82 1534.03 Q2278.69 1532.3 2274.87 1532.3 L2270.85 1532.3 L2270.85 1528.45 L2275.06 1528.45 Q2278.51 1528.45 2280.34 1527.09 Q2282.17 1525.7 2282.17 1523.11 Q2282.17 1520.45 2280.27 1519.03 Q2278.39 1517.6 2274.87 1517.6 Q2272.95 1517.6 2270.75 1518.01 Q2268.56 1518.43 2265.92 1519.31 L2265.92 1515.14 Q2268.58 1514.4 2270.89 1514.03 Q2273.23 1513.66 2275.29 1513.66 Q2280.62 1513.66 2283.72 1516.09 Q2286.82 1518.5 2286.82 1522.62 Q2286.82 1525.49 2285.18 1527.48 Q2283.53 1529.45 2280.5 1530.21 Z\\\" fill=\\\"#000000\\\" fill-rule=\\\"nonzero\\\" fill-opacity=\\\"1\\\" \\/><path clip-path=\\\"url(#clip800)\\\" d=\\\"M2306.5 1517.37 Q2302.88 1517.37 2301.06 1520.93 Q2299.25 1524.47 2299.25 1531.6 Q2299.25 1538.71 2301.06 1542.27 Q2302.88 1545.82 2306.5 1545.82 Q2310.13 1545.82 2311.93 1542.27 Q2313.76 1538.71 2313.76 1531.6 Q2313.76 1524.47 2311.93 1520.93 Q2310.13 1517.37 2306.5 1517.37 M2306.5 1513.66 Q2312.31 1513.66 2315.36 1518.27 Q2318.44 1522.85 2318.44 1531.6 Q2318.44 1540.33 2315.36 1544.94 Q2312.31 1549.52 2306.5 1549.52 Q2300.68 1549.52 2297.61 1544.94 Q2294.55 1540.33 2294.55 1531.6 Q2294.55 1522.85 2297.61 1518.27 Q2300.68 1513.66 2306.5 1513.66 Z\\\" fill=\\\"#000000\\\" fill-rule=\\\"nonzero\\\" fill-opacity=\\\"1\\\" \\/><polyline clip-path=\\\"url(#clip802)\\\" style=\\\"stroke:#000000; stroke-linecap:round; stroke-linejoin:round; stroke-width:2; stroke-opacity:0.1; fill:none\\\" points=\\\"193.936,1464.07 2352.76,1464.07 \\\"\\/>\\n<polyline clip-path=\\\"url(#clip802)\\\" style=\\\"stroke:#000000; stroke-linecap:round; stroke-linejoin:round; stroke-width:2; stroke-opacity:0.1; fill:none\\\" points=\\\"193.936,1119.91 2352.76,1119.91 \\\"\\/>\\n<polyline clip-path=\\\"url(#clip802)\\\" style=\\\"stroke:#000000; stroke-linecap:round; stroke-linejoin:round; stroke-width:2; stroke-opacity:0.1; fill:none\\\" points=\\\"193.936,775.758 2352.76,775.758 \\\"\\/>\\n<polyline clip-path=\\\"url(#clip802)\\\" style=\\\"stroke:#000000; stroke-linecap:round; stroke-linejoin:round; stroke-width:2; stroke-opacity:0.1; fill:none\\\" points=\\\"193.936,431.601 2352.76,431.601 \\\"\\/>\\n<polyline clip-path=\\\"url(#clip802)\\\" style=\\\"stroke:#000000; stroke-linecap:round; stroke-linejoin:round; stroke-width:2; stroke-opacity:0.1; fill:none\\\" points=\\\"193.936,87.4453 2352.76,87.4453 \\\"\\/>\\n<polyline clip-path=\\\"url(#clip800)\\\" style=\\\"stroke:#000000; stroke-linecap:round; stroke-linejoin:round; stroke-width:4; stroke-opacity:1; fill:none\\\" points=\\\"193.936,1486.45 193.936,47.2441 \\\"\\/>\\n<polyline clip-path=\\\"url(#clip800)\\\" style=\\\"stroke:#000000; stroke-linecap:round; stroke-linejoin:round; stroke-width:4; stroke-opacity:1; fill:none\\\" points=\\\"193.936,1464.07 212.834,1464.07 \\\"\\/>\\n<polyline clip-path=\\\"url(#clip800)\\\" style=\\\"stroke:#000000; stroke-linecap:round; stroke-linejoin:round; stroke-width:4; stroke-opacity:1; fill:none\\\" points=\\\"193.936,1119.91 212.834,1119.91 \\\"\\/>\\n<polyline clip-path=\\\"url(#clip800)\\\" style=\\\"stroke:#000000; stroke-linecap:round; stroke-linejoin:round; stroke-width:4; stroke-opacity:1; fill:none\\\" points=\\\"193.936,775.758 212.834,775.758 \\\"\\/>\\n<polyline clip-path=\\\"url(#clip800)\\\" style=\\\"stroke:#000000; stroke-linecap:round; stroke-linejoin:round; stroke-width:4; stroke-opacity:1; fill:none\\\" points=\\\"193.936,431.601 212.834,431.601 \\\"\\/>\\n<polyline clip-path=\\\"url(#clip800)\\\" style=\\\"stroke:#000000; stroke-linecap:round; stroke-linejoin:round; stroke-width:4; stroke-opacity:1; fill:none\\\" points=\\\"193.936,87.4453 212.834,87.4453 \\\"\\/>\\n<path clip-path=\\\"url(#clip800)\\\" d=\\\"M50.9921 1464.52 L80.6679 1464.52 L80.6679 1468.46 L50.9921 1468.46 L50.9921 1464.52 Z\\\" fill=\\\"#000000\\\" fill-rule=\\\"nonzero\\\" fill-opacity=\\\"1\\\" \\/><path clip-path=\\\"url(#clip800)\\\" d=\\\"M91.5706 1477.41 L99.2095 1477.41 L99.2095 1451.05 L90.8993 1452.72 L90.8993 1448.46 L99.1632 1446.79 L103.839 1446.79 L103.839 1477.41 L111.478 1477.41 L111.478 1481.35 L91.5706 1481.35 L91.5706 1477.41 Z\\\" fill=\\\"#000000\\\" fill-rule=\\\"nonzero\\\" fill-opacity=\\\"1\\\" \\/><path clip-path=\\\"url(#clip800)\\\" d=\\\"M120.922 1475.47 L125.807 1475.47 L125.807 1481.35 L120.922 1481.35 L120.922 1475.47 Z\\\" fill=\\\"#000000\\\" fill-rule=\\\"nonzero\\\" fill-opacity=\\\"1\\\" \\/><path clip-path=\\\"url(#clip800)\\\" d=\\\"M145.992 1449.87 Q142.381 1449.87 140.552 1453.43 Q138.746 1456.98 138.746 1464.1 Q138.746 1471.21 140.552 1474.78 Q142.381 1478.32 145.992 1478.32 Q149.626 1478.32 151.431 1474.78 Q153.26 1471.21 153.26 1464.1 Q153.26 1456.98 151.431 1453.43 Q149.626 1449.87 145.992 1449.87 M145.992 1446.16 Q151.802 1446.16 154.857 1450.77 Q157.936 1455.35 157.936 1464.1 Q157.936 1472.83 154.857 1477.44 Q151.802 1482.02 145.992 1482.02 Q140.181 1482.02 137.103 1477.44 Q134.047 1472.83 134.047 1464.1 Q134.047 1455.35 137.103 1450.77 Q140.181 1446.16 145.992 1446.16 Z\\\" fill=\\\"#000000\\\" fill-rule=\\\"nonzero\\\" fill-opacity=\\\"1\\\" \\/><path clip-path=\\\"url(#clip800)\\\" d=\\\"M51.9875 1120.37 L81.6633 1120.37 L81.6633 1124.3 L51.9875 1124.3 L51.9875 1120.37 Z\\\" fill=\\\"#000000\\\" fill-rule=\\\"nonzero\\\" fill-opacity=\\\"1\\\" \\/><path clip-path=\\\"url(#clip800)\\\" d=\\\"M101.756 1105.71 Q98.1447 1105.71 96.316 1109.28 Q94.5104 1112.82 94.5104 1119.95 Q94.5104 1127.05 96.316 1130.62 Q98.1447 1134.16 101.756 1134.16 Q105.39 1134.16 107.196 1130.62 Q109.024 1127.05 109.024 1119.95 Q109.024 1112.82 107.196 1109.28 Q105.39 1105.71 101.756 1105.71 M101.756 1102.01 Q107.566 1102.01 110.621 1106.62 Q113.7 1111.2 113.7 1119.95 Q113.7 1128.68 110.621 1133.28 Q107.566 1137.87 101.756 1137.87 Q95.9456 1137.87 92.8669 1133.28 Q89.8114 1128.68 89.8114 1119.95 Q89.8114 1111.2 92.8669 1106.62 Q95.9456 1102.01 101.756 1102.01 Z\\\" fill=\\\"#000000\\\" fill-rule=\\\"nonzero\\\" fill-opacity=\\\"1\\\" \\/><path clip-path=\\\"url(#clip800)\\\" d=\\\"M121.918 1131.31 L126.802 1131.31 L126.802 1137.19 L121.918 1137.19 L121.918 1131.31 Z\\\" fill=\\\"#000000\\\" fill-rule=\\\"nonzero\\\" fill-opacity=\\\"1\\\" \\/><path clip-path=\\\"url(#clip800)\\\" d=\\\"M137.033 1102.63 L155.39 1102.63 L155.39 1106.57 L141.316 1106.57 L141.316 1115.04 Q142.334 1114.69 143.353 1114.53 Q144.371 1114.35 145.39 1114.35 Q151.177 1114.35 154.556 1117.52 Q157.936 1120.69 157.936 1126.11 Q157.936 1131.68 154.464 1134.79 Q150.992 1137.87 144.672 1137.87 Q142.496 1137.87 140.228 1137.49 Q137.982 1137.12 135.575 1136.38 L135.575 1131.68 Q137.658 1132.82 139.881 1133.37 Q142.103 1133.93 144.58 1133.93 Q148.584 1133.93 150.922 1131.82 Q153.26 1129.72 153.26 1126.11 Q153.26 1122.49 150.922 1120.39 Q148.584 1118.28 144.58 1118.28 Q142.705 1118.28 140.83 1118.7 Q138.978 1119.12 137.033 1119.99 L137.033 1102.63 Z\\\" fill=\\\"#000000\\\" fill-rule=\\\"nonzero\\\" fill-opacity=\\\"1\\\" \\/><path clip-path=\\\"url(#clip800)\\\" d=\\\"M100.76 761.556 Q97.1493 761.556 95.3206 765.121 Q93.515 768.663 93.515 775.792 Q93.515 782.899 95.3206 786.464 Q97.1493 790.005 100.76 790.005 Q104.395 790.005 106.2 786.464 Q108.029 782.899 108.029 775.792 Q108.029 768.663 106.2 765.121 Q104.395 761.556 100.76 761.556 M100.76 757.853 Q106.571 757.853 109.626 762.459 Q112.705 767.042 112.705 775.792 Q112.705 784.519 109.626 789.126 Q106.571 793.709 100.76 793.709 Q94.9502 793.709 91.8715 789.126 Q88.816 784.519 88.816 775.792 Q88.816 767.042 91.8715 762.459 Q94.9502 757.853 100.76 757.853 Z\\\" fill=\\\"#000000\\\" fill-rule=\\\"nonzero\\\" fill-opacity=\\\"1\\\" \\/><path clip-path=\\\"url(#clip800)\\\" d=\\\"M120.922 787.158 L125.807 787.158 L125.807 793.038 L120.922 793.038 L120.922 787.158 Z\\\" fill=\\\"#000000\\\" fill-rule=\\\"nonzero\\\" fill-opacity=\\\"1\\\" \\/><path clip-path=\\\"url(#clip800)\\\" d=\\\"M145.992 761.556 Q142.381 761.556 140.552 765.121 Q138.746 768.663 138.746 775.792 Q138.746 782.899 140.552 786.464 Q142.381 790.005 145.992 790.005 Q149.626 790.005 151.431 786.464 Q153.26 782.899 153.26 775.792 Q153.26 768.663 151.431 765.121 Q149.626 761.556 145.992 761.556 M145.992 757.853 Q151.802 757.853 154.857 762.459 Q157.936 767.042 157.936 775.792 Q157.936 784.519 154.857 789.126 Q151.802 793.709 145.992 793.709 Q140.181 793.709 137.103 789.126 Q134.047 784.519 134.047 775.792 Q134.047 767.042 137.103 762.459 Q140.181 757.853 145.992 757.853 Z\\\" fill=\\\"#000000\\\" fill-rule=\\\"nonzero\\\" fill-opacity=\\\"1\\\" \\/><path clip-path=\\\"url(#clip800)\\\" d=\\\"M101.756 417.4 Q98.1447 417.4 96.316 420.965 Q94.5104 424.507 94.5104 431.636 Q94.5104 438.743 96.316 442.307 Q98.1447 445.849 101.756 445.849 Q105.39 445.849 107.196 442.307 Q109.024 438.743 109.024 431.636 Q109.024 424.507 107.196 420.965 Q105.39 417.4 101.756 417.4 M101.756 413.696 Q107.566 413.696 110.621 418.303 Q113.7 422.886 113.7 431.636 Q113.7 440.363 110.621 444.969 Q107.566 449.553 101.756 449.553 Q95.9456 449.553 92.8669 444.969 Q89.8114 440.363 89.8114 431.636 Q89.8114 422.886 92.8669 418.303 Q95.9456 413.696 101.756 413.696 Z\\\" fill=\\\"#000000\\\" fill-rule=\\\"nonzero\\\" fill-opacity=\\\"1\\\" \\/><path clip-path=\\\"url(#clip800)\\\" d=\\\"M121.918 443.002 L126.802 443.002 L126.802 448.881 L121.918 448.881 L121.918 443.002 Z\\\" fill=\\\"#000000\\\" fill-rule=\\\"nonzero\\\" fill-opacity=\\\"1\\\" \\/><path clip-path=\\\"url(#clip800)\\\" d=\\\"M137.033 414.321 L155.39 414.321 L155.39 418.257 L141.316 418.257 L141.316 426.729 Q142.334 426.382 143.353 426.22 Q144.371 426.034 145.39 426.034 Q151.177 426.034 154.556 429.206 Q157.936 432.377 157.936 437.794 Q157.936 443.372 154.464 446.474 Q150.992 449.553 144.672 449.553 Q142.496 449.553 140.228 449.182 Q137.982 448.812 135.575 448.071 L135.575 443.372 Q137.658 444.506 139.881 445.062 Q142.103 445.618 144.58 445.618 Q148.584 445.618 150.922 443.511 Q153.26 441.405 153.26 437.794 Q153.26 434.182 150.922 432.076 Q148.584 429.97 144.58 429.97 Q142.705 429.97 140.83 430.386 Q138.978 430.803 137.033 431.682 L137.033 414.321 Z\\\" fill=\\\"#000000\\\" fill-rule=\\\"nonzero\\\" fill-opacity=\\\"1\\\" \\/><path clip-path=\\\"url(#clip800)\\\" d=\\\"M91.5706 100.79 L99.2095 100.79 L99.2095 74.4246 L90.8993 76.0912 L90.8993 71.832 L99.1632 70.1653 L103.839 70.1653 L103.839 100.79 L111.478 100.79 L111.478 104.725 L91.5706 104.725 L91.5706 100.79 Z\\\" fill=\\\"#000000\\\" fill-rule=\\\"nonzero\\\" fill-opacity=\\\"1\\\" \\/><path clip-path=\\\"url(#clip800)\\\" d=\\\"M120.922 98.8457 L125.807 98.8457 L125.807 104.725 L120.922 104.725 L120.922 98.8457 Z\\\" fill=\\\"#000000\\\" fill-rule=\\\"nonzero\\\" fill-opacity=\\\"1\\\" \\/><path clip-path=\\\"url(#clip800)\\\" d=\\\"M145.992 73.244 Q142.381 73.244 140.552 76.8088 Q138.746 80.3505 138.746 87.4801 Q138.746 94.5865 140.552 98.1513 Q142.381 101.693 145.992 101.693 Q149.626 101.693 151.431 98.1513 Q153.26 94.5865 153.26 87.4801 Q153.26 80.3505 151.431 76.8088 Q149.626 73.244 145.992 73.244 M145.992 69.5403 Q151.802 69.5403 154.857 74.1468 Q157.936 78.7301 157.936 87.4801 Q157.936 96.2069 154.857 100.813 Q151.802 105.397 145.992 105.397 Q140.181 105.397 137.103 100.813 Q134.047 96.2069 134.047 87.4801 Q134.047 78.7301 137.103 74.1468 Q140.181 69.5403 145.992 69.5403 Z\\\" fill=\\\"#000000\\\" fill-rule=\\\"nonzero\\\" fill-opacity=\\\"1\\\" \\/><polyline clip-path=\\\"url(#clip802)\\\" style=\\\"stroke:#009af9; stroke-linecap:round; stroke-linejoin:round; stroke-width:4; stroke-opacity:1; fill:none\\\" points=\\\"255.035,775.758 261.823,744.335 268.612,673.85 275.401,621.885 282.19,645.752 288.978,766.121 295.767,948.158 302.556,1111.66 309.345,1167.19 316.133,1061.74 322.922,811.346 329.711,503.161 336.5,263.29 343.288,202.895 350.077,366.417 356.866,706.088 363.655,1096.03 370.443,1381.71 377.232,1444.31 384.021,1252.14 390.81,876.147 397.598,462.163 404.387,171.235 411.176,113.568 417.964,304.355 424.753,660.056 431.542,1035.89 438.331,1287.45 445.119,1329.29 451.908,1165.7 458.697,881.761 465.486,601.084 472.274,430.495 479.063,417.064 485.852,535.48 492.641,709.022 499.429,851.651 506.218,909.726 513.007,883.363 519.796,818.518 526.584,775.758 533.373,793.168 540.162,863.296 546.951,936.441 553.739,948.813 560.528,860.946 567.317,685.902 574.106,491.231 580.894,371.457 587.683,402.79 594.472,601.606 601.261,907.819 608.049,1203.55 614.838,1361.05 621.627,1299.47 628.415,1024.87 635.204,633.87 641.993,277.604 648.782,100.052 655.57,177.118 662.359,483.131 669.148,899.88 675.937,1264.81 682.725,1437.84 689.514,1358.18 696.303,1066.99 703.092,686.962 709.88,368.771 716.669,228.25 723.458,301.657 730.247,537.182 737.035,824.255 743.824,1045.47 750.613,1126.72 757.402,1063.47 764.19,913.187 770.979,760.433 777.768,673.092 784.557,671.61 791.345,725.298 798.134,775.758 804.923,773.84 811.712,710.036 818.5,621.935 825.289,574.378 832.078,622.265 838.866,775.422 845.655,984.7 852.444,1158.52 859.233,1203.97 866.021,1073.66 872.81,795.468 879.599,469.037 886.388,227.844 893.176,182.227 899.965,368.398 906.754,727.19 913.543,1123.73 920.331,1401.12 927.12,1445.72 933.909,1235.72 940.698,851.668 947.486,443.789 954.275,170.113 961.064,131.869 967.853,333.783 974.641,685.658 981.43,1043.41 988.219,1270.65 995.008,1293.68 1001.8,1126.61 1008.59,857.563 1015.37,604.544 1022.16,462.381 1028.95,465.097 1035.74,579.328 1042.53,729.209 1049.32,838.385 1056.11,867.586 1062.89,829.624 1069.68,775.758 1076.47,762.019 1083.26,814.069 1090.05,909.631 1096.84,988.328 1103.63,984.494 1110.42,866.256 1117.2,660.177 1123.99,447.094 1130.78,328.735 1137.57,379.461 1144.36,605.952 1151.15,935.307 1157.94,1239.68 1164.73,1388.6 1171.51,1306.7 1178.3,1010.65 1185.09,607.58 1191.88,253.953 1198.67,91.4858 1205.46,187.592 1212.25,506.273 1219.04,922.397 1225.82,1273.43 1232.61,1426.32 1239.4,1330.87 1246.19,1037.09 1252.98,670.219 1259.77,375.591 1266.56,258.081 1273.35,342.489 1280.13,570.61 1286.92,833.904 1293.71,1024.88 1300.5,1082.94 1307.29,1014.47 1314.08,880.218 1320.87,758.497 1327.66,704.062 1334.44,723.069 1341.23,775.758 1348.02,803.983 1354.81,768.115 1361.6,673.225 1368.39,570.084 1375.18,529.539 1381.97,602.797 1388.75,788.142 1395.54,1022.35 1402.33,1203.55 1409.12,1236.73 1415.91,1081.21 1422.7,776.955 1429.49,435.308 1436.28,195.747 1443.06,166.403 1449.85,374.53 1456.64,749.834 1463.43,1149.61 1470.22,1416.12 1477.01,1442.08 1483.8,1215.89 1490.59,826.925 1497.37,428.403 1504.16,173.868 1510.95,154.736 1517.74,365.436 1524.53,710.206 1531.32,1047.15 1538.11,1249.14 1544.9,1254.58 1551.68,1086.79 1558.47,835.625 1565.26,612.086 1572.05,498.197 1578.84,515.066 1585.63,622.273 1592.42,746.183 1599.21,821.22 1605.99,822.786 1612.78,775.758 1619.57,735.446 1626.36,752.08 1633.15,838.226 1639.94,957.034 1646.73,1038.51 1653.52,1016.46 1660.3,867.623 1667.09,632.212 1673.88,403.587 1680.67,289.327 1687.46,360.649 1694.25,613.915 1701.04,963.771 1707.83,1273.58 1714.61,1411.67 1721.4,1309.18 1728.19,993.577 1734.98,581.672 1741.77,233.79 1748.56,87.9763 1755.35,202.432 1762.14,531.137 1768.92,943.239 1775.71,1277.76 1782.5,1409.85 1789.29,1300.16 1796.08,1006.82 1802.87,656.23 1809.66,386.948 1816.45,292.122 1823.23,385.301 1830.02,602.969 1836.81,840.051 1843.6,1000.08 1850.39,1036.24 1857.18,965.207 1863.97,849.652 1870.76,760.397 1877.54,738.391 1884.33,775.758 1891.12,824.725 1897.91,828.74 1904.7,758.669 1911.49,634.303 1918.28,518.83 1925.07,487.787 1931.85,587.458 1938.64,804.039 1945.43,1060.64 1952.22,1246.25 1959.01,1265.2 1965.8,1084.47 1972.59,756.179 1979.38,402.474 1986.16,167.39 1992.95,155.522 1999.74,384.576 2006.53,773.565 2013.32,1173.21 2020.11,1426.48 2026.9,1433.5 2033.69,1193.02 2040.47,802.401 2047.26,416.361 2054.05,182.556 2060.84,181.896 2067.63,398.841 2074.42,733.249 2081.21,1046.91 2087.99,1223.05 2094.78,1212.41 2101.57,1046.76 2108.36,816.312 2115.15,623.755 2121.94,537.643 2128.73,566.463 2135.52,663.832 2142.3,759.71 2149.09,800.283 2155.88,775.758 2162.67,722.301 2169.46,697.978 2176.25,746.013 2183.04,865.355 2189.83,1005 2196.61,1086.49 2203.4,1044.47 2210.19,865.147 2216.98,602.412 2223.77,361.227 2230.56,253.622 2237.35,346.434 2244.14,625.237 2250.92,992.737 2257.71,1304.81 2264.5,1430.03 2271.29,1307.02 2278.08,974.042 2284.87,556.629 2291.66,217.466 \\\"\\/>\\n<path clip-path=\\\"url(#clip800)\\\" d=\\\"M2012.48 198.898 L2280.8 198.898 L2280.8 95.2176 L2012.48 95.2176  Z\\\" fill=\\\"#ffffff\\\" fill-rule=\\\"evenodd\\\" fill-opacity=\\\"1\\\"\\/>\\n<polyline clip-path=\\\"url(#clip800)\\\" style=\\\"stroke:#000000; stroke-linecap:round; stroke-linejoin:round; stroke-width:4; stroke-opacity:1; fill:none\\\" points=\\\"2012.48,198.898 2280.8,198.898 2280.8,95.2176 2012.48,95.2176 2012.48,198.898 \\\"\\/>\\n<polyline clip-path=\\\"url(#clip800)\\\" style=\\\"stroke:#009af9; stroke-linecap:round; stroke-linejoin:round; stroke-width:4; stroke-opacity:1; fill:none\\\" points=\\\"2036.47,147.058 2180.39,147.058 \\\"\\/>\\n<path clip-path=\\\"url(#clip800)\\\" d=\\\"M2218.22 166.745 Q2216.42 171.375 2214.7 172.787 Q2212.99 174.199 2210.12 174.199 L2206.72 174.199 L2206.72 170.634 L2209.22 170.634 Q2210.98 170.634 2211.95 169.8 Q2212.92 168.967 2214.1 165.865 L2214.86 163.921 L2204.38 138.412 L2208.89 138.412 L2216.99 158.689 L2225.1 138.412 L2229.61 138.412 L2218.22 166.745 Z\\\" fill=\\\"#000000\\\" fill-rule=\\\"nonzero\\\" fill-opacity=\\\"1\\\" \\/><path clip-path=\\\"url(#clip800)\\\" d=\\\"M2236.9 160.402 L2244.54 160.402 L2244.54 134.037 L2236.23 135.703 L2236.23 131.444 L2244.49 129.778 L2249.17 129.778 L2249.17 160.402 L2256.81 160.402 L2256.81 164.338 L2236.9 164.338 L2236.9 160.402 Z\\\" fill=\\\"#000000\\\" fill-rule=\\\"nonzero\\\" fill-opacity=\\\"1\\\" \\/><\\/svg>\\n\"},\"nodeType\":\"DOM\",\"type\":\"node\",\"instanceArgs\":{\"namespace\":\"html\",\"tag\":\"div\"},\"children\":[]}]}}}},\"children\":[{\"props\":{},\"nodeType\":\"ObservableNode\",\"type\":\"node\",\"instanceArgs\":{\"id\":\"67\",\"name\":\"obs-node\"},\"children\":[]}]}]},\n",
       "        window,\n",
       "    );\n",
       "    })()\n",
       "    </script>\n",
       "</div>\n"
      ],
      "text/plain": [
       "Node{WebIO.DOM}(WebIO.DOM(:html, :div), Any[Node{WebIO.DOM}(WebIO.DOM(:html, :div), Any[Scope(Node{WebIO.DOM}(WebIO.DOM(:html, :div), Any[Node{WebIO.DOM}(WebIO.DOM(:html, :div), Any[Node{WebIO.DOM}(WebIO.DOM(:html, :label), Any[\"freq1\"], Dict{Symbol, Any}(:className => \"interact \", :style => Dict{Any, Any}(:padding => \"5px 10px 0px 10px\")))], Dict{Symbol, Any}(:className => \"interact-flex-row-left\")), Node{WebIO.DOM}(WebIO.DOM(:html, :div), Any[Node{WebIO.DOM}(WebIO.DOM(:html, :div), Any[Node{WebIO.DOM}(WebIO.DOM(:html, :span), Any[Node{WebIO.DOM}(WebIO.DOM(:html, :label), Any[], Dict{Symbol, Any}(:attributes => Dict(\"data-bind\" => \"text : key\")))], Dict{Symbol, Any}(:attributes => Dict(\"data-bind\" => \"click: function (){\\$root.update(val)}, css: {'is-primary is-selected' : \\$root.index() == val, 'interact-widget is-medium button ' : true}\")))], Dict{Symbol, Any}(:attributes => (\"data-bind\" => \"foreach : options_js\"), :className => \"buttons has-addons is-centered\"))], Dict{Symbol, Any}(:className => \"interact-flex-row-center\")), Node{WebIO.DOM}(WebIO.DOM(:html, :div), Any[Node{WebIO.DOM}(WebIO.DOM(:html, :div), Any[], Dict{Symbol, Any}())], Dict{Symbol, Any}(:className => \"interact-flex-row-right\"))], Dict{Symbol, Any}(:className => \"interact-flex-row interact-widget\")), Dict{String, Tuple{AbstractObservable, Union{Nothing, Bool}}}(\"options_js\" => (Observable(OrderedDict[OrderedDict{String, Any}(\"key\" => \"pi/4\", \"val\" => 1, \"id\" => \"idLZidauSG\"), OrderedDict{String, Any}(\"key\" => \"π/2\", \"val\" => 2, \"id\" => \"idgX7euIwt\"), OrderedDict{String, Any}(\"key\" => \"3π/4\", \"val\" => 3, \"id\" => \"idZEaHnyBY\"), OrderedDict{String, Any}(\"key\" => \"π\", \"val\" => 4, \"id\" => \"idtcmW4GWv\")]), nothing), \"index\" => (Observable{Any}(1), nothing)), Set{String}(), nothing, Asset[Asset(\"js\", \"knockout\", \"/Users/emueller/.julia/packages/Knockout/HReiN/src/../assets/knockout.js\"), Asset(\"js\", \"knockout_punches\", \"/Users/emueller/.julia/packages/Knockout/HReiN/src/../assets/knockout_punches.js\"), Asset(\"js\", nothing, \"/Users/emueller/.julia/packages/InteractBase/LJXv3/src/../assets/all.js\"), Asset(\"css\", nothing, \"/Users/emueller/.julia/packages/InteractBase/LJXv3/src/../assets/style.css\"), Asset(\"css\", nothing, \"/Users/emueller/.julia/packages/Interact/PENUy/src/../assets/bulma_confined.min.css\")], Dict{Any, Any}(\"options_js\" => Any[WebIO.JSString(\"(function (val){return (val!=this.model[\\\"options_js\\\"]()) ? (this.valueFromJulia[\\\"options_js\\\"]=true, this.model[\\\"options_js\\\"](val)) : undefined})\")], \"index\" => Any[WebIO.JSString(\"(function (val){return (val!=this.model[\\\"index\\\"]()) ? (this.valueFromJulia[\\\"index\\\"]=true, this.model[\\\"index\\\"](val)) : undefined})\")]), WebIO.ConnectionPool(Channel{Any}(32), Set{AbstractConnection}(), Base.GenericCondition{ReentrantLock}(Base.IntrusiveLinkedList{Task}(Task (runnable) @0x000000010e1df9e0, Task (runnable) @0x000000010e1df9e0), ReentrantLock(nothing, 0x00000000, 0x00, Base.GenericCondition{Base.Threads.SpinLock}(Base.IntrusiveLinkedList{Task}(nothing, nothing), Base.Threads.SpinLock(0)), (0, 0, 141733920768)))), WebIO.JSString[WebIO.JSString(\"function () {\\n    var handler = (function (ko, koPunches) {\\n    ko.punches.enableAll();\\n    ko.bindingHandlers.numericValue = {\\n        init: function(element, valueAccessor, allBindings, data, context) {\\n            var stringified = ko.observable(ko.unwrap(valueAccessor()));\\n            stringified.subscribe(function(value) {\\n                var val = parseFloat(value);\\n                if (!isNaN(val)) {\\n                    valueAccessor()(val);\\n                }\\n            });\\n            valueAccessor().subscribe(function(value) {\\n                var str = JSON.stringify(value);\\n                if ((str == \\\"0\\\") && ([\\\"-0\\\", \\\"-0.\\\"].indexOf(stringified()) >= 0))\\n                     return;\\n                 if ([\\\"null\\\", \\\"\\\"].indexOf(str) >= 0)\\n                     return;\\n                stringified(str);\\n            });\\n            ko.applyBindingsToNode(\\n                element,\\n                {\\n                    value: stringified,\\n                    valueUpdate: allBindings.get('valueUpdate'),\\n                },\\n                context,\\n            );\\n        }\\n    };\\n    var json_data = {\\\"options_js\\\":WebIO.getval({\\\"name\\\":\\\"options_js\\\",\\\"scope\\\":\\\"10299940367166295217\\\",\\\"id\\\":\\\"60\\\",\\\"type\\\":\\\"observable\\\"}),\\\"index\\\":WebIO.getval({\\\"name\\\":\\\"index\\\",\\\"scope\\\":\\\"10299940367166295217\\\",\\\"id\\\":\\\"59\\\",\\\"type\\\":\\\"observable\\\"})};\\n    var self = this;\\n    function AppViewModel() {\\n        for (var key in json_data) {\\n            var el = json_data[key];\\n            this[key] = Array.isArray(el) ? ko.observableArray(el) : ko.observable(el);\\n        }\\n        [this[\\\"update\\\"]=function (val) {this.index(val)}]\\n        \\n        [this[\\\"options_js\\\"].subscribe((function (val){!(this.valueFromJulia[\\\"options_js\\\"]) ? (WebIO.setval({\\\"name\\\":\\\"options_js\\\",\\\"scope\\\":\\\"10299940367166295217\\\",\\\"id\\\":\\\"60\\\",\\\"type\\\":\\\"observable\\\"},val)) : undefined; return this.valueFromJulia[\\\"options_js\\\"]=false}),self),this[\\\"index\\\"].subscribe((function (val){!(this.valueFromJulia[\\\"index\\\"]) ? (WebIO.setval({\\\"name\\\":\\\"index\\\",\\\"scope\\\":\\\"10299940367166295217\\\",\\\"id\\\":\\\"59\\\",\\\"type\\\":\\\"observable\\\"},val)) : undefined; return this.valueFromJulia[\\\"index\\\"]=false}),self)]\\n        \\n    }\\n    self.model = new AppViewModel();\\n    self.valueFromJulia = {};\\n    for (var key in json_data) {\\n        self.valueFromJulia[key] = false;\\n    }\\n    ko.applyBindings(self.model, self.dom);\\n}\\n);\\n    (WebIO.importBlock({\\\"data\\\":[{\\\"name\\\":\\\"knockout\\\",\\\"type\\\":\\\"js\\\",\\\"url\\\":\\\"/assetserver/d0f67ea5103338bec547a71428bdbf3df4f08059-knockout.js\\\"},{\\\"name\\\":\\\"knockout_punches\\\",\\\"type\\\":\\\"js\\\",\\\"url\\\":\\\"/assetserver/e26f753938579e2287344150f7e368ac4b529445-knockout_punches.js\\\"}],\\\"type\\\":\\\"async_block\\\"})).then((imports) => handler.apply(this, imports));\\n}\\n\")])], Dict{Symbol, Any}(:className => \"interact-widget\")), Node{WebIO.DOM}(WebIO.DOM(:html, :div), Any[Scope(Node{WebIO.DOM}(WebIO.DOM(:html, :div), Any[Node{WebIO.DOM}(WebIO.DOM(:html, :div), Any[Node{WebIO.DOM}(WebIO.DOM(:html, :label), Any[\"freq2\"], Dict{Symbol, Any}(:className => \"interact \", :style => Dict{Any, Any}(:padding => \"5px 10px 0px 10px\")))], Dict{Symbol, Any}(:className => \"interact-flex-row-left\")), Node{WebIO.DOM}(WebIO.DOM(:html, :div), Any[Node{WebIO.DOM}(WebIO.DOM(:html, :input), Any[], Dict{Symbol, Any}(:max => 126, :min => 1, :attributes => Dict{Any, Any}(:type => \"range\", Symbol(\"data-bind\") => \"numericValue: index, valueUpdate: 'input', event: {change: function (){this.changes(this.changes()+1)}}\", \"orient\" => \"horizontal\"), :step => 1, :className => \"slider slider is-fullwidth\", :style => Dict{Any, Any}()))], Dict{Symbol, Any}(:className => \"interact-flex-row-center\")), Node{WebIO.DOM}(WebIO.DOM(:html, :div), Any[Node{WebIO.DOM}(WebIO.DOM(:html, :p), Any[], Dict{Symbol, Any}(:attributes => Dict(\"data-bind\" => \"text: formatted_val\")))], Dict{Symbol, Any}(:className => \"interact-flex-row-right\"))], Dict{Symbol, Any}(:className => \"interact-flex-row interact-widget\")), Dict{String, Tuple{AbstractObservable, Union{Nothing, Bool}}}(\"changes\" => (Observable(0), nothing), \"index\" => (Observable{Any}(63), nothing)), Set{String}(), nothing, Asset[Asset(\"js\", \"knockout\", \"/Users/emueller/.julia/packages/Knockout/HReiN/src/../assets/knockout.js\"), Asset(\"js\", \"knockout_punches\", \"/Users/emueller/.julia/packages/Knockout/HReiN/src/../assets/knockout_punches.js\"), Asset(\"js\", nothing, \"/Users/emueller/.julia/packages/InteractBase/LJXv3/src/../assets/all.js\"), Asset(\"css\", nothing, \"/Users/emueller/.julia/packages/InteractBase/LJXv3/src/../assets/style.css\"), Asset(\"css\", nothing, \"/Users/emueller/.julia/packages/Interact/PENUy/src/../assets/bulma_confined.min.css\")], Dict{Any, Any}(\"changes\" => Any[WebIO.JSString(\"(function (val){return (val!=this.model[\\\"changes\\\"]()) ? (this.valueFromJulia[\\\"changes\\\"]=true, this.model[\\\"changes\\\"](val)) : undefined})\")], \"index\" => Any[WebIO.JSString(\"(function (val){return (val!=this.model[\\\"index\\\"]()) ? (this.valueFromJulia[\\\"index\\\"]=true, this.model[\\\"index\\\"](val)) : undefined})\")]), WebIO.ConnectionPool(Channel{Any}(32), Set{AbstractConnection}(), Base.GenericCondition{ReentrantLock}(Base.IntrusiveLinkedList{Task}(Task (runnable) @0x000000010c582d60, Task (runnable) @0x000000010c582d60), ReentrantLock(nothing, 0x00000000, 0x00, Base.GenericCondition{Base.Threads.SpinLock}(Base.IntrusiveLinkedList{Task}(nothing, nothing), Base.Threads.SpinLock(0)), (8, 4761234272, 0)))), WebIO.JSString[WebIO.JSString(\"function () {\\n    var handler = (function (ko, koPunches) {\\n    ko.punches.enableAll();\\n    ko.bindingHandlers.numericValue = {\\n        init: function(element, valueAccessor, allBindings, data, context) {\\n            var stringified = ko.observable(ko.unwrap(valueAccessor()));\\n            stringified.subscribe(function(value) {\\n                var val = parseFloat(value);\\n                if (!isNaN(val)) {\\n                    valueAccessor()(val);\\n                }\\n            });\\n            valueAccessor().subscribe(function(value) {\\n                var str = JSON.stringify(value);\\n                if ((str == \\\"0\\\") && ([\\\"-0\\\", \\\"-0.\\\"].indexOf(stringified()) >= 0))\\n                     return;\\n                 if ([\\\"null\\\", \\\"\\\"].indexOf(str) >= 0)\\n                     return;\\n                stringified(str);\\n            });\\n            ko.applyBindingsToNode(\\n                element,\\n                {\\n                    value: stringified,\\n                    valueUpdate: allBindings.get('valueUpdate'),\\n                },\\n                context,\\n            );\\n        }\\n    };\\n    var json_data = {\\\"formatted_vals\\\":[\\\"0.01\\\",\\\"0.11\\\",\\\"0.21\\\",\\\"0.31\\\",\\\"0.41\\\",\\\"0.51\\\",\\\"0.61\\\",\\\"0.71\\\",\\\"0.81\\\",\\\"0.91\\\",\\\"1.01\\\",\\\"1.11\\\",\\\"1.21\\\",\\\"1.31\\\",\\\"1.41\\\",\\\"1.51\\\",\\\"1.61\\\",\\\"1.71\\\",\\\"1.81\\\",\\\"1.91\\\",\\\"2.01\\\",\\\"2.11\\\",\\\"2.21\\\",\\\"2.31\\\",\\\"2.41\\\",\\\"2.51\\\",\\\"2.61\\\",\\\"2.71\\\",\\\"2.81\\\",\\\"2.91\\\",\\\"3.01\\\",\\\"3.11\\\",\\\"3.21\\\",\\\"3.31\\\",\\\"3.41\\\",\\\"3.51\\\",\\\"3.61\\\",\\\"3.71\\\",\\\"3.81\\\",\\\"3.91\\\",\\\"4.01\\\",\\\"4.11\\\",\\\"4.21\\\",\\\"4.31\\\",\\\"4.41\\\",\\\"4.51\\\",\\\"4.61\\\",\\\"4.71\\\",\\\"4.81\\\",\\\"4.91\\\",\\\"5.01\\\",\\\"5.11\\\",\\\"5.21\\\",\\\"5.31\\\",\\\"5.41\\\",\\\"5.51\\\",\\\"5.61\\\",\\\"5.71\\\",\\\"5.81\\\",\\\"5.91\\\",\\\"6.01\\\",\\\"6.11\\\",\\\"6.21\\\",\\\"6.31\\\",\\\"6.41\\\",\\\"6.51\\\",\\\"6.61\\\",\\\"6.71\\\",\\\"6.81\\\",\\\"6.91\\\",\\\"7.01\\\",\\\"7.11\\\",\\\"7.21\\\",\\\"7.31\\\",\\\"7.41\\\",\\\"7.51\\\",\\\"7.61\\\",\\\"7.71\\\",\\\"7.81\\\",\\\"7.91\\\",\\\"8.01\\\",\\\"8.11\\\",\\\"8.21\\\",\\\"8.31\\\",\\\"8.41\\\",\\\"8.51\\\",\\\"8.61\\\",\\\"8.71\\\",\\\"8.81\\\",\\\"8.91\\\",\\\"9.01\\\",\\\"9.11\\\",\\\"9.21\\\",\\\"9.31\\\",\\\"9.41\\\",\\\"9.51\\\",\\\"9.61\\\",\\\"9.71\\\",\\\"9.81\\\",\\\"9.91\\\",\\\"10.01\\\",\\\"10.11\\\",\\\"10.21\\\",\\\"10.31\\\",\\\"10.41\\\",\\\"10.51\\\",\\\"10.61\\\",\\\"10.71\\\",\\\"10.81\\\",\\\"10.91\\\",\\\"11.01\\\",\\\"11.11\\\",\\\"11.21\\\",\\\"11.31\\\",\\\"11.41\\\",\\\"11.51\\\",\\\"11.61\\\",\\\"11.71\\\",\\\"11.81\\\",\\\"11.91\\\",\\\"12.01\\\",\\\"12.11\\\",\\\"12.21\\\",\\\"12.31\\\",\\\"12.41\\\",\\\"12.51\\\"],\\\"changes\\\":WebIO.getval({\\\"name\\\":\\\"changes\\\",\\\"scope\\\":\\\"12022136371473167433\\\",\\\"id\\\":\\\"63\\\",\\\"type\\\":\\\"observable\\\"}),\\\"index\\\":WebIO.getval({\\\"name\\\":\\\"index\\\",\\\"scope\\\":\\\"12022136371473167433\\\",\\\"id\\\":\\\"62\\\",\\\"type\\\":\\\"observable\\\"})};\\n    var self = this;\\n    function AppViewModel() {\\n        for (var key in json_data) {\\n            var el = json_data[key];\\n            this[key] = Array.isArray(el) ? ko.observableArray(el) : ko.observable(el);\\n        }\\n        \\n        [this[\\\"formatted_val\\\"]=ko.computed(    function(){\\n        return this.formatted_vals()[parseInt(this.index())-(1)];\\n    }\\n,this)]\\n        [this[\\\"changes\\\"].subscribe((function (val){!(this.valueFromJulia[\\\"changes\\\"]) ? (WebIO.setval({\\\"name\\\":\\\"changes\\\",\\\"scope\\\":\\\"12022136371473167433\\\",\\\"id\\\":\\\"63\\\",\\\"type\\\":\\\"observable\\\"},val)) : undefined; return this.valueFromJulia[\\\"changes\\\"]=false}),self),this[\\\"index\\\"].subscribe((function (val){!(this.valueFromJulia[\\\"index\\\"]) ? (WebIO.setval({\\\"name\\\":\\\"index\\\",\\\"scope\\\":\\\"12022136371473167433\\\",\\\"id\\\":\\\"62\\\",\\\"type\\\":\\\"observable\\\"},val)) : undefined; return this.valueFromJulia[\\\"index\\\"]=false}),self)]\\n        \\n    }\\n    self.model = new AppViewModel();\\n    self.valueFromJulia = {};\\n    for (var key in json_data) {\\n        self.valueFromJulia[key] = false;\\n    }\\n    ko.applyBindings(self.model, self.dom);\\n}\\n);\\n    (WebIO.importBlock({\\\"data\\\":[{\\\"name\\\":\\\"knockout\\\",\\\"type\\\":\\\"js\\\",\\\"url\\\":\\\"/assetserver/d0f67ea5103338bec547a71428bdbf3df4f08059-knockout.js\\\"},{\\\"name\\\":\\\"knockout_punches\\\",\\\"type\\\":\\\"js\\\",\\\"url\\\":\\\"/assetserver/e26f753938579e2287344150f7e368ac4b529445-knockout_punches.js\\\"}],\\\"type\\\":\\\"async_block\\\"})).then((imports) => handler.apply(this, imports));\\n}\\n\")])], Dict{Symbol, Any}(:className => \"field interact-widget\")), Observable(Node{WebIO.DOM}(WebIO.DOM(:html, :div), Any[Plot{Plots.GRBackend() n=1}], Dict{Symbol, Any}(:className => \"interact-flex-row interact-widget\")))], Dict{Symbol, Any}())"
      ]
     },
     "execution_count": 25,
     "metadata": {
      "application/vnd.webio.node+json": {
       "kernelId": "456cb6c0-a4d4-414f-9e24-5bd635f6d622"
      }
     },
     "output_type": "execute_result"
    }
   ],
   "source": [
    "using Plots\n",
    "\n",
    "x = y = 0:0.1:30\n",
    "\n",
    "freqs = OrderedDict(zip([\"pi/4\", \"π/2\", \"3π/4\", \"π\"], [π/4, π/2, 3π/4, π]))\n",
    "\n",
    "mp = @manipulate for freq1 in freqs, freq2 in slider(0.01:0.1:4π; label=\"freq2\")\n",
    "    y = @. sin(freq1*x) * sin(freq2*x)\n",
    "    plot(x, y)\n",
    "end"
   ]
  },
  {
   "cell_type": "markdown",
   "metadata": {},
   "source": [
    "## Widget layout\n",
    "\n",
    "To create a full blown web-app, you should learn the layout tools that the CSS framework you are using provides. See for example the [columns](https://bulma.io/documentation/columns/) and [layout](https://bulma.io/documentation/layout/) section of the Bulma docs. You can use [WebIO](https://github.com/JuliaGizmos/WebIO.jl) to create from Julia the HTML required to create these layouts.\n",
    "\n",
    "However, this can be overwhelming at first (especially for users with no prior experience in web design). A simpler solution is [CSSUtil](https://github.com/JuliaGizmos/CSSUtil.jl), a package that provides some tools to create simple layouts."
   ]
  },
  {
   "cell_type": "code",
   "execution_count": 26,
   "metadata": {},
   "outputs": [
    {
     "data": {
      "application/vnd.webio.node+json": {
       "children": [
        {
         "children": [
          {
           "children": [
            {
             "children": [
              {
               "children": [
                {
                 "children": [],
                 "instanceArgs": {
                  "namespace": "html",
                  "tag": "input"
                 },
                 "nodeType": "DOM",
                 "props": {
                  "attributes": {
                   "data-bind": "event: {change: onFileUpload}",
                   "style": "display: none;",
                   "type": "file"
                  },
                  "className": "file "
                 },
                 "type": "node"
                },
                {
                 "children": [
                  {
                   "children": [
                    {
                     "children": [],
                     "instanceArgs": {
                      "namespace": "html",
                      "tag": "i"
                     },
                     "nodeType": "DOM",
                     "props": {
                      "className": "fas fa-upload"
                     },
                     "type": "node"
                    }
                   ],
                   "instanceArgs": {
                    "namespace": "html",
                    "tag": "span"
                   },
                   "nodeType": "DOM",
                   "props": {
                    "className": "file-icon"
                   },
                   "type": "node"
                  },
                  {
                   "children": [
                    "Choose a file..."
                   ],
                   "instanceArgs": {
                    "namespace": "html",
                    "tag": "span"
                   },
                   "nodeType": "DOM",
                   "props": {
                    "className": ""
                   },
                   "type": "node"
                  }
                 ],
                 "instanceArgs": {
                  "namespace": "html",
                  "tag": "span"
                 },
                 "nodeType": "DOM",
                 "props": {
                  "className": "file-cta"
                 },
                 "type": "node"
                }
               ],
               "instanceArgs": {
                "namespace": "html",
                "tag": "label"
               },
               "nodeType": "DOM",
               "props": {
                "className": ""
               },
               "type": "node"
              },
              {
               "children": [],
               "instanceArgs": {
                "namespace": "html",
                "tag": "span"
               },
               "nodeType": "DOM",
               "props": {
                "attributes": {
                 "data-bind": " text: filename() == '' ? 'No file chosen' : filename()"
                },
                "className": "file-name"
               },
               "type": "node"
              }
             ],
             "instanceArgs": {
              "namespace": "html",
              "tag": "div"
             },
             "nodeType": "DOM",
             "props": {
              "attributes": {
               "style": "display:flex; align-items:center;"
              }
             },
             "type": "node"
            }
           ],
           "instanceArgs": {
            "handlers": {
             "filename": [
              "(function (val){return (val!=this.model[\"filename\"]()) ? (this.valueFromJulia[\"filename\"]=true, this.model[\"filename\"](val)) : undefined})"
             ],
             "path": [
              "(function (val){return (val!=this.model[\"path\"]()) ? (this.valueFromJulia[\"path\"]=true, this.model[\"path\"](val)) : undefined})"
             ]
            },
            "id": "11021303573261083084",
            "imports": {
             "data": [
              {
               "name": "knockout",
               "type": "js",
               "url": "/assetserver/d0f67ea5103338bec547a71428bdbf3df4f08059-knockout.js"
              },
              {
               "name": "knockout_punches",
               "type": "js",
               "url": "/assetserver/e26f753938579e2287344150f7e368ac4b529445-knockout_punches.js"
              },
              {
               "name": null,
               "type": "js",
               "url": "/assetserver/f71b84de1a55136a6c3fa3ef48eef72511463954-all.js"
              },
              {
               "name": null,
               "type": "css",
               "url": "/assetserver/dfba341bd7a3bedeba9caeda5288e80d20d1c596-style.css"
              },
              {
               "name": null,
               "type": "css",
               "url": "/assetserver/53e68c0bec04ce908a124e6cd1565929ff6ce3a7-bulma_confined.min.css"
              }
             ],
             "type": "async_block"
            },
            "mount_callbacks": [
             "function () {\n    var handler = (function (ko, koPunches) {\n    ko.punches.enableAll();\n    ko.bindingHandlers.numericValue = {\n        init: function(element, valueAccessor, allBindings, data, context) {\n            var stringified = ko.observable(ko.unwrap(valueAccessor()));\n            stringified.subscribe(function(value) {\n                var val = parseFloat(value);\n                if (!isNaN(val)) {\n                    valueAccessor()(val);\n                }\n            });\n            valueAccessor().subscribe(function(value) {\n                var str = JSON.stringify(value);\n                if ((str == \"0\") && ([\"-0\", \"-0.\"].indexOf(stringified()) >= 0))\n                     return;\n                 if ([\"null\", \"\"].indexOf(str) >= 0)\n                     return;\n                stringified(str);\n            });\n            ko.applyBindingsToNode(\n                element,\n                {\n                    value: stringified,\n                    valueUpdate: allBindings.get('valueUpdate'),\n                },\n                context,\n            );\n        }\n    };\n    var json_data = {\"filename\":WebIO.getval({\"name\":\"filename\",\"scope\":\"11021303573261083084\",\"id\":\"71\",\"type\":\"observable\"}),\"path\":WebIO.getval({\"name\":\"path\",\"scope\":\"11021303573261083084\",\"id\":\"70\",\"type\":\"observable\"})};\n    var self = this;\n    function AppViewModel() {\n        for (var key in json_data) {\n            var el = json_data[key];\n            this[key] = Array.isArray(el) ? ko.observableArray(el) : ko.observable(el);\n        }\n        [this[\"onFileUpload\"]=function(data, e) {\n    var files = e.target.files;\n    this.filename(files[0].name);\n    return this.path(files[0].path);\n}\n]\n        \n        [this[\"filename\"].subscribe((function (val){!(this.valueFromJulia[\"filename\"]) ? (WebIO.setval({\"name\":\"filename\",\"scope\":\"11021303573261083084\",\"id\":\"71\",\"type\":\"observable\"},val)) : undefined; return this.valueFromJulia[\"filename\"]=false}),self),this[\"path\"].subscribe((function (val){!(this.valueFromJulia[\"path\"]) ? (WebIO.setval({\"name\":\"path\",\"scope\":\"11021303573261083084\",\"id\":\"70\",\"type\":\"observable\"},val)) : undefined; return this.valueFromJulia[\"path\"]=false}),self)]\n        \n    }\n    self.model = new AppViewModel();\n    self.valueFromJulia = {};\n    for (var key in json_data) {\n        self.valueFromJulia[key] = false;\n    }\n    ko.applyBindings(self.model, self.dom);\n}\n);\n    (WebIO.importBlock({\"data\":[{\"name\":\"knockout\",\"type\":\"js\",\"url\":\"/assetserver/d0f67ea5103338bec547a71428bdbf3df4f08059-knockout.js\"},{\"name\":\"knockout_punches\",\"type\":\"js\",\"url\":\"/assetserver/e26f753938579e2287344150f7e368ac4b529445-knockout_punches.js\"}],\"type\":\"async_block\"})).then((imports) => handler.apply(this, imports));\n}\n"
            ],
            "observables": {
             "filename": {
              "id": "71",
              "sync": false,
              "value": ""
             },
             "path": {
              "id": "70",
              "sync": false,
              "value": ""
             }
            },
            "systemjs_options": null
           },
           "nodeType": "Scope",
           "props": {},
           "type": "node"
          }
         ],
         "instanceArgs": {
          "namespace": "html",
          "tag": "div"
         },
         "nodeType": "DOM",
         "props": {
          "className": "field interact-widget"
         },
         "type": "node"
        },
        {
         "children": [
          {
           "children": [
            {
             "children": [
              {
               "children": [
                {
                 "children": [
                  "Hello!"
                 ],
                 "instanceArgs": {
                  "namespace": "html",
                  "tag": "button"
                 },
                 "nodeType": "DOM",
                 "props": {
                  "attributes": {
                   "data-bind": "click: function (){this.clicks(this.clicks()+1)}, css: {'is-loading' : loading}"
                  },
                  "className": "is-medium button is-primary",
                  "style": {}
                 },
                 "type": "node"
                }
               ],
               "instanceArgs": {
                "handlers": {
                 "clicks": [
                  "(function (val){return (val!=this.model[\"clicks\"]()) ? (this.valueFromJulia[\"clicks\"]=true, this.model[\"clicks\"](val)) : undefined})"
                 ],
                 "loading": [
                  "(function (val){return (val!=this.model[\"loading\"]()) ? (this.valueFromJulia[\"loading\"]=true, this.model[\"loading\"](val)) : undefined})"
                 ]
                },
                "id": "14979567281449779861",
                "imports": {
                 "data": [
                  {
                   "name": "knockout",
                   "type": "js",
                   "url": "/assetserver/d0f67ea5103338bec547a71428bdbf3df4f08059-knockout.js"
                  },
                  {
                   "name": "knockout_punches",
                   "type": "js",
                   "url": "/assetserver/e26f753938579e2287344150f7e368ac4b529445-knockout_punches.js"
                  },
                  {
                   "name": null,
                   "type": "js",
                   "url": "/assetserver/f71b84de1a55136a6c3fa3ef48eef72511463954-all.js"
                  },
                  {
                   "name": null,
                   "type": "css",
                   "url": "/assetserver/dfba341bd7a3bedeba9caeda5288e80d20d1c596-style.css"
                  },
                  {
                   "name": null,
                   "type": "css",
                   "url": "/assetserver/53e68c0bec04ce908a124e6cd1565929ff6ce3a7-bulma_confined.min.css"
                  }
                 ],
                 "type": "async_block"
                },
                "mount_callbacks": [
                 "function () {\n    var handler = (function (ko, koPunches) {\n    ko.punches.enableAll();\n    ko.bindingHandlers.numericValue = {\n        init: function(element, valueAccessor, allBindings, data, context) {\n            var stringified = ko.observable(ko.unwrap(valueAccessor()));\n            stringified.subscribe(function(value) {\n                var val = parseFloat(value);\n                if (!isNaN(val)) {\n                    valueAccessor()(val);\n                }\n            });\n            valueAccessor().subscribe(function(value) {\n                var str = JSON.stringify(value);\n                if ((str == \"0\") && ([\"-0\", \"-0.\"].indexOf(stringified()) >= 0))\n                     return;\n                 if ([\"null\", \"\"].indexOf(str) >= 0)\n                     return;\n                stringified(str);\n            });\n            ko.applyBindingsToNode(\n                element,\n                {\n                    value: stringified,\n                    valueUpdate: allBindings.get('valueUpdate'),\n                },\n                context,\n            );\n        }\n    };\n    var json_data = {\"loading\":WebIO.getval({\"name\":\"loading\",\"scope\":\"14979567281449779861\",\"id\":\"73\",\"type\":\"observable\"}),\"clicks\":WebIO.getval({\"name\":\"clicks\",\"scope\":\"14979567281449779861\",\"id\":\"72\",\"type\":\"observable\"})};\n    var self = this;\n    function AppViewModel() {\n        for (var key in json_data) {\n            var el = json_data[key];\n            this[key] = Array.isArray(el) ? ko.observableArray(el) : ko.observable(el);\n        }\n        \n        \n        [this[\"loading\"].subscribe((function (val){!(this.valueFromJulia[\"loading\"]) ? (WebIO.setval({\"name\":\"loading\",\"scope\":\"14979567281449779861\",\"id\":\"73\",\"type\":\"observable\"},val)) : undefined; return this.valueFromJulia[\"loading\"]=false}),self),this[\"clicks\"].subscribe((function (val){!(this.valueFromJulia[\"clicks\"]) ? (WebIO.setval({\"name\":\"clicks\",\"scope\":\"14979567281449779861\",\"id\":\"72\",\"type\":\"observable\"},val)) : undefined; return this.valueFromJulia[\"clicks\"]=false}),self)]\n        \n    }\n    self.model = new AppViewModel();\n    self.valueFromJulia = {};\n    for (var key in json_data) {\n        self.valueFromJulia[key] = false;\n    }\n    ko.applyBindings(self.model, self.dom);\n}\n);\n    (WebIO.importBlock({\"data\":[{\"name\":\"knockout\",\"type\":\"js\",\"url\":\"/assetserver/d0f67ea5103338bec547a71428bdbf3df4f08059-knockout.js\"},{\"name\":\"knockout_punches\",\"type\":\"js\",\"url\":\"/assetserver/e26f753938579e2287344150f7e368ac4b529445-knockout_punches.js\"}],\"type\":\"async_block\"})).then((imports) => handler.apply(this, imports));\n}\n"
                ],
                "observables": {
                 "clicks": {
                  "id": "72",
                  "sync": false,
                  "value": 0
                 },
                 "loading": {
                  "id": "73",
                  "sync": false,
                  "value": false
                 }
                },
                "systemjs_options": null
               },
               "nodeType": "Scope",
               "props": {},
               "type": "node"
              }
             ],
             "instanceArgs": {
              "namespace": "html",
              "tag": "div"
             },
             "nodeType": "DOM",
             "props": {
              "className": "field interact-widget"
             },
             "type": "node"
            }
           ],
           "instanceArgs": {
            "namespace": "html",
            "tag": "div"
           },
           "nodeType": "DOM",
           "props": {
            "style": {
             "padding": "1.0em"
            }
           },
           "type": "node"
          },
          {
           "children": [
            {
             "children": [
              {
               "children": [
                {
                 "children": [
                  "Good bye!"
                 ],
                 "instanceArgs": {
                  "namespace": "html",
                  "tag": "button"
                 },
                 "nodeType": "DOM",
                 "props": {
                  "attributes": {
                   "data-bind": "click: function (){this.clicks(this.clicks()+1)}, css: {'is-loading' : loading}"
                  },
                  "className": "is-medium button is-primary",
                  "style": {}
                 },
                 "type": "node"
                }
               ],
               "instanceArgs": {
                "handlers": {
                 "clicks": [
                  "(function (val){return (val!=this.model[\"clicks\"]()) ? (this.valueFromJulia[\"clicks\"]=true, this.model[\"clicks\"](val)) : undefined})"
                 ],
                 "loading": [
                  "(function (val){return (val!=this.model[\"loading\"]()) ? (this.valueFromJulia[\"loading\"]=true, this.model[\"loading\"](val)) : undefined})"
                 ]
                },
                "id": "1193670134825103444",
                "imports": {
                 "data": [
                  {
                   "name": "knockout",
                   "type": "js",
                   "url": "/assetserver/d0f67ea5103338bec547a71428bdbf3df4f08059-knockout.js"
                  },
                  {
                   "name": "knockout_punches",
                   "type": "js",
                   "url": "/assetserver/e26f753938579e2287344150f7e368ac4b529445-knockout_punches.js"
                  },
                  {
                   "name": null,
                   "type": "js",
                   "url": "/assetserver/f71b84de1a55136a6c3fa3ef48eef72511463954-all.js"
                  },
                  {
                   "name": null,
                   "type": "css",
                   "url": "/assetserver/dfba341bd7a3bedeba9caeda5288e80d20d1c596-style.css"
                  },
                  {
                   "name": null,
                   "type": "css",
                   "url": "/assetserver/53e68c0bec04ce908a124e6cd1565929ff6ce3a7-bulma_confined.min.css"
                  }
                 ],
                 "type": "async_block"
                },
                "mount_callbacks": [
                 "function () {\n    var handler = (function (ko, koPunches) {\n    ko.punches.enableAll();\n    ko.bindingHandlers.numericValue = {\n        init: function(element, valueAccessor, allBindings, data, context) {\n            var stringified = ko.observable(ko.unwrap(valueAccessor()));\n            stringified.subscribe(function(value) {\n                var val = parseFloat(value);\n                if (!isNaN(val)) {\n                    valueAccessor()(val);\n                }\n            });\n            valueAccessor().subscribe(function(value) {\n                var str = JSON.stringify(value);\n                if ((str == \"0\") && ([\"-0\", \"-0.\"].indexOf(stringified()) >= 0))\n                     return;\n                 if ([\"null\", \"\"].indexOf(str) >= 0)\n                     return;\n                stringified(str);\n            });\n            ko.applyBindingsToNode(\n                element,\n                {\n                    value: stringified,\n                    valueUpdate: allBindings.get('valueUpdate'),\n                },\n                context,\n            );\n        }\n    };\n    var json_data = {\"loading\":WebIO.getval({\"name\":\"loading\",\"scope\":\"1193670134825103444\",\"id\":\"75\",\"type\":\"observable\"}),\"clicks\":WebIO.getval({\"name\":\"clicks\",\"scope\":\"1193670134825103444\",\"id\":\"74\",\"type\":\"observable\"})};\n    var self = this;\n    function AppViewModel() {\n        for (var key in json_data) {\n            var el = json_data[key];\n            this[key] = Array.isArray(el) ? ko.observableArray(el) : ko.observable(el);\n        }\n        \n        \n        [this[\"loading\"].subscribe((function (val){!(this.valueFromJulia[\"loading\"]) ? (WebIO.setval({\"name\":\"loading\",\"scope\":\"1193670134825103444\",\"id\":\"75\",\"type\":\"observable\"},val)) : undefined; return this.valueFromJulia[\"loading\"]=false}),self),this[\"clicks\"].subscribe((function (val){!(this.valueFromJulia[\"clicks\"]) ? (WebIO.setval({\"name\":\"clicks\",\"scope\":\"1193670134825103444\",\"id\":\"74\",\"type\":\"observable\"},val)) : undefined; return this.valueFromJulia[\"clicks\"]=false}),self)]\n        \n    }\n    self.model = new AppViewModel();\n    self.valueFromJulia = {};\n    for (var key in json_data) {\n        self.valueFromJulia[key] = false;\n    }\n    ko.applyBindings(self.model, self.dom);\n}\n);\n    (WebIO.importBlock({\"data\":[{\"name\":\"knockout\",\"type\":\"js\",\"url\":\"/assetserver/d0f67ea5103338bec547a71428bdbf3df4f08059-knockout.js\"},{\"name\":\"knockout_punches\",\"type\":\"js\",\"url\":\"/assetserver/e26f753938579e2287344150f7e368ac4b529445-knockout_punches.js\"}],\"type\":\"async_block\"})).then((imports) => handler.apply(this, imports));\n}\n"
                ],
                "observables": {
                 "clicks": {
                  "id": "74",
                  "sync": false,
                  "value": 0
                 },
                 "loading": {
                  "id": "75",
                  "sync": false,
                  "value": false
                 }
                },
                "systemjs_options": null
               },
               "nodeType": "Scope",
               "props": {},
               "type": "node"
              }
             ],
             "instanceArgs": {
              "namespace": "html",
              "tag": "div"
             },
             "nodeType": "DOM",
             "props": {
              "className": "field interact-widget"
             },
             "type": "node"
            }
           ],
           "instanceArgs": {
            "namespace": "html",
            "tag": "div"
           },
           "nodeType": "DOM",
           "props": {
            "style": {
             "padding": "1.0em"
            }
           },
           "type": "node"
          }
         ],
         "instanceArgs": {
          "namespace": "html",
          "tag": "div"
         },
         "nodeType": "DOM",
         "props": {
          "style": {
           "display": "flex",
           "flex-direction": "row"
          }
         },
         "type": "node"
        }
       ],
       "instanceArgs": {
        "namespace": "html",
        "tag": "div"
       },
       "nodeType": "DOM",
       "props": {
        "style": {
         "display": "flex",
         "flex-direction": "column"
        }
       },
       "type": "node"
      },
      "text/html": [
       "<div\n",
       "    class=\"webio-mountpoint\"\n",
       "    data-webio-mountpoint=\"5304896696952980122\"\n",
       ">\n",
       "    <script>\n",
       "    (function(){\n",
       "    // Some integrations (namely, IJulia/Jupyter) use an alternate render pathway than\n",
       "    // just putting the html on the page. If WebIO isn't defined, then it's pretty likely\n",
       "    // that we're in one of those situations and the integration just isn't installed\n",
       "    // correctly.\n",
       "    if (typeof window.WebIO === \"undefined\") {\n",
       "        document\n",
       "            .querySelector('[data-webio-mountpoint=\"5304896696952980122\"]')\n",
       "            .innerHTML = (\n",
       "                '<div style=\"padding: 1em; background-color: #f8d6da; border: 1px solid #f5c6cb; font-weight: bold;\">' +\n",
       "                '<p><strong>WebIO not detected.</strong></p>' +\n",
       "                '<p>Please read ' +\n",
       "                '<a href=\"https://juliagizmos.github.io/WebIO.jl/latest/troubleshooting/not-detected/\" target=\"_blank\">the troubleshooting guide</a> ' +\n",
       "                'for more information on how to resolve this issue.</p>' +\n",
       "                '<p><a href=\"https://juliagizmos.github.io/WebIO.jl/latest/troubleshooting/not-detected/\" target=\"_blank\">https://juliagizmos.github.io/WebIO.jl/latest/troubleshooting/not-detected/</a></p>' +\n",
       "                '</div>'\n",
       "            );\n",
       "        return;\n",
       "    }\n",
       "    WebIO.mount(\n",
       "        document.querySelector('[data-webio-mountpoint=\"5304896696952980122\"]'),\n",
       "        {\"props\":{\"style\":{\"display\":\"flex\",\"flex-direction\":\"column\"}},\"nodeType\":\"DOM\",\"type\":\"node\",\"instanceArgs\":{\"namespace\":\"html\",\"tag\":\"div\"},\"children\":[{\"props\":{\"className\":\"field interact-widget\"},\"nodeType\":\"DOM\",\"type\":\"node\",\"instanceArgs\":{\"namespace\":\"html\",\"tag\":\"div\"},\"children\":[{\"props\":{},\"nodeType\":\"Scope\",\"type\":\"node\",\"instanceArgs\":{\"imports\":{\"data\":[{\"name\":\"knockout\",\"type\":\"js\",\"url\":\"\\/assetserver\\/d0f67ea5103338bec547a71428bdbf3df4f08059-knockout.js\"},{\"name\":\"knockout_punches\",\"type\":\"js\",\"url\":\"\\/assetserver\\/e26f753938579e2287344150f7e368ac4b529445-knockout_punches.js\"},{\"name\":null,\"type\":\"js\",\"url\":\"\\/assetserver\\/f71b84de1a55136a6c3fa3ef48eef72511463954-all.js\"},{\"name\":null,\"type\":\"css\",\"url\":\"\\/assetserver\\/dfba341bd7a3bedeba9caeda5288e80d20d1c596-style.css\"},{\"name\":null,\"type\":\"css\",\"url\":\"\\/assetserver\\/53e68c0bec04ce908a124e6cd1565929ff6ce3a7-bulma_confined.min.css\"}],\"type\":\"async_block\"},\"id\":\"11021303573261083084\",\"handlers\":{\"filename\":[\"(function (val){return (val!=this.model[\\\"filename\\\"]()) ? (this.valueFromJulia[\\\"filename\\\"]=true, this.model[\\\"filename\\\"](val)) : undefined})\"],\"path\":[\"(function (val){return (val!=this.model[\\\"path\\\"]()) ? (this.valueFromJulia[\\\"path\\\"]=true, this.model[\\\"path\\\"](val)) : undefined})\"]},\"systemjs_options\":null,\"mount_callbacks\":[\"function () {\\n    var handler = (function (ko, koPunches) {\\n    ko.punches.enableAll();\\n    ko.bindingHandlers.numericValue = {\\n        init: function(element, valueAccessor, allBindings, data, context) {\\n            var stringified = ko.observable(ko.unwrap(valueAccessor()));\\n            stringified.subscribe(function(value) {\\n                var val = parseFloat(value);\\n                if (!isNaN(val)) {\\n                    valueAccessor()(val);\\n                }\\n            });\\n            valueAccessor().subscribe(function(value) {\\n                var str = JSON.stringify(value);\\n                if ((str == \\\"0\\\") && ([\\\"-0\\\", \\\"-0.\\\"].indexOf(stringified()) >= 0))\\n                     return;\\n                 if ([\\\"null\\\", \\\"\\\"].indexOf(str) >= 0)\\n                     return;\\n                stringified(str);\\n            });\\n            ko.applyBindingsToNode(\\n                element,\\n                {\\n                    value: stringified,\\n                    valueUpdate: allBindings.get('valueUpdate'),\\n                },\\n                context,\\n            );\\n        }\\n    };\\n    var json_data = {\\\"filename\\\":WebIO.getval({\\\"name\\\":\\\"filename\\\",\\\"scope\\\":\\\"11021303573261083084\\\",\\\"id\\\":\\\"71\\\",\\\"type\\\":\\\"observable\\\"}),\\\"path\\\":WebIO.getval({\\\"name\\\":\\\"path\\\",\\\"scope\\\":\\\"11021303573261083084\\\",\\\"id\\\":\\\"70\\\",\\\"type\\\":\\\"observable\\\"})};\\n    var self = this;\\n    function AppViewModel() {\\n        for (var key in json_data) {\\n            var el = json_data[key];\\n            this[key] = Array.isArray(el) ? ko.observableArray(el) : ko.observable(el);\\n        }\\n        [this[\\\"onFileUpload\\\"]=function(data, e) {\\n    var files = e.target.files;\\n    this.filename(files[0].name);\\n    return this.path(files[0].path);\\n}\\n]\\n        \\n        [this[\\\"filename\\\"].subscribe((function (val){!(this.valueFromJulia[\\\"filename\\\"]) ? (WebIO.setval({\\\"name\\\":\\\"filename\\\",\\\"scope\\\":\\\"11021303573261083084\\\",\\\"id\\\":\\\"71\\\",\\\"type\\\":\\\"observable\\\"},val)) : undefined; return this.valueFromJulia[\\\"filename\\\"]=false}),self),this[\\\"path\\\"].subscribe((function (val){!(this.valueFromJulia[\\\"path\\\"]) ? (WebIO.setval({\\\"name\\\":\\\"path\\\",\\\"scope\\\":\\\"11021303573261083084\\\",\\\"id\\\":\\\"70\\\",\\\"type\\\":\\\"observable\\\"},val)) : undefined; return this.valueFromJulia[\\\"path\\\"]=false}),self)]\\n        \\n    }\\n    self.model = new AppViewModel();\\n    self.valueFromJulia = {};\\n    for (var key in json_data) {\\n        self.valueFromJulia[key] = false;\\n    }\\n    ko.applyBindings(self.model, self.dom);\\n}\\n);\\n    (WebIO.importBlock({\\\"data\\\":[{\\\"name\\\":\\\"knockout\\\",\\\"type\\\":\\\"js\\\",\\\"url\\\":\\\"\\/assetserver\\/d0f67ea5103338bec547a71428bdbf3df4f08059-knockout.js\\\"},{\\\"name\\\":\\\"knockout_punches\\\",\\\"type\\\":\\\"js\\\",\\\"url\\\":\\\"\\/assetserver\\/e26f753938579e2287344150f7e368ac4b529445-knockout_punches.js\\\"}],\\\"type\\\":\\\"async_block\\\"})).then((imports) => handler.apply(this, imports));\\n}\\n\"],\"observables\":{\"filename\":{\"sync\":false,\"id\":\"71\",\"value\":\"\"},\"path\":{\"sync\":false,\"id\":\"70\",\"value\":\"\"}}},\"children\":[{\"props\":{\"attributes\":{\"style\":\"display:flex; align-items:center;\"}},\"nodeType\":\"DOM\",\"type\":\"node\",\"instanceArgs\":{\"namespace\":\"html\",\"tag\":\"div\"},\"children\":[{\"props\":{\"className\":\"\"},\"nodeType\":\"DOM\",\"type\":\"node\",\"instanceArgs\":{\"namespace\":\"html\",\"tag\":\"label\"},\"children\":[{\"props\":{\"attributes\":{\"type\":\"file\",\"data-bind\":\"event: {change: onFileUpload}\",\"style\":\"display: none;\"},\"className\":\"file \"},\"nodeType\":\"DOM\",\"type\":\"node\",\"instanceArgs\":{\"namespace\":\"html\",\"tag\":\"input\"},\"children\":[]},{\"props\":{\"className\":\"file-cta\"},\"nodeType\":\"DOM\",\"type\":\"node\",\"instanceArgs\":{\"namespace\":\"html\",\"tag\":\"span\"},\"children\":[{\"props\":{\"className\":\"file-icon\"},\"nodeType\":\"DOM\",\"type\":\"node\",\"instanceArgs\":{\"namespace\":\"html\",\"tag\":\"span\"},\"children\":[{\"props\":{\"className\":\"fas fa-upload\"},\"nodeType\":\"DOM\",\"type\":\"node\",\"instanceArgs\":{\"namespace\":\"html\",\"tag\":\"i\"},\"children\":[]}]},{\"props\":{\"className\":\"\"},\"nodeType\":\"DOM\",\"type\":\"node\",\"instanceArgs\":{\"namespace\":\"html\",\"tag\":\"span\"},\"children\":[\"Choose a file...\"]}]}]},{\"props\":{\"attributes\":{\"data-bind\":\" text: filename() == '' ? 'No file chosen' : filename()\"},\"className\":\"file-name\"},\"nodeType\":\"DOM\",\"type\":\"node\",\"instanceArgs\":{\"namespace\":\"html\",\"tag\":\"span\"},\"children\":[]}]}]}]},{\"props\":{\"style\":{\"display\":\"flex\",\"flex-direction\":\"row\"}},\"nodeType\":\"DOM\",\"type\":\"node\",\"instanceArgs\":{\"namespace\":\"html\",\"tag\":\"div\"},\"children\":[{\"props\":{\"style\":{\"padding\":\"1.0em\"}},\"nodeType\":\"DOM\",\"type\":\"node\",\"instanceArgs\":{\"namespace\":\"html\",\"tag\":\"div\"},\"children\":[{\"props\":{\"className\":\"field interact-widget\"},\"nodeType\":\"DOM\",\"type\":\"node\",\"instanceArgs\":{\"namespace\":\"html\",\"tag\":\"div\"},\"children\":[{\"props\":{},\"nodeType\":\"Scope\",\"type\":\"node\",\"instanceArgs\":{\"imports\":{\"data\":[{\"name\":\"knockout\",\"type\":\"js\",\"url\":\"\\/assetserver\\/d0f67ea5103338bec547a71428bdbf3df4f08059-knockout.js\"},{\"name\":\"knockout_punches\",\"type\":\"js\",\"url\":\"\\/assetserver\\/e26f753938579e2287344150f7e368ac4b529445-knockout_punches.js\"},{\"name\":null,\"type\":\"js\",\"url\":\"\\/assetserver\\/f71b84de1a55136a6c3fa3ef48eef72511463954-all.js\"},{\"name\":null,\"type\":\"css\",\"url\":\"\\/assetserver\\/dfba341bd7a3bedeba9caeda5288e80d20d1c596-style.css\"},{\"name\":null,\"type\":\"css\",\"url\":\"\\/assetserver\\/53e68c0bec04ce908a124e6cd1565929ff6ce3a7-bulma_confined.min.css\"}],\"type\":\"async_block\"},\"id\":\"14979567281449779861\",\"handlers\":{\"loading\":[\"(function (val){return (val!=this.model[\\\"loading\\\"]()) ? (this.valueFromJulia[\\\"loading\\\"]=true, this.model[\\\"loading\\\"](val)) : undefined})\"],\"clicks\":[\"(function (val){return (val!=this.model[\\\"clicks\\\"]()) ? (this.valueFromJulia[\\\"clicks\\\"]=true, this.model[\\\"clicks\\\"](val)) : undefined})\"]},\"systemjs_options\":null,\"mount_callbacks\":[\"function () {\\n    var handler = (function (ko, koPunches) {\\n    ko.punches.enableAll();\\n    ko.bindingHandlers.numericValue = {\\n        init: function(element, valueAccessor, allBindings, data, context) {\\n            var stringified = ko.observable(ko.unwrap(valueAccessor()));\\n            stringified.subscribe(function(value) {\\n                var val = parseFloat(value);\\n                if (!isNaN(val)) {\\n                    valueAccessor()(val);\\n                }\\n            });\\n            valueAccessor().subscribe(function(value) {\\n                var str = JSON.stringify(value);\\n                if ((str == \\\"0\\\") && ([\\\"-0\\\", \\\"-0.\\\"].indexOf(stringified()) >= 0))\\n                     return;\\n                 if ([\\\"null\\\", \\\"\\\"].indexOf(str) >= 0)\\n                     return;\\n                stringified(str);\\n            });\\n            ko.applyBindingsToNode(\\n                element,\\n                {\\n                    value: stringified,\\n                    valueUpdate: allBindings.get('valueUpdate'),\\n                },\\n                context,\\n            );\\n        }\\n    };\\n    var json_data = {\\\"loading\\\":WebIO.getval({\\\"name\\\":\\\"loading\\\",\\\"scope\\\":\\\"14979567281449779861\\\",\\\"id\\\":\\\"73\\\",\\\"type\\\":\\\"observable\\\"}),\\\"clicks\\\":WebIO.getval({\\\"name\\\":\\\"clicks\\\",\\\"scope\\\":\\\"14979567281449779861\\\",\\\"id\\\":\\\"72\\\",\\\"type\\\":\\\"observable\\\"})};\\n    var self = this;\\n    function AppViewModel() {\\n        for (var key in json_data) {\\n            var el = json_data[key];\\n            this[key] = Array.isArray(el) ? ko.observableArray(el) : ko.observable(el);\\n        }\\n        \\n        \\n        [this[\\\"loading\\\"].subscribe((function (val){!(this.valueFromJulia[\\\"loading\\\"]) ? (WebIO.setval({\\\"name\\\":\\\"loading\\\",\\\"scope\\\":\\\"14979567281449779861\\\",\\\"id\\\":\\\"73\\\",\\\"type\\\":\\\"observable\\\"},val)) : undefined; return this.valueFromJulia[\\\"loading\\\"]=false}),self),this[\\\"clicks\\\"].subscribe((function (val){!(this.valueFromJulia[\\\"clicks\\\"]) ? (WebIO.setval({\\\"name\\\":\\\"clicks\\\",\\\"scope\\\":\\\"14979567281449779861\\\",\\\"id\\\":\\\"72\\\",\\\"type\\\":\\\"observable\\\"},val)) : undefined; return this.valueFromJulia[\\\"clicks\\\"]=false}),self)]\\n        \\n    }\\n    self.model = new AppViewModel();\\n    self.valueFromJulia = {};\\n    for (var key in json_data) {\\n        self.valueFromJulia[key] = false;\\n    }\\n    ko.applyBindings(self.model, self.dom);\\n}\\n);\\n    (WebIO.importBlock({\\\"data\\\":[{\\\"name\\\":\\\"knockout\\\",\\\"type\\\":\\\"js\\\",\\\"url\\\":\\\"\\/assetserver\\/d0f67ea5103338bec547a71428bdbf3df4f08059-knockout.js\\\"},{\\\"name\\\":\\\"knockout_punches\\\",\\\"type\\\":\\\"js\\\",\\\"url\\\":\\\"\\/assetserver\\/e26f753938579e2287344150f7e368ac4b529445-knockout_punches.js\\\"}],\\\"type\\\":\\\"async_block\\\"})).then((imports) => handler.apply(this, imports));\\n}\\n\"],\"observables\":{\"loading\":{\"sync\":false,\"id\":\"73\",\"value\":false},\"clicks\":{\"sync\":false,\"id\":\"72\",\"value\":0}}},\"children\":[{\"props\":{\"attributes\":{\"data-bind\":\"click: function (){this.clicks(this.clicks()+1)}, css: {'is-loading' : loading}\"},\"className\":\"is-medium button is-primary\",\"style\":{}},\"nodeType\":\"DOM\",\"type\":\"node\",\"instanceArgs\":{\"namespace\":\"html\",\"tag\":\"button\"},\"children\":[\"Hello!\"]}]}]}]},{\"props\":{\"style\":{\"padding\":\"1.0em\"}},\"nodeType\":\"DOM\",\"type\":\"node\",\"instanceArgs\":{\"namespace\":\"html\",\"tag\":\"div\"},\"children\":[{\"props\":{\"className\":\"field interact-widget\"},\"nodeType\":\"DOM\",\"type\":\"node\",\"instanceArgs\":{\"namespace\":\"html\",\"tag\":\"div\"},\"children\":[{\"props\":{},\"nodeType\":\"Scope\",\"type\":\"node\",\"instanceArgs\":{\"imports\":{\"data\":[{\"name\":\"knockout\",\"type\":\"js\",\"url\":\"\\/assetserver\\/d0f67ea5103338bec547a71428bdbf3df4f08059-knockout.js\"},{\"name\":\"knockout_punches\",\"type\":\"js\",\"url\":\"\\/assetserver\\/e26f753938579e2287344150f7e368ac4b529445-knockout_punches.js\"},{\"name\":null,\"type\":\"js\",\"url\":\"\\/assetserver\\/f71b84de1a55136a6c3fa3ef48eef72511463954-all.js\"},{\"name\":null,\"type\":\"css\",\"url\":\"\\/assetserver\\/dfba341bd7a3bedeba9caeda5288e80d20d1c596-style.css\"},{\"name\":null,\"type\":\"css\",\"url\":\"\\/assetserver\\/53e68c0bec04ce908a124e6cd1565929ff6ce3a7-bulma_confined.min.css\"}],\"type\":\"async_block\"},\"id\":\"1193670134825103444\",\"handlers\":{\"loading\":[\"(function (val){return (val!=this.model[\\\"loading\\\"]()) ? (this.valueFromJulia[\\\"loading\\\"]=true, this.model[\\\"loading\\\"](val)) : undefined})\"],\"clicks\":[\"(function (val){return (val!=this.model[\\\"clicks\\\"]()) ? (this.valueFromJulia[\\\"clicks\\\"]=true, this.model[\\\"clicks\\\"](val)) : undefined})\"]},\"systemjs_options\":null,\"mount_callbacks\":[\"function () {\\n    var handler = (function (ko, koPunches) {\\n    ko.punches.enableAll();\\n    ko.bindingHandlers.numericValue = {\\n        init: function(element, valueAccessor, allBindings, data, context) {\\n            var stringified = ko.observable(ko.unwrap(valueAccessor()));\\n            stringified.subscribe(function(value) {\\n                var val = parseFloat(value);\\n                if (!isNaN(val)) {\\n                    valueAccessor()(val);\\n                }\\n            });\\n            valueAccessor().subscribe(function(value) {\\n                var str = JSON.stringify(value);\\n                if ((str == \\\"0\\\") && ([\\\"-0\\\", \\\"-0.\\\"].indexOf(stringified()) >= 0))\\n                     return;\\n                 if ([\\\"null\\\", \\\"\\\"].indexOf(str) >= 0)\\n                     return;\\n                stringified(str);\\n            });\\n            ko.applyBindingsToNode(\\n                element,\\n                {\\n                    value: stringified,\\n                    valueUpdate: allBindings.get('valueUpdate'),\\n                },\\n                context,\\n            );\\n        }\\n    };\\n    var json_data = {\\\"loading\\\":WebIO.getval({\\\"name\\\":\\\"loading\\\",\\\"scope\\\":\\\"1193670134825103444\\\",\\\"id\\\":\\\"75\\\",\\\"type\\\":\\\"observable\\\"}),\\\"clicks\\\":WebIO.getval({\\\"name\\\":\\\"clicks\\\",\\\"scope\\\":\\\"1193670134825103444\\\",\\\"id\\\":\\\"74\\\",\\\"type\\\":\\\"observable\\\"})};\\n    var self = this;\\n    function AppViewModel() {\\n        for (var key in json_data) {\\n            var el = json_data[key];\\n            this[key] = Array.isArray(el) ? ko.observableArray(el) : ko.observable(el);\\n        }\\n        \\n        \\n        [this[\\\"loading\\\"].subscribe((function (val){!(this.valueFromJulia[\\\"loading\\\"]) ? (WebIO.setval({\\\"name\\\":\\\"loading\\\",\\\"scope\\\":\\\"1193670134825103444\\\",\\\"id\\\":\\\"75\\\",\\\"type\\\":\\\"observable\\\"},val)) : undefined; return this.valueFromJulia[\\\"loading\\\"]=false}),self),this[\\\"clicks\\\"].subscribe((function (val){!(this.valueFromJulia[\\\"clicks\\\"]) ? (WebIO.setval({\\\"name\\\":\\\"clicks\\\",\\\"scope\\\":\\\"1193670134825103444\\\",\\\"id\\\":\\\"74\\\",\\\"type\\\":\\\"observable\\\"},val)) : undefined; return this.valueFromJulia[\\\"clicks\\\"]=false}),self)]\\n        \\n    }\\n    self.model = new AppViewModel();\\n    self.valueFromJulia = {};\\n    for (var key in json_data) {\\n        self.valueFromJulia[key] = false;\\n    }\\n    ko.applyBindings(self.model, self.dom);\\n}\\n);\\n    (WebIO.importBlock({\\\"data\\\":[{\\\"name\\\":\\\"knockout\\\",\\\"type\\\":\\\"js\\\",\\\"url\\\":\\\"\\/assetserver\\/d0f67ea5103338bec547a71428bdbf3df4f08059-knockout.js\\\"},{\\\"name\\\":\\\"knockout_punches\\\",\\\"type\\\":\\\"js\\\",\\\"url\\\":\\\"\\/assetserver\\/e26f753938579e2287344150f7e368ac4b529445-knockout_punches.js\\\"}],\\\"type\\\":\\\"async_block\\\"})).then((imports) => handler.apply(this, imports));\\n}\\n\"],\"observables\":{\"loading\":{\"sync\":false,\"id\":\"75\",\"value\":false},\"clicks\":{\"sync\":false,\"id\":\"74\",\"value\":0}}},\"children\":[{\"props\":{\"attributes\":{\"data-bind\":\"click: function (){this.clicks(this.clicks()+1)}, css: {'is-loading' : loading}\"},\"className\":\"is-medium button is-primary\",\"style\":{}},\"nodeType\":\"DOM\",\"type\":\"node\",\"instanceArgs\":{\"namespace\":\"html\",\"tag\":\"button\"},\"children\":[\"Good bye!\"]}]}]}]}]}]},\n",
       "        window,\n",
       "    );\n",
       "    })()\n",
       "    </script>\n",
       "</div>\n"
      ],
      "text/plain": [
       "(div { style=Dict(\"display\" => \"flex\", \"flex-direction\" => \"column\") }\n",
       "  Node{WebIO.DOM}(WebIO.DOM(:html, :div), Any[Scope(Node{WebIO.DOM}(WebIO.DOM(:html, :div), Any[Node{WebIO.DOM}(WebIO.DOM(:html, :label), Any[Node{WebIO.DOM}(WebIO.DOM(:html, :input), Any[], Dict{Symbol, Any}(:attributes => Dict{Union{String, Symbol}, Any}(:type => \"file\", Symbol(\"data-bind\") => \"event: {change: onFileUpload}\", :style => \"display: none;\"), :className => \"file \")), Node{WebIO.DOM}(WebIO.DOM(:html, :span), Any[Node{WebIO.DOM}(WebIO.DOM(:html, :span), Any[Node{WebIO.DOM}(WebIO.DOM(:html, :i), Any[], Dict{Symbol, Any}(:className => \"fas fa-upload\"))], Dict{Symbol, Any}(:className => \"file-icon\")), Node{WebIO.DOM}(WebIO.DOM(:html, :span), Any[\"Choose a file...\"], Dict{Symbol, Any}(:className => \"\"))], Dict{Symbol, Any}(:className => \"file-cta\"))], Dict{Symbol, Any}(:className => \"\")), Node{WebIO.DOM}(WebIO.DOM(:html, :span), Any[], Dict{Symbol, Any}(:attributes => Dict(\"data-bind\" => \" text: filename() == '' ? 'No file chosen' : filename()\"), :className => \"file-name\"))], Dict{Symbol, Any}(:attributes => Dict{SubString{String}, SubString{String}}(\"style\" => \"display:flex; align-items:center;\"))), Dict{String, Tuple{AbstractObservable, Union{Nothing, Bool}}}(\"filename\" => (Observable{Any}(\"\"), nothing), \"path\" => (Observable{Any}(\"\"), nothing)), Set{String}(), nothing, Asset[Asset(\"js\", \"knockout\", \"/Users/emueller/.julia/packages/Knockout/HReiN/src/../assets/knockout.js\"), Asset(\"js\", \"knockout_punches\", \"/Users/emueller/.julia/packages/Knockout/HReiN/src/../assets/knockout_punches.js\"), Asset(\"js\", nothing, \"/Users/emueller/.julia/packages/InteractBase/LJXv3/src/../assets/all.js\"), Asset(\"css\", nothing, \"/Users/emueller/.julia/packages/InteractBase/LJXv3/src/../assets/style.css\"), Asset(\"css\", nothing, \"/Users/emueller/.julia/packages/Interact/PENUy/src/../assets/bulma_confined.min.css\")], Dict{Any, Any}(\"filename\" => Any[WebIO.JSString(\"(function (val){return (val!=this.model[\\\"filename\\\"]()) ? (this.valueFromJulia[\\\"filename\\\"]=true, this.model[\\\"filename\\\"](val)) : undefined})\")], \"path\" => Any[WebIO.JSString(\"(function (val){return (val!=this.model[\\\"path\\\"]()) ? (this.valueFromJulia[\\\"path\\\"]=true, this.model[\\\"path\\\"](val)) : undefined})\")]), WebIO.ConnectionPool(Channel{Any}(32), Set{AbstractConnection}(), Base.GenericCondition{ReentrantLock}(Base.IntrusiveLinkedList{Task}(Task (runnable) @0x000000010d66f3a0, Task (runnable) @0x000000010d66f3a0), ReentrantLock(nothing, 0x00000000, 0x00, Base.GenericCondition{Base.Threads.SpinLock}(Base.IntrusiveLinkedList{Task}(nothing, nothing), Base.Threads.SpinLock(0)), (0, 0, 141733920768)))), WebIO.JSString[WebIO.JSString(\"function () {\\n    var handler = (function (ko, koPunches) {\\n    ko.punches.enableAll();\\n    ko.bindingHandlers.numericValue = {\\n        init: function(element, valueAccessor, allBindings, data, context) {\\n            var stringified = ko.observable(ko.unwrap(valueAccessor()));\\n            stringified.subscribe(function(value) {\\n                var val = parseFloat(value);\\n                if (!isNaN(val)) {\\n                    valueAccessor()(val);\\n                }\\n            });\\n            valueAccessor().subscribe(function(value) {\\n                var str = JSON.stringify(value);\\n                if ((str == \\\"0\\\") && ([\\\"-0\\\", \\\"-0.\\\"].indexOf(stringified()) >= 0))\\n                     return;\\n                 if ([\\\"null\\\", \\\"\\\"].indexOf(str) >= 0)\\n                     return;\\n                stringified(str);\\n            });\\n            ko.applyBindingsToNode(\\n                element,\\n                {\\n                    value: stringified,\\n                    valueUpdate: allBindings.get('valueUpdate'),\\n                },\\n                context,\\n            );\\n        }\\n    };\\n    var json_data = {\\\"filename\\\":WebIO.getval({\\\"name\\\":\\\"filename\\\",\\\"scope\\\":\\\"11021303573261083084\\\",\\\"id\\\":\\\"71\\\",\\\"type\\\":\\\"observable\\\"}),\\\"path\\\":WebIO.getval({\\\"name\\\":\\\"path\\\",\\\"scope\\\":\\\"11021303573261083084\\\",\\\"id\\\":\\\"70\\\",\\\"type\\\":\\\"observable\\\"})};\\n    var self = this;\\n    function AppViewModel() {\\n        for (var key in json_data) {\\n            var el = json_data[key];\\n            this[key] = Array.isArray(el) ? ko.observableArray(el) : ko.observable(el);\\n        }\\n        [this[\\\"onFileUpload\\\"]=function(data, e) {\\n    var files = e.target.files;\\n    this.filename(files[0].name);\\n    return this.path(files[0].path);\\n}\\n]\\n        \\n        [this[\\\"filename\\\"].subscribe((function (val){!(this.valueFromJulia[\\\"filename\\\"]) ? (WebIO.setval({\\\"name\\\":\\\"filename\\\",\\\"scope\\\":\\\"11021303573261083084\\\",\\\"id\\\":\\\"71\\\",\\\"type\\\":\\\"observable\\\"},val)) : undefined; return this.valueFromJulia[\\\"filename\\\"]=false}),self),this[\\\"path\\\"].subscribe((function (val){!(this.valueFromJulia[\\\"path\\\"]) ? (WebIO.setval({\\\"name\\\":\\\"path\\\",\\\"scope\\\":\\\"11021303573261083084\\\",\\\"id\\\":\\\"70\\\",\\\"type\\\":\\\"observable\\\"},val)) : undefined; return this.valueFromJulia[\\\"path\\\"]=false}),self)]\\n        \\n    }\\n    self.model = new AppViewModel();\\n    self.valueFromJulia = {};\\n    for (var key in json_data) {\\n        self.valueFromJulia[key] = false;\\n    }\\n    ko.applyBindings(self.model, self.dom);\\n}\\n);\\n    (WebIO.importBlock({\\\"data\\\":[{\\\"name\\\":\\\"knockout\\\",\\\"type\\\":\\\"js\\\",\\\"url\\\":\\\"/assetserver/d0f67ea5103338bec547a71428bdbf3df4f08059-knockout.js\\\"},{\\\"name\\\":\\\"knockout_punches\\\",\\\"type\\\":\\\"js\\\",\\\"url\\\":\\\"/assetserver/e26f753938579e2287344150f7e368ac4b529445-knockout_punches.js\\\"}],\\\"type\\\":\\\"async_block\\\"})).then((imports) => handler.apply(this, imports));\\n}\\n\")])], Dict{Symbol, Any}(:className => \"field interact-widget\"))\n",
       "  (div { style=Dict(\"display\" => \"flex\", \"flex-direction\" => \"row\") }\n",
       "    (div { style=Dict{String, Measures.Length{:em, Float64}}(\"padding\" => 1.0em) }\n",
       "      Node{WebIO.DOM}(WebIO.DOM(:html, :div), Any[Scope(Node{WebIO.DOM}(WebIO.DOM(:html, :button), Any[\"Hello!\"], Dict{Symbol, Any}(:attributes => Dict{Any, Any}(\"data-bind\" => \"click: function (){this.clicks(this.clicks()+1)}, css: {'is-loading' : loading}\"), :className => \"is-medium button is-primary\", :style => Dict{String, Any}())), Dict{String, Tuple{AbstractObservable, Union{Nothing, Bool}}}(\"loading\" => (Observable(false), nothing), \"clicks\" => (Observable(0), nothing)), Set{String}(), nothing, Asset[Asset(\"js\", \"knockout\", \"/Users/emueller/.julia/packages/Knockout/HReiN/src/../assets/knockout.js\"), Asset(\"js\", \"knockout_punches\", \"/Users/emueller/.julia/packages/Knockout/HReiN/src/../assets/knockout_punches.js\"), Asset(\"js\", nothing, \"/Users/emueller/.julia/packages/InteractBase/LJXv3/src/../assets/all.js\"), Asset(\"css\", nothing, \"/Users/emueller/.julia/packages/InteractBase/LJXv3/src/../assets/style.css\"), Asset(\"css\", nothing, \"/Users/emueller/.julia/packages/Interact/PENUy/src/../assets/bulma_confined.min.css\")], Dict{Any, Any}(\"loading\" => Any[WebIO.JSString(\"(function (val){return (val!=this.model[\\\"loading\\\"]()) ? (this.valueFromJulia[\\\"loading\\\"]=true, this.model[\\\"loading\\\"](val)) : undefined})\")], \"clicks\" => Any[WebIO.JSString(\"(function (val){return (val!=this.model[\\\"clicks\\\"]()) ? (this.valueFromJulia[\\\"clicks\\\"]=true, this.model[\\\"clicks\\\"](val)) : undefined})\")]), WebIO.ConnectionPool(Channel{Any}(32), Set{AbstractConnection}(), Base.GenericCondition{ReentrantLock}(Base.IntrusiveLinkedList{Task}(Task (runnable) @0x000000010d4e5c30, Task (runnable) @0x000000010d4e5c30), ReentrantLock(nothing, 0x00000000, 0x00, Base.GenericCondition{Base.Threads.SpinLock}(Base.IntrusiveLinkedList{Task}(nothing, nothing), Base.Threads.SpinLock(0)), (1, 0, 3)))), WebIO.JSString[WebIO.JSString(\"function () {\\n    var handler = (function (ko, koPunches) {\\n    ko.punches.enableAll();\\n    ko.bindingHandlers.numericValue = {\\n        init: function(element, valueAccessor, allBindings, data, context) {\\n            var stringified = ko.observable(ko.unwrap(valueAccessor()));\\n            stringified.subscribe(function(value) {\\n                var val = parseFloat(value);\\n                if (!isNaN(val)) {\\n                    valueAccessor()(val);\\n                }\\n            });\\n            valueAccessor().subscribe(function(value) {\\n                var str = JSON.stringify(value);\\n                if ((str == \\\"0\\\") && ([\\\"-0\\\", \\\"-0.\\\"].indexOf(stringified()) >= 0))\\n                     return;\\n                 if ([\\\"null\\\", \\\"\\\"].indexOf(str) >= 0)\\n                     return;\\n                stringified(str);\\n            });\\n            ko.applyBindingsToNode(\\n                element,\\n                {\\n                    value: stringified,\\n                    valueUpdate: allBindings.get('valueUpdate'),\\n                },\\n                context,\\n            );\\n        }\\n    };\\n    var json_data = {\\\"loading\\\":WebIO.getval({\\\"name\\\":\\\"loading\\\",\\\"scope\\\":\\\"14979567281449779861\\\",\\\"id\\\":\\\"73\\\",\\\"type\\\":\\\"observable\\\"}),\\\"clicks\\\":WebIO.getval({\\\"name\\\":\\\"clicks\\\",\\\"scope\\\":\\\"14979567281449779861\\\",\\\"id\\\":\\\"72\\\",\\\"type\\\":\\\"observable\\\"})};\\n    var self = this;\\n    function AppViewModel() {\\n        for (var key in json_data) {\\n            var el = json_data[key];\\n            this[key] = Array.isArray(el) ? ko.observableArray(el) : ko.observable(el);\\n        }\\n        \\n        \\n        [this[\\\"loading\\\"].subscribe((function (val){!(this.valueFromJulia[\\\"loading\\\"]) ? (WebIO.setval({\\\"name\\\":\\\"loading\\\",\\\"scope\\\":\\\"14979567281449779861\\\",\\\"id\\\":\\\"73\\\",\\\"type\\\":\\\"observable\\\"},val)) : undefined; return this.valueFromJulia[\\\"loading\\\"]=false}),self),this[\\\"clicks\\\"].subscribe((function (val){!(this.valueFromJulia[\\\"clicks\\\"]) ? (WebIO.setval({\\\"name\\\":\\\"clicks\\\",\\\"scope\\\":\\\"14979567281449779861\\\",\\\"id\\\":\\\"72\\\",\\\"type\\\":\\\"observable\\\"},val)) : undefined; return this.valueFromJulia[\\\"clicks\\\"]=false}),self)]\\n        \\n    }\\n    self.model = new AppViewModel();\\n    self.valueFromJulia = {};\\n    for (var key in json_data) {\\n        self.valueFromJulia[key] = false;\\n    }\\n    ko.applyBindings(self.model, self.dom);\\n}\\n);\\n    (WebIO.importBlock({\\\"data\\\":[{\\\"name\\\":\\\"knockout\\\",\\\"type\\\":\\\"js\\\",\\\"url\\\":\\\"/assetserver/d0f67ea5103338bec547a71428bdbf3df4f08059-knockout.js\\\"},{\\\"name\\\":\\\"knockout_punches\\\",\\\"type\\\":\\\"js\\\",\\\"url\\\":\\\"/assetserver/e26f753938579e2287344150f7e368ac4b529445-knockout_punches.js\\\"}],\\\"type\\\":\\\"async_block\\\"})).then((imports) => handler.apply(this, imports));\\n}\\n\")])], Dict{Symbol, Any}(:className => \"field interact-widget\")))\n",
       "    (div { style=Dict{String, Measures.Length{:em, Float64}}(\"padding\" => 1.0em) }\n",
       "      Node{WebIO.DOM}(WebIO.DOM(:html, :div), Any[Scope(Node{WebIO.DOM}(WebIO.DOM(:html, :button), Any[\"Good bye!\"], Dict{Symbol, Any}(:attributes => Dict{Any, Any}(\"data-bind\" => \"click: function (){this.clicks(this.clicks()+1)}, css: {'is-loading' : loading}\"), :className => \"is-medium button is-primary\", :style => Dict{String, Any}())), Dict{String, Tuple{AbstractObservable, Union{Nothing, Bool}}}(\"loading\" => (Observable(false), nothing), \"clicks\" => (Observable(0), nothing)), Set{String}(), nothing, Asset[Asset(\"js\", \"knockout\", \"/Users/emueller/.julia/packages/Knockout/HReiN/src/../assets/knockout.js\"), Asset(\"js\", \"knockout_punches\", \"/Users/emueller/.julia/packages/Knockout/HReiN/src/../assets/knockout_punches.js\"), Asset(\"js\", nothing, \"/Users/emueller/.julia/packages/InteractBase/LJXv3/src/../assets/all.js\"), Asset(\"css\", nothing, \"/Users/emueller/.julia/packages/InteractBase/LJXv3/src/../assets/style.css\"), Asset(\"css\", nothing, \"/Users/emueller/.julia/packages/Interact/PENUy/src/../assets/bulma_confined.min.css\")], Dict{Any, Any}(\"loading\" => Any[WebIO.JSString(\"(function (val){return (val!=this.model[\\\"loading\\\"]()) ? (this.valueFromJulia[\\\"loading\\\"]=true, this.model[\\\"loading\\\"](val)) : undefined})\")], \"clicks\" => Any[WebIO.JSString(\"(function (val){return (val!=this.model[\\\"clicks\\\"]()) ? (this.valueFromJulia[\\\"clicks\\\"]=true, this.model[\\\"clicks\\\"](val)) : undefined})\")]), WebIO.ConnectionPool(Channel{Any}(32), Set{AbstractConnection}(), Base.GenericCondition{ReentrantLock}(Base.IntrusiveLinkedList{Task}(Task (runnable) @0x000000010d1f84c0, Task (runnable) @0x000000010d1f84c0), ReentrantLock(nothing, 0x00000000, 0x00, Base.GenericCondition{Base.Threads.SpinLock}(Base.IntrusiveLinkedList{Task}(nothing, nothing), Base.Threads.SpinLock(0)), (0, 0, 141733920768)))), WebIO.JSString[WebIO.JSString(\"function () {\\n    var handler = (function (ko, koPunches) {\\n    ko.punches.enableAll();\\n    ko.bindingHandlers.numericValue = {\\n        init: function(element, valueAccessor, allBindings, data, context) {\\n            var stringified = ko.observable(ko.unwrap(valueAccessor()));\\n            stringified.subscribe(function(value) {\\n                var val = parseFloat(value);\\n                if (!isNaN(val)) {\\n                    valueAccessor()(val);\\n                }\\n            });\\n            valueAccessor().subscribe(function(value) {\\n                var str = JSON.stringify(value);\\n                if ((str == \\\"0\\\") && ([\\\"-0\\\", \\\"-0.\\\"].indexOf(stringified()) >= 0))\\n                     return;\\n                 if ([\\\"null\\\", \\\"\\\"].indexOf(str) >= 0)\\n                     return;\\n                stringified(str);\\n            });\\n            ko.applyBindingsToNode(\\n                element,\\n                {\\n                    value: stringified,\\n                    valueUpdate: allBindings.get('valueUpdate'),\\n                },\\n                context,\\n            );\\n        }\\n    };\\n    var json_data = {\\\"loading\\\":WebIO.getval({\\\"name\\\":\\\"loading\\\",\\\"scope\\\":\\\"1193670134825103444\\\",\\\"id\\\":\\\"75\\\",\\\"type\\\":\\\"observable\\\"}),\\\"clicks\\\":WebIO.getval({\\\"name\\\":\\\"clicks\\\",\\\"scope\\\":\\\"1193670134825103444\\\",\\\"id\\\":\\\"74\\\",\\\"type\\\":\\\"observable\\\"})};\\n    var self = this;\\n    function AppViewModel() {\\n        for (var key in json_data) {\\n            var el = json_data[key];\\n            this[key] = Array.isArray(el) ? ko.observableArray(el) : ko.observable(el);\\n        }\\n        \\n        \\n        [this[\\\"loading\\\"].subscribe((function (val){!(this.valueFromJulia[\\\"loading\\\"]) ? (WebIO.setval({\\\"name\\\":\\\"loading\\\",\\\"scope\\\":\\\"1193670134825103444\\\",\\\"id\\\":\\\"75\\\",\\\"type\\\":\\\"observable\\\"},val)) : undefined; return this.valueFromJulia[\\\"loading\\\"]=false}),self),this[\\\"clicks\\\"].subscribe((function (val){!(this.valueFromJulia[\\\"clicks\\\"]) ? (WebIO.setval({\\\"name\\\":\\\"clicks\\\",\\\"scope\\\":\\\"1193670134825103444\\\",\\\"id\\\":\\\"74\\\",\\\"type\\\":\\\"observable\\\"},val)) : undefined; return this.valueFromJulia[\\\"clicks\\\"]=false}),self)]\\n        \\n    }\\n    self.model = new AppViewModel();\\n    self.valueFromJulia = {};\\n    for (var key in json_data) {\\n        self.valueFromJulia[key] = false;\\n    }\\n    ko.applyBindings(self.model, self.dom);\\n}\\n);\\n    (WebIO.importBlock({\\\"data\\\":[{\\\"name\\\":\\\"knockout\\\",\\\"type\\\":\\\"js\\\",\\\"url\\\":\\\"/assetserver/d0f67ea5103338bec547a71428bdbf3df4f08059-knockout.js\\\"},{\\\"name\\\":\\\"knockout_punches\\\",\\\"type\\\":\\\"js\\\",\\\"url\\\":\\\"/assetserver/e26f753938579e2287344150f7e368ac4b529445-knockout_punches.js\\\"}],\\\"type\\\":\\\"async_block\\\"})).then((imports) => handler.apply(this, imports));\\n}\\n\")])], Dict{Symbol, Any}(:className => \"field interact-widget\")))))"
      ]
     },
     "metadata": {
      "application/vnd.webio.node+json": {
       "kernelId": "456cb6c0-a4d4-414f-9e24-5bd635f6d622"
      }
     },
     "output_type": "display_data"
    }
   ],
   "source": [
    "loadbutton = filepicker()\n",
    "hellobutton = button(\"Hello!\")\n",
    "goodbyebutton = button(\"Good bye!\")\n",
    "ui = vbox( # put things one on top of the other\n",
    "    loadbutton,\n",
    "    hbox( # put things one next to the other\n",
    "        pad(1em, hellobutton), # to allow some white space around the widget\n",
    "        pad(1em, goodbyebutton),\n",
    "    )\n",
    ")\n",
    "display(ui)"
   ]
  },
  {
   "cell_type": "markdown",
   "metadata": {},
   "source": [
    "## Update widgets as function of other widgets\n",
    "\n",
    "Sometimes the full structure of the GUI is not known in advance. For example, let's imagine we want to load a DataFrame and create a button per column. Not to make it completely trivial, as soon as a button is pressed, we want to plot a histogram of the corresponding column.\n",
    "\n",
    "*Important note*: this app needs to run in Blink, as the browser doesn't allow us to get access to the local path of a file.\n",
    "\n",
    "We start by adding a `filepicker` to choose the file, and only once we have a file we want to update the GUI. this can be done as follows:"
   ]
  },
  {
   "cell_type": "code",
   "execution_count": 27,
   "metadata": {},
   "outputs": [
    {
     "data": {
      "application/vnd.webio.node+json": {
       "children": [
        {
         "children": [],
         "instanceArgs": {
          "id": "80",
          "name": "obs-node"
         },
         "nodeType": "ObservableNode",
         "props": {},
         "type": "node"
        }
       ],
       "instanceArgs": {
        "handlers": {},
        "id": "694099920676611475",
        "imports": {
         "data": [],
         "type": "async_block"
        },
        "mount_callbacks": [],
        "observables": {
         "obs-node": {
          "id": "80",
          "sync": false,
          "value": {
           "children": [],
           "instanceArgs": {
            "namespace": "html",
            "tag": "div"
           },
           "nodeType": "DOM",
           "props": {},
           "type": "node"
          }
         }
        },
        "systemjs_options": null
       },
       "nodeType": "Scope",
       "props": {},
       "type": "node"
      },
      "text/html": [
       "<div\n",
       "    class=\"webio-mountpoint\"\n",
       "    data-webio-mountpoint=\"3686524107612273260\"\n",
       ">\n",
       "    <script>\n",
       "    (function(){\n",
       "    // Some integrations (namely, IJulia/Jupyter) use an alternate render pathway than\n",
       "    // just putting the html on the page. If WebIO isn't defined, then it's pretty likely\n",
       "    // that we're in one of those situations and the integration just isn't installed\n",
       "    // correctly.\n",
       "    if (typeof window.WebIO === \"undefined\") {\n",
       "        document\n",
       "            .querySelector('[data-webio-mountpoint=\"3686524107612273260\"]')\n",
       "            .innerHTML = (\n",
       "                '<div style=\"padding: 1em; background-color: #f8d6da; border: 1px solid #f5c6cb; font-weight: bold;\">' +\n",
       "                '<p><strong>WebIO not detected.</strong></p>' +\n",
       "                '<p>Please read ' +\n",
       "                '<a href=\"https://juliagizmos.github.io/WebIO.jl/latest/troubleshooting/not-detected/\" target=\"_blank\">the troubleshooting guide</a> ' +\n",
       "                'for more information on how to resolve this issue.</p>' +\n",
       "                '<p><a href=\"https://juliagizmos.github.io/WebIO.jl/latest/troubleshooting/not-detected/\" target=\"_blank\">https://juliagizmos.github.io/WebIO.jl/latest/troubleshooting/not-detected/</a></p>' +\n",
       "                '</div>'\n",
       "            );\n",
       "        return;\n",
       "    }\n",
       "    WebIO.mount(\n",
       "        document.querySelector('[data-webio-mountpoint=\"3686524107612273260\"]'),\n",
       "        {\"props\":{},\"nodeType\":\"Scope\",\"type\":\"node\",\"instanceArgs\":{\"imports\":{\"data\":[],\"type\":\"async_block\"},\"id\":\"2167782026304062973\",\"handlers\":{},\"systemjs_options\":null,\"mount_callbacks\":[],\"observables\":{\"obs-node\":{\"sync\":false,\"id\":\"79\",\"value\":{\"props\":{},\"nodeType\":\"DOM\",\"type\":\"node\",\"instanceArgs\":{\"namespace\":\"html\",\"tag\":\"div\"},\"children\":[]}}}},\"children\":[{\"props\":{},\"nodeType\":\"ObservableNode\",\"type\":\"node\",\"instanceArgs\":{\"id\":\"79\",\"name\":\"obs-node\"},\"children\":[]}]},\n",
       "        window,\n",
       "    );\n",
       "    })()\n",
       "    </script>\n",
       "</div>\n"
      ],
      "text/plain": [
       "Observable{Any}(Node{WebIO.DOM}(WebIO.DOM(:html, :div), Any[], Dict{Symbol, Any}()))\n"
      ]
     },
     "execution_count": 27,
     "metadata": {
      "application/vnd.webio.node+json": {
       "kernelId": "456cb6c0-a4d4-414f-9e24-5bd635f6d622"
      }
     },
     "output_type": "execute_result"
    }
   ],
   "source": [
    "loadbutton = filepicker()\n",
    "columnbuttons = Observable{Any}(dom\"div\"())"
   ]
  },
  {
   "cell_type": "markdown",
   "metadata": {},
   "source": [
    "`columnbuttons` is the `div` object that will contain all the relevant buttons. it is an `Observable` as we want its value to change over time.\n",
    "To add behavior, we can use `map!`:"
   ]
  },
  {
   "cell_type": "code",
   "execution_count": 29,
   "metadata": {},
   "outputs": [
    {
     "name": "stderr",
     "output_type": "stream",
     "text": [
      "\u001b[32m\u001b[1m   Resolving\u001b[22m\u001b[39m package versions...\n",
      "\u001b[32m\u001b[1m   Installed\u001b[22m\u001b[39m WorkerUtilities ─ v1.6.1\n",
      "\u001b[32m\u001b[1m   Installed\u001b[22m\u001b[39m PooledArrays ──── v1.4.3\n",
      "\u001b[32m\u001b[1m   Installed\u001b[22m\u001b[39m FilePathsBase ─── v0.9.21\n",
      "\u001b[32m\u001b[1m   Installed\u001b[22m\u001b[39m SentinelArrays ── v1.4.3\n",
      "\u001b[32m\u001b[1m   Installed\u001b[22m\u001b[39m WeakRefStrings ── v1.4.2\n",
      "\u001b[32m\u001b[1m   Installed\u001b[22m\u001b[39m CSV ───────────── v0.10.14\n",
      "\u001b[32m\u001b[1m    Updating\u001b[22m\u001b[39m `~/.julia/environments/v1.9/Project.toml`\n",
      "  \u001b[90m[336ed68f] \u001b[39m\u001b[92m+ CSV v0.10.14\u001b[39m\n",
      "\u001b[32m\u001b[1m    Updating\u001b[22m\u001b[39m `~/.julia/environments/v1.9/Manifest.toml`\n",
      "  \u001b[90m[336ed68f] \u001b[39m\u001b[92m+ CSV v0.10.14\u001b[39m\n",
      "  \u001b[90m[48062228] \u001b[39m\u001b[92m+ FilePathsBase v0.9.21\u001b[39m\n",
      "  \u001b[90m[2dfb63ee] \u001b[39m\u001b[92m+ PooledArrays v1.4.3\u001b[39m\n",
      "  \u001b[90m[91c51154] \u001b[39m\u001b[92m+ SentinelArrays v1.4.3\u001b[39m\n",
      "  \u001b[90m[ea10d353] \u001b[39m\u001b[92m+ WeakRefStrings v1.4.2\u001b[39m\n",
      "  \u001b[90m[76eceee3] \u001b[39m\u001b[92m+ WorkerUtilities v1.6.1\u001b[39m\n",
      "\u001b[32m\u001b[1mPrecompiling\u001b[22m\u001b[39m project...\n",
      "\u001b[32m  ✓ \u001b[39m\u001b[90mWorkerUtilities\u001b[39m\n",
      "\u001b[32m  ✓ \u001b[39m\u001b[90mPooledArrays\u001b[39m\n",
      "\u001b[32m  ✓ \u001b[39m\u001b[90mWeakRefStrings\u001b[39m\n",
      "\u001b[32m  ✓ \u001b[39m\u001b[90mFilePathsBase\u001b[39m\n",
      "\u001b[32m  ✓ \u001b[39m\u001b[90mSentinelArrays\u001b[39m\n",
      "\u001b[32m  ✓ \u001b[39mCSV\n",
      "\u001b[32m  ✓ \u001b[39m\u001b[90mPlots → UnitfulExt\u001b[39m\n",
      "  7 dependencies successfully precompiled in 53 seconds. 354 already precompiled.\n"
     ]
    }
   ],
   "source": [
    "import Pkg; Pkg.add(\"CSV\")"
   ]
  },
  {
   "cell_type": "code",
   "execution_count": 31,
   "metadata": {},
   "outputs": [
    {
     "name": "stderr",
     "output_type": "stream",
     "text": [
      "\u001b[32m\u001b[1m   Resolving\u001b[22m\u001b[39m package versions...\n",
      "\u001b[32m\u001b[1m   Installed\u001b[22m\u001b[39m InvertedIndices ─ v1.3.0\n",
      "\u001b[32m\u001b[1m   Installed\u001b[22m\u001b[39m DataFrames ────── v1.6.1\n",
      "\u001b[32m\u001b[1m    Updating\u001b[22m\u001b[39m `~/.julia/environments/v1.9/Project.toml`\n",
      "  \u001b[90m[a93c6f00] \u001b[39m\u001b[92m+ DataFrames v1.6.1\u001b[39m\n",
      "\u001b[32m\u001b[1m    Updating\u001b[22m\u001b[39m `~/.julia/environments/v1.9/Manifest.toml`\n",
      "  \u001b[90m[a93c6f00] \u001b[39m\u001b[92m+ DataFrames v1.6.1\u001b[39m\n",
      "  \u001b[90m[41ab1584] \u001b[39m\u001b[92m+ InvertedIndices v1.3.0\u001b[39m\n",
      "\u001b[32m\u001b[1mPrecompiling\u001b[22m\u001b[39m project...\n",
      "\u001b[32m  ✓ \u001b[39m\u001b[90mInvertedIndices\u001b[39m\n",
      "\u001b[32m  ✓ \u001b[39mDataFrames\n",
      "\u001b[32m  ✓ \u001b[39m\u001b[90mLatexify → DataFramesExt\u001b[39m\n",
      "\u001b[32m  ✓ \u001b[39m\u001b[90mBangBang → BangBangDataFramesExt\u001b[39m\n",
      "\u001b[32m  ✓ \u001b[39m\u001b[90mMicroCollections\u001b[39m\n",
      "\u001b[32m  ✓ \u001b[39m\u001b[90mTransducers\u001b[39m\n",
      "\u001b[32m  ✓ \u001b[39m\u001b[90mTransducers → TransducersReferenceablesExt\u001b[39m\n",
      "\u001b[32m  ✓ \u001b[39m\u001b[90mTransducers → TransducersDataFramesExt\u001b[39m\n",
      "\u001b[32m  ✓ \u001b[39m\u001b[90mTransducers → TransducersBlockArraysExt\u001b[39m\n",
      "\u001b[32m  ✓ \u001b[39m\u001b[90mFLoops\u001b[39m\n",
      "\u001b[32m  ✓ \u001b[39m\u001b[90mFolds\u001b[39m\n",
      "\u001b[32m  ✓ \u001b[39m\u001b[90mNDTensors\u001b[39m\n",
      "\u001b[32m  ✓ \u001b[39mSymbolics\n",
      "\u001b[32m  ✓ \u001b[39mITensors\n",
      "\u001b[32m  ✓ \u001b[39mITensorInfiniteMPS\n",
      "\u001b[33m  ✓ \u001b[39mPlots\n",
      "\u001b[33m  ✓ \u001b[39m\u001b[90mPlots → IJuliaExt\u001b[39m\n",
      "\u001b[32m  ✓ \u001b[39m\u001b[90mPlots → UnitfulExt\u001b[39m\n",
      "  18 dependencies successfully precompiled in 65 seconds. 348 already precompiled.\n",
      "  \u001b[33m2\u001b[39m dependencies precompiled but different versions are currently loaded. Restart julia to access the new versions\n"
     ]
    }
   ],
   "source": [
    "import Pkg; Pkg.add(\"DataFrames\")"
   ]
  },
  {
   "cell_type": "code",
   "execution_count": 32,
   "metadata": {},
   "outputs": [
    {
     "ename": "LoadError",
     "evalue": "ArgumentError: provide a valid sink argument, like `using DataFrames; CSV.read(source, DataFrame)`",
     "output_type": "error",
     "traceback": [
      "ArgumentError: provide a valid sink argument, like `using DataFrames; CSV.read(source, DataFrame)`",
      "",
      "Stacktrace:",
      " [1] read(source::String, sink::Nothing; copycols::Bool, kwargs::Base.Pairs{Symbol, Union{}, Tuple{}, NamedTuple{(), Tuple{}}})",
      "   @ CSV ~/.julia/packages/CSV/cwX2w/src/CSV.jl:115",
      " [2] read(source::String, sink::Nothing)",
      "   @ CSV ~/.julia/packages/CSV/cwX2w/src/CSV.jl:113",
      " [3] read(source::String)",
      "   @ CSV ~/.julia/packages/CSV/cwX2w/src/CSV.jl:113",
      " [4] #invokelatest#2",
      "   @ ./essentials.jl:816 [inlined]",
      " [5] invokelatest",
      "   @ ./essentials.jl:813 [inlined]",
      " [6] MapCallback",
      "   @ ~/.julia/packages/Observables/YdEbO/src/Observables.jl:436 [inlined]",
      " [7] #map!#10",
      "   @ ~/.julia/packages/Observables/YdEbO/src/Observables.jl:529 [inlined]",
      " [8] map!(f::Any, result::Observable{Any}, os::Widget{:filepicker, Any})",
      "   @ Observables ~/.julia/packages/Observables/YdEbO/src/Observables.jl:518",
      " [9] top-level scope",
      "   @ In[32]:3"
     ]
    }
   ],
   "source": [
    "using CSV, DataFrames\n",
    "data = Observable{Any}(DataFrame)\n",
    "map!(CSV.read, data, loadbutton)"
   ]
  },
  {
   "cell_type": "markdown",
   "metadata": {},
   "source": [
    "Now as soon as a file is uploaded, the `Observable` `data` gets updated with the correct value. Now, as soon as `data` is updated, we want to update our buttons."
   ]
  },
  {
   "cell_type": "code",
   "execution_count": 33,
   "metadata": {},
   "outputs": [
    {
     "ename": "LoadError",
     "evalue": "MethodError: no method matching names(::Type{DataFrame})\n\n\u001b[0mClosest candidates are:\n\u001b[0m  names(\u001b[91m::Union{DataFrames.DataFrameColumns, DataFrames.DataFrameRows}\u001b[39m)\n\u001b[0m\u001b[90m   @\u001b[39m \u001b[33mDataFrames\u001b[39m \u001b[90m~/.julia/packages/DataFrames/58MUJ/src/abstractdataframe/\u001b[39m\u001b[90m\u001b[4miteration.jl:333\u001b[24m\u001b[39m\n\u001b[0m  names(\u001b[91m::Union{DataFrames.DataFrameColumns, DataFrames.DataFrameRows}\u001b[39m, \u001b[91m::Any\u001b[39m)\n\u001b[0m\u001b[90m   @\u001b[39m \u001b[33mDataFrames\u001b[39m \u001b[90m~/.julia/packages/DataFrames/58MUJ/src/abstractdataframe/\u001b[39m\u001b[90m\u001b[4miteration.jl:334\u001b[24m\u001b[39m\n\u001b[0m  names(\u001b[91m::DataFrames.GroupKey\u001b[39m)\n\u001b[0m\u001b[90m   @\u001b[39m \u001b[33mDataFrames\u001b[39m \u001b[90m~/.julia/packages/DataFrames/58MUJ/src/groupeddataframe/\u001b[39m\u001b[90m\u001b[4mgroupeddataframe.jl:655\u001b[24m\u001b[39m\n\u001b[0m  ...\n",
     "output_type": "error",
     "traceback": [
      "MethodError: no method matching names(::Type{DataFrame})\n\n\u001b[0mClosest candidates are:\n\u001b[0m  names(\u001b[91m::Union{DataFrames.DataFrameColumns, DataFrames.DataFrameRows}\u001b[39m)\n\u001b[0m\u001b[90m   @\u001b[39m \u001b[33mDataFrames\u001b[39m \u001b[90m~/.julia/packages/DataFrames/58MUJ/src/abstractdataframe/\u001b[39m\u001b[90m\u001b[4miteration.jl:333\u001b[24m\u001b[39m\n\u001b[0m  names(\u001b[91m::Union{DataFrames.DataFrameColumns, DataFrames.DataFrameRows}\u001b[39m, \u001b[91m::Any\u001b[39m)\n\u001b[0m\u001b[90m   @\u001b[39m \u001b[33mDataFrames\u001b[39m \u001b[90m~/.julia/packages/DataFrames/58MUJ/src/abstractdataframe/\u001b[39m\u001b[90m\u001b[4miteration.jl:334\u001b[24m\u001b[39m\n\u001b[0m  names(\u001b[91m::DataFrames.GroupKey\u001b[39m)\n\u001b[0m\u001b[90m   @\u001b[39m \u001b[33mDataFrames\u001b[39m \u001b[90m~/.julia/packages/DataFrames/58MUJ/src/groupeddataframe/\u001b[39m\u001b[90m\u001b[4mgroupeddataframe.jl:655\u001b[24m\u001b[39m\n\u001b[0m  ...\n",
      "",
      "Stacktrace:",
      " [1] makebuttons(df::Type)",
      "   @ Main ./In[33]:2",
      " [2] #invokelatest#2",
      "   @ ./essentials.jl:816 [inlined]",
      " [3] invokelatest",
      "   @ ./essentials.jl:813 [inlined]",
      " [4] MapCallback",
      "   @ ~/.julia/packages/Observables/YdEbO/src/Observables.jl:436 [inlined]",
      " [5] #map!#10",
      "   @ ~/.julia/packages/Observables/YdEbO/src/Observables.jl:529 [inlined]",
      " [6] map!(f::Any, result::Observable{Any}, os::Observable{Any})",
      "   @ Observables ~/.julia/packages/Observables/YdEbO/src/Observables.jl:518",
      " [7] top-level scope",
      "   @ In[33]:6"
     ]
    }
   ],
   "source": [
    "function makebuttons(df)\n",
    "    buttons = button.(names(df))\n",
    "    dom\"div\"(hbox(buttons))\n",
    "end\n",
    "\n",
    "map!(makebuttons, columnbuttons, data)"
   ]
  },
  {
   "cell_type": "markdown",
   "metadata": {},
   "source": [
    "We are almost done, we only need to add a callback to the buttons. The cleanest way is to do it during button initialization, meaning during our `makebuttons` step:"
   ]
  },
  {
   "cell_type": "code",
   "execution_count": null,
   "metadata": {},
   "outputs": [],
   "source": [
    "using Plots\n",
    "plt = Observable{Any}(plot()) # the container for our plot\n",
    "function makebuttons(df)\n",
    "    buttons = button.(string.(names(df)))\n",
    "    for (btn, name) in zip(buttons, names(df))\n",
    "        map!(t -> histogram(df[name]), plt, btn)\n",
    "    end\n",
    "    dom\"div\"(hbox(buttons))\n",
    "end"
   ]
  },
  {
   "cell_type": "markdown",
   "metadata": {},
   "source": [
    "To put it all together:"
   ]
  },
  {
   "cell_type": "code",
   "execution_count": null,
   "metadata": {},
   "outputs": [],
   "source": [
    "using CSV, DataFrames, Interact, Plots\n",
    "loadbutton = filepicker()\n",
    "columnbuttons = Observable{Any}(dom\"div\"())\n",
    "data = Observable{Any}(DataFrame)\n",
    "plt = Observable{Any}(plot())\n",
    "map!(CSV.read, data, loadbutton)\n",
    "\n",
    "function makebuttons(df)\n",
    "    buttons = button.(string.(names(df)))\n",
    "    for (btn, name) in zip(buttons, names(df))\n",
    "        map!(t -> histogram(df[name]), plt, btn)\n",
    "    end\n",
    "    dom\"div\"(hbox(buttons))\n",
    "end\n",
    "\n",
    "map!(makebuttons, columnbuttons, data)\n",
    "\n",
    "ui = dom\"div\"(loadbutton, columnbuttons, plt)"
   ]
  },
  {
   "cell_type": "markdown",
   "metadata": {},
   "source": [
    "And now to serve it in Blink:"
   ]
  },
  {
   "cell_type": "code",
   "execution_count": null,
   "metadata": {},
   "outputs": [],
   "source": [
    "using Blink\n",
    "w = Window()\n",
    "body!(w, ui)"
   ]
  },
  {
   "cell_type": "markdown",
   "metadata": {},
   "source": [
    "*This notebook was generated using [Literate.jl](https://github.com/fredrikekre/Literate.jl).*"
   ]
  }
 ],
 "metadata": {
  "@webio": {
   "lastCommId": "c0ef9554c6ac48cb8e1937eefc473d4d",
   "lastKernelId": "456cb6c0-a4d4-414f-9e24-5bd635f6d622"
  },
  "kernelspec": {
   "display_name": "Julia 1.9.1",
   "language": "julia",
   "name": "julia-1.9"
  },
  "language_info": {
   "file_extension": ".jl",
   "mimetype": "application/julia",
   "name": "julia",
   "version": "1.9.1"
  }
 },
 "nbformat": 4,
 "nbformat_minor": 3
}
