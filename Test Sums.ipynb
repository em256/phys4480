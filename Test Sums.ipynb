{
 "cells": [
  {
   "cell_type": "code",
   "execution_count": 1,
   "id": "49250e7b",
   "metadata": {},
   "outputs": [
    {
     "data": {
      "text/plain": [
       "sm (generic function with 1 method)"
      ]
     },
     "execution_count": 1,
     "metadata": {},
     "output_type": "execute_result"
    }
   ],
   "source": [
    "function sm(f,n)\n",
    "    result=f(0)\n",
    "    for i in 1:n\n",
    "        result+=f(i)\n",
    "    end\n",
    "    return result\n",
    "end"
   ]
  },
  {
   "cell_type": "code",
   "execution_count": 23,
   "id": "9cd6691f",
   "metadata": {},
   "outputs": [
    {
     "name": "stdout",
     "output_type": "stream",
     "text": [
      "  0.005892 seconds (3.46 k allocations: 235.898 KiB, 99.07% compilation time)\n"
     ]
    },
    {
     "data": {
      "text/plain": [
       "2.50500247998e11"
      ]
     },
     "execution_count": 23,
     "metadata": {},
     "output_type": "execute_result"
    }
   ],
   "source": [
    "@time sm(x->x^3-2.,1000)"
   ]
  },
  {
   "cell_type": "code",
   "execution_count": 20,
   "id": "f63a9766",
   "metadata": {},
   "outputs": [],
   "source": [
    "mutable struct fdat\n",
    "    f\n",
    "    n\n",
    "end"
   ]
  },
  {
   "cell_type": "code",
   "execution_count": 21,
   "id": "1cc22d19",
   "metadata": {},
   "outputs": [
    {
     "data": {
      "text/plain": [
       "fdat(var\"#39#40\"(), 1000)"
      ]
     },
     "execution_count": 21,
     "metadata": {},
     "output_type": "execute_result"
    }
   ],
   "source": [
    "fd1=fdat(x->x^3-2.,1000)"
   ]
  },
  {
   "cell_type": "code",
   "execution_count": 22,
   "id": "e2ebe869",
   "metadata": {},
   "outputs": [
    {
     "data": {
      "text/plain": [
       "sm (generic function with 2 methods)"
      ]
     },
     "execution_count": 22,
     "metadata": {},
     "output_type": "execute_result"
    }
   ],
   "source": [
    "function sm(fd::fdat)\n",
    "    f=fd.f\n",
    "    n=fd.n\n",
    "    result=f(0)\n",
    "    for i in 1:n\n",
    "        result+=f(i)\n",
    "    end\n",
    "    return result\n",
    "end"
   ]
  },
  {
   "cell_type": "code",
   "execution_count": 27,
   "id": "a6c17faf",
   "metadata": {},
   "outputs": [
    {
     "name": "stdout",
     "output_type": "stream",
     "text": [
      "  0.006706 seconds (3.46 k allocations: 235.898 KiB, 99.51% compilation time)\n"
     ]
    },
    {
     "data": {
      "text/plain": [
       "2.50500247998e11"
      ]
     },
     "execution_count": 27,
     "metadata": {},
     "output_type": "execute_result"
    }
   ],
   "source": [
    "@time sm(x->x^3-2.,1000)"
   ]
  },
  {
   "cell_type": "code",
   "execution_count": 30,
   "id": "411ce5c1",
   "metadata": {},
   "outputs": [
    {
     "name": "stdout",
     "output_type": "stream",
     "text": [
      "  0.000072 seconds (3.98 k allocations: 77.828 KiB)\n"
     ]
    },
    {
     "data": {
      "text/plain": [
       "2.50500247998e11"
      ]
     },
     "execution_count": 30,
     "metadata": {},
     "output_type": "execute_result"
    }
   ],
   "source": [
    "@time sm(fd1)"
   ]
  },
  {
   "cell_type": "code",
   "execution_count": 34,
   "id": "6cadd506",
   "metadata": {},
   "outputs": [
    {
     "data": {
      "text/plain": [
       "fdat(var\"#49#50\"(), 1000)"
      ]
     },
     "execution_count": 34,
     "metadata": {},
     "output_type": "execute_result"
    }
   ],
   "source": [
    "fd1=fdat(x->x^3-2.,1000)"
   ]
  },
  {
   "cell_type": "code",
   "execution_count": 37,
   "id": "ed15cc17",
   "metadata": {},
   "outputs": [
    {
     "name": "stdout",
     "output_type": "stream",
     "text": [
      "  0.000064 seconds (3.98 k allocations: 77.828 KiB)\n"
     ]
    },
    {
     "data": {
      "text/plain": [
       "2.50500247998e11"
      ]
     },
     "execution_count": 37,
     "metadata": {},
     "output_type": "execute_result"
    }
   ],
   "source": [
    "@time sm(fd1)"
   ]
  },
  {
   "cell_type": "code",
   "execution_count": 40,
   "id": "a0342fc7",
   "metadata": {},
   "outputs": [
    {
     "data": {
      "text/plain": [
       "fdat(var\"#55#56\"(), 1000)"
      ]
     },
     "execution_count": 40,
     "metadata": {},
     "output_type": "execute_result"
    }
   ],
   "source": [
    "fd2=fdat(x->x^3-5.,1000)"
   ]
  },
  {
   "cell_type": "code",
   "execution_count": 41,
   "id": "9599b38a",
   "metadata": {},
   "outputs": [
    {
     "name": "stdout",
     "output_type": "stream",
     "text": [
      "  0.002333 seconds (4.76 k allocations: 129.146 KiB, 95.85% compilation time)\n"
     ]
    },
    {
     "data": {
      "text/plain": [
       "2.50500244995e11"
      ]
     },
     "execution_count": 41,
     "metadata": {},
     "output_type": "execute_result"
    }
   ],
   "source": [
    "@time sm(fd2)"
   ]
  },
  {
   "cell_type": "code",
   "execution_count": 42,
   "id": "bb2f334c",
   "metadata": {},
   "outputs": [
    {
     "name": "stdout",
     "output_type": "stream",
     "text": [
      "  0.006420 seconds (3.46 k allocations: 235.898 KiB, 99.27% compilation time)\n"
     ]
    },
    {
     "data": {
      "text/plain": [
       "2.50500244995e11"
      ]
     },
     "execution_count": 42,
     "metadata": {},
     "output_type": "execute_result"
    }
   ],
   "source": [
    "@time sm(x->x^3-5.,1000)"
   ]
  },
  {
   "cell_type": "code",
   "execution_count": 43,
   "id": "a855744d",
   "metadata": {},
   "outputs": [
    {
     "data": {
      "text/plain": [
       "naive_trap (generic function with 1 method)"
      ]
     },
     "execution_count": 43,
     "metadata": {},
     "output_type": "execute_result"
    }
   ],
   "source": [
    "function naive_trap(f,range,n)\n",
    "    result=0.\n",
    "    xmin=range[1]\n",
    "    xmax=range[2]\n",
    "    dx=(xmax-xmin)/n\n",
    "    for j in 1:n\n",
    "        x1=xmin+(j-1)*dx\n",
    "        x2=x1+dx\n",
    "        result+= (f(x2)+f(x1))*dx/2\n",
    "    end\n",
    "    return result\n",
    "end"
   ]
  },
  {
   "cell_type": "code",
   "execution_count": 45,
   "id": "c32b759a",
   "metadata": {},
   "outputs": [
    {
     "name": "stdout",
     "output_type": "stream",
     "text": [
      "  0.007877 seconds (7.11 k allocations: 495.314 KiB, 99.03% compilation time)\n"
     ]
    },
    {
     "data": {
      "text/plain": [
       "0.2500000149011612"
      ]
     },
     "execution_count": 45,
     "metadata": {},
     "output_type": "execute_result"
    }
   ],
   "source": [
    "@time naive_trap(x->x^3,(0.,1.),2^12)"
   ]
  },
  {
   "cell_type": "code",
   "execution_count": 46,
   "id": "afb140e6",
   "metadata": {},
   "outputs": [],
   "source": [
    "mutable struct frd\n",
    "    f\n",
    "    range\n",
    "    n\n",
    "end"
   ]
  },
  {
   "cell_type": "code",
   "execution_count": 50,
   "id": "eec5f6da",
   "metadata": {},
   "outputs": [
    {
     "data": {
      "text/plain": [
       "naive_trap (generic function with 2 methods)"
      ]
     },
     "execution_count": 50,
     "metadata": {},
     "output_type": "execute_result"
    }
   ],
   "source": [
    "function naive_trap(dat::frd)\n",
    "    f=dat.f\n",
    "    range=dat.range\n",
    "    n=dat.n\n",
    "    naive_trap(f,range,n)\n",
    "end"
   ]
  },
  {
   "cell_type": "code",
   "execution_count": 51,
   "id": "40e73b2a",
   "metadata": {},
   "outputs": [
    {
     "data": {
      "text/plain": [
       "frd(var\"#65#66\"(), (0.0, 1.0), 4096)"
      ]
     },
     "execution_count": 51,
     "metadata": {},
     "output_type": "execute_result"
    }
   ],
   "source": [
    "frd1=frd(x->x^3,(0.,1.),2^12)"
   ]
  },
  {
   "cell_type": "code",
   "execution_count": 54,
   "id": "4f756998",
   "metadata": {},
   "outputs": [
    {
     "name": "stdout",
     "output_type": "stream",
     "text": [
      "  0.000008 seconds (1 allocation: 16 bytes)\n"
     ]
    },
    {
     "data": {
      "text/plain": [
       "0.2500000149011612"
      ]
     },
     "execution_count": 54,
     "metadata": {},
     "output_type": "execute_result"
    }
   ],
   "source": [
    "@time naive_trap(frd1)"
   ]
  },
  {
   "cell_type": "code",
   "execution_count": 55,
   "id": "5b3ddb93",
   "metadata": {},
   "outputs": [
    {
     "name": "stdout",
     "output_type": "stream",
     "text": [
      "  0.005465 seconds (5.67 k allocations: 394.994 KiB, 99.09% compilation time)\n"
     ]
    },
    {
     "data": {
      "text/plain": [
       "0.2500000149011612"
      ]
     },
     "execution_count": 55,
     "metadata": {},
     "output_type": "execute_result"
    }
   ],
   "source": [
    "@time naive_trap(x->x^3,(0.,1.),2^12)"
   ]
  },
  {
   "cell_type": "code",
   "execution_count": null,
   "id": "f1e0cbe8",
   "metadata": {},
   "outputs": [],
   "source": []
  }
 ],
 "metadata": {
  "kernelspec": {
   "display_name": "Julia 1.9.1",
   "language": "julia",
   "name": "julia-1.9"
  },
  "language_info": {
   "file_extension": ".jl",
   "mimetype": "application/julia",
   "name": "julia",
   "version": "1.9.1"
  }
 },
 "nbformat": 4,
 "nbformat_minor": 5
}
