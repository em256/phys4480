{
 "cells": [
  {
   "cell_type": "code",
   "execution_count": 1,
   "id": "02f80867",
   "metadata": {},
   "outputs": [],
   "source": [
    "using ITensors"
   ]
  },
  {
   "cell_type": "code",
   "execution_count": 2,
   "id": "9a35d0c6",
   "metadata": {},
   "outputs": [
    {
     "data": {
      "text/plain": [
       "3-element Vector{Index{Int64}}:\n",
       " (dim=2|id=312|\"site\")\n",
       " (dim=2|id=22|\"site\")\n",
       " (dim=2|id=117|\"site\")"
      ]
     },
     "execution_count": 2,
     "metadata": {},
     "output_type": "execute_result"
    }
   ],
   "source": [
    "myinds=[Index(2,\"site\"),Index(2,\"site\"),Index(2,\"site\")]"
   ]
  },
  {
   "cell_type": "code",
   "execution_count": 3,
   "id": "f2761372",
   "metadata": {},
   "outputs": [
    {
     "data": {
      "text/plain": [
       "3-element Vector{ITensor}:\n",
       " ITensor ord=2\n",
       "Dim 1: (dim=2|id=312|\"site\")'\n",
       "Dim 2: (dim=2|id=312|\"site\")\n",
       "NDTensors.Dense{Float64, Vector{Float64}}\n",
       " 2×2\n",
       " 1.0   0.0\n",
       " 0.0  -1.0\n",
       " ITensor ord=2\n",
       "Dim 1: (dim=2|id=22|\"site\")'\n",
       "Dim 2: (dim=2|id=22|\"site\")\n",
       "NDTensors.Dense{Float64, Vector{Float64}}\n",
       " 2×2\n",
       " 1.0   0.0\n",
       " 0.0  -1.0\n",
       " ITensor ord=2\n",
       "Dim 1: (dim=2|id=117|\"site\")'\n",
       "Dim 2: (dim=2|id=117|\"site\")\n",
       "NDTensors.Dense{Float64, Vector{Float64}}\n",
       " 2×2\n",
       " 1.0   0.0\n",
       " 0.0  -1.0"
      ]
     },
     "execution_count": 3,
     "metadata": {},
     "output_type": "execute_result"
    }
   ],
   "source": [
    "ops=[op([1 0;0 -1],i) for i in myinds]"
   ]
  },
  {
   "cell_type": "code",
   "execution_count": 4,
   "id": "c48e83b0",
   "metadata": {},
   "outputs": [
    {
     "data": {
      "text/plain": [
       "MPO\n",
       "[1] ((dim=2|id=312|\"site\")', (dim=2|id=312|\"site\"))\n",
       "[2] ((dim=2|id=22|\"site\")', (dim=2|id=22|\"site\"))\n",
       "[3] ((dim=2|id=117|\"site\")', (dim=2|id=117|\"site\"))\n"
      ]
     },
     "execution_count": 4,
     "metadata": {},
     "output_type": "execute_result"
    }
   ],
   "source": [
    "m1=MPO(ops)"
   ]
  },
  {
   "cell_type": "code",
   "execution_count": 6,
   "id": "03eea041",
   "metadata": {},
   "outputs": [
    {
     "data": {
      "text/plain": [
       "MPS\n",
       "[1] ((dim=1|id=432|\"Link,l=1\"), (dim=2|id=312|\"site\"))\n",
       "[2] ((dim=1|id=432|\"Link,l=1\"), (dim=2|id=22|\"site\"), (dim=1|id=411|\"Link,l=2\"))\n",
       "[3] ((dim=1|id=411|\"Link,l=2\"), (dim=2|id=117|\"site\"))\n"
      ]
     },
     "execution_count": 6,
     "metadata": {},
     "output_type": "execute_result"
    }
   ],
   "source": [
    "psi=MPS(myinds)"
   ]
  },
  {
   "cell_type": "code",
   "execution_count": 11,
   "id": "d41de2fd",
   "metadata": {},
   "outputs": [
    {
     "data": {
      "text/plain": [
       "((dim=2|id=312|\"site\"),)"
      ]
     },
     "execution_count": 11,
     "metadata": {},
     "output_type": "execute_result"
    }
   ],
   "source": [
    "inds(psi[1],\"site\")"
   ]
  },
  {
   "cell_type": "code",
   "execution_count": 13,
   "id": "3b433460",
   "metadata": {},
   "outputs": [
    {
     "data": {
      "text/plain": [
       "2-element Vector{Index{Int64}}:\n",
       " (dim=1|id=422|\"link\")\n",
       " (dim=1|id=300|\"link\")"
      ]
     },
     "execution_count": 13,
     "metadata": {},
     "output_type": "execute_result"
    }
   ],
   "source": [
    "bonds=[Index(1,\"link\"),Index(1,\"link\")]"
   ]
  },
  {
   "cell_type": "code",
   "execution_count": 14,
   "id": "01ee527e",
   "metadata": {},
   "outputs": [
    {
     "data": {
      "text/plain": [
       "ITensor ord=2 (dim=2|id=312|\"site\") (dim=1|id=422|\"link\")\n",
       "NDTensors.Dense{Float64, Vector{Float64}}"
      ]
     },
     "execution_count": 14,
     "metadata": {},
     "output_type": "execute_result"
    }
   ],
   "source": [
    "psi[1]=onehot(myinds[1]=>1,bonds[1]=>1)"
   ]
  },
  {
   "cell_type": "code",
   "execution_count": 15,
   "id": "fad080a5",
   "metadata": {},
   "outputs": [
    {
     "data": {
      "text/plain": [
       "ITensor ord=3 (dim=2|id=22|\"site\") (dim=1|id=422|\"link\") (dim=1|id=300|\"link\")\n",
       "NDTensors.Dense{Float64, Vector{Float64}}"
      ]
     },
     "execution_count": 15,
     "metadata": {},
     "output_type": "execute_result"
    }
   ],
   "source": [
    "psi[2]=onehot(myinds[2]=>1,bonds[1]=>1,bonds[2]=>1)"
   ]
  },
  {
   "cell_type": "code",
   "execution_count": 16,
   "id": "4f6a6c13",
   "metadata": {},
   "outputs": [
    {
     "data": {
      "text/plain": [
       "ITensor ord=2 (dim=2|id=117|\"site\") (dim=1|id=300|\"link\")\n",
       "NDTensors.Dense{Float64, Vector{Float64}}"
      ]
     },
     "execution_count": 16,
     "metadata": {},
     "output_type": "execute_result"
    }
   ],
   "source": [
    "psi[3]=onehot(myinds[3]=>1,bonds[2]=>1)"
   ]
  },
  {
   "cell_type": "code",
   "execution_count": 17,
   "id": "f8bd58bc",
   "metadata": {},
   "outputs": [
    {
     "data": {
      "text/plain": [
       "MPS\n",
       "[1] ((dim=2|id=312|\"site\"), (dim=1|id=412|\"link\"))\n",
       "[2] ((dim=2|id=22|\"site\"), (dim=1|id=529|\"link\"), (dim=1|id=412|\"link\"))\n",
       "[3] ((dim=2|id=117|\"site\"), (dim=1|id=529|\"link\"))\n"
      ]
     },
     "execution_count": 17,
     "metadata": {},
     "output_type": "execute_result"
    }
   ],
   "source": [
    "orthogonalize!(psi,1)"
   ]
  },
  {
   "cell_type": "code",
   "execution_count": 18,
   "id": "a8a6f1e7",
   "metadata": {},
   "outputs": [
    {
     "data": {
      "text/plain": [
       "MPO\n",
       "[1] ((dim=2|id=312|\"site\")', (dim=2|id=312|\"site\"))\n",
       "[2] ((dim=2|id=22|\"site\")', (dim=2|id=22|\"site\"))\n",
       "[3] ((dim=2|id=117|\"site\")', (dim=2|id=117|\"site\"))\n"
      ]
     },
     "execution_count": 18,
     "metadata": {},
     "output_type": "execute_result"
    }
   ],
   "source": [
    "m1"
   ]
  },
  {
   "cell_type": "code",
   "execution_count": 20,
   "id": "115a627d",
   "metadata": {},
   "outputs": [
    {
     "data": {
      "text/plain": [
       "MPS\n",
       "[1] ((dim=1|id=321|\"link\"), (dim=2|id=312|\"site\"))\n",
       "[2] ((dim=2|id=22|\"site\"), (dim=1|id=58|\"link\"), (dim=1|id=321|\"link\"))\n",
       "[3] ((dim=2|id=117|\"site\"), (dim=1|id=58|\"link\"))\n"
      ]
     },
     "execution_count": 20,
     "metadata": {},
     "output_type": "execute_result"
    }
   ],
   "source": [
    "apply(m1,psi)"
   ]
  },
  {
   "cell_type": "code",
   "execution_count": 22,
   "id": "a7a675f2",
   "metadata": {},
   "outputs": [
    {
     "data": {
      "text/plain": [
       "1.0"
      ]
     },
     "execution_count": 22,
     "metadata": {},
     "output_type": "execute_result"
    }
   ],
   "source": [
    "inner(prime(dag(psi)),m1,psi)"
   ]
  },
  {
   "cell_type": "code",
   "execution_count": 25,
   "id": "9ec42295",
   "metadata": {},
   "outputs": [
    {
     "data": {
      "text/plain": [
       "MPS\n",
       "[1] ((dim=2|id=312|\"site\")', (dim=1|id=412|\"link\")')\n",
       "[2] ((dim=2|id=22|\"site\")', (dim=1|id=529|\"link\")', (dim=1|id=412|\"link\")')\n",
       "[3] ((dim=2|id=117|\"site\")', (dim=1|id=529|\"link\")')\n"
      ]
     },
     "execution_count": 25,
     "metadata": {},
     "output_type": "execute_result"
    }
   ],
   "source": [
    "dag(prime(psi))"
   ]
  },
  {
   "cell_type": "code",
   "execution_count": 26,
   "id": "6126d3b1",
   "metadata": {},
   "outputs": [
    {
     "data": {
      "text/plain": [
       "MPS\n",
       "[1] ((dim=2|id=312|\"site\")', (dim=1|id=412|\"link\")')\n",
       "[2] ((dim=2|id=22|\"site\")', (dim=1|id=529|\"link\")', (dim=1|id=412|\"link\")')\n",
       "[3] ((dim=2|id=117|\"site\")', (dim=1|id=529|\"link\")')\n"
      ]
     },
     "execution_count": 26,
     "metadata": {},
     "output_type": "execute_result"
    }
   ],
   "source": [
    "psi'"
   ]
  },
  {
   "cell_type": "code",
   "execution_count": 28,
   "id": "842d739a",
   "metadata": {},
   "outputs": [
    {
     "data": {
      "text/plain": [
       "MPS\n",
       "[1] ((dim=2|id=312|\"site\")', (dim=1|id=605|\"link\"))\n",
       "[2] ((dim=2|id=22|\"site\")', (dim=1|id=344|\"link\"), (dim=1|id=605|\"link\"))\n",
       "[3] ((dim=2|id=117|\"site\")', (dim=1|id=344|\"link\"))\n"
      ]
     },
     "execution_count": 28,
     "metadata": {},
     "output_type": "execute_result"
    }
   ],
   "source": [
    "dif1=dag(prime(psi))-psi'"
   ]
  },
  {
   "cell_type": "code",
   "execution_count": 29,
   "id": "91cf8cb0",
   "metadata": {},
   "outputs": [
    {
     "name": "stdout",
     "output_type": "stream",
     "text": [
      "dif1[1] = ITensor ord=2\n",
      "Dim 1: (dim=2|id=312|\"site\")'\n",
      "Dim 2: (dim=1|id=605|\"link\")\n",
      "NDTensors.Dense{Float64, Vector{Float64}}\n",
      " 2×1\n",
      " 0.0\n",
      " 0.0\n"
     ]
    },
    {
     "data": {
      "text/plain": [
       "ITensor ord=2 (dim=2|id=312|\"site\")' (dim=1|id=605|\"link\")\n",
       "NDTensors.Dense{Float64, Vector{Float64}}"
      ]
     },
     "execution_count": 29,
     "metadata": {},
     "output_type": "execute_result"
    }
   ],
   "source": [
    "@show dif1[1]"
   ]
  },
  {
   "cell_type": "code",
   "execution_count": 32,
   "id": "552d92e3",
   "metadata": {},
   "outputs": [
    {
     "name": "stdout",
     "output_type": "stream",
     "text": [
      "dif1[2] = ITensor ord=3\n",
      "Dim 1: (dim=2|id=22|\"site\")'\n",
      "Dim 2: (dim=1|id=344|\"link\")\n",
      "Dim 3: (dim=1|id=605|\"link\")\n",
      "NDTensors.Dense{Float64, Vector{Float64}}\n",
      " 2×1×1\n",
      "[:, :, 1] =\n",
      " -1.0\n",
      " -0.0\n"
     ]
    },
    {
     "data": {
      "text/plain": [
       "ITensor ord=3 (dim=2|id=22|\"site\")' (dim=1|id=344|\"link\") (dim=1|id=605|\"link\")\n",
       "NDTensors.Dense{Float64, Vector{Float64}}"
      ]
     },
     "execution_count": 32,
     "metadata": {},
     "output_type": "execute_result"
    }
   ],
   "source": [
    "@show dif1[2]"
   ]
  },
  {
   "cell_type": "code",
   "execution_count": null,
   "id": "49b3b06c",
   "metadata": {},
   "outputs": [],
   "source": []
  }
 ],
 "metadata": {
  "@webio": {
   "lastCommId": null,
   "lastKernelId": null
  },
  "kernelspec": {
   "display_name": "Julia 1.9.1",
   "language": "julia",
   "name": "julia-1.9"
  },
  "language_info": {
   "file_extension": ".jl",
   "mimetype": "application/julia",
   "name": "julia",
   "version": "1.9.1"
  }
 },
 "nbformat": 4,
 "nbformat_minor": 5
}
