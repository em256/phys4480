{
 "cells": [
  {
   "cell_type": "markdown",
   "id": "f6c65db3-efba-462a-88d6-91d6c5127288",
   "metadata": {},
   "source": [
    "This is a quick demonstration of soloving the 1D Gross-Pittaevii equation in a periodic potential"
   ]
  },
  {
   "cell_type": "markdown",
   "id": "26386351-65e0-4584-8ce2-0093ac3636bd",
   "metadata": {},
   "source": [
    "# Solving the 1D Gross-Pittaevskii Equation"
   ]
  },
  {
   "cell_type": "markdown",
   "id": "7dcc7de8-fc37-45a6-a6f7-51c1950735ba",
   "metadata": {},
   "source": [
    "We want to minimize\n",
    "$$\n",
    "E=\\int_0^Ldx \\frac{\\hbar}{2m} |\\partial_x \\psi(x)|^2 + V(x)|\\psi(x)|^2 + \\frac{g N}{2} |\\psi(x)|^4.\n",
    "$$\n",
    "We first adimensionalize, measuring $x$ in units of $L$, and $E$ in units of $E_0=\\hbar^2/(2m L^2)$,\n",
    "$$\n",
    "\\frac{E}{E_0}=\\int_0^1dy  |\\partial_y \\phi(y)|^2 + \\frac{V(y L)}{E_0}|\\phi(y)|^2 + \\frac{g N}{2 L E_0} |\\phi(y)|^4.\n",
    "$$\n",
    "Here $y=x/L$ and $\\phi=\\sqrt{L} \\psi$.\n",
    "\n",
    "The normalization is\n",
    "$$\n",
    "\\int dx\\,|\\psi(x)|^2=1,\n",
    "$$\n",
    "which is equivalent to\n",
    "$$\n",
    "\\int dy\\,|\\phi(y)|^2=1,\n",
    "$$"
   ]
  },
  {
   "cell_type": "markdown",
   "id": "5a12d24e-29af-4699-8057-ae9af1eb9403",
   "metadata": {},
   "source": [
    "We will store $\\phi$ as a vector $(\\phi_1,\\phi_2,\\cdots,\\phi_n)$ corresponding to the value of the wavefunction at each point.  Similarly we will store the potential $V$ as a vector of points.   If we use trapezoid rule for the integral, and use periodic boundary conditions, we have\n",
    "$$\n",
    "\\tilde E= \\frac{1}{n}\\sum_{j=1}^n n^2|\\phi_{j+1}-\\phi_j|^2 + \\tilde V_j |\\phi_j|^2+\\frac{\\eta}{2} |\\phi_j|^4 \n",
    "$$\n",
    "Here $\\tilde V_j= V(jL/n)/E_0$, and $\\eta=g N/(L E_0)$."
   ]
  },
  {
   "cell_type": "markdown",
   "id": "93a8c068-1f53-4086-a38f-e452f6520ec2",
   "metadata": {},
   "source": [
    "One tricky thing is how to implement the constraint.  One simple way to do this is just start out our energy function by rescaling\n",
    "$$\n",
    "\\phi\\to\\frac{\\phi}{\\sum_j |\\phi_j|^2/n}\n",
    "$$\n",
    "This can be thought of as projecting on to the constrained manifold."
   ]
  },
  {
   "cell_type": "markdown",
   "id": "0fec67d3-b139-404b-9f72-c8521ae23842",
   "metadata": {},
   "source": [
    "We can write this very compactly by using \"high-level\" syntax.  We construct $\\phi$ and $V$ as Vectors.  The conjugate transpose of $\\phi$ is $\\phi'$.  The function `circshift` circularly permutes the elements of a vector.  The `*` operator is matrix multiplication."
   ]
  },
  {
   "cell_type": "code",
   "execution_count": 2,
   "id": "71f67eff-2607-47ce-b516-7f116f256ae5",
   "metadata": {},
   "outputs": [],
   "source": [
    "#Import commands to overload\n",
    "import Base: *,+,-,/,keys,iterate,length,getindex,show,repr,zero\n",
    "#\n",
    "\n",
    "struct coovec{T,N} <:AbstractArray{T,N} \n",
    "    storage :: Dict{NTuple{N,Int64},T}\n",
    "end\n",
    "\n",
    "function coovec(keys::AbstractArray{NTuple{N,Int64}},values::AbstractArray{T,M}) where {T,N,M}\n",
    "    storage=Dict{NTuple{N,Int64},T}\n",
    "    for k in eachindex(keys)\n",
    "        storage[k]=values[k]\n",
    "    end\n",
    "end\n",
    "\n",
    "# Iteration and indexing\n",
    "Base.iterate(k::coovec)=Base.iterate(k.storage)\n",
    "Base.iterate(k::coovec,n)=Base.iterate(k.storage,n)\n",
    "Base.length(k::coovec)=Base.length(k.storage)\n",
    "Base.keys(k::coovec) = Base.keys(k.storage)\n",
    "\n",
    "function Base.getindex(k::coovec{T,N},key::NTuple{N,Int64}) where {T,N}\n",
    "    if key in k.storage\n",
    "        return Base.getindex(k.storage,val)\n",
    "    end\n",
    "    return zero(T)\n",
    "end\n",
    "\n",
    "Base.getindex(k::coovec{T,N},coords...)=Base.getindex(k,coords)\n",
    "Base.getindex(k::coovec{T,N},i::CartesianIndex)=Base.getindex(k,Tuple(i)\n",
    "\n",
    "\n",
    "function +(k1::coovec,k2::coovec) \n",
    "    d=copy(k1.storage)\n",
    "    for key in keys(k2) \n",
    "        if (key in keys(k1))\n",
    "            d[key]+=k2[key]\n",
    "        else\n",
    "            d[key]=k2[key]\n",
    "        end\n",
    "        if d[key]===zero(d[key])\n",
    "            delete!(d,key)\n",
    "        end\n",
    "    end\n",
    "    return ket(d)\n",
    "end\n",
    "    \n",
    "\n",
    "Base.display(c::coovec)=Base.display(c.storage)\n",
    "Base.show(io::IO,c::coovec)=Base.show(io,c.storage)\n",
    "Base.show(io::IO,m::MIME{Symbol(\"text/plain\")}, c::coovec)=Base.show(io, m,c.storage)"
   ]
  },
  {
   "cell_type": "code",
   "execution_count": 15,
   "id": "e3d5c4ae-3bc3-4405-8d62-17bf8f9438df",
   "metadata": {},
   "outputs": [
    {
     "data": {
      "text/plain": [
       "(1, 2, 3)"
      ]
     },
     "execution_count": 15,
     "metadata": {},
     "output_type": "execute_result"
    }
   ],
   "source": [
    "Tuple(CartesianIndex(1,2,3))"
   ]
  },
  {
   "cell_type": "code",
   "execution_count": 6,
   "id": "7219505a-1ffe-4b8a-9be7-d236cd1d0312",
   "metadata": {},
   "outputs": [
    {
     "data": {
      "text/plain": [
       "Dict{Tuple{Int64}, Float64} with 2 entries:\n",
       "  (2,) => 10.0\n",
       "  (1,) => 5.0"
      ]
     },
     "execution_count": 6,
     "metadata": {},
     "output_type": "execute_result"
    }
   ],
   "source": [
    "d1=Dict((1,)=>5.,(2,)=>10.)"
   ]
  },
  {
   "cell_type": "code",
   "execution_count": 8,
   "id": "3fd717bf-0f14-425d-bf36-ae991e29312d",
   "metadata": {},
   "outputs": [
    {
     "data": {
      "text/plain": [
       "KeySet for a Dict{Tuple{Int64}, Float64} with 2 entries. Keys:\n",
       "  (2,)\n",
       "  (1,)"
      ]
     },
     "execution_count": 8,
     "metadata": {},
     "output_type": "execute_result"
    }
   ],
   "source": [
    "for k in keys(c1)"
   ]
  },
  {
   "cell_type": "code",
   "execution_count": 4,
   "id": "2f4b0fd7-d77c-487d-b036-f642198b3e09",
   "metadata": {},
   "outputs": [],
   "source": [
    "c1=coovec(Dict((1,)=>5.,(2,)=>10.));"
   ]
  },
  {
   "cell_type": "code",
   "execution_count": 5,
   "id": "264798ac-fbc1-423d-be3b-0da7ced29815",
   "metadata": {},
   "outputs": [
    {
     "ename": "LoadError",
     "evalue": "AbstractDict collections only contain Pairs;\nEither look for e.g. A=>B instead, or use the `keys` or `values`\nfunction if you are looking for a key or value respectively.",
     "output_type": "error",
     "traceback": [
      "AbstractDict collections only contain Pairs;\nEither look for e.g. A=>B instead, or use the `keys` or `values`\nfunction if you are looking for a key or value respectively.",
      "",
      "Stacktrace:",
      " [1] error(s::String)",
      "   @ Base ./error.jl:35",
      " [2] in(p::Tuple{Int64}, a::Dict{Tuple{Int64}, Float64})",
      "   @ Base ./abstractdict.jl:28",
      " [3] getindex(k::coovec{Float64, 1}, key::Tuple{Int64})",
      "   @ Main ./In[2]:23",
      " [4] +(k1::coovec{Float64, 1}, k2::coovec{Float64, 1})",
      "   @ Main ./In[2]:33",
      " [5] top-level scope",
      "   @ In[5]:1"
     ]
    }
   ],
   "source": [
    "c1+c1"
   ]
  },
  {
   "cell_type": "code",
   "execution_count": 1,
   "id": "d693ae13-c2ae-4c9d-81b8-18389286dcf4",
   "metadata": {},
   "outputs": [
    {
     "data": {
      "text/plain": [
       "energy (generic function with 1 method)"
      ]
     },
     "execution_count": 1,
     "metadata": {},
     "output_type": "execute_result"
    }
   ],
   "source": [
    "function energy(phi,V,eta)\n",
    "    n=length(phi)\n",
    "    norm=(phi)'*(phi)/n\n",
    "    ϕ=phi/sqrt(norm)          # scaled wavefunction\n",
    "    dϕ=n*(circshift(ϕ,1)-ϕ)   # difference between wavefunctions at two sites\n",
    "    (dϕ'*dϕ+ ϕ'*(V.*ϕ)+(eta/2)*(ϕ.*ϕ)'*(ϕ.*ϕ))/n\n",
    "end"
   ]
  },
  {
   "cell_type": "markdown",
   "id": "58656405-13c9-40cb-80f1-0fd9749f0cb4",
   "metadata": {},
   "source": [
    "It is useful to see how to construct these functions using low-level commands, and compartmentalizing it a bit.  I'll also show you how to debug and validate them."
   ]
  },
  {
   "cell_type": "markdown",
   "id": "458a6822-271e-4f21-804d-b41c92672af4",
   "metadata": {},
   "source": [
    "Note:  If you are working in something like Python or Mathematica, you want to use this sort of high-level syntax.  In Julia or C, the low level works equally well."
   ]
  },
  {
   "cell_type": "code",
   "execution_count": 2,
   "id": "cfc3670c-816f-405f-bffb-e9cd0d87d77f",
   "metadata": {},
   "outputs": [
    {
     "data": {
      "text/plain": [
       "alten1 (generic function with 1 method)"
      ]
     },
     "execution_count": 2,
     "metadata": {},
     "output_type": "execute_result"
    }
   ],
   "source": [
    "#low level, and compartmentalized version of energy\n",
    "function alten1(phi,V,eta)\n",
    "    norm=(phi)'*(phi)/length(phi)\n",
    "    return barekin1(phi)/norm+\n",
    "            barepot1(phi,V)/norm+\n",
    "            bareint1(phi,eta)/norm^2\n",
    "end"
   ]
  },
  {
   "cell_type": "code",
   "execution_count": 3,
   "id": "59eaa31c-019b-4575-82ea-213f1ae41d97",
   "metadata": {},
   "outputs": [
    {
     "data": {
      "text/plain": [
       "barekin1 (generic function with 1 method)"
      ]
     },
     "execution_count": 3,
     "metadata": {},
     "output_type": "execute_result"
    }
   ],
   "source": [
    "function barekin1(phi)\n",
    "    n=length(phi)\n",
    "    result=(n*abs(phi[1]-phi[n])^2)\n",
    "    for i in 1:n-1 #interior points\n",
    "        result+=n*abs(phi[i+1]-phi[i])^2\n",
    "    end\n",
    "    return result\n",
    "end"
   ]
  },
  {
   "cell_type": "code",
   "execution_count": 4,
   "id": "9c0190a9-ee82-4bc5-b9af-69f309f9760d",
   "metadata": {},
   "outputs": [
    {
     "data": {
      "text/plain": [
       "barepot1 (generic function with 1 method)"
      ]
     },
     "execution_count": 4,
     "metadata": {},
     "output_type": "execute_result"
    }
   ],
   "source": [
    "function barepot1(phi,V)\n",
    "    n=length(phi)\n",
    "    result=(V[n]*abs(phi[n])^2/n)\n",
    "    for i in 1:n-1 #interior points\n",
    "        result+=(V[i]*abs(phi[i])^2/n)\n",
    "    end\n",
    "    return result\n",
    "end"
   ]
  },
  {
   "cell_type": "code",
   "execution_count": 5,
   "id": "64e5928f-206c-4afc-8da7-03e34115052a",
   "metadata": {},
   "outputs": [
    {
     "data": {
      "text/plain": [
       "bareint1 (generic function with 1 method)"
      ]
     },
     "execution_count": 5,
     "metadata": {},
     "output_type": "execute_result"
    }
   ],
   "source": [
    "function bareint1(phi,eta)\n",
    "    n=length(phi)\n",
    "    result=(eta/2)*(abs(phi[n])^4/n)\n",
    "    for i in 1:n-1 #interior points\n",
    "        result+=(eta/2)*(abs(phi[i])^4/n)\n",
    "    end\n",
    "    return result\n",
    "end"
   ]
  },
  {
   "cell_type": "markdown",
   "id": "36c74534-19a6-43bf-822d-6013eff95a76",
   "metadata": {},
   "source": [
    "### Test Energy Functions"
   ]
  },
  {
   "cell_type": "markdown",
   "id": "38443e01-2331-4e34-b349-58e10eee7905",
   "metadata": {},
   "source": [
    "First lets take $\\phi$ and $V$ to be uniform.  In that case the kinetic energy should vanish, and the only terms are the potential and the interactions"
   ]
  },
  {
   "cell_type": "code",
   "execution_count": 6,
   "id": "4818ed81-1752-431d-97c2-4d3ea0c8d2fa",
   "metadata": {},
   "outputs": [
    {
     "data": {
      "text/plain": [
       "uniformenergy (generic function with 1 method)"
      ]
     },
     "execution_count": 6,
     "metadata": {},
     "output_type": "execute_result"
    }
   ],
   "source": [
    "uniformenergy(V,g)=sum(V)/length(V) + g/2"
   ]
  },
  {
   "cell_type": "code",
   "execution_count": 7,
   "id": "68cf2115-7273-43dd-a4c9-f5c6415d2057",
   "metadata": {},
   "outputs": [
    {
     "name": "stdout",
     "output_type": "stream",
     "text": [
      "energy(uniform10, 0uniform10, 0) = 0.0\n",
      "alten1(uniform10, 0uniform10, 0) = 0.0\n",
      "uniformenergy(0uniform10, 0) = 0.0\n",
      "\n",
      "energy(uniform10, uniform10, 0) = 1.0\n",
      "alten1(uniform10, uniform10, 0) = 0.9999999999999999\n",
      "uniformenergy(uniform10, 0) = 1.0\n",
      "\n",
      "energy(uniform10, 2uniform10, 0) = 2.0\n",
      "alten1(uniform10, 2uniform10, 0) = 1.9999999999999998\n",
      "uniformenergy(2uniform10, 0) = 2.0\n",
      "\n",
      "energy(2uniform10, 0uniform10, 0) = 0.0\n",
      "alten1(2uniform10, 0uniform10, 0) = 0.0\n",
      "uniformenergy(0uniform10, 0) = 0.0\n",
      "\n",
      "energy(2uniform10, uniform10, 0) = 1.0\n",
      "alten1(2uniform10, uniform10, 0) = 0.9999999999999999\n",
      "uniformenergy(uniform10, 0) = 1.0\n",
      "\n",
      "energy(2uniform10, 2uniform10, 0) = 2.0\n",
      "alten1(2uniform10, 2uniform10, 0) = 1.9999999999999998\n",
      "uniformenergy(2uniform10, 0) = 2.0\n",
      "\n",
      "energy(2uniform10, 3uniform10, 5) = 5.5\n",
      "alten1(2uniform10, 3uniform10, 5) = 5.5\n",
      "uniformenergy(3uniform10, 5) = 5.5\n",
      "\n"
     ]
    }
   ],
   "source": [
    "uniform10=ones(10)\n",
    "uniform100=ones(100)\n",
    "@show energy(uniform10,0*uniform10,0) alten1(uniform10,0*uniform10,0) uniformenergy(0*uniform10,0) \n",
    "println()\n",
    "@show energy(uniform10,uniform10,0) alten1(uniform10,uniform10,0) uniformenergy(uniform10,0) \n",
    "println()\n",
    "@show energy(uniform10,2*uniform10,0) alten1(uniform10,2*uniform10,0) uniformenergy(2*uniform10,0)\n",
    "println()\n",
    "@show energy(2*uniform10,0*uniform10,0) alten1(2*uniform10,0*uniform10,0) uniformenergy(0*uniform10,0)\n",
    "println()\n",
    "@show energy(2*uniform10,uniform10,0) alten1(2*uniform10,uniform10,0) uniformenergy(uniform10,0)\n",
    "println()\n",
    "@show energy(2*uniform10,2*uniform10,0) alten1(2*uniform10,2*uniform10,0)  uniformenergy(2*uniform10,0)\n",
    "println()\n",
    "@show energy(2uniform10,3uniform10,5) alten1(2uniform10,3uniform10,5) uniformenergy(3*uniform10,5) \n",
    "println()"
   ]
  },
  {
   "cell_type": "markdown",
   "id": "0d11ce00-2d81-4b58-ac38-19337b143fda",
   "metadata": {},
   "source": [
    "Next we can check the kinetic energy.  If $\\phi(x)=\\cos(2\\pi x)$ then\n",
    "$$\n",
    "\\int \\phi'(x)^2\\, dx = (2\\pi)^2\n",
    "$$"
   ]
  },
  {
   "cell_type": "code",
   "execution_count": 8,
   "id": "a217c540-b460-483f-a899-7f8cdae2945e",
   "metadata": {},
   "outputs": [
    {
     "name": "stdout",
     "output_type": "stream",
     "text": [
      "energy(cosphi, 0uniform10, 0) = 38.19660112501052\n",
      "alten1(cosphi, 0uniform10, 0) = 38.19660112501051\n",
      "(2pi) ^ 2 = 39.47841760435743\n",
      "\n",
      "energy(cosphi100, 0uniform100, 0) = 39.465431434568764\n",
      "alten1(cosphi100, 0uniform100, 0) = 39.46543143456875\n",
      "(2pi) ^ 2 = 39.47841760435743\n"
     ]
    },
    {
     "data": {
      "text/plain": [
       "39.47841760435743"
      ]
     },
     "execution_count": 8,
     "metadata": {},
     "output_type": "execute_result"
    }
   ],
   "source": [
    "cosphi=[cos(2pi*x/10) for x in 1:10]\n",
    "@show energy(cosphi,0*uniform10,0) alten1(cosphi,0*uniform10,0) (2*pi)^2\n",
    "println()\n",
    "cosphi100=[cos(2pi*x/100) for x in 1:100]\n",
    "@show energy(cosphi100,0*uniform100,0) alten1(cosphi100,0*uniform100,0) (2*pi)^2"
   ]
  },
  {
   "cell_type": "markdown",
   "id": "cf9502b8-fa79-4e5f-a79a-22e7c262b3f8",
   "metadata": {},
   "source": [
    "Seems reasonable"
   ]
  },
  {
   "cell_type": "markdown",
   "id": "841cd2ab-a8de-4593-9cfd-77ba879ec42c",
   "metadata": {},
   "source": [
    "Finally lets compare the timing of our two methods"
   ]
  },
  {
   "cell_type": "code",
   "execution_count": 9,
   "id": "73cb41c4-c037-4273-ae8c-d4f197e393c3",
   "metadata": {},
   "outputs": [],
   "source": [
    "randphi=randn(100000)\n",
    "randV=randn(100000);"
   ]
  },
  {
   "cell_type": "code",
   "execution_count": 10,
   "id": "3de0c25f-b2ac-4488-8275-ce19fe252c69",
   "metadata": {},
   "outputs": [
    {
     "name": "stdout",
     "output_type": "stream",
     "text": [
      "  0.041286 seconds (18.21 k allocations: 6.467 MiB, 98.04% compilation time)\n"
     ]
    },
    {
     "data": {
      "text/plain": [
       "1.998297831604465e10"
      ]
     },
     "execution_count": 10,
     "metadata": {},
     "output_type": "execute_result"
    }
   ],
   "source": [
    "@time energy(randphi,randV,0.5)"
   ]
  },
  {
   "cell_type": "code",
   "execution_count": 11,
   "id": "fd192ae6-95b9-4583-92f1-e07df568d792",
   "metadata": {},
   "outputs": [
    {
     "name": "stdout",
     "output_type": "stream",
     "text": [
      "  0.013862 seconds (7.83 k allocations: 516.641 KiB, 95.01% compilation time)\n"
     ]
    },
    {
     "data": {
      "text/plain": [
       "1.9982978316044674e10"
      ]
     },
     "execution_count": 11,
     "metadata": {},
     "output_type": "execute_result"
    }
   ],
   "source": [
    "@time alten1(randphi,randV,0.5)"
   ]
  },
  {
   "cell_type": "markdown",
   "id": "9f5efbb9-a102-4b06-9ac3-4c9f95fe54dc",
   "metadata": {},
   "source": [
    "Looks like the low-level code is about 20\\% faster.  This is not enough of a speed difference that I would worry about it.  **Caution:** If you wrote this code in Python, the low-level code would be much slower.  As much as possible use high-level constructions in Python."
   ]
  },
  {
   "cell_type": "markdown",
   "id": "80180f68-fc53-4df8-b500-526b145025eb",
   "metadata": {},
   "source": [
    "## Gradients"
   ]
  },
  {
   "cell_type": "markdown",
   "id": "a1b3f076-b6f2-4859-ab55-abd490b99518",
   "metadata": {},
   "source": [
    "If we are going to minimize this function, it is also useful to have the gradient.  We will use a trick from complex analysis, and treat $\\phi$ and $\\phi^*$ as independent"
   ]
  },
  {
   "cell_type": "markdown",
   "id": "cad5009b-55e1-4258-b3a9-45ebf070efd0",
   "metadata": {},
   "source": [
    "\\begin{align}\n",
    "\\tilde E&= \\frac{1}{n}\\sum_{j=1}^n n^2|\\phi_{j+1}-\\phi_j|^2 + \\tilde V_j |\\phi_j|^2+\\frac{\\eta}{2} |\\phi_j|^4 \\\\\n",
    "&= \\frac{1}{n}\\sum_{j=1}^n n^2 \\phi_j^* (2\\phi_j-\\phi_{j+1}-\\phi_{j-1}) + \\tilde V_j |\\phi_j|^2+\\frac{\\eta}{2} |\\phi_j|^4\n",
    "\\end{align}\n",
    "The deriviative is then\n",
    "\\begin{align}\n",
    "\\frac{\\partial \\tilde E}{\\partial \\phi_j^*}&= n(\\phi_{j}^2-\\phi_{j+1}-\\phi_{j-1})+V_j \\phi_j + \\eta |\\phi_j|^2\\phi_j.\n",
    "\\end{align}\n",
    "If we had not rescaled $\\phi$ we woud be done.  Lets write $\\phi_j=\\varphi_j/\\sqrt{N}$, and then\n",
    "\\begin{align}\n",
    "\\frac{\\partial \\tilde E}{\\partial \\varphi_j^*}\n",
    "&= \\frac{\\partial \\tilde E}{\\partial \\phi_j^*}\\frac{1}{\\sqrt{N}}-(K+V+2U)\\frac{\\phi_j}{N}\n",
    "\\end{align}\n",
    "where we have used that\n",
    "$$\n",
    "\\frac{\\partial N}{\\partial \\varphi_j^*}=\\frac{1}{n*N}\\phi_j\n",
    "$$\n",
    "In our high-level language this can be written as"
   ]
  },
  {
   "cell_type": "code",
   "execution_count": 12,
   "id": "325ca21a-ee34-4e90-a096-8ec84e388a1e",
   "metadata": {},
   "outputs": [
    {
     "data": {
      "text/plain": [
       "denergy_dphistar (generic function with 1 method)"
      ]
     },
     "execution_count": 12,
     "metadata": {},
     "output_type": "execute_result"
    }
   ],
   "source": [
    "function denergy_dphistar(phi,V,eta)\n",
    "    n=length(phi)\n",
    "    norm=(phi)'*(phi)/n\n",
    "    ϕ=phi/sqrt(norm)\n",
    "    dϕ=n*(circshift(ϕ,1)-ϕ)\n",
    "    ddϕ=n*(circshift(dϕ,-1)-dϕ)\n",
    "    (ddϕ+ (V.*ϕ)+(eta)*(conj(ϕ).*ϕ.*ϕ))/(n*sqrt(norm))- #derivative wrt ϕ'\n",
    "        (phi/norm)*(dϕ'*dϕ+ ϕ'*(V.*ϕ)+(eta)*(ϕ.*ϕ)'*(ϕ.*ϕ))/n^2 # derivative of norm\n",
    "end\n",
    "\n",
    "# for reference, the energy function was\n",
    "#\n",
    "#  function energy(phi,V,eta)\n",
    "#    n=length(phi)\n",
    "#    norm=(phi)'*(phi)/n\n",
    "#    ϕ=phi/sqrt(norm)          # scaled wavefunction\n",
    "#    dϕ=n*(circshift(ϕ,1)-ϕ)   # difference between wavefunctions at two sites\n",
    "#    (dϕ'*dϕ+ ϕ'*(V.*ϕ)+(eta/2)*(ϕ.*ϕ)'*(ϕ.*ϕ))/n\n",
    "#  end"
   ]
  },
  {
   "cell_type": "markdown",
   "id": "7e5dff5f-b832-4765-a701-c92ab5fed9ff",
   "metadata": {},
   "source": [
    "If $\\phi$ is real then we can then construct the gradient"
   ]
  },
  {
   "cell_type": "code",
   "execution_count": 13,
   "id": "f66743fa-672f-4f3f-b121-ec251e6e9dd8",
   "metadata": {},
   "outputs": [
    {
     "data": {
      "text/plain": [
       "gradenergy (generic function with 1 method)"
      ]
     },
     "execution_count": 13,
     "metadata": {},
     "output_type": "execute_result"
    }
   ],
   "source": [
    "function gradenergy(phi,V,eta)\n",
    "    de=denergy_dphistar(phi,V,eta)\n",
    "    return de + conj(de)\n",
    "end"
   ]
  },
  {
   "cell_type": "markdown",
   "id": "721d67f1-b072-48fc-ae27-2a916b6cda35",
   "metadata": {},
   "source": [
    "Now lets do the same thing using our low-level code"
   ]
  },
  {
   "cell_type": "code",
   "execution_count": 21,
   "id": "5b2e182b-9c7d-4d79-a33e-feac80b1ff62",
   "metadata": {},
   "outputs": [
    {
     "data": {
      "text/plain": [
       "dalten_dphistar1 (generic function with 1 method)"
      ]
     },
     "execution_count": 21,
     "metadata": {},
     "output_type": "execute_result"
    }
   ],
   "source": [
    "function dalten_dphistar1(phi,V,eta)\n",
    "    norm=(phi)'*(phi)/length(phi)\n",
    "    dnorm_dphistar=(phi)/length(phi)\n",
    "    #\n",
    "    # Lets first calculate the contribution from d Norm / d phi^*\n",
    "    #\n",
    "    coef= -barekin1(phi)/norm^2-# derivative of kinetic wrt norm\n",
    "        barepot1(phi,V)/norm^2- # derivative of potential wrt norm\n",
    "        2*bareint1(phi,eta)/norm^3 # derivative of int wrt norm\n",
    "    result=coef*dnorm_dphistar\n",
    "    #\n",
    "    # Now the derivitives of each of the bare quantities\n",
    "    #\n",
    "    add_dbarekin_dphistar1!(result,phi,1/norm)\n",
    "    add_dbarepot_dphistar1!(result,phi,V,1/norm)\n",
    "    add_dbareint_dphistar1!(result,phi,eta,1/norm^2)\n",
    "    return result\n",
    "end\n",
    "\n",
    "# For comparison, here was the energy code\n",
    "#\n",
    "#function alten1(phi,V,eta)\n",
    "#    norm=(phi)'*(phi)/length(phi)\n",
    "#    return barekin1(phi)/norm+\n",
    "#            barepot1(phi,V)/norm+\n",
    "#            bareint1(phi,eta)/norm^2\n",
    "#end"
   ]
  },
  {
   "cell_type": "code",
   "execution_count": 22,
   "id": "eba763d9-62f1-46fc-8d9a-ac01082f8253",
   "metadata": {},
   "outputs": [
    {
     "data": {
      "text/plain": [
       "add_dbarekin_dphistar1! (generic function with 1 method)"
      ]
     },
     "execution_count": 22,
     "metadata": {},
     "output_type": "execute_result"
    }
   ],
   "source": [
    "function add_dbarekin_dphistar1!(result,phi,scale)\n",
    "    n=length(phi)\n",
    "    result[n]+=(2*n*phi[n]-n*phi[1])*scale\n",
    "    result[1]+=-n*phi[n]*scale\n",
    "    for i in 1:n-1 #interior points\n",
    "        result[i]+=2*n*phi[i]*scale\n",
    "        result[i]+=-n*phi[i+1]*scale\n",
    "        result[i+1]+=-n*phi[i]*scale\n",
    "    end\n",
    "    return result\n",
    "end"
   ]
  },
  {
   "cell_type": "code",
   "execution_count": 16,
   "id": "83ca0b55-a313-412e-a3fe-23dc6746aabb",
   "metadata": {},
   "outputs": [
    {
     "data": {
      "text/plain": [
       "add_dbarepot_dphistar1! (generic function with 1 method)"
      ]
     },
     "execution_count": 16,
     "metadata": {},
     "output_type": "execute_result"
    }
   ],
   "source": [
    "function add_dbarepot_dphistar1!(result,phi,V,scale)\n",
    "    n=length(phi)\n",
    "    for i in eachindex(result)\n",
    "        result[i]+=V[i]*phi[n]*scale/n \n",
    "    end\n",
    "    return result\n",
    "end"
   ]
  },
  {
   "cell_type": "code",
   "execution_count": 17,
   "id": "7c2a6191-b9c5-432d-b06c-0be43e5a57cc",
   "metadata": {},
   "outputs": [
    {
     "data": {
      "text/plain": [
       "add_dbareint_dphistar1! (generic function with 1 method)"
      ]
     },
     "execution_count": 17,
     "metadata": {},
     "output_type": "execute_result"
    }
   ],
   "source": [
    "function add_dbareint_dphistar1!(result,phi,eta,scale)\n",
    "    n=length(phi)\n",
    "    for i in eachindex(result)\n",
    "        result[i]+=eta*abs(phi[i])^2*phi[i]*scale/n \n",
    "    end\n",
    "    return result\n",
    "end"
   ]
  },
  {
   "cell_type": "markdown",
   "id": "99978e44-4ad8-4e16-8f40-0a2f97d1aa5d",
   "metadata": {},
   "source": [
    "## testing"
   ]
  },
  {
   "cell_type": "code",
   "execution_count": 30,
   "id": "4f6879c3-2273-4710-8b6f-29588a77618a",
   "metadata": {},
   "outputs": [],
   "source": [
    "cosphi=[1+cos(2pi*x/10) for x in 1:10000]\n",
    "zero1000=zeros(10000);"
   ]
  },
  {
   "cell_type": "code",
   "execution_count": 46,
   "id": "6d33d0fd-6d44-472d-b8d5-1a88cadd82f0",
   "metadata": {},
   "outputs": [
    {
     "name": "stdout",
     "output_type": "stream",
     "text": [
      "  0.000170 seconds (41 allocations: 1.527 MiB)\n"
     ]
    },
    {
     "data": {
      "text/plain": [
       "10-element Vector{Float64}:\n",
       "   524.5955232949746\n",
       "  -324.21789401921967\n",
       " -1373.4089103322112\n",
       " -2222.2222382036825\n",
       " -2546.4400750006953\n",
       " -2222.2222382036825\n",
       " -1373.4089103322121\n",
       "  -324.2178940192216\n",
       "   524.5955232949764\n",
       "   848.8134153706185"
      ]
     },
     "execution_count": 46,
     "metadata": {},
     "output_type": "execute_result"
    }
   ],
   "source": [
    "@time denergy_dphistar(cosphi,0.2*cosphi,0.5)[1:10]"
   ]
  },
  {
   "cell_type": "code",
   "execution_count": 47,
   "id": "282acde9-366c-4bd4-a19e-b971ee283287",
   "metadata": {},
   "outputs": [
    {
     "name": "stdout",
     "output_type": "stream",
     "text": [
      "  0.000117 seconds (7 allocations: 234.656 KiB)\n"
     ]
    },
    {
     "data": {
      "text/plain": [
       "10-element Vector{Float64}:\n",
       "   524.5955279015311\n",
       "  -324.21788195909915\n",
       " -1373.4088982720975\n",
       " -2222.2222335971283\n",
       " -2546.440075000696\n",
       " -2222.2222335971283\n",
       " -1373.4088982720968\n",
       "  -324.2178819591037\n",
       "   524.5955279015348\n",
       "   848.8134153706233"
      ]
     },
     "execution_count": 47,
     "metadata": {},
     "output_type": "execute_result"
    }
   ],
   "source": [
    "@time dalten_dphistar1(cosphi,0.2*cosphi,0.5)[1:10]"
   ]
  },
  {
   "cell_type": "markdown",
   "id": "f9dc6b32-2586-4d50-bf46-5c438937477a",
   "metadata": {},
   "source": [
    "We get a factor of 2 speedup from the item-by-item version"
   ]
  },
  {
   "cell_type": "markdown",
   "id": "8cc091e2-6644-4145-93b5-3961a9528a51",
   "metadata": {},
   "source": [
    "## Automatic differentiation"
   ]
  },
  {
   "cell_type": "code",
   "execution_count": 51,
   "id": "def384eb-0dcf-4db1-a5b6-76d6b13722dc",
   "metadata": {},
   "outputs": [],
   "source": [
    "using ForwardDiff"
   ]
  },
  {
   "cell_type": "code",
   "execution_count": null,
   "id": "74d62fca-9ee9-4cae-8855-473a3effb9a7",
   "metadata": {},
   "outputs": [],
   "source": []
  },
  {
   "cell_type": "code",
   "execution_count": 53,
   "id": "f54a45c5-cd47-4b91-b802-1793f0735ba9",
   "metadata": {},
   "outputs": [
    {
     "name": "stdout",
     "output_type": "stream",
     "text": [
      "  1.475046 seconds (1.23 M allocations: 5.799 GiB, 17.97% gc time, 20.00% compilation time)\n"
     ]
    },
    {
     "data": {
      "text/plain": [
       "10-element Vector{Float64}:\n",
       "  1049.1910465899118\n",
       "  -648.4357880384739\n",
       " -2746.8178206640982\n",
       " -4444.4444764092095\n",
       " -5092.88015000151\n",
       " -4444.444476409208\n",
       " -2746.8178206641014\n",
       "  -648.4357880384772\n",
       "  1049.1910465899155\n",
       "  1697.6268307406049"
      ]
     },
     "execution_count": 53,
     "metadata": {},
     "output_type": "execute_result"
    }
   ],
   "source": [
    "@time ForwardDiff.gradient(phi->energy(phi,0.2*cosphi,0.5), cosphi)[1:10]"
   ]
  },
  {
   "cell_type": "markdown",
   "id": "53934fbd-03d9-4bab-a90a-67f136f5008e",
   "metadata": {},
   "source": [
    "That is too slow.  Write my own forward AD algorithm.  \n",
    "\n",
    "I'll also make my own COO sparse matrix code. \n",
    "\n",
    "Also change structure of energy, so it is explicitly called with phi and phistar."
   ]
  },
  {
   "cell_type": "code",
   "execution_count": 74,
   "id": "d55ee61a-7b2e-4da8-b55a-36a0413dbcaa",
   "metadata": {},
   "outputs": [],
   "source": [
    "struct dual\n",
    "    x\n",
    "    dx\n",
    "end\n",
    "\n",
    "Base.:+(a::dual,b::dual)=dual(a.x+b.x,a.dx+b.dx)\n",
    "Base.:+(a::dual,b)=dual(a.x+b,a.dx)\n",
    "Base.:+(b,a::dual)=dual(b+a.x,a.dx)\n",
    "\n",
    "Base.:*(a::dual,b::dual)=dual(a.x*b.x,a.x*b.dx+a.dx*b.x)\n",
    "Base.:*(a::dual,b)=dual(a.x*b,a.dx*b)\n",
    "Base.:*(b,a::dual)=dual(b*a.x,b*a.dx)\n",
    "\n",
    "Base.:^(a::dual,b)=dual(a.x^b,a.dx*a.x^(b-1)*b)"
   ]
  },
  {
   "cell_type": "code",
   "execution_count": 80,
   "id": "e43c53c7-2f93-40d8-b9e5-66575ba62a76",
   "metadata": {},
   "outputs": [],
   "source": [
    "using SparseArrays"
   ]
  },
  {
   "cell_type": "code",
   "execution_count": 92,
   "id": "9c7ef815-95a9-4f0f-8b76-c067d171397e",
   "metadata": {},
   "outputs": [
    {
     "data": {
      "text/plain": [
       "onehot (generic function with 1 method)"
      ]
     },
     "execution_count": 92,
     "metadata": {},
     "output_type": "execute_result"
    }
   ],
   "source": [
    "onehot(pos,len)=sparsevec([pos],[1.],len)"
   ]
  },
  {
   "cell_type": "code",
   "execution_count": 93,
   "id": "a0434594-3dd0-4ba3-9ea7-774c2f325c2f",
   "metadata": {},
   "outputs": [
    {
     "data": {
      "text/plain": [
       "10-element SparseVector{Float64, Int64} with 1 stored entry:\n",
       "  [5]  =  1.0"
      ]
     },
     "execution_count": 93,
     "metadata": {},
     "output_type": "execute_result"
    }
   ],
   "source": [
    "onehot(5,10)"
   ]
  },
  {
   "cell_type": "code",
   "execution_count": 89,
   "id": "b875f5dd-4f1d-4f0e-b767-db3c27d59730",
   "metadata": {},
   "outputs": [
    {
     "data": {
      "text/plain": [
       "10-element SparseVector{Int64, Int64} with 1 stored entry:\n",
       "  [5]  =  1"
      ]
     },
     "execution_count": 89,
     "metadata": {},
     "output_type": "execute_result"
    }
   ],
   "source": [
    "s1=sparsevec([5],[1],10)"
   ]
  },
  {
   "cell_type": "code",
   "execution_count": 95,
   "id": "6f3cad70-8d44-41f1-9ed1-dd6db28f1eab",
   "metadata": {},
   "outputs": [
    {
     "data": {
      "text/plain": [
       "1×10 adjoint(::SparseVector{Int64, Int64}) with eltype Int64:\n",
       " 0  0  0  0  1  0  0  0  0  0"
      ]
     },
     "execution_count": 95,
     "metadata": {},
     "output_type": "execute_result"
    }
   ],
   "source": [
    "s1'"
   ]
  },
  {
   "cell_type": "code",
   "execution_count": 105,
   "id": "91b1498c-1178-42b7-9c9f-b35d552d1339",
   "metadata": {},
   "outputs": [],
   "source": [
    "I = [1, 4, 3, 5]; J = [4, 7, 18, 9]; V = [1, 2, -5, 3];"
   ]
  },
  {
   "cell_type": "code",
   "execution_count": 106,
   "id": "2c132a46-a62f-4ad1-90ac-2dbf7f0d0c01",
   "metadata": {},
   "outputs": [
    {
     "data": {
      "text/plain": [
       "5×18 SparseMatrixCSC{Int64, Int64} with 4 stored entries:\n",
       "⎡⠀⠈⠀⠀⠀⠀⠀⠀⢀⎤\n",
       "⎣⠀⠀⠀⠂⡀⠀⠀⠀⠀⎦"
      ]
     },
     "execution_count": 106,
     "metadata": {},
     "output_type": "execute_result"
    }
   ],
   "source": [
    "S = sparse(I,J,V)"
   ]
  },
  {
   "cell_type": "code",
   "execution_count": 107,
   "id": "d47998c2-560e-4579-94d0-b79169ed650b",
   "metadata": {},
   "outputs": [
    {
     "data": {
      "text/plain": [
       "5-element SparseVector{Int64, Int64} with 4 stored entries:\n",
       "  [1]  =  1\n",
       "  [3]  =  -5\n",
       "  [4]  =  2\n",
       "  [5]  =  3"
      ]
     },
     "execution_count": 107,
     "metadata": {},
     "output_type": "execute_result"
    }
   ],
   "source": [
    "R = sparsevec(I,V)"
   ]
  },
  {
   "cell_type": "code",
   "execution_count": 110,
   "id": "82b40828-7877-401b-adc3-435e50ed2a60",
   "metadata": {},
   "outputs": [
    {
     "data": {
      "text/plain": [
       "18-element SparseVector{Int64, Int64} with 4 stored entries:\n",
       "  [4 ]  =  1\n",
       "  [7 ]  =  4\n",
       "  [9 ]  =  9\n",
       "  [18]  =  25"
      ]
     },
     "execution_count": 110,
     "metadata": {},
     "output_type": "execute_result"
    }
   ],
   "source": [
    "S'*R"
   ]
  },
  {
   "cell_type": "code",
   "execution_count": 111,
   "id": "98becd82-2cba-4eed-89e7-518431e5c911",
   "metadata": {},
   "outputs": [
    {
     "data": {
      "text/plain": [
       "18-element Vector{Int64}:\n",
       "   0\n",
       "   0\n",
       "   0\n",
       "   1\n",
       "   0\n",
       "   0\n",
       "   8\n",
       "   0\n",
       "  15\n",
       "   0\n",
       "   0\n",
       "   0\n",
       "   0\n",
       "   0\n",
       "   0\n",
       "   0\n",
       "   0\n",
       " -15"
      ]
     },
     "execution_count": 111,
     "metadata": {},
     "output_type": "execute_result"
    }
   ],
   "source": [
    "S'*[1,2,3,4,5]"
   ]
  },
  {
   "cell_type": "code",
   "execution_count": 104,
   "id": "53f0c1e0-110d-4b44-9637-d85d00012a47",
   "metadata": {},
   "outputs": [
    {
     "ename": "LoadError",
     "evalue": "MethodError: no method matching *(::SparseVector{Int64, Int64}, ::Vector{Int64})\n\n\u001b[0mClosest candidates are:\n\u001b[0m  *(::Any, ::Any, \u001b[91m::Any\u001b[39m, \u001b[91m::Any...\u001b[39m)\n\u001b[0m\u001b[90m   @\u001b[39m \u001b[90mBase\u001b[39m \u001b[90m\u001b[4moperators.jl:587\u001b[24m\u001b[39m\n\u001b[0m  *(\u001b[91m::dual\u001b[39m, ::Any)\n\u001b[0m\u001b[90m   @\u001b[39m \u001b[35mMain\u001b[39m \u001b[90m\u001b[4mIn[74]:11\u001b[24m\u001b[39m\n\u001b[0m  *(::Any, \u001b[91m::dual\u001b[39m)\n\u001b[0m\u001b[90m   @\u001b[39m \u001b[35mMain\u001b[39m \u001b[90m\u001b[4mIn[74]:12\u001b[24m\u001b[39m\n\u001b[0m  ...\n",
     "output_type": "error",
     "traceback": [
      "MethodError: no method matching *(::SparseVector{Int64, Int64}, ::Vector{Int64})\n\n\u001b[0mClosest candidates are:\n\u001b[0m  *(::Any, ::Any, \u001b[91m::Any\u001b[39m, \u001b[91m::Any...\u001b[39m)\n\u001b[0m\u001b[90m   @\u001b[39m \u001b[90mBase\u001b[39m \u001b[90m\u001b[4moperators.jl:587\u001b[24m\u001b[39m\n\u001b[0m  *(\u001b[91m::dual\u001b[39m, ::Any)\n\u001b[0m\u001b[90m   @\u001b[39m \u001b[35mMain\u001b[39m \u001b[90m\u001b[4mIn[74]:11\u001b[24m\u001b[39m\n\u001b[0m  *(::Any, \u001b[91m::dual\u001b[39m)\n\u001b[0m\u001b[90m   @\u001b[39m \u001b[35mMain\u001b[39m \u001b[90m\u001b[4mIn[74]:12\u001b[24m\u001b[39m\n\u001b[0m  ...\n",
      "",
      "Stacktrace:",
      " [1] top-level scope",
      "   @ In[104]:1"
     ]
    }
   ],
   "source": [
    "mu=s1*[1, 2, 3, 4, 5]"
   ]
  },
  {
   "cell_type": "code",
   "execution_count": 102,
   "id": "c13f6ee0-c6a9-44c7-a933-867da273d3c1",
   "metadata": {},
   "outputs": [
    {
     "data": {
      "text/plain": [
       "Matrix{Int64}\u001b[90m (alias for \u001b[39m\u001b[90mArray{Int64, 2}\u001b[39m\u001b[90m)\u001b[39m"
      ]
     },
     "execution_count": 102,
     "metadata": {},
     "output_type": "execute_result"
    }
   ],
   "source": [
    "typeof(mu)"
   ]
  },
  {
   "cell_type": "code",
   "execution_count": 87,
   "id": "d9749cff-efd8-4a76-9299-419298b549ef",
   "metadata": {},
   "outputs": [
    {
     "data": {
      "text/plain": [
       "5-element SparseVector{Int64, Int64} with 1 stored entry:\n",
       "  [5]  =  5"
      ]
     },
     "execution_count": 87,
     "metadata": {},
     "output_type": "execute_result"
    }
   ],
   "source": [
    "s1.*[1,2,3,4,5]"
   ]
  },
  {
   "cell_type": "code",
   "execution_count": null,
   "id": "bfb98b0b-23a7-4daa-9123-1dea8466e174",
   "metadata": {},
   "outputs": [],
   "source": [
    "onehot(val,length)=sparse([val],[1]"
   ]
  },
  {
   "cell_type": "code",
   "execution_count": null,
   "id": "a364cdd7-4704-4ec0-b2d1-4731d108f70b",
   "metadata": {},
   "outputs": [],
   "source": [
    "vecdual(vec)\n",
    "    [dual(vec,"
   ]
  },
  {
   "cell_type": "code",
   "execution_count": 64,
   "id": "42c33fb0-7114-4eba-9a82-2db8827a7046",
   "metadata": {},
   "outputs": [
    {
     "data": {
      "text/plain": [
       "dual(4, 3)"
      ]
     },
     "execution_count": 64,
     "metadata": {},
     "output_type": "execute_result"
    }
   ],
   "source": [
    "dual(2,1)+dual(2,2)"
   ]
  },
  {
   "cell_type": "code",
   "execution_count": 65,
   "id": "e62c5fd1-f04e-4b53-8925-2fc2088444a5",
   "metadata": {},
   "outputs": [
    {
     "data": {
      "text/plain": [
       "dual(5, 1)"
      ]
     },
     "execution_count": 65,
     "metadata": {},
     "output_type": "execute_result"
    }
   ],
   "source": [
    "dual(2,1)+3"
   ]
  },
  {
   "cell_type": "code",
   "execution_count": 78,
   "id": "7624bde2-7072-4541-8376-a5f3edb86e79",
   "metadata": {},
   "outputs": [
    {
     "data": {
      "text/plain": [
       "dual(1930, 1520)"
      ]
     },
     "execution_count": 78,
     "metadata": {},
     "output_type": "execute_result"
    }
   ],
   "source": [
    "(x->2*x^2+5+3*x^4)(dual(5,1))"
   ]
  },
  {
   "cell_type": "markdown",
   "id": "79195ba4-768d-43fc-a568-041f8849ea33",
   "metadata": {},
   "source": [
    "## old"
   ]
  },
  {
   "cell_type": "code",
   "execution_count": 182,
   "id": "8b6b0e01-d87f-4078-b63c-ada37b1b3e75",
   "metadata": {},
   "outputs": [
    {
     "name": "stdout",
     "output_type": "stream",
     "text": [
      "  0.000030 seconds (24 allocations: 17.562 KiB)\n"
     ]
    },
    {
     "data": {
      "text/plain": [
       "-17.253210471608327"
      ]
     },
     "execution_count": 182,
     "metadata": {},
     "output_type": "execute_result"
    }
   ],
   "source": [
    "@time (energy(5*phi1+0.0001*dphi1,V1,0.)-energy(5*phi1-0.0001*dphi1,V1,0.))/(2*0.0001)"
   ]
  },
  {
   "cell_type": "code",
   "execution_count": 183,
   "id": "b20669b4-dbac-4e89-b5e1-54d9e534114a",
   "metadata": {},
   "outputs": [
    {
     "name": "stdout",
     "output_type": "stream",
     "text": [
      "  0.000015 seconds (21 allocations: 18.375 KiB)\n"
     ]
    },
    {
     "data": {
      "text/plain": [
       "100-element Vector{Float64}:\n",
       " -17.25321046956181\n",
       "  14.116263111459665\n",
       " -17.25321046956181\n",
       "  14.116263111459665\n",
       " -17.25321046956181\n",
       "  14.116263111459665\n",
       " -17.25321046956181\n",
       "  14.116263111459665\n",
       " -17.25321046956181\n",
       "  14.116263111459665\n",
       " -17.25321046956181\n",
       "  14.116263111459665\n",
       " -17.25321046956181\n",
       "   ⋮\n",
       " -17.25321046956181\n",
       "  14.116263111459665\n",
       " -17.25321046956181\n",
       "  14.116263111459665\n",
       " -17.25321046956181\n",
       "  14.116263111459665\n",
       " -17.25321046956181\n",
       "  14.116263111459665\n",
       " -17.25321046956181\n",
       "  14.116263111459665\n",
       " -17.25321046956181\n",
       "  14.116263111459665"
      ]
     },
     "execution_count": 183,
     "metadata": {},
     "output_type": "execute_result"
    }
   ],
   "source": [
    "@time 2*denergy_dphistar(5*phi1,V1,0.)"
   ]
  },
  {
   "cell_type": "code",
   "execution_count": 179,
   "id": "63fe810e-5518-45c3-979b-99632c13f827",
   "metadata": {},
   "outputs": [
    {
     "name": "stdout",
     "output_type": "stream",
     "text": [
      "  0.274830 seconds (1.17 M allocations: 80.538 MiB, 6.85% gc time, 99.88% compilation time)\n"
     ]
    },
    {
     "data": {
      "text/plain": [
       "100-element Vector{Float64}:\n",
       " -43.13344896297312\n",
       "  35.291003696977846\n",
       " -43.13344896297312\n",
       "  35.291003696977846\n",
       " -43.133448962973105\n",
       "  35.291003696977846\n",
       " -43.133448962973105\n",
       "  35.291003696977846\n",
       " -43.133448962973105\n",
       "  35.291003696977846\n",
       " -43.1334489629731\n",
       "  35.29100369697785\n",
       " -43.1334489629731\n",
       "   ⋮\n",
       " -43.13344896297298\n",
       "  35.29100369697788\n",
       " -43.13344896297298\n",
       "  35.29100369697788\n",
       " -43.13344896297298\n",
       "  35.29100369697788\n",
       " -43.13344896297297\n",
       "  35.29100369697788\n",
       " -43.13344896297296\n",
       "  35.29100369697788\n",
       " -43.13344896297296\n",
       "  35.291003696977846"
      ]
     },
     "execution_count": 179,
     "metadata": {},
     "output_type": "execute_result"
    }
   ],
   "source": [
    "@time ForwardDiff.gradient(phi->energy(phi,V1,0.2), 2*phi1)"
   ]
  },
  {
   "cell_type": "code",
   "execution_count": 88,
   "id": "5d9f1d7d-bb6c-4517-93bb-a114b6c30fff",
   "metadata": {},
   "outputs": [],
   "source": [
    "phi0=[1. for j in 1:100]\n",
    "phi1=[0.1*(-1)^j+1 for j in 1:100]\n",
    "V1=[0. for j in 1:100];"
   ]
  },
  {
   "cell_type": "code",
   "execution_count": 89,
   "id": "bc35bd6b-36b3-48d3-b262-456657fd214f",
   "metadata": {},
   "outputs": [],
   "source": [
    "using Plots"
   ]
  },
  {
   "cell_type": "code",
   "execution_count": 90,
   "id": "86a51b52-cbd4-4a27-b029-7cdd2064bb28",
   "metadata": {},
   "outputs": [
    {
     "data": {
      "image/png": "[encoded data removed]",
      "image/svg+xml": [
       "<?xml version=\"1.0\" encoding=\"utf-8\"?>\n",
       "<svg xmlns=\"http://www.w3.org/2000/svg\" xmlns:xlink=\"http://www.w3.org/1999/xlink\" width=\"600\" height=\"400\" viewBox=\"0 0 2400 1600\">\n",
       "<defs>\n",
       "  <clipPath id=\"clip130\">\n",
       "    <rect x=\"0\" y=\"0\" width=\"2400\" height=\"1600\"/>\n",
       "  </clipPath>\n",
       "</defs>\n",
       "<path clip-path=\"url(#clip130)\" d=\"M0 1600 L2400 1600 L2400 8.88178e-14 L0 8.88178e-14  Z\" fill=\"#ffffff\" fill-rule=\"evenodd\" fill-opacity=\"1\"/>\n",
       "<defs>\n",
       "  <clipPath id=\"clip131\">\n",
       "    <rect x=\"480\" y=\"0\" width=\"1681\" height=\"1600\"/>\n",
       "  </clipPath>\n",
       "</defs>\n",
       "<path clip-path=\"url(#clip130)\" d=\"M186.274 1486.45 L2352.76 1486.45 L2352.76 47.2441 L186.274 47.2441  Z\" fill=\"#ffffff\" fill-rule=\"evenodd\" fill-opacity=\"1\"/>\n",
       "<defs>\n",
       "  <clipPath id=\"clip132\">\n",
       "    <rect x=\"186\" y=\"47\" width=\"2167\" height=\"1440\"/>\n",
       "  </clipPath>\n",
       "</defs>\n",
       "<polyline clip-path=\"url(#clip132)\" style=\"stroke:#000000; stroke-linecap:round; stroke-linejoin:round; stroke-width:2; stroke-opacity:0.1; fill:none\" points=\"226.945,1486.45 226.945,47.2441 \"/>\n",
       "<polyline clip-path=\"url(#clip132)\" style=\"stroke:#000000; stroke-linecap:round; stroke-linejoin:round; stroke-width:2; stroke-opacity:0.1; fill:none\" points=\"743.069,1486.45 743.069,47.2441 \"/>\n",
       "<polyline clip-path=\"url(#clip132)\" style=\"stroke:#000000; stroke-linecap:round; stroke-linejoin:round; stroke-width:2; stroke-opacity:0.1; fill:none\" points=\"1259.19,1486.45 1259.19,47.2441 \"/>\n",
       "<polyline clip-path=\"url(#clip132)\" style=\"stroke:#000000; stroke-linecap:round; stroke-linejoin:round; stroke-width:2; stroke-opacity:0.1; fill:none\" points=\"1775.32,1486.45 1775.32,47.2441 \"/>\n",
       "<polyline clip-path=\"url(#clip132)\" style=\"stroke:#000000; stroke-linecap:round; stroke-linejoin:round; stroke-width:2; stroke-opacity:0.1; fill:none\" points=\"2291.44,1486.45 2291.44,47.2441 \"/>\n",
       "<polyline clip-path=\"url(#clip130)\" style=\"stroke:#000000; stroke-linecap:round; stroke-linejoin:round; stroke-width:4; stroke-opacity:1; fill:none\" points=\"186.274,1486.45 2352.76,1486.45 \"/>\n",
       "<polyline clip-path=\"url(#clip130)\" style=\"stroke:#000000; stroke-linecap:round; stroke-linejoin:round; stroke-width:4; stroke-opacity:1; fill:none\" points=\"226.945,1486.45 226.945,1467.55 \"/>\n",
       "<polyline clip-path=\"url(#clip130)\" style=\"stroke:#000000; stroke-linecap:round; stroke-linejoin:round; stroke-width:4; stroke-opacity:1; fill:none\" points=\"743.069,1486.45 743.069,1467.55 \"/>\n",
       "<polyline clip-path=\"url(#clip130)\" style=\"stroke:#000000; stroke-linecap:round; stroke-linejoin:round; stroke-width:4; stroke-opacity:1; fill:none\" points=\"1259.19,1486.45 1259.19,1467.55 \"/>\n",
       "<polyline clip-path=\"url(#clip130)\" style=\"stroke:#000000; stroke-linecap:round; stroke-linejoin:round; stroke-width:4; stroke-opacity:1; fill:none\" points=\"1775.32,1486.45 1775.32,1467.55 \"/>\n",
       "<polyline clip-path=\"url(#clip130)\" style=\"stroke:#000000; stroke-linecap:round; stroke-linejoin:round; stroke-width:4; stroke-opacity:1; fill:none\" points=\"2291.44,1486.45 2291.44,1467.55 \"/>\n",
       "<path clip-path=\"url(#clip130)\" d=\"M226.945 1517.37 Q223.333 1517.37 221.505 1520.93 Q219.699 1524.47 219.699 1531.6 Q219.699 1538.71 221.505 1542.27 Q223.333 1545.82 226.945 1545.82 Q230.579 1545.82 232.384 1542.27 Q234.213 1538.71 234.213 1531.6 Q234.213 1524.47 232.384 1520.93 Q230.579 1517.37 226.945 1517.37 M226.945 1513.66 Q232.755 1513.66 235.81 1518.27 Q238.889 1522.85 238.889 1531.6 Q238.889 1540.33 235.81 1544.94 Q232.755 1549.52 226.945 1549.52 Q221.134 1549.52 218.056 1544.94 Q215 1540.33 215 1531.6 Q215 1522.85 218.056 1518.27 Q221.134 1513.66 226.945 1513.66 Z\" fill=\"#000000\" fill-rule=\"nonzero\" fill-opacity=\"1\" /><path clip-path=\"url(#clip130)\" d=\"M722.339 1544.91 L738.659 1544.91 L738.659 1548.85 L716.714 1548.85 L716.714 1544.91 Q719.377 1542.16 723.96 1537.53 Q728.566 1532.88 729.747 1531.53 Q731.992 1529.01 732.872 1527.27 Q733.775 1525.51 733.775 1523.82 Q733.775 1521.07 731.83 1519.33 Q729.909 1517.6 726.807 1517.6 Q724.608 1517.6 722.154 1518.36 Q719.724 1519.13 716.946 1520.68 L716.946 1515.95 Q719.77 1514.82 722.224 1514.24 Q724.677 1513.66 726.714 1513.66 Q732.085 1513.66 735.279 1516.35 Q738.474 1519.03 738.474 1523.52 Q738.474 1525.65 737.663 1527.57 Q736.876 1529.47 734.77 1532.07 Q734.191 1532.74 731.089 1535.95 Q727.988 1539.15 722.339 1544.91 Z\" fill=\"#000000\" fill-rule=\"nonzero\" fill-opacity=\"1\" /><path clip-path=\"url(#clip130)\" d=\"M748.52 1514.29 L766.876 1514.29 L766.876 1518.22 L752.802 1518.22 L752.802 1526.7 Q753.821 1526.35 754.839 1526.19 Q755.858 1526 756.876 1526 Q762.663 1526 766.043 1529.17 Q769.423 1532.34 769.423 1537.76 Q769.423 1543.34 765.95 1546.44 Q762.478 1549.52 756.159 1549.52 Q753.983 1549.52 751.714 1549.15 Q749.469 1548.78 747.062 1548.04 L747.062 1543.34 Q749.145 1544.47 751.367 1545.03 Q753.589 1545.58 756.066 1545.58 Q760.071 1545.58 762.409 1543.48 Q764.747 1541.37 764.747 1537.76 Q764.747 1534.15 762.409 1532.04 Q760.071 1529.94 756.066 1529.94 Q754.191 1529.94 752.316 1530.35 Q750.464 1530.77 748.52 1531.65 L748.52 1514.29 Z\" fill=\"#000000\" fill-rule=\"nonzero\" fill-opacity=\"1\" /><path clip-path=\"url(#clip130)\" d=\"M1233.89 1514.29 L1252.25 1514.29 L1252.25 1518.22 L1238.17 1518.22 L1238.17 1526.7 Q1239.19 1526.35 1240.21 1526.19 Q1241.23 1526 1242.25 1526 Q1248.04 1526 1251.41 1529.17 Q1254.79 1532.34 1254.79 1537.76 Q1254.79 1543.34 1251.32 1546.44 Q1247.85 1549.52 1241.53 1549.52 Q1239.35 1549.52 1237.09 1549.15 Q1234.84 1548.78 1232.43 1548.04 L1232.43 1543.34 Q1234.52 1544.47 1236.74 1545.03 Q1238.96 1545.58 1241.44 1545.58 Q1245.44 1545.58 1247.78 1543.48 Q1250.12 1541.37 1250.12 1537.76 Q1250.12 1534.15 1247.78 1532.04 Q1245.44 1529.94 1241.44 1529.94 Q1239.56 1529.94 1237.69 1530.35 Q1235.84 1530.77 1233.89 1531.65 L1233.89 1514.29 Z\" fill=\"#000000\" fill-rule=\"nonzero\" fill-opacity=\"1\" /><path clip-path=\"url(#clip130)\" d=\"M1274.01 1517.37 Q1270.4 1517.37 1268.57 1520.93 Q1266.76 1524.47 1266.76 1531.6 Q1266.76 1538.71 1268.57 1542.27 Q1270.4 1545.82 1274.01 1545.82 Q1277.64 1545.82 1279.45 1542.27 Q1281.28 1538.71 1281.28 1531.6 Q1281.28 1524.47 1279.45 1520.93 Q1277.64 1517.37 1274.01 1517.37 M1274.01 1513.66 Q1279.82 1513.66 1282.87 1518.27 Q1285.95 1522.85 1285.95 1531.6 Q1285.95 1540.33 1282.87 1544.94 Q1279.82 1549.52 1274.01 1549.52 Q1268.2 1549.52 1265.12 1544.94 Q1262.06 1540.33 1262.06 1531.6 Q1262.06 1522.85 1265.12 1518.27 Q1268.2 1513.66 1274.01 1513.66 Z\" fill=\"#000000\" fill-rule=\"nonzero\" fill-opacity=\"1\" /><path clip-path=\"url(#clip130)\" d=\"M1749.17 1514.29 L1771.39 1514.29 L1771.39 1516.28 L1758.85 1548.85 L1753.96 1548.85 L1765.77 1518.22 L1749.17 1518.22 L1749.17 1514.29 Z\" fill=\"#000000\" fill-rule=\"nonzero\" fill-opacity=\"1\" /><path clip-path=\"url(#clip130)\" d=\"M1780.56 1514.29 L1798.92 1514.29 L1798.92 1518.22 L1784.84 1518.22 L1784.84 1526.7 Q1785.86 1526.35 1786.88 1526.19 Q1787.9 1526 1788.92 1526 Q1794.7 1526 1798.08 1529.17 Q1801.46 1532.34 1801.46 1537.76 Q1801.46 1543.34 1797.99 1546.44 Q1794.52 1549.52 1788.2 1549.52 Q1786.02 1549.52 1783.75 1549.15 Q1781.51 1548.78 1779.1 1548.04 L1779.1 1543.34 Q1781.18 1544.47 1783.41 1545.03 Q1785.63 1545.58 1788.11 1545.58 Q1792.11 1545.58 1794.45 1543.48 Q1796.79 1541.37 1796.79 1537.76 Q1796.79 1534.15 1794.45 1532.04 Q1792.11 1529.94 1788.11 1529.94 Q1786.23 1529.94 1784.36 1530.35 Q1782.5 1530.77 1780.56 1531.65 L1780.56 1514.29 Z\" fill=\"#000000\" fill-rule=\"nonzero\" fill-opacity=\"1\" /><path clip-path=\"url(#clip130)\" d=\"M2251.05 1544.91 L2258.69 1544.91 L2258.69 1518.55 L2250.38 1520.21 L2250.38 1515.95 L2258.64 1514.29 L2263.32 1514.29 L2263.32 1544.91 L2270.95 1544.91 L2270.95 1548.85 L2251.05 1548.85 L2251.05 1544.91 Z\" fill=\"#000000\" fill-rule=\"nonzero\" fill-opacity=\"1\" /><path clip-path=\"url(#clip130)\" d=\"M2290.4 1517.37 Q2286.79 1517.37 2284.96 1520.93 Q2283.15 1524.47 2283.15 1531.6 Q2283.15 1538.71 2284.96 1542.27 Q2286.79 1545.82 2290.4 1545.82 Q2294.03 1545.82 2295.84 1542.27 Q2297.67 1538.71 2297.67 1531.6 Q2297.67 1524.47 2295.84 1520.93 Q2294.03 1517.37 2290.4 1517.37 M2290.4 1513.66 Q2296.21 1513.66 2299.26 1518.27 Q2302.34 1522.85 2302.34 1531.6 Q2302.34 1540.33 2299.26 1544.94 Q2296.21 1549.52 2290.4 1549.52 Q2284.59 1549.52 2281.51 1544.94 Q2278.45 1540.33 2278.45 1531.6 Q2278.45 1522.85 2281.51 1518.27 Q2284.59 1513.66 2290.4 1513.66 Z\" fill=\"#000000\" fill-rule=\"nonzero\" fill-opacity=\"1\" /><path clip-path=\"url(#clip130)\" d=\"M2320.56 1517.37 Q2316.95 1517.37 2315.12 1520.93 Q2313.32 1524.47 2313.32 1531.6 Q2313.32 1538.71 2315.12 1542.27 Q2316.95 1545.82 2320.56 1545.82 Q2324.19 1545.82 2326 1542.27 Q2327.83 1538.71 2327.83 1531.6 Q2327.83 1524.47 2326 1520.93 Q2324.19 1517.37 2320.56 1517.37 M2320.56 1513.66 Q2326.37 1513.66 2329.43 1518.27 Q2332.5 1522.85 2332.5 1531.6 Q2332.5 1540.33 2329.43 1544.94 Q2326.37 1549.52 2320.56 1549.52 Q2314.75 1549.52 2311.67 1544.94 Q2308.62 1540.33 2308.62 1531.6 Q2308.62 1522.85 2311.67 1518.27 Q2314.75 1513.66 2320.56 1513.66 Z\" fill=\"#000000\" fill-rule=\"nonzero\" fill-opacity=\"1\" /><polyline clip-path=\"url(#clip132)\" style=\"stroke:#000000; stroke-linecap:round; stroke-linejoin:round; stroke-width:2; stroke-opacity:0.1; fill:none\" points=\"186.274,1445.72 2352.76,1445.72 \"/>\n",
       "<polyline clip-path=\"url(#clip132)\" style=\"stroke:#000000; stroke-linecap:round; stroke-linejoin:round; stroke-width:2; stroke-opacity:0.1; fill:none\" points=\"186.274,1106.28 2352.76,1106.28 \"/>\n",
       "<polyline clip-path=\"url(#clip132)\" style=\"stroke:#000000; stroke-linecap:round; stroke-linejoin:round; stroke-width:2; stroke-opacity:0.1; fill:none\" points=\"186.274,766.846 2352.76,766.846 \"/>\n",
       "<polyline clip-path=\"url(#clip132)\" style=\"stroke:#000000; stroke-linecap:round; stroke-linejoin:round; stroke-width:2; stroke-opacity:0.1; fill:none\" points=\"186.274,427.411 2352.76,427.411 \"/>\n",
       "<polyline clip-path=\"url(#clip132)\" style=\"stroke:#000000; stroke-linecap:round; stroke-linejoin:round; stroke-width:2; stroke-opacity:0.1; fill:none\" points=\"186.274,87.9763 2352.76,87.9763 \"/>\n",
       "<polyline clip-path=\"url(#clip130)\" style=\"stroke:#000000; stroke-linecap:round; stroke-linejoin:round; stroke-width:4; stroke-opacity:1; fill:none\" points=\"186.274,1486.45 186.274,47.2441 \"/>\n",
       "<polyline clip-path=\"url(#clip130)\" style=\"stroke:#000000; stroke-linecap:round; stroke-linejoin:round; stroke-width:4; stroke-opacity:1; fill:none\" points=\"186.274,1445.72 205.172,1445.72 \"/>\n",
       "<polyline clip-path=\"url(#clip130)\" style=\"stroke:#000000; stroke-linecap:round; stroke-linejoin:round; stroke-width:4; stroke-opacity:1; fill:none\" points=\"186.274,1106.28 205.172,1106.28 \"/>\n",
       "<polyline clip-path=\"url(#clip130)\" style=\"stroke:#000000; stroke-linecap:round; stroke-linejoin:round; stroke-width:4; stroke-opacity:1; fill:none\" points=\"186.274,766.846 205.172,766.846 \"/>\n",
       "<polyline clip-path=\"url(#clip130)\" style=\"stroke:#000000; stroke-linecap:round; stroke-linejoin:round; stroke-width:4; stroke-opacity:1; fill:none\" points=\"186.274,427.411 205.172,427.411 \"/>\n",
       "<polyline clip-path=\"url(#clip130)\" style=\"stroke:#000000; stroke-linecap:round; stroke-linejoin:round; stroke-width:4; stroke-opacity:1; fill:none\" points=\"186.274,87.9763 205.172,87.9763 \"/>\n",
       "<path clip-path=\"url(#clip130)\" d=\"M62.9365 1431.51 Q59.3254 1431.51 57.4967 1435.08 Q55.6912 1438.62 55.6912 1445.75 Q55.6912 1452.86 57.4967 1456.42 Q59.3254 1459.96 62.9365 1459.96 Q66.5707 1459.96 68.3763 1456.42 Q70.205 1452.86 70.205 1445.75 Q70.205 1438.62 68.3763 1435.08 Q66.5707 1431.51 62.9365 1431.51 M62.9365 1427.81 Q68.7467 1427.81 71.8022 1432.42 Q74.8809 1437 74.8809 1445.75 Q74.8809 1454.48 71.8022 1459.08 Q68.7467 1463.67 62.9365 1463.67 Q57.1264 1463.67 54.0477 1459.08 Q50.9921 1454.48 50.9921 1445.75 Q50.9921 1437 54.0477 1432.42 Q57.1264 1427.81 62.9365 1427.81 Z\" fill=\"#000000\" fill-rule=\"nonzero\" fill-opacity=\"1\" /><path clip-path=\"url(#clip130)\" d=\"M83.0984 1457.12 L87.9827 1457.12 L87.9827 1463 L83.0984 1463 L83.0984 1457.12 Z\" fill=\"#000000\" fill-rule=\"nonzero\" fill-opacity=\"1\" /><path clip-path=\"url(#clip130)\" d=\"M98.3067 1462.28 L98.3067 1458.02 Q100.066 1458.85 101.871 1459.29 Q103.677 1459.73 105.413 1459.73 Q110.043 1459.73 112.473 1456.63 Q114.927 1453.51 115.274 1447.16 Q113.932 1449.15 111.871 1450.22 Q109.811 1451.28 107.311 1451.28 Q102.126 1451.28 99.0937 1448.16 Q96.0845 1445.01 96.0845 1439.57 Q96.0845 1434.25 99.2326 1431.03 Q102.381 1427.81 107.612 1427.81 Q113.608 1427.81 116.756 1432.42 Q119.927 1437 119.927 1445.75 Q119.927 1453.92 116.038 1458.81 Q112.172 1463.67 105.621 1463.67 Q103.862 1463.67 102.057 1463.32 Q100.251 1462.97 98.3067 1462.28 M107.612 1447.63 Q110.76 1447.63 112.589 1445.47 Q114.441 1443.32 114.441 1439.57 Q114.441 1435.84 112.589 1433.69 Q110.76 1431.51 107.612 1431.51 Q104.464 1431.51 102.612 1433.69 Q100.784 1435.84 100.784 1439.57 Q100.784 1443.32 102.612 1445.47 Q104.464 1447.63 107.612 1447.63 Z\" fill=\"#000000\" fill-rule=\"nonzero\" fill-opacity=\"1\" /><path clip-path=\"url(#clip130)\" d=\"M138.33 1431.51 Q134.719 1431.51 132.89 1435.08 Q131.084 1438.62 131.084 1445.75 Q131.084 1452.86 132.89 1456.42 Q134.719 1459.96 138.33 1459.96 Q141.964 1459.96 143.769 1456.42 Q145.598 1452.86 145.598 1445.75 Q145.598 1438.62 143.769 1435.08 Q141.964 1431.51 138.33 1431.51 M138.33 1427.81 Q144.14 1427.81 147.195 1432.42 Q150.274 1437 150.274 1445.75 Q150.274 1454.48 147.195 1459.08 Q144.14 1463.67 138.33 1463.67 Q132.519 1463.67 129.441 1459.08 Q126.385 1454.48 126.385 1445.75 Q126.385 1437 129.441 1432.42 Q132.519 1427.81 138.33 1427.81 Z\" fill=\"#000000\" fill-rule=\"nonzero\" fill-opacity=\"1\" /><path clip-path=\"url(#clip130)\" d=\"M63.9319 1092.08 Q60.3208 1092.08 58.4921 1095.64 Q56.6865 1099.19 56.6865 1106.32 Q56.6865 1113.42 58.4921 1116.99 Q60.3208 1120.53 63.9319 1120.53 Q67.5661 1120.53 69.3717 1116.99 Q71.2004 1113.42 71.2004 1106.32 Q71.2004 1099.19 69.3717 1095.64 Q67.5661 1092.08 63.9319 1092.08 M63.9319 1088.38 Q69.742 1088.38 72.7976 1092.98 Q75.8763 1097.57 75.8763 1106.32 Q75.8763 1115.04 72.7976 1119.65 Q69.742 1124.23 63.9319 1124.23 Q58.1217 1124.23 55.043 1119.65 Q51.9875 1115.04 51.9875 1106.32 Q51.9875 1097.57 55.043 1092.98 Q58.1217 1088.38 63.9319 1088.38 Z\" fill=\"#000000\" fill-rule=\"nonzero\" fill-opacity=\"1\" /><path clip-path=\"url(#clip130)\" d=\"M84.0938 1117.68 L88.978 1117.68 L88.978 1123.56 L84.0938 1123.56 L84.0938 1117.68 Z\" fill=\"#000000\" fill-rule=\"nonzero\" fill-opacity=\"1\" /><path clip-path=\"url(#clip130)\" d=\"M99.3021 1122.84 L99.3021 1118.58 Q101.061 1119.42 102.867 1119.86 Q104.672 1120.3 106.408 1120.3 Q111.038 1120.3 113.469 1117.2 Q115.922 1114.07 116.27 1107.73 Q114.927 1109.72 112.867 1110.78 Q110.807 1111.85 108.307 1111.85 Q103.121 1111.85 100.089 1108.72 Q97.0798 1105.57 97.0798 1100.14 Q97.0798 1094.81 100.228 1091.59 Q103.376 1088.38 108.608 1088.38 Q114.603 1088.38 117.751 1092.98 Q120.922 1097.57 120.922 1106.32 Q120.922 1114.49 117.033 1119.37 Q113.168 1124.23 106.617 1124.23 Q104.858 1124.23 103.052 1123.88 Q101.246 1123.54 99.3021 1122.84 M108.608 1108.19 Q111.756 1108.19 113.584 1106.04 Q115.436 1103.89 115.436 1100.14 Q115.436 1096.41 113.584 1094.26 Q111.756 1092.08 108.608 1092.08 Q105.459 1092.08 103.608 1094.26 Q101.779 1096.41 101.779 1100.14 Q101.779 1103.89 103.608 1106.04 Q105.459 1108.19 108.608 1108.19 Z\" fill=\"#000000\" fill-rule=\"nonzero\" fill-opacity=\"1\" /><path clip-path=\"url(#clip130)\" d=\"M129.371 1089 L147.728 1089 L147.728 1092.94 L133.654 1092.94 L133.654 1101.41 Q134.672 1101.06 135.691 1100.9 Q136.709 1100.71 137.728 1100.71 Q143.515 1100.71 146.894 1103.89 Q150.274 1107.06 150.274 1112.47 Q150.274 1118.05 146.802 1121.15 Q143.33 1124.23 137.01 1124.23 Q134.834 1124.23 132.566 1123.86 Q130.32 1123.49 127.913 1122.75 L127.913 1118.05 Q129.996 1119.19 132.219 1119.74 Q134.441 1120.3 136.918 1120.3 Q140.922 1120.3 143.26 1118.19 Q145.598 1116.08 145.598 1112.47 Q145.598 1108.86 143.26 1106.76 Q140.922 1104.65 136.918 1104.65 Q135.043 1104.65 133.168 1105.07 Q131.316 1105.48 129.371 1106.36 L129.371 1089 Z\" fill=\"#000000\" fill-rule=\"nonzero\" fill-opacity=\"1\" /><path clip-path=\"url(#clip130)\" d=\"M53.7467 780.191 L61.3856 780.191 L61.3856 753.825 L53.0754 755.492 L53.0754 751.233 L61.3393 749.566 L66.0152 749.566 L66.0152 780.191 L73.654 780.191 L73.654 784.126 L53.7467 784.126 L53.7467 780.191 Z\" fill=\"#000000\" fill-rule=\"nonzero\" fill-opacity=\"1\" /><path clip-path=\"url(#clip130)\" d=\"M83.0984 778.246 L87.9827 778.246 L87.9827 784.126 L83.0984 784.126 L83.0984 778.246 Z\" fill=\"#000000\" fill-rule=\"nonzero\" fill-opacity=\"1\" /><path clip-path=\"url(#clip130)\" d=\"M108.168 752.645 Q104.557 752.645 102.728 756.209 Q100.922 759.751 100.922 766.881 Q100.922 773.987 102.728 777.552 Q104.557 781.094 108.168 781.094 Q111.802 781.094 113.608 777.552 Q115.436 773.987 115.436 766.881 Q115.436 759.751 113.608 756.209 Q111.802 752.645 108.168 752.645 M108.168 748.941 Q113.978 748.941 117.033 753.547 Q120.112 758.131 120.112 766.881 Q120.112 775.608 117.033 780.214 Q113.978 784.797 108.168 784.797 Q102.358 784.797 99.2789 780.214 Q96.2234 775.608 96.2234 766.881 Q96.2234 758.131 99.2789 753.547 Q102.358 748.941 108.168 748.941 Z\" fill=\"#000000\" fill-rule=\"nonzero\" fill-opacity=\"1\" /><path clip-path=\"url(#clip130)\" d=\"M138.33 752.645 Q134.719 752.645 132.89 756.209 Q131.084 759.751 131.084 766.881 Q131.084 773.987 132.89 777.552 Q134.719 781.094 138.33 781.094 Q141.964 781.094 143.769 777.552 Q145.598 773.987 145.598 766.881 Q145.598 759.751 143.769 756.209 Q141.964 752.645 138.33 752.645 M138.33 748.941 Q144.14 748.941 147.195 753.547 Q150.274 758.131 150.274 766.881 Q150.274 775.608 147.195 780.214 Q144.14 784.797 138.33 784.797 Q132.519 784.797 129.441 780.214 Q126.385 775.608 126.385 766.881 Q126.385 758.131 129.441 753.547 Q132.519 748.941 138.33 748.941 Z\" fill=\"#000000\" fill-rule=\"nonzero\" fill-opacity=\"1\" /><path clip-path=\"url(#clip130)\" d=\"M54.7421 440.756 L62.381 440.756 L62.381 414.39 L54.0708 416.057 L54.0708 411.798 L62.3347 410.131 L67.0106 410.131 L67.0106 440.756 L74.6494 440.756 L74.6494 444.691 L54.7421 444.691 L54.7421 440.756 Z\" fill=\"#000000\" fill-rule=\"nonzero\" fill-opacity=\"1\" /><path clip-path=\"url(#clip130)\" d=\"M84.0938 438.812 L88.978 438.812 L88.978 444.691 L84.0938 444.691 L84.0938 438.812 Z\" fill=\"#000000\" fill-rule=\"nonzero\" fill-opacity=\"1\" /><path clip-path=\"url(#clip130)\" d=\"M109.163 413.21 Q105.552 413.21 103.723 416.775 Q101.918 420.316 101.918 427.446 Q101.918 434.552 103.723 438.117 Q105.552 441.659 109.163 441.659 Q112.797 441.659 114.603 438.117 Q116.432 434.552 116.432 427.446 Q116.432 420.316 114.603 416.775 Q112.797 413.21 109.163 413.21 M109.163 409.506 Q114.973 409.506 118.029 414.113 Q121.107 418.696 121.107 427.446 Q121.107 436.173 118.029 440.779 Q114.973 445.362 109.163 445.362 Q103.353 445.362 100.274 440.779 Q97.2187 436.173 97.2187 427.446 Q97.2187 418.696 100.274 414.113 Q103.353 409.506 109.163 409.506 Z\" fill=\"#000000\" fill-rule=\"nonzero\" fill-opacity=\"1\" /><path clip-path=\"url(#clip130)\" d=\"M129.371 410.131 L147.728 410.131 L147.728 414.066 L133.654 414.066 L133.654 422.538 Q134.672 422.191 135.691 422.029 Q136.709 421.844 137.728 421.844 Q143.515 421.844 146.894 425.015 Q150.274 428.187 150.274 433.603 Q150.274 439.182 146.802 442.284 Q143.33 445.362 137.01 445.362 Q134.834 445.362 132.566 444.992 Q130.32 444.622 127.913 443.881 L127.913 439.182 Q129.996 440.316 132.219 440.872 Q134.441 441.427 136.918 441.427 Q140.922 441.427 143.26 439.321 Q145.598 437.214 145.598 433.603 Q145.598 429.992 143.26 427.886 Q140.922 425.779 136.918 425.779 Q135.043 425.779 133.168 426.196 Q131.316 426.613 129.371 427.492 L129.371 410.131 Z\" fill=\"#000000\" fill-rule=\"nonzero\" fill-opacity=\"1\" /><path clip-path=\"url(#clip130)\" d=\"M53.7467 101.321 L61.3856 101.321 L61.3856 74.9555 L53.0754 76.6222 L53.0754 72.3629 L61.3393 70.6963 L66.0152 70.6963 L66.0152 101.321 L73.654 101.321 L73.654 105.256 L53.7467 105.256 L53.7467 101.321 Z\" fill=\"#000000\" fill-rule=\"nonzero\" fill-opacity=\"1\" /><path clip-path=\"url(#clip130)\" d=\"M83.0984 99.3767 L87.9827 99.3767 L87.9827 105.256 L83.0984 105.256 L83.0984 99.3767 Z\" fill=\"#000000\" fill-rule=\"nonzero\" fill-opacity=\"1\" /><path clip-path=\"url(#clip130)\" d=\"M98.978 101.321 L106.617 101.321 L106.617 74.9555 L98.3067 76.6222 L98.3067 72.3629 L106.571 70.6963 L111.246 70.6963 L111.246 101.321 L118.885 101.321 L118.885 105.256 L98.978 105.256 L98.978 101.321 Z\" fill=\"#000000\" fill-rule=\"nonzero\" fill-opacity=\"1\" /><path clip-path=\"url(#clip130)\" d=\"M138.33 73.775 Q134.719 73.775 132.89 77.3398 Q131.084 80.8814 131.084 88.011 Q131.084 95.1174 132.89 98.6822 Q134.719 102.224 138.33 102.224 Q141.964 102.224 143.769 98.6822 Q145.598 95.1174 145.598 88.011 Q145.598 80.8814 143.769 77.3398 Q141.964 73.775 138.33 73.775 M138.33 70.0713 Q144.14 70.0713 147.195 74.6777 Q150.274 79.261 150.274 88.011 Q150.274 96.7378 147.195 101.344 Q144.14 105.928 138.33 105.928 Q132.519 105.928 129.441 101.344 Q126.385 96.7378 126.385 88.011 Q126.385 79.261 129.441 74.6777 Q132.519 70.0713 138.33 70.0713 Z\" fill=\"#000000\" fill-rule=\"nonzero\" fill-opacity=\"1\" /><polyline clip-path=\"url(#clip132)\" style=\"stroke:#009af9; stroke-linecap:round; stroke-linejoin:round; stroke-width:4; stroke-opacity:1; fill:none\" points=\"247.59,1445.72 268.234,87.9763 288.879,1445.72 309.524,87.9763 330.169,1445.72 350.814,87.9763 371.459,1445.72 392.104,87.9763 412.749,1445.72 433.394,87.9763 454.039,1445.72 474.684,87.9763 495.329,1445.72 515.974,87.9763 536.619,1445.72 557.264,87.9763 577.909,1445.72 598.554,87.9763 619.199,1445.72 639.844,87.9763 660.489,1445.72 681.134,87.9763 701.779,1445.72 722.424,87.9763 743.069,1445.72 763.713,87.9763 784.358,1445.72 805.003,87.9763 825.648,1445.72 846.293,87.9763 866.938,1445.72 887.583,87.9763 908.228,1445.72 928.873,87.9763 949.518,1445.72 970.163,87.9763 990.808,1445.72 1011.45,87.9763 1032.1,1445.72 1052.74,87.9763 1073.39,1445.72 1094.03,87.9763 1114.68,1445.72 1135.32,87.9763 1155.97,1445.72 1176.61,87.9763 1197.26,1445.72 1217.9,87.9763 1238.55,1445.72 1259.19,87.9763 1279.84,1445.72 1300.48,87.9763 1321.13,1445.72 1341.77,87.9763 1362.42,1445.72 1383.06,87.9763 1403.71,1445.72 1424.35,87.9763 1445,1445.72 1465.64,87.9763 1486.29,1445.72 1506.93,87.9763 1527.58,1445.72 1548.22,87.9763 1568.87,1445.72 1589.51,87.9763 1610.16,1445.72 1630.8,87.9763 1651.45,1445.72 1672.09,87.9763 1692.74,1445.72 1713.38,87.9763 1734.03,1445.72 1754.67,87.9763 1775.32,1445.72 1795.96,87.9763 1816.61,1445.72 1837.25,87.9763 1857.9,1445.72 1878.54,87.9763 1899.19,1445.72 1919.83,87.9763 1940.48,1445.72 1961.12,87.9763 1981.77,1445.72 2002.41,87.9763 2023.06,1445.72 2043.7,87.9763 2064.35,1445.72 2084.99,87.9763 2105.64,1445.72 2126.28,87.9763 2146.93,1445.72 2167.57,87.9763 2188.22,1445.72 2208.86,87.9763 2229.51,1445.72 2250.15,87.9763 2270.8,1445.72 2291.44,87.9763 \"/>\n",
       "<path clip-path=\"url(#clip130)\" d=\"M258.49 198.898 L527.569 198.898 L527.569 95.2176 L258.49 95.2176  Z\" fill=\"#ffffff\" fill-rule=\"evenodd\" fill-opacity=\"1\"/>\n",
       "<polyline clip-path=\"url(#clip130)\" style=\"stroke:#000000; stroke-linecap:round; stroke-linejoin:round; stroke-width:4; stroke-opacity:1; fill:none\" points=\"258.49,198.898 527.569,198.898 527.569,95.2176 258.49,95.2176 258.49,198.898 \"/>\n",
       "<polyline clip-path=\"url(#clip130)\" style=\"stroke:#009af9; stroke-linecap:round; stroke-linejoin:round; stroke-width:4; stroke-opacity:1; fill:none\" points=\"282.562,147.058 426.994,147.058 \"/>\n",
       "<path clip-path=\"url(#clip130)\" d=\"M464.909 166.745 Q463.103 171.375 461.39 172.787 Q459.677 174.199 456.807 174.199 L453.404 174.199 L453.404 170.634 L455.904 170.634 Q457.663 170.634 458.636 169.8 Q459.608 168.967 460.788 165.865 L461.552 163.921 L451.066 138.412 L455.58 138.412 L463.682 158.689 L471.784 138.412 L476.298 138.412 L464.909 166.745 Z\" fill=\"#000000\" fill-rule=\"nonzero\" fill-opacity=\"1\" /><path clip-path=\"url(#clip130)\" d=\"M483.589 160.402 L491.228 160.402 L491.228 134.037 L482.918 135.703 L482.918 131.444 L491.182 129.778 L495.858 129.778 L495.858 160.402 L503.497 160.402 L503.497 164.338 L483.589 164.338 L483.589 160.402 Z\" fill=\"#000000\" fill-rule=\"nonzero\" fill-opacity=\"1\" /></svg>\n"
      ],
      "text/html": [
       "<?xml version=\"1.0\" encoding=\"utf-8\"?>\n",
       "<svg xmlns=\"http://www.w3.org/2000/svg\" xmlns:xlink=\"http://www.w3.org/1999/xlink\" width=\"600\" height=\"400\" viewBox=\"0 0 2400 1600\">\n",
       "<defs>\n",
       "  <clipPath id=\"clip180\">\n",
       "    <rect x=\"0\" y=\"0\" width=\"2400\" height=\"1600\"/>\n",
       "  </clipPath>\n",
       "</defs>\n",
       "<path clip-path=\"url(#clip180)\" d=\"M0 1600 L2400 1600 L2400 8.88178e-14 L0 8.88178e-14  Z\" fill=\"#ffffff\" fill-rule=\"evenodd\" fill-opacity=\"1\"/>\n",
       "<defs>\n",
       "  <clipPath id=\"clip181\">\n",
       "    <rect x=\"480\" y=\"0\" width=\"1681\" height=\"1600\"/>\n",
       "  </clipPath>\n",
       "</defs>\n",
       "<path clip-path=\"url(#clip180)\" d=\"M186.274 1486.45 L2352.76 1486.45 L2352.76 47.2441 L186.274 47.2441  Z\" fill=\"#ffffff\" fill-rule=\"evenodd\" fill-opacity=\"1\"/>\n",
       "<defs>\n",
       "  <clipPath id=\"clip182\">\n",
       "    <rect x=\"186\" y=\"47\" width=\"2167\" height=\"1440\"/>\n",
       "  </clipPath>\n",
       "</defs>\n",
       "<polyline clip-path=\"url(#clip182)\" style=\"stroke:#000000; stroke-linecap:round; stroke-linejoin:round; stroke-width:2; stroke-opacity:0.1; fill:none\" points=\"226.945,1486.45 226.945,47.2441 \"/>\n",
       "<polyline clip-path=\"url(#clip182)\" style=\"stroke:#000000; stroke-linecap:round; stroke-linejoin:round; stroke-width:2; stroke-opacity:0.1; fill:none\" points=\"743.069,1486.45 743.069,47.2441 \"/>\n",
       "<polyline clip-path=\"url(#clip182)\" style=\"stroke:#000000; stroke-linecap:round; stroke-linejoin:round; stroke-width:2; stroke-opacity:0.1; fill:none\" points=\"1259.19,1486.45 1259.19,47.2441 \"/>\n",
       "<polyline clip-path=\"url(#clip182)\" style=\"stroke:#000000; stroke-linecap:round; stroke-linejoin:round; stroke-width:2; stroke-opacity:0.1; fill:none\" points=\"1775.32,1486.45 1775.32,47.2441 \"/>\n",
       "<polyline clip-path=\"url(#clip182)\" style=\"stroke:#000000; stroke-linecap:round; stroke-linejoin:round; stroke-width:2; stroke-opacity:0.1; fill:none\" points=\"2291.44,1486.45 2291.44,47.2441 \"/>\n",
       "<polyline clip-path=\"url(#clip180)\" style=\"stroke:#000000; stroke-linecap:round; stroke-linejoin:round; stroke-width:4; stroke-opacity:1; fill:none\" points=\"186.274,1486.45 2352.76,1486.45 \"/>\n",
       "<polyline clip-path=\"url(#clip180)\" style=\"stroke:#000000; stroke-linecap:round; stroke-linejoin:round; stroke-width:4; stroke-opacity:1; fill:none\" points=\"226.945,1486.45 226.945,1467.55 \"/>\n",
       "<polyline clip-path=\"url(#clip180)\" style=\"stroke:#000000; stroke-linecap:round; stroke-linejoin:round; stroke-width:4; stroke-opacity:1; fill:none\" points=\"743.069,1486.45 743.069,1467.55 \"/>\n",
       "<polyline clip-path=\"url(#clip180)\" style=\"stroke:#000000; stroke-linecap:round; stroke-linejoin:round; stroke-width:4; stroke-opacity:1; fill:none\" points=\"1259.19,1486.45 1259.19,1467.55 \"/>\n",
       "<polyline clip-path=\"url(#clip180)\" style=\"stroke:#000000; stroke-linecap:round; stroke-linejoin:round; stroke-width:4; stroke-opacity:1; fill:none\" points=\"1775.32,1486.45 1775.32,1467.55 \"/>\n",
       "<polyline clip-path=\"url(#clip180)\" style=\"stroke:#000000; stroke-linecap:round; stroke-linejoin:round; stroke-width:4; stroke-opacity:1; fill:none\" points=\"2291.44,1486.45 2291.44,1467.55 \"/>\n",
       "<path clip-path=\"url(#clip180)\" d=\"M226.945 1517.37 Q223.333 1517.37 221.505 1520.93 Q219.699 1524.47 219.699 1531.6 Q219.699 1538.71 221.505 1542.27 Q223.333 1545.82 226.945 1545.82 Q230.579 1545.82 232.384 1542.27 Q234.213 1538.71 234.213 1531.6 Q234.213 1524.47 232.384 1520.93 Q230.579 1517.37 226.945 1517.37 M226.945 1513.66 Q232.755 1513.66 235.81 1518.27 Q238.889 1522.85 238.889 1531.6 Q238.889 1540.33 235.81 1544.94 Q232.755 1549.52 226.945 1549.52 Q221.134 1549.52 218.056 1544.94 Q215 1540.33 215 1531.6 Q215 1522.85 218.056 1518.27 Q221.134 1513.66 226.945 1513.66 Z\" fill=\"#000000\" fill-rule=\"nonzero\" fill-opacity=\"1\" /><path clip-path=\"url(#clip180)\" d=\"M722.339 1544.91 L738.659 1544.91 L738.659 1548.85 L716.714 1548.85 L716.714 1544.91 Q719.377 1542.16 723.96 1537.53 Q728.566 1532.88 729.747 1531.53 Q731.992 1529.01 732.872 1527.27 Q733.775 1525.51 733.775 1523.82 Q733.775 1521.07 731.83 1519.33 Q729.909 1517.6 726.807 1517.6 Q724.608 1517.6 722.154 1518.36 Q719.724 1519.13 716.946 1520.68 L716.946 1515.95 Q719.77 1514.82 722.224 1514.24 Q724.677 1513.66 726.714 1513.66 Q732.085 1513.66 735.279 1516.35 Q738.474 1519.03 738.474 1523.52 Q738.474 1525.65 737.663 1527.57 Q736.876 1529.47 734.77 1532.07 Q734.191 1532.74 731.089 1535.95 Q727.988 1539.15 722.339 1544.91 Z\" fill=\"#000000\" fill-rule=\"nonzero\" fill-opacity=\"1\" /><path clip-path=\"url(#clip180)\" d=\"M748.52 1514.29 L766.876 1514.29 L766.876 1518.22 L752.802 1518.22 L752.802 1526.7 Q753.821 1526.35 754.839 1526.19 Q755.858 1526 756.876 1526 Q762.663 1526 766.043 1529.17 Q769.423 1532.34 769.423 1537.76 Q769.423 1543.34 765.95 1546.44 Q762.478 1549.52 756.159 1549.52 Q753.983 1549.52 751.714 1549.15 Q749.469 1548.78 747.062 1548.04 L747.062 1543.34 Q749.145 1544.47 751.367 1545.03 Q753.589 1545.58 756.066 1545.58 Q760.071 1545.58 762.409 1543.48 Q764.747 1541.37 764.747 1537.76 Q764.747 1534.15 762.409 1532.04 Q760.071 1529.94 756.066 1529.94 Q754.191 1529.94 752.316 1530.35 Q750.464 1530.77 748.52 1531.65 L748.52 1514.29 Z\" fill=\"#000000\" fill-rule=\"nonzero\" fill-opacity=\"1\" /><path clip-path=\"url(#clip180)\" d=\"M1233.89 1514.29 L1252.25 1514.29 L1252.25 1518.22 L1238.17 1518.22 L1238.17 1526.7 Q1239.19 1526.35 1240.21 1526.19 Q1241.23 1526 1242.25 1526 Q1248.04 1526 1251.41 1529.17 Q1254.79 1532.34 1254.79 1537.76 Q1254.79 1543.34 1251.32 1546.44 Q1247.85 1549.52 1241.53 1549.52 Q1239.35 1549.52 1237.09 1549.15 Q1234.84 1548.78 1232.43 1548.04 L1232.43 1543.34 Q1234.52 1544.47 1236.74 1545.03 Q1238.96 1545.58 1241.44 1545.58 Q1245.44 1545.58 1247.78 1543.48 Q1250.12 1541.37 1250.12 1537.76 Q1250.12 1534.15 1247.78 1532.04 Q1245.44 1529.94 1241.44 1529.94 Q1239.56 1529.94 1237.69 1530.35 Q1235.84 1530.77 1233.89 1531.65 L1233.89 1514.29 Z\" fill=\"#000000\" fill-rule=\"nonzero\" fill-opacity=\"1\" /><path clip-path=\"url(#clip180)\" d=\"M1274.01 1517.37 Q1270.4 1517.37 1268.57 1520.93 Q1266.76 1524.47 1266.76 1531.6 Q1266.76 1538.71 1268.57 1542.27 Q1270.4 1545.82 1274.01 1545.82 Q1277.64 1545.82 1279.45 1542.27 Q1281.28 1538.71 1281.28 1531.6 Q1281.28 1524.47 1279.45 1520.93 Q1277.64 1517.37 1274.01 1517.37 M1274.01 1513.66 Q1279.82 1513.66 1282.87 1518.27 Q1285.95 1522.85 1285.95 1531.6 Q1285.95 1540.33 1282.87 1544.94 Q1279.82 1549.52 1274.01 1549.52 Q1268.2 1549.52 1265.12 1544.94 Q1262.06 1540.33 1262.06 1531.6 Q1262.06 1522.85 1265.12 1518.27 Q1268.2 1513.66 1274.01 1513.66 Z\" fill=\"#000000\" fill-rule=\"nonzero\" fill-opacity=\"1\" /><path clip-path=\"url(#clip180)\" d=\"M1749.17 1514.29 L1771.39 1514.29 L1771.39 1516.28 L1758.85 1548.85 L1753.96 1548.85 L1765.77 1518.22 L1749.17 1518.22 L1749.17 1514.29 Z\" fill=\"#000000\" fill-rule=\"nonzero\" fill-opacity=\"1\" /><path clip-path=\"url(#clip180)\" d=\"M1780.56 1514.29 L1798.92 1514.29 L1798.92 1518.22 L1784.84 1518.22 L1784.84 1526.7 Q1785.86 1526.35 1786.88 1526.19 Q1787.9 1526 1788.92 1526 Q1794.7 1526 1798.08 1529.17 Q1801.46 1532.34 1801.46 1537.76 Q1801.46 1543.34 1797.99 1546.44 Q1794.52 1549.52 1788.2 1549.52 Q1786.02 1549.52 1783.75 1549.15 Q1781.51 1548.78 1779.1 1548.04 L1779.1 1543.34 Q1781.18 1544.47 1783.41 1545.03 Q1785.63 1545.58 1788.11 1545.58 Q1792.11 1545.58 1794.45 1543.48 Q1796.79 1541.37 1796.79 1537.76 Q1796.79 1534.15 1794.45 1532.04 Q1792.11 1529.94 1788.11 1529.94 Q1786.23 1529.94 1784.36 1530.35 Q1782.5 1530.77 1780.56 1531.65 L1780.56 1514.29 Z\" fill=\"#000000\" fill-rule=\"nonzero\" fill-opacity=\"1\" /><path clip-path=\"url(#clip180)\" d=\"M2251.05 1544.91 L2258.69 1544.91 L2258.69 1518.55 L2250.38 1520.21 L2250.38 1515.95 L2258.64 1514.29 L2263.32 1514.29 L2263.32 1544.91 L2270.95 1544.91 L2270.95 1548.85 L2251.05 1548.85 L2251.05 1544.91 Z\" fill=\"#000000\" fill-rule=\"nonzero\" fill-opacity=\"1\" /><path clip-path=\"url(#clip180)\" d=\"M2290.4 1517.37 Q2286.79 1517.37 2284.96 1520.93 Q2283.15 1524.47 2283.15 1531.6 Q2283.15 1538.71 2284.96 1542.27 Q2286.79 1545.82 2290.4 1545.82 Q2294.03 1545.82 2295.84 1542.27 Q2297.67 1538.71 2297.67 1531.6 Q2297.67 1524.47 2295.84 1520.93 Q2294.03 1517.37 2290.4 1517.37 M2290.4 1513.66 Q2296.21 1513.66 2299.26 1518.27 Q2302.34 1522.85 2302.34 1531.6 Q2302.34 1540.33 2299.26 1544.94 Q2296.21 1549.52 2290.4 1549.52 Q2284.59 1549.52 2281.51 1544.94 Q2278.45 1540.33 2278.45 1531.6 Q2278.45 1522.85 2281.51 1518.27 Q2284.59 1513.66 2290.4 1513.66 Z\" fill=\"#000000\" fill-rule=\"nonzero\" fill-opacity=\"1\" /><path clip-path=\"url(#clip180)\" d=\"M2320.56 1517.37 Q2316.95 1517.37 2315.12 1520.93 Q2313.32 1524.47 2313.32 1531.6 Q2313.32 1538.71 2315.12 1542.27 Q2316.95 1545.82 2320.56 1545.82 Q2324.19 1545.82 2326 1542.27 Q2327.83 1538.71 2327.83 1531.6 Q2327.83 1524.47 2326 1520.93 Q2324.19 1517.37 2320.56 1517.37 M2320.56 1513.66 Q2326.37 1513.66 2329.43 1518.27 Q2332.5 1522.85 2332.5 1531.6 Q2332.5 1540.33 2329.43 1544.94 Q2326.37 1549.52 2320.56 1549.52 Q2314.75 1549.52 2311.67 1544.94 Q2308.62 1540.33 2308.62 1531.6 Q2308.62 1522.85 2311.67 1518.27 Q2314.75 1513.66 2320.56 1513.66 Z\" fill=\"#000000\" fill-rule=\"nonzero\" fill-opacity=\"1\" /><polyline clip-path=\"url(#clip182)\" style=\"stroke:#000000; stroke-linecap:round; stroke-linejoin:round; stroke-width:2; stroke-opacity:0.1; fill:none\" points=\"186.274,1445.72 2352.76,1445.72 \"/>\n",
       "<polyline clip-path=\"url(#clip182)\" style=\"stroke:#000000; stroke-linecap:round; stroke-linejoin:round; stroke-width:2; stroke-opacity:0.1; fill:none\" points=\"186.274,1106.28 2352.76,1106.28 \"/>\n",
       "<polyline clip-path=\"url(#clip182)\" style=\"stroke:#000000; stroke-linecap:round; stroke-linejoin:round; stroke-width:2; stroke-opacity:0.1; fill:none\" points=\"186.274,766.846 2352.76,766.846 \"/>\n",
       "<polyline clip-path=\"url(#clip182)\" style=\"stroke:#000000; stroke-linecap:round; stroke-linejoin:round; stroke-width:2; stroke-opacity:0.1; fill:none\" points=\"186.274,427.411 2352.76,427.411 \"/>\n",
       "<polyline clip-path=\"url(#clip182)\" style=\"stroke:#000000; stroke-linecap:round; stroke-linejoin:round; stroke-width:2; stroke-opacity:0.1; fill:none\" points=\"186.274,87.9763 2352.76,87.9763 \"/>\n",
       "<polyline clip-path=\"url(#clip180)\" style=\"stroke:#000000; stroke-linecap:round; stroke-linejoin:round; stroke-width:4; stroke-opacity:1; fill:none\" points=\"186.274,1486.45 186.274,47.2441 \"/>\n",
       "<polyline clip-path=\"url(#clip180)\" style=\"stroke:#000000; stroke-linecap:round; stroke-linejoin:round; stroke-width:4; stroke-opacity:1; fill:none\" points=\"186.274,1445.72 205.172,1445.72 \"/>\n",
       "<polyline clip-path=\"url(#clip180)\" style=\"stroke:#000000; stroke-linecap:round; stroke-linejoin:round; stroke-width:4; stroke-opacity:1; fill:none\" points=\"186.274,1106.28 205.172,1106.28 \"/>\n",
       "<polyline clip-path=\"url(#clip180)\" style=\"stroke:#000000; stroke-linecap:round; stroke-linejoin:round; stroke-width:4; stroke-opacity:1; fill:none\" points=\"186.274,766.846 205.172,766.846 \"/>\n",
       "<polyline clip-path=\"url(#clip180)\" style=\"stroke:#000000; stroke-linecap:round; stroke-linejoin:round; stroke-width:4; stroke-opacity:1; fill:none\" points=\"186.274,427.411 205.172,427.411 \"/>\n",
       "<polyline clip-path=\"url(#clip180)\" style=\"stroke:#000000; stroke-linecap:round; stroke-linejoin:round; stroke-width:4; stroke-opacity:1; fill:none\" points=\"186.274,87.9763 205.172,87.9763 \"/>\n",
       "<path clip-path=\"url(#clip180)\" d=\"M62.9365 1431.51 Q59.3254 1431.51 57.4967 1435.08 Q55.6912 1438.62 55.6912 1445.75 Q55.6912 1452.86 57.4967 1456.42 Q59.3254 1459.96 62.9365 1459.96 Q66.5707 1459.96 68.3763 1456.42 Q70.205 1452.86 70.205 1445.75 Q70.205 1438.62 68.3763 1435.08 Q66.5707 1431.51 62.9365 1431.51 M62.9365 1427.81 Q68.7467 1427.81 71.8022 1432.42 Q74.8809 1437 74.8809 1445.75 Q74.8809 1454.48 71.8022 1459.08 Q68.7467 1463.67 62.9365 1463.67 Q57.1264 1463.67 54.0477 1459.08 Q50.9921 1454.48 50.9921 1445.75 Q50.9921 1437 54.0477 1432.42 Q57.1264 1427.81 62.9365 1427.81 Z\" fill=\"#000000\" fill-rule=\"nonzero\" fill-opacity=\"1\" /><path clip-path=\"url(#clip180)\" d=\"M83.0984 1457.12 L87.9827 1457.12 L87.9827 1463 L83.0984 1463 L83.0984 1457.12 Z\" fill=\"#000000\" fill-rule=\"nonzero\" fill-opacity=\"1\" /><path clip-path=\"url(#clip180)\" d=\"M98.3067 1462.28 L98.3067 1458.02 Q100.066 1458.85 101.871 1459.29 Q103.677 1459.73 105.413 1459.73 Q110.043 1459.73 112.473 1456.63 Q114.927 1453.51 115.274 1447.16 Q113.932 1449.15 111.871 1450.22 Q109.811 1451.28 107.311 1451.28 Q102.126 1451.28 99.0937 1448.16 Q96.0845 1445.01 96.0845 1439.57 Q96.0845 1434.25 99.2326 1431.03 Q102.381 1427.81 107.612 1427.81 Q113.608 1427.81 116.756 1432.42 Q119.927 1437 119.927 1445.75 Q119.927 1453.92 116.038 1458.81 Q112.172 1463.67 105.621 1463.67 Q103.862 1463.67 102.057 1463.32 Q100.251 1462.97 98.3067 1462.28 M107.612 1447.63 Q110.76 1447.63 112.589 1445.47 Q114.441 1443.32 114.441 1439.57 Q114.441 1435.84 112.589 1433.69 Q110.76 1431.51 107.612 1431.51 Q104.464 1431.51 102.612 1433.69 Q100.784 1435.84 100.784 1439.57 Q100.784 1443.32 102.612 1445.47 Q104.464 1447.63 107.612 1447.63 Z\" fill=\"#000000\" fill-rule=\"nonzero\" fill-opacity=\"1\" /><path clip-path=\"url(#clip180)\" d=\"M138.33 1431.51 Q134.719 1431.51 132.89 1435.08 Q131.084 1438.62 131.084 1445.75 Q131.084 1452.86 132.89 1456.42 Q134.719 1459.96 138.33 1459.96 Q141.964 1459.96 143.769 1456.42 Q145.598 1452.86 145.598 1445.75 Q145.598 1438.62 143.769 1435.08 Q141.964 1431.51 138.33 1431.51 M138.33 1427.81 Q144.14 1427.81 147.195 1432.42 Q150.274 1437 150.274 1445.75 Q150.274 1454.48 147.195 1459.08 Q144.14 1463.67 138.33 1463.67 Q132.519 1463.67 129.441 1459.08 Q126.385 1454.48 126.385 1445.75 Q126.385 1437 129.441 1432.42 Q132.519 1427.81 138.33 1427.81 Z\" fill=\"#000000\" fill-rule=\"nonzero\" fill-opacity=\"1\" /><path clip-path=\"url(#clip180)\" d=\"M63.9319 1092.08 Q60.3208 1092.08 58.4921 1095.64 Q56.6865 1099.19 56.6865 1106.32 Q56.6865 1113.42 58.4921 1116.99 Q60.3208 1120.53 63.9319 1120.53 Q67.5661 1120.53 69.3717 1116.99 Q71.2004 1113.42 71.2004 1106.32 Q71.2004 1099.19 69.3717 1095.64 Q67.5661 1092.08 63.9319 1092.08 M63.9319 1088.38 Q69.742 1088.38 72.7976 1092.98 Q75.8763 1097.57 75.8763 1106.32 Q75.8763 1115.04 72.7976 1119.65 Q69.742 1124.23 63.9319 1124.23 Q58.1217 1124.23 55.043 1119.65 Q51.9875 1115.04 51.9875 1106.32 Q51.9875 1097.57 55.043 1092.98 Q58.1217 1088.38 63.9319 1088.38 Z\" fill=\"#000000\" fill-rule=\"nonzero\" fill-opacity=\"1\" /><path clip-path=\"url(#clip180)\" d=\"M84.0938 1117.68 L88.978 1117.68 L88.978 1123.56 L84.0938 1123.56 L84.0938 1117.68 Z\" fill=\"#000000\" fill-rule=\"nonzero\" fill-opacity=\"1\" /><path clip-path=\"url(#clip180)\" d=\"M99.3021 1122.84 L99.3021 1118.58 Q101.061 1119.42 102.867 1119.86 Q104.672 1120.3 106.408 1120.3 Q111.038 1120.3 113.469 1117.2 Q115.922 1114.07 116.27 1107.73 Q114.927 1109.72 112.867 1110.78 Q110.807 1111.85 108.307 1111.85 Q103.121 1111.85 100.089 1108.72 Q97.0798 1105.57 97.0798 1100.14 Q97.0798 1094.81 100.228 1091.59 Q103.376 1088.38 108.608 1088.38 Q114.603 1088.38 117.751 1092.98 Q120.922 1097.57 120.922 1106.32 Q120.922 1114.49 117.033 1119.37 Q113.168 1124.23 106.617 1124.23 Q104.858 1124.23 103.052 1123.88 Q101.246 1123.54 99.3021 1122.84 M108.608 1108.19 Q111.756 1108.19 113.584 1106.04 Q115.436 1103.89 115.436 1100.14 Q115.436 1096.41 113.584 1094.26 Q111.756 1092.08 108.608 1092.08 Q105.459 1092.08 103.608 1094.26 Q101.779 1096.41 101.779 1100.14 Q101.779 1103.89 103.608 1106.04 Q105.459 1108.19 108.608 1108.19 Z\" fill=\"#000000\" fill-rule=\"nonzero\" fill-opacity=\"1\" /><path clip-path=\"url(#clip180)\" d=\"M129.371 1089 L147.728 1089 L147.728 1092.94 L133.654 1092.94 L133.654 1101.41 Q134.672 1101.06 135.691 1100.9 Q136.709 1100.71 137.728 1100.71 Q143.515 1100.71 146.894 1103.89 Q150.274 1107.06 150.274 1112.47 Q150.274 1118.05 146.802 1121.15 Q143.33 1124.23 137.01 1124.23 Q134.834 1124.23 132.566 1123.86 Q130.32 1123.49 127.913 1122.75 L127.913 1118.05 Q129.996 1119.19 132.219 1119.74 Q134.441 1120.3 136.918 1120.3 Q140.922 1120.3 143.26 1118.19 Q145.598 1116.08 145.598 1112.47 Q145.598 1108.86 143.26 1106.76 Q140.922 1104.65 136.918 1104.65 Q135.043 1104.65 133.168 1105.07 Q131.316 1105.48 129.371 1106.36 L129.371 1089 Z\" fill=\"#000000\" fill-rule=\"nonzero\" fill-opacity=\"1\" /><path clip-path=\"url(#clip180)\" d=\"M53.7467 780.191 L61.3856 780.191 L61.3856 753.825 L53.0754 755.492 L53.0754 751.233 L61.3393 749.566 L66.0152 749.566 L66.0152 780.191 L73.654 780.191 L73.654 784.126 L53.7467 784.126 L53.7467 780.191 Z\" fill=\"#000000\" fill-rule=\"nonzero\" fill-opacity=\"1\" /><path clip-path=\"url(#clip180)\" d=\"M83.0984 778.246 L87.9827 778.246 L87.9827 784.126 L83.0984 784.126 L83.0984 778.246 Z\" fill=\"#000000\" fill-rule=\"nonzero\" fill-opacity=\"1\" /><path clip-path=\"url(#clip180)\" d=\"M108.168 752.645 Q104.557 752.645 102.728 756.209 Q100.922 759.751 100.922 766.881 Q100.922 773.987 102.728 777.552 Q104.557 781.094 108.168 781.094 Q111.802 781.094 113.608 777.552 Q115.436 773.987 115.436 766.881 Q115.436 759.751 113.608 756.209 Q111.802 752.645 108.168 752.645 M108.168 748.941 Q113.978 748.941 117.033 753.547 Q120.112 758.131 120.112 766.881 Q120.112 775.608 117.033 780.214 Q113.978 784.797 108.168 784.797 Q102.358 784.797 99.2789 780.214 Q96.2234 775.608 96.2234 766.881 Q96.2234 758.131 99.2789 753.547 Q102.358 748.941 108.168 748.941 Z\" fill=\"#000000\" fill-rule=\"nonzero\" fill-opacity=\"1\" /><path clip-path=\"url(#clip180)\" d=\"M138.33 752.645 Q134.719 752.645 132.89 756.209 Q131.084 759.751 131.084 766.881 Q131.084 773.987 132.89 777.552 Q134.719 781.094 138.33 781.094 Q141.964 781.094 143.769 777.552 Q145.598 773.987 145.598 766.881 Q145.598 759.751 143.769 756.209 Q141.964 752.645 138.33 752.645 M138.33 748.941 Q144.14 748.941 147.195 753.547 Q150.274 758.131 150.274 766.881 Q150.274 775.608 147.195 780.214 Q144.14 784.797 138.33 784.797 Q132.519 784.797 129.441 780.214 Q126.385 775.608 126.385 766.881 Q126.385 758.131 129.441 753.547 Q132.519 748.941 138.33 748.941 Z\" fill=\"#000000\" fill-rule=\"nonzero\" fill-opacity=\"1\" /><path clip-path=\"url(#clip180)\" d=\"M54.7421 440.756 L62.381 440.756 L62.381 414.39 L54.0708 416.057 L54.0708 411.798 L62.3347 410.131 L67.0106 410.131 L67.0106 440.756 L74.6494 440.756 L74.6494 444.691 L54.7421 444.691 L54.7421 440.756 Z\" fill=\"#000000\" fill-rule=\"nonzero\" fill-opacity=\"1\" /><path clip-path=\"url(#clip180)\" d=\"M84.0938 438.812 L88.978 438.812 L88.978 444.691 L84.0938 444.691 L84.0938 438.812 Z\" fill=\"#000000\" fill-rule=\"nonzero\" fill-opacity=\"1\" /><path clip-path=\"url(#clip180)\" d=\"M109.163 413.21 Q105.552 413.21 103.723 416.775 Q101.918 420.316 101.918 427.446 Q101.918 434.552 103.723 438.117 Q105.552 441.659 109.163 441.659 Q112.797 441.659 114.603 438.117 Q116.432 434.552 116.432 427.446 Q116.432 420.316 114.603 416.775 Q112.797 413.21 109.163 413.21 M109.163 409.506 Q114.973 409.506 118.029 414.113 Q121.107 418.696 121.107 427.446 Q121.107 436.173 118.029 440.779 Q114.973 445.362 109.163 445.362 Q103.353 445.362 100.274 440.779 Q97.2187 436.173 97.2187 427.446 Q97.2187 418.696 100.274 414.113 Q103.353 409.506 109.163 409.506 Z\" fill=\"#000000\" fill-rule=\"nonzero\" fill-opacity=\"1\" /><path clip-path=\"url(#clip180)\" d=\"M129.371 410.131 L147.728 410.131 L147.728 414.066 L133.654 414.066 L133.654 422.538 Q134.672 422.191 135.691 422.029 Q136.709 421.844 137.728 421.844 Q143.515 421.844 146.894 425.015 Q150.274 428.187 150.274 433.603 Q150.274 439.182 146.802 442.284 Q143.33 445.362 137.01 445.362 Q134.834 445.362 132.566 444.992 Q130.32 444.622 127.913 443.881 L127.913 439.182 Q129.996 440.316 132.219 440.872 Q134.441 441.427 136.918 441.427 Q140.922 441.427 143.26 439.321 Q145.598 437.214 145.598 433.603 Q145.598 429.992 143.26 427.886 Q140.922 425.779 136.918 425.779 Q135.043 425.779 133.168 426.196 Q131.316 426.613 129.371 427.492 L129.371 410.131 Z\" fill=\"#000000\" fill-rule=\"nonzero\" fill-opacity=\"1\" /><path clip-path=\"url(#clip180)\" d=\"M53.7467 101.321 L61.3856 101.321 L61.3856 74.9555 L53.0754 76.6222 L53.0754 72.3629 L61.3393 70.6963 L66.0152 70.6963 L66.0152 101.321 L73.654 101.321 L73.654 105.256 L53.7467 105.256 L53.7467 101.321 Z\" fill=\"#000000\" fill-rule=\"nonzero\" fill-opacity=\"1\" /><path clip-path=\"url(#clip180)\" d=\"M83.0984 99.3767 L87.9827 99.3767 L87.9827 105.256 L83.0984 105.256 L83.0984 99.3767 Z\" fill=\"#000000\" fill-rule=\"nonzero\" fill-opacity=\"1\" /><path clip-path=\"url(#clip180)\" d=\"M98.978 101.321 L106.617 101.321 L106.617 74.9555 L98.3067 76.6222 L98.3067 72.3629 L106.571 70.6963 L111.246 70.6963 L111.246 101.321 L118.885 101.321 L118.885 105.256 L98.978 105.256 L98.978 101.321 Z\" fill=\"#000000\" fill-rule=\"nonzero\" fill-opacity=\"1\" /><path clip-path=\"url(#clip180)\" d=\"M138.33 73.775 Q134.719 73.775 132.89 77.3398 Q131.084 80.8814 131.084 88.011 Q131.084 95.1174 132.89 98.6822 Q134.719 102.224 138.33 102.224 Q141.964 102.224 143.769 98.6822 Q145.598 95.1174 145.598 88.011 Q145.598 80.8814 143.769 77.3398 Q141.964 73.775 138.33 73.775 M138.33 70.0713 Q144.14 70.0713 147.195 74.6777 Q150.274 79.261 150.274 88.011 Q150.274 96.7378 147.195 101.344 Q144.14 105.928 138.33 105.928 Q132.519 105.928 129.441 101.344 Q126.385 96.7378 126.385 88.011 Q126.385 79.261 129.441 74.6777 Q132.519 70.0713 138.33 70.0713 Z\" fill=\"#000000\" fill-rule=\"nonzero\" fill-opacity=\"1\" /><polyline clip-path=\"url(#clip182)\" style=\"stroke:#009af9; stroke-linecap:round; stroke-linejoin:round; stroke-width:4; stroke-opacity:1; fill:none\" points=\"247.59,1445.72 268.234,87.9763 288.879,1445.72 309.524,87.9763 330.169,1445.72 350.814,87.9763 371.459,1445.72 392.104,87.9763 412.749,1445.72 433.394,87.9763 454.039,1445.72 474.684,87.9763 495.329,1445.72 515.974,87.9763 536.619,1445.72 557.264,87.9763 577.909,1445.72 598.554,87.9763 619.199,1445.72 639.844,87.9763 660.489,1445.72 681.134,87.9763 701.779,1445.72 722.424,87.9763 743.069,1445.72 763.713,87.9763 784.358,1445.72 805.003,87.9763 825.648,1445.72 846.293,87.9763 866.938,1445.72 887.583,87.9763 908.228,1445.72 928.873,87.9763 949.518,1445.72 970.163,87.9763 990.808,1445.72 1011.45,87.9763 1032.1,1445.72 1052.74,87.9763 1073.39,1445.72 1094.03,87.9763 1114.68,1445.72 1135.32,87.9763 1155.97,1445.72 1176.61,87.9763 1197.26,1445.72 1217.9,87.9763 1238.55,1445.72 1259.19,87.9763 1279.84,1445.72 1300.48,87.9763 1321.13,1445.72 1341.77,87.9763 1362.42,1445.72 1383.06,87.9763 1403.71,1445.72 1424.35,87.9763 1445,1445.72 1465.64,87.9763 1486.29,1445.72 1506.93,87.9763 1527.58,1445.72 1548.22,87.9763 1568.87,1445.72 1589.51,87.9763 1610.16,1445.72 1630.8,87.9763 1651.45,1445.72 1672.09,87.9763 1692.74,1445.72 1713.38,87.9763 1734.03,1445.72 1754.67,87.9763 1775.32,1445.72 1795.96,87.9763 1816.61,1445.72 1837.25,87.9763 1857.9,1445.72 1878.54,87.9763 1899.19,1445.72 1919.83,87.9763 1940.48,1445.72 1961.12,87.9763 1981.77,1445.72 2002.41,87.9763 2023.06,1445.72 2043.7,87.9763 2064.35,1445.72 2084.99,87.9763 2105.64,1445.72 2126.28,87.9763 2146.93,1445.72 2167.57,87.9763 2188.22,1445.72 2208.86,87.9763 2229.51,1445.72 2250.15,87.9763 2270.8,1445.72 2291.44,87.9763 \"/>\n",
       "<path clip-path=\"url(#clip180)\" d=\"M258.49 198.898 L527.569 198.898 L527.569 95.2176 L258.49 95.2176  Z\" fill=\"#ffffff\" fill-rule=\"evenodd\" fill-opacity=\"1\"/>\n",
       "<polyline clip-path=\"url(#clip180)\" style=\"stroke:#000000; stroke-linecap:round; stroke-linejoin:round; stroke-width:4; stroke-opacity:1; fill:none\" points=\"258.49,198.898 527.569,198.898 527.569,95.2176 258.49,95.2176 258.49,198.898 \"/>\n",
       "<polyline clip-path=\"url(#clip180)\" style=\"stroke:#009af9; stroke-linecap:round; stroke-linejoin:round; stroke-width:4; stroke-opacity:1; fill:none\" points=\"282.562,147.058 426.994,147.058 \"/>\n",
       "<path clip-path=\"url(#clip180)\" d=\"M464.909 166.745 Q463.103 171.375 461.39 172.787 Q459.677 174.199 456.807 174.199 L453.404 174.199 L453.404 170.634 L455.904 170.634 Q457.663 170.634 458.636 169.8 Q459.608 168.967 460.788 165.865 L461.552 163.921 L451.066 138.412 L455.58 138.412 L463.682 158.689 L471.784 138.412 L476.298 138.412 L464.909 166.745 Z\" fill=\"#000000\" fill-rule=\"nonzero\" fill-opacity=\"1\" /><path clip-path=\"url(#clip180)\" d=\"M483.589 160.402 L491.228 160.402 L491.228 134.037 L482.918 135.703 L482.918 131.444 L491.182 129.778 L495.858 129.778 L495.858 160.402 L503.497 160.402 L503.497 164.338 L483.589 164.338 L483.589 160.402 Z\" fill=\"#000000\" fill-rule=\"nonzero\" fill-opacity=\"1\" /></svg>\n"
      ]
     },
     "execution_count": 90,
     "metadata": {},
     "output_type": "execute_result"
    }
   ],
   "source": [
    "plot(phi1)"
   ]
  },
  {
   "cell_type": "code",
   "execution_count": 91,
   "id": "ce0e31f3-2c04-4f23-93d7-64751f378fb8",
   "metadata": {},
   "outputs": [
    {
     "data": {
      "text/plain": [
       "0.05"
      ]
     },
     "execution_count": 91,
     "metadata": {},
     "output_type": "execute_result"
    }
   ],
   "source": [
    "energy(phi0,V1,0.1)"
   ]
  },
  {
   "cell_type": "code",
   "execution_count": 92,
   "id": "f482596a-41e1-42d8-ac63-cc3d899b14dc",
   "metadata": {},
   "outputs": [
    {
     "data": {
      "text/plain": [
       "396.03960396039616"
      ]
     },
     "execution_count": 92,
     "metadata": {},
     "output_type": "execute_result"
    }
   ],
   "source": [
    "energy(phi1,V1,0.)"
   ]
  },
  {
   "cell_type": "code",
   "execution_count": 52,
   "id": "2c4e2871-9bde-4103-af33-3a5cda4e3694",
   "metadata": {},
   "outputs": [],
   "source": [
    "using Zygote"
   ]
  },
  {
   "cell_type": "code",
   "execution_count": 53,
   "id": "9aa16349-3664-41de-a8bd-71d18c659667",
   "metadata": {},
   "outputs": [
    {
     "data": {
      "text/plain": [
       "(32.0,)"
      ]
     },
     "execution_count": 53,
     "metadata": {},
     "output_type": "execute_result"
    }
   ],
   "source": [
    "gradient(x -> 3x^2 + 2x + 1, 5)"
   ]
  },
  {
   "cell_type": "code",
   "execution_count": 93,
   "id": "850582cf-8796-4527-9536-19955d6289ad",
   "metadata": {},
   "outputs": [
    {
     "data": {
      "text/plain": [
       "([0.0, 0.0, 0.0, 0.0, 0.0, 0.0, 0.0, 0.0, 0.0, 0.0  …  0.0, 0.0, 0.0, 0.0, 0.0, 0.0, 0.0, 0.0, 0.0, 0.0],)"
      ]
     },
     "execution_count": 93,
     "metadata": {},
     "output_type": "execute_result"
    }
   ],
   "source": [
    "gradient(phi->energy(phi,V1,0.2),phi0)"
   ]
  },
  {
   "cell_type": "code",
   "execution_count": 94,
   "id": "eeec03b1-9269-486d-92ee-46f3702a34ff",
   "metadata": {},
   "outputs": [
    {
     "data": {
      "text/plain": [
       "([-86.26689792594591, 70.58200739395575, -86.26689792594591, 70.58200739395575, -86.26689792594591, 70.58200739395575, -86.26689792594591, 70.58200739395575, -86.26689792594591, 70.58200739395575  …  -86.26689792594591, 70.58200739395575, -86.26689792594591, 70.58200739395575, -86.26689792594591, 70.58200739395575, -86.26689792594591, 70.58200739395575, -86.26689792594591, 70.58200739395575],)"
      ]
     },
     "execution_count": 94,
     "metadata": {},
     "output_type": "execute_result"
    }
   ],
   "source": [
    "gradient(phi->energy(phi,V1,0.2),phi1)"
   ]
  },
  {
   "cell_type": "code",
   "execution_count": 95,
   "id": "0c7e0922-b918-4d61-b540-f195973d8e86",
   "metadata": {},
   "outputs": [
    {
     "data": {
      "text/plain": [
       "1"
      ]
     },
     "execution_count": 95,
     "metadata": {},
     "output_type": "execute_result"
    }
   ],
   "source": [
    "dphi1=zeros(length(phi1));\n",
    "dphi1[1]=1"
   ]
  },
  {
   "cell_type": "code",
   "execution_count": 103,
   "id": "673dcd7a-9e81-4cb5-a453-5ce278532b91",
   "metadata": {},
   "outputs": [
    {
     "name": "stdout",
     "output_type": "stream",
     "text": [
      "  0.000024 seconds (22 allocations: 15.812 KiB)\n"
     ]
    },
    {
     "data": {
      "text/plain": [
       "-86.26690055490371"
      ]
     },
     "execution_count": 103,
     "metadata": {},
     "output_type": "execute_result"
    }
   ],
   "source": [
    "@time (energy(phi1+0.001*dphi1,V1,0.2)-energy(phi1-0.001*dphi1,V1,0.2))/(2*0.001)"
   ]
  },
  {
   "cell_type": "code",
   "execution_count": 109,
   "id": "c8f33623-d60e-4f40-b9df-cc59456d58a7",
   "metadata": {},
   "outputs": [
    {
     "name": "stdout",
     "output_type": "stream",
     "text": [
      "  0.000021 seconds (22 allocations: 15.812 KiB)\n"
     ]
    },
    {
     "data": {
      "text/plain": [
       "-80.0008455747161"
      ]
     },
     "execution_count": 109,
     "metadata": {},
     "output_type": "execute_result"
    }
   ],
   "source": [
    "@time (energy(phi1+0.001*dphi1,V1,0.2)-energy(phi1-0.001*dphi1,V1,0.2))/(2*0.001)"
   ]
  },
  {
   "cell_type": "code",
   "execution_count": 99,
   "id": "ce984af6-5ae9-475a-a92d-ed6f3b72f1a9",
   "metadata": {},
   "outputs": [
    {
     "name": "stdout",
     "output_type": "stream",
     "text": [
      "  0.040099 seconds (120.92 k allocations: 6.862 MiB, 99.46% compilation time)\n"
     ]
    },
    {
     "data": {
      "text/plain": [
       "([-86.26689792594591, 70.58200739395575, -86.26689792594591, 70.58200739395575, -86.26689792594591, 70.58200739395575, -86.26689792594591, 70.58200739395575, -86.26689792594591, 70.58200739395575  …  -86.26689792594591, 70.58200739395575, -86.26689792594591, 70.58200739395575, -86.26689792594591, 70.58200739395575, -86.26689792594591, 70.58200739395575, -86.26689792594591, 70.58200739395575],)"
      ]
     },
     "execution_count": 99,
     "metadata": {},
     "output_type": "execute_result"
    }
   ],
   "source": [
    "@time gradient(phi->energy(phi,V1,0.2),phi1)"
   ]
  },
  {
   "cell_type": "code",
   "execution_count": 76,
   "id": "29f9da92-0684-4d82-86c6-5fe663d0dc12",
   "metadata": {},
   "outputs": [],
   "source": [
    "using ForwardDiff"
   ]
  },
  {
   "cell_type": "code",
   "execution_count": 100,
   "id": "06fe17a8-b879-4cf2-98df-1c816528ffbe",
   "metadata": {},
   "outputs": [
    {
     "name": "stdout",
     "output_type": "stream",
     "text": [
      "  0.257379 seconds (1.15 M allocations: 78.665 MiB, 4.03% gc time, 99.88% compilation time)\n"
     ]
    },
    {
     "data": {
      "text/plain": [
       "100-element Vector{Float64}:\n",
       " -86.26689792594597\n",
       "  70.58200739395578\n",
       " -86.26689792594597\n",
       "  70.58200739395578\n",
       " -86.26689792594597\n",
       "  70.58200739395578\n",
       " -86.26689792594597\n",
       "  70.58200739395578\n",
       " -86.26689792594597\n",
       "  70.58200739395578\n",
       " -86.26689792594597\n",
       "  70.58200739395578\n",
       " -86.26689792594597\n",
       "   ⋮\n",
       " -86.26689792594597\n",
       "  70.58200739395578\n",
       " -86.26689792594597\n",
       "  70.58200739395578\n",
       " -86.26689792594597\n",
       "  70.58200739395578\n",
       " -86.26689792594597\n",
       "  70.58200739395578\n",
       " -86.26689792594597\n",
       "  70.58200739395578\n",
       " -86.26689792594597\n",
       "  70.58200739395578"
      ]
     },
     "execution_count": 100,
     "metadata": {},
     "output_type": "execute_result"
    }
   ],
   "source": [
    "@time ForwardDiff.gradient(phi->energy(phi,V1,0.2), phi1)"
   ]
  },
  {
   "cell_type": "code",
   "execution_count": 83,
   "id": "2fcb27f4-61f7-430c-832d-a27588775034",
   "metadata": {},
   "outputs": [],
   "source": [
    "using ReverseDiff"
   ]
  },
  {
   "cell_type": "code",
   "execution_count": 102,
   "id": "38e0d238-21dc-4a72-9412-7529c96236c5",
   "metadata": {},
   "outputs": [
    {
     "name": "stdout",
     "output_type": "stream",
     "text": [
      "  0.013551 seconds (10.63 k allocations: 760.852 KiB, 98.76% compilation time)\n"
     ]
    },
    {
     "data": {
      "text/plain": [
       "100-element Vector{Float64}:\n",
       " -86.2668979259459\n",
       "  70.58200739395573\n",
       " -86.2668979259459\n",
       "  70.58200739395573\n",
       " -86.2668979259459\n",
       "  70.58200739395573\n",
       " -86.2668979259459\n",
       "  70.58200739395573\n",
       " -86.2668979259459\n",
       "  70.58200739395573\n",
       " -86.2668979259459\n",
       "  70.58200739395573\n",
       " -86.2668979259459\n",
       "   ⋮\n",
       " -86.2668979259459\n",
       "  70.58200739395573\n",
       " -86.2668979259459\n",
       "  70.58200739395573\n",
       " -86.2668979259459\n",
       "  70.58200739395573\n",
       " -86.2668979259459\n",
       "  70.58200739395573\n",
       " -86.2668979259459\n",
       "  70.58200739395573\n",
       " -86.2668979259459\n",
       "  70.58200739395573"
      ]
     },
     "execution_count": 102,
     "metadata": {},
     "output_type": "execute_result"
    }
   ],
   "source": [
    "@time ReverseDiff.gradient(phi->energy(phi,V1,0.2), phi1)"
   ]
  },
  {
   "cell_type": "code",
   "execution_count": null,
   "id": "f88fad04-f7b2-4461-be49-8e3f0a14da9a",
   "metadata": {},
   "outputs": [],
   "source": []
  }
 ],
 "metadata": {
  "kernelspec": {
   "display_name": "Julia 1.10.4",
   "language": "julia",
   "name": "julia-1.10"
  },
  "language_info": {
   "file_extension": ".jl",
   "mimetype": "application/julia",
   "name": "julia",
   "version": "1.10.4"
  }
 },
 "nbformat": 4,
 "nbformat_minor": 5
}
