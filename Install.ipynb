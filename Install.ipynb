{
 "cells": [
  {
   "cell_type": "markdown",
   "id": "4367e266-7520-4791-b5de-2aca2e050f19",
   "metadata": {},
   "source": [
    "# Installing Julia"
   ]
  },
  {
   "cell_type": "markdown",
   "id": "38cd9bd4-f98c-4e95-95e3-3709fc3ed62a",
   "metadata": {},
   "source": [
    "1. Go to https://julialang.org/downloads. and download the current stable release, Julia x.yy.z, using the correct version for your operating system (Linux x86, Mac, Windows, etc).\n",
    "\n",
    "2. After installing, make sure that you can run Julia. On some systems, this means searching for the \"Julia x.yy.z\" program installed on your computer; in others, it means running the command `julia` in a terminal.\n",
    "\n",
    "This puts you in the **Julia REPL** -- an interface which lets you line-by-line run Julia commands.  Test it out by typing `1+1` and then \"enter.\"  Hint: If everything is working you should get `2`\n",
    "\n",
    "3. Inside the Julia REPL type `]` (closing square bracket)\n",
    "    \n",
    "The Julia prompt should change to \"pkg>\" and turn blue, telling you that you are now in package manager mode. This mode allows you to do operations on packages (also called libraries).\n",
    "\n",
    "To install Jupyter, run the following (case sensitive) command to add (install) the package to your system by downloading it from the internet. You should only need to do this once for each installation of Julia:\n",
    "\n",
    "    add IJulia\n",
    "\n",
    "Note: the `IJ` should be capitalized.\n",
    "\n",
    "4. Exit the package manager by hitting back-space or delete\n",
    "\n",
    "5. To start Jupyter in Notebook mode type `using IJulia; notebook()`.  Alternatively, to start it in Jupyterlab mode type  `using IJulia; lab()`.  It may ask if you want to install some software using `conda`.  Respond with `y`.\n",
    "\n",
    "Note:  If you already have Jupyter installed (for example via Anaconda) then I believe the command `add IJulia` adds the Julia kernel to your existing install.\n",
    "\n",
    "7. In the future you should be able to start Jupyter from the **REPL**, or from a terminal command line.  If you install Jupyter through Anaconda, you will also get an icon you can click to start it."
   ]
  },
  {
   "cell_type": "markdown",
   "id": "7c923676-84c1-4916-92a6-d9c0faf3ab29",
   "metadata": {},
   "source": [
    "## VSCode"
   ]
  },
  {
   "cell_type": "markdown",
   "id": "a86c3a64-86e2-41f0-af1b-171f90142979",
   "metadata": {},
   "source": [
    "You can also install Julia through VSCode.  I recommend against doing this for your main Julia interface for this course.  I set things up to work with Jupyter, and I can't guarentee they will work with the VSCode notebook viewer.  (Of course -- feel free to play with it.  It may work great, but it also may be frustrating.)"
   ]
  },
  {
   "cell_type": "markdown",
   "id": "d82bc7ae-fb20-4885-9dd2-953956c1431f",
   "metadata": {},
   "source": [
    "# Julia Package Manager"
   ]
  },
  {
   "cell_type": "markdown",
   "id": "bf21d36d-54df-44f2-a6a7-56008460888e",
   "metadata": {},
   "source": [
    "Julia has a robust package manager which automates the task of downloading and installing packages.  It does take some time to install some of the packages -- so it is a good idea to do that before hand.  Sometime when you have an hour where you will not be using your laptop, run the following command, and it will install most of what we need"
   ]
  },
  {
   "cell_type": "code",
   "execution_count": 7,
   "id": "8e67f8ea-0f65-4791-801f-bd08d7a87cab",
   "metadata": {},
   "outputs": [],
   "source": [
    "# using Pkg\n",
    "# Pkg.add(\"Plots\")\n",
    "# Pkg.add(\"LaTeXStrings\")\n",
    "# Pkg.add(\"BenchmarkTools\")\n",
    "# Pkg.add(\"Makie\")\n",
    "# Pkg.add(\"GLMakie\")\n",
    "# Pkg.add(\"CairoMakie\")\n",
    "# Pkg.add(\"Logging\")\n",
    "# Pkg.add(\"QuadGK\")\n",
    "# Pkg.add(\"ForwardDiff\")\n",
    "# Pkg.add(\"DifferentialEquations\") # This is a big one -- takes a while to install\n",
    "# Pkg.add(\"OrdinaryDiffEq\")\n",
    "# Pkg.add(\"OffsetArrays\")\n",
    "# Pkg.add(\"Random\")\n",
    "# Pkg.add(\"ProgressMeter\")\n",
    "# Pkg.add(\"Statistics\")\n",
    "# Pkg.add(\"LinearAlgebra\")\n",
    "# Pkg.add(\"HDF5\")\n",
    "# Pkg.add(\"CSV\")\n",
    "# Pkg.add(\"CSVFiles\")\n",
    "# Pkg.add(\"Tables\")\n",
    "# Pkg.add(\"DataFrames\")\n",
    "# Pkg.add(\"JLD2\")\n",
    "# Pkg.add(\"DataStructures\")\n",
    "# Pkg.add(\"Polynomials\")\n",
    "# Pkg.add(\"DataInterpolations\")\n",
    "# Pkg.add(\"Roots\")\n",
    "# Pkg.add(\"StatsBase\")"
   ]
  },
  {
   "cell_type": "code",
   "execution_count": null,
   "id": "aea71880-f933-4dd4-a7e4-0536090d4fce",
   "metadata": {},
   "outputs": [],
   "source": []
  }
 ],
 "metadata": {
  "kernelspec": {
   "display_name": "Julia 1.10.4",
   "language": "julia",
   "name": "julia-1.10"
  },
  "language_info": {
   "file_extension": ".jl",
   "mimetype": "application/julia",
   "name": "julia",
   "version": "1.10.4"
  }
 },
 "nbformat": 4,
 "nbformat_minor": 5
}
