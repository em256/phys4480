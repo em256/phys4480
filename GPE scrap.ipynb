{
 "cells": [
  {
   "cell_type": "code",
   "execution_count": 184,
   "id": "f6994a70-4a44-4e70-9198-7dde1b0b114b",
   "metadata": {},
   "outputs": [
    {
     "data": {
      "text/plain": [
       "kinetic (generic function with 1 method)"
      ]
     },
     "execution_count": 184,
     "metadata": {},
     "output_type": "execute_result"
    }
   ],
   "source": [
    "function kinetic(phi,V,eta)\n",
    "    n=length(phi)\n",
    "    norm=(phi)'*(phi)/n\n",
    "    dphi=n*(circshift(phi,1)-phi)\n",
    "    (dphi'*dphi)/(n*norm)\n",
    "end"
   ]
  },
  {
   "cell_type": "code",
   "execution_count": 187,
   "id": "4e88acd7-576b-44be-a7a8-048d2a76d146",
   "metadata": {
    "jupyter": {
     "source_hidden": true
    }
   },
   "outputs": [
    {
     "data": {
      "text/plain": [
       "dkinetic_dphistar (generic function with 1 method)"
      ]
     },
     "execution_count": 187,
     "metadata": {},
     "output_type": "execute_result"
    }
   ],
   "source": [
    "function dkinetic_dphistar(phi,V,eta)\n",
    "    n=length(phi)\n",
    "    norm=(phi)'*(phi)/n\n",
    "    dphi=n*(circshift(phi,1)-phi)\n",
    "    ddphi=n*(circshift(dphi,-1)-dphi)\n",
    "    (ddphi)/(n*norm)-(kinetic(phi,V,eta)/(norm*n))*phi\n",
    "end"
   ]
  },
  {
   "cell_type": "code",
   "execution_count": 185,
   "id": "40cbdceb-7708-453d-af33-d5d55b4ae2bd",
   "metadata": {},
   "outputs": [
    {
     "data": {
      "text/plain": [
       "potential (generic function with 1 method)"
      ]
     },
     "execution_count": 185,
     "metadata": {},
     "output_type": "execute_result"
    }
   ],
   "source": [
    "function potential(phi,V,eta)\n",
    "    n=length(phi)\n",
    "    norm=(phi)'*(phi)/n\n",
    "    (phi'*(V.*phi))/(n*norm)\n",
    "end"
   ]
  },
  {
   "cell_type": "code",
   "execution_count": 188,
   "id": "4a7e5b8f-a589-468c-aac9-a33c2bc1ff9a",
   "metadata": {},
   "outputs": [
    {
     "data": {
      "text/plain": [
       "dpotential_dphistar (generic function with 1 method)"
      ]
     },
     "execution_count": 188,
     "metadata": {},
     "output_type": "execute_result"
    }
   ],
   "source": [
    "function dpotential_dphistar(phi,V,eta)\n",
    "    n=length(phi)\n",
    "    norm=(phi)'*(phi)/n\n",
    "    (V.*phi)/(n*norm)-(potential(phi,V,eta)/(norm*n))*phi\n",
    "end"
   ]
  },
  {
   "cell_type": "code",
   "execution_count": 186,
   "id": "6f6d1e9d-720c-45d4-a905-7d032c480c73",
   "metadata": {},
   "outputs": [
    {
     "data": {
      "text/plain": [
       "interaction (generic function with 1 method)"
      ]
     },
     "execution_count": 186,
     "metadata": {},
     "output_type": "execute_result"
    }
   ],
   "source": [
    "function interaction(phi,V,eta)\n",
    "    n=length(phi)\n",
    "    norm=(phi)'*(phi)/n\n",
    "    phisq=(phi.*phi)\n",
    "    ((eta/2)*(phisq)'*(phisq))/(n*norm)\n",
    "end"
   ]
  },
  {
   "cell_type": "code",
   "execution_count": 190,
   "id": "4756d199-ab07-4d25-9894-bae637c3667b",
   "metadata": {},
   "outputs": [
    {
     "data": {
      "text/plain": [
       "dinteraction_dphistar (generic function with 1 method)"
      ]
     },
     "execution_count": 190,
     "metadata": {},
     "output_type": "execute_result"
    }
   ],
   "source": [
    "function dinteraction_dphistar(phi,V,eta)\n",
    "    n=length(phi)\n",
    "    norm=(phi)'*(phi)/n\n",
    "    phisq=(phi.*phi)\n",
    "    eta*(conjugate(phi).*phisq)/(n*norm)-2*(interaction(phi,V,eta)/(norm*n))*phi\n",
    "end"
   ]
  },
  {
   "cell_type": "code",
   "execution_count": null,
   "id": "f789a261-bde9-4149-ad84-8afb5b20da35",
   "metadata": {},
   "outputs": [],
   "source": [
    "function d2kinetic_dphistar_dphistar(phi,V,eta)\n",
    "    (kinetic(phi,V,eta)/(norm*n))^2*phi*transpose(phi)\n",
    "end"
   ]
  },
  {
   "cell_type": "markdown",
   "id": "d833e8e8-8890-46f1-9f08-d73efb446f29",
   "metadata": {},
   "source": [
    "The following is only roughly right -- trying to think clearly about the clean way to set this up."
   ]
  },
  {
   "cell_type": "code",
   "execution_count": 192,
   "id": "ed89363f-bd64-4c7d-a0fb-c74990de32d2",
   "metadata": {
    "jupyter": {
     "source_hidden": true
    }
   },
   "outputs": [
    {
     "name": "stdout",
     "output_type": "stream",
     "text": [
      "search: \u001b[0m\u001b[1mt\u001b[22m\u001b[0m\u001b[1mr\u001b[22m\u001b[0m\u001b[1ma\u001b[22m\u001b[0m\u001b[1mn\u001b[22m\u001b[0m\u001b[1ms\u001b[22m\u001b[0m\u001b[1mp\u001b[22m\u001b[0m\u001b[1mo\u001b[22m\u001b[0m\u001b[1ms\u001b[22m\u001b[0m\u001b[1me\u001b[22m \u001b[0m\u001b[1mT\u001b[22m\u001b[0m\u001b[1mr\u001b[22m\u001b[0m\u001b[1ma\u001b[22m\u001b[0m\u001b[1mn\u001b[22m\u001b[0m\u001b[1ms\u001b[22m\u001b[0m\u001b[1mp\u001b[22marentC\u001b[0m\u001b[1mo\u001b[22mlor\n",
      "\n"
     ]
    },
    {
     "data": {
      "text/latex": [
       "\\begin{verbatim}\n",
       "transpose(A)\n",
       "\\end{verbatim}\n",
       "Lazy transpose. Mutating the returned object should appropriately mutate \\texttt{A}. Often, but not always, yields \\texttt{Transpose(A)}, where \\texttt{Transpose} is a lazy transpose wrapper. Note that this operation is recursive.\n",
       "\n",
       "This operation is intended for linear algebra usage - for general data manipulation see \\href{@ref Base.permutedims}{\\texttt{permutedims}}, which is non-recursive.\n",
       "\n",
       "\\section{Examples}\n",
       "\\begin{verbatim}\n",
       "julia> A = [3 2; 0 0]\n",
       "2×2 Matrix{Int64}:\n",
       " 3  2\n",
       " 0  0\n",
       "\n",
       "julia> B = transpose(A)\n",
       "2×2 transpose(::Matrix{Int64}) with eltype Int64:\n",
       " 3  0\n",
       " 2  0\n",
       "\n",
       "julia> B isa Transpose\n",
       "true\n",
       "\n",
       "julia> transpose(B) === A # the transpose of a transpose unwraps the parent\n",
       "true\n",
       "\n",
       "julia> Transpose(B) # however, the constructor always wraps its argument\n",
       "2×2 transpose(transpose(::Matrix{Int64})) with eltype Int64:\n",
       " 3  2\n",
       " 0  0\n",
       "\n",
       "julia> B[1,2] = 4; # modifying B will modify A automatically\n",
       "\n",
       "julia> A\n",
       "2×2 Matrix{Int64}:\n",
       " 3  2\n",
       " 4  0\n",
       "\\end{verbatim}\n",
       "For complex matrices, the \\texttt{adjoint} operation is equivalent to a conjugate-transpose.\n",
       "\n",
       "\\begin{verbatim}\n",
       "julia> A = reshape([Complex(x, x) for x in 1:4], 2, 2)\n",
       "2×2 Matrix{Complex{Int64}}:\n",
       " 1+1im  3+3im\n",
       " 2+2im  4+4im\n",
       "\n",
       "julia> adjoint(A) == conj(transpose(A))\n",
       "true\n",
       "\\end{verbatim}\n",
       "The \\texttt{transpose} of an \\texttt{AbstractVector} is a row-vector:\n",
       "\n",
       "\\begin{verbatim}\n",
       "julia> v = [1,2,3]\n",
       "3-element Vector{Int64}:\n",
       " 1\n",
       " 2\n",
       " 3\n",
       "\n",
       "julia> transpose(v) # returns a row-vector\n",
       "1×3 transpose(::Vector{Int64}) with eltype Int64:\n",
       " 1  2  3\n",
       "\n",
       "julia> transpose(v) * v # compute the dot product\n",
       "14\n",
       "\\end{verbatim}\n",
       "For a matrix of matrices, the individual blocks are recursively operated on:\n",
       "\n",
       "\\begin{verbatim}\n",
       "julia> C = [1 3; 2 4]\n",
       "2×2 Matrix{Int64}:\n",
       " 1  3\n",
       " 2  4\n",
       "\n",
       "julia> D = reshape([C, 2C, 3C, 4C], 2, 2) # construct a block matrix\n",
       "2×2 Matrix{Matrix{Int64}}:\n",
       " [1 3; 2 4]  [3 9; 6 12]\n",
       " [2 6; 4 8]  [4 12; 8 16]\n",
       "\n",
       "julia> transpose(D) # blocks are recursively transposed\n",
       "2×2 transpose(::Matrix{Matrix{Int64}}) with eltype Transpose{Int64, Matrix{Int64}}:\n",
       " [1 2; 3 4]   [2 4; 6 8]\n",
       " [3 6; 9 12]  [4 8; 12 16]\n",
       "\\end{verbatim}\n",
       "\\rule{\\textwidth}{1pt}\n",
       "\\begin{verbatim}\n",
       "transpose(F::Factorization)\n",
       "\\end{verbatim}\n",
       "Lazy transpose of the factorization \\texttt{F}. By default, returns a \\href{@ref}{\\texttt{TransposeFactorization}}, except for \\texttt{Factorization}s with real \\texttt{eltype}, in which case returns an \\href{@ref}{\\texttt{AdjointFactorization}}.\n",
       "\n"
      ],
      "text/markdown": [
       "```\n",
       "transpose(A)\n",
       "```\n",
       "\n",
       "Lazy transpose. Mutating the returned object should appropriately mutate `A`. Often, but not always, yields `Transpose(A)`, where `Transpose` is a lazy transpose wrapper. Note that this operation is recursive.\n",
       "\n",
       "This operation is intended for linear algebra usage - for general data manipulation see [`permutedims`](@ref Base.permutedims), which is non-recursive.\n",
       "\n",
       "# Examples\n",
       "\n",
       "```jldoctest\n",
       "julia> A = [3 2; 0 0]\n",
       "2×2 Matrix{Int64}:\n",
       " 3  2\n",
       " 0  0\n",
       "\n",
       "julia> B = transpose(A)\n",
       "2×2 transpose(::Matrix{Int64}) with eltype Int64:\n",
       " 3  0\n",
       " 2  0\n",
       "\n",
       "julia> B isa Transpose\n",
       "true\n",
       "\n",
       "julia> transpose(B) === A # the transpose of a transpose unwraps the parent\n",
       "true\n",
       "\n",
       "julia> Transpose(B) # however, the constructor always wraps its argument\n",
       "2×2 transpose(transpose(::Matrix{Int64})) with eltype Int64:\n",
       " 3  2\n",
       " 0  0\n",
       "\n",
       "julia> B[1,2] = 4; # modifying B will modify A automatically\n",
       "\n",
       "julia> A\n",
       "2×2 Matrix{Int64}:\n",
       " 3  2\n",
       " 4  0\n",
       "```\n",
       "\n",
       "For complex matrices, the `adjoint` operation is equivalent to a conjugate-transpose.\n",
       "\n",
       "```jldoctest\n",
       "julia> A = reshape([Complex(x, x) for x in 1:4], 2, 2)\n",
       "2×2 Matrix{Complex{Int64}}:\n",
       " 1+1im  3+3im\n",
       " 2+2im  4+4im\n",
       "\n",
       "julia> adjoint(A) == conj(transpose(A))\n",
       "true\n",
       "```\n",
       "\n",
       "The `transpose` of an `AbstractVector` is a row-vector:\n",
       "\n",
       "```jldoctest\n",
       "julia> v = [1,2,3]\n",
       "3-element Vector{Int64}:\n",
       " 1\n",
       " 2\n",
       " 3\n",
       "\n",
       "julia> transpose(v) # returns a row-vector\n",
       "1×3 transpose(::Vector{Int64}) with eltype Int64:\n",
       " 1  2  3\n",
       "\n",
       "julia> transpose(v) * v # compute the dot product\n",
       "14\n",
       "```\n",
       "\n",
       "For a matrix of matrices, the individual blocks are recursively operated on:\n",
       "\n",
       "```jldoctest\n",
       "julia> C = [1 3; 2 4]\n",
       "2×2 Matrix{Int64}:\n",
       " 1  3\n",
       " 2  4\n",
       "\n",
       "julia> D = reshape([C, 2C, 3C, 4C], 2, 2) # construct a block matrix\n",
       "2×2 Matrix{Matrix{Int64}}:\n",
       " [1 3; 2 4]  [3 9; 6 12]\n",
       " [2 6; 4 8]  [4 12; 8 16]\n",
       "\n",
       "julia> transpose(D) # blocks are recursively transposed\n",
       "2×2 transpose(::Matrix{Matrix{Int64}}) with eltype Transpose{Int64, Matrix{Int64}}:\n",
       " [1 2; 3 4]   [2 4; 6 8]\n",
       " [3 6; 9 12]  [4 8; 12 16]\n",
       "```\n",
       "\n",
       "---\n",
       "\n",
       "```\n",
       "transpose(F::Factorization)\n",
       "```\n",
       "\n",
       "Lazy transpose of the factorization `F`. By default, returns a [`TransposeFactorization`](@ref), except for `Factorization`s with real `eltype`, in which case returns an [`AdjointFactorization`](@ref).\n"
      ],
      "text/plain": [
       "\u001b[36m  transpose(A)\u001b[39m\n",
       "\n",
       "  Lazy transpose. Mutating the returned object should appropriately mutate \u001b[36mA\u001b[39m.\n",
       "  Often, but not always, yields \u001b[36mTranspose(A)\u001b[39m, where \u001b[36mTranspose\u001b[39m is a lazy\n",
       "  transpose wrapper. Note that this operation is recursive.\n",
       "\n",
       "  This operation is intended for linear algebra usage - for general data\n",
       "  manipulation see \u001b[36mpermutedims\u001b[39m, which is non-recursive.\n",
       "\n",
       "\u001b[1m  Examples\u001b[22m\n",
       "\u001b[1m  ≡≡≡≡≡≡≡≡\u001b[22m\n",
       "\n",
       "\u001b[36m  julia> A = [3 2; 0 0]\u001b[39m\n",
       "\u001b[36m  2×2 Matrix{Int64}:\u001b[39m\n",
       "\u001b[36m   3  2\u001b[39m\n",
       "\u001b[36m   0  0\u001b[39m\n",
       "\u001b[36m  \u001b[39m\n",
       "\u001b[36m  julia> B = transpose(A)\u001b[39m\n",
       "\u001b[36m  2×2 transpose(::Matrix{Int64}) with eltype Int64:\u001b[39m\n",
       "\u001b[36m   3  0\u001b[39m\n",
       "\u001b[36m   2  0\u001b[39m\n",
       "\u001b[36m  \u001b[39m\n",
       "\u001b[36m  julia> B isa Transpose\u001b[39m\n",
       "\u001b[36m  true\u001b[39m\n",
       "\u001b[36m  \u001b[39m\n",
       "\u001b[36m  julia> transpose(B) === A # the transpose of a transpose unwraps the parent\u001b[39m\n",
       "\u001b[36m  true\u001b[39m\n",
       "\u001b[36m  \u001b[39m\n",
       "\u001b[36m  julia> Transpose(B) # however, the constructor always wraps its argument\u001b[39m\n",
       "\u001b[36m  2×2 transpose(transpose(::Matrix{Int64})) with eltype Int64:\u001b[39m\n",
       "\u001b[36m   3  2\u001b[39m\n",
       "\u001b[36m   0  0\u001b[39m\n",
       "\u001b[36m  \u001b[39m\n",
       "\u001b[36m  julia> B[1,2] = 4; # modifying B will modify A automatically\u001b[39m\n",
       "\u001b[36m  \u001b[39m\n",
       "\u001b[36m  julia> A\u001b[39m\n",
       "\u001b[36m  2×2 Matrix{Int64}:\u001b[39m\n",
       "\u001b[36m   3  2\u001b[39m\n",
       "\u001b[36m   4  0\u001b[39m\n",
       "\n",
       "  For complex matrices, the \u001b[36madjoint\u001b[39m operation is equivalent to a\n",
       "  conjugate-transpose.\n",
       "\n",
       "\u001b[36m  julia> A = reshape([Complex(x, x) for x in 1:4], 2, 2)\u001b[39m\n",
       "\u001b[36m  2×2 Matrix{Complex{Int64}}:\u001b[39m\n",
       "\u001b[36m   1+1im  3+3im\u001b[39m\n",
       "\u001b[36m   2+2im  4+4im\u001b[39m\n",
       "\u001b[36m  \u001b[39m\n",
       "\u001b[36m  julia> adjoint(A) == conj(transpose(A))\u001b[39m\n",
       "\u001b[36m  true\u001b[39m\n",
       "\n",
       "  The \u001b[36mtranspose\u001b[39m of an \u001b[36mAbstractVector\u001b[39m is a row-vector:\n",
       "\n",
       "\u001b[36m  julia> v = [1,2,3]\u001b[39m\n",
       "\u001b[36m  3-element Vector{Int64}:\u001b[39m\n",
       "\u001b[36m   1\u001b[39m\n",
       "\u001b[36m   2\u001b[39m\n",
       "\u001b[36m   3\u001b[39m\n",
       "\u001b[36m  \u001b[39m\n",
       "\u001b[36m  julia> transpose(v) # returns a row-vector\u001b[39m\n",
       "\u001b[36m  1×3 transpose(::Vector{Int64}) with eltype Int64:\u001b[39m\n",
       "\u001b[36m   1  2  3\u001b[39m\n",
       "\u001b[36m  \u001b[39m\n",
       "\u001b[36m  julia> transpose(v) * v # compute the dot product\u001b[39m\n",
       "\u001b[36m  14\u001b[39m\n",
       "\n",
       "  For a matrix of matrices, the individual blocks are recursively operated on:\n",
       "\n",
       "\u001b[36m  julia> C = [1 3; 2 4]\u001b[39m\n",
       "\u001b[36m  2×2 Matrix{Int64}:\u001b[39m\n",
       "\u001b[36m   1  3\u001b[39m\n",
       "\u001b[36m   2  4\u001b[39m\n",
       "\u001b[36m  \u001b[39m\n",
       "\u001b[36m  julia> D = reshape([C, 2C, 3C, 4C], 2, 2) # construct a block matrix\u001b[39m\n",
       "\u001b[36m  2×2 Matrix{Matrix{Int64}}:\u001b[39m\n",
       "\u001b[36m   [1 3; 2 4]  [3 9; 6 12]\u001b[39m\n",
       "\u001b[36m   [2 6; 4 8]  [4 12; 8 16]\u001b[39m\n",
       "\u001b[36m  \u001b[39m\n",
       "\u001b[36m  julia> transpose(D) # blocks are recursively transposed\u001b[39m\n",
       "\u001b[36m  2×2 transpose(::Matrix{Matrix{Int64}}) with eltype Transpose{Int64, Matrix{Int64}}:\u001b[39m\n",
       "\u001b[36m   [1 2; 3 4]   [2 4; 6 8]\u001b[39m\n",
       "\u001b[36m   [3 6; 9 12]  [4 8; 12 16]\u001b[39m\n",
       "\n",
       "  ────────────────────────────────────────────────────────────────────────────\n",
       "\n",
       "\u001b[36m  transpose(F::Factorization)\u001b[39m\n",
       "\n",
       "  Lazy transpose of the factorization \u001b[36mF\u001b[39m. By default, returns a\n",
       "  \u001b[36mTransposeFactorization\u001b[39m, except for \u001b[36mFactorization\u001b[39ms with real \u001b[36meltype\u001b[39m, in which\n",
       "  case returns an \u001b[36mAdjointFactorization\u001b[39m."
      ]
     },
     "execution_count": 192,
     "metadata": {},
     "output_type": "execute_result"
    }
   ],
   "source": [
    "function d1kinetic_dphistar_dphi(phi,V,eta)\n",
    "    n=length(phi)\n",
    "    norm=(phi)'*(phi)/n\n",
    "    result=2*(kinetic(phi,V,eta)/(norm*n)^2)*phi*(phi')\n",
    "    for j in 1:n\n",
    "        result[[j,j]]+=2*(kinetic(phi,V,eta)/(norm*n)^2) -2/n\n",
    "    end\n",
    "    for j in 1:n-1\n",
    "        result[[j,j+1]]+=1/n\n",
    "        result[[j+1,j]]+=1/n\n",
    "    end\n",
    "    result\n",
    "end"
   ]
  },
  {
   "cell_type": "code",
   "execution_count": null,
   "id": "ecd3e623-5574-4b87-b7d4-c37e8c1d8fd5",
   "metadata": {},
   "outputs": [],
   "source": [
    "function dbarekin_dphistar1_update!(result,phi,scale)\n",
    "    n=length(phi)\n",
    "    result[n]+=(2*n*phi[n]-n*phi[1])*scale\n",
    "    result[1]+=-n*phi[n]*scale\n",
    "    for i in 1:n-1 #interior points\n",
    "        result[i]+=2*n*phi[i]*scale\n",
    "        result[i]+=-n*phi[i+1]*scale\n",
    "        result[i+1]+=-n*phi[i]*scale\n",
    "    end\n",
    "    return result\n",
    "end"
   ]
  }
 ],
 "metadata": {
  "kernelspec": {
   "display_name": "Julia 1.10.4",
   "language": "julia",
   "name": "julia-1.10"
  },
  "language_info": {
   "file_extension": ".jl",
   "mimetype": "application/julia",
   "name": "julia",
   "version": "1.10.4"
  }
 },
 "nbformat": 4,
 "nbformat_minor": 5
}
