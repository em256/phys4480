{
 "cells": [
  {
   "cell_type": "markdown",
   "id": "db949990-5fc7-4826-b4bd-323dc6957747",
   "metadata": {},
   "source": [
    "# Lab -- Animating the Duffing Oscillator"
   ]
  },
  {
   "cell_type": "markdown",
   "id": "1447d112-32a8-4d1c-b23c-cc8f9b6ff4fb",
   "metadata": {},
   "source": [
    "**Please write your name in this box**"
   ]
  },
  {
   "cell_type": "markdown",
   "id": "95f01f00-715f-419a-b764-053461b08478",
   "metadata": {},
   "source": []
  },
  {
   "cell_type": "markdown",
   "id": "412ab45f-b532-4f66-b9ee-4cecdf012975",
   "metadata": {},
   "source": [
    "*We encourage you to work together, and seek whatever help you need in completing this lab.  Please list all people who you worked with or received help from*"
   ]
  },
  {
   "cell_type": "markdown",
   "id": "5de09c25-13e2-4782-968a-ceb3b66af3af",
   "metadata": {},
   "source": []
  },
  {
   "cell_type": "markdown",
   "id": "893aacf8-9f29-498d-9652-1004b0b79fcc",
   "metadata": {},
   "source": [
    "*We encourage you to use any online resources that you find useful. Please list any URL's that you consulted*"
   ]
  },
  {
   "cell_type": "markdown",
   "id": "bf1758ba-ca80-4588-b6bc-0392b9bd3688",
   "metadata": {},
   "source": []
  },
  {
   "cell_type": "markdown",
   "id": "d43d4969-349c-41e1-a4e9-bcba9b1a647c",
   "metadata": {},
   "source": [
    "*We encourage you to use AI resources if you find them useful.  If you made use of AI, please list the platform and the prompts which you made use of*"
   ]
  },
  {
   "cell_type": "markdown",
   "id": "8b0df1dc-547e-4c33-a07e-7b130c706ac2",
   "metadata": {},
   "source": [
    "## Setup"
   ]
  },
  {
   "cell_type": "markdown",
   "id": "ab35eb4d-9ae7-47b2-8542-34f5fa21d8da",
   "metadata": {},
   "source": [
    "In the last lab you explored the behavior of a chaotic driven nonlinear oscillator.  Here you are going to use `GLMakie` to create a live animation that shows the phase space position of the oscillator as a function of time.  It will have a Graphical User Interface (GUI) which will have a slider to adjust the frequency and amplitude of the drive.  It will also have the ability to click on the graphic to set the phase-space position of the oscillator."
   ]
  },
  {
   "cell_type": "markdown",
   "id": "b2762ced-ad11-4498-b89a-618a8df29a4c",
   "metadata": {},
   "source": [
    "The Duffing oscillator is defined by"
   ]
  },
  {
   "cell_type": "markdown",
   "id": "dd265f45-735d-4e59-b3bd-3ddf6d3f697d",
   "metadata": {},
   "source": [
    "\\begin{align}\n",
    "\\frac{dx}{dt}&=v\\\\\n",
    "\\frac{dv}{dt}&=-2\\gamma v-\\alpha x-\\beta x^3 +F \\cos(\\omega t).\n",
    "\\end{align}"
   ]
  },
  {
   "cell_type": "markdown",
   "id": "fd427969-ca5e-4e20-ae44-59c0454e87d4",
   "metadata": {},
   "source": [
    "Note, you will do a lot of copying and pasting in this Lab.  I recommend either having a text file open to be a repository, or have two copies of this notebook open.  To open a second copy in Jupyterlab, click on **File** and select **New View for Notebook**."
   ]
  },
  {
   "cell_type": "markdown",
   "id": "2fc215df-a025-4abc-9858-936960e50eca",
   "metadata": {},
   "source": [
    "A second useful trick is the **Simple** toggle on the bottom left of Jupyterlab.  If you click on it, your workspace is simplified to a single notebook.  Click on it again, and it expands back to the setup that you had. "
   ]
  },
  {
   "cell_type": "markdown",
   "id": "2e741d18-53f0-4353-9e14-236822715113",
   "metadata": {},
   "source": [
    "<h2 style=\"border: 2px solid #000; border-radius: 10px; padding: 20px; background-color:red; color:white;\" >\n",
    "## Activity 1\n",
    "</h2>"
   ]
  },
  {
   "cell_type": "markdown",
   "id": "4a7de848-ef43-4dd3-9383-cc6c9a907dbc",
   "metadata": {},
   "source": [
    "Load GLMakie"
   ]
  },
  {
   "cell_type": "code",
   "execution_count": null,
   "id": "63ae2caa-18dc-4592-8a60-7bc96229fd72",
   "metadata": {},
   "outputs": [],
   "source": [
    "using GLMakie"
   ]
  },
  {
   "cell_type": "markdown",
   "id": "120adf25-0d79-46c2-8cfa-f4807a555a35",
   "metadata": {},
   "source": [
    "Our first step will be to create an object `duffing` which has the following attributes:\n",
    "\n",
    "    # Basic Scene info\n",
    "    fig # the Makie Figure object\n",
    "    ax # the Makie Axis object\n",
    "    # Time evolution info\n",
    "    u # the phase space position of the oscillator\n",
    "    t # the current time\n",
    "    dt # the step size\n",
    "    step # our stepper -- we will use rk4step as the default\n",
    "    dxdt # the derivitive rule\n",
    "    F # the amplitude of the force\n",
    "    ω # the frequency of the drive\n",
    "    α # parameter \n",
    "    β # parameter \n",
    "    γ # parameter \n",
    "    # UI features\n",
    "    delay # how long to wait between frames\n",
    "    ball # the observable which will be plotted\n",
    "    traj # stores past points for drawing a \"tail\"\n",
    "    ptraj # not used in this lab\n",
    "    sliders # UI elements\n",
    "    run # button to turn on and off animation\n",
    "    isrunning # is simulation running?\n",
    "\n",
    "We will make this a `mutable struct` -- which means that we can change the entries after instantiation.  The bare-bones way to do this is:"
   ]
  },
  {
   "cell_type": "code",
   "execution_count": null,
   "id": "78cacc4c-8bc1-4d3f-99e5-d3d822cbe563",
   "metadata": {},
   "outputs": [],
   "source": [
    "mutable struct duffing\n",
    "    # Basic Scene info\n",
    "    fig # the Makie Figure object\n",
    "    ax # the Makie Axis object\n",
    "    # Time evolution info\n",
    "    xv # the phase space position of the oscillator\n",
    "    t # the current time\n",
    "    dt # the step size\n",
    "    step # our stepper -- we will use rk4step as the default\n",
    "    dxdt # the derivitive rule\n",
    "    p # parameters of the differential equation -- a struct\n",
    "      # with field F,ω,α,β,γ\n",
    "    # UI features\n",
    "    delay # how long to wait between frames\n",
    "    ball # the observable which will be plotted\n",
    "    traj # stores past points for drawing a \"tail\"\n",
    "    ptraj # not used\n",
    "    sliders # named tuple of UI elements to control force and frequency\n",
    "            # Can again use the same struct that we used for p,\n",
    "            # with attributes F,ω,α,β,γ\n",
    "    run # button to turn on and off animation\n",
    "    isrunning # is simulation running?\n",
    "end\n",
    "\n",
    "# Declaring the types of these attributes is optional\n",
    "mutable struct dp\n",
    "    F ::Float64\n",
    "    ω ::Float64\n",
    "    α ::Float64\n",
    "    β ::Float64\n",
    "    γ ::Float64\n",
    "end\n",
    "\n",
    "dp(;F,ω,α,β,γ)=dp(F,ω,α,β,γ)"
   ]
  },
  {
   "cell_type": "markdown",
   "id": "59ff63db-6303-4bba-8c12-5cad73776b48",
   "metadata": {},
   "source": [
    "We need default values for the `step` and the `dxdt`.  Here are the functions, coppied from previous work we did.  I made one small change -- setting them up so they take the parameters as an argument.  This will be useful to us, as we will be changing the parameters on the fly."
   ]
  },
  {
   "cell_type": "code",
   "execution_count": null,
   "id": "c21694c8-14a7-4432-bcd3-87bbbc8dbbed",
   "metadata": {},
   "outputs": [],
   "source": [
    "function rk4step(x,p,dxdt,t,deltat)\n",
    "    k1=dxdt(x,p,t)\n",
    "    k2=dxdt(x+k1*(deltat/2),p,t+deltat/2)\n",
    "    k3=dxdt(x+k2*(deltat/2),p,t+deltat/2)\n",
    "    k4=dxdt(x+k3*deltat,p,t+deltat)\n",
    "    return x+(k1+2*k2+2*k3+k4)*(deltat/6)\n",
    "end\n",
    "\n",
    "function duf_dxvdt(xv,p,t)\n",
    "    x,v = xv\n",
    "    return[v,-2*p.γ*v-p.α*x-p.β*x^3+p.F*cos(p.ω*t)]\n",
    "end"
   ]
  },
  {
   "cell_type": "markdown",
   "id": "15c5753d-2480-4906-be5c-7676f95a7ea9",
   "metadata": {},
   "source": [
    "We now want to make a `constructor`, which is a function with the same name as our struct, which will create the duffing object, doing all of the necessary setup. Lets start with a bare-bones constructor, that just makes the scene and the ball object.  We will just leave the other attributes as empty lists.  We will make better constructors which fill things in as the lab progresses. "
   ]
  },
  {
   "cell_type": "code",
   "execution_count": null,
   "id": "8757c395-c498-44b0-8da4-e284e303d3a6",
   "metadata": {},
   "outputs": [],
   "source": [
    "function duffing(;\n",
    "        xv=[0.5,0.],\n",
    "        p=dp(α=-1.,β=1.,γ=0.1,F=0.,ω=1.),\n",
    "        t=0.,\n",
    "        dt=0.01,\n",
    "        delay=0.001,\n",
    "        step=rk4step,\n",
    "        dxdt=duf_dxvdt)\n",
    "    # Create Figure object\n",
    "    # \n",
    "    # Fill in details\n",
    "    # must define `fig` and `ax`\n",
    "    #\n",
    "    xlims!(ax,-2,2) # set x axis range\n",
    "    ylims!(ax,-2,2) # set y axis range\n",
    "    # Create ball object, and add it to scene\n",
    "    #\n",
    "    # Fill in details\n",
    "    # must define `ball`\n",
    "    # this should be a Makie `observable`\n",
    "    # it can be added to plot with `scatter!`\n",
    "    # set its location to be the same as `xv`\n",
    "    #\n",
    "    d= duffing(\n",
    "        fig #= the Makie Figure object that you created=#,\n",
    "        ax #= the Makie Axis object that you created=#,\n",
    "        xv #= initial conditions passed from constructor=#,\n",
    "        t #= the current time passed from constructor=#,\n",
    "        dt #= the step size passed from constructor=#,\n",
    "        step #= our stepper passed from constructor=#,\n",
    "        dxdt #= the derivitive rule passed from constructor=#,\n",
    "        p #= passed from constructor=#,\n",
    "        delay #= passed from constructor=#,\n",
    "        ball #= the observable that you created =#,\n",
    "        [] #=traj -- empty list =#,\n",
    "        [] #=ptraj -- empty list =#,\n",
    "        [] #=sliders -- empty list =#,\n",
    "        [] #=run -- empty list =#,\n",
    "        [] #=isrunning=#)\n",
    "end"
   ]
  },
  {
   "cell_type": "markdown",
   "id": "a33d501d-11e6-4bba-821f-4e9921168f0d",
   "metadata": {},
   "source": [
    "Test to see if it generates a window with a single \"ball\" shown."
   ]
  },
  {
   "cell_type": "code",
   "execution_count": null,
   "id": "25519109-54c0-4dd1-be4d-29371f7c4a32",
   "metadata": {},
   "outputs": [],
   "source": [
    "d1=duffing()"
   ]
  },
  {
   "cell_type": "markdown",
   "id": "c1efd6cb-c805-413e-b256-c60a90c4de75",
   "metadata": {},
   "source": [
    "Next, see if you can move the ball around with"
   ]
  },
  {
   "cell_type": "code",
   "execution_count": null,
   "id": "e8007f92-6f79-4396-960c-da3763f5c470",
   "metadata": {},
   "outputs": [],
   "source": [
    "d1.ball[]=Point2f(0.2, 0.3)"
   ]
  },
  {
   "cell_type": "code",
   "execution_count": null,
   "id": "86110acb-8fbf-4e07-b04c-7857950082de",
   "metadata": {},
   "outputs": [],
   "source": []
  },
  {
   "cell_type": "code",
   "execution_count": null,
   "id": "56a469cd",
   "metadata": {},
   "outputs": [],
   "source": []
  },
  {
   "cell_type": "markdown",
   "id": "224d8a15-cc5b-414b-b1f7-02125bed9279",
   "metadata": {},
   "source": [
    "<h2 style=\"border: 2px solid #000; border-radius: 10px; padding: 20px; background-color:red; color:white;\" >\n",
    "## Activity 2\n",
    "</h2>"
   ]
  },
  {
   "cell_type": "markdown",
   "id": "039ef2a0-9fd1-4fc0-8e05-7416becb794c",
   "metadata": {},
   "source": [
    "We now need a *method* which updates `xv` and the ball object.  This is analogous to the `setangle!` method from the *Animating a Pendulum* lecture.  Test it.  "
   ]
  },
  {
   "cell_type": "code",
   "execution_count": null,
   "id": "894de497-8115-42f2-91d8-74c66933ae4e",
   "metadata": {},
   "outputs": [],
   "source": [
    "function setxv!(d::duffing,xv)\n",
    "    # fill in details\n",
    "    #\n",
    "end"
   ]
  },
  {
   "cell_type": "code",
   "execution_count": null,
   "id": "525533a8-92ac-4f43-8ffd-d98911c937b6",
   "metadata": {},
   "outputs": [],
   "source": []
  },
  {
   "cell_type": "markdown",
   "id": "7d6a14f9-82a4-4b53-a6b1-9ca00ed30dc1",
   "metadata": {},
   "source": [
    "<h2 style=\"border: 2px solid #000; border-radius: 10px; padding: 20px; background-color:red; color:white;\" >\n",
    "## Activity 3\n",
    "</h2>"
   ]
  },
  {
   "cell_type": "markdown",
   "id": "92414262-d1da-4847-80bb-cccc01333932",
   "metadata": {},
   "source": [
    "Now we want to modify our object so that we can click on the image to update `xv`.  Copy you constructor from above, and add the necessary code (using the `select_point` function) so that it listens for a mouse click, and does the appropriate updating.  Look in the *Animating the Pendulum* notes.\n",
    "\n",
    "Don't forget to disable the `rectanglezoom` function.  Now might be a good time to add code that sets the x and y axis limits.\n",
    "\n",
    "Note: you want to use the `setxv!` command that you just wrote.  Thus you need to set up the interactive elements after you instantiate the object"
   ]
  },
  {
   "cell_type": "code",
   "execution_count": null,
   "id": "e7fa6039-58a8-474e-a0b9-5f0cdf22018c",
   "metadata": {},
   "outputs": [],
   "source": []
  },
  {
   "cell_type": "code",
   "execution_count": null,
   "id": "1d16f690-3b2a-43ac-8d77-730fbb417242",
   "metadata": {},
   "outputs": [],
   "source": []
  },
  {
   "cell_type": "markdown",
   "id": "49da7ecd-4ced-4470-b035-fd8e7f30e276",
   "metadata": {},
   "source": [
    "<h2 style=\"border: 2px solid #000; border-radius: 10px; padding: 20px; background-color:red; color:white;\" >\n",
    "## Activity 4\n",
    "</h2>"
   ]
  },
  {
   "cell_type": "markdown",
   "id": "6425f353-c30a-4002-92ce-74e6eec2aa86",
   "metadata": {},
   "source": [
    "Now lets try to implement the timestepping.  Make a method `step!` which will use the integrator to take one timestep.  It should call `setxv!` -- it should also update the time.  This is important, because we have a time dependent force."
   ]
  },
  {
   "cell_type": "code",
   "execution_count": null,
   "id": "66f8e488-087f-4b42-a7df-38c9f284bfcf",
   "metadata": {},
   "outputs": [],
   "source": [
    "function step!(d::duffing)\n",
    "    # fill in code\n",
    "    # Careful -- look at the arguments of d.step\n",
    "    # -- they are different from those in the pendulum case\n",
    "end"
   ]
  },
  {
   "cell_type": "markdown",
   "id": "12828d98-9a44-4cbc-b28d-f4536fccfeb6",
   "metadata": {},
   "source": [
    "Debug, and see if it works for single steps."
   ]
  },
  {
   "cell_type": "code",
   "execution_count": null,
   "id": "ce4884d8-ea90-4b68-9880-82d4f17c1264",
   "metadata": {},
   "outputs": [],
   "source": [
    "step!(d1)  # or whatever else you called your instance"
   ]
  },
  {
   "cell_type": "code",
   "execution_count": null,
   "id": "7fdaef88-77a6-43ca-b275-83f25310d2ee",
   "metadata": {},
   "outputs": [],
   "source": []
  },
  {
   "cell_type": "markdown",
   "id": "2b59477e-e9c5-42f4-ae8a-95783eaee980",
   "metadata": {},
   "source": [
    "Then try a whole sequence of steps.  Click on a few points, and then run this loop a few times.  The trajectories should make sense."
   ]
  },
  {
   "cell_type": "code",
   "execution_count": null,
   "id": "3e82cbec-3be3-46b3-8683-85b9bcd351ad",
   "metadata": {},
   "outputs": [],
   "source": [
    "or i in 1:1000\n",
    "    step!(d1)\n",
    "    sleep(d1.delay)\n",
    "end"
   ]
  },
  {
   "cell_type": "code",
   "execution_count": null,
   "id": "18ee726e-468e-446c-8066-a68dfccecb99",
   "metadata": {},
   "outputs": [],
   "source": []
  },
  {
   "cell_type": "code",
   "execution_count": null,
   "id": "3692c542-84a9-4691-9a98-1bb7caeeed09",
   "metadata": {},
   "outputs": [],
   "source": []
  },
  {
   "cell_type": "markdown",
   "id": "aa900a81-7755-4237-922e-eb24543656e5",
   "metadata": {},
   "source": [
    "<h2 style=\"border: 2px solid #000; border-radius: 10px; padding: 20px; background-color:red; color:white;\" >\n",
    "## Activity 5\n",
    "</h2>"
   ]
  },
  {
   "cell_type": "markdown",
   "id": "b816cb5c-f609-48cc-adbe-e349dc8a497b",
   "metadata": {},
   "source": [
    "Now we want to add the run button.  Copy your constructor code to below here.  Add the code necessary to add a *run* button to the `duffing` object.  The key lines are:\n",
    "\n",
    "    isrunning = Observable(false)\n",
    "    label = map(cond -> cond ? \"Stop\" : \"Run\", isrunning)\n",
    "    run = Button(fig[2,1]; label = label, tellwidth = false)\n",
    "    on(run.clicks) do clicks; isrunning[] = !isrunning[]; end\n",
    "    startsim(d)\n",
    "\n",
    "You will also need the `startsim` method\n",
    "\n",
    "    function startsim(p::duffing)\n",
    "        isrunning_notifier = Condition()\n",
    "        on(cond -> cond && notify(isrunning_notifier), p.isrunning)\n",
    "            errormonitor(@async while true\n",
    "            if p.isrunning[]\n",
    "                isopen(p.fig.scene) || break # stops if window is closed\n",
    "                step!(p)\n",
    "                sleep(p.delay) \n",
    "            else\n",
    "                wait(isrunning_notifier)\n",
    "            end\n",
    "        end)\n",
    "    end\n",
    "\n",
    "\n",
    "Note: debugging this can be hard, as the code inside the `@async` block does not throw very good error messages.   (Or any at all.  I think wrapping it in `errormonitor`, as I did, should turn the error messages back on, but I haven't played with it enough to be sure.)  If it doesn't work, your best bet is to ask for some help with debugging, as it is hard to give generic advice here.  Make double-sure that `step!` works properly -- as that is the most likely place where there is a bug.\n",
    "\n",
    "Add this code to your constructor, and store `run` and `isrunning` in your object.\n",
    "\n",
    "Test it out.  Click on different points, and watch the trajectory evolve.  Do the results make sense?  (Keep F=0 so that it is easy to interpret)"
   ]
  },
  {
   "cell_type": "code",
   "execution_count": null,
   "id": "0025c15e-5866-4843-bd5c-623d47565376",
   "metadata": {},
   "outputs": [],
   "source": []
  },
  {
   "cell_type": "code",
   "execution_count": null,
   "id": "beda0b01-f051-4577-bf56-12e69500a328",
   "metadata": {},
   "outputs": [],
   "source": []
  },
  {
   "cell_type": "markdown",
   "id": "0983bbcb-e06d-4605-931a-b0bd281e2c06",
   "metadata": {},
   "source": [
    "<h2 style=\"border: 2px solid #000; border-radius: 10px; padding: 20px; background-color:red; color:white;\" >\n",
    "## Activity 6\n",
    "</h2>"
   ]
  },
  {
   "cell_type": "markdown",
   "id": "f01b8c37-406e-425f-91dc-a24c45e4473e",
   "metadata": {},
   "source": [
    "We now want to add sliders to be able to adjust `F` and `ω`.  Here is an example of how to add sliders to an existing duffing object:"
   ]
  },
  {
   "cell_type": "code",
   "execution_count": null,
   "id": "bd8fa994-03c6-4a36-b51b-4e3e0f053e15",
   "metadata": {},
   "outputs": [],
   "source": [
    "d3=duffing()\n",
    "sg=SliderGrid(d3.fig[1,2],\n",
    "    (label=\"F\",range=0.:0.01:1.,format = \"{:.2f}\",startvalue=0.),\n",
    "    (label=\"ω\",range=0.01:0.01:2,format = \"{:.2f}\",startvalue=1.),\n",
    "    width=200,tellheight=false)"
   ]
  },
  {
   "cell_type": "markdown",
   "id": "1075bef9-b491-4c28-ada6-708cc5bc7137",
   "metadata": {},
   "source": [
    "Those sliders don't do anything yet.  Feel free to drag them around, but it will not make any change to the simulation.\n",
    "\n",
    "We then need to make it so that when the sliders are adjusted, the attributes of the oscillator are updated "
   ]
  },
  {
   "cell_type": "code",
   "execution_count": null,
   "id": "868024e0-fcb9-44b6-aefe-d29d16330fe3",
   "metadata": {},
   "outputs": [],
   "source": [
    "Fobserver=sg.sliders[1].value;\n",
    "ωobserver=sg.sliders[2].value;"
   ]
  },
  {
   "cell_type": "code",
   "execution_count": null,
   "id": "97f0cb86-2400-4c1a-8571-524d9261e066",
   "metadata": {},
   "outputs": [],
   "source": [
    "on(Fobserver) do Fobserver\n",
    "    d3.p.F=Fobserver[]\n",
    "end\n",
    "\n",
    "on(ωobserver) do ωobserver\n",
    "    d3.p.ω=ωobserver[]\n",
    "end"
   ]
  },
  {
   "cell_type": "markdown",
   "id": "4e22a68c-e905-4b83-a0fc-6bd8322aad41",
   "metadata": {},
   "source": [
    "Play with the `F` slider.  If it runs too slow or too fast, you can adjust the speed by changing the timestep \"on the fly\" with something like the following line"
   ]
  },
  {
   "cell_type": "code",
   "execution_count": null,
   "id": "959850ad-9f37-4dfa-87f2-903cb13611c5",
   "metadata": {},
   "outputs": [],
   "source": [
    "d3.dt=0.04"
   ]
  },
  {
   "cell_type": "markdown",
   "id": "ce9c54c3-5c35-4084-a3f1-aebe6a3da276",
   "metadata": {},
   "source": [
    "Again, copy your constructor, and edit it so that it automatically adds the sliders -- and stores them in the object.  Test.  (Note:  You don't need the `d3.p` or `d3.fig`.  Inside the constructor you have direct access to `p` or `fig`.  You do not want `d3` to appear anywhere -- as that is a particular instance of the object, not the one we are creating.) \n",
    "\n",
    "Make sure to **test** your code."
   ]
  },
  {
   "cell_type": "code",
   "execution_count": null,
   "id": "d07e25f0-4ea4-432b-863e-c07389ef807f",
   "metadata": {},
   "outputs": [],
   "source": []
  },
  {
   "cell_type": "code",
   "execution_count": null,
   "id": "5350e7d9-a992-47b5-aa70-1a99ae2d8cb7",
   "metadata": {},
   "outputs": [],
   "source": []
  },
  {
   "cell_type": "markdown",
   "id": "e8488f00-fac8-49cf-a41a-3601c2cbfde2",
   "metadata": {},
   "source": [
    "<h2 style=\"border: 2px solid #000; border-radius: 10px; padding: 20px; background-color:red; color:white;\" >\n",
    "## Activity 7\n",
    "</h2>"
   ]
  },
  {
   "cell_type": "markdown",
   "id": "c88a05ec-c8fd-48c1-8c77-f2165a02aeef",
   "metadata": {},
   "source": [
    "Lets now add the trails.  For this you will need to edit both the constructor, and the `step!` method.  Look up how we did this in *Animating a Pendulum*, and implement it."
   ]
  },
  {
   "cell_type": "code",
   "execution_count": null,
   "id": "f8916a65-c4e9-440d-80d3-863d72d0b041",
   "metadata": {},
   "outputs": [],
   "source": []
  },
  {
   "cell_type": "code",
   "execution_count": null,
   "id": "f115e714-8ed4-4252-9afc-3960e0fd0590",
   "metadata": {},
   "outputs": [],
   "source": []
  },
  {
   "cell_type": "markdown",
   "id": "a11d113c-f3a3-4974-8736-a5867c262198",
   "metadata": {},
   "source": [
    "<h2 style=\"border: 2px solid #000; border-radius: 10px; padding: 20px; background-color:red; color:white;\" >\n",
    "## Activity 8\n",
    "</h2>"
   ]
  },
  {
   "cell_type": "markdown",
   "id": "d0120800-66ba-4844-9d91-a43a13bb633f",
   "metadata": {},
   "source": [
    "Copy your code here, so that in one cell you have the whole stand-alone program.  Restart the kernel and run the cell to make sure it work.  That way if you want to show anyone your simulation, you can just go to this one cell, and not have to run a bunch of different things.\n",
    "\n",
    "Play with your simulator.  \n",
    "\n",
    "Find parameters where you have regular (non-chaotic) trajectories.  Watch the behavior.\n",
    "\n",
    "Find chaotic parameters. Watch the behavior. \n",
    "\n",
    "We will go over this a bit in class, and try to understand what is happening."
   ]
  },
  {
   "cell_type": "code",
   "execution_count": null,
   "id": "25bad7b8-1e05-457d-9b38-f9e464b09bc5",
   "metadata": {},
   "outputs": [],
   "source": []
  },
  {
   "cell_type": "markdown",
   "id": "0af124d5-e569-45b7-b7e0-af073db6cd73",
   "metadata": {},
   "source": [
    "<h2 style=\"border: 2px solid #000; border-radius: 10px; padding: 20px; background-color:red; color:white;\" >\n",
    "## Activity 9: Bonus\n",
    "</h2>"
   ]
  },
  {
   "cell_type": "markdown",
   "id": "b90ef42a-b764-4b3e-b61a-a28260b461ac",
   "metadata": {},
   "source": [
    "This is a bonus activity, that you don't need to do, but is fun.  \n",
    "\n",
    "Modify your code so that it tracks two oscillators.  Make it so that when you click on the graph, one of them gets set to that point, and the other gets set to a slightly offset point.  That way you can observe how close the trajectories stay together.  Make the points and trails different colors.  \n",
    "\n",
    "An even better way to get insite is to not just 2, but $n$ oscillators, where $n$ can be set at instantiation time.  When you click on a point, these get initiated to a ring of points around where you click.  Take $n~1000$ to get an understanding of how chaos works in this system"
   ]
  },
  {
   "cell_type": "code",
   "execution_count": null,
   "id": "7d914a0c-caa3-44ad-95e7-7ee399c6ed24",
   "metadata": {},
   "outputs": [],
   "source": []
  }
 ],
 "metadata": {
  "kernelspec": {
   "display_name": "Julia 1.10.4",
   "language": "julia",
   "name": "julia-1.10"
  },
  "language_info": {
   "file_extension": ".jl",
   "mimetype": "application/julia",
   "name": "julia",
   "version": "1.10.4"
  }
 },
 "nbformat": 4,
 "nbformat_minor": 5
}
